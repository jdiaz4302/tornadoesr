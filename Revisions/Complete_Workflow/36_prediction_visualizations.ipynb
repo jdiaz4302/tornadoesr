{
 "cells": [
  {
   "cell_type": "code",
   "execution_count": 1,
   "metadata": {},
   "outputs": [
    {
     "name": "stderr",
     "output_type": "stream",
     "text": [
      "Loading required package: sp\n"
     ]
    }
   ],
   "source": [
    "library(ggplot2)\n",
    "library(raster)\n",
    "library(directlabels)"
   ]
  },
  {
   "cell_type": "markdown",
   "metadata": {},
   "source": [
    "# Whole U.S."
   ]
  },
  {
   "cell_type": "code",
   "execution_count": 2,
   "metadata": {},
   "outputs": [],
   "source": [
    "grid_df <- read.csv('/home/jeremy/tornadoesr/data/raw/grid_with_predictions.csv')\n",
    "cities_df <- read.csv('/home//jeremy/tornadoesr/data/raw/cities_with_predictions.csv')\n",
    "\n",
    "old_df <- read.csv('/home/jeremy/tornadoesr/data/raw/tor_data_inflation_adj.csv')\n",
    "\n",
    "lat_mu <- mean(old_df$BEGIN_LAT)\n",
    "lon_mu <- mean(old_df$BEGIN_LON)\n",
    "lat_sd <- sd(old_df$BEGIN_LAT)\n",
    "lon_sd <- sd(old_df$BEGIN_LON)\n",
    "\n",
    "grid_df$BEGIN_LON <- grid_df$BEGIN_LON*lon_sd+lon_mu\n",
    "grid_df$BEGIN_LAT <- grid_df$BEGIN_LAT*lat_sd+lat_mu\n",
    "cities_df$BEGIN_LON <- cities_df$BEGIN_LON*lon_sd+lon_mu\n",
    "cities_df$BEGIN_LAT <- cities_df$BEGIN_LAT*lat_sd+lat_mu\n",
    "\n",
    "pred_df <- rbind(grid_df, cities_df)"
   ]
  },
  {
   "cell_type": "code",
   "execution_count": 3,
   "metadata": {},
   "outputs": [
    {
     "data": {
      "text/html": [
       "2"
      ],
      "text/latex": [
       "2"
      ],
      "text/markdown": [
       "2"
      ],
      "text/plain": [
       "[1] 2"
      ]
     },
     "metadata": {},
     "output_type": "display_data"
    }
   ],
   "source": [
    "origin = paste0('2019-01-01')\n",
    "out <- as.Date(pred_df$JULIAN_DAY, origin = origin)\n",
    "months <- substr(as.character(out), start = 6, stop =7)\n",
    "\n",
    "pred_df$MONTH <- months\n",
    "worst_month <- which.max(aggregate(DAMAGE_PROPERTY~MONTH, pred_df, sum)$DAMAGE_PROPERTY)\n",
    "worst_month"
   ]
  },
  {
   "cell_type": "code",
   "execution_count": 4,
   "metadata": {},
   "outputs": [],
   "source": [
    "sub_grid_df <- grid_df[grid_df$JULIAN_DAY == unique(grid_df$JULIAN_DAY)[worst_month], ]\n",
    "sub_cities_df <- cities_df[cities_df$JULIAN_DAY == unique(grid_df$JULIAN_DAY)[worst_month], ]\n",
    "\n",
    "pred_df <- rbind(sub_grid_df, sub_cities_df)"
   ]
  },
  {
   "cell_type": "code",
   "execution_count": 5,
   "metadata": {},
   "outputs": [],
   "source": [
    "states <- map_data(\"state\")"
   ]
  },
  {
   "cell_type": "code",
   "execution_count": 6,
   "metadata": {},
   "outputs": [
    {
     "data": {},
     "metadata": {},
     "output_type": "display_data"
    },
    {
     "data": {
      "text/html": [
       "<strong>png:</strong> 2"
      ],
      "text/latex": [
       "\\textbf{png:} 2"
      ],
      "text/markdown": [
       "**png:** 2"
      ],
      "text/plain": [
       "png \n",
       "  2 "
      ]
     },
     "metadata": {},
     "output_type": "display_data"
    }
   ],
   "source": [
    "png('maps/pred_points_cond.png', height = 8, width = 8, units = 'in', res = 300)\n",
    "ggplot(data = states) + \n",
    "  geom_polygon(aes(x = long, y = lat, group = group), color = \"black\", fill = 'NA', lwd = 0.05) +\n",
    "  viridis::scale_color_viridis('Conditional property\\ndamage',\n",
    "                               direction = -1, option = 'B',\n",
    "                               breaks = c(200000,\n",
    "                                          600000,\n",
    "                                          1000000,\n",
    "                                          1400000,\n",
    "                                          1800000,\n",
    "                                          2200000),\n",
    "                               labels = c('$200,000',\n",
    "                                          '$600,000',\n",
    "                                          '$1,000,000',\n",
    "                                          '$1,400,000',\n",
    "                                          '$1,800,000',\n",
    "                                          '$2,200,000')) + \n",
    "  coord_quickmap() +\n",
    "  guides(fill = FALSE) +\n",
    "  geom_point(data = sub_grid_df, aes(x = BEGIN_LON,\n",
    "                                       y = BEGIN_LAT,\n",
    "                                       color = DAMAGE_PROPERTY),\n",
    "               size = 1) +\n",
    "  geom_point(data = sub_cities_df, aes(x = BEGIN_LON,\n",
    "                                       y = BEGIN_LAT,\n",
    "                                       color = DAMAGE_PROPERTY),\n",
    "               size = 3, pch = 22) +\n",
    "  theme_minimal() +\n",
    "  theme(panel.grid = element_blank(),\n",
    "        axis.title = element_blank(),\n",
    "        axis.text = element_blank(),\n",
    "        axis.ticks = element_blank())\n",
    "dev.off()"
   ]
  },
  {
   "cell_type": "code",
   "execution_count": 7,
   "metadata": {},
   "outputs": [
    {
     "data": {},
     "metadata": {},
     "output_type": "display_data"
    },
    {
     "data": {
      "text/html": [
       "<strong>png:</strong> 2"
      ],
      "text/latex": [
       "\\textbf{png:} 2"
      ],
      "text/markdown": [
       "**png:** 2"
      ],
      "text/plain": [
       "png \n",
       "  2 "
      ]
     },
     "metadata": {},
     "output_type": "display_data"
    }
   ],
   "source": [
    "library(akima)\n",
    "library(reshape2)\n",
    "\n",
    "fld <- with(pred_df, interp(x = BEGIN_LON, y = BEGIN_LAT, z = DAMAGE_PROPERTY, duplicate = TRUE))\n",
    "\n",
    "df <- melt(fld$z, na.rm = TRUE)\n",
    "names(df) <- c(\"x\", \"y\", \"dam\")\n",
    "df$Lon <- fld$x[df$x]\n",
    "df$Lat <- fld$y[df$y]\n",
    "png('maps/pred_interp_cond.png', height = 8, width = 8, units = 'in', res = 300)\n",
    "\n",
    "ggplot(data = states) + \n",
    "  coord_quickmap() +\n",
    "  geom_tile(data = df, aes(x = Lon, y = Lat, fill = dam)) +\n",
    "  geom_polygon(aes(x = long, y = lat, group = group), color = \"black\", fill = 'NA', lwd = 0.5) +\n",
    "  viridis::scale_fill_viridis('Conditional property\\ndamage', direction = -1, option = 'B',\n",
    "                              breaks = c(200000,\n",
    "                                         400000,\n",
    "                                         600000,\n",
    "                                         800000,\n",
    "                                         1000000,\n",
    "                                         1200000,\n",
    "                                         1400000,\n",
    "                                         1600000,\n",
    "                                         1800000),\n",
    "                              labels = c('$200,000', '$400,000', '$600,000', '$800,000', '$1,000,000',\n",
    "                                         '$1,200,000', '$1,400,000', '$1,600,000', '$1,800,000')) +\n",
    "  theme_minimal() +\n",
    "  theme(panel.grid = element_blank(),\n",
    "        axis.title = element_blank(),\n",
    "        axis.text = element_blank(),\n",
    "        axis.ticks = element_blank())\n",
    "dev.off()"
   ]
  },
  {
   "cell_type": "code",
   "execution_count": 8,
   "metadata": {},
   "outputs": [
    {
     "data": {},
     "metadata": {},
     "output_type": "display_data"
    },
    {
     "data": {
      "text/html": [
       "<strong>png:</strong> 2"
      ],
      "text/latex": [
       "\\textbf{png:} 2"
      ],
      "text/markdown": [
       "**png:** 2"
      ],
      "text/plain": [
       "png \n",
       "  2 "
      ]
     },
     "metadata": {},
     "output_type": "display_data"
    }
   ],
   "source": [
    "png('maps/pred_points_bin.png', height = 8, width = 8, units = 'in', res = 300)\n",
    "\n",
    "ggplot(data = states) + \n",
    "  geom_polygon(aes(x = long, y = lat, group = group), color = \"black\", fill = 'NA', lwd = 0.05) +\n",
    "  viridis::scale_color_viridis('Probability\\nof damage', direction = -1, option = 'B',\n",
    "                               breaks = c(0, 0.2, 0.4, 0.6, 0.8, 1)) + \n",
    "  coord_quickmap() +\n",
    "  guides(fill = FALSE) +\n",
    "  geom_point(data = sub_grid_df, aes(x = BEGIN_LON,\n",
    "                                       y = BEGIN_LAT,\n",
    "                                       color = DAMAGE_PROB),\n",
    "               size = 1) +\n",
    "  geom_point(data = sub_cities_df, aes(x = BEGIN_LON,\n",
    "                                       y = BEGIN_LAT,\n",
    "                                       color = DAMAGE_PROB),\n",
    "               size = 3, pch = 22) +\n",
    "  theme_minimal() +\n",
    "  theme(panel.grid = element_blank(),\n",
    "        axis.title = element_blank(),\n",
    "        axis.text = element_blank(),\n",
    "        axis.ticks = element_blank())\n",
    "dev.off()"
   ]
  },
  {
   "cell_type": "code",
   "execution_count": 9,
   "metadata": {},
   "outputs": [
    {
     "data": {},
     "metadata": {},
     "output_type": "display_data"
    },
    {
     "data": {
      "text/html": [
       "<strong>png:</strong> 2"
      ],
      "text/latex": [
       "\\textbf{png:} 2"
      ],
      "text/markdown": [
       "**png:** 2"
      ],
      "text/plain": [
       "png \n",
       "  2 "
      ]
     },
     "metadata": {},
     "output_type": "display_data"
    }
   ],
   "source": [
    "fld <- with(pred_df, interp(x = BEGIN_LON, y = BEGIN_LAT, z = DAMAGE_PROB, duplicate = TRUE))\n",
    "\n",
    "df <- melt(fld$z, na.rm = TRUE)\n",
    "names(df) <- c(\"x\", \"y\", \"dam\")\n",
    "df$Lon <- fld$x[df$x]\n",
    "df$Lat <- fld$y[df$y]\n",
    "png('maps/pred_interp_bin.png', height = 8, width = 8, units = 'in', res = 300)\n",
    "\n",
    "ggplot(data = states) + \n",
    "  coord_quickmap() +\n",
    "  geom_tile(data = df, aes(x = Lon, y = Lat, fill = dam)) +\n",
    "  geom_polygon(aes(x = long, y = lat, group = group), color = \"white\", fill = 'NA', lwd = 0.5) +\n",
    "  viridis::scale_fill_viridis('Probability\\nof damage', direction = -1, option = 'B',\n",
    "                               breaks = c(0, 0.2, 0.4, 0.6, 0.8, 1)) +\n",
    "  theme_minimal() +\n",
    "  theme(panel.grid = element_blank(),\n",
    "        axis.title = element_blank(),\n",
    "        axis.text = element_blank(),\n",
    "        axis.ticks = element_blank())\n",
    "dev.off()"
   ]
  },
  {
   "cell_type": "markdown",
   "metadata": {},
   "source": [
    "# Kansas"
   ]
  },
  {
   "cell_type": "code",
   "execution_count": 10,
   "metadata": {},
   "outputs": [],
   "source": [
    "KS <- subset(states, region %in% c(\"kansas\"))"
   ]
  },
  {
   "cell_type": "code",
   "execution_count": 11,
   "metadata": {},
   "outputs": [
    {
     "data": {
      "text/html": [
       "1"
      ],
      "text/latex": [
       "1"
      ],
      "text/markdown": [
       "1"
      ],
      "text/plain": [
       "[1] 1"
      ]
     },
     "metadata": {},
     "output_type": "display_data"
    }
   ],
   "source": [
    "KS_grid_df <- dplyr::filter(grid_df, (min(KS$lat) - 1) <= BEGIN_LAT &\n",
    "                                          BEGIN_LAT <= (max(KS$lat) + 1))\n",
    "KS_grid_df <- dplyr::filter(KS_grid_df, (min(KS$long) - 1) <= BEGIN_LON &\n",
    "                                         BEGIN_LON <= (max(KS$long) + 1))\n",
    "\n",
    "KS_cities_df <- dplyr::filter(cities_df, (min(KS$lat) - 1) <= BEGIN_LAT &\n",
    "                                          BEGIN_LAT <= (max(KS$lat) + 1))\n",
    "KS_cities_df <- dplyr::filter(KS_cities_df, (min(KS$long) - 1) <= BEGIN_LON &\n",
    "                                         BEGIN_LON <= (max(KS$long) + 1))\n",
    "\n",
    "pred_df <- rbind(KS_grid_df, KS_cities_df)\n",
    "\n",
    "origin = paste0('2019-01-01')\n",
    "out <- as.Date(pred_df$JULIAN_DAY, origin = origin)\n",
    "months <- substr(as.character(out), start = 6, stop =7)\n",
    "\n",
    "pred_df$MONTH <- months\n",
    "worst_month <- which.max(aggregate(DAMAGE_PROPERTY~MONTH, pred_df, sum)$DAMAGE_PROPERTY)\n",
    "worst_month\n",
    "\n",
    "KS_grid_df <- KS_grid_df[KS_grid_df$JULIAN_DAY == unique(KS_grid_df$JULIAN_DAY)[worst_month], ]\n",
    "KS_cities_df <- KS_cities_df[KS_cities_df$JULIAN_DAY == unique(KS_cities_df$JULIAN_DAY)[worst_month], ]\n",
    "\n",
    "KS_pred_df <- rbind(KS_grid_df, KS_cities_df)"
   ]
  },
  {
   "cell_type": "code",
   "execution_count": 12,
   "metadata": {},
   "outputs": [
    {
     "data": {},
     "metadata": {},
     "output_type": "display_data"
    },
    {
     "data": {
      "text/html": [
       "<strong>png:</strong> 2"
      ],
      "text/latex": [
       "\\textbf{png:} 2"
      ],
      "text/markdown": [
       "**png:** 2"
      ],
      "text/plain": [
       "png \n",
       "  2 "
      ]
     },
     "metadata": {},
     "output_type": "display_data"
    }
   ],
   "source": [
    "png('maps/pred_points_cond_KS.png', height = 8, width = 8, units = 'in', res = 300)\n",
    "\n",
    "ggplot(data = KS) + \n",
    "  geom_polygon(aes(x = long, y = lat, group = group), color = \"black\", fill = 'NA', lwd = 0.5) +\n",
    "  viridis::scale_color_viridis('Conditional property\\ndamage',\n",
    "                               breaks = c(#100000,\n",
    "                                          200000,\n",
    "                                          #300000,\n",
    "                                          400000,\n",
    "                                          #500000,\n",
    "                                          600000,\n",
    "                                          #700000,\n",
    "                                          800000,\n",
    "                                          #900000,\n",
    "                                          1000000),\n",
    "                               labels = c(#'$100,000',\n",
    "                                          '$200,000',\n",
    "                                          #'$300,000',\n",
    "                                          '$400,000',\n",
    "                                          #'$500,000',\n",
    "                                          '$600,000',\n",
    "                                          #'$700,000',\n",
    "                                          '$800,000',\n",
    "                                          #'$900,000',\n",
    "                                          '$1,000,000'),\n",
    "                               direction = -1, option = 'B') + \n",
    "  coord_quickmap() +\n",
    "  guides(fill = FALSE) +\n",
    "  geom_point(data = KS_grid_df, aes(x = BEGIN_LON,\n",
    "                                       y = BEGIN_LAT,\n",
    "                                       color = DAMAGE_PROPERTY),\n",
    "               size = 5) +\n",
    "  geom_point(data = KS_cities_df, aes(x = BEGIN_LON,\n",
    "                                       y = BEGIN_LAT,\n",
    "                                       color = DAMAGE_PROPERTY),\n",
    "               size = 8, pch = 22, stroke = 2) +\n",
    "  theme_minimal() +\n",
    "  theme(panel.grid = element_blank(),\n",
    "        axis.title = element_blank(),\n",
    "        axis.text = element_blank(),\n",
    "        axis.ticks = element_blank()) +\n",
    "  labs(title = 'Kansas')\n",
    "dev.off()"
   ]
  },
  {
   "cell_type": "code",
   "execution_count": 13,
   "metadata": {},
   "outputs": [
    {
     "data": {},
     "metadata": {},
     "output_type": "display_data"
    },
    {
     "data": {
      "text/html": [
       "<strong>png:</strong> 2"
      ],
      "text/latex": [
       "\\textbf{png:} 2"
      ],
      "text/markdown": [
       "**png:** 2"
      ],
      "text/plain": [
       "png \n",
       "  2 "
      ]
     },
     "metadata": {},
     "output_type": "display_data"
    }
   ],
   "source": [
    "fld <- with(KS_pred_df, interp(x = BEGIN_LON, y = BEGIN_LAT, z = DAMAGE_PROPERTY, duplicate = TRUE))\n",
    "\n",
    "df <- melt(fld$z, na.rm = TRUE)\n",
    "names(df) <- c(\"x\", \"y\", \"dam\")\n",
    "df$Lon <- fld$x[df$x]\n",
    "df$Lat <- fld$y[df$y]\n",
    "png('maps/pred_interp_cond_KS.png', height = 8, width = 8, units = 'in', res = 300)\n",
    "\n",
    "ggplot(data = KS) + \n",
    "  coord_quickmap() +\n",
    "  geom_tile(data = df, aes(x = Lon, y = Lat, fill = dam)) +\n",
    "  geom_polygon(aes(x = long, y = lat, group = group), color = \"black\", fill = 'NA', lwd = 1) +\n",
    "  viridis::scale_fill_viridis('Conditional property\\ndamage',\n",
    "                               breaks = c(#100000,\n",
    "                                          200000,\n",
    "                                          #300000,\n",
    "                                          400000,\n",
    "                                          #500000,\n",
    "                                          600000,\n",
    "                                          #700000,\n",
    "                                          800000,\n",
    "                                          #900000,\n",
    "                                          1000000),\n",
    "                               labels = c(#'$100,000',\n",
    "                                          '$200,000',\n",
    "                                          #'$300,000',\n",
    "                                          '$400,000',\n",
    "                                          #'$500,000',\n",
    "                                          '$600,000',\n",
    "                                          #'$700,000',\n",
    "                                          '$800,000',\n",
    "                                          #'$900,000',\n",
    "                                          '$1,000,000'),\n",
    "                               direction = -1, option = 'B') +\n",
    "  theme_minimal() +\n",
    "  theme(panel.grid = element_blank(),\n",
    "        axis.title = element_blank(),\n",
    "        axis.text = element_blank(),\n",
    "        axis.ticks = element_blank()) +\n",
    "  xlim(min(KS$long) - 1, max(KS$long) + 1) +\n",
    "  ylim(min(KS$lat) - 1, max(KS$lat) + 1) +\n",
    "  labs(title = 'Kansas')\n",
    "dev.off()"
   ]
  },
  {
   "cell_type": "code",
   "execution_count": 14,
   "metadata": {},
   "outputs": [
    {
     "data": {},
     "metadata": {},
     "output_type": "display_data"
    },
    {
     "data": {
      "text/html": [
       "<strong>png:</strong> 2"
      ],
      "text/latex": [
       "\\textbf{png:} 2"
      ],
      "text/markdown": [
       "**png:** 2"
      ],
      "text/plain": [
       "png \n",
       "  2 "
      ]
     },
     "metadata": {},
     "output_type": "display_data"
    }
   ],
   "source": [
    "png('maps/pred_points_bin_KS.png', height = 8, width = 8, units = 'in', res = 300)\n",
    "ggplot(data = KS) + \n",
    "  geom_polygon(aes(x = long, y = lat, group = group), color = \"black\", fill = 'NA', lwd = 0.5) +\n",
    "  viridis::scale_color_viridis('Probability\\nof damage', direction = -1, option = 'B',\n",
    "                               breaks = c(0, 0.2, 0.4, 0.6, 0.8, 1)) + \n",
    "  coord_quickmap() +\n",
    "  guides(fill = FALSE) +\n",
    "  geom_point(data = KS_grid_df, aes(x = BEGIN_LON,\n",
    "                                       y = BEGIN_LAT,\n",
    "                                       color = DAMAGE_PROB),\n",
    "               size = 5) +\n",
    "  geom_point(data = KS_cities_df, aes(x = BEGIN_LON,\n",
    "                                       y = BEGIN_LAT,\n",
    "                                       color = DAMAGE_PROB),\n",
    "               size = 8, pch = 22, stroke = 2) +\n",
    "  theme_minimal() +\n",
    "  theme(panel.grid = element_blank(),\n",
    "        axis.title = element_blank(),\n",
    "        axis.text = element_blank(),\n",
    "        axis.ticks = element_blank()) +\n",
    "  labs(title = 'Kansas')\n",
    "dev.off()"
   ]
  },
  {
   "cell_type": "code",
   "execution_count": 15,
   "metadata": {},
   "outputs": [
    {
     "data": {},
     "metadata": {},
     "output_type": "display_data"
    },
    {
     "data": {
      "text/html": [
       "<strong>png:</strong> 2"
      ],
      "text/latex": [
       "\\textbf{png:} 2"
      ],
      "text/markdown": [
       "**png:** 2"
      ],
      "text/plain": [
       "png \n",
       "  2 "
      ]
     },
     "metadata": {},
     "output_type": "display_data"
    }
   ],
   "source": [
    "fld <- with(KS_pred_df, interp(x = BEGIN_LON, y = BEGIN_LAT, z = DAMAGE_PROB, duplicate = TRUE))\n",
    "\n",
    "df <- melt(fld$z, na.rm = TRUE)\n",
    "names(df) <- c(\"x\", \"y\", \"dam\")\n",
    "df$Lon <- fld$x[df$x]\n",
    "df$Lat <- fld$y[df$y]\n",
    "png('maps/pred_interp_bin_KS.png', height = 8, width = 8, units = 'in', res = 300)\n",
    "\n",
    "ggplot(data = KS) + \n",
    "  coord_quickmap() +\n",
    "  geom_tile(data = df, aes(x = Lon, y = Lat, fill = dam)) +\n",
    "  geom_polygon(aes(x = long, y = lat, group = group), color = \"white\", fill = 'NA', lwd = 1) +\n",
    "  viridis::scale_fill_viridis('Probability\\nof damage', direction = -1, option = 'B',\n",
    "                               breaks = c(0, 0.2, 0.4, 0.6, 0.8, 1)) +\n",
    "  theme_minimal() +\n",
    "  theme(panel.grid = element_blank(),\n",
    "        axis.title = element_blank(),\n",
    "        axis.text = element_blank(),\n",
    "        axis.ticks = element_blank()) +\n",
    "  xlim(min(KS$long) - 1, max(KS$long) + 1) +\n",
    "  ylim(min(KS$lat) - 1, max(KS$lat) + 1) +\n",
    "  labs(title = 'Kansas')\n",
    "dev.off()"
   ]
  },
  {
   "cell_type": "markdown",
   "metadata": {},
   "source": [
    "# Illinois"
   ]
  },
  {
   "cell_type": "code",
   "execution_count": 16,
   "metadata": {},
   "outputs": [],
   "source": [
    "IL <- subset(states, region %in% c(\"illinois\"))"
   ]
  },
  {
   "cell_type": "code",
   "execution_count": 17,
   "metadata": {},
   "outputs": [
    {
     "data": {
      "text/html": [
       "1"
      ],
      "text/latex": [
       "1"
      ],
      "text/markdown": [
       "1"
      ],
      "text/plain": [
       "[1] 1"
      ]
     },
     "metadata": {},
     "output_type": "display_data"
    }
   ],
   "source": [
    "IL_grid_df <- dplyr::filter(grid_df, (min(IL$lat) - 1) <= BEGIN_LAT &\n",
    "                                          BEGIN_LAT <= (max(IL$lat) + 1))\n",
    "IL_grid_df <- dplyr::filter(IL_grid_df, (min(IL$long) - 1) <= BEGIN_LON &\n",
    "                                         BEGIN_LON <= (max(IL$long) + 1))\n",
    "\n",
    "IL_cities_df <- dplyr::filter(cities_df, (min(IL$lat) - 1) <= BEGIN_LAT &\n",
    "                                          BEGIN_LAT <= (max(IL$lat) + 1))\n",
    "IL_cities_df <- dplyr::filter(IL_cities_df, (min(IL$long) - 1) <= BEGIN_LON &\n",
    "                                         BEGIN_LON <= (max(IL$long) + 1))\n",
    "\n",
    "pred_df <- rbind(IL_grid_df, IL_cities_df)\n",
    "origin = paste0('2019-01-01')\n",
    "out <- as.Date(pred_df$JULIAN_DAY, origin = origin)\n",
    "months <- substr(as.character(out), start = 6, stop =7)\n",
    "\n",
    "pred_df$MONTH <- months\n",
    "worst_month <- which.max(aggregate(DAMAGE_PROPERTY~MONTH, pred_df, sum)$DAMAGE_PROPERTY)\n",
    "worst_month\n",
    "\n",
    "IL_grid_df <- IL_grid_df[IL_grid_df$JULIAN_DAY == unique(IL_grid_df$JULIAN_DAY)[worst_month], ]\n",
    "IL_cities_df <- IL_cities_df[IL_cities_df$JULIAN_DAY == unique(IL_cities_df$JULIAN_DAY)[worst_month], ]\n",
    "\n",
    "IL_pred_df <- rbind(IL_grid_df, IL_cities_df)"
   ]
  },
  {
   "cell_type": "code",
   "execution_count": 18,
   "metadata": {},
   "outputs": [
    {
     "data": {},
     "metadata": {},
     "output_type": "display_data"
    },
    {
     "data": {
      "text/html": [
       "<strong>png:</strong> 2"
      ],
      "text/latex": [
       "\\textbf{png:} 2"
      ],
      "text/markdown": [
       "**png:** 2"
      ],
      "text/plain": [
       "png \n",
       "  2 "
      ]
     },
     "metadata": {},
     "output_type": "display_data"
    }
   ],
   "source": [
    "png('maps/pred_points_cond_IL.png', height = 8, width = 8, units = 'in', res = 300)\n",
    "ggplot(data = IL) + \n",
    "  geom_polygon(aes(x = long, y = lat, group = group), color = \"black\", fill = 'NA', lwd = 0.5) +\n",
    "  viridis::scale_color_viridis('Conditional property\\ndamage',\n",
    "                               breaks = c(#100000,\n",
    "                                          200000,\n",
    "                                          #300000,\n",
    "                                          400000,\n",
    "                                          #500000,\n",
    "                                          600000,\n",
    "                                          #700000,\n",
    "                                          800000,\n",
    "                                          #900000,\n",
    "                                          1000000),\n",
    "                               labels = c(#'$100,000',\n",
    "                                          '$200,000',\n",
    "                                          #'$300,000',\n",
    "                                          '$400,000',\n",
    "                                          #'$500,000',\n",
    "                                          '$600,000',\n",
    "                                          #'$700,000',\n",
    "                                          '$800,000',\n",
    "                                          #'$900,000',\n",
    "                                          '$1,000,000'),\n",
    "                               direction = -1, option = 'B') + \n",
    "  coord_quickmap() +\n",
    "  guides(fill = FALSE) +\n",
    "  geom_point(data = IL_grid_df, aes(x = BEGIN_LON,\n",
    "                                       y = BEGIN_LAT,\n",
    "                                       color = DAMAGE_PROPERTY),\n",
    "               size = 5) +\n",
    "  geom_point(data = IL_cities_df, aes(x = BEGIN_LON,\n",
    "                                       y = BEGIN_LAT,\n",
    "                                       color = DAMAGE_PROPERTY),\n",
    "               size = 8, pch = 22, stroke = 2) +\n",
    "  theme_minimal() +\n",
    "  theme(panel.grid = element_blank(),\n",
    "        axis.title = element_blank(),\n",
    "        axis.text = element_blank(),\n",
    "        axis.ticks = element_blank()) +\n",
    "  labs(title = 'Illinois')\n",
    "dev.off()"
   ]
  },
  {
   "cell_type": "code",
   "execution_count": 19,
   "metadata": {},
   "outputs": [
    {
     "data": {},
     "metadata": {},
     "output_type": "display_data"
    },
    {
     "data": {
      "text/html": [
       "<strong>png:</strong> 2"
      ],
      "text/latex": [
       "\\textbf{png:} 2"
      ],
      "text/markdown": [
       "**png:** 2"
      ],
      "text/plain": [
       "png \n",
       "  2 "
      ]
     },
     "metadata": {},
     "output_type": "display_data"
    }
   ],
   "source": [
    "fld <- with(IL_pred_df, interp(x = BEGIN_LON, y = BEGIN_LAT, z = DAMAGE_PROPERTY, duplicate = TRUE))\n",
    "\n",
    "df <- melt(fld$z, na.rm = TRUE)\n",
    "names(df) <- c(\"x\", \"y\", \"dam\")\n",
    "df$Lon <- fld$x[df$x]\n",
    "df$Lat <- fld$y[df$y]\n",
    "png('maps/pred_interp_cond_IL.png', height = 8, width = 8, units = 'in', res = 300)\n",
    "\n",
    "ggplot(data = IL) + \n",
    "  coord_quickmap() +\n",
    "  geom_tile(data = df, aes(x = Lon, y = Lat, fill = dam)) +\n",
    "  geom_polygon(aes(x = long, y = lat, group = group), color = \"black\", fill = 'NA', lwd = 1) +\n",
    "  viridis::scale_fill_viridis('Conditional property\\ndamage',\n",
    "                               breaks = c(#100000,\n",
    "                                          200000,\n",
    "                                          #300000,\n",
    "                                          400000,\n",
    "                                          #500000,\n",
    "                                          600000,\n",
    "                                          #700000,\n",
    "                                          800000,\n",
    "                                          #900000,\n",
    "                                          1000000),\n",
    "                               labels = c(#'$100,000',\n",
    "                                          '$200,000',\n",
    "                                          #'$300,000',\n",
    "                                          '$400,000',\n",
    "                                          #'$500,000',\n",
    "                                          '$600,000',\n",
    "                                          #'$700,000',\n",
    "                                          '$800,000',\n",
    "                                          #'$900,000',\n",
    "                                          '$1,000,000'),\n",
    "                               direction = -1, option = 'B')+\n",
    "  theme_minimal() +\n",
    "  theme(panel.grid = element_blank(),\n",
    "        axis.title = element_blank(),\n",
    "        axis.text = element_blank(),\n",
    "        axis.ticks = element_blank()) +\n",
    "  xlim(min(IL$long) - 1, max(IL$long) + 1) +\n",
    "  ylim(min(IL$lat) - 1, max(IL$lat) + 1) +\n",
    "  labs(title = 'Illinois')\n",
    "dev.off()"
   ]
  },
  {
   "cell_type": "code",
   "execution_count": 20,
   "metadata": {},
   "outputs": [
    {
     "data": {},
     "metadata": {},
     "output_type": "display_data"
    },
    {
     "data": {
      "text/html": [
       "<strong>png:</strong> 2"
      ],
      "text/latex": [
       "\\textbf{png:} 2"
      ],
      "text/markdown": [
       "**png:** 2"
      ],
      "text/plain": [
       "png \n",
       "  2 "
      ]
     },
     "metadata": {},
     "output_type": "display_data"
    }
   ],
   "source": [
    "png('maps/pred_points_bin_IL.png', height = 8, width = 8, units = 'in', res = 300)\n",
    "ggplot(data = IL) + \n",
    "  geom_polygon(aes(x = long, y = lat, group = group), color = \"black\", fill = 'NA', lwd = 0.5) +\n",
    "  viridis::scale_color_viridis('Probability\\nof damage', direction = -1, option = 'B',\n",
    "                               breaks = c(0, 0.2, 0.4, 0.6, 0.8, 1)) + \n",
    "  coord_quickmap() +\n",
    "  guides(fill = FALSE) +\n",
    "  geom_point(data = IL_grid_df, aes(x = BEGIN_LON,\n",
    "                                       y = BEGIN_LAT,\n",
    "                                       color = DAMAGE_PROB),\n",
    "               size = 5) +\n",
    "  geom_point(data = IL_cities_df, aes(x = BEGIN_LON,\n",
    "                                       y = BEGIN_LAT,\n",
    "                                       color = DAMAGE_PROB),\n",
    "               size = 8, pch = 22, stroke = 2) +\n",
    "  theme_minimal() +\n",
    "  theme(panel.grid = element_blank(),\n",
    "        axis.title = element_blank(),\n",
    "        axis.text = element_blank(),\n",
    "        axis.ticks = element_blank()) +\n",
    "  labs(title = 'Illinois')\n",
    "dev.off()"
   ]
  },
  {
   "cell_type": "code",
   "execution_count": 21,
   "metadata": {},
   "outputs": [
    {
     "data": {},
     "metadata": {},
     "output_type": "display_data"
    },
    {
     "data": {
      "text/html": [
       "<strong>png:</strong> 2"
      ],
      "text/latex": [
       "\\textbf{png:} 2"
      ],
      "text/markdown": [
       "**png:** 2"
      ],
      "text/plain": [
       "png \n",
       "  2 "
      ]
     },
     "metadata": {},
     "output_type": "display_data"
    }
   ],
   "source": [
    "fld <- with(IL_pred_df, interp(x = BEGIN_LON, y = BEGIN_LAT, z = DAMAGE_PROB, duplicate = TRUE))\n",
    "\n",
    "df <- melt(fld$z, na.rm = TRUE)\n",
    "names(df) <- c(\"x\", \"y\", \"dam\")\n",
    "df$Lon <- fld$x[df$x]\n",
    "df$Lat <- fld$y[df$y]\n",
    "png('maps/pred_interp_bin_IL.png', height = 8, width = 8, units = 'in', res = 300)\n",
    "\n",
    "ggplot(data = IL) + \n",
    "  coord_quickmap() +\n",
    "  geom_tile(data = df, aes(x = Lon, y = Lat, fill = dam)) +\n",
    "  geom_polygon(aes(x = long, y = lat, group = group), color = \"white\", fill = 'NA', lwd = 1) +\n",
    "  viridis::scale_fill_viridis('Probability\\nof damage', direction = -1, option = 'B',\n",
    "                               breaks = c(0, 0.2, 0.4, 0.6, 0.8, 1)) +\n",
    "  theme_minimal() +\n",
    "  theme(panel.grid = element_blank(),\n",
    "        axis.title = element_blank(),\n",
    "        axis.text = element_blank(),\n",
    "        axis.ticks = element_blank()) +\n",
    "  xlim(min(IL$long) - 1, max(IL$long) + 1) +\n",
    "  ylim(min(IL$lat) - 1, max(IL$lat) + 1) +\n",
    "  labs(title = 'Illinois')\n",
    "dev.off()"
   ]
  },
  {
   "cell_type": "markdown",
   "metadata": {},
   "source": [
    "# Alabama"
   ]
  },
  {
   "cell_type": "code",
   "execution_count": 22,
   "metadata": {},
   "outputs": [],
   "source": [
    "AL <- subset(states, region %in% c(\"alabama\"))"
   ]
  },
  {
   "cell_type": "code",
   "execution_count": 23,
   "metadata": {},
   "outputs": [
    {
     "data": {
      "text/html": [
       "2"
      ],
      "text/latex": [
       "2"
      ],
      "text/markdown": [
       "2"
      ],
      "text/plain": [
       "[1] 2"
      ]
     },
     "metadata": {},
     "output_type": "display_data"
    }
   ],
   "source": [
    "AL_grid_df <- dplyr::filter(grid_df, (min(AL$lat) - 1) <= BEGIN_LAT &\n",
    "                                          BEGIN_LAT <= (max(AL$lat) + 1))\n",
    "AL_grid_df <- dplyr::filter(AL_grid_df, (min(AL$long) - 1) <= BEGIN_LON &\n",
    "                                         BEGIN_LON <= (max(AL$long) + 1))\n",
    "\n",
    "AL_cities_df <- dplyr::filter(cities_df, (min(AL$lat) - 1) <= BEGIN_LAT &\n",
    "                                          BEGIN_LAT <= (max(AL$lat) + 1))\n",
    "AL_cities_df <- dplyr::filter(AL_cities_df, (min(AL$long) - 1) <= BEGIN_LON &\n",
    "                                         BEGIN_LON <= (max(AL$long) + 1))\n",
    "\n",
    "pred_df <- rbind(AL_grid_df, AL_cities_df)\n",
    "origin = paste0('2019-01-01')\n",
    "out <- as.Date(pred_df$JULIAN_DAY, origin = origin)\n",
    "months <- substr(as.character(out), start = 6, stop =7)\n",
    "\n",
    "pred_df$MONTH <- months\n",
    "worst_month <- which.max(aggregate(DAMAGE_PROPERTY~MONTH, pred_df, sum)$DAMAGE_PROPERTY)\n",
    "worst_month\n",
    "\n",
    "AL_grid_df <- AL_grid_df[AL_grid_df$JULIAN_DAY == unique(AL_grid_df$JULIAN_DAY)[worst_month], ]\n",
    "AL_cities_df <- AL_cities_df[AL_cities_df$JULIAN_DAY == unique(AL_cities_df$JULIAN_DAY)[worst_month], ]\n",
    "\n",
    "AL_pred_df <- rbind(AL_grid_df, AL_cities_df)"
   ]
  },
  {
   "cell_type": "code",
   "execution_count": 24,
   "metadata": {},
   "outputs": [
    {
     "data": {},
     "metadata": {},
     "output_type": "display_data"
    },
    {
     "data": {
      "text/html": [
       "<strong>png:</strong> 2"
      ],
      "text/latex": [
       "\\textbf{png:} 2"
      ],
      "text/markdown": [
       "**png:** 2"
      ],
      "text/plain": [
       "png \n",
       "  2 "
      ]
     },
     "metadata": {},
     "output_type": "display_data"
    }
   ],
   "source": [
    "png('maps/pred_points_cond_AL.png', height = 8, width = 8, units = 'in', res = 300)\n",
    "\n",
    "ggplot(data = AL) + \n",
    "  geom_polygon(aes(x = long, y = lat, group = group), color = \"black\", fill = 'NA', lwd = 0.5) +\n",
    "  viridis::scale_color_viridis('Conditional property\\ndamage',\n",
    "                               breaks = c(#100000,\n",
    "                                          200000,\n",
    "                                          #300000,\n",
    "                                          400000,\n",
    "                                          #500000,\n",
    "                                          600000,\n",
    "                                          #700000,\n",
    "                                          800000,\n",
    "                                          #900000,\n",
    "                                          1000000),\n",
    "                               labels = c(#'$100,000',\n",
    "                                          '$200,000',\n",
    "                                          #'$300,000',\n",
    "                                          '$400,000',\n",
    "                                          #'$500,000',\n",
    "                                          '$600,000',\n",
    "                                          #'$700,000',\n",
    "                                          '$800,000',\n",
    "                                          #'$900,000',\n",
    "                                          '$1,000,000'),\n",
    "                               direction = -1, option = 'B') + \n",
    "  coord_quickmap() +\n",
    "  guides(fill = FALSE) +\n",
    "  geom_point(data = AL_grid_df, aes(x = BEGIN_LON,\n",
    "                                       y = BEGIN_LAT,\n",
    "                                       color = DAMAGE_PROPERTY),\n",
    "               size = 5) +\n",
    "  geom_point(data = AL_cities_df, aes(x = BEGIN_LON,\n",
    "                                       y = BEGIN_LAT,\n",
    "                                       color = DAMAGE_PROPERTY),\n",
    "               size = 8, pch = 22, stroke = 2) +\n",
    "  theme_minimal() +\n",
    "  theme(panel.grid = element_blank(),\n",
    "        axis.title = element_blank(),\n",
    "        axis.text = element_blank(),\n",
    "        axis.ticks = element_blank()) +\n",
    "  labs(title = 'Alabama')\n",
    "dev.off()"
   ]
  },
  {
   "cell_type": "code",
   "execution_count": 25,
   "metadata": {},
   "outputs": [
    {
     "data": {},
     "metadata": {},
     "output_type": "display_data"
    },
    {
     "data": {
      "text/html": [
       "<strong>png:</strong> 2"
      ],
      "text/latex": [
       "\\textbf{png:} 2"
      ],
      "text/markdown": [
       "**png:** 2"
      ],
      "text/plain": [
       "png \n",
       "  2 "
      ]
     },
     "metadata": {},
     "output_type": "display_data"
    }
   ],
   "source": [
    "fld <- with(AL_pred_df, interp(x = BEGIN_LON, y = BEGIN_LAT, z = DAMAGE_PROPERTY, duplicate = TRUE))\n",
    "\n",
    "df <- melt(fld$z, na.rm = TRUE)\n",
    "names(df) <- c(\"x\", \"y\", \"dam\")\n",
    "df$Lon <- fld$x[df$x]\n",
    "df$Lat <- fld$y[df$y]\n",
    "png('maps/pred_interp_cond_AL.png', height = 8, width = 8, units = 'in', res = 300)\n",
    "\n",
    "ggplot(data = AL) + \n",
    "  coord_quickmap() +\n",
    "  geom_tile(data = df, aes(x = Lon, y = Lat, fill = dam)) +\n",
    "  geom_polygon(aes(x = long, y = lat, group = group), color = \"black\", fill = 'NA', lwd = 1) +\n",
    "  viridis::scale_fill_viridis('Conditional property\\ndamage',\n",
    "                               breaks = c(#100000,\n",
    "                                          200000,\n",
    "                                          #300000,\n",
    "                                          400000,\n",
    "                                          #500000,\n",
    "                                          600000,\n",
    "                                          #700000,\n",
    "                                          800000,\n",
    "                                          #900000,\n",
    "                                          1000000),\n",
    "                               labels = c(#'$100,000',\n",
    "                                          '$200,000',\n",
    "                                          #'$300,000',\n",
    "                                          '$400,000',\n",
    "                                          #'$500,000',\n",
    "                                          '$600,000',\n",
    "                                          #'$700,000',\n",
    "                                          '$800,000',\n",
    "                                          #'$900,000',\n",
    "                                          '$1,000,000'),\n",
    "                               direction = -1, option = 'B')+\n",
    "  theme_minimal() +\n",
    "  theme(panel.grid = element_blank(),\n",
    "        axis.title = element_blank(),\n",
    "        axis.text = element_blank(),\n",
    "        axis.ticks = element_blank()) +\n",
    "  xlim(min(AL$long) - 1, max(AL$long) + 1) +\n",
    "  ylim(min(AL$lat) - 1, max(AL$lat) + 1) +\n",
    "  labs(title = 'Alabama')\n",
    "dev.off()"
   ]
  },
  {
   "cell_type": "code",
   "execution_count": 26,
   "metadata": {},
   "outputs": [
    {
     "data": {},
     "metadata": {},
     "output_type": "display_data"
    },
    {
     "data": {
      "text/html": [
       "<strong>png:</strong> 2"
      ],
      "text/latex": [
       "\\textbf{png:} 2"
      ],
      "text/markdown": [
       "**png:** 2"
      ],
      "text/plain": [
       "png \n",
       "  2 "
      ]
     },
     "metadata": {},
     "output_type": "display_data"
    }
   ],
   "source": [
    "png('maps/pred_points_bin_AL.png', height = 8, width = 8, units = 'in', res = 300)\n",
    "\n",
    "ggplot(data = AL) + \n",
    "  geom_polygon(aes(x = long, y = lat, group = group), color = \"black\", fill = 'NA', lwd = 0.5) +\n",
    "  viridis::scale_color_viridis('Probability\\nof damage', direction = -1, option = 'B',\n",
    "                               breaks = c(0, 0.2, 0.4, 0.6, 0.8, 1)) + \n",
    "  coord_quickmap() +\n",
    "  guides(fill = FALSE) +\n",
    "  geom_point(data = AL_grid_df, aes(x = BEGIN_LON,\n",
    "                                       y = BEGIN_LAT,\n",
    "                                       color = DAMAGE_PROB),\n",
    "               size = 5) +\n",
    "  geom_point(data = AL_cities_df, aes(x = BEGIN_LON,\n",
    "                                       y = BEGIN_LAT,\n",
    "                                       color = DAMAGE_PROB),\n",
    "               size = 8, pch = 22, stroke = 2) +\n",
    "  theme_minimal() +\n",
    "  theme(panel.grid = element_blank(),\n",
    "        axis.title = element_blank(),\n",
    "        axis.text = element_blank(),\n",
    "        axis.ticks = element_blank()) +\n",
    "  labs(title = 'Alabama')\n",
    "dev.off()"
   ]
  },
  {
   "cell_type": "code",
   "execution_count": 27,
   "metadata": {},
   "outputs": [
    {
     "data": {},
     "metadata": {},
     "output_type": "display_data"
    },
    {
     "data": {
      "text/html": [
       "<strong>png:</strong> 2"
      ],
      "text/latex": [
       "\\textbf{png:} 2"
      ],
      "text/markdown": [
       "**png:** 2"
      ],
      "text/plain": [
       "png \n",
       "  2 "
      ]
     },
     "metadata": {},
     "output_type": "display_data"
    }
   ],
   "source": [
    "fld <- with(AL_pred_df, interp(x = BEGIN_LON, y = BEGIN_LAT, z = DAMAGE_PROB, duplicate = TRUE))\n",
    "\n",
    "df <- melt(fld$z, na.rm = TRUE)\n",
    "names(df) <- c(\"x\", \"y\", \"dam\")\n",
    "df$Lon <- fld$x[df$x]\n",
    "df$Lat <- fld$y[df$y]\n",
    "png('maps/pred_interp_bin_AL.png', height = 8, width = 8, units = 'in', res = 300)\n",
    "\n",
    "ggplot(data = AL) + \n",
    "  coord_quickmap() +\n",
    "  geom_tile(data = df, aes(x = Lon, y = Lat, fill = dam)) +\n",
    "  geom_polygon(aes(x = long, y = lat, group = group), color = \"white\", fill = 'NA', lwd = 1) +\n",
    "  viridis::scale_fill_viridis('Probability\\nof damage', direction = -1, option = 'B',\n",
    "                               breaks = c(0, 0.2, 0.4, 0.6, 0.8, 1)) +\n",
    "  theme_minimal() +\n",
    "  theme(panel.grid = element_blank(),\n",
    "        axis.title = element_blank(),\n",
    "        axis.text = element_blank(),\n",
    "        axis.ticks = element_blank()) +\n",
    "  xlim(min(AL$long) - 1, max(AL$long) + 1) +\n",
    "  ylim(min(AL$lat) - 1, max(AL$lat) + 1) +\n",
    "  labs(title = 'Alabama')\n",
    "dev.off()"
   ]
  },
  {
   "cell_type": "markdown",
   "metadata": {},
   "source": [
    "# Tennessee"
   ]
  },
  {
   "cell_type": "code",
   "execution_count": 28,
   "metadata": {},
   "outputs": [],
   "source": [
    "TN <- subset(states, region %in% c(\"tennessee\"))"
   ]
  },
  {
   "cell_type": "code",
   "execution_count": 29,
   "metadata": {},
   "outputs": [
    {
     "data": {
      "text/html": [
       "2"
      ],
      "text/latex": [
       "2"
      ],
      "text/markdown": [
       "2"
      ],
      "text/plain": [
       "[1] 2"
      ]
     },
     "metadata": {},
     "output_type": "display_data"
    }
   ],
   "source": [
    "TN_grid_df <- dplyr::filter(grid_df, (min(TN$lat) - 1) <= BEGIN_LAT &\n",
    "                                          BEGIN_LAT <= (max(TN$lat) + 1))\n",
    "TN_grid_df <- dplyr::filter(TN_grid_df, (min(TN$long) - 1) <= BEGIN_LON &\n",
    "                                         BEGIN_LON <= (max(TN$long) + 1))\n",
    "\n",
    "TN_cities_df <- dplyr::filter(cities_df, (min(TN$lat) - 1) <= BEGIN_LAT &\n",
    "                                          BEGIN_LAT <= (max(TN$lat) + 1))\n",
    "TN_cities_df <- dplyr::filter(TN_cities_df, (min(TN$long) - 1) <= BEGIN_LON &\n",
    "                                         BEGIN_LON <= (max(TN$long) + 1))\n",
    "\n",
    "pred_df <- rbind(TN_grid_df, TN_cities_df)\n",
    "origin = paste0('2019-01-01')\n",
    "out <- as.Date(pred_df$JULIAN_DAY, origin = origin)\n",
    "months <- substr(as.character(out), start = 6, stop =7)\n",
    "\n",
    "pred_df$MONTH <- months\n",
    "worst_month <- which.max(aggregate(DAMAGE_PROPERTY~MONTH, pred_df, sum)$DAMAGE_PROPERTY)\n",
    "worst_month\n",
    "\n",
    "TN_grid_df <- TN_grid_df[TN_grid_df$JULIAN_DAY == unique(TN_grid_df$JULIAN_DAY)[worst_month], ]\n",
    "TN_cities_df <- TN_cities_df[TN_cities_df$JULIAN_DAY == unique(TN_cities_df$JULIAN_DAY)[worst_month], ]\n",
    "\n",
    "TN_pred_df <- rbind(TN_grid_df, TN_cities_df)"
   ]
  },
  {
   "cell_type": "code",
   "execution_count": 30,
   "metadata": {},
   "outputs": [
    {
     "data": {},
     "metadata": {},
     "output_type": "display_data"
    },
    {
     "data": {
      "text/html": [
       "<strong>png:</strong> 2"
      ],
      "text/latex": [
       "\\textbf{png:} 2"
      ],
      "text/markdown": [
       "**png:** 2"
      ],
      "text/plain": [
       "png \n",
       "  2 "
      ]
     },
     "metadata": {},
     "output_type": "display_data"
    }
   ],
   "source": [
    "png('maps/pred_points_cond_TN.png', height = 8, width = 8, units = 'in', res = 300)\n",
    "\n",
    "ggplot(data = TN) + \n",
    "  geom_polygon(aes(x = long, y = lat, group = group), color = \"black\", fill = 'NA', lwd = 0.5) +\n",
    "  viridis::scale_color_viridis('Conditional property\\ndamage',\n",
    "                               breaks = c(#100000,\n",
    "                                          200000,\n",
    "                                          #300000,\n",
    "                                          400000,\n",
    "                                          #500000,\n",
    "                                          600000,\n",
    "                                          #700000,\n",
    "                                          800000,\n",
    "                                          #900000,\n",
    "                                          1000000),\n",
    "                               labels = c(#'$100,000',\n",
    "                                          '$200,000',\n",
    "                                          #'$300,000',\n",
    "                                          '$400,000',\n",
    "                                          #'$500,000',\n",
    "                                          '$600,000',\n",
    "                                          #'$700,000',\n",
    "                                          '$800,000',\n",
    "                                          #'$900,000',\n",
    "                                          '$1,000,000'),\n",
    "                               direction = -1, option = 'B') + \n",
    "  coord_quickmap() +\n",
    "  guides(fill = FALSE) +\n",
    "  geom_point(data = TN_grid_df, aes(x = BEGIN_LON,\n",
    "                                       y = BEGIN_LAT,\n",
    "                                       color = DAMAGE_PROPERTY),\n",
    "               size = 5) +\n",
    "  geom_point(data = TN_cities_df, aes(x = BEGIN_LON,\n",
    "                                       y = BEGIN_LAT,\n",
    "                                       color = DAMAGE_PROPERTY),\n",
    "               size = 8, pch = 22, stroke = 2) +\n",
    "  theme_minimal() +\n",
    "  theme(panel.grid = element_blank(),\n",
    "        axis.title = element_blank(),\n",
    "        axis.text = element_blank(),\n",
    "        axis.ticks = element_blank()) +\n",
    "  labs(title = 'Tennessee')\n",
    "dev.off()"
   ]
  },
  {
   "cell_type": "code",
   "execution_count": 31,
   "metadata": {},
   "outputs": [
    {
     "data": {},
     "metadata": {},
     "output_type": "display_data"
    },
    {
     "data": {
      "text/html": [
       "<strong>png:</strong> 2"
      ],
      "text/latex": [
       "\\textbf{png:} 2"
      ],
      "text/markdown": [
       "**png:** 2"
      ],
      "text/plain": [
       "png \n",
       "  2 "
      ]
     },
     "metadata": {},
     "output_type": "display_data"
    }
   ],
   "source": [
    "fld <- with(TN_pred_df, interp(x = BEGIN_LON, y = BEGIN_LAT, z = DAMAGE_PROPERTY, duplicate = TRUE))\n",
    "\n",
    "df <- melt(fld$z, na.rm = TRUE)\n",
    "names(df) <- c(\"x\", \"y\", \"dam\")\n",
    "df$Lon <- fld$x[df$x]\n",
    "df$Lat <- fld$y[df$y]\n",
    "png('maps/pred_interp_cond_TN.png', height = 8, width = 8, units = 'in', res = 300)\n",
    "ggplot(data = TN) + \n",
    "  coord_quickmap() +\n",
    "  geom_tile(data = df, aes(x = Lon, y = Lat, fill = dam)) +\n",
    "  geom_polygon(aes(x = long, y = lat, group = group), color = \"black\", fill = 'NA', lwd = 0.5) +\n",
    "  viridis::scale_fill_viridis('Conditional property\\ndamage',\n",
    "                               breaks = c(#100000,\n",
    "                                          200000,\n",
    "                                          #300000,\n",
    "                                          400000,\n",
    "                                          #500000,\n",
    "                                          600000,\n",
    "                                          #700000,\n",
    "                                          800000,\n",
    "                                          #900000,\n",
    "                                          1000000),\n",
    "                               labels = c(#'$100,000',\n",
    "                                          '$200,000',\n",
    "                                          #'$300,000',\n",
    "                                          '$400,000',\n",
    "                                          #'$500,000',\n",
    "                                          '$600,000',\n",
    "                                          #'$700,000',\n",
    "                                          '$800,000',\n",
    "                                          #'$900,000',\n",
    "                                          '$1,000,000'),\n",
    "                               direction = -1, option = 'B') +\n",
    "  theme_minimal() +\n",
    "  theme(panel.grid = element_blank(),\n",
    "        axis.title = element_blank(),\n",
    "        axis.text = element_blank(),\n",
    "        axis.ticks = element_blank()) +\n",
    "  xlim(min(TN$long) - 1, max(TN$long) + 1) +\n",
    "  ylim(min(TN$lat) - 1, max(TN$lat) + 1) +\n",
    "  labs(title = 'Tennessee')\n",
    "dev.off()"
   ]
  },
  {
   "cell_type": "code",
   "execution_count": 32,
   "metadata": {},
   "outputs": [
    {
     "data": {},
     "metadata": {},
     "output_type": "display_data"
    },
    {
     "data": {
      "text/html": [
       "<strong>png:</strong> 2"
      ],
      "text/latex": [
       "\\textbf{png:} 2"
      ],
      "text/markdown": [
       "**png:** 2"
      ],
      "text/plain": [
       "png \n",
       "  2 "
      ]
     },
     "metadata": {},
     "output_type": "display_data"
    }
   ],
   "source": [
    "png('maps/pred_points_bin_TN.png', height = 8, width = 8, units = 'in', res = 300)\n",
    "ggplot(data = TN) + \n",
    "  geom_polygon(aes(x = long, y = lat, group = group), color = \"black\", fill = 'NA', lwd = 0.5) +\n",
    "  viridis::scale_color_viridis('Probability\\nof damage', direction = -1, option = 'B',\n",
    "                               breaks = c(0, 0.2, 0.4, 0.6, 0.8, 1)) + \n",
    "  coord_quickmap() +\n",
    "  guides(fill = FALSE) +\n",
    "  geom_point(data = TN_grid_df, aes(x = BEGIN_LON,\n",
    "                                       y = BEGIN_LAT,\n",
    "                                       color = DAMAGE_PROB),\n",
    "               size = 5) +\n",
    "  geom_point(data = TN_cities_df, aes(x = BEGIN_LON,\n",
    "                                       y = BEGIN_LAT,\n",
    "                                       color = DAMAGE_PROB),\n",
    "               size = 8, pch = 22, stroke = 2) +\n",
    "  theme_minimal() +\n",
    "  theme(panel.grid = element_blank(),\n",
    "        axis.title = element_blank(),\n",
    "        axis.text = element_blank(),\n",
    "        axis.ticks = element_blank()) +\n",
    "  labs(title = 'Tennessee')\n",
    "dev.off()"
   ]
  },
  {
   "cell_type": "code",
   "execution_count": 33,
   "metadata": {},
   "outputs": [
    {
     "data": {},
     "metadata": {},
     "output_type": "display_data"
    },
    {
     "data": {
      "text/html": [
       "<strong>png:</strong> 2"
      ],
      "text/latex": [
       "\\textbf{png:} 2"
      ],
      "text/markdown": [
       "**png:** 2"
      ],
      "text/plain": [
       "png \n",
       "  2 "
      ]
     },
     "metadata": {},
     "output_type": "display_data"
    }
   ],
   "source": [
    "fld <- with(TN_pred_df, interp(x = BEGIN_LON, y = BEGIN_LAT, z = DAMAGE_PROB, duplicate = TRUE))\n",
    "\n",
    "df <- melt(fld$z, na.rm = TRUE)\n",
    "names(df) <- c(\"x\", \"y\", \"dam\")\n",
    "df$Lon <- fld$x[df$x]\n",
    "df$Lat <- fld$y[df$y]\n",
    "png('maps/pred_interp_bin_TN.png', height = 8, width = 8, units = 'in', res = 300)\n",
    "ggplot(data = TN) + \n",
    "  coord_quickmap() +\n",
    "  geom_tile(data = df, aes(x = Lon, y = Lat, fill = dam)) +\n",
    "  geom_polygon(aes(x = long, y = lat, group = group), color = \"white\", fill = 'NA', lwd = 1) +\n",
    "  viridis::scale_fill_viridis('Probability\\nof damage', direction = -1, option = 'B',\n",
    "                               breaks = c(0, 0.2, 0.4, 0.6, 0.8, 1)) +\n",
    "  theme_minimal() +\n",
    "  theme(panel.grid = element_blank(),\n",
    "        axis.title = element_blank(),\n",
    "        axis.text = element_blank(),\n",
    "        axis.ticks = element_blank()) +\n",
    "  xlim(min(TN$long) - 1, max(TN$long) + 1) +\n",
    "  ylim(min(TN$lat) - 1, max(TN$lat) + 1) +\n",
    "  labs(title = 'Tennessee')\n",
    "dev.off()"
   ]
  },
  {
   "cell_type": "markdown",
   "metadata": {},
   "source": [
    "# Florida"
   ]
  },
  {
   "cell_type": "code",
   "execution_count": 34,
   "metadata": {},
   "outputs": [],
   "source": [
    "FL <- subset(states, region %in% c(\"florida\"))"
   ]
  },
  {
   "cell_type": "code",
   "execution_count": 35,
   "metadata": {},
   "outputs": [
    {
     "data": {
      "text/html": [
       "1"
      ],
      "text/latex": [
       "1"
      ],
      "text/markdown": [
       "1"
      ],
      "text/plain": [
       "[1] 1"
      ]
     },
     "metadata": {},
     "output_type": "display_data"
    }
   ],
   "source": [
    "FL_grid_df <- dplyr::filter(grid_df, (min(FL$lat) - 1) <= BEGIN_LAT &\n",
    "                                          BEGIN_LAT <= (max(FL$lat) + 1))\n",
    "FL_grid_df <- dplyr::filter(FL_grid_df, (min(FL$long) - 1) <= BEGIN_LON &\n",
    "                                         BEGIN_LON <= (max(FL$long) + 1))\n",
    "\n",
    "FL_cities_df <- dplyr::filter(cities_df, (min(FL$lat) - 1) <= BEGIN_LAT &\n",
    "                                          BEGIN_LAT <= (max(FL$lat) + 1))\n",
    "FL_cities_df <- dplyr::filter(FL_cities_df, (min(FL$long) - 1) <= BEGIN_LON &\n",
    "                                         BEGIN_LON <= (max(FL$long) + 1))\n",
    "\n",
    "pred_df <- rbind(FL_grid_df, FL_cities_df)\n",
    "origin = paste0('2019-01-01')\n",
    "out <- as.Date(pred_df$JULIAN_DAY, origin = origin)\n",
    "months <- substr(as.character(out), start = 6, stop =7)\n",
    "\n",
    "pred_df$MONTH <- months\n",
    "worst_month <- which.max(aggregate(DAMAGE_PROPERTY~MONTH, pred_df, sum)$DAMAGE_PROPERTY)\n",
    "worst_month\n",
    "\n",
    "FL_grid_df <- FL_grid_df[FL_grid_df$JULIAN_DAY == unique(FL_grid_df$JULIAN_DAY)[worst_month], ]\n",
    "FL_cities_df <- FL_cities_df[FL_cities_df$JULIAN_DAY == unique(FL_cities_df$JULIAN_DAY)[worst_month], ]\n",
    "\n",
    "FL_pred_df <- rbind(FL_grid_df, FL_cities_df)"
   ]
  },
  {
   "cell_type": "code",
   "execution_count": 36,
   "metadata": {},
   "outputs": [
    {
     "data": {},
     "metadata": {},
     "output_type": "display_data"
    },
    {
     "data": {
      "text/html": [
       "<strong>png:</strong> 2"
      ],
      "text/latex": [
       "\\textbf{png:} 2"
      ],
      "text/markdown": [
       "**png:** 2"
      ],
      "text/plain": [
       "png \n",
       "  2 "
      ]
     },
     "metadata": {},
     "output_type": "display_data"
    }
   ],
   "source": [
    "png('maps/pred_points_cond_FL.png', height = 8, width = 8, units = 'in', res = 300)\n",
    "ggplot(data = FL) + \n",
    "  geom_polygon(aes(x = long, y = lat, group = group), color = \"black\", fill = 'NA', lwd = 0.5) +\n",
    "  viridis::scale_color_viridis('Conditional property\\ndamage',\n",
    "                               breaks = c(#100000,\n",
    "                                          200000,\n",
    "                                          #300000,\n",
    "                                          400000,\n",
    "                                          #500000,\n",
    "                                          600000,\n",
    "                                          #700000,\n",
    "                                          800000,\n",
    "                                          #900000,\n",
    "                                          1000000),\n",
    "                               labels = c(#'$100,000',\n",
    "                                          '$200,000',\n",
    "                                          #'$300,000',\n",
    "                                          '$400,000',\n",
    "                                          #'$500,000',\n",
    "                                          '$600,000',\n",
    "                                          #'$700,000',\n",
    "                                          '$800,000',\n",
    "                                          #'$900,000',\n",
    "                                          '$1,000,000'),\n",
    "                               direction = -1, option = 'B') + \n",
    "  coord_quickmap() +\n",
    "  guides(fill = FALSE) +\n",
    "  geom_point(data = FL_grid_df, aes(x = BEGIN_LON,\n",
    "                                       y = BEGIN_LAT,\n",
    "                                       color = DAMAGE_PROPERTY),\n",
    "               size = 5) +\n",
    "  geom_point(data = FL_cities_df, aes(x = BEGIN_LON,\n",
    "                                       y = BEGIN_LAT,\n",
    "                                       color = DAMAGE_PROPERTY),\n",
    "               size = 8, pch = 22, stroke = 2) +\n",
    "  theme_minimal() +\n",
    "  theme(panel.grid = element_blank(),\n",
    "        axis.title = element_blank(),\n",
    "        axis.text = element_blank(),\n",
    "        axis.ticks = element_blank()) +\n",
    "  labs(title = 'Florida')\n",
    "dev.off()"
   ]
  },
  {
   "cell_type": "code",
   "execution_count": 37,
   "metadata": {},
   "outputs": [
    {
     "data": {},
     "metadata": {},
     "output_type": "display_data"
    },
    {
     "data": {
      "text/html": [
       "<strong>png:</strong> 2"
      ],
      "text/latex": [
       "\\textbf{png:} 2"
      ],
      "text/markdown": [
       "**png:** 2"
      ],
      "text/plain": [
       "png \n",
       "  2 "
      ]
     },
     "metadata": {},
     "output_type": "display_data"
    }
   ],
   "source": [
    "fld <- with(FL_pred_df, interp(x = BEGIN_LON, y = BEGIN_LAT, z = DAMAGE_PROPERTY, duplicate = TRUE))\n",
    "\n",
    "df <- melt(fld$z, na.rm = TRUE)\n",
    "names(df) <- c(\"x\", \"y\", \"dam\")\n",
    "df$Lon <- fld$x[df$x]\n",
    "df$Lat <- fld$y[df$y]\n",
    "png('maps/pred_interp_cond_FL.png', height = 8, width = 8, units = 'in', res = 300)\n",
    "ggplot(data = FL) + \n",
    "  coord_quickmap() +\n",
    "  geom_tile(data = df, aes(x = Lon, y = Lat, fill = dam)) +\n",
    "  geom_polygon(aes(x = long, y = lat, group = group), color = \"black\", fill = 'NA', lwd = 0.5) +\n",
    "  viridis::scale_fill_viridis('Conditional property\\ndamage',\n",
    "                               breaks = c(#100000,\n",
    "                                          200000,\n",
    "                                          #300000,\n",
    "                                          400000,\n",
    "                                          #500000,\n",
    "                                          600000,\n",
    "                                          #700000,\n",
    "                                          800000,\n",
    "                                          #900000,\n",
    "                                          1000000),\n",
    "                               labels = c(#'$100,000',\n",
    "                                          '$200,000',\n",
    "                                          #'$300,000',\n",
    "                                          '$400,000',\n",
    "                                          #'$500,000',\n",
    "                                          '$600,000',\n",
    "                                          #'$700,000',\n",
    "                                          '$800,000',\n",
    "                                          #'$900,000',\n",
    "                                          '$1,000,000'),\n",
    "                               direction = -1, option = 'B') +\n",
    "  theme_minimal() +\n",
    "  theme(panel.grid = element_blank(),\n",
    "        axis.title = element_blank(),\n",
    "        axis.text = element_blank(),\n",
    "        axis.ticks = element_blank()) +\n",
    "  xlim(min(FL$long) - 1, max(FL$long) + 1) +\n",
    "  ylim(min(FL$lat) - 1, max(FL$lat) + 1) +\n",
    "  labs(title = 'Florida')\n",
    "dev.off()"
   ]
  },
  {
   "cell_type": "code",
   "execution_count": 38,
   "metadata": {},
   "outputs": [
    {
     "data": {},
     "metadata": {},
     "output_type": "display_data"
    },
    {
     "data": {
      "text/html": [
       "<strong>png:</strong> 2"
      ],
      "text/latex": [
       "\\textbf{png:} 2"
      ],
      "text/markdown": [
       "**png:** 2"
      ],
      "text/plain": [
       "png \n",
       "  2 "
      ]
     },
     "metadata": {},
     "output_type": "display_data"
    }
   ],
   "source": [
    "png('maps/pred_points_bin_FL.png', height = 8, width = 8, units = 'in', res = 300)\n",
    "ggplot(data = FL) + \n",
    "  geom_polygon(aes(x = long, y = lat, group = group), color = \"black\", fill = 'NA', lwd = 0.5) +\n",
    "  viridis::scale_color_viridis('Probability\\nof damage', direction = -1, option = 'B',\n",
    "                               breaks = c(0, 0.2, 0.4, 0.6, 0.8, 1)) + \n",
    "  coord_quickmap() +\n",
    "  guides(fill = FALSE) +\n",
    "  geom_point(data = FL_grid_df, aes(x = BEGIN_LON,\n",
    "                                       y = BEGIN_LAT,\n",
    "                                       color = DAMAGE_PROB),\n",
    "               size = 5) +\n",
    "  geom_point(data = FL_cities_df, aes(x = BEGIN_LON,\n",
    "                                       y = BEGIN_LAT,\n",
    "                                       color = DAMAGE_PROB),\n",
    "               size = 8, pch = 22, stroke = 2) +\n",
    "  theme_minimal() +\n",
    "  theme(panel.grid = element_blank(),\n",
    "        axis.title = element_blank(),\n",
    "        axis.text = element_blank(),\n",
    "        axis.ticks = element_blank()) +\n",
    "  labs(title = 'Florida')\n",
    "dev.off()"
   ]
  },
  {
   "cell_type": "code",
   "execution_count": 39,
   "metadata": {},
   "outputs": [
    {
     "data": {},
     "metadata": {},
     "output_type": "display_data"
    },
    {
     "data": {
      "text/html": [
       "<strong>png:</strong> 2"
      ],
      "text/latex": [
       "\\textbf{png:} 2"
      ],
      "text/markdown": [
       "**png:** 2"
      ],
      "text/plain": [
       "png \n",
       "  2 "
      ]
     },
     "metadata": {},
     "output_type": "display_data"
    }
   ],
   "source": [
    "fld <- with(FL_pred_df, interp(x = BEGIN_LON, y = BEGIN_LAT, z = DAMAGE_PROB, duplicate = TRUE))\n",
    "\n",
    "df <- melt(fld$z, na.rm = TRUE)\n",
    "names(df) <- c(\"x\", \"y\", \"dam\")\n",
    "df$Lon <- fld$x[df$x]\n",
    "df$Lat <- fld$y[df$y]\n",
    "png('maps/pred_interp_bin_FL.png', height = 8, width = 8, units = 'in', res = 300)\n",
    "ggplot(data = FL) + \n",
    "  coord_quickmap() +\n",
    "  geom_tile(data = df, aes(x = Lon, y = Lat, fill = dam)) +\n",
    "  geom_polygon(aes(x = long, y = lat, group = group), color = \"white\", fill = 'NA', lwd = 1) +\n",
    "  viridis::scale_fill_viridis('Probability\\nof damage', direction = -1, option = 'B',\n",
    "                               breaks = c(0, 0.2, 0.4, 0.6, 0.8, 1))+\n",
    "  theme_minimal() +\n",
    "  theme(panel.grid = element_blank(),\n",
    "        axis.title = element_blank(),\n",
    "        axis.text = element_blank(),\n",
    "        axis.ticks = element_blank()) +\n",
    "  xlim(min(FL$long) - 1, max(FL$long) + 1) +\n",
    "  ylim(min(FL$lat) - 1, max(FL$lat) + 1) +\n",
    "  labs(title = 'Florida')\n",
    "dev.off()"
   ]
  },
  {
   "cell_type": "code",
   "execution_count": null,
   "metadata": {},
   "outputs": [],
   "source": []
  }
 ],
 "metadata": {
  "kernelspec": {
   "display_name": "R",
   "language": "R",
   "name": "ir"
  },
  "language_info": {
   "codemirror_mode": "r",
   "file_extension": ".r",
   "mimetype": "text/x-r-source",
   "name": "R",
   "pygments_lexer": "r",
   "version": "3.5.1"
  }
 },
 "nbformat": 4,
 "nbformat_minor": 2
}
