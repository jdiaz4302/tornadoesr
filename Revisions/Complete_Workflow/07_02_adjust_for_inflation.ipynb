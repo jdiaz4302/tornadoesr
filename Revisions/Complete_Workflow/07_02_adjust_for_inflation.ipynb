{
 "cells": [
  {
   "cell_type": "markdown",
   "metadata": {},
   "source": [
    "Fairly straightforward to install"
   ]
  },
  {
   "cell_type": "code",
   "execution_count": 1,
   "metadata": {},
   "outputs": [],
   "source": [
    "# !pip install cpi"
   ]
  },
  {
   "cell_type": "markdown",
   "metadata": {},
   "source": [
    "Libraries"
   ]
  },
  {
   "cell_type": "code",
   "execution_count": 2,
   "metadata": {},
   "outputs": [],
   "source": [
    "import pandas as pd\n",
    "import datetime\n",
    "from cpi import inflate"
   ]
  },
  {
   "cell_type": "markdown",
   "metadata": {},
   "source": [
    "Import the current working data set"
   ]
  },
  {
   "cell_type": "code",
   "execution_count": 3,
   "metadata": {},
   "outputs": [],
   "source": [
    "tor_df = pd.read_csv('../../data/raw/tor_data_with_derived.csv')"
   ]
  },
  {
   "cell_type": "markdown",
   "metadata": {},
   "source": [
    "For each row, adjust the listed property damage from its listed month/year to Jan/2018"
   ]
  },
  {
   "cell_type": "code",
   "execution_count": 4,
   "metadata": {},
   "outputs": [],
   "source": [
    "adjusted_damages = []\n",
    "for i in range(len(tor_df)):\n",
    "    julian_day = str(tor_df['JULIAN_DAY'][i])\n",
    "    year = str(tor_df['YEAR'][i])\n",
    "    while len(julian_day) < 3:\n",
    "        julian_day = '0' + julian_day\n",
    "    curr_date = datetime.datetime.strptime(julian_day+year, '%j%Y').date()\n",
    "    adjust_dam = inflate(tor_df['DAMAGE_PROPERTY'][i], curr_date, to = datetime.date(2018, 1, 1))\n",
    "    adjusted_damages.append(adjust_dam)"
   ]
  },
  {
   "cell_type": "markdown",
   "metadata": {},
   "source": [
    "Visualization for assurance"
   ]
  },
  {
   "cell_type": "code",
   "execution_count": 5,
   "metadata": {},
   "outputs": [],
   "source": [
    "import matplotlib.pyplot as plt\n",
    "%matplotlib inline\n",
    "import numpy as np"
   ]
  },
  {
   "cell_type": "code",
   "execution_count": 6,
   "metadata": {},
   "outputs": [
    {
     "data": {
      "image/png": "[encoded data removed]",
      "text/plain": [
       "<Figure size 432x288 with 1 Axes>"
      ]
     },
     "metadata": {
      "needs_background": "light"
     },
     "output_type": "display_data"
    }
   ],
   "source": [
    "plt.scatter(x = np.log10(tor_df['DAMAGE_PROPERTY'] + 1),\n",
    "            y = np.log10(np.asarray(adjusted_damages) + 1),\n",
    "            color = 'black', alpha = 0.1, s = 25, marker = '.')\n",
    "plt.xlabel('Log10 Listed Damage', fontsize = 12)\n",
    "plt.ylabel('Log10 Adjusted Damage', fontsize = 12);"
   ]
  },
  {
   "cell_type": "markdown",
   "metadata": {},
   "source": [
    "Replace the existing column"
   ]
  },
  {
   "cell_type": "code",
   "execution_count": 7,
   "metadata": {},
   "outputs": [],
   "source": [
    "tor_df['DAMAGE_PROPERTY'] = adjusted_damages"
   ]
  },
  {
   "cell_type": "markdown",
   "metadata": {},
   "source": [
    "Save the data"
   ]
  },
  {
   "cell_type": "code",
   "execution_count": 8,
   "metadata": {},
   "outputs": [],
   "source": [
    "tor_df.to_csv('../../data/raw/tor_data_inflation_adj.csv', index = False)"
   ]
  }
 ],
 "metadata": {
  "kernelspec": {
   "display_name": "Python 3",
   "language": "python",
   "name": "python3"
  },
  "language_info": {
   "codemirror_mode": {
    "name": "ipython",
    "version": 3
   },
   "file_extension": ".py",
   "mimetype": "text/x-python",
   "name": "python",
   "nbconvert_exporter": "python",
   "pygments_lexer": "ipython3",
   "version": "3.7.3"
  }
 },
 "nbformat": 4,
 "nbformat_minor": 2
}
