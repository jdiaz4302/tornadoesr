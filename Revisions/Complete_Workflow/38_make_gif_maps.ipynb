{
 "cells": [
  {
   "cell_type": "code",
   "execution_count": 1,
   "metadata": {},
   "outputs": [],
   "source": [
    "library(ggplot2)"
   ]
  },
  {
   "cell_type": "code",
   "execution_count": 2,
   "metadata": {},
   "outputs": [],
   "source": [
    "grid_df <- read.csv(\"/home/jeremy/tornadoesr/data/raw/grid_with_predictions.csv\")\n",
    "cities_df <- read.csv(\"/home/jeremy/tornadoesr/data/raw/cities_with_predictions.csv\")"
   ]
  },
  {
   "cell_type": "code",
   "execution_count": 3,
   "metadata": {},
   "outputs": [],
   "source": [
    "old_df <- read.csv(\"/home/jeremy/tornadoesr/data/raw/tor_data_inflation_adj.csv\")\n",
    "\n",
    "sd_lat <- sd(old_df$BEGIN_LAT)\n",
    "sd_lon <- sd(old_df$BEGIN_LON)\n",
    "mu_lat <- mean(old_df$BEGIN_LAT)\n",
    "mu_lon <- mean(old_df$BEGIN_LON)\n",
    "\n",
    "grid_df$BEGIN_LAT <- grid_df$BEGIN_LAT*sd_lat + mu_lat\n",
    "grid_df$BEGIN_LON <- grid_df$BEGIN_LON*sd_lon + mu_lon\n",
    "cities_df$BEGIN_LAT <- cities_df$BEGIN_LAT*sd_lat + mu_lat\n",
    "cities_df$BEGIN_LON <- cities_df$BEGIN_LON*sd_lon + mu_lon"
   ]
  },
  {
   "cell_type": "code",
   "execution_count": 4,
   "metadata": {},
   "outputs": [],
   "source": [
    "states <- map_data(\"state\")"
   ]
  },
  {
   "cell_type": "code",
   "execution_count": 5,
   "metadata": {},
   "outputs": [],
   "source": [
    "# mkdir gif_cond_images"
   ]
  },
  {
   "cell_type": "code",
   "execution_count": 6,
   "metadata": {},
   "outputs": [
    {
     "data": {
      "text/html": [
       "<ol class=list-inline>\n",
       "\t<li>'January'</li>\n",
       "\t<li>'February'</li>\n",
       "\t<li>'March'</li>\n",
       "\t<li>'April'</li>\n",
       "\t<li>'May'</li>\n",
       "\t<li>'June'</li>\n",
       "\t<li>'July'</li>\n",
       "\t<li>'August'</li>\n",
       "\t<li>'September'</li>\n",
       "\t<li>'October'</li>\n",
       "\t<li>'November'</li>\n",
       "\t<li>'December'</li>\n",
       "</ol>\n"
      ],
      "text/latex": [
       "\\begin{enumerate*}\n",
       "\\item 'January'\n",
       "\\item 'February'\n",
       "\\item 'March'\n",
       "\\item 'April'\n",
       "\\item 'May'\n",
       "\\item 'June'\n",
       "\\item 'July'\n",
       "\\item 'August'\n",
       "\\item 'September'\n",
       "\\item 'October'\n",
       "\\item 'November'\n",
       "\\item 'December'\n",
       "\\end{enumerate*}\n"
      ],
      "text/markdown": [
       "1. 'January'\n",
       "2. 'February'\n",
       "3. 'March'\n",
       "4. 'April'\n",
       "5. 'May'\n",
       "6. 'June'\n",
       "7. 'July'\n",
       "8. 'August'\n",
       "9. 'September'\n",
       "10. 'October'\n",
       "11. 'November'\n",
       "12. 'December'\n",
       "\n",
       "\n"
      ],
      "text/plain": [
       " [1] \"January\"   \"February\"  \"March\"     \"April\"     \"May\"       \"June\"     \n",
       " [7] \"July\"      \"August\"    \"September\" \"October\"   \"November\"  \"December\" "
      ]
     },
     "metadata": {},
     "output_type": "display_data"
    }
   ],
   "source": [
    "month.name"
   ]
  },
  {
   "cell_type": "code",
   "execution_count": 7,
   "metadata": {},
   "outputs": [],
   "source": [
    "count <- 1\n",
    "for (i in unique(cities_df$JULIAN_DAY)) {\n",
    "    month <- i\n",
    "    title <- month.name[count]\n",
    "    t_cities_df <- dplyr::filter(cities_df, JULIAN_DAY == month)\n",
    "    t_grid_df <- dplyr::filter(grid_df, JULIAN_DAY == month)\n",
    "    a <- ggplot(data = states) + \n",
    "      geom_polygon(aes(x = long, y = lat, group = group), color = \"white\", fill = 'NA', lwd = 0.5) +\n",
    "      viridis::scale_color_viridis('Conditional property\\ndamage',\n",
    "                                   direction = -1, option = 'B',\n",
    "                                   breaks = c(200000,\n",
    "                                              600000,\n",
    "                                              1000000,\n",
    "                                              1400000,\n",
    "                                              1800000,\n",
    "                                              2200000),\n",
    "                                   labels = c('$200,000',\n",
    "                                              '$600,000',\n",
    "                                              '$1,000,000',\n",
    "                                              '$1,400,000',\n",
    "                                              '$1,800,000',\n",
    "                                              '$2,200,000'),\n",
    "                                   limits = c(0, 2200000)) + \n",
    "      coord_quickmap() +\n",
    "      guides(fill = FALSE) +\n",
    "      geom_point(data = t_grid_df, aes(x = BEGIN_LON,\n",
    "                                           y = BEGIN_LAT,\n",
    "                                           color = DAMAGE_PROPERTY),\n",
    "                   size = 2) +\n",
    "      geom_point(data = t_cities_df, aes(x = BEGIN_LON,\n",
    "                                           y = BEGIN_LAT,\n",
    "                                           color = DAMAGE_PROPERTY),\n",
    "                   size = 4, pch = 22, stroke = 2) +\n",
    "      theme_minimal() +\n",
    "      theme(panel.grid = element_blank(),\n",
    "            panel.background = element_rect(fill = \"black\"),\n",
    "            axis.title = element_blank(),\n",
    "            axis.text = element_blank(),\n",
    "            axis.ticks = element_blank()) +\n",
    "      labs(title = paste0('Conditional property damage prediction for: ', title, ' 15, 2019'))\n",
    "    if (count < 10) {\n",
    "        ggsave(paste0('gif_cond_images/0', as.character(count), '.png'), height = 8.5, width = 11, units = 'in')\n",
    "    } else {\n",
    "        ggsave(paste0('gif_cond_images/', as.character(count), '.png'), height = 8.5, width = 11, units = 'in')    \n",
    "    }\n",
    "    count <- count + 1\n",
    "}"
   ]
  },
  {
   "cell_type": "code",
   "execution_count": 8,
   "metadata": {},
   "outputs": [],
   "source": [
    "# cd gif_cond_images\n",
    "# convert -delay 90 -loop 0 *.png conditional_map.gif\n",
    "# cd ..\n",
    "# mkdir gif_bin_images"
   ]
  },
  {
   "cell_type": "code",
   "execution_count": 9,
   "metadata": {},
   "outputs": [],
   "source": [
    "count <- 1\n",
    "for (i in unique(cities_df$JULIAN_DAY)) {\n",
    "    month <- i\n",
    "    title <- month.name[count]\n",
    "    t_cities_df <- dplyr::filter(cities_df, JULIAN_DAY == month)\n",
    "    t_grid_df <- dplyr::filter(grid_df, JULIAN_DAY == month)\n",
    "    a <- ggplot(data = states) + \n",
    "      geom_polygon(aes(x = long, y = lat, group = group), color = \"black\", fill = 'NA', lwd = 0.5) +\n",
    "      viridis::scale_color_viridis('Probability of\\ndamage',\n",
    "                                   direction = -1, option = 'B',\n",
    "                                   breaks = c(0, 0.25, 0.5, 0.75, 1)) + \n",
    "      coord_quickmap() +\n",
    "      guides(fill = FALSE) +\n",
    "      geom_point(data = t_grid_df, aes(x = BEGIN_LON,\n",
    "                                           y = BEGIN_LAT,\n",
    "                                           color = DAMAGE_PROB),\n",
    "                   size = 2) +\n",
    "      geom_point(data = t_cities_df, aes(x = BEGIN_LON,\n",
    "                                           y = BEGIN_LAT,\n",
    "                                           color = DAMAGE_PROB),\n",
    "                   size = 4, pch = 22, stroke = 2) +\n",
    "      theme_minimal() +\n",
    "      theme(panel.grid = element_blank(),\n",
    "            axis.title = element_blank(),\n",
    "            axis.text = element_blank(),\n",
    "            axis.ticks = element_blank()) +\n",
    "      labs(title = paste0('Probability of damage occurrence prediction for: ', title, ' 15, 2019'))\n",
    "    if (count < 10) {\n",
    "        ggsave(paste0('gif_bin_images/0', as.character(count), '.png'), height = 8.5, width = 11, units = 'in')\n",
    "    } else {\n",
    "        ggsave(paste0('gif_bin_images/', as.character(count), '.png'), height = 8.5, width = 11, units = 'in')    \n",
    "    }\n",
    "    count <- count + 1\n",
    "}"
   ]
  },
  {
   "cell_type": "code",
   "execution_count": 10,
   "metadata": {},
   "outputs": [],
   "source": [
    "# cd gif_bin_images\n",
    "# convert -delay 90 -loop 0 *.png binary_map.gif"
   ]
  }
 ],
 "metadata": {
  "kernelspec": {
   "display_name": "R",
   "language": "R",
   "name": "ir"
  },
  "language_info": {
   "codemirror_mode": "r",
   "file_extension": ".r",
   "mimetype": "text/x-r-source",
   "name": "R",
   "pygments_lexer": "r",
   "version": "3.5.1"
  }
 },
 "nbformat": 4,
 "nbformat_minor": 2
}
