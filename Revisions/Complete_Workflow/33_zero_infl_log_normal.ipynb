{
 "cells": [
  {
   "cell_type": "code",
   "execution_count": 1,
   "metadata": {},
   "outputs": [
    {
     "name": "stderr",
     "output_type": "stream",
     "text": [
      "── Attaching packages ─────────────────────────────────────── tidyverse 1.2.1 ──\n",
      "✔ ggplot2 3.0.0     ✔ purrr   0.2.5\n",
      "✔ tibble  1.4.2     ✔ dplyr   0.7.6\n",
      "✔ tidyr   0.8.1     ✔ stringr 1.3.1\n",
      "✔ readr   1.1.1     ✔ forcats 0.3.0\n",
      "── Conflicts ────────────────────────────────────────── tidyverse_conflicts() ──\n",
      "✖ dplyr::filter() masks stats::filter()\n",
      "✖ dplyr::lag()    masks stats::lag()\n"
     ]
    }
   ],
   "source": [
    "library(tidyverse)"
   ]
  },
  {
   "cell_type": "markdown",
   "metadata": {},
   "source": [
    "# Log-normal component"
   ]
  },
  {
   "cell_type": "code",
   "execution_count": 2,
   "metadata": {},
   "outputs": [],
   "source": [
    "tor_train_df <- read.csv('/home/jeremy/tornadoesr/data/raw/tor_train_set_no_zeros.csv') %>% select(-c(JULIAN_DAY, BEGIN_TIME))\n",
    "tor_cv_df <- read.csv('/home/jeremy/tornadoesr/data/raw/tor_cv_set_no_zeros.csv') %>% select(-c(JULIAN_DAY, BEGIN_TIME))"
   ]
  },
  {
   "cell_type": "code",
   "execution_count": 3,
   "metadata": {},
   "outputs": [
    {
     "data": {
      "image/png": "[encoded data removed]",
      "text/plain": [
       "Plot with title “Histogram of tor_train_df$DAMAGE_PROPERTY”"
      ]
     },
     "metadata": {},
     "output_type": "display_data",
     "source": "R display func"
    }
   ],
   "source": [
    "par(mfrow = c(1, 2), pty = 's')\n",
    "qqplot(tor_train_df$DAMAGE_PROPERTY,\n",
    "       rnorm(nrow(tor_train_df),\n",
    "             mean(tor_train_df$DAMAGE_PROPERTY),\n",
    "             sd(tor_train_df$DAMAGE_PROPERTY)))\n",
    "abline(0, 1)\n",
    "hist(tor_train_df$DAMAGE_PROPERTY)"
   ]
  },
  {
   "cell_type": "code",
   "execution_count": 4,
   "metadata": {},
   "outputs": [],
   "source": [
    "log_norm_fit <- lm(DAMAGE_PROPERTY ~ ., data = tor_train_df)"
   ]
  },
  {
   "cell_type": "markdown",
   "metadata": {},
   "source": [
    "## Log-normal evaluation"
   ]
  },
  {
   "cell_type": "code",
   "execution_count": 5,
   "metadata": {},
   "outputs": [
    {
     "name": "stderr",
     "output_type": "stream",
     "text": [
      "Warning message in predict.lm(log_norm_fit, newdata = tor_cv_df):\n",
      "“prediction from a rank-deficient fit may be misleading”"
     ]
    }
   ],
   "source": [
    "cv_yhat <- predict(log_norm_fit, newdata = tor_cv_df)"
   ]
  },
  {
   "cell_type": "code",
   "execution_count": 6,
   "metadata": {},
   "outputs": [
    {
     "data": {
      "text/html": [
       "0.413497938088912"
      ],
      "text/latex": [
       "0.413497938088912"
      ],
      "text/markdown": [
       "0.413497938088912"
      ],
      "text/plain": [
       "[1] 0.4134979"
      ]
     },
     "metadata": {},
     "output_type": "display_data"
    }
   ],
   "source": [
    "cor(cv_yhat, tor_cv_df$DAMAGE_PROPERTY)^2"
   ]
  },
  {
   "cell_type": "code",
   "execution_count": 7,
   "metadata": {},
   "outputs": [
    {
     "data": {
      "text/html": [
       "0.100200368778002"
      ],
      "text/latex": [
       "0.100200368778002"
      ],
      "text/markdown": [
       "0.100200368778002"
      ],
      "text/plain": [
       "[1] 0.1002004"
      ]
     },
     "metadata": {},
     "output_type": "display_data"
    }
   ],
   "source": [
    "sum((cv_yhat - tor_cv_df$DAMAGE_PROPERTY)^2) / length(cv_yhat)"
   ]
  },
  {
   "cell_type": "markdown",
   "metadata": {},
   "source": [
    "# Logistic fit"
   ]
  },
  {
   "cell_type": "code",
   "execution_count": 8,
   "metadata": {},
   "outputs": [
    {
     "name": "stderr",
     "output_type": "stream",
     "text": [
      "Type 'citation(\"pROC\")' for a citation.\n",
      "\n",
      "Attaching package: ‘pROC’\n",
      "\n",
      "The following objects are masked from ‘package:stats’:\n",
      "\n",
      "    cov, smooth, var\n",
      "\n"
     ]
    }
   ],
   "source": [
    "library(pROC)"
   ]
  },
  {
   "cell_type": "code",
   "execution_count": 9,
   "metadata": {},
   "outputs": [],
   "source": [
    "tor_train_df <- read.csv('/home/jeremy/tornadoesr/data/raw/tor_train_set.csv') %>% select(-c(JULIAN_DAY, BEGIN_TIME))\n",
    "tor_cv_df <- read.csv('/home/jeremy/tornadoesr/data/raw/tor_cv_set.csv') %>% select(-c(JULIAN_DAY, BEGIN_TIME))"
   ]
  },
  {
   "cell_type": "code",
   "execution_count": 10,
   "metadata": {},
   "outputs": [],
   "source": [
    "tor_train_df$DAMAGE_PROPERTY <- as.numeric(tor_train_df$DAMAGE_PROPERTY == min(tor_train_df$DAMAGE_PROPERTY))\n",
    "tor_cv_df$DAMAGE_PROPERTY <- as.numeric(tor_cv_df$DAMAGE_PROPERTY == min(tor_cv_df$DAMAGE_PROPERTY))"
   ]
  },
  {
   "cell_type": "code",
   "execution_count": 11,
   "metadata": {},
   "outputs": [],
   "source": [
    "logistic_fit <- glm(DAMAGE_PROPERTY ~ ., data = tor_train_df, family = 'binomial')"
   ]
  },
  {
   "cell_type": "code",
   "execution_count": 12,
   "metadata": {},
   "outputs": [
    {
     "name": "stderr",
     "output_type": "stream",
     "text": [
      "Warning message in predict.lm(object, newdata, se.fit, scale = 1, type = ifelse(type == :\n",
      "“prediction from a rank-deficient fit may be misleading”"
     ]
    }
   ],
   "source": [
    "cv_yhat <- predict(logistic_fit, newdata = tor_cv_df, type = 'response')"
   ]
  },
  {
   "cell_type": "markdown",
   "metadata": {},
   "source": [
    "## Logistic evaluation"
   ]
  },
  {
   "cell_type": "code",
   "execution_count": 13,
   "metadata": {},
   "outputs": [
    {
     "data": {
      "text/html": [
       "0.852684093641944"
      ],
      "text/latex": [
       "0.852684093641944"
      ],
      "text/markdown": [
       "0.852684093641944"
      ],
      "text/plain": [
       "Area under the curve: 0.8527"
      ]
     },
     "metadata": {},
     "output_type": "display_data"
    }
   ],
   "source": [
    "roc_obj <- roc(tor_cv_df$DAMAGE_PROPERTY, cv_yhat)\n",
    "auc(roc_obj)"
   ]
  },
  {
   "cell_type": "code",
   "execution_count": 14,
   "metadata": {},
   "outputs": [
    {
     "data": {
      "text/html": [
       "0.813151927437642"
      ],
      "text/latex": [
       "0.813151927437642"
      ],
      "text/markdown": [
       "0.813151927437642"
      ],
      "text/plain": [
       "[1] 0.8131519"
      ]
     },
     "metadata": {},
     "output_type": "display_data"
    }
   ],
   "source": [
    "sum(tor_cv_df$DAMAGE_PROPERTY == round(cv_yhat)) / nrow(tor_cv_df)"
   ]
  },
  {
   "cell_type": "code",
   "execution_count": null,
   "metadata": {},
   "outputs": [],
   "source": []
  }
 ],
 "metadata": {
  "kernelspec": {
   "display_name": "R",
   "language": "R",
   "name": "ir"
  },
  "language_info": {
   "codemirror_mode": "r",
   "file_extension": ".r",
   "mimetype": "text/x-r-source",
   "name": "R",
   "pygments_lexer": "r",
   "version": "3.5.1"
  }
 },
 "nbformat": 4,
 "nbformat_minor": 2
}
