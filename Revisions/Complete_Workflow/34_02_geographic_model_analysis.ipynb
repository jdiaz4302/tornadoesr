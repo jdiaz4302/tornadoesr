{
 "cells": [
  {
   "cell_type": "code",
   "execution_count": 1,
   "metadata": {},
   "outputs": [
    {
     "data": {
      "text/html": [
       "<table>\n",
       "<thead><tr><th scope=col>X</th><th scope=col>true</th><th scope=col>pred</th><th scope=col>indicator</th><th scope=col>probs</th><th scope=col>dam_ind</th><th scope=col>jitter</th><th scope=col>lon</th><th scope=col>lat</th></tr></thead>\n",
       "<tbody>\n",
       "\t<tr><td>0         </td><td>141599.76 </td><td>28787.56  </td><td>black     </td><td>0.83460754</td><td>1         </td><td>0.06731716</td><td> -95.1000 </td><td>38.6000   </td></tr>\n",
       "\t<tr><td>1         </td><td>     0.00 </td><td>23314.01  </td><td>red       </td><td>0.02270062</td><td>0         </td><td>0.19189214</td><td>-103.5800 </td><td>39.7800   </td></tr>\n",
       "\t<tr><td>2         </td><td>     0.00 </td><td>30166.88  </td><td>red       </td><td>0.96160350</td><td>0         </td><td>0.16385760</td><td> -78.4700 </td><td>33.9000   </td></tr>\n",
       "\t<tr><td>3         </td><td> 11441.85 </td><td>27791.40  </td><td>black     </td><td>0.26483494</td><td>1         </td><td>0.00595423</td><td> -99.6923 </td><td>36.9503   </td></tr>\n",
       "\t<tr><td>4         </td><td> 10640.58 </td><td>31224.17  </td><td>black     </td><td>0.19895664</td><td>1         </td><td>0.04724601</td><td> -97.6640 </td><td>32.5550   </td></tr>\n",
       "\t<tr><td>5         </td><td>     0.00 </td><td>79254.77  </td><td>red       </td><td>0.94045730</td><td>0         </td><td>0.07069670</td><td> -93.5780 </td><td>36.6784   </td></tr>\n",
       "</tbody>\n",
       "</table>\n"
      ],
      "text/latex": [
       "\\begin{tabular}{r|lllllllll}\n",
       " X & true & pred & indicator & probs & dam\\_ind & jitter & lon & lat\\\\\n",
       "\\hline\n",
       "\t 0          & 141599.76  & 28787.56   & black      & 0.83460754 & 1          & 0.06731716 &  -95.1000  & 38.6000   \\\\\n",
       "\t 1          &      0.00  & 23314.01   & red        & 0.02270062 & 0          & 0.19189214 & -103.5800  & 39.7800   \\\\\n",
       "\t 2          &      0.00  & 30166.88   & red        & 0.96160350 & 0          & 0.16385760 &  -78.4700  & 33.9000   \\\\\n",
       "\t 3          &  11441.85  & 27791.40   & black      & 0.26483494 & 1          & 0.00595423 &  -99.6923  & 36.9503   \\\\\n",
       "\t 4          &  10640.58  & 31224.17   & black      & 0.19895664 & 1          & 0.04724601 &  -97.6640  & 32.5550   \\\\\n",
       "\t 5          &      0.00  & 79254.77   & red        & 0.94045730 & 0          & 0.07069670 &  -93.5780  & 36.6784   \\\\\n",
       "\\end{tabular}\n"
      ],
      "text/markdown": [
       "\n",
       "X | true | pred | indicator | probs | dam_ind | jitter | lon | lat | \n",
       "|---|---|---|---|---|---|\n",
       "| 0          | 141599.76  | 28787.56   | black      | 0.83460754 | 1          | 0.06731716 |  -95.1000  | 38.6000    | \n",
       "| 1          |      0.00  | 23314.01   | red        | 0.02270062 | 0          | 0.19189214 | -103.5800  | 39.7800    | \n",
       "| 2          |      0.00  | 30166.88   | red        | 0.96160350 | 0          | 0.16385760 |  -78.4700  | 33.9000    | \n",
       "| 3          |  11441.85  | 27791.40   | black      | 0.26483494 | 1          | 0.00595423 |  -99.6923  | 36.9503    | \n",
       "| 4          |  10640.58  | 31224.17   | black      | 0.19895664 | 1          | 0.04724601 |  -97.6640  | 32.5550    | \n",
       "| 5          |      0.00  | 79254.77   | red        | 0.94045730 | 0          | 0.07069670 |  -93.5780  | 36.6784    | \n",
       "\n",
       "\n"
      ],
      "text/plain": [
       "  X true      pred     indicator probs      dam_ind jitter     lon      \n",
       "1 0 141599.76 28787.56 black     0.83460754 1       0.06731716  -95.1000\n",
       "2 1      0.00 23314.01 red       0.02270062 0       0.19189214 -103.5800\n",
       "3 2      0.00 30166.88 red       0.96160350 0       0.16385760  -78.4700\n",
       "4 3  11441.85 27791.40 black     0.26483494 1       0.00595423  -99.6923\n",
       "5 4  10640.58 31224.17 black     0.19895664 1       0.04724601  -97.6640\n",
       "6 5      0.00 79254.77 red       0.94045730 0       0.07069670  -93.5780\n",
       "  lat    \n",
       "1 38.6000\n",
       "2 39.7800\n",
       "3 33.9000\n",
       "4 36.9503\n",
       "5 32.5550\n",
       "6 36.6784"
      ]
     },
     "metadata": {},
     "output_type": "display_data"
    }
   ],
   "source": [
    "test_set_perf <- read.csv('/home/jeremy/tornadoesr/data/raw/final_test_set_perf.csv')\n",
    "\n",
    "old_df <- read.csv('/home/jeremy/tornadoesr/data/raw/tor_data_inflation_adj.csv')\n",
    "\n",
    "lat_mu <- mean(old_df$BEGIN_LAT)\n",
    "lat_sd <- sd(old_df$BEGIN_LAT)\n",
    "lon_mu <- mean(old_df$BEGIN_LON)\n",
    "lon_sd <- sd(old_df$BEGIN_LON)\n",
    "dam_mu <- mean(log(old_df$DAMAGE_PROPERTY + 1))\n",
    "dam_sd <- sd(log(old_df$DAMAGE_PROPERTY + 1))\n",
    "\n",
    "test_set_perf$lat <- test_set_perf$lat*lat_sd+lat_mu\n",
    "test_set_perf$lon <- test_set_perf$lon*lon_sd+lon_mu\n",
    "\n",
    "test_set_perf$true <- exp(test_set_perf$true*dam_sd+dam_mu) - 1\n",
    "test_set_perf$pred <- exp(test_set_perf$pred*dam_sd+dam_mu) - 1\n",
    "\n",
    "head(test_set_perf)"
   ]
  },
  {
   "cell_type": "code",
   "execution_count": 2,
   "metadata": {},
   "outputs": [
    {
     "name": "stderr",
     "output_type": "stream",
     "text": [
      "Loading required package: sp\n"
     ]
    }
   ],
   "source": [
    "library(ggplot2)\n",
    "library(raster)"
   ]
  },
  {
   "cell_type": "code",
   "execution_count": 3,
   "metadata": {},
   "outputs": [],
   "source": [
    "states <- map_data(\"state\")"
   ]
  },
  {
   "cell_type": "code",
   "execution_count": 4,
   "metadata": {},
   "outputs": [
    {
     "data": {},
     "metadata": {},
     "output_type": "display_data"
    },
    {
     "data": {
      "text/html": [
       "<strong>png:</strong> 2"
      ],
      "text/latex": [
       "\\textbf{png:} 2"
      ],
      "text/markdown": [
       "**png:** 2"
      ],
      "text/plain": [
       "png \n",
       "  2 "
      ]
     },
     "metadata": {},
     "output_type": "display_data"
    }
   ],
   "source": [
    "png('maps/resid_test_points.png', height = 8, width = 8, units = 'in', res = 300)\n",
    "ggplot(data = states) + \n",
    "  geom_polygon(aes(x = long, y = lat, group = group), color = \"black\", fill = 'NA', lwd = 0.05) +\n",
    "  viridis::scale_color_viridis('Absolute residual',\n",
    "                               breaks = c(1, 2, 3, 4, 5, 6, 7, 8, 9),\n",
    "                               labels = c('$10', '$100', '$1,000', '$10,000', '$100,000', '$1,000,000', '$10,000,000', '$100,000,000', '$1,000,000,000'),\n",
    "                               direction = -1, option = 'B') + \n",
    "  coord_quickmap() +\n",
    "  guides(fill = FALSE) +\n",
    "  geom_point(data = test_set_perf, aes(x = lon,\n",
    "                                       y = lat,\n",
    "                                       color = log10(sqrt((pred - true)^2) + 1)),\n",
    "               size = 3, pch = 21, stroke = 0.5) +\n",
    "  theme_minimal() +\n",
    "  theme(panel.grid = element_blank(),\n",
    "        axis.title = element_blank(),\n",
    "        axis.text = element_blank(),\n",
    "        axis.ticks = element_blank())\n",
    "dev.off()"
   ]
  },
  {
   "cell_type": "code",
   "execution_count": 5,
   "metadata": {},
   "outputs": [],
   "source": [
    "library(akima)\n",
    "library(reshape2)"
   ]
  },
  {
   "cell_type": "code",
   "execution_count": 39,
   "metadata": {},
   "outputs": [
    {
     "data": {},
     "metadata": {},
     "output_type": "display_data"
    },
    {
     "data": {
      "text/html": [
       "<strong>png:</strong> 2"
      ],
      "text/latex": [
       "\\textbf{png:} 2"
      ],
      "text/markdown": [
       "**png:** 2"
      ],
      "text/plain": [
       "png \n",
       "  2 "
      ]
     },
     "metadata": {},
     "output_type": "display_data"
    }
   ],
   "source": [
    "fld <- with(test_set_perf, interp(x = lon, y = lat, z = log10(sqrt((true - pred)^2) + 1), duplicate = 'mean'))\n",
    "\n",
    "df <- melt(fld$z, na.rm = TRUE)\n",
    "names(df) <- c(\"x\", \"y\", \"resid\")\n",
    "df$Lon <- fld$x[df$x]\n",
    "df$Lat <- fld$y[df$y]\n",
    "png('maps/resid_test_interp.png', height = 8, width = 8, units = 'in', res = 300)\n",
    "ggplot(data = states) + \n",
    "  coord_quickmap() +\n",
    "  geom_tile(data = df, aes(x = Lon, y = Lat, fill = resid)) +\n",
    "  geom_polygon(aes(x = long, y = lat, group = group), color = \"white\", fill = 'NA', lwd = 0.5) +\n",
    "  viridis::scale_fill_viridis('Absolute residual',\n",
    "                               breaks = c(1, 2, 3, 4, 5, 6, 7, 8, 9),\n",
    "                               labels = c('$10', '$100', '$1,000', '$10,000', '$100,000', '$1,000,000', '$10,000,000', '$100,000,000', '$1,000,000,000'),\n",
    "                               direction = -1, option = 'B') +\n",
    "  viridis::scale_color_viridis(direction = -1, option = 'B') +\n",
    "  theme_minimal() +\n",
    "  theme(panel.grid = element_blank(),\n",
    "        axis.title = element_blank(),\n",
    "        axis.text = element_blank(),\n",
    "        axis.ticks = element_blank())\n",
    "dev.off()"
   ]
  },
  {
   "cell_type": "code",
   "execution_count": 7,
   "metadata": {},
   "outputs": [
    {
     "data": {},
     "metadata": {},
     "output_type": "display_data"
    },
    {
     "data": {
      "text/html": [
       "<strong>png:</strong> 2"
      ],
      "text/latex": [
       "\\textbf{png:} 2"
      ],
      "text/markdown": [
       "**png:** 2"
      ],
      "text/plain": [
       "png \n",
       "  2 "
      ]
     },
     "metadata": {},
     "output_type": "display_data"
    }
   ],
   "source": [
    "png('maps/resid_test_points_bin.png', height = 8, width = 8, units = 'in', res = 300)\n",
    "ggplot(data = states) + \n",
    "  geom_polygon(aes(x = long, y = lat, group = group), color = \"black\", fill = 'NA', lwd = 0.05) +\n",
    "  viridis::scale_color_viridis('Squarred residual',\n",
    "                               breaks = c(0.1, 0.3, 0.5, 0.7, 0.9),\n",
    "                               direction = -1, option = 'B') + \n",
    "  coord_quickmap() +\n",
    "  guides(fill = FALSE) +\n",
    "  geom_point(data = test_set_perf, aes(x = lon,\n",
    "                                       y = lat,\n",
    "                                       color = (dam_ind - probs)^2),\n",
    "               size = 3, pch = 21, stroke = 0.5) +\n",
    "  theme_minimal() +\n",
    "  theme(panel.grid = element_blank(),\n",
    "        axis.title = element_blank(),\n",
    "        axis.text = element_blank(),\n",
    "        axis.ticks = element_blank())\n",
    "dev.off()"
   ]
  },
  {
   "cell_type": "code",
   "execution_count": 8,
   "metadata": {},
   "outputs": [
    {
     "data": {},
     "metadata": {},
     "output_type": "display_data"
    },
    {
     "data": {
      "text/html": [
       "<strong>png:</strong> 2"
      ],
      "text/latex": [
       "\\textbf{png:} 2"
      ],
      "text/markdown": [
       "**png:** 2"
      ],
      "text/plain": [
       "png \n",
       "  2 "
      ]
     },
     "metadata": {},
     "output_type": "display_data"
    }
   ],
   "source": [
    "fld <- with(test_set_perf, interp(x = lon, y = lat, z = (dam_ind - probs)^2, duplicate = 'mean'))\n",
    "\n",
    "df <- melt(fld$z, na.rm = TRUE)\n",
    "names(df) <- c(\"x\", \"y\", \"resid\")\n",
    "df$Lon <- fld$x[df$x]\n",
    "df$Lat <- fld$y[df$y]\n",
    "png('maps/resid_test_interp_bin.png', height = 8, width = 8, units = 'in', res = 300)\n",
    "ggplot(data = states) + \n",
    "  coord_quickmap() +\n",
    "  geom_tile(data = df, aes(x = Lon, y = Lat, fill = resid)) +\n",
    "  geom_polygon(aes(x = long, y = lat, group = group), color = \"black\", fill = 'NA', lwd = 0.5) +\n",
    "  viridis::scale_fill_viridis('Squarred residual',\n",
    "                               breaks = c(0.1, 0.3, 0.5, 0.7, 0.9),\n",
    "                               direction = -1, option = 'B') +\n",
    "  theme_minimal() +\n",
    "  theme(panel.grid = element_blank(),\n",
    "        axis.title = element_blank(),\n",
    "        axis.text = element_blank(),\n",
    "        axis.ticks = element_blank())\n",
    "dev.off()"
   ]
  },
  {
   "cell_type": "markdown",
   "metadata": {},
   "source": [
    "# Kansas"
   ]
  },
  {
   "cell_type": "code",
   "execution_count": 9,
   "metadata": {},
   "outputs": [],
   "source": [
    "KS <- subset(states, region %in% c(\"kansas\"))"
   ]
  },
  {
   "cell_type": "code",
   "execution_count": 10,
   "metadata": {},
   "outputs": [],
   "source": [
    "KS_test_df <- dplyr::filter(test_set_perf, (min(KS$lat) - 1) <= lat &\n",
    "                                          lat <= (max(KS$lat) + 1))\n",
    "KS_test_df <- dplyr::filter(KS_test_df, (min(KS$long) - 1) <= lon &\n",
    "                                         lon <= (max(KS$long) + 1))"
   ]
  },
  {
   "cell_type": "code",
   "execution_count": 11,
   "metadata": {},
   "outputs": [
    {
     "data": {},
     "metadata": {},
     "output_type": "display_data"
    },
    {
     "data": {
      "text/html": [
       "<strong>png:</strong> 2"
      ],
      "text/latex": [
       "\\textbf{png:} 2"
      ],
      "text/markdown": [
       "**png:** 2"
      ],
      "text/plain": [
       "png \n",
       "  2 "
      ]
     },
     "metadata": {},
     "output_type": "display_data"
    }
   ],
   "source": [
    "png('maps/resid_test_points_KS.png', height = 8, width = 8, units = 'in', res = 300)\n",
    "ggplot(data = KS) + \n",
    "  geom_polygon(aes(x = long, y = lat, group = group), color = \"black\", fill = 'NA', lwd = 0.5) +\n",
    "  viridis::scale_color_viridis('Absolute residual',\n",
    "                               breaks = c(1, 2, 3, 4, 5, 6, 7, 8, 9),\n",
    "                               labels = c('$10', '$100', '$1,000', '$10,000', '$100,000', '$1,000,000', '$10,000,000', '$100,000,000', '$1,000,000,000'),\n",
    "                               direction = -1, option = 'B') + \n",
    "  coord_quickmap() +\n",
    "  guides(fill = FALSE) +\n",
    "  geom_point(data = KS_test_df, aes(x = lon,\n",
    "                                       y = lat,\n",
    "                                       color = log10(sqrt((pred - true)**2) + 1)),\n",
    "               size = 3, pch = 21, stroke = 2) +\n",
    "  theme_minimal() +\n",
    "  theme(panel.grid = element_blank(),\n",
    "        axis.title = element_blank(),\n",
    "        axis.text = element_blank(),\n",
    "        axis.ticks = element_blank()) +\n",
    "  xlim(min(KS$long) - 1, max(KS$long) + 1) +\n",
    "  ylim(min(KS$lat) - 1, max(KS$lat) + 1) +\n",
    "  labs(title = 'Kansas')\n",
    "dev.off()"
   ]
  },
  {
   "cell_type": "code",
   "execution_count": 12,
   "metadata": {},
   "outputs": [
    {
     "data": {},
     "metadata": {},
     "output_type": "display_data"
    },
    {
     "data": {
      "text/html": [
       "<strong>png:</strong> 2"
      ],
      "text/latex": [
       "\\textbf{png:} 2"
      ],
      "text/markdown": [
       "**png:** 2"
      ],
      "text/plain": [
       "png \n",
       "  2 "
      ]
     },
     "metadata": {},
     "output_type": "display_data"
    }
   ],
   "source": [
    "fld <- with(KS_test_df, interp(x = lon, y = lat, z = log10(sqrt((true - pred)^2) + 1), duplicate = 'mean'))\n",
    "\n",
    "df <- melt(fld$z, na.rm = TRUE)\n",
    "names(df) <- c(\"x\", \"y\", \"resid\")\n",
    "df$Lon <- fld$x[df$x]\n",
    "df$Lat <- fld$y[df$y]\n",
    "png('maps/resid_test_interp_KS.png', height = 8, width = 8, units = 'in', res = 300)\n",
    "ggplot(data = KS) + \n",
    "  coord_quickmap() +\n",
    "  geom_tile(data = df, aes(x = Lon, y = Lat, fill = resid)) +\n",
    "  geom_polygon(aes(x = long, y = lat, group = group), color = \"white\", fill = 'NA', lwd = 1) +\n",
    "  viridis::scale_fill_viridis('Absolute residual',\n",
    "                               breaks = c(1, 2, 3, 4, 5, 6, 7, 8, 9),\n",
    "                               labels = c('$10', '$100', '$1,000', '$10,000', '$100,000', '$1,000,000', '$10,000,000', '$100,000,000', '$1,000,000,000'),\n",
    "                               direction = -1, option = 'B') +\n",
    "  theme_minimal() +\n",
    "  theme(panel.grid = element_blank(),\n",
    "        axis.title = element_blank(),\n",
    "        axis.text = element_blank(),\n",
    "        axis.ticks = element_blank()) +\n",
    "  xlim(min(KS$long) - 1, max(KS$long) + 1) +\n",
    "  ylim(min(KS$lat) - 1, max(KS$lat) + 1) +\n",
    "  labs(title = 'Kansas')\n",
    "dev.off()"
   ]
  },
  {
   "cell_type": "code",
   "execution_count": 13,
   "metadata": {},
   "outputs": [
    {
     "data": {},
     "metadata": {},
     "output_type": "display_data"
    },
    {
     "data": {
      "text/html": [
       "<strong>png:</strong> 2"
      ],
      "text/latex": [
       "\\textbf{png:} 2"
      ],
      "text/markdown": [
       "**png:** 2"
      ],
      "text/plain": [
       "png \n",
       "  2 "
      ]
     },
     "metadata": {},
     "output_type": "display_data"
    }
   ],
   "source": [
    "png('maps/resid_test_points_bin_KS.png', height = 8, width = 8, units = 'in', res = 300)\n",
    "ggplot(data = KS) + \n",
    "  geom_polygon(aes(x = long, y = lat, group = group), color = \"black\", fill = 'NA', lwd = 0.5) +\n",
    "  viridis::scale_color_viridis('Squarred residual',\n",
    "                               breaks = c(0.1, 0.3, 0.5, 0.7, 0.9),\n",
    "                               direction = -1, option = 'B') + \n",
    "  coord_quickmap() +\n",
    "  guides(fill = FALSE) +\n",
    "  geom_point(data = KS_test_df, aes(x = lon,\n",
    "                                       y = lat,\n",
    "                                       color = (dam_ind - probs)^2),\n",
    "               size = 3, pch = 21, stroke = 2) +\n",
    "  theme_minimal() +\n",
    "  theme(panel.grid = element_blank(),\n",
    "        axis.title = element_blank(),\n",
    "        axis.text = element_blank(),\n",
    "        axis.ticks = element_blank()) +\n",
    "  labs(title = 'Kansas')\n",
    "dev.off()"
   ]
  },
  {
   "cell_type": "code",
   "execution_count": 14,
   "metadata": {},
   "outputs": [
    {
     "data": {},
     "metadata": {},
     "output_type": "display_data"
    },
    {
     "data": {
      "text/html": [
       "<strong>png:</strong> 2"
      ],
      "text/latex": [
       "\\textbf{png:} 2"
      ],
      "text/markdown": [
       "**png:** 2"
      ],
      "text/plain": [
       "png \n",
       "  2 "
      ]
     },
     "metadata": {},
     "output_type": "display_data"
    }
   ],
   "source": [
    "fld <- with(KS_test_df, interp(x = lon, y = lat, z = (dam_ind - probs)^2, duplicate = 'mean'))\n",
    "\n",
    "df <- melt(fld$z, na.rm = TRUE)\n",
    "names(df) <- c(\"x\", \"y\", \"resid\")\n",
    "df$Lon <- fld$x[df$x]\n",
    "df$Lat <- fld$y[df$y]\n",
    "png('maps/resid_test_interp_bin_KS.png', height = 8, width = 8, units = 'in', res = 300)\n",
    "ggplot(data = KS) + \n",
    "  coord_quickmap() +\n",
    "  geom_tile(data = df, aes(x = Lon, y = Lat, fill = resid)) +\n",
    "  geom_polygon(aes(x = long, y = lat, group = group), color = \"black\", fill = 'NA', lwd = 1) +\n",
    "  viridis::scale_fill_viridis('Squarred residual',\n",
    "                               breaks = c(0.1, 0.3, 0.5, 0.7, 0.9),\n",
    "                               direction = -1, option = 'B') +\n",
    "  theme_minimal() +\n",
    "  theme(panel.grid = element_blank(),\n",
    "        axis.title = element_blank(),\n",
    "        axis.text = element_blank(),\n",
    "        axis.ticks = element_blank()) +\n",
    "  xlim(min(KS$long) - 1, max(KS$long) + 1) +\n",
    "  ylim(min(KS$lat) - 1, max(KS$lat) + 1) +\n",
    "  labs(title = 'Kansas')\n",
    "dev.off()"
   ]
  },
  {
   "cell_type": "markdown",
   "metadata": {},
   "source": [
    "# Illinois"
   ]
  },
  {
   "cell_type": "code",
   "execution_count": 15,
   "metadata": {},
   "outputs": [],
   "source": [
    "IL <- subset(states, region %in% c(\"illinois\"))"
   ]
  },
  {
   "cell_type": "code",
   "execution_count": 16,
   "metadata": {},
   "outputs": [],
   "source": [
    "IL_test_df <- dplyr::filter(test_set_perf, (min(IL$lat) - 1) <= lat &\n",
    "                                          lat <= (max(IL$lat) + 1))\n",
    "IL_test_df <- dplyr::filter(IL_test_df, (min(IL$long) - 1) <= lon &\n",
    "                                         lon <= (max(IL$long) + 1))"
   ]
  },
  {
   "cell_type": "code",
   "execution_count": 17,
   "metadata": {},
   "outputs": [
    {
     "data": {},
     "metadata": {},
     "output_type": "display_data"
    },
    {
     "data": {
      "text/html": [
       "<strong>png:</strong> 2"
      ],
      "text/latex": [
       "\\textbf{png:} 2"
      ],
      "text/markdown": [
       "**png:** 2"
      ],
      "text/plain": [
       "png \n",
       "  2 "
      ]
     },
     "metadata": {},
     "output_type": "display_data"
    }
   ],
   "source": [
    "png('maps/resid_test_points_IL.png', height = 8, width = 8, units = 'in', res = 300)\n",
    "ggplot(data = IL) + \n",
    "  geom_polygon(aes(x = long, y = lat, group = group), color = \"black\", fill = 'NA', lwd = 0.5) +\n",
    "  viridis::scale_color_viridis('Absolute residual',\n",
    "                               breaks = c(1, 2, 3, 4, 5, 6, 7, 8, 9),\n",
    "                               labels = c('$10', '$100', '$1,000', '$10,000', '$100,000', '$1,000,000', '$10,000,000', '$100,000,000', '$1,000,000,000'),\n",
    "                               direction = -1, option = 'B') + \n",
    "  coord_quickmap() +\n",
    "  guides(fill = FALSE) +\n",
    "  geom_point(data = IL_test_df, aes(x = lon,\n",
    "                                       y = lat,\n",
    "                                       color = log10(sqrt((pred - true)**2) + 1)),\n",
    "               size = 3, pch = 21, stroke = 2) +\n",
    "  theme_minimal() +\n",
    "  theme(panel.grid = element_blank(),\n",
    "        axis.title = element_blank(),\n",
    "        axis.text = element_blank(),\n",
    "        axis.ticks = element_blank()) +\n",
    "  xlim(min(IL$long) - 1, max(IL$long) + 1) +\n",
    "  ylim(min(IL$lat) - 1, max(IL$lat) + 1) +\n",
    "  labs(title = 'Illinois')\n",
    "dev.off()"
   ]
  },
  {
   "cell_type": "code",
   "execution_count": 18,
   "metadata": {},
   "outputs": [
    {
     "data": {},
     "metadata": {},
     "output_type": "display_data"
    },
    {
     "data": {
      "text/html": [
       "<strong>png:</strong> 2"
      ],
      "text/latex": [
       "\\textbf{png:} 2"
      ],
      "text/markdown": [
       "**png:** 2"
      ],
      "text/plain": [
       "png \n",
       "  2 "
      ]
     },
     "metadata": {},
     "output_type": "display_data"
    }
   ],
   "source": [
    "fld <- with(IL_test_df, interp(x = lon, y = lat, z = log10(sqrt((true - pred)^2) + 1), duplicate = 'mean'))\n",
    "\n",
    "df <- melt(fld$z, na.rm = TRUE)\n",
    "names(df) <- c(\"x\", \"y\", \"resid\")\n",
    "df$Lon <- fld$x[df$x]\n",
    "df$Lat <- fld$y[df$y]\n",
    "png('maps/resid_test_interp_IL.png', height = 8, width = 8, units = 'in', res = 300)\n",
    "ggplot(data = IL) + \n",
    "  coord_quickmap() +\n",
    "  geom_tile(data = df, aes(x = Lon, y = Lat, fill = resid)) +\n",
    "  geom_polygon(aes(x = long, y = lat, group = group), color = \"white\", fill = 'NA', lwd = 1) +\n",
    "  viridis::scale_fill_viridis('Absolute residual',\n",
    "                               breaks = c(1, 2, 3, 4, 5, 6, 7, 8, 9),\n",
    "                               labels = c('$10', '$100', '$1,000', '$10,000', '$100,000', '$1,000,000', '$10,000,000', '$100,000,000', '$1,000,000,000'),\n",
    "                               direction = -1, option = 'B') +\n",
    "  theme_minimal() +\n",
    "  theme(panel.grid = element_blank(),\n",
    "        axis.title = element_blank(),\n",
    "        axis.text = element_blank(),\n",
    "        axis.ticks = element_blank()) +\n",
    "  xlim(min(IL$long) - 1, max(IL$long) + 1) +\n",
    "  ylim(min(IL$lat) - 1, max(IL$lat) + 1) +\n",
    "  labs(title = 'Illinois')\n",
    "dev.off()"
   ]
  },
  {
   "cell_type": "code",
   "execution_count": 19,
   "metadata": {},
   "outputs": [
    {
     "data": {},
     "metadata": {},
     "output_type": "display_data"
    },
    {
     "data": {
      "text/html": [
       "<strong>png:</strong> 2"
      ],
      "text/latex": [
       "\\textbf{png:} 2"
      ],
      "text/markdown": [
       "**png:** 2"
      ],
      "text/plain": [
       "png \n",
       "  2 "
      ]
     },
     "metadata": {},
     "output_type": "display_data"
    }
   ],
   "source": [
    "png('maps/resid_test_points_bin_IL.png', height = 8, width = 8, units = 'in', res = 300)\n",
    "ggplot(data = IL) + \n",
    "  geom_polygon(aes(x = long, y = lat, group = group), color = \"black\", fill = 'NA', lwd = 0.5) +\n",
    "  viridis::scale_color_viridis('Squarred residual',\n",
    "                               breaks = c(0.1, 0.3, 0.5, 0.7, 0.9),\n",
    "                               direction = -1, option = 'B') + \n",
    "  coord_quickmap() +\n",
    "  guides(fill = FALSE) +\n",
    "  geom_point(data = IL_test_df, aes(x = lon,\n",
    "                                       y = lat,\n",
    "                                       color = (dam_ind - probs)^2),\n",
    "               size = 3, pch = 21, stroke = 2) +\n",
    "  theme_minimal() +\n",
    "  theme(panel.grid = element_blank(),\n",
    "        axis.title = element_blank(),\n",
    "        axis.text = element_blank(),\n",
    "        axis.ticks = element_blank()) +\n",
    "  labs(title = 'Illinois')\n",
    "dev.off()"
   ]
  },
  {
   "cell_type": "code",
   "execution_count": 20,
   "metadata": {},
   "outputs": [
    {
     "data": {},
     "metadata": {},
     "output_type": "display_data"
    },
    {
     "data": {
      "text/html": [
       "<strong>png:</strong> 2"
      ],
      "text/latex": [
       "\\textbf{png:} 2"
      ],
      "text/markdown": [
       "**png:** 2"
      ],
      "text/plain": [
       "png \n",
       "  2 "
      ]
     },
     "metadata": {},
     "output_type": "display_data"
    }
   ],
   "source": [
    "fld <- with(IL_test_df, interp(x = lon, y = lat, z = (dam_ind - probs)^2, duplicate = 'mean'))\n",
    "\n",
    "df <- melt(fld$z, na.rm = TRUE)\n",
    "names(df) <- c(\"x\", \"y\", \"resid\")\n",
    "df$Lon <- fld$x[df$x]\n",
    "df$Lat <- fld$y[df$y]\n",
    "png('maps/resid_test_interp_bin_IL.png', height = 8, width = 8, units = 'in', res = 300)\n",
    "ggplot(data = IL) + \n",
    "  coord_quickmap() +\n",
    "  geom_tile(data = df, aes(x = Lon, y = Lat, fill = resid)) +\n",
    "  geom_polygon(aes(x = long, y = lat, group = group), color = \"black\", fill = 'NA', lwd = 1) +\n",
    "  viridis::scale_fill_viridis('Squarred residual',\n",
    "                               breaks = c(0.1, 0.3, 0.5, 0.7, 0.9),\n",
    "                               direction = -1, option = 'B') +\n",
    "  theme_minimal() +\n",
    "  theme(panel.grid = element_blank(),\n",
    "        axis.title = element_blank(),\n",
    "        axis.text = element_blank(),\n",
    "        axis.ticks = element_blank()) +\n",
    "  xlim(min(IL$long) - 1, max(IL$long) + 1) +\n",
    "  ylim(min(IL$lat) - 1, max(IL$lat) + 1) +\n",
    "  labs(title = 'Illinois')\n",
    "dev.off()"
   ]
  },
  {
   "cell_type": "markdown",
   "metadata": {},
   "source": [
    "# Alabama"
   ]
  },
  {
   "cell_type": "code",
   "execution_count": 21,
   "metadata": {},
   "outputs": [],
   "source": [
    "AL <- subset(states, region %in% c(\"alabama\"))"
   ]
  },
  {
   "cell_type": "code",
   "execution_count": 22,
   "metadata": {},
   "outputs": [],
   "source": [
    "AL_test_df <- dplyr::filter(test_set_perf, (min(AL$lat) - 1) <= lat &\n",
    "                                          lat <= (max(AL$lat) + 1))\n",
    "AL_test_df <- dplyr::filter(AL_test_df, (min(AL$long) - 1) <= lon &\n",
    "                                         lon <= (max(AL$long) + 1))"
   ]
  },
  {
   "cell_type": "code",
   "execution_count": 23,
   "metadata": {},
   "outputs": [
    {
     "data": {},
     "metadata": {},
     "output_type": "display_data"
    },
    {
     "data": {
      "text/html": [
       "<strong>png:</strong> 2"
      ],
      "text/latex": [
       "\\textbf{png:} 2"
      ],
      "text/markdown": [
       "**png:** 2"
      ],
      "text/plain": [
       "png \n",
       "  2 "
      ]
     },
     "metadata": {},
     "output_type": "display_data"
    }
   ],
   "source": [
    "png('maps/resid_test_points_AL.png', height = 8, width = 8, units = 'in', res = 300)\n",
    "ggplot(data = AL) + \n",
    "  geom_polygon(aes(x = long, y = lat, group = group), color = \"black\", fill = 'NA', lwd = 0.5) +\n",
    "  viridis::scale_color_viridis('Absolute residual',\n",
    "                               breaks = c(1, 2, 3, 4, 5, 6, 7, 8, 9),\n",
    "                               labels = c('$10', '$100', '$1,000', '$10,000', '$100,000', '$1,000,000', '$10,000,000', '$100,000,000', '$1,000,000,000'),\n",
    "                               direction = -1, option = 'B') + \n",
    "  coord_quickmap() +\n",
    "  guides(fill = FALSE) +\n",
    "  geom_point(data = AL_test_df, aes(x = lon,\n",
    "                                       y = lat,\n",
    "                                       color = log10(sqrt((pred - true)**2) + 1)),\n",
    "               size = 3, pch = 21, stroke = 2) +\n",
    "  theme_minimal() +\n",
    "  theme(panel.grid = element_blank(),\n",
    "        axis.title = element_blank(),\n",
    "        axis.text = element_blank(),\n",
    "        axis.ticks = element_blank()) +\n",
    "  xlim(min(AL$long) - 1, max(AL$long) + 1) +\n",
    "  ylim(min(AL$lat) - 1, max(AL$lat) + 1) +\n",
    "  labs(title = 'Alabama')\n",
    "dev.off()"
   ]
  },
  {
   "cell_type": "code",
   "execution_count": 24,
   "metadata": {},
   "outputs": [
    {
     "data": {},
     "metadata": {},
     "output_type": "display_data"
    },
    {
     "data": {
      "text/html": [
       "<strong>png:</strong> 2"
      ],
      "text/latex": [
       "\\textbf{png:} 2"
      ],
      "text/markdown": [
       "**png:** 2"
      ],
      "text/plain": [
       "png \n",
       "  2 "
      ]
     },
     "metadata": {},
     "output_type": "display_data"
    }
   ],
   "source": [
    "fld <- with(AL_test_df, interp(x = lon, y = lat, z = log10(sqrt((true - pred)^2) + 1), duplicate = 'mean'))\n",
    "\n",
    "df <- melt(fld$z, na.rm = TRUE)\n",
    "names(df) <- c(\"x\", \"y\", \"resid\")\n",
    "df$Lon <- fld$x[df$x]\n",
    "df$Lat <- fld$y[df$y]\n",
    "png('maps/resid_test_interp_AL.png', height = 8, width = 8, units = 'in', res = 300)\n",
    "ggplot(data = AL) + \n",
    "  coord_quickmap() +\n",
    "  geom_tile(data = df, aes(x = Lon, y = Lat, fill = resid)) +\n",
    "  geom_polygon(aes(x = long, y = lat, group = group), color = \"white\", fill = 'NA', lwd = 1) +\n",
    "  viridis::scale_fill_viridis('Absolute residual',\n",
    "                               breaks = c(1, 2, 3, 4, 5, 6, 7, 8, 9),\n",
    "                               labels = c('$10', '$100', '$1,000', '$10,000', '$100,000', '$1,000,000', '$10,000,000', '$100,000,000', '$1,000,000,000'),\n",
    "                               direction = -1, option = 'B') +\n",
    "  theme_minimal() +\n",
    "  theme(panel.grid = element_blank(),\n",
    "        axis.title = element_blank(),\n",
    "        axis.text = element_blank(),\n",
    "        axis.ticks = element_blank()) +\n",
    "  xlim(min(AL$long) - 1, max(AL$long) + 1) +\n",
    "  ylim(min(AL$lat) - 1, max(AL$lat) + 1) +\n",
    "  labs(title = 'Alabama')\n",
    "dev.off()"
   ]
  },
  {
   "cell_type": "code",
   "execution_count": 25,
   "metadata": {},
   "outputs": [
    {
     "data": {},
     "metadata": {},
     "output_type": "display_data"
    },
    {
     "data": {
      "text/html": [
       "<strong>png:</strong> 2"
      ],
      "text/latex": [
       "\\textbf{png:} 2"
      ],
      "text/markdown": [
       "**png:** 2"
      ],
      "text/plain": [
       "png \n",
       "  2 "
      ]
     },
     "metadata": {},
     "output_type": "display_data"
    }
   ],
   "source": [
    "png('maps/resid_test_points_bin_AL.png', height = 8, width = 8, units = 'in', res = 300)\n",
    "ggplot(data = AL) + \n",
    "  geom_polygon(aes(x = long, y = lat, group = group), color = \"black\", fill = 'NA', lwd = 0.5) +\n",
    "  viridis::scale_color_viridis('Squarred residual',\n",
    "                               breaks = c(0.1, 0.3, 0.5, 0.7, 0.9),\n",
    "                               direction = -1, option = 'B') + \n",
    "  coord_quickmap() +\n",
    "  guides(fill = FALSE) +\n",
    "  geom_point(data = AL_test_df, aes(x = lon,\n",
    "                                       y = lat,\n",
    "                                       color = (dam_ind - probs)^2),\n",
    "               size = 3, pch = 21, stroke = 2) +\n",
    "  theme_minimal() +\n",
    "  theme(panel.grid = element_blank(),\n",
    "        axis.title = element_blank(),\n",
    "        axis.text = element_blank(),\n",
    "        axis.ticks = element_blank()) +\n",
    "  labs(title = 'Alabama')\n",
    "dev.off()"
   ]
  },
  {
   "cell_type": "code",
   "execution_count": 26,
   "metadata": {},
   "outputs": [
    {
     "data": {},
     "metadata": {},
     "output_type": "display_data"
    },
    {
     "data": {
      "text/html": [
       "<strong>png:</strong> 2"
      ],
      "text/latex": [
       "\\textbf{png:} 2"
      ],
      "text/markdown": [
       "**png:** 2"
      ],
      "text/plain": [
       "png \n",
       "  2 "
      ]
     },
     "metadata": {},
     "output_type": "display_data"
    }
   ],
   "source": [
    "fld <- with(AL_test_df, interp(x = lon, y = lat, z = (dam_ind - probs)^2, duplicate = 'mean'))\n",
    "\n",
    "df <- melt(fld$z, na.rm = TRUE)\n",
    "names(df) <- c(\"x\", \"y\", \"resid\")\n",
    "df$Lon <- fld$x[df$x]\n",
    "df$Lat <- fld$y[df$y]\n",
    "png('maps/resid_test_interp_bin_AL.png', height = 8, width = 8, units = 'in', res = 300)\n",
    "ggplot(data = AL) + \n",
    "  coord_quickmap() +\n",
    "  geom_tile(data = df, aes(x = Lon, y = Lat, fill = resid)) +\n",
    "  geom_polygon(aes(x = long, y = lat, group = group), color = \"black\", fill = 'NA', lwd = 1) +\n",
    "  viridis::scale_fill_viridis('Squarred residual',\n",
    "                               breaks = c(0.1, 0.3, 0.5, 0.7, 0.9),\n",
    "                               direction = -1, option = 'B') +\n",
    "  theme_minimal() +\n",
    "  theme(panel.grid = element_blank(),\n",
    "        axis.title = element_blank(),\n",
    "        axis.text = element_blank(),\n",
    "        axis.ticks = element_blank()) +\n",
    "  xlim(min(AL$long) - 1, max(AL$long) + 1) +\n",
    "  ylim(min(AL$lat) - 1, max(AL$lat) + 1) +\n",
    "  labs(title = 'Alabama')\n",
    "dev.off()"
   ]
  },
  {
   "cell_type": "markdown",
   "metadata": {},
   "source": [
    "# Tennessee"
   ]
  },
  {
   "cell_type": "code",
   "execution_count": 27,
   "metadata": {},
   "outputs": [],
   "source": [
    "TN <- subset(states, region %in% c(\"tennessee\"))"
   ]
  },
  {
   "cell_type": "code",
   "execution_count": 28,
   "metadata": {},
   "outputs": [],
   "source": [
    "TN_test_df <- dplyr::filter(test_set_perf, (min(TN$lat) - 1) <= lat &\n",
    "                                          lat <= (max(TN$lat) + 1))\n",
    "TN_test_df <- dplyr::filter(TN_test_df, (min(TN$long) - 1) <= lon &\n",
    "                                         lon <= (max(TN$long) + 1))"
   ]
  },
  {
   "cell_type": "code",
   "execution_count": 29,
   "metadata": {},
   "outputs": [
    {
     "data": {},
     "metadata": {},
     "output_type": "display_data"
    },
    {
     "data": {
      "text/html": [
       "<strong>png:</strong> 2"
      ],
      "text/latex": [
       "\\textbf{png:} 2"
      ],
      "text/markdown": [
       "**png:** 2"
      ],
      "text/plain": [
       "png \n",
       "  2 "
      ]
     },
     "metadata": {},
     "output_type": "display_data"
    }
   ],
   "source": [
    "png('maps/resid_test_points_TN.png', height = 8, width = 8, units = 'in', res = 300)\n",
    "ggplot(data = TN) + \n",
    "  geom_polygon(aes(x = long, y = lat, group = group), color = \"black\", fill = 'NA', lwd = 0.5) +\n",
    "  viridis::scale_color_viridis('Absolute residual',\n",
    "                               breaks = c(1, 2, 3, 4, 5, 6, 7, 8, 9),\n",
    "                               labels = c('$10', '$100', '$1,000', '$10,000', '$100,000', '$1,000,000', '$10,000,000', '$100,000,000', '$1,000,000,000'),\n",
    "                               direction = -1, option = 'B') + \n",
    "  coord_quickmap() +\n",
    "  guides(fill = FALSE) +\n",
    "  geom_point(data = TN_test_df, aes(x = lon,\n",
    "                                       y = lat,\n",
    "                                       color = log10(sqrt((pred - true)**2) + 1)),\n",
    "               size = 3, pch = 21, stroke = 2) +\n",
    "  theme_minimal() +\n",
    "  theme(panel.grid = element_blank(),\n",
    "        axis.title = element_blank(),\n",
    "        axis.text = element_blank(),\n",
    "        axis.ticks = element_blank()) +\n",
    "  xlim(min(TN$long) - 1, max(TN$long) + 1) +\n",
    "  ylim(min(TN$lat) - 1, max(TN$lat) + 1) +\n",
    "  labs(title = 'Tennessee')\n",
    "dev.off()"
   ]
  },
  {
   "cell_type": "code",
   "execution_count": 30,
   "metadata": {},
   "outputs": [
    {
     "data": {},
     "metadata": {},
     "output_type": "display_data"
    },
    {
     "data": {
      "text/html": [
       "<strong>png:</strong> 2"
      ],
      "text/latex": [
       "\\textbf{png:} 2"
      ],
      "text/markdown": [
       "**png:** 2"
      ],
      "text/plain": [
       "png \n",
       "  2 "
      ]
     },
     "metadata": {},
     "output_type": "display_data"
    }
   ],
   "source": [
    "fld <- with(TN_test_df, interp(x = lon, y = lat, z = log10(sqrt((true - pred)^2) + 1), duplicate = 'mean'))\n",
    "\n",
    "df <- melt(fld$z, na.rm = TRUE)\n",
    "names(df) <- c(\"x\", \"y\", \"resid\")\n",
    "df$Lon <- fld$x[df$x]\n",
    "df$Lat <- fld$y[df$y]\n",
    "png('maps/resid_test_interp_TN.png', height = 8, width = 8, units = 'in', res = 300)\n",
    "ggplot(data = TN) + \n",
    "  coord_quickmap() +\n",
    "  geom_tile(data = df, aes(x = Lon, y = Lat, fill = resid)) +\n",
    "  geom_polygon(aes(x = long, y = lat, group = group), color = \"white\", fill = 'NA', lwd = 1) +\n",
    "  viridis::scale_fill_viridis('Absolute residual',\n",
    "                               breaks = c(1, 2, 3, 4, 5, 6, 7, 8, 9),\n",
    "                               labels = c('$10', '$100', '$1,000', '$10,000', '$100,000', '$1,000,000', '$10,000,000', '$100,000,000', '$1,000,000,000'),\n",
    "                               direction = -1, option = 'B') +\n",
    "  theme_minimal() +\n",
    "  theme(panel.grid = element_blank(),\n",
    "        axis.title = element_blank(),\n",
    "        axis.text = element_blank(),\n",
    "        axis.ticks = element_blank()) +\n",
    "  xlim(min(TN$long) - 1, max(TN$long) + 1) +\n",
    "  ylim(min(TN$lat) - 1, max(TN$lat) + 1) +\n",
    "  labs(title = 'Tennessee')\n",
    "dev.off()"
   ]
  },
  {
   "cell_type": "code",
   "execution_count": 31,
   "metadata": {},
   "outputs": [
    {
     "data": {},
     "metadata": {},
     "output_type": "display_data"
    },
    {
     "data": {
      "text/html": [
       "<strong>png:</strong> 2"
      ],
      "text/latex": [
       "\\textbf{png:} 2"
      ],
      "text/markdown": [
       "**png:** 2"
      ],
      "text/plain": [
       "png \n",
       "  2 "
      ]
     },
     "metadata": {},
     "output_type": "display_data"
    }
   ],
   "source": [
    "png('maps/resid_test_points_bin_TN.png', height = 8, width = 8, units = 'in', res = 300)\n",
    "ggplot(data = TN) + \n",
    "  geom_polygon(aes(x = long, y = lat, group = group), color = \"black\", fill = 'NA', lwd = 0.5) +\n",
    "  viridis::scale_color_viridis('Squarred residual',\n",
    "                               breaks = c(0.1, 0.3, 0.5, 0.7, 0.9),\n",
    "                               direction = -1, option = 'B') + \n",
    "  coord_quickmap() +\n",
    "  guides(fill = FALSE) +\n",
    "  geom_point(data = TN_test_df, aes(x = lon,\n",
    "                                       y = lat,\n",
    "                                       color = (dam_ind - probs)^2),\n",
    "               size = 3, pch = 21, stroke = 2) +\n",
    "  theme_minimal() +\n",
    "  theme(panel.grid = element_blank(),\n",
    "        axis.title = element_blank(),\n",
    "        axis.text = element_blank(),\n",
    "        axis.ticks = element_blank()) +\n",
    "  labs(title = 'Tennessee')\n",
    "dev.off()"
   ]
  },
  {
   "cell_type": "code",
   "execution_count": 32,
   "metadata": {},
   "outputs": [
    {
     "data": {},
     "metadata": {},
     "output_type": "display_data"
    },
    {
     "data": {
      "text/html": [
       "<strong>png:</strong> 2"
      ],
      "text/latex": [
       "\\textbf{png:} 2"
      ],
      "text/markdown": [
       "**png:** 2"
      ],
      "text/plain": [
       "png \n",
       "  2 "
      ]
     },
     "metadata": {},
     "output_type": "display_data"
    }
   ],
   "source": [
    "fld <- with(TN_test_df, interp(x = lon, y = lat, z = (dam_ind - probs)^2, duplicate = 'mean'))\n",
    "\n",
    "df <- melt(fld$z, na.rm = TRUE)\n",
    "names(df) <- c(\"x\", \"y\", \"resid\")\n",
    "df$Lon <- fld$x[df$x]\n",
    "df$Lat <- fld$y[df$y]\n",
    "png('maps/resid_test_interp_bin_TN.png', height = 8, width = 8, units = 'in', res = 300)\n",
    "ggplot(data = TN) + \n",
    "  coord_quickmap() +\n",
    "  geom_tile(data = df, aes(x = Lon, y = Lat, fill = resid)) +\n",
    "  geom_polygon(aes(x = long, y = lat, group = group), color = \"black\", fill = 'NA', lwd = 1) +\n",
    "  viridis::scale_fill_viridis('Squarred residual',\n",
    "                               breaks = c(0.1, 0.3, 0.5, 0.7, 0.9),\n",
    "                               direction = -1, option = 'B') +\n",
    "  theme_minimal() +\n",
    "  theme(panel.grid = element_blank(),\n",
    "        axis.title = element_blank(),\n",
    "        axis.text = element_blank(),\n",
    "        axis.ticks = element_blank()) +\n",
    "  xlim(min(TN$long) - 1, max(TN$long) + 1) +\n",
    "  ylim(min(TN$lat) - 1, max(TN$lat) + 1) +\n",
    "  labs(title = 'Tennessee')\n",
    "dev.off()"
   ]
  },
  {
   "cell_type": "markdown",
   "metadata": {},
   "source": [
    "# Florida"
   ]
  },
  {
   "cell_type": "code",
   "execution_count": 33,
   "metadata": {},
   "outputs": [],
   "source": [
    "FL <- subset(states, region %in% c(\"florida\"))"
   ]
  },
  {
   "cell_type": "code",
   "execution_count": 34,
   "metadata": {},
   "outputs": [],
   "source": [
    "FL_test_df <- dplyr::filter(test_set_perf, (min(FL$lat) - 1) <= lat &\n",
    "                                          lat <= (max(FL$lat) + 1))\n",
    "FL_test_df <- dplyr::filter(FL_test_df, (min(FL$long) - 1) <= lon &\n",
    "                                         lon <= (max(FL$long) + 1))"
   ]
  },
  {
   "cell_type": "code",
   "execution_count": 35,
   "metadata": {},
   "outputs": [
    {
     "data": {},
     "metadata": {},
     "output_type": "display_data"
    },
    {
     "data": {
      "text/html": [
       "<strong>png:</strong> 2"
      ],
      "text/latex": [
       "\\textbf{png:} 2"
      ],
      "text/markdown": [
       "**png:** 2"
      ],
      "text/plain": [
       "png \n",
       "  2 "
      ]
     },
     "metadata": {},
     "output_type": "display_data"
    }
   ],
   "source": [
    "png('maps/resid_test_points_FL.png', height = 8, width = 8, units = 'in', res = 300)\n",
    "ggplot(data = FL) + \n",
    "  geom_polygon(aes(x = long, y = lat, group = group), color = \"black\", fill = 'NA', lwd = 0.5) +\n",
    "  viridis::scale_color_viridis('Absolute residual',\n",
    "                               breaks = c(1, 2, 3, 4, 5, 6, 7, 8, 9),\n",
    "                               labels = c('$10', '$100', '$1,000', '$10,000', '$100,000', '$1,000,000', '$10,000,000', '$100,000,000', '$1,000,000,000'),\n",
    "                               direction = -1, option = 'B') + \n",
    "  coord_quickmap() +\n",
    "  guides(fill = FALSE) +\n",
    "  geom_point(data = FL_test_df, aes(x = lon,\n",
    "                                       y = lat,\n",
    "                                       color = log10(sqrt((pred - true)**2) + 1)),\n",
    "               size = 3, pch = 21, stroke = 2) +\n",
    "  theme_minimal() +\n",
    "  theme(panel.grid = element_blank(),\n",
    "        axis.title = element_blank(),\n",
    "        axis.text = element_blank(),\n",
    "        axis.ticks = element_blank()) +\n",
    "  xlim(min(FL$long) - 1, max(FL$long) + 1) +\n",
    "  ylim(min(FL$lat) - 1, max(FL$lat) + 1) +\n",
    "  labs(title = 'Florida')\n",
    "dev.off()"
   ]
  },
  {
   "cell_type": "code",
   "execution_count": 36,
   "metadata": {},
   "outputs": [
    {
     "data": {},
     "metadata": {},
     "output_type": "display_data"
    },
    {
     "data": {
      "text/html": [
       "<strong>png:</strong> 2"
      ],
      "text/latex": [
       "\\textbf{png:} 2"
      ],
      "text/markdown": [
       "**png:** 2"
      ],
      "text/plain": [
       "png \n",
       "  2 "
      ]
     },
     "metadata": {},
     "output_type": "display_data"
    }
   ],
   "source": [
    "fld <- with(FL_test_df, interp(x = lon, y = lat, z = log10(sqrt((true - pred)^2) + 1), duplicate = 'mean'))\n",
    "\n",
    "df <- melt(fld$z, na.rm = TRUE)\n",
    "names(df) <- c(\"x\", \"y\", \"resid\")\n",
    "df$Lon <- fld$x[df$x]\n",
    "df$Lat <- fld$y[df$y]\n",
    "png('maps/resid_test_interp_FL.png', height = 8, width = 8, units = 'in', res = 300)\n",
    "ggplot(data = FL) + \n",
    "  coord_quickmap() +\n",
    "  geom_tile(data = df, aes(x = Lon, y = Lat, fill = resid)) +\n",
    "  geom_polygon(aes(x = long, y = lat, group = group), color = \"white\", fill = 'NA', lwd = 1) +\n",
    "  viridis::scale_fill_viridis('Absolute residual',\n",
    "                               breaks = c(1, 2, 3, 4, 5, 6, 7, 8, 9),\n",
    "                               labels = c('$10', '$100', '$1,000', '$10,000', '$100,000', '$1,000,000', '$10,000,000', '$100,000,000', '$1,000,000,000'),\n",
    "                               direction = -1, option = 'B') +\n",
    "  theme_minimal() +\n",
    "  theme(panel.grid = element_blank(),\n",
    "        axis.title = element_blank(),\n",
    "        axis.text = element_blank(),\n",
    "        axis.ticks = element_blank()) +\n",
    "  xlim(min(FL$long) - 1, max(FL$long) + 1) +\n",
    "  ylim(min(FL$lat) - 1, max(FL$lat) + 1) +\n",
    "  labs(title = 'Florida')\n",
    "dev.off()"
   ]
  },
  {
   "cell_type": "code",
   "execution_count": 37,
   "metadata": {},
   "outputs": [
    {
     "data": {},
     "metadata": {},
     "output_type": "display_data"
    },
    {
     "data": {
      "text/html": [
       "<strong>png:</strong> 2"
      ],
      "text/latex": [
       "\\textbf{png:} 2"
      ],
      "text/markdown": [
       "**png:** 2"
      ],
      "text/plain": [
       "png \n",
       "  2 "
      ]
     },
     "metadata": {},
     "output_type": "display_data"
    }
   ],
   "source": [
    "png('maps/resid_test_points_bin_FL.png', height = 8, width = 8, units = 'in', res = 300)\n",
    "ggplot(data = FL) + \n",
    "  geom_polygon(aes(x = long, y = lat, group = group), color = \"black\", fill = 'NA', lwd = 0.5) +\n",
    "  viridis::scale_color_viridis('Squarred residual',\n",
    "                               breaks = c(0.1, 0.3, 0.5, 0.7, 0.9),\n",
    "                               direction = -1, option = 'B') + \n",
    "  coord_quickmap() +\n",
    "  guides(fill = FALSE) +\n",
    "  geom_point(data = FL_test_df, aes(x = lon,\n",
    "                                       y = lat,\n",
    "                                       color = (dam_ind - probs)^2),\n",
    "               size = 3, pch = 21, stroke = 2) +\n",
    "  theme_minimal() +\n",
    "  theme(panel.grid = element_blank(),\n",
    "        axis.title = element_blank(),\n",
    "        axis.text = element_blank(),\n",
    "        axis.ticks = element_blank()) +\n",
    "  labs(title = 'Florida')\n",
    "dev.off()"
   ]
  },
  {
   "cell_type": "code",
   "execution_count": 38,
   "metadata": {},
   "outputs": [
    {
     "data": {},
     "metadata": {},
     "output_type": "display_data"
    },
    {
     "data": {
      "text/html": [
       "<strong>png:</strong> 2"
      ],
      "text/latex": [
       "\\textbf{png:} 2"
      ],
      "text/markdown": [
       "**png:** 2"
      ],
      "text/plain": [
       "png \n",
       "  2 "
      ]
     },
     "metadata": {},
     "output_type": "display_data"
    }
   ],
   "source": [
    "fld <- with(FL_test_df, interp(x = lon, y = lat, z = (dam_ind - probs)^2, duplicate = 'mean'))\n",
    "\n",
    "df <- melt(fld$z, na.rm = TRUE)\n",
    "names(df) <- c(\"x\", \"y\", \"resid\")\n",
    "df$Lon <- fld$x[df$x]\n",
    "df$Lat <- fld$y[df$y]\n",
    "png('maps/resid_test_interp_bin_FL.png', height = 8, width = 8, units = 'in', res = 300)\n",
    "ggplot(data = FL) + \n",
    "  coord_quickmap() +\n",
    "  geom_tile(data = df, aes(x = Lon, y = Lat, fill = resid)) +\n",
    "  geom_polygon(aes(x = long, y = lat, group = group), color = \"black\", fill = 'NA', lwd = 1) +\n",
    "  viridis::scale_fill_viridis('Squarred residual',\n",
    "                               breaks = c(0.1, 0.3, 0.5, 0.7, 0.9),\n",
    "                               direction = -1, option = 'B') +\n",
    "  theme_minimal() +\n",
    "  theme(panel.grid = element_blank(),\n",
    "        axis.title = element_blank(),\n",
    "        axis.text = element_blank(),\n",
    "        axis.ticks = element_blank()) +\n",
    "  xlim(min(FL$long) - 1, max(FL$long) + 1) +\n",
    "  ylim(min(FL$lat) - 1, max(FL$lat) + 1) +\n",
    "  labs(title = 'Florida')\n",
    "dev.off()"
   ]
  }
 ],
 "metadata": {
  "kernelspec": {
   "display_name": "R",
   "language": "R",
   "name": "ir"
  },
  "language_info": {
   "codemirror_mode": "r",
   "file_extension": ".r",
   "mimetype": "text/x-r-source",
   "name": "R",
   "pygments_lexer": "r",
   "version": "3.5.1"
  }
 },
 "nbformat": 4,
 "nbformat_minor": 2
}
