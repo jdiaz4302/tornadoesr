{
 "cells": [
  {
   "cell_type": "code",
   "execution_count": 1,
   "metadata": {},
   "outputs": [],
   "source": [
    "import pandas as pd\n",
    "import numpy as np"
   ]
  },
  {
   "cell_type": "code",
   "execution_count": 2,
   "metadata": {},
   "outputs": [],
   "source": [
    "# Import predicted data sets\n",
    "cities_df = pd.read_csv('/home/jeremy/tornadoesr/data/raw/cities_with_predictions.csv')\n",
    "grid_df = pd.read_csv('/home/jeremy/tornadoesr/data/raw/grid_with_predictions.csv')\n",
    "\n",
    "# Import the data set used for data transformations\n",
    "unproc_tor_df = pd.read_csv(\"/home/jeremy/tornadoesr/data/raw/tor_data_inflation_adj.csv\")\n",
    "# Get the parameters for the transformations\n",
    "# For lat\n",
    "mean_lat = np.mean(unproc_tor_df['BEGIN_LAT'])\n",
    "stand_dev_lat = np.std(unproc_tor_df['BEGIN_LAT'])\n",
    "# For lon\n",
    "mean_lon = np.mean(unproc_tor_df['BEGIN_LON'])\n",
    "stand_dev_lon = np.std(unproc_tor_df['BEGIN_LON'])\n",
    "\n",
    "# Undo the data transformations\n",
    "cities_df['lon'] = cities_df['BEGIN_LON']*stand_dev_lon+mean_lon\n",
    "cities_df['lat'] = cities_df['BEGIN_LAT']*stand_dev_lat+mean_lat\n",
    "grid_df['lon'] = grid_df['BEGIN_LON']*stand_dev_lon+mean_lon\n",
    "grid_df['lat'] = grid_df['BEGIN_LAT']*stand_dev_lat+mean_lat"
   ]
  },
  {
   "cell_type": "code",
   "execution_count": 3,
   "metadata": {},
   "outputs": [],
   "source": [
    "# Get log10 damage for color coding and formatted property damage for display\n",
    "# For the city predictions\n",
    "cities_df['log10 property damage'] = np.log10(cities_df['DAMAGE_PROPERTY'] + 1)\n",
    "cities_df['Property damage'] = ['$' + \"{:,}\".format(val) for val in cities_df['DAMAGE_PROPERTY']]\n",
    "# For the grid predictions\n",
    "grid_df['log10 property damage'] = np.log10(grid_df['DAMAGE_PROPERTY'] + 1)\n",
    "grid_df['Property damage'] = ['$' + \"{:,}\".format(val) for val in grid_df['DAMAGE_PROPERTY']]"
   ]
  },
  {
   "cell_type": "code",
   "execution_count": 4,
   "metadata": {},
   "outputs": [],
   "source": [
    "# Saving the data\n",
    "cities_df[['lat', 'lon', 'Property damage', 'log10 property damage']].to_csv('testing1.csv', index = False)\n",
    "grid_df[['lat', 'lon', 'Property damage', 'log10 property damage']].to_csv('testing2.csv', index = False)"
   ]
  }
 ],
 "metadata": {
  "kernelspec": {
   "display_name": "Python 3",
   "language": "python",
   "name": "python3"
  },
  "language_info": {
   "codemirror_mode": {
    "name": "ipython",
    "version": 3
   },
   "file_extension": ".py",
   "mimetype": "text/x-python",
   "name": "python",
   "nbconvert_exporter": "python",
   "pygments_lexer": "ipython3",
   "version": "3.6.7"
  }
 },
 "nbformat": 4,
 "nbformat_minor": 2
}
