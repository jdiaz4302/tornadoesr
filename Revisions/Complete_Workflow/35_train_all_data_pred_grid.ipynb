{
 "cells": [
  {
   "cell_type": "markdown",
   "metadata": {},
   "source": [
    "## Setup"
   ]
  },
  {
   "cell_type": "code",
   "execution_count": 1,
   "metadata": {
    "collapsed": true
   },
   "outputs": [],
   "source": [
    "# Packages\n",
    "import pandas as pd\n",
    "import torch\n",
    "from torch.autograd import Variable\n",
    "import numpy as np\n",
    "import matplotlib\n",
    "import matplotlib.pyplot as plt\n",
    "plt.style.use('seaborn-whitegrid')\n",
    "%matplotlib inline\n",
    "import pylab\n",
    "import math\n",
    "pylab.rcParams['figure.figsize'] = (8.25, 6)\n",
    "from sklearn.metrics import roc_curve, auc, confusion_matrix"
   ]
  },
  {
   "cell_type": "markdown",
   "metadata": {},
   "source": [
    "Importing and formatting the training data"
   ]
  },
  {
   "cell_type": "code",
   "execution_count": 2,
   "metadata": {
    "collapsed": true
   },
   "outputs": [],
   "source": [
    "# Import data\n",
    "tor_df = pd.read_csv(\"/home/jeremy/tornadoesr/data/raw/tor_train_set_no_zeros.csv\")"
   ]
  },
  {
   "cell_type": "code",
   "execution_count": 3,
   "metadata": {},
   "outputs": [
    {
     "data": {
      "text/plain": [
       "['DAMAGE_PROPERTY']"
      ]
     },
     "execution_count": 3,
     "metadata": {},
     "output_type": "execute_result"
    }
   ],
   "source": [
    "# Seperating variables\n",
    "# The outcomes\n",
    "tornado_outcome = tor_df.iloc[:, [2]]\n",
    "\n",
    "\n",
    "# Make sure variable is right\n",
    "list(tornado_outcome)"
   ]
  },
  {
   "cell_type": "code",
   "execution_count": 4,
   "metadata": {},
   "outputs": [
    {
     "data": {
      "text/plain": [
       "['DURATION_SECONDS',\n",
       " 'BEGIN_LAT',\n",
       " 'BEGIN_LON',\n",
       " 'TOR_LENGTH',\n",
       " 'TOR_WIDTH',\n",
       " 'YEAR',\n",
       " 'MULTI_VORT_IND',\n",
       " 'OPEN_WATER_PROP',\n",
       " 'DEV_OPEN_PROP',\n",
       " 'DEV_LOW_PROP',\n",
       " 'DEV_MED_PROP',\n",
       " 'DEV_HIGH_PROP',\n",
       " 'BARREN_LAND_PROP',\n",
       " 'DECID_FOREST_PROP',\n",
       " 'EVERGR_FOREST_PROP',\n",
       " 'MIXED_FOREST_PROP',\n",
       " 'SHRUB_SCRUB_PROP',\n",
       " 'GRASS_LAND_PROP',\n",
       " 'PASTURE_HAY_PROP',\n",
       " 'CULT_CROPS_PROP',\n",
       " 'WOOD_WETLAND_PROP',\n",
       " 'HERB_WETLAND_PROP',\n",
       " 'PERC_MOB_HOMES',\n",
       " 'POP_DENS',\n",
       " 'MEDIAN_HOUSE_INC',\n",
       " 'MED_HOME_AGE',\n",
       " 'NUM_HOMES',\n",
       " 'PERC_WHITE',\n",
       " 'PERC_MALE',\n",
       " 'PERC_KIDS',\n",
       " 'PERC_HIGH_SCHOOL',\n",
       " 'PERC_ASSOC',\n",
       " 'PERC_BACH',\n",
       " 'PERC_GRAD',\n",
       " 'PERC_SENIOR',\n",
       " 'LOWERQ_HOME_VAL',\n",
       " 'MED_HOME_VAL',\n",
       " 'UPPERQ_HOME_VAL',\n",
       " 'PERC_POVERTY',\n",
       " 'GINI_INDEX',\n",
       " 'PERC_NOT_WORKING',\n",
       " 'PERC_COMM_30',\n",
       " 'PERC_COMM_EARLY',\n",
       " 'TOR_AREA',\n",
       " 'TOT_DEV_INT',\n",
       " 'TOT_WOOD_AREA',\n",
       " 'WOOD_DEV_INT',\n",
       " 'EXP_INC_AREA',\n",
       " 'TIME_SPLINE_1',\n",
       " 'TIME_SPLINE_2',\n",
       " 'TIME_SPLINE_3',\n",
       " 'TIME_SPLINE_4',\n",
       " 'TIME_SPLINE_5',\n",
       " 'TIME_SPLINE_6',\n",
       " 'TIME_SPLINE_7',\n",
       " 'TIME_SPLINE_8',\n",
       " 'JULIAN_SPLINE_1',\n",
       " 'JULIAN_SPLINE_2',\n",
       " 'JULIAN_SPLINE_3',\n",
       " 'JULIAN_SPLINE_4',\n",
       " 'JULIAN_SPLINE_5',\n",
       " 'JULIAN_SPLINE_6',\n",
       " 'JULIAN_SPLINE_7',\n",
       " 'JULIAN_SPLINE_8',\n",
       " 'JULIAN_SPLINE_9',\n",
       " 'JULIAN_SPLINE_10',\n",
       " 'JULIAN_SPLINE_11',\n",
       " 'JULIAN_SPLINE_12']"
      ]
     },
     "execution_count": 4,
     "metadata": {},
     "output_type": "execute_result"
    }
   ],
   "source": [
    "# The predictors\n",
    "tornado_predictors = tor_df.iloc[:, 3:]\n",
    "\n",
    "\n",
    "# Make sure the variables are right\n",
    "list(tornado_predictors)"
   ]
  },
  {
   "cell_type": "code",
   "execution_count": 5,
   "metadata": {},
   "outputs": [
    {
     "data": {
      "text/plain": [
       "(9154, 68)"
      ]
     },
     "execution_count": 5,
     "metadata": {},
     "output_type": "execute_result"
    }
   ],
   "source": [
    "tornado_predictors.shape"
   ]
  },
  {
   "cell_type": "code",
   "execution_count": 6,
   "metadata": {
    "collapsed": true
   },
   "outputs": [],
   "source": [
    "# Make the outcomes into a numpy array\n",
    "outcome_array = tornado_outcome.values\n",
    "\n",
    "# Makes that numpy array into a torch Tensor\n",
    "outcome_Tensor = torch.from_numpy(outcome_array)\n",
    "\n",
    "\n",
    "# Make the predictors into a numpy array\n",
    "predictors_array = tornado_predictors.values\n",
    "\n",
    "# Make that numpy array into a torch Tensor\n",
    "predictors_Tensor = torch.from_numpy(predictors_array)\n",
    "\n",
    "\n",
    "# Convert those DoubleTensors to FloatTensors\n",
    "# Changing outcomes from a DoubleTensor to a FloatTensor\n",
    "outcome_Tensor = outcome_Tensor.float()\n",
    "\n",
    "# Changing predictors too\n",
    "predictors_Tensor = predictors_Tensor.float()"
   ]
  },
  {
   "cell_type": "markdown",
   "metadata": {},
   "source": [
    "Now the cross-validation data"
   ]
  },
  {
   "cell_type": "code",
   "execution_count": 7,
   "metadata": {},
   "outputs": [
    {
     "data": {
      "text/plain": [
       "['DAMAGE_PROPERTY']"
      ]
     },
     "execution_count": 7,
     "metadata": {},
     "output_type": "execute_result"
    }
   ],
   "source": [
    "# Import cross-validation data\n",
    "cv_df = pd.read_csv(\"/home/jeremy/tornadoesr/data/raw/tor_cv_set_no_zeros.csv\")\n",
    "\n",
    "\n",
    "# Get the outcomes\n",
    "cv_outcome = cv_df.iloc[:, [2]]\n",
    "\n",
    "# Convert the pandas column to a ndarray and then into a FloatTensor\n",
    "cv_outcome_Tensor = torch.from_numpy(cv_outcome.values).float()\n",
    "\n",
    "\n",
    "# Make sure the variable is right\n",
    "list(cv_outcome)"
   ]
  },
  {
   "cell_type": "code",
   "execution_count": 8,
   "metadata": {},
   "outputs": [
    {
     "data": {
      "text/plain": [
       "['DURATION_SECONDS',\n",
       " 'BEGIN_LAT',\n",
       " 'BEGIN_LON',\n",
       " 'TOR_LENGTH',\n",
       " 'TOR_WIDTH',\n",
       " 'YEAR',\n",
       " 'MULTI_VORT_IND',\n",
       " 'OPEN_WATER_PROP',\n",
       " 'DEV_OPEN_PROP',\n",
       " 'DEV_LOW_PROP',\n",
       " 'DEV_MED_PROP',\n",
       " 'DEV_HIGH_PROP',\n",
       " 'BARREN_LAND_PROP',\n",
       " 'DECID_FOREST_PROP',\n",
       " 'EVERGR_FOREST_PROP',\n",
       " 'MIXED_FOREST_PROP',\n",
       " 'SHRUB_SCRUB_PROP',\n",
       " 'GRASS_LAND_PROP',\n",
       " 'PASTURE_HAY_PROP',\n",
       " 'CULT_CROPS_PROP',\n",
       " 'WOOD_WETLAND_PROP',\n",
       " 'HERB_WETLAND_PROP',\n",
       " 'PERC_MOB_HOMES',\n",
       " 'POP_DENS',\n",
       " 'MEDIAN_HOUSE_INC',\n",
       " 'MED_HOME_AGE',\n",
       " 'NUM_HOMES',\n",
       " 'PERC_WHITE',\n",
       " 'PERC_MALE',\n",
       " 'PERC_KIDS',\n",
       " 'PERC_HIGH_SCHOOL',\n",
       " 'PERC_ASSOC',\n",
       " 'PERC_BACH',\n",
       " 'PERC_GRAD',\n",
       " 'PERC_SENIOR',\n",
       " 'LOWERQ_HOME_VAL',\n",
       " 'MED_HOME_VAL',\n",
       " 'UPPERQ_HOME_VAL',\n",
       " 'PERC_POVERTY',\n",
       " 'GINI_INDEX',\n",
       " 'PERC_NOT_WORKING',\n",
       " 'PERC_COMM_30',\n",
       " 'PERC_COMM_EARLY',\n",
       " 'TOR_AREA',\n",
       " 'TOT_DEV_INT',\n",
       " 'TOT_WOOD_AREA',\n",
       " 'WOOD_DEV_INT',\n",
       " 'EXP_INC_AREA',\n",
       " 'TIME_SPLINE_1',\n",
       " 'TIME_SPLINE_2',\n",
       " 'TIME_SPLINE_3',\n",
       " 'TIME_SPLINE_4',\n",
       " 'TIME_SPLINE_5',\n",
       " 'TIME_SPLINE_6',\n",
       " 'TIME_SPLINE_7',\n",
       " 'TIME_SPLINE_8',\n",
       " 'JULIAN_SPLINE_1',\n",
       " 'JULIAN_SPLINE_2',\n",
       " 'JULIAN_SPLINE_3',\n",
       " 'JULIAN_SPLINE_4',\n",
       " 'JULIAN_SPLINE_5',\n",
       " 'JULIAN_SPLINE_6',\n",
       " 'JULIAN_SPLINE_7',\n",
       " 'JULIAN_SPLINE_8',\n",
       " 'JULIAN_SPLINE_9',\n",
       " 'JULIAN_SPLINE_10',\n",
       " 'JULIAN_SPLINE_11',\n",
       " 'JULIAN_SPLINE_12']"
      ]
     },
     "execution_count": 8,
     "metadata": {},
     "output_type": "execute_result"
    }
   ],
   "source": [
    "# Get the validation set predictors\n",
    "cv_predictors = cv_df.iloc[:, 3:]\n",
    "\n",
    "# Make the validation set predictors into a numpy array\n",
    "cv_predictors_Tensor = torch.from_numpy(cv_predictors.values).float()\n",
    "\n",
    "\n",
    "# Make sure the variables are right\n",
    "list(cv_predictors)"
   ]
  },
  {
   "cell_type": "markdown",
   "metadata": {},
   "source": [
    "Now the test set data"
   ]
  },
  {
   "cell_type": "code",
   "execution_count": 9,
   "metadata": {},
   "outputs": [
    {
     "data": {
      "text/plain": [
       "['DAMAGE_PROPERTY']"
      ]
     },
     "execution_count": 9,
     "metadata": {},
     "output_type": "execute_result"
    }
   ],
   "source": [
    "# Import the test set data\n",
    "test_df = pd.read_csv(\"/home/jeremy/tornadoesr/data/raw/tor_test_set_no_zeros.csv\")\n",
    "\n",
    "\n",
    "# Get the outcomes\n",
    "test_outcome = test_df.iloc[:, [2]]\n",
    "\n",
    "# Convert the pandas column to a ndarray and then into a FloatTensor\n",
    "test_outcome_Tensor = torch.from_numpy(test_outcome.values).float()\n",
    "\n",
    "\n",
    "# Make sure the variable is right\n",
    "list(test_outcome)"
   ]
  },
  {
   "cell_type": "code",
   "execution_count": 10,
   "metadata": {},
   "outputs": [
    {
     "data": {
      "text/plain": [
       "['DURATION_SECONDS',\n",
       " 'BEGIN_LAT',\n",
       " 'BEGIN_LON',\n",
       " 'TOR_LENGTH',\n",
       " 'TOR_WIDTH',\n",
       " 'YEAR',\n",
       " 'MULTI_VORT_IND',\n",
       " 'OPEN_WATER_PROP',\n",
       " 'DEV_OPEN_PROP',\n",
       " 'DEV_LOW_PROP',\n",
       " 'DEV_MED_PROP',\n",
       " 'DEV_HIGH_PROP',\n",
       " 'BARREN_LAND_PROP',\n",
       " 'DECID_FOREST_PROP',\n",
       " 'EVERGR_FOREST_PROP',\n",
       " 'MIXED_FOREST_PROP',\n",
       " 'SHRUB_SCRUB_PROP',\n",
       " 'GRASS_LAND_PROP',\n",
       " 'PASTURE_HAY_PROP',\n",
       " 'CULT_CROPS_PROP',\n",
       " 'WOOD_WETLAND_PROP',\n",
       " 'HERB_WETLAND_PROP',\n",
       " 'PERC_MOB_HOMES',\n",
       " 'POP_DENS',\n",
       " 'MEDIAN_HOUSE_INC',\n",
       " 'MED_HOME_AGE',\n",
       " 'NUM_HOMES',\n",
       " 'PERC_WHITE',\n",
       " 'PERC_MALE',\n",
       " 'PERC_KIDS',\n",
       " 'PERC_HIGH_SCHOOL',\n",
       " 'PERC_ASSOC',\n",
       " 'PERC_BACH',\n",
       " 'PERC_GRAD',\n",
       " 'PERC_SENIOR',\n",
       " 'LOWERQ_HOME_VAL',\n",
       " 'MED_HOME_VAL',\n",
       " 'UPPERQ_HOME_VAL',\n",
       " 'PERC_POVERTY',\n",
       " 'GINI_INDEX',\n",
       " 'PERC_NOT_WORKING',\n",
       " 'PERC_COMM_30',\n",
       " 'PERC_COMM_EARLY',\n",
       " 'TOR_AREA',\n",
       " 'TOT_DEV_INT',\n",
       " 'TOT_WOOD_AREA',\n",
       " 'WOOD_DEV_INT',\n",
       " 'EXP_INC_AREA',\n",
       " 'TIME_SPLINE_1',\n",
       " 'TIME_SPLINE_2',\n",
       " 'TIME_SPLINE_3',\n",
       " 'TIME_SPLINE_4',\n",
       " 'TIME_SPLINE_5',\n",
       " 'TIME_SPLINE_6',\n",
       " 'TIME_SPLINE_7',\n",
       " 'TIME_SPLINE_8',\n",
       " 'JULIAN_SPLINE_1',\n",
       " 'JULIAN_SPLINE_2',\n",
       " 'JULIAN_SPLINE_3',\n",
       " 'JULIAN_SPLINE_4',\n",
       " 'JULIAN_SPLINE_5',\n",
       " 'JULIAN_SPLINE_6',\n",
       " 'JULIAN_SPLINE_7',\n",
       " 'JULIAN_SPLINE_8',\n",
       " 'JULIAN_SPLINE_9',\n",
       " 'JULIAN_SPLINE_10',\n",
       " 'JULIAN_SPLINE_11',\n",
       " 'JULIAN_SPLINE_12']"
      ]
     },
     "execution_count": 10,
     "metadata": {},
     "output_type": "execute_result"
    }
   ],
   "source": [
    "# Get the test set predictors\n",
    "test_predictors = test_df.iloc[:, 3:]\n",
    "\n",
    "# Make the test set predictors into a numpy array\n",
    "test_predictors_Tensor = torch.from_numpy(test_predictors.values).float()\n",
    "\n",
    "\n",
    "# Make sure the variables are right\n",
    "list(test_predictors)"
   ]
  },
  {
   "cell_type": "markdown",
   "metadata": {},
   "source": [
    "Importing previous data stage to undo data processing"
   ]
  },
  {
   "cell_type": "code",
   "execution_count": 11,
   "metadata": {},
   "outputs": [],
   "source": [
    "old_df = pd.read_csv('/home/jeremy/tornadoesr/data/raw/tor_data_inflation_adj.csv')\n",
    "\n",
    "log_xform_old_damages = np.log(old_df['DAMAGE_PROPERTY'] + 1)\n",
    "old_sd = np.std(log_xform_old_damages)\n",
    "old_mu = np.mean(log_xform_old_damages)"
   ]
  },
  {
   "cell_type": "markdown",
   "metadata": {},
   "source": [
    "## 0. Combined train and validation set data"
   ]
  },
  {
   "cell_type": "code",
   "execution_count": 12,
   "metadata": {},
   "outputs": [],
   "source": [
    "combined_outcome_Tensor = torch.cat([outcome_Tensor, cv_outcome_Tensor, test_outcome_Tensor])\n",
    "combined_predictors_Tensor = torch.cat([predictors_Tensor, cv_predictors_Tensor, test_predictors_Tensor])"
   ]
  },
  {
   "cell_type": "markdown",
   "metadata": {},
   "source": [
    "## 1. Best regressor (2 hidden layers, 100 hidden units, ReLU, 20% dropout)"
   ]
  },
  {
   "cell_type": "markdown",
   "metadata": {},
   "source": [
    "Define the model architecture"
   ]
  },
  {
   "cell_type": "code",
   "execution_count": 13,
   "metadata": {},
   "outputs": [],
   "source": [
    "number_input = tornado_predictors.shape[1]"
   ]
  },
  {
   "cell_type": "code",
   "execution_count": 14,
   "metadata": {
    "collapsed": true
   },
   "outputs": [],
   "source": [
    "# Define the neural network\n",
    "class Net(torch.nn.Module):\n",
    "    \n",
    "    def __init__(self):\n",
    "        super(Net, self).__init__()\n",
    "        self.fc1 = torch.nn.Linear(number_input, 100)\n",
    "        self.fc2 = torch.nn.Linear(100, 100)\n",
    "        self.fc3 = torch.nn.Linear(100, 1)\n",
    "        \n",
    "    def forward(self, x):\n",
    "        x = torch.nn.functional.relu(self.fc1(x))\n",
    "        x = torch.nn.functional.dropout(x, p = 0.20, training = self.training)\n",
    "        x = torch.nn.functional.relu(self.fc2(x))\n",
    "        x = torch.nn.functional.dropout(x, p = 0.20, training = self.training)\n",
    "        x = self.fc3(x)\n",
    "        return(x)\n",
    "\n",
    "\n",
    "# Make it\n",
    "model = Net()"
   ]
  },
  {
   "cell_type": "markdown",
   "metadata": {},
   "source": [
    "Define the loss function"
   ]
  },
  {
   "cell_type": "code",
   "execution_count": 15,
   "metadata": {
    "collapsed": true
   },
   "outputs": [],
   "source": [
    "loss_fn = torch.nn.MSELoss(reduction = 'mean')"
   ]
  },
  {
   "cell_type": "markdown",
   "metadata": {},
   "source": [
    "Defining a function to setup and train the models. It will also produce a loss versus iteration plot"
   ]
  },
  {
   "cell_type": "code",
   "execution_count": 16,
   "metadata": {
    "collapsed": true
   },
   "outputs": [],
   "source": [
    "def train_neural_net(model, train_outcomes, train_inputs,\n",
    "                     cv_outcomes, cv_inputs):\n",
    "    \n",
    "    # This function will train the neural network and produce a loss versus iteration plot\n",
    "    # model = the model architecture, a Net class\n",
    "    # train_outcomes = the right answers, PyTorch Tensor\n",
    "    # train_inputs = what we're using to get to the right answers, PyTorch Tensor\n",
    "    # cv_outcomes = the right answers of the new data, PyTorch Tensor\n",
    "    # cv_inputs = what we're using to get the new right answers, PyTorch Tensor\n",
    "    # Returns a plot and a trained Net\n",
    "    \n",
    "    \n",
    "    # Make the outcomes into a Torch Variable\n",
    "    outcome_Variable = Variable(train_outcomes)\n",
    "    \n",
    "    # Make the cv outcomes into a Torch Variable\n",
    "    cv_outcome_Variable = Variable(cv_outcomes,\n",
    "                                   requires_grad = False)\n",
    "    \n",
    "    # Make the predictors into a Torch Variable\n",
    "    predictors_Variable = Variable(train_inputs,\n",
    "                                   requires_grad = False)\n",
    "    \n",
    "    # Make the cv predictors into a Torch Variable\n",
    "    cv_predictors_Variable = Variable(cv_inputs,\n",
    "                                      requires_grad = False)\n",
    "    \n",
    "    \n",
    "    # Make an empty list to add to for each iteration\n",
    "    current_loss_value_mini = []\n",
    "    \n",
    "    # For the cv too\n",
    "    current_cv_loss_value = []\n",
    "    \n",
    "    \n",
    "    # Set the optimizer\n",
    "    optimizer = torch.optim.Adagrad(model.parameters(), lr = 1e-2)\n",
    "    \n",
    "    \n",
    "    # Train the neural network\n",
    "    for t in range(20000):\n",
    "        \n",
    "        # Get the current mini-batch indices\n",
    "        indices = torch.randperm(len(predictors_Tensor))[0:50]\n",
    "        \n",
    "        # Get the current mini-batches\n",
    "        predictors_mini = predictors_Variable[indices]\n",
    "        outcome_mini = outcome_Variable[indices]\n",
    "        \n",
    "        # Get the current predictions\n",
    "        model = model.train()\n",
    "        current_pred_mini = model(predictors_mini)\n",
    "        model = model.eval()\n",
    "        cv_pred = model(cv_predictors_Variable)\n",
    "        model = model.train()\n",
    "        \n",
    "        # Compute current losses and and append that to the empty list\n",
    "        current_loss_mini = loss_fn(current_pred_mini, outcome_mini)\n",
    "        current_loss_value_mini.append(current_loss_mini.item())\n",
    "        \n",
    "        current_cv_loss = loss_fn(cv_pred, cv_outcome_Variable)\n",
    "        current_cv_loss_value.append(current_cv_loss.item())\n",
    "        \n",
    "        # Zero the gradients before backwards pass\n",
    "        optimizer.zero_grad()\n",
    "        \n",
    "        # Backwards pass\n",
    "        current_loss_mini.backward()\n",
    "        \n",
    "        # Update model parameters\n",
    "        optimizer.step()\n",
    "    \n",
    "    \n",
    "    # Get iterations as a list for x-axis of plot\n",
    "    iterations = list(range(0, 20000))\n",
    "    \n",
    "    \n",
    "    # Plot loss versus iteration\n",
    "    plt.plot(iterations, current_loss_value_mini)\n",
    "    plt.plot(iterations, current_cv_loss_value, \"r-\")\n",
    "    plt.xlabel(\"Iteration\", size = 14)\n",
    "    plt.ylabel(\"Loss Value\", size = 14)\n",
    "    plt.xticks(fontsize = 12)\n",
    "    plt.yticks(fontsize = 12)\n",
    "    plt.title(\"How'd the Optimizing Go?\", size = 16)"
   ]
  },
  {
   "cell_type": "markdown",
   "metadata": {},
   "source": [
    "Train the first model.\n",
    "\n",
    "The plot will display how well it optimized. The blue line is the mini batch values that the model was optimized on, while the red line is new (cross-validation) data."
   ]
  },
  {
   "cell_type": "code",
   "execution_count": 17,
   "metadata": {},
   "outputs": [
    {
     "data": {
      "image/png": "[encoded data removed]",
      "text/plain": [
       "<Figure size 432x288 with 1 Axes>"
      ]
     },
     "metadata": {
      "needs_background": "light"
     },
     "output_type": "display_data"
    }
   ],
   "source": [
    "train_neural_net(model, combined_outcome_Tensor, combined_predictors_Tensor,\n",
    "                 combined_outcome_Tensor, combined_predictors_Tensor)"
   ]
  },
  {
   "cell_type": "markdown",
   "metadata": {},
   "source": [
    "How'd the model perform on the data used to make it?"
   ]
  },
  {
   "cell_type": "code",
   "execution_count": 18,
   "metadata": {
    "collapsed": true
   },
   "outputs": [],
   "source": [
    "def plot_train_perf(train_predictors, train_obs):\n",
    "    \n",
    "    # Plots how well the model performs on training data\n",
    "    # train_predictors = the values that the model predicts from, PyTorch Tensor\n",
    "    # train_obs = what the model would ideally predict, PyTorch Tensor\n",
    "    # Returns a plot\n",
    "    \n",
    "    \n",
    "    model.eval()\n",
    "    \n",
    "    # Get the predictions\n",
    "    train_predictions = model(Variable(train_predictors, requires_grad = False))\n",
    "    \n",
    "    # Convert that to a numpy array\n",
    "    train_predictions = train_predictions.data.numpy()\n",
    "    \n",
    "    # Put it in log-transformed scale and convert it to a list\n",
    "    train_predictions = (train_predictions*old_sd + old_mu).tolist()\n",
    "    \n",
    "    \n",
    "    # Put the observed outcomes in log-transformed scale\n",
    "    # and convert it to a list\n",
    "    train_obs = (train_obs.numpy()*old_sd + old_mu).tolist()\n",
    "    \n",
    "    \n",
    "    # Plot it\n",
    "    plt.scatter(train_obs, train_predictions, facecolors = \"none\", edgecolors = \"k\")\n",
    "    axes = plt.gca()\n",
    "    axes.set_xlim([-1, 24])\n",
    "    axes.set_ylim([-1, 24])\n",
    "    axes.set_xticks([0, 3, 6, 9, 12, 15, 18, 21, 24])\n",
    "    axes.set_yticks([0, 3, 6, 9, 12, 15, 18, 21, 24])\n",
    "    plt.xticks(fontsize = 12)\n",
    "    plt.yticks(fontsize = 12)\n",
    "    plt.plot([-1, 24], [-1, 24], 'k-', lw = 2)\n",
    "    axes.set_xlabel(\"Observed (Log-Transformed US Dollars + 1)\", size = 14)\n",
    "    axes.set_ylabel(\"Predicted (Log-Transformed US Dollars + 1)\", size = 14)\n",
    "    axes.set_title(\"Model Performance on Training Data\", size = 16)"
   ]
  },
  {
   "cell_type": "code",
   "execution_count": 19,
   "metadata": {},
   "outputs": [
    {
     "data": {
      "image/png": "[encoded data removed]",
      "text/plain": [
       "<Figure size 432x288 with 1 Axes>"
      ]
     },
     "metadata": {
      "needs_background": "light"
     },
     "output_type": "display_data"
    }
   ],
   "source": [
    "plot_train_perf(combined_predictors_Tensor, combined_outcome_Tensor)"
   ]
  },
  {
   "cell_type": "markdown",
   "metadata": {},
   "source": [
    "### 1.1 Performance Metrics"
   ]
  },
  {
   "cell_type": "markdown",
   "metadata": {},
   "source": [
    "We're really interested in how it does on new data, so let's get some metrics of its performance on the new data.\n",
    "\n",
    "First: Mean squared error (MSE)"
   ]
  },
  {
   "cell_type": "code",
   "execution_count": 20,
   "metadata": {
    "collapsed": true
   },
   "outputs": [],
   "source": [
    "def compute_MSE(predictors, observed_outcomes):\n",
    "    \n",
    "    # Computes the mean squared error of the model\n",
    "    # predictors = the variables and values used in prediction\n",
    "    # observed_outcomes = what the prediction would ideally yield\n",
    "    # Returns a PyTorch Variable\n",
    "    \n",
    "    \n",
    "    model.eval()\n",
    "    \n",
    "    # Get the validation set predictions\n",
    "    cv_predictions = model(Variable(predictors, requires_grad = False))\n",
    "    \n",
    "    # Get the validation set outcomes\n",
    "    cv_outcomes = Variable(observed_outcomes)\n",
    "    \n",
    "    \n",
    "    # Get the loss - (total) residual sum of squares\n",
    "    total_SE = loss_fn(cv_predictions, cv_outcomes)\n",
    "    \n",
    "    # Average that to get mean square error\n",
    "    mean_SE = total_SE\n",
    "    return(mean_SE)"
   ]
  },
  {
   "cell_type": "code",
   "execution_count": 21,
   "metadata": {
    "collapsed": true
   },
   "outputs": [],
   "source": [
    "MSE = compute_MSE(combined_predictors_Tensor, combined_outcome_Tensor)"
   ]
  },
  {
   "cell_type": "markdown",
   "metadata": {},
   "source": [
    "Second: MSE for observed values over 1 million dollars"
   ]
  },
  {
   "cell_type": "code",
   "execution_count": 22,
   "metadata": {
    "collapsed": true
   },
   "outputs": [],
   "source": [
    "def compute_MSE_over_1mil(predictors, observed_outcomes):\n",
    "    \n",
    "    # Computes the mean squared error on observed values of over 1 million dollars\n",
    "    # predictors = the variables and values used in prediction, PyTorch Tensor\n",
    "    # observed_outcomes = what the prediction would ideally yield, PyTorch Tensor\n",
    "    # Returns a PyTorch Variable\n",
    "    \n",
    "    \n",
    "    model.eval()\n",
    "    \n",
    "    # Getting the model-ready equivalent of 1 million\n",
    "    one_million = (np.log(1e6 + 1) - old_mu) / old_sd\n",
    "    \n",
    "    # Combining predictions and observations into a DataFrame\n",
    "    df = pd.DataFrame(model(Variable(predictors)).data.numpy())\n",
    "    df.columns = ['predicted']\n",
    "    df['observed'] = observed_outcomes.numpy()\n",
    "    \n",
    "    # Only keeping rows which contain observed values greater than 1 million dollars\n",
    "    df = df.loc[df['observed'] >= one_million]\n",
    "    \n",
    "    # Making those columns model-ready\n",
    "    predicted = Variable(torch.from_numpy(np.asarray(df['predicted'])))\n",
    "    observed = Variable(torch.from_numpy(np.asarray(df['observed'])))\n",
    "    \n",
    "    # Get the MSE\n",
    "    total_SE = loss_fn(predicted, observed)\n",
    "    mean_SE = total_SE\n",
    "    return(mean_SE)"
   ]
  },
  {
   "cell_type": "code",
   "execution_count": 23,
   "metadata": {
    "collapsed": true
   },
   "outputs": [],
   "source": [
    "MSE_over_1mil = compute_MSE_over_1mil(combined_predictors_Tensor, combined_outcome_Tensor)"
   ]
  },
  {
   "cell_type": "markdown",
   "metadata": {},
   "source": [
    "Third: R<sup>2</sup> (R-squared)"
   ]
  },
  {
   "cell_type": "code",
   "execution_count": 24,
   "metadata": {
    "collapsed": true
   },
   "outputs": [],
   "source": [
    "def compute_R_squared(predictors, observed_outcomes):\n",
    "    \n",
    "    # Computes R-squared of the model\n",
    "    # predictors = the variables and values used in prediction, PyTorch Tensor\n",
    "    # observed_outcomes = what the prediction would ideally yield, PyTorch Tensor\n",
    "    # Returns a PyTorch Variable\n",
    "    \n",
    "    \n",
    "    model.eval()\n",
    "    \n",
    "    # Get the mean of the observed outcomes\n",
    "    observed_mean = (sum(observed_outcomes) / len(observed_outcomes)).numpy()[0]\n",
    "    \n",
    "    # Fill an ndarray with that\n",
    "    valid_outcomes_mean = np.repeat(observed_mean, len(observed_outcomes))\n",
    "    \n",
    "    # Convert that to a Variable\n",
    "    valid_outcomes_mean = Variable(torch.from_numpy(valid_outcomes_mean))\n",
    "    \n",
    "    \n",
    "    # Compute total sum of squares\n",
    "    TSS = loss_fn(valid_outcomes_mean, Variable(observed_outcomes))\n",
    "    \n",
    "    \n",
    "    # Compute residual sum of squares\n",
    "    RSS = loss_fn(model(Variable(predictors)), Variable(observed_outcomes))\n",
    "    \n",
    "    \n",
    "    # Compute R-squared\n",
    "    R_squared = 1 - (RSS / TSS)\n",
    "    return(R_squared)"
   ]
  },
  {
   "cell_type": "code",
   "execution_count": 25,
   "metadata": {
    "collapsed": true
   },
   "outputs": [],
   "source": [
    "R_squared = compute_R_squared(combined_predictors_Tensor, combined_outcome_Tensor)"
   ]
  },
  {
   "cell_type": "markdown",
   "metadata": {},
   "source": [
    "How many parameters did it take to achieve that?"
   ]
  },
  {
   "cell_type": "code",
   "execution_count": 26,
   "metadata": {
    "collapsed": true
   },
   "outputs": [],
   "source": [
    "Number_of_Parameters = (((number_input + 1) * 100) +\n",
    "                        ((100 + 1) * 100) +\n",
    "                        ((100 + 1) * 1))"
   ]
  },
  {
   "cell_type": "markdown",
   "metadata": {},
   "source": [
    "#### Save these metrics"
   ]
  },
  {
   "cell_type": "code",
   "execution_count": 27,
   "metadata": {
    "collapsed": true
   },
   "outputs": [],
   "source": [
    "def save_metrics(Num_of_param, r_squared, mean_square_error, mse_over_1mil, notebook_id, model_id):\n",
    "    \n",
    "    # Saves the number of parameters, R-squared, MSE, MSE on observations over 1 million,\n",
    "    #    along with a notebook and model identifier\n",
    "    # The following inputs are PyTorch Variables: r_squared, mean_square_error, and mse_over_1mil\n",
    "    # The following inputs are numbers: Num_of_param, notebook_id, model_id\n",
    "    # Returns this as a DataFrame\n",
    "    \n",
    "    \n",
    "    # Make the DataFrame, starting with the Number of Parameters as a sole column\n",
    "    df = pd.DataFrame([Num_of_param])\n",
    "    \n",
    "    # Rename the column\n",
    "    df.columns = ['Number of Parameters']\n",
    "    \n",
    "    \n",
    "    # Add on R-squared and rename the column\n",
    "    r_squared = r_squared.data.numpy().tolist()\n",
    "    df['R-squared'] = r_squared\n",
    "    \n",
    "    # Add on MSE and rename the column\n",
    "    mean_square_error = mean_square_error.data.numpy().tolist()\n",
    "    df['Mean Squared Error'] = mean_square_error\n",
    "    \n",
    "    # Add on MSE on observations over 1 million and rename the column\n",
    "    mse_over_1mil = MSE_over_1mil.data.numpy().tolist()\n",
    "    df['Mean Squared Error Over 1M'] = mse_over_1mil\n",
    "    \n",
    "    # Add the notebook and model identifier\n",
    "    df['notebook_id'] = [notebook_id]\n",
    "    df['model_id'] = [model_id]\n",
    "    return(df)"
   ]
  },
  {
   "cell_type": "code",
   "execution_count": 28,
   "metadata": {},
   "outputs": [
    {
     "data": {
      "text/html": [
       "<div>\n",
       "<style scoped>\n",
       "    .dataframe tbody tr th:only-of-type {\n",
       "        vertical-align: middle;\n",
       "    }\n",
       "\n",
       "    .dataframe tbody tr th {\n",
       "        vertical-align: top;\n",
       "    }\n",
       "\n",
       "    .dataframe thead th {\n",
       "        text-align: right;\n",
       "    }\n",
       "</style>\n",
       "<table border=\"1\" class=\"dataframe\">\n",
       "  <thead>\n",
       "    <tr style=\"text-align: right;\">\n",
       "      <th></th>\n",
       "      <th>Number of Parameters</th>\n",
       "      <th>R-squared</th>\n",
       "      <th>Mean Squared Error</th>\n",
       "      <th>Mean Squared Error Over 1M</th>\n",
       "      <th>notebook_id</th>\n",
       "      <th>model_id</th>\n",
       "    </tr>\n",
       "  </thead>\n",
       "  <tbody>\n",
       "    <tr>\n",
       "      <th>0</th>\n",
       "      <td>17101</td>\n",
       "      <td>0.54418</td>\n",
       "      <td>0.074763</td>\n",
       "      <td>0.183252</td>\n",
       "      <td>19</td>\n",
       "      <td>1</td>\n",
       "    </tr>\n",
       "  </tbody>\n",
       "</table>\n",
       "</div>"
      ],
      "text/plain": [
       "   Number of Parameters  R-squared  Mean Squared Error  \\\n",
       "0                 17101    0.54418            0.074763   \n",
       "\n",
       "   Mean Squared Error Over 1M  notebook_id  model_id  \n",
       "0                    0.183252           19         1  "
      ]
     },
     "execution_count": 28,
     "metadata": {},
     "output_type": "execute_result"
    }
   ],
   "source": [
    "metrics_df = save_metrics(Number_of_Parameters, R_squared, MSE, MSE_over_1mil, 19, 1)\n",
    "metrics_df"
   ]
  },
  {
   "cell_type": "markdown",
   "metadata": {},
   "source": [
    "### Visualization including 0 events"
   ]
  },
  {
   "cell_type": "code",
   "execution_count": 29,
   "metadata": {},
   "outputs": [],
   "source": [
    "# Import the training data\n",
    "tor_df = pd.read_csv(\"/home/jeremy/tornadoesr/data/raw/tor_train_set.csv\")\n",
    "\n",
    "\n",
    "# Get the outcomes\n",
    "tornado_outcome = tor_df.iloc[:, [2]]\n",
    "\n",
    "# Convert the pandas column to a ndarray and then into a FloatTensor\n",
    "outcome_Tensor = torch.from_numpy(tornado_outcome.values).float()\n",
    "\n",
    "\n",
    "# Get the predictors\n",
    "tornado_predictors = tor_df.iloc[:, 3:]\n",
    "\n",
    "# Make the validation set predictors into a numpy array\n",
    "predictors_Tensor = torch.from_numpy(tornado_predictors.values).float()"
   ]
  },
  {
   "cell_type": "code",
   "execution_count": 30,
   "metadata": {},
   "outputs": [],
   "source": [
    "# Import cross-validation data\n",
    "cv_df = pd.read_csv(\"/home/jeremy/tornadoesr/data/raw/tor_cv_set.csv\")\n",
    "\n",
    "\n",
    "# Get the outcomes\n",
    "cv_outcome = cv_df.iloc[:, [2]]\n",
    "\n",
    "# Convert the pandas column to a ndarray and then into a FloatTensor\n",
    "cv_outcome_Tensor = torch.from_numpy(cv_outcome.values).float()\n",
    "\n",
    "\n",
    "# Get the validation set predictors\n",
    "cv_predictors = cv_df.iloc[:, 3:]\n",
    "\n",
    "# Make the validation set predictors into a numpy array\n",
    "cv_predictors_Tensor = torch.from_numpy(cv_predictors.values).float()"
   ]
  },
  {
   "cell_type": "code",
   "execution_count": 31,
   "metadata": {},
   "outputs": [],
   "source": [
    "# Import the test set data\n",
    "test_df = pd.read_csv(\"/home/jeremy/tornadoesr/data/raw/tor_test_set.csv\")\n",
    "\n",
    "\n",
    "# Get the outcomes\n",
    "test_outcome = test_df.iloc[:, [2]]\n",
    "\n",
    "# Convert the pandas column to a ndarray and then into a FloatTensor\n",
    "test_outcome_Tensor = torch.from_numpy(test_outcome.values).float()\n",
    "\n",
    "\n",
    "# Get the test set predictors\n",
    "test_predictors = test_df.iloc[:, 3:]\n",
    "\n",
    "# Make the test set predictors into a numpy array\n",
    "test_predictors_Tensor = torch.from_numpy(test_predictors.values).float()"
   ]
  },
  {
   "cell_type": "code",
   "execution_count": 32,
   "metadata": {},
   "outputs": [],
   "source": [
    "combined_predictors_Tensor = torch.cat([predictors_Tensor,\n",
    "                                        cv_predictors_Tensor,\n",
    "                                        test_predictors_Tensor])"
   ]
  },
  {
   "cell_type": "code",
   "execution_count": 33,
   "metadata": {},
   "outputs": [],
   "source": [
    "inclusive_predictions = model(Variable(combined_predictors_Tensor))\n",
    "inclusive_predictions = inclusive_predictions.data.numpy()\n",
    "inclusive_predictions = (inclusive_predictions*old_sd + old_mu).tolist()\n",
    "inclusive_predictions = np.log10(np.exp(inclusive_predictions))\n",
    "pred_df = pd.DataFrame(data = inclusive_predictions)\n",
    "\n",
    "true = outcome_Tensor.numpy()\n",
    "true = (true*old_sd + old_mu).tolist()\n",
    "true = np.log10(np.exp(true))\n",
    "true_df = pd.DataFrame(data = true)\n",
    "\n",
    "viz_df = pd.concat([true_df, pred_df],\n",
    "                   axis = 1)\n",
    "viz_df.columns = ['true', 'pred']\n",
    "\n",
    "\n",
    "indicator_list = []\n",
    "for i in range(len(viz_df)):\n",
    "    \n",
    "    if viz_df.true[i] == viz_df.true.min():\n",
    "        \n",
    "        indicator_list.append('red')\n",
    "        \n",
    "    else:\n",
    "        \n",
    "        indicator_list.append('black')\n",
    "        \n",
    "viz_df['indicator'] = indicator_list"
   ]
  },
  {
   "cell_type": "code",
   "execution_count": 34,
   "metadata": {},
   "outputs": [
    {
     "data": {
      "image/png": "[encoded data removed]",
      "text/plain": [
       "<Figure size 432x288 with 1 Axes>"
      ]
     },
     "metadata": {
      "needs_background": "light"
     },
     "output_type": "display_data"
    }
   ],
   "source": [
    "plt.scatter(viz_df.true, viz_df.pred, facecolor=viz_df.indicator, alpha = 1, marker = '.', s = 15)\n",
    "axes = plt.gca()\n",
    "plt.plot([-0.1, 9.5],\n",
    "         [-0.1, 9.5],\n",
    "         linestyle = '--',\n",
    "         c = 'grey')\n",
    "axes.grid(False)\n",
    "axes.set_xlim([-0.1, 9.5])\n",
    "axes.set_ylim([-0.1, 9.5])\n",
    "plt.xlabel('Observed Value', size = 14)\n",
    "plt.ylabel('Predicted Value', size = 14);"
   ]
  },
  {
   "cell_type": "markdown",
   "metadata": {},
   "source": [
    "# 2. Best classifier (2 hidden layers, 100 hidden units, ReLU, 10% dropout)"
   ]
  },
  {
   "cell_type": "code",
   "execution_count": 35,
   "metadata": {},
   "outputs": [],
   "source": [
    "# Define the neural network\n",
    "class Net(torch.nn.Module):\n",
    "    \n",
    "    def __init__(self):\n",
    "        super(Net, self).__init__()\n",
    "        self.fc1 = torch.nn.Linear(number_input, 100)\n",
    "        self.fc2 = torch.nn.Linear(100, 100)\n",
    "        self.fc3 = torch.nn.Linear(100, 1)\n",
    "        \n",
    "    def forward(self, x):\n",
    "        x = torch.nn.functional.relu(self.fc1(x))\n",
    "        x = torch.nn.functional.dropout(x, p = 0.10, training = self.training)\n",
    "        x = torch.nn.functional.relu(self.fc2(x))\n",
    "        x = torch.nn.functional.dropout(x, p = 0.10, training = self.training)\n",
    "        x = torch.sigmoid(self.fc3(x))\n",
    "        return(x)\n",
    "\n",
    "\n",
    "# Make it\n",
    "model2 = Net()"
   ]
  },
  {
   "cell_type": "code",
   "execution_count": 36,
   "metadata": {},
   "outputs": [],
   "source": [
    "loss_fn = torch.nn.BCELoss(reduction = 'mean')"
   ]
  },
  {
   "cell_type": "code",
   "execution_count": 37,
   "metadata": {},
   "outputs": [],
   "source": [
    "def train_neural_net(model, train_outcomes, train_inputs,\n",
    "                     cv_outcomes, cv_inputs):\n",
    "    \n",
    "    # This function will train the neural network and produce a loss versus iteration plot\n",
    "    # model = the model architecture, a Net class\n",
    "    # train_outcomes = the right answers, PyTorch Tensor\n",
    "    # train_inputs = what we're using to get to the right answers, PyTorch Tensor\n",
    "    # cv_outcomes = the right answers of the new data, PyTorch Tensor\n",
    "    # cv_inputs = what we're using to get the new right answers, PyTorch Tensor\n",
    "    # Returns a plot and a trained Net\n",
    "    \n",
    "    \n",
    "    # Make the outcomes into a Torch Variable\n",
    "    outcome_Variable = Variable(train_outcomes)\n",
    "    \n",
    "    # Make the cv outcomes into a Torch Variable\n",
    "    cv_outcome_Variable = Variable(cv_outcomes,\n",
    "                                   requires_grad = False)\n",
    "    \n",
    "    # Make the predictors into a Torch Variable\n",
    "    predictors_Variable = Variable(train_inputs,\n",
    "                                   requires_grad = False)\n",
    "    \n",
    "    # Make the cv predictors into a Torch Variable\n",
    "    cv_predictors_Variable = Variable(cv_inputs,\n",
    "                                      requires_grad = False)\n",
    "    \n",
    "    \n",
    "    # Make an empty list to add to for each iteration\n",
    "    current_loss_value_mini = []\n",
    "    \n",
    "    # For the cv too\n",
    "    current_cv_loss_value = []\n",
    "    \n",
    "    \n",
    "    # Set the optimizer\n",
    "    optimizer = torch.optim.Adagrad(model.parameters(), lr = 1e-2)\n",
    "    \n",
    "    \n",
    "    # Train the neural network\n",
    "    for t in range(20000):\n",
    "        \n",
    "        # Get the current mini-batch indices\n",
    "        indices = torch.randperm(len(predictors_Tensor))[0:50]\n",
    "        \n",
    "        # Get the current mini-batches\n",
    "        predictors_mini = predictors_Variable[indices]\n",
    "        outcome_mini = outcome_Variable[indices]\n",
    "        \n",
    "        # Get the current predictions\n",
    "        model = model.train()\n",
    "        current_pred_mini = model(predictors_mini)\n",
    "        model = model.eval()\n",
    "        cv_pred = model(cv_predictors_Variable)\n",
    "        model = model.train()\n",
    "        \n",
    "        # Compute current losses and and append that to the empty list\n",
    "        current_loss_mini = loss_fn(current_pred_mini, outcome_mini)\n",
    "        current_loss_value_mini.append(current_loss_mini.item())\n",
    "        \n",
    "        current_cv_loss = loss_fn(cv_pred, cv_outcome_Variable)\n",
    "        current_cv_loss_value.append(current_cv_loss.item())\n",
    "        \n",
    "        # Zero the gradients before backwards pass\n",
    "        optimizer.zero_grad()\n",
    "        \n",
    "        # Backwards pass\n",
    "        current_loss_mini.backward()\n",
    "        \n",
    "        # Update model parameters\n",
    "        optimizer.step()\n",
    "    \n",
    "    \n",
    "    # Get iterations as a list for x-axis of plot\n",
    "    iterations = list(range(0, 20000))\n",
    "    \n",
    "    \n",
    "    # Plot loss versus iteration\n",
    "    plt.plot(iterations, current_loss_value_mini)\n",
    "    plt.plot(iterations, current_cv_loss_value, \"r-\")\n",
    "    plt.xlabel(\"Iteration\", size = 14)\n",
    "    plt.ylabel(\"Loss Value\", size = 14)\n",
    "    plt.xticks(fontsize = 12)\n",
    "    plt.yticks(fontsize = 12)\n",
    "    plt.title(\"How'd the Optimizing Go?\", size = 16)"
   ]
  },
  {
   "cell_type": "markdown",
   "metadata": {},
   "source": [
    "### Convert damage to binary"
   ]
  },
  {
   "cell_type": "code",
   "execution_count": 38,
   "metadata": {},
   "outputs": [],
   "source": [
    "def convert_prop_dam_to_binary(property_damage_values):\n",
    "    \n",
    "    # This function will convert continuous property damage values to binary values defining whether\n",
    "        # or not a tornado caused any damage\n",
    "    # property_damage_values = a PyTorch Tensor containing property damage values\n",
    "    # Returns as PyTorch Tensor of binary values\n",
    "    \n",
    "    \n",
    "    # Get the Tensor as a ndarray \n",
    "    prop_dam_array = property_damage_values.numpy()\n",
    "    \n",
    "    # For-loop to convert to binary\n",
    "    for i in list(range(len(prop_dam_array))):\n",
    "        \n",
    "        if (prop_dam_array[i] == prop_dam_array.min())[0]:\n",
    "            \n",
    "            prop_dam_array[i] = 0\n",
    "            \n",
    "        else:\n",
    "            \n",
    "            prop_dam_array[i] = 1\n",
    "     \n",
    "    # Convert ndarray to Tensor\n",
    "    prop_dam_Tensor = torch.from_numpy(prop_dam_array)\n",
    "    \n",
    "    # Return Tensor\n",
    "    return(prop_dam_Tensor)"
   ]
  },
  {
   "cell_type": "code",
   "execution_count": 39,
   "metadata": {},
   "outputs": [],
   "source": [
    "combined_outcome_Tensor = torch.cat([outcome_Tensor, cv_outcome_Tensor, test_outcome_Tensor])\n",
    "\n",
    "# Convert the training data\n",
    "combined_outcome_Tensor_binary = convert_prop_dam_to_binary(combined_outcome_Tensor)"
   ]
  },
  {
   "cell_type": "code",
   "execution_count": 40,
   "metadata": {},
   "outputs": [
    {
     "data": {
      "image/png": "[encoded data removed]",
      "text/plain": [
       "<Figure size 432x288 with 1 Axes>"
      ]
     },
     "metadata": {
      "needs_background": "light"
     },
     "output_type": "display_data"
    }
   ],
   "source": [
    "train_neural_net(model2, combined_outcome_Tensor_binary, combined_predictors_Tensor,\n",
    "                 combined_outcome_Tensor_binary, combined_predictors_Tensor)\n",
    "model = model.eval()"
   ]
  },
  {
   "cell_type": "code",
   "execution_count": 41,
   "metadata": {},
   "outputs": [],
   "source": [
    "def plot_perf(train_predictors, train_obs, model, alpha_val):\n",
    "    \n",
    "    # Plots how well the model performs on training data\n",
    "    # train_predictors = the values that the model predicts from, PyTorch Tensor\n",
    "    # train_obs = what the model would ideally predict, PyTorch Tensor\n",
    "    # Returns a plot\n",
    "    \n",
    "    \n",
    "    # Get the predictions\n",
    "    train_predictions = model(Variable(train_predictors, requires_grad = False))\n",
    "    \n",
    "    # Convert that to a numpy array\n",
    "    train_predictions = train_predictions.data.numpy()\n",
    "    \n",
    "    # Put it in log-transformed scale and convert it to a list\n",
    "    train_predictions = train_predictions.tolist()\n",
    "    \n",
    "    \n",
    "    # Put the observed outcomes in log-transformed scale\n",
    "    # and convert it to a list\n",
    "    train_obs = train_obs.numpy().tolist()\n",
    "    \n",
    "    \n",
    "    # Plot it\n",
    "    plt.scatter(train_obs, train_predictions, alpha = alpha_val, facecolor = 'k', marker = '.')\n",
    "    axes = plt.gca()\n",
    "    plt.xticks([0, 1], ['\\nNon-damaging', '\\nDamaging'], fontsize = 12)\n",
    "    plt.xlim(-0.05, 1.05)\n",
    "    plt.ylim(0, 1)\n",
    "    axes.grid(False)\n",
    "    axes.set_xlabel('True Outcome', size = 14)\n",
    "    axes.set_ylabel('Predicted Probability of Damage', size = 14)\n",
    "    plt.axhline(y = 0.5, color = 'r', linestyle = '--');"
   ]
  },
  {
   "cell_type": "markdown",
   "metadata": {},
   "source": [
    "### Binary performance visualization"
   ]
  },
  {
   "cell_type": "code",
   "execution_count": 42,
   "metadata": {},
   "outputs": [
    {
     "data": {
      "image/png": "[encoded data removed]",
      "text/plain": [
       "<Figure size 432x288 with 1 Axes>"
      ]
     },
     "metadata": {
      "needs_background": "light"
     },
     "output_type": "display_data"
    }
   ],
   "source": [
    "plot_perf(combined_predictors_Tensor, combined_outcome_Tensor_binary, model2, 0.002)"
   ]
  },
  {
   "cell_type": "markdown",
   "metadata": {},
   "source": [
    "### Accuracies"
   ]
  },
  {
   "cell_type": "code",
   "execution_count": 43,
   "metadata": {},
   "outputs": [
    {
     "data": {
      "text/plain": [
       "'Training + validation + test set accuracy is: 0.8522314949201741'"
      ]
     },
     "execution_count": 43,
     "metadata": {},
     "output_type": "execute_result"
    }
   ],
   "source": [
    "# Get predicted probabilities as binary values\n",
    "classifier_pred = np.round(model2(Variable(combined_predictors_Tensor, requires_grad = False)).data.numpy())\n",
    "\n",
    "# Determine if those predictions are right\n",
    "number_correct_preds = (classifier_pred == combined_outcome_Tensor_binary.numpy())\n",
    "\n",
    "# Get the accuracy of those predictions\n",
    "train_accuracy = (sum(number_correct_preds) / len(number_correct_preds))[0]\n",
    "\n",
    "\n",
    "# Lets get it in words\n",
    "'Training + validation + test set accuracy is: ' + str(train_accuracy)"
   ]
  },
  {
   "cell_type": "markdown",
   "metadata": {},
   "source": [
    "### Confusion matrix and AUROC"
   ]
  },
  {
   "cell_type": "code",
   "execution_count": 44,
   "metadata": {},
   "outputs": [
    {
     "data": {
      "text/plain": [
       "array([[ 4810,  2037],\n",
       "       [ 1221, 13980]])"
      ]
     },
     "execution_count": 44,
     "metadata": {},
     "output_type": "execute_result"
    }
   ],
   "source": [
    "confusion_matrix(combined_outcome_Tensor_binary.numpy(), classifier_pred)"
   ]
  },
  {
   "cell_type": "code",
   "execution_count": 45,
   "metadata": {},
   "outputs": [
    {
     "data": {
      "image/png": "[encoded data removed]",
      "text/plain": [
       "<Figure size 432x288 with 1 Axes>"
      ]
     },
     "metadata": {
      "needs_background": "light"
     },
     "output_type": "display_data"
    }
   ],
   "source": [
    "# Get the false positive and true positive rates using scikit-learn\n",
    "fpr_a, tpr_a, _ = roc_curve(y_true = combined_outcome_Tensor_binary.numpy(),\n",
    "                            y_score = model2(Variable(combined_predictors_Tensor, requires_grad = False)).data.numpy())\n",
    "\n",
    "# Calculate the area under the curve\n",
    "area_under = auc(x = fpr_a,\n",
    "                 y = tpr_a)\n",
    "\n",
    "\n",
    "# Plot it all\n",
    "plt.plot(fpr_a, tpr_a, 'deeppink')\n",
    "plt.plot(fpr_a, fpr_a, 'black')\n",
    "plt.xlabel('False Positive Rate', size = 14)\n",
    "plt.ylabel('True Positive Rate', size = 14)\n",
    "plt.title('ROC/AUC Test Set Performance', size = 16)\n",
    "plt.text(0.26, 0.05, 'Area under Curve = %s'%(area_under), size = 13)\n",
    "axes = plt.gca()\n",
    "axes.set_xlim([0, 1])\n",
    "axes.set_ylim([0, 1]);"
   ]
  },
  {
   "cell_type": "markdown",
   "metadata": {},
   "source": [
    "# Generate predictions"
   ]
  },
  {
   "cell_type": "code",
   "execution_count": 46,
   "metadata": {},
   "outputs": [
    {
     "data": {
      "text/plain": [
       "True"
      ]
     },
     "execution_count": 46,
     "metadata": {},
     "output_type": "execute_result"
    }
   ],
   "source": [
    "grid_df = pd.read_csv('/home/jeremy/tornadoesr/data/raw/final_grid_df.csv')\n",
    "cities_df = pd.read_csv('/home/jeremy/tornadoesr/data/raw/final_cities_df.csv')\n",
    "list(cities_df) == list(tor_df)"
   ]
  },
  {
   "cell_type": "code",
   "execution_count": 47,
   "metadata": {},
   "outputs": [],
   "source": [
    "# The predictors\n",
    "grid_predictors = grid_df.iloc[:, 3:]\n",
    "cities_predictors = cities_df.iloc[:, 3:]"
   ]
  },
  {
   "cell_type": "code",
   "execution_count": 48,
   "metadata": {},
   "outputs": [],
   "source": [
    "# Make the predictors into a numpy array\n",
    "g_predictors_array = grid_predictors.values\n",
    "\n",
    "# Make that numpy array into a torch Tensor\n",
    "g_predictors_Tensor = torch.from_numpy(g_predictors_array)\n",
    "g_predictors_Tensor = g_predictors_Tensor.float()\n",
    "\n",
    "\n",
    "# Make the predictors into a numpy array\n",
    "c_predictors_array = cities_predictors.values\n",
    "\n",
    "# Make that numpy array into a torch Tensor\n",
    "c_predictors_Tensor = torch.from_numpy(c_predictors_array)\n",
    "c_predictors_Tensor = c_predictors_Tensor.float()"
   ]
  },
  {
   "cell_type": "code",
   "execution_count": 49,
   "metadata": {},
   "outputs": [],
   "source": [
    "g_dam = model(g_predictors_Tensor)\n",
    "g_prob = model2(g_predictors_Tensor)\n",
    "\n",
    "c_dam = model(c_predictors_Tensor)\n",
    "c_prob = model2(c_predictors_Tensor)"
   ]
  },
  {
   "cell_type": "code",
   "execution_count": 50,
   "metadata": {},
   "outputs": [
    {
     "data": {
      "image/png": "[encoded data removed]",
      "text/plain": [
       "<Figure size 828x576 with 1 Axes>"
      ]
     },
     "metadata": {
      "needs_background": "light"
     },
     "output_type": "display_data"
    }
   ],
   "source": [
    "old_home_log = np.log(old_df['MED_HOME_VAL'] + 1)\n",
    "old_home_sd = np.std(old_home_log)\n",
    "old_home_mu = np.mean(old_home_log)\n",
    "\n",
    "plt.figure(figsize = (11.5, 8))\n",
    "plt.xlabel('Median Home Value', fontsize = 14)\n",
    "plt.xticks([0, 250000, 500000, 750000, 1000000, 1250000],\n",
    "           labels = ['$0', '$250,000', '$500,000', '$750,000', '$1,000,000', '$1,250,000'], fontsize = 12)\n",
    "plt.yticks([0, 250000, 500000, 750000, 1000000, 1250000, 1500000, 1750000],\n",
    "           labels = ['$0', '$250,000', '$500,000', '$750,000', '$1,000,000', '$1,250,000', '$1,500,000', '$1,750,000'], fontsize = 12)\n",
    "plt.ylabel('Expected Property Damage', fontsize = 14)\n",
    "\n",
    "\n",
    "plt.scatter(y = (np.exp((g_dam*old_sd + old_mu).data.numpy()) - 1),\n",
    "            x = np.exp(grid_df['MED_HOME_VAL']*old_home_sd + old_home_mu) - 1, color = 'black', marker= '.', s = 30, label = 'Grid points')\n",
    "plt.scatter(y = (np.exp((c_dam*old_sd + old_mu).data.numpy()) - 1),\n",
    "            x = np.exp(cities_df['MED_HOME_VAL']*old_home_sd + old_home_mu) - 1, color = 'red', marker= '.', s = 15, label = 'Large cities')\n",
    "plt.legend(prop={'size': 15}, markerscale=2)\n",
    "plt.savefig('dam_versus_home_val.png', height = 8, width = 8, units = 'in', dpi = 300);"
   ]
  },
  {
   "cell_type": "code",
   "execution_count": 51,
   "metadata": {},
   "outputs": [],
   "source": [
    "cities_df['DAMAGE_PROPERTY'] = (np.exp((c_dam*old_sd + old_mu).data.numpy()) - 1)\n",
    "cities_df['DAMAGE_PROB'] = c_prob.data.numpy()\n",
    "grid_df['DAMAGE_PROPERTY'] = (np.exp((g_dam*old_sd + old_mu).data.numpy()) - 1)\n",
    "grid_df['DAMAGE_PROB'] = g_prob.data.numpy()"
   ]
  },
  {
   "cell_type": "code",
   "execution_count": 52,
   "metadata": {},
   "outputs": [],
   "source": [
    "cities_df.to_csv('/home/jeremy/tornadoesr/data/raw/cities_with_predictions.csv')\n",
    "grid_df.to_csv('/home/jeremy/tornadoesr/data/raw/grid_with_predictions.csv')"
   ]
  },
  {
   "cell_type": "code",
   "execution_count": null,
   "metadata": {},
   "outputs": [],
   "source": []
  }
 ],
 "metadata": {
  "kernelspec": {
   "display_name": "Python 3",
   "language": "python",
   "name": "python3"
  },
  "language_info": {
   "codemirror_mode": {
    "name": "ipython",
    "version": 3
   },
   "file_extension": ".py",
   "mimetype": "text/x-python",
   "name": "python",
   "nbconvert_exporter": "python",
   "pygments_lexer": "ipython3",
   "version": "3.6.7"
  }
 },
 "nbformat": 4,
 "nbformat_minor": 2
}
