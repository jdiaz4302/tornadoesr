{
 "cells": [
  {
   "cell_type": "markdown",
   "metadata": {},
   "source": [
    "## Setup"
   ]
  },
  {
   "cell_type": "code",
   "execution_count": 1,
   "metadata": {
    "collapsed": true
   },
   "outputs": [],
   "source": [
    "# Packages\n",
    "import pandas as pd\n",
    "import torch\n",
    "from torch.autograd import Variable\n",
    "import numpy as np\n",
    "import matplotlib.pyplot as plt\n",
    "%matplotlib inline\n",
    "import pylab\n",
    "import math"
   ]
  },
  {
   "cell_type": "code",
   "execution_count": 2,
   "metadata": {
    "collapsed": false
   },
   "outputs": [
    {
     "name": "stdout",
     "output_type": "stream",
     "text": [
      "<class 'pandas.core.frame.DataFrame'>\n",
      "RangeIndex: 4675 entries, 0 to 4674\n",
      "Data columns (total 30 columns):\n",
      "EVENT_ID              4675 non-null int64\n",
      "INJURIES_DIRECT       4675 non-null int64\n",
      "DEATHS_DIRECT         4675 non-null int64\n",
      "DAMAGE_PROPERTY       4675 non-null float64\n",
      "DAMAGE_CROPS          4675 non-null float64\n",
      "DURATION_SECONDS      4675 non-null float64\n",
      "BEGIN_LAT             4675 non-null float64\n",
      "BEGIN_LON             4675 non-null float64\n",
      "TOR_LENGTH            4675 non-null float64\n",
      "TOR_WIDTH             4675 non-null float64\n",
      "BEGIN_DATE_TIME       4675 non-null float64\n",
      "YEAR                  4675 non-null int64\n",
      "CZ_NAME               4675 non-null object\n",
      "STATE                 4675 non-null object\n",
      "OPEN_WATER_PROP       4675 non-null float64\n",
      "DEV_OPEN_PROP         4675 non-null float64\n",
      "DEV_LOW_PROP          4675 non-null float64\n",
      "DEV_MED_PROP          4675 non-null float64\n",
      "DEV_HIGH_PROP         4675 non-null float64\n",
      "DECID_FOREST_PROP     4675 non-null float64\n",
      "EVERGR_FOREST_PROP    4675 non-null float64\n",
      "MIXED_FOREST_PROP     4675 non-null float64\n",
      "SHRUB_SCRUB_PROP      4675 non-null float64\n",
      "GRASS_LAND_PROP       4675 non-null float64\n",
      "PASTURE_HAY_PROP      4675 non-null float64\n",
      "CULT_CROPS_PROP       4675 non-null float64\n",
      "WOOD_WETLAND_PROP     4675 non-null float64\n",
      "HERB_WETLAND_PROP     4675 non-null float64\n",
      "BARREN_LAND_PROP      4675 non-null float64\n",
      "INCOME                4675 non-null float64\n",
      "dtypes: float64(24), int64(4), object(2)\n",
      "memory usage: 1.1+ MB\n"
     ]
    }
   ],
   "source": [
    "# Import data\n",
    "tor_df = pd.read_csv(\"/home/jeremy/github_tornadoesr/data/raw/train_with_econ_wout_zeros.csv\")\n",
    "\n",
    "\n",
    "# Quick inspection\n",
    "tor_df.info()"
   ]
  },
  {
   "cell_type": "code",
   "execution_count": 3,
   "metadata": {
    "collapsed": false
   },
   "outputs": [
    {
     "name": "stdout",
     "output_type": "stream",
     "text": [
      "<class 'pandas.core.frame.DataFrame'>\n",
      "RangeIndex: 4675 entries, 0 to 4674\n",
      "Data columns (total 1 columns):\n",
      "DAMAGE_PROPERTY    4675 non-null float64\n",
      "dtypes: float64(1)\n",
      "memory usage: 36.6 KB\n"
     ]
    }
   ],
   "source": [
    "# Seperating variables\n",
    "# The dependent variables\n",
    "tornado_outcomes = tor_df.iloc[:, [3]]\n",
    "\n",
    "\n",
    "# Quick inspection\n",
    "tornado_outcomes.info()"
   ]
  },
  {
   "cell_type": "code",
   "execution_count": 4,
   "metadata": {
    "collapsed": false
   },
   "outputs": [
    {
     "name": "stdout",
     "output_type": "stream",
     "text": [
      "<class 'pandas.core.frame.DataFrame'>\n",
      "RangeIndex: 4675 entries, 0 to 4674\n",
      "Data columns (total 22 columns):\n",
      "DURATION_SECONDS      4675 non-null float64\n",
      "BEGIN_LAT             4675 non-null float64\n",
      "BEGIN_LON             4675 non-null float64\n",
      "TOR_LENGTH            4675 non-null float64\n",
      "TOR_WIDTH             4675 non-null float64\n",
      "BEGIN_DATE_TIME       4675 non-null float64\n",
      "OPEN_WATER_PROP       4675 non-null float64\n",
      "DEV_OPEN_PROP         4675 non-null float64\n",
      "DEV_LOW_PROP          4675 non-null float64\n",
      "DEV_MED_PROP          4675 non-null float64\n",
      "DEV_HIGH_PROP         4675 non-null float64\n",
      "DECID_FOREST_PROP     4675 non-null float64\n",
      "EVERGR_FOREST_PROP    4675 non-null float64\n",
      "MIXED_FOREST_PROP     4675 non-null float64\n",
      "SHRUB_SCRUB_PROP      4675 non-null float64\n",
      "GRASS_LAND_PROP       4675 non-null float64\n",
      "PASTURE_HAY_PROP      4675 non-null float64\n",
      "CULT_CROPS_PROP       4675 non-null float64\n",
      "WOOD_WETLAND_PROP     4675 non-null float64\n",
      "HERB_WETLAND_PROP     4675 non-null float64\n",
      "BARREN_LAND_PROP      4675 non-null float64\n",
      "INCOME                4675 non-null float64\n",
      "dtypes: float64(22)\n",
      "memory usage: 803.6 KB\n"
     ]
    }
   ],
   "source": [
    "# The independent variables\n",
    "tornado_features = tor_df.iloc[:, 5:]\n",
    "\n",
    "\n",
    "# Get rid of year and county name\n",
    "tornado_features = tornado_features.drop([\"YEAR\",\n",
    "                                          \"CZ_NAME\",\n",
    "                                          \"STATE\"],\n",
    "                                         axis = 1)\n",
    "\n",
    "\n",
    "\n",
    "# Quick inspection\n",
    "tornado_features.info()"
   ]
  },
  {
   "cell_type": "code",
   "execution_count": 5,
   "metadata": {
    "collapsed": false
   },
   "outputs": [
    {
     "data": {
      "text/plain": [
       "\n",
       " 0.5951\n",
       " 1.2772\n",
       " 0.6926\n",
       "   ⋮    \n",
       " 0.7159\n",
       " 0.8757\n",
       " 0.4558\n",
       "[torch.DoubleTensor of size 4675x1]"
      ]
     },
     "execution_count": 5,
     "metadata": {},
     "output_type": "execute_result"
    }
   ],
   "source": [
    "# Make the dependent variables into a numpy array\n",
    "outcomes_array = tornado_outcomes.values\n",
    "\n",
    "\n",
    "# Makes the numpy array into a torch Tensor\n",
    "outcomes_Tensor = torch.from_numpy(outcomes_array)\n",
    "\n",
    "\n",
    "# Quick inspection\n",
    "outcomes_Tensor"
   ]
  },
  {
   "cell_type": "code",
   "execution_count": 6,
   "metadata": {
    "collapsed": false
   },
   "outputs": [
    {
     "data": {
      "text/plain": [
       "\n",
       " 1.9605e-01  3.8572e-01 -7.9828e-01  ...  -2.1285e-01 -6.9525e-01  1.2000e+00\n",
       "-1.4814e-02  1.8039e-01  9.5833e-01  ...  -9.0635e-01  2.2024e+00 -5.1531e-01\n",
       " 5.5754e-01 -1.0135e+00  7.6543e-01  ...   1.6766e+00 -6.9525e-01  4.9763e-01\n",
       "                ...                   ⋱                   ...                \n",
       " 9.6160e-01  6.1517e-02  4.1479e-01  ...  -9.0635e-01 -6.9525e-01 -8.3143e-02\n",
       " 8.2443e-01  3.3896e-02  5.4983e-01  ...   3.6783e-01  1.1558e+00 -1.2968e+00\n",
       "-3.7344e-01 -7.4953e-01  9.0271e-01  ...  -9.0635e-01  6.8160e-01 -1.6639e+00\n",
       "[torch.DoubleTensor of size 4675x22]"
      ]
     },
     "execution_count": 6,
     "metadata": {},
     "output_type": "execute_result"
    }
   ],
   "source": [
    "# Make the independent variables into a numpy array\n",
    "features_array = tornado_features.values\n",
    "\n",
    "\n",
    "# Make the numpy array into a torch Tensor\n",
    "features_Tensor = torch.from_numpy(features_array)\n",
    "\n",
    "\n",
    "# Quick inspection\n",
    "features_Tensor"
   ]
  },
  {
   "cell_type": "markdown",
   "metadata": {},
   "source": [
    "### Convert DoubleTensor to FloatTensor"
   ]
  },
  {
   "cell_type": "code",
   "execution_count": 7,
   "metadata": {
    "collapsed": false
   },
   "outputs": [
    {
     "data": {
      "text/plain": [
       "\n",
       " 1.9605e-01  3.8572e-01 -7.9828e-01  ...  -2.1285e-01 -6.9525e-01  1.2000e+00\n",
       "-1.4814e-02  1.8039e-01  9.5833e-01  ...  -9.0635e-01  2.2024e+00 -5.1531e-01\n",
       " 5.5754e-01 -1.0135e+00  7.6543e-01  ...   1.6766e+00 -6.9525e-01  4.9763e-01\n",
       "                ...                   ⋱                   ...                \n",
       " 9.6160e-01  6.1517e-02  4.1479e-01  ...  -9.0635e-01 -6.9525e-01 -8.3143e-02\n",
       " 8.2443e-01  3.3896e-02  5.4983e-01  ...   3.6783e-01  1.1558e+00 -1.2968e+00\n",
       "-3.7344e-01 -7.4953e-01  9.0271e-01  ...  -9.0635e-01  6.8160e-01 -1.6639e+00\n",
       "[torch.FloatTensor of size 4675x22]"
      ]
     },
     "execution_count": 7,
     "metadata": {},
     "output_type": "execute_result"
    }
   ],
   "source": [
    "# Changing dependent variables from a DoubleTensor to a FloatTensor\n",
    "outcomes_Tensor = outcomes_Tensor.float()\n",
    "\n",
    "\n",
    "# ...and for the independent variables\n",
    "features_Tensor = features_Tensor.float()\n",
    "\n",
    "\n",
    "# Quick check\n",
    "features_Tensor"
   ]
  },
  {
   "cell_type": "markdown",
   "metadata": {
    "collapsed": true
   },
   "source": [
    "## Round 1: One-Hidden-Layer Neural Network"
   ]
  },
  {
   "cell_type": "code",
   "execution_count": 8,
   "metadata": {
    "collapsed": false
   },
   "outputs": [],
   "source": [
    "# Make the torch Tensor into a PyTorch Variable for dependent variables\n",
    "outcomes_Variable = Variable(outcomes_Tensor)\n",
    "\n",
    "\n",
    "# ...for independent variables\n",
    "features_Variable = Variable(features_Tensor,\n",
    "                             requires_grad = False)"
   ]
  },
  {
   "cell_type": "code",
   "execution_count": 9,
   "metadata": {
    "collapsed": false
   },
   "outputs": [],
   "source": [
    "# Make the neural network\n",
    "model = torch.nn.Sequential(torch.nn.Linear(22, 15),\n",
    "                            torch.nn.ReLU(),\n",
    "                            torch.nn.Linear(15, 1))"
   ]
  },
  {
   "cell_type": "code",
   "execution_count": 10,
   "metadata": {
    "collapsed": true
   },
   "outputs": [],
   "source": [
    "# Set the loss function\n",
    "loss_fn = torch.nn.MSELoss(size_average=False)"
   ]
  },
  {
   "cell_type": "code",
   "execution_count": 11,
   "metadata": {
    "collapsed": false
   },
   "outputs": [],
   "source": [
    "# To add errors to\n",
    "errors = []\n",
    "\n",
    "\n",
    "# Set the learning rate\n",
    "learning_rate = 4e-6\n",
    "\n",
    "\n",
    "# Train the neural network\n",
    "for t in range(10000):\n",
    "    \n",
    "    # Get the current predictions\n",
    "    y_pred = model(features_Variable)\n",
    "    \n",
    "    # Compute and append current summed errors\n",
    "    loss = loss_fn(y_pred, outcomes_Variable)\n",
    "    errors.append(loss.data[0])\n",
    "    \n",
    "    # Zero the gradients before running the backward pass.\n",
    "    model.zero_grad()\n",
    "    \n",
    "    # Backward pass: compute gradient of the loss with respect to all the learnable Variables\n",
    "    loss.backward()\n",
    "    \n",
    "    # Update the weights using gradient descent\n",
    "    for param in model.parameters():\n",
    "        param.data -= learning_rate * param.grad.data"
   ]
  },
  {
   "cell_type": "code",
   "execution_count": 12,
   "metadata": {
    "collapsed": true
   },
   "outputs": [],
   "source": [
    "# Get the iterations\n",
    "iterations = list(range(0, 10000))"
   ]
  },
  {
   "cell_type": "code",
   "execution_count": 13,
   "metadata": {
    "collapsed": false
   },
   "outputs": [
    {
     "data": {
      "text/plain": [
       "<matplotlib.collections.PathCollection at 0x7f7eb522d390>"
      ]
     },
     "execution_count": 13,
     "metadata": {},
     "output_type": "execute_result"
    },
    {
     "data": {
      "image/png": "[encoded data removed]",
      "text/plain": [
       "<matplotlib.figure.Figure at 0x7f7e5db73588>"
      ]
     },
     "metadata": {},
     "output_type": "display_data"
    }
   ],
   "source": [
    "# Plot summed error as a function of iteration\n",
    "plt.scatter(iterations, errors)"
   ]
  },
  {
   "cell_type": "code",
   "execution_count": 14,
   "metadata": {
    "collapsed": false
   },
   "outputs": [],
   "source": [
    "# Get rid of the 2nd dimension of 1 from the FloatTensor\n",
    "y_pred_resized = y_pred.resize(4675)\n",
    "\n",
    "\n",
    "# Make the FloatTensor into a numpy.array\n",
    "y_pred_array = y_pred_resized.data.numpy()\n",
    "\n",
    "\n",
    "# Make the numpy.array into a list\n",
    "y_pred_list = y_pred_array.tolist()"
   ]
  },
  {
   "cell_type": "code",
   "execution_count": 15,
   "metadata": {
    "collapsed": false
   },
   "outputs": [],
   "source": [
    "# Get rid of the 2nd dimension of 1 from the FloatTensor\n",
    "outcomes_Variable_resized = outcomes_Variable.resize(4675)\n",
    "\n",
    "\n",
    "# Make the FloatTensor into a numpy.array\n",
    "outcomes_array = outcomes_Variable_resized.data.numpy()\n",
    "\n",
    "\n",
    "# Make the numpy.array into a list\n",
    "outcomes_list = outcomes_array.tolist()"
   ]
  },
  {
   "cell_type": "code",
   "execution_count": 16,
   "metadata": {
    "collapsed": false
   },
   "outputs": [
    {
     "data": {
      "text/plain": [
       "[<matplotlib.lines.Line2D at 0x7f7e5cdc1cf8>]"
      ]
     },
     "execution_count": 16,
     "metadata": {},
     "output_type": "execute_result"
    },
    {
     "data": {
      "image/png": "[encoded data removed]",
      "text/plain": [
       "<matplotlib.figure.Figure at 0x7f7e5cd3e748>"
      ]
     },
     "metadata": {},
     "output_type": "display_data"
    }
   ],
   "source": [
    "# Plot predictions versus training set outcomes\n",
    "plt.scatter(outcomes_list, y_pred_list)\n",
    "\n",
    "axes = plt.gca()\n",
    "\n",
    "axes.set_xlim([-2, 4])\n",
    "\n",
    "axes.set_ylim([-2, 4])\n",
    "\n",
    "plt.plot([-2, 4], [-2, 4], 'k-', lw=2)"
   ]
  },
  {
   "cell_type": "markdown",
   "metadata": {},
   "source": [
    "### Round 1.1: Validation Set Performance"
   ]
  },
  {
   "cell_type": "code",
   "execution_count": 17,
   "metadata": {
    "collapsed": false
   },
   "outputs": [],
   "source": [
    "# Import data\n",
    "valid_df = pd.read_csv(\"/home/jeremy/github_tornadoesr/data/raw/cv_with_econ_wout_zeros.csv\")\n",
    "\n",
    "\n",
    "# Validation set outcomes\n",
    "valid_outcomes = valid_df.iloc[:, [3]]\n",
    "\n",
    "\n",
    "# Make the validation outcomes into a numpy array\n",
    "valid_outcomes_array = valid_outcomes.values\n",
    "\n",
    "\n",
    "# Makes the numpy array into a torch Tensor\n",
    "valid_outcomes_Tensor = torch.from_numpy(valid_outcomes_array)\n",
    "\n",
    "\n",
    "# Changing validation outcomes from a DoubleTensor to a FloatTensor\n",
    "valid_outcomes_Tensor = valid_outcomes_Tensor.float()\n",
    "\n",
    "\n",
    "# Make the Tensor into a Pytorch Variable\n",
    "valid_outcomes_Variable = Variable(valid_outcomes_Tensor)"
   ]
  },
  {
   "cell_type": "code",
   "execution_count": 18,
   "metadata": {
    "collapsed": false
   },
   "outputs": [],
   "source": [
    "# Validation set predictors\n",
    "valid_predictors = valid_df.iloc[:, 5:]\n",
    "\n",
    "valid_predictors = valid_predictors.drop([\"YEAR\",\n",
    "                                          \"CZ_NAME\",\n",
    "                                          \"STATE\"],\n",
    "                                         axis = 1)\n",
    "\n",
    "\n",
    "# Make the validation predictors into a numpy array\n",
    "valid_predictors_array = valid_predictors.values\n",
    "\n",
    "\n",
    "# Makes the numpy array into a torch Tensor\n",
    "valid_predictors_Tensor = torch.from_numpy(valid_predictors_array)\n",
    "\n",
    "\n",
    "# Changing validation predictors from a DoubleTensor to a FloatTensor\n",
    "valid_predictors_Tensor = valid_predictors_Tensor.float()\n",
    "\n",
    "\n",
    "# Make the Tensor into a Pytorch Variable\n",
    "valid_predictors_Variable = Variable(valid_predictors_Tensor)"
   ]
  },
  {
   "cell_type": "code",
   "execution_count": 19,
   "metadata": {
    "collapsed": false
   },
   "outputs": [],
   "source": [
    "# Have to make a new model and give it the train_model parameters to fix structure problem\n",
    "dim_corrected_model = torch.nn.Sequential(torch.nn.Linear(22, 15),\n",
    "                                          torch.nn.ReLU(),\n",
    "                                          torch.nn.Linear(15, 1))\n",
    "\n",
    "\n",
    "# Give the new model the old model's parameters\n",
    "dim_corrected_model[(0)].weight = model[(0)].weight\n",
    "dim_corrected_model[(2)].weight = model[(2)].weight"
   ]
  },
  {
   "cell_type": "code",
   "execution_count": 20,
   "metadata": {
    "collapsed": false
   },
   "outputs": [
    {
     "data": {
      "text/plain": [
       "Variable containing:\n",
       " 286.9640\n",
       "[torch.FloatTensor of size 1]"
      ]
     },
     "execution_count": 20,
     "metadata": {},
     "output_type": "execute_result"
    }
   ],
   "source": [
    "# Get the validation set predictions\n",
    "y_valid_pred = dim_corrected_model(valid_predictors_Variable)\n",
    "\n",
    "\n",
    "# Print the loss\n",
    "loss_fn(y_valid_pred,\n",
    "        valid_outcomes_Variable)"
   ]
  },
  {
   "cell_type": "code",
   "execution_count": 21,
   "metadata": {
    "collapsed": false
   },
   "outputs": [
    {
     "name": "stdout",
     "output_type": "stream",
     "text": [
      "<class 'pandas.core.frame.DataFrame'>\n",
      "RangeIndex: 1604 entries, 0 to 1603\n",
      "Data columns (total 22 columns):\n",
      "DURATION_SECONDS      1604 non-null float64\n",
      "BEGIN_LAT             1604 non-null float64\n",
      "BEGIN_LON             1604 non-null float64\n",
      "TOR_LENGTH            1604 non-null float64\n",
      "TOR_WIDTH             1604 non-null float64\n",
      "BEGIN_DATE_TIME       1604 non-null float64\n",
      "OPEN_WATER_PROP       1604 non-null float64\n",
      "DEV_OPEN_PROP         1604 non-null float64\n",
      "DEV_LOW_PROP          1604 non-null float64\n",
      "DEV_MED_PROP          1604 non-null float64\n",
      "DEV_HIGH_PROP         1604 non-null float64\n",
      "DECID_FOREST_PROP     1604 non-null float64\n",
      "EVERGR_FOREST_PROP    1604 non-null float64\n",
      "MIXED_FOREST_PROP     1604 non-null float64\n",
      "SHRUB_SCRUB_PROP      1604 non-null float64\n",
      "GRASS_LAND_PROP       1604 non-null float64\n",
      "PASTURE_HAY_PROP      1604 non-null float64\n",
      "CULT_CROPS_PROP       1604 non-null float64\n",
      "WOOD_WETLAND_PROP     1604 non-null float64\n",
      "HERB_WETLAND_PROP     1604 non-null float64\n",
      "BARREN_LAND_PROP      1604 non-null float64\n",
      "INCOME                1604 non-null float64\n",
      "dtypes: float64(22)\n",
      "memory usage: 275.8 KB\n"
     ]
    }
   ],
   "source": [
    "valid_predictors.info()"
   ]
  },
  {
   "cell_type": "code",
   "execution_count": 22,
   "metadata": {
    "collapsed": true
   },
   "outputs": [],
   "source": [
    "# Get rid of the 2nd dimension of 1 from the FloatTensor\n",
    "y_valid_pred_resized = y_valid_pred.resize(1604)\n",
    "\n",
    "\n",
    "# Make the FloatTensor into a numpy.array\n",
    "y_valid_pred_array = y_valid_pred_resized.data.numpy()\n",
    "\n",
    "\n",
    "# Make the numpy.array into a list\n",
    "y_valid_pred_list = y_valid_pred_array.tolist()"
   ]
  },
  {
   "cell_type": "code",
   "execution_count": 23,
   "metadata": {
    "collapsed": false
   },
   "outputs": [],
   "source": [
    "# Get rid of the 2nd dimension of 1 from the FloatTensor\n",
    "valid_outcomes_Variable_resized = valid_outcomes_Variable.resize(1604)\n",
    "\n",
    "\n",
    "# Make the FloatTensor into a numpy.array\n",
    "valid_outcomes_array = valid_outcomes_Variable_resized.data.numpy()\n",
    "\n",
    "\n",
    "# Make the numpy.array into a list\n",
    "valid_outcomes_list = valid_outcomes_array.tolist()"
   ]
  },
  {
   "cell_type": "code",
   "execution_count": 24,
   "metadata": {
    "collapsed": false
   },
   "outputs": [
    {
     "data": {
      "text/plain": [
       "[<matplotlib.lines.Line2D at 0x7f7e5c408f98>]"
      ]
     },
     "execution_count": 24,
     "metadata": {},
     "output_type": "execute_result"
    },
    {
     "data": {
      "image/png": "[encoded data removed]",
      "text/plain": [
       "<matplotlib.figure.Figure at 0x7f7e5c408fd0>"
      ]
     },
     "metadata": {},
     "output_type": "display_data"
    }
   ],
   "source": [
    "# Plot new predictions versus new data outcomes\n",
    "plt.scatter(valid_outcomes_list, y_valid_pred_list)\n",
    "\n",
    "axes = plt.gca()\n",
    "\n",
    "axes.set_xlim([-2, 4])\n",
    "\n",
    "axes.set_ylim([-2, 4])\n",
    "\n",
    "plt.plot([-2, 4], [-2, 4], 'k-', lw=2)"
   ]
  },
  {
   "cell_type": "markdown",
   "metadata": {},
   "source": [
    "### Round 1.2: Test Set Performance"
   ]
  },
  {
   "cell_type": "code",
   "execution_count": 25,
   "metadata": {
    "collapsed": false
   },
   "outputs": [],
   "source": [
    "# Import data\n",
    "test_df = pd.read_csv(\"/home/jeremy/github_tornadoesr/data/raw/test_with_econ_wout_zeros.csv\")\n",
    "\n",
    "\n",
    "# Validation set outcomes\n",
    "test_outcomes = test_df.iloc[:, [3]]\n",
    "\n",
    "\n",
    "# Make the validation outcomes into a numpy array\n",
    "test_outcomes_array = test_outcomes.values\n",
    "\n",
    "\n",
    "# Makes the numpy array into a torch Tensor\n",
    "test_outcomes_Tensor = torch.from_numpy(test_outcomes_array)\n",
    "\n",
    "\n",
    "# Changing validation outcomes from a DoubleTensor to a FloatTensor\n",
    "test_outcomes_Tensor = test_outcomes_Tensor.float()\n",
    "\n",
    "\n",
    "# Make the Tensor into a Pytorch Variable\n",
    "test_outcomes_Variable = Variable(test_outcomes_Tensor)"
   ]
  },
  {
   "cell_type": "code",
   "execution_count": 26,
   "metadata": {
    "collapsed": true
   },
   "outputs": [],
   "source": [
    "# Validation set predictors\n",
    "test_predictors = test_df.iloc[:, 5:]\n",
    "\n",
    "test_predictors = test_predictors.drop([\"YEAR\",\n",
    "                                        \"CZ_NAME\",\n",
    "                                        \"STATE\"],\n",
    "                                       axis = 1)\n",
    "\n",
    "\n",
    "# Make the validation predictors into a numpy array\n",
    "test_predictors_array = test_predictors.values\n",
    "\n",
    "\n",
    "# Makes the numpy array into a torch Tensor\n",
    "test_predictors_Tensor = torch.from_numpy(test_predictors_array)\n",
    "\n",
    "\n",
    "# Changing validation predictors from a DoubleTensor to a FloatTensor\n",
    "test_predictors_Tensor = test_predictors_Tensor.float()\n",
    "\n",
    "\n",
    "# Make the Tensor into a Pytorch Variable\n",
    "test_predictors_Variable = Variable(test_predictors_Tensor)"
   ]
  },
  {
   "cell_type": "code",
   "execution_count": 27,
   "metadata": {
    "collapsed": false
   },
   "outputs": [],
   "source": [
    "# Have to make a new model and give it the train_model parameters to fix structure problem\n",
    "dim_corrected_model_2 = torch.nn.Sequential(torch.nn.Linear(22, 15),\n",
    "                                            torch.nn.ReLU(),\n",
    "                                            torch.nn.Linear(15, 1))\n",
    "\n",
    "\n",
    "# Give the new model the old model's parameters\n",
    "dim_corrected_model_2[(0)].weight = model[(0)].weight\n",
    "dim_corrected_model_2[(2)].weight = model[(2)].weight"
   ]
  },
  {
   "cell_type": "code",
   "execution_count": 28,
   "metadata": {
    "collapsed": false
   },
   "outputs": [
    {
     "data": {
      "text/plain": [
       "Variable containing:\n",
       " 839.2230\n",
       "[torch.FloatTensor of size 1]"
      ]
     },
     "execution_count": 28,
     "metadata": {},
     "output_type": "execute_result"
    }
   ],
   "source": [
    "# Get the validation set predictions\n",
    "y_test_pred = dim_corrected_model_2(test_predictors_Variable)\n",
    "\n",
    "\n",
    "# Print the loss\n",
    "loss_fn(y_test_pred,\n",
    "        test_outcomes_Variable)"
   ]
  },
  {
   "cell_type": "code",
   "execution_count": 29,
   "metadata": {
    "collapsed": false
   },
   "outputs": [
    {
     "name": "stdout",
     "output_type": "stream",
     "text": [
      "<class 'pandas.core.frame.DataFrame'>\n",
      "RangeIndex: 1596 entries, 0 to 1595\n",
      "Data columns (total 22 columns):\n",
      "DURATION_SECONDS      1596 non-null float64\n",
      "BEGIN_LAT             1596 non-null float64\n",
      "BEGIN_LON             1596 non-null float64\n",
      "TOR_LENGTH            1596 non-null float64\n",
      "TOR_WIDTH             1596 non-null float64\n",
      "BEGIN_DATE_TIME       1596 non-null float64\n",
      "OPEN_WATER_PROP       1596 non-null float64\n",
      "DEV_OPEN_PROP         1596 non-null float64\n",
      "DEV_LOW_PROP          1596 non-null float64\n",
      "DEV_MED_PROP          1596 non-null float64\n",
      "DEV_HIGH_PROP         1596 non-null float64\n",
      "DECID_FOREST_PROP     1596 non-null float64\n",
      "EVERGR_FOREST_PROP    1596 non-null float64\n",
      "MIXED_FOREST_PROP     1596 non-null float64\n",
      "SHRUB_SCRUB_PROP      1596 non-null float64\n",
      "GRASS_LAND_PROP       1596 non-null float64\n",
      "PASTURE_HAY_PROP      1596 non-null float64\n",
      "CULT_CROPS_PROP       1596 non-null float64\n",
      "WOOD_WETLAND_PROP     1596 non-null float64\n",
      "HERB_WETLAND_PROP     1596 non-null float64\n",
      "BARREN_LAND_PROP      1596 non-null float64\n",
      "INCOME                1596 non-null float64\n",
      "dtypes: float64(22)\n",
      "memory usage: 274.4 KB\n"
     ]
    }
   ],
   "source": [
    "test_predictors.info()"
   ]
  },
  {
   "cell_type": "code",
   "execution_count": 30,
   "metadata": {
    "collapsed": false
   },
   "outputs": [],
   "source": [
    "# Get rid of the 2nd dimension of 1 from the FloatTensor\n",
    "y_test_pred_resized = y_test_pred.resize(1596)\n",
    "\n",
    "\n",
    "# Make the FloatTensor into a numpy.array\n",
    "y_test_pred_array = y_test_pred_resized.data.numpy()\n",
    "\n",
    "\n",
    "# Convert back to native units and scale\n",
    "y_test_pred_array = y_test_pred_array*5.735285 + 6.490682\n",
    "\n",
    "\n",
    "# Make the numpy.array into a list\n",
    "y_test_pred_list = y_test_pred_array.tolist()"
   ]
  },
  {
   "cell_type": "code",
   "execution_count": 31,
   "metadata": {
    "collapsed": true
   },
   "outputs": [],
   "source": [
    "# Get rid of the 2nd dimension of 1 from the FloatTensor\n",
    "test_outcomes_Variable_resized = test_outcomes_Variable.resize(1596)\n",
    "\n",
    "\n",
    "# Make the FloatTensor into a numpy.array\n",
    "test_outcomes_array = test_outcomes_Variable_resized.data.numpy()\n",
    "\n",
    "\n",
    "# Convert back to native units and scale\n",
    "test_outcomes_array = test_outcomes_array*5.735285 + 6.490682\n",
    "\n",
    "\n",
    "# Make the numpy.array into a list\n",
    "test_outcomes_list = test_outcomes_array.tolist()"
   ]
  },
  {
   "cell_type": "code",
   "execution_count": 32,
   "metadata": {
    "collapsed": false
   },
   "outputs": [
    {
     "data": {
      "text/plain": [
       "<matplotlib.text.Text at 0x7f7e5c2ed198>"
      ]
     },
     "execution_count": 32,
     "metadata": {},
     "output_type": "execute_result"
    },
    {
     "data": {
      "image/png": "[encoded data removed]",
      "text/plain": [
       "<matplotlib.figure.Figure at 0x7f7e5c2ebe10>"
      ]
     },
     "metadata": {},
     "output_type": "display_data"
    }
   ],
   "source": [
    "# Plot new predictions versus new data outcomes\n",
    "\n",
    "plt.scatter(test_outcomes_list, y_test_pred_list)\n",
    "\n",
    "axes = plt.gca()\n",
    "\n",
    "axes.set_xlim([2, 23])\n",
    "\n",
    "axes.set_ylim([2, 23])\n",
    "\n",
    "axes.set_xticks([2, 5, 8, 11, 14, 17, 20, 23])\n",
    "\n",
    "axes.set_yticks([2, 5, 8, 11, 14, 17, 20, 23])\n",
    "\n",
    "plt.plot([2, 23], [2, 23], 'k-', lw=2)\n",
    "\n",
    "axes.set_xlabel(\"Actual Outcome (Log-Transformed US Dollars)\")\n",
    "\n",
    "axes.set_ylabel(\"Model Prediction (Log-Transformed US Dollars)\")\n",
    "\n",
    "axes.set_title(\"Model Performance\")"
   ]
  },
  {
   "cell_type": "code",
   "execution_count": 33,
   "metadata": {
    "collapsed": false
   },
   "outputs": [
    {
     "data": {
      "text/plain": [
       "Parameter containing:\n",
       "\n",
       "Columns 0 to 9 \n",
       " 0.1212  0.1006  0.0305  0.2504  0.1402 -0.0102  0.1125 -0.1017  0.2065  0.0570\n",
       " 0.0058 -0.0985  0.1154 -0.0722 -0.0995  0.0821  0.0519  0.0953 -0.1952  0.1503\n",
       "-0.1023  0.0496 -0.0804  0.2186  0.0542 -0.0682 -0.0196 -0.0382 -0.0342 -0.1385\n",
       " 0.1158  0.0966  0.1628  0.0171  0.2135  0.0422  0.0011  0.0490 -0.1573 -0.0484\n",
       " 0.1574  0.0462  0.0179  0.0361  0.2622 -0.0183  0.1052  0.1802  0.0546  0.0896\n",
       "-0.1144 -0.1652 -0.1220  0.2553  0.2611 -0.1327 -0.0039 -0.0694  0.2054  0.1048\n",
       " 0.1471 -0.2403  0.0893  0.0122  0.1988 -0.0470 -0.0437 -0.0160  0.0135  0.2017\n",
       " 0.2336 -0.0137 -0.0582 -0.0660  0.2234  0.1673  0.0008  0.0691 -0.0337  0.0858\n",
       "-0.0264 -0.0728  0.0168  0.1122  0.2003  0.0427 -0.1427  0.0063 -0.0077  0.1985\n",
       "-0.1414  0.1552  0.2058  0.0146  0.1407  0.0799  0.1959 -0.1174  0.1898  0.1587\n",
       " 0.1596  0.0332  0.1901  0.0140  0.1315 -0.1674 -0.0024 -0.1626  0.1637  0.0290\n",
       "-0.1570 -0.1898 -0.2052 -0.0581  0.0033  0.0559  0.0383 -0.1887  0.0366  0.0286\n",
       " 0.1762  0.1286  0.1508 -0.1314 -0.1918  0.1621 -0.0297  0.1723 -0.1470 -0.1485\n",
       "-0.0260  0.0727  0.1980 -0.0578  0.1067  0.0981 -0.1180 -0.0388 -0.1559 -0.0150\n",
       "-0.0154 -0.0545  0.2281  0.0402  0.0761 -0.0198 -0.0490  0.0576 -0.1529 -0.0935\n",
       "\n",
       "Columns 10 to 19 \n",
       " 0.1998  0.0155  0.0322 -0.0431 -0.0344 -0.0725 -0.1514  0.0987 -0.1208 -0.1637\n",
       " 0.0232  0.2579 -0.0832  0.2607 -0.0787 -0.1332 -0.0707  0.0044  0.0039  0.0352\n",
       " 0.1266  0.1143 -0.0717  0.0764 -0.1889 -0.1013 -0.1343  0.0950  0.0404  0.0817\n",
       "-0.1387  0.1375 -0.1718  0.1017 -0.1346 -0.1655  0.0403  0.1688  0.0421  0.2304\n",
       "-0.0182  0.0323  0.1143 -0.0786  0.1802 -0.0307 -0.0306  0.1189 -0.0616  0.0927\n",
       "-0.0208 -0.0268  0.1118  0.0931  0.0016 -0.0324  0.0811 -0.1189  0.1996 -0.1348\n",
       "-0.0221  0.0180 -0.1003  0.2203 -0.1105  0.0291  0.1789 -0.1657 -0.1678  0.0237\n",
       "-0.0429 -0.0439  0.1979 -0.0132  0.1652 -0.0813  0.0192 -0.1351 -0.0596 -0.1931\n",
       " 0.1646 -0.0128 -0.1505  0.0055  0.0846 -0.0949  0.1109 -0.0084  0.0409  0.1486\n",
       "-0.0883  0.0796  0.0358 -0.1926  0.2015 -0.0700 -0.0950  0.1842  0.1422  0.1593\n",
       "-0.0988  0.0110 -0.0377  0.1553 -0.1413  0.0321  0.1222  0.1507  0.0745 -0.0432\n",
       " 0.0974  0.0754 -0.2130 -0.1090  0.0772  0.1595 -0.0434  0.1458  0.0659 -0.0671\n",
       "-0.1628 -0.0953  0.1712 -0.1470  0.0307  0.0481  0.1409  0.0672  0.1400 -0.0268\n",
       "-0.0042  0.2133 -0.0579 -0.0361 -0.1447 -0.0610  0.0025  0.0017  0.0165  0.0691\n",
       "-0.1855  0.1616 -0.1684  0.0986  0.0177  0.0927 -0.1248  0.0496  0.1404 -0.1340\n",
       "\n",
       "Columns 20 to 21 \n",
       "-0.1455 -0.0623\n",
       " 0.0376 -0.0781\n",
       " 0.2560  0.0121\n",
       "-0.1500  0.0588\n",
       "-0.0225  0.0264\n",
       "-0.0029 -0.0684\n",
       " 0.0381 -0.0748\n",
       " 0.2289  0.1480\n",
       "-0.0202  0.1036\n",
       "-0.1404 -0.1673\n",
       "-0.0289 -0.0033\n",
       "-0.0549  0.1390\n",
       "-0.1450 -0.1721\n",
       "-0.0758 -0.0125\n",
       "-0.0839  0.1240\n",
       "[torch.FloatTensor of size 15x22]"
      ]
     },
     "execution_count": 33,
     "metadata": {},
     "output_type": "execute_result"
    }
   ],
   "source": [
    "dim_corrected_model_2[(0)].weight"
   ]
  },
  {
   "cell_type": "code",
   "execution_count": 34,
   "metadata": {
    "collapsed": false
   },
   "outputs": [
    {
     "data": {
      "text/plain": [
       "Parameter containing:\n",
       "\n",
       "Columns 0 to 9 \n",
       " 0.1581 -0.2049  0.2288  0.0295  0.2530  0.0791  0.1909  0.0401  0.0762  0.0084\n",
       "\n",
       "Columns 10 to 14 \n",
       " 0.0254  0.0178  0.1142  0.0019  0.1387\n",
       "[torch.FloatTensor of size 1x15]"
      ]
     },
     "execution_count": 34,
     "metadata": {},
     "output_type": "execute_result"
    }
   ],
   "source": [
    "dim_corrected_model_2[(2)].weight"
   ]
  },
  {
   "cell_type": "markdown",
   "metadata": {},
   "source": [
    "## Round 2: Two-Hidden-Layer Neural Network"
   ]
  },
  {
   "cell_type": "code",
   "execution_count": 35,
   "metadata": {
    "collapsed": true
   },
   "outputs": [],
   "source": [
    "# Make the torch Tensor into a PyTorch Variable for dependent variables\n",
    "outcomes_Variable = Variable(outcomes_Tensor)\n",
    "\n",
    "\n",
    "# ...for independent variables\n",
    "features_Variable = Variable(features_Tensor,\n",
    "                             requires_grad = False)"
   ]
  },
  {
   "cell_type": "code",
   "execution_count": 36,
   "metadata": {
    "collapsed": true
   },
   "outputs": [],
   "source": [
    "# Make the neural network\n",
    "model = torch.nn.Sequential(torch.nn.Linear(22, 15),\n",
    "                            torch.nn.ReLU(),\n",
    "                            torch.nn.Linear(15, 10),\n",
    "                            torch.nn.ReLU(),\n",
    "                            torch.nn.Linear(10, 1))"
   ]
  },
  {
   "cell_type": "code",
   "execution_count": 37,
   "metadata": {
    "collapsed": false
   },
   "outputs": [],
   "source": [
    "# To add errors to\n",
    "errors = []\n",
    "\n",
    "\n",
    "# Set the learning rate\n",
    "learning_rate = 6e-6\n",
    "\n",
    "\n",
    "# Train the neural network\n",
    "for t in range(10000):\n",
    "    \n",
    "    # Get the current predictions\n",
    "    y_pred = model(features_Variable)\n",
    "    \n",
    "    # Compute and append current summed errors\n",
    "    loss = loss_fn(y_pred, outcomes_Variable)\n",
    "    errors.append(loss.data[0])\n",
    "    \n",
    "    # Zero the gradients before running the backward pass.\n",
    "    model.zero_grad()\n",
    "    \n",
    "    # Backward pass: compute gradient of the loss with respect to all the learnable Variables\n",
    "    loss.backward()\n",
    "    \n",
    "    # Update the weights using gradient descent\n",
    "    for param in model.parameters():\n",
    "        param.data -= learning_rate * param.grad.data"
   ]
  },
  {
   "cell_type": "code",
   "execution_count": 38,
   "metadata": {
    "collapsed": false
   },
   "outputs": [
    {
     "data": {
      "text/plain": [
       "<matplotlib.collections.PathCollection at 0x7f7e5c1e04e0>"
      ]
     },
     "execution_count": 38,
     "metadata": {},
     "output_type": "execute_result"
    },
    {
     "data": {
      "image/png": "[encoded data removed]",
      "text/plain": [
       "<matplotlib.figure.Figure at 0x7f7e5c260320>"
      ]
     },
     "metadata": {},
     "output_type": "display_data"
    }
   ],
   "source": [
    "# Plot summed error as a function of iteration\n",
    "plt.scatter(iterations, errors)"
   ]
  },
  {
   "cell_type": "code",
   "execution_count": 39,
   "metadata": {
    "collapsed": false
   },
   "outputs": [],
   "source": [
    "# Get rid of the 2nd dimension of 1 from the FloatTensor\n",
    "y_pred_resized = y_pred.resize(4675)\n",
    "\n",
    "\n",
    "# Make the FloatTensor into a numpy.array\n",
    "y_pred_array = y_pred_resized.data.numpy()\n",
    "\n",
    "\n",
    "# Make the numpy.array into a list\n",
    "y_pred_list = y_pred_array.tolist()"
   ]
  },
  {
   "cell_type": "code",
   "execution_count": 40,
   "metadata": {
    "collapsed": false
   },
   "outputs": [
    {
     "data": {
      "text/plain": [
       "[<matplotlib.lines.Line2D at 0x7f7e5c283a20>]"
      ]
     },
     "execution_count": 40,
     "metadata": {},
     "output_type": "execute_result"
    },
    {
     "data": {
      "image/png": "[encoded data removed]",
      "text/plain": [
       "<matplotlib.figure.Figure at 0x7f7e5c283c88>"
      ]
     },
     "metadata": {},
     "output_type": "display_data"
    }
   ],
   "source": [
    "# Plot predictions versus training set outcomes\n",
    "plt.scatter(outcomes_list, y_pred_list)\n",
    "\n",
    "axes = plt.gca()\n",
    "\n",
    "axes.set_xlim([-2, 4])\n",
    "\n",
    "axes.set_ylim([-2, 4])\n",
    "\n",
    "plt.plot([-2, 4], [-2, 4], 'k-', lw=2)"
   ]
  },
  {
   "cell_type": "markdown",
   "metadata": {},
   "source": [
    "### Round 2.1: Validation Set Performance"
   ]
  },
  {
   "cell_type": "code",
   "execution_count": 41,
   "metadata": {
    "collapsed": false
   },
   "outputs": [],
   "source": [
    "# Have to make a new model and give it the train_model parameters to fix structure problem\n",
    "dim_corrected_model = torch.nn.Sequential(torch.nn.Linear(22, 15),\n",
    "                                          torch.nn.ReLU(),\n",
    "                                          torch.nn.Linear(15, 10),\n",
    "                                          torch.nn.ReLU(),\n",
    "                                          torch.nn.Linear(10, 1))\n",
    "\n",
    "\n",
    "# Give the new model the old model's parameters\n",
    "dim_corrected_model[(0)].weight = model[(0)].weight\n",
    "dim_corrected_model[(2)].weight = model[(2)].weight\n",
    "dim_corrected_model[(4)].weight = model[(4)].weight"
   ]
  },
  {
   "cell_type": "code",
   "execution_count": 42,
   "metadata": {
    "collapsed": false
   },
   "outputs": [
    {
     "data": {
      "text/plain": [
       "Variable containing:\n",
       " 759.5432\n",
       "[torch.FloatTensor of size 1]"
      ]
     },
     "execution_count": 42,
     "metadata": {},
     "output_type": "execute_result"
    }
   ],
   "source": [
    "# Get the validation set predictions\n",
    "y_valid_pred = dim_corrected_model(valid_predictors_Variable)\n",
    "\n",
    "\n",
    "# Print the loss\n",
    "loss_fn(y_valid_pred,\n",
    "        valid_outcomes_Variable)"
   ]
  },
  {
   "cell_type": "code",
   "execution_count": 43,
   "metadata": {
    "collapsed": false
   },
   "outputs": [],
   "source": [
    "# Get rid of the 2nd dimension of 1 from the FloatTensor\n",
    "y_valid_pred_resized = y_valid_pred.resize(1604)\n",
    "\n",
    "\n",
    "# Make the FloatTensor into a numpy.array\n",
    "y_valid_pred_array = y_valid_pred_resized.data.numpy()\n",
    "\n",
    "\n",
    "# Make the numpy.array into a list\n",
    "y_valid_pred_list = y_valid_pred_array.tolist()"
   ]
  },
  {
   "cell_type": "code",
   "execution_count": 44,
   "metadata": {
    "collapsed": false
   },
   "outputs": [
    {
     "data": {
      "text/plain": [
       "[<matplotlib.lines.Line2D at 0x7f7e5c199160>]"
      ]
     },
     "execution_count": 44,
     "metadata": {},
     "output_type": "execute_result"
    },
    {
     "data": {
      "image/png": "[encoded data removed]",
      "text/plain": [
       "<matplotlib.figure.Figure at 0x7f7e5c199470>"
      ]
     },
     "metadata": {},
     "output_type": "display_data"
    }
   ],
   "source": [
    "# Plot new predictions versus new data outcomes\n",
    "plt.scatter(valid_outcomes_list, y_valid_pred_list)\n",
    "\n",
    "axes = plt.gca()\n",
    "\n",
    "axes.set_xlim([-2, 4])\n",
    "\n",
    "axes.set_ylim([-2, 4])\n",
    "\n",
    "plt.plot([-2, 4], [-2, 4], 'k-', lw=2)"
   ]
  },
  {
   "cell_type": "markdown",
   "metadata": {},
   "source": [
    "### Round 2.2: Test Set Performance"
   ]
  },
  {
   "cell_type": "code",
   "execution_count": 45,
   "metadata": {
    "collapsed": true
   },
   "outputs": [],
   "source": [
    "# Have to make a new model and give it the train_model parameters to fix structure problem\n",
    "dim_corrected_model_2 = torch.nn.Sequential(torch.nn.Linear(22, 15),\n",
    "                                            torch.nn.ReLU(),\n",
    "                                            torch.nn.Linear(15, 10),\n",
    "                                            torch.nn.ReLU(),\n",
    "                                            torch.nn.Linear(10, 1))\n",
    "\n",
    "\n",
    "# Give the new model the old model's parameters\n",
    "dim_corrected_model_2[(0)].weight = model[(0)].weight\n",
    "dim_corrected_model_2[(2)].weight = model[(2)].weight\n",
    "dim_corrected_model_2[(4)].weight = model[(4)].weight"
   ]
  },
  {
   "cell_type": "code",
   "execution_count": 46,
   "metadata": {
    "collapsed": false
   },
   "outputs": [
    {
     "data": {
      "text/plain": [
       "Variable containing:\n",
       " 1450.6819\n",
       "[torch.FloatTensor of size 1]"
      ]
     },
     "execution_count": 46,
     "metadata": {},
     "output_type": "execute_result"
    }
   ],
   "source": [
    "# Get the validation set predictions\n",
    "y_test_pred = dim_corrected_model_2(test_predictors_Variable)\n",
    "\n",
    "\n",
    "# Print the loss\n",
    "loss_fn(y_test_pred,\n",
    "        test_outcomes_Variable)"
   ]
  },
  {
   "cell_type": "code",
   "execution_count": 47,
   "metadata": {
    "collapsed": true
   },
   "outputs": [],
   "source": [
    "# Get rid of the 2nd dimension of 1 from the FloatTensor\n",
    "y_test_pred_resized = y_test_pred.resize(1596)\n",
    "\n",
    "\n",
    "# Make the FloatTensor into a numpy.array\n",
    "y_test_pred_array = y_test_pred_resized.data.numpy()\n",
    "\n",
    "\n",
    "# Convert back to native units and scale\n",
    "y_test_pred_array = y_test_pred_array*5.735285 + 6.490682\n",
    "\n",
    "\n",
    "# Make the numpy.array into a list\n",
    "y_test_pred_list = y_test_pred_array.tolist()"
   ]
  },
  {
   "cell_type": "code",
   "execution_count": 48,
   "metadata": {
    "collapsed": false
   },
   "outputs": [
    {
     "data": {
      "text/plain": [
       "<matplotlib.text.Text at 0x7f7e5c061cf8>"
      ]
     },
     "execution_count": 48,
     "metadata": {},
     "output_type": "execute_result"
    },
    {
     "data": {
      "image/png": "[encoded data removed]",
      "text/plain": [
       "<matplotlib.figure.Figure at 0x7f7e5c11b828>"
      ]
     },
     "metadata": {},
     "output_type": "display_data"
    }
   ],
   "source": [
    "# Plot new predictions versus new data outcomes\n",
    "\n",
    "plt.scatter(test_outcomes_list, y_test_pred_list)\n",
    "\n",
    "axes = plt.gca()\n",
    "\n",
    "axes.set_xlim([2, 23])\n",
    "\n",
    "axes.set_ylim([2, 23])\n",
    "\n",
    "axes.set_xticks([2, 5, 8, 11, 14, 17, 20, 23])\n",
    "\n",
    "axes.set_yticks([2, 5, 8, 11, 14, 17, 20, 23])\n",
    "\n",
    "plt.plot([2, 23], [2, 23], 'k-', lw=2)\n",
    "\n",
    "axes.set_xlabel(\"Actual Outcome (Log-Transformed US Dollars)\")\n",
    "\n",
    "axes.set_ylabel(\"Model Prediction (Log-Transformed US Dollars)\")\n",
    "\n",
    "axes.set_title(\"Model Performance\")"
   ]
  },
  {
   "cell_type": "code",
   "execution_count": 49,
   "metadata": {
    "collapsed": false
   },
   "outputs": [
    {
     "data": {
      "text/plain": [
       "Parameter containing:\n",
       "\n",
       "Columns 0 to 9 \n",
       " 0.1217  0.2002  0.0152  0.1201  0.1951  0.0456  0.1811  0.0155  0.0202 -0.0466\n",
       "-0.1216  0.2679  0.1006  0.0374  0.2370 -0.0820 -0.0428 -0.1677  0.1264 -0.1825\n",
       "-0.0503  0.1393 -0.1431 -0.0688  0.0142  0.0861  0.0059  0.0380  0.2790  0.2701\n",
       "-0.0136  0.1276 -0.1038 -0.0670  0.0226  0.0999 -0.2603 -0.1212  0.0898 -0.0059\n",
       "-0.1340  0.0831 -0.1347  0.0284 -0.0222 -0.1213  0.1621  0.0702  0.0216  0.0216\n",
       "-0.0413 -0.0849 -0.0429  0.0762  0.1281  0.0285 -0.0643  0.1484  0.2124  0.1022\n",
       " 0.1750  0.0498  0.1786  0.2652  0.1929 -0.1129 -0.1399 -0.0735  0.0202  0.0915\n",
       "-0.0122 -0.2433  0.0742  0.1804  0.3750 -0.0862 -0.0574  0.1321 -0.0594  0.0013\n",
       "-0.1464  0.1137  0.2654 -0.0308  0.0495  0.1054 -0.0843  0.0746  0.0490  0.1092\n",
       " 0.0280 -0.0642 -0.0269  0.1024 -0.0325  0.1904 -0.0242  0.1138  0.0828 -0.2166\n",
       "-0.0565 -0.1697 -0.1126  0.0855  0.0742 -0.0650 -0.1638  0.0262 -0.1602 -0.0266\n",
       " 0.1254  0.1353 -0.0550  0.1666 -0.0477  0.1058  0.1418 -0.0281  0.2012  0.0010\n",
       "-0.0201 -0.1219 -0.1535  0.1629 -0.0377 -0.1745 -0.2176  0.0469 -0.0905 -0.1365\n",
       "-0.0924 -0.1451 -0.1869  0.0571 -0.1501 -0.0393  0.0467  0.1142 -0.1638  0.1222\n",
       "-0.1489  0.0428  0.1706 -0.1317 -0.0901  0.0939 -0.0130  0.1691 -0.2428  0.2140\n",
       "\n",
       "Columns 10 to 19 \n",
       " 0.0470 -0.1951  0.1748  0.1851 -0.1400  0.0747  0.1849 -0.0215 -0.2254  0.1390\n",
       "-0.0746  0.0430 -0.0485  0.1640 -0.1454 -0.3314 -0.0804  0.1260 -0.1861  0.0640\n",
       " 0.1741 -0.1446 -0.0867  0.1113  0.0923 -0.0563 -0.0307 -0.0575 -0.1985  0.0491\n",
       "-0.1953 -0.1862  0.1360 -0.0587 -0.2022  0.0681 -0.1423  0.1444 -0.1018 -0.2275\n",
       "-0.0302 -0.1158 -0.1527  0.2217 -0.0818 -0.2077  0.0081  0.0978  0.0802 -0.0883\n",
       "-0.1401  0.1606  0.0531 -0.0342  0.1627  0.1100  0.1955 -0.0807 -0.0400  0.1148\n",
       "-0.0349 -0.0024 -0.1647 -0.0827 -0.1112 -0.0018 -0.1790 -0.0467  0.0218 -0.2694\n",
       " 0.1728 -0.0561  0.0603 -0.0358  0.0623 -0.0635 -0.0413  0.1360  0.0351  0.0067\n",
       " 0.0249 -0.1446 -0.0416  0.0734 -0.2377 -0.2518  0.0243 -0.1517 -0.2366 -0.1964\n",
       "-0.2232  0.1108 -0.1745  0.0846 -0.1887 -0.0569  0.0612  0.1077 -0.1405  0.1426\n",
       " 0.0116 -0.1105  0.1460  0.2544  0.2419 -0.1709 -0.1008 -0.2004 -0.1627  0.1915\n",
       " 0.0256 -0.1620 -0.1978 -0.1293 -0.0875  0.1080  0.1737  0.2366  0.1306  0.0387\n",
       " 0.1288 -0.3169 -0.2105  0.0401 -0.1660  0.2200  0.0125 -0.1695 -0.1824 -0.0900\n",
       "-0.0868 -0.0923  0.0462  0.0669 -0.2147  0.0698 -0.0894 -0.0875  0.1873 -0.0439\n",
       " 0.1610 -0.1009  0.0332  0.1375  0.0932  0.0518  0.0854  0.1571 -0.1066  0.1117\n",
       "\n",
       "Columns 20 to 21 \n",
       "-0.0203  0.0411\n",
       " 0.0435 -0.0639\n",
       " 0.0810 -0.0320\n",
       " 0.0533 -0.0822\n",
       " 0.0175 -0.1487\n",
       "-0.0716  0.0628\n",
       "-0.0685  0.0691\n",
       " 0.1172  0.1223\n",
       "-0.1682  0.1063\n",
       " 0.1199  0.1549\n",
       " 0.2205  0.0720\n",
       "-0.0876  0.1865\n",
       "-0.2312  0.1894\n",
       "-0.0210 -0.0303\n",
       " 0.1149  0.2494\n",
       "[torch.FloatTensor of size 15x22]"
      ]
     },
     "execution_count": 49,
     "metadata": {},
     "output_type": "execute_result"
    }
   ],
   "source": [
    "dim_corrected_model_2[(0)].weight"
   ]
  },
  {
   "cell_type": "code",
   "execution_count": 50,
   "metadata": {
    "collapsed": false
   },
   "outputs": [
    {
     "data": {
      "text/plain": [
       "Parameter containing:\n",
       "\n",
       "Columns 0 to 9 \n",
       "-0.1181  0.1329  0.1583 -0.0153  0.0909  0.2261 -0.2678  0.1872 -0.2110  0.0670\n",
       " 0.1412 -0.0381 -0.0799 -0.2249  0.2212 -0.1433 -0.0924  0.2381 -0.1160 -0.1573\n",
       " 0.2449  0.1329  0.3165  0.1583 -0.0105  0.2853  0.0756  0.1658 -0.1142 -0.2307\n",
       "-0.2098  0.2288 -0.0530  0.0147  0.1677  0.1005 -0.1271  0.0261 -0.2512 -0.0996\n",
       "-0.0909 -0.1353 -0.0856 -0.1057  0.0882 -0.0800 -0.0762 -0.1509 -0.1124 -0.0806\n",
       "-0.0777  0.1952  0.1388 -0.1771  0.1786 -0.0547  0.1116  0.0452 -0.2547  0.0714\n",
       " 0.2213  0.2113  0.0045 -0.2606 -0.0064  0.2567  0.1244  0.1019 -0.1594 -0.1966\n",
       "-0.2664  0.0429  0.3384  0.1208  0.0395  0.0792 -0.0278 -0.3017 -0.2453  0.0540\n",
       "-0.1325  0.1658  0.2308 -0.0641 -0.0573  0.0181  0.3216  0.2580 -0.2282  0.1940\n",
       " 0.1946 -0.1324 -0.1099 -0.0427  0.0082 -0.0375 -0.1752  0.0449  0.2283  0.2551\n",
       "\n",
       "Columns 10 to 14 \n",
       "-0.0568 -0.2180 -0.1229 -0.2165  0.2183\n",
       " 0.2532 -0.0108  0.0981  0.0590  0.1714\n",
       "-0.0109 -0.0911 -0.0150  0.0695 -0.2357\n",
       " 0.2893  0.2036 -0.2849  0.1432  0.2713\n",
       "-0.1269 -0.1282  0.1055  0.0335 -0.1485\n",
       " 0.1391 -0.2782 -0.0794  0.1417  0.0239\n",
       "-0.1086 -0.0189 -0.2812 -0.1888 -0.0005\n",
       " 0.1402 -0.1920 -0.1890  0.2058  0.0615\n",
       " 0.0524  0.2621 -0.2449  0.2419 -0.0624\n",
       "-0.0682 -0.1804  0.0642  0.0892 -0.2497\n",
       "[torch.FloatTensor of size 10x15]"
      ]
     },
     "execution_count": 50,
     "metadata": {},
     "output_type": "execute_result"
    }
   ],
   "source": [
    "dim_corrected_model_2[(2)].weight"
   ]
  },
  {
   "cell_type": "code",
   "execution_count": 51,
   "metadata": {
    "collapsed": false
   },
   "outputs": [
    {
     "data": {
      "text/plain": [
       "Parameter containing:\n",
       "-0.1396  0.2910  0.4024 -0.3339  0.2619 -0.0507  0.3490 -0.4238  0.4264 -0.0420\n",
       "[torch.FloatTensor of size 1x10]"
      ]
     },
     "execution_count": 51,
     "metadata": {},
     "output_type": "execute_result"
    }
   ],
   "source": [
    "dim_corrected_model_2[(4)].weight"
   ]
  },
  {
   "cell_type": "markdown",
   "metadata": {},
   "source": [
    "## Round 3: Three-Hidden-Layers Neural Network"
   ]
  },
  {
   "cell_type": "code",
   "execution_count": 52,
   "metadata": {
    "collapsed": true
   },
   "outputs": [],
   "source": [
    "# Make the torch Tensor into a PyTorch Variable for dependent variables\n",
    "outcomes_Variable = Variable(outcomes_Tensor)\n",
    "\n",
    "\n",
    "# ...for independent variables\n",
    "features_Variable = Variable(features_Tensor,\n",
    "                             requires_grad = False)"
   ]
  },
  {
   "cell_type": "code",
   "execution_count": 53,
   "metadata": {
    "collapsed": false
   },
   "outputs": [],
   "source": [
    "# Make the neural network\n",
    "model = torch.nn.Sequential(torch.nn.Linear(22, 15),\n",
    "                            torch.nn.ReLU(),\n",
    "                            torch.nn.Linear(15, 10),\n",
    "                            torch.nn.ReLU(),\n",
    "                            torch.nn.Linear(10, 7),\n",
    "                            torch.nn.ReLU(),\n",
    "                            torch.nn.Linear(7, 1))"
   ]
  },
  {
   "cell_type": "code",
   "execution_count": 54,
   "metadata": {
    "collapsed": false
   },
   "outputs": [],
   "source": [
    "# To add errors to\n",
    "errors = []\n",
    "\n",
    "\n",
    "# Set the learning rate\n",
    "learning_rate = 5e-6\n",
    "\n",
    "\n",
    "# Train the neural network\n",
    "for t in range(10000):\n",
    "    \n",
    "    # Get the current predictions\n",
    "    y_pred = model(features_Variable)\n",
    "    \n",
    "    # Compute and append current summed errors\n",
    "    loss = loss_fn(y_pred, outcomes_Variable)\n",
    "    errors.append(loss.data[0])\n",
    "    \n",
    "    # Zero the gradients before running the backward pass.\n",
    "    model.zero_grad()\n",
    "    \n",
    "    # Backward pass: compute gradient of the loss with respect to all the learnable Variables\n",
    "    loss.backward()\n",
    "    \n",
    "    # Update the weights using gradient descent\n",
    "    for param in model.parameters():\n",
    "        param.data -= learning_rate * param.grad.data"
   ]
  },
  {
   "cell_type": "code",
   "execution_count": 55,
   "metadata": {
    "collapsed": false
   },
   "outputs": [
    {
     "data": {
      "text/plain": [
       "<matplotlib.collections.PathCollection at 0x7f7e55943470>"
      ]
     },
     "execution_count": 55,
     "metadata": {},
     "output_type": "execute_result"
    },
    {
     "data": {
      "image/png": "[encoded data removed]",
      "text/plain": [
       "<matplotlib.figure.Figure at 0x7f7e5c02b4e0>"
      ]
     },
     "metadata": {},
     "output_type": "display_data"
    }
   ],
   "source": [
    "# Plot summed error as a function of iteration\n",
    "plt.scatter(iterations, errors)"
   ]
  },
  {
   "cell_type": "code",
   "execution_count": 56,
   "metadata": {
    "collapsed": true
   },
   "outputs": [],
   "source": [
    "# Get rid of the 2nd dimension of 1 from the FloatTensor\n",
    "y_pred_resized = y_pred.resize(4675)\n",
    "\n",
    "\n",
    "# Make the FloatTensor into a numpy.array\n",
    "y_pred_array = y_pred_resized.data.numpy()\n",
    "\n",
    "\n",
    "# Make the numpy.array into a list\n",
    "y_pred_list = y_pred_array.tolist()"
   ]
  },
  {
   "cell_type": "code",
   "execution_count": 57,
   "metadata": {
    "collapsed": false
   },
   "outputs": [
    {
     "data": {
      "text/plain": [
       "[<matplotlib.lines.Line2D at 0x7f7e5c03af98>]"
      ]
     },
     "execution_count": 57,
     "metadata": {},
     "output_type": "execute_result"
    },
    {
     "data": {
      "image/png": "[encoded data removed]",
      "text/plain": [
       "<matplotlib.figure.Figure at 0x7f7e5c03a6d8>"
      ]
     },
     "metadata": {},
     "output_type": "display_data"
    }
   ],
   "source": [
    "# Plot predictions versus training set outcomes\n",
    "plt.scatter(outcomes_list, y_pred_list)\n",
    "\n",
    "axes = plt.gca()\n",
    "\n",
    "axes.set_xlim([-2, 4])\n",
    "\n",
    "axes.set_ylim([-2, 4])\n",
    "\n",
    "plt.plot([-2, 4], [-2, 4], 'k-', lw=2)"
   ]
  },
  {
   "cell_type": "markdown",
   "metadata": {},
   "source": [
    "### Round 3.1: Validation Set Performance"
   ]
  },
  {
   "cell_type": "code",
   "execution_count": 58,
   "metadata": {
    "collapsed": false
   },
   "outputs": [],
   "source": [
    "# Have to make a new model and give it the train_model parameters to fix structure problem\n",
    "dim_corrected_model = torch.nn.Sequential(torch.nn.Linear(22, 15),\n",
    "                                          torch.nn.ReLU(),\n",
    "                                          torch.nn.Linear(15, 10),\n",
    "                                          torch.nn.ReLU(),\n",
    "                                          torch.nn.Linear(10, 7),\n",
    "                                          torch.nn.ReLU(),\n",
    "                                          torch.nn.Linear(7, 1))\n",
    "\n",
    "\n",
    "# Give the new model the old model's parameters\n",
    "dim_corrected_model[(0)].weight = model[(0)].weight\n",
    "dim_corrected_model[(2)].weight = model[(2)].weight\n",
    "dim_corrected_model[(4)].weight = model[(4)].weight\n",
    "dim_corrected_model[(6)].weight = model[(6)].weight"
   ]
  },
  {
   "cell_type": "code",
   "execution_count": 59,
   "metadata": {
    "collapsed": false
   },
   "outputs": [
    {
     "data": {
      "text/plain": [
       "Variable containing:\n",
       " 1144.2200\n",
       "[torch.FloatTensor of size 1]"
      ]
     },
     "execution_count": 59,
     "metadata": {},
     "output_type": "execute_result"
    }
   ],
   "source": [
    "# Get the validation set predictions\n",
    "y_valid_pred = dim_corrected_model(valid_predictors_Variable)\n",
    "\n",
    "\n",
    "# Print the loss\n",
    "loss_fn(y_valid_pred,\n",
    "        valid_outcomes_Variable)"
   ]
  },
  {
   "cell_type": "code",
   "execution_count": 60,
   "metadata": {
    "collapsed": false
   },
   "outputs": [],
   "source": [
    "# Get rid of the 2nd dimension of 1 from the FloatTensor\n",
    "y_valid_pred_resized = y_valid_pred.resize(1604)\n",
    "\n",
    "\n",
    "# Make the FloatTensor into a numpy.array\n",
    "y_valid_pred_array = y_valid_pred_resized.data.numpy()\n",
    "\n",
    "\n",
    "# Make the numpy.array into a list\n",
    "y_valid_pred_list = y_valid_pred_array.tolist()"
   ]
  },
  {
   "cell_type": "code",
   "execution_count": 61,
   "metadata": {
    "collapsed": false
   },
   "outputs": [
    {
     "data": {
      "text/plain": [
       "[<matplotlib.lines.Line2D at 0x7f7e5587a080>]"
      ]
     },
     "execution_count": 61,
     "metadata": {},
     "output_type": "execute_result"
    },
    {
     "data": {
      "image/png": "[encoded data removed]",
      "text/plain": [
       "<matplotlib.figure.Figure at 0x7f7e5587a0b8>"
      ]
     },
     "metadata": {},
     "output_type": "display_data"
    }
   ],
   "source": [
    "# Plot new predictions versus new data outcomes\n",
    "plt.scatter(valid_outcomes_list, y_valid_pred_list)\n",
    "\n",
    "axes = plt.gca()\n",
    "\n",
    "axes.set_xlim([-2, 4])\n",
    "\n",
    "axes.set_ylim([-2, 4])\n",
    "\n",
    "plt.plot([-2, 4], [-2, 4], 'k-', lw=2)"
   ]
  },
  {
   "cell_type": "markdown",
   "metadata": {},
   "source": [
    "### Round 3.2: Test Set Performance"
   ]
  },
  {
   "cell_type": "code",
   "execution_count": 62,
   "metadata": {
    "collapsed": true
   },
   "outputs": [],
   "source": [
    "# Have to make a new model and give it the train_model parameters to fix structure problem\n",
    "dim_corrected_model_2 = torch.nn.Sequential(torch.nn.Linear(22, 15),\n",
    "                                            torch.nn.ReLU(),\n",
    "                                            torch.nn.Linear(15, 10),\n",
    "                                            torch.nn.ReLU(),\n",
    "                                            torch.nn.Linear(10, 7),\n",
    "                                            torch.nn.ReLU(),\n",
    "                                            torch.nn.Linear(7, 1))\n",
    "\n",
    "\n",
    "# Give the new model the old model's parameters\n",
    "dim_corrected_model_2[(0)].weight = model[(0)].weight\n",
    "dim_corrected_model_2[(2)].weight = model[(2)].weight\n",
    "dim_corrected_model_2[(4)].weight = model[(4)].weight\n",
    "dim_corrected_model_2[(6)].weight = model[(6)].weight"
   ]
  },
  {
   "cell_type": "code",
   "execution_count": 63,
   "metadata": {
    "collapsed": false
   },
   "outputs": [
    {
     "data": {
      "text/plain": [
       "Variable containing:\n",
       " 605.0221\n",
       "[torch.FloatTensor of size 1]"
      ]
     },
     "execution_count": 63,
     "metadata": {},
     "output_type": "execute_result"
    }
   ],
   "source": [
    "# Get the validation set predictions\n",
    "y_test_pred = dim_corrected_model_2(test_predictors_Variable)\n",
    "\n",
    "\n",
    "# Print the loss\n",
    "loss_fn(y_test_pred,\n",
    "        test_outcomes_Variable)"
   ]
  },
  {
   "cell_type": "code",
   "execution_count": 64,
   "metadata": {
    "collapsed": true
   },
   "outputs": [],
   "source": [
    "# Get rid of the 2nd dimension of 1 from the FloatTensor\n",
    "y_test_pred_resized = y_test_pred.resize(1596)\n",
    "\n",
    "\n",
    "# Make the FloatTensor into a numpy.array\n",
    "y_test_pred_array = y_test_pred_resized.data.numpy()\n",
    "\n",
    "\n",
    "# Convert back to native units and scale\n",
    "y_test_pred_array = y_test_pred_array*5.735285 + 6.490682\n",
    "\n",
    "\n",
    "# Make the numpy.array into a list\n",
    "y_test_pred_list = y_test_pred_array.tolist()"
   ]
  },
  {
   "cell_type": "code",
   "execution_count": 65,
   "metadata": {
    "collapsed": false
   },
   "outputs": [
    {
     "data": {
      "text/plain": [
       "<matplotlib.text.Text at 0x7f7e557c2400>"
      ]
     },
     "execution_count": 65,
     "metadata": {},
     "output_type": "execute_result"
    },
    {
     "data": {
      "image/png": "[encoded data removed]",
      "text/plain": [
       "<matplotlib.figure.Figure at 0x7f7e558a07b8>"
      ]
     },
     "metadata": {},
     "output_type": "display_data"
    }
   ],
   "source": [
    "# Plot new predictions versus new data outcomes\n",
    "\n",
    "plt.scatter(test_outcomes_list, y_test_pred_list)\n",
    "\n",
    "axes = plt.gca()\n",
    "\n",
    "axes.set_xlim([2, 23])\n",
    "\n",
    "axes.set_ylim([2, 23])\n",
    "\n",
    "axes.set_xticks([2, 5, 8, 11, 14, 17, 20, 23])\n",
    "\n",
    "axes.set_yticks([2, 5, 8, 11, 14, 17, 20, 23])\n",
    "\n",
    "plt.plot([2, 23], [2, 23], 'k-', lw=2)\n",
    "\n",
    "axes.set_xlabel(\"Actual Outcome (Log-Transformed US Dollars)\")\n",
    "\n",
    "axes.set_ylabel(\"Model Prediction (Log-Transformed US Dollars)\")\n",
    "\n",
    "axes.set_title(\"Model Performance\")"
   ]
  },
  {
   "cell_type": "code",
   "execution_count": 66,
   "metadata": {
    "collapsed": false
   },
   "outputs": [
    {
     "data": {
      "text/plain": [
       "Parameter containing:\n",
       "\n",
       "Columns 0 to 9 \n",
       " 0.0001 -0.0255 -0.1270  0.1959  0.0895 -0.0754 -0.0284  0.1249  0.0984 -0.0218\n",
       "-0.0911 -0.1001 -0.0278 -0.0601  0.1671  0.0407 -0.1504  0.0942  0.0110  0.1550\n",
       " 0.0525 -0.0722  0.0361  0.0901 -0.1364 -0.1559 -0.1585 -0.1597 -0.0762 -0.1902\n",
       " 0.0146 -0.0442 -0.1495 -0.0293 -0.1582 -0.1404 -0.0349  0.0150  0.0539  0.0281\n",
       " 0.0571 -0.1777 -0.1439 -0.1108 -0.0548 -0.0365  0.1261 -0.0848 -0.0619 -0.1598\n",
       "-0.2079 -0.0660 -0.1255 -0.1008 -0.1635  0.2192 -0.0427 -0.1212 -0.1564 -0.0560\n",
       " 0.0324 -0.0222  0.1844 -0.0205 -0.2583 -0.2023  0.0324  0.0557 -0.0400  0.1470\n",
       "-0.0420 -0.1752  0.1189 -0.0799  0.1071 -0.1082 -0.0619  0.1014  0.1545  0.1180\n",
       "-0.0107 -0.1044 -0.1571 -0.1167  0.1611  0.1462 -0.1714 -0.1396 -0.2142  0.1371\n",
       "-0.0840 -0.0584  0.1410  0.0800  0.2686  0.1153 -0.0480 -0.0814  0.2266  0.0459\n",
       " 0.1279 -0.0828  0.1294  0.2276  0.2741 -0.1136  0.0228  0.0517  0.0923  0.1026\n",
       "-0.0507  0.1058  0.2584 -0.1316 -0.1400  0.0567  0.0808  0.1705  0.0314 -0.0216\n",
       "-0.1689  0.1456  0.2137  0.0115  0.0065  0.2161  0.1299 -0.0509 -0.0827 -0.0871\n",
       "-0.1165 -0.1638  0.0942  0.0689 -0.1049 -0.2191  0.0541  0.1874 -0.0301 -0.1200\n",
       " 0.2043  0.1516  0.0698  0.1580  0.2524 -0.1289  0.0237 -0.0952 -0.0409  0.0747\n",
       "\n",
       "Columns 10 to 19 \n",
       " 0.1620 -0.0446  0.1246 -0.1283 -0.0190 -0.1805  0.0017 -0.0151  0.1679 -0.1144\n",
       "-0.0193 -0.1859 -0.1353 -0.0967 -0.1603 -0.1771  0.1781  0.1769  0.0966 -0.1060\n",
       " 0.1386 -0.0804 -0.1723 -0.1288 -0.1414  0.1999 -0.0886 -0.1671  0.0356 -0.1326\n",
       "-0.0659 -0.2426 -0.0344 -0.0770 -0.1782  0.0118 -0.0875 -0.0830 -0.2459  0.1331\n",
       " 0.1806 -0.0843  0.1458  0.1091  0.1247 -0.2228  0.0284 -0.0709 -0.1693 -0.1046\n",
       "-0.0599  0.1244 -0.1443  0.0254  0.0701 -0.1333  0.1297 -0.1081  0.0872  0.0651\n",
       " 0.1258  0.0307  0.1393  0.2768  0.0009 -0.1862 -0.0589  0.1761  0.1763 -0.0157\n",
       " 0.1445 -0.1960 -0.0446 -0.1195 -0.1778 -0.1541 -0.1839 -0.1218 -0.1558  0.2064\n",
       " 0.0889 -0.1595 -0.0538 -0.1131 -0.0096 -0.0699 -0.0094 -0.2334  0.0733 -0.1740\n",
       "-0.1257 -0.1361  0.1454 -0.0117  0.2304 -0.0806  0.0116 -0.1368  0.0477  0.1619\n",
       " 0.0717 -0.0197 -0.0943  0.2732  0.0317  0.0442  0.1545  0.2990 -0.0997  0.1018\n",
       " 0.0425 -0.0603  0.0614 -0.0940 -0.0390  0.0932 -0.0295 -0.0949 -0.2120 -0.0290\n",
       " 0.1656  0.1536  0.0566  0.1961 -0.2251  0.1610  0.0357 -0.0315 -0.0496 -0.1721\n",
       "-0.1644 -0.0743  0.2044  0.0410 -0.1106 -0.1359 -0.1572  0.0368 -0.1467  0.0454\n",
       " 0.1189  0.0756  0.1102 -0.0761 -0.0810 -0.0957 -0.1986 -0.1259  0.0849 -0.1729\n",
       "\n",
       "Columns 20 to 21 \n",
       "-0.0113 -0.0702\n",
       "-0.1493  0.1034\n",
       "-0.0936 -0.1676\n",
       "-0.0862  0.1636\n",
       "-0.0862 -0.0593\n",
       " 0.1065  0.2961\n",
       "-0.0332  0.0971\n",
       "-0.1368 -0.0047\n",
       " 0.1433  0.1030\n",
       "-0.2449  0.1081\n",
       " 0.0319  0.3093\n",
       "-0.0451  0.0129\n",
       "-0.0257 -0.0802\n",
       "-0.0962 -0.0064\n",
       " 0.0678 -0.0676\n",
       "[torch.FloatTensor of size 15x22]"
      ]
     },
     "execution_count": 66,
     "metadata": {},
     "output_type": "execute_result"
    }
   ],
   "source": [
    "dim_corrected_model_2[(0)].weight"
   ]
  },
  {
   "cell_type": "code",
   "execution_count": 67,
   "metadata": {
    "collapsed": false
   },
   "outputs": [
    {
     "data": {
      "text/plain": [
       "Parameter containing:\n",
       "\n",
       "Columns 0 to 9 \n",
       "-0.0625 -0.2628 -0.1464  0.2146  0.2272  0.2294  0.2316 -0.2090  0.1505  0.2778\n",
       "-0.0990 -0.2076 -0.0613 -0.2446  0.0698 -0.1471 -0.2750 -0.0262  0.0874  0.0651\n",
       "-0.0648 -0.0943 -0.2139 -0.1547  0.2084  0.1125 -0.1812 -0.0976  0.0200  0.1508\n",
       "-0.1020 -0.1078 -0.1993  0.0352  0.1520 -0.1425 -0.1261 -0.2421 -0.1025 -0.1137\n",
       "-0.1594  0.0216 -0.2190  0.2465  0.2207  0.1019 -0.1643  0.0846  0.0445 -0.1142\n",
       "-0.0673  0.2569 -0.2141 -0.1321  0.0784  0.2319 -0.0454 -0.1809 -0.1520 -0.1643\n",
       " 0.2035 -0.0362 -0.0528 -0.2331  0.1524 -0.1639 -0.1887  0.2004 -0.1640  0.0745\n",
       "-0.0933 -0.1515 -0.1933 -0.0873  0.0627  0.0394  0.0957 -0.0284  0.1731 -0.1273\n",
       "-0.2059  0.0491 -0.0215  0.2182  0.2420  0.2351  0.2648 -0.0490 -0.0953 -0.0760\n",
       " 0.0526 -0.2077  0.1955 -0.0335  0.2134 -0.0526 -0.1718  0.0336  0.0088 -0.0858\n",
       "\n",
       "Columns 10 to 14 \n",
       " 0.2538  0.0338 -0.2362 -0.0210  0.1363\n",
       " 0.0984  0.2388 -0.1036 -0.0404  0.0995\n",
       "-0.3007  0.0230 -0.0070  0.1257  0.2628\n",
       "-0.1223  0.1145  0.0439  0.1546  0.0472\n",
       " 0.1727 -0.0806 -0.2192 -0.1845 -0.1109\n",
       "-0.1387  0.0388 -0.1722 -0.2149  0.2167\n",
       " 0.4678 -0.0037  0.0429  0.1091  0.3797\n",
       "-0.1651 -0.0327 -0.1871 -0.0797  0.1850\n",
       " 0.0490  0.3267  0.1533  0.0040 -0.1714\n",
       " 0.1344  0.1487 -0.1768  0.1929 -0.0410\n",
       "[torch.FloatTensor of size 10x15]"
      ]
     },
     "execution_count": 67,
     "metadata": {},
     "output_type": "execute_result"
    }
   ],
   "source": [
    "dim_corrected_model_2[(2)].weight"
   ]
  },
  {
   "cell_type": "code",
   "execution_count": 68,
   "metadata": {
    "collapsed": false
   },
   "outputs": [
    {
     "data": {
      "text/plain": [
       "Parameter containing:\n",
       "-0.2841  0.2593 -0.1676 -0.2027  0.2402 -0.1630  0.0559 -0.1929 -0.2982  0.2752\n",
       " 0.2182 -0.3004  0.2809 -0.1853  0.2566 -0.1998 -0.1783  0.1842 -0.1881  0.1640\n",
       " 0.3408 -0.1003 -0.1118  0.1590 -0.1162 -0.0578 -0.2303 -0.2971 -0.2319  0.2875\n",
       "-0.3018 -0.1099 -0.2672  0.2028 -0.1004  0.1356 -0.0396 -0.1893 -0.2744 -0.2162\n",
       " 0.0340  0.1034  0.2027  0.0264 -0.2227  0.1688 -0.0481  0.0984  0.3222 -0.3143\n",
       " 0.2408 -0.1100  0.1117  0.0611  0.0519  0.0204 -0.0763  0.1785  0.0529 -0.2653\n",
       " 0.0570  0.2600 -0.3414  0.1182  0.0692 -0.0433  0.6421  0.2509 -0.3410 -0.1542\n",
       "[torch.FloatTensor of size 7x10]"
      ]
     },
     "execution_count": 68,
     "metadata": {},
     "output_type": "execute_result"
    }
   ],
   "source": [
    "dim_corrected_model_2[(4)].weight"
   ]
  },
  {
   "cell_type": "code",
   "execution_count": 69,
   "metadata": {
    "collapsed": false
   },
   "outputs": [
    {
     "data": {
      "text/plain": [
       "Parameter containing:\n",
       "-0.1971 -0.0120 -0.2228 -0.0597 -0.2052 -0.1701  0.7401\n",
       "[torch.FloatTensor of size 1x7]"
      ]
     },
     "execution_count": 69,
     "metadata": {},
     "output_type": "execute_result"
    }
   ],
   "source": [
    "dim_corrected_model_2[(6)].weight"
   ]
  },
  {
   "cell_type": "markdown",
   "metadata": {},
   "source": [
    "## Round 4: Four-Hidden-Layer Neural Network"
   ]
  },
  {
   "cell_type": "code",
   "execution_count": 70,
   "metadata": {
    "collapsed": true
   },
   "outputs": [],
   "source": [
    "# Make the torch Tensor into a PyTorch Variable for dependent variables\n",
    "outcomes_Variable = Variable(outcomes_Tensor)\n",
    "\n",
    "\n",
    "# ...for independent variables\n",
    "features_Variable = Variable(features_Tensor,\n",
    "                             requires_grad = False)"
   ]
  },
  {
   "cell_type": "code",
   "execution_count": 71,
   "metadata": {
    "collapsed": true
   },
   "outputs": [],
   "source": [
    "# Make the neural network\n",
    "model = torch.nn.Sequential(torch.nn.Linear(22, 15),\n",
    "                            torch.nn.ReLU(),\n",
    "                            torch.nn.Linear(15, 10),\n",
    "                            torch.nn.ReLU(),\n",
    "                            torch.nn.Linear(10, 7),\n",
    "                            torch.nn.ReLU(),\n",
    "                            torch.nn.Linear(7, 5),\n",
    "                            torch.nn.ReLU(),\n",
    "                            torch.nn.Linear(5, 1))"
   ]
  },
  {
   "cell_type": "code",
   "execution_count": 72,
   "metadata": {
    "collapsed": true
   },
   "outputs": [],
   "source": [
    "# To add errors to\n",
    "errors = []\n",
    "\n",
    "\n",
    "# Set the learning rate\n",
    "learning_rate = 5e-6\n",
    "\n",
    "\n",
    "# Train the neural network\n",
    "for t in range(10000):\n",
    "    \n",
    "    # Get the current predictions\n",
    "    y_pred = model(features_Variable)\n",
    "    \n",
    "    # Compute and append current summed errors\n",
    "    loss = loss_fn(y_pred, outcomes_Variable)\n",
    "    errors.append(loss.data[0])\n",
    "    \n",
    "    # Zero the gradients before running the backward pass.\n",
    "    model.zero_grad()\n",
    "    \n",
    "    # Backward pass: compute gradient of the loss with respect to all the learnable Variables\n",
    "    loss.backward()\n",
    "    \n",
    "    # Update the weights using gradient descent\n",
    "    for param in model.parameters():\n",
    "        param.data -= learning_rate * param.grad.data"
   ]
  },
  {
   "cell_type": "code",
   "execution_count": 73,
   "metadata": {
    "collapsed": false
   },
   "outputs": [
    {
     "data": {
      "text/plain": [
       "<matplotlib.collections.PathCollection at 0x7f7e556ff320>"
      ]
     },
     "execution_count": 73,
     "metadata": {},
     "output_type": "execute_result"
    },
    {
     "data": {
      "image/png": "[encoded data removed]",
      "text/plain": [
       "<matplotlib.figure.Figure at 0x7f7e55782ac8>"
      ]
     },
     "metadata": {},
     "output_type": "display_data"
    }
   ],
   "source": [
    "# Plot summed error as a function of iteration\n",
    "plt.scatter(iterations, errors)"
   ]
  },
  {
   "cell_type": "code",
   "execution_count": 74,
   "metadata": {
    "collapsed": true
   },
   "outputs": [],
   "source": [
    "# Get rid of the 2nd dimension of 1 from the FloatTensor\n",
    "y_pred_resized = y_pred.resize(4675)\n",
    "\n",
    "\n",
    "# Make the FloatTensor into a numpy.array\n",
    "y_pred_array = y_pred_resized.data.numpy()\n",
    "\n",
    "\n",
    "# Make the numpy.array into a list\n",
    "y_pred_list = y_pred_array.tolist()"
   ]
  },
  {
   "cell_type": "code",
   "execution_count": 75,
   "metadata": {
    "collapsed": false
   },
   "outputs": [
    {
     "data": {
      "text/plain": [
       "[<matplotlib.lines.Line2D at 0x7f7e55830748>]"
      ]
     },
     "execution_count": 75,
     "metadata": {},
     "output_type": "execute_result"
    },
    {
     "data": {
      "image/png": "[encoded data removed]",
      "text/plain": [
       "<matplotlib.figure.Figure at 0x7f7e558304a8>"
      ]
     },
     "metadata": {},
     "output_type": "display_data"
    }
   ],
   "source": [
    "# Plot predictions versus training set outcomes\n",
    "plt.scatter(outcomes_list, y_pred_list)\n",
    "\n",
    "axes = plt.gca()\n",
    "\n",
    "axes.set_xlim([-2, 4])\n",
    "\n",
    "axes.set_ylim([-2, 4])\n",
    "\n",
    "plt.plot([-2, 4], [-2, 4], 'k-', lw=2)"
   ]
  },
  {
   "cell_type": "markdown",
   "metadata": {},
   "source": [
    "### Round 4.1: Validation Set Performance"
   ]
  },
  {
   "cell_type": "code",
   "execution_count": 76,
   "metadata": {
    "collapsed": true
   },
   "outputs": [],
   "source": [
    "# Have to make a new model and give it the train_model parameters to fix structure problem\n",
    "dim_corrected_model = torch.nn.Sequential(torch.nn.Linear(22, 15),\n",
    "                                          torch.nn.ReLU(),\n",
    "                                          torch.nn.Linear(15, 10),\n",
    "                                          torch.nn.ReLU(),\n",
    "                                          torch.nn.Linear(10, 7),\n",
    "                                          torch.nn.ReLU(),\n",
    "                                          torch.nn.Linear(7, 5),\n",
    "                                          torch.nn.ReLU(),\n",
    "                                          torch.nn.Linear(5, 1))\n",
    "\n",
    "\n",
    "# Give the new model the old model's parameters\n",
    "dim_corrected_model[(0)].weight = model[(0)].weight\n",
    "dim_corrected_model[(2)].weight = model[(2)].weight\n",
    "dim_corrected_model[(4)].weight = model[(4)].weight\n",
    "dim_corrected_model[(6)].weight = model[(6)].weight\n",
    "dim_corrected_model[(8)].weight = model[(8)].weight"
   ]
  },
  {
   "cell_type": "code",
   "execution_count": 77,
   "metadata": {
    "collapsed": false
   },
   "outputs": [
    {
     "data": {
      "text/plain": [
       "Variable containing:\n",
       " 1817.6917\n",
       "[torch.FloatTensor of size 1]"
      ]
     },
     "execution_count": 77,
     "metadata": {},
     "output_type": "execute_result"
    }
   ],
   "source": [
    "# Get the validation set predictions\n",
    "y_valid_pred = dim_corrected_model(valid_predictors_Variable)\n",
    "\n",
    "\n",
    "# Print the loss\n",
    "loss_fn(y_valid_pred,\n",
    "        valid_outcomes_Variable)"
   ]
  },
  {
   "cell_type": "code",
   "execution_count": 78,
   "metadata": {
    "collapsed": true
   },
   "outputs": [],
   "source": [
    "# Get rid of the 2nd dimension of 1 from the FloatTensor\n",
    "y_valid_pred_resized = y_valid_pred.resize(1604)\n",
    "\n",
    "\n",
    "# Make the FloatTensor into a numpy.array\n",
    "y_valid_pred_array = y_valid_pred_resized.data.numpy()\n",
    "\n",
    "\n",
    "# Make the numpy.array into a list\n",
    "y_valid_pred_list = y_valid_pred_array.tolist()"
   ]
  },
  {
   "cell_type": "code",
   "execution_count": 79,
   "metadata": {
    "collapsed": false
   },
   "outputs": [
    {
     "data": {
      "text/plain": [
       "[<matplotlib.lines.Line2D at 0x7f7e556a6a20>]"
      ]
     },
     "execution_count": 79,
     "metadata": {},
     "output_type": "execute_result"
    },
    {
     "data": {
      "image/png": "[encoded data removed]",
      "text/plain": [
       "<matplotlib.figure.Figure at 0x7f7e556a6ac8>"
      ]
     },
     "metadata": {},
     "output_type": "display_data"
    }
   ],
   "source": [
    "# Plot new predictions versus new data outcomes\n",
    "plt.scatter(valid_outcomes_list, y_valid_pred_list)\n",
    "\n",
    "axes = plt.gca()\n",
    "\n",
    "axes.set_xlim([-2, 4])\n",
    "\n",
    "axes.set_ylim([-2, 4])\n",
    "\n",
    "plt.plot([-2, 4], [-2, 4], 'k-', lw=2)"
   ]
  },
  {
   "cell_type": "markdown",
   "metadata": {},
   "source": [
    "### Round 4.2: Test Set Performance"
   ]
  },
  {
   "cell_type": "code",
   "execution_count": 80,
   "metadata": {
    "collapsed": true
   },
   "outputs": [],
   "source": [
    "# Have to make a new model and give it the train_model parameters to fix structure problem\n",
    "dim_corrected_model_2 = torch.nn.Sequential(torch.nn.Linear(22, 15),\n",
    "                                            torch.nn.ReLU(),\n",
    "                                            torch.nn.Linear(15, 10),\n",
    "                                            torch.nn.ReLU(),\n",
    "                                            torch.nn.Linear(10, 7),\n",
    "                                            torch.nn.ReLU(),\n",
    "                                            torch.nn.Linear(7, 5),\n",
    "                                            torch.nn.ReLU(),\n",
    "                                            torch.nn.Linear(5, 1))\n",
    "\n",
    "\n",
    "# Give the new model the old model's parameters\n",
    "dim_corrected_model_2[(0)].weight = model[(0)].weight\n",
    "dim_corrected_model_2[(2)].weight = model[(2)].weight\n",
    "dim_corrected_model_2[(4)].weight = model[(4)].weight\n",
    "dim_corrected_model_2[(6)].weight = model[(6)].weight\n",
    "dim_corrected_model_2[(8)].weight = model[(8)].weight"
   ]
  },
  {
   "cell_type": "code",
   "execution_count": 81,
   "metadata": {
    "collapsed": false
   },
   "outputs": [
    {
     "data": {
      "text/plain": [
       "Variable containing:\n",
       " 461.3832\n",
       "[torch.FloatTensor of size 1]"
      ]
     },
     "execution_count": 81,
     "metadata": {},
     "output_type": "execute_result"
    }
   ],
   "source": [
    "# Get the validation set predictions\n",
    "y_test_pred = dim_corrected_model_2(test_predictors_Variable)\n",
    "\n",
    "\n",
    "# Print the loss\n",
    "loss_fn(y_test_pred,\n",
    "        test_outcomes_Variable)"
   ]
  },
  {
   "cell_type": "code",
   "execution_count": 82,
   "metadata": {
    "collapsed": true
   },
   "outputs": [],
   "source": [
    "# Get rid of the 2nd dimension of 1 from the FloatTensor\n",
    "y_test_pred_resized = y_test_pred.resize(1596)\n",
    "\n",
    "\n",
    "# Make the FloatTensor into a numpy.array\n",
    "y_test_pred_array = y_test_pred_resized.data.numpy()\n",
    "\n",
    "\n",
    "# Convert back to native units and scale\n",
    "y_test_pred_array = y_test_pred_array*5.735285 + 6.490682\n",
    "\n",
    "\n",
    "# Make the numpy.array into a list\n",
    "y_test_pred_list = y_test_pred_array.tolist()"
   ]
  },
  {
   "cell_type": "code",
   "execution_count": 83,
   "metadata": {
    "collapsed": false
   },
   "outputs": [
    {
     "data": {
      "text/plain": [
       "<matplotlib.text.Text at 0x7f7e55583eb8>"
      ]
     },
     "execution_count": 83,
     "metadata": {},
     "output_type": "execute_result"
    },
    {
     "data": {
      "image/png": "[encoded data removed]",
      "text/plain": [
       "<matplotlib.figure.Figure at 0x7f7e5589cd68>"
      ]
     },
     "metadata": {},
     "output_type": "display_data"
    }
   ],
   "source": [
    "# Plot new predictions versus new data outcomes\n",
    "\n",
    "plt.scatter(test_outcomes_list, y_test_pred_list)\n",
    "\n",
    "axes = plt.gca()\n",
    "\n",
    "axes.set_xlim([2, 23])\n",
    "\n",
    "axes.set_ylim([2, 23])\n",
    "\n",
    "axes.set_xticks([2, 5, 8, 11, 14, 17, 20, 23])\n",
    "\n",
    "axes.set_yticks([2, 5, 8, 11, 14, 17, 20, 23])\n",
    "\n",
    "plt.plot([2, 23], [2, 23], 'k-', lw=2)\n",
    "\n",
    "axes.set_xlabel(\"Actual Outcome (Log-Transformed US Dollars)\")\n",
    "\n",
    "axes.set_ylabel(\"Model Prediction (Log-Transformed US Dollars)\")\n",
    "\n",
    "axes.set_title(\"Model Performance\")"
   ]
  },
  {
   "cell_type": "code",
   "execution_count": 84,
   "metadata": {
    "collapsed": false
   },
   "outputs": [
    {
     "data": {
      "text/plain": [
       "Parameter containing:\n",
       "\n",
       "Columns 0 to 9 \n",
       " 0.0915 -0.1604  0.2649  0.1588  0.1716 -0.1646 -0.1184  0.1280  0.0405  0.0985\n",
       "-0.1135 -0.0509  0.1147  0.0045 -0.3188 -0.1702 -0.0417 -0.1150 -0.1535  0.2049\n",
       "-0.0386  0.0794 -0.0662 -0.0513 -0.2592  0.0322 -0.1632 -0.0578 -0.2876  0.0734\n",
       "-0.0909  0.1113 -0.0183  0.2237  0.3391  0.0766  0.1717  0.0598  0.0988  0.0016\n",
       " 0.2407 -0.0323  0.1193 -0.0301  0.0188 -0.0154 -0.0490  0.2406  0.0332  0.2455\n",
       " 0.0756  0.0255  0.0514  0.0868  0.0736  0.0067 -0.1397 -0.1804 -0.1908  0.0981\n",
       "-0.1074  0.0836  0.0704 -0.1387  0.0021 -0.1026 -0.0344 -0.0297 -0.0041  0.1179\n",
       "-0.1101  0.0215  0.0905 -0.0571 -0.0379  0.1660  0.1570  0.1263 -0.2182  0.1799\n",
       " 0.1457  0.0457 -0.0815 -0.0464  0.0406 -0.0861  0.1622  0.0720  0.0080  0.1838\n",
       " 0.0652  0.2009 -0.2110  0.0442 -0.0954  0.2373 -0.1061  0.1589 -0.2457  0.0271\n",
       " 0.1304 -0.1481 -0.1270  0.1956  0.0964  0.0516 -0.1751  0.2507  0.1464 -0.0261\n",
       " 0.0276 -0.0164  0.1383 -0.1692 -0.2119 -0.0091  0.0294  0.0785 -0.0088  0.0510\n",
       "-0.0163 -0.1239 -0.0118 -0.1822 -0.2609  0.0409  0.0179  0.0635  0.0318  0.1411\n",
       " 0.1728  0.1630 -0.0697  0.2322  0.2575 -0.0006  0.1161 -0.1531 -0.0751  0.0986\n",
       "-0.1619  0.0808 -0.1082  0.1219 -0.1350  0.0061 -0.0087 -0.1536 -0.0564  0.1750\n",
       "\n",
       "Columns 10 to 19 \n",
       " 0.0612 -0.1794  0.1081  0.0743 -0.0531 -0.0549  0.0144 -0.0051  0.1496 -0.0329\n",
       " 0.0394  0.0482  0.0370  0.1889  0.0806  0.1200  0.0911 -0.0653 -0.0562  0.1021\n",
       " 0.0612 -0.2199  0.0447  0.0184  0.0540  0.0304  0.0620 -0.1442  0.0097  0.0208\n",
       "-0.0596 -0.0274  0.0225 -0.0615 -0.1493 -0.0519  0.2107  0.0821 -0.0392 -0.0642\n",
       " 0.1972 -0.0538  0.1235 -0.0518  0.2087 -0.0368  0.1763  0.0325 -0.0566 -0.0893\n",
       "-0.1442  0.2369 -0.0827 -0.0633  0.0996 -0.0498 -0.0074  0.1617  0.0345 -0.0471\n",
       " 0.0490 -0.2322 -0.1026 -0.0584  0.0681 -0.1554  0.0413 -0.0914  0.1951 -0.1649\n",
       "-0.0340  0.0573 -0.1081 -0.0918 -0.2728  0.1098  0.0291 -0.1145 -0.0018  0.0607\n",
       " 0.0670  0.1793 -0.0235  0.0739  0.1258  0.0787  0.1648 -0.0105 -0.1862 -0.1038\n",
       " 0.1106  0.2208 -0.2099  0.1521 -0.1254  0.0259 -0.0496 -0.1664  0.0103  0.0647\n",
       " 0.0601  0.2074 -0.0075  0.0242  0.0422  0.2180  0.2015 -0.0149  0.1695  0.0609\n",
       " 0.0490  0.0480  0.0328  0.0477  0.0639 -0.1656  0.0910  0.0827  0.0458 -0.2365\n",
       "-0.0133  0.1285  0.0451 -0.0746  0.1659  0.1779 -0.0684 -0.0749 -0.1219  0.1599\n",
       " 0.1900  0.1219  0.0096  0.0103  0.0440 -0.0653 -0.2749 -0.0703 -0.1101  0.1123\n",
       " 0.0310  0.1540  0.0112  0.1928  0.1479 -0.1476  0.1028 -0.0646  0.2464  0.0138\n",
       "\n",
       "Columns 20 to 21 \n",
       " 0.0799  0.1665\n",
       " 0.0180  0.1018\n",
       "-0.0813  0.2535\n",
       " 0.1206 -0.1942\n",
       "-0.0756  0.0125\n",
       "-0.0600  0.1174\n",
       "-0.0714  0.1783\n",
       "-0.0021 -0.2286\n",
       " 0.0125  0.0757\n",
       "-0.0404  0.1406\n",
       "-0.1834  0.1655\n",
       "-0.0202  0.2288\n",
       " 0.0274  0.0760\n",
       " 0.0142  0.0321\n",
       " 0.1978 -0.1965\n",
       "[torch.FloatTensor of size 15x22]"
      ]
     },
     "execution_count": 84,
     "metadata": {},
     "output_type": "execute_result"
    }
   ],
   "source": [
    "dim_corrected_model_2[(0)].weight"
   ]
  },
  {
   "cell_type": "code",
   "execution_count": 85,
   "metadata": {
    "collapsed": false
   },
   "outputs": [
    {
     "data": {
      "text/plain": [
       "Parameter containing:\n",
       "\n",
       "Columns 0 to 9 \n",
       " 0.2546  0.0642  0.0689  0.1250  0.2381 -0.2379  0.1130  0.1172  0.1773 -0.1815\n",
       " 0.2267  0.2089 -0.3413  0.2539 -0.1836  0.1648  0.1729 -0.1896  0.1519 -0.2471\n",
       "-0.1507 -0.1520 -0.2328 -0.0617  0.3418  0.1669  0.0773 -0.1191 -0.1779  0.0148\n",
       "-0.2343 -0.0791  0.1260  0.0869  0.2171  0.1156 -0.1012 -0.1259 -0.1183 -0.0643\n",
       " 0.0597  0.3020 -0.0247  0.0139 -0.0911 -0.2659 -0.0612  0.1988 -0.1619 -0.1139\n",
       "-0.2019 -0.2094 -0.0151 -0.2311  0.1251 -0.1221  0.1158 -0.0755  0.0053  0.1291\n",
       "-0.2792 -0.1189  0.2976  0.1456 -0.0728  0.1610  0.2236 -0.0274  0.1844  0.0650\n",
       "-0.2344 -0.1322 -0.1220 -0.0193  0.2469  0.0797 -0.0366 -0.2657 -0.0121 -0.1249\n",
       " 0.0882 -0.0808 -0.0688  0.1254  0.0742  0.0146 -0.1214 -0.1254  0.0066  0.2548\n",
       "-0.0817  0.0628  0.0165 -0.1471  0.0466  0.0481 -0.2155 -0.1682 -0.1553 -0.1691\n",
       "\n",
       "Columns 10 to 14 \n",
       "-0.0161 -0.1245 -0.0511  0.0040 -0.0657\n",
       "-0.0631 -0.0727  0.0538  0.3715 -0.0569\n",
       "-0.2200 -0.0129 -0.0814 -0.0790 -0.0080\n",
       "-0.1830  0.1486  0.0161  0.1498 -0.2226\n",
       "-0.0819  0.2662  0.1323 -0.0952  0.1606\n",
       " 0.0886  0.1590  0.0729 -0.1050  0.1052\n",
       " 0.1654 -0.0070 -0.2115 -0.0988 -0.0834\n",
       "-0.1427  0.2002 -0.1608  0.0700  0.1647\n",
       " 0.3107 -0.0764  0.0814 -0.2287 -0.0140\n",
       "-0.1847 -0.0252  0.2034  0.1547 -0.1080\n",
       "[torch.FloatTensor of size 10x15]"
      ]
     },
     "execution_count": 85,
     "metadata": {},
     "output_type": "execute_result"
    }
   ],
   "source": [
    "dim_corrected_model_2[(2)].weight"
   ]
  },
  {
   "cell_type": "code",
   "execution_count": 86,
   "metadata": {
    "collapsed": false
   },
   "outputs": [
    {
     "data": {
      "text/plain": [
       "Parameter containing:\n",
       "-0.2886 -0.1311 -0.1272 -0.2557 -0.2272  0.0053  0.1277  0.2429 -0.0273  0.2815\n",
       " 0.2314 -0.1721  0.0459  0.2412  0.1022  0.0369  0.2605 -0.0942  0.0888  0.0925\n",
       " 0.0102 -0.2919 -0.3677  0.1561  0.3868 -0.1208  0.3778 -0.0561 -0.2204  0.2825\n",
       "-0.2342 -0.1760 -0.0738  0.1702 -0.2796  0.1751 -0.1978  0.0471 -0.2005  0.2207\n",
       " 0.1102 -0.1740 -0.1675 -0.1374 -0.2874  0.1927  0.0646 -0.2170 -0.3065  0.0469\n",
       "-0.1428  0.4077  0.1743 -0.2958 -0.0413  0.2358  0.1539  0.0196 -0.2416 -0.2591\n",
       " 0.2308  0.5158  0.3145  0.1773 -0.3207 -0.2296  0.0865 -0.2235  0.1994  0.0278\n",
       "[torch.FloatTensor of size 7x10]"
      ]
     },
     "execution_count": 86,
     "metadata": {},
     "output_type": "execute_result"
    }
   ],
   "source": [
    "dim_corrected_model_2[(4)].weight"
   ]
  },
  {
   "cell_type": "code",
   "execution_count": 87,
   "metadata": {
    "collapsed": false
   },
   "outputs": [
    {
     "data": {
      "text/plain": [
       "Parameter containing:\n",
       " 0.1008  0.2331  0.4697 -0.3484  0.2890 -0.2824 -0.0113\n",
       "-0.2432  0.1356 -0.1282 -0.2876 -0.0212  0.2365 -0.3325\n",
       " 0.1583 -0.0945 -0.6325 -0.0286  0.0427  0.1286  0.6238\n",
       " 0.0840 -0.3045 -0.3053  0.0247  0.0041  0.2223  0.2088\n",
       " 0.2127 -0.3221 -0.1268  0.2467 -0.2898  0.2416 -0.2325\n",
       "[torch.FloatTensor of size 5x7]"
      ]
     },
     "execution_count": 87,
     "metadata": {},
     "output_type": "execute_result"
    }
   ],
   "source": [
    "dim_corrected_model_2[(6)].weight"
   ]
  },
  {
   "cell_type": "code",
   "execution_count": 88,
   "metadata": {
    "collapsed": false
   },
   "outputs": [
    {
     "data": {
      "text/plain": [
       "Parameter containing:\n",
       "-0.4696 -0.0621  1.0282 -0.0538 -0.3277\n",
       "[torch.FloatTensor of size 1x5]"
      ]
     },
     "execution_count": 88,
     "metadata": {},
     "output_type": "execute_result"
    }
   ],
   "source": [
    "dim_corrected_model_2[(8)].weight"
   ]
  },
  {
   "cell_type": "markdown",
   "metadata": {},
   "source": [
    "## Round 5: Five-Hidden-Layer Neural Network"
   ]
  },
  {
   "cell_type": "code",
   "execution_count": 89,
   "metadata": {
    "collapsed": true
   },
   "outputs": [],
   "source": [
    "# Make the torch Tensor into a PyTorch Variable for dependent variables\n",
    "outcomes_Variable = Variable(outcomes_Tensor)\n",
    "\n",
    "\n",
    "# ...for independent variables\n",
    "features_Variable = Variable(features_Tensor,\n",
    "                             requires_grad = False)"
   ]
  },
  {
   "cell_type": "code",
   "execution_count": 90,
   "metadata": {
    "collapsed": true
   },
   "outputs": [],
   "source": [
    "# Make the neural network\n",
    "model = torch.nn.Sequential(torch.nn.Linear(22, 15),\n",
    "                            torch.nn.ReLU(),\n",
    "                            torch.nn.Linear(15, 10),\n",
    "                            torch.nn.ReLU(),\n",
    "                            torch.nn.Linear(10, 7),\n",
    "                            torch.nn.ReLU(),\n",
    "                            torch.nn.Linear(7, 5),\n",
    "                            torch.nn.ReLU(),\n",
    "                            torch.nn.Linear(5, 3),\n",
    "                            torch.nn.ReLU(),\n",
    "                            torch.nn.Linear(3, 1))"
   ]
  },
  {
   "cell_type": "code",
   "execution_count": 91,
   "metadata": {
    "collapsed": true
   },
   "outputs": [],
   "source": [
    "# To add errors to\n",
    "errors = []\n",
    "\n",
    "\n",
    "# Set the learning rate\n",
    "learning_rate = 5e-6\n",
    "\n",
    "\n",
    "# Train the neural network\n",
    "for t in range(10000):\n",
    "    \n",
    "    # Get the current predictions\n",
    "    y_pred = model(features_Variable)\n",
    "    \n",
    "    # Compute and append current summed errors\n",
    "    loss = loss_fn(y_pred, outcomes_Variable)\n",
    "    errors.append(loss.data[0])\n",
    "    \n",
    "    # Zero the gradients before running the backward pass.\n",
    "    model.zero_grad()\n",
    "    \n",
    "    # Backward pass: compute gradient of the loss with respect to all the learnable Variables\n",
    "    loss.backward()\n",
    "    \n",
    "    # Update the weights using gradient descent\n",
    "    for param in model.parameters():\n",
    "        param.data -= learning_rate * param.grad.data"
   ]
  },
  {
   "cell_type": "code",
   "execution_count": 92,
   "metadata": {
    "collapsed": false
   },
   "outputs": [
    {
     "data": {
      "text/plain": [
       "<matplotlib.collections.PathCollection at 0x7f7e5409eb70>"
      ]
     },
     "execution_count": 92,
     "metadata": {},
     "output_type": "execute_result"
    },
    {
     "data": {
      "image/png": "[encoded data removed]",
      "text/plain": [
       "<matplotlib.figure.Figure at 0x7f7e558a7ef0>"
      ]
     },
     "metadata": {},
     "output_type": "display_data"
    }
   ],
   "source": [
    "# Plot summed error as a function of iteration\n",
    "plt.scatter(iterations, errors)"
   ]
  },
  {
   "cell_type": "code",
   "execution_count": 93,
   "metadata": {
    "collapsed": true
   },
   "outputs": [],
   "source": [
    "# Get rid of the 2nd dimension of 1 from the FloatTensor\n",
    "y_pred_resized = y_pred.resize(4675)\n",
    "\n",
    "\n",
    "# Make the FloatTensor into a numpy.array\n",
    "y_pred_array = y_pred_resized.data.numpy()\n",
    "\n",
    "\n",
    "# Make the numpy.array into a list\n",
    "y_pred_list = y_pred_array.tolist()"
   ]
  },
  {
   "cell_type": "code",
   "execution_count": 94,
   "metadata": {
    "collapsed": false
   },
   "outputs": [
    {
     "data": {
      "text/plain": [
       "[<matplotlib.lines.Line2D at 0x7f7e5402bf98>]"
      ]
     },
     "execution_count": 94,
     "metadata": {},
     "output_type": "execute_result"
    },
    {
     "data": {
      "image/png": "[encoded data removed]",
      "text/plain": [
       "<matplotlib.figure.Figure at 0x7f7e5ce2a1d0>"
      ]
     },
     "metadata": {},
     "output_type": "display_data"
    }
   ],
   "source": [
    "# Plot predictions versus training set outcomes\n",
    "plt.scatter(outcomes_list, y_pred_list)\n",
    "\n",
    "axes = plt.gca()\n",
    "\n",
    "axes.set_xlim([-2, 4])\n",
    "\n",
    "axes.set_ylim([-2, 4])\n",
    "\n",
    "plt.plot([-2, 4], [-2, 4], 'k-', lw=2)"
   ]
  },
  {
   "cell_type": "markdown",
   "metadata": {},
   "source": [
    "### Round 5.1: Validation Set Performance"
   ]
  },
  {
   "cell_type": "code",
   "execution_count": 95,
   "metadata": {
    "collapsed": true
   },
   "outputs": [],
   "source": [
    "# Have to make a new model and give it the train_model parameters to fix structure problem\n",
    "dim_corrected_model = torch.nn.Sequential(torch.nn.Linear(22, 15),\n",
    "                                          torch.nn.ReLU(),\n",
    "                                          torch.nn.Linear(15, 10),\n",
    "                                          torch.nn.ReLU(),\n",
    "                                          torch.nn.Linear(10, 7),\n",
    "                                          torch.nn.ReLU(),\n",
    "                                          torch.nn.Linear(7, 5),\n",
    "                                          torch.nn.ReLU(),\n",
    "                                          torch.nn.Linear(5, 3),\n",
    "                                          torch.nn.ReLU(),\n",
    "                                          torch.nn.Linear(3, 1))\n",
    "\n",
    "\n",
    "# Give the new model the old model's parameters\n",
    "dim_corrected_model[(0)].weight = model[(0)].weight\n",
    "dim_corrected_model[(2)].weight = model[(2)].weight\n",
    "dim_corrected_model[(4)].weight = model[(4)].weight\n",
    "dim_corrected_model[(6)].weight = model[(6)].weight\n",
    "dim_corrected_model[(8)].weight = model[(8)].weight\n",
    "dim_corrected_model[(10)].weight = model[(10)].weight"
   ]
  },
  {
   "cell_type": "code",
   "execution_count": 96,
   "metadata": {
    "collapsed": false
   },
   "outputs": [
    {
     "data": {
      "text/plain": [
       "Variable containing:\n",
       " 688.1057\n",
       "[torch.FloatTensor of size 1]"
      ]
     },
     "execution_count": 96,
     "metadata": {},
     "output_type": "execute_result"
    }
   ],
   "source": [
    "# Get the validation set predictions\n",
    "y_valid_pred = dim_corrected_model(valid_predictors_Variable)\n",
    "\n",
    "\n",
    "# Print the loss\n",
    "loss_fn(y_valid_pred,\n",
    "        valid_outcomes_Variable)"
   ]
  },
  {
   "cell_type": "code",
   "execution_count": 97,
   "metadata": {
    "collapsed": false
   },
   "outputs": [],
   "source": [
    "# Get rid of the 2nd dimension of 1 from the FloatTensor\n",
    "y_valid_pred_resized = y_valid_pred.resize(1604)\n",
    "\n",
    "\n",
    "# Make the FloatTensor into a numpy.array\n",
    "y_valid_pred_array = y_valid_pred_resized.data.numpy()\n",
    "\n",
    "\n",
    "# Make the numpy.array into a list\n",
    "y_valid_pred_list = y_valid_pred_array.tolist()"
   ]
  },
  {
   "cell_type": "code",
   "execution_count": 98,
   "metadata": {
    "collapsed": false
   },
   "outputs": [
    {
     "data": {
      "text/plain": [
       "[<matplotlib.lines.Line2D at 0x7f7e5578d898>]"
      ]
     },
     "execution_count": 98,
     "metadata": {},
     "output_type": "execute_result"
    },
    {
     "data": {
      "image/png": "[encoded data removed]",
      "text/plain": [
       "<matplotlib.figure.Figure at 0x7f7e5578dac8>"
      ]
     },
     "metadata": {},
     "output_type": "display_data"
    }
   ],
   "source": [
    "# Plot new predictions versus new data outcomes\n",
    "plt.scatter(valid_outcomes_list, y_valid_pred_list)\n",
    "\n",
    "axes = plt.gca()\n",
    "\n",
    "axes.set_xlim([-2, 4])\n",
    "\n",
    "axes.set_ylim([-2, 4])\n",
    "\n",
    "plt.plot([-2, 4], [-2, 4], 'k-', lw=2)"
   ]
  },
  {
   "cell_type": "markdown",
   "metadata": {},
   "source": [
    "### Round 5.2: Test Set Performance"
   ]
  },
  {
   "cell_type": "code",
   "execution_count": 99,
   "metadata": {
    "collapsed": true
   },
   "outputs": [],
   "source": [
    "# Have to make a new model and give it the train_model parameters to fix structure problem\n",
    "dim_corrected_model_2 = torch.nn.Sequential(torch.nn.Linear(22, 15),\n",
    "                                            torch.nn.ReLU(),\n",
    "                                            torch.nn.Linear(15, 10),\n",
    "                                            torch.nn.ReLU(),\n",
    "                                            torch.nn.Linear(10, 7),\n",
    "                                            torch.nn.ReLU(),\n",
    "                                            torch.nn.Linear(7, 5),\n",
    "                                            torch.nn.ReLU(),\n",
    "                                            torch.nn.Linear(5, 3),\n",
    "                                            torch.nn.ReLU(),\n",
    "                                            torch.nn.Linear(3, 1))\n",
    "\n",
    "\n",
    "# Give the new model the old model's parameters\n",
    "dim_corrected_model_2[(0)].weight = model[(0)].weight\n",
    "dim_corrected_model_2[(2)].weight = model[(2)].weight\n",
    "dim_corrected_model_2[(4)].weight = model[(4)].weight\n",
    "dim_corrected_model_2[(6)].weight = model[(6)].weight\n",
    "dim_corrected_model_2[(8)].weight = model[(8)].weight\n",
    "dim_corrected_model_2[(10)].weight = model[(10)].weight"
   ]
  },
  {
   "cell_type": "code",
   "execution_count": 100,
   "metadata": {
    "collapsed": false
   },
   "outputs": [
    {
     "data": {
      "text/plain": [
       "Variable containing:\n",
       " 758.6722\n",
       "[torch.FloatTensor of size 1]"
      ]
     },
     "execution_count": 100,
     "metadata": {},
     "output_type": "execute_result"
    }
   ],
   "source": [
    "# Get the validation set predictions\n",
    "y_test_pred = dim_corrected_model_2(test_predictors_Variable)\n",
    "\n",
    "\n",
    "# Print the loss\n",
    "loss_fn(y_test_pred,\n",
    "        test_outcomes_Variable)"
   ]
  },
  {
   "cell_type": "code",
   "execution_count": 101,
   "metadata": {
    "collapsed": true
   },
   "outputs": [],
   "source": [
    "# Get rid of the 2nd dimension of 1 from the FloatTensor\n",
    "y_test_pred_resized = y_test_pred.resize(1596)\n",
    "\n",
    "\n",
    "# Make the FloatTensor into a numpy.array\n",
    "y_test_pred_array = y_test_pred_resized.data.numpy()\n",
    "\n",
    "\n",
    "# Convert back to native units and scale\n",
    "y_test_pred_array = y_test_pred_array*5.735285 + 6.490682\n",
    "\n",
    "\n",
    "# Make the numpy.array into a list\n",
    "y_test_pred_list = y_test_pred_array.tolist()"
   ]
  },
  {
   "cell_type": "code",
   "execution_count": 102,
   "metadata": {
    "collapsed": false
   },
   "outputs": [
    {
     "data": {
      "text/plain": [
       "<matplotlib.text.Text at 0x7f7e4df23198>"
      ]
     },
     "execution_count": 102,
     "metadata": {},
     "output_type": "execute_result"
    },
    {
     "data": {
      "image/png": "[encoded data removed]",
      "text/plain": [
       "<matplotlib.figure.Figure at 0x7f7e4dffe400>"
      ]
     },
     "metadata": {},
     "output_type": "display_data"
    }
   ],
   "source": [
    "# Plot new predictions versus new data outcomes\n",
    "\n",
    "plt.scatter(test_outcomes_list, y_test_pred_list)\n",
    "\n",
    "axes = plt.gca()\n",
    "\n",
    "axes.set_xlim([2, 23])\n",
    "\n",
    "axes.set_ylim([2, 23])\n",
    "\n",
    "axes.set_xticks([2, 5, 8, 11, 14, 17, 20, 23])\n",
    "\n",
    "axes.set_yticks([2, 5, 8, 11, 14, 17, 20, 23])\n",
    "\n",
    "plt.plot([2, 23], [2, 23], 'k-', lw=2)\n",
    "\n",
    "axes.set_xlabel(\"Actual Outcome (Log-Transformed US Dollars)\")\n",
    "\n",
    "axes.set_ylabel(\"Model Prediction (Log-Transformed US Dollars)\")\n",
    "\n",
    "axes.set_title(\"Model Performance\")"
   ]
  },
  {
   "cell_type": "code",
   "execution_count": 103,
   "metadata": {
    "collapsed": false
   },
   "outputs": [
    {
     "data": {
      "text/plain": [
       "Parameter containing:\n",
       "\n",
       "Columns 0 to 9 \n",
       "-0.1703  0.0038 -0.0478  0.0807  0.1482 -0.1515 -0.0100  0.1387 -0.1435 -0.1383\n",
       "-0.1623 -0.0311 -0.1339 -0.0392 -0.1854  0.2291 -0.0565  0.0316 -0.1467 -0.0069\n",
       " 0.0281 -0.0770 -0.1971 -0.1805 -0.0264 -0.0058 -0.1353  0.0226 -0.0224  0.1196\n",
       " 0.1615  0.1832 -0.1897  0.1809 -0.1040 -0.0280  0.1342 -0.2082  0.0304  0.1849\n",
       "-0.1451 -0.0352 -0.1720 -0.1209 -0.0181  0.1167 -0.0031  0.1821  0.0771  0.1749\n",
       " 0.1114  0.1881  0.2295  0.1201  0.2051 -0.1017 -0.1446  0.0975 -0.0556 -0.1510\n",
       "-0.0702  0.0266  0.1345 -0.2041 -0.2242 -0.0471 -0.0506 -0.1134  0.0414  0.0225\n",
       "-0.1773  0.0579  0.1124 -0.0458 -0.0743 -0.0994  0.0814  0.2181  0.0492 -0.1136\n",
       " 0.0492 -0.0546 -0.0139  0.2685  0.3333 -0.0550 -0.0464  0.0677  0.1580  0.1134\n",
       "-0.0960  0.2288 -0.1846  0.0247  0.0696  0.1208  0.1467 -0.0947  0.1024 -0.1611\n",
       " 0.0618 -0.1221 -0.0879  0.1096 -0.3221 -0.0750  0.1585 -0.1844  0.0011 -0.1221\n",
       "-0.0066 -0.1894 -0.0813 -0.0732 -0.0356 -0.2537  0.0664 -0.1113 -0.0732  0.0191\n",
       "-0.0387 -0.0358  0.1600 -0.0550 -0.0664  0.0725 -0.0024 -0.0104 -0.0459  0.0135\n",
       " 0.2296 -0.1087  0.1659  0.1376  0.2635 -0.0920  0.1166 -0.1370  0.0574  0.0507\n",
       "-0.1044 -0.1691 -0.0577 -0.1881  0.0110 -0.0034 -0.1174 -0.1029 -0.1412  0.0699\n",
       "\n",
       "Columns 10 to 19 \n",
       "-0.1250  0.1987  0.0939  0.1947 -0.1068 -0.1876 -0.1408 -0.0560 -0.1098  0.1371\n",
       "-0.0379 -0.0903  0.0866  0.0777 -0.1257 -0.1153  0.2249 -0.0594  0.1040 -0.0961\n",
       "-0.2712 -0.1467 -0.0236 -0.2184 -0.1380  0.0371 -0.0822 -0.1469 -0.2364  0.1197\n",
       "-0.0337 -0.1705 -0.1875  0.0287  0.1895 -0.1701 -0.1424 -0.0717  0.1926  0.0635\n",
       "-0.0268 -0.1338 -0.1012 -0.0544  0.1668  0.0496  0.1572 -0.0460 -0.1127 -0.1445\n",
       "-0.0180  0.1318 -0.1128 -0.1457  0.0216 -0.1406  0.0964  0.0585  0.0913  0.1211\n",
       "-0.0492  0.0574 -0.0255  0.1815  0.1311 -0.0653 -0.1350 -0.1955  0.0434 -0.0431\n",
       " 0.0874  0.2049  0.0448  0.1428 -0.2460 -0.1194  0.0131  0.1969 -0.1212 -0.1538\n",
       " 0.1447  0.0743  0.1113 -0.0510 -0.1339 -0.0824 -0.1597  0.0559 -0.0118 -0.0111\n",
       " 0.2568 -0.1725 -0.0066  0.2463 -0.1851  0.0926  0.0229 -0.1271  0.0554 -0.1770\n",
       " 0.2390 -0.0012  0.0080 -0.0919  0.0791 -0.0708  0.0934  0.1046  0.1052  0.0138\n",
       " 0.0428 -0.0359 -0.0968 -0.0172 -0.1072 -0.1636 -0.0188  0.1829 -0.1868 -0.1331\n",
       " 0.1272  0.2544  0.1845  0.1349 -0.2293 -0.1728  0.1986 -0.1425  0.1666  0.0043\n",
       "-0.0063 -0.1493  0.0340  0.1205  0.1137  0.0138  0.1910  0.0071 -0.0919  0.0280\n",
       "-0.1623 -0.0129  0.1012  0.2305  0.0429 -0.1671 -0.1441  0.0345  0.0118  0.2230\n",
       "\n",
       "Columns 20 to 21 \n",
       "-0.0659  0.1443\n",
       " 0.1062  0.2162\n",
       "-0.0993 -0.0246\n",
       "-0.2094  0.0968\n",
       "-0.0872  0.0134\n",
       "-0.0689  0.1459\n",
       " 0.0280  0.0111\n",
       "-0.0686  0.2353\n",
       " 0.0406  0.0819\n",
       " 0.2136  0.0408\n",
       "-0.0497 -0.0156\n",
       " 0.0386 -0.1511\n",
       " 0.1657 -0.0869\n",
       " 0.0653  0.0329\n",
       " 0.2509 -0.0013\n",
       "[torch.FloatTensor of size 15x22]"
      ]
     },
     "execution_count": 103,
     "metadata": {},
     "output_type": "execute_result"
    }
   ],
   "source": [
    "dim_corrected_model_2[(0)].weight"
   ]
  },
  {
   "cell_type": "code",
   "execution_count": 104,
   "metadata": {
    "collapsed": false
   },
   "outputs": [
    {
     "data": {
      "text/plain": [
       "Parameter containing:\n",
       "\n",
       "Columns 0 to 9 \n",
       " 0.1117  0.2760 -0.0074  0.2404 -0.0051 -0.1953 -0.0914  0.1469 -0.0127 -0.0129\n",
       " 0.0665  0.2401  0.1331  0.2205 -0.0438 -0.1125  0.2078  0.1403  0.2866 -0.1455\n",
       " 0.1404 -0.0946 -0.1575  0.2093 -0.0003 -0.1658 -0.2230 -0.0388  0.3607  0.1137\n",
       " 0.1983  0.0178 -0.0681 -0.0248  0.1628  0.2239 -0.2374 -0.0061  0.0793  0.2247\n",
       " 0.0112 -0.1512  0.2198 -0.0715 -0.1271  0.1730 -0.2069  0.1933 -0.0568 -0.0884\n",
       " 0.0793  0.2971  0.2679 -0.0419 -0.0953  0.0617  0.0738  0.2263 -0.0231  0.1063\n",
       "-0.1437  0.1312  0.2189  0.1536  0.0922  0.0650 -0.1888  0.1550 -0.0351 -0.0433\n",
       "-0.1471 -0.1171  0.2311 -0.2805  0.1486 -0.2447 -0.1329  0.1697  0.0062 -0.0480\n",
       " 0.0303  0.0416 -0.1757 -0.1603  0.0107  0.3049 -0.0705 -0.0420  0.2185 -0.0000\n",
       "-0.0642  0.1437  0.2265 -0.2378  0.1568  0.2087 -0.1972  0.0133 -0.0232 -0.2229\n",
       "\n",
       "Columns 10 to 14 \n",
       " 0.1267 -0.2054 -0.1006  0.0488  0.2315\n",
       "-0.0865 -0.1465  0.1111  0.3260 -0.1883\n",
       "-0.1676  0.1795  0.0383  0.2629  0.0923\n",
       "-0.1467  0.0133 -0.0439  0.2285  0.0304\n",
       " 0.0873 -0.0377 -0.1538  0.0799  0.1490\n",
       " 0.0359  0.0741  0.2015 -0.0495  0.0816\n",
       " 0.0059 -0.1746  0.2192  0.1421 -0.1428\n",
       "-0.0305  0.2640  0.0673  0.1639 -0.0083\n",
       "-0.1020  0.1326 -0.0095  0.0611 -0.2441\n",
       "-0.1051 -0.0395 -0.2837 -0.2314  0.1846\n",
       "[torch.FloatTensor of size 10x15]"
      ]
     },
     "execution_count": 104,
     "metadata": {},
     "output_type": "execute_result"
    }
   ],
   "source": [
    "dim_corrected_model_2[(2)].weight"
   ]
  },
  {
   "cell_type": "code",
   "execution_count": 105,
   "metadata": {
    "collapsed": false
   },
   "outputs": [
    {
     "data": {
      "text/plain": [
       "Parameter containing:\n",
       " 0.0194 -0.1005 -0.1304  0.0449  0.1731  0.3620  0.2250  0.0701 -0.0153 -0.1270\n",
       "-0.0135 -0.1974  0.1429  0.0077 -0.2298  0.0444  0.0792 -0.2845 -0.2246 -0.2695\n",
       " 0.3152  0.2342 -0.3048 -0.1329  0.0080  0.2723  0.0700  0.3224  0.0235 -0.1137\n",
       "-0.0776 -0.2575 -0.0770 -0.2880 -0.2837 -0.0476  0.2837 -0.0927 -0.2887 -0.0813\n",
       " 0.0549  0.0099 -0.0174 -0.2104  0.2369  0.1343  0.0432  0.0934  0.1859  0.3004\n",
       "-0.2062  0.2906  0.3210  0.3804  0.1096 -0.0229 -0.2611 -0.1643  0.3451  0.0763\n",
       "-0.2081 -0.0660  0.0510  0.2499  0.2920 -0.1870  0.0374  0.0508  0.2112  0.2116\n",
       "[torch.FloatTensor of size 7x10]"
      ]
     },
     "execution_count": 105,
     "metadata": {},
     "output_type": "execute_result"
    }
   ],
   "source": [
    "dim_corrected_model_2[(4)].weight"
   ]
  },
  {
   "cell_type": "code",
   "execution_count": 106,
   "metadata": {
    "collapsed": false
   },
   "outputs": [
    {
     "data": {
      "text/plain": [
       "Parameter containing:\n",
       " 0.2891  0.1198 -0.2811 -0.3155 -0.3228  0.2146 -0.0733\n",
       "-0.0929 -0.2201 -0.2888 -0.3661 -0.2457 -0.2788  0.0217\n",
       " 0.0329  0.2599 -0.3540  0.3708 -0.0472 -0.1860  0.3706\n",
       "-0.2565 -0.2446 -0.2492  0.2550  0.2380 -0.0725  0.2898\n",
       "-0.5255 -0.2133 -0.4807 -0.0200 -0.3440  0.6578  0.2164\n",
       "[torch.FloatTensor of size 5x7]"
      ]
     },
     "execution_count": 106,
     "metadata": {},
     "output_type": "execute_result"
    }
   ],
   "source": [
    "dim_corrected_model_2[(6)].weight"
   ]
  },
  {
   "cell_type": "code",
   "execution_count": 107,
   "metadata": {
    "collapsed": false
   },
   "outputs": [
    {
     "data": {
      "text/plain": [
       "Parameter containing:\n",
       "-0.0846  0.3765 -0.1125  0.0833  0.0147\n",
       " 0.4592  0.3451 -0.0136 -0.0005  0.9385\n",
       " 0.0841 -0.2200 -0.3828 -0.1203 -0.1746\n",
       "[torch.FloatTensor of size 3x5]"
      ]
     },
     "execution_count": 107,
     "metadata": {},
     "output_type": "execute_result"
    }
   ],
   "source": [
    "dim_corrected_model_2[(8)].weight"
   ]
  },
  {
   "cell_type": "code",
   "execution_count": 108,
   "metadata": {
    "collapsed": false
   },
   "outputs": [
    {
     "data": {
      "text/plain": [
       "Parameter containing:\n",
       "-0.3150  0.9783 -0.2490\n",
       "[torch.FloatTensor of size 1x3]"
      ]
     },
     "execution_count": 108,
     "metadata": {},
     "output_type": "execute_result"
    }
   ],
   "source": [
    "dim_corrected_model_2[(10)].weight"
   ]
  },
  {
   "cell_type": "markdown",
   "metadata": {},
   "source": [
    "## Round 6: Six-Hidden-Layer Neural Network"
   ]
  },
  {
   "cell_type": "code",
   "execution_count": 109,
   "metadata": {
    "collapsed": true
   },
   "outputs": [],
   "source": [
    "# Make the torch Tensor into a PyTorch Variable for dependent variables\n",
    "outcomes_Variable = Variable(outcomes_Tensor)\n",
    "\n",
    "\n",
    "# ...for independent variables\n",
    "features_Variable = Variable(features_Tensor,\n",
    "                             requires_grad = False)"
   ]
  },
  {
   "cell_type": "code",
   "execution_count": 110,
   "metadata": {
    "collapsed": true
   },
   "outputs": [],
   "source": [
    "# Make the neural network\n",
    "model = torch.nn.Sequential(torch.nn.Linear(22, 15),\n",
    "                            torch.nn.ReLU(),\n",
    "                            torch.nn.Linear(15, 10),\n",
    "                            torch.nn.ReLU(),\n",
    "                            torch.nn.Linear(10, 7),\n",
    "                            torch.nn.ReLU(),\n",
    "                            torch.nn.Linear(7, 5),\n",
    "                            torch.nn.ReLU(),\n",
    "                            torch.nn.Linear(5, 3),\n",
    "                            torch.nn.ReLU(),\n",
    "                            torch.nn.Linear(3, 2),\n",
    "                            torch.nn.ReLU(),\n",
    "                            torch.nn.Linear(2, 1))"
   ]
  },
  {
   "cell_type": "code",
   "execution_count": 111,
   "metadata": {
    "collapsed": true
   },
   "outputs": [],
   "source": [
    "# To add errors to\n",
    "errors = []\n",
    "\n",
    "\n",
    "# Set the learning rate\n",
    "learning_rate = 5e-6\n",
    "\n",
    "\n",
    "# Train the neural network\n",
    "for t in range(10000):\n",
    "    \n",
    "    # Get the current predictions\n",
    "    y_pred = model(features_Variable)\n",
    "    \n",
    "    # Compute and append current summed errors\n",
    "    loss = loss_fn(y_pred, outcomes_Variable)\n",
    "    errors.append(loss.data[0])\n",
    "    \n",
    "    # Zero the gradients before running the backward pass.\n",
    "    model.zero_grad()\n",
    "    \n",
    "    # Backward pass: compute gradient of the loss with respect to all the learnable Variables\n",
    "    loss.backward()\n",
    "    \n",
    "    # Update the weights using gradient descent\n",
    "    for param in model.parameters():\n",
    "        param.data -= learning_rate * param.grad.data"
   ]
  },
  {
   "cell_type": "code",
   "execution_count": 112,
   "metadata": {
    "collapsed": false
   },
   "outputs": [
    {
     "data": {
      "text/plain": [
       "<matplotlib.collections.PathCollection at 0x7f7e4de65da0>"
      ]
     },
     "execution_count": 112,
     "metadata": {},
     "output_type": "execute_result"
    },
    {
     "data": {
      "image/png": "[encoded data removed]",
      "text/plain": [
       "<matplotlib.figure.Figure at 0x7f7e5565e4a8>"
      ]
     },
     "metadata": {},
     "output_type": "display_data"
    }
   ],
   "source": [
    "# Plot summed error as a function of iteration\n",
    "plt.scatter(iterations, errors)"
   ]
  },
  {
   "cell_type": "code",
   "execution_count": 113,
   "metadata": {
    "collapsed": true
   },
   "outputs": [],
   "source": [
    "# Get rid of the 2nd dimension of 1 from the FloatTensor\n",
    "y_pred_resized = y_pred.resize(4675)\n",
    "\n",
    "\n",
    "# Make the FloatTensor into a numpy.array\n",
    "y_pred_array = y_pred_resized.data.numpy()\n",
    "\n",
    "\n",
    "# Make the numpy.array into a list\n",
    "y_pred_list = y_pred_array.tolist()"
   ]
  },
  {
   "cell_type": "code",
   "execution_count": 114,
   "metadata": {
    "collapsed": false
   },
   "outputs": [
    {
     "data": {
      "text/plain": [
       "[<matplotlib.lines.Line2D at 0x7f7e540ef390>]"
      ]
     },
     "execution_count": 114,
     "metadata": {},
     "output_type": "execute_result"
    },
    {
     "data": {
      "image/png": "[encoded data removed]",
      "text/plain": [
       "<matplotlib.figure.Figure at 0x7f7e540ef470>"
      ]
     },
     "metadata": {},
     "output_type": "display_data"
    }
   ],
   "source": [
    "# Plot predictions versus training set outcomes\n",
    "plt.scatter(outcomes_list, y_pred_list)\n",
    "\n",
    "axes = plt.gca()\n",
    "\n",
    "axes.set_xlim([-2, 4])\n",
    "\n",
    "axes.set_ylim([-2, 4])\n",
    "\n",
    "plt.plot([-2, 4], [-2, 4], 'k-', lw=2)"
   ]
  },
  {
   "cell_type": "markdown",
   "metadata": {},
   "source": [
    "### Round 6.1: Validation Set Performance"
   ]
  },
  {
   "cell_type": "code",
   "execution_count": 115,
   "metadata": {
    "collapsed": true
   },
   "outputs": [],
   "source": [
    "# Have to make a new model and give it the train_model parameters to fix structure problem\n",
    "dim_corrected_model = torch.nn.Sequential(torch.nn.Linear(22, 15),\n",
    "                                          torch.nn.ReLU(),\n",
    "                                          torch.nn.Linear(15, 10),\n",
    "                                          torch.nn.ReLU(),\n",
    "                                          torch.nn.Linear(10, 7),\n",
    "                                          torch.nn.ReLU(),\n",
    "                                          torch.nn.Linear(7, 5),\n",
    "                                          torch.nn.ReLU(),\n",
    "                                          torch.nn.Linear(5, 3),\n",
    "                                          torch.nn.ReLU(),\n",
    "                                          torch.nn.Linear(3, 2),\n",
    "                                          torch.nn.ReLU(),\n",
    "                                          torch.nn.Linear(2, 1))\n",
    "\n",
    "\n",
    "# Give the new model the old model's parameters\n",
    "dim_corrected_model[(0)].weight = model[(0)].weight\n",
    "dim_corrected_model[(2)].weight = model[(2)].weight\n",
    "dim_corrected_model[(4)].weight = model[(4)].weight\n",
    "dim_corrected_model[(6)].weight = model[(6)].weight\n",
    "dim_corrected_model[(8)].weight = model[(8)].weight\n",
    "dim_corrected_model[(10)].weight = model[(10)].weight\n",
    "dim_corrected_model[(12)].weight = model[(12)].weight"
   ]
  },
  {
   "cell_type": "code",
   "execution_count": 116,
   "metadata": {
    "collapsed": false
   },
   "outputs": [
    {
     "data": {
      "text/plain": [
       "Variable containing:\n",
       " 2849.0059\n",
       "[torch.FloatTensor of size 1]"
      ]
     },
     "execution_count": 116,
     "metadata": {},
     "output_type": "execute_result"
    }
   ],
   "source": [
    "# Get the validation set predictions\n",
    "y_valid_pred = dim_corrected_model(valid_predictors_Variable)\n",
    "\n",
    "\n",
    "# Print the loss\n",
    "loss_fn(y_valid_pred,\n",
    "        valid_outcomes_Variable)"
   ]
  },
  {
   "cell_type": "code",
   "execution_count": 117,
   "metadata": {
    "collapsed": true
   },
   "outputs": [],
   "source": [
    "# Get rid of the 2nd dimension of 1 from the FloatTensor\n",
    "y_valid_pred_resized = y_valid_pred.resize(1604)\n",
    "\n",
    "\n",
    "# Make the FloatTensor into a numpy.array\n",
    "y_valid_pred_array = y_valid_pred_resized.data.numpy()\n",
    "\n",
    "\n",
    "# Make the numpy.array into a list\n",
    "y_valid_pred_list = y_valid_pred_array.tolist()"
   ]
  },
  {
   "cell_type": "code",
   "execution_count": 118,
   "metadata": {
    "collapsed": false
   },
   "outputs": [
    {
     "data": {
      "text/plain": [
       "[<matplotlib.lines.Line2D at 0x7f7e4dec2358>]"
      ]
     },
     "execution_count": 118,
     "metadata": {},
     "output_type": "execute_result"
    },
    {
     "data": {
      "image/png": "[encoded data removed]",
      "text/plain": [
       "<matplotlib.figure.Figure at 0x7f7e4dec24e0>"
      ]
     },
     "metadata": {},
     "output_type": "display_data"
    }
   ],
   "source": [
    "# Plot new predictions versus new data outcomes\n",
    "plt.scatter(valid_outcomes_list, y_valid_pred_list)\n",
    "\n",
    "axes = plt.gca()\n",
    "\n",
    "axes.set_xlim([-2, 4])\n",
    "\n",
    "axes.set_ylim([-2, 4])\n",
    "\n",
    "plt.plot([-2, 4], [-2, 4], 'k-', lw=2)"
   ]
  },
  {
   "cell_type": "markdown",
   "metadata": {},
   "source": [
    "### Round 6.2: Test Set Performance"
   ]
  },
  {
   "cell_type": "code",
   "execution_count": 119,
   "metadata": {
    "collapsed": true
   },
   "outputs": [],
   "source": [
    "# Have to make a new model and give it the train_model parameters to fix structure problem\n",
    "dim_corrected_model_2 = torch.nn.Sequential(torch.nn.Linear(22, 15),\n",
    "                                            torch.nn.ReLU(),\n",
    "                                            torch.nn.Linear(15, 10),\n",
    "                                            torch.nn.ReLU(),\n",
    "                                            torch.nn.Linear(10, 7),\n",
    "                                            torch.nn.ReLU(),\n",
    "                                            torch.nn.Linear(7, 5),\n",
    "                                            torch.nn.ReLU(),\n",
    "                                            torch.nn.Linear(5, 3),\n",
    "                                            torch.nn.ReLU(),\n",
    "                                            torch.nn.Linear(3, 2),\n",
    "                                            torch.nn.ReLU(),\n",
    "                                            torch.nn.Linear(2, 1))\n",
    "\n",
    "\n",
    "# Give the new model the old model's parameters\n",
    "dim_corrected_model_2[(0)].weight = model[(0)].weight\n",
    "dim_corrected_model_2[(2)].weight = model[(2)].weight\n",
    "dim_corrected_model_2[(4)].weight = model[(4)].weight\n",
    "dim_corrected_model_2[(6)].weight = model[(6)].weight\n",
    "dim_corrected_model_2[(8)].weight = model[(8)].weight\n",
    "dim_corrected_model_2[(10)].weight = model[(10)].weight\n",
    "dim_corrected_model_2[(12)].weight = model[(12)].weight"
   ]
  },
  {
   "cell_type": "code",
   "execution_count": 120,
   "metadata": {
    "collapsed": false
   },
   "outputs": [
    {
     "data": {
      "text/plain": [
       "Variable containing:\n",
       " 300.9489\n",
       "[torch.FloatTensor of size 1]"
      ]
     },
     "execution_count": 120,
     "metadata": {},
     "output_type": "execute_result"
    }
   ],
   "source": [
    "# Get the validation set predictions\n",
    "y_test_pred = dim_corrected_model_2(test_predictors_Variable)\n",
    "\n",
    "\n",
    "# Print the loss\n",
    "loss_fn(y_test_pred,\n",
    "        test_outcomes_Variable)"
   ]
  },
  {
   "cell_type": "code",
   "execution_count": 121,
   "metadata": {
    "collapsed": true
   },
   "outputs": [],
   "source": [
    "# Get rid of the 2nd dimension of 1 from the FloatTensor\n",
    "y_test_pred_resized = y_test_pred.resize(1596)\n",
    "\n",
    "\n",
    "# Make the FloatTensor into a numpy.array\n",
    "y_test_pred_array = y_test_pred_resized.data.numpy()\n",
    "\n",
    "\n",
    "# Convert back to native units and scale\n",
    "y_test_pred_array = y_test_pred_array*5.735285 + 6.490682\n",
    "\n",
    "\n",
    "# Make the numpy.array into a list\n",
    "y_test_pred_list = y_test_pred_array.tolist()"
   ]
  },
  {
   "cell_type": "code",
   "execution_count": 122,
   "metadata": {
    "collapsed": false
   },
   "outputs": [
    {
     "data": {
      "text/plain": [
       "<matplotlib.text.Text at 0x7f7e4dce81d0>"
      ]
     },
     "execution_count": 122,
     "metadata": {},
     "output_type": "execute_result"
    },
    {
     "data": {
      "image/png": "[encoded data removed]",
      "text/plain": [
       "<matplotlib.figure.Figure at 0x7f7e4ddb83c8>"
      ]
     },
     "metadata": {},
     "output_type": "display_data"
    }
   ],
   "source": [
    "# Plot new predictions versus new data outcomes\n",
    "\n",
    "plt.scatter(test_outcomes_list, y_test_pred_list)\n",
    "\n",
    "axes = plt.gca()\n",
    "\n",
    "axes.set_xlim([2, 23])\n",
    "\n",
    "axes.set_ylim([2, 23])\n",
    "\n",
    "axes.set_xticks([2, 5, 8, 11, 14, 17, 20, 23])\n",
    "\n",
    "axes.set_yticks([2, 5, 8, 11, 14, 17, 20, 23])\n",
    "\n",
    "plt.plot([2, 23], [2, 23], 'k-', lw=2)\n",
    "\n",
    "axes.set_xlabel(\"Actual Outcome (Log-Transformed US Dollars)\")\n",
    "\n",
    "axes.set_ylabel(\"Model Prediction (Log-Transformed US Dollars)\")\n",
    "\n",
    "axes.set_title(\"Model Performance\")"
   ]
  },
  {
   "cell_type": "code",
   "execution_count": 123,
   "metadata": {
    "collapsed": false
   },
   "outputs": [
    {
     "data": {
      "text/plain": [
       "Parameter containing:\n",
       "\n",
       "Columns 0 to 9 \n",
       "-0.1713 -0.0114  0.1713 -0.0036  0.1858 -0.1683 -0.0842  0.0284  0.1333  0.1910\n",
       "-0.0011 -0.0662 -0.0846 -0.2039  0.0959  0.1600 -0.1200  0.0584 -0.2035  0.0235\n",
       " 0.1868  0.2046  0.1803 -0.0708  0.0591  0.1234  0.1787 -0.1311 -0.1002 -0.1736\n",
       " 0.0381 -0.0174 -0.1188  0.0210  0.0351 -0.0967 -0.0167 -0.0124 -0.1004  0.0548\n",
       "-0.0231  0.0527  0.1907 -0.0393  0.1149 -0.1935  0.0601 -0.1465  0.2048 -0.0075\n",
       " 0.0477  0.1782 -0.2080  0.0149 -0.0237  0.1486 -0.0036  0.1253  0.1707  0.1530\n",
       "-0.0116 -0.2069  0.1525  0.0406  0.0243  0.0542 -0.1160  0.1883 -0.2081  0.0138\n",
       " 0.0210 -0.0034 -0.1769  0.1104  0.1448  0.0897 -0.1553  0.0183 -0.1884 -0.1530\n",
       "-0.1406 -0.1614  0.0458 -0.0483  0.0727 -0.0605 -0.1928  0.0980  0.1535 -0.1162\n",
       " 0.0300 -0.0542  0.0242  0.0852 -0.1460  0.1499 -0.0542 -0.2044  0.1524 -0.1896\n",
       "-0.1507 -0.0546  0.0716 -0.0847 -0.0045  0.1024  0.1717 -0.1504  0.0348 -0.0921\n",
       " 0.1083  0.0743 -0.0556  0.2018 -0.1919  0.2081 -0.1623  0.0532  0.0332  0.2109\n",
       " 0.0867  0.1746  0.1388  0.1918 -0.1497  0.1751  0.0887 -0.1648 -0.1579 -0.1614\n",
       "-0.1634  0.1304 -0.1803 -0.0480  0.0957 -0.1383  0.1898 -0.0895  0.0808  0.1996\n",
       " 0.0179  0.0570  0.0744  0.1210 -0.0533 -0.1389  0.0493 -0.2080  0.0423  0.0763\n",
       "\n",
       "Columns 10 to 19 \n",
       " 0.0129  0.1942 -0.1007 -0.1643  0.1476  0.1870  0.1900 -0.0493  0.0112 -0.1273\n",
       "-0.0548  0.0629  0.1359  0.0216  0.0959 -0.1212 -0.0802 -0.1201 -0.0650 -0.1200\n",
       " 0.1902  0.0860 -0.0425  0.1629  0.0843 -0.0135 -0.1544  0.0550 -0.0382  0.2003\n",
       " 0.1881 -0.0562 -0.2008  0.0841  0.2129 -0.0080 -0.1908  0.0303  0.1873 -0.1609\n",
       " 0.1265 -0.0169 -0.0481 -0.0610 -0.1710  0.0484  0.0666  0.0390  0.0868 -0.0690\n",
       "-0.0855  0.1970  0.0664 -0.1237 -0.0062 -0.1041 -0.0160 -0.1495 -0.0350  0.1135\n",
       "-0.0297 -0.2021  0.1278 -0.1740  0.0899 -0.0656  0.1634  0.1505  0.1906  0.1599\n",
       " 0.0087 -0.0151 -0.1010 -0.1999 -0.1234  0.1716 -0.1707 -0.0544 -0.0105  0.1775\n",
       " 0.0995 -0.1215  0.1163  0.0101 -0.1481  0.1383  0.0231 -0.1315  0.1370 -0.0550\n",
       "-0.0385  0.2032  0.0831 -0.0041  0.0317 -0.0758 -0.1137 -0.1952 -0.0519  0.1055\n",
       "-0.1658  0.0193 -0.1956 -0.0369  0.0233  0.2028 -0.0117 -0.0260  0.0180  0.0652\n",
       " 0.0289  0.1923  0.1385 -0.0470 -0.0880  0.1393  0.2012 -0.0381 -0.1621 -0.0550\n",
       "-0.0321  0.0671  0.0721 -0.0473  0.0972  0.1931 -0.0574  0.1973 -0.1356 -0.0048\n",
       "-0.0664  0.0684  0.1604 -0.1962 -0.0149  0.1913 -0.1973 -0.0128  0.0294  0.1001\n",
       " 0.1491 -0.2024 -0.1285  0.0032  0.0296 -0.0814  0.0389 -0.0588  0.0146 -0.1462\n",
       "\n",
       "Columns 20 to 21 \n",
       "-0.0395  0.1144\n",
       " 0.1966 -0.0775\n",
       "-0.0549 -0.0229\n",
       " 0.1211  0.0486\n",
       "-0.0717  0.2118\n",
       "-0.0213  0.1373\n",
       "-0.1894 -0.0454\n",
       " 0.1530  0.0394\n",
       "-0.1309  0.0292\n",
       " 0.0596  0.1182\n",
       "-0.0159 -0.1523\n",
       " 0.0511 -0.1776\n",
       "-0.0308 -0.0509\n",
       " 0.0881  0.1250\n",
       " 0.1121  0.0329\n",
       "[torch.FloatTensor of size 15x22]"
      ]
     },
     "execution_count": 123,
     "metadata": {},
     "output_type": "execute_result"
    }
   ],
   "source": [
    "dim_corrected_model_2[(0)].weight"
   ]
  },
  {
   "cell_type": "code",
   "execution_count": 124,
   "metadata": {
    "collapsed": false
   },
   "outputs": [
    {
     "data": {
      "text/plain": [
       "Parameter containing:\n",
       "\n",
       "Columns 0 to 9 \n",
       " 0.1804 -0.2147  0.1973  0.1236 -0.1277  0.0747 -0.1578  0.1926 -0.2523  0.0668\n",
       "-0.0467  0.1187 -0.1176 -0.2126 -0.0823  0.2038  0.2070 -0.1727  0.1748 -0.1176\n",
       " 0.2421 -0.0163  0.2119 -0.0519 -0.1761  0.1175 -0.1328  0.0578  0.1833 -0.0812\n",
       "-0.0357  0.1480 -0.2343  0.0471  0.0301 -0.1454  0.0761 -0.2401  0.0307 -0.2257\n",
       "-0.0640 -0.1029 -0.1253  0.1552  0.2500  0.1719  0.0685 -0.2038  0.0316  0.1634\n",
       " 0.2341  0.2277 -0.0080  0.1939  0.1838  0.1092  0.1487  0.1507  0.0005 -0.2305\n",
       " 0.1343 -0.0608  0.0809 -0.1088 -0.1768 -0.2225  0.0283  0.1121 -0.0338 -0.1600\n",
       " 0.0978 -0.0156 -0.1918  0.1585  0.0366  0.0229 -0.0669 -0.0155 -0.0998  0.0538\n",
       "-0.1170 -0.0939 -0.1066  0.1042  0.1916 -0.0239 -0.0114 -0.1252 -0.2390 -0.2406\n",
       "-0.1973 -0.0610 -0.1369  0.0808 -0.2488  0.1221 -0.2536 -0.1440  0.1655 -0.2034\n",
       "\n",
       "Columns 10 to 14 \n",
       "-0.0485 -0.1745 -0.1649 -0.2183  0.0776\n",
       " 0.0246  0.2560 -0.1021 -0.0279  0.1498\n",
       " 0.1200 -0.0411 -0.1056 -0.0179  0.2404\n",
       "-0.2480  0.2271  0.1361  0.2565 -0.1926\n",
       " 0.0089 -0.2491 -0.1265 -0.0889 -0.1503\n",
       "-0.0156  0.1423  0.2564  0.1608  0.2488\n",
       " 0.0995 -0.0243  0.1825 -0.1079  0.1498\n",
       " 0.0697 -0.0143  0.0312 -0.0302 -0.1999\n",
       " 0.2154  0.1034  0.2261 -0.0521 -0.0647\n",
       "-0.1150 -0.1226  0.1678  0.1567  0.1576\n",
       "[torch.FloatTensor of size 10x15]"
      ]
     },
     "execution_count": 124,
     "metadata": {},
     "output_type": "execute_result"
    }
   ],
   "source": [
    "dim_corrected_model_2[(2)].weight"
   ]
  },
  {
   "cell_type": "code",
   "execution_count": 125,
   "metadata": {
    "collapsed": false
   },
   "outputs": [
    {
     "data": {
      "text/plain": [
       "Parameter containing:\n",
       "-0.0889  0.0380  0.2807  0.2560  0.1108  0.2441  0.0399 -0.2572  0.3023  0.1655\n",
       "-0.2357  0.0763  0.1021  0.3080 -0.0420  0.0312 -0.1024  0.1436  0.1395  0.2075\n",
       " 0.1602  0.2793  0.0706  0.0491 -0.0989  0.0795 -0.1787 -0.0243 -0.1446  0.0422\n",
       "-0.0078  0.0763 -0.1025  0.2587  0.0550  0.1795  0.0303  0.0531 -0.1652  0.0095\n",
       "-0.0061 -0.1786 -0.1832 -0.0621  0.0599 -0.0362 -0.2965  0.2424  0.1211  0.0412\n",
       " 0.0611  0.2250  0.1668 -0.1830  0.0359  0.1678  0.2468 -0.0827 -0.0534 -0.2458\n",
       "-0.2233 -0.1333  0.1709 -0.1892 -0.1631 -0.2541  0.0312  0.1297 -0.2207  0.0387\n",
       "[torch.FloatTensor of size 7x10]"
      ]
     },
     "execution_count": 125,
     "metadata": {},
     "output_type": "execute_result"
    }
   ],
   "source": [
    "dim_corrected_model_2[(4)].weight"
   ]
  },
  {
   "cell_type": "code",
   "execution_count": 126,
   "metadata": {
    "collapsed": false
   },
   "outputs": [
    {
     "data": {
      "text/plain": [
       "Parameter containing:\n",
       " 0.2412 -0.3687 -0.2278  0.1178  0.0516  0.2866  0.0355\n",
       "-0.0163 -0.0366  0.2049  0.2380 -0.2607 -0.1321  0.1653\n",
       "-0.3546  0.0103 -0.1821 -0.1328 -0.2194  0.1063  0.1899\n",
       " 0.0974 -0.0299  0.3661  0.2757 -0.0964 -0.0660  0.0078\n",
       " 0.1790  0.3274  0.3622  0.3329  0.2754 -0.0061  0.2455\n",
       "[torch.FloatTensor of size 5x7]"
      ]
     },
     "execution_count": 126,
     "metadata": {},
     "output_type": "execute_result"
    }
   ],
   "source": [
    "dim_corrected_model_2[(6)].weight"
   ]
  },
  {
   "cell_type": "code",
   "execution_count": 127,
   "metadata": {
    "collapsed": false
   },
   "outputs": [
    {
     "data": {
      "text/plain": [
       "Parameter containing:\n",
       "-0.2618  0.2893  0.1199 -0.2923  0.4348\n",
       "-0.1527  0.1731  0.3687  0.2910  0.1117\n",
       " 0.2001 -0.1514 -0.4196  0.0309 -0.1246\n",
       "[torch.FloatTensor of size 3x5]"
      ]
     },
     "execution_count": 127,
     "metadata": {},
     "output_type": "execute_result"
    }
   ],
   "source": [
    "dim_corrected_model_2[(8)].weight"
   ]
  },
  {
   "cell_type": "code",
   "execution_count": 128,
   "metadata": {
    "collapsed": false
   },
   "outputs": [
    {
     "data": {
      "text/plain": [
       "Parameter containing:\n",
       "-0.3889  0.4320 -0.2892\n",
       " 0.5061  0.5631  0.2433\n",
       "[torch.FloatTensor of size 2x3]"
      ]
     },
     "execution_count": 128,
     "metadata": {},
     "output_type": "execute_result"
    }
   ],
   "source": [
    "dim_corrected_model_2[(10)].weight"
   ]
  },
  {
   "cell_type": "code",
   "execution_count": 129,
   "metadata": {
    "collapsed": false
   },
   "outputs": [
    {
     "data": {
      "text/plain": [
       "Parameter containing:\n",
       "-0.3026  0.4910\n",
       "[torch.FloatTensor of size 1x2]"
      ]
     },
     "execution_count": 129,
     "metadata": {},
     "output_type": "execute_result"
    }
   ],
   "source": [
    "dim_corrected_model_2[(12)].weight"
   ]
  },
  {
   "cell_type": "markdown",
   "metadata": {},
   "source": [
    "## Round 7: Linear Regression"
   ]
  },
  {
   "cell_type": "code",
   "execution_count": 130,
   "metadata": {
    "collapsed": true
   },
   "outputs": [],
   "source": [
    "# Make the torch Tensor into a PyTorch Variable for dependent variables\n",
    "outcomes_Variable = Variable(outcomes_Tensor)\n",
    "\n",
    "\n",
    "# ...for independent variables\n",
    "features_Variable = Variable(features_Tensor,\n",
    "                             requires_grad = False)"
   ]
  },
  {
   "cell_type": "code",
   "execution_count": 131,
   "metadata": {
    "collapsed": true
   },
   "outputs": [],
   "source": [
    "# Make the neural network - really a regression\n",
    "model = torch.nn.Sequential(torch.nn.Linear(22, 1))"
   ]
  },
  {
   "cell_type": "code",
   "execution_count": 132,
   "metadata": {
    "collapsed": false
   },
   "outputs": [],
   "source": [
    "# To add errors to\n",
    "errors = []\n",
    "\n",
    "\n",
    "# Set the learning rate\n",
    "learning_rate = 4e-6\n",
    "\n",
    "\n",
    "# Train the neural network\n",
    "for t in range(10000):\n",
    "    \n",
    "    # Get the current predictions\n",
    "    y_pred = model(features_Variable)\n",
    "    \n",
    "    # Compute and append current summed errors\n",
    "    loss = loss_fn(y_pred, outcomes_Variable)\n",
    "    errors.append(loss.data[0])\n",
    "    \n",
    "    # Zero the gradients before running the backward pass.\n",
    "    model.zero_grad()\n",
    "    \n",
    "    # Backward pass: compute gradient of the loss with respect to all the learnable Variables\n",
    "    loss.backward()\n",
    "    \n",
    "    # Update the weights using gradient descent\n",
    "    for param in model.parameters():\n",
    "        param.data -= learning_rate * param.grad.data"
   ]
  },
  {
   "cell_type": "code",
   "execution_count": 133,
   "metadata": {
    "collapsed": false
   },
   "outputs": [
    {
     "data": {
      "text/plain": [
       "<matplotlib.collections.PathCollection at 0x7f7e4dc21d68>"
      ]
     },
     "execution_count": 133,
     "metadata": {},
     "output_type": "execute_result"
    },
    {
     "data": {
      "image/png": "[encoded data removed]",
      "text/plain": [
       "<matplotlib.figure.Figure at 0x7f7e4dca2550>"
      ]
     },
     "metadata": {},
     "output_type": "display_data"
    }
   ],
   "source": [
    "# Plot summed error as a function of iteration\n",
    "plt.scatter(iterations, errors)"
   ]
  },
  {
   "cell_type": "code",
   "execution_count": 134,
   "metadata": {
    "collapsed": false
   },
   "outputs": [],
   "source": [
    "# Get rid of the 2nd dimension of 1 from the FloatTensor\n",
    "y_pred_resized = y_pred.resize(4675)\n",
    "\n",
    "\n",
    "# Make the FloatTensor into a numpy.array\n",
    "y_pred_array = y_pred_resized.data.numpy()\n",
    "\n",
    "\n",
    "# Make the numpy.array into a list\n",
    "y_pred_list = y_pred_array.tolist()"
   ]
  },
  {
   "cell_type": "code",
   "execution_count": 135,
   "metadata": {
    "collapsed": false
   },
   "outputs": [
    {
     "data": {
      "text/plain": [
       "[<matplotlib.lines.Line2D at 0x7f7e4dc98eb8>]"
      ]
     },
     "execution_count": 135,
     "metadata": {},
     "output_type": "execute_result"
    },
    {
     "data": {
      "image/png": "[encoded data removed]",
      "text/plain": [
       "<matplotlib.figure.Figure at 0x7f7e4df00748>"
      ]
     },
     "metadata": {},
     "output_type": "display_data"
    }
   ],
   "source": [
    "# Plot predictions versus training set outcomes\n",
    "plt.scatter(outcomes_list, y_pred_list)\n",
    "\n",
    "axes = plt.gca()\n",
    "\n",
    "axes.set_xlim([-2, 4])\n",
    "\n",
    "axes.set_ylim([-2, 4])\n",
    "\n",
    "plt.plot([-2, 4], [-2, 4], 'k-', lw=2)"
   ]
  },
  {
   "cell_type": "markdown",
   "metadata": {
    "collapsed": false
   },
   "source": [
    "### Round 7.1: Validation Set Performance"
   ]
  },
  {
   "cell_type": "code",
   "execution_count": 136,
   "metadata": {
    "collapsed": false
   },
   "outputs": [],
   "source": [
    "# Have to make a new model and give it the train_model parameters to fix structure problem\n",
    "dim_corrected_model = torch.nn.Sequential(torch.nn.Linear(22, 1))\n",
    "\n",
    "\n",
    "# Give the new model the old model's parameters\n",
    "dim_corrected_model[(0)].weight = model[(0)].weight"
   ]
  },
  {
   "cell_type": "code",
   "execution_count": 137,
   "metadata": {
    "collapsed": false
   },
   "outputs": [
    {
     "data": {
      "text/plain": [
       "Variable containing:\n",
       " 871.7584\n",
       "[torch.FloatTensor of size 1]"
      ]
     },
     "execution_count": 137,
     "metadata": {},
     "output_type": "execute_result"
    }
   ],
   "source": [
    "# Get the validation set predictions\n",
    "y_valid_pred = dim_corrected_model(valid_predictors_Variable)\n",
    "\n",
    "\n",
    "# Print the loss\n",
    "loss_fn(y_valid_pred,\n",
    "        valid_outcomes_Variable)"
   ]
  },
  {
   "cell_type": "code",
   "execution_count": 138,
   "metadata": {
    "collapsed": true
   },
   "outputs": [],
   "source": [
    "# Get rid of the 2nd dimension of 1 from the FloatTensor\n",
    "y_valid_pred_resized = y_valid_pred.resize(1604)\n",
    "\n",
    "\n",
    "# Make the FloatTensor into a numpy.array\n",
    "y_valid_pred_array = y_valid_pred_resized.data.numpy()\n",
    "\n",
    "\n",
    "# Make the numpy.array into a list\n",
    "y_valid_pred_list = y_valid_pred_array.tolist()"
   ]
  },
  {
   "cell_type": "code",
   "execution_count": 139,
   "metadata": {
    "collapsed": false
   },
   "outputs": [
    {
     "data": {
      "text/plain": [
       "[<matplotlib.lines.Line2D at 0x7f7e4dc3d4e0>]"
      ]
     },
     "execution_count": 139,
     "metadata": {},
     "output_type": "execute_result"
    },
    {
     "data": {
      "image/png": "[encoded data removed]",
      "text/plain": [
       "<matplotlib.figure.Figure at 0x7f7e4dc3d3c8>"
      ]
     },
     "metadata": {},
     "output_type": "display_data"
    }
   ],
   "source": [
    "# Plot new predictions versus new data outcomes\n",
    "plt.scatter(valid_outcomes_list, y_valid_pred_list)\n",
    "\n",
    "axes = plt.gca()\n",
    "\n",
    "axes.set_xlim([-2, 4])\n",
    "\n",
    "axes.set_ylim([-2, 4])\n",
    "\n",
    "plt.plot([-2, 4], [-2, 4], 'k-', lw=2)"
   ]
  },
  {
   "cell_type": "markdown",
   "metadata": {},
   "source": [
    "### Round 7.2: Test Set Performance"
   ]
  },
  {
   "cell_type": "code",
   "execution_count": 140,
   "metadata": {
    "collapsed": true
   },
   "outputs": [],
   "source": [
    "# Have to make a new model and give it the train_model parameters to fix structure problem\n",
    "dim_corrected_model_2 = torch.nn.Sequential(torch.nn.Linear(22, 1))\n",
    "\n",
    "\n",
    "# Give the new model the old model's parameters\n",
    "dim_corrected_model_2[(0)].weight = model[(0)].weight"
   ]
  },
  {
   "cell_type": "code",
   "execution_count": 141,
   "metadata": {
    "collapsed": false
   },
   "outputs": [
    {
     "data": {
      "text/plain": [
       "Variable containing:\n",
       " 653.6221\n",
       "[torch.FloatTensor of size 1]"
      ]
     },
     "execution_count": 141,
     "metadata": {},
     "output_type": "execute_result"
    }
   ],
   "source": [
    "# Get the validation set predictions\n",
    "y_test_pred = dim_corrected_model_2(test_predictors_Variable)\n",
    "\n",
    "\n",
    "# Print the loss\n",
    "loss_fn(y_test_pred,\n",
    "        test_outcomes_Variable)"
   ]
  },
  {
   "cell_type": "code",
   "execution_count": 142,
   "metadata": {
    "collapsed": true
   },
   "outputs": [],
   "source": [
    "# Get rid of the 2nd dimension of 1 from the FloatTensor\n",
    "y_test_pred_resized = y_test_pred.resize(1596)\n",
    "\n",
    "\n",
    "# Make the FloatTensor into a numpy.array\n",
    "y_test_pred_array = y_test_pred_resized.data.numpy()\n",
    "\n",
    "\n",
    "# Convert back to native units and scale\n",
    "y_test_pred_array = y_test_pred_array*5.735285 + 6.490682\n",
    "\n",
    "\n",
    "# Make the numpy.array into a list\n",
    "y_test_pred_list = y_test_pred_array.tolist()"
   ]
  },
  {
   "cell_type": "code",
   "execution_count": 143,
   "metadata": {
    "collapsed": false
   },
   "outputs": [
    {
     "data": {
      "text/plain": [
       "<matplotlib.text.Text at 0x7f7e4da9e400>"
      ]
     },
     "execution_count": 143,
     "metadata": {},
     "output_type": "execute_result"
    },
    {
     "data": {
      "image/png": "[encoded data removed]",
      "text/plain": [
       "<matplotlib.figure.Figure at 0x7f7e4dad7438>"
      ]
     },
     "metadata": {},
     "output_type": "display_data"
    }
   ],
   "source": [
    "# Plot new predictions versus new data outcomes\n",
    "\n",
    "plt.scatter(test_outcomes_list, y_test_pred_list)\n",
    "\n",
    "axes = plt.gca()\n",
    "\n",
    "axes.set_xlim([2, 23])\n",
    "\n",
    "axes.set_ylim([2, 23])\n",
    "\n",
    "axes.set_xticks([2, 5, 8, 11, 14, 17, 20, 23])\n",
    "\n",
    "axes.set_yticks([2, 5, 8, 11, 14, 17, 20, 23])\n",
    "\n",
    "plt.plot([2, 23], [2, 23], 'k-', lw=2)\n",
    "\n",
    "axes.set_xlabel(\"Actual Outcome (Log-Transformed US Dollars)\")\n",
    "\n",
    "axes.set_ylabel(\"Model Prediction (Log-Transformed US Dollars)\")\n",
    "\n",
    "axes.set_title(\"Model Performance\")"
   ]
  },
  {
   "cell_type": "code",
   "execution_count": 144,
   "metadata": {
    "collapsed": false
   },
   "outputs": [
    {
     "data": {
      "text/plain": [
       "Parameter containing:\n",
       "\n",
       "Columns 0 to 9 \n",
       " 0.0304 -0.0025  0.0060  0.1194  0.1514 -0.0290  0.0040  0.0152  0.0504  0.0036\n",
       "\n",
       "Columns 10 to 19 \n",
       " 0.0377  0.0034  0.0102 -0.0124  0.0064 -0.0103 -0.0092  0.0168 -0.0053  0.0022\n",
       "\n",
       "Columns 20 to 21 \n",
       " 0.0042  0.0051\n",
       "[torch.FloatTensor of size 1x22]"
      ]
     },
     "execution_count": 144,
     "metadata": {},
     "output_type": "execute_result"
    }
   ],
   "source": [
    "dim_corrected_model_2[(0)].weight"
   ]
  }
 ],
 "metadata": {
  "kernelspec": {
   "display_name": "Python 3",
   "language": "python",
   "name": "python3"
  },
  "language_info": {
   "codemirror_mode": {
    "name": "ipython",
    "version": 3
   },
   "file_extension": ".py",
   "mimetype": "text/x-python",
   "name": "python",
   "nbconvert_exporter": "python",
   "pygments_lexer": "ipython3",
   "version": "3.6.0"
  }
 },
 "nbformat": 4,
 "nbformat_minor": 2
}
