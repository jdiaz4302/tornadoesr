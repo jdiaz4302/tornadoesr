{
 "cells": [
  {
   "cell_type": "markdown",
   "metadata": {},
   "source": [
    "## Setup"
   ]
  },
  {
   "cell_type": "code",
   "execution_count": 1,
   "metadata": {
    "collapsed": true
   },
   "outputs": [],
   "source": [
    "# Packages\n",
    "import pandas as pd\n",
    "import torch\n",
    "from torch.autograd import Variable\n",
    "import numpy as np\n",
    "import matplotlib.pyplot as plt\n",
    "%matplotlib inline\n",
    "import pylab\n",
    "import math"
   ]
  },
  {
   "cell_type": "code",
   "execution_count": 2,
   "metadata": {
    "collapsed": false
   },
   "outputs": [
    {
     "name": "stdout",
     "output_type": "stream",
     "text": [
      "<class 'pandas.core.frame.DataFrame'>\n",
      "RangeIndex: 8253 entries, 0 to 8252\n",
      "Data columns (total 33 columns):\n",
      "DAMAGE_PROPERTY       8253 non-null float64\n",
      "DURATION_SECONDS      8253 non-null float64\n",
      "BEGIN_LAT             8253 non-null float64\n",
      "BEGIN_LON             8253 non-null float64\n",
      "TOR_LENGTH            8253 non-null float64\n",
      "TOR_WIDTH             8253 non-null float64\n",
      "YEAR                  8253 non-null float64\n",
      "OPEN_WATER_PROP       8253 non-null float64\n",
      "DEV_OPEN_PROP         8253 non-null float64\n",
      "DEV_LOW_PROP          8253 non-null float64\n",
      "DEV_MED_PROP          8253 non-null float64\n",
      "DEV_HIGH_PROP         8253 non-null float64\n",
      "DECID_FOREST_PROP     8253 non-null float64\n",
      "EVERGR_FOREST_PROP    8253 non-null float64\n",
      "MIXED_FOREST_PROP     8253 non-null float64\n",
      "SHRUB_SCRUB_PROP      8253 non-null float64\n",
      "GRASS_LAND_PROP       8253 non-null float64\n",
      "PASTURE_HAY_PROP      8253 non-null float64\n",
      "CULT_CROPS_PROP       8253 non-null float64\n",
      "WOOD_WETLAND_PROP     8253 non-null float64\n",
      "HERB_WETLAND_PROP     8253 non-null float64\n",
      "BARREN_LAND_PROP      8253 non-null float64\n",
      "INCOME                8253 non-null float64\n",
      "TOR_AREA              8253 non-null float64\n",
      "TOT_DEV_INT           8253 non-null float64\n",
      "TOT_WOOD_AREA         8253 non-null float64\n",
      "WOOD_DEV_INT          8253 non-null float64\n",
      "EXP_INC_AREA          8253 non-null float64\n",
      "DAY_OF_YEAR           8253 non-null float64\n",
      "STATE_RANK            8253 non-null float64\n",
      "MOB_HOM_COUNT         8253 non-null float64\n",
      "TIME                  8253 non-null float64\n",
      "MONTH_MEAN            8253 non-null float64\n",
      "dtypes: float64(33)\n",
      "memory usage: 2.1 MB\n"
     ]
    }
   ],
   "source": [
    "# Import data\n",
    "tor_df = pd.read_csv(\"/home/jeremy/github_tornadoesr/data/raw/tor_train_set_no_zeros_mob_home.csv\")\n",
    "\n",
    "\n",
    "# Quick inspection\n",
    "tor_df.info()"
   ]
  },
  {
   "cell_type": "code",
   "execution_count": 3,
   "metadata": {
    "collapsed": false
   },
   "outputs": [
    {
     "name": "stdout",
     "output_type": "stream",
     "text": [
      "<class 'pandas.core.frame.DataFrame'>\n",
      "RangeIndex: 8253 entries, 0 to 8252\n",
      "Data columns (total 1 columns):\n",
      "DAMAGE_PROPERTY    8253 non-null float64\n",
      "dtypes: float64(1)\n",
      "memory usage: 64.6 KB\n"
     ]
    }
   ],
   "source": [
    "# Seperating variables\n",
    "# The dependent variables\n",
    "tornado_outcomes = tor_df.iloc[:, [0]]\n",
    "\n",
    "\n",
    "# Quick inspection\n",
    "tornado_outcomes.info()"
   ]
  },
  {
   "cell_type": "code",
   "execution_count": 4,
   "metadata": {
    "collapsed": false
   },
   "outputs": [
    {
     "name": "stdout",
     "output_type": "stream",
     "text": [
      "<class 'pandas.core.frame.DataFrame'>\n",
      "RangeIndex: 8253 entries, 0 to 8252\n",
      "Data columns (total 32 columns):\n",
      "DURATION_SECONDS      8253 non-null float64\n",
      "BEGIN_LAT             8253 non-null float64\n",
      "BEGIN_LON             8253 non-null float64\n",
      "TOR_LENGTH            8253 non-null float64\n",
      "TOR_WIDTH             8253 non-null float64\n",
      "YEAR                  8253 non-null float64\n",
      "OPEN_WATER_PROP       8253 non-null float64\n",
      "DEV_OPEN_PROP         8253 non-null float64\n",
      "DEV_LOW_PROP          8253 non-null float64\n",
      "DEV_MED_PROP          8253 non-null float64\n",
      "DEV_HIGH_PROP         8253 non-null float64\n",
      "DECID_FOREST_PROP     8253 non-null float64\n",
      "EVERGR_FOREST_PROP    8253 non-null float64\n",
      "MIXED_FOREST_PROP     8253 non-null float64\n",
      "SHRUB_SCRUB_PROP      8253 non-null float64\n",
      "GRASS_LAND_PROP       8253 non-null float64\n",
      "PASTURE_HAY_PROP      8253 non-null float64\n",
      "CULT_CROPS_PROP       8253 non-null float64\n",
      "WOOD_WETLAND_PROP     8253 non-null float64\n",
      "HERB_WETLAND_PROP     8253 non-null float64\n",
      "BARREN_LAND_PROP      8253 non-null float64\n",
      "INCOME                8253 non-null float64\n",
      "TOR_AREA              8253 non-null float64\n",
      "TOT_DEV_INT           8253 non-null float64\n",
      "TOT_WOOD_AREA         8253 non-null float64\n",
      "WOOD_DEV_INT          8253 non-null float64\n",
      "EXP_INC_AREA          8253 non-null float64\n",
      "DAY_OF_YEAR           8253 non-null float64\n",
      "STATE_RANK            8253 non-null float64\n",
      "MOB_HOM_COUNT         8253 non-null float64\n",
      "TIME                  8253 non-null float64\n",
      "MONTH_MEAN            8253 non-null float64\n",
      "dtypes: float64(32)\n",
      "memory usage: 2.0 MB\n"
     ]
    }
   ],
   "source": [
    "# The independent variables\n",
    "tornado_features = tor_df.iloc[:, 1:]\n",
    "\n",
    "\n",
    "# Quick inspection\n",
    "tornado_features.info()"
   ]
  },
  {
   "cell_type": "code",
   "execution_count": 5,
   "metadata": {
    "collapsed": false
   },
   "outputs": [
    {
     "data": {
      "text/plain": [
       "\n",
       " 0.9113\n",
       " 0.6554\n",
       " 0.5805\n",
       "   ⋮    \n",
       " 0.7569\n",
       " 1.1335\n",
       " 0.9807\n",
       "[torch.DoubleTensor of size 8253x1]"
      ]
     },
     "execution_count": 5,
     "metadata": {},
     "output_type": "execute_result"
    }
   ],
   "source": [
    "# Make the dependent variables into a numpy array\n",
    "outcomes_array = tornado_outcomes.values\n",
    "\n",
    "\n",
    "# Makes the numpy array into a torch Tensor\n",
    "outcomes_Tensor = torch.from_numpy(outcomes_array)\n",
    "\n",
    "\n",
    "# Quick inspection\n",
    "outcomes_Tensor"
   ]
  },
  {
   "cell_type": "code",
   "execution_count": 6,
   "metadata": {
    "collapsed": false
   },
   "outputs": [
    {
     "data": {
      "text/plain": [
       "\n",
       " 4.5872e-01 -7.3512e-01  3.8636e-01  ...   8.7008e-02  2.8949e+00  3.0227e-01\n",
       " 7.8822e-01 -5.1501e-01  1.4830e+00  ...   1.2048e+00 -1.3523e+00  1.7190e+00\n",
       "-3.0188e-01  1.3455e+00  7.4718e-01  ...   9.8083e-01 -9.0986e-01  3.0227e-01\n",
       "                ...                   ⋱                   ...                \n",
       " 3.5279e-01 -7.0616e-02  9.1784e-01  ...   3.4123e-01  2.5148e-01 -1.8228e+00\n",
       " 1.3419e+00 -5.8518e-01  3.6380e-01  ...   1.7985e-01 -2.0528e+00  3.0227e-01\n",
       " 8.3356e-01 -1.9460e+00  1.2740e+00  ...   1.5585e+00  1.7041e+00 -4.0608e-01\n",
       "[torch.DoubleTensor of size 8253x32]"
      ]
     },
     "execution_count": 6,
     "metadata": {},
     "output_type": "execute_result"
    }
   ],
   "source": [
    "# Make the independent variables into a numpy array\n",
    "features_array = tornado_features.values\n",
    "\n",
    "\n",
    "# Make the numpy array into a torch Tensor\n",
    "features_Tensor = torch.from_numpy(features_array)\n",
    "\n",
    "\n",
    "# Quick inspection\n",
    "features_Tensor"
   ]
  },
  {
   "cell_type": "markdown",
   "metadata": {},
   "source": [
    "### Convert DoubleTensor to FloatTensor"
   ]
  },
  {
   "cell_type": "code",
   "execution_count": 7,
   "metadata": {
    "collapsed": false
   },
   "outputs": [
    {
     "data": {
      "text/plain": [
       "\n",
       " 4.5872e-01 -7.3512e-01  3.8636e-01  ...   8.7008e-02  2.8949e+00  3.0227e-01\n",
       " 7.8822e-01 -5.1501e-01  1.4830e+00  ...   1.2048e+00 -1.3523e+00  1.7190e+00\n",
       "-3.0188e-01  1.3455e+00  7.4718e-01  ...   9.8083e-01 -9.0986e-01  3.0227e-01\n",
       "                ...                   ⋱                   ...                \n",
       " 3.5279e-01 -7.0616e-02  9.1784e-01  ...   3.4123e-01  2.5148e-01 -1.8228e+00\n",
       " 1.3419e+00 -5.8518e-01  3.6380e-01  ...   1.7985e-01 -2.0528e+00  3.0227e-01\n",
       " 8.3356e-01 -1.9460e+00  1.2740e+00  ...   1.5585e+00  1.7041e+00 -4.0608e-01\n",
       "[torch.FloatTensor of size 8253x32]"
      ]
     },
     "execution_count": 7,
     "metadata": {},
     "output_type": "execute_result"
    }
   ],
   "source": [
    "# Changing dependent variables from a DoubleTensor to a FloatTensor\n",
    "outcomes_Tensor = outcomes_Tensor.float()\n",
    "\n",
    "\n",
    "# ...and for the independent variables\n",
    "features_Tensor = features_Tensor.float()\n",
    "\n",
    "\n",
    "# Quick check\n",
    "features_Tensor"
   ]
  },
  {
   "cell_type": "markdown",
   "metadata": {
    "collapsed": true
   },
   "source": [
    "## Round 1: One-Hidden-Layer Neural Network"
   ]
  },
  {
   "cell_type": "code",
   "execution_count": 8,
   "metadata": {
    "collapsed": false
   },
   "outputs": [],
   "source": [
    "# Make the torch Tensor into a PyTorch Variable for dependent variables\n",
    "outcomes_Variable = Variable(outcomes_Tensor)\n",
    "\n",
    "\n",
    "# ...for independent variables\n",
    "features_Variable = Variable(features_Tensor,\n",
    "                             requires_grad = False)"
   ]
  },
  {
   "cell_type": "code",
   "execution_count": 9,
   "metadata": {
    "collapsed": false
   },
   "outputs": [],
   "source": [
    "# Make the neural network\n",
    "model = torch.nn.Sequential(torch.nn.Linear(32, 21),\n",
    "                            torch.nn.ReLU(),\n",
    "                            torch.nn.Linear(21, 1))"
   ]
  },
  {
   "cell_type": "code",
   "execution_count": 10,
   "metadata": {
    "collapsed": true
   },
   "outputs": [],
   "source": [
    "# Set the loss function\n",
    "loss_fn = torch.nn.MSELoss(size_average=False)"
   ]
  },
  {
   "cell_type": "code",
   "execution_count": 11,
   "metadata": {
    "collapsed": false
   },
   "outputs": [],
   "source": [
    "# To add errors to\n",
    "errors = []\n",
    "\n",
    "\n",
    "# Set the learning rate\n",
    "learning_rate = 4e-6\n",
    "\n",
    "\n",
    "# Train the neural network\n",
    "for t in range(10000):\n",
    "    \n",
    "    # Get the current predictions\n",
    "    y_pred = model(features_Variable)\n",
    "    \n",
    "    # Compute and append current summed errors\n",
    "    loss = loss_fn(y_pred, outcomes_Variable)\n",
    "    errors.append(loss.data[0])\n",
    "    \n",
    "    # Zero the gradients before running the backward pass.\n",
    "    model.zero_grad()\n",
    "    \n",
    "    # Backward pass: compute gradient of the loss with respect to all the learnable Variables\n",
    "    loss.backward()\n",
    "    \n",
    "    # Update the weights using gradient descent\n",
    "    for param in model.parameters():\n",
    "        param.data -= learning_rate * param.grad.data"
   ]
  },
  {
   "cell_type": "code",
   "execution_count": 12,
   "metadata": {
    "collapsed": true
   },
   "outputs": [],
   "source": [
    "# Get the iterations\n",
    "iterations = list(range(0, 10000))"
   ]
  },
  {
   "cell_type": "code",
   "execution_count": 13,
   "metadata": {
    "collapsed": false
   },
   "outputs": [
    {
     "data": {
      "text/plain": [
       "<matplotlib.collections.PathCollection at 0x7f33f45f2390>"
      ]
     },
     "execution_count": 13,
     "metadata": {},
     "output_type": "execute_result"
    },
    {
     "data": {
      "image/png": "[encoded data removed]",
      "text/plain": [
       "<matplotlib.figure.Figure at 0x7f33ec15dac8>"
      ]
     },
     "metadata": {},
     "output_type": "display_data"
    }
   ],
   "source": [
    "# Plot summed error as a function of iteration\n",
    "plt.scatter(iterations, errors)"
   ]
  },
  {
   "cell_type": "code",
   "execution_count": 14,
   "metadata": {
    "collapsed": false
   },
   "outputs": [],
   "source": [
    "# Get rid of the 2nd dimension of 1 from the FloatTensor\n",
    "y_pred_resized = y_pred.resize(8253)\n",
    "\n",
    "\n",
    "# Make the FloatTensor into a numpy.array\n",
    "y_pred_array = y_pred_resized.data.numpy()\n",
    "\n",
    "\n",
    "# Make the numpy.array into a list\n",
    "y_pred_list = y_pred_array.tolist()"
   ]
  },
  {
   "cell_type": "code",
   "execution_count": 15,
   "metadata": {
    "collapsed": false
   },
   "outputs": [],
   "source": [
    "# Get rid of the 2nd dimension of 1 from the FloatTensor\n",
    "outcomes_Variable_resized = outcomes_Variable.resize(8253)\n",
    "\n",
    "\n",
    "# Make the FloatTensor into a numpy.array\n",
    "outcomes_array = outcomes_Variable_resized.data.numpy()\n",
    "\n",
    "\n",
    "# Make the numpy.array into a list\n",
    "outcomes_list = outcomes_array.tolist()"
   ]
  },
  {
   "cell_type": "code",
   "execution_count": 16,
   "metadata": {
    "collapsed": false
   },
   "outputs": [
    {
     "data": {
      "text/plain": [
       "[<matplotlib.lines.Line2D at 0x7f339c04bf98>]"
      ]
     },
     "execution_count": 16,
     "metadata": {},
     "output_type": "execute_result"
    },
    {
     "data": {
      "image/png": "[encoded data removed]",
      "text/plain": [
       "<matplotlib.figure.Figure at 0x7f339c149240>"
      ]
     },
     "metadata": {},
     "output_type": "display_data"
    }
   ],
   "source": [
    "# Plot predictions versus training set outcomes\n",
    "plt.scatter(outcomes_list, y_pred_list)\n",
    "\n",
    "axes = plt.gca()\n",
    "\n",
    "axes.set_xlim([-2, 4])\n",
    "\n",
    "axes.set_ylim([-2, 4])\n",
    "\n",
    "plt.plot([-2, 4], [-2, 4], 'k-', lw=2)"
   ]
  },
  {
   "cell_type": "markdown",
   "metadata": {},
   "source": [
    "### Round 1.1: Validation Set Performance"
   ]
  },
  {
   "cell_type": "code",
   "execution_count": 17,
   "metadata": {
    "collapsed": false
   },
   "outputs": [],
   "source": [
    "# Import data\n",
    "valid_df = pd.read_csv(\"/home/jeremy/github_tornadoesr/data/raw/tor_cv_set_no_zeros_mob_home.csv\")\n",
    "\n",
    "\n",
    "# Validation set outcomes\n",
    "valid_outcomes = valid_df.iloc[:, [0]]\n",
    "\n",
    "\n",
    "# Make the validation outcomes into a numpy array\n",
    "valid_outcomes_array = valid_outcomes.values\n",
    "\n",
    "\n",
    "# Makes the numpy array into a torch Tensor\n",
    "valid_outcomes_Tensor = torch.from_numpy(valid_outcomes_array)\n",
    "\n",
    "\n",
    "# Changing validation outcomes from a DoubleTensor to a FloatTensor\n",
    "valid_outcomes_Tensor = valid_outcomes_Tensor.float()\n",
    "\n",
    "\n",
    "# Make the Tensor into a Pytorch Variable\n",
    "valid_outcomes_Variable = Variable(valid_outcomes_Tensor)"
   ]
  },
  {
   "cell_type": "code",
   "execution_count": 18,
   "metadata": {
    "collapsed": false
   },
   "outputs": [],
   "source": [
    "# Validation set predictors\n",
    "valid_predictors = valid_df.iloc[:, 1:]\n",
    "\n",
    "\n",
    "# Make the validation predictors into a numpy array\n",
    "valid_predictors_array = valid_predictors.values\n",
    "\n",
    "\n",
    "# Makes the numpy array into a torch Tensor\n",
    "valid_predictors_Tensor = torch.from_numpy(valid_predictors_array)\n",
    "\n",
    "\n",
    "# Changing validation predictors from a DoubleTensor to a FloatTensor\n",
    "valid_predictors_Tensor = valid_predictors_Tensor.float()\n",
    "\n",
    "\n",
    "# Make the Tensor into a Pytorch Variable\n",
    "valid_predictors_Variable = Variable(valid_predictors_Tensor)"
   ]
  },
  {
   "cell_type": "code",
   "execution_count": 19,
   "metadata": {
    "collapsed": false
   },
   "outputs": [
    {
     "data": {
      "text/plain": [
       "Variable containing:\n",
       " 269.6749\n",
       "[torch.FloatTensor of size 1]"
      ]
     },
     "execution_count": 19,
     "metadata": {},
     "output_type": "execute_result"
    }
   ],
   "source": [
    "# Get the validation set predictions\n",
    "y_valid_pred = model(valid_predictors_Variable)\n",
    "\n",
    "\n",
    "# Print the loss\n",
    "loss_fn(y_valid_pred,\n",
    "        valid_outcomes_Variable)"
   ]
  },
  {
   "cell_type": "code",
   "execution_count": 20,
   "metadata": {
    "collapsed": true
   },
   "outputs": [],
   "source": [
    "# Get rid of the 2nd dimension of 1 from the FloatTensor\n",
    "y_valid_pred_resized = y_valid_pred.resize(2741)\n",
    "\n",
    "\n",
    "# Make the FloatTensor into a numpy.array\n",
    "y_valid_pred_array = y_valid_pred_resized.data.numpy()\n",
    "\n",
    "\n",
    "# Make the numpy.array into a list\n",
    "y_valid_pred_list = y_valid_pred_array.tolist()"
   ]
  },
  {
   "cell_type": "code",
   "execution_count": 21,
   "metadata": {
    "collapsed": false
   },
   "outputs": [],
   "source": [
    "# Get rid of the 2nd dimension of 1 from the FloatTensor\n",
    "valid_outcomes_Variable_resized = valid_outcomes_Variable.resize(2741)\n",
    "\n",
    "\n",
    "# Make the FloatTensor into a numpy.array\n",
    "valid_outcomes_array = valid_outcomes_Variable_resized.data.numpy()\n",
    "\n",
    "\n",
    "# Make the numpy.array into a list\n",
    "valid_outcomes_list = valid_outcomes_array.tolist()"
   ]
  },
  {
   "cell_type": "code",
   "execution_count": 22,
   "metadata": {
    "collapsed": false
   },
   "outputs": [
    {
     "data": {
      "text/plain": [
       "[<matplotlib.lines.Line2D at 0x7f3394274e80>]"
      ]
     },
     "execution_count": 22,
     "metadata": {},
     "output_type": "execute_result"
    },
    {
     "data": {
      "image/png": "[encoded data removed]",
      "text/plain": [
       "<matplotlib.figure.Figure at 0x7f339c07fcf8>"
      ]
     },
     "metadata": {},
     "output_type": "display_data"
    }
   ],
   "source": [
    "# Plot new predictions versus new data outcomes\n",
    "plt.scatter(valid_outcomes_list, y_valid_pred_list)\n",
    "\n",
    "axes = plt.gca()\n",
    "\n",
    "axes.set_xlim([-2, 4])\n",
    "\n",
    "axes.set_ylim([-2, 4])\n",
    "\n",
    "plt.plot([-2, 4], [-2, 4], 'k-', lw=2)"
   ]
  },
  {
   "cell_type": "markdown",
   "metadata": {},
   "source": [
    "### Round 1.2: Test Set Performance"
   ]
  },
  {
   "cell_type": "code",
   "execution_count": 23,
   "metadata": {
    "collapsed": false
   },
   "outputs": [],
   "source": [
    "# Import data\n",
    "test_df = pd.read_csv(\"/home/jeremy/github_tornadoesr/data/raw/tor_test_set_no_zeros_mob_home.csv\")\n",
    "\n",
    "\n",
    "# Validation set outcomes\n",
    "test_outcomes = test_df.iloc[:, [0]]\n",
    "\n",
    "\n",
    "# Make the validation outcomes into a numpy array\n",
    "test_outcomes_array = test_outcomes.values\n",
    "\n",
    "\n",
    "# Makes the numpy array into a torch Tensor\n",
    "test_outcomes_Tensor = torch.from_numpy(test_outcomes_array)\n",
    "\n",
    "\n",
    "# Changing validation outcomes from a DoubleTensor to a FloatTensor\n",
    "test_outcomes_Tensor = test_outcomes_Tensor.float()\n",
    "\n",
    "\n",
    "# Make the Tensor into a Pytorch Variable\n",
    "test_outcomes_Variable = Variable(test_outcomes_Tensor)"
   ]
  },
  {
   "cell_type": "code",
   "execution_count": 24,
   "metadata": {
    "collapsed": true
   },
   "outputs": [],
   "source": [
    "# Validation set predictors\n",
    "test_predictors = test_df.iloc[:, 1:]\n",
    "\n",
    "\n",
    "# Make the validation predictors into a numpy array\n",
    "test_predictors_array = test_predictors.values\n",
    "\n",
    "\n",
    "# Makes the numpy array into a torch Tensor\n",
    "test_predictors_Tensor = torch.from_numpy(test_predictors_array)\n",
    "\n",
    "\n",
    "# Changing validation predictors from a DoubleTensor to a FloatTensor\n",
    "test_predictors_Tensor = test_predictors_Tensor.float()\n",
    "\n",
    "\n",
    "# Make the Tensor into a Pytorch Variable\n",
    "test_predictors_Variable = Variable(test_predictors_Tensor)"
   ]
  },
  {
   "cell_type": "code",
   "execution_count": 25,
   "metadata": {
    "collapsed": false
   },
   "outputs": [
    {
     "data": {
      "text/plain": [
       "Variable containing:\n",
       " 272.7062\n",
       "[torch.FloatTensor of size 1]"
      ]
     },
     "execution_count": 25,
     "metadata": {},
     "output_type": "execute_result"
    }
   ],
   "source": [
    "# Get the validation set predictions\n",
    "y_test_pred = model(test_predictors_Variable)\n",
    "\n",
    "\n",
    "# Print the loss\n",
    "loss_fn(y_test_pred,\n",
    "        test_outcomes_Variable)"
   ]
  },
  {
   "cell_type": "code",
   "execution_count": 26,
   "metadata": {
    "collapsed": false
   },
   "outputs": [],
   "source": [
    "# Get rid of the 2nd dimension of 1 from the FloatTensor\n",
    "y_test_pred_resized = y_test_pred.resize(2683)\n",
    "\n",
    "\n",
    "# Make the FloatTensor into a numpy.array\n",
    "y_test_pred_array = y_test_pred_resized.data.numpy()\n",
    "\n",
    "\n",
    "# Convert back to native units and scale\n",
    "y_test_pred_array = y_test_pred_array*5.409956 + 7.691221\n",
    "\n",
    "\n",
    "# Make the numpy.array into a list\n",
    "y_test_pred_list = y_test_pred_array.tolist()"
   ]
  },
  {
   "cell_type": "code",
   "execution_count": 27,
   "metadata": {
    "collapsed": true
   },
   "outputs": [],
   "source": [
    "# Get rid of the 2nd dimension of 1 from the FloatTensor\n",
    "test_outcomes_Variable_resized = test_outcomes_Variable.resize(2683)\n",
    "\n",
    "\n",
    "# Make the FloatTensor into a numpy.array\n",
    "test_outcomes_array = test_outcomes_Variable_resized.data.numpy()\n",
    "\n",
    "\n",
    "# Convert back to native units and scale\n",
    "test_outcomes_array = test_outcomes_array*5.409956 + 7.691221\n",
    "\n",
    "\n",
    "# Make the numpy.array into a list\n",
    "test_outcomes_list = test_outcomes_array.tolist()"
   ]
  },
  {
   "cell_type": "code",
   "execution_count": 28,
   "metadata": {
    "collapsed": false
   },
   "outputs": [
    {
     "data": {
      "text/plain": [
       "<matplotlib.text.Text at 0x7f33941fd128>"
      ]
     },
     "execution_count": 28,
     "metadata": {},
     "output_type": "execute_result"
    },
    {
     "data": {
      "image/png": "[encoded data removed]",
      "text/plain": [
       "<matplotlib.figure.Figure at 0x7f33942a5f60>"
      ]
     },
     "metadata": {},
     "output_type": "display_data"
    }
   ],
   "source": [
    "# Plot new predictions versus new data outcomes\n",
    "plt.scatter(test_outcomes_list, y_test_pred_list)\n",
    "\n",
    "axes = plt.gca()\n",
    "\n",
    "axes.set_xlim([2, 23])\n",
    "\n",
    "axes.set_ylim([2, 23])\n",
    "\n",
    "axes.set_xticks([2, 5, 8, 11, 14, 17, 20, 23])\n",
    "\n",
    "axes.set_yticks([2, 5, 8, 11, 14, 17, 20, 23])\n",
    "\n",
    "plt.plot([2, 23], [2, 23], 'k-', lw=2)\n",
    "\n",
    "axes.set_xlabel(\"Actual Outcome (Log-Transformed US Dollars)\")\n",
    "\n",
    "axes.set_ylabel(\"Model Prediction (Log-Transformed US Dollars)\")\n",
    "\n",
    "axes.set_title(\"Model Performance\")"
   ]
  },
  {
   "cell_type": "code",
   "execution_count": 29,
   "metadata": {
    "collapsed": false
   },
   "outputs": [
    {
     "data": {
      "text/plain": [
       "Parameter containing:\n",
       "\n",
       "Columns 0 to 9 \n",
       "-0.1373  0.0846  0.1768 -0.1593  0.0342 -0.0662  0.0807 -0.0345  0.1145  0.0443\n",
       "-0.0003  0.0566 -0.1021  0.2180 -0.2376  0.0728  0.0698  0.0813 -0.0025  0.1070\n",
       " 0.0959 -0.0574  0.0787 -0.0892 -0.0246  0.0205  0.0348 -0.0372  0.1094  0.0261\n",
       "-0.1189  0.1344 -0.1433  0.0789 -0.0182 -0.0800  0.0418 -0.0864 -0.1125 -0.0538\n",
       " 0.0990  0.0393  0.0307  0.0176 -0.1421 -0.1756 -0.0036  0.1404 -0.2291  0.0382\n",
       "-0.0707 -0.1813 -0.0366  0.0330 -0.1734  0.1971  0.0520 -0.0683 -0.0013  0.0463\n",
       "-0.0035 -0.0244  0.0451  0.0472  0.0941  0.1111 -0.1423  0.0456  0.0898  0.0084\n",
       "-0.1281  0.0660 -0.1073 -0.0661 -0.1756 -0.0544  0.1240 -0.0521 -0.1693  0.1422\n",
       " 0.0003 -0.1155  0.0701 -0.2255  0.1519  0.0063  0.0381  0.0370 -0.1419 -0.0111\n",
       " 0.0344 -0.0172  0.0594 -0.0208  0.0814  0.1075 -0.1414  0.0801 -0.0318  0.1005\n",
       " 0.0652 -0.1143 -0.1114  0.1259  0.0005 -0.0080 -0.0122  0.0023  0.1442  0.0520\n",
       " 0.0960 -0.0710  0.1413  0.0257 -0.0527  0.0033  0.0222  0.1031  0.0691  0.0063\n",
       "-0.0444  0.0054  0.2769 -0.0605 -0.0513 -0.0759  0.1426 -0.1853  0.0501  0.0905\n",
       "-0.1602 -0.0447 -0.0149 -0.0700  0.1570  0.1610  0.0239 -0.0784  0.1239 -0.1208\n",
       " 0.1432  0.0205 -0.0384  0.1555  0.1628  0.0198 -0.1463  0.1461 -0.1326 -0.1967\n",
       "-0.0043 -0.1131 -0.1733 -0.0688 -0.0443  0.1060 -0.1668 -0.0549 -0.1077 -0.0053\n",
       "-0.0296  0.0065  0.1124  0.2059  0.0964 -0.1732  0.0526  0.0553 -0.1035  0.0741\n",
       " 0.1144 -0.0792 -0.0569  0.0816  0.0661 -0.0352 -0.0242  0.0229  0.1363  0.0085\n",
       " 0.0614 -0.1053  0.0649 -0.0570  0.2057 -0.0456  0.0182  0.0316  0.0673 -0.0319\n",
       "-0.0276  0.2349  0.1409  0.0857  0.0872 -0.1152 -0.0695  0.0783  0.0261 -0.1897\n",
       " 0.1781  0.0673 -0.2049  0.0658  0.0803  0.1052  0.0446  0.1036 -0.0998  0.1827\n",
       "\n",
       "Columns 10 to 19 \n",
       "-0.1536 -0.1197  0.0993 -0.1653 -0.0053 -0.1564  0.1617  0.0556 -0.1598 -0.0693\n",
       "-0.0766 -0.1147  0.0829 -0.0574 -0.0482 -0.1269  0.1165 -0.0399 -0.0571 -0.1264\n",
       " 0.0484  0.0589  0.1907 -0.0097 -0.0656 -0.1942  0.1248 -0.0282  0.0873 -0.0163\n",
       " 0.1427  0.0414 -0.1176  0.0137  0.0598  0.0920 -0.1117  0.0465  0.0354  0.0030\n",
       " 0.1812 -0.0066  0.0364  0.2215  0.0250 -0.0939  0.0455  0.1516 -0.0105 -0.0558\n",
       "-0.0093 -0.0648 -0.1299  0.0438 -0.0968  0.1749  0.0268 -0.0593  0.0273 -0.1505\n",
       " 0.1556  0.1209 -0.0934 -0.0717  0.0455  0.0670  0.1051 -0.0498  0.1803 -0.1145\n",
       " 0.1467 -0.0369 -0.0980 -0.1046 -0.0175  0.0422  0.0769 -0.1645 -0.0788 -0.1311\n",
       " 0.0756  0.0527 -0.2072  0.0266 -0.1418  0.0294 -0.0139  0.0219 -0.0290  0.0914\n",
       "-0.0319  0.0508 -0.0213 -0.0146  0.0663  0.0128  0.0038 -0.1739 -0.1077 -0.0854\n",
       "-0.1081 -0.1717 -0.0543  0.1266 -0.1453 -0.0634  0.1410  0.0412 -0.0530 -0.0428\n",
       " 0.0549  0.0800 -0.0942 -0.0318 -0.1385  0.1487  0.0670  0.0548  0.0853  0.1126\n",
       " 0.1808 -0.1333 -0.0200 -0.0561  0.0572  0.0783  0.1187  0.1547 -0.1708 -0.0454\n",
       " 0.0539 -0.0119  0.0298 -0.0641 -0.0706  0.0851 -0.0109  0.0435 -0.0691  0.1272\n",
       " 0.0175  0.1352 -0.1231  0.1247  0.0283  0.0250  0.0630  0.1111  0.1184 -0.1580\n",
       " 0.0186  0.1270  0.0551  0.1595  0.1104 -0.1033 -0.0657  0.0950 -0.1625 -0.1652\n",
       " 0.0006  0.1061  0.1568  0.1101 -0.0014  0.0258 -0.1293  0.0196 -0.0239  0.1928\n",
       "-0.1073  0.0735 -0.2012  0.0097 -0.0879 -0.0026  0.1224  0.0759 -0.1145  0.0215\n",
       " 0.1105 -0.0342  0.1532 -0.0733 -0.1095 -0.1323  0.1101  0.0514  0.0333  0.0820\n",
       " 0.1501  0.0896 -0.1410  0.1892 -0.0682  0.0094 -0.1578 -0.0928 -0.0332 -0.0296\n",
       "-0.0075 -0.0141  0.1726 -0.1384  0.0387 -0.1106  0.0188 -0.1029  0.0285  0.0022\n",
       "\n",
       "Columns 20 to 29 \n",
       "-0.0981 -0.0676 -0.1692 -0.0279  0.1492  0.0096 -0.1180  0.0430 -0.0590  0.1405\n",
       " 0.2071 -0.1357  0.0739  0.0657  0.0648 -0.0819 -0.1387 -0.0920 -0.1943  0.0795\n",
       " 0.0574  0.1618  0.0634  0.0085 -0.1684  0.0933  0.0754 -0.1089  0.2385 -0.0297\n",
       "-0.2459 -0.1289 -0.1089 -0.0451  0.0229  0.0416 -0.0836 -0.1571 -0.1646  0.1051\n",
       " 0.0023 -0.0210 -0.1181 -0.2275 -0.1398  0.1140  0.1359  0.0689  0.0803 -0.1362\n",
       " 0.0309 -0.0162 -0.0929  0.0101 -0.0318 -0.0458 -0.0672 -0.1609 -0.0731  0.0055\n",
       "-0.0044 -0.0845 -0.0259  0.0986 -0.0047 -0.0063 -0.0927 -0.0051 -0.1115 -0.0748\n",
       " 0.0192  0.1576 -0.2085 -0.1158 -0.0742  0.1114 -0.1786 -0.1413 -0.1536 -0.0900\n",
       "-0.1624 -0.2038 -0.0595  0.0930  0.1779 -0.0383 -0.0101  0.0061 -0.1684  0.1201\n",
       "-0.1245  0.1660  0.1029  0.0660  0.0356 -0.1271  0.0132  0.0439  0.1458  0.1372\n",
       " 0.0254 -0.0930  0.1297 -0.0822 -0.0002 -0.1182  0.1046 -0.0212  0.1621 -0.0943\n",
       " 0.1262  0.0940  0.0929 -0.0644  0.0724  0.0973  0.0662  0.0409 -0.0432  0.0618\n",
       " 0.1893  0.0557  0.2224 -0.1113  0.0844  0.1463  0.1669  0.1199 -0.0564  0.2038\n",
       " 0.1140  0.0161  0.0105  0.0362  0.1905  0.1014 -0.0441  0.0802 -0.0968  0.0994\n",
       " 0.1109 -0.0776  0.1027 -0.0703 -0.0119 -0.1352 -0.1551  0.0754  0.1080  0.0451\n",
       " 0.0037  0.1651 -0.0926 -0.1715 -0.0210 -0.1813 -0.0851  0.1667  0.0238 -0.0513\n",
       "-0.1499  0.1933  0.0611 -0.0943 -0.0341 -0.0541  0.0391  0.0389  0.0669 -0.0644\n",
       "-0.1042  0.0466  0.0615  0.0595  0.0924  0.1205  0.2427 -0.1714  0.1091 -0.0123\n",
       " 0.0072 -0.0974  0.0453  0.1225  0.0789 -0.0376  0.2556  0.0202 -0.0539  0.1232\n",
       " 0.0624  0.1157  0.1542  0.1848 -0.1165  0.0956  0.1179 -0.0893  0.0278 -0.0314\n",
       " 0.0757  0.1036  0.0334  0.1892  0.0917 -0.0945  0.0623 -0.1075  0.0094  0.0103\n",
       "\n",
       "Columns 30 to 31 \n",
       " 0.0317  0.0633\n",
       " 0.0285 -0.0216\n",
       "-0.1581  0.0306\n",
       " 0.0232 -0.0851\n",
       "-0.0687  0.0313\n",
       " 0.0854 -0.0496\n",
       " 0.1849  0.1256\n",
       "-0.0434 -0.0371\n",
       " 0.0042 -0.0115\n",
       "-0.1239  0.1397\n",
       "-0.1860  0.0071\n",
       "-0.0475  0.0475\n",
       " 0.0415  0.0594\n",
       " 0.1001  0.1148\n",
       " 0.0012  0.0747\n",
       "-0.0789 -0.0313\n",
       "-0.0165  0.1399\n",
       " 0.0645 -0.2108\n",
       "-0.0397  0.0119\n",
       "-0.2234  0.0795\n",
       "-0.0473 -0.0167\n",
       "[torch.FloatTensor of size 21x32]"
      ]
     },
     "execution_count": 29,
     "metadata": {},
     "output_type": "execute_result"
    }
   ],
   "source": [
    "model[(0)].weight"
   ]
  },
  {
   "cell_type": "code",
   "execution_count": 30,
   "metadata": {
    "collapsed": false
   },
   "outputs": [
    {
     "data": {
      "text/plain": [
       "Parameter containing:\n",
       "\n",
       "Columns 0 to 9 \n",
       " 0.0308 -0.2110 -0.2421 -0.1066 -0.2394  0.1604  0.0632 -0.0746 -0.1374 -0.1350\n",
       "\n",
       "Columns 10 to 19 \n",
       " 0.0056 -0.0872  0.1637 -0.1955  0.1309  0.0033  0.1626  0.1142  0.2703  0.1955\n",
       "\n",
       "Columns 20 to 20 \n",
       " 0.2689\n",
       "[torch.FloatTensor of size 1x21]"
      ]
     },
     "execution_count": 30,
     "metadata": {},
     "output_type": "execute_result"
    }
   ],
   "source": [
    "model[(2)].weight"
   ]
  },
  {
   "cell_type": "markdown",
   "metadata": {},
   "source": [
    "## Round 2: Two-Hidden-Layer Neural Network"
   ]
  },
  {
   "cell_type": "code",
   "execution_count": 31,
   "metadata": {
    "collapsed": true
   },
   "outputs": [],
   "source": [
    "# Make the torch Tensor into a PyTorch Variable for dependent variables\n",
    "outcomes_Variable = Variable(outcomes_Tensor)\n",
    "\n",
    "\n",
    "# ...for independent variables\n",
    "features_Variable = Variable(features_Tensor,\n",
    "                             requires_grad = False)"
   ]
  },
  {
   "cell_type": "code",
   "execution_count": 32,
   "metadata": {
    "collapsed": true
   },
   "outputs": [],
   "source": [
    "# Make the neural network\n",
    "model = torch.nn.Sequential(torch.nn.Linear(32, 21),\n",
    "                            torch.nn.ReLU(),\n",
    "                            torch.nn.Linear(21, 14),\n",
    "                            torch.nn.ReLU(),\n",
    "                            torch.nn.Linear(14, 1))"
   ]
  },
  {
   "cell_type": "code",
   "execution_count": 33,
   "metadata": {
    "collapsed": false
   },
   "outputs": [],
   "source": [
    "# To add errors to\n",
    "errors = []\n",
    "\n",
    "\n",
    "# Set the learning rate\n",
    "learning_rate = 6e-6\n",
    "\n",
    "\n",
    "# Train the neural network\n",
    "for t in range(10000):\n",
    "    \n",
    "    # Get the current predictions\n",
    "    y_pred = model(features_Variable)\n",
    "    \n",
    "    # Compute and append current summed errors\n",
    "    loss = loss_fn(y_pred, outcomes_Variable)\n",
    "    errors.append(loss.data[0])\n",
    "    \n",
    "    # Zero the gradients before running the backward pass.\n",
    "    model.zero_grad()\n",
    "    \n",
    "    # Backward pass: compute gradient of the loss with respect to all the learnable Variables\n",
    "    loss.backward()\n",
    "    \n",
    "    # Update the weights using gradient descent\n",
    "    for param in model.parameters():\n",
    "        param.data -= learning_rate * param.grad.data"
   ]
  },
  {
   "cell_type": "code",
   "execution_count": 34,
   "metadata": {
    "collapsed": false
   },
   "outputs": [
    {
     "data": {
      "text/plain": [
       "<matplotlib.collections.PathCollection at 0x7f3394141ba8>"
      ]
     },
     "execution_count": 34,
     "metadata": {},
     "output_type": "execute_result"
    },
    {
     "data": {
      "image/png": "[encoded data removed]",
      "text/plain": [
       "<matplotlib.figure.Figure at 0x7f339414a390>"
      ]
     },
     "metadata": {},
     "output_type": "display_data"
    }
   ],
   "source": [
    "# Plot summed error as a function of iteration\n",
    "plt.scatter(iterations, errors)"
   ]
  },
  {
   "cell_type": "code",
   "execution_count": 35,
   "metadata": {
    "collapsed": false
   },
   "outputs": [],
   "source": [
    "# Get rid of the 2nd dimension of 1 from the FloatTensor\n",
    "y_pred_resized = y_pred.resize(8253)\n",
    "\n",
    "\n",
    "# Make the FloatTensor into a numpy.array\n",
    "y_pred_array = y_pred_resized.data.numpy()\n",
    "\n",
    "\n",
    "# Make the numpy.array into a list\n",
    "y_pred_list = y_pred_array.tolist()"
   ]
  },
  {
   "cell_type": "code",
   "execution_count": 36,
   "metadata": {
    "collapsed": false
   },
   "outputs": [
    {
     "data": {
      "text/plain": [
       "[<matplotlib.lines.Line2D at 0x7f339c2540b8>]"
      ]
     },
     "execution_count": 36,
     "metadata": {},
     "output_type": "execute_result"
    },
    {
     "data": {
      "image/png": "[encoded data removed]",
      "text/plain": [
       "<matplotlib.figure.Figure at 0x7f339c254da0>"
      ]
     },
     "metadata": {},
     "output_type": "display_data"
    }
   ],
   "source": [
    "# Plot predictions versus training set outcomes\n",
    "plt.scatter(outcomes_list, y_pred_list)\n",
    "\n",
    "axes = plt.gca()\n",
    "\n",
    "axes.set_xlim([-2, 4])\n",
    "\n",
    "axes.set_ylim([-2, 4])\n",
    "\n",
    "plt.plot([-2, 4], [-2, 4], 'k-', lw=2)"
   ]
  },
  {
   "cell_type": "markdown",
   "metadata": {},
   "source": [
    "### Round 2.1: Validation Set Performance"
   ]
  },
  {
   "cell_type": "code",
   "execution_count": 37,
   "metadata": {
    "collapsed": false
   },
   "outputs": [
    {
     "data": {
      "text/plain": [
       "Variable containing:\n",
       " 268.5342\n",
       "[torch.FloatTensor of size 1]"
      ]
     },
     "execution_count": 37,
     "metadata": {},
     "output_type": "execute_result"
    }
   ],
   "source": [
    "# Get the validation set predictions\n",
    "y_valid_pred = model(valid_predictors_Variable)\n",
    "\n",
    "\n",
    "# Print the loss\n",
    "loss_fn(y_valid_pred,\n",
    "        valid_outcomes_Variable)"
   ]
  },
  {
   "cell_type": "code",
   "execution_count": 38,
   "metadata": {
    "collapsed": false
   },
   "outputs": [],
   "source": [
    "# Get rid of the 2nd dimension of 1 from the FloatTensor\n",
    "y_valid_pred_resized = y_valid_pred.resize(2741)\n",
    "\n",
    "\n",
    "# Make the FloatTensor into a numpy.array\n",
    "y_valid_pred_array = y_valid_pred_resized.data.numpy()\n",
    "\n",
    "\n",
    "# Make the numpy.array into a list\n",
    "y_valid_pred_list = y_valid_pred_array.tolist()"
   ]
  },
  {
   "cell_type": "code",
   "execution_count": 39,
   "metadata": {
    "collapsed": false
   },
   "outputs": [
    {
     "data": {
      "text/plain": [
       "[<matplotlib.lines.Line2D at 0x7f339407edd8>]"
      ]
     },
     "execution_count": 39,
     "metadata": {},
     "output_type": "execute_result"
    },
    {
     "data": {
      "image/png": "[encoded data removed]",
      "text/plain": [
       "<matplotlib.figure.Figure at 0x7f339407ebe0>"
      ]
     },
     "metadata": {},
     "output_type": "display_data"
    }
   ],
   "source": [
    "# Plot new predictions versus new data outcomes\n",
    "plt.scatter(valid_outcomes_list, y_valid_pred_list)\n",
    "\n",
    "axes = plt.gca()\n",
    "\n",
    "axes.set_xlim([-2, 4])\n",
    "\n",
    "axes.set_ylim([-2, 4])\n",
    "\n",
    "plt.plot([-2, 4], [-2, 4], 'k-', lw=2)"
   ]
  },
  {
   "cell_type": "markdown",
   "metadata": {},
   "source": [
    "### Round 2.2: Test Set Performance"
   ]
  },
  {
   "cell_type": "code",
   "execution_count": 40,
   "metadata": {
    "collapsed": false
   },
   "outputs": [
    {
     "data": {
      "text/plain": [
       "Variable containing:\n",
       " 280.0412\n",
       "[torch.FloatTensor of size 1]"
      ]
     },
     "execution_count": 40,
     "metadata": {},
     "output_type": "execute_result"
    }
   ],
   "source": [
    "# Get the validation set predictions\n",
    "y_test_pred = model(test_predictors_Variable)\n",
    "\n",
    "\n",
    "# Print the loss\n",
    "loss_fn(y_test_pred,\n",
    "        test_outcomes_Variable)"
   ]
  },
  {
   "cell_type": "code",
   "execution_count": 41,
   "metadata": {
    "collapsed": true
   },
   "outputs": [],
   "source": [
    "# Get rid of the 2nd dimension of 1 from the FloatTensor\n",
    "y_test_pred_resized = y_test_pred.resize(2683)\n",
    "\n",
    "\n",
    "# Make the FloatTensor into a numpy.array\n",
    "y_test_pred_array = y_test_pred_resized.data.numpy()\n",
    "\n",
    "\n",
    "# Convert back to native units and scale\n",
    "y_test_pred_array = y_test_pred_array*5.409956 + 7.691221\n",
    "\n",
    "\n",
    "# Make the numpy.array into a list\n",
    "y_test_pred_list = y_test_pred_array.tolist()"
   ]
  },
  {
   "cell_type": "code",
   "execution_count": 42,
   "metadata": {
    "collapsed": false
   },
   "outputs": [
    {
     "data": {
      "text/plain": [
       "<matplotlib.text.Text at 0x7f3394240ac8>"
      ]
     },
     "execution_count": 42,
     "metadata": {},
     "output_type": "execute_result"
    },
    {
     "data": {
      "image/png": "[encoded data removed]",
      "text/plain": [
       "<matplotlib.figure.Figure at 0x7f339420ce48>"
      ]
     },
     "metadata": {},
     "output_type": "display_data"
    }
   ],
   "source": [
    "# Plot new predictions versus new data outcomes\n",
    "plt.scatter(test_outcomes_list, y_test_pred_list)\n",
    "\n",
    "axes = plt.gca()\n",
    "\n",
    "axes.set_xlim([2, 23])\n",
    "\n",
    "axes.set_ylim([2, 23])\n",
    "\n",
    "axes.set_xticks([2, 5, 8, 11, 14, 17, 20, 23])\n",
    "\n",
    "axes.set_yticks([2, 5, 8, 11, 14, 17, 20, 23])\n",
    "\n",
    "plt.plot([2, 23], [2, 23], 'k-', lw=2)\n",
    "\n",
    "axes.set_xlabel(\"Actual Outcome (Log-Transformed US Dollars)\")\n",
    "\n",
    "axes.set_ylabel(\"Model Prediction (Log-Transformed US Dollars)\")\n",
    "\n",
    "axes.set_title(\"Model Performance\")"
   ]
  },
  {
   "cell_type": "code",
   "execution_count": 43,
   "metadata": {
    "collapsed": false
   },
   "outputs": [
    {
     "data": {
      "text/plain": [
       "Parameter containing:\n",
       "\n",
       "Columns 0 to 9 \n",
       " 0.1246  0.1237 -0.1276  0.1824 -0.3105  0.0245  0.2178 -0.1192  0.1210 -0.1065\n",
       " 0.0524 -0.0357 -0.0074  0.0921 -0.1488 -0.0123  0.0971  0.0503 -0.0334 -0.0016\n",
       " 0.0048  0.1752  0.2570  0.1947  0.2612 -0.2116  0.0099  0.1280 -0.0539 -0.1415\n",
       " 0.0304  0.1061  0.1738 -0.1076  0.0556 -0.1792  0.0548 -0.0730  0.1200 -0.2108\n",
       "-0.1714  0.1097 -0.0286 -0.0132  0.1542  0.0353 -0.0810  0.0284  0.0027  0.0909\n",
       " 0.3320 -0.0607 -0.0962  0.0518  0.0349  0.0271 -0.1049  0.0661  0.0718  0.0747\n",
       " 0.0999  0.0188  0.1140  0.2458 -0.1557 -0.1916 -0.0192 -0.0521 -0.0722 -0.0804\n",
       " 0.0246 -0.0050 -0.2387 -0.0999  0.0982  0.0767 -0.0372 -0.0179 -0.0029 -0.0486\n",
       "-0.0876  0.2364  0.2292  0.0508  0.1012 -0.1939  0.0566 -0.2726  0.0989  0.1289\n",
       " 0.1246 -0.1798 -0.0561  0.1980  0.1808  0.0694  0.1148  0.1642  0.0312  0.2224\n",
       " 0.0311  0.1099 -0.0523  0.1074 -0.0358 -0.1719 -0.0866  0.0461  0.0292  0.0675\n",
       "-0.0989 -0.0043  0.2319 -0.1169 -0.0118  0.0067 -0.0428  0.1033  0.0275  0.0017\n",
       "-0.0902 -0.0948  0.0746 -0.0370  0.0736 -0.0331  0.2346  0.0602  0.0690 -0.0609\n",
       " 0.1962 -0.1911 -0.0421  0.0837 -0.0041  0.0788  0.0751 -0.1605  0.0050 -0.0943\n",
       "-0.0580  0.0535 -0.0486  0.1125  0.1074  0.0375 -0.0375  0.0207  0.1929 -0.0369\n",
       " 0.0574  0.2353 -0.0177  0.1281 -0.0267  0.0440  0.1195 -0.1317  0.0744  0.0601\n",
       "-0.0115  0.2464 -0.0654 -0.0995  0.0652  0.1010 -0.0825  0.1256  0.1323  0.0539\n",
       " 0.0275 -0.2029 -0.0608 -0.0148 -0.0849 -0.0630  0.0518  0.0410  0.1367  0.0651\n",
       " 0.1560 -0.0469  0.0790 -0.0873  0.1091  0.1326 -0.0896  0.0386 -0.1031 -0.0573\n",
       "-0.2030  0.1549 -0.1433  0.2017  0.0301 -0.0080  0.0079  0.0807 -0.0822  0.0257\n",
       "-0.1826 -0.0427 -0.0588  0.0729 -0.2233 -0.2106 -0.0905 -0.0441  0.1386  0.0333\n",
       "\n",
       "Columns 10 to 19 \n",
       "-0.0698 -0.0244  0.0294  0.1151 -0.0651 -0.0555 -0.0668 -0.0272  0.0424 -0.0424\n",
       " 0.1174  0.1225 -0.1137 -0.0535  0.0922 -0.1210 -0.0067 -0.0796 -0.0251 -0.0558\n",
       " 0.1794 -0.1342  0.0749 -0.1995  0.0409  0.0293  0.0397 -0.0373 -0.0254 -0.0088\n",
       "-0.0914 -0.0536  0.0030 -0.0412 -0.0406 -0.0392 -0.0996  0.1168  0.0441  0.1018\n",
       " 0.0428  0.0990 -0.0665 -0.1677 -0.0658 -0.1331 -0.0629  0.0977 -0.1238  0.0677\n",
       " 0.0492  0.0127 -0.0259  0.2186 -0.1401  0.0081  0.0108 -0.0101  0.0840 -0.0108\n",
       "-0.0295 -0.2156  0.0730  0.0031  0.1695 -0.1003 -0.1761 -0.1296 -0.1335 -0.0431\n",
       "-0.0975 -0.1137  0.0003  0.1044 -0.0385 -0.0093  0.1741  0.1378 -0.1458  0.1805\n",
       " 0.0503 -0.0046 -0.0153  0.0348  0.0500 -0.2122 -0.0471 -0.1070 -0.0321 -0.0948\n",
       "-0.1332  0.0411  0.2693 -0.1085  0.0054  0.0923  0.0723 -0.1981  0.0754  0.0660\n",
       " 0.0697  0.0214 -0.0633  0.0681 -0.0641  0.2044 -0.1621 -0.0242  0.1838 -0.1238\n",
       " 0.1267  0.0334 -0.1403  0.0171  0.0285 -0.0043  0.1027 -0.1135  0.1504  0.1764\n",
       " 0.1468 -0.1144 -0.2435 -0.0799 -0.0887 -0.1972 -0.1040  0.0010 -0.0788  0.1658\n",
       " 0.0062  0.0634 -0.1078 -0.0073  0.1664 -0.0038 -0.0681  0.1980 -0.0172 -0.1014\n",
       "-0.0896  0.1209 -0.1080  0.0461  0.0626  0.0120  0.1856  0.1115 -0.0964 -0.0312\n",
       " 0.0603  0.0285  0.0334  0.0661 -0.0227  0.1545  0.0815  0.0323  0.0363 -0.0431\n",
       " 0.0151 -0.0193 -0.1331 -0.1975  0.0655  0.0459 -0.0524  0.0968 -0.0594  0.1941\n",
       "-0.0125 -0.0477  0.1121 -0.1576 -0.0019 -0.0195  0.1251 -0.0170 -0.0453  0.1862\n",
       "-0.0835  0.0364 -0.0837  0.0252 -0.0131 -0.1415  0.1682  0.0401  0.0433 -0.1598\n",
       " 0.0323 -0.0116  0.1298  0.0534 -0.0925  0.0347 -0.0835  0.0400 -0.1116  0.1306\n",
       "-0.0962  0.0146  0.0668 -0.0901 -0.0076  0.0441  0.0824  0.0724  0.0816  0.0556\n",
       "\n",
       "Columns 20 to 29 \n",
       " 0.1779 -0.0305 -0.1632  0.0088  0.0187  0.0080  0.1527 -0.0252 -0.1039 -0.1603\n",
       "-0.0693  0.0302 -0.2610 -0.0946  0.1628  0.0794 -0.2158  0.0658 -0.0104  0.0116\n",
       "-0.0251 -0.1092 -0.0260  0.0102  0.2221  0.0275 -0.0289 -0.0221  0.0218 -0.0966\n",
       " 0.0870  0.1459  0.1751 -0.2489 -0.0871  0.0763 -0.0135  0.0218  0.0440  0.1619\n",
       "-0.0968 -0.2092  0.1348 -0.1532  0.0429  0.1076 -0.0727 -0.0557 -0.1542 -0.0759\n",
       " 0.1033  0.1315  0.0871 -0.0956 -0.1372 -0.0821  0.0540  0.0100 -0.0269  0.0623\n",
       "-0.0125  0.1022 -0.0900  0.1510 -0.1811  0.1679  0.0198 -0.0968 -0.0796 -0.0610\n",
       " 0.1242  0.1683  0.0617 -0.0860 -0.0424 -0.1512  0.0359  0.0646 -0.1206  0.0888\n",
       "-0.0372 -0.0818  0.0750  0.1558  0.0185  0.0963  0.3199  0.0477  0.0652 -0.0415\n",
       " 0.0046 -0.0289 -0.0577 -0.1179  0.1557  0.1142 -0.0020 -0.0360 -0.2307  0.2028\n",
       "-0.0676  0.0781  0.1125  0.0398  0.1738  0.1148  0.1108 -0.1045  0.0258  0.0741\n",
       " 0.0841  0.1172  0.1173 -0.0441  0.0102 -0.0751 -0.0884 -0.2096 -0.1392 -0.2588\n",
       " 0.0387 -0.1299 -0.0923  0.0983 -0.1649  0.0754 -0.1197 -0.0686 -0.0967  0.0973\n",
       " 0.0728  0.1810  0.0782  0.2332 -0.0339 -0.1691  0.1109 -0.1161  0.0442 -0.1224\n",
       "-0.0811 -0.0630  0.0376 -0.0445  0.1799 -0.0520 -0.0337  0.0315 -0.1436  0.1564\n",
       "-0.2046 -0.1812  0.1088 -0.0742  0.1650 -0.0488 -0.0506 -0.0275  0.1967  0.0106\n",
       " 0.1154 -0.1205 -0.0325 -0.0998  0.0076  0.0897 -0.1332  0.0386 -0.0546 -0.1817\n",
       "-0.1316 -0.0107  0.2720  0.1610  0.0113  0.1391  0.0756 -0.1523 -0.1347 -0.1503\n",
       "-0.1226 -0.0045  0.0153 -0.0098  0.0697  0.0297  0.2239 -0.2022  0.0801 -0.0794\n",
       "-0.0211  0.0400  0.2257 -0.0836 -0.0619  0.0628  0.0984 -0.0226  0.0436  0.0332\n",
       " 0.1715 -0.0559 -0.0979  0.0611 -0.0601  0.0355 -0.0500  0.1115  0.0936  0.1008\n",
       "\n",
       "Columns 30 to 31 \n",
       " 0.1297 -0.1649\n",
       " 0.0248  0.0254\n",
       "-0.0501 -0.0548\n",
       "-0.0384 -0.0068\n",
       " 0.1192  0.0134\n",
       "-0.0295 -0.2161\n",
       "-0.1683  0.0019\n",
       " 0.0112 -0.0875\n",
       " 0.1484  0.1016\n",
       "-0.0175 -0.0043\n",
       "-0.1108  0.2296\n",
       "-0.0810  0.1535\n",
       " 0.0503 -0.0520\n",
       " 0.0655  0.0441\n",
       " 0.2706 -0.0411\n",
       " 0.0954 -0.0290\n",
       " 0.0291 -0.1540\n",
       "-0.1330  0.0750\n",
       "-0.1407  0.0911\n",
       "-0.1310  0.1017\n",
       "-0.0228 -0.1995\n",
       "[torch.FloatTensor of size 21x32]"
      ]
     },
     "execution_count": 43,
     "metadata": {},
     "output_type": "execute_result"
    }
   ],
   "source": [
    "model[(0)].weight"
   ]
  },
  {
   "cell_type": "code",
   "execution_count": 44,
   "metadata": {
    "collapsed": false
   },
   "outputs": [
    {
     "data": {
      "text/plain": [
       "Parameter containing:\n",
       "\n",
       "Columns 0 to 9 \n",
       "-0.1203 -0.1951  0.1583 -0.1558 -0.0430 -0.0640  0.0437 -0.1360 -0.0395 -0.0732\n",
       "-0.0387  0.1164  0.1614  0.2185 -0.0462 -0.1638 -0.0442  0.1207  0.0054  0.2929\n",
       "-0.3807  0.0523  0.0156  0.0910 -0.0328  0.2293 -0.0379 -0.1551  0.0609  0.0175\n",
       "-0.1249  0.0916 -0.1750 -0.0702 -0.1113 -0.1726  0.0802  0.1454  0.1243 -0.0787\n",
       "-0.0410 -0.1224 -0.0887 -0.0640  0.0456 -0.3531  0.0079  0.0250  0.0772  0.1830\n",
       " 0.0691  0.1957  0.1424 -0.0618  0.2746 -0.0814 -0.0323  0.0930 -0.2563  0.1669\n",
       " 0.0797 -0.3069  0.1237 -0.0205 -0.1619 -0.0565 -0.1099 -0.1909  0.2155  0.1892\n",
       "-0.0815 -0.1074  0.1647  0.0311 -0.1961 -0.1772 -0.1251  0.0920  0.0817 -0.0044\n",
       "-0.1273 -0.0920  0.2189 -0.0902  0.1527 -0.1797  0.0755  0.2500 -0.0897 -0.1926\n",
       "-0.1020  0.1807  0.2648  0.0766  0.0968  0.0521 -0.2712  0.1451 -0.2194  0.1450\n",
       "-0.1281 -0.0855  0.2543  0.1204 -0.0179  0.0929 -0.1806 -0.1162 -0.0705  0.0631\n",
       " 0.0067 -0.1648 -0.1717 -0.1346 -0.1206 -0.1284  0.1061 -0.2027 -0.0197 -0.1976\n",
       " 0.2302  0.1302 -0.0021  0.0558 -0.0883 -0.0663  0.1887  0.0217 -0.1617 -0.0980\n",
       " 0.0766  0.0430 -0.2620  0.0955  0.0060  0.1114  0.0593  0.1989  0.2952 -0.2177\n",
       "\n",
       "Columns 10 to 19 \n",
       "-0.0649 -0.0716 -0.1663 -0.2162 -0.1726 -0.1997  0.2101 -0.1096 -0.1269  0.0590\n",
       " 0.1955  0.1592 -0.0460  0.0750 -0.2030 -0.0345 -0.1364  0.0065 -0.2274  0.1938\n",
       " 0.2372 -0.2552  0.1888  0.2184 -0.0278 -0.2365  0.0087 -0.0239 -0.0466  0.1605\n",
       "-0.0596 -0.1213 -0.1882 -0.0556 -0.1243 -0.0635  0.1805  0.1971 -0.0202  0.0476\n",
       " 0.0191  0.0453 -0.1487  0.1382  0.2165 -0.0247 -0.2134 -0.0220  0.1188 -0.0680\n",
       " 0.2607 -0.0949  0.2561 -0.0431  0.2045  0.0843  0.0719 -0.1275 -0.1610 -0.1000\n",
       " 0.0047 -0.1430  0.0108  0.1962  0.1720  0.0854  0.2583  0.3234 -0.0007  0.0462\n",
       " 0.1203  0.0276 -0.0118  0.0467 -0.1974  0.2523 -0.0850 -0.0103 -0.1662  0.1083\n",
       " 0.1111 -0.1742  0.2987 -0.0681 -0.0403 -0.1041 -0.2247 -0.1318 -0.2542 -0.1459\n",
       " 0.0455 -0.1956  0.0552  0.0898  0.1691 -0.0210 -0.1623 -0.2207  0.1771  0.1607\n",
       "-0.1056 -0.1243  0.2483 -0.0178  0.3040  0.1430  0.1473 -0.1129  0.0775  0.1679\n",
       " 0.2066  0.1024 -0.0613 -0.0515  0.0681 -0.0580  0.2117 -0.0351 -0.0283 -0.0865\n",
       "-0.0172 -0.0607 -0.0338 -0.1040  0.0222 -0.1115 -0.2174  0.2023 -0.1508  0.1299\n",
       " 0.1836  0.0521  0.0156 -0.0883  0.1581 -0.2232  0.1300  0.1465 -0.2104  0.0185\n",
       "\n",
       "Columns 20 to 20 \n",
       "-0.1351\n",
       "-0.1177\n",
       " 0.0563\n",
       "-0.0818\n",
       "-0.0429\n",
       " 0.2560\n",
       "-0.0223\n",
       "-0.0129\n",
       "-0.1651\n",
       " 0.1426\n",
       "-0.0083\n",
       "-0.0326\n",
       " 0.3227\n",
       " 0.0860\n",
       "[torch.FloatTensor of size 14x21]"
      ]
     },
     "execution_count": 44,
     "metadata": {},
     "output_type": "execute_result"
    }
   ],
   "source": [
    "model[(2)].weight"
   ]
  },
  {
   "cell_type": "code",
   "execution_count": 45,
   "metadata": {
    "collapsed": false
   },
   "outputs": [
    {
     "data": {
      "text/plain": [
       "Parameter containing:\n",
       "\n",
       "Columns 0 to 9 \n",
       " 0.1359  0.2150  0.4575  0.0591 -0.2736 -0.5167  0.4998 -0.3196 -0.2639  0.3152\n",
       "\n",
       "Columns 10 to 13 \n",
       " 0.4292  0.0165  0.4663  0.5136\n",
       "[torch.FloatTensor of size 1x14]"
      ]
     },
     "execution_count": 45,
     "metadata": {},
     "output_type": "execute_result"
    }
   ],
   "source": [
    "model[(4)].weight"
   ]
  },
  {
   "cell_type": "markdown",
   "metadata": {},
   "source": [
    "## Round 3: Three-Hidden-Layers Neural Network"
   ]
  },
  {
   "cell_type": "code",
   "execution_count": 46,
   "metadata": {
    "collapsed": true
   },
   "outputs": [],
   "source": [
    "# Make the torch Tensor into a PyTorch Variable for dependent variables\n",
    "outcomes_Variable = Variable(outcomes_Tensor)\n",
    "\n",
    "\n",
    "# ...for independent variables\n",
    "features_Variable = Variable(features_Tensor,\n",
    "                             requires_grad = False)"
   ]
  },
  {
   "cell_type": "code",
   "execution_count": 47,
   "metadata": {
    "collapsed": false
   },
   "outputs": [],
   "source": [
    "# Make the neural network\n",
    "model = torch.nn.Sequential(torch.nn.Linear(32, 21),\n",
    "                            torch.nn.ReLU(),\n",
    "                            torch.nn.Linear(21, 14),\n",
    "                            torch.nn.ReLU(),\n",
    "                            torch.nn.Linear(14, 9),\n",
    "                            torch.nn.ReLU(),\n",
    "                            torch.nn.Linear(9, 1))"
   ]
  },
  {
   "cell_type": "code",
   "execution_count": 48,
   "metadata": {
    "collapsed": false
   },
   "outputs": [],
   "source": [
    "# To add errors to\n",
    "errors = []\n",
    "\n",
    "\n",
    "# Set the learning rate\n",
    "learning_rate = 5e-6\n",
    "\n",
    "\n",
    "# Train the neural network\n",
    "for t in range(10000):\n",
    "    \n",
    "    # Get the current predictions\n",
    "    y_pred = model(features_Variable)\n",
    "    \n",
    "    # Compute and append current summed errors\n",
    "    loss = loss_fn(y_pred, outcomes_Variable)\n",
    "    errors.append(loss.data[0])\n",
    "    \n",
    "    # Zero the gradients before running the backward pass.\n",
    "    model.zero_grad()\n",
    "    \n",
    "    # Backward pass: compute gradient of the loss with respect to all the learnable Variables\n",
    "    loss.backward()\n",
    "    \n",
    "    # Update the weights using gradient descent\n",
    "    for param in model.parameters():\n",
    "        param.data -= learning_rate * param.grad.data"
   ]
  },
  {
   "cell_type": "code",
   "execution_count": 49,
   "metadata": {
    "collapsed": false
   },
   "outputs": [
    {
     "data": {
      "text/plain": [
       "<matplotlib.collections.PathCollection at 0x7f338d682240>"
      ]
     },
     "execution_count": 49,
     "metadata": {},
     "output_type": "execute_result"
    },
    {
     "data": {
      "image/png": "[encoded data removed]",
      "text/plain": [
       "<matplotlib.figure.Figure at 0x7f338d70a7b8>"
      ]
     },
     "metadata": {},
     "output_type": "display_data"
    }
   ],
   "source": [
    "# Plot summed error as a function of iteration\n",
    "plt.scatter(iterations, errors)"
   ]
  },
  {
   "cell_type": "code",
   "execution_count": 50,
   "metadata": {
    "collapsed": true
   },
   "outputs": [],
   "source": [
    "# Get rid of the 2nd dimension of 1 from the FloatTensor\n",
    "y_pred_resized = y_pred.resize(8253)\n",
    "\n",
    "\n",
    "# Make the FloatTensor into a numpy.array\n",
    "y_pred_array = y_pred_resized.data.numpy()\n",
    "\n",
    "\n",
    "# Make the numpy.array into a list\n",
    "y_pred_list = y_pred_array.tolist()"
   ]
  },
  {
   "cell_type": "code",
   "execution_count": 51,
   "metadata": {
    "collapsed": false
   },
   "outputs": [
    {
     "data": {
      "text/plain": [
       "[<matplotlib.lines.Line2D at 0x7f338d72cf60>]"
      ]
     },
     "execution_count": 51,
     "metadata": {},
     "output_type": "execute_result"
    },
    {
     "data": {
      "image/png": "[encoded data removed]",
      "text/plain": [
       "<matplotlib.figure.Figure at 0x7f338d72ca20>"
      ]
     },
     "metadata": {},
     "output_type": "display_data"
    }
   ],
   "source": [
    "# Plot predictions versus training set outcomes\n",
    "plt.scatter(outcomes_list, y_pred_list)\n",
    "\n",
    "axes = plt.gca()\n",
    "\n",
    "axes.set_xlim([-2, 4])\n",
    "\n",
    "axes.set_ylim([-2, 4])\n",
    "\n",
    "plt.plot([-2, 4], [-2, 4], 'k-', lw=2)"
   ]
  },
  {
   "cell_type": "markdown",
   "metadata": {},
   "source": [
    "### Round 3.1: Validation Set Performance"
   ]
  },
  {
   "cell_type": "code",
   "execution_count": 52,
   "metadata": {
    "collapsed": false
   },
   "outputs": [
    {
     "data": {
      "text/plain": [
       "Variable containing:\n",
       " 282.0818\n",
       "[torch.FloatTensor of size 1]"
      ]
     },
     "execution_count": 52,
     "metadata": {},
     "output_type": "execute_result"
    }
   ],
   "source": [
    "# Get the validation set predictions\n",
    "y_valid_pred = model(valid_predictors_Variable)\n",
    "\n",
    "\n",
    "# Print the loss\n",
    "loss_fn(y_valid_pred,\n",
    "        valid_outcomes_Variable)"
   ]
  },
  {
   "cell_type": "code",
   "execution_count": 53,
   "metadata": {
    "collapsed": false
   },
   "outputs": [],
   "source": [
    "# Get rid of the 2nd dimension of 1 from the FloatTensor\n",
    "y_valid_pred_resized = y_valid_pred.resize(2741)\n",
    "\n",
    "\n",
    "# Make the FloatTensor into a numpy.array\n",
    "y_valid_pred_array = y_valid_pred_resized.data.numpy()\n",
    "\n",
    "\n",
    "# Make the numpy.array into a list\n",
    "y_valid_pred_list = y_valid_pred_array.tolist()"
   ]
  },
  {
   "cell_type": "code",
   "execution_count": 54,
   "metadata": {
    "collapsed": false
   },
   "outputs": [
    {
     "data": {
      "text/plain": [
       "[<matplotlib.lines.Line2D at 0x7f338d59ee80>]"
      ]
     },
     "execution_count": 54,
     "metadata": {},
     "output_type": "execute_result"
    },
    {
     "data": {
      "image/png": "[encoded data removed]",
      "text/plain": [
       "<matplotlib.figure.Figure at 0x7f338d669ef0>"
      ]
     },
     "metadata": {},
     "output_type": "display_data"
    }
   ],
   "source": [
    "# Plot new predictions versus new data outcomes\n",
    "plt.scatter(valid_outcomes_list, y_valid_pred_list)\n",
    "\n",
    "axes = plt.gca()\n",
    "\n",
    "axes.set_xlim([-2, 4])\n",
    "\n",
    "axes.set_ylim([-2, 4])\n",
    "\n",
    "plt.plot([-2, 4], [-2, 4], 'k-', lw=2)"
   ]
  },
  {
   "cell_type": "markdown",
   "metadata": {},
   "source": [
    "### Round 3.2: Test Set Performance"
   ]
  },
  {
   "cell_type": "code",
   "execution_count": 55,
   "metadata": {
    "collapsed": false
   },
   "outputs": [
    {
     "data": {
      "text/plain": [
       "Variable containing:\n",
       " 280.9003\n",
       "[torch.FloatTensor of size 1]"
      ]
     },
     "execution_count": 55,
     "metadata": {},
     "output_type": "execute_result"
    }
   ],
   "source": [
    "# Get the validation set predictions\n",
    "y_test_pred = model(test_predictors_Variable)\n",
    "\n",
    "\n",
    "# Print the loss\n",
    "loss_fn(y_test_pred,\n",
    "        test_outcomes_Variable)"
   ]
  },
  {
   "cell_type": "code",
   "execution_count": 56,
   "metadata": {
    "collapsed": true
   },
   "outputs": [],
   "source": [
    "# Get rid of the 2nd dimension of 1 from the FloatTensor\n",
    "y_test_pred_resized = y_test_pred.resize(2683)\n",
    "\n",
    "\n",
    "# Make the FloatTensor into a numpy.array\n",
    "y_test_pred_array = y_test_pred_resized.data.numpy()\n",
    "\n",
    "\n",
    "# Convert back to native units and scale\n",
    "y_test_pred_array = y_test_pred_array*5.409956 + 7.691221\n",
    "\n",
    "\n",
    "# Make the numpy.array into a list\n",
    "y_test_pred_list = y_test_pred_array.tolist()"
   ]
  },
  {
   "cell_type": "code",
   "execution_count": 57,
   "metadata": {
    "collapsed": false
   },
   "outputs": [
    {
     "data": {
      "text/plain": [
       "<matplotlib.text.Text at 0x7f338d503860>"
      ]
     },
     "execution_count": 57,
     "metadata": {},
     "output_type": "execute_result"
    },
    {
     "data": {
      "image/png": "[encoded data removed]",
      "text/plain": [
       "<matplotlib.figure.Figure at 0x7f338d72c978>"
      ]
     },
     "metadata": {},
     "output_type": "display_data"
    }
   ],
   "source": [
    "# Plot new predictions versus new data outcomes\n",
    "plt.scatter(test_outcomes_list, y_test_pred_list)\n",
    "\n",
    "axes = plt.gca()\n",
    "\n",
    "axes.set_xlim([2, 23])\n",
    "\n",
    "axes.set_ylim([2, 23])\n",
    "\n",
    "axes.set_xticks([2, 5, 8, 11, 14, 17, 20, 23])\n",
    "\n",
    "axes.set_yticks([2, 5, 8, 11, 14, 17, 20, 23])\n",
    "\n",
    "plt.plot([2, 23], [2, 23], 'k-', lw=2)\n",
    "\n",
    "axes.set_xlabel(\"Actual Outcome (Log-Transformed US Dollars)\")\n",
    "\n",
    "axes.set_ylabel(\"Model Prediction (Log-Transformed US Dollars)\")\n",
    "\n",
    "axes.set_title(\"Model Performance\")"
   ]
  },
  {
   "cell_type": "code",
   "execution_count": 58,
   "metadata": {
    "collapsed": false
   },
   "outputs": [
    {
     "data": {
      "text/plain": [
       "Parameter containing:\n",
       "\n",
       "Columns 0 to 9 \n",
       " 0.1247 -0.1013  0.2064  0.1346 -0.0900 -0.1913 -0.1061 -0.0090 -0.0741  0.1327\n",
       " 0.2249  0.0494  0.0117  0.1644  0.0893 -0.1494 -0.0260 -0.0387  0.0314 -0.0184\n",
       " 0.0391 -0.2268  0.1651  0.0263  0.0386  0.0618  0.1535 -0.0208 -0.0665 -0.1959\n",
       " 0.0916 -0.0158  0.0578 -0.2183 -0.1439  0.1626  0.0758 -0.0029 -0.0876 -0.0238\n",
       " 0.2243  0.0154 -0.1219 -0.0228  0.0302 -0.1536  0.1265  0.1265 -0.0039  0.0821\n",
       " 0.1090  0.0431  0.1289  0.1498  0.0127 -0.1714 -0.0953 -0.0108 -0.2396  0.1186\n",
       "-0.0195 -0.1625 -0.1497  0.0372  0.0978 -0.0018 -0.0931  0.0379 -0.0505  0.0860\n",
       " 0.0702  0.0916  0.1693  0.0855  0.2132 -0.1369 -0.1393  0.0466  0.1137  0.0685\n",
       "-0.1157  0.1441 -0.2033  0.0464  0.0109 -0.0855 -0.0359  0.0506 -0.0978 -0.0897\n",
       "-0.0967 -0.2122  0.0276  0.3287 -0.3037 -0.1712  0.0766 -0.0024 -0.0213 -0.0010\n",
       "-0.1055  0.0046  0.0045 -0.1703 -0.1386 -0.2322  0.2056  0.0288 -0.0218  0.0994\n",
       " 0.2972 -0.1954  0.0193  0.1240  0.0670  0.0631  0.0324 -0.0522  0.0445  0.0681\n",
       "-0.0703  0.0175  0.1549  0.2141  0.0200  0.0754  0.0473 -0.1211  0.0167  0.1427\n",
       "-0.0022  0.0957 -0.0970 -0.0911 -0.0745  0.0461  0.0207  0.1538 -0.0174 -0.0027\n",
       "-0.0577 -0.0499 -0.0442  0.1709 -0.0192 -0.0974 -0.1125 -0.0546  0.0685 -0.0161\n",
       "-0.1890  0.1120 -0.1029  0.2025  0.1695 -0.0553  0.1758  0.0584  0.0365  0.0272\n",
       "-0.1059  0.1489 -0.2009 -0.1109 -0.2475 -0.0712  0.0719  0.1910 -0.1312 -0.0854\n",
       " 0.0700 -0.1091  0.2062 -0.1141 -0.0323  0.0659  0.0629  0.1306 -0.1256  0.0993\n",
       " 0.0280 -0.1058  0.0222  0.0718  0.0628  0.1345 -0.0038 -0.0030 -0.1413 -0.0641\n",
       "-0.1217  0.1798 -0.1548  0.2405  0.1011 -0.1071 -0.0229  0.0031 -0.0428 -0.1694\n",
       " 0.0816  0.0199 -0.0807 -0.0350 -0.0559 -0.0369 -0.0655 -0.1011  0.1169  0.0041\n",
       "\n",
       "Columns 10 to 19 \n",
       " 0.0971 -0.1364  0.0327  0.0818 -0.0719 -0.1006  0.0206 -0.1332  0.0468 -0.1026\n",
       " 0.0932 -0.1378 -0.0764  0.0460 -0.0340 -0.0318 -0.1853  0.1119  0.0122 -0.0868\n",
       "-0.0050 -0.0316  0.0133  0.0254 -0.1386  0.1490  0.0459  0.0883 -0.0570  0.0485\n",
       " 0.0089  0.0484 -0.0673  0.0285 -0.1344 -0.1468  0.0745  0.0102 -0.0245  0.0880\n",
       " 0.0965 -0.1770 -0.0602 -0.0207 -0.0749 -0.0198 -0.0916  0.1741 -0.0915 -0.1368\n",
       " 0.0546 -0.0343  0.2833 -0.0718 -0.0763 -0.1244 -0.0338 -0.1254 -0.0127  0.2122\n",
       " 0.0068  0.0900 -0.0429  0.0016  0.0215 -0.0256 -0.1499  0.0268  0.0743 -0.1289\n",
       " 0.0338  0.0348 -0.1715 -0.0094 -0.1260 -0.0593  0.1431 -0.1631  0.0789 -0.0590\n",
       "-0.1493 -0.1254 -0.1369 -0.0006  0.0285  0.1949 -0.1362 -0.1900  0.0592  0.1822\n",
       " 0.0823  0.0728 -0.0013 -0.0540 -0.0509  0.0278 -0.0172 -0.0823 -0.0488  0.0899\n",
       "-0.0235 -0.0513 -0.0580 -0.1194  0.1221 -0.1495  0.0643 -0.0707 -0.1166  0.1307\n",
       " 0.1849  0.1038 -0.0871  0.1484  0.1317  0.0634 -0.0136 -0.0656 -0.0623 -0.0268\n",
       "-0.0290  0.0333  0.0759 -0.0481  0.2459 -0.0066 -0.0091  0.0845  0.0444  0.0336\n",
       "-0.0855 -0.1534 -0.1723 -0.0333 -0.0436 -0.0682 -0.0946  0.0516  0.0348  0.0550\n",
       " 0.2235  0.1877  0.0040  0.0694  0.0215 -0.0215 -0.1051 -0.0987  0.1119  0.1800\n",
       " 0.1324  0.0667 -0.0081 -0.0016 -0.0134 -0.0309  0.0393 -0.1295 -0.0529 -0.0333\n",
       " 0.2116 -0.0719  0.0618 -0.0047  0.2259 -0.1165 -0.0896  0.0663 -0.0571 -0.2057\n",
       " 0.0441  0.2005  0.0367  0.0811  0.1699 -0.1758  0.1229 -0.0891 -0.0561 -0.1261\n",
       "-0.0610  0.1585 -0.1850  0.1567 -0.1992  0.0558 -0.0072 -0.1677 -0.0344  0.0400\n",
       "-0.0479  0.0962  0.1423 -0.0708  0.1175  0.1069 -0.1531  0.1395  0.0182  0.0821\n",
       "-0.1948  0.1448  0.1166 -0.0003 -0.0092 -0.0961  0.1492 -0.1954  0.1428  0.0060\n",
       "\n",
       "Columns 20 to 29 \n",
       "-0.1072  0.0396  0.0428  0.0722 -0.0323 -0.0338 -0.1103  0.0451  0.2712 -0.0405\n",
       " 0.0428  0.0688  0.2247  0.2599 -0.1168 -0.0178  0.0700 -0.0005  0.0889 -0.1876\n",
       "-0.0616  0.0471  0.1343 -0.0414 -0.0932  0.0823  0.0757 -0.1869  0.0432  0.1367\n",
       " 0.0975  0.0464  0.1386  0.1086  0.0104  0.0737 -0.1293 -0.1297  0.2134 -0.1016\n",
       "-0.0424 -0.0720  0.0372 -0.1060 -0.1222  0.0481  0.1630  0.1364 -0.0920  0.1008\n",
       "-0.0093  0.0159 -0.0680  0.0228  0.1204  0.1340  0.1567 -0.0288 -0.1312 -0.0200\n",
       " 0.1414  0.0255 -0.0885  0.0669 -0.0674 -0.0235  0.0075 -0.1360  0.1930 -0.0551\n",
       "-0.0700 -0.0429  0.2541  0.0437  0.1324 -0.0606  0.0014  0.0802  0.1071  0.1449\n",
       "-0.1113 -0.0664  0.0113  0.0486 -0.0459 -0.0274 -0.0571  0.1463 -0.0952  0.0352\n",
       " 0.0127  0.0424 -0.1902 -0.0889  0.0323 -0.0777 -0.0886 -0.1027 -0.1663 -0.0743\n",
       " 0.1342 -0.1208  0.0352  0.0993 -0.0381  0.0632  0.0703  0.1626  0.1327 -0.0549\n",
       " 0.0001  0.0991 -0.0652  0.1541  0.0236 -0.0429  0.0679  0.0222 -0.0944  0.0525\n",
       " 0.0214  0.1083  0.1705 -0.1426  0.1326 -0.0781  0.1491 -0.1071 -0.1922 -0.1487\n",
       "-0.2014 -0.1774  0.1944  0.1746  0.0603 -0.0027 -0.1322 -0.0663 -0.0731 -0.0651\n",
       " 0.0066  0.0908  0.0808  0.0085  0.0541 -0.0607 -0.1758  0.1019  0.1993 -0.0415\n",
       "-0.1122  0.0332  0.0929 -0.1499 -0.1666 -0.0887  0.1694  0.0108 -0.0896  0.0820\n",
       "-0.0096 -0.0621  0.0949 -0.0789  0.1281 -0.0915 -0.1642 -0.0284  0.0235 -0.0196\n",
       "-0.0054  0.1100 -0.0583  0.0951 -0.0439 -0.0456 -0.1048  0.0199 -0.0894  0.0731\n",
       " 0.0132 -0.0887 -0.1903  0.0824  0.1288  0.2043 -0.2381 -0.0366 -0.1343  0.1010\n",
       "-0.0091  0.1039 -0.0685  0.0789  0.1507 -0.0773 -0.1494  0.0160  0.0053  0.1210\n",
       " 0.1488  0.0050 -0.0047  0.1343 -0.0828 -0.1164 -0.1426 -0.0655 -0.0049 -0.0361\n",
       "\n",
       "Columns 30 to 31 \n",
       "-0.1102  0.1449\n",
       "-0.1475  0.1168\n",
       "-0.1849 -0.1389\n",
       "-0.1179  0.0276\n",
       "-0.0991  0.0811\n",
       "-0.0467  0.1550\n",
       " 0.1060 -0.1464\n",
       " 0.0110 -0.0792\n",
       "-0.0165  0.0571\n",
       "-0.1109 -0.0688\n",
       " 0.0816  0.0619\n",
       " 0.0290  0.0048\n",
       "-0.1077 -0.0985\n",
       "-0.1311  0.0883\n",
       "-0.0582  0.0891\n",
       " 0.2620 -0.0023\n",
       " 0.0393  0.0135\n",
       " 0.2881 -0.0601\n",
       " 0.0123 -0.1014\n",
       "-0.1515  0.1760\n",
       " 0.1536  0.0885\n",
       "[torch.FloatTensor of size 21x32]"
      ]
     },
     "execution_count": 58,
     "metadata": {},
     "output_type": "execute_result"
    }
   ],
   "source": [
    "model[(0)].weight"
   ]
  },
  {
   "cell_type": "code",
   "execution_count": 59,
   "metadata": {
    "collapsed": false
   },
   "outputs": [
    {
     "data": {
      "text/plain": [
       "Parameter containing:\n",
       "\n",
       "Columns 0 to 9 \n",
       "-0.1286 -0.1416 -0.0452  0.1425  0.1019 -0.1023 -0.1018 -0.2212  0.1279  0.1343\n",
       "-0.1336  0.0637  0.0822 -0.1883 -0.1039  0.1274 -0.0312  0.0071 -0.2805  0.0779\n",
       "-0.1014  0.0108  0.2119 -0.0251  0.0513 -0.1660 -0.0008  0.1321 -0.0885  0.1382\n",
       "-0.1549  0.2417  0.0923  0.1764  0.0028  0.2528  0.1186 -0.1186 -0.2290 -0.1909\n",
       " 0.0081  0.0640  0.1195  0.1498 -0.0461  0.0832 -0.0892  0.0907 -0.0286  0.0942\n",
       "-0.1175 -0.1348 -0.0761  0.1060 -0.1903  0.0061 -0.2168  0.1068  0.1165 -0.1183\n",
       " 0.0233 -0.0880  0.2048  0.2182  0.1651 -0.1518 -0.1701 -0.0988  0.0113  0.0489\n",
       "-0.3082 -0.0078 -0.0277 -0.0064 -0.0825  0.0447 -0.0749  0.2631  0.0025 -0.2168\n",
       " 0.1913  0.1158  0.2714 -0.0406 -0.1427 -0.1868  0.1022  0.1578 -0.0566  0.1162\n",
       "-0.0318  0.2385  0.0230  0.1592  0.2269  0.2838 -0.1361 -0.0042 -0.1985  0.2008\n",
       " 0.0823 -0.1679 -0.0374  0.0159  0.0527 -0.0159 -0.0101  0.1062  0.2104  0.0370\n",
       " 0.1196  0.1815  0.2710 -0.0221 -0.0449  0.1288  0.0185  0.1536 -0.0862  0.2980\n",
       "-0.0138 -0.0574 -0.2107  0.1376 -0.0798 -0.1898 -0.1662  0.2746 -0.1427 -0.0782\n",
       " 0.0729  0.2304  0.0525 -0.1576 -0.1545  0.1800  0.0490  0.1251  0.2052 -0.2344\n",
       "\n",
       "Columns 10 to 19 \n",
       " 0.2054 -0.0497  0.0327  0.1556  0.0045  0.0094  0.0497  0.0402  0.1122 -0.0943\n",
       " 0.1971 -0.0656  0.0904 -0.2122 -0.0319  0.3004  0.0202 -0.0841 -0.0389  0.0373\n",
       " 0.1162 -0.0506  0.0588 -0.1541 -0.1490 -0.0964 -0.2251 -0.0747  0.1799 -0.1792\n",
       "-0.0764  0.0664 -0.1921  0.1204  0.0244  0.2772 -0.0143 -0.0556  0.1491  0.1650\n",
       " 0.0871 -0.0097  0.1365 -0.2256 -0.2170  0.0227  0.1909  0.1390 -0.1165 -0.0455\n",
       "-0.2467 -0.1420 -0.1717  0.1763 -0.0440  0.0752  0.0659 -0.0434  0.1890 -0.1196\n",
       "-0.1897  0.0425  0.0586 -0.1914 -0.1517 -0.0796 -0.2071  0.0552  0.0490  0.1787\n",
       " 0.0023  0.1731  0.0578  0.1938 -0.3324 -0.2175 -0.0293  0.1122 -0.3080  0.1281\n",
       " 0.2025 -0.0615 -0.1129  0.1554  0.1417 -0.1784 -0.2246  0.2766 -0.0742 -0.1838\n",
       "-0.0629  0.0721  0.2775  0.1130  0.0431 -0.1978  0.2563 -0.2409  0.1287  0.0090\n",
       " 0.0273  0.1484  0.0647 -0.0967  0.1961 -0.1573 -0.2118  0.2074 -0.1519  0.2744\n",
       " 0.2455  0.1523 -0.0198  0.0439  0.2527 -0.1143  0.0048  0.0407 -0.0484  0.1033\n",
       " 0.2430 -0.0972 -0.2248  0.2183 -0.1544 -0.1755 -0.0872  0.0587  0.1358  0.1966\n",
       " 0.1783  0.1249  0.0087  0.0133  0.0237 -0.0579 -0.1883  0.0361 -0.2098  0.2321\n",
       "\n",
       "Columns 20 to 20 \n",
       " 0.1925\n",
       "-0.1024\n",
       " 0.0965\n",
       " 0.1404\n",
       " 0.1902\n",
       "-0.1211\n",
       "-0.1780\n",
       "-0.0848\n",
       " 0.0252\n",
       "-0.1791\n",
       " 0.0792\n",
       " 0.0868\n",
       " 0.0143\n",
       "-0.2315\n",
       "[torch.FloatTensor of size 14x21]"
      ]
     },
     "execution_count": 59,
     "metadata": {},
     "output_type": "execute_result"
    }
   ],
   "source": [
    "model[(2)].weight"
   ]
  },
  {
   "cell_type": "code",
   "execution_count": 60,
   "metadata": {
    "collapsed": false
   },
   "outputs": [
    {
     "data": {
      "text/plain": [
       "Parameter containing:\n",
       "\n",
       "Columns 0 to 9 \n",
       " 0.1871  0.0822  0.3095  0.1405 -0.0364 -0.1250 -0.0862 -0.0418  0.1298  0.2988\n",
       "-0.1218 -0.0582 -0.0336 -0.2672  0.0128  0.1013 -0.1544 -0.0313 -0.1560  0.0626\n",
       " 0.1824 -0.3526 -0.3203 -0.2853  0.2569 -0.1096 -0.0514 -0.3399  0.0686  0.3587\n",
       "-0.2584  0.0565 -0.0876 -0.2502  0.0343  0.1768 -0.0468  0.0579 -0.1081 -0.0590\n",
       " 0.2147 -0.0911  0.1407 -0.3030  0.2078  0.3057  0.1368 -0.2958 -0.0072  0.2072\n",
       "-0.2660 -0.0148 -0.0704  0.3187  0.1756 -0.1338 -0.1867  0.1356  0.2323 -0.1597\n",
       "-0.1682  0.0507  0.0626 -0.1792 -0.0405 -0.2117 -0.0334  0.2852 -0.3493  0.2840\n",
       "-0.2055  0.3358  0.1440  0.0410 -0.1083  0.0642  0.1195  0.2463 -0.0455  0.1789\n",
       " 0.1345 -0.2276 -0.0768 -0.2450 -0.1180 -0.0194  0.0510 -0.3385  0.2713  0.4106\n",
       "\n",
       "Columns 10 to 13 \n",
       " 0.0116  0.3774 -0.2105  0.0303\n",
       " 0.2046 -0.2241  0.0434  0.2074\n",
       " 0.3139 -0.1283 -0.1213  0.1089\n",
       "-0.0910 -0.1419 -0.0348  0.1592\n",
       " 0.2231  0.0261  0.0855 -0.1453\n",
       "-0.2464 -0.0141  0.1964  0.3557\n",
       " 0.1034  0.2042 -0.1341 -0.1545\n",
       "-0.0964  0.3782 -0.1067  0.4276\n",
       " 0.1752 -0.2059  0.0671  0.0253\n",
       "[torch.FloatTensor of size 9x14]"
      ]
     },
     "execution_count": 60,
     "metadata": {},
     "output_type": "execute_result"
    }
   ],
   "source": [
    "model[(4)].weight"
   ]
  },
  {
   "cell_type": "code",
   "execution_count": 61,
   "metadata": {
    "collapsed": false
   },
   "outputs": [
    {
     "data": {
      "text/plain": [
       "Parameter containing:\n",
       " 0.3691 -0.0675 -0.6542 -0.3023 -0.4561  0.3791  0.3694  0.5975 -0.6228\n",
       "[torch.FloatTensor of size 1x9]"
      ]
     },
     "execution_count": 61,
     "metadata": {},
     "output_type": "execute_result"
    }
   ],
   "source": [
    "model[(6)].weight"
   ]
  },
  {
   "cell_type": "markdown",
   "metadata": {},
   "source": [
    "## Round 4: Four-Hidden-Layer Neural Network"
   ]
  },
  {
   "cell_type": "code",
   "execution_count": 62,
   "metadata": {
    "collapsed": true
   },
   "outputs": [],
   "source": [
    "# Make the torch Tensor into a PyTorch Variable for dependent variables\n",
    "outcomes_Variable = Variable(outcomes_Tensor)\n",
    "\n",
    "\n",
    "# ...for independent variables\n",
    "features_Variable = Variable(features_Tensor,\n",
    "                             requires_grad = False)"
   ]
  },
  {
   "cell_type": "code",
   "execution_count": 63,
   "metadata": {
    "collapsed": true
   },
   "outputs": [],
   "source": [
    "# Make the neural network\n",
    "model = torch.nn.Sequential(torch.nn.Linear(32, 21),\n",
    "                            torch.nn.ReLU(),\n",
    "                            torch.nn.Linear(21, 14),\n",
    "                            torch.nn.ReLU(),\n",
    "                            torch.nn.Linear(14, 9),\n",
    "                            torch.nn.ReLU(),\n",
    "                            torch.nn.Linear(9, 6),\n",
    "                            torch.nn.ReLU(),\n",
    "                            torch.nn.Linear(6, 1))"
   ]
  },
  {
   "cell_type": "code",
   "execution_count": 64,
   "metadata": {
    "collapsed": true
   },
   "outputs": [],
   "source": [
    "# To add errors to\n",
    "errors = []\n",
    "\n",
    "\n",
    "# Set the learning rate\n",
    "learning_rate = 5e-6\n",
    "\n",
    "\n",
    "# Train the neural network\n",
    "for t in range(10000):\n",
    "    \n",
    "    # Get the current predictions\n",
    "    y_pred = model(features_Variable)\n",
    "    \n",
    "    # Compute and append current summed errors\n",
    "    loss = loss_fn(y_pred, outcomes_Variable)\n",
    "    errors.append(loss.data[0])\n",
    "    \n",
    "    # Zero the gradients before running the backward pass.\n",
    "    model.zero_grad()\n",
    "    \n",
    "    # Backward pass: compute gradient of the loss with respect to all the learnable Variables\n",
    "    loss.backward()\n",
    "    \n",
    "    # Update the weights using gradient descent\n",
    "    for param in model.parameters():\n",
    "        param.data -= learning_rate * param.grad.data"
   ]
  },
  {
   "cell_type": "code",
   "execution_count": 65,
   "metadata": {
    "collapsed": false
   },
   "outputs": [
    {
     "data": {
      "text/plain": [
       "<matplotlib.collections.PathCollection at 0x7f338d440358>"
      ]
     },
     "execution_count": 65,
     "metadata": {},
     "output_type": "execute_result"
    },
    {
     "data": {
      "image/png": "[encoded data removed]",
      "text/plain": [
       "<matplotlib.figure.Figure at 0x7f338d4d2278>"
      ]
     },
     "metadata": {},
     "output_type": "display_data"
    }
   ],
   "source": [
    "# Plot summed error as a function of iteration\n",
    "plt.scatter(iterations, errors)"
   ]
  },
  {
   "cell_type": "code",
   "execution_count": 66,
   "metadata": {
    "collapsed": false
   },
   "outputs": [],
   "source": [
    "# Get rid of the 2nd dimension of 1 from the FloatTensor\n",
    "y_pred_resized = y_pred.resize(8253)\n",
    "\n",
    "\n",
    "# Make the FloatTensor into a numpy.array\n",
    "y_pred_array = y_pred_resized.data.numpy()\n",
    "\n",
    "\n",
    "# Make the numpy.array into a list\n",
    "y_pred_list = y_pred_array.tolist()"
   ]
  },
  {
   "cell_type": "code",
   "execution_count": 67,
   "metadata": {
    "collapsed": false
   },
   "outputs": [
    {
     "data": {
      "text/plain": [
       "[<matplotlib.lines.Line2D at 0x7f338d692160>]"
      ]
     },
     "execution_count": 67,
     "metadata": {},
     "output_type": "execute_result"
    },
    {
     "data": {
      "image/png": "[encoded data removed]",
      "text/plain": [
       "<matplotlib.figure.Figure at 0x7f338d4fdc18>"
      ]
     },
     "metadata": {},
     "output_type": "display_data"
    }
   ],
   "source": [
    "# Plot predictions versus training set outcomes\n",
    "plt.scatter(outcomes_list, y_pred_list)\n",
    "\n",
    "axes = plt.gca()\n",
    "\n",
    "axes.set_xlim([-2, 4])\n",
    "\n",
    "axes.set_ylim([-2, 4])\n",
    "\n",
    "plt.plot([-2, 4], [-2, 4], 'k-', lw=2)"
   ]
  },
  {
   "cell_type": "markdown",
   "metadata": {},
   "source": [
    "### Round 4.1: Validation Set Performance"
   ]
  },
  {
   "cell_type": "code",
   "execution_count": 68,
   "metadata": {
    "collapsed": false
   },
   "outputs": [
    {
     "data": {
      "text/plain": [
       "Variable containing:\n",
       " 271.5038\n",
       "[torch.FloatTensor of size 1]"
      ]
     },
     "execution_count": 68,
     "metadata": {},
     "output_type": "execute_result"
    }
   ],
   "source": [
    "# Get the validation set predictions\n",
    "y_valid_pred = model(valid_predictors_Variable)\n",
    "\n",
    "\n",
    "# Print the loss\n",
    "loss_fn(y_valid_pred,\n",
    "        valid_outcomes_Variable)"
   ]
  },
  {
   "cell_type": "code",
   "execution_count": 69,
   "metadata": {
    "collapsed": true
   },
   "outputs": [],
   "source": [
    "# Get rid of the 2nd dimension of 1 from the FloatTensor\n",
    "y_valid_pred_resized = y_valid_pred.resize(2741)\n",
    "\n",
    "\n",
    "# Make the FloatTensor into a numpy.array\n",
    "y_valid_pred_array = y_valid_pred_resized.data.numpy()\n",
    "\n",
    "\n",
    "# Make the numpy.array into a list\n",
    "y_valid_pred_list = y_valid_pred_array.tolist()"
   ]
  },
  {
   "cell_type": "code",
   "execution_count": 70,
   "metadata": {
    "collapsed": false
   },
   "outputs": [
    {
     "data": {
      "text/plain": [
       "[<matplotlib.lines.Line2D at 0x7f338d3a2eb8>]"
      ]
     },
     "execution_count": 70,
     "metadata": {},
     "output_type": "execute_result"
    },
    {
     "data": {
      "image/png": "[encoded data removed]",
      "text/plain": [
       "<matplotlib.figure.Figure at 0x7f338d440c18>"
      ]
     },
     "metadata": {},
     "output_type": "display_data"
    }
   ],
   "source": [
    "# Plot new predictions versus new data outcomes\n",
    "plt.scatter(valid_outcomes_list, y_valid_pred_list)\n",
    "\n",
    "axes = plt.gca()\n",
    "\n",
    "axes.set_xlim([-2, 4])\n",
    "\n",
    "axes.set_ylim([-2, 4])\n",
    "\n",
    "plt.plot([-2, 4], [-2, 4], 'k-', lw=2)"
   ]
  },
  {
   "cell_type": "markdown",
   "metadata": {},
   "source": [
    "### Round 4.2: Test Set Performance"
   ]
  },
  {
   "cell_type": "code",
   "execution_count": 71,
   "metadata": {
    "collapsed": false
   },
   "outputs": [
    {
     "data": {
      "text/plain": [
       "Variable containing:\n",
       " 273.6892\n",
       "[torch.FloatTensor of size 1]"
      ]
     },
     "execution_count": 71,
     "metadata": {},
     "output_type": "execute_result"
    }
   ],
   "source": [
    "# Get the validation set predictions\n",
    "y_test_pred = model(test_predictors_Variable)\n",
    "\n",
    "\n",
    "# Print the loss\n",
    "loss_fn(y_test_pred,\n",
    "        test_outcomes_Variable)"
   ]
  },
  {
   "cell_type": "code",
   "execution_count": 72,
   "metadata": {
    "collapsed": true
   },
   "outputs": [],
   "source": [
    "# Get rid of the 2nd dimension of 1 from the FloatTensor\n",
    "y_test_pred_resized = y_test_pred.resize(2683)\n",
    "\n",
    "\n",
    "# Make the FloatTensor into a numpy.array\n",
    "y_test_pred_array = y_test_pred_resized.data.numpy()\n",
    "\n",
    "\n",
    "# Convert back to native units and scale\n",
    "y_test_pred_array = y_test_pred_array*5.409956 + 7.691221\n",
    "\n",
    "\n",
    "# Make the numpy.array into a list\n",
    "y_test_pred_list = y_test_pred_array.tolist()"
   ]
  },
  {
   "cell_type": "code",
   "execution_count": 73,
   "metadata": {
    "collapsed": false
   },
   "outputs": [
    {
     "data": {
      "text/plain": [
       "<matplotlib.text.Text at 0x7f338d2ca7f0>"
      ]
     },
     "execution_count": 73,
     "metadata": {},
     "output_type": "execute_result"
    },
    {
     "data": {
      "image/png": "[encoded data removed]",
      "text/plain": [
       "<matplotlib.figure.Figure at 0x7f338d357e80>"
      ]
     },
     "metadata": {},
     "output_type": "display_data"
    }
   ],
   "source": [
    "# Plot new predictions versus new data outcomes\n",
    "plt.scatter(test_outcomes_list, y_test_pred_list)\n",
    "\n",
    "axes = plt.gca()\n",
    "\n",
    "axes.set_xlim([2, 23])\n",
    "\n",
    "axes.set_ylim([2, 23])\n",
    "\n",
    "axes.set_xticks([2, 5, 8, 11, 14, 17, 20, 23])\n",
    "\n",
    "axes.set_yticks([2, 5, 8, 11, 14, 17, 20, 23])\n",
    "\n",
    "plt.plot([2, 23], [2, 23], 'k-', lw=2)\n",
    "\n",
    "axes.set_xlabel(\"Actual Outcome (Log-Transformed US Dollars)\")\n",
    "\n",
    "axes.set_ylabel(\"Model Prediction (Log-Transformed US Dollars)\")\n",
    "\n",
    "axes.set_title(\"Model Performance\")"
   ]
  },
  {
   "cell_type": "code",
   "execution_count": 74,
   "metadata": {
    "collapsed": false
   },
   "outputs": [
    {
     "data": {
      "text/plain": [
       "Parameter containing:\n",
       "\n",
       "Columns 0 to 9 \n",
       " 0.1790 -0.0956  0.0350  0.1296  0.0038  0.0292  0.0338  0.0876 -0.0711  0.1960\n",
       " 0.1572  0.1680  0.0627  0.1778  0.0417 -0.0593  0.1042 -0.0251  0.0436 -0.1732\n",
       " 0.1978  0.1606 -0.0768  0.1405  0.2389 -0.0517 -0.0912  0.0918 -0.0910  0.0968\n",
       " 0.0019  0.1073  0.0560  0.0427  0.1618  0.0295 -0.1067 -0.0492 -0.1905  0.0023\n",
       " 0.1433 -0.1929  0.0908 -0.0953  0.0277  0.0478 -0.0513  0.1022 -0.0335 -0.1208\n",
       " 0.0465 -0.2683 -0.0001 -0.0695  0.1208  0.0046 -0.0410  0.0247  0.1619 -0.1181\n",
       " 0.1185 -0.0143  0.0147 -0.0177 -0.2256  0.0107  0.1265  0.0893 -0.0318 -0.1099\n",
       "-0.1486 -0.2214  0.1087  0.1676 -0.0217 -0.1828  0.1597 -0.1382  0.0486  0.0875\n",
       "-0.1593 -0.0654  0.1175  0.0269  0.1278  0.1955  0.1007  0.0930  0.1223  0.1974\n",
       " 0.1191  0.0675 -0.0163  0.0253  0.2199 -0.0255  0.1064 -0.0871  0.0270  0.0645\n",
       "-0.0441 -0.0776  0.0061  0.0284  0.0209  0.0440  0.1265 -0.1573  0.0060 -0.0508\n",
       "-0.1121 -0.0467 -0.1208 -0.0215  0.1310  0.0406 -0.1157 -0.0751  0.1712  0.2195\n",
       "-0.0959  0.2385  0.1635  0.1453  0.1941 -0.1741 -0.0912 -0.0533  0.0551  0.0525\n",
       "-0.1672  0.0175  0.0761  0.0636 -0.0054  0.1067  0.0452  0.1054 -0.2319  0.0660\n",
       "-0.0228  0.0800 -0.2516  0.0155 -0.0656 -0.1598  0.1171 -0.0114 -0.1772  0.0176\n",
       "-0.0974  0.1508  0.2023 -0.0071 -0.0786  0.1420  0.0857 -0.0648  0.1330  0.0306\n",
       " 0.0051 -0.0241 -0.1414  0.0334  0.0660  0.1471 -0.0913 -0.0528 -0.1258  0.0985\n",
       "-0.0253  0.0047  0.0151 -0.0706  0.1180 -0.1490  0.2491  0.0672 -0.0170  0.0294\n",
       "-0.0023  0.0152 -0.0314 -0.1049 -0.1626  0.0368 -0.1176 -0.1496 -0.1653  0.0425\n",
       " 0.1766  0.2167 -0.0331 -0.0743 -0.1875  0.0138  0.0952 -0.0519  0.0478 -0.1797\n",
       "-0.0684  0.0222  0.1004 -0.0672  0.0502  0.1000 -0.1301  0.0019 -0.1355 -0.1616\n",
       "\n",
       "Columns 10 to 19 \n",
       " 0.0448  0.0937 -0.0419 -0.1804 -0.0321 -0.1865 -0.1248 -0.1160  0.0887 -0.0181\n",
       " 0.1309 -0.1227 -0.1926  0.0685  0.0109 -0.0365 -0.1155  0.0174 -0.1057  0.2100\n",
       " 0.0802  0.2017  0.1769  0.0969 -0.0458 -0.0371 -0.0362 -0.0798 -0.0640 -0.1312\n",
       "-0.0635  0.1865  0.0963 -0.0215 -0.0979  0.1341 -0.0489  0.1585  0.0379  0.0822\n",
       " 0.0262 -0.1076  0.1549  0.1253  0.0682 -0.1736  0.0654  0.0138 -0.0039 -0.0897\n",
       "-0.0793 -0.0611 -0.1136  0.0747  0.0803  0.1078  0.1508  0.1730  0.1387 -0.0684\n",
       "-0.0809 -0.1103 -0.1212 -0.0508  0.0705 -0.0194  0.1122  0.0945  0.0489  0.0928\n",
       "-0.1244 -0.0659 -0.1181  0.0812 -0.0775  0.0301  0.1023  0.0143  0.0630 -0.0051\n",
       "-0.0851 -0.1199 -0.1611 -0.0535  0.0299  0.0224 -0.0183 -0.0646  0.1035  0.0106\n",
       " 0.1575  0.0005 -0.0316  0.0666 -0.0699  0.0066  0.1398 -0.0119 -0.0895 -0.0076\n",
       " 0.1013  0.1601  0.0544 -0.0097 -0.1582 -0.0638  0.0388  0.0026 -0.0317 -0.0270\n",
       " 0.2274  0.0606  0.0340 -0.1244 -0.1178 -0.0806  0.1223 -0.0433  0.0813  0.1017\n",
       " 0.0043  0.0730 -0.0415 -0.0087 -0.0039 -0.2096 -0.1274 -0.0788 -0.0822  0.0007\n",
       "-0.0245  0.1290  0.0402  0.1151 -0.0726 -0.1609 -0.1253 -0.0084  0.0575 -0.0887\n",
       " 0.0490  0.0252 -0.0550  0.1516  0.0739  0.0106 -0.0619  0.0169 -0.0670  0.0607\n",
       " 0.0439  0.1248 -0.0124 -0.1219 -0.1272 -0.1138  0.2139 -0.1155 -0.0699  0.0595\n",
       " 0.0250  0.1515 -0.1371  0.0550 -0.0945  0.1686 -0.0868 -0.1388 -0.1110 -0.1058\n",
       "-0.1445 -0.1170  0.1110 -0.1428  0.1140  0.1341  0.0348  0.0735 -0.1002  0.0637\n",
       "-0.1137 -0.0660  0.0268  0.1697 -0.0115 -0.1049  0.0051 -0.1119 -0.1514 -0.2276\n",
       "-0.0555  0.1059 -0.0766 -0.0579  0.1652  0.0252  0.1666  0.1283 -0.1621  0.0225\n",
       "-0.0178  0.0503 -0.1052 -0.0705 -0.0749  0.1485 -0.1793  0.1923  0.1744 -0.1389\n",
       "\n",
       "Columns 20 to 29 \n",
       " 0.0495  0.1184  0.2094  0.1505  0.0098 -0.1344  0.1539 -0.0549 -0.0253 -0.0096\n",
       " 0.0279 -0.0388 -0.1004  0.1171  0.1492  0.0567  0.2094  0.0056  0.0893 -0.1509\n",
       " 0.0198  0.1413  0.0341 -0.0502  0.0406  0.0166  0.0342 -0.1323 -0.0392  0.1914\n",
       "-0.1661 -0.0572  0.0877  0.0835  0.0758 -0.1518  0.1159 -0.1111 -0.0419  0.1373\n",
       "-0.0830 -0.0026 -0.0502 -0.1565  0.0296  0.0017  0.0050 -0.0162 -0.0497  0.2099\n",
       " 0.1397  0.0336  0.1603  0.1671 -0.0358 -0.1797 -0.1316  0.0424 -0.0881 -0.0345\n",
       " 0.1727  0.0159 -0.1901  0.0630 -0.0246 -0.0470 -0.0548  0.1244 -0.0369 -0.1837\n",
       "-0.0431  0.0662  0.2263 -0.1014 -0.0565 -0.0289  0.1404  0.0709 -0.0347  0.1541\n",
       "-0.1688 -0.0394 -0.0105  0.0389 -0.1441 -0.1050  0.0293 -0.0044 -0.0471 -0.1534\n",
       "-0.0159 -0.0311  0.2133  0.2287 -0.0021  0.0134  0.1290 -0.0759  0.0383  0.0398\n",
       " 0.1491  0.1186 -0.1837  0.1270 -0.0092 -0.1722  0.0452 -0.0686 -0.1376 -0.1436\n",
       "-0.0889  0.1508 -0.0993 -0.0099 -0.0847 -0.0352 -0.1609  0.0998  0.0637 -0.1319\n",
       "-0.0136 -0.1180  0.2061  0.1829  0.2123 -0.0094 -0.0768  0.0851  0.1011  0.0080\n",
       "-0.0219  0.0113 -0.0950 -0.0149  0.1441  0.1020 -0.2374 -0.0272  0.2790  0.0364\n",
       "-0.0944 -0.0893 -0.1199 -0.0059  0.0663  0.0073  0.1035 -0.0537 -0.1851  0.1345\n",
       "-0.1697 -0.0529 -0.1516  0.1021 -0.1062 -0.1132  0.1078  0.1540  0.1721 -0.0191\n",
       "-0.1590 -0.1468  0.1484  0.1045 -0.1494 -0.0756  0.0310 -0.1043  0.0603  0.1463\n",
       " 0.0638 -0.0035  0.1566  0.0907 -0.0952  0.2414  0.2038  0.1423  0.0763  0.0453\n",
       "-0.0607 -0.1116 -0.0231 -0.0310  0.0725 -0.1569 -0.1281  0.0623 -0.1111  0.0468\n",
       "-0.0126 -0.0611 -0.0593 -0.0651  0.0783 -0.0996  0.0226 -0.0532  0.0150 -0.0451\n",
       " 0.1333  0.1084 -0.0346  0.1218 -0.0688 -0.1294 -0.1485 -0.0502  0.1206  0.0776\n",
       "\n",
       "Columns 30 to 31 \n",
       "-0.1530 -0.2057\n",
       " 0.0614  0.0839\n",
       "-0.0909  0.0277\n",
       "-0.2201  0.0011\n",
       " 0.1759 -0.2283\n",
       " 0.0649 -0.0979\n",
       " 0.0684 -0.0550\n",
       "-0.0114  0.1175\n",
       "-0.0912 -0.1388\n",
       " 0.1254  0.1147\n",
       "-0.2186 -0.2038\n",
       "-0.0838 -0.0888\n",
       "-0.0227 -0.1047\n",
       "-0.0210 -0.0222\n",
       " 0.0458 -0.0333\n",
       "-0.0997  0.2467\n",
       " 0.1323  0.0191\n",
       "-0.0216  0.1268\n",
       " 0.0286 -0.0498\n",
       " 0.1372 -0.0376\n",
       " 0.0322 -0.0199\n",
       "[torch.FloatTensor of size 21x32]"
      ]
     },
     "execution_count": 74,
     "metadata": {},
     "output_type": "execute_result"
    }
   ],
   "source": [
    "model[(0)].weight"
   ]
  },
  {
   "cell_type": "code",
   "execution_count": 75,
   "metadata": {
    "collapsed": false
   },
   "outputs": [
    {
     "data": {
      "text/plain": [
       "Parameter containing:\n",
       "\n",
       "Columns 0 to 9 \n",
       " 0.2487 -0.0663  0.1523 -0.0769  0.0255 -0.1534  0.1686  0.0058  0.0741 -0.1028\n",
       " 0.0423  0.1074  0.1705  0.0512  0.0731  0.1349  0.0245  0.0998 -0.0378  0.1657\n",
       "-0.0503  0.2448  0.2208  0.0693 -0.0548 -0.0768 -0.1374  0.1221 -0.1613  0.2114\n",
       "-0.1071 -0.0839  0.0238  0.1528 -0.0727 -0.2063 -0.0735  0.1153  0.0452  0.0394\n",
       " 0.0168  0.0336  0.0772  0.0154 -0.1634  0.0506 -0.0000 -0.1442 -0.2038  0.0084\n",
       " 0.1801  0.1083  0.0951  0.2312  0.0928  0.1239 -0.1977  0.0682 -0.0630  0.0963\n",
       " 0.1944 -0.0036 -0.0639  0.1055  0.0874 -0.1729 -0.1994 -0.1697  0.1715  0.1659\n",
       "-0.1169  0.0662 -0.0498  0.1870 -0.1421  0.0863  0.2244 -0.0899  0.0891  0.1216\n",
       " 0.0977  0.1717 -0.2059 -0.0548 -0.0922  0.1530  0.2427  0.1780 -0.1628 -0.0244\n",
       "-0.1983 -0.1596 -0.0099  0.0184  0.1318  0.0776  0.1044 -0.0649 -0.0258  0.0149\n",
       " 0.0613  0.1496  0.2004  0.0655 -0.0861 -0.0833 -0.1774  0.1730  0.0326  0.1646\n",
       "-0.1662 -0.0580  0.0722  0.1733  0.1749 -0.1346 -0.1934  0.2447  0.1150 -0.1405\n",
       "-0.1144  0.1199 -0.2889 -0.0707 -0.0219  0.2930  0.1505 -0.1561  0.1088  0.0726\n",
       "-0.2350 -0.1670 -0.0340  0.1397 -0.2218 -0.0344  0.0646  0.2560 -0.0089 -0.1932\n",
       "\n",
       "Columns 10 to 19 \n",
       "-0.2173  0.2315 -0.2211 -0.0791  0.2664  0.0492 -0.2764 -0.1801  0.1442  0.1469\n",
       "-0.2419  0.1579  0.0891 -0.1274 -0.0749 -0.0742  0.0186  0.0201 -0.1954  0.2148\n",
       "-0.0314 -0.1180  0.2060 -0.1073  0.1083  0.1468 -0.1421 -0.0806 -0.1490  0.1788\n",
       "-0.0889 -0.1966  0.0990 -0.0886  0.0920 -0.2327  0.2198  0.1561 -0.1692 -0.0472\n",
       "-0.2068 -0.2168 -0.0197 -0.2184 -0.0054  0.0557 -0.0844  0.0345 -0.0737  0.2120\n",
       " 0.1462  0.2175 -0.1454 -0.1024 -0.0672 -0.1220  0.0346 -0.0459 -0.1788 -0.1241\n",
       "-0.1522 -0.1630 -0.1627 -0.1901 -0.0606  0.1283  0.0506  0.0901 -0.0217  0.2230\n",
       " 0.1449 -0.0185 -0.3076  0.2758 -0.0165  0.0025  0.0928  0.0489 -0.0024  0.1791\n",
       "-0.0577 -0.2022  0.2372 -0.1034 -0.0497  0.0161 -0.1754 -0.1210  0.0148  0.0064\n",
       " 0.0290 -0.1679  0.0382 -0.2118 -0.0149 -0.2049 -0.0107  0.1799 -0.1114  0.0634\n",
       " 0.2173  0.1204  0.1535 -0.1342 -0.1634 -0.2189 -0.0616  0.1117 -0.0049  0.1692\n",
       "-0.1172 -0.1233  0.0644  0.1650 -0.1735 -0.1738 -0.0533  0.1887  0.1312  0.0540\n",
       " 0.0761  0.0040  0.1443 -0.1318 -0.0321  0.1674  0.0283 -0.0124 -0.1603  0.1988\n",
       " 0.2030 -0.1765  0.1704  0.1178 -0.1585  0.0698 -0.0491  0.0204 -0.0812  0.1445\n",
       "\n",
       "Columns 20 to 20 \n",
       "-0.0227\n",
       " 0.0082\n",
       "-0.1143\n",
       "-0.2393\n",
       "-0.0423\n",
       " 0.2071\n",
       " 0.0631\n",
       " 0.0100\n",
       "-0.1495\n",
       " 0.0350\n",
       "-0.0559\n",
       " 0.1240\n",
       " 0.1617\n",
       "-0.0044\n",
       "[torch.FloatTensor of size 14x21]"
      ]
     },
     "execution_count": 75,
     "metadata": {},
     "output_type": "execute_result"
    }
   ],
   "source": [
    "model[(2)].weight"
   ]
  },
  {
   "cell_type": "code",
   "execution_count": 76,
   "metadata": {
    "collapsed": false
   },
   "outputs": [
    {
     "data": {
      "text/plain": [
       "Parameter containing:\n",
       "\n",
       "Columns 0 to 9 \n",
       "-0.2463 -0.0064  0.0659  0.2140  0.2322  0.1846 -0.1949 -0.1771  0.1915 -0.0728\n",
       "-0.1639 -0.1447  0.0994  0.1273 -0.0809  0.0013 -0.0473  0.1663  0.0631  0.0667\n",
       "-0.1783 -0.1134  0.0403 -0.1388  0.0259 -0.0498  0.0306  0.2456  0.0429  0.1753\n",
       " 0.0205 -0.2464  0.2128  0.1314 -0.2527 -0.1524  0.1274 -0.1763  0.2012  0.0926\n",
       "-0.3064  0.2029 -0.1070 -0.0996  0.2908  0.2644  0.1740 -0.1911 -0.3305 -0.2674\n",
       "-0.1533 -0.2033 -0.0770  0.0445  0.1509 -0.0570  0.0632  0.0776  0.0640  0.0143\n",
       "-0.3485  0.1603  0.1102  0.0607 -0.1124  0.3179  0.2041 -0.1997 -0.0239  0.2442\n",
       "-0.2035  0.1347 -0.0928 -0.2984  0.1614  0.0114 -0.0010 -0.2749  0.0413 -0.1388\n",
       " 0.0569  0.2477  0.2890  0.1987  0.1806  0.3527 -0.1182  0.1502  0.2031  0.0219\n",
       "\n",
       "Columns 10 to 13 \n",
       "-0.0447  0.0896  0.1368 -0.1090\n",
       "-0.0235  0.0992 -0.2747 -0.2906\n",
       "-0.1380 -0.0146 -0.2394 -0.1354\n",
       "-0.1143 -0.1521 -0.2199  0.2026\n",
       "-0.0248  0.1303  0.0224  0.2197\n",
       " 0.1586 -0.0478 -0.1642  0.2438\n",
       " 0.3727  0.1017  0.2739  0.2509\n",
       " 0.0589  0.2723  0.3388 -0.0675\n",
       " 0.1535  0.0041 -0.1094  0.2130\n",
       "[torch.FloatTensor of size 9x14]"
      ]
     },
     "execution_count": 76,
     "metadata": {},
     "output_type": "execute_result"
    }
   ],
   "source": [
    "model[(4)].weight"
   ]
  },
  {
   "cell_type": "code",
   "execution_count": 77,
   "metadata": {
    "collapsed": false
   },
   "outputs": [
    {
     "data": {
      "text/plain": [
       "Parameter containing:\n",
       "-0.1071  0.0334  0.2234  0.0595 -0.3380  0.2349 -0.3431 -0.2166  0.1049\n",
       " 0.2653  0.2631 -0.0669 -0.1601 -0.2479 -0.1736 -0.1832 -0.2848 -0.0178\n",
       " 0.1783 -0.2055  0.2503  0.0509 -0.1290 -0.2792 -0.2345 -0.0078  0.2242\n",
       " 0.0879  0.2343 -0.2315 -0.1688  0.1832  0.2374 -0.1886 -0.2438  0.2412\n",
       "-0.2305  0.0463  0.2792 -0.2971  0.2835  0.1796  0.3757 -0.1773  0.4579\n",
       "-0.2176  0.2116 -0.3065  0.0738 -0.0271 -0.0175 -0.2833 -0.4404 -0.0288\n",
       "[torch.FloatTensor of size 6x9]"
      ]
     },
     "execution_count": 77,
     "metadata": {},
     "output_type": "execute_result"
    }
   ],
   "source": [
    "model[(6)].weight"
   ]
  },
  {
   "cell_type": "code",
   "execution_count": 78,
   "metadata": {
    "collapsed": false
   },
   "outputs": [
    {
     "data": {
      "text/plain": [
       "Parameter containing:\n",
       "-0.8364 -0.6997  0.2316  0.2717  0.7321 -0.6854\n",
       "[torch.FloatTensor of size 1x6]"
      ]
     },
     "execution_count": 78,
     "metadata": {},
     "output_type": "execute_result"
    }
   ],
   "source": [
    "model[(8)].weight"
   ]
  },
  {
   "cell_type": "markdown",
   "metadata": {},
   "source": [
    "## Round 5: Five-Hidden-Layer Neural Network"
   ]
  },
  {
   "cell_type": "code",
   "execution_count": 79,
   "metadata": {
    "collapsed": true
   },
   "outputs": [],
   "source": [
    "# Make the torch Tensor into a PyTorch Variable for dependent variables\n",
    "outcomes_Variable = Variable(outcomes_Tensor)\n",
    "\n",
    "\n",
    "# ...for independent variables\n",
    "features_Variable = Variable(features_Tensor,\n",
    "                             requires_grad = False)"
   ]
  },
  {
   "cell_type": "code",
   "execution_count": 80,
   "metadata": {
    "collapsed": true
   },
   "outputs": [],
   "source": [
    "# Make the neural network\n",
    "model = torch.nn.Sequential(torch.nn.Linear(32, 21),\n",
    "                            torch.nn.ReLU(),\n",
    "                            torch.nn.Linear(21, 14),\n",
    "                            torch.nn.ReLU(),\n",
    "                            torch.nn.Linear(14, 9),\n",
    "                            torch.nn.ReLU(),\n",
    "                            torch.nn.Linear(9, 6),\n",
    "                            torch.nn.ReLU(),\n",
    "                            torch.nn.Linear(6, 4),\n",
    "                            torch.nn.ReLU(),\n",
    "                            torch.nn.Linear(4, 1))"
   ]
  },
  {
   "cell_type": "code",
   "execution_count": 81,
   "metadata": {
    "collapsed": true
   },
   "outputs": [],
   "source": [
    "# To add errors to\n",
    "errors = []\n",
    "\n",
    "\n",
    "# Set the learning rate\n",
    "learning_rate = 5e-6\n",
    "\n",
    "\n",
    "# Train the neural network\n",
    "for t in range(10000):\n",
    "    \n",
    "    # Get the current predictions\n",
    "    y_pred = model(features_Variable)\n",
    "    \n",
    "    # Compute and append current summed errors\n",
    "    loss = loss_fn(y_pred, outcomes_Variable)\n",
    "    errors.append(loss.data[0])\n",
    "    \n",
    "    # Zero the gradients before running the backward pass.\n",
    "    model.zero_grad()\n",
    "    \n",
    "    # Backward pass: compute gradient of the loss with respect to all the learnable Variables\n",
    "    loss.backward()\n",
    "    \n",
    "    # Update the weights using gradient descent\n",
    "    for param in model.parameters():\n",
    "        param.data -= learning_rate * param.grad.data"
   ]
  },
  {
   "cell_type": "code",
   "execution_count": 82,
   "metadata": {
    "collapsed": false
   },
   "outputs": [
    {
     "data": {
      "text/plain": [
       "<matplotlib.collections.PathCollection at 0x7f338d2132b0>"
      ]
     },
     "execution_count": 82,
     "metadata": {},
     "output_type": "execute_result"
    },
    {
     "data": {
      "image/png": "[encoded data removed]",
      "text/plain": [
       "<matplotlib.figure.Figure at 0x7f338d4d77f0>"
      ]
     },
     "metadata": {},
     "output_type": "display_data"
    }
   ],
   "source": [
    "# Plot summed error as a function of iteration\n",
    "plt.scatter(iterations, errors)"
   ]
  },
  {
   "cell_type": "code",
   "execution_count": 83,
   "metadata": {
    "collapsed": true
   },
   "outputs": [],
   "source": [
    "# Get rid of the 2nd dimension of 1 from the FloatTensor\n",
    "y_pred_resized = y_pred.resize(8253)\n",
    "\n",
    "\n",
    "# Make the FloatTensor into a numpy.array\n",
    "y_pred_array = y_pred_resized.data.numpy()\n",
    "\n",
    "\n",
    "# Make the numpy.array into a list\n",
    "y_pred_list = y_pred_array.tolist()"
   ]
  },
  {
   "cell_type": "code",
   "execution_count": 84,
   "metadata": {
    "collapsed": false
   },
   "outputs": [
    {
     "data": {
      "text/plain": [
       "[<matplotlib.lines.Line2D at 0x7f338d56fc50>]"
      ]
     },
     "execution_count": 84,
     "metadata": {},
     "output_type": "execute_result"
    },
    {
     "data": {
      "image/png": "[encoded data removed]",
      "text/plain": [
       "<matplotlib.figure.Figure at 0x7f338d28cf98>"
      ]
     },
     "metadata": {},
     "output_type": "display_data"
    }
   ],
   "source": [
    "# Plot predictions versus training set outcomes\n",
    "plt.scatter(outcomes_list, y_pred_list)\n",
    "\n",
    "axes = plt.gca()\n",
    "\n",
    "axes.set_xlim([-2, 4])\n",
    "\n",
    "axes.set_ylim([-2, 4])\n",
    "\n",
    "plt.plot([-2, 4], [-2, 4], 'k-', lw=2)"
   ]
  },
  {
   "cell_type": "markdown",
   "metadata": {},
   "source": [
    "### Round 5.1: Validation Set Performance"
   ]
  },
  {
   "cell_type": "code",
   "execution_count": 85,
   "metadata": {
    "collapsed": false
   },
   "outputs": [
    {
     "data": {
      "text/plain": [
       "Variable containing:\n",
       " 268.3582\n",
       "[torch.FloatTensor of size 1]"
      ]
     },
     "execution_count": 85,
     "metadata": {},
     "output_type": "execute_result"
    }
   ],
   "source": [
    "# Get the validation set predictions\n",
    "y_valid_pred = model(valid_predictors_Variable)\n",
    "\n",
    "\n",
    "# Print the loss\n",
    "loss_fn(y_valid_pred,\n",
    "        valid_outcomes_Variable)"
   ]
  },
  {
   "cell_type": "code",
   "execution_count": 86,
   "metadata": {
    "collapsed": false
   },
   "outputs": [],
   "source": [
    "# Get rid of the 2nd dimension of 1 from the FloatTensor\n",
    "y_valid_pred_resized = y_valid_pred.resize(2741)\n",
    "\n",
    "\n",
    "# Make the FloatTensor into a numpy.array\n",
    "y_valid_pred_array = y_valid_pred_resized.data.numpy()\n",
    "\n",
    "\n",
    "# Make the numpy.array into a list\n",
    "y_valid_pred_list = y_valid_pred_array.tolist()"
   ]
  },
  {
   "cell_type": "code",
   "execution_count": 87,
   "metadata": {
    "collapsed": false
   },
   "outputs": [
    {
     "data": {
      "text/plain": [
       "[<matplotlib.lines.Line2D at 0x7f338d16ce48>]"
      ]
     },
     "execution_count": 87,
     "metadata": {},
     "output_type": "execute_result"
    },
    {
     "data": {
      "image/png": "[encoded data removed]",
      "text/plain": [
       "<matplotlib.figure.Figure at 0x7f338d1f49e8>"
      ]
     },
     "metadata": {},
     "output_type": "display_data"
    }
   ],
   "source": [
    "# Plot new predictions versus new data outcomes\n",
    "plt.scatter(valid_outcomes_list, y_valid_pred_list)\n",
    "\n",
    "axes = plt.gca()\n",
    "\n",
    "axes.set_xlim([-2, 4])\n",
    "\n",
    "axes.set_ylim([-2, 4])\n",
    "\n",
    "plt.plot([-2, 4], [-2, 4], 'k-', lw=2)"
   ]
  },
  {
   "cell_type": "markdown",
   "metadata": {},
   "source": [
    "### Round 5.2: Test Set Performance"
   ]
  },
  {
   "cell_type": "code",
   "execution_count": 88,
   "metadata": {
    "collapsed": false
   },
   "outputs": [
    {
     "data": {
      "text/plain": [
       "Variable containing:\n",
       " 272.2003\n",
       "[torch.FloatTensor of size 1]"
      ]
     },
     "execution_count": 88,
     "metadata": {},
     "output_type": "execute_result"
    }
   ],
   "source": [
    "# Get the validation set predictions\n",
    "y_test_pred = model(test_predictors_Variable)\n",
    "\n",
    "\n",
    "# Print the loss\n",
    "loss_fn(y_test_pred,\n",
    "        test_outcomes_Variable)"
   ]
  },
  {
   "cell_type": "code",
   "execution_count": 89,
   "metadata": {
    "collapsed": true
   },
   "outputs": [],
   "source": [
    "# Get rid of the 2nd dimension of 1 from the FloatTensor\n",
    "y_test_pred_resized = y_test_pred.resize(2683)\n",
    "\n",
    "\n",
    "# Make the FloatTensor into a numpy.array\n",
    "y_test_pred_array = y_test_pred_resized.data.numpy()\n",
    "\n",
    "\n",
    "# Convert back to native units and scale\n",
    "y_test_pred_array = y_test_pred_array*5.409956 + 7.691221\n",
    "\n",
    "\n",
    "# Make the numpy.array into a list\n",
    "y_test_pred_list = y_test_pred_array.tolist()"
   ]
  },
  {
   "cell_type": "code",
   "execution_count": 90,
   "metadata": {
    "collapsed": false
   },
   "outputs": [
    {
     "data": {
      "text/plain": [
       "<matplotlib.text.Text at 0x7f338d093940>"
      ]
     },
     "execution_count": 90,
     "metadata": {},
     "output_type": "execute_result"
    },
    {
     "data": {
      "image/png": "[encoded data removed]",
      "text/plain": [
       "<matplotlib.figure.Figure at 0x7f338d35f438>"
      ]
     },
     "metadata": {},
     "output_type": "display_data"
    }
   ],
   "source": [
    "# Plot new predictions versus new data outcomes\n",
    "plt.scatter(test_outcomes_list, y_test_pred_list)\n",
    "\n",
    "axes = plt.gca()\n",
    "\n",
    "axes.set_xlim([2, 23])\n",
    "\n",
    "axes.set_ylim([2, 23])\n",
    "\n",
    "axes.set_xticks([2, 5, 8, 11, 14, 17, 20, 23])\n",
    "\n",
    "axes.set_yticks([2, 5, 8, 11, 14, 17, 20, 23])\n",
    "\n",
    "plt.plot([2, 23], [2, 23], 'k-', lw=2)\n",
    "\n",
    "axes.set_xlabel(\"Actual Outcome (Log-Transformed US Dollars)\")\n",
    "\n",
    "axes.set_ylabel(\"Model Prediction (Log-Transformed US Dollars)\")\n",
    "\n",
    "axes.set_title(\"Model Performance\")"
   ]
  },
  {
   "cell_type": "code",
   "execution_count": 91,
   "metadata": {
    "collapsed": false
   },
   "outputs": [
    {
     "data": {
      "text/plain": [
       "Parameter containing:\n",
       "\n",
       "Columns 0 to 9 \n",
       " 0.0354 -0.0142  0.1326  0.0548  0.1036 -0.0153 -0.0082  0.1806 -0.1361  0.0802\n",
       "-0.0530  0.1417  0.2946  0.1034  0.1819 -0.1114  0.0511 -0.0070 -0.0648 -0.2036\n",
       "-0.0324 -0.1628  0.0778 -0.0223 -0.1444 -0.0959 -0.0924  0.1765  0.0501  0.0939\n",
       " 0.1076 -0.0025 -0.0573 -0.1680 -0.1867  0.0881 -0.1102  0.0244 -0.0084 -0.0955\n",
       " 0.0438 -0.0490  0.0982 -0.1225  0.1417 -0.0134 -0.1313 -0.0540  0.1497 -0.1531\n",
       "-0.0911 -0.0665  0.1725 -0.0645 -0.1327 -0.0090 -0.1479  0.0404 -0.1163  0.0304\n",
       "-0.0968 -0.1936 -0.0345 -0.0561 -0.0769 -0.1524 -0.1241  0.1555 -0.0495 -0.1237\n",
       " 0.0291 -0.0139 -0.0146  0.0756  0.1567  0.0464  0.0769  0.0116 -0.0780 -0.1030\n",
       "-0.1311  0.1220 -0.1780  0.1329  0.0266  0.0217  0.1300 -0.0687  0.0048 -0.0687\n",
       "-0.0033 -0.1552 -0.0404  0.1224  0.1200 -0.0687 -0.2427  0.0241  0.0486 -0.0401\n",
       " 0.0013 -0.0962 -0.0124  0.0985 -0.1422  0.1311  0.1465 -0.1211  0.1209 -0.0903\n",
       "-0.0852 -0.1592 -0.0083 -0.0668 -0.1224  0.1095  0.0615 -0.1154  0.0096  0.0810\n",
       " 0.0063 -0.0244  0.0615  0.0951  0.2025 -0.0430  0.0262 -0.0547  0.1904  0.0841\n",
       " 0.0474  0.0142 -0.1593  0.0453 -0.0180 -0.2680 -0.1506 -0.0646 -0.1952  0.1651\n",
       "-0.0687 -0.1929  0.0747 -0.1539 -0.0914  0.0430 -0.1423 -0.1467  0.1501 -0.0964\n",
       "-0.0252 -0.0671  0.0579 -0.0616  0.2243  0.0276  0.0399  0.0542  0.1022  0.1895\n",
       " 0.0183  0.0324  0.2382 -0.1231  0.0678  0.1635 -0.0760  0.0356 -0.0340  0.1907\n",
       "-0.0921 -0.1233 -0.1646  0.0425  0.0094 -0.1575 -0.0468 -0.0220 -0.0743  0.0069\n",
       " 0.1043  0.1557  0.0514  0.1970  0.2355 -0.1500  0.0747  0.0775 -0.0240 -0.0673\n",
       " 0.2204  0.2825 -0.0234  0.1213  0.1539  0.1208 -0.0818  0.0772 -0.0601  0.0868\n",
       " 0.0268 -0.0152 -0.1030 -0.1843  0.0549  0.2508  0.0328  0.1552 -0.0338 -0.1779\n",
       "\n",
       "Columns 10 to 19 \n",
       "-0.0049 -0.1115  0.0638 -0.1705 -0.0300 -0.0266  0.0938 -0.0519 -0.1498  0.0225\n",
       " 0.0556 -0.0665  0.1307 -0.1775 -0.0533  0.0406  0.1189 -0.1214 -0.0543  0.1378\n",
       "-0.0053 -0.0578  0.1520  0.0322 -0.0907 -0.1295 -0.1832 -0.1114 -0.1761 -0.1260\n",
       " 0.0056 -0.0744 -0.1535  0.0729 -0.1451 -0.2108 -0.1218 -0.0271 -0.1579 -0.0995\n",
       " 0.0493 -0.0391  0.0947 -0.0434 -0.0061 -0.1146  0.1658  0.0489 -0.1326 -0.1660\n",
       " 0.0417  0.1054 -0.1341 -0.0485  0.0697  0.1177  0.1480  0.1605 -0.0764 -0.0916\n",
       " 0.0396 -0.0806  0.1348 -0.1671 -0.1188  0.1546  0.0895  0.0098 -0.0847 -0.1967\n",
       " 0.0233  0.0201 -0.0814  0.0235  0.0614  0.1491 -0.0794  0.0865  0.0760 -0.0224\n",
       " 0.1226  0.0036 -0.1167  0.1092 -0.0988  0.1455  0.0861 -0.0533 -0.0041  0.0357\n",
       "-0.0962  0.0774 -0.1368  0.0880 -0.1826 -0.0397  0.0335  0.0329  0.1729 -0.1433\n",
       " 0.1767 -0.1147  0.1400  0.0053 -0.0352 -0.1344  0.1318 -0.1808 -0.0876  0.0840\n",
       " 0.1046 -0.0458  0.0998 -0.0286  0.0832 -0.0074  0.0351  0.0616  0.1409  0.1457\n",
       " 0.0170 -0.0412 -0.1453 -0.0015  0.0646 -0.1792 -0.0242 -0.0008 -0.0291 -0.1016\n",
       "-0.1395 -0.1544 -0.0431 -0.0241  0.0044 -0.0779 -0.0594 -0.0371  0.0619 -0.1005\n",
       " 0.1266  0.0127 -0.1460 -0.1591  0.0253  0.0994 -0.1302  0.1034  0.0846 -0.1673\n",
       " 0.0150 -0.1194  0.0981  0.0609 -0.0244  0.0105  0.1378  0.0282  0.0896  0.0195\n",
       "-0.0839  0.0195 -0.0423  0.0556 -0.0918  0.0207  0.1995 -0.0180  0.1540 -0.1097\n",
       " 0.0414 -0.0568  0.0310 -0.0212 -0.0798  0.0882 -0.0495  0.0747  0.1270  0.0342\n",
       " 0.1513  0.0741 -0.0420 -0.1173  0.0560 -0.0340 -0.0984 -0.1578 -0.1722  0.1088\n",
       "-0.0028  0.1130  0.0677  0.0350 -0.1117  0.0539  0.0750  0.0480 -0.0068 -0.0581\n",
       "-0.1213  0.1187 -0.1301 -0.1909 -0.0225  0.1513  0.0439 -0.1800  0.0100  0.0029\n",
       "\n",
       "Columns 20 to 29 \n",
       " 0.1390  0.0176 -0.0776 -0.0175  0.0740 -0.1551  0.0354 -0.1142 -0.0121 -0.0672\n",
       " 0.0244 -0.0667  0.0382 -0.0711  0.1252 -0.1603  0.1513 -0.0648 -0.0271  0.2214\n",
       "-0.1147  0.1666 -0.1147 -0.0056  0.1174  0.0908  0.0496 -0.0080  0.1737 -0.1100\n",
       "-0.1123 -0.0626 -0.1739  0.0226  0.0197  0.0801  0.0610 -0.0554 -0.0193  0.1683\n",
       "-0.0851  0.0514 -0.1097  0.0955 -0.0308  0.0813  0.0088  0.0319  0.0498 -0.0877\n",
       "-0.0296 -0.0687 -0.0997 -0.1314  0.0062 -0.0056  0.0253 -0.0404  0.0401 -0.1643\n",
       " 0.0995  0.1503 -0.1176  0.1528 -0.1117  0.0289 -0.2374  0.1773  0.0864  0.0269\n",
       " 0.1249  0.0698  0.0179  0.0701 -0.1718  0.1075  0.1089 -0.2362  0.1609  0.1369\n",
       "-0.0475 -0.0771  0.0100 -0.0738  0.1045  0.1032 -0.0969  0.0768 -0.2893  0.1064\n",
       "-0.0732  0.1230  0.0114  0.0522  0.1191 -0.1742  0.0444 -0.0114  0.0124  0.1203\n",
       "-0.1170  0.0145 -0.1660 -0.1426 -0.1424  0.0860  0.0138  0.1152  0.0378  0.1308\n",
       " 0.1409  0.0774 -0.0724  0.0404  0.1363 -0.0737 -0.1931 -0.0728  0.1425 -0.1425\n",
       " 0.0783  0.0074  0.0887  0.0833  0.0950  0.0692  0.1446 -0.1043 -0.0758 -0.0777\n",
       "-0.0734 -0.0112  0.1178 -0.1281  0.0729 -0.0544  0.0203 -0.1213 -0.2205 -0.1851\n",
       " 0.1383  0.1289 -0.1045 -0.0955  0.0712 -0.0175  0.0936  0.0125  0.1336 -0.0448\n",
       "-0.0255 -0.0028  0.2134  0.2343  0.0711 -0.0376  0.1049  0.1160  0.0129  0.0790\n",
       "-0.0232  0.0866 -0.0045 -0.1152 -0.1051  0.1054  0.1353 -0.0263  0.2890  0.0724\n",
       " 0.0464  0.0613  0.0948  0.1063  0.1349  0.0456  0.0842 -0.0721  0.0119 -0.1091\n",
       " 0.0110  0.0568  0.0146  0.0136 -0.1240  0.0560  0.0900 -0.0575  0.0456 -0.1623\n",
       "-0.1235 -0.0557  0.0548  0.0435 -0.0073  0.1025  0.1208  0.0028 -0.0870  0.0320\n",
       "-0.0126 -0.1357 -0.0675  0.1384  0.1248 -0.0761  0.1753 -0.0785  0.0700  0.0307\n",
       "\n",
       "Columns 30 to 31 \n",
       " 0.1841  0.1714\n",
       "-0.1000 -0.1153\n",
       "-0.0643  0.0843\n",
       "-0.2026  0.0409\n",
       "-0.0110 -0.1018\n",
       " 0.1867 -0.0566\n",
       " 0.0473  0.1340\n",
       " 0.0735 -0.1193\n",
       " 0.0343 -0.1248\n",
       " 0.1120  0.1097\n",
       " 0.1438 -0.1043\n",
       "-0.0811 -0.1578\n",
       " 0.0324  0.0802\n",
       " 0.0304  0.0084\n",
       "-0.0430 -0.1095\n",
       "-0.0338 -0.0498\n",
       "-0.1366  0.1212\n",
       "-0.2050  0.1472\n",
       " 0.0405  0.1716\n",
       "-0.1324 -0.0656\n",
       " 0.0591 -0.1004\n",
       "[torch.FloatTensor of size 21x32]"
      ]
     },
     "execution_count": 91,
     "metadata": {},
     "output_type": "execute_result"
    }
   ],
   "source": [
    "model[(0)].weight"
   ]
  },
  {
   "cell_type": "code",
   "execution_count": 92,
   "metadata": {
    "collapsed": false
   },
   "outputs": [
    {
     "data": {
      "text/plain": [
       "Parameter containing:\n",
       "\n",
       "Columns 0 to 9 \n",
       "-0.2251 -0.1877  0.0853  0.0822 -0.0434  0.0614 -0.1908  0.2101 -0.0808  0.0227\n",
       "-0.1685  0.3046 -0.0752  0.0452 -0.1208  0.1716  0.0823  0.2169 -0.0683  0.1905\n",
       "-0.0939 -0.0727 -0.0279  0.2089 -0.2197  0.0551  0.2198 -0.2126  0.2081 -0.1652\n",
       "-0.1396 -0.0402  0.0898 -0.1558  0.1662  0.1778  0.1918  0.0128 -0.1012 -0.0293\n",
       "-0.0721 -0.1021  0.0283  0.1693 -0.0261  0.2315  0.2127 -0.0050  0.0839  0.1287\n",
       " 0.0317 -0.2664  0.1254  0.1829  0.0547 -0.0051  0.1151  0.0685  0.1559 -0.1742\n",
       " 0.0342  0.0288 -0.1717  0.1208  0.0676 -0.1186 -0.2034 -0.1809  0.2352  0.0464\n",
       " 0.1964 -0.0112 -0.0295  0.1796 -0.1198 -0.1453 -0.0203 -0.0685  0.0537  0.0749\n",
       "-0.1588  0.0653  0.1323  0.1009  0.0579  0.1317 -0.0045 -0.1782 -0.0947 -0.0472\n",
       "-0.1305  0.2572  0.1656  0.1816 -0.1224  0.0668  0.0131  0.1645 -0.1556  0.1016\n",
       "-0.1060  0.1072 -0.0400 -0.0618 -0.1408 -0.0404  0.1698  0.0971  0.1020 -0.2026\n",
       " 0.2132  0.0888 -0.0275 -0.0125  0.2001 -0.0181  0.0131 -0.0177  0.0728  0.1429\n",
       " 0.0627 -0.0751  0.1815 -0.2217 -0.1049 -0.0312 -0.0870 -0.0390 -0.1129 -0.1470\n",
       " 0.0344  0.1760  0.0663 -0.0128  0.0516 -0.0519 -0.0079  0.1417  0.2454 -0.1275\n",
       "\n",
       "Columns 10 to 19 \n",
       "-0.0972  0.0644  0.1066  0.0734  0.1012 -0.1840 -0.1058  0.1768  0.1320  0.2055\n",
       " 0.1326 -0.2133  0.1024 -0.0827  0.2046  0.2663 -0.3298 -0.1326  0.1119  0.0807\n",
       " 0.0371  0.1961  0.2066  0.1021 -0.1807 -0.1909 -0.1820 -0.2118 -0.0594 -0.1347\n",
       " 0.0591 -0.2143  0.2091  0.1207 -0.1014 -0.0534 -0.1266  0.1372  0.0956  0.1313\n",
       " 0.0724 -0.1311 -0.0402  0.1028 -0.0204 -0.0076  0.2638 -0.1090  0.1690 -0.1247\n",
       "-0.1004  0.2193 -0.0809  0.1997  0.1146 -0.0822 -0.1099 -0.1162 -0.0616 -0.0197\n",
       " 0.1559  0.1339  0.1436 -0.1769 -0.1585 -0.1360 -0.0655 -0.1783  0.1189  0.0702\n",
       " 0.1588 -0.1587  0.1108 -0.0759 -0.0687  0.0688  0.1911 -0.1277 -0.1749  0.0934\n",
       " 0.0526  0.2113 -0.1833  0.0161  0.0114 -0.2260  0.1102  0.0117  0.1227  0.1483\n",
       "-0.1723  0.0842  0.1901 -0.0581 -0.1048 -0.1685  0.0432  0.0380  0.2441  0.2240\n",
       " 0.0616  0.0852  0.1703 -0.1664 -0.0514  0.2104 -0.0120  0.1397  0.1045  0.2273\n",
       " 0.0963  0.1036  0.1581 -0.0422  0.0944  0.1555 -0.0047  0.1617  0.2413 -0.0441\n",
       " 0.1733  0.1134 -0.1259 -0.1447  0.0804 -0.1628 -0.0301  0.1033 -0.0025  0.1017\n",
       " 0.1001  0.2093  0.1808  0.1969 -0.1784 -0.2072  0.0592  0.0967 -0.1706 -0.0765\n",
       "\n",
       "Columns 20 to 20 \n",
       "-0.1187\n",
       "-0.2415\n",
       "-0.0798\n",
       " 0.0566\n",
       "-0.1887\n",
       "-0.1999\n",
       " 0.2019\n",
       " 0.0632\n",
       "-0.1695\n",
       "-0.2021\n",
       " 0.1321\n",
       " 0.1335\n",
       " 0.0548\n",
       "-0.0557\n",
       "[torch.FloatTensor of size 14x21]"
      ]
     },
     "execution_count": 92,
     "metadata": {},
     "output_type": "execute_result"
    }
   ],
   "source": [
    "model[(2)].weight"
   ]
  },
  {
   "cell_type": "code",
   "execution_count": 93,
   "metadata": {
    "collapsed": false
   },
   "outputs": [
    {
     "data": {
      "text/plain": [
       "Parameter containing:\n",
       "\n",
       "Columns 0 to 9 \n",
       " 0.1798  0.3810  0.0265  0.1324 -0.1803 -0.1987 -0.0999 -0.0517 -0.1412  0.0371\n",
       "-0.2412 -0.0921  0.1803 -0.1215  0.2263  0.0722 -0.0496 -0.1803  0.2050  0.0622\n",
       "-0.0924  0.2824  0.0185  0.2452 -0.1754 -0.0241 -0.2081  0.1278 -0.0233  0.1868\n",
       " 0.0958  0.3511 -0.2519 -0.1106 -0.2196 -0.2057  0.0355 -0.2162 -0.2158  0.3283\n",
       "-0.0811  0.2822 -0.2813 -0.0814  0.1305 -0.0485 -0.1893  0.1138  0.1628 -0.1175\n",
       " 0.2166  0.1625 -0.1761  0.0882  0.1526 -0.1536  0.1121  0.0590 -0.1068 -0.1564\n",
       " 0.1262  0.1612  0.2331 -0.0176  0.2570 -0.2299  0.0580  0.2401  0.0325  0.1862\n",
       " 0.0741 -0.2255 -0.0115  0.1483 -0.1309 -0.1740 -0.0912  0.0341 -0.2192  0.2214\n",
       "-0.1253  0.1428  0.0709 -0.2142 -0.1159 -0.0062  0.0465 -0.2450 -0.2117 -0.0656\n",
       "\n",
       "Columns 10 to 13 \n",
       " 0.2247  0.2015 -0.1629 -0.2296\n",
       " 0.1704 -0.0889  0.0232  0.2082\n",
       " 0.1808 -0.0862 -0.0053 -0.3146\n",
       "-0.1851  0.2169 -0.0984  0.0584\n",
       " 0.3156  0.0716 -0.1481  0.1229\n",
       " 0.0517 -0.0040  0.1732  0.0463\n",
       " 0.2447 -0.2033 -0.1335  0.1329\n",
       "-0.0708 -0.2406 -0.1212 -0.0186\n",
       "-0.1747  0.2127 -0.1634 -0.2260\n",
       "[torch.FloatTensor of size 9x14]"
      ]
     },
     "execution_count": 93,
     "metadata": {},
     "output_type": "execute_result"
    }
   ],
   "source": [
    "model[(4)].weight"
   ]
  },
  {
   "cell_type": "code",
   "execution_count": 94,
   "metadata": {
    "collapsed": false
   },
   "outputs": [
    {
     "data": {
      "text/plain": [
       "Parameter containing:\n",
       " 0.3007 -0.3399  0.4186  0.5300  0.0560 -0.2458 -0.1707 -0.1960 -0.0000\n",
       "-0.0211 -0.2529  0.1843 -0.0960  0.0433 -0.3316 -0.2741  0.0253  0.0074\n",
       "-0.3259  0.2316 -0.1117  0.1744 -0.1987 -0.3179  0.0943 -0.0964  0.2973\n",
       " 0.3879 -0.0755  0.2382  0.1532  0.3775 -0.3182  0.2152  0.1074  0.1270\n",
       " 0.1620 -0.1016 -0.1660 -0.0022  0.0593  0.2733 -0.2178 -0.0848 -0.2347\n",
       "-0.1373 -0.2078 -0.2296 -0.3170 -0.0681 -0.2739 -0.0768  0.1186 -0.1254\n",
       "[torch.FloatTensor of size 6x9]"
      ]
     },
     "execution_count": 94,
     "metadata": {},
     "output_type": "execute_result"
    }
   ],
   "source": [
    "model[(6)].weight"
   ]
  },
  {
   "cell_type": "code",
   "execution_count": 95,
   "metadata": {
    "collapsed": false
   },
   "outputs": [
    {
     "data": {
      "text/plain": [
       "Parameter containing:\n",
       " 0.3123  0.1453 -0.2013  0.1026  0.1784 -0.1846\n",
       " 0.5773 -0.0217 -0.3574  0.3416 -0.2996  0.0289\n",
       " 0.5000  0.1455 -0.2941  0.4721 -0.0105  0.1563\n",
       "-0.0551 -0.1489  0.2082  0.1865 -0.0500  0.2342\n",
       "[torch.FloatTensor of size 4x6]"
      ]
     },
     "execution_count": 95,
     "metadata": {},
     "output_type": "execute_result"
    }
   ],
   "source": [
    "model[(8)].weight"
   ]
  },
  {
   "cell_type": "code",
   "execution_count": 96,
   "metadata": {
    "collapsed": false
   },
   "outputs": [
    {
     "data": {
      "text/plain": [
       "Parameter containing:\n",
       "-0.0648  0.6477  0.6279 -0.3371\n",
       "[torch.FloatTensor of size 1x4]"
      ]
     },
     "execution_count": 96,
     "metadata": {},
     "output_type": "execute_result"
    }
   ],
   "source": [
    "model[(10)].weight"
   ]
  },
  {
   "cell_type": "markdown",
   "metadata": {},
   "source": [
    "## Round 6: Six-Hidden-Layer Neural Network"
   ]
  },
  {
   "cell_type": "code",
   "execution_count": 97,
   "metadata": {
    "collapsed": true
   },
   "outputs": [],
   "source": [
    "# Make the torch Tensor into a PyTorch Variable for dependent variables\n",
    "outcomes_Variable = Variable(outcomes_Tensor)\n",
    "\n",
    "\n",
    "# ...for independent variables\n",
    "features_Variable = Variable(features_Tensor,\n",
    "                             requires_grad = False)"
   ]
  },
  {
   "cell_type": "code",
   "execution_count": 98,
   "metadata": {
    "collapsed": true
   },
   "outputs": [],
   "source": [
    "# Make the neural network\n",
    "model = torch.nn.Sequential(torch.nn.Linear(32, 21),\n",
    "                            torch.nn.ReLU(),\n",
    "                            torch.nn.Linear(21, 14),\n",
    "                            torch.nn.ReLU(),\n",
    "                            torch.nn.Linear(14, 9),\n",
    "                            torch.nn.ReLU(),\n",
    "                            torch.nn.Linear(9, 6),\n",
    "                            torch.nn.ReLU(),\n",
    "                            torch.nn.Linear(6, 4),\n",
    "                            torch.nn.ReLU(),\n",
    "                            torch.nn.Linear(4, 3),\n",
    "                            torch.nn.ReLU(),\n",
    "                            torch.nn.Linear(3, 1))"
   ]
  },
  {
   "cell_type": "code",
   "execution_count": 99,
   "metadata": {
    "collapsed": true
   },
   "outputs": [],
   "source": [
    "# To add errors to\n",
    "errors = []\n",
    "\n",
    "\n",
    "# Set the learning rate\n",
    "learning_rate = 5e-6\n",
    "\n",
    "\n",
    "# Train the neural network\n",
    "for t in range(10000):\n",
    "    \n",
    "    # Get the current predictions\n",
    "    y_pred = model(features_Variable)\n",
    "    \n",
    "    # Compute and append current summed errors\n",
    "    loss = loss_fn(y_pred, outcomes_Variable)\n",
    "    errors.append(loss.data[0])\n",
    "    \n",
    "    # Zero the gradients before running the backward pass.\n",
    "    model.zero_grad()\n",
    "    \n",
    "    # Backward pass: compute gradient of the loss with respect to all the learnable Variables\n",
    "    loss.backward()\n",
    "    \n",
    "    # Update the weights using gradient descent\n",
    "    for param in model.parameters():\n",
    "        param.data -= learning_rate * param.grad.data"
   ]
  },
  {
   "cell_type": "code",
   "execution_count": 100,
   "metadata": {
    "collapsed": false
   },
   "outputs": [
    {
     "data": {
      "text/plain": [
       "<matplotlib.collections.PathCollection at 0x7f338cfdc2b0>"
      ]
     },
     "execution_count": 100,
     "metadata": {},
     "output_type": "execute_result"
    },
    {
     "data": {
      "image/png": "[encoded data removed]",
      "text/plain": [
       "<matplotlib.figure.Figure at 0x7f338d2822b0>"
      ]
     },
     "metadata": {},
     "output_type": "display_data"
    }
   ],
   "source": [
    "# Plot summed error as a function of iteration\n",
    "plt.scatter(iterations, errors)"
   ]
  },
  {
   "cell_type": "code",
   "execution_count": 101,
   "metadata": {
    "collapsed": true
   },
   "outputs": [],
   "source": [
    "# Get rid of the 2nd dimension of 1 from the FloatTensor\n",
    "y_pred_resized = y_pred.resize(8253)\n",
    "\n",
    "\n",
    "# Make the FloatTensor into a numpy.array\n",
    "y_pred_array = y_pred_resized.data.numpy()\n",
    "\n",
    "\n",
    "# Make the numpy.array into a list\n",
    "y_pred_list = y_pred_array.tolist()"
   ]
  },
  {
   "cell_type": "code",
   "execution_count": 102,
   "metadata": {
    "collapsed": false
   },
   "outputs": [
    {
     "data": {
      "text/plain": [
       "[<matplotlib.lines.Line2D at 0x7f338d1a9da0>]"
      ]
     },
     "execution_count": 102,
     "metadata": {},
     "output_type": "execute_result"
    },
    {
     "data": {
      "image/png": "[encoded data removed]",
      "text/plain": [
       "<matplotlib.figure.Figure at 0x7f338d01fd30>"
      ]
     },
     "metadata": {},
     "output_type": "display_data"
    }
   ],
   "source": [
    "# Plot predictions versus training set outcomes\n",
    "plt.scatter(outcomes_list, y_pred_list)\n",
    "\n",
    "axes = plt.gca()\n",
    "\n",
    "axes.set_xlim([-2, 4])\n",
    "\n",
    "axes.set_ylim([-2, 4])\n",
    "\n",
    "plt.plot([-2, 4], [-2, 4], 'k-', lw=2)"
   ]
  },
  {
   "cell_type": "markdown",
   "metadata": {},
   "source": [
    "### Round 6.1: Validation Set Performance"
   ]
  },
  {
   "cell_type": "code",
   "execution_count": 103,
   "metadata": {
    "collapsed": false
   },
   "outputs": [
    {
     "data": {
      "text/plain": [
       "Variable containing:\n",
       " 273.9197\n",
       "[torch.FloatTensor of size 1]"
      ]
     },
     "execution_count": 103,
     "metadata": {},
     "output_type": "execute_result"
    }
   ],
   "source": [
    "# Get the validation set predictions\n",
    "y_valid_pred = model(valid_predictors_Variable)\n",
    "\n",
    "\n",
    "# Print the loss\n",
    "loss_fn(y_valid_pred,\n",
    "        valid_outcomes_Variable)"
   ]
  },
  {
   "cell_type": "code",
   "execution_count": 104,
   "metadata": {
    "collapsed": true
   },
   "outputs": [],
   "source": [
    "# Get rid of the 2nd dimension of 1 from the FloatTensor\n",
    "y_valid_pred_resized = y_valid_pred.resize(2741)\n",
    "\n",
    "\n",
    "# Make the FloatTensor into a numpy.array\n",
    "y_valid_pred_array = y_valid_pred_resized.data.numpy()\n",
    "\n",
    "\n",
    "# Make the numpy.array into a list\n",
    "y_valid_pred_list = y_valid_pred_array.tolist()"
   ]
  },
  {
   "cell_type": "code",
   "execution_count": 105,
   "metadata": {
    "collapsed": false
   },
   "outputs": [
    {
     "data": {
      "text/plain": [
       "[<matplotlib.lines.Line2D at 0x7f338cf15748>]"
      ]
     },
     "execution_count": 105,
     "metadata": {},
     "output_type": "execute_result"
    },
    {
     "data": {
      "image/png": "[encoded data removed]",
      "text/plain": [
       "<matplotlib.figure.Figure at 0x7f338cf15780>"
      ]
     },
     "metadata": {},
     "output_type": "display_data"
    }
   ],
   "source": [
    "# Plot new predictions versus new data outcomes\n",
    "plt.scatter(valid_outcomes_list, y_valid_pred_list)\n",
    "\n",
    "axes = plt.gca()\n",
    "\n",
    "axes.set_xlim([-2, 4])\n",
    "\n",
    "axes.set_ylim([-2, 4])\n",
    "\n",
    "plt.plot([-2, 4], [-2, 4], 'k-', lw=2)"
   ]
  },
  {
   "cell_type": "markdown",
   "metadata": {},
   "source": [
    "### Round 6.2: Test Set Performance"
   ]
  },
  {
   "cell_type": "code",
   "execution_count": 106,
   "metadata": {
    "collapsed": false
   },
   "outputs": [
    {
     "data": {
      "text/plain": [
       "Variable containing:\n",
       " 276.3979\n",
       "[torch.FloatTensor of size 1]"
      ]
     },
     "execution_count": 106,
     "metadata": {},
     "output_type": "execute_result"
    }
   ],
   "source": [
    "# Get the validation set predictions\n",
    "y_test_pred = model(test_predictors_Variable)\n",
    "\n",
    "\n",
    "# Print the loss\n",
    "loss_fn(y_test_pred,\n",
    "        test_outcomes_Variable)"
   ]
  },
  {
   "cell_type": "code",
   "execution_count": 107,
   "metadata": {
    "collapsed": true
   },
   "outputs": [],
   "source": [
    "# Get rid of the 2nd dimension of 1 from the FloatTensor\n",
    "y_test_pred_resized = y_test_pred.resize(2683)\n",
    "\n",
    "\n",
    "# Make the FloatTensor into a numpy.array\n",
    "y_test_pred_array = y_test_pred_resized.data.numpy()\n",
    "\n",
    "\n",
    "# Convert back to native units and scale\n",
    "y_test_pred_array = y_test_pred_array*5.409956 + 7.691221\n",
    "\n",
    "\n",
    "# Make the numpy.array into a list\n",
    "y_test_pred_list = y_test_pred_array.tolist()"
   ]
  },
  {
   "cell_type": "code",
   "execution_count": 108,
   "metadata": {
    "collapsed": false
   },
   "outputs": [
    {
     "data": {
      "text/plain": [
       "<matplotlib.text.Text at 0x7f338ce5abe0>"
      ]
     },
     "execution_count": 108,
     "metadata": {},
     "output_type": "execute_result"
    },
    {
     "data": {
      "image/png": "[encoded data removed]",
      "text/plain": [
       "<matplotlib.figure.Figure at 0x7f338cf0d710>"
      ]
     },
     "metadata": {},
     "output_type": "display_data"
    }
   ],
   "source": [
    "# Plot new predictions versus new data outcomes\n",
    "plt.scatter(test_outcomes_list, y_test_pred_list)\n",
    "\n",
    "axes = plt.gca()\n",
    "\n",
    "axes.set_xlim([2, 23])\n",
    "\n",
    "axes.set_ylim([2, 23])\n",
    "\n",
    "axes.set_xticks([2, 5, 8, 11, 14, 17, 20, 23])\n",
    "\n",
    "axes.set_yticks([2, 5, 8, 11, 14, 17, 20, 23])\n",
    "\n",
    "plt.plot([2, 23], [2, 23], 'k-', lw=2)\n",
    "\n",
    "axes.set_xlabel(\"Actual Outcome (Log-Transformed US Dollars)\")\n",
    "\n",
    "axes.set_ylabel(\"Model Prediction (Log-Transformed US Dollars)\")\n",
    "\n",
    "axes.set_title(\"Model Performance\")"
   ]
  },
  {
   "cell_type": "code",
   "execution_count": 109,
   "metadata": {
    "collapsed": false
   },
   "outputs": [
    {
     "data": {
      "text/plain": [
       "Parameter containing:\n",
       "\n",
       "Columns 0 to 9 \n",
       " 0.1141  0.0645  0.0512 -0.0113 -0.0233 -0.0057 -0.1103 -0.0077  0.1067 -0.0488\n",
       "-0.0695 -0.0584 -0.0894  0.0904  0.1736 -0.1955  0.1551  0.0337 -0.1376  0.1037\n",
       "-0.0767  0.0574 -0.1222 -0.0302  0.0509  0.0616 -0.1384  0.1244  0.0970 -0.0133\n",
       " 0.0951  0.0543  0.2284 -0.0991  0.1927 -0.2005 -0.0729 -0.0129  0.0397  0.0215\n",
       "-0.0138 -0.0644  0.0727  0.0246 -0.2046 -0.2027  0.0397 -0.0707  0.1297 -0.0021\n",
       "-0.0141 -0.0303  0.1587  0.0182 -0.0668  0.1049  0.1859 -0.0112 -0.0819 -0.0084\n",
       " 0.0700 -0.2632  0.0935 -0.0683  0.1288 -0.0007  0.2139  0.1784 -0.0405 -0.0010\n",
       " 0.1740  0.0163 -0.0625  0.0940 -0.1379 -0.1824 -0.1251 -0.1035 -0.0938  0.1247\n",
       "-0.0237 -0.0643  0.0798 -0.0362 -0.0774  0.1881 -0.1262 -0.0013  0.0955 -0.1496\n",
       "-0.0433  0.0733 -0.0532 -0.0615  0.0470  0.2376  0.0851  0.1305 -0.0390 -0.1198\n",
       " 0.1244 -0.0095 -0.0273 -0.1872  0.1128 -0.1558 -0.0615  0.0673  0.0313 -0.0424\n",
       "-0.0682 -0.0599  0.1655  0.1807  0.1258 -0.1211 -0.0040 -0.0435 -0.1633  0.0379\n",
       " 0.0747 -0.0161 -0.2125  0.1157  0.1532 -0.1428 -0.1009 -0.0483  0.0307  0.1068\n",
       "-0.0443 -0.0460  0.0998  0.0431 -0.0776  0.0356 -0.1591  0.0491  0.0266 -0.1116\n",
       " 0.2795  0.1127 -0.1864  0.2699  0.0616  0.0886  0.0683  0.0603 -0.0746 -0.0439\n",
       "-0.1853 -0.1047 -0.0644  0.1068  0.2265 -0.1785  0.1494 -0.0444  0.1053  0.1476\n",
       "-0.0421 -0.0608 -0.0469  0.2455 -0.1732 -0.0750  0.1008  0.1041 -0.0769 -0.0327\n",
       " 0.0003 -0.0866  0.2278 -0.0317 -0.1371 -0.1441 -0.1373 -0.0384 -0.0581  0.1556\n",
       "-0.0831 -0.0456 -0.0176  0.1629 -0.0347 -0.1443 -0.1007 -0.0596  0.1724  0.1361\n",
       "-0.1126 -0.0397 -0.1367  0.2549 -0.2745  0.0090 -0.0941 -0.0267  0.0507  0.0755\n",
       "-0.1258 -0.0979  0.1049  0.0761 -0.0346 -0.0800 -0.1209 -0.0607 -0.0420 -0.1247\n",
       "\n",
       "Columns 10 to 19 \n",
       "-0.0306 -0.1632  0.0045  0.1225  0.0407  0.1839 -0.0834  0.0782 -0.1176  0.1143\n",
       "-0.1389  0.0902 -0.0827  0.0361 -0.0985  0.1076 -0.1478 -0.0314 -0.1336 -0.0641\n",
       "-0.1703  0.0248 -0.0086 -0.1619 -0.1115  0.0208 -0.1784 -0.2022 -0.1531  0.0047\n",
       " 0.0881 -0.0444  0.0002  0.1106 -0.0220 -0.1517  0.0566 -0.0171 -0.2113  0.1146\n",
       " 0.1281  0.0883 -0.0458  0.1181 -0.0738 -0.0714  0.2052  0.1410  0.0111  0.0180\n",
       " 0.0874 -0.1379 -0.1103  0.1979  0.0504 -0.0965 -0.1072  0.0102  0.1170  0.1797\n",
       "-0.1553  0.0735  0.0353 -0.1662  0.1207  0.0507  0.1046 -0.1282  0.0511 -0.1650\n",
       "-0.0344  0.1175 -0.0566  0.1937 -0.1335 -0.0377 -0.0979  0.1003 -0.0346  0.1559\n",
       "-0.0440 -0.0347 -0.0982 -0.0625 -0.0062 -0.0162  0.0466 -0.1354 -0.0501  0.1139\n",
       "-0.0323 -0.0022  0.1392 -0.1181 -0.1343  0.0612 -0.0895 -0.0081 -0.1208 -0.0223\n",
       "-0.1071  0.1217  0.0834  0.0976  0.1093 -0.0567  0.1456 -0.1038 -0.1622  0.1354\n",
       " 0.0142 -0.0048  0.1739  0.0229 -0.1815  0.0689 -0.1578 -0.1482 -0.1292  0.1311\n",
       " 0.0195 -0.0326  0.0110  0.0489  0.1129  0.1757 -0.1188 -0.0982 -0.1059 -0.0155\n",
       "-0.1028  0.0230  0.0094 -0.1596 -0.0876 -0.0206 -0.1439 -0.0536 -0.1327 -0.0580\n",
       " 0.1041  0.0660 -0.1631 -0.0488  0.0458 -0.0521 -0.0458  0.0191  0.0014 -0.0458\n",
       " 0.1080  0.0424  0.1092 -0.1438 -0.0030 -0.0946 -0.1875  0.0527  0.1347 -0.0082\n",
       "-0.0191 -0.1636 -0.1859 -0.1888  0.1034  0.0021 -0.0177 -0.1205 -0.0414  0.0146\n",
       " 0.1281 -0.0286  0.2028 -0.1064 -0.1163 -0.1560  0.0518  0.0722  0.0964 -0.1474\n",
       " 0.0542  0.1461 -0.0339 -0.1154 -0.0795 -0.0706  0.1102 -0.1203  0.2063 -0.1404\n",
       "-0.0177  0.2156 -0.0363  0.1332  0.1334  0.0740 -0.0334 -0.0288  0.0406  0.0432\n",
       "-0.1749  0.0805  0.0892 -0.1151 -0.0041  0.1312  0.0311  0.3276 -0.0442 -0.0240\n",
       "\n",
       "Columns 20 to 29 \n",
       "-0.0971 -0.0719  0.0507  0.1100  0.2111  0.1675  0.0196 -0.0915  0.0736 -0.0255\n",
       "-0.0543 -0.1694 -0.1768  0.1454  0.1586  0.1212 -0.1835 -0.0857 -0.1197  0.1537\n",
       " 0.1879 -0.0709 -0.1252  0.0883 -0.0925  0.1213 -0.2284 -0.1324 -0.1534  0.0079\n",
       " 0.0899 -0.1250  0.0762  0.1526  0.1922 -0.0483  0.1220  0.1795  0.0351  0.0948\n",
       " 0.0930 -0.0135 -0.1408  0.0260 -0.0394  0.0605 -0.1659 -0.0562 -0.1547 -0.0610\n",
       " 0.1359 -0.0218 -0.2130 -0.0977 -0.0137 -0.1264 -0.1883  0.0764 -0.0240 -0.0379\n",
       " 0.0455 -0.0446  0.1165  0.0029 -0.0757 -0.0018  0.0758 -0.1064 -0.0548  0.2580\n",
       " 0.0207 -0.0586 -0.0313 -0.0393  0.1016  0.1531 -0.0002  0.1033  0.0636 -0.1296\n",
       "-0.0068  0.0284  0.0144  0.1701  0.1046 -0.0080 -0.2261 -0.0066 -0.2229  0.1329\n",
       " 0.0144  0.0898  0.0899 -0.1126  0.0601 -0.0143  0.0934 -0.0849  0.0107  0.1523\n",
       "-0.0732 -0.1102  0.0485 -0.0619 -0.1983 -0.0773 -0.0504  0.0652 -0.0307  0.0757\n",
       "-0.0176  0.0475  0.0212 -0.1806 -0.0993 -0.0151  0.0564  0.0023 -0.0145  0.0725\n",
       "-0.1024  0.0415 -0.1145 -0.0631 -0.1047 -0.1247 -0.0756  0.1088 -0.0934 -0.1090\n",
       " 0.0082 -0.0669 -0.0194 -0.0416  0.0545 -0.1202  0.0066 -0.0544  0.1306 -0.1166\n",
       " 0.0243  0.1062 -0.0378  0.1456  0.0728 -0.2274  0.1167 -0.1501  0.0101 -0.1036\n",
       "-0.0354 -0.0444  0.1331  0.0220 -0.1368  0.0162  0.1258  0.0953 -0.0294 -0.0711\n",
       "-0.0416 -0.0648 -0.0235 -0.1281 -0.0097 -0.1489 -0.0657  0.0834 -0.2206  0.0315\n",
       "-0.0032 -0.0419  0.0434 -0.1320 -0.1149  0.0566  0.0959  0.0852  0.2499 -0.0423\n",
       "-0.0310  0.0116  0.1370  0.0481  0.0214 -0.1014  0.1563  0.0287  0.0328  0.1656\n",
       " 0.0690 -0.0287 -0.1270 -0.1892 -0.0562  0.1546 -0.1050 -0.1293  0.1842 -0.0389\n",
       "-0.0034  0.0185  0.0939 -0.0991 -0.0827  0.0512  0.1128  0.0678  0.1389  0.1914\n",
       "\n",
       "Columns 30 to 31 \n",
       "-0.0444 -0.0566\n",
       " 0.0180  0.0119\n",
       " 0.0721  0.1177\n",
       " 0.0460 -0.0500\n",
       "-0.0125  0.1913\n",
       "-0.1296  0.0422\n",
       "-0.0709  0.1530\n",
       "-0.1093 -0.1304\n",
       "-0.0944  0.0055\n",
       " 0.0115  0.1502\n",
       "-0.0624  0.1302\n",
       "-0.0572 -0.0315\n",
       "-0.0215 -0.1265\n",
       "-0.2105 -0.0476\n",
       " 0.0434  0.0760\n",
       "-0.1688  0.2227\n",
       "-0.0385  0.1153\n",
       "-0.1545  0.1893\n",
       "-0.0557 -0.2001\n",
       "-0.1498 -0.1293\n",
       "-0.1664  0.0589\n",
       "[torch.FloatTensor of size 21x32]"
      ]
     },
     "execution_count": 109,
     "metadata": {},
     "output_type": "execute_result"
    }
   ],
   "source": [
    "model[(0)].weight"
   ]
  },
  {
   "cell_type": "code",
   "execution_count": 110,
   "metadata": {
    "collapsed": false
   },
   "outputs": [
    {
     "data": {
      "text/plain": [
       "Parameter containing:\n",
       "\n",
       "Columns 0 to 9 \n",
       " 0.1808 -0.1960  0.0425  0.1660  0.0375 -0.0903  0.2463  0.0752 -0.2076 -0.0459\n",
       "-0.0712 -0.0505  0.2302 -0.0116 -0.0245 -0.1282  0.0734  0.0214 -0.1143 -0.1425\n",
       "-0.1707 -0.0353  0.0845 -0.1360  0.0167 -0.1592 -0.1601 -0.1507 -0.1270 -0.1801\n",
       "-0.1563  0.1306  0.1239 -0.2017  0.1496 -0.0901  0.0571 -0.0498 -0.2315  0.1506\n",
       "-0.0293  0.1153 -0.1681  0.1585 -0.0004  0.0586 -0.0913 -0.1150 -0.0680 -0.1455\n",
       " 0.2484 -0.0060 -0.1904  0.1222  0.2379  0.1057  0.2616 -0.2701 -0.0857 -0.1132\n",
       "-0.1209  0.1149  0.1790  0.0589 -0.1583  0.0782  0.0162  0.1333  0.0831 -0.0774\n",
       " 0.2331 -0.0835  0.2449  0.0695 -0.0506 -0.1432  0.0881 -0.0540  0.0978 -0.1303\n",
       "-0.2053 -0.1800  0.1795  0.0253  0.0992 -0.1043  0.0816 -0.1934  0.1453  0.1376\n",
       "-0.1103  0.0802  0.1181  0.0832 -0.0412 -0.0921 -0.1863  0.0749 -0.2581 -0.1252\n",
       "-0.0910 -0.2233  0.0804  0.1275  0.1111 -0.0116 -0.1381 -0.1066 -0.0254  0.1285\n",
       " 0.0583  0.2397  0.0016  0.1951  0.0657  0.0788  0.1647 -0.0997  0.0513 -0.0396\n",
       "-0.1456  0.0318  0.2018 -0.1335  0.2358  0.0710 -0.1503  0.1108  0.0998 -0.1739\n",
       "-0.1292 -0.0368  0.1165  0.0011 -0.0519  0.0072 -0.1056  0.0109  0.1150  0.0029\n",
       "\n",
       "Columns 10 to 19 \n",
       " 0.1585  0.1366 -0.2512 -0.1771  0.1185  0.1649  0.0252  0.0827 -0.0225 -0.2715\n",
       "-0.0425 -0.1564  0.0517  0.1979 -0.0199  0.0692  0.1035 -0.0651 -0.0197  0.1346\n",
       " 0.1158  0.0878 -0.1881  0.1133  0.1308  0.1815  0.1399  0.0629  0.1349  0.2164\n",
       " 0.1252  0.0131 -0.2033  0.1107  0.2583 -0.1298  0.0555  0.0263  0.0669  0.1059\n",
       "-0.1654  0.2267  0.1020 -0.2312  0.0519  0.1285 -0.2174  0.1711  0.1412 -0.1346\n",
       " 0.0466  0.1890 -0.2814  0.1365  0.2019  0.0167  0.0388 -0.2773  0.2236  0.0645\n",
       " 0.1019 -0.1055  0.0671 -0.1133  0.1595 -0.1881 -0.0622 -0.1731 -0.0402 -0.1009\n",
       "-0.0494 -0.0558  0.0510 -0.0308  0.1700  0.0201 -0.2739 -0.2947  0.0007 -0.2421\n",
       " 0.1284 -0.1669 -0.2015  0.1576 -0.2095 -0.1476  0.0331 -0.0953  0.0282  0.1664\n",
       "-0.0675  0.1403 -0.0785  0.1348  0.0687  0.1336 -0.1812  0.0999 -0.0139 -0.2258\n",
       " 0.0233  0.2252  0.1256 -0.1430  0.2295  0.2095 -0.1287 -0.2404  0.0419 -0.0212\n",
       " 0.1948  0.0021  0.2539  0.1112 -0.2459  0.0620 -0.1210  0.0929 -0.1938 -0.1141\n",
       " 0.0084  0.1129  0.0082 -0.0910  0.1799  0.0897 -0.0289 -0.1833 -0.0331  0.0986\n",
       " 0.1781  0.0375 -0.0354  0.0220 -0.1780 -0.1665 -0.0956 -0.0217 -0.0939  0.1940\n",
       "\n",
       "Columns 20 to 20 \n",
       " 0.1175\n",
       " 0.1580\n",
       " 0.2125\n",
       "-0.1766\n",
       " 0.1963\n",
       " 0.1698\n",
       " 0.0267\n",
       " 0.1167\n",
       "-0.0916\n",
       " 0.0415\n",
       "-0.1012\n",
       " 0.0632\n",
       "-0.0493\n",
       " 0.0326\n",
       "[torch.FloatTensor of size 14x21]"
      ]
     },
     "execution_count": 110,
     "metadata": {},
     "output_type": "execute_result"
    }
   ],
   "source": [
    "model[(2)].weight"
   ]
  },
  {
   "cell_type": "code",
   "execution_count": 111,
   "metadata": {
    "collapsed": false
   },
   "outputs": [
    {
     "data": {
      "text/plain": [
       "Parameter containing:\n",
       "\n",
       "Columns 0 to 9 \n",
       " 0.2360  0.2200 -0.1541 -0.1258  0.3059  0.1394  0.0058  0.1647  0.2611  0.0126\n",
       " 0.0745  0.2690  0.0395  0.1672  0.1471  0.2222  0.2123 -0.0937  0.0083  0.2010\n",
       "-0.0268 -0.2483  0.0541  0.1823 -0.1892  0.0971  0.1041 -0.0983 -0.1453 -0.1115\n",
       "-0.0711  0.1727  0.1101 -0.1563  0.0530 -0.1259  0.0747  0.1706 -0.2204 -0.1358\n",
       " 0.3859  0.2103  0.0709 -0.1517 -0.0506  0.3011  0.2578  0.4296 -0.2525  0.2496\n",
       " 0.1452  0.0778  0.1992  0.0537  0.1271 -0.2337 -0.1121 -0.1837 -0.0832 -0.2442\n",
       "-0.1282  0.0178  0.1300 -0.1694  0.3034  0.2880 -0.2065  0.2419  0.1444  0.1547\n",
       " 0.0727 -0.1501 -0.1725 -0.2390 -0.0938  0.2600 -0.0253  0.1378  0.0474  0.2344\n",
       "-0.0671  0.2308  0.1449  0.0640  0.1987 -0.2368  0.1536  0.2346  0.1691 -0.1715\n",
       "\n",
       "Columns 10 to 13 \n",
       " 0.1710  0.1802 -0.2346 -0.0319\n",
       " 0.1378 -0.0307  0.0266  0.1956\n",
       " 0.1221 -0.2578 -0.0657  0.2573\n",
       "-0.0072 -0.0667 -0.1733  0.0178\n",
       " 0.0496 -0.3503 -0.1353 -0.0904\n",
       " 0.0829 -0.0563 -0.2647 -0.2111\n",
       " 0.2929 -0.1836 -0.2457  0.2278\n",
       " 0.2617 -0.2660  0.1252 -0.2058\n",
       "-0.0648 -0.1232 -0.1411 -0.1160\n",
       "[torch.FloatTensor of size 9x14]"
      ]
     },
     "execution_count": 111,
     "metadata": {},
     "output_type": "execute_result"
    }
   ],
   "source": [
    "model[(4)].weight"
   ]
  },
  {
   "cell_type": "code",
   "execution_count": 112,
   "metadata": {
    "collapsed": false
   },
   "outputs": [
    {
     "data": {
      "text/plain": [
       "Parameter containing:\n",
       " 0.2686  0.1174  0.2530  0.2267  0.2991 -0.0985  0.1692  0.4053 -0.1220\n",
       " 0.3512  0.0500 -0.2163  0.0832  0.4433 -0.0181  0.2185  0.0257 -0.0702\n",
       " 0.3088 -0.1549  0.1301 -0.1171  0.3179  0.2932  0.3470  0.1487 -0.1291\n",
       "-0.2595  0.0952  0.1061 -0.0898 -0.1905 -0.2035 -0.0040  0.2798 -0.0744\n",
       " 0.1569  0.0673  0.2289  0.1895 -0.1452  0.0693 -0.3309  0.1713 -0.2455\n",
       " 0.1543  0.0174 -0.3301  0.0686 -0.1229 -0.2848 -0.2452 -0.2719 -0.0397\n",
       "[torch.FloatTensor of size 6x9]"
      ]
     },
     "execution_count": 112,
     "metadata": {},
     "output_type": "execute_result"
    }
   ],
   "source": [
    "model[(6)].weight"
   ]
  },
  {
   "cell_type": "code",
   "execution_count": 113,
   "metadata": {
    "collapsed": false
   },
   "outputs": [
    {
     "data": {
      "text/plain": [
       "Parameter containing:\n",
       " 0.4453  0.7254  0.4135 -0.1206 -0.0207  0.2137\n",
       " 0.1437 -0.2717 -0.0730  0.3273 -0.3530 -0.3357\n",
       " 0.1975 -0.1613  0.2821 -0.3876 -0.3693  0.1159\n",
       " 0.2782 -0.3647 -0.2520  0.1174 -0.2498  0.2557\n",
       "[torch.FloatTensor of size 4x6]"
      ]
     },
     "execution_count": 113,
     "metadata": {},
     "output_type": "execute_result"
    }
   ],
   "source": [
    "model[(8)].weight"
   ]
  },
  {
   "cell_type": "code",
   "execution_count": 114,
   "metadata": {
    "collapsed": false
   },
   "outputs": [
    {
     "data": {
      "text/plain": [
       "Parameter containing:\n",
       " 0.4968  0.0211 -0.0720 -0.3675\n",
       " 0.4307 -0.5029 -0.1290  0.3669\n",
       " 0.7538 -0.0062  0.4100 -0.3277\n",
       "[torch.FloatTensor of size 3x4]"
      ]
     },
     "execution_count": 114,
     "metadata": {},
     "output_type": "execute_result"
    }
   ],
   "source": [
    "model[(10)].weight"
   ]
  },
  {
   "cell_type": "code",
   "execution_count": 115,
   "metadata": {
    "collapsed": false
   },
   "outputs": [
    {
     "data": {
      "text/plain": [
       "Parameter containing:\n",
       " 0.3744  0.4174  0.6977\n",
       "[torch.FloatTensor of size 1x3]"
      ]
     },
     "execution_count": 115,
     "metadata": {},
     "output_type": "execute_result"
    }
   ],
   "source": [
    "model[(12)].weight"
   ]
  },
  {
   "cell_type": "markdown",
   "metadata": {},
   "source": [
    "## Round 7: Seven-Hidden-Layer Neural Network"
   ]
  },
  {
   "cell_type": "code",
   "execution_count": 116,
   "metadata": {
    "collapsed": true
   },
   "outputs": [],
   "source": [
    "# Make the torch Tensor into a PyTorch Variable for dependent variables\n",
    "outcomes_Variable = Variable(outcomes_Tensor)\n",
    "\n",
    "\n",
    "# ...for independent variables\n",
    "features_Variable = Variable(features_Tensor,\n",
    "                             requires_grad = False)"
   ]
  },
  {
   "cell_type": "code",
   "execution_count": 117,
   "metadata": {
    "collapsed": true
   },
   "outputs": [],
   "source": [
    "# Make the neural network\n",
    "model = torch.nn.Sequential(torch.nn.Linear(32, 21),\n",
    "                            torch.nn.ReLU(),\n",
    "                            torch.nn.Linear(21, 14),\n",
    "                            torch.nn.ReLU(),\n",
    "                            torch.nn.Linear(14, 9),\n",
    "                            torch.nn.ReLU(),\n",
    "                            torch.nn.Linear(9, 6),\n",
    "                            torch.nn.ReLU(),\n",
    "                            torch.nn.Linear(6, 4),\n",
    "                            torch.nn.ReLU(),\n",
    "                            torch.nn.Linear(4, 3),\n",
    "                            torch.nn.ReLU(),\n",
    "                            torch.nn.Linear(3, 2),\n",
    "                            torch.nn.ReLU(),\n",
    "                            torch.nn.Linear(2, 1))"
   ]
  },
  {
   "cell_type": "code",
   "execution_count": 118,
   "metadata": {
    "collapsed": true
   },
   "outputs": [],
   "source": [
    "# To add errors to\n",
    "errors = []\n",
    "\n",
    "\n",
    "# Set the learning rate\n",
    "learning_rate = 5e-6\n",
    "\n",
    "\n",
    "# Train the neural network\n",
    "for t in range(10000):\n",
    "    \n",
    "    # Get the current predictions\n",
    "    y_pred = model(features_Variable)\n",
    "    \n",
    "    # Compute and append current summed errors\n",
    "    loss = loss_fn(y_pred, outcomes_Variable)\n",
    "    errors.append(loss.data[0])\n",
    "    \n",
    "    # Zero the gradients before running the backward pass.\n",
    "    model.zero_grad()\n",
    "    \n",
    "    # Backward pass: compute gradient of the loss with respect to all the learnable Variables\n",
    "    loss.backward()\n",
    "    \n",
    "    # Update the weights using gradient descent\n",
    "    for param in model.parameters():\n",
    "        param.data -= learning_rate * param.grad.data"
   ]
  },
  {
   "cell_type": "code",
   "execution_count": 119,
   "metadata": {
    "collapsed": false
   },
   "outputs": [
    {
     "data": {
      "text/plain": [
       "<matplotlib.collections.PathCollection at 0x7f338cda3a20>"
      ]
     },
     "execution_count": 119,
     "metadata": {},
     "output_type": "execute_result"
    },
    {
     "data": {
      "image/png": "[encoded data removed]",
      "text/plain": [
       "<matplotlib.figure.Figure at 0x7f338d09a550>"
      ]
     },
     "metadata": {},
     "output_type": "display_data"
    }
   ],
   "source": [
    "# Plot summed error as a function of iteration\n",
    "plt.scatter(iterations, errors)"
   ]
  },
  {
   "cell_type": "code",
   "execution_count": 120,
   "metadata": {
    "collapsed": true
   },
   "outputs": [],
   "source": [
    "# Get rid of the 2nd dimension of 1 from the FloatTensor\n",
    "y_pred_resized = y_pred.resize(8253)\n",
    "\n",
    "\n",
    "# Make the FloatTensor into a numpy.array\n",
    "y_pred_array = y_pred_resized.data.numpy()\n",
    "\n",
    "\n",
    "# Make the numpy.array into a list\n",
    "y_pred_list = y_pred_array.tolist()"
   ]
  },
  {
   "cell_type": "code",
   "execution_count": 121,
   "metadata": {
    "collapsed": false
   },
   "outputs": [
    {
     "data": {
      "text/plain": [
       "[<matplotlib.lines.Line2D at 0x7f338cd6ffd0>]"
      ]
     },
     "execution_count": 121,
     "metadata": {},
     "output_type": "execute_result"
    },
    {
     "data": {
      "image/png": "[encoded data removed]",
      "text/plain": [
       "<matplotlib.figure.Figure at 0x7f338cde63c8>"
      ]
     },
     "metadata": {},
     "output_type": "display_data"
    }
   ],
   "source": [
    "# Plot predictions versus training set outcomes\n",
    "plt.scatter(outcomes_list, y_pred_list)\n",
    "\n",
    "axes = plt.gca()\n",
    "\n",
    "axes.set_xlim([-2, 4])\n",
    "\n",
    "axes.set_ylim([-2, 4])\n",
    "\n",
    "plt.plot([-2, 4], [-2, 4], 'k-', lw=2)"
   ]
  },
  {
   "cell_type": "markdown",
   "metadata": {},
   "source": [
    "### Round 7.1: Validation Set Performance"
   ]
  },
  {
   "cell_type": "code",
   "execution_count": 122,
   "metadata": {
    "collapsed": false
   },
   "outputs": [
    {
     "data": {
      "text/plain": [
       "Variable containing:\n",
       " 271.3536\n",
       "[torch.FloatTensor of size 1]"
      ]
     },
     "execution_count": 122,
     "metadata": {},
     "output_type": "execute_result"
    }
   ],
   "source": [
    "# Get the validation set predictions\n",
    "y_valid_pred = model(valid_predictors_Variable)\n",
    "\n",
    "\n",
    "# Print the loss\n",
    "loss_fn(y_valid_pred,\n",
    "        valid_outcomes_Variable)"
   ]
  },
  {
   "cell_type": "code",
   "execution_count": 123,
   "metadata": {
    "collapsed": true
   },
   "outputs": [],
   "source": [
    "# Get rid of the 2nd dimension of 1 from the FloatTensor\n",
    "y_valid_pred_resized = y_valid_pred.resize(2741)\n",
    "\n",
    "\n",
    "# Make the FloatTensor into a numpy.array\n",
    "y_valid_pred_array = y_valid_pred_resized.data.numpy()\n",
    "\n",
    "\n",
    "# Make the numpy.array into a list\n",
    "y_valid_pred_list = y_valid_pred_array.tolist()"
   ]
  },
  {
   "cell_type": "code",
   "execution_count": 124,
   "metadata": {
    "collapsed": false
   },
   "outputs": [
    {
     "data": {
      "text/plain": [
       "[<matplotlib.lines.Line2D at 0x7f338ccdd080>]"
      ]
     },
     "execution_count": 124,
     "metadata": {},
     "output_type": "execute_result"
    },
    {
     "data": {
      "image/png": "[encoded data removed]",
      "text/plain": [
       "<matplotlib.figure.Figure at 0x7f338ccc6e48>"
      ]
     },
     "metadata": {},
     "output_type": "display_data"
    }
   ],
   "source": [
    "# Plot new predictions versus new data outcomes\n",
    "plt.scatter(valid_outcomes_list, y_valid_pred_list)\n",
    "\n",
    "axes = plt.gca()\n",
    "\n",
    "axes.set_xlim([-2, 4])\n",
    "\n",
    "axes.set_ylim([-2, 4])\n",
    "\n",
    "plt.plot([-2, 4], [-2, 4], 'k-', lw=2)"
   ]
  },
  {
   "cell_type": "markdown",
   "metadata": {},
   "source": [
    "### Round 7.2: Test Set Performance"
   ]
  },
  {
   "cell_type": "code",
   "execution_count": 125,
   "metadata": {
    "collapsed": false
   },
   "outputs": [
    {
     "data": {
      "text/plain": [
       "Variable containing:\n",
       " 269.6107\n",
       "[torch.FloatTensor of size 1]"
      ]
     },
     "execution_count": 125,
     "metadata": {},
     "output_type": "execute_result"
    }
   ],
   "source": [
    "# Get the validation set predictions\n",
    "y_test_pred = model(test_predictors_Variable)\n",
    "\n",
    "\n",
    "# Print the loss\n",
    "loss_fn(y_test_pred,\n",
    "        test_outcomes_Variable)"
   ]
  },
  {
   "cell_type": "code",
   "execution_count": 126,
   "metadata": {
    "collapsed": true
   },
   "outputs": [],
   "source": [
    "# Get rid of the 2nd dimension of 1 from the FloatTensor\n",
    "y_test_pred_resized = y_test_pred.resize(2683)\n",
    "\n",
    "\n",
    "# Make the FloatTensor into a numpy.array\n",
    "y_test_pred_array = y_test_pred_resized.data.numpy()\n",
    "\n",
    "\n",
    "# Convert back to native units and scale\n",
    "y_test_pred_array = y_test_pred_array*5.409956 + 7.691221\n",
    "\n",
    "\n",
    "# Make the numpy.array into a list\n",
    "y_test_pred_list = y_test_pred_array.tolist()"
   ]
  },
  {
   "cell_type": "code",
   "execution_count": 127,
   "metadata": {
    "collapsed": false
   },
   "outputs": [
    {
     "data": {
      "text/plain": [
       "<matplotlib.text.Text at 0x7f338cc2d160>"
      ]
     },
     "execution_count": 127,
     "metadata": {},
     "output_type": "execute_result"
    },
    {
     "data": {
      "image/png": "[encoded data removed]",
      "text/plain": [
       "<matplotlib.figure.Figure at 0x7f338cdd52b0>"
      ]
     },
     "metadata": {},
     "output_type": "display_data"
    }
   ],
   "source": [
    "# Plot new predictions versus new data outcomes\n",
    "plt.scatter(test_outcomes_list, y_test_pred_list)\n",
    "\n",
    "axes = plt.gca()\n",
    "\n",
    "axes.set_xlim([2, 23])\n",
    "\n",
    "axes.set_ylim([2, 23])\n",
    "\n",
    "axes.set_xticks([2, 5, 8, 11, 14, 17, 20, 23])\n",
    "\n",
    "axes.set_yticks([2, 5, 8, 11, 14, 17, 20, 23])\n",
    "\n",
    "plt.plot([2, 23], [2, 23], 'k-', lw=2)\n",
    "\n",
    "axes.set_xlabel(\"Actual Outcome (Log-Transformed US Dollars)\")\n",
    "\n",
    "axes.set_ylabel(\"Model Prediction (Log-Transformed US Dollars)\")\n",
    "\n",
    "axes.set_title(\"Model Performance\")"
   ]
  },
  {
   "cell_type": "code",
   "execution_count": 128,
   "metadata": {
    "collapsed": false
   },
   "outputs": [
    {
     "data": {
      "text/plain": [
       "Parameter containing:\n",
       "\n",
       "Columns 0 to 9 \n",
       "-0.0078 -0.0989 -0.0808  0.0631 -0.0003  0.0780 -0.1042  0.1369 -0.0375 -0.1787\n",
       "-0.0227 -0.0666  0.0183  0.0408  0.0221 -0.1119  0.0471  0.1106  0.0770  0.1072\n",
       " 0.0092  0.2850  0.0979 -0.0065  0.0975 -0.0018 -0.0048 -0.0105  0.1422 -0.0805\n",
       "-0.0235 -0.1560  0.2104  0.0946  0.1551 -0.1768 -0.0249 -0.0948  0.1734 -0.0090\n",
       "-0.1242 -0.0503 -0.1329  0.0564  0.1671  0.0812 -0.0177  0.0699 -0.0608 -0.1004\n",
       "-0.0547  0.1335  0.0261  0.1516 -0.0929  0.0483 -0.0527 -0.0110  0.0045 -0.0884\n",
       " 0.0484  0.2360  0.0214  0.0591  0.1097 -0.2140  0.1042 -0.0404 -0.0784 -0.1788\n",
       " 0.1284 -0.0388 -0.1534 -0.0469  0.0330 -0.0893 -0.0754  0.0555 -0.1274 -0.0619\n",
       "-0.0597 -0.0711 -0.0094  0.0044 -0.0627 -0.1411 -0.1182  0.0034 -0.1364  0.1867\n",
       " 0.2331 -0.0190 -0.2686  0.1129  0.0885  0.1584 -0.0775  0.0493  0.0141 -0.0151\n",
       "-0.0158  0.1086 -0.0837 -0.0794  0.0495 -0.1621 -0.0204 -0.1490  0.0828  0.1804\n",
       "-0.0016 -0.0930 -0.0232  0.0409  0.2926 -0.1055  0.0608  0.0237 -0.0681  0.0409\n",
       " 0.0806 -0.2016  0.0016  0.0808  0.0053  0.0818 -0.1292 -0.0653 -0.1185  0.1366\n",
       "-0.0654  0.0658 -0.0486  0.1814  0.1407 -0.1262  0.0448 -0.1044  0.1949  0.1456\n",
       " 0.1125  0.0315 -0.0329 -0.0624  0.0959 -0.0775 -0.0248 -0.0998  0.0748 -0.0854\n",
       " 0.0945  0.1102  0.0068  0.0566  0.1563 -0.0558 -0.2053  0.0236  0.1740  0.0641\n",
       "-0.1354 -0.0397  0.1066 -0.1029  0.1105 -0.2118 -0.1527  0.0416 -0.0703 -0.0341\n",
       " 0.0483  0.2621  0.1119 -0.0267  0.0976 -0.1143 -0.0592  0.0845 -0.1597  0.0366\n",
       " 0.1425 -0.2129  0.1420 -0.0871  0.0501  0.1361  0.1819  0.0267  0.1111  0.0090\n",
       " 0.0559  0.0517  0.0214 -0.0290 -0.1547 -0.0843  0.2113  0.0948 -0.1762  0.1637\n",
       " 0.0158 -0.0854  0.1646  0.1282  0.1379  0.1549 -0.0003 -0.0200 -0.1290  0.0629\n",
       "\n",
       "Columns 10 to 19 \n",
       " 0.1017  0.0532  0.1432  0.1830 -0.1337  0.0508 -0.0839  0.0966  0.1170 -0.0326\n",
       "-0.0290 -0.0156 -0.1078  0.1328  0.1808 -0.1123 -0.0978 -0.0933 -0.0008  0.1860\n",
       " 0.0116  0.0932 -0.0632 -0.0715  0.0809 -0.0580 -0.1426 -0.0968 -0.0488  0.0110\n",
       "-0.1402 -0.1400  0.0505 -0.0412 -0.0381 -0.0213  0.1023  0.1570  0.0175 -0.0962\n",
       "-0.1077 -0.0816 -0.0870  0.0231  0.1113 -0.0749 -0.0153  0.1343 -0.0789 -0.1101\n",
       " 0.1205  0.0750 -0.0084  0.1726  0.0001 -0.1304  0.0416  0.0272 -0.1023  0.1548\n",
       " 0.2324  0.0160  0.0093 -0.0300 -0.0132  0.1154 -0.1880 -0.1318  0.0426  0.0901\n",
       "-0.1324 -0.0546  0.0908  0.0719 -0.0335 -0.0670 -0.1275  0.1141  0.0321 -0.0324\n",
       " 0.0336  0.1023  0.0211  0.0714  0.0477 -0.0096  0.0089 -0.1346 -0.1635 -0.0892\n",
       "-0.0284  0.0791 -0.1953  0.0674  0.0236 -0.0043  0.0725  0.1167  0.0689 -0.1156\n",
       "-0.0064  0.0778 -0.0460 -0.0353  0.1980 -0.0087  0.0529 -0.0133 -0.0365  0.1818\n",
       " 0.0991  0.0391  0.1442 -0.0957  0.1181 -0.1304  0.1069 -0.0705 -0.0505  0.0600\n",
       "-0.1303 -0.1351  0.1082  0.0545  0.1245 -0.0879  0.1527  0.1287 -0.0394  0.1585\n",
       " 0.0971  0.0286 -0.0326 -0.0012 -0.1471 -0.0305 -0.0320  0.0506  0.0438  0.0179\n",
       " 0.0761  0.1668  0.0708  0.1685  0.1503 -0.2178 -0.1131 -0.0780  0.1633 -0.0387\n",
       " 0.1233  0.0973  0.0136  0.1261 -0.0903  0.1490 -0.1189  0.0613 -0.0239  0.0191\n",
       " 0.1828 -0.1315 -0.0531  0.0732 -0.0275  0.1597  0.1347 -0.0656  0.0421 -0.0629\n",
       "-0.1590  0.0698 -0.0432 -0.1110  0.1081  0.1336  0.1343  0.1099 -0.0247 -0.0458\n",
       " 0.0333  0.0346  0.0017  0.1782  0.0222  0.1199 -0.1450 -0.1024  0.0136 -0.1625\n",
       "-0.1066 -0.1530 -0.0389  0.1547  0.0475 -0.0857 -0.0829  0.0868 -0.0804 -0.0960\n",
       " 0.1526 -0.1245 -0.0382  0.1421 -0.1088  0.0506 -0.0784  0.0471  0.0286  0.1240\n",
       "\n",
       "Columns 20 to 29 \n",
       "-0.1100 -0.0486  0.1926 -0.0659  0.0051 -0.0944 -0.0198  0.0677 -0.0400 -0.1068\n",
       " 0.1079  0.0807  0.0518  0.0098 -0.0557  0.1401  0.2015  0.0226  0.0782  0.0369\n",
       " 0.1157 -0.0496  0.0446  0.0054  0.0616 -0.0593  0.0472 -0.0402 -0.0038 -0.0557\n",
       "-0.0062  0.0644  0.0696 -0.1843  0.1030 -0.0791 -0.0463  0.0046  0.0849  0.3403\n",
       "-0.0589 -0.1215  0.1343 -0.0508 -0.0125  0.1297  0.0216  0.0282 -0.1741  0.1723\n",
       " 0.0131  0.1195  0.0312 -0.0495  0.0455 -0.1257  0.1915  0.0977 -0.1306 -0.1521\n",
       " 0.0444  0.0935  0.0231 -0.0568 -0.0874  0.1431  0.0769 -0.1440  0.0389 -0.0314\n",
       " 0.0413  0.1247 -0.1947 -0.1290 -0.1496 -0.1703 -0.0022 -0.0870  0.0842  0.1590\n",
       "-0.1043 -0.0575  0.1908  0.1188  0.1323 -0.0121 -0.0325  0.1415  0.1322  0.0000\n",
       "-0.0322  0.1672 -0.0896  0.0956  0.0952  0.1042  0.1377 -0.2502 -0.0216  0.0921\n",
       "-0.1046 -0.0340  0.1379 -0.1742  0.0168  0.1011  0.0322 -0.0328 -0.1274 -0.0190\n",
       "-0.0625 -0.0216  0.1636  0.2621 -0.0772 -0.0537  0.1386  0.1309 -0.0931 -0.0433\n",
       "-0.0405 -0.0426  0.1708 -0.1010 -0.0020  0.1518 -0.1377 -0.0810 -0.0361 -0.0061\n",
       " 0.0332  0.0372  0.0608 -0.1088 -0.1234  0.0719  0.1215  0.1050 -0.0237 -0.0607\n",
       " 0.1529  0.1751  0.0823 -0.1487 -0.0661  0.1345 -0.2078  0.0297  0.2540 -0.1517\n",
       "-0.0470 -0.0602  0.0339  0.2395 -0.0306 -0.1564  0.1121 -0.0779  0.0864  0.0941\n",
       "-0.1162  0.0375  0.1336 -0.1315  0.0354 -0.1242  0.0863 -0.0734 -0.2575 -0.1904\n",
       " 0.0471 -0.0150  0.0835 -0.0947 -0.0514  0.1195 -0.0196  0.0150  0.1048 -0.0610\n",
       "-0.1094 -0.1568  0.0493  0.0022  0.0048  0.0270  0.0238  0.0188  0.0765 -0.1666\n",
       "-0.1388  0.0689 -0.2178  0.1081  0.0089 -0.1223 -0.1639 -0.1054 -0.0494  0.1492\n",
       " 0.0592 -0.0668  0.1261 -0.0446  0.1132 -0.0025 -0.0539 -0.1218 -0.0980  0.1362\n",
       "\n",
       "Columns 30 to 31 \n",
       "-0.0867  0.2174\n",
       "-0.0936  0.1110\n",
       "-0.0743 -0.0049\n",
       " 0.0766 -0.0580\n",
       " 0.1557 -0.0118\n",
       "-0.1321  0.1359\n",
       " 0.1460  0.0733\n",
       " 0.0566  0.1485\n",
       "-0.0518 -0.0238\n",
       " 0.0590 -0.0222\n",
       "-0.0164  0.1253\n",
       " 0.0033  0.0222\n",
       "-0.0785 -0.0168\n",
       "-0.0770 -0.1387\n",
       "-0.0276  0.0981\n",
       " 0.1402  0.0546\n",
       " 0.0767  0.0346\n",
       "-0.0138 -0.1119\n",
       "-0.0227 -0.0675\n",
       "-0.0354 -0.1282\n",
       "-0.0805 -0.1360\n",
       "[torch.FloatTensor of size 21x32]"
      ]
     },
     "execution_count": 128,
     "metadata": {},
     "output_type": "execute_result"
    }
   ],
   "source": [
    "model[(0)].weight"
   ]
  },
  {
   "cell_type": "code",
   "execution_count": 129,
   "metadata": {
    "collapsed": false
   },
   "outputs": [
    {
     "data": {
      "text/plain": [
       "Parameter containing:\n",
       "\n",
       "Columns 0 to 9 \n",
       " 0.0936 -0.0298 -0.1602 -0.1806  0.1435 -0.1769  0.0053  0.0961 -0.1275 -0.1380\n",
       " 0.2020  0.0490  0.1998  0.1581 -0.0355  0.2100 -0.0806  0.0585  0.1641  0.1752\n",
       "-0.1675 -0.0716  0.1339  0.1330  0.0116 -0.1535  0.0701  0.1609  0.1904 -0.1533\n",
       " 0.0606 -0.0273 -0.0332  0.0783 -0.2466 -0.0184  0.1472  0.1136 -0.1352  0.0956\n",
       " 0.2475  0.1986  0.3363  0.2800  0.0158  0.0106  0.2359 -0.1747  0.0422  0.2770\n",
       " 0.0912 -0.0504 -0.0297 -0.0558  0.0918 -0.0142  0.2115 -0.1626  0.1991  0.0950\n",
       "-0.1075  0.1960  0.0597  0.1159  0.1457 -0.1279  0.0587 -0.1281 -0.0218 -0.0230\n",
       " 0.1040  0.1462  0.1158  0.1294 -0.0163 -0.0593  0.1532  0.1028 -0.0656 -0.1270\n",
       "-0.1883  0.0042  0.1915 -0.1598 -0.0175  0.1731 -0.1783 -0.1808  0.0435  0.1263\n",
       " 0.0785 -0.0465  0.1068  0.2061  0.1322  0.1990  0.0412 -0.0141 -0.1626  0.1695\n",
       " 0.0360 -0.2303 -0.1770  0.1563  0.1679 -0.0900  0.0572  0.0326  0.2000 -0.1244\n",
       " 0.0063  0.0820  0.2406  0.1393 -0.1710  0.1113 -0.0019  0.1473 -0.0232 -0.1034\n",
       " 0.1339 -0.1161 -0.0619  0.2704 -0.0653 -0.1413  0.1790 -0.0260 -0.0587  0.2511\n",
       "-0.1141  0.1831 -0.0068  0.0551 -0.0366 -0.0000  0.0384 -0.0690  0.1894 -0.0227\n",
       "\n",
       "Columns 10 to 19 \n",
       "-0.1604 -0.0531 -0.1306 -0.1889  0.0973 -0.1685 -0.0580 -0.0495 -0.0550  0.1403\n",
       "-0.1019  0.2284  0.0515  0.1774  0.0047  0.0262 -0.2008  0.0707  0.0985 -0.0781\n",
       " 0.1314 -0.0522 -0.1524 -0.1602 -0.0123  0.0112 -0.1975 -0.0381  0.0263 -0.0897\n",
       " 0.1445  0.1897  0.1145  0.0883 -0.0112 -0.1310  0.0950  0.1675  0.1488 -0.0187\n",
       " 0.0733  0.2826  0.0299 -0.0414 -0.1697  0.0648 -0.2671  0.1889  0.0861 -0.1004\n",
       "-0.1971 -0.0677 -0.1677 -0.2017 -0.1231  0.0404  0.1021  0.1432  0.1066  0.1679\n",
       "-0.1625  0.0116  0.0514 -0.1364 -0.2113  0.0765  0.0281  0.0629 -0.2077  0.1336\n",
       " 0.0037 -0.1064 -0.1662 -0.1748  0.1234 -0.1524 -0.0883 -0.0608 -0.0790 -0.0902\n",
       " 0.2204 -0.2260  0.1405 -0.0301  0.2444 -0.1896 -0.1835 -0.1282  0.2211 -0.1033\n",
       "-0.0425  0.1427  0.1931  0.0225  0.0189 -0.1588 -0.0443 -0.1153  0.1373  0.1528\n",
       " 0.1239  0.0153  0.1286  0.1963  0.0055  0.0188 -0.0744  0.0921 -0.0177  0.0310\n",
       "-0.1705  0.1173  0.1392  0.1854 -0.0754  0.2756  0.1519 -0.1163  0.1354 -0.0425\n",
       "-0.1038  0.2392 -0.0745  0.2117  0.0055  0.0979 -0.1472  0.1515 -0.0525 -0.1722\n",
       " 0.0656 -0.2071  0.0964 -0.2298  0.1177  0.0962 -0.1902 -0.1433 -0.1535  0.1107\n",
       "\n",
       "Columns 20 to 20 \n",
       " 0.0977\n",
       " 0.1567\n",
       " 0.0648\n",
       " 0.1475\n",
       " 0.1713\n",
       " 0.1253\n",
       " 0.0540\n",
       " 0.0568\n",
       "-0.0282\n",
       "-0.1833\n",
       "-0.1191\n",
       "-0.1040\n",
       "-0.1127\n",
       " 0.1696\n",
       "[torch.FloatTensor of size 14x21]"
      ]
     },
     "execution_count": 129,
     "metadata": {},
     "output_type": "execute_result"
    }
   ],
   "source": [
    "model[(2)].weight"
   ]
  },
  {
   "cell_type": "code",
   "execution_count": 130,
   "metadata": {
    "collapsed": false
   },
   "outputs": [
    {
     "data": {
      "text/plain": [
       "Parameter containing:\n",
       "\n",
       "Columns 0 to 9 \n",
       " 0.1405  0.0611  0.1050  0.1015  0.2598 -0.2450 -0.1371  0.1061 -0.1038  0.2760\n",
       " 0.2525  0.2443 -0.2008 -0.2057  0.1697  0.1425  0.0846  0.1439 -0.0553  0.0794\n",
       " 0.0299  0.2794  0.2056 -0.1714  0.2943  0.0579 -0.1495 -0.1762 -0.1351  0.1748\n",
       "-0.2470  0.1602 -0.0295 -0.1177  0.1628 -0.1127 -0.1855 -0.0847 -0.0647 -0.0165\n",
       " 0.0992 -0.1860  0.2520 -0.2627 -0.1913  0.0192 -0.2638  0.1903  0.1284  0.1215\n",
       " 0.0872 -0.2462 -0.1309 -0.0087 -0.0691 -0.2109 -0.1079 -0.1371 -0.2364  0.2677\n",
       "-0.2485 -0.0511  0.0171  0.2902  0.4531  0.1117  0.1976  0.0188 -0.1744 -0.1420\n",
       "-0.1290 -0.2090  0.2394 -0.1300 -0.1659 -0.0091 -0.0367 -0.1270 -0.0134 -0.1270\n",
       " 0.1994 -0.0084  0.0169 -0.0992  0.2099 -0.0787 -0.2309 -0.1384 -0.1245 -0.1512\n",
       "\n",
       "Columns 10 to 13 \n",
       " 0.1356  0.1420  0.0979 -0.3183\n",
       "-0.0053 -0.1145 -0.2723 -0.1801\n",
       "-0.0766 -0.1613 -0.1403 -0.0672\n",
       "-0.0834  0.2663 -0.0540 -0.1281\n",
       "-0.0832 -0.1146 -0.2565  0.1978\n",
       "-0.0420  0.1338  0.1724  0.2234\n",
       "-0.2546  0.2779  0.4073 -0.1393\n",
       " 0.1506 -0.2549 -0.2914  0.0268\n",
       " 0.0210  0.1582  0.3004  0.1905\n",
       "[torch.FloatTensor of size 9x14]"
      ]
     },
     "execution_count": 130,
     "metadata": {},
     "output_type": "execute_result"
    }
   ],
   "source": [
    "model[(4)].weight"
   ]
  },
  {
   "cell_type": "code",
   "execution_count": 131,
   "metadata": {
    "collapsed": false
   },
   "outputs": [
    {
     "data": {
      "text/plain": [
       "Parameter containing:\n",
       " 0.3885 -0.0619  0.1171  0.4005 -0.2562  0.0903  0.3141 -0.3627  0.1058\n",
       " 0.2556 -0.1500  0.2991 -0.0040  0.1404 -0.2236  0.4862 -0.0326  0.1689\n",
       "-0.1012 -0.3035  0.2886  0.2521 -0.0438 -0.0317 -0.0111 -0.2364 -0.0243\n",
       " 0.1177  0.1002  0.2985  0.0077 -0.0209 -0.2606  0.1596 -0.1318  0.0899\n",
       "-0.0345 -0.2624  0.0476 -0.1262  0.0216  0.1612 -0.1697 -0.2729  0.2845\n",
       "-0.1161  0.3251  0.1599 -0.2429  0.1481  0.0730  0.2534  0.0114  0.1920\n",
       "[torch.FloatTensor of size 6x9]"
      ]
     },
     "execution_count": 131,
     "metadata": {},
     "output_type": "execute_result"
    }
   ],
   "source": [
    "model[(6)].weight"
   ]
  },
  {
   "cell_type": "code",
   "execution_count": 132,
   "metadata": {
    "collapsed": false
   },
   "outputs": [
    {
     "data": {
      "text/plain": [
       "Parameter containing:\n",
       "-0.3098  0.1269 -0.0068 -0.2454  0.0023 -0.3030\n",
       " 0.1410 -0.0111 -0.0311 -0.1153  0.1900  0.1670\n",
       " 0.0427 -0.2277  0.1412  0.0372  0.2862  0.2670\n",
       " 0.6733  0.6180 -0.1444  0.2374 -0.1014  0.2931\n",
       "[torch.FloatTensor of size 4x6]"
      ]
     },
     "execution_count": 132,
     "metadata": {},
     "output_type": "execute_result"
    }
   ],
   "source": [
    "model[(8)].weight"
   ]
  },
  {
   "cell_type": "code",
   "execution_count": 133,
   "metadata": {
    "collapsed": false
   },
   "outputs": [
    {
     "data": {
      "text/plain": [
       "Parameter containing:\n",
       "-0.4996 -0.1182  0.0968 -0.0262\n",
       " 0.1567 -0.4537 -0.2659  0.7805\n",
       "-0.1345  0.4100 -0.2254 -0.1592\n",
       "[torch.FloatTensor of size 3x4]"
      ]
     },
     "execution_count": 133,
     "metadata": {},
     "output_type": "execute_result"
    }
   ],
   "source": [
    "model[(10)].weight"
   ]
  },
  {
   "cell_type": "code",
   "execution_count": 134,
   "metadata": {
    "collapsed": false
   },
   "outputs": [
    {
     "data": {
      "text/plain": [
       "Parameter containing:\n",
       " 0.2445 -0.3769 -0.4995\n",
       "-0.0299  0.8507  0.2125\n",
       "[torch.FloatTensor of size 2x3]"
      ]
     },
     "execution_count": 134,
     "metadata": {},
     "output_type": "execute_result"
    }
   ],
   "source": [
    "model[(12)].weight"
   ]
  },
  {
   "cell_type": "code",
   "execution_count": 135,
   "metadata": {
    "collapsed": false
   },
   "outputs": [
    {
     "data": {
      "text/plain": [
       "Parameter containing:\n",
       " 0.5413  0.9918\n",
       "[torch.FloatTensor of size 1x2]"
      ]
     },
     "execution_count": 135,
     "metadata": {},
     "output_type": "execute_result"
    }
   ],
   "source": [
    "model[(14)].weight"
   ]
  },
  {
   "cell_type": "markdown",
   "metadata": {},
   "source": [
    "## Round 8: Linear Regression"
   ]
  },
  {
   "cell_type": "code",
   "execution_count": 136,
   "metadata": {
    "collapsed": true
   },
   "outputs": [],
   "source": [
    "# Make the torch Tensor into a PyTorch Variable for dependent variables\n",
    "outcomes_Variable = Variable(outcomes_Tensor)\n",
    "\n",
    "\n",
    "# ...for independent variables\n",
    "features_Variable = Variable(features_Tensor,\n",
    "                             requires_grad = False)"
   ]
  },
  {
   "cell_type": "code",
   "execution_count": 137,
   "metadata": {
    "collapsed": true
   },
   "outputs": [],
   "source": [
    "# Make the neural network - really a regression\n",
    "model = torch.nn.Sequential(torch.nn.Linear(32, 1))"
   ]
  },
  {
   "cell_type": "code",
   "execution_count": 138,
   "metadata": {
    "collapsed": false
   },
   "outputs": [],
   "source": [
    "# To add errors to\n",
    "errors = []\n",
    "\n",
    "\n",
    "# Set the learning rate\n",
    "learning_rate = 4e-6\n",
    "\n",
    "\n",
    "# Train the neural network\n",
    "for t in range(10000):\n",
    "    \n",
    "    # Get the current predictions\n",
    "    y_pred = model(features_Variable)\n",
    "    \n",
    "    # Compute and append current summed errors\n",
    "    loss = loss_fn(y_pred, outcomes_Variable)\n",
    "    errors.append(loss.data[0])\n",
    "    \n",
    "    # Zero the gradients before running the backward pass.\n",
    "    model.zero_grad()\n",
    "    \n",
    "    # Backward pass: compute gradient of the loss with respect to all the learnable Variables\n",
    "    loss.backward()\n",
    "    \n",
    "    # Update the weights using gradient descent\n",
    "    for param in model.parameters():\n",
    "        param.data -= learning_rate * param.grad.data"
   ]
  },
  {
   "cell_type": "code",
   "execution_count": 139,
   "metadata": {
    "collapsed": false
   },
   "outputs": [
    {
     "data": {
      "text/plain": [
       "<matplotlib.collections.PathCollection at 0x7f338cb5ca90>"
      ]
     },
     "execution_count": 139,
     "metadata": {},
     "output_type": "execute_result"
    },
    {
     "data": {
      "image/png": "[encoded data removed]",
      "text/plain": [
       "<matplotlib.figure.Figure at 0x7f338cbe5e10>"
      ]
     },
     "metadata": {},
     "output_type": "display_data"
    }
   ],
   "source": [
    "# Plot summed error as a function of iteration\n",
    "plt.scatter(iterations, errors)"
   ]
  },
  {
   "cell_type": "code",
   "execution_count": 140,
   "metadata": {
    "collapsed": false
   },
   "outputs": [],
   "source": [
    "# Get rid of the 2nd dimension of 1 from the FloatTensor\n",
    "y_pred_resized = y_pred.resize(8253)\n",
    "\n",
    "\n",
    "# Make the FloatTensor into a numpy.array\n",
    "y_pred_array = y_pred_resized.data.numpy()\n",
    "\n",
    "\n",
    "# Make the numpy.array into a list\n",
    "y_pred_list = y_pred_array.tolist()"
   ]
  },
  {
   "cell_type": "code",
   "execution_count": 141,
   "metadata": {
    "collapsed": false
   },
   "outputs": [
    {
     "data": {
      "text/plain": [
       "[<matplotlib.lines.Line2D at 0x7f338cbaf6d8>]"
      ]
     },
     "execution_count": 141,
     "metadata": {},
     "output_type": "execute_result"
    },
    {
     "data": {
      "image/png": "[encoded data removed]",
      "text/plain": [
       "<matplotlib.figure.Figure at 0x7f338cbfd278>"
      ]
     },
     "metadata": {},
     "output_type": "display_data"
    }
   ],
   "source": [
    "# Plot predictions versus training set outcomes\n",
    "plt.scatter(outcomes_list, y_pred_list)\n",
    "\n",
    "axes = plt.gca()\n",
    "\n",
    "axes.set_xlim([-2, 4])\n",
    "\n",
    "axes.set_ylim([-2, 4])\n",
    "\n",
    "plt.plot([-2, 4], [-2, 4], 'k-', lw=2)"
   ]
  },
  {
   "cell_type": "markdown",
   "metadata": {
    "collapsed": false
   },
   "source": [
    "### Round 8.1: Validation Set Performance"
   ]
  },
  {
   "cell_type": "code",
   "execution_count": 142,
   "metadata": {
    "collapsed": false
   },
   "outputs": [
    {
     "data": {
      "text/plain": [
       "Variable containing:\n",
       " 280.3195\n",
       "[torch.FloatTensor of size 1]"
      ]
     },
     "execution_count": 142,
     "metadata": {},
     "output_type": "execute_result"
    }
   ],
   "source": [
    "# Get the validation set predictions\n",
    "y_valid_pred = model(valid_predictors_Variable)\n",
    "\n",
    "\n",
    "# Print the loss\n",
    "loss_fn(y_valid_pred,\n",
    "        valid_outcomes_Variable)"
   ]
  },
  {
   "cell_type": "code",
   "execution_count": 143,
   "metadata": {
    "collapsed": true
   },
   "outputs": [],
   "source": [
    "# Get rid of the 2nd dimension of 1 from the FloatTensor\n",
    "y_valid_pred_resized = y_valid_pred.resize(2741)\n",
    "\n",
    "\n",
    "# Make the FloatTensor into a numpy.array\n",
    "y_valid_pred_array = y_valid_pred_resized.data.numpy()\n",
    "\n",
    "\n",
    "# Make the numpy.array into a list\n",
    "y_valid_pred_list = y_valid_pred_array.tolist()"
   ]
  },
  {
   "cell_type": "code",
   "execution_count": 144,
   "metadata": {
    "collapsed": false
   },
   "outputs": [
    {
     "data": {
      "text/plain": [
       "[<matplotlib.lines.Line2D at 0x7f338ca45d30>]"
      ]
     },
     "execution_count": 144,
     "metadata": {},
     "output_type": "execute_result"
    },
    {
     "data": {
      "image/png": "[encoded data removed]",
      "text/plain": [
       "<matplotlib.figure.Figure at 0x7f338ca459e8>"
      ]
     },
     "metadata": {},
     "output_type": "display_data"
    }
   ],
   "source": [
    "# Plot new predictions versus new data outcomes\n",
    "plt.scatter(valid_outcomes_list, y_valid_pred_list)\n",
    "\n",
    "axes = plt.gca()\n",
    "\n",
    "axes.set_xlim([-2, 4])\n",
    "\n",
    "axes.set_ylim([-2, 4])\n",
    "\n",
    "plt.plot([-2, 4], [-2, 4], 'k-', lw=2)"
   ]
  },
  {
   "cell_type": "markdown",
   "metadata": {},
   "source": [
    "### Round 8.2: Test Set Performance"
   ]
  },
  {
   "cell_type": "code",
   "execution_count": 145,
   "metadata": {
    "collapsed": false
   },
   "outputs": [
    {
     "data": {
      "text/plain": [
       "Variable containing:\n",
       " 281.4788\n",
       "[torch.FloatTensor of size 1]"
      ]
     },
     "execution_count": 145,
     "metadata": {},
     "output_type": "execute_result"
    }
   ],
   "source": [
    "# Get the validation set predictions\n",
    "y_test_pred = model(test_predictors_Variable)\n",
    "\n",
    "\n",
    "# Print the loss\n",
    "loss_fn(y_test_pred,\n",
    "        test_outcomes_Variable)"
   ]
  },
  {
   "cell_type": "code",
   "execution_count": 146,
   "metadata": {
    "collapsed": true
   },
   "outputs": [],
   "source": [
    "# Get rid of the 2nd dimension of 1 from the FloatTensor\n",
    "y_test_pred_resized = y_test_pred.resize(2683)\n",
    "\n",
    "\n",
    "# Make the FloatTensor into a numpy.array\n",
    "y_test_pred_array = y_test_pred_resized.data.numpy()\n",
    "\n",
    "\n",
    "# Convert back to native units and scale\n",
    "y_test_pred_array = y_test_pred_array*5.409956 + 7.691221\n",
    "\n",
    "\n",
    "# Make the numpy.array into a list\n",
    "y_test_pred_list = y_test_pred_array.tolist()"
   ]
  },
  {
   "cell_type": "code",
   "execution_count": 147,
   "metadata": {
    "collapsed": false
   },
   "outputs": [
    {
     "data": {
      "text/plain": [
       "<matplotlib.text.Text at 0x7f338c9e81d0>"
      ]
     },
     "execution_count": 147,
     "metadata": {},
     "output_type": "execute_result"
    },
    {
     "data": {
      "image/png": "[encoded data removed]",
      "text/plain": [
       "<matplotlib.figure.Figure at 0x7f338ca192e8>"
      ]
     },
     "metadata": {},
     "output_type": "display_data"
    }
   ],
   "source": [
    "# Plot new predictions versus new data outcomes\n",
    "plt.scatter(test_outcomes_list, y_test_pred_list)\n",
    "\n",
    "axes = plt.gca()\n",
    "\n",
    "axes.set_xlim([2, 23])\n",
    "\n",
    "axes.set_ylim([2, 23])\n",
    "\n",
    "axes.set_xticks([2, 5, 8, 11, 14, 17, 20, 23])\n",
    "\n",
    "axes.set_yticks([2, 5, 8, 11, 14, 17, 20, 23])\n",
    "\n",
    "plt.plot([2, 23], [2, 23], 'k-', lw=2)\n",
    "\n",
    "axes.set_xlabel(\"Actual Outcome (Log-Transformed US Dollars)\")\n",
    "\n",
    "axes.set_ylabel(\"Model Prediction (Log-Transformed US Dollars)\")\n",
    "\n",
    "axes.set_title(\"Model Performance\")"
   ]
  },
  {
   "cell_type": "code",
   "execution_count": 148,
   "metadata": {
    "collapsed": false
   },
   "outputs": [
    {
     "data": {
      "text/plain": [
       "Parameter containing:\n",
       "\n",
       "Columns 0 to 9 \n",
       " 0.0103  0.0144  0.0160  0.1558  0.1881 -0.0298 -0.0054 -0.0233  0.0338 -0.0273\n",
       "\n",
       "Columns 10 to 19 \n",
       " 0.0291 -0.0045  0.0162 -0.0198  0.0005  0.0061 -0.0035  0.0136 -0.0006  0.0112\n",
       "\n",
       "Columns 20 to 29 \n",
       "-0.0000  0.0188  0.0248  0.0820  0.0104 -0.0125 -0.0646 -0.0082  0.0117  0.0343\n",
       "\n",
       "Columns 30 to 31 \n",
       " 0.0084 -0.0094\n",
       "[torch.FloatTensor of size 1x32]"
      ]
     },
     "execution_count": 148,
     "metadata": {},
     "output_type": "execute_result"
    }
   ],
   "source": [
    "model[(0)].weight"
   ]
  }
 ],
 "metadata": {
  "kernelspec": {
   "display_name": "Python 3",
   "language": "python",
   "name": "python3"
  },
  "language_info": {
   "codemirror_mode": {
    "name": "ipython",
    "version": 3
   },
   "file_extension": ".py",
   "mimetype": "text/x-python",
   "name": "python",
   "nbconvert_exporter": "python",
   "pygments_lexer": "ipython3",
   "version": "3.6.0"
  }
 },
 "nbformat": 4,
 "nbformat_minor": 2
}
