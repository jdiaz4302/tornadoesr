{
 "cells": [
  {
   "cell_type": "markdown",
   "metadata": {},
   "source": [
    "## Setup"
   ]
  },
  {
   "cell_type": "code",
   "execution_count": 1,
   "metadata": {
    "collapsed": true
   },
   "outputs": [],
   "source": [
    "# Packages\n",
    "import pandas as pd\n",
    "import torch\n",
    "from torch.autograd import Variable\n",
    "import numpy as np\n",
    "import matplotlib.pyplot as plt\n",
    "%matplotlib inline\n",
    "import pylab\n",
    "import math"
   ]
  },
  {
   "cell_type": "code",
   "execution_count": 2,
   "metadata": {
    "collapsed": false
   },
   "outputs": [
    {
     "name": "stdout",
     "output_type": "stream",
     "text": [
      "<class 'pandas.core.frame.DataFrame'>\n",
      "RangeIndex: 4803 entries, 0 to 4802\n",
      "Data columns (total 28 columns):\n",
      "EVENT_ID              4803 non-null int64\n",
      "INJURIES_DIRECT       4803 non-null int64\n",
      "DEATHS_DIRECT         4803 non-null int64\n",
      "DAMAGE_PROPERTY       4803 non-null float64\n",
      "DAMAGE_CROPS          4803 non-null float64\n",
      "DURATION_SECONDS      4803 non-null float64\n",
      "BEGIN_LAT             4803 non-null float64\n",
      "BEGIN_LON             4803 non-null float64\n",
      "TOR_LENGTH            4803 non-null float64\n",
      "TOR_WIDTH             4803 non-null float64\n",
      "BEGIN_DATE_TIME       4803 non-null float64\n",
      "YEAR                  4803 non-null int64\n",
      "CZ_NAME               4803 non-null object\n",
      "OPEN_WATER_PROP       4803 non-null float64\n",
      "DEV_OPEN_PROP         4803 non-null float64\n",
      "DEV_LOW_PROP          4803 non-null float64\n",
      "DEV_MED_PROP          4803 non-null float64\n",
      "DEV_HIGH_PROP         4803 non-null float64\n",
      "DECID_FOREST_PROP     4803 non-null float64\n",
      "EVERGR_FOREST_PROP    4803 non-null float64\n",
      "MIXED_FOREST_PROP     4803 non-null float64\n",
      "SHRUB_SCRUB_PROP      4803 non-null float64\n",
      "GRASS_LAND_PROP       4803 non-null float64\n",
      "PASTURE_HAY_PROP      4803 non-null float64\n",
      "CULT_CROPS_PROP       4803 non-null float64\n",
      "WOOD_WETLAND_PROP     4803 non-null float64\n",
      "HERB_WETLAND_PROP     4803 non-null float64\n",
      "BARREN_LAND_PROP      4803 non-null float64\n",
      "dtypes: float64(23), int64(4), object(1)\n",
      "memory usage: 1.0+ MB\n"
     ]
    }
   ],
   "source": [
    "# Import data\n",
    "tor_df = pd.read_csv(\"/home/jeremy/github_tornadoesr/data/raw/tor_train_set_no_zeros.csv\")\n",
    "\n",
    "\n",
    "# Quick inspection\n",
    "tor_df.info()"
   ]
  },
  {
   "cell_type": "code",
   "execution_count": 3,
   "metadata": {
    "collapsed": false
   },
   "outputs": [
    {
     "name": "stdout",
     "output_type": "stream",
     "text": [
      "<class 'pandas.core.frame.DataFrame'>\n",
      "RangeIndex: 4803 entries, 0 to 4802\n",
      "Data columns (total 1 columns):\n",
      "DAMAGE_PROPERTY    4803 non-null float64\n",
      "dtypes: float64(1)\n",
      "memory usage: 37.6 KB\n"
     ]
    }
   ],
   "source": [
    "# Seperating variables\n",
    "# The dependent variables\n",
    "tornado_outcomes = tor_df.iloc[:, [3]].astype(float)\n",
    "\n",
    "\n",
    "# Quick inspection\n",
    "tornado_outcomes.info()"
   ]
  },
  {
   "cell_type": "code",
   "execution_count": 4,
   "metadata": {
    "collapsed": false
   },
   "outputs": [
    {
     "name": "stdout",
     "output_type": "stream",
     "text": [
      "<class 'pandas.core.frame.DataFrame'>\n",
      "RangeIndex: 4803 entries, 0 to 4802\n",
      "Data columns (total 21 columns):\n",
      "DURATION_SECONDS      4803 non-null float64\n",
      "BEGIN_LAT             4803 non-null float64\n",
      "BEGIN_LON             4803 non-null float64\n",
      "TOR_LENGTH            4803 non-null float64\n",
      "TOR_WIDTH             4803 non-null float64\n",
      "BEGIN_DATE_TIME       4803 non-null float64\n",
      "OPEN_WATER_PROP       4803 non-null float64\n",
      "DEV_OPEN_PROP         4803 non-null float64\n",
      "DEV_LOW_PROP          4803 non-null float64\n",
      "DEV_MED_PROP          4803 non-null float64\n",
      "DEV_HIGH_PROP         4803 non-null float64\n",
      "DECID_FOREST_PROP     4803 non-null float64\n",
      "EVERGR_FOREST_PROP    4803 non-null float64\n",
      "MIXED_FOREST_PROP     4803 non-null float64\n",
      "SHRUB_SCRUB_PROP      4803 non-null float64\n",
      "GRASS_LAND_PROP       4803 non-null float64\n",
      "PASTURE_HAY_PROP      4803 non-null float64\n",
      "CULT_CROPS_PROP       4803 non-null float64\n",
      "WOOD_WETLAND_PROP     4803 non-null float64\n",
      "HERB_WETLAND_PROP     4803 non-null float64\n",
      "BARREN_LAND_PROP      4803 non-null float64\n",
      "dtypes: float64(21)\n",
      "memory usage: 788.1 KB\n"
     ]
    }
   ],
   "source": [
    "# The independent variables\n",
    "tornado_features = tor_df.iloc[:, 5:]\n",
    "\n",
    "\n",
    "# Get rid of year and county name\n",
    "tornado_features = tornado_features.drop([\"YEAR\",\n",
    "                                          \"CZ_NAME\"],\n",
    "                                         axis = 1)\n",
    "\n",
    "\n",
    "\n",
    "# Quick inspection\n",
    "tornado_features.info()"
   ]
  },
  {
   "cell_type": "code",
   "execution_count": 5,
   "metadata": {
    "collapsed": false
   },
   "outputs": [
    {
     "data": {
      "text/plain": [
       "\n",
       " 0.3534\n",
       " 0.9965\n",
       " 1.3980\n",
       "   ⋮    \n",
       " 0.8757\n",
       " 0.9464\n",
       " 1.1563\n",
       "[torch.DoubleTensor of size 4803x1]"
      ]
     },
     "execution_count": 5,
     "metadata": {},
     "output_type": "execute_result"
    }
   ],
   "source": [
    "# Make the dependent variables into a numpy array\n",
    "outcomes_array = tornado_outcomes.values\n",
    "\n",
    "\n",
    "# Makes the numpy array into a torch Tensor\n",
    "outcomes_Tensor = torch.from_numpy(outcomes_array)\n",
    "\n",
    "\n",
    "# Quick inspection\n",
    "outcomes_Tensor"
   ]
  },
  {
   "cell_type": "code",
   "execution_count": 6,
   "metadata": {
    "collapsed": false
   },
   "outputs": [
    {
     "data": {
      "text/plain": [
       "\n",
       " 4.6236e-01 -3.3757e-01 -7.0216e-01  ...  -1.2423e+00  5.9959e-01 -6.9525e-01\n",
       " 4.6236e-01  9.2274e-01 -6.6432e-01  ...   1.1258e+00 -2.1299e-01 -6.9525e-01\n",
       " 4.6236e-01 -1.5020e+00  2.9306e-01  ...   1.5639e+00  2.2272e+00  2.5647e+00\n",
       "                ...                   ⋱                   ...                \n",
       " 1.9605e-01  5.8469e-01  4.9751e-01  ...  -2.7958e-01 -9.0635e-01 -6.9525e-01\n",
       " 8.2443e-01  7.4516e-01  1.2537e+00  ...  -1.2423e+00  1.5541e-01  1.2329e-01\n",
       " 3.4596e-01  7.9864e-01  2.0950e+00  ...   1.6329e-01  4.3847e-01 -6.9525e-01\n",
       "[torch.DoubleTensor of size 4803x21]"
      ]
     },
     "execution_count": 6,
     "metadata": {},
     "output_type": "execute_result"
    }
   ],
   "source": [
    "# Make the independent variables into a numpy array\n",
    "features_array = tornado_features.values\n",
    "\n",
    "\n",
    "# Make the numpy array into a torch Tensor\n",
    "features_Tensor = torch.from_numpy(features_array)\n",
    "\n",
    "\n",
    "# Quick inspection\n",
    "features_Tensor"
   ]
  },
  {
   "cell_type": "markdown",
   "metadata": {},
   "source": [
    "### Convert DoubleTensor to FloatTensor"
   ]
  },
  {
   "cell_type": "code",
   "execution_count": 7,
   "metadata": {
    "collapsed": false
   },
   "outputs": [
    {
     "data": {
      "text/plain": [
       "\n",
       " 4.6236e-01 -3.3757e-01 -7.0216e-01  ...  -1.2423e+00  5.9959e-01 -6.9525e-01\n",
       " 4.6236e-01  9.2274e-01 -6.6432e-01  ...   1.1258e+00 -2.1299e-01 -6.9525e-01\n",
       " 4.6236e-01 -1.5020e+00  2.9306e-01  ...   1.5639e+00  2.2272e+00  2.5647e+00\n",
       "                ...                   ⋱                   ...                \n",
       " 1.9605e-01  5.8469e-01  4.9751e-01  ...  -2.7958e-01 -9.0635e-01 -6.9525e-01\n",
       " 8.2443e-01  7.4516e-01  1.2537e+00  ...  -1.2423e+00  1.5541e-01  1.2329e-01\n",
       " 3.4596e-01  7.9864e-01  2.0950e+00  ...   1.6329e-01  4.3847e-01 -6.9525e-01\n",
       "[torch.FloatTensor of size 4803x21]"
      ]
     },
     "execution_count": 7,
     "metadata": {},
     "output_type": "execute_result"
    }
   ],
   "source": [
    "# Changing dependent variables from a DoubleTensor to a FloatTensor\n",
    "outcomes_Tensor = outcomes_Tensor.float()\n",
    "\n",
    "\n",
    "# ...and for the independent variables\n",
    "features_Tensor = features_Tensor.float()\n",
    "\n",
    "\n",
    "# Quick check\n",
    "features_Tensor"
   ]
  },
  {
   "cell_type": "markdown",
   "metadata": {
    "collapsed": true
   },
   "source": [
    "## Round 1: One-Hidden-Layer Neural Network"
   ]
  },
  {
   "cell_type": "code",
   "execution_count": 8,
   "metadata": {
    "collapsed": false
   },
   "outputs": [],
   "source": [
    "# Make the torch Tensor into a PyTorch Variable for dependent variables\n",
    "outcomes_Variable = Variable(outcomes_Tensor)\n",
    "\n",
    "\n",
    "# ...for independent variables\n",
    "features_Variable = Variable(features_Tensor,\n",
    "                             requires_grad = False)"
   ]
  },
  {
   "cell_type": "code",
   "execution_count": 9,
   "metadata": {
    "collapsed": false
   },
   "outputs": [],
   "source": [
    "# Make the neural network\n",
    "model = torch.nn.Sequential(torch.nn.Linear(21, 14),\n",
    "                            torch.nn.ReLU(),\n",
    "                            torch.nn.Linear(14, 1))"
   ]
  },
  {
   "cell_type": "code",
   "execution_count": 10,
   "metadata": {
    "collapsed": true
   },
   "outputs": [],
   "source": [
    "# Set the loss function\n",
    "loss_fn = torch.nn.MSELoss(size_average=False)"
   ]
  },
  {
   "cell_type": "code",
   "execution_count": 11,
   "metadata": {
    "collapsed": false
   },
   "outputs": [],
   "source": [
    "# To add errors to\n",
    "errors = []\n",
    "\n",
    "\n",
    "# Set the learning rate\n",
    "learning_rate = 4e-6\n",
    "\n",
    "\n",
    "# Train the neural network\n",
    "for t in range(10000):\n",
    "    \n",
    "    # Get the current predictions\n",
    "    y_pred = model(features_Variable)\n",
    "    \n",
    "    # Compute and append current summed errors\n",
    "    loss = loss_fn(y_pred, outcomes_Variable)\n",
    "    errors.append(loss.data[0])\n",
    "    \n",
    "    # Zero the gradients before running the backward pass.\n",
    "    model.zero_grad()\n",
    "    \n",
    "    # Backward pass: compute gradient of the loss with respect to all the learnable Variables\n",
    "    loss.backward()\n",
    "    \n",
    "    # Update the weights using gradient descent\n",
    "    for param in model.parameters():\n",
    "        param.data -= learning_rate * param.grad.data"
   ]
  },
  {
   "cell_type": "code",
   "execution_count": 12,
   "metadata": {
    "collapsed": true
   },
   "outputs": [],
   "source": [
    "# Get the iterations\n",
    "iterations = list(range(0, 10000))"
   ]
  },
  {
   "cell_type": "code",
   "execution_count": 13,
   "metadata": {
    "collapsed": false
   },
   "outputs": [
    {
     "data": {
      "text/plain": [
       "<matplotlib.collections.PathCollection at 0x7fdf23de3390>"
      ]
     },
     "execution_count": 13,
     "metadata": {},
     "output_type": "execute_result"
    },
    {
     "data": {
      "image/png": "[encoded data removed]",
      "text/plain": [
       "<matplotlib.figure.Figure at 0x7fdecc727a90>"
      ]
     },
     "metadata": {},
     "output_type": "display_data"
    }
   ],
   "source": [
    "# Plot summed error as a function of iteration\n",
    "plt.scatter(iterations, errors)"
   ]
  },
  {
   "cell_type": "code",
   "execution_count": 14,
   "metadata": {
    "collapsed": false
   },
   "outputs": [],
   "source": [
    "# Get rid of the 2nd dimension of 1 from the FloatTensor\n",
    "y_pred_resized = y_pred.resize(4803)\n",
    "\n",
    "\n",
    "# Make the FloatTensor into a numpy.array\n",
    "y_pred_array = y_pred_resized.data.numpy()\n",
    "\n",
    "\n",
    "# Make the numpy.array into a list\n",
    "y_pred_list = y_pred_array.tolist()"
   ]
  },
  {
   "cell_type": "code",
   "execution_count": 15,
   "metadata": {
    "collapsed": false
   },
   "outputs": [],
   "source": [
    "# Get rid of the 2nd dimension of 1 from the FloatTensor\n",
    "outcomes_Variable_resized = outcomes_Variable.resize(4803)\n",
    "\n",
    "\n",
    "# Make the FloatTensor into a numpy.array\n",
    "outcomes_array = outcomes_Variable_resized.data.numpy()\n",
    "\n",
    "\n",
    "# Make the numpy.array into a list\n",
    "outcomes_list = outcomes_array.tolist()"
   ]
  },
  {
   "cell_type": "code",
   "execution_count": 16,
   "metadata": {
    "collapsed": false
   },
   "outputs": [
    {
     "data": {
      "text/plain": [
       "[<matplotlib.lines.Line2D at 0x7fdec8e2c5f8>]"
      ]
     },
     "execution_count": 16,
     "metadata": {},
     "output_type": "execute_result"
    },
    {
     "data": {
      "image/png": "[encoded data removed]",
      "text/plain": [
       "<matplotlib.figure.Figure at 0x7fdec8eb8978>"
      ]
     },
     "metadata": {},
     "output_type": "display_data"
    }
   ],
   "source": [
    "# Plot predictions versus training set outcomes\n",
    "plt.scatter(outcomes_list, y_pred_list)\n",
    "\n",
    "axes = plt.gca()\n",
    "\n",
    "axes.set_xlim([-3, 3])\n",
    "\n",
    "axes.set_ylim([-3, 3])\n",
    "\n",
    "plt.plot([-3, 3], [-3, 3], 'k-', lw=2)"
   ]
  },
  {
   "cell_type": "markdown",
   "metadata": {},
   "source": [
    "### Round 1.1: Validation Set Performance"
   ]
  },
  {
   "cell_type": "code",
   "execution_count": 17,
   "metadata": {
    "collapsed": false
   },
   "outputs": [],
   "source": [
    "# Import data\n",
    "valid_df = pd.read_csv(\"/home/jeremy/github_tornadoesr/data/raw/tor_cv_set_no_zeros.csv\")\n",
    "\n",
    "\n",
    "# Validation set outcomes\n",
    "valid_outcomes = valid_df.iloc[:, [3]].astype(float)\n",
    "\n",
    "\n",
    "# Make the validation outcomes into a numpy array\n",
    "valid_outcomes_array = valid_outcomes.values\n",
    "\n",
    "\n",
    "# Makes the numpy array into a torch Tensor\n",
    "valid_outcomes_Tensor = torch.from_numpy(valid_outcomes_array)\n",
    "\n",
    "\n",
    "# Changing validation outcomes from a DoubleTensor to a FloatTensor\n",
    "valid_outcomes_Tensor = valid_outcomes_Tensor.float()\n",
    "\n",
    "\n",
    "# Make the Tensor into a Pytorch Variable\n",
    "valid_outcomes_Variable = Variable(valid_outcomes_Tensor)"
   ]
  },
  {
   "cell_type": "code",
   "execution_count": 18,
   "metadata": {
    "collapsed": false
   },
   "outputs": [],
   "source": [
    "# Validation set predictors\n",
    "valid_predictors = valid_df.iloc[:, 5:]\n",
    "\n",
    "valid_predictors = valid_predictors.drop([\"YEAR\",\n",
    "                                          \"CZ_NAME\"],\n",
    "                                         axis = 1)\n",
    "\n",
    "\n",
    "# Make the validation predictors into a numpy array\n",
    "valid_predictors_array = valid_predictors.values\n",
    "\n",
    "\n",
    "# Makes the numpy array into a torch Tensor\n",
    "valid_predictors_Tensor = torch.from_numpy(valid_predictors_array)\n",
    "\n",
    "\n",
    "# Changing validation predictors from a DoubleTensor to a FloatTensor\n",
    "valid_predictors_Tensor = valid_predictors_Tensor.float()\n",
    "\n",
    "\n",
    "# Make the Tensor into a Pytorch Variable\n",
    "valid_predictors_Variable = Variable(valid_predictors_Tensor)"
   ]
  },
  {
   "cell_type": "code",
   "execution_count": 19,
   "metadata": {
    "collapsed": false
   },
   "outputs": [
    {
     "data": {
      "text/plain": [
       "Variable containing:\n",
       " 453.3687\n",
       "[torch.FloatTensor of size 1]"
      ]
     },
     "execution_count": 19,
     "metadata": {},
     "output_type": "execute_result"
    }
   ],
   "source": [
    "# Have to make a new model and give it the train_model parameters to fix structure problem\n",
    "dim_corrected_model = torch.nn.Sequential(torch.nn.Linear(21, 14),\n",
    "                                          torch.nn.ReLU(),\n",
    "                                          torch.nn.Linear(14, 1))\n",
    "\n",
    "\n",
    "# Give the new model the old model's parameters\n",
    "dim_corrected_model[(0)].weight = model[(0)].weight\n",
    "dim_corrected_model[(2)].weight = model[(2)].weight\n",
    "\n",
    "\n",
    "# Get the validation set predictions\n",
    "y_valid_pred = dim_corrected_model(valid_predictors_Variable)\n",
    "\n",
    "\n",
    "# Print the loss\n",
    "loss_fn(y_valid_pred,\n",
    "        valid_outcomes_Variable)"
   ]
  },
  {
   "cell_type": "code",
   "execution_count": 20,
   "metadata": {
    "collapsed": false
   },
   "outputs": [
    {
     "name": "stdout",
     "output_type": "stream",
     "text": [
      "<class 'pandas.core.frame.DataFrame'>\n",
      "RangeIndex: 1562 entries, 0 to 1561\n",
      "Data columns (total 21 columns):\n",
      "DURATION_SECONDS      1562 non-null float64\n",
      "BEGIN_LAT             1562 non-null float64\n",
      "BEGIN_LON             1562 non-null float64\n",
      "TOR_LENGTH            1562 non-null float64\n",
      "TOR_WIDTH             1562 non-null float64\n",
      "BEGIN_DATE_TIME       1562 non-null float64\n",
      "OPEN_WATER_PROP       1562 non-null float64\n",
      "DEV_OPEN_PROP         1562 non-null float64\n",
      "DEV_LOW_PROP          1562 non-null float64\n",
      "DEV_MED_PROP          1562 non-null float64\n",
      "DEV_HIGH_PROP         1562 non-null float64\n",
      "DECID_FOREST_PROP     1562 non-null float64\n",
      "EVERGR_FOREST_PROP    1562 non-null float64\n",
      "MIXED_FOREST_PROP     1562 non-null float64\n",
      "SHRUB_SCRUB_PROP      1562 non-null float64\n",
      "GRASS_LAND_PROP       1562 non-null float64\n",
      "PASTURE_HAY_PROP      1562 non-null float64\n",
      "CULT_CROPS_PROP       1562 non-null float64\n",
      "WOOD_WETLAND_PROP     1562 non-null float64\n",
      "HERB_WETLAND_PROP     1562 non-null float64\n",
      "BARREN_LAND_PROP      1562 non-null float64\n",
      "dtypes: float64(21)\n",
      "memory usage: 256.3 KB\n"
     ]
    }
   ],
   "source": [
    "valid_predictors.info()"
   ]
  },
  {
   "cell_type": "code",
   "execution_count": 21,
   "metadata": {
    "collapsed": true
   },
   "outputs": [],
   "source": [
    "# Get rid of the 2nd dimension of 1 from the FloatTensor\n",
    "y_valid_pred_resized = y_valid_pred.resize(1562)\n",
    "\n",
    "\n",
    "# Make the FloatTensor into a numpy.array\n",
    "y_valid_pred_array = y_valid_pred_resized.data.numpy()\n",
    "\n",
    "\n",
    "# Make the numpy.array into a list\n",
    "y_valid_pred_list = y_valid_pred_array.tolist()"
   ]
  },
  {
   "cell_type": "code",
   "execution_count": 22,
   "metadata": {
    "collapsed": true
   },
   "outputs": [],
   "source": [
    "# Get rid of the 2nd dimension of 1 from the FloatTensor\n",
    "valid_outcomes_Variable_resized = valid_outcomes_Variable.resize(1562)\n",
    "\n",
    "\n",
    "# Make the FloatTensor into a numpy.array\n",
    "valid_outcomes_array = valid_outcomes_Variable_resized.data.numpy()\n",
    "\n",
    "\n",
    "# Make the numpy.array into a list\n",
    "valid_outcomes_list = valid_outcomes_array.tolist()"
   ]
  },
  {
   "cell_type": "code",
   "execution_count": 23,
   "metadata": {
    "collapsed": false
   },
   "outputs": [
    {
     "data": {
      "text/plain": [
       "[<matplotlib.lines.Line2D at 0x7fdec8556e10>]"
      ]
     },
     "execution_count": 23,
     "metadata": {},
     "output_type": "execute_result"
    },
    {
     "data": {
      "image/png": "[encoded data removed]",
      "text/plain": [
       "<matplotlib.figure.Figure at 0x7fdec8556e48>"
      ]
     },
     "metadata": {},
     "output_type": "display_data"
    }
   ],
   "source": [
    "# Plot new predictions versus new data outcomes\n",
    "plt.scatter(valid_outcomes_list, y_valid_pred_list)\n",
    "\n",
    "axes = plt.gca()\n",
    "\n",
    "axes.set_xlim([-3, 3])\n",
    "\n",
    "axes.set_ylim([-3, 3])\n",
    "\n",
    "plt.plot([-3, 3], [-3, 3], 'k-', lw=2)"
   ]
  },
  {
   "cell_type": "markdown",
   "metadata": {},
   "source": [
    "### Round 1.2: The Model Above has Proven Best; Final Plot against Test Data"
   ]
  },
  {
   "cell_type": "code",
   "execution_count": 24,
   "metadata": {
    "collapsed": false
   },
   "outputs": [],
   "source": [
    "# Import data\n",
    "test_df = pd.read_csv(\"/home/jeremy/github_tornadoesr/data/raw/tor_test_set_no_zeros.csv\")\n",
    "\n",
    "\n",
    "# Validation set outcomes\n",
    "test_outcomes = test_df.iloc[:, [3]].astype(float)\n",
    "\n",
    "\n",
    "# Make the validation outcomes into a numpy array\n",
    "test_outcomes_array = test_outcomes.values\n",
    "\n",
    "\n",
    "# Makes the numpy array into a torch Tensor\n",
    "test_outcomes_Tensor = torch.from_numpy(test_outcomes_array)\n",
    "\n",
    "\n",
    "# Changing validation outcomes from a DoubleTensor to a FloatTensor\n",
    "test_outcomes_Tensor = test_outcomes_Tensor.float()\n",
    "\n",
    "\n",
    "# Make the Tensor into a Pytorch Variable\n",
    "test_outcomes_Variable = Variable(test_outcomes_Tensor)"
   ]
  },
  {
   "cell_type": "code",
   "execution_count": 25,
   "metadata": {
    "collapsed": true
   },
   "outputs": [],
   "source": [
    "# Validation set predictors\n",
    "test_predictors = test_df.iloc[:, 5:]\n",
    "\n",
    "test_predictors = test_predictors.drop([\"YEAR\",\n",
    "                                        \"CZ_NAME\"],\n",
    "                                       axis = 1)\n",
    "\n",
    "\n",
    "# Make the validation predictors into a numpy array\n",
    "test_predictors_array = test_predictors.values\n",
    "\n",
    "\n",
    "# Makes the numpy array into a torch Tensor\n",
    "test_predictors_Tensor = torch.from_numpy(test_predictors_array)\n",
    "\n",
    "\n",
    "# Changing validation predictors from a DoubleTensor to a FloatTensor\n",
    "test_predictors_Tensor = test_predictors_Tensor.float()\n",
    "\n",
    "\n",
    "# Make the Tensor into a Pytorch Variable\n",
    "test_predictors_Variable = Variable(test_predictors_Tensor)"
   ]
  },
  {
   "cell_type": "code",
   "execution_count": 26,
   "metadata": {
    "collapsed": false
   },
   "outputs": [
    {
     "data": {
      "text/plain": [
       "Variable containing:\n",
       " 370.2318\n",
       "[torch.FloatTensor of size 1]"
      ]
     },
     "execution_count": 26,
     "metadata": {},
     "output_type": "execute_result"
    }
   ],
   "source": [
    "# Have to make a new model and give it the train_model parameters to fix structure problem\n",
    "dim_corrected_model_2 = torch.nn.Sequential(torch.nn.Linear(21, 14),\n",
    "                                            torch.nn.ReLU(),\n",
    "                                            torch.nn.Linear(14, 1))\n",
    "\n",
    "\n",
    "# Give the new model the old model's parameters\n",
    "dim_corrected_model_2[(0)].weight = model[(0)].weight\n",
    "dim_corrected_model_2[(2)].weight = model[(2)].weight\n",
    "\n",
    "\n",
    "# Get the validation set predictions\n",
    "y_test_pred = dim_corrected_model_2(test_predictors_Variable)\n",
    "\n",
    "\n",
    "# Print the loss\n",
    "loss_fn(y_test_pred,\n",
    "        test_outcomes_Variable)"
   ]
  },
  {
   "cell_type": "code",
   "execution_count": 27,
   "metadata": {
    "collapsed": false
   },
   "outputs": [
    {
     "name": "stdout",
     "output_type": "stream",
     "text": [
      "<class 'pandas.core.frame.DataFrame'>\n",
      "RangeIndex: 1595 entries, 0 to 1594\n",
      "Data columns (total 21 columns):\n",
      "DURATION_SECONDS      1595 non-null float64\n",
      "BEGIN_LAT             1595 non-null float64\n",
      "BEGIN_LON             1595 non-null float64\n",
      "TOR_LENGTH            1595 non-null float64\n",
      "TOR_WIDTH             1595 non-null float64\n",
      "BEGIN_DATE_TIME       1595 non-null float64\n",
      "OPEN_WATER_PROP       1595 non-null float64\n",
      "DEV_OPEN_PROP         1595 non-null float64\n",
      "DEV_LOW_PROP          1595 non-null float64\n",
      "DEV_MED_PROP          1595 non-null float64\n",
      "DEV_HIGH_PROP         1595 non-null float64\n",
      "DECID_FOREST_PROP     1595 non-null float64\n",
      "EVERGR_FOREST_PROP    1595 non-null float64\n",
      "MIXED_FOREST_PROP     1595 non-null float64\n",
      "SHRUB_SCRUB_PROP      1595 non-null float64\n",
      "GRASS_LAND_PROP       1595 non-null float64\n",
      "PASTURE_HAY_PROP      1595 non-null float64\n",
      "CULT_CROPS_PROP       1595 non-null float64\n",
      "WOOD_WETLAND_PROP     1595 non-null float64\n",
      "HERB_WETLAND_PROP     1595 non-null float64\n",
      "BARREN_LAND_PROP      1595 non-null float64\n",
      "dtypes: float64(21)\n",
      "memory usage: 261.8 KB\n"
     ]
    }
   ],
   "source": [
    "test_predictors.info()"
   ]
  },
  {
   "cell_type": "code",
   "execution_count": 28,
   "metadata": {
    "collapsed": false
   },
   "outputs": [],
   "source": [
    "# Get rid of the 2nd dimension of 1 from the FloatTensor\n",
    "y_test_pred_resized = y_test_pred.resize(1595)\n",
    "\n",
    "\n",
    "# Make the FloatTensor into a numpy.array\n",
    "y_test_pred_array = y_test_pred_resized.data.numpy()\n",
    "\n",
    "\n",
    "# Convert back to native units and scale\n",
    "y_test_pred_array = y_test_pred_array*2.715953 + 15.09311\n",
    "\n",
    "\n",
    "# Make the numpy.array into a list\n",
    "y_test_pred_list = y_test_pred_array.tolist()"
   ]
  },
  {
   "cell_type": "code",
   "execution_count": 29,
   "metadata": {
    "collapsed": true
   },
   "outputs": [],
   "source": [
    "# Get rid of the 2nd dimension of 1 from the FloatTensor\n",
    "test_outcomes_Variable_resized = test_outcomes_Variable.resize(1595)\n",
    "\n",
    "\n",
    "# Make the FloatTensor into a numpy.array\n",
    "test_outcomes_array = test_outcomes_Variable_resized.data.numpy()\n",
    "\n",
    "\n",
    "# Convert back to native units and scale\n",
    "test_outcomes_array = test_outcomes_array*2.715953 + 15.09311\n",
    "\n",
    "\n",
    "# Make the numpy.array into a list\n",
    "test_outcomes_list = test_outcomes_array.tolist()"
   ]
  },
  {
   "cell_type": "code",
   "execution_count": 30,
   "metadata": {
    "collapsed": false
   },
   "outputs": [
    {
     "data": {
      "text/plain": [
       "<matplotlib.text.Text at 0x7fdec843b828>"
      ]
     },
     "execution_count": 30,
     "metadata": {},
     "output_type": "execute_result"
    },
    {
     "data": {
      "image/png": "[encoded data removed]",
      "text/plain": [
       "<matplotlib.figure.Figure at 0x7fdec8436cc0>"
      ]
     },
     "metadata": {},
     "output_type": "display_data"
    }
   ],
   "source": [
    "# Plot new predictions versus new data outcomes\n",
    "\n",
    "plt.scatter(test_outcomes_list, y_test_pred_list)\n",
    "\n",
    "axes = plt.gca()\n",
    "\n",
    "axes.set_xlim([6, 26])\n",
    "\n",
    "axes.set_ylim([6, 26])\n",
    "\n",
    "axes.set_xticks([8, 10, 12, 14, 16, 18, 20, 22, 24])\n",
    "\n",
    "axes.set_yticks([8, 10, 12, 14, 16, 18, 20, 22, 24])\n",
    "\n",
    "plt.plot([5, 25], [5, 25], 'k-', lw=2)\n",
    "\n",
    "axes.set_xlabel(\"Actual Outcome (Log-Transformed US Dollars)\")\n",
    "\n",
    "axes.set_ylabel(\"Model Prediction (Log-Transformed US Dollars)\")\n",
    "\n",
    "axes.set_title(\"Model Performance\")"
   ]
  },
  {
   "cell_type": "code",
   "execution_count": 31,
   "metadata": {
    "collapsed": false
   },
   "outputs": [
    {
     "data": {
      "text/plain": [
       "Parameter containing:\n",
       "\n",
       "Columns 0 to 9 \n",
       " 0.1720  0.1770  0.1013 -0.0475 -0.0735  0.0408  0.1872  0.1133  0.1028 -0.0316\n",
       "-0.0998  0.0845  0.2172 -0.0097 -0.0081  0.0678 -0.0431 -0.2186  0.0908 -0.2586\n",
       " 0.0831  0.0263 -0.0363 -0.0778 -0.0496 -0.0712  0.1675 -0.1236 -0.0445 -0.1318\n",
       "-0.0344 -0.0071 -0.0162  0.1688  0.0177 -0.0432 -0.0152 -0.0554  0.2716  0.1862\n",
       " 0.1931  0.1378  0.0525  0.2453  0.2903  0.1607 -0.0466  0.1010 -0.0426  0.2759\n",
       " 0.0339 -0.0132 -0.1344  0.1260  0.1969 -0.1007  0.1757 -0.1021 -0.1289 -0.1438\n",
       " 0.2063 -0.0411  0.1317 -0.0408  0.0378  0.0534  0.0700 -0.1651 -0.0663  0.1178\n",
       " 0.0196  0.0955  0.2131 -0.1618 -0.0561  0.1910  0.0677  0.0042 -0.2931  0.0913\n",
       "-0.0947  0.0003  0.0948  0.1153 -0.1137 -0.0539  0.0776  0.1875  0.0070  0.0301\n",
       "-0.0791  0.0728 -0.1392  0.1278  0.0917 -0.0257 -0.0963  0.1847 -0.1155 -0.0492\n",
       " 0.0317 -0.2570 -0.0251  0.1992  0.2638 -0.1462  0.0501  0.1155  0.2146 -0.0156\n",
       " 0.0314  0.2462  0.2279  0.1129  0.1511 -0.1173  0.0472 -0.0369  0.0797 -0.1013\n",
       "-0.0157  0.0427 -0.0951 -0.2037 -0.2027 -0.0240 -0.1651 -0.2453 -0.0416  0.1114\n",
       " 0.1417 -0.1174 -0.1633 -0.0227 -0.1381 -0.0737  0.0911 -0.2106  0.1217  0.0391\n",
       "\n",
       "Columns 10 to 19 \n",
       " 0.2483 -0.1344  0.1338 -0.2203 -0.1928 -0.0924 -0.2190  0.1035  0.1272  0.1318\n",
       "-0.2020  0.1444 -0.0970 -0.1186 -0.0759  0.1231  0.0869  0.0847  0.0767 -0.2152\n",
       "-0.1151 -0.0217 -0.1807 -0.0199 -0.1194  0.1806  0.0498 -0.0956  0.0348  0.1146\n",
       "-0.0264  0.2278  0.1823 -0.1388  0.1675  0.1162 -0.1510 -0.1396 -0.1217 -0.0255\n",
       " 0.2528 -0.0035  0.1035  0.0206 -0.1216 -0.0531  0.1226  0.0983 -0.0299 -0.2137\n",
       "-0.1859  0.0797 -0.0180  0.2811  0.0743 -0.0625 -0.1106  0.2292  0.0543 -0.1683\n",
       "-0.0923 -0.0590 -0.0503  0.1025 -0.0921  0.2000 -0.0493  0.1500 -0.0515  0.0521\n",
       " 0.0576 -0.0667 -0.0391  0.1588 -0.0978  0.0336  0.0822  0.1926 -0.1573 -0.0688\n",
       "-0.0095  0.1365 -0.1019 -0.0328  0.1119 -0.2602 -0.1043 -0.1239  0.1717 -0.0023\n",
       " 0.0872  0.1646 -0.1009  0.0557 -0.0405 -0.0164 -0.2070 -0.0104  0.0787  0.1157\n",
       " 0.1135  0.0444 -0.1173  0.0255  0.1102 -0.1451  0.0393  0.0120  0.0909  0.0651\n",
       "-0.0806 -0.1220  0.1215 -0.0990 -0.0048 -0.1531  0.0792 -0.0843 -0.1230  0.0821\n",
       " 0.1716  0.1329 -0.1537 -0.0400  0.0137  0.0966  0.0202  0.0261  0.0071  0.1318\n",
       "-0.0099  0.1112  0.1120  0.1203  0.2235 -0.1248 -0.2235  0.1896 -0.0576  0.1386\n",
       "\n",
       "Columns 20 to 20 \n",
       " 0.1403\n",
       "-0.0825\n",
       " 0.0521\n",
       "-0.1089\n",
       "-0.0867\n",
       "-0.0616\n",
       " 0.1724\n",
       " 0.0494\n",
       " 0.0201\n",
       " 0.1304\n",
       "-0.0878\n",
       " 0.0709\n",
       "-0.0249\n",
       " 0.1130\n",
       "[torch.FloatTensor of size 14x21]"
      ]
     },
     "execution_count": 31,
     "metadata": {},
     "output_type": "execute_result"
    }
   ],
   "source": [
    "dim_corrected_model_2[(0)].weight"
   ]
  },
  {
   "cell_type": "code",
   "execution_count": 32,
   "metadata": {
    "collapsed": false
   },
   "outputs": [
    {
     "data": {
      "text/plain": [
       "Parameter containing:\n",
       "\n",
       "Columns 0 to 9 \n",
       " 0.0258  0.0733 -0.1203  0.1159  0.1309  0.0649  0.2055 -0.1825 -0.1901  0.1317\n",
       "\n",
       "Columns 10 to 13 \n",
       " 0.2800  0.2238 -0.1131 -0.1160\n",
       "[torch.FloatTensor of size 1x14]"
      ]
     },
     "execution_count": 32,
     "metadata": {},
     "output_type": "execute_result"
    }
   ],
   "source": [
    "dim_corrected_model_2[(2)].weight"
   ]
  },
  {
   "cell_type": "markdown",
   "metadata": {},
   "source": [
    "## Round 2: Two-Hidden-Layer Neural Network"
   ]
  },
  {
   "cell_type": "code",
   "execution_count": 33,
   "metadata": {
    "collapsed": true
   },
   "outputs": [],
   "source": [
    "# Make the torch Tensor into a PyTorch Variable for dependent variables\n",
    "outcomes_Variable = Variable(outcomes_Tensor)\n",
    "\n",
    "\n",
    "# ...for independent variables\n",
    "features_Variable = Variable(features_Tensor,\n",
    "                             requires_grad = False)"
   ]
  },
  {
   "cell_type": "code",
   "execution_count": 34,
   "metadata": {
    "collapsed": true
   },
   "outputs": [],
   "source": [
    "# Make the neural network\n",
    "model = torch.nn.Sequential(torch.nn.Linear(21, 14),\n",
    "                            torch.nn.ReLU(),\n",
    "                            torch.nn.Linear(14, 9),\n",
    "                            torch.nn.ReLU(),\n",
    "                            torch.nn.Linear(9, 1))"
   ]
  },
  {
   "cell_type": "code",
   "execution_count": 35,
   "metadata": {
    "collapsed": false
   },
   "outputs": [],
   "source": [
    "# To add errors to\n",
    "errors = []\n",
    "\n",
    "\n",
    "# Set the learning rate\n",
    "learning_rate = 6e-6\n",
    "\n",
    "\n",
    "# Train the neural network\n",
    "for t in range(10000):\n",
    "    \n",
    "    # Get the current predictions\n",
    "    y_pred = model(features_Variable)\n",
    "    \n",
    "    # Compute and append current summed errors\n",
    "    loss = loss_fn(y_pred, outcomes_Variable)\n",
    "    errors.append(loss.data[0])\n",
    "    \n",
    "    # Zero the gradients before running the backward pass.\n",
    "    model.zero_grad()\n",
    "    \n",
    "    # Backward pass: compute gradient of the loss with respect to all the learnable Variables\n",
    "    loss.backward()\n",
    "    \n",
    "    # Update the weights using gradient descent\n",
    "    for param in model.parameters():\n",
    "        param.data -= learning_rate * param.grad.data"
   ]
  },
  {
   "cell_type": "code",
   "execution_count": 36,
   "metadata": {
    "collapsed": false
   },
   "outputs": [
    {
     "data": {
      "text/plain": [
       "<matplotlib.collections.PathCollection at 0x7fdec8330278>"
      ]
     },
     "execution_count": 36,
     "metadata": {},
     "output_type": "execute_result"
    },
    {
     "data": {
      "image/png": "[encoded data removed]",
      "text/plain": [
       "<matplotlib.figure.Figure at 0x7fdec843b588>"
      ]
     },
     "metadata": {},
     "output_type": "display_data"
    }
   ],
   "source": [
    "# Plot summed error as a function of iteration\n",
    "plt.scatter(iterations, errors)"
   ]
  },
  {
   "cell_type": "code",
   "execution_count": 37,
   "metadata": {
    "collapsed": false
   },
   "outputs": [],
   "source": [
    "# Get rid of the 2nd dimension of 1 from the FloatTensor\n",
    "y_pred_resized = y_pred.resize(4803)\n",
    "\n",
    "\n",
    "# Make the FloatTensor into a numpy.array\n",
    "y_pred_array = y_pred_resized.data.numpy()\n",
    "\n",
    "\n",
    "# Make the numpy.array into a list\n",
    "y_pred_list = y_pred_array.tolist()"
   ]
  },
  {
   "cell_type": "code",
   "execution_count": 38,
   "metadata": {
    "collapsed": false
   },
   "outputs": [
    {
     "data": {
      "text/plain": [
       "[<matplotlib.lines.Line2D at 0x7fdecc706198>]"
      ]
     },
     "execution_count": 38,
     "metadata": {},
     "output_type": "execute_result"
    },
    {
     "data": {
      "image/png": "[encoded data removed]",
      "text/plain": [
       "<matplotlib.figure.Figure at 0x7fdecc7060f0>"
      ]
     },
     "metadata": {},
     "output_type": "display_data"
    }
   ],
   "source": [
    "# Plot predictions versus training set outcomes\n",
    "plt.scatter(outcomes_list, y_pred_list)\n",
    "\n",
    "axes = plt.gca()\n",
    "\n",
    "axes.set_xlim([-3, 3])\n",
    "\n",
    "axes.set_ylim([-3, 3])\n",
    "\n",
    "plt.plot([-3, 3], [-3, 3], 'k-', lw=2)"
   ]
  },
  {
   "cell_type": "markdown",
   "metadata": {},
   "source": [
    "### Round 2.1: Validation Set Performance"
   ]
  },
  {
   "cell_type": "code",
   "execution_count": 39,
   "metadata": {
    "collapsed": false
   },
   "outputs": [
    {
     "data": {
      "text/plain": [
       "Variable containing:\n",
       " 1438.8767\n",
       "[torch.FloatTensor of size 1]"
      ]
     },
     "execution_count": 39,
     "metadata": {},
     "output_type": "execute_result"
    }
   ],
   "source": [
    "# Have to make a new model and give it the train_model parameters to fix structure problem\n",
    "dim_corrected_model = torch.nn.Sequential(torch.nn.Linear(21, 14),\n",
    "                                          torch.nn.ReLU(),\n",
    "                                          torch.nn.Linear(14, 9),\n",
    "                                          torch.nn.ReLU(),\n",
    "                                          torch.nn.Linear(9, 1))\n",
    "\n",
    "\n",
    "# Give the new model the old model's parameters\n",
    "dim_corrected_model[(0)].weight = model[(0)].weight\n",
    "dim_corrected_model[(2)].weight = model[(2)].weight\n",
    "dim_corrected_model[(4)].weight = model[(4)].weight\n",
    "\n",
    "\n",
    "# Get the validation set predictions\n",
    "y_valid_pred = dim_corrected_model(valid_predictors_Variable)\n",
    "\n",
    "\n",
    "# Print the loss\n",
    "loss_fn(y_valid_pred,\n",
    "        valid_outcomes_Variable)"
   ]
  },
  {
   "cell_type": "code",
   "execution_count": 40,
   "metadata": {
    "collapsed": false
   },
   "outputs": [],
   "source": [
    "# Get rid of the 2nd dimension of 1 from the FloatTensor\n",
    "y_valid_pred_resized = y_valid_pred.resize(1562)\n",
    "\n",
    "\n",
    "# Make the FloatTensor into a numpy.array\n",
    "y_valid_pred_array = y_valid_pred_resized.data.numpy()\n",
    "\n",
    "\n",
    "# Make the numpy.array into a list\n",
    "y_valid_pred_list = y_valid_pred_array.tolist()"
   ]
  },
  {
   "cell_type": "code",
   "execution_count": 41,
   "metadata": {
    "collapsed": false
   },
   "outputs": [
    {
     "data": {
      "text/plain": [
       "[<matplotlib.lines.Line2D at 0x7fdec83bc3c8>]"
      ]
     },
     "execution_count": 41,
     "metadata": {},
     "output_type": "execute_result"
    },
    {
     "data": {
      "image/png": "[encoded data removed]",
      "text/plain": [
       "<matplotlib.figure.Figure at 0x7fdec83cd5c0>"
      ]
     },
     "metadata": {},
     "output_type": "display_data"
    }
   ],
   "source": [
    "# Plot new predictions versus new data outcomes\n",
    "plt.scatter(valid_outcomes_list, y_valid_pred_list)\n",
    "\n",
    "axes = plt.gca()\n",
    "\n",
    "axes.set_xlim([-3, 3])\n",
    "\n",
    "axes.set_ylim([-3, 3])\n",
    "\n",
    "plt.plot([-3, 3], [-3, 3], 'k-', lw=2)"
   ]
  },
  {
   "cell_type": "markdown",
   "metadata": {},
   "source": [
    "## Round 3: Three-Hidden-Layers Neural Network"
   ]
  },
  {
   "cell_type": "code",
   "execution_count": 42,
   "metadata": {
    "collapsed": true
   },
   "outputs": [],
   "source": [
    "# Make the torch Tensor into a PyTorch Variable for dependent variables\n",
    "outcomes_Variable = Variable(outcomes_Tensor)\n",
    "\n",
    "\n",
    "# ...for independent variables\n",
    "features_Variable = Variable(features_Tensor,\n",
    "                             requires_grad = False)"
   ]
  },
  {
   "cell_type": "code",
   "execution_count": 43,
   "metadata": {
    "collapsed": false
   },
   "outputs": [],
   "source": [
    "# Make the neural network\n",
    "model = torch.nn.Sequential(torch.nn.Linear(21, 14),\n",
    "                            torch.nn.ReLU(),\n",
    "                            torch.nn.Linear(14, 9),\n",
    "                            torch.nn.ReLU(),\n",
    "                            torch.nn.Linear(9, 6),\n",
    "                            torch.nn.ReLU(),\n",
    "                            torch.nn.Linear(6, 1))"
   ]
  },
  {
   "cell_type": "code",
   "execution_count": 44,
   "metadata": {
    "collapsed": false
   },
   "outputs": [],
   "source": [
    "# To add errors to\n",
    "errors = []\n",
    "\n",
    "\n",
    "# Set the learning rate\n",
    "learning_rate = 5e-6\n",
    "\n",
    "\n",
    "# Train the neural network\n",
    "for t in range(10000):\n",
    "    \n",
    "    # Get the current predictions\n",
    "    y_pred = model(features_Variable)\n",
    "    \n",
    "    # Compute and append current summed errors\n",
    "    loss = loss_fn(y_pred, outcomes_Variable)\n",
    "    errors.append(loss.data[0])\n",
    "    \n",
    "    # Zero the gradients before running the backward pass.\n",
    "    model.zero_grad()\n",
    "    \n",
    "    # Backward pass: compute gradient of the loss with respect to all the learnable Variables\n",
    "    loss.backward()\n",
    "    \n",
    "    # Update the weights using gradient descent\n",
    "    for param in model.parameters():\n",
    "        param.data -= learning_rate * param.grad.data"
   ]
  },
  {
   "cell_type": "code",
   "execution_count": 45,
   "metadata": {
    "collapsed": false
   },
   "outputs": [
    {
     "data": {
      "text/plain": [
       "<matplotlib.collections.PathCollection at 0x7fdec81ddef0>"
      ]
     },
     "execution_count": 45,
     "metadata": {},
     "output_type": "execute_result"
    },
    {
     "data": {
      "image/png": "[encoded data removed]",
      "text/plain": [
       "<matplotlib.figure.Figure at 0x7fdec8567748>"
      ]
     },
     "metadata": {},
     "output_type": "display_data"
    }
   ],
   "source": [
    "# Plot summed error as a function of iteration\n",
    "plt.scatter(iterations, errors)"
   ]
  },
  {
   "cell_type": "code",
   "execution_count": 46,
   "metadata": {
    "collapsed": true
   },
   "outputs": [],
   "source": [
    "# Get rid of the 2nd dimension of 1 from the FloatTensor\n",
    "y_pred_resized = y_pred.resize(4803)\n",
    "\n",
    "\n",
    "# Make the FloatTensor into a numpy.array\n",
    "y_pred_array = y_pred_resized.data.numpy()\n",
    "\n",
    "\n",
    "# Make the numpy.array into a list\n",
    "y_pred_list = y_pred_array.tolist()"
   ]
  },
  {
   "cell_type": "code",
   "execution_count": 47,
   "metadata": {
    "collapsed": false
   },
   "outputs": [
    {
     "data": {
      "text/plain": [
       "[<matplotlib.lines.Line2D at 0x7fdec8f91978>]"
      ]
     },
     "execution_count": 47,
     "metadata": {},
     "output_type": "execute_result"
    },
    {
     "data": {
      "image/png": "[encoded data removed]",
      "text/plain": [
       "<matplotlib.figure.Figure at 0x7fdec8f91a20>"
      ]
     },
     "metadata": {},
     "output_type": "display_data"
    }
   ],
   "source": [
    "# Plot predictions versus training set outcomes\n",
    "plt.scatter(outcomes_list, y_pred_list)\n",
    "\n",
    "axes = plt.gca()\n",
    "\n",
    "axes.set_xlim([-3, 3])\n",
    "\n",
    "axes.set_ylim([-3, 3])\n",
    "\n",
    "plt.plot([-3, 3], [-3, 3], 'k-', lw=2)"
   ]
  },
  {
   "cell_type": "markdown",
   "metadata": {},
   "source": [
    "### Round 3.1: Validation Set Performance"
   ]
  },
  {
   "cell_type": "code",
   "execution_count": 48,
   "metadata": {
    "collapsed": false
   },
   "outputs": [
    {
     "data": {
      "text/plain": [
       "Variable containing:\n",
       " 641.1154\n",
       "[torch.FloatTensor of size 1]"
      ]
     },
     "execution_count": 48,
     "metadata": {},
     "output_type": "execute_result"
    }
   ],
   "source": [
    "# Have to make a new model and give it the train_model parameters to fix structure problem\n",
    "dim_corrected_model = torch.nn.Sequential(torch.nn.Linear(21, 14),\n",
    "                                          torch.nn.ReLU(),\n",
    "                                          torch.nn.Linear(14, 9),\n",
    "                                          torch.nn.ReLU(),\n",
    "                                          torch.nn.Linear(9, 6),\n",
    "                                          torch.nn.ReLU(),\n",
    "                                          torch.nn.Linear(6, 1))\n",
    "\n",
    "\n",
    "# Give the new model the old model's parameters\n",
    "dim_corrected_model[(0)].weight = model[(0)].weight\n",
    "dim_corrected_model[(2)].weight = model[(2)].weight\n",
    "dim_corrected_model[(4)].weight = model[(4)].weight\n",
    "dim_corrected_model[(6)].weight = model[(6)].weight\n",
    "\n",
    "\n",
    "# Get the validation set predictions\n",
    "y_valid_pred = dim_corrected_model(valid_predictors_Variable)\n",
    "\n",
    "\n",
    "# Print the loss\n",
    "loss_fn(y_valid_pred,\n",
    "        valid_outcomes_Variable)"
   ]
  },
  {
   "cell_type": "code",
   "execution_count": 49,
   "metadata": {
    "collapsed": false
   },
   "outputs": [],
   "source": [
    "# Get rid of the 2nd dimension of 1 from the FloatTensor\n",
    "y_valid_pred_resized = y_valid_pred.resize(1562)\n",
    "\n",
    "\n",
    "# Make the FloatTensor into a numpy.array\n",
    "y_valid_pred_array = y_valid_pred_resized.data.numpy()\n",
    "\n",
    "\n",
    "# Make the numpy.array into a list\n",
    "y_valid_pred_list = y_valid_pred_array.tolist()"
   ]
  },
  {
   "cell_type": "code",
   "execution_count": 50,
   "metadata": {
    "collapsed": false
   },
   "outputs": [
    {
     "data": {
      "text/plain": [
       "[<matplotlib.lines.Line2D at 0x7fdec8114b38>]"
      ]
     },
     "execution_count": 50,
     "metadata": {},
     "output_type": "execute_result"
    },
    {
     "data": {
      "image/png": "[encoded data removed]",
      "text/plain": [
       "<matplotlib.figure.Figure at 0x7fdec8114be0>"
      ]
     },
     "metadata": {},
     "output_type": "display_data"
    }
   ],
   "source": [
    "# Plot new predictions versus new data outcomes\n",
    "plt.scatter(valid_outcomes_list, y_valid_pred_list)\n",
    "\n",
    "axes = plt.gca()\n",
    "\n",
    "axes.set_xlim([-3, 3])\n",
    "\n",
    "axes.set_ylim([-3, 3])\n",
    "\n",
    "plt.plot([-3, 3], [-3, 3], 'k-', lw=2)"
   ]
  },
  {
   "cell_type": "markdown",
   "metadata": {},
   "source": [
    "## Round 4: Linear Regression"
   ]
  },
  {
   "cell_type": "code",
   "execution_count": 51,
   "metadata": {
    "collapsed": true
   },
   "outputs": [],
   "source": [
    "# Make the torch Tensor into a PyTorch Variable for dependent variables\n",
    "outcomes_Variable = Variable(outcomes_Tensor)\n",
    "\n",
    "\n",
    "# ...for independent variables\n",
    "features_Variable = Variable(features_Tensor,\n",
    "                             requires_grad = False)"
   ]
  },
  {
   "cell_type": "code",
   "execution_count": 52,
   "metadata": {
    "collapsed": true
   },
   "outputs": [],
   "source": [
    "# Make the neural network - really a regression\n",
    "model = torch.nn.Sequential(torch.nn.Linear(21, 1))"
   ]
  },
  {
   "cell_type": "code",
   "execution_count": 53,
   "metadata": {
    "collapsed": false
   },
   "outputs": [],
   "source": [
    "# To add errors to\n",
    "errors = []\n",
    "\n",
    "\n",
    "# Set the learning rate\n",
    "learning_rate = 4e-6\n",
    "\n",
    "\n",
    "# Train the neural network\n",
    "for t in range(10000):\n",
    "    \n",
    "    # Get the current predictions\n",
    "    y_pred = model(features_Variable)\n",
    "    \n",
    "    # Compute and append current summed errors\n",
    "    loss = loss_fn(y_pred, outcomes_Variable)\n",
    "    errors.append(loss.data[0])\n",
    "    \n",
    "    # Zero the gradients before running the backward pass.\n",
    "    model.zero_grad()\n",
    "    \n",
    "    # Backward pass: compute gradient of the loss with respect to all the learnable Variables\n",
    "    loss.backward()\n",
    "    \n",
    "    # Update the weights using gradient descent\n",
    "    for param in model.parameters():\n",
    "        param.data -= learning_rate * param.grad.data"
   ]
  },
  {
   "cell_type": "code",
   "execution_count": 54,
   "metadata": {
    "collapsed": false
   },
   "outputs": [
    {
     "data": {
      "text/plain": [
       "<matplotlib.collections.PathCollection at 0x7fdeb8fe1240>"
      ]
     },
     "execution_count": 54,
     "metadata": {},
     "output_type": "execute_result"
    },
    {
     "data": {
      "image/png": "[encoded data removed]",
      "text/plain": [
       "<matplotlib.figure.Figure at 0x7fdec80b6630>"
      ]
     },
     "metadata": {},
     "output_type": "display_data"
    }
   ],
   "source": [
    "# Plot summed error as a function of iteration\n",
    "plt.scatter(iterations, errors)"
   ]
  },
  {
   "cell_type": "code",
   "execution_count": 55,
   "metadata": {
    "collapsed": false
   },
   "outputs": [],
   "source": [
    "# Get rid of the 2nd dimension of 1 from the FloatTensor\n",
    "y_pred_resized = y_pred.resize(4803)\n",
    "\n",
    "\n",
    "# Make the FloatTensor into a numpy.array\n",
    "y_pred_array = y_pred_resized.data.numpy()\n",
    "\n",
    "\n",
    "# Make the numpy.array into a list\n",
    "y_pred_list = y_pred_array.tolist()"
   ]
  },
  {
   "cell_type": "code",
   "execution_count": 56,
   "metadata": {
    "collapsed": false
   },
   "outputs": [
    {
     "data": {
      "text/plain": [
       "[<matplotlib.lines.Line2D at 0x7fdeb8ff6da0>]"
      ]
     },
     "execution_count": 56,
     "metadata": {},
     "output_type": "execute_result"
    },
    {
     "data": {
      "image/png": "[encoded data removed]",
      "text/plain": [
       "<matplotlib.figure.Figure at 0x7fdeb8ff6eb8>"
      ]
     },
     "metadata": {},
     "output_type": "display_data"
    }
   ],
   "source": [
    "# Plot predictions versus training set outcomes\n",
    "plt.scatter(outcomes_list, y_pred_list)\n",
    "\n",
    "axes = plt.gca()\n",
    "\n",
    "axes.set_xlim([-3, 3])\n",
    "\n",
    "axes.set_ylim([-3, 3])\n",
    "\n",
    "plt.plot([-3, 3], [-3, 3], 'k-', lw=2)"
   ]
  },
  {
   "cell_type": "markdown",
   "metadata": {
    "collapsed": false
   },
   "source": [
    "### Round 4.1: Validation Set Performance"
   ]
  },
  {
   "cell_type": "code",
   "execution_count": 57,
   "metadata": {
    "collapsed": false
   },
   "outputs": [
    {
     "data": {
      "text/plain": [
       "Variable containing:\n",
       " 1126.5764\n",
       "[torch.FloatTensor of size 1]"
      ]
     },
     "execution_count": 57,
     "metadata": {},
     "output_type": "execute_result"
    }
   ],
   "source": [
    "# Have to make a new model and give it the train_model parameters to fix structure problem\n",
    "dim_corrected_model = torch.nn.Sequential(torch.nn.Linear(21, 1))\n",
    "\n",
    "\n",
    "# Give the new model the old model's parameters\n",
    "dim_corrected_model[(0)].weight = model[(0)].weight\n",
    "\n",
    "\n",
    "# Get the validation set predictions\n",
    "y_valid_pred = dim_corrected_model(valid_predictors_Variable)\n",
    "\n",
    "\n",
    "# Print the loss\n",
    "loss_fn(y_valid_pred,\n",
    "        valid_outcomes_Variable)"
   ]
  },
  {
   "cell_type": "code",
   "execution_count": 58,
   "metadata": {
    "collapsed": true
   },
   "outputs": [],
   "source": [
    "# Get rid of the 2nd dimension of 1 from the FloatTensor\n",
    "y_valid_pred_resized = y_valid_pred.resize(1562)\n",
    "\n",
    "\n",
    "# Make the FloatTensor into a numpy.array\n",
    "y_valid_pred_array = y_valid_pred_resized.data.numpy()\n",
    "\n",
    "\n",
    "# Make the numpy.array into a list\n",
    "y_valid_pred_list = y_valid_pred_array.tolist()"
   ]
  },
  {
   "cell_type": "code",
   "execution_count": 59,
   "metadata": {
    "collapsed": false
   },
   "outputs": [
    {
     "data": {
      "text/plain": [
       "[<matplotlib.lines.Line2D at 0x7fdeb8f32f98>]"
      ]
     },
     "execution_count": 59,
     "metadata": {},
     "output_type": "execute_result"
    },
    {
     "data": {
      "image/png": "[encoded data removed]",
      "text/plain": [
       "<matplotlib.figure.Figure at 0x7fdeb8edd898>"
      ]
     },
     "metadata": {},
     "output_type": "display_data"
    }
   ],
   "source": [
    "# Plot new predictions versus new data outcomes\n",
    "plt.scatter(valid_outcomes_list, y_valid_pred_list)\n",
    "\n",
    "axes = plt.gca()\n",
    "\n",
    "axes.set_xlim([-3, 3])\n",
    "\n",
    "axes.set_ylim([-3, 3])\n",
    "\n",
    "plt.plot([-3, 3], [-3, 3], 'k-', lw=2)"
   ]
  }
 ],
 "metadata": {
  "kernelspec": {
   "display_name": "Python 3",
   "language": "python",
   "name": "python3"
  },
  "language_info": {
   "codemirror_mode": {
    "name": "ipython",
    "version": 3
   },
   "file_extension": ".py",
   "mimetype": "text/x-python",
   "name": "python",
   "nbconvert_exporter": "python",
   "pygments_lexer": "ipython3",
   "version": "3.6.0"
  }
 },
 "nbformat": 4,
 "nbformat_minor": 2
}
