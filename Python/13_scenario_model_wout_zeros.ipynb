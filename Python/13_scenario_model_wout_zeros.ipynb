{
 "cells": [
  {
   "cell_type": "markdown",
   "metadata": {},
   "source": [
    "## Setup"
   ]
  },
  {
   "cell_type": "code",
   "execution_count": 1,
   "metadata": {
    "collapsed": true
   },
   "outputs": [],
   "source": [
    "# Packages\n",
    "import pandas as pd\n",
    "import torch\n",
    "from torch.autograd import Variable\n",
    "import numpy as np\n",
    "import matplotlib.pyplot as plt\n",
    "%matplotlib inline\n",
    "import pylab\n",
    "import math"
   ]
  },
  {
   "cell_type": "code",
   "execution_count": 2,
   "metadata": {
    "collapsed": false
   },
   "outputs": [
    {
     "name": "stdout",
     "output_type": "stream",
     "text": [
      "<class 'pandas.core.frame.DataFrame'>\n",
      "RangeIndex: 4732 entries, 0 to 4731\n",
      "Data columns (total 29 columns):\n",
      "EVENT_ID              4732 non-null int64\n",
      "INJURIES_DIRECT       4732 non-null int64\n",
      "DEATHS_DIRECT         4732 non-null int64\n",
      "DAMAGE_PROPERTY       4732 non-null float64\n",
      "DAMAGE_CROPS          4732 non-null float64\n",
      "DURATION_SECONDS      4732 non-null float64\n",
      "BEGIN_LAT             4732 non-null float64\n",
      "BEGIN_LON             4732 non-null float64\n",
      "TOR_LENGTH            4732 non-null float64\n",
      "TOR_WIDTH             4732 non-null float64\n",
      "BEGIN_DATE_TIME       4732 non-null float64\n",
      "YEAR                  4732 non-null int64\n",
      "CZ_NAME               4732 non-null object\n",
      "STATE                 4732 non-null object\n",
      "OPEN_WATER_PROP       4732 non-null float64\n",
      "DEV_OPEN_PROP         4732 non-null float64\n",
      "DEV_LOW_PROP          4732 non-null float64\n",
      "DEV_MED_PROP          4732 non-null float64\n",
      "DEV_HIGH_PROP         4732 non-null float64\n",
      "DECID_FOREST_PROP     4732 non-null float64\n",
      "EVERGR_FOREST_PROP    4732 non-null float64\n",
      "MIXED_FOREST_PROP     4732 non-null float64\n",
      "SHRUB_SCRUB_PROP      4732 non-null float64\n",
      "GRASS_LAND_PROP       4732 non-null float64\n",
      "PASTURE_HAY_PROP      4732 non-null float64\n",
      "CULT_CROPS_PROP       4732 non-null float64\n",
      "WOOD_WETLAND_PROP     4732 non-null float64\n",
      "HERB_WETLAND_PROP     4732 non-null float64\n",
      "BARREN_LAND_PROP      4732 non-null float64\n",
      "dtypes: float64(23), int64(4), object(2)\n",
      "memory usage: 1.0+ MB\n"
     ]
    }
   ],
   "source": [
    "# Import data\n",
    "tor_df = pd.read_csv(\"/home/jeremy/github_tornadoesr/data/raw/tor_train_set_no_zeros.csv\")\n",
    "\n",
    "\n",
    "# Quick inspection\n",
    "tor_df.info()"
   ]
  },
  {
   "cell_type": "code",
   "execution_count": 3,
   "metadata": {
    "collapsed": false
   },
   "outputs": [
    {
     "name": "stdout",
     "output_type": "stream",
     "text": [
      "<class 'pandas.core.frame.DataFrame'>\n",
      "RangeIndex: 4732 entries, 0 to 4731\n",
      "Data columns (total 1 columns):\n",
      "DAMAGE_PROPERTY    4732 non-null float64\n",
      "dtypes: float64(1)\n",
      "memory usage: 37.0 KB\n"
     ]
    }
   ],
   "source": [
    "# Seperating variables\n",
    "# The dependent variables\n",
    "tornado_outcomes = tor_df.iloc[:, [3]]\n",
    "\n",
    "\n",
    "# Quick inspection\n",
    "tornado_outcomes.info()"
   ]
  },
  {
   "cell_type": "code",
   "execution_count": 4,
   "metadata": {
    "collapsed": false
   },
   "outputs": [
    {
     "name": "stdout",
     "output_type": "stream",
     "text": [
      "<class 'pandas.core.frame.DataFrame'>\n",
      "RangeIndex: 4732 entries, 0 to 4731\n",
      "Data columns (total 21 columns):\n",
      "DURATION_SECONDS      4732 non-null float64\n",
      "BEGIN_LAT             4732 non-null float64\n",
      "BEGIN_LON             4732 non-null float64\n",
      "TOR_LENGTH            4732 non-null float64\n",
      "TOR_WIDTH             4732 non-null float64\n",
      "BEGIN_DATE_TIME       4732 non-null float64\n",
      "OPEN_WATER_PROP       4732 non-null float64\n",
      "DEV_OPEN_PROP         4732 non-null float64\n",
      "DEV_LOW_PROP          4732 non-null float64\n",
      "DEV_MED_PROP          4732 non-null float64\n",
      "DEV_HIGH_PROP         4732 non-null float64\n",
      "DECID_FOREST_PROP     4732 non-null float64\n",
      "EVERGR_FOREST_PROP    4732 non-null float64\n",
      "MIXED_FOREST_PROP     4732 non-null float64\n",
      "SHRUB_SCRUB_PROP      4732 non-null float64\n",
      "GRASS_LAND_PROP       4732 non-null float64\n",
      "PASTURE_HAY_PROP      4732 non-null float64\n",
      "CULT_CROPS_PROP       4732 non-null float64\n",
      "WOOD_WETLAND_PROP     4732 non-null float64\n",
      "HERB_WETLAND_PROP     4732 non-null float64\n",
      "BARREN_LAND_PROP      4732 non-null float64\n",
      "dtypes: float64(21)\n",
      "memory usage: 776.4 KB\n"
     ]
    }
   ],
   "source": [
    "# The independent variables\n",
    "tornado_features = tor_df.iloc[:, 5:]\n",
    "\n",
    "\n",
    "# Get rid of year and county name\n",
    "tornado_features = tornado_features.drop([\"YEAR\",\n",
    "                                          \"CZ_NAME\",\n",
    "                                          \"STATE\"],\n",
    "                                         axis = 1)\n",
    "\n",
    "\n",
    "\n",
    "# Quick inspection\n",
    "tornado_features.info()"
   ]
  },
  {
   "cell_type": "code",
   "execution_count": 5,
   "metadata": {
    "collapsed": false
   },
   "outputs": [
    {
     "data": {
      "text/plain": [
       "\n",
       " 0.5951\n",
       " 1.2772\n",
       " 0.6926\n",
       "   ⋮    \n",
       " 0.7159\n",
       " 0.8757\n",
       " 0.4558\n",
       "[torch.DoubleTensor of size 4732x1]"
      ]
     },
     "execution_count": 5,
     "metadata": {},
     "output_type": "execute_result"
    }
   ],
   "source": [
    "# Make the dependent variables into a numpy array\n",
    "outcomes_array = tornado_outcomes.values\n",
    "\n",
    "\n",
    "# Makes the numpy array into a torch Tensor\n",
    "outcomes_Tensor = torch.from_numpy(outcomes_array)\n",
    "\n",
    "\n",
    "# Quick inspection\n",
    "outcomes_Tensor"
   ]
  },
  {
   "cell_type": "code",
   "execution_count": 6,
   "metadata": {
    "collapsed": false
   },
   "outputs": [
    {
     "data": {
      "text/plain": [
       "\n",
       " 1.9605e-01  3.8572e-01 -7.9828e-01  ...  -4.6545e-02 -2.1285e-01 -6.9525e-01\n",
       "-1.4814e-02  1.8039e-01  9.5833e-01  ...  -1.2423e+00 -9.0635e-01  2.2024e+00\n",
       " 5.5754e-01 -1.0135e+00  7.6543e-01  ...   1.4441e+00  1.6766e+00 -6.9525e-01\n",
       "                ...                   ⋱                   ...                \n",
       " 9.6160e-01  6.1517e-02  4.1479e-01  ...  -1.5462e-01 -9.0635e-01 -6.9525e-01\n",
       " 8.2443e-01  3.3896e-02  5.4983e-01  ...   3.4848e-01  3.6783e-01  1.1558e+00\n",
       "-3.7344e-01 -7.4953e-01  9.0271e-01  ...  -6.3764e-01 -9.0635e-01  6.8160e-01\n",
       "[torch.DoubleTensor of size 4732x21]"
      ]
     },
     "execution_count": 6,
     "metadata": {},
     "output_type": "execute_result"
    }
   ],
   "source": [
    "# Make the independent variables into a numpy array\n",
    "features_array = tornado_features.values\n",
    "\n",
    "\n",
    "# Make the numpy array into a torch Tensor\n",
    "features_Tensor = torch.from_numpy(features_array)\n",
    "\n",
    "\n",
    "# Quick inspection\n",
    "features_Tensor"
   ]
  },
  {
   "cell_type": "markdown",
   "metadata": {},
   "source": [
    "### Convert DoubleTensor to FloatTensor"
   ]
  },
  {
   "cell_type": "code",
   "execution_count": 7,
   "metadata": {
    "collapsed": false
   },
   "outputs": [
    {
     "data": {
      "text/plain": [
       "\n",
       " 1.9605e-01  3.8572e-01 -7.9828e-01  ...  -4.6545e-02 -2.1285e-01 -6.9525e-01\n",
       "-1.4814e-02  1.8039e-01  9.5833e-01  ...  -1.2423e+00 -9.0635e-01  2.2024e+00\n",
       " 5.5754e-01 -1.0135e+00  7.6543e-01  ...   1.4441e+00  1.6766e+00 -6.9525e-01\n",
       "                ...                   ⋱                   ...                \n",
       " 9.6160e-01  6.1517e-02  4.1479e-01  ...  -1.5462e-01 -9.0635e-01 -6.9525e-01\n",
       " 8.2443e-01  3.3896e-02  5.4983e-01  ...   3.4848e-01  3.6783e-01  1.1558e+00\n",
       "-3.7344e-01 -7.4953e-01  9.0271e-01  ...  -6.3764e-01 -9.0635e-01  6.8160e-01\n",
       "[torch.FloatTensor of size 4732x21]"
      ]
     },
     "execution_count": 7,
     "metadata": {},
     "output_type": "execute_result"
    }
   ],
   "source": [
    "# Changing dependent variables from a DoubleTensor to a FloatTensor\n",
    "outcomes_Tensor = outcomes_Tensor.float()\n",
    "\n",
    "\n",
    "# ...and for the independent variables\n",
    "features_Tensor = features_Tensor.float()\n",
    "\n",
    "\n",
    "# Quick check\n",
    "features_Tensor"
   ]
  },
  {
   "cell_type": "markdown",
   "metadata": {
    "collapsed": true
   },
   "source": [
    "## Round 1: One-Hidden-Layer Neural Network"
   ]
  },
  {
   "cell_type": "code",
   "execution_count": 8,
   "metadata": {
    "collapsed": false
   },
   "outputs": [],
   "source": [
    "# Make the torch Tensor into a PyTorch Variable for dependent variables\n",
    "outcomes_Variable = Variable(outcomes_Tensor)\n",
    "\n",
    "\n",
    "# ...for independent variables\n",
    "features_Variable = Variable(features_Tensor,\n",
    "                             requires_grad = False)"
   ]
  },
  {
   "cell_type": "code",
   "execution_count": 9,
   "metadata": {
    "collapsed": false
   },
   "outputs": [],
   "source": [
    "# Make the neural network\n",
    "model = torch.nn.Sequential(torch.nn.Linear(21, 14),\n",
    "                            torch.nn.ReLU(),\n",
    "                            torch.nn.Linear(14, 1))"
   ]
  },
  {
   "cell_type": "code",
   "execution_count": 10,
   "metadata": {
    "collapsed": true
   },
   "outputs": [],
   "source": [
    "# Set the loss function\n",
    "loss_fn = torch.nn.MSELoss(size_average=False)"
   ]
  },
  {
   "cell_type": "code",
   "execution_count": 11,
   "metadata": {
    "collapsed": false
   },
   "outputs": [],
   "source": [
    "# To add errors to\n",
    "errors = []\n",
    "\n",
    "\n",
    "# Set the learning rate\n",
    "learning_rate = 4e-6\n",
    "\n",
    "\n",
    "# Train the neural network\n",
    "for t in range(10000):\n",
    "    \n",
    "    # Get the current predictions\n",
    "    y_pred = model(features_Variable)\n",
    "    \n",
    "    # Compute and append current summed errors\n",
    "    loss = loss_fn(y_pred, outcomes_Variable)\n",
    "    errors.append(loss.data[0])\n",
    "    \n",
    "    # Zero the gradients before running the backward pass.\n",
    "    model.zero_grad()\n",
    "    \n",
    "    # Backward pass: compute gradient of the loss with respect to all the learnable Variables\n",
    "    loss.backward()\n",
    "    \n",
    "    # Update the weights using gradient descent\n",
    "    for param in model.parameters():\n",
    "        param.data -= learning_rate * param.grad.data"
   ]
  },
  {
   "cell_type": "code",
   "execution_count": 12,
   "metadata": {
    "collapsed": true
   },
   "outputs": [],
   "source": [
    "# Get the iterations\n",
    "iterations = list(range(0, 10000))"
   ]
  },
  {
   "cell_type": "code",
   "execution_count": 13,
   "metadata": {
    "collapsed": false
   },
   "outputs": [
    {
     "data": {
      "text/plain": [
       "<matplotlib.collections.PathCollection at 0x7f278b7ee390>"
      ]
     },
     "execution_count": 13,
     "metadata": {},
     "output_type": "execute_result"
    },
    {
     "data": {
      "image/png": "[encoded data removed]",
      "text/plain": [
       "<matplotlib.figure.Figure at 0x7f273411e5c0>"
      ]
     },
     "metadata": {},
     "output_type": "display_data"
    }
   ],
   "source": [
    "# Plot summed error as a function of iteration\n",
    "plt.scatter(iterations, errors)"
   ]
  },
  {
   "cell_type": "code",
   "execution_count": 14,
   "metadata": {
    "collapsed": false
   },
   "outputs": [],
   "source": [
    "# Get rid of the 2nd dimension of 1 from the FloatTensor\n",
    "y_pred_resized = y_pred.resize(4732)\n",
    "\n",
    "\n",
    "# Make the FloatTensor into a numpy.array\n",
    "y_pred_array = y_pred_resized.data.numpy()\n",
    "\n",
    "\n",
    "# Make the numpy.array into a list\n",
    "y_pred_list = y_pred_array.tolist()"
   ]
  },
  {
   "cell_type": "code",
   "execution_count": 15,
   "metadata": {
    "collapsed": false
   },
   "outputs": [],
   "source": [
    "# Get rid of the 2nd dimension of 1 from the FloatTensor\n",
    "outcomes_Variable_resized = outcomes_Variable.resize(4732)\n",
    "\n",
    "\n",
    "# Make the FloatTensor into a numpy.array\n",
    "outcomes_array = outcomes_Variable_resized.data.numpy()\n",
    "\n",
    "\n",
    "# Make the numpy.array into a list\n",
    "outcomes_list = outcomes_array.tolist()"
   ]
  },
  {
   "cell_type": "code",
   "execution_count": 16,
   "metadata": {
    "collapsed": false
   },
   "outputs": [
    {
     "data": {
      "text/plain": [
       "[<matplotlib.lines.Line2D at 0x7f2731132e80>]"
      ]
     },
     "execution_count": 16,
     "metadata": {},
     "output_type": "execute_result"
    },
    {
     "data": {
      "image/png": "[encoded data removed]",
      "text/plain": [
       "<matplotlib.figure.Figure at 0x7f2731132208>"
      ]
     },
     "metadata": {},
     "output_type": "display_data"
    }
   ],
   "source": [
    "# Plot predictions versus training set outcomes\n",
    "plt.scatter(outcomes_list, y_pred_list)\n",
    "\n",
    "axes = plt.gca()\n",
    "\n",
    "axes.set_xlim([-2, 4])\n",
    "\n",
    "axes.set_ylim([-2, 4])\n",
    "\n",
    "plt.plot([-2, 4], [-2, 4], 'k-', lw=2)"
   ]
  },
  {
   "cell_type": "markdown",
   "metadata": {},
   "source": [
    "### Round 1.1: Validation Set Performance"
   ]
  },
  {
   "cell_type": "code",
   "execution_count": 17,
   "metadata": {
    "collapsed": false
   },
   "outputs": [],
   "source": [
    "# Import data\n",
    "valid_df = pd.read_csv(\"/home/jeremy/github_tornadoesr/data/raw/tor_cv_set_no_zeros.csv\")\n",
    "\n",
    "\n",
    "# Validation set outcomes\n",
    "valid_outcomes = valid_df.iloc[:, [3]]\n",
    "\n",
    "\n",
    "# Make the validation outcomes into a numpy array\n",
    "valid_outcomes_array = valid_outcomes.values\n",
    "\n",
    "\n",
    "# Makes the numpy array into a torch Tensor\n",
    "valid_outcomes_Tensor = torch.from_numpy(valid_outcomes_array)\n",
    "\n",
    "\n",
    "# Changing validation outcomes from a DoubleTensor to a FloatTensor\n",
    "valid_outcomes_Tensor = valid_outcomes_Tensor.float()\n",
    "\n",
    "\n",
    "# Make the Tensor into a Pytorch Variable\n",
    "valid_outcomes_Variable = Variable(valid_outcomes_Tensor)"
   ]
  },
  {
   "cell_type": "code",
   "execution_count": 18,
   "metadata": {
    "collapsed": false
   },
   "outputs": [],
   "source": [
    "# Validation set predictors\n",
    "valid_predictors = valid_df.iloc[:, 5:]\n",
    "\n",
    "valid_predictors = valid_predictors.drop([\"YEAR\",\n",
    "                                          \"CZ_NAME\",\n",
    "                                          \"STATE\"],\n",
    "                                         axis = 1)\n",
    "\n",
    "\n",
    "# Make the validation predictors into a numpy array\n",
    "valid_predictors_array = valid_predictors.values\n",
    "\n",
    "\n",
    "# Makes the numpy array into a torch Tensor\n",
    "valid_predictors_Tensor = torch.from_numpy(valid_predictors_array)\n",
    "\n",
    "\n",
    "# Changing validation predictors from a DoubleTensor to a FloatTensor\n",
    "valid_predictors_Tensor = valid_predictors_Tensor.float()\n",
    "\n",
    "\n",
    "# Make the Tensor into a Pytorch Variable\n",
    "valid_predictors_Variable = Variable(valid_predictors_Tensor)"
   ]
  },
  {
   "cell_type": "code",
   "execution_count": 19,
   "metadata": {
    "collapsed": false
   },
   "outputs": [],
   "source": [
    "# Have to make a new model and give it the train_model parameters to fix structure problem\n",
    "dim_corrected_model = torch.nn.Sequential(torch.nn.Linear(21, 14),\n",
    "                                          torch.nn.ReLU(),\n",
    "                                          torch.nn.Linear(14, 1))\n",
    "\n",
    "\n",
    "# Give the new model the old model's parameters\n",
    "dim_corrected_model[(0)].weight = model[(0)].weight\n",
    "dim_corrected_model[(2)].weight = model[(2)].weight"
   ]
  },
  {
   "cell_type": "code",
   "execution_count": 20,
   "metadata": {
    "collapsed": false
   },
   "outputs": [
    {
     "data": {
      "text/plain": [
       "Variable containing:\n",
       " 591.2800\n",
       "[torch.FloatTensor of size 1]"
      ]
     },
     "execution_count": 20,
     "metadata": {},
     "output_type": "execute_result"
    }
   ],
   "source": [
    "# Get the validation set predictions\n",
    "y_valid_pred = dim_corrected_model(valid_predictors_Variable)\n",
    "\n",
    "\n",
    "# Print the loss\n",
    "loss_fn(y_valid_pred,\n",
    "        valid_outcomes_Variable)"
   ]
  },
  {
   "cell_type": "code",
   "execution_count": 21,
   "metadata": {
    "collapsed": false
   },
   "outputs": [
    {
     "name": "stdout",
     "output_type": "stream",
     "text": [
      "<class 'pandas.core.frame.DataFrame'>\n",
      "RangeIndex: 1619 entries, 0 to 1618\n",
      "Data columns (total 21 columns):\n",
      "DURATION_SECONDS      1619 non-null float64\n",
      "BEGIN_LAT             1619 non-null float64\n",
      "BEGIN_LON             1619 non-null float64\n",
      "TOR_LENGTH            1619 non-null float64\n",
      "TOR_WIDTH             1619 non-null float64\n",
      "BEGIN_DATE_TIME       1619 non-null float64\n",
      "OPEN_WATER_PROP       1619 non-null float64\n",
      "DEV_OPEN_PROP         1619 non-null float64\n",
      "DEV_LOW_PROP          1619 non-null float64\n",
      "DEV_MED_PROP          1619 non-null float64\n",
      "DEV_HIGH_PROP         1619 non-null float64\n",
      "DECID_FOREST_PROP     1619 non-null float64\n",
      "EVERGR_FOREST_PROP    1619 non-null float64\n",
      "MIXED_FOREST_PROP     1619 non-null float64\n",
      "SHRUB_SCRUB_PROP      1619 non-null float64\n",
      "GRASS_LAND_PROP       1619 non-null float64\n",
      "PASTURE_HAY_PROP      1619 non-null float64\n",
      "CULT_CROPS_PROP       1619 non-null float64\n",
      "WOOD_WETLAND_PROP     1619 non-null float64\n",
      "HERB_WETLAND_PROP     1619 non-null float64\n",
      "BARREN_LAND_PROP      1619 non-null float64\n",
      "dtypes: float64(21)\n",
      "memory usage: 265.7 KB\n"
     ]
    }
   ],
   "source": [
    "valid_predictors.info()"
   ]
  },
  {
   "cell_type": "code",
   "execution_count": 22,
   "metadata": {
    "collapsed": true
   },
   "outputs": [],
   "source": [
    "# Get rid of the 2nd dimension of 1 from the FloatTensor\n",
    "y_valid_pred_resized = y_valid_pred.resize(1619)\n",
    "\n",
    "\n",
    "# Make the FloatTensor into a numpy.array\n",
    "y_valid_pred_array = y_valid_pred_resized.data.numpy()\n",
    "\n",
    "\n",
    "# Make the numpy.array into a list\n",
    "y_valid_pred_list = y_valid_pred_array.tolist()"
   ]
  },
  {
   "cell_type": "code",
   "execution_count": 23,
   "metadata": {
    "collapsed": false
   },
   "outputs": [],
   "source": [
    "# Get rid of the 2nd dimension of 1 from the FloatTensor\n",
    "valid_outcomes_Variable_resized = valid_outcomes_Variable.resize(1619)\n",
    "\n",
    "\n",
    "# Make the FloatTensor into a numpy.array\n",
    "valid_outcomes_array = valid_outcomes_Variable_resized.data.numpy()\n",
    "\n",
    "\n",
    "# Make the numpy.array into a list\n",
    "valid_outcomes_list = valid_outcomes_array.tolist()"
   ]
  },
  {
   "cell_type": "code",
   "execution_count": 24,
   "metadata": {
    "collapsed": false
   },
   "outputs": [
    {
     "data": {
      "text/plain": [
       "[<matplotlib.lines.Line2D at 0x7f2730777390>]"
      ]
     },
     "execution_count": 24,
     "metadata": {},
     "output_type": "execute_result"
    },
    {
     "data": {
      "image/png": "[encoded data removed]",
      "text/plain": [
       "<matplotlib.figure.Figure at 0x7f27307773c8>"
      ]
     },
     "metadata": {},
     "output_type": "display_data"
    }
   ],
   "source": [
    "# Plot new predictions versus new data outcomes\n",
    "plt.scatter(valid_outcomes_list, y_valid_pred_list)\n",
    "\n",
    "axes = plt.gca()\n",
    "\n",
    "axes.set_xlim([-2, 4])\n",
    "\n",
    "axes.set_ylim([-2, 4])\n",
    "\n",
    "plt.plot([-2, 4], [-2, 4], 'k-', lw=2)"
   ]
  },
  {
   "cell_type": "markdown",
   "metadata": {},
   "source": [
    "### Round 1.2: Test Set Performance"
   ]
  },
  {
   "cell_type": "code",
   "execution_count": 25,
   "metadata": {
    "collapsed": false
   },
   "outputs": [],
   "source": [
    "# Import data\n",
    "test_df = pd.read_csv(\"/home/jeremy/github_tornadoesr/data/raw/tor_test_set_no_zeros.csv\")\n",
    "\n",
    "\n",
    "# Validation set outcomes\n",
    "test_outcomes = test_df.iloc[:, [3]]\n",
    "\n",
    "\n",
    "# Make the validation outcomes into a numpy array\n",
    "test_outcomes_array = test_outcomes.values\n",
    "\n",
    "\n",
    "# Makes the numpy array into a torch Tensor\n",
    "test_outcomes_Tensor = torch.from_numpy(test_outcomes_array)\n",
    "\n",
    "\n",
    "# Changing validation outcomes from a DoubleTensor to a FloatTensor\n",
    "test_outcomes_Tensor = test_outcomes_Tensor.float()\n",
    "\n",
    "\n",
    "# Make the Tensor into a Pytorch Variable\n",
    "test_outcomes_Variable = Variable(test_outcomes_Tensor)"
   ]
  },
  {
   "cell_type": "code",
   "execution_count": 26,
   "metadata": {
    "collapsed": true
   },
   "outputs": [],
   "source": [
    "# Validation set predictors\n",
    "test_predictors = test_df.iloc[:, 5:]\n",
    "\n",
    "test_predictors = test_predictors.drop([\"YEAR\",\n",
    "                                        \"CZ_NAME\",\n",
    "                                        \"STATE\"],\n",
    "                                       axis = 1)\n",
    "\n",
    "\n",
    "# Make the validation predictors into a numpy array\n",
    "test_predictors_array = test_predictors.values\n",
    "\n",
    "\n",
    "# Makes the numpy array into a torch Tensor\n",
    "test_predictors_Tensor = torch.from_numpy(test_predictors_array)\n",
    "\n",
    "\n",
    "# Changing validation predictors from a DoubleTensor to a FloatTensor\n",
    "test_predictors_Tensor = test_predictors_Tensor.float()\n",
    "\n",
    "\n",
    "# Make the Tensor into a Pytorch Variable\n",
    "test_predictors_Variable = Variable(test_predictors_Tensor)"
   ]
  },
  {
   "cell_type": "code",
   "execution_count": 27,
   "metadata": {
    "collapsed": false
   },
   "outputs": [],
   "source": [
    "# Have to make a new model and give it the train_model parameters to fix structure problem\n",
    "dim_corrected_model_2 = torch.nn.Sequential(torch.nn.Linear(21, 14),\n",
    "                                            torch.nn.ReLU(),\n",
    "                                            torch.nn.Linear(14, 1))\n",
    "\n",
    "\n",
    "# Give the new model the old model's parameters\n",
    "dim_corrected_model_2[(0)].weight = model[(0)].weight\n",
    "dim_corrected_model_2[(2)].weight = model[(2)].weight"
   ]
  },
  {
   "cell_type": "code",
   "execution_count": 28,
   "metadata": {
    "collapsed": false
   },
   "outputs": [
    {
     "data": {
      "text/plain": [
       "Variable containing:\n",
       " 405.0779\n",
       "[torch.FloatTensor of size 1]"
      ]
     },
     "execution_count": 28,
     "metadata": {},
     "output_type": "execute_result"
    }
   ],
   "source": [
    "# Get the validation set predictions\n",
    "y_test_pred = dim_corrected_model_2(test_predictors_Variable)\n",
    "\n",
    "\n",
    "# Print the loss\n",
    "loss_fn(y_test_pred,\n",
    "        test_outcomes_Variable)"
   ]
  },
  {
   "cell_type": "code",
   "execution_count": 29,
   "metadata": {
    "collapsed": false
   },
   "outputs": [
    {
     "name": "stdout",
     "output_type": "stream",
     "text": [
      "<class 'pandas.core.frame.DataFrame'>\n",
      "RangeIndex: 1609 entries, 0 to 1608\n",
      "Data columns (total 21 columns):\n",
      "DURATION_SECONDS      1609 non-null float64\n",
      "BEGIN_LAT             1609 non-null float64\n",
      "BEGIN_LON             1609 non-null float64\n",
      "TOR_LENGTH            1609 non-null float64\n",
      "TOR_WIDTH             1609 non-null float64\n",
      "BEGIN_DATE_TIME       1609 non-null float64\n",
      "OPEN_WATER_PROP       1609 non-null float64\n",
      "DEV_OPEN_PROP         1609 non-null float64\n",
      "DEV_LOW_PROP          1609 non-null float64\n",
      "DEV_MED_PROP          1609 non-null float64\n",
      "DEV_HIGH_PROP         1609 non-null float64\n",
      "DECID_FOREST_PROP     1609 non-null float64\n",
      "EVERGR_FOREST_PROP    1609 non-null float64\n",
      "MIXED_FOREST_PROP     1609 non-null float64\n",
      "SHRUB_SCRUB_PROP      1609 non-null float64\n",
      "GRASS_LAND_PROP       1609 non-null float64\n",
      "PASTURE_HAY_PROP      1609 non-null float64\n",
      "CULT_CROPS_PROP       1609 non-null float64\n",
      "WOOD_WETLAND_PROP     1609 non-null float64\n",
      "HERB_WETLAND_PROP     1609 non-null float64\n",
      "BARREN_LAND_PROP      1609 non-null float64\n",
      "dtypes: float64(21)\n",
      "memory usage: 264.1 KB\n"
     ]
    }
   ],
   "source": [
    "test_predictors.info()"
   ]
  },
  {
   "cell_type": "code",
   "execution_count": 30,
   "metadata": {
    "collapsed": false
   },
   "outputs": [],
   "source": [
    "# Get rid of the 2nd dimension of 1 from the FloatTensor\n",
    "y_test_pred_resized = y_test_pred.resize(1609)\n",
    "\n",
    "\n",
    "# Make the FloatTensor into a numpy.array\n",
    "y_test_pred_array = y_test_pred_resized.data.numpy()\n",
    "\n",
    "\n",
    "# Convert back to native units and scale\n",
    "y_test_pred_array = y_test_pred_array*5.735285 + 6.490682\n",
    "\n",
    "\n",
    "# Make the numpy.array into a list\n",
    "y_test_pred_list = y_test_pred_array.tolist()"
   ]
  },
  {
   "cell_type": "code",
   "execution_count": 31,
   "metadata": {
    "collapsed": true
   },
   "outputs": [],
   "source": [
    "# Get rid of the 2nd dimension of 1 from the FloatTensor\n",
    "test_outcomes_Variable_resized = test_outcomes_Variable.resize(1609)\n",
    "\n",
    "\n",
    "# Make the FloatTensor into a numpy.array\n",
    "test_outcomes_array = test_outcomes_Variable_resized.data.numpy()\n",
    "\n",
    "\n",
    "# Convert back to native units and scale\n",
    "test_outcomes_array = test_outcomes_array*5.735285 + 6.490682\n",
    "\n",
    "\n",
    "# Make the numpy.array into a list\n",
    "test_outcomes_list = test_outcomes_array.tolist()"
   ]
  },
  {
   "cell_type": "code",
   "execution_count": 32,
   "metadata": {
    "collapsed": false
   },
   "outputs": [
    {
     "data": {
      "text/plain": [
       "<matplotlib.text.Text at 0x7f2730648828>"
      ]
     },
     "execution_count": 32,
     "metadata": {},
     "output_type": "execute_result"
    },
    {
     "data": {
      "image/png": "[encoded data removed]",
      "text/plain": [
       "<matplotlib.figure.Figure at 0x7f27306b6208>"
      ]
     },
     "metadata": {},
     "output_type": "display_data"
    }
   ],
   "source": [
    "# Plot new predictions versus new data outcomes\n",
    "\n",
    "plt.scatter(test_outcomes_list, y_test_pred_list)\n",
    "\n",
    "axes = plt.gca()\n",
    "\n",
    "axes.set_xlim([2, 23])\n",
    "\n",
    "axes.set_ylim([2, 23])\n",
    "\n",
    "axes.set_xticks([2, 5, 8, 11, 14, 17, 20, 23])\n",
    "\n",
    "axes.set_yticks([2, 5, 8, 11, 14, 17, 20, 23])\n",
    "\n",
    "plt.plot([2, 23], [2, 23], 'k-', lw=2)\n",
    "\n",
    "axes.set_xlabel(\"Actual Outcome (Log-Transformed US Dollars)\")\n",
    "\n",
    "axes.set_ylabel(\"Model Prediction (Log-Transformed US Dollars)\")\n",
    "\n",
    "axes.set_title(\"Model Performance\")"
   ]
  },
  {
   "cell_type": "code",
   "execution_count": 33,
   "metadata": {
    "collapsed": false
   },
   "outputs": [
    {
     "data": {
      "text/plain": [
       "Parameter containing:\n",
       "\n",
       "Columns 0 to 9 \n",
       "-0.0576 -0.0931  0.0525  0.1220 -0.1031  0.0257  0.0719 -0.1138 -0.0261  0.2111\n",
       " 0.0930  0.0557 -0.0605  0.1435  0.1986  0.0335  0.0003  0.1641  0.1803  0.0652\n",
       "-0.0600 -0.0590  0.0592  0.1352  0.2797 -0.0841 -0.0472  0.1089  0.2007  0.0070\n",
       "-0.0010  0.0290  0.2179  0.0971  0.1826 -0.0912  0.2394 -0.0577  0.0833 -0.1369\n",
       "-0.1895  0.1013  0.0176 -0.1752 -0.0989  0.0876  0.1048 -0.1017 -0.0196  0.0932\n",
       " 0.0766 -0.1348  0.0783 -0.2290  0.0093  0.0751  0.0614 -0.2067  0.0054  0.0248\n",
       " 0.0919 -0.1966 -0.0584  0.0799  0.2466 -0.0350  0.1248 -0.0979  0.0091  0.1382\n",
       "-0.0811 -0.0844  0.1258  0.2653 -0.0652  0.0006 -0.0381  0.0678 -0.0153 -0.0709\n",
       "-0.1183  0.1943 -0.1294 -0.2032 -0.1973  0.1187 -0.2020 -0.0401  0.0483 -0.0712\n",
       "-0.0197  0.1296 -0.0266 -0.0680  0.1446  0.1639 -0.1384 -0.1024  0.0958  0.0525\n",
       " 0.1974  0.2079  0.0287  0.1032  0.1649 -0.0597 -0.0270 -0.2371  0.1195  0.0464\n",
       "-0.0092  0.0466  0.1518  0.1840  0.2643 -0.0480 -0.0751  0.0162  0.0171  0.0717\n",
       " 0.0968  0.2039  0.0595 -0.1477  0.1353 -0.1022  0.0444  0.1222  0.1768  0.1282\n",
       "-0.0073  0.1769  0.1275 -0.1525  0.2316 -0.1616  0.1726  0.0118  0.1278 -0.0994\n",
       "\n",
       "Columns 10 to 19 \n",
       "-0.1358  0.0403  0.1582 -0.0567 -0.1171 -0.2375  0.2496 -0.0216  0.2482 -0.0253\n",
       "-0.0141  0.2129 -0.0853  0.0427  0.0433  0.0958 -0.0707 -0.0905  0.0653  0.0888\n",
       " 0.0695  0.0441  0.2174 -0.0515 -0.1177  0.0794 -0.1203 -0.2216 -0.1508 -0.1654\n",
       "-0.1836 -0.1677  0.0937  0.0669  0.0759  0.0554 -0.0632  0.2134  0.0460  0.0997\n",
       " 0.0161  0.0167 -0.1553  0.2444  0.2240  0.0210 -0.2435 -0.1447 -0.0976 -0.0419\n",
       "-0.0356 -0.1139  0.2110 -0.1083  0.0299 -0.1198 -0.0521 -0.0646  0.0615 -0.1402\n",
       " 0.1081 -0.1837  0.1123  0.0968 -0.0887 -0.1009  0.0812  0.0201  0.0608 -0.1114\n",
       "-0.1237  0.2081 -0.0087 -0.1937  0.1968 -0.1198  0.0695 -0.0974  0.0488 -0.2076\n",
       " 0.2049  0.0849 -0.1632  0.0578 -0.1769 -0.1227  0.0734 -0.1483 -0.2275  0.0038\n",
       "-0.1180  0.0559  0.1745 -0.1143 -0.1744 -0.1066  0.1862  0.1724  0.1055 -0.0712\n",
       " 0.0447  0.0614 -0.0151 -0.0748 -0.0308 -0.1477 -0.1924  0.1759  0.1393 -0.2390\n",
       " 0.0031  0.0122  0.0437 -0.1569  0.0408 -0.1123  0.2338  0.0655 -0.1295  0.2616\n",
       " 0.1080 -0.0484 -0.1153  0.0061  0.0400  0.0789 -0.0763 -0.2107 -0.1852  0.0080\n",
       "-0.0317 -0.2287  0.0969 -0.1095  0.1528 -0.1346  0.1964  0.1553 -0.0099 -0.1430\n",
       "\n",
       "Columns 20 to 20 \n",
       " 0.1909\n",
       "-0.1293\n",
       "-0.0595\n",
       " 0.1086\n",
       "-0.1405\n",
       " 0.1918\n",
       " 0.0765\n",
       " 0.1292\n",
       "-0.1115\n",
       " 0.1847\n",
       "-0.0005\n",
       " 0.1185\n",
       " 0.0677\n",
       "-0.0556\n",
       "[torch.FloatTensor of size 14x21]"
      ]
     },
     "execution_count": 33,
     "metadata": {},
     "output_type": "execute_result"
    }
   ],
   "source": [
    "dim_corrected_model_2[(0)].weight"
   ]
  },
  {
   "cell_type": "code",
   "execution_count": 34,
   "metadata": {
    "collapsed": false
   },
   "outputs": [
    {
     "data": {
      "text/plain": [
       "Parameter containing:\n",
       "\n",
       "Columns 0 to 9 \n",
       "-0.1838  0.1325  0.0533  0.0873 -0.1282 -0.0761  0.2873  0.1163 -0.0507 -0.0055\n",
       "\n",
       "Columns 10 to 13 \n",
       " 0.2005  0.2266  0.0422 -0.0543\n",
       "[torch.FloatTensor of size 1x14]"
      ]
     },
     "execution_count": 34,
     "metadata": {},
     "output_type": "execute_result"
    }
   ],
   "source": [
    "dim_corrected_model_2[(2)].weight"
   ]
  },
  {
   "cell_type": "markdown",
   "metadata": {},
   "source": [
    "## Round 2: Two-Hidden-Layer Neural Network"
   ]
  },
  {
   "cell_type": "code",
   "execution_count": 35,
   "metadata": {
    "collapsed": true
   },
   "outputs": [],
   "source": [
    "# Make the torch Tensor into a PyTorch Variable for dependent variables\n",
    "outcomes_Variable = Variable(outcomes_Tensor)\n",
    "\n",
    "\n",
    "# ...for independent variables\n",
    "features_Variable = Variable(features_Tensor,\n",
    "                             requires_grad = False)"
   ]
  },
  {
   "cell_type": "code",
   "execution_count": 36,
   "metadata": {
    "collapsed": true
   },
   "outputs": [],
   "source": [
    "# Make the neural network\n",
    "model = torch.nn.Sequential(torch.nn.Linear(21, 14),\n",
    "                            torch.nn.ReLU(),\n",
    "                            torch.nn.Linear(14, 9),\n",
    "                            torch.nn.ReLU(),\n",
    "                            torch.nn.Linear(9, 1))"
   ]
  },
  {
   "cell_type": "code",
   "execution_count": 37,
   "metadata": {
    "collapsed": false
   },
   "outputs": [],
   "source": [
    "# To add errors to\n",
    "errors = []\n",
    "\n",
    "\n",
    "# Set the learning rate\n",
    "learning_rate = 6e-6\n",
    "\n",
    "\n",
    "# Train the neural network\n",
    "for t in range(10000):\n",
    "    \n",
    "    # Get the current predictions\n",
    "    y_pred = model(features_Variable)\n",
    "    \n",
    "    # Compute and append current summed errors\n",
    "    loss = loss_fn(y_pred, outcomes_Variable)\n",
    "    errors.append(loss.data[0])\n",
    "    \n",
    "    # Zero the gradients before running the backward pass.\n",
    "    model.zero_grad()\n",
    "    \n",
    "    # Backward pass: compute gradient of the loss with respect to all the learnable Variables\n",
    "    loss.backward()\n",
    "    \n",
    "    # Update the weights using gradient descent\n",
    "    for param in model.parameters():\n",
    "        param.data -= learning_rate * param.grad.data"
   ]
  },
  {
   "cell_type": "code",
   "execution_count": 38,
   "metadata": {
    "collapsed": false
   },
   "outputs": [
    {
     "data": {
      "text/plain": [
       "<matplotlib.collections.PathCollection at 0x7f27305ae898>"
      ]
     },
     "execution_count": 38,
     "metadata": {},
     "output_type": "execute_result"
    },
    {
     "data": {
      "image/png": "[encoded data removed]",
      "text/plain": [
       "<matplotlib.figure.Figure at 0x7f273061e128>"
      ]
     },
     "metadata": {},
     "output_type": "display_data"
    }
   ],
   "source": [
    "# Plot summed error as a function of iteration\n",
    "plt.scatter(iterations, errors)"
   ]
  },
  {
   "cell_type": "code",
   "execution_count": 39,
   "metadata": {
    "collapsed": false
   },
   "outputs": [],
   "source": [
    "# Get rid of the 2nd dimension of 1 from the FloatTensor\n",
    "y_pred_resized = y_pred.resize(4732)\n",
    "\n",
    "\n",
    "# Make the FloatTensor into a numpy.array\n",
    "y_pred_array = y_pred_resized.data.numpy()\n",
    "\n",
    "\n",
    "# Make the numpy.array into a list\n",
    "y_pred_list = y_pred_array.tolist()"
   ]
  },
  {
   "cell_type": "code",
   "execution_count": 40,
   "metadata": {
    "collapsed": false
   },
   "outputs": [
    {
     "data": {
      "text/plain": [
       "[<matplotlib.lines.Line2D at 0x7f2730641b38>]"
      ]
     },
     "execution_count": 40,
     "metadata": {},
     "output_type": "execute_result"
    },
    {
     "data": {
      "image/png": "[encoded data removed]",
      "text/plain": [
       "<matplotlib.figure.Figure at 0x7f273063a400>"
      ]
     },
     "metadata": {},
     "output_type": "display_data"
    }
   ],
   "source": [
    "# Plot predictions versus training set outcomes\n",
    "plt.scatter(outcomes_list, y_pred_list)\n",
    "\n",
    "axes = plt.gca()\n",
    "\n",
    "axes.set_xlim([-2, 4])\n",
    "\n",
    "axes.set_ylim([-2, 4])\n",
    "\n",
    "plt.plot([-2, 4], [-2, 4], 'k-', lw=2)"
   ]
  },
  {
   "cell_type": "markdown",
   "metadata": {},
   "source": [
    "### Round 2.1: Validation Set Performance"
   ]
  },
  {
   "cell_type": "code",
   "execution_count": 41,
   "metadata": {
    "collapsed": false
   },
   "outputs": [],
   "source": [
    "# Have to make a new model and give it the train_model parameters to fix structure problem\n",
    "dim_corrected_model = torch.nn.Sequential(torch.nn.Linear(21, 14),\n",
    "                                          torch.nn.ReLU(),\n",
    "                                          torch.nn.Linear(14, 9),\n",
    "                                          torch.nn.ReLU(),\n",
    "                                          torch.nn.Linear(9, 1))\n",
    "\n",
    "\n",
    "# Give the new model the old model's parameters\n",
    "dim_corrected_model[(0)].weight = model[(0)].weight\n",
    "dim_corrected_model[(2)].weight = model[(2)].weight\n",
    "dim_corrected_model[(4)].weight = model[(4)].weight"
   ]
  },
  {
   "cell_type": "code",
   "execution_count": 42,
   "metadata": {
    "collapsed": false
   },
   "outputs": [
    {
     "data": {
      "text/plain": [
       "Variable containing:\n",
       " 1009.2942\n",
       "[torch.FloatTensor of size 1]"
      ]
     },
     "execution_count": 42,
     "metadata": {},
     "output_type": "execute_result"
    }
   ],
   "source": [
    "# Get the validation set predictions\n",
    "y_valid_pred = dim_corrected_model(valid_predictors_Variable)\n",
    "\n",
    "\n",
    "# Print the loss\n",
    "loss_fn(y_valid_pred,\n",
    "        valid_outcomes_Variable)"
   ]
  },
  {
   "cell_type": "code",
   "execution_count": 43,
   "metadata": {
    "collapsed": false
   },
   "outputs": [],
   "source": [
    "# Get rid of the 2nd dimension of 1 from the FloatTensor\n",
    "y_valid_pred_resized = y_valid_pred.resize(1619)\n",
    "\n",
    "\n",
    "# Make the FloatTensor into a numpy.array\n",
    "y_valid_pred_array = y_valid_pred_resized.data.numpy()\n",
    "\n",
    "\n",
    "# Make the numpy.array into a list\n",
    "y_valid_pred_list = y_valid_pred_array.tolist()"
   ]
  },
  {
   "cell_type": "code",
   "execution_count": 44,
   "metadata": {
    "collapsed": false
   },
   "outputs": [
    {
     "data": {
      "text/plain": [
       "[<matplotlib.lines.Line2D at 0x7f2730446e80>]"
      ]
     },
     "execution_count": 44,
     "metadata": {},
     "output_type": "execute_result"
    },
    {
     "data": {
      "image/png": "[encoded data removed]",
      "text/plain": [
       "<matplotlib.figure.Figure at 0x7f27304d9cc0>"
      ]
     },
     "metadata": {},
     "output_type": "display_data"
    }
   ],
   "source": [
    "# Plot new predictions versus new data outcomes\n",
    "plt.scatter(valid_outcomes_list, y_valid_pred_list)\n",
    "\n",
    "axes = plt.gca()\n",
    "\n",
    "axes.set_xlim([-2, 4])\n",
    "\n",
    "axes.set_ylim([-2, 4])\n",
    "\n",
    "plt.plot([-2, 4], [-2, 4], 'k-', lw=2)"
   ]
  },
  {
   "cell_type": "markdown",
   "metadata": {},
   "source": [
    "### Round 2.2: Test Set Performance"
   ]
  },
  {
   "cell_type": "code",
   "execution_count": 45,
   "metadata": {
    "collapsed": true
   },
   "outputs": [],
   "source": [
    "# Have to make a new model and give it the train_model parameters to fix structure problem\n",
    "dim_corrected_model_2 = torch.nn.Sequential(torch.nn.Linear(21, 14),\n",
    "                                            torch.nn.ReLU(),\n",
    "                                            torch.nn.Linear(14, 9),\n",
    "                                            torch.nn.ReLU(),\n",
    "                                            torch.nn.Linear(9, 1))\n",
    "\n",
    "\n",
    "# Give the new model the old model's parameters\n",
    "dim_corrected_model_2[(0)].weight = model[(0)].weight\n",
    "dim_corrected_model_2[(2)].weight = model[(2)].weight\n",
    "dim_corrected_model_2[(4)].weight = model[(4)].weight"
   ]
  },
  {
   "cell_type": "code",
   "execution_count": 46,
   "metadata": {
    "collapsed": false
   },
   "outputs": [
    {
     "data": {
      "text/plain": [
       "Variable containing:\n",
       " 965.9709\n",
       "[torch.FloatTensor of size 1]"
      ]
     },
     "execution_count": 46,
     "metadata": {},
     "output_type": "execute_result"
    }
   ],
   "source": [
    "# Get the validation set predictions\n",
    "y_test_pred = dim_corrected_model_2(test_predictors_Variable)\n",
    "\n",
    "\n",
    "# Print the loss\n",
    "loss_fn(y_test_pred,\n",
    "        test_outcomes_Variable)"
   ]
  },
  {
   "cell_type": "code",
   "execution_count": 47,
   "metadata": {
    "collapsed": true
   },
   "outputs": [],
   "source": [
    "# Get rid of the 2nd dimension of 1 from the FloatTensor\n",
    "y_test_pred_resized = y_test_pred.resize(1609)\n",
    "\n",
    "\n",
    "# Make the FloatTensor into a numpy.array\n",
    "y_test_pred_array = y_test_pred_resized.data.numpy()\n",
    "\n",
    "\n",
    "# Convert back to native units and scale\n",
    "y_test_pred_array = y_test_pred_array*5.735285 + 6.490682\n",
    "\n",
    "\n",
    "# Make the numpy.array into a list\n",
    "y_test_pred_list = y_test_pred_array.tolist()"
   ]
  },
  {
   "cell_type": "code",
   "execution_count": 48,
   "metadata": {
    "collapsed": false
   },
   "outputs": [
    {
     "data": {
      "text/plain": [
       "<matplotlib.text.Text at 0x7f273042e9e8>"
      ]
     },
     "execution_count": 48,
     "metadata": {},
     "output_type": "execute_result"
    },
    {
     "data": {
      "image/png": "[encoded data removed]",
      "text/plain": [
       "<matplotlib.figure.Figure at 0x7f27304962e8>"
      ]
     },
     "metadata": {},
     "output_type": "display_data"
    }
   ],
   "source": [
    "# Plot new predictions versus new data outcomes\n",
    "\n",
    "plt.scatter(test_outcomes_list, y_test_pred_list)\n",
    "\n",
    "axes = plt.gca()\n",
    "\n",
    "axes.set_xlim([2, 23])\n",
    "\n",
    "axes.set_ylim([2, 23])\n",
    "\n",
    "axes.set_xticks([2, 5, 8, 11, 14, 17, 20, 23])\n",
    "\n",
    "axes.set_yticks([2, 5, 8, 11, 14, 17, 20, 23])\n",
    "\n",
    "plt.plot([2, 23], [2, 23], 'k-', lw=2)\n",
    "\n",
    "axes.set_xlabel(\"Actual Outcome (Log-Transformed US Dollars)\")\n",
    "\n",
    "axes.set_ylabel(\"Model Prediction (Log-Transformed US Dollars)\")\n",
    "\n",
    "axes.set_title(\"Model Performance\")"
   ]
  },
  {
   "cell_type": "code",
   "execution_count": 49,
   "metadata": {
    "collapsed": false
   },
   "outputs": [
    {
     "data": {
      "text/plain": [
       "Parameter containing:\n",
       "\n",
       "Columns 0 to 9 \n",
       "-0.1812  0.0424 -0.0574 -0.3198  0.0156  0.1023  0.1352 -0.2457  0.0315 -0.0290\n",
       "-0.1316 -0.1086  0.1808  0.0834 -0.0790  0.1701 -0.0532  0.2020 -0.0793  0.1649\n",
       "-0.0437  0.0780  0.0925  0.0791 -0.0138 -0.2540 -0.0236 -0.0829 -0.1295  0.1234\n",
       " 0.1402 -0.0493 -0.0018  0.2565  0.3929  0.0586 -0.0242 -0.0890  0.1816  0.2162\n",
       " 0.1662 -0.1012  0.0896  0.0317 -0.0777  0.1175 -0.0435 -0.0527 -0.0379  0.0168\n",
       " 0.0764 -0.1841 -0.1815 -0.0695  0.2247  0.1021 -0.0594 -0.1316 -0.0084  0.0096\n",
       " 0.1203  0.2125  0.0099  0.1612  0.3553 -0.1358  0.0155 -0.0237  0.2029  0.0757\n",
       " 0.0083  0.0197  0.1241  0.0552 -0.3256  0.0597 -0.0554  0.0370 -0.1365 -0.0053\n",
       " 0.0513  0.0537  0.1606  0.1170  0.1811 -0.0524 -0.0040 -0.1701  0.0819 -0.2171\n",
       " 0.2754 -0.2067  0.1095  0.2854  0.0506 -0.0793  0.0857 -0.1289 -0.1040  0.1215\n",
       "-0.1356 -0.1722  0.0456 -0.0771  0.1063  0.0403  0.0528 -0.0373 -0.0281  0.2403\n",
       " 0.0774 -0.1169 -0.0728 -0.1451  0.0952 -0.0503  0.2446 -0.1688 -0.0020  0.1708\n",
       " 0.0099  0.0529 -0.0124  0.2323  0.1756 -0.0990 -0.1398  0.0791 -0.1610 -0.0624\n",
       " 0.1776  0.0040  0.0319  0.0425  0.1555 -0.0729  0.0200  0.2663  0.0218  0.0942\n",
       "\n",
       "Columns 10 to 19 \n",
       "-0.0043 -0.0413 -0.0537 -0.0813  0.0035 -0.2163  0.0298 -0.1296  0.0728  0.0126\n",
       "-0.0526 -0.0132 -0.1124  0.0239  0.1915  0.1266 -0.0282 -0.0955  0.0446  0.1452\n",
       "-0.0041 -0.1957  0.0472 -0.1092  0.1035  0.2359  0.0680  0.1326  0.0378  0.1634\n",
       " 0.1420  0.0554  0.0352 -0.1627  0.0328 -0.0228  0.0372  0.0280 -0.0106 -0.1381\n",
       " 0.0455 -0.1826  0.0524 -0.2418 -0.1461  0.0897  0.1329 -0.1140 -0.1817  0.0034\n",
       "-0.1734  0.0369 -0.1551 -0.1218  0.1215 -0.0541 -0.0235 -0.1650 -0.1385  0.0235\n",
       "-0.0607 -0.2843 -0.1031 -0.1360  0.0531  0.2285 -0.0141 -0.0733 -0.1541  0.1088\n",
       " 0.0287  0.1258  0.0239  0.2401  0.0010 -0.0268 -0.1173 -0.0796  0.0972  0.0324\n",
       "-0.0106  0.0047 -0.0172  0.1106 -0.1651 -0.0754 -0.1820 -0.1034  0.0179  0.0227\n",
       " 0.1649 -0.0786  0.0597  0.0983  0.1390  0.0713 -0.0863  0.0810 -0.1737  0.0819\n",
       "-0.1335  0.1120 -0.0701  0.0601  0.0972  0.0267  0.0905  0.1010 -0.0319 -0.2384\n",
       " 0.0721 -0.2582  0.0196  0.0245 -0.0268 -0.1861 -0.0042 -0.0135 -0.1074 -0.0563\n",
       "-0.0809  0.1833 -0.1990  0.0802 -0.0858  0.0198  0.0211  0.1837 -0.0499  0.0746\n",
       "-0.1608 -0.0269  0.1860 -0.1092  0.1412  0.0834  0.2402 -0.0823 -0.0750  0.1767\n",
       "\n",
       "Columns 20 to 20 \n",
       "-0.1526\n",
       "-0.0744\n",
       " 0.2282\n",
       "-0.0524\n",
       " 0.1633\n",
       " 0.0868\n",
       " 0.1337\n",
       "-0.0687\n",
       "-0.1848\n",
       " 0.1809\n",
       " 0.2484\n",
       " 0.2294\n",
       " 0.3134\n",
       " 0.0274\n",
       "[torch.FloatTensor of size 14x21]"
      ]
     },
     "execution_count": 49,
     "metadata": {},
     "output_type": "execute_result"
    }
   ],
   "source": [
    "dim_corrected_model_2[(0)].weight"
   ]
  },
  {
   "cell_type": "code",
   "execution_count": 50,
   "metadata": {
    "collapsed": false
   },
   "outputs": [
    {
     "data": {
      "text/plain": [
       "Parameter containing:\n",
       "\n",
       "Columns 0 to 9 \n",
       " 0.1888  0.0767 -0.0591 -0.0274 -0.0986 -0.1818 -0.4513  0.2146 -0.2693  0.2817\n",
       "-0.0242  0.1660 -0.0763  0.2531 -0.2060 -0.2337  0.0233 -0.3164  0.1316  0.1666\n",
       " 0.0141 -0.0309  0.2567 -0.1112  0.2076  0.2513  0.1018  0.1355  0.0523 -0.0160\n",
       " 0.2602  0.2000  0.0972 -0.0367  0.0375  0.1023 -0.1159 -0.1746 -0.0154 -0.0589\n",
       "-0.1496 -0.0939 -0.0694  0.2653 -0.1694  0.1899  0.0064  0.2636  0.1132  0.1874\n",
       " 0.1389  0.0676 -0.0726 -0.1513 -0.0488 -0.0778 -0.1466 -0.1742  0.0134 -0.2510\n",
       "-0.1711 -0.1191 -0.1685  0.1629 -0.0729 -0.1470  0.1709 -0.2217  0.0473 -0.1643\n",
       " 0.0011 -0.1426 -0.1255  0.0810 -0.1907 -0.1352  0.0483 -0.2639  0.0782 -0.0202\n",
       "-0.1667  0.1864 -0.2505 -0.1951 -0.2181  0.1909 -0.1391 -0.0260  0.0436  0.1164\n",
       "\n",
       "Columns 10 to 13 \n",
       " 0.2726  0.2059  0.1927  0.0063\n",
       " 0.0978  0.2970  0.2241  0.2773\n",
       " 0.1737 -0.0089 -0.1902  0.1267\n",
       "-0.1280  0.1663  0.0524  0.1583\n",
       " 0.2057  0.1433  0.0717 -0.0580\n",
       " 0.2502 -0.0805 -0.1045  0.2111\n",
       "-0.1914  0.2328  0.1787 -0.0259\n",
       " 0.0316 -0.0417 -0.2978  0.1862\n",
       "-0.0902 -0.1702 -0.0179  0.0401\n",
       "[torch.FloatTensor of size 9x14]"
      ]
     },
     "execution_count": 50,
     "metadata": {},
     "output_type": "execute_result"
    }
   ],
   "source": [
    "dim_corrected_model_2[(2)].weight"
   ]
  },
  {
   "cell_type": "code",
   "execution_count": 51,
   "metadata": {
    "collapsed": false
   },
   "outputs": [
    {
     "data": {
      "text/plain": [
       "Parameter containing:\n",
       "-0.5088  0.6454 -0.1356 -0.1986  0.2102 -0.0015  0.3028 -0.1143  0.1383\n",
       "[torch.FloatTensor of size 1x9]"
      ]
     },
     "execution_count": 51,
     "metadata": {},
     "output_type": "execute_result"
    }
   ],
   "source": [
    "dim_corrected_model_2[(4)].weight"
   ]
  },
  {
   "cell_type": "markdown",
   "metadata": {},
   "source": [
    "## Round 3: Three-Hidden-Layers Neural Network"
   ]
  },
  {
   "cell_type": "code",
   "execution_count": 52,
   "metadata": {
    "collapsed": true
   },
   "outputs": [],
   "source": [
    "# Make the torch Tensor into a PyTorch Variable for dependent variables\n",
    "outcomes_Variable = Variable(outcomes_Tensor)\n",
    "\n",
    "\n",
    "# ...for independent variables\n",
    "features_Variable = Variable(features_Tensor,\n",
    "                             requires_grad = False)"
   ]
  },
  {
   "cell_type": "code",
   "execution_count": 53,
   "metadata": {
    "collapsed": false
   },
   "outputs": [],
   "source": [
    "# Make the neural network\n",
    "model = torch.nn.Sequential(torch.nn.Linear(21, 14),\n",
    "                            torch.nn.ReLU(),\n",
    "                            torch.nn.Linear(14, 9),\n",
    "                            torch.nn.ReLU(),\n",
    "                            torch.nn.Linear(9, 6),\n",
    "                            torch.nn.ReLU(),\n",
    "                            torch.nn.Linear(6, 1))"
   ]
  },
  {
   "cell_type": "code",
   "execution_count": 54,
   "metadata": {
    "collapsed": false
   },
   "outputs": [],
   "source": [
    "# To add errors to\n",
    "errors = []\n",
    "\n",
    "\n",
    "# Set the learning rate\n",
    "learning_rate = 5e-6\n",
    "\n",
    "\n",
    "# Train the neural network\n",
    "for t in range(10000):\n",
    "    \n",
    "    # Get the current predictions\n",
    "    y_pred = model(features_Variable)\n",
    "    \n",
    "    # Compute and append current summed errors\n",
    "    loss = loss_fn(y_pred, outcomes_Variable)\n",
    "    errors.append(loss.data[0])\n",
    "    \n",
    "    # Zero the gradients before running the backward pass.\n",
    "    model.zero_grad()\n",
    "    \n",
    "    # Backward pass: compute gradient of the loss with respect to all the learnable Variables\n",
    "    loss.backward()\n",
    "    \n",
    "    # Update the weights using gradient descent\n",
    "    for param in model.parameters():\n",
    "        param.data -= learning_rate * param.grad.data"
   ]
  },
  {
   "cell_type": "code",
   "execution_count": 55,
   "metadata": {
    "collapsed": false
   },
   "outputs": [
    {
     "data": {
      "text/plain": [
       "<matplotlib.collections.PathCollection at 0x7f27302f9160>"
      ]
     },
     "execution_count": 55,
     "metadata": {},
     "output_type": "execute_result"
    },
    {
     "data": {
      "image/png": "[encoded data removed]",
      "text/plain": [
       "<matplotlib.figure.Figure at 0x7f27303f4978>"
      ]
     },
     "metadata": {},
     "output_type": "display_data"
    }
   ],
   "source": [
    "# Plot summed error as a function of iteration\n",
    "plt.scatter(iterations, errors)"
   ]
  },
  {
   "cell_type": "code",
   "execution_count": 56,
   "metadata": {
    "collapsed": true
   },
   "outputs": [],
   "source": [
    "# Get rid of the 2nd dimension of 1 from the FloatTensor\n",
    "y_pred_resized = y_pred.resize(4732)\n",
    "\n",
    "\n",
    "# Make the FloatTensor into a numpy.array\n",
    "y_pred_array = y_pred_resized.data.numpy()\n",
    "\n",
    "\n",
    "# Make the numpy.array into a list\n",
    "y_pred_list = y_pred_array.tolist()"
   ]
  },
  {
   "cell_type": "code",
   "execution_count": 57,
   "metadata": {
    "collapsed": false
   },
   "outputs": [
    {
     "data": {
      "text/plain": [
       "[<matplotlib.lines.Line2D at 0x7f27302bce48>]"
      ]
     },
     "execution_count": 57,
     "metadata": {},
     "output_type": "execute_result"
    },
    {
     "data": {
      "image/png": "[encoded data removed]",
      "text/plain": [
       "<matplotlib.figure.Figure at 0x7f273068e550>"
      ]
     },
     "metadata": {},
     "output_type": "display_data"
    }
   ],
   "source": [
    "# Plot predictions versus training set outcomes\n",
    "plt.scatter(outcomes_list, y_pred_list)\n",
    "\n",
    "axes = plt.gca()\n",
    "\n",
    "axes.set_xlim([-2, 4])\n",
    "\n",
    "axes.set_ylim([-2, 4])\n",
    "\n",
    "plt.plot([-2, 4], [-2, 4], 'k-', lw=2)"
   ]
  },
  {
   "cell_type": "markdown",
   "metadata": {},
   "source": [
    "### Round 3.1: Validation Set Performance"
   ]
  },
  {
   "cell_type": "code",
   "execution_count": 58,
   "metadata": {
    "collapsed": false
   },
   "outputs": [],
   "source": [
    "# Have to make a new model and give it the train_model parameters to fix structure problem\n",
    "dim_corrected_model = torch.nn.Sequential(torch.nn.Linear(21, 14),\n",
    "                                          torch.nn.ReLU(),\n",
    "                                          torch.nn.Linear(14, 9),\n",
    "                                          torch.nn.ReLU(),\n",
    "                                          torch.nn.Linear(9, 6),\n",
    "                                          torch.nn.ReLU(),\n",
    "                                          torch.nn.Linear(6, 1))\n",
    "\n",
    "\n",
    "# Give the new model the old model's parameters\n",
    "dim_corrected_model[(0)].weight = model[(0)].weight\n",
    "dim_corrected_model[(2)].weight = model[(2)].weight\n",
    "dim_corrected_model[(4)].weight = model[(4)].weight\n",
    "dim_corrected_model[(6)].weight = model[(6)].weight"
   ]
  },
  {
   "cell_type": "code",
   "execution_count": 59,
   "metadata": {
    "collapsed": false
   },
   "outputs": [
    {
     "data": {
      "text/plain": [
       "Variable containing:\n",
       " 249.7485\n",
       "[torch.FloatTensor of size 1]"
      ]
     },
     "execution_count": 59,
     "metadata": {},
     "output_type": "execute_result"
    }
   ],
   "source": [
    "# Get the validation set predictions\n",
    "y_valid_pred = dim_corrected_model(valid_predictors_Variable)\n",
    "\n",
    "\n",
    "# Print the loss\n",
    "loss_fn(y_valid_pred,\n",
    "        valid_outcomes_Variable)"
   ]
  },
  {
   "cell_type": "code",
   "execution_count": 60,
   "metadata": {
    "collapsed": false
   },
   "outputs": [],
   "source": [
    "# Get rid of the 2nd dimension of 1 from the FloatTensor\n",
    "y_valid_pred_resized = y_valid_pred.resize(1619)\n",
    "\n",
    "\n",
    "# Make the FloatTensor into a numpy.array\n",
    "y_valid_pred_array = y_valid_pred_resized.data.numpy()\n",
    "\n",
    "\n",
    "# Make the numpy.array into a list\n",
    "y_valid_pred_list = y_valid_pred_array.tolist()"
   ]
  },
  {
   "cell_type": "code",
   "execution_count": 61,
   "metadata": {
    "collapsed": false
   },
   "outputs": [
    {
     "data": {
      "text/plain": [
       "[<matplotlib.lines.Line2D at 0x7f27302eb780>]"
      ]
     },
     "execution_count": 61,
     "metadata": {},
     "output_type": "execute_result"
    },
    {
     "data": {
      "image/png": "[encoded data removed]",
      "text/plain": [
       "<matplotlib.figure.Figure at 0x7f27302ebef0>"
      ]
     },
     "metadata": {},
     "output_type": "display_data"
    }
   ],
   "source": [
    "# Plot new predictions versus new data outcomes\n",
    "plt.scatter(valid_outcomes_list, y_valid_pred_list)\n",
    "\n",
    "axes = plt.gca()\n",
    "\n",
    "axes.set_xlim([-2, 4])\n",
    "\n",
    "axes.set_ylim([-2, 4])\n",
    "\n",
    "plt.plot([-2, 4], [-2, 4], 'k-', lw=2)"
   ]
  },
  {
   "cell_type": "markdown",
   "metadata": {},
   "source": [
    "### Round 3.2: Test Set Performance"
   ]
  },
  {
   "cell_type": "code",
   "execution_count": 62,
   "metadata": {
    "collapsed": true
   },
   "outputs": [],
   "source": [
    "# Have to make a new model and give it the train_model parameters to fix structure problem\n",
    "dim_corrected_model_2 = torch.nn.Sequential(torch.nn.Linear(21, 14),\n",
    "                                            torch.nn.ReLU(),\n",
    "                                            torch.nn.Linear(14, 9),\n",
    "                                            torch.nn.ReLU(),\n",
    "                                            torch.nn.Linear(9, 6),\n",
    "                                            torch.nn.ReLU(),\n",
    "                                            torch.nn.Linear(6, 1))\n",
    "\n",
    "\n",
    "# Give the new model the old model's parameters\n",
    "dim_corrected_model_2[(0)].weight = model[(0)].weight\n",
    "dim_corrected_model_2[(2)].weight = model[(2)].weight\n",
    "dim_corrected_model_2[(4)].weight = model[(4)].weight\n",
    "dim_corrected_model_2[(6)].weight = model[(6)].weight"
   ]
  },
  {
   "cell_type": "code",
   "execution_count": 63,
   "metadata": {
    "collapsed": false
   },
   "outputs": [
    {
     "data": {
      "text/plain": [
       "Variable containing:\n",
       " 307.9987\n",
       "[torch.FloatTensor of size 1]"
      ]
     },
     "execution_count": 63,
     "metadata": {},
     "output_type": "execute_result"
    }
   ],
   "source": [
    "# Get the validation set predictions\n",
    "y_test_pred = dim_corrected_model_2(test_predictors_Variable)\n",
    "\n",
    "\n",
    "# Print the loss\n",
    "loss_fn(y_test_pred,\n",
    "        test_outcomes_Variable)"
   ]
  },
  {
   "cell_type": "code",
   "execution_count": 64,
   "metadata": {
    "collapsed": true
   },
   "outputs": [],
   "source": [
    "# Get rid of the 2nd dimension of 1 from the FloatTensor\n",
    "y_test_pred_resized = y_test_pred.resize(1609)\n",
    "\n",
    "\n",
    "# Make the FloatTensor into a numpy.array\n",
    "y_test_pred_array = y_test_pred_resized.data.numpy()\n",
    "\n",
    "\n",
    "# Convert back to native units and scale\n",
    "y_test_pred_array = y_test_pred_array*5.735285 + 6.490682\n",
    "\n",
    "\n",
    "# Make the numpy.array into a list\n",
    "y_test_pred_list = y_test_pred_array.tolist()"
   ]
  },
  {
   "cell_type": "code",
   "execution_count": 65,
   "metadata": {
    "collapsed": false
   },
   "outputs": [
    {
     "data": {
      "text/plain": [
       "<matplotlib.text.Text at 0x7f273017a0f0>"
      ]
     },
     "execution_count": 65,
     "metadata": {},
     "output_type": "execute_result"
    },
    {
     "data": {
      "image/png": "[encoded data removed]",
      "text/plain": [
       "<matplotlib.figure.Figure at 0x7f2730244b38>"
      ]
     },
     "metadata": {},
     "output_type": "display_data"
    }
   ],
   "source": [
    "# Plot new predictions versus new data outcomes\n",
    "\n",
    "plt.scatter(test_outcomes_list, y_test_pred_list)\n",
    "\n",
    "axes = plt.gca()\n",
    "\n",
    "axes.set_xlim([2, 23])\n",
    "\n",
    "axes.set_ylim([2, 23])\n",
    "\n",
    "axes.set_xticks([2, 5, 8, 11, 14, 17, 20, 23])\n",
    "\n",
    "axes.set_yticks([2, 5, 8, 11, 14, 17, 20, 23])\n",
    "\n",
    "plt.plot([2, 23], [2, 23], 'k-', lw=2)\n",
    "\n",
    "axes.set_xlabel(\"Actual Outcome (Log-Transformed US Dollars)\")\n",
    "\n",
    "axes.set_ylabel(\"Model Prediction (Log-Transformed US Dollars)\")\n",
    "\n",
    "axes.set_title(\"Model Performance\")"
   ]
  },
  {
   "cell_type": "code",
   "execution_count": 66,
   "metadata": {
    "collapsed": false
   },
   "outputs": [
    {
     "data": {
      "text/plain": [
       "Parameter containing:\n",
       "\n",
       "Columns 0 to 9 \n",
       " 0.0083 -0.0552  0.0046  0.0918 -0.0944 -0.0269  0.0007  0.0522 -0.1607  0.0433\n",
       "-0.0010 -0.1937 -0.0394 -0.1575  0.0708  0.0934  0.1187 -0.2999  0.0305  0.1831\n",
       " 0.0818  0.1233  0.1489  0.0581 -0.0876 -0.1544  0.0145 -0.0388 -0.1058 -0.1077\n",
       "-0.2634  0.1110 -0.1323  0.0380 -0.0593  0.1047 -0.0393  0.0683 -0.1469  0.0105\n",
       " 0.2430  0.0065 -0.1181  0.1240  0.1715  0.1144 -0.0101 -0.0925  0.0718  0.0934\n",
       "-0.0430 -0.0108  0.1640 -0.1447 -0.0148  0.0643 -0.0177  0.1460 -0.1452  0.1205\n",
       " 0.0441  0.0987  0.1221  0.0999  0.2621 -0.1191  0.0640 -0.0627 -0.2125  0.1465\n",
       "-0.0411  0.1531 -0.0810 -0.1473  0.0468  0.0271  0.1199  0.0557  0.0994 -0.0721\n",
       " 0.2251 -0.1567  0.2523  0.2394 -0.0204  0.0123 -0.1939 -0.1426  0.2020 -0.0441\n",
       "-0.0789  0.0593  0.0700 -0.0255  0.0651  0.0015  0.0352 -0.2065 -0.0002  0.1190\n",
       " 0.0712  0.1220 -0.2214 -0.1141 -0.0584 -0.0239  0.0333 -0.0591  0.2677  0.1324\n",
       "-0.0721  0.1219  0.1162 -0.0101 -0.3155  0.0301  0.1212  0.1616  0.0488 -0.0625\n",
       " 0.0719 -0.1006  0.0915  0.2813  0.4502 -0.1085  0.1340  0.0327  0.1342  0.1810\n",
       " 0.0885 -0.0393 -0.0144 -0.0200 -0.3058 -0.1181 -0.1088 -0.1565 -0.1199  0.1674\n",
       "\n",
       "Columns 10 to 19 \n",
       "-0.1353 -0.3083 -0.2160 -0.1346 -0.1506  0.2056 -0.0098 -0.1701 -0.1880  0.0568\n",
       " 0.1057  0.2622 -0.2178  0.1110  0.0767 -0.1527  0.0789  0.0396  0.2086  0.0522\n",
       "-0.1582 -0.0071  0.0691 -0.2120 -0.1319 -0.0376 -0.2388  0.0404 -0.0429  0.0743\n",
       " 0.0338 -0.2198 -0.0577  0.0077  0.1856 -0.0939  0.1631 -0.1114 -0.0651 -0.0800\n",
       " 0.0363 -0.1397 -0.0495  0.1995  0.0126  0.0034 -0.0989  0.2112 -0.2383  0.2518\n",
       "-0.1288  0.0352  0.0171 -0.0043 -0.2006 -0.1108  0.1166 -0.0478  0.0899  0.0616\n",
       " 0.0697 -0.0735  0.1652 -0.1290 -0.1788  0.0246 -0.2481 -0.0027  0.2124 -0.0996\n",
       "-0.0215  0.0819  0.0672 -0.1694  0.1183 -0.1487  0.1531 -0.1127  0.2276  0.0860\n",
       "-0.2127  0.1993 -0.0267 -0.0635  0.1258  0.0947  0.1647 -0.0927 -0.1428  0.0817\n",
       " 0.0680 -0.1233  0.0992 -0.1719  0.0886  0.0501 -0.1270  0.1854  0.0335  0.1218\n",
       " 0.1185  0.0481  0.0132 -0.0675  0.0893 -0.1564 -0.0939 -0.1433  0.0114 -0.0686\n",
       "-0.0616  0.0470 -0.0304  0.0637 -0.2733 -0.1077 -0.0594 -0.0898  0.0417 -0.1452\n",
       " 0.1055  0.0340 -0.0758  0.0252  0.0380 -0.0986  0.1717  0.0936  0.0840 -0.0525\n",
       " 0.0632  0.1565  0.3061  0.0639  0.0876  0.0159 -0.0976  0.1454  0.0557 -0.0531\n",
       "\n",
       "Columns 20 to 20 \n",
       " 0.0370\n",
       " 0.0624\n",
       "-0.1322\n",
       " 0.1038\n",
       " 0.2428\n",
       "-0.1406\n",
       " 0.0454\n",
       " 0.0878\n",
       " 0.0426\n",
       " 0.2018\n",
       " 0.2256\n",
       "-0.0867\n",
       "-0.0516\n",
       " 0.0977\n",
       "[torch.FloatTensor of size 14x21]"
      ]
     },
     "execution_count": 66,
     "metadata": {},
     "output_type": "execute_result"
    }
   ],
   "source": [
    "dim_corrected_model_2[(0)].weight"
   ]
  },
  {
   "cell_type": "code",
   "execution_count": 67,
   "metadata": {
    "collapsed": false
   },
   "outputs": [
    {
     "data": {
      "text/plain": [
       "Parameter containing:\n",
       "\n",
       "Columns 0 to 9 \n",
       "-0.1529  0.0367  0.0902  0.2610 -0.0531 -0.0712 -0.2251  0.0451  0.1910 -0.0390\n",
       " 0.2712  0.3376  0.0969  0.0313  0.0087  0.1973 -0.1976  0.2236  0.1375  0.1468\n",
       "-0.2499  0.0344 -0.0346 -0.2456 -0.0524 -0.1319  0.1176  0.0035  0.0648 -0.0852\n",
       " 0.2529  0.1076 -0.1334  0.0233 -0.1239  0.1571 -0.0181 -0.1775 -0.0944 -0.0501\n",
       " 0.3203  0.1195  0.0352 -0.2560 -0.3087  0.1024  0.1687 -0.0267 -0.1156  0.3204\n",
       "-0.1020  0.0961  0.2054 -0.1990  0.1498 -0.1218 -0.0207  0.2107  0.1431 -0.1521\n",
       " 0.0424  0.0024  0.2320 -0.0429  0.1194  0.2142  0.2870 -0.0010  0.2555  0.0617\n",
       "-0.2523  0.0183  0.0988 -0.2213 -0.1442 -0.0356 -0.0654 -0.0060  0.2210  0.0741\n",
       " 0.1114 -0.0727  0.1297  0.0669  0.0784  0.2107 -0.2155  0.1325  0.0440 -0.1650\n",
       "\n",
       "Columns 10 to 13 \n",
       " 0.3086  0.1109 -0.1609  0.0640\n",
       "-0.0990  0.3067 -0.0331  0.2812\n",
       "-0.0034 -0.1154 -0.0360 -0.1464\n",
       "-0.1373  0.1341  0.0329  0.1053\n",
       "-0.0317  0.0553  0.0873 -0.1785\n",
       " 0.2447 -0.1239  0.2263 -0.1918\n",
       " 0.1754  0.0273  0.3466 -0.1455\n",
       " 0.1370 -0.0841 -0.0983 -0.0919\n",
       " 0.1233  0.2254 -0.0009  0.2657\n",
       "[torch.FloatTensor of size 9x14]"
      ]
     },
     "execution_count": 67,
     "metadata": {},
     "output_type": "execute_result"
    }
   ],
   "source": [
    "dim_corrected_model_2[(2)].weight"
   ]
  },
  {
   "cell_type": "code",
   "execution_count": 68,
   "metadata": {
    "collapsed": false
   },
   "outputs": [
    {
     "data": {
      "text/plain": [
       "Parameter containing:\n",
       "-0.2660 -0.0766 -0.1032 -0.0169 -0.3543  0.0422  0.2884 -0.2595 -0.0473\n",
       "-0.2197 -0.3101  0.1989 -0.0854  0.1087 -0.0663 -0.0717  0.1461  0.0369\n",
       "-0.0709 -0.2723 -0.1200 -0.0224 -0.0390  0.4049  0.3716 -0.1988  0.0597\n",
       " 0.0867 -0.4186  0.2558 -0.0333 -0.3724  0.1145  0.2794  0.2409 -0.0792\n",
       "-0.2396  0.2959  0.0813 -0.0144  0.2413 -0.2660 -0.2501  0.0280 -0.2076\n",
       "-0.2356 -0.1671 -0.2954 -0.1537 -0.3309  0.2434 -0.2241  0.0654 -0.1310\n",
       "[torch.FloatTensor of size 6x9]"
      ]
     },
     "execution_count": 68,
     "metadata": {},
     "output_type": "execute_result"
    }
   ],
   "source": [
    "dim_corrected_model_2[(4)].weight"
   ]
  },
  {
   "cell_type": "code",
   "execution_count": 69,
   "metadata": {
    "collapsed": false
   },
   "outputs": [
    {
     "data": {
      "text/plain": [
       "Parameter containing:\n",
       " 0.5204  0.3836  0.6089  0.6440  0.3798 -0.3420\n",
       "[torch.FloatTensor of size 1x6]"
      ]
     },
     "execution_count": 69,
     "metadata": {},
     "output_type": "execute_result"
    }
   ],
   "source": [
    "dim_corrected_model_2[(6)].weight"
   ]
  },
  {
   "cell_type": "markdown",
   "metadata": {},
   "source": [
    "## Round 4: Four-Hidden-Layer Neural Network"
   ]
  },
  {
   "cell_type": "code",
   "execution_count": 70,
   "metadata": {
    "collapsed": true
   },
   "outputs": [],
   "source": [
    "# Make the torch Tensor into a PyTorch Variable for dependent variables\n",
    "outcomes_Variable = Variable(outcomes_Tensor)\n",
    "\n",
    "\n",
    "# ...for independent variables\n",
    "features_Variable = Variable(features_Tensor,\n",
    "                             requires_grad = False)"
   ]
  },
  {
   "cell_type": "code",
   "execution_count": 71,
   "metadata": {
    "collapsed": true
   },
   "outputs": [],
   "source": [
    "# Make the neural network\n",
    "model = torch.nn.Sequential(torch.nn.Linear(21, 14),\n",
    "                            torch.nn.ReLU(),\n",
    "                            torch.nn.Linear(14, 9),\n",
    "                            torch.nn.ReLU(),\n",
    "                            torch.nn.Linear(9, 6),\n",
    "                            torch.nn.ReLU(),\n",
    "                            torch.nn.Linear(6, 4),\n",
    "                            torch.nn.ReLU(),\n",
    "                            torch.nn.Linear(4, 1))"
   ]
  },
  {
   "cell_type": "code",
   "execution_count": 72,
   "metadata": {
    "collapsed": true
   },
   "outputs": [],
   "source": [
    "# To add errors to\n",
    "errors = []\n",
    "\n",
    "\n",
    "# Set the learning rate\n",
    "learning_rate = 5e-6\n",
    "\n",
    "\n",
    "# Train the neural network\n",
    "for t in range(10000):\n",
    "    \n",
    "    # Get the current predictions\n",
    "    y_pred = model(features_Variable)\n",
    "    \n",
    "    # Compute and append current summed errors\n",
    "    loss = loss_fn(y_pred, outcomes_Variable)\n",
    "    errors.append(loss.data[0])\n",
    "    \n",
    "    # Zero the gradients before running the backward pass.\n",
    "    model.zero_grad()\n",
    "    \n",
    "    # Backward pass: compute gradient of the loss with respect to all the learnable Variables\n",
    "    loss.backward()\n",
    "    \n",
    "    # Update the weights using gradient descent\n",
    "    for param in model.parameters():\n",
    "        param.data -= learning_rate * param.grad.data"
   ]
  },
  {
   "cell_type": "code",
   "execution_count": 73,
   "metadata": {
    "collapsed": false
   },
   "outputs": [
    {
     "data": {
      "text/plain": [
       "<matplotlib.collections.PathCollection at 0x7f273012fdd8>"
      ]
     },
     "execution_count": 73,
     "metadata": {},
     "output_type": "execute_result"
    },
    {
     "data": {
      "image/png": "[encoded data removed]",
      "text/plain": [
       "<matplotlib.figure.Figure at 0x7f27301b0b70>"
      ]
     },
     "metadata": {},
     "output_type": "display_data"
    }
   ],
   "source": [
    "# Plot summed error as a function of iteration\n",
    "plt.scatter(iterations, errors)"
   ]
  },
  {
   "cell_type": "code",
   "execution_count": 74,
   "metadata": {
    "collapsed": true
   },
   "outputs": [],
   "source": [
    "# Get rid of the 2nd dimension of 1 from the FloatTensor\n",
    "y_pred_resized = y_pred.resize(4732)\n",
    "\n",
    "\n",
    "# Make the FloatTensor into a numpy.array\n",
    "y_pred_array = y_pred_resized.data.numpy()\n",
    "\n",
    "\n",
    "# Make the numpy.array into a list\n",
    "y_pred_list = y_pred_array.tolist()"
   ]
  },
  {
   "cell_type": "code",
   "execution_count": 75,
   "metadata": {
    "collapsed": false
   },
   "outputs": [
    {
     "data": {
      "text/plain": [
       "[<matplotlib.lines.Line2D at 0x7f2731190588>]"
      ]
     },
     "execution_count": 75,
     "metadata": {},
     "output_type": "execute_result"
    },
    {
     "data": {
      "image/png": "[encoded data removed]",
      "text/plain": [
       "<matplotlib.figure.Figure at 0x7f2731190e10>"
      ]
     },
     "metadata": {},
     "output_type": "display_data"
    }
   ],
   "source": [
    "# Plot predictions versus training set outcomes\n",
    "plt.scatter(outcomes_list, y_pred_list)\n",
    "\n",
    "axes = plt.gca()\n",
    "\n",
    "axes.set_xlim([-2, 4])\n",
    "\n",
    "axes.set_ylim([-2, 4])\n",
    "\n",
    "plt.plot([-2, 4], [-2, 4], 'k-', lw=2)"
   ]
  },
  {
   "cell_type": "markdown",
   "metadata": {},
   "source": [
    "### Round 4.1: Validation Set Performance"
   ]
  },
  {
   "cell_type": "code",
   "execution_count": 76,
   "metadata": {
    "collapsed": true
   },
   "outputs": [],
   "source": [
    "# Have to make a new model and give it the train_model parameters to fix structure problem\n",
    "dim_corrected_model = torch.nn.Sequential(torch.nn.Linear(21, 14),\n",
    "                                          torch.nn.ReLU(),\n",
    "                                          torch.nn.Linear(14, 9),\n",
    "                                          torch.nn.ReLU(),\n",
    "                                          torch.nn.Linear(9, 6),\n",
    "                                          torch.nn.ReLU(),\n",
    "                                          torch.nn.Linear(6, 4),\n",
    "                                          torch.nn.ReLU(),\n",
    "                                          torch.nn.Linear(4, 1))\n",
    "\n",
    "\n",
    "# Give the new model the old model's parameters\n",
    "dim_corrected_model[(0)].weight = model[(0)].weight\n",
    "dim_corrected_model[(2)].weight = model[(2)].weight\n",
    "dim_corrected_model[(4)].weight = model[(4)].weight\n",
    "dim_corrected_model[(6)].weight = model[(6)].weight\n",
    "dim_corrected_model[(8)].weight = model[(8)].weight"
   ]
  },
  {
   "cell_type": "code",
   "execution_count": 77,
   "metadata": {
    "collapsed": false
   },
   "outputs": [
    {
     "data": {
      "text/plain": [
       "Variable containing:\n",
       " 498.4169\n",
       "[torch.FloatTensor of size 1]"
      ]
     },
     "execution_count": 77,
     "metadata": {},
     "output_type": "execute_result"
    }
   ],
   "source": [
    "# Get the validation set predictions\n",
    "y_valid_pred = dim_corrected_model(valid_predictors_Variable)\n",
    "\n",
    "\n",
    "# Print the loss\n",
    "loss_fn(y_valid_pred,\n",
    "        valid_outcomes_Variable)"
   ]
  },
  {
   "cell_type": "code",
   "execution_count": 78,
   "metadata": {
    "collapsed": true
   },
   "outputs": [],
   "source": [
    "# Get rid of the 2nd dimension of 1 from the FloatTensor\n",
    "y_valid_pred_resized = y_valid_pred.resize(1619)\n",
    "\n",
    "\n",
    "# Make the FloatTensor into a numpy.array\n",
    "y_valid_pred_array = y_valid_pred_resized.data.numpy()\n",
    "\n",
    "\n",
    "# Make the numpy.array into a list\n",
    "y_valid_pred_list = y_valid_pred_array.tolist()"
   ]
  },
  {
   "cell_type": "code",
   "execution_count": 79,
   "metadata": {
    "collapsed": false
   },
   "outputs": [
    {
     "data": {
      "text/plain": [
       "[<matplotlib.lines.Line2D at 0x7f2730383048>]"
      ]
     },
     "execution_count": 79,
     "metadata": {},
     "output_type": "execute_result"
    },
    {
     "data": {
      "image/png": "[encoded data removed]",
      "text/plain": [
       "<matplotlib.figure.Figure at 0x7f2730383fd0>"
      ]
     },
     "metadata": {},
     "output_type": "display_data"
    }
   ],
   "source": [
    "# Plot new predictions versus new data outcomes\n",
    "plt.scatter(valid_outcomes_list, y_valid_pred_list)\n",
    "\n",
    "axes = plt.gca()\n",
    "\n",
    "axes.set_xlim([-2, 4])\n",
    "\n",
    "axes.set_ylim([-2, 4])\n",
    "\n",
    "plt.plot([-2, 4], [-2, 4], 'k-', lw=2)"
   ]
  },
  {
   "cell_type": "markdown",
   "metadata": {},
   "source": [
    "### Round 4.2: Test Set Performance"
   ]
  },
  {
   "cell_type": "code",
   "execution_count": 80,
   "metadata": {
    "collapsed": true
   },
   "outputs": [],
   "source": [
    "# Have to make a new model and give it the train_model parameters to fix structure problem\n",
    "dim_corrected_model_2 = torch.nn.Sequential(torch.nn.Linear(21, 14),\n",
    "                                            torch.nn.ReLU(),\n",
    "                                            torch.nn.Linear(14, 9),\n",
    "                                            torch.nn.ReLU(),\n",
    "                                            torch.nn.Linear(9, 6),\n",
    "                                            torch.nn.ReLU(),\n",
    "                                            torch.nn.Linear(6, 4),\n",
    "                                            torch.nn.ReLU(),\n",
    "                                            torch.nn.Linear(4, 1))\n",
    "\n",
    "\n",
    "# Give the new model the old model's parameters\n",
    "dim_corrected_model_2[(0)].weight = model[(0)].weight\n",
    "dim_corrected_model_2[(2)].weight = model[(2)].weight\n",
    "dim_corrected_model_2[(4)].weight = model[(4)].weight\n",
    "dim_corrected_model_2[(6)].weight = model[(6)].weight\n",
    "dim_corrected_model_2[(8)].weight = model[(8)].weight"
   ]
  },
  {
   "cell_type": "code",
   "execution_count": 81,
   "metadata": {
    "collapsed": false
   },
   "outputs": [
    {
     "data": {
      "text/plain": [
       "Variable containing:\n",
       " 434.4147\n",
       "[torch.FloatTensor of size 1]"
      ]
     },
     "execution_count": 81,
     "metadata": {},
     "output_type": "execute_result"
    }
   ],
   "source": [
    "# Get the validation set predictions\n",
    "y_test_pred = dim_corrected_model_2(test_predictors_Variable)\n",
    "\n",
    "\n",
    "# Print the loss\n",
    "loss_fn(y_test_pred,\n",
    "        test_outcomes_Variable)"
   ]
  },
  {
   "cell_type": "code",
   "execution_count": 82,
   "metadata": {
    "collapsed": true
   },
   "outputs": [],
   "source": [
    "# Get rid of the 2nd dimension of 1 from the FloatTensor\n",
    "y_test_pred_resized = y_test_pred.resize(1609)\n",
    "\n",
    "\n",
    "# Make the FloatTensor into a numpy.array\n",
    "y_test_pred_array = y_test_pred_resized.data.numpy()\n",
    "\n",
    "\n",
    "# Convert back to native units and scale\n",
    "y_test_pred_array = y_test_pred_array*5.735285 + 6.490682\n",
    "\n",
    "\n",
    "# Make the numpy.array into a list\n",
    "y_test_pred_list = y_test_pred_array.tolist()"
   ]
  },
  {
   "cell_type": "code",
   "execution_count": 83,
   "metadata": {
    "collapsed": false
   },
   "outputs": [
    {
     "data": {
      "text/plain": [
       "<matplotlib.text.Text at 0x7f2728f08978>"
      ]
     },
     "execution_count": 83,
     "metadata": {},
     "output_type": "execute_result"
    },
    {
     "data": {
      "image/png": "[encoded data removed]",
      "text/plain": [
       "<matplotlib.figure.Figure at 0x7f2730069ba8>"
      ]
     },
     "metadata": {},
     "output_type": "display_data"
    }
   ],
   "source": [
    "# Plot new predictions versus new data outcomes\n",
    "\n",
    "plt.scatter(test_outcomes_list, y_test_pred_list)\n",
    "\n",
    "axes = plt.gca()\n",
    "\n",
    "axes.set_xlim([2, 23])\n",
    "\n",
    "axes.set_ylim([2, 23])\n",
    "\n",
    "axes.set_xticks([2, 5, 8, 11, 14, 17, 20, 23])\n",
    "\n",
    "axes.set_yticks([2, 5, 8, 11, 14, 17, 20, 23])\n",
    "\n",
    "plt.plot([2, 23], [2, 23], 'k-', lw=2)\n",
    "\n",
    "axes.set_xlabel(\"Actual Outcome (Log-Transformed US Dollars)\")\n",
    "\n",
    "axes.set_ylabel(\"Model Prediction (Log-Transformed US Dollars)\")\n",
    "\n",
    "axes.set_title(\"Model Performance\")"
   ]
  },
  {
   "cell_type": "code",
   "execution_count": 84,
   "metadata": {
    "collapsed": false
   },
   "outputs": [
    {
     "data": {
      "text/plain": [
       "Parameter containing:\n",
       "\n",
       "Columns 0 to 9 \n",
       " 0.1168 -0.1313  0.1640  0.1947  0.2821 -0.0740 -0.0026 -0.0094  0.0825  0.2885\n",
       " 0.0121 -0.1153  0.0973 -0.0204 -0.0335  0.1093  0.0803  0.1044  0.0781  0.0138\n",
       "-0.1651  0.0398 -0.0789 -0.1177  0.1812 -0.0973  0.2005  0.0706  0.0512  0.2007\n",
       " 0.1346  0.1364  0.2773 -0.1147 -0.2417 -0.2115 -0.0351  0.0210  0.0601  0.0946\n",
       " 0.2776 -0.0645  0.1613 -0.0295  0.2519 -0.0165  0.0536 -0.1149  0.1574  0.2275\n",
       " 0.0379 -0.0189  0.0906  0.0137  0.0076  0.1149  0.0169  0.2022  0.0346 -0.2282\n",
       " 0.2328  0.0082 -0.0268 -0.1118  0.0880  0.1812 -0.2124 -0.0888  0.0141  0.1521\n",
       " 0.0193  0.2004  0.0006  0.2651  0.1215 -0.1286 -0.0661 -0.1397 -0.1269 -0.0064\n",
       "-0.0015  0.0057  0.0681  0.1494  0.1951 -0.0649 -0.0621  0.0602  0.0313 -0.3342\n",
       "-0.0643 -0.1403  0.1482  0.2076 -0.2241  0.0304  0.2275 -0.1867 -0.2110  0.1266\n",
       " 0.3245 -0.1482 -0.0985  0.0053  0.2345 -0.1197  0.0204  0.1790  0.1023  0.1192\n",
       " 0.1190  0.1801 -0.0196  0.1175  0.1634 -0.0368  0.0806  0.2485  0.1393 -0.1216\n",
       " 0.2077  0.0005 -0.1812 -0.0772 -0.0108 -0.2255 -0.1596  0.0314 -0.0635  0.0811\n",
       " 0.0722  0.0865 -0.1366 -0.0551  0.1280 -0.0776 -0.0361 -0.2749  0.1672  0.1075\n",
       "\n",
       "Columns 10 to 19 \n",
       " 0.0199 -0.0467 -0.0325 -0.1200  0.1232  0.0463 -0.0920  0.1139 -0.0163 -0.1278\n",
       " 0.0916  0.2848  0.1325  0.0907 -0.1567 -0.2475 -0.0670 -0.0378  0.2008 -0.0277\n",
       " 0.1286 -0.1426  0.1017  0.0464  0.0358 -0.0940  0.0040  0.1608 -0.1587 -0.0859\n",
       " 0.1506 -0.0962  0.2246  0.0823  0.1613  0.0953 -0.1512 -0.1063 -0.1420 -0.0011\n",
       " 0.0443 -0.0863  0.1952  0.2150 -0.0432 -0.1470  0.2134  0.0160  0.0866 -0.0919\n",
       "-0.1357  0.0835 -0.0433 -0.0498  0.0263  0.0436 -0.2188  0.1631 -0.1799  0.0456\n",
       " 0.0215  0.0150  0.0540 -0.0781 -0.0763 -0.0943  0.1311  0.0886 -0.0708  0.1582\n",
       " 0.1554  0.1748 -0.1380 -0.1517  0.0569 -0.2037 -0.2188  0.0589  0.0296  0.1289\n",
       "-0.2244  0.2573 -0.0027  0.0409 -0.1212 -0.0224  0.0228  0.2344  0.1059  0.0641\n",
       "-0.2015 -0.1601  0.0712  0.2097 -0.1618  0.0358 -0.0772 -0.0446 -0.1084 -0.2050\n",
       " 0.1947  0.0812  0.2057  0.1955  0.0155 -0.1348 -0.1375 -0.1180 -0.0525  0.1272\n",
       " 0.0557  0.0631  0.1097 -0.0684 -0.0393  0.2544 -0.0947 -0.1881  0.0250  0.0453\n",
       "-0.1345  0.2088 -0.0320  0.0103  0.1598  0.1634 -0.2046  0.0495  0.1814  0.1895\n",
       " 0.1451  0.0512  0.0986 -0.0858  0.1324  0.0638 -0.1455  0.0323  0.0352 -0.0954\n",
       "\n",
       "Columns 20 to 20 \n",
       "-0.0286\n",
       "-0.0370\n",
       " 0.1624\n",
       " 0.0809\n",
       " 0.0022\n",
       "-0.1824\n",
       " 0.0817\n",
       " 0.0884\n",
       "-0.0022\n",
       "-0.1568\n",
       "-0.0186\n",
       "-0.0251\n",
       " 0.1423\n",
       "-0.2119\n",
       "[torch.FloatTensor of size 14x21]"
      ]
     },
     "execution_count": 84,
     "metadata": {},
     "output_type": "execute_result"
    }
   ],
   "source": [
    "dim_corrected_model_2[(0)].weight"
   ]
  },
  {
   "cell_type": "code",
   "execution_count": 85,
   "metadata": {
    "collapsed": false
   },
   "outputs": [
    {
     "data": {
      "text/plain": [
       "Parameter containing:\n",
       "\n",
       "Columns 0 to 9 \n",
       " 0.1632 -0.2405 -0.0764  0.1363 -0.1457 -0.1515 -0.2227  0.0635 -0.1762 -0.1864\n",
       "-0.1426  0.0555  0.0239  0.1546  0.3055 -0.0680 -0.0242 -0.1724  0.1353 -0.0245\n",
       "-0.1919  0.0842  0.1137 -0.0183 -0.0667 -0.1342 -0.2356  0.1299  0.1971 -0.0103\n",
       " 0.3707 -0.1867 -0.0441 -0.0937  0.3080  0.0081 -0.1562  0.2783  0.1961 -0.0604\n",
       "-0.0678 -0.2431 -0.0617 -0.1533  0.0566 -0.1953  0.2460 -0.1107  0.1689 -0.2842\n",
       " 0.2793  0.2033 -0.2011 -0.0369  0.0541 -0.1672 -0.0701 -0.2688  0.0164 -0.2728\n",
       "-0.0007 -0.1955  0.2870 -0.1747  0.1112  0.0832  0.1774  0.2012  0.1774  0.2067\n",
       " 0.2464 -0.2397  0.0444 -0.1708  0.0304 -0.2191  0.2561  0.0237 -0.0090  0.0865\n",
       " 0.1407 -0.0747  0.2406  0.2165  0.1327  0.1496  0.1324  0.2248 -0.1476  0.1396\n",
       "\n",
       "Columns 10 to 13 \n",
       "-0.0138  0.1590 -0.1857 -0.2359\n",
       " 0.2471 -0.2058  0.0158 -0.0492\n",
       " 0.0509 -0.0947 -0.2348 -0.1120\n",
       " 0.1392  0.2390  0.0136 -0.1956\n",
       " 0.1554  0.1702 -0.1544  0.1226\n",
       " 0.0464 -0.0623  0.0903  0.2653\n",
       " 0.2607  0.1043 -0.3719 -0.1141\n",
       "-0.2549 -0.2391 -0.1669  0.0017\n",
       " 0.1097 -0.1122  0.2383  0.1847\n",
       "[torch.FloatTensor of size 9x14]"
      ]
     },
     "execution_count": 85,
     "metadata": {},
     "output_type": "execute_result"
    }
   ],
   "source": [
    "dim_corrected_model_2[(2)].weight"
   ]
  },
  {
   "cell_type": "code",
   "execution_count": 86,
   "metadata": {
    "collapsed": false
   },
   "outputs": [
    {
     "data": {
      "text/plain": [
       "Parameter containing:\n",
       " 0.1939  0.2220 -0.1270 -0.1223  0.2618  0.2199  0.0793  0.1864 -0.2933\n",
       "-0.0448 -0.3047 -0.0854 -0.2112  0.2631  0.1330 -0.2335  0.2542  0.0290\n",
       "-0.1424 -0.2984  0.1606  0.4533 -0.2075 -0.1833  0.1992  0.3433  0.2713\n",
       "-0.3191 -0.3568  0.1263  0.3878  0.1588  0.1162  0.2338  0.2290 -0.2891\n",
       " 0.1593  0.1521 -0.3169 -0.0502  0.0968  0.1977 -0.0550 -0.2934  0.2015\n",
       " 0.1708 -0.0035 -0.2196  0.2222  0.2329  0.1419  0.4632 -0.2267  0.0545\n",
       "[torch.FloatTensor of size 6x9]"
      ]
     },
     "execution_count": 86,
     "metadata": {},
     "output_type": "execute_result"
    }
   ],
   "source": [
    "dim_corrected_model_2[(4)].weight"
   ]
  },
  {
   "cell_type": "code",
   "execution_count": 87,
   "metadata": {
    "collapsed": false
   },
   "outputs": [
    {
     "data": {
      "text/plain": [
       "Parameter containing:\n",
       " 0.3488  0.0191  0.1503 -0.2410  0.2351 -0.3098\n",
       " 0.1378  0.0158  0.4892  0.5105  0.1323  0.5324\n",
       " 0.0633  0.1946 -0.3837  0.1713 -0.2760 -0.3421\n",
       "-0.3599  0.2480  0.2186  0.2605  0.1905  0.3025\n",
       "[torch.FloatTensor of size 4x6]"
      ]
     },
     "execution_count": 87,
     "metadata": {},
     "output_type": "execute_result"
    }
   ],
   "source": [
    "dim_corrected_model_2[(6)].weight"
   ]
  },
  {
   "cell_type": "code",
   "execution_count": 88,
   "metadata": {
    "collapsed": false
   },
   "outputs": [
    {
     "data": {
      "text/plain": [
       "Parameter containing:\n",
       "-0.3177  0.7162 -0.0025  0.2673\n",
       "[torch.FloatTensor of size 1x4]"
      ]
     },
     "execution_count": 88,
     "metadata": {},
     "output_type": "execute_result"
    }
   ],
   "source": [
    "dim_corrected_model_2[(8)].weight"
   ]
  },
  {
   "cell_type": "markdown",
   "metadata": {},
   "source": [
    "## Round 5: Five-Hidden-Layer Neural Network"
   ]
  },
  {
   "cell_type": "code",
   "execution_count": 89,
   "metadata": {
    "collapsed": true
   },
   "outputs": [],
   "source": [
    "# Make the torch Tensor into a PyTorch Variable for dependent variables\n",
    "outcomes_Variable = Variable(outcomes_Tensor)\n",
    "\n",
    "\n",
    "# ...for independent variables\n",
    "features_Variable = Variable(features_Tensor,\n",
    "                             requires_grad = False)"
   ]
  },
  {
   "cell_type": "code",
   "execution_count": 90,
   "metadata": {
    "collapsed": true
   },
   "outputs": [],
   "source": [
    "# Make the neural network\n",
    "model = torch.nn.Sequential(torch.nn.Linear(21, 14),\n",
    "                            torch.nn.ReLU(),\n",
    "                            torch.nn.Linear(14, 9),\n",
    "                            torch.nn.ReLU(),\n",
    "                            torch.nn.Linear(9, 6),\n",
    "                            torch.nn.ReLU(),\n",
    "                            torch.nn.Linear(6, 4),\n",
    "                            torch.nn.ReLU(),\n",
    "                            torch.nn.Linear(4, 3),\n",
    "                            torch.nn.ReLU(),\n",
    "                            torch.nn.Linear(3, 1))"
   ]
  },
  {
   "cell_type": "code",
   "execution_count": 91,
   "metadata": {
    "collapsed": true
   },
   "outputs": [],
   "source": [
    "# To add errors to\n",
    "errors = []\n",
    "\n",
    "\n",
    "# Set the learning rate\n",
    "learning_rate = 5e-6\n",
    "\n",
    "\n",
    "# Train the neural network\n",
    "for t in range(10000):\n",
    "    \n",
    "    # Get the current predictions\n",
    "    y_pred = model(features_Variable)\n",
    "    \n",
    "    # Compute and append current summed errors\n",
    "    loss = loss_fn(y_pred, outcomes_Variable)\n",
    "    errors.append(loss.data[0])\n",
    "    \n",
    "    # Zero the gradients before running the backward pass.\n",
    "    model.zero_grad()\n",
    "    \n",
    "    # Backward pass: compute gradient of the loss with respect to all the learnable Variables\n",
    "    loss.backward()\n",
    "    \n",
    "    # Update the weights using gradient descent\n",
    "    for param in model.parameters():\n",
    "        param.data -= learning_rate * param.grad.data"
   ]
  },
  {
   "cell_type": "code",
   "execution_count": 92,
   "metadata": {
    "collapsed": false
   },
   "outputs": [
    {
     "data": {
      "text/plain": [
       "<matplotlib.collections.PathCollection at 0x7f2728e53630>"
      ]
     },
     "execution_count": 92,
     "metadata": {},
     "output_type": "execute_result"
    },
    {
     "data": {
      "image/png": "[encoded data removed]",
      "text/plain": [
       "<matplotlib.figure.Figure at 0x7f273013dba8>"
      ]
     },
     "metadata": {},
     "output_type": "display_data"
    }
   ],
   "source": [
    "# Plot summed error as a function of iteration\n",
    "plt.scatter(iterations, errors)"
   ]
  },
  {
   "cell_type": "code",
   "execution_count": 93,
   "metadata": {
    "collapsed": true
   },
   "outputs": [],
   "source": [
    "# Get rid of the 2nd dimension of 1 from the FloatTensor\n",
    "y_pred_resized = y_pred.resize(4732)\n",
    "\n",
    "\n",
    "# Make the FloatTensor into a numpy.array\n",
    "y_pred_array = y_pred_resized.data.numpy()\n",
    "\n",
    "\n",
    "# Make the numpy.array into a list\n",
    "y_pred_list = y_pred_array.tolist()"
   ]
  },
  {
   "cell_type": "code",
   "execution_count": 94,
   "metadata": {
    "collapsed": false
   },
   "outputs": [
    {
     "data": {
      "text/plain": [
       "[<matplotlib.lines.Line2D at 0x7f2730164d30>]"
      ]
     },
     "execution_count": 94,
     "metadata": {},
     "output_type": "execute_result"
    },
    {
     "data": {
      "image/png": "[encoded data removed]",
      "text/plain": [
       "<matplotlib.figure.Figure at 0x7f27301d3d68>"
      ]
     },
     "metadata": {},
     "output_type": "display_data"
    }
   ],
   "source": [
    "# Plot predictions versus training set outcomes\n",
    "plt.scatter(outcomes_list, y_pred_list)\n",
    "\n",
    "axes = plt.gca()\n",
    "\n",
    "axes.set_xlim([-2, 4])\n",
    "\n",
    "axes.set_ylim([-2, 4])\n",
    "\n",
    "plt.plot([-2, 4], [-2, 4], 'k-', lw=2)"
   ]
  },
  {
   "cell_type": "markdown",
   "metadata": {},
   "source": [
    "### Round 5.1: Validation Set Performance"
   ]
  },
  {
   "cell_type": "code",
   "execution_count": 95,
   "metadata": {
    "collapsed": true
   },
   "outputs": [],
   "source": [
    "# Have to make a new model and give it the train_model parameters to fix structure problem\n",
    "dim_corrected_model = torch.nn.Sequential(torch.nn.Linear(21, 14),\n",
    "                                          torch.nn.ReLU(),\n",
    "                                          torch.nn.Linear(14, 9),\n",
    "                                          torch.nn.ReLU(),\n",
    "                                          torch.nn.Linear(9, 6),\n",
    "                                          torch.nn.ReLU(),\n",
    "                                          torch.nn.Linear(6, 4),\n",
    "                                          torch.nn.ReLU(),\n",
    "                                          torch.nn.Linear(4, 3),\n",
    "                                          torch.nn.ReLU(),\n",
    "                                          torch.nn.Linear(3, 1))\n",
    "\n",
    "\n",
    "# Give the new model the old model's parameters\n",
    "dim_corrected_model[(0)].weight = model[(0)].weight\n",
    "dim_corrected_model[(2)].weight = model[(2)].weight\n",
    "dim_corrected_model[(4)].weight = model[(4)].weight\n",
    "dim_corrected_model[(6)].weight = model[(6)].weight\n",
    "dim_corrected_model[(8)].weight = model[(8)].weight\n",
    "dim_corrected_model[(10)].weight = model[(10)].weight"
   ]
  },
  {
   "cell_type": "code",
   "execution_count": 96,
   "metadata": {
    "collapsed": false
   },
   "outputs": [
    {
     "data": {
      "text/plain": [
       "Variable containing:\n",
       " 6823.8555\n",
       "[torch.FloatTensor of size 1]"
      ]
     },
     "execution_count": 96,
     "metadata": {},
     "output_type": "execute_result"
    }
   ],
   "source": [
    "# Get the validation set predictions\n",
    "y_valid_pred = dim_corrected_model(valid_predictors_Variable)\n",
    "\n",
    "\n",
    "# Print the loss\n",
    "loss_fn(y_valid_pred,\n",
    "        valid_outcomes_Variable)"
   ]
  },
  {
   "cell_type": "code",
   "execution_count": 97,
   "metadata": {
    "collapsed": false
   },
   "outputs": [],
   "source": [
    "# Get rid of the 2nd dimension of 1 from the FloatTensor\n",
    "y_valid_pred_resized = y_valid_pred.resize(1619)\n",
    "\n",
    "\n",
    "# Make the FloatTensor into a numpy.array\n",
    "y_valid_pred_array = y_valid_pred_resized.data.numpy()\n",
    "\n",
    "\n",
    "# Make the numpy.array into a list\n",
    "y_valid_pred_list = y_valid_pred_array.tolist()"
   ]
  },
  {
   "cell_type": "code",
   "execution_count": 98,
   "metadata": {
    "collapsed": false
   },
   "outputs": [
    {
     "data": {
      "text/plain": [
       "[<matplotlib.lines.Line2D at 0x7f2728e769b0>]"
      ]
     },
     "execution_count": 98,
     "metadata": {},
     "output_type": "execute_result"
    },
    {
     "data": {
      "image/png": "[encoded data removed]",
      "text/plain": [
       "<matplotlib.figure.Figure at 0x7f2728e761d0>"
      ]
     },
     "metadata": {},
     "output_type": "display_data"
    }
   ],
   "source": [
    "# Plot new predictions versus new data outcomes\n",
    "plt.scatter(valid_outcomes_list, y_valid_pred_list)\n",
    "\n",
    "axes = plt.gca()\n",
    "\n",
    "axes.set_xlim([-2, 4])\n",
    "\n",
    "axes.set_ylim([-2, 4])\n",
    "\n",
    "plt.plot([-2, 4], [-2, 4], 'k-', lw=2)"
   ]
  },
  {
   "cell_type": "markdown",
   "metadata": {},
   "source": [
    "### Round 5.2: Test Set Performance"
   ]
  },
  {
   "cell_type": "code",
   "execution_count": 99,
   "metadata": {
    "collapsed": true
   },
   "outputs": [],
   "source": [
    "# Have to make a new model and give it the train_model parameters to fix structure problem\n",
    "dim_corrected_model_2 = torch.nn.Sequential(torch.nn.Linear(21, 14),\n",
    "                                            torch.nn.ReLU(),\n",
    "                                            torch.nn.Linear(14, 9),\n",
    "                                            torch.nn.ReLU(),\n",
    "                                            torch.nn.Linear(9, 6),\n",
    "                                            torch.nn.ReLU(),\n",
    "                                            torch.nn.Linear(6, 4),\n",
    "                                            torch.nn.ReLU(),\n",
    "                                            torch.nn.Linear(4, 3),\n",
    "                                            torch.nn.ReLU(),\n",
    "                                            torch.nn.Linear(3, 1))\n",
    "\n",
    "\n",
    "# Give the new model the old model's parameters\n",
    "dim_corrected_model_2[(0)].weight = model[(0)].weight\n",
    "dim_corrected_model_2[(2)].weight = model[(2)].weight\n",
    "dim_corrected_model_2[(4)].weight = model[(4)].weight\n",
    "dim_corrected_model_2[(6)].weight = model[(6)].weight\n",
    "dim_corrected_model_2[(8)].weight = model[(8)].weight\n",
    "dim_corrected_model_2[(10)].weight = model[(10)].weight"
   ]
  },
  {
   "cell_type": "code",
   "execution_count": 100,
   "metadata": {
    "collapsed": false
   },
   "outputs": [
    {
     "data": {
      "text/plain": [
       "Variable containing:\n",
       " 3066.1460\n",
       "[torch.FloatTensor of size 1]"
      ]
     },
     "execution_count": 100,
     "metadata": {},
     "output_type": "execute_result"
    }
   ],
   "source": [
    "# Get the validation set predictions\n",
    "y_test_pred = dim_corrected_model_2(test_predictors_Variable)\n",
    "\n",
    "\n",
    "# Print the loss\n",
    "loss_fn(y_test_pred,\n",
    "        test_outcomes_Variable)"
   ]
  },
  {
   "cell_type": "code",
   "execution_count": 101,
   "metadata": {
    "collapsed": true
   },
   "outputs": [],
   "source": [
    "# Get rid of the 2nd dimension of 1 from the FloatTensor\n",
    "y_test_pred_resized = y_test_pred.resize(1609)\n",
    "\n",
    "\n",
    "# Make the FloatTensor into a numpy.array\n",
    "y_test_pred_array = y_test_pred_resized.data.numpy()\n",
    "\n",
    "\n",
    "# Convert back to native units and scale\n",
    "y_test_pred_array = y_test_pred_array*5.735285 + 6.490682\n",
    "\n",
    "\n",
    "# Make the numpy.array into a list\n",
    "y_test_pred_list = y_test_pred_array.tolist()"
   ]
  },
  {
   "cell_type": "code",
   "execution_count": 102,
   "metadata": {
    "collapsed": false
   },
   "outputs": [
    {
     "data": {
      "text/plain": [
       "<matplotlib.text.Text at 0x7f2728cdd320>"
      ]
     },
     "execution_count": 102,
     "metadata": {},
     "output_type": "execute_result"
    },
    {
     "data": {
      "image/png": "[encoded data removed]",
      "text/plain": [
       "<matplotlib.figure.Figure at 0x7f2728de7be0>"
      ]
     },
     "metadata": {},
     "output_type": "display_data"
    }
   ],
   "source": [
    "# Plot new predictions versus new data outcomes\n",
    "\n",
    "plt.scatter(test_outcomes_list, y_test_pred_list)\n",
    "\n",
    "axes = plt.gca()\n",
    "\n",
    "axes.set_xlim([2, 23])\n",
    "\n",
    "axes.set_ylim([2, 23])\n",
    "\n",
    "axes.set_xticks([2, 5, 8, 11, 14, 17, 20, 23])\n",
    "\n",
    "axes.set_yticks([2, 5, 8, 11, 14, 17, 20, 23])\n",
    "\n",
    "plt.plot([2, 23], [2, 23], 'k-', lw=2)\n",
    "\n",
    "axes.set_xlabel(\"Actual Outcome (Log-Transformed US Dollars)\")\n",
    "\n",
    "axes.set_ylabel(\"Model Prediction (Log-Transformed US Dollars)\")\n",
    "\n",
    "axes.set_title(\"Model Performance\")"
   ]
  },
  {
   "cell_type": "code",
   "execution_count": 103,
   "metadata": {
    "collapsed": false
   },
   "outputs": [
    {
     "data": {
      "text/plain": [
       "Parameter containing:\n",
       "\n",
       "Columns 0 to 9 \n",
       " 0.1303  0.0083 -0.1740 -0.0310 -0.0034 -0.1195 -0.0689 -0.2011  0.0744 -0.1952\n",
       " 0.1683  0.0334 -0.2240 -0.2152  0.0072  0.0050 -0.1080  0.1146 -0.0188  0.1848\n",
       "-0.1398  0.0747  0.1830  0.2319  0.2405 -0.2800 -0.1212 -0.1296  0.0344  0.1405\n",
       "-0.0163  0.1171  0.0069 -0.0035  0.0310 -0.0621  0.1868 -0.1033 -0.0269  0.0132\n",
       " 0.0093  0.1980  0.0350 -0.0721 -0.1285 -0.1072 -0.1386  0.0771 -0.0996  0.1035\n",
       " 0.2698 -0.1194 -0.0744  0.1935  0.3890  0.0315  0.1369  0.1049  0.1392  0.1380\n",
       "-0.0573  0.0124 -0.0194 -0.1180 -0.0554  0.0330 -0.0183 -0.0336 -0.1753 -0.0812\n",
       " 0.0069 -0.0383 -0.1756 -0.1004 -0.0910  0.1423 -0.0508 -0.1134 -0.0870 -0.1081\n",
       " 0.1960 -0.0733 -0.1519 -0.1269  0.1629  0.0089  0.1794 -0.0459 -0.0070 -0.0881\n",
       "-0.1275 -0.0419 -0.0358 -0.1428 -0.1645 -0.1597 -0.0219 -0.1841  0.0370 -0.0686\n",
       "-0.1356  0.1329 -0.1171 -0.2571 -0.2427  0.1097  0.0228 -0.1017 -0.1710  0.0495\n",
       " 0.0933  0.2393 -0.0228  0.1985  0.2160  0.0224 -0.0854 -0.1531  0.0147 -0.1441\n",
       "-0.1295  0.0268  0.0507  0.1576  0.2146  0.1165 -0.0015 -0.0726  0.1051  0.1247\n",
       "-0.1645 -0.1460 -0.1343 -0.1688  0.0515 -0.1448 -0.0593  0.1924  0.2200  0.0461\n",
       "\n",
       "Columns 10 to 19 \n",
       "-0.0127  0.1177  0.1537  0.2007  0.0088  0.0070 -0.1890  0.2745  0.1856 -0.1157\n",
       "-0.0014  0.0816 -0.0116 -0.1145  0.1043  0.0287 -0.0123  0.0748  0.1483  0.1275\n",
       " 0.1728  0.0241  0.1360  0.0598  0.0284 -0.1174 -0.0619  0.0604 -0.0353  0.0625\n",
       "-0.1106 -0.0338  0.1183  0.1320 -0.0154 -0.0476  0.2574 -0.1024  0.0753 -0.0216\n",
       "-0.1407 -0.1233  0.0639  0.2000 -0.1195  0.0058  0.0026  0.1047 -0.0326 -0.0548\n",
       " 0.0476 -0.0233 -0.1056  0.0774  0.0830  0.0774  0.0569  0.0361 -0.0691 -0.0045\n",
       " 0.0352  0.2184 -0.1461 -0.1191  0.0234  0.2132  0.0958 -0.1345  0.2170 -0.1955\n",
       "-0.1469 -0.0090 -0.0879 -0.1918  0.0541 -0.0563  0.0523 -0.0937 -0.0577  0.0718\n",
       " 0.0738  0.0019  0.2561 -0.0167  0.1133 -0.0256 -0.0489 -0.0302  0.1835 -0.1862\n",
       " 0.2863  0.1788  0.1517  0.1450  0.1457 -0.0419 -0.0801  0.1235  0.1283  0.0444\n",
       " 0.1282  0.1123  0.0091 -0.1251  0.1929  0.1547 -0.1087 -0.1333 -0.0434  0.0076\n",
       "-0.1709  0.0434  0.0420 -0.1356  0.0047 -0.1070  0.0283  0.1836  0.0035  0.0295\n",
       "-0.1197  0.1228 -0.1223 -0.2035  0.1556  0.1133 -0.0104  0.0454  0.0274 -0.0246\n",
       " 0.1818  0.1838  0.1481 -0.0266 -0.0154  0.1304 -0.0707  0.1463 -0.1095  0.1670\n",
       "\n",
       "Columns 20 to 20 \n",
       "-0.0279\n",
       "-0.0626\n",
       "-0.0549\n",
       "-0.1694\n",
       "-0.0244\n",
       " 0.0589\n",
       "-0.0804\n",
       " 0.0629\n",
       "-0.1074\n",
       " 0.0137\n",
       "-0.2038\n",
       " 0.0959\n",
       "-0.0470\n",
       " 0.1134\n",
       "[torch.FloatTensor of size 14x21]"
      ]
     },
     "execution_count": 103,
     "metadata": {},
     "output_type": "execute_result"
    }
   ],
   "source": [
    "dim_corrected_model_2[(0)].weight"
   ]
  },
  {
   "cell_type": "code",
   "execution_count": 104,
   "metadata": {
    "collapsed": false
   },
   "outputs": [
    {
     "data": {
      "text/plain": [
       "Parameter containing:\n",
       "\n",
       "Columns 0 to 9 \n",
       "-0.0444 -0.0539  0.0683 -0.0513 -0.1215  0.1935 -0.1918  0.2379  0.1305 -0.0935\n",
       " 0.0462 -0.1010  0.4025  0.0147 -0.2522  0.3519  0.2051 -0.3072  0.2294 -0.1400\n",
       "-0.1990  0.1957  0.1446  0.0589  0.1527 -0.1194 -0.2534  0.0118 -0.2091 -0.2619\n",
       "-0.0494  0.1546  0.0693  0.1754  0.1510  0.1126  0.1105  0.1624  0.1662  0.0379\n",
       "-0.2729  0.0232  0.0674  0.0481  0.1261 -0.2443 -0.0512  0.0683 -0.2628  0.0023\n",
       " 0.2424  0.1902 -0.0005 -0.2053 -0.1047  0.1225  0.1838  0.1270  0.0093 -0.0284\n",
       "-0.1958 -0.1072  0.1137 -0.0506 -0.0875  0.1343  0.0148 -0.2234  0.1822 -0.2104\n",
       "-0.0956 -0.3249 -0.0904  0.0418  0.1901 -0.0461  0.0870  0.2029  0.1656  0.2896\n",
       " 0.2619  0.2076  0.2372 -0.0397  0.0210 -0.1721 -0.2319  0.1963  0.1992 -0.2306\n",
       "\n",
       "Columns 10 to 13 \n",
       " 0.2626  0.0389 -0.0857 -0.2249\n",
       "-0.2337  0.1286  0.0773  0.0085\n",
       " 0.1059  0.0598 -0.2627 -0.2235\n",
       " 0.3068  0.2292  0.0069 -0.1242\n",
       " 0.1669 -0.1723 -0.1923  0.2215\n",
       "-0.0028 -0.2620  0.1061  0.2634\n",
       " 0.2273  0.1397  0.1133  0.2045\n",
       "-0.0480 -0.2064  0.1947 -0.0355\n",
       " 0.1240 -0.1845 -0.1275 -0.1174\n",
       "[torch.FloatTensor of size 9x14]"
      ]
     },
     "execution_count": 104,
     "metadata": {},
     "output_type": "execute_result"
    }
   ],
   "source": [
    "dim_corrected_model_2[(2)].weight"
   ]
  },
  {
   "cell_type": "code",
   "execution_count": 105,
   "metadata": {
    "collapsed": false
   },
   "outputs": [
    {
     "data": {
      "text/plain": [
       "Parameter containing:\n",
       " 0.1857 -0.2423  0.1903  0.0624 -0.0337  0.2329 -0.1574 -0.0470  0.1326\n",
       " 0.0781  0.3685 -0.1670  0.3050 -0.2013  0.1480  0.2260 -0.3198 -0.0378\n",
       "-0.2706 -0.2422  0.0043  0.3177  0.1792 -0.3220  0.1323  0.3348 -0.0047\n",
       " 0.3070  0.2458 -0.0126 -0.2859  0.1650  0.2147  0.0525 -0.1783  0.1195\n",
       " 0.2193 -0.1652 -0.0388 -0.1969 -0.0514 -0.0556 -0.1585  0.0194  0.2200\n",
       " 0.0253 -0.0153 -0.2595 -0.2227  0.3045 -0.1269 -0.0354  0.3227  0.2895\n",
       "[torch.FloatTensor of size 6x9]"
      ]
     },
     "execution_count": 105,
     "metadata": {},
     "output_type": "execute_result"
    }
   ],
   "source": [
    "dim_corrected_model_2[(4)].weight"
   ]
  },
  {
   "cell_type": "code",
   "execution_count": 106,
   "metadata": {
    "collapsed": false
   },
   "outputs": [
    {
     "data": {
      "text/plain": [
       "Parameter containing:\n",
       " 0.4732 -0.4696  0.5924 -0.1804 -0.2503  0.3530\n",
       " 0.0880  0.0536  0.0069  0.3352 -0.1282  0.2163\n",
       " 0.3814  0.4280 -0.2027 -0.1649 -0.1096  0.3340\n",
       " 0.1473  0.1747  0.2482  0.2423 -0.3169 -0.3980\n",
       "[torch.FloatTensor of size 4x6]"
      ]
     },
     "execution_count": 106,
     "metadata": {},
     "output_type": "execute_result"
    }
   ],
   "source": [
    "dim_corrected_model_2[(6)].weight"
   ]
  },
  {
   "cell_type": "code",
   "execution_count": 107,
   "metadata": {
    "collapsed": false
   },
   "outputs": [
    {
     "data": {
      "text/plain": [
       "Parameter containing:\n",
       " 0.9839  0.2664 -0.1595 -0.1666\n",
       "-0.4568 -0.3055  0.3993  0.0909\n",
       " 0.3259 -0.2671  0.0200 -0.4493\n",
       "[torch.FloatTensor of size 3x4]"
      ]
     },
     "execution_count": 107,
     "metadata": {},
     "output_type": "execute_result"
    }
   ],
   "source": [
    "dim_corrected_model_2[(8)].weight"
   ]
  },
  {
   "cell_type": "code",
   "execution_count": 108,
   "metadata": {
    "collapsed": false
   },
   "outputs": [
    {
     "data": {
      "text/plain": [
       "Parameter containing:\n",
       "-0.9978 -0.4968 -0.3957\n",
       "[torch.FloatTensor of size 1x3]"
      ]
     },
     "execution_count": 108,
     "metadata": {},
     "output_type": "execute_result"
    }
   ],
   "source": [
    "dim_corrected_model_2[(10)].weight"
   ]
  },
  {
   "cell_type": "markdown",
   "metadata": {},
   "source": [
    "## Round 6: Six-Hidden-Layer Neural Network"
   ]
  },
  {
   "cell_type": "code",
   "execution_count": 109,
   "metadata": {
    "collapsed": true
   },
   "outputs": [],
   "source": [
    "# Make the torch Tensor into a PyTorch Variable for dependent variables\n",
    "outcomes_Variable = Variable(outcomes_Tensor)\n",
    "\n",
    "\n",
    "# ...for independent variables\n",
    "features_Variable = Variable(features_Tensor,\n",
    "                             requires_grad = False)"
   ]
  },
  {
   "cell_type": "code",
   "execution_count": 110,
   "metadata": {
    "collapsed": true
   },
   "outputs": [],
   "source": [
    "# Make the neural network\n",
    "model = torch.nn.Sequential(torch.nn.Linear(21, 14),\n",
    "                            torch.nn.ReLU(),\n",
    "                            torch.nn.Linear(14, 9),\n",
    "                            torch.nn.ReLU(),\n",
    "                            torch.nn.Linear(9, 6),\n",
    "                            torch.nn.ReLU(),\n",
    "                            torch.nn.Linear(6, 4),\n",
    "                            torch.nn.ReLU(),\n",
    "                            torch.nn.Linear(4, 3),\n",
    "                            torch.nn.ReLU(),\n",
    "                            torch.nn.Linear(3, 2),\n",
    "                            torch.nn.ReLU(),\n",
    "                            torch.nn.Linear(2, 1))"
   ]
  },
  {
   "cell_type": "code",
   "execution_count": 111,
   "metadata": {
    "collapsed": true
   },
   "outputs": [],
   "source": [
    "# To add errors to\n",
    "errors = []\n",
    "\n",
    "\n",
    "# Set the learning rate\n",
    "learning_rate = 5e-6\n",
    "\n",
    "\n",
    "# Train the neural network\n",
    "for t in range(10000):\n",
    "    \n",
    "    # Get the current predictions\n",
    "    y_pred = model(features_Variable)\n",
    "    \n",
    "    # Compute and append current summed errors\n",
    "    loss = loss_fn(y_pred, outcomes_Variable)\n",
    "    errors.append(loss.data[0])\n",
    "    \n",
    "    # Zero the gradients before running the backward pass.\n",
    "    model.zero_grad()\n",
    "    \n",
    "    # Backward pass: compute gradient of the loss with respect to all the learnable Variables\n",
    "    loss.backward()\n",
    "    \n",
    "    # Update the weights using gradient descent\n",
    "    for param in model.parameters():\n",
    "        param.data -= learning_rate * param.grad.data"
   ]
  },
  {
   "cell_type": "code",
   "execution_count": 112,
   "metadata": {
    "collapsed": false
   },
   "outputs": [
    {
     "data": {
      "text/plain": [
       "<matplotlib.collections.PathCollection at 0x7f2728c1bf28>"
      ]
     },
     "execution_count": 112,
     "metadata": {},
     "output_type": "execute_result"
    },
    {
     "data": {
      "image/png": "[encoded data removed]",
      "text/plain": [
       "<matplotlib.figure.Figure at 0x7f2728ec65f8>"
      ]
     },
     "metadata": {},
     "output_type": "display_data"
    }
   ],
   "source": [
    "# Plot summed error as a function of iteration\n",
    "plt.scatter(iterations, errors)"
   ]
  },
  {
   "cell_type": "code",
   "execution_count": 113,
   "metadata": {
    "collapsed": true
   },
   "outputs": [],
   "source": [
    "# Get rid of the 2nd dimension of 1 from the FloatTensor\n",
    "y_pred_resized = y_pred.resize(4732)\n",
    "\n",
    "\n",
    "# Make the FloatTensor into a numpy.array\n",
    "y_pred_array = y_pred_resized.data.numpy()\n",
    "\n",
    "\n",
    "# Make the numpy.array into a list\n",
    "y_pred_list = y_pred_array.tolist()"
   ]
  },
  {
   "cell_type": "code",
   "execution_count": 114,
   "metadata": {
    "collapsed": false
   },
   "outputs": [
    {
     "data": {
      "text/plain": [
       "[<matplotlib.lines.Line2D at 0x7f2728c5c1d0>]"
      ]
     },
     "execution_count": 114,
     "metadata": {},
     "output_type": "execute_result"
    },
    {
     "data": {
      "image/png": "[encoded data removed]",
      "text/plain": [
       "<matplotlib.figure.Figure at 0x7f2728c5c240>"
      ]
     },
     "metadata": {},
     "output_type": "display_data"
    }
   ],
   "source": [
    "# Plot predictions versus training set outcomes\n",
    "plt.scatter(outcomes_list, y_pred_list)\n",
    "\n",
    "axes = plt.gca()\n",
    "\n",
    "axes.set_xlim([-2, 4])\n",
    "\n",
    "axes.set_ylim([-2, 4])\n",
    "\n",
    "plt.plot([-2, 4], [-2, 4], 'k-', lw=2)"
   ]
  },
  {
   "cell_type": "markdown",
   "metadata": {},
   "source": [
    "### Round 6.1: Validation Set Performance"
   ]
  },
  {
   "cell_type": "code",
   "execution_count": 115,
   "metadata": {
    "collapsed": true
   },
   "outputs": [],
   "source": [
    "# Have to make a new model and give it the train_model parameters to fix structure problem\n",
    "dim_corrected_model = torch.nn.Sequential(torch.nn.Linear(21, 14),\n",
    "                                          torch.nn.ReLU(),\n",
    "                                          torch.nn.Linear(14, 9),\n",
    "                                          torch.nn.ReLU(),\n",
    "                                          torch.nn.Linear(9, 6),\n",
    "                                          torch.nn.ReLU(),\n",
    "                                          torch.nn.Linear(6, 4),\n",
    "                                          torch.nn.ReLU(),\n",
    "                                          torch.nn.Linear(4, 3),\n",
    "                                          torch.nn.ReLU(),\n",
    "                                          torch.nn.Linear(3, 2),\n",
    "                                          torch.nn.ReLU(),\n",
    "                                          torch.nn.Linear(2, 1))\n",
    "\n",
    "\n",
    "# Give the new model the old model's parameters\n",
    "dim_corrected_model[(0)].weight = model[(0)].weight\n",
    "dim_corrected_model[(2)].weight = model[(2)].weight\n",
    "dim_corrected_model[(4)].weight = model[(4)].weight\n",
    "dim_corrected_model[(6)].weight = model[(6)].weight\n",
    "dim_corrected_model[(8)].weight = model[(8)].weight\n",
    "dim_corrected_model[(10)].weight = model[(10)].weight\n",
    "dim_corrected_model[(12)].weight = model[(12)].weight"
   ]
  },
  {
   "cell_type": "code",
   "execution_count": 116,
   "metadata": {
    "collapsed": false
   },
   "outputs": [
    {
     "data": {
      "text/plain": [
       "Variable containing:\n",
       " 265.7757\n",
       "[torch.FloatTensor of size 1]"
      ]
     },
     "execution_count": 116,
     "metadata": {},
     "output_type": "execute_result"
    }
   ],
   "source": [
    "# Get the validation set predictions\n",
    "y_valid_pred = dim_corrected_model(valid_predictors_Variable)\n",
    "\n",
    "\n",
    "# Print the loss\n",
    "loss_fn(y_valid_pred,\n",
    "        valid_outcomes_Variable)"
   ]
  },
  {
   "cell_type": "code",
   "execution_count": 117,
   "metadata": {
    "collapsed": true
   },
   "outputs": [],
   "source": [
    "# Get rid of the 2nd dimension of 1 from the FloatTensor\n",
    "y_valid_pred_resized = y_valid_pred.resize(1619)\n",
    "\n",
    "\n",
    "# Make the FloatTensor into a numpy.array\n",
    "y_valid_pred_array = y_valid_pred_resized.data.numpy()\n",
    "\n",
    "\n",
    "# Make the numpy.array into a list\n",
    "y_valid_pred_list = y_valid_pred_array.tolist()"
   ]
  },
  {
   "cell_type": "code",
   "execution_count": 118,
   "metadata": {
    "collapsed": false
   },
   "outputs": [
    {
     "data": {
      "text/plain": [
       "[<matplotlib.lines.Line2D at 0x7f2728b8d630>]"
      ]
     },
     "execution_count": 118,
     "metadata": {},
     "output_type": "execute_result"
    },
    {
     "data": {
      "image/png": "[encoded data removed]",
      "text/plain": [
       "<matplotlib.figure.Figure at 0x7f2728b8d9e8>"
      ]
     },
     "metadata": {},
     "output_type": "display_data"
    }
   ],
   "source": [
    "# Plot new predictions versus new data outcomes\n",
    "plt.scatter(valid_outcomes_list, y_valid_pred_list)\n",
    "\n",
    "axes = plt.gca()\n",
    "\n",
    "axes.set_xlim([-2, 4])\n",
    "\n",
    "axes.set_ylim([-2, 4])\n",
    "\n",
    "plt.plot([-2, 4], [-2, 4], 'k-', lw=2)"
   ]
  },
  {
   "cell_type": "markdown",
   "metadata": {},
   "source": [
    "### Round 6.2: Test Set Performance"
   ]
  },
  {
   "cell_type": "code",
   "execution_count": 119,
   "metadata": {
    "collapsed": true
   },
   "outputs": [],
   "source": [
    "# Have to make a new model and give it the train_model parameters to fix structure problem\n",
    "dim_corrected_model_2 = torch.nn.Sequential(torch.nn.Linear(21, 14),\n",
    "                                            torch.nn.ReLU(),\n",
    "                                            torch.nn.Linear(14, 9),\n",
    "                                            torch.nn.ReLU(),\n",
    "                                            torch.nn.Linear(9, 6),\n",
    "                                            torch.nn.ReLU(),\n",
    "                                            torch.nn.Linear(6, 4),\n",
    "                                            torch.nn.ReLU(),\n",
    "                                            torch.nn.Linear(4, 3),\n",
    "                                            torch.nn.ReLU(),\n",
    "                                            torch.nn.Linear(3, 2),\n",
    "                                            torch.nn.ReLU(),\n",
    "                                            torch.nn.Linear(2, 1))\n",
    "\n",
    "\n",
    "# Give the new model the old model's parameters\n",
    "dim_corrected_model_2[(0)].weight = model[(0)].weight\n",
    "dim_corrected_model_2[(2)].weight = model[(2)].weight\n",
    "dim_corrected_model_2[(4)].weight = model[(4)].weight\n",
    "dim_corrected_model_2[(6)].weight = model[(6)].weight\n",
    "dim_corrected_model_2[(8)].weight = model[(8)].weight\n",
    "dim_corrected_model_2[(10)].weight = model[(10)].weight\n",
    "dim_corrected_model_2[(12)].weight = model[(12)].weight"
   ]
  },
  {
   "cell_type": "code",
   "execution_count": 120,
   "metadata": {
    "collapsed": false
   },
   "outputs": [
    {
     "data": {
      "text/plain": [
       "Variable containing:\n",
       " 888.8100\n",
       "[torch.FloatTensor of size 1]"
      ]
     },
     "execution_count": 120,
     "metadata": {},
     "output_type": "execute_result"
    }
   ],
   "source": [
    "# Get the validation set predictions\n",
    "y_test_pred = dim_corrected_model_2(test_predictors_Variable)\n",
    "\n",
    "\n",
    "# Print the loss\n",
    "loss_fn(y_test_pred,\n",
    "        test_outcomes_Variable)"
   ]
  },
  {
   "cell_type": "code",
   "execution_count": 121,
   "metadata": {
    "collapsed": true
   },
   "outputs": [],
   "source": [
    "# Get rid of the 2nd dimension of 1 from the FloatTensor\n",
    "y_test_pred_resized = y_test_pred.resize(1609)\n",
    "\n",
    "\n",
    "# Make the FloatTensor into a numpy.array\n",
    "y_test_pred_array = y_test_pred_resized.data.numpy()\n",
    "\n",
    "\n",
    "# Convert back to native units and scale\n",
    "y_test_pred_array = y_test_pred_array*5.735285 + 6.490682\n",
    "\n",
    "\n",
    "# Make the numpy.array into a list\n",
    "y_test_pred_list = y_test_pred_array.tolist()"
   ]
  },
  {
   "cell_type": "code",
   "execution_count": 122,
   "metadata": {
    "collapsed": false
   },
   "outputs": [
    {
     "data": {
      "text/plain": [
       "<matplotlib.text.Text at 0x7f2728a9e0f0>"
      ]
     },
     "execution_count": 122,
     "metadata": {},
     "output_type": "execute_result"
    },
    {
     "data": {
      "image/png": "[encoded data removed]",
      "text/plain": [
       "<matplotlib.figure.Figure at 0x7f2728daa160>"
      ]
     },
     "metadata": {},
     "output_type": "display_data"
    }
   ],
   "source": [
    "# Plot new predictions versus new data outcomes\n",
    "\n",
    "plt.scatter(test_outcomes_list, y_test_pred_list)\n",
    "\n",
    "axes = plt.gca()\n",
    "\n",
    "axes.set_xlim([2, 23])\n",
    "\n",
    "axes.set_ylim([2, 23])\n",
    "\n",
    "axes.set_xticks([2, 5, 8, 11, 14, 17, 20, 23])\n",
    "\n",
    "axes.set_yticks([2, 5, 8, 11, 14, 17, 20, 23])\n",
    "\n",
    "plt.plot([2, 23], [2, 23], 'k-', lw=2)\n",
    "\n",
    "axes.set_xlabel(\"Actual Outcome (Log-Transformed US Dollars)\")\n",
    "\n",
    "axes.set_ylabel(\"Model Prediction (Log-Transformed US Dollars)\")\n",
    "\n",
    "axes.set_title(\"Model Performance\")"
   ]
  },
  {
   "cell_type": "code",
   "execution_count": 123,
   "metadata": {
    "collapsed": false
   },
   "outputs": [
    {
     "data": {
      "text/plain": [
       "Parameter containing:\n",
       "\n",
       "Columns 0 to 9 \n",
       " 0.1430  0.0787  0.0698 -0.1883 -0.1909 -0.0686  0.0378 -0.1718  0.1719 -0.2162\n",
       "-0.0628  0.1864  0.0421  0.0417  0.0163  0.1511  0.1437  0.2107 -0.1259  0.0577\n",
       "-0.0375  0.1865  0.0364  0.0917 -0.1109  0.1084 -0.0805 -0.2177 -0.1217  0.1202\n",
       "-0.1058 -0.0143 -0.0183  0.1648  0.0650 -0.0563 -0.0994  0.0656  0.0825 -0.1331\n",
       "-0.0819  0.1177  0.1301  0.1486  0.1215  0.1297  0.1228 -0.0315  0.0664  0.2035\n",
       " 0.2048 -0.0955 -0.1485  0.1123  0.0812 -0.2012 -0.0711  0.0655  0.1508  0.1607\n",
       " 0.1478  0.0460 -0.0710 -0.0415 -0.0628  0.1732  0.1287  0.1951 -0.1861 -0.1415\n",
       "-0.0360  0.2096 -0.0839  0.1198 -0.1067  0.1255 -0.0556 -0.0246  0.0379  0.0485\n",
       " 0.1290 -0.1655  0.1444 -0.0612 -0.0122 -0.0069 -0.2114  0.2150  0.0944  0.0522\n",
       " 0.1616  0.1647  0.0451 -0.0488 -0.1359 -0.0687  0.0858  0.0680  0.0813 -0.1577\n",
       "-0.1645 -0.0527  0.1216  0.0188 -0.1241 -0.0145 -0.1294  0.1800  0.1197  0.0197\n",
       "-0.0852 -0.1601  0.1240  0.0878 -0.0294  0.0570 -0.0123 -0.2076 -0.0803  0.1991\n",
       " 0.0583  0.1931 -0.0885 -0.1452 -0.0180 -0.0241  0.1834  0.0775 -0.2000 -0.1489\n",
       " 0.0700 -0.2109 -0.1161  0.0861 -0.1571 -0.0588 -0.1458  0.1751  0.2146  0.1918\n",
       "\n",
       "Columns 10 to 19 \n",
       " 0.1274  0.0158  0.2075  0.0709  0.0137  0.0596 -0.0558 -0.0758  0.1600 -0.1164\n",
       " 0.1369  0.2177  0.1518  0.1610 -0.0813  0.1615  0.1160 -0.0553  0.1447 -0.0429\n",
       " 0.1332  0.0973  0.1472  0.2088 -0.0332  0.0974 -0.2155 -0.1703  0.1090 -0.0129\n",
       " 0.0981  0.0577 -0.0081 -0.1117 -0.1298  0.1222 -0.1437  0.0188 -0.1080  0.0149\n",
       " 0.0367  0.1439 -0.1410  0.0552  0.1559  0.0182  0.1076 -0.0448  0.1102  0.0556\n",
       " 0.1245  0.1186 -0.1058  0.2079  0.1493 -0.1408 -0.1743 -0.1625 -0.1034  0.1326\n",
       " 0.1030 -0.1016 -0.0808 -0.1075 -0.0076  0.0784 -0.0603  0.0954  0.1380 -0.0769\n",
       "-0.0751 -0.2089  0.0220  0.0493 -0.0441  0.2044  0.0302 -0.1514 -0.1170 -0.0778\n",
       " 0.1889  0.0149 -0.1088 -0.0183 -0.1742 -0.0333  0.0675 -0.0788  0.0152  0.0822\n",
       " 0.2034  0.0018 -0.1367  0.1587 -0.1301 -0.1719  0.0224 -0.0354  0.0986 -0.0276\n",
       "-0.0673 -0.1079 -0.0808  0.0934 -0.1310  0.1657 -0.0204  0.0486 -0.0271 -0.0038\n",
       " 0.1365 -0.0513 -0.0366  0.2047  0.1308  0.2050  0.1410 -0.0017 -0.1413  0.2080\n",
       " 0.0337  0.0318 -0.0359  0.0989  0.0900 -0.1131  0.1709 -0.0906  0.1946 -0.0403\n",
       " 0.0520 -0.1756  0.0293 -0.1077  0.1966  0.0418 -0.0394 -0.0931 -0.1695 -0.1164\n",
       "\n",
       "Columns 20 to 20 \n",
       "-0.1917\n",
       "-0.0678\n",
       " 0.0265\n",
       "-0.0056\n",
       " 0.2037\n",
       " 0.0111\n",
       " 0.1370\n",
       "-0.1471\n",
       " 0.0982\n",
       "-0.0127\n",
       "-0.2101\n",
       " 0.1693\n",
       "-0.1357\n",
       " 0.1640\n",
       "[torch.FloatTensor of size 14x21]"
      ]
     },
     "execution_count": 123,
     "metadata": {},
     "output_type": "execute_result"
    }
   ],
   "source": [
    "dim_corrected_model_2[(0)].weight"
   ]
  },
  {
   "cell_type": "code",
   "execution_count": 124,
   "metadata": {
    "collapsed": false
   },
   "outputs": [
    {
     "data": {
      "text/plain": [
       "Parameter containing:\n",
       "\n",
       "Columns 0 to 9 \n",
       " 0.0206 -0.1393 -0.1712 -0.1500  0.2173  0.0681  0.1475 -0.0885  0.2328 -0.2666\n",
       " 0.2508 -0.2231 -0.0689 -0.2158 -0.1589 -0.2618 -0.0141  0.1757  0.1887  0.1159\n",
       "-0.1482 -0.2471  0.1631 -0.0201  0.2645 -0.1320  0.0091  0.1666  0.0155  0.1004\n",
       "-0.1013 -0.2430 -0.2032 -0.0185  0.0413  0.0807 -0.0395 -0.0008 -0.1574 -0.2635\n",
       "-0.0277 -0.2266  0.0897 -0.2005 -0.1906  0.0863  0.1465 -0.1874 -0.1738  0.1814\n",
       " 0.1810 -0.1070 -0.2621  0.1213 -0.2297  0.1983  0.1101 -0.1407 -0.2612 -0.1614\n",
       "-0.1612 -0.1340 -0.1674  0.0326  0.2060  0.2104 -0.1556 -0.1454  0.1982  0.0095\n",
       "-0.1799  0.0197 -0.2660 -0.1053 -0.0234 -0.1660  0.1452  0.1630 -0.1823  0.1852\n",
       " 0.0758  0.1826 -0.1498 -0.1296  0.2235 -0.0927 -0.1550  0.0181 -0.0196 -0.1732\n",
       "\n",
       "Columns 10 to 13 \n",
       "-0.1464  0.0202 -0.0674  0.2410\n",
       " 0.0489 -0.0189 -0.1713  0.1246\n",
       "-0.0849  0.2485 -0.1896  0.1107\n",
       "-0.0604 -0.1049  0.2385  0.0367\n",
       " 0.1404  0.2278 -0.0594  0.0879\n",
       " 0.0883  0.2370  0.2495 -0.0827\n",
       " 0.2005  0.1596  0.1339  0.0937\n",
       " 0.1561 -0.0475 -0.1951  0.1054\n",
       " 0.2391 -0.1233 -0.1602  0.1352\n",
       "[torch.FloatTensor of size 9x14]"
      ]
     },
     "execution_count": 124,
     "metadata": {},
     "output_type": "execute_result"
    }
   ],
   "source": [
    "dim_corrected_model_2[(2)].weight"
   ]
  },
  {
   "cell_type": "code",
   "execution_count": 125,
   "metadata": {
    "collapsed": false
   },
   "outputs": [
    {
     "data": {
      "text/plain": [
       "Parameter containing:\n",
       " 0.1079  0.0353  0.0102  0.0145 -0.0467 -0.2929 -0.1975  0.0579  0.0203\n",
       " 0.1517  0.2233 -0.0291  0.1578 -0.0400  0.2287  0.1249 -0.1955  0.1421\n",
       "-0.2366  0.2166  0.3167 -0.2582 -0.3326 -0.0116  0.2809  0.1472 -0.2602\n",
       " 0.1226 -0.1903  0.1855  0.0339 -0.0615  0.3000 -0.1380 -0.2762 -0.2850\n",
       " 0.1670 -0.2119  0.0593  0.1177 -0.2523  0.1668 -0.1660 -0.1483  0.1810\n",
       " 0.1099  0.2698  0.2942 -0.0218  0.0500 -0.2419 -0.2534 -0.1031 -0.0963\n",
       "[torch.FloatTensor of size 6x9]"
      ]
     },
     "execution_count": 125,
     "metadata": {},
     "output_type": "execute_result"
    }
   ],
   "source": [
    "dim_corrected_model_2[(4)].weight"
   ]
  },
  {
   "cell_type": "code",
   "execution_count": 126,
   "metadata": {
    "collapsed": false
   },
   "outputs": [
    {
     "data": {
      "text/plain": [
       "Parameter containing:\n",
       " 0.2384  0.2015  0.2987  0.3617 -0.3904  0.3351\n",
       " 0.0245  0.3961  0.1005 -0.3847 -0.2511  0.4061\n",
       "-0.2877  0.1023 -0.2343 -0.2639 -0.0845  0.1166\n",
       "-0.1130 -0.4049  0.0848  0.3923  0.1521  0.2577\n",
       "[torch.FloatTensor of size 4x6]"
      ]
     },
     "execution_count": 126,
     "metadata": {},
     "output_type": "execute_result"
    }
   ],
   "source": [
    "dim_corrected_model_2[(6)].weight"
   ]
  },
  {
   "cell_type": "code",
   "execution_count": 127,
   "metadata": {
    "collapsed": false
   },
   "outputs": [
    {
     "data": {
      "text/plain": [
       "Parameter containing:\n",
       "-0.1161  0.3885 -0.1692  0.3629\n",
       " 0.0296  0.1306  0.3646 -0.3546\n",
       " 0.2528  0.1769  0.4656 -0.1361\n",
       "[torch.FloatTensor of size 3x4]"
      ]
     },
     "execution_count": 127,
     "metadata": {},
     "output_type": "execute_result"
    }
   ],
   "source": [
    "dim_corrected_model_2[(8)].weight"
   ]
  },
  {
   "cell_type": "code",
   "execution_count": 128,
   "metadata": {
    "collapsed": false
   },
   "outputs": [
    {
     "data": {
      "text/plain": [
       "Parameter containing:\n",
       "-0.0641 -0.1928 -0.0071\n",
       " 0.0870  0.0448  0.3979\n",
       "[torch.FloatTensor of size 2x3]"
      ]
     },
     "execution_count": 128,
     "metadata": {},
     "output_type": "execute_result"
    }
   ],
   "source": [
    "dim_corrected_model_2[(10)].weight"
   ]
  },
  {
   "cell_type": "code",
   "execution_count": 129,
   "metadata": {
    "collapsed": false
   },
   "outputs": [
    {
     "data": {
      "text/plain": [
       "Parameter containing:\n",
       "-0.1115 -0.0337\n",
       "[torch.FloatTensor of size 1x2]"
      ]
     },
     "execution_count": 129,
     "metadata": {},
     "output_type": "execute_result"
    }
   ],
   "source": [
    "dim_corrected_model_2[(12)].weight"
   ]
  },
  {
   "cell_type": "markdown",
   "metadata": {},
   "source": [
    "## Round 7: Linear Regression"
   ]
  },
  {
   "cell_type": "code",
   "execution_count": 130,
   "metadata": {
    "collapsed": true
   },
   "outputs": [],
   "source": [
    "# Make the torch Tensor into a PyTorch Variable for dependent variables\n",
    "outcomes_Variable = Variable(outcomes_Tensor)\n",
    "\n",
    "\n",
    "# ...for independent variables\n",
    "features_Variable = Variable(features_Tensor,\n",
    "                             requires_grad = False)"
   ]
  },
  {
   "cell_type": "code",
   "execution_count": 131,
   "metadata": {
    "collapsed": true
   },
   "outputs": [],
   "source": [
    "# Make the neural network - really a regression\n",
    "model = torch.nn.Sequential(torch.nn.Linear(21, 1))"
   ]
  },
  {
   "cell_type": "code",
   "execution_count": 132,
   "metadata": {
    "collapsed": false
   },
   "outputs": [],
   "source": [
    "# To add errors to\n",
    "errors = []\n",
    "\n",
    "\n",
    "# Set the learning rate\n",
    "learning_rate = 4e-6\n",
    "\n",
    "\n",
    "# Train the neural network\n",
    "for t in range(10000):\n",
    "    \n",
    "    # Get the current predictions\n",
    "    y_pred = model(features_Variable)\n",
    "    \n",
    "    # Compute and append current summed errors\n",
    "    loss = loss_fn(y_pred, outcomes_Variable)\n",
    "    errors.append(loss.data[0])\n",
    "    \n",
    "    # Zero the gradients before running the backward pass.\n",
    "    model.zero_grad()\n",
    "    \n",
    "    # Backward pass: compute gradient of the loss with respect to all the learnable Variables\n",
    "    loss.backward()\n",
    "    \n",
    "    # Update the weights using gradient descent\n",
    "    for param in model.parameters():\n",
    "        param.data -= learning_rate * param.grad.data"
   ]
  },
  {
   "cell_type": "code",
   "execution_count": 133,
   "metadata": {
    "collapsed": false
   },
   "outputs": [
    {
     "data": {
      "text/plain": [
       "<matplotlib.collections.PathCollection at 0x7f27289d7ef0>"
      ]
     },
     "execution_count": 133,
     "metadata": {},
     "output_type": "execute_result"
    },
    {
     "data": {
      "image/png": "[encoded data removed]",
      "text/plain": [
       "<matplotlib.figure.Figure at 0x7f2728a9e4e0>"
      ]
     },
     "metadata": {},
     "output_type": "display_data"
    }
   ],
   "source": [
    "# Plot summed error as a function of iteration\n",
    "plt.scatter(iterations, errors)"
   ]
  },
  {
   "cell_type": "code",
   "execution_count": 134,
   "metadata": {
    "collapsed": false
   },
   "outputs": [],
   "source": [
    "# Get rid of the 2nd dimension of 1 from the FloatTensor\n",
    "y_pred_resized = y_pred.resize(4732)\n",
    "\n",
    "\n",
    "# Make the FloatTensor into a numpy.array\n",
    "y_pred_array = y_pred_resized.data.numpy()\n",
    "\n",
    "\n",
    "# Make the numpy.array into a list\n",
    "y_pred_list = y_pred_array.tolist()"
   ]
  },
  {
   "cell_type": "code",
   "execution_count": 135,
   "metadata": {
    "collapsed": false
   },
   "outputs": [
    {
     "data": {
      "text/plain": [
       "[<matplotlib.lines.Line2D at 0x7f2728a60470>]"
      ]
     },
     "execution_count": 135,
     "metadata": {},
     "output_type": "execute_result"
    },
    {
     "data": {
      "image/png": "[encoded data removed]",
      "text/plain": [
       "<matplotlib.figure.Figure at 0x7f273118c470>"
      ]
     },
     "metadata": {},
     "output_type": "display_data"
    }
   ],
   "source": [
    "# Plot predictions versus training set outcomes\n",
    "plt.scatter(outcomes_list, y_pred_list)\n",
    "\n",
    "axes = plt.gca()\n",
    "\n",
    "axes.set_xlim([-2, 4])\n",
    "\n",
    "axes.set_ylim([-2, 4])\n",
    "\n",
    "plt.plot([-2, 4], [-2, 4], 'k-', lw=2)"
   ]
  },
  {
   "cell_type": "markdown",
   "metadata": {
    "collapsed": false
   },
   "source": [
    "### Round 7.1: Validation Set Performance"
   ]
  },
  {
   "cell_type": "code",
   "execution_count": 136,
   "metadata": {
    "collapsed": false
   },
   "outputs": [],
   "source": [
    "# Have to make a new model and give it the train_model parameters to fix structure problem\n",
    "dim_corrected_model = torch.nn.Sequential(torch.nn.Linear(21, 1))\n",
    "\n",
    "\n",
    "# Give the new model the old model's parameters\n",
    "dim_corrected_model[(0)].weight = model[(0)].weight"
   ]
  },
  {
   "cell_type": "code",
   "execution_count": 137,
   "metadata": {
    "collapsed": false
   },
   "outputs": [
    {
     "data": {
      "text/plain": [
       "Variable containing:\n",
       " 562.0555\n",
       "[torch.FloatTensor of size 1]"
      ]
     },
     "execution_count": 137,
     "metadata": {},
     "output_type": "execute_result"
    }
   ],
   "source": [
    "# Get the validation set predictions\n",
    "y_valid_pred = dim_corrected_model(valid_predictors_Variable)\n",
    "\n",
    "\n",
    "# Print the loss\n",
    "loss_fn(y_valid_pred,\n",
    "        valid_outcomes_Variable)"
   ]
  },
  {
   "cell_type": "code",
   "execution_count": 138,
   "metadata": {
    "collapsed": true
   },
   "outputs": [],
   "source": [
    "# Get rid of the 2nd dimension of 1 from the FloatTensor\n",
    "y_valid_pred_resized = y_valid_pred.resize(1619)\n",
    "\n",
    "\n",
    "# Make the FloatTensor into a numpy.array\n",
    "y_valid_pred_array = y_valid_pred_resized.data.numpy()\n",
    "\n",
    "\n",
    "# Make the numpy.array into a list\n",
    "y_valid_pred_list = y_valid_pred_array.tolist()"
   ]
  },
  {
   "cell_type": "code",
   "execution_count": 139,
   "metadata": {
    "collapsed": false
   },
   "outputs": [
    {
     "data": {
      "text/plain": [
       "[<matplotlib.lines.Line2D at 0x7f27288fbf98>]"
      ]
     },
     "execution_count": 139,
     "metadata": {},
     "output_type": "execute_result"
    },
    {
     "data": {
      "image/png": "[encoded data removed]",
      "text/plain": [
       "<matplotlib.figure.Figure at 0x7f2728c5c390>"
      ]
     },
     "metadata": {},
     "output_type": "display_data"
    }
   ],
   "source": [
    "# Plot new predictions versus new data outcomes\n",
    "plt.scatter(valid_outcomes_list, y_valid_pred_list)\n",
    "\n",
    "axes = plt.gca()\n",
    "\n",
    "axes.set_xlim([-2, 4])\n",
    "\n",
    "axes.set_ylim([-2, 4])\n",
    "\n",
    "plt.plot([-2, 4], [-2, 4], 'k-', lw=2)"
   ]
  },
  {
   "cell_type": "markdown",
   "metadata": {},
   "source": [
    "### Round 7.2: Test Set Performance"
   ]
  },
  {
   "cell_type": "code",
   "execution_count": 140,
   "metadata": {
    "collapsed": true
   },
   "outputs": [],
   "source": [
    "# Have to make a new model and give it the train_model parameters to fix structure problem\n",
    "dim_corrected_model_2 = torch.nn.Sequential(torch.nn.Linear(21, 1))\n",
    "\n",
    "\n",
    "# Give the new model the old model's parameters\n",
    "dim_corrected_model_2[(0)].weight = model[(0)].weight"
   ]
  },
  {
   "cell_type": "code",
   "execution_count": 141,
   "metadata": {
    "collapsed": false
   },
   "outputs": [
    {
     "data": {
      "text/plain": [
       "Variable containing:\n",
       " 593.9808\n",
       "[torch.FloatTensor of size 1]"
      ]
     },
     "execution_count": 141,
     "metadata": {},
     "output_type": "execute_result"
    }
   ],
   "source": [
    "# Get the validation set predictions\n",
    "y_test_pred = dim_corrected_model_2(test_predictors_Variable)\n",
    "\n",
    "\n",
    "# Print the loss\n",
    "loss_fn(y_test_pred,\n",
    "        test_outcomes_Variable)"
   ]
  },
  {
   "cell_type": "code",
   "execution_count": 142,
   "metadata": {
    "collapsed": true
   },
   "outputs": [],
   "source": [
    "# Get rid of the 2nd dimension of 1 from the FloatTensor\n",
    "y_test_pred_resized = y_test_pred.resize(1609)\n",
    "\n",
    "\n",
    "# Make the FloatTensor into a numpy.array\n",
    "y_test_pred_array = y_test_pred_resized.data.numpy()\n",
    "\n",
    "\n",
    "# Convert back to native units and scale\n",
    "y_test_pred_array = y_test_pred_array*5.735285 + 6.490682\n",
    "\n",
    "\n",
    "# Make the numpy.array into a list\n",
    "y_test_pred_list = y_test_pred_array.tolist()"
   ]
  },
  {
   "cell_type": "code",
   "execution_count": 143,
   "metadata": {
    "collapsed": false
   },
   "outputs": [
    {
     "data": {
      "text/plain": [
       "<matplotlib.text.Text at 0x7f272885e358>"
      ]
     },
     "execution_count": 143,
     "metadata": {},
     "output_type": "execute_result"
    },
    {
     "data": {
      "image/png": "[encoded data removed]",
      "text/plain": [
       "<matplotlib.figure.Figure at 0x7f27288902e8>"
      ]
     },
     "metadata": {},
     "output_type": "display_data"
    }
   ],
   "source": [
    "# Plot new predictions versus new data outcomes\n",
    "\n",
    "plt.scatter(test_outcomes_list, y_test_pred_list)\n",
    "\n",
    "axes = plt.gca()\n",
    "\n",
    "axes.set_xlim([2, 23])\n",
    "\n",
    "axes.set_ylim([2, 23])\n",
    "\n",
    "axes.set_xticks([2, 5, 8, 11, 14, 17, 20, 23])\n",
    "\n",
    "axes.set_yticks([2, 5, 8, 11, 14, 17, 20, 23])\n",
    "\n",
    "plt.plot([2, 23], [2, 23], 'k-', lw=2)\n",
    "\n",
    "axes.set_xlabel(\"Actual Outcome (Log-Transformed US Dollars)\")\n",
    "\n",
    "axes.set_ylabel(\"Model Prediction (Log-Transformed US Dollars)\")\n",
    "\n",
    "axes.set_title(\"Model Performance\")"
   ]
  },
  {
   "cell_type": "code",
   "execution_count": 144,
   "metadata": {
    "collapsed": false
   },
   "outputs": [
    {
     "data": {
      "text/plain": [
       "Parameter containing:\n",
       "\n",
       "Columns 0 to 9 \n",
       " 0.0311 -0.0016  0.0051  0.1184  0.1516 -0.0286  0.0044  0.0161  0.0487  0.0056\n",
       "\n",
       "Columns 10 to 19 \n",
       " 0.0373  0.0038  0.0071 -0.0127  0.0073 -0.0110 -0.0096  0.0160 -0.0054  0.0040\n",
       "\n",
       "Columns 20 to 20 \n",
       " 0.0051\n",
       "[torch.FloatTensor of size 1x21]"
      ]
     },
     "execution_count": 144,
     "metadata": {},
     "output_type": "execute_result"
    }
   ],
   "source": [
    "dim_corrected_model_2[(0)].weight"
   ]
  }
 ],
 "metadata": {
  "kernelspec": {
   "display_name": "Python 3",
   "language": "python",
   "name": "python3"
  },
  "language_info": {
   "codemirror_mode": {
    "name": "ipython",
    "version": 3
   },
   "file_extension": ".py",
   "mimetype": "text/x-python",
   "name": "python",
   "nbconvert_exporter": "python",
   "pygments_lexer": "ipython3",
   "version": "3.6.0"
  }
 },
 "nbformat": 4,
 "nbformat_minor": 2
}
