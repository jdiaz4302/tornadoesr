{
 "cells": [
  {
   "cell_type": "markdown",
   "metadata": {},
   "source": [
    "## Setup"
   ]
  },
  {
   "cell_type": "code",
   "execution_count": 1,
   "metadata": {
    "collapsed": true
   },
   "outputs": [],
   "source": [
    "# Packages\n",
    "import pandas as pd\n",
    "import torch\n",
    "from torch.autograd import Variable\n",
    "import numpy as np\n",
    "import matplotlib.pyplot as plt\n",
    "%matplotlib inline\n",
    "import pylab\n",
    "import math"
   ]
  },
  {
   "cell_type": "code",
   "execution_count": 2,
   "metadata": {
    "collapsed": false
   },
   "outputs": [
    {
     "name": "stdout",
     "output_type": "stream",
     "text": [
      "<class 'pandas.core.frame.DataFrame'>\n",
      "RangeIndex: 8270 entries, 0 to 8269\n",
      "Data columns (total 32 columns):\n",
      "DAMAGE_PROPERTY       8270 non-null float64\n",
      "DURATION_SECONDS      8270 non-null float64\n",
      "BEGIN_LAT             8270 non-null float64\n",
      "BEGIN_LON             8270 non-null float64\n",
      "TOR_LENGTH            8270 non-null float64\n",
      "TOR_WIDTH             8270 non-null float64\n",
      "YEAR                  8270 non-null float64\n",
      "OPEN_WATER_PROP       8270 non-null float64\n",
      "DEV_OPEN_PROP         8270 non-null float64\n",
      "DEV_LOW_PROP          8270 non-null float64\n",
      "DEV_MED_PROP          8270 non-null float64\n",
      "DEV_HIGH_PROP         8270 non-null float64\n",
      "DECID_FOREST_PROP     8270 non-null float64\n",
      "EVERGR_FOREST_PROP    8270 non-null float64\n",
      "MIXED_FOREST_PROP     8270 non-null float64\n",
      "SHRUB_SCRUB_PROP      8270 non-null float64\n",
      "GRASS_LAND_PROP       8270 non-null float64\n",
      "PASTURE_HAY_PROP      8270 non-null float64\n",
      "CULT_CROPS_PROP       8270 non-null float64\n",
      "WOOD_WETLAND_PROP     8270 non-null float64\n",
      "HERB_WETLAND_PROP     8270 non-null float64\n",
      "BARREN_LAND_PROP      8270 non-null float64\n",
      "INCOME                8270 non-null float64\n",
      "TOR_AREA              8270 non-null float64\n",
      "TOT_DEV_INT           8270 non-null float64\n",
      "TOT_WOOD_AREA         8270 non-null float64\n",
      "WOOD_DEV_INT          8270 non-null float64\n",
      "EXP_INC_AREA          8270 non-null float64\n",
      "DAY_OF_YEAR           8270 non-null float64\n",
      "MONTH                 8270 non-null float64\n",
      "BEGIN_TIME            8270 non-null float64\n",
      "STATE_RANK            8270 non-null float64\n",
      "dtypes: float64(32)\n",
      "memory usage: 2.0 MB\n"
     ]
    }
   ],
   "source": [
    "# Import data\n",
    "tor_df = pd.read_csv(\"/home/jeremy/github_tornadoesr/data/raw/tor_train_set_no_zeros_interact.csv\")\n",
    "\n",
    "\n",
    "# Quick inspection\n",
    "tor_df.info()"
   ]
  },
  {
   "cell_type": "code",
   "execution_count": 3,
   "metadata": {
    "collapsed": false
   },
   "outputs": [
    {
     "name": "stdout",
     "output_type": "stream",
     "text": [
      "<class 'pandas.core.frame.DataFrame'>\n",
      "RangeIndex: 8270 entries, 0 to 8269\n",
      "Data columns (total 1 columns):\n",
      "DAMAGE_PROPERTY    8270 non-null float64\n",
      "dtypes: float64(1)\n",
      "memory usage: 64.7 KB\n"
     ]
    }
   ],
   "source": [
    "# Seperating variables\n",
    "# The dependent variables\n",
    "tornado_outcomes = tor_df.iloc[:, [0]]\n",
    "\n",
    "\n",
    "# Quick inspection\n",
    "tornado_outcomes.info()"
   ]
  },
  {
   "cell_type": "code",
   "execution_count": 4,
   "metadata": {
    "collapsed": false
   },
   "outputs": [
    {
     "name": "stdout",
     "output_type": "stream",
     "text": [
      "<class 'pandas.core.frame.DataFrame'>\n",
      "RangeIndex: 8270 entries, 0 to 8269\n",
      "Data columns (total 31 columns):\n",
      "DURATION_SECONDS      8270 non-null float64\n",
      "BEGIN_LAT             8270 non-null float64\n",
      "BEGIN_LON             8270 non-null float64\n",
      "TOR_LENGTH            8270 non-null float64\n",
      "TOR_WIDTH             8270 non-null float64\n",
      "YEAR                  8270 non-null float64\n",
      "OPEN_WATER_PROP       8270 non-null float64\n",
      "DEV_OPEN_PROP         8270 non-null float64\n",
      "DEV_LOW_PROP          8270 non-null float64\n",
      "DEV_MED_PROP          8270 non-null float64\n",
      "DEV_HIGH_PROP         8270 non-null float64\n",
      "DECID_FOREST_PROP     8270 non-null float64\n",
      "EVERGR_FOREST_PROP    8270 non-null float64\n",
      "MIXED_FOREST_PROP     8270 non-null float64\n",
      "SHRUB_SCRUB_PROP      8270 non-null float64\n",
      "GRASS_LAND_PROP       8270 non-null float64\n",
      "PASTURE_HAY_PROP      8270 non-null float64\n",
      "CULT_CROPS_PROP       8270 non-null float64\n",
      "WOOD_WETLAND_PROP     8270 non-null float64\n",
      "HERB_WETLAND_PROP     8270 non-null float64\n",
      "BARREN_LAND_PROP      8270 non-null float64\n",
      "INCOME                8270 non-null float64\n",
      "TOR_AREA              8270 non-null float64\n",
      "TOT_DEV_INT           8270 non-null float64\n",
      "TOT_WOOD_AREA         8270 non-null float64\n",
      "WOOD_DEV_INT          8270 non-null float64\n",
      "EXP_INC_AREA          8270 non-null float64\n",
      "DAY_OF_YEAR           8270 non-null float64\n",
      "MONTH                 8270 non-null float64\n",
      "BEGIN_TIME            8270 non-null float64\n",
      "STATE_RANK            8270 non-null float64\n",
      "dtypes: float64(31)\n",
      "memory usage: 2.0 MB\n"
     ]
    }
   ],
   "source": [
    "# The independent variables\n",
    "tornado_features = tor_df.iloc[:, 1:]\n",
    "\n",
    "\n",
    "# Quick inspection\n",
    "tornado_features.info()"
   ]
  },
  {
   "cell_type": "code",
   "execution_count": 5,
   "metadata": {
    "collapsed": false
   },
   "outputs": [
    {
     "data": {
      "text/plain": [
       "\n",
       " 0.9112\n",
       " 0.0276\n",
       " 0.4114\n",
       "   ⋮    \n",
       "-0.1414\n",
       " 0.1555\n",
       " 0.6426\n",
       "[torch.DoubleTensor of size 8270x1]"
      ]
     },
     "execution_count": 5,
     "metadata": {},
     "output_type": "execute_result"
    }
   ],
   "source": [
    "# Make the dependent variables into a numpy array\n",
    "outcomes_array = tornado_outcomes.values\n",
    "\n",
    "\n",
    "# Makes the numpy array into a torch Tensor\n",
    "outcomes_Tensor = torch.from_numpy(outcomes_array)\n",
    "\n",
    "\n",
    "# Quick inspection\n",
    "outcomes_Tensor"
   ]
  },
  {
   "cell_type": "code",
   "execution_count": 6,
   "metadata": {
    "collapsed": false
   },
   "outputs": [
    {
     "data": {
      "text/plain": [
       "\n",
       " 1.1178e+00  1.0366e+00 -1.3721e+00  ...  -5.2109e-01  2.2727e-01  7.8470e-01\n",
       "-3.0203e-01  8.7119e-01  7.4927e-01  ...  -9.9253e-02  3.1779e-01  6.6004e-01\n",
       " 8.7468e-01 -3.0667e-02 -1.3753e+00  ...  -9.9253e-02  1.0128e+00 -1.1116e+00\n",
       "                ...                   ⋱                   ...                \n",
       "-3.0203e-01  1.4788e+00  3.3318e-01  ...  -9.9253e-02  6.1842e-01  8.4193e-01\n",
       " 1.2240e+00 -8.8898e-01 -8.8288e-01  ...  -9.9253e-02  1.1098e+00 -8.0717e-01\n",
       " 9.1277e-01 -5.7436e-01  6.9363e-01  ...  -5.2109e-01  1.0484e+00 -2.2743e+00\n",
       "[torch.DoubleTensor of size 8270x31]"
      ]
     },
     "execution_count": 6,
     "metadata": {},
     "output_type": "execute_result"
    }
   ],
   "source": [
    "# Make the independent variables into a numpy array\n",
    "features_array = tornado_features.values\n",
    "\n",
    "\n",
    "# Make the numpy array into a torch Tensor\n",
    "features_Tensor = torch.from_numpy(features_array)\n",
    "\n",
    "\n",
    "# Quick inspection\n",
    "features_Tensor"
   ]
  },
  {
   "cell_type": "markdown",
   "metadata": {},
   "source": [
    "### Convert DoubleTensor to FloatTensor"
   ]
  },
  {
   "cell_type": "code",
   "execution_count": 7,
   "metadata": {
    "collapsed": false
   },
   "outputs": [
    {
     "data": {
      "text/plain": [
       "\n",
       " 1.1178e+00  1.0366e+00 -1.3721e+00  ...  -5.2109e-01  2.2727e-01  7.8470e-01\n",
       "-3.0203e-01  8.7119e-01  7.4927e-01  ...  -9.9253e-02  3.1779e-01  6.6004e-01\n",
       " 8.7468e-01 -3.0667e-02 -1.3753e+00  ...  -9.9253e-02  1.0128e+00 -1.1116e+00\n",
       "                ...                   ⋱                   ...                \n",
       "-3.0203e-01  1.4788e+00  3.3318e-01  ...  -9.9253e-02  6.1842e-01  8.4193e-01\n",
       " 1.2240e+00 -8.8898e-01 -8.8288e-01  ...  -9.9253e-02  1.1098e+00 -8.0717e-01\n",
       " 9.1277e-01 -5.7436e-01  6.9363e-01  ...  -5.2109e-01  1.0484e+00 -2.2743e+00\n",
       "[torch.FloatTensor of size 8270x31]"
      ]
     },
     "execution_count": 7,
     "metadata": {},
     "output_type": "execute_result"
    }
   ],
   "source": [
    "# Changing dependent variables from a DoubleTensor to a FloatTensor\n",
    "outcomes_Tensor = outcomes_Tensor.float()\n",
    "\n",
    "\n",
    "# ...and for the independent variables\n",
    "features_Tensor = features_Tensor.float()\n",
    "\n",
    "\n",
    "# Quick check\n",
    "features_Tensor"
   ]
  },
  {
   "cell_type": "markdown",
   "metadata": {
    "collapsed": true
   },
   "source": [
    "## Round 1: One-Hidden-Layer Neural Network"
   ]
  },
  {
   "cell_type": "code",
   "execution_count": 8,
   "metadata": {
    "collapsed": false
   },
   "outputs": [],
   "source": [
    "# Make the torch Tensor into a PyTorch Variable for dependent variables\n",
    "outcomes_Variable = Variable(outcomes_Tensor)\n",
    "\n",
    "\n",
    "# ...for independent variables\n",
    "features_Variable = Variable(features_Tensor,\n",
    "                             requires_grad = False)"
   ]
  },
  {
   "cell_type": "code",
   "execution_count": 9,
   "metadata": {
    "collapsed": false
   },
   "outputs": [],
   "source": [
    "# Make the neural network\n",
    "model = torch.nn.Sequential(torch.nn.Linear(31, 21),\n",
    "                            torch.nn.ReLU(),\n",
    "                            torch.nn.Linear(21, 1))"
   ]
  },
  {
   "cell_type": "code",
   "execution_count": 10,
   "metadata": {
    "collapsed": true
   },
   "outputs": [],
   "source": [
    "# Set the loss function\n",
    "loss_fn = torch.nn.MSELoss(size_average=False)"
   ]
  },
  {
   "cell_type": "code",
   "execution_count": 11,
   "metadata": {
    "collapsed": false
   },
   "outputs": [],
   "source": [
    "# To add errors to\n",
    "errors = []\n",
    "\n",
    "\n",
    "# Set the learning rate\n",
    "learning_rate = 4e-6\n",
    "\n",
    "\n",
    "# Train the neural network\n",
    "for t in range(10000):\n",
    "    \n",
    "    # Get the current predictions\n",
    "    y_pred = model(features_Variable)\n",
    "    \n",
    "    # Compute and append current summed errors\n",
    "    loss = loss_fn(y_pred, outcomes_Variable)\n",
    "    errors.append(loss.data[0])\n",
    "    \n",
    "    # Zero the gradients before running the backward pass.\n",
    "    model.zero_grad()\n",
    "    \n",
    "    # Backward pass: compute gradient of the loss with respect to all the learnable Variables\n",
    "    loss.backward()\n",
    "    \n",
    "    # Update the weights using gradient descent\n",
    "    for param in model.parameters():\n",
    "        param.data -= learning_rate * param.grad.data"
   ]
  },
  {
   "cell_type": "code",
   "execution_count": 12,
   "metadata": {
    "collapsed": true
   },
   "outputs": [],
   "source": [
    "# Get the iterations\n",
    "iterations = list(range(0, 10000))"
   ]
  },
  {
   "cell_type": "code",
   "execution_count": 13,
   "metadata": {
    "collapsed": false
   },
   "outputs": [
    {
     "data": {
      "text/plain": [
       "<matplotlib.collections.PathCollection at 0x7f1c97553390>"
      ]
     },
     "execution_count": 13,
     "metadata": {},
     "output_type": "execute_result"
    },
    {
     "data": {
      "image/png": "[encoded data removed]",
      "text/plain": [
       "<matplotlib.figure.Figure at 0x7f1c900c09b0>"
      ]
     },
     "metadata": {},
     "output_type": "display_data"
    }
   ],
   "source": [
    "# Plot summed error as a function of iteration\n",
    "plt.scatter(iterations, errors)"
   ]
  },
  {
   "cell_type": "code",
   "execution_count": 14,
   "metadata": {
    "collapsed": false
   },
   "outputs": [],
   "source": [
    "# Get rid of the 2nd dimension of 1 from the FloatTensor\n",
    "y_pred_resized = y_pred.resize(8270)\n",
    "\n",
    "\n",
    "# Make the FloatTensor into a numpy.array\n",
    "y_pred_array = y_pred_resized.data.numpy()\n",
    "\n",
    "\n",
    "# Make the numpy.array into a list\n",
    "y_pred_list = y_pred_array.tolist()"
   ]
  },
  {
   "cell_type": "code",
   "execution_count": 15,
   "metadata": {
    "collapsed": false
   },
   "outputs": [],
   "source": [
    "# Get rid of the 2nd dimension of 1 from the FloatTensor\n",
    "outcomes_Variable_resized = outcomes_Variable.resize(8270)\n",
    "\n",
    "\n",
    "# Make the FloatTensor into a numpy.array\n",
    "outcomes_array = outcomes_Variable_resized.data.numpy()\n",
    "\n",
    "\n",
    "# Make the numpy.array into a list\n",
    "outcomes_list = outcomes_array.tolist()"
   ]
  },
  {
   "cell_type": "code",
   "execution_count": 16,
   "metadata": {
    "collapsed": false
   },
   "outputs": [
    {
     "data": {
      "text/plain": [
       "[<matplotlib.lines.Line2D at 0x7f1c3c7fd940>]"
      ]
     },
     "execution_count": 16,
     "metadata": {},
     "output_type": "execute_result"
    },
    {
     "data": {
      "image/png": "[encoded data removed]",
      "text/plain": [
       "<matplotlib.figure.Figure at 0x7f1c3c7fd630>"
      ]
     },
     "metadata": {},
     "output_type": "display_data"
    }
   ],
   "source": [
    "# Plot predictions versus training set outcomes\n",
    "plt.scatter(outcomes_list, y_pred_list)\n",
    "\n",
    "axes = plt.gca()\n",
    "\n",
    "axes.set_xlim([-2, 4])\n",
    "\n",
    "axes.set_ylim([-2, 4])\n",
    "\n",
    "plt.plot([-2, 4], [-2, 4], 'k-', lw=2)"
   ]
  },
  {
   "cell_type": "markdown",
   "metadata": {},
   "source": [
    "### Round 1.1: Validation Set Performance"
   ]
  },
  {
   "cell_type": "code",
   "execution_count": 17,
   "metadata": {
    "collapsed": false
   },
   "outputs": [],
   "source": [
    "# Import data\n",
    "valid_df = pd.read_csv(\"/home/jeremy/github_tornadoesr/data/raw/tor_cv_set_no_zeros_interact.csv\")\n",
    "\n",
    "\n",
    "# Validation set outcomes\n",
    "valid_outcomes = valid_df.iloc[:, [0]]\n",
    "\n",
    "\n",
    "# Make the validation outcomes into a numpy array\n",
    "valid_outcomes_array = valid_outcomes.values\n",
    "\n",
    "\n",
    "# Makes the numpy array into a torch Tensor\n",
    "valid_outcomes_Tensor = torch.from_numpy(valid_outcomes_array)\n",
    "\n",
    "\n",
    "# Changing validation outcomes from a DoubleTensor to a FloatTensor\n",
    "valid_outcomes_Tensor = valid_outcomes_Tensor.float()\n",
    "\n",
    "\n",
    "# Make the Tensor into a Pytorch Variable\n",
    "valid_outcomes_Variable = Variable(valid_outcomes_Tensor)"
   ]
  },
  {
   "cell_type": "code",
   "execution_count": 18,
   "metadata": {
    "collapsed": false
   },
   "outputs": [],
   "source": [
    "# Validation set predictors\n",
    "valid_predictors = valid_df.iloc[:, 1:]\n",
    "\n",
    "\n",
    "# Make the validation predictors into a numpy array\n",
    "valid_predictors_array = valid_predictors.values\n",
    "\n",
    "\n",
    "# Makes the numpy array into a torch Tensor\n",
    "valid_predictors_Tensor = torch.from_numpy(valid_predictors_array)\n",
    "\n",
    "\n",
    "# Changing validation predictors from a DoubleTensor to a FloatTensor\n",
    "valid_predictors_Tensor = valid_predictors_Tensor.float()\n",
    "\n",
    "\n",
    "# Make the Tensor into a Pytorch Variable\n",
    "valid_predictors_Variable = Variable(valid_predictors_Tensor)"
   ]
  },
  {
   "cell_type": "code",
   "execution_count": 19,
   "metadata": {
    "collapsed": false
   },
   "outputs": [],
   "source": [
    "# Have to make a new model and give it the train_model parameters to fix structure problem\n",
    "dim_corrected_model = torch.nn.Sequential(torch.nn.Linear(31, 21),\n",
    "                                          torch.nn.ReLU(),\n",
    "                                          torch.nn.Linear(21, 1))\n",
    "\n",
    "\n",
    "# Give the new model the old model's parameters\n",
    "dim_corrected_model[(0)].weight = model[(0)].weight\n",
    "dim_corrected_model[(2)].weight = model[(2)].weight"
   ]
  },
  {
   "cell_type": "code",
   "execution_count": 20,
   "metadata": {
    "collapsed": false
   },
   "outputs": [
    {
     "data": {
      "text/plain": [
       "Variable containing:\n",
       " 375.4826\n",
       "[torch.FloatTensor of size 1]"
      ]
     },
     "execution_count": 20,
     "metadata": {},
     "output_type": "execute_result"
    }
   ],
   "source": [
    "# Get the validation set predictions\n",
    "y_valid_pred = dim_corrected_model(valid_predictors_Variable)\n",
    "\n",
    "\n",
    "# Print the loss\n",
    "loss_fn(y_valid_pred,\n",
    "        valid_outcomes_Variable)"
   ]
  },
  {
   "cell_type": "code",
   "execution_count": 21,
   "metadata": {
    "collapsed": false
   },
   "outputs": [
    {
     "name": "stdout",
     "output_type": "stream",
     "text": [
      "<class 'pandas.core.frame.DataFrame'>\n",
      "RangeIndex: 2709 entries, 0 to 2708\n",
      "Data columns (total 31 columns):\n",
      "DURATION_SECONDS      2709 non-null float64\n",
      "BEGIN_LAT             2709 non-null float64\n",
      "BEGIN_LON             2709 non-null float64\n",
      "TOR_LENGTH            2709 non-null float64\n",
      "TOR_WIDTH             2709 non-null float64\n",
      "YEAR                  2709 non-null float64\n",
      "OPEN_WATER_PROP       2709 non-null float64\n",
      "DEV_OPEN_PROP         2709 non-null float64\n",
      "DEV_LOW_PROP          2709 non-null float64\n",
      "DEV_MED_PROP          2709 non-null float64\n",
      "DEV_HIGH_PROP         2709 non-null float64\n",
      "DECID_FOREST_PROP     2709 non-null float64\n",
      "EVERGR_FOREST_PROP    2709 non-null float64\n",
      "MIXED_FOREST_PROP     2709 non-null float64\n",
      "SHRUB_SCRUB_PROP      2709 non-null float64\n",
      "GRASS_LAND_PROP       2709 non-null float64\n",
      "PASTURE_HAY_PROP      2709 non-null float64\n",
      "CULT_CROPS_PROP       2709 non-null float64\n",
      "WOOD_WETLAND_PROP     2709 non-null float64\n",
      "HERB_WETLAND_PROP     2709 non-null float64\n",
      "BARREN_LAND_PROP      2709 non-null float64\n",
      "INCOME                2709 non-null float64\n",
      "TOR_AREA              2709 non-null float64\n",
      "TOT_DEV_INT           2709 non-null float64\n",
      "TOT_WOOD_AREA         2709 non-null float64\n",
      "WOOD_DEV_INT          2709 non-null float64\n",
      "EXP_INC_AREA          2709 non-null float64\n",
      "DAY_OF_YEAR           2709 non-null float64\n",
      "MONTH                 2709 non-null float64\n",
      "BEGIN_TIME            2709 non-null float64\n",
      "STATE_RANK            2709 non-null float64\n",
      "dtypes: float64(31)\n",
      "memory usage: 656.2 KB\n"
     ]
    }
   ],
   "source": [
    "valid_predictors.info()"
   ]
  },
  {
   "cell_type": "code",
   "execution_count": 22,
   "metadata": {
    "collapsed": true
   },
   "outputs": [],
   "source": [
    "# Get rid of the 2nd dimension of 1 from the FloatTensor\n",
    "y_valid_pred_resized = y_valid_pred.resize(2709)\n",
    "\n",
    "\n",
    "# Make the FloatTensor into a numpy.array\n",
    "y_valid_pred_array = y_valid_pred_resized.data.numpy()\n",
    "\n",
    "\n",
    "# Make the numpy.array into a list\n",
    "y_valid_pred_list = y_valid_pred_array.tolist()"
   ]
  },
  {
   "cell_type": "code",
   "execution_count": 23,
   "metadata": {
    "collapsed": false
   },
   "outputs": [],
   "source": [
    "# Get rid of the 2nd dimension of 1 from the FloatTensor\n",
    "valid_outcomes_Variable_resized = valid_outcomes_Variable.resize(2709)\n",
    "\n",
    "\n",
    "# Make the FloatTensor into a numpy.array\n",
    "valid_outcomes_array = valid_outcomes_Variable_resized.data.numpy()\n",
    "\n",
    "\n",
    "# Make the numpy.array into a list\n",
    "valid_outcomes_list = valid_outcomes_array.tolist()"
   ]
  },
  {
   "cell_type": "code",
   "execution_count": 24,
   "metadata": {
    "collapsed": false
   },
   "outputs": [
    {
     "data": {
      "text/plain": [
       "[<matplotlib.lines.Line2D at 0x7f1c3fc80b38>]"
      ]
     },
     "execution_count": 24,
     "metadata": {},
     "output_type": "execute_result"
    },
    {
     "data": {
      "image/png": "[encoded data removed]",
      "text/plain": [
       "<matplotlib.figure.Figure at 0x7f1c3fc80e48>"
      ]
     },
     "metadata": {},
     "output_type": "display_data"
    }
   ],
   "source": [
    "# Plot new predictions versus new data outcomes\n",
    "plt.scatter(valid_outcomes_list, y_valid_pred_list)\n",
    "\n",
    "axes = plt.gca()\n",
    "\n",
    "axes.set_xlim([-2, 4])\n",
    "\n",
    "axes.set_ylim([-2, 4])\n",
    "\n",
    "plt.plot([-2, 4], [-2, 4], 'k-', lw=2)"
   ]
  },
  {
   "cell_type": "markdown",
   "metadata": {},
   "source": [
    "### Round 1.2: Test Set Performance"
   ]
  },
  {
   "cell_type": "code",
   "execution_count": 25,
   "metadata": {
    "collapsed": false
   },
   "outputs": [],
   "source": [
    "# Import data\n",
    "test_df = pd.read_csv(\"/home/jeremy/github_tornadoesr/data/raw/tor_test_set_no_zeros_interact.csv\")\n",
    "\n",
    "\n",
    "# Validation set outcomes\n",
    "test_outcomes = test_df.iloc[:, [0]]\n",
    "\n",
    "\n",
    "# Make the validation outcomes into a numpy array\n",
    "test_outcomes_array = test_outcomes.values\n",
    "\n",
    "\n",
    "# Makes the numpy array into a torch Tensor\n",
    "test_outcomes_Tensor = torch.from_numpy(test_outcomes_array)\n",
    "\n",
    "\n",
    "# Changing validation outcomes from a DoubleTensor to a FloatTensor\n",
    "test_outcomes_Tensor = test_outcomes_Tensor.float()\n",
    "\n",
    "\n",
    "# Make the Tensor into a Pytorch Variable\n",
    "test_outcomes_Variable = Variable(test_outcomes_Tensor)"
   ]
  },
  {
   "cell_type": "code",
   "execution_count": 26,
   "metadata": {
    "collapsed": true
   },
   "outputs": [],
   "source": [
    "# Validation set predictors\n",
    "test_predictors = test_df.iloc[:, 1:]\n",
    "\n",
    "\n",
    "# Make the validation predictors into a numpy array\n",
    "test_predictors_array = test_predictors.values\n",
    "\n",
    "\n",
    "# Makes the numpy array into a torch Tensor\n",
    "test_predictors_Tensor = torch.from_numpy(test_predictors_array)\n",
    "\n",
    "\n",
    "# Changing validation predictors from a DoubleTensor to a FloatTensor\n",
    "test_predictors_Tensor = test_predictors_Tensor.float()\n",
    "\n",
    "\n",
    "# Make the Tensor into a Pytorch Variable\n",
    "test_predictors_Variable = Variable(test_predictors_Tensor)"
   ]
  },
  {
   "cell_type": "code",
   "execution_count": 27,
   "metadata": {
    "collapsed": false
   },
   "outputs": [],
   "source": [
    "# Have to make a new model and give it the train_model parameters to fix structure problem\n",
    "dim_corrected_model_2 = torch.nn.Sequential(torch.nn.Linear(31, 21),\n",
    "                                            torch.nn.ReLU(),\n",
    "                                            torch.nn.Linear(21, 1))\n",
    "\n",
    "\n",
    "# Give the new model the old model's parameters\n",
    "dim_corrected_model_2[(0)].weight = model[(0)].weight\n",
    "dim_corrected_model_2[(2)].weight = model[(2)].weight"
   ]
  },
  {
   "cell_type": "code",
   "execution_count": 28,
   "metadata": {
    "collapsed": false
   },
   "outputs": [
    {
     "data": {
      "text/plain": [
       "Variable containing:\n",
       " 302.8730\n",
       "[torch.FloatTensor of size 1]"
      ]
     },
     "execution_count": 28,
     "metadata": {},
     "output_type": "execute_result"
    }
   ],
   "source": [
    "# Get the validation set predictions\n",
    "y_test_pred = dim_corrected_model_2(test_predictors_Variable)\n",
    "\n",
    "\n",
    "# Print the loss\n",
    "loss_fn(y_test_pred,\n",
    "        test_outcomes_Variable)"
   ]
  },
  {
   "cell_type": "code",
   "execution_count": 29,
   "metadata": {
    "collapsed": false
   },
   "outputs": [
    {
     "name": "stdout",
     "output_type": "stream",
     "text": [
      "<class 'pandas.core.frame.DataFrame'>\n",
      "RangeIndex: 2712 entries, 0 to 2711\n",
      "Data columns (total 31 columns):\n",
      "DURATION_SECONDS      2712 non-null float64\n",
      "BEGIN_LAT             2712 non-null float64\n",
      "BEGIN_LON             2712 non-null float64\n",
      "TOR_LENGTH            2712 non-null float64\n",
      "TOR_WIDTH             2712 non-null float64\n",
      "YEAR                  2712 non-null float64\n",
      "OPEN_WATER_PROP       2712 non-null float64\n",
      "DEV_OPEN_PROP         2712 non-null float64\n",
      "DEV_LOW_PROP          2712 non-null float64\n",
      "DEV_MED_PROP          2712 non-null float64\n",
      "DEV_HIGH_PROP         2712 non-null float64\n",
      "DECID_FOREST_PROP     2712 non-null float64\n",
      "EVERGR_FOREST_PROP    2712 non-null float64\n",
      "MIXED_FOREST_PROP     2712 non-null float64\n",
      "SHRUB_SCRUB_PROP      2712 non-null float64\n",
      "GRASS_LAND_PROP       2712 non-null float64\n",
      "PASTURE_HAY_PROP      2712 non-null float64\n",
      "CULT_CROPS_PROP       2712 non-null float64\n",
      "WOOD_WETLAND_PROP     2712 non-null float64\n",
      "HERB_WETLAND_PROP     2712 non-null float64\n",
      "BARREN_LAND_PROP      2712 non-null float64\n",
      "INCOME                2712 non-null float64\n",
      "TOR_AREA              2712 non-null float64\n",
      "TOT_DEV_INT           2712 non-null float64\n",
      "TOT_WOOD_AREA         2712 non-null float64\n",
      "WOOD_DEV_INT          2712 non-null float64\n",
      "EXP_INC_AREA          2712 non-null float64\n",
      "DAY_OF_YEAR           2712 non-null float64\n",
      "MONTH                 2712 non-null float64\n",
      "BEGIN_TIME            2712 non-null float64\n",
      "STATE_RANK            2712 non-null float64\n",
      "dtypes: float64(31)\n",
      "memory usage: 656.9 KB\n"
     ]
    }
   ],
   "source": [
    "test_predictors.info()"
   ]
  },
  {
   "cell_type": "code",
   "execution_count": 30,
   "metadata": {
    "collapsed": false
   },
   "outputs": [],
   "source": [
    "# Get rid of the 2nd dimension of 1 from the FloatTensor\n",
    "y_test_pred_resized = y_test_pred.resize(2712)\n",
    "\n",
    "\n",
    "# Make the FloatTensor into a numpy.array\n",
    "y_test_pred_array = y_test_pred_resized.data.numpy()\n",
    "\n",
    "\n",
    "# Convert back to native units and scale\n",
    "y_test_pred_array = y_test_pred_array*5.409956 + 7.691221\n",
    "\n",
    "\n",
    "# Make the numpy.array into a list\n",
    "y_test_pred_list = y_test_pred_array.tolist()"
   ]
  },
  {
   "cell_type": "code",
   "execution_count": 31,
   "metadata": {
    "collapsed": true
   },
   "outputs": [],
   "source": [
    "# Get rid of the 2nd dimension of 1 from the FloatTensor\n",
    "test_outcomes_Variable_resized = test_outcomes_Variable.resize(2712)\n",
    "\n",
    "\n",
    "# Make the FloatTensor into a numpy.array\n",
    "test_outcomes_array = test_outcomes_Variable_resized.data.numpy()\n",
    "\n",
    "\n",
    "# Convert back to native units and scale\n",
    "test_outcomes_array = test_outcomes_array*5.409956 + 7.691221\n",
    "\n",
    "\n",
    "# Make the numpy.array into a list\n",
    "test_outcomes_list = test_outcomes_array.tolist()"
   ]
  },
  {
   "cell_type": "code",
   "execution_count": 32,
   "metadata": {
    "collapsed": false
   },
   "outputs": [
    {
     "data": {
      "text/plain": [
       "<matplotlib.text.Text at 0x7f1c3c571b00>"
      ]
     },
     "execution_count": 32,
     "metadata": {},
     "output_type": "execute_result"
    },
    {
     "data": {
      "image/png": "[encoded data removed]",
      "text/plain": [
       "<matplotlib.figure.Figure at 0x7f1c3c5e5278>"
      ]
     },
     "metadata": {},
     "output_type": "display_data"
    }
   ],
   "source": [
    "# Plot new predictions versus new data outcomes\n",
    "\n",
    "plt.scatter(test_outcomes_list, y_test_pred_list)\n",
    "\n",
    "axes = plt.gca()\n",
    "\n",
    "axes.set_xlim([2, 23])\n",
    "\n",
    "axes.set_ylim([2, 23])\n",
    "\n",
    "axes.set_xticks([2, 5, 8, 11, 14, 17, 20, 23])\n",
    "\n",
    "axes.set_yticks([2, 5, 8, 11, 14, 17, 20, 23])\n",
    "\n",
    "plt.plot([2, 23], [2, 23], 'k-', lw=2)\n",
    "\n",
    "axes.set_xlabel(\"Actual Outcome (Log-Transformed US Dollars)\")\n",
    "\n",
    "axes.set_ylabel(\"Model Prediction (Log-Transformed US Dollars)\")\n",
    "\n",
    "axes.set_title(\"Model Performance\")"
   ]
  },
  {
   "cell_type": "code",
   "execution_count": 33,
   "metadata": {
    "collapsed": false
   },
   "outputs": [
    {
     "data": {
      "text/plain": [
       "Parameter containing:\n",
       "\n",
       "Columns 0 to 9 \n",
       "-0.1056 -0.0257  0.1829 -0.1392  0.1408  0.1998 -0.0118 -0.0645  0.1244 -0.0909\n",
       "-0.2355 -0.0553  0.0009  0.1247  0.0066 -0.0254  0.0518  0.0105  0.1793 -0.1456\n",
       "-0.0133  0.0401  0.0005 -0.1313 -0.1480 -0.0650 -0.0501  0.1115  0.1361 -0.0623\n",
       "-0.0188 -0.2349  0.0329  0.0903  0.2836 -0.0848 -0.0266  0.0575  0.0370 -0.0760\n",
       "-0.1061 -0.0058 -0.2076 -0.1194  0.1210 -0.1339  0.0254 -0.0604 -0.0443  0.0261\n",
       "-0.1578  0.0798 -0.0476 -0.0493 -0.1913 -0.0248 -0.0119  0.1328  0.1897 -0.1492\n",
       "-0.0989 -0.0231  0.0266  0.2165 -0.2532 -0.1025  0.0732  0.1712 -0.0923  0.1534\n",
       "-0.0781 -0.0114 -0.0817 -0.1441 -0.0530 -0.0684 -0.0144 -0.0641  0.1226 -0.0318\n",
       " 0.1419  0.0871 -0.0333  0.1310  0.1354 -0.1843  0.1034  0.0232 -0.1207 -0.0067\n",
       " 0.0152 -0.1280  0.1843 -0.0840 -0.0895 -0.0944 -0.1387 -0.1852 -0.0988  0.1540\n",
       " 0.1125 -0.0966 -0.1176 -0.0108  0.0959  0.0959  0.0316  0.0260  0.0548  0.0335\n",
       "-0.0712 -0.0659  0.0938 -0.0650  0.0711 -0.1038  0.0379 -0.0287  0.0988  0.1337\n",
       "-0.0599 -0.0194 -0.2020  0.0086 -0.0053 -0.0249 -0.0364  0.1362  0.2178 -0.0262\n",
       "-0.1211  0.0604  0.0536  0.0547  0.0263  0.0976  0.0910  0.0409  0.1275  0.0241\n",
       "-0.1114  0.0434  0.0023  0.0380 -0.0791 -0.2106  0.0971  0.1461 -0.0597  0.0156\n",
       "-0.1110  0.1001  0.2305  0.0613  0.1609 -0.1948 -0.0555 -0.0888  0.1018 -0.1376\n",
       " 0.0593 -0.2562 -0.0448  0.0415  0.2082 -0.0327  0.0590  0.0075  0.0447  0.2096\n",
       "-0.0480  0.1197 -0.0414 -0.0717 -0.0457 -0.2686 -0.0302  0.0800  0.0159  0.0625\n",
       "-0.2023  0.1277  0.1056  0.1215  0.0118 -0.0052  0.0223  0.0577  0.0402 -0.0469\n",
       " 0.0851  0.2719  0.0525  0.1466  0.0256 -0.1161 -0.0733 -0.0084 -0.0006 -0.0769\n",
       " 0.2902  0.2590  0.0523  0.0979  0.2281 -0.0279  0.1147  0.0111 -0.1151  0.0834\n",
       "\n",
       "Columns 10 to 19 \n",
       " 0.0190  0.0802 -0.0073  0.0465  0.1570 -0.0588 -0.0391 -0.1434  0.1049  0.0797\n",
       " 0.0574  0.0501 -0.0308  0.1498 -0.1432  0.1904  0.0008  0.1249  0.0199 -0.0044\n",
       "-0.0519  0.1623 -0.1188  0.0827 -0.0523  0.1059 -0.0261 -0.1214  0.1608  0.0457\n",
       "-0.1085 -0.0601  0.0104  0.1288 -0.0904 -0.1406  0.0955  0.0065  0.0800  0.1625\n",
       "-0.0355  0.0077 -0.0132  0.1061  0.1246  0.2177  0.0094 -0.0257 -0.0889  0.0732\n",
       " 0.1942  0.0437 -0.1043  0.1540 -0.0640  0.1647  0.0387 -0.0610 -0.1515 -0.0452\n",
       " 0.0865  0.0450  0.2412  0.0879 -0.1072  0.0885  0.1031  0.0696  0.0815  0.0509\n",
       " 0.0795 -0.0803  0.0269 -0.0862  0.0052 -0.1990  0.0212  0.0219 -0.0828  0.0955\n",
       "-0.0037 -0.0240  0.0287  0.0881  0.0768 -0.1912 -0.0242  0.0822  0.1581  0.0338\n",
       "-0.0629 -0.0086 -0.1093 -0.1228  0.1497  0.0832 -0.0251  0.0513 -0.0385 -0.0330\n",
       " 0.1914  0.0532  0.1005 -0.0186 -0.0426 -0.0309  0.0583 -0.0694 -0.0275  0.1428\n",
       " 0.1057 -0.1467 -0.1023  0.1110  0.1959 -0.1360 -0.1120  0.0637  0.0192 -0.0200\n",
       " 0.0462  0.0078  0.0971  0.0720  0.0584  0.1414  0.0448 -0.0258 -0.0237 -0.0827\n",
       " 0.0719 -0.0217 -0.1715 -0.2171  0.0763 -0.1422 -0.0267 -0.0979  0.0077 -0.1335\n",
       "-0.0915 -0.0110  0.2008  0.0370  0.1639  0.1409  0.0695 -0.0779 -0.0569  0.1468\n",
       " 0.2410  0.0719 -0.0493 -0.0057  0.0760 -0.0429 -0.0659 -0.0192  0.0389 -0.0285\n",
       "-0.0241 -0.0453 -0.0181  0.0629  0.0582  0.0276  0.1124 -0.0318 -0.0188 -0.0712\n",
       "-0.0437 -0.0320 -0.0781  0.2032  0.2087 -0.0103  0.0397  0.0320  0.0296  0.0310\n",
       " 0.0384  0.0018  0.1742 -0.1407  0.1274 -0.0470 -0.0659  0.0971  0.0538  0.1662\n",
       "-0.0560  0.0468  0.0968 -0.0132  0.0379 -0.0061  0.1294  0.1620  0.1036 -0.1220\n",
       "-0.0530 -0.0163 -0.0688 -0.0019  0.0762 -0.1291 -0.1885  0.0948 -0.0016 -0.0577\n",
       "\n",
       "Columns 20 to 29 \n",
       " 0.1379  0.1408  0.0671  0.1219 -0.0525 -0.1193  0.0926 -0.0790  0.1417  0.0598\n",
       " 0.1006  0.0812  0.0739  0.1419 -0.1751 -0.1326 -0.0480  0.0206 -0.1513 -0.1003\n",
       "-0.0641  0.1719 -0.1653 -0.0625  0.0747  0.0293 -0.1407  0.1665  0.0517 -0.0654\n",
       "-0.0145  0.0044 -0.0830  0.1276 -0.0042 -0.0193  0.1557 -0.0044  0.0148 -0.0009\n",
       "-0.0575 -0.0587  0.0791  0.0230 -0.0937  0.1094 -0.0569 -0.1030  0.0268  0.0005\n",
       " 0.0369 -0.1261  0.1772  0.1525 -0.0329 -0.1235 -0.1356 -0.0113 -0.0546  0.1263\n",
       " 0.0427  0.1000 -0.1285 -0.0756 -0.1091 -0.1293 -0.0919 -0.1035  0.0028  0.1275\n",
       "-0.1088 -0.2053 -0.1642 -0.1754 -0.0699  0.0961 -0.0253 -0.0068 -0.1478 -0.0676\n",
       "-0.0983 -0.0992 -0.0640 -0.0776 -0.1453  0.1641  0.1664 -0.0073 -0.0112  0.1600\n",
       "-0.0470 -0.0385  0.1277 -0.1095 -0.1450  0.1568 -0.0469 -0.0571  0.0851  0.1827\n",
       "-0.1001 -0.0440  0.2722  0.0697  0.0142 -0.0109  0.0050 -0.1045  0.0467  0.1637\n",
       " 0.0838  0.1317  0.1114 -0.1449 -0.0990  0.0852 -0.1808 -0.0782  0.0318  0.0752\n",
       " 0.0341 -0.0082 -0.0601  0.2063  0.0925 -0.1422 -0.1331  0.0132 -0.1307  0.0710\n",
       " 0.0664  0.1202 -0.1673  0.0937 -0.1051  0.0877 -0.1184  0.1382 -0.0775  0.2155\n",
       "-0.0351  0.0494  0.0212 -0.0796  0.1554 -0.1634  0.1512 -0.0048 -0.0753  0.2036\n",
       " 0.0682 -0.0490  0.2518  0.0768 -0.1313 -0.0395  0.0557 -0.0486  0.2083  0.0767\n",
       " 0.0377  0.0642  0.0764 -0.1266  0.0930 -0.0636 -0.0367 -0.1617  0.1288 -0.2310\n",
       " 0.0042  0.0367  0.1070 -0.0884  0.1282 -0.0096  0.0045 -0.0581  0.1877  0.0117\n",
       " 0.0247  0.0216 -0.0674  0.1362  0.0433  0.0474 -0.0126 -0.0559  0.1859  0.1738\n",
       "-0.0579 -0.0299  0.0052  0.1166  0.0657  0.0306  0.0379 -0.0662  0.0404  0.0050\n",
       " 0.0989  0.0883  0.1307  0.1363  0.1064 -0.0636 -0.0638  0.0383 -0.0661  0.0823\n",
       "\n",
       "Columns 30 to 30 \n",
       " 0.1760\n",
       " 0.0117\n",
       "-0.1342\n",
       "-0.0191\n",
       "-0.3392\n",
       "-0.1070\n",
       " 0.0019\n",
       "-0.0030\n",
       " 0.0506\n",
       "-0.1150\n",
       " 0.0184\n",
       " 0.0026\n",
       "-0.0369\n",
       "-0.0973\n",
       "-0.0101\n",
       " 0.0345\n",
       "-0.0973\n",
       " 0.1069\n",
       " 0.1117\n",
       "-0.1520\n",
       " 0.1314\n",
       "[torch.FloatTensor of size 21x31]"
      ]
     },
     "execution_count": 33,
     "metadata": {},
     "output_type": "execute_result"
    }
   ],
   "source": [
    "dim_corrected_model_2[(0)].weight"
   ]
  },
  {
   "cell_type": "code",
   "execution_count": 34,
   "metadata": {
    "collapsed": false
   },
   "outputs": [
    {
     "data": {
      "text/plain": [
       "Parameter containing:\n",
       "\n",
       "Columns 0 to 9 \n",
       "-0.2203  0.1667  0.0476  0.1723 -0.2800  0.0247 -0.2589 -0.0863 -0.2011  0.1183\n",
       "\n",
       "Columns 10 to 19 \n",
       " 0.2541  0.0660  0.1423 -0.0843  0.2286  0.1895  0.2213 -0.1673  0.1862  0.2275\n",
       "\n",
       "Columns 20 to 20 \n",
       " 0.2389\n",
       "[torch.FloatTensor of size 1x21]"
      ]
     },
     "execution_count": 34,
     "metadata": {},
     "output_type": "execute_result"
    }
   ],
   "source": [
    "dim_corrected_model_2[(2)].weight"
   ]
  },
  {
   "cell_type": "markdown",
   "metadata": {},
   "source": [
    "## Round 2: Two-Hidden-Layer Neural Network"
   ]
  },
  {
   "cell_type": "code",
   "execution_count": 35,
   "metadata": {
    "collapsed": true
   },
   "outputs": [],
   "source": [
    "# Make the torch Tensor into a PyTorch Variable for dependent variables\n",
    "outcomes_Variable = Variable(outcomes_Tensor)\n",
    "\n",
    "\n",
    "# ...for independent variables\n",
    "features_Variable = Variable(features_Tensor,\n",
    "                             requires_grad = False)"
   ]
  },
  {
   "cell_type": "code",
   "execution_count": 36,
   "metadata": {
    "collapsed": true
   },
   "outputs": [],
   "source": [
    "# Make the neural network\n",
    "model = torch.nn.Sequential(torch.nn.Linear(31, 21),\n",
    "                            torch.nn.ReLU(),\n",
    "                            torch.nn.Linear(21, 14),\n",
    "                            torch.nn.ReLU(),\n",
    "                            torch.nn.Linear(14, 1))"
   ]
  },
  {
   "cell_type": "code",
   "execution_count": 37,
   "metadata": {
    "collapsed": false
   },
   "outputs": [],
   "source": [
    "# To add errors to\n",
    "errors = []\n",
    "\n",
    "\n",
    "# Set the learning rate\n",
    "learning_rate = 6e-6\n",
    "\n",
    "\n",
    "# Train the neural network\n",
    "for t in range(10000):\n",
    "    \n",
    "    # Get the current predictions\n",
    "    y_pred = model(features_Variable)\n",
    "    \n",
    "    # Compute and append current summed errors\n",
    "    loss = loss_fn(y_pred, outcomes_Variable)\n",
    "    errors.append(loss.data[0])\n",
    "    \n",
    "    # Zero the gradients before running the backward pass.\n",
    "    model.zero_grad()\n",
    "    \n",
    "    # Backward pass: compute gradient of the loss with respect to all the learnable Variables\n",
    "    loss.backward()\n",
    "    \n",
    "    # Update the weights using gradient descent\n",
    "    for param in model.parameters():\n",
    "        param.data -= learning_rate * param.grad.data"
   ]
  },
  {
   "cell_type": "code",
   "execution_count": 38,
   "metadata": {
    "collapsed": false
   },
   "outputs": [
    {
     "data": {
      "text/plain": [
       "<matplotlib.collections.PathCollection at 0x7f1c3c4b7780>"
      ]
     },
     "execution_count": 38,
     "metadata": {},
     "output_type": "execute_result"
    },
    {
     "data": {
      "image/png": "[encoded data removed]",
      "text/plain": [
       "<matplotlib.figure.Figure at 0x7f1c3c53bf28>"
      ]
     },
     "metadata": {},
     "output_type": "display_data"
    }
   ],
   "source": [
    "# Plot summed error as a function of iteration\n",
    "plt.scatter(iterations, errors)"
   ]
  },
  {
   "cell_type": "code",
   "execution_count": 39,
   "metadata": {
    "collapsed": false
   },
   "outputs": [],
   "source": [
    "# Get rid of the 2nd dimension of 1 from the FloatTensor\n",
    "y_pred_resized = y_pred.resize(8270)\n",
    "\n",
    "\n",
    "# Make the FloatTensor into a numpy.array\n",
    "y_pred_array = y_pred_resized.data.numpy()\n",
    "\n",
    "\n",
    "# Make the numpy.array into a list\n",
    "y_pred_list = y_pred_array.tolist()"
   ]
  },
  {
   "cell_type": "code",
   "execution_count": 40,
   "metadata": {
    "collapsed": false
   },
   "outputs": [
    {
     "data": {
      "text/plain": [
       "[<matplotlib.lines.Line2D at 0x7f1c3c6d0908>]"
      ]
     },
     "execution_count": 40,
     "metadata": {},
     "output_type": "execute_result"
    },
    {
     "data": {
      "image/png": "[encoded data removed]",
      "text/plain": [
       "<matplotlib.figure.Figure at 0x7f1c3c6d0e10>"
      ]
     },
     "metadata": {},
     "output_type": "display_data"
    }
   ],
   "source": [
    "# Plot predictions versus training set outcomes\n",
    "plt.scatter(outcomes_list, y_pred_list)\n",
    "\n",
    "axes = plt.gca()\n",
    "\n",
    "axes.set_xlim([-2, 4])\n",
    "\n",
    "axes.set_ylim([-2, 4])\n",
    "\n",
    "plt.plot([-2, 4], [-2, 4], 'k-', lw=2)"
   ]
  },
  {
   "cell_type": "markdown",
   "metadata": {},
   "source": [
    "### Round 2.1: Validation Set Performance"
   ]
  },
  {
   "cell_type": "code",
   "execution_count": 41,
   "metadata": {
    "collapsed": false
   },
   "outputs": [],
   "source": [
    "# Have to make a new model and give it the train_model parameters to fix structure problem\n",
    "dim_corrected_model = torch.nn.Sequential(torch.nn.Linear(31, 21),\n",
    "                                          torch.nn.ReLU(),\n",
    "                                          torch.nn.Linear(21, 14),\n",
    "                                          torch.nn.ReLU(),\n",
    "                                          torch.nn.Linear(14, 1))\n",
    "\n",
    "\n",
    "# Give the new model the old model's parameters\n",
    "dim_corrected_model[(0)].weight = model[(0)].weight\n",
    "dim_corrected_model[(2)].weight = model[(2)].weight\n",
    "dim_corrected_model[(4)].weight = model[(4)].weight"
   ]
  },
  {
   "cell_type": "code",
   "execution_count": 42,
   "metadata": {
    "collapsed": false
   },
   "outputs": [
    {
     "data": {
      "text/plain": [
       "Variable containing:\n",
       " 1477.7748\n",
       "[torch.FloatTensor of size 1]"
      ]
     },
     "execution_count": 42,
     "metadata": {},
     "output_type": "execute_result"
    }
   ],
   "source": [
    "# Get the validation set predictions\n",
    "y_valid_pred = dim_corrected_model(valid_predictors_Variable)\n",
    "\n",
    "\n",
    "# Print the loss\n",
    "loss_fn(y_valid_pred,\n",
    "        valid_outcomes_Variable)"
   ]
  },
  {
   "cell_type": "code",
   "execution_count": 43,
   "metadata": {
    "collapsed": false
   },
   "outputs": [],
   "source": [
    "# Get rid of the 2nd dimension of 1 from the FloatTensor\n",
    "y_valid_pred_resized = y_valid_pred.resize(2709)\n",
    "\n",
    "\n",
    "# Make the FloatTensor into a numpy.array\n",
    "y_valid_pred_array = y_valid_pred_resized.data.numpy()\n",
    "\n",
    "\n",
    "# Make the numpy.array into a list\n",
    "y_valid_pred_list = y_valid_pred_array.tolist()"
   ]
  },
  {
   "cell_type": "code",
   "execution_count": 44,
   "metadata": {
    "collapsed": false
   },
   "outputs": [
    {
     "data": {
      "text/plain": [
       "[<matplotlib.lines.Line2D at 0x7f1c3c3fd978>]"
      ]
     },
     "execution_count": 44,
     "metadata": {},
     "output_type": "execute_result"
    },
    {
     "data": {
      "image/png": "[encoded data removed]",
      "text/plain": [
       "<matplotlib.figure.Figure at 0x7f1c3c3fda90>"
      ]
     },
     "metadata": {},
     "output_type": "display_data"
    }
   ],
   "source": [
    "# Plot new predictions versus new data outcomes\n",
    "plt.scatter(valid_outcomes_list, y_valid_pred_list)\n",
    "\n",
    "axes = plt.gca()\n",
    "\n",
    "axes.set_xlim([-2, 4])\n",
    "\n",
    "axes.set_ylim([-2, 4])\n",
    "\n",
    "plt.plot([-2, 4], [-2, 4], 'k-', lw=2)"
   ]
  },
  {
   "cell_type": "markdown",
   "metadata": {},
   "source": [
    "### Round 2.2: Test Set Performance"
   ]
  },
  {
   "cell_type": "code",
   "execution_count": 45,
   "metadata": {
    "collapsed": true
   },
   "outputs": [],
   "source": [
    "# Have to make a new model and give it the train_model parameters to fix structure problem\n",
    "dim_corrected_model_2 = torch.nn.Sequential(torch.nn.Linear(31, 21),\n",
    "                                            torch.nn.ReLU(),\n",
    "                                            torch.nn.Linear(21, 14),\n",
    "                                            torch.nn.ReLU(),\n",
    "                                            torch.nn.Linear(14, 1))\n",
    "\n",
    "\n",
    "# Give the new model the old model's parameters\n",
    "dim_corrected_model_2[(0)].weight = model[(0)].weight\n",
    "dim_corrected_model_2[(2)].weight = model[(2)].weight\n",
    "dim_corrected_model_2[(4)].weight = model[(4)].weight"
   ]
  },
  {
   "cell_type": "code",
   "execution_count": 46,
   "metadata": {
    "collapsed": false
   },
   "outputs": [
    {
     "data": {
      "text/plain": [
       "Variable containing:\n",
       " 519.2403\n",
       "[torch.FloatTensor of size 1]"
      ]
     },
     "execution_count": 46,
     "metadata": {},
     "output_type": "execute_result"
    }
   ],
   "source": [
    "# Get the validation set predictions\n",
    "y_test_pred = dim_corrected_model_2(test_predictors_Variable)\n",
    "\n",
    "\n",
    "# Print the loss\n",
    "loss_fn(y_test_pred,\n",
    "        test_outcomes_Variable)"
   ]
  },
  {
   "cell_type": "code",
   "execution_count": 47,
   "metadata": {
    "collapsed": true
   },
   "outputs": [],
   "source": [
    "# Get rid of the 2nd dimension of 1 from the FloatTensor\n",
    "y_test_pred_resized = y_test_pred.resize(2712)\n",
    "\n",
    "\n",
    "# Make the FloatTensor into a numpy.array\n",
    "y_test_pred_array = y_test_pred_resized.data.numpy()\n",
    "\n",
    "\n",
    "# Convert back to native units and scale\n",
    "y_test_pred_array = y_test_pred_array*5.409956 + 7.691221\n",
    "\n",
    "\n",
    "# Make the numpy.array into a list\n",
    "y_test_pred_list = y_test_pred_array.tolist()"
   ]
  },
  {
   "cell_type": "code",
   "execution_count": 48,
   "metadata": {
    "collapsed": false
   },
   "outputs": [
    {
     "data": {
      "text/plain": [
       "<matplotlib.text.Text at 0x7f1c3c33ec50>"
      ]
     },
     "execution_count": 48,
     "metadata": {},
     "output_type": "execute_result"
    },
    {
     "data": {
      "image/png": "[encoded data removed]",
      "text/plain": [
       "<matplotlib.figure.Figure at 0x7f1c3c416b70>"
      ]
     },
     "metadata": {},
     "output_type": "display_data"
    }
   ],
   "source": [
    "# Plot new predictions versus new data outcomes\n",
    "\n",
    "plt.scatter(test_outcomes_list, y_test_pred_list)\n",
    "\n",
    "axes = plt.gca()\n",
    "\n",
    "axes.set_xlim([2, 23])\n",
    "\n",
    "axes.set_ylim([2, 23])\n",
    "\n",
    "axes.set_xticks([2, 5, 8, 11, 14, 17, 20, 23])\n",
    "\n",
    "axes.set_yticks([2, 5, 8, 11, 14, 17, 20, 23])\n",
    "\n",
    "plt.plot([2, 23], [2, 23], 'k-', lw=2)\n",
    "\n",
    "axes.set_xlabel(\"Actual Outcome (Log-Transformed US Dollars)\")\n",
    "\n",
    "axes.set_ylabel(\"Model Prediction (Log-Transformed US Dollars)\")\n",
    "\n",
    "axes.set_title(\"Model Performance\")"
   ]
  },
  {
   "cell_type": "code",
   "execution_count": 49,
   "metadata": {
    "collapsed": false
   },
   "outputs": [
    {
     "data": {
      "text/plain": [
       "Parameter containing:\n",
       "\n",
       "Columns 0 to 9 \n",
       "-0.0600  0.0334 -0.1065  0.0149  0.1203  0.1883  0.0768  0.1810  0.1699  0.0484\n",
       " 0.0469  0.0590 -0.1472 -0.1249  0.0801 -0.0190 -0.0792  0.0906 -0.1819 -0.0852\n",
       " 0.0307 -0.0949  0.1107 -0.0565 -0.0267  0.2492 -0.0887  0.1153 -0.0860  0.1456\n",
       " 0.0367  0.2685  0.0590 -0.0056  0.0957  0.0317  0.0991 -0.0619  0.0323  0.1656\n",
       " 0.0238  0.2127 -0.0068 -0.1711 -0.1409  0.1123 -0.0877  0.0054  0.0758 -0.0630\n",
       " 0.2551 -0.1567 -0.1306  0.0135 -0.0641  0.1012 -0.1099 -0.0979  0.0085  0.0834\n",
       " 0.1304  0.2880  0.2084  0.1057  0.1756 -0.0849  0.0995  0.0109  0.0884  0.1242\n",
       "-0.0331  0.0146 -0.0564 -0.1947  0.0363  0.2422 -0.1164 -0.1838 -0.0563  0.0162\n",
       " 0.3046  0.0090  0.0013  0.0748  0.1623  0.0956 -0.0307 -0.0137 -0.0734  0.0044\n",
       " 0.0618 -0.1578 -0.1015 -0.0064  0.3084 -0.0903 -0.0069  0.0993 -0.0129  0.1073\n",
       "-0.1798  0.0445 -0.0484  0.0463  0.1341 -0.0923  0.0928  0.0496  0.0704 -0.0727\n",
       " 0.0569 -0.2172  0.0510  0.0218 -0.0332  0.0264 -0.0898  0.1429 -0.0383 -0.0913\n",
       "-0.1065  0.1043 -0.0185 -0.0032 -0.0762 -0.0800 -0.0092  0.0133 -0.0600  0.1172\n",
       "-0.0777  0.1787 -0.0228  0.1733  0.2226 -0.1662  0.0239 -0.1671 -0.0217  0.0220\n",
       " 0.1369 -0.0737  0.0591  0.0602 -0.1956 -0.1718  0.0272  0.2889 -0.1329 -0.0807\n",
       "-0.0597  0.1259  0.0406 -0.0301 -0.0162  0.1605 -0.1758  0.1765  0.1623  0.0193\n",
       "-0.1236  0.0772  0.1448  0.2007 -0.0359 -0.0411  0.0866  0.0677 -0.0135 -0.1305\n",
       " 0.1585 -0.0354  0.1904 -0.0521  0.1476  0.1126 -0.1748  0.2003  0.1231 -0.0405\n",
       "-0.0571 -0.1851  0.1545  0.1867  0.1574 -0.0622 -0.0651 -0.0557 -0.1916  0.1565\n",
       " 0.0756 -0.2205  0.0677 -0.1217 -0.1222  0.0319 -0.0519 -0.0916  0.1778 -0.0666\n",
       "-0.1244 -0.0978  0.0446 -0.0568 -0.1733  0.1961 -0.1729 -0.0473 -0.0584 -0.1645\n",
       "\n",
       "Columns 10 to 19 \n",
       " 0.1210  0.0457  0.0135 -0.1682 -0.0862  0.1226  0.0206 -0.0480  0.1753  0.1303\n",
       "-0.0622  0.0790  0.1393 -0.0277 -0.1429  0.2096  0.0377 -0.1742 -0.1630  0.0352\n",
       " 0.1920  0.1463  0.0569  0.0204  0.0887  0.1312  0.0470 -0.1000  0.1621  0.1509\n",
       " 0.0489  0.0009  0.1516 -0.0571  0.0251 -0.1213 -0.1473  0.1101  0.1006  0.0948\n",
       " 0.1455  0.0427 -0.0174 -0.1280 -0.0412 -0.0476 -0.1400  0.0699  0.0854 -0.0151\n",
       "-0.0321  0.1618  0.0540  0.2103 -0.1983  0.0791 -0.0504  0.0368  0.1350 -0.0830\n",
       "-0.0428  0.0581  0.1061  0.0972 -0.0476 -0.0781 -0.0793 -0.0824 -0.0925  0.0516\n",
       "-0.0389  0.1019  0.0348  0.0374 -0.0785  0.0332 -0.1688 -0.2140 -0.0211 -0.0600\n",
       " 0.1493 -0.0097  0.0857 -0.0950  0.0983 -0.0089  0.0519  0.0060 -0.0342 -0.1010\n",
       " 0.1179  0.0650 -0.0212 -0.0982  0.0708  0.0045  0.1077  0.0883 -0.1688  0.2165\n",
       " 0.0907 -0.0458  0.1803 -0.1068 -0.0395 -0.0094  0.1398 -0.0513  0.0998  0.0460\n",
       "-0.0520 -0.1051 -0.0300 -0.0718  0.0956  0.1144  0.0032  0.0842 -0.0975  0.0615\n",
       "-0.0201  0.1125 -0.0609 -0.0476 -0.0346 -0.1649  0.0029  0.0682 -0.0188 -0.0302\n",
       " 0.0503 -0.0915 -0.1578 -0.0465 -0.0721 -0.2037 -0.1253 -0.0174  0.0425 -0.1802\n",
       " 0.0635 -0.1182 -0.0022  0.1119 -0.1124  0.0067  0.0475  0.0466 -0.0644 -0.0551\n",
       "-0.0846 -0.1524  0.0511 -0.0805  0.1223 -0.0420  0.2160 -0.0263 -0.0712 -0.0009\n",
       "-0.1293  0.0155  0.1005  0.0443 -0.0664 -0.0833  0.1675  0.0792 -0.0639  0.0283\n",
       " 0.1945  0.0750 -0.1294  0.1186 -0.1057  0.0280  0.0307 -0.2511  0.1740 -0.1212\n",
       "-0.0755  0.1519  0.0238  0.1298 -0.0651 -0.0903  0.1129 -0.0126  0.0790 -0.0052\n",
       " 0.0052  0.0569 -0.2045  0.1649 -0.1510  0.0398  0.1033  0.0669  0.1166 -0.1541\n",
       "-0.1731 -0.0101 -0.1228 -0.0045 -0.0400 -0.0724  0.1638 -0.0300 -0.1105 -0.0449\n",
       "\n",
       "Columns 20 to 29 \n",
       "-0.2011  0.0999 -0.0331  0.0077  0.0540  0.0550 -0.1442  0.1135  0.1175 -0.0894\n",
       "-0.1329  0.0187 -0.0418 -0.0684 -0.0007  0.0783  0.1293 -0.0605  0.0872  0.1702\n",
       " 0.1270 -0.2032 -0.1423 -0.1225 -0.1859 -0.1306 -0.1092 -0.0616  0.1452 -0.0964\n",
       "-0.0105 -0.1047  0.0646  0.1389  0.0449  0.0144 -0.1121  0.1178 -0.0922 -0.0917\n",
       "-0.0553 -0.0170 -0.0500 -0.0118  0.0408 -0.0953  0.2104  0.1035  0.1056 -0.1003\n",
       "-0.0015 -0.1406  0.2064  0.1682 -0.1848  0.0608  0.1142 -0.1471 -0.0066 -0.0376\n",
       "-0.0925  0.1145 -0.0748 -0.0110  0.1520  0.0074 -0.0726  0.0205  0.0048 -0.0322\n",
       "-0.1837 -0.1640  0.0931  0.1525 -0.0615  0.0734  0.2208  0.1618 -0.0388 -0.1419\n",
       " 0.0503 -0.0543 -0.0742 -0.1679  0.1563 -0.0960 -0.1956 -0.0089  0.0001 -0.1579\n",
       " 0.0360  0.0143  0.1148  0.1545  0.0541 -0.0635  0.1601  0.0015  0.1760  0.1677\n",
       "-0.0954 -0.0454  0.2457  0.1687  0.0029 -0.0030  0.1843  0.0407 -0.0738 -0.1364\n",
       " 0.0125 -0.0345  0.1844  0.2106  0.1440 -0.0725  0.0003 -0.0050 -0.0356  0.1671\n",
       "-0.0087  0.2083  0.0435 -0.0287  0.0643  0.0287  0.0411  0.0748 -0.1399  0.1152\n",
       " 0.1699  0.1154 -0.0572 -0.0008 -0.1433  0.1812  0.1820 -0.0300 -0.0610  0.0025\n",
       " 0.0790 -0.0771  0.0001 -0.1171 -0.1619 -0.0029 -0.0296  0.0226 -0.0591  0.1345\n",
       "-0.1098 -0.0640  0.1482  0.1617 -0.1288 -0.1320 -0.0127  0.1934  0.0258 -0.0094\n",
       " 0.1502 -0.0053  0.1729 -0.1917 -0.0456 -0.0561  0.0392  0.0060  0.1095  0.1087\n",
       "-0.1284 -0.0553 -0.0628  0.1080  0.0733  0.1225 -0.0723  0.1095  0.0610 -0.0745\n",
       " 0.0877  0.0676  0.1079  0.0513 -0.0943  0.1455  0.0092 -0.0603 -0.1136 -0.0304\n",
       " 0.0410  0.0419  0.1260 -0.0197 -0.0974 -0.1485  0.0119 -0.0763  0.0051 -0.1108\n",
       "-0.1858  0.0217  0.0459 -0.1422  0.0612 -0.0915 -0.0260  0.0748  0.0256 -0.0129\n",
       "\n",
       "Columns 30 to 30 \n",
       " 0.0972\n",
       "-0.0916\n",
       "-0.1124\n",
       "-0.1359\n",
       " 0.0015\n",
       " 0.1022\n",
       "-0.0715\n",
       "-0.0305\n",
       "-0.1204\n",
       "-0.0854\n",
       " 0.0041\n",
       " 0.1016\n",
       " 0.2877\n",
       " 0.0424\n",
       "-0.0883\n",
       " 0.0225\n",
       " 0.0558\n",
       "-0.1577\n",
       " 0.0340\n",
       "-0.0522\n",
       "-0.0405\n",
       "[torch.FloatTensor of size 21x31]"
      ]
     },
     "execution_count": 49,
     "metadata": {},
     "output_type": "execute_result"
    }
   ],
   "source": [
    "dim_corrected_model_2[(0)].weight"
   ]
  },
  {
   "cell_type": "code",
   "execution_count": 50,
   "metadata": {
    "collapsed": false
   },
   "outputs": [
    {
     "data": {
      "text/plain": [
       "Parameter containing:\n",
       "\n",
       "Columns 0 to 9 \n",
       "-0.0225  0.0617 -0.1809 -0.0995 -0.1785 -0.2355 -0.0476 -0.0826  0.0306  0.2138\n",
       " 0.1135  0.1323  0.0440  0.0687 -0.2179  0.2130  0.1330  0.0631  0.2538  0.1067\n",
       " 0.1706 -0.2181  0.2418 -0.0258  0.1181 -0.1462 -0.1155  0.1555 -0.1624 -0.0009\n",
       "-0.1271  0.1676 -0.1768  0.0313 -0.1882 -0.1146  0.0217 -0.0670  0.1156 -0.1030\n",
       " 0.1282  0.1029 -0.0944 -0.1436  0.0883  0.1091  0.1563  0.0030  0.2353  0.0850\n",
       "-0.1354 -0.1391 -0.1391  0.1440  0.0116 -0.0588  0.1772 -0.0806  0.2354  0.2230\n",
       "-0.2136  0.0601  0.2216 -0.1867 -0.0505 -0.1590 -0.0574 -0.0324 -0.1212  0.0211\n",
       " 0.2957 -0.3038  0.0846 -0.0139 -0.1243  0.0405  0.1956 -0.0641 -0.1227 -0.1185\n",
       "-0.0156  0.1482  0.1191 -0.0251  0.1855  0.1964  0.2528 -0.3064 -0.0761 -0.1421\n",
       " 0.2470 -0.1738  0.1961 -0.0006 -0.0153  0.0907 -0.1896 -0.1454 -0.0169  0.1176\n",
       "-0.2361 -0.1492 -0.1005  0.0704  0.2229  0.1322  0.0907 -0.2093  0.1056 -0.1641\n",
       "-0.1271 -0.2233  0.2159  0.1377 -0.0053  0.2387 -0.0325 -0.2296  0.0559 -0.3277\n",
       "-0.2135  0.2206 -0.0867 -0.1991 -0.0028 -0.1164 -0.1955 -0.1786 -0.0899 -0.1355\n",
       "-0.1577 -0.0070 -0.2219  0.2481  0.1017  0.2563 -0.0671  0.1206  0.1141  0.0151\n",
       "\n",
       "Columns 10 to 19 \n",
       " 0.0879 -0.1274  0.0785 -0.0176  0.1476 -0.1292 -0.0018  0.2327  0.1578 -0.1620\n",
       " 0.1480 -0.1912 -0.2198  0.0059  0.0369  0.1548 -0.0892  0.1985  0.0280 -0.0692\n",
       " 0.1733 -0.1362 -0.2423 -0.1428 -0.0486 -0.1178 -0.1263  0.0114  0.0300  0.1633\n",
       " 0.1587 -0.0327 -0.1294  0.1439  0.0592 -0.0860 -0.1600 -0.1027 -0.0848 -0.1477\n",
       " 0.0918  0.2381 -0.0208 -0.0673  0.1078 -0.1361  0.1823 -0.1062 -0.1169  0.0559\n",
       " 0.2705  0.1383  0.1884  0.2386 -0.2558 -0.0215 -0.1792 -0.1300 -0.0688  0.0229\n",
       "-0.1263 -0.1534  0.1378  0.1952 -0.0208  0.1024 -0.0684 -0.1933  0.0753 -0.0106\n",
       "-0.0094 -0.0921  0.2437 -0.0186  0.1314 -0.1660  0.1537  0.0564 -0.0142 -0.2912\n",
       " 0.1985  0.2113  0.0175  0.2149  0.0521  0.0652  0.1980  0.0845  0.1468  0.1545\n",
       "-0.0634 -0.0348 -0.0755 -0.1046  0.0263  0.1779  0.1194  0.0322 -0.1548  0.0033\n",
       "-0.0376  0.1778 -0.0361  0.1131 -0.0998 -0.1684  0.1525  0.0783  0.1589  0.2205\n",
       "-0.0193 -0.1077  0.0722  0.0957  0.1335  0.1351  0.0373  0.0183  0.1377 -0.0679\n",
       " 0.1813  0.1635  0.0935 -0.1857 -0.0039  0.2155  0.1662  0.0905  0.0236 -0.0848\n",
       " 0.2257 -0.1702  0.0718 -0.2131  0.2490 -0.0668 -0.2626 -0.1863 -0.0820  0.0659\n",
       "\n",
       "Columns 20 to 20 \n",
       " 0.1756\n",
       "-0.0311\n",
       " 0.0804\n",
       " 0.0747\n",
       " 0.0151\n",
       "-0.0655\n",
       "-0.0348\n",
       " 0.2024\n",
       " 0.0894\n",
       "-0.2478\n",
       " 0.1170\n",
       " 0.0909\n",
       "-0.0815\n",
       " 0.0434\n",
       "[torch.FloatTensor of size 14x21]"
      ]
     },
     "execution_count": 50,
     "metadata": {},
     "output_type": "execute_result"
    }
   ],
   "source": [
    "dim_corrected_model_2[(2)].weight"
   ]
  },
  {
   "cell_type": "code",
   "execution_count": 51,
   "metadata": {
    "collapsed": false
   },
   "outputs": [
    {
     "data": {
      "text/plain": [
       "Parameter containing:\n",
       "\n",
       "Columns 0 to 9 \n",
       "-0.2545  0.3396  0.2004 -0.1280  0.3358  0.4494 -0.2577 -0.4981  0.3737  0.3041\n",
       "\n",
       "Columns 10 to 13 \n",
       " 0.3849 -0.4958 -0.0221 -0.4615\n",
       "[torch.FloatTensor of size 1x14]"
      ]
     },
     "execution_count": 51,
     "metadata": {},
     "output_type": "execute_result"
    }
   ],
   "source": [
    "dim_corrected_model_2[(4)].weight"
   ]
  },
  {
   "cell_type": "markdown",
   "metadata": {},
   "source": [
    "## Round 3: Three-Hidden-Layers Neural Network"
   ]
  },
  {
   "cell_type": "code",
   "execution_count": 52,
   "metadata": {
    "collapsed": true
   },
   "outputs": [],
   "source": [
    "# Make the torch Tensor into a PyTorch Variable for dependent variables\n",
    "outcomes_Variable = Variable(outcomes_Tensor)\n",
    "\n",
    "\n",
    "# ...for independent variables\n",
    "features_Variable = Variable(features_Tensor,\n",
    "                             requires_grad = False)"
   ]
  },
  {
   "cell_type": "code",
   "execution_count": 53,
   "metadata": {
    "collapsed": false
   },
   "outputs": [],
   "source": [
    "# Make the neural network\n",
    "model = torch.nn.Sequential(torch.nn.Linear(31, 21),\n",
    "                            torch.nn.ReLU(),\n",
    "                            torch.nn.Linear(21, 14),\n",
    "                            torch.nn.ReLU(),\n",
    "                            torch.nn.Linear(14, 9),\n",
    "                            torch.nn.ReLU(),\n",
    "                            torch.nn.Linear(9, 1))"
   ]
  },
  {
   "cell_type": "code",
   "execution_count": 54,
   "metadata": {
    "collapsed": false
   },
   "outputs": [],
   "source": [
    "# To add errors to\n",
    "errors = []\n",
    "\n",
    "\n",
    "# Set the learning rate\n",
    "learning_rate = 5e-6\n",
    "\n",
    "\n",
    "# Train the neural network\n",
    "for t in range(10000):\n",
    "    \n",
    "    # Get the current predictions\n",
    "    y_pred = model(features_Variable)\n",
    "    \n",
    "    # Compute and append current summed errors\n",
    "    loss = loss_fn(y_pred, outcomes_Variable)\n",
    "    errors.append(loss.data[0])\n",
    "    \n",
    "    # Zero the gradients before running the backward pass.\n",
    "    model.zero_grad()\n",
    "    \n",
    "    # Backward pass: compute gradient of the loss with respect to all the learnable Variables\n",
    "    loss.backward()\n",
    "    \n",
    "    # Update the weights using gradient descent\n",
    "    for param in model.parameters():\n",
    "        param.data -= learning_rate * param.grad.data"
   ]
  },
  {
   "cell_type": "code",
   "execution_count": 55,
   "metadata": {
    "collapsed": false
   },
   "outputs": [
    {
     "data": {
      "text/plain": [
       "<matplotlib.collections.PathCollection at 0x7f1c3c2883c8>"
      ]
     },
     "execution_count": 55,
     "metadata": {},
     "output_type": "execute_result"
    },
    {
     "data": {
      "image/png": "[encoded data removed]",
      "text/plain": [
       "<matplotlib.figure.Figure at 0x7f1c3c348860>"
      ]
     },
     "metadata": {},
     "output_type": "display_data"
    }
   ],
   "source": [
    "# Plot summed error as a function of iteration\n",
    "plt.scatter(iterations, errors)"
   ]
  },
  {
   "cell_type": "code",
   "execution_count": 56,
   "metadata": {
    "collapsed": true
   },
   "outputs": [],
   "source": [
    "# Get rid of the 2nd dimension of 1 from the FloatTensor\n",
    "y_pred_resized = y_pred.resize(8270)\n",
    "\n",
    "\n",
    "# Make the FloatTensor into a numpy.array\n",
    "y_pred_array = y_pred_resized.data.numpy()\n",
    "\n",
    "\n",
    "# Make the numpy.array into a list\n",
    "y_pred_list = y_pred_array.tolist()"
   ]
  },
  {
   "cell_type": "code",
   "execution_count": 57,
   "metadata": {
    "collapsed": false
   },
   "outputs": [
    {
     "data": {
      "text/plain": [
       "[<matplotlib.lines.Line2D at 0x7f1c3c506518>]"
      ]
     },
     "execution_count": 57,
     "metadata": {},
     "output_type": "execute_result"
    },
    {
     "data": {
      "image/png": "[encoded data removed]",
      "text/plain": [
       "<matplotlib.figure.Figure at 0x7f1c3c506400>"
      ]
     },
     "metadata": {},
     "output_type": "display_data"
    }
   ],
   "source": [
    "# Plot predictions versus training set outcomes\n",
    "plt.scatter(outcomes_list, y_pred_list)\n",
    "\n",
    "axes = plt.gca()\n",
    "\n",
    "axes.set_xlim([-2, 4])\n",
    "\n",
    "axes.set_ylim([-2, 4])\n",
    "\n",
    "plt.plot([-2, 4], [-2, 4], 'k-', lw=2)"
   ]
  },
  {
   "cell_type": "markdown",
   "metadata": {},
   "source": [
    "### Round 3.1: Validation Set Performance"
   ]
  },
  {
   "cell_type": "code",
   "execution_count": 58,
   "metadata": {
    "collapsed": false
   },
   "outputs": [],
   "source": [
    "# Have to make a new model and give it the train_model parameters to fix structure problem\n",
    "dim_corrected_model = torch.nn.Sequential(torch.nn.Linear(31, 21),\n",
    "                                          torch.nn.ReLU(),\n",
    "                                          torch.nn.Linear(21, 14),\n",
    "                                          torch.nn.ReLU(),\n",
    "                                          torch.nn.Linear(14, 9),\n",
    "                                          torch.nn.ReLU(),\n",
    "                                          torch.nn.Linear(9, 1))\n",
    "\n",
    "\n",
    "# Give the new model the old model's parameters\n",
    "dim_corrected_model[(0)].weight = model[(0)].weight\n",
    "dim_corrected_model[(2)].weight = model[(2)].weight\n",
    "dim_corrected_model[(4)].weight = model[(4)].weight\n",
    "dim_corrected_model[(6)].weight = model[(6)].weight"
   ]
  },
  {
   "cell_type": "code",
   "execution_count": 59,
   "metadata": {
    "collapsed": false
   },
   "outputs": [
    {
     "data": {
      "text/plain": [
       "Variable containing:\n",
       " 1892.3357\n",
       "[torch.FloatTensor of size 1]"
      ]
     },
     "execution_count": 59,
     "metadata": {},
     "output_type": "execute_result"
    }
   ],
   "source": [
    "# Get the validation set predictions\n",
    "y_valid_pred = dim_corrected_model(valid_predictors_Variable)\n",
    "\n",
    "\n",
    "# Print the loss\n",
    "loss_fn(y_valid_pred,\n",
    "        valid_outcomes_Variable)"
   ]
  },
  {
   "cell_type": "code",
   "execution_count": 60,
   "metadata": {
    "collapsed": false
   },
   "outputs": [],
   "source": [
    "# Get rid of the 2nd dimension of 1 from the FloatTensor\n",
    "y_valid_pred_resized = y_valid_pred.resize(2709)\n",
    "\n",
    "\n",
    "# Make the FloatTensor into a numpy.array\n",
    "y_valid_pred_array = y_valid_pred_resized.data.numpy()\n",
    "\n",
    "\n",
    "# Make the numpy.array into a list\n",
    "y_valid_pred_list = y_valid_pred_array.tolist()"
   ]
  },
  {
   "cell_type": "code",
   "execution_count": 61,
   "metadata": {
    "collapsed": false
   },
   "outputs": [
    {
     "data": {
      "text/plain": [
       "[<matplotlib.lines.Line2D at 0x7f1c3c12bf98>]"
      ]
     },
     "execution_count": 61,
     "metadata": {},
     "output_type": "execute_result"
    },
    {
     "data": {
      "image/png": "[encoded data removed]",
      "text/plain": [
       "<matplotlib.figure.Figure at 0x7f1c3c1c7630>"
      ]
     },
     "metadata": {},
     "output_type": "display_data"
    }
   ],
   "source": [
    "# Plot new predictions versus new data outcomes\n",
    "plt.scatter(valid_outcomes_list, y_valid_pred_list)\n",
    "\n",
    "axes = plt.gca()\n",
    "\n",
    "axes.set_xlim([-2, 4])\n",
    "\n",
    "axes.set_ylim([-2, 4])\n",
    "\n",
    "plt.plot([-2, 4], [-2, 4], 'k-', lw=2)"
   ]
  },
  {
   "cell_type": "markdown",
   "metadata": {},
   "source": [
    "### Round 3.2: Test Set Performance"
   ]
  },
  {
   "cell_type": "code",
   "execution_count": 62,
   "metadata": {
    "collapsed": true
   },
   "outputs": [],
   "source": [
    "# Have to make a new model and give it the train_model parameters to fix structure problem\n",
    "dim_corrected_model_2 = torch.nn.Sequential(torch.nn.Linear(31, 21),\n",
    "                                            torch.nn.ReLU(),\n",
    "                                            torch.nn.Linear(21, 14),\n",
    "                                            torch.nn.ReLU(),\n",
    "                                            torch.nn.Linear(14, 9),\n",
    "                                            torch.nn.ReLU(),\n",
    "                                            torch.nn.Linear(9, 1))\n",
    "\n",
    "\n",
    "# Give the new model the old model's parameters\n",
    "dim_corrected_model_2[(0)].weight = model[(0)].weight\n",
    "dim_corrected_model_2[(2)].weight = model[(2)].weight\n",
    "dim_corrected_model_2[(4)].weight = model[(4)].weight\n",
    "dim_corrected_model_2[(6)].weight = model[(6)].weight"
   ]
  },
  {
   "cell_type": "code",
   "execution_count": 63,
   "metadata": {
    "collapsed": false
   },
   "outputs": [
    {
     "data": {
      "text/plain": [
       "Variable containing:\n",
       " 1185.2614\n",
       "[torch.FloatTensor of size 1]"
      ]
     },
     "execution_count": 63,
     "metadata": {},
     "output_type": "execute_result"
    }
   ],
   "source": [
    "# Get the validation set predictions\n",
    "y_test_pred = dim_corrected_model_2(test_predictors_Variable)\n",
    "\n",
    "\n",
    "# Print the loss\n",
    "loss_fn(y_test_pred,\n",
    "        test_outcomes_Variable)"
   ]
  },
  {
   "cell_type": "code",
   "execution_count": 64,
   "metadata": {
    "collapsed": true
   },
   "outputs": [],
   "source": [
    "# Get rid of the 2nd dimension of 1 from the FloatTensor\n",
    "y_test_pred_resized = y_test_pred.resize(2712)\n",
    "\n",
    "\n",
    "# Make the FloatTensor into a numpy.array\n",
    "y_test_pred_array = y_test_pred_resized.data.numpy()\n",
    "\n",
    "\n",
    "# Convert back to native units and scale\n",
    "y_test_pred_array = y_test_pred_array*5.409956 + 7.691221\n",
    "\n",
    "\n",
    "# Make the numpy.array into a list\n",
    "y_test_pred_list = y_test_pred_array.tolist()"
   ]
  },
  {
   "cell_type": "code",
   "execution_count": 65,
   "metadata": {
    "collapsed": false
   },
   "outputs": [
    {
     "data": {
      "text/plain": [
       "<matplotlib.text.Text at 0x7f1c3c1147b8>"
      ]
     },
     "execution_count": 65,
     "metadata": {},
     "output_type": "execute_result"
    },
    {
     "data": {
      "image/png": "[encoded data removed]",
      "text/plain": [
       "<matplotlib.figure.Figure at 0x7f1c3c175278>"
      ]
     },
     "metadata": {},
     "output_type": "display_data"
    }
   ],
   "source": [
    "# Plot new predictions versus new data outcomes\n",
    "\n",
    "plt.scatter(test_outcomes_list, y_test_pred_list)\n",
    "\n",
    "axes = plt.gca()\n",
    "\n",
    "axes.set_xlim([2, 23])\n",
    "\n",
    "axes.set_ylim([2, 23])\n",
    "\n",
    "axes.set_xticks([2, 5, 8, 11, 14, 17, 20, 23])\n",
    "\n",
    "axes.set_yticks([2, 5, 8, 11, 14, 17, 20, 23])\n",
    "\n",
    "plt.plot([2, 23], [2, 23], 'k-', lw=2)\n",
    "\n",
    "axes.set_xlabel(\"Actual Outcome (Log-Transformed US Dollars)\")\n",
    "\n",
    "axes.set_ylabel(\"Model Prediction (Log-Transformed US Dollars)\")\n",
    "\n",
    "axes.set_title(\"Model Performance\")"
   ]
  },
  {
   "cell_type": "code",
   "execution_count": 66,
   "metadata": {
    "collapsed": false
   },
   "outputs": [
    {
     "data": {
      "text/plain": [
       "Parameter containing:\n",
       "\n",
       "Columns 0 to 9 \n",
       " 0.1214  0.0121  0.1132 -0.0767  0.0063 -0.1866 -0.2154  0.1207  0.0055  0.0661\n",
       " 0.1124  0.0241  0.2462 -0.0248  0.1595 -0.1508  0.0272 -0.0615 -0.0617  0.0493\n",
       " 0.0491 -0.0580  0.0092  0.1583 -0.1507 -0.0218  0.0840  0.0425 -0.0623 -0.0903\n",
       " 0.0251 -0.1183 -0.2061  0.0112 -0.0978 -0.3127 -0.0452  0.0003 -0.0425 -0.0585\n",
       "-0.1316  0.1193 -0.2274 -0.1209  0.0041 -0.1663 -0.0282  0.0972 -0.1667  0.1383\n",
       " 0.1162 -0.0466 -0.1136  0.2242  0.1004  0.0535 -0.0148  0.1482 -0.0399  0.0704\n",
       "-0.0810  0.1287  0.1711  0.1886  0.0356  0.0227 -0.1287 -0.1387 -0.1517 -0.0079\n",
       " 0.0638  0.2662  0.2230  0.1172  0.2139 -0.2306  0.2113  0.0057  0.0719  0.0088\n",
       "-0.0305 -0.0310  0.0731 -0.2049 -0.0641 -0.1094  0.0358 -0.2044 -0.0219  0.0775\n",
       " 0.0826  0.0467 -0.1823 -0.1815  0.0775 -0.1953  0.0897 -0.0034 -0.1378  0.0836\n",
       " 0.1075  0.0998  0.1005  0.0940  0.1522 -0.0679 -0.1454 -0.0294  0.0398 -0.0934\n",
       " 0.0562 -0.2638 -0.0658 -0.0794  0.2965 -0.0237  0.0937  0.0752 -0.0198  0.0872\n",
       " 0.0742  0.0228 -0.0171 -0.0818  0.0396 -0.0135 -0.1643 -0.0145  0.0502 -0.2244\n",
       " 0.2024 -0.0434  0.0475  0.0334  0.0276 -0.1060 -0.0270  0.0415  0.0573  0.1268\n",
       "-0.1674 -0.1835  0.1340  0.0109 -0.1516 -0.1788  0.0014  0.1182  0.0042  0.1238\n",
       "-0.2207 -0.0913  0.0162  0.1228 -0.0918 -0.2173  0.0070 -0.1702  0.0964 -0.1546\n",
       "-0.0642 -0.1670  0.0811  0.1685 -0.1880  0.0155 -0.1195  0.1345 -0.1841  0.0959\n",
       " 0.0976  0.0163 -0.0006  0.2020 -0.0637  0.1502  0.1715  0.0237  0.0825  0.0622\n",
       "-0.0160  0.0895 -0.1341 -0.0275 -0.0033  0.0702 -0.0558  0.0388 -0.0689  0.1175\n",
       "-0.1837  0.2044 -0.1417 -0.0885  0.0834 -0.2092  0.0708 -0.0474 -0.1096 -0.0278\n",
       " 0.0998  0.1781  0.0228 -0.0464  0.0350  0.1129  0.1305 -0.0051  0.0213 -0.1407\n",
       "\n",
       "Columns 10 to 19 \n",
       " 0.1144  0.0855 -0.1392  0.1040 -0.0044 -0.0597 -0.0477  0.0081  0.0794 -0.1006\n",
       " 0.0191 -0.0846  0.1171  0.1468  0.0207 -0.1114 -0.0840  0.1475  0.0333 -0.1462\n",
       " 0.0751  0.0606  0.0928  0.0824  0.1826 -0.0793  0.0587 -0.0639  0.0169 -0.0369\n",
       " 0.1089 -0.0544 -0.1422 -0.1466 -0.1964  0.0835  0.0241  0.1042 -0.0646 -0.0278\n",
       "-0.1456 -0.0804 -0.0352  0.0737 -0.0875 -0.0551 -0.1054  0.0504 -0.1189 -0.0333\n",
       " 0.1315  0.0840  0.1207  0.0010  0.0951  0.0869 -0.1505 -0.0120 -0.0591  0.0237\n",
       "-0.0556 -0.0507 -0.1528 -0.0245 -0.1241  0.0544  0.0793  0.2604  0.1875 -0.2264\n",
       " 0.0799  0.0745 -0.0184 -0.0036 -0.0663 -0.0240  0.0372 -0.0309 -0.0336 -0.0440\n",
       " 0.0040 -0.0317  0.0576  0.0488 -0.1141  0.1655 -0.0164 -0.1944  0.0976 -0.1645\n",
       " 0.0922  0.0020  0.0153  0.1140  0.0890  0.0731  0.0545 -0.0268  0.1909  0.0128\n",
       "-0.0816 -0.0708  0.2105 -0.0294 -0.1359 -0.1561 -0.1051  0.1413 -0.1748  0.1656\n",
       " 0.0604 -0.1638  0.0761  0.0365  0.0245  0.0171  0.2630  0.0115  0.0074  0.0802\n",
       "-0.0597  0.0155 -0.0958 -0.0802  0.1114 -0.0326 -0.1747  0.1797 -0.0531  0.0936\n",
       " 0.0412 -0.1880 -0.1015 -0.1352  0.0887 -0.0630  0.0327 -0.0417 -0.1160 -0.0026\n",
       " 0.1773 -0.0498  0.0151  0.1456 -0.0891  0.0019  0.1641 -0.0363  0.0924  0.0484\n",
       "-0.0866  0.0257 -0.1387  0.0039 -0.0742 -0.0624 -0.1209  0.1283  0.1277 -0.0450\n",
       "-0.0291 -0.0859  0.1372  0.0056  0.0584 -0.0160 -0.0906  0.0021 -0.1772 -0.1482\n",
       " 0.1367  0.1796  0.1288 -0.1180 -0.1031  0.0947  0.0113  0.0780 -0.0342  0.0792\n",
       "-0.1218 -0.0476 -0.2032 -0.1111  0.0461  0.1561 -0.0761  0.0021  0.1431 -0.1455\n",
       " 0.0234 -0.0435  0.1005 -0.0819 -0.0173  0.0079 -0.0809  0.0841 -0.1271 -0.0965\n",
       "-0.0471  0.0326 -0.1283  0.1174 -0.0074 -0.2588  0.1126  0.0641  0.0129 -0.0635\n",
       "\n",
       "Columns 20 to 29 \n",
       " 0.1151 -0.0217  0.0569  0.1157 -0.0114  0.1274  0.0153  0.0777  0.1972 -0.0198\n",
       " 0.0887 -0.1740  0.2474 -0.1334  0.1100  0.1705  0.1292 -0.2182  0.0469 -0.1258\n",
       "-0.0197  0.1023 -0.0248  0.1015 -0.0060 -0.0382 -0.1246 -0.1666 -0.2181 -0.1813\n",
       "-0.1097 -0.0439 -0.1669  0.0155 -0.0589  0.0008  0.0275 -0.0248  0.0458  0.0748\n",
       "-0.1195 -0.0580 -0.1731 -0.0999 -0.0692  0.1886 -0.0836  0.0343  0.0018 -0.0427\n",
       " 0.0667  0.0175 -0.0300  0.0507  0.0703 -0.1645  0.1638  0.0466 -0.1214  0.1719\n",
       "-0.0030 -0.0673 -0.0738 -0.0030 -0.0375 -0.0792  0.1549 -0.0383  0.0818 -0.0043\n",
       " 0.0131  0.1197  0.0873 -0.0637  0.0829  0.0098  0.0208 -0.0939  0.0635 -0.1406\n",
       " 0.1783 -0.0880  0.1318 -0.0150  0.1771  0.0091  0.0927  0.0579 -0.1453 -0.0853\n",
       " 0.0705 -0.1047 -0.0268  0.0014 -0.1568 -0.0846  0.0476 -0.2448  0.0674  0.0854\n",
       " 0.0975  0.0112 -0.1079  0.1769  0.2043  0.0547  0.1015  0.0288  0.0316  0.0243\n",
       "-0.0521 -0.0484  0.1048  0.1876 -0.0391 -0.0456  0.2379 -0.1752  0.1364  0.0407\n",
       " 0.0950  0.1549 -0.1360  0.0069 -0.0773 -0.0881  0.0519 -0.0928 -0.0179 -0.0698\n",
       " 0.0787  0.0652  0.0000  0.1696  0.0027 -0.1490 -0.0330 -0.0570  0.1935 -0.1629\n",
       " 0.0962  0.1758 -0.1084 -0.1288  0.1774 -0.1408 -0.2468  0.0791  0.0203  0.0544\n",
       "-0.0978 -0.0406 -0.0051  0.1216 -0.1206  0.1638  0.1603  0.1279 -0.0117 -0.1233\n",
       " 0.0335  0.2219 -0.0161 -0.0014  0.0451 -0.0709 -0.0218 -0.0452  0.1495  0.0724\n",
       " 0.0840 -0.0051 -0.0208  0.0450  0.0119  0.1999 -0.1259 -0.0825  0.1231 -0.0051\n",
       " 0.0252  0.0043 -0.0409  0.1539 -0.0606  0.0003  0.0646 -0.1792 -0.0488  0.1007\n",
       "-0.0137  0.0332  0.0911  0.1070  0.1293 -0.0243 -0.1185 -0.1024  0.1286  0.2741\n",
       " 0.0591  0.2151 -0.0353 -0.0662  0.0290  0.0431 -0.1709 -0.1130  0.0634  0.0907\n",
       "\n",
       "Columns 30 to 30 \n",
       "-0.1254\n",
       " 0.0140\n",
       "-0.1512\n",
       " 0.1037\n",
       "-0.1667\n",
       " 0.1227\n",
       "-0.0345\n",
       "-0.0697\n",
       "-0.0762\n",
       "-0.1539\n",
       "-0.0118\n",
       "-0.0316\n",
       " 0.0353\n",
       " 0.0560\n",
       "-0.0239\n",
       "-0.0603\n",
       " 0.0963\n",
       "-0.0529\n",
       " 0.0126\n",
       " 0.1142\n",
       " 0.2229\n",
       "[torch.FloatTensor of size 21x31]"
      ]
     },
     "execution_count": 66,
     "metadata": {},
     "output_type": "execute_result"
    }
   ],
   "source": [
    "dim_corrected_model_2[(0)].weight"
   ]
  },
  {
   "cell_type": "code",
   "execution_count": 67,
   "metadata": {
    "collapsed": false
   },
   "outputs": [
    {
     "data": {
      "text/plain": [
       "Parameter containing:\n",
       "\n",
       "Columns 0 to 9 \n",
       " 0.0118 -0.0326  0.1724 -0.1575  0.1464  0.0819 -0.0049 -0.0811 -0.1762 -0.1996\n",
       " 0.1598  0.1072  0.2001  0.0562 -0.0763  0.1358  0.1757  0.1560  0.1714 -0.2485\n",
       " 0.0739 -0.0701  0.0107  0.0984 -0.1169 -0.0982 -0.0174 -0.1120  0.0766 -0.1344\n",
       "-0.0984  0.3109  0.0370  0.2300  0.2624 -0.0259  0.1545 -0.2107  0.0013  0.0873\n",
       "-0.0438  0.2364 -0.1322 -0.1750 -0.0388 -0.0454  0.1686  0.1932  0.0218 -0.1495\n",
       " 0.0036 -0.0815  0.0785 -0.0750 -0.1800  0.1211  0.0503  0.0353  0.0121 -0.0555\n",
       "-0.1543 -0.0224  0.1950  0.0436  0.0465  0.0400  0.2209  0.0382 -0.0440 -0.2209\n",
       " 0.0632 -0.0677  0.0231 -0.1258  0.1046  0.0856  0.0546  0.1419  0.0090  0.0191\n",
       " 0.1473  0.1980  0.1742 -0.0919 -0.2267 -0.2227 -0.2235  0.1868 -0.1997  0.0948\n",
       " 0.1877 -0.0768  0.0693 -0.0585 -0.0916 -0.1296 -0.1420 -0.1747 -0.1224 -0.1201\n",
       " 0.2468  0.1988  0.1494  0.1868 -0.1394  0.1696 -0.0430  0.0181 -0.0147  0.0173\n",
       " 0.0792  0.1159 -0.1760  0.1731 -0.1203 -0.1994 -0.0218 -0.0638 -0.1871 -0.0488\n",
       "-0.0965  0.0542  0.0649 -0.2271 -0.1368  0.1960  0.0830  0.2360 -0.1847 -0.0913\n",
       "-0.0861  0.0086 -0.0536 -0.1758  0.2431  0.0925  0.0363  0.0952 -0.0355  0.2078\n",
       "\n",
       "Columns 10 to 19 \n",
       " 0.1034 -0.1713 -0.0482 -0.0248  0.0083 -0.0907  0.0127 -0.0059  0.0022 -0.1788\n",
       " 0.2461 -0.1990 -0.1520  0.1412 -0.2090  0.1015 -0.0806 -0.0718  0.0512  0.1586\n",
       " 0.1030  0.0335  0.2475 -0.0447  0.1735  0.1893  0.1608 -0.1079 -0.0250  0.1014\n",
       " 0.0301 -0.2636 -0.2548  0.1149  0.1653  0.1227  0.0536  0.2833 -0.1930 -0.0710\n",
       " 0.1422  0.1851 -0.0932  0.0878 -0.0434  0.2004 -0.2369 -0.0308  0.0854  0.1056\n",
       " 0.0928 -0.0393  0.1031  0.2219  0.2492 -0.2075 -0.1518 -0.0266  0.1059 -0.0356\n",
       " 0.1253  0.2164 -0.0907  0.1910  0.0345  0.0962  0.1773 -0.0437  0.1306  0.1586\n",
       " 0.0973 -0.1169  0.0259  0.0888  0.2342 -0.1992  0.0289 -0.1590  0.0161  0.0755\n",
       " 0.0119 -0.0115  0.0535  0.0731 -0.0775 -0.0785  0.0287 -0.0302 -0.2149  0.0239\n",
       "-0.1465  0.0197 -0.2100  0.1824 -0.3396 -0.0099 -0.1864  0.2103  0.1319  0.2688\n",
       "-0.0056  0.2014  0.0836 -0.1271  0.0389  0.2118 -0.0739  0.0206 -0.0302 -0.1792\n",
       "-0.0397  0.0443 -0.1164  0.0328  0.1652  0.1821  0.0042  0.0516  0.0979 -0.1948\n",
       " 0.0011  0.0615 -0.0047 -0.0950 -0.2106 -0.1851  0.0749 -0.1521 -0.1003 -0.0455\n",
       " 0.1825 -0.1009  0.0575  0.1567 -0.0489 -0.2365 -0.2213  0.2075  0.0123 -0.2440\n",
       "\n",
       "Columns 20 to 20 \n",
       " 0.0525\n",
       " 0.1864\n",
       "-0.1621\n",
       " 0.2488\n",
       " 0.1083\n",
       "-0.1248\n",
       "-0.0128\n",
       " 0.1393\n",
       " 0.0877\n",
       " 0.1938\n",
       " 0.0146\n",
       "-0.2203\n",
       "-0.1680\n",
       "-0.1846\n",
       "[torch.FloatTensor of size 14x21]"
      ]
     },
     "execution_count": 67,
     "metadata": {},
     "output_type": "execute_result"
    }
   ],
   "source": [
    "dim_corrected_model_2[(2)].weight"
   ]
  },
  {
   "cell_type": "code",
   "execution_count": 68,
   "metadata": {
    "collapsed": false
   },
   "outputs": [
    {
     "data": {
      "text/plain": [
       "Parameter containing:\n",
       "\n",
       "Columns 0 to 9 \n",
       " 0.1833  0.1360  0.2926 -0.3854  0.2333  0.0321  0.2802  0.0495 -0.3801  0.3972\n",
       " 0.1804 -0.1779  0.0888 -0.1443  0.2170 -0.2389 -0.1076 -0.0198 -0.2578  0.0024\n",
       " 0.0017 -0.0003  0.0757 -0.2462  0.3057 -0.2160 -0.1435 -0.1956  0.1323 -0.0047\n",
       " 0.0954  0.1709  0.2918 -0.3971  0.2454 -0.0327  0.0933 -0.1250 -0.0325  0.1722\n",
       "-0.1293 -0.0972  0.0744  0.1789  0.1308  0.1604  0.0526  0.2337 -0.2464  0.0822\n",
       "-0.2313 -0.0831  0.0571 -0.0597 -0.0360 -0.0171  0.1784 -0.1831  0.1474  0.0582\n",
       " 0.1030 -0.0641 -0.2115  0.2552 -0.0779  0.0341  0.0026 -0.0725 -0.0558 -0.0739\n",
       "-0.0633 -0.1723  0.2605 -0.0115  0.1164 -0.0725 -0.1979 -0.0445  0.2412 -0.1981\n",
       " 0.1598 -0.3094  0.2128 -0.2458  0.0360  0.2719  0.2818 -0.1146 -0.1935 -0.2736\n",
       "\n",
       "Columns 10 to 13 \n",
       " 0.2212 -0.1965  0.3664  0.2913\n",
       " 0.1111  0.0188 -0.2218 -0.0847\n",
       " 0.0288 -0.1856 -0.2425 -0.2152\n",
       " 0.2133  0.2653 -0.0033  0.1734\n",
       "-0.0237  0.0518  0.0249  0.0865\n",
       " 0.0384  0.0187 -0.1524  0.1952\n",
       "-0.0444 -0.2105  0.0221 -0.0190\n",
       "-0.1410  0.1847  0.0700  0.2425\n",
       "-0.2413 -0.0427  0.2753  0.1378\n",
       "[torch.FloatTensor of size 9x14]"
      ]
     },
     "execution_count": 68,
     "metadata": {},
     "output_type": "execute_result"
    }
   ],
   "source": [
    "dim_corrected_model_2[(4)].weight"
   ]
  },
  {
   "cell_type": "code",
   "execution_count": 69,
   "metadata": {
    "collapsed": false
   },
   "outputs": [
    {
     "data": {
      "text/plain": [
       "Parameter containing:\n",
       " 0.8633  0.0616 -0.5070  0.5384  0.0789 -0.2986 -0.3249  0.1824 -0.4149\n",
       "[torch.FloatTensor of size 1x9]"
      ]
     },
     "execution_count": 69,
     "metadata": {},
     "output_type": "execute_result"
    }
   ],
   "source": [
    "dim_corrected_model_2[(6)].weight"
   ]
  },
  {
   "cell_type": "markdown",
   "metadata": {},
   "source": [
    "## Round 4: Four-Hidden-Layer Neural Network"
   ]
  },
  {
   "cell_type": "code",
   "execution_count": 70,
   "metadata": {
    "collapsed": true
   },
   "outputs": [],
   "source": [
    "# Make the torch Tensor into a PyTorch Variable for dependent variables\n",
    "outcomes_Variable = Variable(outcomes_Tensor)\n",
    "\n",
    "\n",
    "# ...for independent variables\n",
    "features_Variable = Variable(features_Tensor,\n",
    "                             requires_grad = False)"
   ]
  },
  {
   "cell_type": "code",
   "execution_count": 71,
   "metadata": {
    "collapsed": true
   },
   "outputs": [],
   "source": [
    "# Make the neural network\n",
    "model = torch.nn.Sequential(torch.nn.Linear(31, 21),\n",
    "                            torch.nn.ReLU(),\n",
    "                            torch.nn.Linear(21, 14),\n",
    "                            torch.nn.ReLU(),\n",
    "                            torch.nn.Linear(14, 9),\n",
    "                            torch.nn.ReLU(),\n",
    "                            torch.nn.Linear(9, 6),\n",
    "                            torch.nn.ReLU(),\n",
    "                            torch.nn.Linear(6, 1))"
   ]
  },
  {
   "cell_type": "code",
   "execution_count": 72,
   "metadata": {
    "collapsed": true
   },
   "outputs": [],
   "source": [
    "# To add errors to\n",
    "errors = []\n",
    "\n",
    "\n",
    "# Set the learning rate\n",
    "learning_rate = 5e-6\n",
    "\n",
    "\n",
    "# Train the neural network\n",
    "for t in range(10000):\n",
    "    \n",
    "    # Get the current predictions\n",
    "    y_pred = model(features_Variable)\n",
    "    \n",
    "    # Compute and append current summed errors\n",
    "    loss = loss_fn(y_pred, outcomes_Variable)\n",
    "    errors.append(loss.data[0])\n",
    "    \n",
    "    # Zero the gradients before running the backward pass.\n",
    "    model.zero_grad()\n",
    "    \n",
    "    # Backward pass: compute gradient of the loss with respect to all the learnable Variables\n",
    "    loss.backward()\n",
    "    \n",
    "    # Update the weights using gradient descent\n",
    "    for param in model.parameters():\n",
    "        param.data -= learning_rate * param.grad.data"
   ]
  },
  {
   "cell_type": "code",
   "execution_count": 73,
   "metadata": {
    "collapsed": false
   },
   "outputs": [
    {
     "data": {
      "text/plain": [
       "<matplotlib.collections.PathCollection at 0x7f1c3c04f518>"
      ]
     },
     "execution_count": 73,
     "metadata": {},
     "output_type": "execute_result"
    },
    {
     "data": {
      "image/png": "[encoded data removed]",
      "text/plain": [
       "<matplotlib.figure.Figure at 0x7f1c3c0d0470>"
      ]
     },
     "metadata": {},
     "output_type": "display_data"
    }
   ],
   "source": [
    "# Plot summed error as a function of iteration\n",
    "plt.scatter(iterations, errors)"
   ]
  },
  {
   "cell_type": "code",
   "execution_count": 74,
   "metadata": {
    "collapsed": false
   },
   "outputs": [],
   "source": [
    "# Get rid of the 2nd dimension of 1 from the FloatTensor\n",
    "y_pred_resized = y_pred.resize(8270)\n",
    "\n",
    "\n",
    "# Make the FloatTensor into a numpy.array\n",
    "y_pred_array = y_pred_resized.data.numpy()\n",
    "\n",
    "\n",
    "# Make the numpy.array into a list\n",
    "y_pred_list = y_pred_array.tolist()"
   ]
  },
  {
   "cell_type": "code",
   "execution_count": 75,
   "metadata": {
    "collapsed": false
   },
   "outputs": [
    {
     "data": {
      "text/plain": [
       "[<matplotlib.lines.Line2D at 0x7f1c3c08b7f0>]"
      ]
     },
     "execution_count": 75,
     "metadata": {},
     "output_type": "execute_result"
    },
    {
     "data": {
      "image/png": "[encoded data removed]",
      "text/plain": [
       "<matplotlib.figure.Figure at 0x7f1c3c1487f0>"
      ]
     },
     "metadata": {},
     "output_type": "display_data"
    }
   ],
   "source": [
    "# Plot predictions versus training set outcomes\n",
    "plt.scatter(outcomes_list, y_pred_list)\n",
    "\n",
    "axes = plt.gca()\n",
    "\n",
    "axes.set_xlim([-2, 4])\n",
    "\n",
    "axes.set_ylim([-2, 4])\n",
    "\n",
    "plt.plot([-2, 4], [-2, 4], 'k-', lw=2)"
   ]
  },
  {
   "cell_type": "markdown",
   "metadata": {},
   "source": [
    "### Round 4.1: Validation Set Performance"
   ]
  },
  {
   "cell_type": "code",
   "execution_count": 76,
   "metadata": {
    "collapsed": true
   },
   "outputs": [],
   "source": [
    "# Have to make a new model and give it the train_model parameters to fix structure problem\n",
    "dim_corrected_model = torch.nn.Sequential(torch.nn.Linear(31, 21),\n",
    "                                          torch.nn.ReLU(),\n",
    "                                          torch.nn.Linear(21, 14),\n",
    "                                          torch.nn.ReLU(),\n",
    "                                          torch.nn.Linear(14, 9),\n",
    "                                          torch.nn.ReLU(),\n",
    "                                          torch.nn.Linear(9, 6),\n",
    "                                          torch.nn.ReLU(),\n",
    "                                          torch.nn.Linear(6, 1))\n",
    "\n",
    "\n",
    "# Give the new model the old model's parameters\n",
    "dim_corrected_model[(0)].weight = model[(0)].weight\n",
    "dim_corrected_model[(2)].weight = model[(2)].weight\n",
    "dim_corrected_model[(4)].weight = model[(4)].weight\n",
    "dim_corrected_model[(6)].weight = model[(6)].weight\n",
    "dim_corrected_model[(8)].weight = model[(8)].weight"
   ]
  },
  {
   "cell_type": "code",
   "execution_count": 77,
   "metadata": {
    "collapsed": false
   },
   "outputs": [
    {
     "data": {
      "text/plain": [
       "Variable containing:\n",
       " 834.5248\n",
       "[torch.FloatTensor of size 1]"
      ]
     },
     "execution_count": 77,
     "metadata": {},
     "output_type": "execute_result"
    }
   ],
   "source": [
    "# Get the validation set predictions\n",
    "y_valid_pred = dim_corrected_model(valid_predictors_Variable)\n",
    "\n",
    "\n",
    "# Print the loss\n",
    "loss_fn(y_valid_pred,\n",
    "        valid_outcomes_Variable)"
   ]
  },
  {
   "cell_type": "code",
   "execution_count": 78,
   "metadata": {
    "collapsed": true
   },
   "outputs": [],
   "source": [
    "# Get rid of the 2nd dimension of 1 from the FloatTensor\n",
    "y_valid_pred_resized = y_valid_pred.resize(2709)\n",
    "\n",
    "\n",
    "# Make the FloatTensor into a numpy.array\n",
    "y_valid_pred_array = y_valid_pred_resized.data.numpy()\n",
    "\n",
    "\n",
    "# Make the numpy.array into a list\n",
    "y_valid_pred_list = y_valid_pred_array.tolist()"
   ]
  },
  {
   "cell_type": "code",
   "execution_count": 79,
   "metadata": {
    "collapsed": false
   },
   "outputs": [
    {
     "data": {
      "text/plain": [
       "[<matplotlib.lines.Line2D at 0x7f1c376d6dd8>]"
      ]
     },
     "execution_count": 79,
     "metadata": {},
     "output_type": "execute_result"
    },
    {
     "data": {
      "image/png": "[encoded data removed]",
      "text/plain": [
       "<matplotlib.figure.Figure at 0x7f1c3c315c18>"
      ]
     },
     "metadata": {},
     "output_type": "display_data"
    }
   ],
   "source": [
    "# Plot new predictions versus new data outcomes\n",
    "plt.scatter(valid_outcomes_list, y_valid_pred_list)\n",
    "\n",
    "axes = plt.gca()\n",
    "\n",
    "axes.set_xlim([-2, 4])\n",
    "\n",
    "axes.set_ylim([-2, 4])\n",
    "\n",
    "plt.plot([-2, 4], [-2, 4], 'k-', lw=2)"
   ]
  },
  {
   "cell_type": "markdown",
   "metadata": {},
   "source": [
    "### Round 4.2: Test Set Performance"
   ]
  },
  {
   "cell_type": "code",
   "execution_count": 80,
   "metadata": {
    "collapsed": true
   },
   "outputs": [],
   "source": [
    "# Have to make a new model and give it the train_model parameters to fix structure problem\n",
    "dim_corrected_model_2 = torch.nn.Sequential(torch.nn.Linear(31, 21),\n",
    "                                            torch.nn.ReLU(),\n",
    "                                            torch.nn.Linear(21, 14),\n",
    "                                            torch.nn.ReLU(),\n",
    "                                            torch.nn.Linear(14, 9),\n",
    "                                            torch.nn.ReLU(),\n",
    "                                            torch.nn.Linear(9, 6),\n",
    "                                            torch.nn.ReLU(),\n",
    "                                            torch.nn.Linear(6, 1))\n",
    "\n",
    "\n",
    "# Give the new model the old model's parameters\n",
    "dim_corrected_model_2[(0)].weight = model[(0)].weight\n",
    "dim_corrected_model_2[(2)].weight = model[(2)].weight\n",
    "dim_corrected_model_2[(4)].weight = model[(4)].weight\n",
    "dim_corrected_model_2[(6)].weight = model[(6)].weight\n",
    "dim_corrected_model_2[(8)].weight = model[(8)].weight"
   ]
  },
  {
   "cell_type": "code",
   "execution_count": 81,
   "metadata": {
    "collapsed": false
   },
   "outputs": [
    {
     "data": {
      "text/plain": [
       "Variable containing:\n",
       " 1843.7224\n",
       "[torch.FloatTensor of size 1]"
      ]
     },
     "execution_count": 81,
     "metadata": {},
     "output_type": "execute_result"
    }
   ],
   "source": [
    "# Get the validation set predictions\n",
    "y_test_pred = dim_corrected_model_2(test_predictors_Variable)\n",
    "\n",
    "\n",
    "# Print the loss\n",
    "loss_fn(y_test_pred,\n",
    "        test_outcomes_Variable)"
   ]
  },
  {
   "cell_type": "code",
   "execution_count": 82,
   "metadata": {
    "collapsed": true
   },
   "outputs": [],
   "source": [
    "# Get rid of the 2nd dimension of 1 from the FloatTensor\n",
    "y_test_pred_resized = y_test_pred.resize(2712)\n",
    "\n",
    "\n",
    "# Make the FloatTensor into a numpy.array\n",
    "y_test_pred_array = y_test_pred_resized.data.numpy()\n",
    "\n",
    "\n",
    "# Convert back to native units and scale\n",
    "y_test_pred_array = y_test_pred_array*5.409956 + 7.691221\n",
    "\n",
    "\n",
    "# Make the numpy.array into a list\n",
    "y_test_pred_list = y_test_pred_array.tolist()"
   ]
  },
  {
   "cell_type": "code",
   "execution_count": 83,
   "metadata": {
    "collapsed": false
   },
   "outputs": [
    {
     "data": {
      "text/plain": [
       "<matplotlib.text.Text at 0x7f1c376b7ba8>"
      ]
     },
     "execution_count": 83,
     "metadata": {},
     "output_type": "execute_result"
    },
    {
     "data": {
      "image/png": "[encoded data removed]",
      "text/plain": [
       "<matplotlib.figure.Figure at 0x7f1c3c16a710>"
      ]
     },
     "metadata": {},
     "output_type": "display_data"
    }
   ],
   "source": [
    "# Plot new predictions versus new data outcomes\n",
    "\n",
    "plt.scatter(test_outcomes_list, y_test_pred_list)\n",
    "\n",
    "axes = plt.gca()\n",
    "\n",
    "axes.set_xlim([2, 23])\n",
    "\n",
    "axes.set_ylim([2, 23])\n",
    "\n",
    "axes.set_xticks([2, 5, 8, 11, 14, 17, 20, 23])\n",
    "\n",
    "axes.set_yticks([2, 5, 8, 11, 14, 17, 20, 23])\n",
    "\n",
    "plt.plot([2, 23], [2, 23], 'k-', lw=2)\n",
    "\n",
    "axes.set_xlabel(\"Actual Outcome (Log-Transformed US Dollars)\")\n",
    "\n",
    "axes.set_ylabel(\"Model Prediction (Log-Transformed US Dollars)\")\n",
    "\n",
    "axes.set_title(\"Model Performance\")"
   ]
  },
  {
   "cell_type": "code",
   "execution_count": 84,
   "metadata": {
    "collapsed": false
   },
   "outputs": [
    {
     "data": {
      "text/plain": [
       "Parameter containing:\n",
       "\n",
       "Columns 0 to 9 \n",
       " 0.2936  0.1469 -0.1859  0.0767  0.1175  0.0892  0.0349  0.0482 -0.0090  0.0858\n",
       " 0.1829  0.0954  0.0089 -0.1251  0.1549  0.0839  0.0259  0.0744 -0.0475  0.1439\n",
       " 0.0535 -0.0495  0.1286  0.0084 -0.1935 -0.0545  0.0922  0.1218  0.1000 -0.0487\n",
       "-0.0251 -0.1831 -0.0358 -0.0559  0.0794 -0.0280  0.0629  0.0300  0.0292  0.0068\n",
       " 0.0152  0.0150  0.0978 -0.0356  0.0448  0.0392 -0.1374  0.0209  0.0737  0.0033\n",
       "-0.0559 -0.0831  0.1200  0.0429 -0.1364  0.2540  0.0895  0.0792 -0.1269  0.0157\n",
       "-0.1059  0.0472 -0.0032  0.1585 -0.2277  0.0140  0.0471  0.1043 -0.0004 -0.0178\n",
       "-0.1355 -0.1607 -0.2268 -0.0384 -0.1095 -0.1141 -0.0509  0.1543  0.1228 -0.0365\n",
       " 0.2345  0.1442  0.1598  0.1401  0.0241 -0.1410 -0.1491  0.1424  0.0450  0.0542\n",
       "-0.1080 -0.0116  0.0393 -0.0357 -0.2336 -0.0160  0.1610  0.0152  0.1082  0.0609\n",
       "-0.2074  0.0447  0.0853  0.0454  0.1315  0.0318  0.0634  0.0522  0.0379  0.1840\n",
       " 0.0404 -0.0549  0.2305  0.2622  0.0723 -0.1350  0.0018 -0.0825 -0.1793  0.1138\n",
       " 0.2088  0.0711  0.1457  0.0981  0.0665 -0.0356 -0.1650 -0.0734 -0.0253 -0.0572\n",
       "-0.0787  0.0506 -0.0204 -0.0049  0.0027 -0.0284  0.0763  0.1212 -0.1861 -0.1923\n",
       "-0.1714  0.1677 -0.0579  0.0664 -0.0085 -0.1525  0.1263 -0.1206  0.0948 -0.0325\n",
       " 0.0906 -0.0863 -0.1606 -0.1447 -0.0739  0.0377 -0.0176  0.0300 -0.1013 -0.1321\n",
       "-0.0800 -0.2211  0.0997  0.0976 -0.0304 -0.0442 -0.1390  0.1032  0.0035 -0.1549\n",
       "-0.0415  0.1464  0.1360 -0.0048 -0.0063  0.1755 -0.0625 -0.0291 -0.0867 -0.2042\n",
       " 0.0149  0.0790 -0.2094 -0.0862 -0.2277 -0.0833  0.0557 -0.1069 -0.2142  0.1270\n",
       " 0.0929  0.0616  0.1714 -0.0558  0.1684 -0.0597  0.0209  0.0983  0.0477 -0.0756\n",
       "-0.0683  0.0309 -0.1561 -0.1203  0.1383  0.1232 -0.1899  0.0890 -0.1572  0.1013\n",
       "\n",
       "Columns 10 to 19 \n",
       " 0.0053  0.1082  0.0899  0.1053  0.0242  0.0691 -0.0586 -0.0416  0.0331 -0.0393\n",
       "-0.1346  0.1046  0.0713 -0.0911 -0.0559 -0.1302  0.1368 -0.1312  0.1450  0.1054\n",
       "-0.0204  0.0797 -0.0248  0.1878  0.1857 -0.0996  0.0414 -0.0237  0.1419 -0.0586\n",
       " 0.0141 -0.0876 -0.1877 -0.1706 -0.0616  0.0034  0.0516  0.0592  0.0399 -0.1613\n",
       "-0.0737 -0.0161  0.0287  0.1863  0.0415 -0.0929  0.0679 -0.1947  0.1158  0.0318\n",
       " 0.0990  0.2686  0.1030 -0.0911  0.0471 -0.1746 -0.1208  0.0886  0.0215  0.0547\n",
       "-0.1049 -0.0003 -0.0904  0.1521 -0.0037 -0.2002 -0.0226  0.0889  0.0076 -0.0842\n",
       "-0.0844  0.1088 -0.0109 -0.0709  0.0281 -0.1316 -0.0327 -0.0442 -0.0365 -0.0462\n",
       "-0.0868 -0.0729  0.2143  0.1243 -0.1891 -0.0549 -0.0532  0.1626  0.0484 -0.0550\n",
       " 0.1478  0.0822  0.1323 -0.1126 -0.0505  0.0022  0.1395 -0.0620 -0.2036 -0.0155\n",
       " 0.0444 -0.1337  0.0855  0.0652 -0.0508  0.0048  0.1069 -0.1785 -0.1352  0.1607\n",
       " 0.0172  0.0977  0.0080  0.1150 -0.1156 -0.0372  0.0979  0.0959 -0.0018  0.0145\n",
       "-0.0834 -0.0450 -0.0633  0.0628 -0.0471  0.0221 -0.0020 -0.0222  0.0560  0.0274\n",
       " 0.1043  0.0428 -0.0036  0.0096 -0.0824  0.1656 -0.2218 -0.0491  0.0945 -0.1233\n",
       " 0.0143 -0.0935  0.1366 -0.1742 -0.1448 -0.1630  0.0223 -0.0853 -0.0499  0.0984\n",
       " 0.0912 -0.0939 -0.0400  0.0892 -0.0013  0.0452 -0.2198 -0.1951 -0.0758 -0.1140\n",
       " 0.0675 -0.1497 -0.0261  0.1130 -0.0988  0.1309 -0.0388  0.0412  0.1675 -0.1024\n",
       "-0.1611  0.1607 -0.0064 -0.0114 -0.1213 -0.1863 -0.0499 -0.1421 -0.0499 -0.0552\n",
       "-0.1439  0.0202 -0.0756 -0.0101 -0.1853  0.0924  0.1204 -0.1291  0.0611  0.1719\n",
       " 0.0269  0.1761  0.1786 -0.1320  0.1014 -0.2320 -0.0898  0.0305  0.0339  0.0510\n",
       "-0.0913  0.1982 -0.0815  0.0177 -0.0226  0.0669  0.1309 -0.0263  0.0540  0.0756\n",
       "\n",
       "Columns 20 to 29 \n",
       " 0.0046  0.0474 -0.1028  0.1870  0.1228 -0.1717  0.0799 -0.2195 -0.1384  0.1608\n",
       "-0.2033 -0.1290 -0.0753  0.0633  0.0998  0.1341  0.0570 -0.1296  0.0057  0.2382\n",
       "-0.0668 -0.0290 -0.0903 -0.0430  0.0719 -0.0594 -0.1661  0.0420 -0.0628 -0.0689\n",
       " 0.1359 -0.0037  0.0102  0.0921  0.0698  0.1443  0.1420  0.0065  0.1505 -0.0493\n",
       " 0.0808  0.1203 -0.0920 -0.0920 -0.1359  0.0295  0.0641 -0.0122  0.1352  0.0118\n",
       " 0.0812 -0.0255  0.0690 -0.0759  0.0958 -0.1111 -0.1239 -0.0605  0.0763  0.0015\n",
       "-0.0292 -0.1951 -0.0808 -0.0717 -0.1376 -0.1243  0.0758  0.1573  0.0646  0.0009\n",
       "-0.0121 -0.1120 -0.0839  0.1260 -0.0977  0.0933  0.0463 -0.0444 -0.0488  0.0740\n",
       " 0.1007  0.0464  0.1390 -0.0457  0.1218 -0.0652 -0.0769 -0.1742 -0.2050 -0.0900\n",
       "-0.0351 -0.0233 -0.2061  0.0717  0.1389  0.0862 -0.0856  0.0722  0.0489  0.1305\n",
       "-0.0040 -0.0272  0.1903 -0.0176 -0.0752  0.0953  0.1587  0.0030  0.1099 -0.0467\n",
       "-0.0110  0.0109  0.1052 -0.1654 -0.0981  0.1026 -0.0725 -0.1953  0.0525  0.1006\n",
       " 0.1066  0.0635 -0.0756  0.1563 -0.0666  0.1055  0.0173  0.0282 -0.0209 -0.1850\n",
       " 0.1430 -0.1640 -0.0495  0.0240  0.1219  0.1683 -0.0389  0.0358  0.0785  0.0563\n",
       "-0.0721 -0.2018 -0.1200 -0.1255  0.0433 -0.0164 -0.1386 -0.1421  0.0546 -0.1247\n",
       "-0.1002  0.0982 -0.1237  0.0083 -0.1901  0.0061 -0.1500 -0.0828 -0.1553  0.1259\n",
       " 0.1305 -0.0033  0.1776 -0.0642  0.0718 -0.0972  0.1504  0.1508  0.0720  0.2045\n",
       "-0.1173  0.0400  0.1520 -0.1501  0.0633  0.1248  0.2062  0.0777 -0.0825  0.1182\n",
       " 0.0300 -0.0623  0.0867  0.1368  0.0759 -0.0511 -0.1805  0.0238 -0.0379  0.1274\n",
       "-0.0216 -0.0736  0.1099  0.0708 -0.0698 -0.2078  0.1576 -0.0808  0.2465 -0.0735\n",
       "-0.1553 -0.1263 -0.1989  0.1180 -0.1296  0.0103  0.0813  0.0907 -0.0834 -0.1213\n",
       "\n",
       "Columns 30 to 30 \n",
       " 0.0506\n",
       "-0.0493\n",
       "-0.0198\n",
       " 0.0521\n",
       " 0.1954\n",
       " 0.0450\n",
       "-0.0846\n",
       " 0.0658\n",
       " 0.0007\n",
       " 0.0937\n",
       " 0.0333\n",
       "-0.0158\n",
       "-0.0559\n",
       "-0.2171\n",
       "-0.0751\n",
       "-0.1903\n",
       "-0.0656\n",
       "-0.0852\n",
       "-0.1567\n",
       " 0.0670\n",
       " 0.0571\n",
       "[torch.FloatTensor of size 21x31]"
      ]
     },
     "execution_count": 84,
     "metadata": {},
     "output_type": "execute_result"
    }
   ],
   "source": [
    "dim_corrected_model_2[(0)].weight"
   ]
  },
  {
   "cell_type": "code",
   "execution_count": 85,
   "metadata": {
    "collapsed": false
   },
   "outputs": [
    {
     "data": {
      "text/plain": [
       "Parameter containing:\n",
       "\n",
       "Columns 0 to 9 \n",
       " 0.0799  0.1837  0.0874 -0.2055 -0.0362 -0.0101  0.1090  0.1951  0.0908  0.1099\n",
       " 0.0468 -0.0691 -0.0803 -0.1665 -0.2208 -0.0855 -0.1198  0.0362  0.2024 -0.0358\n",
       "-0.1849 -0.1692  0.1781 -0.0672 -0.1323 -0.0038  0.1916  0.1629  0.1396 -0.1091\n",
       "-0.1514 -0.1153  0.0550  0.0451  0.1054  0.0906  0.1532 -0.1839  0.2804  0.0527\n",
       " 0.2899 -0.1430 -0.0358  0.1695 -0.3069 -0.2337 -0.0129 -0.0799  0.2220 -0.0480\n",
       " 0.1753  0.1436 -0.1783 -0.1195 -0.1152  0.1366  0.0960  0.1147 -0.0995  0.1498\n",
       " 0.1819  0.0273 -0.0494  0.0515  0.0657  0.0205  0.2158  0.1711  0.1545  0.0817\n",
       " 0.2271 -0.0166 -0.1969 -0.2490 -0.1346  0.0718  0.2030 -0.1094 -0.1137 -0.0071\n",
       " 0.1763 -0.1756 -0.0683  0.0942  0.0570 -0.1047 -0.0189  0.2021 -0.0221 -0.0706\n",
       " 0.0858 -0.2251  0.1062  0.2443 -0.1285  0.1742 -0.0014  0.1029  0.1076 -0.0792\n",
       "-0.0282 -0.0682 -0.1344  0.0297 -0.1463  0.0397  0.0850  0.1901 -0.0528  0.1686\n",
       "-0.0314 -0.0082  0.0849  0.1575  0.2010  0.2111  0.0101 -0.1591  0.1689 -0.1103\n",
       " 0.0871 -0.1517  0.1088  0.0601 -0.1395  0.1683  0.2272  0.2301  0.2072  0.1042\n",
       "-0.1889  0.1500  0.0936 -0.1211  0.1747 -0.0133  0.0678  0.2174 -0.1924 -0.0683\n",
       "\n",
       "Columns 10 to 19 \n",
       " 0.0433 -0.2188 -0.1839  0.1525 -0.1621  0.0807  0.1165 -0.2273  0.1546  0.0522\n",
       "-0.0568 -0.0217  0.0016 -0.1425 -0.0992 -0.0451 -0.0282  0.0085 -0.1417  0.1949\n",
       " 0.1058 -0.1319  0.1502 -0.1990  0.0932 -0.0829  0.0178  0.0287  0.1328 -0.0959\n",
       "-0.1188  0.1335 -0.1390  0.1633  0.0154  0.3030 -0.2143 -0.0384  0.1448 -0.1659\n",
       " 0.1079  0.3410  0.1796 -0.1355  0.1607  0.0154  0.0164 -0.0635  0.0313  0.1791\n",
       " 0.0199  0.1969 -0.0728 -0.1539 -0.1040  0.0647 -0.0167 -0.1442 -0.0558  0.0402\n",
       "-0.0552 -0.0577 -0.0030  0.0873  0.0142 -0.0987 -0.0563 -0.1356 -0.0943 -0.0286\n",
       "-0.0595  0.0739  0.1053 -0.1333 -0.1041 -0.0599  0.0897 -0.1933 -0.2190 -0.0854\n",
       " 0.2651 -0.1394  0.0954  0.0643 -0.0295  0.0031  0.1156  0.0501 -0.2232  0.0462\n",
       "-0.0884 -0.1250  0.1300 -0.0417 -0.1795  0.1803 -0.0591 -0.1241 -0.1348 -0.0439\n",
       "-0.0046 -0.1969  0.0340  0.0781 -0.1850 -0.1392 -0.2123  0.0548  0.0669  0.1671\n",
       " 0.1617  0.0719  0.1758  0.1782  0.1121  0.2002  0.0357 -0.0565 -0.0684 -0.0916\n",
       "-0.2490  0.1728 -0.1505 -0.0536  0.0551 -0.0248 -0.0777 -0.2451  0.2876  0.1530\n",
       " 0.0637 -0.2156 -0.0579 -0.0098 -0.0897 -0.0911  0.0698 -0.1161 -0.0806  0.1074\n",
       "\n",
       "Columns 20 to 20 \n",
       "-0.2253\n",
       " 0.1387\n",
       " 0.1177\n",
       " 0.0980\n",
       "-0.0339\n",
       "-0.0210\n",
       " 0.0397\n",
       " 0.2290\n",
       " 0.0111\n",
       " 0.2434\n",
       "-0.0051\n",
       "-0.1029\n",
       " 0.1711\n",
       "-0.1165\n",
       "[torch.FloatTensor of size 14x21]"
      ]
     },
     "execution_count": 85,
     "metadata": {},
     "output_type": "execute_result"
    }
   ],
   "source": [
    "dim_corrected_model_2[(2)].weight"
   ]
  },
  {
   "cell_type": "code",
   "execution_count": 86,
   "metadata": {
    "collapsed": false
   },
   "outputs": [
    {
     "data": {
      "text/plain": [
       "Parameter containing:\n",
       "\n",
       "Columns 0 to 9 \n",
       " 0.1448  0.2591  0.2361 -0.2408  0.0708 -0.1392 -0.2384  0.0509  0.2698  0.1632\n",
       " 0.2508  0.0248  0.1855 -0.3913  0.3081  0.2883  0.1068 -0.2295  0.2797  0.0844\n",
       " 0.1419  0.0847  0.0773  0.2149 -0.0284 -0.1802  0.1266  0.2642 -0.1739 -0.0201\n",
       " 0.1777 -0.2241  0.1232 -0.1496  0.2433  0.2168 -0.1604 -0.2296  0.1699 -0.0634\n",
       "-0.2487 -0.0307 -0.1266 -0.0013  0.3804 -0.0598  0.0718  0.0392  0.0123  0.3134\n",
       "-0.0913 -0.0800 -0.1227  0.0725 -0.2794 -0.2470 -0.1551 -0.0943 -0.1552  0.1090\n",
       " 0.2394  0.0803 -0.2551  0.2003 -0.0659  0.1194  0.0097 -0.1418 -0.0404 -0.1382\n",
       "-0.1956 -0.0948 -0.1509  0.3191 -0.2387  0.1794  0.2012  0.2597  0.2535 -0.3741\n",
       " 0.0119  0.2269 -0.1647  0.0046  0.2892 -0.1044 -0.2413  0.1924 -0.1646  0.1519\n",
       "\n",
       "Columns 10 to 13 \n",
       " 0.0739  0.2409 -0.0221  0.1991\n",
       " 0.0670 -0.1291 -0.2753  0.3057\n",
       "-0.0798 -0.0230  0.3057  0.1437\n",
       "-0.0273  0.1801  0.0230 -0.0424\n",
       " 0.1263  0.1238 -0.1645 -0.0738\n",
       " 0.1748  0.1475  0.2031 -0.1313\n",
       " 0.0154 -0.1409  0.1771 -0.1799\n",
       " 0.1826  0.1196  0.3151  0.0160\n",
       " 0.0834 -0.2467  0.0406 -0.0062\n",
       "[torch.FloatTensor of size 9x14]"
      ]
     },
     "execution_count": 86,
     "metadata": {},
     "output_type": "execute_result"
    }
   ],
   "source": [
    "dim_corrected_model_2[(4)].weight"
   ]
  },
  {
   "cell_type": "code",
   "execution_count": 87,
   "metadata": {
    "collapsed": false
   },
   "outputs": [
    {
     "data": {
      "text/plain": [
       "Parameter containing:\n",
       " 0.1504 -0.3768  0.2413 -0.2738 -0.2328  0.1271  0.0921  0.2628  0.0569\n",
       " 0.0969 -0.1838  0.2341 -0.3741 -0.1167 -0.0178  0.2063  0.2066 -0.2784\n",
       " 0.1514  0.4518  0.1080 -0.1389  0.2012 -0.2758 -0.0325 -0.3538  0.0670\n",
       " 0.0163 -0.3138 -0.2865  0.1901  0.0340 -0.2267  0.1935  0.3023 -0.0782\n",
       " 0.3258  0.0417 -0.0287  0.2551 -0.2545  0.1887  0.0543 -0.0531 -0.2451\n",
       " 0.2609  0.5876 -0.1576  0.0564  0.3219 -0.2364  0.0592 -0.3308  0.1547\n",
       "[torch.FloatTensor of size 6x9]"
      ]
     },
     "execution_count": 87,
     "metadata": {},
     "output_type": "execute_result"
    }
   ],
   "source": [
    "dim_corrected_model_2[(6)].weight"
   ]
  },
  {
   "cell_type": "code",
   "execution_count": 88,
   "metadata": {
    "collapsed": false
   },
   "outputs": [
    {
     "data": {
      "text/plain": [
       "Parameter containing:\n",
       "-0.6373 -0.3889  0.5518 -0.1776 -0.0866  0.7237\n",
       "[torch.FloatTensor of size 1x6]"
      ]
     },
     "execution_count": 88,
     "metadata": {},
     "output_type": "execute_result"
    }
   ],
   "source": [
    "dim_corrected_model_2[(8)].weight"
   ]
  },
  {
   "cell_type": "markdown",
   "metadata": {},
   "source": [
    "## Round 5: Five-Hidden-Layer Neural Network"
   ]
  },
  {
   "cell_type": "code",
   "execution_count": 89,
   "metadata": {
    "collapsed": true
   },
   "outputs": [],
   "source": [
    "# Make the torch Tensor into a PyTorch Variable for dependent variables\n",
    "outcomes_Variable = Variable(outcomes_Tensor)\n",
    "\n",
    "\n",
    "# ...for independent variables\n",
    "features_Variable = Variable(features_Tensor,\n",
    "                             requires_grad = False)"
   ]
  },
  {
   "cell_type": "code",
   "execution_count": 90,
   "metadata": {
    "collapsed": true
   },
   "outputs": [],
   "source": [
    "# Make the neural network\n",
    "model = torch.nn.Sequential(torch.nn.Linear(31, 21),\n",
    "                            torch.nn.ReLU(),\n",
    "                            torch.nn.Linear(21, 14),\n",
    "                            torch.nn.ReLU(),\n",
    "                            torch.nn.Linear(14, 9),\n",
    "                            torch.nn.ReLU(),\n",
    "                            torch.nn.Linear(9, 6),\n",
    "                            torch.nn.ReLU(),\n",
    "                            torch.nn.Linear(6, 4),\n",
    "                            torch.nn.ReLU(),\n",
    "                            torch.nn.Linear(4, 1))"
   ]
  },
  {
   "cell_type": "code",
   "execution_count": 91,
   "metadata": {
    "collapsed": true
   },
   "outputs": [],
   "source": [
    "# To add errors to\n",
    "errors = []\n",
    "\n",
    "\n",
    "# Set the learning rate\n",
    "learning_rate = 5e-6\n",
    "\n",
    "\n",
    "# Train the neural network\n",
    "for t in range(10000):\n",
    "    \n",
    "    # Get the current predictions\n",
    "    y_pred = model(features_Variable)\n",
    "    \n",
    "    # Compute and append current summed errors\n",
    "    loss = loss_fn(y_pred, outcomes_Variable)\n",
    "    errors.append(loss.data[0])\n",
    "    \n",
    "    # Zero the gradients before running the backward pass.\n",
    "    model.zero_grad()\n",
    "    \n",
    "    # Backward pass: compute gradient of the loss with respect to all the learnable Variables\n",
    "    loss.backward()\n",
    "    \n",
    "    # Update the weights using gradient descent\n",
    "    for param in model.parameters():\n",
    "        param.data -= learning_rate * param.grad.data"
   ]
  },
  {
   "cell_type": "code",
   "execution_count": 92,
   "metadata": {
    "collapsed": false
   },
   "outputs": [
    {
     "data": {
      "text/plain": [
       "<matplotlib.collections.PathCollection at 0x7f1c375fd898>"
      ]
     },
     "execution_count": 92,
     "metadata": {},
     "output_type": "execute_result"
    },
    {
     "data": {
      "image/png": "[encoded data removed]",
      "text/plain": [
       "<matplotlib.figure.Figure at 0x7f1c3766f828>"
      ]
     },
     "metadata": {},
     "output_type": "display_data"
    }
   ],
   "source": [
    "# Plot summed error as a function of iteration\n",
    "plt.scatter(iterations, errors)"
   ]
  },
  {
   "cell_type": "code",
   "execution_count": 93,
   "metadata": {
    "collapsed": true
   },
   "outputs": [],
   "source": [
    "# Get rid of the 2nd dimension of 1 from the FloatTensor\n",
    "y_pred_resized = y_pred.resize(8270)\n",
    "\n",
    "\n",
    "# Make the FloatTensor into a numpy.array\n",
    "y_pred_array = y_pred_resized.data.numpy()\n",
    "\n",
    "\n",
    "# Make the numpy.array into a list\n",
    "y_pred_list = y_pred_array.tolist()"
   ]
  },
  {
   "cell_type": "code",
   "execution_count": 94,
   "metadata": {
    "collapsed": false
   },
   "outputs": [
    {
     "data": {
      "text/plain": [
       "[<matplotlib.lines.Line2D at 0x7f1c3c0fabe0>]"
      ]
     },
     "execution_count": 94,
     "metadata": {},
     "output_type": "execute_result"
    },
    {
     "data": {
      "image/png": "[encoded data removed]",
      "text/plain": [
       "<matplotlib.figure.Figure at 0x7f1c3c19fa20>"
      ]
     },
     "metadata": {},
     "output_type": "display_data"
    }
   ],
   "source": [
    "# Plot predictions versus training set outcomes\n",
    "plt.scatter(outcomes_list, y_pred_list)\n",
    "\n",
    "axes = plt.gca()\n",
    "\n",
    "axes.set_xlim([-2, 4])\n",
    "\n",
    "axes.set_ylim([-2, 4])\n",
    "\n",
    "plt.plot([-2, 4], [-2, 4], 'k-', lw=2)"
   ]
  },
  {
   "cell_type": "markdown",
   "metadata": {},
   "source": [
    "### Round 5.1: Validation Set Performance"
   ]
  },
  {
   "cell_type": "code",
   "execution_count": 95,
   "metadata": {
    "collapsed": true
   },
   "outputs": [],
   "source": [
    "# Have to make a new model and give it the train_model parameters to fix structure problem\n",
    "dim_corrected_model = torch.nn.Sequential(torch.nn.Linear(31, 21),\n",
    "                                          torch.nn.ReLU(),\n",
    "                                          torch.nn.Linear(21, 14),\n",
    "                                          torch.nn.ReLU(),\n",
    "                                          torch.nn.Linear(14, 9),\n",
    "                                          torch.nn.ReLU(),\n",
    "                                          torch.nn.Linear(9, 6),\n",
    "                                          torch.nn.ReLU(),\n",
    "                                          torch.nn.Linear(6, 4),\n",
    "                                          torch.nn.ReLU(),\n",
    "                                          torch.nn.Linear(4, 1))\n",
    "\n",
    "\n",
    "# Give the new model the old model's parameters\n",
    "dim_corrected_model[(0)].weight = model[(0)].weight\n",
    "dim_corrected_model[(2)].weight = model[(2)].weight\n",
    "dim_corrected_model[(4)].weight = model[(4)].weight\n",
    "dim_corrected_model[(6)].weight = model[(6)].weight\n",
    "dim_corrected_model[(8)].weight = model[(8)].weight\n",
    "dim_corrected_model[(10)].weight = model[(10)].weight"
   ]
  },
  {
   "cell_type": "code",
   "execution_count": 96,
   "metadata": {
    "collapsed": false
   },
   "outputs": [
    {
     "data": {
      "text/plain": [
       "Variable containing:\n",
       " 1486.1229\n",
       "[torch.FloatTensor of size 1]"
      ]
     },
     "execution_count": 96,
     "metadata": {},
     "output_type": "execute_result"
    }
   ],
   "source": [
    "# Get the validation set predictions\n",
    "y_valid_pred = dim_corrected_model(valid_predictors_Variable)\n",
    "\n",
    "\n",
    "# Print the loss\n",
    "loss_fn(y_valid_pred,\n",
    "        valid_outcomes_Variable)"
   ]
  },
  {
   "cell_type": "code",
   "execution_count": 97,
   "metadata": {
    "collapsed": false
   },
   "outputs": [],
   "source": [
    "# Get rid of the 2nd dimension of 1 from the FloatTensor\n",
    "y_valid_pred_resized = y_valid_pred.resize(2709)\n",
    "\n",
    "\n",
    "# Make the FloatTensor into a numpy.array\n",
    "y_valid_pred_array = y_valid_pred_resized.data.numpy()\n",
    "\n",
    "\n",
    "# Make the numpy.array into a list\n",
    "y_valid_pred_list = y_valid_pred_array.tolist()"
   ]
  },
  {
   "cell_type": "code",
   "execution_count": 98,
   "metadata": {
    "collapsed": false
   },
   "outputs": [
    {
     "data": {
      "text/plain": [
       "[<matplotlib.lines.Line2D at 0x7f1c375c3048>]"
      ]
     },
     "execution_count": 98,
     "metadata": {},
     "output_type": "execute_result"
    },
    {
     "data": {
      "image/png": "[encoded data removed]",
      "text/plain": [
       "<matplotlib.figure.Figure at 0x7f1c375c35c0>"
      ]
     },
     "metadata": {},
     "output_type": "display_data"
    }
   ],
   "source": [
    "# Plot new predictions versus new data outcomes\n",
    "plt.scatter(valid_outcomes_list, y_valid_pred_list)\n",
    "\n",
    "axes = plt.gca()\n",
    "\n",
    "axes.set_xlim([-2, 4])\n",
    "\n",
    "axes.set_ylim([-2, 4])\n",
    "\n",
    "plt.plot([-2, 4], [-2, 4], 'k-', lw=2)"
   ]
  },
  {
   "cell_type": "markdown",
   "metadata": {},
   "source": [
    "### Round 5.2: Test Set Performance"
   ]
  },
  {
   "cell_type": "code",
   "execution_count": 99,
   "metadata": {
    "collapsed": true
   },
   "outputs": [],
   "source": [
    "# Have to make a new model and give it the train_model parameters to fix structure problem\n",
    "dim_corrected_model_2 = torch.nn.Sequential(torch.nn.Linear(31, 21),\n",
    "                                            torch.nn.ReLU(),\n",
    "                                            torch.nn.Linear(21, 14),\n",
    "                                            torch.nn.ReLU(),\n",
    "                                            torch.nn.Linear(14, 9),\n",
    "                                            torch.nn.ReLU(),\n",
    "                                            torch.nn.Linear(9, 6),\n",
    "                                            torch.nn.ReLU(),\n",
    "                                            torch.nn.Linear(6, 4),\n",
    "                                            torch.nn.ReLU(),\n",
    "                                            torch.nn.Linear(4, 1))\n",
    "\n",
    "\n",
    "# Give the new model the old model's parameters\n",
    "dim_corrected_model_2[(0)].weight = model[(0)].weight\n",
    "dim_corrected_model_2[(2)].weight = model[(2)].weight\n",
    "dim_corrected_model_2[(4)].weight = model[(4)].weight\n",
    "dim_corrected_model_2[(6)].weight = model[(6)].weight\n",
    "dim_corrected_model_2[(8)].weight = model[(8)].weight\n",
    "dim_corrected_model_2[(10)].weight = model[(10)].weight"
   ]
  },
  {
   "cell_type": "code",
   "execution_count": 100,
   "metadata": {
    "collapsed": false
   },
   "outputs": [
    {
     "data": {
      "text/plain": [
       "Variable containing:\n",
       " 5543.4727\n",
       "[torch.FloatTensor of size 1]"
      ]
     },
     "execution_count": 100,
     "metadata": {},
     "output_type": "execute_result"
    }
   ],
   "source": [
    "# Get the validation set predictions\n",
    "y_test_pred = dim_corrected_model_2(test_predictors_Variable)\n",
    "\n",
    "\n",
    "# Print the loss\n",
    "loss_fn(y_test_pred,\n",
    "        test_outcomes_Variable)"
   ]
  },
  {
   "cell_type": "code",
   "execution_count": 101,
   "metadata": {
    "collapsed": true
   },
   "outputs": [],
   "source": [
    "# Get rid of the 2nd dimension of 1 from the FloatTensor\n",
    "y_test_pred_resized = y_test_pred.resize(2712)\n",
    "\n",
    "\n",
    "# Make the FloatTensor into a numpy.array\n",
    "y_test_pred_array = y_test_pred_resized.data.numpy()\n",
    "\n",
    "\n",
    "# Convert back to native units and scale\n",
    "y_test_pred_array = y_test_pred_array*5.409956 + 7.691221\n",
    "\n",
    "\n",
    "# Make the numpy.array into a list\n",
    "y_test_pred_list = y_test_pred_array.tolist()"
   ]
  },
  {
   "cell_type": "code",
   "execution_count": 102,
   "metadata": {
    "collapsed": false
   },
   "outputs": [
    {
     "data": {
      "text/plain": [
       "<matplotlib.text.Text at 0x7f1c37407588>"
      ]
     },
     "execution_count": 102,
     "metadata": {},
     "output_type": "execute_result"
    },
    {
     "data": {
      "image/png": "[encoded data removed]",
      "text/plain": [
       "<matplotlib.figure.Figure at 0x7f1c37522cf8>"
      ]
     },
     "metadata": {},
     "output_type": "display_data"
    }
   ],
   "source": [
    "# Plot new predictions versus new data outcomes\n",
    "\n",
    "plt.scatter(test_outcomes_list, y_test_pred_list)\n",
    "\n",
    "axes = plt.gca()\n",
    "\n",
    "axes.set_xlim([2, 23])\n",
    "\n",
    "axes.set_ylim([2, 23])\n",
    "\n",
    "axes.set_xticks([2, 5, 8, 11, 14, 17, 20, 23])\n",
    "\n",
    "axes.set_yticks([2, 5, 8, 11, 14, 17, 20, 23])\n",
    "\n",
    "plt.plot([2, 23], [2, 23], 'k-', lw=2)\n",
    "\n",
    "axes.set_xlabel(\"Actual Outcome (Log-Transformed US Dollars)\")\n",
    "\n",
    "axes.set_ylabel(\"Model Prediction (Log-Transformed US Dollars)\")\n",
    "\n",
    "axes.set_title(\"Model Performance\")"
   ]
  },
  {
   "cell_type": "code",
   "execution_count": 103,
   "metadata": {
    "collapsed": false
   },
   "outputs": [
    {
     "data": {
      "text/plain": [
       "Parameter containing:\n",
       "\n",
       "Columns 0 to 5 \n",
       "-5.4235e-02 -2.4100e-01  1.2196e-01  1.2501e-01  1.7733e-01 -4.6526e-02\n",
       "-3.5244e-02 -4.2666e-04 -5.6737e-02  1.5488e-01 -2.1864e-01 -1.2802e-01\n",
       " 4.8100e-02 -1.6414e-01  1.0119e-01  3.3527e-03 -6.5375e-02  1.4250e-01\n",
       "-3.7710e-02 -2.4102e-01  1.2725e-01 -1.2518e-03 -7.5403e-02 -3.1579e-03\n",
       "-1.8515e-01  1.5773e-01 -4.9607e-02 -1.4760e-01  1.8843e-02  1.7888e-01\n",
       "-2.4538e-02  8.8119e-02  1.0219e-01 -2.2067e-01  7.9197e-02 -1.6202e-01\n",
       "-8.9219e-02 -7.9098e-02 -5.0851e-02 -4.0007e-02  2.1425e-01  5.4576e-02\n",
       "-7.9470e-02  4.2265e-02  9.2562e-02 -1.1175e-01 -7.9255e-02 -5.9786e-03\n",
       " 2.8157e-02  2.3065e-01  1.3306e-02  7.8416e-02  2.9855e-02 -1.6908e-02\n",
       " 1.6912e-01 -2.7091e-02  2.4517e-03 -1.0316e-01 -5.0695e-02 -1.1523e-01\n",
       "-1.1511e-01 -1.0128e-01  7.9453e-02 -1.9064e-01  9.0078e-03  1.1210e-01\n",
       " 6.2590e-02  3.7907e-01  1.4759e-01  2.1195e-01  6.7840e-02 -1.5062e-01\n",
       "-3.5790e-03  2.7507e-01 -4.7444e-02 -1.0095e-01  2.0892e-01  2.2234e-01\n",
       "-4.6012e-02  3.1690e-02  1.4530e-01  1.8771e-01 -2.8652e-02 -3.0201e-03\n",
       " 4.9786e-02 -2.5364e-03 -1.9976e-01 -6.6166e-02 -1.4297e-01 -1.4131e-01\n",
       " 6.8838e-02  7.1607e-02 -9.8925e-02  1.2858e-01  1.1801e-01 -9.6014e-02\n",
       "-1.7524e-01 -7.9519e-02  9.1845e-02  1.6040e-01  1.5655e-01 -1.4807e-01\n",
       " 3.7495e-01 -1.4561e-01 -8.2620e-02 -4.7854e-02  1.5154e-01  1.1947e-01\n",
       "-7.9748e-02 -8.5203e-02 -1.0651e-02 -2.4694e-02  1.4352e-02 -1.0573e-04\n",
       "-3.3825e-02  1.8570e-01  5.8148e-02 -8.8570e-03 -5.8532e-02 -1.1918e-01\n",
       " 1.9258e-02  1.0476e-01 -1.0987e-01 -9.0479e-02 -5.2588e-02  3.1001e-02\n",
       "\n",
       "Columns 6 to 11 \n",
       "-1.1924e-01 -1.7443e-01  1.3216e-01 -3.9615e-02  2.5781e-02  1.1162e-02\n",
       " 1.0986e-01  1.2890e-01  8.0092e-02 -3.0461e-02  1.2668e-01  6.0375e-02\n",
       "-1.3949e-01 -3.5463e-02 -2.5894e-02  1.5491e-01 -1.4131e-03  2.0552e-01\n",
       " 1.1589e-01  1.4545e-01 -4.9631e-02 -1.4018e-01  1.5003e-01  9.7572e-02\n",
       " 4.3419e-02  6.0314e-03  3.2652e-02 -9.5973e-02 -1.1013e-01  8.1662e-02\n",
       " 1.1043e-01 -4.1963e-02 -3.6268e-02 -1.2737e-01 -9.5805e-02 -2.0179e-01\n",
       " 8.9882e-03  4.6713e-02  8.5294e-02 -8.4623e-02  1.0003e-01 -6.9268e-02\n",
       "-1.3190e-01  1.2985e-01  1.4994e-02 -5.2093e-03 -1.8051e-01 -1.6242e-01\n",
       " 3.7285e-02  9.0781e-02 -2.6864e-02 -1.5200e-01 -1.1555e-01  6.6838e-03\n",
       " 1.8659e-01  1.6823e-02  1.9020e-01 -1.1859e-01  1.7595e-01 -3.1394e-03\n",
       " 1.1508e-01 -1.0152e-01 -6.4176e-02 -9.2595e-03 -1.1499e-01 -4.0552e-02\n",
       " 1.7531e-01  7.0700e-03  1.7698e-01 -6.9187e-02 -2.8818e-02 -1.7111e-01\n",
       "-4.9305e-02  7.1176e-02  1.2599e-01 -4.0033e-03 -7.2332e-02  1.3581e-01\n",
       " 1.6705e-01  1.8150e-02  1.5533e-01 -8.9644e-03 -2.0712e-02  7.3307e-02\n",
       " 9.3164e-02 -6.9488e-02 -1.0823e-01 -7.0647e-02  6.6782e-02  8.5847e-02\n",
       " 2.8417e-02  6.8895e-02 -1.3685e-01 -5.7698e-02  7.1961e-02  1.5996e-01\n",
       "-4.5058e-02 -1.0872e-01  5.7080e-02  1.4582e-01  1.4165e-01  1.8411e-02\n",
       "-1.7543e-02  7.4818e-02  1.2215e-01 -1.4346e-02  6.0558e-02  6.5587e-02\n",
       " 4.2467e-02  2.4407e-02  1.6179e-01 -1.5252e-01  1.0834e-01  1.5393e-02\n",
       " 5.4409e-02 -1.3096e-01  4.9038e-02  3.6130e-02 -2.1372e-02 -8.5235e-02\n",
       " 7.0937e-02  6.0360e-02 -1.5574e-02  6.3964e-02  1.8425e-01 -8.8390e-02\n",
       "\n",
       "Columns 12 to 17 \n",
       "-4.3026e-02  3.5741e-02  7.9949e-02  4.5247e-02  9.9797e-02  1.3136e-01\n",
       " 2.1082e-03 -1.3382e-01 -7.9833e-02 -4.2963e-02 -3.8673e-03  8.1099e-02\n",
       " 9.8833e-02  7.9858e-02  7.8945e-03 -2.0540e-01 -3.7810e-02 -1.1794e-01\n",
       "-5.9711e-02 -2.8754e-02  3.6427e-03  3.8457e-02 -1.4734e-01  6.3509e-02\n",
       "-5.8687e-02  2.1094e-01  1.0239e-01 -1.6098e-01  1.6895e-01 -1.1657e-02\n",
       " 9.3549e-02  3.5892e-02  2.4344e-02 -5.9476e-02 -6.8144e-02  1.4260e-01\n",
       "-1.3870e-01 -2.7505e-02 -1.2065e-01 -6.3260e-02 -1.1008e-02  1.4885e-01\n",
       "-6.8274e-02 -7.8478e-02  2.2111e-01 -1.0058e-01 -1.1527e-01 -2.3514e-02\n",
       "-5.7875e-03  7.2341e-02  1.1409e-01  1.2377e-01 -4.3691e-02  1.2033e-01\n",
       " 1.4864e-01 -1.3286e-01 -1.3854e-01  1.1522e-01  9.4679e-02  1.1400e-01\n",
       " 4.6414e-02 -9.2948e-02  7.8618e-02 -3.7215e-02  6.3063e-02  9.7168e-02\n",
       " 1.0274e-01 -1.2564e-01 -7.1203e-02  7.3165e-03  6.7001e-02 -3.4249e-02\n",
       "-9.5413e-02 -2.4213e-02  2.1728e-01 -3.3275e-02 -2.6279e-01 -1.0449e-01\n",
       " 8.0501e-02 -1.8779e-02 -9.1369e-02 -1.2074e-01 -1.2710e-01 -2.7165e-07\n",
       "-1.3588e-01  1.6545e-01  8.3710e-02  8.4257e-02 -1.4266e-01  5.6679e-02\n",
       "-8.6372e-03  1.4129e-01 -6.8932e-02 -1.7426e-01 -7.5633e-02  1.3258e-01\n",
       " 1.0117e-02 -8.0296e-02 -4.7818e-02 -2.1589e-01 -7.3510e-02 -6.8919e-02\n",
       "-1.0992e-02  9.7060e-02  1.2662e-02 -1.2905e-02  8.0181e-02 -1.4300e-01\n",
       "-2.0949e-01 -3.0463e-02 -1.8120e-01  5.5422e-02  1.7014e-01 -2.2380e-01\n",
       " 1.1116e-02  1.0737e-01  1.3788e-01  8.3458e-02 -8.1079e-02 -2.9038e-02\n",
       " 3.9625e-02 -6.7533e-02 -3.1935e-02  1.5828e-01  2.2513e-01 -1.0763e-01\n",
       "\n",
       "Columns 18 to 23 \n",
       "-4.9118e-02 -2.2934e-02  1.1751e-01 -1.1743e-01  9.4940e-02  1.0834e-01\n",
       "-1.0545e-01  1.4470e-01  7.9405e-02  1.8614e-02  5.1008e-02  1.1331e-01\n",
       "-4.6045e-04 -3.4511e-02  1.6527e-01 -3.9980e-02 -1.9463e-01 -2.7988e-02\n",
       " 6.2236e-02  1.3042e-01 -1.7220e-01  1.5902e-01  4.8322e-02 -5.9047e-02\n",
       " 1.8261e-01  6.2011e-02  1.0186e-03  5.1579e-02  1.0463e-01 -4.3219e-02\n",
       " 5.3219e-02 -1.3872e-01 -6.4276e-02 -6.5363e-02  5.8796e-02  1.5465e-01\n",
       " 9.5991e-02  8.5462e-02 -1.2699e-01  1.3277e-02  1.4592e-01  3.2258e-02\n",
       "-2.0937e-01 -8.0276e-02  7.1685e-02 -1.5534e-01 -1.3618e-02  9.8700e-02\n",
       "-4.8221e-02  1.2262e-01  1.1044e-01 -4.0805e-02  3.2604e-02 -4.5655e-02\n",
       " 1.9843e-01 -1.1779e-01 -8.9964e-02 -2.7384e-02  1.2918e-01 -4.1922e-02\n",
       "-9.4664e-02  1.6062e-01  1.2052e-01  5.0675e-02 -1.8527e-01  9.8996e-02\n",
       " 2.5386e-02 -5.5202e-02 -4.3981e-02  4.5141e-02 -1.0860e-01  9.9291e-02\n",
       "-1.9233e-01  7.5105e-02  8.4652e-02 -3.6319e-02  6.5879e-02  1.2595e-01\n",
       "-1.2377e-02 -1.5126e-01 -3.9892e-02  1.4448e-01  7.0319e-02  2.1641e-02\n",
       "-1.0646e-02  6.5945e-02 -1.6785e-02 -1.8678e-01  1.9340e-02  4.3859e-02\n",
       "-5.1691e-02 -1.5368e-01 -8.1614e-02  1.1085e-01  2.3817e-01  1.3973e-01\n",
       "-1.1705e-01  4.6809e-02  3.9835e-02 -4.9147e-02  8.5763e-02  3.0379e-02\n",
       "-2.6091e-03  1.9185e-02  4.3496e-02  1.4101e-02  1.8623e-01 -7.4171e-02\n",
       "-2.2497e-01  1.5573e-02 -6.1904e-02  1.2761e-02  1.7698e-02 -7.4743e-02\n",
       "-1.5121e-01 -1.3600e-01  1.6193e-01 -1.7003e-02  3.0434e-02  1.9450e-01\n",
       " 9.6093e-03 -4.5364e-02  2.8249e-04 -6.8578e-02 -1.9779e-01 -1.1915e-01\n",
       "\n",
       "Columns 24 to 29 \n",
       "-4.0131e-02  5.0259e-02 -7.2029e-02 -1.3388e-01 -7.9329e-03 -1.5982e-01\n",
       "-1.1087e-01 -7.6024e-02 -1.5829e-01  2.8218e-02 -9.1180e-02  1.4637e-01\n",
       " 1.4917e-01  1.8960e-03 -5.1757e-02 -1.2432e-01  1.4181e-01 -1.6730e-02\n",
       "-1.1728e-02 -1.4647e-02  1.4895e-01  4.7767e-02  4.5337e-02  1.6321e-01\n",
       "-1.7303e-01 -4.3719e-02  4.6668e-02  1.2879e-01 -2.8364e-02 -2.4693e-02\n",
       " 1.5336e-01  9.2002e-02 -1.3721e-01  7.2017e-02  7.2345e-02  1.7627e-01\n",
       " 5.1155e-02 -5.0619e-02 -1.3069e-01 -1.3611e-01  9.8274e-02 -2.1422e-01\n",
       "-2.0358e-01 -1.3008e-01 -1.6794e-01  2.0158e-02 -1.7268e-01 -6.8795e-02\n",
       " 2.0891e-01  1.0382e-02  5.7304e-02  1.0993e-01 -1.1161e-02  1.5972e-01\n",
       "-1.0269e-01 -5.5978e-02 -1.6333e-02  8.8088e-02  2.8439e-02 -2.5467e-02\n",
       "-3.3088e-02 -1.0544e-01 -2.2307e-01  7.5571e-02 -1.9104e-01  3.0241e-02\n",
       " 8.9431e-02 -1.3896e-01  1.6831e-01 -9.7867e-02 -9.7359e-02 -1.3619e-02\n",
       "-2.2053e-01  1.1959e-01  8.6554e-03  7.5884e-02  1.1773e-02  1.4501e-01\n",
       "-1.3019e-01  1.3686e-01 -1.5157e-01  2.7842e-02 -2.8068e-02  1.1106e-01\n",
       " 9.3241e-02  7.3600e-02  7.4027e-02 -1.4941e-01  9.2330e-02 -1.6489e-02\n",
       "-5.8115e-02  8.6900e-02  1.5455e-01  1.0538e-01 -5.8134e-02 -7.3465e-02\n",
       "-6.5657e-03  7.4737e-02  1.3691e-01 -1.2457e-01  1.2258e-01  1.4316e-01\n",
       "-1.5773e-01 -1.1096e-02 -5.3059e-02 -1.5774e-01  1.0169e-01 -1.1931e-01\n",
       "-1.0294e-01 -7.6111e-03  1.1285e-01  3.4737e-02  6.8509e-02 -1.5166e-02\n",
       "-6.0960e-02  1.3256e-01  2.5521e-02  6.2369e-02  3.7586e-02  1.2702e-01\n",
       "-6.3470e-02  1.5162e-02 -1.9590e-01  7.2818e-02  1.8159e-01  9.0834e-02\n",
       "\n",
       "Columns 30 to 30 \n",
       " 8.1626e-02\n",
       "-9.7565e-02\n",
       " 1.2936e-01\n",
       "-7.7414e-02\n",
       " 1.5335e-01\n",
       " 2.4331e-02\n",
       " 6.1687e-03\n",
       "-1.8271e-01\n",
       " 1.3406e-02\n",
       " 1.0765e-01\n",
       " 9.2205e-02\n",
       " 5.8917e-02\n",
       "-8.9372e-02\n",
       " 6.1237e-02\n",
       "-1.7939e-01\n",
       " 3.9587e-02\n",
       " 3.2160e-02\n",
       "-1.1892e-01\n",
       "-9.8889e-02\n",
       " 4.6299e-02\n",
       " 7.4462e-03\n",
       "[torch.FloatTensor of size 21x31]"
      ]
     },
     "execution_count": 103,
     "metadata": {},
     "output_type": "execute_result"
    }
   ],
   "source": [
    "dim_corrected_model_2[(0)].weight"
   ]
  },
  {
   "cell_type": "code",
   "execution_count": 104,
   "metadata": {
    "collapsed": false
   },
   "outputs": [
    {
     "data": {
      "text/plain": [
       "Parameter containing:\n",
       "\n",
       "Columns 0 to 9 \n",
       " 0.0396  0.1789  0.2168 -0.1202  0.0388 -0.1940 -0.1263 -0.0505 -0.0694  0.0289\n",
       "-0.2498 -0.1045 -0.1942  0.1847  0.1961 -0.0824 -0.2882  0.0087 -0.0407  0.0129\n",
       "-0.1362 -0.0863  0.2111 -0.1558  0.2098 -0.1579  0.0300  0.1709  0.1793 -0.1054\n",
       " 0.0644  0.0817  0.0928  0.0416  0.0238  0.0286 -0.0219 -0.2467  0.0617 -0.1015\n",
       " 0.0937  0.0252  0.1137  0.1548  0.1190  0.0547  0.1898 -0.0501 -0.0967 -0.0295\n",
       " 0.0705  0.2140 -0.0613 -0.1663  0.0319  0.1554 -0.1934  0.0861 -0.2017  0.0342\n",
       " 0.1242  0.0832 -0.0620 -0.0672  0.0126 -0.0162 -0.1867 -0.1560  0.0581 -0.0064\n",
       " 0.1622 -0.0796 -0.1240  0.1256 -0.2039 -0.1070  0.0414  0.1421  0.0052  0.0558\n",
       "-0.2720  0.2572  0.0082  0.2129 -0.0156 -0.0013 -0.0194 -0.0838  0.0349 -0.1282\n",
       "-0.0696 -0.1927  0.1355 -0.2237 -0.1722 -0.1471  0.0403  0.1738  0.1772 -0.0025\n",
       "-0.1164  0.1672 -0.1145 -0.1877 -0.1010  0.0065  0.1937 -0.1111  0.0548 -0.0638\n",
       "-0.1467 -0.1620  0.2318 -0.1325  0.0656 -0.0989  0.1256 -0.0293  0.0385 -0.2562\n",
       "-0.1062 -0.0717 -0.1700 -0.0667  0.1416  0.0322  0.0796 -0.0846  0.2636 -0.0716\n",
       " 0.1392 -0.2020  0.1036 -0.2443 -0.1976 -0.1142  0.1499  0.0705 -0.1349 -0.1454\n",
       "\n",
       "Columns 10 to 19 \n",
       "-0.2055 -0.2270  0.0253 -0.0972 -0.0124  0.2134 -0.1042 -0.0273 -0.0953 -0.1050\n",
       "-0.0369 -0.1055  0.2674 -0.0841 -0.1893  0.1074 -0.1242  0.0346  0.1063  0.0769\n",
       "-0.0299  0.2092 -0.1771 -0.0333  0.0075 -0.2271 -0.2199 -0.0767  0.0500  0.1424\n",
       "-0.1098  0.1802 -0.0647 -0.2407 -0.0599  0.1480  0.1525  0.1929  0.0268  0.0078\n",
       "-0.2451 -0.1616 -0.0262  0.1232  0.1752  0.0537  0.0378  0.0327  0.1167 -0.0133\n",
       " 0.0152  0.0408 -0.2577  0.0067  0.0770  0.2552 -0.0435 -0.3042 -0.1508 -0.0648\n",
       "-0.0969  0.0873 -0.0180  0.1075 -0.1793 -0.2156 -0.1601  0.1566  0.0495 -0.0502\n",
       " 0.0818  0.0073  0.2286  0.0070 -0.2574  0.1347  0.0722 -0.0235 -0.1512  0.0486\n",
       " 0.0707 -0.0057 -0.1906  0.1041  0.0547 -0.0026 -0.0438  0.0243  0.0610 -0.2113\n",
       " 0.0905 -0.0842  0.0351 -0.0198 -0.0901 -0.0849 -0.1424  0.0681 -0.1664 -0.2226\n",
       " 0.0191 -0.1182  0.0044  0.1548 -0.1102  0.1035 -0.0470 -0.1391 -0.1398 -0.0600\n",
       " 0.1915 -0.2294  0.1167 -0.0473  0.0519  0.0531  0.1332 -0.0204  0.1798  0.2475\n",
       " 0.0102  0.0417  0.0997 -0.0942 -0.2124  0.2031  0.2517  0.1860  0.0640  0.1280\n",
       " 0.0531  0.1075  0.0979 -0.1075 -0.0911  0.0656  0.0788 -0.1502  0.1682 -0.0755\n",
       "\n",
       "Columns 20 to 20 \n",
       "-0.1985\n",
       "-0.0853\n",
       " 0.1300\n",
       " 0.3087\n",
       " 0.1182\n",
       " 0.2295\n",
       "-0.0651\n",
       "-0.0030\n",
       " 0.1886\n",
       "-0.0992\n",
       " 0.0207\n",
       "-0.0515\n",
       "-0.0133\n",
       "-0.0815\n",
       "[torch.FloatTensor of size 14x21]"
      ]
     },
     "execution_count": 104,
     "metadata": {},
     "output_type": "execute_result"
    }
   ],
   "source": [
    "dim_corrected_model_2[(2)].weight"
   ]
  },
  {
   "cell_type": "code",
   "execution_count": 105,
   "metadata": {
    "collapsed": false
   },
   "outputs": [
    {
     "data": {
      "text/plain": [
       "Parameter containing:\n",
       "\n",
       "Columns 0 to 9 \n",
       " 0.1594  0.0702 -0.0897 -0.2989  0.0636  0.1825  0.2146 -0.1138 -0.0503 -0.0251\n",
       "-0.0971 -0.1598  0.0396 -0.2807  0.0328  0.1785  0.1853  0.1817 -0.2379 -0.0663\n",
       " 0.0520  0.0928 -0.0365 -0.0436 -0.1517 -0.1364  0.0501  0.2493 -0.1360 -0.0637\n",
       " 0.1180 -0.1684 -0.0661  0.2131 -0.2426 -0.3610 -0.2596 -0.0436 -0.0030 -0.0985\n",
       "-0.1033 -0.1325 -0.3093  0.1942  0.1368  0.1022  0.0467  0.1257 -0.0458 -0.2338\n",
       " 0.1424  0.1878  0.1019  0.0491 -0.0845 -0.0645  0.0346 -0.0420 -0.0301  0.0461\n",
       "-0.0078 -0.3035  0.0218  0.1861 -0.1576 -0.2263 -0.1423  0.3114 -0.2108  0.1091\n",
       "-0.0063 -0.2435 -0.1800  0.0091  0.2058 -0.0961  0.2036  0.3143 -0.3218 -0.0737\n",
       " 0.2630  0.1953 -0.2225 -0.1380 -0.2130 -0.0190 -0.1405  0.0635  0.1880  0.0002\n",
       "\n",
       "Columns 10 to 13 \n",
       " 0.2454  0.0318  0.0491  0.2150\n",
       " 0.1099 -0.1090 -0.1033  0.0093\n",
       "-0.1630 -0.0303 -0.1674  0.0696\n",
       "-0.1137 -0.2124  0.1265 -0.0563\n",
       " 0.2153 -0.2999  0.1886 -0.1216\n",
       "-0.1581  0.2753 -0.0922  0.1492\n",
       "-0.2555  0.0497 -0.0871 -0.1255\n",
       "-0.1640 -0.0705  0.3347  0.1253\n",
       " 0.0023  0.0253  0.0560 -0.1277\n",
       "[torch.FloatTensor of size 9x14]"
      ]
     },
     "execution_count": 105,
     "metadata": {},
     "output_type": "execute_result"
    }
   ],
   "source": [
    "dim_corrected_model_2[(4)].weight"
   ]
  },
  {
   "cell_type": "code",
   "execution_count": 106,
   "metadata": {
    "collapsed": false
   },
   "outputs": [
    {
     "data": {
      "text/plain": [
       "Parameter containing:\n",
       "-0.0282  0.2740  0.1745  0.2449 -0.0054 -0.0906  0.1315  0.1184  0.2793\n",
       "-0.4294  0.1444  0.0176  0.5595  0.5012 -0.1272  0.4888  0.3398 -0.1431\n",
       "-0.2295  0.3314  0.2852  0.2884 -0.2590 -0.2208 -0.2602  0.2899  0.1558\n",
       "-0.0676 -0.0088  0.0057  0.2953 -0.2959  0.2413 -0.2628 -0.1676 -0.1925\n",
       " 0.1306 -0.0266  0.0690 -0.1241  0.0728 -0.0951 -0.2756  0.0663 -0.1097\n",
       " 0.0027 -0.2567  0.0355  0.1501 -0.1380  0.1632  0.0090  0.1137 -0.2267\n",
       "[torch.FloatTensor of size 6x9]"
      ]
     },
     "execution_count": 106,
     "metadata": {},
     "output_type": "execute_result"
    }
   ],
   "source": [
    "dim_corrected_model_2[(6)].weight"
   ]
  },
  {
   "cell_type": "code",
   "execution_count": 107,
   "metadata": {
    "collapsed": false
   },
   "outputs": [
    {
     "data": {
      "text/plain": [
       "Parameter containing:\n",
       " 0.3564 -0.5385 -0.2841  0.0484 -0.1524  0.0187\n",
       " 0.0433 -0.0411 -0.3873  0.2288  0.3715 -0.3662\n",
       " 0.2644  0.1919 -0.3585 -0.3799  0.1564 -0.0004\n",
       " 0.1210 -0.8734  0.0923  0.4017  0.2283  0.2043\n",
       "[torch.FloatTensor of size 4x6]"
      ]
     },
     "execution_count": 107,
     "metadata": {},
     "output_type": "execute_result"
    }
   ],
   "source": [
    "dim_corrected_model_2[(8)].weight"
   ]
  },
  {
   "cell_type": "code",
   "execution_count": 108,
   "metadata": {
    "collapsed": false
   },
   "outputs": [
    {
     "data": {
      "text/plain": [
       "Parameter containing:\n",
       "-0.7721  0.1139 -0.1217 -1.2072\n",
       "[torch.FloatTensor of size 1x4]"
      ]
     },
     "execution_count": 108,
     "metadata": {},
     "output_type": "execute_result"
    }
   ],
   "source": [
    "dim_corrected_model_2[(10)].weight"
   ]
  },
  {
   "cell_type": "markdown",
   "metadata": {},
   "source": [
    "## Round 6: Six-Hidden-Layer Neural Network"
   ]
  },
  {
   "cell_type": "code",
   "execution_count": 109,
   "metadata": {
    "collapsed": true
   },
   "outputs": [],
   "source": [
    "# Make the torch Tensor into a PyTorch Variable for dependent variables\n",
    "outcomes_Variable = Variable(outcomes_Tensor)\n",
    "\n",
    "\n",
    "# ...for independent variables\n",
    "features_Variable = Variable(features_Tensor,\n",
    "                             requires_grad = False)"
   ]
  },
  {
   "cell_type": "code",
   "execution_count": 110,
   "metadata": {
    "collapsed": true
   },
   "outputs": [],
   "source": [
    "# Make the neural network\n",
    "model = torch.nn.Sequential(torch.nn.Linear(31, 21),\n",
    "                            torch.nn.ReLU(),\n",
    "                            torch.nn.Linear(21, 14),\n",
    "                            torch.nn.ReLU(),\n",
    "                            torch.nn.Linear(14, 9),\n",
    "                            torch.nn.ReLU(),\n",
    "                            torch.nn.Linear(9, 6),\n",
    "                            torch.nn.ReLU(),\n",
    "                            torch.nn.Linear(6, 4),\n",
    "                            torch.nn.ReLU(),\n",
    "                            torch.nn.Linear(4, 3),\n",
    "                            torch.nn.ReLU(),\n",
    "                            torch.nn.Linear(3, 1))"
   ]
  },
  {
   "cell_type": "code",
   "execution_count": 111,
   "metadata": {
    "collapsed": true
   },
   "outputs": [],
   "source": [
    "# To add errors to\n",
    "errors = []\n",
    "\n",
    "\n",
    "# Set the learning rate\n",
    "learning_rate = 5e-6\n",
    "\n",
    "\n",
    "# Train the neural network\n",
    "for t in range(10000):\n",
    "    \n",
    "    # Get the current predictions\n",
    "    y_pred = model(features_Variable)\n",
    "    \n",
    "    # Compute and append current summed errors\n",
    "    loss = loss_fn(y_pred, outcomes_Variable)\n",
    "    errors.append(loss.data[0])\n",
    "    \n",
    "    # Zero the gradients before running the backward pass.\n",
    "    model.zero_grad()\n",
    "    \n",
    "    # Backward pass: compute gradient of the loss with respect to all the learnable Variables\n",
    "    loss.backward()\n",
    "    \n",
    "    # Update the weights using gradient descent\n",
    "    for param in model.parameters():\n",
    "        param.data -= learning_rate * param.grad.data"
   ]
  },
  {
   "cell_type": "code",
   "execution_count": 112,
   "metadata": {
    "collapsed": false
   },
   "outputs": [
    {
     "data": {
      "text/plain": [
       "<matplotlib.collections.PathCollection at 0x7f1c373521d0>"
      ]
     },
     "execution_count": 112,
     "metadata": {},
     "output_type": "execute_result"
    },
    {
     "data": {
      "image/png": "[encoded data removed]",
      "text/plain": [
       "<matplotlib.figure.Figure at 0x7f1c376b10f0>"
      ]
     },
     "metadata": {},
     "output_type": "display_data"
    }
   ],
   "source": [
    "# Plot summed error as a function of iteration\n",
    "plt.scatter(iterations, errors)"
   ]
  },
  {
   "cell_type": "code",
   "execution_count": 113,
   "metadata": {
    "collapsed": true
   },
   "outputs": [],
   "source": [
    "# Get rid of the 2nd dimension of 1 from the FloatTensor\n",
    "y_pred_resized = y_pred.resize(8270)\n",
    "\n",
    "\n",
    "# Make the FloatTensor into a numpy.array\n",
    "y_pred_array = y_pred_resized.data.numpy()\n",
    "\n",
    "\n",
    "# Make the numpy.array into a list\n",
    "y_pred_list = y_pred_array.tolist()"
   ]
  },
  {
   "cell_type": "code",
   "execution_count": 114,
   "metadata": {
    "collapsed": false
   },
   "outputs": [
    {
     "data": {
      "text/plain": [
       "[<matplotlib.lines.Line2D at 0x7f1c3738deb8>]"
      ]
     },
     "execution_count": 114,
     "metadata": {},
     "output_type": "execute_result"
    },
    {
     "data": {
      "image/png": "[encoded data removed]",
      "text/plain": [
       "<matplotlib.figure.Figure at 0x7f1c3738d908>"
      ]
     },
     "metadata": {},
     "output_type": "display_data"
    }
   ],
   "source": [
    "# Plot predictions versus training set outcomes\n",
    "plt.scatter(outcomes_list, y_pred_list)\n",
    "\n",
    "axes = plt.gca()\n",
    "\n",
    "axes.set_xlim([-2, 4])\n",
    "\n",
    "axes.set_ylim([-2, 4])\n",
    "\n",
    "plt.plot([-2, 4], [-2, 4], 'k-', lw=2)"
   ]
  },
  {
   "cell_type": "markdown",
   "metadata": {},
   "source": [
    "### Round 6.1: Validation Set Performance"
   ]
  },
  {
   "cell_type": "code",
   "execution_count": 115,
   "metadata": {
    "collapsed": true
   },
   "outputs": [],
   "source": [
    "# Have to make a new model and give it the train_model parameters to fix structure problem\n",
    "dim_corrected_model = torch.nn.Sequential(torch.nn.Linear(31, 21),\n",
    "                                          torch.nn.ReLU(),\n",
    "                                          torch.nn.Linear(21, 14),\n",
    "                                          torch.nn.ReLU(),\n",
    "                                          torch.nn.Linear(14, 9),\n",
    "                                          torch.nn.ReLU(),\n",
    "                                          torch.nn.Linear(9, 6),\n",
    "                                          torch.nn.ReLU(),\n",
    "                                          torch.nn.Linear(6, 4),\n",
    "                                          torch.nn.ReLU(),\n",
    "                                          torch.nn.Linear(4, 3),\n",
    "                                          torch.nn.ReLU(),\n",
    "                                          torch.nn.Linear(3, 1))\n",
    "\n",
    "\n",
    "# Give the new model the old model's parameters\n",
    "dim_corrected_model[(0)].weight = model[(0)].weight\n",
    "dim_corrected_model[(2)].weight = model[(2)].weight\n",
    "dim_corrected_model[(4)].weight = model[(4)].weight\n",
    "dim_corrected_model[(6)].weight = model[(6)].weight\n",
    "dim_corrected_model[(8)].weight = model[(8)].weight\n",
    "dim_corrected_model[(10)].weight = model[(10)].weight\n",
    "dim_corrected_model[(12)].weight = model[(12)].weight"
   ]
  },
  {
   "cell_type": "code",
   "execution_count": 116,
   "metadata": {
    "collapsed": false
   },
   "outputs": [
    {
     "data": {
      "text/plain": [
       "Variable containing:\n",
       " 1210.8693\n",
       "[torch.FloatTensor of size 1]"
      ]
     },
     "execution_count": 116,
     "metadata": {},
     "output_type": "execute_result"
    }
   ],
   "source": [
    "# Get the validation set predictions\n",
    "y_valid_pred = dim_corrected_model(valid_predictors_Variable)\n",
    "\n",
    "\n",
    "# Print the loss\n",
    "loss_fn(y_valid_pred,\n",
    "        valid_outcomes_Variable)"
   ]
  },
  {
   "cell_type": "code",
   "execution_count": 117,
   "metadata": {
    "collapsed": true
   },
   "outputs": [],
   "source": [
    "# Get rid of the 2nd dimension of 1 from the FloatTensor\n",
    "y_valid_pred_resized = y_valid_pred.resize(2709)\n",
    "\n",
    "\n",
    "# Make the FloatTensor into a numpy.array\n",
    "y_valid_pred_array = y_valid_pred_resized.data.numpy()\n",
    "\n",
    "\n",
    "# Make the numpy.array into a list\n",
    "y_valid_pred_list = y_valid_pred_array.tolist()"
   ]
  },
  {
   "cell_type": "code",
   "execution_count": 118,
   "metadata": {
    "collapsed": false
   },
   "outputs": [
    {
     "data": {
      "text/plain": [
       "[<matplotlib.lines.Line2D at 0x7f1c372b4e10>]"
      ]
     },
     "execution_count": 118,
     "metadata": {},
     "output_type": "execute_result"
    },
    {
     "data": {
      "image/png": "[encoded data removed]",
      "text/plain": [
       "<matplotlib.figure.Figure at 0x7f1c372f50f0>"
      ]
     },
     "metadata": {},
     "output_type": "display_data"
    }
   ],
   "source": [
    "# Plot new predictions versus new data outcomes\n",
    "plt.scatter(valid_outcomes_list, y_valid_pred_list)\n",
    "\n",
    "axes = plt.gca()\n",
    "\n",
    "axes.set_xlim([-2, 4])\n",
    "\n",
    "axes.set_ylim([-2, 4])\n",
    "\n",
    "plt.plot([-2, 4], [-2, 4], 'k-', lw=2)"
   ]
  },
  {
   "cell_type": "markdown",
   "metadata": {},
   "source": [
    "### Round 6.2: Test Set Performance"
   ]
  },
  {
   "cell_type": "code",
   "execution_count": 119,
   "metadata": {
    "collapsed": true
   },
   "outputs": [],
   "source": [
    "# Have to make a new model and give it the train_model parameters to fix structure problem\n",
    "dim_corrected_model_2 = torch.nn.Sequential(torch.nn.Linear(31, 21),\n",
    "                                            torch.nn.ReLU(),\n",
    "                                            torch.nn.Linear(21, 14),\n",
    "                                            torch.nn.ReLU(),\n",
    "                                            torch.nn.Linear(14, 9),\n",
    "                                            torch.nn.ReLU(),\n",
    "                                            torch.nn.Linear(9, 6),\n",
    "                                            torch.nn.ReLU(),\n",
    "                                            torch.nn.Linear(6, 4),\n",
    "                                            torch.nn.ReLU(),\n",
    "                                            torch.nn.Linear(4, 3),\n",
    "                                            torch.nn.ReLU(),\n",
    "                                            torch.nn.Linear(3, 1))\n",
    "\n",
    "\n",
    "# Give the new model the old model's parameters\n",
    "dim_corrected_model_2[(0)].weight = model[(0)].weight\n",
    "dim_corrected_model_2[(2)].weight = model[(2)].weight\n",
    "dim_corrected_model_2[(4)].weight = model[(4)].weight\n",
    "dim_corrected_model_2[(6)].weight = model[(6)].weight\n",
    "dim_corrected_model_2[(8)].weight = model[(8)].weight\n",
    "dim_corrected_model_2[(10)].weight = model[(10)].weight\n",
    "dim_corrected_model_2[(12)].weight = model[(12)].weight"
   ]
  },
  {
   "cell_type": "code",
   "execution_count": 120,
   "metadata": {
    "collapsed": false
   },
   "outputs": [
    {
     "data": {
      "text/plain": [
       "Variable containing:\n",
       " 2587.4443\n",
       "[torch.FloatTensor of size 1]"
      ]
     },
     "execution_count": 120,
     "metadata": {},
     "output_type": "execute_result"
    }
   ],
   "source": [
    "# Get the validation set predictions\n",
    "y_test_pred = dim_corrected_model_2(test_predictors_Variable)\n",
    "\n",
    "\n",
    "# Print the loss\n",
    "loss_fn(y_test_pred,\n",
    "        test_outcomes_Variable)"
   ]
  },
  {
   "cell_type": "code",
   "execution_count": 121,
   "metadata": {
    "collapsed": true
   },
   "outputs": [],
   "source": [
    "# Get rid of the 2nd dimension of 1 from the FloatTensor\n",
    "y_test_pred_resized = y_test_pred.resize(2712)\n",
    "\n",
    "\n",
    "# Make the FloatTensor into a numpy.array\n",
    "y_test_pred_array = y_test_pred_resized.data.numpy()\n",
    "\n",
    "\n",
    "# Convert back to native units and scale\n",
    "y_test_pred_array = y_test_pred_array*5.409956 + 7.691221\n",
    "\n",
    "\n",
    "# Make the numpy.array into a list\n",
    "y_test_pred_list = y_test_pred_array.tolist()"
   ]
  },
  {
   "cell_type": "code",
   "execution_count": 122,
   "metadata": {
    "collapsed": false
   },
   "outputs": [
    {
     "data": {
      "text/plain": [
       "<matplotlib.text.Text at 0x7f1c35da6240>"
      ]
     },
     "execution_count": 122,
     "metadata": {},
     "output_type": "execute_result"
    },
    {
     "data": {
      "image/png": "[encoded data removed]",
      "text/plain": [
       "<matplotlib.figure.Figure at 0x7f1c37265b70>"
      ]
     },
     "metadata": {},
     "output_type": "display_data"
    }
   ],
   "source": [
    "# Plot new predictions versus new data outcomes\n",
    "\n",
    "plt.scatter(test_outcomes_list, y_test_pred_list)\n",
    "\n",
    "axes = plt.gca()\n",
    "\n",
    "axes.set_xlim([2, 23])\n",
    "\n",
    "axes.set_ylim([2, 23])\n",
    "\n",
    "axes.set_xticks([2, 5, 8, 11, 14, 17, 20, 23])\n",
    "\n",
    "axes.set_yticks([2, 5, 8, 11, 14, 17, 20, 23])\n",
    "\n",
    "plt.plot([2, 23], [2, 23], 'k-', lw=2)\n",
    "\n",
    "axes.set_xlabel(\"Actual Outcome (Log-Transformed US Dollars)\")\n",
    "\n",
    "axes.set_ylabel(\"Model Prediction (Log-Transformed US Dollars)\")\n",
    "\n",
    "axes.set_title(\"Model Performance\")"
   ]
  },
  {
   "cell_type": "code",
   "execution_count": 123,
   "metadata": {
    "collapsed": false
   },
   "outputs": [
    {
     "data": {
      "text/plain": [
       "Parameter containing:\n",
       "\n",
       "Columns 0 to 9 \n",
       "-0.1489 -0.0590  0.1475  0.1341 -0.1382  0.0723 -0.1623  0.1072  0.0234 -0.0343\n",
       " 0.1704 -0.1776  0.1467 -0.1101 -0.0981 -0.0650  0.1159  0.0413 -0.0473  0.0251\n",
       "-0.0339 -0.1410 -0.1394  0.1498  0.1658  0.0672 -0.0828 -0.1607  0.0257 -0.0630\n",
       " 0.1336 -0.1535 -0.1191 -0.1571 -0.1743  0.0036 -0.0802 -0.0086  0.0964 -0.1027\n",
       "-0.0556  0.0494  0.1317 -0.1792  0.1081 -0.0112 -0.1736 -0.0819  0.0002  0.0500\n",
       " 0.0123  0.0695 -0.0820  0.0976  0.1089  0.0107 -0.0593 -0.1696 -0.0240 -0.1313\n",
       " 0.0364 -0.1062 -0.1163  0.1089 -0.1022  0.1488 -0.0992 -0.1069 -0.0179 -0.1486\n",
       "-0.0254  0.0041 -0.1793  0.1233  0.1323  0.0494 -0.0105  0.1234 -0.1076 -0.0893\n",
       " 0.0579 -0.0567  0.0015  0.0831  0.1571 -0.1220  0.0181  0.0857  0.0908  0.0323\n",
       " 0.0292  0.0730 -0.0660  0.0031  0.0506  0.0306  0.0446  0.0632  0.0509  0.1342\n",
       " 0.0514  0.0626 -0.1419  0.1199 -0.1533  0.0167  0.1589 -0.1450  0.1550 -0.0748\n",
       " 0.0040 -0.1687 -0.0912 -0.1443 -0.1083 -0.1120 -0.1079 -0.1088  0.1019 -0.0989\n",
       "-0.1522  0.0077 -0.1231  0.0877  0.1653  0.0686 -0.0114  0.0555 -0.1651  0.0016\n",
       "-0.1484 -0.0680 -0.0229 -0.0510 -0.1172 -0.1650  0.0809 -0.1649  0.0666 -0.1282\n",
       "-0.1325  0.0384 -0.0040  0.0059 -0.0751  0.1634  0.1602 -0.1094 -0.0901 -0.1604\n",
       "-0.0056 -0.1123 -0.1325  0.0722  0.1281  0.1177  0.0832 -0.1531  0.1381 -0.1225\n",
       " 0.1504  0.0753 -0.1321 -0.1308  0.1169 -0.1292 -0.0352  0.1676 -0.1458 -0.0734\n",
       " 0.0521  0.1078  0.1634 -0.0046 -0.0371  0.0372  0.0898 -0.0253 -0.0699  0.0938\n",
       " 0.1496  0.0171  0.0991  0.1028  0.1456 -0.0440 -0.0737  0.1001 -0.1300 -0.0580\n",
       "-0.0793  0.1153 -0.0938  0.0984  0.0835 -0.0605  0.1303 -0.0286  0.1760 -0.0417\n",
       "-0.0854 -0.1381  0.1637  0.1710  0.1566  0.1431  0.1604 -0.1151  0.1783 -0.1255\n",
       "\n",
       "Columns 10 to 19 \n",
       "-0.1790  0.0873 -0.0451  0.0318  0.0107  0.1503  0.0912  0.0470 -0.1509  0.1397\n",
       " 0.0595  0.0688 -0.1677 -0.0264 -0.0792 -0.0624 -0.0389  0.0498 -0.0862  0.1413\n",
       "-0.0935  0.0250 -0.1240 -0.1216 -0.1140  0.0651  0.1242  0.0803 -0.0402 -0.1596\n",
       " 0.1153  0.0583 -0.1530  0.1396 -0.1330  0.0513  0.0783  0.0890 -0.0668  0.1238\n",
       "-0.1767  0.1309  0.1114 -0.1690  0.1526  0.0355  0.0883  0.0006  0.1424  0.1727\n",
       "-0.0916  0.1215  0.1342 -0.0480 -0.1582 -0.0357 -0.0636  0.0866 -0.1133 -0.1390\n",
       "-0.0631 -0.0576  0.1305  0.1757 -0.0690  0.0333  0.1206  0.0687 -0.0047 -0.1313\n",
       " 0.0291  0.0535 -0.1211  0.1581 -0.1736 -0.0654 -0.1485 -0.1558 -0.0297  0.1631\n",
       "-0.1584 -0.1109 -0.0144 -0.0506 -0.1077  0.1675 -0.0390  0.1503  0.1685  0.0761\n",
       "-0.0671  0.1076 -0.0057  0.0516 -0.1087 -0.1587 -0.0840  0.1685 -0.0574 -0.1664\n",
       "-0.0750 -0.0988 -0.1764 -0.0452  0.0782  0.0207 -0.1270 -0.0652  0.0700 -0.0982\n",
       " 0.0867 -0.0170 -0.1622 -0.1052  0.1541 -0.0391 -0.1252  0.0245 -0.1042 -0.0571\n",
       " 0.0176 -0.1525  0.0598  0.1192 -0.1047  0.0969 -0.1308 -0.0320  0.0228  0.0622\n",
       "-0.1636 -0.0327  0.0964 -0.0574 -0.0972  0.0921 -0.1564 -0.0455 -0.0596  0.0452\n",
       "-0.1773  0.0778 -0.0072 -0.1570 -0.0537  0.1681 -0.0407  0.0434 -0.1268 -0.1585\n",
       " 0.1040 -0.1167  0.0621  0.0310  0.1268 -0.1394  0.0330  0.1701  0.1687  0.1482\n",
       " 0.0095  0.1066 -0.1056  0.0762  0.1582 -0.0720 -0.1295  0.0206  0.1269 -0.0588\n",
       " 0.0126  0.0613  0.1181  0.1216 -0.1200 -0.0134  0.1681  0.0043  0.0216 -0.0573\n",
       "-0.1254 -0.0986  0.0132 -0.1705  0.1095  0.1589 -0.1053  0.1147  0.1231  0.0654\n",
       " 0.1079 -0.1626 -0.1019 -0.0465 -0.0670  0.0440  0.1632 -0.1694 -0.0483 -0.1461\n",
       "-0.1711 -0.0133 -0.0790  0.0609  0.1540 -0.0273 -0.0112  0.1399  0.0823  0.1170\n",
       "\n",
       "Columns 20 to 29 \n",
       "-0.1498 -0.1585 -0.0486 -0.1299 -0.0155  0.0184  0.1251  0.0227  0.0830 -0.0846\n",
       " 0.0220 -0.0249 -0.0455 -0.0508 -0.0848 -0.0603 -0.0089  0.1198 -0.0829  0.1348\n",
       " 0.0748  0.0201 -0.1244  0.1517 -0.0604  0.0558  0.0401  0.0886  0.0561 -0.0343\n",
       " 0.0084  0.0454  0.0804  0.1227  0.1258  0.0781  0.0431  0.1137 -0.1456 -0.0381\n",
       " 0.0442  0.1373 -0.1503  0.0472 -0.0217  0.0542  0.0259 -0.0149 -0.0040  0.1656\n",
       "-0.1447 -0.1610 -0.0446 -0.1260 -0.0094  0.1625  0.1748 -0.1395  0.0981  0.0000\n",
       " 0.1638  0.1131  0.1686  0.1126 -0.1529 -0.1304 -0.0955 -0.0929 -0.0672  0.0030\n",
       " 0.0609 -0.0542 -0.0683  0.0054  0.1693 -0.0430  0.1444 -0.1068 -0.0841  0.0873\n",
       "-0.0191 -0.1551  0.1625  0.0243 -0.0914 -0.0048  0.1030 -0.1414 -0.1423  0.1221\n",
       " 0.0383 -0.1773  0.0237  0.1293  0.1767 -0.0159 -0.1711 -0.1324  0.0934  0.1408\n",
       "-0.0756 -0.0345  0.0148 -0.0087  0.1130 -0.0563  0.0149 -0.0274  0.0450  0.0463\n",
       "-0.1128 -0.0004 -0.1033  0.1356 -0.1207 -0.1563  0.1014 -0.0124  0.0027  0.0378\n",
       "-0.1652  0.1339  0.0989 -0.1013  0.0382  0.0446  0.1724  0.1412  0.0843  0.0611\n",
       "-0.1510 -0.1755  0.0369 -0.0437 -0.0005 -0.0334  0.0855 -0.1463 -0.0859 -0.1395\n",
       " 0.1629  0.0104  0.0406 -0.0994 -0.1579 -0.1346 -0.0975  0.1062  0.1503 -0.1407\n",
       "-0.0725 -0.1481  0.0684  0.0779  0.1613  0.1649  0.1793 -0.1467 -0.0391 -0.1157\n",
       " 0.1149 -0.1573 -0.0251  0.0440 -0.1753 -0.1097  0.0213  0.1705 -0.1592  0.0741\n",
       "-0.0138  0.0840  0.1572  0.0161  0.1144 -0.0413 -0.0366  0.0325 -0.0544 -0.0594\n",
       "-0.1020  0.1206  0.0338  0.1317 -0.1287 -0.0312 -0.0773 -0.0532 -0.0034 -0.1479\n",
       " 0.0305  0.0893 -0.1453  0.1136  0.0305 -0.1026  0.1223 -0.1643  0.1031  0.1642\n",
       "-0.0557 -0.0568  0.1655 -0.1792 -0.0804  0.0401 -0.1138 -0.1379 -0.1340  0.0230\n",
       "\n",
       "Columns 30 to 30 \n",
       " 0.1177\n",
       "-0.0924\n",
       "-0.0424\n",
       " 0.1091\n",
       "-0.0014\n",
       "-0.0745\n",
       "-0.1491\n",
       "-0.0504\n",
       "-0.0876\n",
       "-0.1428\n",
       "-0.0374\n",
       " 0.0926\n",
       " 0.0427\n",
       " 0.1216\n",
       "-0.0813\n",
       "-0.0463\n",
       "-0.0302\n",
       " 0.0794\n",
       "-0.0807\n",
       "-0.0815\n",
       " 0.0337\n",
       "[torch.FloatTensor of size 21x31]"
      ]
     },
     "execution_count": 123,
     "metadata": {},
     "output_type": "execute_result"
    }
   ],
   "source": [
    "dim_corrected_model_2[(0)].weight"
   ]
  },
  {
   "cell_type": "code",
   "execution_count": 124,
   "metadata": {
    "collapsed": false
   },
   "outputs": [
    {
     "data": {
      "text/plain": [
       "Parameter containing:\n",
       "\n",
       "Columns 0 to 9 \n",
       "-0.1920 -0.0309  0.1434  0.1993 -0.1861 -0.2095  0.0296 -0.0280 -0.1941 -0.1435\n",
       "-0.2086 -0.1423 -0.1032  0.2171  0.0669 -0.1074  0.1369 -0.0508 -0.0085 -0.1037\n",
       " 0.1871 -0.1974 -0.0210 -0.0904  0.0902 -0.1102  0.0024 -0.1281 -0.0442 -0.0779\n",
       "-0.1947  0.1274  0.0605 -0.0105 -0.0116 -0.1255 -0.2097  0.1339  0.0358 -0.0446\n",
       " 0.0762  0.0873  0.2152  0.1539  0.0847  0.1416 -0.2175  0.0769  0.0180 -0.0715\n",
       " 0.1314  0.1877  0.1625 -0.2104 -0.2096 -0.0449 -0.1257 -0.0607 -0.2153  0.1542\n",
       "-0.1567 -0.2097 -0.0480  0.0294 -0.1739 -0.1123 -0.0018  0.0435  0.0454 -0.1746\n",
       " 0.0138 -0.1554  0.1117  0.0442 -0.0254 -0.0620 -0.1938  0.2003  0.2029  0.0183\n",
       "-0.1126 -0.1912  0.0563 -0.1504 -0.0322  0.2127  0.0019 -0.1816  0.0885  0.1979\n",
       " 0.0071  0.0673  0.2091  0.0493  0.2164 -0.0688 -0.0233 -0.1522 -0.1984 -0.0815\n",
       "-0.0930 -0.1368  0.1642  0.0212 -0.0622 -0.2085  0.0288  0.1250 -0.0437  0.1671\n",
       "-0.2160 -0.1753  0.0195  0.0588 -0.1447 -0.1373  0.0314 -0.1139  0.0582  0.1845\n",
       " 0.2034  0.1305 -0.2089 -0.1013 -0.1139 -0.0458  0.1106  0.1358  0.0616 -0.0837\n",
       " 0.0284 -0.0459  0.0560 -0.1066  0.1641 -0.1976 -0.2182  0.1230  0.0563 -0.0130\n",
       "\n",
       "Columns 10 to 19 \n",
       "-0.0808  0.2158 -0.0500 -0.1104 -0.0519 -0.0609 -0.0288  0.1706  0.0833 -0.0388\n",
       "-0.1770  0.0596 -0.1888 -0.0124 -0.0099  0.2065 -0.1735 -0.1882 -0.2117  0.1893\n",
       "-0.1381  0.2087 -0.1021  0.1887  0.0452  0.2099  0.0785 -0.0318 -0.1893 -0.1222\n",
       "-0.1013 -0.0306  0.0730  0.1899  0.0603  0.0914 -0.1972 -0.1973 -0.1886  0.1001\n",
       " 0.0361  0.1599 -0.0297 -0.0032  0.1191 -0.1033 -0.0832 -0.0628  0.1294  0.0869\n",
       " 0.1908 -0.1747 -0.1874  0.1012 -0.0203 -0.1433 -0.1739 -0.2025 -0.0330  0.1488\n",
       " 0.0421 -0.0378  0.1112  0.0061 -0.1937 -0.1168 -0.0021  0.1165  0.0546 -0.0959\n",
       " 0.0179 -0.0197  0.2055  0.1756  0.0848  0.1506  0.0943  0.1585 -0.2053 -0.0725\n",
       "-0.0630 -0.0785 -0.0819 -0.1430 -0.1216 -0.0522  0.1993 -0.1614 -0.0957 -0.1527\n",
       " 0.1148 -0.0401 -0.0373  0.0638  0.0173 -0.0194  0.0159 -0.1719 -0.0596  0.1951\n",
       " 0.0535 -0.0686  0.1416 -0.0335 -0.1112 -0.1793 -0.0137 -0.0556 -0.0627  0.1339\n",
       " 0.1803  0.0315  0.0199 -0.0870 -0.0156 -0.1812 -0.2088  0.1129 -0.1976  0.0026\n",
       " 0.1574  0.1180  0.2120 -0.0155 -0.0956 -0.1807  0.0928 -0.0269  0.1719  0.2088\n",
       " 0.1931  0.1534  0.1573  0.0784  0.1273 -0.0916  0.1116  0.0997  0.0256  0.0933\n",
       "\n",
       "Columns 20 to 20 \n",
       "-0.0093\n",
       " 0.1148\n",
       " 0.1312\n",
       "-0.0823\n",
       " 0.0831\n",
       " 0.0353\n",
       "-0.1625\n",
       " 0.0802\n",
       " 0.1810\n",
       "-0.1979\n",
       "-0.1014\n",
       "-0.0160\n",
       " 0.0957\n",
       "-0.1685\n",
       "[torch.FloatTensor of size 14x21]"
      ]
     },
     "execution_count": 124,
     "metadata": {},
     "output_type": "execute_result"
    }
   ],
   "source": [
    "dim_corrected_model_2[(2)].weight"
   ]
  },
  {
   "cell_type": "code",
   "execution_count": 125,
   "metadata": {
    "collapsed": false
   },
   "outputs": [
    {
     "data": {
      "text/plain": [
       "Parameter containing:\n",
       "\n",
       "Columns 0 to 9 \n",
       "-0.1250 -0.2474  0.2453  0.2123 -0.0409  0.0255  0.0687  0.0454  0.0442 -0.2647\n",
       "-0.1668  0.1761 -0.1470  0.1462 -0.1010 -0.1480  0.1412  0.0944 -0.1634 -0.0097\n",
       " 0.0536  0.1192  0.1099 -0.1054 -0.1217  0.0501  0.0780 -0.1352  0.0456 -0.0188\n",
       " 0.2670 -0.1419 -0.0636  0.1546 -0.1251 -0.1851 -0.2004 -0.0313  0.1168  0.2055\n",
       "-0.0257 -0.2321 -0.1350 -0.1750  0.1172  0.1883  0.1841 -0.2604  0.1333 -0.1137\n",
       " 0.1617  0.0572  0.1668 -0.0234 -0.1989  0.1702  0.1538  0.2185  0.2368 -0.2057\n",
       "-0.0902  0.0882  0.0896 -0.1314  0.2604  0.1949  0.1225  0.1653 -0.1109  0.0442\n",
       " 0.2222 -0.0176 -0.2285  0.0354 -0.0647  0.1886  0.0519 -0.1121  0.0474 -0.2258\n",
       " 0.1589  0.1856 -0.1586 -0.2440  0.2565  0.0530 -0.1179 -0.1749  0.2187 -0.1870\n",
       "\n",
       "Columns 10 to 13 \n",
       "-0.2230  0.0553 -0.1796 -0.0679\n",
       " 0.0101  0.0817  0.0767  0.1852\n",
       " 0.2041 -0.0945 -0.0308  0.0649\n",
       "-0.0709 -0.0508  0.0839 -0.1385\n",
       "-0.0401 -0.0957  0.0691  0.0818\n",
       " 0.1996  0.1638  0.1402  0.1914\n",
       "-0.1344  0.2167  0.2433 -0.1379\n",
       "-0.2595 -0.2139  0.0700 -0.1069\n",
       "-0.1693 -0.2322 -0.2380 -0.1103\n",
       "[torch.FloatTensor of size 9x14]"
      ]
     },
     "execution_count": 125,
     "metadata": {},
     "output_type": "execute_result"
    }
   ],
   "source": [
    "dim_corrected_model_2[(4)].weight"
   ]
  },
  {
   "cell_type": "code",
   "execution_count": 126,
   "metadata": {
    "collapsed": false
   },
   "outputs": [
    {
     "data": {
      "text/plain": [
       "Parameter containing:\n",
       " 0.0438  0.1965 -0.0443  0.0905  0.0809  0.0606 -0.0951  0.0673 -0.0712\n",
       " 0.3211 -0.0005 -0.1249 -0.0338 -0.2534 -0.2084 -0.0702 -0.1961 -0.2093\n",
       " 0.3041 -0.3298 -0.1489  0.1163 -0.3110  0.0242 -0.3184 -0.0921  0.0535\n",
       " 0.1917 -0.3094  0.2099 -0.2581  0.0315 -0.2758  0.2760  0.2600  0.1334\n",
       " 0.0416  0.2156  0.0658 -0.0352 -0.1441 -0.2954  0.1672  0.2938 -0.0266\n",
       "-0.0547  0.3000  0.0619 -0.1549 -0.1974  0.2980  0.1560 -0.0808  0.0359\n",
       "[torch.FloatTensor of size 6x9]"
      ]
     },
     "execution_count": 126,
     "metadata": {},
     "output_type": "execute_result"
    }
   ],
   "source": [
    "dim_corrected_model_2[(6)].weight"
   ]
  },
  {
   "cell_type": "code",
   "execution_count": 127,
   "metadata": {
    "collapsed": false
   },
   "outputs": [
    {
     "data": {
      "text/plain": [
       "Parameter containing:\n",
       "-0.3993 -0.3034  0.2578 -0.2412  0.2981 -0.3173\n",
       " 0.0525 -0.1349 -0.1990 -0.2866 -0.0114 -0.2003\n",
       "-0.2818  0.2581 -0.2544  0.3838  0.3702 -0.1163\n",
       " 0.0333  0.1348  0.1550 -0.3219  0.2998 -0.2179\n",
       "[torch.FloatTensor of size 4x6]"
      ]
     },
     "execution_count": 127,
     "metadata": {},
     "output_type": "execute_result"
    }
   ],
   "source": [
    "dim_corrected_model_2[(8)].weight"
   ]
  },
  {
   "cell_type": "code",
   "execution_count": 128,
   "metadata": {
    "collapsed": false
   },
   "outputs": [
    {
     "data": {
      "text/plain": [
       "Parameter containing:\n",
       " 0.0198  0.1083 -0.1489 -0.4258\n",
       "-0.0425 -0.4631  0.0667 -0.1127\n",
       "-0.1039  0.1285  0.1587  0.2414\n",
       "[torch.FloatTensor of size 3x4]"
      ]
     },
     "execution_count": 128,
     "metadata": {},
     "output_type": "execute_result"
    }
   ],
   "source": [
    "dim_corrected_model_2[(10)].weight"
   ]
  },
  {
   "cell_type": "code",
   "execution_count": 129,
   "metadata": {
    "collapsed": false
   },
   "outputs": [
    {
     "data": {
      "text/plain": [
       "Parameter containing:\n",
       " 0.0414  0.4677 -0.2591\n",
       "[torch.FloatTensor of size 1x3]"
      ]
     },
     "execution_count": 129,
     "metadata": {},
     "output_type": "execute_result"
    }
   ],
   "source": [
    "dim_corrected_model_2[(12)].weight"
   ]
  },
  {
   "cell_type": "markdown",
   "metadata": {},
   "source": [
    "## Round 7: Seven-Hidden-Layer Neural Network"
   ]
  },
  {
   "cell_type": "code",
   "execution_count": 130,
   "metadata": {
    "collapsed": true
   },
   "outputs": [],
   "source": [
    "# Make the torch Tensor into a PyTorch Variable for dependent variables\n",
    "outcomes_Variable = Variable(outcomes_Tensor)\n",
    "\n",
    "\n",
    "# ...for independent variables\n",
    "features_Variable = Variable(features_Tensor,\n",
    "                             requires_grad = False)"
   ]
  },
  {
   "cell_type": "code",
   "execution_count": 131,
   "metadata": {
    "collapsed": true
   },
   "outputs": [],
   "source": [
    "# Make the neural network\n",
    "model = torch.nn.Sequential(torch.nn.Linear(31, 21),\n",
    "                            torch.nn.ReLU(),\n",
    "                            torch.nn.Linear(21, 14),\n",
    "                            torch.nn.ReLU(),\n",
    "                            torch.nn.Linear(14, 9),\n",
    "                            torch.nn.ReLU(),\n",
    "                            torch.nn.Linear(9, 6),\n",
    "                            torch.nn.ReLU(),\n",
    "                            torch.nn.Linear(6, 4),\n",
    "                            torch.nn.ReLU(),\n",
    "                            torch.nn.Linear(4, 3),\n",
    "                            torch.nn.ReLU(),\n",
    "                            torch.nn.Linear(3, 2),\n",
    "                            torch.nn.ReLU(),\n",
    "                            torch.nn.Linear(2, 1))"
   ]
  },
  {
   "cell_type": "code",
   "execution_count": 132,
   "metadata": {
    "collapsed": true
   },
   "outputs": [],
   "source": [
    "# To add errors to\n",
    "errors = []\n",
    "\n",
    "\n",
    "# Set the learning rate\n",
    "learning_rate = 5e-6\n",
    "\n",
    "\n",
    "# Train the neural network\n",
    "for t in range(10000):\n",
    "    \n",
    "    # Get the current predictions\n",
    "    y_pred = model(features_Variable)\n",
    "    \n",
    "    # Compute and append current summed errors\n",
    "    loss = loss_fn(y_pred, outcomes_Variable)\n",
    "    errors.append(loss.data[0])\n",
    "    \n",
    "    # Zero the gradients before running the backward pass.\n",
    "    model.zero_grad()\n",
    "    \n",
    "    # Backward pass: compute gradient of the loss with respect to all the learnable Variables\n",
    "    loss.backward()\n",
    "    \n",
    "    # Update the weights using gradient descent\n",
    "    for param in model.parameters():\n",
    "        param.data -= learning_rate * param.grad.data"
   ]
  },
  {
   "cell_type": "code",
   "execution_count": 133,
   "metadata": {
    "collapsed": false
   },
   "outputs": [
    {
     "data": {
      "text/plain": [
       "<matplotlib.collections.PathCollection at 0x7f1c35cf19b0>"
      ]
     },
     "execution_count": 133,
     "metadata": {},
     "output_type": "execute_result"
    },
    {
     "data": {
      "image/png": "[encoded data removed]",
      "text/plain": [
       "<matplotlib.figure.Figure at 0x7f1c373c1dd8>"
      ]
     },
     "metadata": {},
     "output_type": "display_data"
    }
   ],
   "source": [
    "# Plot summed error as a function of iteration\n",
    "plt.scatter(iterations, errors)"
   ]
  },
  {
   "cell_type": "code",
   "execution_count": 134,
   "metadata": {
    "collapsed": true
   },
   "outputs": [],
   "source": [
    "# Get rid of the 2nd dimension of 1 from the FloatTensor\n",
    "y_pred_resized = y_pred.resize(8270)\n",
    "\n",
    "\n",
    "# Make the FloatTensor into a numpy.array\n",
    "y_pred_array = y_pred_resized.data.numpy()\n",
    "\n",
    "\n",
    "# Make the numpy.array into a list\n",
    "y_pred_list = y_pred_array.tolist()"
   ]
  },
  {
   "cell_type": "code",
   "execution_count": 135,
   "metadata": {
    "collapsed": false
   },
   "outputs": [
    {
     "data": {
      "text/plain": [
       "[<matplotlib.lines.Line2D at 0x7f1c35d34320>]"
      ]
     },
     "execution_count": 135,
     "metadata": {},
     "output_type": "execute_result"
    },
    {
     "data": {
      "image/png": "[encoded data removed]",
      "text/plain": [
       "<matplotlib.figure.Figure at 0x7f1c35d34390>"
      ]
     },
     "metadata": {},
     "output_type": "display_data"
    }
   ],
   "source": [
    "# Plot predictions versus training set outcomes\n",
    "plt.scatter(outcomes_list, y_pred_list)\n",
    "\n",
    "axes = plt.gca()\n",
    "\n",
    "axes.set_xlim([-2, 4])\n",
    "\n",
    "axes.set_ylim([-2, 4])\n",
    "\n",
    "plt.plot([-2, 4], [-2, 4], 'k-', lw=2)"
   ]
  },
  {
   "cell_type": "markdown",
   "metadata": {},
   "source": [
    "### Round 7.1: Validation Set Performance"
   ]
  },
  {
   "cell_type": "code",
   "execution_count": 136,
   "metadata": {
    "collapsed": true
   },
   "outputs": [],
   "source": [
    "# Have to make a new model and give it the train_model parameters to fix structure problem\n",
    "dim_corrected_model = torch.nn.Sequential(torch.nn.Linear(31, 21),\n",
    "                                          torch.nn.ReLU(),\n",
    "                                          torch.nn.Linear(21, 14),\n",
    "                                          torch.nn.ReLU(),\n",
    "                                          torch.nn.Linear(14, 9),\n",
    "                                          torch.nn.ReLU(),\n",
    "                                          torch.nn.Linear(9, 6),\n",
    "                                          torch.nn.ReLU(),\n",
    "                                          torch.nn.Linear(6, 4),\n",
    "                                          torch.nn.ReLU(),\n",
    "                                          torch.nn.Linear(4, 3),\n",
    "                                          torch.nn.ReLU(),\n",
    "                                          torch.nn.Linear(3, 2),\n",
    "                                          torch.nn.ReLU(),\n",
    "                                          torch.nn.Linear(2, 1))\n",
    "\n",
    "\n",
    "# Give the new model the old model's parameters\n",
    "dim_corrected_model[(0)].weight = model[(0)].weight\n",
    "dim_corrected_model[(2)].weight = model[(2)].weight\n",
    "dim_corrected_model[(4)].weight = model[(4)].weight\n",
    "dim_corrected_model[(6)].weight = model[(6)].weight\n",
    "dim_corrected_model[(8)].weight = model[(8)].weight\n",
    "dim_corrected_model[(10)].weight = model[(10)].weight\n",
    "dim_corrected_model[(12)].weight = model[(12)].weight\n",
    "dim_corrected_model[(14)].weight = model[(14)].weight"
   ]
  },
  {
   "cell_type": "code",
   "execution_count": 137,
   "metadata": {
    "collapsed": false
   },
   "outputs": [
    {
     "data": {
      "text/plain": [
       "Variable containing:\n",
       " 1160.3055\n",
       "[torch.FloatTensor of size 1]"
      ]
     },
     "execution_count": 137,
     "metadata": {},
     "output_type": "execute_result"
    }
   ],
   "source": [
    "# Get the validation set predictions\n",
    "y_valid_pred = dim_corrected_model(valid_predictors_Variable)\n",
    "\n",
    "\n",
    "# Print the loss\n",
    "loss_fn(y_valid_pred,\n",
    "        valid_outcomes_Variable)"
   ]
  },
  {
   "cell_type": "code",
   "execution_count": 138,
   "metadata": {
    "collapsed": true
   },
   "outputs": [],
   "source": [
    "# Get rid of the 2nd dimension of 1 from the FloatTensor\n",
    "y_valid_pred_resized = y_valid_pred.resize(2709)\n",
    "\n",
    "\n",
    "# Make the FloatTensor into a numpy.array\n",
    "y_valid_pred_array = y_valid_pred_resized.data.numpy()\n",
    "\n",
    "\n",
    "# Make the numpy.array into a list\n",
    "y_valid_pred_list = y_valid_pred_array.tolist()"
   ]
  },
  {
   "cell_type": "code",
   "execution_count": 139,
   "metadata": {
    "collapsed": false
   },
   "outputs": [
    {
     "data": {
      "text/plain": [
       "[<matplotlib.lines.Line2D at 0x7f1c35c244e0>]"
      ]
     },
     "execution_count": 139,
     "metadata": {},
     "output_type": "execute_result"
    },
    {
     "data": {
      "image/png": "[encoded data removed]",
      "text/plain": [
       "<matplotlib.figure.Figure at 0x7f1c35dfc518>"
      ]
     },
     "metadata": {},
     "output_type": "display_data"
    }
   ],
   "source": [
    "# Plot new predictions versus new data outcomes\n",
    "plt.scatter(valid_outcomes_list, y_valid_pred_list)\n",
    "\n",
    "axes = plt.gca()\n",
    "\n",
    "axes.set_xlim([-2, 4])\n",
    "\n",
    "axes.set_ylim([-2, 4])\n",
    "\n",
    "plt.plot([-2, 4], [-2, 4], 'k-', lw=2)"
   ]
  },
  {
   "cell_type": "markdown",
   "metadata": {},
   "source": [
    "### Round 7.2: Test Set Performance"
   ]
  },
  {
   "cell_type": "code",
   "execution_count": 140,
   "metadata": {
    "collapsed": true
   },
   "outputs": [],
   "source": [
    "# Have to make a new model and give it the train_model parameters to fix structure problem\n",
    "dim_corrected_model_2 = torch.nn.Sequential(torch.nn.Linear(31, 21),\n",
    "                                            torch.nn.ReLU(),\n",
    "                                            torch.nn.Linear(21, 14),\n",
    "                                            torch.nn.ReLU(),\n",
    "                                            torch.nn.Linear(14, 9),\n",
    "                                            torch.nn.ReLU(),\n",
    "                                            torch.nn.Linear(9, 6),\n",
    "                                            torch.nn.ReLU(),\n",
    "                                            torch.nn.Linear(6, 4),\n",
    "                                            torch.nn.ReLU(),\n",
    "                                            torch.nn.Linear(4, 3),\n",
    "                                            torch.nn.ReLU(),\n",
    "                                            torch.nn.Linear(3, 2),\n",
    "                                            torch.nn.ReLU(),\n",
    "                                            torch.nn.Linear(2, 1))\n",
    "\n",
    "\n",
    "# Give the new model the old model's parameters\n",
    "dim_corrected_model_2[(0)].weight = model[(0)].weight\n",
    "dim_corrected_model_2[(2)].weight = model[(2)].weight\n",
    "dim_corrected_model_2[(4)].weight = model[(4)].weight\n",
    "dim_corrected_model_2[(6)].weight = model[(6)].weight\n",
    "dim_corrected_model_2[(8)].weight = model[(8)].weight\n",
    "dim_corrected_model_2[(10)].weight = model[(10)].weight\n",
    "dim_corrected_model_2[(12)].weight = model[(12)].weight\n",
    "dim_corrected_model_2[(14)].weight = model[(14)].weight"
   ]
  },
  {
   "cell_type": "code",
   "execution_count": 141,
   "metadata": {
    "collapsed": false
   },
   "outputs": [
    {
     "data": {
      "text/plain": [
       "Variable containing:\n",
       " 4642.5454\n",
       "[torch.FloatTensor of size 1]"
      ]
     },
     "execution_count": 141,
     "metadata": {},
     "output_type": "execute_result"
    }
   ],
   "source": [
    "# Get the validation set predictions\n",
    "y_test_pred = dim_corrected_model_2(test_predictors_Variable)\n",
    "\n",
    "\n",
    "# Print the loss\n",
    "loss_fn(y_test_pred,\n",
    "        test_outcomes_Variable)"
   ]
  },
  {
   "cell_type": "code",
   "execution_count": 142,
   "metadata": {
    "collapsed": true
   },
   "outputs": [],
   "source": [
    "# Get rid of the 2nd dimension of 1 from the FloatTensor\n",
    "y_test_pred_resized = y_test_pred.resize(2712)\n",
    "\n",
    "\n",
    "# Make the FloatTensor into a numpy.array\n",
    "y_test_pred_array = y_test_pred_resized.data.numpy()\n",
    "\n",
    "\n",
    "# Convert back to native units and scale\n",
    "y_test_pred_array = y_test_pred_array*5.409956 + 7.691221\n",
    "\n",
    "\n",
    "# Make the numpy.array into a list\n",
    "y_test_pred_list = y_test_pred_array.tolist()"
   ]
  },
  {
   "cell_type": "code",
   "execution_count": 143,
   "metadata": {
    "collapsed": false
   },
   "outputs": [
    {
     "data": {
      "text/plain": [
       "<matplotlib.text.Text at 0x7f1c35b77908>"
      ]
     },
     "execution_count": 143,
     "metadata": {},
     "output_type": "execute_result"
    },
    {
     "data": {
      "image/png": "[encoded data removed]",
      "text/plain": [
       "<matplotlib.figure.Figure at 0x7f1c35c45710>"
      ]
     },
     "metadata": {},
     "output_type": "display_data"
    }
   ],
   "source": [
    "# Plot new predictions versus new data outcomes\n",
    "\n",
    "plt.scatter(test_outcomes_list, y_test_pred_list)\n",
    "\n",
    "axes = plt.gca()\n",
    "\n",
    "axes.set_xlim([2, 23])\n",
    "\n",
    "axes.set_ylim([2, 23])\n",
    "\n",
    "axes.set_xticks([2, 5, 8, 11, 14, 17, 20, 23])\n",
    "\n",
    "axes.set_yticks([2, 5, 8, 11, 14, 17, 20, 23])\n",
    "\n",
    "plt.plot([2, 23], [2, 23], 'k-', lw=2)\n",
    "\n",
    "axes.set_xlabel(\"Actual Outcome (Log-Transformed US Dollars)\")\n",
    "\n",
    "axes.set_ylabel(\"Model Prediction (Log-Transformed US Dollars)\")\n",
    "\n",
    "axes.set_title(\"Model Performance\")"
   ]
  },
  {
   "cell_type": "code",
   "execution_count": 144,
   "metadata": {
    "collapsed": false
   },
   "outputs": [
    {
     "data": {
      "text/plain": [
       "Parameter containing:\n",
       "\n",
       "Columns 0 to 9 \n",
       " 0.1778  0.1306  0.0291  0.1345  0.0299  0.0502  0.0749 -0.0039  0.0283 -0.0835\n",
       " 0.0067  0.0719  0.0853 -0.0238 -0.1266 -0.1043  0.0757 -0.0978 -0.0448 -0.1560\n",
       " 0.1112 -0.0768 -0.1076  0.0197 -0.1647  0.1037  0.0372 -0.0053  0.0204 -0.1123\n",
       " 0.0567 -0.1401 -0.0030 -0.0667  0.0422 -0.1591 -0.1262 -0.0012 -0.1787  0.0706\n",
       "-0.1109  0.0046 -0.1125 -0.0264  0.1244  0.1271  0.1684 -0.1468  0.0183 -0.1672\n",
       " 0.1659  0.1416  0.1719 -0.1717  0.0332  0.1017  0.1606 -0.0810 -0.0980 -0.1411\n",
       "-0.1645 -0.1234  0.0752  0.1196  0.1232 -0.1651  0.0139  0.0489 -0.1732 -0.0579\n",
       " 0.0287  0.0045  0.1182 -0.0073 -0.1216 -0.1676 -0.0043  0.1654 -0.0632  0.1142\n",
       "-0.0433  0.0238 -0.1522 -0.0871  0.0747 -0.0886 -0.1227 -0.0566 -0.0848  0.0873\n",
       "-0.1171 -0.1075  0.0892 -0.0905 -0.0641  0.1463 -0.0848 -0.1256  0.1479 -0.0869\n",
       "-0.1195  0.0681  0.1010 -0.1342  0.1240  0.0976  0.1542  0.0209 -0.0110 -0.0505\n",
       "-0.0057 -0.0332  0.1633  0.1139  0.0566  0.0150  0.0373 -0.0403 -0.1368 -0.0250\n",
       "-0.0791 -0.0034 -0.1489  0.1460 -0.1237  0.0041 -0.0251  0.1210  0.0822  0.0050\n",
       "-0.0504  0.0647  0.0753  0.0315  0.0249  0.0096  0.0807 -0.1053  0.0946  0.1722\n",
       "-0.0373  0.0578  0.0978  0.0910 -0.0934 -0.0445 -0.0744  0.0156  0.0429  0.1040\n",
       " 0.1794  0.1616 -0.0791 -0.0830  0.0896  0.0604  0.1567  0.1368 -0.1250 -0.1402\n",
       " 0.0183  0.0517 -0.0458 -0.1238  0.1675  0.0032  0.0651 -0.1546 -0.0845 -0.1008\n",
       " 0.1619 -0.0221  0.1658  0.0271  0.0501  0.0542  0.0367  0.0976 -0.0125 -0.1514\n",
       " 0.0747 -0.1206  0.0140  0.1435 -0.0341  0.0129 -0.0023  0.0835  0.1424 -0.0271\n",
       "-0.1377 -0.0496  0.1074  0.0090  0.1234  0.1269 -0.0069 -0.0270  0.0738 -0.1601\n",
       "-0.0995  0.1763 -0.1157 -0.0132  0.0337  0.1757 -0.1070  0.0448 -0.0766  0.0903\n",
       "\n",
       "Columns 10 to 19 \n",
       "-0.0491 -0.1205  0.0494  0.1671  0.0793 -0.1554 -0.0664 -0.0025 -0.0969 -0.1432\n",
       " 0.0417 -0.0697  0.0051  0.1278 -0.1005  0.1682  0.1744 -0.1551 -0.1760 -0.1376\n",
       "-0.0571  0.0303 -0.1462  0.0744 -0.0664  0.0927 -0.0628  0.0440 -0.1339  0.0474\n",
       "-0.1387 -0.1365  0.0573 -0.1128 -0.1394 -0.1528 -0.0388 -0.0862 -0.0707 -0.0602\n",
       "-0.1748 -0.0992 -0.1187 -0.0707 -0.0894  0.0268 -0.1630 -0.0755  0.1781 -0.0737\n",
       " 0.0148 -0.0303  0.1770 -0.1076  0.0238 -0.0741  0.0413 -0.1395  0.1277  0.1769\n",
       " 0.1218  0.1298  0.0884  0.0946  0.1074  0.0824 -0.1734 -0.1198  0.0233  0.1361\n",
       "-0.0961 -0.1011 -0.0575  0.0832  0.0673 -0.0077  0.1523 -0.0916 -0.0712  0.0100\n",
       "-0.1739  0.0577 -0.1417  0.1120 -0.0352 -0.1022  0.0274  0.0660 -0.0993 -0.0853\n",
       "-0.1506 -0.1157 -0.1585 -0.0737  0.1041 -0.1770 -0.1700 -0.1282 -0.1327  0.0272\n",
       " 0.1277 -0.0953  0.0296  0.1623  0.1076  0.0135 -0.0565 -0.1068 -0.1146 -0.0471\n",
       " 0.0054  0.0199  0.1240 -0.0615  0.0808  0.0372  0.1015  0.0364 -0.0017 -0.0255\n",
       "-0.0066 -0.0229 -0.0587 -0.0685 -0.1065  0.0053  0.0490  0.0711  0.0357  0.0636\n",
       " 0.1233 -0.0283 -0.0295 -0.1025  0.0616 -0.0971  0.0570 -0.1168  0.0428  0.1511\n",
       "-0.0262 -0.0548 -0.1388 -0.1522  0.1333 -0.0701  0.0112  0.0791  0.1343  0.1782\n",
       " 0.1437  0.1196  0.1623  0.0221  0.1007 -0.1644 -0.1727 -0.0800  0.1123  0.1618\n",
       "-0.1782  0.1430  0.1220 -0.0076 -0.0980 -0.0129  0.1132  0.1464 -0.0451 -0.0043\n",
       "-0.0055 -0.1000 -0.0025 -0.0064 -0.1254 -0.0698  0.0665  0.1644  0.0366  0.0975\n",
       "-0.0663  0.0736  0.0109  0.1461 -0.1316 -0.1568  0.1295 -0.1648  0.0162  0.0938\n",
       "-0.0107  0.0473 -0.0492  0.1083  0.0901  0.1570  0.1265  0.1040 -0.0943 -0.1737\n",
       " 0.1001  0.0933 -0.1384  0.0564 -0.0120 -0.1681  0.1074  0.1219  0.1320  0.1486\n",
       "\n",
       "Columns 20 to 29 \n",
       " 0.0665  0.0502  0.0748 -0.0721 -0.1148  0.0525  0.0660  0.0818 -0.1656  0.1120\n",
       "-0.1366  0.0893  0.0336  0.0645 -0.0873  0.1431 -0.0282  0.1517  0.1764  0.0169\n",
       "-0.1674  0.1249  0.1467  0.0056  0.0596  0.0005  0.1630  0.0195 -0.0051  0.0917\n",
       "-0.0364  0.0512 -0.1549 -0.1259  0.1653 -0.1309  0.1735  0.0053 -0.0760 -0.0512\n",
       "-0.0311 -0.0972 -0.0157  0.1606 -0.0873  0.0413  0.1544 -0.1149 -0.0888  0.1299\n",
       " 0.1601 -0.1200  0.1072 -0.0003  0.0427  0.0243  0.0380  0.1253  0.0814 -0.1212\n",
       " 0.1254 -0.0186  0.0303  0.1313 -0.0532 -0.0951 -0.1571  0.0990  0.1427  0.0366\n",
       " 0.0829  0.1269  0.1412  0.1348 -0.1368 -0.0810  0.0144 -0.1660  0.1793  0.1758\n",
       "-0.1192 -0.0045  0.0359  0.0475 -0.0334  0.0135  0.0596  0.0544  0.0181 -0.1137\n",
       "-0.1562  0.0965  0.0175 -0.0095  0.0315  0.1131  0.1623  0.0495  0.0754  0.0384\n",
       "-0.0622 -0.1731 -0.0551  0.1192 -0.0575  0.0819  0.0375 -0.0627  0.1282 -0.0041\n",
       "-0.0171 -0.0129 -0.1714  0.0981 -0.1268 -0.0760 -0.0684  0.0001 -0.1757 -0.0564\n",
       "-0.0796 -0.0272 -0.0865 -0.0122 -0.1322 -0.1503  0.0118  0.0106  0.0742 -0.1398\n",
       " 0.0747  0.0022  0.0823  0.0447  0.1056  0.1728  0.0839  0.1348 -0.1466 -0.1785\n",
       "-0.1619  0.1519  0.1469  0.1393 -0.0847  0.0166 -0.1367 -0.1775  0.0979  0.1318\n",
       "-0.1793 -0.1318 -0.1693 -0.1686 -0.0612  0.0178 -0.1208  0.0471 -0.0614 -0.1250\n",
       "-0.0712 -0.0219  0.0376  0.1109 -0.1488  0.1723  0.1279  0.0007 -0.0985  0.0438\n",
       " 0.1631  0.1749  0.1304  0.0219  0.0337  0.0482  0.1635 -0.1552  0.0794 -0.1774\n",
       " 0.0519  0.0655  0.0544 -0.0917  0.1344 -0.0256 -0.1686  0.1040  0.1676 -0.1427\n",
       "-0.1233  0.0248  0.1670 -0.0777  0.1177 -0.0802  0.1195 -0.0698  0.1185  0.1191\n",
       "-0.0112 -0.1248 -0.1791 -0.1608 -0.0654 -0.0886  0.0121 -0.1509  0.0672 -0.1422\n",
       "\n",
       "Columns 30 to 30 \n",
       " 0.0562\n",
       " 0.1073\n",
       "-0.1216\n",
       "-0.1037\n",
       "-0.0129\n",
       "-0.0882\n",
       "-0.0205\n",
       "-0.1693\n",
       "-0.1703\n",
       " 0.0977\n",
       "-0.0550\n",
       "-0.0248\n",
       "-0.0241\n",
       " 0.0957\n",
       "-0.0366\n",
       "-0.1788\n",
       " 0.0097\n",
       " 0.0208\n",
       " 0.1617\n",
       " 0.1750\n",
       "-0.0921\n",
       "[torch.FloatTensor of size 21x31]"
      ]
     },
     "execution_count": 144,
     "metadata": {},
     "output_type": "execute_result"
    }
   ],
   "source": [
    "dim_corrected_model_2[(0)].weight"
   ]
  },
  {
   "cell_type": "code",
   "execution_count": 145,
   "metadata": {
    "collapsed": false
   },
   "outputs": [
    {
     "data": {
      "text/plain": [
       "Parameter containing:\n",
       "\n",
       "Columns 0 to 9 \n",
       "-0.1863 -0.0101 -0.2138 -0.1334  0.0817 -0.0128 -0.0579 -0.1529  0.0187 -0.2106\n",
       " 0.1429 -0.0319 -0.1210 -0.0426 -0.0531 -0.1718  0.2124 -0.0297 -0.1780  0.1693\n",
       " 0.0421 -0.0389  0.1415 -0.0579 -0.1232  0.1500 -0.0917  0.0691  0.1807  0.1509\n",
       " 0.1154  0.1855  0.0935  0.0753 -0.0825 -0.1876 -0.1002  0.1778 -0.0721 -0.1324\n",
       " 0.1343  0.2089 -0.0431  0.1667  0.2055  0.1610 -0.0834 -0.1707  0.1424  0.1873\n",
       " 0.1019 -0.1954 -0.1909 -0.0327  0.1129 -0.1208 -0.0702  0.0087  0.2010  0.0742\n",
       "-0.0158  0.0890  0.1942  0.0358 -0.1707 -0.0012  0.1258  0.2161  0.1789 -0.1448\n",
       "-0.0046 -0.0746  0.0780  0.2117 -0.0497  0.0139  0.1643 -0.0388  0.1288  0.1160\n",
       "-0.0625  0.1092  0.0922  0.1629 -0.0460 -0.0126 -0.1544  0.1575 -0.0418 -0.0756\n",
       " 0.2135  0.0514 -0.2097 -0.1943 -0.2090 -0.2071 -0.0040  0.0110 -0.0780  0.0665\n",
       " 0.0208  0.0183 -0.0480  0.0518  0.0521 -0.0768 -0.0528  0.2121 -0.1487 -0.0644\n",
       " 0.1651  0.0417  0.1771 -0.0007  0.1064 -0.2169 -0.0504 -0.0964 -0.0739 -0.0313\n",
       " 0.1573 -0.0600  0.1286  0.0180  0.0962  0.2012  0.1160  0.1871  0.0086  0.0639\n",
       "-0.2165 -0.1008 -0.0744  0.0867  0.2048  0.1280  0.1109  0.0236 -0.1244  0.2172\n",
       "\n",
       "Columns 10 to 19 \n",
       " 0.0211 -0.0175  0.0718 -0.1308  0.0033 -0.1224  0.1451  0.1625  0.1624 -0.1827\n",
       " 0.2036 -0.0483 -0.2151 -0.1379 -0.0994  0.0077  0.0449 -0.0235 -0.0277  0.2019\n",
       "-0.1861 -0.0040 -0.1773 -0.1682 -0.0230  0.1492 -0.1774 -0.1365  0.0689  0.1161\n",
       " 0.0851  0.0598  0.0714  0.1901  0.0539  0.0282  0.1604  0.0801 -0.0140  0.1376\n",
       " 0.0178 -0.0926 -0.1929  0.1562  0.0400  0.0753 -0.2053 -0.0004 -0.2126  0.0261\n",
       "-0.1422  0.0099  0.1885  0.1707 -0.1236 -0.1994  0.1203 -0.1416  0.0831  0.0721\n",
       "-0.0496 -0.2111 -0.1081  0.1295 -0.0865 -0.2155  0.0912 -0.1463  0.1868  0.0695\n",
       " 0.0792 -0.1093 -0.0657  0.1449 -0.1277  0.0454 -0.2065 -0.0201 -0.0966  0.0661\n",
       " 0.1634  0.0181 -0.0407  0.1345 -0.0773 -0.0361 -0.1076  0.0258 -0.2082  0.0434\n",
       "-0.1944  0.1506 -0.1148 -0.0883 -0.0931 -0.0445 -0.0186  0.1461 -0.1357  0.0335\n",
       "-0.1693  0.0092  0.1448 -0.1097 -0.0911  0.0399 -0.1411  0.2061 -0.2171 -0.1850\n",
       "-0.1168  0.1929 -0.0895  0.1554  0.2170  0.1081  0.2001 -0.0017 -0.0963  0.0246\n",
       "-0.1612  0.0195 -0.0373  0.0637 -0.0664 -0.1724  0.1601 -0.1525 -0.2043  0.1837\n",
       "-0.1966 -0.1382  0.0219  0.0434 -0.2133  0.1565 -0.2158 -0.1245  0.0618 -0.1221\n",
       "\n",
       "Columns 20 to 20 \n",
       " 0.1287\n",
       "-0.0906\n",
       "-0.2107\n",
       "-0.1196\n",
       "-0.1637\n",
       "-0.1841\n",
       "-0.1849\n",
       "-0.0669\n",
       "-0.0027\n",
       " 0.0688\n",
       "-0.2097\n",
       "-0.1395\n",
       "-0.0605\n",
       "-0.1696\n",
       "[torch.FloatTensor of size 14x21]"
      ]
     },
     "execution_count": 145,
     "metadata": {},
     "output_type": "execute_result"
    }
   ],
   "source": [
    "dim_corrected_model_2[(2)].weight"
   ]
  },
  {
   "cell_type": "code",
   "execution_count": 146,
   "metadata": {
    "collapsed": false
   },
   "outputs": [
    {
     "data": {
      "text/plain": [
       "Parameter containing:\n",
       "\n",
       "Columns 0 to 9 \n",
       "-0.0682  0.1215  0.2384  0.2589 -0.0604  0.0444 -0.1913 -0.1927 -0.1620  0.1822\n",
       " 0.0838  0.0466  0.1740 -0.0855 -0.1362 -0.2075  0.0747 -0.0105  0.1695  0.0627\n",
       " 0.0368 -0.1391  0.0980 -0.1783 -0.1775  0.1074 -0.0788 -0.2388  0.0095 -0.0997\n",
       " 0.1649  0.1856 -0.1593  0.1695  0.0504  0.2465 -0.0901  0.0884 -0.0146  0.1113\n",
       " 0.0859  0.2186  0.0896  0.1184  0.1937 -0.1692 -0.0766 -0.2159 -0.1597  0.0777\n",
       "-0.1590 -0.1376 -0.1773 -0.1683 -0.0847 -0.2620  0.1384  0.0984 -0.0655 -0.1410\n",
       " 0.1038  0.0485  0.0906 -0.0666  0.0360 -0.1221 -0.2340  0.2094 -0.0694 -0.0604\n",
       " 0.0238 -0.2052 -0.0875 -0.0795 -0.2063 -0.2400 -0.0618  0.1292  0.1408  0.0498\n",
       "-0.1087 -0.2223 -0.1647  0.2157 -0.0237  0.0605 -0.0397  0.2551 -0.2221  0.2010\n",
       "\n",
       "Columns 10 to 13 \n",
       " 0.1226  0.0383  0.0904 -0.2327\n",
       "-0.0461 -0.1811 -0.2479  0.1640\n",
       " 0.1600 -0.1302  0.1717  0.2053\n",
       " 0.0932 -0.0076  0.2543  0.1232\n",
       "-0.0176 -0.0463 -0.0568  0.2634\n",
       " 0.1588 -0.1599  0.1115  0.1016\n",
       " 0.2567  0.1491 -0.0188 -0.2400\n",
       " 0.0747  0.1674 -0.2532  0.2062\n",
       " 0.2308  0.1233 -0.0769  0.1202\n",
       "[torch.FloatTensor of size 9x14]"
      ]
     },
     "execution_count": 146,
     "metadata": {},
     "output_type": "execute_result"
    }
   ],
   "source": [
    "dim_corrected_model_2[(4)].weight"
   ]
  },
  {
   "cell_type": "code",
   "execution_count": 147,
   "metadata": {
    "collapsed": false
   },
   "outputs": [
    {
     "data": {
      "text/plain": [
       "Parameter containing:\n",
       "-0.0604 -0.0420 -0.1344  0.2564  0.0071 -0.0098  0.2461 -0.0576 -0.2023\n",
       " 0.2679  0.0495 -0.0834 -0.0770 -0.1270  0.3113 -0.0568 -0.1282 -0.0468\n",
       "-0.3208 -0.0701  0.1111  0.1839 -0.1341  0.0113  0.2844 -0.2338  0.0737\n",
       "-0.1572  0.0194 -0.1466  0.0700 -0.0135  0.1840 -0.0774 -0.0643  0.1746\n",
       "-0.2663  0.1639 -0.2604  0.0476  0.2559 -0.1128  0.3044  0.2561 -0.0735\n",
       "-0.0012 -0.2237 -0.1073 -0.1506  0.2770 -0.2662  0.1250  0.2601  0.1467\n",
       "[torch.FloatTensor of size 6x9]"
      ]
     },
     "execution_count": 147,
     "metadata": {},
     "output_type": "execute_result"
    }
   ],
   "source": [
    "dim_corrected_model_2[(6)].weight"
   ]
  },
  {
   "cell_type": "code",
   "execution_count": 148,
   "metadata": {
    "collapsed": false
   },
   "outputs": [
    {
     "data": {
      "text/plain": [
       "Parameter containing:\n",
       "-0.3845 -0.3864  0.2535 -0.2170  0.3025  0.2710\n",
       "-0.2754  0.2208  0.1054  0.1785  0.1214 -0.2118\n",
       " 0.0955  0.0509  0.3705  0.0136  0.0176  0.2434\n",
       "-0.0349 -0.2895  0.1556 -0.3095 -0.2278 -0.1305\n",
       "[torch.FloatTensor of size 4x6]"
      ]
     },
     "execution_count": 148,
     "metadata": {},
     "output_type": "execute_result"
    }
   ],
   "source": [
    "dim_corrected_model_2[(8)].weight"
   ]
  },
  {
   "cell_type": "code",
   "execution_count": 149,
   "metadata": {
    "collapsed": false
   },
   "outputs": [
    {
     "data": {
      "text/plain": [
       "Parameter containing:\n",
       "-0.0114 -0.3648 -0.1257  0.4119\n",
       " 0.1900 -0.0155 -0.1306 -0.1070\n",
       " 0.4828 -0.4224 -0.0224 -0.4508\n",
       "[torch.FloatTensor of size 3x4]"
      ]
     },
     "execution_count": 149,
     "metadata": {},
     "output_type": "execute_result"
    }
   ],
   "source": [
    "dim_corrected_model_2[(10)].weight"
   ]
  },
  {
   "cell_type": "code",
   "execution_count": 150,
   "metadata": {
    "collapsed": false
   },
   "outputs": [
    {
     "data": {
      "text/plain": [
       "Parameter containing:\n",
       " 0.3015  0.2109 -0.0185\n",
       " 0.5373 -0.0360  0.1407\n",
       "[torch.FloatTensor of size 2x3]"
      ]
     },
     "execution_count": 150,
     "metadata": {},
     "output_type": "execute_result"
    }
   ],
   "source": [
    "dim_corrected_model_2[(12)].weight"
   ]
  },
  {
   "cell_type": "code",
   "execution_count": 151,
   "metadata": {
    "collapsed": false
   },
   "outputs": [
    {
     "data": {
      "text/plain": [
       "Parameter containing:\n",
       "-0.2875 -0.6757\n",
       "[torch.FloatTensor of size 1x2]"
      ]
     },
     "execution_count": 151,
     "metadata": {},
     "output_type": "execute_result"
    }
   ],
   "source": [
    "dim_corrected_model_2[(14)].weight"
   ]
  },
  {
   "cell_type": "markdown",
   "metadata": {},
   "source": [
    "## Round 8: Linear Regression"
   ]
  },
  {
   "cell_type": "code",
   "execution_count": 152,
   "metadata": {
    "collapsed": true
   },
   "outputs": [],
   "source": [
    "# Make the torch Tensor into a PyTorch Variable for dependent variables\n",
    "outcomes_Variable = Variable(outcomes_Tensor)\n",
    "\n",
    "\n",
    "# ...for independent variables\n",
    "features_Variable = Variable(features_Tensor,\n",
    "                             requires_grad = False)"
   ]
  },
  {
   "cell_type": "code",
   "execution_count": 153,
   "metadata": {
    "collapsed": true
   },
   "outputs": [],
   "source": [
    "# Make the neural network - really a regression\n",
    "model = torch.nn.Sequential(torch.nn.Linear(31, 1))"
   ]
  },
  {
   "cell_type": "code",
   "execution_count": 154,
   "metadata": {
    "collapsed": false
   },
   "outputs": [],
   "source": [
    "# To add errors to\n",
    "errors = []\n",
    "\n",
    "\n",
    "# Set the learning rate\n",
    "learning_rate = 4e-6\n",
    "\n",
    "\n",
    "# Train the neural network\n",
    "for t in range(10000):\n",
    "    \n",
    "    # Get the current predictions\n",
    "    y_pred = model(features_Variable)\n",
    "    \n",
    "    # Compute and append current summed errors\n",
    "    loss = loss_fn(y_pred, outcomes_Variable)\n",
    "    errors.append(loss.data[0])\n",
    "    \n",
    "    # Zero the gradients before running the backward pass.\n",
    "    model.zero_grad()\n",
    "    \n",
    "    # Backward pass: compute gradient of the loss with respect to all the learnable Variables\n",
    "    loss.backward()\n",
    "    \n",
    "    # Update the weights using gradient descent\n",
    "    for param in model.parameters():\n",
    "        param.data -= learning_rate * param.grad.data"
   ]
  },
  {
   "cell_type": "code",
   "execution_count": 155,
   "metadata": {
    "collapsed": false
   },
   "outputs": [
    {
     "data": {
      "text/plain": [
       "<matplotlib.collections.PathCollection at 0x7f1c35aae470>"
      ]
     },
     "execution_count": 155,
     "metadata": {},
     "output_type": "execute_result"
    },
    {
     "data": {
      "image/png": "[encoded data removed]",
      "text/plain": [
       "<matplotlib.figure.Figure at 0x7f1c35b43f98>"
      ]
     },
     "metadata": {},
     "output_type": "display_data"
    }
   ],
   "source": [
    "# Plot summed error as a function of iteration\n",
    "plt.scatter(iterations, errors)"
   ]
  },
  {
   "cell_type": "code",
   "execution_count": 156,
   "metadata": {
    "collapsed": false
   },
   "outputs": [],
   "source": [
    "# Get rid of the 2nd dimension of 1 from the FloatTensor\n",
    "y_pred_resized = y_pred.resize(8270)\n",
    "\n",
    "\n",
    "# Make the FloatTensor into a numpy.array\n",
    "y_pred_array = y_pred_resized.data.numpy()\n",
    "\n",
    "\n",
    "# Make the numpy.array into a list\n",
    "y_pred_list = y_pred_array.tolist()"
   ]
  },
  {
   "cell_type": "code",
   "execution_count": 157,
   "metadata": {
    "collapsed": false
   },
   "outputs": [
    {
     "data": {
      "text/plain": [
       "[<matplotlib.lines.Line2D at 0x7f1c35abe7b8>]"
      ]
     },
     "execution_count": 157,
     "metadata": {},
     "output_type": "execute_result"
    },
    {
     "data": {
      "image/png": "[encoded data removed]",
      "text/plain": [
       "<matplotlib.figure.Figure at 0x7f1c35abe6d8>"
      ]
     },
     "metadata": {},
     "output_type": "display_data"
    }
   ],
   "source": [
    "# Plot predictions versus training set outcomes\n",
    "plt.scatter(outcomes_list, y_pred_list)\n",
    "\n",
    "axes = plt.gca()\n",
    "\n",
    "axes.set_xlim([-2, 4])\n",
    "\n",
    "axes.set_ylim([-2, 4])\n",
    "\n",
    "plt.plot([-2, 4], [-2, 4], 'k-', lw=2)"
   ]
  },
  {
   "cell_type": "markdown",
   "metadata": {
    "collapsed": false
   },
   "source": [
    "### Round 8.1: Validation Set Performance"
   ]
  },
  {
   "cell_type": "code",
   "execution_count": 158,
   "metadata": {
    "collapsed": false
   },
   "outputs": [],
   "source": [
    "# Have to make a new model and give it the train_model parameters to fix structure problem\n",
    "dim_corrected_model = torch.nn.Sequential(torch.nn.Linear(31, 1))\n",
    "\n",
    "\n",
    "# Give the new model the old model's parameters\n",
    "dim_corrected_model[(0)].weight = model[(0)].weight"
   ]
  },
  {
   "cell_type": "code",
   "execution_count": 159,
   "metadata": {
    "collapsed": false
   },
   "outputs": [
    {
     "data": {
      "text/plain": [
       "Variable containing:\n",
       " 1679.9602\n",
       "[torch.FloatTensor of size 1]"
      ]
     },
     "execution_count": 159,
     "metadata": {},
     "output_type": "execute_result"
    }
   ],
   "source": [
    "# Get the validation set predictions\n",
    "y_valid_pred = dim_corrected_model(valid_predictors_Variable)\n",
    "\n",
    "\n",
    "# Print the loss\n",
    "loss_fn(y_valid_pred,\n",
    "        valid_outcomes_Variable)"
   ]
  },
  {
   "cell_type": "code",
   "execution_count": 160,
   "metadata": {
    "collapsed": true
   },
   "outputs": [],
   "source": [
    "# Get rid of the 2nd dimension of 1 from the FloatTensor\n",
    "y_valid_pred_resized = y_valid_pred.resize(2709)\n",
    "\n",
    "\n",
    "# Make the FloatTensor into a numpy.array\n",
    "y_valid_pred_array = y_valid_pred_resized.data.numpy()\n",
    "\n",
    "\n",
    "# Make the numpy.array into a list\n",
    "y_valid_pred_list = y_valid_pred_array.tolist()"
   ]
  },
  {
   "cell_type": "code",
   "execution_count": 161,
   "metadata": {
    "collapsed": false
   },
   "outputs": [
    {
     "data": {
      "text/plain": [
       "[<matplotlib.lines.Line2D at 0x7f1c35d343c8>]"
      ]
     },
     "execution_count": 161,
     "metadata": {},
     "output_type": "execute_result"
    },
    {
     "data": {
      "image/png": "[encoded data removed]",
      "text/plain": [
       "<matplotlib.figure.Figure at 0x7f1c35d348d0>"
      ]
     },
     "metadata": {},
     "output_type": "display_data"
    }
   ],
   "source": [
    "# Plot new predictions versus new data outcomes\n",
    "plt.scatter(valid_outcomes_list, y_valid_pred_list)\n",
    "\n",
    "axes = plt.gca()\n",
    "\n",
    "axes.set_xlim([-2, 4])\n",
    "\n",
    "axes.set_ylim([-2, 4])\n",
    "\n",
    "plt.plot([-2, 4], [-2, 4], 'k-', lw=2)"
   ]
  },
  {
   "cell_type": "markdown",
   "metadata": {},
   "source": [
    "### Round 8.2: Test Set Performance"
   ]
  },
  {
   "cell_type": "code",
   "execution_count": 162,
   "metadata": {
    "collapsed": true
   },
   "outputs": [],
   "source": [
    "# Have to make a new model and give it the train_model parameters to fix structure problem\n",
    "dim_corrected_model_2 = torch.nn.Sequential(torch.nn.Linear(31, 1))\n",
    "\n",
    "\n",
    "# Give the new model the old model's parameters\n",
    "dim_corrected_model_2[(0)].weight = model[(0)].weight"
   ]
  },
  {
   "cell_type": "code",
   "execution_count": 163,
   "metadata": {
    "collapsed": false
   },
   "outputs": [
    {
     "data": {
      "text/plain": [
       "Variable containing:\n",
       " 1197.3475\n",
       "[torch.FloatTensor of size 1]"
      ]
     },
     "execution_count": 163,
     "metadata": {},
     "output_type": "execute_result"
    }
   ],
   "source": [
    "# Get the validation set predictions\n",
    "y_test_pred = dim_corrected_model_2(test_predictors_Variable)\n",
    "\n",
    "\n",
    "# Print the loss\n",
    "loss_fn(y_test_pred,\n",
    "        test_outcomes_Variable)"
   ]
  },
  {
   "cell_type": "code",
   "execution_count": 164,
   "metadata": {
    "collapsed": true
   },
   "outputs": [],
   "source": [
    "# Get rid of the 2nd dimension of 1 from the FloatTensor\n",
    "y_test_pred_resized = y_test_pred.resize(2712)\n",
    "\n",
    "\n",
    "# Make the FloatTensor into a numpy.array\n",
    "y_test_pred_array = y_test_pred_resized.data.numpy()\n",
    "\n",
    "\n",
    "# Convert back to native units and scale\n",
    "y_test_pred_array = y_test_pred_array*5.409956 + 7.691221\n",
    "\n",
    "\n",
    "# Make the numpy.array into a list\n",
    "y_test_pred_list = y_test_pred_array.tolist()"
   ]
  },
  {
   "cell_type": "code",
   "execution_count": 165,
   "metadata": {
    "collapsed": false
   },
   "outputs": [
    {
     "data": {
      "text/plain": [
       "<matplotlib.text.Text at 0x7f1c359268d0>"
      ]
     },
     "execution_count": 165,
     "metadata": {},
     "output_type": "execute_result"
    },
    {
     "data": {
      "image/png": "[encoded data removed]",
      "text/plain": [
       "<matplotlib.figure.Figure at 0x7f1c35ac2208>"
      ]
     },
     "metadata": {},
     "output_type": "display_data"
    }
   ],
   "source": [
    "# Plot new predictions versus new data outcomes\n",
    "\n",
    "plt.scatter(test_outcomes_list, y_test_pred_list)\n",
    "\n",
    "axes = plt.gca()\n",
    "\n",
    "axes.set_xlim([2, 23])\n",
    "\n",
    "axes.set_ylim([2, 23])\n",
    "\n",
    "axes.set_xticks([2, 5, 8, 11, 14, 17, 20, 23])\n",
    "\n",
    "axes.set_yticks([2, 5, 8, 11, 14, 17, 20, 23])\n",
    "\n",
    "plt.plot([2, 23], [2, 23], 'k-', lw=2)\n",
    "\n",
    "axes.set_xlabel(\"Actual Outcome (Log-Transformed US Dollars)\")\n",
    "\n",
    "axes.set_ylabel(\"Model Prediction (Log-Transformed US Dollars)\")\n",
    "\n",
    "axes.set_title(\"Model Performance\")"
   ]
  },
  {
   "cell_type": "code",
   "execution_count": 166,
   "metadata": {
    "collapsed": false
   },
   "outputs": [
    {
     "data": {
      "text/plain": [
       "Parameter containing:\n",
       "\n",
       "Columns 0 to 9 \n",
       " 0.0092  0.0065  0.0127  0.1666  0.1841 -0.0245 -0.0082 -0.0179  0.0338 -0.0182\n",
       "\n",
       "Columns 10 to 19 \n",
       " 0.0364 -0.0204  0.0242 -0.0239  0.0046 -0.0034  0.0018  0.0134 -0.0103  0.0068\n",
       "\n",
       "Columns 20 to 29 \n",
       " 0.0061  0.0188  0.0568  0.0703  0.0351 -0.0209 -0.0975 -0.0174  0.0073 -0.0106\n",
       "\n",
       "Columns 30 to 30 \n",
       " 0.0071\n",
       "[torch.FloatTensor of size 1x31]"
      ]
     },
     "execution_count": 166,
     "metadata": {},
     "output_type": "execute_result"
    }
   ],
   "source": [
    "dim_corrected_model_2[(0)].weight"
   ]
  }
 ],
 "metadata": {
  "kernelspec": {
   "display_name": "Python 3",
   "language": "python",
   "name": "python3"
  },
  "language_info": {
   "codemirror_mode": {
    "name": "ipython",
    "version": 3
   },
   "file_extension": ".py",
   "mimetype": "text/x-python",
   "name": "python",
   "nbconvert_exporter": "python",
   "pygments_lexer": "ipython3",
   "version": "3.6.0"
  }
 },
 "nbformat": 4,
 "nbformat_minor": 2
}
