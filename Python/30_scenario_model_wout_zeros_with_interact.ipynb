{
 "cells": [
  {
   "cell_type": "markdown",
   "metadata": {},
   "source": [
    "## Setup"
   ]
  },
  {
   "cell_type": "code",
   "execution_count": 1,
   "metadata": {
    "collapsed": true
   },
   "outputs": [],
   "source": [
    "# Packages\n",
    "import pandas as pd\n",
    "import torch\n",
    "from torch.autograd import Variable\n",
    "import numpy as np\n",
    "import matplotlib.pyplot as plt\n",
    "%matplotlib inline\n",
    "import pylab\n",
    "import math"
   ]
  },
  {
   "cell_type": "code",
   "execution_count": 2,
   "metadata": {
    "collapsed": false
   },
   "outputs": [
    {
     "name": "stdout",
     "output_type": "stream",
     "text": [
      "<class 'pandas.core.frame.DataFrame'>\n",
      "RangeIndex: 8270 entries, 0 to 8269\n",
      "Data columns (total 32 columns):\n",
      "DAMAGE_PROPERTY       8270 non-null float64\n",
      "DURATION_SECONDS      8270 non-null float64\n",
      "BEGIN_LAT             8270 non-null float64\n",
      "BEGIN_LON             8270 non-null float64\n",
      "TOR_LENGTH            8270 non-null float64\n",
      "TOR_WIDTH             8270 non-null float64\n",
      "YEAR                  8270 non-null float64\n",
      "OPEN_WATER_PROP       8270 non-null float64\n",
      "DEV_OPEN_PROP         8270 non-null float64\n",
      "DEV_LOW_PROP          8270 non-null float64\n",
      "DEV_MED_PROP          8270 non-null float64\n",
      "DEV_HIGH_PROP         8270 non-null float64\n",
      "DECID_FOREST_PROP     8270 non-null float64\n",
      "EVERGR_FOREST_PROP    8270 non-null float64\n",
      "MIXED_FOREST_PROP     8270 non-null float64\n",
      "SHRUB_SCRUB_PROP      8270 non-null float64\n",
      "GRASS_LAND_PROP       8270 non-null float64\n",
      "PASTURE_HAY_PROP      8270 non-null float64\n",
      "CULT_CROPS_PROP       8270 non-null float64\n",
      "WOOD_WETLAND_PROP     8270 non-null float64\n",
      "HERB_WETLAND_PROP     8270 non-null float64\n",
      "BARREN_LAND_PROP      8270 non-null float64\n",
      "INCOME                8270 non-null float64\n",
      "TOR_AREA              8270 non-null float64\n",
      "TOT_DEV_INT           8270 non-null float64\n",
      "TOT_WOOD_AREA         8270 non-null float64\n",
      "WOOD_DEV_INT          8270 non-null float64\n",
      "EXP_INC_AREA          8270 non-null float64\n",
      "DAY_OF_YEAR           8270 non-null float64\n",
      "MONTH                 8270 non-null float64\n",
      "BEGIN_TIME            8270 non-null float64\n",
      "STATE_RANK            8270 non-null float64\n",
      "dtypes: float64(32)\n",
      "memory usage: 2.0 MB\n"
     ]
    }
   ],
   "source": [
    "# Import data\n",
    "tor_df = pd.read_csv(\"/home/jeremy/github_tornadoesr/data/raw/tor_train_set_no_zeros_interact.csv\")\n",
    "\n",
    "\n",
    "# Quick inspection\n",
    "tor_df.info()"
   ]
  },
  {
   "cell_type": "code",
   "execution_count": 3,
   "metadata": {
    "collapsed": false
   },
   "outputs": [
    {
     "name": "stdout",
     "output_type": "stream",
     "text": [
      "<class 'pandas.core.frame.DataFrame'>\n",
      "RangeIndex: 8270 entries, 0 to 8269\n",
      "Data columns (total 1 columns):\n",
      "DAMAGE_PROPERTY    8270 non-null float64\n",
      "dtypes: float64(1)\n",
      "memory usage: 64.7 KB\n"
     ]
    }
   ],
   "source": [
    "# Seperating variables\n",
    "# The dependent variables\n",
    "tornado_outcomes = tor_df.iloc[:, [0]]\n",
    "\n",
    "\n",
    "# Quick inspection\n",
    "tornado_outcomes.info()"
   ]
  },
  {
   "cell_type": "code",
   "execution_count": 4,
   "metadata": {
    "collapsed": false
   },
   "outputs": [
    {
     "name": "stdout",
     "output_type": "stream",
     "text": [
      "<class 'pandas.core.frame.DataFrame'>\n",
      "RangeIndex: 8270 entries, 0 to 8269\n",
      "Data columns (total 31 columns):\n",
      "DURATION_SECONDS      8270 non-null float64\n",
      "BEGIN_LAT             8270 non-null float64\n",
      "BEGIN_LON             8270 non-null float64\n",
      "TOR_LENGTH            8270 non-null float64\n",
      "TOR_WIDTH             8270 non-null float64\n",
      "YEAR                  8270 non-null float64\n",
      "OPEN_WATER_PROP       8270 non-null float64\n",
      "DEV_OPEN_PROP         8270 non-null float64\n",
      "DEV_LOW_PROP          8270 non-null float64\n",
      "DEV_MED_PROP          8270 non-null float64\n",
      "DEV_HIGH_PROP         8270 non-null float64\n",
      "DECID_FOREST_PROP     8270 non-null float64\n",
      "EVERGR_FOREST_PROP    8270 non-null float64\n",
      "MIXED_FOREST_PROP     8270 non-null float64\n",
      "SHRUB_SCRUB_PROP      8270 non-null float64\n",
      "GRASS_LAND_PROP       8270 non-null float64\n",
      "PASTURE_HAY_PROP      8270 non-null float64\n",
      "CULT_CROPS_PROP       8270 non-null float64\n",
      "WOOD_WETLAND_PROP     8270 non-null float64\n",
      "HERB_WETLAND_PROP     8270 non-null float64\n",
      "BARREN_LAND_PROP      8270 non-null float64\n",
      "INCOME                8270 non-null float64\n",
      "TOR_AREA              8270 non-null float64\n",
      "TOT_DEV_INT           8270 non-null float64\n",
      "TOT_WOOD_AREA         8270 non-null float64\n",
      "WOOD_DEV_INT          8270 non-null float64\n",
      "EXP_INC_AREA          8270 non-null float64\n",
      "DAY_OF_YEAR           8270 non-null float64\n",
      "MONTH                 8270 non-null float64\n",
      "BEGIN_TIME            8270 non-null float64\n",
      "STATE_RANK            8270 non-null float64\n",
      "dtypes: float64(31)\n",
      "memory usage: 2.0 MB\n"
     ]
    }
   ],
   "source": [
    "# The independent variables\n",
    "tornado_features = tor_df.iloc[:, 1:]\n",
    "\n",
    "\n",
    "# Quick inspection\n",
    "tornado_features.info()"
   ]
  },
  {
   "cell_type": "code",
   "execution_count": 5,
   "metadata": {
    "collapsed": false
   },
   "outputs": [
    {
     "data": {
      "text/plain": [
       "\n",
       " 0.9112\n",
       " 0.0276\n",
       " 0.4114\n",
       "   ⋮    \n",
       "-0.1414\n",
       " 0.1555\n",
       " 0.6426\n",
       "[torch.DoubleTensor of size 8270x1]"
      ]
     },
     "execution_count": 5,
     "metadata": {},
     "output_type": "execute_result"
    }
   ],
   "source": [
    "# Make the dependent variables into a numpy array\n",
    "outcomes_array = tornado_outcomes.values\n",
    "\n",
    "\n",
    "# Makes the numpy array into a torch Tensor\n",
    "outcomes_Tensor = torch.from_numpy(outcomes_array)\n",
    "\n",
    "\n",
    "# Quick inspection\n",
    "outcomes_Tensor"
   ]
  },
  {
   "cell_type": "code",
   "execution_count": 6,
   "metadata": {
    "collapsed": false
   },
   "outputs": [
    {
     "data": {
      "text/plain": [
       "\n",
       " 1.1178e+00  1.0366e+00 -1.3721e+00  ...  -5.2109e-01  2.2727e-01  7.8470e-01\n",
       "-3.0203e-01  8.7119e-01  7.4927e-01  ...  -9.9253e-02  3.1779e-01  6.6004e-01\n",
       " 8.7468e-01 -3.0667e-02 -1.3753e+00  ...  -9.9253e-02  1.0128e+00 -1.1116e+00\n",
       "                ...                   ⋱                   ...                \n",
       "-3.0203e-01  1.4788e+00  3.3318e-01  ...  -9.9253e-02  6.1842e-01  8.4193e-01\n",
       " 1.2240e+00 -8.8898e-01 -8.8288e-01  ...  -9.9253e-02  1.1098e+00 -8.0717e-01\n",
       " 9.1277e-01 -5.7436e-01  6.9363e-01  ...  -5.2109e-01  1.0484e+00 -2.2743e+00\n",
       "[torch.DoubleTensor of size 8270x31]"
      ]
     },
     "execution_count": 6,
     "metadata": {},
     "output_type": "execute_result"
    }
   ],
   "source": [
    "# Make the independent variables into a numpy array\n",
    "features_array = tornado_features.values\n",
    "\n",
    "\n",
    "# Make the numpy array into a torch Tensor\n",
    "features_Tensor = torch.from_numpy(features_array)\n",
    "\n",
    "\n",
    "# Quick inspection\n",
    "features_Tensor"
   ]
  },
  {
   "cell_type": "markdown",
   "metadata": {},
   "source": [
    "### Convert DoubleTensor to FloatTensor"
   ]
  },
  {
   "cell_type": "code",
   "execution_count": 7,
   "metadata": {
    "collapsed": false
   },
   "outputs": [
    {
     "data": {
      "text/plain": [
       "\n",
       " 1.1178e+00  1.0366e+00 -1.3721e+00  ...  -5.2109e-01  2.2727e-01  7.8470e-01\n",
       "-3.0203e-01  8.7119e-01  7.4927e-01  ...  -9.9253e-02  3.1779e-01  6.6004e-01\n",
       " 8.7468e-01 -3.0667e-02 -1.3753e+00  ...  -9.9253e-02  1.0128e+00 -1.1116e+00\n",
       "                ...                   ⋱                   ...                \n",
       "-3.0203e-01  1.4788e+00  3.3318e-01  ...  -9.9253e-02  6.1842e-01  8.4193e-01\n",
       " 1.2240e+00 -8.8898e-01 -8.8288e-01  ...  -9.9253e-02  1.1098e+00 -8.0717e-01\n",
       " 9.1277e-01 -5.7436e-01  6.9363e-01  ...  -5.2109e-01  1.0484e+00 -2.2743e+00\n",
       "[torch.FloatTensor of size 8270x31]"
      ]
     },
     "execution_count": 7,
     "metadata": {},
     "output_type": "execute_result"
    }
   ],
   "source": [
    "# Changing dependent variables from a DoubleTensor to a FloatTensor\n",
    "outcomes_Tensor = outcomes_Tensor.float()\n",
    "\n",
    "\n",
    "# ...and for the independent variables\n",
    "features_Tensor = features_Tensor.float()\n",
    "\n",
    "\n",
    "# Quick check\n",
    "features_Tensor"
   ]
  },
  {
   "cell_type": "markdown",
   "metadata": {
    "collapsed": true
   },
   "source": [
    "## Round 1: One-Hidden-Layer Neural Network"
   ]
  },
  {
   "cell_type": "code",
   "execution_count": 8,
   "metadata": {
    "collapsed": false
   },
   "outputs": [],
   "source": [
    "# Make the torch Tensor into a PyTorch Variable for dependent variables\n",
    "outcomes_Variable = Variable(outcomes_Tensor)\n",
    "\n",
    "\n",
    "# ...for independent variables\n",
    "features_Variable = Variable(features_Tensor,\n",
    "                             requires_grad = False)"
   ]
  },
  {
   "cell_type": "code",
   "execution_count": 9,
   "metadata": {
    "collapsed": false
   },
   "outputs": [],
   "source": [
    "# Make the neural network\n",
    "model = torch.nn.Sequential(torch.nn.Linear(31, 21),\n",
    "                            torch.nn.ReLU(),\n",
    "                            torch.nn.Linear(21, 1))"
   ]
  },
  {
   "cell_type": "code",
   "execution_count": 10,
   "metadata": {
    "collapsed": true
   },
   "outputs": [],
   "source": [
    "# Set the loss function\n",
    "loss_fn = torch.nn.MSELoss(size_average=False)"
   ]
  },
  {
   "cell_type": "code",
   "execution_count": 11,
   "metadata": {
    "collapsed": false
   },
   "outputs": [],
   "source": [
    "# To add errors to\n",
    "errors = []\n",
    "\n",
    "\n",
    "# Set the learning rate\n",
    "learning_rate = 4e-6\n",
    "\n",
    "\n",
    "# Train the neural network\n",
    "for t in range(10000):\n",
    "    \n",
    "    # Get the current predictions\n",
    "    y_pred = model(features_Variable)\n",
    "    \n",
    "    # Compute and append current summed errors\n",
    "    loss = loss_fn(y_pred, outcomes_Variable)\n",
    "    errors.append(loss.data[0])\n",
    "    \n",
    "    # Zero the gradients before running the backward pass.\n",
    "    model.zero_grad()\n",
    "    \n",
    "    # Backward pass: compute gradient of the loss with respect to all the learnable Variables\n",
    "    loss.backward()\n",
    "    \n",
    "    # Update the weights using gradient descent\n",
    "    for param in model.parameters():\n",
    "        param.data -= learning_rate * param.grad.data"
   ]
  },
  {
   "cell_type": "code",
   "execution_count": 12,
   "metadata": {
    "collapsed": true
   },
   "outputs": [],
   "source": [
    "# Get the iterations\n",
    "iterations = list(range(0, 10000))"
   ]
  },
  {
   "cell_type": "code",
   "execution_count": 13,
   "metadata": {
    "collapsed": false
   },
   "outputs": [
    {
     "data": {
      "text/plain": [
       "<matplotlib.collections.PathCollection at 0x7f87d8b2e390>"
      ]
     },
     "execution_count": 13,
     "metadata": {},
     "output_type": "execute_result"
    },
    {
     "data": {
      "image/png": "[encoded data removed]",
      "text/plain": [
       "<matplotlib.figure.Figure at 0x7f87d0699198>"
      ]
     },
     "metadata": {},
     "output_type": "display_data"
    }
   ],
   "source": [
    "# Plot summed error as a function of iteration\n",
    "plt.scatter(iterations, errors)"
   ]
  },
  {
   "cell_type": "code",
   "execution_count": 14,
   "metadata": {
    "collapsed": false
   },
   "outputs": [],
   "source": [
    "# Get rid of the 2nd dimension of 1 from the FloatTensor\n",
    "y_pred_resized = y_pred.resize(8270)\n",
    "\n",
    "\n",
    "# Make the FloatTensor into a numpy.array\n",
    "y_pred_array = y_pred_resized.data.numpy()\n",
    "\n",
    "\n",
    "# Make the numpy.array into a list\n",
    "y_pred_list = y_pred_array.tolist()"
   ]
  },
  {
   "cell_type": "code",
   "execution_count": 15,
   "metadata": {
    "collapsed": false
   },
   "outputs": [],
   "source": [
    "# Get rid of the 2nd dimension of 1 from the FloatTensor\n",
    "outcomes_Variable_resized = outcomes_Variable.resize(8270)\n",
    "\n",
    "\n",
    "# Make the FloatTensor into a numpy.array\n",
    "outcomes_array = outcomes_Variable_resized.data.numpy()\n",
    "\n",
    "\n",
    "# Make the numpy.array into a list\n",
    "outcomes_list = outcomes_array.tolist()"
   ]
  },
  {
   "cell_type": "code",
   "execution_count": 16,
   "metadata": {
    "collapsed": false
   },
   "outputs": [
    {
     "data": {
      "text/plain": [
       "[<matplotlib.lines.Line2D at 0x7f8780315e48>]"
      ]
     },
     "execution_count": 16,
     "metadata": {},
     "output_type": "execute_result"
    },
    {
     "data": {
      "image/png": "[encoded data removed]",
      "text/plain": [
       "<matplotlib.figure.Figure at 0x7f8780422208>"
      ]
     },
     "metadata": {},
     "output_type": "display_data"
    }
   ],
   "source": [
    "# Plot predictions versus training set outcomes\n",
    "plt.scatter(outcomes_list, y_pred_list)\n",
    "\n",
    "axes = plt.gca()\n",
    "\n",
    "axes.set_xlim([-2, 4])\n",
    "\n",
    "axes.set_ylim([-2, 4])\n",
    "\n",
    "plt.plot([-2, 4], [-2, 4], 'k-', lw=2)"
   ]
  },
  {
   "cell_type": "markdown",
   "metadata": {},
   "source": [
    "### Round 1.1: Validation Set Performance"
   ]
  },
  {
   "cell_type": "code",
   "execution_count": 17,
   "metadata": {
    "collapsed": false
   },
   "outputs": [],
   "source": [
    "# Import data\n",
    "valid_df = pd.read_csv(\"/home/jeremy/github_tornadoesr/data/raw/tor_cv_set_no_zeros_interact.csv\")\n",
    "\n",
    "\n",
    "# Validation set outcomes\n",
    "valid_outcomes = valid_df.iloc[:, [0]]\n",
    "\n",
    "\n",
    "# Make the validation outcomes into a numpy array\n",
    "valid_outcomes_array = valid_outcomes.values\n",
    "\n",
    "\n",
    "# Makes the numpy array into a torch Tensor\n",
    "valid_outcomes_Tensor = torch.from_numpy(valid_outcomes_array)\n",
    "\n",
    "\n",
    "# Changing validation outcomes from a DoubleTensor to a FloatTensor\n",
    "valid_outcomes_Tensor = valid_outcomes_Tensor.float()\n",
    "\n",
    "\n",
    "# Make the Tensor into a Pytorch Variable\n",
    "valid_outcomes_Variable = Variable(valid_outcomes_Tensor)"
   ]
  },
  {
   "cell_type": "code",
   "execution_count": 18,
   "metadata": {
    "collapsed": false
   },
   "outputs": [],
   "source": [
    "# Validation set predictors\n",
    "valid_predictors = valid_df.iloc[:, 1:]\n",
    "\n",
    "\n",
    "# Make the validation predictors into a numpy array\n",
    "valid_predictors_array = valid_predictors.values\n",
    "\n",
    "\n",
    "# Makes the numpy array into a torch Tensor\n",
    "valid_predictors_Tensor = torch.from_numpy(valid_predictors_array)\n",
    "\n",
    "\n",
    "# Changing validation predictors from a DoubleTensor to a FloatTensor\n",
    "valid_predictors_Tensor = valid_predictors_Tensor.float()\n",
    "\n",
    "\n",
    "# Make the Tensor into a Pytorch Variable\n",
    "valid_predictors_Variable = Variable(valid_predictors_Tensor)"
   ]
  },
  {
   "cell_type": "code",
   "execution_count": 19,
   "metadata": {
    "collapsed": false
   },
   "outputs": [
    {
     "data": {
      "text/plain": [
       "Variable containing:\n",
       " 275.1273\n",
       "[torch.FloatTensor of size 1]"
      ]
     },
     "execution_count": 19,
     "metadata": {},
     "output_type": "execute_result"
    }
   ],
   "source": [
    "# Get the validation set predictions\n",
    "y_valid_pred = model(valid_predictors_Variable)\n",
    "\n",
    "\n",
    "# Print the loss\n",
    "loss_fn(y_valid_pred,\n",
    "        valid_outcomes_Variable)"
   ]
  },
  {
   "cell_type": "code",
   "execution_count": 20,
   "metadata": {
    "collapsed": true
   },
   "outputs": [],
   "source": [
    "# Get rid of the 2nd dimension of 1 from the FloatTensor\n",
    "y_valid_pred_resized = y_valid_pred.resize(2709)\n",
    "\n",
    "\n",
    "# Make the FloatTensor into a numpy.array\n",
    "y_valid_pred_array = y_valid_pred_resized.data.numpy()\n",
    "\n",
    "\n",
    "# Make the numpy.array into a list\n",
    "y_valid_pred_list = y_valid_pred_array.tolist()"
   ]
  },
  {
   "cell_type": "code",
   "execution_count": 21,
   "metadata": {
    "collapsed": false
   },
   "outputs": [],
   "source": [
    "# Get rid of the 2nd dimension of 1 from the FloatTensor\n",
    "valid_outcomes_Variable_resized = valid_outcomes_Variable.resize(2709)\n",
    "\n",
    "\n",
    "# Make the FloatTensor into a numpy.array\n",
    "valid_outcomes_array = valid_outcomes_Variable_resized.data.numpy()\n",
    "\n",
    "\n",
    "# Make the numpy.array into a list\n",
    "valid_outcomes_list = valid_outcomes_array.tolist()"
   ]
  },
  {
   "cell_type": "code",
   "execution_count": 22,
   "metadata": {
    "collapsed": false
   },
   "outputs": [
    {
     "data": {
      "text/plain": [
       "[<matplotlib.lines.Line2D at 0x7f8780266e10>]"
      ]
     },
     "execution_count": 22,
     "metadata": {},
     "output_type": "execute_result"
    },
    {
     "data": {
      "image/png": "[encoded data removed]",
      "text/plain": [
       "<matplotlib.figure.Figure at 0x7f8780347780>"
      ]
     },
     "metadata": {},
     "output_type": "display_data"
    }
   ],
   "source": [
    "# Plot new predictions versus new data outcomes\n",
    "plt.scatter(valid_outcomes_list, y_valid_pred_list)\n",
    "\n",
    "axes = plt.gca()\n",
    "\n",
    "axes.set_xlim([-2, 4])\n",
    "\n",
    "axes.set_ylim([-2, 4])\n",
    "\n",
    "plt.plot([-2, 4], [-2, 4], 'k-', lw=2)"
   ]
  },
  {
   "cell_type": "markdown",
   "metadata": {},
   "source": [
    "### Round 1.2: Test Set Performance"
   ]
  },
  {
   "cell_type": "code",
   "execution_count": 23,
   "metadata": {
    "collapsed": false
   },
   "outputs": [],
   "source": [
    "# Import data\n",
    "test_df = pd.read_csv(\"/home/jeremy/github_tornadoesr/data/raw/tor_test_set_no_zeros_interact.csv\")\n",
    "\n",
    "\n",
    "# Validation set outcomes\n",
    "test_outcomes = test_df.iloc[:, [0]]\n",
    "\n",
    "\n",
    "# Make the validation outcomes into a numpy array\n",
    "test_outcomes_array = test_outcomes.values\n",
    "\n",
    "\n",
    "# Makes the numpy array into a torch Tensor\n",
    "test_outcomes_Tensor = torch.from_numpy(test_outcomes_array)\n",
    "\n",
    "\n",
    "# Changing validation outcomes from a DoubleTensor to a FloatTensor\n",
    "test_outcomes_Tensor = test_outcomes_Tensor.float()\n",
    "\n",
    "\n",
    "# Make the Tensor into a Pytorch Variable\n",
    "test_outcomes_Variable = Variable(test_outcomes_Tensor)"
   ]
  },
  {
   "cell_type": "code",
   "execution_count": 24,
   "metadata": {
    "collapsed": true
   },
   "outputs": [],
   "source": [
    "# Validation set predictors\n",
    "test_predictors = test_df.iloc[:, 1:]\n",
    "\n",
    "\n",
    "# Make the validation predictors into a numpy array\n",
    "test_predictors_array = test_predictors.values\n",
    "\n",
    "\n",
    "# Makes the numpy array into a torch Tensor\n",
    "test_predictors_Tensor = torch.from_numpy(test_predictors_array)\n",
    "\n",
    "\n",
    "# Changing validation predictors from a DoubleTensor to a FloatTensor\n",
    "test_predictors_Tensor = test_predictors_Tensor.float()\n",
    "\n",
    "\n",
    "# Make the Tensor into a Pytorch Variable\n",
    "test_predictors_Variable = Variable(test_predictors_Tensor)"
   ]
  },
  {
   "cell_type": "code",
   "execution_count": 25,
   "metadata": {
    "collapsed": false
   },
   "outputs": [
    {
     "data": {
      "text/plain": [
       "Variable containing:\n",
       " 270.5220\n",
       "[torch.FloatTensor of size 1]"
      ]
     },
     "execution_count": 25,
     "metadata": {},
     "output_type": "execute_result"
    }
   ],
   "source": [
    "# Get the validation set predictions\n",
    "y_test_pred = model(test_predictors_Variable)\n",
    "\n",
    "\n",
    "# Print the loss\n",
    "loss_fn(y_test_pred,\n",
    "        test_outcomes_Variable)"
   ]
  },
  {
   "cell_type": "code",
   "execution_count": 26,
   "metadata": {
    "collapsed": false
   },
   "outputs": [],
   "source": [
    "# Get rid of the 2nd dimension of 1 from the FloatTensor\n",
    "y_test_pred_resized = y_test_pred.resize(2712)\n",
    "\n",
    "\n",
    "# Make the FloatTensor into a numpy.array\n",
    "y_test_pred_array = y_test_pred_resized.data.numpy()\n",
    "\n",
    "\n",
    "# Convert back to native units and scale\n",
    "y_test_pred_array = y_test_pred_array*5.409956 + 7.691221\n",
    "\n",
    "\n",
    "# Make the numpy.array into a list\n",
    "y_test_pred_list = y_test_pred_array.tolist()"
   ]
  },
  {
   "cell_type": "code",
   "execution_count": 27,
   "metadata": {
    "collapsed": true
   },
   "outputs": [],
   "source": [
    "# Get rid of the 2nd dimension of 1 from the FloatTensor\n",
    "test_outcomes_Variable_resized = test_outcomes_Variable.resize(2712)\n",
    "\n",
    "\n",
    "# Make the FloatTensor into a numpy.array\n",
    "test_outcomes_array = test_outcomes_Variable_resized.data.numpy()\n",
    "\n",
    "\n",
    "# Convert back to native units and scale\n",
    "test_outcomes_array = test_outcomes_array*5.409956 + 7.691221\n",
    "\n",
    "\n",
    "# Make the numpy.array into a list\n",
    "test_outcomes_list = test_outcomes_array.tolist()"
   ]
  },
  {
   "cell_type": "code",
   "execution_count": 28,
   "metadata": {
    "collapsed": false
   },
   "outputs": [
    {
     "data": {
      "text/plain": [
       "<matplotlib.text.Text at 0x7f87801f0198>"
      ]
     },
     "execution_count": 28,
     "metadata": {},
     "output_type": "execute_result"
    },
    {
     "data": {
      "image/png": "[encoded data removed]",
      "text/plain": [
       "<matplotlib.figure.Figure at 0x7f87802ee748>"
      ]
     },
     "metadata": {},
     "output_type": "display_data"
    }
   ],
   "source": [
    "# Plot new predictions versus new data outcomes\n",
    "plt.scatter(test_outcomes_list, y_test_pred_list)\n",
    "\n",
    "axes = plt.gca()\n",
    "\n",
    "axes.set_xlim([2, 23])\n",
    "\n",
    "axes.set_ylim([2, 23])\n",
    "\n",
    "axes.set_xticks([2, 5, 8, 11, 14, 17, 20, 23])\n",
    "\n",
    "axes.set_yticks([2, 5, 8, 11, 14, 17, 20, 23])\n",
    "\n",
    "plt.plot([2, 23], [2, 23], 'k-', lw=2)\n",
    "\n",
    "axes.set_xlabel(\"Actual Outcome (Log-Transformed US Dollars)\")\n",
    "\n",
    "axes.set_ylabel(\"Model Prediction (Log-Transformed US Dollars)\")\n",
    "\n",
    "axes.set_title(\"Model Performance\")"
   ]
  },
  {
   "cell_type": "code",
   "execution_count": 29,
   "metadata": {
    "collapsed": false
   },
   "outputs": [
    {
     "data": {
      "text/plain": [
       "Parameter containing:\n",
       "\n",
       "Columns 0 to 5 \n",
       " 2.8005e-01  2.1906e-01  1.1074e-01  1.5761e-01  1.6019e-01 -4.4548e-02\n",
       "-1.7901e-01 -6.5152e-03  4.2038e-02  1.9546e-01  6.8862e-02 -3.8769e-02\n",
       "-1.7047e-01  1.5772e-01  1.0505e-01  8.5559e-02 -1.7804e-02 -6.6784e-03\n",
       " 1.8381e-02 -1.7230e-01 -3.5971e-02  5.4650e-02  2.4524e-01 -9.2971e-02\n",
       "-5.9665e-02 -5.2432e-02 -5.3433e-02  9.8704e-02  1.4197e-01  1.2896e-01\n",
       " 4.1167e-02  3.3684e-02  4.9433e-03 -1.2709e-03 -3.9238e-02 -1.1612e-01\n",
       " 7.5224e-02  1.3962e-01  1.1968e-01 -8.9291e-02  8.0649e-02 -1.3466e-01\n",
       " 6.4816e-02 -5.7449e-02 -4.6208e-02 -8.3174e-02 -1.2817e-01 -1.0730e-01\n",
       " 1.4382e-01  9.5065e-02  8.8852e-04 -2.1562e-02  2.5002e-02  6.5619e-02\n",
       " 6.8637e-02  8.3948e-02 -1.5926e-02 -2.0929e-02  1.7411e-01 -1.8056e-02\n",
       "-9.8383e-02 -8.2923e-02  1.5101e-01 -1.3291e-02 -5.5486e-02 -4.5767e-02\n",
       " 2.1586e-02 -3.3539e-02  1.0787e-01 -1.2945e-01 -8.1680e-02  5.3470e-02\n",
       " 3.5646e-02 -1.6073e-01  6.0578e-04 -7.8885e-02  7.6341e-02 -1.4049e-01\n",
       " 3.3848e-03  1.2694e-01 -9.3214e-02  3.6819e-02 -7.8504e-02 -9.6258e-02\n",
       " 1.3200e-01  2.7552e-01 -8.1501e-03  1.0560e-01  6.7186e-02  3.7923e-02\n",
       "-7.5775e-02 -1.5614e-01  2.5406e-02 -4.8913e-02 -5.1244e-02  8.2873e-02\n",
       "-1.1017e-01  3.9268e-02  4.1160e-02 -3.7197e-03  1.4211e-01  2.1281e-01\n",
       " 3.2095e-01 -1.4937e-01 -1.4946e-01 -4.7917e-02  1.6522e-02  5.4735e-02\n",
       "-9.0836e-02  1.1901e-01 -1.8466e-01  1.9263e-01 -5.0910e-02 -2.1763e-01\n",
       " 1.7551e-02  1.4409e-01  2.4563e-02  2.0649e-01  1.0504e-01  3.6210e-02\n",
       " 5.1355e-02 -6.6884e-03 -4.3068e-02 -1.2250e-01 -2.0737e-01 -5.4988e-02\n",
       "\n",
       "Columns 6 to 11 \n",
       "-1.3894e-01  9.6401e-02 -1.6059e-01  5.1473e-02 -1.1400e-01  4.3728e-02\n",
       " 5.5986e-02 -1.4970e-01 -5.6794e-02  1.1092e-01  6.5216e-02 -4.8680e-02\n",
       "-1.0188e-02  1.4227e-01  5.0394e-02 -1.6797e-01 -2.7132e-02 -3.2041e-02\n",
       "-2.6982e-02  6.1353e-03  1.4066e-01 -5.3675e-02  1.9019e-01  2.2838e-02\n",
       " 9.4837e-02  1.0180e-01 -1.4620e-01  6.7505e-02 -1.6244e-01 -1.1184e-01\n",
       " 1.5033e-01  1.4328e-01 -1.5065e-02  5.8594e-02  1.1967e-01 -8.8488e-02\n",
       " 6.7960e-02  3.7408e-03  1.6265e-01 -6.0933e-04 -1.4433e-01 -4.7727e-02\n",
       "-1.6092e-03 -1.0857e-01  9.0126e-02  1.8549e-02 -7.7752e-04  4.5288e-02\n",
       "-1.1584e-01 -1.6319e-01 -6.5630e-03 -9.1912e-05  1.1912e-01 -1.3516e-01\n",
       " 1.4702e-01 -9.6374e-02 -1.3301e-01  1.2811e-02 -2.1212e-02  3.0915e-02\n",
       " 2.8582e-02  2.0211e-02 -2.6154e-02  3.6346e-02  1.0641e-01  5.7935e-02\n",
       "-8.3307e-03  1.7575e-01  1.4686e-01 -9.3958e-02 -1.3019e-01 -9.8332e-02\n",
       "-2.2512e-02 -6.7668e-02 -7.1083e-02 -1.3486e-01  4.0190e-02 -2.3066e-02\n",
       "-8.0608e-02 -5.2908e-02  1.0561e-01 -5.3415e-02 -5.7351e-03  7.9191e-03\n",
       " 9.7935e-02 -1.2288e-02  2.0525e-01 -3.1332e-02  8.6898e-02 -3.0778e-03\n",
       "-1.6088e-01 -5.6045e-03 -7.8912e-02 -8.1732e-02  1.5902e-02 -1.1888e-02\n",
       "-4.7608e-02 -1.3781e-01  3.8251e-02 -7.7148e-03 -6.3778e-02  1.3873e-01\n",
       " 1.1690e-01  5.4021e-02 -1.2760e-02  1.2450e-01  6.4444e-02  8.4830e-02\n",
       " 5.0710e-02  1.6026e-01 -1.0094e-02  9.3057e-02 -1.3511e-01  4.1254e-02\n",
       "-9.6760e-03  1.5347e-03  2.0504e-01  2.8214e-02  3.2669e-02  1.2451e-01\n",
       " 6.4533e-02 -7.6009e-02 -3.7881e-02 -9.0882e-02 -1.2015e-02  8.2798e-02\n",
       "\n",
       "Columns 12 to 17 \n",
       " 3.5190e-03 -1.1925e-02  9.3757e-06  1.0641e-01 -7.4212e-02  1.7424e-01\n",
       "-6.2300e-02 -5.7027e-02 -1.3861e-01 -4.4090e-02  4.1120e-02  8.4153e-02\n",
       " 3.3831e-02 -8.9161e-02  5.6806e-02  8.3522e-02 -7.5155e-02  3.1763e-02\n",
       "-3.3121e-02  8.6391e-02 -1.3654e-02 -1.1127e-01  8.0705e-02  3.9957e-02\n",
       "-2.6496e-02  2.3071e-02 -4.3336e-02 -1.2939e-02  1.0345e-01  9.2647e-02\n",
       "-1.3214e-01 -1.0631e-01 -1.4318e-01  3.1482e-02 -8.3966e-02  4.1446e-02\n",
       "-6.6653e-02 -5.9927e-02  5.5708e-02  1.0598e-01 -4.7647e-02 -5.7236e-02\n",
       "-1.3185e-02  1.2350e-01  3.4689e-02 -3.9552e-02  1.2073e-01  4.4367e-02\n",
       " 4.6058e-02 -2.7565e-02 -1.2498e-01 -4.3555e-03 -4.5698e-02 -6.5306e-02\n",
       " 1.3777e-01  3.7975e-02 -6.5140e-02  5.1484e-03  8.6419e-02 -6.3209e-02\n",
       " 9.1749e-02  1.8510e-01  3.6431e-02 -8.6354e-02  9.8072e-02  4.1548e-03\n",
       " 7.8716e-03 -1.0889e-01  2.3643e-01 -7.6217e-02 -2.4692e-02 -5.1101e-02\n",
       " 1.3410e-01  1.4362e-01 -1.5495e-01 -3.8750e-02 -1.1558e-01  1.1462e-01\n",
       "-7.0158e-02 -3.6754e-02  1.5518e-01  1.0703e-01  7.7471e-02  5.5511e-02\n",
       "-2.2859e-01  8.0695e-02  8.5348e-02  6.3334e-02 -1.0275e-01  2.3743e-02\n",
       " 1.6420e-01 -9.2499e-02  1.3168e-01 -9.2903e-02  3.9686e-02 -2.2747e-02\n",
       "-8.3984e-02  1.4250e-02 -1.2490e-01  3.1810e-02  5.4135e-02 -1.9211e-01\n",
       " 1.1060e-01 -6.0790e-02  5.3788e-02 -1.9844e-02  1.8226e-01 -1.8042e-01\n",
       "-2.2115e-02  6.0351e-03  7.5405e-02  2.1779e-02  9.1486e-02  1.1111e-01\n",
       " 1.6434e-01 -1.2054e-01 -6.3593e-02 -6.4131e-02 -1.2369e-01 -6.9585e-02\n",
       " 1.5658e-02  3.4704e-02  1.4942e-01 -1.1745e-01 -2.1650e-02 -3.5488e-02\n",
       "\n",
       "Columns 18 to 23 \n",
       "-8.7066e-02 -1.0440e-01 -6.9170e-02  6.7041e-02  4.9840e-02 -1.8259e-02\n",
       " 1.2302e-01 -1.2071e-01  6.5110e-02 -2.0346e-02 -7.2086e-02  6.8465e-02\n",
       " 9.8457e-02  1.3402e-01 -8.3786e-02 -4.7825e-02  1.7045e-01  1.4093e-01\n",
       "-6.9062e-02  1.3864e-01 -8.5357e-02 -5.0310e-02  2.0541e-01  2.0921e-01\n",
       " 1.5140e-03 -1.6722e-01  1.3543e-01  1.3955e-01  1.7422e-01 -1.7792e-01\n",
       "-7.9985e-02 -3.5835e-05 -8.1975e-02 -2.4393e-01  1.0722e-01 -2.2909e-01\n",
       "-9.1522e-02 -7.6101e-02  1.4951e-01 -7.0973e-02 -3.9167e-02  1.0078e-01\n",
       " 2.0721e-02  6.3888e-02  1.3152e-01  7.0169e-02 -1.9598e-01 -1.1151e-01\n",
       " 3.0558e-03  2.1751e-02  1.0586e-01  9.7497e-02 -7.2662e-02  3.9425e-02\n",
       "-1.1498e-01  1.9294e-01  7.2443e-02  4.9626e-02 -1.9510e-02  1.2508e-02\n",
       " 1.7440e-01 -6.6731e-02 -1.4009e-01 -5.8937e-02  5.3180e-02  9.6457e-02\n",
       " 1.2391e-01 -7.0166e-02  4.4634e-02  5.9784e-02 -7.0176e-02  8.8129e-02\n",
       " 1.1096e-01  7.0389e-02 -2.5238e-02  1.2180e-01  1.8908e-01 -1.5147e-01\n",
       " 1.4631e-01 -1.0548e-01 -9.0034e-02  1.1303e-01 -9.0308e-02 -1.2093e-01\n",
       "-1.4046e-01 -1.1344e-01 -4.8194e-02  1.3530e-01 -1.0017e-01 -6.7587e-02\n",
       "-1.0044e-01  6.3385e-03  1.6350e-01  9.7775e-02  3.7062e-02  1.1214e-01\n",
       " 5.9358e-02  4.9643e-02 -1.0759e-01  1.4974e-01 -2.8265e-02  1.1109e-01\n",
       " 9.4258e-02 -1.1677e-01 -2.5499e-02  1.9978e-02  1.2040e-01 -9.5397e-02\n",
       "-1.3441e-01 -6.0909e-02 -7.6305e-02 -2.3477e-02 -8.6825e-02 -3.5487e-02\n",
       "-1.5045e-01 -4.2906e-02 -8.2900e-02  1.6252e-02  1.3213e-01  4.5822e-02\n",
       " 3.3616e-02  1.0474e-01  2.0282e-01  3.7054e-02 -2.1651e-01  1.3042e-01\n",
       "\n",
       "Columns 24 to 29 \n",
       " 2.8869e-02  5.4077e-02 -1.8971e-01  6.9946e-02 -1.5571e-01 -4.3067e-02\n",
       " 5.2557e-02 -8.8265e-02  2.6570e-01 -1.7813e-03 -4.1589e-02 -2.8139e-01\n",
       " 6.7289e-02  3.4764e-04  3.3420e-02  1.1874e-02  1.4931e-02  1.4558e-01\n",
       "-3.0798e-02  4.0617e-03  7.9930e-02  4.8178e-02  1.4401e-02  5.6247e-02\n",
       "-9.8969e-02  5.7809e-02 -1.6460e-01  4.7089e-02 -5.9891e-02 -1.6314e-01\n",
       " 1.4594e-01  5.5834e-02 -8.7172e-02  9.4249e-02 -1.9663e-01  2.2052e-02\n",
       " 1.5487e-01 -8.6796e-02  1.8346e-01 -1.3911e-01 -5.4385e-02  6.0419e-02\n",
       " 7.2506e-02  1.1540e-01  4.2763e-02  1.0799e-01  4.5340e-02 -9.7524e-02\n",
       "-1.4321e-01  1.0496e-01  2.5992e-02  1.7004e-01 -3.8791e-02  1.6696e-01\n",
       " 1.3123e-02  3.8037e-02  1.8155e-01  1.2347e-01  1.1490e-01  9.7407e-02\n",
       "-1.0525e-01  1.1216e-01 -3.6366e-02  1.6880e-01  2.2042e-02  1.4879e-01\n",
       "-7.6934e-02  2.0855e-01  8.7064e-02  4.2621e-02  1.6880e-03  1.3912e-01\n",
       " 1.1255e-01 -1.5871e-01  2.0778e-02  1.7409e-01  6.2246e-02  7.8920e-02\n",
       "-1.1784e-02 -1.2363e-01  1.3364e-01 -6.5102e-02 -1.0782e-01 -9.5990e-02\n",
       " 2.9929e-02 -7.0522e-02 -7.8102e-02 -1.4316e-01 -5.0672e-02  4.3827e-02\n",
       "-4.3087e-02  6.5859e-02 -1.7683e-01 -3.1826e-02 -3.2421e-02 -6.6918e-02\n",
       "-1.0585e-01  1.9970e-02  1.4667e-02  8.1910e-02 -5.0722e-02 -1.0675e-02\n",
       " 7.1482e-02 -1.0243e-01  5.1586e-02 -1.2253e-01 -3.2929e-02  6.8734e-02\n",
       "-2.2827e-01  4.8960e-02 -1.2425e-03  1.0446e-02 -1.1588e-01 -8.0157e-02\n",
       " 2.9234e-02  4.9085e-02  1.9977e-01  9.1745e-02 -1.1868e-01  1.6839e-01\n",
       " 6.8296e-02  4.7199e-02  3.2844e-02 -1.3897e-01  6.9542e-02  8.1929e-02\n",
       "\n",
       "Columns 30 to 30 \n",
       "-9.9348e-02\n",
       "-8.1055e-02\n",
       " 9.5372e-02\n",
       "-3.4074e-03\n",
       "-9.9449e-02\n",
       "-1.8131e-01\n",
       " 1.5018e-01\n",
       " 1.1027e-01\n",
       "-1.7490e-01\n",
       " 5.6719e-02\n",
       " 1.1067e-01\n",
       "-1.0995e-01\n",
       " 8.4752e-02\n",
       " 1.0905e-01\n",
       " 1.2391e-01\n",
       "-9.3484e-02\n",
       " 1.4325e-01\n",
       "-2.3964e-02\n",
       "-2.5915e-02\n",
       " 1.2400e-01\n",
       "-4.3286e-02\n",
       "[torch.FloatTensor of size 21x31]"
      ]
     },
     "execution_count": 29,
     "metadata": {},
     "output_type": "execute_result"
    }
   ],
   "source": [
    "model[(0)].weight"
   ]
  },
  {
   "cell_type": "code",
   "execution_count": 30,
   "metadata": {
    "collapsed": false
   },
   "outputs": [
    {
     "data": {
      "text/plain": [
       "Parameter containing:\n",
       "\n",
       "Columns 0 to 9 \n",
       " 0.1540  0.2351  0.1975  0.2496  0.0346 -0.1874  0.1393  0.0795  0.0010  0.0939\n",
       "\n",
       "Columns 10 to 19 \n",
       "-0.1408  0.1010  0.0295 -0.0355  0.1051  0.0035 -0.1833  0.1616 -0.1194  0.0757\n",
       "\n",
       "Columns 20 to 20 \n",
       "-0.1752\n",
       "[torch.FloatTensor of size 1x21]"
      ]
     },
     "execution_count": 30,
     "metadata": {},
     "output_type": "execute_result"
    }
   ],
   "source": [
    "model[(2)].weight"
   ]
  },
  {
   "cell_type": "markdown",
   "metadata": {},
   "source": [
    "## Round 2: Two-Hidden-Layer Neural Network"
   ]
  },
  {
   "cell_type": "code",
   "execution_count": 31,
   "metadata": {
    "collapsed": true
   },
   "outputs": [],
   "source": [
    "# Make the torch Tensor into a PyTorch Variable for dependent variables\n",
    "outcomes_Variable = Variable(outcomes_Tensor)\n",
    "\n",
    "\n",
    "# ...for independent variables\n",
    "features_Variable = Variable(features_Tensor,\n",
    "                             requires_grad = False)"
   ]
  },
  {
   "cell_type": "code",
   "execution_count": 32,
   "metadata": {
    "collapsed": true
   },
   "outputs": [],
   "source": [
    "# Make the neural network\n",
    "model = torch.nn.Sequential(torch.nn.Linear(31, 21),\n",
    "                            torch.nn.ReLU(),\n",
    "                            torch.nn.Linear(21, 14),\n",
    "                            torch.nn.ReLU(),\n",
    "                            torch.nn.Linear(14, 1))"
   ]
  },
  {
   "cell_type": "code",
   "execution_count": 33,
   "metadata": {
    "collapsed": false
   },
   "outputs": [],
   "source": [
    "# To add errors to\n",
    "errors = []\n",
    "\n",
    "\n",
    "# Set the learning rate\n",
    "learning_rate = 6e-6\n",
    "\n",
    "\n",
    "# Train the neural network\n",
    "for t in range(10000):\n",
    "    \n",
    "    # Get the current predictions\n",
    "    y_pred = model(features_Variable)\n",
    "    \n",
    "    # Compute and append current summed errors\n",
    "    loss = loss_fn(y_pred, outcomes_Variable)\n",
    "    errors.append(loss.data[0])\n",
    "    \n",
    "    # Zero the gradients before running the backward pass.\n",
    "    model.zero_grad()\n",
    "    \n",
    "    # Backward pass: compute gradient of the loss with respect to all the learnable Variables\n",
    "    loss.backward()\n",
    "    \n",
    "    # Update the weights using gradient descent\n",
    "    for param in model.parameters():\n",
    "        param.data -= learning_rate * param.grad.data"
   ]
  },
  {
   "cell_type": "code",
   "execution_count": 34,
   "metadata": {
    "collapsed": false
   },
   "outputs": [
    {
     "data": {
      "text/plain": [
       "<matplotlib.collections.PathCollection at 0x7f8780132ac8>"
      ]
     },
     "execution_count": 34,
     "metadata": {},
     "output_type": "execute_result"
    },
    {
     "data": {
      "image/png": "[encoded data removed]",
      "text/plain": [
       "<matplotlib.figure.Figure at 0x7f87801e24e0>"
      ]
     },
     "metadata": {},
     "output_type": "display_data"
    }
   ],
   "source": [
    "# Plot summed error as a function of iteration\n",
    "plt.scatter(iterations, errors)"
   ]
  },
  {
   "cell_type": "code",
   "execution_count": 35,
   "metadata": {
    "collapsed": false
   },
   "outputs": [],
   "source": [
    "# Get rid of the 2nd dimension of 1 from the FloatTensor\n",
    "y_pred_resized = y_pred.resize(8270)\n",
    "\n",
    "\n",
    "# Make the FloatTensor into a numpy.array\n",
    "y_pred_array = y_pred_resized.data.numpy()\n",
    "\n",
    "\n",
    "# Make the numpy.array into a list\n",
    "y_pred_list = y_pred_array.tolist()"
   ]
  },
  {
   "cell_type": "code",
   "execution_count": 36,
   "metadata": {
    "collapsed": false
   },
   "outputs": [
    {
     "data": {
      "text/plain": [
       "[<matplotlib.lines.Line2D at 0x7f8780042fd0>]"
      ]
     },
     "execution_count": 36,
     "metadata": {},
     "output_type": "execute_result"
    },
    {
     "data": {
      "image/png": "[encoded data removed]",
      "text/plain": [
       "<matplotlib.figure.Figure at 0x7f878051e550>"
      ]
     },
     "metadata": {},
     "output_type": "display_data"
    }
   ],
   "source": [
    "# Plot predictions versus training set outcomes\n",
    "plt.scatter(outcomes_list, y_pred_list)\n",
    "\n",
    "axes = plt.gca()\n",
    "\n",
    "axes.set_xlim([-2, 4])\n",
    "\n",
    "axes.set_ylim([-2, 4])\n",
    "\n",
    "plt.plot([-2, 4], [-2, 4], 'k-', lw=2)"
   ]
  },
  {
   "cell_type": "markdown",
   "metadata": {},
   "source": [
    "### Round 2.1: Validation Set Performance"
   ]
  },
  {
   "cell_type": "code",
   "execution_count": 37,
   "metadata": {
    "collapsed": false
   },
   "outputs": [
    {
     "data": {
      "text/plain": [
       "Variable containing:\n",
       " 267.3957\n",
       "[torch.FloatTensor of size 1]"
      ]
     },
     "execution_count": 37,
     "metadata": {},
     "output_type": "execute_result"
    }
   ],
   "source": [
    "# Get the validation set predictions\n",
    "y_valid_pred = model(valid_predictors_Variable)\n",
    "\n",
    "\n",
    "# Print the loss\n",
    "loss_fn(y_valid_pred,\n",
    "        valid_outcomes_Variable)"
   ]
  },
  {
   "cell_type": "code",
   "execution_count": 38,
   "metadata": {
    "collapsed": false
   },
   "outputs": [],
   "source": [
    "# Get rid of the 2nd dimension of 1 from the FloatTensor\n",
    "y_valid_pred_resized = y_valid_pred.resize(2709)\n",
    "\n",
    "\n",
    "# Make the FloatTensor into a numpy.array\n",
    "y_valid_pred_array = y_valid_pred_resized.data.numpy()\n",
    "\n",
    "\n",
    "# Make the numpy.array into a list\n",
    "y_valid_pred_list = y_valid_pred_array.tolist()"
   ]
  },
  {
   "cell_type": "code",
   "execution_count": 39,
   "metadata": {
    "collapsed": false
   },
   "outputs": [
    {
     "data": {
      "text/plain": [
       "[<matplotlib.lines.Line2D at 0x7f878006e080>]"
      ]
     },
     "execution_count": 39,
     "metadata": {},
     "output_type": "execute_result"
    },
    {
     "data": {
      "image/png": "[encoded data removed]",
      "text/plain": [
       "<matplotlib.figure.Figure at 0x7f8780334048>"
      ]
     },
     "metadata": {},
     "output_type": "display_data"
    }
   ],
   "source": [
    "# Plot new predictions versus new data outcomes\n",
    "plt.scatter(valid_outcomes_list, y_valid_pred_list)\n",
    "\n",
    "axes = plt.gca()\n",
    "\n",
    "axes.set_xlim([-2, 4])\n",
    "\n",
    "axes.set_ylim([-2, 4])\n",
    "\n",
    "plt.plot([-2, 4], [-2, 4], 'k-', lw=2)"
   ]
  },
  {
   "cell_type": "markdown",
   "metadata": {},
   "source": [
    "### Round 2.2: Test Set Performance"
   ]
  },
  {
   "cell_type": "code",
   "execution_count": 40,
   "metadata": {
    "collapsed": false
   },
   "outputs": [
    {
     "data": {
      "text/plain": [
       "Variable containing:\n",
       " 265.3506\n",
       "[torch.FloatTensor of size 1]"
      ]
     },
     "execution_count": 40,
     "metadata": {},
     "output_type": "execute_result"
    }
   ],
   "source": [
    "# Get the validation set predictions\n",
    "y_test_pred = model(test_predictors_Variable)\n",
    "\n",
    "\n",
    "# Print the loss\n",
    "loss_fn(y_test_pred,\n",
    "        test_outcomes_Variable)"
   ]
  },
  {
   "cell_type": "code",
   "execution_count": 41,
   "metadata": {
    "collapsed": true
   },
   "outputs": [],
   "source": [
    "# Get rid of the 2nd dimension of 1 from the FloatTensor\n",
    "y_test_pred_resized = y_test_pred.resize(2712)\n",
    "\n",
    "\n",
    "# Make the FloatTensor into a numpy.array\n",
    "y_test_pred_array = y_test_pred_resized.data.numpy()\n",
    "\n",
    "\n",
    "# Convert back to native units and scale\n",
    "y_test_pred_array = y_test_pred_array*5.409956 + 7.691221\n",
    "\n",
    "\n",
    "# Make the numpy.array into a list\n",
    "y_test_pred_list = y_test_pred_array.tolist()"
   ]
  },
  {
   "cell_type": "code",
   "execution_count": 42,
   "metadata": {
    "collapsed": false
   },
   "outputs": [
    {
     "data": {
      "text/plain": [
       "<matplotlib.text.Text at 0x7f87784b3128>"
      ]
     },
     "execution_count": 42,
     "metadata": {},
     "output_type": "execute_result"
    },
    {
     "data": {
      "image/png": "[encoded data removed]",
      "text/plain": [
       "<matplotlib.figure.Figure at 0x7f87800c4080>"
      ]
     },
     "metadata": {},
     "output_type": "display_data"
    }
   ],
   "source": [
    "# Plot new predictions versus new data outcomes\n",
    "plt.scatter(test_outcomes_list, y_test_pred_list)\n",
    "\n",
    "axes = plt.gca()\n",
    "\n",
    "axes.set_xlim([2, 23])\n",
    "\n",
    "axes.set_ylim([2, 23])\n",
    "\n",
    "axes.set_xticks([2, 5, 8, 11, 14, 17, 20, 23])\n",
    "\n",
    "axes.set_yticks([2, 5, 8, 11, 14, 17, 20, 23])\n",
    "\n",
    "plt.plot([2, 23], [2, 23], 'k-', lw=2)\n",
    "\n",
    "axes.set_xlabel(\"Actual Outcome (Log-Transformed US Dollars)\")\n",
    "\n",
    "axes.set_ylabel(\"Model Prediction (Log-Transformed US Dollars)\")\n",
    "\n",
    "axes.set_title(\"Model Performance\")"
   ]
  },
  {
   "cell_type": "code",
   "execution_count": 43,
   "metadata": {
    "collapsed": false
   },
   "outputs": [
    {
     "data": {
      "text/plain": [
       "Parameter containing:\n",
       "\n",
       "Columns 0 to 9 \n",
       "-0.0475 -0.0270 -0.0267 -0.0285 -0.1701 -0.0984 -0.0607 -0.1120  0.1872 -0.1027\n",
       " 0.0098  0.0816 -0.0933  0.0733  0.1269 -0.1164 -0.0432 -0.1646 -0.1267 -0.1440\n",
       "-0.0073 -0.0669 -0.2604 -0.0862  0.1263 -0.1336  0.0394 -0.0577 -0.0350 -0.2552\n",
       "-0.1086 -0.0412  0.0510 -0.0881 -0.0554  0.2398  0.0464  0.0083  0.0107  0.0394\n",
       "-0.0410 -0.1454 -0.1771 -0.0944  0.1364 -0.1103  0.1372  0.1156  0.0774 -0.0009\n",
       " 0.2610  0.1047  0.1602 -0.1559 -0.1445 -0.0633  0.1442  0.0160 -0.1636 -0.0407\n",
       " 0.3024 -0.1899 -0.0833 -0.0382 -0.0521  0.1366 -0.0861 -0.0900 -0.0087 -0.1331\n",
       " 0.1454 -0.1648 -0.0773  0.1877  0.2141 -0.1492 -0.0302 -0.1618 -0.0430  0.1108\n",
       " 0.0328  0.1447 -0.0377 -0.1098  0.0161 -0.0908 -0.1923  0.2110 -0.1556  0.1019\n",
       "-0.0981 -0.0672 -0.1404  0.1374  0.0025 -0.2127  0.0206 -0.0302  0.0371  0.0754\n",
       " 0.1105  0.2403 -0.0310  0.2148  0.1754 -0.0202  0.0877  0.1699 -0.1459  0.0883\n",
       "-0.0432 -0.1431 -0.0675 -0.0512  0.0870 -0.1459  0.0324 -0.1016 -0.0162  0.0301\n",
       "-0.2624  0.0675  0.2811  0.1308  0.1817 -0.1343  0.0765 -0.0179  0.1468 -0.1153\n",
       "-0.0597 -0.1268  0.0774 -0.0879 -0.0689  0.1833  0.1382 -0.1357  0.0373  0.2044\n",
       " 0.1243  0.0948  0.0908 -0.0345  0.0843 -0.1488 -0.1081  0.1742  0.1571 -0.0263\n",
       " 0.1414  0.0941  0.1337 -0.1560  0.0303  0.1474 -0.0849 -0.1799  0.0437  0.1393\n",
       "-0.0558 -0.0479 -0.0602 -0.1273  0.0065  0.0952 -0.0366 -0.1379  0.1487  0.1035\n",
       "-0.0178  0.0636 -0.1876 -0.0560 -0.2886 -0.2413  0.1710  0.1125 -0.0429  0.0140\n",
       "-0.0786 -0.1778 -0.0754  0.2036 -0.1383 -0.2002 -0.0509 -0.0515 -0.0122  0.0090\n",
       "-0.0961 -0.1292  0.1706  0.1966 -0.2268 -0.0659  0.2025 -0.0600 -0.0325 -0.0142\n",
       "-0.0418 -0.1210  0.0809 -0.1169 -0.0200 -0.0979  0.2072  0.1841  0.1963  0.0167\n",
       "\n",
       "Columns 10 to 19 \n",
       "-0.0908 -0.1036 -0.1169 -0.1294  0.1410  0.1806 -0.0264  0.0253  0.1373 -0.0991\n",
       " 0.0701  0.1582 -0.1606 -0.0870 -0.0241 -0.0989 -0.0098 -0.0216 -0.1567  0.1338\n",
       " 0.0860 -0.0545  0.0798 -0.0275  0.0241  0.2298  0.0590 -0.0509 -0.1468  0.0312\n",
       "-0.0434 -0.0101  0.1129  0.0911  0.0479 -0.1660  0.0381 -0.0152 -0.0556  0.0608\n",
       "-0.0459  0.0217  0.0160 -0.1603  0.1358  0.0797 -0.0997 -0.0918 -0.0686  0.0057\n",
       "-0.1739  0.0532  0.2480  0.0878  0.1720  0.0900  0.1186  0.0836  0.0291  0.0315\n",
       " 0.1682  0.0103  0.0064  0.0588 -0.1249  0.0511 -0.0037  0.1691  0.1071 -0.0760\n",
       " 0.0869  0.0491  0.1630  0.0485 -0.0456 -0.0248  0.1874 -0.0850  0.0177 -0.0529\n",
       "-0.1866 -0.0044  0.0060 -0.2363 -0.0122 -0.0569 -0.0394  0.0831 -0.0179 -0.1928\n",
       " 0.1848  0.1238 -0.2078 -0.0103  0.0875 -0.0810 -0.0311  0.1023 -0.0023 -0.0963\n",
       "-0.0802 -0.1360  0.0194 -0.0836  0.0209  0.0789 -0.0389 -0.1646 -0.2476  0.0345\n",
       " 0.1476  0.2410  0.0732 -0.0038  0.0363  0.0418 -0.1764  0.0105  0.0958 -0.0335\n",
       " 0.1486 -0.0502  0.1308 -0.0478  0.0159 -0.1166  0.0180  0.1114  0.0739  0.0538\n",
       "-0.1491 -0.1869  0.1295  0.0753  0.1355  0.0728 -0.0196 -0.0324 -0.0630  0.1321\n",
       "-0.0910 -0.1275 -0.0825  0.0045  0.0402  0.0208 -0.0172 -0.0216  0.0864 -0.0746\n",
       " 0.1634 -0.2060  0.1659 -0.0534  0.1981 -0.1610  0.0483 -0.0480 -0.0631  0.1271\n",
       " 0.2062 -0.1261  0.1077 -0.0562 -0.2157  0.1696 -0.1500 -0.0834 -0.0673  0.0961\n",
       "-0.0544 -0.1428 -0.0107  0.0173 -0.0637  0.1240  0.0032  0.1186 -0.0074  0.0393\n",
       " 0.0492 -0.1272 -0.1101  0.0881  0.0206 -0.1177  0.1848  0.0109  0.0575 -0.0412\n",
       " 0.1053  0.1108  0.1557 -0.0373  0.0516 -0.0068  0.1151  0.1288  0.0177 -0.1026\n",
       "-0.0596 -0.0026  0.1277 -0.1157  0.0157  0.0324  0.1903  0.0457 -0.1015 -0.0679\n",
       "\n",
       "Columns 20 to 29 \n",
       "-0.0242  0.1888  0.0231  0.0433 -0.0711 -0.0219  0.2176  0.0717 -0.0466  0.0039\n",
       " 0.0561  0.1153 -0.1346  0.1467  0.0743 -0.0371  0.1800 -0.0649  0.0240  0.0931\n",
       "-0.0472 -0.0180 -0.0785  0.1061 -0.0513  0.1083  0.1034 -0.0654 -0.0099 -0.0297\n",
       " 0.0887  0.1358  0.0600 -0.0738 -0.0252  0.0486 -0.0936 -0.1612  0.1164 -0.0873\n",
       " 0.0267  0.0766 -0.0524 -0.0523 -0.0027 -0.1702 -0.1276 -0.1704 -0.0059  0.1651\n",
       "-0.0624 -0.0523 -0.0090  0.0245  0.1517 -0.0070  0.0581 -0.0670 -0.1262  0.1066\n",
       " 0.0224  0.0628  0.1474  0.1651  0.1030 -0.0986 -0.0200 -0.0609 -0.0060 -0.0755\n",
       " 0.0777 -0.0321 -0.1106  0.0078 -0.1925  0.1078  0.1563 -0.1044  0.0902 -0.2124\n",
       " 0.1059 -0.1367  0.0060 -0.0976 -0.0426 -0.1675 -0.1400 -0.1184  0.1002 -0.0041\n",
       " 0.0378  0.0563  0.1470  0.2183  0.1110  0.0630  0.2263 -0.0092  0.1157  0.1940\n",
       " 0.0654 -0.0858  0.1121  0.0469  0.0068  0.0620 -0.1006 -0.0251 -0.0774  0.0385\n",
       " 0.0724 -0.2958 -0.1620 -0.0033 -0.0962  0.0814  0.0358 -0.1173 -0.1494 -0.2339\n",
       "-0.0727  0.0414  0.1448  0.0381 -0.0077 -0.1989  0.1532 -0.1028  0.0927 -0.1095\n",
       "-0.0244  0.0695 -0.0906  0.0021  0.0655  0.1248  0.2105 -0.1827 -0.1553 -0.2209\n",
       "-0.0688 -0.0886  0.1255  0.2068 -0.0005  0.1097  0.0972  0.1492 -0.1136  0.2165\n",
       "-0.0253 -0.1703 -0.0446 -0.0970  0.0975  0.1263 -0.0183  0.1504  0.1052  0.0246\n",
       "-0.2184  0.0508 -0.1739 -0.1394  0.0316  0.1711 -0.0137 -0.1352  0.0621 -0.1911\n",
       "-0.1019 -0.0746 -0.0593  0.1654  0.0556  0.0487 -0.1959 -0.0480 -0.0343  0.0188\n",
       " 0.0072  0.1068  0.0275 -0.0347 -0.0938  0.0565 -0.0861  0.0554 -0.1485 -0.0746\n",
       " 0.0361  0.0437  0.0092  0.1739  0.1334 -0.0872 -0.1302 -0.0211 -0.0450 -0.0008\n",
       " 0.1890 -0.1239 -0.0663  0.1535  0.0506  0.1226 -0.1217 -0.0348  0.0567 -0.0583\n",
       "\n",
       "Columns 30 to 30 \n",
       "-0.1583\n",
       "-0.0077\n",
       "-0.1401\n",
       " 0.2825\n",
       " 0.2088\n",
       " 0.0604\n",
       " 0.1015\n",
       "-0.2257\n",
       " 0.0104\n",
       " 0.1538\n",
       " 0.1357\n",
       " 0.1055\n",
       "-0.0578\n",
       " 0.0484\n",
       "-0.0553\n",
       "-0.0343\n",
       " 0.0616\n",
       "-0.1611\n",
       " 0.2672\n",
       "-0.0438\n",
       " 0.0772\n",
       "[torch.FloatTensor of size 21x31]"
      ]
     },
     "execution_count": 43,
     "metadata": {},
     "output_type": "execute_result"
    }
   ],
   "source": [
    "model[(0)].weight"
   ]
  },
  {
   "cell_type": "code",
   "execution_count": 44,
   "metadata": {
    "collapsed": false
   },
   "outputs": [
    {
     "data": {
      "text/plain": [
       "Parameter containing:\n",
       "\n",
       "Columns 0 to 9 \n",
       "-0.0778 -0.2005  0.1971  0.1146  0.2049 -0.1233  0.1719  0.1421 -0.1846 -0.0021\n",
       " 0.0387  0.1578 -0.2405 -0.2594  0.0691  0.1878  0.1853  0.3495  0.1376  0.1911\n",
       "-0.1127  0.0031 -0.0702  0.1493 -0.0541  0.0805 -0.1157 -0.0569  0.1091  0.2114\n",
       " 0.2318  0.0623  0.1623 -0.1802 -0.2835 -0.1362 -0.1525 -0.2144 -0.1336 -0.1035\n",
       " 0.1438 -0.0531  0.2542 -0.0504  0.1174 -0.1500 -0.1125  0.1689 -0.1748 -0.0244\n",
       " 0.0220  0.1607 -0.0032 -0.1325 -0.1619  0.1928 -0.1419 -0.1378  0.0745  0.0447\n",
       " 0.0207  0.1419 -0.1522 -0.1549 -0.0179  0.1925 -0.0405 -0.2357  0.0636  0.0970\n",
       " 0.0146 -0.0301 -0.1797 -0.0373 -0.1927 -0.0161  0.0074  0.0270 -0.0971 -0.1398\n",
       "-0.2015  0.1175  0.0135 -0.2338 -0.1164  0.1610  0.0587  0.0693 -0.1327 -0.1656\n",
       "-0.1559 -0.2231 -0.1004 -0.1167 -0.0671  0.1363 -0.2157 -0.0650  0.0971 -0.0084\n",
       "-0.2222  0.2210  0.2336 -0.1168 -0.1957  0.1860  0.0149  0.0009 -0.0184 -0.1284\n",
       " 0.0694 -0.1466 -0.1833 -0.0005  0.1496  0.2499  0.0780  0.0397 -0.2565  0.0570\n",
       "-0.1890  0.0231 -0.0949  0.1517 -0.1391 -0.1605 -0.2430  0.1898  0.2065 -0.1279\n",
       " 0.0473 -0.1930  0.1058 -0.0197  0.1906  0.1778 -0.0679 -0.1921 -0.0023  0.1192\n",
       "\n",
       "Columns 10 to 19 \n",
       "-0.1695 -0.0598 -0.1701  0.0149 -0.2031  0.2148 -0.1891  0.0689  0.0591 -0.1257\n",
       " 0.1277 -0.1224  0.2963  0.2489  0.1271  0.1633 -0.0926 -0.0980 -0.2032 -0.2423\n",
       " 0.1167 -0.0687 -0.1734 -0.0479 -0.2077 -0.0264 -0.0761  0.1770 -0.1146  0.1713\n",
       "-0.2150  0.1811  0.0998  0.0467 -0.1494 -0.1189 -0.0092  0.1055  0.3386  0.1987\n",
       "-0.2735 -0.2123  0.1223  0.2049  0.0101  0.1244  0.0426 -0.0421 -0.0820  0.1457\n",
       " 0.0963  0.1331 -0.1304  0.1503  0.1933  0.1179 -0.1613  0.0443  0.0329 -0.0719\n",
       " 0.0368 -0.0385 -0.1497 -0.0576  0.0928  0.2313 -0.1072  0.0267 -0.0627 -0.1674\n",
       "-0.1469 -0.1223 -0.1754  0.1157 -0.1958  0.0317 -0.1691 -0.1350  0.0235  0.0256\n",
       " 0.2433 -0.1984  0.1639  0.0232  0.0666 -0.1010 -0.2108  0.2711 -0.1760 -0.0365\n",
       "-0.2437  0.1652  0.2144 -0.0828  0.0587 -0.0659 -0.1246  0.2422 -0.0524 -0.1758\n",
       "-0.0926  0.0512 -0.0593  0.2246 -0.1753  0.1817 -0.1165 -0.2409  0.0234 -0.0577\n",
       "-0.1517  0.2287  0.0244  0.1310 -0.0024  0.2262 -0.2664  0.1822 -0.2209  0.0365\n",
       " 0.0919  0.1046 -0.0392 -0.1797  0.1065  0.1094 -0.2207  0.2719  0.1080  0.2112\n",
       "-0.1816  0.0229 -0.2284  0.2042  0.1565 -0.0229 -0.0920 -0.0303 -0.1044  0.1037\n",
       "\n",
       "Columns 20 to 20 \n",
       "-0.0297\n",
       " 0.0959\n",
       "-0.1923\n",
       " 0.1058\n",
       "-0.1013\n",
       "-0.1492\n",
       " 0.0606\n",
       " 0.1854\n",
       "-0.0234\n",
       "-0.1836\n",
       "-0.2131\n",
       "-0.1627\n",
       " 0.1793\n",
       "-0.2739\n",
       "[torch.FloatTensor of size 14x21]"
      ]
     },
     "execution_count": 44,
     "metadata": {},
     "output_type": "execute_result"
    }
   ],
   "source": [
    "model[(2)].weight"
   ]
  },
  {
   "cell_type": "code",
   "execution_count": 45,
   "metadata": {
    "collapsed": false
   },
   "outputs": [
    {
     "data": {
      "text/plain": [
       "Parameter containing:\n",
       "\n",
       "Columns 0 to 9 \n",
       "-0.0130  0.7775  0.1643  0.4692 -0.4109 -0.2126  0.1602 -0.0044  0.3798 -0.4078\n",
       "\n",
       "Columns 10 to 13 \n",
       "-0.2859 -0.3885 -0.3067  0.2955\n",
       "[torch.FloatTensor of size 1x14]"
      ]
     },
     "execution_count": 45,
     "metadata": {},
     "output_type": "execute_result"
    }
   ],
   "source": [
    "model[(4)].weight"
   ]
  },
  {
   "cell_type": "markdown",
   "metadata": {},
   "source": [
    "## Round 3: Three-Hidden-Layers Neural Network"
   ]
  },
  {
   "cell_type": "code",
   "execution_count": 46,
   "metadata": {
    "collapsed": true
   },
   "outputs": [],
   "source": [
    "# Make the torch Tensor into a PyTorch Variable for dependent variables\n",
    "outcomes_Variable = Variable(outcomes_Tensor)\n",
    "\n",
    "\n",
    "# ...for independent variables\n",
    "features_Variable = Variable(features_Tensor,\n",
    "                             requires_grad = False)"
   ]
  },
  {
   "cell_type": "code",
   "execution_count": 47,
   "metadata": {
    "collapsed": false
   },
   "outputs": [],
   "source": [
    "# Make the neural network\n",
    "model = torch.nn.Sequential(torch.nn.Linear(31, 21),\n",
    "                            torch.nn.ReLU(),\n",
    "                            torch.nn.Linear(21, 14),\n",
    "                            torch.nn.ReLU(),\n",
    "                            torch.nn.Linear(14, 9),\n",
    "                            torch.nn.ReLU(),\n",
    "                            torch.nn.Linear(9, 1))"
   ]
  },
  {
   "cell_type": "code",
   "execution_count": 48,
   "metadata": {
    "collapsed": false
   },
   "outputs": [],
   "source": [
    "# To add errors to\n",
    "errors = []\n",
    "\n",
    "\n",
    "# Set the learning rate\n",
    "learning_rate = 5e-6\n",
    "\n",
    "\n",
    "# Train the neural network\n",
    "for t in range(10000):\n",
    "    \n",
    "    # Get the current predictions\n",
    "    y_pred = model(features_Variable)\n",
    "    \n",
    "    # Compute and append current summed errors\n",
    "    loss = loss_fn(y_pred, outcomes_Variable)\n",
    "    errors.append(loss.data[0])\n",
    "    \n",
    "    # Zero the gradients before running the backward pass.\n",
    "    model.zero_grad()\n",
    "    \n",
    "    # Backward pass: compute gradient of the loss with respect to all the learnable Variables\n",
    "    loss.backward()\n",
    "    \n",
    "    # Update the weights using gradient descent\n",
    "    for param in model.parameters():\n",
    "        param.data -= learning_rate * param.grad.data"
   ]
  },
  {
   "cell_type": "code",
   "execution_count": 49,
   "metadata": {
    "collapsed": false
   },
   "outputs": [
    {
     "data": {
      "text/plain": [
       "<matplotlib.collections.PathCollection at 0x7f87783f5860>"
      ]
     },
     "execution_count": 49,
     "metadata": {},
     "output_type": "execute_result"
    },
    {
     "data": {
      "image/png": "[encoded data removed]",
      "text/plain": [
       "<matplotlib.figure.Figure at 0x7f87784be0b8>"
      ]
     },
     "metadata": {},
     "output_type": "display_data"
    }
   ],
   "source": [
    "# Plot summed error as a function of iteration\n",
    "plt.scatter(iterations, errors)"
   ]
  },
  {
   "cell_type": "code",
   "execution_count": 50,
   "metadata": {
    "collapsed": true
   },
   "outputs": [],
   "source": [
    "# Get rid of the 2nd dimension of 1 from the FloatTensor\n",
    "y_pred_resized = y_pred.resize(8270)\n",
    "\n",
    "\n",
    "# Make the FloatTensor into a numpy.array\n",
    "y_pred_array = y_pred_resized.data.numpy()\n",
    "\n",
    "\n",
    "# Make the numpy.array into a list\n",
    "y_pred_list = y_pred_array.tolist()"
   ]
  },
  {
   "cell_type": "code",
   "execution_count": 51,
   "metadata": {
    "collapsed": false
   },
   "outputs": [
    {
     "data": {
      "text/plain": [
       "[<matplotlib.lines.Line2D at 0x7f877843a6d8>]"
      ]
     },
     "execution_count": 51,
     "metadata": {},
     "output_type": "execute_result"
    },
    {
     "data": {
      "image/png": "[encoded data removed]",
      "text/plain": [
       "<matplotlib.figure.Figure at 0x7f877843a048>"
      ]
     },
     "metadata": {},
     "output_type": "display_data"
    }
   ],
   "source": [
    "# Plot predictions versus training set outcomes\n",
    "plt.scatter(outcomes_list, y_pred_list)\n",
    "\n",
    "axes = plt.gca()\n",
    "\n",
    "axes.set_xlim([-2, 4])\n",
    "\n",
    "axes.set_ylim([-2, 4])\n",
    "\n",
    "plt.plot([-2, 4], [-2, 4], 'k-', lw=2)"
   ]
  },
  {
   "cell_type": "markdown",
   "metadata": {},
   "source": [
    "### Round 3.1: Validation Set Performance"
   ]
  },
  {
   "cell_type": "code",
   "execution_count": 52,
   "metadata": {
    "collapsed": false
   },
   "outputs": [
    {
     "data": {
      "text/plain": [
       "Variable containing:\n",
       " 273.9955\n",
       "[torch.FloatTensor of size 1]"
      ]
     },
     "execution_count": 52,
     "metadata": {},
     "output_type": "execute_result"
    }
   ],
   "source": [
    "# Get the validation set predictions\n",
    "y_valid_pred = model(valid_predictors_Variable)\n",
    "\n",
    "\n",
    "# Print the loss\n",
    "loss_fn(y_valid_pred,\n",
    "        valid_outcomes_Variable)"
   ]
  },
  {
   "cell_type": "code",
   "execution_count": 53,
   "metadata": {
    "collapsed": false
   },
   "outputs": [],
   "source": [
    "# Get rid of the 2nd dimension of 1 from the FloatTensor\n",
    "y_valid_pred_resized = y_valid_pred.resize(2709)\n",
    "\n",
    "\n",
    "# Make the FloatTensor into a numpy.array\n",
    "y_valid_pred_array = y_valid_pred_resized.data.numpy()\n",
    "\n",
    "\n",
    "# Make the numpy.array into a list\n",
    "y_valid_pred_list = y_valid_pred_array.tolist()"
   ]
  },
  {
   "cell_type": "code",
   "execution_count": 54,
   "metadata": {
    "collapsed": false
   },
   "outputs": [
    {
     "data": {
      "text/plain": [
       "[<matplotlib.lines.Line2D at 0x7f87783e9320>]"
      ]
     },
     "execution_count": 54,
     "metadata": {},
     "output_type": "execute_result"
    },
    {
     "data": {
      "image/png": "[encoded data removed]",
      "text/plain": [
       "<matplotlib.figure.Figure at 0x7f87783e93c8>"
      ]
     },
     "metadata": {},
     "output_type": "display_data"
    }
   ],
   "source": [
    "# Plot new predictions versus new data outcomes\n",
    "plt.scatter(valid_outcomes_list, y_valid_pred_list)\n",
    "\n",
    "axes = plt.gca()\n",
    "\n",
    "axes.set_xlim([-2, 4])\n",
    "\n",
    "axes.set_ylim([-2, 4])\n",
    "\n",
    "plt.plot([-2, 4], [-2, 4], 'k-', lw=2)"
   ]
  },
  {
   "cell_type": "markdown",
   "metadata": {},
   "source": [
    "### Round 3.2: Test Set Performance"
   ]
  },
  {
   "cell_type": "code",
   "execution_count": 55,
   "metadata": {
    "collapsed": false
   },
   "outputs": [
    {
     "data": {
      "text/plain": [
       "Variable containing:\n",
       " 268.9133\n",
       "[torch.FloatTensor of size 1]"
      ]
     },
     "execution_count": 55,
     "metadata": {},
     "output_type": "execute_result"
    }
   ],
   "source": [
    "# Get the validation set predictions\n",
    "y_test_pred = model(test_predictors_Variable)\n",
    "\n",
    "\n",
    "# Print the loss\n",
    "loss_fn(y_test_pred,\n",
    "        test_outcomes_Variable)"
   ]
  },
  {
   "cell_type": "code",
   "execution_count": 56,
   "metadata": {
    "collapsed": true
   },
   "outputs": [],
   "source": [
    "# Get rid of the 2nd dimension of 1 from the FloatTensor\n",
    "y_test_pred_resized = y_test_pred.resize(2712)\n",
    "\n",
    "\n",
    "# Make the FloatTensor into a numpy.array\n",
    "y_test_pred_array = y_test_pred_resized.data.numpy()\n",
    "\n",
    "\n",
    "# Convert back to native units and scale\n",
    "y_test_pred_array = y_test_pred_array*5.409956 + 7.691221\n",
    "\n",
    "\n",
    "# Make the numpy.array into a list\n",
    "y_test_pred_list = y_test_pred_array.tolist()"
   ]
  },
  {
   "cell_type": "code",
   "execution_count": 57,
   "metadata": {
    "collapsed": false
   },
   "outputs": [
    {
     "data": {
      "text/plain": [
       "<matplotlib.text.Text at 0x7f877827fc50>"
      ]
     },
     "execution_count": 57,
     "metadata": {},
     "output_type": "execute_result"
    },
    {
     "data": {
      "image/png": "[encoded data removed]",
      "text/plain": [
       "<matplotlib.figure.Figure at 0x7f87784f6b00>"
      ]
     },
     "metadata": {},
     "output_type": "display_data"
    }
   ],
   "source": [
    "# Plot new predictions versus new data outcomes\n",
    "plt.scatter(test_outcomes_list, y_test_pred_list)\n",
    "\n",
    "axes = plt.gca()\n",
    "\n",
    "axes.set_xlim([2, 23])\n",
    "\n",
    "axes.set_ylim([2, 23])\n",
    "\n",
    "axes.set_xticks([2, 5, 8, 11, 14, 17, 20, 23])\n",
    "\n",
    "axes.set_yticks([2, 5, 8, 11, 14, 17, 20, 23])\n",
    "\n",
    "plt.plot([2, 23], [2, 23], 'k-', lw=2)\n",
    "\n",
    "axes.set_xlabel(\"Actual Outcome (Log-Transformed US Dollars)\")\n",
    "\n",
    "axes.set_ylabel(\"Model Prediction (Log-Transformed US Dollars)\")\n",
    "\n",
    "axes.set_title(\"Model Performance\")"
   ]
  },
  {
   "cell_type": "code",
   "execution_count": 58,
   "metadata": {
    "collapsed": false
   },
   "outputs": [
    {
     "data": {
      "text/plain": [
       "Parameter containing:\n",
       "\n",
       "Columns 0 to 9 \n",
       " 0.1973  0.1380 -0.1418  0.0387 -0.0324  0.0072 -0.0117  0.1392 -0.1079 -0.0605\n",
       " 0.1445  0.0828 -0.1440  0.0098  0.1889  0.0402  0.1402  0.0329  0.1189 -0.0453\n",
       "-0.0959 -0.2106  0.0500 -0.0394  0.1441 -0.0162  0.0456 -0.0690 -0.0414 -0.1826\n",
       "-0.1219  0.1894 -0.1292  0.1268 -0.2433 -0.0626  0.0792  0.0609 -0.0579 -0.0638\n",
       "-0.0525  0.1823  0.1478 -0.0667  0.2093  0.0370  0.0461 -0.0066  0.0178 -0.1742\n",
       " 0.0058 -0.0220 -0.2049  0.1119 -0.0715 -0.2041  0.1438 -0.0320 -0.1045 -0.0258\n",
       " 0.1052  0.1534 -0.0291  0.0082  0.0757 -0.0109 -0.1085  0.0326  0.0779  0.1431\n",
       " 0.0200 -0.0574  0.1338  0.2823 -0.1499 -0.0291 -0.0596  0.2055 -0.1085 -0.0382\n",
       " 0.1047 -0.0245 -0.1022  0.0892 -0.1112 -0.2132  0.0883 -0.0770 -0.0368  0.0635\n",
       "-0.0156 -0.2675 -0.2571 -0.0023  0.1722  0.0657  0.1130  0.0431  0.1788  0.0880\n",
       "-0.0489  0.0193 -0.2112 -0.0599 -0.1604 -0.0036  0.0053 -0.0333 -0.0335 -0.0398\n",
       "-0.1044 -0.1486 -0.0601 -0.0444  0.2169  0.1178  0.0188 -0.1013 -0.0065  0.0146\n",
       "-0.0652 -0.0761  0.0397  0.3149  0.1381 -0.0073  0.0372 -0.0913 -0.1481  0.1410\n",
       "-0.0776  0.1301  0.1749 -0.1271  0.0213 -0.0900  0.0114 -0.0469 -0.0223  0.1086\n",
       "-0.0038  0.1159  0.0881 -0.0171  0.1466  0.0059 -0.0761 -0.0016  0.1242 -0.1594\n",
       " 0.1199 -0.0638  0.1705 -0.0842  0.0265  0.0529  0.0525 -0.1671  0.0869  0.1613\n",
       " 0.0658 -0.1353  0.0815  0.1421  0.1760 -0.0042 -0.0617 -0.0539 -0.0771 -0.0532\n",
       "-0.2083  0.0054  0.1094  0.0543 -0.1030  0.2201  0.0363 -0.0363 -0.0732  0.0284\n",
       " 0.1038 -0.1654 -0.0451  0.0284  0.2733 -0.0272  0.1063  0.0865  0.1890  0.1496\n",
       "-0.0819 -0.1704  0.0290 -0.1755 -0.0716 -0.0668  0.1374  0.0002 -0.0307 -0.1188\n",
       "-0.1549  0.2147  0.1753  0.1410 -0.1127 -0.1987  0.1047 -0.1714  0.0869 -0.0130\n",
       "\n",
       "Columns 10 to 19 \n",
       "-0.1711  0.2092  0.0464  0.0234  0.1876 -0.0947 -0.0698  0.0501 -0.0261  0.1349\n",
       " 0.1517 -0.0096  0.0910 -0.0894  0.0957 -0.1072 -0.0095 -0.0859 -0.1526  0.0971\n",
       " 0.0432 -0.0155  0.0296 -0.0389 -0.0688 -0.0776 -0.0031  0.1787  0.1148  0.0075\n",
       " 0.1941 -0.0825  0.1161  0.0244 -0.0272 -0.1737 -0.0590  0.0250 -0.1212  0.0149\n",
       "-0.1169 -0.1372  0.1826 -0.1284 -0.0538 -0.0066  0.1613  0.1275 -0.1714  0.0436\n",
       "-0.0391 -0.0064 -0.0632  0.0531 -0.2526 -0.0678  0.1176 -0.0319 -0.0850 -0.0783\n",
       " 0.0140  0.0996 -0.1055 -0.0804  0.0212 -0.0927 -0.2246 -0.1112  0.1489 -0.0073\n",
       "-0.0298  0.1299  0.1631 -0.0014 -0.1677  0.0443  0.0345  0.0593 -0.1565  0.0919\n",
       "-0.0214  0.1687  0.0341  0.1151  0.1304 -0.1229  0.0546  0.0257  0.1977  0.0612\n",
       "-0.0992 -0.2451 -0.0198  0.0437  0.0094 -0.1419  0.0705  0.1298 -0.0212 -0.0146\n",
       "-0.0258 -0.1000 -0.1412  0.1184  0.1320 -0.0567  0.1489  0.0644  0.1008  0.0711\n",
       "-0.0272 -0.0554 -0.1452  0.1327 -0.0660 -0.1507  0.1084 -0.1009 -0.1130  0.1951\n",
       " 0.0224  0.0239  0.0439  0.1442 -0.1304  0.0845  0.0344  0.0355  0.0991 -0.0554\n",
       "-0.0127  0.1959 -0.0571 -0.1818  0.1065 -0.1060  0.1264  0.1788  0.1680 -0.1310\n",
       " 0.2166  0.0887 -0.1064  0.1489 -0.0840 -0.1616  0.0781  0.1307 -0.0368 -0.1007\n",
       "-0.1269 -0.0868 -0.0912  0.0542  0.0929 -0.0364  0.0123 -0.1346  0.0624 -0.0262\n",
       " 0.2142 -0.1927 -0.0849 -0.0047  0.0463  0.0038  0.0287 -0.0549 -0.0611  0.1106\n",
       "-0.1106  0.0876  0.0426  0.0467 -0.0883 -0.2408  0.1612 -0.1159  0.0389 -0.0781\n",
       "-0.0480 -0.0532  0.1094  0.1242 -0.0152 -0.0378  0.2818 -0.1156 -0.0764  0.0356\n",
       " 0.0255 -0.0671  0.0964 -0.1269  0.0364  0.1255 -0.0661 -0.0486  0.1389  0.1147\n",
       "-0.0688  0.0641 -0.0326 -0.0996  0.0087 -0.0592  0.0742 -0.0249 -0.0440 -0.0884\n",
       "\n",
       "Columns 20 to 29 \n",
       " 0.0413  0.0921  0.1086 -0.1105  0.1397 -0.1478 -0.1044 -0.0909  0.0312 -0.0710\n",
       " 0.1570 -0.0643  0.0636  0.0857 -0.1451 -0.1430 -0.0632 -0.0898  0.1011 -0.1062\n",
       " 0.0278  0.1178  0.0560  0.0242  0.0570 -0.0495  0.1546  0.1143  0.0154 -0.1863\n",
       "-0.0738  0.1820 -0.1381  0.0371 -0.0308  0.0652 -0.0506  0.0292  0.0023 -0.0233\n",
       " 0.0174 -0.1891 -0.0625 -0.1806  0.0007 -0.1043  0.1679 -0.0692 -0.1169  0.2158\n",
       "-0.0386 -0.2355 -0.1504  0.1582  0.0945 -0.0488 -0.0618  0.0047  0.0806  0.0264\n",
       "-0.0467  0.0152  0.2316  0.2172  0.1935 -0.1274 -0.0166 -0.1489  0.1168  0.1712\n",
       "-0.0340 -0.0251  0.1045 -0.0841 -0.0024  0.1160  0.1086  0.0326 -0.2222  0.1580\n",
       " 0.1272 -0.0991 -0.1805  0.1007 -0.1128  0.1109 -0.1534 -0.0744  0.1043 -0.0979\n",
       " 0.0410  0.1145 -0.0201  0.1610 -0.0735 -0.0569  0.0114  0.0272 -0.1597 -0.1398\n",
       " 0.1399  0.1070  0.0645 -0.1357 -0.0741 -0.0240 -0.1419 -0.0713 -0.1399  0.0089\n",
       "-0.1557 -0.1995  0.0123 -0.1860 -0.1030 -0.0674 -0.1818  0.1114 -0.1754 -0.0759\n",
       "-0.0058 -0.0050 -0.0550  0.0730 -0.0774  0.0394  0.1518  0.0538 -0.1456 -0.2468\n",
       "-0.0539  0.0176  0.0620  0.1247  0.0230  0.1384 -0.0374 -0.1448  0.0556  0.1125\n",
       " 0.0680  0.0050  0.0985  0.0616  0.1526 -0.1252  0.1654  0.1121  0.0714  0.1412\n",
       " 0.0818 -0.1886 -0.0484  0.0111 -0.1288  0.1008 -0.0759 -0.0253 -0.0747  0.0088\n",
       " 0.0762 -0.0512  0.0782 -0.0384 -0.0853 -0.1313 -0.0241 -0.0658  0.1336  0.1236\n",
       " 0.1292  0.2090  0.0642  0.0406 -0.0144 -0.0028 -0.0351  0.1382 -0.0029 -0.0149\n",
       "-0.0590 -0.1284  0.0049  0.0923  0.0326 -0.0420  0.1359  0.0098  0.0518  0.0427\n",
       "-0.1278  0.0880 -0.0180  0.1143  0.1318 -0.1265 -0.2207  0.0303 -0.0307  0.1557\n",
       " 0.0820  0.0798  0.1049  0.1036  0.0463  0.0227  0.2296 -0.0817  0.0795 -0.2013\n",
       "\n",
       "Columns 30 to 30 \n",
       " 0.0684\n",
       " 0.1448\n",
       " 0.0212\n",
       "-0.2192\n",
       "-0.1031\n",
       "-0.2678\n",
       " 0.0037\n",
       " 0.1216\n",
       "-0.1024\n",
       " 0.0358\n",
       " 0.0047\n",
       " 0.0375\n",
       "-0.0311\n",
       " 0.2077\n",
       "-0.0348\n",
       "-0.1613\n",
       " 0.0675\n",
       " 0.1503\n",
       "-0.1363\n",
       "-0.0072\n",
       "-0.0957\n",
       "[torch.FloatTensor of size 21x31]"
      ]
     },
     "execution_count": 58,
     "metadata": {},
     "output_type": "execute_result"
    }
   ],
   "source": [
    "model[(0)].weight"
   ]
  },
  {
   "cell_type": "code",
   "execution_count": 59,
   "metadata": {
    "collapsed": false
   },
   "outputs": [
    {
     "data": {
      "text/plain": [
       "Parameter containing:\n",
       "\n",
       "Columns 0 to 9 \n",
       " 0.0147  0.0244  0.0885  0.2747  0.1712 -0.1544  0.0204  0.0313  0.0381 -0.1849\n",
       "-0.0670  0.1011  0.1667 -0.3175 -0.0320  0.0150  0.2023  0.1449 -0.0603  0.2510\n",
       "-0.1927  0.0286 -0.1020 -0.1079  0.2305 -0.1430  0.1430  0.0046 -0.1766 -0.2251\n",
       "-0.0568 -0.1017  0.1143  0.0076 -0.0038 -0.0807  0.0145  0.1446 -0.1739 -0.1898\n",
       "-0.1075  0.1513  0.1228 -0.2012 -0.1362 -0.0809 -0.1636  0.0241 -0.0007 -0.0403\n",
       " 0.0955 -0.1120 -0.1737  0.0459 -0.2303 -0.0691  0.2632 -0.0136 -0.1383 -0.0703\n",
       " 0.0188  0.1554  0.0398  0.1046  0.1445 -0.3042  0.1821  0.1432 -0.1249 -0.1556\n",
       "-0.1039  0.1313 -0.1667  0.0351 -0.1006 -0.2082  0.1761  0.0160  0.0578  0.2230\n",
       "-0.1581 -0.1410  0.0314 -0.0909  0.1522  0.1275  0.1630 -0.1938 -0.1874  0.1090\n",
       "-0.2074 -0.0376  0.0357 -0.1621  0.1843  0.0117 -0.0916 -0.1293  0.1505 -0.1704\n",
       " 0.1363  0.1629 -0.2113 -0.2110 -0.0052 -0.1801 -0.0524 -0.0340 -0.1238  0.0710\n",
       "-0.1831  0.2203 -0.1856  0.0711 -0.2130  0.2256 -0.0556  0.2637  0.1725 -0.1988\n",
       " 0.0320  0.0666  0.2045  0.1194  0.2083 -0.1743  0.1051  0.0993 -0.0395  0.1226\n",
       " 0.1467 -0.0006 -0.1843  0.0746 -0.1041 -0.2175  0.1716 -0.1366  0.0961  0.1533\n",
       "\n",
       "Columns 10 to 19 \n",
       "-0.1821  0.0649  0.1388 -0.0340  0.2530  0.0769 -0.0935 -0.1786 -0.1479  0.1104\n",
       "-0.0674 -0.0879  0.1213  0.0505  0.1828  0.0284  0.1292 -0.2672  0.1452  0.0830\n",
       "-0.0548 -0.1628 -0.1372 -0.0719  0.1858 -0.0923  0.1271  0.0917 -0.0240 -0.0892\n",
       "-0.1609 -0.1162  0.2339 -0.0729 -0.1114 -0.1756  0.0825 -0.1036  0.0876 -0.1720\n",
       " 0.0752 -0.2386  0.0457  0.0333 -0.1569  0.1757  0.2386 -0.0713 -0.0934 -0.0647\n",
       "-0.0071  0.0555  0.0615 -0.1181  0.0232  0.0087 -0.0107  0.0620  0.0823  0.1459\n",
       " 0.0122 -0.3046  0.1381 -0.0892 -0.1240 -0.1497  0.1165 -0.1536  0.1574  0.1171\n",
       "-0.0798  0.1043 -0.1233 -0.2540  0.0524 -0.1088  0.0152 -0.0749 -0.1399  0.2107\n",
       "-0.2076  0.1388  0.1029  0.0823  0.0226  0.0694 -0.0184  0.0661  0.1799 -0.0737\n",
       " 0.0617  0.0779 -0.0844 -0.0722  0.0020  0.1984 -0.1676  0.0743  0.2277  0.1347\n",
       "-0.1233 -0.0809 -0.1300 -0.0993 -0.0777  0.0030  0.0523  0.2009  0.1295 -0.2012\n",
       " 0.1559 -0.0683  0.2203  0.1607 -0.1682 -0.1650 -0.0138 -0.0760 -0.2589  0.0697\n",
       "-0.2062  0.0509  0.0560 -0.1485  0.0193 -0.0151 -0.1074  0.1146  0.1115 -0.1355\n",
       " 0.1845 -0.2028 -0.1611  0.0106 -0.0605 -0.2540 -0.0223 -0.0852 -0.0297  0.0459\n",
       "\n",
       "Columns 20 to 20 \n",
       " 0.1847\n",
       " 0.2449\n",
       " 0.0472\n",
       "-0.0423\n",
       " 0.0474\n",
       "-0.2115\n",
       "-0.1634\n",
       "-0.3237\n",
       "-0.2065\n",
       " 0.1793\n",
       "-0.0110\n",
       "-0.1029\n",
       "-0.1403\n",
       " 0.1703\n",
       "[torch.FloatTensor of size 14x21]"
      ]
     },
     "execution_count": 59,
     "metadata": {},
     "output_type": "execute_result"
    }
   ],
   "source": [
    "model[(2)].weight"
   ]
  },
  {
   "cell_type": "code",
   "execution_count": 60,
   "metadata": {
    "collapsed": false
   },
   "outputs": [
    {
     "data": {
      "text/plain": [
       "Parameter containing:\n",
       "\n",
       "Columns 0 to 9 \n",
       "-0.2518  0.0927  0.0807  0.0667  0.0917  0.1574 -0.2836 -0.0576 -0.1828  0.1486\n",
       " 0.3198  0.4992 -0.2437  0.2810 -0.3292 -0.3106  0.2914 -0.3860 -0.1468  0.1295\n",
       "-0.0240 -0.1451  0.0330 -0.2083 -0.1300 -0.2306  0.0736 -0.0399 -0.2432  0.1109\n",
       " 0.0568 -0.0951 -0.0412  0.0705  0.1516 -0.0569  0.2000  0.2404  0.1904  0.2501\n",
       " 0.0825 -0.1021 -0.1683 -0.1634 -0.0950  0.2001 -0.0713 -0.0814 -0.1873  0.0433\n",
       " 0.1483 -0.1080 -0.0982 -0.2189 -0.1064  0.2087 -0.2230  0.1275  0.1194  0.1503\n",
       "-0.2113 -0.0888 -0.1159  0.1401 -0.2269 -0.1423 -0.1000  0.2487 -0.2593  0.0108\n",
       "-0.0613 -0.0938  0.2245  0.0844 -0.1474  0.2153 -0.0480  0.2012  0.0165  0.1493\n",
       "-0.1598 -0.0167 -0.2290  0.0706  0.1304 -0.2525 -0.2465  0.0745 -0.1148  0.0959\n",
       "\n",
       "Columns 10 to 13 \n",
       "-0.1439 -0.0928 -0.0814  0.0156\n",
       "-0.0146 -0.4608  0.1953  0.2125\n",
       " 0.2327  0.0601 -0.0020  0.0310\n",
       "-0.1937 -0.0373 -0.0070  0.1239\n",
       " 0.1081  0.1501 -0.2637  0.2529\n",
       "-0.2198 -0.1421  0.2847 -0.2914\n",
       " 0.0846  0.2478  0.0957  0.0445\n",
       "-0.0052 -0.2327  0.2112 -0.0980\n",
       "-0.1244 -0.1824 -0.2554  0.0034\n",
       "[torch.FloatTensor of size 9x14]"
      ]
     },
     "execution_count": 60,
     "metadata": {},
     "output_type": "execute_result"
    }
   ],
   "source": [
    "model[(4)].weight"
   ]
  },
  {
   "cell_type": "code",
   "execution_count": 61,
   "metadata": {
    "collapsed": false
   },
   "outputs": [
    {
     "data": {
      "text/plain": [
       "Parameter containing:\n",
       "-0.2715  0.9752 -0.1971  0.1135  0.0759 -0.4228 -0.2449 -0.1923  0.0256\n",
       "[torch.FloatTensor of size 1x9]"
      ]
     },
     "execution_count": 61,
     "metadata": {},
     "output_type": "execute_result"
    }
   ],
   "source": [
    "model[(6)].weight"
   ]
  },
  {
   "cell_type": "markdown",
   "metadata": {},
   "source": [
    "## Round 4: Four-Hidden-Layer Neural Network"
   ]
  },
  {
   "cell_type": "code",
   "execution_count": 62,
   "metadata": {
    "collapsed": true
   },
   "outputs": [],
   "source": [
    "# Make the torch Tensor into a PyTorch Variable for dependent variables\n",
    "outcomes_Variable = Variable(outcomes_Tensor)\n",
    "\n",
    "\n",
    "# ...for independent variables\n",
    "features_Variable = Variable(features_Tensor,\n",
    "                             requires_grad = False)"
   ]
  },
  {
   "cell_type": "code",
   "execution_count": 63,
   "metadata": {
    "collapsed": true
   },
   "outputs": [],
   "source": [
    "# Make the neural network\n",
    "model = torch.nn.Sequential(torch.nn.Linear(31, 21),\n",
    "                            torch.nn.ReLU(),\n",
    "                            torch.nn.Linear(21, 14),\n",
    "                            torch.nn.ReLU(),\n",
    "                            torch.nn.Linear(14, 9),\n",
    "                            torch.nn.ReLU(),\n",
    "                            torch.nn.Linear(9, 6),\n",
    "                            torch.nn.ReLU(),\n",
    "                            torch.nn.Linear(6, 1))"
   ]
  },
  {
   "cell_type": "code",
   "execution_count": 64,
   "metadata": {
    "collapsed": true
   },
   "outputs": [],
   "source": [
    "# To add errors to\n",
    "errors = []\n",
    "\n",
    "\n",
    "# Set the learning rate\n",
    "learning_rate = 5e-6\n",
    "\n",
    "\n",
    "# Train the neural network\n",
    "for t in range(10000):\n",
    "    \n",
    "    # Get the current predictions\n",
    "    y_pred = model(features_Variable)\n",
    "    \n",
    "    # Compute and append current summed errors\n",
    "    loss = loss_fn(y_pred, outcomes_Variable)\n",
    "    errors.append(loss.data[0])\n",
    "    \n",
    "    # Zero the gradients before running the backward pass.\n",
    "    model.zero_grad()\n",
    "    \n",
    "    # Backward pass: compute gradient of the loss with respect to all the learnable Variables\n",
    "    loss.backward()\n",
    "    \n",
    "    # Update the weights using gradient descent\n",
    "    for param in model.parameters():\n",
    "        param.data -= learning_rate * param.grad.data"
   ]
  },
  {
   "cell_type": "code",
   "execution_count": 65,
   "metadata": {
    "collapsed": false
   },
   "outputs": [
    {
     "data": {
      "text/plain": [
       "<matplotlib.collections.PathCollection at 0x7f87781b9780>"
      ]
     },
     "execution_count": 65,
     "metadata": {},
     "output_type": "execute_result"
    },
    {
     "data": {
      "image/png": "[encoded data removed]",
      "text/plain": [
       "<matplotlib.figure.Figure at 0x7f8778250048>"
      ]
     },
     "metadata": {},
     "output_type": "display_data"
    }
   ],
   "source": [
    "# Plot summed error as a function of iteration\n",
    "plt.scatter(iterations, errors)"
   ]
  },
  {
   "cell_type": "code",
   "execution_count": 66,
   "metadata": {
    "collapsed": false
   },
   "outputs": [],
   "source": [
    "# Get rid of the 2nd dimension of 1 from the FloatTensor\n",
    "y_pred_resized = y_pred.resize(8270)\n",
    "\n",
    "\n",
    "# Make the FloatTensor into a numpy.array\n",
    "y_pred_array = y_pred_resized.data.numpy()\n",
    "\n",
    "\n",
    "# Make the numpy.array into a list\n",
    "y_pred_list = y_pred_array.tolist()"
   ]
  },
  {
   "cell_type": "code",
   "execution_count": 67,
   "metadata": {
    "collapsed": false
   },
   "outputs": [
    {
     "data": {
      "text/plain": [
       "[<matplotlib.lines.Line2D at 0x7f878009a208>]"
      ]
     },
     "execution_count": 67,
     "metadata": {},
     "output_type": "execute_result"
    },
    {
     "data": {
      "image/png": "[encoded data removed]",
      "text/plain": [
       "<matplotlib.figure.Figure at 0x7f878009a3c8>"
      ]
     },
     "metadata": {},
     "output_type": "display_data"
    }
   ],
   "source": [
    "# Plot predictions versus training set outcomes\n",
    "plt.scatter(outcomes_list, y_pred_list)\n",
    "\n",
    "axes = plt.gca()\n",
    "\n",
    "axes.set_xlim([-2, 4])\n",
    "\n",
    "axes.set_ylim([-2, 4])\n",
    "\n",
    "plt.plot([-2, 4], [-2, 4], 'k-', lw=2)"
   ]
  },
  {
   "cell_type": "markdown",
   "metadata": {},
   "source": [
    "### Round 4.1: Validation Set Performance"
   ]
  },
  {
   "cell_type": "code",
   "execution_count": 68,
   "metadata": {
    "collapsed": false
   },
   "outputs": [
    {
     "data": {
      "text/plain": [
       "Variable containing:\n",
       " 272.6921\n",
       "[torch.FloatTensor of size 1]"
      ]
     },
     "execution_count": 68,
     "metadata": {},
     "output_type": "execute_result"
    }
   ],
   "source": [
    "# Get the validation set predictions\n",
    "y_valid_pred = model(valid_predictors_Variable)\n",
    "\n",
    "\n",
    "# Print the loss\n",
    "loss_fn(y_valid_pred,\n",
    "        valid_outcomes_Variable)"
   ]
  },
  {
   "cell_type": "code",
   "execution_count": 69,
   "metadata": {
    "collapsed": true
   },
   "outputs": [],
   "source": [
    "# Get rid of the 2nd dimension of 1 from the FloatTensor\n",
    "y_valid_pred_resized = y_valid_pred.resize(2709)\n",
    "\n",
    "\n",
    "# Make the FloatTensor into a numpy.array\n",
    "y_valid_pred_array = y_valid_pred_resized.data.numpy()\n",
    "\n",
    "\n",
    "# Make the numpy.array into a list\n",
    "y_valid_pred_list = y_valid_pred_array.tolist()"
   ]
  },
  {
   "cell_type": "code",
   "execution_count": 70,
   "metadata": {
    "collapsed": false
   },
   "outputs": [
    {
     "data": {
      "text/plain": [
       "[<matplotlib.lines.Line2D at 0x7f87783906a0>]"
      ]
     },
     "execution_count": 70,
     "metadata": {},
     "output_type": "execute_result"
    },
    {
     "data": {
      "image/png": "[encoded data removed]",
      "text/plain": [
       "<matplotlib.figure.Figure at 0x7f87783904a8>"
      ]
     },
     "metadata": {},
     "output_type": "display_data"
    }
   ],
   "source": [
    "# Plot new predictions versus new data outcomes\n",
    "plt.scatter(valid_outcomes_list, y_valid_pred_list)\n",
    "\n",
    "axes = plt.gca()\n",
    "\n",
    "axes.set_xlim([-2, 4])\n",
    "\n",
    "axes.set_ylim([-2, 4])\n",
    "\n",
    "plt.plot([-2, 4], [-2, 4], 'k-', lw=2)"
   ]
  },
  {
   "cell_type": "markdown",
   "metadata": {},
   "source": [
    "### Round 4.2: Test Set Performance"
   ]
  },
  {
   "cell_type": "code",
   "execution_count": 71,
   "metadata": {
    "collapsed": false
   },
   "outputs": [
    {
     "data": {
      "text/plain": [
       "Variable containing:\n",
       " 269.7614\n",
       "[torch.FloatTensor of size 1]"
      ]
     },
     "execution_count": 71,
     "metadata": {},
     "output_type": "execute_result"
    }
   ],
   "source": [
    "# Get the validation set predictions\n",
    "y_test_pred = model(test_predictors_Variable)\n",
    "\n",
    "\n",
    "# Print the loss\n",
    "loss_fn(y_test_pred,\n",
    "        test_outcomes_Variable)"
   ]
  },
  {
   "cell_type": "code",
   "execution_count": 72,
   "metadata": {
    "collapsed": true
   },
   "outputs": [],
   "source": [
    "# Get rid of the 2nd dimension of 1 from the FloatTensor\n",
    "y_test_pred_resized = y_test_pred.resize(2712)\n",
    "\n",
    "\n",
    "# Make the FloatTensor into a numpy.array\n",
    "y_test_pred_array = y_test_pred_resized.data.numpy()\n",
    "\n",
    "\n",
    "# Convert back to native units and scale\n",
    "y_test_pred_array = y_test_pred_array*5.409956 + 7.691221\n",
    "\n",
    "\n",
    "# Make the numpy.array into a list\n",
    "y_test_pred_list = y_test_pred_array.tolist()"
   ]
  },
  {
   "cell_type": "code",
   "execution_count": 73,
   "metadata": {
    "collapsed": false
   },
   "outputs": [
    {
     "data": {
      "text/plain": [
       "<matplotlib.text.Text at 0x7f8778044518>"
      ]
     },
     "execution_count": 73,
     "metadata": {},
     "output_type": "execute_result"
    },
    {
     "data": {
      "image/png": "[encoded data removed]",
      "text/plain": [
       "<matplotlib.figure.Figure at 0x7f877835d320>"
      ]
     },
     "metadata": {},
     "output_type": "display_data"
    }
   ],
   "source": [
    "# Plot new predictions versus new data outcomes\n",
    "plt.scatter(test_outcomes_list, y_test_pred_list)\n",
    "\n",
    "axes = plt.gca()\n",
    "\n",
    "axes.set_xlim([2, 23])\n",
    "\n",
    "axes.set_ylim([2, 23])\n",
    "\n",
    "axes.set_xticks([2, 5, 8, 11, 14, 17, 20, 23])\n",
    "\n",
    "axes.set_yticks([2, 5, 8, 11, 14, 17, 20, 23])\n",
    "\n",
    "plt.plot([2, 23], [2, 23], 'k-', lw=2)\n",
    "\n",
    "axes.set_xlabel(\"Actual Outcome (Log-Transformed US Dollars)\")\n",
    "\n",
    "axes.set_ylabel(\"Model Prediction (Log-Transformed US Dollars)\")\n",
    "\n",
    "axes.set_title(\"Model Performance\")"
   ]
  },
  {
   "cell_type": "code",
   "execution_count": 74,
   "metadata": {
    "collapsed": false
   },
   "outputs": [
    {
     "data": {
      "text/plain": [
       "Parameter containing:\n",
       "\n",
       "Columns 0 to 9 \n",
       "-0.1527 -0.0167 -0.1318  0.0194  0.1850  0.0614  0.0441 -0.0547  0.0713 -0.0538\n",
       " 0.1183 -0.0570  0.1602 -0.1272 -0.0394 -0.1569  0.0989 -0.0479  0.0074  0.1065\n",
       "-0.1159 -0.1688  0.1570  0.0180 -0.1005  0.2578 -0.1776 -0.0076 -0.0673  0.0729\n",
       "-0.0647  0.0159 -0.1405 -0.1921 -0.1096  0.2397  0.0585 -0.0153  0.1251  0.1509\n",
       "-0.1064 -0.0817 -0.0032  0.0165  0.0822  0.1474 -0.0743  0.0461 -0.0949 -0.1272\n",
       " 0.3272  0.0768 -0.0849  0.0210  0.1726 -0.0943  0.0993  0.0972 -0.1132 -0.1447\n",
       "-0.0961 -0.2802 -0.0462 -0.0713  0.0633 -0.0564 -0.1301 -0.0925  0.1798 -0.0794\n",
       " 0.1978  0.0501  0.2425  0.1619  0.2274 -0.0444 -0.0726  0.1131 -0.0676 -0.0488\n",
       "-0.1499 -0.2162  0.0026  0.0506  0.1824 -0.0347  0.0543 -0.0384  0.0981  0.1688\n",
       "-0.1428 -0.0732 -0.1450 -0.1381 -0.2016 -0.0892 -0.0144  0.0747  0.0462  0.0342\n",
       " 0.0525 -0.0439  0.0970  0.1334  0.0213 -0.1258  0.1292  0.1116  0.0664 -0.1298\n",
       "-0.0883  0.1326 -0.0538 -0.0840 -0.1386 -0.0221 -0.1532  0.1736  0.1824  0.1316\n",
       "-0.1183 -0.0062  0.1391  0.1030 -0.0583 -0.1109  0.1053 -0.0854 -0.0838  0.0289\n",
       " 0.1231 -0.1103  0.0701 -0.1011 -0.1683 -0.0428 -0.2417 -0.0775  0.0984  0.0575\n",
       "-0.0101 -0.0879 -0.0548  0.0746 -0.2949 -0.0991  0.1522 -0.1092 -0.1174 -0.0665\n",
       " 0.1059 -0.1056  0.0227  0.0798  0.0578 -0.3077  0.1190  0.0788  0.0580  0.0893\n",
       " 0.0682 -0.0545 -0.2093 -0.0439  0.0550 -0.1379  0.0184 -0.0273 -0.1061 -0.1311\n",
       " 0.2506 -0.0334  0.0689  0.0515 -0.0126  0.1246 -0.2141  0.0493  0.0563 -0.1170\n",
       "-0.0758  0.0969 -0.0232 -0.0160 -0.1489  0.1183  0.1902 -0.0027 -0.1261  0.0431\n",
       "-0.1175  0.0800 -0.0291 -0.1333  0.0873 -0.0068 -0.1582  0.0177 -0.0959 -0.0833\n",
       " 0.0805  0.0718  0.0525  0.2826  0.1544 -0.0216  0.1598  0.1390  0.1938 -0.0702\n",
       "\n",
       "Columns 10 to 19 \n",
       "-0.1411 -0.1085 -0.0914 -0.0736 -0.1965 -0.0790 -0.0314 -0.0983 -0.1836  0.1579\n",
       "-0.1535  0.0282  0.2355  0.1406 -0.1233 -0.0853  0.1870 -0.0645 -0.0007  0.1186\n",
       " 0.0167  0.0825  0.1144  0.0647  0.0583 -0.1332  0.0591 -0.0871  0.0411  0.0508\n",
       "-0.0356 -0.1355 -0.2098  0.0561  0.0535  0.0201  0.0579  0.1537 -0.0233  0.1046\n",
       " 0.0317 -0.0900 -0.1105 -0.0127  0.1687  0.1467 -0.1286 -0.1959  0.0388 -0.1140\n",
       " 0.1571 -0.0607  0.0488  0.0086  0.1967  0.0925 -0.1294  0.0058 -0.0619 -0.1448\n",
       "-0.0100  0.0114 -0.1016  0.0653  0.0403  0.0024  0.0583  0.1244  0.1821 -0.1991\n",
       "-0.1238 -0.0114  0.2373  0.0695 -0.0270 -0.0632  0.0016  0.0336 -0.0289  0.1308\n",
       " 0.1241 -0.0946 -0.0196  0.0811  0.0054 -0.0381  0.0098 -0.0084 -0.0629  0.1100\n",
       " 0.1445 -0.1460  0.1326 -0.0968 -0.0973 -0.0577  0.1148  0.1372 -0.0162 -0.0834\n",
       " 0.1331 -0.1653 -0.0324 -0.0220 -0.0457  0.1742 -0.0129  0.0380 -0.0025 -0.0200\n",
       "-0.1451  0.0678  0.0992 -0.0346  0.2160  0.0148 -0.1424 -0.0761 -0.0255 -0.0320\n",
       " 0.0648 -0.1329  0.1580 -0.1596  0.0961 -0.0321  0.0155 -0.0610  0.0120  0.1154\n",
       "-0.1320  0.0172 -0.0075  0.1858 -0.0952 -0.1021  0.1312  0.0884  0.0298  0.0435\n",
       " 0.1387  0.1501 -0.1596  0.1006 -0.0020  0.0020  0.0242 -0.0411  0.0779 -0.0234\n",
       "-0.0998 -0.0075  0.1265  0.1716  0.2395 -0.1625 -0.1202  0.0859  0.0368 -0.0607\n",
       "-0.1370  0.0132  0.0765  0.1170  0.0984  0.1527 -0.0771 -0.1546 -0.1191  0.1957\n",
       " 0.0917  0.1595 -0.1314  0.0863 -0.0828 -0.1237  0.0403  0.0676  0.1244  0.0044\n",
       "-0.0225  0.0262  0.0170  0.0003  0.0283  0.0674 -0.0920 -0.1638  0.1857  0.1063\n",
       "-0.1429  0.2638  0.0682 -0.0063 -0.0717 -0.1479  0.0615  0.1242  0.1518  0.0553\n",
       " 0.1537  0.1431 -0.0322 -0.0650 -0.0931 -0.0438  0.0855 -0.0797  0.0264 -0.0229\n",
       "\n",
       "Columns 20 to 29 \n",
       "-0.0484 -0.0419 -0.1469  0.1216 -0.0555 -0.0976  0.0421 -0.0574 -0.0452  0.1421\n",
       "-0.1224  0.0288 -0.1283 -0.2089 -0.1031  0.1563  0.1476 -0.0196 -0.0571  0.0943\n",
       "-0.0619  0.2031  0.0463 -0.1231 -0.1216  0.1054 -0.0971  0.1307 -0.0376  0.0967\n",
       "-0.1137  0.1361 -0.2051  0.0473 -0.0932  0.0153 -0.0159  0.0369  0.0734 -0.2471\n",
       "-0.0539  0.1240 -0.0823  0.1600  0.0285  0.1652 -0.0465  0.0322  0.0956 -0.0264\n",
       " 0.0596  0.1117 -0.0958 -0.0540 -0.1307  0.0575  0.1141 -0.2407 -0.2408 -0.0149\n",
       "-0.0012  0.0382 -0.0766 -0.0985 -0.1825  0.0277 -0.0674  0.0989 -0.0697 -0.0250\n",
       " 0.1038 -0.0135  0.1286 -0.0583  0.1864 -0.1137 -0.0831  0.0521  0.0902  0.0699\n",
       "-0.0267 -0.0425  0.1810  0.1026 -0.1017 -0.0174  0.1419  0.0613  0.1085  0.1401\n",
       "-0.0580 -0.1322 -0.1810 -0.1670 -0.0658  0.0280 -0.2502  0.1123 -0.1431  0.0187\n",
       "-0.1608  0.2243 -0.0885 -0.0717 -0.0883  0.0149 -0.1532 -0.0790  0.0111 -0.0134\n",
       "-0.1537 -0.0090  0.1288 -0.1204  0.0501 -0.0162  0.0450  0.0553 -0.1085  0.0918\n",
       " 0.0572  0.1129  0.0649 -0.0053 -0.0548  0.1760 -0.1602  0.0557  0.0968 -0.2049\n",
       "-0.1171 -0.1641 -0.0461 -0.1111 -0.1408 -0.1631 -0.0711  0.1119  0.1992  0.0304\n",
       "-0.0047  0.0078 -0.2157  0.0989  0.0390 -0.1055 -0.1456 -0.0143  0.1316  0.0838\n",
       " 0.0700 -0.1104 -0.0325 -0.0123 -0.1282  0.0483 -0.1788 -0.0035  0.1426  0.0280\n",
       " 0.1014 -0.0149  0.1053 -0.1043  0.0204  0.1633 -0.0857 -0.0134 -0.2294 -0.1175\n",
       "-0.0842  0.1424 -0.0870  0.0996  0.1401 -0.1269 -0.1815  0.0899  0.1035 -0.0791\n",
       " 0.1227 -0.0833  0.0274  0.0795 -0.0519 -0.1429  0.1885  0.1016 -0.0264 -0.0667\n",
       " 0.0009 -0.0633 -0.0866  0.0074 -0.0166  0.1644  0.0562  0.0024  0.0161 -0.1014\n",
       " 0.0421  0.1220  0.2115  0.0724  0.0534 -0.0883  0.0771 -0.0517  0.1034 -0.1606\n",
       "\n",
       "Columns 30 to 30 \n",
       "-0.0337\n",
       " 0.2031\n",
       " 0.2414\n",
       " 0.0921\n",
       "-0.1857\n",
       "-0.0342\n",
       "-0.0960\n",
       " 0.0768\n",
       " 0.1508\n",
       "-0.0929\n",
       "-0.1377\n",
       "-0.0827\n",
       " 0.0120\n",
       "-0.0163\n",
       "-0.2169\n",
       " 0.1628\n",
       "-0.0225\n",
       "-0.0237\n",
       " 0.0900\n",
       " 0.0840\n",
       " 0.0980\n",
       "[torch.FloatTensor of size 21x31]"
      ]
     },
     "execution_count": 74,
     "metadata": {},
     "output_type": "execute_result"
    }
   ],
   "source": [
    "model[(0)].weight"
   ]
  },
  {
   "cell_type": "code",
   "execution_count": 75,
   "metadata": {
    "collapsed": false
   },
   "outputs": [
    {
     "data": {
      "text/plain": [
       "Parameter containing:\n",
       "\n",
       "Columns 0 to 9 \n",
       "-0.0765 -0.0857  0.2689 -0.1599 -0.0748 -0.1040 -0.2182 -0.0570 -0.1093  0.0341\n",
       "-0.0385  0.0938 -0.2253 -0.1116  0.1735  0.1782 -0.0390 -0.2054 -0.0962  0.2241\n",
       "-0.1222 -0.0649 -0.0683 -0.0908 -0.0466  0.2465 -0.1651  0.2285  0.0062 -0.0278\n",
       "-0.1616 -0.0833 -0.0208 -0.0956  0.2001  0.0745  0.0806  0.0529 -0.0455  0.2079\n",
       " 0.1166 -0.1437 -0.1068 -0.1703  0.1872  0.1347 -0.0428  0.0263 -0.0916 -0.1101\n",
       "-0.0344 -0.0906 -0.0693 -0.0467 -0.1428 -0.1829  0.2063 -0.1146  0.1590  0.0333\n",
       " 0.0533 -0.1905 -0.0700  0.1783 -0.1437  0.0473 -0.0019  0.2272 -0.0045  0.1081\n",
       " 0.1748 -0.1019 -0.0459 -0.1083 -0.1846 -0.1074  0.1900 -0.1597 -0.0275 -0.0088\n",
       "-0.1293  0.0834 -0.0090  0.1167  0.2004  0.1754  0.0109 -0.0610  0.1639  0.0896\n",
       "-0.1654  0.0801  0.1543 -0.0947  0.2530 -0.1678  0.0294  0.2348  0.1838  0.0969\n",
       " 0.0366  0.0993  0.0220 -0.1263 -0.1838 -0.1198  0.0317 -0.1781 -0.0620  0.0627\n",
       " 0.0003 -0.2470  0.0959 -0.2691  0.1747 -0.2525 -0.0641  0.0469 -0.1133  0.1764\n",
       "-0.1650  0.1988  0.1876  0.2253 -0.2534 -0.0936 -0.1797 -0.0960 -0.1676  0.0030\n",
       " 0.2462 -0.1831  0.1991  0.2451  0.0103 -0.1545 -0.1985  0.0003 -0.1647  0.1745\n",
       "\n",
       "Columns 10 to 19 \n",
       " 0.1444 -0.1240 -0.0907  0.0352  0.2513  0.1528  0.1412 -0.0094  0.1321  0.1261\n",
       " 0.0197  0.1882 -0.2125  0.0136  0.1123 -0.1612  0.1699 -0.1500 -0.0861  0.1407\n",
       "-0.0569  0.1781  0.1556 -0.0654 -0.0993 -0.0589 -0.1285  0.1946  0.1012  0.1600\n",
       " 0.1174 -0.1381 -0.0405  0.0109 -0.0127  0.1868 -0.1722  0.1261  0.0308  0.0949\n",
       "-0.2268 -0.1375  0.0812 -0.1685 -0.0828  0.1411 -0.1337 -0.1986  0.0195  0.1230\n",
       "-0.0159 -0.0533 -0.0295 -0.0085  0.1492  0.0449  0.0518  0.0988  0.0491 -0.0955\n",
       "-0.1746 -0.2249  0.0145 -0.1137 -0.1804 -0.1690 -0.0083  0.0283  0.0468 -0.1373\n",
       "-0.0193  0.0104  0.1015  0.0837 -0.2131 -0.0028  0.1361  0.2135  0.1782 -0.1297\n",
       " 0.2286 -0.2040 -0.1417  0.0711  0.2133  0.1460 -0.0700 -0.0375 -0.0607  0.1535\n",
       " 0.1948 -0.1505 -0.0567  0.0660 -0.1007  0.1772 -0.0786 -0.0627 -0.1044 -0.1448\n",
       " 0.1427  0.1886  0.2653 -0.1846  0.0441 -0.1294 -0.0523 -0.1069 -0.0374  0.1432\n",
       "-0.0867 -0.2179  0.0839 -0.1592 -0.1013 -0.0767 -0.1189 -0.0591  0.1684 -0.1434\n",
       " 0.2394 -0.1512  0.0425  0.0320 -0.2185  0.0385 -0.1778 -0.1448  0.0442  0.0826\n",
       "-0.0010 -0.0817 -0.1677  0.1938  0.2135  0.1035  0.0866 -0.1309  0.1599  0.0074\n",
       "\n",
       "Columns 20 to 20 \n",
       " 0.0230\n",
       "-0.1411\n",
       " 0.2637\n",
       "-0.1054\n",
       " 0.0049\n",
       " 0.0388\n",
       " 0.1900\n",
       "-0.0016\n",
       "-0.1083\n",
       " 0.0277\n",
       " 0.1348\n",
       " 0.1668\n",
       " 0.2040\n",
       " 0.0938\n",
       "[torch.FloatTensor of size 14x21]"
      ]
     },
     "execution_count": 75,
     "metadata": {},
     "output_type": "execute_result"
    }
   ],
   "source": [
    "model[(2)].weight"
   ]
  },
  {
   "cell_type": "code",
   "execution_count": 76,
   "metadata": {
    "collapsed": false
   },
   "outputs": [
    {
     "data": {
      "text/plain": [
       "Parameter containing:\n",
       "\n",
       "Columns 0 to 9 \n",
       " 0.0788  0.0939 -0.0028  0.1325 -0.1259 -0.2274  0.0019 -0.1136  0.2097 -0.1878\n",
       "-0.2150  0.2445 -0.0311  0.1638  0.1970  0.0424 -0.1889  0.2228 -0.0413  0.0386\n",
       "-0.1452  0.0970  0.4183 -0.1521  0.1408 -0.1005  0.3472 -0.1315  0.0507  0.1470\n",
       " 0.2022 -0.1359 -0.2085 -0.0907  0.0792 -0.0210 -0.1065  0.1825 -0.2143  0.0797\n",
       " 0.3039  0.2721 -0.1545  0.2265 -0.1370 -0.1112 -0.1676 -0.1742 -0.2525 -0.0039\n",
       " 0.1363 -0.2535  0.1471 -0.2315  0.1289  0.1089 -0.1020  0.1457  0.0074 -0.1588\n",
       " 0.0930  0.2481  0.1068  0.0472 -0.1125 -0.1039 -0.0285  0.1994 -0.0906 -0.2825\n",
       "-0.0467 -0.1877  0.1617 -0.1571 -0.2019 -0.0295  0.0435 -0.1775  0.2005 -0.1430\n",
       " 0.3363  0.2534 -0.1753  0.1696  0.2815 -0.2669 -0.0592 -0.2010  0.0403 -0.1350\n",
       "\n",
       "Columns 10 to 13 \n",
       "-0.1978 -0.0444  0.3114  0.2609\n",
       "-0.0530 -0.1985  0.2626  0.2114\n",
       "-0.0062 -0.4037 -0.2830 -0.0412\n",
       "-0.1452 -0.1570 -0.0409 -0.1194\n",
       "-0.1111 -0.0856  0.1472  0.0507\n",
       " 0.0064 -0.2368  0.0453 -0.2505\n",
       "-0.2555  0.1644 -0.1309  0.2616\n",
       " 0.0144 -0.0135 -0.1503 -0.2855\n",
       "-0.1997  0.2335  0.3444  0.3217\n",
       "[torch.FloatTensor of size 9x14]"
      ]
     },
     "execution_count": 76,
     "metadata": {},
     "output_type": "execute_result"
    }
   ],
   "source": [
    "model[(4)].weight"
   ]
  },
  {
   "cell_type": "code",
   "execution_count": 77,
   "metadata": {
    "collapsed": false
   },
   "outputs": [
    {
     "data": {
      "text/plain": [
       "Parameter containing:\n",
       "-0.3115  0.0647  0.5009  0.1567 -0.1655  0.2488  0.0555  0.3326 -0.2599\n",
       "-0.2200 -0.1731 -0.0454 -0.2222 -0.2870  0.1802 -0.0952 -0.2597 -0.3236\n",
       "-0.3163 -0.0016  0.5044 -0.2119 -0.4729 -0.1523 -0.0519 -0.1682 -0.2028\n",
       " 0.2717 -0.1408  0.0231 -0.2849 -0.0465 -0.1867 -0.2659  0.0410 -0.3024\n",
       "-0.2070  0.1523  0.0330  0.0828 -0.0202 -0.0370 -0.0569  0.3900 -0.4189\n",
       "-0.1012  0.2794 -0.1993  0.0687  0.0892 -0.3321  0.2052 -0.3317  0.4679\n",
       "[torch.FloatTensor of size 6x9]"
      ]
     },
     "execution_count": 77,
     "metadata": {},
     "output_type": "execute_result"
    }
   ],
   "source": [
    "model[(6)].weight"
   ]
  },
  {
   "cell_type": "code",
   "execution_count": 78,
   "metadata": {
    "collapsed": false
   },
   "outputs": [
    {
     "data": {
      "text/plain": [
       "Parameter containing:\n",
       " 0.6237  0.1250  0.7240 -0.3570  0.5394 -0.5269\n",
       "[torch.FloatTensor of size 1x6]"
      ]
     },
     "execution_count": 78,
     "metadata": {},
     "output_type": "execute_result"
    }
   ],
   "source": [
    "model[(8)].weight"
   ]
  },
  {
   "cell_type": "markdown",
   "metadata": {},
   "source": [
    "## Round 5: Five-Hidden-Layer Neural Network"
   ]
  },
  {
   "cell_type": "code",
   "execution_count": 79,
   "metadata": {
    "collapsed": true
   },
   "outputs": [],
   "source": [
    "# Make the torch Tensor into a PyTorch Variable for dependent variables\n",
    "outcomes_Variable = Variable(outcomes_Tensor)\n",
    "\n",
    "\n",
    "# ...for independent variables\n",
    "features_Variable = Variable(features_Tensor,\n",
    "                             requires_grad = False)"
   ]
  },
  {
   "cell_type": "code",
   "execution_count": 80,
   "metadata": {
    "collapsed": true
   },
   "outputs": [],
   "source": [
    "# Make the neural network\n",
    "model = torch.nn.Sequential(torch.nn.Linear(31, 21),\n",
    "                            torch.nn.ReLU(),\n",
    "                            torch.nn.Linear(21, 14),\n",
    "                            torch.nn.ReLU(),\n",
    "                            torch.nn.Linear(14, 9),\n",
    "                            torch.nn.ReLU(),\n",
    "                            torch.nn.Linear(9, 6),\n",
    "                            torch.nn.ReLU(),\n",
    "                            torch.nn.Linear(6, 4),\n",
    "                            torch.nn.ReLU(),\n",
    "                            torch.nn.Linear(4, 1))"
   ]
  },
  {
   "cell_type": "code",
   "execution_count": 81,
   "metadata": {
    "collapsed": true
   },
   "outputs": [],
   "source": [
    "# To add errors to\n",
    "errors = []\n",
    "\n",
    "\n",
    "# Set the learning rate\n",
    "learning_rate = 5e-6\n",
    "\n",
    "\n",
    "# Train the neural network\n",
    "for t in range(10000):\n",
    "    \n",
    "    # Get the current predictions\n",
    "    y_pred = model(features_Variable)\n",
    "    \n",
    "    # Compute and append current summed errors\n",
    "    loss = loss_fn(y_pred, outcomes_Variable)\n",
    "    errors.append(loss.data[0])\n",
    "    \n",
    "    # Zero the gradients before running the backward pass.\n",
    "    model.zero_grad()\n",
    "    \n",
    "    # Backward pass: compute gradient of the loss with respect to all the learnable Variables\n",
    "    loss.backward()\n",
    "    \n",
    "    # Update the weights using gradient descent\n",
    "    for param in model.parameters():\n",
    "        param.data -= learning_rate * param.grad.data"
   ]
  },
  {
   "cell_type": "code",
   "execution_count": 82,
   "metadata": {
    "collapsed": false
   },
   "outputs": [
    {
     "data": {
      "text/plain": [
       "<matplotlib.collections.PathCollection at 0x7f8771752f98>"
      ]
     },
     "execution_count": 82,
     "metadata": {},
     "output_type": "execute_result"
    },
    {
     "data": {
      "image/png": "[encoded data removed]",
      "text/plain": [
       "<matplotlib.figure.Figure at 0x7f87782b3a90>"
      ]
     },
     "metadata": {},
     "output_type": "display_data"
    }
   ],
   "source": [
    "# Plot summed error as a function of iteration\n",
    "plt.scatter(iterations, errors)"
   ]
  },
  {
   "cell_type": "code",
   "execution_count": 83,
   "metadata": {
    "collapsed": true
   },
   "outputs": [],
   "source": [
    "# Get rid of the 2nd dimension of 1 from the FloatTensor\n",
    "y_pred_resized = y_pred.resize(8270)\n",
    "\n",
    "\n",
    "# Make the FloatTensor into a numpy.array\n",
    "y_pred_array = y_pred_resized.data.numpy()\n",
    "\n",
    "\n",
    "# Make the numpy.array into a list\n",
    "y_pred_list = y_pred_array.tolist()"
   ]
  },
  {
   "cell_type": "code",
   "execution_count": 84,
   "metadata": {
    "collapsed": false
   },
   "outputs": [
    {
     "data": {
      "text/plain": [
       "[<matplotlib.lines.Line2D at 0x7f877178a978>]"
      ]
     },
     "execution_count": 84,
     "metadata": {},
     "output_type": "execute_result"
    },
    {
     "data": {
      "image/png": "[encoded data removed]",
      "text/plain": [
       "<matplotlib.figure.Figure at 0x7f877178a9e8>"
      ]
     },
     "metadata": {},
     "output_type": "display_data"
    }
   ],
   "source": [
    "# Plot predictions versus training set outcomes\n",
    "plt.scatter(outcomes_list, y_pred_list)\n",
    "\n",
    "axes = plt.gca()\n",
    "\n",
    "axes.set_xlim([-2, 4])\n",
    "\n",
    "axes.set_ylim([-2, 4])\n",
    "\n",
    "plt.plot([-2, 4], [-2, 4], 'k-', lw=2)"
   ]
  },
  {
   "cell_type": "markdown",
   "metadata": {},
   "source": [
    "### Round 5.1: Validation Set Performance"
   ]
  },
  {
   "cell_type": "code",
   "execution_count": 85,
   "metadata": {
    "collapsed": false
   },
   "outputs": [
    {
     "data": {
      "text/plain": [
       "Variable containing:\n",
       " 273.2808\n",
       "[torch.FloatTensor of size 1]"
      ]
     },
     "execution_count": 85,
     "metadata": {},
     "output_type": "execute_result"
    }
   ],
   "source": [
    "# Get the validation set predictions\n",
    "y_valid_pred = model(valid_predictors_Variable)\n",
    "\n",
    "\n",
    "# Print the loss\n",
    "loss_fn(y_valid_pred,\n",
    "        valid_outcomes_Variable)"
   ]
  },
  {
   "cell_type": "code",
   "execution_count": 86,
   "metadata": {
    "collapsed": false
   },
   "outputs": [],
   "source": [
    "# Get rid of the 2nd dimension of 1 from the FloatTensor\n",
    "y_valid_pred_resized = y_valid_pred.resize(2709)\n",
    "\n",
    "\n",
    "# Make the FloatTensor into a numpy.array\n",
    "y_valid_pred_array = y_valid_pred_resized.data.numpy()\n",
    "\n",
    "\n",
    "# Make the numpy.array into a list\n",
    "y_valid_pred_list = y_valid_pred_array.tolist()"
   ]
  },
  {
   "cell_type": "code",
   "execution_count": 87,
   "metadata": {
    "collapsed": false
   },
   "outputs": [
    {
     "data": {
      "text/plain": [
       "[<matplotlib.lines.Line2D at 0x7f877164d320>]"
      ]
     },
     "execution_count": 87,
     "metadata": {},
     "output_type": "execute_result"
    },
    {
     "data": {
      "image/png": "[encoded data removed]",
      "text/plain": [
       "<matplotlib.figure.Figure at 0x7f877164d358>"
      ]
     },
     "metadata": {},
     "output_type": "display_data"
    }
   ],
   "source": [
    "# Plot new predictions versus new data outcomes\n",
    "plt.scatter(valid_outcomes_list, y_valid_pred_list)\n",
    "\n",
    "axes = plt.gca()\n",
    "\n",
    "axes.set_xlim([-2, 4])\n",
    "\n",
    "axes.set_ylim([-2, 4])\n",
    "\n",
    "plt.plot([-2, 4], [-2, 4], 'k-', lw=2)"
   ]
  },
  {
   "cell_type": "markdown",
   "metadata": {},
   "source": [
    "### Round 5.2: Test Set Performance"
   ]
  },
  {
   "cell_type": "code",
   "execution_count": 88,
   "metadata": {
    "collapsed": false
   },
   "outputs": [
    {
     "data": {
      "text/plain": [
       "Variable containing:\n",
       " 271.3446\n",
       "[torch.FloatTensor of size 1]"
      ]
     },
     "execution_count": 88,
     "metadata": {},
     "output_type": "execute_result"
    }
   ],
   "source": [
    "# Get the validation set predictions\n",
    "y_test_pred = model(test_predictors_Variable)\n",
    "\n",
    "\n",
    "# Print the loss\n",
    "loss_fn(y_test_pred,\n",
    "        test_outcomes_Variable)"
   ]
  },
  {
   "cell_type": "code",
   "execution_count": 89,
   "metadata": {
    "collapsed": true
   },
   "outputs": [],
   "source": [
    "# Get rid of the 2nd dimension of 1 from the FloatTensor\n",
    "y_test_pred_resized = y_test_pred.resize(2712)\n",
    "\n",
    "\n",
    "# Make the FloatTensor into a numpy.array\n",
    "y_test_pred_array = y_test_pred_resized.data.numpy()\n",
    "\n",
    "\n",
    "# Convert back to native units and scale\n",
    "y_test_pred_array = y_test_pred_array*5.409956 + 7.691221\n",
    "\n",
    "\n",
    "# Make the numpy.array into a list\n",
    "y_test_pred_list = y_test_pred_array.tolist()"
   ]
  },
  {
   "cell_type": "code",
   "execution_count": 90,
   "metadata": {
    "collapsed": false
   },
   "outputs": [
    {
     "data": {
      "text/plain": [
       "<matplotlib.text.Text at 0x7f87715d5d30>"
      ]
     },
     "execution_count": 90,
     "metadata": {},
     "output_type": "execute_result"
    },
    {
     "data": {
      "image/png": "[encoded data removed]",
      "text/plain": [
       "<matplotlib.figure.Figure at 0x7f877167e4e0>"
      ]
     },
     "metadata": {},
     "output_type": "display_data"
    }
   ],
   "source": [
    "# Plot new predictions versus new data outcomes\n",
    "plt.scatter(test_outcomes_list, y_test_pred_list)\n",
    "\n",
    "axes = plt.gca()\n",
    "\n",
    "axes.set_xlim([2, 23])\n",
    "\n",
    "axes.set_ylim([2, 23])\n",
    "\n",
    "axes.set_xticks([2, 5, 8, 11, 14, 17, 20, 23])\n",
    "\n",
    "axes.set_yticks([2, 5, 8, 11, 14, 17, 20, 23])\n",
    "\n",
    "plt.plot([2, 23], [2, 23], 'k-', lw=2)\n",
    "\n",
    "axes.set_xlabel(\"Actual Outcome (Log-Transformed US Dollars)\")\n",
    "\n",
    "axes.set_ylabel(\"Model Prediction (Log-Transformed US Dollars)\")\n",
    "\n",
    "axes.set_title(\"Model Performance\")"
   ]
  },
  {
   "cell_type": "code",
   "execution_count": 91,
   "metadata": {
    "collapsed": false
   },
   "outputs": [
    {
     "data": {
      "text/plain": [
       "Parameter containing:\n",
       "\n",
       "Columns 0 to 9 \n",
       " 0.2640 -0.0041  0.0348  0.1900  0.2024  0.0256 -0.0778 -0.0664 -0.0125 -0.0209\n",
       " 0.0641 -0.1012  0.0863 -0.0084  0.0032 -0.0817 -0.0299 -0.1084  0.1526  0.1414\n",
       "-0.0737 -0.0715  0.1214  0.0746 -0.0864 -0.1309  0.0050 -0.0018 -0.1072 -0.0408\n",
       "-0.1060 -0.2213  0.1312  0.1112  0.1485 -0.0701 -0.1194 -0.0790  0.1072 -0.0237\n",
       " 0.0968 -0.2636 -0.1312 -0.1783 -0.0164 -0.0519 -0.0998 -0.0167  0.1752  0.0439\n",
       "-0.0427 -0.0800 -0.0195  0.0325 -0.0933 -0.2410 -0.0759  0.0484 -0.0312  0.0583\n",
       " 0.0584 -0.0224  0.1078  0.1658 -0.2323  0.0525  0.0535  0.0633 -0.0378  0.0859\n",
       "-0.1136 -0.0939 -0.0964 -0.1469 -0.1265 -0.2101  0.1219  0.1537  0.0227 -0.0183\n",
       "-0.1733 -0.0267 -0.0404  0.0425 -0.1618  0.0961 -0.0367  0.1604  0.1144  0.1039\n",
       " 0.0515 -0.0394  0.1600  0.1202  0.0754 -0.0756 -0.0950 -0.0621  0.0714  0.0312\n",
       "-0.0443 -0.0991  0.0808 -0.0869 -0.1875  0.0774 -0.0532  0.0008  0.0945  0.1341\n",
       "-0.0746 -0.0447 -0.1814  0.0776  0.0030 -0.0092 -0.0507 -0.1409  0.0740 -0.0370\n",
       "-0.0740 -0.0086 -0.1178 -0.1727 -0.0188  0.0861  0.0289 -0.0393 -0.0250  0.0805\n",
       "-0.0028  0.1398 -0.0579  0.1274  0.1285 -0.0478 -0.1446 -0.0721  0.1471 -0.0379\n",
       " 0.1801  0.2115  0.0555 -0.0311  0.1913 -0.0479  0.0721  0.0883 -0.1566  0.0210\n",
       " 0.1227  0.0612 -0.1382  0.1180  0.1992  0.0410 -0.0815 -0.0828 -0.1256 -0.0650\n",
       " 0.1920  0.1752 -0.0265  0.0271 -0.0979  0.0915  0.1410  0.0027  0.1093 -0.1581\n",
       "-0.2051 -0.1806  0.1573  0.1367  0.2262 -0.1532 -0.0315 -0.0839  0.0077 -0.1012\n",
       "-0.0604 -0.1548  0.1754 -0.0296 -0.0188 -0.1430 -0.0822  0.0660  0.1137  0.1597\n",
       " 0.0426  0.0285  0.0291 -0.0242 -0.0781 -0.1563  0.1063  0.1238 -0.1497 -0.1410\n",
       "-0.0276  0.0380  0.2217  0.1539  0.1082 -0.2064 -0.0012  0.0221  0.0078  0.0397\n",
       "\n",
       "Columns 10 to 19 \n",
       " 0.1674 -0.0868  0.0739  0.0328  0.0069  0.0514 -0.0745  0.0858 -0.1886  0.0751\n",
       " 0.0074  0.0744 -0.2135  0.0515  0.0449 -0.0354 -0.1109  0.1375  0.1600  0.0824\n",
       " 0.1694  0.0978 -0.2113 -0.0996 -0.0952  0.1297 -0.0858 -0.1559 -0.0709  0.0048\n",
       "-0.1482  0.0081  0.0835  0.0546 -0.0287 -0.0834 -0.0752  0.0506  0.0838  0.1825\n",
       " 0.0947  0.0072 -0.0965 -0.1564  0.0450  0.2168 -0.0224  0.0996  0.1035 -0.1852\n",
       "-0.0947 -0.0519  0.0268  0.1456 -0.0790 -0.0417  0.0034  0.0267 -0.0734 -0.0549\n",
       " 0.1355  0.0261  0.1194  0.1017 -0.0435  0.0118  0.0337  0.0247  0.0712  0.0335\n",
       "-0.0357  0.1362 -0.0167 -0.1371 -0.1023  0.0004 -0.0669 -0.0908  0.0600  0.0070\n",
       "-0.0878 -0.1088 -0.0440  0.0296  0.0917 -0.0952  0.0978 -0.2010 -0.0080 -0.0077\n",
       " 0.0402  0.0010 -0.0153  0.1440 -0.1443 -0.1206  0.0202  0.1826  0.0404 -0.1966\n",
       " 0.0503 -0.1055  0.0122 -0.1164  0.1209  0.0840  0.0097 -0.1426  0.0514  0.0363\n",
       "-0.1025  0.1619 -0.0893 -0.1595 -0.0065 -0.1192 -0.0697  0.0278  0.1071  0.0676\n",
       " 0.1876  0.1090  0.0983  0.0666 -0.0266  0.1000  0.2103  0.1630 -0.1660 -0.1403\n",
       " 0.1870 -0.1221  0.1511 -0.0203  0.0111  0.1711  0.1160  0.1838 -0.1126  0.1392\n",
       " 0.0524 -0.1144  0.1335  0.0284 -0.0696 -0.1130  0.1651  0.0180 -0.0947 -0.1626\n",
       " 0.2207  0.1930 -0.0873 -0.1261 -0.1282 -0.0081 -0.1065  0.1094  0.1312 -0.0141\n",
       "-0.0101 -0.0393 -0.0039  0.0340  0.0155  0.1810 -0.0503 -0.0018 -0.0564  0.0713\n",
       " 0.0895 -0.0654 -0.1431 -0.0483 -0.0296 -0.1624  0.1896  0.0471 -0.0810 -0.2147\n",
       " 0.0518 -0.1035  0.1490 -0.0864 -0.0838  0.0092  0.1173 -0.1225 -0.2723  0.0724\n",
       " 0.1522 -0.0460 -0.0912 -0.2519  0.1496  0.0054  0.1614  0.0051  0.0468 -0.0371\n",
       "-0.0250  0.1414  0.0948  0.0519 -0.0749 -0.1240  0.0768  0.0761  0.1160 -0.1333\n",
       "\n",
       "Columns 20 to 29 \n",
       " 0.1506  0.1168  0.0817  0.1404  0.2044 -0.0924 -0.1343 -0.0918  0.1494  0.0216\n",
       " 0.0042  0.0943  0.0292  0.1746  0.0089 -0.0926 -0.1538  0.0589  0.0197  0.2188\n",
       " 0.0566  0.1527 -0.0604 -0.0711  0.0298  0.0676 -0.0729  0.0224  0.1101  0.0831\n",
       " 0.0553 -0.0088  0.1884  0.0839 -0.0582  0.1679  0.1103 -0.0906 -0.1150  0.0454\n",
       "-0.0325 -0.1011  0.0302 -0.1083  0.1030  0.0788 -0.0644 -0.0799 -0.0199  0.0646\n",
       "-0.0833 -0.2502  0.0385  0.0243  0.0063  0.1662 -0.0192  0.0751 -0.0956  0.1346\n",
       " 0.1027  0.1029 -0.2444 -0.1853 -0.0077 -0.0569 -0.0710 -0.1590 -0.0129  0.0794\n",
       "-0.0091 -0.2037 -0.1285 -0.0790 -0.1494 -0.1809  0.0764 -0.1919 -0.0785 -0.0992\n",
       "-0.0756  0.1176  0.1127  0.1532  0.0822 -0.0449 -0.0688  0.1033  0.1277 -0.1704\n",
       " 0.0581  0.1226 -0.1316 -0.1256  0.0264  0.1580 -0.1214  0.1487 -0.0815  0.1376\n",
       "-0.1160  0.1330 -0.1961 -0.1618 -0.1319 -0.0396 -0.0593  0.1515 -0.0668 -0.0012\n",
       "-0.0081 -0.0823 -0.2307  0.0868 -0.0787  0.0338 -0.2375  0.0640  0.0906 -0.0093\n",
       "-0.0483 -0.2058 -0.1181 -0.1739  0.0345 -0.1036 -0.0124  0.0509  0.0169 -0.0604\n",
       " 0.0972 -0.0591  0.0912  0.1526  0.1296  0.0866 -0.1220  0.1782  0.0909 -0.1439\n",
       " 0.1428 -0.0497 -0.0063 -0.1131  0.0685  0.0897  0.0205 -0.1038 -0.1254  0.1913\n",
       " 0.0800  0.1389  0.0591  0.1188 -0.0351  0.0326 -0.0726 -0.0180  0.0616 -0.0547\n",
       "-0.0440  0.0314  0.0413  0.0527  0.1693 -0.0150  0.1461 -0.1379 -0.2493 -0.0601\n",
       " 0.0263 -0.0246 -0.0250 -0.0966  0.0903  0.1110 -0.0796 -0.0771  0.1356 -0.2090\n",
       "-0.0268 -0.0741  0.1892  0.0665  0.0465  0.0969 -0.0603  0.0295 -0.0197  0.0218\n",
       " 0.0714  0.0823  0.1616 -0.0166 -0.1294  0.0830  0.0109  0.0836  0.0578 -0.1495\n",
       "-0.0897 -0.0375  0.1670  0.1076 -0.0807 -0.1324  0.0490  0.0166  0.1290  0.1042\n",
       "\n",
       "Columns 30 to 30 \n",
       "-0.0135\n",
       " 0.1195\n",
       "-0.2469\n",
       " 0.0349\n",
       " 0.0567\n",
       "-0.1467\n",
       " 0.0952\n",
       " 0.0314\n",
       " 0.1129\n",
       " 0.1836\n",
       " 0.1171\n",
       "-0.1104\n",
       " 0.0955\n",
       " 0.0300\n",
       " 0.1136\n",
       "-0.1407\n",
       "-0.1332\n",
       " 0.0097\n",
       "-0.0234\n",
       " 0.1500\n",
       " 0.0780\n",
       "[torch.FloatTensor of size 21x31]"
      ]
     },
     "execution_count": 91,
     "metadata": {},
     "output_type": "execute_result"
    }
   ],
   "source": [
    "model[(0)].weight"
   ]
  },
  {
   "cell_type": "code",
   "execution_count": 92,
   "metadata": {
    "collapsed": false
   },
   "outputs": [
    {
     "data": {
      "text/plain": [
       "Parameter containing:\n",
       "\n",
       "Columns 0 to 9 \n",
       "-0.1852 -0.0828  0.1540  0.1072  0.0324  0.1449 -0.1122  0.0965  0.0309 -0.0651\n",
       "-0.1403  0.0138 -0.1568 -0.1092 -0.1296 -0.0637  0.2120 -0.0018  0.2175  0.0554\n",
       "-0.1793  0.1106 -0.1072 -0.0891 -0.1757  0.0728  0.1332  0.0225 -0.0938 -0.1395\n",
       "-0.0784 -0.1856 -0.0808 -0.0487 -0.1920  0.1656 -0.0570 -0.1231 -0.0807  0.0502\n",
       "-0.0157 -0.0423 -0.2382 -0.1416 -0.0908  0.0512  0.1671  0.1326  0.1434  0.0117\n",
       " 0.2538  0.1608 -0.0859  0.0023 -0.1108  0.0486 -0.1575 -0.0723  0.2176 -0.0971\n",
       " 0.2414  0.1672  0.0255 -0.0127  0.0903 -0.0791 -0.1127  0.1401  0.1333 -0.2166\n",
       " 0.1300  0.0964  0.0141 -0.0372 -0.2654  0.1891 -0.0745  0.1385  0.0472 -0.0581\n",
       "-0.0764 -0.0653  0.1048 -0.0863  0.1362  0.1998  0.1231  0.2346 -0.1360 -0.1083\n",
       "-0.0872 -0.2334 -0.1736  0.1318  0.0560 -0.2008 -0.1784  0.2642  0.0404 -0.2262\n",
       "-0.0745  0.0782 -0.1387  0.1209  0.1486 -0.0162 -0.1250 -0.0770 -0.1527  0.1635\n",
       "-0.1903  0.0065  0.1594 -0.1938 -0.2165 -0.0093 -0.0789 -0.0269 -0.1614  0.1657\n",
       " 0.1224 -0.1834  0.1880 -0.0628  0.0924 -0.2099 -0.1036 -0.1780  0.0660  0.2304\n",
       "-0.1054 -0.1371 -0.2066  0.1705  0.0665 -0.1603 -0.1282 -0.0662  0.1192 -0.1435\n",
       "\n",
       "Columns 10 to 19 \n",
       "-0.1954  0.1333  0.0254 -0.0325  0.1585  0.1093  0.0826  0.0620 -0.1110 -0.2062\n",
       "-0.1712  0.2096  0.0566 -0.2344 -0.1154 -0.0527 -0.0213 -0.0971  0.1329  0.0423\n",
       "-0.0292 -0.0958  0.1082 -0.1826  0.0533  0.1048 -0.0204 -0.1295 -0.0104  0.0133\n",
       " 0.0871  0.0313  0.1152  0.0859  0.0523 -0.0834 -0.0768 -0.0343  0.1331  0.1465\n",
       "-0.2282  0.0078  0.0124 -0.1297  0.0826 -0.0949 -0.1119  0.1555 -0.0481 -0.1507\n",
       "-0.1813 -0.1550  0.1723 -0.0471  0.2138 -0.0422  0.1939 -0.0990  0.0953  0.0801\n",
       "-0.1891 -0.2329 -0.1273 -0.0592  0.1220  0.1649  0.0046  0.1930  0.0405  0.0902\n",
       " 0.1333  0.0949  0.1733  0.1607 -0.0835  0.1436 -0.0278 -0.2537 -0.0762  0.1691\n",
       "-0.0915  0.0699  0.0019 -0.0881  0.0088  0.1099  0.0301 -0.0484 -0.1227  0.0149\n",
       "-0.0410  0.1620 -0.0837  0.1624 -0.1214  0.2253 -0.0160 -0.1518  0.0532 -0.0700\n",
       "-0.0791 -0.1267 -0.1454 -0.2021 -0.0161  0.0004  0.0304  0.0249 -0.0343 -0.2048\n",
       "-0.0122  0.0779 -0.1755  0.1293 -0.2479  0.1190 -0.2142  0.2086 -0.0855 -0.1278\n",
       "-0.1465 -0.2013  0.0598  0.0390  0.1712  0.0660 -0.1515  0.2606  0.2479 -0.0321\n",
       "-0.0385 -0.0244  0.0111 -0.1553  0.0895 -0.0666 -0.1387  0.0786 -0.1841  0.0274\n",
       "\n",
       "Columns 20 to 20 \n",
       "-0.2554\n",
       " 0.2752\n",
       " 0.0198\n",
       "-0.0156\n",
       " 0.1749\n",
       " 0.1919\n",
       " 0.0221\n",
       "-0.1222\n",
       "-0.0693\n",
       " 0.1317\n",
       " 0.1483\n",
       " 0.0574\n",
       "-0.1977\n",
       "-0.1050\n",
       "[torch.FloatTensor of size 14x21]"
      ]
     },
     "execution_count": 92,
     "metadata": {},
     "output_type": "execute_result"
    }
   ],
   "source": [
    "model[(2)].weight"
   ]
  },
  {
   "cell_type": "code",
   "execution_count": 93,
   "metadata": {
    "collapsed": false
   },
   "outputs": [
    {
     "data": {
      "text/plain": [
       "Parameter containing:\n",
       "\n",
       "Columns 0 to 9 \n",
       "-0.1298  0.0012 -0.2476 -0.1473  0.1394 -0.1194 -0.0371 -0.1543 -0.0326 -0.1150\n",
       "-0.1410 -0.0407  0.1556  0.1856  0.2925 -0.0638  0.0561  0.0846  0.2290  0.0228\n",
       " 0.2185  0.0780  0.2037 -0.0808  0.0546  0.2141 -0.1098  0.2265 -0.2182 -0.1301\n",
       " 0.2197  0.3107  0.0779 -0.0031 -0.0226 -0.0844 -0.2595  0.2400  0.0892 -0.2919\n",
       " 0.1274  0.1053 -0.2035 -0.1144  0.2536 -0.3823 -0.3235  0.1799  0.0994 -0.2246\n",
       "-0.1268  0.2382 -0.0266  0.1484  0.1893 -0.1528 -0.0275  0.1860 -0.0310  0.2582\n",
       " 0.0559 -0.1555 -0.1141  0.1417  0.1703 -0.0693 -0.0081  0.0746  0.2658  0.1588\n",
       " 0.1939  0.0942 -0.1598 -0.2583 -0.1264 -0.1886  0.0141  0.0672 -0.0007  0.0290\n",
       "-0.0934  0.0562  0.2564 -0.0341  0.1445  0.2320 -0.0440 -0.2533  0.0316 -0.1993\n",
       "\n",
       "Columns 10 to 13 \n",
       " 0.0940  0.2156 -0.0884 -0.0460\n",
       " 0.2518  0.1561  0.1316 -0.0045\n",
       " 0.0313  0.1737 -0.2165 -0.0416\n",
       " 0.1607  0.0419  0.0505 -0.0386\n",
       "-0.1835 -0.3991  0.2283  0.2466\n",
       " 0.2157 -0.2018 -0.1960 -0.2065\n",
       "-0.0027 -0.1675 -0.1676  0.2437\n",
       "-0.0683 -0.2439 -0.2340 -0.0788\n",
       " 0.1496 -0.0399  0.1530 -0.1018\n",
       "[torch.FloatTensor of size 9x14]"
      ]
     },
     "execution_count": 93,
     "metadata": {},
     "output_type": "execute_result"
    }
   ],
   "source": [
    "model[(4)].weight"
   ]
  },
  {
   "cell_type": "code",
   "execution_count": 94,
   "metadata": {
    "collapsed": false
   },
   "outputs": [
    {
     "data": {
      "text/plain": [
       "Parameter containing:\n",
       " 0.1286 -0.1370  0.0679 -0.2002  0.1506 -0.0171 -0.0085  0.1006  0.2615\n",
       " 0.1003  0.3402 -0.2603 -0.1639  0.1729 -0.2778  0.2771  0.1564  0.1344\n",
       " 0.1822 -0.1588 -0.0411  0.0300 -0.2231  0.1372  0.2892 -0.2057 -0.2779\n",
       " 0.2466  0.3039  0.0412  0.5611  0.9622  0.1506  0.0893  0.2952  0.0024\n",
       "-0.3013 -0.2888 -0.2110  0.3491  0.1011  0.3106  0.2091  0.2313 -0.1153\n",
       " 0.2200 -0.0873 -0.1657 -0.1954 -0.1620 -0.3173  0.2954 -0.3239  0.1491\n",
       "[torch.FloatTensor of size 6x9]"
      ]
     },
     "execution_count": 94,
     "metadata": {},
     "output_type": "execute_result"
    }
   ],
   "source": [
    "model[(6)].weight"
   ]
  },
  {
   "cell_type": "code",
   "execution_count": 95,
   "metadata": {
    "collapsed": false
   },
   "outputs": [
    {
     "data": {
      "text/plain": [
       "Parameter containing:\n",
       "-0.1242  0.1430 -0.2687 -0.9778  0.3169  0.1317\n",
       " 0.0736 -0.1682  0.0692  0.3054  0.2064 -0.3269\n",
       " 0.1138  0.0665 -0.1760 -0.2829  0.1561  0.2695\n",
       "-0.2620  0.2149  0.3270  0.5891 -0.0381  0.1530\n",
       "[torch.FloatTensor of size 4x6]"
      ]
     },
     "execution_count": 95,
     "metadata": {},
     "output_type": "execute_result"
    }
   ],
   "source": [
    "model[(8)].weight"
   ]
  },
  {
   "cell_type": "code",
   "execution_count": 96,
   "metadata": {
    "collapsed": false
   },
   "outputs": [
    {
     "data": {
      "text/plain": [
       "Parameter containing:\n",
       " 1.3400  0.4606  0.1490 -0.6332\n",
       "[torch.FloatTensor of size 1x4]"
      ]
     },
     "execution_count": 96,
     "metadata": {},
     "output_type": "execute_result"
    }
   ],
   "source": [
    "model[(10)].weight"
   ]
  },
  {
   "cell_type": "markdown",
   "metadata": {},
   "source": [
    "## Round 6: Six-Hidden-Layer Neural Network"
   ]
  },
  {
   "cell_type": "code",
   "execution_count": 97,
   "metadata": {
    "collapsed": true
   },
   "outputs": [],
   "source": [
    "# Make the torch Tensor into a PyTorch Variable for dependent variables\n",
    "outcomes_Variable = Variable(outcomes_Tensor)\n",
    "\n",
    "\n",
    "# ...for independent variables\n",
    "features_Variable = Variable(features_Tensor,\n",
    "                             requires_grad = False)"
   ]
  },
  {
   "cell_type": "code",
   "execution_count": 98,
   "metadata": {
    "collapsed": true
   },
   "outputs": [],
   "source": [
    "# Make the neural network\n",
    "model = torch.nn.Sequential(torch.nn.Linear(31, 21),\n",
    "                            torch.nn.ReLU(),\n",
    "                            torch.nn.Linear(21, 14),\n",
    "                            torch.nn.ReLU(),\n",
    "                            torch.nn.Linear(14, 9),\n",
    "                            torch.nn.ReLU(),\n",
    "                            torch.nn.Linear(9, 6),\n",
    "                            torch.nn.ReLU(),\n",
    "                            torch.nn.Linear(6, 4),\n",
    "                            torch.nn.ReLU(),\n",
    "                            torch.nn.Linear(4, 3),\n",
    "                            torch.nn.ReLU(),\n",
    "                            torch.nn.Linear(3, 1))"
   ]
  },
  {
   "cell_type": "code",
   "execution_count": 99,
   "metadata": {
    "collapsed": true
   },
   "outputs": [],
   "source": [
    "# To add errors to\n",
    "errors = []\n",
    "\n",
    "\n",
    "# Set the learning rate\n",
    "learning_rate = 5e-6\n",
    "\n",
    "\n",
    "# Train the neural network\n",
    "for t in range(10000):\n",
    "    \n",
    "    # Get the current predictions\n",
    "    y_pred = model(features_Variable)\n",
    "    \n",
    "    # Compute and append current summed errors\n",
    "    loss = loss_fn(y_pred, outcomes_Variable)\n",
    "    errors.append(loss.data[0])\n",
    "    \n",
    "    # Zero the gradients before running the backward pass.\n",
    "    model.zero_grad()\n",
    "    \n",
    "    # Backward pass: compute gradient of the loss with respect to all the learnable Variables\n",
    "    loss.backward()\n",
    "    \n",
    "    # Update the weights using gradient descent\n",
    "    for param in model.parameters():\n",
    "        param.data -= learning_rate * param.grad.data"
   ]
  },
  {
   "cell_type": "code",
   "execution_count": 100,
   "metadata": {
    "collapsed": false
   },
   "outputs": [
    {
     "data": {
      "text/plain": [
       "<matplotlib.collections.PathCollection at 0x7f877151c8d0>"
      ]
     },
     "execution_count": 100,
     "metadata": {},
     "output_type": "execute_result"
    },
    {
     "data": {
      "image/png": "[encoded data removed]",
      "text/plain": [
       "<matplotlib.figure.Figure at 0x7f87717cfc50>"
      ]
     },
     "metadata": {},
     "output_type": "display_data"
    }
   ],
   "source": [
    "# Plot summed error as a function of iteration\n",
    "plt.scatter(iterations, errors)"
   ]
  },
  {
   "cell_type": "code",
   "execution_count": 101,
   "metadata": {
    "collapsed": true
   },
   "outputs": [],
   "source": [
    "# Get rid of the 2nd dimension of 1 from the FloatTensor\n",
    "y_pred_resized = y_pred.resize(8270)\n",
    "\n",
    "\n",
    "# Make the FloatTensor into a numpy.array\n",
    "y_pred_array = y_pred_resized.data.numpy()\n",
    "\n",
    "\n",
    "# Make the numpy.array into a list\n",
    "y_pred_list = y_pred_array.tolist()"
   ]
  },
  {
   "cell_type": "code",
   "execution_count": 102,
   "metadata": {
    "collapsed": false
   },
   "outputs": [
    {
     "data": {
      "text/plain": [
       "[<matplotlib.lines.Line2D at 0x7f8771558d30>]"
      ]
     },
     "execution_count": 102,
     "metadata": {},
     "output_type": "execute_result"
    },
    {
     "data": {
      "image/png": "[encoded data removed]",
      "text/plain": [
       "<matplotlib.figure.Figure at 0x7f87715588d0>"
      ]
     },
     "metadata": {},
     "output_type": "display_data"
    }
   ],
   "source": [
    "# Plot predictions versus training set outcomes\n",
    "plt.scatter(outcomes_list, y_pred_list)\n",
    "\n",
    "axes = plt.gca()\n",
    "\n",
    "axes.set_xlim([-2, 4])\n",
    "\n",
    "axes.set_ylim([-2, 4])\n",
    "\n",
    "plt.plot([-2, 4], [-2, 4], 'k-', lw=2)"
   ]
  },
  {
   "cell_type": "markdown",
   "metadata": {},
   "source": [
    "### Round 6.1: Validation Set Performance"
   ]
  },
  {
   "cell_type": "code",
   "execution_count": 103,
   "metadata": {
    "collapsed": false
   },
   "outputs": [
    {
     "data": {
      "text/plain": [
       "Variable containing:\n",
       " 273.6076\n",
       "[torch.FloatTensor of size 1]"
      ]
     },
     "execution_count": 103,
     "metadata": {},
     "output_type": "execute_result"
    }
   ],
   "source": [
    "# Get the validation set predictions\n",
    "y_valid_pred = model(valid_predictors_Variable)\n",
    "\n",
    "\n",
    "# Print the loss\n",
    "loss_fn(y_valid_pred,\n",
    "        valid_outcomes_Variable)"
   ]
  },
  {
   "cell_type": "code",
   "execution_count": 104,
   "metadata": {
    "collapsed": true
   },
   "outputs": [],
   "source": [
    "# Get rid of the 2nd dimension of 1 from the FloatTensor\n",
    "y_valid_pred_resized = y_valid_pred.resize(2709)\n",
    "\n",
    "\n",
    "# Make the FloatTensor into a numpy.array\n",
    "y_valid_pred_array = y_valid_pred_resized.data.numpy()\n",
    "\n",
    "\n",
    "# Make the numpy.array into a list\n",
    "y_valid_pred_list = y_valid_pred_array.tolist()"
   ]
  },
  {
   "cell_type": "code",
   "execution_count": 105,
   "metadata": {
    "collapsed": false
   },
   "outputs": [
    {
     "data": {
      "text/plain": [
       "[<matplotlib.lines.Line2D at 0x7f8771476da0>]"
      ]
     },
     "execution_count": 105,
     "metadata": {},
     "output_type": "execute_result"
    },
    {
     "data": {
      "image/png": "[encoded data removed]",
      "text/plain": [
       "<matplotlib.figure.Figure at 0x7f87713c4898>"
      ]
     },
     "metadata": {},
     "output_type": "display_data"
    }
   ],
   "source": [
    "# Plot new predictions versus new data outcomes\n",
    "plt.scatter(valid_outcomes_list, y_valid_pred_list)\n",
    "\n",
    "axes = plt.gca()\n",
    "\n",
    "axes.set_xlim([-2, 4])\n",
    "\n",
    "axes.set_ylim([-2, 4])\n",
    "\n",
    "plt.plot([-2, 4], [-2, 4], 'k-', lw=2)"
   ]
  },
  {
   "cell_type": "markdown",
   "metadata": {},
   "source": [
    "### Round 6.2: Test Set Performance"
   ]
  },
  {
   "cell_type": "code",
   "execution_count": 106,
   "metadata": {
    "collapsed": false
   },
   "outputs": [
    {
     "data": {
      "text/plain": [
       "Variable containing:\n",
       " 269.9158\n",
       "[torch.FloatTensor of size 1]"
      ]
     },
     "execution_count": 106,
     "metadata": {},
     "output_type": "execute_result"
    }
   ],
   "source": [
    "# Get the validation set predictions\n",
    "y_test_pred = model(test_predictors_Variable)\n",
    "\n",
    "\n",
    "# Print the loss\n",
    "loss_fn(y_test_pred,\n",
    "        test_outcomes_Variable)"
   ]
  },
  {
   "cell_type": "code",
   "execution_count": 107,
   "metadata": {
    "collapsed": true
   },
   "outputs": [],
   "source": [
    "# Get rid of the 2nd dimension of 1 from the FloatTensor\n",
    "y_test_pred_resized = y_test_pred.resize(2712)\n",
    "\n",
    "\n",
    "# Make the FloatTensor into a numpy.array\n",
    "y_test_pred_array = y_test_pred_resized.data.numpy()\n",
    "\n",
    "\n",
    "# Convert back to native units and scale\n",
    "y_test_pred_array = y_test_pred_array*5.409956 + 7.691221\n",
    "\n",
    "\n",
    "# Make the numpy.array into a list\n",
    "y_test_pred_list = y_test_pred_array.tolist()"
   ]
  },
  {
   "cell_type": "code",
   "execution_count": 108,
   "metadata": {
    "collapsed": false
   },
   "outputs": [
    {
     "data": {
      "text/plain": [
       "<matplotlib.text.Text at 0x7f877139c470>"
      ]
     },
     "execution_count": 108,
     "metadata": {},
     "output_type": "execute_result"
    },
    {
     "data": {
      "image/png": "[encoded data removed]",
      "text/plain": [
       "<matplotlib.figure.Figure at 0x7f877140e0f0>"
      ]
     },
     "metadata": {},
     "output_type": "display_data"
    }
   ],
   "source": [
    "# Plot new predictions versus new data outcomes\n",
    "plt.scatter(test_outcomes_list, y_test_pred_list)\n",
    "\n",
    "axes = plt.gca()\n",
    "\n",
    "axes.set_xlim([2, 23])\n",
    "\n",
    "axes.set_ylim([2, 23])\n",
    "\n",
    "axes.set_xticks([2, 5, 8, 11, 14, 17, 20, 23])\n",
    "\n",
    "axes.set_yticks([2, 5, 8, 11, 14, 17, 20, 23])\n",
    "\n",
    "plt.plot([2, 23], [2, 23], 'k-', lw=2)\n",
    "\n",
    "axes.set_xlabel(\"Actual Outcome (Log-Transformed US Dollars)\")\n",
    "\n",
    "axes.set_ylabel(\"Model Prediction (Log-Transformed US Dollars)\")\n",
    "\n",
    "axes.set_title(\"Model Performance\")"
   ]
  },
  {
   "cell_type": "code",
   "execution_count": 109,
   "metadata": {
    "collapsed": false
   },
   "outputs": [
    {
     "data": {
      "text/plain": [
       "Parameter containing:\n",
       "\n",
       "Columns 0 to 9 \n",
       " 0.0726 -0.0034  0.0964 -0.1150 -0.0108  0.1114 -0.0700  0.1311 -0.1003  0.1374\n",
       "-0.1640 -0.0331  0.0093 -0.1022 -0.0374  0.2908 -0.0293 -0.1936 -0.0088  0.1316\n",
       " 0.0850  0.0409 -0.1022 -0.0259 -0.1337  0.1174  0.0780 -0.0286 -0.1000 -0.0233\n",
       " 0.1008 -0.0179 -0.0749  0.0650  0.1822  0.2485 -0.0123 -0.0860 -0.0690  0.0528\n",
       "-0.0192 -0.1809 -0.1281  0.0488 -0.0083  0.0574 -0.0685  0.1511 -0.0361  0.0960\n",
       " 0.0402  0.0355 -0.1145 -0.1656  0.0413 -0.0761  0.0170  0.0306  0.0199 -0.0652\n",
       "-0.0562 -0.0862 -0.0347 -0.1455  0.1420 -0.0805 -0.0998  0.0723 -0.1134 -0.0554\n",
       " 0.0444  0.0319  0.1139  0.1139 -0.1261  0.0878  0.1120  0.1513 -0.0762  0.1004\n",
       " 0.0910  0.0796  0.0631  0.1833 -0.0325 -0.1405 -0.1551  0.0712 -0.0243 -0.1674\n",
       " 0.2039  0.2747  0.0674  0.0796  0.2378 -0.0271  0.0773 -0.0024 -0.0112  0.0584\n",
       " 0.1814 -0.1787 -0.1445 -0.0703  0.0690  0.1626  0.1558  0.0644  0.0555 -0.1060\n",
       " 0.0392 -0.0754 -0.1487 -0.0729 -0.1428 -0.0957 -0.2361  0.0140 -0.0226  0.0642\n",
       "-0.1626 -0.1873  0.0508  0.2032  0.0869 -0.0342 -0.0532  0.0165 -0.1198  0.1214\n",
       " 0.0043 -0.0058  0.0553  0.0873 -0.1095  0.1253  0.0289 -0.0188 -0.0595  0.2011\n",
       "-0.1686 -0.1629 -0.1013  0.0246  0.1584  0.2492 -0.0311 -0.0416  0.0385 -0.1224\n",
       " 0.0443  0.2056 -0.0111  0.0791 -0.0189  0.0539  0.0939  0.1270 -0.1325  0.0700\n",
       "-0.0994 -0.1796 -0.0811  0.2109  0.1495 -0.0677  0.0093  0.0125 -0.0473 -0.0203\n",
       " 0.1085  0.1247 -0.1486  0.0462 -0.1959 -0.1610  0.2307  0.0505 -0.0894  0.0386\n",
       "-0.1086 -0.0487 -0.1993 -0.1144  0.1146  0.1234  0.0721 -0.1027 -0.0032 -0.0995\n",
       "-0.0970  0.0885 -0.0192  0.0881  0.1506 -0.0016  0.1355  0.1458 -0.0488  0.0952\n",
       "-0.1583 -0.1567 -0.1297 -0.2673 -0.2049 -0.0315  0.1507  0.2630  0.0110  0.0227\n",
       "\n",
       "Columns 10 to 19 \n",
       "-0.0117  0.0897 -0.0313  0.0046 -0.0307 -0.2417  0.2232 -0.0566 -0.0894 -0.0806\n",
       "-0.1554  0.1008  0.0736  0.0647  0.0660 -0.1592  0.0236 -0.1793  0.0240  0.0400\n",
       " 0.0313  0.0030  0.1343  0.0873 -0.1106 -0.0703 -0.1908  0.1682 -0.1520 -0.1394\n",
       " 0.1795  0.1202 -0.1026  0.1636 -0.1596  0.0119  0.1066 -0.0076 -0.0935  0.0078\n",
       " 0.0706 -0.1523 -0.0299 -0.1304  0.0934  0.0113  0.0244  0.0678  0.0763 -0.0256\n",
       "-0.1175 -0.0068  0.0581  0.1919 -0.0247 -0.1873  0.0758 -0.2743  0.0007 -0.0417\n",
       " 0.1461  0.0500  0.0024 -0.0255  0.0943  0.2566 -0.1595  0.0191 -0.0892  0.1306\n",
       "-0.0956 -0.0786 -0.1846 -0.1061 -0.0042  0.2001  0.1576 -0.1514 -0.0447  0.0579\n",
       " 0.0284  0.0690  0.0125 -0.0174 -0.1338  0.0764 -0.2550  0.0045 -0.1471  0.0784\n",
       "-0.0501 -0.0259  0.0632 -0.0849  0.0198 -0.0774  0.0931 -0.1051 -0.0768 -0.0826\n",
       " 0.0122  0.1159  0.0401 -0.0553  0.1000  0.1259 -0.0232  0.0595  0.0110 -0.0563\n",
       "-0.0221 -0.1489 -0.1856  0.1040  0.1471 -0.0759 -0.1817  0.0781  0.0608  0.1698\n",
       " 0.0607  0.0121 -0.0184  0.0552 -0.0048 -0.0969  0.0588 -0.0824  0.0314  0.1678\n",
       " 0.0992  0.0352  0.0455  0.0306  0.1317  0.0176  0.0617 -0.0118  0.1565  0.0026\n",
       "-0.0092  0.1893 -0.1335 -0.1641 -0.0592  0.0042 -0.0106 -0.0277 -0.0001  0.0835\n",
       " 0.1383  0.2139 -0.0732 -0.0402  0.1117 -0.1508  0.1373  0.1600 -0.0309  0.0921\n",
       " 0.0637  0.0321  0.0509 -0.0664  0.0739  0.1312 -0.0026  0.0691  0.1111  0.0117\n",
       "-0.0130  0.0426  0.0206  0.1049 -0.1200 -0.0398  0.0290  0.0080 -0.0040 -0.0265\n",
       " 0.0114  0.1146 -0.0154  0.0253 -0.0355  0.1513  0.0193 -0.0671 -0.1047 -0.0982\n",
       "-0.0589  0.0130 -0.1506 -0.0104 -0.0232  0.0654 -0.0497 -0.0414 -0.0326  0.1175\n",
       " 0.1579 -0.0914 -0.0091 -0.1118 -0.0821  0.0196  0.0874  0.0671 -0.0306 -0.1142\n",
       "\n",
       "Columns 20 to 29 \n",
       " 0.0068  0.1848 -0.0543 -0.1000  0.1459 -0.1632 -0.0637 -0.0172 -0.0891  0.0182\n",
       " 0.1838 -0.0101 -0.0280 -0.0796 -0.0132 -0.0333 -0.0222 -0.1115  0.1225 -0.0644\n",
       " 0.0388 -0.0551 -0.0607  0.0635  0.1589  0.1297  0.0535 -0.0343  0.0237  0.0349\n",
       " 0.0467 -0.1076 -0.0987  0.0896 -0.0872  0.0803 -0.0888 -0.1435 -0.0636  0.0289\n",
       " 0.0097  0.1081 -0.1663  0.2154  0.0777  0.0461 -0.0231  0.0039  0.0347 -0.0183\n",
       "-0.0059  0.0928  0.0938  0.1053  0.0755  0.1613  0.1215  0.1445  0.0313 -0.0486\n",
       "-0.0399  0.0199 -0.1246  0.0371 -0.0649 -0.0500 -0.1571 -0.0906 -0.1058 -0.0011\n",
       "-0.0523  0.2201  0.0997  0.0639 -0.1349  0.0027 -0.0684  0.0855  0.0113 -0.0197\n",
       "-0.0800  0.1735 -0.0356 -0.1466 -0.0323  0.1217 -0.1062  0.0803 -0.1162 -0.1049\n",
       " 0.0703  0.1001 -0.0790  0.1322  0.1231  0.1177 -0.0134 -0.0668  0.1767  0.0840\n",
       "-0.0484 -0.1067 -0.0608 -0.1025 -0.1583  0.0087  0.0675 -0.1781 -0.2182  0.1107\n",
       "-0.1197 -0.1735 -0.1351 -0.0796 -0.1497  0.0095  0.0332  0.0140 -0.1321 -0.0313\n",
       "-0.0526 -0.0093  0.2068  0.2025  0.0203 -0.0865  0.1830  0.0411  0.1265  0.0273\n",
       "-0.0659  0.0414  0.1311  0.1578  0.1466  0.1173 -0.1334  0.0161  0.0769  0.1170\n",
       " 0.1562 -0.1044  0.1128  0.0941 -0.0010  0.1242 -0.2027  0.0671 -0.1403  0.0932\n",
       "-0.1526 -0.2198  0.0495  0.0544  0.0671 -0.0560 -0.1473 -0.0236 -0.1690 -0.0173\n",
       " 0.0109  0.0321  0.0670  0.1236  0.0953  0.1343 -0.0028 -0.0913 -0.0643 -0.0030\n",
       " 0.0737 -0.1633  0.0386 -0.0591  0.0733 -0.0804 -0.0709 -0.1053  0.0541  0.0413\n",
       "-0.1747 -0.0943  0.0320 -0.0958 -0.0920  0.0238 -0.0968 -0.0350 -0.0063 -0.0555\n",
       " 0.0534 -0.0402 -0.0406  0.0233 -0.0439 -0.0957  0.0596  0.1279 -0.1965 -0.2413\n",
       " 0.1428  0.0757 -0.2446 -0.0823  0.1308 -0.1038 -0.0090  0.1107 -0.0968 -0.1038\n",
       "\n",
       "Columns 30 to 30 \n",
       " 0.2378\n",
       " 0.2101\n",
       " 0.1815\n",
       "-0.0978\n",
       " 0.0801\n",
       "-0.0896\n",
       "-0.2114\n",
       "-0.1802\n",
       "-0.0747\n",
       "-0.0295\n",
       "-0.0022\n",
       " 0.0560\n",
       "-0.0438\n",
       " 0.1340\n",
       "-0.1541\n",
       " 0.0370\n",
       " 0.1267\n",
       "-0.1896\n",
       "-0.1224\n",
       "-0.1698\n",
       " 0.0492\n",
       "[torch.FloatTensor of size 21x31]"
      ]
     },
     "execution_count": 109,
     "metadata": {},
     "output_type": "execute_result"
    }
   ],
   "source": [
    "model[(0)].weight"
   ]
  },
  {
   "cell_type": "code",
   "execution_count": 110,
   "metadata": {
    "collapsed": false
   },
   "outputs": [
    {
     "data": {
      "text/plain": [
       "Parameter containing:\n",
       "\n",
       "Columns 0 to 9 \n",
       "-0.0286 -0.1914 -0.2594  0.1209 -0.1265  0.2428  0.1525  0.0057 -0.0200  0.1972\n",
       "-0.0909  0.0567 -0.0815 -0.0213  0.1155 -0.0466  0.0454  0.1421  0.1915 -0.1046\n",
       " 0.0226  0.1962  0.0690  0.0845  0.0327 -0.0586 -0.0281 -0.0525 -0.0291 -0.1481\n",
       "-0.1491  0.0626  0.1307  0.0582 -0.0437  0.2356  0.1520  0.2156 -0.0426  0.1215\n",
       " 0.2096 -0.2112 -0.0712 -0.0191  0.0660 -0.0561  0.1591 -0.1159 -0.0063  0.0575\n",
       " 0.0026  0.1717  0.0871 -0.0607 -0.1667  0.1876  0.2424  0.2168 -0.0366 -0.1542\n",
       "-0.1042 -0.2302 -0.1890  0.0915 -0.0633  0.0338 -0.1420 -0.2165  0.0931  0.0899\n",
       "-0.1067  0.1557  0.0777  0.0325  0.1376 -0.1597 -0.2172 -0.0396 -0.0182  0.2424\n",
       "-0.1386 -0.1612  0.0935  0.0383  0.0165 -0.1306  0.0817 -0.1183  0.0240 -0.0815\n",
       "-0.2359 -0.0491  0.0078  0.0278 -0.1486  0.0470 -0.0219  0.1547 -0.1744 -0.0768\n",
       " 0.2169 -0.0239 -0.1042 -0.1150 -0.0860 -0.0582 -0.0695 -0.0483  0.2476  0.0015\n",
       " 0.0054  0.1652  0.1885 -0.0917 -0.0383  0.0798  0.0031  0.1403 -0.0296 -0.1208\n",
       " 0.1728 -0.0520 -0.0562 -0.0264 -0.0816  0.0109 -0.2166 -0.0433 -0.0752  0.1219\n",
       "-0.0582  0.1157  0.0711  0.0946 -0.0335  0.1393 -0.0008 -0.1532 -0.1236 -0.1757\n",
       "\n",
       "Columns 10 to 19 \n",
       " 0.1107 -0.1415  0.1548 -0.0076 -0.0805  0.0762 -0.0340  0.0048 -0.0957  0.2184\n",
       " 0.1304  0.0128  0.1177 -0.0332  0.1162  0.2277 -0.0453 -0.0078  0.0271 -0.0746\n",
       " 0.0221  0.0036 -0.0130 -0.1779 -0.1418 -0.1443  0.1575  0.2081 -0.1998 -0.2168\n",
       " 0.1698  0.1372  0.1544 -0.0827 -0.1293 -0.1365 -0.0500 -0.1761 -0.0066 -0.1339\n",
       "-0.2018  0.1154 -0.0116  0.1580 -0.1630 -0.2587  0.0551  0.1609 -0.0819 -0.2194\n",
       "-0.1297  0.0655  0.0761  0.0869  0.1781  0.2181 -0.0104  0.0823  0.1184 -0.1047\n",
       "-0.0124 -0.1485  0.0155  0.0252 -0.1590 -0.0295  0.1134  0.0111  0.0387 -0.1576\n",
       " 0.0829 -0.0164  0.1722 -0.0609 -0.2197  0.0783  0.0194  0.1480  0.1120  0.0088\n",
       "-0.1562  0.2474  0.2390 -0.0720  0.2264 -0.2060  0.2040 -0.1754 -0.1571 -0.0881\n",
       " 0.1416  0.0151 -0.0048  0.0284  0.1159  0.0256  0.1398  0.2460  0.1239  0.2298\n",
       " 0.1079  0.1805 -0.1130  0.0527  0.0588  0.2152 -0.0707  0.0946  0.1255 -0.1730\n",
       " 0.0482 -0.1112  0.0347 -0.2060  0.1378  0.1503 -0.1441 -0.0938  0.1546  0.1242\n",
       "-0.2047  0.1897  0.0290 -0.1670  0.1146 -0.1988 -0.1467 -0.1785 -0.1209  0.0455\n",
       "-0.0275  0.1443 -0.0775  0.0685 -0.1167 -0.0897 -0.1883 -0.0783 -0.1269 -0.1860\n",
       "\n",
       "Columns 20 to 20 \n",
       " 0.0103\n",
       " 0.1216\n",
       "-0.0948\n",
       " 0.1249\n",
       " 0.1407\n",
       "-0.0130\n",
       "-0.1084\n",
       "-0.0694\n",
       " 0.0672\n",
       " 0.1029\n",
       " 0.0597\n",
       " 0.0440\n",
       " 0.2188\n",
       " 0.2110\n",
       "[torch.FloatTensor of size 14x21]"
      ]
     },
     "execution_count": 110,
     "metadata": {},
     "output_type": "execute_result"
    }
   ],
   "source": [
    "model[(2)].weight"
   ]
  },
  {
   "cell_type": "code",
   "execution_count": 111,
   "metadata": {
    "collapsed": false
   },
   "outputs": [
    {
     "data": {
      "text/plain": [
       "Parameter containing:\n",
       "\n",
       "Columns 0 to 9 \n",
       "-0.2266  0.0551 -0.1937  0.0624  0.1422  0.1028 -0.0584 -0.0711 -0.1395 -0.1971\n",
       " 0.2929  0.1614  0.0772 -0.0971 -0.0527 -0.1882 -0.1114  0.2390  0.2904  0.2371\n",
       " 0.1922  0.2021 -0.0057 -0.1132 -0.0278 -0.1937 -0.0980 -0.0476  0.0610  0.0495\n",
       " 0.2104  0.2786  0.0881 -0.2641  0.2333 -0.2256 -0.0113 -0.0752  0.0559  0.1051\n",
       "-0.1278 -0.1715  0.2382 -0.0801 -0.1836  0.2813 -0.0928 -0.2463  0.0684  0.2510\n",
       "-0.0913  0.0770 -0.0837 -0.1230  0.0782  0.3470 -0.2602 -0.1920 -0.2077  0.1761\n",
       "-0.2934  0.1470  0.1782 -0.0870  0.1659  0.3020  0.1422 -0.2693 -0.1312  0.0950\n",
       "-0.1941 -0.1967  0.2581  0.0602  0.3263  0.3512  0.0424 -0.2416 -0.2050  0.1869\n",
       " 0.2326 -0.2450  0.0740 -0.1769 -0.2294 -0.1351  0.2548  0.2313 -0.1872 -0.1691\n",
       "\n",
       "Columns 10 to 13 \n",
       " 0.2203 -0.0717  0.0628  0.1050\n",
       " 0.2432  0.1297  0.0159  0.0640\n",
       " 0.0978 -0.0929  0.1451  0.1340\n",
       " 0.2603 -0.2747  0.0585 -0.1080\n",
       " 0.0489  0.0654  0.2538 -0.1974\n",
       " 0.1546  0.1399  0.1058  0.1524\n",
       "-0.1042 -0.1419 -0.1079  0.2268\n",
       " 0.0655 -0.0420  0.3227  0.0737\n",
       "-0.1120  0.0327  0.2004 -0.0542\n",
       "[torch.FloatTensor of size 9x14]"
      ]
     },
     "execution_count": 111,
     "metadata": {},
     "output_type": "execute_result"
    }
   ],
   "source": [
    "model[(4)].weight"
   ]
  },
  {
   "cell_type": "code",
   "execution_count": 112,
   "metadata": {
    "collapsed": false
   },
   "outputs": [
    {
     "data": {
      "text/plain": [
       "Parameter containing:\n",
       " 0.2765 -0.0621  0.2175  0.1277  0.3963  0.4531  0.3317  0.2340 -0.2548\n",
       " 0.0389  0.3827  0.1964 -0.3102  0.1886 -0.1664 -0.0685 -0.2672  0.0282\n",
       "-0.2678 -0.1536  0.3184 -0.0983 -0.2936 -0.3185 -0.2727  0.2255 -0.0211\n",
       "-0.2921 -0.2983 -0.3280 -0.1559  0.3123 -0.3306 -0.2359 -0.3174 -0.2146\n",
       " 0.1841  0.0482 -0.0514  0.1856  0.2873  0.1096 -0.1995 -0.3273  0.2465\n",
       " 0.2653  0.0706  0.0066  0.4294 -0.1122 -0.3052 -0.2572 -0.4149 -0.2262\n",
       "[torch.FloatTensor of size 6x9]"
      ]
     },
     "execution_count": 112,
     "metadata": {},
     "output_type": "execute_result"
    }
   ],
   "source": [
    "model[(6)].weight"
   ]
  },
  {
   "cell_type": "code",
   "execution_count": 113,
   "metadata": {
    "collapsed": false
   },
   "outputs": [
    {
     "data": {
      "text/plain": [
       "Parameter containing:\n",
       "-0.1306  0.2055  0.0715  0.2142 -0.3453 -0.2598\n",
       " 0.5728 -0.4805  0.0491  0.2787  0.0862 -0.5200\n",
       " 0.3133 -0.0012 -0.1863 -0.2133 -0.3952  0.0756\n",
       "-0.2775  0.3138 -0.1302  0.3443 -0.2733  0.5387\n",
       "[torch.FloatTensor of size 4x6]"
      ]
     },
     "execution_count": 113,
     "metadata": {},
     "output_type": "execute_result"
    }
   ],
   "source": [
    "model[(8)].weight"
   ]
  },
  {
   "cell_type": "code",
   "execution_count": 114,
   "metadata": {
    "collapsed": false
   },
   "outputs": [
    {
     "data": {
      "text/plain": [
       "Parameter containing:\n",
       " 0.0135  0.8928  0.1524 -0.7139\n",
       "-0.4107 -0.2723  0.3155  0.5499\n",
       " 0.1361 -0.1879 -0.0676 -0.0773\n",
       "[torch.FloatTensor of size 3x4]"
      ]
     },
     "execution_count": 114,
     "metadata": {},
     "output_type": "execute_result"
    }
   ],
   "source": [
    "model[(10)].weight"
   ]
  },
  {
   "cell_type": "code",
   "execution_count": 115,
   "metadata": {
    "collapsed": false
   },
   "outputs": [
    {
     "data": {
      "text/plain": [
       "Parameter containing:\n",
       "-1.0124  0.7084  0.2374\n",
       "[torch.FloatTensor of size 1x3]"
      ]
     },
     "execution_count": 115,
     "metadata": {},
     "output_type": "execute_result"
    }
   ],
   "source": [
    "model[(12)].weight"
   ]
  },
  {
   "cell_type": "markdown",
   "metadata": {},
   "source": [
    "## Round 7: Seven-Hidden-Layer Neural Network"
   ]
  },
  {
   "cell_type": "code",
   "execution_count": 116,
   "metadata": {
    "collapsed": true
   },
   "outputs": [],
   "source": [
    "# Make the torch Tensor into a PyTorch Variable for dependent variables\n",
    "outcomes_Variable = Variable(outcomes_Tensor)\n",
    "\n",
    "\n",
    "# ...for independent variables\n",
    "features_Variable = Variable(features_Tensor,\n",
    "                             requires_grad = False)"
   ]
  },
  {
   "cell_type": "code",
   "execution_count": 117,
   "metadata": {
    "collapsed": true
   },
   "outputs": [],
   "source": [
    "# Make the neural network\n",
    "model = torch.nn.Sequential(torch.nn.Linear(31, 21),\n",
    "                            torch.nn.ReLU(),\n",
    "                            torch.nn.Linear(21, 14),\n",
    "                            torch.nn.ReLU(),\n",
    "                            torch.nn.Linear(14, 9),\n",
    "                            torch.nn.ReLU(),\n",
    "                            torch.nn.Linear(9, 6),\n",
    "                            torch.nn.ReLU(),\n",
    "                            torch.nn.Linear(6, 4),\n",
    "                            torch.nn.ReLU(),\n",
    "                            torch.nn.Linear(4, 3),\n",
    "                            torch.nn.ReLU(),\n",
    "                            torch.nn.Linear(3, 2),\n",
    "                            torch.nn.ReLU(),\n",
    "                            torch.nn.Linear(2, 1))"
   ]
  },
  {
   "cell_type": "code",
   "execution_count": 118,
   "metadata": {
    "collapsed": true
   },
   "outputs": [],
   "source": [
    "# To add errors to\n",
    "errors = []\n",
    "\n",
    "\n",
    "# Set the learning rate\n",
    "learning_rate = 5e-6\n",
    "\n",
    "\n",
    "# Train the neural network\n",
    "for t in range(10000):\n",
    "    \n",
    "    # Get the current predictions\n",
    "    y_pred = model(features_Variable)\n",
    "    \n",
    "    # Compute and append current summed errors\n",
    "    loss = loss_fn(y_pred, outcomes_Variable)\n",
    "    errors.append(loss.data[0])\n",
    "    \n",
    "    # Zero the gradients before running the backward pass.\n",
    "    model.zero_grad()\n",
    "    \n",
    "    # Backward pass: compute gradient of the loss with respect to all the learnable Variables\n",
    "    loss.backward()\n",
    "    \n",
    "    # Update the weights using gradient descent\n",
    "    for param in model.parameters():\n",
    "        param.data -= learning_rate * param.grad.data"
   ]
  },
  {
   "cell_type": "code",
   "execution_count": 119,
   "metadata": {
    "collapsed": false
   },
   "outputs": [
    {
     "data": {
      "text/plain": [
       "<matplotlib.collections.PathCollection at 0x7f87712e42b0>"
      ]
     },
     "execution_count": 119,
     "metadata": {},
     "output_type": "execute_result"
    },
    {
     "data": {
      "image/png": "[encoded data removed]",
      "text/plain": [
       "<matplotlib.figure.Figure at 0x7f8771590d68>"
      ]
     },
     "metadata": {},
     "output_type": "display_data"
    }
   ],
   "source": [
    "# Plot summed error as a function of iteration\n",
    "plt.scatter(iterations, errors)"
   ]
  },
  {
   "cell_type": "code",
   "execution_count": 120,
   "metadata": {
    "collapsed": true
   },
   "outputs": [],
   "source": [
    "# Get rid of the 2nd dimension of 1 from the FloatTensor\n",
    "y_pred_resized = y_pred.resize(8270)\n",
    "\n",
    "\n",
    "# Make the FloatTensor into a numpy.array\n",
    "y_pred_array = y_pred_resized.data.numpy()\n",
    "\n",
    "\n",
    "# Make the numpy.array into a list\n",
    "y_pred_list = y_pred_array.tolist()"
   ]
  },
  {
   "cell_type": "code",
   "execution_count": 121,
   "metadata": {
    "collapsed": false
   },
   "outputs": [
    {
     "data": {
      "text/plain": [
       "[<matplotlib.lines.Line2D at 0x7f8771321dd8>]"
      ]
     },
     "execution_count": 121,
     "metadata": {},
     "output_type": "execute_result"
    },
    {
     "data": {
      "image/png": "[encoded data removed]",
      "text/plain": [
       "<matplotlib.figure.Figure at 0x7f8771321be0>"
      ]
     },
     "metadata": {},
     "output_type": "display_data"
    }
   ],
   "source": [
    "# Plot predictions versus training set outcomes\n",
    "plt.scatter(outcomes_list, y_pred_list)\n",
    "\n",
    "axes = plt.gca()\n",
    "\n",
    "axes.set_xlim([-2, 4])\n",
    "\n",
    "axes.set_ylim([-2, 4])\n",
    "\n",
    "plt.plot([-2, 4], [-2, 4], 'k-', lw=2)"
   ]
  },
  {
   "cell_type": "markdown",
   "metadata": {},
   "source": [
    "### Round 7.1: Validation Set Performance"
   ]
  },
  {
   "cell_type": "code",
   "execution_count": 122,
   "metadata": {
    "collapsed": false
   },
   "outputs": [
    {
     "data": {
      "text/plain": [
       "Variable containing:\n",
       " 272.7384\n",
       "[torch.FloatTensor of size 1]"
      ]
     },
     "execution_count": 122,
     "metadata": {},
     "output_type": "execute_result"
    }
   ],
   "source": [
    "# Get the validation set predictions\n",
    "y_valid_pred = model(valid_predictors_Variable)\n",
    "\n",
    "\n",
    "# Print the loss\n",
    "loss_fn(y_valid_pred,\n",
    "        valid_outcomes_Variable)"
   ]
  },
  {
   "cell_type": "code",
   "execution_count": 123,
   "metadata": {
    "collapsed": true
   },
   "outputs": [],
   "source": [
    "# Get rid of the 2nd dimension of 1 from the FloatTensor\n",
    "y_valid_pred_resized = y_valid_pred.resize(2709)\n",
    "\n",
    "\n",
    "# Make the FloatTensor into a numpy.array\n",
    "y_valid_pred_array = y_valid_pred_resized.data.numpy()\n",
    "\n",
    "\n",
    "# Make the numpy.array into a list\n",
    "y_valid_pred_list = y_valid_pred_array.tolist()"
   ]
  },
  {
   "cell_type": "code",
   "execution_count": 124,
   "metadata": {
    "collapsed": false
   },
   "outputs": [
    {
     "data": {
      "text/plain": [
       "[<matplotlib.lines.Line2D at 0x7f87711de748>]"
      ]
     },
     "execution_count": 124,
     "metadata": {},
     "output_type": "execute_result"
    },
    {
     "data": {
      "image/png": "[encoded data removed]",
      "text/plain": [
       "<matplotlib.figure.Figure at 0x7f87711de400>"
      ]
     },
     "metadata": {},
     "output_type": "display_data"
    }
   ],
   "source": [
    "# Plot new predictions versus new data outcomes\n",
    "plt.scatter(valid_outcomes_list, y_valid_pred_list)\n",
    "\n",
    "axes = plt.gca()\n",
    "\n",
    "axes.set_xlim([-2, 4])\n",
    "\n",
    "axes.set_ylim([-2, 4])\n",
    "\n",
    "plt.plot([-2, 4], [-2, 4], 'k-', lw=2)"
   ]
  },
  {
   "cell_type": "markdown",
   "metadata": {},
   "source": [
    "### Round 7.2: Test Set Performance"
   ]
  },
  {
   "cell_type": "code",
   "execution_count": 125,
   "metadata": {
    "collapsed": false
   },
   "outputs": [
    {
     "data": {
      "text/plain": [
       "Variable containing:\n",
       " 270.0237\n",
       "[torch.FloatTensor of size 1]"
      ]
     },
     "execution_count": 125,
     "metadata": {},
     "output_type": "execute_result"
    }
   ],
   "source": [
    "# Get the validation set predictions\n",
    "y_test_pred = model(test_predictors_Variable)\n",
    "\n",
    "\n",
    "# Print the loss\n",
    "loss_fn(y_test_pred,\n",
    "        test_outcomes_Variable)"
   ]
  },
  {
   "cell_type": "code",
   "execution_count": 126,
   "metadata": {
    "collapsed": true
   },
   "outputs": [],
   "source": [
    "# Get rid of the 2nd dimension of 1 from the FloatTensor\n",
    "y_test_pred_resized = y_test_pred.resize(2712)\n",
    "\n",
    "\n",
    "# Make the FloatTensor into a numpy.array\n",
    "y_test_pred_array = y_test_pred_resized.data.numpy()\n",
    "\n",
    "\n",
    "# Convert back to native units and scale\n",
    "y_test_pred_array = y_test_pred_array*5.409956 + 7.691221\n",
    "\n",
    "\n",
    "# Make the numpy.array into a list\n",
    "y_test_pred_list = y_test_pred_array.tolist()"
   ]
  },
  {
   "cell_type": "code",
   "execution_count": 127,
   "metadata": {
    "collapsed": false
   },
   "outputs": [
    {
     "data": {
      "text/plain": [
       "<matplotlib.text.Text at 0x7f877116e6a0>"
      ]
     },
     "execution_count": 127,
     "metadata": {},
     "output_type": "execute_result"
    },
    {
     "data": {
      "image/png": "[encoded data removed]",
      "text/plain": [
       "<matplotlib.figure.Figure at 0x7f87713f2668>"
      ]
     },
     "metadata": {},
     "output_type": "display_data"
    }
   ],
   "source": [
    "# Plot new predictions versus new data outcomes\n",
    "plt.scatter(test_outcomes_list, y_test_pred_list)\n",
    "\n",
    "axes = plt.gca()\n",
    "\n",
    "axes.set_xlim([2, 23])\n",
    "\n",
    "axes.set_ylim([2, 23])\n",
    "\n",
    "axes.set_xticks([2, 5, 8, 11, 14, 17, 20, 23])\n",
    "\n",
    "axes.set_yticks([2, 5, 8, 11, 14, 17, 20, 23])\n",
    "\n",
    "plt.plot([2, 23], [2, 23], 'k-', lw=2)\n",
    "\n",
    "axes.set_xlabel(\"Actual Outcome (Log-Transformed US Dollars)\")\n",
    "\n",
    "axes.set_ylabel(\"Model Prediction (Log-Transformed US Dollars)\")\n",
    "\n",
    "axes.set_title(\"Model Performance\")"
   ]
  },
  {
   "cell_type": "code",
   "execution_count": 128,
   "metadata": {
    "collapsed": false
   },
   "outputs": [
    {
     "data": {
      "text/plain": [
       "Parameter containing:\n",
       "\n",
       "Columns 0 to 9 \n",
       " 0.2338  0.2422  0.1484 -0.0417  0.0656 -0.1019  0.0251  0.0396  0.1128 -0.1200\n",
       " 0.1135  0.0221  0.0665  0.1709  0.1571  0.1134  0.0299  0.1219  0.1354  0.1634\n",
       " 0.0232  0.0610  0.1622 -0.0412 -0.1647 -0.0694 -0.1925  0.0469  0.1623 -0.0091\n",
       "-0.0713  0.0167  0.1575 -0.0876 -0.1705 -0.0719 -0.1428  0.0317  0.0823  0.1622\n",
       " 0.0417 -0.0325  0.1473  0.1234 -0.1479 -0.0459  0.0041 -0.1039  0.1911 -0.0393\n",
       "-0.1503  0.0260  0.1296  0.1817 -0.1718  0.0295 -0.0504 -0.1206 -0.0539 -0.0586\n",
       "-0.1598 -0.0990  0.0357 -0.1880 -0.1879 -0.0188 -0.1006  0.0244 -0.0212  0.0629\n",
       " 0.1304  0.0461  0.0631  0.1819 -0.0266 -0.0564 -0.0999 -0.0865 -0.0818  0.0556\n",
       "-0.0979 -0.0576 -0.1756  0.0512 -0.0739  0.0576 -0.0269 -0.2088 -0.0611  0.1099\n",
       "-0.1261 -0.2613 -0.0616 -0.0113  0.0531  0.0064 -0.0809  0.0709 -0.0250 -0.0648\n",
       " 0.0031 -0.0046  0.1341  0.1504 -0.2825  0.1119  0.0689  0.0827 -0.1202  0.0879\n",
       " 0.0705 -0.1422  0.0098  0.0669  0.0537  0.0494  0.1449  0.1702  0.0457  0.0686\n",
       "-0.0987  0.1684  0.1318 -0.0686  0.0773 -0.0858 -0.0201 -0.2016 -0.0334  0.1587\n",
       "-0.1262 -0.0154  0.1100  0.2714  0.0710 -0.1260 -0.1303 -0.0929  0.1267  0.1414\n",
       " 0.0045  0.2357 -0.1165  0.1385  0.1162 -0.1040  0.0180  0.1117 -0.1545 -0.0126\n",
       "-0.1215 -0.0944  0.1282  0.0578  0.1448  0.0631 -0.0368 -0.0756  0.1639 -0.1643\n",
       "-0.1467  0.0931 -0.0492 -0.0783 -0.0141 -0.1155  0.0848 -0.1751  0.0880 -0.1101\n",
       " 0.1839 -0.0277  0.0767  0.1570  0.1718 -0.0529  0.0913 -0.1366 -0.0613 -0.0515\n",
       "-0.0445  0.0978 -0.1548 -0.0598 -0.1822 -0.1529 -0.0854  0.0581  0.1455  0.0995\n",
       "-0.0609 -0.0057 -0.0034  0.0226  0.1612 -0.0028  0.1610  0.1491 -0.0639  0.1708\n",
       " 0.2021 -0.1646 -0.1298  0.0465  0.0623  0.0539  0.0308 -0.0198  0.0573 -0.0168\n",
       "\n",
       "Columns 10 to 19 \n",
       " 0.0227  0.0084  0.0054  0.0700 -0.1197 -0.1539 -0.0940  0.0492 -0.1003 -0.0326\n",
       "-0.1315 -0.0895  0.0083  0.0604  0.2172 -0.0203 -0.1666 -0.1591 -0.1289  0.0231\n",
       " 0.0318 -0.1482  0.0448  0.0189  0.0915 -0.0783 -0.1314  0.0456  0.1225 -0.0560\n",
       " 0.1228 -0.0858  0.0630  0.2242  0.1513 -0.0721 -0.1181 -0.1187  0.0848 -0.1168\n",
       " 0.1120  0.0217  0.0065 -0.0167 -0.1259  0.0015 -0.0340 -0.0996  0.1681 -0.0453\n",
       "-0.1293  0.0871  0.1156  0.1009  0.0502  0.0839  0.0674  0.0380 -0.1122  0.0661\n",
       " 0.0118  0.1213 -0.0783  0.0097 -0.0899 -0.1237  0.0267 -0.0284 -0.0138  0.0331\n",
       " 0.0670 -0.0864 -0.0874  0.1911  0.0930  0.1254  0.0290 -0.1236 -0.0698 -0.0696\n",
       " 0.0573  0.1597 -0.0423  0.1584  0.0005  0.1812 -0.1055 -0.0789  0.0626  0.1659\n",
       " 0.1567 -0.2015  0.1515  0.0878 -0.1038 -0.0411  0.1313 -0.1438  0.0963 -0.0422\n",
       "-0.0081  0.0648  0.0731  0.1533  0.0241 -0.1418 -0.0707  0.0340  0.0347  0.0057\n",
       " 0.1394 -0.0713  0.1246  0.1175 -0.0439 -0.0504 -0.1602  0.1084  0.0444  0.1417\n",
       " 0.0704  0.0625  0.0291  0.0311 -0.1192 -0.0176 -0.1883  0.0035 -0.0892 -0.0401\n",
       "-0.0009 -0.1406 -0.0244 -0.2513  0.0890  0.1424  0.0600  0.0875  0.0858  0.0717\n",
       " 0.0511 -0.1488 -0.1106  0.1202 -0.0130  0.0688 -0.1037 -0.1145 -0.0923  0.1213\n",
       " 0.1383  0.0999  0.0661 -0.1407 -0.0140  0.0646  0.0940  0.0354  0.0973 -0.0401\n",
       "-0.0108  0.0387 -0.0005  0.0611 -0.0050  0.0169 -0.1716 -0.0614 -0.0135 -0.2092\n",
       "-0.0416  0.0813  0.0366  0.0780 -0.0972  0.0866 -0.1329  0.1276  0.0753 -0.1394\n",
       " 0.0109  0.1030  0.0108  0.0756 -0.1447  0.0684  0.0131  0.0968 -0.1972  0.0156\n",
       " 0.0837  0.1201  0.0301  0.0544  0.1032 -0.0891 -0.1324  0.0948 -0.0122  0.0847\n",
       " 0.1678  0.1526 -0.0591  0.0506  0.0282 -0.1451  0.1521 -0.0797  0.0012  0.0109\n",
       "\n",
       "Columns 20 to 29 \n",
       "-0.0262 -0.0433 -0.0029  0.1153  0.1157  0.0167  0.1941 -0.1072  0.1476  0.0219\n",
       "-0.0456  0.0970  0.1686  0.1430 -0.0599  0.0478  0.1109  0.0145  0.0286 -0.0053\n",
       "-0.1220  0.0262  0.0556 -0.0490  0.0279  0.1094  0.0954  0.0743 -0.1320  0.0742\n",
       " 0.0263 -0.0098  0.0028 -0.1236  0.0480 -0.0236 -0.1021  0.0749  0.0981 -0.1323\n",
       "-0.1487 -0.1399 -0.0086 -0.0019 -0.0836  0.0169 -0.0309 -0.0561 -0.1418 -0.0321\n",
       " 0.0594 -0.0775 -0.0852 -0.2011  0.0834 -0.0917  0.0751 -0.1244 -0.0051 -0.0381\n",
       " 0.0375 -0.0167 -0.1930  0.0762 -0.0786  0.0729 -0.1551 -0.0686 -0.0599  0.0163\n",
       "-0.0637  0.1802 -0.1553  0.0320 -0.1570  0.1101  0.0821  0.1355  0.0266  0.0822\n",
       "-0.0709 -0.2547 -0.1076 -0.1322 -0.0748 -0.0236  0.1331 -0.1316  0.1533 -0.0605\n",
       " 0.1309 -0.0179 -0.0645  0.2159 -0.1283  0.0971  0.2368 -0.0412  0.0392  0.1491\n",
       " 0.1225  0.0504 -0.0492 -0.0888  0.0838 -0.0280 -0.0866  0.0316 -0.0648 -0.0002\n",
       "-0.1433  0.0838 -0.0580 -0.0162 -0.1315 -0.1268  0.0302  0.0494  0.0290 -0.1753\n",
       " 0.0679  0.0381  0.1823  0.0703 -0.1319  0.1034 -0.1532 -0.1457 -0.0843 -0.1040\n",
       " 0.0626  0.0868  0.1784 -0.0653  0.0472  0.0285  0.1288 -0.0626 -0.0416 -0.1348\n",
       " 0.0434  0.0842  0.0950  0.1411  0.1163 -0.0043 -0.0084 -0.0968  0.0850  0.1786\n",
       "-0.1589 -0.1533  0.1817 -0.1504 -0.0746 -0.1336 -0.0426  0.0741 -0.0424  0.1943\n",
       "-0.0625 -0.2163  0.1592 -0.1762 -0.0316  0.1233  0.0199  0.0884  0.0471  0.1252\n",
       " 0.1099  0.1187 -0.0899 -0.1099 -0.0356  0.0838  0.0449  0.1597 -0.0699  0.0617\n",
       " 0.0298  0.0359 -0.0063 -0.1641  0.0083 -0.1864 -0.1102 -0.0621 -0.0490  0.1312\n",
       " 0.0265 -0.1988  0.1806  0.0306  0.0807 -0.1896 -0.0292  0.1528 -0.0175 -0.1079\n",
       "-0.1480 -0.1198  0.1107  0.0136 -0.0819  0.0329  0.1196 -0.0682  0.0206 -0.0384\n",
       "\n",
       "Columns 30 to 30 \n",
       " 0.1403\n",
       "-0.1799\n",
       "-0.0338\n",
       " 0.1434\n",
       " 0.0033\n",
       " 0.0531\n",
       " 0.0509\n",
       " 0.0281\n",
       "-0.0840\n",
       "-0.0398\n",
       " 0.0257\n",
       "-0.0050\n",
       " 0.1077\n",
       " 0.0221\n",
       " 0.1457\n",
       " 0.0794\n",
       " 0.0362\n",
       " 0.0298\n",
       " 0.0383\n",
       " 0.0498\n",
       "-0.0999\n",
       "[torch.FloatTensor of size 21x31]"
      ]
     },
     "execution_count": 128,
     "metadata": {},
     "output_type": "execute_result"
    }
   ],
   "source": [
    "model[(0)].weight"
   ]
  },
  {
   "cell_type": "code",
   "execution_count": 129,
   "metadata": {
    "collapsed": false
   },
   "outputs": [
    {
     "data": {
      "text/plain": [
       "Parameter containing:\n",
       "\n",
       "Columns 0 to 9 \n",
       "-0.0702 -0.1904 -0.1783  0.0171 -0.1064 -0.0393  0.0828  0.1140 -0.0901 -0.1292\n",
       " 0.0622 -0.0351  0.2102 -0.0184  0.1296  0.0132  0.0150  0.0468  0.1310 -0.1237\n",
       "-0.0892 -0.2076  0.1076  0.0409  0.1272  0.1212 -0.1442  0.1061 -0.1373 -0.1111\n",
       " 0.0306 -0.1165 -0.2060 -0.0340 -0.1343 -0.0360  0.1827  0.2294  0.0541  0.0369\n",
       " 0.0057 -0.1215  0.0249  0.0296 -0.0220  0.1523  0.1947 -0.0944 -0.0365  0.2092\n",
       " 0.0856  0.0749  0.0092  0.0789  0.1569  0.0458  0.1623 -0.1745 -0.0127  0.0356\n",
       " 0.1942  0.0601  0.1185 -0.0770 -0.1267  0.1250 -0.0872  0.0651 -0.1330 -0.0637\n",
       "-0.1050  0.0173  0.0559 -0.0633 -0.0531 -0.1711 -0.1323 -0.2115  0.0260  0.1707\n",
       " 0.1491 -0.1462  0.0133 -0.0844 -0.1873  0.1775  0.1268 -0.0543 -0.2249  0.1997\n",
       "-0.0368 -0.0113  0.1176 -0.1998  0.0796  0.1748  0.1511  0.1128 -0.1493 -0.0701\n",
       " 0.1972  0.1710 -0.1886  0.0028 -0.1210  0.1216  0.0245 -0.0059  0.0438  0.1572\n",
       " 0.1296  0.0240 -0.0663 -0.1558  0.0608 -0.0336  0.1868  0.0419  0.0437 -0.1192\n",
       "-0.1491  0.2074 -0.1683  0.1765 -0.2243 -0.1386  0.2079  0.0666  0.1655 -0.1470\n",
       "-0.0832  0.0540 -0.1682 -0.1404 -0.2036  0.0164  0.0640  0.0090  0.2204  0.1294\n",
       "\n",
       "Columns 10 to 19 \n",
       "-0.1710 -0.1337 -0.0369  0.0366  0.1574  0.0677  0.0571 -0.0620 -0.1066  0.1770\n",
       " 0.0843 -0.1279  0.0063  0.0721  0.0505 -0.1568 -0.0664  0.0554 -0.2347  0.0359\n",
       "-0.1506 -0.1633 -0.1020  0.0735  0.0231 -0.1318 -0.1597 -0.1465  0.1033 -0.1998\n",
       " 0.1101 -0.1755  0.1445 -0.0570 -0.1963  0.1102  0.0454 -0.1753  0.1542  0.2204\n",
       "-0.0568 -0.1882 -0.0654 -0.0530  0.0447 -0.1545 -0.2034  0.0401  0.0152 -0.0539\n",
       " 0.1781  0.2140 -0.2154 -0.1111 -0.0139 -0.1073  0.1306  0.1752  0.2200 -0.0487\n",
       "-0.2152 -0.1677 -0.0706  0.0567  0.0623  0.1510  0.1647  0.1301  0.0117 -0.0846\n",
       " 0.0461  0.0669  0.1339 -0.0904 -0.1689  0.1808  0.0015 -0.0036 -0.1693  0.0953\n",
       "-0.1526 -0.0215  0.1925  0.1483 -0.0668  0.2024 -0.0848  0.1649  0.1925  0.1893\n",
       " 0.2153  0.1354 -0.1808 -0.1899  0.0081 -0.1998  0.1903 -0.1136 -0.2068  0.1489\n",
       "-0.1733 -0.1053  0.2190  0.3044  0.0555 -0.0597 -0.0888  0.1986  0.0017  0.2269\n",
       " 0.1211 -0.1878 -0.1211  0.1946 -0.1891 -0.1300 -0.1003 -0.0496 -0.0244 -0.1494\n",
       " 0.1298  0.0507  0.2010 -0.0073 -0.1537  0.0383  0.0740  0.2036 -0.1933 -0.2333\n",
       "-0.1914  0.0012  0.0399  0.1628 -0.0037 -0.1239 -0.0827 -0.0397  0.0167 -0.2006\n",
       "\n",
       "Columns 20 to 20 \n",
       "-0.0453\n",
       "-0.0688\n",
       "-0.1351\n",
       " 0.0643\n",
       " 0.0101\n",
       "-0.1609\n",
       " 0.0526\n",
       "-0.0211\n",
       " 0.1848\n",
       "-0.0054\n",
       " 0.1973\n",
       " 0.0856\n",
       "-0.2136\n",
       "-0.1832\n",
       "[torch.FloatTensor of size 14x21]"
      ]
     },
     "execution_count": 129,
     "metadata": {},
     "output_type": "execute_result"
    }
   ],
   "source": [
    "model[(2)].weight"
   ]
  },
  {
   "cell_type": "code",
   "execution_count": 130,
   "metadata": {
    "collapsed": false
   },
   "outputs": [
    {
     "data": {
      "text/plain": [
       "Parameter containing:\n",
       "\n",
       "Columns 0 to 9 \n",
       " 0.1277 -0.1626 -0.0533 -0.2316  0.1081 -0.1122 -0.2278 -0.0493 -0.1046 -0.2437\n",
       " 0.2257  0.1839 -0.1373 -0.0624 -0.1021 -0.0592 -0.1097  0.0545  0.2306  0.0383\n",
       " 0.1495 -0.1414  0.1087 -0.0544  0.1347  0.0472 -0.1119 -0.1005 -0.1771  0.1699\n",
       " 0.0777 -0.2029  0.0252 -0.0503 -0.2504 -0.1388 -0.1054  0.1182 -0.1124 -0.1320\n",
       " 0.2214  0.0419  0.2715  0.4266  0.0962  0.0923 -0.0280  0.0811 -0.1323 -0.0164\n",
       " 0.2504 -0.3223  0.0703 -0.0402  0.0370 -0.1909  0.2453 -0.0646  0.0934  0.0822\n",
       " 0.1723  0.0148  0.2111  0.0050  0.0392 -0.0789 -0.0004  0.0737  0.1891  0.0260\n",
       "-0.1368  0.1178  0.1015  0.0656 -0.2004 -0.0344 -0.0767 -0.2236 -0.1815 -0.2402\n",
       " 0.2609 -0.0708 -0.2276 -0.0137 -0.1090  0.2478  0.1887  0.0326 -0.2795 -0.1230\n",
       "\n",
       "Columns 10 to 13 \n",
       " 0.2310 -0.0795  0.0603  0.2301\n",
       " 0.0777 -0.2645 -0.2116 -0.1816\n",
       "-0.2070  0.1513 -0.1429 -0.1240\n",
       " 0.0703  0.1637  0.2641  0.1157\n",
       "-0.1966  0.0486  0.0547  0.2170\n",
       " 0.3647 -0.1418 -0.0702 -0.1981\n",
       "-0.0102  0.1386  0.2157 -0.2432\n",
       "-0.2613 -0.1523 -0.2281 -0.0489\n",
       " 0.1402 -0.0098  0.1705 -0.0706\n",
       "[torch.FloatTensor of size 9x14]"
      ]
     },
     "execution_count": 130,
     "metadata": {},
     "output_type": "execute_result"
    }
   ],
   "source": [
    "model[(4)].weight"
   ]
  },
  {
   "cell_type": "code",
   "execution_count": 131,
   "metadata": {
    "collapsed": false
   },
   "outputs": [
    {
     "data": {
      "text/plain": [
       "Parameter containing:\n",
       " 0.2284 -0.1081 -0.0203  0.2627  0.2221  0.1889 -0.2221 -0.0718  0.1093\n",
       " 0.0626 -0.0717  0.0931 -0.1089  0.1365  0.2372 -0.0101  0.2625 -0.2079\n",
       " 0.3195 -0.3291  0.2918 -0.2414  0.2728 -0.2631 -0.0286  0.0490  0.0563\n",
       "-0.2373  0.0802 -0.0339  0.0519  0.5310 -0.4471 -0.0009 -0.2776  0.0897\n",
       "-0.3140 -0.0999  0.2307  0.1341  0.4212 -0.3374  0.1341  0.2397  0.2272\n",
       "-0.2690 -0.0114  0.1102  0.2812  0.2664  0.0780 -0.2592 -0.0412  0.1465\n",
       "[torch.FloatTensor of size 6x9]"
      ]
     },
     "execution_count": 131,
     "metadata": {},
     "output_type": "execute_result"
    }
   ],
   "source": [
    "model[(6)].weight"
   ]
  },
  {
   "cell_type": "code",
   "execution_count": 132,
   "metadata": {
    "collapsed": false
   },
   "outputs": [
    {
     "data": {
      "text/plain": [
       "Parameter containing:\n",
       "-0.0969  0.0105 -0.3032 -0.3211 -0.3754  0.1052\n",
       " 0.0339 -0.1175 -0.3242  0.3708  0.1816 -0.1864\n",
       "-0.0843 -0.3923  0.0227 -0.2265  0.0526  0.0572\n",
       " 0.0394  0.0425  0.3518  0.6934  0.5282  0.3158\n",
       "[torch.FloatTensor of size 4x6]"
      ]
     },
     "execution_count": 132,
     "metadata": {},
     "output_type": "execute_result"
    }
   ],
   "source": [
    "model[(8)].weight"
   ]
  },
  {
   "cell_type": "code",
   "execution_count": 133,
   "metadata": {
    "collapsed": false
   },
   "outputs": [
    {
     "data": {
      "text/plain": [
       "Parameter containing:\n",
       " 0.3949 -0.2885  0.3813  0.2317\n",
       "-0.0419 -0.1266  0.0035 -0.9024\n",
       " 0.3167 -0.1142 -0.4254  0.0295\n",
       "[torch.FloatTensor of size 3x4]"
      ]
     },
     "execution_count": 133,
     "metadata": {},
     "output_type": "execute_result"
    }
   ],
   "source": [
    "model[(10)].weight"
   ]
  },
  {
   "cell_type": "code",
   "execution_count": 134,
   "metadata": {
    "collapsed": false
   },
   "outputs": [
    {
     "data": {
      "text/plain": [
       "Parameter containing:\n",
       " 0.2241  0.0415 -0.3197\n",
       " 0.2730  1.3113  0.0648\n",
       "[torch.FloatTensor of size 2x3]"
      ]
     },
     "execution_count": 134,
     "metadata": {},
     "output_type": "execute_result"
    }
   ],
   "source": [
    "model[(12)].weight"
   ]
  },
  {
   "cell_type": "code",
   "execution_count": 135,
   "metadata": {
    "collapsed": false
   },
   "outputs": [
    {
     "data": {
      "text/plain": [
       "Parameter containing:\n",
       "-0.0800  1.1857\n",
       "[torch.FloatTensor of size 1x2]"
      ]
     },
     "execution_count": 135,
     "metadata": {},
     "output_type": "execute_result"
    }
   ],
   "source": [
    "model[(14)].weight"
   ]
  },
  {
   "cell_type": "markdown",
   "metadata": {},
   "source": [
    "## Round 8: Linear Regression"
   ]
  },
  {
   "cell_type": "code",
   "execution_count": 136,
   "metadata": {
    "collapsed": true
   },
   "outputs": [],
   "source": [
    "# Make the torch Tensor into a PyTorch Variable for dependent variables\n",
    "outcomes_Variable = Variable(outcomes_Tensor)\n",
    "\n",
    "\n",
    "# ...for independent variables\n",
    "features_Variable = Variable(features_Tensor,\n",
    "                             requires_grad = False)"
   ]
  },
  {
   "cell_type": "code",
   "execution_count": 137,
   "metadata": {
    "collapsed": true
   },
   "outputs": [],
   "source": [
    "# Make the neural network - really a regression\n",
    "model = torch.nn.Sequential(torch.nn.Linear(31, 1))"
   ]
  },
  {
   "cell_type": "code",
   "execution_count": 138,
   "metadata": {
    "collapsed": false
   },
   "outputs": [],
   "source": [
    "# To add errors to\n",
    "errors = []\n",
    "\n",
    "\n",
    "# Set the learning rate\n",
    "learning_rate = 4e-6\n",
    "\n",
    "\n",
    "# Train the neural network\n",
    "for t in range(10000):\n",
    "    \n",
    "    # Get the current predictions\n",
    "    y_pred = model(features_Variable)\n",
    "    \n",
    "    # Compute and append current summed errors\n",
    "    loss = loss_fn(y_pred, outcomes_Variable)\n",
    "    errors.append(loss.data[0])\n",
    "    \n",
    "    # Zero the gradients before running the backward pass.\n",
    "    model.zero_grad()\n",
    "    \n",
    "    # Backward pass: compute gradient of the loss with respect to all the learnable Variables\n",
    "    loss.backward()\n",
    "    \n",
    "    # Update the weights using gradient descent\n",
    "    for param in model.parameters():\n",
    "        param.data -= learning_rate * param.grad.data"
   ]
  },
  {
   "cell_type": "code",
   "execution_count": 139,
   "metadata": {
    "collapsed": false
   },
   "outputs": [
    {
     "data": {
      "text/plain": [
       "<matplotlib.collections.PathCollection at 0x7f87710a5128>"
      ]
     },
     "execution_count": 139,
     "metadata": {},
     "output_type": "execute_result"
    },
    {
     "data": {
      "image/png": "[encoded data removed]",
      "text/plain": [
       "<matplotlib.figure.Figure at 0x7f877112bf98>"
      ]
     },
     "metadata": {},
     "output_type": "display_data"
    }
   ],
   "source": [
    "# Plot summed error as a function of iteration\n",
    "plt.scatter(iterations, errors)"
   ]
  },
  {
   "cell_type": "code",
   "execution_count": 140,
   "metadata": {
    "collapsed": false
   },
   "outputs": [],
   "source": [
    "# Get rid of the 2nd dimension of 1 from the FloatTensor\n",
    "y_pred_resized = y_pred.resize(8270)\n",
    "\n",
    "\n",
    "# Make the FloatTensor into a numpy.array\n",
    "y_pred_array = y_pred_resized.data.numpy()\n",
    "\n",
    "\n",
    "# Make the numpy.array into a list\n",
    "y_pred_list = y_pred_array.tolist()"
   ]
  },
  {
   "cell_type": "code",
   "execution_count": 141,
   "metadata": {
    "collapsed": false
   },
   "outputs": [
    {
     "data": {
      "text/plain": [
       "[<matplotlib.lines.Line2D at 0x7f87804f6c18>]"
      ]
     },
     "execution_count": 141,
     "metadata": {},
     "output_type": "execute_result"
    },
    {
     "data": {
      "image/png": "[encoded data removed]",
      "text/plain": [
       "<matplotlib.figure.Figure at 0x7f87804f6a20>"
      ]
     },
     "metadata": {},
     "output_type": "display_data"
    }
   ],
   "source": [
    "# Plot predictions versus training set outcomes\n",
    "plt.scatter(outcomes_list, y_pred_list)\n",
    "\n",
    "axes = plt.gca()\n",
    "\n",
    "axes.set_xlim([-2, 4])\n",
    "\n",
    "axes.set_ylim([-2, 4])\n",
    "\n",
    "plt.plot([-2, 4], [-2, 4], 'k-', lw=2)"
   ]
  },
  {
   "cell_type": "markdown",
   "metadata": {
    "collapsed": false
   },
   "source": [
    "### Round 8.1: Validation Set Performance"
   ]
  },
  {
   "cell_type": "code",
   "execution_count": 142,
   "metadata": {
    "collapsed": false
   },
   "outputs": [
    {
     "data": {
      "text/plain": [
       "Variable containing:\n",
       " 286.1653\n",
       "[torch.FloatTensor of size 1]"
      ]
     },
     "execution_count": 142,
     "metadata": {},
     "output_type": "execute_result"
    }
   ],
   "source": [
    "# Get the validation set predictions\n",
    "y_valid_pred = model(valid_predictors_Variable)\n",
    "\n",
    "\n",
    "# Print the loss\n",
    "loss_fn(y_valid_pred,\n",
    "        valid_outcomes_Variable)"
   ]
  },
  {
   "cell_type": "code",
   "execution_count": 143,
   "metadata": {
    "collapsed": true
   },
   "outputs": [],
   "source": [
    "# Get rid of the 2nd dimension of 1 from the FloatTensor\n",
    "y_valid_pred_resized = y_valid_pred.resize(2709)\n",
    "\n",
    "\n",
    "# Make the FloatTensor into a numpy.array\n",
    "y_valid_pred_array = y_valid_pred_resized.data.numpy()\n",
    "\n",
    "\n",
    "# Make the numpy.array into a list\n",
    "y_valid_pred_list = y_valid_pred_array.tolist()"
   ]
  },
  {
   "cell_type": "code",
   "execution_count": 144,
   "metadata": {
    "collapsed": false
   },
   "outputs": [
    {
     "data": {
      "text/plain": [
       "[<matplotlib.lines.Line2D at 0x7f8770fd8c50>]"
      ]
     },
     "execution_count": 144,
     "metadata": {},
     "output_type": "execute_result"
    },
    {
     "data": {
      "image/png": "[encoded data removed]",
      "text/plain": [
       "<matplotlib.figure.Figure at 0x7f8770fd8a58>"
      ]
     },
     "metadata": {},
     "output_type": "display_data"
    }
   ],
   "source": [
    "# Plot new predictions versus new data outcomes\n",
    "plt.scatter(valid_outcomes_list, y_valid_pred_list)\n",
    "\n",
    "axes = plt.gca()\n",
    "\n",
    "axes.set_xlim([-2, 4])\n",
    "\n",
    "axes.set_ylim([-2, 4])\n",
    "\n",
    "plt.plot([-2, 4], [-2, 4], 'k-', lw=2)"
   ]
  },
  {
   "cell_type": "markdown",
   "metadata": {},
   "source": [
    "### Round 8.2: Test Set Performance"
   ]
  },
  {
   "cell_type": "code",
   "execution_count": 145,
   "metadata": {
    "collapsed": false
   },
   "outputs": [
    {
     "data": {
      "text/plain": [
       "Variable containing:\n",
       " 282.7318\n",
       "[torch.FloatTensor of size 1]"
      ]
     },
     "execution_count": 145,
     "metadata": {},
     "output_type": "execute_result"
    }
   ],
   "source": [
    "# Get the validation set predictions\n",
    "y_test_pred = model(test_predictors_Variable)\n",
    "\n",
    "\n",
    "# Print the loss\n",
    "loss_fn(y_test_pred,\n",
    "        test_outcomes_Variable)"
   ]
  },
  {
   "cell_type": "code",
   "execution_count": 146,
   "metadata": {
    "collapsed": true
   },
   "outputs": [],
   "source": [
    "# Get rid of the 2nd dimension of 1 from the FloatTensor\n",
    "y_test_pred_resized = y_test_pred.resize(2712)\n",
    "\n",
    "\n",
    "# Make the FloatTensor into a numpy.array\n",
    "y_test_pred_array = y_test_pred_resized.data.numpy()\n",
    "\n",
    "\n",
    "# Convert back to native units and scale\n",
    "y_test_pred_array = y_test_pred_array*5.409956 + 7.691221\n",
    "\n",
    "\n",
    "# Make the numpy.array into a list\n",
    "y_test_pred_list = y_test_pred_array.tolist()"
   ]
  },
  {
   "cell_type": "code",
   "execution_count": 147,
   "metadata": {
    "collapsed": false
   },
   "outputs": [
    {
     "data": {
      "text/plain": [
       "<matplotlib.text.Text at 0x7f8770f21320>"
      ]
     },
     "execution_count": 147,
     "metadata": {},
     "output_type": "execute_result"
    },
    {
     "data": {
      "image/png": "[encoded data removed]",
      "text/plain": [
       "<matplotlib.figure.Figure at 0x7f8770f534a8>"
      ]
     },
     "metadata": {},
     "output_type": "display_data"
    }
   ],
   "source": [
    "# Plot new predictions versus new data outcomes\n",
    "plt.scatter(test_outcomes_list, y_test_pred_list)\n",
    "\n",
    "axes = plt.gca()\n",
    "\n",
    "axes.set_xlim([2, 23])\n",
    "\n",
    "axes.set_ylim([2, 23])\n",
    "\n",
    "axes.set_xticks([2, 5, 8, 11, 14, 17, 20, 23])\n",
    "\n",
    "axes.set_yticks([2, 5, 8, 11, 14, 17, 20, 23])\n",
    "\n",
    "plt.plot([2, 23], [2, 23], 'k-', lw=2)\n",
    "\n",
    "axes.set_xlabel(\"Actual Outcome (Log-Transformed US Dollars)\")\n",
    "\n",
    "axes.set_ylabel(\"Model Prediction (Log-Transformed US Dollars)\")\n",
    "\n",
    "axes.set_title(\"Model Performance\")"
   ]
  },
  {
   "cell_type": "code",
   "execution_count": 148,
   "metadata": {
    "collapsed": false
   },
   "outputs": [
    {
     "data": {
      "text/plain": [
       "Parameter containing:\n",
       "\n",
       "Columns 0 to 9 \n",
       " 0.0094  0.0065  0.0127  0.1687  0.1862 -0.0246 -0.0082 -0.0180  0.0338 -0.0183\n",
       "\n",
       "Columns 10 to 19 \n",
       " 0.0364 -0.0204  0.0241 -0.0239  0.0046 -0.0033  0.0018  0.0134 -0.0103  0.0068\n",
       "\n",
       "Columns 20 to 29 \n",
       " 0.0060  0.0111 -0.0495  0.0703  0.0350 -0.0209  0.0043 -0.0175  0.0073 -0.0107\n",
       "\n",
       "Columns 30 to 30 \n",
       " 0.0071\n",
       "[torch.FloatTensor of size 1x31]"
      ]
     },
     "execution_count": 148,
     "metadata": {},
     "output_type": "execute_result"
    }
   ],
   "source": [
    "model[(0)].weight"
   ]
  }
 ],
 "metadata": {
  "kernelspec": {
   "display_name": "Python 3",
   "language": "python",
   "name": "python3"
  },
  "language_info": {
   "codemirror_mode": {
    "name": "ipython",
    "version": 3
   },
   "file_extension": ".py",
   "mimetype": "text/x-python",
   "name": "python",
   "nbconvert_exporter": "python",
   "pygments_lexer": "ipython3",
   "version": "3.6.0"
  }
 },
 "nbformat": 4,
 "nbformat_minor": 2
}
