{
 "cells": [
  {
   "cell_type": "markdown",
   "metadata": {},
   "source": [
    "## Setup"
   ]
  },
  {
   "cell_type": "code",
   "execution_count": 1,
   "metadata": {
    "collapsed": true
   },
   "outputs": [],
   "source": [
    "# Packages\n",
    "import pandas as pd\n",
    "import torch\n",
    "from torch.autograd import Variable\n",
    "import numpy as np\n",
    "import matplotlib.pyplot as plt\n",
    "%matplotlib inline\n",
    "import pylab\n",
    "import math"
   ]
  },
  {
   "cell_type": "code",
   "execution_count": 2,
   "metadata": {
    "collapsed": false
   },
   "outputs": [
    {
     "name": "stdout",
     "output_type": "stream",
     "text": [
      "<class 'pandas.core.frame.DataFrame'>\n",
      "RangeIndex: 8308 entries, 0 to 8307\n",
      "Data columns (total 35 columns):\n",
      "DAMAGE_PROPERTY       8308 non-null float64\n",
      "DURATION_SECONDS      8308 non-null float64\n",
      "BEGIN_LAT             8308 non-null float64\n",
      "BEGIN_LON             8308 non-null float64\n",
      "TOR_LENGTH            8308 non-null float64\n",
      "TOR_WIDTH             8308 non-null float64\n",
      "YEAR                  8308 non-null float64\n",
      "MULTI_VORT_IND        8308 non-null int64\n",
      "OPEN_WATER_PROP       8308 non-null float64\n",
      "DEV_OPEN_PROP         8308 non-null float64\n",
      "DEV_LOW_PROP          8308 non-null float64\n",
      "DEV_MED_PROP          8308 non-null float64\n",
      "DEV_HIGH_PROP         8308 non-null float64\n",
      "BARREN_LAND_PROP      8308 non-null float64\n",
      "DECID_FOREST_PROP     8308 non-null float64\n",
      "EVERGR_FOREST_PROP    8308 non-null float64\n",
      "MIXED_FOREST_PROP     8308 non-null float64\n",
      "SHRUB_SCRUB_PROP      8308 non-null float64\n",
      "GRASS_LAND_PROP       8308 non-null float64\n",
      "PASTURE_HAY_PROP      8308 non-null float64\n",
      "CULT_CROPS_PROP       8308 non-null float64\n",
      "WOOD_WETLAND_PROP     8308 non-null float64\n",
      "HERB_WETLAND_PROP     8308 non-null float64\n",
      "INCOME                8308 non-null float64\n",
      "MOB_HOME_DENS         8308 non-null float64\n",
      "POP_DENS              8308 non-null float64\n",
      "TOR_AREA              8308 non-null float64\n",
      "TOT_DEV_INT           8308 non-null float64\n",
      "TOT_WOOD_AREA         8308 non-null float64\n",
      "WOOD_DEV_INT          8308 non-null float64\n",
      "EXP_INC_AREA          8308 non-null float64\n",
      "DAY_OF_YEAR           8308 non-null float64\n",
      "MONTH                 8308 non-null float64\n",
      "STATE_RANK            8308 non-null float64\n",
      "TIME                  8308 non-null float64\n",
      "dtypes: float64(34), int64(1)\n",
      "memory usage: 2.2 MB\n"
     ]
    }
   ],
   "source": [
    "# Import data\n",
    "tor_df = pd.read_csv(\"/home/jeremy/github_tornadoesr/data/raw/tor_train_set_no_zeros.csv\")\n",
    "\n",
    "\n",
    "# Quick inspection\n",
    "tor_df.info()"
   ]
  },
  {
   "cell_type": "code",
   "execution_count": 3,
   "metadata": {
    "collapsed": false
   },
   "outputs": [
    {
     "name": "stdout",
     "output_type": "stream",
     "text": [
      "<class 'pandas.core.frame.DataFrame'>\n",
      "RangeIndex: 8308 entries, 0 to 8307\n",
      "Data columns (total 1 columns):\n",
      "DAMAGE_PROPERTY    8308 non-null float64\n",
      "dtypes: float64(1)\n",
      "memory usage: 65.0 KB\n"
     ]
    }
   ],
   "source": [
    "# Seperating variables\n",
    "# The dependent variables\n",
    "tornado_outcomes = tor_df.iloc[:, [0]]\n",
    "\n",
    "\n",
    "# Quick inspection\n",
    "tornado_outcomes.info()"
   ]
  },
  {
   "cell_type": "code",
   "execution_count": 4,
   "metadata": {
    "collapsed": false
   },
   "outputs": [
    {
     "name": "stdout",
     "output_type": "stream",
     "text": [
      "<class 'pandas.core.frame.DataFrame'>\n",
      "RangeIndex: 8308 entries, 0 to 8307\n",
      "Data columns (total 34 columns):\n",
      "DURATION_SECONDS      8308 non-null float64\n",
      "BEGIN_LAT             8308 non-null float64\n",
      "BEGIN_LON             8308 non-null float64\n",
      "TOR_LENGTH            8308 non-null float64\n",
      "TOR_WIDTH             8308 non-null float64\n",
      "YEAR                  8308 non-null float64\n",
      "MULTI_VORT_IND        8308 non-null int64\n",
      "OPEN_WATER_PROP       8308 non-null float64\n",
      "DEV_OPEN_PROP         8308 non-null float64\n",
      "DEV_LOW_PROP          8308 non-null float64\n",
      "DEV_MED_PROP          8308 non-null float64\n",
      "DEV_HIGH_PROP         8308 non-null float64\n",
      "BARREN_LAND_PROP      8308 non-null float64\n",
      "DECID_FOREST_PROP     8308 non-null float64\n",
      "EVERGR_FOREST_PROP    8308 non-null float64\n",
      "MIXED_FOREST_PROP     8308 non-null float64\n",
      "SHRUB_SCRUB_PROP      8308 non-null float64\n",
      "GRASS_LAND_PROP       8308 non-null float64\n",
      "PASTURE_HAY_PROP      8308 non-null float64\n",
      "CULT_CROPS_PROP       8308 non-null float64\n",
      "WOOD_WETLAND_PROP     8308 non-null float64\n",
      "HERB_WETLAND_PROP     8308 non-null float64\n",
      "INCOME                8308 non-null float64\n",
      "MOB_HOME_DENS         8308 non-null float64\n",
      "POP_DENS              8308 non-null float64\n",
      "TOR_AREA              8308 non-null float64\n",
      "TOT_DEV_INT           8308 non-null float64\n",
      "TOT_WOOD_AREA         8308 non-null float64\n",
      "WOOD_DEV_INT          8308 non-null float64\n",
      "EXP_INC_AREA          8308 non-null float64\n",
      "DAY_OF_YEAR           8308 non-null float64\n",
      "MONTH                 8308 non-null float64\n",
      "STATE_RANK            8308 non-null float64\n",
      "TIME                  8308 non-null float64\n",
      "dtypes: float64(33), int64(1)\n",
      "memory usage: 2.2 MB\n"
     ]
    }
   ],
   "source": [
    "# The independent variables\n",
    "tornado_features = tor_df.iloc[:, 1:]\n",
    "\n",
    "\n",
    "# Quick inspection\n",
    "tornado_features.info()"
   ]
  },
  {
   "cell_type": "code",
   "execution_count": 5,
   "metadata": {
    "collapsed": false
   },
   "outputs": [
    {
     "data": {
      "text/plain": [
       "\n",
       " 0.1532\n",
       " 0.6540\n",
       " 0.0873\n",
       "   ⋮    \n",
       " 0.5790\n",
       " 0.1532\n",
       " 0.2814\n",
       "[torch.DoubleTensor of size 8308x1]"
      ]
     },
     "execution_count": 5,
     "metadata": {},
     "output_type": "execute_result"
    }
   ],
   "source": [
    "# Make the dependent variables into a numpy array\n",
    "outcomes_array = tornado_outcomes.values\n",
    "\n",
    "\n",
    "# Makes the numpy array into a torch Tensor\n",
    "outcomes_Tensor = torch.from_numpy(outcomes_array)\n",
    "\n",
    "\n",
    "# Quick inspection\n",
    "outcomes_Tensor"
   ]
  },
  {
   "cell_type": "code",
   "execution_count": 6,
   "metadata": {
    "collapsed": false
   },
   "outputs": [
    {
     "data": {
      "text/plain": [
       "\n",
       " 0.0227 -1.6434 -0.4323  ...  -0.2947 -0.8098 -0.4531\n",
       "-0.3046  0.2063  0.5545  ...  -0.2947  0.5157  1.1092\n",
       " 0.3520 -0.3313 -0.8991  ...  -1.0297 -1.1142 -0.1038\n",
       "          ...             ⋱             ...          \n",
       " 0.5451 -0.2386  0.6373  ...  -1.0297  0.1597 -1.5301\n",
       " 0.0227 -1.2487  0.6113  ...   0.8078  0.2605 -2.1918\n",
       " 0.4583 -0.4701 -0.0348  ...  -1.7647 -0.3808  0.5064\n",
       "[torch.DoubleTensor of size 8308x34]"
      ]
     },
     "execution_count": 6,
     "metadata": {},
     "output_type": "execute_result"
    }
   ],
   "source": [
    "# Make the independent variables into a numpy array\n",
    "features_array = tornado_features.values\n",
    "\n",
    "\n",
    "# Make the numpy array into a torch Tensor\n",
    "features_Tensor = torch.from_numpy(features_array)\n",
    "\n",
    "\n",
    "# Quick inspection\n",
    "features_Tensor"
   ]
  },
  {
   "cell_type": "markdown",
   "metadata": {},
   "source": [
    "### Convert DoubleTensor to FloatTensor"
   ]
  },
  {
   "cell_type": "code",
   "execution_count": 7,
   "metadata": {
    "collapsed": false
   },
   "outputs": [
    {
     "data": {
      "text/plain": [
       "\n",
       " 0.0227 -1.6434 -0.4323  ...  -0.2947 -0.8098 -0.4531\n",
       "-0.3046  0.2063  0.5545  ...  -0.2947  0.5157  1.1092\n",
       " 0.3520 -0.3313 -0.8991  ...  -1.0297 -1.1142 -0.1038\n",
       "          ...             ⋱             ...          \n",
       " 0.5451 -0.2386  0.6373  ...  -1.0297  0.1597 -1.5301\n",
       " 0.0227 -1.2487  0.6113  ...   0.8078  0.2605 -2.1918\n",
       " 0.4583 -0.4701 -0.0348  ...  -1.7647 -0.3808  0.5064\n",
       "[torch.FloatTensor of size 8308x34]"
      ]
     },
     "execution_count": 7,
     "metadata": {},
     "output_type": "execute_result"
    }
   ],
   "source": [
    "# Changing dependent variables from a DoubleTensor to a FloatTensor\n",
    "outcomes_Tensor = outcomes_Tensor.float()\n",
    "\n",
    "\n",
    "# ...and for the independent variables\n",
    "features_Tensor = features_Tensor.float()\n",
    "\n",
    "\n",
    "# Quick check\n",
    "features_Tensor"
   ]
  },
  {
   "cell_type": "markdown",
   "metadata": {
    "collapsed": true
   },
   "source": [
    "## Round 1: One-Hidden-Layer Neural Network"
   ]
  },
  {
   "cell_type": "code",
   "execution_count": 8,
   "metadata": {
    "collapsed": false
   },
   "outputs": [],
   "source": [
    "# Make the torch Tensor into a PyTorch Variable for dependent variables\n",
    "outcomes_Variable = Variable(outcomes_Tensor)\n",
    "\n",
    "\n",
    "# ...for independent variables\n",
    "features_Variable = Variable(features_Tensor,\n",
    "                             requires_grad = False)"
   ]
  },
  {
   "cell_type": "code",
   "execution_count": 9,
   "metadata": {
    "collapsed": false
   },
   "outputs": [],
   "source": [
    "# Make the neural network\n",
    "model = torch.nn.Sequential(torch.nn.Linear(34, 23),\n",
    "                            torch.nn.ReLU(),\n",
    "                            torch.nn.Linear(23, 1))"
   ]
  },
  {
   "cell_type": "code",
   "execution_count": 10,
   "metadata": {
    "collapsed": true
   },
   "outputs": [],
   "source": [
    "# Set the loss function\n",
    "loss_fn = torch.nn.MSELoss(size_average=False)"
   ]
  },
  {
   "cell_type": "code",
   "execution_count": 11,
   "metadata": {
    "collapsed": false
   },
   "outputs": [],
   "source": [
    "# To add errors to\n",
    "errors = []\n",
    "\n",
    "\n",
    "# Set the learning rate\n",
    "learning_rate = 1e-2\n",
    "\n",
    "\n",
    "# Define the model's optimizer\n",
    "optimizer = torch.optim.Adagrad(model.parameters(), lr = learning_rate)\n",
    "\n",
    "\n",
    "# Train the neural network\n",
    "for t in range(15000):\n",
    "    \n",
    "    # Get the current predictions\n",
    "    y_pred = model(features_Variable)\n",
    "    \n",
    "    # Compute and append current summed errors\n",
    "    loss = loss_fn(y_pred, outcomes_Variable)\n",
    "    errors.append(loss.data[0])\n",
    "    \n",
    "    # Zero the gradients before running the backward pass.\n",
    "    optimizer.zero_grad()\n",
    "    \n",
    "    # Backward pass: compute gradient of the loss with respect to all the learnable Variables\n",
    "    loss.backward()\n",
    "    \n",
    "    # Update the weights using Adagrad\n",
    "    optimizer.step()"
   ]
  },
  {
   "cell_type": "code",
   "execution_count": 12,
   "metadata": {
    "collapsed": true
   },
   "outputs": [],
   "source": [
    "# Get the iterations\n",
    "iterations = list(range(0, 15000))"
   ]
  },
  {
   "cell_type": "code",
   "execution_count": 13,
   "metadata": {
    "collapsed": false
   },
   "outputs": [
    {
     "data": {
      "text/plain": [
       "<matplotlib.collections.PathCollection at 0x7f59dac68390>"
      ]
     },
     "execution_count": 13,
     "metadata": {},
     "output_type": "execute_result"
    },
    {
     "data": {
      "image/png": "[encoded data removed]",
      "text/plain": [
       "<matplotlib.figure.Figure at 0x7f598338f240>"
      ]
     },
     "metadata": {},
     "output_type": "display_data"
    }
   ],
   "source": [
    "# Plot summed error as a function of iteration\n",
    "plt.scatter(iterations, errors, c = \"black\", alpha = 0.25)"
   ]
  },
  {
   "cell_type": "code",
   "execution_count": 14,
   "metadata": {
    "collapsed": false
   },
   "outputs": [],
   "source": [
    "# Get rid of the 2nd dimension of 1 from the FloatTensor\n",
    "y_pred_resized = y_pred.resize(8308)\n",
    "\n",
    "\n",
    "# Make the FloatTensor into a numpy.array\n",
    "y_pred_array = y_pred_resized.data.numpy()\n",
    "\n",
    "\n",
    "# Make the numpy.array into a list\n",
    "y_pred_list = y_pred_array.tolist()"
   ]
  },
  {
   "cell_type": "code",
   "execution_count": 15,
   "metadata": {
    "collapsed": false
   },
   "outputs": [],
   "source": [
    "# Get rid of the 2nd dimension of 1 from the FloatTensor\n",
    "outcomes_Variable_resized = outcomes_Variable.resize(8308)\n",
    "\n",
    "\n",
    "# Make the FloatTensor into a numpy.array\n",
    "outcomes_array = outcomes_Variable_resized.data.numpy()\n",
    "\n",
    "\n",
    "# Make the numpy.array into a list\n",
    "outcomes_list = outcomes_array.tolist()"
   ]
  },
  {
   "cell_type": "code",
   "execution_count": 16,
   "metadata": {
    "collapsed": false
   },
   "outputs": [
    {
     "data": {
      "text/plain": [
       "[<matplotlib.lines.Line2D at 0x7f59805d3e48>]"
      ]
     },
     "execution_count": 16,
     "metadata": {},
     "output_type": "execute_result"
    },
    {
     "data": {
      "image/png": "[encoded data removed]",
      "text/plain": [
       "<matplotlib.figure.Figure at 0x7f5982d9d898>"
      ]
     },
     "metadata": {},
     "output_type": "display_data"
    }
   ],
   "source": [
    "# Plot predictions versus training set outcomes\n",
    "plt.scatter(outcomes_list, y_pred_list, c = \"black\", alpha = 0.15)\n",
    "\n",
    "axes = plt.gca()\n",
    "\n",
    "axes.set_xlim([-2, 4])\n",
    "\n",
    "axes.set_ylim([-2, 4])\n",
    "\n",
    "plt.plot([-2, 4], [-2, 4], 'k-', lw=2)"
   ]
  },
  {
   "cell_type": "markdown",
   "metadata": {},
   "source": [
    "### Round 1.1: Validation Set Performance"
   ]
  },
  {
   "cell_type": "code",
   "execution_count": 17,
   "metadata": {
    "collapsed": false
   },
   "outputs": [
    {
     "name": "stdout",
     "output_type": "stream",
     "text": [
      "<class 'pandas.core.frame.DataFrame'>\n",
      "RangeIndex: 2808 entries, 0 to 2807\n",
      "Data columns (total 1 columns):\n",
      "DAMAGE_PROPERTY    2808 non-null float64\n",
      "dtypes: float64(1)\n",
      "memory usage: 22.0 KB\n"
     ]
    }
   ],
   "source": [
    "# Import data\n",
    "valid_df = pd.read_csv(\"/home/jeremy/github_tornadoesr/data/raw/tor_cv_set_no_zeros.csv\")\n",
    "\n",
    "\n",
    "# Validation set outcomes\n",
    "valid_outcomes = valid_df.iloc[:, [0]]\n",
    "\n",
    "\n",
    "# Make the validation outcomes into a numpy array\n",
    "valid_outcomes_array = valid_outcomes.values\n",
    "\n",
    "\n",
    "# Makes the numpy array into a torch Tensor\n",
    "valid_outcomes_Tensor = torch.from_numpy(valid_outcomes_array)\n",
    "\n",
    "\n",
    "# Changing validation outcomes from a DoubleTensor to a FloatTensor\n",
    "valid_outcomes_Tensor = valid_outcomes_Tensor.float()\n",
    "\n",
    "\n",
    "# Make the Tensor into a Pytorch Variable\n",
    "valid_outcomes_Variable = Variable(valid_outcomes_Tensor)\n",
    "\n",
    "\n",
    "# Quick check\n",
    "valid_outcomes.info()"
   ]
  },
  {
   "cell_type": "code",
   "execution_count": 18,
   "metadata": {
    "collapsed": false
   },
   "outputs": [
    {
     "name": "stdout",
     "output_type": "stream",
     "text": [
      "<class 'pandas.core.frame.DataFrame'>\n",
      "RangeIndex: 2808 entries, 0 to 2807\n",
      "Data columns (total 34 columns):\n",
      "DURATION_SECONDS      2808 non-null float64\n",
      "BEGIN_LAT             2808 non-null float64\n",
      "BEGIN_LON             2808 non-null float64\n",
      "TOR_LENGTH            2808 non-null float64\n",
      "TOR_WIDTH             2808 non-null float64\n",
      "YEAR                  2808 non-null float64\n",
      "MULTI_VORT_IND        2808 non-null int64\n",
      "OPEN_WATER_PROP       2808 non-null float64\n",
      "DEV_OPEN_PROP         2808 non-null float64\n",
      "DEV_LOW_PROP          2808 non-null float64\n",
      "DEV_MED_PROP          2808 non-null float64\n",
      "DEV_HIGH_PROP         2808 non-null float64\n",
      "BARREN_LAND_PROP      2808 non-null float64\n",
      "DECID_FOREST_PROP     2808 non-null float64\n",
      "EVERGR_FOREST_PROP    2808 non-null float64\n",
      "MIXED_FOREST_PROP     2808 non-null float64\n",
      "SHRUB_SCRUB_PROP      2808 non-null float64\n",
      "GRASS_LAND_PROP       2808 non-null float64\n",
      "PASTURE_HAY_PROP      2808 non-null float64\n",
      "CULT_CROPS_PROP       2808 non-null float64\n",
      "WOOD_WETLAND_PROP     2808 non-null float64\n",
      "HERB_WETLAND_PROP     2808 non-null float64\n",
      "INCOME                2808 non-null float64\n",
      "MOB_HOME_DENS         2808 non-null float64\n",
      "POP_DENS              2808 non-null float64\n",
      "TOR_AREA              2808 non-null float64\n",
      "TOT_DEV_INT           2808 non-null float64\n",
      "TOT_WOOD_AREA         2808 non-null float64\n",
      "WOOD_DEV_INT          2808 non-null float64\n",
      "EXP_INC_AREA          2808 non-null float64\n",
      "DAY_OF_YEAR           2808 non-null float64\n",
      "MONTH                 2808 non-null float64\n",
      "STATE_RANK            2808 non-null float64\n",
      "TIME                  2808 non-null float64\n",
      "dtypes: float64(33), int64(1)\n",
      "memory usage: 746.0 KB\n"
     ]
    }
   ],
   "source": [
    "# Validation set predictors\n",
    "valid_predictors = valid_df.iloc[:, 1:]\n",
    "\n",
    "\n",
    "# Make the validation predictors into a numpy array\n",
    "valid_predictors_array = valid_predictors.values\n",
    "\n",
    "\n",
    "# Makes the numpy array into a torch Tensor\n",
    "valid_predictors_Tensor = torch.from_numpy(valid_predictors_array)\n",
    "\n",
    "\n",
    "# Changing validation predictors from a DoubleTensor to a FloatTensor\n",
    "valid_predictors_Tensor = valid_predictors_Tensor.float()\n",
    "\n",
    "\n",
    "# Make the Tensor into a Pytorch Variable\n",
    "valid_predictors_Variable = Variable(valid_predictors_Tensor)\n",
    "\n",
    "\n",
    "# Quick check\n",
    "valid_predictors.info()"
   ]
  },
  {
   "cell_type": "code",
   "execution_count": 19,
   "metadata": {
    "collapsed": false
   },
   "outputs": [
    {
     "data": {
      "text/plain": [
       "Variable containing:\n",
       " 287.1010\n",
       "[torch.FloatTensor of size 1]"
      ]
     },
     "execution_count": 19,
     "metadata": {},
     "output_type": "execute_result"
    }
   ],
   "source": [
    "# Get the validation set predictions\n",
    "y_valid_pred = model(valid_predictors_Variable)\n",
    "\n",
    "\n",
    "# Print the loss\n",
    "loss_fn(y_valid_pred,\n",
    "        valid_outcomes_Variable)"
   ]
  },
  {
   "cell_type": "code",
   "execution_count": 20,
   "metadata": {
    "collapsed": false
   },
   "outputs": [
    {
     "data": {
      "text/plain": [
       "Variable containing:\n",
       " 0.3961\n",
       "[torch.FloatTensor of size 1]"
      ]
     },
     "execution_count": 20,
     "metadata": {},
     "output_type": "execute_result"
    }
   ],
   "source": [
    "# Computing the total sum of squares\n",
    "# Get a torch Variable of the mean outcome\n",
    "# Compute mean value\n",
    "valid_outcomes_mean = (sum(valid_outcomes_Variable) / len(valid_outcomes_Variable))\n",
    "valid_outcomes_mean = valid_outcomes_mean.data.numpy()[0]\n",
    "\n",
    "# Make that into a ndarray\n",
    "valid_outcomes_mean = np.repeat(valid_outcomes_mean, len(valid_outcomes_Variable))\n",
    "\n",
    "# Turn the array into a torch Tensor\n",
    "valid_outcomes_mean = torch.from_numpy(valid_outcomes_mean)\n",
    "\n",
    "# Turn that Tensor into a Variable\n",
    "valid_outcomes_mean_Variable = Variable(valid_outcomes_mean)\n",
    "\n",
    "# Compute the TSS\n",
    "tot_sum_squares = loss_fn(valid_outcomes_mean_Variable, valid_outcomes_Variable)\n",
    "\n",
    "\n",
    "# Grab the residual sum of squares\n",
    "resid_sum_squares = loss_fn(y_valid_pred, valid_outcomes_Variable)\n",
    "\n",
    "\n",
    "# Compute R squared\n",
    "R_squared = 1 - (resid_sum_squares / tot_sum_squares)\n",
    "\n",
    "R_squared"
   ]
  },
  {
   "cell_type": "code",
   "execution_count": 21,
   "metadata": {
    "collapsed": false
   },
   "outputs": [],
   "source": [
    "# Get rid of the 2nd dimension of 1 from the FloatTensor\n",
    "y_valid_pred_resized = y_valid_pred.resize(2808)\n",
    "\n",
    "\n",
    "# Make the FloatTensor into a numpy.array\n",
    "y_valid_pred_array = y_valid_pred_resized.data.numpy()\n",
    "\n",
    "\n",
    "# Convert back to log scale\n",
    "y_valid_pred_array = y_valid_pred_array*5.407597 + 7.688844\n",
    "\n",
    "\n",
    "# Make the numpy.array into a list\n",
    "y_valid_pred_list = y_valid_pred_array.tolist()"
   ]
  },
  {
   "cell_type": "code",
   "execution_count": 22,
   "metadata": {
    "collapsed": false
   },
   "outputs": [],
   "source": [
    "# Get rid of the 2nd dimension of 1 from the FloatTensor\n",
    "valid_outcomes_Variable_resized = valid_outcomes_Variable.resize(2808)\n",
    "\n",
    "\n",
    "# Make the FloatTensor into a numpy.array\n",
    "valid_outcomes_array = valid_outcomes_Variable_resized.data.numpy()\n",
    "\n",
    "\n",
    "# Convert back to log scale\n",
    "valid_outcomes_array = valid_outcomes_array*5.407597 + 7.688844\n",
    "\n",
    "\n",
    "# Make the numpy.array into a list\n",
    "valid_outcomes_list = valid_outcomes_array.tolist()"
   ]
  },
  {
   "cell_type": "code",
   "execution_count": 23,
   "metadata": {
    "collapsed": false
   },
   "outputs": [
    {
     "data": {
      "text/plain": [
       "<matplotlib.text.Text at 0x7f59802c47f0>"
      ]
     },
     "execution_count": 23,
     "metadata": {},
     "output_type": "execute_result"
    },
    {
     "data": {
      "image/png": "[encoded data removed]",
      "text/plain": [
       "<matplotlib.figure.Figure at 0x7f59805a16a0>"
      ]
     },
     "metadata": {},
     "output_type": "display_data"
    }
   ],
   "source": [
    "# Plot new predictions versus new data outcomes\n",
    "plt.scatter(valid_outcomes_list, y_valid_pred_list, c = \"black\", alpha = 0.15)\n",
    "\n",
    "axes = plt.gca()\n",
    "\n",
    "axes.set_xlim([0, 24])\n",
    "\n",
    "axes.set_ylim([0, 24])\n",
    "\n",
    "axes.set_xticks([0, 4, 8, 12, 16, 20, 24])\n",
    "\n",
    "axes.set_yticks([0, 4, 8, 12, 16, 20, 24])\n",
    "\n",
    "plt.plot([0, 24], [0, 24], 'k-', lw = 2)\n",
    "\n",
    "axes.set_xlabel(\"Actual Outcome (Log-Transformed US Dollars)\")\n",
    "\n",
    "axes.set_ylabel(\"Model Prediction (Log-Transformed US Dollars)\")\n",
    "\n",
    "axes.set_title(\"Model Performance\")"
   ]
  },
  {
   "cell_type": "code",
   "execution_count": 24,
   "metadata": {
    "collapsed": false
   },
   "outputs": [
    {
     "data": {
      "text/plain": [
       "Parameter containing:\n",
       "\n",
       "Columns 0 to 9 \n",
       " 0.1293 -0.0361  0.0178  0.0922 -0.0673 -0.2762  0.1464 -0.0648  0.1812 -0.1186\n",
       "-0.1448  0.1358  0.0482 -0.2372  0.1882  0.0036 -0.1699 -0.1674 -0.0589  0.0679\n",
       "-0.0425  0.1568 -0.0643 -0.0423  0.1593 -0.1894  0.2044  0.0901 -0.3193 -0.0695\n",
       "-0.0654 -0.2447  0.0738 -0.3752  0.1361 -0.0043 -0.0449 -0.0604 -0.2390  0.1117\n",
       " 0.2168  0.3030  0.0119  0.0721  0.0440 -0.1560  0.7461 -0.0245 -0.1986 -0.2314\n",
       "-0.1048 -0.0843 -0.1337  0.0862 -0.1060  0.3391  0.0297 -0.0757 -0.1176 -0.0386\n",
       "-0.2057  0.3050  0.1703 -0.2902 -0.1312 -0.2369  0.1068 -0.1434 -0.2874 -0.0072\n",
       "-0.1151 -0.2863 -0.2004  0.1066 -0.0389  0.3313 -0.4817  0.0652  0.1776  0.0875\n",
       " 0.0539 -0.2794 -0.2332 -0.0399  0.2170 -0.0121 -1.2387 -0.1255  0.0994 -0.1388\n",
       " 0.0507 -0.4531  0.0102  0.1999 -0.1070 -0.1408 -0.1262 -0.1251 -0.0595  0.1439\n",
       " 0.0189  0.1540 -0.0858 -0.2894  0.1839 -0.1411  0.1581 -0.2060  0.1209 -0.2642\n",
       " 0.0409  0.3279 -0.0576 -0.0685 -0.0436 -0.0710  0.0044 -0.0966  0.4050 -0.2820\n",
       " 0.1652 -0.0719 -0.1431 -0.1252 -0.0134 -0.2433  0.3272 -0.1412 -0.0203 -0.2748\n",
       " 0.1990  0.3842  0.1743  0.2380  0.2798  0.1510 -1.0142  0.0919  0.1565  0.1490\n",
       "-0.0137  0.0990  0.1033  0.0012 -0.1972 -0.1770  0.0710 -0.1875 -0.0548  0.0870\n",
       "-0.0285 -0.1356  0.0130  0.2990 -0.3631 -0.2505 -1.3621 -0.0895  0.1350 -0.1209\n",
       " 0.1588 -0.0851  0.0755  0.0567  0.1121 -0.0911  0.1266 -0.0295 -0.0073 -0.2468\n",
       "-0.1434  0.4105  0.1062  0.1576  0.2436 -0.2574  0.3690  0.0398 -0.0710 -0.2390\n",
       "-0.1280 -0.0566  0.1297  0.1370  0.1272  0.0921 -0.0994  0.0794  0.1687  0.0313\n",
       "-0.0535 -0.0593  0.0457 -0.3156 -0.7659  0.2636 -1.0506 -0.0538  0.1644 -0.0411\n",
       " 0.3034 -0.1502 -0.1175 -0.0220  0.2864  0.0329  1.2192 -0.0267  0.0968 -0.0332\n",
       " 0.0795  0.1675  0.0671  0.1974  0.1578 -0.0897 -0.4350 -0.0655  0.0658 -0.0825\n",
       " 0.0542  0.3117 -0.0502  0.2033  0.1455 -0.0514  0.2851 -0.3542  0.4823 -0.2646\n",
       "\n",
       "Columns 10 to 19 \n",
       " 0.2840 -0.1829  0.0017  0.1781  0.2568 -0.0059 -0.0314 -0.0304 -0.0061  0.0787\n",
       "-0.0281 -0.0292 -0.0891 -0.6084 -0.1616  0.1542 -0.1970 -0.0656  0.0604 -0.1906\n",
       "-0.2309  0.0529 -0.1172 -0.0865  0.0199  0.2886  0.0194 -0.0369 -0.2738  0.0470\n",
       "-0.2599 -0.0754 -0.1382 -0.1523 -0.0722  0.0525 -0.1599  0.1199 -0.0025  0.0797\n",
       " 0.2121  0.1674  0.1097 -0.2628  0.1185  0.0278  0.2127 -0.0824  0.0018 -0.1290\n",
       "-0.2887 -0.1032  0.0721  0.0407 -0.1224 -0.1773  0.1523  0.3043  0.0057 -0.2463\n",
       "-0.1675 -0.2150 -0.0355 -0.5283 -0.3856  0.1677 -0.0820 -0.0190  0.0151 -0.0493\n",
       "-0.2041 -0.2559  0.0930 -0.0618  0.0321 -0.1197  0.1927  0.1031 -0.0546 -0.3050\n",
       " 0.5658 -0.0844 -0.1446 -0.1608  0.3127  0.1215 -0.4310 -0.3104 -0.2684  0.3911\n",
       " 0.0634 -0.1819  0.0189 -0.1396  0.0729  0.0885  0.0869  0.1572 -0.0358  0.0283\n",
       " 0.1461 -0.1945 -0.1894  0.2155 -0.0161  0.0979  0.1424  0.0292  0.3151 -0.0445\n",
       " 0.0048  0.0586 -0.0901 -0.0675 -0.0953  0.0053 -0.1794 -0.1176 -0.0886  0.2289\n",
       " 0.1038 -0.2068  0.0105  0.2877 -0.0485 -0.0923 -0.0752  0.0641 -0.0267  0.1070\n",
       " 0.0900 -0.4099 -0.1071  0.0123 -0.4038 -0.1842 -0.0161 -0.0917  0.0877 -0.0769\n",
       "-0.3365 -0.7947  0.0079 -0.2322  0.1517 -0.1230 -0.1786 -0.0411 -0.0977  0.0462\n",
       " 0.1056  0.1804  0.1945 -0.2458 -0.1519  0.2007  0.1065 -0.0014  0.0262 -0.0944\n",
       " 0.0920 -0.1341 -0.0270 -0.0753  0.3228  0.2320  0.1846  0.1123 -0.2561  0.2611\n",
       "-0.0011  0.2385  0.1854  0.0479  0.0204 -0.0100  0.1489  0.0152  0.0108 -0.1157\n",
       " 0.0406  0.1497 -0.0984 -0.1991 -0.0995 -0.0410 -0.0580  0.0487  0.0416 -0.0058\n",
       " 0.0810 -0.1692  0.0167  0.0248  0.3612 -0.0560 -0.0938 -0.0653  0.0256 -0.0911\n",
       " 0.4523 -0.0603  0.0432  0.1077  0.1801  0.1807 -0.0297  0.0541  0.0308  0.1964\n",
       "-0.2714 -0.1107 -0.0524  0.1279  0.2239  0.0500  0.0733  0.0350 -0.1843  0.1068\n",
       "-0.1796  0.0429 -0.1687  0.1460  0.6639  0.0992 -0.2830 -0.0144  0.1964  0.1565\n",
       "\n",
       "Columns 20 to 29 \n",
       "-0.0684 -0.3256 -0.1812 -0.1338 -0.0046 -0.0904 -0.1492 -0.1012 -0.3247  0.1082\n",
       " 0.2468  0.0481  0.1345 -0.2552 -0.1190 -0.3192  0.0804 -0.2354 -0.0796 -0.0700\n",
       "-0.1100 -0.1632  0.1168  0.0489 -0.0507  0.0633 -0.2210 -0.0256  0.1300 -0.1163\n",
       "-0.3597 -0.0463  0.0296 -0.0781  0.1013 -0.3364  0.3378  0.1493  0.3148  0.3366\n",
       "-0.2251  0.0729 -0.0140 -0.0458 -0.1133 -0.0214  0.0656  0.0763  0.1785 -0.0415\n",
       " 0.2341 -0.1020 -0.2644  0.0747 -0.0596  0.0912  0.0934 -0.1364  0.0814  0.2299\n",
       "-0.0507 -0.2529  0.1107 -0.0136 -0.0812  0.0100  0.1100 -0.2378  0.2427  0.0996\n",
       " 0.3145 -0.2657 -0.2150 -0.2494 -0.1146  0.0764  0.1065  0.0649 -0.5201  0.1933\n",
       "-0.0793  0.3609  0.0348 -0.2756 -0.1056 -0.0722  0.2741 -0.0202 -0.1141  0.2302\n",
       " 0.1617 -0.2350  0.0019  0.1663  0.0839 -0.1147  0.0863  0.1760  0.2298  0.0575\n",
       " 0.3106 -0.1268  0.0195  0.0572  0.1677  0.0443 -0.0801 -0.0877 -0.2895 -0.1372\n",
       "-0.3121  0.1758  0.0045 -0.0354  0.0606 -0.1048 -0.2661  0.3314  0.0565  0.1457\n",
       "-0.1080 -0.0897 -0.0080  0.0534  0.0752  0.1906 -0.0174 -0.4372  0.0347  0.0535\n",
       "-0.2980 -0.3319 -0.0120 -0.0057  0.1837  0.0293  0.3444  0.5961 -0.0591 -0.1138\n",
       "-0.1527 -0.2989 -0.0473 -0.2204  0.2467 -0.1618  0.3510 -0.2201 -0.1252  0.2578\n",
       " 0.1085 -0.1557 -0.1285  0.0487  0.1880 -0.1733 -0.2090  0.0646  0.2380 -0.0380\n",
       " 0.2103  0.2042  0.0942  0.0067  0.0134 -0.0178  0.1938  0.1169  0.0725 -0.2367\n",
       " 0.1061  0.0854 -0.1232  0.2071  0.0376  0.2056  0.2424  0.1145 -0.0915  0.1592\n",
       "-0.0519  0.1000 -0.1246 -0.0066 -0.0566 -0.0092  0.0371  0.1612 -0.0103 -0.1107\n",
       " 0.0203 -0.0006  0.0246  0.0566 -0.0009  0.5791 -0.0309 -0.1510 -0.1565  0.7567\n",
       " 0.1834  0.3544  0.2956 -0.0073  0.1895 -0.0047 -0.4798  0.4219 -0.3374 -0.1450\n",
       " 0.0337  0.0506  0.0888  0.1990  0.0782 -0.1383  0.1346  0.2012 -0.3259 -0.1562\n",
       "-0.0451 -0.1846 -0.0948 -0.2864  0.0145 -0.1580 -0.2509  0.0478 -0.2522 -0.2246\n",
       "\n",
       "Columns 30 to 33 \n",
       "-0.1764 -0.2318  0.1737 -0.1020\n",
       "-0.1111  0.0480 -0.1403  0.1154\n",
       "-0.0873  0.1429 -0.0126 -0.0226\n",
       " 0.1841 -0.0901 -0.0800 -0.1080\n",
       "-0.2918 -0.0931 -0.1013  0.1923\n",
       " 0.0077 -0.1965 -0.1381  0.0825\n",
       " 0.0016  0.1348 -0.1184  0.1804\n",
       "-0.0828 -0.2427  0.0605  0.0383\n",
       "-0.0400  0.0444 -0.0824  0.0334\n",
       " 0.3019 -0.0567 -0.1857 -0.2256\n",
       " 0.0931 -0.0223  0.2593 -0.0548\n",
       "-0.2684 -0.1504  0.0231  0.1895\n",
       " 0.0659 -0.4706  0.1504  0.0001\n",
       " 0.1216 -0.3615 -0.0922 -0.0246\n",
       " 0.1185 -0.3326 -0.3545  0.2250\n",
       " 0.0373  0.2166 -0.1801 -0.2045\n",
       "-0.0502  0.0800 -0.2476  0.0413\n",
       "-0.1240  0.4073  0.0644 -0.1550\n",
       "-0.2043  0.0283  0.0172  0.0591\n",
       " 0.0560 -0.0421  0.1862 -0.0533\n",
       " 0.0724  0.3458 -0.1361  0.1622\n",
       "-0.0375 -0.2378 -0.0154  0.0916\n",
       "-0.1014  0.0809  0.1034 -0.2199\n",
       "[torch.FloatTensor of size 23x34]"
      ]
     },
     "execution_count": 24,
     "metadata": {},
     "output_type": "execute_result"
    }
   ],
   "source": [
    "model[(0)].weight"
   ]
  },
  {
   "cell_type": "code",
   "execution_count": 25,
   "metadata": {
    "collapsed": false
   },
   "outputs": [
    {
     "data": {
      "text/plain": [
       "Parameter containing:\n",
       "\n",
       "Columns 0 to 9 \n",
       "-0.3664 -0.2239 -0.2056 -0.3463  0.1898 -0.3544  0.3396  0.2926  0.1550  0.3092\n",
       "\n",
       "Columns 10 to 19 \n",
       "-0.2737 -0.2294  0.3342  0.1801 -0.2147 -0.1802 -0.2322  0.1902  0.2452 -0.3303\n",
       "\n",
       "Columns 20 to 22 \n",
       " 0.1856  0.3447  0.1951\n",
       "[torch.FloatTensor of size 1x23]"
      ]
     },
     "execution_count": 25,
     "metadata": {},
     "output_type": "execute_result"
    }
   ],
   "source": [
    "model[(2)].weight"
   ]
  },
  {
   "cell_type": "markdown",
   "metadata": {},
   "source": [
    "## Round 2: Two-Hidden-Layer Neural Network"
   ]
  },
  {
   "cell_type": "code",
   "execution_count": 26,
   "metadata": {
    "collapsed": true
   },
   "outputs": [],
   "source": [
    "# Make the torch Tensor into a PyTorch Variable for dependent variables\n",
    "outcomes_Variable = Variable(outcomes_Tensor)\n",
    "\n",
    "\n",
    "# ...for independent variables\n",
    "features_Variable = Variable(features_Tensor,\n",
    "                             requires_grad = False)"
   ]
  },
  {
   "cell_type": "code",
   "execution_count": 27,
   "metadata": {
    "collapsed": true
   },
   "outputs": [],
   "source": [
    "# Make the neural network\n",
    "model = torch.nn.Sequential(torch.nn.Linear(34, 23),\n",
    "                            torch.nn.ReLU(),\n",
    "                            torch.nn.Linear(23, 15),\n",
    "                            torch.nn.ReLU(),\n",
    "                            torch.nn.Linear(15, 1))"
   ]
  },
  {
   "cell_type": "code",
   "execution_count": 28,
   "metadata": {
    "collapsed": false
   },
   "outputs": [],
   "source": [
    "# To add errors to\n",
    "errors = []\n",
    "\n",
    "\n",
    "# Set the learning rate\n",
    "learning_rate = 1e-2\n",
    "\n",
    "\n",
    "# Define the model's optimizer\n",
    "optimizer = torch.optim.Adagrad(model.parameters(), lr = learning_rate)\n",
    "\n",
    "\n",
    "# Train the neural network\n",
    "for t in range(15000):\n",
    "    \n",
    "    # Get the current predictions\n",
    "    y_pred = model(features_Variable)\n",
    "    \n",
    "    # Compute and append current summed errors\n",
    "    loss = loss_fn(y_pred, outcomes_Variable)\n",
    "    errors.append(loss.data[0])\n",
    "    \n",
    "    # Zero the gradients before running the backward pass.\n",
    "    optimizer.zero_grad()\n",
    "    \n",
    "    # Backward pass: compute gradient of the loss with respect to all the learnable Variables\n",
    "    loss.backward()\n",
    "    \n",
    "    # Update the weights using Adagrad\n",
    "    optimizer.step()"
   ]
  },
  {
   "cell_type": "code",
   "execution_count": 29,
   "metadata": {
    "collapsed": false
   },
   "outputs": [
    {
     "data": {
      "text/plain": [
       "<matplotlib.collections.PathCollection at 0x7f5980358eb8>"
      ]
     },
     "execution_count": 29,
     "metadata": {},
     "output_type": "execute_result"
    },
    {
     "data": {
      "image/png": "[encoded data removed]",
      "text/plain": [
       "<matplotlib.figure.Figure at 0x7f59802b30b8>"
      ]
     },
     "metadata": {},
     "output_type": "display_data"
    }
   ],
   "source": [
    "# Plot summed error as a function of iteration\n",
    "plt.scatter(iterations, errors, c = \"black\", alpha = 0.25)"
   ]
  },
  {
   "cell_type": "code",
   "execution_count": 30,
   "metadata": {
    "collapsed": false
   },
   "outputs": [],
   "source": [
    "# Get rid of the 2nd dimension of 1 from the FloatTensor\n",
    "y_pred_resized = y_pred.resize(8308)\n",
    "\n",
    "\n",
    "# Make the FloatTensor into a numpy.array\n",
    "y_pred_array = y_pred_resized.data.numpy()\n",
    "\n",
    "\n",
    "# Make the numpy.array into a list\n",
    "y_pred_list = y_pred_array.tolist()"
   ]
  },
  {
   "cell_type": "code",
   "execution_count": 31,
   "metadata": {
    "collapsed": false
   },
   "outputs": [
    {
     "data": {
      "text/plain": [
       "[<matplotlib.lines.Line2D at 0x7f59804606d8>]"
      ]
     },
     "execution_count": 31,
     "metadata": {},
     "output_type": "execute_result"
    },
    {
     "data": {
      "image/png": "[encoded data removed]",
      "text/plain": [
       "<matplotlib.figure.Figure at 0x7f5980460400>"
      ]
     },
     "metadata": {},
     "output_type": "display_data"
    }
   ],
   "source": [
    "# Plot predictions versus training set outcomes\n",
    "plt.scatter(outcomes_list, y_pred_list, c = \"black\", alpha = 0.15)\n",
    "\n",
    "axes = plt.gca()\n",
    "\n",
    "axes.set_xlim([-2, 4])\n",
    "\n",
    "axes.set_ylim([-2, 4])\n",
    "\n",
    "plt.plot([-2, 4], [-2, 4], 'k-', lw=2)"
   ]
  },
  {
   "cell_type": "markdown",
   "metadata": {},
   "source": [
    "### Round 2.1: Validation Set Performance"
   ]
  },
  {
   "cell_type": "code",
   "execution_count": 32,
   "metadata": {
    "collapsed": false
   },
   "outputs": [
    {
     "data": {
      "text/plain": [
       "Variable containing:\n",
       " 294.0213\n",
       "[torch.FloatTensor of size 1]"
      ]
     },
     "execution_count": 32,
     "metadata": {},
     "output_type": "execute_result"
    }
   ],
   "source": [
    "# Get the validation set predictions\n",
    "y_valid_pred = model(valid_predictors_Variable)\n",
    "\n",
    "\n",
    "# Print the loss\n",
    "loss_fn(y_valid_pred,\n",
    "        valid_outcomes_Variable)"
   ]
  },
  {
   "cell_type": "code",
   "execution_count": 33,
   "metadata": {
    "collapsed": false
   },
   "outputs": [
    {
     "data": {
      "text/plain": [
       "Variable containing:\n",
       " 0.3815\n",
       "[torch.FloatTensor of size 1]"
      ]
     },
     "execution_count": 33,
     "metadata": {},
     "output_type": "execute_result"
    }
   ],
   "source": [
    "# Grab the residual sum of squares\n",
    "resid_sum_squares = loss_fn(y_valid_pred, valid_outcomes_Variable)\n",
    "\n",
    "\n",
    "# Compute R squared\n",
    "R_squared = 1 - (resid_sum_squares / tot_sum_squares)\n",
    "\n",
    "R_squared"
   ]
  },
  {
   "cell_type": "code",
   "execution_count": 34,
   "metadata": {
    "collapsed": false
   },
   "outputs": [],
   "source": [
    "# Get rid of the 2nd dimension of 1 from the FloatTensor\n",
    "y_valid_pred_resized = y_valid_pred.resize(2808)\n",
    "\n",
    "\n",
    "# Make the FloatTensor into a numpy.array\n",
    "y_valid_pred_array = y_valid_pred_resized.data.numpy()\n",
    "\n",
    "\n",
    "# Convert back to log scale\n",
    "y_valid_pred_array = y_valid_pred_array*5.407597 + 7.688844\n",
    "\n",
    "\n",
    "# Make the numpy.array into a list\n",
    "y_valid_pred_list = y_valid_pred_array.tolist()"
   ]
  },
  {
   "cell_type": "code",
   "execution_count": 35,
   "metadata": {
    "collapsed": false
   },
   "outputs": [
    {
     "data": {
      "text/plain": [
       "<matplotlib.text.Text at 0x7f5982ecb908>"
      ]
     },
     "execution_count": 35,
     "metadata": {},
     "output_type": "execute_result"
    },
    {
     "data": {
      "image/png": "[encoded data removed]",
      "text/plain": [
       "<matplotlib.figure.Figure at 0x7f5982db7c18>"
      ]
     },
     "metadata": {},
     "output_type": "display_data"
    }
   ],
   "source": [
    "# Plot new predictions versus new data outcomes\n",
    "plt.scatter(valid_outcomes_list, y_valid_pred_list, c = \"black\", alpha = 0.15)\n",
    "\n",
    "axes = plt.gca()\n",
    "\n",
    "axes.set_xlim([0, 24])\n",
    "\n",
    "axes.set_ylim([0, 24])\n",
    "\n",
    "axes.set_xticks([0, 4, 8, 12, 16, 20, 24])\n",
    "\n",
    "axes.set_yticks([0, 4, 8, 12, 16, 20, 24])\n",
    "\n",
    "plt.plot([0, 24], [0, 24], 'k-', lw = 2)\n",
    "\n",
    "axes.set_xlabel(\"Actual Outcome (Log-Transformed US Dollars)\")\n",
    "\n",
    "axes.set_ylabel(\"Model Prediction (Log-Transformed US Dollars)\")\n",
    "\n",
    "axes.set_title(\"Model Performance\")"
   ]
  },
  {
   "cell_type": "code",
   "execution_count": 36,
   "metadata": {
    "collapsed": false
   },
   "outputs": [
    {
     "data": {
      "text/plain": [
       "Parameter containing:\n",
       "\n",
       "Columns 0 to 9 \n",
       " 0.0811 -0.0688  0.1233  0.2330 -0.2766 -0.0379  0.4128  0.1665  0.2739 -0.0168\n",
       " 0.0206  0.3031  0.2732 -0.1921  0.1582 -0.1253 -0.0293 -0.0088 -0.1350 -0.2255\n",
       "-0.1027 -0.0075 -0.0446  0.4414  0.0365 -0.2048  0.1061  0.1838  0.3114 -0.0945\n",
       " 0.1325 -0.0934 -0.2002 -0.1328  0.0937 -0.0570  0.2033  0.2302 -0.0412 -0.1277\n",
       " 0.0682  0.0371 -0.0158 -0.1377 -0.0539  0.3867  0.2058 -0.0300 -0.2115  0.1750\n",
       "-0.2941 -0.2101 -0.0237 -0.1608 -0.0923 -0.1500 -1.1435  0.0915 -0.0301  0.0098\n",
       "-0.0658  0.2359 -0.1413  0.2143  0.2503 -0.0148 -0.4627  0.0092  0.1392 -0.2963\n",
       " 0.0245  0.0467 -0.0057  0.1125 -0.1453  0.0326 -0.0119 -0.1035  0.1370 -0.0312\n",
       "-0.0196 -0.0843  0.2180  0.2677 -0.2446  0.0586 -0.5114  0.0459  0.1280  0.0402\n",
       "-0.0836  0.3518 -0.0880  0.3690  0.1228 -0.0547  0.3411 -0.0831 -0.0879  0.1468\n",
       " 0.3212  0.2083  0.0132  0.4007  0.0972 -0.2358 -0.0610  0.1863  0.1282  0.1408\n",
       " 0.0494 -0.1186  0.0305  0.2647  0.1122 -0.0396  0.2200  0.1438 -0.1296  0.2406\n",
       "-0.0235 -0.0568 -0.0087 -0.1445  0.2291 -0.1784 -0.3783 -0.0041 -0.2061 -0.1413\n",
       "-0.0184 -0.0837  0.0105  0.0232 -0.0590 -0.1406  0.5232 -0.0360 -0.0726  0.0186\n",
       " 0.1336  0.0662 -0.0786 -0.0403  0.0066 -0.1630 -0.0509  0.0043  0.2109 -0.0131\n",
       " 0.2092 -0.1148  0.0551  0.0739  0.0627 -0.0641  0.4121  0.2180  0.0741  0.0127\n",
       " 0.0635 -0.0762 -0.0810  0.1489  0.0998  0.3556 -0.0608 -0.1546 -0.0974 -0.0373\n",
       " 0.0188 -0.2052 -0.0645  0.0983  0.0416 -0.0113  0.1463 -0.1262  0.0340  0.1263\n",
       " 0.1112 -0.2122 -0.0492 -0.0484  0.0665 -0.3354 -0.2899  0.0299  0.1433 -0.2210\n",
       " 0.0665  0.0213  0.2010 -0.0703 -0.1246 -0.0835 -0.2241  0.0215  0.0830 -0.2576\n",
       " 0.2761 -0.1273  0.0703  0.1078  0.0251  0.1794 -0.2827 -0.0227 -0.0150  0.0655\n",
       " 0.1959  0.1989  0.0019 -0.0882  0.2410  0.0753 -0.5563 -0.2251 -0.0447 -0.1331\n",
       "-0.0546  0.2142 -0.2320  0.2358 -0.1563 -0.0362 -0.8155 -0.0353 -0.0571  0.0529\n",
       "\n",
       "Columns 10 to 19 \n",
       " 0.2356  0.0184  0.2523  0.0099  0.2209  0.1963 -0.1685  0.1095  0.1306 -0.0673\n",
       " 0.2159 -0.2012  0.0580  0.0644 -0.0921 -0.0700  0.1096 -0.0975 -0.0456  0.1311\n",
       " 0.1150  0.0110  0.1109 -0.1903  0.0676  0.2969 -0.1031 -0.0217 -0.0767  0.0826\n",
       " 0.0450 -0.2295 -0.3245  0.0725 -0.0521  0.3404 -0.1941  0.2663 -0.1602 -0.0801\n",
       " 0.0426 -0.1339  0.0630 -0.1603 -0.0384 -0.1942  0.0122  0.1991  0.1204 -0.0078\n",
       " 0.0155 -0.0426 -0.0280 -0.2272 -0.1058  0.0173 -0.2531  0.1476 -0.0195  0.2653\n",
       "-0.0355  0.0356  0.1459  0.0458 -0.0209  0.0942  0.2106  0.0130 -0.1302 -0.0489\n",
       "-0.0676 -0.2169  0.0838  0.0695 -0.1497 -0.0760 -0.0620 -0.1573  0.0617  0.0790\n",
       "-0.1104  0.1704  0.0777  0.0962  0.0074  0.1529  0.0510 -0.1003 -0.0019 -0.1074\n",
       "-0.1658  0.1085 -0.0847 -0.0406 -0.0071 -0.2293 -0.1391  0.0009  0.0653 -0.0515\n",
       "-0.1601  0.1925 -0.0701  0.2286 -0.1036 -0.3047 -0.0614  0.1811 -0.0811 -0.0555\n",
       " 0.3457 -0.2082  0.1014 -0.0794  0.1139  0.2316  0.0365 -0.0230  0.0356  0.0549\n",
       " 0.1659 -0.1221 -0.0799  0.0562  0.0591  0.1338 -0.0363  0.0925 -0.0541  0.0009\n",
       "-0.0164 -0.0318  0.1452  0.0849  0.1057  0.0979 -0.0143 -0.1410  0.1101 -0.2339\n",
       " 0.2983  0.0333 -0.1048  0.0045 -0.3320 -0.1269 -0.0789 -0.0091 -0.0407  0.0437\n",
       " 0.2701  0.1549  0.1306 -0.2405  0.0646  0.2588 -0.1952 -0.1511 -0.2483  0.0257\n",
       "-0.0909  0.1870 -0.0525 -0.2046  0.0995 -0.1896 -0.0236 -0.2006 -0.0775  0.1210\n",
       "-0.1059 -0.0568  0.1840  0.1095 -0.1689  0.2511 -0.0382 -0.1970  0.0340  0.1340\n",
       "-0.0383  0.1904 -0.0190 -0.0303 -0.0693  0.0238 -0.1462 -0.0252  0.0751  0.3080\n",
       " 0.1849  0.0424  0.0118 -0.1624  0.1920 -0.1302  0.1773 -0.2435 -0.0605  0.0214\n",
       "-0.3348  0.0457 -0.1187  0.1558 -0.0977  0.0621 -0.0501  0.0694 -0.0031  0.1688\n",
       " 0.0400 -0.1269  0.1480 -0.0744  0.2940 -0.2590  0.2094  0.0413  0.0060  0.2211\n",
       " 0.0908  0.0284  0.1108  0.2295  0.0597  0.0252 -0.1178 -0.0706  0.0770 -0.0651\n",
       "\n",
       "Columns 20 to 29 \n",
       " 0.0198  0.2475 -0.1721 -0.0175 -0.0704  0.2339  0.1267  0.1466  0.0202  0.0449\n",
       " 0.0388 -0.0624  0.0650  0.2030  0.0431  0.0831  0.2215 -0.0326  0.0117  0.2579\n",
       " 0.0526 -0.1082  0.1917  0.1322 -0.0814 -0.2573  0.0316  0.0643 -0.2048 -0.0701\n",
       " 0.0994 -0.1540  0.3662  0.0600 -0.0278  0.0714  0.4473  0.0074 -0.0301  0.0275\n",
       " 0.2913 -0.0309 -0.2444  0.3512 -0.0726  0.1000 -0.4372  0.1457  0.1942  0.0042\n",
       " 0.2588 -0.2061 -0.1394 -0.0094  0.0231  0.1937 -0.0394 -0.1905 -0.2812  0.2347\n",
       "-0.3788  0.0959 -0.0013  0.1101  0.0599 -0.1052  0.2865  0.1285 -0.3115  0.1749\n",
       "-0.0399 -0.0566  0.0630 -0.0376  0.1962 -0.0915  0.0566  0.2175 -0.0370 -0.0323\n",
       "-0.0525  0.1438  0.0680 -0.1755  0.0397 -0.1264 -0.1315  0.0181  0.0807 -0.2314\n",
       " 0.2306 -0.0082 -0.1480  0.0438  0.0654 -0.0539  0.1068  0.2303  0.1010  0.0070\n",
       "-0.0230  0.1230  0.0352  0.2077 -0.2874 -0.2969  0.1206  0.1374 -0.3419 -0.4529\n",
       "-0.1183  0.1541 -0.0224 -0.0119  0.1859 -0.0318 -0.1569  0.1597  0.0680  0.1211\n",
       " 0.0888 -0.0968 -0.1394 -0.3921  0.3194 -0.1662 -0.0518 -0.3024 -0.5073  0.0427\n",
       "-0.1381 -0.1285  0.1297  0.1416  0.0118  0.0371 -0.2140  0.0803 -0.2537  0.0345\n",
       "-0.3436  0.0917  0.0856 -0.2509 -0.1049  0.1279 -0.0777  0.2454 -0.1067  0.2030\n",
       " 0.2729  0.1461 -0.2245 -0.0488  0.0733 -0.1214  0.0548  0.0177 -0.0651  0.1889\n",
       "-0.5455  0.0886  0.1527 -0.1515 -0.2020 -0.2064 -0.1908 -0.0166  0.2079 -0.0679\n",
       " 0.1043 -0.0002  0.1110 -0.1987  0.2192 -0.3112 -0.1650  0.2226  0.1643 -0.3173\n",
       "-0.0545 -0.1372 -0.1829 -0.0712  0.0947  0.1372 -0.1391  0.2406  0.1618  0.0205\n",
       "-0.0576 -0.0666  0.1046  0.2362 -0.1941 -0.0470  0.2377  0.0427 -0.0376  0.2562\n",
       " 0.0080 -0.1062 -0.0298  0.1688  0.1273 -0.1098  0.1765  0.0953 -0.2089 -0.0572\n",
       "-0.1257  0.0693 -0.0232 -0.3005  0.2097  0.1012 -0.1132  0.1314 -0.0255  0.0107\n",
       " 0.1424  0.0686 -0.3399  0.0719  0.1501 -0.0044  0.0783 -0.3270  0.0636 -0.0583\n",
       "\n",
       "Columns 30 to 33 \n",
       " 0.0060  0.0038 -0.2006 -0.1049\n",
       "-0.3161  0.1829  0.0180  0.1351\n",
       "-0.1588 -0.0028 -0.2644  0.0816\n",
       " 0.1042 -0.4083 -0.2437 -0.0472\n",
       " 0.2079 -0.2078 -0.0156 -0.0261\n",
       "-0.0979 -0.1354  0.0255  0.0644\n",
       " 0.1109 -0.2694  0.0923  0.1709\n",
       " 0.1116 -0.0340  0.3404  0.2242\n",
       "-0.0090 -0.0654 -0.1010 -0.1772\n",
       " 0.0085  0.2658 -0.1132 -0.0977\n",
       "-0.1501  0.0012 -0.0213  0.1627\n",
       "-0.0245  0.1563 -0.0888  0.0937\n",
       "-0.1436 -0.0752  0.1454 -0.0779\n",
       "-0.0124 -0.2172  0.3009  0.1658\n",
       " 0.0077  0.1333  0.0820  0.2499\n",
       " 0.3094 -0.0493 -0.3551 -0.2147\n",
       " 0.1118 -0.2577 -0.2269  0.3622\n",
       " 0.1839  0.2069 -0.0575  0.1952\n",
       "-0.2146  0.1393 -0.2930 -0.1138\n",
       "-0.4845 -0.0310 -0.2875  0.1779\n",
       " 0.2194 -0.2178  0.1004  0.0707\n",
       "-0.2307 -0.0250 -0.0218 -0.2455\n",
       " 0.2782  0.0608 -0.0623  0.1068\n",
       "[torch.FloatTensor of size 23x34]"
      ]
     },
     "execution_count": 36,
     "metadata": {},
     "output_type": "execute_result"
    }
   ],
   "source": [
    "model[(0)].weight"
   ]
  },
  {
   "cell_type": "code",
   "execution_count": 37,
   "metadata": {
    "collapsed": false
   },
   "outputs": [
    {
     "data": {
      "text/plain": [
       "Parameter containing:\n",
       "\n",
       "Columns 0 to 9 \n",
       " 0.0431 -0.0245  0.0101  0.0153 -0.3710 -0.3129 -0.1870 -0.0352  0.0683  0.1332\n",
       "-0.0773 -0.3444  0.1830 -0.1091 -0.3966  0.0951  0.2124 -0.2956 -0.3540  0.1884\n",
       "-0.1578  0.3688  0.4173 -0.1033  0.1323 -0.0793 -0.1239  0.1018  0.3594 -0.0924\n",
       " 0.0652  0.1666  0.0086  0.0120 -0.0196  0.3606  0.2571 -0.0434 -0.1044 -0.0048\n",
       "-0.0344  0.0593 -0.0843  0.0874 -0.1682  0.1299 -0.0007 -0.1045 -0.2108  0.1925\n",
       " 0.1333 -0.2496 -0.1234 -0.1056  0.0550  0.2460  0.1103 -0.1763 -0.3525  0.2601\n",
       " 0.2393 -0.1907  0.5497 -0.6701  0.2065 -0.0043 -0.0770  0.2887 -0.3701  0.0773\n",
       "-0.5036 -0.3006 -0.2158  0.3561 -0.2631 -0.0165  0.1674 -0.0415  0.2523  0.0185\n",
       "-0.0141  0.1424  0.1809 -0.2404 -0.0516 -0.3265 -0.4790  0.1536  0.2516 -0.4755\n",
       " 0.1578 -0.2831 -0.1518 -0.5106  0.1964 -0.3888 -0.1053 -0.1939 -0.0860  0.2069\n",
       " 0.1984 -0.0727 -0.1008  0.1154 -0.1712  0.2475  0.1024  0.0665 -0.0650  0.0912\n",
       " 0.2442  0.2792  0.0336  0.3069 -0.2496  0.1338 -0.1527  0.0056  0.1999  0.0412\n",
       "-0.1461 -0.1681 -0.2574  0.1139  0.2332 -0.1343 -0.1010 -0.2431 -0.0937 -0.1552\n",
       " 0.1230  0.2642 -0.2151 -0.2767  0.0709  0.2393 -0.0964  0.1101 -0.0810  0.1863\n",
       "-0.2385 -0.1216  0.1401  0.2012 -0.1567  0.2349 -0.5881  0.2127 -0.1182  0.1979\n",
       "\n",
       "Columns 10 to 19 \n",
       " 0.1154 -0.1545  0.2647 -0.0945 -0.0643  0.2507 -0.0891 -0.0632  0.2088  0.2382\n",
       "-0.4202  0.1508 -0.0323  0.0299  0.3632  0.1119 -0.3079  0.3142 -0.0337  0.3232\n",
       " 0.0025 -0.3939  0.1249 -0.0736  0.1123 -0.0127  0.2698 -0.0746 -0.6598 -0.1522\n",
       " 0.1382  0.0647 -0.0473  0.0232 -0.3006  0.1823  0.0479  0.2901  0.0567 -0.0908\n",
       " 0.2600 -0.0303 -0.1430  0.2464 -0.0792  0.0263 -0.0447  0.1712 -0.2885  0.0096\n",
       " 0.3546  0.2097  0.0077 -0.0829  0.0763 -0.0212 -0.2421  0.1192 -0.4453 -0.0124\n",
       "-0.1394 -0.6071  0.3541 -0.1087  0.2624 -0.0090 -0.2315  0.0355  0.0637 -0.0401\n",
       " 0.2237  0.1919 -0.1236  0.0728 -0.1010  0.2078 -0.1078  0.1695  0.0770  0.0532\n",
       "-0.2419  0.3511  0.0255  0.3320 -0.1006 -0.1077 -0.0549  0.0953  0.3841  0.2452\n",
       " 0.0276  0.2336 -0.0043 -0.2839  0.0967  0.3569 -0.1818  0.1573 -0.2990 -0.1949\n",
       " 0.0409  0.2324 -0.0093  0.2992  0.1496 -0.0712 -0.3195 -0.1110 -0.1504 -0.0045\n",
       " 0.0498 -0.0105 -0.6928 -0.0053 -0.2938 -0.0768  0.1761  0.2359  0.2848  0.0770\n",
       "-0.0219  0.0684 -0.1053  0.1922  0.2705  0.2455 -0.0419 -0.1075 -0.2371  0.1877\n",
       "-0.2361  0.0559  0.0418  0.1981  0.2209  0.1671 -0.1939  0.1976  0.2390  0.0661\n",
       " 0.2796  0.0590 -0.2602 -0.1763 -0.1885  0.3539  0.0846  0.2423 -0.1165  0.2733\n",
       "\n",
       "Columns 20 to 22 \n",
       " 0.2673  0.0821  0.0095\n",
       " 0.2919  0.1431 -0.0819\n",
       "-0.2280 -0.1974  0.4028\n",
       " 0.1220  0.1372 -0.3199\n",
       " 0.2880 -0.0907 -0.1396\n",
       " 0.1323  0.1485 -0.3220\n",
       " 0.0270 -0.0904 -0.2082\n",
       " 0.0044 -0.1287  0.0541\n",
       " 0.1087  0.1558  0.2734\n",
       "-0.2698  0.0259  0.0547\n",
       " 0.1829 -0.0569  0.0061\n",
       " 0.1356  0.2211  0.1529\n",
       "-0.0292  0.1209  0.1506\n",
       "-0.1289 -0.0365 -0.0873\n",
       "-0.4012 -0.2467  0.2222\n",
       "[torch.FloatTensor of size 15x23]"
      ]
     },
     "execution_count": 37,
     "metadata": {},
     "output_type": "execute_result"
    }
   ],
   "source": [
    "model[(2)].weight"
   ]
  },
  {
   "cell_type": "code",
   "execution_count": 38,
   "metadata": {
    "collapsed": false
   },
   "outputs": [
    {
     "data": {
      "text/plain": [
       "Parameter containing:\n",
       "\n",
       "Columns 0 to 9 \n",
       " 0.2071  0.6026  0.6506  0.1958  0.2197  0.3327 -1.0165 -0.4315 -0.4935 -0.2497\n",
       "\n",
       "Columns 10 to 14 \n",
       " 0.2370  0.4085  0.5372  0.3931 -0.3491\n",
       "[torch.FloatTensor of size 1x15]"
      ]
     },
     "execution_count": 38,
     "metadata": {},
     "output_type": "execute_result"
    }
   ],
   "source": [
    "model[(4)].weight"
   ]
  },
  {
   "cell_type": "markdown",
   "metadata": {},
   "source": [
    "## Round 3: Three-Hidden-Layer Neural Network"
   ]
  },
  {
   "cell_type": "code",
   "execution_count": 39,
   "metadata": {
    "collapsed": true
   },
   "outputs": [],
   "source": [
    "# Make the torch Tensor into a PyTorch Variable for dependent variables\n",
    "outcomes_Variable = Variable(outcomes_Tensor)\n",
    "\n",
    "\n",
    "# ...for independent variables\n",
    "features_Variable = Variable(features_Tensor,\n",
    "                             requires_grad = False)"
   ]
  },
  {
   "cell_type": "code",
   "execution_count": 40,
   "metadata": {
    "collapsed": false
   },
   "outputs": [],
   "source": [
    "# Make the neural network\n",
    "model = torch.nn.Sequential(torch.nn.Linear(34, 23),\n",
    "                            torch.nn.ReLU(),\n",
    "                            torch.nn.Linear(23, 15),\n",
    "                            torch.nn.ReLU(),\n",
    "                            torch.nn.Linear(15, 10),\n",
    "                            torch.nn.ReLU(),\n",
    "                            torch.nn.Linear(10, 1))"
   ]
  },
  {
   "cell_type": "code",
   "execution_count": 41,
   "metadata": {
    "collapsed": false
   },
   "outputs": [],
   "source": [
    "# To add errors to\n",
    "errors = []\n",
    "\n",
    "\n",
    "# Set the learning rate\n",
    "learning_rate = 1e-2\n",
    "\n",
    "\n",
    "# Define the model's optimizer\n",
    "optimizer = torch.optim.Adagrad(model.parameters(), lr = learning_rate)\n",
    "\n",
    "\n",
    "# Train the neural network\n",
    "for t in range(15000):\n",
    "    \n",
    "    # Get the current predictions\n",
    "    y_pred = model(features_Variable)\n",
    "    \n",
    "    # Compute and append current summed errors\n",
    "    loss = loss_fn(y_pred, outcomes_Variable)\n",
    "    errors.append(loss.data[0])\n",
    "    \n",
    "    # Zero the gradients before running the backward pass.\n",
    "    optimizer.zero_grad()\n",
    "    \n",
    "    # Backward pass: compute gradient of the loss with respect to all the learnable Variables\n",
    "    loss.backward()\n",
    "    \n",
    "    # Update the weights using Adagrad\n",
    "    optimizer.step()"
   ]
  },
  {
   "cell_type": "code",
   "execution_count": 42,
   "metadata": {
    "collapsed": false
   },
   "outputs": [
    {
     "data": {
      "text/plain": [
       "<matplotlib.collections.PathCollection at 0x7f5980221400>"
      ]
     },
     "execution_count": 42,
     "metadata": {},
     "output_type": "execute_result"
    },
    {
     "data": {
      "image/png": "[encoded data removed]",
      "text/plain": [
       "<matplotlib.figure.Figure at 0x7f5980460d30>"
      ]
     },
     "metadata": {},
     "output_type": "display_data"
    }
   ],
   "source": [
    "# Plot summed error as a function of iteration\n",
    "plt.scatter(iterations, errors, c = \"black\", alpha = 0.25)"
   ]
  },
  {
   "cell_type": "code",
   "execution_count": 43,
   "metadata": {
    "collapsed": true
   },
   "outputs": [],
   "source": [
    "# Get rid of the 2nd dimension of 1 from the FloatTensor\n",
    "y_pred_resized = y_pred.resize(8308)\n",
    "\n",
    "\n",
    "# Make the FloatTensor into a numpy.array\n",
    "y_pred_array = y_pred_resized.data.numpy()\n",
    "\n",
    "\n",
    "# Make the numpy.array into a list\n",
    "y_pred_list = y_pred_array.tolist()"
   ]
  },
  {
   "cell_type": "code",
   "execution_count": 44,
   "metadata": {
    "collapsed": false
   },
   "outputs": [
    {
     "data": {
      "text/plain": [
       "[<matplotlib.lines.Line2D at 0x7f598022d668>]"
      ]
     },
     "execution_count": 44,
     "metadata": {},
     "output_type": "execute_result"
    },
    {
     "data": {
      "image/png": "[encoded data removed]",
      "text/plain": [
       "<matplotlib.figure.Figure at 0x7f598022d630>"
      ]
     },
     "metadata": {},
     "output_type": "display_data"
    }
   ],
   "source": [
    "# Plot predictions versus training set outcomes\n",
    "plt.scatter(outcomes_list, y_pred_list, c = \"black\", alpha = 0.15)\n",
    "\n",
    "axes = plt.gca()\n",
    "\n",
    "axes.set_xlim([-2, 4])\n",
    "\n",
    "axes.set_ylim([-2, 4])\n",
    "\n",
    "plt.plot([-2, 4], [-2, 4], 'k-', lw=2)"
   ]
  },
  {
   "cell_type": "markdown",
   "metadata": {},
   "source": [
    "### Round 3.1: Validation Set Performance"
   ]
  },
  {
   "cell_type": "code",
   "execution_count": 45,
   "metadata": {
    "collapsed": false
   },
   "outputs": [
    {
     "data": {
      "text/plain": [
       "Variable containing:\n",
       " 300.9576\n",
       "[torch.FloatTensor of size 1]"
      ]
     },
     "execution_count": 45,
     "metadata": {},
     "output_type": "execute_result"
    }
   ],
   "source": [
    "# Get the validation set predictions\n",
    "y_valid_pred = model(valid_predictors_Variable)\n",
    "\n",
    "\n",
    "# Print the loss\n",
    "loss_fn(y_valid_pred,\n",
    "        valid_outcomes_Variable)"
   ]
  },
  {
   "cell_type": "code",
   "execution_count": 46,
   "metadata": {
    "collapsed": false
   },
   "outputs": [
    {
     "data": {
      "text/plain": [
       "Variable containing:\n",
       " 0.3669\n",
       "[torch.FloatTensor of size 1]"
      ]
     },
     "execution_count": 46,
     "metadata": {},
     "output_type": "execute_result"
    }
   ],
   "source": [
    "# Grab the residual sum of squares\n",
    "resid_sum_squares = loss_fn(y_valid_pred, valid_outcomes_Variable)\n",
    "\n",
    "\n",
    "# Compute R squared\n",
    "R_squared = 1 - (resid_sum_squares / tot_sum_squares)\n",
    "\n",
    "R_squared"
   ]
  },
  {
   "cell_type": "code",
   "execution_count": 47,
   "metadata": {
    "collapsed": false
   },
   "outputs": [],
   "source": [
    "# Get rid of the 2nd dimension of 1 from the FloatTensor\n",
    "y_valid_pred_resized = y_valid_pred.resize(2808)\n",
    "\n",
    "\n",
    "# Make the FloatTensor into a numpy.array\n",
    "y_valid_pred_array = y_valid_pred_resized.data.numpy()\n",
    "\n",
    "\n",
    "# Convert back to log scale\n",
    "y_valid_pred_array = y_valid_pred_array*5.407597 + 7.688844\n",
    "\n",
    "\n",
    "# Make the numpy.array into a list\n",
    "y_valid_pred_list = y_valid_pred_array.tolist()"
   ]
  },
  {
   "cell_type": "code",
   "execution_count": 48,
   "metadata": {
    "collapsed": false
   },
   "outputs": [
    {
     "data": {
      "text/plain": [
       "<matplotlib.text.Text at 0x7f5980168320>"
      ]
     },
     "execution_count": 48,
     "metadata": {},
     "output_type": "execute_result"
    },
    {
     "data": {
      "image/png": "[encoded data removed]",
      "text/plain": [
       "<matplotlib.figure.Figure at 0x7f598022d208>"
      ]
     },
     "metadata": {},
     "output_type": "display_data"
    }
   ],
   "source": [
    "# Plot new predictions versus new data outcomes\n",
    "plt.scatter(valid_outcomes_list, y_valid_pred_list, c = \"black\", alpha = 0.15)\n",
    "\n",
    "axes = plt.gca()\n",
    "\n",
    "axes.set_xlim([0, 24])\n",
    "\n",
    "axes.set_ylim([0, 24])\n",
    "\n",
    "axes.set_xticks([0, 4, 8, 12, 16, 20, 24])\n",
    "\n",
    "axes.set_yticks([0, 4, 8, 12, 16, 20, 24])\n",
    "\n",
    "plt.plot([0, 24], [0, 24], 'k-', lw = 2)\n",
    "\n",
    "axes.set_xlabel(\"Actual Outcome (Log-Transformed US Dollars)\")\n",
    "\n",
    "axes.set_ylabel(\"Model Prediction (Log-Transformed US Dollars)\")\n",
    "\n",
    "axes.set_title(\"Model Performance\")"
   ]
  },
  {
   "cell_type": "code",
   "execution_count": 49,
   "metadata": {
    "collapsed": false
   },
   "outputs": [
    {
     "data": {
      "text/plain": [
       "Parameter containing:\n",
       "\n",
       "Columns 0 to 9 \n",
       "-0.1030 -0.3343 -0.0574  0.3494 -0.1136 -0.0793  0.4840  0.1215  0.0449  0.2709\n",
       "-0.2241 -0.0260  0.0047  0.3161 -0.2871  0.2161 -0.2042 -0.2979  0.0369  0.0762\n",
       " 0.3578 -0.3921 -0.0963 -0.0159  0.1230  0.0239  0.1559 -0.1053  0.2493 -0.0940\n",
       " 0.0571  0.3797  0.2959 -0.0808  0.1166 -0.4337  0.1850 -0.2859  0.2149 -0.0953\n",
       "-0.0155  0.0675 -0.2702 -0.2937  0.1496 -0.2420  0.3243  0.2257  0.2353 -0.6411\n",
       "-0.1649 -0.0108 -0.0449 -0.0224 -0.0109 -0.1833  0.0432  0.0645 -0.0860 -0.0412\n",
       "-0.0119 -0.1106 -0.2526 -0.1409  0.1143  0.0855  0.2926  0.0281 -0.4054 -0.1714\n",
       " 0.1200  0.5489  0.1971  0.0272 -0.0654  0.0986  0.0985  0.0702  0.0540  0.1787\n",
       " 0.3395  0.0293 -0.4276 -0.2348  0.3050  0.0384 -0.4144 -0.1139  0.3212  0.0590\n",
       "-0.2342 -0.0597 -0.0414  0.2551  0.0415 -0.1570 -0.2070  0.1774 -0.0887 -0.2039\n",
       " 0.0474 -0.0041  0.0178  0.2660  0.0547  0.2372  0.0451  0.1514  0.0188 -0.1137\n",
       " 0.2374  0.1868  0.2037  0.1241  0.1182 -0.1949 -0.0405 -0.1266 -0.2178 -0.1201\n",
       "-0.0528  0.5579 -0.1653  0.3026  0.1822 -0.0045 -0.4410 -0.1983  0.0949 -0.0259\n",
       "-0.0892  0.1936  0.1992  0.0946  0.0181  0.3457 -0.1684 -0.0746 -0.1421  0.2386\n",
       "-0.0439 -0.1016 -0.3077  0.0477  0.0098  0.0762  0.5438  0.4717 -0.0704  0.2399\n",
       "-0.2805  0.3223  0.1937 -0.1842 -0.0558 -0.2821  0.1231 -0.1550  0.1037  0.0664\n",
       " 0.1619 -0.0822 -0.1226 -0.0526  0.0949  0.2635  0.3934  0.1695  0.0051 -0.0477\n",
       "-0.1025  0.3691  0.1966  0.1777 -0.0321 -0.1427 -0.4501 -0.2224  0.0855  0.1994\n",
       " 0.1521  0.1533 -0.1573  0.3771 -0.0554  0.0115 -0.3056  0.0710  0.1710  0.0567\n",
       "-0.1613 -0.1993 -0.0514  0.0679 -0.0310 -0.0738  0.0872 -0.1178 -0.0431 -0.0050\n",
       " 0.0108 -0.2794 -0.0875  0.0611 -0.0020  0.2750 -0.2710  0.1951 -0.1454  0.1404\n",
       "-0.1568  0.1621 -0.0685  0.1251 -0.0412  0.3964 -0.5097  0.0792  0.0412  0.1056\n",
       " 0.1399  0.4128 -0.2053  0.0983  0.1428  0.0263 -0.3757 -0.0467  0.2174  0.0521\n",
       "\n",
       "Columns 10 to 19 \n",
       " 0.1539  0.0199 -0.1245 -0.1749 -0.0248  0.4161  0.1025  0.1502 -0.0309 -0.0096\n",
       "-0.0493  0.0943  0.0593  0.0238  0.0637 -0.1011  0.0554 -0.2712  0.0990 -0.1834\n",
       " 0.1146 -0.2460  0.1196 -0.1244  0.2447 -0.1349  0.1639  0.0224  0.1145 -0.0212\n",
       " 0.1476 -0.1413 -0.1024 -0.5358  0.0692 -0.0037 -0.0956 -0.0410 -0.0354 -0.2503\n",
       " 0.3876 -0.2134  0.3384 -0.1888  0.1394  0.0202 -0.2842 -0.0956 -0.0682  0.2678\n",
       " 0.0339  0.1398  0.0167  0.0725 -0.0092  0.0874  0.2990 -0.0880 -0.1019 -0.1038\n",
       "-0.0201 -0.0306 -0.0591  0.0534 -0.0309  0.0250 -0.0518  0.1895 -0.1826  0.0592\n",
       "-0.2660  0.3383  0.0059 -0.1440  0.2933  0.0178 -0.0614 -0.0156  0.0966  0.0448\n",
       " 0.2107 -0.4465 -0.0454  0.0083 -0.0410 -0.0105 -0.0056  0.0567 -0.2295 -0.0445\n",
       "-0.0054 -0.0715  0.2048  0.0260 -0.0361 -0.1366  0.4372 -0.0291 -0.2188 -0.1604\n",
       "-0.3679 -0.0531 -0.1723  0.2261  0.3195  0.0892 -0.4271  0.1793 -0.0674  0.2717\n",
       " 0.3514 -0.1167 -0.0327 -0.0100  0.1517 -0.0353  0.2577  0.0136 -0.0222  0.1208\n",
       " 0.2341 -0.0149  0.2399 -0.2437 -0.1478  0.0087  0.0722 -0.0666 -0.2051 -0.1388\n",
       " 0.1067 -0.3051 -0.0958 -0.0306  0.0333 -0.1354 -0.3658  0.1447  0.1596 -0.2025\n",
       "-0.5162 -0.1039  0.0310 -0.5013 -0.0262 -0.2099 -0.2169 -0.0211  0.1661  0.0909\n",
       "-0.0074  0.0129 -0.1207 -0.3263 -0.0843 -0.1946  0.0150 -0.1577 -0.0082 -0.0966\n",
       " 0.2477  0.1268 -0.0412  0.1214 -0.2869  0.1148  0.1639 -0.0384  0.1424 -0.2208\n",
       "-0.1388  0.1054  0.3614  0.1037  0.1554 -0.1089  0.1301 -0.2616 -0.1605 -0.2209\n",
       " 0.0418 -0.0001  0.1740  0.0233 -0.0656  0.1004  0.1916 -0.0010 -0.0678 -0.0823\n",
       " 0.0668  0.1401  0.0301 -0.0641 -0.0019 -0.0242 -0.0976 -0.0735  0.0224 -0.1083\n",
       "-0.1134 -0.0317 -0.0312  0.2064 -0.1338  0.1092 -0.2833  0.1562  0.0671  0.2285\n",
       "-0.0552 -0.1569 -0.0156  0.1030  0.0849  0.0205 -0.0839  0.0828 -0.0283 -0.0270\n",
       "-0.2693 -0.0896  0.0202 -0.1041  0.2389 -0.0830  0.1115  0.1350 -0.0185 -0.0708\n",
       "\n",
       "Columns 20 to 29 \n",
       "-0.2275 -0.0086 -0.1566  0.0469  0.3413 -0.1133 -0.3731  0.5907 -0.1007 -0.0462\n",
       "-0.2921  0.2690  0.1402  0.0045  0.0172 -0.1245  0.1111  0.0850 -0.1076 -0.2037\n",
       " 0.2443 -0.1236 -0.0353  0.1472 -0.1553  0.0872  0.1991  0.0701  0.2019  0.0675\n",
       " 0.3314 -0.0207  0.1145 -0.1578  0.1532  0.0141 -0.1289 -0.3604  0.1131 -0.1128\n",
       "-0.0608  0.0752 -0.3432 -0.3425  0.0188  0.0997 -0.3094 -0.1797 -0.2300  0.0642\n",
       " 0.0180  0.0670 -0.0475 -0.1681  0.3428 -0.1484 -0.1544  0.0902  0.1404 -0.1587\n",
       " 0.0427  0.0702  0.3016 -0.3559 -0.3876  0.1345  0.1860 -0.1922 -0.0233  0.3564\n",
       "-0.0277 -0.0730  0.0607  0.2472  0.1317  0.1255 -0.5046  0.2380 -0.1871  0.0226\n",
       " 0.0754  0.1053  0.3363 -0.2164 -0.4321 -0.0738  0.3307 -0.0714 -0.1821  0.1181\n",
       " 0.0927  0.1470  0.2600 -0.0520  0.0966  0.0500 -0.0977 -0.1971 -0.0090  0.2627\n",
       " 0.1546 -0.0028 -0.0198 -0.0312  0.0283 -0.0426  0.1574 -0.0205  0.0544  0.1127\n",
       " 0.0740  0.0764  0.1683  0.1572  0.0267 -0.0129  0.1508 -0.1448  0.0895 -0.1068\n",
       " 0.0069 -0.1261  0.0115 -0.1713  0.4633 -0.0749 -0.1261  0.0878 -0.4349  0.1724\n",
       "-0.4540  0.1705  0.2519 -0.1665  0.4222 -0.0135  0.1156  0.1007 -0.0171 -0.0536\n",
       " 0.0283 -0.0835 -0.1007 -0.7277 -0.0900  0.0524 -0.2249 -0.2491  0.0591  0.1599\n",
       " 0.0939  0.0265 -0.0654 -0.0214 -0.1654  0.1507  0.0601  0.0597  0.1487  0.2382\n",
       "-0.1778  0.0587 -0.0331 -0.0396 -0.0310  0.1684  0.1111  0.0615 -0.0948  0.1685\n",
       " 0.1569  0.1517  0.0215  0.1363  0.0557 -0.1511  0.0540 -0.0071  0.1009 -0.0786\n",
       " 0.1355  0.0475 -0.1711  0.1231 -0.1392 -0.3449 -0.2748 -0.0323 -0.0378 -0.3189\n",
       " 0.1124  0.2575  0.1145  0.0341 -0.0394  0.1747  0.1730 -0.1185 -0.2128 -0.0067\n",
       "-0.0658 -0.0782 -0.2136 -0.0534  0.0496 -0.0656 -0.0999 -0.0704  0.0679  0.0137\n",
       " 0.1383  0.0389  0.0170  0.0271 -0.0117  0.0291  0.0971  0.0325 -0.1048 -0.0076\n",
       "-0.0182  0.1356  0.0362  0.2586 -0.2807 -0.1349  0.0862  0.0502  0.0652 -0.1558\n",
       "\n",
       "Columns 30 to 33 \n",
       "-0.4752  0.1447  0.0436 -0.1166\n",
       " 0.0636  0.0112 -0.0876  0.0040\n",
       "-0.1558  0.1287 -0.2197 -0.0473\n",
       " 0.3502 -0.1997  0.2572 -0.1851\n",
       "-0.0963 -0.2979  0.2090  0.0768\n",
       "-0.3394  0.3430 -0.0251 -0.1974\n",
       "-0.3797 -0.1189 -0.2122  0.2074\n",
       "-0.2703  0.0855 -0.0723  0.1472\n",
       "-0.4114 -0.1819  0.2992  0.2680\n",
       " 0.1396 -0.3303 -0.0887 -0.2105\n",
       " 0.2120  0.1023  0.0683 -0.0724\n",
       "-0.0236  0.0754 -0.1996  0.0759\n",
       " 0.1160 -0.2491  0.0293 -0.0321\n",
       " 0.0975  0.0275 -0.0352  0.0103\n",
       "-0.2640 -0.4031  0.2046  0.1036\n",
       " 0.1836  0.0175  0.0024 -0.0216\n",
       "-0.2394  0.0800  0.0059  0.1726\n",
       "-0.0503  0.2766 -0.1737 -0.0254\n",
       "-0.1732  0.0198 -0.1799 -0.0379\n",
       "-0.0287  0.0432  0.2493  0.2640\n",
       "-0.0799  0.0519  0.1044 -0.1798\n",
       " 0.2146 -0.2114  0.2527  0.0723\n",
       " 0.2291 -0.4423  0.1290 -0.0281\n",
       "[torch.FloatTensor of size 23x34]"
      ]
     },
     "execution_count": 49,
     "metadata": {},
     "output_type": "execute_result"
    }
   ],
   "source": [
    "model[(0)].weight"
   ]
  },
  {
   "cell_type": "code",
   "execution_count": 50,
   "metadata": {
    "collapsed": false
   },
   "outputs": [
    {
     "data": {
      "text/plain": [
       "Parameter containing:\n",
       "\n",
       "Columns 0 to 9 \n",
       " 0.2234  0.4086  0.1784  0.3746 -0.0298  0.0866 -0.4452 -0.0104  0.1819  0.0889\n",
       " 0.0340  0.2528  0.0024  0.0727  0.2793 -0.3643 -0.3628 -0.1052  0.5251  0.3036\n",
       " 0.3627 -0.2150  0.0040  0.1732 -0.2627 -0.2177 -0.2731  0.2036 -0.2680 -0.0190\n",
       " 0.1369 -0.0633 -0.0971 -0.0737  0.4503  0.1358 -0.0327 -0.2412  0.1264  0.1086\n",
       " 0.0170  0.0306  0.2118  0.2450 -0.1464 -0.2808 -0.0852  0.0105  0.2709 -0.2457\n",
       " 0.0688 -0.4220 -0.5185 -0.1475  0.1920  0.1594 -0.0858 -0.5798 -0.3253 -0.4977\n",
       "-0.0188 -0.2439  0.2081  0.3917 -0.1842 -0.0817 -0.1783  0.1111 -0.3030  0.2905\n",
       " 0.1746 -0.2455 -0.0920  0.2596  0.2231 -0.0142 -0.1102  0.0469 -0.1117  0.1241\n",
       " 0.1112 -0.2508  0.2805  0.4103  0.0387  0.3272 -0.2355 -0.2682  0.1083 -0.1130\n",
       " 0.3197 -0.1852 -0.1628 -0.3142  0.2748 -0.3139 -0.0571 -0.1137 -0.1038  0.2644\n",
       "-0.1079 -0.2202  0.1902 -0.1983  0.2159 -0.0154 -0.0240  0.1138  0.0895  0.1070\n",
       "-0.1508  0.0751  0.2068  0.0175  0.2189 -0.0164 -0.1355  0.1504  0.1387 -0.1195\n",
       "-0.1429 -0.1499 -0.0848 -0.1433  0.0363  0.0059 -0.3535  0.3681  0.2895 -0.0169\n",
       " 0.1684  0.1116 -0.1654  0.1418  0.1788 -0.2887  0.1865  0.0234 -0.0600  0.2589\n",
       " 0.1798  0.1219  0.0383 -0.1465 -0.1703 -0.2874  0.1781  0.1158  0.0824  0.0251\n",
       "\n",
       "Columns 10 to 19 \n",
       " 0.0619  0.1498  0.1293 -0.2493  0.1786 -0.1929 -0.1078 -0.0472  0.1062 -0.1937\n",
       " 0.2669  0.0727  0.1446 -0.0327 -0.1171 -0.1085  0.0314  0.0147  0.3400  0.0480\n",
       "-0.0388 -0.1785  0.3992 -0.1395  0.2280  0.0905  0.0009  0.1907 -0.2661  0.0641\n",
       " 0.0633 -0.1323  0.1021 -0.0292 -0.1221  0.0442 -0.1677 -0.1469 -0.0605  0.0251\n",
       " 0.1519  0.1933 -0.2009 -0.5800 -0.0743  0.1759 -0.2630  0.1442  0.2291 -0.0803\n",
       " 0.1654  0.0632  0.3405  0.3197  0.2214  0.1271 -0.2577  0.0192  0.0896  0.1160\n",
       "-0.2930 -0.0409  0.2337 -0.0023 -0.0415 -0.2548  0.0282  0.2524 -0.4271  0.1509\n",
       " 0.3048 -0.1173  0.0596  0.1859 -0.1746 -0.1570  0.2262  0.1742 -0.5719 -0.0774\n",
       " 0.1938  0.2585  0.2640  0.0072  0.0755 -0.0181 -0.0967  0.1579  0.4713  0.0346\n",
       " 0.0391  0.0990 -0.0496  0.0846 -0.0001  0.2769  0.0685  0.0084 -0.2691  0.1501\n",
       "-0.0432  0.0382 -0.0953  0.1091 -0.1126  0.2648  0.1766  0.0335 -0.2848 -0.1265\n",
       " 0.3713  0.1580  0.0874  0.0668 -0.1969  0.2313 -0.0179 -0.0630 -0.0406  0.0014\n",
       " 0.2263 -0.0251  0.1022  0.3502 -0.0413  0.2014 -0.0231  0.1803  0.0931  0.0494\n",
       " 0.0119 -0.3305 -0.1475  0.0216 -0.2784 -0.0711 -0.0924 -0.0108  0.0355 -0.3732\n",
       "-0.1734  0.2060  0.3144  0.0670  0.2586  0.1187 -0.2489  0.3726 -0.1306 -0.0336\n",
       "\n",
       "Columns 20 to 22 \n",
       "-0.0077  0.1190 -0.3837\n",
       " 0.1595 -0.2328 -0.1319\n",
       " 0.0451 -0.1591 -0.0186\n",
       "-0.3030  0.0868  0.1905\n",
       " 0.0445  0.0961 -0.3642\n",
       "-0.1484 -0.1985  0.2595\n",
       " 0.2043  0.0063  0.3118\n",
       "-0.0084  0.0479  0.0249\n",
       "-0.0411 -0.3224 -0.0137\n",
       " 0.2180 -0.2083  0.2120\n",
       " 0.0423  0.1639  0.0953\n",
       " 0.2773 -0.1989 -0.2774\n",
       "-0.1382 -0.1073 -0.3166\n",
       " 0.3259  0.0890 -0.1798\n",
       "-0.0355 -0.0255  0.1276\n",
       "[torch.FloatTensor of size 15x23]"
      ]
     },
     "execution_count": 50,
     "metadata": {},
     "output_type": "execute_result"
    }
   ],
   "source": [
    "model[(2)].weight"
   ]
  },
  {
   "cell_type": "code",
   "execution_count": 51,
   "metadata": {
    "collapsed": false
   },
   "outputs": [
    {
     "data": {
      "text/plain": [
       "Parameter containing:\n",
       "\n",
       "Columns 0 to 9 \n",
       " 0.2258 -0.1459  0.0452  0.0975 -0.2819  0.5019  0.0028  0.3699  0.1944 -0.2285\n",
       " 0.2879  0.0911  0.4358 -0.1321  0.0453 -0.5142  0.0389  0.1056  0.2697  0.1594\n",
       "-0.3487  0.2380 -0.0954  0.0004 -0.0411 -0.5672  0.0659  0.0680 -0.0847 -0.0273\n",
       "-0.2914  0.3748  0.1703 -0.2227  0.1986 -0.2459  0.2337 -0.5015  0.1148  0.0899\n",
       " 0.3893 -0.4836  0.0675  0.3621  0.3363  0.1553 -0.0118 -0.6211 -0.0338 -0.9826\n",
       " 0.1187  0.2215  0.4045 -0.1389 -0.1165 -0.4708  0.2486  0.2196  0.1783  0.1001\n",
       "-0.4399  0.3612 -0.0261 -0.4925 -0.4730 -0.0276  0.1046  0.1841  0.4718  0.1540\n",
       "-0.6304  0.1349  0.3723 -0.3931 -0.2639  0.3060 -0.1688  0.1966  0.3332  0.3329\n",
       " 0.0718  0.2704  0.1345 -0.2674  0.0704  0.2450  0.3458  0.1455 -0.0393 -0.3519\n",
       "-0.8253  0.2980  0.2004 -0.3588 -0.6284 -0.1513 -0.2991  0.0080  0.3128  0.3289\n",
       "\n",
       "Columns 10 to 14 \n",
       "-0.1953  0.2104  0.3396  0.3263 -0.2222\n",
       "-0.0258  0.1898 -0.4739 -0.2690  0.1312\n",
       " 0.1337  0.3303  0.1909  0.2278  0.1230\n",
       "-0.2957 -0.6247  0.2597  0.1158  0.2230\n",
       " 0.0225  0.2848  0.3552  0.1720 -0.3723\n",
       " 0.0435  0.0903 -0.0616  0.0065  0.1587\n",
       " 0.0678  0.3464  0.1739 -1.0808  0.0216\n",
       "-0.1054  0.1877 -0.3830 -1.0969  0.3839\n",
       "-0.4218 -0.0494  0.3252 -0.1274 -0.0892\n",
       " 0.1633  0.2445  0.1384 -0.4925 -0.1031\n",
       "[torch.FloatTensor of size 10x15]"
      ]
     },
     "execution_count": 51,
     "metadata": {},
     "output_type": "execute_result"
    }
   ],
   "source": [
    "model[(4)].weight"
   ]
  },
  {
   "cell_type": "code",
   "execution_count": 52,
   "metadata": {
    "collapsed": false
   },
   "outputs": [
    {
     "data": {
      "text/plain": [
       "Parameter containing:\n",
       "-0.3814  0.2487  0.1951 -1.0536 -1.0422  0.3568  0.5056  0.4936 -0.4714  0.7860\n",
       "[torch.FloatTensor of size 1x10]"
      ]
     },
     "execution_count": 52,
     "metadata": {},
     "output_type": "execute_result"
    }
   ],
   "source": [
    "model[(6)].weight"
   ]
  },
  {
   "cell_type": "markdown",
   "metadata": {},
   "source": [
    "## Round 4: Four-Hidden-Layer Neural Network"
   ]
  },
  {
   "cell_type": "code",
   "execution_count": 53,
   "metadata": {
    "collapsed": true
   },
   "outputs": [],
   "source": [
    "# Make the torch Tensor into a PyTorch Variable for dependent variables\n",
    "outcomes_Variable = Variable(outcomes_Tensor)\n",
    "\n",
    "\n",
    "# ...for independent variables\n",
    "features_Variable = Variable(features_Tensor,\n",
    "                             requires_grad = False)"
   ]
  },
  {
   "cell_type": "code",
   "execution_count": 54,
   "metadata": {
    "collapsed": true
   },
   "outputs": [],
   "source": [
    "# Make the neural network\n",
    "model = torch.nn.Sequential(torch.nn.Linear(34, 23),\n",
    "                            torch.nn.ReLU(),\n",
    "                            torch.nn.Linear(23, 15),\n",
    "                            torch.nn.ReLU(),\n",
    "                            torch.nn.Linear(15, 10),\n",
    "                            torch.nn.ReLU(),\n",
    "                            torch.nn.Linear(10, 7),\n",
    "                            torch.nn.ReLU(),\n",
    "                            torch.nn.Linear(7, 1))"
   ]
  },
  {
   "cell_type": "code",
   "execution_count": 55,
   "metadata": {
    "collapsed": true
   },
   "outputs": [],
   "source": [
    "# To add errors to\n",
    "errors = []\n",
    "\n",
    "\n",
    "# Set the learning rate\n",
    "learning_rate = 1e-2\n",
    "\n",
    "\n",
    "# Define the model's optimizer\n",
    "optimizer = torch.optim.Adagrad(model.parameters(), lr = learning_rate)\n",
    "\n",
    "\n",
    "# Train the neural network\n",
    "for t in range(15000):\n",
    "    \n",
    "    # Get the current predictions\n",
    "    y_pred = model(features_Variable)\n",
    "    \n",
    "    # Compute and append current summed errors\n",
    "    loss = loss_fn(y_pred, outcomes_Variable)\n",
    "    errors.append(loss.data[0])\n",
    "    \n",
    "    # Zero the gradients before running the backward pass.\n",
    "    optimizer.zero_grad()\n",
    "    \n",
    "    # Backward pass: compute gradient of the loss with respect to all the learnable Variables\n",
    "    loss.backward()\n",
    "    \n",
    "    # Update the weights using Adagrad\n",
    "    optimizer.step()"
   ]
  },
  {
   "cell_type": "code",
   "execution_count": 56,
   "metadata": {
    "collapsed": false
   },
   "outputs": [
    {
     "data": {
      "text/plain": [
       "<matplotlib.collections.PathCollection at 0x7f59800bc9b0>"
      ]
     },
     "execution_count": 56,
     "metadata": {},
     "output_type": "execute_result"
    },
    {
     "data": {
      "image/png": "[encoded data removed]",
      "text/plain": [
       "<matplotlib.figure.Figure at 0x7f59801d7828>"
      ]
     },
     "metadata": {},
     "output_type": "display_data"
    }
   ],
   "source": [
    "# Plot summed error as a function of iteration\n",
    "plt.scatter(iterations, errors, c = \"black\", alpha = 0.25)"
   ]
  },
  {
   "cell_type": "code",
   "execution_count": 57,
   "metadata": {
    "collapsed": false
   },
   "outputs": [],
   "source": [
    "# Get rid of the 2nd dimension of 1 from the FloatTensor\n",
    "y_pred_resized = y_pred.resize(8308)\n",
    "\n",
    "\n",
    "# Make the FloatTensor into a numpy.array\n",
    "y_pred_array = y_pred_resized.data.numpy()\n",
    "\n",
    "\n",
    "# Make the numpy.array into a list\n",
    "y_pred_list = y_pred_array.tolist()"
   ]
  },
  {
   "cell_type": "code",
   "execution_count": 58,
   "metadata": {
    "collapsed": false
   },
   "outputs": [
    {
     "data": {
      "text/plain": [
       "[<matplotlib.lines.Line2D at 0x7f59803d8e80>]"
      ]
     },
     "execution_count": 58,
     "metadata": {},
     "output_type": "execute_result"
    },
    {
     "data": {
      "image/png": "[encoded data removed]",
      "text/plain": [
       "<matplotlib.figure.Figure at 0x7f598058df28>"
      ]
     },
     "metadata": {},
     "output_type": "display_data"
    }
   ],
   "source": [
    "# Plot predictions versus training set outcomes\n",
    "plt.scatter(outcomes_list, y_pred_list, c = \"black\", alpha = 0.15)\n",
    "\n",
    "axes = plt.gca()\n",
    "\n",
    "axes.set_xlim([-2, 4])\n",
    "\n",
    "axes.set_ylim([-2, 4])\n",
    "\n",
    "plt.plot([-2, 4], [-2, 4], 'k-', lw=2)"
   ]
  },
  {
   "cell_type": "markdown",
   "metadata": {},
   "source": [
    "### Round 4.1: Validation Set Performance"
   ]
  },
  {
   "cell_type": "code",
   "execution_count": 59,
   "metadata": {
    "collapsed": false
   },
   "outputs": [
    {
     "data": {
      "text/plain": [
       "Variable containing:\n",
       " 310.7958\n",
       "[torch.FloatTensor of size 1]"
      ]
     },
     "execution_count": 59,
     "metadata": {},
     "output_type": "execute_result"
    }
   ],
   "source": [
    "# Get the validation set predictions\n",
    "y_valid_pred = model(valid_predictors_Variable)\n",
    "\n",
    "\n",
    "# Print the loss\n",
    "loss_fn(y_valid_pred,\n",
    "        valid_outcomes_Variable)"
   ]
  },
  {
   "cell_type": "code",
   "execution_count": 60,
   "metadata": {
    "collapsed": false
   },
   "outputs": [
    {
     "data": {
      "text/plain": [
       "Variable containing:\n",
       " 0.3462\n",
       "[torch.FloatTensor of size 1]"
      ]
     },
     "execution_count": 60,
     "metadata": {},
     "output_type": "execute_result"
    }
   ],
   "source": [
    "# Grab the residual sum of squares\n",
    "resid_sum_squares = loss_fn(y_valid_pred, valid_outcomes_Variable)\n",
    "\n",
    "\n",
    "# Compute R squared\n",
    "R_squared = 1 - (resid_sum_squares / tot_sum_squares)\n",
    "\n",
    "R_squared"
   ]
  },
  {
   "cell_type": "code",
   "execution_count": 61,
   "metadata": {
    "collapsed": true
   },
   "outputs": [],
   "source": [
    "# Get rid of the 2nd dimension of 1 from the FloatTensor\n",
    "y_valid_pred_resized = y_valid_pred.resize(2808)\n",
    "\n",
    "\n",
    "# Make the FloatTensor into a numpy.array\n",
    "y_valid_pred_array = y_valid_pred_resized.data.numpy()\n",
    "\n",
    "\n",
    "# Convert back to log scale\n",
    "y_valid_pred_array = y_valid_pred_array*5.407597 + 7.688844\n",
    "\n",
    "\n",
    "# Make the numpy.array into a list\n",
    "y_valid_pred_list = y_valid_pred_array.tolist()"
   ]
  },
  {
   "cell_type": "code",
   "execution_count": 62,
   "metadata": {
    "collapsed": false
   },
   "outputs": [
    {
     "data": {
      "text/plain": [
       "<matplotlib.text.Text at 0x7f59799983c8>"
      ]
     },
     "execution_count": 62,
     "metadata": {},
     "output_type": "execute_result"
    },
    {
     "data": {
      "image/png": "[encoded data removed]",
      "text/plain": [
       "<matplotlib.figure.Figure at 0x7f5980084c88>"
      ]
     },
     "metadata": {},
     "output_type": "display_data"
    }
   ],
   "source": [
    "# Plot new predictions versus new data outcomes\n",
    "plt.scatter(valid_outcomes_list, y_valid_pred_list, c = \"black\", alpha = 0.15)\n",
    "\n",
    "axes = plt.gca()\n",
    "\n",
    "axes.set_xlim([0, 24])\n",
    "\n",
    "axes.set_ylim([0, 24])\n",
    "\n",
    "axes.set_xticks([0, 4, 8, 12, 16, 20, 24])\n",
    "\n",
    "axes.set_yticks([0, 4, 8, 12, 16, 20, 24])\n",
    "\n",
    "plt.plot([0, 24], [0, 24], 'k-', lw = 2)\n",
    "\n",
    "axes.set_xlabel(\"Actual Outcome (Log-Transformed US Dollars)\")\n",
    "\n",
    "axes.set_ylabel(\"Model Prediction (Log-Transformed US Dollars)\")\n",
    "\n",
    "axes.set_title(\"Model Performance\")"
   ]
  },
  {
   "cell_type": "code",
   "execution_count": 63,
   "metadata": {
    "collapsed": false
   },
   "outputs": [
    {
     "data": {
      "text/plain": [
       "Parameter containing:\n",
       "\n",
       "Columns 0 to 5 \n",
       " 1.8395e-01  3.8708e-01 -2.7807e-01  1.0631e-01  1.3203e-01  1.7836e-01\n",
       "-1.6799e-01  1.7958e-01  2.7357e-01 -4.5509e-02  1.1464e-01 -2.2123e-01\n",
       " 3.5094e-02  5.5754e-02  6.9121e-02  5.8112e-02  7.6476e-02 -9.1790e-02\n",
       "-6.7366e-02  3.5358e-01  1.5653e-01  4.8489e-01 -1.6322e-01  2.8603e-01\n",
       " 9.9503e-02 -1.9197e-01 -2.0198e-01  6.7409e-02  2.4766e-01  3.6110e-01\n",
       "-1.0013e-01 -4.7630e-01 -1.5620e-01 -1.2083e-01  1.0325e-01  5.8653e-02\n",
       " 2.0804e-03 -1.5177e-01  5.3696e-02  7.1840e-02 -1.0619e-01  1.9553e-01\n",
       "-2.2143e-01  1.0230e-01 -1.2052e-01 -1.6218e-01 -1.6357e-01  3.2583e-01\n",
       " 2.7041e-01 -9.9594e-02 -1.2303e-02 -9.4946e-02  1.2106e-01  1.0130e-01\n",
       " 4.7697e-02 -6.2589e-04 -9.9994e-02 -1.4428e-01  1.8471e-01  5.7301e-01\n",
       " 5.8319e-02 -2.5610e-02 -1.8055e-01  3.1498e-01 -3.4226e-02 -1.8319e-01\n",
       " 2.5305e-01 -1.6167e-01 -2.9745e-02  1.3875e-02 -1.2363e-01  3.5117e-01\n",
       " 7.5792e-02  4.6941e-01  1.0444e-01 -2.3762e-01  1.6104e-01  3.1920e-04\n",
       " 1.7905e-01  1.8841e-01 -2.7204e-02  2.3963e-01 -1.0529e-01 -1.7352e-01\n",
       "-2.6555e-03  3.2503e-01  1.9831e-01  1.0491e-01  1.9799e-01 -5.8976e-02\n",
       "-5.5219e-02  7.5721e-02 -1.0065e-01  1.7137e-01 -1.2287e-01  2.4154e-01\n",
       "-6.0980e-02  2.5327e-01  1.5374e-01  1.3238e-01  4.8439e-02 -6.9759e-03\n",
       " 1.4558e-01  2.4297e-01 -5.1680e-02  2.1489e-02  1.0194e-01  1.5185e-01\n",
       " 2.7637e-01 -5.5990e-02  1.3073e-01  2.3985e-01 -6.1668e-02  1.8214e-01\n",
       "-6.3625e-02 -1.2916e-01 -8.3067e-02  2.1158e-01 -1.0290e-01  3.2626e-01\n",
       " 9.6415e-02  1.2725e-01  6.8805e-02  5.9919e-03  1.6648e-01  2.8098e-01\n",
       "-1.2511e-01  2.8975e-01 -1.7504e-01  1.2986e-01  2.2937e-01  4.1435e-05\n",
       " 1.0736e-01 -3.0796e-01 -1.8163e-01  1.3067e-01 -1.7328e-02  4.6235e-02\n",
       "\n",
       "Columns 6 to 11 \n",
       " 6.2922e-01  1.2423e-01  1.0759e-01 -1.1837e-01  2.1233e-01 -2.9517e-02\n",
       "-1.2000e+00 -1.2735e-01 -1.1593e-01  6.1572e-02  1.9606e-01 -5.2380e-02\n",
       "-9.4656e-01  8.2186e-02 -9.9650e-02  2.4404e-02 -1.5475e-01 -1.2406e-03\n",
       " 1.5444e-01  1.6127e-01 -1.4507e-01  1.0336e-01  1.1479e-01  1.2500e-01\n",
       "-2.2527e-01 -1.3834e-02  6.2681e-02 -1.0572e-01  1.3090e-02  7.5553e-02\n",
       "-2.6673e-01  7.3968e-02  1.4078e-01  1.7185e-02 -3.8371e-02 -5.4388e-02\n",
       "-7.1620e-02  1.6799e-01 -1.7328e-01  2.7710e-02  2.1081e-01  3.9800e-02\n",
       "-8.0863e-01 -9.0046e-02  4.4012e-02  3.2082e-01 -2.6138e-02 -3.9772e-01\n",
       " 1.1748e-01  9.3752e-02 -3.7692e-01  2.8832e-02  1.1761e-01  1.1170e-01\n",
       "-2.4326e-01 -7.3847e-02 -2.8957e-01  2.4200e-01 -3.6403e-01 -2.0685e-01\n",
       " 2.1504e-01 -2.3356e-01  6.3289e-02  2.3479e-01 -3.6906e-01 -1.2736e-02\n",
       "-4.7254e-01 -5.3569e-02  2.2180e-01  5.0086e-02  1.5152e-01 -2.4295e-02\n",
       " 8.4247e-01 -1.3162e-01  6.5616e-03  2.5809e-01  7.1489e-02  2.2560e-01\n",
       " 1.1557e+00 -1.7971e-01  4.5602e-02 -3.8023e-02  2.8433e-01  2.7170e-01\n",
       " 5.1008e-01  2.8052e-01  1.2375e-01 -8.1713e-02  1.3243e-01 -4.5188e-02\n",
       " 3.1971e-01  1.6432e-01  1.9810e-01 -5.0614e-03  1.1619e-01 -3.6698e-02\n",
       " 6.5258e-01 -1.4179e-02  1.8952e-02  1.6123e-01 -4.2345e-01 -2.1955e-02\n",
       " 5.9288e-01  9.9205e-02  1.6884e-01 -3.9620e-02  1.4644e-02  4.2735e-02\n",
       " 3.5996e-01  2.2145e-01  2.9511e-01 -6.9308e-02 -2.1238e-01  2.6581e-01\n",
       "-7.8952e-01  1.8477e-01 -4.0123e-02  1.1728e-01 -9.2136e-02  8.8757e-02\n",
       " 3.6206e-01  1.3005e-01 -2.3315e-01  2.5012e-01 -5.6099e-01  1.2609e-01\n",
       " 5.7863e-01  7.4329e-02 -1.2038e-01  2.7069e-01 -1.6137e-01 -3.4356e-02\n",
       " 2.4117e-01 -1.6540e-01  7.8559e-03  1.5830e-01  1.2547e-01 -1.9798e-01\n",
       "\n",
       "Columns 12 to 17 \n",
       " 2.1828e-02  9.2629e-02 -1.0847e-01 -1.8064e-01  1.0530e-01 -4.9638e-02\n",
       "-1.9647e-01 -1.3380e-01 -1.7565e-01 -2.0633e-01  5.2407e-02 -2.3959e-02\n",
       "-4.5079e-02 -1.6806e-01  6.4515e-02 -2.0948e-01  6.1447e-02  1.5516e-01\n",
       " 2.3472e-01  1.4368e-01  1.0207e-01 -1.6154e-01 -2.0676e-01 -1.9470e-01\n",
       "-2.9852e-01 -3.1417e-01 -2.3036e-01  1.2391e-01 -1.8136e-02  2.3796e-01\n",
       "-4.7355e-02 -1.5830e-01 -2.8757e-02 -1.2996e-01 -3.8725e-02 -3.5968e-02\n",
       "-7.0681e-02  4.4126e-02 -2.9185e-01  7.1899e-02 -3.0599e-01  2.1332e-02\n",
       "-4.1088e-02  3.3588e-01 -2.4106e-01 -3.7428e-02  6.3887e-02  3.0870e-01\n",
       " 1.5118e-01  7.1261e-02  2.3902e-01 -1.2705e-01 -2.5360e-01 -1.6077e-03\n",
       "-2.1422e-01 -5.5686e-02 -1.0911e-01 -2.9861e-01 -1.9919e-01  3.2685e-01\n",
       "-1.2263e-01 -8.8149e-03 -2.4128e-02  1.3119e-01 -1.9227e-01  4.9334e-01\n",
       "-3.0426e-01 -6.4114e-02 -3.5105e-02  1.9583e-01 -9.3227e-02  5.4341e-02\n",
       " 9.3736e-02  8.7263e-03 -1.1439e-01  6.8518e-02  3.0359e-02 -1.6605e-01\n",
       " 2.6562e-01  4.7954e-02 -2.0118e-02 -4.1189e-02  4.4916e-01 -1.5950e-01\n",
       " 1.4266e-01 -6.0014e-02  1.0203e-01  3.6194e-01 -1.5064e-02  9.2944e-02\n",
       "-4.1856e-02  2.4835e-03  4.4856e-02 -7.5075e-02  4.4103e-02 -1.8828e-01\n",
       " 1.9961e-01  6.8946e-02 -1.1008e-01  3.7273e-02  4.7907e-02 -1.9194e-01\n",
       " 6.6468e-02  1.1610e-01  3.5940e-01 -4.8853e-01 -7.5028e-02 -1.7209e-01\n",
       " 4.6307e-02  2.3384e-02  2.2872e-01 -2.0735e-01 -2.5525e-01  1.4356e-01\n",
       "-6.9725e-02 -1.9328e-01  2.3282e-01 -1.8546e-01 -9.3894e-02  1.6886e-01\n",
       "-9.9580e-03  2.0125e-01  2.2203e-01  9.7848e-02 -1.6368e-01  1.3537e-01\n",
       "-1.0826e-01  2.4475e-01  8.8589e-02 -1.6430e-01 -1.6553e-01  1.6360e-01\n",
       " 9.6743e-02  3.6507e-01  1.1651e-01  6.7069e-03 -2.2844e-01  5.2666e-02\n",
       "\n",
       "Columns 18 to 23 \n",
       "-2.6711e-01  5.3459e-03  3.0347e-02 -3.2481e-01  2.5041e-02  1.0356e-01\n",
       "-8.4854e-02 -1.4249e-02 -4.9438e-02  9.0832e-02 -1.3697e-01  9.3405e-02\n",
       " 6.3263e-02 -1.1606e-02  1.1184e-02  4.5536e-03  1.3495e-01  4.4117e-01\n",
       " 7.8285e-02 -3.2587e-02 -1.0325e-01  2.9851e-01 -2.2252e-01 -6.2053e-02\n",
       " 1.4915e-01  2.7704e-01  3.4836e-02  1.2414e-01 -2.5890e-01 -2.1574e-01\n",
       " 1.8912e-01 -4.9153e-02  7.9359e-02 -3.5135e-02 -2.1325e-02  3.9287e-02\n",
       "-8.8584e-02  1.0936e-01  2.0719e-02  1.2461e-01 -7.0594e-03 -1.0699e-01\n",
       "-1.0328e-01  3.4748e-01 -1.2438e-01  1.5845e-01 -1.3878e-01 -5.9002e-01\n",
       " 1.6336e-01  5.5809e-02 -2.3704e-01  1.3249e-01 -4.5501e-02  2.3866e-01\n",
       " 1.7358e-02 -8.9037e-02 -5.3644e-02  2.2476e-01 -1.6794e-02  1.5588e-01\n",
       " 3.6111e-03 -4.3204e-02 -1.5069e-01  1.4713e-01  2.6907e-01  1.0891e-01\n",
       " 2.2835e-01  5.6551e-02 -8.6607e-02  1.2918e-02 -1.2565e-02 -1.6999e-01\n",
       "-1.8947e-01  7.0020e-02  2.2488e-01  2.5521e-02  1.5649e-01 -1.8180e-03\n",
       "-8.2824e-02 -3.6799e-01 -2.9894e-01  2.4570e-01  2.9895e-02 -2.7515e-01\n",
       "-1.0761e-01 -1.2824e-02 -2.7844e-02  1.2720e-01 -1.1448e-01  1.5343e-01\n",
       " 5.4111e-02 -1.7400e-01 -5.8433e-02  1.7730e-01  2.7828e-02  2.0044e-01\n",
       " 1.0191e-02 -7.6971e-02  8.8714e-02 -9.1401e-02 -1.1845e-04  3.8883e-01\n",
       " 2.2685e-01 -7.2664e-02 -1.7444e-01  4.0460e-01 -6.0215e-02 -4.8169e-02\n",
       " 1.6353e-01  1.2678e-01 -1.0597e-01  1.3176e-01 -1.1984e-01  2.9786e-01\n",
       " 1.6734e-01  4.9632e-02 -1.2720e-01  2.4720e-01 -2.9342e-01 -2.6234e-01\n",
       " 7.3800e-02  2.7894e-01  8.7240e-03 -1.1414e-01 -2.1342e-01  1.3098e-01\n",
       "-2.2942e-01  1.9342e-01 -2.3514e-01  5.8959e-02  1.4024e-01 -1.8620e-01\n",
       "-1.9344e-01  4.3438e-02  2.5611e-02  8.3035e-02  9.3490e-02  1.6249e-01\n",
       "\n",
       "Columns 24 to 29 \n",
       "-2.3839e-02  7.8978e-03  7.2083e-02  2.6200e-01 -7.2521e-02 -1.3311e-01\n",
       " 9.1452e-03  2.8222e-01  1.2955e-01 -1.9891e-01  3.0962e-01  2.7018e-01\n",
       " 2.5356e-02  5.3116e-02  6.9533e-02  2.5780e-01 -2.8534e-02  2.1913e-01\n",
       "-1.4441e-01 -1.0076e-01  1.9858e-01 -2.9872e-01  7.3054e-02  8.5876e-02\n",
       " 7.3936e-02  1.7584e-01 -2.0986e-01  1.8748e-01  4.4956e-03 -3.1797e-02\n",
       "-2.4698e-01  1.5906e-01  1.5275e-01  8.0616e-02 -1.1710e-01  2.3774e-01\n",
       " 9.2269e-03  7.0415e-02  1.4962e-01 -2.0494e-01 -6.9919e-02  7.5670e-02\n",
       " 2.0931e-01 -1.6210e-02  1.5307e-01  1.6251e-01 -2.9373e-01 -3.8841e-02\n",
       " 5.7929e-02  8.1999e-02 -2.6510e-01 -2.9315e-01  3.5521e-01  3.9542e-02\n",
       " 1.5864e-02  1.2824e-01  1.6527e-01  1.6345e-01  1.3376e-01  4.2409e-02\n",
       "-6.0496e-02  8.8701e-02 -1.8531e-02  5.6491e-02 -5.0359e-02  1.0122e-01\n",
       "-1.3434e-02  1.5788e-01  1.8920e-02  5.0676e-01 -1.1178e-02  6.1177e-02\n",
       " 3.0447e-01  1.6134e-01 -2.8860e-01  1.0142e-01 -1.2618e-01  8.9509e-02\n",
       "-9.9208e-02  1.3168e-01 -1.5522e-01 -1.2914e-01  2.3261e-01  1.4060e-01\n",
       " 5.0751e-02  7.6718e-02  3.8441e-03 -2.4053e-02  1.1351e-01  1.2037e-01\n",
       " 2.2908e-01 -6.3757e-03 -1.3817e-01  3.9979e-02 -8.4212e-02 -1.2350e-01\n",
       " 1.0098e-01 -1.4609e-01  2.7053e-01  2.5474e-02 -1.0048e-01  6.1130e-02\n",
       "-1.8765e-02 -6.7187e-02 -4.6786e-02  2.2859e-01 -7.3872e-02  2.2059e-02\n",
       "-4.9752e-02 -2.5408e-02 -2.0904e-01  3.5954e-01  2.3158e-01 -6.8801e-02\n",
       " 2.9657e-01  3.7123e-01 -2.0561e-01  1.4878e-01  1.0607e-01  1.3186e-01\n",
       " 2.0156e-01 -3.4890e-02 -2.2234e-01 -9.7277e-02 -1.6186e-01  1.7453e-01\n",
       " 2.2724e-01  6.1472e-02  9.8365e-02 -7.0771e-04  1.9411e-01  3.4137e-02\n",
       " 2.7767e-02  4.9891e-02  4.1567e-02 -6.3229e-02  1.3250e-01  3.1348e-02\n",
       "\n",
       "Columns 30 to 33 \n",
       " 1.5583e-01 -3.8319e-01 -1.0176e-02 -7.3964e-02\n",
       " 1.8876e-01  5.3438e-03 -8.3654e-02 -1.3989e-01\n",
       "-3.1293e-03 -4.1049e-01 -1.7383e-01  3.5227e-02\n",
       "-1.9357e-02  4.7557e-01  2.7618e-01  3.0422e-02\n",
       "-6.3011e-02 -3.3855e-01 -4.0881e-02 -6.7600e-02\n",
       "-3.0804e-02  7.8273e-05  1.4596e-01 -9.2290e-02\n",
       "-6.0024e-02  2.9726e-01  1.3512e-01  9.5434e-02\n",
       "-4.3190e-02 -2.8065e-01  1.8374e-01  8.3493e-02\n",
       "-1.0461e-01  9.2013e-02  8.4811e-02  3.1934e-01\n",
       " 1.7892e-03  2.9541e-02 -1.7594e-01  6.4283e-02\n",
       "-1.0044e-01  4.6050e-01  2.3517e-03 -7.6811e-02\n",
       "-1.6128e-02  2.5772e-02 -2.3573e-01  1.6966e-01\n",
       " 2.7648e-01 -1.5303e-01 -4.4094e-01 -1.6278e-01\n",
       "-1.3280e-01 -1.8361e-01  1.3596e-01  3.0996e-01\n",
       " 2.9862e-01 -1.4656e-01  1.6493e-01 -6.2902e-03\n",
       " 2.6744e-01 -1.8556e-02  2.4219e-01 -1.5381e-01\n",
       " 4.7383e-02  1.5513e-01  9.9659e-02  1.7502e-02\n",
       "-3.4382e-02  1.4951e-01 -1.2011e-02 -1.1959e-01\n",
       " 1.2348e-01 -1.9815e-01 -2.0956e-01  2.7616e-02\n",
       " 1.5039e-01  1.1060e-01 -2.3804e-02 -1.4012e-01\n",
       "-9.9829e-02 -1.3194e-01  1.4078e-01  1.1714e-01\n",
       "-7.6676e-02 -1.1406e-01 -9.1656e-02 -1.5980e-01\n",
       "-5.0857e-02 -5.0707e-02 -3.6253e-02 -7.9448e-02\n",
       "[torch.FloatTensor of size 23x34]"
      ]
     },
     "execution_count": 63,
     "metadata": {},
     "output_type": "execute_result"
    }
   ],
   "source": [
    "model[(0)].weight"
   ]
  },
  {
   "cell_type": "code",
   "execution_count": 64,
   "metadata": {
    "collapsed": false
   },
   "outputs": [
    {
     "data": {
      "text/plain": [
       "Parameter containing:\n",
       "\n",
       "Columns 0 to 9 \n",
       "-0.2300 -0.0298  0.1612  0.4956  0.1133  0.0758 -0.1857  0.4369  0.2856  0.3018\n",
       " 0.2364  0.0113  0.1364  0.0367  0.1399 -0.1395  0.0311  0.2387 -0.1779 -0.4097\n",
       " 0.2423  0.3572  0.1191  0.1045 -0.0863  0.0002 -0.0292  0.0273  0.0789 -0.0664\n",
       "-0.0423 -0.0271  0.4700 -0.4196  0.0299  0.1122  0.1167  0.7993  0.2604 -0.3511\n",
       "-0.0355 -0.2119  0.0380 -0.0544  0.0504  0.0182  0.1044 -0.0309 -0.0911  0.1841\n",
       " 0.5392 -0.0767 -0.1067  0.1682  0.1380  0.2324 -0.1523  0.1160  0.0756  0.1510\n",
       "-0.2354  0.1927  0.1774  0.3113  0.1430  0.2257  0.0879 -0.0731 -0.0909 -0.1527\n",
       " 0.1155  0.0416  0.3391 -0.2415  0.0455  0.1530  0.3229  0.4283  0.1809 -0.1749\n",
       "-0.1399  0.3294 -0.2425  0.0202  0.0421  0.1709 -0.1028  0.1936  0.1922 -0.2157\n",
       "-0.1800  0.1102 -0.5320 -0.0493  0.2463 -0.0655  0.3377  0.1709 -0.5633 -0.4436\n",
       " 0.2727 -0.3061 -0.1050 -0.4541  0.3585 -0.6135  0.2239 -0.0091 -0.0227  0.0020\n",
       "-0.1440 -0.2923 -0.1193  0.3857  0.3910 -0.1826 -0.2688  0.0104  0.1465  0.3901\n",
       " 0.1053  0.1569 -0.0436  0.0027  0.0709 -0.1196  0.1589 -0.3240  0.0140  0.1426\n",
       " 0.1783 -0.0366  0.0071  0.2502 -0.0659  0.3683  0.1207  0.0277  0.0870 -0.3587\n",
       " 0.0686 -0.5067  0.1234  0.0055 -0.2793 -0.5116  0.0561  0.6069 -0.7089 -0.4431\n",
       "\n",
       "Columns 10 to 19 \n",
       "-0.0536 -0.3831  0.2090 -0.0237 -0.0468  0.0735  0.1841 -0.1395 -0.0551 -0.0752\n",
       " 0.0534  0.0865 -0.1913  0.3126 -0.0972 -0.1525  0.1828  0.1222 -0.0470  0.2668\n",
       " 0.1128 -0.0726  0.2097  0.1470 -0.1922  0.1550  0.0378  0.0499 -0.0522  0.3054\n",
       " 0.0282 -0.0040  0.1530  0.4470  0.1043  0.4746  0.0878  0.2756  0.1039  0.2359\n",
       " 0.0317  0.0485  0.0589  0.0254  0.1225 -0.0567  0.1184 -0.0346  0.2492 -0.0239\n",
       "-0.0470  0.1414  0.1944  0.1992  0.0737 -0.2833  0.0519 -0.0304  0.0513  0.0105\n",
       "-0.0368 -0.0029  0.0767  0.1775  0.2249  0.1024  0.0902 -0.0841  0.2778 -0.3377\n",
       " 0.3333  0.2531 -0.0624  0.1117  0.1120 -0.3404  0.0762  0.2895 -0.3497  0.1731\n",
       "-0.0102  0.2975  0.4683  0.2811 -0.0473 -0.1171 -0.1137 -0.2207  0.2558  0.2035\n",
       " 0.0578 -0.3626  0.2218 -0.4439  0.0260  0.1817 -0.5013  0.5358 -0.3527 -0.4191\n",
       " 0.1301 -0.1053  0.0363  0.0327 -0.0160 -0.1534  0.2311 -0.1890 -0.0699  0.3988\n",
       "-0.2401 -0.2775  0.0000  0.3457 -0.3338  0.1957 -0.0072 -0.5711  0.3640  0.1643\n",
       "-0.2408  0.1805 -0.1726  0.1435  0.1057 -0.1182 -0.1267  0.1141  0.1245 -0.0774\n",
       " 0.2112  0.0548  0.1661 -0.0836 -0.0939 -0.3459  0.2605 -0.0276 -0.0713  0.0334\n",
       "-0.0058  0.1829  0.0293  0.3269 -0.3861 -0.0409  0.0861 -0.3084  0.1016  0.4951\n",
       "\n",
       "Columns 20 to 22 \n",
       " 0.0244  0.0388  0.0930\n",
       " 0.1119  0.4051 -0.1634\n",
       "-0.1050 -0.0437  0.1566\n",
       " 0.2815 -0.2132  0.5430\n",
       "-0.0237 -0.0215  0.1803\n",
       " 0.2812  0.1999  0.1678\n",
       "-0.3532  0.1525  0.0829\n",
       "-0.2311 -0.1436 -0.0313\n",
       " 0.2299 -0.0762  0.0815\n",
       "-0.0202 -0.4772 -0.3436\n",
       "-0.1051  0.2403  0.2428\n",
       "-0.3552  0.3811 -0.1236\n",
       " 0.0624 -0.0060  0.0909\n",
       " 0.0322 -0.0930  0.1422\n",
       " 0.2582  0.0270  0.3664\n",
       "[torch.FloatTensor of size 15x23]"
      ]
     },
     "execution_count": 64,
     "metadata": {},
     "output_type": "execute_result"
    }
   ],
   "source": [
    "model[(2)].weight"
   ]
  },
  {
   "cell_type": "code",
   "execution_count": 65,
   "metadata": {
    "collapsed": false
   },
   "outputs": [
    {
     "data": {
      "text/plain": [
       "Parameter containing:\n",
       "\n",
       "Columns 0 to 9 \n",
       "-0.5084  0.7793  0.3134 -1.1570 -0.3065 -0.1969 -0.1150 -0.3760 -0.4371  0.8011\n",
       " 0.0178  0.1837  0.1255 -0.0467 -0.0400 -0.2646 -0.0849  0.0812 -0.0981  0.1817\n",
       " 0.4795  0.5965  0.2150 -0.0919  0.2625 -0.0766  0.2146  0.4262  0.1978 -0.5448\n",
       "-0.0639  0.0446  0.1855  0.0421 -0.0903  0.1228  0.0587 -0.1941  0.2564  0.5072\n",
       " 0.4134  0.2476 -0.1606  0.1170  0.2205  0.1743 -0.1407  0.0658  0.2737 -1.1041\n",
       " 0.2085 -0.1003 -0.2319  0.0091 -0.2617  0.1786  0.2244 -1.0960  0.0149  0.0075\n",
       " 0.0481  0.0232  0.2783  0.3840  0.0438  0.3013  0.2014 -0.1459  0.3682  0.0993\n",
       "-0.1436  0.6589  0.2736  0.0036  0.0860 -0.0099  0.3164 -0.3900  0.0906 -0.2599\n",
       "-0.0165 -0.4431  0.0779 -0.0646 -0.1750  0.2214 -0.1602  0.1496  0.3943  0.3006\n",
       "-0.1062 -0.8369 -0.0215  0.5650 -0.3064  0.3885 -0.0635 -0.1122  0.1752 -0.2074\n",
       "\n",
       "Columns 10 to 14 \n",
       " 0.3920 -0.0938  0.2416 -0.4231  0.5859\n",
       " 0.0344 -0.1767 -0.1400 -0.0139 -0.0658\n",
       " 0.7844 -0.4742  0.1369  0.3154 -0.5525\n",
       " 0.7696 -1.0317 -0.0443  0.4609 -0.0838\n",
       " 0.3377 -0.5520  0.1655  0.0981 -0.4309\n",
       " 0.4651  0.1064 -0.2226 -0.0426 -0.1429\n",
       "-0.0155 -0.5292 -0.0346  0.2725 -0.8369\n",
       "-0.4803  0.4945 -0.1009  0.2246  0.2869\n",
       "-0.2313 -0.0084 -0.1971  0.0070  0.1531\n",
       "-0.4158 -0.5711 -0.0382  0.1691 -0.1237\n",
       "[torch.FloatTensor of size 10x15]"
      ]
     },
     "execution_count": 65,
     "metadata": {},
     "output_type": "execute_result"
    }
   ],
   "source": [
    "model[(4)].weight"
   ]
  },
  {
   "cell_type": "code",
   "execution_count": 66,
   "metadata": {
    "collapsed": false
   },
   "outputs": [
    {
     "data": {
      "text/plain": [
       "Parameter containing:\n",
       " 1.8500 -0.1057 -0.6107 -0.1258 -0.3995  0.2707  0.1247 -0.3509  0.3862  0.1291\n",
       "-0.7935 -0.2001  0.1263  0.2168  0.0848 -0.7096  0.3188 -0.1580 -0.1450  0.4792\n",
       " 1.5403  0.1984  0.2372  0.0555  0.2232 -0.1181 -0.3145  0.1274  0.2624  0.1760\n",
       "-2.9674  0.2688 -0.4832  0.0625 -0.1475  0.6820  0.2770  0.0257  0.4180  0.4225\n",
       "-1.8632  0.2021 -0.2679  0.3897  0.2706 -0.4257 -0.0053  0.2447  0.0482 -0.0257\n",
       "-1.0418  0.1607  0.3675  0.2371  0.3998 -0.9300  0.3782  0.0334 -0.1816  0.4543\n",
       " 0.2612  0.1533  0.1499  0.0932  0.1420  0.3644 -0.0666 -0.6285 -0.3664 -0.0004\n",
       "[torch.FloatTensor of size 7x10]"
      ]
     },
     "execution_count": 66,
     "metadata": {},
     "output_type": "execute_result"
    }
   ],
   "source": [
    "model[(6)].weight"
   ]
  },
  {
   "cell_type": "code",
   "execution_count": 67,
   "metadata": {
    "collapsed": false
   },
   "outputs": [
    {
     "data": {
      "text/plain": [
       "Parameter containing:\n",
       "-0.5713  0.1788 -0.0383 -0.9561  0.2393  0.4169 -0.7494\n",
       "[torch.FloatTensor of size 1x7]"
      ]
     },
     "execution_count": 67,
     "metadata": {},
     "output_type": "execute_result"
    }
   ],
   "source": [
    "model[(8)].weight"
   ]
  },
  {
   "cell_type": "markdown",
   "metadata": {},
   "source": [
    "## Round 5: Five-Hidden-Layer Neural Network"
   ]
  },
  {
   "cell_type": "code",
   "execution_count": 68,
   "metadata": {
    "collapsed": true
   },
   "outputs": [],
   "source": [
    "# Make the torch Tensor into a PyTorch Variable for dependent variables\n",
    "outcomes_Variable = Variable(outcomes_Tensor)\n",
    "\n",
    "\n",
    "# ...for independent variables\n",
    "features_Variable = Variable(features_Tensor,\n",
    "                             requires_grad = False)"
   ]
  },
  {
   "cell_type": "code",
   "execution_count": 69,
   "metadata": {
    "collapsed": true
   },
   "outputs": [],
   "source": [
    "# Make the neural network\n",
    "model = torch.nn.Sequential(torch.nn.Linear(34, 23),\n",
    "                            torch.nn.ReLU(),\n",
    "                            torch.nn.Linear(23, 15),\n",
    "                            torch.nn.ReLU(),\n",
    "                            torch.nn.Linear(15, 10),\n",
    "                            torch.nn.ReLU(),\n",
    "                            torch.nn.Linear(10, 7),\n",
    "                            torch.nn.ReLU(),\n",
    "                            torch.nn.Linear(7, 5),\n",
    "                            torch.nn.ReLU(),\n",
    "                            torch.nn.Linear(5, 1))"
   ]
  },
  {
   "cell_type": "code",
   "execution_count": 70,
   "metadata": {
    "collapsed": true
   },
   "outputs": [],
   "source": [
    "# To add errors to\n",
    "errors = []\n",
    "\n",
    "\n",
    "# Set the learning rate\n",
    "learning_rate = 1e-2\n",
    "\n",
    "\n",
    "# Define the model's optimizer\n",
    "optimizer = torch.optim.Adagrad(model.parameters(), lr = learning_rate)\n",
    "\n",
    "\n",
    "# Train the neural network\n",
    "for t in range(15000):\n",
    "    \n",
    "    # Get the current predictions\n",
    "    y_pred = model(features_Variable)\n",
    "    \n",
    "    # Compute and append current summed errors\n",
    "    loss = loss_fn(y_pred, outcomes_Variable)\n",
    "    errors.append(loss.data[0])\n",
    "    \n",
    "    # Zero the gradients before running the backward pass.\n",
    "    optimizer.zero_grad()\n",
    "    \n",
    "    # Backward pass: compute gradient of the loss with respect to all the learnable Variables\n",
    "    loss.backward()\n",
    "    \n",
    "    # Update the weights using Adagrad\n",
    "    optimizer.step()"
   ]
  },
  {
   "cell_type": "code",
   "execution_count": 71,
   "metadata": {
    "collapsed": false
   },
   "outputs": [
    {
     "data": {
      "text/plain": [
       "<matplotlib.collections.PathCollection at 0x7f5979897e80>"
      ]
     },
     "execution_count": 71,
     "metadata": {},
     "output_type": "execute_result"
    },
    {
     "data": {
      "image/png": "[encoded data removed]",
      "text/plain": [
       "<matplotlib.figure.Figure at 0x7f5979986828>"
      ]
     },
     "metadata": {},
     "output_type": "display_data"
    }
   ],
   "source": [
    "# Plot summed error as a function of iteration\n",
    "plt.scatter(iterations, errors, c = \"black\", alpha = 0.25)"
   ]
  },
  {
   "cell_type": "code",
   "execution_count": 72,
   "metadata": {
    "collapsed": true
   },
   "outputs": [],
   "source": [
    "# Get rid of the 2nd dimension of 1 from the FloatTensor\n",
    "y_pred_resized = y_pred.resize(8308)\n",
    "\n",
    "\n",
    "# Make the FloatTensor into a numpy.array\n",
    "y_pred_array = y_pred_resized.data.numpy()\n",
    "\n",
    "\n",
    "# Make the numpy.array into a list\n",
    "y_pred_list = y_pred_array.tolist()"
   ]
  },
  {
   "cell_type": "code",
   "execution_count": 73,
   "metadata": {
    "collapsed": false
   },
   "outputs": [
    {
     "data": {
      "text/plain": [
       "[<matplotlib.lines.Line2D at 0x7f59798a6320>]"
      ]
     },
     "execution_count": 73,
     "metadata": {},
     "output_type": "execute_result"
    },
    {
     "data": {
      "image/png": "[encoded data removed]",
      "text/plain": [
       "<matplotlib.figure.Figure at 0x7f59798a64e0>"
      ]
     },
     "metadata": {},
     "output_type": "display_data"
    }
   ],
   "source": [
    "# Plot predictions versus training set outcomes\n",
    "plt.scatter(outcomes_list, y_pred_list, c = \"black\", alpha = 0.15)\n",
    "\n",
    "axes = plt.gca()\n",
    "\n",
    "axes.set_xlim([-2, 4])\n",
    "\n",
    "axes.set_ylim([-2, 4])\n",
    "\n",
    "plt.plot([-2, 4], [-2, 4], 'k-', lw=2)"
   ]
  },
  {
   "cell_type": "markdown",
   "metadata": {},
   "source": [
    "### Round 5.1 Validation Set Performance"
   ]
  },
  {
   "cell_type": "code",
   "execution_count": 74,
   "metadata": {
    "collapsed": false
   },
   "outputs": [
    {
     "data": {
      "text/plain": [
       "Variable containing:\n",
       " 323.3643\n",
       "[torch.FloatTensor of size 1]"
      ]
     },
     "execution_count": 74,
     "metadata": {},
     "output_type": "execute_result"
    }
   ],
   "source": [
    "# Get the validation set predictions\n",
    "y_valid_pred = model(valid_predictors_Variable)\n",
    "\n",
    "\n",
    "# Print the loss\n",
    "loss_fn(y_valid_pred,\n",
    "        valid_outcomes_Variable)"
   ]
  },
  {
   "cell_type": "code",
   "execution_count": 75,
   "metadata": {
    "collapsed": false
   },
   "outputs": [
    {
     "data": {
      "text/plain": [
       "Variable containing:\n",
       " 0.3198\n",
       "[torch.FloatTensor of size 1]"
      ]
     },
     "execution_count": 75,
     "metadata": {},
     "output_type": "execute_result"
    }
   ],
   "source": [
    "# Grab the residual sum of squares\n",
    "resid_sum_squares = loss_fn(y_valid_pred, valid_outcomes_Variable)\n",
    "\n",
    "\n",
    "# Compute R squared\n",
    "R_squared = 1 - (resid_sum_squares / tot_sum_squares)\n",
    "\n",
    "R_squared"
   ]
  },
  {
   "cell_type": "code",
   "execution_count": 76,
   "metadata": {
    "collapsed": true
   },
   "outputs": [],
   "source": [
    "# Get rid of the 2nd dimension of 1 from the FloatTensor\n",
    "y_valid_pred_resized = y_valid_pred.resize(2808)\n",
    "\n",
    "\n",
    "# Make the FloatTensor into a numpy.array\n",
    "y_valid_pred_array = y_valid_pred_resized.data.numpy()\n",
    "\n",
    "\n",
    "# Convert back to log scale\n",
    "y_valid_pred_array = y_valid_pred_array*5.407597 + 7.688844\n",
    "\n",
    "\n",
    "# Make the numpy.array into a list\n",
    "y_valid_pred_list = y_valid_pred_array.tolist()"
   ]
  },
  {
   "cell_type": "code",
   "execution_count": 77,
   "metadata": {
    "collapsed": false
   },
   "outputs": [
    {
     "data": {
      "text/plain": [
       "<matplotlib.text.Text at 0x7f59797d31d0>"
      ]
     },
     "execution_count": 77,
     "metadata": {},
     "output_type": "execute_result"
    },
    {
     "data": {
      "image/png": "[encoded data removed]",
      "text/plain": [
       "<matplotlib.figure.Figure at 0x7f597995ce10>"
      ]
     },
     "metadata": {},
     "output_type": "display_data"
    }
   ],
   "source": [
    "# Plot new predictions versus new data outcomes\n",
    "plt.scatter(valid_outcomes_list, y_valid_pred_list, c = \"black\", alpha = 0.15)\n",
    "\n",
    "axes = plt.gca()\n",
    "\n",
    "axes.set_xlim([0, 24])\n",
    "\n",
    "axes.set_ylim([0, 24])\n",
    "\n",
    "axes.set_xticks([0, 4, 8, 12, 16, 20, 24])\n",
    "\n",
    "axes.set_yticks([0, 4, 8, 12, 16, 20, 24])\n",
    "\n",
    "plt.plot([0, 24], [0, 24], 'k-', lw = 2)\n",
    "\n",
    "axes.set_xlabel(\"Actual Outcome (Log-Transformed US Dollars)\")\n",
    "\n",
    "axes.set_ylabel(\"Model Prediction (Log-Transformed US Dollars)\")\n",
    "\n",
    "axes.set_title(\"Model Performance\")"
   ]
  },
  {
   "cell_type": "code",
   "execution_count": 78,
   "metadata": {
    "collapsed": false
   },
   "outputs": [
    {
     "data": {
      "text/plain": [
       "Parameter containing:\n",
       "\n",
       "Columns 0 to 9 \n",
       "-0.2182 -0.4219  0.3716 -0.0971 -0.2714  0.0741 -0.1125  0.0353 -0.0185 -0.1322\n",
       "-0.0826  0.3484  0.3158 -0.1121 -0.0825 -0.2816 -0.6035  0.0168 -0.2058  0.3940\n",
       "-0.0337  0.4868 -0.1311  0.0714  0.2188 -0.2524 -0.3371 -0.1019  0.2469 -0.0456\n",
       "-0.0473 -0.5156 -0.0917  0.0244 -0.1525 -0.0931 -0.6882 -0.2185 -0.0487  0.0288\n",
       " 0.4070 -0.0566  0.0972 -0.2165  0.1745  0.0984  0.9750  0.3439  0.2515  0.0346\n",
       " 0.0307  0.0798  0.2203 -0.0476 -0.1051  0.2349 -0.0887  0.0309 -0.0973 -0.0284\n",
       "-0.0588 -0.2468 -0.1186 -0.1552 -0.0308  0.1705 -1.4010 -0.0931  0.2268  0.3346\n",
       " 0.0118  0.3100 -0.1845  0.2570  0.1948  0.1928  1.0118 -0.1572  0.0113 -0.1038\n",
       " 0.0753  0.1975 -0.0733  0.1628  0.3380  0.3002  0.3449 -0.0726  0.1618 -0.4336\n",
       "-0.0651  0.0670 -0.0968 -0.0498  0.3729 -0.0042  0.2399 -0.1109 -0.0927  0.2480\n",
       " 0.1501  0.5012 -0.3006  0.0973  0.1131  0.3669 -0.5750 -0.0450  0.2678  0.0036\n",
       "-0.1116 -0.1686  0.0513 -0.1015  0.3703  0.6607 -0.1324 -0.0810 -0.0470 -0.5469\n",
       "-0.0174 -0.0556  0.2364 -0.2027  0.0373 -0.4383  0.7339 -0.0264 -0.1784  0.0708\n",
       " 0.0096 -0.0373 -0.1511  0.1110 -0.2323 -0.0181  0.0978  0.2907  0.1216  0.0236\n",
       " 0.0414 -0.2853 -0.0563  0.2182  0.0620  0.1997 -0.4605 -0.1006  0.0256 -0.2292\n",
       " 0.0870 -0.1730 -0.3185 -0.0116  0.1100  0.2470 -0.6858  0.2371 -0.1734  0.3331\n",
       "-0.1619 -0.0447 -0.0811  0.0611 -0.0155 -0.2070  0.1044  0.3766 -0.0248 -0.0479\n",
       "-0.0840  0.0731 -0.0691  0.3319  0.0691 -0.3201  0.8995  0.1249  0.0050  0.1510\n",
       " 0.1656 -0.2157 -0.1638 -0.0515  0.2053  0.0955 -1.2297  0.2404  0.0087  0.1619\n",
       " 0.0376  0.1402  0.0329  0.1148  0.1431 -0.0929  0.1600 -0.1566 -0.0182 -0.2211\n",
       " 0.0760  0.4083 -0.2895 -0.0491  0.0121  0.1952 -1.2482 -0.1063  0.0723 -0.0084\n",
       " 0.0164 -0.3458 -0.0098 -0.0217  0.1678  0.0327  0.1651  0.0999  0.0472  0.0402\n",
       " 0.0383  0.0842  0.0015  0.1683  0.0542  0.4667 -0.7990 -0.0825  0.1102  0.1014\n",
       "\n",
       "Columns 10 to 19 \n",
       "-0.2438  0.1295 -0.2440  0.1181  0.2217  0.1581 -0.2388  0.0421 -0.0467  0.1313\n",
       "-0.0658 -0.0007 -0.0463 -0.0062 -0.0021 -0.1220 -0.0475 -0.1131 -0.1813  0.0698\n",
       " 0.2389 -0.0903  0.0848  0.1484 -0.0058  0.1570  0.0569 -0.0276 -0.0234 -0.1172\n",
       " 0.0179  0.0397 -0.1133  0.0048  0.0036 -0.0193 -0.0632  0.0504  0.0467 -0.0013\n",
       " 0.2226  0.0961 -0.0010 -0.0803  0.1984  0.1111 -0.0072 -0.0211  0.4184 -0.0043\n",
       "-0.2162  0.3244 -0.1932  0.2540 -0.6331 -0.0934 -0.1459 -0.0329  0.0211  0.2296\n",
       "-0.2730 -0.0354  0.1515 -0.2271 -0.2445  0.2138  0.0106  0.1466  0.0928  0.0860\n",
       " 0.3440  0.0401 -0.0622  0.1536  0.0455 -0.1058  0.1189 -0.0264 -0.1092  0.3197\n",
       " 0.2324  0.3196  0.0187  0.0676 -0.2755 -0.0244  0.2859 -0.2705 -0.2672 -0.1249\n",
       " 0.3285 -0.0813 -0.0283  0.1332  0.0404 -0.2140  0.1023 -0.2528 -0.0036 -0.0685\n",
       " 0.0025 -0.0395 -0.2018  0.1993 -0.0271 -0.2831  0.1442 -0.0794  0.0170 -0.1275\n",
       "-0.0966  0.3278 -0.0897  0.2939 -0.1511 -0.0618 -0.2330 -0.1588 -0.3041 -0.0093\n",
       " 0.0967 -0.2134  0.2107 -0.2071 -0.1337  0.1140 -0.0453 -0.3112 -0.0698 -0.1374\n",
       "-0.0626  0.1930 -0.0525  0.1023  0.0589  0.1759  0.0033 -0.1912 -0.1117 -0.0407\n",
       "-0.0945 -0.1327 -0.0278  0.1021 -0.0606  0.2496 -0.2806  0.2383 -0.2405  0.3017\n",
       "-0.1057  0.0729 -0.0116 -0.1689 -0.2075 -0.3055 -0.0747  0.3633 -0.1531  0.1035\n",
       "-0.4101  0.1495  0.0542  0.1695 -0.1202 -0.0230  0.0368  0.1019 -0.2171 -0.1992\n",
       " 0.2029 -0.0359  0.3315  0.0097  0.2103  0.0827 -0.1217  0.0279 -0.0564 -0.3550\n",
       "-0.1789  0.0181  0.1155 -0.0009  0.1803 -0.0281 -0.0132  0.0231  0.1310  0.0091\n",
       " 0.1692 -0.3571  0.1547 -0.1408  0.4206 -0.1108  0.1106  0.1547  0.1202  0.1956\n",
       "-0.1131  0.0074  0.1212 -0.1294 -0.2492  0.0522 -0.0381 -0.2683  0.0236 -0.3460\n",
       " 0.4624  0.1474 -0.1283 -0.1415 -0.0832 -0.0215 -0.0466 -0.4308 -0.1561  0.0316\n",
       " 0.0850 -0.3102  0.2344 -0.1214  0.2845 -0.0452  0.2804 -0.0374  0.2468  0.0879\n",
       "\n",
       "Columns 20 to 29 \n",
       " 0.1234  0.1926  0.0794 -0.0819 -0.0951  0.2183  0.0841  0.0512  0.2069  0.0214\n",
       " 0.3297 -0.0799  0.1179  0.0850  0.1285  0.1848  0.1141 -0.2870  0.0727  0.3380\n",
       "-0.0469  0.2568  0.1658 -0.0878 -0.0769  0.0432 -0.2656 -0.3109  0.2843  0.1106\n",
       " 0.2292  0.0241  0.0072 -0.0123  0.2706  0.2922  0.2241 -0.3035  0.0126  0.1583\n",
       "-0.0919 -0.1445 -0.2966  0.2411 -0.1551  0.1315  0.1660  0.2947  0.0311  0.1680\n",
       " 0.0992 -0.1245 -0.1959  0.1539  0.0074  0.1863  0.0379  0.0369  0.0448  0.3342\n",
       " 0.0072 -0.0777 -0.1539 -0.3325 -0.1763  0.0273  0.0811 -0.1537 -0.4274  0.0908\n",
       "-0.0350  0.0163 -0.0660  0.0262  0.2991  0.0068  0.0216  0.1344  0.0380  0.0879\n",
       "-0.1663 -0.2120  0.0478  0.3440 -0.1179 -0.1950 -0.0662  0.0552 -0.0995 -0.1128\n",
       " 0.0396 -0.1331  0.2797  0.2800 -0.3104  0.1981 -0.0001  0.1587  0.0235  0.2120\n",
       "-0.1174  0.1783 -0.0607 -0.0811 -0.1876  0.2492 -0.3144  0.4300  0.0221 -0.0122\n",
       "-0.0668 -0.1487  0.0331  0.0923  0.1173 -0.1844  0.2105  0.3786 -0.0980 -0.1115\n",
       "-0.1928  0.5477  0.2459  0.1216  0.1256 -0.0377  0.3622 -0.0516  0.2222  0.0944\n",
       " 0.1861  0.0662  0.0126 -0.0718  0.2347 -0.0825 -0.0602  0.0132  0.0411  0.0015\n",
       "-0.0238 -0.0894  0.2288 -0.1652  0.4458  0.2267  0.1721  0.0834  0.0362 -0.0151\n",
       "-0.0339  0.2021 -0.0770 -0.0088 -0.1931  0.1020 -0.1481  0.3606 -0.0345  0.1180\n",
       " 0.0696  0.1000  0.0716 -0.0112  0.2248  0.4181 -0.0276 -0.1242  0.2206  0.2923\n",
       " 0.1481  0.0839 -0.0492 -0.0253  0.2035  0.2194  0.0974  0.3655  0.0653  0.1052\n",
       " 0.1043  0.0400 -0.0613  0.2825  0.0293  0.2811 -0.1128  0.2218  0.0762  0.1543\n",
       "-0.1303  0.0702  0.1613  0.2171  0.0219 -0.1421  0.1376  0.1257 -0.0053 -0.0703\n",
       " 0.0801  0.2208  0.1485 -0.1340 -0.0625 -0.0039  0.0093 -0.5195 -0.1543 -0.0047\n",
       " 0.1105  0.2641 -0.0900 -0.2755 -0.2104 -0.0939  0.1248 -0.2712 -0.3848 -0.0690\n",
       " 0.2606  0.0079 -0.0779  0.3176 -0.0677 -0.0040  0.1466  0.1390 -0.0163 -0.0149\n",
       "\n",
       "Columns 30 to 33 \n",
       "-0.2839  0.5044  0.2297  0.2791\n",
       " 0.1210 -0.1735  0.0534 -0.1182\n",
       "-0.0233  0.1417 -0.2658  0.0060\n",
       " 0.0790  0.1810 -0.0992 -0.1930\n",
       " 0.3299 -0.0808 -0.0234 -0.0094\n",
       " 0.0245  0.1304  0.0809 -0.1072\n",
       "-0.0865  0.3582  0.1683  0.1330\n",
       "-0.3338 -0.3651  0.1103  0.1316\n",
       " 0.2887 -0.3287  0.1707  0.1321\n",
       "-0.0934 -0.3086  0.0339  0.0355\n",
       "-0.1565 -0.2271  0.0404 -0.4311\n",
       " 0.0454 -0.1665 -0.0634 -0.1442\n",
       " 0.4244  0.2363  0.0580  0.2664\n",
       "-0.1379  0.0049  0.4481 -0.2749\n",
       " 0.1176  0.2907 -0.2098 -0.1573\n",
       " 0.0793 -0.4978  0.0614  0.1092\n",
       " 0.0547  0.1063  0.3003 -0.2938\n",
       " 0.0985  0.1286  0.0066 -0.1160\n",
       "-0.3410 -0.4485  0.0180 -0.0677\n",
       " 0.1382 -0.1272  0.0866  0.2203\n",
       " 0.1057  0.5210  0.0680  0.0950\n",
       "-0.1943  0.1814  0.4698  0.0392\n",
       " 0.0674 -0.0449  0.2911  0.2299\n",
       "[torch.FloatTensor of size 23x34]"
      ]
     },
     "execution_count": 78,
     "metadata": {},
     "output_type": "execute_result"
    }
   ],
   "source": [
    "model[(0)].weight"
   ]
  },
  {
   "cell_type": "code",
   "execution_count": 79,
   "metadata": {
    "collapsed": false
   },
   "outputs": [
    {
     "data": {
      "text/plain": [
       "Parameter containing:\n",
       "\n",
       "Columns 0 to 9 \n",
       " 0.0505  0.4311  0.2469  0.1335 -0.0137  0.2389  0.0900  0.3123  0.3508  0.1684\n",
       " 0.1923  0.0598 -0.2113 -0.0009  0.1981 -0.0755  0.3612 -0.0605  0.4326 -0.1788\n",
       " 0.3581 -0.2289  0.1008 -0.3480 -0.3006 -0.4253  0.3884  0.3192  0.0634  0.3341\n",
       "-0.1758 -0.0644  0.2542 -0.5000 -0.0034  0.0273  0.4866  0.1900  0.0771 -0.2063\n",
       " 0.0898 -0.2499 -0.9043  0.1078 -0.3091 -0.0103 -0.1042  0.3783  0.2093 -0.3486\n",
       " 0.3798  0.0055  0.2534 -0.0053  0.2394  0.0003  0.0909  0.1893  0.2543  0.3049\n",
       " 0.3123 -0.0164  0.1888  0.2571 -0.0721  0.2815  0.4164 -0.1910  0.1775  0.1950\n",
       " 0.0116  0.1452  0.1763  0.1470  0.2900  0.2494  0.3120  0.0645  0.3825  0.0737\n",
       "-0.1236  0.3217 -0.0139  0.0800  0.1105 -0.5248  0.2087  0.0902 -0.3095 -0.4945\n",
       "-0.1004 -0.1919  0.1953 -0.0802  0.1807  0.1763 -0.4934 -0.1991 -0.0517  0.3255\n",
       " 0.1870  0.5142  0.3476  0.1155  0.1550 -0.0708  0.1041  0.2361  0.1344  0.0247\n",
       "-0.0118 -0.1107  0.2224  0.2431  0.3235 -0.1342  0.3185  0.0428  0.2114 -0.0785\n",
       "-0.0336  0.3026  0.1047 -0.0628  0.0763  0.2263  0.1970  0.2147  0.2216  0.0562\n",
       "-0.0239  0.1758  0.2862  0.2804 -0.0603  0.1324  0.0985 -0.0280  0.2400 -0.1151\n",
       " 0.1784  0.1105 -0.3236  0.0379  0.1496  0.2973 -0.1009  0.0612  0.1930  0.3194\n",
       "\n",
       "Columns 10 to 19 \n",
       " 0.3176  0.1536  0.2081 -0.2869 -0.0447 -0.0560  0.2080 -0.0036  0.0531 -0.2684\n",
       " 0.5324 -0.6723  0.1748 -0.2394  0.4769 -0.0886  0.1405  0.0126  0.0374  0.0207\n",
       " 0.1786 -0.1884  0.2904 -0.0709  0.3459  0.0918  0.1406 -0.2444 -0.3136 -0.4559\n",
       " 0.2282 -0.1279  0.3355 -0.4452  0.0780 -0.5422  0.0153  0.1550  0.0525  0.0825\n",
       " 0.2918 -0.3506 -0.1175  0.3812  0.3555 -0.5131 -0.4701  0.2317 -0.5340 -0.1091\n",
       " 0.0767 -0.3265  0.1562 -0.1245  0.1889  0.2022  0.0908 -0.0708 -0.0265  0.4400\n",
       " 0.1442 -0.1840 -0.2812 -0.2537  0.2352  0.3191  0.2270  0.1293  0.0698  0.0089\n",
       " 0.4265  0.0348 -0.0837 -0.0625 -0.0251  0.0295 -0.0344  0.1736  0.0405  0.3950\n",
       "-0.0751 -0.1932 -0.0845 -0.4538  0.3959 -0.1298 -0.0680  0.3040 -0.0822 -0.5671\n",
       " 0.0400  0.4915  0.3965  0.3487 -0.3235  0.5090  0.2976 -0.2818 -0.4186  0.0773\n",
       " 0.0386  0.1146  0.1738 -0.1749 -0.0989  0.0466  0.2797  0.2627 -0.1306 -0.0441\n",
       " 0.1567 -0.1776  0.1865 -0.2254  0.3535  0.0621  0.3250 -0.0659  0.1923  0.1954\n",
       " 0.2242  0.3927  0.0983 -0.3451 -0.0483  0.0722  0.1745  0.1774 -0.0562 -0.0102\n",
       "-0.0222  0.0335 -0.1779  0.0554  0.3519  0.0984 -0.0248  0.1352 -0.0042 -0.0161\n",
       "-0.0318 -0.0230  0.1843 -0.3366  0.2195  0.2017  0.2095  0.1359  0.1561 -0.0347\n",
       "\n",
       "Columns 20 to 22 \n",
       "-0.0042 -0.1865  0.0314\n",
       "-0.5398 -0.0207  0.0571\n",
       " 0.2526 -0.4119  0.3299\n",
       "-0.1417  0.1379  0.1318\n",
       " 0.4497  0.2069 -0.1831\n",
       " 0.0183 -0.0640 -0.1135\n",
       " 0.0653  0.1103 -0.2132\n",
       "-0.1002  0.0005  0.0966\n",
       "-0.5077  0.0690  0.2291\n",
       "-0.7837 -0.4684  0.4422\n",
       " 0.0298 -0.2376  0.0493\n",
       " 0.2084  0.1749  0.2370\n",
       "-0.1537 -0.1520  0.2316\n",
       "-0.0309 -0.0505 -0.1936\n",
       " 0.1226 -0.0293 -0.0785\n",
       "[torch.FloatTensor of size 15x23]"
      ]
     },
     "execution_count": 79,
     "metadata": {},
     "output_type": "execute_result"
    }
   ],
   "source": [
    "model[(2)].weight"
   ]
  },
  {
   "cell_type": "code",
   "execution_count": 80,
   "metadata": {
    "collapsed": false
   },
   "outputs": [
    {
     "data": {
      "text/plain": [
       "Parameter containing:\n",
       "\n",
       "Columns 0 to 9 \n",
       "-0.2962 -0.9531 -1.8251 -0.8507  0.3898  0.3461  0.7040 -0.0659  0.6110 -0.2458\n",
       "-0.2548 -0.4650  0.4949 -0.4890  0.7156  0.1600 -0.3170 -0.1555 -0.3758  0.4430\n",
       "-0.0611  0.3600  0.0630  0.5973  0.6959 -0.1984 -0.3437 -0.3240  1.0871  0.2932\n",
       "-0.1340 -0.7718  0.4707 -1.7716 -2.0459  0.0269  0.2386  0.1326  1.0459  0.2356\n",
       "-0.5771 -0.5457  0.3965 -0.0029 -0.0507 -1.2736  0.1220  0.0971 -0.4151 -0.4702\n",
       "-0.2290 -0.3301  0.4525 -0.0299  0.1561 -0.2404 -0.1561  0.3097  0.1601 -0.4427\n",
       " 0.3938 -0.1606 -0.6365 -0.0765 -0.5302  0.2628  0.2380  0.2523  0.1964 -0.6489\n",
       " 0.1453  0.2790 -0.6375  0.7071 -0.6268  0.3204  0.1285  0.3384 -0.5278 -0.9676\n",
       " 0.1338  0.0748 -0.5916 -0.0075 -0.5072 -0.2172 -0.1147  0.1520 -0.1601 -0.1124\n",
       " 0.1130 -0.2653 -0.7054 -0.4344  0.0833  0.4609  0.2618  0.0235  0.0347 -0.7825\n",
       "\n",
       "Columns 10 to 14 \n",
       " 0.5590 -0.5839 -0.5823  0.2868 -0.0368\n",
       " 0.1274 -0.5010  0.0904  0.1959  0.0474\n",
       "-0.2428 -0.4113 -0.0849 -0.0802  0.3828\n",
       " 0.2001 -0.2360  0.1591 -0.8148 -0.0662\n",
       " 0.5140 -0.0871 -0.3145  0.5839 -0.5624\n",
       "-0.0850 -0.0150 -0.0312  0.0949 -0.1705\n",
       " 0.4168  0.1993  0.4098  0.0863  0.0642\n",
       "-0.0732  0.1296 -0.0759  0.2153  0.2506\n",
       " 0.4382  0.1018  0.1929  0.1203  0.3954\n",
       " 0.2196  0.2244  0.2134 -0.0388  0.2039\n",
       "[torch.FloatTensor of size 10x15]"
      ]
     },
     "execution_count": 80,
     "metadata": {},
     "output_type": "execute_result"
    }
   ],
   "source": [
    "model[(4)].weight"
   ]
  },
  {
   "cell_type": "code",
   "execution_count": 81,
   "metadata": {
    "collapsed": false
   },
   "outputs": [
    {
     "data": {
      "text/plain": [
       "Parameter containing:\n",
       "-2.0664 -2.6887 -1.5818 -2.2563 -1.1608 -0.9376  0.2665 -0.5607 -0.2487  0.3289\n",
       " 1.3648 -2.5902  0.5979  1.6692  0.4731 -0.5447 -0.1874  0.5065 -0.0966  0.2907\n",
       "-2.2847  0.7469  1.3102 -2.0568  0.0856  0.2593  0.1759 -0.3413 -0.0425 -0.2742\n",
       " 0.3076  0.1360 -0.5248  0.0672  0.5103  0.4986  0.0853  0.3222  0.3952 -0.0064\n",
       " 0.8579  0.7483 -0.0015 -0.8027 -2.4780 -0.2949 -1.5844 -1.8119  0.3171  0.0709\n",
       " 0.2146 -0.9662 -0.0862  0.0616  0.9275  0.7086  0.3952  0.0980  0.2510  0.4101\n",
       "-1.5456  0.3614  1.4813  0.1157 -0.3356 -0.0182 -0.2071  0.4526 -0.3052 -0.2660\n",
       "[torch.FloatTensor of size 7x10]"
      ]
     },
     "execution_count": 81,
     "metadata": {},
     "output_type": "execute_result"
    }
   ],
   "source": [
    "model[(6)].weight"
   ]
  },
  {
   "cell_type": "code",
   "execution_count": 82,
   "metadata": {
    "collapsed": false
   },
   "outputs": [
    {
     "data": {
      "text/plain": [
       "Parameter containing:\n",
       " 1.9843 -0.6977  0.5252  0.0417 -0.7380  0.1241  0.4831\n",
       "-2.1900  0.4885 -0.3843  0.0536  1.5995  0.5757  0.1316\n",
       "-2.8240  0.3430  0.0298  0.0608  1.7162  0.0552 -0.2078\n",
       "-1.7859  0.9022 -0.3088  0.5095  2.0054  0.0527  0.0338\n",
       "-0.3251 -0.1309 -0.2246 -0.3521 -0.2539 -0.0774  0.0735\n",
       "[torch.FloatTensor of size 5x7]"
      ]
     },
     "execution_count": 82,
     "metadata": {},
     "output_type": "execute_result"
    }
   ],
   "source": [
    "model[(8)].weight"
   ]
  },
  {
   "cell_type": "code",
   "execution_count": 83,
   "metadata": {
    "collapsed": false
   },
   "outputs": [
    {
     "data": {
      "text/plain": [
       "Parameter containing:\n",
       "-0.2949  0.3237  0.1258  0.1735 -0.2036\n",
       "[torch.FloatTensor of size 1x5]"
      ]
     },
     "execution_count": 83,
     "metadata": {},
     "output_type": "execute_result"
    }
   ],
   "source": [
    "model[(10)].weight"
   ]
  },
  {
   "cell_type": "markdown",
   "metadata": {},
   "source": [
    "## Round 6: Six-Hidden-Layer Neural Network"
   ]
  },
  {
   "cell_type": "code",
   "execution_count": 84,
   "metadata": {
    "collapsed": true
   },
   "outputs": [],
   "source": [
    "# Make the torch Tensor into a PyTorch Variable for dependent variables\n",
    "outcomes_Variable = Variable(outcomes_Tensor)\n",
    "\n",
    "\n",
    "# ...for independent variables\n",
    "features_Variable = Variable(features_Tensor,\n",
    "                             requires_grad = False)"
   ]
  },
  {
   "cell_type": "code",
   "execution_count": 85,
   "metadata": {
    "collapsed": true
   },
   "outputs": [],
   "source": [
    "# Make the neural network\n",
    "model = torch.nn.Sequential(torch.nn.Linear(34, 23),\n",
    "                            torch.nn.ReLU(),\n",
    "                            torch.nn.Linear(23, 15),\n",
    "                            torch.nn.ReLU(),\n",
    "                            torch.nn.Linear(15, 10),\n",
    "                            torch.nn.ReLU(),\n",
    "                            torch.nn.Linear(10, 7),\n",
    "                            torch.nn.ReLU(),\n",
    "                            torch.nn.Linear(7, 5),\n",
    "                            torch.nn.ReLU(),\n",
    "                            torch.nn.Linear(5, 3),\n",
    "                            torch.nn.ReLU(),\n",
    "                            torch.nn.Linear(3, 1))"
   ]
  },
  {
   "cell_type": "code",
   "execution_count": 86,
   "metadata": {
    "collapsed": true
   },
   "outputs": [],
   "source": [
    "# To add errors to\n",
    "errors = []\n",
    "\n",
    "\n",
    "# Set the learning rate\n",
    "learning_rate = 1e-2\n",
    "\n",
    "\n",
    "# Define the model's optimizer\n",
    "optimizer = torch.optim.Adagrad(model.parameters(), lr = learning_rate)\n",
    "\n",
    "\n",
    "# Train the neural network\n",
    "for t in range(15000):\n",
    "    \n",
    "    # Get the current predictions\n",
    "    y_pred = model(features_Variable)\n",
    "    \n",
    "    # Compute and append current summed errors\n",
    "    loss = loss_fn(y_pred, outcomes_Variable)\n",
    "    errors.append(loss.data[0])\n",
    "    \n",
    "    # Zero the gradients before running the backward pass.\n",
    "    optimizer.zero_grad()\n",
    "    \n",
    "    # Backward pass: compute gradient of the loss with respect to all the learnable Variables\n",
    "    loss.backward()\n",
    "    \n",
    "    # Update the weights using Adagrad\n",
    "    optimizer.step()"
   ]
  },
  {
   "cell_type": "code",
   "execution_count": 87,
   "metadata": {
    "collapsed": false
   },
   "outputs": [
    {
     "data": {
      "text/plain": [
       "<matplotlib.collections.PathCollection at 0x7f59796ccbe0>"
      ]
     },
     "execution_count": 87,
     "metadata": {},
     "output_type": "execute_result"
    },
    {
     "data": {
      "image/png": "[encoded data removed]",
      "text/plain": [
       "<matplotlib.figure.Figure at 0x7f597990eda0>"
      ]
     },
     "metadata": {},
     "output_type": "display_data"
    }
   ],
   "source": [
    "# Plot summed error as a function of iteration\n",
    "plt.scatter(iterations, errors, c = \"black\", alpha = 0.25)"
   ]
  },
  {
   "cell_type": "code",
   "execution_count": 88,
   "metadata": {
    "collapsed": true
   },
   "outputs": [],
   "source": [
    "# Get rid of the 2nd dimension of 1 from the FloatTensor\n",
    "y_pred_resized = y_pred.resize(8308)\n",
    "\n",
    "\n",
    "# Make the FloatTensor into a numpy.array\n",
    "y_pred_array = y_pred_resized.data.numpy()\n",
    "\n",
    "\n",
    "# Make the numpy.array into a list\n",
    "y_pred_list = y_pred_array.tolist()"
   ]
  },
  {
   "cell_type": "code",
   "execution_count": 89,
   "metadata": {
    "collapsed": false
   },
   "outputs": [
    {
     "data": {
      "text/plain": [
       "[<matplotlib.lines.Line2D at 0x7f59796e6898>]"
      ]
     },
     "execution_count": 89,
     "metadata": {},
     "output_type": "execute_result"
    },
    {
     "data": {
      "image/png": "[encoded data removed]",
      "text/plain": [
       "<matplotlib.figure.Figure at 0x7f59796e6908>"
      ]
     },
     "metadata": {},
     "output_type": "display_data"
    }
   ],
   "source": [
    "# Plot predictions versus training set outcomes\n",
    "plt.scatter(outcomes_list, y_pred_list, c = \"black\", alpha = 0.15)\n",
    "\n",
    "axes = plt.gca()\n",
    "\n",
    "axes.set_xlim([-2, 4])\n",
    "\n",
    "axes.set_ylim([-2, 4])\n",
    "\n",
    "plt.plot([-2, 4], [-2, 4], 'k-', lw=2)"
   ]
  },
  {
   "cell_type": "markdown",
   "metadata": {},
   "source": [
    "### Round 6.1: Validation Set Performance"
   ]
  },
  {
   "cell_type": "code",
   "execution_count": 90,
   "metadata": {
    "collapsed": false
   },
   "outputs": [
    {
     "data": {
      "text/plain": [
       "Variable containing:\n",
       " 311.8796\n",
       "[torch.FloatTensor of size 1]"
      ]
     },
     "execution_count": 90,
     "metadata": {},
     "output_type": "execute_result"
    }
   ],
   "source": [
    "# Get the validation set predictions\n",
    "y_valid_pred = model(valid_predictors_Variable)\n",
    "\n",
    "\n",
    "# Print the loss\n",
    "loss_fn(y_valid_pred,\n",
    "        valid_outcomes_Variable)"
   ]
  },
  {
   "cell_type": "code",
   "execution_count": 91,
   "metadata": {
    "collapsed": false
   },
   "outputs": [
    {
     "data": {
      "text/plain": [
       "Variable containing:\n",
       " 0.3439\n",
       "[torch.FloatTensor of size 1]"
      ]
     },
     "execution_count": 91,
     "metadata": {},
     "output_type": "execute_result"
    }
   ],
   "source": [
    "# Grab the residual sum of squares\n",
    "resid_sum_squares = loss_fn(y_valid_pred, valid_outcomes_Variable)\n",
    "\n",
    "\n",
    "# Compute R squared\n",
    "R_squared = 1 - (resid_sum_squares / tot_sum_squares)\n",
    "\n",
    "R_squared"
   ]
  },
  {
   "cell_type": "code",
   "execution_count": 92,
   "metadata": {
    "collapsed": true
   },
   "outputs": [],
   "source": [
    "# Get rid of the 2nd dimension of 1 from the FloatTensor\n",
    "y_valid_pred_resized = y_valid_pred.resize(2808)\n",
    "\n",
    "\n",
    "# Make the FloatTensor into a numpy.array\n",
    "y_valid_pred_array = y_valid_pred_resized.data.numpy()\n",
    "\n",
    "\n",
    "# Convert back to log scale\n",
    "y_valid_pred_array = y_valid_pred_array*5.407597 + 7.688844\n",
    "\n",
    "\n",
    "# Make the numpy.array into a list\n",
    "y_valid_pred_list = y_valid_pred_array.tolist()"
   ]
  },
  {
   "cell_type": "code",
   "execution_count": 93,
   "metadata": {
    "collapsed": false
   },
   "outputs": [
    {
     "data": {
      "text/plain": [
       "<matplotlib.text.Text at 0x7f5979608320>"
      ]
     },
     "execution_count": 93,
     "metadata": {},
     "output_type": "execute_result"
    },
    {
     "data": {
      "image/png": "[encoded data removed]",
      "text/plain": [
       "<matplotlib.figure.Figure at 0x7f598002bbe0>"
      ]
     },
     "metadata": {},
     "output_type": "display_data"
    }
   ],
   "source": [
    "# Plot new predictions versus new data outcomes\n",
    "plt.scatter(valid_outcomes_list, y_valid_pred_list, c = \"black\", alpha = 0.15)\n",
    "\n",
    "axes = plt.gca()\n",
    "\n",
    "axes.set_xlim([0, 24])\n",
    "\n",
    "axes.set_ylim([0, 24])\n",
    "\n",
    "axes.set_xticks([0, 4, 8, 12, 16, 20, 24])\n",
    "\n",
    "axes.set_yticks([0, 4, 8, 12, 16, 20, 24])\n",
    "\n",
    "plt.plot([0, 24], [0, 24], 'k-', lw = 2)\n",
    "\n",
    "axes.set_xlabel(\"Actual Outcome (Log-Transformed US Dollars)\")\n",
    "\n",
    "axes.set_ylabel(\"Model Prediction (Log-Transformed US Dollars)\")\n",
    "\n",
    "axes.set_title(\"Model Performance\")"
   ]
  },
  {
   "cell_type": "code",
   "execution_count": 94,
   "metadata": {
    "collapsed": false
   },
   "outputs": [
    {
     "data": {
      "text/plain": [
       "Parameter containing:\n",
       "\n",
       "Columns 0 to 9 \n",
       "-0.3899  0.0735  0.0985  0.1902  0.0105 -0.1090 -0.1128  0.0894  0.1257 -0.1592\n",
       " 0.0424 -0.0380  0.0115  0.0814  0.0317 -0.2017  0.8770  0.1320 -0.1442 -0.0247\n",
       " 0.2178  0.7104 -0.0734  0.1933  0.3575 -0.0768  0.9281  0.1908  0.1745 -0.0444\n",
       "-0.1200 -0.3258 -0.0395  0.3213  0.0504 -0.4320  0.3249  0.0107  0.0434  0.0443\n",
       "-0.1363  0.5528  0.1800  0.3041 -0.0584 -0.2711  0.2360  0.0409 -0.0189 -0.0985\n",
       "-0.0477  0.1508 -0.4085  0.1222  0.2743 -0.2624  0.5774  0.4486  0.0786  0.1592\n",
       "-0.3380 -0.0113 -0.1387  0.1402 -0.0737  0.0244  0.2912 -0.0260  0.2065  0.0522\n",
       "-0.0443 -0.0212  0.1037  0.2717 -0.0123 -0.0800 -0.5268 -0.0616  0.1143 -0.1866\n",
       " 0.2008  0.2991 -0.3427  0.2101  0.1362  0.2793 -0.2136  0.2308  0.1395 -0.1402\n",
       " 0.0149 -0.2374  0.1621 -0.0113 -0.0410  0.0351  0.2507  0.0221  0.1142 -0.1210\n",
       "-0.1561 -0.2329 -0.2566 -0.1773  0.1132 -0.1215 -0.6129  0.2300 -0.0620 -0.5080\n",
       "-0.0809  0.1437  0.2264  0.1447 -0.2194  0.0009 -0.0273  0.2013  0.3781  0.0429\n",
       " 0.1472  0.2236  0.0590  0.0963  0.2178  0.2587  0.4834 -0.2172  0.0153  0.2061\n",
       " 0.4138  0.0632  0.0590  0.1357  0.0057  0.1504  0.5290  0.0944 -0.1720  0.2380\n",
       " 0.0154 -0.0991  0.2035  0.0426 -0.1036  0.6387 -0.0691  0.0893  0.1139  0.1031\n",
       "-0.0664  0.0206  0.1115 -0.4306  0.2109 -0.0198 -0.3453 -0.0047 -0.0280 -0.0714\n",
       " 0.0759 -0.0682  0.1275  0.2036  0.3002  0.3314  0.5401  0.1057  0.2559  0.0405\n",
       "-0.0269 -0.0926  0.0081  0.1621 -0.3919  0.1199  0.2769 -0.1346  0.3227 -0.0387\n",
       " 0.0196 -0.3375 -0.3963 -0.1585  0.1126 -0.0127 -0.4349  0.1256 -0.1182 -0.0437\n",
       " 0.3251  0.0190  0.1056  0.0178 -0.1017 -0.0922 -0.2264  0.1522  0.1480  0.0049\n",
       "-0.0733 -0.3004 -0.1945 -0.1353  0.1532 -0.1871 -0.4531  0.0620 -0.0355  0.0135\n",
       "-0.1768  0.1919 -0.3252  0.0380  0.2112  0.3767 -0.3329 -0.0204 -0.0103 -0.0222\n",
       " 0.3192 -0.1116  0.3384 -0.1117  0.0823  0.3577 -0.5798  0.0331  0.1765  0.0977\n",
       "\n",
       "Columns 10 to 19 \n",
       "-0.1737 -0.2189  0.1612  0.1162  0.1336 -0.1271 -0.0286 -0.0873  0.0245  0.0687\n",
       " 0.1267  0.0144 -0.1426 -0.1274  0.2204 -0.0254 -0.0857  0.0777  0.1425 -0.1033\n",
       "-0.6284 -0.2674  0.2738 -0.0953  0.1224  0.3077 -0.3209  0.2060  0.0740 -0.0128\n",
       "-0.1301  0.0184  0.1266 -0.2760  0.4577  0.1330  0.0587  0.4610  0.0177 -0.4138\n",
       " 0.1017  0.1410 -0.0850  0.0046 -0.2170 -0.2179 -0.0816  0.0236  0.0602 -0.2176\n",
       " 0.0424  0.2055  0.0054  0.1194 -0.2225  0.1492 -0.1652  0.3337  0.0092  0.1342\n",
       "-0.1044 -0.1448 -0.1006 -0.1890  0.0751  0.0561 -0.1595  0.0415  0.0749  0.1487\n",
       " 0.0851  0.2416 -0.0047 -0.0569  0.0177  0.1579  0.1503 -0.2006  0.0890 -0.0254\n",
       " 0.0660  0.0920 -0.0601  0.0108 -0.2175 -0.2020 -0.0441 -0.1025 -0.1087 -0.0768\n",
       " 0.2138  0.0714 -0.0018  0.0825 -0.2895  0.0876  0.0222 -0.1603 -0.1221 -0.1358\n",
       "-0.1750  0.1504  0.0746  0.2937 -0.0981  0.0164 -0.1095  0.0722 -0.0212  0.0300\n",
       "-0.0049 -0.1374  0.0768  0.0901  0.1617 -0.0756 -0.3772  0.0155  0.2175 -0.1929\n",
       " 0.0177  0.0904  0.1303  0.0549  0.0277 -0.0102  0.2383 -0.3382  0.1092 -0.1156\n",
       " 0.0724  0.1898  0.0752  0.1121  0.1183 -0.0544  0.2842 -0.1235  0.1269 -0.3049\n",
       " 0.0579 -0.0843  0.4087  0.1886  0.1928  0.2848  0.1505 -0.0610  0.1764  0.0921\n",
       "-0.2661 -0.3535 -0.0828  0.0266  0.0234 -0.0394  0.0230 -0.0107 -0.2168  0.0555\n",
       " 0.1641  0.0436 -0.0944 -0.1471 -0.0447  0.2733 -0.1377  0.0833 -0.3335 -0.0045\n",
       " 0.0907 -0.3034  0.1424 -0.2062  0.0611  0.1254 -0.2397 -0.2059 -0.1031 -0.1488\n",
       " 0.3374  0.2326  0.1002 -0.1672 -0.4419  0.3647 -0.1783  0.7082 -0.3385  0.0640\n",
       " 0.3117 -0.0035  0.2481  0.0868  0.1271  0.1353  0.2106  0.1119  0.1550 -0.3806\n",
       "-0.2008 -0.0676  0.1410  0.0303  0.0333  0.1511 -0.0292  0.0465 -0.2499  0.0975\n",
       "-0.0577  0.1440 -0.1117 -0.0773 -0.2479 -0.0963  0.0810 -0.0206 -0.0154 -0.2384\n",
       " 0.1575  0.0510 -0.0168 -0.0485  0.1599  0.0144  0.0022  0.0097  0.0966  0.1618\n",
       "\n",
       "Columns 20 to 29 \n",
       " 0.2351  0.2988  0.4896  0.1000  0.3040  0.1621  0.3003  0.1205  0.0153  0.1077\n",
       " 0.0311  0.2023  0.0093  0.1269 -0.0008  0.1851  0.1197  0.4829  0.3104  0.0464\n",
       "-0.0534  0.3812 -0.0234 -0.2906  0.2466 -0.0508 -0.2179  0.0606 -0.0454 -0.1009\n",
       " 0.5649 -0.0110 -0.5070  0.5093  0.3205  0.1421  0.2173 -0.0586 -0.0100 -0.0186\n",
       " 0.1422 -0.0152  0.1948  0.2390  0.0595  0.0938  0.1398 -0.0283  0.0416  0.0339\n",
       " 0.3434 -0.3308 -0.0726 -0.2110 -0.3553  0.0480 -0.4268  0.0844 -0.1264  0.0938\n",
       " 0.0210 -0.0228  0.0070 -0.1273 -0.1744 -0.0175  0.0386  0.0508  0.1208  0.0548\n",
       " 0.0418  0.0251  0.0566 -0.2134  0.2608 -0.2430 -0.1669  0.0702 -0.1531 -0.3077\n",
       " 0.0684 -0.3267 -0.0395 -0.1422 -0.0511 -0.0871 -0.1232  0.3040  0.0749  0.1244\n",
       "-0.0378  0.1335 -0.1955 -0.0745 -0.0538  0.2250 -0.0066 -0.3721 -0.2671  0.1031\n",
       "-0.3058 -0.0376  0.0035 -0.0535 -0.0664 -0.1888  0.0336 -0.0350  0.4795  0.1157\n",
       " 0.2021 -0.0011  0.3001 -0.0867  0.3293  0.0396 -0.0088  0.1482 -0.1160 -0.0724\n",
       " 0.0114 -0.0454 -0.1471  0.0769  0.1714  0.0193  0.0982  0.1336  0.0575 -0.0064\n",
       " 0.0647  0.2014  0.1147  0.3481 -0.0156  0.1814  0.2555  0.1139  0.2450  0.1198\n",
       " 0.0993  0.1077 -0.0086  0.1516  0.0671  0.1323 -0.1377 -0.0577  0.0635  0.0776\n",
       " 0.0899  0.1325  0.1645  0.2481  0.0894 -0.0257  0.1295  0.3397  0.3032  0.0418\n",
       "-0.0445  0.0453 -0.0263 -0.0473  0.0297  0.1103  0.1931 -0.1198 -0.0503  0.0322\n",
       "-0.0340  0.0870  0.0561 -0.3062 -0.0640  0.1022 -0.0952 -0.1534 -0.2531  0.1203\n",
       "-0.1570 -0.1062 -0.1377 -0.3493 -0.1392 -0.2128 -0.0247 -0.1126 -0.1597  0.0861\n",
       " 0.1064  0.0382  0.0946  0.2390  0.0446  0.1787  0.2329  0.2706 -0.3276  0.2130\n",
       "-0.0214 -0.0131  0.0512  0.0938  0.0958  0.0549 -0.1386  0.0171  0.0072  0.1507\n",
       " 0.0162  0.0501 -0.1972  0.0847  0.1408 -0.1644 -0.3473 -0.0995  0.2171 -0.0410\n",
       " 0.0308  0.0080  0.2170  0.0220  0.0577  0.0442 -0.1758  0.1755 -0.0668  0.0659\n",
       "\n",
       "Columns 30 to 33 \n",
       " 0.1091  0.0700 -0.1593 -0.3817\n",
       "-0.1646  0.3464  0.0150 -0.0921\n",
       "-0.2678  0.0035 -0.1075 -0.0290\n",
       " 0.3844 -0.4103 -0.3959 -0.8660\n",
       "-0.2852 -0.1803  0.0868 -0.2753\n",
       "-0.5249  0.1437 -0.2118 -0.1158\n",
       "-0.0109 -0.0078 -0.1961 -0.3145\n",
       "-0.1098  0.1080 -0.0803 -0.1812\n",
       "-0.0136 -0.2572  0.0686 -0.0860\n",
       " 0.0634  0.0306  0.0302  0.1605\n",
       "-0.1380  0.1384 -0.1055 -0.1799\n",
       " 0.1608 -0.0722  0.1036 -0.5163\n",
       " 0.1983  0.3443 -0.0183 -0.0939\n",
       " 0.0768  0.3320 -0.0963 -0.0764\n",
       " 0.4009 -0.0597 -0.1456 -0.1341\n",
       "-0.0599 -0.1009  0.0161 -0.1513\n",
       " 0.3419  0.1563 -0.1938 -0.3009\n",
       "-0.0084 -0.1183 -0.1353  0.0637\n",
       " 0.3822  0.2293  0.1100 -0.1177\n",
       " 0.0521  0.1904 -0.4421 -0.2705\n",
       " 0.0060 -0.3322  0.0919 -0.0717\n",
       " 0.2181 -0.1219  0.0587 -0.0552\n",
       "-0.1501 -0.1671 -0.1043  0.0943\n",
       "[torch.FloatTensor of size 23x34]"
      ]
     },
     "execution_count": 94,
     "metadata": {},
     "output_type": "execute_result"
    }
   ],
   "source": [
    "model[(0)].weight"
   ]
  },
  {
   "cell_type": "code",
   "execution_count": 95,
   "metadata": {
    "collapsed": false
   },
   "outputs": [
    {
     "data": {
      "text/plain": [
       "Parameter containing:\n",
       "\n",
       "Columns 0 to 9 \n",
       " 0.0195  0.2268  0.1269  0.2863  0.2304  0.2354 -0.0029 -0.2563  0.1844  0.0140\n",
       " 0.2330  0.0997  0.2821  0.2123  0.1171 -0.1890  0.4318  0.0471  0.1104  0.1031\n",
       " 0.0399  0.2539  0.0986  0.1889 -0.0780  0.1782  0.3005 -0.3971 -0.0958  0.3417\n",
       "-0.1110 -0.0499  0.1512  0.2424 -0.2325  0.2042  0.0439  0.1399 -0.3766  0.0070\n",
       " 0.2245  0.1471  0.0955  0.0941  0.2580  0.0356 -0.0785 -0.0470  0.0423 -0.0180\n",
       " 0.1407  0.1974  0.3671 -0.0724  0.2028  0.0054  0.2531 -0.1401 -0.0319  0.1561\n",
       "-0.1766  0.2004  0.1090  0.2424  0.2010  0.2586 -0.1588 -0.2243  0.2431  0.0960\n",
       "-0.1748 -0.1456 -0.1131  0.1160 -0.0247  0.3389 -0.3066  0.1889 -0.3369 -0.0800\n",
       "-0.0600  0.0951  0.0518  0.3145  0.2588  0.2387 -0.0589  0.1857 -0.1919 -0.1238\n",
       "-0.4199 -0.0524 -0.0149  0.0042 -0.1864  0.1154 -0.2906  0.3215 -0.2138  0.0037\n",
       " 0.1858 -0.0691  0.0587 -0.1765 -0.1187  0.0781  0.0006  0.1996  0.1121 -0.2314\n",
       " 0.2076 -0.3929  0.1020  0.3245 -0.3033 -0.4609 -0.3942 -0.1599 -0.0117 -0.0910\n",
       "-0.2680  0.0268 -1.5499 -0.0979 -0.5780 -0.0824  0.4792  0.1205  0.1527  0.2540\n",
       " 0.1493  0.1898  0.1421  0.4067  0.0563  0.2421 -0.3278  0.0468 -0.0018  0.1424\n",
       " 0.6493 -0.2956  0.5375  0.6066  0.1371  0.2566 -0.0445  0.4762 -0.2076  0.0679\n",
       "\n",
       "Columns 10 to 19 \n",
       "-0.1818 -0.2287  0.0289  0.2420 -0.2566 -0.2352  0.1994 -0.1819  0.2663  0.1932\n",
       "-0.4420  0.1784  0.1325  0.0010 -0.2349 -0.4823  0.0445 -0.6124  0.2312  0.0279\n",
       "-0.5158 -0.4884 -0.0476 -0.0608  0.0699 -0.0336  0.1668 -0.1046  0.3380  0.3764\n",
       "-0.2473 -0.0671 -0.1349  0.0850  0.0955  0.1118  0.1678 -0.0593 -0.1593  0.1670\n",
       " 0.0893 -0.2310  0.0851 -0.0150 -0.3072  0.0186 -0.1301 -0.0402  0.1535  0.1094\n",
       " 0.0096 -0.0708  0.1134  0.0234 -0.0065  0.2190 -0.0900 -0.0809  0.3237  0.2201\n",
       " 0.3648 -0.2334  0.4427  0.2013  0.2929  0.3517  0.0820 -0.5057 -0.0095 -0.1050\n",
       " 0.2520  0.2334  0.0641  0.2782  0.0731  0.2339  0.0218  0.3006  0.1731 -0.2080\n",
       " 0.0553 -0.0773 -0.0817  0.3084 -0.0411  0.1076 -0.1671  0.2007  0.0847  0.0264\n",
       " 0.2103  0.4483 -0.6193  0.3192 -0.0113  0.0326  0.4265  0.0875  0.2156 -0.8438\n",
       "-0.1114  0.2851 -0.3767  0.2731  0.0006  0.0697  0.0186  0.1218 -0.0175 -0.0103\n",
       " 0.4507 -0.3616 -0.3819  0.1574 -0.2592 -0.1300  0.1482 -0.1926  0.2889  0.1200\n",
       "-0.0200  0.2596 -0.1843  0.0873  0.4650  0.1806 -0.2064 -1.2066 -0.0273 -0.0032\n",
       " 0.4575  0.2488  0.3860  0.1125 -0.2062  0.5861 -0.1826  0.1093  0.0155  0.0784\n",
       "-0.5490  0.0238  0.8066 -0.1315 -0.3914  1.1756 -0.3253  0.0028  0.2718  0.1945\n",
       "\n",
       "Columns 20 to 22 \n",
       " 0.1389 -0.2680  0.3089\n",
       " 0.1821 -0.4348  0.0050\n",
       "-0.0984  0.3489  0.2356\n",
       "-0.1570  0.2791 -0.0012\n",
       " 0.3149 -0.2388  0.1763\n",
       " 0.0085 -0.1437  0.2636\n",
       " 0.1366 -0.4077 -0.1291\n",
       "-0.3238  0.2738  0.0098\n",
       "-0.0828  0.1379 -0.2138\n",
       " 0.0906 -0.1008 -0.4131\n",
       "-0.1044  0.3282  0.1607\n",
       "-0.5915  0.2444  0.1128\n",
       "-0.3244  0.2983 -0.7332\n",
       " 0.0799 -0.4013 -0.1297\n",
       " 0.2246  0.0365 -0.2264\n",
       "[torch.FloatTensor of size 15x23]"
      ]
     },
     "execution_count": 95,
     "metadata": {},
     "output_type": "execute_result"
    }
   ],
   "source": [
    "model[(2)].weight"
   ]
  },
  {
   "cell_type": "code",
   "execution_count": 96,
   "metadata": {
    "collapsed": false
   },
   "outputs": [
    {
     "data": {
      "text/plain": [
       "Parameter containing:\n",
       "\n",
       "Columns 0 to 9 \n",
       " 0.3523  0.1353  0.4103 -0.2545  0.1410 -0.0101  0.2964 -0.0895 -0.2071 -0.5477\n",
       "-0.1070  0.3068  0.4398 -0.2503 -0.1010  0.2250 -0.0409 -0.3359 -0.1706 -0.6072\n",
       "-0.2165 -0.0593 -0.3025  0.1822  0.0702  0.0126 -0.0133  0.0208  0.2716  0.3401\n",
       " 0.3482  0.2568  0.1100 -0.2829  0.3088  0.3157  0.1062 -0.3939 -0.2071 -0.4926\n",
       "-0.0020 -0.2394 -0.2067  0.1045 -0.1557  0.0505 -0.0516 -0.2603  0.2278 -0.0816\n",
       " 0.0810 -0.2939 -0.1495  0.3283  0.0425  0.0311  0.2324  0.3569  0.1635  0.2278\n",
       " 0.1769  0.3600  0.3506 -0.6295  0.1239  0.1412 -0.1932 -0.1375 -0.4107 -0.1955\n",
       "-0.1072 -0.1695 -0.1068  0.0329  0.0239  0.0554  0.3353  0.5364  0.0141 -0.0820\n",
       "-0.0038 -0.2721 -0.3824  0.2790 -0.1536 -0.2096  0.2818  0.3361  0.3559  0.3502\n",
       " 0.1678  0.0289  0.1548  0.2191  0.0606  0.1985  0.0221 -0.6304  0.2129  0.3977\n",
       "\n",
       "Columns 10 to 14 \n",
       "-0.4207 -0.7909 -0.6441  0.4113  0.1585\n",
       "-0.1418 -0.8692 -1.6458  0.3850  0.2851\n",
       " 0.2388  0.2082  0.7153  0.1507  0.2807\n",
       "-0.4468 -0.8320 -1.0334  0.0519  0.0983\n",
       " 0.1092  0.2119  0.0433 -0.2721 -0.0621\n",
       " 0.4336  1.2825  1.9966 -0.1420 -0.1108\n",
       "-0.1446 -1.3971 -1.2809  0.1464 -0.2925\n",
       " 0.0311  0.4120  1.0161  0.1994 -0.0493\n",
       " 0.4119  0.4894  0.9862  0.2945  0.2484\n",
       "-0.1299 -0.1541  0.0480 -0.1238  0.1281\n",
       "[torch.FloatTensor of size 10x15]"
      ]
     },
     "execution_count": 96,
     "metadata": {},
     "output_type": "execute_result"
    }
   ],
   "source": [
    "model[(4)].weight"
   ]
  },
  {
   "cell_type": "code",
   "execution_count": 97,
   "metadata": {
    "collapsed": false
   },
   "outputs": [
    {
     "data": {
      "text/plain": [
       "Parameter containing:\n",
       " 0.2505  0.2121 -0.3437  0.2910  0.0307 -0.4500  0.4095 -0.4800 -0.5298  0.3480\n",
       "-0.0129 -0.1914  0.4685 -0.1656  0.0569 -0.1954 -0.8748 -0.0979  0.3497  0.5922\n",
       " 0.5060  0.1865 -0.2819  0.0923  0.2396 -0.3469  0.0161  0.0992 -0.0929 -0.0829\n",
       "-0.1008  0.4157  0.3794 -0.2536 -0.2495  0.3636  0.0930 -0.0352  0.1689 -0.5938\n",
       " 0.2691  0.2755 -0.1287  0.4235 -0.0057 -0.2109  0.1288  0.0760 -0.0155  0.1063\n",
       "-0.2426 -0.0050  0.2828  0.1504  0.1117 -0.1207  0.1123  0.1084 -0.1086 -0.1751\n",
       "-0.0897  0.1956 -0.1229 -0.2772 -0.2493 -0.1839 -0.0280 -0.1016  0.1733 -0.2429\n",
       "[torch.FloatTensor of size 7x10]"
      ]
     },
     "execution_count": 97,
     "metadata": {},
     "output_type": "execute_result"
    }
   ],
   "source": [
    "model[(6)].weight"
   ]
  },
  {
   "cell_type": "code",
   "execution_count": 98,
   "metadata": {
    "collapsed": false
   },
   "outputs": [
    {
     "data": {
      "text/plain": [
       "Parameter containing:\n",
       "-0.2025  0.1013 -0.2550 -0.2530 -0.0527  0.2305  0.3012\n",
       "-0.3424 -0.1993  0.3293 -0.1367 -0.2585  0.1579 -0.1968\n",
       " 0.6275 -0.8503  0.0281  0.4691  0.2462  0.1173  0.1160\n",
       " 0.3021 -0.5391  0.5271  0.3483  0.5169 -0.3026  0.1032\n",
       " 0.6402 -0.5167  0.2641  0.3506  0.2413  0.2255 -0.0710\n",
       "[torch.FloatTensor of size 5x7]"
      ]
     },
     "execution_count": 98,
     "metadata": {},
     "output_type": "execute_result"
    }
   ],
   "source": [
    "model[(8)].weight"
   ]
  },
  {
   "cell_type": "code",
   "execution_count": 99,
   "metadata": {
    "collapsed": false
   },
   "outputs": [
    {
     "data": {
      "text/plain": [
       "Parameter containing:\n",
       " 0.1222  0.1789 -0.3815 -0.1107  0.2102\n",
       " 0.0730 -0.3694  0.1462 -0.2558 -0.2795\n",
       " 0.0073  0.4303  0.3968  0.3337  0.7017\n",
       "[torch.FloatTensor of size 3x5]"
      ]
     },
     "execution_count": 99,
     "metadata": {},
     "output_type": "execute_result"
    }
   ],
   "source": [
    "model[(10)].weight"
   ]
  },
  {
   "cell_type": "code",
   "execution_count": 100,
   "metadata": {
    "collapsed": false
   },
   "outputs": [
    {
     "data": {
      "text/plain": [
       "Parameter containing:\n",
       " 0.1187 -0.2220  0.4555\n",
       "[torch.FloatTensor of size 1x3]"
      ]
     },
     "execution_count": 100,
     "metadata": {},
     "output_type": "execute_result"
    }
   ],
   "source": [
    "model[(12)].weight"
   ]
  },
  {
   "cell_type": "markdown",
   "metadata": {},
   "source": [
    "## Round 7: Seven-Hidden-Layer Neural Network"
   ]
  },
  {
   "cell_type": "code",
   "execution_count": 101,
   "metadata": {
    "collapsed": true
   },
   "outputs": [],
   "source": [
    "# Make the torch Tensor into a PyTorch Variable for dependent variables\n",
    "outcomes_Variable = Variable(outcomes_Tensor)\n",
    "\n",
    "\n",
    "# ...for independent variables\n",
    "features_Variable = Variable(features_Tensor,\n",
    "                             requires_grad = False)"
   ]
  },
  {
   "cell_type": "code",
   "execution_count": 102,
   "metadata": {
    "collapsed": true
   },
   "outputs": [],
   "source": [
    "# Make the neural network\n",
    "model = torch.nn.Sequential(torch.nn.Linear(34, 23),\n",
    "                            torch.nn.ReLU(),\n",
    "                            torch.nn.Linear(23, 15),\n",
    "                            torch.nn.ReLU(),\n",
    "                            torch.nn.Linear(15, 10),\n",
    "                            torch.nn.ReLU(),\n",
    "                            torch.nn.Linear(10, 7),\n",
    "                            torch.nn.ReLU(),\n",
    "                            torch.nn.Linear(7, 5),\n",
    "                            torch.nn.ReLU(),\n",
    "                            torch.nn.Linear(5, 3),\n",
    "                            torch.nn.ReLU(),\n",
    "                            torch.nn.Linear(3, 2),\n",
    "                            torch.nn.ReLU(),\n",
    "                            torch.nn.Linear(2, 1))"
   ]
  },
  {
   "cell_type": "code",
   "execution_count": 103,
   "metadata": {
    "collapsed": true
   },
   "outputs": [],
   "source": [
    "# To add errors to\n",
    "errors = []\n",
    "\n",
    "\n",
    "# Set the learning rate\n",
    "learning_rate = 1e-2\n",
    "\n",
    "\n",
    "# Define the model's optimizer\n",
    "optimizer = torch.optim.Adagrad(model.parameters(), lr = learning_rate)\n",
    "\n",
    "\n",
    "# Train the neural network\n",
    "for t in range(15000):\n",
    "    \n",
    "    # Get the current predictions\n",
    "    y_pred = model(features_Variable)\n",
    "    \n",
    "    # Compute and append current summed errors\n",
    "    loss = loss_fn(y_pred, outcomes_Variable)\n",
    "    errors.append(loss.data[0])\n",
    "    \n",
    "    # Zero the gradients before running the backward pass.\n",
    "    optimizer.zero_grad()\n",
    "    \n",
    "    # Backward pass: compute gradient of the loss with respect to all the learnable Variables\n",
    "    loss.backward()\n",
    "    \n",
    "    # Update the weights using Adagrad\n",
    "    optimizer.step()"
   ]
  },
  {
   "cell_type": "code",
   "execution_count": 104,
   "metadata": {
    "collapsed": false
   },
   "outputs": [
    {
     "data": {
      "text/plain": [
       "<matplotlib.collections.PathCollection at 0x7f59794ffc88>"
      ]
     },
     "execution_count": 104,
     "metadata": {},
     "output_type": "execute_result"
    },
    {
     "data": {
      "image/png": "[encoded data removed]",
      "text/plain": [
       "<matplotlib.figure.Figure at 0x7f597997c278>"
      ]
     },
     "metadata": {},
     "output_type": "display_data"
    }
   ],
   "source": [
    "# Plot summed error as a function of iteration\n",
    "plt.scatter(iterations, errors, c = \"black\", alpha = 0.25)"
   ]
  },
  {
   "cell_type": "code",
   "execution_count": 105,
   "metadata": {
    "collapsed": true
   },
   "outputs": [],
   "source": [
    "# Get rid of the 2nd dimension of 1 from the FloatTensor\n",
    "y_pred_resized = y_pred.resize(8308)\n",
    "\n",
    "\n",
    "# Make the FloatTensor into a numpy.array\n",
    "y_pred_array = y_pred_resized.data.numpy()\n",
    "\n",
    "\n",
    "# Make the numpy.array into a list\n",
    "y_pred_list = y_pred_array.tolist()"
   ]
  },
  {
   "cell_type": "code",
   "execution_count": 106,
   "metadata": {
    "collapsed": false
   },
   "outputs": [
    {
     "data": {
      "text/plain": [
       "[<matplotlib.lines.Line2D at 0x7f597950f2b0>]"
      ]
     },
     "execution_count": 106,
     "metadata": {},
     "output_type": "execute_result"
    },
    {
     "data": {
      "image/png": "[encoded data removed]",
      "text/plain": [
       "<matplotlib.figure.Figure at 0x7f597950f0b8>"
      ]
     },
     "metadata": {},
     "output_type": "display_data"
    }
   ],
   "source": [
    "# Plot predictions versus training set outcomes\n",
    "plt.scatter(outcomes_list, y_pred_list, c = \"black\", alpha = 0.15)\n",
    "\n",
    "axes = plt.gca()\n",
    "\n",
    "axes.set_xlim([-2, 4])\n",
    "\n",
    "axes.set_ylim([-2, 4])\n",
    "\n",
    "plt.plot([-2, 4], [-2, 4], 'k-', lw=2)"
   ]
  },
  {
   "cell_type": "markdown",
   "metadata": {},
   "source": [
    "### Round 7.1: Validation Set Performance"
   ]
  },
  {
   "cell_type": "code",
   "execution_count": 107,
   "metadata": {
    "collapsed": false
   },
   "outputs": [
    {
     "data": {
      "text/plain": [
       "Variable containing:\n",
       " 475.4071\n",
       "[torch.FloatTensor of size 1]"
      ]
     },
     "execution_count": 107,
     "metadata": {},
     "output_type": "execute_result"
    }
   ],
   "source": [
    "# Get the validation set predictions\n",
    "y_valid_pred = model(valid_predictors_Variable)\n",
    "\n",
    "\n",
    "# Print the loss\n",
    "loss_fn(y_valid_pred,\n",
    "        valid_outcomes_Variable)"
   ]
  },
  {
   "cell_type": "code",
   "execution_count": 108,
   "metadata": {
    "collapsed": false
   },
   "outputs": [
    {
     "data": {
      "text/plain": [
       "Variable containing:\n",
       "1.00000e-05 *\n",
       " -5.1141\n",
       "[torch.FloatTensor of size 1]"
      ]
     },
     "execution_count": 108,
     "metadata": {},
     "output_type": "execute_result"
    }
   ],
   "source": [
    "# Grab the residual sum of squares\n",
    "resid_sum_squares = loss_fn(y_valid_pred, valid_outcomes_Variable)\n",
    "\n",
    "\n",
    "# Compute R squared\n",
    "R_squared = 1 - (resid_sum_squares / tot_sum_squares)\n",
    "\n",
    "R_squared"
   ]
  },
  {
   "cell_type": "code",
   "execution_count": 109,
   "metadata": {
    "collapsed": true
   },
   "outputs": [],
   "source": [
    "# Get rid of the 2nd dimension of 1 from the FloatTensor\n",
    "y_valid_pred_resized = y_valid_pred.resize(2808)\n",
    "\n",
    "\n",
    "# Make the FloatTensor into a numpy.array\n",
    "y_valid_pred_array = y_valid_pred_resized.data.numpy()\n",
    "\n",
    "\n",
    "# Convert back to log scale\n",
    "y_valid_pred_array = y_valid_pred_array*5.407597 + 7.688844\n",
    "\n",
    "\n",
    "# Make the numpy.array into a list\n",
    "y_valid_pred_list = y_valid_pred_array.tolist()"
   ]
  },
  {
   "cell_type": "code",
   "execution_count": 110,
   "metadata": {
    "collapsed": false
   },
   "outputs": [
    {
     "data": {
      "text/plain": [
       "<matplotlib.text.Text at 0x7f59793f7390>"
      ]
     },
     "execution_count": 110,
     "metadata": {},
     "output_type": "execute_result"
    },
    {
     "data": {
      "image/png": "[encoded data removed]",
      "text/plain": [
       "<matplotlib.figure.Figure at 0x7f59794d2080>"
      ]
     },
     "metadata": {},
     "output_type": "display_data"
    }
   ],
   "source": [
    "# Plot new predictions versus new data outcomes\n",
    "plt.scatter(valid_outcomes_list, y_valid_pred_list, c = \"black\", alpha = 0.15)\n",
    "\n",
    "axes = plt.gca()\n",
    "\n",
    "axes.set_xlim([0, 24])\n",
    "\n",
    "axes.set_ylim([0, 24])\n",
    "\n",
    "axes.set_xticks([0, 4, 8, 12, 16, 20, 24])\n",
    "\n",
    "axes.set_yticks([0, 4, 8, 12, 16, 20, 24])\n",
    "\n",
    "plt.plot([0, 24], [0, 24], 'k-', lw = 2)\n",
    "\n",
    "axes.set_xlabel(\"Actual Outcome (Log-Transformed US Dollars)\")\n",
    "\n",
    "axes.set_ylabel(\"Model Prediction (Log-Transformed US Dollars)\")\n",
    "\n",
    "axes.set_title(\"Model Performance\")"
   ]
  },
  {
   "cell_type": "code",
   "execution_count": 111,
   "metadata": {
    "collapsed": false
   },
   "outputs": [
    {
     "data": {
      "text/plain": [
       "Parameter containing:\n",
       "\n",
       "Columns 0 to 9 \n",
       "-0.1734 -0.0907 -0.1383 -0.0138  0.1184  0.0672 -0.0168 -0.0763 -0.0766 -0.0553\n",
       " 0.0025 -0.0322  0.0206  0.0933 -0.0202 -0.0463 -0.0196  0.1319  0.0725 -0.0230\n",
       " 0.1851  0.1396  0.1914 -0.1268  0.0425 -0.1596 -0.0762 -0.0936 -0.1352  0.1931\n",
       "-0.0290 -0.0449  0.0887  0.1095  0.0383 -0.0047 -0.0743 -0.0654  0.0297 -0.1062\n",
       "-0.0970 -0.0361 -0.0403 -0.0287 -0.1696  0.1652 -0.0925 -0.0577  0.0294  0.1777\n",
       " 0.0020 -0.1009  0.0448 -0.0881 -0.0965 -0.0230 -0.0028 -0.0774 -0.1254 -0.1793\n",
       "-0.0864 -0.0915 -0.0747  0.0185 -0.0210 -0.0647 -0.1266 -0.0025  0.0814 -0.0279\n",
       "-0.0670 -0.0679 -0.0281 -0.1455 -0.1277  0.0766 -0.0464 -0.1202 -0.0615 -0.0080\n",
       " 0.0909  0.1260 -0.0957  0.1545  0.0523 -0.1670  0.1363 -0.1038  0.0940 -0.1466\n",
       " 0.0934 -0.0498 -0.1456 -0.0714 -0.0017 -0.0384  0.0104  0.1491  0.0655  0.0574\n",
       "-0.0470  0.0203  0.0120  0.1247 -0.1224 -0.0970  0.0202 -0.1769 -0.0238  0.0020\n",
       "-0.0100  0.1031 -0.1104  0.0936 -0.1140  0.0142 -0.0829  0.0050 -0.0543  0.0443\n",
       "-0.1156 -0.0984  0.1073  0.0676 -0.1003  0.1170  0.1020  0.1355  0.0580 -0.1095\n",
       " 0.0430 -0.0426 -0.0781 -0.1147  0.1489  0.0312 -0.0884  0.1435 -0.0622  0.0327\n",
       "-0.1001  0.0292 -0.1343 -0.0514 -0.1106 -0.0649  0.0441 -0.1285 -0.0068  0.0824\n",
       " 0.0786  0.0669  0.1706 -0.0121  0.0822  0.0928 -0.0905  0.0922  0.1008 -0.0295\n",
       " 0.0286  0.1596 -0.0269  0.0655 -0.1247  0.0347  0.1301  0.0187 -0.1548 -0.0694\n",
       " 0.1857  0.0472 -0.1050 -0.0590 -0.0148 -0.0592  0.0627  0.0541 -0.0279  0.0759\n",
       " 0.0719 -0.1659  0.1475 -0.0222 -0.0754  0.1407  0.1573  0.1151 -0.0501  0.0105\n",
       "-0.0737 -0.0104  0.0748 -0.0166 -0.1058 -0.0806 -0.0250  0.1006  0.1038  0.0291\n",
       "-0.1010 -0.1496  0.1540 -0.0431 -0.0947 -0.0535 -0.0299  0.1304 -0.0390 -0.0479\n",
       "-0.0367 -0.1348  0.1423 -0.1168  0.0302 -0.1246 -0.1202  0.1752 -0.1578 -0.1047\n",
       " 0.0042 -0.1241  0.0024  0.0827  0.0132  0.0596  0.1366  0.1221  0.0529  0.0103\n",
       "\n",
       "Columns 10 to 19 \n",
       " 0.0738 -0.0053  0.1254 -0.1509 -0.0430 -0.1130  0.0134  0.1308 -0.0782  0.1484\n",
       "-0.0175 -0.0399  0.1296  0.0694  0.1070  0.0535  0.0054  0.0447  0.0632  0.0387\n",
       "-0.0080 -0.1236 -0.1247 -0.0996  0.1667  0.0197  0.0236  0.0215 -0.0242  0.0096\n",
       "-0.0592  0.0330 -0.0454 -0.0204  0.1174  0.0775  0.1218 -0.0148  0.1079 -0.1424\n",
       "-0.0760  0.0253  0.0148 -0.1186 -0.0520  0.1042  0.0270 -0.0440  0.1567 -0.0561\n",
       "-0.0020  0.1260 -0.0626 -0.0556 -0.0940  0.1551  0.0231  0.0130 -0.1372 -0.0846\n",
       " 0.1495  0.0940  0.1298 -0.0695  0.1631 -0.1666  0.0166  0.1500  0.0815  0.1656\n",
       " 0.1696  0.1441 -0.0690  0.1522 -0.0630  0.1050 -0.0710 -0.1253  0.1269 -0.0198\n",
       " 0.0913 -0.0732 -0.0602  0.1713 -0.1079  0.0722 -0.1057 -0.0592 -0.1197 -0.0044\n",
       "-0.1715  0.0490  0.0636 -0.1467 -0.1375  0.0362 -0.1655  0.0456 -0.1286 -0.1024\n",
       " 0.0495  0.0679  0.0147 -0.1122  0.0630  0.0370 -0.0407 -0.0564  0.0092  0.0996\n",
       " 0.0276 -0.1289  0.1153 -0.0759 -0.0977 -0.0715  0.0727 -0.0808 -0.0763  0.1698\n",
       " 0.0096  0.1285 -0.1571 -0.0530  0.0947  0.0729 -0.0492  0.0161 -0.0741 -0.0828\n",
       "-0.0286 -0.0655 -0.0679  0.0368 -0.1461  0.0523  0.1537 -0.1033 -0.1297 -0.1253\n",
       " 0.0526  0.0683  0.0347 -0.0553 -0.0716 -0.1355 -0.1083 -0.0569  0.1268 -0.0393\n",
       "-0.0741 -0.0603 -0.0876 -0.1241 -0.0527  0.1533 -0.0170  0.0939  0.0287 -0.1568\n",
       " 0.0025  0.0691 -0.1738 -0.0993  0.0514  0.0130 -0.0643 -0.1362 -0.1873  0.1700\n",
       " 0.0291  0.0158 -0.0647 -0.0708 -0.0629  0.1085 -0.0908  0.0725  0.0546  0.0520\n",
       " 0.1185  0.0544  0.1454  0.0348  0.1618 -0.0349  0.0127 -0.1044  0.0528  0.0987\n",
       " 0.0405  0.1522 -0.0975  0.0001 -0.0376  0.0109 -0.0700  0.1656 -0.0374 -0.0040\n",
       "-0.1712 -0.1475  0.1533  0.1420  0.1505  0.1489  0.0056 -0.1414  0.0972 -0.0457\n",
       " 0.0550 -0.0571 -0.0548 -0.0766 -0.0445  0.1205  0.0514  0.0049 -0.1672 -0.1232\n",
       "-0.1352 -0.0688 -0.0461  0.0651  0.1445 -0.1175  0.0552 -0.0441 -0.1095  0.0902\n",
       "\n",
       "Columns 20 to 29 \n",
       "-0.0186  0.0630 -0.1271  0.0904 -0.1667  0.1424 -0.0649 -0.0266  0.1217 -0.0625\n",
       "-0.0669  0.0761 -0.0635  0.0875  0.1586  0.1580  0.1514  0.1105  0.0034  0.0172\n",
       " 0.0447  0.1063 -0.0058  0.0157  0.1671  0.1851  0.0370  0.0003  0.1292  0.1448\n",
       "-0.0787  0.1480  0.1591 -0.0304 -0.0822 -0.0820 -0.0589  0.0844  0.0071  0.0491\n",
       " 0.0194  0.0765  0.1611  0.1678 -0.0730 -0.0022 -0.0439 -0.1060 -0.0794 -0.1064\n",
       "-0.0810  0.0465  0.1390  0.0052 -0.1368 -0.0542  0.0399  0.0106  0.0328  0.1137\n",
       " 0.0357  0.1112 -0.1420 -0.0480  0.0396 -0.1288  0.0769 -0.1387 -0.0729  0.1302\n",
       " 0.1346 -0.0743 -0.1901 -0.0960  0.0401  0.0792  0.1630  0.0512  0.0638  0.0493\n",
       " 0.1282  0.0299 -0.1759  0.0870  0.0237  0.0434  0.0794  0.1395  0.0220  0.0567\n",
       " 0.1205 -0.1524  0.1274  0.0494  0.1359 -0.1484  0.0553 -0.1842 -0.0392  0.0270\n",
       " 0.1065  0.0676 -0.0787 -0.1507  0.1167  0.1099  0.0001  0.1548 -0.0600 -0.1277\n",
       " 0.0832  0.0096 -0.0448 -0.1945  0.0409  0.0728 -0.0134 -0.0212 -0.1004 -0.1506\n",
       " 0.1202 -0.1533  0.1305  0.0252 -0.0447 -0.0531 -0.0116  0.0890  0.0567 -0.0539\n",
       "-0.1119  0.0084  0.0230 -0.0469 -0.0907  0.0330  0.0029  0.1341  0.0103  0.0247\n",
       " 0.0217  0.0224 -0.0161 -0.0222 -0.0570  0.1052 -0.1208 -0.1338 -0.0507  0.0546\n",
       "-0.0661  0.0078  0.0665  0.1543  0.1477  0.0683  0.1183  0.1517  0.0298  0.1500\n",
       "-0.1412 -0.0437 -0.0933 -0.1406  0.0753  0.0699 -0.1539 -0.0974 -0.1177 -0.0536\n",
       " 0.0153  0.1226  0.1442  0.0164 -0.1113 -0.0999  0.1068 -0.1805 -0.0353 -0.0215\n",
       "-0.0721 -0.1055 -0.0109  0.1165 -0.0821  0.1414  0.0531  0.0367  0.0911 -0.0721\n",
       " 0.0298  0.0320  0.1421  0.0404  0.1331  0.0242  0.0528  0.1190 -0.1724 -0.1248\n",
       " 0.1512 -0.0407  0.1474 -0.0881 -0.0596  0.0596 -0.0153 -0.0228 -0.1214 -0.0552\n",
       " 0.0990  0.0137 -0.0250 -0.1530  0.0632  0.1091 -0.0615 -0.0792 -0.1513  0.0139\n",
       " 0.0029 -0.0465  0.0415  0.0143  0.0788 -0.1711 -0.0702 -0.1708  0.1081 -0.0829\n",
       "\n",
       "Columns 30 to 33 \n",
       "-0.1181 -0.0780  0.1168 -0.1215\n",
       " 0.1691 -0.1477  0.0347  0.0379\n",
       " 0.1771  0.0559  0.0941  0.1545\n",
       " 0.1366  0.0903  0.0339 -0.0175\n",
       "-0.1101  0.1169 -0.0282  0.1053\n",
       " 0.1040 -0.0035 -0.0331  0.1376\n",
       "-0.0942  0.0598  0.0660 -0.0608\n",
       " 0.0374 -0.1116  0.0852 -0.1290\n",
       " 0.0223  0.0157 -0.0606  0.1354\n",
       " 0.0392 -0.1791  0.1568  0.1668\n",
       "-0.0185  0.0311  0.0627 -0.0384\n",
       "-0.0697  0.1263  0.1104 -0.1336\n",
       "-0.0363 -0.0441  0.1335 -0.1234\n",
       " 0.1301  0.0620 -0.0297  0.1198\n",
       " 0.0177 -0.0407  0.0288 -0.1401\n",
       " 0.0191  0.1067 -0.0508  0.0698\n",
       "-0.1191 -0.0961  0.1953 -0.0137\n",
       "-0.0170 -0.1382 -0.0253 -0.1191\n",
       "-0.1569  0.0508 -0.1691 -0.1642\n",
       "-0.0570 -0.0504 -0.1493  0.1560\n",
       "-0.1098  0.0456  0.1196 -0.0927\n",
       "-0.1555 -0.0042  0.1414 -0.0923\n",
       "-0.1687 -0.0380  0.1120  0.0358\n",
       "[torch.FloatTensor of size 23x34]"
      ]
     },
     "execution_count": 111,
     "metadata": {},
     "output_type": "execute_result"
    }
   ],
   "source": [
    "model[(0)].weight"
   ]
  },
  {
   "cell_type": "code",
   "execution_count": 112,
   "metadata": {
    "collapsed": false
   },
   "outputs": [
    {
     "data": {
      "text/plain": [
       "Parameter containing:\n",
       "\n",
       "Columns 0 to 9 \n",
       " 0.0848 -0.2252 -0.2038 -0.1465  0.1190  0.1906 -0.1155 -0.0602 -0.2036  0.0509\n",
       "-0.0479 -0.1650 -0.0679  0.1388  0.0362 -0.1215 -0.1780 -0.1329  0.1794  0.0740\n",
       " 0.0747 -0.0587  0.1313 -0.0494 -0.0913  0.1848  0.1215  0.1179  0.1599  0.1652\n",
       "-0.1501 -0.1155  0.1852 -0.1925 -0.0408  0.1425  0.0784 -0.1311  0.0784 -0.0427\n",
       "-0.0318 -0.1659  0.1252  0.2097  0.2043 -0.0701  0.0361  0.1450  0.2320  0.0186\n",
       "-0.1322  0.0604 -0.1017 -0.0636 -0.1931  0.0576  0.1403  0.0252 -0.0699  0.1493\n",
       "-0.1457  0.0525  0.0562  0.1685  0.1236  0.0848  0.1566  0.1610 -0.1538 -0.0322\n",
       " 0.0056 -0.0700  0.1474 -0.0141  0.0440  0.2137  0.0686  0.1593  0.2099  0.2030\n",
       " 0.0975  0.2110  0.0852  0.1011  0.1662 -0.1247  0.0041 -0.1711  0.1336  0.0111\n",
       "-0.0248  0.0069  0.0190  0.0200 -0.0082  0.1784 -0.1517  0.0702  0.0930 -0.1454\n",
       " 0.1670  0.0809 -0.1110 -0.1037  0.1521 -0.0646 -0.1469 -0.1369  0.1636  0.0513\n",
       "-0.1337  0.1791  0.2256  0.0290  0.1510 -0.1125 -0.0511  0.0131  0.1841  0.2192\n",
       "-0.1723  0.1880 -0.0692  0.1445 -0.0315 -0.1460  0.0035  0.0875  0.2009 -0.1202\n",
       " 0.1020 -0.1783  0.1213 -0.0891 -0.1008 -0.0992 -0.0922  0.0721  0.0181  0.1879\n",
       " 0.0478 -0.0770 -0.0369 -0.1191 -0.0501  0.1546  0.0410 -0.0398 -0.0363  0.1941\n",
       "\n",
       "Columns 10 to 19 \n",
       "-0.1632  0.1695 -0.0388  0.0126  0.0265 -0.0603 -0.1188  0.0751  0.1098  0.0967\n",
       "-0.1039  0.1071  0.1836  0.1555  0.0639 -0.1637 -0.0468  0.0792  0.1526  0.1455\n",
       " 0.1679  0.0073  0.0890 -0.1984  0.1517  0.1788  0.0311 -0.0837  0.1588  0.1693\n",
       " 0.1894 -0.1928 -0.1311 -0.0263 -0.1005 -0.0263 -0.1172 -0.1331 -0.0515 -0.1398\n",
       "-0.0478 -0.1756 -0.1346  0.1685 -0.1410  0.0191  0.1597 -0.1042 -0.1702  0.1842\n",
       " 0.1342 -0.1297 -0.0498  0.0880  0.0264 -0.2174 -0.1221  0.1237 -0.0235 -0.1453\n",
       "-0.0262 -0.0454 -0.0737  0.1134 -0.0719  0.1728  0.1360  0.1542 -0.2092  0.0671\n",
       "-0.1582  0.0535 -0.1474 -0.1065  0.0110  0.2253  0.1816  0.0226  0.1317 -0.1342\n",
       "-0.1334 -0.2152  0.1043 -0.0425  0.0455 -0.1780  0.0122 -0.0618  0.0620  0.0093\n",
       " 0.1809 -0.0008  0.1510 -0.0641 -0.0584 -0.0367 -0.0668  0.0277 -0.1809  0.0378\n",
       " 0.1384 -0.0514  0.1012  0.0242  0.0693 -0.0263  0.0325  0.0926  0.1011 -0.1206\n",
       "-0.0225 -0.0531 -0.1857  0.1077  0.0787 -0.1115  0.0129 -0.0047  0.0659  0.0610\n",
       "-0.1349 -0.1490 -0.1618 -0.0749 -0.1417 -0.0464  0.0208  0.0641  0.0890  0.1402\n",
       " 0.0676  0.0618 -0.0840 -0.1351 -0.0901  0.0041  0.1873  0.1320  0.2013 -0.0334\n",
       " 0.0309 -0.2000  0.1751  0.1788 -0.1105  0.1813  0.1027  0.0615  0.0331  0.0383\n",
       "\n",
       "Columns 20 to 22 \n",
       " 0.2351  0.1926  0.2336\n",
       " 0.0670 -0.1273  0.1113\n",
       "-0.1140 -0.1393 -0.1209\n",
       "-0.1115  0.1605  0.0452\n",
       "-0.0047 -0.0954  0.0319\n",
       " 0.1181  0.1865  0.0229\n",
       "-0.0965  0.0222  0.0728\n",
       " 0.1465  0.1154  0.0325\n",
       "-0.1166  0.2088  0.1196\n",
       " 0.1802  0.1067 -0.1918\n",
       " 0.0101 -0.0365  0.1132\n",
       "-0.1558  0.1337 -0.1637\n",
       " 0.1099 -0.0341  0.1512\n",
       " 0.0706 -0.1381  0.0723\n",
       " 0.1460  0.1516 -0.1733\n",
       "[torch.FloatTensor of size 15x23]"
      ]
     },
     "execution_count": 112,
     "metadata": {},
     "output_type": "execute_result"
    }
   ],
   "source": [
    "model[(2)].weight"
   ]
  },
  {
   "cell_type": "code",
   "execution_count": 113,
   "metadata": {
    "collapsed": false
   },
   "outputs": [
    {
     "data": {
      "text/plain": [
       "Parameter containing:\n",
       "\n",
       "Columns 0 to 9 \n",
       "-0.1292  0.0019 -0.0064  0.2490  0.1177  0.1068  0.1374  0.1657  0.0742 -0.0869\n",
       " 0.0503 -0.0707  0.0736 -0.2564  0.1272  0.1381  0.0920  0.1696 -0.1598 -0.2526\n",
       "-0.0075 -0.1116 -0.0918 -0.0202 -0.2385  0.1948 -0.0869 -0.0897 -0.0552 -0.1679\n",
       " 0.2675  0.1859 -0.0078  0.2109 -0.0461  0.0622 -0.2221  0.2493 -0.1347  0.1324\n",
       "-0.0112 -0.1762  0.0794  0.2342 -0.1309  0.1246 -0.2048 -0.1567 -0.0435 -0.2094\n",
       " 0.1200  0.0334  0.1619  0.1817 -0.0649  0.2139 -0.2499 -0.0191 -0.0431 -0.1386\n",
       "-0.0435  0.1447  0.0783  0.2461 -0.0331  0.2006  0.1766 -0.0110 -0.2387  0.0957\n",
       "-0.0910  0.1104 -0.0199  0.1337  0.0207  0.0281  0.0363 -0.1677  0.2042  0.1722\n",
       "-0.1743  0.0755  0.0275  0.1632 -0.1689  0.1062  0.0923 -0.1504  0.1085 -0.1764\n",
       "-0.0508 -0.1639  0.0288  0.2264  0.2036 -0.0773 -0.0073  0.1799 -0.1332 -0.0250\n",
       "\n",
       "Columns 10 to 14 \n",
       "-0.1930  0.0930 -0.1249  0.2535  0.2232\n",
       " 0.1632  0.0021  0.2072 -0.0250  0.2400\n",
       "-0.2059  0.1408 -0.2234  0.1523 -0.0363\n",
       " 0.0710 -0.0333 -0.1781  0.0674  0.0721\n",
       "-0.1391  0.1165 -0.1976 -0.2170  0.1858\n",
       "-0.0878  0.2124 -0.1088 -0.0464 -0.0251\n",
       "-0.2630 -0.2431  0.0871  0.0711  0.0816\n",
       " 0.0085 -0.1170 -0.1452  0.1326 -0.0735\n",
       "-0.1862 -0.1354 -0.0431 -0.0100  0.0020\n",
       "-0.2011 -0.2662  0.2209 -0.0465  0.1987\n",
       "[torch.FloatTensor of size 10x15]"
      ]
     },
     "execution_count": 113,
     "metadata": {},
     "output_type": "execute_result"
    }
   ],
   "source": [
    "model[(4)].weight"
   ]
  },
  {
   "cell_type": "code",
   "execution_count": 114,
   "metadata": {
    "collapsed": false
   },
   "outputs": [
    {
     "data": {
      "text/plain": [
       "Parameter containing:\n",
       " 0.1979  0.0590 -0.0446 -0.1203  0.0753  0.1508 -0.0080  0.2587 -0.3220 -0.1011\n",
       "-0.1903  0.1086  0.0159 -0.0312  0.0736 -0.1013  0.2119 -0.0858  0.2230  0.2205\n",
       " 0.3393 -0.1037 -0.2798 -0.2005  0.2044 -0.0641  0.2240 -0.0848 -0.0861 -0.0088\n",
       "-0.0069  0.2797 -0.1178  0.2161  0.1035 -0.2569 -0.1761 -0.0842  0.2587  0.2471\n",
       "-0.0570 -0.0820 -0.0845 -0.1860  0.1419 -0.0964  0.2802  0.2012 -0.1892 -0.1052\n",
       "-0.0717  0.1625  0.0333 -0.3344  0.2407  0.1624 -0.1480  0.1571  0.2002  0.0337\n",
       "-0.0346  0.3054  0.1602 -0.3031  0.0128 -0.1717  0.0932 -0.2224  0.2892  0.0974\n",
       "[torch.FloatTensor of size 7x10]"
      ]
     },
     "execution_count": 114,
     "metadata": {},
     "output_type": "execute_result"
    }
   ],
   "source": [
    "model[(6)].weight"
   ]
  },
  {
   "cell_type": "code",
   "execution_count": 115,
   "metadata": {
    "collapsed": false
   },
   "outputs": [
    {
     "data": {
      "text/plain": [
       "Parameter containing:\n",
       " 0.0626 -0.0200 -0.0232 -0.3178 -0.0988  0.0919  0.2770\n",
       "-0.1365  0.2600 -0.0767 -0.0757  0.0113 -0.1121  0.3203\n",
       " 0.3395 -0.0004 -0.3129 -0.2867  0.1091  0.2120 -0.3205\n",
       " 0.2622  0.1919 -0.2104  0.0003  0.2014  0.1533  0.1744\n",
       "-0.2255  0.1447  0.2179  0.0131  0.0341  0.0470 -0.2704\n",
       "[torch.FloatTensor of size 5x7]"
      ]
     },
     "execution_count": 115,
     "metadata": {},
     "output_type": "execute_result"
    }
   ],
   "source": [
    "model[(8)].weight"
   ]
  },
  {
   "cell_type": "code",
   "execution_count": 116,
   "metadata": {
    "collapsed": false
   },
   "outputs": [
    {
     "data": {
      "text/plain": [
       "Parameter containing:\n",
       "-0.4446 -0.2531 -0.1298  0.2859  0.2755\n",
       "-0.0580 -0.0657 -0.2071  0.0303  0.1950\n",
       " 0.2231  0.1847 -0.0610  0.2503  0.2007\n",
       "[torch.FloatTensor of size 3x5]"
      ]
     },
     "execution_count": 116,
     "metadata": {},
     "output_type": "execute_result"
    }
   ],
   "source": [
    "model[(10)].weight"
   ]
  },
  {
   "cell_type": "code",
   "execution_count": 117,
   "metadata": {
    "collapsed": false
   },
   "outputs": [
    {
     "data": {
      "text/plain": [
       "Parameter containing:\n",
       " 0.0703 -0.5375  0.2998\n",
       " 0.1857 -0.0525  0.5118\n",
       "[torch.FloatTensor of size 2x3]"
      ]
     },
     "execution_count": 117,
     "metadata": {},
     "output_type": "execute_result"
    }
   ],
   "source": [
    "model[(12)].weight"
   ]
  },
  {
   "cell_type": "code",
   "execution_count": 118,
   "metadata": {
    "collapsed": false
   },
   "outputs": [
    {
     "data": {
      "text/plain": [
       "Parameter containing:\n",
       " 0.6393  0.3417\n",
       "[torch.FloatTensor of size 1x2]"
      ]
     },
     "execution_count": 118,
     "metadata": {},
     "output_type": "execute_result"
    }
   ],
   "source": [
    "model[(14)].weight"
   ]
  },
  {
   "cell_type": "markdown",
   "metadata": {},
   "source": [
    "## Round 8: Linear Regression"
   ]
  },
  {
   "cell_type": "code",
   "execution_count": 119,
   "metadata": {
    "collapsed": true
   },
   "outputs": [],
   "source": [
    "# Make the torch Tensor into a PyTorch Variable for dependent variables\n",
    "outcomes_Variable = Variable(outcomes_Tensor)\n",
    "\n",
    "\n",
    "# ...for independent variables\n",
    "features_Variable = Variable(features_Tensor,\n",
    "                             requires_grad = False)"
   ]
  },
  {
   "cell_type": "code",
   "execution_count": 120,
   "metadata": {
    "collapsed": true
   },
   "outputs": [],
   "source": [
    "# Make the neural network - really a regression\n",
    "model = torch.nn.Sequential(torch.nn.Linear(34, 1))"
   ]
  },
  {
   "cell_type": "code",
   "execution_count": 121,
   "metadata": {
    "collapsed": false
   },
   "outputs": [],
   "source": [
    "# To add errors to\n",
    "errors = []\n",
    "\n",
    "\n",
    "# Set the learning rate\n",
    "learning_rate = 1e-2\n",
    "\n",
    "\n",
    "# Define the model's optimizer\n",
    "optimizer = torch.optim.Adagrad(model.parameters(), lr = learning_rate)\n",
    "\n",
    "\n",
    "# Train the neural network\n",
    "for t in range(15000):\n",
    "    \n",
    "    # Get the current predictions\n",
    "    y_pred = model(features_Variable)\n",
    "    \n",
    "    # Compute and append current summed errors\n",
    "    loss = loss_fn(y_pred, outcomes_Variable)\n",
    "    errors.append(loss.data[0])\n",
    "    \n",
    "    # Zero the gradients before running the backward pass.\n",
    "    optimizer.zero_grad()\n",
    "    \n",
    "    # Backward pass: compute gradient of the loss with respect to all the learnable Variables\n",
    "    loss.backward()\n",
    "    \n",
    "    # Update the weights using Adagrad\n",
    "    optimizer.step()"
   ]
  },
  {
   "cell_type": "code",
   "execution_count": 122,
   "metadata": {
    "collapsed": false
   },
   "outputs": [
    {
     "data": {
      "text/plain": [
       "<matplotlib.collections.PathCollection at 0x7f59793af320>"
      ]
     },
     "execution_count": 122,
     "metadata": {},
     "output_type": "execute_result"
    },
    {
     "data": {
      "image/png": "[encoded data removed]",
      "text/plain": [
       "<matplotlib.figure.Figure at 0x7f59793ffba8>"
      ]
     },
     "metadata": {},
     "output_type": "display_data"
    }
   ],
   "source": [
    "# Plot summed error as a function of iteration\n",
    "plt.scatter(iterations, errors, c = \"black\", alpha = 0.25)"
   ]
  },
  {
   "cell_type": "code",
   "execution_count": 123,
   "metadata": {
    "collapsed": false
   },
   "outputs": [],
   "source": [
    "# Get rid of the 2nd dimension of 1 from the FloatTensor\n",
    "y_pred_resized = y_pred.resize(8308)\n",
    "\n",
    "\n",
    "# Make the FloatTensor into a numpy.array\n",
    "y_pred_array = y_pred_resized.data.numpy()\n",
    "\n",
    "\n",
    "# Make the numpy.array into a list\n",
    "y_pred_list = y_pred_array.tolist()"
   ]
  },
  {
   "cell_type": "code",
   "execution_count": 124,
   "metadata": {
    "collapsed": false
   },
   "outputs": [
    {
     "data": {
      "text/plain": [
       "[<matplotlib.lines.Line2D at 0x7f59802e7a90>]"
      ]
     },
     "execution_count": 124,
     "metadata": {},
     "output_type": "execute_result"
    },
    {
     "data": {
      "image/png": "[encoded data removed]",
      "text/plain": [
       "<matplotlib.figure.Figure at 0x7f59802e77f0>"
      ]
     },
     "metadata": {},
     "output_type": "display_data"
    }
   ],
   "source": [
    "# Plot predictions versus training set outcomes\n",
    "plt.scatter(outcomes_list, y_pred_list, c = \"black\", alpha = 0.15)\n",
    "\n",
    "axes = plt.gca()\n",
    "\n",
    "axes.set_xlim([-2, 4])\n",
    "\n",
    "axes.set_ylim([-2, 4])\n",
    "\n",
    "plt.plot([-2, 4], [-2, 4], 'k-', lw=2)"
   ]
  },
  {
   "cell_type": "markdown",
   "metadata": {
    "collapsed": false
   },
   "source": [
    "### Round 8.1: Validation Set Performance"
   ]
  },
  {
   "cell_type": "code",
   "execution_count": 125,
   "metadata": {
    "collapsed": false
   },
   "outputs": [
    {
     "data": {
      "text/plain": [
       "Variable containing:\n",
       " 281.9708\n",
       "[torch.FloatTensor of size 1]"
      ]
     },
     "execution_count": 125,
     "metadata": {},
     "output_type": "execute_result"
    }
   ],
   "source": [
    "# Get the validation set predictions\n",
    "y_valid_pred = model(valid_predictors_Variable)\n",
    "\n",
    "\n",
    "# Print the loss\n",
    "loss_fn(y_valid_pred,\n",
    "        valid_outcomes_Variable)"
   ]
  },
  {
   "cell_type": "code",
   "execution_count": 126,
   "metadata": {
    "collapsed": false
   },
   "outputs": [
    {
     "data": {
      "text/plain": [
       "Variable containing:\n",
       " 0.4069\n",
       "[torch.FloatTensor of size 1]"
      ]
     },
     "execution_count": 126,
     "metadata": {},
     "output_type": "execute_result"
    }
   ],
   "source": [
    "# Grab the residual sum of squares\n",
    "resid_sum_squares = loss_fn(y_valid_pred, valid_outcomes_Variable)\n",
    "\n",
    "\n",
    "# Compute R squared\n",
    "R_squared = 1 - (resid_sum_squares / tot_sum_squares)\n",
    "\n",
    "R_squared"
   ]
  },
  {
   "cell_type": "code",
   "execution_count": 127,
   "metadata": {
    "collapsed": true
   },
   "outputs": [],
   "source": [
    "# Get rid of the 2nd dimension of 1 from the FloatTensor\n",
    "y_valid_pred_resized = y_valid_pred.resize(2808)\n",
    "\n",
    "\n",
    "# Make the FloatTensor into a numpy.array\n",
    "y_valid_pred_array = y_valid_pred_resized.data.numpy()\n",
    "\n",
    "\n",
    "# Convert back to log scale\n",
    "y_valid_pred_array = y_valid_pred_array*5.407597 + 7.688844\n",
    "\n",
    "\n",
    "# Make the numpy.array into a list\n",
    "y_valid_pred_list = y_valid_pred_array.tolist()"
   ]
  },
  {
   "cell_type": "code",
   "execution_count": 128,
   "metadata": {
    "collapsed": false
   },
   "outputs": [
    {
     "data": {
      "text/plain": [
       "<matplotlib.text.Text at 0x7f59792e97b8>"
      ]
     },
     "execution_count": 128,
     "metadata": {},
     "output_type": "execute_result"
    },
    {
     "data": {
      "image/png": "[encoded data removed]",
      "text/plain": [
       "<matplotlib.figure.Figure at 0x7f5979271e10>"
      ]
     },
     "metadata": {},
     "output_type": "display_data"
    }
   ],
   "source": [
    "# Plot new predictions versus new data outcomes\n",
    "plt.scatter(valid_outcomes_list, y_valid_pred_list, c = \"black\", alpha = 0.15)\n",
    "\n",
    "axes = plt.gca()\n",
    "\n",
    "axes.set_xlim([0, 24])\n",
    "\n",
    "axes.set_ylim([0, 24])\n",
    "\n",
    "axes.set_xticks([0, 4, 8, 12, 16, 20, 24])\n",
    "\n",
    "axes.set_yticks([0, 4, 8, 12, 16, 20, 24])\n",
    "\n",
    "plt.plot([0, 24], [0, 24], 'k-', lw = 2)\n",
    "\n",
    "axes.set_xlabel(\"Actual Outcome (Log-Transformed US Dollars)\")\n",
    "\n",
    "axes.set_ylabel(\"Model Prediction (Log-Transformed US Dollars)\")\n",
    "\n",
    "axes.set_title(\"Model Performance\")"
   ]
  },
  {
   "cell_type": "code",
   "execution_count": 129,
   "metadata": {
    "collapsed": false
   },
   "outputs": [
    {
     "data": {
      "text/plain": [
       "Parameter containing:\n",
       "\n",
       "Columns 0 to 9 \n",
       " 0.0092  0.0193  0.0064  0.1635  0.1894 -0.0317  0.0176 -0.0061 -0.0176  0.0217\n",
       "\n",
       "Columns 10 to 19 \n",
       "-0.0124  0.0104  0.0038 -0.0213  0.0108 -0.0180 -0.0005  0.0098 -0.0057  0.0085\n",
       "\n",
       "Columns 20 to 29 \n",
       "-0.0036  0.0150  0.0048  0.0379 -0.0004 -0.0519  0.0887  0.0171 -0.0066  0.0034\n",
       "\n",
       "Columns 30 to 33 \n",
       "-0.0292  0.0208  0.0035  0.0092\n",
       "[torch.FloatTensor of size 1x34]"
      ]
     },
     "execution_count": 129,
     "metadata": {},
     "output_type": "execute_result"
    }
   ],
   "source": [
    "model[(0)].weight"
   ]
  }
 ],
 "metadata": {
  "kernelspec": {
   "display_name": "Python 3",
   "language": "python",
   "name": "python3"
  },
  "language_info": {
   "codemirror_mode": {
    "name": "ipython",
    "version": 3
   },
   "file_extension": ".py",
   "mimetype": "text/x-python",
   "name": "python",
   "nbconvert_exporter": "python",
   "pygments_lexer": "ipython3",
   "version": "3.6.0"
  }
 },
 "nbformat": 4,
 "nbformat_minor": 2
}
