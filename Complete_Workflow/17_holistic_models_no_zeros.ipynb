{
 "cells": [
  {
   "cell_type": "markdown",
   "metadata": {},
   "source": [
    "## Setup"
   ]
  },
  {
   "cell_type": "code",
   "execution_count": 1,
   "metadata": {
    "collapsed": true
   },
   "outputs": [],
   "source": [
    "# Packages\n",
    "import pandas as pd\n",
    "import torch\n",
    "from torch.autograd import Variable\n",
    "import numpy as np\n",
    "import matplotlib.pyplot as plt\n",
    "%matplotlib inline\n",
    "import pylab\n",
    "import math"
   ]
  },
  {
   "cell_type": "code",
   "execution_count": 2,
   "metadata": {
    "collapsed": false
   },
   "outputs": [
    {
     "name": "stdout",
     "output_type": "stream",
     "text": [
      "<class 'pandas.core.frame.DataFrame'>\n",
      "RangeIndex: 8308 entries, 0 to 8307\n",
      "Data columns (total 35 columns):\n",
      "DAMAGE_PROPERTY       8308 non-null float64\n",
      "DURATION_SECONDS      8308 non-null float64\n",
      "BEGIN_LAT             8308 non-null float64\n",
      "BEGIN_LON             8308 non-null float64\n",
      "TOR_LENGTH            8308 non-null float64\n",
      "TOR_WIDTH             8308 non-null float64\n",
      "YEAR                  8308 non-null float64\n",
      "MULTI_VORT_IND        8308 non-null int64\n",
      "OPEN_WATER_PROP       8308 non-null float64\n",
      "DEV_OPEN_PROP         8308 non-null float64\n",
      "DEV_LOW_PROP          8308 non-null float64\n",
      "DEV_MED_PROP          8308 non-null float64\n",
      "DEV_HIGH_PROP         8308 non-null float64\n",
      "BARREN_LAND_PROP      8308 non-null float64\n",
      "DECID_FOREST_PROP     8308 non-null float64\n",
      "EVERGR_FOREST_PROP    8308 non-null float64\n",
      "MIXED_FOREST_PROP     8308 non-null float64\n",
      "SHRUB_SCRUB_PROP      8308 non-null float64\n",
      "GRASS_LAND_PROP       8308 non-null float64\n",
      "PASTURE_HAY_PROP      8308 non-null float64\n",
      "CULT_CROPS_PROP       8308 non-null float64\n",
      "WOOD_WETLAND_PROP     8308 non-null float64\n",
      "HERB_WETLAND_PROP     8308 non-null float64\n",
      "INCOME                8308 non-null float64\n",
      "MOB_HOME_DENS         8308 non-null float64\n",
      "POP_DENS              8308 non-null float64\n",
      "TOR_AREA              8308 non-null float64\n",
      "TOT_DEV_INT           8308 non-null float64\n",
      "TOT_WOOD_AREA         8308 non-null float64\n",
      "WOOD_DEV_INT          8308 non-null float64\n",
      "EXP_INC_AREA          8308 non-null float64\n",
      "DAY_OF_YEAR           8308 non-null float64\n",
      "MONTH                 8308 non-null float64\n",
      "STATE_RANK            8308 non-null float64\n",
      "TIME                  8308 non-null float64\n",
      "dtypes: float64(34), int64(1)\n",
      "memory usage: 2.2 MB\n"
     ]
    }
   ],
   "source": [
    "# Import data\n",
    "tor_df = pd.read_csv(\"/home/jeremy/github_tornadoesr/data/raw/tor_train_set_no_zeros.csv\")\n",
    "\n",
    "\n",
    "# Quick inspection\n",
    "tor_df.info()"
   ]
  },
  {
   "cell_type": "code",
   "execution_count": 3,
   "metadata": {
    "collapsed": false
   },
   "outputs": [
    {
     "name": "stdout",
     "output_type": "stream",
     "text": [
      "<class 'pandas.core.frame.DataFrame'>\n",
      "RangeIndex: 8308 entries, 0 to 8307\n",
      "Data columns (total 1 columns):\n",
      "DAMAGE_PROPERTY    8308 non-null float64\n",
      "dtypes: float64(1)\n",
      "memory usage: 65.0 KB\n"
     ]
    }
   ],
   "source": [
    "# Seperating variables\n",
    "# The dependent variables\n",
    "tornado_outcomes = tor_df.iloc[:, [0]]\n",
    "\n",
    "\n",
    "# Quick inspection\n",
    "tornado_outcomes.info()"
   ]
  },
  {
   "cell_type": "code",
   "execution_count": 4,
   "metadata": {
    "collapsed": false
   },
   "outputs": [
    {
     "name": "stdout",
     "output_type": "stream",
     "text": [
      "<class 'pandas.core.frame.DataFrame'>\n",
      "RangeIndex: 8308 entries, 0 to 8307\n",
      "Data columns (total 34 columns):\n",
      "DURATION_SECONDS      8308 non-null float64\n",
      "BEGIN_LAT             8308 non-null float64\n",
      "BEGIN_LON             8308 non-null float64\n",
      "TOR_LENGTH            8308 non-null float64\n",
      "TOR_WIDTH             8308 non-null float64\n",
      "YEAR                  8308 non-null float64\n",
      "MULTI_VORT_IND        8308 non-null int64\n",
      "OPEN_WATER_PROP       8308 non-null float64\n",
      "DEV_OPEN_PROP         8308 non-null float64\n",
      "DEV_LOW_PROP          8308 non-null float64\n",
      "DEV_MED_PROP          8308 non-null float64\n",
      "DEV_HIGH_PROP         8308 non-null float64\n",
      "BARREN_LAND_PROP      8308 non-null float64\n",
      "DECID_FOREST_PROP     8308 non-null float64\n",
      "EVERGR_FOREST_PROP    8308 non-null float64\n",
      "MIXED_FOREST_PROP     8308 non-null float64\n",
      "SHRUB_SCRUB_PROP      8308 non-null float64\n",
      "GRASS_LAND_PROP       8308 non-null float64\n",
      "PASTURE_HAY_PROP      8308 non-null float64\n",
      "CULT_CROPS_PROP       8308 non-null float64\n",
      "WOOD_WETLAND_PROP     8308 non-null float64\n",
      "HERB_WETLAND_PROP     8308 non-null float64\n",
      "INCOME                8308 non-null float64\n",
      "MOB_HOME_DENS         8308 non-null float64\n",
      "POP_DENS              8308 non-null float64\n",
      "TOR_AREA              8308 non-null float64\n",
      "TOT_DEV_INT           8308 non-null float64\n",
      "TOT_WOOD_AREA         8308 non-null float64\n",
      "WOOD_DEV_INT          8308 non-null float64\n",
      "EXP_INC_AREA          8308 non-null float64\n",
      "DAY_OF_YEAR           8308 non-null float64\n",
      "MONTH                 8308 non-null float64\n",
      "STATE_RANK            8308 non-null float64\n",
      "TIME                  8308 non-null float64\n",
      "dtypes: float64(33), int64(1)\n",
      "memory usage: 2.2 MB\n"
     ]
    }
   ],
   "source": [
    "# The independent variables\n",
    "tornado_features = tor_df.iloc[:, 1:]\n",
    "\n",
    "\n",
    "# Quick inspection\n",
    "tornado_features.info()"
   ]
  },
  {
   "cell_type": "code",
   "execution_count": 5,
   "metadata": {
    "collapsed": false
   },
   "outputs": [
    {
     "data": {
      "text/plain": [
       "\n",
       " 0.1532\n",
       " 0.6540\n",
       " 0.0873\n",
       "   ⋮    \n",
       " 0.5790\n",
       " 0.1532\n",
       " 0.2814\n",
       "[torch.DoubleTensor of size 8308x1]"
      ]
     },
     "execution_count": 5,
     "metadata": {},
     "output_type": "execute_result"
    }
   ],
   "source": [
    "# Make the dependent variables into a numpy array\n",
    "outcomes_array = tornado_outcomes.values\n",
    "\n",
    "\n",
    "# Makes the numpy array into a torch Tensor\n",
    "outcomes_Tensor = torch.from_numpy(outcomes_array)\n",
    "\n",
    "\n",
    "# Quick inspection\n",
    "outcomes_Tensor"
   ]
  },
  {
   "cell_type": "code",
   "execution_count": 6,
   "metadata": {
    "collapsed": false
   },
   "outputs": [
    {
     "data": {
      "text/plain": [
       "\n",
       " 0.0227 -1.6434 -0.4323  ...  -0.2947 -0.8098 -0.4531\n",
       "-0.3046  0.2063  0.5545  ...  -0.2947  0.5157  1.1092\n",
       " 0.3520 -0.3313 -0.8991  ...  -1.0297 -1.1142 -0.1038\n",
       "          ...             ⋱             ...          \n",
       " 0.5451 -0.2386  0.6373  ...  -1.0297  0.1597 -1.5301\n",
       " 0.0227 -1.2487  0.6113  ...   0.8078  0.2605 -2.1918\n",
       " 0.4583 -0.4701 -0.0348  ...  -1.7647 -0.3808  0.5064\n",
       "[torch.DoubleTensor of size 8308x34]"
      ]
     },
     "execution_count": 6,
     "metadata": {},
     "output_type": "execute_result"
    }
   ],
   "source": [
    "# Make the independent variables into a numpy array\n",
    "features_array = tornado_features.values\n",
    "\n",
    "\n",
    "# Make the numpy array into a torch Tensor\n",
    "features_Tensor = torch.from_numpy(features_array)\n",
    "\n",
    "\n",
    "# Quick inspection\n",
    "features_Tensor"
   ]
  },
  {
   "cell_type": "markdown",
   "metadata": {},
   "source": [
    "### Convert DoubleTensor to FloatTensor"
   ]
  },
  {
   "cell_type": "code",
   "execution_count": 7,
   "metadata": {
    "collapsed": false
   },
   "outputs": [
    {
     "data": {
      "text/plain": [
       "\n",
       " 0.0227 -1.6434 -0.4323  ...  -0.2947 -0.8098 -0.4531\n",
       "-0.3046  0.2063  0.5545  ...  -0.2947  0.5157  1.1092\n",
       " 0.3520 -0.3313 -0.8991  ...  -1.0297 -1.1142 -0.1038\n",
       "          ...             ⋱             ...          \n",
       " 0.5451 -0.2386  0.6373  ...  -1.0297  0.1597 -1.5301\n",
       " 0.0227 -1.2487  0.6113  ...   0.8078  0.2605 -2.1918\n",
       " 0.4583 -0.4701 -0.0348  ...  -1.7647 -0.3808  0.5064\n",
       "[torch.FloatTensor of size 8308x34]"
      ]
     },
     "execution_count": 7,
     "metadata": {},
     "output_type": "execute_result"
    }
   ],
   "source": [
    "# Changing dependent variables from a DoubleTensor to a FloatTensor\n",
    "outcomes_Tensor = outcomes_Tensor.float()\n",
    "\n",
    "\n",
    "# ...and for the independent variables\n",
    "features_Tensor = features_Tensor.float()\n",
    "\n",
    "\n",
    "# Quick check\n",
    "features_Tensor"
   ]
  },
  {
   "cell_type": "markdown",
   "metadata": {
    "collapsed": true
   },
   "source": [
    "## Round 1: One-Hidden-Layer Neural Network"
   ]
  },
  {
   "cell_type": "code",
   "execution_count": 8,
   "metadata": {
    "collapsed": false
   },
   "outputs": [],
   "source": [
    "# Make the torch Tensor into a PyTorch Variable for dependent variables\n",
    "outcomes_Variable = Variable(outcomes_Tensor)\n",
    "\n",
    "\n",
    "# ...for independent variables\n",
    "features_Variable = Variable(features_Tensor,\n",
    "                             requires_grad = False)"
   ]
  },
  {
   "cell_type": "code",
   "execution_count": 9,
   "metadata": {
    "collapsed": false
   },
   "outputs": [],
   "source": [
    "# Make the neural network\n",
    "model = torch.nn.Sequential(torch.nn.Linear(34, 23),\n",
    "                            torch.nn.ReLU(),\n",
    "                            torch.nn.Linear(23, 1))"
   ]
  },
  {
   "cell_type": "code",
   "execution_count": 10,
   "metadata": {
    "collapsed": true
   },
   "outputs": [],
   "source": [
    "# Set the loss function\n",
    "loss_fn = torch.nn.MSELoss(size_average=False)"
   ]
  },
  {
   "cell_type": "code",
   "execution_count": 11,
   "metadata": {
    "collapsed": false
   },
   "outputs": [],
   "source": [
    "# To add errors to\n",
    "errors = []\n",
    "\n",
    "\n",
    "# Set the learning rate\n",
    "learning_rate = 1e-2\n",
    "\n",
    "\n",
    "# Define the model's optimizer\n",
    "optimizer = torch.optim.Adagrad(model.parameters(), lr = learning_rate)\n",
    "\n",
    "\n",
    "# Train the neural network\n",
    "for t in range(10000):\n",
    "    \n",
    "    # Get the current predictions\n",
    "    y_pred = model(features_Variable)\n",
    "    \n",
    "    # Compute and append current summed errors\n",
    "    loss = loss_fn(y_pred, outcomes_Variable)\n",
    "    errors.append(loss.data[0])\n",
    "    \n",
    "    # Zero the gradients before running the backward pass.\n",
    "    optimizer.zero_grad()\n",
    "    \n",
    "    # Backward pass: compute gradient of the loss with respect to all the learnable Variables\n",
    "    loss.backward()\n",
    "    \n",
    "    # Update the weights using Adagrad\n",
    "    optimizer.step()"
   ]
  },
  {
   "cell_type": "code",
   "execution_count": 12,
   "metadata": {
    "collapsed": true
   },
   "outputs": [],
   "source": [
    "# Get the iterations\n",
    "iterations = list(range(0, 10000))"
   ]
  },
  {
   "cell_type": "code",
   "execution_count": 13,
   "metadata": {
    "collapsed": false
   },
   "outputs": [
    {
     "data": {
      "text/plain": [
       "<matplotlib.collections.PathCollection at 0x7f95f0806400>"
      ]
     },
     "execution_count": 13,
     "metadata": {},
     "output_type": "execute_result"
    },
    {
     "data": {
      "image/png": "[encoded data removed]",
      "text/plain": [
       "<matplotlib.figure.Figure at 0x7f9598f042e8>"
      ]
     },
     "metadata": {},
     "output_type": "display_data"
    }
   ],
   "source": [
    "# Plot summed error as a function of iteration\n",
    "plt.scatter(iterations, errors, c = \"black\", alpha = 0.25)"
   ]
  },
  {
   "cell_type": "code",
   "execution_count": 14,
   "metadata": {
    "collapsed": false
   },
   "outputs": [],
   "source": [
    "# Get rid of the 2nd dimension of 1 from the FloatTensor\n",
    "y_pred_resized = y_pred.resize(8308)\n",
    "\n",
    "\n",
    "# Make the FloatTensor into a numpy.array\n",
    "y_pred_array = y_pred_resized.data.numpy()\n",
    "\n",
    "\n",
    "# Make the numpy.array into a list\n",
    "y_pred_list = y_pred_array.tolist()"
   ]
  },
  {
   "cell_type": "code",
   "execution_count": 15,
   "metadata": {
    "collapsed": false
   },
   "outputs": [],
   "source": [
    "# Get rid of the 2nd dimension of 1 from the FloatTensor\n",
    "outcomes_Variable_resized = outcomes_Variable.resize(8308)\n",
    "\n",
    "\n",
    "# Make the FloatTensor into a numpy.array\n",
    "outcomes_array = outcomes_Variable_resized.data.numpy()\n",
    "\n",
    "\n",
    "# Make the numpy.array into a list\n",
    "outcomes_list = outcomes_array.tolist()"
   ]
  },
  {
   "cell_type": "code",
   "execution_count": 16,
   "metadata": {
    "collapsed": false
   },
   "outputs": [
    {
     "data": {
      "text/plain": [
       "[<matplotlib.lines.Line2D at 0x7f95989da2b0>]"
      ]
     },
     "execution_count": 16,
     "metadata": {},
     "output_type": "execute_result"
    },
    {
     "data": {
      "image/png": "[encoded data removed]",
      "text/plain": [
       "<matplotlib.figure.Figure at 0x7f95989da6a0>"
      ]
     },
     "metadata": {},
     "output_type": "display_data"
    }
   ],
   "source": [
    "# Plot predictions versus training set outcomes\n",
    "plt.scatter(outcomes_list, y_pred_list, c = \"black\", alpha = 0.15)\n",
    "\n",
    "axes = plt.gca()\n",
    "\n",
    "axes.set_xlim([-2, 4])\n",
    "\n",
    "axes.set_ylim([-2, 4])\n",
    "\n",
    "plt.plot([-2, 4], [-2, 4], 'k-', lw=2)"
   ]
  },
  {
   "cell_type": "markdown",
   "metadata": {},
   "source": [
    "### Round 1.1: Validation Set Performance"
   ]
  },
  {
   "cell_type": "code",
   "execution_count": 17,
   "metadata": {
    "collapsed": false
   },
   "outputs": [
    {
     "name": "stdout",
     "output_type": "stream",
     "text": [
      "<class 'pandas.core.frame.DataFrame'>\n",
      "RangeIndex: 2808 entries, 0 to 2807\n",
      "Data columns (total 1 columns):\n",
      "DAMAGE_PROPERTY    2808 non-null float64\n",
      "dtypes: float64(1)\n",
      "memory usage: 22.0 KB\n"
     ]
    }
   ],
   "source": [
    "# Import data\n",
    "valid_df = pd.read_csv(\"/home/jeremy/github_tornadoesr/data/raw/tor_cv_set_no_zeros.csv\")\n",
    "\n",
    "\n",
    "# Validation set outcomes\n",
    "valid_outcomes = valid_df.iloc[:, [0]]\n",
    "\n",
    "\n",
    "# Make the validation outcomes into a numpy array\n",
    "valid_outcomes_array = valid_outcomes.values\n",
    "\n",
    "\n",
    "# Makes the numpy array into a torch Tensor\n",
    "valid_outcomes_Tensor = torch.from_numpy(valid_outcomes_array)\n",
    "\n",
    "\n",
    "# Changing validation outcomes from a DoubleTensor to a FloatTensor\n",
    "valid_outcomes_Tensor = valid_outcomes_Tensor.float()\n",
    "\n",
    "\n",
    "# Make the Tensor into a Pytorch Variable\n",
    "valid_outcomes_Variable = Variable(valid_outcomes_Tensor)\n",
    "\n",
    "\n",
    "# Quick check\n",
    "valid_outcomes.info()"
   ]
  },
  {
   "cell_type": "code",
   "execution_count": 18,
   "metadata": {
    "collapsed": false
   },
   "outputs": [
    {
     "name": "stdout",
     "output_type": "stream",
     "text": [
      "<class 'pandas.core.frame.DataFrame'>\n",
      "RangeIndex: 2808 entries, 0 to 2807\n",
      "Data columns (total 34 columns):\n",
      "DURATION_SECONDS      2808 non-null float64\n",
      "BEGIN_LAT             2808 non-null float64\n",
      "BEGIN_LON             2808 non-null float64\n",
      "TOR_LENGTH            2808 non-null float64\n",
      "TOR_WIDTH             2808 non-null float64\n",
      "YEAR                  2808 non-null float64\n",
      "MULTI_VORT_IND        2808 non-null int64\n",
      "OPEN_WATER_PROP       2808 non-null float64\n",
      "DEV_OPEN_PROP         2808 non-null float64\n",
      "DEV_LOW_PROP          2808 non-null float64\n",
      "DEV_MED_PROP          2808 non-null float64\n",
      "DEV_HIGH_PROP         2808 non-null float64\n",
      "BARREN_LAND_PROP      2808 non-null float64\n",
      "DECID_FOREST_PROP     2808 non-null float64\n",
      "EVERGR_FOREST_PROP    2808 non-null float64\n",
      "MIXED_FOREST_PROP     2808 non-null float64\n",
      "SHRUB_SCRUB_PROP      2808 non-null float64\n",
      "GRASS_LAND_PROP       2808 non-null float64\n",
      "PASTURE_HAY_PROP      2808 non-null float64\n",
      "CULT_CROPS_PROP       2808 non-null float64\n",
      "WOOD_WETLAND_PROP     2808 non-null float64\n",
      "HERB_WETLAND_PROP     2808 non-null float64\n",
      "INCOME                2808 non-null float64\n",
      "MOB_HOME_DENS         2808 non-null float64\n",
      "POP_DENS              2808 non-null float64\n",
      "TOR_AREA              2808 non-null float64\n",
      "TOT_DEV_INT           2808 non-null float64\n",
      "TOT_WOOD_AREA         2808 non-null float64\n",
      "WOOD_DEV_INT          2808 non-null float64\n",
      "EXP_INC_AREA          2808 non-null float64\n",
      "DAY_OF_YEAR           2808 non-null float64\n",
      "MONTH                 2808 non-null float64\n",
      "STATE_RANK            2808 non-null float64\n",
      "TIME                  2808 non-null float64\n",
      "dtypes: float64(33), int64(1)\n",
      "memory usage: 746.0 KB\n"
     ]
    }
   ],
   "source": [
    "# Validation set predictors\n",
    "valid_predictors = valid_df.iloc[:, 1:]\n",
    "\n",
    "\n",
    "# Make the validation predictors into a numpy array\n",
    "valid_predictors_array = valid_predictors.values\n",
    "\n",
    "\n",
    "# Makes the numpy array into a torch Tensor\n",
    "valid_predictors_Tensor = torch.from_numpy(valid_predictors_array)\n",
    "\n",
    "\n",
    "# Changing validation predictors from a DoubleTensor to a FloatTensor\n",
    "valid_predictors_Tensor = valid_predictors_Tensor.float()\n",
    "\n",
    "\n",
    "# Make the Tensor into a Pytorch Variable\n",
    "valid_predictors_Variable = Variable(valid_predictors_Tensor)\n",
    "\n",
    "\n",
    "# Quick check\n",
    "valid_predictors.info()"
   ]
  },
  {
   "cell_type": "code",
   "execution_count": 19,
   "metadata": {
    "collapsed": false
   },
   "outputs": [
    {
     "data": {
      "text/plain": [
       "Variable containing:\n",
       " 280.5448\n",
       "[torch.FloatTensor of size 1]"
      ]
     },
     "execution_count": 19,
     "metadata": {},
     "output_type": "execute_result"
    }
   ],
   "source": [
    "# Get the validation set predictions\n",
    "y_valid_pred = model(valid_predictors_Variable)\n",
    "\n",
    "\n",
    "# Print the loss\n",
    "loss_fn(y_valid_pred,\n",
    "        valid_outcomes_Variable)"
   ]
  },
  {
   "cell_type": "code",
   "execution_count": 20,
   "metadata": {
    "collapsed": false
   },
   "outputs": [],
   "source": [
    "# Get rid of the 2nd dimension of 1 from the FloatTensor\n",
    "y_valid_pred_resized = y_valid_pred.resize(2808)\n",
    "\n",
    "\n",
    "# Make the FloatTensor into a numpy.array\n",
    "y_valid_pred_array = y_valid_pred_resized.data.numpy()\n",
    "\n",
    "\n",
    "# Convert back to log scale\n",
    "y_valid_pred_array = y_valid_pred_array*5.407597 + 7.688844\n",
    "\n",
    "\n",
    "# Make the numpy.array into a list\n",
    "y_valid_pred_list = y_valid_pred_array.tolist()"
   ]
  },
  {
   "cell_type": "code",
   "execution_count": 21,
   "metadata": {
    "collapsed": false
   },
   "outputs": [],
   "source": [
    "# Get rid of the 2nd dimension of 1 from the FloatTensor\n",
    "valid_outcomes_Variable_resized = valid_outcomes_Variable.resize(2808)\n",
    "\n",
    "\n",
    "# Make the FloatTensor into a numpy.array\n",
    "valid_outcomes_array = valid_outcomes_Variable_resized.data.numpy()\n",
    "\n",
    "\n",
    "# Convert back to log scale\n",
    "valid_outcomes_array = valid_outcomes_array*5.407597 + 7.688844\n",
    "\n",
    "\n",
    "# Make the numpy.array into a list\n",
    "valid_outcomes_list = valid_outcomes_array.tolist()"
   ]
  },
  {
   "cell_type": "code",
   "execution_count": 22,
   "metadata": {
    "collapsed": false
   },
   "outputs": [
    {
     "data": {
      "text/plain": [
       "<matplotlib.text.Text at 0x7f9590263cf8>"
      ]
     },
     "execution_count": 22,
     "metadata": {},
     "output_type": "execute_result"
    },
    {
     "data": {
      "image/png": "[encoded data removed]",
      "text/plain": [
       "<matplotlib.figure.Figure at 0x7f95902dd390>"
      ]
     },
     "metadata": {},
     "output_type": "display_data"
    }
   ],
   "source": [
    "# Plot new predictions versus new data outcomes\n",
    "plt.scatter(valid_outcomes_list, y_valid_pred_list, c = \"black\", alpha = 0.15)\n",
    "\n",
    "axes = plt.gca()\n",
    "\n",
    "axes.set_xlim([0, 24])\n",
    "\n",
    "axes.set_ylim([0, 24])\n",
    "\n",
    "axes.set_xticks([0, 4, 8, 12, 16, 20, 24])\n",
    "\n",
    "axes.set_yticks([0, 4, 8, 12, 16, 20, 24])\n",
    "\n",
    "plt.plot([0, 24], [0, 24], 'k-', lw = 2)\n",
    "\n",
    "axes.set_xlabel(\"Actual Outcome (Log-Transformed US Dollars)\")\n",
    "\n",
    "axes.set_ylabel(\"Model Prediction (Log-Transformed US Dollars)\")\n",
    "\n",
    "axes.set_title(\"Model Performance\")"
   ]
  },
  {
   "cell_type": "code",
   "execution_count": 23,
   "metadata": {
    "collapsed": false
   },
   "outputs": [
    {
     "data": {
      "text/plain": [
       "Parameter containing:\n",
       "\n",
       "Columns 0 to 5 \n",
       " 2.8760e-01  2.6690e-02  1.3181e-01 -7.0418e-01 -5.0968e-01  5.0629e-02\n",
       " 2.3576e-01  1.8213e-01  2.2927e-01  8.1165e-02 -3.0428e-02 -1.3244e-01\n",
       "-2.2107e-01 -3.3756e-01  1.8263e-01 -2.4225e-01  9.6292e-02 -3.2783e-01\n",
       " 1.0360e-01  4.1348e-01  1.9791e-01  1.8433e-01 -9.1387e-02 -2.8825e-01\n",
       "-1.1959e-01  9.3159e-02 -1.5295e-01  2.7777e-02  6.9838e-03 -2.2111e-01\n",
       "-1.1891e-01 -1.4455e-01  1.3310e-01 -1.5522e-01  1.3243e-01  2.4384e-01\n",
       " 1.7770e-01  1.5362e-01  2.3746e-01  1.4191e-01  1.3279e-01  8.4160e-02\n",
       "-1.7455e-01  2.7897e-01  3.1699e-01 -3.5738e-02  1.3557e-01 -3.7765e-01\n",
       " 1.4321e-01  2.0082e-01  4.3016e-01  4.2816e-02 -1.1485e-01  2.7489e-02\n",
       " 7.1353e-02  5.5547e-02  2.6144e-01  6.4005e-02 -8.3718e-02 -2.0195e-01\n",
       " 4.7302e-01 -4.2335e-01 -2.3953e-01 -1.8894e-01  5.0264e-01  2.3198e-01\n",
       "-2.8076e-01  4.5053e-02  1.0338e-01  3.2378e-01 -4.2484e-01  7.7977e-02\n",
       "-4.6885e-02  1.2922e-01  8.2273e-02  4.9396e-02 -9.0214e-02 -2.6048e-01\n",
       "-7.6699e-02 -2.3493e-02  2.0222e-02 -7.3805e-02  2.1086e-01  6.4815e-02\n",
       "-1.7358e-01  3.2301e-01 -1.5878e-01  2.7554e-01  1.5218e-02 -9.8390e-02\n",
       "-5.8917e-02 -3.7014e-02 -1.0067e-02  1.2746e-01  2.7654e-01 -1.7871e-01\n",
       " 1.3624e-02  7.7785e-02 -4.9648e-02  6.5911e-02 -7.3133e-02 -3.0515e-02\n",
       " 1.1979e-01 -2.7136e-01 -9.7566e-02  1.8832e-01  1.2771e-01 -1.9508e-01\n",
       "-5.7241e-02 -1.7460e-01  1.9034e-01  3.3190e-01 -4.2721e-02 -8.9212e-02\n",
       "-5.1128e-01 -8.2617e-01 -1.1310e-01  4.9011e-02 -8.2699e-02 -1.1805e-02\n",
       "-3.0702e-01  5.1300e-01  1.0487e-01  4.6745e-02 -1.9180e-01 -1.3051e-01\n",
       " 1.4808e-01  1.1865e-01  1.3103e-01  1.6249e-01 -2.2083e-01 -3.0754e-02\n",
       " 3.2575e-02 -9.3545e-02 -2.4729e-01  1.1969e-02 -2.6867e-02 -4.5410e-02\n",
       "\n",
       "Columns 6 to 11 \n",
       "-5.7357e-01  1.9274e-01 -1.8893e-01 -3.1014e-02 -1.6882e-01  1.8755e-01\n",
       "-4.8324e-01  1.9414e-01  1.0782e-01 -1.0916e-01  6.1993e-02 -1.6890e-01\n",
       "-3.6085e-01 -1.9989e-01 -1.0441e-01 -1.3659e-01 -9.6124e-02 -1.3961e-01\n",
       " 3.0370e-01  1.9545e-01  1.4958e-01  5.1744e-02  8.7369e-02 -4.7609e-02\n",
       " 9.2407e-03  1.4798e-01  2.9070e-02 -2.0466e-01  6.1656e-02  4.5833e-02\n",
       "-2.9777e-01 -6.7604e-02 -1.1096e-02  2.4972e-01  8.1043e-02  9.4813e-02\n",
       "-4.6367e-01  7.7819e-02  1.0361e-01  8.4537e-02  3.1890e-02  2.8607e-01\n",
       " 3.4519e-01  7.4510e-02 -2.3417e-01  1.7824e-02 -1.2746e-02  5.4272e-02\n",
       "-7.1165e-02 -2.0713e-01  4.9269e-02  1.8093e-01  1.0307e-01 -1.8247e-01\n",
       " 7.1587e-01  8.6301e-02  1.0604e-01  1.3650e-01  9.9574e-02  5.3223e-02\n",
       " 8.9717e-02  1.6022e-01  3.4523e-01 -1.7520e-01  4.8749e-01 -1.4943e-01\n",
       "-3.1614e-01 -1.7730e-01  1.9483e-01  1.1479e-01 -6.8026e-02  9.0162e-03\n",
       "-7.0578e-01  1.0251e-01  1.2387e-01  1.2884e-01  6.3812e-02  1.4709e-01\n",
       "-1.4953e-01  1.4557e-01 -1.2682e-01 -9.8446e-02  1.2386e-01  8.9505e-02\n",
       " 2.4973e-01  1.7443e-01  3.1215e-02  2.5786e-02  5.0746e-02  5.3998e-02\n",
       "-4.6529e-01 -2.1838e-01  1.2488e-01 -4.4520e-03  2.3339e-01 -1.6232e-01\n",
       " 4.0260e-01  8.0451e-02 -5.5968e-02  9.1656e-02 -1.9010e-01  2.0202e-01\n",
       "-1.9745e-01  1.4313e-01 -3.4295e-04 -1.3030e-01  2.7909e-01 -3.0007e-02\n",
       " 4.0996e-01  1.1738e-01  7.4537e-02 -6.2862e-02 -3.7008e-01  3.3489e-01\n",
       "-1.1121e+00  4.2755e-02 -9.9842e-03  2.2810e-01  1.5237e-01 -2.7531e-02\n",
       " 1.3079e+00 -2.2574e-01  5.2596e-02 -2.6651e-01 -4.1787e-03  3.7717e-01\n",
       "-1.8256e-02 -1.4517e-01  5.5016e-01  1.3961e-01  2.4078e-01 -1.0007e-01\n",
       " 1.5885e-02 -1.1017e-01  2.7063e-01  4.1821e-02 -2.2259e-01 -1.7411e-01\n",
       "\n",
       "Columns 12 to 17 \n",
       "-1.2830e-01  6.0372e-02  2.9005e-02 -1.3059e-01  4.9671e-02  1.0950e-01\n",
       "-6.7581e-02  9.8635e-03  5.3732e-02  5.4895e-02 -2.1219e-01 -9.9261e-02\n",
       " 1.0386e-01  2.9993e-01  1.3940e-01 -1.4200e-01 -1.8177e-01  5.7718e-02\n",
       " 3.6070e-02  1.6088e-01  1.3637e-01  9.3774e-02 -1.9769e-02  7.2131e-03\n",
       "-6.6443e-02 -1.3615e-02 -9.5189e-02  2.3751e-01  1.7469e-01 -1.6913e-01\n",
       "-1.0322e-01 -1.2248e-01  2.6885e-02 -1.4112e-01  4.0045e-02 -2.0276e-02\n",
       "-1.6145e-01 -1.8952e-01 -1.0379e-01 -2.9497e-02 -2.1893e-01  1.9706e-02\n",
       " 1.5854e-01 -3.3101e-01  1.6338e-01 -1.0735e-01  2.1921e-01 -3.4285e-01\n",
       " 4.5969e-02  1.3049e-01  9.8972e-02  6.3022e-02  4.4102e-02 -3.0966e-02\n",
       " 9.2747e-02 -2.6851e-02  2.7456e-01  1.5981e-01  3.2498e-01 -2.1903e-01\n",
       "-3.5067e-02 -4.6466e-02  4.3880e-01  4.3974e-02 -9.5999e-02 -3.5648e-01\n",
       " 2.1384e-01  1.2186e-01  8.2542e-02  1.2844e-01  2.3889e-02 -2.2960e-01\n",
       "-1.4236e-01  3.5366e-02  1.0386e-01 -6.6926e-03 -1.2975e-01 -1.9370e-01\n",
       "-3.5299e-01  2.4558e-01 -6.2486e-02 -1.1998e-02 -2.5592e-02  5.5244e-02\n",
       "-1.8499e-01  7.7172e-02 -3.1413e-01  1.2891e-01  8.3022e-02 -6.0383e-02\n",
       "-3.1439e-05  2.1991e-01  9.2338e-02 -2.2540e-01 -2.0705e-01 -4.7459e-03\n",
       " 4.0704e-02 -2.0805e-01  1.0574e-01 -8.6842e-02  4.9482e-02 -1.0212e-02\n",
       "-6.9466e-02  4.1801e-02  1.8652e-02  1.4241e-01  3.0170e-01  2.3790e-01\n",
       "-2.1693e-01 -4.7514e-03  1.4803e-01  3.0113e-01 -1.4672e-01 -1.9387e-01\n",
       "-8.1068e-02 -6.0636e-02 -4.1377e-02 -1.4029e-01 -1.7270e-02 -1.0568e-01\n",
       " 1.3865e-01 -2.8120e-01  1.1767e-01 -4.8700e-02  3.2959e-01 -2.2787e-01\n",
       " 1.7640e-01 -1.9228e-01  2.3585e-01 -1.0102e-01 -2.3911e-01 -1.4481e-01\n",
       " 2.9517e-01 -1.0893e-03  1.1279e-01 -5.0025e-03 -1.0399e-01 -1.2593e-02\n",
       "\n",
       "Columns 18 to 23 \n",
       " 3.6005e-02  1.0911e-01 -8.1762e-02 -2.8803e-01 -3.6434e-02  1.6444e-01\n",
       " 2.2325e-02  1.4809e-01  1.7899e-01 -1.0226e-03 -5.1421e-02 -1.7868e-01\n",
       " 1.7946e-01 -2.1565e-01 -1.5136e-01 -4.4618e-02  3.7108e-01 -4.7815e-01\n",
       " 2.6507e-02 -2.3926e-01  7.0124e-02 -1.9789e-02 -6.5016e-02  1.7195e-01\n",
       "-2.0101e-02 -9.2657e-02  2.7289e-01 -2.0763e-01 -1.7593e-02  3.4491e-02\n",
       "-1.4227e-02 -8.6868e-02 -1.5572e-01  1.9593e-01  2.5410e-01  1.7341e-02\n",
       "-6.2072e-02  2.5894e-01  8.5231e-03 -2.6326e-02 -1.6021e-01 -1.2406e-01\n",
       "-1.6595e-02  7.6313e-02 -1.3149e-01  7.7520e-03 -6.1124e-02  9.5103e-02\n",
       "-1.6886e-01  1.0325e-01  3.0341e-02  1.8309e-02  3.2009e-01  5.4316e-02\n",
       " 1.1432e-01  9.6793e-02 -7.7229e-02 -1.4961e-01  1.2625e-02  3.1932e-02\n",
       " 3.5160e-01  1.0770e-01 -2.2740e-01 -3.9678e-02 -1.0808e-01 -4.1873e-01\n",
       "-1.0898e-01 -1.7535e-01  1.3448e-01  1.0806e-01  3.1933e-01  1.1754e-01\n",
       "-1.8882e-01  3.2575e-02 -1.2652e-01 -2.1764e-01  9.5142e-02  8.1500e-02\n",
       "-1.8020e-03  3.1081e-02  5.0045e-02 -2.1770e-01  3.9222e-02  2.6538e-01\n",
       "-1.9771e-01 -1.0662e-01  1.2963e-01 -2.3588e-01  9.7130e-02  1.6345e-01\n",
       " 1.8106e-01 -3.7084e-02 -7.3485e-02  5.0337e-02  2.2793e-01 -4.6932e-02\n",
       "-2.5052e-01  1.6746e-01 -2.0217e-01 -1.6345e-01 -7.1201e-02 -1.1646e-01\n",
       "-7.8205e-02 -6.9324e-02 -2.4142e-01 -1.9972e-01 -8.6137e-02  4.6052e-02\n",
       " 2.5828e-01  1.3950e-01  5.1376e-01 -2.1095e-01  1.0152e-01  3.3459e-01\n",
       "-2.1543e-01 -9.5850e-03  1.0885e-01 -1.7044e-01  1.4654e-01  2.4868e-01\n",
       " 7.4428e-02 -4.2369e-01 -3.8418e-02 -1.0171e-01  3.4742e-01 -1.2563e-01\n",
       " 4.1522e-01 -5.0868e-02  1.3673e-01 -1.4074e-01  1.7821e-01  1.9929e-02\n",
       " 1.7556e-03  5.7152e-02  5.0978e-02  1.6588e-01  9.1585e-02 -2.1798e-01\n",
       "\n",
       "Columns 24 to 29 \n",
       "-3.6062e-01  4.0185e-01 -3.8531e-02 -4.6406e-01  3.1565e-01  2.6508e-01\n",
       " 2.2087e-02  2.8776e-01 -2.4617e-02  1.2890e-01  1.1773e-01  3.4509e-02\n",
       " 7.2732e-02  1.7887e-01  1.3086e-01 -2.6641e-01 -1.9282e-01  1.8244e-01\n",
       " 4.2851e-02  2.0094e-01 -3.1894e-03 -7.2567e-02  7.3481e-02  7.2248e-02\n",
       " 3.1884e-01  3.2688e-02 -6.2389e-02 -1.2014e-01  2.9921e-03 -1.8306e-01\n",
       " 1.4447e-01 -1.3427e-01 -1.5455e-01 -1.1547e-01  6.6779e-02  1.3700e-01\n",
       "-1.1719e-01  1.5109e-01  1.1170e-01  1.6543e-01 -1.5276e-01  2.2078e-01\n",
       " 7.5905e-02  2.5983e-01  1.1091e-01 -3.9805e-02  7.4284e-02  1.9060e-01\n",
       " 1.4185e-01  2.5301e-02  1.2054e-01 -1.2222e-02 -2.6517e-02 -7.9984e-02\n",
       " 1.3362e-01  3.9064e-02 -6.6916e-02 -2.2846e-01 -2.2229e-01  5.2904e-03\n",
       " 1.4103e-01 -2.0604e-03  1.7793e-01  8.6316e-02  7.6924e-02  1.4943e-01\n",
       "-3.3248e-01  2.9012e-02 -8.3292e-02  1.8412e-03 -1.0591e-01  1.0745e-01\n",
       " 4.7381e-02  7.2510e-02  1.7087e-01  2.0249e-01 -1.4346e-01  2.3977e-03\n",
       " 4.5678e-02  8.1969e-02  2.1464e-01  6.0220e-02  2.6328e-01 -1.4833e-02\n",
       " 1.2411e-01  1.1052e-01  8.3024e-02  1.7719e-01  1.3625e-01 -1.0911e-01\n",
       " 6.0558e-02 -4.8583e-02 -9.1432e-02 -7.3008e-03 -2.2789e-01 -1.0094e-01\n",
       " 5.7340e-02  6.0283e-02  4.6546e-02  1.7624e-01  2.2748e-01 -9.7194e-02\n",
       " 3.5501e-01  1.1875e-01 -7.3990e-02  1.2737e-01 -1.2370e-01  5.7102e-02\n",
       " 1.0883e-01 -1.0005e-01 -4.7073e-01  4.0350e-02  4.9718e-02 -1.3378e-01\n",
       "-6.4556e-02  1.5702e-01  3.8857e-01 -4.5779e-01 -5.8045e-02 -1.5156e-01\n",
       "-2.6405e-01  1.1312e-01  2.5810e-02 -2.1179e-03  2.0148e-01  3.4746e-02\n",
       "-1.7221e-01  1.7391e-03 -3.2661e-01 -2.9348e-01 -1.9910e-01  1.1950e-01\n",
       "-9.9899e-02 -1.8712e-02 -1.3663e-01  1.7085e-01 -1.2616e-01  2.5119e-01\n",
       "\n",
       "Columns 30 to 33 \n",
       "-1.5277e-01 -2.0677e-01  2.2733e-01  2.0343e-01\n",
       " 5.8172e-02  1.5834e-01  2.2009e-01  1.5701e-01\n",
       "-2.4643e-02 -3.2153e-01 -1.8786e-01  4.3365e-02\n",
       "-1.3933e-03  3.5886e-01  1.5570e-01  5.9080e-02\n",
       "-4.7616e-02  4.5847e-02  1.1895e-01 -1.1090e-01\n",
       " 6.1845e-02  3.3756e-02 -1.9056e-01 -8.0057e-02\n",
       "-7.7270e-02  2.6714e-01  1.8383e-02  8.4259e-02\n",
       "-2.4424e-01 -7.3600e-02  3.2991e-02  5.6453e-02\n",
       "-9.4996e-02 -6.4485e-02 -5.2671e-01 -3.6351e-02\n",
       "-4.6852e-01  1.6732e-01 -8.5928e-02  2.6918e-02\n",
       " 2.4127e-02  1.8196e-01 -7.8772e-02 -9.6683e-03\n",
       "-1.6854e-01  1.2191e-01 -1.1385e-01  7.8418e-02\n",
       "-1.7055e-01 -4.1462e-03  1.4684e-01 -3.6954e-02\n",
       "-1.0125e-01  1.7085e-01  1.8252e-01  8.9161e-03\n",
       "-2.0114e-01  4.3742e-02  8.7244e-02 -2.0170e-01\n",
       " 2.7738e-02 -2.2812e-02  1.9886e-02  3.9427e-02\n",
       "-1.5279e-01  6.8979e-02 -5.4335e-01  1.8770e-01\n",
       "-4.0315e-01 -1.6857e-01  8.8268e-02  2.0753e-02\n",
       " 1.5525e-01  1.9193e-01  1.6026e-01  1.2720e-01\n",
       " 1.1956e-01 -6.1447e-02 -4.8271e-02 -6.2170e-03\n",
       "-2.1852e-01 -3.9318e-02 -4.8745e-01  2.3461e-01\n",
       " 1.7459e-01 -9.0314e-02 -9.2218e-02 -3.1881e-02\n",
       " 2.9591e-02 -1.1371e-01 -4.3792e-02 -6.1398e-02\n",
       "[torch.FloatTensor of size 23x34]"
      ]
     },
     "execution_count": 23,
     "metadata": {},
     "output_type": "execute_result"
    }
   ],
   "source": [
    "model[(0)].weight"
   ]
  },
  {
   "cell_type": "code",
   "execution_count": 24,
   "metadata": {
    "collapsed": false
   },
   "outputs": [
    {
     "data": {
      "text/plain": [
       "Parameter containing:\n",
       "\n",
       "Columns 0 to 9 \n",
       " 0.1700 -0.2199 -0.2210  0.2117 -0.2754 -0.2116  0.2370  0.1873  0.2601 -0.2207\n",
       "\n",
       "Columns 10 to 19 \n",
       " 0.1463 -0.2464 -0.2190 -0.1946  0.2564  0.2949 -0.2382  0.1563  0.1609  0.1694\n",
       "\n",
       "Columns 20 to 22 \n",
       " 0.1756 -0.1987  0.2743\n",
       "[torch.FloatTensor of size 1x23]"
      ]
     },
     "execution_count": 24,
     "metadata": {},
     "output_type": "execute_result"
    }
   ],
   "source": [
    "model[(2)].weight"
   ]
  },
  {
   "cell_type": "markdown",
   "metadata": {},
   "source": [
    "## Round 2: Two-Hidden-Layer Neural Network"
   ]
  },
  {
   "cell_type": "code",
   "execution_count": 25,
   "metadata": {
    "collapsed": true
   },
   "outputs": [],
   "source": [
    "# Make the torch Tensor into a PyTorch Variable for dependent variables\n",
    "outcomes_Variable = Variable(outcomes_Tensor)\n",
    "\n",
    "\n",
    "# ...for independent variables\n",
    "features_Variable = Variable(features_Tensor,\n",
    "                             requires_grad = False)"
   ]
  },
  {
   "cell_type": "code",
   "execution_count": 26,
   "metadata": {
    "collapsed": true
   },
   "outputs": [],
   "source": [
    "# Make the neural network\n",
    "model = torch.nn.Sequential(torch.nn.Linear(34, 23),\n",
    "                            torch.nn.ReLU(),\n",
    "                            torch.nn.Linear(23, 15),\n",
    "                            torch.nn.ReLU(),\n",
    "                            torch.nn.Linear(15, 1))"
   ]
  },
  {
   "cell_type": "code",
   "execution_count": 27,
   "metadata": {
    "collapsed": false
   },
   "outputs": [],
   "source": [
    "# To add errors to\n",
    "errors = []\n",
    "\n",
    "\n",
    "# Set the learning rate\n",
    "learning_rate = 1e-2\n",
    "\n",
    "\n",
    "# Define the model's optimizer\n",
    "optimizer = torch.optim.Adagrad(model.parameters(), lr = learning_rate)\n",
    "\n",
    "\n",
    "# Train the neural network\n",
    "for t in range(10000):\n",
    "    \n",
    "    # Get the current predictions\n",
    "    y_pred = model(features_Variable)\n",
    "    \n",
    "    # Compute and append current summed errors\n",
    "    loss = loss_fn(y_pred, outcomes_Variable)\n",
    "    errors.append(loss.data[0])\n",
    "    \n",
    "    # Zero the gradients before running the backward pass.\n",
    "    optimizer.zero_grad()\n",
    "    \n",
    "    # Backward pass: compute gradient of the loss with respect to all the learnable Variables\n",
    "    loss.backward()\n",
    "    \n",
    "    # Update the weights using Adagrad\n",
    "    optimizer.step()"
   ]
  },
  {
   "cell_type": "code",
   "execution_count": 28,
   "metadata": {
    "collapsed": false
   },
   "outputs": [
    {
     "data": {
      "text/plain": [
       "<matplotlib.collections.PathCollection at 0x7f95901ac630>"
      ]
     },
     "execution_count": 28,
     "metadata": {},
     "output_type": "execute_result"
    },
    {
     "data": {
      "image/png": "[encoded data removed]",
      "text/plain": [
       "<matplotlib.figure.Figure at 0x7f9590287ba8>"
      ]
     },
     "metadata": {},
     "output_type": "display_data"
    }
   ],
   "source": [
    "# Plot summed error as a function of iteration\n",
    "plt.scatter(iterations, errors, c = \"black\", alpha = 0.25)"
   ]
  },
  {
   "cell_type": "code",
   "execution_count": 29,
   "metadata": {
    "collapsed": false
   },
   "outputs": [],
   "source": [
    "# Get rid of the 2nd dimension of 1 from the FloatTensor\n",
    "y_pred_resized = y_pred.resize(8308)\n",
    "\n",
    "\n",
    "# Make the FloatTensor into a numpy.array\n",
    "y_pred_array = y_pred_resized.data.numpy()\n",
    "\n",
    "\n",
    "# Make the numpy.array into a list\n",
    "y_pred_list = y_pred_array.tolist()"
   ]
  },
  {
   "cell_type": "code",
   "execution_count": 30,
   "metadata": {
    "collapsed": false
   },
   "outputs": [
    {
     "data": {
      "text/plain": [
       "[<matplotlib.lines.Line2D at 0x7f95901d0a58>]"
      ]
     },
     "execution_count": 30,
     "metadata": {},
     "output_type": "execute_result"
    },
    {
     "data": {
      "image/png": "[encoded data removed]",
      "text/plain": [
       "<matplotlib.figure.Figure at 0x7f95901c87f0>"
      ]
     },
     "metadata": {},
     "output_type": "display_data"
    }
   ],
   "source": [
    "# Plot predictions versus training set outcomes\n",
    "plt.scatter(outcomes_list, y_pred_list, c = \"black\", alpha = 0.15)\n",
    "\n",
    "axes = plt.gca()\n",
    "\n",
    "axes.set_xlim([-2, 4])\n",
    "\n",
    "axes.set_ylim([-2, 4])\n",
    "\n",
    "plt.plot([-2, 4], [-2, 4], 'k-', lw=2)"
   ]
  },
  {
   "cell_type": "markdown",
   "metadata": {},
   "source": [
    "### Round 2.1: Validation Set Performance"
   ]
  },
  {
   "cell_type": "code",
   "execution_count": 31,
   "metadata": {
    "collapsed": false
   },
   "outputs": [
    {
     "data": {
      "text/plain": [
       "Variable containing:\n",
       " 294.9597\n",
       "[torch.FloatTensor of size 1]"
      ]
     },
     "execution_count": 31,
     "metadata": {},
     "output_type": "execute_result"
    }
   ],
   "source": [
    "# Get the validation set predictions\n",
    "y_valid_pred = model(valid_predictors_Variable)\n",
    "\n",
    "\n",
    "# Print the loss\n",
    "loss_fn(y_valid_pred,\n",
    "        valid_outcomes_Variable)"
   ]
  },
  {
   "cell_type": "code",
   "execution_count": 32,
   "metadata": {
    "collapsed": false
   },
   "outputs": [],
   "source": [
    "# Get rid of the 2nd dimension of 1 from the FloatTensor\n",
    "y_valid_pred_resized = y_valid_pred.resize(2808)\n",
    "\n",
    "\n",
    "# Make the FloatTensor into a numpy.array\n",
    "y_valid_pred_array = y_valid_pred_resized.data.numpy()\n",
    "\n",
    "\n",
    "# Convert back to log scale\n",
    "y_valid_pred_array = y_valid_pred_array*5.407597 + 7.688844\n",
    "\n",
    "\n",
    "# Make the numpy.array into a list\n",
    "y_valid_pred_list = y_valid_pred_array.tolist()"
   ]
  },
  {
   "cell_type": "code",
   "execution_count": 33,
   "metadata": {
    "collapsed": false
   },
   "outputs": [
    {
     "data": {
      "text/plain": [
       "<matplotlib.text.Text at 0x7f959009d438>"
      ]
     },
     "execution_count": 33,
     "metadata": {},
     "output_type": "execute_result"
    },
    {
     "data": {
      "image/png": "[encoded data removed]",
      "text/plain": [
       "<matplotlib.figure.Figure at 0x7f95988f55f8>"
      ]
     },
     "metadata": {},
     "output_type": "display_data"
    }
   ],
   "source": [
    "# Plot new predictions versus new data outcomes\n",
    "plt.scatter(valid_outcomes_list, y_valid_pred_list, c = \"black\", alpha = 0.15)\n",
    "\n",
    "axes = plt.gca()\n",
    "\n",
    "axes.set_xlim([0, 24])\n",
    "\n",
    "axes.set_ylim([0, 24])\n",
    "\n",
    "axes.set_xticks([0, 4, 8, 12, 16, 20, 24])\n",
    "\n",
    "axes.set_yticks([0, 4, 8, 12, 16, 20, 24])\n",
    "\n",
    "plt.plot([0, 24], [0, 24], 'k-', lw = 2)\n",
    "\n",
    "axes.set_xlabel(\"Actual Outcome (Log-Transformed US Dollars)\")\n",
    "\n",
    "axes.set_ylabel(\"Model Prediction (Log-Transformed US Dollars)\")\n",
    "\n",
    "axes.set_title(\"Model Performance\")"
   ]
  },
  {
   "cell_type": "code",
   "execution_count": 34,
   "metadata": {
    "collapsed": false
   },
   "outputs": [
    {
     "data": {
      "text/plain": [
       "Parameter containing:\n",
       "\n",
       "Columns 0 to 9 \n",
       " 0.2038 -0.1176 -0.1945  0.1376 -0.0954 -0.0459  0.5919 -0.1986  0.1935 -0.0400\n",
       " 0.1028 -0.2730 -0.0106  0.1245 -0.0522 -0.0406 -0.3816  0.0492  0.0681 -0.1029\n",
       "-0.1347 -0.0294  0.0698  0.1840 -0.2101  0.0690 -0.6823  0.0325 -0.1252  0.0961\n",
       " 0.0766 -0.1167  0.0421  0.3487  0.0708  0.0931 -0.0332 -0.0383 -0.0380 -0.0275\n",
       " 0.1564  0.4476  0.2214  0.0529  0.0075 -0.3467 -0.0538  0.0129 -0.1059  0.1093\n",
       "-0.2007 -0.0565  0.0788  0.2578 -0.2845  0.0971 -0.9849 -0.0054  0.0327 -0.0918\n",
       "-0.0525 -0.0658 -0.1670 -0.3273 -0.1045  0.0239  0.2445 -0.1411 -0.0835 -0.1624\n",
       " 0.1159  0.3255  0.2659  0.1202  0.1629 -0.1715  0.4954 -0.0368 -0.1927  0.0552\n",
       " 0.0936 -0.0653  0.0736 -0.0296 -0.0897 -0.0101  0.3663 -0.1356  0.0359  0.0379\n",
       " 0.0051 -0.1744  0.3047  0.0857 -0.1092  0.0661 -0.4624  0.0935  0.0741  0.0710\n",
       "-0.1904  0.5695 -0.0173 -0.1109 -0.0782 -0.0696  0.2088  0.0267  0.0293 -0.0653\n",
       "-0.0555  0.2265  0.2009  0.0867  0.0566 -0.0749 -0.1755  0.0266  0.0387  0.0590\n",
       " 0.0599  0.3910  0.0616  0.3676 -0.0902 -0.2529  0.1428  0.1118  0.0695  0.2585\n",
       " 0.2881  0.5722  0.1967 -0.0699 -0.2074 -0.0115 -0.7894 -0.0072 -0.1247 -0.0711\n",
       " 0.5324  0.1068 -0.1420  0.0954  0.0030  0.0113  0.3104 -0.0523  0.2954 -0.1462\n",
       "-0.1497 -0.3297 -0.0812  0.0323 -0.0251 -0.0898 -0.5096 -0.2364  0.1610  0.0273\n",
       " 0.2171 -0.3063 -0.1011 -0.3093 -0.1411  0.1299 -0.0934  0.1047  0.0248  0.0236\n",
       "-0.0234  0.3185 -0.2707  0.2904  0.0999 -0.1483  0.0330 -0.0275  0.0486  0.0421\n",
       " 0.0540  0.1472 -0.0057  0.5409 -0.1377 -0.0056  0.4118  0.1218  0.0437  0.0104\n",
       " 0.1636 -0.0734 -0.0219  0.1026  0.1493  0.1046  0.6707  0.0763  0.1890  0.0857\n",
       "-0.2577  0.0014 -0.0258  0.2005 -0.0794 -0.1201  0.2645 -0.0627 -0.0313 -0.1223\n",
       "-0.0782 -0.2648 -0.1574  0.0658  0.1484 -0.0515 -0.7023  0.3038 -0.0943 -0.1738\n",
       " 0.0649  0.2900  0.3856 -0.2002 -0.1671  0.1066  0.0045  0.0542 -0.4068 -0.1264\n",
       "\n",
       "Columns 10 to 19 \n",
       " 0.0925  0.1740 -0.0655 -0.0041 -0.0085  0.1364 -0.1666 -0.0840 -0.0541  0.0504\n",
       " 0.2253  0.0924 -0.0176 -0.0602  0.0142  0.2373  0.2192  0.0245  0.0644  0.0180\n",
       " 0.0095  0.1069 -0.2934 -0.1791 -0.2703  0.3253 -0.2591  0.2289 -0.1860  0.1244\n",
       "-0.0947  0.0875 -0.1987  0.2825 -0.1300 -0.0371  0.0294  0.0599  0.2438  0.0043\n",
       " 0.0286  0.0642  0.1865  0.0426 -0.0595 -0.1528  0.1184  0.0508  0.0143  0.1160\n",
       " 0.0959 -0.0343 -0.0488 -0.1275 -0.0254  0.2557 -0.0967 -0.1379  0.1853 -0.0491\n",
       " 0.0272 -0.2358 -0.0211  0.2278  0.1414 -0.0669 -0.2835  0.3813  0.1492  0.1760\n",
       "-0.0272 -0.2228  0.0834  0.0328  0.1871  0.0845 -0.1405 -0.1358 -0.1540 -0.0683\n",
       "-0.1102  0.2258 -0.2664  0.0085 -0.0812 -0.1348  0.0127  0.1190 -0.0920  0.0770\n",
       "-0.1019  0.0597  0.1207  0.2381  0.1398  0.1972  0.2077 -0.0854 -0.1393  0.0263\n",
       " 0.1034 -0.1181  0.0388  0.1536 -0.1865  0.1037 -0.0305 -0.0439 -0.1345 -0.2204\n",
       " 0.1906  0.0047  0.0965 -0.1651 -0.1040 -0.1414 -0.2319 -0.1535  0.0120  0.2985\n",
       " 0.0014  0.1532  0.0723 -0.0577 -0.0565  0.2313 -0.0032  0.0241 -0.1919  0.1546\n",
       "-0.0886 -0.1104  0.1812  0.0013 -0.1396  0.0732  0.2993 -0.1732  0.0189 -0.0551\n",
       " 0.1727  0.0646  0.2224 -0.1692  0.2821  0.2945 -0.2599 -0.2045  0.0118 -0.0235\n",
       " 0.2139 -0.2599  0.1286 -0.1534 -0.0137 -0.1062 -0.1796 -0.1318  0.3427  0.0794\n",
       "-0.2048 -0.0877  0.0237 -0.0326  0.3049 -0.0337 -0.2149  0.2613  0.1508  0.0645\n",
       "-0.0212 -0.1665  0.0235 -0.0114  0.0109 -0.0162 -0.0643  0.2548 -0.3043  0.1374\n",
       "-0.0569  0.0326  0.1689  0.1079 -0.1126 -0.1250  0.1463 -0.0586  0.0266  0.0420\n",
       "-0.0238  0.0611 -0.0698 -0.0185 -0.0246  0.1003  0.0607  0.0057  0.0390 -0.0680\n",
       "-0.0295  0.1147  0.2088 -0.1089  0.1397 -0.0106  0.2144  0.1160  0.2540  0.0827\n",
       " 0.1857  0.1469  0.0564  0.0292  0.0527 -0.2262  0.0502 -0.1624 -0.0452 -0.0902\n",
       "-0.0796 -0.1824 -0.5087 -0.2315 -0.1670  0.0750 -0.1472  0.2697 -0.3172 -0.1587\n",
       "\n",
       "Columns 20 to 29 \n",
       " 0.0021  0.0215  0.0290 -0.0975  0.0846  0.0778 -0.3824  0.0099  0.0543 -0.1518\n",
       "-0.0568  0.1103  0.0306  0.0849  0.1382  0.0067 -0.0468 -0.1099  0.0010  0.1760\n",
       "-0.0437  0.0311 -0.0289 -0.0185  0.0058  0.0030  0.1492 -0.0509 -0.0468  0.1200\n",
       "-0.0003 -0.0470  0.1357  0.1903  0.0175 -0.1428  0.1729  0.0389 -0.0515 -0.1215\n",
       "-0.2491  0.1130  0.0631  0.0885 -0.1403  0.0217 -0.0666  0.0213  0.2149  0.0832\n",
       "-0.1556  0.0944  0.1356  0.1525  0.1143 -0.1382  0.0616  0.1681 -0.2290  0.0182\n",
       " 0.0210 -0.0332 -0.1065 -0.0909  0.3180  0.0449  0.1638 -0.0908  0.1443 -0.0485\n",
       "-0.1430  0.1766  0.0995  0.3653  0.0900 -0.0709  0.0937  0.0246  0.0679 -0.0094\n",
       "-0.1702 -0.1934 -0.0026  0.1813 -0.0222  0.0838 -0.1354  0.0633 -0.2217  0.2446\n",
       " 0.0171 -0.2288 -0.1865  0.0939  0.1418  0.0394 -0.4058 -0.0182 -0.0683 -0.0440\n",
       " 0.0316 -0.0636  0.1946  0.0782 -0.3017  0.1359  0.1466 -0.1120 -0.2602 -0.1743\n",
       " 0.2943 -0.0006 -0.2512 -0.1624 -0.0302 -0.0100 -0.0527 -0.0473 -0.1531  0.1192\n",
       "-0.0690 -0.0561  0.1427  0.0004 -0.4446 -0.2815 -0.0862  0.0758 -0.4234 -0.0484\n",
       " 0.0255 -0.0311 -0.2215 -0.0129 -0.2410  0.0103  0.0354 -0.2639 -0.1749  0.2461\n",
       "-0.0100  0.3179 -0.0253  0.0922 -0.0192 -0.0116 -0.0383  0.3534 -0.2442 -0.1447\n",
       " 0.3255 -0.1371  0.0061  0.3693 -0.0135  0.1105  0.0827  0.2122  0.1863  0.1331\n",
       "-0.1803  0.0232 -0.0296  0.0416 -0.1331 -0.1281 -0.0496  0.0932  0.0438 -0.2147\n",
       "-0.0971 -0.0136  0.0260 -0.2545  0.0616  0.0867 -0.0152  0.2166  0.1166 -0.0063\n",
       "-0.0690  0.0641 -0.0794  0.0584 -0.0548 -0.2813 -0.1063  0.2314  0.0601 -0.3191\n",
       "-0.0474 -0.0396 -0.1077 -0.3137  0.1887  0.1013 -0.0148  0.0469  0.1134 -0.0796\n",
       "-0.2820  0.2513  0.0060 -0.1643  0.3049  0.1631 -0.2867  0.1080 -0.0054  0.0222\n",
       " 0.0608 -0.0021  0.1396  0.0244 -0.3969  0.0097  0.2382 -0.1411 -0.1853  0.2173\n",
       "-0.3649 -0.1703  0.0205 -0.0004 -0.1433  0.1302  0.1956  0.0000 -0.2298  0.2330\n",
       "\n",
       "Columns 30 to 33 \n",
       "-0.1790 -0.1483  0.1717 -0.1766\n",
       "-0.0645 -0.1848  0.1066  0.2824\n",
       " 0.0108  0.1201  0.1319  0.1226\n",
       "-0.1469 -0.1018 -0.0862  0.0677\n",
       "-0.0190  0.0054 -0.0717  0.1342\n",
       " 0.1236  0.1078  0.3654  0.0530\n",
       " 0.0449 -0.0199  0.0521  0.1101\n",
       " 0.2063 -0.2224  0.1405  0.0071\n",
       "-0.1621  0.0276  0.1521  0.0116\n",
       " 0.0332 -0.3097  0.0874 -0.1074\n",
       " 0.0310  0.0816 -0.1406  0.1308\n",
       "-0.0977  0.1849 -0.0517 -0.0041\n",
       "-0.1598  0.0438 -0.1066  0.1244\n",
       "-0.0953  0.2066  0.1759 -0.2573\n",
       " 0.0786  0.0016 -0.3216  0.0655\n",
       " 0.0860  0.3218 -0.0511 -0.1359\n",
       " 0.1241 -0.1291  0.2135  0.1676\n",
       "-0.2463 -0.3297 -0.1002 -0.3955\n",
       " 0.0088  0.0191 -0.0163  0.0902\n",
       " 0.0773  0.1653 -0.0316 -0.0258\n",
       "-0.0833  0.2732  0.1781  0.0261\n",
       " 0.0212 -0.1766 -0.0226  0.1654\n",
       " 0.1243 -0.1137 -0.0455  0.0134\n",
       "[torch.FloatTensor of size 23x34]"
      ]
     },
     "execution_count": 34,
     "metadata": {},
     "output_type": "execute_result"
    }
   ],
   "source": [
    "model[(0)].weight"
   ]
  },
  {
   "cell_type": "code",
   "execution_count": 35,
   "metadata": {
    "collapsed": false
   },
   "outputs": [
    {
     "data": {
      "text/plain": [
       "Parameter containing:\n",
       "\n",
       "Columns 0 to 9 \n",
       "-0.2882  0.1814 -0.0429  0.2323  0.1514  0.0222 -0.3134  0.0304  0.2063  0.2587\n",
       "-0.1204 -0.2734 -0.2480  0.0370  0.3573  0.0498 -0.0366 -0.6298 -0.2311  0.1828\n",
       "-0.0258 -0.1588  0.3360  0.2041  0.0461  0.0549 -0.1262  0.1087  0.0355 -0.1303\n",
       " 0.1479 -0.0028 -0.3716  0.2252  0.7065  0.1000  0.0040  0.2958 -0.2419 -0.0600\n",
       "-0.3746 -0.8507  0.3104  0.0120 -0.4236 -0.0465  0.3222 -0.0115 -0.3347 -0.0977\n",
       "-0.0025 -0.3347  0.3493  0.2556  0.0892 -0.0530 -0.0642  0.1157 -0.0025 -0.8324\n",
       "-0.0509  0.0438  0.0514  0.2030  0.0525  0.2409 -0.1889  0.1567 -0.0715  0.0572\n",
       "-0.3716 -0.5081  0.0604  0.4314  0.4559 -0.3213  0.1080  0.2274  0.0691 -0.0248\n",
       " 0.0237 -0.2873  0.0173  0.1531  0.3710 -0.3143  0.4903 -0.0878 -0.2563  0.2744\n",
       "-0.1926  0.1230  0.2987  0.0392  0.2446 -0.0781 -0.0172  0.2533  0.0487 -0.0221\n",
       "-0.0706  0.1703  0.0638 -0.3593  0.1637  0.3220  0.0132  0.2946 -0.1281 -0.3052\n",
       " 0.0329  0.3401 -0.0494 -0.1070 -0.1958 -0.5541  0.1950  0.1301  0.0436  0.0847\n",
       "-0.2462  0.1268  0.0209  0.0916  0.2398 -0.0101  0.0487 -0.0116 -0.0687  0.1441\n",
       "-1.1978 -0.1945  0.3940  0.2768 -0.0923  0.1535 -0.1816 -0.3483  0.2076 -0.1797\n",
       "-0.1626  0.1568  0.2930 -0.0979 -0.0015  0.1327 -0.2494 -0.0207  0.2027  0.0595\n",
       "\n",
       "Columns 10 to 19 \n",
       " 0.2124  0.0162 -0.0385  0.1933  0.1866  0.1250 -0.2443  0.1709 -0.0710  0.0236\n",
       " 0.3478 -0.0553 -0.1533  0.0228 -0.2674 -0.0302  0.2117 -0.2689  0.0095  0.0720\n",
       " 0.2675  0.0824 -0.3226  0.0010 -0.0249 -0.0073  0.1718  0.2865  0.3781  0.1280\n",
       "-0.2256  0.6137  0.5203  0.0053  0.2722 -0.0506  0.1926  0.0444 -0.0781 -0.0493\n",
       " 0.1648  0.0444  0.0924  0.1379  0.2575 -0.2659 -0.4372  0.0731 -0.0561 -0.1916\n",
       "-0.3210  0.2689 -0.1617  0.0133 -0.4920 -0.1307 -0.0656 -0.0592  0.1306  0.0149\n",
       " 0.2034  0.0808 -0.1513  0.2037 -0.0382  0.0819  0.1193 -0.0827 -0.0999  0.1928\n",
       " 0.2253  0.3532 -0.2333  0.1745  0.2921 -0.2137  0.0866  0.0255 -0.7007  0.3878\n",
       "-0.2092 -0.2196  0.1047 -0.2375 -0.2180 -0.2793 -0.1534  0.2533 -0.3644  0.0007\n",
       "-0.1070  0.1039 -0.2350 -0.0688 -0.1884  0.0125  0.1756  0.0687 -0.1658  0.0154\n",
       " 0.1463 -0.1327 -0.3832  0.0643 -0.2428 -0.1690  0.1034  0.1191 -0.1052 -0.0325\n",
       "-0.0634 -0.1032  0.1395 -0.3054  0.3688  0.2302  0.3007  0.2506 -1.0173  0.0697\n",
       "-0.0084  0.2364 -0.1984  0.0947 -0.0544 -0.0049  0.0275  0.0661 -0.2743  0.2157\n",
       "-0.0227 -0.3082 -0.0540 -0.9250  0.2972 -0.2395  0.1134 -0.3141 -0.0375  0.1881\n",
       " 0.3154 -0.1427  0.1750  0.0254  0.0703  0.1168 -0.2068  0.1644  0.0032 -0.0955\n",
       "\n",
       "Columns 20 to 22 \n",
       " 0.0806  0.0372  0.0404\n",
       "-0.1629 -0.0909 -0.4955\n",
       " 0.2200 -0.0103 -0.2718\n",
       " 0.4133  0.1183 -0.4550\n",
       " 0.2621  0.2033 -0.1041\n",
       "-0.2416 -0.0270 -0.2892\n",
       "-0.1723 -0.0345  0.1050\n",
       " 0.4954  0.5791 -0.4153\n",
       " 0.2374  0.2864  0.1143\n",
       "-0.0404 -0.0634 -0.0922\n",
       " 0.2247 -0.0008  0.0322\n",
       " 0.6697  0.0534  0.2480\n",
       "-0.0490  0.2442 -0.1353\n",
       "-0.1068  0.2129 -0.3664\n",
       "-0.0512  0.2062  0.0846\n",
       "[torch.FloatTensor of size 15x23]"
      ]
     },
     "execution_count": 35,
     "metadata": {},
     "output_type": "execute_result"
    }
   ],
   "source": [
    "model[(2)].weight"
   ]
  },
  {
   "cell_type": "code",
   "execution_count": 36,
   "metadata": {
    "collapsed": false
   },
   "outputs": [
    {
     "data": {
      "text/plain": [
       "Parameter containing:\n",
       "\n",
       "Columns 0 to 9 \n",
       " 0.1177 -0.2721  0.6519 -0.1769 -0.5377 -0.6126  0.0636  0.3173 -0.7966  0.3210\n",
       "\n",
       "Columns 10 to 14 \n",
       "-0.3327  0.2911  0.3164 -0.5945  0.1787\n",
       "[torch.FloatTensor of size 1x15]"
      ]
     },
     "execution_count": 36,
     "metadata": {},
     "output_type": "execute_result"
    }
   ],
   "source": [
    "model[(4)].weight"
   ]
  },
  {
   "cell_type": "markdown",
   "metadata": {},
   "source": [
    "## Round 3: Three-Hidden-Layer Neural Network"
   ]
  },
  {
   "cell_type": "code",
   "execution_count": 37,
   "metadata": {
    "collapsed": true
   },
   "outputs": [],
   "source": [
    "# Make the torch Tensor into a PyTorch Variable for dependent variables\n",
    "outcomes_Variable = Variable(outcomes_Tensor)\n",
    "\n",
    "\n",
    "# ...for independent variables\n",
    "features_Variable = Variable(features_Tensor,\n",
    "                             requires_grad = False)"
   ]
  },
  {
   "cell_type": "code",
   "execution_count": 38,
   "metadata": {
    "collapsed": false
   },
   "outputs": [],
   "source": [
    "# Make the neural network\n",
    "model = torch.nn.Sequential(torch.nn.Linear(34, 23),\n",
    "                            torch.nn.ReLU(),\n",
    "                            torch.nn.Linear(23, 15),\n",
    "                            torch.nn.ReLU(),\n",
    "                            torch.nn.Linear(15, 10),\n",
    "                            torch.nn.ReLU(),\n",
    "                            torch.nn.Linear(10, 1))"
   ]
  },
  {
   "cell_type": "code",
   "execution_count": 39,
   "metadata": {
    "collapsed": false
   },
   "outputs": [],
   "source": [
    "# To add errors to\n",
    "errors = []\n",
    "\n",
    "\n",
    "# Set the learning rate\n",
    "learning_rate = 1e-2\n",
    "\n",
    "\n",
    "# Define the model's optimizer\n",
    "optimizer = torch.optim.Adagrad(model.parameters(), lr = learning_rate)\n",
    "\n",
    "\n",
    "# Train the neural network\n",
    "for t in range(10000):\n",
    "    \n",
    "    # Get the current predictions\n",
    "    y_pred = model(features_Variable)\n",
    "    \n",
    "    # Compute and append current summed errors\n",
    "    loss = loss_fn(y_pred, outcomes_Variable)\n",
    "    errors.append(loss.data[0])\n",
    "    \n",
    "    # Zero the gradients before running the backward pass.\n",
    "    optimizer.zero_grad()\n",
    "    \n",
    "    # Backward pass: compute gradient of the loss with respect to all the learnable Variables\n",
    "    loss.backward()\n",
    "    \n",
    "    # Update the weights using Adagrad\n",
    "    optimizer.step()"
   ]
  },
  {
   "cell_type": "code",
   "execution_count": 40,
   "metadata": {
    "collapsed": false
   },
   "outputs": [
    {
     "data": {
      "text/plain": [
       "<matplotlib.collections.PathCollection at 0x7f95857d2b00>"
      ]
     },
     "execution_count": 40,
     "metadata": {},
     "output_type": "execute_result"
    },
    {
     "data": {
      "image/png": "[encoded data removed]",
      "text/plain": [
       "<matplotlib.figure.Figure at 0x7f95900e8978>"
      ]
     },
     "metadata": {},
     "output_type": "display_data"
    }
   ],
   "source": [
    "# Plot summed error as a function of iteration\n",
    "plt.scatter(iterations, errors, c = \"black\", alpha = 0.25)"
   ]
  },
  {
   "cell_type": "code",
   "execution_count": 41,
   "metadata": {
    "collapsed": true
   },
   "outputs": [],
   "source": [
    "# Get rid of the 2nd dimension of 1 from the FloatTensor\n",
    "y_pred_resized = y_pred.resize(8308)\n",
    "\n",
    "\n",
    "# Make the FloatTensor into a numpy.array\n",
    "y_pred_array = y_pred_resized.data.numpy()\n",
    "\n",
    "\n",
    "# Make the numpy.array into a list\n",
    "y_pred_list = y_pred_array.tolist()"
   ]
  },
  {
   "cell_type": "code",
   "execution_count": 42,
   "metadata": {
    "collapsed": false
   },
   "outputs": [
    {
     "data": {
      "text/plain": [
       "[<matplotlib.lines.Line2D at 0x7f958579cfd0>]"
      ]
     },
     "execution_count": 42,
     "metadata": {},
     "output_type": "execute_result"
    },
    {
     "data": {
      "image/png": "[encoded data removed]",
      "text/plain": [
       "<matplotlib.figure.Figure at 0x7f95900115f8>"
      ]
     },
     "metadata": {},
     "output_type": "display_data"
    }
   ],
   "source": [
    "# Plot predictions versus training set outcomes\n",
    "plt.scatter(outcomes_list, y_pred_list, c = \"black\", alpha = 0.15)\n",
    "\n",
    "axes = plt.gca()\n",
    "\n",
    "axes.set_xlim([-2, 4])\n",
    "\n",
    "axes.set_ylim([-2, 4])\n",
    "\n",
    "plt.plot([-2, 4], [-2, 4], 'k-', lw=2)"
   ]
  },
  {
   "cell_type": "markdown",
   "metadata": {},
   "source": [
    "### Round 3.1: Validation Set Performance"
   ]
  },
  {
   "cell_type": "code",
   "execution_count": 43,
   "metadata": {
    "collapsed": false
   },
   "outputs": [
    {
     "data": {
      "text/plain": [
       "Variable containing:\n",
       " 312.9840\n",
       "[torch.FloatTensor of size 1]"
      ]
     },
     "execution_count": 43,
     "metadata": {},
     "output_type": "execute_result"
    }
   ],
   "source": [
    "# Get the validation set predictions\n",
    "y_valid_pred = model(valid_predictors_Variable)\n",
    "\n",
    "\n",
    "# Print the loss\n",
    "loss_fn(y_valid_pred,\n",
    "        valid_outcomes_Variable)"
   ]
  },
  {
   "cell_type": "code",
   "execution_count": 44,
   "metadata": {
    "collapsed": false
   },
   "outputs": [],
   "source": [
    "# Get rid of the 2nd dimension of 1 from the FloatTensor\n",
    "y_valid_pred_resized = y_valid_pred.resize(2808)\n",
    "\n",
    "\n",
    "# Make the FloatTensor into a numpy.array\n",
    "y_valid_pred_array = y_valid_pred_resized.data.numpy()\n",
    "\n",
    "\n",
    "# Convert back to log scale\n",
    "y_valid_pred_array = y_valid_pred_array*5.407597 + 7.688844\n",
    "\n",
    "\n",
    "# Make the numpy.array into a list\n",
    "y_valid_pred_list = y_valid_pred_array.tolist()"
   ]
  },
  {
   "cell_type": "code",
   "execution_count": 45,
   "metadata": {
    "collapsed": false
   },
   "outputs": [
    {
     "data": {
      "text/plain": [
       "<matplotlib.text.Text at 0x7f9585702908>"
      ]
     },
     "execution_count": 45,
     "metadata": {},
     "output_type": "execute_result"
    },
    {
     "data": {
      "image/png": "[encoded data removed]",
      "text/plain": [
       "<matplotlib.figure.Figure at 0x7f9590105da0>"
      ]
     },
     "metadata": {},
     "output_type": "display_data"
    }
   ],
   "source": [
    "# Plot new predictions versus new data outcomes\n",
    "plt.scatter(valid_outcomes_list, y_valid_pred_list, c = \"black\", alpha = 0.15)\n",
    "\n",
    "axes = plt.gca()\n",
    "\n",
    "axes.set_xlim([0, 24])\n",
    "\n",
    "axes.set_ylim([0, 24])\n",
    "\n",
    "axes.set_xticks([0, 4, 8, 12, 16, 20, 24])\n",
    "\n",
    "axes.set_yticks([0, 4, 8, 12, 16, 20, 24])\n",
    "\n",
    "plt.plot([0, 24], [0, 24], 'k-', lw = 2)\n",
    "\n",
    "axes.set_xlabel(\"Actual Outcome (Log-Transformed US Dollars)\")\n",
    "\n",
    "axes.set_ylabel(\"Model Prediction (Log-Transformed US Dollars)\")\n",
    "\n",
    "axes.set_title(\"Model Performance\")"
   ]
  },
  {
   "cell_type": "code",
   "execution_count": 46,
   "metadata": {
    "collapsed": false
   },
   "outputs": [
    {
     "data": {
      "text/plain": [
       "Parameter containing:\n",
       "\n",
       "Columns 0 to 9 \n",
       " 0.4996 -0.2623 -0.1694 -0.2384 -0.0951 -0.0988  0.4142 -0.0822  0.0773  0.2291\n",
       " 0.1447  0.0608  0.0406  0.2838 -0.3328 -0.0871  0.0681  0.1239  0.3116  0.0251\n",
       " 0.0532  0.3259  0.3322  0.1901 -0.1162  0.0007  0.0161 -0.1361 -0.0220  0.1242\n",
       "-0.0621  0.0334  0.1554  0.0982 -0.1676  0.3346 -0.3664 -0.1544  0.1711 -0.0429\n",
       "-0.0619  0.0862  0.0236  0.0737  0.0307 -0.3184  0.7592  0.0744  0.0239 -0.0148\n",
       " 0.3134 -0.0466  0.1774 -0.0323 -0.0307  0.0600  0.5508 -0.0335  0.4585 -0.1726\n",
       " 0.0398 -0.4550 -0.0515  0.1203  0.0336  0.1108 -0.5884  0.1543  0.0797  0.0243\n",
       " 0.1502  0.3750  0.0883  0.0942 -0.0372  0.1775  0.6957  0.0864  0.1379 -0.2304\n",
       " 0.1650  0.0748 -0.2372  0.0340  0.2611 -0.1863 -0.4840  0.0683 -0.1910  0.0775\n",
       "-0.0665  0.0107  0.0312 -0.3217  0.1480 -0.2482 -0.5994  0.2090 -0.1271 -0.0387\n",
       " 0.0799 -0.1983  0.2028  0.0921  0.2438  0.0811 -0.6979 -0.4477  0.0967 -0.1885\n",
       "-0.1146  0.1002 -0.0853  0.2259  0.0390  0.0597 -0.2558 -0.2127  0.1360  0.2350\n",
       " 0.1679  0.0599 -0.4051  0.2518  0.1445 -0.1775 -0.3855 -0.3385  0.1303 -0.3063\n",
       "-0.0140  0.3765  0.2877 -0.0872  0.0401 -0.1560  0.3199 -0.0275 -0.3104 -0.2114\n",
       " 0.2094 -0.2544  0.0430 -0.0287  0.1240  0.0426 -0.6917  0.3449 -0.0895  0.1270\n",
       " 0.3734  0.1731 -0.1965  0.1588 -0.0544 -0.0681  0.1274 -0.1069  0.1065 -0.0312\n",
       "-0.2060 -0.0355 -0.2311  0.1870 -0.0442  0.0140  0.0359  0.0453  0.1281 -0.0348\n",
       " 0.1291  0.4630  0.0610  0.0658  0.2364 -0.0024 -0.5182  0.0430  0.4127 -0.1917\n",
       " 0.0663  0.1819 -0.1793  0.0677  0.0713 -0.1911 -0.4755  0.1765 -0.1157  0.1340\n",
       "-0.0206  0.0696  0.0673 -0.0891 -0.1364 -0.0028  0.4740 -0.0887 -0.0570 -0.2866\n",
       "-0.1793 -0.1092  0.0357  0.1231 -0.0648  0.3993 -1.0658 -0.0216 -0.1761 -0.0313\n",
       "-0.0555  0.2165  0.2427 -0.0987 -0.0845 -0.2690  1.2619 -0.3780 -0.0722 -0.5193\n",
       "-0.0029 -0.2164 -0.0133  0.1142  0.2831 -0.1797 -0.3729 -0.1424 -0.4496  0.2521\n",
       "\n",
       "Columns 10 to 19 \n",
       " 0.1284 -0.0647  0.2539  0.2505 -0.0096  0.1261  0.1941 -0.0019 -0.3694 -0.3128\n",
       "-0.0264  0.1000  0.1754  0.1902  0.0756  0.0649 -0.0451 -0.0635 -0.1548  0.0971\n",
       " 0.1471  0.0727 -0.0224  0.2295  0.1435 -0.3810 -0.2342  0.1264 -0.1445  0.0126\n",
       " 0.0965 -0.1310 -0.0526 -0.1007  0.0510  0.2726  0.2749 -0.3194  0.0898 -0.1399\n",
       " 0.1471  0.0984  0.0636  0.1179  0.1191  0.0104  0.0794  0.0378  0.0302 -0.0143\n",
       " 0.0286 -0.4210  0.4438 -0.1601 -0.3077  0.0994 -0.3525 -0.0347 -0.4525  0.2083\n",
       " 0.0301 -0.0236 -0.1645 -0.1454  0.0720  0.0214  0.1402  0.0920  0.0741  0.0382\n",
       "-0.2575  0.1671 -0.1871 -0.1054  0.1255 -0.0563  0.2850 -0.0011 -0.1553  0.0831\n",
       " 0.1170  0.0518  0.1070 -0.0825 -0.2718 -0.0113 -0.0822  0.2037 -0.1476 -0.0986\n",
       " 0.0535  0.1881 -0.1618  0.3016 -0.0150  0.0317  0.2403  0.0869 -0.1270 -0.0481\n",
       " 0.2368  0.0079 -0.0517  0.2642  0.0353  0.1736  0.0139  0.2114 -0.0230  0.3583\n",
       "-0.2051  0.1399 -0.1620 -0.1416 -0.0603 -0.0265  0.1153 -0.1805  0.0331 -0.2445\n",
       "-0.1058 -0.5941  0.0097  0.2788  0.3998  0.1132 -0.1991  0.5160 -0.0895  0.2861\n",
       "-0.0426 -0.0435 -0.0152 -0.1570 -0.0620 -0.0056  0.0969 -0.1719  0.0351 -0.2215\n",
       " 0.3349 -0.0951  0.2198 -0.0175 -0.1124 -0.0274 -0.1136 -0.2506 -0.1196  0.0364\n",
       "-0.1462  0.0862  0.3612  0.0753  0.0664  0.0478 -0.0344  0.0992 -0.1488 -0.2850\n",
       " 0.2171  0.0703 -0.1659  0.0756 -0.3098  0.3063  0.1401 -0.1321 -0.0656  0.0415\n",
       "-0.0273  0.0817  0.0743 -0.0318 -0.1688  0.0032 -0.1943 -0.0583 -0.1046 -0.0758\n",
       " 0.0694  0.2348  0.1673  0.0266 -0.1395 -0.0303 -0.1575  0.2653 -0.0782 -0.0490\n",
       " 0.0648 -0.2395 -0.1999  0.2538  0.1337  0.0486  0.1700 -0.1101 -0.3429  0.0852\n",
       " 0.0885 -0.1115  0.0764  0.3794 -0.1478 -0.1864 -0.3097  0.1474 -0.0044 -0.1189\n",
       " 0.1189  0.1073 -0.1443 -0.0736  0.3501  0.1029 -0.1345  0.1134 -0.0554 -0.0830\n",
       "-0.1429  0.0810 -0.0751  0.4396 -0.1447 -0.1132 -0.1312  0.1231 -0.4947  0.4043\n",
       "\n",
       "Columns 20 to 29 \n",
       " 0.2043 -0.2534  0.0598  0.0390  0.2223  0.1698 -0.0368  0.0779 -0.0385  0.1547\n",
       "-0.1268  0.0197 -0.0639  0.0440 -0.0743 -0.2100  0.0189 -0.0373 -0.1793  0.0979\n",
       "-0.0246  0.1410 -0.0312  0.1030  0.2061  0.1556  0.1003  0.1633  0.2358 -0.0621\n",
       " 0.0159  0.3106  0.1091 -0.0865  0.2349 -0.0502 -0.0849 -0.2352 -0.0663 -0.0543\n",
       "-0.0685  0.3068 -0.0875 -0.0734  0.2387  0.2380 -0.0669  0.1163  0.1318  0.1012\n",
       " 0.1047  0.0975 -0.2142  0.4893 -0.0701  0.0629 -0.0991 -0.1229 -0.1887  0.2387\n",
       "-0.0040  0.1252 -0.0552 -0.1189  0.1869  0.1671  0.0519  0.2776 -0.1177  0.0578\n",
       "-0.1658 -0.3328 -0.2129  0.2271 -0.1012  0.0595  0.2736  0.0877 -0.1148 -0.1958\n",
       " 0.1115  0.1109 -0.2301  0.1114 -0.0166  0.1366  0.1372  0.1215 -0.0613 -0.0750\n",
       "-0.0741  0.0157  0.0255 -0.1691  0.2135 -0.0727 -0.0078  0.1538  0.0913  0.1080\n",
       " 0.1453  0.1884  0.0625  0.1831  0.0964 -0.0868 -0.0591 -0.1483 -0.2907  0.0807\n",
       " 0.0482 -0.0349 -0.0051 -0.1816  0.1619  0.1818  0.2216  0.0747 -0.1557  0.1796\n",
       " 0.0792 -0.0958  0.0726  0.0052  0.3730  0.0070  0.0052 -0.0647  0.1719  0.0827\n",
       "-0.0809  0.0160  0.1147  0.1849  0.0573  0.0433  0.1799  0.1267 -0.0339  0.1651\n",
       "-0.2299  0.2488 -0.0629  0.2904 -0.0661 -0.1070  0.1501 -0.2266 -0.3098 -0.1852\n",
       "-0.0401  0.1044  0.2022 -0.0612  0.0187 -0.0546 -0.0237  0.1260 -0.0185  0.1094\n",
       "-0.2058  0.0921 -0.0240 -0.0664 -0.1975  0.3367  0.1773  0.2765 -0.0937  0.2317\n",
       "-0.0076 -0.2517 -0.1824  0.0689  0.1544  0.0867  0.0565  0.0609  0.1145 -0.1808\n",
       "-0.0086  0.0637 -0.1606 -0.0775 -0.3228  0.0969 -0.0007 -0.1420  0.0423  0.0332\n",
       "-0.0845 -0.3037 -0.0111  0.0380 -0.0495  0.0333  0.0097 -0.3118  0.0693  0.2248\n",
       "-0.2497  0.3009 -0.0423  0.1605  0.0976 -0.2045  0.0459 -0.1586  0.0985  0.0895\n",
       "-0.0696 -0.2624 -0.2884 -0.2137 -0.0299 -0.1160 -0.3900 -0.0302 -0.5099  0.0752\n",
       "-0.2542 -0.0627  0.1887 -0.0792  0.0081  0.0619  0.1050  0.1923 -0.0062  0.0699\n",
       "\n",
       "Columns 30 to 33 \n",
       "-0.0161 -0.2623 -0.1648 -0.2000\n",
       "-0.1346  0.0166  0.0071 -0.0204\n",
       "-0.1358 -0.3240 -0.1389 -0.2446\n",
       "-0.1175  0.0976  0.1523 -0.0582\n",
       "-0.0568  0.4423 -0.0600 -0.0486\n",
       "-0.2040 -0.0574 -0.2542 -0.0754\n",
       "-0.3063 -0.0085  0.0731 -0.2258\n",
       " 0.0555 -0.1327  0.2655  0.2485\n",
       "-0.2112 -0.1042 -0.4500 -0.2266\n",
       "-0.0051  0.0141  0.1179 -0.0845\n",
       "-0.2152  0.1120 -0.0983  0.1387\n",
       " 0.0382  0.1730 -0.1224 -0.0316\n",
       "-0.1652 -0.2117 -0.1399 -0.1529\n",
       "-0.0537 -0.1607 -0.0338  0.1298\n",
       "-0.0714 -0.2039  0.0154  0.1647\n",
       "-0.1310  0.2659 -0.3842 -0.3153\n",
       "-0.2453  0.2383  0.0302  0.0636\n",
       " 0.0809  0.0367  0.0081 -0.1050\n",
       "-0.0852 -0.2683 -0.2093 -0.2791\n",
       "-0.2630  0.2093 -0.0985  0.1957\n",
       " 0.0380 -0.1475 -0.0841 -0.0797\n",
       " 0.0479 -0.1476  0.2629  0.0427\n",
       "-0.0097  0.0242 -0.0570  0.1591\n",
       "[torch.FloatTensor of size 23x34]"
      ]
     },
     "execution_count": 46,
     "metadata": {},
     "output_type": "execute_result"
    }
   ],
   "source": [
    "model[(0)].weight"
   ]
  },
  {
   "cell_type": "code",
   "execution_count": 47,
   "metadata": {
    "collapsed": false
   },
   "outputs": [
    {
     "data": {
      "text/plain": [
       "Parameter containing:\n",
       "\n",
       "Columns 0 to 9 \n",
       " 0.1837 -0.2972  0.2230  0.1137  0.0416  0.4971  0.3044  0.2368 -0.0861 -0.1915\n",
       "-0.1995 -0.2000  0.2045 -0.1261  0.2596  0.1641 -0.1405  0.0960 -0.2471  0.0597\n",
       " 0.1429  0.2446  0.1175  0.1308 -0.0822  0.2707 -0.0287 -0.2478  0.1573  0.0971\n",
       " 0.4567 -0.2112 -0.0868  0.1823  0.3763  0.4095  0.0239  0.3336  0.0761  0.1795\n",
       " 0.1299  0.0815 -0.1626  0.0856 -0.0310  0.2105  0.3314  0.2814  0.0479  0.1680\n",
       "-0.1815 -0.0128 -0.0235  0.1753 -0.2264  0.1028 -0.2055  0.0394  0.2378  0.3189\n",
       " 0.1396  0.4729 -0.2665  0.1948  0.0885 -0.0450  0.0562  0.2548  0.5547  0.1859\n",
       " 0.2709 -0.1842  0.0647  0.0796 -0.1237  0.2969  0.2651  0.3324  0.1334 -0.2476\n",
       " 0.3368  0.1391 -0.1975 -0.3804  0.1509  0.0854  0.1798  0.1177 -0.1656 -0.0108\n",
       " 0.1846 -0.0058 -0.0106  0.2848  0.1584  0.1728  0.4061 -0.0123 -0.1369 -0.1622\n",
       "-0.2416  0.1309 -0.0100  0.1487 -0.1493 -0.0529  0.0496  0.3595  0.0988  0.1889\n",
       " 0.0759 -0.6012  0.2249 -0.3512  0.0947  0.1580  0.1314  0.0886  0.0714 -0.0930\n",
       "-0.0073 -0.0294  0.4004 -0.1543  0.1686  0.1576  0.0058 -0.1747  0.0112 -0.1141\n",
       " 0.1347  0.3123  0.1068  0.0514  0.0740  0.2561 -0.0233 -0.2675 -0.1929 -0.0073\n",
       "-0.2818  0.1421 -0.2009 -0.5147 -0.4573 -0.0392 -0.2233  0.0714  0.2931  0.0513\n",
       "\n",
       "Columns 10 to 19 \n",
       " 0.0165  0.2614  0.0320  0.0175  0.2099  0.0591 -0.1739  0.3145  0.0119  0.4746\n",
       "-0.0799  0.2741  0.2302  0.0057  0.2649  0.1392  0.1543  0.1008  0.0744 -0.3605\n",
       "-0.1469  0.0074 -0.1718  0.2189 -0.0352 -0.1249 -0.1385  0.0426 -0.0302  0.2598\n",
       "-0.0779  0.0634  0.1468 -0.0108  0.0803 -0.1100  0.3484 -0.0217 -0.1154 -0.4712\n",
       " 0.0254  0.0699  0.0651  0.0510  0.0023 -0.1916 -0.3734 -0.7487 -0.2768 -0.3076\n",
       "-0.3493 -0.0112  0.0775 -0.2645  0.1860  0.3548  0.2590 -0.3990 -0.2558 -0.0143\n",
       " 0.0347  0.2366 -0.2267 -0.3876  0.0289  0.1359 -0.1368 -0.2423 -0.2688  0.3237\n",
       " 0.2761  0.0387 -0.0801  0.0153  0.0047  0.0946  0.2368 -0.1011  0.4156  0.0154\n",
       " 0.2713  0.0922 -0.1324  0.3330  0.0573 -0.1092  0.0619 -0.2908  0.1593 -0.2642\n",
       "-0.2899  0.2508  0.0810  0.3330 -0.0470  0.1284 -0.2952  0.1315  0.2422 -0.0120\n",
       " 0.0422  0.0530 -0.0377  0.0614  0.0655  0.4822  0.2066 -0.0259  0.0287 -0.0118\n",
       "-0.0603 -0.0595 -0.1288 -0.0359  0.3597  0.1244  0.2287  0.0647 -0.1236 -0.1308\n",
       " 0.0449 -0.1022  0.0513  0.1683  0.1764  0.1531  0.3480 -0.1631  0.0444 -0.1232\n",
       "-0.1407 -0.2968  0.0505 -0.1419 -0.2849  0.0218  0.1877 -0.1139  0.1048  0.1827\n",
       " 0.0814 -0.2009 -0.4310  0.1722  0.0911  0.2514  0.1205 -0.0919 -0.1389 -0.2043\n",
       "\n",
       "Columns 20 to 22 \n",
       " 0.2909  0.2866 -0.1071\n",
       "-0.2485 -0.0807  0.2348\n",
       " 0.2672  0.2466  0.1903\n",
       " 0.3110  0.3741 -0.0373\n",
       " 0.1246  0.0646  0.0719\n",
       "-0.1088 -0.0393  0.0705\n",
       " 0.2493  0.3089 -0.4453\n",
       "-0.4075 -0.4634  0.2354\n",
       " 0.1592  0.0802  0.2580\n",
       "-0.0051 -0.1199  0.0751\n",
       " 0.2635  0.2115 -0.0372\n",
       "-0.3837  0.2223 -0.0151\n",
       "-0.1063  0.1736  0.0601\n",
       " 0.3729  0.2244  0.0379\n",
       "-0.1527  0.1336 -0.3055\n",
       "[torch.FloatTensor of size 15x23]"
      ]
     },
     "execution_count": 47,
     "metadata": {},
     "output_type": "execute_result"
    }
   ],
   "source": [
    "model[(2)].weight"
   ]
  },
  {
   "cell_type": "code",
   "execution_count": 48,
   "metadata": {
    "collapsed": false
   },
   "outputs": [
    {
     "data": {
      "text/plain": [
       "Parameter containing:\n",
       "\n",
       "Columns 0 to 9 \n",
       " 0.3610  0.0820 -0.2095  0.0696 -0.2812 -0.5273 -0.3559  0.0090  0.4692 -0.1099\n",
       " 0.1054  0.0135  0.2302  0.2484  1.2816  0.5516  0.0255 -0.6112 -1.0968 -0.7344\n",
       "-0.2437 -0.3561 -0.3270 -0.2512  0.4194 -1.0639 -0.2898  0.2685  0.0678 -0.5288\n",
       "-0.1339  0.2638 -0.3362  0.1689 -0.3742 -0.6190 -0.6617  0.2178  0.0537  0.1902\n",
       " 0.3335 -0.0507 -0.2937  0.1138 -0.1343 -0.7606  0.0095  0.1012  0.3215 -0.0375\n",
       " 0.0822  0.0709  0.2316  0.2600  0.5670  0.4265 -0.8220  0.0315 -0.2871 -0.7286\n",
       "-0.0365 -0.1255 -0.0407  0.2364 -0.0275  0.0046 -0.0321  0.0871 -1.0919 -0.0842\n",
       "-0.2626 -0.4702  0.1681  0.1402  0.0692 -0.2631 -0.3519  0.2321  0.2592  0.0093\n",
       " 0.3226 -0.2798 -0.0423 -0.1171 -0.2781  0.3185  0.0237 -0.0158 -0.2618  0.2730\n",
       " 0.0692 -0.2007 -0.3446  0.0169 -0.1124 -0.2372 -0.0099 -0.2119 -0.6997 -0.2493\n",
       "\n",
       "Columns 10 to 14 \n",
       "-0.0778 -0.0005  0.1993 -0.0110  0.3839\n",
       "-0.4855 -0.4501  0.0899 -0.0215  1.1839\n",
       " 0.3726  0.1294  0.2752 -0.3113 -1.8970\n",
       " 0.1510  0.4109  0.0733 -0.1273 -0.5621\n",
       " 0.0423  0.1537  0.0318  0.0762 -0.1184\n",
       " 0.1476 -0.1737 -0.0086 -0.4802 -2.0034\n",
       "-0.0893 -0.1470  0.2201  0.1539  0.3435\n",
       "-0.2239  0.0234  0.1199  0.4779  0.2477\n",
       "-0.1820  0.3572 -0.3737  0.0059  0.2592\n",
       " 0.0293  0.1528 -0.2492  0.0931 -0.1279\n",
       "[torch.FloatTensor of size 10x15]"
      ]
     },
     "execution_count": 48,
     "metadata": {},
     "output_type": "execute_result"
    }
   ],
   "source": [
    "model[(4)].weight"
   ]
  },
  {
   "cell_type": "code",
   "execution_count": 49,
   "metadata": {
    "collapsed": false
   },
   "outputs": [
    {
     "data": {
      "text/plain": [
       "Parameter containing:\n",
       " 0.1346 -1.4028 -1.3545  0.6033  0.3038 -1.6907 -1.3898 -1.2676 -0.2131 -0.2460\n",
       "[torch.FloatTensor of size 1x10]"
      ]
     },
     "execution_count": 49,
     "metadata": {},
     "output_type": "execute_result"
    }
   ],
   "source": [
    "model[(6)].weight"
   ]
  },
  {
   "cell_type": "markdown",
   "metadata": {},
   "source": [
    "## Round 4: Four-Hidden-Layer Neural Network"
   ]
  },
  {
   "cell_type": "code",
   "execution_count": 50,
   "metadata": {
    "collapsed": true
   },
   "outputs": [],
   "source": [
    "# Make the torch Tensor into a PyTorch Variable for dependent variables\n",
    "outcomes_Variable = Variable(outcomes_Tensor)\n",
    "\n",
    "\n",
    "# ...for independent variables\n",
    "features_Variable = Variable(features_Tensor,\n",
    "                             requires_grad = False)"
   ]
  },
  {
   "cell_type": "code",
   "execution_count": 51,
   "metadata": {
    "collapsed": true
   },
   "outputs": [],
   "source": [
    "# Make the neural network\n",
    "model = torch.nn.Sequential(torch.nn.Linear(34, 23),\n",
    "                            torch.nn.ReLU(),\n",
    "                            torch.nn.Linear(23, 15),\n",
    "                            torch.nn.ReLU(),\n",
    "                            torch.nn.Linear(15, 10),\n",
    "                            torch.nn.ReLU(),\n",
    "                            torch.nn.Linear(10, 7),\n",
    "                            torch.nn.ReLU(),\n",
    "                            torch.nn.Linear(7, 1))"
   ]
  },
  {
   "cell_type": "code",
   "execution_count": 52,
   "metadata": {
    "collapsed": true
   },
   "outputs": [],
   "source": [
    "# To add errors to\n",
    "errors = []\n",
    "\n",
    "\n",
    "# Set the learning rate\n",
    "learning_rate = 1e-2\n",
    "\n",
    "\n",
    "# Define the model's optimizer\n",
    "optimizer = torch.optim.Adagrad(model.parameters(), lr = learning_rate)\n",
    "\n",
    "\n",
    "# Train the neural network\n",
    "for t in range(10000):\n",
    "    \n",
    "    # Get the current predictions\n",
    "    y_pred = model(features_Variable)\n",
    "    \n",
    "    # Compute and append current summed errors\n",
    "    loss = loss_fn(y_pred, outcomes_Variable)\n",
    "    errors.append(loss.data[0])\n",
    "    \n",
    "    # Zero the gradients before running the backward pass.\n",
    "    optimizer.zero_grad()\n",
    "    \n",
    "    # Backward pass: compute gradient of the loss with respect to all the learnable Variables\n",
    "    loss.backward()\n",
    "    \n",
    "    # Update the weights using Adagrad\n",
    "    optimizer.step()"
   ]
  },
  {
   "cell_type": "code",
   "execution_count": 53,
   "metadata": {
    "collapsed": false
   },
   "outputs": [
    {
     "data": {
      "text/plain": [
       "<matplotlib.collections.PathCollection at 0x7f95856020b8>"
      ]
     },
     "execution_count": 53,
     "metadata": {},
     "output_type": "execute_result"
    },
    {
     "data": {
      "image/png": "[encoded data removed]",
      "text/plain": [
       "<matplotlib.figure.Figure at 0x7f95856f8b00>"
      ]
     },
     "metadata": {},
     "output_type": "display_data"
    }
   ],
   "source": [
    "# Plot summed error as a function of iteration\n",
    "plt.scatter(iterations, errors, c = \"black\", alpha = 0.25)"
   ]
  },
  {
   "cell_type": "code",
   "execution_count": 54,
   "metadata": {
    "collapsed": false
   },
   "outputs": [],
   "source": [
    "# Get rid of the 2nd dimension of 1 from the FloatTensor\n",
    "y_pred_resized = y_pred.resize(8308)\n",
    "\n",
    "\n",
    "# Make the FloatTensor into a numpy.array\n",
    "y_pred_array = y_pred_resized.data.numpy()\n",
    "\n",
    "\n",
    "# Make the numpy.array into a list\n",
    "y_pred_list = y_pred_array.tolist()"
   ]
  },
  {
   "cell_type": "code",
   "execution_count": 55,
   "metadata": {
    "collapsed": false
   },
   "outputs": [
    {
     "data": {
      "text/plain": [
       "[<matplotlib.lines.Line2D at 0x7f958563f160>]"
      ]
     },
     "execution_count": 55,
     "metadata": {},
     "output_type": "execute_result"
    },
    {
     "data": {
      "image/png": "[encoded data removed]",
      "text/plain": [
       "<matplotlib.figure.Figure at 0x7f958563f208>"
      ]
     },
     "metadata": {},
     "output_type": "display_data"
    }
   ],
   "source": [
    "# Plot predictions versus training set outcomes\n",
    "plt.scatter(outcomes_list, y_pred_list, c = \"black\", alpha = 0.15)\n",
    "\n",
    "axes = plt.gca()\n",
    "\n",
    "axes.set_xlim([-2, 4])\n",
    "\n",
    "axes.set_ylim([-2, 4])\n",
    "\n",
    "plt.plot([-2, 4], [-2, 4], 'k-', lw=2)"
   ]
  },
  {
   "cell_type": "markdown",
   "metadata": {},
   "source": [
    "### Round 4.1: Validation Set Performance"
   ]
  },
  {
   "cell_type": "code",
   "execution_count": 56,
   "metadata": {
    "collapsed": false
   },
   "outputs": [
    {
     "data": {
      "text/plain": [
       "Variable containing:\n",
       " 301.5034\n",
       "[torch.FloatTensor of size 1]"
      ]
     },
     "execution_count": 56,
     "metadata": {},
     "output_type": "execute_result"
    }
   ],
   "source": [
    "# Get the validation set predictions\n",
    "y_valid_pred = model(valid_predictors_Variable)\n",
    "\n",
    "\n",
    "# Print the loss\n",
    "loss_fn(y_valid_pred,\n",
    "        valid_outcomes_Variable)"
   ]
  },
  {
   "cell_type": "code",
   "execution_count": 57,
   "metadata": {
    "collapsed": true
   },
   "outputs": [],
   "source": [
    "# Get rid of the 2nd dimension of 1 from the FloatTensor\n",
    "y_valid_pred_resized = y_valid_pred.resize(2808)\n",
    "\n",
    "\n",
    "# Make the FloatTensor into a numpy.array\n",
    "y_valid_pred_array = y_valid_pred_resized.data.numpy()\n",
    "\n",
    "\n",
    "# Convert back to log scale\n",
    "y_valid_pred_array = y_valid_pred_array*5.407597 + 7.688844\n",
    "\n",
    "\n",
    "# Make the numpy.array into a list\n",
    "y_valid_pred_list = y_valid_pred_array.tolist()"
   ]
  },
  {
   "cell_type": "code",
   "execution_count": 58,
   "metadata": {
    "collapsed": false
   },
   "outputs": [
    {
     "data": {
      "text/plain": [
       "<matplotlib.text.Text at 0x7f9585579be0>"
      ]
     },
     "execution_count": 58,
     "metadata": {},
     "output_type": "execute_result"
    },
    {
     "data": {
      "image/png": "[encoded data removed]",
      "text/plain": [
       "<matplotlib.figure.Figure at 0x7f9585752358>"
      ]
     },
     "metadata": {},
     "output_type": "display_data"
    }
   ],
   "source": [
    "# Plot new predictions versus new data outcomes\n",
    "plt.scatter(valid_outcomes_list, y_valid_pred_list, c = \"black\", alpha = 0.15)\n",
    "\n",
    "axes = plt.gca()\n",
    "\n",
    "axes.set_xlim([0, 24])\n",
    "\n",
    "axes.set_ylim([0, 24])\n",
    "\n",
    "axes.set_xticks([0, 4, 8, 12, 16, 20, 24])\n",
    "\n",
    "axes.set_yticks([0, 4, 8, 12, 16, 20, 24])\n",
    "\n",
    "plt.plot([0, 24], [0, 24], 'k-', lw = 2)\n",
    "\n",
    "axes.set_xlabel(\"Actual Outcome (Log-Transformed US Dollars)\")\n",
    "\n",
    "axes.set_ylabel(\"Model Prediction (Log-Transformed US Dollars)\")\n",
    "\n",
    "axes.set_title(\"Model Performance\")"
   ]
  },
  {
   "cell_type": "code",
   "execution_count": 59,
   "metadata": {
    "collapsed": false
   },
   "outputs": [
    {
     "data": {
      "text/plain": [
       "Parameter containing:\n",
       "\n",
       "Columns 0 to 9 \n",
       "-0.1216 -0.2683 -0.1576  0.0725  0.2227 -0.0019  0.6746 -0.0003 -0.1329 -0.0202\n",
       "-0.2758 -0.0790  0.0172  0.0562 -0.0886 -0.1830 -0.0362  0.1504 -0.1539 -0.1354\n",
       "-0.1127  0.0621  0.0498 -0.0710 -0.1790 -0.1124 -0.1561  0.0906 -0.0884  0.1448\n",
       " 0.0310 -0.1039 -0.1106  0.1228 -0.1496  0.1141  0.4290 -0.0018  0.2977  0.0837\n",
       " 0.0422 -0.2779 -0.1457  0.2060  0.0110 -0.0301 -0.2750 -0.1837  0.3121 -0.1652\n",
       " 0.1316 -0.0937  0.1549  0.1505  0.2838 -0.2455  0.7160  0.1652 -0.1554  0.1464\n",
       "-0.0966  0.3766 -0.1666  0.0097 -0.0488 -0.3509 -0.4827 -0.3567  0.2342 -0.4116\n",
       " 0.2346  0.0109  0.0987 -0.0745  0.1222 -0.1329  0.1372 -0.1215  0.1706  0.0750\n",
       " 0.2302  0.1446  0.1026  0.2056 -0.0055 -0.1410 -0.3453  0.0880  0.1264 -0.2549\n",
       " 0.1497  0.1588  0.0690 -0.0271  0.0738 -0.0356  0.2993  0.1704  0.1793 -0.0219\n",
       " 0.0304 -0.1523 -0.0561 -0.0647  0.1339  0.1492  0.4715 -0.1229  0.3392 -0.3451\n",
       " 0.0485  0.0623  0.1188 -0.1855 -0.0210 -0.2524 -0.0419  0.0316  0.1361 -0.1749\n",
       "-0.0909 -0.0316  0.0586 -0.0566  0.2147  0.1493 -0.2828 -0.2925 -0.0946 -0.2085\n",
       " 0.0770  0.5207  0.0998  0.1235  0.2310  0.0002  0.0579 -0.0515 -0.0610 -0.0608\n",
       "-0.0264 -0.0512  0.2717  0.3031  0.0822 -0.3658 -0.3546  0.0452  0.0179 -0.0090\n",
       " 0.2016  0.0881 -0.0013  0.2652 -0.1735 -0.3074  0.8089  0.0642  0.0253  0.2119\n",
       "-0.1351  0.1569  0.0306  0.2382 -0.4251  0.1397 -0.4201 -0.0474 -0.0023 -0.1763\n",
       "-0.0332 -0.3305  0.1061 -0.0170  0.0316 -0.0076 -0.6972  0.1515  0.1473  0.1291\n",
       " 0.0240 -0.0855 -0.1627  0.0804  0.2928  0.0667  0.2995  0.0783  0.2500 -0.0034\n",
       " 0.3401  0.1808  0.1598 -0.0274 -0.1248 -0.1060  0.4961 -0.0678 -0.0055  0.0537\n",
       "-0.0481 -0.2058 -0.0740  0.0097 -0.1606 -0.2353  0.4723  0.3708  0.1320 -0.0030\n",
       " 0.1109  0.0521  0.1750  0.3098 -0.2255 -0.1343 -0.0652 -0.1867 -0.1936  0.0328\n",
       " 0.0255 -0.2928 -0.1306  0.1089  0.1078 -0.0952 -0.5019  0.0045  0.2741 -0.0548\n",
       "\n",
       "Columns 10 to 19 \n",
       "-0.0886  0.2023  0.0291 -0.2302 -0.1631  0.1896  0.0139 -0.0033 -0.0227  0.0738\n",
       "-0.0971 -0.1587  0.0881 -0.1817  0.0256 -0.2048 -0.1061 -0.0995  0.0474  0.2907\n",
       "-0.2138 -0.0736  0.1476  0.2866 -0.0285 -0.0861  0.1013 -0.0340 -0.0618 -0.3144\n",
       " 0.0098  0.1057 -0.0194  0.0995 -0.0807  0.1249  0.0423  0.0257 -0.0397 -0.0434\n",
       "-0.1060 -0.2095  0.2571  0.1679  0.0991  0.4275 -0.1443  0.0097 -0.0587  0.0801\n",
       "-0.1936  0.3130 -0.0080  0.0162 -0.0389 -0.1032 -0.0338  0.0053  0.2634 -0.2771\n",
       " 0.2018  0.2774  0.2990  0.1167  0.1697 -0.1005  0.4309 -0.1347  0.0105 -0.1115\n",
       " 0.1957 -0.1578 -0.3021  0.1231 -0.1977 -0.1655  0.1088  0.1265 -0.2416  0.2168\n",
       "-0.2031 -0.3581  0.1671  0.1297  0.2890 -0.0500  0.1463  0.0819  0.0790 -0.2203\n",
       " 0.3760  0.0734 -0.0553 -0.0277 -0.0087  0.0635 -0.0962 -0.1615 -0.0283  0.0052\n",
       " 0.5029 -0.3092  0.1379  0.0035  0.2954  0.0987  0.0315 -0.1741  0.1821  0.0160\n",
       " 0.2623 -0.1401 -0.0301  0.0597  0.0339  0.1023  0.0001 -0.1148  0.1230 -0.0317\n",
       " 0.1607 -0.2923 -0.1264  0.1926  0.0380 -0.1045 -0.0260  0.3931 -0.0747 -0.2198\n",
       " 0.0765  0.0389  0.0773  0.0383  0.2271 -0.0316 -0.1644 -0.2098  0.0438 -0.1013\n",
       "-0.0520  0.0728  0.0388  0.1580  0.0274 -0.0499 -0.0716  0.1093  0.0936 -0.1755\n",
       " 0.0836 -0.1553  0.1863  0.1191  0.3745 -0.1423  0.0465  0.1388  0.1155 -0.0542\n",
       " 0.0065 -0.0219  0.1602  0.1567  0.0887 -0.0316  0.0070 -0.2453  0.0418 -0.1533\n",
       "-0.1137 -0.0832 -0.1422  0.1649 -0.0165 -0.1878  0.0020  0.1251 -0.0177 -0.0172\n",
       " 0.1177  0.0961 -0.1012 -0.1116  0.0158  0.0788  0.0045 -0.0264  0.0136 -0.2037\n",
       " 0.1432  0.1637  0.1443 -0.1916 -0.2701 -0.0154 -0.0449 -0.2578 -0.0958  0.2970\n",
       "-0.2374 -0.0540 -0.0811  0.0180  0.1351 -0.1096 -0.0016  0.0781 -0.1674  0.0249\n",
       " 0.1053  0.0580 -0.0061  0.2479 -0.1106 -0.0901 -0.0380  0.2624 -0.0572  0.1580\n",
       "-0.0512  0.1921 -0.0225 -0.0840 -0.1063  0.5005 -0.3045  0.2358 -0.0325  0.0686\n",
       "\n",
       "Columns 20 to 29 \n",
       "-0.1671 -0.0039  0.0970 -0.0083  0.0368  0.1151 -0.1050 -0.0261  0.2639  0.1352\n",
       " 0.1559  0.0145  0.0892 -0.3515 -0.0191  0.2556  0.3996 -0.0990 -0.0630  0.1201\n",
       " 0.3411 -0.4559  0.0047  0.2122  0.2199  0.2319  0.0810 -0.1288  0.0612  0.0069\n",
       "-0.0373  0.0688 -0.0004 -0.1896  0.2401 -0.2490 -0.2084  0.0138 -0.1683 -0.3115\n",
       " 0.1423 -0.2653  0.0499  0.1846 -0.1131 -0.0698  0.0079 -0.0246 -0.0662  0.1047\n",
       " 0.1078  0.0816 -0.1931  0.2456 -0.0496  0.0422  0.0296  0.1108 -0.1253  0.1997\n",
       "-0.2014  0.2243 -0.1445 -0.0265  0.3227  0.2151  0.0303  0.0470 -0.1723  0.2703\n",
       "-0.0972 -0.0518  0.0597 -0.0763 -0.2021  0.1435 -0.0125 -0.0178 -0.2747  0.0694\n",
       " 0.0483  0.0286  0.0361  0.1404  0.0858 -0.1083  0.4128 -0.0899  0.0023 -0.1113\n",
       " 0.0059 -0.0651 -0.0156  0.0434  0.0549  0.0250 -0.0510 -0.1248 -0.2662 -0.1770\n",
       "-0.0324  0.0074 -0.0163 -0.0038 -0.0417  0.0035 -0.0853  0.1652 -0.0140 -0.0977\n",
       " 0.1770 -0.2759 -0.0205 -0.0938  0.0361 -0.0394 -0.2224 -0.1828 -0.0886  0.2085\n",
       "-0.1423  0.1828 -0.1212  0.1411 -0.2927  0.0224  0.0817 -0.3420  0.1337 -0.1104\n",
       "-0.0335 -0.0136  0.1608 -0.0734  0.0624 -0.0533 -0.5026  0.2820 -0.0763  0.0688\n",
       " 0.3138 -0.1001 -0.1266  0.1759  0.1036  0.2363  0.0170 -0.1806 -0.1254  0.0574\n",
       " 0.2287 -0.0161 -0.2065  0.0220  0.2694 -0.0343  0.1610  0.2552  0.0093  0.0760\n",
       " 0.1641 -0.0296  0.1070  0.0789 -0.1081  0.0383 -0.0169 -0.0114  0.0086  0.0199\n",
       "-0.0291 -0.2104 -0.0452  0.1668 -0.4845  0.0255 -0.0508 -0.2612 -0.0980 -0.2075\n",
       "-0.2084  0.1664 -0.0812 -0.1310 -0.0837  0.1139  0.0923  0.2297  0.1041  0.1122\n",
       " 0.3186 -0.1449 -0.0582  0.1245 -0.1689  0.1493  0.1296 -0.0718  0.0603  0.1191\n",
       "-0.0239 -0.1506 -0.0625 -0.2114  0.0315  0.0443  0.1094 -0.0089  0.1472 -0.0630\n",
       "-0.0355  0.2523  0.2436  0.1096  0.1973  0.0959  0.1473 -0.0636 -0.1592 -0.0911\n",
       " 0.2299 -0.0562  0.1026 -0.1358  0.1230  0.0123  0.1594  0.1217 -0.1577  0.0891\n",
       "\n",
       "Columns 30 to 33 \n",
       " 0.0005 -0.1706  0.1697  0.1245\n",
       " 0.0872 -0.0593 -0.0818  0.0673\n",
       "-0.0705 -0.3092 -0.2111 -0.2886\n",
       "-0.0950 -0.0188  0.2148 -0.1240\n",
       "-0.2252 -0.2842 -0.0986 -0.2822\n",
       " 0.0745 -0.0055  0.2978 -0.1147\n",
       "-0.1458  0.3433 -0.0899 -0.1383\n",
       "-0.0653 -0.3276  0.0332 -0.1697\n",
       "-0.0672 -0.0988  0.1394 -0.0627\n",
       "-0.1945 -0.3360  0.0024  0.1279\n",
       " 0.2424 -0.0091 -0.2147  0.2205\n",
       "-0.1552 -0.0416  0.1459 -0.0237\n",
       " 0.0950 -0.1218 -0.2946 -0.0423\n",
       "-0.2083 -0.0610 -0.1702  0.0338\n",
       " 0.0602  0.2547  0.1981 -0.1065\n",
       " 0.3126 -0.2272 -0.1974 -0.0892\n",
       " 0.0421 -0.0534  0.0039  0.0311\n",
       "-0.1181 -0.1454  0.3308  0.0758\n",
       " 0.1312  0.1121 -0.1532 -0.1029\n",
       " 0.0814  0.0533  0.2806 -0.0911\n",
       " 0.0619 -0.0203 -0.3184  0.0345\n",
       "-0.0355  0.2660 -0.1068  0.2922\n",
       "-0.1262 -0.2339  0.2805 -0.3102\n",
       "[torch.FloatTensor of size 23x34]"
      ]
     },
     "execution_count": 59,
     "metadata": {},
     "output_type": "execute_result"
    }
   ],
   "source": [
    "model[(0)].weight"
   ]
  },
  {
   "cell_type": "code",
   "execution_count": 60,
   "metadata": {
    "collapsed": false
   },
   "outputs": [
    {
     "data": {
      "text/plain": [
       "Parameter containing:\n",
       "\n",
       "Columns 0 to 9 \n",
       "-0.4161 -0.0240  0.0656 -0.1072  0.0872  0.2120  0.3104  0.2570 -0.0677 -0.0430\n",
       "-0.2423 -0.1292 -0.8076  0.0377 -0.2166 -0.5742  0.0605  0.0730 -0.1753 -0.0474\n",
       "-0.0393 -0.1640 -0.1941 -0.1224  0.3242  0.0359 -0.1854 -0.0287 -0.0844  0.2357\n",
       "-0.2276  0.1162 -0.0530 -0.0769  0.0249 -0.0636  0.2683  0.1929 -0.0467 -0.0473\n",
       "-0.1422  0.1973 -0.1501  0.0728  0.2280  0.1393 -0.1363  0.1774  0.3617  0.0432\n",
       "-0.3366 -0.0695 -0.0803 -0.2382  0.0627 -0.0075  0.0730 -0.9181 -0.3546  0.2469\n",
       "-0.2240 -0.3008  0.2359  0.1625  0.1047  0.3253  0.2604 -0.2328 -0.1715 -0.1236\n",
       " 0.1306  0.2121  0.1150 -0.4141  0.3064  0.1876  0.0390  0.0242  0.1868  0.0734\n",
       "-0.3658  0.0422 -0.0227 -0.1081 -0.0270 -0.1106 -0.0042  0.2339  0.2806 -0.1283\n",
       "-0.3500 -0.0016 -0.0002 -0.0727  0.1223 -0.0199  0.1579  0.2070  0.1755  0.0979\n",
       "-0.3823  0.1587 -0.2042  0.0874  0.2478  0.1872  0.0735  0.2008 -0.1784  0.0716\n",
       " 0.0348  0.2756  0.1805 -0.0814 -0.1593  0.2671  0.3596  0.0721  0.0608  0.3214\n",
       " 0.0247  0.1913  0.2453 -0.2075 -0.0073 -0.0656  0.0893  0.1270  0.0899  0.1604\n",
       " 0.3712 -0.1433  0.0653  0.3693 -0.0712 -0.1807 -0.1685  0.1428 -0.2680 -0.1763\n",
       "-0.0106  0.1456  0.2241 -0.0582  0.2129  0.2466  0.1093 -0.0305 -0.0055 -0.1027\n",
       "\n",
       "Columns 10 to 19 \n",
       "-0.1236  0.0063 -0.2274  0.1943  0.4342  0.2941  0.1504 -0.1543  0.1593  0.2634\n",
       "-0.1156  0.2915  0.0147 -0.4326  0.1696  0.2309  0.1535  0.0574 -0.2854  0.1617\n",
       " 0.2437 -0.3778 -0.2233  0.1827  0.1116  0.0402 -0.3058 -0.0875  0.1373 -0.0341\n",
       " 0.1042 -0.2496 -0.1159  0.0181 -0.0394  0.1796 -0.0065  0.0995 -0.0292  0.1724\n",
       " 0.0735  0.0091  0.1309 -0.1279  0.3584  0.1780 -0.1710  0.1278  0.0268 -0.0861\n",
       " 0.1852 -0.2480 -0.0709  0.1458 -0.0459  0.2270  0.1908 -0.6699 -0.0792 -0.0669\n",
       "-0.0300 -0.0514 -0.1743  0.0041 -0.1221 -0.1285 -0.1513 -0.2856 -0.1936 -0.0224\n",
       "-0.0089 -0.2047 -0.0525  0.0850  0.1903 -0.1301 -0.4347 -0.0497 -0.0877 -0.1969\n",
       "-0.4178  0.3141 -0.0409 -0.5185 -0.1202 -0.0678 -0.0194 -0.0436 -0.0629 -0.0457\n",
       " 0.2198 -0.0364  0.0808  0.0012 -0.0891  0.1401  0.0890 -0.3166  0.0923  0.3164\n",
       "-0.4586  0.2366  0.1460  0.0471 -0.2519  0.0409  0.0037 -0.3544 -0.1380 -0.0529\n",
       " 0.0417 -0.0324 -0.1598  0.0233  0.0743  0.0777 -0.1088  0.0371  0.1135 -0.0866\n",
       "-0.1114 -0.1434 -0.1797  0.1468  0.0059 -0.0009 -0.2927  0.1664  0.0871 -0.0868\n",
       "-0.4058 -0.3191  0.4273  0.2047  0.2952  0.1380  0.1822 -0.1535 -0.1322 -0.2762\n",
       "-0.0779 -0.1233 -0.4462  0.1833  0.0024  0.1511 -0.2801 -0.1035 -0.0775  0.2571\n",
       "\n",
       "Columns 20 to 22 \n",
       " 0.1389  0.2073  0.2441\n",
       " 0.0574 -0.1718 -0.5738\n",
       "-0.0378  0.2543 -0.0581\n",
       " 0.3481  0.2141  0.0372\n",
       "-0.1109  0.1672  0.2607\n",
       "-0.0189  0.0288  0.0346\n",
       " 0.3220 -0.0512  0.0936\n",
       " 0.0953 -0.1353  0.1973\n",
       "-0.0567 -0.0323  0.0492\n",
       "-0.3711  0.1966  0.1255\n",
       " 0.1970  0.1349 -0.0329\n",
       "-0.1796 -0.0413 -0.0575\n",
       "-0.1612  0.0699  0.0147\n",
       " 0.0126 -0.0016  0.2149\n",
       "-0.0507  0.0639  0.0690\n",
       "[torch.FloatTensor of size 15x23]"
      ]
     },
     "execution_count": 60,
     "metadata": {},
     "output_type": "execute_result"
    }
   ],
   "source": [
    "model[(2)].weight"
   ]
  },
  {
   "cell_type": "code",
   "execution_count": 61,
   "metadata": {
    "collapsed": false
   },
   "outputs": [
    {
     "data": {
      "text/plain": [
       "Parameter containing:\n",
       "\n",
       "Columns 0 to 9 \n",
       " 0.2085 -0.0064  0.0782 -0.1580  0.1354 -0.2867  0.5682  0.2805 -0.1978 -0.0612\n",
       " 0.2917  0.0528 -0.0530  0.3434  0.2658  0.0014 -0.2894  0.0124  0.3521  0.1226\n",
       " 0.1191 -0.0235 -0.1195 -0.1165 -0.2638 -0.2506 -0.1977  0.0604  0.0931  0.1024\n",
       " 0.0891  0.8177 -0.2746 -0.1008  0.4176  0.3617  0.4061 -0.2175 -0.6761  0.0372\n",
       " 0.3577  0.4280 -0.2113  0.2789  0.2057 -0.1923 -0.0548  0.0851  0.1636  0.1615\n",
       " 0.0713 -0.2818  0.3089  0.2977 -0.1603  0.0231 -0.2122  0.1188  0.1581  0.2404\n",
       " 0.1724 -0.1705  0.2859  0.0483  0.2034 -0.1525 -0.4102  0.2443  0.4442  0.0494\n",
       "-0.3206 -0.4539 -0.1433 -0.0158 -0.1045 -1.7466 -0.0925 -0.8731  0.3499  0.7832\n",
       " 0.3235  0.3020 -0.0554 -0.0478 -0.0957 -0.2131  0.0372  0.0557  0.3123 -0.0602\n",
       " 0.1542 -0.2224 -0.0122  0.2998  0.1937 -0.2104 -0.9808 -0.1462  0.3106  0.0887\n",
       "\n",
       "Columns 10 to 14 \n",
       "-0.4032  0.0998  0.1418 -0.2917  0.3914\n",
       "-0.6341  0.3342  0.2225 -0.0537  0.3338\n",
       " 0.1514  0.0187 -0.2445 -0.1883  0.0156\n",
       " 0.3545  0.0630 -0.1685 -0.8780 -0.0311\n",
       " 0.3411 -0.1173 -0.1125 -0.5265  0.1630\n",
       "-0.0761  0.2843  0.0392 -0.0888  0.2095\n",
       "-0.4881  0.3282  0.2919 -0.0045  0.1174\n",
       "-0.0587  0.0354 -0.0226  0.2641 -0.7491\n",
       "-0.2634  0.1912  0.1520  0.4274  0.3196\n",
       "-0.6140  0.0908  0.2029  0.1725 -0.0607\n",
       "[torch.FloatTensor of size 10x15]"
      ]
     },
     "execution_count": 61,
     "metadata": {},
     "output_type": "execute_result"
    }
   ],
   "source": [
    "model[(4)].weight"
   ]
  },
  {
   "cell_type": "code",
   "execution_count": 62,
   "metadata": {
    "collapsed": false
   },
   "outputs": [
    {
     "data": {
      "text/plain": [
       "Parameter containing:\n",
       " 0.0079  0.3098 -0.2550 -0.1990  0.1649  0.2839  0.2844  2.1343  0.1264  0.1734\n",
       " 0.3495 -0.0809 -0.2871 -0.4957  0.0260  0.1008  0.0849  2.0482  0.1324  0.2503\n",
       " 0.0217  0.2025  0.0715 -0.4801  0.1226  0.2126  0.2069  2.2053  0.1665 -0.1949\n",
       " 0.3372 -0.1426 -0.2045  0.3147  0.3261 -0.2032 -0.1378 -1.1395  0.0481 -0.1873\n",
       "-0.3544  0.2420  0.1906  0.8003  0.2279 -0.2716  0.1201 -0.7671 -0.3244  0.2315\n",
       "-0.2998  0.1010 -0.0781 -0.5815  0.1756 -0.1110  0.3404  1.9461  0.0369  0.3017\n",
       "-0.4797 -0.3406  0.1273  0.9327  0.0969  0.0728 -0.5269 -0.9674 -0.0319 -0.2883\n",
       "[torch.FloatTensor of size 7x10]"
      ]
     },
     "execution_count": 62,
     "metadata": {},
     "output_type": "execute_result"
    }
   ],
   "source": [
    "model[(6)].weight"
   ]
  },
  {
   "cell_type": "code",
   "execution_count": 63,
   "metadata": {
    "collapsed": false
   },
   "outputs": [
    {
     "data": {
      "text/plain": [
       "Parameter containing:\n",
       " 0.4190  0.4314  0.0225 -0.5592 -1.0204  0.4019 -0.3167\n",
       "[torch.FloatTensor of size 1x7]"
      ]
     },
     "execution_count": 63,
     "metadata": {},
     "output_type": "execute_result"
    }
   ],
   "source": [
    "model[(8)].weight"
   ]
  },
  {
   "cell_type": "markdown",
   "metadata": {},
   "source": [
    "## Round 5: Five-Hidden-Layer Neural Network"
   ]
  },
  {
   "cell_type": "code",
   "execution_count": 64,
   "metadata": {
    "collapsed": true
   },
   "outputs": [],
   "source": [
    "# Make the torch Tensor into a PyTorch Variable for dependent variables\n",
    "outcomes_Variable = Variable(outcomes_Tensor)\n",
    "\n",
    "\n",
    "# ...for independent variables\n",
    "features_Variable = Variable(features_Tensor,\n",
    "                             requires_grad = False)"
   ]
  },
  {
   "cell_type": "code",
   "execution_count": 65,
   "metadata": {
    "collapsed": true
   },
   "outputs": [],
   "source": [
    "# Make the neural network\n",
    "model = torch.nn.Sequential(torch.nn.Linear(34, 23),\n",
    "                            torch.nn.ReLU(),\n",
    "                            torch.nn.Linear(23, 15),\n",
    "                            torch.nn.ReLU(),\n",
    "                            torch.nn.Linear(15, 10),\n",
    "                            torch.nn.ReLU(),\n",
    "                            torch.nn.Linear(10, 7),\n",
    "                            torch.nn.ReLU(),\n",
    "                            torch.nn.Linear(7, 5),\n",
    "                            torch.nn.ReLU(),\n",
    "                            torch.nn.Linear(5, 1))"
   ]
  },
  {
   "cell_type": "code",
   "execution_count": 66,
   "metadata": {
    "collapsed": true
   },
   "outputs": [],
   "source": [
    "# To add errors to\n",
    "errors = []\n",
    "\n",
    "\n",
    "# Set the learning rate\n",
    "learning_rate = 1e-2\n",
    "\n",
    "\n",
    "# Define the model's optimizer\n",
    "optimizer = torch.optim.Adagrad(model.parameters(), lr = learning_rate)\n",
    "\n",
    "\n",
    "# Train the neural network\n",
    "for t in range(10000):\n",
    "    \n",
    "    # Get the current predictions\n",
    "    y_pred = model(features_Variable)\n",
    "    \n",
    "    # Compute and append current summed errors\n",
    "    loss = loss_fn(y_pred, outcomes_Variable)\n",
    "    errors.append(loss.data[0])\n",
    "    \n",
    "    # Zero the gradients before running the backward pass.\n",
    "    optimizer.zero_grad()\n",
    "    \n",
    "    # Backward pass: compute gradient of the loss with respect to all the learnable Variables\n",
    "    loss.backward()\n",
    "    \n",
    "    # Update the weights using Adagrad\n",
    "    optimizer.step()"
   ]
  },
  {
   "cell_type": "code",
   "execution_count": 67,
   "metadata": {
    "collapsed": false
   },
   "outputs": [
    {
     "data": {
      "text/plain": [
       "<matplotlib.collections.PathCollection at 0x7f95854ac7b8>"
      ]
     },
     "execution_count": 67,
     "metadata": {},
     "output_type": "execute_result"
    },
    {
     "data": {
      "image/png": "[encoded data removed]",
      "text/plain": [
       "<matplotlib.figure.Figure at 0x7f9585555f98>"
      ]
     },
     "metadata": {},
     "output_type": "display_data"
    }
   ],
   "source": [
    "# Plot summed error as a function of iteration\n",
    "plt.scatter(iterations, errors, c = \"black\", alpha = 0.25)"
   ]
  },
  {
   "cell_type": "code",
   "execution_count": 68,
   "metadata": {
    "collapsed": true
   },
   "outputs": [],
   "source": [
    "# Get rid of the 2nd dimension of 1 from the FloatTensor\n",
    "y_pred_resized = y_pred.resize(8308)\n",
    "\n",
    "\n",
    "# Make the FloatTensor into a numpy.array\n",
    "y_pred_array = y_pred_resized.data.numpy()\n",
    "\n",
    "\n",
    "# Make the numpy.array into a list\n",
    "y_pred_list = y_pred_array.tolist()"
   ]
  },
  {
   "cell_type": "code",
   "execution_count": 69,
   "metadata": {
    "collapsed": false
   },
   "outputs": [
    {
     "data": {
      "text/plain": [
       "[<matplotlib.lines.Line2D at 0x7f95854ee6a0>]"
      ]
     },
     "execution_count": 69,
     "metadata": {},
     "output_type": "execute_result"
    },
    {
     "data": {
      "image/png": "[encoded data removed]",
      "text/plain": [
       "<matplotlib.figure.Figure at 0x7f95854ee400>"
      ]
     },
     "metadata": {},
     "output_type": "display_data"
    }
   ],
   "source": [
    "# Plot predictions versus training set outcomes\n",
    "plt.scatter(outcomes_list, y_pred_list, c = \"black\", alpha = 0.15)\n",
    "\n",
    "axes = plt.gca()\n",
    "\n",
    "axes.set_xlim([-2, 4])\n",
    "\n",
    "axes.set_ylim([-2, 4])\n",
    "\n",
    "plt.plot([-2, 4], [-2, 4], 'k-', lw=2)"
   ]
  },
  {
   "cell_type": "markdown",
   "metadata": {},
   "source": [
    "### Round 5.1 Validation Set Performance"
   ]
  },
  {
   "cell_type": "code",
   "execution_count": 70,
   "metadata": {
    "collapsed": false
   },
   "outputs": [
    {
     "data": {
      "text/plain": [
       "Variable containing:\n",
       " 308.3843\n",
       "[torch.FloatTensor of size 1]"
      ]
     },
     "execution_count": 70,
     "metadata": {},
     "output_type": "execute_result"
    }
   ],
   "source": [
    "# Get the validation set predictions\n",
    "y_valid_pred = model(valid_predictors_Variable)\n",
    "\n",
    "\n",
    "# Print the loss\n",
    "loss_fn(y_valid_pred,\n",
    "        valid_outcomes_Variable)"
   ]
  },
  {
   "cell_type": "code",
   "execution_count": 71,
   "metadata": {
    "collapsed": true
   },
   "outputs": [],
   "source": [
    "# Get rid of the 2nd dimension of 1 from the FloatTensor\n",
    "y_valid_pred_resized = y_valid_pred.resize(2808)\n",
    "\n",
    "\n",
    "# Make the FloatTensor into a numpy.array\n",
    "y_valid_pred_array = y_valid_pred_resized.data.numpy()\n",
    "\n",
    "\n",
    "# Convert back to log scale\n",
    "y_valid_pred_array = y_valid_pred_array*5.407597 + 7.688844\n",
    "\n",
    "\n",
    "# Make the numpy.array into a list\n",
    "y_valid_pred_list = y_valid_pred_array.tolist()"
   ]
  },
  {
   "cell_type": "code",
   "execution_count": 72,
   "metadata": {
    "collapsed": false
   },
   "outputs": [
    {
     "data": {
      "text/plain": [
       "<matplotlib.text.Text at 0x7f95853ac9e8>"
      ]
     },
     "execution_count": 72,
     "metadata": {},
     "output_type": "execute_result"
    },
    {
     "data": {
      "image/png": "[encoded data removed]",
      "text/plain": [
       "<matplotlib.figure.Figure at 0x7f9585555a58>"
      ]
     },
     "metadata": {},
     "output_type": "display_data"
    }
   ],
   "source": [
    "# Plot new predictions versus new data outcomes\n",
    "plt.scatter(valid_outcomes_list, y_valid_pred_list, c = \"black\", alpha = 0.15)\n",
    "\n",
    "axes = plt.gca()\n",
    "\n",
    "axes.set_xlim([0, 24])\n",
    "\n",
    "axes.set_ylim([0, 24])\n",
    "\n",
    "axes.set_xticks([0, 4, 8, 12, 16, 20, 24])\n",
    "\n",
    "axes.set_yticks([0, 4, 8, 12, 16, 20, 24])\n",
    "\n",
    "plt.plot([0, 24], [0, 24], 'k-', lw = 2)\n",
    "\n",
    "axes.set_xlabel(\"Actual Outcome (Log-Transformed US Dollars)\")\n",
    "\n",
    "axes.set_ylabel(\"Model Prediction (Log-Transformed US Dollars)\")\n",
    "\n",
    "axes.set_title(\"Model Performance\")"
   ]
  },
  {
   "cell_type": "code",
   "execution_count": 73,
   "metadata": {
    "collapsed": false
   },
   "outputs": [
    {
     "data": {
      "text/plain": [
       "Parameter containing:\n",
       "\n",
       "Columns 0 to 9 \n",
       "-0.1990 -0.2897 -0.2416  0.2964  0.1735  0.2461 -0.3368 -0.0339 -0.3388  0.0782\n",
       " 0.1972  0.0161 -0.1588 -0.1437  0.0944 -0.0439 -0.5897 -0.0708  0.2629  0.1623\n",
       "-0.0993  0.1122 -0.0311 -0.0008  0.2900  0.0180  0.1747  0.0114  0.0268  0.0010\n",
       "-0.0107  0.1519  0.2596  0.2645 -0.1380 -0.0621  0.2531  0.2504  0.0650  0.1559\n",
       "-0.0210  0.1068  0.1070  0.3072 -0.2759 -0.1245 -0.3579  0.0263  0.1399 -0.1326\n",
       " 0.1458  0.1002  0.1602  0.0106 -0.1627 -0.0835 -0.2109  0.1216 -0.0246 -0.1291\n",
       "-0.0273 -0.1360  0.6338  0.2117  0.0115 -0.2670  0.3529 -0.0055 -0.1026  0.1177\n",
       "-0.0197 -0.0989  0.3147  0.2089  0.3066  0.3162 -0.0271 -0.1292 -0.1368  0.1451\n",
       " 0.0738 -0.0451 -0.2131 -0.0559  0.0492  0.0397  0.2685 -0.0987  0.0993  0.1774\n",
       "-0.1618  0.3351 -0.0866  0.3179  0.0671 -0.2553  0.7422  0.0143 -0.0181  0.0094\n",
       "-0.1639 -0.0418  0.1996  0.2308 -0.1676 -0.0735  1.1406  0.0286  0.0656 -0.2377\n",
       " 0.0704 -0.0265 -0.0361 -0.0506  0.0848  0.0971  0.0993  0.1826 -0.1891 -0.2612\n",
       "-0.0689  0.0927 -0.2727  0.0210  0.1970  0.0764  0.1344 -0.1351  0.4004  0.0230\n",
       "-0.1328  0.1117  0.2773  0.0138 -0.2095  0.4779 -1.1995 -0.1955 -0.1016 -0.0223\n",
       "-0.0923  0.1004  0.0997  0.4316  0.2494 -0.1535 -0.6017  0.0514 -0.0232  0.0679\n",
       " 0.2269  0.2879  0.3193 -0.1592  0.3055 -0.3142  0.2454 -0.2511  0.1662  0.1015\n",
       "-0.0416  0.0704 -0.2676  0.0338  0.2345  0.1950  0.3250  0.0113  0.0042 -0.0614\n",
       " 0.0193 -0.0557  0.1778  0.2458 -0.0241  0.0409 -0.5109  0.0599  0.0370  0.1790\n",
       " 0.2314  0.2137  0.1509  0.1947  0.0391 -0.1729  0.3159 -0.0110  0.1828 -0.3069\n",
       " 0.1920 -0.3591 -0.0076  0.0838 -0.0955 -0.0518  0.0337  0.0301  0.3820 -0.1345\n",
       " 0.0967 -0.0162  0.1271 -0.1335  0.0665  0.1764  0.1902  0.1042 -0.1922 -0.1676\n",
       " 0.2099  0.0925 -0.1998  0.1676  0.1190 -0.2728  0.2224 -0.0074  0.0455  0.0406\n",
       " 0.1255  0.4277  0.1768  0.0575  0.0059  0.3640  0.4709 -0.2450 -0.0199  0.1305\n",
       "\n",
       "Columns 10 to 19 \n",
       "-0.2001 -0.3495  0.2755  0.0597  0.0925  0.3657 -0.4947  0.0726 -0.0846  0.3786\n",
       " 0.3019  0.1640 -0.0290 -0.0160  0.0814 -0.2900  0.2531  0.2551 -0.1982  0.1171\n",
       " 0.0925  0.2769 -0.0238 -0.1192  0.0236 -0.1011 -0.1030 -0.3482  0.0143 -0.1522\n",
       "-0.1390  0.2101 -0.0702  0.1790  0.1555  0.0614  0.0212  0.2548  0.0707 -0.0784\n",
       " 0.0798  0.0809  0.1043 -0.0367  0.1146  0.2296  0.0117 -0.1019 -0.0238 -0.1114\n",
       " 0.1723 -0.1679 -0.0422 -0.2985  0.1062  0.0158  0.1029  0.1057 -0.0387 -0.1273\n",
       " 0.0693 -0.0123 -0.0422 -0.1079 -0.0700  0.1058 -0.0444  0.3967 -0.1640 -0.0269\n",
       "-0.5956  0.4386 -0.0077 -0.2158 -0.1254  0.1286  0.4249  0.1937 -0.2945  0.1726\n",
       " 0.3419 -0.1414  0.0244  0.0167 -0.3322 -0.0126  0.1036 -0.2317  0.0396  0.1173\n",
       " 0.0738  0.2037  0.0409 -0.0811  0.0442  0.0963 -0.0393 -0.1358  0.0514 -0.3965\n",
       " 0.2096 -0.0065  0.0266 -0.0753 -0.0243  0.1656 -0.2143  0.0215 -0.1077  0.1186\n",
       "-0.1673  0.1401  0.0881  0.0831  0.0620  0.2772 -0.0315 -0.1178  0.0429 -0.0054\n",
       "-0.0390 -0.2268 -0.1043  0.0753  0.0524 -0.0521  0.2727 -0.0082 -0.0614  0.0182\n",
       "-0.1833 -0.0567  0.0866  0.1161 -0.0566 -0.1033 -0.0516 -0.0583 -0.0644 -0.0075\n",
       " 0.1355  0.0350  0.0290  0.2017 -0.4981  0.0336 -0.0206 -0.1330 -0.1915  0.1565\n",
       "-0.3083 -0.0031  0.1580  0.2115 -0.1150 -0.3209  0.1451 -0.2195  0.2404  0.4232\n",
       " 0.3235  0.1268 -0.1765 -0.0280 -0.0654 -0.0632 -0.1266 -0.2355  0.0309 -0.2710\n",
       " 0.1883 -0.0262 -0.3480  0.1003 -0.2300 -0.1084 -0.0955  0.2052  0.2625 -0.0504\n",
       " 0.0113 -0.1420  0.1207  0.0387  0.0256  0.0052  0.1995  0.0436  0.1026 -0.0343\n",
       " 0.0190 -0.0113  0.1747  0.0859  0.0108  0.2349 -0.2057  0.0121  0.1956 -0.0033\n",
       " 0.0231 -0.0700  0.0764  0.1595  0.4333 -0.1872  0.0716 -0.0476  0.2221  0.0056\n",
       "-0.1522 -0.1619  0.1890  0.2251  0.1696  0.0381 -0.1401 -0.0577  0.0628  0.1279\n",
       "-0.0037  0.1005 -0.0503  0.0307  0.2424 -0.0214 -0.1072  0.0118 -0.1595  0.0126\n",
       "\n",
       "Columns 20 to 29 \n",
       "-0.0839  0.2548 -0.0909  0.3306  0.1616 -0.0027 -0.0346 -0.1801  0.0314  0.0808\n",
       " 0.0250  0.1317 -0.1371 -0.1159  0.2258 -0.0363 -0.1505  0.3846 -0.2265 -0.0716\n",
       "-0.1321  0.0007 -0.0486 -0.0636  0.0683  0.0697 -0.0050  0.0494  0.0993  0.1342\n",
       " 0.1874 -0.1935  0.0028 -0.0939  0.2853 -0.0169  0.0316 -0.0655 -0.1190 -0.1042\n",
       " 0.0178 -0.1023  0.0082 -0.2313  0.2491 -0.0724 -0.1273  0.0916 -0.1903 -0.1832\n",
       " 0.1044 -0.2804  0.0850  0.3279  0.0585  0.1633  0.0949  0.2038  0.0204  0.1263\n",
       " 0.1529 -0.0439 -0.1965 -0.0519  0.1597  0.0617  0.0956 -0.0721  0.0584  0.1675\n",
       "-0.1865  0.2261 -0.0530 -0.3701 -0.0012 -0.1651  0.2144  0.0193 -0.3982  0.0385\n",
       " 0.2067 -0.0368  0.0920 -0.3185 -0.0635 -0.0517  0.0578 -0.2232 -0.2249 -0.0322\n",
       "-0.0569  0.0283 -0.0174 -0.0510  0.1729 -0.0043 -0.0881  0.2374  0.0202 -0.0203\n",
       " 0.1125  0.0983 -0.1109  0.0486  0.0901  0.1218  0.1939  0.1134  0.1024  0.1438\n",
       " 0.0269 -0.2720  0.1650  0.0087  0.1107 -0.0190  0.2158 -0.0521 -0.1614  0.1725\n",
       "-0.2027  0.2241  0.0750 -0.3750 -0.0277  0.0450  0.0159  0.4033  0.0874  0.0686\n",
       "-0.0434  0.2433  0.0791  0.1301  0.0725  0.0642 -0.0347  0.0094  0.1669  0.1021\n",
       " 0.0038  0.0627  0.1681  0.2535 -0.0878  0.0687 -0.1223 -0.1047 -0.1394 -0.1015\n",
       " 0.1047  0.0250  0.1866  0.0660  0.0897  0.2110 -0.0028 -0.1281  0.0089 -0.0820\n",
       "-0.1242  0.1885  0.0042 -0.1114  0.2664  0.0957  0.0501  0.0788 -0.0142  0.0624\n",
       "-0.0152  0.0174 -0.0393 -0.2419  0.1796  0.1027  0.0950  0.1203 -0.1588  0.1185\n",
       " 0.1732  0.0578  0.0765  0.0836  0.0907  0.0227  0.2517 -0.2041  0.2396 -0.0005\n",
       " 0.1123 -0.1241  0.0239 -0.0185  0.0492  0.2282  0.1083  0.0157 -0.0114 -0.0540\n",
       "-0.1125  0.3486 -0.0056  0.1088  0.0147 -0.0745  0.1816 -0.0935 -0.1135  0.2589\n",
       "-0.1198 -0.3711  0.1135  0.2104  0.2500  0.0887 -0.4442 -0.1125  0.1524  0.0507\n",
       "-0.0404  0.1629 -0.0146  0.0783  0.2220  0.0329 -0.0703  0.2668  0.0535  0.0536\n",
       "\n",
       "Columns 30 to 33 \n",
       " 0.1664  0.2291  0.1627 -0.2122\n",
       " 0.2314  0.0051  0.3157 -0.2086\n",
       "-0.0174  0.1663  0.1389 -0.0238\n",
       "-0.2608  0.0040  0.2951 -0.1454\n",
       "-0.1935  0.1317 -0.1641 -0.0345\n",
       "-0.1601 -0.2393 -0.1359 -0.1890\n",
       "-0.0123  0.0045  0.2140 -0.1238\n",
       " 0.5322  0.4201  0.0575  0.1519\n",
       " 0.3831 -0.1732  0.0537  0.0949\n",
       " 0.2332  0.0757 -0.1524 -0.0574\n",
       "-0.1248  0.3930 -0.0143 -0.1821\n",
       "-0.0490 -0.4521  0.1477  0.2306\n",
       " 0.0528 -0.2694  0.0020 -0.4058\n",
       " 0.1346 -0.2028  0.1722  0.0981\n",
       "-0.1129 -0.0307  0.0224 -0.0969\n",
       " 0.0364  0.1748 -0.1344 -0.0675\n",
       " 0.3559 -0.0825  0.2524 -0.1473\n",
       "-0.1860  0.0736  0.0571 -0.0397\n",
       "-0.0748  0.2906 -0.0160 -0.0646\n",
       " 0.0225  0.0203 -0.0833  0.0278\n",
       "-0.2714 -0.2863  0.2514  0.2436\n",
       " 0.3278 -0.5897 -0.1339 -0.0992\n",
       "-0.1515  0.1447 -0.0661  0.2089\n",
       "[torch.FloatTensor of size 23x34]"
      ]
     },
     "execution_count": 73,
     "metadata": {},
     "output_type": "execute_result"
    }
   ],
   "source": [
    "model[(0)].weight"
   ]
  },
  {
   "cell_type": "code",
   "execution_count": 74,
   "metadata": {
    "collapsed": false
   },
   "outputs": [
    {
     "data": {
      "text/plain": [
       "Parameter containing:\n",
       "\n",
       "Columns 0 to 5 \n",
       " 1.9019e-02 -2.2453e-02 -4.5486e-01  2.8094e-01  2.2054e-01  8.1711e-02\n",
       " 4.0546e-01  8.6624e-02  2.1064e-02  6.4912e-02 -6.6578e-02  1.4434e-01\n",
       " 3.3405e-01  4.7995e-02  2.5345e-01  2.9114e-02 -1.6735e-01  1.2821e-01\n",
       "-2.7814e-02 -4.3857e-02  4.6430e-02  2.6674e-01  4.0529e-01 -1.9809e-01\n",
       " 8.2829e-02  1.8853e-01  3.6831e-02 -1.8723e-01 -7.0780e-02 -3.9113e-01\n",
       " 2.7975e-01  2.6167e-01  2.0449e-01 -4.6737e-04  1.9197e-01  1.9389e-01\n",
       "-1.2645e-01  1.3624e-01 -5.5535e-01  8.0861e-03  3.6848e-01 -4.1799e-01\n",
       " 1.9338e-03  1.0967e-01  2.7405e-01 -4.9144e-01 -2.4846e-01  8.7600e-02\n",
       " 7.0924e-05  3.3287e-01  1.6683e-01 -6.1751e-02 -5.6670e-02  7.6759e-02\n",
       " 4.0174e-01  9.8898e-02 -1.1630e-01  3.1286e-01  3.4947e-01  1.1433e-01\n",
       " 2.0588e-01  7.7062e-02 -2.6350e-01 -4.0399e-01  2.0118e-01  4.5932e-01\n",
       " 3.2595e-02  1.2366e-01 -7.9615e-02  2.4373e-02 -1.4079e-01 -9.2286e-02\n",
       " 1.0635e-01 -3.0829e-01 -1.1731e-01 -2.2772e-01  1.7327e-01  2.7168e-01\n",
       " 1.8515e-02  1.3434e-01  4.0206e-01 -4.3170e-01 -5.1537e-02  2.1857e-01\n",
       " 1.3189e-02  3.2287e-03  3.3296e-01 -3.7468e-02 -2.5039e-01  8.8191e-03\n",
       "\n",
       "Columns 6 to 11 \n",
       "-4.4564e-03 -3.4136e-02 -5.8891e-02  1.3624e-01 -2.5762e-02 -3.1773e-01\n",
       " 2.0445e-01 -1.9956e-02 -5.3907e-02  3.3813e-01 -7.0164e-02  2.6378e-01\n",
       " 1.4707e-01  3.8387e-01 -3.7192e-02  2.3247e-01  4.9706e-02 -2.1951e-02\n",
       "-1.1686e-01  2.7217e-01  2.4139e-01 -1.6051e-02 -3.0402e-03 -3.1328e-01\n",
       "-7.9479e-02  1.8697e-01 -3.9251e-01  2.2217e-01 -9.5445e-02  2.7186e-01\n",
       "-4.4149e-02  3.4933e-01  1.8427e-01  1.9387e-01  1.1700e-02 -1.7691e-02\n",
       "-3.1744e-01 -8.1874e-06  6.1276e-02 -9.8266e-03  3.3228e-01 -2.0526e-01\n",
       "-8.6494e-02  9.2909e-02  5.1991e-01  1.3654e-01  7.5752e-03 -2.0515e-01\n",
       "-4.2878e-02  9.3996e-03  8.7552e-02  1.8327e-01 -5.7674e-02  1.5002e-01\n",
       " 2.8371e-01  1.8655e-02 -4.7118e-02  1.2110e-01 -1.3525e-01 -2.2454e-01\n",
       "-5.8238e-02 -2.6276e-02 -1.4346e-01 -8.7725e-02  4.0088e-02 -2.4789e-01\n",
       " 1.4328e-01  1.2480e-02  4.1717e-02  8.4037e-02  1.1771e-01 -1.9821e-01\n",
       " 1.6235e-01  5.9934e-02 -3.1586e-01 -1.4949e-01  1.1220e-01 -2.9640e-01\n",
       " 3.8852e-01  4.1434e-01 -9.6436e-02  6.3570e-02  3.3394e-01 -1.1901e-01\n",
       " 1.9920e-01 -1.7334e-02  1.2268e-01  2.5674e-01  1.7492e-01 -1.6920e-01\n",
       "\n",
       "Columns 12 to 17 \n",
       " 1.3282e-01  5.2814e-02  1.1105e-01  3.0448e-01 -3.7107e-01 -2.4455e-01\n",
       "-4.1286e-01 -2.6135e-01 -6.1495e-02  1.8204e-01  1.5524e-02  1.2489e-01\n",
       "-1.2391e-01  1.6064e-01  1.0184e-02  8.7997e-02 -9.2241e-02  3.2954e-02\n",
       " 6.2290e-02  2.5317e-01  3.3170e-01 -1.7992e-01 -1.3775e-01  4.1060e-02\n",
       "-2.8253e-01  5.7199e-02 -1.6261e-01 -1.3256e-01  2.3966e-01  3.3262e-02\n",
       "-6.8066e-02 -2.1313e-02  2.6415e-01  5.8700e-02 -2.2937e-01  1.7818e-01\n",
       "-1.3410e-01  1.1227e-01 -5.5079e-01 -2.6137e-02  3.7374e-01 -1.5575e-01\n",
       " 1.7303e-01 -5.1637e-02  2.9127e-01  1.5278e-01 -3.1739e-01  3.1414e-01\n",
       " 2.1118e-01 -1.7184e-01  1.6702e-01 -1.5134e-01 -2.3178e-01  2.3739e-01\n",
       "-1.7909e-01  1.3622e-01 -2.1768e-01  3.9847e-01 -8.2939e-02 -5.0664e-02\n",
       "-1.5047e-01  2.0517e-01  2.6774e-01 -4.1975e-01 -2.5584e-02 -4.0839e-01\n",
       "-1.2836e-01  1.9866e-01  7.1637e-02 -1.7600e-01 -1.0832e-01  2.2619e-01\n",
       "-4.4012e-03 -1.1404e+00 -1.3378e-01  8.8651e-02  2.9152e-02 -2.8948e-01\n",
       "-4.8188e-01 -3.4492e-01  1.7398e-01 -4.3449e-02 -1.7694e-01  2.0292e-01\n",
       "-9.1660e-02  2.2506e-01  1.3694e-01 -4.9505e-02 -1.6574e-01  3.7705e-01\n",
       "\n",
       "Columns 18 to 22 \n",
       "-3.6120e-01 -1.5279e-01 -1.6995e-01 -5.9324e-03  2.8754e-01\n",
       "-1.7518e-01 -2.2434e-01 -3.6845e-01  2.0281e-01  3.2078e-02\n",
       "-2.8585e-02  1.1510e-01 -7.2447e-03 -6.5773e-02  2.7955e-01\n",
       "-1.2469e-01  8.9423e-02  1.4500e-01  1.1414e-01  1.7920e-01\n",
       "-1.8188e-01 -1.7479e-01 -3.8421e-01 -6.9833e-02  1.2670e-01\n",
       " 2.7814e-01  4.5685e-02  7.3007e-02 -1.8521e-01  1.2698e-01\n",
       "-3.4747e-01 -7.4354e-01 -8.6730e-02  2.7856e-01 -1.6614e-01\n",
       " 1.9861e-01 -1.0230e-03  5.8259e-02  2.4485e-01  1.6339e-01\n",
       " 2.1060e-01 -5.1577e-02  1.6713e-01  5.5239e-02 -3.7270e-02\n",
       " 2.4636e-01  1.4506e-01 -2.7992e-01 -3.7465e-01 -1.1054e-01\n",
       " 1.8686e-01  4.8528e-02  1.5231e-01  1.5653e-02 -7.7047e-02\n",
       " 2.5320e-01  2.1274e-01  8.0524e-02  3.2949e-01  2.6316e-01\n",
       "-2.2677e-02  3.0841e-01  1.9955e-01 -1.8911e-01 -2.0492e-01\n",
       "-1.7270e-01  1.8759e-01 -8.4131e-02  1.8531e-02  6.4395e-02\n",
       " 7.6074e-02  1.7713e-01 -2.2110e-01  2.7602e-01 -8.6617e-02\n",
       "[torch.FloatTensor of size 15x23]"
      ]
     },
     "execution_count": 74,
     "metadata": {},
     "output_type": "execute_result"
    }
   ],
   "source": [
    "model[(2)].weight"
   ]
  },
  {
   "cell_type": "code",
   "execution_count": 75,
   "metadata": {
    "collapsed": false
   },
   "outputs": [
    {
     "data": {
      "text/plain": [
       "Parameter containing:\n",
       "\n",
       "Columns 0 to 9 \n",
       " 0.2389  0.0221 -0.0049 -0.3827 -0.1609  0.2325 -0.2667 -0.0491 -0.0745 -0.5995\n",
       " 0.0174  0.2571  0.2302 -0.2320 -0.3035  0.0944 -0.6010  0.2230  0.2868 -0.3600\n",
       "-0.0994 -0.1641 -0.0887  0.0462 -0.1232  0.1754  0.2035 -0.0105 -0.2339 -0.2862\n",
       "-0.3724 -0.0908 -0.0680 -0.5140 -0.0119  0.0395  0.1217  0.2881  0.2660 -0.8418\n",
       " 0.5897  0.0796 -0.1281  0.0776  0.0006  0.1366 -0.6406  0.3506  0.2409 -0.1758\n",
       " 0.5944  0.3137  0.2076 -0.3975 -0.0434  0.0672 -0.8762 -0.2730  0.2817  0.0637\n",
       " 0.1635  0.3033  0.1937 -0.2340 -0.7883  0.0899 -0.1755 -0.0007  0.2189 -0.3451\n",
       "-0.3565  0.4924  0.1787  0.2345 -0.3255 -0.1136  0.2656 -0.1668 -0.5234 -0.2980\n",
       "-0.4486  0.0775 -0.3757  0.4653  0.3934 -0.3829  0.9490  0.2823  0.0431  0.4187\n",
       " 0.1909 -0.0943 -0.1592 -0.1076  0.1467 -0.1937 -0.1514 -0.1708 -0.1866 -0.0684\n",
       "\n",
       "Columns 10 to 14 \n",
       " 0.1492  0.3644  0.0213  0.0135  0.1670\n",
       "-0.0159  0.2117 -0.1898  0.2476  0.2502\n",
       "-0.1799 -0.1522 -0.1260 -0.0435 -0.1937\n",
       "-0.4899  0.1796  1.0334  0.3327 -0.2062\n",
       "-0.1883  0.0060  0.3723  0.1230  0.4302\n",
       " 0.4945 -0.1514 -0.0364  0.1302  0.1578\n",
       "-0.0849  0.2617 -0.2190  0.2556 -0.2466\n",
       "-0.1243 -0.1686  0.1617 -0.1748  0.1183\n",
       " 0.7083  0.0136 -0.7557  0.3615  0.0577\n",
       "-0.2374  0.1156  0.2281 -0.1386 -0.1159\n",
       "[torch.FloatTensor of size 10x15]"
      ]
     },
     "execution_count": 75,
     "metadata": {},
     "output_type": "execute_result"
    }
   ],
   "source": [
    "model[(4)].weight"
   ]
  },
  {
   "cell_type": "code",
   "execution_count": 76,
   "metadata": {
    "collapsed": false
   },
   "outputs": [
    {
     "data": {
      "text/plain": [
       "Parameter containing:\n",
       "-1.5092 -0.3305  0.1163  0.2853  0.9358  0.2373 -0.9979 -1.0716  0.3023 -0.0675\n",
       " 1.4390 -1.0259 -0.0954 -1.4754  0.3584  0.1376 -0.4146 -0.1836 -0.0018 -0.1471\n",
       "-0.2137  0.0865  0.0139  0.4188  0.1924 -0.0615  0.2490 -1.6693 -1.0844  0.1222\n",
       " 0.0622  0.3022 -0.2930  0.4401 -0.0940  0.2079  0.0942 -1.0766 -0.7308  0.1288\n",
       " 0.3125  0.1187 -0.2699  0.3334  0.1647  0.2176 -0.0107 -1.2660 -0.2804  0.1390\n",
       " 0.2496  0.3472  0.1610  0.0500  0.3677  0.3216  0.0405 -0.9760 -0.4021 -0.0212\n",
       "-0.1944 -0.4724  0.2167 -0.1677 -0.2983 -0.1096 -0.3949  0.6967  0.1898  0.0592\n",
       "[torch.FloatTensor of size 7x10]"
      ]
     },
     "execution_count": 76,
     "metadata": {},
     "output_type": "execute_result"
    }
   ],
   "source": [
    "model[(6)].weight"
   ]
  },
  {
   "cell_type": "code",
   "execution_count": 77,
   "metadata": {
    "collapsed": false
   },
   "outputs": [
    {
     "data": {
      "text/plain": [
       "Parameter containing:\n",
       " 1.2466 -2.9110  0.0808  0.4762  0.0307  0.4145 -2.1821\n",
       " 1.5986 -2.5901  0.7293  0.4641  0.3953 -0.2299 -1.7828\n",
       " 1.5322 -2.9276  0.3225  0.4432  0.3569  0.2929 -2.0651\n",
       "-0.0714 -0.3586  0.2288  0.2928  0.1855 -0.3505 -0.1124\n",
       "-1.0318  2.6417 -0.7323 -0.1504  0.1104  0.1538  1.8613\n",
       "[torch.FloatTensor of size 5x7]"
      ]
     },
     "execution_count": 77,
     "metadata": {},
     "output_type": "execute_result"
    }
   ],
   "source": [
    "model[(8)].weight"
   ]
  },
  {
   "cell_type": "code",
   "execution_count": 78,
   "metadata": {
    "collapsed": false
   },
   "outputs": [
    {
     "data": {
      "text/plain": [
       "Parameter containing:\n",
       " 0.3950  0.3487  0.4703 -0.5729 -0.3057\n",
       "[torch.FloatTensor of size 1x5]"
      ]
     },
     "execution_count": 78,
     "metadata": {},
     "output_type": "execute_result"
    }
   ],
   "source": [
    "model[(10)].weight"
   ]
  },
  {
   "cell_type": "markdown",
   "metadata": {},
   "source": [
    "## Round 6: Six-Hidden-Layer Neural Network"
   ]
  },
  {
   "cell_type": "code",
   "execution_count": 79,
   "metadata": {
    "collapsed": true
   },
   "outputs": [],
   "source": [
    "# Make the torch Tensor into a PyTorch Variable for dependent variables\n",
    "outcomes_Variable = Variable(outcomes_Tensor)\n",
    "\n",
    "\n",
    "# ...for independent variables\n",
    "features_Variable = Variable(features_Tensor,\n",
    "                             requires_grad = False)"
   ]
  },
  {
   "cell_type": "code",
   "execution_count": 80,
   "metadata": {
    "collapsed": true
   },
   "outputs": [],
   "source": [
    "# Make the neural network\n",
    "model = torch.nn.Sequential(torch.nn.Linear(34, 23),\n",
    "                            torch.nn.ReLU(),\n",
    "                            torch.nn.Linear(23, 15),\n",
    "                            torch.nn.ReLU(),\n",
    "                            torch.nn.Linear(15, 10),\n",
    "                            torch.nn.ReLU(),\n",
    "                            torch.nn.Linear(10, 7),\n",
    "                            torch.nn.ReLU(),\n",
    "                            torch.nn.Linear(7, 5),\n",
    "                            torch.nn.ReLU(),\n",
    "                            torch.nn.Linear(5, 3),\n",
    "                            torch.nn.ReLU(),\n",
    "                            torch.nn.Linear(3, 1))"
   ]
  },
  {
   "cell_type": "code",
   "execution_count": 81,
   "metadata": {
    "collapsed": true
   },
   "outputs": [],
   "source": [
    "# To add errors to\n",
    "errors = []\n",
    "\n",
    "\n",
    "# Set the learning rate\n",
    "learning_rate = 1e-2\n",
    "\n",
    "\n",
    "# Define the model's optimizer\n",
    "optimizer = torch.optim.Adagrad(model.parameters(), lr = learning_rate)\n",
    "\n",
    "\n",
    "# Train the neural network\n",
    "for t in range(10000):\n",
    "    \n",
    "    # Get the current predictions\n",
    "    y_pred = model(features_Variable)\n",
    "    \n",
    "    # Compute and append current summed errors\n",
    "    loss = loss_fn(y_pred, outcomes_Variable)\n",
    "    errors.append(loss.data[0])\n",
    "    \n",
    "    # Zero the gradients before running the backward pass.\n",
    "    optimizer.zero_grad()\n",
    "    \n",
    "    # Backward pass: compute gradient of the loss with respect to all the learnable Variables\n",
    "    loss.backward()\n",
    "    \n",
    "    # Update the weights using Adagrad\n",
    "    optimizer.step()"
   ]
  },
  {
   "cell_type": "code",
   "execution_count": 82,
   "metadata": {
    "collapsed": false
   },
   "outputs": [
    {
     "data": {
      "text/plain": [
       "<matplotlib.collections.PathCollection at 0x7f95852eb518>"
      ]
     },
     "execution_count": 82,
     "metadata": {},
     "output_type": "execute_result"
    },
    {
     "data": {
      "image/png": "[encoded data removed]",
      "text/plain": [
       "<matplotlib.figure.Figure at 0x7f95856eba58>"
      ]
     },
     "metadata": {},
     "output_type": "display_data"
    }
   ],
   "source": [
    "# Plot summed error as a function of iteration\n",
    "plt.scatter(iterations, errors, c = \"black\", alpha = 0.25)"
   ]
  },
  {
   "cell_type": "code",
   "execution_count": 83,
   "metadata": {
    "collapsed": true
   },
   "outputs": [],
   "source": [
    "# Get rid of the 2nd dimension of 1 from the FloatTensor\n",
    "y_pred_resized = y_pred.resize(8308)\n",
    "\n",
    "\n",
    "# Make the FloatTensor into a numpy.array\n",
    "y_pred_array = y_pred_resized.data.numpy()\n",
    "\n",
    "\n",
    "# Make the numpy.array into a list\n",
    "y_pred_list = y_pred_array.tolist()"
   ]
  },
  {
   "cell_type": "code",
   "execution_count": 84,
   "metadata": {
    "collapsed": false
   },
   "outputs": [
    {
     "data": {
      "text/plain": [
       "[<matplotlib.lines.Line2D at 0x7f958531cb38>]"
      ]
     },
     "execution_count": 84,
     "metadata": {},
     "output_type": "execute_result"
    },
    {
     "data": {
      "image/png": "[encoded data removed]",
      "text/plain": [
       "<matplotlib.figure.Figure at 0x7f958531cb00>"
      ]
     },
     "metadata": {},
     "output_type": "display_data"
    }
   ],
   "source": [
    "# Plot predictions versus training set outcomes\n",
    "plt.scatter(outcomes_list, y_pred_list, c = \"black\", alpha = 0.15)\n",
    "\n",
    "axes = plt.gca()\n",
    "\n",
    "axes.set_xlim([-2, 4])\n",
    "\n",
    "axes.set_ylim([-2, 4])\n",
    "\n",
    "plt.plot([-2, 4], [-2, 4], 'k-', lw=2)"
   ]
  },
  {
   "cell_type": "markdown",
   "metadata": {},
   "source": [
    "### Round 6.1: Validation Set Performance"
   ]
  },
  {
   "cell_type": "code",
   "execution_count": 85,
   "metadata": {
    "collapsed": false
   },
   "outputs": [
    {
     "data": {
      "text/plain": [
       "Variable containing:\n",
       " 477.4876\n",
       "[torch.FloatTensor of size 1]"
      ]
     },
     "execution_count": 85,
     "metadata": {},
     "output_type": "execute_result"
    }
   ],
   "source": [
    "# Get the validation set predictions\n",
    "y_valid_pred = model(valid_predictors_Variable)\n",
    "\n",
    "\n",
    "# Print the loss\n",
    "loss_fn(y_valid_pred,\n",
    "        valid_outcomes_Variable)"
   ]
  },
  {
   "cell_type": "code",
   "execution_count": 86,
   "metadata": {
    "collapsed": true
   },
   "outputs": [],
   "source": [
    "# Get rid of the 2nd dimension of 1 from the FloatTensor\n",
    "y_valid_pred_resized = y_valid_pred.resize(2808)\n",
    "\n",
    "\n",
    "# Make the FloatTensor into a numpy.array\n",
    "y_valid_pred_array = y_valid_pred_resized.data.numpy()\n",
    "\n",
    "\n",
    "# Convert back to log scale\n",
    "y_valid_pred_array = y_valid_pred_array*5.407597 + 7.688844\n",
    "\n",
    "\n",
    "# Make the numpy.array into a list\n",
    "y_valid_pred_list = y_valid_pred_array.tolist()"
   ]
  },
  {
   "cell_type": "code",
   "execution_count": 87,
   "metadata": {
    "collapsed": false
   },
   "outputs": [
    {
     "data": {
      "text/plain": [
       "<matplotlib.text.Text at 0x7f95851de7b8>"
      ]
     },
     "execution_count": 87,
     "metadata": {},
     "output_type": "execute_result"
    },
    {
     "data": {
      "image/png": "[encoded data removed]",
      "text/plain": [
       "<matplotlib.figure.Figure at 0x7f9585267860>"
      ]
     },
     "metadata": {},
     "output_type": "display_data"
    }
   ],
   "source": [
    "# Plot new predictions versus new data outcomes\n",
    "plt.scatter(valid_outcomes_list, y_valid_pred_list, c = \"black\", alpha = 0.15)\n",
    "\n",
    "axes = plt.gca()\n",
    "\n",
    "axes.set_xlim([0, 24])\n",
    "\n",
    "axes.set_ylim([0, 24])\n",
    "\n",
    "axes.set_xticks([0, 4, 8, 12, 16, 20, 24])\n",
    "\n",
    "axes.set_yticks([0, 4, 8, 12, 16, 20, 24])\n",
    "\n",
    "plt.plot([0, 24], [0, 24], 'k-', lw = 2)\n",
    "\n",
    "axes.set_xlabel(\"Actual Outcome (Log-Transformed US Dollars)\")\n",
    "\n",
    "axes.set_ylabel(\"Model Prediction (Log-Transformed US Dollars)\")\n",
    "\n",
    "axes.set_title(\"Model Performance\")"
   ]
  },
  {
   "cell_type": "code",
   "execution_count": 88,
   "metadata": {
    "collapsed": false
   },
   "outputs": [
    {
     "data": {
      "text/plain": [
       "Parameter containing:\n",
       "\n",
       "Columns 0 to 9 \n",
       "-0.0967  0.1426  0.0354 -0.2252 -0.2376  0.0971 -0.0965  0.1448 -0.1213  0.2226\n",
       " 0.0887  0.0665  0.1021  0.1018  0.0115  0.0584 -0.1117 -0.0944  0.1370 -0.0941\n",
       "-0.0103  0.1178 -0.1079  0.0868 -0.1567 -0.0678 -0.1827  0.1115 -0.0760  0.0125\n",
       " 0.0365 -0.1406 -0.0539  0.1727  0.0870 -0.1403 -0.0533  0.1028 -0.0455 -0.1128\n",
       " 0.0610 -0.0456  0.1686  0.0232  0.0365  0.0485  0.2081  0.0016 -0.0552 -0.0028\n",
       " 0.0636 -0.1842  0.2202 -0.0076  0.1160  0.1080 -0.0259  0.0170  0.1361  0.0948\n",
       "-0.0269  0.0958  0.1833  0.1415 -0.0419 -0.0430  0.1329  0.0199 -0.1101  0.0772\n",
       "-0.0168  0.0420  0.1092 -0.0676  0.0367 -0.2313  0.0932  0.1389  0.2056  0.0406\n",
       "-0.0415 -0.1463 -0.1557  0.1131 -0.0634  0.0885  0.1504 -0.1203  0.0366 -0.0583\n",
       " 0.0202 -0.0210 -0.0820  0.1420 -0.0307 -0.0904  0.0375 -0.2044 -0.1254 -0.1996\n",
       " 0.0813  0.1798 -0.1032  0.1878 -0.0790 -0.1092  0.0165 -0.1326  0.0237 -0.1506\n",
       " 0.1804 -0.0818  0.1738 -0.0509 -0.0211 -0.0276  0.1248  0.1030  0.0616  0.1966\n",
       " 0.2196 -0.0758  0.0140  0.1323  0.1391 -0.1973  0.0629  0.1958  0.1886 -0.0306\n",
       " 0.1111 -0.1611 -0.0676 -0.0006  0.1798  0.1068  0.2247  0.1227 -0.1719 -0.1653\n",
       "-0.0256 -0.1367 -0.0486 -0.0551  0.1542 -0.1802  0.1831 -0.0584 -0.0895 -0.0342\n",
       "-0.0558  0.1168  0.0358  0.0695 -0.1188 -0.1115  0.1155  0.1039 -0.0189 -0.1210\n",
       " 0.0269  0.2350  0.1309  0.1972  0.0297  0.0162  0.1002 -0.2278 -0.0917  0.1253\n",
       " 0.0281 -0.1051 -0.0207  0.0577  0.1881  0.0058 -0.0434 -0.1132  0.0541  0.1494\n",
       "-0.1612 -0.2208  0.0737 -0.1168  0.1302  0.1159  0.1892  0.0514 -0.0101  0.0676\n",
       " 0.0607  0.0401 -0.0506 -0.0019  0.0972  0.0904  0.0464  0.1405  0.2019  0.1056\n",
       "-0.1445  0.1731 -0.0833 -0.0186 -0.1317  0.1115  0.0105 -0.0649  0.1094  0.1422\n",
       " 0.0675 -0.0234  0.0778 -0.1087  0.0565 -0.0612  0.1300  0.0630  0.0937  0.1615\n",
       "-0.0263  0.2096 -0.1092 -0.1777  0.0032  0.0022  0.2365 -0.0131 -0.2212 -0.0441\n",
       "\n",
       "Columns 10 to 19 \n",
       " 0.1964  0.0355 -0.0621 -0.0810 -0.2135 -0.2265 -0.0837  0.0204 -0.1188 -0.0134\n",
       "-0.0167 -0.0666  0.0962  0.0116 -0.1767 -0.1497 -0.0916  0.1350  0.0524 -0.0461\n",
       "-0.1181  0.1694 -0.0462 -0.1272  0.1146 -0.0936  0.0419 -0.0159  0.0146 -0.1530\n",
       "-0.0297 -0.1456  0.0271 -0.1393 -0.0684 -0.1760 -0.2166 -0.1637 -0.1865 -0.1323\n",
       "-0.1280  0.1782 -0.0005  0.1621  0.2177  0.1487 -0.0170 -0.1197 -0.0999  0.0273\n",
       " 0.1249  0.1472  0.0393 -0.0097  0.0292  0.0886  0.1512 -0.1345  0.1687 -0.0908\n",
       " 0.0938 -0.0503  0.0709  0.1815  0.2046 -0.0852  0.0180 -0.1727  0.1932  0.1587\n",
       "-0.0135  0.1079  0.1206 -0.1424  0.0700 -0.0537 -0.0718 -0.1905 -0.0453  0.0504\n",
       " 0.0791 -0.1124  0.0486 -0.0192 -0.0854  0.0762  0.1444 -0.1379 -0.0128 -0.1334\n",
       "-0.0276 -0.1592 -0.0924 -0.0031 -0.1413 -0.2174 -0.0092  0.0225  0.0413  0.1031\n",
       "-0.1554 -0.0458 -0.1444 -0.0713 -0.0005 -0.0604  0.0101  0.0405  0.0237  0.2027\n",
       " 0.1019  0.1934 -0.0077  0.0983  0.0654  0.2142  0.2093  0.0210  0.1170  0.0116\n",
       "-0.0260  0.0597  0.0044  0.0971 -0.1099  0.0760  0.0669 -0.1700  0.2244  0.0746\n",
       " 0.0171 -0.1577 -0.1097  0.0359  0.0501 -0.0373  0.1950  0.0819 -0.1062 -0.1789\n",
       "-0.0922  0.1335  0.0755  0.1655 -0.1259  0.1304  0.1778  0.1766  0.1235 -0.1146\n",
       "-0.0182 -0.0499  0.1108 -0.1017 -0.0923  0.0859  0.1200 -0.0060  0.1031  0.0018\n",
       " 0.0787  0.0433 -0.2443  0.0307 -0.0418 -0.1165  0.0895 -0.1681  0.2070  0.2421\n",
       "-0.0665  0.0775  0.1524  0.0306  0.0232 -0.0815 -0.0143 -0.0863 -0.1056 -0.1930\n",
       "-0.1212  0.0411  0.1215 -0.0303 -0.0413  0.1528  0.1872 -0.0270 -0.0021 -0.0492\n",
       " 0.2052  0.0485  0.1442  0.1529  0.0917 -0.0231 -0.0512 -0.0231  0.1527  0.1076\n",
       "-0.0505  0.0398  0.1407 -0.0206  0.2126  0.0766 -0.1677  0.2382  0.0553 -0.1570\n",
       "-0.0927 -0.0625 -0.0977 -0.0470 -0.2116 -0.2015 -0.2570 -0.0809  0.0654  0.0210\n",
       "-0.1965 -0.2150  0.1894  0.1714 -0.0287  0.0485 -0.1381 -0.1246  0.0990  0.1979\n",
       "\n",
       "Columns 20 to 29 \n",
       " 0.0474  0.0297 -0.1218  0.1967  0.0146 -0.2260  0.0282  0.0586 -0.1304 -0.2231\n",
       " 0.1556  0.0353  0.0207  0.0272 -0.1924  0.0702 -0.0426 -0.1513 -0.1176 -0.0106\n",
       "-0.0663 -0.0231  0.0618  0.0694  0.0443 -0.0527 -0.0370 -0.0506  0.1725  0.0794\n",
       " 0.1289  0.1174  0.2009 -0.0356  0.1620 -0.0269  0.1414  0.0199  0.0483  0.1815\n",
       " 0.1676 -0.0206  0.0778 -0.0933  0.1804  0.0662  0.1292 -0.0496 -0.0524  0.2206\n",
       " 0.1198 -0.0352 -0.0657  0.1003  0.0838  0.0259  0.2158 -0.0925 -0.1042 -0.1214\n",
       " 0.1514 -0.1389 -0.0248 -0.0023  0.1428 -0.1182  0.1581  0.1324  0.1077  0.0264\n",
       " 0.2172  0.0871 -0.1216 -0.0132 -0.0176  0.1620 -0.0890  0.0951  0.1240 -0.0714\n",
       " 0.0042 -0.1177 -0.0025  0.1223 -0.0822  0.1915 -0.0955  0.0512 -0.0407  0.2431\n",
       " 0.0864 -0.2201 -0.0134 -0.0974 -0.1503  0.1057  0.0816 -0.1448 -0.1081  0.0823\n",
       "-0.1836 -0.2001  0.1100 -0.1923 -0.0784  0.1040 -0.1264 -0.0635 -0.1169 -0.0917\n",
       " 0.1116 -0.1671  0.0615 -0.0030 -0.1157  0.2340  0.0766  0.0272  0.0620  0.1399\n",
       " 0.2153  0.1922 -0.0978 -0.0460 -0.0475 -0.0544  0.0262  0.2153  0.0597 -0.0403\n",
       " 0.1110  0.1139 -0.1828 -0.1255 -0.1430  0.2330 -0.1825  0.1192 -0.0109  0.0790\n",
       "-0.1619 -0.1754 -0.1295  0.1419 -0.0945 -0.1461  0.1732  0.0839  0.0319  0.0548\n",
       " 0.0037 -0.0513  0.0316 -0.1459  0.0913  0.1005  0.0752  0.1004 -0.0170 -0.1154\n",
       "-0.1454  0.1742 -0.0770  0.1491  0.1496  0.1894 -0.0852  0.1206 -0.0803  0.2206\n",
       "-0.1667 -0.0006  0.1558  0.1790  0.1175  0.1234 -0.0800 -0.0277 -0.0662  0.0075\n",
       " 0.0462  0.1544  0.1796  0.1433  0.2249 -0.0571  0.0332 -0.0403  0.1537  0.1690\n",
       " 0.0660  0.0520  0.1807  0.2081 -0.0464  0.0435  0.1075 -0.0876  0.1679 -0.0334\n",
       "-0.1792  0.0748  0.0319  0.1601  0.0086 -0.0837 -0.0840  0.1068  0.1188 -0.1390\n",
       "-0.1375 -0.2018  0.1680  0.0102 -0.0498 -0.0725  0.1561 -0.1985 -0.0195  0.1579\n",
       "-0.0331  0.2312 -0.1512  0.1002 -0.1049 -0.1864  0.0212  0.1925  0.1458 -0.1262\n",
       "\n",
       "Columns 30 to 33 \n",
       " 0.0432  0.1584 -0.0403  0.1447\n",
       " 0.0459 -0.1199  0.0756 -0.0415\n",
       " 0.1116 -0.0461 -0.1024  0.0150\n",
       "-0.1852  0.1348  0.1786 -0.1657\n",
       " 0.1712  0.2020 -0.2146  0.1478\n",
       "-0.0478 -0.0298  0.1954  0.1914\n",
       "-0.1095 -0.0156  0.0267  0.1472\n",
       " 0.2248  0.1757  0.1474 -0.1154\n",
       "-0.1244  0.0889 -0.1313  0.0257\n",
       "-0.1475 -0.1172  0.0038 -0.1578\n",
       "-0.1378 -0.0521  0.1637  0.1713\n",
       "-0.0723 -0.1640  0.1827  0.1384\n",
       " 0.1548  0.0356  0.0118 -0.1416\n",
       "-0.0953 -0.1767 -0.1755  0.1476\n",
       "-0.0242 -0.1485 -0.0972  0.0662\n",
       "-0.0330 -0.0172 -0.0610 -0.0028\n",
       " 0.0136  0.0860  0.1978  0.1484\n",
       " 0.0004  0.1149 -0.1968 -0.1210\n",
       "-0.1895 -0.0532  0.2097 -0.2377\n",
       "-0.0020  0.1114 -0.0783 -0.1578\n",
       " 0.0735  0.1987 -0.2101  0.1450\n",
       " 0.1202  0.1308  0.0918  0.0448\n",
       " 0.0208  0.2172  0.0757  0.1471\n",
       "[torch.FloatTensor of size 23x34]"
      ]
     },
     "execution_count": 88,
     "metadata": {},
     "output_type": "execute_result"
    }
   ],
   "source": [
    "model[(0)].weight"
   ]
  },
  {
   "cell_type": "code",
   "execution_count": 89,
   "metadata": {
    "collapsed": false
   },
   "outputs": [
    {
     "data": {
      "text/plain": [
       "Parameter containing:\n",
       "\n",
       "Columns 0 to 9 \n",
       "-0.0340  0.1689 -0.0441 -0.0994 -0.1161  0.1534  0.2121  0.0567 -0.0576  0.0210\n",
       " 0.2299 -0.0170  0.1807  0.0763  0.0596  0.2475  0.1694  0.2386 -0.1360 -0.0508\n",
       " 0.1561 -0.1181  0.1430 -0.0919 -0.1922 -0.0170 -0.0832 -0.1519  0.1924  0.0283\n",
       "-0.0821 -0.0106  0.0443 -0.0810  0.1167 -0.0047  0.0312  0.1056  0.2103 -0.0646\n",
       " 0.0819 -0.0665 -0.0202  0.1572  0.2320  0.1950  0.0666  0.2078  0.1451 -0.1199\n",
       "-0.1052  0.0004 -0.1611 -0.0160 -0.1124  0.1671  0.1412  0.1684 -0.0380  0.1893\n",
       " 0.2409  0.0871 -0.0989  0.2707 -0.0399 -0.1360 -0.0230 -0.0172  0.0400  0.2772\n",
       " 0.2010 -0.0751 -0.0498 -0.1213  0.2438 -0.0644  0.0046 -0.1472  0.2159  0.2771\n",
       " 0.1967  0.0857 -0.1141 -0.0119  0.1301  0.2310  0.2129  0.2514  0.2191 -0.0234\n",
       " 0.2215 -0.1099  0.1295  0.1056 -0.0344 -0.1005 -0.0919  0.1502 -0.0412 -0.0091\n",
       " 0.1451 -0.1008 -0.0475 -0.2120  0.1778 -0.1416 -0.2390  0.0111  0.0390 -0.2528\n",
       " 0.1145 -0.0777 -0.1455  0.1781  0.0688  0.1068  0.1252  0.2510 -0.1237  0.1302\n",
       "-0.0778 -0.1961 -0.1466  0.1692  0.1245  0.0717 -0.1423 -0.1703  0.0292 -0.0203\n",
       " 0.2678  0.2133 -0.1445  0.2089  0.1500 -0.0939  0.2130  0.0778  0.1429  0.0371\n",
       "-0.0805 -0.1284  0.1254 -0.1205  0.0822 -0.0949 -0.2085  0.0106 -0.2147 -0.0292\n",
       "\n",
       "Columns 10 to 19 \n",
       " 0.1905  0.1824  0.1360  0.0474  0.2045  0.0219  0.0104 -0.0886 -0.1618  0.1046\n",
       "-0.0180  0.1911  0.0806 -0.0702  0.1585 -0.1008 -0.0618 -0.0374  0.2202  0.1333\n",
       " 0.1494 -0.0941  0.0897  0.1361  0.1635 -0.1901  0.1168 -0.0270  0.1347  0.1413\n",
       " 0.1047 -0.0879  0.0602  0.0439  0.2495  0.1602  0.1123  0.0476  0.2600  0.0675\n",
       " 0.0051  0.2273  0.2431  0.0505  0.1482 -0.0798  0.2236  0.2576  0.1269  0.1508\n",
       " 0.1817 -0.0996  0.2216 -0.0992  0.2361 -0.1538  0.0589  0.1754  0.2106  0.1111\n",
       " 0.0341 -0.0594  0.2398  0.2084 -0.1047 -0.1106  0.0029  0.1661  0.0889  0.1770\n",
       " 0.0770 -0.0084 -0.0047  0.0691 -0.0741 -0.1004  0.0512  0.0861  0.1734  0.0121\n",
       " 0.1431 -0.1612  0.0296  0.1843  0.1327 -0.1074  0.1917 -0.0477  0.0489  0.0062\n",
       " 0.1191 -0.0689  0.1058  0.0597  0.2498 -0.1206 -0.0982  0.0485  0.1495 -0.0002\n",
       " 0.0604  0.1526  0.1302 -0.2285 -0.0876 -0.0973 -0.0832 -0.0577 -0.1883 -0.1661\n",
       " 0.1162  0.0566 -0.0897  0.2628  0.1165  0.1776  0.2140  0.1310  0.1450 -0.0482\n",
       " 0.1754  0.1701 -0.1447 -0.1125 -0.1619  0.0987 -0.0722  0.0663 -0.1285 -0.1859\n",
       "-0.0136  0.1940  0.1807  0.2398 -0.1223 -0.1120 -0.0063  0.2165  0.1490  0.2050\n",
       "-0.1091  0.0666 -0.0014 -0.0717 -0.0572 -0.0417  0.1518 -0.2406 -0.0834  0.1048\n",
       "\n",
       "Columns 20 to 22 \n",
       " 0.2116  0.1118  0.0965\n",
       "-0.0546  0.1697  0.0432\n",
       " 0.0547 -0.0459  0.1437\n",
       " 0.1228  0.0889  0.1157\n",
       " 0.1325  0.0863  0.2635\n",
       "-0.1277 -0.0608  0.1590\n",
       " 0.0723 -0.0048  0.2436\n",
       " 0.0631  0.1624  0.1500\n",
       "-0.0008 -0.0738  0.0255\n",
       " 0.2189  0.0706 -0.0072\n",
       "-0.0748  0.1258 -0.1231\n",
       "-0.0373  0.2578  0.1953\n",
       "-0.0001 -0.1532 -0.0788\n",
       " 0.0867  0.1152  0.0907\n",
       "-0.1547  0.1424 -0.0016\n",
       "[torch.FloatTensor of size 15x23]"
      ]
     },
     "execution_count": 89,
     "metadata": {},
     "output_type": "execute_result"
    }
   ],
   "source": [
    "model[(2)].weight"
   ]
  },
  {
   "cell_type": "code",
   "execution_count": 90,
   "metadata": {
    "collapsed": false
   },
   "outputs": [
    {
     "data": {
      "text/plain": [
       "Parameter containing:\n",
       "\n",
       "Columns 0 to 9 \n",
       " 0.1118  0.1899  0.1271 -0.0638 -0.0745  0.0599 -0.1138  0.1979  0.1307 -0.0140\n",
       "-0.1094 -0.0545  0.2076 -0.2481 -0.1491  0.1840  0.1523  0.0529 -0.1870  0.1029\n",
       " 0.0619  0.3128 -0.0125  0.2022  0.2219  0.1883  0.0783  0.1170  0.1897  0.1008\n",
       " 0.1347  0.3282  0.2415  0.2709  0.2822  0.0585  0.2491  0.0391 -0.0276  0.2132\n",
       " 0.1997 -0.2032  0.0356  0.0884 -0.1970  0.1329 -0.0294 -0.3236  0.0690 -0.2895\n",
       "-0.2645 -0.0256  0.0282 -0.2270  0.1230  0.2159  0.0920  0.2428 -0.2522 -0.1122\n",
       "-0.1164  0.1370  0.0790 -0.0159  0.0599 -0.0898  0.2569  0.2561  0.2329 -0.0555\n",
       " 0.0488 -0.0452 -0.0943 -0.1082 -0.1678 -0.0717  0.0409 -0.0217 -0.2084  0.0452\n",
       " 0.2826 -0.0267  0.2463  0.2056 -0.1179  0.1728  0.2149  0.1938 -0.1241  0.2254\n",
       " 0.2440  0.1843 -0.0888 -0.1202 -0.1074  0.2511  0.2483  0.2527  0.0303 -0.1170\n",
       "\n",
       "Columns 10 to 14 \n",
       "-0.2273 -0.2828 -0.1281 -0.2538 -0.1521\n",
       " 0.0631  0.1287  0.1486 -0.1101  0.0824\n",
       "-0.2197  0.2001 -0.2241 -0.0123 -0.0937\n",
       " 0.0460 -0.0041  0.2649 -0.1020 -0.0031\n",
       " 0.1632  0.0961  0.2326 -0.2583  0.2059\n",
       "-0.1563 -0.2072 -0.2009 -0.2534  0.1856\n",
       " 0.1611  0.2745  0.2700  0.1827 -0.1201\n",
       " 0.0280  0.1192 -0.2478 -0.1904  0.0430\n",
       "-0.1488  0.0326  0.1043  0.2746  0.0409\n",
       "-0.1325 -0.0934  0.2347  0.2213 -0.0405\n",
       "[torch.FloatTensor of size 10x15]"
      ]
     },
     "execution_count": 90,
     "metadata": {},
     "output_type": "execute_result"
    }
   ],
   "source": [
    "model[(4)].weight"
   ]
  },
  {
   "cell_type": "code",
   "execution_count": 91,
   "metadata": {
    "collapsed": false
   },
   "outputs": [
    {
     "data": {
      "text/plain": [
       "Parameter containing:\n",
       "-0.2364  0.1895  0.1208  0.2337 -0.2643  0.0384 -0.1825 -0.0564  0.3171  0.1151\n",
       " 0.1886  0.2349 -0.2340 -0.0918  0.0766  0.1455 -0.2644 -0.0067 -0.0289  0.1420\n",
       " 0.1028  0.2012  0.3580  0.0941 -0.0973  0.1625 -0.2103  0.2086  0.2351 -0.2034\n",
       "-0.0050 -0.1758 -0.1562 -0.2700  0.2757  0.1578 -0.2845 -0.2131 -0.0261 -0.2503\n",
       "-0.1732 -0.0695  0.3197  0.2444 -0.0068 -0.2523  0.1549 -0.2429  0.1022  0.1677\n",
       "-0.2340  0.2730  0.0613 -0.2696  0.1890 -0.1838 -0.1635  0.2372 -0.1328 -0.2322\n",
       "-0.2535 -0.0559  0.2706 -0.2037 -0.2067 -0.0621  0.1989  0.2122 -0.2089  0.1962\n",
       "[torch.FloatTensor of size 7x10]"
      ]
     },
     "execution_count": 91,
     "metadata": {},
     "output_type": "execute_result"
    }
   ],
   "source": [
    "model[(6)].weight"
   ]
  },
  {
   "cell_type": "code",
   "execution_count": 92,
   "metadata": {
    "collapsed": false
   },
   "outputs": [
    {
     "data": {
      "text/plain": [
       "Parameter containing:\n",
       " 0.0417  0.3184 -0.3008 -0.3164  0.0139 -0.3347 -0.2349\n",
       " 0.0945 -0.2310  0.1147 -0.3035 -0.3726 -0.2105  0.2149\n",
       " 0.3849  0.2492  0.4338 -0.3687  0.3000  0.1117 -0.2695\n",
       " 0.0937 -0.1313  0.1351 -0.0012  0.3791  0.1708  0.3700\n",
       " 0.1636  0.0997  0.0458  0.0018 -0.0989  0.0232  0.1193\n",
       "[torch.FloatTensor of size 5x7]"
      ]
     },
     "execution_count": 92,
     "metadata": {},
     "output_type": "execute_result"
    }
   ],
   "source": [
    "model[(8)].weight"
   ]
  },
  {
   "cell_type": "code",
   "execution_count": 93,
   "metadata": {
    "collapsed": false
   },
   "outputs": [
    {
     "data": {
      "text/plain": [
       "Parameter containing:\n",
       "-0.3125 -0.3294 -0.3801  0.3251 -0.3869\n",
       " 0.1233 -0.0066 -0.3062 -0.4696  0.1598\n",
       "-0.3908 -0.3161 -0.0344  0.1973 -0.4026\n",
       "[torch.FloatTensor of size 3x5]"
      ]
     },
     "execution_count": 93,
     "metadata": {},
     "output_type": "execute_result"
    }
   ],
   "source": [
    "model[(10)].weight"
   ]
  },
  {
   "cell_type": "code",
   "execution_count": 94,
   "metadata": {
    "collapsed": false
   },
   "outputs": [
    {
     "data": {
      "text/plain": [
       "Parameter containing:\n",
       " 0.2574 -0.3898 -0.1116\n",
       "[torch.FloatTensor of size 1x3]"
      ]
     },
     "execution_count": 94,
     "metadata": {},
     "output_type": "execute_result"
    }
   ],
   "source": [
    "model[(12)].weight"
   ]
  },
  {
   "cell_type": "markdown",
   "metadata": {},
   "source": [
    "## Round 7: Seven-Hidden-Layer Neural Network"
   ]
  },
  {
   "cell_type": "code",
   "execution_count": 95,
   "metadata": {
    "collapsed": true
   },
   "outputs": [],
   "source": [
    "# Make the torch Tensor into a PyTorch Variable for dependent variables\n",
    "outcomes_Variable = Variable(outcomes_Tensor)\n",
    "\n",
    "\n",
    "# ...for independent variables\n",
    "features_Variable = Variable(features_Tensor,\n",
    "                             requires_grad = False)"
   ]
  },
  {
   "cell_type": "code",
   "execution_count": 96,
   "metadata": {
    "collapsed": true
   },
   "outputs": [],
   "source": [
    "# Make the neural network\n",
    "model = torch.nn.Sequential(torch.nn.Linear(34, 23),\n",
    "                            torch.nn.ReLU(),\n",
    "                            torch.nn.Linear(23, 15),\n",
    "                            torch.nn.ReLU(),\n",
    "                            torch.nn.Linear(15, 10),\n",
    "                            torch.nn.ReLU(),\n",
    "                            torch.nn.Linear(10, 7),\n",
    "                            torch.nn.ReLU(),\n",
    "                            torch.nn.Linear(7, 5),\n",
    "                            torch.nn.ReLU(),\n",
    "                            torch.nn.Linear(5, 3),\n",
    "                            torch.nn.ReLU(),\n",
    "                            torch.nn.Linear(3, 2),\n",
    "                            torch.nn.ReLU(),\n",
    "                            torch.nn.Linear(2, 1))"
   ]
  },
  {
   "cell_type": "code",
   "execution_count": 97,
   "metadata": {
    "collapsed": true
   },
   "outputs": [],
   "source": [
    "# To add errors to\n",
    "errors = []\n",
    "\n",
    "\n",
    "# Set the learning rate\n",
    "learning_rate = 1e-2\n",
    "\n",
    "\n",
    "# Define the model's optimizer\n",
    "optimizer = torch.optim.Adagrad(model.parameters(), lr = learning_rate)\n",
    "\n",
    "\n",
    "# Train the neural network\n",
    "for t in range(10000):\n",
    "    \n",
    "    # Get the current predictions\n",
    "    y_pred = model(features_Variable)\n",
    "    \n",
    "    # Compute and append current summed errors\n",
    "    loss = loss_fn(y_pred, outcomes_Variable)\n",
    "    errors.append(loss.data[0])\n",
    "    \n",
    "    # Zero the gradients before running the backward pass.\n",
    "    optimizer.zero_grad()\n",
    "    \n",
    "    # Backward pass: compute gradient of the loss with respect to all the learnable Variables\n",
    "    loss.backward()\n",
    "    \n",
    "    # Update the weights using Adagrad\n",
    "    optimizer.step()"
   ]
  },
  {
   "cell_type": "code",
   "execution_count": 98,
   "metadata": {
    "collapsed": false
   },
   "outputs": [
    {
     "data": {
      "text/plain": [
       "<matplotlib.collections.PathCollection at 0x7f95851201d0>"
      ]
     },
     "execution_count": 98,
     "metadata": {},
     "output_type": "execute_result"
    },
    {
     "data": {
      "image/png": "[encoded data removed]",
      "text/plain": [
       "<matplotlib.figure.Figure at 0x7f95853bb0b8>"
      ]
     },
     "metadata": {},
     "output_type": "display_data"
    }
   ],
   "source": [
    "# Plot summed error as a function of iteration\n",
    "plt.scatter(iterations, errors, c = \"black\", alpha = 0.25)"
   ]
  },
  {
   "cell_type": "code",
   "execution_count": 99,
   "metadata": {
    "collapsed": true
   },
   "outputs": [],
   "source": [
    "# Get rid of the 2nd dimension of 1 from the FloatTensor\n",
    "y_pred_resized = y_pred.resize(8308)\n",
    "\n",
    "\n",
    "# Make the FloatTensor into a numpy.array\n",
    "y_pred_array = y_pred_resized.data.numpy()\n",
    "\n",
    "\n",
    "# Make the numpy.array into a list\n",
    "y_pred_list = y_pred_array.tolist()"
   ]
  },
  {
   "cell_type": "code",
   "execution_count": 100,
   "metadata": {
    "collapsed": false
   },
   "outputs": [
    {
     "data": {
      "text/plain": [
       "[<matplotlib.lines.Line2D at 0x7f958528e7f0>]"
      ]
     },
     "execution_count": 100,
     "metadata": {},
     "output_type": "execute_result"
    },
    {
     "data": {
      "image/png": "[encoded data removed]",
      "text/plain": [
       "<matplotlib.figure.Figure at 0x7f958528e160>"
      ]
     },
     "metadata": {},
     "output_type": "display_data"
    }
   ],
   "source": [
    "# Plot predictions versus training set outcomes\n",
    "plt.scatter(outcomes_list, y_pred_list, c = \"black\", alpha = 0.15)\n",
    "\n",
    "axes = plt.gca()\n",
    "\n",
    "axes.set_xlim([-2, 4])\n",
    "\n",
    "axes.set_ylim([-2, 4])\n",
    "\n",
    "plt.plot([-2, 4], [-2, 4], 'k-', lw=2)"
   ]
  },
  {
   "cell_type": "markdown",
   "metadata": {},
   "source": [
    "### Round 7.1: Validation Set Performance"
   ]
  },
  {
   "cell_type": "code",
   "execution_count": 101,
   "metadata": {
    "collapsed": false
   },
   "outputs": [
    {
     "data": {
      "text/plain": [
       "Variable containing:\n",
       " 286.7362\n",
       "[torch.FloatTensor of size 1]"
      ]
     },
     "execution_count": 101,
     "metadata": {},
     "output_type": "execute_result"
    }
   ],
   "source": [
    "# Get the validation set predictions\n",
    "y_valid_pred = model(valid_predictors_Variable)\n",
    "\n",
    "\n",
    "# Print the loss\n",
    "loss_fn(y_valid_pred,\n",
    "        valid_outcomes_Variable)"
   ]
  },
  {
   "cell_type": "code",
   "execution_count": 102,
   "metadata": {
    "collapsed": true
   },
   "outputs": [],
   "source": [
    "# Get rid of the 2nd dimension of 1 from the FloatTensor\n",
    "y_valid_pred_resized = y_valid_pred.resize(2808)\n",
    "\n",
    "\n",
    "# Make the FloatTensor into a numpy.array\n",
    "y_valid_pred_array = y_valid_pred_resized.data.numpy()\n",
    "\n",
    "\n",
    "# Convert back to log scale\n",
    "y_valid_pred_array = y_valid_pred_array*5.407597 + 7.688844\n",
    "\n",
    "\n",
    "# Make the numpy.array into a list\n",
    "y_valid_pred_list = y_valid_pred_array.tolist()"
   ]
  },
  {
   "cell_type": "code",
   "execution_count": 103,
   "metadata": {
    "collapsed": false
   },
   "outputs": [
    {
     "data": {
      "text/plain": [
       "<matplotlib.text.Text at 0x7f958504ef98>"
      ]
     },
     "execution_count": 103,
     "metadata": {},
     "output_type": "execute_result"
    },
    {
     "data": {
      "image/png": "[encoded data removed]",
      "text/plain": [
       "<matplotlib.figure.Figure at 0x7f9585245470>"
      ]
     },
     "metadata": {},
     "output_type": "display_data"
    }
   ],
   "source": [
    "# Plot new predictions versus new data outcomes\n",
    "plt.scatter(valid_outcomes_list, y_valid_pred_list, c = \"black\", alpha = 0.15)\n",
    "\n",
    "axes = plt.gca()\n",
    "\n",
    "axes.set_xlim([0, 24])\n",
    "\n",
    "axes.set_ylim([0, 24])\n",
    "\n",
    "axes.set_xticks([0, 4, 8, 12, 16, 20, 24])\n",
    "\n",
    "axes.set_yticks([0, 4, 8, 12, 16, 20, 24])\n",
    "\n",
    "plt.plot([0, 24], [0, 24], 'k-', lw = 2)\n",
    "\n",
    "axes.set_xlabel(\"Actual Outcome (Log-Transformed US Dollars)\")\n",
    "\n",
    "axes.set_ylabel(\"Model Prediction (Log-Transformed US Dollars)\")\n",
    "\n",
    "axes.set_title(\"Model Performance\")"
   ]
  },
  {
   "cell_type": "code",
   "execution_count": 104,
   "metadata": {
    "collapsed": false
   },
   "outputs": [
    {
     "data": {
      "text/plain": [
       "Parameter containing:\n",
       "\n",
       "Columns 0 to 9 \n",
       "-0.2461 -0.5966 -0.0631  0.1888  0.1221 -0.0922  0.6013 -0.0477 -0.2067  0.2951\n",
       " 0.1043 -0.0934 -0.0897  0.0465  0.2096  0.0063 -0.5453  0.1609 -0.1711  0.1599\n",
       " 0.3250  0.3941  0.3571 -0.0155  0.5124 -0.2609  0.2594 -0.2242  0.0674 -0.0164\n",
       " 0.2692 -0.3794  0.0353 -0.0074  0.3529  0.2069 -0.5889  0.3096  0.2356  0.0101\n",
       " 0.2657 -0.0620 -0.2316  0.3905  0.0916  0.0841  0.0301 -0.1496  0.1096  0.1341\n",
       " 0.1180  0.2875  0.1888 -0.1934 -0.1359 -0.2827  0.5855 -0.1704  0.2937 -0.4130\n",
       " 0.0085  0.2132  0.4058  0.0129  0.1901 -0.2681 -0.2379 -0.0180  0.2077  0.1526\n",
       "-0.0941 -0.0137  0.0560  0.1828  0.2887 -0.3694  0.2331  0.2459  0.0035  0.1309\n",
       " 0.2764  0.2425 -0.4798  0.2995  0.3166  0.2282 -0.3780  0.1945  0.3629 -0.1227\n",
       "-0.1543  0.1245  0.2450  0.2871  0.1415 -0.3137  0.3476  0.1600 -0.1627  0.1900\n",
       " 0.3922  0.5752  0.5129  0.1480  0.2007 -0.3879  0.4486 -0.1632 -0.0740 -0.0661\n",
       " 0.2770 -0.0309  0.0351  0.3591  0.2880 -0.4232 -0.2962 -0.0211 -0.1389 -0.0398\n",
       " 0.2603 -0.0370  0.2581  0.4274  0.1900 -0.3546 -0.0292  0.0966  0.1630  0.0314\n",
       " 0.0734  0.3140 -0.2177 -0.1003 -0.1092 -0.4229  0.8685  0.4019  0.4788  0.0643\n",
       " 0.0399 -0.0731  0.1973  0.1307  0.2423 -0.3080 -0.1291  0.0032  0.0846  0.1796\n",
       "-0.2512 -0.1310 -0.0654  0.3277  0.1126 -0.0259  0.1447  0.2289  0.2120 -0.1975\n",
       " 0.1373 -0.3956  0.0646  0.0969 -0.0083  0.1893  0.2086 -0.0819  0.2216 -0.0630\n",
       "-0.2645 -0.1224 -0.0563  0.2758  0.3339 -0.3545  0.6445  0.1407  0.0152  0.3192\n",
       " 0.3745 -0.0190 -0.1733  0.2196  0.1000 -0.1536 -0.3340  0.0489  0.1628 -0.0134\n",
       " 0.2724  0.2623  0.3979  0.4723  0.0894 -0.3999 -0.6067  0.1589  0.1515  0.1774\n",
       "-0.0785  0.6323  0.1120  0.1006  0.4311 -0.3465 -0.3852 -0.0790 -0.0900 -0.0947\n",
       "-0.0043  0.4815  0.0786  0.4073 -0.0161 -0.1914  0.0558  0.3073  0.2028  0.1504\n",
       " 0.4198  0.5317 -0.2068  0.4640  0.2913  0.1295 -0.0199 -0.1979  0.1701  0.2748\n",
       "\n",
       "Columns 10 to 19 \n",
       " 0.1953  0.0330 -0.2314  0.0643 -0.1098  0.2767 -0.2349 -0.1885 -0.3327  0.3488\n",
       " 0.1329  0.1009  0.1058  0.3031  0.3416  0.1346  0.2079 -0.1918  0.3582 -0.0978\n",
       " 0.0516 -0.0882  0.0771  0.0937  0.2825 -0.0669  0.1229 -0.0558 -0.0885  0.2816\n",
       " 0.1806  0.1691  0.2447  0.3584  0.4839 -0.1453  0.0486  0.0821  0.2160 -0.1741\n",
       "-0.2286  0.0199  0.1390  0.0412  0.1733  0.3532  0.2379  0.5076 -0.3417  0.5687\n",
       " 0.1284  0.2011 -0.3328  0.1757 -0.1121  0.3574  0.0805 -0.0519  0.0463  0.2263\n",
       " 0.0193  0.0525 -0.0059 -0.0207 -0.2625  0.1953 -0.1634 -0.3825  0.2325 -0.3969\n",
       " 0.2685 -0.0923  0.0988 -0.0228  0.4214  0.2461 -0.1315 -0.1934  0.2746 -0.3198\n",
       " 0.2166  0.1331  0.0591 -0.0168 -0.2242  0.3710 -0.3788 -0.1661 -0.2420  0.1524\n",
       " 0.0594 -0.0849  0.1712 -0.1916  0.1611 -0.3855 -0.0122 -0.1279  0.1566 -0.0010\n",
       " 0.1832  0.1609 -0.0347 -0.0706  0.1177  0.1392 -0.2400  0.1110 -0.1189  0.0218\n",
       " 0.3782 -0.1217  0.0333 -0.2594  0.0532  0.1487 -0.2127 -0.4396 -0.1797  0.0540\n",
       " 0.0376  0.0187  0.0605  0.3473  0.1566  0.1181  0.0093 -0.0337  0.1098  0.4585\n",
       " 0.1456  0.1304  0.4814 -0.4613 -0.0391 -0.0292 -0.2063 -0.2587  0.3194  0.1315\n",
       "-0.1551  0.0890 -0.1629 -0.0667 -0.1334  0.1000 -0.1733 -0.2645  0.1564 -0.2190\n",
       " 0.0669  0.0804 -0.1716 -0.0005  0.2286 -0.0712 -0.1575  0.0652  0.0060 -0.1832\n",
       " 0.0521  0.1899 -0.0515  0.1420 -0.1516  0.2579 -0.0768  0.1863  0.1920  0.1643\n",
       "-0.0119  0.0806 -0.0647  0.1405  0.4464 -0.0605 -0.0800 -0.1958 -0.0569  0.2471\n",
       "-0.0147 -0.1388 -0.1218  0.0437 -0.0074 -0.1282  0.1405  0.0575  0.0012  0.1609\n",
       " 0.3620  0.0367  0.1562 -0.2429  0.0654  0.0899 -0.0754 -0.0527 -0.2299  0.2419\n",
       " 0.2041  0.1984  0.2905 -0.0658 -0.0543 -0.0716  0.2847 -0.2437  0.1507  0.0759\n",
       "-0.2331 -0.0645 -0.1014  0.0930 -0.0651  0.3105  0.0784 -0.4611  0.0905 -0.1248\n",
       " 0.0837 -0.1537  0.0121  0.0506 -0.2451 -0.0949  0.0276  0.0497 -0.0100  0.1566\n",
       "\n",
       "Columns 20 to 29 \n",
       "-0.0752 -0.0504 -0.0169 -0.0571  0.0174  0.1116  0.2956 -0.3609 -0.2824  0.3481\n",
       " 0.0916  0.3151  0.1189  0.2341  0.2995 -0.0366  0.1408  0.0669  0.2221  0.2229\n",
       " 0.2181  0.2526  0.1651 -0.1780  0.2979  0.1842  0.1641  0.1692  0.2708  0.0663\n",
       " 0.2143  0.2965 -0.1945  0.3548  0.0700  0.2404  0.1785 -0.0230 -0.0088  0.1649\n",
       "-0.3526 -0.3553  0.0851  0.1704  0.2180  0.0659 -0.2078 -0.0707 -0.3070 -0.0380\n",
       " 0.0679 -0.4020 -0.5872 -0.2833  0.5414  0.1508 -0.2187  0.0431  0.2365  0.1652\n",
       " 0.1885  0.1841  0.0355 -0.0775  0.2472  0.1709  0.1832 -0.0981  0.0506  0.2569\n",
       "-0.0064  0.6134  0.2190  0.2772  0.2346 -0.0088 -0.1313  0.0530 -0.0451  0.3063\n",
       " 0.1037 -0.0173 -0.1988 -0.2633 -0.1658  0.0734  0.1311 -0.0749 -0.0800  0.1310\n",
       " 0.1288 -0.1832 -0.1705  0.0006 -0.0240  0.2714  0.0475 -0.1406 -0.0317  0.1999\n",
       "-0.1664 -0.2761  0.2166  0.3807  0.1897  0.1293  0.1149  0.2067 -0.0235  0.0882\n",
       " 0.0864 -0.5397  0.1530  0.0385 -0.1682  0.1634 -0.2015 -0.1468 -0.1899  0.0845\n",
       " 0.2043 -0.2403  0.3708 -0.1478  0.0835  0.3625 -0.2158  0.2503 -0.1114  0.3687\n",
       " 0.1668 -0.2430 -0.4690 -0.3715  0.1639  0.0989  0.1146 -0.1771 -0.4078  0.1954\n",
       " 0.4946 -0.6066 -0.0157  0.0624  0.1806  0.2183  0.2307 -0.1936  0.2518 -0.0829\n",
       "-0.2673  0.0953  0.2500 -0.0381  0.0792  0.2111 -0.2643 -0.2193 -0.1858  0.1693\n",
       " 0.1586  0.3618 -0.0245  0.0843  0.0984  0.2695  0.0617  0.1951 -0.0226  0.0781\n",
       "-0.4766 -0.1511  0.1920  0.1395  0.2975  0.4465  0.1852  0.0210 -0.2911  0.1715\n",
       "-0.2743 -0.3059  0.2429 -0.0330 -0.0647  0.2121  0.2480  0.3808 -0.2949  0.2108\n",
       " 0.3785  0.0157 -0.2482  0.2892 -0.0150  0.2186  0.0765 -0.0296 -0.2998  0.1548\n",
       "-0.3235  0.0175  0.0432  0.3510  0.0928  0.1472  0.0269 -0.0519 -0.0828  0.2925\n",
       "-0.3198 -0.0632  0.0574  0.0326  0.1772  0.2033  0.1019  0.3115  0.1808  0.1500\n",
       "-0.3000 -0.4125  0.3500  0.1091 -0.1028  0.0987  0.0587  0.1065  0.1282  0.2245\n",
       "\n",
       "Columns 30 to 33 \n",
       "-0.0595  0.0539  0.2885  0.1625\n",
       " 0.1638  0.1000 -0.3785 -0.0625\n",
       "-0.0999  0.4303 -0.1579 -0.3162\n",
       " 0.1736 -0.6768 -0.1487 -0.0532\n",
       " 0.2888  0.0201  0.0786 -0.4426\n",
       " 0.0742 -0.1225 -0.0705 -0.0640\n",
       " 0.1530  0.2214  0.5741 -0.2906\n",
       " 0.2926  0.1310  0.1764 -0.0441\n",
       " 0.0808 -0.1190  0.0592 -0.0642\n",
       "-0.2355  0.2945  0.2692 -0.0896\n",
       "-0.1423  0.2846  0.3894  0.1723\n",
       "-0.1568  0.0422  0.4710 -0.0864\n",
       "-0.4651  0.4044  0.5624 -0.2550\n",
       "-0.5559  0.0057  0.0077  0.3307\n",
       " 0.2257  0.1367 -0.0398 -0.0329\n",
       "-0.0667 -0.1876 -0.1181  0.0619\n",
       "-0.0163  0.1030 -0.4629  0.0506\n",
       "-0.0185 -0.1072  0.3289  0.1678\n",
       "-0.2886 -0.3436  0.2084  0.1591\n",
       " 0.0253  0.2382 -0.4929 -0.1059\n",
       "-0.0529  0.0965 -0.1607  0.4462\n",
       "-0.1924  0.2523  0.0229 -0.5121\n",
       " 0.3612 -0.1217 -0.1993  0.0350\n",
       "[torch.FloatTensor of size 23x34]"
      ]
     },
     "execution_count": 104,
     "metadata": {},
     "output_type": "execute_result"
    }
   ],
   "source": [
    "model[(0)].weight"
   ]
  },
  {
   "cell_type": "code",
   "execution_count": 105,
   "metadata": {
    "collapsed": false
   },
   "outputs": [
    {
     "data": {
      "text/plain": [
       "Parameter containing:\n",
       "\n",
       "Columns 0 to 9 \n",
       "-0.0499  0.0091  0.2392  0.1854  0.4268  0.0085  0.2560  0.0637  0.1763  0.0701\n",
       "-0.1510  0.2470  0.0145  0.0111  0.1061  0.1849  0.2822  0.1009 -0.0865  0.1541\n",
       "-0.3152  0.2895 -0.3928 -0.0383 -0.0325  0.1028  0.1690 -0.2073 -0.1280 -0.5275\n",
       "-0.1908  0.1352  0.1301  0.1794  0.5527  0.0980  0.2763  0.1560 -0.2173 -0.0364\n",
       " 0.2089  0.0325  0.1860  0.3710  0.4630  0.4544  0.0982  0.3390 -0.0142  0.2072\n",
       " 0.0214 -0.0043  0.0052  0.2385  0.2062  0.2060  0.2877 -0.0724  0.2643  0.2104\n",
       " 0.1772 -0.1301  0.1223  0.0560 -0.0169  0.1428  0.2060  0.1468  0.3505  0.2717\n",
       " 0.2086  0.3048  0.0434 -0.0612  0.3818 -0.1358  0.3056  0.0686 -0.1850  0.2040\n",
       " 0.2046 -0.0956  0.1221  0.1170  0.4272  0.4302  0.1713  0.3920 -0.0979  0.1180\n",
       " 0.0719  0.0702  0.1205  0.2480  0.3662  0.4414  0.1389  0.0372  0.1368  0.0825\n",
       " 0.2588  0.0976  0.2204  0.2218  0.3115  0.0718  0.0146  0.2560  0.1361  0.2260\n",
       "-0.2950  0.4095 -0.3746 -0.3740  0.0383  0.3086  0.1365 -0.0003 -0.2241 -0.3440\n",
       "-0.2007  0.0018  0.1914  0.1973 -0.0605  0.0773  0.1785  0.0722 -0.3411 -0.1656\n",
       "-0.0276  0.3967 -0.0990 -0.2936  0.1175  0.4420  0.4403  0.0396 -0.5192 -0.5270\n",
       " 0.3646  0.3047  0.1245  0.0485  0.0434  0.2710  0.0327  0.1591  0.3165  0.1903\n",
       "\n",
       "Columns 10 to 19 \n",
       " 0.0759  0.1538  0.1875  0.0922  0.2120  0.3069  0.2134  0.0133  0.1883  0.0012\n",
       " 0.1484  0.3146  0.2962  0.3282  0.2633 -0.3898 -0.0622  0.2694 -0.2530  0.3585\n",
       "-0.0188  0.2165  0.3184  0.3665  0.0403  0.0247 -0.1547  0.3549 -0.3154  0.3216\n",
       " 0.2572  0.5092 -0.0310  0.2754  0.0900 -0.2280  0.1356  0.0987 -0.2181  0.2633\n",
       " 0.2538 -0.0368 -0.1211  0.2832  0.0563  0.3604  0.2387  0.1098  0.1053  0.0505\n",
       " 0.2544  0.4325  0.1904  0.3005  0.2018 -0.1347 -0.0226  0.4601  0.0559  0.0267\n",
       " 0.2146 -0.1529 -0.0993  0.1310  0.3568  0.4660  0.1006 -0.2195  0.2978 -0.2514\n",
       " 0.1432  0.2851  0.4113  0.1679 -0.0193 -0.1549 -0.0195  0.2891  0.1995  0.3076\n",
       " 0.2087  0.3091  0.0810  0.3062  0.2582  0.3157 -0.0196  0.2286  0.0378  0.1693\n",
       "-0.0348  0.3611  0.2291  0.0052  0.0546  0.3531  0.2031  0.0072  0.3362  0.3034\n",
       " 0.1712  0.2349 -0.0707  0.3467  0.3584  0.3330 -0.1266 -0.0088  0.3247  0.2656\n",
       "-0.1915  0.4434 -0.1511  0.1428 -0.5281  0.3066 -0.4038  0.3484 -0.3440  0.3872\n",
       "-0.1048 -0.1146 -0.0641 -0.2685  0.0126  0.2525  0.0164 -0.0452 -0.2400  0.0697\n",
       "-0.3214  0.0321  0.1439  0.2214 -0.3807  0.1201 -0.6326  0.4376 -0.2885 -0.0078\n",
       " 0.2626  0.0334 -0.0208  0.3924  0.1756  0.1492 -0.0591  0.0477  0.1944 -0.1335\n",
       "\n",
       "Columns 20 to 22 \n",
       " 0.2725  0.0463  0.2345\n",
       "-0.0311  0.1219  0.1289\n",
       "-0.1125 -0.1741  0.1291\n",
       "-0.6319  0.3484  0.1014\n",
       " 0.2677  0.1160  0.0330\n",
       " 0.0048 -0.0161 -0.0201\n",
       " 0.5489 -0.0424  0.2818\n",
       "-0.1458  0.2949  0.0001\n",
       " 0.1360  0.0650  0.2617\n",
       " 0.0143  0.2234  0.2692\n",
       "-0.0188  0.2423 -0.0668\n",
       "-0.3260  0.0671  0.4740\n",
       " 0.2140  0.2645 -0.3649\n",
       "-0.5556 -0.5849  0.3367\n",
       " 0.3736  0.0246  0.0574\n",
       "[torch.FloatTensor of size 15x23]"
      ]
     },
     "execution_count": 105,
     "metadata": {},
     "output_type": "execute_result"
    }
   ],
   "source": [
    "model[(2)].weight"
   ]
  },
  {
   "cell_type": "code",
   "execution_count": 106,
   "metadata": {
    "collapsed": false
   },
   "outputs": [
    {
     "data": {
      "text/plain": [
       "Parameter containing:\n",
       "\n",
       "Columns 0 to 9 \n",
       " 0.4025  0.3363  0.0012 -0.0710  0.1855  0.2310  0.3487  0.2307  0.1246  0.2741\n",
       " 0.2482  0.0684 -0.0714  0.2352  0.2567  0.3811 -0.0956 -0.0702  0.2221 -0.0407\n",
       " 0.0050 -0.0344  0.1544  0.1894 -0.0937 -0.1614  0.0298 -0.0912 -0.2175  0.0629\n",
       " 0.0929  0.1529 -0.1286  0.0311  0.1508 -0.1432 -0.2133  0.1684  0.0180  0.0848\n",
       "-0.0760 -0.0733  0.1482 -0.0670  0.2850  0.4320  0.1465  0.1659  0.2163  0.2410\n",
       "-0.1918  0.3791  0.5471  0.1601 -0.2425  0.3443 -0.1954  0.3804 -0.0476 -0.0006\n",
       " 0.1248 -0.2898 -0.0501 -0.0836 -0.2232  0.1101 -0.0835  0.0646 -0.2890  0.0651\n",
       " 0.0712  0.0847 -0.0839 -0.2494 -0.1337 -0.1551 -0.2422 -0.2885 -0.1873  0.1877\n",
       " 0.3658 -0.0844  0.1272  0.2300  0.3813  0.3703 -0.0239  0.1722  0.0530  0.3993\n",
       " 0.1350  0.2263 -0.5095  0.1619  0.2347  0.4181  0.0530  0.4064  0.2915  0.3031\n",
       "\n",
       "Columns 10 to 14 \n",
       " 0.1163  0.3354  0.3033  0.4612  0.4266\n",
       " 0.3742 -0.8913 -0.1845 -0.7966  0.2099\n",
       " 0.0137 -0.2207  0.0347 -0.1351 -0.1707\n",
       " 0.1285 -0.1792  0.1256 -0.7269 -0.0086\n",
       "-0.0422  0.9722  0.1677  1.0468  0.0701\n",
       "-0.2845  0.9829  0.3685  0.9361 -0.1097\n",
       "-0.1737  0.0924 -0.0102 -0.0540  0.0844\n",
       "-0.3008 -0.1092  0.0611 -0.1291 -0.2563\n",
       " 0.2463  0.3567 -0.0534  1.0488  0.1596\n",
       " 0.3527 -0.9471 -0.1988 -1.3793 -0.1191\n",
       "[torch.FloatTensor of size 10x15]"
      ]
     },
     "execution_count": 106,
     "metadata": {},
     "output_type": "execute_result"
    }
   ],
   "source": [
    "model[(4)].weight"
   ]
  },
  {
   "cell_type": "code",
   "execution_count": 107,
   "metadata": {
    "collapsed": false
   },
   "outputs": [
    {
     "data": {
      "text/plain": [
       "Parameter containing:\n",
       " 0.2934  0.5375 -0.2300  0.0790  0.1026 -0.5350 -0.1929 -0.0712  0.3015  0.3490\n",
       " 0.2792  0.0244  0.0860 -0.0915  0.1303  0.5024 -0.1591  0.0313 -0.0910 -0.2525\n",
       "-0.0481 -0.0749 -0.2283 -0.0150  0.3110 -0.2126  0.0902 -0.0821 -0.2849  0.0857\n",
       " 0.2857  0.1833 -0.2354  0.2833 -0.0212 -0.1189  0.2745 -0.0793  0.3082  0.3831\n",
       "-0.0285 -0.1723 -0.1466 -0.1681  0.3270  0.4855 -0.1252 -0.3266  0.2956 -0.2526\n",
       " 0.2958  0.2342 -0.2713 -0.0425  0.4315  0.2606 -0.2211 -0.0562  0.1870  0.1336\n",
       " 0.2755  0.0655  0.2813  0.0252  0.0188  0.3172 -0.2457 -0.2417  0.3920  0.1062\n",
       "[torch.FloatTensor of size 7x10]"
      ]
     },
     "execution_count": 107,
     "metadata": {},
     "output_type": "execute_result"
    }
   ],
   "source": [
    "model[(6)].weight"
   ]
  },
  {
   "cell_type": "code",
   "execution_count": 108,
   "metadata": {
    "collapsed": false
   },
   "outputs": [
    {
     "data": {
      "text/plain": [
       "Parameter containing:\n",
       " 0.2411 -0.1013 -0.2832  0.2714 -0.2183  0.0280 -0.0019\n",
       " 0.3414 -0.3264  0.1715  0.1822 -0.5224  0.4931  0.1661\n",
       "-0.0988  0.5678  0.1552  0.0245  0.8940  0.2851  0.2330\n",
       " 0.0361 -0.4035  0.3776 -0.0438  0.0489 -0.0669 -0.1889\n",
       "-0.2585  0.2137 -0.0803 -0.1131  0.2481  0.3823  0.1132\n",
       "[torch.FloatTensor of size 5x7]"
      ]
     },
     "execution_count": 108,
     "metadata": {},
     "output_type": "execute_result"
    }
   ],
   "source": [
    "model[(8)].weight"
   ]
  },
  {
   "cell_type": "code",
   "execution_count": 109,
   "metadata": {
    "collapsed": false
   },
   "outputs": [
    {
     "data": {
      "text/plain": [
       "Parameter containing:\n",
       "-0.2914  0.3309  0.0615  0.2099 -0.3180\n",
       "-0.2166 -0.1137  0.7645 -0.1785  0.6946\n",
       "-0.1272  0.5559 -0.1243 -0.3994 -0.3606\n",
       "[torch.FloatTensor of size 3x5]"
      ]
     },
     "execution_count": 109,
     "metadata": {},
     "output_type": "execute_result"
    }
   ],
   "source": [
    "model[(10)].weight"
   ]
  },
  {
   "cell_type": "code",
   "execution_count": 110,
   "metadata": {
    "collapsed": false
   },
   "outputs": [
    {
     "data": {
      "text/plain": [
       "Parameter containing:\n",
       " 0.0540  0.1673 -0.1729\n",
       " 0.6376 -0.6940  0.3468\n",
       "[torch.FloatTensor of size 2x3]"
      ]
     },
     "execution_count": 110,
     "metadata": {},
     "output_type": "execute_result"
    }
   ],
   "source": [
    "model[(12)].weight"
   ]
  },
  {
   "cell_type": "code",
   "execution_count": 111,
   "metadata": {
    "collapsed": false
   },
   "outputs": [
    {
     "data": {
      "text/plain": [
       "Parameter containing:\n",
       "-0.5361  0.2470\n",
       "[torch.FloatTensor of size 1x2]"
      ]
     },
     "execution_count": 111,
     "metadata": {},
     "output_type": "execute_result"
    }
   ],
   "source": [
    "model[(14)].weight"
   ]
  },
  {
   "cell_type": "markdown",
   "metadata": {},
   "source": [
    "## Round 8: Linear Regression"
   ]
  },
  {
   "cell_type": "code",
   "execution_count": 112,
   "metadata": {
    "collapsed": true
   },
   "outputs": [],
   "source": [
    "# Make the torch Tensor into a PyTorch Variable for dependent variables\n",
    "outcomes_Variable = Variable(outcomes_Tensor)\n",
    "\n",
    "\n",
    "# ...for independent variables\n",
    "features_Variable = Variable(features_Tensor,\n",
    "                             requires_grad = False)"
   ]
  },
  {
   "cell_type": "code",
   "execution_count": 113,
   "metadata": {
    "collapsed": true
   },
   "outputs": [],
   "source": [
    "# Make the neural network - really a regression\n",
    "model = torch.nn.Sequential(torch.nn.Linear(34, 1))"
   ]
  },
  {
   "cell_type": "code",
   "execution_count": 114,
   "metadata": {
    "collapsed": false
   },
   "outputs": [],
   "source": [
    "# To add errors to\n",
    "errors = []\n",
    "\n",
    "\n",
    "# Set the learning rate\n",
    "learning_rate = 1e-2\n",
    "\n",
    "\n",
    "# Define the model's optimizer\n",
    "optimizer = torch.optim.Adagrad(model.parameters(), lr = learning_rate)\n",
    "\n",
    "\n",
    "# Train the neural network\n",
    "for t in range(10000):\n",
    "    \n",
    "    # Get the current predictions\n",
    "    y_pred = model(features_Variable)\n",
    "    \n",
    "    # Compute and append current summed errors\n",
    "    loss = loss_fn(y_pred, outcomes_Variable)\n",
    "    errors.append(loss.data[0])\n",
    "    \n",
    "    # Zero the gradients before running the backward pass.\n",
    "    optimizer.zero_grad()\n",
    "    \n",
    "    # Backward pass: compute gradient of the loss with respect to all the learnable Variables\n",
    "    loss.backward()\n",
    "    \n",
    "    # Update the weights using Adagrad\n",
    "    optimizer.step()"
   ]
  },
  {
   "cell_type": "code",
   "execution_count": 115,
   "metadata": {
    "collapsed": false
   },
   "outputs": [
    {
     "data": {
      "text/plain": [
       "<matplotlib.collections.PathCollection at 0x7f9584fbda58>"
      ]
     },
     "execution_count": 115,
     "metadata": {},
     "output_type": "execute_result"
    },
    {
     "data": {
      "image/png": "[encoded data removed]",
      "text/plain": [
       "<matplotlib.figure.Figure at 0x7f9584fd9cc0>"
      ]
     },
     "metadata": {},
     "output_type": "display_data"
    }
   ],
   "source": [
    "# Plot summed error as a function of iteration\n",
    "plt.scatter(iterations, errors, c = \"black\", alpha = 0.25)"
   ]
  },
  {
   "cell_type": "code",
   "execution_count": 116,
   "metadata": {
    "collapsed": false
   },
   "outputs": [],
   "source": [
    "# Get rid of the 2nd dimension of 1 from the FloatTensor\n",
    "y_pred_resized = y_pred.resize(8308)\n",
    "\n",
    "\n",
    "# Make the FloatTensor into a numpy.array\n",
    "y_pred_array = y_pred_resized.data.numpy()\n",
    "\n",
    "\n",
    "# Make the numpy.array into a list\n",
    "y_pred_list = y_pred_array.tolist()"
   ]
  },
  {
   "cell_type": "code",
   "execution_count": 117,
   "metadata": {
    "collapsed": false
   },
   "outputs": [
    {
     "data": {
      "text/plain": [
       "[<matplotlib.lines.Line2D at 0x7f9584f8d6d8>]"
      ]
     },
     "execution_count": 117,
     "metadata": {},
     "output_type": "execute_result"
    },
    {
     "data": {
      "image/png": "[encoded data removed]",
      "text/plain": [
       "<matplotlib.figure.Figure at 0x7f9584f8d5f8>"
      ]
     },
     "metadata": {},
     "output_type": "display_data"
    }
   ],
   "source": [
    "# Plot predictions versus training set outcomes\n",
    "plt.scatter(outcomes_list, y_pred_list, c = \"black\", alpha = 0.15)\n",
    "\n",
    "axes = plt.gca()\n",
    "\n",
    "axes.set_xlim([-2, 4])\n",
    "\n",
    "axes.set_ylim([-2, 4])\n",
    "\n",
    "plt.plot([-2, 4], [-2, 4], 'k-', lw=2)"
   ]
  },
  {
   "cell_type": "markdown",
   "metadata": {
    "collapsed": false
   },
   "source": [
    "### Round 8.1: Validation Set Performance"
   ]
  },
  {
   "cell_type": "code",
   "execution_count": 118,
   "metadata": {
    "collapsed": false
   },
   "outputs": [
    {
     "data": {
      "text/plain": [
       "Variable containing:\n",
       " 281.9342\n",
       "[torch.FloatTensor of size 1]"
      ]
     },
     "execution_count": 118,
     "metadata": {},
     "output_type": "execute_result"
    }
   ],
   "source": [
    "# Get the validation set predictions\n",
    "y_valid_pred = model(valid_predictors_Variable)\n",
    "\n",
    "\n",
    "# Print the loss\n",
    "loss_fn(y_valid_pred,\n",
    "        valid_outcomes_Variable)"
   ]
  },
  {
   "cell_type": "code",
   "execution_count": 119,
   "metadata": {
    "collapsed": true
   },
   "outputs": [],
   "source": [
    "# Get rid of the 2nd dimension of 1 from the FloatTensor\n",
    "y_valid_pred_resized = y_valid_pred.resize(2808)\n",
    "\n",
    "\n",
    "# Make the FloatTensor into a numpy.array\n",
    "y_valid_pred_array = y_valid_pred_resized.data.numpy()\n",
    "\n",
    "\n",
    "# Convert back to log scale\n",
    "y_valid_pred_array = y_valid_pred_array*5.407597 + 7.688844\n",
    "\n",
    "\n",
    "# Make the numpy.array into a list\n",
    "y_valid_pred_list = y_valid_pred_array.tolist()"
   ]
  },
  {
   "cell_type": "code",
   "execution_count": 120,
   "metadata": {
    "collapsed": false
   },
   "outputs": [
    {
     "data": {
      "text/plain": [
       "<matplotlib.text.Text at 0x7f9584eb9080>"
      ]
     },
     "execution_count": 120,
     "metadata": {},
     "output_type": "execute_result"
    },
    {
     "data": {
      "image/png": "[encoded data removed]",
      "text/plain": [
       "<matplotlib.figure.Figure at 0x7f95850c44e0>"
      ]
     },
     "metadata": {},
     "output_type": "display_data"
    }
   ],
   "source": [
    "# Plot new predictions versus new data outcomes\n",
    "plt.scatter(valid_outcomes_list, y_valid_pred_list, c = \"black\", alpha = 0.15)\n",
    "\n",
    "axes = plt.gca()\n",
    "\n",
    "axes.set_xlim([0, 24])\n",
    "\n",
    "axes.set_ylim([0, 24])\n",
    "\n",
    "axes.set_xticks([0, 4, 8, 12, 16, 20, 24])\n",
    "\n",
    "axes.set_yticks([0, 4, 8, 12, 16, 20, 24])\n",
    "\n",
    "plt.plot([0, 24], [0, 24], 'k-', lw = 2)\n",
    "\n",
    "axes.set_xlabel(\"Actual Outcome (Log-Transformed US Dollars)\")\n",
    "\n",
    "axes.set_ylabel(\"Model Prediction (Log-Transformed US Dollars)\")\n",
    "\n",
    "axes.set_title(\"Model Performance\")"
   ]
  },
  {
   "cell_type": "code",
   "execution_count": 121,
   "metadata": {
    "collapsed": false
   },
   "outputs": [
    {
     "data": {
      "text/plain": [
       "Parameter containing:\n",
       "\n",
       "Columns 0 to 9 \n",
       " 0.0090  0.0196  0.0069  0.1633  0.1890 -0.0317  0.0178 -0.0062 -0.0198  0.0174\n",
       "\n",
       "Columns 10 to 19 \n",
       "-0.0127  0.0083  0.0038 -0.0214  0.0111 -0.0178 -0.0003  0.0101 -0.0055  0.0084\n",
       "\n",
       "Columns 20 to 29 \n",
       "-0.0037  0.0150  0.0127  0.0383 -0.0011  0.0280  0.0995  0.0207 -0.0112 -0.0760\n",
       "\n",
       "Columns 30 to 33 \n",
       "-0.0291  0.0208  0.0035  0.0092\n",
       "[torch.FloatTensor of size 1x34]"
      ]
     },
     "execution_count": 121,
     "metadata": {},
     "output_type": "execute_result"
    }
   ],
   "source": [
    "model[(0)].weight"
   ]
  }
 ],
 "metadata": {
  "kernelspec": {
   "display_name": "Python 3",
   "language": "python",
   "name": "python3"
  },
  "language_info": {
   "codemirror_mode": {
    "name": "ipython",
    "version": 3
   },
   "file_extension": ".py",
   "mimetype": "text/x-python",
   "name": "python",
   "nbconvert_exporter": "python",
   "pygments_lexer": "ipython3",
   "version": "3.6.0"
  }
 },
 "nbformat": 4,
 "nbformat_minor": 2
}
