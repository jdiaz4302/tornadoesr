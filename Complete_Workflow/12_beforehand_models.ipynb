{
 "cells": [
  {
   "cell_type": "markdown",
   "metadata": {},
   "source": [
    "## Setup"
   ]
  },
  {
   "cell_type": "code",
   "execution_count": 1,
   "metadata": {
    "collapsed": true
   },
   "outputs": [],
   "source": [
    "# Packages\n",
    "import pandas as pd\n",
    "import torch\n",
    "from torch.autograd import Variable\n",
    "import numpy as np\n",
    "import matplotlib.pyplot as plt\n",
    "plt.style.use('seaborn-whitegrid')\n",
    "%matplotlib inline\n",
    "import pylab\n",
    "import math"
   ]
  },
  {
   "cell_type": "markdown",
   "metadata": {},
   "source": [
    "Importing and formatting the training data"
   ]
  },
  {
   "cell_type": "code",
   "execution_count": 2,
   "metadata": {
    "collapsed": false
   },
   "outputs": [],
   "source": [
    "# Import data\n",
    "tor_df = pd.read_csv(\"/home/jeremy/github_tornadoesr/data/raw/tor_train_set.csv\")"
   ]
  },
  {
   "cell_type": "code",
   "execution_count": 3,
   "metadata": {
    "collapsed": false
   },
   "outputs": [
    {
     "data": {
      "text/plain": [
       "['DAMAGE_PROPERTY']"
      ]
     },
     "execution_count": 3,
     "metadata": {},
     "output_type": "execute_result"
    }
   ],
   "source": [
    "# Seperating variables\n",
    "# The outcomes\n",
    "tornado_outcome = tor_df.iloc[:, [0]]\n",
    "\n",
    "\n",
    "# Make sure variable is right\n",
    "list(tornado_outcome)"
   ]
  },
  {
   "cell_type": "code",
   "execution_count": 4,
   "metadata": {
    "collapsed": false
   },
   "outputs": [
    {
     "data": {
      "text/plain": [
       "['BEGIN_LAT',\n",
       " 'BEGIN_LON',\n",
       " 'OPEN_WATER_PROP',\n",
       " 'DEV_OPEN_PROP',\n",
       " 'DEV_LOW_PROP',\n",
       " 'DEV_MED_PROP',\n",
       " 'DEV_HIGH_PROP',\n",
       " 'BARREN_LAND_PROP',\n",
       " 'DECID_FOREST_PROP',\n",
       " 'EVERGR_FOREST_PROP',\n",
       " 'MIXED_FOREST_PROP',\n",
       " 'SHRUB_SCRUB_PROP',\n",
       " 'GRASS_LAND_PROP',\n",
       " 'PASTURE_HAY_PROP',\n",
       " 'CULT_CROPS_PROP',\n",
       " 'WOOD_WETLAND_PROP',\n",
       " 'HERB_WETLAND_PROP',\n",
       " 'INCOME',\n",
       " 'MOB_HOME_DENS',\n",
       " 'POP_DENS',\n",
       " 'TOT_DEV_INT',\n",
       " 'TOT_WOOD_AREA',\n",
       " 'WOOD_DEV_INT',\n",
       " 'STATE_RANK']"
      ]
     },
     "execution_count": 4,
     "metadata": {},
     "output_type": "execute_result"
    }
   ],
   "source": [
    "# The predictors\n",
    "tornado_predictors = tor_df.iloc[:, 2:34]\n",
    "\n",
    "# Drop the ones that are irrelevant to this model type\n",
    "tornado_predictors = tornado_predictors.drop([\"TOR_LENGTH\",\n",
    "                                              \"TOR_WIDTH\",\n",
    "                                              \"YEAR\",\n",
    "                                              \"MULTI_VORT_IND\",\n",
    "                                              \"TOR_AREA\",\n",
    "                                              \"EXP_INC_AREA\",\n",
    "                                              \"DAY_OF_YEAR\",\n",
    "                                              \"MONTH\"],\n",
    "                                             axis = 1)\n",
    "\n",
    "\n",
    "# Make sure the variables are right\n",
    "list(tornado_predictors)"
   ]
  },
  {
   "cell_type": "code",
   "execution_count": 5,
   "metadata": {
    "collapsed": false
   },
   "outputs": [],
   "source": [
    "# Make the outcomes into a numpy array\n",
    "outcome_array = tornado_outcome.values\n",
    "\n",
    "# Makes that numpy array into a torch Tensor\n",
    "outcome_Tensor = torch.from_numpy(outcome_array)\n",
    "\n",
    "\n",
    "# Make the predictors into a numpy array\n",
    "predictors_array = tornado_predictors.values\n",
    "\n",
    "# Make that numpy array into a torch Tensor\n",
    "predictors_Tensor = torch.from_numpy(predictors_array)\n",
    "\n",
    "\n",
    "# Convert those DoubleTensors to FloatTensors\n",
    "# Changing outcomes from a DoubleTensor to a FloatTensor\n",
    "outcome_Tensor = outcome_Tensor.float()\n",
    "\n",
    "# Changing predictors too\n",
    "predictors_Tensor = predictors_Tensor.float()"
   ]
  },
  {
   "cell_type": "markdown",
   "metadata": {},
   "source": [
    "Now the cross-validation data"
   ]
  },
  {
   "cell_type": "code",
   "execution_count": 6,
   "metadata": {
    "collapsed": false
   },
   "outputs": [
    {
     "data": {
      "text/plain": [
       "['DAMAGE_PROPERTY']"
      ]
     },
     "execution_count": 6,
     "metadata": {},
     "output_type": "execute_result"
    }
   ],
   "source": [
    "# Import cross-validation data\n",
    "cv_df = pd.read_csv(\"/home/jeremy/github_tornadoesr/data/raw/tor_cv_set.csv\")\n",
    "\n",
    "\n",
    "# Get the outcomes\n",
    "cv_outcome = cv_df.iloc[:, [0]]\n",
    "\n",
    "# Convert the pandas column to a ndarray and then into a FloatTensor\n",
    "cv_outcome_Tensor = torch.from_numpy(cv_outcome.values).float()\n",
    "\n",
    "\n",
    "# Make sure the variable is right\n",
    "list(cv_outcome)"
   ]
  },
  {
   "cell_type": "code",
   "execution_count": 7,
   "metadata": {
    "collapsed": false
   },
   "outputs": [
    {
     "data": {
      "text/plain": [
       "['BEGIN_LAT',\n",
       " 'BEGIN_LON',\n",
       " 'OPEN_WATER_PROP',\n",
       " 'DEV_OPEN_PROP',\n",
       " 'DEV_LOW_PROP',\n",
       " 'DEV_MED_PROP',\n",
       " 'DEV_HIGH_PROP',\n",
       " 'BARREN_LAND_PROP',\n",
       " 'DECID_FOREST_PROP',\n",
       " 'EVERGR_FOREST_PROP',\n",
       " 'MIXED_FOREST_PROP',\n",
       " 'SHRUB_SCRUB_PROP',\n",
       " 'GRASS_LAND_PROP',\n",
       " 'PASTURE_HAY_PROP',\n",
       " 'CULT_CROPS_PROP',\n",
       " 'WOOD_WETLAND_PROP',\n",
       " 'HERB_WETLAND_PROP',\n",
       " 'INCOME',\n",
       " 'MOB_HOME_DENS',\n",
       " 'POP_DENS',\n",
       " 'TOT_DEV_INT',\n",
       " 'TOT_WOOD_AREA',\n",
       " 'WOOD_DEV_INT',\n",
       " 'STATE_RANK']"
      ]
     },
     "execution_count": 7,
     "metadata": {},
     "output_type": "execute_result"
    }
   ],
   "source": [
    "# Get the validation set predictors\n",
    "cv_predictors = cv_df.iloc[:, 2:34]\n",
    "\n",
    "# Drop the irrelevant ones\n",
    "cv_predictors = cv_predictors.drop([\"TOR_LENGTH\", \"TOR_WIDTH\",\n",
    "                                    \"YEAR\", \"MULTI_VORT_IND\",\n",
    "                                    \"TOR_AREA\", \"EXP_INC_AREA\",\n",
    "                                    \"DAY_OF_YEAR\", \"MONTH\"],\n",
    "                                   axis = 1)\n",
    "\n",
    "# Make the validation set predictors into a numpy array\n",
    "cv_predictors_Tensor = torch.from_numpy(cv_predictors.values).float()\n",
    "\n",
    "\n",
    "# Make sure the variables are right\n",
    "list(cv_predictors)"
   ]
  },
  {
   "cell_type": "markdown",
   "metadata": {},
   "source": [
    "Now the test set data"
   ]
  },
  {
   "cell_type": "code",
   "execution_count": 8,
   "metadata": {
    "collapsed": false
   },
   "outputs": [
    {
     "data": {
      "text/plain": [
       "['DAMAGE_PROPERTY']"
      ]
     },
     "execution_count": 8,
     "metadata": {},
     "output_type": "execute_result"
    }
   ],
   "source": [
    "# Import the test set data\n",
    "test_df = pd.read_csv(\"/home/jeremy/github_tornadoesr/data/raw/tor_test_set.csv\")\n",
    "\n",
    "\n",
    "# Get the outcomes\n",
    "test_outcome = test_df.iloc[:, [0]]\n",
    "\n",
    "# Convert the pandas column to a ndarray and then into a FloatTensor\n",
    "test_outcome_Tensor = torch.from_numpy(test_outcome.values).float()\n",
    "\n",
    "\n",
    "# Make sure the variable is right\n",
    "list(test_outcome)"
   ]
  },
  {
   "cell_type": "code",
   "execution_count": 9,
   "metadata": {
    "collapsed": false
   },
   "outputs": [
    {
     "data": {
      "text/plain": [
       "['BEGIN_LAT',\n",
       " 'BEGIN_LON',\n",
       " 'OPEN_WATER_PROP',\n",
       " 'DEV_OPEN_PROP',\n",
       " 'DEV_LOW_PROP',\n",
       " 'DEV_MED_PROP',\n",
       " 'DEV_HIGH_PROP',\n",
       " 'BARREN_LAND_PROP',\n",
       " 'DECID_FOREST_PROP',\n",
       " 'EVERGR_FOREST_PROP',\n",
       " 'MIXED_FOREST_PROP',\n",
       " 'SHRUB_SCRUB_PROP',\n",
       " 'GRASS_LAND_PROP',\n",
       " 'PASTURE_HAY_PROP',\n",
       " 'CULT_CROPS_PROP',\n",
       " 'WOOD_WETLAND_PROP',\n",
       " 'HERB_WETLAND_PROP',\n",
       " 'INCOME',\n",
       " 'MOB_HOME_DENS',\n",
       " 'POP_DENS',\n",
       " 'TOT_DEV_INT',\n",
       " 'TOT_WOOD_AREA',\n",
       " 'WOOD_DEV_INT',\n",
       " 'STATE_RANK']"
      ]
     },
     "execution_count": 9,
     "metadata": {},
     "output_type": "execute_result"
    }
   ],
   "source": [
    "# Get the test set predictors\n",
    "test_predictors = test_df.iloc[:, 2:34]\n",
    "\n",
    "# Drop the irrelevant ones\n",
    "test_predictors = test_predictors.drop([\"TOR_LENGTH\", \"TOR_WIDTH\",\n",
    "                                        \"YEAR\", \"MULTI_VORT_IND\",\n",
    "                                        \"TOR_AREA\", \"EXP_INC_AREA\",\n",
    "                                        \"DAY_OF_YEAR\", \"MONTH\"],\n",
    "                                       axis = 1)\n",
    "\n",
    "# Make the test set predictors into a numpy array\n",
    "test_predictors_Tensor = torch.from_numpy(test_predictors.values).float()\n",
    "\n",
    "\n",
    "# Make sure the variables are right\n",
    "list(test_predictors)"
   ]
  },
  {
   "cell_type": "markdown",
   "metadata": {},
   "source": [
    "## 1. One-Hidden-Layer Neural Network"
   ]
  },
  {
   "cell_type": "markdown",
   "metadata": {},
   "source": [
    "Define the model architecture"
   ]
  },
  {
   "cell_type": "code",
   "execution_count": 10,
   "metadata": {
    "collapsed": false
   },
   "outputs": [],
   "source": [
    "# Define the neural network\n",
    "class Net(torch.nn.Module):\n",
    "    \n",
    "    def __init__(self):\n",
    "        super(Net, self).__init__()\n",
    "        self.fc1 = torch.nn.Linear(24, 16)\n",
    "        self.fc2 = torch.nn.Linear(16, 1)\n",
    "        \n",
    "    def forward(self, x):\n",
    "        x = torch.nn.functional.relu(self.fc1(x))\n",
    "        x = self.fc2(x)\n",
    "        return(x)\n",
    "\n",
    "\n",
    "# Make it\n",
    "model = Net()"
   ]
  },
  {
   "cell_type": "markdown",
   "metadata": {},
   "source": [
    "Defining a function to setup and train the models. It will also produce a loss versus iteration plot"
   ]
  },
  {
   "cell_type": "code",
   "execution_count": 11,
   "metadata": {
    "collapsed": false
   },
   "outputs": [],
   "source": [
    "def train_neural_net(model, train_outcomes, train_inputs,\n",
    "                     iterations, loss_fn, optimizer,\n",
    "                     cv_outcomes, cv_inputs):\n",
    "    \n",
    "    # This function will train the neural network and produce a loss versus iteration plot\n",
    "    # learning_rate = the optimizing learning rate\n",
    "    # model = the model architecture\n",
    "    # train_outcomes = the right answers\n",
    "    # train_inputs = what we're using to get to the right answers\n",
    "    # iterations = how many times the optimizing algorithm repeats\n",
    "    # loss_fn = what we're optimizing in respect to\n",
    "    # optimizer = how we're going to optimize\n",
    "    \n",
    "    \n",
    "    # Make the outcomes into a Torch Variable\n",
    "    outcome_Variable = Variable(train_outcomes)\n",
    "    \n",
    "    # Make the cv outcomes into a Torch Variable\n",
    "    cv_outcome_Variable = Variable(cv_outcomes)\n",
    "    \n",
    "    # Make the predictors into a Torch Variable\n",
    "    predictors_Variable = Variable(train_inputs,\n",
    "                                   requires_grad = False)\n",
    "    \n",
    "    # Make the cv predictors into a Torch Variable\n",
    "    cv_predictors_Variable = Variable(cv_inputs)\n",
    "    \n",
    "    \n",
    "    # Make an empty list to add to for each iteration\n",
    "    current_loss_value = []\n",
    "    \n",
    "    # For the cv too\n",
    "    current_cv_loss_value = []\n",
    "    \n",
    "    \n",
    "    # Train the neural network\n",
    "    for t in range(iterations):\n",
    "        \n",
    "        # Get the current predictions\n",
    "        current_pred = model(predictors_Variable)\n",
    "        cv_pred = model(cv_predictors_Variable)\n",
    "        \n",
    "        # Compute current loss and and append that to the empty list\n",
    "        current_loss = loss_fn(current_pred, outcome_Variable)\n",
    "        current_loss_value.append(current_loss.data[0])\n",
    "        \n",
    "        current_cv_loss = loss_fn(cv_pred, cv_outcome_Variable)\n",
    "        current_cv_loss_value.append(current_cv_loss.data[0])\n",
    "        \n",
    "        # Zero the gradients before backwards pass\n",
    "        optimizer.zero_grad()\n",
    "        \n",
    "        # Backwards pass\n",
    "        current_loss.backward()\n",
    "        \n",
    "        # Update model parameters\n",
    "        optimizer.step()\n",
    "    \n",
    "    \n",
    "    # Get iterations as a list for x-axis of plot\n",
    "    iterations_x = list(range(0, iterations))\n",
    "    \n",
    "    \n",
    "    # Convert total square error to mean square error\n",
    "    mse = (np.asarray(current_loss_value) / len(predictors_Variable)).tolist()\n",
    "    \n",
    "    # For cv too\n",
    "    mse_cv = (np.asarray(current_cv_loss_value) / len(cv_predictors_Variable)).tolist()\n",
    "    \n",
    "    \n",
    "    # Plot loss versus iteration\n",
    "    plt.plot(iterations_x, mse)\n",
    "    plt.plot(iterations_x, mse_cv, \"r-\")\n",
    "    plt.xlabel(\"Iteration\")\n",
    "    plt.ylabel(\"Loss Value\")\n",
    "    plt.title(\"How'd the Optimizing Go?\")"
   ]
  },
  {
   "cell_type": "markdown",
   "metadata": {},
   "source": [
    "Set the loss function and optimizing method to use throughout the notebook"
   ]
  },
  {
   "cell_type": "code",
   "execution_count": 12,
   "metadata": {
    "collapsed": true
   },
   "outputs": [],
   "source": [
    "# Set the loss function\n",
    "loss_fn = torch.nn.MSELoss(size_average = False)\n",
    "\n",
    "\n",
    "# Set the learning rate\n",
    "learning_rate = 1e-2\n",
    "\n",
    "# Define the model's optimizer\n",
    "optimizer = torch.optim.Adagrad(model.parameters(), lr = learning_rate)"
   ]
  },
  {
   "cell_type": "markdown",
   "metadata": {},
   "source": [
    "Train the first model.\n",
    "\n",
    "The plot will display how well it optimized. The blue line is the data the model was optimized on, while the red line is new (cross-validation) data."
   ]
  },
  {
   "cell_type": "code",
   "execution_count": 13,
   "metadata": {
    "collapsed": false
   },
   "outputs": [
    {
     "data": {
      "image/png": "[encoded data removed]",
      "text/plain": [
       "<matplotlib.figure.Figure at 0x7f7370334da0>"
      ]
     },
     "metadata": {},
     "output_type": "display_data"
    }
   ],
   "source": [
    "train_neural_net(model, outcome_Tensor, predictors_Tensor,\n",
    "                 15000, loss_fn, optimizer, cv_outcome_Tensor,\n",
    "                 cv_predictors_Tensor)"
   ]
  },
  {
   "cell_type": "markdown",
   "metadata": {},
   "source": [
    "### 1.1 Performance Metrics"
   ]
  },
  {
   "cell_type": "markdown",
   "metadata": {},
   "source": [
    "We're really interested in how it does on new data, so let's get some metrics of its performance on the new data.\n",
    "\n",
    "First: Mean squared error (MSE)"
   ]
  },
  {
   "cell_type": "code",
   "execution_count": 14,
   "metadata": {
    "collapsed": false
   },
   "outputs": [],
   "source": [
    "def compute_MSE(predictors, observed_outcomes):\n",
    "    \n",
    "    # Computes the mean squared error of the model\n",
    "    # predictors = the variables and values used in prediction\n",
    "    # observed_outcomes = what the prediction would ideally yield\n",
    "\n",
    "    \n",
    "    # Get the validation set predictions\n",
    "    cv_predictions = model(Variable(predictors, requires_grad = False))\n",
    "    \n",
    "    # Get the validation set outcomes\n",
    "    cv_outcomes = Variable(observed_outcomes)\n",
    "    \n",
    "    \n",
    "    # Get the loss - (total) residual sum of squares\n",
    "    total_SE = loss_fn(cv_predictions, cv_outcomes)\n",
    "    \n",
    "    # Average that to get mean square error\n",
    "    mean_SE = total_SE / len(predictors)\n",
    "    return(mean_SE)"
   ]
  },
  {
   "cell_type": "code",
   "execution_count": 15,
   "metadata": {
    "collapsed": false
   },
   "outputs": [
    {
     "data": {
      "text/plain": [
       "Variable containing:\n",
       " 0.7790\n",
       "[torch.FloatTensor of size 1]"
      ]
     },
     "execution_count": 15,
     "metadata": {},
     "output_type": "execute_result"
    }
   ],
   "source": [
    "MSE = compute_MSE(cv_predictors_Tensor, cv_outcome_Tensor)\n",
    "MSE"
   ]
  },
  {
   "cell_type": "code",
   "execution_count": 16,
   "metadata": {
    "collapsed": false
   },
   "outputs": [],
   "source": [
    "def compute_R_squared(predictors, observed_outcomes):\n",
    "    \n",
    "    # Computes R-squared of the model\n",
    "    # predictors = the variables and values used in prediction\n",
    "    # observed_outcomes = what the prediction would ideally yield\n",
    "    \n",
    "    \n",
    "    # Get the mean of the observed outcomes\n",
    "    observed_mean = (sum(observed_outcomes) / len(observed_outcomes)).numpy()[0]\n",
    "    \n",
    "    # Fill an ndarray with that\n",
    "    valid_outcomes_mean = np.repeat(observed_mean, len(observed_outcomes))\n",
    "    \n",
    "    # Convert that to a Variable\n",
    "    valid_outcomes_mean = Variable(torch.from_numpy(valid_outcomes_mean))\n",
    "    \n",
    "    \n",
    "    # Compute total sum of squares\n",
    "    TSS = loss_fn(valid_outcomes_mean, Variable(observed_outcomes))\n",
    "    \n",
    "    \n",
    "    # Compute residual sum of squares\n",
    "    RSS = loss_fn(model(Variable(predictors)), Variable(observed_outcomes))\n",
    "    \n",
    "    \n",
    "    # Compute R-squared\n",
    "    R_squared = 1 - (RSS / TSS)\n",
    "    return(R_squared)"
   ]
  },
  {
   "cell_type": "code",
   "execution_count": 17,
   "metadata": {
    "collapsed": false
   },
   "outputs": [
    {
     "data": {
      "text/plain": [
       "Variable containing:\n",
       " 0.2107\n",
       "[torch.FloatTensor of size 1]"
      ]
     },
     "execution_count": 17,
     "metadata": {},
     "output_type": "execute_result"
    }
   ],
   "source": [
    "R_squared = compute_R_squared(cv_predictors_Tensor, cv_outcome_Tensor)\n",
    "R_squared"
   ]
  },
  {
   "cell_type": "markdown",
   "metadata": {},
   "source": [
    "### 1.2 Performance Visualization"
   ]
  },
  {
   "cell_type": "markdown",
   "metadata": {},
   "source": [
    "In log-transformed space, plot predicted values versus observed values for new data"
   ]
  },
  {
   "cell_type": "code",
   "execution_count": 18,
   "metadata": {
    "collapsed": true
   },
   "outputs": [],
   "source": [
    "def plot_cross_valid_perf(cv_predictors, cv_obs):\n",
    "    \n",
    "    # Plots how well the model performs on new data\n",
    "    # cv_pred = the values that the model predicts from\n",
    "    # cv_obs = what the model would ideally predict\n",
    "    \n",
    "    \n",
    "    # Get the predictions\n",
    "    cv_predictions = model(Variable(cv_predictors, requires_grad = False))\n",
    "    \n",
    "    # Convert that to a numpy array\n",
    "    cv_predictions = cv_predictions.data.numpy()\n",
    "    \n",
    "    # Put it in log-transformed scale and convert it to a list\n",
    "    cv_predictions = (cv_predictions*5.407597 + 7.688844).tolist()\n",
    "    \n",
    "    \n",
    "    # Put the observed outcomes in log-transformed scale\n",
    "    # and convert it to a list\n",
    "    cv_obs = (cv_obs.numpy()*5.407597 + 7.688844).tolist()\n",
    "    \n",
    "    \n",
    "    # Plot it\n",
    "    plt.scatter(cv_obs, cv_predictions, facecolors = \"none\", edgecolors = \"k\")\n",
    "    axes = plt.gca()\n",
    "    axes.set_xlim([-1, 24])\n",
    "    axes.set_ylim([-1, 24])\n",
    "    axes.set_xticks([0, 3, 6, 9, 12, 15, 18, 21, 24])\n",
    "    axes.set_yticks([0, 3, 6, 9, 12, 15, 18, 21, 24])\n",
    "    plt.plot([-1, 24], [-1, 24], 'k-', lw = 2)\n",
    "    axes.set_xlabel(\"Observed (Log-Transformed US Dollars + 1)\")\n",
    "    axes.set_ylabel(\"Predicted (Log-Transformed US Dollars + 1)\")\n",
    "    axes.set_title(\"Model Performance on Cross-Validation Data\")\n",
    "    plt.text(0.5, 21, r\"$R^2$ = %s\"%(R_squared.data.numpy()[0]))\n",
    "    plt.text(0.5, 19, \"MSE = %s\"%(MSE.data.numpy()[0]))"
   ]
  },
  {
   "cell_type": "code",
   "execution_count": 19,
   "metadata": {
    "collapsed": false
   },
   "outputs": [
    {
     "data": {
      "image/png": "[encoded data removed]",
      "text/plain": [
       "<matplotlib.figure.Figure at 0x7f73705b88d0>"
      ]
     },
     "metadata": {},
     "output_type": "display_data"
    }
   ],
   "source": [
    "plot_cross_valid_perf(cv_predictors_Tensor, cv_outcome_Tensor)"
   ]
  },
  {
   "cell_type": "markdown",
   "metadata": {},
   "source": [
    "Lastly, let's inspect the first hidden layer's weights"
   ]
  },
  {
   "cell_type": "code",
   "execution_count": 20,
   "metadata": {
    "collapsed": false
   },
   "outputs": [
    {
     "data": {
      "text/plain": [
       "Parameter containing:\n",
       "\n",
       "Columns 0 to 9 \n",
       " 0.0252  0.0535 -0.0419 -0.5361  0.0734 -0.0577  0.1204  0.1471 -0.0585 -0.0211\n",
       "-0.5246 -0.0395 -0.0113 -0.4055 -0.1700  0.4537 -0.0431 -0.2090 -0.1654  0.0483\n",
       "-0.0071 -0.1348 -0.1946  0.0493  0.0288 -0.1229  0.4293 -0.5038  0.0474 -0.2180\n",
       " 0.0846  0.0659 -0.2538 -0.3291 -0.0159 -0.0789  0.3112  0.0564  0.2040  0.0821\n",
       "-0.2110  0.1863  0.3588  0.2483 -0.4259  0.2714 -0.1144  0.2075  0.2364  0.1804\n",
       "-0.3108  0.1357  0.1173  0.0571  0.3400 -0.4315  0.5325 -0.0747  0.4910  0.0962\n",
       "-0.3952 -0.5537  0.0121 -0.3073 -0.1865  0.2326  0.1139 -0.1970 -0.2092  0.1087\n",
       "-0.1648 -0.2482 -0.1717  0.1387  0.1462 -0.1835  0.1889 -0.4130 -0.0021 -0.2939\n",
       " 0.1911  0.0369 -0.3496 -0.1252 -0.0579  0.0118  0.1923  0.1898  0.0798 -0.1910\n",
       " 0.1107  0.1620 -0.2973 -0.1230  0.0775  0.0194  0.2137  0.1049 -0.0954 -0.1350\n",
       " 0.0424  0.0434  0.3003  0.1176 -0.0144  0.0189 -0.0694  0.0921 -0.1180  0.3063\n",
       " 0.1576  0.0661 -0.2994  0.0826 -0.3145  0.3082  0.0528 -0.1348  0.4141  0.1978\n",
       "-0.3760  0.3329  0.0800 -0.3076 -0.0116  0.3240 -0.2267  0.1985 -0.0065  0.1173\n",
       " 0.1483 -0.0787  0.1030  0.0146 -0.0019  0.0040 -0.0635 -0.0011 -0.1218 -0.1762\n",
       " 0.0643 -0.0364  0.1579  0.0031  0.3732 -0.3132 -0.1419  0.0810 -0.2246  0.2003\n",
       " 0.0458 -0.0073  0.0424  0.0259  0.0074  0.0725 -0.0856 -0.0480  0.2066 -0.1152\n",
       "\n",
       "Columns 10 to 19 \n",
       "-0.2749  0.5976  0.0363  0.0095 -0.0778 -0.0953 -0.1869 -0.0202 -0.3082  0.3169\n",
       " 0.2887 -0.4296  0.1052 -0.2546 -0.2830  0.1072  0.1591  0.0778 -0.0680  0.0466\n",
       " 0.4053 -0.2619 -0.2365 -0.0183 -0.2455  0.2218  0.0535  0.4538 -0.0770  0.4254\n",
       "-0.0726  0.4742  0.0738 -0.0543 -0.1659 -0.2727 -0.1870 -0.2343 -0.2910  0.1149\n",
       "-0.1139 -0.1007  0.0433  0.1129 -0.3009 -0.2715  0.1796 -0.2514 -0.0224 -0.0036\n",
       "-0.0480 -0.2484  0.0264  0.0975  0.0601  0.2472 -0.0511  0.2252 -0.0404  0.1107\n",
       "-0.2538  0.2498  0.0867 -0.0162 -0.1389  0.0849  0.1918  0.0153 -0.1649  0.2098\n",
       " 0.3947 -0.0656 -0.5624  0.1476 -0.1697  0.0678 -0.0495  0.4538  0.0207  0.4309\n",
       "-0.0892  0.1070  0.1926 -0.2528  0.1181 -0.2118  0.4059 -0.2337  0.3810 -0.1997\n",
       "-0.0660  0.1481  0.1377  0.0702 -0.0486 -0.0963  0.1158 -0.5248  0.0661  0.0993\n",
       " 0.1478 -0.5318  0.4990  0.0617 -0.0507  0.2320  0.0315  0.2925  0.1857 -0.4120\n",
       " 0.0279  0.0614  0.0552 -0.2129 -0.1681 -0.1125  0.1754  0.0085 -0.1523  0.1031\n",
       "-0.1587 -0.0502 -0.1109 -0.0360 -0.6080  0.0105  0.1852 -0.4394 -0.1063  0.1934\n",
       " 0.2637 -0.4640  0.0354  0.1793 -0.0938  0.2919  0.3698 -0.0765 -0.0755 -0.1236\n",
       "-0.1143  0.0720 -0.0410 -0.0144 -0.0939  0.0864 -0.0655 -0.0366  0.3010 -0.1523\n",
       " 0.2437 -0.2090 -0.0513  0.0320 -0.1180 -0.1656  0.2235  0.3087 -0.4202 -0.0479\n",
       "\n",
       "Columns 20 to 23 \n",
       " 0.1798 -0.2147  0.3390 -0.0536\n",
       " 0.1486  0.1730 -0.2768 -0.0343\n",
       "-0.0806  0.4177 -0.4588 -0.3966\n",
       " 0.0744 -0.2208 -0.0716 -0.2832\n",
       " 0.4012 -0.0921 -0.0153  0.1812\n",
       "-0.5296 -0.2019 -0.5482  0.0513\n",
       "-0.0889  0.2229 -0.1873  0.0912\n",
       "-0.0176  0.4150 -0.0454 -0.3416\n",
       "-0.1051  0.2770  0.1199 -0.2751\n",
       "-0.2853  0.0721  0.0373 -0.1211\n",
       "-0.1126 -0.2411 -0.2654  0.2104\n",
       " 0.0307 -0.0478 -0.1035 -0.2759\n",
       " 0.0690  0.0206  0.1272  0.1990\n",
       " 0.3155  0.0195 -0.1572  0.0010\n",
       "-0.0919  0.9668 -0.3760  0.0062\n",
       " 0.1471  0.1619 -0.1333 -0.4829\n",
       "[torch.FloatTensor of size 16x24]"
      ]
     },
     "execution_count": 20,
     "metadata": {},
     "output_type": "execute_result"
    }
   ],
   "source": [
    "model.fc1.weight"
   ]
  },
  {
   "cell_type": "markdown",
   "metadata": {},
   "source": [
    "### 1.3 Store Predictions"
   ]
  },
  {
   "cell_type": "code",
   "execution_count": 21,
   "metadata": {
    "collapsed": true
   },
   "outputs": [],
   "source": [
    "def obs_as_col(obs_Tens):\n",
    "    \n",
    "    # Saves observed outcomes as a pandas column\n",
    "    # obs_Tens = a Tensor containing observed outcomes\n",
    "    \n",
    "    \n",
    "    # Convert the Tensor to a list\n",
    "    obs_list = obs_Tens.numpy().tolist()\n",
    "    \n",
    "    \n",
    "    # Make an empty list\n",
    "    obs_flat_list = []\n",
    "    \n",
    "    \n",
    "    # Unnest the Tensor-list into the empty list\n",
    "    for sublist in obs_list:\n",
    "        for val in sublist:\n",
    "            obs_flat_list.append(val)\n",
    "    \n",
    "    \n",
    "    # Turn that list into a pandas DataFrame\n",
    "    obs_pd_column = pd.DataFrame(obs_flat_list)\n",
    "    return(obs_pd_column)"
   ]
  },
  {
   "cell_type": "code",
   "execution_count": 22,
   "metadata": {
    "collapsed": true
   },
   "outputs": [],
   "source": [
    "cv_stored = obs_as_col(cv_outcome_Tensor)\n",
    "\n",
    "cv_stored.columns = [\"observed\"]"
   ]
  },
  {
   "cell_type": "code",
   "execution_count": 23,
   "metadata": {
    "collapsed": true
   },
   "outputs": [],
   "source": [
    "test_stored = obs_as_col(test_outcome_Tensor)\n",
    "\n",
    "test_stored.columns = [\"observed\"]"
   ]
  },
  {
   "cell_type": "code",
   "execution_count": 24,
   "metadata": {
    "collapsed": false
   },
   "outputs": [],
   "source": [
    "def add_to_stored(new_col_name, pred_Tens, already_made):\n",
    "    \n",
    "    model_pred = model(Variable(pred_Tens)).resize(len(pred_Tens))\n",
    "    \n",
    "    model_pred = model_pred.data.numpy()\n",
    "    \n",
    "    already_made[new_col_name] = pd.Series(model_pred, index = cv_stored.index)"
   ]
  },
  {
   "cell_type": "code",
   "execution_count": 25,
   "metadata": {
    "collapsed": false
   },
   "outputs": [],
   "source": [
    "add_to_stored(\"cv_pred_1\", cv_predictors_Tensor, cv_stored)\n",
    "\n",
    "add_to_stored(\"test_pred_1\", test_predictors_Tensor, test_stored)"
   ]
  },
  {
   "cell_type": "markdown",
   "metadata": {},
   "source": [
    "## 2. Two-Hidden-Layer Neural Network"
   ]
  },
  {
   "cell_type": "code",
   "execution_count": 26,
   "metadata": {
    "collapsed": true
   },
   "outputs": [],
   "source": [
    "# Define the neural network\n",
    "class Net(torch.nn.Module):\n",
    "    \n",
    "    def __init__(self):\n",
    "        super(Net, self).__init__()\n",
    "        self.fc1 = torch.nn.Linear(24, 16)\n",
    "        self.fc2 = torch.nn.Linear(16, 11)\n",
    "        self.fc3 = torch.nn.Linear(11, 1)\n",
    "        \n",
    "    def forward(self, x):\n",
    "        x = torch.nn.functional.relu(self.fc1(x))\n",
    "        x = torch.nn.functional.relu(self.fc2(x))\n",
    "        x = self.fc3(x)\n",
    "        return(x)\n",
    "\n",
    "\n",
    "# Make it\n",
    "model = Net()"
   ]
  },
  {
   "cell_type": "code",
   "execution_count": 27,
   "metadata": {
    "collapsed": false
   },
   "outputs": [
    {
     "data": {
      "image/png": "[encoded data removed]",
      "text/plain": [
       "<matplotlib.figure.Figure at 0x7f736c407358>"
      ]
     },
     "metadata": {},
     "output_type": "display_data"
    }
   ],
   "source": [
    "train_neural_net(model, outcome_Tensor, predictors_Tensor,\n",
    "                 15000, loss_fn, optimizer, cv_outcome_Tensor,\n",
    "                 cv_predictors_Tensor)"
   ]
  },
  {
   "cell_type": "markdown",
   "metadata": {},
   "source": [
    "### 2.1 Performance Metrics"
   ]
  },
  {
   "cell_type": "code",
   "execution_count": 28,
   "metadata": {
    "collapsed": false
   },
   "outputs": [
    {
     "data": {
      "text/plain": [
       "Variable containing:\n",
       " 1.1021\n",
       "[torch.FloatTensor of size 1]"
      ]
     },
     "execution_count": 28,
     "metadata": {},
     "output_type": "execute_result"
    }
   ],
   "source": [
    "MSE = compute_MSE(cv_predictors_Tensor, cv_outcome_Tensor)\n",
    "MSE"
   ]
  },
  {
   "cell_type": "code",
   "execution_count": 29,
   "metadata": {
    "collapsed": false
   },
   "outputs": [
    {
     "data": {
      "text/plain": [
       "Variable containing:\n",
       "-0.1167\n",
       "[torch.FloatTensor of size 1]"
      ]
     },
     "execution_count": 29,
     "metadata": {},
     "output_type": "execute_result"
    }
   ],
   "source": [
    "R_squared = compute_R_squared(cv_predictors_Tensor, cv_outcome_Tensor)\n",
    "R_squared"
   ]
  },
  {
   "cell_type": "markdown",
   "metadata": {},
   "source": [
    "### 2.2 Performance Visualization"
   ]
  },
  {
   "cell_type": "code",
   "execution_count": 30,
   "metadata": {
    "collapsed": false
   },
   "outputs": [
    {
     "data": {
      "image/png": "[encoded data removed]",
      "text/plain": [
       "<matplotlib.figure.Figure at 0x7f736c2c1f28>"
      ]
     },
     "metadata": {},
     "output_type": "display_data"
    }
   ],
   "source": [
    "plot_cross_valid_perf(cv_predictors_Tensor, cv_outcome_Tensor)"
   ]
  },
  {
   "cell_type": "code",
   "execution_count": 31,
   "metadata": {
    "collapsed": false
   },
   "outputs": [
    {
     "data": {
      "text/plain": [
       "Parameter containing:\n",
       "\n",
       "Columns 0 to 9 \n",
       " 0.0656 -0.0417 -0.0069  0.1472  0.0217  0.0171 -0.0451 -0.0750 -0.0280  0.0561\n",
       " 0.0946  0.0443  0.1573  0.1894  0.0509  0.0237 -0.1492 -0.0245  0.1405  0.1961\n",
       "-0.0009  0.0429 -0.1140 -0.0889  0.1173  0.1745  0.0335  0.0166  0.1191 -0.1172\n",
       " 0.0077  0.1598  0.0008 -0.0477  0.0964  0.0400 -0.0913  0.1889 -0.1590  0.0185\n",
       " 0.0879 -0.0440  0.0566 -0.0329 -0.1122  0.0402  0.0425  0.2005 -0.1683 -0.0570\n",
       " 0.1625 -0.1818  0.1860  0.1745  0.2012 -0.1028  0.0364 -0.1828 -0.1726  0.1098\n",
       " 0.0941  0.0350  0.0760  0.0716  0.1933  0.0579  0.1927 -0.1224  0.1165  0.1806\n",
       " 0.0235 -0.1610  0.1274 -0.0708  0.0296 -0.0194 -0.1718 -0.0861 -0.1057  0.1076\n",
       "-0.1985 -0.0718 -0.1199  0.0957 -0.0802  0.1117 -0.0622 -0.0403  0.1127  0.0892\n",
       "-0.0417 -0.0025  0.0195 -0.0068  0.0196 -0.1048  0.0188 -0.0914  0.1100  0.1749\n",
       " 0.0050 -0.1046  0.1491 -0.2001 -0.1946 -0.0860  0.0412 -0.1584  0.0100 -0.2038\n",
       " 0.0463  0.1113 -0.1972 -0.0741  0.1951 -0.1923  0.1769 -0.2001  0.1758  0.1757\n",
       "-0.0574 -0.0875  0.1093  0.0586 -0.0035  0.1984 -0.0223 -0.1680  0.0988 -0.0863\n",
       " 0.1575 -0.0813  0.0877 -0.0776 -0.0198  0.0351  0.0129  0.0173 -0.1160  0.1946\n",
       " 0.0805  0.1519  0.1292  0.1872 -0.1778  0.1610 -0.0985 -0.0560 -0.1511  0.1342\n",
       " 0.0593  0.0180 -0.1058  0.0178 -0.1147  0.1388 -0.1885 -0.1210 -0.0318  0.0246\n",
       "\n",
       "Columns 10 to 19 \n",
       "-0.1242  0.0760  0.1996  0.0674  0.0224 -0.0972  0.1955 -0.2024 -0.1379  0.1808\n",
       "-0.0292  0.0472 -0.0422  0.0916  0.1748 -0.1087 -0.1100  0.1009 -0.0172 -0.0511\n",
       " 0.1303  0.0493 -0.0298  0.0374  0.1941 -0.0044  0.0023 -0.0734 -0.1417  0.1377\n",
       "-0.1693 -0.0860  0.0769 -0.1569 -0.0484  0.1286 -0.0799  0.0932 -0.1861 -0.1312\n",
       "-0.0340 -0.0805 -0.0363  0.0410  0.0115  0.1581 -0.0412  0.2017 -0.0751 -0.1534\n",
       " 0.1650 -0.0706  0.0705  0.1483  0.0812 -0.0604 -0.0120 -0.1362  0.1853 -0.0458\n",
       " 0.1162  0.1490  0.0586 -0.1607 -0.0444  0.0295  0.1128 -0.1363 -0.1116  0.1456\n",
       "-0.0540  0.0191 -0.1066  0.0167  0.1161 -0.0300 -0.0787  0.1763 -0.0397  0.1221\n",
       "-0.0493  0.2038 -0.0123  0.1974 -0.1157  0.1315  0.0447 -0.1199  0.1396  0.0384\n",
       "-0.1211  0.1641 -0.0002 -0.1775  0.0708  0.0991  0.0052 -0.1119 -0.0983 -0.0800\n",
       " 0.0718 -0.0491  0.0989 -0.0150 -0.1585 -0.0018 -0.0258  0.0184  0.1313  0.0758\n",
       " 0.1402  0.0431 -0.0667  0.1108  0.0717 -0.1942  0.1932  0.1661 -0.0714  0.1840\n",
       "-0.1660 -0.0844 -0.0464 -0.1698 -0.1640 -0.1388 -0.1858 -0.0288 -0.0020  0.0119\n",
       "-0.0949 -0.0427  0.1486  0.0193  0.1722 -0.0715  0.1256 -0.1703  0.0092 -0.1008\n",
       "-0.0436 -0.1956 -0.1502 -0.1138 -0.0066 -0.0915 -0.1415 -0.1222 -0.0270  0.1656\n",
       "-0.1909 -0.0375 -0.1330  0.1364 -0.0851 -0.0539  0.0357  0.1938  0.2007 -0.2019\n",
       "\n",
       "Columns 20 to 23 \n",
       "-0.0886  0.0224 -0.1165 -0.1447\n",
       "-0.1483  0.0670  0.0448  0.1353\n",
       "-0.0633  0.1696  0.1437 -0.1911\n",
       "-0.1233  0.1551 -0.0993  0.1983\n",
       "-0.1254 -0.1747  0.0513 -0.1510\n",
       " 0.0839  0.1372  0.0658  0.1196\n",
       " 0.1163  0.1234  0.1720 -0.0972\n",
       "-0.0219 -0.0399 -0.1132 -0.1822\n",
       "-0.1022 -0.1459 -0.1520  0.1065\n",
       " 0.0031 -0.0535 -0.1151 -0.1578\n",
       " 0.0572 -0.0929 -0.1172 -0.1787\n",
       "-0.0429 -0.0779  0.0715 -0.1428\n",
       "-0.0991  0.0846 -0.1451  0.1198\n",
       " 0.0362  0.1300  0.1253  0.1514\n",
       "-0.1377  0.0819  0.0096  0.0252\n",
       " 0.0943 -0.0810  0.1618 -0.1725\n",
       "[torch.FloatTensor of size 16x24]"
      ]
     },
     "execution_count": 31,
     "metadata": {},
     "output_type": "execute_result"
    }
   ],
   "source": [
    "model.fc1.weight"
   ]
  },
  {
   "cell_type": "markdown",
   "metadata": {},
   "source": [
    "### 2.3 Store Predictions"
   ]
  },
  {
   "cell_type": "code",
   "execution_count": 32,
   "metadata": {
    "collapsed": true
   },
   "outputs": [],
   "source": [
    "add_to_stored(\"cv_pred_2\", cv_predictors_Tensor, cv_stored)\n",
    "\n",
    "add_to_stored(\"test_pred_2\", test_predictors_Tensor, test_stored)"
   ]
  },
  {
   "cell_type": "markdown",
   "metadata": {},
   "source": [
    "## 3. Three-Hidden-Layer Neural Network"
   ]
  },
  {
   "cell_type": "code",
   "execution_count": 33,
   "metadata": {
    "collapsed": true
   },
   "outputs": [],
   "source": [
    "# Define the neural network\n",
    "class Net(torch.nn.Module):\n",
    "    \n",
    "    def __init__(self):\n",
    "        super(Net, self).__init__()\n",
    "        self.fc1 = torch.nn.Linear(24, 16)\n",
    "        self.fc2 = torch.nn.Linear(16, 11)\n",
    "        self.fc3 = torch.nn.Linear(11, 7)\n",
    "        self.fc4 = torch.nn.Linear(7, 1)\n",
    "        \n",
    "    def forward(self, x):\n",
    "        x = torch.nn.functional.relu(self.fc1(x))\n",
    "        x = torch.nn.functional.relu(self.fc2(x))\n",
    "        x = torch.nn.functional.relu(self.fc3(x))\n",
    "        x = self.fc4(x)\n",
    "        return(x)\n",
    "\n",
    "\n",
    "# Make it\n",
    "model = Net()"
   ]
  },
  {
   "cell_type": "code",
   "execution_count": 34,
   "metadata": {
    "collapsed": false
   },
   "outputs": [
    {
     "data": {
      "image/png": "[encoded data removed]",
      "text/plain": [
       "<matplotlib.figure.Figure at 0x7f736c38eeb8>"
      ]
     },
     "metadata": {},
     "output_type": "display_data"
    }
   ],
   "source": [
    "train_neural_net(model, outcome_Tensor, predictors_Tensor,\n",
    "                 15000, loss_fn, optimizer, cv_outcome_Tensor,\n",
    "                 cv_predictors_Tensor)"
   ]
  },
  {
   "cell_type": "markdown",
   "metadata": {},
   "source": [
    "### 3.1 Performance Metrics"
   ]
  },
  {
   "cell_type": "code",
   "execution_count": 35,
   "metadata": {
    "collapsed": false
   },
   "outputs": [
    {
     "data": {
      "text/plain": [
       "Variable containing:\n",
       " 0.9854\n",
       "[torch.FloatTensor of size 1]"
      ]
     },
     "execution_count": 35,
     "metadata": {},
     "output_type": "execute_result"
    }
   ],
   "source": [
    "MSE = compute_MSE(cv_predictors_Tensor, cv_outcome_Tensor)\n",
    "MSE"
   ]
  },
  {
   "cell_type": "code",
   "execution_count": 36,
   "metadata": {
    "collapsed": false
   },
   "outputs": [
    {
     "data": {
      "text/plain": [
       "Variable containing:\n",
       "1.00000e-03 *\n",
       "  1.5904\n",
       "[torch.FloatTensor of size 1]"
      ]
     },
     "execution_count": 36,
     "metadata": {},
     "output_type": "execute_result"
    }
   ],
   "source": [
    "R_squared = compute_R_squared(cv_predictors_Tensor, cv_outcome_Tensor)\n",
    "R_squared"
   ]
  },
  {
   "cell_type": "markdown",
   "metadata": {},
   "source": [
    "### 3.2 Performance Visualization"
   ]
  },
  {
   "cell_type": "code",
   "execution_count": 37,
   "metadata": {
    "collapsed": false
   },
   "outputs": [
    {
     "data": {
      "image/png": "[encoded data removed]",
      "text/plain": [
       "<matplotlib.figure.Figure at 0x7f736c4ab208>"
      ]
     },
     "metadata": {},
     "output_type": "display_data"
    }
   ],
   "source": [
    "plot_cross_valid_perf(cv_predictors_Tensor, cv_outcome_Tensor)"
   ]
  },
  {
   "cell_type": "code",
   "execution_count": 38,
   "metadata": {
    "collapsed": false
   },
   "outputs": [
    {
     "data": {
      "text/plain": [
       "Parameter containing:\n",
       "\n",
       "Columns 0 to 9 \n",
       "-0.0708  0.0216  0.1591  0.0803 -0.1940 -0.0310 -0.0598 -0.0353 -0.1320 -0.0023\n",
       "-0.0565  0.1884 -0.0549  0.1245 -0.1593 -0.0626  0.1341 -0.0603 -0.0743  0.0909\n",
       "-0.0731 -0.0066 -0.1432  0.0219  0.0693 -0.0601 -0.0125  0.0404  0.1706  0.0910\n",
       "-0.1222  0.1616  0.1476  0.0561  0.0902 -0.1159 -0.0339 -0.1786 -0.0748  0.1526\n",
       "-0.0838 -0.1748  0.1642 -0.1968  0.0040 -0.0911  0.0834  0.1006 -0.0927  0.1193\n",
       " 0.0428 -0.0091 -0.1634  0.0412 -0.0268 -0.1695  0.1909 -0.1252  0.0063 -0.1352\n",
       " 0.1130  0.1164  0.0294 -0.0817 -0.1656  0.0199 -0.0598  0.0407 -0.1736  0.1344\n",
       " 0.1213 -0.0286 -0.0331 -0.0339  0.0740  0.0497 -0.1642 -0.1444 -0.1768 -0.1480\n",
       " 0.1627  0.1901 -0.1359  0.1088  0.0778 -0.1448 -0.0599  0.0147  0.0230  0.1699\n",
       " 0.0447  0.1585  0.0900  0.0623  0.1479 -0.0415 -0.1247 -0.0885 -0.1283 -0.0134\n",
       "-0.1085 -0.0967  0.1228  0.0440 -0.1953  0.1245  0.1644  0.0563 -0.0431  0.1347\n",
       " 0.1614  0.0224  0.1815  0.1095  0.1582  0.0247  0.1974  0.0022 -0.0511  0.1968\n",
       " 0.0224  0.1834  0.1983 -0.1345  0.0941  0.1014  0.1955  0.1288  0.1335  0.1423\n",
       " 0.0257 -0.0308 -0.0532 -0.1874 -0.0523  0.0725  0.1233 -0.0950  0.0077 -0.1341\n",
       "-0.0599  0.1037  0.1687  0.1244 -0.1818  0.0214  0.1649  0.0768 -0.1966  0.0107\n",
       " 0.0482  0.0776 -0.0483  0.1683  0.1485  0.0319 -0.0578 -0.1305 -0.0083  0.0710\n",
       "\n",
       "Columns 10 to 19 \n",
       " 0.0736 -0.0107 -0.1752  0.2025 -0.0984  0.0289  0.0267  0.0194 -0.1060 -0.0451\n",
       "-0.1268  0.0869  0.1219 -0.0986  0.1031  0.0665  0.0973  0.1602 -0.0952 -0.1259\n",
       "-0.0210 -0.0669  0.1438 -0.0166 -0.1616  0.1526  0.0294 -0.1862  0.1332 -0.1371\n",
       "-0.1730 -0.1941  0.1586  0.1065  0.0272 -0.1943  0.1684  0.0934 -0.0933  0.0936\n",
       "-0.0608 -0.0021 -0.1685 -0.1431  0.0416  0.0720 -0.0753  0.0622  0.0381 -0.1344\n",
       " 0.1563  0.0274  0.0099 -0.1344 -0.0330 -0.1272 -0.0713  0.1137 -0.1391  0.1373\n",
       " 0.1629  0.1920 -0.0759  0.1283  0.1206 -0.0829 -0.0720  0.0831  0.0058  0.0050\n",
       "-0.1103 -0.0402  0.2008  0.0466 -0.1389 -0.0687 -0.1367  0.0779 -0.1871 -0.0667\n",
       " 0.1422 -0.0274  0.1487 -0.0838  0.1432  0.0557  0.1494  0.0231  0.0625 -0.0737\n",
       " 0.1231  0.0817 -0.1665  0.0398 -0.1869  0.1319  0.1571 -0.1564 -0.1335  0.1585\n",
       "-0.0031  0.1180 -0.0164 -0.1349 -0.0360  0.1607 -0.0010  0.1087  0.0777  0.0829\n",
       "-0.1732  0.1568 -0.1876 -0.1424 -0.1289  0.0377 -0.1391  0.1726 -0.1045  0.1627\n",
       " 0.0513 -0.0544 -0.0452  0.0800  0.1797  0.0910 -0.1992 -0.1693  0.1704  0.1758\n",
       "-0.0020  0.0233  0.0805  0.1305  0.1428  0.0855 -0.0298 -0.0401  0.0902 -0.0060\n",
       " 0.1731  0.2005 -0.0887  0.1893  0.0687  0.0395  0.1664 -0.1704 -0.1235 -0.1568\n",
       " 0.0788  0.0132 -0.1862  0.0276 -0.0517  0.0150 -0.0632 -0.1253  0.0637  0.1415\n",
       "\n",
       "Columns 20 to 23 \n",
       "-0.0061  0.1381 -0.0286 -0.0287\n",
       "-0.1915 -0.0173  0.1239 -0.0576\n",
       "-0.1800 -0.0636  0.1479 -0.1830\n",
       " 0.0434 -0.1576  0.0140  0.0405\n",
       "-0.0901 -0.0120 -0.0275 -0.1141\n",
       "-0.0676 -0.1375  0.1445  0.1692\n",
       " 0.1373 -0.0239 -0.0223  0.1215\n",
       "-0.2016  0.0267 -0.0094  0.1322\n",
       " 0.1873 -0.1300  0.1045  0.0763\n",
       " 0.0606 -0.1884 -0.1853 -0.1289\n",
       "-0.0025 -0.0999 -0.0292 -0.1021\n",
       " 0.1558  0.0642  0.1286 -0.0145\n",
       " 0.0105 -0.0217  0.0402 -0.1347\n",
       " 0.1199 -0.0680 -0.1184 -0.1772\n",
       "-0.0104 -0.0024  0.0189 -0.1152\n",
       " 0.0562 -0.0723  0.1457  0.1379\n",
       "[torch.FloatTensor of size 16x24]"
      ]
     },
     "execution_count": 38,
     "metadata": {},
     "output_type": "execute_result"
    }
   ],
   "source": [
    "model.fc1.weight"
   ]
  },
  {
   "cell_type": "markdown",
   "metadata": {},
   "source": [
    "### 3.3 Store Predictions"
   ]
  },
  {
   "cell_type": "code",
   "execution_count": 39,
   "metadata": {
    "collapsed": true
   },
   "outputs": [],
   "source": [
    "add_to_stored(\"cv_pred_3\", cv_predictors_Tensor, cv_stored)\n",
    "\n",
    "add_to_stored(\"test_pred_3\", test_predictors_Tensor, test_stored)"
   ]
  },
  {
   "cell_type": "markdown",
   "metadata": {},
   "source": [
    "## 4. Four-Hidden-Layer Neural Network"
   ]
  },
  {
   "cell_type": "code",
   "execution_count": 40,
   "metadata": {
    "collapsed": true
   },
   "outputs": [],
   "source": [
    "# Define the neural network\n",
    "class Net(torch.nn.Module):\n",
    "    \n",
    "    def __init__(self):\n",
    "        super(Net, self).__init__()\n",
    "        self.fc1 = torch.nn.Linear(24, 16)\n",
    "        self.fc2 = torch.nn.Linear(16, 11)\n",
    "        self.fc3 = torch.nn.Linear(11, 7)\n",
    "        self.fc4 = torch.nn.Linear(7, 5)\n",
    "        self.fc5 = torch.nn.Linear(5, 1)\n",
    "        \n",
    "    def forward(self, x):\n",
    "        x = torch.nn.functional.relu(self.fc1(x))\n",
    "        x = torch.nn.functional.relu(self.fc2(x))\n",
    "        x = torch.nn.functional.relu(self.fc3(x))\n",
    "        x = torch.nn.functional.relu(self.fc4(x))\n",
    "        x = self.fc5(x)\n",
    "        return(x)\n",
    "\n",
    "\n",
    "# Make it\n",
    "model = Net()"
   ]
  },
  {
   "cell_type": "code",
   "execution_count": 41,
   "metadata": {
    "collapsed": false
   },
   "outputs": [
    {
     "data": {
      "image/png": "[encoded data removed]",
      "text/plain": [
       "<matplotlib.figure.Figure at 0x7f736c12a160>"
      ]
     },
     "metadata": {},
     "output_type": "display_data"
    }
   ],
   "source": [
    "train_neural_net(model, outcome_Tensor, predictors_Tensor,\n",
    "                 15000, loss_fn, optimizer, cv_outcome_Tensor,\n",
    "                 cv_predictors_Tensor)"
   ]
  },
  {
   "cell_type": "markdown",
   "metadata": {},
   "source": [
    "### 4.1 Performance Metrics"
   ]
  },
  {
   "cell_type": "code",
   "execution_count": 42,
   "metadata": {
    "collapsed": false
   },
   "outputs": [
    {
     "data": {
      "text/plain": [
       "Variable containing:\n",
       " 1.1145\n",
       "[torch.FloatTensor of size 1]"
      ]
     },
     "execution_count": 42,
     "metadata": {},
     "output_type": "execute_result"
    }
   ],
   "source": [
    "MSE = compute_MSE(cv_predictors_Tensor, cv_outcome_Tensor)\n",
    "MSE"
   ]
  },
  {
   "cell_type": "code",
   "execution_count": 43,
   "metadata": {
    "collapsed": false
   },
   "outputs": [
    {
     "data": {
      "text/plain": [
       "Variable containing:\n",
       "-0.1293\n",
       "[torch.FloatTensor of size 1]"
      ]
     },
     "execution_count": 43,
     "metadata": {},
     "output_type": "execute_result"
    }
   ],
   "source": [
    "R_squared = compute_R_squared(cv_predictors_Tensor, cv_outcome_Tensor)\n",
    "R_squared"
   ]
  },
  {
   "cell_type": "markdown",
   "metadata": {},
   "source": [
    "### 4.2 Performance Visualization"
   ]
  },
  {
   "cell_type": "code",
   "execution_count": 44,
   "metadata": {
    "collapsed": false
   },
   "outputs": [
    {
     "data": {
      "image/png": "[encoded data removed]",
      "text/plain": [
       "<matplotlib.figure.Figure at 0x7f736c2a8d30>"
      ]
     },
     "metadata": {},
     "output_type": "display_data"
    }
   ],
   "source": [
    "plot_cross_valid_perf(cv_predictors_Tensor, cv_outcome_Tensor)"
   ]
  },
  {
   "cell_type": "code",
   "execution_count": 45,
   "metadata": {
    "collapsed": false
   },
   "outputs": [
    {
     "data": {
      "text/plain": [
       "Parameter containing:\n",
       "\n",
       "Columns 0 to 9 \n",
       " 0.1195 -0.0192 -0.0371 -0.1909 -0.0970 -0.1887 -0.1195 -0.0854  0.1105  0.0452\n",
       " 0.2036 -0.0630  0.0000 -0.1980  0.0353 -0.0585 -0.0178  0.1957 -0.0996 -0.1311\n",
       " 0.1724  0.0026  0.0857 -0.1139 -0.1649  0.1295 -0.1344 -0.1606  0.1935  0.0447\n",
       "-0.1559  0.0354  0.1800 -0.1314  0.0851 -0.0122 -0.0170 -0.1724  0.0871  0.1410\n",
       "-0.0871  0.0802  0.1454  0.0871 -0.1365  0.0375 -0.0106 -0.1981 -0.0200  0.0771\n",
       "-0.2031  0.1535 -0.0511 -0.1341 -0.0526  0.1587 -0.0276  0.1314 -0.0974 -0.0713\n",
       " 0.1101  0.0237 -0.0952  0.1577 -0.0946  0.1473  0.1212 -0.2017 -0.0038 -0.1028\n",
       "-0.1715  0.0409 -0.0448  0.1848 -0.1725  0.0389  0.0599  0.0920  0.1994  0.2037\n",
       " 0.0429 -0.1856  0.1296 -0.1391 -0.1951  0.0747  0.2013 -0.1320 -0.1591  0.0626\n",
       " 0.0720  0.1299  0.0324  0.0548  0.0675  0.1554 -0.0260 -0.1642  0.0257 -0.1474\n",
       " 0.0227  0.0241 -0.2040  0.1915  0.0645 -0.0570 -0.1639  0.0201  0.0517  0.0655\n",
       " 0.0075  0.1879 -0.1352 -0.1099  0.1973  0.0203  0.0192 -0.0077 -0.1666 -0.1881\n",
       "-0.0554  0.0617  0.1752  0.0992  0.1048  0.1297  0.0746 -0.0101 -0.0938  0.0654\n",
       "-0.1012  0.0023 -0.0838  0.0939  0.0659  0.2033  0.0567 -0.0224 -0.0219 -0.0847\n",
       "-0.0040  0.0459  0.1742 -0.0123  0.0450 -0.0879  0.1475 -0.1266  0.0384 -0.1994\n",
       " 0.0484  0.0845  0.1169 -0.1139  0.0928  0.0615 -0.0961 -0.0312  0.1946  0.1280\n",
       "\n",
       "Columns 10 to 19 \n",
       "-0.1793  0.1134  0.1219 -0.1168 -0.0200 -0.0386 -0.0482 -0.1838  0.1905 -0.1300\n",
       "-0.1440 -0.0430  0.0164 -0.1998  0.0897  0.1604  0.0115 -0.0559  0.1792  0.1183\n",
       "-0.0765 -0.2019 -0.1651  0.0758 -0.1356 -0.0844  0.1403  0.1822 -0.0181 -0.0608\n",
       " 0.0806 -0.2032  0.0418 -0.0927 -0.0014  0.0211 -0.1326 -0.0956 -0.0366  0.0470\n",
       "-0.1907  0.0175 -0.1483  0.1663  0.1737  0.1830  0.0843  0.0779 -0.0446 -0.0503\n",
       " 0.1031  0.0333  0.0446  0.0015 -0.0330  0.0902 -0.0719 -0.0982 -0.1687 -0.1538\n",
       " 0.0970 -0.1876  0.1879  0.1358 -0.0361  0.1353  0.1321  0.1282  0.0082  0.1847\n",
       " 0.1593 -0.0860  0.1564  0.1846  0.1868  0.0631  0.0147  0.0790 -0.1714 -0.0118\n",
       " 0.0074 -0.0374 -0.0686 -0.0807  0.0676  0.1891  0.0616  0.0233 -0.1087 -0.0778\n",
       "-0.1680  0.0352 -0.0007 -0.0323  0.0211 -0.1005  0.0648 -0.0273  0.0176 -0.0695\n",
       " 0.0820  0.0149  0.0077  0.0901  0.0265 -0.1550  0.0028 -0.1427 -0.0905  0.0884\n",
       "-0.1285 -0.1954  0.1385  0.0199  0.1724 -0.1295  0.0756 -0.0429  0.1717 -0.1932\n",
       " 0.0112 -0.0655 -0.0629 -0.1387 -0.1659 -0.1880  0.0473 -0.0135 -0.1337 -0.1306\n",
       " 0.0859 -0.1403 -0.0027  0.0180  0.1897 -0.0121 -0.1289 -0.1114  0.1271  0.1010\n",
       "-0.1735 -0.1089  0.1780  0.0280 -0.0809 -0.1086  0.0572  0.1697  0.1147 -0.0808\n",
       "-0.0885 -0.0321  0.0472 -0.0992 -0.0174 -0.1355 -0.0571 -0.0604 -0.1688  0.1395\n",
       "\n",
       "Columns 20 to 23 \n",
       " 0.0589  0.0134 -0.2041 -0.1725\n",
       " 0.0071 -0.0811  0.0302 -0.0200\n",
       "-0.0967  0.1825 -0.1084 -0.0225\n",
       "-0.0291  0.1544  0.1137  0.0894\n",
       " 0.1370 -0.1390  0.1782  0.1531\n",
       "-0.0145  0.0676  0.0864  0.1286\n",
       " 0.1023 -0.1824  0.0585 -0.0534\n",
       "-0.0561  0.1861  0.0137  0.1901\n",
       " 0.0799  0.0847  0.0506 -0.1489\n",
       "-0.1535 -0.1974 -0.0192 -0.0104\n",
       "-0.0178 -0.0976 -0.0259 -0.0585\n",
       " 0.1651 -0.0222  0.1565  0.1580\n",
       "-0.1109 -0.0806 -0.1199 -0.1880\n",
       " 0.2001 -0.1951 -0.0664  0.1443\n",
       " 0.2004 -0.0633  0.1219 -0.0540\n",
       " 0.1725 -0.1984 -0.1955 -0.0427\n",
       "[torch.FloatTensor of size 16x24]"
      ]
     },
     "execution_count": 45,
     "metadata": {},
     "output_type": "execute_result"
    }
   ],
   "source": [
    "model.fc1.weight"
   ]
  },
  {
   "cell_type": "markdown",
   "metadata": {},
   "source": [
    "### 4.3 Store Predictions"
   ]
  },
  {
   "cell_type": "code",
   "execution_count": 46,
   "metadata": {
    "collapsed": true
   },
   "outputs": [],
   "source": [
    "add_to_stored(\"cv_pred_4\", cv_predictors_Tensor, cv_stored)\n",
    "\n",
    "add_to_stored(\"test_pred_4\", test_predictors_Tensor, test_stored)"
   ]
  },
  {
   "cell_type": "markdown",
   "metadata": {},
   "source": [
    "## 5. Five-Hidden-Layer Neural Network"
   ]
  },
  {
   "cell_type": "code",
   "execution_count": 47,
   "metadata": {
    "collapsed": true
   },
   "outputs": [],
   "source": [
    "# Define the neural network\n",
    "class Net(torch.nn.Module):\n",
    "    \n",
    "    def __init__(self):\n",
    "        super(Net, self).__init__()\n",
    "        self.fc1 = torch.nn.Linear(24, 16)\n",
    "        self.fc2 = torch.nn.Linear(16, 11)\n",
    "        self.fc3 = torch.nn.Linear(11, 7)\n",
    "        self.fc4 = torch.nn.Linear(7, 5)\n",
    "        self.fc5 = torch.nn.Linear(5, 3)\n",
    "        self.fc6 = torch.nn.Linear(3, 1)\n",
    "        \n",
    "    def forward(self, x):\n",
    "        x = torch.nn.functional.relu(self.fc1(x))\n",
    "        x = torch.nn.functional.relu(self.fc2(x))\n",
    "        x = torch.nn.functional.relu(self.fc3(x))\n",
    "        x = torch.nn.functional.relu(self.fc4(x))\n",
    "        x = torch.nn.functional.relu(self.fc5(x))\n",
    "        x = self.fc6(x)\n",
    "        return(x)\n",
    "\n",
    "\n",
    "# Make it\n",
    "model = Net()"
   ]
  },
  {
   "cell_type": "code",
   "execution_count": 48,
   "metadata": {
    "collapsed": false
   },
   "outputs": [
    {
     "data": {
      "image/png": "[encoded data removed]",
      "text/plain": [
       "<matplotlib.figure.Figure at 0x7f736c47cfd0>"
      ]
     },
     "metadata": {},
     "output_type": "display_data"
    }
   ],
   "source": [
    "train_neural_net(model, outcome_Tensor, predictors_Tensor,\n",
    "                 15000, loss_fn, optimizer, cv_outcome_Tensor,\n",
    "                 cv_predictors_Tensor)"
   ]
  },
  {
   "cell_type": "markdown",
   "metadata": {},
   "source": [
    "### 5.1 Performance Metrics"
   ]
  },
  {
   "cell_type": "code",
   "execution_count": 49,
   "metadata": {
    "collapsed": false
   },
   "outputs": [
    {
     "data": {
      "text/plain": [
       "Variable containing:\n",
       " 0.9966\n",
       "[torch.FloatTensor of size 1]"
      ]
     },
     "execution_count": 49,
     "metadata": {},
     "output_type": "execute_result"
    }
   ],
   "source": [
    "MSE = compute_MSE(cv_predictors_Tensor, cv_outcome_Tensor)\n",
    "MSE"
   ]
  },
  {
   "cell_type": "code",
   "execution_count": 50,
   "metadata": {
    "collapsed": false
   },
   "outputs": [
    {
     "data": {
      "text/plain": [
       "Variable containing:\n",
       "1.00000e-03 *\n",
       " -9.8134\n",
       "[torch.FloatTensor of size 1]"
      ]
     },
     "execution_count": 50,
     "metadata": {},
     "output_type": "execute_result"
    }
   ],
   "source": [
    "R_squared = compute_R_squared(cv_predictors_Tensor, cv_outcome_Tensor)\n",
    "R_squared"
   ]
  },
  {
   "cell_type": "markdown",
   "metadata": {},
   "source": [
    "### 5.2 Performance Visualization"
   ]
  },
  {
   "cell_type": "code",
   "execution_count": 51,
   "metadata": {
    "collapsed": false
   },
   "outputs": [
    {
     "data": {
      "image/png": "[encoded data removed]",
      "text/plain": [
       "<matplotlib.figure.Figure at 0x7f736c606048>"
      ]
     },
     "metadata": {},
     "output_type": "display_data"
    }
   ],
   "source": [
    "plot_cross_valid_perf(cv_predictors_Tensor, cv_outcome_Tensor)"
   ]
  },
  {
   "cell_type": "code",
   "execution_count": 52,
   "metadata": {
    "collapsed": false
   },
   "outputs": [
    {
     "data": {
      "text/plain": [
       "Parameter containing:\n",
       "\n",
       "Columns 0 to 9 \n",
       " 0.1158 -0.1406 -0.0199 -0.0553 -0.1576 -0.0467  0.1109 -0.1775  0.1739 -0.1959\n",
       "-0.0132  0.1986 -0.0528 -0.0686  0.1520 -0.0162  0.1252 -0.0791  0.1145 -0.0317\n",
       "-0.0923  0.1378 -0.0579  0.0403 -0.1002 -0.0665 -0.1125  0.0691 -0.1859  0.1785\n",
       "-0.0785 -0.0606 -0.0373 -0.1137  0.1759 -0.1857 -0.0530 -0.0020  0.0086 -0.1428\n",
       "-0.1185  0.0846  0.0654 -0.0769 -0.0961 -0.1728 -0.0530  0.0410 -0.0398  0.0689\n",
       " 0.0057  0.1411  0.1591 -0.1002  0.0847 -0.1929 -0.1169 -0.0925 -0.1369 -0.0198\n",
       " 0.1382  0.1825  0.0519  0.1250  0.1214 -0.0874 -0.1180 -0.0788 -0.1151 -0.0103\n",
       " 0.1110  0.0742 -0.0572 -0.1713  0.2038  0.1200  0.1093 -0.1492 -0.1449 -0.0805\n",
       " 0.0329  0.0294  0.1629 -0.0822 -0.0448  0.1645  0.1452  0.1047  0.1288 -0.0539\n",
       " 0.0102 -0.0901  0.0485  0.1567 -0.0785 -0.0126 -0.1667  0.1112 -0.0947 -0.0079\n",
       "-0.0089  0.0237  0.1419 -0.1552  0.1067  0.0055  0.2032 -0.0374 -0.1797  0.1946\n",
       "-0.1533  0.0339 -0.0769 -0.1233 -0.0210 -0.0938 -0.0496 -0.0386  0.1688  0.0133\n",
       " 0.0702  0.0033 -0.1414  0.1880  0.1064  0.1866 -0.1975  0.0748  0.0894  0.0267\n",
       "-0.0036  0.1099 -0.0756  0.1559 -0.0256 -0.1005  0.0336  0.1306  0.0898  0.1355\n",
       " 0.1377 -0.0912  0.0478  0.0682 -0.0838  0.1911 -0.0181  0.1330  0.1805  0.0861\n",
       " 0.0382  0.1354  0.1691 -0.1531  0.0904  0.1528  0.1190 -0.1245  0.1488  0.0945\n",
       "\n",
       "Columns 10 to 19 \n",
       " 0.1254  0.1897  0.1031  0.0515  0.1344 -0.0308 -0.1321 -0.0930  0.0641  0.1742\n",
       " 0.1880  0.1661 -0.0109  0.1654  0.1588 -0.0443 -0.0003 -0.1262  0.1048  0.1217\n",
       " 0.0673 -0.1361  0.1156 -0.0693  0.0260  0.1647 -0.0328 -0.1837  0.1561  0.1546\n",
       " 0.0872  0.0898 -0.0997 -0.1391  0.1425 -0.0323  0.1893 -0.0971  0.0675 -0.1453\n",
       " 0.0497 -0.1475 -0.1976 -0.0777 -0.0661  0.1204 -0.1527  0.0144 -0.0596 -0.0890\n",
       " 0.1590  0.0217 -0.1154  0.1839 -0.0112  0.0973 -0.0143  0.1446  0.1072 -0.0782\n",
       "-0.1817 -0.0679  0.1524  0.1033  0.0424  0.0897  0.1694  0.0252  0.1133  0.0116\n",
       " 0.0171 -0.1265 -0.1871  0.1248 -0.0291 -0.0839  0.1403 -0.0608 -0.1543  0.0163\n",
       "-0.0868 -0.0022 -0.1705  0.0377  0.0872  0.1691  0.1284  0.1922 -0.1286 -0.0835\n",
       " 0.0078  0.1092  0.1692 -0.1522 -0.1448  0.1696 -0.1615 -0.1396  0.1714  0.0647\n",
       " 0.0725  0.2006 -0.0002  0.1673 -0.0009 -0.0907  0.1025 -0.0244  0.0671  0.1445\n",
       "-0.0242 -0.1993 -0.1905  0.1471  0.0586 -0.1506 -0.1653  0.1160  0.0137  0.1832\n",
       " 0.0277 -0.0929 -0.0296 -0.0639  0.0316 -0.1307 -0.1453 -0.0613  0.1700  0.0965\n",
       "-0.1902  0.1317  0.0018 -0.0894  0.1785 -0.1993  0.1148 -0.0216  0.0462  0.1190\n",
       " 0.0679 -0.1626 -0.0404  0.0012  0.1988 -0.0906 -0.0292 -0.1668 -0.1010  0.1754\n",
       "-0.0566 -0.1919 -0.1198  0.1548 -0.1698 -0.0368  0.0342 -0.1584  0.1265 -0.0179\n",
       "\n",
       "Columns 20 to 23 \n",
       "-0.0729  0.0651 -0.1803 -0.1591\n",
       " 0.1030 -0.1106 -0.0279 -0.1526\n",
       "-0.1837 -0.1673  0.0396 -0.0087\n",
       "-0.0899  0.1671  0.0873  0.1955\n",
       "-0.1045  0.1349  0.1112 -0.1334\n",
       " 0.0604  0.0828 -0.0104 -0.1635\n",
       "-0.1057 -0.1326  0.1058  0.0378\n",
       " 0.0959  0.0665 -0.1729 -0.0852\n",
       "-0.0576 -0.0679  0.0708 -0.2003\n",
       "-0.0746 -0.0142  0.0196  0.0338\n",
       " 0.0943  0.1221 -0.1504  0.1840\n",
       "-0.0285 -0.0820 -0.0109 -0.1132\n",
       " 0.1786 -0.0823 -0.1121  0.1049\n",
       "-0.0427  0.0530 -0.0708 -0.1641\n",
       " 0.1882  0.0326  0.0112  0.1578\n",
       "-0.1935  0.1526  0.0837  0.0606\n",
       "[torch.FloatTensor of size 16x24]"
      ]
     },
     "execution_count": 52,
     "metadata": {},
     "output_type": "execute_result"
    }
   ],
   "source": [
    "model.fc1.weight"
   ]
  },
  {
   "cell_type": "markdown",
   "metadata": {},
   "source": [
    "### 5.3 Store Predictions"
   ]
  },
  {
   "cell_type": "code",
   "execution_count": 53,
   "metadata": {
    "collapsed": true
   },
   "outputs": [],
   "source": [
    "add_to_stored(\"cv_pred_5\", cv_predictors_Tensor, cv_stored)\n",
    "\n",
    "add_to_stored(\"test_pred_5\", test_predictors_Tensor, test_stored)"
   ]
  },
  {
   "cell_type": "markdown",
   "metadata": {},
   "source": [
    "## 6. Six-Hidden-Layer Neural Network"
   ]
  },
  {
   "cell_type": "code",
   "execution_count": 54,
   "metadata": {
    "collapsed": true
   },
   "outputs": [],
   "source": [
    "# Define the neural network\n",
    "class Net(torch.nn.Module):\n",
    "    \n",
    "    def __init__(self):\n",
    "        super(Net, self).__init__()\n",
    "        self.fc1 = torch.nn.Linear(24, 16)\n",
    "        self.fc2 = torch.nn.Linear(16, 11)\n",
    "        self.fc3 = torch.nn.Linear(11, 7)\n",
    "        self.fc4 = torch.nn.Linear(7, 5)\n",
    "        self.fc5 = torch.nn.Linear(5, 3)\n",
    "        self.fc6 = torch.nn.Linear(3, 2)\n",
    "        self.fc7 = torch.nn.Linear(2, 1)\n",
    "        \n",
    "    def forward(self, x):\n",
    "        x = torch.nn.functional.relu(self.fc1(x))\n",
    "        x = torch.nn.functional.relu(self.fc2(x))\n",
    "        x = torch.nn.functional.relu(self.fc3(x))\n",
    "        x = torch.nn.functional.relu(self.fc4(x))\n",
    "        x = torch.nn.functional.relu(self.fc5(x))\n",
    "        x = torch.nn.functional.relu(self.fc6(x))\n",
    "        x = self.fc7(x)\n",
    "        return(x)\n",
    "\n",
    "\n",
    "# Make it\n",
    "model = Net()"
   ]
  },
  {
   "cell_type": "code",
   "execution_count": 55,
   "metadata": {
    "collapsed": false
   },
   "outputs": [
    {
     "data": {
      "image/png": "[encoded data removed]",
      "text/plain": [
       "<matplotlib.figure.Figure at 0x7f736c567f98>"
      ]
     },
     "metadata": {},
     "output_type": "display_data"
    }
   ],
   "source": [
    "train_neural_net(model, outcome_Tensor, predictors_Tensor,\n",
    "                 15000, loss_fn, optimizer, cv_outcome_Tensor,\n",
    "                 cv_predictors_Tensor)"
   ]
  },
  {
   "cell_type": "markdown",
   "metadata": {},
   "source": [
    "### 6.1 Performance Metrics"
   ]
  },
  {
   "cell_type": "code",
   "execution_count": 56,
   "metadata": {
    "collapsed": false
   },
   "outputs": [
    {
     "data": {
      "text/plain": [
       "Variable containing:\n",
       " 1.0378\n",
       "[torch.FloatTensor of size 1]"
      ]
     },
     "execution_count": 56,
     "metadata": {},
     "output_type": "execute_result"
    }
   ],
   "source": [
    "MSE = compute_MSE(cv_predictors_Tensor, cv_outcome_Tensor)\n",
    "MSE"
   ]
  },
  {
   "cell_type": "code",
   "execution_count": 57,
   "metadata": {
    "collapsed": false
   },
   "outputs": [
    {
     "data": {
      "text/plain": [
       "Variable containing:\n",
       "1.00000e-02 *\n",
       " -5.1515\n",
       "[torch.FloatTensor of size 1]"
      ]
     },
     "execution_count": 57,
     "metadata": {},
     "output_type": "execute_result"
    }
   ],
   "source": [
    "R_squared = compute_R_squared(cv_predictors_Tensor, cv_outcome_Tensor)\n",
    "R_squared"
   ]
  },
  {
   "cell_type": "markdown",
   "metadata": {},
   "source": [
    "### 6.2 Performance Visualization"
   ]
  },
  {
   "cell_type": "code",
   "execution_count": 58,
   "metadata": {
    "collapsed": false
   },
   "outputs": [
    {
     "data": {
      "image/png": "[encoded data removed]",
      "text/plain": [
       "<matplotlib.figure.Figure at 0x7f736c1c1b38>"
      ]
     },
     "metadata": {},
     "output_type": "display_data"
    }
   ],
   "source": [
    "plot_cross_valid_perf(cv_predictors_Tensor, cv_outcome_Tensor)"
   ]
  },
  {
   "cell_type": "code",
   "execution_count": 59,
   "metadata": {
    "collapsed": false
   },
   "outputs": [
    {
     "data": {
      "text/plain": [
       "Parameter containing:\n",
       "\n",
       "Columns 0 to 9 \n",
       "-0.0674  0.0585 -0.1291 -0.0710 -0.0823 -0.0830  0.0256 -0.0162  0.1409 -0.0339\n",
       "-0.1896  0.0085  0.1472 -0.1653 -0.0915 -0.0059 -0.0642  0.0934  0.0157  0.0444\n",
       "-0.1113 -0.1014  0.2037 -0.0751  0.0852  0.1535 -0.0271  0.1302 -0.0250  0.1480\n",
       "-0.0567  0.0432  0.0017  0.1733  0.1546  0.0346  0.0692 -0.1023  0.1302  0.1296\n",
       " 0.1810  0.1670 -0.1240  0.0504 -0.0631 -0.0060  0.1771 -0.0118 -0.0272  0.1411\n",
       "-0.0766 -0.1598  0.1619  0.1926  0.0102 -0.1442 -0.0907 -0.0620  0.0085  0.0774\n",
       "-0.1242 -0.1359  0.1496 -0.0574  0.1919  0.0292  0.1560 -0.1266 -0.1487 -0.0675\n",
       "-0.0103 -0.1969  0.0203 -0.1617 -0.0598  0.0372 -0.0179  0.1484 -0.1711 -0.1440\n",
       "-0.0401 -0.1565 -0.1875  0.0998 -0.1982 -0.0565 -0.0546 -0.0804 -0.1587 -0.1422\n",
       " 0.1245 -0.1520  0.0798  0.1504  0.1330  0.1087  0.0825 -0.1223 -0.0588 -0.1876\n",
       " 0.0142  0.0591  0.1472 -0.1955  0.1538  0.0590  0.0389 -0.1160 -0.1306  0.1191\n",
       "-0.0534  0.0910 -0.0900  0.0832 -0.0239  0.0243  0.0368  0.1604  0.0013  0.1406\n",
       "-0.0821 -0.1658 -0.0243 -0.1050  0.0963 -0.2011  0.1021  0.0053  0.1142 -0.0292\n",
       "-0.1451 -0.0026 -0.1500  0.0033  0.1163 -0.0208  0.1001  0.1653 -0.1011 -0.1785\n",
       "-0.0681  0.1417 -0.1735 -0.1752 -0.1052 -0.1009  0.0900 -0.1975 -0.0754  0.1703\n",
       " 0.0649 -0.1391 -0.0458  0.0516 -0.1656  0.0429 -0.1939  0.0520 -0.1968  0.1249\n",
       "\n",
       "Columns 10 to 19 \n",
       "-0.1773 -0.1716  0.1540 -0.1521 -0.1380 -0.0508 -0.1497 -0.0930 -0.1053  0.1179\n",
       " 0.1582 -0.1388 -0.1412 -0.1995 -0.1138 -0.1147  0.0642 -0.1808  0.1371 -0.1661\n",
       "-0.0832  0.0375  0.1992  0.1485 -0.0927 -0.0694  0.0785  0.0544  0.1634 -0.1188\n",
       "-0.1155 -0.0166  0.0393 -0.0936  0.1951  0.1921 -0.1230  0.1460  0.0564  0.1530\n",
       " 0.0073 -0.1673  0.1503  0.0325 -0.1544 -0.0373  0.1091  0.1441 -0.1973 -0.2035\n",
       " 0.0229  0.0816  0.0759  0.1345 -0.0813  0.0657  0.0570  0.1146 -0.1922  0.0340\n",
       "-0.0180 -0.1984  0.0363  0.0640  0.1061  0.1625  0.0023 -0.1122  0.1773  0.0612\n",
       "-0.0739  0.1628  0.0402  0.1393 -0.1305 -0.0600  0.1249 -0.0484  0.1844  0.1952\n",
       " 0.0327 -0.0879 -0.1371  0.1533 -0.1310  0.0639  0.1425  0.0786  0.1600  0.1046\n",
       "-0.0271  0.0862 -0.0944 -0.0954  0.1245  0.1506 -0.0208  0.1426 -0.1593 -0.0465\n",
       " 0.1027 -0.1647  0.1060 -0.1465 -0.1701 -0.0321  0.0423 -0.0978  0.0816  0.2003\n",
       " 0.0640  0.1051  0.1256 -0.1500 -0.0867  0.1967 -0.1978 -0.1944  0.1903  0.0760\n",
       " 0.0889  0.0330  0.1457 -0.1075  0.1306  0.1230  0.0565 -0.1623  0.0571  0.0001\n",
       " 0.1747 -0.0041  0.0235  0.0625  0.0966  0.1803 -0.1650  0.0894  0.1440 -0.2024\n",
       "-0.0372 -0.1587 -0.0944  0.1654 -0.1497  0.0952  0.1035 -0.0417  0.1333 -0.1364\n",
       "-0.1247 -0.0345  0.1701 -0.1007 -0.0521  0.0553  0.0402  0.1842 -0.0977  0.1670\n",
       "\n",
       "Columns 20 to 23 \n",
       " 0.0163  0.1418  0.0046  0.0137\n",
       " 0.1402  0.1963  0.0992 -0.1592\n",
       " 0.0252  0.1894 -0.1044  0.0775\n",
       "-0.0311 -0.1687  0.1530  0.0515\n",
       "-0.1618  0.1320 -0.1668  0.0684\n",
       "-0.0445  0.0716  0.1290  0.0991\n",
       " 0.1736 -0.0677  0.1318 -0.0735\n",
       " 0.1324  0.0022 -0.0551  0.1508\n",
       "-0.0629 -0.1225 -0.0582 -0.1132\n",
       " 0.0918 -0.0549  0.1189 -0.1707\n",
       " 0.1248 -0.0294  0.0184  0.0167\n",
       " 0.0198 -0.0275 -0.0344  0.1240\n",
       "-0.0761 -0.0792  0.1082  0.1357\n",
       " 0.0306 -0.1471 -0.1188 -0.0208\n",
       "-0.1093 -0.1896 -0.0170  0.0325\n",
       " 0.1126 -0.0126  0.0872 -0.0891\n",
       "[torch.FloatTensor of size 16x24]"
      ]
     },
     "execution_count": 59,
     "metadata": {},
     "output_type": "execute_result"
    }
   ],
   "source": [
    "model.fc1.weight"
   ]
  },
  {
   "cell_type": "markdown",
   "metadata": {},
   "source": [
    "### 6.3 Store Predictions"
   ]
  },
  {
   "cell_type": "code",
   "execution_count": 60,
   "metadata": {
    "collapsed": true
   },
   "outputs": [],
   "source": [
    "add_to_stored(\"cv_pred_6\", cv_predictors_Tensor, cv_stored)\n",
    "\n",
    "add_to_stored(\"test_pred_6\", test_predictors_Tensor, test_stored)"
   ]
  },
  {
   "cell_type": "markdown",
   "metadata": {},
   "source": [
    "## 7. Linear Regression"
   ]
  },
  {
   "cell_type": "code",
   "execution_count": 61,
   "metadata": {
    "collapsed": true
   },
   "outputs": [],
   "source": [
    "# Define the neural network\n",
    "class Net(torch.nn.Module):\n",
    "    \n",
    "    def __init__(self):\n",
    "        super(Net, self).__init__()\n",
    "        self.fc1 = torch.nn.Linear(24, 1)\n",
    "        \n",
    "    def forward(self, x):\n",
    "        x = self.fc1(x)\n",
    "        return(x)\n",
    "\n",
    "\n",
    "# Make it\n",
    "model = Net()"
   ]
  },
  {
   "cell_type": "code",
   "execution_count": 62,
   "metadata": {
    "collapsed": false
   },
   "outputs": [
    {
     "data": {
      "image/png": "[encoded data removed]",
      "text/plain": [
       "<matplotlib.figure.Figure at 0x7f736c3e9320>"
      ]
     },
     "metadata": {},
     "output_type": "display_data"
    }
   ],
   "source": [
    "train_neural_net(model, outcome_Tensor, predictors_Tensor,\n",
    "                 15000, loss_fn, optimizer, cv_outcome_Tensor,\n",
    "                 cv_predictors_Tensor)"
   ]
  },
  {
   "cell_type": "markdown",
   "metadata": {},
   "source": [
    "### 7.1 Performance Metrics"
   ]
  },
  {
   "cell_type": "code",
   "execution_count": 63,
   "metadata": {
    "collapsed": false
   },
   "outputs": [
    {
     "data": {
      "text/plain": [
       "Variable containing:\n",
       " 1.1260\n",
       "[torch.FloatTensor of size 1]"
      ]
     },
     "execution_count": 63,
     "metadata": {},
     "output_type": "execute_result"
    }
   ],
   "source": [
    "MSE = compute_MSE(cv_predictors_Tensor, cv_outcome_Tensor)\n",
    "MSE"
   ]
  },
  {
   "cell_type": "code",
   "execution_count": 64,
   "metadata": {
    "collapsed": false
   },
   "outputs": [
    {
     "data": {
      "text/plain": [
       "Variable containing:\n",
       "-0.1408\n",
       "[torch.FloatTensor of size 1]"
      ]
     },
     "execution_count": 64,
     "metadata": {},
     "output_type": "execute_result"
    }
   ],
   "source": [
    "R_squared = compute_R_squared(cv_predictors_Tensor, cv_outcome_Tensor)\n",
    "R_squared"
   ]
  },
  {
   "cell_type": "markdown",
   "metadata": {},
   "source": [
    "### 7.2 Performance Visualization"
   ]
  },
  {
   "cell_type": "code",
   "execution_count": 65,
   "metadata": {
    "collapsed": false
   },
   "outputs": [
    {
     "data": {
      "image/png": "[encoded data removed]",
      "text/plain": [
       "<matplotlib.figure.Figure at 0x7f736c4236d8>"
      ]
     },
     "metadata": {},
     "output_type": "display_data"
    }
   ],
   "source": [
    "plot_cross_valid_perf(cv_predictors_Tensor, cv_outcome_Tensor)"
   ]
  },
  {
   "cell_type": "code",
   "execution_count": 66,
   "metadata": {
    "collapsed": false
   },
   "outputs": [
    {
     "data": {
      "text/plain": [
       "Parameter containing:\n",
       "\n",
       "Columns 0 to 9 \n",
       " 0.1835 -0.0017  0.0404  0.1956  0.0138  0.0121  0.0337 -0.1285  0.1711  0.1232\n",
       "\n",
       "Columns 10 to 19 \n",
       "-0.0073 -0.0907  0.2035 -0.0466 -0.1532 -0.0513 -0.1846 -0.1056 -0.0016  0.1944\n",
       "\n",
       "Columns 20 to 23 \n",
       " 0.1450  0.1043 -0.0369 -0.1610\n",
       "[torch.FloatTensor of size 1x24]"
      ]
     },
     "execution_count": 66,
     "metadata": {},
     "output_type": "execute_result"
    }
   ],
   "source": [
    "model.fc1.weight"
   ]
  },
  {
   "cell_type": "markdown",
   "metadata": {},
   "source": [
    "### 7.3 Store Predictions"
   ]
  },
  {
   "cell_type": "code",
   "execution_count": 67,
   "metadata": {
    "collapsed": true
   },
   "outputs": [],
   "source": [
    "add_to_stored(\"cv_pred_7\", cv_predictors_Tensor, cv_stored)\n",
    "\n",
    "add_to_stored(\"test_pred_7\", test_predictors_Tensor, test_stored)"
   ]
  },
  {
   "cell_type": "code",
   "execution_count": 68,
   "metadata": {
    "collapsed": false
   },
   "outputs": [
    {
     "data": {
      "text/html": [
       "<div>\n",
       "<table border=\"1\" class=\"dataframe\">\n",
       "  <thead>\n",
       "    <tr style=\"text-align: right;\">\n",
       "      <th></th>\n",
       "      <th>observed</th>\n",
       "      <th>cv_pred_1</th>\n",
       "      <th>cv_pred_2</th>\n",
       "      <th>cv_pred_3</th>\n",
       "      <th>cv_pred_4</th>\n",
       "      <th>cv_pred_5</th>\n",
       "      <th>cv_pred_6</th>\n",
       "      <th>cv_pred_7</th>\n",
       "    </tr>\n",
       "  </thead>\n",
       "  <tbody>\n",
       "    <tr>\n",
       "      <th>0</th>\n",
       "      <td>0.677117</td>\n",
       "      <td>-0.068599</td>\n",
       "      <td>-0.389445</td>\n",
       "      <td>0.018896</td>\n",
       "      <td>-0.344952</td>\n",
       "      <td>-0.084005</td>\n",
       "      <td>-0.209767</td>\n",
       "      <td>0.395025</td>\n",
       "    </tr>\n",
       "    <tr>\n",
       "      <th>1</th>\n",
       "      <td>0.484530</td>\n",
       "      <td>-0.984434</td>\n",
       "      <td>-0.389235</td>\n",
       "      <td>0.006808</td>\n",
       "      <td>-0.341265</td>\n",
       "      <td>-0.081923</td>\n",
       "      <td>-0.209760</td>\n",
       "      <td>0.596722</td>\n",
       "    </tr>\n",
       "    <tr>\n",
       "      <th>2</th>\n",
       "      <td>0.058780</td>\n",
       "      <td>0.078701</td>\n",
       "      <td>-0.341907</td>\n",
       "      <td>0.046172</td>\n",
       "      <td>-0.328800</td>\n",
       "      <td>-0.080563</td>\n",
       "      <td>-0.209787</td>\n",
       "      <td>0.800099</td>\n",
       "    </tr>\n",
       "    <tr>\n",
       "      <th>3</th>\n",
       "      <td>-1.421860</td>\n",
       "      <td>-0.558317</td>\n",
       "      <td>-0.332685</td>\n",
       "      <td>0.023286</td>\n",
       "      <td>-0.343791</td>\n",
       "      <td>-0.086832</td>\n",
       "      <td>-0.209773</td>\n",
       "      <td>-0.311166</td>\n",
       "    </tr>\n",
       "    <tr>\n",
       "      <th>4</th>\n",
       "      <td>-1.421860</td>\n",
       "      <td>-0.981630</td>\n",
       "      <td>-0.379327</td>\n",
       "      <td>0.042896</td>\n",
       "      <td>-0.357324</td>\n",
       "      <td>-0.083710</td>\n",
       "      <td>-0.209732</td>\n",
       "      <td>-1.059171</td>\n",
       "    </tr>\n",
       "  </tbody>\n",
       "</table>\n",
       "</div>"
      ],
      "text/plain": [
       "   observed  cv_pred_1  cv_pred_2  cv_pred_3  cv_pred_4  cv_pred_5  cv_pred_6  \\\n",
       "0  0.677117  -0.068599  -0.389445   0.018896  -0.344952  -0.084005  -0.209767   \n",
       "1  0.484530  -0.984434  -0.389235   0.006808  -0.341265  -0.081923  -0.209760   \n",
       "2  0.058780   0.078701  -0.341907   0.046172  -0.328800  -0.080563  -0.209787   \n",
       "3 -1.421860  -0.558317  -0.332685   0.023286  -0.343791  -0.086832  -0.209773   \n",
       "4 -1.421860  -0.981630  -0.379327   0.042896  -0.357324  -0.083710  -0.209732   \n",
       "\n",
       "   cv_pred_7  \n",
       "0   0.395025  \n",
       "1   0.596722  \n",
       "2   0.800099  \n",
       "3  -0.311166  \n",
       "4  -1.059171  "
      ]
     },
     "execution_count": 68,
     "metadata": {},
     "output_type": "execute_result"
    }
   ],
   "source": [
    "cv_stored.head()"
   ]
  },
  {
   "cell_type": "code",
   "execution_count": 69,
   "metadata": {
    "collapsed": false
   },
   "outputs": [
    {
     "data": {
      "text/html": [
       "<div>\n",
       "<table border=\"1\" class=\"dataframe\">\n",
       "  <thead>\n",
       "    <tr style=\"text-align: right;\">\n",
       "      <th></th>\n",
       "      <th>observed</th>\n",
       "      <th>test_pred_1</th>\n",
       "      <th>test_pred_2</th>\n",
       "      <th>test_pred_3</th>\n",
       "      <th>test_pred_4</th>\n",
       "      <th>test_pred_5</th>\n",
       "      <th>test_pred_6</th>\n",
       "      <th>test_pred_7</th>\n",
       "    </tr>\n",
       "  </thead>\n",
       "  <tbody>\n",
       "    <tr>\n",
       "      <th>0</th>\n",
       "      <td>0.356356</td>\n",
       "      <td>-1.082063</td>\n",
       "      <td>-0.299564</td>\n",
       "      <td>0.023465</td>\n",
       "      <td>-0.354372</td>\n",
       "      <td>-0.086228</td>\n",
       "      <td>-0.209734</td>\n",
       "      <td>-0.617620</td>\n",
       "    </tr>\n",
       "    <tr>\n",
       "      <th>1</th>\n",
       "      <td>1.132974</td>\n",
       "      <td>-0.638459</td>\n",
       "      <td>-0.282162</td>\n",
       "      <td>0.012359</td>\n",
       "      <td>-0.333572</td>\n",
       "      <td>-0.082759</td>\n",
       "      <td>-0.209718</td>\n",
       "      <td>-0.576426</td>\n",
       "    </tr>\n",
       "    <tr>\n",
       "      <th>2</th>\n",
       "      <td>0.578992</td>\n",
       "      <td>0.545371</td>\n",
       "      <td>-0.306591</td>\n",
       "      <td>0.042310</td>\n",
       "      <td>-0.342538</td>\n",
       "      <td>-0.091696</td>\n",
       "      <td>-0.209641</td>\n",
       "      <td>-0.373287</td>\n",
       "    </tr>\n",
       "    <tr>\n",
       "      <th>3</th>\n",
       "      <td>-1.421860</td>\n",
       "      <td>-0.148617</td>\n",
       "      <td>-0.302297</td>\n",
       "      <td>0.052378</td>\n",
       "      <td>-0.336708</td>\n",
       "      <td>-0.090050</td>\n",
       "      <td>-0.209754</td>\n",
       "      <td>0.760196</td>\n",
       "    </tr>\n",
       "    <tr>\n",
       "      <th>4</th>\n",
       "      <td>-1.421860</td>\n",
       "      <td>-0.711430</td>\n",
       "      <td>-0.316136</td>\n",
       "      <td>0.026851</td>\n",
       "      <td>-0.353738</td>\n",
       "      <td>-0.083962</td>\n",
       "      <td>-0.209762</td>\n",
       "      <td>-0.283409</td>\n",
       "    </tr>\n",
       "  </tbody>\n",
       "</table>\n",
       "</div>"
      ],
      "text/plain": [
       "   observed  test_pred_1  test_pred_2  test_pred_3  test_pred_4  test_pred_5  \\\n",
       "0  0.356356    -1.082063    -0.299564     0.023465    -0.354372    -0.086228   \n",
       "1  1.132974    -0.638459    -0.282162     0.012359    -0.333572    -0.082759   \n",
       "2  0.578992     0.545371    -0.306591     0.042310    -0.342538    -0.091696   \n",
       "3 -1.421860    -0.148617    -0.302297     0.052378    -0.336708    -0.090050   \n",
       "4 -1.421860    -0.711430    -0.316136     0.026851    -0.353738    -0.083962   \n",
       "\n",
       "   test_pred_6  test_pred_7  \n",
       "0    -0.209734    -0.617620  \n",
       "1    -0.209718    -0.576426  \n",
       "2    -0.209641    -0.373287  \n",
       "3    -0.209754     0.760196  \n",
       "4    -0.209762    -0.283409  "
      ]
     },
     "execution_count": 69,
     "metadata": {},
     "output_type": "execute_result"
    }
   ],
   "source": [
    "test_stored.head()"
   ]
  },
  {
   "cell_type": "code",
   "execution_count": 70,
   "metadata": {
    "collapsed": true
   },
   "outputs": [],
   "source": [
    "# Save the stored predictions and outcomes as a .csv\n",
    "cv_stored.to_csv(\"12_cv_perf.csv\")\n",
    "\n",
    "test_stored.to_csv(\"12_test_perf.csv\")"
   ]
  }
 ],
 "metadata": {
  "kernelspec": {
   "display_name": "Python 3",
   "language": "python",
   "name": "python3"
  },
  "language_info": {
   "codemirror_mode": {
    "name": "ipython",
    "version": 3
   },
   "file_extension": ".py",
   "mimetype": "text/x-python",
   "name": "python",
   "nbconvert_exporter": "python",
   "pygments_lexer": "ipython3",
   "version": "3.6.0"
  }
 },
 "nbformat": 4,
 "nbformat_minor": 2
}
