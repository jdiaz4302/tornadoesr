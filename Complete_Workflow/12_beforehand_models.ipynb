{
 "cells": [
  {
   "cell_type": "markdown",
   "metadata": {},
   "source": [
    "## Setup"
   ]
  },
  {
   "cell_type": "code",
   "execution_count": 1,
   "metadata": {
    "collapsed": true
   },
   "outputs": [],
   "source": [
    "# Packages\n",
    "import pandas as pd\n",
    "import torch\n",
    "from torch.autograd import Variable\n",
    "import numpy as np\n",
    "import matplotlib.pyplot as plt\n",
    "%matplotlib inline\n",
    "import pylab\n",
    "import math"
   ]
  },
  {
   "cell_type": "code",
   "execution_count": 2,
   "metadata": {
    "collapsed": false
   },
   "outputs": [
    {
     "name": "stdout",
     "output_type": "stream",
     "text": [
      "<class 'pandas.core.frame.DataFrame'>\n",
      "RangeIndex: 11959 entries, 0 to 11958\n",
      "Data columns (total 35 columns):\n",
      "DAMAGE_PROPERTY       11959 non-null float64\n",
      "DURATION_SECONDS      11959 non-null float64\n",
      "BEGIN_LAT             11959 non-null float64\n",
      "BEGIN_LON             11959 non-null float64\n",
      "TOR_LENGTH            11959 non-null float64\n",
      "TOR_WIDTH             11959 non-null float64\n",
      "YEAR                  11959 non-null float64\n",
      "MULTI_VORT_IND        11959 non-null int64\n",
      "OPEN_WATER_PROP       11959 non-null float64\n",
      "DEV_OPEN_PROP         11959 non-null float64\n",
      "DEV_LOW_PROP          11959 non-null float64\n",
      "DEV_MED_PROP          11959 non-null float64\n",
      "DEV_HIGH_PROP         11959 non-null float64\n",
      "BARREN_LAND_PROP      11959 non-null float64\n",
      "DECID_FOREST_PROP     11959 non-null float64\n",
      "EVERGR_FOREST_PROP    11959 non-null float64\n",
      "MIXED_FOREST_PROP     11959 non-null float64\n",
      "SHRUB_SCRUB_PROP      11959 non-null float64\n",
      "GRASS_LAND_PROP       11959 non-null float64\n",
      "PASTURE_HAY_PROP      11959 non-null float64\n",
      "CULT_CROPS_PROP       11959 non-null float64\n",
      "WOOD_WETLAND_PROP     11959 non-null float64\n",
      "HERB_WETLAND_PROP     11959 non-null float64\n",
      "INCOME                11959 non-null float64\n",
      "MOB_HOME_DENS         11959 non-null float64\n",
      "POP_DENS              11959 non-null float64\n",
      "TOR_AREA              11959 non-null float64\n",
      "TOT_DEV_INT           11959 non-null float64\n",
      "TOT_WOOD_AREA         11959 non-null float64\n",
      "WOOD_DEV_INT          11959 non-null float64\n",
      "EXP_INC_AREA          11959 non-null float64\n",
      "DAY_OF_YEAR           11959 non-null float64\n",
      "MONTH                 11959 non-null float64\n",
      "STATE_RANK            11959 non-null float64\n",
      "TIME                  11959 non-null float64\n",
      "dtypes: float64(34), int64(1)\n",
      "memory usage: 3.2 MB\n"
     ]
    }
   ],
   "source": [
    "# Import data\n",
    "tor_df = pd.read_csv(\"/home/jeremy/github_tornadoesr/data/raw/tor_train_set.csv\")\n",
    "\n",
    "\n",
    "# Quick inspection\n",
    "tor_df.info()"
   ]
  },
  {
   "cell_type": "code",
   "execution_count": 3,
   "metadata": {
    "collapsed": false
   },
   "outputs": [
    {
     "name": "stdout",
     "output_type": "stream",
     "text": [
      "<class 'pandas.core.frame.DataFrame'>\n",
      "RangeIndex: 11959 entries, 0 to 11958\n",
      "Data columns (total 1 columns):\n",
      "DAMAGE_PROPERTY    11959 non-null float64\n",
      "dtypes: float64(1)\n",
      "memory usage: 93.5 KB\n"
     ]
    }
   ],
   "source": [
    "# Seperating variables\n",
    "# The dependent variables\n",
    "tornado_outcomes = tor_df.iloc[:, [0]]\n",
    "\n",
    "\n",
    "# Quick inspection\n",
    "tornado_outcomes.info()"
   ]
  },
  {
   "cell_type": "code",
   "execution_count": 4,
   "metadata": {
    "collapsed": false
   },
   "outputs": [
    {
     "name": "stdout",
     "output_type": "stream",
     "text": [
      "<class 'pandas.core.frame.DataFrame'>\n",
      "RangeIndex: 11959 entries, 0 to 11958\n",
      "Data columns (total 24 columns):\n",
      "BEGIN_LAT             11959 non-null float64\n",
      "BEGIN_LON             11959 non-null float64\n",
      "OPEN_WATER_PROP       11959 non-null float64\n",
      "DEV_OPEN_PROP         11959 non-null float64\n",
      "DEV_LOW_PROP          11959 non-null float64\n",
      "DEV_MED_PROP          11959 non-null float64\n",
      "DEV_HIGH_PROP         11959 non-null float64\n",
      "BARREN_LAND_PROP      11959 non-null float64\n",
      "DECID_FOREST_PROP     11959 non-null float64\n",
      "EVERGR_FOREST_PROP    11959 non-null float64\n",
      "MIXED_FOREST_PROP     11959 non-null float64\n",
      "SHRUB_SCRUB_PROP      11959 non-null float64\n",
      "GRASS_LAND_PROP       11959 non-null float64\n",
      "PASTURE_HAY_PROP      11959 non-null float64\n",
      "CULT_CROPS_PROP       11959 non-null float64\n",
      "WOOD_WETLAND_PROP     11959 non-null float64\n",
      "HERB_WETLAND_PROP     11959 non-null float64\n",
      "INCOME                11959 non-null float64\n",
      "MOB_HOME_DENS         11959 non-null float64\n",
      "POP_DENS              11959 non-null float64\n",
      "TOT_DEV_INT           11959 non-null float64\n",
      "TOT_WOOD_AREA         11959 non-null float64\n",
      "WOOD_DEV_INT          11959 non-null float64\n",
      "STATE_RANK            11959 non-null float64\n",
      "dtypes: float64(24)\n",
      "memory usage: 2.2 MB\n"
     ]
    }
   ],
   "source": [
    "# The independent variables\n",
    "tornado_features = tor_df.iloc[:, 2:34]\n",
    "\n",
    "tornado_features = tornado_features.drop([\"TOR_LENGTH\",\n",
    "                                          \"TOR_WIDTH\",\n",
    "                                          \"YEAR\",\n",
    "                                          \"MULTI_VORT_IND\",\n",
    "                                          \"TOR_AREA\",\n",
    "                                          \"EXP_INC_AREA\",\n",
    "                                          \"DAY_OF_YEAR\",\n",
    "                                          \"MONTH\"],\n",
    "                                         axis = 1)\n",
    "\n",
    "\n",
    "# Quick inspection\n",
    "tornado_features.info()"
   ]
  },
  {
   "cell_type": "code",
   "execution_count": 5,
   "metadata": {
    "collapsed": false
   },
   "outputs": [
    {
     "data": {
      "text/plain": [
       "\n",
       " 0.1532\n",
       " 0.6540\n",
       " 0.0873\n",
       "   ⋮    \n",
       "-1.4219\n",
       " 0.1532\n",
       " 0.2814\n",
       "[torch.DoubleTensor of size 11959x1]"
      ]
     },
     "execution_count": 5,
     "metadata": {},
     "output_type": "execute_result"
    }
   ],
   "source": [
    "# Make the dependent variables into a numpy array\n",
    "outcomes_array = tornado_outcomes.values\n",
    "\n",
    "\n",
    "# Makes the numpy array into a torch Tensor\n",
    "outcomes_Tensor = torch.from_numpy(outcomes_array)\n",
    "\n",
    "\n",
    "# Quick inspection\n",
    "outcomes_Tensor"
   ]
  },
  {
   "cell_type": "code",
   "execution_count": 6,
   "metadata": {
    "collapsed": false
   },
   "outputs": [
    {
     "data": {
      "text/plain": [
       "\n",
       "-1.6434e+00 -4.3226e-01  1.0059e+00  ...   2.4012e-01  9.9841e-01 -8.0985e-01\n",
       " 2.0633e-01  5.5447e-01  2.5095e-01  ...   6.0023e-01  2.2936e-01  5.1571e-01\n",
       "-3.3130e-01 -8.9907e-01  6.5406e-01  ...  -5.8070e-01 -1.0991e+00 -1.1142e+00\n",
       "                ...                   ⋱                   ...                \n",
       " 1.1642e+00 -1.2164e+00  2.8103e-01  ...  -1.3975e+00 -1.6350e+00  7.8164e-01\n",
       "-1.2487e+00  6.1127e-01  1.0901e-01  ...   9.1690e-01  4.8438e-01  2.6054e-01\n",
       "-4.7014e-01 -3.4764e-02  1.6123e+00  ...   5.8210e-01 -4.3274e-01 -3.8082e-01\n",
       "[torch.DoubleTensor of size 11959x24]"
      ]
     },
     "execution_count": 6,
     "metadata": {},
     "output_type": "execute_result"
    }
   ],
   "source": [
    "# Make the independent variables into a numpy array\n",
    "features_array = tornado_features.values\n",
    "\n",
    "\n",
    "# Make the numpy array into a torch Tensor\n",
    "features_Tensor = torch.from_numpy(features_array)\n",
    "\n",
    "\n",
    "# Quick inspection\n",
    "features_Tensor"
   ]
  },
  {
   "cell_type": "markdown",
   "metadata": {},
   "source": [
    "### Convert DoubleTensor to FloatTensor"
   ]
  },
  {
   "cell_type": "code",
   "execution_count": 7,
   "metadata": {
    "collapsed": false
   },
   "outputs": [
    {
     "data": {
      "text/plain": [
       "\n",
       "-1.6434e+00 -4.3226e-01  1.0059e+00  ...   2.4012e-01  9.9841e-01 -8.0985e-01\n",
       " 2.0633e-01  5.5447e-01  2.5095e-01  ...   6.0023e-01  2.2936e-01  5.1571e-01\n",
       "-3.3130e-01 -8.9907e-01  6.5406e-01  ...  -5.8070e-01 -1.0991e+00 -1.1142e+00\n",
       "                ...                   ⋱                   ...                \n",
       " 1.1642e+00 -1.2164e+00  2.8103e-01  ...  -1.3975e+00 -1.6350e+00  7.8164e-01\n",
       "-1.2487e+00  6.1127e-01  1.0901e-01  ...   9.1690e-01  4.8438e-01  2.6054e-01\n",
       "-4.7014e-01 -3.4764e-02  1.6123e+00  ...   5.8210e-01 -4.3274e-01 -3.8082e-01\n",
       "[torch.FloatTensor of size 11959x24]"
      ]
     },
     "execution_count": 7,
     "metadata": {},
     "output_type": "execute_result"
    }
   ],
   "source": [
    "# Changing dependent variables from a DoubleTensor to a FloatTensor\n",
    "outcomes_Tensor = outcomes_Tensor.float()\n",
    "\n",
    "\n",
    "# ...and for the independent variables\n",
    "features_Tensor = features_Tensor.float()\n",
    "\n",
    "\n",
    "# Quick check\n",
    "features_Tensor"
   ]
  },
  {
   "cell_type": "markdown",
   "metadata": {
    "collapsed": true
   },
   "source": [
    "## Round 1: One-Hidden-Layer Neural Network"
   ]
  },
  {
   "cell_type": "code",
   "execution_count": 8,
   "metadata": {
    "collapsed": false
   },
   "outputs": [],
   "source": [
    "# Make the torch Tensor into a PyTorch Variable for dependent variables\n",
    "outcomes_Variable = Variable(outcomes_Tensor)\n",
    "\n",
    "\n",
    "# ...for independent variables\n",
    "features_Variable = Variable(features_Tensor,\n",
    "                             requires_grad = False)"
   ]
  },
  {
   "cell_type": "code",
   "execution_count": 9,
   "metadata": {
    "collapsed": false
   },
   "outputs": [],
   "source": [
    "# Make the neural network\n",
    "model = torch.nn.Sequential(torch.nn.Linear(24, 16),\n",
    "                            torch.nn.ReLU(),\n",
    "                            torch.nn.Linear(16, 1))"
   ]
  },
  {
   "cell_type": "code",
   "execution_count": 10,
   "metadata": {
    "collapsed": true
   },
   "outputs": [],
   "source": [
    "# Set the loss function\n",
    "loss_fn = torch.nn.MSELoss(size_average=False)"
   ]
  },
  {
   "cell_type": "code",
   "execution_count": 11,
   "metadata": {
    "collapsed": false
   },
   "outputs": [],
   "source": [
    "# To add errors to\n",
    "errors = []\n",
    "\n",
    "\n",
    "# Set the learning rate\n",
    "learning_rate = 1e-2\n",
    "\n",
    "\n",
    "# Define the model's optimizer\n",
    "optimizer = torch.optim.Adagrad(model.parameters(), lr = learning_rate)\n",
    "\n",
    "\n",
    "# Train the neural network\n",
    "for t in range(10000):\n",
    "    \n",
    "    # Get the current predictions\n",
    "    y_pred = model(features_Variable)\n",
    "    \n",
    "    # Compute and append current summed errors\n",
    "    loss = loss_fn(y_pred, outcomes_Variable)\n",
    "    errors.append(loss.data[0])\n",
    "    \n",
    "    # Zero the gradients before running the backward pass.\n",
    "    optimizer.zero_grad()\n",
    "    \n",
    "    # Backward pass: compute gradient of the loss with respect to all the learnable Variables\n",
    "    loss.backward()\n",
    "    \n",
    "    # Update the weights using Adagrad\n",
    "    optimizer.step()"
   ]
  },
  {
   "cell_type": "code",
   "execution_count": 12,
   "metadata": {
    "collapsed": true
   },
   "outputs": [],
   "source": [
    "# Get the iterations\n",
    "iterations = list(range(0, 10000))"
   ]
  },
  {
   "cell_type": "code",
   "execution_count": 13,
   "metadata": {
    "collapsed": false
   },
   "outputs": [
    {
     "data": {
      "text/plain": [
       "<matplotlib.collections.PathCollection at 0x7f9b108083c8>"
      ]
     },
     "execution_count": 13,
     "metadata": {},
     "output_type": "execute_result"
    },
    {
     "data": {
      "image/png": "[encoded data removed]",
      "text/plain": [
       "<matplotlib.figure.Figure at 0x7f9ab8df66a0>"
      ]
     },
     "metadata": {},
     "output_type": "display_data"
    }
   ],
   "source": [
    "# Plot summed error as a function of iteration\n",
    "plt.scatter(iterations, errors, c = \"black\", alpha = 0.25)"
   ]
  },
  {
   "cell_type": "code",
   "execution_count": 14,
   "metadata": {
    "collapsed": false
   },
   "outputs": [],
   "source": [
    "# Get rid of the 2nd dimension of 1 from the FloatTensor\n",
    "y_pred_resized = y_pred.resize(11959)\n",
    "\n",
    "\n",
    "# Make the FloatTensor into a numpy.array\n",
    "y_pred_array = y_pred_resized.data.numpy()\n",
    "\n",
    "\n",
    "# Make the numpy.array into a list\n",
    "y_pred_list = y_pred_array.tolist()"
   ]
  },
  {
   "cell_type": "code",
   "execution_count": 15,
   "metadata": {
    "collapsed": false
   },
   "outputs": [],
   "source": [
    "# Get rid of the 2nd dimension of 1 from the FloatTensor\n",
    "outcomes_Variable_resized = outcomes_Variable.resize(11959)\n",
    "\n",
    "\n",
    "# Make the FloatTensor into a numpy.array\n",
    "outcomes_array = outcomes_Variable_resized.data.numpy()\n",
    "\n",
    "\n",
    "# Make the numpy.array into a list\n",
    "outcomes_list = outcomes_array.tolist()"
   ]
  },
  {
   "cell_type": "code",
   "execution_count": 16,
   "metadata": {
    "collapsed": false
   },
   "outputs": [
    {
     "data": {
      "text/plain": [
       "[<matplotlib.lines.Line2D at 0x7f9ab460ffd0>]"
      ]
     },
     "execution_count": 16,
     "metadata": {},
     "output_type": "execute_result"
    },
    {
     "data": {
      "image/png": "[encoded data removed]",
      "text/plain": [
       "<matplotlib.figure.Figure at 0x7f9ab573df28>"
      ]
     },
     "metadata": {},
     "output_type": "display_data"
    }
   ],
   "source": [
    "# Plot predictions versus training set outcomes\n",
    "plt.scatter(outcomes_list, y_pred_list, c = \"black\", alpha = 0.15)\n",
    "\n",
    "axes = plt.gca()\n",
    "\n",
    "axes.set_xlim([-2, 4])\n",
    "\n",
    "axes.set_ylim([-2, 4])\n",
    "\n",
    "plt.plot([-2, 4], [-2, 4], 'k-', lw=2)"
   ]
  },
  {
   "cell_type": "markdown",
   "metadata": {},
   "source": [
    "### Round 1.1: Validation Set Performance"
   ]
  },
  {
   "cell_type": "code",
   "execution_count": 17,
   "metadata": {
    "collapsed": false
   },
   "outputs": [
    {
     "name": "stdout",
     "output_type": "stream",
     "text": [
      "<class 'pandas.core.frame.DataFrame'>\n",
      "RangeIndex: 3987 entries, 0 to 3986\n",
      "Data columns (total 1 columns):\n",
      "DAMAGE_PROPERTY    3987 non-null float64\n",
      "dtypes: float64(1)\n",
      "memory usage: 31.2 KB\n"
     ]
    }
   ],
   "source": [
    "# Import data\n",
    "valid_df = pd.read_csv(\"/home/jeremy/github_tornadoesr/data/raw/tor_cv_set.csv\")\n",
    "\n",
    "\n",
    "# Validation set outcomes\n",
    "valid_outcomes = valid_df.iloc[:, [0]]\n",
    "\n",
    "\n",
    "# Make the validation outcomes into a numpy array\n",
    "valid_outcomes_array = valid_outcomes.values\n",
    "\n",
    "\n",
    "# Makes the numpy array into a torch Tensor\n",
    "valid_outcomes_Tensor = torch.from_numpy(valid_outcomes_array)\n",
    "\n",
    "\n",
    "# Changing validation outcomes from a DoubleTensor to a FloatTensor\n",
    "valid_outcomes_Tensor = valid_outcomes_Tensor.float()\n",
    "\n",
    "\n",
    "# Make the Tensor into a Pytorch Variable\n",
    "valid_outcomes_Variable = Variable(valid_outcomes_Tensor)\n",
    "\n",
    "\n",
    "# Quick check\n",
    "valid_outcomes.info()"
   ]
  },
  {
   "cell_type": "code",
   "execution_count": 18,
   "metadata": {
    "collapsed": false
   },
   "outputs": [
    {
     "name": "stdout",
     "output_type": "stream",
     "text": [
      "<class 'pandas.core.frame.DataFrame'>\n",
      "RangeIndex: 3987 entries, 0 to 3986\n",
      "Data columns (total 24 columns):\n",
      "BEGIN_LAT             3987 non-null float64\n",
      "BEGIN_LON             3987 non-null float64\n",
      "OPEN_WATER_PROP       3987 non-null float64\n",
      "DEV_OPEN_PROP         3987 non-null float64\n",
      "DEV_LOW_PROP          3987 non-null float64\n",
      "DEV_MED_PROP          3987 non-null float64\n",
      "DEV_HIGH_PROP         3987 non-null float64\n",
      "BARREN_LAND_PROP      3987 non-null float64\n",
      "DECID_FOREST_PROP     3987 non-null float64\n",
      "EVERGR_FOREST_PROP    3987 non-null float64\n",
      "MIXED_FOREST_PROP     3987 non-null float64\n",
      "SHRUB_SCRUB_PROP      3987 non-null float64\n",
      "GRASS_LAND_PROP       3987 non-null float64\n",
      "PASTURE_HAY_PROP      3987 non-null float64\n",
      "CULT_CROPS_PROP       3987 non-null float64\n",
      "WOOD_WETLAND_PROP     3987 non-null float64\n",
      "HERB_WETLAND_PROP     3987 non-null float64\n",
      "INCOME                3987 non-null float64\n",
      "MOB_HOME_DENS         3987 non-null float64\n",
      "POP_DENS              3987 non-null float64\n",
      "TOT_DEV_INT           3987 non-null float64\n",
      "TOT_WOOD_AREA         3987 non-null float64\n",
      "WOOD_DEV_INT          3987 non-null float64\n",
      "STATE_RANK            3987 non-null float64\n",
      "dtypes: float64(24)\n",
      "memory usage: 747.6 KB\n"
     ]
    }
   ],
   "source": [
    "# Validation set predictors\n",
    "valid_predictors = valid_df.iloc[:, 2:34]\n",
    "\n",
    "valid_predictors = valid_predictors.drop([\"TOR_LENGTH\",\n",
    "                                          \"TOR_WIDTH\",\n",
    "                                          \"YEAR\",\n",
    "                                          \"MULTI_VORT_IND\",\n",
    "                                          \"TOR_AREA\",\n",
    "                                          \"EXP_INC_AREA\",\n",
    "                                          \"DAY_OF_YEAR\",\n",
    "                                          \"MONTH\"],\n",
    "                                         axis = 1)\n",
    "\n",
    "\n",
    "# Make the validation predictors into a numpy array\n",
    "valid_predictors_array = valid_predictors.values\n",
    "\n",
    "\n",
    "# Makes the numpy array into a torch Tensor\n",
    "valid_predictors_Tensor = torch.from_numpy(valid_predictors_array)\n",
    "\n",
    "\n",
    "# Changing validation predictors from a DoubleTensor to a FloatTensor\n",
    "valid_predictors_Tensor = valid_predictors_Tensor.float()\n",
    "\n",
    "\n",
    "# Make the Tensor into a Pytorch Variable\n",
    "valid_predictors_Variable = Variable(valid_predictors_Tensor)\n",
    "\n",
    "\n",
    "# Quick check\n",
    "valid_predictors.info()"
   ]
  },
  {
   "cell_type": "code",
   "execution_count": 19,
   "metadata": {
    "collapsed": false
   },
   "outputs": [
    {
     "data": {
      "text/plain": [
       "Variable containing:\n",
       " 3093.3425\n",
       "[torch.FloatTensor of size 1]"
      ]
     },
     "execution_count": 19,
     "metadata": {},
     "output_type": "execute_result"
    }
   ],
   "source": [
    "# Get the validation set predictions\n",
    "y_valid_pred = model(valid_predictors_Variable)\n",
    "\n",
    "\n",
    "# Print the loss\n",
    "loss_fn(y_valid_pred,\n",
    "        valid_outcomes_Variable)"
   ]
  },
  {
   "cell_type": "code",
   "execution_count": 20,
   "metadata": {
    "collapsed": false
   },
   "outputs": [],
   "source": [
    "# Get rid of the 2nd dimension of 1 from the FloatTensor\n",
    "y_valid_pred_resized = y_valid_pred.resize(3987)\n",
    "\n",
    "\n",
    "# Make the FloatTensor into a numpy.array\n",
    "y_valid_pred_array = y_valid_pred_resized.data.numpy()\n",
    "\n",
    "\n",
    "# Make the numpy.array into a list\n",
    "y_valid_pred_list = y_valid_pred_array.tolist()"
   ]
  },
  {
   "cell_type": "code",
   "execution_count": 21,
   "metadata": {
    "collapsed": false
   },
   "outputs": [],
   "source": [
    "# Get rid of the 2nd dimension of 1 from the FloatTensor\n",
    "valid_outcomes_Variable_resized = valid_outcomes_Variable.resize(3987)\n",
    "\n",
    "\n",
    "# Make the FloatTensor into a numpy.array\n",
    "valid_outcomes_array = valid_outcomes_Variable_resized.data.numpy()\n",
    "\n",
    "\n",
    "# Make the numpy.array into a list\n",
    "valid_outcomes_list = valid_outcomes_array.tolist()"
   ]
  },
  {
   "cell_type": "code",
   "execution_count": 22,
   "metadata": {
    "collapsed": false
   },
   "outputs": [
    {
     "data": {
      "text/plain": [
       "[<matplotlib.lines.Line2D at 0x7f9ab4643240>]"
      ]
     },
     "execution_count": 22,
     "metadata": {},
     "output_type": "execute_result"
    },
    {
     "data": {
      "image/png": "[encoded data removed]",
      "text/plain": [
       "<matplotlib.figure.Figure at 0x7f9ab46439e8>"
      ]
     },
     "metadata": {},
     "output_type": "display_data"
    }
   ],
   "source": [
    "# Plot new predictions versus new data outcomes\n",
    "plt.scatter(valid_outcomes_list, y_valid_pred_list, c = \"black\", alpha = 0.15)\n",
    "\n",
    "axes = plt.gca()\n",
    "\n",
    "axes.set_xlim([-2, 4])\n",
    "\n",
    "axes.set_ylim([-2, 4])\n",
    "\n",
    "plt.plot([-2, 4], [-2, 4], 'k-', lw=2)"
   ]
  },
  {
   "cell_type": "code",
   "execution_count": 23,
   "metadata": {
    "collapsed": false
   },
   "outputs": [
    {
     "data": {
      "text/plain": [
       "Parameter containing:\n",
       "\n",
       "Columns 0 to 9 \n",
       "-0.5902 -0.3162 -0.1500  0.2612 -0.4420  0.3481 -0.0676 -0.1398 -0.2678 -0.2226\n",
       " 0.3338 -0.0186 -0.0975  0.1384  0.0877 -0.2143 -0.0435  0.0200 -0.1251 -0.2015\n",
       " 0.1781 -0.0556  0.1291 -0.1071  0.0543  0.0756 -0.1877  0.2896 -0.2813  0.2053\n",
       " 0.0798 -0.0742 -0.0409  0.2357  0.2025  0.0341 -0.0442 -0.3237  0.1017  0.1111\n",
       "-0.1180 -0.0052 -0.2008  0.0092 -0.0534  0.0862  0.1879  0.1023 -0.1128 -0.4074\n",
       "-0.0349  0.1008  0.1666  0.3486 -0.1919 -0.0172  0.0941  0.2665 -0.0770 -0.2025\n",
       "-0.2904 -0.4214  0.0637 -0.2384 -0.2842 -0.1968  0.5246 -0.1079 -0.2040 -0.0066\n",
       " 0.5478  0.2907 -0.2639  0.1021  0.1357 -0.0893  0.0418 -0.3147  0.1703  0.0795\n",
       " 0.2265 -0.1831 -0.1673  0.3164 -0.3356  0.0498  0.1592 -0.1756  0.1372  0.0305\n",
       " 0.2850  0.3683  0.1401  0.0035  0.1447  0.0210  0.1133  0.0374 -0.2912  0.0837\n",
       "-0.4621 -0.1087 -0.0405  0.2255 -0.4730  0.2266  0.1566  0.1317 -0.3800  0.5933\n",
       "-0.3261 -0.1477  0.3837 -0.2274 -0.0167  0.0276  0.3252 -0.0272 -0.2943  0.1006\n",
       "-0.1968  0.1354 -0.1804 -0.1993 -0.1341 -0.1000  0.2603  0.0224 -0.0961 -0.1002\n",
       " 0.4342 -0.2126 -0.0844 -0.2051 -0.3112  0.1811  0.3168  0.1656 -0.7021  0.2723\n",
       "-0.1844 -0.6095  0.0621  0.0616 -0.0030  0.2360 -0.0785  0.0112  0.0704 -0.1855\n",
       "-0.3728 -0.2740 -0.0792  0.2613 -0.1245 -0.0824  0.1639  0.0696  0.1281  0.0118\n",
       "\n",
       "Columns 10 to 19 \n",
       " 0.2900 -0.2833  0.1408 -0.1565  0.0791  0.0635  0.3426 -0.2329  0.1309 -0.1097\n",
       "-0.1412 -0.2023  0.0107 -0.3581 -0.1942 -0.0804 -0.0274 -0.2076  0.2100 -0.1148\n",
       " 0.3989 -0.1368  0.1436 -0.0786  0.1884 -0.1044  0.2936  0.1221 -0.3077 -0.2614\n",
       "-0.4410 -0.3234  0.3712 -0.0669  0.4775 -0.0109 -0.0162  0.1996  0.0702 -0.0232\n",
       "-0.0811  0.3179 -0.4618  0.0491  0.0705 -0.0823  0.0082  0.0814 -0.0736  0.0186\n",
       "-0.2001 -0.0085 -0.3131  0.1867 -0.1229 -0.0427 -0.0014 -0.3169 -0.0004  0.0923\n",
       " 0.0873  0.4822  0.2938  0.2388  0.0141 -0.0821  0.3732  0.0628  0.0256 -0.4610\n",
       "-0.4245 -0.2196 -0.0613 -0.0991  0.2867 -0.0517 -0.0782 -0.1809  0.0308 -0.0641\n",
       " 0.3519 -0.0118  0.2399  0.1778  0.2145 -0.0501  0.0026  0.1887 -0.1400  0.0440\n",
       " 0.0639 -0.1025 -0.0780  0.1541  0.0461 -0.2369 -0.1885  0.2580  0.0777 -0.2566\n",
       "-0.0748  0.0517  0.2397 -0.0402  0.0214  0.0729  0.0243  0.0450  0.3126  0.1229\n",
       " 0.1290  0.0493  0.1252  0.0746 -0.0666 -0.2334  0.1085  0.1409  0.0158 -0.2382\n",
       " 0.0658  0.6656 -0.0373  0.2146  0.2580  0.1200 -0.1446  0.3061  0.0070  0.0198\n",
       " 0.2983  0.6924  0.2220  0.1547 -0.3032 -0.6788  0.6042 -0.0817 -0.0772 -0.1548\n",
       " 0.0426  0.2630 -0.0027 -0.0748 -0.3597  0.0076  0.1233  0.1684 -0.1417  0.2784\n",
       "-0.0199  0.0430 -0.2229  0.0862 -0.0544 -0.2328 -0.2435  0.4182 -0.0023  0.3087\n",
       "\n",
       "Columns 20 to 23 \n",
       "-0.2251 -0.2032 -0.0119 -0.4408\n",
       " 0.0265  0.1593  0.0473 -0.2350\n",
       " 0.0527 -0.0585 -0.1220 -0.3793\n",
       "-0.1909 -0.1272  0.0543 -0.1579\n",
       "-0.2782  0.3764  0.0471 -0.4717\n",
       "-0.2312  0.1074  0.1496  0.0892\n",
       " 0.1439 -0.3701  0.0809 -0.3400\n",
       " 0.2070 -0.0069 -0.0055 -0.4004\n",
       " 0.1411  0.1680 -0.3872 -0.3372\n",
       "-0.1869 -0.1460  0.2356  0.0820\n",
       "-0.1848 -0.4977  0.1169  0.9547\n",
       " 0.4456  0.1540  0.0571 -0.0403\n",
       "-0.0288  0.0204 -0.0418 -0.4172\n",
       " 0.1422 -0.3523  0.1331  0.5579\n",
       "-0.2021  0.1558 -0.4185  0.2812\n",
       "-0.1380  0.0467  0.0987  0.4786\n",
       "[torch.FloatTensor of size 16x24]"
      ]
     },
     "execution_count": 23,
     "metadata": {},
     "output_type": "execute_result"
    }
   ],
   "source": [
    "model[(0)].weight"
   ]
  },
  {
   "cell_type": "code",
   "execution_count": 24,
   "metadata": {
    "collapsed": false
   },
   "outputs": [
    {
     "data": {
      "text/plain": [
       "Parameter containing:\n",
       "\n",
       "Columns 0 to 9 \n",
       " 0.3389 -0.3748 -0.2731 -0.3722 -0.6215  0.3549 -0.4458  0.4220 -0.6955 -0.4183\n",
       "\n",
       "Columns 10 to 15 \n",
       "-0.4693  0.2904  0.4620  0.3019 -0.3373  0.4252\n",
       "[torch.FloatTensor of size 1x16]"
      ]
     },
     "execution_count": 24,
     "metadata": {},
     "output_type": "execute_result"
    }
   ],
   "source": [
    "model[(2)].weight"
   ]
  },
  {
   "cell_type": "markdown",
   "metadata": {},
   "source": [
    "## Round 2: Two-Hidden-Layer Neural Network"
   ]
  },
  {
   "cell_type": "code",
   "execution_count": 25,
   "metadata": {
    "collapsed": true
   },
   "outputs": [],
   "source": [
    "# Make the torch Tensor into a PyTorch Variable for dependent variables\n",
    "outcomes_Variable = Variable(outcomes_Tensor)\n",
    "\n",
    "\n",
    "# ...for independent variables\n",
    "features_Variable = Variable(features_Tensor,\n",
    "                             requires_grad = False)"
   ]
  },
  {
   "cell_type": "code",
   "execution_count": 26,
   "metadata": {
    "collapsed": true
   },
   "outputs": [],
   "source": [
    "# Make the neural network\n",
    "model = torch.nn.Sequential(torch.nn.Linear(24, 16),\n",
    "                            torch.nn.ReLU(),\n",
    "                            torch.nn.Linear(16, 11),\n",
    "                            torch.nn.ReLU(),\n",
    "                            torch.nn.Linear(11, 1))"
   ]
  },
  {
   "cell_type": "code",
   "execution_count": 27,
   "metadata": {
    "collapsed": false
   },
   "outputs": [],
   "source": [
    "# To add errors to\n",
    "errors = []\n",
    "\n",
    "\n",
    "# Set the learning rate\n",
    "learning_rate = 1e-2\n",
    "\n",
    "\n",
    "# Define the model's optimizer\n",
    "optimizer = torch.optim.Adagrad(model.parameters(), lr = learning_rate)\n",
    "\n",
    "\n",
    "# Train the neural network\n",
    "for t in range(10000):\n",
    "    \n",
    "    # Get the current predictions\n",
    "    y_pred = model(features_Variable)\n",
    "    \n",
    "    # Compute and append current summed errors\n",
    "    loss = loss_fn(y_pred, outcomes_Variable)\n",
    "    errors.append(loss.data[0])\n",
    "    \n",
    "    # Zero the gradients before running the backward pass.\n",
    "    optimizer.zero_grad()\n",
    "    \n",
    "    # Backward pass: compute gradient of the loss with respect to all the learnable Variables\n",
    "    loss.backward()\n",
    "    \n",
    "    # Update the weights using Adagrad\n",
    "    optimizer.step()"
   ]
  },
  {
   "cell_type": "code",
   "execution_count": 28,
   "metadata": {
    "collapsed": false
   },
   "outputs": [
    {
     "data": {
      "text/plain": [
       "<matplotlib.collections.PathCollection at 0x7f9ab4487dd8>"
      ]
     },
     "execution_count": 28,
     "metadata": {},
     "output_type": "execute_result"
    },
    {
     "data": {
      "image/png": "[encoded data removed]",
      "text/plain": [
       "<matplotlib.figure.Figure at 0x7f9ab45e42b0>"
      ]
     },
     "metadata": {},
     "output_type": "display_data"
    }
   ],
   "source": [
    "# Plot summed error as a function of iteration\n",
    "plt.scatter(iterations, errors, c = \"black\", alpha = 0.25)"
   ]
  },
  {
   "cell_type": "code",
   "execution_count": 29,
   "metadata": {
    "collapsed": false
   },
   "outputs": [],
   "source": [
    "# Get rid of the 2nd dimension of 1 from the FloatTensor\n",
    "y_pred_resized = y_pred.resize(11959)\n",
    "\n",
    "\n",
    "# Make the FloatTensor into a numpy.array\n",
    "y_pred_array = y_pred_resized.data.numpy()\n",
    "\n",
    "\n",
    "# Make the numpy.array into a list\n",
    "y_pred_list = y_pred_array.tolist()"
   ]
  },
  {
   "cell_type": "code",
   "execution_count": 30,
   "metadata": {
    "collapsed": false
   },
   "outputs": [
    {
     "data": {
      "text/plain": [
       "[<matplotlib.lines.Line2D at 0x7f9ab4627550>]"
      ]
     },
     "execution_count": 30,
     "metadata": {},
     "output_type": "execute_result"
    },
    {
     "data": {
      "image/png": "[encoded data removed]",
      "text/plain": [
       "<matplotlib.figure.Figure at 0x7f9ab5756898>"
      ]
     },
     "metadata": {},
     "output_type": "display_data"
    }
   ],
   "source": [
    "# Plot predictions versus training set outcomes\n",
    "plt.scatter(outcomes_list, y_pred_list, c = \"black\", alpha = 0.15)\n",
    "\n",
    "axes = plt.gca()\n",
    "\n",
    "axes.set_xlim([-2, 4])\n",
    "\n",
    "axes.set_ylim([-2, 4])\n",
    "\n",
    "plt.plot([-2, 4], [-2, 4], 'k-', lw=2)"
   ]
  },
  {
   "cell_type": "markdown",
   "metadata": {},
   "source": [
    "### Round 2.1: Validation Set Performance"
   ]
  },
  {
   "cell_type": "code",
   "execution_count": 31,
   "metadata": {
    "collapsed": false
   },
   "outputs": [
    {
     "data": {
      "text/plain": [
       "Variable containing:\n",
       " 3178.8140\n",
       "[torch.FloatTensor of size 1]"
      ]
     },
     "execution_count": 31,
     "metadata": {},
     "output_type": "execute_result"
    }
   ],
   "source": [
    "# Get the validation set predictions\n",
    "y_valid_pred = model(valid_predictors_Variable)\n",
    "\n",
    "\n",
    "# Print the loss\n",
    "loss_fn(y_valid_pred,\n",
    "        valid_outcomes_Variable)"
   ]
  },
  {
   "cell_type": "code",
   "execution_count": 32,
   "metadata": {
    "collapsed": false
   },
   "outputs": [],
   "source": [
    "# Get rid of the 2nd dimension of 1 from the FloatTensor\n",
    "y_valid_pred_resized = y_valid_pred.resize(3987)\n",
    "\n",
    "\n",
    "# Make the FloatTensor into a numpy.array\n",
    "y_valid_pred_array = y_valid_pred_resized.data.numpy()\n",
    "\n",
    "\n",
    "# Make the numpy.array into a list\n",
    "y_valid_pred_list = y_valid_pred_array.tolist()"
   ]
  },
  {
   "cell_type": "code",
   "execution_count": 33,
   "metadata": {
    "collapsed": false
   },
   "outputs": [
    {
     "data": {
      "text/plain": [
       "[<matplotlib.lines.Line2D at 0x7f9ab5729b38>]"
      ]
     },
     "execution_count": 33,
     "metadata": {},
     "output_type": "execute_result"
    },
    {
     "data": {
      "image/png": "[encoded data removed]",
      "text/plain": [
       "<matplotlib.figure.Figure at 0x7f9ab5729a58>"
      ]
     },
     "metadata": {},
     "output_type": "display_data"
    }
   ],
   "source": [
    "# Plot new predictions versus new data outcomes\n",
    "plt.scatter(valid_outcomes_list, y_valid_pred_list, c = \"black\", alpha = 0.15)\n",
    "\n",
    "axes = plt.gca()\n",
    "\n",
    "axes.set_xlim([-2, 4])\n",
    "\n",
    "axes.set_ylim([-2, 4])\n",
    "\n",
    "plt.plot([-2, 4], [-2, 4], 'k-', lw=2)"
   ]
  },
  {
   "cell_type": "code",
   "execution_count": 34,
   "metadata": {
    "collapsed": false
   },
   "outputs": [
    {
     "data": {
      "text/plain": [
       "Parameter containing:\n",
       "\n",
       "Columns 0 to 9 \n",
       " 0.2899  0.0522  0.1339  0.0628 -0.1954 -0.1887  0.0873 -0.1560  0.4407 -0.0798\n",
       "-0.1542  0.0775 -0.0166  0.2012 -0.0181 -0.0251  0.0038  0.0875 -0.1765  0.2525\n",
       " 0.3463  0.0311  0.1699  0.3396  0.1466 -0.0721  0.0286 -0.0031  0.0605  0.0192\n",
       "-0.1374 -0.0172 -0.2725 -0.1544  0.1990 -0.3804  0.2141 -0.1114 -0.2558  0.0758\n",
       " 0.0629  0.4630 -0.1453  0.0925  0.2066  0.1744 -0.0379  0.1756 -0.3093  0.2037\n",
       "-0.0127 -0.3471 -0.0457 -0.0509 -0.1183  0.0547 -0.0019  0.0711 -0.1342 -0.0349\n",
       " 0.0857  0.0899  0.0843  0.0713  0.0016  0.1485 -0.1301 -0.0411 -0.1926 -0.0476\n",
       "-0.3810  0.4022 -0.0373 -0.3669  0.4451  0.1872 -0.0014 -0.0291 -0.1089 -0.1218\n",
       "-0.2861  0.0624 -0.0633 -0.2828  0.5134  0.2661  0.0182 -0.2406  0.1275  0.2122\n",
       "-0.1087  0.0413 -0.0460 -0.3267  0.1490  0.4370 -0.1847  0.0310 -0.3368  0.4047\n",
       " 0.3845 -0.2194 -0.0309 -0.0345  0.1857 -0.0006 -0.0913 -0.0974  0.1876 -0.2026\n",
       " 0.3557 -0.2149 -0.1494  0.1221 -0.0768  0.3152 -0.2950  0.0536  0.0664 -0.4082\n",
       " 0.2160  0.0061 -0.2481 -0.1232 -0.0270 -0.3333  0.2718  0.0708  0.1443  0.0719\n",
       "-0.4216  0.3502 -0.0715 -0.0081 -0.4232  0.2668 -0.0573 -0.0547 -0.1874  0.3405\n",
       "-0.2515 -0.0701  0.1173 -0.1366  0.0350  0.1540 -0.0881 -0.0202 -0.2979  0.2635\n",
       "-0.0850 -0.1766 -0.1419  0.0728 -0.2169 -0.1433  0.3053  0.1063 -0.2830  0.0259\n",
       "\n",
       "Columns 10 to 19 \n",
       "-0.0347 -0.1900  0.2448 -0.0382  0.6565 -0.2087  0.1628  0.1053 -0.1899  0.0185\n",
       "-0.1426  0.0622 -0.2602  0.0868  0.3713 -0.0511 -0.2156  0.2810  0.2129  0.1854\n",
       "-0.2493  0.4049  0.0584  0.1519 -0.1789 -0.1272 -0.1634  0.2469 -0.2147  0.1506\n",
       " 0.2287 -0.2449  0.0241 -0.0972 -0.0145 -0.1793 -0.2913  0.3190  0.1993  0.0916\n",
       "-0.3387 -0.1307 -0.3176 -0.4746  0.1803 -0.1190 -0.0776  0.4753  0.1186  0.1594\n",
       " 0.1698  0.2672  0.1641  0.0744  0.0751 -0.1789  0.1374 -0.0180  0.1775 -0.3804\n",
       " 0.1092 -0.0078  0.1440  0.1179  0.1531  0.0397  0.0427 -0.6106  0.2030 -0.0071\n",
       " 0.2449  0.0531  0.1922 -0.2582  0.3067  0.1934  0.0994  0.0452 -0.1206  0.1544\n",
       "-0.0431  0.0367  0.3778  0.1756  0.1269 -0.0334  0.2703 -0.1013  0.4647 -0.0716\n",
       "-0.3099 -0.0985 -0.1381 -0.4375  0.0574 -0.0769 -0.0047  0.1594  0.1526  0.2281\n",
       " 0.2817 -0.1411 -0.1896 -0.1048 -0.0160 -0.0091 -0.0330  0.1938 -0.3346  0.1022\n",
       " 0.2921  0.3921 -0.2273 -0.0449 -0.3636  0.1367  0.1035 -0.2601 -0.2724  0.2851\n",
       "-0.1472 -0.3290 -0.1493 -0.3060  0.1771  0.1128 -0.1670  0.3598 -0.3810 -0.0722\n",
       "-0.0512 -0.4286  0.1018  0.3707 -0.3876 -0.2347  0.3204 -0.2378  0.2587 -0.0494\n",
       " 0.0224 -0.0520  0.2072 -0.1968  0.1077  0.1553 -0.0639  0.0157  0.0401  0.1523\n",
       "-0.3029 -0.0293  0.0656 -0.0491 -0.0730  0.1354 -0.0815  0.2835 -0.3307 -0.0194\n",
       "\n",
       "Columns 20 to 23 \n",
       "-0.2058 -0.3180 -0.1555 -0.0986\n",
       "-0.2464  0.5998 -0.1310 -0.1520\n",
       " 0.4611  0.3852 -0.0839  0.1701\n",
       "-0.1539 -0.2692  0.0221 -0.1350\n",
       " 0.0612  0.4865 -0.0013  0.0058\n",
       " 0.0384  0.1190 -0.3745 -0.1226\n",
       "-0.1063 -0.0514  0.1807 -0.0074\n",
       " 0.0064  0.2947 -0.3591  0.1187\n",
       "-0.0781 -0.2824 -0.1958 -0.1493\n",
       " 0.3557  0.0667  0.1277  0.1343\n",
       " 0.0541  0.0616  0.1109 -0.6256\n",
       "-0.3553 -0.1633  0.0804 -0.3575\n",
       "-0.0283  0.1396 -0.1671 -0.0003\n",
       " 0.6562 -0.1679  0.2271  0.5040\n",
       " 0.0171 -0.1438 -0.0569  0.5735\n",
       "-0.2711  0.3536 -0.0530  0.1854\n",
       "[torch.FloatTensor of size 16x24]"
      ]
     },
     "execution_count": 34,
     "metadata": {},
     "output_type": "execute_result"
    }
   ],
   "source": [
    "model[(0)].weight"
   ]
  },
  {
   "cell_type": "code",
   "execution_count": 35,
   "metadata": {
    "collapsed": false
   },
   "outputs": [
    {
     "data": {
      "text/plain": [
       "Parameter containing:\n",
       "\n",
       "Columns 0 to 9 \n",
       "-0.2396  0.6007  0.3150 -0.1374  0.2312 -1.3006 -0.3893 -0.1659  0.0033  0.2318\n",
       "-0.0311 -0.1747  0.0280 -0.7015  0.4167 -0.1718  0.1935 -0.1410  0.6318 -0.2986\n",
       " 0.1193  0.1705  0.1071 -0.2782  0.3125  0.0637 -0.7544 -0.0690  0.5393 -0.0295\n",
       " 0.4050 -0.0591  0.1592  0.2136 -0.0638 -0.7082  0.1033  0.0219  0.4014  0.0641\n",
       " 0.0670 -1.0646 -1.1680  0.0064  0.5600  0.3464 -0.7283  0.6592 -0.2617  0.1122\n",
       " 0.2781 -0.0190  0.2036  0.2757  0.4233 -0.0107  0.0755 -0.0454 -0.4945 -0.7895\n",
       "-0.1894 -0.1943 -0.2517 -0.0671  0.4783  0.4227 -0.6045 -0.3696  0.1146 -0.4387\n",
       " 0.2539 -0.4187 -0.0865 -0.0444  0.2252  0.0684  0.2171 -1.4614  0.3660 -0.1739\n",
       " 0.1391  0.1298 -0.1556  0.2617  0.3745 -0.1219 -0.4055 -0.5805  0.2044  0.0283\n",
       "-0.0969 -0.1249 -0.0898  0.1351  0.2441 -0.1835 -0.1452 -0.5219  0.2877 -0.2723\n",
       " 0.2733 -0.1771  0.1224 -0.0084  0.1050 -0.2423  0.4055  0.4848  0.1547 -0.1619\n",
       "\n",
       "Columns 10 to 15 \n",
       " 0.5860 -0.2820  0.1341  0.1762 -0.1253 -0.3521\n",
       "-0.5677  0.7365 -0.4023 -0.1621  0.2562  0.0829\n",
       " 0.6118 -0.1574 -0.6803  0.2403 -0.1078  0.6057\n",
       "-0.3399  0.5373  0.5038  0.0174 -0.4186 -0.4766\n",
       " 0.0072  0.5570 -0.3021 -0.6148 -0.4406  0.2779\n",
       " 0.0367 -0.1178  0.0524  0.4656 -0.0659 -0.1704\n",
       "-0.5368  0.3158 -0.3152  0.1053 -0.2932  0.6633\n",
       " 0.1216 -0.9680 -0.3820 -1.3161  0.0556  0.3040\n",
       "-0.0545  0.3634  0.2049 -0.3088  0.1472  0.2929\n",
       " 0.1626  0.1996  0.3534  0.2128  0.1133  0.1785\n",
       " 0.0429  0.2629 -0.1868  0.1749 -0.2466  0.3429\n",
       "[torch.FloatTensor of size 11x16]"
      ]
     },
     "execution_count": 35,
     "metadata": {},
     "output_type": "execute_result"
    }
   ],
   "source": [
    "model[(2)].weight"
   ]
  },
  {
   "cell_type": "code",
   "execution_count": 36,
   "metadata": {
    "collapsed": false
   },
   "outputs": [
    {
     "data": {
      "text/plain": [
       "Parameter containing:\n",
       "\n",
       "Columns 0 to 9 \n",
       " 0.8901 -0.9511 -0.9089  0.9986 -0.7673 -0.5146  0.6924 -0.7505 -0.4196 -0.4655\n",
       "\n",
       "Columns 10 to 10 \n",
       " 0.5263\n",
       "[torch.FloatTensor of size 1x11]"
      ]
     },
     "execution_count": 36,
     "metadata": {},
     "output_type": "execute_result"
    }
   ],
   "source": [
    "model[(4)].weight"
   ]
  },
  {
   "cell_type": "markdown",
   "metadata": {},
   "source": [
    "## Round 3: Three-Hidden-Layer Neural Network"
   ]
  },
  {
   "cell_type": "code",
   "execution_count": 37,
   "metadata": {
    "collapsed": true
   },
   "outputs": [],
   "source": [
    "# Make the torch Tensor into a PyTorch Variable for dependent variables\n",
    "outcomes_Variable = Variable(outcomes_Tensor)\n",
    "\n",
    "\n",
    "# ...for independent variables\n",
    "features_Variable = Variable(features_Tensor,\n",
    "                             requires_grad = False)"
   ]
  },
  {
   "cell_type": "code",
   "execution_count": 38,
   "metadata": {
    "collapsed": false
   },
   "outputs": [],
   "source": [
    "# Make the neural network\n",
    "model = torch.nn.Sequential(torch.nn.Linear(24, 16),\n",
    "                            torch.nn.ReLU(),\n",
    "                            torch.nn.Linear(16, 11),\n",
    "                            torch.nn.ReLU(),\n",
    "                            torch.nn.Linear(11, 7),\n",
    "                            torch.nn.ReLU(),\n",
    "                            torch.nn.Linear(7, 1))"
   ]
  },
  {
   "cell_type": "code",
   "execution_count": 39,
   "metadata": {
    "collapsed": false
   },
   "outputs": [],
   "source": [
    "# To add errors to\n",
    "errors = []\n",
    "\n",
    "\n",
    "# Set the learning rate\n",
    "learning_rate = 1e-2\n",
    "\n",
    "\n",
    "# Define the model's optimizer\n",
    "optimizer = torch.optim.Adagrad(model.parameters(), lr = learning_rate)\n",
    "\n",
    "\n",
    "# Train the neural network\n",
    "for t in range(10000):\n",
    "    \n",
    "    # Get the current predictions\n",
    "    y_pred = model(features_Variable)\n",
    "    \n",
    "    # Compute and append current summed errors\n",
    "    loss = loss_fn(y_pred, outcomes_Variable)\n",
    "    errors.append(loss.data[0])\n",
    "    \n",
    "    # Zero the gradients before running the backward pass.\n",
    "    optimizer.zero_grad()\n",
    "    \n",
    "    # Backward pass: compute gradient of the loss with respect to all the learnable Variables\n",
    "    loss.backward()\n",
    "    \n",
    "    # Update the weights using Adagrad\n",
    "    optimizer.step()"
   ]
  },
  {
   "cell_type": "code",
   "execution_count": 40,
   "metadata": {
    "collapsed": false
   },
   "outputs": [
    {
     "data": {
      "text/plain": [
       "<matplotlib.collections.PathCollection at 0x7f9ab43339e8>"
      ]
     },
     "execution_count": 40,
     "metadata": {},
     "output_type": "execute_result"
    },
    {
     "data": {
      "image/png": "[encoded data removed]",
      "text/plain": [
       "<matplotlib.figure.Figure at 0x7f9ab435d710>"
      ]
     },
     "metadata": {},
     "output_type": "display_data"
    }
   ],
   "source": [
    "# Plot summed error as a function of iteration\n",
    "plt.scatter(iterations, errors, c = \"black\", alpha = 0.25)"
   ]
  },
  {
   "cell_type": "code",
   "execution_count": 41,
   "metadata": {
    "collapsed": true
   },
   "outputs": [],
   "source": [
    "# Get rid of the 2nd dimension of 1 from the FloatTensor\n",
    "y_pred_resized = y_pred.resize(11959)\n",
    "\n",
    "\n",
    "# Make the FloatTensor into a numpy.array\n",
    "y_pred_array = y_pred_resized.data.numpy()\n",
    "\n",
    "\n",
    "# Make the numpy.array into a list\n",
    "y_pred_list = y_pred_array.tolist()"
   ]
  },
  {
   "cell_type": "code",
   "execution_count": 42,
   "metadata": {
    "collapsed": false
   },
   "outputs": [
    {
     "data": {
      "text/plain": [
       "[<matplotlib.lines.Line2D at 0x7f9ab5862f98>]"
      ]
     },
     "execution_count": 42,
     "metadata": {},
     "output_type": "execute_result"
    },
    {
     "data": {
      "image/png": "[encoded data removed]",
      "text/plain": [
       "<matplotlib.figure.Figure at 0x7f9ab58620f0>"
      ]
     },
     "metadata": {},
     "output_type": "display_data"
    }
   ],
   "source": [
    "# Plot predictions versus training set outcomes\n",
    "plt.scatter(outcomes_list, y_pred_list, c = \"black\", alpha = 0.15)\n",
    "\n",
    "axes = plt.gca()\n",
    "\n",
    "axes.set_xlim([-2, 4])\n",
    "\n",
    "axes.set_ylim([-2, 4])\n",
    "\n",
    "plt.plot([-2, 4], [-2, 4], 'k-', lw=2)"
   ]
  },
  {
   "cell_type": "markdown",
   "metadata": {},
   "source": [
    "### Round 3.1: Validation Set Performance"
   ]
  },
  {
   "cell_type": "code",
   "execution_count": 43,
   "metadata": {
    "collapsed": false
   },
   "outputs": [
    {
     "data": {
      "text/plain": [
       "Variable containing:\n",
       " 3130.8745\n",
       "[torch.FloatTensor of size 1]"
      ]
     },
     "execution_count": 43,
     "metadata": {},
     "output_type": "execute_result"
    }
   ],
   "source": [
    "# Get the validation set predictions\n",
    "y_valid_pred = model(valid_predictors_Variable)\n",
    "\n",
    "\n",
    "# Print the loss\n",
    "loss_fn(y_valid_pred,\n",
    "        valid_outcomes_Variable)"
   ]
  },
  {
   "cell_type": "code",
   "execution_count": 44,
   "metadata": {
    "collapsed": false
   },
   "outputs": [],
   "source": [
    "# Get rid of the 2nd dimension of 1 from the FloatTensor\n",
    "y_valid_pred_resized = y_valid_pred.resize(3987)\n",
    "\n",
    "\n",
    "# Make the FloatTensor into a numpy.array\n",
    "y_valid_pred_array = y_valid_pred_resized.data.numpy()\n",
    "\n",
    "\n",
    "# Make the numpy.array into a list\n",
    "y_valid_pred_list = y_valid_pred_array.tolist()"
   ]
  },
  {
   "cell_type": "code",
   "execution_count": 45,
   "metadata": {
    "collapsed": false
   },
   "outputs": [
    {
     "data": {
      "text/plain": [
       "[<matplotlib.lines.Line2D at 0x7f9ab426a898>]"
      ]
     },
     "execution_count": 45,
     "metadata": {},
     "output_type": "execute_result"
    },
    {
     "data": {
      "image/png": "[encoded data removed]",
      "text/plain": [
       "<matplotlib.figure.Figure at 0x7f9ab426a978>"
      ]
     },
     "metadata": {},
     "output_type": "display_data"
    }
   ],
   "source": [
    "# Plot new predictions versus new data outcomes\n",
    "plt.scatter(valid_outcomes_list, y_valid_pred_list, c = \"black\", alpha = 0.15)\n",
    "\n",
    "axes = plt.gca()\n",
    "\n",
    "axes.set_xlim([-2, 4])\n",
    "\n",
    "axes.set_ylim([-2, 4])\n",
    "\n",
    "plt.plot([-2, 4], [-2, 4], 'k-', lw=2)"
   ]
  },
  {
   "cell_type": "code",
   "execution_count": 46,
   "metadata": {
    "collapsed": false
   },
   "outputs": [
    {
     "data": {
      "text/plain": [
       "Parameter containing:\n",
       "\n",
       "Columns 0 to 9 \n",
       " 0.0312 -0.1844 -0.0155  0.3349 -0.0633  0.2126 -0.1213  0.1000  0.0615  0.1765\n",
       " 0.1009  0.4920 -0.0882 -0.0553  0.5780  0.1646 -0.1234  0.2657  0.1097 -0.1572\n",
       "-0.3298  0.7561 -0.0576 -0.2878  0.2728 -0.0398  0.2496  0.1080 -0.0557 -0.0369\n",
       " 0.0619 -0.1674  0.0537  0.5033  0.0538 -0.0447  0.1691 -0.2222  0.4469 -0.1880\n",
       " 0.1795  0.3137 -0.1130  0.0483  0.3163  0.1075 -0.1700  0.1350  0.3525 -0.1114\n",
       " 0.0050 -0.1826 -0.1059  0.0168 -0.0838  0.1894  0.0222  0.1215 -0.1622 -0.0356\n",
       " 0.1126 -0.5675 -0.1839 -0.0793 -0.0181 -0.0208 -0.1031  0.0996  0.0311  0.0857\n",
       "-0.0060  0.2477  0.2112  0.2938  0.0300  0.2401 -0.0687 -0.0258  0.0642  0.1039\n",
       " 0.2497 -0.0275 -0.1448 -0.0138  0.0815 -0.1322  0.0454 -0.0859  0.1215  0.0777\n",
       " 0.1465  0.1346  0.1206 -0.3770  0.4048  0.0967 -0.0282 -0.0171 -0.0035 -0.2646\n",
       " 0.3493  0.2633  0.0175  0.2654 -0.1640 -0.1515  0.3552 -0.3291  0.1806  0.1335\n",
       " 0.3135  0.0171 -0.2740 -0.1869 -0.0272 -0.0822  0.1192  0.0796  0.1013 -0.1626\n",
       " 0.0989  0.2742  0.1396  0.2413 -0.1524  0.1757 -0.2006  0.1022 -0.2626  0.0553\n",
       "-0.2043 -0.0308  0.1695  0.5965 -0.2148  0.0171 -0.0605  0.0391  0.2209 -0.0710\n",
       "-0.1727 -0.1832 -0.1867 -0.1546  0.0614  0.1528  0.1786 -0.1283  0.2211  0.3487\n",
       "-0.3648  0.1379  0.0419 -0.3801  0.0067 -0.6371  0.1491  0.1039 -0.2251 -0.2252\n",
       "\n",
       "Columns 10 to 19 \n",
       "-0.2231 -0.0077 -0.2190  0.2854 -0.0327 -0.3150  0.0511 -0.0573  0.0278 -0.0753\n",
       " 0.2382 -0.2083 -0.2909 -0.0292 -0.2576 -0.4074  0.0752  0.3438 -0.1241  0.0587\n",
       " 0.1903 -0.1138  0.1461  0.1552 -0.1701 -0.0093 -0.0477  0.2986 -0.1521  0.1196\n",
       " 0.3597 -0.0065 -0.1028  0.2722 -0.1181 -0.0196 -0.0622  0.1049 -0.2143 -0.1463\n",
       " 0.1795  0.0243 -0.1854  0.0332 -0.2145 -0.4729  0.0424  0.2976 -0.1476  0.1186\n",
       " 0.1722 -0.0423 -0.0501  0.0766  0.0692  0.3093 -0.0150  0.1997 -0.1170 -0.2651\n",
       "-0.2110  0.1110  0.2772  0.0048 -0.1740  0.3159 -0.0699 -0.0575 -0.0423 -0.2414\n",
       " 0.0726 -0.1021 -0.1288  0.2331 -0.2330  0.1771 -0.2714 -0.0222 -0.0097 -0.1464\n",
       "-0.0880  0.0022  0.5797 -0.1254  0.0709  0.1355 -0.0218 -0.2636  0.0172 -0.1823\n",
       " 0.5590 -0.3218  0.0196 -0.0614  0.0917 -0.1458  0.4023 -0.3724  0.0791 -0.1279\n",
       "-0.1654 -0.3464  0.2061 -0.0886  0.3668 -0.5067  0.1491  0.0641  0.0595  0.0201\n",
       " 0.0081  0.1308 -0.1724  0.1367  0.1295  0.2765 -0.0549  0.0147 -0.1868 -0.0041\n",
       " 0.0427  0.0819  0.2101 -0.0214 -0.1450  0.1745  0.0819 -0.2894 -0.5100  0.3665\n",
       " 0.0260 -0.1042 -0.1405  0.2030  0.0316  0.1469  0.0228 -0.1761 -0.0025  0.0346\n",
       " 0.2000 -0.0617 -0.1565 -0.0992  0.1949  0.2337 -0.1866 -0.0141  0.1881 -0.0357\n",
       "-0.1805 -0.1827 -0.1009 -0.1405  0.3399 -0.1143  0.0862  0.2077 -0.3955  0.4536\n",
       "\n",
       "Columns 20 to 23 \n",
       "-0.1114 -0.0671  0.1476 -0.0620\n",
       "-0.1691  0.0877  0.4430 -0.0746\n",
       "-0.0258  0.0282  0.0387 -0.1857\n",
       "-0.2927 -0.0221 -0.1689 -0.4574\n",
       " 0.5362  0.4332 -0.0421 -0.0615\n",
       "-0.3132 -0.3763 -0.1399 -0.0410\n",
       "-0.3232  0.0389 -0.1231  0.1028\n",
       "-0.0195  0.3646 -0.2914  0.4191\n",
       "-0.0193 -0.0415  0.0110  0.0215\n",
       " 0.4857 -0.1918  0.1361  0.1361\n",
       " 0.0576  0.0601  0.0022  0.0705\n",
       "-0.1488 -0.1525 -0.2548 -0.0098\n",
       " 0.2823  0.2136 -0.0561 -0.4789\n",
       "-0.5521 -0.1483  0.0024 -0.2180\n",
       "-0.2177  0.4042 -0.1111  0.3260\n",
       "-0.0196  0.1827 -0.1065 -0.1390\n",
       "[torch.FloatTensor of size 16x24]"
      ]
     },
     "execution_count": 46,
     "metadata": {},
     "output_type": "execute_result"
    }
   ],
   "source": [
    "model[(0)].weight"
   ]
  },
  {
   "cell_type": "code",
   "execution_count": 47,
   "metadata": {
    "collapsed": false
   },
   "outputs": [
    {
     "data": {
      "text/plain": [
       "Parameter containing:\n",
       "\n",
       "Columns 0 to 9 \n",
       " 0.0544  0.0020  0.2350  0.2818  0.2306 -0.9170  0.2100  0.3243 -0.0135  0.2255\n",
       "-0.1218 -0.1909  0.0950  0.0101  0.5833 -0.0860 -0.7280  0.0099  0.3457  0.3128\n",
       "-0.1964  0.2260  0.3074  0.1247 -0.0118  0.1780 -0.0429 -0.5789 -0.4791 -0.7291\n",
       " 0.2200  0.0932  0.3198  0.4198 -0.1879  0.1926  0.1379  0.2037 -0.0428 -0.0397\n",
       "-0.3722  0.5291 -0.1578  0.5318 -0.1242 -0.1178  0.2046 -0.5271 -0.1454  0.0446\n",
       "-0.0381 -0.2212  0.6396 -0.1555  0.4239 -0.1372 -0.1106  0.1192  0.2257 -0.2774\n",
       "-0.8272  0.6531 -0.2990  0.1471 -0.0673  0.2824  0.2120  0.1011  0.0825  0.4507\n",
       "-0.1966 -0.0971  0.3595 -0.3539  0.0931 -0.0723 -0.1734 -0.2996  0.2232 -0.3037\n",
       "-0.4460  0.2010 -0.0365 -1.1757 -0.0845 -0.1785 -0.1803  0.2919 -0.6684  0.1712\n",
       "-0.1598  0.1994 -0.0979  0.1367  0.0750  0.2107 -0.0306 -0.3291 -0.2635 -0.6387\n",
       "-0.0772 -0.2118  0.2557  0.1296 -0.1195  0.4548  0.0321 -0.0500  0.3077  0.3542\n",
       "\n",
       "Columns 10 to 15 \n",
       " 0.0786 -0.0259  0.2335  0.0990  0.0445 -0.2379\n",
       "-0.0087  0.4486 -0.4257  0.3570  0.2912  0.3595\n",
       " 0.3556  0.1429  0.0501 -0.1164 -0.1808  0.1264\n",
       "-0.1815 -0.1145  0.1882  0.1109  0.5220  0.5268\n",
       " 0.4600  0.0170 -0.0336  0.0184 -0.3799  0.4217\n",
       " 0.4338  0.1534 -0.0767  0.4727  0.2675 -0.2863\n",
       " 0.0963 -0.2293 -0.7498  0.0898 -1.0422 -0.5622\n",
       "-0.0051  0.3042  0.3974  0.1586  0.0449 -0.0532\n",
       " 0.4275 -0.6796 -0.0039  0.1591 -0.3000  0.2154\n",
       " 0.2912 -0.3691 -0.0427 -0.0550 -0.0042  0.1865\n",
       "-0.0221  0.0175 -0.3098  0.3554 -0.0033  0.1581\n",
       "[torch.FloatTensor of size 11x16]"
      ]
     },
     "execution_count": 47,
     "metadata": {},
     "output_type": "execute_result"
    }
   ],
   "source": [
    "model[(2)].weight"
   ]
  },
  {
   "cell_type": "code",
   "execution_count": 48,
   "metadata": {
    "collapsed": false
   },
   "outputs": [
    {
     "data": {
      "text/plain": [
       "Parameter containing:\n",
       "\n",
       "Columns 0 to 9 \n",
       "-0.2700 -0.5859  0.2977  0.1837  0.4162 -0.4090  0.6563  0.0211 -0.8774  0.3096\n",
       " 0.4816  0.4261 -0.2673 -0.7072 -0.0782  0.2624 -0.8480 -0.0959  0.5082 -0.1017\n",
       " 0.2279  0.3364 -0.3107 -0.1530 -0.2370  0.2408 -0.3389  0.4153  0.4672 -0.1431\n",
       " 0.1982 -0.8058  0.2597 -0.1288  0.3820 -0.4543  0.6908  0.3168 -1.3485  0.1640\n",
       " 0.3980  0.7414 -0.4835 -0.5031 -0.3173  0.3885 -0.7048  0.4825 -0.0051  0.2142\n",
       " 0.3335 -0.0443 -0.1104  0.3123 -0.7263 -0.0248  0.0909  0.1512 -0.8411  0.5068\n",
       " 0.3531  0.6780 -0.0629 -0.1554 -0.6482  0.6568 -0.8242  0.0500  0.4223 -0.4285\n",
       "\n",
       "Columns 10 to 10 \n",
       "-0.1457\n",
       " 0.4195\n",
       " 0.2240\n",
       "-0.3005\n",
       " 0.3523\n",
       " 0.1512\n",
       " 0.3059\n",
       "[torch.FloatTensor of size 7x11]"
      ]
     },
     "execution_count": 48,
     "metadata": {},
     "output_type": "execute_result"
    }
   ],
   "source": [
    "model[(4)].weight"
   ]
  },
  {
   "cell_type": "code",
   "execution_count": 49,
   "metadata": {
    "collapsed": false
   },
   "outputs": [
    {
     "data": {
      "text/plain": [
       "Parameter containing:\n",
       "-0.5691  0.7677  0.4047 -0.4481  0.8201  1.4894 -1.2443\n",
       "[torch.FloatTensor of size 1x7]"
      ]
     },
     "execution_count": 49,
     "metadata": {},
     "output_type": "execute_result"
    }
   ],
   "source": [
    "model[(6)].weight"
   ]
  },
  {
   "cell_type": "markdown",
   "metadata": {},
   "source": [
    "## Round 4: Four-Hidden-Layer Neural Network"
   ]
  },
  {
   "cell_type": "code",
   "execution_count": 50,
   "metadata": {
    "collapsed": true
   },
   "outputs": [],
   "source": [
    "# Make the torch Tensor into a PyTorch Variable for dependent variables\n",
    "outcomes_Variable = Variable(outcomes_Tensor)\n",
    "\n",
    "\n",
    "# ...for independent variables\n",
    "features_Variable = Variable(features_Tensor,\n",
    "                             requires_grad = False)"
   ]
  },
  {
   "cell_type": "code",
   "execution_count": 51,
   "metadata": {
    "collapsed": true
   },
   "outputs": [],
   "source": [
    "# Make the neural network\n",
    "model = torch.nn.Sequential(torch.nn.Linear(24, 16),\n",
    "                            torch.nn.ReLU(),\n",
    "                            torch.nn.Linear(16, 11),\n",
    "                            torch.nn.ReLU(),\n",
    "                            torch.nn.Linear(11, 7),\n",
    "                            torch.nn.ReLU(),\n",
    "                            torch.nn.Linear(7, 5),\n",
    "                            torch.nn.ReLU(),\n",
    "                            torch.nn.Linear(5, 1))"
   ]
  },
  {
   "cell_type": "code",
   "execution_count": 52,
   "metadata": {
    "collapsed": true
   },
   "outputs": [],
   "source": [
    "# To add errors to\n",
    "errors = []\n",
    "\n",
    "\n",
    "# Set the learning rate\n",
    "learning_rate = 1e-2\n",
    "\n",
    "\n",
    "# Define the model's optimizer\n",
    "optimizer = torch.optim.Adagrad(model.parameters(), lr = learning_rate)\n",
    "\n",
    "\n",
    "# Train the neural network\n",
    "for t in range(10000):\n",
    "    \n",
    "    # Get the current predictions\n",
    "    y_pred = model(features_Variable)\n",
    "    \n",
    "    # Compute and append current summed errors\n",
    "    loss = loss_fn(y_pred, outcomes_Variable)\n",
    "    errors.append(loss.data[0])\n",
    "    \n",
    "    # Zero the gradients before running the backward pass.\n",
    "    optimizer.zero_grad()\n",
    "    \n",
    "    # Backward pass: compute gradient of the loss with respect to all the learnable Variables\n",
    "    loss.backward()\n",
    "    \n",
    "    # Update the weights using Adagrad\n",
    "    optimizer.step()"
   ]
  },
  {
   "cell_type": "code",
   "execution_count": 53,
   "metadata": {
    "collapsed": false
   },
   "outputs": [
    {
     "data": {
      "text/plain": [
       "<matplotlib.collections.PathCollection at 0x7f9ab155d6a0>"
      ]
     },
     "execution_count": 53,
     "metadata": {},
     "output_type": "execute_result"
    },
    {
     "data": {
      "image/png": "[encoded data removed]",
      "text/plain": [
       "<matplotlib.figure.Figure at 0x7f9ab42011d0>"
      ]
     },
     "metadata": {},
     "output_type": "display_data"
    }
   ],
   "source": [
    "# Plot summed error as a function of iteration\n",
    "plt.scatter(iterations, errors, c = \"black\", alpha = 0.25)"
   ]
  },
  {
   "cell_type": "code",
   "execution_count": 54,
   "metadata": {
    "collapsed": false
   },
   "outputs": [],
   "source": [
    "# Get rid of the 2nd dimension of 1 from the FloatTensor\n",
    "y_pred_resized = y_pred.resize(11959)\n",
    "\n",
    "\n",
    "# Make the FloatTensor into a numpy.array\n",
    "y_pred_array = y_pred_resized.data.numpy()\n",
    "\n",
    "\n",
    "# Make the numpy.array into a list\n",
    "y_pred_list = y_pred_array.tolist()"
   ]
  },
  {
   "cell_type": "code",
   "execution_count": 55,
   "metadata": {
    "collapsed": false
   },
   "outputs": [
    {
     "data": {
      "text/plain": [
       "[<matplotlib.lines.Line2D at 0x7f9ab5847080>]"
      ]
     },
     "execution_count": 55,
     "metadata": {},
     "output_type": "execute_result"
    },
    {
     "data": {
      "image/png": "[encoded data removed]",
      "text/plain": [
       "<matplotlib.figure.Figure at 0x7f9ab58470f0>"
      ]
     },
     "metadata": {},
     "output_type": "display_data"
    }
   ],
   "source": [
    "# Plot predictions versus training set outcomes\n",
    "plt.scatter(outcomes_list, y_pred_list, c = \"black\", alpha = 0.15)\n",
    "\n",
    "axes = plt.gca()\n",
    "\n",
    "axes.set_xlim([-2, 4])\n",
    "\n",
    "axes.set_ylim([-2, 4])\n",
    "\n",
    "plt.plot([-2, 4], [-2, 4], 'k-', lw=2)"
   ]
  },
  {
   "cell_type": "markdown",
   "metadata": {},
   "source": [
    "### Round 4.1: Validation Set Performance"
   ]
  },
  {
   "cell_type": "code",
   "execution_count": 56,
   "metadata": {
    "collapsed": false
   },
   "outputs": [
    {
     "data": {
      "text/plain": [
       "Variable containing:\n",
       " 3188.9453\n",
       "[torch.FloatTensor of size 1]"
      ]
     },
     "execution_count": 56,
     "metadata": {},
     "output_type": "execute_result"
    }
   ],
   "source": [
    "# Get the validation set predictions\n",
    "y_valid_pred = model(valid_predictors_Variable)\n",
    "\n",
    "\n",
    "# Print the loss\n",
    "loss_fn(y_valid_pred,\n",
    "        valid_outcomes_Variable)"
   ]
  },
  {
   "cell_type": "code",
   "execution_count": 57,
   "metadata": {
    "collapsed": true
   },
   "outputs": [],
   "source": [
    "# Get rid of the 2nd dimension of 1 from the FloatTensor\n",
    "y_valid_pred_resized = y_valid_pred.resize(3987)\n",
    "\n",
    "\n",
    "# Make the FloatTensor into a numpy.array\n",
    "y_valid_pred_array = y_valid_pred_resized.data.numpy()\n",
    "\n",
    "\n",
    "# Make the numpy.array into a list\n",
    "y_valid_pred_list = y_valid_pred_array.tolist()"
   ]
  },
  {
   "cell_type": "code",
   "execution_count": 58,
   "metadata": {
    "collapsed": false
   },
   "outputs": [
    {
     "data": {
      "text/plain": [
       "[<matplotlib.lines.Line2D at 0x7f9ab1432eb8>]"
      ]
     },
     "execution_count": 58,
     "metadata": {},
     "output_type": "execute_result"
    },
    {
     "data": {
      "image/png": "[encoded data removed]",
      "text/plain": [
       "<matplotlib.figure.Figure at 0x7f9ab42f34a8>"
      ]
     },
     "metadata": {},
     "output_type": "display_data"
    }
   ],
   "source": [
    "# Plot new predictions versus new data outcomes\n",
    "plt.scatter(valid_outcomes_list, y_valid_pred_list, c = \"black\", alpha = 0.15)\n",
    "\n",
    "axes = plt.gca()\n",
    "\n",
    "axes.set_xlim([-2, 4])\n",
    "\n",
    "axes.set_ylim([-2, 4])\n",
    "\n",
    "plt.plot([-2, 4], [-2, 4], 'k-', lw=2)"
   ]
  },
  {
   "cell_type": "code",
   "execution_count": 59,
   "metadata": {
    "collapsed": false
   },
   "outputs": [
    {
     "data": {
      "text/plain": [
       "Parameter containing:\n",
       "\n",
       "Columns 0 to 9 \n",
       "-0.0160 -0.0577 -0.0550  0.2373  0.1042 -0.2518 -0.1772  0.0876  0.2718 -0.1734\n",
       " 0.0345  0.2776 -0.0711  0.4784 -0.2257 -0.0487 -0.0640  0.1183  0.5552  0.0910\n",
       " 0.2003  0.2718 -0.2517  0.0978 -0.0902 -0.2917 -0.2697 -0.1725  0.0135 -0.2008\n",
       " 0.3222 -0.0942  0.0244  0.0604 -0.1213  0.0107 -0.0502 -0.1823 -0.1710 -0.1163\n",
       "-0.3554  0.0326 -0.2561 -0.4593 -0.0702 -0.0347 -0.1179  0.1564  0.0927 -0.2928\n",
       "-0.0081  0.1746  0.0333  0.2875 -0.1260 -0.0609 -0.2108  0.0312  0.2525 -0.0383\n",
       "-0.0666  0.1322 -0.0468  0.0588  0.0553 -0.2086  0.0476  0.0992 -0.0259  0.2027\n",
       " 0.3421  0.5938 -0.1970 -0.1134 -0.0620 -0.1676 -0.0006 -0.0436 -0.2831 -0.2895\n",
       "-0.3574  0.3022 -0.1455 -0.3517  0.1476 -0.0075  0.1106  0.2289  0.2027  0.2116\n",
       "-0.1800  0.1860 -0.2112 -0.0649 -0.1143  0.1169 -0.0205  0.1822 -0.2669 -0.0851\n",
       " 0.0897 -0.2386  0.1090  0.2263 -0.1564  0.0093  0.1266 -0.1852  0.0374 -0.1680\n",
       "-0.0010  0.1233  0.1027  0.2409 -0.2200 -0.4294  0.0391 -0.0505 -0.0988 -0.0011\n",
       "-0.3612  0.0684 -0.2461  0.2811 -0.3162 -0.3092 -0.3183 -0.0691 -0.0165 -0.1674\n",
       " 0.1659  0.3286 -0.2240 -0.3541  0.1449 -0.1875  0.1735  0.0685 -0.1762 -0.0562\n",
       "-0.1352 -0.1129 -0.2253 -0.1628  0.0282 -0.1275  0.1974  0.2052 -0.1091  0.1436\n",
       "-0.2891 -0.4411  0.1915  0.2026 -0.0809  0.0661 -0.1959  0.0998 -0.3202 -0.1922\n",
       "\n",
       "Columns 10 to 19 \n",
       " 0.1165 -0.0784 -0.1333 -0.0432  0.0427 -0.0511  0.1200  0.2159 -0.2714 -0.0976\n",
       "-0.0630 -0.1523 -0.0202  0.0079 -0.1981 -0.0746  0.2039  0.3297 -0.0331 -0.0500\n",
       " 0.0880 -0.2083  0.2001  0.0189  0.1755  0.1531  0.0275 -0.4416 -0.2223  0.1910\n",
       " 0.0113 -0.3852  0.1774  0.0309 -0.1318  0.2024 -0.1556  0.1697  0.1198 -0.0966\n",
       " 0.1446  0.3974 -0.3182  0.1357  0.0143  0.1365 -0.2396  0.0462 -0.2224  0.0263\n",
       "-0.0928 -0.1677 -0.3087 -0.0767 -0.0524  0.3767 -0.1398  0.0871  0.1101 -0.2833\n",
       "-0.2120 -0.0209  0.1986 -0.1938 -0.0174  0.0924  0.1443 -0.0166  0.0264  0.0690\n",
       " 0.0489 -0.2787  0.1128 -0.1423 -0.0856 -0.0576  0.0180  0.0287  0.3012 -0.3125\n",
       " 0.1745  0.1181 -0.0721 -0.0113  0.1506 -0.0419 -0.3242  0.1651  0.0181  0.1575\n",
       " 0.3445 -0.1684 -0.0638  0.3170  0.1183 -0.4526  0.2918  0.1602 -0.0227  0.1218\n",
       " 0.0779  0.2099  0.1652 -0.0803 -0.0718  0.1358  0.1890 -0.1852 -0.2788  0.5898\n",
       "-0.1229  0.1657 -0.0897 -0.0332 -0.1218  0.0811  0.0496 -0.2722 -0.0794  0.0650\n",
       " 0.1476 -0.0223  0.3493  0.1585  0.0314 -0.1002  0.1571 -0.2218 -0.3826 -0.0533\n",
       " 0.0559  0.0210  0.3155 -0.0779 -0.0031  0.0600 -0.0062 -0.0409  0.0318  0.0711\n",
       " 0.0978  0.0062  0.2296 -0.1163  0.0283 -0.0376  0.0216  0.1602  0.0687 -0.2388\n",
       "-0.1297 -0.4401  0.3980 -0.4737 -0.0290 -0.1653  0.3235 -0.1183  0.1775 -0.2176\n",
       "\n",
       "Columns 20 to 23 \n",
       " 0.2388  0.3380 -0.2203 -0.2458\n",
       "-0.1191 -0.1618 -0.2682  0.1451\n",
       "-0.0727 -0.0354  0.2154  0.0537\n",
       "-0.0902  0.0175 -0.1912  0.0313\n",
       " 0.1619 -0.0494  0.0276  0.2348\n",
       "-0.2039 -0.0106 -0.0818 -0.3579\n",
       "-0.0493 -0.0683  0.0180  0.5406\n",
       "-0.1484  0.1457  0.2689 -0.2736\n",
       " 0.0565  0.0395 -0.1944  0.3551\n",
       " 0.2612  0.4880  0.2524  0.1616\n",
       " 0.1022  0.3327 -0.0833 -0.3487\n",
       " 0.3965  0.0796  0.5411  0.2226\n",
       " 0.1073 -0.1137 -0.1201  0.0236\n",
       " 0.0707  0.0188  0.1664 -0.0679\n",
       "-0.2689 -0.1398  0.0600 -0.4859\n",
       "-0.2205 -0.2381 -0.0107 -0.5055\n",
       "[torch.FloatTensor of size 16x24]"
      ]
     },
     "execution_count": 59,
     "metadata": {},
     "output_type": "execute_result"
    }
   ],
   "source": [
    "model[(0)].weight"
   ]
  },
  {
   "cell_type": "code",
   "execution_count": 60,
   "metadata": {
    "collapsed": false
   },
   "outputs": [
    {
     "data": {
      "text/plain": [
       "Parameter containing:\n",
       "\n",
       "Columns 0 to 9 \n",
       " 0.4768  0.0771 -0.4665  0.3621 -0.2673  0.0149  0.1521 -0.1397 -0.7772  0.0766\n",
       "-0.7035  0.2475  0.7095 -0.7479  0.1852  0.3408 -0.2222 -0.6922 -0.4036 -0.5747\n",
       "-0.2588 -0.0130 -0.0073  0.0015 -0.1870 -0.0135 -0.1625 -0.1805  0.0667 -0.0209\n",
       "-0.1489 -0.1765 -0.2431  0.0749 -0.0377 -0.0840  0.0791  0.0599  0.2705 -0.8452\n",
       " 0.1344 -0.3709  0.0645 -0.0198  0.0978 -0.4077 -0.1290  0.2354 -0.3297  0.1325\n",
       "-0.8747  0.0870 -0.3538  0.1133 -0.0924 -0.2315 -0.2962  0.2895 -0.0127 -0.7056\n",
       " 0.0194 -0.5006  0.2751  0.0941 -0.1386 -0.0543  0.2771 -0.2267  0.2697 -0.0526\n",
       " 0.0440  0.1044 -0.3758  0.1991  0.2045 -0.5204  0.2802  0.4715 -0.3259 -0.4811\n",
       "-0.1054 -0.3823  0.0125  0.2279 -0.3545 -0.2701  0.4996 -0.1672  0.0229  0.2652\n",
       "-0.4954 -0.1282  0.3517  0.0786  0.2952  0.1733 -0.3504 -0.2300 -0.1550  0.3409\n",
       "-0.4894  0.3439  0.2762  0.1733 -1.1348 -0.8018  0.1914 -0.2699 -0.8143 -0.4493\n",
       "\n",
       "Columns 10 to 15 \n",
       " 0.1478 -0.4392  0.2596 -0.3083  0.1683 -0.0665\n",
       "-0.1382 -0.6678 -0.6492  0.3552  0.4662  0.2380\n",
       " 0.2120 -0.1789  0.3038 -0.0529 -0.0361  0.2223\n",
       " 0.5174  0.1621  0.3601 -0.7223 -0.0986  0.0439\n",
       " 0.0824  0.0066 -0.0189 -0.0670  0.3140 -0.0313\n",
       " 0.2620  0.3277  0.2173  0.0138 -0.1634 -0.1305\n",
       " 0.0485 -0.1609 -0.0605 -0.4003  0.1428  0.3701\n",
       " 0.1440  0.0489  0.0650 -0.5991  0.1092 -0.2626\n",
       "-0.0753 -0.7655 -0.0057 -0.2408  0.1519 -0.1649\n",
       " 0.4230 -0.0898 -0.2097  0.4237  0.0993  0.2830\n",
       "-0.6002  0.4484 -0.5717  0.4921 -0.2304 -0.2454\n",
       "[torch.FloatTensor of size 11x16]"
      ]
     },
     "execution_count": 60,
     "metadata": {},
     "output_type": "execute_result"
    }
   ],
   "source": [
    "model[(2)].weight"
   ]
  },
  {
   "cell_type": "code",
   "execution_count": 61,
   "metadata": {
    "collapsed": false
   },
   "outputs": [
    {
     "data": {
      "text/plain": [
       "Parameter containing:\n",
       "\n",
       "Columns 0 to 9 \n",
       "-0.3508 -0.9084  0.3723 -0.1110 -0.3192  0.6988  0.2106 -0.9181 -0.3783  0.0703\n",
       " 0.2553 -0.3094 -0.0711  0.1180  0.2056 -1.5235  0.2979 -0.2234 -0.2283  0.2468\n",
       " 0.6424  1.6030 -0.5356  0.4601  0.2717 -1.7188  0.2172  0.4787  0.6552 -0.1154\n",
       " 0.4497  0.2900 -0.0013  0.6098 -0.0540 -0.9790  0.3757  0.3608  0.2078  0.3884\n",
       " 0.1494 -0.1498 -0.1947  0.0973  0.2585 -0.2201 -0.2948 -0.0953  0.1766 -0.2984\n",
       "-0.7165 -2.1704  0.3406 -0.3377 -0.2585  0.9345 -0.2182 -0.3306 -0.2579  0.2246\n",
       "-0.5182 -1.6269  0.2501 -0.1394 -0.0913  0.4051 -0.0867 -0.1170  0.0115  0.3442\n",
       "\n",
       "Columns 10 to 10 \n",
       " 0.3349\n",
       "-0.6126\n",
       "-1.9614\n",
       "-2.1031\n",
       " 0.2011\n",
       " 1.0798\n",
       "-0.7963\n",
       "[torch.FloatTensor of size 7x11]"
      ]
     },
     "execution_count": 61,
     "metadata": {},
     "output_type": "execute_result"
    }
   ],
   "source": [
    "model[(4)].weight"
   ]
  },
  {
   "cell_type": "code",
   "execution_count": 62,
   "metadata": {
    "collapsed": false
   },
   "outputs": [
    {
     "data": {
      "text/plain": [
       "Parameter containing:\n",
       "-0.8851 -1.5261 -0.3040 -1.0787 -0.0267  0.2657  0.4267\n",
       "-0.3279  0.5317  0.1152  0.3654 -0.1552 -1.2074  0.3230\n",
       " 0.5756  0.2468 -0.3845 -0.3134 -0.0457  0.0812  0.3250\n",
       " 0.4807 -0.1591 -1.1183 -0.5312 -0.1906  0.3154  0.5648\n",
       " 0.3275 -0.2438  0.0237 -0.1049  0.2992 -0.1185 -0.0194\n",
       "[torch.FloatTensor of size 5x7]"
      ]
     },
     "execution_count": 62,
     "metadata": {},
     "output_type": "execute_result"
    }
   ],
   "source": [
    "model[(6)].weight"
   ]
  },
  {
   "cell_type": "code",
   "execution_count": 63,
   "metadata": {
    "collapsed": false
   },
   "outputs": [
    {
     "data": {
      "text/plain": [
       "Parameter containing:\n",
       " 3.0564 -0.8429  0.8109  0.7439 -0.0833\n",
       "[torch.FloatTensor of size 1x5]"
      ]
     },
     "execution_count": 63,
     "metadata": {},
     "output_type": "execute_result"
    }
   ],
   "source": [
    "model[(8)].weight"
   ]
  },
  {
   "cell_type": "markdown",
   "metadata": {},
   "source": [
    "## Round 5: Five-Hidden-Layer Neural Network"
   ]
  },
  {
   "cell_type": "code",
   "execution_count": 64,
   "metadata": {
    "collapsed": true
   },
   "outputs": [],
   "source": [
    "# Make the torch Tensor into a PyTorch Variable for dependent variables\n",
    "outcomes_Variable = Variable(outcomes_Tensor)\n",
    "\n",
    "\n",
    "# ...for independent variables\n",
    "features_Variable = Variable(features_Tensor,\n",
    "                             requires_grad = False)"
   ]
  },
  {
   "cell_type": "code",
   "execution_count": 65,
   "metadata": {
    "collapsed": true
   },
   "outputs": [],
   "source": [
    "# Make the neural network\n",
    "model = torch.nn.Sequential(torch.nn.Linear(24, 16),\n",
    "                            torch.nn.ReLU(),\n",
    "                            torch.nn.Linear(16, 11),\n",
    "                            torch.nn.ReLU(),\n",
    "                            torch.nn.Linear(11, 7),\n",
    "                            torch.nn.ReLU(),\n",
    "                            torch.nn.Linear(7, 5),\n",
    "                            torch.nn.ReLU(),\n",
    "                            torch.nn.Linear(5, 3),\n",
    "                            torch.nn.ReLU(),\n",
    "                            torch.nn.Linear(3, 1))"
   ]
  },
  {
   "cell_type": "code",
   "execution_count": 66,
   "metadata": {
    "collapsed": true
   },
   "outputs": [],
   "source": [
    "# To add errors to\n",
    "errors = []\n",
    "\n",
    "\n",
    "# Set the learning rate\n",
    "learning_rate = 1e-2\n",
    "\n",
    "\n",
    "# Define the model's optimizer\n",
    "optimizer = torch.optim.Adagrad(model.parameters(), lr = learning_rate)\n",
    "\n",
    "\n",
    "# Train the neural network\n",
    "for t in range(10000):\n",
    "    \n",
    "    # Get the current predictions\n",
    "    y_pred = model(features_Variable)\n",
    "    \n",
    "    # Compute and append current summed errors\n",
    "    loss = loss_fn(y_pred, outcomes_Variable)\n",
    "    errors.append(loss.data[0])\n",
    "    \n",
    "    # Zero the gradients before running the backward pass.\n",
    "    optimizer.zero_grad()\n",
    "    \n",
    "    # Backward pass: compute gradient of the loss with respect to all the learnable Variables\n",
    "    loss.backward()\n",
    "    \n",
    "    # Update the weights using Adagrad\n",
    "    optimizer.step()"
   ]
  },
  {
   "cell_type": "code",
   "execution_count": 67,
   "metadata": {
    "collapsed": false
   },
   "outputs": [
    {
     "data": {
      "text/plain": [
       "<matplotlib.collections.PathCollection at 0x7f9ab1380438>"
      ]
     },
     "execution_count": 67,
     "metadata": {},
     "output_type": "execute_result"
    },
    {
     "data": {
      "image/png": "[encoded data removed]",
      "text/plain": [
       "<matplotlib.figure.Figure at 0x7f9ab441e128>"
      ]
     },
     "metadata": {},
     "output_type": "display_data"
    }
   ],
   "source": [
    "# Plot summed error as a function of iteration\n",
    "plt.scatter(iterations, errors, c = \"black\", alpha = 0.25)"
   ]
  },
  {
   "cell_type": "code",
   "execution_count": 68,
   "metadata": {
    "collapsed": true
   },
   "outputs": [],
   "source": [
    "# Get rid of the 2nd dimension of 1 from the FloatTensor\n",
    "y_pred_resized = y_pred.resize(11959)\n",
    "\n",
    "\n",
    "# Make the FloatTensor into a numpy.array\n",
    "y_pred_array = y_pred_resized.data.numpy()\n",
    "\n",
    "\n",
    "# Make the numpy.array into a list\n",
    "y_pred_list = y_pred_array.tolist()"
   ]
  },
  {
   "cell_type": "code",
   "execution_count": 69,
   "metadata": {
    "collapsed": false
   },
   "outputs": [
    {
     "data": {
      "text/plain": [
       "[<matplotlib.lines.Line2D at 0x7f9ab143cac8>]"
      ]
     },
     "execution_count": 69,
     "metadata": {},
     "output_type": "execute_result"
    },
    {
     "data": {
      "image/png": "[encoded data removed]",
      "text/plain": [
       "<matplotlib.figure.Figure at 0x7f9ab143ce80>"
      ]
     },
     "metadata": {},
     "output_type": "display_data"
    }
   ],
   "source": [
    "# Plot predictions versus training set outcomes\n",
    "plt.scatter(outcomes_list, y_pred_list, c = \"black\", alpha = 0.15)\n",
    "\n",
    "axes = plt.gca()\n",
    "\n",
    "axes.set_xlim([-2, 4])\n",
    "\n",
    "axes.set_ylim([-2, 4])\n",
    "\n",
    "plt.plot([-2, 4], [-2, 4], 'k-', lw=2)"
   ]
  },
  {
   "cell_type": "markdown",
   "metadata": {},
   "source": [
    "### Round 5.1: Validation Set Performance"
   ]
  },
  {
   "cell_type": "code",
   "execution_count": 70,
   "metadata": {
    "collapsed": false
   },
   "outputs": [
    {
     "data": {
      "text/plain": [
       "Variable containing:\n",
       " 3242.7480\n",
       "[torch.FloatTensor of size 1]"
      ]
     },
     "execution_count": 70,
     "metadata": {},
     "output_type": "execute_result"
    }
   ],
   "source": [
    "# Get the validation set predictions\n",
    "y_valid_pred = model(valid_predictors_Variable)\n",
    "\n",
    "\n",
    "# Print the loss\n",
    "loss_fn(y_valid_pred,\n",
    "        valid_outcomes_Variable)"
   ]
  },
  {
   "cell_type": "code",
   "execution_count": 71,
   "metadata": {
    "collapsed": false
   },
   "outputs": [],
   "source": [
    "# Get rid of the 2nd dimension of 1 from the FloatTensor\n",
    "y_valid_pred_resized = y_valid_pred.resize(3987)\n",
    "\n",
    "\n",
    "# Make the FloatTensor into a numpy.array\n",
    "y_valid_pred_array = y_valid_pred_resized.data.numpy()\n",
    "\n",
    "\n",
    "# Make the numpy.array into a list\n",
    "y_valid_pred_list = y_valid_pred_array.tolist()"
   ]
  },
  {
   "cell_type": "code",
   "execution_count": 72,
   "metadata": {
    "collapsed": false
   },
   "outputs": [
    {
     "data": {
      "text/plain": [
       "[<matplotlib.lines.Line2D at 0x7f9ab127d198>]"
      ]
     },
     "execution_count": 72,
     "metadata": {},
     "output_type": "execute_result"
    },
    {
     "data": {
      "image/png": "[encoded data removed]",
      "text/plain": [
       "<matplotlib.figure.Figure at 0x7f9ab156cb00>"
      ]
     },
     "metadata": {},
     "output_type": "display_data"
    }
   ],
   "source": [
    "# Plot new predictions versus new data outcomes\n",
    "plt.scatter(valid_outcomes_list, y_valid_pred_list, c = \"black\", alpha = 0.15)\n",
    "\n",
    "axes = plt.gca()\n",
    "\n",
    "axes.set_xlim([-2, 4])\n",
    "\n",
    "axes.set_ylim([-2, 4])\n",
    "\n",
    "plt.plot([-2, 4], [-2, 4], 'k-', lw=2)"
   ]
  },
  {
   "cell_type": "code",
   "execution_count": 73,
   "metadata": {
    "collapsed": false
   },
   "outputs": [
    {
     "data": {
      "text/plain": [
       "Parameter containing:\n",
       "\n",
       "Columns 0 to 9 \n",
       "-0.2754  0.2435  0.1377  0.3763 -0.0574 -0.3794  0.2798  0.0194  0.4376  0.2133\n",
       " 0.2311  0.7804 -0.0475  0.2823  0.2579 -0.3323  0.2055  0.6061 -0.0205  0.0028\n",
       " 0.2382 -0.1469 -0.1629 -0.0720 -0.0827  0.0391 -0.0194 -0.0563  0.2397 -0.1121\n",
       " 0.3016  0.0388 -0.2104 -0.3998  0.0532 -0.1322 -0.1265  0.3407 -0.2503  0.0162\n",
       " 0.2397  0.0010  0.2064 -0.0862 -0.0803 -0.0231 -0.1335  0.2693 -0.0571  0.2587\n",
       " 0.1633  0.2106 -0.2101 -0.0136 -0.0616  0.2808 -0.1220 -0.1759 -0.0135  0.0889\n",
       "-0.6595  0.4549 -0.0781  0.6408  0.3416 -0.0734  0.1133 -0.2168  0.0992  0.1271\n",
       "-0.2685  0.0141  0.1082  0.1971 -0.1462  0.0623 -0.0428 -0.0808  0.0869 -0.1154\n",
       " 0.0198 -0.3402 -0.0192  0.2102 -0.1006  0.1006  0.1459  0.1049 -0.0487  0.0881\n",
       "-0.1515  0.5338  0.1524  0.3443  0.3746  0.1436  0.0080 -0.0069  0.4064  0.3047\n",
       "-0.1921 -0.2669 -0.0810  0.0152 -0.1940 -0.0827  0.3360  0.0172  0.1122 -0.0317\n",
       " 0.4068  0.1520  0.0926  0.2294 -0.1116 -0.2482 -0.0563 -0.1680 -0.4368 -0.1500\n",
       " 0.4774 -0.4684 -0.4715 -0.3642 -0.4474 -0.0290  0.1610  0.1392 -0.2588  0.0520\n",
       " 0.3430  0.0527 -0.2063  0.1790 -0.2678  0.2299 -0.2365 -0.1781  0.1637  0.2019\n",
       "-0.2694 -0.9255 -0.0734 -0.0145 -0.3408  0.0941 -0.0540 -0.0288 -0.0347 -0.0786\n",
       " 0.3239 -0.2897 -0.0746 -0.5197  0.1662 -0.5596 -0.2283  0.0972 -0.1746 -0.4071\n",
       "\n",
       "Columns 10 to 19 \n",
       " 0.0492  0.2337 -0.4485 -0.0553  0.1223 -0.1376 -0.1816  0.3459 -0.0846  0.5325\n",
       " 0.0612  0.1983 -0.2087  0.4151 -0.1704  0.0799  0.3469 -0.3373  0.4524 -0.1010\n",
       " 0.1000 -0.0157  0.1100  0.1565 -0.0226 -0.2520  0.1217  0.0083 -0.1219 -0.0798\n",
       "-0.2899 -0.2813  0.1771 -0.0650  0.3785  0.3929  0.3620  0.4286 -0.2620 -0.2218\n",
       " 0.1068  0.2675 -0.5119  0.1184  0.0004  0.0435  0.1136 -0.2972 -0.0351  0.2778\n",
       "-0.3614 -0.0338  0.0544 -0.1365  0.1276 -0.2674 -0.2658 -0.0633  0.3428  0.0270\n",
       " 0.2860  0.4291  0.0229  0.4692 -0.2736 -0.2323 -0.2936 -0.2888 -0.2296  0.5733\n",
       " 0.1234 -0.3220  0.0493 -0.1930  0.0785  0.0548  0.2352 -0.0147  0.1655 -0.2237\n",
       "-0.2837  0.1590 -0.1208 -0.4740  0.5336 -0.2975 -0.2195  0.6068 -0.0439  0.2171\n",
       "-0.0312  0.3206 -0.5383 -0.1106 -0.0963 -0.1475  0.1285 -0.0054  0.4643  0.0976\n",
       "-0.2063  0.0985  0.0462 -0.1722  0.0025 -0.0564  0.2609  0.1724  0.2967 -0.5499\n",
       " 0.0322 -0.5285 -0.1165 -0.1184  0.1355 -0.3130 -0.1952  0.2509 -0.1896  0.1669\n",
       "-0.5132 -0.0034  0.1491 -0.2272  0.4299 -0.1434 -0.0193  0.1799 -0.1971 -0.1495\n",
       " 0.1254 -0.0724  0.0669  0.2400 -0.2480 -0.3834  0.1732 -0.2845 -0.1538  0.0601\n",
       "-0.1057  0.1855  0.1774 -0.1407 -0.0869  0.2461  0.0614  0.0351  0.0042 -0.1751\n",
       "-0.2667  0.0652 -0.1918 -0.0676  0.4492 -0.0076 -0.0788  0.6032 -0.2858 -0.0926\n",
       "\n",
       "Columns 20 to 23 \n",
       " 0.4375  0.0676 -0.0736  0.0272\n",
       " 0.0457  0.1401  0.1258  0.2594\n",
       " 0.3647  0.2071 -0.0575 -0.4042\n",
       "-0.2982 -0.1426 -0.2251  0.0144\n",
       " 0.4681  0.4602 -0.3581 -0.2674\n",
       "-0.2003  0.2885 -0.1285 -0.1058\n",
       "-0.2099  0.3435 -0.0738  0.1066\n",
       "-0.2943  0.0653 -0.1980 -0.0809\n",
       "-0.2076 -0.1009 -0.2749 -0.3302\n",
       "-0.0948  0.1798 -0.2226  0.0793\n",
       "-0.2541 -0.2300 -0.3315  0.3383\n",
       "-0.2286  0.3442 -0.0072 -0.1375\n",
       "-0.0180 -0.1613 -0.1109 -0.0125\n",
       " 0.7191 -0.2272  0.4573 -0.1524\n",
       "-0.3380 -0.1106 -0.0746  0.1429\n",
       "-0.3111 -0.0618 -0.0189  0.0763\n",
       "[torch.FloatTensor of size 16x24]"
      ]
     },
     "execution_count": 73,
     "metadata": {},
     "output_type": "execute_result"
    }
   ],
   "source": [
    "model[(0)].weight"
   ]
  },
  {
   "cell_type": "code",
   "execution_count": 74,
   "metadata": {
    "collapsed": false
   },
   "outputs": [
    {
     "data": {
      "text/plain": [
       "Parameter containing:\n",
       "\n",
       "Columns 0 to 9 \n",
       "-0.1401 -0.1245  0.4514  0.3524  0.1433 -0.6179 -0.0093 -0.0817  0.2182  0.2004\n",
       "-1.2410 -0.6095 -0.1616  0.4088 -0.2635  0.1730 -0.3651 -0.3097 -0.0055  0.7830\n",
       "-0.0429  0.8048 -0.0133  0.2341 -0.0659  0.0274 -0.0960  0.6402 -0.0414  0.2395\n",
       "-0.0353 -0.1147 -0.4176 -0.0678  0.1346  0.0912 -0.1042  0.3195 -0.2548  0.1248\n",
       " 0.0184 -0.2015  0.2006  0.2748 -0.0479  0.0383  0.3767 -0.0354 -0.1849  0.4239\n",
       "-0.1585  0.2860  0.2888  0.1349  0.4117 -0.0790  0.3825  0.2288  0.1465  0.1139\n",
       " 0.0321  0.2497 -0.1252 -0.2433  0.1162  0.0922  0.1510  0.2562 -0.4470  0.4554\n",
       "-0.8290 -0.2696  0.1941  0.0226 -1.3569  0.1189 -0.9388 -0.5090  0.0896  0.4718\n",
       " 0.0963  0.0245 -0.2834  0.0874  0.1656  0.2749  0.4491  0.3510 -0.4976  0.0615\n",
       " 0.4290 -0.0262 -0.3848 -0.2715  0.2975  0.0430  0.2190  0.0466  0.1678  0.3033\n",
       " 0.1249  0.4139  0.0417  0.4808  0.0489  0.0903  0.3575  0.0563 -0.8001  0.2215\n",
       "\n",
       "Columns 10 to 15 \n",
       "-0.3118  0.2986 -0.2857 -0.3360  0.1781 -0.2301\n",
       " 0.3151  0.0878  0.2313 -1.2305  0.0706  0.2076\n",
       "-0.0387 -0.0291  0.2906 -0.1754 -0.6014  0.1645\n",
       "-0.1567 -0.0190  0.2430  0.3842 -0.3714  0.4413\n",
       "-0.0064  0.3912  0.2386  0.1173  0.0135  0.1589\n",
       " 0.2644  0.3878 -0.3804  0.3667 -0.1798  0.1502\n",
       " 0.1562 -0.0065  0.0650  0.1607  0.0637  0.1759\n",
       " 0.1836  0.1983 -0.2199 -0.1553  0.1189 -0.0979\n",
       "-0.0826 -0.0633  0.4656  0.0295 -0.1750  0.1315\n",
       " 0.3048  0.3922  0.1043  0.3653 -0.6292 -0.1181\n",
       " 0.5836  0.2578  0.4439  0.0972 -0.8464 -0.1312\n",
       "[torch.FloatTensor of size 11x16]"
      ]
     },
     "execution_count": 74,
     "metadata": {},
     "output_type": "execute_result"
    }
   ],
   "source": [
    "model[(2)].weight"
   ]
  },
  {
   "cell_type": "code",
   "execution_count": 75,
   "metadata": {
    "collapsed": false
   },
   "outputs": [
    {
     "data": {
      "text/plain": [
       "Parameter containing:\n",
       "\n",
       "Columns 0 to 9 \n",
       "-0.2024 -0.1622 -0.2401 -0.2129  0.1327  0.0546  0.0335  0.0110 -0.1042  0.0362\n",
       "-0.7372 -0.4517  0.0841  0.2630 -0.0321  0.3754  0.2610 -1.4152  0.3943  0.4036\n",
       " 1.2098 -0.7898  0.2456 -0.1497  0.1268 -0.1331 -0.1616  0.0901  0.0458  0.2670\n",
       " 0.5535 -0.0784 -0.0043  0.2851  0.1914  0.4646  0.4632  0.3006 -0.1510  0.2563\n",
       " 0.5319  0.3065 -0.2935 -0.5034  0.4371  0.2175  0.0979  0.9313 -0.6032  0.0506\n",
       " 0.8211 -0.1949  0.3402 -0.3294  0.2419  0.1218  0.2912  0.0483 -0.2087 -0.3793\n",
       "-0.7908 -0.3004  0.4431  0.2822 -0.3300  0.3357 -0.0181 -1.0640 -0.0326  0.0035\n",
       "\n",
       "Columns 10 to 10 \n",
       "-0.2997\n",
       " 0.4393\n",
       " 0.3560\n",
       " 0.3457\n",
       " 0.2387\n",
       " 0.1154\n",
       " 0.5076\n",
       "[torch.FloatTensor of size 7x11]"
      ]
     },
     "execution_count": 75,
     "metadata": {},
     "output_type": "execute_result"
    }
   ],
   "source": [
    "model[(4)].weight"
   ]
  },
  {
   "cell_type": "code",
   "execution_count": 76,
   "metadata": {
    "collapsed": false
   },
   "outputs": [
    {
     "data": {
      "text/plain": [
       "Parameter containing:\n",
       " 0.0764  0.5473 -0.5110  0.2092 -0.4434 -0.2460  0.2528\n",
       "-0.2656  0.2302 -1.6757  0.0961 -0.5908 -0.0499 -0.0825\n",
       " 0.0653  0.1484 -0.3291 -0.2701 -0.1136 -0.3313 -0.0798\n",
       " 0.1724 -0.3387 -0.1289  0.4325  0.4709  0.8706 -0.3394\n",
       "-0.0882  0.0961  0.1157  0.5116  0.2563  0.5604  0.2278\n",
       "[torch.FloatTensor of size 5x7]"
      ]
     },
     "execution_count": 76,
     "metadata": {},
     "output_type": "execute_result"
    }
   ],
   "source": [
    "model[(6)].weight"
   ]
  },
  {
   "cell_type": "code",
   "execution_count": 77,
   "metadata": {
    "collapsed": false
   },
   "outputs": [
    {
     "data": {
      "text/plain": [
       "Parameter containing:\n",
       "-0.1531 -3.1599  0.2110  0.6346  0.3128\n",
       "-0.1194  0.2989 -0.4023 -0.2394 -0.3673\n",
       " 0.6101 -0.3087 -0.0978 -0.8023  0.3739\n",
       "[torch.FloatTensor of size 3x5]"
      ]
     },
     "execution_count": 77,
     "metadata": {},
     "output_type": "execute_result"
    }
   ],
   "source": [
    "model[(8)].weight"
   ]
  },
  {
   "cell_type": "code",
   "execution_count": 78,
   "metadata": {
    "collapsed": false
   },
   "outputs": [
    {
     "data": {
      "text/plain": [
       "Parameter containing:\n",
       "-0.9934  0.2101  0.3331\n",
       "[torch.FloatTensor of size 1x3]"
      ]
     },
     "execution_count": 78,
     "metadata": {},
     "output_type": "execute_result"
    }
   ],
   "source": [
    "model[(10)].weight"
   ]
  },
  {
   "cell_type": "markdown",
   "metadata": {},
   "source": [
    "## Round 6: Six-Hidden-Layer Neural Network"
   ]
  },
  {
   "cell_type": "code",
   "execution_count": 79,
   "metadata": {
    "collapsed": true
   },
   "outputs": [],
   "source": [
    "# Make the torch Tensor into a PyTorch Variable for dependent variables\n",
    "outcomes_Variable = Variable(outcomes_Tensor)\n",
    "\n",
    "\n",
    "# ...for independent variables\n",
    "features_Variable = Variable(features_Tensor,\n",
    "                             requires_grad = False)"
   ]
  },
  {
   "cell_type": "code",
   "execution_count": 80,
   "metadata": {
    "collapsed": true
   },
   "outputs": [],
   "source": [
    "# Make the neural network\n",
    "model = torch.nn.Sequential(torch.nn.Linear(24, 16),\n",
    "                            torch.nn.ReLU(),\n",
    "                            torch.nn.Linear(16, 11),\n",
    "                            torch.nn.ReLU(),\n",
    "                            torch.nn.Linear(11, 7),\n",
    "                            torch.nn.ReLU(),\n",
    "                            torch.nn.Linear(7, 5),\n",
    "                            torch.nn.ReLU(),\n",
    "                            torch.nn.Linear(5, 3),\n",
    "                            torch.nn.ReLU(),\n",
    "                            torch.nn.Linear(3, 2),\n",
    "                            torch.nn.ReLU(),\n",
    "                            torch.nn.Linear(2, 1))"
   ]
  },
  {
   "cell_type": "code",
   "execution_count": 81,
   "metadata": {
    "collapsed": true
   },
   "outputs": [],
   "source": [
    "# To add errors to\n",
    "errors = []\n",
    "\n",
    "\n",
    "# Set the learning rate\n",
    "learning_rate = 1e-2\n",
    "\n",
    "\n",
    "# Define the model's optimizer\n",
    "optimizer = torch.optim.Adagrad(model.parameters(), lr = learning_rate)\n",
    "\n",
    "\n",
    "# Train the neural network\n",
    "for t in range(10000):\n",
    "    \n",
    "    # Get the current predictions\n",
    "    y_pred = model(features_Variable)\n",
    "    \n",
    "    # Compute and append current summed errors\n",
    "    loss = loss_fn(y_pred, outcomes_Variable)\n",
    "    errors.append(loss.data[0])\n",
    "    \n",
    "    # Zero the gradients before running the backward pass.\n",
    "    optimizer.zero_grad()\n",
    "    \n",
    "    # Backward pass: compute gradient of the loss with respect to all the learnable Variables\n",
    "    loss.backward()\n",
    "    \n",
    "    # Update the weights using Adagrad\n",
    "    optimizer.step()"
   ]
  },
  {
   "cell_type": "code",
   "execution_count": 82,
   "metadata": {
    "collapsed": false
   },
   "outputs": [
    {
     "data": {
      "text/plain": [
       "<matplotlib.collections.PathCollection at 0x7f9ab11b6240>"
      ]
     },
     "execution_count": 82,
     "metadata": {},
     "output_type": "execute_result"
    },
    {
     "data": {
      "image/png": "[encoded data removed]",
      "text/plain": [
       "<matplotlib.figure.Figure at 0x7f9ab144aac8>"
      ]
     },
     "metadata": {},
     "output_type": "display_data"
    }
   ],
   "source": [
    "# Plot summed error as a function of iteration\n",
    "plt.scatter(iterations, errors, c = \"black\", alpha = 0.25)"
   ]
  },
  {
   "cell_type": "code",
   "execution_count": 83,
   "metadata": {
    "collapsed": true
   },
   "outputs": [],
   "source": [
    "# Get rid of the 2nd dimension of 1 from the FloatTensor\n",
    "y_pred_resized = y_pred.resize(11959)\n",
    "\n",
    "\n",
    "# Make the FloatTensor into a numpy.array\n",
    "y_pred_array = y_pred_resized.data.numpy()\n",
    "\n",
    "\n",
    "# Make the numpy.array into a list\n",
    "y_pred_list = y_pred_array.tolist()"
   ]
  },
  {
   "cell_type": "code",
   "execution_count": 84,
   "metadata": {
    "collapsed": false
   },
   "outputs": [
    {
     "data": {
      "text/plain": [
       "[<matplotlib.lines.Line2D at 0x7f9ab12506a0>]"
      ]
     },
     "execution_count": 84,
     "metadata": {},
     "output_type": "execute_result"
    },
    {
     "data": {
      "image/png": "[encoded data removed]",
      "text/plain": [
       "<matplotlib.figure.Figure at 0x7f9ab1250908>"
      ]
     },
     "metadata": {},
     "output_type": "display_data"
    }
   ],
   "source": [
    "# Plot predictions versus training set outcomes\n",
    "plt.scatter(outcomes_list, y_pred_list, c = \"black\", alpha = 0.15)\n",
    "\n",
    "axes = plt.gca()\n",
    "\n",
    "axes.set_xlim([-2, 4])\n",
    "\n",
    "axes.set_ylim([-2, 4])\n",
    "\n",
    "plt.plot([-2, 4], [-2, 4], 'k-', lw=2)"
   ]
  },
  {
   "cell_type": "markdown",
   "metadata": {},
   "source": [
    "### Round 6.1: Validation Set Performance"
   ]
  },
  {
   "cell_type": "code",
   "execution_count": 85,
   "metadata": {
    "collapsed": false
   },
   "outputs": [
    {
     "data": {
      "text/plain": [
       "Variable containing:\n",
       " 3936.8115\n",
       "[torch.FloatTensor of size 1]"
      ]
     },
     "execution_count": 85,
     "metadata": {},
     "output_type": "execute_result"
    }
   ],
   "source": [
    "# Get the validation set predictions\n",
    "y_valid_pred = model(valid_predictors_Variable)\n",
    "\n",
    "\n",
    "# Print the loss\n",
    "loss_fn(y_valid_pred,\n",
    "        valid_outcomes_Variable)"
   ]
  },
  {
   "cell_type": "code",
   "execution_count": 86,
   "metadata": {
    "collapsed": true
   },
   "outputs": [],
   "source": [
    "# Get rid of the 2nd dimension of 1 from the FloatTensor\n",
    "y_valid_pred_resized = y_valid_pred.resize(3987)\n",
    "\n",
    "\n",
    "# Make the FloatTensor into a numpy.array\n",
    "y_valid_pred_array = y_valid_pred_resized.data.numpy()\n",
    "\n",
    "\n",
    "# Make the numpy.array into a list\n",
    "y_valid_pred_list = y_valid_pred_array.tolist()"
   ]
  },
  {
   "cell_type": "code",
   "execution_count": 87,
   "metadata": {
    "collapsed": false
   },
   "outputs": [
    {
     "data": {
      "text/plain": [
       "[<matplotlib.lines.Line2D at 0x7f9ab116f208>]"
      ]
     },
     "execution_count": 87,
     "metadata": {},
     "output_type": "execute_result"
    },
    {
     "data": {
      "image/png": "[encoded data removed]",
      "text/plain": [
       "<matplotlib.figure.Figure at 0x7f9ab116f320>"
      ]
     },
     "metadata": {},
     "output_type": "display_data"
    }
   ],
   "source": [
    "# Plot new predictions versus new data outcomes\n",
    "plt.scatter(valid_outcomes_list, y_valid_pred_list, c = \"black\", alpha = 0.15)\n",
    "\n",
    "axes = plt.gca()\n",
    "\n",
    "axes.set_xlim([-2, 4])\n",
    "\n",
    "axes.set_ylim([-2, 4])\n",
    "\n",
    "plt.plot([-2, 4], [-2, 4], 'k-', lw=2)"
   ]
  },
  {
   "cell_type": "code",
   "execution_count": 88,
   "metadata": {
    "collapsed": false
   },
   "outputs": [
    {
     "data": {
      "text/plain": [
       "Parameter containing:\n",
       "\n",
       "Columns 0 to 9 \n",
       " 0.0074 -0.1466 -0.1876  0.0478  0.0412  0.0158 -0.1822  0.0513 -0.0087 -0.1888\n",
       "-0.0194  0.1430 -0.0769  0.1358  0.0794 -0.0723 -0.0232 -0.0282 -0.1209 -0.1130\n",
       " 0.1690  0.0584 -0.1836  0.0031  0.0580 -0.1658  0.0163  0.1104  0.1177 -0.1292\n",
       " 0.0393  0.0530  0.0646 -0.1308 -0.0179  0.0404  0.1387 -0.1740  0.0234 -0.1785\n",
       " 0.1755  0.0169 -0.1522 -0.0588 -0.1127 -0.1520  0.2023 -0.1686 -0.0659  0.0817\n",
       "-0.0527  0.0076 -0.0363 -0.0893  0.1273 -0.1894  0.0702 -0.0797 -0.1763  0.0307\n",
       "-0.0201  0.0435  0.0529  0.1032 -0.1178  0.0923 -0.0675 -0.1661 -0.1044  0.1875\n",
       " 0.1479 -0.0083  0.0742  0.0416  0.0462  0.1007  0.1843  0.0423 -0.0564  0.1485\n",
       "-0.1790 -0.1909 -0.1021 -0.1362 -0.0880  0.1935 -0.0473 -0.1358  0.1517 -0.1413\n",
       " 0.1047 -0.0137 -0.0770 -0.1952 -0.0125  0.0882 -0.0545 -0.0716 -0.1439  0.0114\n",
       " 0.1621  0.0984 -0.1081 -0.0358 -0.1405 -0.1784 -0.1260  0.1004  0.0497  0.1081\n",
       " 0.0782  0.0905  0.0475 -0.0534 -0.0532  0.1792 -0.0821  0.1242 -0.1264 -0.0137\n",
       " 0.0916  0.1186  0.0861  0.1624  0.1354 -0.0203  0.1908  0.0270 -0.0996  0.0844\n",
       " 0.0358  0.0755 -0.0202  0.0015  0.0332 -0.1818 -0.1860  0.0132 -0.0439  0.0765\n",
       "-0.1215 -0.1265  0.1046 -0.0882  0.1819  0.1704 -0.0257  0.1487 -0.0987  0.1620\n",
       "-0.1974  0.1705 -0.0181  0.1859 -0.0022 -0.1971 -0.1581  0.1730 -0.1077  0.0860\n",
       "\n",
       "Columns 10 to 19 \n",
       " 0.1076 -0.1018 -0.0911  0.0940  0.0523  0.1115 -0.0534 -0.1288 -0.0044 -0.0243\n",
       "-0.0200  0.0341  0.0671 -0.1918 -0.1681 -0.0635 -0.1140  0.1591 -0.1730  0.1398\n",
       "-0.0261  0.1127  0.1075  0.0323 -0.1607  0.0870 -0.1078  0.0546  0.1147 -0.0333\n",
       " 0.1918 -0.0293 -0.0003 -0.1281  0.0435  0.0238 -0.0869 -0.0400 -0.0211 -0.0462\n",
       "-0.0633 -0.1511  0.0682  0.1164 -0.0679  0.0021  0.1599  0.0048  0.1236 -0.0402\n",
       "-0.0338  0.0713  0.0106  0.0057 -0.0915 -0.0852  0.2032 -0.0535 -0.1240  0.0991\n",
       " 0.0887 -0.1408  0.0302 -0.1399  0.1335  0.1075  0.1070 -0.1947  0.1253 -0.0941\n",
       "-0.0520  0.1167  0.0160 -0.1866 -0.0526 -0.1097 -0.0710 -0.1578 -0.0910 -0.1811\n",
       " 0.1973 -0.1234  0.1132 -0.1771  0.0647  0.0427  0.1305 -0.1574  0.1157  0.2036\n",
       "-0.1300  0.0980  0.1998  0.1173  0.1448  0.1277 -0.1967 -0.1989  0.1254 -0.0288\n",
       " 0.1568 -0.1594  0.0383  0.0312  0.1401 -0.0797 -0.1173  0.1805 -0.0474 -0.1625\n",
       "-0.2019  0.0566  0.0492  0.0522  0.1927 -0.1148 -0.0888  0.1980 -0.1823 -0.0856\n",
       " 0.1771  0.1644 -0.1204 -0.1742 -0.1421 -0.1304  0.0920  0.0881  0.1132 -0.0602\n",
       " 0.0909  0.0144 -0.0508 -0.1528 -0.1103 -0.1228 -0.0867  0.1734  0.0272  0.0056\n",
       " 0.1413  0.0650 -0.0529  0.0295 -0.1141  0.0120  0.0459  0.0289 -0.1198 -0.0598\n",
       " 0.0778  0.1930 -0.0714 -0.1393  0.1881 -0.0632 -0.0722  0.0433 -0.0965 -0.1099\n",
       "\n",
       "Columns 20 to 23 \n",
       "-0.1310 -0.1980  0.0441 -0.1691\n",
       " 0.0606 -0.1774 -0.1036 -0.0817\n",
       "-0.1236 -0.1661 -0.0464 -0.1125\n",
       "-0.0190  0.1704  0.0380  0.0359\n",
       "-0.0195  0.1223  0.1634 -0.0139\n",
       " 0.0323  0.0354  0.0445 -0.1177\n",
       "-0.0418  0.1236 -0.0315  0.1487\n",
       "-0.0192  0.1938 -0.1293  0.0258\n",
       " 0.1817  0.1945 -0.0185  0.0097\n",
       "-0.1384  0.0253  0.1485 -0.1472\n",
       " 0.0546 -0.1357 -0.1599 -0.1683\n",
       "-0.1935  0.1149 -0.0013  0.1743\n",
       " 0.0063  0.0563  0.0978 -0.0720\n",
       "-0.0446  0.0611 -0.1842 -0.0412\n",
       "-0.1313  0.0437 -0.0033 -0.1841\n",
       " 0.0905  0.1531  0.1683  0.0622\n",
       "[torch.FloatTensor of size 16x24]"
      ]
     },
     "execution_count": 88,
     "metadata": {},
     "output_type": "execute_result"
    }
   ],
   "source": [
    "model[(0)].weight"
   ]
  },
  {
   "cell_type": "code",
   "execution_count": 89,
   "metadata": {
    "collapsed": false
   },
   "outputs": [
    {
     "data": {
      "text/plain": [
       "Parameter containing:\n",
       "\n",
       "Columns 0 to 9 \n",
       " 0.1838  0.0261 -0.0402 -0.0674 -0.0763  0.2423 -0.0436  0.1302 -0.0450  0.1609\n",
       " 0.0766 -0.1414  0.1030  0.0368 -0.0380 -0.1252 -0.1630  0.0038  0.1827  0.0554\n",
       "-0.2382 -0.0450  0.1906 -0.1390 -0.1927 -0.1765 -0.2008  0.2458  0.1744  0.1953\n",
       "-0.0578 -0.1091  0.1381 -0.1752  0.2013 -0.1090  0.0511 -0.2361 -0.0301  0.0527\n",
       "-0.2481  0.0350 -0.0251  0.0824  0.0604  0.0211  0.2132  0.0749  0.1575 -0.2242\n",
       "-0.1228  0.1454  0.1039  0.0466  0.0738 -0.1040 -0.1816  0.0411 -0.2212  0.0797\n",
       "-0.1206  0.0406  0.1814 -0.0137 -0.2114  0.0210  0.2176 -0.1778  0.0291  0.1595\n",
       "-0.0783 -0.0019  0.1604 -0.0600  0.0019 -0.0692  0.0207 -0.1815  0.0839  0.1273\n",
       "-0.1341  0.0783  0.1824 -0.0577 -0.1528 -0.1191 -0.2125  0.1883  0.2369 -0.2500\n",
       " 0.1648  0.0894 -0.1841  0.0796 -0.2293 -0.1144 -0.2338  0.0205 -0.0759  0.1131\n",
       " 0.0650 -0.0307 -0.0486  0.2353  0.1615  0.1309  0.0370 -0.0396  0.1900  0.1548\n",
       "\n",
       "Columns 10 to 15 \n",
       " 0.0613 -0.0728  0.0036 -0.0758 -0.1277 -0.2157\n",
       " 0.0821  0.1416  0.0538  0.0811  0.2095 -0.0648\n",
       "-0.0026 -0.1716  0.1139 -0.0851  0.2408 -0.0751\n",
       " 0.1969 -0.1543 -0.2145 -0.2241 -0.2173 -0.2008\n",
       " 0.1798 -0.0741  0.1134 -0.0494 -0.2251 -0.0713\n",
       " 0.1735 -0.1802  0.1000 -0.0088 -0.0866  0.2282\n",
       " 0.0140  0.1442 -0.1145  0.0536 -0.2086 -0.0406\n",
       " 0.1359 -0.2386 -0.0803 -0.2045  0.1561 -0.1504\n",
       "-0.0900 -0.2485  0.2423 -0.1427 -0.1110  0.2351\n",
       " 0.2485 -0.1854 -0.2136  0.1358 -0.1352  0.1509\n",
       " 0.0737 -0.2278 -0.0250  0.0345  0.0142  0.1646\n",
       "[torch.FloatTensor of size 11x16]"
      ]
     },
     "execution_count": 89,
     "metadata": {},
     "output_type": "execute_result"
    }
   ],
   "source": [
    "model[(2)].weight"
   ]
  },
  {
   "cell_type": "code",
   "execution_count": 90,
   "metadata": {
    "collapsed": false
   },
   "outputs": [
    {
     "data": {
      "text/plain": [
       "Parameter containing:\n",
       "\n",
       "Columns 0 to 9 \n",
       "-0.2598  0.0834 -0.1382 -0.0353 -0.0444 -0.2559  0.2151  0.0321  0.1015  0.3011\n",
       " 0.1075 -0.1620  0.0757 -0.1293  0.2741 -0.1676  0.2512 -0.2710  0.0504  0.0973\n",
       "-0.0506  0.0716  0.2833 -0.0760  0.0037 -0.0758 -0.1991 -0.2814 -0.1105  0.2176\n",
       " 0.1669  0.1416 -0.1874 -0.1293 -0.2761  0.1039 -0.1263  0.0640  0.1889 -0.0871\n",
       " 0.2735 -0.1269 -0.1292  0.2416 -0.0678 -0.2446 -0.1967 -0.2441 -0.2961 -0.1960\n",
       " 0.0954 -0.1412 -0.1592 -0.2482 -0.1151  0.2564 -0.0255  0.0160  0.2426  0.0450\n",
       " 0.2376 -0.2212  0.2527 -0.1492 -0.1106  0.0775 -0.1524 -0.2969 -0.2198 -0.1501\n",
       "\n",
       "Columns 10 to 10 \n",
       "-0.2952\n",
       " 0.0653\n",
       " 0.2993\n",
       "-0.1937\n",
       " 0.2559\n",
       "-0.1343\n",
       " 0.1932\n",
       "[torch.FloatTensor of size 7x11]"
      ]
     },
     "execution_count": 90,
     "metadata": {},
     "output_type": "execute_result"
    }
   ],
   "source": [
    "model[(4)].weight"
   ]
  },
  {
   "cell_type": "code",
   "execution_count": 91,
   "metadata": {
    "collapsed": false
   },
   "outputs": [
    {
     "data": {
      "text/plain": [
       "Parameter containing:\n",
       "-0.3353 -0.0517 -0.3013 -0.1436  0.3518 -0.0024 -0.2102\n",
       " 0.3504  0.3406 -0.0499 -0.0773  0.2439  0.1663 -0.3105\n",
       "-0.0282  0.2869  0.2154  0.2290  0.2442 -0.3013  0.2084\n",
       "-0.3604 -0.0225  0.1841 -0.2291 -0.1011  0.0780  0.0779\n",
       " 0.3249 -0.2272 -0.2916 -0.2064 -0.3302  0.3742  0.1099\n",
       "[torch.FloatTensor of size 5x7]"
      ]
     },
     "execution_count": 91,
     "metadata": {},
     "output_type": "execute_result"
    }
   ],
   "source": [
    "model[(6)].weight"
   ]
  },
  {
   "cell_type": "code",
   "execution_count": 92,
   "metadata": {
    "collapsed": false
   },
   "outputs": [
    {
     "data": {
      "text/plain": [
       "Parameter containing:\n",
       "-0.1356  0.0223  0.0855 -0.0509  0.2449\n",
       " 0.2064 -0.1295 -0.3096  0.2675  0.0758\n",
       " 0.2750 -0.2623  0.1045 -0.1829  0.3944\n",
       "[torch.FloatTensor of size 3x5]"
      ]
     },
     "execution_count": 92,
     "metadata": {},
     "output_type": "execute_result"
    }
   ],
   "source": [
    "model[(8)].weight"
   ]
  },
  {
   "cell_type": "code",
   "execution_count": 93,
   "metadata": {
    "collapsed": false
   },
   "outputs": [
    {
     "data": {
      "text/plain": [
       "Parameter containing:\n",
       "-0.2012 -0.4205  0.0763\n",
       " 0.2457  0.4333  0.2924\n",
       "[torch.FloatTensor of size 2x3]"
      ]
     },
     "execution_count": 93,
     "metadata": {},
     "output_type": "execute_result"
    }
   ],
   "source": [
    "model[(10)].weight"
   ]
  },
  {
   "cell_type": "code",
   "execution_count": 94,
   "metadata": {
    "collapsed": false
   },
   "outputs": [
    {
     "data": {
      "text/plain": [
       "Parameter containing:\n",
       "-0.0501  0.3532\n",
       "[torch.FloatTensor of size 1x2]"
      ]
     },
     "execution_count": 94,
     "metadata": {},
     "output_type": "execute_result"
    }
   ],
   "source": [
    "model[(12)].weight"
   ]
  },
  {
   "cell_type": "markdown",
   "metadata": {},
   "source": [
    "## Round 7: Linear Regression"
   ]
  },
  {
   "cell_type": "code",
   "execution_count": 95,
   "metadata": {
    "collapsed": true
   },
   "outputs": [],
   "source": [
    "# Make the torch Tensor into a PyTorch Variable for dependent variables\n",
    "outcomes_Variable = Variable(outcomes_Tensor)\n",
    "\n",
    "\n",
    "# ...for independent variables\n",
    "features_Variable = Variable(features_Tensor,\n",
    "                             requires_grad = False)"
   ]
  },
  {
   "cell_type": "code",
   "execution_count": 96,
   "metadata": {
    "collapsed": true
   },
   "outputs": [],
   "source": [
    "# Make the neural network - really a regression\n",
    "model = torch.nn.Sequential(torch.nn.Linear(24, 1))"
   ]
  },
  {
   "cell_type": "code",
   "execution_count": 97,
   "metadata": {
    "collapsed": false
   },
   "outputs": [],
   "source": [
    "# To add errors to\n",
    "errors = []\n",
    "\n",
    "\n",
    "# Set the learning rate\n",
    "learning_rate = 1e-2\n",
    "\n",
    "\n",
    "# Define the model's optimizer\n",
    "optimizer = torch.optim.Adagrad(model.parameters(), lr = learning_rate)\n",
    "\n",
    "\n",
    "# Train the neural network\n",
    "for t in range(10000):\n",
    "    \n",
    "    # Get the current predictions\n",
    "    y_pred = model(features_Variable)\n",
    "    \n",
    "    # Compute and append current summed errors\n",
    "    loss = loss_fn(y_pred, outcomes_Variable)\n",
    "    errors.append(loss.data[0])\n",
    "    \n",
    "    # Zero the gradients before running the backward pass.\n",
    "    optimizer.zero_grad()\n",
    "    \n",
    "    # Backward pass: compute gradient of the loss with respect to all the learnable Variables\n",
    "    loss.backward()\n",
    "    \n",
    "    # Update the weights using Adagrad\n",
    "    optimizer.step()"
   ]
  },
  {
   "cell_type": "code",
   "execution_count": 98,
   "metadata": {
    "collapsed": false
   },
   "outputs": [
    {
     "data": {
      "text/plain": [
       "<matplotlib.collections.PathCollection at 0x7f9ab1051ac8>"
      ]
     },
     "execution_count": 98,
     "metadata": {},
     "output_type": "execute_result"
    },
    {
     "data": {
      "image/png": "[encoded data removed]",
      "text/plain": [
       "<matplotlib.figure.Figure at 0x7f9ab10e8198>"
      ]
     },
     "metadata": {},
     "output_type": "display_data"
    }
   ],
   "source": [
    "# Plot summed error as a function of iteration\n",
    "plt.scatter(iterations, errors, c = \"black\", alpha = 0.25)"
   ]
  },
  {
   "cell_type": "code",
   "execution_count": 99,
   "metadata": {
    "collapsed": false
   },
   "outputs": [],
   "source": [
    "# Get rid of the 2nd dimension of 1 from the FloatTensor\n",
    "y_pred_resized = y_pred.resize(11959)\n",
    "\n",
    "\n",
    "# Make the FloatTensor into a numpy.array\n",
    "y_pred_array = y_pred_resized.data.numpy()\n",
    "\n",
    "\n",
    "# Make the numpy.array into a list\n",
    "y_pred_list = y_pred_array.tolist()"
   ]
  },
  {
   "cell_type": "code",
   "execution_count": 100,
   "metadata": {
    "collapsed": false
   },
   "outputs": [
    {
     "data": {
      "text/plain": [
       "[<matplotlib.lines.Line2D at 0x7f9ab10a05f8>]"
      ]
     },
     "execution_count": 100,
     "metadata": {},
     "output_type": "execute_result"
    },
    {
     "data": {
      "image/png": "[encoded data removed]",
      "text/plain": [
       "<matplotlib.figure.Figure at 0x7f9ab10a04e0>"
      ]
     },
     "metadata": {},
     "output_type": "display_data"
    }
   ],
   "source": [
    "# Plot predictions versus training set outcomes\n",
    "plt.scatter(outcomes_list, y_pred_list, c = \"black\", alpha = 0.15)\n",
    "\n",
    "axes = plt.gca()\n",
    "\n",
    "axes.set_xlim([-2, 4])\n",
    "\n",
    "axes.set_ylim([-2, 4])\n",
    "\n",
    "plt.plot([-2, 4], [-2, 4], 'k-', lw=2)"
   ]
  },
  {
   "cell_type": "markdown",
   "metadata": {
    "collapsed": false
   },
   "source": [
    "### Round 7.1: Validation Set Performance"
   ]
  },
  {
   "cell_type": "code",
   "execution_count": 101,
   "metadata": {
    "collapsed": false
   },
   "outputs": [
    {
     "data": {
      "text/plain": [
       "Variable containing:\n",
       " 3193.6323\n",
       "[torch.FloatTensor of size 1]"
      ]
     },
     "execution_count": 101,
     "metadata": {},
     "output_type": "execute_result"
    }
   ],
   "source": [
    "# Get the validation set predictions\n",
    "y_valid_pred = model(valid_predictors_Variable)\n",
    "\n",
    "\n",
    "# Print the loss\n",
    "loss_fn(y_valid_pred,\n",
    "        valid_outcomes_Variable)"
   ]
  },
  {
   "cell_type": "code",
   "execution_count": 102,
   "metadata": {
    "collapsed": true
   },
   "outputs": [],
   "source": [
    "# Get rid of the 2nd dimension of 1 from the FloatTensor\n",
    "y_valid_pred_resized = y_valid_pred.resize(3987)\n",
    "\n",
    "\n",
    "# Make the FloatTensor into a numpy.array\n",
    "y_valid_pred_array = y_valid_pred_resized.data.numpy()\n",
    "\n",
    "\n",
    "# Make the numpy.array into a list\n",
    "y_valid_pred_list = y_valid_pred_array.tolist()"
   ]
  },
  {
   "cell_type": "code",
   "execution_count": 103,
   "metadata": {
    "collapsed": false
   },
   "outputs": [
    {
     "data": {
      "text/plain": [
       "[<matplotlib.lines.Line2D at 0x7f9ab0fbb358>]"
      ]
     },
     "execution_count": 103,
     "metadata": {},
     "output_type": "execute_result"
    },
    {
     "data": {
      "image/png": "[encoded data removed]",
      "text/plain": [
       "<matplotlib.figure.Figure at 0x7f9ab0fbb470>"
      ]
     },
     "metadata": {},
     "output_type": "display_data"
    }
   ],
   "source": [
    "# Plot new predictions versus new data outcomes\n",
    "plt.scatter(valid_outcomes_list, y_valid_pred_list, c = \"black\", alpha = 0.15)\n",
    "\n",
    "axes = plt.gca()\n",
    "\n",
    "axes.set_xlim([-2, 4])\n",
    "\n",
    "axes.set_ylim([-2, 4])\n",
    "\n",
    "plt.plot([-2, 4], [-2, 4], 'k-', lw=2)"
   ]
  },
  {
   "cell_type": "code",
   "execution_count": 104,
   "metadata": {
    "collapsed": false
   },
   "outputs": [
    {
     "data": {
      "text/plain": [
       "Parameter containing:\n",
       "\n",
       "Columns 0 to 9 \n",
       "-0.0068  0.1076 -0.0014 -0.0132 -0.0016 -0.0726  0.0413 -0.0035  0.0946  0.0910\n",
       "\n",
       "Columns 10 to 19 \n",
       "-0.0043 -0.0200 -0.0581  0.0439  0.0159  0.0277  0.0027 -0.1834 -0.0437  0.1718\n",
       "\n",
       "Columns 20 to 23 \n",
       " 0.1309  0.0087  0.0447  0.0474\n",
       "[torch.FloatTensor of size 1x24]"
      ]
     },
     "execution_count": 104,
     "metadata": {},
     "output_type": "execute_result"
    }
   ],
   "source": [
    "model[(0)].weight"
   ]
  }
 ],
 "metadata": {
  "kernelspec": {
   "display_name": "Python 3",
   "language": "python",
   "name": "python3"
  },
  "language_info": {
   "codemirror_mode": {
    "name": "ipython",
    "version": 3
   },
   "file_extension": ".py",
   "mimetype": "text/x-python",
   "name": "python",
   "nbconvert_exporter": "python",
   "pygments_lexer": "ipython3",
   "version": "3.6.0"
  }
 },
 "nbformat": 4,
 "nbformat_minor": 2
}
