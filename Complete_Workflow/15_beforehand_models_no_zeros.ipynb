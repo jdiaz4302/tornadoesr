{
 "cells": [
  {
   "cell_type": "markdown",
   "metadata": {},
   "source": [
    "## Setup"
   ]
  },
  {
   "cell_type": "code",
   "execution_count": 1,
   "metadata": {
    "collapsed": true
   },
   "outputs": [],
   "source": [
    "# Packages\n",
    "import pandas as pd\n",
    "import torch\n",
    "from torch.autograd import Variable\n",
    "import numpy as np\n",
    "import matplotlib.pyplot as plt\n",
    "plt.style.use('seaborn-whitegrid')\n",
    "%matplotlib inline\n",
    "import pylab\n",
    "import math"
   ]
  },
  {
   "cell_type": "markdown",
   "metadata": {},
   "source": [
    "Importing and formatting the training data"
   ]
  },
  {
   "cell_type": "code",
   "execution_count": 2,
   "metadata": {
    "collapsed": false
   },
   "outputs": [],
   "source": [
    "# Import data\n",
    "tor_df = pd.read_csv(\"/home/jeremy/github_tornadoesr/data/raw/tor_train_set_no_zeros.csv\")"
   ]
  },
  {
   "cell_type": "code",
   "execution_count": 3,
   "metadata": {
    "collapsed": false
   },
   "outputs": [
    {
     "data": {
      "text/plain": [
       "['DAMAGE_PROPERTY']"
      ]
     },
     "execution_count": 3,
     "metadata": {},
     "output_type": "execute_result"
    }
   ],
   "source": [
    "# Seperating variables\n",
    "# The outcomes\n",
    "tornado_outcome = tor_df.iloc[:, [0]]\n",
    "\n",
    "\n",
    "# Make sure variable is right\n",
    "list(tornado_outcome)"
   ]
  },
  {
   "cell_type": "code",
   "execution_count": 4,
   "metadata": {
    "collapsed": false
   },
   "outputs": [
    {
     "data": {
      "text/plain": [
       "['BEGIN_LAT',\n",
       " 'BEGIN_LON',\n",
       " 'OPEN_WATER_PROP',\n",
       " 'DEV_OPEN_PROP',\n",
       " 'DEV_LOW_PROP',\n",
       " 'DEV_MED_PROP',\n",
       " 'DEV_HIGH_PROP',\n",
       " 'BARREN_LAND_PROP',\n",
       " 'DECID_FOREST_PROP',\n",
       " 'EVERGR_FOREST_PROP',\n",
       " 'MIXED_FOREST_PROP',\n",
       " 'SHRUB_SCRUB_PROP',\n",
       " 'GRASS_LAND_PROP',\n",
       " 'PASTURE_HAY_PROP',\n",
       " 'CULT_CROPS_PROP',\n",
       " 'WOOD_WETLAND_PROP',\n",
       " 'HERB_WETLAND_PROP',\n",
       " 'INCOME',\n",
       " 'MOB_HOME_DENS',\n",
       " 'POP_DENS',\n",
       " 'TOT_DEV_INT',\n",
       " 'TOT_WOOD_AREA',\n",
       " 'WOOD_DEV_INT',\n",
       " 'STATE_RANK']"
      ]
     },
     "execution_count": 4,
     "metadata": {},
     "output_type": "execute_result"
    }
   ],
   "source": [
    "# The predictors\n",
    "tornado_predictors = tor_df.iloc[:, 2:34]\n",
    "\n",
    "# Drop the ones that are irrelevant to this model type\n",
    "tornado_predictors = tornado_predictors.drop([\"TOR_LENGTH\",\n",
    "                                              \"TOR_WIDTH\",\n",
    "                                              \"YEAR\",\n",
    "                                              \"MULTI_VORT_IND\",\n",
    "                                              \"TOR_AREA\",\n",
    "                                              \"EXP_INC_AREA\",\n",
    "                                              \"DAY_OF_YEAR\",\n",
    "                                              \"MONTH\"],\n",
    "                                             axis = 1)\n",
    "\n",
    "\n",
    "# Make sure the variables are right\n",
    "list(tornado_predictors)"
   ]
  },
  {
   "cell_type": "code",
   "execution_count": 5,
   "metadata": {
    "collapsed": false
   },
   "outputs": [],
   "source": [
    "# Make the outcomes into a numpy array\n",
    "outcome_array = tornado_outcome.values\n",
    "\n",
    "# Makes that numpy array into a torch Tensor\n",
    "outcome_Tensor = torch.from_numpy(outcome_array)\n",
    "\n",
    "\n",
    "# Make the predictors into a numpy array\n",
    "predictors_array = tornado_predictors.values\n",
    "\n",
    "# Make that numpy array into a torch Tensor\n",
    "predictors_Tensor = torch.from_numpy(predictors_array)\n",
    "\n",
    "\n",
    "# Convert those DoubleTensors to FloatTensors\n",
    "# Changing outcomes from a DoubleTensor to a FloatTensor\n",
    "outcome_Tensor = outcome_Tensor.float()\n",
    "\n",
    "# Changing predictors too\n",
    "predictors_Tensor = predictors_Tensor.float()"
   ]
  },
  {
   "cell_type": "markdown",
   "metadata": {},
   "source": [
    "Now the cross-validation data"
   ]
  },
  {
   "cell_type": "code",
   "execution_count": 6,
   "metadata": {
    "collapsed": false
   },
   "outputs": [
    {
     "data": {
      "text/plain": [
       "['DAMAGE_PROPERTY']"
      ]
     },
     "execution_count": 6,
     "metadata": {},
     "output_type": "execute_result"
    }
   ],
   "source": [
    "# Import cross-validation data\n",
    "cv_df = pd.read_csv(\"/home/jeremy/github_tornadoesr/data/raw/tor_cv_set_no_zeros.csv\")\n",
    "\n",
    "\n",
    "# Get the outcomes\n",
    "cv_outcome = cv_df.iloc[:, [0]]\n",
    "\n",
    "# Convert the pandas column to a ndarray and then into a FloatTensor\n",
    "cv_outcome_Tensor = torch.from_numpy(cv_outcome.values).float()\n",
    "\n",
    "\n",
    "# Make sure the variable is right\n",
    "list(cv_outcome)"
   ]
  },
  {
   "cell_type": "code",
   "execution_count": 7,
   "metadata": {
    "collapsed": false
   },
   "outputs": [
    {
     "data": {
      "text/plain": [
       "['BEGIN_LAT',\n",
       " 'BEGIN_LON',\n",
       " 'OPEN_WATER_PROP',\n",
       " 'DEV_OPEN_PROP',\n",
       " 'DEV_LOW_PROP',\n",
       " 'DEV_MED_PROP',\n",
       " 'DEV_HIGH_PROP',\n",
       " 'BARREN_LAND_PROP',\n",
       " 'DECID_FOREST_PROP',\n",
       " 'EVERGR_FOREST_PROP',\n",
       " 'MIXED_FOREST_PROP',\n",
       " 'SHRUB_SCRUB_PROP',\n",
       " 'GRASS_LAND_PROP',\n",
       " 'PASTURE_HAY_PROP',\n",
       " 'CULT_CROPS_PROP',\n",
       " 'WOOD_WETLAND_PROP',\n",
       " 'HERB_WETLAND_PROP',\n",
       " 'INCOME',\n",
       " 'MOB_HOME_DENS',\n",
       " 'POP_DENS',\n",
       " 'TOT_DEV_INT',\n",
       " 'TOT_WOOD_AREA',\n",
       " 'WOOD_DEV_INT',\n",
       " 'STATE_RANK']"
      ]
     },
     "execution_count": 7,
     "metadata": {},
     "output_type": "execute_result"
    }
   ],
   "source": [
    "# Get the validation set predictors\n",
    "cv_predictors = cv_df.iloc[:, 2:34]\n",
    "\n",
    "# Drop the irrelevant ones\n",
    "cv_predictors = cv_predictors.drop([\"TOR_LENGTH\", \"TOR_WIDTH\",\n",
    "                                    \"YEAR\", \"MULTI_VORT_IND\",\n",
    "                                    \"TOR_AREA\", \"EXP_INC_AREA\",\n",
    "                                    \"DAY_OF_YEAR\", \"MONTH\"],\n",
    "                                   axis = 1)\n",
    "\n",
    "# Make the validation set predictors into a numpy array\n",
    "cv_predictors_Tensor = torch.from_numpy(cv_predictors.values).float()\n",
    "\n",
    "\n",
    "# Make sure the variables are right\n",
    "list(cv_predictors)"
   ]
  },
  {
   "cell_type": "markdown",
   "metadata": {},
   "source": [
    "Now the test set data"
   ]
  },
  {
   "cell_type": "code",
   "execution_count": 8,
   "metadata": {
    "collapsed": false
   },
   "outputs": [
    {
     "data": {
      "text/plain": [
       "['DAMAGE_PROPERTY']"
      ]
     },
     "execution_count": 8,
     "metadata": {},
     "output_type": "execute_result"
    }
   ],
   "source": [
    "# Import the test set data\n",
    "test_df = pd.read_csv(\"/home/jeremy/github_tornadoesr/data/raw/tor_test_set_no_zeros.csv\")\n",
    "\n",
    "\n",
    "# Get the outcomes\n",
    "test_outcome = test_df.iloc[:, [0]]\n",
    "\n",
    "# Convert the pandas column to a ndarray and then into a FloatTensor\n",
    "test_outcome_Tensor = torch.from_numpy(test_outcome.values).float()\n",
    "\n",
    "\n",
    "# Make sure the variable is right\n",
    "list(test_outcome)"
   ]
  },
  {
   "cell_type": "code",
   "execution_count": 9,
   "metadata": {
    "collapsed": false
   },
   "outputs": [
    {
     "data": {
      "text/plain": [
       "['BEGIN_LAT',\n",
       " 'BEGIN_LON',\n",
       " 'OPEN_WATER_PROP',\n",
       " 'DEV_OPEN_PROP',\n",
       " 'DEV_LOW_PROP',\n",
       " 'DEV_MED_PROP',\n",
       " 'DEV_HIGH_PROP',\n",
       " 'BARREN_LAND_PROP',\n",
       " 'DECID_FOREST_PROP',\n",
       " 'EVERGR_FOREST_PROP',\n",
       " 'MIXED_FOREST_PROP',\n",
       " 'SHRUB_SCRUB_PROP',\n",
       " 'GRASS_LAND_PROP',\n",
       " 'PASTURE_HAY_PROP',\n",
       " 'CULT_CROPS_PROP',\n",
       " 'WOOD_WETLAND_PROP',\n",
       " 'HERB_WETLAND_PROP',\n",
       " 'INCOME',\n",
       " 'MOB_HOME_DENS',\n",
       " 'POP_DENS',\n",
       " 'TOT_DEV_INT',\n",
       " 'TOT_WOOD_AREA',\n",
       " 'WOOD_DEV_INT',\n",
       " 'STATE_RANK']"
      ]
     },
     "execution_count": 9,
     "metadata": {},
     "output_type": "execute_result"
    }
   ],
   "source": [
    "# Get the test set predictors\n",
    "test_predictors = test_df.iloc[:, 2:34]\n",
    "\n",
    "# Drop the irrelevant ones\n",
    "test_predictors = test_predictors.drop([\"TOR_LENGTH\", \"TOR_WIDTH\",\n",
    "                                        \"YEAR\", \"MULTI_VORT_IND\",\n",
    "                                        \"TOR_AREA\", \"EXP_INC_AREA\",\n",
    "                                        \"DAY_OF_YEAR\", \"MONTH\"],\n",
    "                                       axis = 1)\n",
    "\n",
    "# Make the test set predictors into a numpy array\n",
    "test_predictors_Tensor = torch.from_numpy(test_predictors.values).float()\n",
    "\n",
    "\n",
    "# Make sure the variables are right\n",
    "list(test_predictors)"
   ]
  },
  {
   "cell_type": "markdown",
   "metadata": {},
   "source": [
    "## 1. One-Hidden-Layer Neural Network"
   ]
  },
  {
   "cell_type": "markdown",
   "metadata": {},
   "source": [
    "Define the model architecture"
   ]
  },
  {
   "cell_type": "code",
   "execution_count": 10,
   "metadata": {
    "collapsed": false
   },
   "outputs": [],
   "source": [
    "# Define the neural network\n",
    "class Net(torch.nn.Module):\n",
    "    \n",
    "    def __init__(self):\n",
    "        super(Net, self).__init__()\n",
    "        self.fc1 = torch.nn.Linear(24, 16)\n",
    "        self.fc2 = torch.nn.Linear(16, 1)\n",
    "        \n",
    "    def forward(self, x):\n",
    "        x = torch.nn.functional.relu(self.fc1(x))\n",
    "        x = self.fc2(x)\n",
    "        return(x)\n",
    "\n",
    "\n",
    "# Make it\n",
    "model = Net()"
   ]
  },
  {
   "cell_type": "markdown",
   "metadata": {},
   "source": [
    "Define the loss function"
   ]
  },
  {
   "cell_type": "code",
   "execution_count": 11,
   "metadata": {
    "collapsed": true
   },
   "outputs": [],
   "source": [
    "loss_fn = torch.nn.MSELoss(size_average = False)"
   ]
  },
  {
   "cell_type": "markdown",
   "metadata": {},
   "source": [
    "Defining a function to setup and train the models. It will also produce a loss versus iteration plot"
   ]
  },
  {
   "cell_type": "code",
   "execution_count": 12,
   "metadata": {
    "collapsed": false
   },
   "outputs": [],
   "source": [
    "def train_neural_net(model, train_outcomes, train_inputs,\n",
    "                     cv_outcomes, cv_inputs):\n",
    "    \n",
    "    # This function will train the neural network and produce a loss versus iteration plot\n",
    "    # model = the model architecture\n",
    "    # train_outcomes = the right answers\n",
    "    # train_inputs = what we're using to get to the right answers\n",
    "    # cv_outcomes = the right answers of the new data\n",
    "    # cv_inputs = what we're using to get the new right answers\n",
    "    \n",
    "    \n",
    "    # Make the outcomes into a Torch Variable\n",
    "    outcome_Variable = Variable(train_outcomes)\n",
    "    \n",
    "    # Make the cv outcomes into a Torch Variable\n",
    "    cv_outcome_Variable = Variable(cv_outcomes,\n",
    "                                   requires_grad = False)\n",
    "    \n",
    "    # Make the predictors into a Torch Variable\n",
    "    predictors_Variable = Variable(train_inputs,\n",
    "                                   requires_grad = False)\n",
    "    \n",
    "    # Make the cv predictors into a Torch Variable\n",
    "    cv_predictors_Variable = Variable(cv_inputs,\n",
    "                                      requires_grad = False)\n",
    "    \n",
    "    \n",
    "    # Make an empty list to add to for each iteration\n",
    "    current_loss_value = []\n",
    "    \n",
    "    # For the cv too\n",
    "    current_cv_loss_value = []\n",
    "    \n",
    "    \n",
    "    # Set the optimizer\n",
    "    optimizer = torch.optim.Adagrad(model.parameters(), lr = 1e-2)\n",
    "    \n",
    "    \n",
    "    # Train the neural network\n",
    "    for t in range(15000):\n",
    "        \n",
    "        # Get the current predictions\n",
    "        current_pred = model(predictors_Variable)\n",
    "        cv_pred = model(cv_predictors_Variable)\n",
    "        \n",
    "        # Compute current loss and and append that to the empty list\n",
    "        current_loss = loss_fn(current_pred, outcome_Variable)\n",
    "        current_loss_value.append(current_loss.data[0])\n",
    "        \n",
    "        current_cv_loss = loss_fn(cv_pred, cv_outcome_Variable)\n",
    "        current_cv_loss_value.append(current_cv_loss.data[0])\n",
    "        \n",
    "        # Zero the gradients before backwards pass\n",
    "        optimizer.zero_grad()\n",
    "        \n",
    "        # Backwards pass\n",
    "        current_loss.backward()\n",
    "        \n",
    "        # Update model parameters\n",
    "        optimizer.step()\n",
    "    \n",
    "    \n",
    "    # Get iterations as a list for x-axis of plot\n",
    "    iterations = list(range(0, 15000))\n",
    "    \n",
    "    \n",
    "    # Convert total square error to mean square error\n",
    "    mse = (np.asarray(current_loss_value) / len(predictors_Variable)).tolist()\n",
    "    \n",
    "    # For cv too\n",
    "    mse_cv = (np.asarray(current_cv_loss_value) / len(cv_predictors_Variable)).tolist()\n",
    "    \n",
    "    \n",
    "    # Plot loss versus iteration\n",
    "    plt.plot(iterations, mse)\n",
    "    plt.plot(iterations, mse_cv, \"r-\")\n",
    "    plt.xlabel(\"Iteration\")\n",
    "    plt.ylabel(\"Loss Value\")\n",
    "    plt.title(\"How'd the Optimizing Go?\")"
   ]
  },
  {
   "cell_type": "markdown",
   "metadata": {},
   "source": [
    "Train the first model.\n",
    "\n",
    "The plot will display how well it optimized. The blue line is the data the model was optimized on, while the red line is new (cross-validation) data."
   ]
  },
  {
   "cell_type": "code",
   "execution_count": 13,
   "metadata": {
    "collapsed": false
   },
   "outputs": [
    {
     "data": {
      "image/png": "[encoded data removed]",
      "text/plain": [
       "<matplotlib.figure.Figure at 0x7f58908a9978>"
      ]
     },
     "metadata": {},
     "output_type": "display_data"
    }
   ],
   "source": [
    "train_neural_net(model, outcome_Tensor, predictors_Tensor,\n",
    "                 cv_outcome_Tensor, cv_predictors_Tensor)"
   ]
  },
  {
   "cell_type": "markdown",
   "metadata": {},
   "source": [
    "### 1.1 Performance Metrics"
   ]
  },
  {
   "cell_type": "markdown",
   "metadata": {},
   "source": [
    "We're really interested in how it does on new data, so let's get some metrics of its performance on the new data.\n",
    "\n",
    "First: Mean squared error (MSE)"
   ]
  },
  {
   "cell_type": "code",
   "execution_count": 14,
   "metadata": {
    "collapsed": false
   },
   "outputs": [],
   "source": [
    "def compute_MSE(predictors, observed_outcomes):\n",
    "    \n",
    "    # Computes the mean squared error of the model\n",
    "    # predictors = the variables and values used in prediction\n",
    "    # observed_outcomes = what the prediction would ideally yield\n",
    "\n",
    "    \n",
    "    # Get the validation set predictions\n",
    "    cv_predictions = model(Variable(predictors, requires_grad = False))\n",
    "    \n",
    "    # Get the validation set outcomes\n",
    "    cv_outcomes = Variable(observed_outcomes)\n",
    "    \n",
    "    \n",
    "    # Get the loss - (total) residual sum of squares\n",
    "    total_SE = loss_fn(cv_predictions, cv_outcomes)\n",
    "    \n",
    "    # Average that to get mean square error\n",
    "    mean_SE = total_SE / len(predictors)\n",
    "    return(mean_SE)"
   ]
  },
  {
   "cell_type": "code",
   "execution_count": 15,
   "metadata": {
    "collapsed": false
   },
   "outputs": [
    {
     "data": {
      "text/plain": [
       "Variable containing:\n",
       " 0.1672\n",
       "[torch.FloatTensor of size 1]"
      ]
     },
     "execution_count": 15,
     "metadata": {},
     "output_type": "execute_result"
    }
   ],
   "source": [
    "MSE = compute_MSE(cv_predictors_Tensor, cv_outcome_Tensor)\n",
    "MSE"
   ]
  },
  {
   "cell_type": "code",
   "execution_count": 16,
   "metadata": {
    "collapsed": false
   },
   "outputs": [],
   "source": [
    "def compute_R_squared(predictors, observed_outcomes):\n",
    "    \n",
    "    # Computes R-squared of the model\n",
    "    # predictors = the variables and values used in prediction\n",
    "    # observed_outcomes = what the prediction would ideally yield\n",
    "    \n",
    "    \n",
    "    # Get the mean of the observed outcomes\n",
    "    observed_mean = (sum(observed_outcomes) / len(observed_outcomes)).numpy()[0]\n",
    "    \n",
    "    # Fill an ndarray with that\n",
    "    valid_outcomes_mean = np.repeat(observed_mean, len(observed_outcomes))\n",
    "    \n",
    "    # Convert that to a Variable\n",
    "    valid_outcomes_mean = Variable(torch.from_numpy(valid_outcomes_mean))\n",
    "    \n",
    "    \n",
    "    # Compute total sum of squares\n",
    "    TSS = loss_fn(valid_outcomes_mean, Variable(observed_outcomes))\n",
    "    \n",
    "    \n",
    "    # Compute residual sum of squares\n",
    "    RSS = loss_fn(model(Variable(predictors)), Variable(observed_outcomes))\n",
    "    \n",
    "    \n",
    "    # Compute R-squared\n",
    "    R_squared = 1 - (RSS / TSS)\n",
    "    return(R_squared)"
   ]
  },
  {
   "cell_type": "code",
   "execution_count": 17,
   "metadata": {
    "collapsed": false
   },
   "outputs": [
    {
     "data": {
      "text/plain": [
       "Variable containing:\n",
       "1.00000e-02 *\n",
       "  1.2111\n",
       "[torch.FloatTensor of size 1]"
      ]
     },
     "execution_count": 17,
     "metadata": {},
     "output_type": "execute_result"
    }
   ],
   "source": [
    "R_squared = compute_R_squared(cv_predictors_Tensor, cv_outcome_Tensor)\n",
    "R_squared"
   ]
  },
  {
   "cell_type": "markdown",
   "metadata": {},
   "source": [
    "### 1.2 Performance Visualization"
   ]
  },
  {
   "cell_type": "markdown",
   "metadata": {},
   "source": [
    "In log-transformed space, plot predicted values versus observed values for new data"
   ]
  },
  {
   "cell_type": "code",
   "execution_count": 18,
   "metadata": {
    "collapsed": true
   },
   "outputs": [],
   "source": [
    "def plot_cross_valid_perf(cv_predictors, cv_obs):\n",
    "    \n",
    "    # Plots how well the model performs on new data\n",
    "    # cv_pred = the values that the model predicts from\n",
    "    # cv_obs = what the model would ideally predict\n",
    "    \n",
    "    \n",
    "    # Get the predictions\n",
    "    cv_predictions = model(Variable(cv_predictors, requires_grad = False))\n",
    "    \n",
    "    # Convert that to a numpy array\n",
    "    cv_predictions = cv_predictions.data.numpy()\n",
    "    \n",
    "    # Put it in log-transformed scale and convert it to a list\n",
    "    cv_predictions = (cv_predictions*5.407597 + 7.688844).tolist()\n",
    "    \n",
    "    \n",
    "    # Put the observed outcomes in log-transformed scale\n",
    "    # and convert it to a list\n",
    "    cv_obs = (cv_obs.numpy()*5.407597 + 7.688844).tolist()\n",
    "    \n",
    "    \n",
    "    # Plot it\n",
    "    plt.scatter(cv_obs, cv_predictions, facecolors = \"none\", edgecolors = \"k\")\n",
    "    axes = plt.gca()\n",
    "    axes.set_xlim([-1, 24])\n",
    "    axes.set_ylim([-1, 24])\n",
    "    axes.set_xticks([0, 3, 6, 9, 12, 15, 18, 21, 24])\n",
    "    axes.set_yticks([0, 3, 6, 9, 12, 15, 18, 21, 24])\n",
    "    plt.plot([-1, 24], [-1, 24], 'k-', lw = 2)\n",
    "    axes.set_xlabel(\"Observed (Log-Transformed US Dollars + 1)\")\n",
    "    axes.set_ylabel(\"Predicted (Log-Transformed US Dollars + 1)\")\n",
    "    axes.set_title(\"Model Performance on Cross-Validation Data\")\n",
    "    plt.text(0.5, 21, r\"$R^2$ = %s\"%(R_squared.data.numpy()[0]))\n",
    "    plt.text(0.5, 19, \"MSE = %s\"%(MSE.data.numpy()[0]))"
   ]
  },
  {
   "cell_type": "code",
   "execution_count": 19,
   "metadata": {
    "collapsed": false
   },
   "outputs": [
    {
     "data": {
      "image/png": "[encoded data removed]",
      "text/plain": [
       "<matplotlib.figure.Figure at 0x7f58ec4f1668>"
      ]
     },
     "metadata": {},
     "output_type": "display_data"
    }
   ],
   "source": [
    "plot_cross_valid_perf(cv_predictors_Tensor, cv_outcome_Tensor)"
   ]
  },
  {
   "cell_type": "markdown",
   "metadata": {},
   "source": [
    "Lastly, let's inspect the first hidden layer's weights"
   ]
  },
  {
   "cell_type": "code",
   "execution_count": 20,
   "metadata": {
    "collapsed": false
   },
   "outputs": [
    {
     "data": {
      "text/plain": [
       "Parameter containing:\n",
       "\n",
       "Columns 0 to 9 \n",
       "-0.0283  0.1946  0.0667  0.0294  0.2777  0.1906  0.2916 -0.0754 -0.0506 -0.2131\n",
       "-0.1335 -0.4457 -0.0940 -0.1621 -0.1324 -0.2012  0.1137 -0.2139 -0.1060 -0.0301\n",
       " 0.0490 -0.0556 -0.1547  0.0294 -0.1267 -0.2225  0.2207  0.1149  0.1351 -0.5017\n",
       " 0.2009  0.0018 -0.0070  0.0719  0.0385  0.0132 -0.2148  0.1948  0.0997  0.0495\n",
       " 0.4395  0.1123 -0.2793 -0.1893  0.0874 -0.1052  0.1729 -0.1801  0.2560  0.5680\n",
       "-0.1252 -0.0566  0.0221  0.2152  0.1185  0.2529  0.0669 -0.0551  0.0498  0.0129\n",
       " 0.0964  0.1504  0.1634 -0.1826 -0.1727  0.2321 -0.0302  0.1730 -0.0817  0.0523\n",
       " 0.1219 -0.1629 -0.0728  0.1465  0.1521 -0.2265  0.3129  0.0275  0.1754  0.1475\n",
       "-0.2472 -0.0444  0.3039  0.1506 -0.0138  0.1300  0.2376  0.1668  0.2184  0.2951\n",
       "-0.2169 -0.4233  0.1145  0.3395  0.3032  0.2811 -0.3462  0.0541  0.1412 -0.1767\n",
       "-0.1710  0.0608  0.0139 -0.1282 -0.0639 -0.2516  0.1479 -0.0643 -0.2336 -0.0500\n",
       "-0.2636  0.4152  0.1738  0.1364  0.3776 -0.1428  0.3932  0.1434 -0.0113  0.2026\n",
       "-0.2839  0.1680  0.0179 -0.2994 -0.0501 -0.5499  0.1362  0.1589  0.1806 -0.0649\n",
       "-0.0683 -0.2094 -0.2147 -0.2502 -0.0577  0.0420  0.1393 -0.1385 -0.0078  0.3062\n",
       " 0.0859 -0.0328 -0.0267  0.3815 -0.2796  0.4007 -0.1034  0.0821  0.1449  0.3054\n",
       "-0.4333 -0.4803  0.0036  0.0280  0.5061 -0.7943 -0.2921 -0.1810  0.2207 -0.1180\n",
       "\n",
       "Columns 10 to 19 \n",
       " 0.0648 -0.1894 -0.2270 -0.2644  0.2960 -0.0833 -0.0554 -0.0048  0.0838 -0.1793\n",
       "-0.0039  0.2353  0.1105  0.0276 -0.1015  0.0920  0.1744  0.0739  0.2660  0.0713\n",
       "-0.1537 -0.0593 -0.1685  0.0900  0.0469 -0.1958 -0.0775  0.1554 -0.2376  0.3013\n",
       " 0.0189  0.2419  0.1123  0.0783  0.2365 -0.2612  0.2149  0.0348  0.1017  0.0706\n",
       "-0.0251 -0.2455 -0.1381 -0.0003  0.0595 -0.0461  0.1912  0.0942  0.2973 -0.0592\n",
       "-0.1372  0.2817  0.1344  0.0934 -0.3291  0.0612  0.1311 -0.2394  0.0611 -0.0147\n",
       "-0.2501  0.1165 -0.2065  0.0557 -0.3105 -0.0386 -0.2647  0.0252  0.1290  0.0043\n",
       "-0.1740 -0.1287 -0.3061  0.0310  0.0678 -0.1902 -0.0691  0.2753 -0.1501  0.1913\n",
       "-0.0573 -0.2772 -0.0259  0.2086  0.3934 -0.0222 -0.0966  0.1209 -0.0465 -0.1660\n",
       "-0.1574 -0.0388 -0.1874  0.1527 -0.2434 -0.1493 -0.2283 -0.3242  0.0898 -0.0129\n",
       " 0.1078 -0.1466  0.2227 -0.0058  0.1820  0.1523  0.0297 -0.0454  0.0124  0.0013\n",
       "-0.0734 -0.0892  0.0116 -0.2406 -0.0650  0.0831 -0.0498  0.1375  0.0518 -0.3469\n",
       " 0.0319 -0.1689 -0.0387 -0.1157  0.2240 -0.3937  0.0384  0.2539 -0.2034  0.0077\n",
       "-0.1831  0.3188 -0.0722 -0.4850  0.7415  0.0382  0.0603  0.4259 -0.1558 -0.1251\n",
       " 0.3683 -0.0596  0.1418 -0.6163 -0.0342 -0.0786  0.2202  0.2818 -0.3909  0.1340\n",
       " 0.0859 -0.1939 -0.0688  0.0759 -0.0298 -0.1365 -0.0981  0.1336  0.0305  0.0074\n",
       "\n",
       "Columns 20 to 23 \n",
       "-0.2211 -0.0777 -0.3162  0.1789\n",
       " 0.1339  0.0827  0.1008 -0.4183\n",
       " 0.0811 -0.1679  0.1733 -0.0606\n",
       "-0.2601  0.2347 -0.2194  0.0432\n",
       " 0.5746 -0.0276  0.0424 -0.3777\n",
       "-0.3689 -0.2283  0.0927 -0.2948\n",
       " 0.2304  0.1388 -0.1130 -0.1849\n",
       "-0.0281 -0.2163  0.0793 -0.0895\n",
       "-0.0912 -0.2926 -0.0607 -0.0562\n",
       "-0.4435 -0.1110 -0.0045 -0.4561\n",
       "-0.0840  0.2147  0.0631  0.0129\n",
       "-0.0187 -0.2150  0.0570 -0.3413\n",
       " 0.4421  0.0779  0.0758 -0.0463\n",
       " 0.2464  0.0238  0.2382 -0.1044\n",
       " 0.2375  0.2138  0.5025 -0.3157\n",
       " 0.3429  0.2639  0.0265 -0.1065\n",
       "[torch.FloatTensor of size 16x24]"
      ]
     },
     "execution_count": 20,
     "metadata": {},
     "output_type": "execute_result"
    }
   ],
   "source": [
    "model.fc1.weight"
   ]
  },
  {
   "cell_type": "markdown",
   "metadata": {},
   "source": [
    "### 1.3 Store Predictions"
   ]
  },
  {
   "cell_type": "code",
   "execution_count": 21,
   "metadata": {
    "collapsed": true
   },
   "outputs": [],
   "source": [
    "def obs_as_col(obs_Tens):\n",
    "    \n",
    "    # Saves observed outcomes as a pandas column\n",
    "    # obs_Tens = a Tensor containing observed outcomes\n",
    "    \n",
    "    \n",
    "    # Convert the Tensor to a list\n",
    "    obs_list = obs_Tens.numpy().tolist()\n",
    "    \n",
    "    \n",
    "    # Make an empty list\n",
    "    obs_flat_list = []\n",
    "    \n",
    "    \n",
    "    # Unnest the Tensor-list into the empty list\n",
    "    for sublist in obs_list:\n",
    "        for val in sublist:\n",
    "            obs_flat_list.append(val)\n",
    "    \n",
    "    \n",
    "    # Turn that list into a pandas DataFrame\n",
    "    obs_pd_column = pd.DataFrame(obs_flat_list)\n",
    "    return(obs_pd_column)"
   ]
  },
  {
   "cell_type": "code",
   "execution_count": 22,
   "metadata": {
    "collapsed": true
   },
   "outputs": [],
   "source": [
    "cv_stored = obs_as_col(cv_outcome_Tensor)\n",
    "\n",
    "cv_stored.columns = [\"observed\"]"
   ]
  },
  {
   "cell_type": "code",
   "execution_count": 23,
   "metadata": {
    "collapsed": true
   },
   "outputs": [],
   "source": [
    "test_stored = obs_as_col(test_outcome_Tensor)\n",
    "\n",
    "test_stored.columns = [\"observed\"]"
   ]
  },
  {
   "cell_type": "code",
   "execution_count": 24,
   "metadata": {
    "collapsed": false
   },
   "outputs": [],
   "source": [
    "def add_to_stored(new_col_name, pred_Tens, already_made):\n",
    "    \n",
    "    model_pred = model(Variable(pred_Tens)).resize(len(pred_Tens))\n",
    "    \n",
    "    model_pred = model_pred.data.numpy()\n",
    "    \n",
    "    already_made[new_col_name] = pd.Series(model_pred, index = already_made.index)"
   ]
  },
  {
   "cell_type": "code",
   "execution_count": 25,
   "metadata": {
    "collapsed": false
   },
   "outputs": [],
   "source": [
    "add_to_stored(\"cv_pred_1\", cv_predictors_Tensor, cv_stored)\n",
    "\n",
    "add_to_stored(\"test_pred_1\", test_predictors_Tensor, test_stored)"
   ]
  },
  {
   "cell_type": "markdown",
   "metadata": {},
   "source": [
    "## 2. Two-Hidden-Layer Neural Network"
   ]
  },
  {
   "cell_type": "code",
   "execution_count": 26,
   "metadata": {
    "collapsed": true
   },
   "outputs": [],
   "source": [
    "# Define the neural network\n",
    "class Net(torch.nn.Module):\n",
    "    \n",
    "    def __init__(self):\n",
    "        super(Net, self).__init__()\n",
    "        self.fc1 = torch.nn.Linear(24, 16)\n",
    "        self.fc2 = torch.nn.Linear(16, 11)\n",
    "        self.fc3 = torch.nn.Linear(11, 1)\n",
    "        \n",
    "    def forward(self, x):\n",
    "        x = torch.nn.functional.relu(self.fc1(x))\n",
    "        x = torch.nn.functional.relu(self.fc2(x))\n",
    "        x = self.fc3(x)\n",
    "        return(x)\n",
    "\n",
    "\n",
    "# Make it\n",
    "model = Net()"
   ]
  },
  {
   "cell_type": "code",
   "execution_count": 27,
   "metadata": {
    "collapsed": false
   },
   "outputs": [
    {
     "data": {
      "image/png": "[encoded data removed]",
      "text/plain": [
       "<matplotlib.figure.Figure at 0x7f588cb312e8>"
      ]
     },
     "metadata": {},
     "output_type": "display_data"
    }
   ],
   "source": [
    "train_neural_net(model, outcome_Tensor, predictors_Tensor,\n",
    "                 cv_outcome_Tensor, cv_predictors_Tensor)"
   ]
  },
  {
   "cell_type": "markdown",
   "metadata": {},
   "source": [
    "### 2.1 Performance Metrics"
   ]
  },
  {
   "cell_type": "code",
   "execution_count": 28,
   "metadata": {
    "collapsed": false
   },
   "outputs": [
    {
     "data": {
      "text/plain": [
       "Variable containing:\n",
       " 0.1795\n",
       "[torch.FloatTensor of size 1]"
      ]
     },
     "execution_count": 28,
     "metadata": {},
     "output_type": "execute_result"
    }
   ],
   "source": [
    "MSE = compute_MSE(cv_predictors_Tensor, cv_outcome_Tensor)\n",
    "MSE"
   ]
  },
  {
   "cell_type": "code",
   "execution_count": 29,
   "metadata": {
    "collapsed": false
   },
   "outputs": [
    {
     "data": {
      "text/plain": [
       "Variable containing:\n",
       "1.00000e-02 *\n",
       " -6.0300\n",
       "[torch.FloatTensor of size 1]"
      ]
     },
     "execution_count": 29,
     "metadata": {},
     "output_type": "execute_result"
    }
   ],
   "source": [
    "R_squared = compute_R_squared(cv_predictors_Tensor, cv_outcome_Tensor)\n",
    "R_squared"
   ]
  },
  {
   "cell_type": "markdown",
   "metadata": {},
   "source": [
    "### 2.2 Performance Visualization"
   ]
  },
  {
   "cell_type": "code",
   "execution_count": 30,
   "metadata": {
    "collapsed": false
   },
   "outputs": [
    {
     "data": {
      "image/png": "[encoded data removed]",
      "text/plain": [
       "<matplotlib.figure.Figure at 0x7f588c1c5d68>"
      ]
     },
     "metadata": {},
     "output_type": "display_data"
    }
   ],
   "source": [
    "plot_cross_valid_perf(cv_predictors_Tensor, cv_outcome_Tensor)"
   ]
  },
  {
   "cell_type": "code",
   "execution_count": 31,
   "metadata": {
    "collapsed": false
   },
   "outputs": [
    {
     "data": {
      "text/plain": [
       "Parameter containing:\n",
       "\n",
       "Columns 0 to 9 \n",
       " 0.0398  0.1429 -0.2277  0.1043  0.0285 -0.1235  0.0335 -0.1572  0.0122 -0.2632\n",
       "-0.1906 -0.0972 -0.1709 -0.0410 -0.3897  0.1006 -0.0201 -0.1095 -0.1509 -0.2737\n",
       "-0.0500  0.1038  0.0346 -0.0911 -0.0257  0.4049 -0.2282  0.2934 -0.0010 -0.4339\n",
       " 0.0410  0.3440 -0.3663  0.0894 -0.1398  0.0249 -0.0706  0.0577  0.0270 -0.1774\n",
       "-0.2349  0.1327 -0.0990 -0.1928  0.1707 -0.1682  0.2921 -0.0158  0.0939 -0.1693\n",
       "-0.2034  0.1151 -0.0679 -0.1145 -0.2516 -0.1624 -0.0184  0.0180 -0.0077  0.2388\n",
       "-0.1598  0.1781  0.3436 -0.1609 -0.0458 -0.0261  0.0024  0.0880  0.2620  0.0734\n",
       " 0.4571  0.3661 -0.1506  0.0819 -0.3539  0.4986 -0.3081  0.0417 -0.1517  0.0330\n",
       " 0.2284 -0.3748  0.0676 -0.0160 -0.2358  0.3706 -0.3918  0.0418 -0.1072  0.1681\n",
       " 0.2713  0.4544  0.0618 -0.0087 -0.0371  0.5454  0.1135  0.0514  0.1816 -0.0309\n",
       "-0.2818  0.0318  0.2170 -0.2535 -0.2748 -0.1211 -0.0836  0.1444 -0.0540 -0.3941\n",
       "-0.0044 -0.0462  0.0763  0.1885  0.1616 -0.0290  0.3230 -0.3509 -0.0888 -0.0289\n",
       "-0.0376 -0.1942 -0.2087  0.0816 -0.1420  0.2200  0.0501 -0.1711  0.1607 -0.0198\n",
       "-0.0126 -0.0824 -0.1221 -0.0382  0.1486  0.0270 -0.0395  0.0066  0.3695  0.2441\n",
       " 0.5636  0.1880 -0.2743  0.1550 -0.4119  0.4375 -0.1704  0.0931 -0.1453  0.0011\n",
       "-0.4988  0.3009  0.0895 -0.2479 -0.1685 -0.3758  0.3320 -0.1847  0.2163 -0.0686\n",
       "\n",
       "Columns 10 to 19 \n",
       " 0.1658  0.0997  0.0297  0.3190  0.1186 -0.0909 -0.0490 -0.0340  0.0389 -0.0674\n",
       "-0.2001 -0.1985 -0.4198 -0.0580 -0.2546 -0.3185  0.0195 -0.1328 -0.1735  0.2048\n",
       "-0.0979  0.0473  0.3338 -0.1688  0.1250  0.0092 -0.2685  0.0573 -0.1741 -0.0787\n",
       "-0.0034 -0.1028 -0.2749  0.1625 -0.0125 -0.2682 -0.1288 -0.2204 -0.1826  0.0203\n",
       "-0.0660  0.4379  0.0108 -0.0399 -0.0887  0.0584  0.0285  0.0217  0.0962 -0.1809\n",
       "-0.1849  0.1244 -0.1580 -0.0445 -0.1074  0.1978 -0.2781 -0.1226  0.0556  0.0765\n",
       " 0.2173 -0.0938  0.3193  0.1741 -0.3450 -0.1232  0.0366 -0.0632 -0.1502  0.0860\n",
       " 0.2277 -0.0544  0.4691  0.0130 -0.2924 -0.0002 -0.2245 -0.0128  0.0524 -0.1589\n",
       " 0.0066  0.2292  0.0209 -0.0352  0.0509  0.2575  0.0664  0.0616 -0.1265  0.1256\n",
       "-0.2409 -0.0655  0.0288  0.3732 -0.1104  0.0681  0.0984 -0.1553  0.2867 -0.1577\n",
       "-0.1925  0.0483  0.2835 -0.1254  0.1600  0.0055 -0.2165  0.2528  0.1545  0.2338\n",
       " 0.1102 -0.1195  0.1386 -0.0106  0.2858  0.0220  0.0849 -0.1059  0.0755  0.0225\n",
       " 0.0837  0.1921 -0.1873  0.1863  0.0911  0.1990 -0.0028  0.0144  0.1168 -0.0097\n",
       "-0.0525  0.1115 -0.3015 -0.0257  0.1760  0.1225  0.1479  0.0869  0.1516 -0.1323\n",
       "-0.0052  0.0434  0.1667 -0.0896 -0.2390 -0.1377 -0.0079 -0.0733  0.0710 -0.0637\n",
       " 0.0380 -0.2617 -0.0682 -0.1603  0.3004  0.1873 -0.1872  0.1866  0.3533 -0.1274\n",
       "\n",
       "Columns 20 to 23 \n",
       "-0.1503 -0.0292 -0.3297  0.0795\n",
       " 0.1294 -0.4131  0.1687 -0.1477\n",
       " 0.1177  0.1110 -0.0081  0.0769\n",
       " 0.0878 -0.1708 -0.0670 -0.3510\n",
       "-0.0060 -0.1537 -0.0285 -0.6650\n",
       " 0.0855  0.1302 -0.0578  0.0658\n",
       " 0.2371 -0.1221 -0.1178 -0.0478\n",
       " 0.1079  0.0060 -0.1859  0.0259\n",
       " 0.3483  0.1606  0.1483 -0.1954\n",
       "-0.2207 -0.2430  0.0063 -0.0173\n",
       " 0.4102 -0.0430 -0.2901  0.3138\n",
       " 0.0209  0.4254 -0.2027  0.2300\n",
       "-0.3324 -0.0685 -0.1322  0.2906\n",
       " 0.2457  0.0261 -0.3320 -0.3350\n",
       " 0.0838  0.2336  0.1901 -0.1924\n",
       " 0.2008 -0.1329 -0.2236  0.0207\n",
       "[torch.FloatTensor of size 16x24]"
      ]
     },
     "execution_count": 31,
     "metadata": {},
     "output_type": "execute_result"
    }
   ],
   "source": [
    "model.fc1.weight"
   ]
  },
  {
   "cell_type": "markdown",
   "metadata": {},
   "source": [
    "### 2.3 Store Predictions"
   ]
  },
  {
   "cell_type": "code",
   "execution_count": 32,
   "metadata": {
    "collapsed": true
   },
   "outputs": [],
   "source": [
    "add_to_stored(\"cv_pred_2\", cv_predictors_Tensor, cv_stored)\n",
    "\n",
    "add_to_stored(\"test_pred_2\", test_predictors_Tensor, test_stored)"
   ]
  },
  {
   "cell_type": "markdown",
   "metadata": {},
   "source": [
    "## 3. Three-Hidden-Layer Neural Network"
   ]
  },
  {
   "cell_type": "code",
   "execution_count": 33,
   "metadata": {
    "collapsed": true
   },
   "outputs": [],
   "source": [
    "# Define the neural network\n",
    "class Net(torch.nn.Module):\n",
    "    \n",
    "    def __init__(self):\n",
    "        super(Net, self).__init__()\n",
    "        self.fc1 = torch.nn.Linear(24, 16)\n",
    "        self.fc2 = torch.nn.Linear(16, 11)\n",
    "        self.fc3 = torch.nn.Linear(11, 7)\n",
    "        self.fc4 = torch.nn.Linear(7, 1)\n",
    "        \n",
    "    def forward(self, x):\n",
    "        x = torch.nn.functional.relu(self.fc1(x))\n",
    "        x = torch.nn.functional.relu(self.fc2(x))\n",
    "        x = torch.nn.functional.relu(self.fc3(x))\n",
    "        x = self.fc4(x)\n",
    "        return(x)\n",
    "\n",
    "\n",
    "# Make it\n",
    "model = Net()"
   ]
  },
  {
   "cell_type": "code",
   "execution_count": 34,
   "metadata": {
    "collapsed": false
   },
   "outputs": [
    {
     "data": {
      "image/png": "[encoded data removed]",
      "text/plain": [
       "<matplotlib.figure.Figure at 0x7f588cd0e390>"
      ]
     },
     "metadata": {},
     "output_type": "display_data"
    }
   ],
   "source": [
    "train_neural_net(model, outcome_Tensor, predictors_Tensor,\n",
    "                 cv_outcome_Tensor, cv_predictors_Tensor)"
   ]
  },
  {
   "cell_type": "markdown",
   "metadata": {},
   "source": [
    "### 3.1 Performance Metrics"
   ]
  },
  {
   "cell_type": "code",
   "execution_count": 35,
   "metadata": {
    "collapsed": false
   },
   "outputs": [
    {
     "data": {
      "text/plain": [
       "Variable containing:\n",
       " 0.1808\n",
       "[torch.FloatTensor of size 1]"
      ]
     },
     "execution_count": 35,
     "metadata": {},
     "output_type": "execute_result"
    }
   ],
   "source": [
    "MSE = compute_MSE(cv_predictors_Tensor, cv_outcome_Tensor)\n",
    "MSE"
   ]
  },
  {
   "cell_type": "code",
   "execution_count": 36,
   "metadata": {
    "collapsed": false
   },
   "outputs": [
    {
     "data": {
      "text/plain": [
       "Variable containing:\n",
       "1.00000e-02 *\n",
       " -6.8051\n",
       "[torch.FloatTensor of size 1]"
      ]
     },
     "execution_count": 36,
     "metadata": {},
     "output_type": "execute_result"
    }
   ],
   "source": [
    "R_squared = compute_R_squared(cv_predictors_Tensor, cv_outcome_Tensor)\n",
    "R_squared"
   ]
  },
  {
   "cell_type": "markdown",
   "metadata": {},
   "source": [
    "### 3.2 Performance Visualization"
   ]
  },
  {
   "cell_type": "code",
   "execution_count": 37,
   "metadata": {
    "collapsed": false
   },
   "outputs": [
    {
     "data": {
      "image/png": "[encoded data removed]",
      "text/plain": [
       "<matplotlib.figure.Figure at 0x7f588c092550>"
      ]
     },
     "metadata": {},
     "output_type": "display_data"
    }
   ],
   "source": [
    "plot_cross_valid_perf(cv_predictors_Tensor, cv_outcome_Tensor)"
   ]
  },
  {
   "cell_type": "code",
   "execution_count": 38,
   "metadata": {
    "collapsed": false
   },
   "outputs": [
    {
     "data": {
      "text/plain": [
       "Parameter containing:\n",
       "\n",
       "Columns 0 to 9 \n",
       " 0.2365 -0.2864 -0.1966  0.1814 -0.1232  0.3098  0.1498  0.0930 -0.1834 -0.1076\n",
       "-0.0135  0.0217 -0.1474  0.0957  0.2467  0.3260  0.1103  0.1632 -0.1609 -0.0038\n",
       "-0.1293 -0.1021  0.0429  0.0475  0.2786 -0.1255  0.0249 -0.2584  0.0544 -0.0229\n",
       "-0.2974 -0.1788  0.1513  0.2458 -0.1392 -0.3883  0.2204 -0.3617  0.1693 -0.4745\n",
       "-0.0764  0.0351  0.1899 -0.0484 -0.1797  0.2996  0.2735 -0.0457 -0.3190  0.1521\n",
       " 0.3090  0.2038 -0.2292  0.1503  0.1641  0.3211 -0.0271 -0.2029  0.1445 -0.0374\n",
       "-0.3650  0.1439  0.2491 -0.0419 -0.0473  0.0600  0.3544 -0.3666  0.1418  0.3437\n",
       "-0.0781 -0.2406  0.0041  0.0242 -0.1124  0.1722 -0.3007  0.3522  0.1837 -0.0477\n",
       "-0.1668 -0.6614 -0.0190  0.0262 -0.1199  0.0787 -0.0278  0.2114 -0.0383  0.0747\n",
       " 0.1185 -0.3198 -0.1216  0.1197 -0.2132  0.1196 -0.0573 -0.0628 -0.0977 -0.0105\n",
       " 0.0674 -0.0274 -0.1670  0.0411  0.0739  0.1819 -0.1413  0.0763 -0.0575  0.3807\n",
       "-0.3090 -0.0170  0.2122  0.0987  0.1233  0.0565 -0.2604  0.1383  0.1528  0.1638\n",
       " 0.2192 -0.2430 -0.1024  0.2706  0.0376 -0.0458  0.1036  0.0489  0.0775  0.1936\n",
       " 0.0281 -0.0169 -0.0184 -0.0960 -0.0941 -0.0234  0.0032  0.0339  0.1354 -0.2285\n",
       "-0.3859 -0.1503  0.0777  0.0815  0.1941 -0.3508 -0.0144 -0.2567 -0.1075 -0.0424\n",
       " 0.0306 -0.5925 -0.2402  0.1327  0.0397 -0.2024 -0.1850  0.2790  0.0650  0.2192\n",
       "\n",
       "Columns 10 to 19 \n",
       "-0.1880  0.0597 -0.2055  0.1038 -0.0345 -0.0533  0.0110 -0.2784 -0.1691  0.0124\n",
       " 0.1633  0.1222 -0.3151 -0.0789  0.0345  0.1264  0.0224  0.2482  0.1608 -0.0341\n",
       " 0.0428 -0.2869  0.1076  0.2579  0.0351  0.1118 -0.0426 -0.0676  0.3235 -0.4800\n",
       " 0.0671 -0.1783  0.0038 -0.1939  0.2718  0.7086 -0.3820  0.2357 -0.0024  0.1048\n",
       " 0.1087  0.2139 -0.2349  0.3841 -0.0484 -0.1285  0.0626  0.1206  0.1395 -0.0145\n",
       " 0.1734  0.2651  0.0379 -0.4710  0.2604  0.0023 -0.1611  0.1283  0.1670  0.2850\n",
       "-0.1890  0.2550 -0.1211  0.0559 -0.0430 -0.1915 -0.5499  0.1391 -0.0275 -0.0255\n",
       " 0.0735  0.3067 -0.0472 -0.0060 -0.0101 -0.2332 -0.0539  0.3533  0.1275  0.0322\n",
       " 0.0061  0.0809 -0.0618  0.0285 -0.3025  0.0634  0.0925 -0.0332 -0.1634  0.0709\n",
       " 0.0313 -0.1998 -0.1438  0.1543  0.0080  0.4711 -0.1379 -0.2095 -0.0521 -0.0869\n",
       "-0.0715 -0.0875 -0.3255 -0.3425  0.2201  0.4933 -0.0432 -0.0349 -0.1832 -0.0909\n",
       " 0.2520  0.0143  0.0377 -0.0109 -0.2142  0.0510  0.0102  0.2176  0.0690 -0.0017\n",
       " 0.1806 -0.0769  0.1181  0.1842 -0.2291  0.1763 -0.0137 -0.1791 -0.0793  0.0843\n",
       "-0.0989 -0.2593  0.0252 -0.0395  0.1251  0.3331  0.0107  0.0132  0.1110  0.0670\n",
       " 0.2421 -0.0320 -0.0388  0.2580 -0.0044  0.4348 -0.4381  0.1222  0.0153 -0.1039\n",
       "-0.0457  0.3659  0.0231  0.0372 -0.1787 -0.0138  0.0927  0.0540 -0.0595  0.0002\n",
       "\n",
       "Columns 20 to 23 \n",
       " 0.0018  0.0319 -0.5713  0.1900\n",
       "-0.5237  0.3061 -0.1576  0.4571\n",
       "-0.1948 -0.3971 -0.1220  0.0347\n",
       "-0.0507  0.0624 -0.0096  0.2355\n",
       "-0.2157  0.3891 -0.3733  0.1357\n",
       "-0.2810  0.0873  0.1338 -0.1167\n",
       " 0.2369 -0.1516  0.0148  0.3142\n",
       " 0.3177  0.1215  0.4173 -0.0547\n",
       " 0.1751 -0.0987 -0.3289 -0.2338\n",
       "-0.0310 -0.3365  0.0072  0.0654\n",
       " 0.2250 -0.5864 -0.0921  0.0912\n",
       " 0.3859  0.1040  0.0014  0.0247\n",
       "-0.0800  0.0887  0.1762  0.0186\n",
       "-0.0506  0.1672  0.0798  0.0041\n",
       "-0.1209  0.0762  0.0482 -0.1137\n",
       "-0.1911  0.3339  0.0007  0.0564\n",
       "[torch.FloatTensor of size 16x24]"
      ]
     },
     "execution_count": 38,
     "metadata": {},
     "output_type": "execute_result"
    }
   ],
   "source": [
    "model.fc1.weight"
   ]
  },
  {
   "cell_type": "markdown",
   "metadata": {},
   "source": [
    "### 3.3 Store Predictions"
   ]
  },
  {
   "cell_type": "code",
   "execution_count": 39,
   "metadata": {
    "collapsed": true
   },
   "outputs": [],
   "source": [
    "add_to_stored(\"cv_pred_3\", cv_predictors_Tensor, cv_stored)\n",
    "\n",
    "add_to_stored(\"test_pred_3\", test_predictors_Tensor, test_stored)"
   ]
  },
  {
   "cell_type": "markdown",
   "metadata": {},
   "source": [
    "## 4. Four-Hidden-Layer Neural Network"
   ]
  },
  {
   "cell_type": "code",
   "execution_count": 40,
   "metadata": {
    "collapsed": true
   },
   "outputs": [],
   "source": [
    "# Define the neural network\n",
    "class Net(torch.nn.Module):\n",
    "    \n",
    "    def __init__(self):\n",
    "        super(Net, self).__init__()\n",
    "        self.fc1 = torch.nn.Linear(24, 16)\n",
    "        self.fc2 = torch.nn.Linear(16, 11)\n",
    "        self.fc3 = torch.nn.Linear(11, 7)\n",
    "        self.fc4 = torch.nn.Linear(7, 5)\n",
    "        self.fc5 = torch.nn.Linear(5, 1)\n",
    "        \n",
    "    def forward(self, x):\n",
    "        x = torch.nn.functional.relu(self.fc1(x))\n",
    "        x = torch.nn.functional.relu(self.fc2(x))\n",
    "        x = torch.nn.functional.relu(self.fc3(x))\n",
    "        x = torch.nn.functional.relu(self.fc4(x))\n",
    "        x = self.fc5(x)\n",
    "        return(x)\n",
    "\n",
    "\n",
    "# Make it\n",
    "model = Net()"
   ]
  },
  {
   "cell_type": "code",
   "execution_count": 41,
   "metadata": {
    "collapsed": false
   },
   "outputs": [
    {
     "data": {
      "image/png": "[encoded data removed]",
      "text/plain": [
       "<matplotlib.figure.Figure at 0x7f588cc7b1d0>"
      ]
     },
     "metadata": {},
     "output_type": "display_data"
    }
   ],
   "source": [
    "train_neural_net(model, outcome_Tensor, predictors_Tensor,\n",
    "                 cv_outcome_Tensor, cv_predictors_Tensor)"
   ]
  },
  {
   "cell_type": "markdown",
   "metadata": {},
   "source": [
    "### 4.1 Performance Metrics"
   ]
  },
  {
   "cell_type": "code",
   "execution_count": 42,
   "metadata": {
    "collapsed": false
   },
   "outputs": [
    {
     "data": {
      "text/plain": [
       "Variable containing:\n",
       " 0.1755\n",
       "[torch.FloatTensor of size 1]"
      ]
     },
     "execution_count": 42,
     "metadata": {},
     "output_type": "execute_result"
    }
   ],
   "source": [
    "MSE = compute_MSE(cv_predictors_Tensor, cv_outcome_Tensor)\n",
    "MSE"
   ]
  },
  {
   "cell_type": "code",
   "execution_count": 43,
   "metadata": {
    "collapsed": false
   },
   "outputs": [
    {
     "data": {
      "text/plain": [
       "Variable containing:\n",
       "1.00000e-02 *\n",
       " -3.6686\n",
       "[torch.FloatTensor of size 1]"
      ]
     },
     "execution_count": 43,
     "metadata": {},
     "output_type": "execute_result"
    }
   ],
   "source": [
    "R_squared = compute_R_squared(cv_predictors_Tensor, cv_outcome_Tensor)\n",
    "R_squared"
   ]
  },
  {
   "cell_type": "markdown",
   "metadata": {},
   "source": [
    "### 4.2 Performance Visualization"
   ]
  },
  {
   "cell_type": "code",
   "execution_count": 44,
   "metadata": {
    "collapsed": false
   },
   "outputs": [
    {
     "data": {
      "image/png": "[encoded data removed]",
      "text/plain": [
       "<matplotlib.figure.Figure at 0x7f5884edefd0>"
      ]
     },
     "metadata": {},
     "output_type": "display_data"
    }
   ],
   "source": [
    "plot_cross_valid_perf(cv_predictors_Tensor, cv_outcome_Tensor)"
   ]
  },
  {
   "cell_type": "code",
   "execution_count": 45,
   "metadata": {
    "collapsed": false
   },
   "outputs": [
    {
     "data": {
      "text/plain": [
       "Parameter containing:\n",
       "\n",
       "Columns 0 to 9 \n",
       "-0.1141  0.1341 -0.0065 -0.0994 -0.1294 -0.0419 -0.2937  0.2680  0.2652  0.2096\n",
       "-0.2420  0.1147  0.0720 -0.1147 -0.0860 -0.0866 -0.2455  0.2582  0.2335  0.2749\n",
       "-0.0935 -0.1241  0.0469  0.1005 -0.0222 -0.0876  0.0790  0.0572 -0.1173  0.2056\n",
       "-0.1402 -0.2244  0.1627  0.2794  0.0264 -0.1741  0.1455 -0.1206  0.2216  0.0664\n",
       " 0.0381  0.3187  0.1846 -0.2137 -0.0124  0.2179  0.1000  0.1640 -0.5056 -0.2436\n",
       " 0.1090  0.2277  0.0309 -0.1119 -0.0044  0.1853 -0.2431  0.0629  0.1836  0.1840\n",
       " 0.0207  0.1155  0.1422 -0.1939  0.0699 -0.4990  0.2146 -0.0855  0.1340  0.0991\n",
       " 0.0355  0.1985  0.0005  0.2607  0.0294 -0.2013  0.2377  0.0844  0.2488 -0.2552\n",
       " 0.1338  0.3079 -0.0386 -0.0728  0.3970 -0.0200  0.0391 -0.1111  0.3908  0.1206\n",
       "-0.0743  0.0235 -0.0032  0.0776  0.2023  0.0818  0.1797  0.1226  0.1986 -0.1197\n",
       " 0.2051 -0.0927 -0.1262  0.2812  0.1574  0.0634 -0.0503 -0.0220 -0.3930  0.1023\n",
       "-0.2675  0.0860 -0.0824  0.2004 -0.0972 -0.0857 -0.0710 -0.1917  0.3344 -0.1179\n",
       " 0.0791  0.0155  0.0582  0.2909  0.1337  0.1132  0.2659 -0.2654  0.1066  0.1229\n",
       " 0.2432  0.2121 -0.0434  0.1330  0.0789  0.2559  0.0331  0.0917  0.2898 -0.0359\n",
       " 0.1321  0.5450  0.0224  0.1249  0.0754  0.0242  0.1595  0.0335  0.1397 -0.0362\n",
       " 0.1776 -0.2452  0.0192  0.0677  0.0139  0.0781 -0.2014 -0.2335  0.2977  0.2557\n",
       "\n",
       "Columns 10 to 19 \n",
       " 0.1133 -0.0021  0.1739  0.0455 -0.1654  0.0732 -0.0883 -0.0641 -0.0734 -0.0294\n",
       " 0.1626 -0.0118  0.0862 -0.1512 -0.2696  0.0245 -0.1748 -0.0681 -0.0306 -0.0866\n",
       "-0.0989  0.0402 -0.2171  0.1060 -0.0784 -0.2246  0.0705 -0.1078  0.1891 -0.0209\n",
       "-0.2008 -0.3060 -0.1180 -0.0470  0.1819 -0.3474 -0.0539  0.2948 -0.2119 -0.1254\n",
       "-0.0207 -0.0368 -0.0998 -0.1372  0.2643  0.3050 -0.1749  0.1170 -0.0777  0.0209\n",
       " 0.0197  0.1656  0.3320  0.0011 -0.0105  0.0581  0.0561  0.0629  0.2935  0.1264\n",
       "-0.2494 -0.0741 -0.0621 -0.1707  0.2275  0.4560 -0.0975  0.1071  0.1183  0.2024\n",
       "-0.2678 -0.0806  0.0309  0.3090 -0.0617  0.1961  0.2282 -0.0732  0.0904 -0.2666\n",
       " 0.0301 -0.0787 -0.0997  0.0524  0.0327  0.0227  0.0297  0.1134  0.0690  0.1022\n",
       "-0.2543 -0.1545 -0.1692  0.1382  0.2201  0.2626  0.3679  0.2370 -0.1425  0.0856\n",
       "-0.1142  0.0142 -0.3387 -0.2632  0.2176  0.1337  0.2028  0.0116 -0.3736 -0.2726\n",
       " 0.3228  0.1271  0.4057 -0.1710  0.1184  0.1150  0.0633  0.0581  0.1239 -0.4017\n",
       "-0.1437 -0.0690  0.0175 -0.0482  0.1232  0.0068  0.1641  0.0233  0.0475 -0.0323\n",
       "-0.1891  0.1524  0.0449  0.1270 -0.0062  0.1111  0.0326  0.1825  0.0009  0.1301\n",
       "-0.1367  0.0877  0.1033  0.1434 -0.0419  0.1669 -0.0348  0.1099  0.0204  0.0555\n",
       " 0.0886  0.0233  0.2149  0.0661  0.0482  0.1117  0.1245  0.1083  0.3060 -0.2072\n",
       "\n",
       "Columns 20 to 23 \n",
       " 0.3766  0.0076  0.0909  0.0313\n",
       " 0.0305  0.0955 -0.0625 -0.0167\n",
       " 0.1494  0.0570 -0.0363  0.1687\n",
       " 0.0936 -0.1953 -0.2332 -0.3895\n",
       " 0.1321 -0.1979  0.1727 -0.0602\n",
       "-0.4167 -0.1170  0.0109 -0.1605\n",
       " 0.0611 -0.4846 -0.0991  0.0348\n",
       "-0.3328 -0.0006 -0.3030  0.0847\n",
       "-0.2000  0.1640 -0.0078 -0.2462\n",
       " 0.1568  0.0695  0.1782 -0.2900\n",
       "-0.0919 -0.1429 -0.2167  0.0315\n",
       " 0.0339  0.0246 -0.0500  0.3062\n",
       "-0.1356 -0.1748 -0.0787  0.0300\n",
       "-0.1037 -0.1153 -0.2617 -0.0448\n",
       "-0.0883 -0.0922 -0.2835  0.0304\n",
       "-0.0520  0.0107  0.2759  0.1158\n",
       "[torch.FloatTensor of size 16x24]"
      ]
     },
     "execution_count": 45,
     "metadata": {},
     "output_type": "execute_result"
    }
   ],
   "source": [
    "model.fc1.weight"
   ]
  },
  {
   "cell_type": "markdown",
   "metadata": {},
   "source": [
    "### 4.3 Store Predictions"
   ]
  },
  {
   "cell_type": "code",
   "execution_count": 46,
   "metadata": {
    "collapsed": true
   },
   "outputs": [],
   "source": [
    "add_to_stored(\"cv_pred_4\", cv_predictors_Tensor, cv_stored)\n",
    "\n",
    "add_to_stored(\"test_pred_4\", test_predictors_Tensor, test_stored)"
   ]
  },
  {
   "cell_type": "markdown",
   "metadata": {},
   "source": [
    "## 5. Five-Hidden-Layer Neural Network"
   ]
  },
  {
   "cell_type": "code",
   "execution_count": 47,
   "metadata": {
    "collapsed": true
   },
   "outputs": [],
   "source": [
    "# Define the neural network\n",
    "class Net(torch.nn.Module):\n",
    "    \n",
    "    def __init__(self):\n",
    "        super(Net, self).__init__()\n",
    "        self.fc1 = torch.nn.Linear(24, 16)\n",
    "        self.fc2 = torch.nn.Linear(16, 11)\n",
    "        self.fc3 = torch.nn.Linear(11, 7)\n",
    "        self.fc4 = torch.nn.Linear(7, 5)\n",
    "        self.fc5 = torch.nn.Linear(5, 3)\n",
    "        self.fc6 = torch.nn.Linear(3, 1)\n",
    "        \n",
    "    def forward(self, x):\n",
    "        x = torch.nn.functional.relu(self.fc1(x))\n",
    "        x = torch.nn.functional.relu(self.fc2(x))\n",
    "        x = torch.nn.functional.relu(self.fc3(x))\n",
    "        x = torch.nn.functional.relu(self.fc4(x))\n",
    "        x = torch.nn.functional.relu(self.fc5(x))\n",
    "        x = self.fc6(x)\n",
    "        return(x)\n",
    "\n",
    "\n",
    "# Make it\n",
    "model = Net()"
   ]
  },
  {
   "cell_type": "code",
   "execution_count": 48,
   "metadata": {
    "collapsed": false
   },
   "outputs": [
    {
     "data": {
      "image/png": "[encoded data removed]",
      "text/plain": [
       "<matplotlib.figure.Figure at 0x7f588c175940>"
      ]
     },
     "metadata": {},
     "output_type": "display_data"
    }
   ],
   "source": [
    "train_neural_net(model, outcome_Tensor, predictors_Tensor,\n",
    "                 cv_outcome_Tensor, cv_predictors_Tensor)"
   ]
  },
  {
   "cell_type": "markdown",
   "metadata": {},
   "source": [
    "### 5.1 Performance Metrics"
   ]
  },
  {
   "cell_type": "code",
   "execution_count": 49,
   "metadata": {
    "collapsed": false
   },
   "outputs": [
    {
     "data": {
      "text/plain": [
       "Variable containing:\n",
       " 0.1693\n",
       "[torch.FloatTensor of size 1]"
      ]
     },
     "execution_count": 49,
     "metadata": {},
     "output_type": "execute_result"
    }
   ],
   "source": [
    "MSE = compute_MSE(cv_predictors_Tensor, cv_outcome_Tensor)\n",
    "MSE"
   ]
  },
  {
   "cell_type": "code",
   "execution_count": 50,
   "metadata": {
    "collapsed": false
   },
   "outputs": [
    {
     "data": {
      "text/plain": [
       "Variable containing:\n",
       "1.00000e-05 *\n",
       " -5.3287\n",
       "[torch.FloatTensor of size 1]"
      ]
     },
     "execution_count": 50,
     "metadata": {},
     "output_type": "execute_result"
    }
   ],
   "source": [
    "R_squared = compute_R_squared(cv_predictors_Tensor, cv_outcome_Tensor)\n",
    "R_squared"
   ]
  },
  {
   "cell_type": "markdown",
   "metadata": {},
   "source": [
    "### 5.2 Performance Visualization"
   ]
  },
  {
   "cell_type": "code",
   "execution_count": 51,
   "metadata": {
    "collapsed": false
   },
   "outputs": [
    {
     "data": {
      "image/png": "[encoded data removed]",
      "text/plain": [
       "<matplotlib.figure.Figure at 0x7f58e027d5f8>"
      ]
     },
     "metadata": {},
     "output_type": "display_data"
    }
   ],
   "source": [
    "plot_cross_valid_perf(cv_predictors_Tensor, cv_outcome_Tensor)"
   ]
  },
  {
   "cell_type": "code",
   "execution_count": 52,
   "metadata": {
    "collapsed": false
   },
   "outputs": [
    {
     "data": {
      "text/plain": [
       "Parameter containing:\n",
       "\n",
       "Columns 0 to 9 \n",
       "-0.1277  0.0113  0.0379 -0.0967  0.0025 -0.0256 -0.0207  0.1715 -0.0849  0.0630\n",
       "-0.1109 -0.0520 -0.1201  0.1308  0.0640  0.1754  0.1196  0.1364 -0.0556 -0.1363\n",
       " 0.0258  0.0051  0.1552 -0.0386  0.0858  0.0611  0.0716 -0.1170 -0.1666  0.1906\n",
       " 0.0893  0.0561 -0.1435 -0.2031 -0.1709 -0.0211 -0.1706 -0.0820 -0.1829 -0.1203\n",
       " 0.1665  0.0273 -0.0485 -0.0244 -0.1954  0.1340 -0.1270 -0.1256  0.1504  0.1044\n",
       " 0.1412  0.1978  0.0199  0.0212 -0.0281 -0.1567  0.1621  0.0146  0.2037 -0.0810\n",
       "-0.1993 -0.1474 -0.0619  0.0722 -0.0801 -0.1737  0.1330  0.0895 -0.0075  0.1990\n",
       "-0.1589  0.1439 -0.1674  0.1446 -0.1967 -0.0903  0.1594  0.0799  0.1136 -0.0441\n",
       " 0.1817  0.0549  0.1708  0.1704 -0.0064  0.1163  0.1384  0.0164 -0.0947  0.0981\n",
       "-0.1696  0.1908 -0.1660 -0.1158  0.0027  0.0042 -0.1574  0.1371 -0.0925  0.1060\n",
       " 0.0186 -0.1727 -0.2028 -0.1347  0.0523 -0.0576 -0.1299  0.1286 -0.0996  0.0645\n",
       "-0.1640  0.1747  0.0423 -0.0235 -0.1580  0.1428 -0.1170 -0.0648 -0.1109 -0.0432\n",
       "-0.1472 -0.1144  0.0408 -0.1719 -0.0465  0.1969 -0.1632 -0.1868  0.0912 -0.1413\n",
       " 0.0280  0.1304 -0.0601  0.1568 -0.1243  0.1980  0.1288  0.1521 -0.1375  0.0982\n",
       "-0.0673 -0.1433  0.1957 -0.1048  0.0681  0.0758  0.0091 -0.0243 -0.0365  0.0037\n",
       " 0.1206  0.1452  0.0448 -0.1350  0.0562 -0.2024  0.0871  0.0617  0.0527  0.0848\n",
       "\n",
       "Columns 10 to 19 \n",
       "-0.0478 -0.1199  0.0535 -0.0892  0.1557  0.0341  0.1255  0.1047  0.0252  0.1542\n",
       "-0.0511 -0.0725 -0.1231  0.0459 -0.1037  0.0622  0.1327 -0.1609 -0.1757  0.0467\n",
       " 0.0709  0.1656  0.0617 -0.1309  0.0159  0.0602 -0.1433 -0.0707  0.0214  0.0228\n",
       "-0.1159 -0.0331 -0.1717 -0.1480 -0.2027  0.0974 -0.0708 -0.2006  0.0323  0.0853\n",
       " 0.0171  0.0940  0.1312 -0.0580  0.1132  0.1340 -0.1716 -0.0198 -0.0126  0.1952\n",
       "-0.1211  0.1039  0.1829 -0.1618  0.1080 -0.1985  0.1217 -0.1680  0.1805  0.0710\n",
       "-0.0180 -0.0391 -0.0822 -0.1329 -0.0303 -0.1352 -0.0369  0.0045  0.1544  0.0659\n",
       " 0.1245  0.0996  0.1846  0.1073  0.0012 -0.1875 -0.0802  0.1917  0.0336  0.1470\n",
       " 0.0229  0.1528  0.1447  0.0991 -0.1180 -0.0039 -0.0500  0.0168 -0.1883 -0.1692\n",
       " 0.1838 -0.0381 -0.0992  0.1968  0.0588  0.1030  0.1061 -0.1147  0.2008  0.0220\n",
       " 0.1844  0.0182  0.0112  0.1634 -0.1465  0.1688  0.1134  0.1685 -0.1105  0.1115\n",
       " 0.0400 -0.1229  0.1844  0.0827 -0.0190 -0.0926 -0.0389  0.1108  0.1926  0.0275\n",
       "-0.1245 -0.0213  0.0989 -0.0021 -0.1968 -0.0056 -0.0702  0.0611  0.2030 -0.1413\n",
       "-0.1816  0.0505 -0.0180  0.1267 -0.1305  0.1105 -0.1878  0.1414  0.1509  0.1060\n",
       "-0.0919 -0.1858 -0.1373 -0.1830  0.1988  0.0343  0.0792  0.1818 -0.1122  0.1303\n",
       "-0.0753  0.0253  0.0081 -0.1669 -0.0290 -0.0488  0.1765  0.1559 -0.0991 -0.0536\n",
       "\n",
       "Columns 20 to 23 \n",
       " 0.0111  0.0804  0.1946 -0.1154\n",
       " 0.1132  0.1383  0.0681 -0.1353\n",
       " 0.1792  0.1425 -0.0060 -0.1216\n",
       " 0.0672  0.0633 -0.1861  0.1970\n",
       "-0.1510  0.1303  0.1570 -0.0650\n",
       "-0.0525  0.0189  0.0626  0.1191\n",
       " 0.1453 -0.0461  0.0972  0.0029\n",
       " 0.0752  0.0267 -0.0367 -0.1900\n",
       "-0.0318  0.2000  0.1607  0.0525\n",
       "-0.0240  0.0593 -0.0013  0.1884\n",
       " 0.1661 -0.1566 -0.1805  0.1780\n",
       " 0.1698 -0.0827 -0.1931  0.0331\n",
       "-0.1518  0.0208 -0.0074 -0.1636\n",
       "-0.0301  0.0958  0.1790 -0.1232\n",
       "-0.1423  0.2026  0.0025  0.0512\n",
       " 0.0950  0.1474 -0.0622 -0.0446\n",
       "[torch.FloatTensor of size 16x24]"
      ]
     },
     "execution_count": 52,
     "metadata": {},
     "output_type": "execute_result"
    }
   ],
   "source": [
    "model.fc1.weight"
   ]
  },
  {
   "cell_type": "markdown",
   "metadata": {},
   "source": [
    "### 5.3 Store Predictions"
   ]
  },
  {
   "cell_type": "code",
   "execution_count": 53,
   "metadata": {
    "collapsed": true
   },
   "outputs": [],
   "source": [
    "add_to_stored(\"cv_pred_5\", cv_predictors_Tensor, cv_stored)\n",
    "\n",
    "add_to_stored(\"test_pred_5\", test_predictors_Tensor, test_stored)"
   ]
  },
  {
   "cell_type": "markdown",
   "metadata": {},
   "source": [
    "## 6. Six-Hidden-Layer Neural Network"
   ]
  },
  {
   "cell_type": "code",
   "execution_count": 54,
   "metadata": {
    "collapsed": true
   },
   "outputs": [],
   "source": [
    "# Define the neural network\n",
    "class Net(torch.nn.Module):\n",
    "    \n",
    "    def __init__(self):\n",
    "        super(Net, self).__init__()\n",
    "        self.fc1 = torch.nn.Linear(24, 16)\n",
    "        self.fc2 = torch.nn.Linear(16, 11)\n",
    "        self.fc3 = torch.nn.Linear(11, 7)\n",
    "        self.fc4 = torch.nn.Linear(7, 5)\n",
    "        self.fc5 = torch.nn.Linear(5, 3)\n",
    "        self.fc6 = torch.nn.Linear(3, 2)\n",
    "        self.fc7 = torch.nn.Linear(2, 1)\n",
    "        \n",
    "    def forward(self, x):\n",
    "        x = torch.nn.functional.relu(self.fc1(x))\n",
    "        x = torch.nn.functional.relu(self.fc2(x))\n",
    "        x = torch.nn.functional.relu(self.fc3(x))\n",
    "        x = torch.nn.functional.relu(self.fc4(x))\n",
    "        x = torch.nn.functional.relu(self.fc5(x))\n",
    "        x = torch.nn.functional.relu(self.fc6(x))\n",
    "        x = self.fc7(x)\n",
    "        return(x)\n",
    "\n",
    "\n",
    "# Make it\n",
    "model = Net()"
   ]
  },
  {
   "cell_type": "code",
   "execution_count": 55,
   "metadata": {
    "collapsed": false
   },
   "outputs": [
    {
     "data": {
      "image/png": "[encoded data removed]",
      "text/plain": [
       "<matplotlib.figure.Figure at 0x7f5884f0acf8>"
      ]
     },
     "metadata": {},
     "output_type": "display_data"
    }
   ],
   "source": [
    "train_neural_net(model, outcome_Tensor, predictors_Tensor,\n",
    "                 cv_outcome_Tensor, cv_predictors_Tensor)"
   ]
  },
  {
   "cell_type": "markdown",
   "metadata": {},
   "source": [
    "### 6.1 Performance Metrics"
   ]
  },
  {
   "cell_type": "code",
   "execution_count": 56,
   "metadata": {
    "collapsed": false
   },
   "outputs": [
    {
     "data": {
      "text/plain": [
       "Variable containing:\n",
       " 0.1693\n",
       "[torch.FloatTensor of size 1]"
      ]
     },
     "execution_count": 56,
     "metadata": {},
     "output_type": "execute_result"
    }
   ],
   "source": [
    "MSE = compute_MSE(cv_predictors_Tensor, cv_outcome_Tensor)\n",
    "MSE"
   ]
  },
  {
   "cell_type": "code",
   "execution_count": 57,
   "metadata": {
    "collapsed": false
   },
   "outputs": [
    {
     "data": {
      "text/plain": [
       "Variable containing:\n",
       "1.00000e-05 *\n",
       " -5.1737\n",
       "[torch.FloatTensor of size 1]"
      ]
     },
     "execution_count": 57,
     "metadata": {},
     "output_type": "execute_result"
    }
   ],
   "source": [
    "R_squared = compute_R_squared(cv_predictors_Tensor, cv_outcome_Tensor)\n",
    "R_squared"
   ]
  },
  {
   "cell_type": "markdown",
   "metadata": {},
   "source": [
    "### 6.2 Performance Visualization"
   ]
  },
  {
   "cell_type": "code",
   "execution_count": 58,
   "metadata": {
    "collapsed": false
   },
   "outputs": [
    {
     "data": {
      "image/png": "[encoded data removed]",
      "text/plain": [
       "<matplotlib.figure.Figure at 0x7f588c27a320>"
      ]
     },
     "metadata": {},
     "output_type": "display_data"
    }
   ],
   "source": [
    "plot_cross_valid_perf(cv_predictors_Tensor, cv_outcome_Tensor)"
   ]
  },
  {
   "cell_type": "code",
   "execution_count": 59,
   "metadata": {
    "collapsed": false
   },
   "outputs": [
    {
     "data": {
      "text/plain": [
       "Parameter containing:\n",
       "\n",
       "Columns 0 to 9 \n",
       "-0.1161  0.0465  0.1993 -0.1482  0.0909 -0.0269  0.0281 -0.0262  0.0751 -0.0068\n",
       " 0.2037  0.0358 -0.0884 -0.1987 -0.2024  0.1454 -0.1008  0.0127  0.1329 -0.1640\n",
       " 0.1129 -0.0972  0.1642 -0.0889  0.0362 -0.0948 -0.0243 -0.0622  0.1536 -0.0235\n",
       " 0.1692  0.0630 -0.1406  0.0783 -0.0160  0.0465 -0.1247  0.0850  0.0252  0.1371\n",
       " 0.1165 -0.1873  0.1990 -0.1488 -0.1589  0.0616 -0.0612 -0.1371 -0.0611  0.0317\n",
       "-0.1607 -0.0165 -0.0810 -0.0473 -0.1993  0.1778 -0.1815 -0.1169  0.1595  0.0391\n",
       " 0.1946  0.0968  0.0128 -0.0695  0.0174 -0.1435  0.0614  0.1246 -0.1174 -0.1139\n",
       "-0.1817  0.0386 -0.1443  0.1889 -0.0488  0.1066  0.1865 -0.1254 -0.0497 -0.1858\n",
       " 0.0819  0.1049 -0.1424  0.0749 -0.1423  0.1193  0.0133  0.0811  0.0477  0.1815\n",
       " 0.0075 -0.0302 -0.2039 -0.1966 -0.1827  0.0001  0.1399  0.0044  0.0312  0.0207\n",
       " 0.0155 -0.1058  0.1124 -0.1070 -0.1961 -0.2013  0.0283  0.0775  0.1790 -0.0541\n",
       " 0.0350  0.2030  0.0980  0.0479  0.1780 -0.1607  0.0260  0.1675 -0.0062  0.0968\n",
       " 0.1995 -0.1755 -0.1131  0.2003  0.0749  0.1850  0.2037 -0.1196  0.1086  0.0632\n",
       "-0.0259  0.1924 -0.0537  0.1750 -0.1591 -0.0636  0.0157  0.1680 -0.1077 -0.1185\n",
       " 0.0795 -0.2036 -0.1000 -0.0247  0.0064  0.1891 -0.0378 -0.0538  0.1458 -0.0214\n",
       "-0.0324 -0.1582 -0.0338 -0.0142 -0.0519 -0.2013  0.0482  0.0929  0.0948 -0.1558\n",
       "\n",
       "Columns 10 to 19 \n",
       "-0.0749  0.0701 -0.1594  0.1925  0.1264 -0.0877  0.1881  0.0523  0.0874  0.0198\n",
       " 0.0591 -0.1620  0.1569  0.0029 -0.1499  0.0280  0.1250  0.0854 -0.0185  0.1800\n",
       "-0.0552 -0.0859  0.1518 -0.1390  0.1155 -0.0893  0.1213 -0.1713 -0.0183  0.0979\n",
       " 0.1859 -0.0367 -0.0835 -0.0309  0.1515 -0.2040 -0.1232 -0.0264 -0.0717 -0.0505\n",
       " 0.1998  0.0117  0.1790 -0.1509  0.1731  0.0373 -0.1561  0.0471 -0.1044 -0.1387\n",
       "-0.0733 -0.0140 -0.0517 -0.1631  0.1125 -0.1282 -0.0584  0.0950 -0.0878 -0.1605\n",
       "-0.1682  0.1575 -0.1813 -0.1013 -0.1945  0.1246  0.1587 -0.0781  0.0662  0.0711\n",
       "-0.1502 -0.0508 -0.1767  0.0695  0.0149 -0.2020  0.0364 -0.0026  0.1785  0.0469\n",
       "-0.1522 -0.0916  0.1611  0.0113 -0.1802  0.1611  0.0154 -0.0752 -0.0382  0.1236\n",
       " 0.1884 -0.1110  0.0106 -0.0077 -0.0594 -0.1552  0.1141  0.1151 -0.0885  0.0683\n",
       "-0.1895 -0.1398  0.0061  0.0493 -0.0293 -0.1312 -0.1345  0.1894  0.0293  0.1002\n",
       "-0.1770 -0.1282  0.1788 -0.1679 -0.1897 -0.1000  0.0068  0.1561  0.0798  0.1480\n",
       " 0.0376 -0.1084  0.0145 -0.0385  0.1987 -0.0963  0.0272 -0.1724 -0.0711  0.0097\n",
       " 0.0954  0.2000  0.1040 -0.1071  0.1305  0.1382 -0.1020  0.1613  0.1112  0.1183\n",
       " 0.1656 -0.1282  0.0489  0.1899  0.1064  0.0429  0.0621 -0.1246  0.0978  0.1992\n",
       " 0.1406  0.0840  0.0504 -0.1741  0.0286  0.0259  0.1431 -0.1230 -0.0979  0.0619\n",
       "\n",
       "Columns 20 to 23 \n",
       " 0.1157 -0.0862 -0.1875 -0.1472\n",
       " 0.0377 -0.1436  0.1625  0.1563\n",
       " 0.0024  0.0647  0.0647 -0.0273\n",
       "-0.1959  0.0213  0.1191 -0.1355\n",
       " 0.1232  0.0684 -0.0196 -0.0217\n",
       " 0.1513 -0.1931 -0.1600 -0.0204\n",
       " 0.1686 -0.1137  0.0558  0.0394\n",
       "-0.0118 -0.0405  0.1122  0.1719\n",
       " 0.2020  0.1882 -0.1426 -0.0511\n",
       "-0.1379 -0.0552 -0.1440  0.0645\n",
       "-0.1297  0.0162  0.0804  0.0145\n",
       "-0.0396  0.1079  0.1170 -0.0220\n",
       "-0.1583  0.0243 -0.1413  0.1256\n",
       "-0.1338  0.1898  0.0122  0.0279\n",
       " 0.0293 -0.1236 -0.0054  0.0437\n",
       " 0.1430 -0.0281 -0.1877  0.1159\n",
       "[torch.FloatTensor of size 16x24]"
      ]
     },
     "execution_count": 59,
     "metadata": {},
     "output_type": "execute_result"
    }
   ],
   "source": [
    "model.fc1.weight"
   ]
  },
  {
   "cell_type": "markdown",
   "metadata": {},
   "source": [
    "### 6.3 Store Predictions"
   ]
  },
  {
   "cell_type": "code",
   "execution_count": 60,
   "metadata": {
    "collapsed": true
   },
   "outputs": [],
   "source": [
    "add_to_stored(\"cv_pred_6\", cv_predictors_Tensor, cv_stored)\n",
    "\n",
    "add_to_stored(\"test_pred_6\", test_predictors_Tensor, test_stored)"
   ]
  },
  {
   "cell_type": "markdown",
   "metadata": {},
   "source": [
    "## 7. Linear Regression"
   ]
  },
  {
   "cell_type": "code",
   "execution_count": 61,
   "metadata": {
    "collapsed": true
   },
   "outputs": [],
   "source": [
    "# Define the neural network\n",
    "class Net(torch.nn.Module):\n",
    "    \n",
    "    def __init__(self):\n",
    "        super(Net, self).__init__()\n",
    "        self.fc1 = torch.nn.Linear(24, 1)\n",
    "        \n",
    "    def forward(self, x):\n",
    "        x = self.fc1(x)\n",
    "        return(x)\n",
    "\n",
    "\n",
    "# Make it\n",
    "model = Net()"
   ]
  },
  {
   "cell_type": "code",
   "execution_count": 62,
   "metadata": {
    "collapsed": false
   },
   "outputs": [
    {
     "data": {
      "image/png": "[encoded data removed]",
      "text/plain": [
       "<matplotlib.figure.Figure at 0x7f588c2079b0>"
      ]
     },
     "metadata": {},
     "output_type": "display_data"
    }
   ],
   "source": [
    "train_neural_net(model, outcome_Tensor, predictors_Tensor,\n",
    "                 cv_outcome_Tensor, cv_predictors_Tensor)"
   ]
  },
  {
   "cell_type": "markdown",
   "metadata": {},
   "source": [
    "### 7.1 Performance Metrics"
   ]
  },
  {
   "cell_type": "code",
   "execution_count": 63,
   "metadata": {
    "collapsed": false
   },
   "outputs": [
    {
     "data": {
      "text/plain": [
       "Variable containing:\n",
       " 0.1654\n",
       "[torch.FloatTensor of size 1]"
      ]
     },
     "execution_count": 63,
     "metadata": {},
     "output_type": "execute_result"
    }
   ],
   "source": [
    "MSE = compute_MSE(cv_predictors_Tensor, cv_outcome_Tensor)\n",
    "MSE"
   ]
  },
  {
   "cell_type": "code",
   "execution_count": 64,
   "metadata": {
    "collapsed": false
   },
   "outputs": [
    {
     "data": {
      "text/plain": [
       "Variable containing:\n",
       "1.00000e-02 *\n",
       "  2.3000\n",
       "[torch.FloatTensor of size 1]"
      ]
     },
     "execution_count": 64,
     "metadata": {},
     "output_type": "execute_result"
    }
   ],
   "source": [
    "R_squared = compute_R_squared(cv_predictors_Tensor, cv_outcome_Tensor)\n",
    "R_squared"
   ]
  },
  {
   "cell_type": "markdown",
   "metadata": {},
   "source": [
    "### 7.2 Performance Visualization"
   ]
  },
  {
   "cell_type": "code",
   "execution_count": 65,
   "metadata": {
    "collapsed": false
   },
   "outputs": [
    {
     "data": {
      "image/png": "[encoded data removed]",
      "text/plain": [
       "<matplotlib.figure.Figure at 0x7f588c1a0048>"
      ]
     },
     "metadata": {},
     "output_type": "display_data"
    }
   ],
   "source": [
    "plot_cross_valid_perf(cv_predictors_Tensor, cv_outcome_Tensor)"
   ]
  },
  {
   "cell_type": "code",
   "execution_count": 66,
   "metadata": {
    "collapsed": false
   },
   "outputs": [
    {
     "data": {
      "text/plain": [
       "Parameter containing:\n",
       "\n",
       "Columns 0 to 9 \n",
       "1.00000e-02 *\n",
       "  3.0835  0.2991 -0.1341 -1.5299  1.4175 -2.7249  0.2054  0.2600  3.9483  1.3398\n",
       "\n",
       "Columns 10 to 19 \n",
       "1.00000e-02 *\n",
       " -0.0479 -1.3605  1.3110 -2.0366  0.6735  0.5777  0.6218 -0.6512  3.1983  0.3628\n",
       "\n",
       "Columns 20 to 23 \n",
       "1.00000e-02 *\n",
       "  5.2561 -3.8297  2.9008 -2.0741\n",
       "[torch.FloatTensor of size 1x24]"
      ]
     },
     "execution_count": 66,
     "metadata": {},
     "output_type": "execute_result"
    }
   ],
   "source": [
    "model.fc1.weight"
   ]
  },
  {
   "cell_type": "markdown",
   "metadata": {},
   "source": [
    "### 7.3 Store Predictions"
   ]
  },
  {
   "cell_type": "code",
   "execution_count": 67,
   "metadata": {
    "collapsed": true
   },
   "outputs": [],
   "source": [
    "add_to_stored(\"cv_pred_7\", cv_predictors_Tensor, cv_stored)\n",
    "\n",
    "add_to_stored(\"test_pred_7\", test_predictors_Tensor, test_stored)"
   ]
  },
  {
   "cell_type": "code",
   "execution_count": 68,
   "metadata": {
    "collapsed": false
   },
   "outputs": [
    {
     "data": {
      "text/html": [
       "<div>\n",
       "<table border=\"1\" class=\"dataframe\">\n",
       "  <thead>\n",
       "    <tr style=\"text-align: right;\">\n",
       "      <th></th>\n",
       "      <th>observed</th>\n",
       "      <th>cv_pred_1</th>\n",
       "      <th>cv_pred_2</th>\n",
       "      <th>cv_pred_3</th>\n",
       "      <th>cv_pred_4</th>\n",
       "      <th>cv_pred_5</th>\n",
       "      <th>cv_pred_6</th>\n",
       "      <th>cv_pred_7</th>\n",
       "    </tr>\n",
       "  </thead>\n",
       "  <tbody>\n",
       "    <tr>\n",
       "      <th>0</th>\n",
       "      <td>0.677117</td>\n",
       "      <td>0.621596</td>\n",
       "      <td>0.622981</td>\n",
       "      <td>0.525912</td>\n",
       "      <td>0.679847</td>\n",
       "      <td>0.616347</td>\n",
       "      <td>0.616351</td>\n",
       "      <td>0.548043</td>\n",
       "    </tr>\n",
       "    <tr>\n",
       "      <th>1</th>\n",
       "      <td>0.484530</td>\n",
       "      <td>0.435138</td>\n",
       "      <td>0.405323</td>\n",
       "      <td>0.436876</td>\n",
       "      <td>0.578818</td>\n",
       "      <td>0.616347</td>\n",
       "      <td>0.616351</td>\n",
       "      <td>0.599550</td>\n",
       "    </tr>\n",
       "    <tr>\n",
       "      <th>2</th>\n",
       "      <td>0.058780</td>\n",
       "      <td>0.553059</td>\n",
       "      <td>0.460552</td>\n",
       "      <td>0.460659</td>\n",
       "      <td>0.777376</td>\n",
       "      <td>0.616347</td>\n",
       "      <td>0.616351</td>\n",
       "      <td>0.592487</td>\n",
       "    </tr>\n",
       "    <tr>\n",
       "      <th>3</th>\n",
       "      <td>0.876614</td>\n",
       "      <td>0.631602</td>\n",
       "      <td>0.608515</td>\n",
       "      <td>0.582656</td>\n",
       "      <td>0.408744</td>\n",
       "      <td>0.616347</td>\n",
       "      <td>0.616351</td>\n",
       "      <td>0.613756</td>\n",
       "    </tr>\n",
       "    <tr>\n",
       "      <th>4</th>\n",
       "      <td>0.484530</td>\n",
       "      <td>0.400888</td>\n",
       "      <td>0.384299</td>\n",
       "      <td>0.682245</td>\n",
       "      <td>0.423367</td>\n",
       "      <td>0.616347</td>\n",
       "      <td>0.616351</td>\n",
       "      <td>0.449352</td>\n",
       "    </tr>\n",
       "  </tbody>\n",
       "</table>\n",
       "</div>"
      ],
      "text/plain": [
       "   observed  cv_pred_1  cv_pred_2  cv_pred_3  cv_pred_4  cv_pred_5  cv_pred_6  \\\n",
       "0  0.677117   0.621596   0.622981   0.525912   0.679847   0.616347   0.616351   \n",
       "1  0.484530   0.435138   0.405323   0.436876   0.578818   0.616347   0.616351   \n",
       "2  0.058780   0.553059   0.460552   0.460659   0.777376   0.616347   0.616351   \n",
       "3  0.876614   0.631602   0.608515   0.582656   0.408744   0.616347   0.616351   \n",
       "4  0.484530   0.400888   0.384299   0.682245   0.423367   0.616347   0.616351   \n",
       "\n",
       "   cv_pred_7  \n",
       "0   0.548043  \n",
       "1   0.599550  \n",
       "2   0.592487  \n",
       "3   0.613756  \n",
       "4   0.449352  "
      ]
     },
     "execution_count": 68,
     "metadata": {},
     "output_type": "execute_result"
    }
   ],
   "source": [
    "cv_stored.head()"
   ]
  },
  {
   "cell_type": "code",
   "execution_count": 69,
   "metadata": {
    "collapsed": false
   },
   "outputs": [
    {
     "data": {
      "text/html": [
       "<div>\n",
       "<table border=\"1\" class=\"dataframe\">\n",
       "  <thead>\n",
       "    <tr style=\"text-align: right;\">\n",
       "      <th></th>\n",
       "      <th>observed</th>\n",
       "      <th>test_pred_1</th>\n",
       "      <th>test_pred_2</th>\n",
       "      <th>test_pred_3</th>\n",
       "      <th>test_pred_4</th>\n",
       "      <th>test_pred_5</th>\n",
       "      <th>test_pred_6</th>\n",
       "      <th>test_pred_7</th>\n",
       "    </tr>\n",
       "  </thead>\n",
       "  <tbody>\n",
       "    <tr>\n",
       "      <th>0</th>\n",
       "      <td>0.356356</td>\n",
       "      <td>0.665222</td>\n",
       "      <td>0.772810</td>\n",
       "      <td>0.454463</td>\n",
       "      <td>0.491820</td>\n",
       "      <td>0.616347</td>\n",
       "      <td>0.616351</td>\n",
       "      <td>0.497467</td>\n",
       "    </tr>\n",
       "    <tr>\n",
       "      <th>1</th>\n",
       "      <td>1.132974</td>\n",
       "      <td>0.557407</td>\n",
       "      <td>0.540642</td>\n",
       "      <td>0.251080</td>\n",
       "      <td>0.277272</td>\n",
       "      <td>0.616347</td>\n",
       "      <td>0.616351</td>\n",
       "      <td>0.512881</td>\n",
       "    </tr>\n",
       "    <tr>\n",
       "      <th>2</th>\n",
       "      <td>0.578992</td>\n",
       "      <td>0.600398</td>\n",
       "      <td>0.519582</td>\n",
       "      <td>0.657267</td>\n",
       "      <td>0.806659</td>\n",
       "      <td>0.616347</td>\n",
       "      <td>0.616351</td>\n",
       "      <td>0.613541</td>\n",
       "    </tr>\n",
       "    <tr>\n",
       "      <th>3</th>\n",
       "      <td>0.578992</td>\n",
       "      <td>0.635403</td>\n",
       "      <td>0.720822</td>\n",
       "      <td>0.828130</td>\n",
       "      <td>0.626448</td>\n",
       "      <td>0.616347</td>\n",
       "      <td>0.616351</td>\n",
       "      <td>0.715602</td>\n",
       "    </tr>\n",
       "    <tr>\n",
       "      <th>4</th>\n",
       "      <td>0.578992</td>\n",
       "      <td>0.619531</td>\n",
       "      <td>0.486463</td>\n",
       "      <td>0.271690</td>\n",
       "      <td>0.359328</td>\n",
       "      <td>0.616347</td>\n",
       "      <td>0.616351</td>\n",
       "      <td>0.580426</td>\n",
       "    </tr>\n",
       "  </tbody>\n",
       "</table>\n",
       "</div>"
      ],
      "text/plain": [
       "   observed  test_pred_1  test_pred_2  test_pred_3  test_pred_4  test_pred_5  \\\n",
       "0  0.356356     0.665222     0.772810     0.454463     0.491820     0.616347   \n",
       "1  1.132974     0.557407     0.540642     0.251080     0.277272     0.616347   \n",
       "2  0.578992     0.600398     0.519582     0.657267     0.806659     0.616347   \n",
       "3  0.578992     0.635403     0.720822     0.828130     0.626448     0.616347   \n",
       "4  0.578992     0.619531     0.486463     0.271690     0.359328     0.616347   \n",
       "\n",
       "   test_pred_6  test_pred_7  \n",
       "0     0.616351     0.497467  \n",
       "1     0.616351     0.512881  \n",
       "2     0.616351     0.613541  \n",
       "3     0.616351     0.715602  \n",
       "4     0.616351     0.580426  "
      ]
     },
     "execution_count": 69,
     "metadata": {},
     "output_type": "execute_result"
    }
   ],
   "source": [
    "test_stored.head()"
   ]
  },
  {
   "cell_type": "code",
   "execution_count": 70,
   "metadata": {
    "collapsed": true
   },
   "outputs": [],
   "source": [
    "# Save the stored predictions and outcomes as a .csv\n",
    "cv_stored.to_csv(\"15_cv_perf.csv\")\n",
    "\n",
    "test_stored.to_csv(\"15_test_perf.csv\")"
   ]
  }
 ],
 "metadata": {
  "kernelspec": {
   "display_name": "Python 3",
   "language": "python",
   "name": "python3"
  },
  "language_info": {
   "codemirror_mode": {
    "name": "ipython",
    "version": 3
   },
   "file_extension": ".py",
   "mimetype": "text/x-python",
   "name": "python",
   "nbconvert_exporter": "python",
   "pygments_lexer": "ipython3",
   "version": "3.6.0"
  }
 },
 "nbformat": 4,
 "nbformat_minor": 2
}
