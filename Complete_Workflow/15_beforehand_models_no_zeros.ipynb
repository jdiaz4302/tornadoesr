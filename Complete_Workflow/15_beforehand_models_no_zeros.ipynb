{
 "cells": [
  {
   "cell_type": "markdown",
   "metadata": {},
   "source": [
    "## Setup"
   ]
  },
  {
   "cell_type": "code",
   "execution_count": 1,
   "metadata": {
    "collapsed": true
   },
   "outputs": [],
   "source": [
    "# Packages\n",
    "import pandas as pd\n",
    "import torch\n",
    "from torch.autograd import Variable\n",
    "import numpy as np\n",
    "import matplotlib.pyplot as plt\n",
    "%matplotlib inline\n",
    "import pylab\n",
    "import math"
   ]
  },
  {
   "cell_type": "code",
   "execution_count": 2,
   "metadata": {
    "collapsed": false
   },
   "outputs": [
    {
     "name": "stdout",
     "output_type": "stream",
     "text": [
      "<class 'pandas.core.frame.DataFrame'>\n",
      "RangeIndex: 8308 entries, 0 to 8307\n",
      "Data columns (total 35 columns):\n",
      "DAMAGE_PROPERTY       8308 non-null float64\n",
      "DURATION_SECONDS      8308 non-null float64\n",
      "BEGIN_LAT             8308 non-null float64\n",
      "BEGIN_LON             8308 non-null float64\n",
      "TOR_LENGTH            8308 non-null float64\n",
      "TOR_WIDTH             8308 non-null float64\n",
      "YEAR                  8308 non-null float64\n",
      "MULTI_VORT_IND        8308 non-null int64\n",
      "OPEN_WATER_PROP       8308 non-null float64\n",
      "DEV_OPEN_PROP         8308 non-null float64\n",
      "DEV_LOW_PROP          8308 non-null float64\n",
      "DEV_MED_PROP          8308 non-null float64\n",
      "DEV_HIGH_PROP         8308 non-null float64\n",
      "BARREN_LAND_PROP      8308 non-null float64\n",
      "DECID_FOREST_PROP     8308 non-null float64\n",
      "EVERGR_FOREST_PROP    8308 non-null float64\n",
      "MIXED_FOREST_PROP     8308 non-null float64\n",
      "SHRUB_SCRUB_PROP      8308 non-null float64\n",
      "GRASS_LAND_PROP       8308 non-null float64\n",
      "PASTURE_HAY_PROP      8308 non-null float64\n",
      "CULT_CROPS_PROP       8308 non-null float64\n",
      "WOOD_WETLAND_PROP     8308 non-null float64\n",
      "HERB_WETLAND_PROP     8308 non-null float64\n",
      "INCOME                8308 non-null float64\n",
      "MOB_HOME_DENS         8308 non-null float64\n",
      "POP_DENS              8308 non-null float64\n",
      "TOR_AREA              8308 non-null float64\n",
      "TOT_DEV_INT           8308 non-null float64\n",
      "TOT_WOOD_AREA         8308 non-null float64\n",
      "WOOD_DEV_INT          8308 non-null float64\n",
      "EXP_INC_AREA          8308 non-null float64\n",
      "DAY_OF_YEAR           8308 non-null float64\n",
      "MONTH                 8308 non-null float64\n",
      "STATE_RANK            8308 non-null float64\n",
      "TIME                  8308 non-null float64\n",
      "dtypes: float64(34), int64(1)\n",
      "memory usage: 2.2 MB\n"
     ]
    }
   ],
   "source": [
    "# Import data\n",
    "tor_df = pd.read_csv(\"/home/jeremy/github_tornadoesr/data/raw/tor_train_set_no_zeros.csv\")\n",
    "\n",
    "\n",
    "# Quick inspection\n",
    "tor_df.info()"
   ]
  },
  {
   "cell_type": "code",
   "execution_count": 3,
   "metadata": {
    "collapsed": false
   },
   "outputs": [
    {
     "name": "stdout",
     "output_type": "stream",
     "text": [
      "<class 'pandas.core.frame.DataFrame'>\n",
      "RangeIndex: 8308 entries, 0 to 8307\n",
      "Data columns (total 1 columns):\n",
      "DAMAGE_PROPERTY    8308 non-null float64\n",
      "dtypes: float64(1)\n",
      "memory usage: 65.0 KB\n"
     ]
    }
   ],
   "source": [
    "# Seperating variables\n",
    "# The dependent variables\n",
    "tornado_outcomes = tor_df.iloc[:, [0]]\n",
    "\n",
    "\n",
    "# Quick inspection\n",
    "tornado_outcomes.info()"
   ]
  },
  {
   "cell_type": "code",
   "execution_count": 4,
   "metadata": {
    "collapsed": false
   },
   "outputs": [
    {
     "name": "stdout",
     "output_type": "stream",
     "text": [
      "<class 'pandas.core.frame.DataFrame'>\n",
      "RangeIndex: 8308 entries, 0 to 8307\n",
      "Data columns (total 24 columns):\n",
      "BEGIN_LAT             8308 non-null float64\n",
      "BEGIN_LON             8308 non-null float64\n",
      "OPEN_WATER_PROP       8308 non-null float64\n",
      "DEV_OPEN_PROP         8308 non-null float64\n",
      "DEV_LOW_PROP          8308 non-null float64\n",
      "DEV_MED_PROP          8308 non-null float64\n",
      "DEV_HIGH_PROP         8308 non-null float64\n",
      "BARREN_LAND_PROP      8308 non-null float64\n",
      "DECID_FOREST_PROP     8308 non-null float64\n",
      "EVERGR_FOREST_PROP    8308 non-null float64\n",
      "MIXED_FOREST_PROP     8308 non-null float64\n",
      "SHRUB_SCRUB_PROP      8308 non-null float64\n",
      "GRASS_LAND_PROP       8308 non-null float64\n",
      "PASTURE_HAY_PROP      8308 non-null float64\n",
      "CULT_CROPS_PROP       8308 non-null float64\n",
      "WOOD_WETLAND_PROP     8308 non-null float64\n",
      "HERB_WETLAND_PROP     8308 non-null float64\n",
      "INCOME                8308 non-null float64\n",
      "MOB_HOME_DENS         8308 non-null float64\n",
      "POP_DENS              8308 non-null float64\n",
      "TOT_DEV_INT           8308 non-null float64\n",
      "TOT_WOOD_AREA         8308 non-null float64\n",
      "WOOD_DEV_INT          8308 non-null float64\n",
      "STATE_RANK            8308 non-null float64\n",
      "dtypes: float64(24)\n",
      "memory usage: 1.5 MB\n"
     ]
    }
   ],
   "source": [
    "# The independent variables\n",
    "tornado_features = tor_df.iloc[:, 2:34]\n",
    "\n",
    "tornado_features = tornado_features.drop([\"TOR_LENGTH\",\n",
    "                                          \"TOR_WIDTH\",\n",
    "                                          \"YEAR\",\n",
    "                                          \"MULTI_VORT_IND\",\n",
    "                                          \"TOR_AREA\",\n",
    "                                          \"EXP_INC_AREA\",\n",
    "                                          \"DAY_OF_YEAR\",\n",
    "                                          \"MONTH\"],\n",
    "                                         axis = 1)\n",
    "\n",
    "\n",
    "# Quick inspection\n",
    "tornado_features.info()"
   ]
  },
  {
   "cell_type": "code",
   "execution_count": 5,
   "metadata": {
    "collapsed": false
   },
   "outputs": [
    {
     "data": {
      "text/plain": [
       "\n",
       " 0.1532\n",
       " 0.6540\n",
       " 0.0873\n",
       "   ⋮    \n",
       " 0.5790\n",
       " 0.1532\n",
       " 0.2814\n",
       "[torch.DoubleTensor of size 8308x1]"
      ]
     },
     "execution_count": 5,
     "metadata": {},
     "output_type": "execute_result"
    }
   ],
   "source": [
    "# Make the dependent variables into a numpy array\n",
    "outcomes_array = tornado_outcomes.values\n",
    "\n",
    "\n",
    "# Makes the numpy array into a torch Tensor\n",
    "outcomes_Tensor = torch.from_numpy(outcomes_array)\n",
    "\n",
    "\n",
    "# Quick inspection\n",
    "outcomes_Tensor"
   ]
  },
  {
   "cell_type": "code",
   "execution_count": 6,
   "metadata": {
    "collapsed": false
   },
   "outputs": [
    {
     "data": {
      "text/plain": [
       "\n",
       "-1.6434e+00 -4.3226e-01  1.0059e+00  ...   2.4012e-01  9.9841e-01 -8.0985e-01\n",
       " 2.0633e-01  5.5447e-01  2.5095e-01  ...   6.0023e-01  2.2936e-01  5.1571e-01\n",
       "-3.3130e-01 -8.9907e-01  6.5406e-01  ...  -5.8070e-01 -1.0991e+00 -1.1142e+00\n",
       "                ...                   ⋱                   ...                \n",
       "-2.3862e-01  6.3729e-01  2.5982e-01  ...   7.2155e-01  3.0761e-01  1.5969e-01\n",
       "-1.2487e+00  6.1127e-01  1.0901e-01  ...   9.1690e-01  4.8438e-01  2.6054e-01\n",
       "-4.7014e-01 -3.4764e-02  1.6123e+00  ...   5.8210e-01 -4.3274e-01 -3.8082e-01\n",
       "[torch.DoubleTensor of size 8308x24]"
      ]
     },
     "execution_count": 6,
     "metadata": {},
     "output_type": "execute_result"
    }
   ],
   "source": [
    "# Make the independent variables into a numpy array\n",
    "features_array = tornado_features.values\n",
    "\n",
    "\n",
    "# Make the numpy array into a torch Tensor\n",
    "features_Tensor = torch.from_numpy(features_array)\n",
    "\n",
    "\n",
    "# Quick inspection\n",
    "features_Tensor"
   ]
  },
  {
   "cell_type": "markdown",
   "metadata": {},
   "source": [
    "### Convert DoubleTensor to FloatTensor"
   ]
  },
  {
   "cell_type": "code",
   "execution_count": 7,
   "metadata": {
    "collapsed": false
   },
   "outputs": [
    {
     "data": {
      "text/plain": [
       "\n",
       "-1.6434e+00 -4.3226e-01  1.0059e+00  ...   2.4012e-01  9.9841e-01 -8.0985e-01\n",
       " 2.0633e-01  5.5447e-01  2.5095e-01  ...   6.0023e-01  2.2936e-01  5.1571e-01\n",
       "-3.3130e-01 -8.9907e-01  6.5406e-01  ...  -5.8070e-01 -1.0991e+00 -1.1142e+00\n",
       "                ...                   ⋱                   ...                \n",
       "-2.3862e-01  6.3729e-01  2.5982e-01  ...   7.2155e-01  3.0761e-01  1.5969e-01\n",
       "-1.2487e+00  6.1127e-01  1.0901e-01  ...   9.1690e-01  4.8438e-01  2.6054e-01\n",
       "-4.7014e-01 -3.4764e-02  1.6123e+00  ...   5.8210e-01 -4.3274e-01 -3.8082e-01\n",
       "[torch.FloatTensor of size 8308x24]"
      ]
     },
     "execution_count": 7,
     "metadata": {},
     "output_type": "execute_result"
    }
   ],
   "source": [
    "# Changing dependent variables from a DoubleTensor to a FloatTensor\n",
    "outcomes_Tensor = outcomes_Tensor.float()\n",
    "\n",
    "\n",
    "# ...and for the independent variables\n",
    "features_Tensor = features_Tensor.float()\n",
    "\n",
    "\n",
    "# Quick check\n",
    "features_Tensor"
   ]
  },
  {
   "cell_type": "markdown",
   "metadata": {
    "collapsed": true
   },
   "source": [
    "## Round 1: One-Hidden-Layer Neural Network"
   ]
  },
  {
   "cell_type": "code",
   "execution_count": 8,
   "metadata": {
    "collapsed": false
   },
   "outputs": [],
   "source": [
    "# Make the torch Tensor into a PyTorch Variable for dependent variables\n",
    "outcomes_Variable = Variable(outcomes_Tensor)\n",
    "\n",
    "\n",
    "# ...for independent variables\n",
    "features_Variable = Variable(features_Tensor,\n",
    "                             requires_grad = False)"
   ]
  },
  {
   "cell_type": "code",
   "execution_count": 9,
   "metadata": {
    "collapsed": false
   },
   "outputs": [],
   "source": [
    "# Make the neural network\n",
    "model = torch.nn.Sequential(torch.nn.Linear(24, 16),\n",
    "                            torch.nn.ReLU(),\n",
    "                            torch.nn.Linear(16, 1))"
   ]
  },
  {
   "cell_type": "code",
   "execution_count": 10,
   "metadata": {
    "collapsed": true
   },
   "outputs": [],
   "source": [
    "# Set the loss function\n",
    "loss_fn = torch.nn.MSELoss(size_average=False)"
   ]
  },
  {
   "cell_type": "code",
   "execution_count": 11,
   "metadata": {
    "collapsed": false
   },
   "outputs": [],
   "source": [
    "# To add errors to\n",
    "errors = []\n",
    "\n",
    "\n",
    "# Set the learning rate\n",
    "learning_rate = 1e-2\n",
    "\n",
    "\n",
    "# Define the model's optimizer\n",
    "optimizer = torch.optim.Adagrad(model.parameters(), lr = learning_rate)\n",
    "\n",
    "\n",
    "# Train the neural network\n",
    "for t in range(10000):\n",
    "    \n",
    "    # Get the current predictions\n",
    "    y_pred = model(features_Variable)\n",
    "    \n",
    "    # Compute and append current summed errors\n",
    "    loss = loss_fn(y_pred, outcomes_Variable)\n",
    "    errors.append(loss.data[0])\n",
    "    \n",
    "    # Zero the gradients before running the backward pass.\n",
    "    optimizer.zero_grad()\n",
    "    \n",
    "    # Backward pass: compute gradient of the loss with respect to all the learnable Variables\n",
    "    loss.backward()\n",
    "    \n",
    "    # Update the weights using Adagrad\n",
    "    optimizer.step()"
   ]
  },
  {
   "cell_type": "code",
   "execution_count": 12,
   "metadata": {
    "collapsed": true
   },
   "outputs": [],
   "source": [
    "# Get the iterations\n",
    "iterations = list(range(0, 10000))"
   ]
  },
  {
   "cell_type": "code",
   "execution_count": 13,
   "metadata": {
    "collapsed": false
   },
   "outputs": [
    {
     "data": {
      "text/plain": [
       "<matplotlib.collections.PathCollection at 0x7f4307d1a390>"
      ]
     },
     "execution_count": 13,
     "metadata": {},
     "output_type": "execute_result"
    },
    {
     "data": {
      "image/png": "[encoded data removed]",
      "text/plain": [
       "<matplotlib.figure.Figure at 0x7f4300087a20>"
      ]
     },
     "metadata": {},
     "output_type": "display_data"
    }
   ],
   "source": [
    "# Plot summed error as a function of iteration\n",
    "plt.scatter(iterations, errors, c = \"black\", alpha = 0.25)"
   ]
  },
  {
   "cell_type": "code",
   "execution_count": 14,
   "metadata": {
    "collapsed": false
   },
   "outputs": [],
   "source": [
    "# Get rid of the 2nd dimension of 1 from the FloatTensor\n",
    "y_pred_resized = y_pred.resize(8308)\n",
    "\n",
    "\n",
    "# Make the FloatTensor into a numpy.array\n",
    "y_pred_array = y_pred_resized.data.numpy()\n",
    "\n",
    "\n",
    "# Make the numpy.array into a list\n",
    "y_pred_list = y_pred_array.tolist()"
   ]
  },
  {
   "cell_type": "code",
   "execution_count": 15,
   "metadata": {
    "collapsed": false
   },
   "outputs": [],
   "source": [
    "# Get rid of the 2nd dimension of 1 from the FloatTensor\n",
    "outcomes_Variable_resized = outcomes_Variable.resize(8308)\n",
    "\n",
    "\n",
    "# Make the FloatTensor into a numpy.array\n",
    "outcomes_array = outcomes_Variable_resized.data.numpy()\n",
    "\n",
    "\n",
    "# Make the numpy.array into a list\n",
    "outcomes_list = outcomes_array.tolist()"
   ]
  },
  {
   "cell_type": "code",
   "execution_count": 16,
   "metadata": {
    "collapsed": false
   },
   "outputs": [
    {
     "data": {
      "text/plain": [
       "[<matplotlib.lines.Line2D at 0x7f42acd7cbe0>]"
      ]
     },
     "execution_count": 16,
     "metadata": {},
     "output_type": "execute_result"
    },
    {
     "data": {
      "image/png": "[encoded data removed]",
      "text/plain": [
       "<matplotlib.figure.Figure at 0x7f42acd7c8d0>"
      ]
     },
     "metadata": {},
     "output_type": "display_data"
    }
   ],
   "source": [
    "# Plot predictions versus training set outcomes\n",
    "plt.scatter(outcomes_list, y_pred_list, c = \"black\", alpha = 0.15)\n",
    "\n",
    "axes = plt.gca()\n",
    "\n",
    "axes.set_xlim([-2, 4])\n",
    "\n",
    "axes.set_ylim([-2, 4])\n",
    "\n",
    "plt.plot([-2, 4], [-2, 4], 'k-', lw=2)"
   ]
  },
  {
   "cell_type": "markdown",
   "metadata": {},
   "source": [
    "### Round 1.1: Validation Set Performance"
   ]
  },
  {
   "cell_type": "code",
   "execution_count": 17,
   "metadata": {
    "collapsed": false
   },
   "outputs": [
    {
     "name": "stdout",
     "output_type": "stream",
     "text": [
      "<class 'pandas.core.frame.DataFrame'>\n",
      "RangeIndex: 2808 entries, 0 to 2807\n",
      "Data columns (total 1 columns):\n",
      "DAMAGE_PROPERTY    2808 non-null float64\n",
      "dtypes: float64(1)\n",
      "memory usage: 22.0 KB\n"
     ]
    }
   ],
   "source": [
    "# Import data\n",
    "valid_df = pd.read_csv(\"/home/jeremy/github_tornadoesr/data/raw/tor_cv_set_no_zeros.csv\")\n",
    "\n",
    "\n",
    "# Validation set outcomes\n",
    "valid_outcomes = valid_df.iloc[:, [0]]\n",
    "\n",
    "\n",
    "# Make the validation outcomes into a numpy array\n",
    "valid_outcomes_array = valid_outcomes.values\n",
    "\n",
    "\n",
    "# Makes the numpy array into a torch Tensor\n",
    "valid_outcomes_Tensor = torch.from_numpy(valid_outcomes_array)\n",
    "\n",
    "\n",
    "# Changing validation outcomes from a DoubleTensor to a FloatTensor\n",
    "valid_outcomes_Tensor = valid_outcomes_Tensor.float()\n",
    "\n",
    "\n",
    "# Make the Tensor into a Pytorch Variable\n",
    "valid_outcomes_Variable = Variable(valid_outcomes_Tensor)\n",
    "\n",
    "\n",
    "# Quick check\n",
    "valid_outcomes.info()"
   ]
  },
  {
   "cell_type": "code",
   "execution_count": 18,
   "metadata": {
    "collapsed": false
   },
   "outputs": [
    {
     "name": "stdout",
     "output_type": "stream",
     "text": [
      "<class 'pandas.core.frame.DataFrame'>\n",
      "RangeIndex: 2808 entries, 0 to 2807\n",
      "Data columns (total 24 columns):\n",
      "BEGIN_LAT             2808 non-null float64\n",
      "BEGIN_LON             2808 non-null float64\n",
      "OPEN_WATER_PROP       2808 non-null float64\n",
      "DEV_OPEN_PROP         2808 non-null float64\n",
      "DEV_LOW_PROP          2808 non-null float64\n",
      "DEV_MED_PROP          2808 non-null float64\n",
      "DEV_HIGH_PROP         2808 non-null float64\n",
      "BARREN_LAND_PROP      2808 non-null float64\n",
      "DECID_FOREST_PROP     2808 non-null float64\n",
      "EVERGR_FOREST_PROP    2808 non-null float64\n",
      "MIXED_FOREST_PROP     2808 non-null float64\n",
      "SHRUB_SCRUB_PROP      2808 non-null float64\n",
      "GRASS_LAND_PROP       2808 non-null float64\n",
      "PASTURE_HAY_PROP      2808 non-null float64\n",
      "CULT_CROPS_PROP       2808 non-null float64\n",
      "WOOD_WETLAND_PROP     2808 non-null float64\n",
      "HERB_WETLAND_PROP     2808 non-null float64\n",
      "INCOME                2808 non-null float64\n",
      "MOB_HOME_DENS         2808 non-null float64\n",
      "POP_DENS              2808 non-null float64\n",
      "TOT_DEV_INT           2808 non-null float64\n",
      "TOT_WOOD_AREA         2808 non-null float64\n",
      "WOOD_DEV_INT          2808 non-null float64\n",
      "STATE_RANK            2808 non-null float64\n",
      "dtypes: float64(24)\n",
      "memory usage: 526.6 KB\n"
     ]
    }
   ],
   "source": [
    "# Validation set predictors\n",
    "valid_predictors = valid_df.iloc[:, 2:34]\n",
    "\n",
    "valid_predictors = valid_predictors.drop([\"TOR_LENGTH\",\n",
    "                                          \"TOR_WIDTH\",\n",
    "                                          \"YEAR\",\n",
    "                                          \"MULTI_VORT_IND\",\n",
    "                                          \"TOR_AREA\",\n",
    "                                          \"EXP_INC_AREA\",\n",
    "                                          \"DAY_OF_YEAR\",\n",
    "                                          \"MONTH\"],\n",
    "                                         axis = 1)\n",
    "\n",
    "\n",
    "# Make the validation predictors into a numpy array\n",
    "valid_predictors_array = valid_predictors.values\n",
    "\n",
    "\n",
    "# Makes the numpy array into a torch Tensor\n",
    "valid_predictors_Tensor = torch.from_numpy(valid_predictors_array)\n",
    "\n",
    "\n",
    "# Changing validation predictors from a DoubleTensor to a FloatTensor\n",
    "valid_predictors_Tensor = valid_predictors_Tensor.float()\n",
    "\n",
    "\n",
    "# Make the Tensor into a Pytorch Variable\n",
    "valid_predictors_Variable = Variable(valid_predictors_Tensor)\n",
    "\n",
    "\n",
    "# Quick check\n",
    "valid_predictors.info()"
   ]
  },
  {
   "cell_type": "code",
   "execution_count": 19,
   "metadata": {
    "collapsed": false
   },
   "outputs": [
    {
     "data": {
      "text/plain": [
       "Variable containing:\n",
       " 471.1515\n",
       "[torch.FloatTensor of size 1]"
      ]
     },
     "execution_count": 19,
     "metadata": {},
     "output_type": "execute_result"
    }
   ],
   "source": [
    "# Get the validation set predictions\n",
    "y_valid_pred = model(valid_predictors_Variable)\n",
    "\n",
    "\n",
    "# Print the loss\n",
    "loss_fn(y_valid_pred,\n",
    "        valid_outcomes_Variable)"
   ]
  },
  {
   "cell_type": "code",
   "execution_count": 20,
   "metadata": {
    "collapsed": false
   },
   "outputs": [],
   "source": [
    "# Get rid of the 2nd dimension of 1 from the FloatTensor\n",
    "y_valid_pred_resized = y_valid_pred.resize(2808)\n",
    "\n",
    "\n",
    "# Make the FloatTensor into a numpy.array\n",
    "y_valid_pred_array = y_valid_pred_resized.data.numpy()\n",
    "\n",
    "\n",
    "# Convert back to log scale\n",
    "y_valid_pred_array = y_valid_pred_array*5.407597 + 7.688844\n",
    "\n",
    "\n",
    "# Make the numpy.array into a list\n",
    "y_valid_pred_list = y_valid_pred_array.tolist()"
   ]
  },
  {
   "cell_type": "code",
   "execution_count": 21,
   "metadata": {
    "collapsed": false
   },
   "outputs": [],
   "source": [
    "# Get rid of the 2nd dimension of 1 from the FloatTensor\n",
    "valid_outcomes_Variable_resized = valid_outcomes_Variable.resize(2808)\n",
    "\n",
    "\n",
    "# Make the FloatTensor into a numpy.array\n",
    "valid_outcomes_array = valid_outcomes_Variable_resized.data.numpy()\n",
    "\n",
    "\n",
    "# Convert back to log scale\n",
    "valid_outcomes_array = valid_outcomes_array*5.407597 + 7.688844\n",
    "\n",
    "\n",
    "# Make the numpy.array into a list\n",
    "valid_outcomes_list = valid_outcomes_array.tolist()"
   ]
  },
  {
   "cell_type": "code",
   "execution_count": 22,
   "metadata": {
    "collapsed": false
   },
   "outputs": [
    {
     "data": {
      "text/plain": [
       "<matplotlib.text.Text at 0x7f42ac46cef0>"
      ]
     },
     "execution_count": 22,
     "metadata": {},
     "output_type": "execute_result"
    },
    {
     "data": {
      "image/png": "[encoded data removed]",
      "text/plain": [
       "<matplotlib.figure.Figure at 0x7f42ac50e5f8>"
      ]
     },
     "metadata": {},
     "output_type": "display_data"
    }
   ],
   "source": [
    "# Plot new predictions versus new data outcomes\n",
    "plt.scatter(valid_outcomes_list, y_valid_pred_list, c = \"black\", alpha = 0.15)\n",
    "\n",
    "axes = plt.gca()\n",
    "\n",
    "axes.set_xlim([0, 24])\n",
    "\n",
    "axes.set_ylim([0, 24])\n",
    "\n",
    "axes.set_xticks([0, 4, 8, 12, 16, 20, 24])\n",
    "\n",
    "axes.set_yticks([0, 4, 8, 12, 16, 20, 24])\n",
    "\n",
    "plt.plot([0, 24], [0, 24], 'k-', lw = 2)\n",
    "\n",
    "axes.set_xlabel(\"Actual Outcome (Log-Transformed US Dollars)\")\n",
    "\n",
    "axes.set_ylabel(\"Model Prediction (Log-Transformed US Dollars)\")\n",
    "\n",
    "axes.set_title(\"Model Performance\")"
   ]
  },
  {
   "cell_type": "code",
   "execution_count": 23,
   "metadata": {
    "collapsed": false
   },
   "outputs": [
    {
     "data": {
      "text/plain": [
       "Parameter containing:\n",
       "\n",
       "Columns 0 to 9 \n",
       " 0.0659 -0.2150 -0.0065 -0.0961  0.0642 -0.0249 -0.1896 -0.1516  0.0053  0.2035\n",
       " 0.0968  0.1867  0.2025  0.0569  0.2026  0.0400 -0.2259 -0.1146 -0.2244 -0.0612\n",
       " 0.2083  0.1352  0.0616  0.1057 -0.3577  0.2911 -0.0960  0.3560  0.1161  0.0691\n",
       " 0.1788  0.0048 -0.1465  0.1629 -0.1417  0.2329 -0.1352  0.0320  0.3267  0.1857\n",
       "-0.0132  0.0370 -0.0576 -0.0495  0.0010 -0.2323  0.0489  0.1104  0.0402  0.0279\n",
       "-0.0888  0.1075  0.1759 -0.0033  0.0338 -0.0613  0.0135  0.0847  0.0950 -0.0511\n",
       " 0.1751  0.1176 -0.1231  0.1465  0.2116  0.0174  0.1684 -0.1595  0.3230  0.2578\n",
       " 0.0822  0.0124 -0.0835 -0.4211 -0.2397 -0.1262  0.2293  0.0026 -0.1180 -0.0136\n",
       " 0.0676  0.1932 -0.0353 -0.2503 -0.0060 -0.2335 -0.0996  0.0752  0.0788  0.2260\n",
       " 0.3852 -0.0737 -0.2392  0.1245 -0.3689  0.1157  0.1984 -0.0838 -0.3232 -0.2725\n",
       " 0.0138 -0.2239 -0.1423  0.1368  0.0189 -0.0500  0.1755 -0.1625 -0.2391 -0.1046\n",
       " 0.1152 -0.3087 -0.0245  0.0194 -0.1800  0.1694 -0.1174 -0.0576 -0.2471  0.1774\n",
       "-0.4285  0.1382  0.4250 -0.1633 -0.0699  0.0216 -0.0467  0.1047 -0.1148 -0.3060\n",
       " 0.2226  0.4054 -0.0143  0.1847 -0.1099  0.1594  0.0280 -0.0202  0.1142  0.0764\n",
       " 0.0247 -0.0715  0.0321 -0.0965 -0.1678  0.0369 -0.2188 -0.1373  0.0488  0.1134\n",
       "-0.1127  0.2106  0.1258  0.0862  0.2016 -0.0727 -0.0755  0.3653  0.0355 -0.1108\n",
       "\n",
       "Columns 10 to 19 \n",
       " 0.0253 -0.1588 -0.1131 -0.0731  0.1309 -0.1279 -0.1970 -0.0829  0.0832 -0.2172\n",
       "-0.2609 -0.1498 -0.0477  0.1318  0.0988 -0.1352  0.0401  0.1159 -0.1676 -0.1077\n",
       "-0.0935  0.3778  0.1940  0.0917 -0.4955 -0.0976 -0.1809  0.0445 -0.1461 -0.1122\n",
       "-0.0848  0.1401  0.1254  0.0027 -0.0993  0.0115 -0.1548 -0.0988 -0.0755  0.0240\n",
       " 0.0130 -0.0263 -0.0404  0.0635  0.0121  0.1516  0.1072  0.2610  0.0646  0.0132\n",
       "-0.0749 -0.1085  0.0032  0.0375  0.0776  0.0639  0.1262  0.0113  0.0352  0.1617\n",
       " 0.0717 -0.3234  0.0226 -0.2094  0.1062  0.2409  0.2408  0.1977  0.0684  0.1471\n",
       " 0.1195  0.0704  0.0523  0.0689 -0.1193 -0.1436  0.0102 -0.0271 -0.0095  0.1120\n",
       " 0.0895  0.0446  0.1209  0.1075 -0.0264 -0.0798  0.1510 -0.1057  0.2672  0.2517\n",
       "-0.1261  0.0959 -0.1074  0.1661  0.1640 -0.1018  0.1112  0.0688 -0.0325  0.3298\n",
       "-0.2495 -0.0746 -0.2003  0.0659  0.0739 -0.0653  0.0936  0.3522  0.1773  0.0402\n",
       " 0.1027 -0.2150 -0.1318  0.1357  0.1247  0.0904 -0.0842 -0.3074 -0.1246  0.2287\n",
       "-0.0320 -0.2789 -0.1167  0.1968  0.2315  0.2710  0.0367  0.1269  0.0357 -0.0049\n",
       " 0.1516 -0.1727  0.0715  0.1446  0.0487  0.2363 -0.0638  0.0631 -0.0915  0.0032\n",
       " 0.1440  0.0312 -0.1833 -0.2102 -0.0065 -0.3565 -0.2804 -0.0507  0.2824 -0.2448\n",
       " 0.0943  0.1646  0.3520  0.0006 -0.4426  0.3264 -0.0794  0.0539 -0.1793 -0.0273\n",
       "\n",
       "Columns 20 to 23 \n",
       " 0.0792 -0.1537 -0.2346  0.0346\n",
       "-0.0351 -0.2617 -0.2127 -0.2068\n",
       " 0.1111  0.0081  0.2892 -0.1169\n",
       " 0.0123 -0.1683 -0.1819  0.1184\n",
       " 0.0397 -0.1504 -0.0885  0.3877\n",
       "-0.0857  0.1381  0.2482  0.0812\n",
       " 0.1588  0.0143  0.2068 -0.1294\n",
       " 0.1036  0.0588  0.1471 -0.0041\n",
       "-0.2711 -0.0235  0.1783  0.0254\n",
       "-0.0243 -0.0206 -0.1768 -0.0027\n",
       " 0.0241  0.0990  0.0257 -0.0121\n",
       " 0.0547 -0.0520 -0.2066  0.0062\n",
       " 0.1934 -0.1268 -0.0940  0.1422\n",
       "-0.0520 -0.1106 -0.0730  0.0233\n",
       "-0.1661 -0.1008 -0.0526 -0.1328\n",
       " 0.1094 -0.4242  0.0813 -0.3457\n",
       "[torch.FloatTensor of size 16x24]"
      ]
     },
     "execution_count": 23,
     "metadata": {},
     "output_type": "execute_result"
    }
   ],
   "source": [
    "model[(0)].weight"
   ]
  },
  {
   "cell_type": "code",
   "execution_count": 24,
   "metadata": {
    "collapsed": false
   },
   "outputs": [
    {
     "data": {
      "text/plain": [
       "Parameter containing:\n",
       "\n",
       "Columns 0 to 9 \n",
       " 0.3847 -0.1532  0.2524 -0.3357 -0.1888 -0.3090  0.2465 -0.1970  0.2631  0.2580\n",
       "\n",
       "Columns 10 to 15 \n",
       "-0.1859 -0.3031  0.2578 -0.2120 -0.2027 -0.2080\n",
       "[torch.FloatTensor of size 1x16]"
      ]
     },
     "execution_count": 24,
     "metadata": {},
     "output_type": "execute_result"
    }
   ],
   "source": [
    "model[(2)].weight"
   ]
  },
  {
   "cell_type": "markdown",
   "metadata": {},
   "source": [
    "## Round 2: Two-Hidden-Layer Neural Network"
   ]
  },
  {
   "cell_type": "code",
   "execution_count": 25,
   "metadata": {
    "collapsed": true
   },
   "outputs": [],
   "source": [
    "# Make the torch Tensor into a PyTorch Variable for dependent variables\n",
    "outcomes_Variable = Variable(outcomes_Tensor)\n",
    "\n",
    "\n",
    "# ...for independent variables\n",
    "features_Variable = Variable(features_Tensor,\n",
    "                             requires_grad = False)"
   ]
  },
  {
   "cell_type": "code",
   "execution_count": 26,
   "metadata": {
    "collapsed": true
   },
   "outputs": [],
   "source": [
    "# Make the neural network\n",
    "model = torch.nn.Sequential(torch.nn.Linear(24, 16),\n",
    "                            torch.nn.ReLU(),\n",
    "                            torch.nn.Linear(16, 11),\n",
    "                            torch.nn.ReLU(),\n",
    "                            torch.nn.Linear(11, 1))"
   ]
  },
  {
   "cell_type": "code",
   "execution_count": 27,
   "metadata": {
    "collapsed": false
   },
   "outputs": [],
   "source": [
    "# To add errors to\n",
    "errors = []\n",
    "\n",
    "\n",
    "# Set the learning rate\n",
    "learning_rate = 1e-2\n",
    "\n",
    "\n",
    "# Define the model's optimizer\n",
    "optimizer = torch.optim.Adagrad(model.parameters(), lr = learning_rate)\n",
    "\n",
    "\n",
    "# Train the neural network\n",
    "for t in range(10000):\n",
    "    \n",
    "    # Get the current predictions\n",
    "    y_pred = model(features_Variable)\n",
    "    \n",
    "    # Compute and append current summed errors\n",
    "    loss = loss_fn(y_pred, outcomes_Variable)\n",
    "    errors.append(loss.data[0])\n",
    "    \n",
    "    # Zero the gradients before running the backward pass.\n",
    "    optimizer.zero_grad()\n",
    "    \n",
    "    # Backward pass: compute gradient of the loss with respect to all the learnable Variables\n",
    "    loss.backward()\n",
    "    \n",
    "    # Update the weights using Adagrad\n",
    "    optimizer.step()"
   ]
  },
  {
   "cell_type": "code",
   "execution_count": 28,
   "metadata": {
    "collapsed": false
   },
   "outputs": [
    {
     "data": {
      "text/plain": [
       "<matplotlib.collections.PathCollection at 0x7f42ac374860>"
      ]
     },
     "execution_count": 28,
     "metadata": {},
     "output_type": "execute_result"
    },
    {
     "data": {
      "image/png": "[encoded data removed]",
      "text/plain": [
       "<matplotlib.figure.Figure at 0x7f42ac459358>"
      ]
     },
     "metadata": {},
     "output_type": "display_data"
    }
   ],
   "source": [
    "# Plot summed error as a function of iteration\n",
    "plt.scatter(iterations, errors, c = \"black\", alpha = 0.25)"
   ]
  },
  {
   "cell_type": "code",
   "execution_count": 29,
   "metadata": {
    "collapsed": false
   },
   "outputs": [],
   "source": [
    "# Get rid of the 2nd dimension of 1 from the FloatTensor\n",
    "y_pred_resized = y_pred.resize(8308)\n",
    "\n",
    "\n",
    "# Make the FloatTensor into a numpy.array\n",
    "y_pred_array = y_pred_resized.data.numpy()\n",
    "\n",
    "\n",
    "# Make the numpy.array into a list\n",
    "y_pred_list = y_pred_array.tolist()"
   ]
  },
  {
   "cell_type": "code",
   "execution_count": 30,
   "metadata": {
    "collapsed": false
   },
   "outputs": [
    {
     "data": {
      "text/plain": [
       "[<matplotlib.lines.Line2D at 0x7f42acee3780>]"
      ]
     },
     "execution_count": 30,
     "metadata": {},
     "output_type": "execute_result"
    },
    {
     "data": {
      "image/png": "[encoded data removed]",
      "text/plain": [
       "<matplotlib.figure.Figure at 0x7f42acee3a20>"
      ]
     },
     "metadata": {},
     "output_type": "display_data"
    }
   ],
   "source": [
    "# Plot predictions versus training set outcomes\n",
    "plt.scatter(outcomes_list, y_pred_list, c = \"black\", alpha = 0.15)\n",
    "\n",
    "axes = plt.gca()\n",
    "\n",
    "axes.set_xlim([-2, 4])\n",
    "\n",
    "axes.set_ylim([-2, 4])\n",
    "\n",
    "plt.plot([-2, 4], [-2, 4], 'k-', lw=2)"
   ]
  },
  {
   "cell_type": "markdown",
   "metadata": {},
   "source": [
    "### Round 2.1: Validation Set Performance"
   ]
  },
  {
   "cell_type": "code",
   "execution_count": 31,
   "metadata": {
    "collapsed": false
   },
   "outputs": [
    {
     "data": {
      "text/plain": [
       "Variable containing:\n",
       " 485.7485\n",
       "[torch.FloatTensor of size 1]"
      ]
     },
     "execution_count": 31,
     "metadata": {},
     "output_type": "execute_result"
    }
   ],
   "source": [
    "# Get the validation set predictions\n",
    "y_valid_pred = model(valid_predictors_Variable)\n",
    "\n",
    "\n",
    "# Print the loss\n",
    "loss_fn(y_valid_pred,\n",
    "        valid_outcomes_Variable)"
   ]
  },
  {
   "cell_type": "code",
   "execution_count": 32,
   "metadata": {
    "collapsed": false
   },
   "outputs": [],
   "source": [
    "# Get rid of the 2nd dimension of 1 from the FloatTensor\n",
    "y_valid_pred_resized = y_valid_pred.resize(2808)\n",
    "\n",
    "\n",
    "# Make the FloatTensor into a numpy.array\n",
    "y_valid_pred_array = y_valid_pred_resized.data.numpy()\n",
    "\n",
    "\n",
    "# Convert back to log scale\n",
    "y_valid_pred_array = y_valid_pred_array*5.407597 + 7.688844\n",
    "\n",
    "\n",
    "# Make the numpy.array into a list\n",
    "y_valid_pred_list = y_valid_pred_array.tolist()"
   ]
  },
  {
   "cell_type": "code",
   "execution_count": 33,
   "metadata": {
    "collapsed": false
   },
   "outputs": [
    {
     "data": {
      "text/plain": [
       "<matplotlib.text.Text at 0x7f42ac2b03c8>"
      ]
     },
     "execution_count": 33,
     "metadata": {},
     "output_type": "execute_result"
    },
    {
     "data": {
      "image/png": "[encoded data removed]",
      "text/plain": [
       "<matplotlib.figure.Figure at 0x7f42ac21f828>"
      ]
     },
     "metadata": {},
     "output_type": "display_data"
    }
   ],
   "source": [
    "# Plot new predictions versus new data outcomes\n",
    "plt.scatter(valid_outcomes_list, y_valid_pred_list, c = \"black\", alpha = 0.15)\n",
    "\n",
    "axes = plt.gca()\n",
    "\n",
    "axes.set_xlim([0, 24])\n",
    "\n",
    "axes.set_ylim([0, 24])\n",
    "\n",
    "axes.set_xticks([0, 4, 8, 12, 16, 20, 24])\n",
    "\n",
    "axes.set_yticks([0, 4, 8, 12, 16, 20, 24])\n",
    "\n",
    "plt.plot([0, 24], [0, 24], 'k-', lw = 2)\n",
    "\n",
    "axes.set_xlabel(\"Actual Outcome (Log-Transformed US Dollars)\")\n",
    "\n",
    "axes.set_ylabel(\"Model Prediction (Log-Transformed US Dollars)\")\n",
    "\n",
    "axes.set_title(\"Model Performance\")"
   ]
  },
  {
   "cell_type": "code",
   "execution_count": 34,
   "metadata": {
    "collapsed": false
   },
   "outputs": [
    {
     "data": {
      "text/plain": [
       "Parameter containing:\n",
       "\n",
       "Columns 0 to 9 \n",
       " 0.1568 -0.1685  0.0051 -0.0116  0.1612 -0.0506 -0.3520 -0.0696  0.3183  0.0441\n",
       " 0.1452  0.1289  0.1383  0.0217  0.1900 -0.0236 -0.1184  0.2204 -0.2107 -0.1516\n",
       " 0.0113  0.1714  0.2292 -0.0752  0.0306  0.1986  0.0367  0.1790  0.0939 -0.4013\n",
       " 0.1339  0.0902 -0.4341  0.2942  0.0069 -0.3006 -0.2218 -0.0135 -0.0509 -0.1192\n",
       " 0.0243 -0.1190 -0.1778 -0.0348  0.0800 -0.1177  0.1229 -0.2047  0.5074 -0.0824\n",
       "-0.2319  0.5572  0.2645 -0.0367  0.2486 -0.3638  0.0124  0.2701  0.2530 -0.1967\n",
       " 0.0287  0.1427 -0.0076 -0.0667  0.0076  0.0645  0.3029 -0.1497  0.2542  0.0788\n",
       " 0.1822 -0.0009 -0.0104 -0.0770 -0.0802  0.2899 -0.2451 -0.1582  0.1334  0.1116\n",
       "-0.2077 -0.0335 -0.2054  0.0051 -0.0378 -0.1422 -0.2542 -0.1121 -0.1533  0.0296\n",
       " 0.0565 -0.2188 -0.0985 -0.2189  0.1442  0.1591  0.2463 -0.2888  0.1659  0.0084\n",
       " 0.0040  0.2239  0.2827 -0.0937 -0.3493  0.2378  0.3115  0.1316 -0.1701  0.2738\n",
       "-0.0742  0.1753  0.2434 -0.1266  0.1670 -0.0420 -0.0584  0.0231  0.2147  0.1587\n",
       " 0.0831  0.2607 -0.1516  0.2991  0.2465  0.1538 -0.0861 -0.0122  0.2018  0.4409\n",
       " 0.0611 -0.1224  0.0759  0.0863 -0.1308  0.1540 -0.1768  0.1488  0.0109  0.2276\n",
       "-0.1411 -0.1013 -0.1893 -0.0103  0.0750 -0.1995 -0.0625  0.0037  0.0725 -0.0891\n",
       "-0.1871 -0.0445  0.3918 -0.1820  0.0655 -0.3149  0.0734 -0.0843 -0.1729 -0.1287\n",
       "\n",
       "Columns 10 to 19 \n",
       " 0.0044 -0.0572 -0.2069 -0.0116 -0.1106 -0.3036 -0.1354  0.1397  0.0609  0.1294\n",
       "-0.0160  0.0958 -0.0941 -0.1391  0.2896  0.0223  0.0694  0.1645 -0.0017  0.2097\n",
       "-0.0295 -0.0054  0.0596  0.0053  0.0581 -0.3278 -0.1483  0.2288  0.0208  0.0307\n",
       " 0.0274  0.0024  0.0894  0.4846  0.3916 -0.0859  0.2107 -0.1166 -0.2633  0.2170\n",
       "-0.0320 -0.2873  0.1055 -0.3358  0.2023  0.3743 -0.0051  0.1447 -0.1833 -0.2544\n",
       "-0.1334 -0.0813 -0.1243 -0.1076  0.1839 -0.6652 -0.0441  0.4447 -0.1685  0.0317\n",
       " 0.3120  0.0016 -0.5354  0.0521  0.1417 -0.1676  0.0968 -0.2106  0.2604 -0.0944\n",
       " 0.1742  0.0450 -0.1045 -0.0781 -0.0892 -0.0831 -0.3314 -0.1607  0.0067  0.1207\n",
       " 0.1572  0.2276 -0.1612 -0.1361 -0.2788 -0.0612 -0.1821  0.0656 -0.0326  0.0604\n",
       " 0.1292  0.0772  0.0797 -0.4712  0.0908  0.1201  0.1042 -0.0101 -0.0859 -0.1580\n",
       "-0.3392 -0.0396 -0.0352  0.1787  0.0775 -0.2186  0.1555 -0.2223  0.0812 -0.0343\n",
       "-0.0392 -0.0515  0.3217 -0.1439  0.1140 -0.1549 -0.2527  0.1569  0.2221 -0.0085\n",
       "-0.4644  0.0276 -0.0295  0.0680 -0.1609 -0.0305  0.1876 -0.1809 -0.1087  0.0015\n",
       " 0.2086  0.0340  0.1668  0.0962 -0.0695 -0.0134  0.0398  0.0277 -0.2622  0.0026\n",
       "-0.0652 -0.1921  0.0948 -0.0650  0.2239  0.2238  0.1132  0.0381  0.1139  0.1265\n",
       "-0.1384  0.1227 -0.0260  0.0769  0.2086  0.2931 -0.4554 -0.1146  0.2711 -0.3462\n",
       "\n",
       "Columns 20 to 23 \n",
       "-0.0547  0.2325 -0.1406 -0.2149\n",
       " 0.1525  0.1337  0.0109 -0.1450\n",
       " 0.0011  0.0485 -0.2141 -0.1232\n",
       "-0.1719 -0.2318 -0.3616  0.0154\n",
       " 0.0017 -0.0889 -0.3020  0.1064\n",
       "-0.1018  0.0126  0.1611 -0.3792\n",
       " 0.0468 -0.1053 -0.1596 -0.2786\n",
       "-0.2325 -0.3386 -0.0619 -0.1470\n",
       "-0.2111  0.0902  0.2181  0.1149\n",
       " 0.3936 -0.1286 -0.1369  0.0874\n",
       "-0.3682 -0.2307 -0.2836 -0.0926\n",
       "-0.1202  0.1167 -0.1830 -0.2577\n",
       "-0.0208  0.2346 -0.1250  0.1514\n",
       " 0.1453  0.3054  0.1847 -0.0898\n",
       " 0.1893  0.4697  0.0443  0.1215\n",
       " 0.3480 -0.4319 -0.3398  0.0894\n",
       "[torch.FloatTensor of size 16x24]"
      ]
     },
     "execution_count": 34,
     "metadata": {},
     "output_type": "execute_result"
    }
   ],
   "source": [
    "model[(0)].weight"
   ]
  },
  {
   "cell_type": "code",
   "execution_count": 35,
   "metadata": {
    "collapsed": false
   },
   "outputs": [
    {
     "data": {
      "text/plain": [
       "Parameter containing:\n",
       "\n",
       "Columns 0 to 9 \n",
       " 0.0619 -0.2655 -0.6715 -0.1515 -0.0727  0.2893  0.2631  0.1333  0.0024  0.1267\n",
       " 0.0843  0.0318 -0.1398 -0.2499  0.1892 -0.0672  0.0981 -0.0213 -0.5219  0.1632\n",
       " 0.2150 -0.3279 -0.0888 -0.3709 -0.0669  0.1653 -0.3472 -0.1207 -0.0568  0.2793\n",
       " 0.2503 -0.0043  0.1185 -0.0058  0.1852 -0.2815  0.0380 -0.2010  0.0314  0.3055\n",
       "-0.7061  0.3635  0.0300  0.0715 -0.9847 -0.4148  0.0603  0.7844 -1.1582  0.1176\n",
       " 0.2375  0.2172  0.2798 -0.0373 -0.2562 -0.2913  0.1626 -0.2640  0.0103  0.0851\n",
       "-0.4004 -0.0967 -0.0620  0.1738 -0.2976 -0.3182  0.1331 -0.2790 -0.1655 -0.5874\n",
       " 0.0236 -0.1024  0.1528 -0.0773 -0.0164 -0.0583  0.1901 -0.1319 -0.0283  0.3529\n",
       " 0.1336  0.1793  0.3328  0.1538  0.1685 -0.0023  0.1333 -0.3763  0.2560  0.1298\n",
       " 0.0819  0.0006  0.1144  0.0549  0.2473 -0.3926  0.1970 -0.2444  0.2010  0.2442\n",
       " 0.3540 -0.0623  0.3480 -0.0139 -0.0213 -0.3030  0.1308 -0.2842 -0.1189  0.3174\n",
       "\n",
       "Columns 10 to 15 \n",
       " 0.1009 -0.5103 -0.3907  0.0731  0.3215 -0.9359\n",
       " 0.3055  0.2499 -0.3274 -0.2029 -0.3358 -0.0185\n",
       "-0.0319 -0.2265  0.0439 -0.1818  0.1637 -0.1903\n",
       " 0.2988  0.2696 -0.0230  0.0044  0.0336  0.1625\n",
       " 0.0296  0.4824 -0.3016 -0.9240 -0.2057 -0.0117\n",
       " 0.2994  0.1012  0.2293  0.2238  0.2965  0.0133\n",
       "-0.0076  0.2465 -0.2785 -0.1073  0.1710  0.0934\n",
       "-0.0612  0.2459 -0.0148  0.1773  0.1420  0.1959\n",
       "-0.0063  0.0430  0.1772  0.2116 -0.1593 -0.1930\n",
       "-0.0142 -0.0839 -0.1736  0.2046  0.3672  0.3467\n",
       " 0.3082 -0.1019  0.0791  0.1363  0.2518  0.2389\n",
       "[torch.FloatTensor of size 11x16]"
      ]
     },
     "execution_count": 35,
     "metadata": {},
     "output_type": "execute_result"
    }
   ],
   "source": [
    "model[(2)].weight"
   ]
  },
  {
   "cell_type": "code",
   "execution_count": 36,
   "metadata": {
    "collapsed": false
   },
   "outputs": [
    {
     "data": {
      "text/plain": [
       "Parameter containing:\n",
       "\n",
       "Columns 0 to 9 \n",
       "-0.6458 -0.4621 -0.5630  0.2343 -1.1750  0.3047  0.1492  0.1288  0.2873  0.1427\n",
       "\n",
       "Columns 10 to 10 \n",
       " 0.1648\n",
       "[torch.FloatTensor of size 1x11]"
      ]
     },
     "execution_count": 36,
     "metadata": {},
     "output_type": "execute_result"
    }
   ],
   "source": [
    "model[(4)].weight"
   ]
  },
  {
   "cell_type": "markdown",
   "metadata": {},
   "source": [
    "## Round 3: Three-Hidden-Layer Neural Network"
   ]
  },
  {
   "cell_type": "code",
   "execution_count": 37,
   "metadata": {
    "collapsed": true
   },
   "outputs": [],
   "source": [
    "# Make the torch Tensor into a PyTorch Variable for dependent variables\n",
    "outcomes_Variable = Variable(outcomes_Tensor)\n",
    "\n",
    "\n",
    "# ...for independent variables\n",
    "features_Variable = Variable(features_Tensor,\n",
    "                             requires_grad = False)"
   ]
  },
  {
   "cell_type": "code",
   "execution_count": 38,
   "metadata": {
    "collapsed": false
   },
   "outputs": [],
   "source": [
    "# Make the neural network\n",
    "model = torch.nn.Sequential(torch.nn.Linear(24, 16),\n",
    "                            torch.nn.ReLU(),\n",
    "                            torch.nn.Linear(16, 11),\n",
    "                            torch.nn.ReLU(),\n",
    "                            torch.nn.Linear(11, 7),\n",
    "                            torch.nn.ReLU(),\n",
    "                            torch.nn.Linear(7, 1))"
   ]
  },
  {
   "cell_type": "code",
   "execution_count": 39,
   "metadata": {
    "collapsed": false
   },
   "outputs": [],
   "source": [
    "# To add errors to\n",
    "errors = []\n",
    "\n",
    "\n",
    "# Set the learning rate\n",
    "learning_rate = 1e-2\n",
    "\n",
    "\n",
    "# Define the model's optimizer\n",
    "optimizer = torch.optim.Adagrad(model.parameters(), lr = learning_rate)\n",
    "\n",
    "\n",
    "# Train the neural network\n",
    "for t in range(10000):\n",
    "    \n",
    "    # Get the current predictions\n",
    "    y_pred = model(features_Variable)\n",
    "    \n",
    "    # Compute and append current summed errors\n",
    "    loss = loss_fn(y_pred, outcomes_Variable)\n",
    "    errors.append(loss.data[0])\n",
    "    \n",
    "    # Zero the gradients before running the backward pass.\n",
    "    optimizer.zero_grad()\n",
    "    \n",
    "    # Backward pass: compute gradient of the loss with respect to all the learnable Variables\n",
    "    loss.backward()\n",
    "    \n",
    "    # Update the weights using Adagrad\n",
    "    optimizer.step()"
   ]
  },
  {
   "cell_type": "code",
   "execution_count": 40,
   "metadata": {
    "collapsed": false
   },
   "outputs": [
    {
     "data": {
      "text/plain": [
       "<matplotlib.collections.PathCollection at 0x7f42ac1a7b00>"
      ]
     },
     "execution_count": 40,
     "metadata": {},
     "output_type": "execute_result"
    },
    {
     "data": {
      "image/png": "[encoded data removed]",
      "text/plain": [
       "<matplotlib.figure.Figure at 0x7f42ac384208>"
      ]
     },
     "metadata": {},
     "output_type": "display_data"
    }
   ],
   "source": [
    "# Plot summed error as a function of iteration\n",
    "plt.scatter(iterations, errors, c = \"black\", alpha = 0.25)"
   ]
  },
  {
   "cell_type": "code",
   "execution_count": 41,
   "metadata": {
    "collapsed": true
   },
   "outputs": [],
   "source": [
    "# Get rid of the 2nd dimension of 1 from the FloatTensor\n",
    "y_pred_resized = y_pred.resize(8308)\n",
    "\n",
    "\n",
    "# Make the FloatTensor into a numpy.array\n",
    "y_pred_array = y_pred_resized.data.numpy()\n",
    "\n",
    "\n",
    "# Make the numpy.array into a list\n",
    "y_pred_list = y_pred_array.tolist()"
   ]
  },
  {
   "cell_type": "code",
   "execution_count": 42,
   "metadata": {
    "collapsed": false
   },
   "outputs": [
    {
     "data": {
      "text/plain": [
       "[<matplotlib.lines.Line2D at 0x7f42ac13be48>]"
      ]
     },
     "execution_count": 42,
     "metadata": {},
     "output_type": "execute_result"
    },
    {
     "data": {
      "image/png": "[encoded data removed]",
      "text/plain": [
       "<matplotlib.figure.Figure at 0x7f42ac1ec0b8>"
      ]
     },
     "metadata": {},
     "output_type": "display_data"
    }
   ],
   "source": [
    "# Plot predictions versus training set outcomes\n",
    "plt.scatter(outcomes_list, y_pred_list, c = \"black\", alpha = 0.15)\n",
    "\n",
    "axes = plt.gca()\n",
    "\n",
    "axes.set_xlim([-2, 4])\n",
    "\n",
    "axes.set_ylim([-2, 4])\n",
    "\n",
    "plt.plot([-2, 4], [-2, 4], 'k-', lw=2)"
   ]
  },
  {
   "cell_type": "markdown",
   "metadata": {},
   "source": [
    "### Round 3.1: Validation Set Performance"
   ]
  },
  {
   "cell_type": "code",
   "execution_count": 43,
   "metadata": {
    "collapsed": false
   },
   "outputs": [
    {
     "data": {
      "text/plain": [
       "Variable containing:\n",
       " 490.5879\n",
       "[torch.FloatTensor of size 1]"
      ]
     },
     "execution_count": 43,
     "metadata": {},
     "output_type": "execute_result"
    }
   ],
   "source": [
    "# Get the validation set predictions\n",
    "y_valid_pred = model(valid_predictors_Variable)\n",
    "\n",
    "\n",
    "# Print the loss\n",
    "loss_fn(y_valid_pred,\n",
    "        valid_outcomes_Variable)"
   ]
  },
  {
   "cell_type": "code",
   "execution_count": 44,
   "metadata": {
    "collapsed": false
   },
   "outputs": [],
   "source": [
    "# Get rid of the 2nd dimension of 1 from the FloatTensor\n",
    "y_valid_pred_resized = y_valid_pred.resize(2808)\n",
    "\n",
    "\n",
    "# Make the FloatTensor into a numpy.array\n",
    "y_valid_pred_array = y_valid_pred_resized.data.numpy()\n",
    "\n",
    "\n",
    "# Convert back to log scale\n",
    "y_valid_pred_array = y_valid_pred_array*5.407597 + 7.688844\n",
    "\n",
    "\n",
    "# Make the numpy.array into a list\n",
    "y_valid_pred_list = y_valid_pred_array.tolist()"
   ]
  },
  {
   "cell_type": "code",
   "execution_count": 45,
   "metadata": {
    "collapsed": false
   },
   "outputs": [
    {
     "data": {
      "text/plain": [
       "<matplotlib.text.Text at 0x7f42ac0e4668>"
      ]
     },
     "execution_count": 45,
     "metadata": {},
     "output_type": "execute_result"
    },
    {
     "data": {
      "image/png": "[encoded data removed]",
      "text/plain": [
       "<matplotlib.figure.Figure at 0x7f42ac3059e8>"
      ]
     },
     "metadata": {},
     "output_type": "display_data"
    }
   ],
   "source": [
    "# Plot new predictions versus new data outcomes\n",
    "plt.scatter(valid_outcomes_list, y_valid_pred_list, c = \"black\", alpha = 0.15)\n",
    "\n",
    "axes = plt.gca()\n",
    "\n",
    "axes.set_xlim([0, 24])\n",
    "\n",
    "axes.set_ylim([0, 24])\n",
    "\n",
    "axes.set_xticks([0, 4, 8, 12, 16, 20, 24])\n",
    "\n",
    "axes.set_yticks([0, 4, 8, 12, 16, 20, 24])\n",
    "\n",
    "plt.plot([0, 24], [0, 24], 'k-', lw = 2)\n",
    "\n",
    "axes.set_xlabel(\"Actual Outcome (Log-Transformed US Dollars)\")\n",
    "\n",
    "axes.set_ylabel(\"Model Prediction (Log-Transformed US Dollars)\")\n",
    "\n",
    "axes.set_title(\"Model Performance\")"
   ]
  },
  {
   "cell_type": "code",
   "execution_count": 46,
   "metadata": {
    "collapsed": false
   },
   "outputs": [
    {
     "data": {
      "text/plain": [
       "Parameter containing:\n",
       "\n",
       "Columns 0 to 9 \n",
       " 0.0494 -0.1130  0.0796  0.0116  0.0913 -0.0109 -0.0961 -0.0369 -0.2410 -0.2952\n",
       "-0.1623 -0.1268 -0.0124 -0.1821 -0.0317 -0.3551  0.1553 -0.1010  0.2319 -0.1183\n",
       "-0.1963 -0.0186  0.0773  0.2270 -0.2050  0.2590 -0.1521 -0.0309  0.3630  0.2480\n",
       " 0.2880  0.0586 -0.1213 -0.0004  0.1052  0.3700  0.0128  0.0234  0.1218 -0.0307\n",
       " 0.2163  0.3572 -0.0214 -0.0016 -0.1280  0.0380 -0.0459  0.2002  0.1458 -0.1425\n",
       " 0.3060  0.0647 -0.1675  0.2915  0.0970  0.2550 -0.1804 -0.2729 -0.1352 -0.2522\n",
       " 0.2234 -0.1242  0.0353 -0.1335  0.3164 -0.2544 -0.1050  0.2239  0.0869 -0.0011\n",
       "-0.0919 -0.3702 -0.3009 -0.1942 -0.2419  0.1283 -0.1465  0.1616 -0.1945 -0.0163\n",
       " 0.0388 -0.3144  0.1150 -0.0737  0.1081 -0.2666  0.1127 -0.0956 -0.0815 -0.0308\n",
       "-0.2300 -0.3677 -0.0723 -0.1851 -0.1492 -0.1426  0.3373  0.1190 -0.2731  0.2527\n",
       " 0.1594  0.0406 -0.1039  0.3871 -0.3493  0.0823  0.0339  0.0703  0.0179  0.3344\n",
       " 0.0051  0.1190 -0.2383  0.2615  0.2322 -0.0590  0.1483 -0.3399  0.1952  0.3651\n",
       "-0.2152 -0.1371  0.1016 -0.1398  0.0042  0.2683  0.3498  0.0142 -0.0748 -0.0988\n",
       " 0.3432 -0.2499  0.0808 -0.3112  0.2236  0.1448  0.2217  0.0644  0.0777 -0.4361\n",
       " 0.3487  0.2680  0.1246 -0.2294 -0.0851  0.1975  0.1423  0.1213  0.0493  0.2076\n",
       " 0.0643 -0.0643  0.0413  0.0828  0.0638  0.1625 -0.0934  0.1043  0.2595 -0.0000\n",
       "\n",
       "Columns 10 to 19 \n",
       " 0.2464 -0.0463  0.2307  0.4175  0.0883 -0.2664 -0.0825 -0.0296  0.1207 -0.1970\n",
       " 0.1128 -0.2340 -0.3672 -0.0102  0.2566 -0.1539 -0.0251  0.1267  0.1183 -0.0624\n",
       " 0.2425 -0.1146 -0.1175  0.1032  0.1931  0.1766  0.0011 -0.1936  0.1852  0.0568\n",
       "-0.0819 -0.1817 -0.0142  0.1633  0.0835  0.4466 -0.0243  0.3225  0.0084  0.0221\n",
       " 0.0284 -0.2351 -0.1891  0.0077  0.0066 -0.1433  0.0084  0.0206 -0.0406 -0.0890\n",
       " 0.0226 -0.4348  0.0786 -0.1855  0.1414  0.1715  0.0526 -0.0933 -0.3487  0.0335\n",
       "-0.3186  0.0350  0.0284  0.0206  0.1449  0.2389  0.1878  0.0905 -0.0066  0.1070\n",
       " 0.2971 -0.0222 -0.2387 -0.1992 -0.3710  0.1107 -0.0621 -0.0592 -0.0756  0.2667\n",
       "-0.3660 -0.0836 -0.2007  0.2714 -0.2575  0.1627  0.1895  0.3117  0.0545  0.0649\n",
       " 0.1826 -0.0821 -0.1922 -0.2767 -0.0815 -0.3446  0.2569 -0.1615  0.0385  0.1901\n",
       " 0.0094 -0.0689  0.1383 -0.2526  0.2301 -0.0078 -0.0153  0.0599 -0.1659 -0.0659\n",
       " 0.0721 -0.2003 -0.0128 -0.2849 -0.0398 -0.0039  0.1967  0.0310  0.0874  0.1297\n",
       " 0.1560 -0.2628 -0.2086 -0.2328  0.0762 -0.0727  0.2815 -0.0824 -0.0015  0.1211\n",
       " 0.4071 -0.1067 -0.1368  0.3274  0.0673 -0.2459  0.0282 -0.1370  0.1424 -0.2084\n",
       " 0.0324 -0.2009 -0.3564  0.1191 -0.3143 -0.3147  0.3330 -0.0762 -0.0240  0.2080\n",
       "-0.1306  0.3720 -0.1292 -0.0338  0.0089 -0.1186 -0.2076 -0.0586  0.2915 -0.2080\n",
       "\n",
       "Columns 20 to 23 \n",
       "-0.0332  0.1455 -0.1383 -0.0955\n",
       " 0.0855 -0.0183 -0.1860  0.4202\n",
       "-0.1092  0.0368  0.0091  0.2604\n",
       " 0.0377  0.2642 -0.0543 -0.1987\n",
       " 0.0848  0.2218  0.1444  0.5129\n",
       " 0.0473  0.0079 -0.0622  0.3374\n",
       "-0.4794  0.0812 -0.0382  0.0449\n",
       " 0.1337 -0.3679 -0.1588  0.1722\n",
       "-0.0518 -0.2777 -0.2193  0.2212\n",
       "-0.1287 -0.0185 -0.0489 -0.0246\n",
       "-0.2102  0.0691  0.3321 -0.0825\n",
       " 0.1800  0.2624  0.3266 -0.0772\n",
       "-0.0278 -0.0471 -0.2689  0.0796\n",
       " 0.0072  0.1475 -0.4053 -0.2036\n",
       "-0.1855 -0.0055  0.1963  0.0916\n",
       " 0.1058 -0.0712 -0.1335  0.1592\n",
       "[torch.FloatTensor of size 16x24]"
      ]
     },
     "execution_count": 46,
     "metadata": {},
     "output_type": "execute_result"
    }
   ],
   "source": [
    "model[(0)].weight"
   ]
  },
  {
   "cell_type": "code",
   "execution_count": 47,
   "metadata": {
    "collapsed": false
   },
   "outputs": [
    {
     "data": {
      "text/plain": [
       "Parameter containing:\n",
       "\n",
       "Columns 0 to 9 \n",
       " 0.0969 -0.0577 -0.1533  0.0047  0.1286 -0.0216  0.1340  0.2879  0.2645  0.2684\n",
       " 0.2147  0.2517  0.0061  0.0939 -0.1171 -0.0575  0.2049  0.0155 -0.4457 -0.0107\n",
       " 0.1967  0.0049  0.0397  0.2007  0.4646  0.4948 -0.0521  0.2753 -0.2486  0.0248\n",
       " 0.0323 -0.9697  0.0597  0.0508 -1.0227 -0.0838  0.1712 -0.0118 -0.0925  0.1339\n",
       "-0.3344  0.0189 -0.1179 -0.0250  0.1975 -0.0502  0.1355  0.0983 -0.0167 -0.3833\n",
       " 0.1899  0.6362 -0.1567  0.3959 -0.2092 -0.1019  0.0761 -0.1889 -0.0187 -0.2389\n",
       " 0.3647  0.3387 -0.3694  0.0632  0.2040 -0.3740 -0.1326 -0.3014 -0.0812  0.1856\n",
       "-0.3828  0.2239  0.3521  0.1935 -0.0006  0.0184 -0.3035 -0.1884  0.4115  0.3102\n",
       "-0.1578 -0.3317  0.2554 -0.0103 -0.4148  0.3533  0.1471 -0.4060 -0.0993  0.2568\n",
       " 0.3553  0.3969 -0.0594  0.0102 -0.8217 -0.1970 -0.0201  0.2769  0.1761  0.0612\n",
       "-0.1390  0.0820  0.0574  0.1714  0.0802 -0.0891  0.1725 -0.2206  0.2551 -0.4276\n",
       "\n",
       "Columns 10 to 15 \n",
       " 0.2600 -0.1977 -0.1279 -0.3814  0.0107  0.0630\n",
       "-0.1292 -0.1135  0.0114 -0.4746  0.0309 -0.0626\n",
       " 0.1247  0.2718  0.1721  0.2599  0.3319  0.1699\n",
       " 0.1323 -0.4545 -0.5420 -0.0535  0.3605  0.1680\n",
       " 0.1328  0.0533  0.2222  0.2522  0.1340 -0.6277\n",
       " 0.2145 -0.1852  0.3662  0.0671  0.0682  0.1726\n",
       " 0.1377  0.1438  0.1727 -0.3756 -0.0834 -0.2570\n",
       "-0.4527  0.1053 -0.1371  0.4466 -0.1223  0.0711\n",
       "-0.1965  0.2226 -0.0848  0.1269  0.3512  0.1698\n",
       " 0.3730  0.1527  0.1409 -0.3599  0.0731  0.0715\n",
       " 0.2873  0.3357  0.0365  0.0104  0.3322  0.0675\n",
       "[torch.FloatTensor of size 11x16]"
      ]
     },
     "execution_count": 47,
     "metadata": {},
     "output_type": "execute_result"
    }
   ],
   "source": [
    "model[(2)].weight"
   ]
  },
  {
   "cell_type": "code",
   "execution_count": 48,
   "metadata": {
    "collapsed": false
   },
   "outputs": [
    {
     "data": {
      "text/plain": [
       "Parameter containing:\n",
       "\n",
       "Columns 0 to 9 \n",
       "-0.3037  0.3562 -0.0086  0.5092 -0.2544  0.2974 -0.1930 -0.0440  0.3932  0.2064\n",
       " 0.3043  0.0515  0.2506 -0.0834 -0.3297  0.2795 -0.1450 -0.2510  0.3264 -0.0254\n",
       " 0.0441  0.0560  0.1552 -0.2554  0.0473 -1.9288 -0.0417 -0.2319  0.0943 -0.1828\n",
       " 0.4713 -0.5064 -0.2510 -2.0717  0.4393 -1.1171  0.6942  0.6974  0.3695 -0.5423\n",
       " 0.0168 -0.2643 -0.2501  0.0619 -0.1810  0.0226 -0.2450 -0.0289 -0.2301 -0.3133\n",
       "-2.3909  0.0149 -0.5228 -1.5679  0.5825 -0.5241  0.1861  0.6055  0.2740  0.2287\n",
       "-0.2839 -0.2475 -0.1704  0.1713 -0.2786  0.0924 -0.0300 -0.2205 -0.2052  0.0798\n",
       "\n",
       "Columns 10 to 10 \n",
       " 0.2479\n",
       " 0.1419\n",
       "-0.6105\n",
       "-0.0935\n",
       "-0.3107\n",
       "-0.7735\n",
       "-0.0379\n",
       "[torch.FloatTensor of size 7x11]"
      ]
     },
     "execution_count": 48,
     "metadata": {},
     "output_type": "execute_result"
    }
   ],
   "source": [
    "model[(4)].weight"
   ]
  },
  {
   "cell_type": "code",
   "execution_count": 49,
   "metadata": {
    "collapsed": false
   },
   "outputs": [
    {
     "data": {
      "text/plain": [
       "Parameter containing:\n",
       " 0.4807  0.3260 -0.2744 -1.1187 -0.1024  2.7989  0.2316\n",
       "[torch.FloatTensor of size 1x7]"
      ]
     },
     "execution_count": 49,
     "metadata": {},
     "output_type": "execute_result"
    }
   ],
   "source": [
    "model[(6)].weight"
   ]
  },
  {
   "cell_type": "markdown",
   "metadata": {},
   "source": [
    "## Round 4: Four-Hidden-Layer Neural Network"
   ]
  },
  {
   "cell_type": "code",
   "execution_count": 50,
   "metadata": {
    "collapsed": true
   },
   "outputs": [],
   "source": [
    "# Make the torch Tensor into a PyTorch Variable for dependent variables\n",
    "outcomes_Variable = Variable(outcomes_Tensor)\n",
    "\n",
    "\n",
    "# ...for independent variables\n",
    "features_Variable = Variable(features_Tensor,\n",
    "                             requires_grad = False)"
   ]
  },
  {
   "cell_type": "code",
   "execution_count": 51,
   "metadata": {
    "collapsed": true
   },
   "outputs": [],
   "source": [
    "# Make the neural network\n",
    "model = torch.nn.Sequential(torch.nn.Linear(24, 16),\n",
    "                            torch.nn.ReLU(),\n",
    "                            torch.nn.Linear(16, 11),\n",
    "                            torch.nn.ReLU(),\n",
    "                            torch.nn.Linear(11, 7),\n",
    "                            torch.nn.ReLU(),\n",
    "                            torch.nn.Linear(7, 5),\n",
    "                            torch.nn.ReLU(),\n",
    "                            torch.nn.Linear(5, 1))"
   ]
  },
  {
   "cell_type": "code",
   "execution_count": 52,
   "metadata": {
    "collapsed": true
   },
   "outputs": [],
   "source": [
    "# To add errors to\n",
    "errors = []\n",
    "\n",
    "\n",
    "# Set the learning rate\n",
    "learning_rate = 1e-2\n",
    "\n",
    "\n",
    "# Define the model's optimizer\n",
    "optimizer = torch.optim.Adagrad(model.parameters(), lr = learning_rate)\n",
    "\n",
    "\n",
    "# Train the neural network\n",
    "for t in range(10000):\n",
    "    \n",
    "    # Get the current predictions\n",
    "    y_pred = model(features_Variable)\n",
    "    \n",
    "    # Compute and append current summed errors\n",
    "    loss = loss_fn(y_pred, outcomes_Variable)\n",
    "    errors.append(loss.data[0])\n",
    "    \n",
    "    # Zero the gradients before running the backward pass.\n",
    "    optimizer.zero_grad()\n",
    "    \n",
    "    # Backward pass: compute gradient of the loss with respect to all the learnable Variables\n",
    "    loss.backward()\n",
    "    \n",
    "    # Update the weights using Adagrad\n",
    "    optimizer.step()"
   ]
  },
  {
   "cell_type": "code",
   "execution_count": 53,
   "metadata": {
    "collapsed": false
   },
   "outputs": [
    {
     "data": {
      "text/plain": [
       "<matplotlib.collections.PathCollection at 0x7f42a7fcae10>"
      ]
     },
     "execution_count": 53,
     "metadata": {},
     "output_type": "execute_result"
    },
    {
     "data": {
      "image/png": "[encoded data removed]",
      "text/plain": [
       "<matplotlib.figure.Figure at 0x7f42ac082ac8>"
      ]
     },
     "metadata": {},
     "output_type": "display_data"
    }
   ],
   "source": [
    "# Plot summed error as a function of iteration\n",
    "plt.scatter(iterations, errors, c = \"black\", alpha = 0.25)"
   ]
  },
  {
   "cell_type": "code",
   "execution_count": 54,
   "metadata": {
    "collapsed": false
   },
   "outputs": [],
   "source": [
    "# Get rid of the 2nd dimension of 1 from the FloatTensor\n",
    "y_pred_resized = y_pred.resize(8308)\n",
    "\n",
    "\n",
    "# Make the FloatTensor into a numpy.array\n",
    "y_pred_array = y_pred_resized.data.numpy()\n",
    "\n",
    "\n",
    "# Make the numpy.array into a list\n",
    "y_pred_list = y_pred_array.tolist()"
   ]
  },
  {
   "cell_type": "code",
   "execution_count": 55,
   "metadata": {
    "collapsed": false
   },
   "outputs": [
    {
     "data": {
      "text/plain": [
       "[<matplotlib.lines.Line2D at 0x7f42ac01dda0>]"
      ]
     },
     "execution_count": 55,
     "metadata": {},
     "output_type": "execute_result"
    },
    {
     "data": {
      "image/png": "[encoded data removed]",
      "text/plain": [
       "<matplotlib.figure.Figure at 0x7f42ac01de10>"
      ]
     },
     "metadata": {},
     "output_type": "display_data"
    }
   ],
   "source": [
    "# Plot predictions versus training set outcomes\n",
    "plt.scatter(outcomes_list, y_pred_list, c = \"black\", alpha = 0.15)\n",
    "\n",
    "axes = plt.gca()\n",
    "\n",
    "axes.set_xlim([-2, 4])\n",
    "\n",
    "axes.set_ylim([-2, 4])\n",
    "\n",
    "plt.plot([-2, 4], [-2, 4], 'k-', lw=2)"
   ]
  },
  {
   "cell_type": "markdown",
   "metadata": {},
   "source": [
    "### Round 4.1: Validation Set Performance"
   ]
  },
  {
   "cell_type": "code",
   "execution_count": 56,
   "metadata": {
    "collapsed": false
   },
   "outputs": [
    {
     "data": {
      "text/plain": [
       "Variable containing:\n",
       " 477.8614\n",
       "[torch.FloatTensor of size 1]"
      ]
     },
     "execution_count": 56,
     "metadata": {},
     "output_type": "execute_result"
    }
   ],
   "source": [
    "# Get the validation set predictions\n",
    "y_valid_pred = model(valid_predictors_Variable)\n",
    "\n",
    "\n",
    "# Print the loss\n",
    "loss_fn(y_valid_pred,\n",
    "        valid_outcomes_Variable)"
   ]
  },
  {
   "cell_type": "code",
   "execution_count": 57,
   "metadata": {
    "collapsed": true
   },
   "outputs": [],
   "source": [
    "# Get rid of the 2nd dimension of 1 from the FloatTensor\n",
    "y_valid_pred_resized = y_valid_pred.resize(2808)\n",
    "\n",
    "\n",
    "# Make the FloatTensor into a numpy.array\n",
    "y_valid_pred_array = y_valid_pred_resized.data.numpy()\n",
    "\n",
    "\n",
    "# Convert back to log scale\n",
    "y_valid_pred_array = y_valid_pred_array*5.407597 + 7.688844\n",
    "\n",
    "\n",
    "# Make the numpy.array into a list\n",
    "y_valid_pred_list = y_valid_pred_array.tolist()"
   ]
  },
  {
   "cell_type": "code",
   "execution_count": 58,
   "metadata": {
    "collapsed": false
   },
   "outputs": [
    {
     "data": {
      "text/plain": [
       "<matplotlib.text.Text at 0x7f42a7f079b0>"
      ]
     },
     "execution_count": 58,
     "metadata": {},
     "output_type": "execute_result"
    },
    {
     "data": {
      "image/png": "[encoded data removed]",
      "text/plain": [
       "<matplotlib.figure.Figure at 0x7f42ac182668>"
      ]
     },
     "metadata": {},
     "output_type": "display_data"
    }
   ],
   "source": [
    "# Plot new predictions versus new data outcomes\n",
    "plt.scatter(valid_outcomes_list, y_valid_pred_list, c = \"black\", alpha = 0.15)\n",
    "\n",
    "axes = plt.gca()\n",
    "\n",
    "axes.set_xlim([0, 24])\n",
    "\n",
    "axes.set_ylim([0, 24])\n",
    "\n",
    "axes.set_xticks([0, 4, 8, 12, 16, 20, 24])\n",
    "\n",
    "axes.set_yticks([0, 4, 8, 12, 16, 20, 24])\n",
    "\n",
    "plt.plot([0, 24], [0, 24], 'k-', lw = 2)\n",
    "\n",
    "axes.set_xlabel(\"Actual Outcome (Log-Transformed US Dollars)\")\n",
    "\n",
    "axes.set_ylabel(\"Model Prediction (Log-Transformed US Dollars)\")\n",
    "\n",
    "axes.set_title(\"Model Performance\")"
   ]
  },
  {
   "cell_type": "code",
   "execution_count": 59,
   "metadata": {
    "collapsed": false
   },
   "outputs": [
    {
     "data": {
      "text/plain": [
       "Parameter containing:\n",
       "\n",
       "Columns 0 to 9 \n",
       " 0.1674  0.0083 -0.1438  0.0742 -0.0958  0.1817  0.1395 -0.0049  0.1170  0.4228\n",
       "-0.4455 -0.0025 -0.1969 -0.1999  0.5725 -0.0996 -0.3211 -0.2474  0.3415 -0.0802\n",
       " 0.1080  0.3100 -0.2021  0.2095  0.0524  0.1061 -0.1805  0.2920 -0.0067  0.3548\n",
       " 0.1332  0.3422  0.0601  0.2119  0.1276 -0.1061 -0.1419  0.0566  0.2979  0.3090\n",
       " 0.1725  0.0215 -0.1145  0.1509 -0.2145  0.1074 -0.2025 -0.2117  0.2402 -0.0329\n",
       "-0.5199  0.0296  0.3319 -0.3504 -0.2381 -0.2660 -0.0149  0.0748 -0.8338 -0.0826\n",
       " 0.0539  0.1562  0.1200  0.0218 -0.1253  0.4957  0.2462 -0.4606 -0.0028 -0.5861\n",
       " 0.1993 -0.0075 -0.0263  0.2866  0.1960  0.2120  0.2595  0.2442  0.0256  0.2874\n",
       " 0.0747  0.2699  0.2823 -0.0712  0.0834 -0.0568  0.2190  0.1048 -0.1592 -0.1074\n",
       "-0.3004  0.0271  0.2147  0.1199 -0.0791 -0.1670 -0.1339  0.1673  0.0078 -0.0016\n",
       "-0.0175  0.1371  0.0468  0.1868  0.1233 -0.3424 -0.1464  0.0350  0.1259 -0.0181\n",
       "-0.1385 -0.1579  0.2679 -0.3444  0.1783 -0.0887 -0.1846  0.3231  0.1706  0.2938\n",
       " 0.0475 -0.0661 -0.0732 -0.1435 -0.1002  0.1050  0.1640 -0.1839  0.2987 -0.2686\n",
       "-0.3915  0.3152 -0.0517  0.1761 -0.0184 -0.0852 -0.0348 -0.0935  0.0079  0.0037\n",
       " 0.3869 -0.0680  0.0805  0.4944  0.2554  0.1408 -0.4227  0.2225  0.4552  0.3729\n",
       "-0.1893 -0.0706  0.1245 -0.2297  0.0707  0.1436 -0.2003 -0.0357 -0.0281  0.0533\n",
       "\n",
       "Columns 10 to 19 \n",
       " 0.0656 -0.0559 -0.1585  0.0691  0.0321 -0.2805  0.3429 -0.0806 -0.0487 -0.1176\n",
       " 0.2130 -0.4350  0.0751 -0.1118  0.2254 -0.2189 -0.2574  0.4418  0.0262 -0.1514\n",
       "-0.1878  0.1642  0.1940 -0.2155 -0.1542  0.1428 -0.0032 -0.1950 -0.1756  0.1448\n",
       "-0.3348 -0.1300 -0.0271  0.2015  0.1842 -0.0317 -0.0316  0.0368 -0.1800 -0.0014\n",
       " 0.1593  0.3163 -0.1081  0.2789  0.3073  0.1534  0.5065  0.2613 -0.1201  0.2464\n",
       " 0.1859  0.1814  0.7184 -0.3316  0.1273  0.0973  0.1774 -0.0179 -0.0222 -0.4175\n",
       "-0.1127 -0.0482 -0.0437 -0.4171  0.3193  0.5038 -0.1481  0.1277 -0.1017 -0.3694\n",
       "-0.0178 -0.2567  0.0522  0.2547  0.2134 -0.3074 -0.0858 -0.2153 -0.1549  0.3381\n",
       "-0.4255  0.1160  0.0309  0.4067  0.1507 -0.1339 -0.1742 -0.0400 -0.0013  0.0259\n",
       " 0.1379  0.0771 -0.3904  0.2846  0.0078  0.3228 -0.1720 -0.0965  0.3268  0.2929\n",
       "-0.1451  0.1067  0.0155  0.2191  0.3205  0.1437  0.3338  0.1227 -0.0556  0.0709\n",
       " 0.0402  0.1896 -0.2767  0.1328 -0.0868  0.1849  0.0692 -0.1816  0.3913 -0.0130\n",
       " 0.1163  0.0701 -0.2881 -0.0227  0.1901 -0.4298 -0.1568 -0.2419 -0.1128 -0.0322\n",
       "-0.0876  0.0768 -0.1131  0.0720 -0.0957  0.2321 -0.0909  0.1539 -0.0122  0.0614\n",
       "-0.3970 -0.1511 -0.2892 -0.0787 -0.0956 -0.0532 -0.1223 -0.1060 -0.0703  0.4389\n",
       " 0.1737  0.1167  0.0222  0.0431 -0.0442  0.1783 -0.1647  0.1612  0.1139  0.1079\n",
       "\n",
       "Columns 20 to 23 \n",
       " 0.0246  0.1959  0.0437  0.0205\n",
       " 0.0412  0.0024 -0.4005  0.2141\n",
       " 0.1143  0.3173  0.1281 -0.1437\n",
       " 0.0881 -0.0222  0.0716  0.1575\n",
       "-0.3366  0.0397 -0.1575  0.3761\n",
       "-0.1108 -0.1692 -0.2147  0.0250\n",
       " 0.1022 -0.2885  0.2091  0.2315\n",
       "-0.1429  0.4408 -0.0126 -0.4448\n",
       " 0.1066  0.2034 -0.1104 -0.0597\n",
       " 0.0658  0.1255  0.1634  0.0357\n",
       "-0.4482  0.0112 -0.0057  0.1833\n",
       " 0.0391  0.2287  0.2975  0.0657\n",
       "-0.1749 -0.1980 -0.1497  0.0053\n",
       " 0.0266  0.1868  0.0392 -0.0854\n",
       " 0.0358  0.0650  0.2478 -0.0736\n",
       "-0.1791  0.1024  0.2317 -0.0848\n",
       "[torch.FloatTensor of size 16x24]"
      ]
     },
     "execution_count": 59,
     "metadata": {},
     "output_type": "execute_result"
    }
   ],
   "source": [
    "model[(0)].weight"
   ]
  },
  {
   "cell_type": "code",
   "execution_count": 60,
   "metadata": {
    "collapsed": false
   },
   "outputs": [
    {
     "data": {
      "text/plain": [
       "Parameter containing:\n",
       "\n",
       "Columns 0 to 9 \n",
       "-0.3310 -1.3627  0.4029 -0.5850 -0.9097 -0.2711 -1.5206 -0.6195 -0.0824  0.0746\n",
       " 0.3495  0.0816  0.2786 -0.3336 -0.1326 -0.1385  0.0428  0.1179  0.2530  0.2192\n",
       " 0.1515 -0.0226  0.1776 -0.2410  0.3094  0.2403  0.2702 -0.0768  0.0101  0.2182\n",
       " 0.2636  0.1563  0.2448 -0.1234  0.0961  0.0471  0.3446 -0.2054  0.0129  0.2780\n",
       "-0.1652  0.1279  0.2282  0.2852 -0.0489  0.2845  0.3072  0.3190  0.2868  0.3844\n",
       "-0.2333  0.2176  0.0253 -0.1803  0.3704  0.4084  0.4099  0.0795  0.0113  0.0074\n",
       "-0.3789 -0.3614 -0.7337  0.3619  0.0269 -0.1812  0.2294 -0.0042 -0.0737 -0.1787\n",
       " 0.0541  0.1220 -0.1416 -0.4264 -0.2359  0.3154  0.0856  0.0093  0.3237  0.2297\n",
       " 0.0783  0.2614  0.3162 -0.2988  0.3858 -0.0229  0.0604  0.3896  0.0734  0.2736\n",
       "-0.0902  0.2891 -0.0828  0.3437  0.1679  0.5748  0.1550  0.2418 -0.0367  0.2597\n",
       "-0.0780  0.1730 -0.0568 -0.2910  0.3282  0.1030  0.4193 -0.1230  0.1220 -0.1257\n",
       "\n",
       "Columns 10 to 15 \n",
       " 0.2524  0.1962 -0.2101 -0.0825 -0.4529 -0.2921\n",
       " 0.3570 -0.4040 -0.1531 -0.4611  0.1025  0.3407\n",
       "-0.1893  0.1996  0.3476  0.1850 -0.0071 -0.3450\n",
       " 0.1634  0.1200  0.2504 -0.1171  0.3940  0.3003\n",
       "-0.1050  0.1854 -0.0503  0.1050  0.3241 -0.0643\n",
       "-0.2799  0.3427  0.3465 -0.1304  0.3061 -0.1351\n",
       " 0.0707 -0.0035  0.0186 -0.1597  0.0314  0.5302\n",
       " 0.1901  0.0625  0.1316 -0.1411  0.0656  0.1050\n",
       "-0.2057  0.2874  0.3072 -0.1112  0.1143 -0.0338\n",
       " 0.2975 -0.0880  0.1250  0.1221 -0.0019 -0.0374\n",
       "-0.0732  0.0864  0.0671 -0.2743  0.3720  0.3513\n",
       "[torch.FloatTensor of size 11x16]"
      ]
     },
     "execution_count": 60,
     "metadata": {},
     "output_type": "execute_result"
    }
   ],
   "source": [
    "model[(2)].weight"
   ]
  },
  {
   "cell_type": "code",
   "execution_count": 61,
   "metadata": {
    "collapsed": false
   },
   "outputs": [
    {
     "data": {
      "text/plain": [
       "Parameter containing:\n",
       "\n",
       "Columns 0 to 9 \n",
       "-1.5444 -0.7291  0.1023 -0.2484  0.0200  0.2407  0.3896 -0.3533  0.3285 -0.0105\n",
       " 0.6563  0.2016  0.3341  0.3789 -0.0590  0.4002 -0.4541  0.2626  0.3383  0.2019\n",
       "-0.8686 -0.3954  0.3831  0.1358  0.0002  0.3110 -0.3694  0.3083  0.1787 -0.1806\n",
       "-0.9332 -0.3041  0.3368  0.3622  0.3331  0.4301  0.0613  0.0501  0.2976  0.4394\n",
       "-0.2071 -0.0593  0.0543  0.2133 -0.0920 -0.1012  0.2197 -0.2850 -0.1761 -0.2435\n",
       "-0.9680 -0.1240  0.3810 -0.0808  0.3962  0.3553 -0.1253  0.1788  0.1505  0.2216\n",
       " 0.5951  0.3214  0.3046  0.1191  0.0765 -0.0489 -1.0526  0.1250 -0.0178 -0.2100\n",
       "\n",
       "Columns 10 to 10 \n",
       "-0.0926\n",
       " 0.2973\n",
       " 0.4571\n",
       " 0.1486\n",
       "-0.1862\n",
       " 0.2584\n",
       " 0.3819\n",
       "[torch.FloatTensor of size 7x11]"
      ]
     },
     "execution_count": 61,
     "metadata": {},
     "output_type": "execute_result"
    }
   ],
   "source": [
    "model[(4)].weight"
   ]
  },
  {
   "cell_type": "code",
   "execution_count": 62,
   "metadata": {
    "collapsed": false
   },
   "outputs": [
    {
     "data": {
      "text/plain": [
       "Parameter containing:\n",
       "-0.2666  0.2712 -0.0680 -0.1500 -0.1667 -0.2055 -0.2749\n",
       "-0.1287 -0.1205 -0.0519  0.0749 -0.2729 -0.1208 -0.2928\n",
       " 0.0703  0.1524  0.0500  0.0138 -0.2177 -0.3918 -0.0686\n",
       "-0.8386  0.1749  0.2801  0.4339 -0.1781  0.4248  0.0822\n",
       " 1.0284 -0.2216  0.0285  0.3214  0.1680  0.3017 -0.4763\n",
       "[torch.FloatTensor of size 5x7]"
      ]
     },
     "execution_count": 62,
     "metadata": {},
     "output_type": "execute_result"
    }
   ],
   "source": [
    "model[(6)].weight"
   ]
  },
  {
   "cell_type": "code",
   "execution_count": 63,
   "metadata": {
    "collapsed": false
   },
   "outputs": [
    {
     "data": {
      "text/plain": [
       "Parameter containing:\n",
       "-0.2729  0.0083 -0.2368  0.2829 -0.8619\n",
       "[torch.FloatTensor of size 1x5]"
      ]
     },
     "execution_count": 63,
     "metadata": {},
     "output_type": "execute_result"
    }
   ],
   "source": [
    "model[(8)].weight"
   ]
  },
  {
   "cell_type": "markdown",
   "metadata": {},
   "source": [
    "## Round 5: Five-Hidden-Layer Neural Network"
   ]
  },
  {
   "cell_type": "code",
   "execution_count": 64,
   "metadata": {
    "collapsed": true
   },
   "outputs": [],
   "source": [
    "# Make the torch Tensor into a PyTorch Variable for dependent variables\n",
    "outcomes_Variable = Variable(outcomes_Tensor)\n",
    "\n",
    "\n",
    "# ...for independent variables\n",
    "features_Variable = Variable(features_Tensor,\n",
    "                             requires_grad = False)"
   ]
  },
  {
   "cell_type": "code",
   "execution_count": 65,
   "metadata": {
    "collapsed": true
   },
   "outputs": [],
   "source": [
    "# Make the neural network\n",
    "model = torch.nn.Sequential(torch.nn.Linear(24, 16),\n",
    "                            torch.nn.ReLU(),\n",
    "                            torch.nn.Linear(16, 11),\n",
    "                            torch.nn.ReLU(),\n",
    "                            torch.nn.Linear(11, 7),\n",
    "                            torch.nn.ReLU(),\n",
    "                            torch.nn.Linear(7, 5),\n",
    "                            torch.nn.ReLU(),\n",
    "                            torch.nn.Linear(5, 3),\n",
    "                            torch.nn.ReLU(),\n",
    "                            torch.nn.Linear(3, 1))"
   ]
  },
  {
   "cell_type": "code",
   "execution_count": 66,
   "metadata": {
    "collapsed": true
   },
   "outputs": [],
   "source": [
    "# To add errors to\n",
    "errors = []\n",
    "\n",
    "\n",
    "# Set the learning rate\n",
    "learning_rate = 1e-2\n",
    "\n",
    "\n",
    "# Define the model's optimizer\n",
    "optimizer = torch.optim.Adagrad(model.parameters(), lr = learning_rate)\n",
    "\n",
    "\n",
    "# Train the neural network\n",
    "for t in range(10000):\n",
    "    \n",
    "    # Get the current predictions\n",
    "    y_pred = model(features_Variable)\n",
    "    \n",
    "    # Compute and append current summed errors\n",
    "    loss = loss_fn(y_pred, outcomes_Variable)\n",
    "    errors.append(loss.data[0])\n",
    "    \n",
    "    # Zero the gradients before running the backward pass.\n",
    "    optimizer.zero_grad()\n",
    "    \n",
    "    # Backward pass: compute gradient of the loss with respect to all the learnable Variables\n",
    "    loss.backward()\n",
    "    \n",
    "    # Update the weights using Adagrad\n",
    "    optimizer.step()"
   ]
  },
  {
   "cell_type": "code",
   "execution_count": 67,
   "metadata": {
    "collapsed": false
   },
   "outputs": [
    {
     "data": {
      "text/plain": [
       "<matplotlib.collections.PathCollection at 0x7f42a7e7c588>"
      ]
     },
     "execution_count": 67,
     "metadata": {},
     "output_type": "execute_result"
    },
    {
     "data": {
      "image/png": "[encoded data removed]",
      "text/plain": [
       "<matplotlib.figure.Figure at 0x7f42a7edda90>"
      ]
     },
     "metadata": {},
     "output_type": "display_data"
    }
   ],
   "source": [
    "# Plot summed error as a function of iteration\n",
    "plt.scatter(iterations, errors, c = \"black\", alpha = 0.25)"
   ]
  },
  {
   "cell_type": "code",
   "execution_count": 68,
   "metadata": {
    "collapsed": true
   },
   "outputs": [],
   "source": [
    "# Get rid of the 2nd dimension of 1 from the FloatTensor\n",
    "y_pred_resized = y_pred.resize(8308)\n",
    "\n",
    "\n",
    "# Make the FloatTensor into a numpy.array\n",
    "y_pred_array = y_pred_resized.data.numpy()\n",
    "\n",
    "\n",
    "# Make the numpy.array into a list\n",
    "y_pred_list = y_pred_array.tolist()"
   ]
  },
  {
   "cell_type": "code",
   "execution_count": 69,
   "metadata": {
    "collapsed": false
   },
   "outputs": [
    {
     "data": {
      "text/plain": [
       "[<matplotlib.lines.Line2D at 0x7f42a7f6a518>]"
      ]
     },
     "execution_count": 69,
     "metadata": {},
     "output_type": "execute_result"
    },
    {
     "data": {
      "image/png": "[encoded data removed]",
      "text/plain": [
       "<matplotlib.figure.Figure at 0x7f42a7e89978>"
      ]
     },
     "metadata": {},
     "output_type": "display_data"
    }
   ],
   "source": [
    "# Plot predictions versus training set outcomes\n",
    "plt.scatter(outcomes_list, y_pred_list, c = \"black\", alpha = 0.15)\n",
    "\n",
    "axes = plt.gca()\n",
    "\n",
    "axes.set_xlim([-2, 4])\n",
    "\n",
    "axes.set_ylim([-2, 4])\n",
    "\n",
    "plt.plot([-2, 4], [-2, 4], 'k-', lw=2)"
   ]
  },
  {
   "cell_type": "markdown",
   "metadata": {},
   "source": [
    "### Round 5.1: Validation Set Performance"
   ]
  },
  {
   "cell_type": "code",
   "execution_count": 70,
   "metadata": {
    "collapsed": false
   },
   "outputs": [
    {
     "data": {
      "text/plain": [
       "Variable containing:\n",
       " 504.5322\n",
       "[torch.FloatTensor of size 1]"
      ]
     },
     "execution_count": 70,
     "metadata": {},
     "output_type": "execute_result"
    }
   ],
   "source": [
    "# Get the validation set predictions\n",
    "y_valid_pred = model(valid_predictors_Variable)\n",
    "\n",
    "\n",
    "# Print the loss\n",
    "loss_fn(y_valid_pred,\n",
    "        valid_outcomes_Variable)"
   ]
  },
  {
   "cell_type": "code",
   "execution_count": 71,
   "metadata": {
    "collapsed": false
   },
   "outputs": [],
   "source": [
    "# Get rid of the 2nd dimension of 1 from the FloatTensor\n",
    "y_valid_pred_resized = y_valid_pred.resize(2808)\n",
    "\n",
    "\n",
    "# Make the FloatTensor into a numpy.array\n",
    "y_valid_pred_array = y_valid_pred_resized.data.numpy()\n",
    "\n",
    "\n",
    "# Convert back to log scale\n",
    "y_valid_pred_array = y_valid_pred_array*5.407597 + 7.688844\n",
    "\n",
    "\n",
    "# Make the numpy.array into a list\n",
    "y_valid_pred_list = y_valid_pred_array.tolist()"
   ]
  },
  {
   "cell_type": "code",
   "execution_count": 72,
   "metadata": {
    "collapsed": false
   },
   "outputs": [
    {
     "data": {
      "text/plain": [
       "<matplotlib.text.Text at 0x7f42a7d7a160>"
      ]
     },
     "execution_count": 72,
     "metadata": {},
     "output_type": "execute_result"
    },
    {
     "data": {
      "image/png": "[encoded data removed]",
      "text/plain": [
       "<matplotlib.figure.Figure at 0x7f42a7e3af98>"
      ]
     },
     "metadata": {},
     "output_type": "display_data"
    }
   ],
   "source": [
    "# Plot new predictions versus new data outcomes\n",
    "plt.scatter(valid_outcomes_list, y_valid_pred_list, c = \"black\", alpha = 0.15)\n",
    "\n",
    "axes = plt.gca()\n",
    "\n",
    "axes.set_xlim([0, 24])\n",
    "\n",
    "axes.set_ylim([0, 24])\n",
    "\n",
    "axes.set_xticks([0, 4, 8, 12, 16, 20, 24])\n",
    "\n",
    "axes.set_yticks([0, 4, 8, 12, 16, 20, 24])\n",
    "\n",
    "plt.plot([0, 24], [0, 24], 'k-', lw = 2)\n",
    "\n",
    "axes.set_xlabel(\"Actual Outcome (Log-Transformed US Dollars)\")\n",
    "\n",
    "axes.set_ylabel(\"Model Prediction (Log-Transformed US Dollars)\")\n",
    "\n",
    "axes.set_title(\"Model Performance\")"
   ]
  },
  {
   "cell_type": "code",
   "execution_count": 73,
   "metadata": {
    "collapsed": false
   },
   "outputs": [
    {
     "data": {
      "text/plain": [
       "Parameter containing:\n",
       "\n",
       "Columns 0 to 9 \n",
       "-0.0862  0.1288  0.0177  0.3576  0.2123 -0.0554  0.1974 -0.0009  0.0014  0.0843\n",
       " 0.0859 -0.3658 -0.1821  0.2004 -0.2586  0.2682  0.0849 -0.1516 -0.0411 -0.0072\n",
       " 0.1814  0.1404 -0.1348 -0.3020 -0.2690  0.3172  0.4156 -0.0957 -0.1213 -0.5999\n",
       " 0.3191  0.1436 -0.0753  0.1383  0.1393 -0.4334 -0.2562  0.5874 -0.2525  0.3931\n",
       " 0.2082 -0.2282 -0.1190 -0.0730  0.0344  0.1144 -0.5804  0.0019 -0.1348  0.1081\n",
       " 0.1540 -0.3818 -0.0561 -0.2492 -0.4585 -0.1098 -0.0511 -0.1544  0.3483 -0.1496\n",
       " 0.1436 -0.0932  0.2547 -0.2034 -0.1622  0.2145  0.0124  0.5209  0.0268 -0.0656\n",
       " 0.4305 -0.0274  0.0132 -0.2380  0.2891  0.2030  0.0718 -0.2239  0.2573  0.0858\n",
       "-0.2409 -0.4885  0.0295 -0.2401  0.4123 -0.2787  0.1984  0.0316 -0.0133  0.1304\n",
       "-0.1311 -0.2796  0.0268  0.1240  0.1737 -0.5227  0.0399 -0.1248 -0.0982  0.0266\n",
       " 0.2140 -0.4083 -0.1937  0.1853  0.2767  0.0688  0.2249 -0.1185  0.1578  0.6823\n",
       " 0.1516 -0.3434  0.2281 -0.3935  0.3039 -0.5521  0.1564  0.0335  0.4532  0.2150\n",
       "-0.1721 -0.1722  0.1479  0.4176  0.0496  0.3112  0.0037  0.2454  0.3073  0.1733\n",
       " 0.5111 -0.0175 -0.2205  0.2382 -0.3846 -0.1099 -0.5360 -0.4881  0.0463 -0.0401\n",
       "-0.2265  0.0228  0.2478  0.2056  0.3929 -0.0493 -0.0922 -0.0530  0.3732  0.3830\n",
       " 0.1658 -0.0606  0.1955 -0.0428  0.2563  0.1795 -0.0158 -0.2026  0.2830 -0.2698\n",
       "\n",
       "Columns 10 to 19 \n",
       "-0.0726  0.0814  0.1477  0.2963  0.1623 -0.1189 -0.2080 -0.3734  0.0041  0.2999\n",
       " 0.2045 -0.2398 -0.1525 -0.3431  0.1861  0.3374  0.2000 -0.5181 -0.1665 -0.0047\n",
       " 0.1992  0.0557 -0.2001 -0.4008  0.4840  0.1541 -0.1486 -0.3783 -0.1736  0.3480\n",
       "-0.0227  0.2005  0.2879  0.2250  0.3005  0.0907 -0.0881  0.1039 -0.1297  0.4683\n",
       " 0.3867 -0.0668  0.4804 -0.0177 -0.2286 -0.1494 -0.0619  0.1795  0.2086  0.2632\n",
       "-0.4611 -0.2224 -0.1490  0.2076  0.0497 -0.2379 -0.5721 -0.3595 -0.3249 -0.1036\n",
       "-0.0041  0.0607  0.2476  0.7145 -0.3377 -0.0177 -0.0904 -0.2274  0.4448  0.2399\n",
       "-0.0063 -0.1898 -0.0895 -0.2757  0.0247  0.2570  0.0780 -0.0452  0.3715 -0.0080\n",
       " 0.0919 -0.0066  0.0993 -0.1047 -0.3800 -0.0838 -0.0222 -0.1418  0.3136 -0.0031\n",
       " 0.0736 -0.6076  0.2493  0.1291  0.0629  0.0151  0.5559 -0.3025  0.1055 -0.4700\n",
       "-0.0607  0.1319 -0.1325 -0.5291 -0.0285 -0.2673  0.0204 -0.1921  0.1054 -0.0225\n",
       " 0.0477  0.0206  0.0501  0.0023  0.3858 -0.1702  0.2535  0.0482  0.2471  0.0535\n",
       " 0.3727  0.0854 -0.1252  0.1038 -0.0340  0.0981 -0.0491 -0.3812  0.0410  0.1103\n",
       "-0.1693 -0.5832  0.2661 -0.1136  0.0382  0.0302  0.3027 -0.4575 -0.1319 -0.1503\n",
       " 0.1190  0.3540  0.0204 -0.2667  0.0158  0.1426  0.2501  0.1462 -0.1032 -0.0043\n",
       "-0.2376 -0.0247  0.0068  0.0720  0.3529 -0.2784  0.0769  0.0365  0.0773  0.1382\n",
       "\n",
       "Columns 20 to 23 \n",
       "-0.1258  0.3355  0.2686 -0.0952\n",
       "-0.1765 -0.1165 -0.3467  0.0630\n",
       " 0.4352 -0.3221 -0.4732  0.1270\n",
       "-0.2210  0.0605 -0.3260 -0.2310\n",
       " 0.0519  0.3889 -0.0684 -0.4379\n",
       " 0.0554 -0.7386 -0.0514  0.1471\n",
       "-0.0209  0.1716 -0.0188 -0.5044\n",
       " 0.1674  0.0585 -0.0099 -0.2239\n",
       "-0.2229  0.2580 -0.3899 -0.4362\n",
       "-0.4441 -0.0620 -0.1680  0.1031\n",
       "-0.3035  0.1856 -0.1169  0.0124\n",
       " 0.1366 -0.0605  0.0958 -0.2901\n",
       " 0.1821  0.3705  0.1548 -0.1466\n",
       " 0.2927  0.0463 -0.0994  0.1041\n",
       " 0.1316  0.1716  0.1587 -0.2667\n",
       " 0.0439 -0.5532 -0.1825  0.3337\n",
       "[torch.FloatTensor of size 16x24]"
      ]
     },
     "execution_count": 73,
     "metadata": {},
     "output_type": "execute_result"
    }
   ],
   "source": [
    "model[(0)].weight"
   ]
  },
  {
   "cell_type": "code",
   "execution_count": 74,
   "metadata": {
    "collapsed": false
   },
   "outputs": [
    {
     "data": {
      "text/plain": [
       "Parameter containing:\n",
       "\n",
       "Columns 0 to 9 \n",
       " 0.1309  0.5693 -0.1697 -0.3592 -0.6983 -0.5304  0.4784 -0.1850 -0.2958 -0.2427\n",
       " 0.2219  0.8740 -1.5433  0.0501 -0.1146 -0.7367 -0.3020  0.1995  0.0757 -1.7889\n",
       " 0.3068  0.3880 -0.1920  0.4019 -0.2705  0.0299  0.0186  0.1535  0.3212 -0.3251\n",
       "-0.1796  0.3013 -0.4959 -0.1642  0.2472  0.2581 -0.1538  0.1129 -0.1299  0.0611\n",
       "-0.0677  0.1678  0.3837  0.2239  0.0506 -0.1338  0.2970 -0.0581 -0.6299  0.0466\n",
       " 0.0538  0.1825  0.1531  0.4959  0.2572  0.4888 -0.0364  0.4057 -0.0047  0.3305\n",
       "-0.6313 -0.0363 -0.1215  0.1999 -0.0288 -0.5056 -0.2707 -0.6627 -0.0324  0.2684\n",
       " 0.1417  0.3114  0.1870  0.1578  0.2221  0.0192  0.1414  0.4702  0.3661  0.2103\n",
       " 0.3380  0.2523  0.3173  0.1000  0.3403  0.3119 -0.0616  0.0009  0.2851  0.0270\n",
       " 0.1791  0.6563  0.5029  0.2965 -0.0698  0.3119 -0.1255  0.3382  0.2987 -0.3821\n",
       " 0.1624  0.0460 -0.1203  0.2394  0.1230  0.2459  0.2674  0.2732 -0.4783  0.2728\n",
       "\n",
       "Columns 10 to 15 \n",
       " 0.3824 -0.0420 -0.4825 -0.2944 -0.0435  0.3065\n",
       "-0.6182  0.2533  0.4604 -2.2572 -0.7194 -1.0962\n",
       "-0.3191  0.1171  0.2951  0.3995  0.3598  0.3454\n",
       " 0.0531  0.3962  0.2692 -0.2536 -0.8373  0.0110\n",
       " 0.4950 -0.1185  0.3270  0.2995  0.0163  0.2148\n",
       " 0.1145 -0.3789  0.1346  0.2571 -0.0455 -0.1304\n",
       " 0.1262 -0.5545  0.2182  0.1124 -0.1316  0.1790\n",
       " 0.0743  0.0852  0.2181 -0.2506 -0.0203  0.1122\n",
       " 0.1907 -0.0248  0.1548 -0.0795  0.0842  0.3088\n",
       "-0.1682  0.0272  0.1899  0.0835 -0.1652  0.1139\n",
       " 0.4079  0.3824  0.2714 -0.0568  0.1536  0.4277\n",
       "[torch.FloatTensor of size 11x16]"
      ]
     },
     "execution_count": 74,
     "metadata": {},
     "output_type": "execute_result"
    }
   ],
   "source": [
    "model[(2)].weight"
   ]
  },
  {
   "cell_type": "code",
   "execution_count": 75,
   "metadata": {
    "collapsed": false
   },
   "outputs": [
    {
     "data": {
      "text/plain": [
       "Parameter containing:\n",
       "\n",
       "Columns 0 to 9 \n",
       " 0.1511  0.0613 -0.4766  0.4648  0.1428 -0.6038 -0.0775  0.1696  0.1879 -0.1757\n",
       "-0.0175  0.1138 -0.3337  0.0117 -0.3218 -0.3175  0.0661  0.3253 -0.5624 -0.4484\n",
       " 0.6520 -1.9890 -0.1573  0.6120  0.2183  0.2100  0.2936  0.3030  0.3121  0.1196\n",
       " 1.1112  0.3688  0.2610  1.0095 -0.0356  0.0607  0.6986  0.4250  0.1568  0.6852\n",
       " 0.4791 -0.0141 -0.7171 -0.0919 -1.0639  0.0232  0.4800  0.3799  0.0640  0.0181\n",
       " 1.6209  0.0378  0.2803  1.3213 -0.0420  0.0537  1.2041  0.0128  0.2201  0.0887\n",
       " 1.2028  0.4654 -0.3156  0.5336  0.0683  0.1672  0.6979 -0.3272 -0.1062  0.1738\n",
       "\n",
       "Columns 10 to 10 \n",
       "-0.0041\n",
       " 0.0719\n",
       " 0.2831\n",
       " 0.2731\n",
       " 0.2685\n",
       "-0.2543\n",
       "-0.2530\n",
       "[torch.FloatTensor of size 7x11]"
      ]
     },
     "execution_count": 75,
     "metadata": {},
     "output_type": "execute_result"
    }
   ],
   "source": [
    "model[(4)].weight"
   ]
  },
  {
   "cell_type": "code",
   "execution_count": 76,
   "metadata": {
    "collapsed": false
   },
   "outputs": [
    {
     "data": {
      "text/plain": [
       "Parameter containing:\n",
       " 0.0390  0.0299 -0.0725 -0.1762  0.2576 -0.0615 -0.1343\n",
       "-0.0236 -0.3437  0.5518  0.4577  0.3443 -0.6323 -0.0531\n",
       " 2.2805  0.8122 -0.1535  0.2243 -1.1746  1.0328 -2.2274\n",
       "-0.1285 -0.2378  0.1394  0.1534  0.9148 -0.7596  0.0501\n",
       " 0.2189  0.2285 -0.6336  0.1843 -0.3310 -1.1747 -0.3358\n",
       "[torch.FloatTensor of size 5x7]"
      ]
     },
     "execution_count": 76,
     "metadata": {},
     "output_type": "execute_result"
    }
   ],
   "source": [
    "model[(6)].weight"
   ]
  },
  {
   "cell_type": "code",
   "execution_count": 77,
   "metadata": {
    "collapsed": false
   },
   "outputs": [
    {
     "data": {
      "text/plain": [
       "Parameter containing:\n",
       " 0.0900  0.2749 -0.8970  0.2551  2.4750\n",
       " 0.1500  0.2797 -0.6771  0.4263 -0.0381\n",
       " 0.2703  0.1107  0.6682 -0.0125 -0.1265\n",
       "[torch.FloatTensor of size 3x5]"
      ]
     },
     "execution_count": 77,
     "metadata": {},
     "output_type": "execute_result"
    }
   ],
   "source": [
    "model[(8)].weight"
   ]
  },
  {
   "cell_type": "code",
   "execution_count": 78,
   "metadata": {
    "collapsed": false
   },
   "outputs": [
    {
     "data": {
      "text/plain": [
       "Parameter containing:\n",
       " 0.5098  0.4234 -0.0577\n",
       "[torch.FloatTensor of size 1x3]"
      ]
     },
     "execution_count": 78,
     "metadata": {},
     "output_type": "execute_result"
    }
   ],
   "source": [
    "model[(10)].weight"
   ]
  },
  {
   "cell_type": "markdown",
   "metadata": {},
   "source": [
    "## Round 6: Six-Hidden-Layer Neural Network"
   ]
  },
  {
   "cell_type": "code",
   "execution_count": 79,
   "metadata": {
    "collapsed": true
   },
   "outputs": [],
   "source": [
    "# Make the torch Tensor into a PyTorch Variable for dependent variables\n",
    "outcomes_Variable = Variable(outcomes_Tensor)\n",
    "\n",
    "\n",
    "# ...for independent variables\n",
    "features_Variable = Variable(features_Tensor,\n",
    "                             requires_grad = False)"
   ]
  },
  {
   "cell_type": "code",
   "execution_count": 80,
   "metadata": {
    "collapsed": true
   },
   "outputs": [],
   "source": [
    "# Make the neural network\n",
    "model = torch.nn.Sequential(torch.nn.Linear(24, 16),\n",
    "                            torch.nn.ReLU(),\n",
    "                            torch.nn.Linear(16, 11),\n",
    "                            torch.nn.ReLU(),\n",
    "                            torch.nn.Linear(11, 7),\n",
    "                            torch.nn.ReLU(),\n",
    "                            torch.nn.Linear(7, 5),\n",
    "                            torch.nn.ReLU(),\n",
    "                            torch.nn.Linear(5, 3),\n",
    "                            torch.nn.ReLU(),\n",
    "                            torch.nn.Linear(3, 2),\n",
    "                            torch.nn.ReLU(),\n",
    "                            torch.nn.Linear(2, 1))"
   ]
  },
  {
   "cell_type": "code",
   "execution_count": 81,
   "metadata": {
    "collapsed": true
   },
   "outputs": [],
   "source": [
    "# To add errors to\n",
    "errors = []\n",
    "\n",
    "\n",
    "# Set the learning rate\n",
    "learning_rate = 1e-2\n",
    "\n",
    "\n",
    "# Define the model's optimizer\n",
    "optimizer = torch.optim.Adagrad(model.parameters(), lr = learning_rate)\n",
    "\n",
    "\n",
    "# Train the neural network\n",
    "for t in range(10000):\n",
    "    \n",
    "    # Get the current predictions\n",
    "    y_pred = model(features_Variable)\n",
    "    \n",
    "    # Compute and append current summed errors\n",
    "    loss = loss_fn(y_pred, outcomes_Variable)\n",
    "    errors.append(loss.data[0])\n",
    "    \n",
    "    # Zero the gradients before running the backward pass.\n",
    "    optimizer.zero_grad()\n",
    "    \n",
    "    # Backward pass: compute gradient of the loss with respect to all the learnable Variables\n",
    "    loss.backward()\n",
    "    \n",
    "    # Update the weights using Adagrad\n",
    "    optimizer.step()"
   ]
  },
  {
   "cell_type": "code",
   "execution_count": 82,
   "metadata": {
    "collapsed": false
   },
   "outputs": [
    {
     "data": {
      "text/plain": [
       "<matplotlib.collections.PathCollection at 0x7f42a7cb3c50>"
      ]
     },
     "execution_count": 82,
     "metadata": {},
     "output_type": "execute_result"
    },
    {
     "data": {
      "image/png": "[encoded data removed]",
      "text/plain": [
       "<matplotlib.figure.Figure at 0x7f42a7fe3780>"
      ]
     },
     "metadata": {},
     "output_type": "display_data"
    }
   ],
   "source": [
    "# Plot summed error as a function of iteration\n",
    "plt.scatter(iterations, errors, c = \"black\", alpha = 0.25)"
   ]
  },
  {
   "cell_type": "code",
   "execution_count": 83,
   "metadata": {
    "collapsed": true
   },
   "outputs": [],
   "source": [
    "# Get rid of the 2nd dimension of 1 from the FloatTensor\n",
    "y_pred_resized = y_pred.resize(8308)\n",
    "\n",
    "\n",
    "# Make the FloatTensor into a numpy.array\n",
    "y_pred_array = y_pred_resized.data.numpy()\n",
    "\n",
    "\n",
    "# Make the numpy.array into a list\n",
    "y_pred_list = y_pred_array.tolist()"
   ]
  },
  {
   "cell_type": "code",
   "execution_count": 84,
   "metadata": {
    "collapsed": false
   },
   "outputs": [
    {
     "data": {
      "text/plain": [
       "[<matplotlib.lines.Line2D at 0x7f42a7cf8320>]"
      ]
     },
     "execution_count": 84,
     "metadata": {},
     "output_type": "execute_result"
    },
    {
     "data": {
      "image/png": "[encoded data removed]",
      "text/plain": [
       "<matplotlib.figure.Figure at 0x7f42a7cf8198>"
      ]
     },
     "metadata": {},
     "output_type": "display_data"
    }
   ],
   "source": [
    "# Plot predictions versus training set outcomes\n",
    "plt.scatter(outcomes_list, y_pred_list, c = \"black\", alpha = 0.15)\n",
    "\n",
    "axes = plt.gca()\n",
    "\n",
    "axes.set_xlim([-2, 4])\n",
    "\n",
    "axes.set_ylim([-2, 4])\n",
    "\n",
    "plt.plot([-2, 4], [-2, 4], 'k-', lw=2)"
   ]
  },
  {
   "cell_type": "markdown",
   "metadata": {},
   "source": [
    "### Round 6.1: Validation Set Performance"
   ]
  },
  {
   "cell_type": "code",
   "execution_count": 85,
   "metadata": {
    "collapsed": false
   },
   "outputs": [
    {
     "data": {
      "text/plain": [
       "Variable containing:\n",
       " 475.4082\n",
       "[torch.FloatTensor of size 1]"
      ]
     },
     "execution_count": 85,
     "metadata": {},
     "output_type": "execute_result"
    }
   ],
   "source": [
    "# Get the validation set predictions\n",
    "y_valid_pred = model(valid_predictors_Variable)\n",
    "\n",
    "\n",
    "# Print the loss\n",
    "loss_fn(y_valid_pred,\n",
    "        valid_outcomes_Variable)"
   ]
  },
  {
   "cell_type": "code",
   "execution_count": 86,
   "metadata": {
    "collapsed": true
   },
   "outputs": [],
   "source": [
    "# Get rid of the 2nd dimension of 1 from the FloatTensor\n",
    "y_valid_pred_resized = y_valid_pred.resize(2808)\n",
    "\n",
    "\n",
    "# Make the FloatTensor into a numpy.array\n",
    "y_valid_pred_array = y_valid_pred_resized.data.numpy()\n",
    "\n",
    "\n",
    "# Convert back to log scale\n",
    "y_valid_pred_array = y_valid_pred_array*5.407597 + 7.688844\n",
    "\n",
    "\n",
    "# Make the numpy.array into a list\n",
    "y_valid_pred_list = y_valid_pred_array.tolist()"
   ]
  },
  {
   "cell_type": "code",
   "execution_count": 87,
   "metadata": {
    "collapsed": false
   },
   "outputs": [
    {
     "data": {
      "text/plain": [
       "<matplotlib.text.Text at 0x7f42a4770160>"
      ]
     },
     "execution_count": 87,
     "metadata": {},
     "output_type": "execute_result"
    },
    {
     "data": {
      "image/png": "[encoded data removed]",
      "text/plain": [
       "<matplotlib.figure.Figure at 0x7f42a7c67278>"
      ]
     },
     "metadata": {},
     "output_type": "display_data"
    }
   ],
   "source": [
    "# Plot new predictions versus new data outcomes\n",
    "plt.scatter(valid_outcomes_list, y_valid_pred_list, c = \"black\", alpha = 0.15)\n",
    "\n",
    "axes = plt.gca()\n",
    "\n",
    "axes.set_xlim([0, 24])\n",
    "\n",
    "axes.set_ylim([0, 24])\n",
    "\n",
    "axes.set_xticks([0, 4, 8, 12, 16, 20, 24])\n",
    "\n",
    "axes.set_yticks([0, 4, 8, 12, 16, 20, 24])\n",
    "\n",
    "plt.plot([0, 24], [0, 24], 'k-', lw = 2)\n",
    "\n",
    "axes.set_xlabel(\"Actual Outcome (Log-Transformed US Dollars)\")\n",
    "\n",
    "axes.set_ylabel(\"Model Prediction (Log-Transformed US Dollars)\")\n",
    "\n",
    "axes.set_title(\"Model Performance\")"
   ]
  },
  {
   "cell_type": "code",
   "execution_count": 88,
   "metadata": {
    "collapsed": false
   },
   "outputs": [
    {
     "data": {
      "text/plain": [
       "Parameter containing:\n",
       "\n",
       "Columns 0 to 9 \n",
       " 0.1688 -0.1656  0.0267 -0.1071  0.1881 -0.0612  0.0466  0.0792  0.1825 -0.1931\n",
       "-0.1431  0.1706 -0.0164  0.2017  0.0193  0.1218 -0.0166 -0.0031  0.0605  0.1794\n",
       " 0.1646  0.0587  0.0177  0.0311 -0.1600  0.1765 -0.1578  0.1775 -0.0683 -0.0232\n",
       " 0.1311  0.1138  0.1792 -0.1019 -0.0231  0.0828  0.1704  0.0667 -0.1972  0.0205\n",
       "-0.0648 -0.1651  0.0715  0.0192 -0.1910 -0.1172 -0.1744  0.0981 -0.0299  0.1740\n",
       "-0.0610 -0.1220 -0.0616 -0.0155 -0.0041 -0.1621 -0.0903 -0.1454  0.0044 -0.0591\n",
       "-0.1419  0.0529 -0.1913 -0.0850 -0.0179  0.0353  0.0662 -0.0443 -0.0662  0.0300\n",
       " 0.1145 -0.0214  0.1566  0.0703 -0.0494  0.1308  0.1444  0.0975 -0.1230  0.1654\n",
       "-0.1001  0.0767  0.0769 -0.1179  0.1387  0.0228 -0.1393  0.0717 -0.0079  0.1268\n",
       " 0.1367 -0.0857  0.0888  0.0625 -0.1745 -0.0071 -0.1409  0.1110 -0.1641  0.1257\n",
       " 0.0038 -0.0020 -0.0840 -0.0576  0.1156  0.1087  0.0345  0.1058  0.1032  0.0935\n",
       "-0.0523 -0.1866  0.1637  0.0939  0.1312 -0.0701  0.0560  0.1362  0.1168  0.1415\n",
       " 0.0902 -0.0790  0.0202 -0.1348  0.0472 -0.1707 -0.0245  0.0997 -0.0711  0.1747\n",
       "-0.0398  0.1014  0.0440 -0.0582  0.1374  0.0037 -0.1853  0.1950  0.1890 -0.1254\n",
       "-0.0787 -0.0630 -0.0701  0.0896  0.0426  0.1567  0.1118 -0.1462  0.1090 -0.1596\n",
       "-0.1660  0.0447  0.1459 -0.1874  0.1069  0.1273  0.1108 -0.1564 -0.1728  0.0115\n",
       "\n",
       "Columns 10 to 19 \n",
       "-0.1369 -0.0148 -0.0446 -0.0912  0.0322 -0.1489  0.1247 -0.1385 -0.0911  0.0753\n",
       " 0.0890  0.1240 -0.1074 -0.1776  0.1097 -0.1389  0.1268 -0.0767 -0.0868 -0.0964\n",
       " 0.1943 -0.1926 -0.0603  0.1340  0.1823 -0.0185  0.0567  0.1708 -0.0335 -0.1988\n",
       "-0.0899  0.1368  0.0267 -0.0650 -0.1206 -0.2026  0.1196 -0.1160 -0.1328  0.0628\n",
       "-0.0362  0.0151  0.1456  0.0201  0.1229  0.0856  0.1915 -0.1001 -0.1414 -0.0494\n",
       "-0.0906 -0.0113 -0.1385  0.1119 -0.0423 -0.1145  0.1782 -0.0134  0.1975 -0.0264\n",
       " 0.0386 -0.2023  0.0413 -0.1862 -0.0824 -0.0367  0.1473 -0.0997 -0.1025  0.0855\n",
       "-0.1872  0.0928  0.1926 -0.0815  0.0186 -0.1812  0.1869 -0.1252 -0.0295  0.1329\n",
       "-0.1667 -0.0536 -0.0499  0.1677  0.1443 -0.1773  0.1973 -0.1745  0.1612  0.0060\n",
       "-0.1786  0.0131  0.1619  0.0195  0.1233  0.1022  0.1563 -0.0773 -0.1988  0.1563\n",
       " 0.0419 -0.1262  0.0931  0.0615  0.1461  0.1373  0.1413  0.2005  0.0506 -0.0765\n",
       "-0.1715  0.0406  0.0429 -0.0007  0.0806 -0.1055 -0.0282 -0.0396 -0.1335  0.1610\n",
       "-0.0739  0.2017 -0.1011  0.0687 -0.1783  0.1559  0.0996 -0.1165 -0.1399  0.0008\n",
       "-0.0123  0.1785  0.1425  0.1339 -0.1322  0.1655  0.0220 -0.1179  0.1750 -0.0122\n",
       " 0.1350 -0.0638 -0.0790  0.0962  0.0055 -0.1842 -0.1474 -0.1667 -0.0570 -0.0221\n",
       "-0.0317 -0.0295  0.1646 -0.0421  0.0949  0.1528  0.0877  0.1638  0.1996  0.0795\n",
       "\n",
       "Columns 20 to 23 \n",
       "-0.1765 -0.1332 -0.0783 -0.0614\n",
       " 0.0386 -0.0297 -0.1344 -0.0755\n",
       " 0.1868  0.1862 -0.0760 -0.1564\n",
       "-0.0450 -0.1721  0.0806 -0.1738\n",
       " 0.0877  0.1635 -0.1762  0.1587\n",
       " 0.0468 -0.1897  0.1183  0.1622\n",
       " 0.1071  0.0249  0.1250  0.1334\n",
       "-0.1926 -0.0419  0.0674  0.1679\n",
       "-0.0012  0.1966  0.1932  0.1304\n",
       "-0.1144  0.1239  0.0545 -0.1624\n",
       " 0.1970  0.0014 -0.0532  0.1219\n",
       "-0.1290  0.1191 -0.1503  0.0930\n",
       "-0.0029  0.1374 -0.0047  0.0139\n",
       " 0.1826 -0.0204 -0.0576  0.0035\n",
       "-0.0416  0.2033 -0.1657  0.1952\n",
       " 0.0194  0.0042  0.0754 -0.1859\n",
       "[torch.FloatTensor of size 16x24]"
      ]
     },
     "execution_count": 88,
     "metadata": {},
     "output_type": "execute_result"
    }
   ],
   "source": [
    "model[(0)].weight"
   ]
  },
  {
   "cell_type": "code",
   "execution_count": 89,
   "metadata": {
    "collapsed": false
   },
   "outputs": [
    {
     "data": {
      "text/plain": [
       "Parameter containing:\n",
       "\n",
       "Columns 0 to 9 \n",
       " 0.0280 -0.2473 -0.0835  0.1523  0.0099 -0.1439  0.1093 -0.0780  0.1458 -0.1324\n",
       "-0.0898  0.1370  0.1551 -0.1145  0.1733 -0.1562  0.2225  0.0858 -0.2344  0.1858\n",
       "-0.2409 -0.0845  0.0419 -0.0723  0.1717  0.1061 -0.2109  0.1460 -0.1070  0.1991\n",
       "-0.0525 -0.2302  0.0952 -0.1414 -0.2130  0.1527  0.0079  0.1512  0.2421  0.2249\n",
       " 0.0578 -0.0616 -0.1457 -0.2410 -0.0439  0.0424  0.1350 -0.0819  0.1372 -0.0249\n",
       " 0.0611 -0.0641  0.0741 -0.1954  0.0712 -0.0301  0.0863 -0.0433  0.1585  0.2324\n",
       " 0.0553 -0.2140  0.0192  0.1551 -0.0284 -0.1310  0.2043 -0.1430 -0.1709 -0.1399\n",
       " 0.0677  0.0155 -0.1529 -0.0514  0.1441  0.0510 -0.0327 -0.2305 -0.1680  0.0759\n",
       " 0.0411 -0.0276  0.1775  0.1757 -0.0542  0.0978 -0.0591  0.1047 -0.1803 -0.0349\n",
       "-0.0372 -0.1034 -0.1293  0.0501 -0.0541 -0.0093 -0.1735 -0.0372 -0.1398 -0.1383\n",
       " 0.1535 -0.2144  0.2209  0.0088 -0.2483  0.0564 -0.0244 -0.2100 -0.1220 -0.0102\n",
       "\n",
       "Columns 10 to 15 \n",
       "-0.0927  0.0455  0.0663  0.1377  0.0930  0.0361\n",
       "-0.0953  0.0350 -0.2369 -0.1698  0.1283 -0.0774\n",
       "-0.2064  0.0555 -0.0090  0.1935 -0.0741 -0.1100\n",
       " 0.0173 -0.1370  0.0845  0.1314  0.0463 -0.1817\n",
       " 0.0206 -0.0871  0.0523 -0.0527  0.0842 -0.0330\n",
       " 0.0489  0.1057  0.0092  0.0895  0.0038  0.1705\n",
       "-0.1601  0.1814  0.2385  0.1796  0.0109  0.2296\n",
       "-0.0211 -0.1726  0.1579 -0.0876 -0.2388 -0.2082\n",
       " 0.0198 -0.1946 -0.0747 -0.1128 -0.1729 -0.1598\n",
       " 0.0822 -0.0053  0.1731 -0.1799  0.2339 -0.1910\n",
       " 0.1221 -0.1791  0.0935  0.1124 -0.1730 -0.0269\n",
       "[torch.FloatTensor of size 11x16]"
      ]
     },
     "execution_count": 89,
     "metadata": {},
     "output_type": "execute_result"
    }
   ],
   "source": [
    "model[(2)].weight"
   ]
  },
  {
   "cell_type": "code",
   "execution_count": 90,
   "metadata": {
    "collapsed": false
   },
   "outputs": [
    {
     "data": {
      "text/plain": [
       "Parameter containing:\n",
       "\n",
       "Columns 0 to 9 \n",
       "-0.1266  0.1874 -0.1516  0.2823 -0.1163 -0.0085 -0.1784 -0.0814  0.0955 -0.1010\n",
       " 0.1846 -0.1484 -0.2239  0.1255 -0.2237  0.2888 -0.2055 -0.2363 -0.2749 -0.0560\n",
       "-0.0071 -0.1898 -0.2503 -0.0621  0.2707  0.1265 -0.1363 -0.0492  0.2095  0.0652\n",
       "-0.2076  0.2791  0.2431  0.1289  0.1168 -0.0664  0.0992  0.0422 -0.0900 -0.2819\n",
       "-0.2520  0.2233 -0.1866 -0.0504 -0.1781 -0.1360  0.1889 -0.2099  0.2314  0.2353\n",
       "-0.0070 -0.2718 -0.1506 -0.2218  0.1881 -0.0998  0.2962  0.1525 -0.0817  0.1327\n",
       "-0.1796 -0.0138  0.2342 -0.2301  0.0609  0.0704  0.0495  0.0294 -0.2035 -0.0375\n",
       "\n",
       "Columns 10 to 10 \n",
       " 0.0522\n",
       "-0.0893\n",
       "-0.2714\n",
       " 0.0311\n",
       " 0.2798\n",
       "-0.1487\n",
       "-0.0043\n",
       "[torch.FloatTensor of size 7x11]"
      ]
     },
     "execution_count": 90,
     "metadata": {},
     "output_type": "execute_result"
    }
   ],
   "source": [
    "model[(4)].weight"
   ]
  },
  {
   "cell_type": "code",
   "execution_count": 91,
   "metadata": {
    "collapsed": false
   },
   "outputs": [
    {
     "data": {
      "text/plain": [
       "Parameter containing:\n",
       " 0.1017  0.1486  0.0201  0.3409  0.0995  0.1758 -0.0264\n",
       "-0.0001  0.0451  0.0789 -0.0802 -0.2634 -0.0286  0.0229\n",
       "-0.3298  0.2800  0.0120  0.2728 -0.3461  0.0828  0.3402\n",
       "-0.3676 -0.2933 -0.0754 -0.3436  0.0754 -0.1886 -0.1171\n",
       " 0.2568  0.0319  0.0231  0.1045 -0.1092  0.0374 -0.1519\n",
       "[torch.FloatTensor of size 5x7]"
      ]
     },
     "execution_count": 91,
     "metadata": {},
     "output_type": "execute_result"
    }
   ],
   "source": [
    "model[(6)].weight"
   ]
  },
  {
   "cell_type": "code",
   "execution_count": 92,
   "metadata": {
    "collapsed": false
   },
   "outputs": [
    {
     "data": {
      "text/plain": [
       "Parameter containing:\n",
       "-0.2624 -0.0497 -0.4030  0.3130  0.2672\n",
       " 0.1545 -0.2399 -0.0623 -0.1387 -0.4428\n",
       " 0.0115  0.3542 -0.2880  0.0522 -0.1797\n",
       "[torch.FloatTensor of size 3x5]"
      ]
     },
     "execution_count": 92,
     "metadata": {},
     "output_type": "execute_result"
    }
   ],
   "source": [
    "model[(8)].weight"
   ]
  },
  {
   "cell_type": "code",
   "execution_count": 93,
   "metadata": {
    "collapsed": false
   },
   "outputs": [
    {
     "data": {
      "text/plain": [
       "Parameter containing:\n",
       "-0.5109  0.1875 -0.2699\n",
       " 0.3207 -0.3660 -0.2001\n",
       "[torch.FloatTensor of size 2x3]"
      ]
     },
     "execution_count": 93,
     "metadata": {},
     "output_type": "execute_result"
    }
   ],
   "source": [
    "model[(10)].weight"
   ]
  },
  {
   "cell_type": "code",
   "execution_count": 94,
   "metadata": {
    "collapsed": false
   },
   "outputs": [
    {
     "data": {
      "text/plain": [
       "Parameter containing:\n",
       " 0.9641 -0.2514\n",
       "[torch.FloatTensor of size 1x2]"
      ]
     },
     "execution_count": 94,
     "metadata": {},
     "output_type": "execute_result"
    }
   ],
   "source": [
    "model[(12)].weight"
   ]
  },
  {
   "cell_type": "markdown",
   "metadata": {},
   "source": [
    "## Round 7: Linear Regression"
   ]
  },
  {
   "cell_type": "code",
   "execution_count": 95,
   "metadata": {
    "collapsed": true
   },
   "outputs": [],
   "source": [
    "# Make the torch Tensor into a PyTorch Variable for dependent variables\n",
    "outcomes_Variable = Variable(outcomes_Tensor)\n",
    "\n",
    "\n",
    "# ...for independent variables\n",
    "features_Variable = Variable(features_Tensor,\n",
    "                             requires_grad = False)"
   ]
  },
  {
   "cell_type": "code",
   "execution_count": 96,
   "metadata": {
    "collapsed": true
   },
   "outputs": [],
   "source": [
    "# Make the neural network - really a regression\n",
    "model = torch.nn.Sequential(torch.nn.Linear(24, 1))"
   ]
  },
  {
   "cell_type": "code",
   "execution_count": 97,
   "metadata": {
    "collapsed": false
   },
   "outputs": [],
   "source": [
    "# To add errors to\n",
    "errors = []\n",
    "\n",
    "\n",
    "# Set the learning rate\n",
    "learning_rate = 1e-2\n",
    "\n",
    "\n",
    "# Define the model's optimizer\n",
    "optimizer = torch.optim.Adagrad(model.parameters(), lr = learning_rate)\n",
    "\n",
    "\n",
    "# Train the neural network\n",
    "for t in range(10000):\n",
    "    \n",
    "    # Get the current predictions\n",
    "    y_pred = model(features_Variable)\n",
    "    \n",
    "    # Compute and append current summed errors\n",
    "    loss = loss_fn(y_pred, outcomes_Variable)\n",
    "    errors.append(loss.data[0])\n",
    "    \n",
    "    # Zero the gradients before running the backward pass.\n",
    "    optimizer.zero_grad()\n",
    "    \n",
    "    # Backward pass: compute gradient of the loss with respect to all the learnable Variables\n",
    "    loss.backward()\n",
    "    \n",
    "    # Update the weights using Adagrad\n",
    "    optimizer.step()"
   ]
  },
  {
   "cell_type": "code",
   "execution_count": 98,
   "metadata": {
    "collapsed": false
   },
   "outputs": [
    {
     "data": {
      "text/plain": [
       "<matplotlib.collections.PathCollection at 0x7f42a4698ac8>"
      ]
     },
     "execution_count": 98,
     "metadata": {},
     "output_type": "execute_result"
    },
    {
     "data": {
      "image/png": "[encoded data removed]",
      "text/plain": [
       "<matplotlib.figure.Figure at 0x7f42a478fc88>"
      ]
     },
     "metadata": {},
     "output_type": "display_data"
    }
   ],
   "source": [
    "# Plot summed error as a function of iteration\n",
    "plt.scatter(iterations, errors, c = \"black\", alpha = 0.25)"
   ]
  },
  {
   "cell_type": "code",
   "execution_count": 99,
   "metadata": {
    "collapsed": false
   },
   "outputs": [],
   "source": [
    "# Get rid of the 2nd dimension of 1 from the FloatTensor\n",
    "y_pred_resized = y_pred.resize(8308)\n",
    "\n",
    "\n",
    "# Make the FloatTensor into a numpy.array\n",
    "y_pred_array = y_pred_resized.data.numpy()\n",
    "\n",
    "\n",
    "# Make the numpy.array into a list\n",
    "y_pred_list = y_pred_array.tolist()"
   ]
  },
  {
   "cell_type": "code",
   "execution_count": 100,
   "metadata": {
    "collapsed": false
   },
   "outputs": [
    {
     "data": {
      "text/plain": [
       "[<matplotlib.lines.Line2D at 0x7f42a4633da0>]"
      ]
     },
     "execution_count": 100,
     "metadata": {},
     "output_type": "execute_result"
    },
    {
     "data": {
      "image/png": "[encoded data removed]",
      "text/plain": [
       "<matplotlib.figure.Figure at 0x7f42a46a6a90>"
      ]
     },
     "metadata": {},
     "output_type": "display_data"
    }
   ],
   "source": [
    "# Plot predictions versus training set outcomes\n",
    "plt.scatter(outcomes_list, y_pred_list, c = \"black\", alpha = 0.15)\n",
    "\n",
    "axes = plt.gca()\n",
    "\n",
    "axes.set_xlim([-2, 4])\n",
    "\n",
    "axes.set_ylim([-2, 4])\n",
    "\n",
    "plt.plot([-2, 4], [-2, 4], 'k-', lw=2)"
   ]
  },
  {
   "cell_type": "markdown",
   "metadata": {
    "collapsed": false
   },
   "source": [
    "### Round 7.1: Validation Set Performance"
   ]
  },
  {
   "cell_type": "code",
   "execution_count": 101,
   "metadata": {
    "collapsed": false
   },
   "outputs": [
    {
     "data": {
      "text/plain": [
       "Variable containing:\n",
       " 464.4465\n",
       "[torch.FloatTensor of size 1]"
      ]
     },
     "execution_count": 101,
     "metadata": {},
     "output_type": "execute_result"
    }
   ],
   "source": [
    "# Get the validation set predictions\n",
    "y_valid_pred = model(valid_predictors_Variable)\n",
    "\n",
    "\n",
    "# Print the loss\n",
    "loss_fn(y_valid_pred,\n",
    "        valid_outcomes_Variable)"
   ]
  },
  {
   "cell_type": "code",
   "execution_count": 102,
   "metadata": {
    "collapsed": true
   },
   "outputs": [],
   "source": [
    "# Get rid of the 2nd dimension of 1 from the FloatTensor\n",
    "y_valid_pred_resized = y_valid_pred.resize(2808)\n",
    "\n",
    "\n",
    "# Make the FloatTensor into a numpy.array\n",
    "y_valid_pred_array = y_valid_pred_resized.data.numpy()\n",
    "\n",
    "\n",
    "# Convert back to log scale\n",
    "y_valid_pred_array = y_valid_pred_array*5.407597 + 7.688844\n",
    "\n",
    "\n",
    "# Make the numpy.array into a list\n",
    "y_valid_pred_list = y_valid_pred_array.tolist()"
   ]
  },
  {
   "cell_type": "code",
   "execution_count": 103,
   "metadata": {
    "collapsed": false
   },
   "outputs": [
    {
     "data": {
      "text/plain": [
       "<matplotlib.text.Text at 0x7f42a45dc630>"
      ]
     },
     "execution_count": 103,
     "metadata": {},
     "output_type": "execute_result"
    },
    {
     "data": {
      "image/png": "[encoded data removed]",
      "text/plain": [
       "<matplotlib.figure.Figure at 0x7f42a458a1d0>"
      ]
     },
     "metadata": {},
     "output_type": "display_data"
    }
   ],
   "source": [
    "# Plot new predictions versus new data outcomes\n",
    "plt.scatter(valid_outcomes_list, y_valid_pred_list, c = \"black\", alpha = 0.15)\n",
    "\n",
    "axes = plt.gca()\n",
    "\n",
    "axes.set_xlim([0, 24])\n",
    "\n",
    "axes.set_ylim([0, 24])\n",
    "\n",
    "axes.set_xticks([0, 4, 8, 12, 16, 20, 24])\n",
    "\n",
    "axes.set_yticks([0, 4, 8, 12, 16, 20, 24])\n",
    "\n",
    "plt.plot([0, 24], [0, 24], 'k-', lw = 2)\n",
    "\n",
    "axes.set_xlabel(\"Actual Outcome (Log-Transformed US Dollars)\")\n",
    "\n",
    "axes.set_ylabel(\"Model Prediction (Log-Transformed US Dollars)\")\n",
    "\n",
    "axes.set_title(\"Model Performance\")"
   ]
  },
  {
   "cell_type": "code",
   "execution_count": 104,
   "metadata": {
    "collapsed": false
   },
   "outputs": [
    {
     "data": {
      "text/plain": [
       "Parameter containing:\n",
       "\n",
       "Columns 0 to 9 \n",
       "1.00000e-02 *\n",
       "  3.0846  0.3001 -0.1348 -1.5316  1.4128 -2.7257  0.2072  0.2601  3.9447  1.3387\n",
       "\n",
       "Columns 10 to 19 \n",
       "1.00000e-02 *\n",
       " -0.0463 -1.3586  1.3119 -2.0363  0.6725  0.5755  0.6217 -0.6508  3.1973  0.3631\n",
       "\n",
       "Columns 20 to 23 \n",
       "1.00000e-02 *\n",
       "  5.2769 -3.8032  2.8737 -2.0743\n",
       "[torch.FloatTensor of size 1x24]"
      ]
     },
     "execution_count": 104,
     "metadata": {},
     "output_type": "execute_result"
    }
   ],
   "source": [
    "model[(0)].weight"
   ]
  }
 ],
 "metadata": {
  "kernelspec": {
   "display_name": "Python 3",
   "language": "python",
   "name": "python3"
  },
  "language_info": {
   "codemirror_mode": {
    "name": "ipython",
    "version": 3
   },
   "file_extension": ".py",
   "mimetype": "text/x-python",
   "name": "python",
   "nbconvert_exporter": "python",
   "pygments_lexer": "ipython3",
   "version": "3.6.0"
  }
 },
 "nbformat": 4,
 "nbformat_minor": 2
}
