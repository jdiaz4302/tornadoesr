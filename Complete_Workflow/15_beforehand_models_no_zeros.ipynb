{
 "cells": [
  {
   "cell_type": "markdown",
   "metadata": {},
   "source": [
    "## Setup"
   ]
  },
  {
   "cell_type": "code",
   "execution_count": 1,
   "metadata": {
    "collapsed": true
   },
   "outputs": [],
   "source": [
    "# Packages\n",
    "import pandas as pd\n",
    "import torch\n",
    "from torch.autograd import Variable\n",
    "import numpy as np\n",
    "import matplotlib.pyplot as plt\n",
    "%matplotlib inline\n",
    "import pylab\n",
    "import math"
   ]
  },
  {
   "cell_type": "code",
   "execution_count": 2,
   "metadata": {
    "collapsed": false
   },
   "outputs": [
    {
     "name": "stdout",
     "output_type": "stream",
     "text": [
      "<class 'pandas.core.frame.DataFrame'>\n",
      "RangeIndex: 8308 entries, 0 to 8307\n",
      "Data columns (total 35 columns):\n",
      "DAMAGE_PROPERTY       8308 non-null float64\n",
      "DURATION_SECONDS      8308 non-null float64\n",
      "BEGIN_LAT             8308 non-null float64\n",
      "BEGIN_LON             8308 non-null float64\n",
      "TOR_LENGTH            8308 non-null float64\n",
      "TOR_WIDTH             8308 non-null float64\n",
      "YEAR                  8308 non-null float64\n",
      "MULTI_VORT_IND        8308 non-null int64\n",
      "OPEN_WATER_PROP       8308 non-null float64\n",
      "DEV_OPEN_PROP         8308 non-null float64\n",
      "DEV_LOW_PROP          8308 non-null float64\n",
      "DEV_MED_PROP          8308 non-null float64\n",
      "DEV_HIGH_PROP         8308 non-null float64\n",
      "BARREN_LAND_PROP      8308 non-null float64\n",
      "DECID_FOREST_PROP     8308 non-null float64\n",
      "EVERGR_FOREST_PROP    8308 non-null float64\n",
      "MIXED_FOREST_PROP     8308 non-null float64\n",
      "SHRUB_SCRUB_PROP      8308 non-null float64\n",
      "GRASS_LAND_PROP       8308 non-null float64\n",
      "PASTURE_HAY_PROP      8308 non-null float64\n",
      "CULT_CROPS_PROP       8308 non-null float64\n",
      "WOOD_WETLAND_PROP     8308 non-null float64\n",
      "HERB_WETLAND_PROP     8308 non-null float64\n",
      "INCOME                8308 non-null float64\n",
      "MOB_HOME_DENS         8308 non-null float64\n",
      "POP_DENS              8308 non-null float64\n",
      "TOR_AREA              8308 non-null float64\n",
      "TOT_DEV_INT           8308 non-null float64\n",
      "TOT_WOOD_AREA         8308 non-null float64\n",
      "WOOD_DEV_INT          8308 non-null float64\n",
      "EXP_INC_AREA          8308 non-null float64\n",
      "DAY_OF_YEAR           8308 non-null float64\n",
      "MONTH                 8308 non-null float64\n",
      "STATE_RANK            8308 non-null float64\n",
      "TIME                  8308 non-null float64\n",
      "dtypes: float64(34), int64(1)\n",
      "memory usage: 2.2 MB\n"
     ]
    }
   ],
   "source": [
    "# Import data\n",
    "tor_df = pd.read_csv(\"/home/jeremy/github_tornadoesr/data/raw/tor_train_set_no_zeros.csv\")\n",
    "\n",
    "\n",
    "# Quick inspection\n",
    "tor_df.info()"
   ]
  },
  {
   "cell_type": "code",
   "execution_count": 3,
   "metadata": {
    "collapsed": false
   },
   "outputs": [
    {
     "name": "stdout",
     "output_type": "stream",
     "text": [
      "<class 'pandas.core.frame.DataFrame'>\n",
      "RangeIndex: 8308 entries, 0 to 8307\n",
      "Data columns (total 1 columns):\n",
      "DAMAGE_PROPERTY    8308 non-null float64\n",
      "dtypes: float64(1)\n",
      "memory usage: 65.0 KB\n"
     ]
    }
   ],
   "source": [
    "# Seperating variables\n",
    "# The dependent variables\n",
    "tornado_outcomes = tor_df.iloc[:, [0]]\n",
    "\n",
    "\n",
    "# Quick inspection\n",
    "tornado_outcomes.info()"
   ]
  },
  {
   "cell_type": "code",
   "execution_count": 4,
   "metadata": {
    "collapsed": false
   },
   "outputs": [
    {
     "name": "stdout",
     "output_type": "stream",
     "text": [
      "<class 'pandas.core.frame.DataFrame'>\n",
      "RangeIndex: 8308 entries, 0 to 8307\n",
      "Data columns (total 24 columns):\n",
      "BEGIN_LAT             8308 non-null float64\n",
      "BEGIN_LON             8308 non-null float64\n",
      "OPEN_WATER_PROP       8308 non-null float64\n",
      "DEV_OPEN_PROP         8308 non-null float64\n",
      "DEV_LOW_PROP          8308 non-null float64\n",
      "DEV_MED_PROP          8308 non-null float64\n",
      "DEV_HIGH_PROP         8308 non-null float64\n",
      "BARREN_LAND_PROP      8308 non-null float64\n",
      "DECID_FOREST_PROP     8308 non-null float64\n",
      "EVERGR_FOREST_PROP    8308 non-null float64\n",
      "MIXED_FOREST_PROP     8308 non-null float64\n",
      "SHRUB_SCRUB_PROP      8308 non-null float64\n",
      "GRASS_LAND_PROP       8308 non-null float64\n",
      "PASTURE_HAY_PROP      8308 non-null float64\n",
      "CULT_CROPS_PROP       8308 non-null float64\n",
      "WOOD_WETLAND_PROP     8308 non-null float64\n",
      "HERB_WETLAND_PROP     8308 non-null float64\n",
      "INCOME                8308 non-null float64\n",
      "MOB_HOME_DENS         8308 non-null float64\n",
      "POP_DENS              8308 non-null float64\n",
      "TOT_DEV_INT           8308 non-null float64\n",
      "TOT_WOOD_AREA         8308 non-null float64\n",
      "WOOD_DEV_INT          8308 non-null float64\n",
      "STATE_RANK            8308 non-null float64\n",
      "dtypes: float64(24)\n",
      "memory usage: 1.5 MB\n"
     ]
    }
   ],
   "source": [
    "# The independent variables\n",
    "tornado_features = tor_df.iloc[:, 2:34]\n",
    "\n",
    "tornado_features = tornado_features.drop([\"TOR_LENGTH\",\n",
    "                                          \"TOR_WIDTH\",\n",
    "                                          \"YEAR\",\n",
    "                                          \"MULTI_VORT_IND\",\n",
    "                                          \"TOR_AREA\",\n",
    "                                          \"EXP_INC_AREA\",\n",
    "                                          \"DAY_OF_YEAR\",\n",
    "                                          \"MONTH\"],\n",
    "                                         axis = 1)\n",
    "\n",
    "\n",
    "# Quick inspection\n",
    "tornado_features.info()"
   ]
  },
  {
   "cell_type": "code",
   "execution_count": 5,
   "metadata": {
    "collapsed": false
   },
   "outputs": [
    {
     "data": {
      "text/plain": [
       "\n",
       " 0.1532\n",
       " 0.6540\n",
       " 0.0873\n",
       "   ⋮    \n",
       " 0.5790\n",
       " 0.1532\n",
       " 0.2814\n",
       "[torch.DoubleTensor of size 8308x1]"
      ]
     },
     "execution_count": 5,
     "metadata": {},
     "output_type": "execute_result"
    }
   ],
   "source": [
    "# Make the dependent variables into a numpy array\n",
    "outcomes_array = tornado_outcomes.values\n",
    "\n",
    "\n",
    "# Makes the numpy array into a torch Tensor\n",
    "outcomes_Tensor = torch.from_numpy(outcomes_array)\n",
    "\n",
    "\n",
    "# Quick inspection\n",
    "outcomes_Tensor"
   ]
  },
  {
   "cell_type": "code",
   "execution_count": 6,
   "metadata": {
    "collapsed": false
   },
   "outputs": [
    {
     "data": {
      "text/plain": [
       "\n",
       "-1.6434e+00 -4.3226e-01  1.0059e+00  ...   2.4012e-01  9.9841e-01 -8.0985e-01\n",
       " 2.0633e-01  5.5447e-01  2.5095e-01  ...   6.0023e-01  2.2936e-01  5.1571e-01\n",
       "-3.3130e-01 -8.9907e-01  6.5406e-01  ...  -5.8070e-01 -1.0991e+00 -1.1142e+00\n",
       "                ...                   ⋱                   ...                \n",
       "-2.3862e-01  6.3729e-01  2.5982e-01  ...   7.2155e-01  3.0761e-01  1.5969e-01\n",
       "-1.2487e+00  6.1127e-01  1.0901e-01  ...   9.1690e-01  4.8438e-01  2.6054e-01\n",
       "-4.7014e-01 -3.4764e-02  1.6123e+00  ...   5.8210e-01 -4.3274e-01 -3.8082e-01\n",
       "[torch.DoubleTensor of size 8308x24]"
      ]
     },
     "execution_count": 6,
     "metadata": {},
     "output_type": "execute_result"
    }
   ],
   "source": [
    "# Make the independent variables into a numpy array\n",
    "features_array = tornado_features.values\n",
    "\n",
    "\n",
    "# Make the numpy array into a torch Tensor\n",
    "features_Tensor = torch.from_numpy(features_array)\n",
    "\n",
    "\n",
    "# Quick inspection\n",
    "features_Tensor"
   ]
  },
  {
   "cell_type": "markdown",
   "metadata": {},
   "source": [
    "### Convert DoubleTensor to FloatTensor"
   ]
  },
  {
   "cell_type": "code",
   "execution_count": 7,
   "metadata": {
    "collapsed": false
   },
   "outputs": [
    {
     "data": {
      "text/plain": [
       "\n",
       "-1.6434e+00 -4.3226e-01  1.0059e+00  ...   2.4012e-01  9.9841e-01 -8.0985e-01\n",
       " 2.0633e-01  5.5447e-01  2.5095e-01  ...   6.0023e-01  2.2936e-01  5.1571e-01\n",
       "-3.3130e-01 -8.9907e-01  6.5406e-01  ...  -5.8070e-01 -1.0991e+00 -1.1142e+00\n",
       "                ...                   ⋱                   ...                \n",
       "-2.3862e-01  6.3729e-01  2.5982e-01  ...   7.2155e-01  3.0761e-01  1.5969e-01\n",
       "-1.2487e+00  6.1127e-01  1.0901e-01  ...   9.1690e-01  4.8438e-01  2.6054e-01\n",
       "-4.7014e-01 -3.4764e-02  1.6123e+00  ...   5.8210e-01 -4.3274e-01 -3.8082e-01\n",
       "[torch.FloatTensor of size 8308x24]"
      ]
     },
     "execution_count": 7,
     "metadata": {},
     "output_type": "execute_result"
    }
   ],
   "source": [
    "# Changing dependent variables from a DoubleTensor to a FloatTensor\n",
    "outcomes_Tensor = outcomes_Tensor.float()\n",
    "\n",
    "\n",
    "# ...and for the independent variables\n",
    "features_Tensor = features_Tensor.float()\n",
    "\n",
    "\n",
    "# Quick check\n",
    "features_Tensor"
   ]
  },
  {
   "cell_type": "markdown",
   "metadata": {
    "collapsed": true
   },
   "source": [
    "## Round 1: One-Hidden-Layer Neural Network"
   ]
  },
  {
   "cell_type": "code",
   "execution_count": 8,
   "metadata": {
    "collapsed": false
   },
   "outputs": [],
   "source": [
    "# Make the torch Tensor into a PyTorch Variable for dependent variables\n",
    "outcomes_Variable = Variable(outcomes_Tensor)\n",
    "\n",
    "\n",
    "# ...for independent variables\n",
    "features_Variable = Variable(features_Tensor,\n",
    "                             requires_grad = False)"
   ]
  },
  {
   "cell_type": "code",
   "execution_count": 9,
   "metadata": {
    "collapsed": false
   },
   "outputs": [],
   "source": [
    "# Make the neural network\n",
    "model = torch.nn.Sequential(torch.nn.Linear(24, 16),\n",
    "                            torch.nn.ReLU(),\n",
    "                            torch.nn.Linear(16, 1))"
   ]
  },
  {
   "cell_type": "code",
   "execution_count": 10,
   "metadata": {
    "collapsed": true
   },
   "outputs": [],
   "source": [
    "# Set the loss function\n",
    "loss_fn = torch.nn.MSELoss(size_average=False)"
   ]
  },
  {
   "cell_type": "code",
   "execution_count": 11,
   "metadata": {
    "collapsed": false
   },
   "outputs": [],
   "source": [
    "# To add errors to\n",
    "errors = []\n",
    "\n",
    "\n",
    "# Set the learning rate\n",
    "learning_rate = 1e-2\n",
    "\n",
    "\n",
    "# Define the model's optimizer\n",
    "optimizer = torch.optim.Adagrad(model.parameters(), lr = learning_rate)\n",
    "\n",
    "\n",
    "# Train the neural network\n",
    "for t in range(15000):\n",
    "    \n",
    "    # Get the current predictions\n",
    "    y_pred = model(features_Variable)\n",
    "    \n",
    "    # Compute and append current summed errors\n",
    "    loss = loss_fn(y_pred, outcomes_Variable)\n",
    "    errors.append(loss.data[0])\n",
    "    \n",
    "    # Zero the gradients before running the backward pass.\n",
    "    optimizer.zero_grad()\n",
    "    \n",
    "    # Backward pass: compute gradient of the loss with respect to all the learnable Variables\n",
    "    loss.backward()\n",
    "    \n",
    "    # Update the weights using Adagrad\n",
    "    optimizer.step()"
   ]
  },
  {
   "cell_type": "code",
   "execution_count": 12,
   "metadata": {
    "collapsed": true
   },
   "outputs": [],
   "source": [
    "# Get the iterations\n",
    "iterations = list(range(0, 15000))"
   ]
  },
  {
   "cell_type": "code",
   "execution_count": 13,
   "metadata": {
    "collapsed": false
   },
   "outputs": [
    {
     "data": {
      "text/plain": [
       "<matplotlib.collections.PathCollection at 0x7f6bc1937390>"
      ]
     },
     "execution_count": 13,
     "metadata": {},
     "output_type": "execute_result"
    },
    {
     "data": {
      "image/png": "[encoded data removed]",
      "text/plain": [
       "<matplotlib.figure.Figure at 0x7f6bb8ca16a0>"
      ]
     },
     "metadata": {},
     "output_type": "display_data"
    }
   ],
   "source": [
    "# Plot summed error as a function of iteration\n",
    "plt.scatter(iterations, errors, c = \"black\", alpha = 0.25)"
   ]
  },
  {
   "cell_type": "code",
   "execution_count": 14,
   "metadata": {
    "collapsed": false
   },
   "outputs": [],
   "source": [
    "# Get rid of the 2nd dimension of 1 from the FloatTensor\n",
    "y_pred_resized = y_pred.resize(8308)\n",
    "\n",
    "\n",
    "# Make the FloatTensor into a numpy.array\n",
    "y_pred_array = y_pred_resized.data.numpy()\n",
    "\n",
    "\n",
    "# Make the numpy.array into a list\n",
    "y_pred_list = y_pred_array.tolist()"
   ]
  },
  {
   "cell_type": "code",
   "execution_count": 15,
   "metadata": {
    "collapsed": false
   },
   "outputs": [],
   "source": [
    "# Get rid of the 2nd dimension of 1 from the FloatTensor\n",
    "outcomes_Variable_resized = outcomes_Variable.resize(8308)\n",
    "\n",
    "\n",
    "# Make the FloatTensor into a numpy.array\n",
    "outcomes_array = outcomes_Variable_resized.data.numpy()\n",
    "\n",
    "\n",
    "# Make the numpy.array into a list\n",
    "outcomes_list = outcomes_array.tolist()"
   ]
  },
  {
   "cell_type": "code",
   "execution_count": 16,
   "metadata": {
    "collapsed": false
   },
   "outputs": [
    {
     "data": {
      "text/plain": [
       "[<matplotlib.lines.Line2D at 0x7f6bb8ca11d0>]"
      ]
     },
     "execution_count": 16,
     "metadata": {},
     "output_type": "execute_result"
    },
    {
     "data": {
      "image/png": "[encoded data removed]",
      "text/plain": [
       "<matplotlib.figure.Figure at 0x7f6bb8ca17f0>"
      ]
     },
     "metadata": {},
     "output_type": "display_data"
    }
   ],
   "source": [
    "# Plot predictions versus training set outcomes\n",
    "plt.scatter(outcomes_list, y_pred_list, c = \"black\", alpha = 0.15)\n",
    "\n",
    "axes = plt.gca()\n",
    "\n",
    "axes.set_xlim([-2, 4])\n",
    "\n",
    "axes.set_ylim([-2, 4])\n",
    "\n",
    "plt.plot([-2, 4], [-2, 4], 'k-', lw=2)"
   ]
  },
  {
   "cell_type": "markdown",
   "metadata": {},
   "source": [
    "### Round 1.1: Validation Set Performance"
   ]
  },
  {
   "cell_type": "code",
   "execution_count": 17,
   "metadata": {
    "collapsed": false
   },
   "outputs": [
    {
     "name": "stdout",
     "output_type": "stream",
     "text": [
      "<class 'pandas.core.frame.DataFrame'>\n",
      "RangeIndex: 2808 entries, 0 to 2807\n",
      "Data columns (total 1 columns):\n",
      "DAMAGE_PROPERTY    2808 non-null float64\n",
      "dtypes: float64(1)\n",
      "memory usage: 22.0 KB\n"
     ]
    }
   ],
   "source": [
    "# Import data\n",
    "valid_df = pd.read_csv(\"/home/jeremy/github_tornadoesr/data/raw/tor_cv_set_no_zeros.csv\")\n",
    "\n",
    "\n",
    "# Validation set outcomes\n",
    "valid_outcomes = valid_df.iloc[:, [0]]\n",
    "\n",
    "\n",
    "# Make the validation outcomes into a numpy array\n",
    "valid_outcomes_array = valid_outcomes.values\n",
    "\n",
    "\n",
    "# Makes the numpy array into a torch Tensor\n",
    "valid_outcomes_Tensor = torch.from_numpy(valid_outcomes_array)\n",
    "\n",
    "\n",
    "# Changing validation outcomes from a DoubleTensor to a FloatTensor\n",
    "valid_outcomes_Tensor = valid_outcomes_Tensor.float()\n",
    "\n",
    "\n",
    "# Make the Tensor into a Pytorch Variable\n",
    "valid_outcomes_Variable = Variable(valid_outcomes_Tensor)\n",
    "\n",
    "\n",
    "# Quick check\n",
    "valid_outcomes.info()"
   ]
  },
  {
   "cell_type": "code",
   "execution_count": 18,
   "metadata": {
    "collapsed": false
   },
   "outputs": [
    {
     "name": "stdout",
     "output_type": "stream",
     "text": [
      "<class 'pandas.core.frame.DataFrame'>\n",
      "RangeIndex: 2808 entries, 0 to 2807\n",
      "Data columns (total 24 columns):\n",
      "BEGIN_LAT             2808 non-null float64\n",
      "BEGIN_LON             2808 non-null float64\n",
      "OPEN_WATER_PROP       2808 non-null float64\n",
      "DEV_OPEN_PROP         2808 non-null float64\n",
      "DEV_LOW_PROP          2808 non-null float64\n",
      "DEV_MED_PROP          2808 non-null float64\n",
      "DEV_HIGH_PROP         2808 non-null float64\n",
      "BARREN_LAND_PROP      2808 non-null float64\n",
      "DECID_FOREST_PROP     2808 non-null float64\n",
      "EVERGR_FOREST_PROP    2808 non-null float64\n",
      "MIXED_FOREST_PROP     2808 non-null float64\n",
      "SHRUB_SCRUB_PROP      2808 non-null float64\n",
      "GRASS_LAND_PROP       2808 non-null float64\n",
      "PASTURE_HAY_PROP      2808 non-null float64\n",
      "CULT_CROPS_PROP       2808 non-null float64\n",
      "WOOD_WETLAND_PROP     2808 non-null float64\n",
      "HERB_WETLAND_PROP     2808 non-null float64\n",
      "INCOME                2808 non-null float64\n",
      "MOB_HOME_DENS         2808 non-null float64\n",
      "POP_DENS              2808 non-null float64\n",
      "TOT_DEV_INT           2808 non-null float64\n",
      "TOT_WOOD_AREA         2808 non-null float64\n",
      "WOOD_DEV_INT          2808 non-null float64\n",
      "STATE_RANK            2808 non-null float64\n",
      "dtypes: float64(24)\n",
      "memory usage: 526.6 KB\n"
     ]
    }
   ],
   "source": [
    "# Validation set predictors\n",
    "valid_predictors = valid_df.iloc[:, 2:34]\n",
    "\n",
    "valid_predictors = valid_predictors.drop([\"TOR_LENGTH\",\n",
    "                                          \"TOR_WIDTH\",\n",
    "                                          \"YEAR\",\n",
    "                                          \"MULTI_VORT_IND\",\n",
    "                                          \"TOR_AREA\",\n",
    "                                          \"EXP_INC_AREA\",\n",
    "                                          \"DAY_OF_YEAR\",\n",
    "                                          \"MONTH\"],\n",
    "                                         axis = 1)\n",
    "\n",
    "\n",
    "# Make the validation predictors into a numpy array\n",
    "valid_predictors_array = valid_predictors.values\n",
    "\n",
    "\n",
    "# Makes the numpy array into a torch Tensor\n",
    "valid_predictors_Tensor = torch.from_numpy(valid_predictors_array)\n",
    "\n",
    "\n",
    "# Changing validation predictors from a DoubleTensor to a FloatTensor\n",
    "valid_predictors_Tensor = valid_predictors_Tensor.float()\n",
    "\n",
    "\n",
    "# Make the Tensor into a Pytorch Variable\n",
    "valid_predictors_Variable = Variable(valid_predictors_Tensor)\n",
    "\n",
    "\n",
    "# Quick check\n",
    "valid_predictors.info()"
   ]
  },
  {
   "cell_type": "code",
   "execution_count": 19,
   "metadata": {
    "collapsed": false
   },
   "outputs": [
    {
     "data": {
      "text/plain": [
       "Variable containing:\n",
       " 479.6348\n",
       "[torch.FloatTensor of size 1]"
      ]
     },
     "execution_count": 19,
     "metadata": {},
     "output_type": "execute_result"
    }
   ],
   "source": [
    "# Get the validation set predictions\n",
    "y_valid_pred = model(valid_predictors_Variable)\n",
    "\n",
    "\n",
    "# Print the loss\n",
    "loss_fn(y_valid_pred,\n",
    "        valid_outcomes_Variable)"
   ]
  },
  {
   "cell_type": "code",
   "execution_count": 20,
   "metadata": {
    "collapsed": false
   },
   "outputs": [
    {
     "data": {
      "text/plain": [
       "Variable containing:\n",
       "1.00000e-03 *\n",
       " -8.9444\n",
       "[torch.FloatTensor of size 1]"
      ]
     },
     "execution_count": 20,
     "metadata": {},
     "output_type": "execute_result"
    }
   ],
   "source": [
    "# Computing the total sum of squares\n",
    "# Get a torch Variable of the mean outcome\n",
    "# Compute mean value\n",
    "valid_outcomes_mean = (sum(valid_outcomes_Variable) / len(valid_outcomes_Variable))\n",
    "valid_outcomes_mean = valid_outcomes_mean.data.numpy()[0]\n",
    "\n",
    "# Make that into a ndarray\n",
    "valid_outcomes_mean = np.repeat(valid_outcomes_mean, len(valid_outcomes_Variable))\n",
    "\n",
    "# Turn the array into a torch Tensor\n",
    "valid_outcomes_mean = torch.from_numpy(valid_outcomes_mean)\n",
    "\n",
    "# Turn that Tensor into a Variable\n",
    "valid_outcomes_mean_Variable = Variable(valid_outcomes_mean)\n",
    "\n",
    "# Compute the TSS\n",
    "tot_sum_squares = loss_fn(valid_outcomes_mean_Variable, valid_outcomes_Variable)\n",
    "\n",
    "\n",
    "# Grab the residual sum of squares\n",
    "resid_sum_squares = loss_fn(y_valid_pred, valid_outcomes_Variable)\n",
    "\n",
    "\n",
    "# Compute R squared\n",
    "R_squared = 1 - (resid_sum_squares / tot_sum_squares)\n",
    "\n",
    "R_squared"
   ]
  },
  {
   "cell_type": "code",
   "execution_count": 21,
   "metadata": {
    "collapsed": false
   },
   "outputs": [],
   "source": [
    "# Get rid of the 2nd dimension of 1 from the FloatTensor\n",
    "y_valid_pred_resized = y_valid_pred.resize(2808)\n",
    "\n",
    "\n",
    "# Make the FloatTensor into a numpy.array\n",
    "y_valid_pred_array = y_valid_pred_resized.data.numpy()\n",
    "\n",
    "\n",
    "# Convert back to log scale\n",
    "y_valid_pred_array = y_valid_pred_array*5.407597 + 7.688844\n",
    "\n",
    "\n",
    "# Make the numpy.array into a list\n",
    "y_valid_pred_list = y_valid_pred_array.tolist()"
   ]
  },
  {
   "cell_type": "code",
   "execution_count": 22,
   "metadata": {
    "collapsed": false
   },
   "outputs": [],
   "source": [
    "# Get rid of the 2nd dimension of 1 from the FloatTensor\n",
    "valid_outcomes_Variable_resized = valid_outcomes_Variable.resize(2808)\n",
    "\n",
    "\n",
    "# Make the FloatTensor into a numpy.array\n",
    "valid_outcomes_array = valid_outcomes_Variable_resized.data.numpy()\n",
    "\n",
    "\n",
    "# Convert back to log scale\n",
    "valid_outcomes_array = valid_outcomes_array*5.407597 + 7.688844\n",
    "\n",
    "\n",
    "# Make the numpy.array into a list\n",
    "valid_outcomes_list = valid_outcomes_array.tolist()"
   ]
  },
  {
   "cell_type": "code",
   "execution_count": 23,
   "metadata": {
    "collapsed": false
   },
   "outputs": [
    {
     "data": {
      "text/plain": [
       "<matplotlib.text.Text at 0x7f6b64bbf198>"
      ]
     },
     "execution_count": 23,
     "metadata": {},
     "output_type": "execute_result"
    },
    {
     "data": {
      "image/png": "[encoded data removed]",
      "text/plain": [
       "<matplotlib.figure.Figure at 0x7f6b6655d9e8>"
      ]
     },
     "metadata": {},
     "output_type": "display_data"
    }
   ],
   "source": [
    "# Plot new predictions versus new data outcomes\n",
    "plt.scatter(valid_outcomes_list, y_valid_pred_list, c = \"black\", alpha = 0.15)\n",
    "\n",
    "axes = plt.gca()\n",
    "\n",
    "axes.set_xlim([0, 24])\n",
    "\n",
    "axes.set_ylim([0, 24])\n",
    "\n",
    "axes.set_xticks([0, 4, 8, 12, 16, 20, 24])\n",
    "\n",
    "axes.set_yticks([0, 4, 8, 12, 16, 20, 24])\n",
    "\n",
    "plt.plot([0, 24], [0, 24], 'k-', lw = 2)\n",
    "\n",
    "axes.set_xlabel(\"Actual Outcome (Log-Transformed US Dollars)\")\n",
    "\n",
    "axes.set_ylabel(\"Model Prediction (Log-Transformed US Dollars)\")\n",
    "\n",
    "axes.set_title(\"Model Performance\")"
   ]
  },
  {
   "cell_type": "code",
   "execution_count": 24,
   "metadata": {
    "collapsed": false
   },
   "outputs": [
    {
     "data": {
      "text/plain": [
       "Parameter containing:\n",
       "\n",
       "Columns 0 to 9 \n",
       "-0.0635 -0.0497  0.1032 -0.1394 -0.0213 -0.1422  0.1327  0.2264 -0.2335 -0.3527\n",
       " 0.0487 -0.4429  0.0961  0.0810  0.1677 -0.0282  0.1009 -0.1209  0.2560  0.1387\n",
       " 0.0045  0.1247  0.0544 -0.0800 -0.1151  0.0440 -0.1462  0.1915  0.1085  0.1217\n",
       " 0.1050  0.0427  0.0917 -0.1143  0.0222  0.0295  0.1321 -0.0793  0.2391 -0.1491\n",
       "-0.0368  0.2466  0.3406 -0.1950  0.2035  0.1912  0.2248  0.2536  0.4165 -0.0298\n",
       "-0.1941 -0.1446  0.1427 -0.2825  0.3327  0.1673  0.0262  0.0123  0.3492  0.0869\n",
       "-0.0874 -0.1030  0.0919  0.0713  0.0111  0.1738  0.0570 -0.2263 -0.0189  0.2156\n",
       " 0.1076  0.7261  0.0889 -0.2079  0.5529 -0.5576  0.2956  0.0170 -0.3264 -0.0899\n",
       "-0.4739  0.6057  0.2685 -0.5330 -0.0817  0.0458  0.3268  0.3100 -0.0849 -0.3267\n",
       "-0.2256 -0.3176 -0.0080 -0.0579 -0.0069  0.1245 -0.1463 -0.1050  0.2058  0.4290\n",
       "-0.0655 -0.1023 -0.0386 -0.0474  0.3593 -0.6191 -0.1703  0.0697  0.0521 -0.1074\n",
       " 0.2897 -0.0152 -0.1649  0.3766  0.0331 -0.2726  0.2194 -0.0833  0.0087 -0.0560\n",
       "-0.0456  0.0603  0.1214 -0.0313  0.0833  0.0201  0.2576 -0.2885 -0.1959 -0.0701\n",
       " 0.1282 -0.0342  0.0929  0.0526  0.4754  0.0899  0.0458  0.0900 -0.0369 -0.2768\n",
       " 0.2286  0.1836 -0.0670 -0.1250  0.0803  0.2545  0.0138 -0.0038  0.0553  0.2139\n",
       "-0.1068 -0.1168  0.3527  0.2001  0.1348  0.0246  0.1758  0.1660  0.1243  0.0083\n",
       "\n",
       "Columns 10 to 19 \n",
       "-0.0723 -0.0108 -0.1722  0.1760 -0.0752 -0.2962  0.0733 -0.3683  0.2244  0.2345\n",
       " 0.0976  0.1187 -0.1117 -0.1290  0.3013 -0.0747 -0.1008 -0.0984 -0.1188  0.0678\n",
       "-0.3194 -0.1586 -0.1040  0.2343 -0.3479  0.0056 -0.0731 -0.1586  0.0171  0.1509\n",
       "-0.0786 -0.0587  0.0574  0.0110  0.0642  0.1443  0.0727  0.0536 -0.0365  0.2311\n",
       "-0.5068  0.0177 -0.0354  0.2468  0.0695  0.0669  0.0022 -0.3828  0.0957 -0.1154\n",
       "-0.0590 -0.0383  0.2600  0.0452 -0.1934  0.1882 -0.0391  0.2034 -0.2191  0.1516\n",
       "-0.0452  0.0723 -0.0425 -0.1856  0.1676 -0.0398  0.2323  0.1684  0.0160  0.2278\n",
       "-0.5059 -0.2092 -0.0490 -0.1782  0.1628 -0.6057 -0.1193  0.4183  0.0505  0.0081\n",
       "-0.6172  0.1107 -0.2178  0.2759  0.2235 -0.0873  0.0015 -0.2525 -0.0294  0.2349\n",
       " 0.2111  0.0346  0.1688 -0.3389  0.1903 -0.0253  0.0190  0.2592 -0.1977  0.1249\n",
       " 0.0888 -0.0588 -0.1293  0.0233 -0.0049  0.1025 -0.0964  0.0889  0.1245  0.0982\n",
       " 0.0277  0.0799 -0.0182  0.0194  0.2411 -0.1221  0.0547 -0.1819  0.1882 -0.2958\n",
       " 0.0457 -0.1886 -0.0946 -0.3629  0.1648  0.1307 -0.0941  0.2481 -0.0845  0.0045\n",
       "-0.1118 -0.0456  0.0811  0.0872  0.0018 -0.4356 -0.0551  0.1466  0.1244 -0.0733\n",
       "-0.1861  0.1654 -0.0934 -0.0394  0.0773 -0.2024  0.2404 -0.1377  0.1268  0.0774\n",
       " 0.0508 -0.0065  0.1071  0.2455 -0.0860  0.1130 -0.1268 -0.2368  0.0164 -0.2599\n",
       "\n",
       "Columns 20 to 23 \n",
       " 0.0342  0.1564  0.1521 -0.5213\n",
       "-0.2318 -0.0418 -0.1236 -0.1936\n",
       " 0.1345 -0.1184  0.1683 -0.1534\n",
       " 0.0678  0.1265  0.0941 -0.1900\n",
       "-0.4193 -0.0484  0.2034  0.1739\n",
       " 0.0644  0.0137 -0.1120  0.1378\n",
       "-0.1878 -0.1426  0.0795  0.0887\n",
       " 0.2569  0.2071  0.0313 -0.5173\n",
       "-0.0648 -0.1759 -0.2816  0.0323\n",
       " 0.2482  0.2330 -0.2984  0.1137\n",
       " 0.1512 -0.0052 -0.0550 -0.0917\n",
       "-0.3420  0.0510 -0.2433 -0.1621\n",
       " 0.1967 -0.0081 -0.0840 -0.0868\n",
       "-0.4393  0.0381  0.1986 -0.1519\n",
       " 0.1274  0.1854  0.0533 -0.2268\n",
       "-0.2548  0.1833 -0.1022  0.2746\n",
       "[torch.FloatTensor of size 16x24]"
      ]
     },
     "execution_count": 24,
     "metadata": {},
     "output_type": "execute_result"
    }
   ],
   "source": [
    "model[(0)].weight"
   ]
  },
  {
   "cell_type": "code",
   "execution_count": 25,
   "metadata": {
    "collapsed": false
   },
   "outputs": [
    {
     "data": {
      "text/plain": [
       "Parameter containing:\n",
       "\n",
       "Columns 0 to 9 \n",
       "-0.2444 -0.3214  0.2897  0.2729 -0.2937 -0.3134 -0.3290 -0.2680  0.2084  0.3243\n",
       "\n",
       "Columns 10 to 15 \n",
       " 0.2154  0.3026  0.2930  0.3706  0.3673  0.2965\n",
       "[torch.FloatTensor of size 1x16]"
      ]
     },
     "execution_count": 25,
     "metadata": {},
     "output_type": "execute_result"
    }
   ],
   "source": [
    "model[(2)].weight"
   ]
  },
  {
   "cell_type": "markdown",
   "metadata": {},
   "source": [
    "## Round 2: Two-Hidden-Layer Neural Network"
   ]
  },
  {
   "cell_type": "code",
   "execution_count": 26,
   "metadata": {
    "collapsed": true
   },
   "outputs": [],
   "source": [
    "# Make the torch Tensor into a PyTorch Variable for dependent variables\n",
    "outcomes_Variable = Variable(outcomes_Tensor)\n",
    "\n",
    "\n",
    "# ...for independent variables\n",
    "features_Variable = Variable(features_Tensor,\n",
    "                             requires_grad = False)"
   ]
  },
  {
   "cell_type": "code",
   "execution_count": 27,
   "metadata": {
    "collapsed": true
   },
   "outputs": [],
   "source": [
    "# Make the neural network\n",
    "model = torch.nn.Sequential(torch.nn.Linear(24, 16),\n",
    "                            torch.nn.ReLU(),\n",
    "                            torch.nn.Linear(16, 11),\n",
    "                            torch.nn.ReLU(),\n",
    "                            torch.nn.Linear(11, 1))"
   ]
  },
  {
   "cell_type": "code",
   "execution_count": 28,
   "metadata": {
    "collapsed": false
   },
   "outputs": [],
   "source": [
    "# To add errors to\n",
    "errors = []\n",
    "\n",
    "\n",
    "# Set the learning rate\n",
    "learning_rate = 1e-2\n",
    "\n",
    "\n",
    "# Define the model's optimizer\n",
    "optimizer = torch.optim.Adagrad(model.parameters(), lr = learning_rate)\n",
    "\n",
    "\n",
    "# Train the neural network\n",
    "for t in range(15000):\n",
    "    \n",
    "    # Get the current predictions\n",
    "    y_pred = model(features_Variable)\n",
    "    \n",
    "    # Compute and append current summed errors\n",
    "    loss = loss_fn(y_pred, outcomes_Variable)\n",
    "    errors.append(loss.data[0])\n",
    "    \n",
    "    # Zero the gradients before running the backward pass.\n",
    "    optimizer.zero_grad()\n",
    "    \n",
    "    # Backward pass: compute gradient of the loss with respect to all the learnable Variables\n",
    "    loss.backward()\n",
    "    \n",
    "    # Update the weights using Adagrad\n",
    "    optimizer.step()"
   ]
  },
  {
   "cell_type": "code",
   "execution_count": 29,
   "metadata": {
    "collapsed": false
   },
   "outputs": [
    {
     "data": {
      "text/plain": [
       "<matplotlib.collections.PathCollection at 0x7f6b64ade8d0>"
      ]
     },
     "execution_count": 29,
     "metadata": {},
     "output_type": "execute_result"
    },
    {
     "data": {
      "image/png": "[encoded data removed]",
      "text/plain": [
       "<matplotlib.figure.Figure at 0x7f6b64a082e8>"
      ]
     },
     "metadata": {},
     "output_type": "display_data"
    }
   ],
   "source": [
    "# Plot summed error as a function of iteration\n",
    "plt.scatter(iterations, errors, c = \"black\", alpha = 0.25)"
   ]
  },
  {
   "cell_type": "code",
   "execution_count": 30,
   "metadata": {
    "collapsed": false
   },
   "outputs": [],
   "source": [
    "# Get rid of the 2nd dimension of 1 from the FloatTensor\n",
    "y_pred_resized = y_pred.resize(8308)\n",
    "\n",
    "\n",
    "# Make the FloatTensor into a numpy.array\n",
    "y_pred_array = y_pred_resized.data.numpy()\n",
    "\n",
    "\n",
    "# Make the numpy.array into a list\n",
    "y_pred_list = y_pred_array.tolist()"
   ]
  },
  {
   "cell_type": "code",
   "execution_count": 31,
   "metadata": {
    "collapsed": false
   },
   "outputs": [
    {
     "data": {
      "text/plain": [
       "[<matplotlib.lines.Line2D at 0x7f6b64a8e6d8>]"
      ]
     },
     "execution_count": 31,
     "metadata": {},
     "output_type": "execute_result"
    },
    {
     "data": {
      "image/png": "[encoded data removed]",
      "text/plain": [
       "<matplotlib.figure.Figure at 0x7f6b64a8e748>"
      ]
     },
     "metadata": {},
     "output_type": "display_data"
    }
   ],
   "source": [
    "# Plot predictions versus training set outcomes\n",
    "plt.scatter(outcomes_list, y_pred_list, c = \"black\", alpha = 0.15)\n",
    "\n",
    "axes = plt.gca()\n",
    "\n",
    "axes.set_xlim([-2, 4])\n",
    "\n",
    "axes.set_ylim([-2, 4])\n",
    "\n",
    "plt.plot([-2, 4], [-2, 4], 'k-', lw=2)"
   ]
  },
  {
   "cell_type": "markdown",
   "metadata": {},
   "source": [
    "### Round 2.1: Validation Set Performance"
   ]
  },
  {
   "cell_type": "code",
   "execution_count": 32,
   "metadata": {
    "collapsed": false
   },
   "outputs": [
    {
     "data": {
      "text/plain": [
       "Variable containing:\n",
       " 492.5349\n",
       "[torch.FloatTensor of size 1]"
      ]
     },
     "execution_count": 32,
     "metadata": {},
     "output_type": "execute_result"
    }
   ],
   "source": [
    "# Get the validation set predictions\n",
    "y_valid_pred = model(valid_predictors_Variable)\n",
    "\n",
    "\n",
    "# Print the loss\n",
    "loss_fn(y_valid_pred,\n",
    "        valid_outcomes_Variable)"
   ]
  },
  {
   "cell_type": "code",
   "execution_count": 33,
   "metadata": {
    "collapsed": false
   },
   "outputs": [
    {
     "data": {
      "text/plain": [
       "Variable containing:\n",
       "1.00000e-02 *\n",
       " -3.6080\n",
       "[torch.FloatTensor of size 1]"
      ]
     },
     "execution_count": 33,
     "metadata": {},
     "output_type": "execute_result"
    }
   ],
   "source": [
    "# Grab the residual sum of squares\n",
    "resid_sum_squares = loss_fn(y_valid_pred, valid_outcomes_Variable)\n",
    "\n",
    "\n",
    "# Compute R squared\n",
    "R_squared = 1 - (resid_sum_squares / tot_sum_squares)\n",
    "\n",
    "R_squared"
   ]
  },
  {
   "cell_type": "code",
   "execution_count": 34,
   "metadata": {
    "collapsed": false
   },
   "outputs": [],
   "source": [
    "# Get rid of the 2nd dimension of 1 from the FloatTensor\n",
    "y_valid_pred_resized = y_valid_pred.resize(2808)\n",
    "\n",
    "\n",
    "# Make the FloatTensor into a numpy.array\n",
    "y_valid_pred_array = y_valid_pred_resized.data.numpy()\n",
    "\n",
    "\n",
    "# Convert back to log scale\n",
    "y_valid_pred_array = y_valid_pred_array*5.407597 + 7.688844\n",
    "\n",
    "\n",
    "# Make the numpy.array into a list\n",
    "y_valid_pred_list = y_valid_pred_array.tolist()"
   ]
  },
  {
   "cell_type": "code",
   "execution_count": 35,
   "metadata": {
    "collapsed": false
   },
   "outputs": [
    {
     "data": {
      "text/plain": [
       "<matplotlib.text.Text at 0x7f6b66737278>"
      ]
     },
     "execution_count": 35,
     "metadata": {},
     "output_type": "execute_result"
    },
    {
     "data": {
      "image/png": "[encoded data removed]",
      "text/plain": [
       "<matplotlib.figure.Figure at 0x7f6b64b275f8>"
      ]
     },
     "metadata": {},
     "output_type": "display_data"
    }
   ],
   "source": [
    "# Plot new predictions versus new data outcomes\n",
    "plt.scatter(valid_outcomes_list, y_valid_pred_list, c = \"black\", alpha = 0.15)\n",
    "\n",
    "axes = plt.gca()\n",
    "\n",
    "axes.set_xlim([0, 24])\n",
    "\n",
    "axes.set_ylim([0, 24])\n",
    "\n",
    "axes.set_xticks([0, 4, 8, 12, 16, 20, 24])\n",
    "\n",
    "axes.set_yticks([0, 4, 8, 12, 16, 20, 24])\n",
    "\n",
    "plt.plot([0, 24], [0, 24], 'k-', lw = 2)\n",
    "\n",
    "axes.set_xlabel(\"Actual Outcome (Log-Transformed US Dollars)\")\n",
    "\n",
    "axes.set_ylabel(\"Model Prediction (Log-Transformed US Dollars)\")\n",
    "\n",
    "axes.set_title(\"Model Performance\")"
   ]
  },
  {
   "cell_type": "code",
   "execution_count": 36,
   "metadata": {
    "collapsed": false
   },
   "outputs": [
    {
     "data": {
      "text/plain": [
       "Parameter containing:\n",
       "\n",
       "Columns 0 to 9 \n",
       "-0.0491  0.1055  0.0739  0.1756 -0.4693  0.5418 -0.2214  0.0699  0.3441  0.1864\n",
       " 0.1692  0.2184 -0.1262 -0.0396 -0.0262  0.4144 -0.2745  0.0459  0.0946  0.2331\n",
       "-0.0602 -0.0933 -0.1198  0.3406  0.3451  0.1788  0.1636  0.2772  0.2361 -0.3322\n",
       "-0.3104  0.3916 -0.0609  0.0860 -0.4016  0.3636 -0.1892 -0.0868  0.3178  0.0649\n",
       " 0.0013  0.2572 -0.1429  0.2815  0.1850 -0.0560 -0.0797 -0.2836  0.5999  0.3129\n",
       " 0.2121  0.5206  0.0687  0.0332 -0.0480  0.2238 -0.0061 -0.0296  0.1688  0.4295\n",
       " 0.3062  0.0372  0.2792  0.1906 -0.0415  0.3336 -0.1438 -0.0076  0.1201 -0.0465\n",
       "-0.1630  0.2065 -0.0838 -0.0408  0.3951  0.0495 -0.1140 -0.3052 -0.0095  0.2435\n",
       "-0.0087 -0.0125  0.1000 -0.4274  0.0074  0.2399  0.2020  0.0941  0.3188  0.3287\n",
       "-0.3838  0.3653  0.2283 -0.0274 -0.1779 -0.0089  0.1135  0.0118 -0.2375 -0.6010\n",
       "-0.3243  0.0797 -0.4280 -0.0028 -0.0951 -0.1271 -0.1402  0.0043  0.3135 -0.1335\n",
       " 0.2444 -0.2791 -0.0965  0.0892  0.2558 -0.0686  0.0349 -0.2372 -0.1302 -0.1710\n",
       " 0.0824  0.0189 -0.1347  0.1225 -0.3653  0.3104 -0.2588  0.2009 -0.0850  0.0943\n",
       " 0.3845  0.0934 -0.1402  0.2075 -0.1015 -0.0548  0.5302 -0.0587 -0.0999  0.0272\n",
       "-0.1211  0.0575  0.2620 -0.0461 -0.2344 -0.1795 -0.0470  0.2716 -0.0804  0.0669\n",
       "-0.2903  0.4106 -0.3186  0.4313  0.0870  0.3157 -0.3412 -0.2108  0.4435  0.1409\n",
       "\n",
       "Columns 10 to 19 \n",
       " 0.0716 -0.0611  0.1934 -0.3495 -0.2564  0.1428  0.0885 -0.0145 -0.1567  0.2859\n",
       "-0.1214  0.0673  0.2753  0.3285 -0.3749 -0.2652  0.2693 -0.3905  0.0173  0.0069\n",
       "-0.0929 -0.0553 -0.0237 -0.0500  0.1778 -0.1762  0.2333 -0.1052 -0.4786 -0.0596\n",
       " 0.2919  0.0780  0.0152  0.1687 -0.0210  0.2934 -0.0607 -0.2938 -0.1158  0.2988\n",
       " 0.2882 -0.2373 -0.4556 -0.0404  0.3348 -0.0637  0.4710 -0.1082  0.0543  0.0563\n",
       " 0.1369 -0.1942 -0.1781 -0.1382 -0.1422 -0.2613  0.1233 -0.4760  0.0842 -0.0944\n",
       " 0.0464 -0.3691  0.1809 -0.0792  0.0335  0.3409 -0.2455 -0.1502 -0.1129  0.0241\n",
       " 0.1139  0.0495 -0.0588 -0.0522 -0.1535  0.0609 -0.1103 -0.3094  0.0762  0.0105\n",
       "-0.4145  0.1269  0.0363  0.1849 -0.2793 -0.1231 -0.0900 -0.0633  0.4946  0.2156\n",
       " 0.0608  0.4336  0.2692 -0.0490  0.4005  0.2459 -0.2256  0.1572 -0.0403 -0.0052\n",
       "-0.0958 -0.2608 -0.2091  0.0381  0.1932  0.4824 -0.1161  0.0402 -0.3508  0.1709\n",
       " 0.1533 -0.0336  0.3348  0.0555  0.0892 -0.2081 -0.1244  0.2495  0.2373  0.0231\n",
       "-0.0500  0.4102  0.0105  0.3389 -0.0307  0.1380 -0.2220  0.0044 -0.0117 -0.0106\n",
       "-0.0531 -0.2355 -0.1258 -0.2650  0.1502 -0.2374  0.2426 -0.0880  0.0551 -0.1080\n",
       " 0.1304  0.0007 -0.1042  0.4419  0.2178 -0.0548 -0.0147 -0.0523 -0.0379  0.0861\n",
       "-0.2591 -0.1709  0.2920  0.4875 -0.1475 -0.0166  0.1893  0.1045 -0.1567  0.1936\n",
       "\n",
       "Columns 20 to 23 \n",
       " 0.2275 -0.1743 -0.0252  0.0254\n",
       " 0.2391 -0.0534  0.1486 -0.0174\n",
       " 0.0390 -0.1653 -0.5440  0.3594\n",
       " 0.1406 -0.7896 -0.1125 -0.3053\n",
       " 0.1746  0.2804 -0.1292 -0.2715\n",
       " 0.0027  0.1479 -0.3299  0.3319\n",
       " 0.2531 -0.1718 -0.1090  0.2098\n",
       " 0.0386  0.0332 -0.1322  0.1422\n",
       " 0.2029 -0.2797 -0.3598  0.2146\n",
       "-0.0276 -0.2261 -0.2935  0.0424\n",
       " 0.0053 -0.7431  0.2450 -0.0892\n",
       "-0.1849  0.8839 -0.1676  0.0713\n",
       " 0.2721  0.0757  0.1707 -0.6024\n",
       "-0.3748  0.2667 -0.3827  0.0313\n",
       "-0.1968  0.0798  0.0092 -0.1171\n",
       "-0.1445  0.0007  0.2253  0.2381\n",
       "[torch.FloatTensor of size 16x24]"
      ]
     },
     "execution_count": 36,
     "metadata": {},
     "output_type": "execute_result"
    }
   ],
   "source": [
    "model[(0)].weight"
   ]
  },
  {
   "cell_type": "code",
   "execution_count": 37,
   "metadata": {
    "collapsed": false
   },
   "outputs": [
    {
     "data": {
      "text/plain": [
       "Parameter containing:\n",
       "\n",
       "Columns 0 to 9 \n",
       "-0.0916 -0.4137  0.5218  0.0545  0.0091  0.0591 -0.1031 -0.1462 -0.0509  0.2096\n",
       " 0.3167 -0.0654 -0.1681 -0.2004  0.0665  0.0897  0.1943 -0.1184 -0.0240 -0.1657\n",
       " 0.0782  0.0152  0.0804 -0.0486  0.2877  0.0226  0.2120  0.2583  0.1307  0.2102\n",
       " 0.0577  0.0365  0.1809 -0.2155  0.1958  0.2094 -0.0043  0.0621  0.0460  0.1619\n",
       "-0.2126 -0.0973 -0.1646  0.1678  0.1873  0.3591  0.2518 -0.0126 -0.1807  0.0102\n",
       "-0.0593  0.3444 -0.2699 -0.1408  0.3733  0.1613 -0.0149 -0.6646  0.0871  0.5313\n",
       " 0.0143  0.3490  0.3004 -0.4888  0.2406 -1.0159 -1.7461  0.1406 -0.6179 -0.2299\n",
       " 0.4598 -0.1432  0.2749 -0.3928  0.1462  0.4452  0.0274 -0.3557  0.1773  0.2367\n",
       "-0.3840 -0.5073  0.1461 -0.2174  0.1004  0.2899  0.2318  0.0722 -0.6124  0.1500\n",
       "-0.5265 -0.0450  0.4168 -0.0117  0.2677  0.4505 -0.2514 -0.2808  0.0921 -0.3207\n",
       "-0.1357  0.0177  0.2155 -0.3755  0.4692  0.2123  0.2333  0.0807 -0.1541  0.2353\n",
       "\n",
       "Columns 10 to 15 \n",
       "-0.0930  0.1641 -0.0711  0.2611  0.0417  0.3673\n",
       " 0.4436 -0.2490 -0.4975  0.1324 -0.2038  0.2427\n",
       " 0.0579  0.1922  0.2630  0.1641  0.2436  0.3754\n",
       " 0.1312  0.1356  0.1263  0.1059  0.2241  0.2254\n",
       "-0.2068 -0.0538  0.1250  0.0753 -0.0467  0.3767\n",
       "-0.2030  0.1202 -0.1638 -1.0453 -0.1221 -0.4299\n",
       " 0.4007  0.1550 -0.0122 -0.6692  0.2287 -1.4883\n",
       " 0.3363  0.6523  0.0208 -0.3115  0.2989  0.4701\n",
       " 0.2453 -0.5357  0.1991 -0.3069  0.1159 -0.0107\n",
       " 0.0092  0.4650  0.0923 -0.6245 -0.3064 -0.5407\n",
       " 0.2253  0.0498  0.1130 -0.0243  0.0298 -0.4829\n",
       "[torch.FloatTensor of size 11x16]"
      ]
     },
     "execution_count": 37,
     "metadata": {},
     "output_type": "execute_result"
    }
   ],
   "source": [
    "model[(2)].weight"
   ]
  },
  {
   "cell_type": "code",
   "execution_count": 38,
   "metadata": {
    "collapsed": false
   },
   "outputs": [
    {
     "data": {
      "text/plain": [
       "Parameter containing:\n",
       "\n",
       "Columns 0 to 9 \n",
       "-0.2562 -0.3020  0.3139  0.1310 -0.4630 -0.5757 -1.0211  0.1867 -0.6073 -0.7214\n",
       "\n",
       "Columns 10 to 10 \n",
       " 0.5150\n",
       "[torch.FloatTensor of size 1x11]"
      ]
     },
     "execution_count": 38,
     "metadata": {},
     "output_type": "execute_result"
    }
   ],
   "source": [
    "model[(4)].weight"
   ]
  },
  {
   "cell_type": "markdown",
   "metadata": {},
   "source": [
    "## Round 3: Three-Hidden-Layer Neural Network"
   ]
  },
  {
   "cell_type": "code",
   "execution_count": 39,
   "metadata": {
    "collapsed": true
   },
   "outputs": [],
   "source": [
    "# Make the torch Tensor into a PyTorch Variable for dependent variables\n",
    "outcomes_Variable = Variable(outcomes_Tensor)\n",
    "\n",
    "\n",
    "# ...for independent variables\n",
    "features_Variable = Variable(features_Tensor,\n",
    "                             requires_grad = False)"
   ]
  },
  {
   "cell_type": "code",
   "execution_count": 40,
   "metadata": {
    "collapsed": false
   },
   "outputs": [],
   "source": [
    "# Make the neural network\n",
    "model = torch.nn.Sequential(torch.nn.Linear(24, 16),\n",
    "                            torch.nn.ReLU(),\n",
    "                            torch.nn.Linear(16, 11),\n",
    "                            torch.nn.ReLU(),\n",
    "                            torch.nn.Linear(11, 7),\n",
    "                            torch.nn.ReLU(),\n",
    "                            torch.nn.Linear(7, 1))"
   ]
  },
  {
   "cell_type": "code",
   "execution_count": 41,
   "metadata": {
    "collapsed": false
   },
   "outputs": [],
   "source": [
    "# To add errors to\n",
    "errors = []\n",
    "\n",
    "\n",
    "# Set the learning rate\n",
    "learning_rate = 1e-2\n",
    "\n",
    "\n",
    "# Define the model's optimizer\n",
    "optimizer = torch.optim.Adagrad(model.parameters(), lr = learning_rate)\n",
    "\n",
    "\n",
    "# Train the neural network\n",
    "for t in range(15000):\n",
    "    \n",
    "    # Get the current predictions\n",
    "    y_pred = model(features_Variable)\n",
    "    \n",
    "    # Compute and append current summed errors\n",
    "    loss = loss_fn(y_pred, outcomes_Variable)\n",
    "    errors.append(loss.data[0])\n",
    "    \n",
    "    # Zero the gradients before running the backward pass.\n",
    "    optimizer.zero_grad()\n",
    "    \n",
    "    # Backward pass: compute gradient of the loss with respect to all the learnable Variables\n",
    "    loss.backward()\n",
    "    \n",
    "    # Update the weights using Adagrad\n",
    "    optimizer.step()"
   ]
  },
  {
   "cell_type": "code",
   "execution_count": 42,
   "metadata": {
    "collapsed": false
   },
   "outputs": [
    {
     "data": {
      "text/plain": [
       "<matplotlib.collections.PathCollection at 0x7f6b649dac88>"
      ]
     },
     "execution_count": 42,
     "metadata": {},
     "output_type": "execute_result"
    },
    {
     "data": {
      "image/png": "[encoded data removed]",
      "text/plain": [
       "<matplotlib.figure.Figure at 0x7f6b64c5e0f0>"
      ]
     },
     "metadata": {},
     "output_type": "display_data"
    }
   ],
   "source": [
    "# Plot summed error as a function of iteration\n",
    "plt.scatter(iterations, errors, c = \"black\", alpha = 0.25)"
   ]
  },
  {
   "cell_type": "code",
   "execution_count": 43,
   "metadata": {
    "collapsed": true
   },
   "outputs": [],
   "source": [
    "# Get rid of the 2nd dimension of 1 from the FloatTensor\n",
    "y_pred_resized = y_pred.resize(8308)\n",
    "\n",
    "\n",
    "# Make the FloatTensor into a numpy.array\n",
    "y_pred_array = y_pred_resized.data.numpy()\n",
    "\n",
    "\n",
    "# Make the numpy.array into a list\n",
    "y_pred_list = y_pred_array.tolist()"
   ]
  },
  {
   "cell_type": "code",
   "execution_count": 44,
   "metadata": {
    "collapsed": false
   },
   "outputs": [
    {
     "data": {
      "text/plain": [
       "[<matplotlib.lines.Line2D at 0x7f6b64a8e5c0>]"
      ]
     },
     "execution_count": 44,
     "metadata": {},
     "output_type": "execute_result"
    },
    {
     "data": {
      "image/png": "[encoded data removed]",
      "text/plain": [
       "<matplotlib.figure.Figure at 0x7f6b64aad2b0>"
      ]
     },
     "metadata": {},
     "output_type": "display_data"
    }
   ],
   "source": [
    "# Plot predictions versus training set outcomes\n",
    "plt.scatter(outcomes_list, y_pred_list, c = \"black\", alpha = 0.15)\n",
    "\n",
    "axes = plt.gca()\n",
    "\n",
    "axes.set_xlim([-2, 4])\n",
    "\n",
    "axes.set_ylim([-2, 4])\n",
    "\n",
    "plt.plot([-2, 4], [-2, 4], 'k-', lw=2)"
   ]
  },
  {
   "cell_type": "markdown",
   "metadata": {},
   "source": [
    "### Round 3.1: Validation Set Performance"
   ]
  },
  {
   "cell_type": "code",
   "execution_count": 45,
   "metadata": {
    "collapsed": false
   },
   "outputs": [
    {
     "data": {
      "text/plain": [
       "Variable containing:\n",
       " 491.9222\n",
       "[torch.FloatTensor of size 1]"
      ]
     },
     "execution_count": 45,
     "metadata": {},
     "output_type": "execute_result"
    }
   ],
   "source": [
    "# Get the validation set predictions\n",
    "y_valid_pred = model(valid_predictors_Variable)\n",
    "\n",
    "\n",
    "# Print the loss\n",
    "loss_fn(y_valid_pred,\n",
    "        valid_outcomes_Variable)"
   ]
  },
  {
   "cell_type": "code",
   "execution_count": 46,
   "metadata": {
    "collapsed": false
   },
   "outputs": [
    {
     "data": {
      "text/plain": [
       "Variable containing:\n",
       "1.00000e-02 *\n",
       " -3.4792\n",
       "[torch.FloatTensor of size 1]"
      ]
     },
     "execution_count": 46,
     "metadata": {},
     "output_type": "execute_result"
    }
   ],
   "source": [
    "# Grab the residual sum of squares\n",
    "resid_sum_squares = loss_fn(y_valid_pred, valid_outcomes_Variable)\n",
    "\n",
    "\n",
    "# Compute R squared\n",
    "R_squared = 1 - (resid_sum_squares / tot_sum_squares)\n",
    "\n",
    "R_squared"
   ]
  },
  {
   "cell_type": "code",
   "execution_count": 47,
   "metadata": {
    "collapsed": false
   },
   "outputs": [],
   "source": [
    "# Get rid of the 2nd dimension of 1 from the FloatTensor\n",
    "y_valid_pred_resized = y_valid_pred.resize(2808)\n",
    "\n",
    "\n",
    "# Make the FloatTensor into a numpy.array\n",
    "y_valid_pred_array = y_valid_pred_resized.data.numpy()\n",
    "\n",
    "\n",
    "# Convert back to log scale\n",
    "y_valid_pred_array = y_valid_pred_array*5.407597 + 7.688844\n",
    "\n",
    "\n",
    "# Make the numpy.array into a list\n",
    "y_valid_pred_list = y_valid_pred_array.tolist()"
   ]
  },
  {
   "cell_type": "code",
   "execution_count": 48,
   "metadata": {
    "collapsed": false
   },
   "outputs": [
    {
     "data": {
      "text/plain": [
       "<matplotlib.text.Text at 0x7f6b648d4da0>"
      ]
     },
     "execution_count": 48,
     "metadata": {},
     "output_type": "execute_result"
    },
    {
     "data": {
      "image/png": "[encoded data removed]",
      "text/plain": [
       "<matplotlib.figure.Figure at 0x7f6b6499a710>"
      ]
     },
     "metadata": {},
     "output_type": "display_data"
    }
   ],
   "source": [
    "# Plot new predictions versus new data outcomes\n",
    "plt.scatter(valid_outcomes_list, y_valid_pred_list, c = \"black\", alpha = 0.15)\n",
    "\n",
    "axes = plt.gca()\n",
    "\n",
    "axes.set_xlim([0, 24])\n",
    "\n",
    "axes.set_ylim([0, 24])\n",
    "\n",
    "axes.set_xticks([0, 4, 8, 12, 16, 20, 24])\n",
    "\n",
    "axes.set_yticks([0, 4, 8, 12, 16, 20, 24])\n",
    "\n",
    "plt.plot([0, 24], [0, 24], 'k-', lw = 2)\n",
    "\n",
    "axes.set_xlabel(\"Actual Outcome (Log-Transformed US Dollars)\")\n",
    "\n",
    "axes.set_ylabel(\"Model Prediction (Log-Transformed US Dollars)\")\n",
    "\n",
    "axes.set_title(\"Model Performance\")"
   ]
  },
  {
   "cell_type": "code",
   "execution_count": 49,
   "metadata": {
    "collapsed": false
   },
   "outputs": [
    {
     "data": {
      "text/plain": [
       "Parameter containing:\n",
       "\n",
       "Columns 0 to 9 \n",
       "-0.0585  0.2392  0.1503  0.0791  0.1020  0.2153  0.1349  0.2665 -0.1249  0.0344\n",
       "-0.0519 -0.3448 -0.0221 -0.1157  0.1651 -0.0904  0.1672  0.0239  0.0652 -0.0868\n",
       " 0.0317  0.2029 -0.1589  0.0727 -0.0868  0.2535 -0.5662 -0.1267 -0.1855 -0.3068\n",
       " 0.1892  0.1463 -0.1223 -0.0415 -0.3328  0.1005 -0.1857 -0.0437  0.1184 -0.1894\n",
       " 0.1716  0.1607  0.2381 -0.1007  0.2313  0.1339  0.1428 -0.2683 -0.1596  0.1459\n",
       "-0.0419  0.1149 -0.0270 -0.2162 -0.2072 -0.1391  0.2394  0.0815  0.2273 -0.1545\n",
       " 0.1395  0.0171  0.3252 -0.0176  0.1104  0.0156  0.0553 -0.2849  0.2162 -0.3226\n",
       "-0.3077 -0.0266  0.1246 -0.2824  0.2289  0.1429  0.0093  0.0648  0.1306 -0.0953\n",
       "-0.2860 -0.0619 -0.0423 -0.1782 -0.2102 -0.0659 -0.0163  0.1515  0.1341  0.4077\n",
       " 0.0771 -0.2112 -0.0874  0.2872 -0.2327 -0.1833  0.1166 -0.1071 -0.2692 -0.1426\n",
       " 0.1419 -0.0747 -0.0833  0.0758 -0.1956  0.1931 -0.2158  0.0287 -0.0099 -0.0632\n",
       " 0.0493  0.0695 -0.2565 -0.1842  0.2210 -0.1380  0.1536  0.0146 -0.0329  0.3366\n",
       " 0.0128  0.1323  0.0418 -0.0480  0.1593  0.3058 -0.1473  0.1065  0.3415 -0.2039\n",
       " 0.2038 -0.1201 -0.1447  0.0557 -0.1570 -0.0500 -0.1188  0.1348  0.2080  0.3047\n",
       " 0.2028 -0.0467 -0.0538  0.3718  0.4538  0.0404  0.0170  0.0209  0.1870  0.0391\n",
       " 0.2691  0.1059 -0.1206 -0.0462  0.2645  0.2034 -0.0700 -0.1452  0.0924  0.2708\n",
       "\n",
       "Columns 10 to 19 \n",
       " 0.0164  0.0617 -0.1136 -0.1350  0.1523 -0.3191  0.2080 -0.2104  0.1638 -0.0499\n",
       " 0.1401 -0.0251  0.2268 -0.2004  0.0149  0.1515 -0.0732  0.2289 -0.1085 -0.1736\n",
       "-0.0531  0.1802  0.2732  0.1037  0.3115  0.1422 -0.0395 -0.3100 -0.3063  0.0237\n",
       " 0.1413 -0.0033  0.2501  0.1692 -0.0514  0.2388 -0.2480 -0.3088 -0.1916  0.0139\n",
       " 0.1466  0.3425  0.1620 -0.2801 -0.1664  0.2870  0.3486 -0.4351  0.0023  0.0421\n",
       " 0.0166 -0.1093  0.0614  0.2557  0.1283  0.3080 -0.1391 -0.0076  0.1092  0.1773\n",
       " 0.0137 -0.2654  0.0707  0.0768  0.0403 -0.1671 -0.1299  0.0227  0.1256  0.0579\n",
       "-0.0910 -0.3761 -0.0759  0.0620 -0.2278  0.0850 -0.2121 -0.0757  0.4944 -0.0123\n",
       "-0.0032 -0.2296 -0.1244 -0.0676  0.1306  0.1168  0.1145  0.1000 -0.0330 -0.0308\n",
       "-0.0777 -0.1020 -0.0711 -0.4047  0.0763 -0.2235 -0.0993  0.1628  0.0901 -0.4078\n",
       "-0.0993 -0.0027 -0.1451  0.0529 -0.1583  0.0024  0.0052 -0.0456 -0.0516 -0.2292\n",
       " 0.2150  0.3162 -0.1487  0.0869 -0.0023  0.0661 -0.1927  0.2163 -0.0692  0.1138\n",
       "-0.0778  0.0769  0.2541  0.1866  0.3953  0.4520 -0.0778  0.2548  0.0666  0.0082\n",
       "-0.1197  0.2016  0.1396  0.1598 -0.3563  0.0533 -0.1816 -0.0183 -0.0214 -0.2191\n",
       " 0.3123  0.0393  0.1658  0.0330  0.0336 -0.1533  0.1781 -0.0591 -0.1033 -0.0455\n",
       " 0.0097  0.4573  0.0270 -0.1595  0.2074  0.1440 -0.2413  0.2945 -0.0872  0.1458\n",
       "\n",
       "Columns 20 to 23 \n",
       " 0.2417 -0.1164  0.2290 -0.2082\n",
       " 0.3224 -0.1252 -0.0774 -0.1453\n",
       " 0.2131 -0.0197  0.1058 -0.0001\n",
       " 0.2257 -0.0338 -0.3110 -0.1889\n",
       "-0.0646  0.2701  0.2133  0.1355\n",
       "-0.1452 -0.1356 -0.2989  0.0587\n",
       " 0.0178  0.0479  0.2253 -0.0944\n",
       "-0.1738  0.3078  0.0077  0.2181\n",
       " 0.4084  0.0962 -0.1339 -0.1126\n",
       "-0.1974  0.0145  0.0448  0.4954\n",
       " 0.3305 -0.4986 -0.1181  0.0104\n",
       "-0.0980 -0.1520  0.0425  0.0819\n",
       "-0.2283 -0.3094 -0.2272  0.0968\n",
       " 0.1662 -0.0861  0.3922 -0.1975\n",
       "-0.5642  0.1054 -0.1904  0.0434\n",
       " 0.1736 -0.0696 -0.1429 -0.1182\n",
       "[torch.FloatTensor of size 16x24]"
      ]
     },
     "execution_count": 49,
     "metadata": {},
     "output_type": "execute_result"
    }
   ],
   "source": [
    "model[(0)].weight"
   ]
  },
  {
   "cell_type": "code",
   "execution_count": 50,
   "metadata": {
    "collapsed": false
   },
   "outputs": [
    {
     "data": {
      "text/plain": [
       "Parameter containing:\n",
       "\n",
       "Columns 0 to 9 \n",
       " 0.2558 -0.0373  0.1099 -0.2155  0.3605  0.1675  0.1721  0.3106  0.0656  0.1516\n",
       "-0.0413  0.1380 -0.0670 -0.3126 -0.0100  0.3505  0.0579 -0.1927  0.3162  0.3210\n",
       " 0.1398  0.3561  0.3617 -0.2042 -0.2227  0.2662  0.2982 -0.1605 -0.0828  0.0008\n",
       " 0.2987 -0.2745 -0.4375  0.1952  0.2880  0.2143  0.1801  0.1232 -0.1465 -0.3849\n",
       "-0.1843 -0.4368  0.1052 -0.4756 -0.0606  0.1514 -0.0315  0.0195  0.1982 -0.2286\n",
       " 0.1035  0.1171 -0.2625 -0.0163 -0.0102  0.2776 -0.3285  0.2519 -0.1555  0.0126\n",
       " 0.3892 -0.0384 -0.1032 -0.1326  0.0724  0.4137 -0.0668  0.3391  0.2542  0.3044\n",
       "-0.0362 -0.0799 -0.2615 -0.0190  0.1873  0.0438  0.1367 -0.1039 -0.0343 -0.1531\n",
       "-0.1575  0.1957  0.2894  0.5789 -0.1774  0.0460 -0.0063  0.0185 -0.0135 -0.4482\n",
       "-0.1805 -1.0917  0.2581 -0.0964 -0.7174 -0.0673 -0.0075  0.1587  0.4711 -0.7745\n",
       " 0.2990  0.0035 -0.0032  0.0903 -0.0419  0.4087  0.3698 -0.0928  0.1760  0.0930\n",
       "\n",
       "Columns 10 to 15 \n",
       "-0.0970  0.1353 -0.0827  0.1603 -0.0020 -0.0277\n",
       " 0.0111 -0.1750  0.3438  0.2094  0.2003  0.0851\n",
       "-0.1042 -0.2602  0.2046  0.0577  0.0231 -0.1312\n",
       " 0.0004  0.1224  0.2130  0.0891  0.3674  0.2911\n",
       " 0.2726 -0.2782 -0.4146  0.0642  0.2557  0.3639\n",
       "-0.1168 -0.4404 -0.0781  0.0340  0.3026  0.0715\n",
       "-0.0272  0.2791 -0.1756  0.2744 -0.0519 -0.0627\n",
       "-0.7158  0.1813  0.2402  0.2067  0.2495  0.0562\n",
       "-0.1250  0.0685 -0.4250  0.1197  0.0308 -0.2459\n",
       "-0.5009 -0.0292 -0.4361 -0.0967 -0.4424 -0.5162\n",
       " 0.0172 -0.0103  0.0563  0.0407 -0.2906 -0.0582\n",
       "[torch.FloatTensor of size 11x16]"
      ]
     },
     "execution_count": 50,
     "metadata": {},
     "output_type": "execute_result"
    }
   ],
   "source": [
    "model[(2)].weight"
   ]
  },
  {
   "cell_type": "code",
   "execution_count": 51,
   "metadata": {
    "collapsed": false
   },
   "outputs": [
    {
     "data": {
      "text/plain": [
       "Parameter containing:\n",
       "\n",
       "Columns 0 to 9 \n",
       "-0.4471 -0.2079  0.1606  0.4592 -0.1625  0.3105 -0.3330  0.0444  0.3283  0.1705\n",
       " 0.4040  0.2819  0.1239  0.0031  0.0519 -0.3487  0.1068 -0.0502 -0.0003 -0.8786\n",
       " 0.0185  0.3014 -0.2634 -0.1382 -1.0691 -0.0031  0.1639  0.4488 -0.3681  0.4502\n",
       " 0.4591  0.0227  0.1908  0.4840  0.7150 -0.3861  0.1433  0.1510 -0.0391 -1.2286\n",
       " 0.1946 -0.5644  0.2008 -0.2233  0.2425  0.2822  0.0553  0.6997 -0.4008  0.5246\n",
       " 0.1623 -0.0871  0.4046  0.0601  0.6495 -0.5645  0.3902  0.0110 -0.0442 -1.3994\n",
       "-0.0499  0.3895  0.3065  0.3977  0.2360 -0.2399  0.0790 -0.0375  0.1880 -0.6170\n",
       "\n",
       "Columns 10 to 10 \n",
       "-0.3859\n",
       "-0.1099\n",
       " 0.6080\n",
       "-0.1884\n",
       " 0.3192\n",
       " 0.1436\n",
       " 0.2702\n",
       "[torch.FloatTensor of size 7x11]"
      ]
     },
     "execution_count": 51,
     "metadata": {},
     "output_type": "execute_result"
    }
   ],
   "source": [
    "model[(4)].weight"
   ]
  },
  {
   "cell_type": "code",
   "execution_count": 52,
   "metadata": {
    "collapsed": false
   },
   "outputs": [
    {
     "data": {
      "text/plain": [
       "Parameter containing:\n",
       "-0.3095  0.3568 -0.4975  0.3028 -0.8988  0.6020  0.3475\n",
       "[torch.FloatTensor of size 1x7]"
      ]
     },
     "execution_count": 52,
     "metadata": {},
     "output_type": "execute_result"
    }
   ],
   "source": [
    "model[(6)].weight"
   ]
  },
  {
   "cell_type": "markdown",
   "metadata": {},
   "source": [
    "## Round 4: Four-Hidden-Layer Neural Network"
   ]
  },
  {
   "cell_type": "code",
   "execution_count": 53,
   "metadata": {
    "collapsed": true
   },
   "outputs": [],
   "source": [
    "# Make the torch Tensor into a PyTorch Variable for dependent variables\n",
    "outcomes_Variable = Variable(outcomes_Tensor)\n",
    "\n",
    "\n",
    "# ...for independent variables\n",
    "features_Variable = Variable(features_Tensor,\n",
    "                             requires_grad = False)"
   ]
  },
  {
   "cell_type": "code",
   "execution_count": 54,
   "metadata": {
    "collapsed": true
   },
   "outputs": [],
   "source": [
    "# Make the neural network\n",
    "model = torch.nn.Sequential(torch.nn.Linear(24, 16),\n",
    "                            torch.nn.ReLU(),\n",
    "                            torch.nn.Linear(16, 11),\n",
    "                            torch.nn.ReLU(),\n",
    "                            torch.nn.Linear(11, 7),\n",
    "                            torch.nn.ReLU(),\n",
    "                            torch.nn.Linear(7, 5),\n",
    "                            torch.nn.ReLU(),\n",
    "                            torch.nn.Linear(5, 1))"
   ]
  },
  {
   "cell_type": "code",
   "execution_count": 55,
   "metadata": {
    "collapsed": true
   },
   "outputs": [],
   "source": [
    "# To add errors to\n",
    "errors = []\n",
    "\n",
    "\n",
    "# Set the learning rate\n",
    "learning_rate = 1e-2\n",
    "\n",
    "\n",
    "# Define the model's optimizer\n",
    "optimizer = torch.optim.Adagrad(model.parameters(), lr = learning_rate)\n",
    "\n",
    "\n",
    "# Train the neural network\n",
    "for t in range(15000):\n",
    "    \n",
    "    # Get the current predictions\n",
    "    y_pred = model(features_Variable)\n",
    "    \n",
    "    # Compute and append current summed errors\n",
    "    loss = loss_fn(y_pred, outcomes_Variable)\n",
    "    errors.append(loss.data[0])\n",
    "    \n",
    "    # Zero the gradients before running the backward pass.\n",
    "    optimizer.zero_grad()\n",
    "    \n",
    "    # Backward pass: compute gradient of the loss with respect to all the learnable Variables\n",
    "    loss.backward()\n",
    "    \n",
    "    # Update the weights using Adagrad\n",
    "    optimizer.step()"
   ]
  },
  {
   "cell_type": "code",
   "execution_count": 56,
   "metadata": {
    "collapsed": false
   },
   "outputs": [
    {
     "data": {
      "text/plain": [
       "<matplotlib.collections.PathCollection at 0x7f6b647ef3c8>"
      ]
     },
     "execution_count": 56,
     "metadata": {},
     "output_type": "execute_result"
    },
    {
     "data": {
      "image/png": "[encoded data removed]",
      "text/plain": [
       "<matplotlib.figure.Figure at 0x7f6b64c141d0>"
      ]
     },
     "metadata": {},
     "output_type": "display_data"
    }
   ],
   "source": [
    "# Plot summed error as a function of iteration\n",
    "plt.scatter(iterations, errors, c = \"black\", alpha = 0.25)"
   ]
  },
  {
   "cell_type": "code",
   "execution_count": 57,
   "metadata": {
    "collapsed": false
   },
   "outputs": [],
   "source": [
    "# Get rid of the 2nd dimension of 1 from the FloatTensor\n",
    "y_pred_resized = y_pred.resize(8308)\n",
    "\n",
    "\n",
    "# Make the FloatTensor into a numpy.array\n",
    "y_pred_array = y_pred_resized.data.numpy()\n",
    "\n",
    "\n",
    "# Make the numpy.array into a list\n",
    "y_pred_list = y_pred_array.tolist()"
   ]
  },
  {
   "cell_type": "code",
   "execution_count": 58,
   "metadata": {
    "collapsed": false
   },
   "outputs": [
    {
     "data": {
      "text/plain": [
       "[<matplotlib.lines.Line2D at 0x7f6b648023c8>]"
      ]
     },
     "execution_count": 58,
     "metadata": {},
     "output_type": "execute_result"
    },
    {
     "data": {
      "image/png": "[encoded data removed]",
      "text/plain": [
       "<matplotlib.figure.Figure at 0x7f6b648022e8>"
      ]
     },
     "metadata": {},
     "output_type": "display_data"
    }
   ],
   "source": [
    "# Plot predictions versus training set outcomes\n",
    "plt.scatter(outcomes_list, y_pred_list, c = \"black\", alpha = 0.15)\n",
    "\n",
    "axes = plt.gca()\n",
    "\n",
    "axes.set_xlim([-2, 4])\n",
    "\n",
    "axes.set_ylim([-2, 4])\n",
    "\n",
    "plt.plot([-2, 4], [-2, 4], 'k-', lw=2)"
   ]
  },
  {
   "cell_type": "markdown",
   "metadata": {},
   "source": [
    "### Round 4.1: Validation Set Performance"
   ]
  },
  {
   "cell_type": "code",
   "execution_count": 59,
   "metadata": {
    "collapsed": false
   },
   "outputs": [
    {
     "data": {
      "text/plain": [
       "Variable containing:\n",
       " 520.9293\n",
       "[torch.FloatTensor of size 1]"
      ]
     },
     "execution_count": 59,
     "metadata": {},
     "output_type": "execute_result"
    }
   ],
   "source": [
    "# Get the validation set predictions\n",
    "y_valid_pred = model(valid_predictors_Variable)\n",
    "\n",
    "\n",
    "# Print the loss\n",
    "loss_fn(y_valid_pred,\n",
    "        valid_outcomes_Variable)"
   ]
  },
  {
   "cell_type": "code",
   "execution_count": 60,
   "metadata": {
    "collapsed": false
   },
   "outputs": [
    {
     "data": {
      "text/plain": [
       "Variable containing:\n",
       "1.00000e-02 *\n",
       " -9.5810\n",
       "[torch.FloatTensor of size 1]"
      ]
     },
     "execution_count": 60,
     "metadata": {},
     "output_type": "execute_result"
    }
   ],
   "source": [
    "# Grab the residual sum of squares\n",
    "resid_sum_squares = loss_fn(y_valid_pred, valid_outcomes_Variable)\n",
    "\n",
    "\n",
    "# Compute R squared\n",
    "R_squared = 1 - (resid_sum_squares / tot_sum_squares)\n",
    "\n",
    "R_squared"
   ]
  },
  {
   "cell_type": "code",
   "execution_count": 61,
   "metadata": {
    "collapsed": true
   },
   "outputs": [],
   "source": [
    "# Get rid of the 2nd dimension of 1 from the FloatTensor\n",
    "y_valid_pred_resized = y_valid_pred.resize(2808)\n",
    "\n",
    "\n",
    "# Make the FloatTensor into a numpy.array\n",
    "y_valid_pred_array = y_valid_pred_resized.data.numpy()\n",
    "\n",
    "\n",
    "# Convert back to log scale\n",
    "y_valid_pred_array = y_valid_pred_array*5.407597 + 7.688844\n",
    "\n",
    "\n",
    "# Make the numpy.array into a list\n",
    "y_valid_pred_list = y_valid_pred_array.tolist()"
   ]
  },
  {
   "cell_type": "code",
   "execution_count": 62,
   "metadata": {
    "collapsed": false
   },
   "outputs": [
    {
     "data": {
      "text/plain": [
       "<matplotlib.text.Text at 0x7f6b6472dd68>"
      ]
     },
     "execution_count": 62,
     "metadata": {},
     "output_type": "execute_result"
    },
    {
     "data": {
      "image/png": "[encoded data removed]",
      "text/plain": [
       "<matplotlib.figure.Figure at 0x7f6b6481b0f0>"
      ]
     },
     "metadata": {},
     "output_type": "display_data"
    }
   ],
   "source": [
    "# Plot new predictions versus new data outcomes\n",
    "plt.scatter(valid_outcomes_list, y_valid_pred_list, c = \"black\", alpha = 0.15)\n",
    "\n",
    "axes = plt.gca()\n",
    "\n",
    "axes.set_xlim([0, 24])\n",
    "\n",
    "axes.set_ylim([0, 24])\n",
    "\n",
    "axes.set_xticks([0, 4, 8, 12, 16, 20, 24])\n",
    "\n",
    "axes.set_yticks([0, 4, 8, 12, 16, 20, 24])\n",
    "\n",
    "plt.plot([0, 24], [0, 24], 'k-', lw = 2)\n",
    "\n",
    "axes.set_xlabel(\"Actual Outcome (Log-Transformed US Dollars)\")\n",
    "\n",
    "axes.set_ylabel(\"Model Prediction (Log-Transformed US Dollars)\")\n",
    "\n",
    "axes.set_title(\"Model Performance\")"
   ]
  },
  {
   "cell_type": "code",
   "execution_count": 63,
   "metadata": {
    "collapsed": false
   },
   "outputs": [
    {
     "data": {
      "text/plain": [
       "Parameter containing:\n",
       "\n",
       "Columns 0 to 9 \n",
       "-0.0272  0.0208 -0.0904 -0.2529  0.1074 -0.1404  0.1972  0.0328  0.2225 -0.1377\n",
       " 0.0340  0.0607 -0.0952  0.1139 -0.1932  0.0430  0.0967  0.1462 -0.1047 -0.0832\n",
       " 0.0665 -0.1517  0.0881  0.0874  0.2266  0.0995  0.1723 -0.1379 -0.3432 -0.6075\n",
       "-0.1621  0.2658 -0.0174 -0.2157 -0.0544 -0.0892  0.1222 -0.0297 -0.2912 -0.2391\n",
       " 0.1585  0.0784 -0.0359 -0.1301  0.1125 -0.0677  0.2097 -0.2997 -0.0796  0.2727\n",
       " 0.1989 -0.3036  0.1065  0.3787  0.4077  0.0307  0.0920 -0.0182  0.2114  0.1268\n",
       "-0.2005 -0.3984  0.0782  0.2101  0.2757 -0.2451 -0.0294 -0.0349  0.1707 -0.2006\n",
       "-0.0524  0.0460  0.0466 -0.1579 -0.1934 -0.0576 -0.1454 -0.1385  0.1959  0.0663\n",
       "-0.4084 -0.5420 -0.0378  0.0996 -0.0010  0.3086 -0.0791 -0.4028 -0.0864 -0.1235\n",
       " 0.0014 -0.1244  0.0591  0.2697 -0.1105 -0.0213  0.0836  0.0356 -0.0966 -0.5239\n",
       "-0.3249 -0.3793 -0.1129 -0.0635  0.1126 -0.0315  0.1805 -0.0466 -0.1213 -0.1709\n",
       " 0.0956  0.1751 -0.0148  0.1594  0.0825 -0.2338  0.1974 -0.0783 -0.0490  0.0841\n",
       " 0.0032  0.0662 -0.0871 -0.0234 -0.1205  0.0881  0.1554  0.1075  0.2090  0.1960\n",
       " 0.0341  0.0704 -0.0798 -0.0147 -0.2681  0.4711 -0.0634 -0.1182  0.0125 -0.1100\n",
       "-0.0071 -0.2941  0.0130 -0.2067 -0.1388  0.1405 -0.2930  0.0023  0.3682  0.0929\n",
       " 0.0432 -0.4226  0.1310  0.4320  0.0490 -0.2366 -0.1241 -0.1117  0.3681  0.0026\n",
       "\n",
       "Columns 10 to 19 \n",
       " 0.1592 -0.1104  0.0043  0.1460  0.0669 -0.1784 -0.0605  0.0640  0.0777 -0.3408\n",
       " 0.4517 -0.1636  0.0589  0.3530 -0.0796 -0.0143 -0.1369 -0.0310  0.0500 -0.0542\n",
       " 0.1796 -0.0469 -0.0148 -0.1076  0.0850  0.0680  0.0426  0.1385 -0.0767  0.0763\n",
       " 0.2204  0.1146 -0.0620 -0.3073 -0.0976 -0.0361  0.1245  0.3966  0.0296 -0.0078\n",
       " 0.0190  0.1971 -0.2812  0.0240 -0.0946 -0.1036 -0.4292 -0.1848  0.2595 -0.2092\n",
       "-0.0360  0.1280 -0.1714 -0.0923 -0.1168 -0.1817 -0.1455 -0.0035  0.3915  0.0551\n",
       "-0.1585  0.0052 -0.0199  0.0167  0.0798  0.0679  0.1681  0.2612 -0.2751 -0.0642\n",
       "-0.1868 -0.2700  0.3192  0.0212  0.4839 -0.0547 -0.1446 -0.2081  0.1433  0.0661\n",
       "-0.1126  0.1541 -0.1105 -0.5191  0.1434 -0.1987 -0.0255 -0.2087 -0.3372  0.3470\n",
       " 0.0325  0.3686 -0.0704 -0.1361 -0.0730  0.0239  0.0237  0.2918  0.1469  0.1302\n",
       "-0.0199  0.1368 -0.1534 -0.1689  0.1207 -0.1298  0.2292 -0.0750  0.0578 -0.0014\n",
       "-0.1759 -0.1728  0.2271 -0.1551 -0.1240  0.0239  0.0192 -0.0098 -0.0682  0.0230\n",
       "-0.3487  0.2157 -0.0840 -0.3336  0.0322 -0.0571  0.2738  0.1044  0.1411  0.0052\n",
       " 0.1069 -0.1118 -0.0588  0.1492  0.1745  0.1358 -0.2594 -0.1942 -0.1444  0.0932\n",
       "-0.3995  0.0058 -0.0640  0.5661  0.2474 -0.2855 -0.2326  0.0226  0.0998 -0.0656\n",
       " 0.4821 -0.2749  0.1668 -0.0666  0.0834 -0.6733 -0.0059  0.2505 -0.0709  0.1300\n",
       "\n",
       "Columns 20 to 23 \n",
       " 0.0255 -0.1401  0.2761  0.3568\n",
       " 0.0703  0.1489  0.0190  0.0861\n",
       "-0.0797 -0.1681  0.1378 -0.1352\n",
       "-0.0458  0.2258 -0.0710  0.1953\n",
       " 0.4479  0.0567  0.0008 -0.2194\n",
       " 0.0063  0.1969 -0.1189  0.0430\n",
       "-0.1806  0.0520  0.1894  0.3797\n",
       " 0.2173 -0.2821  0.0693  0.0791\n",
       "-0.0491  0.0268 -0.0537 -0.2604\n",
       " 0.2236  0.0014 -0.2122 -0.1304\n",
       "-0.2336  0.0560  0.0950 -0.1203\n",
       " 0.0699 -0.0547 -0.2601 -0.1948\n",
       "-0.1823 -0.1629  0.2673 -0.0490\n",
       "-0.3964  0.0465 -0.3058  0.2341\n",
       "-0.0399 -0.0888  0.1985  0.5067\n",
       "-0.1101  0.0840 -0.4921 -0.1979\n",
       "[torch.FloatTensor of size 16x24]"
      ]
     },
     "execution_count": 63,
     "metadata": {},
     "output_type": "execute_result"
    }
   ],
   "source": [
    "model[(0)].weight"
   ]
  },
  {
   "cell_type": "code",
   "execution_count": 64,
   "metadata": {
    "collapsed": false
   },
   "outputs": [
    {
     "data": {
      "text/plain": [
       "Parameter containing:\n",
       "\n",
       "Columns 0 to 9 \n",
       "-0.2383  0.2742  0.1201 -0.2286 -0.1710  0.1558  0.2396  0.1987  0.2666 -0.2377\n",
       " 0.1894  0.0245 -0.4056 -0.8632  0.0855 -0.1787 -0.0833 -0.3009  0.4128  0.3250\n",
       "-0.2647 -0.1644  0.4796  0.0508 -0.0066  0.1991  0.0195 -0.1686 -0.0142 -0.4180\n",
       "-0.1432  0.1857  0.0574 -0.1678  0.1622 -0.1049  0.3183  0.1741  0.3079 -0.0434\n",
       "-0.2458 -0.1862 -0.0329 -0.1675  0.1190  0.3048  0.0344 -0.2920 -0.3401 -0.1892\n",
       "-0.2057  0.1154 -0.2034  0.0348  0.2833 -0.1380  0.0792 -0.2682 -0.2705  0.3570\n",
       "-0.2902  0.1661  0.0111  0.0437  0.2151 -0.1281 -0.1051  0.1138  0.0921  0.3917\n",
       " 0.2923  0.2790 -0.2704  0.1502  0.0827 -0.1462  0.3048 -0.0261  0.0355 -0.0823\n",
       " 0.3620 -0.1117 -0.4845 -0.0938 -0.1111 -0.0404  0.1742  0.0314  0.2576  0.3925\n",
       "-0.7051  0.1080 -0.2149  0.1769  0.3117  0.2426  0.3018 -1.1777  0.3307  0.1562\n",
       " 0.0796 -0.0336 -0.0099  0.0151 -0.1294 -0.4083 -0.3303  0.1748  0.4010 -0.1392\n",
       "\n",
       "Columns 10 to 15 \n",
       "-0.1601 -0.1188 -0.2088  0.2099  0.0482 -0.1058\n",
       "-0.4286 -0.1557  0.2340 -0.0314 -0.1581  0.0578\n",
       "-0.3544 -0.1443 -0.5718 -0.1171 -0.3548  0.3970\n",
       "-0.4299 -0.3087  0.1377  0.2765 -0.4413  0.4532\n",
       "-0.2654  0.5884  0.1376 -0.4232 -0.0053  0.4042\n",
       " 0.1026  0.3722 -0.0641  0.3275 -0.1660  0.1846\n",
       "-0.7286 -0.0710  0.0233 -0.1603  0.0526  0.1213\n",
       "-0.0321  0.2766  0.0647 -0.1923 -0.4504 -0.2112\n",
       "-0.1742  0.0307  0.1693 -0.1125  0.2153  0.0822\n",
       "-0.3710 -0.0766 -0.1600  0.2054 -0.5126  0.9737\n",
       "-0.4993 -0.0613 -0.2849 -0.0345 -0.1239  0.3657\n",
       "[torch.FloatTensor of size 11x16]"
      ]
     },
     "execution_count": 64,
     "metadata": {},
     "output_type": "execute_result"
    }
   ],
   "source": [
    "model[(2)].weight"
   ]
  },
  {
   "cell_type": "code",
   "execution_count": 65,
   "metadata": {
    "collapsed": false
   },
   "outputs": [
    {
     "data": {
      "text/plain": [
       "Parameter containing:\n",
       "\n",
       "Columns 0 to 9 \n",
       " 0.6550  0.0161 -0.5273 -0.6905  0.2374  0.1824 -0.1279 -0.1082  0.1119  0.0166\n",
       " 0.7160  0.0513 -0.5140 -0.4463 -0.3871  0.3522 -0.5527  0.5383 -0.0645  0.2481\n",
       " 0.4351 -0.2582  0.5221 -0.1952 -0.1484  0.2691 -0.5972  0.1148  0.1446  0.4827\n",
       " 0.0758 -0.2139 -0.2228  0.4279 -0.0928 -1.0895  0.4047  0.1568  0.0994  0.1041\n",
       "-0.0969 -1.3990 -0.5530  0.3739  0.3846 -0.4353  0.0097  0.3155 -1.0764  0.3144\n",
       " 0.0341 -0.0973  0.3001 -0.2304 -0.0506  0.0136 -0.1710  0.0386  0.0983 -0.2549\n",
       " 0.2302 -0.2075 -0.1696 -0.1698  0.0013 -0.0582  0.0950 -0.2364 -0.1268 -0.1205\n",
       "\n",
       "Columns 10 to 10 \n",
       " 0.2992\n",
       "-0.6559\n",
       " 0.4482\n",
       "-0.3919\n",
       " 0.2070\n",
       "-0.0839\n",
       " 0.0550\n",
       "[torch.FloatTensor of size 7x11]"
      ]
     },
     "execution_count": 65,
     "metadata": {},
     "output_type": "execute_result"
    }
   ],
   "source": [
    "model[(4)].weight"
   ]
  },
  {
   "cell_type": "code",
   "execution_count": 66,
   "metadata": {
    "collapsed": false
   },
   "outputs": [
    {
     "data": {
      "text/plain": [
       "Parameter containing:\n",
       "-1.4145 -0.3682 -0.7280  0.4038  0.9547 -0.1474  0.3580\n",
       "-1.0417 -0.4141 -0.7476  0.4185  1.0529 -0.0508 -0.0572\n",
       "-0.2167 -0.6679 -0.3274  0.0576  1.1667  0.1209  0.2469\n",
       "-0.3536  0.3556 -0.0620 -0.2098 -0.1193 -0.0942 -0.3694\n",
       "-0.4093 -0.8018 -0.1200  0.4782  0.3199 -0.3166 -0.1459\n",
       "[torch.FloatTensor of size 5x7]"
      ]
     },
     "execution_count": 66,
     "metadata": {},
     "output_type": "execute_result"
    }
   ],
   "source": [
    "model[(6)].weight"
   ]
  },
  {
   "cell_type": "code",
   "execution_count": 67,
   "metadata": {
    "collapsed": false
   },
   "outputs": [
    {
     "data": {
      "text/plain": [
       "Parameter containing:\n",
       " 1.4508  0.5463  0.6939  0.0101  0.8395\n",
       "[torch.FloatTensor of size 1x5]"
      ]
     },
     "execution_count": 67,
     "metadata": {},
     "output_type": "execute_result"
    }
   ],
   "source": [
    "model[(8)].weight"
   ]
  },
  {
   "cell_type": "markdown",
   "metadata": {},
   "source": [
    "## Round 5: Five-Hidden-Layer Neural Network"
   ]
  },
  {
   "cell_type": "code",
   "execution_count": 68,
   "metadata": {
    "collapsed": true
   },
   "outputs": [],
   "source": [
    "# Make the torch Tensor into a PyTorch Variable for dependent variables\n",
    "outcomes_Variable = Variable(outcomes_Tensor)\n",
    "\n",
    "\n",
    "# ...for independent variables\n",
    "features_Variable = Variable(features_Tensor,\n",
    "                             requires_grad = False)"
   ]
  },
  {
   "cell_type": "code",
   "execution_count": 69,
   "metadata": {
    "collapsed": true
   },
   "outputs": [],
   "source": [
    "# Make the neural network\n",
    "model = torch.nn.Sequential(torch.nn.Linear(24, 16),\n",
    "                            torch.nn.ReLU(),\n",
    "                            torch.nn.Linear(16, 11),\n",
    "                            torch.nn.ReLU(),\n",
    "                            torch.nn.Linear(11, 7),\n",
    "                            torch.nn.ReLU(),\n",
    "                            torch.nn.Linear(7, 5),\n",
    "                            torch.nn.ReLU(),\n",
    "                            torch.nn.Linear(5, 3),\n",
    "                            torch.nn.ReLU(),\n",
    "                            torch.nn.Linear(3, 1))"
   ]
  },
  {
   "cell_type": "code",
   "execution_count": 70,
   "metadata": {
    "collapsed": true
   },
   "outputs": [],
   "source": [
    "# To add errors to\n",
    "errors = []\n",
    "\n",
    "\n",
    "# Set the learning rate\n",
    "learning_rate = 1e-2\n",
    "\n",
    "\n",
    "# Define the model's optimizer\n",
    "optimizer = torch.optim.Adagrad(model.parameters(), lr = learning_rate)\n",
    "\n",
    "\n",
    "# Train the neural network\n",
    "for t in range(15000):\n",
    "    \n",
    "    # Get the current predictions\n",
    "    y_pred = model(features_Variable)\n",
    "    \n",
    "    # Compute and append current summed errors\n",
    "    loss = loss_fn(y_pred, outcomes_Variable)\n",
    "    errors.append(loss.data[0])\n",
    "    \n",
    "    # Zero the gradients before running the backward pass.\n",
    "    optimizer.zero_grad()\n",
    "    \n",
    "    # Backward pass: compute gradient of the loss with respect to all the learnable Variables\n",
    "    loss.backward()\n",
    "    \n",
    "    # Update the weights using Adagrad\n",
    "    optimizer.step()"
   ]
  },
  {
   "cell_type": "code",
   "execution_count": 71,
   "metadata": {
    "collapsed": false
   },
   "outputs": [
    {
     "data": {
      "text/plain": [
       "<matplotlib.collections.PathCollection at 0x7f6b64631860>"
      ]
     },
     "execution_count": 71,
     "metadata": {},
     "output_type": "execute_result"
    },
    {
     "data": {
      "image/png": "[encoded data removed]",
      "text/plain": [
       "<matplotlib.figure.Figure at 0x7f6b6472d278>"
      ]
     },
     "metadata": {},
     "output_type": "display_data"
    }
   ],
   "source": [
    "# Plot summed error as a function of iteration\n",
    "plt.scatter(iterations, errors, c = \"black\", alpha = 0.25)"
   ]
  },
  {
   "cell_type": "code",
   "execution_count": 72,
   "metadata": {
    "collapsed": true
   },
   "outputs": [],
   "source": [
    "# Get rid of the 2nd dimension of 1 from the FloatTensor\n",
    "y_pred_resized = y_pred.resize(8308)\n",
    "\n",
    "\n",
    "# Make the FloatTensor into a numpy.array\n",
    "y_pred_array = y_pred_resized.data.numpy()\n",
    "\n",
    "\n",
    "# Make the numpy.array into a list\n",
    "y_pred_list = y_pred_array.tolist()"
   ]
  },
  {
   "cell_type": "code",
   "execution_count": 73,
   "metadata": {
    "collapsed": false
   },
   "outputs": [
    {
     "data": {
      "text/plain": [
       "[<matplotlib.lines.Line2D at 0x7f6b64640080>]"
      ]
     },
     "execution_count": 73,
     "metadata": {},
     "output_type": "execute_result"
    },
    {
     "data": {
      "image/png": "[encoded data removed]",
      "text/plain": [
       "<matplotlib.figure.Figure at 0x7f6b64640240>"
      ]
     },
     "metadata": {},
     "output_type": "display_data"
    }
   ],
   "source": [
    "# Plot predictions versus training set outcomes\n",
    "plt.scatter(outcomes_list, y_pred_list, c = \"black\", alpha = 0.15)\n",
    "\n",
    "axes = plt.gca()\n",
    "\n",
    "axes.set_xlim([-2, 4])\n",
    "\n",
    "axes.set_ylim([-2, 4])\n",
    "\n",
    "plt.plot([-2, 4], [-2, 4], 'k-', lw=2)"
   ]
  },
  {
   "cell_type": "markdown",
   "metadata": {},
   "source": [
    "### Round 5.1: Validation Set Performance"
   ]
  },
  {
   "cell_type": "code",
   "execution_count": 74,
   "metadata": {
    "collapsed": false
   },
   "outputs": [
    {
     "data": {
      "text/plain": [
       "Variable containing:\n",
       " 511.9985\n",
       "[torch.FloatTensor of size 1]"
      ]
     },
     "execution_count": 74,
     "metadata": {},
     "output_type": "execute_result"
    }
   ],
   "source": [
    "# Get the validation set predictions\n",
    "y_valid_pred = model(valid_predictors_Variable)\n",
    "\n",
    "\n",
    "# Print the loss\n",
    "loss_fn(y_valid_pred,\n",
    "        valid_outcomes_Variable)"
   ]
  },
  {
   "cell_type": "code",
   "execution_count": 75,
   "metadata": {
    "collapsed": false
   },
   "outputs": [
    {
     "data": {
      "text/plain": [
       "Variable containing:\n",
       "1.00000e-02 *\n",
       " -7.7024\n",
       "[torch.FloatTensor of size 1]"
      ]
     },
     "execution_count": 75,
     "metadata": {},
     "output_type": "execute_result"
    }
   ],
   "source": [
    "# Grab the residual sum of squares\n",
    "resid_sum_squares = loss_fn(y_valid_pred, valid_outcomes_Variable)\n",
    "\n",
    "\n",
    "# Compute R squared\n",
    "R_squared = 1 - (resid_sum_squares / tot_sum_squares)\n",
    "\n",
    "R_squared"
   ]
  },
  {
   "cell_type": "code",
   "execution_count": 76,
   "metadata": {
    "collapsed": false
   },
   "outputs": [],
   "source": [
    "# Get rid of the 2nd dimension of 1 from the FloatTensor\n",
    "y_valid_pred_resized = y_valid_pred.resize(2808)\n",
    "\n",
    "\n",
    "# Make the FloatTensor into a numpy.array\n",
    "y_valid_pred_array = y_valid_pred_resized.data.numpy()\n",
    "\n",
    "\n",
    "# Convert back to log scale\n",
    "y_valid_pred_array = y_valid_pred_array*5.407597 + 7.688844\n",
    "\n",
    "\n",
    "# Make the numpy.array into a list\n",
    "y_valid_pred_list = y_valid_pred_array.tolist()"
   ]
  },
  {
   "cell_type": "code",
   "execution_count": 77,
   "metadata": {
    "collapsed": false
   },
   "outputs": [
    {
     "data": {
      "text/plain": [
       "<matplotlib.text.Text at 0x7f6b6456d9e8>"
      ]
     },
     "execution_count": 77,
     "metadata": {},
     "output_type": "execute_result"
    },
    {
     "data": {
      "image/png": "[encoded data removed]",
      "text/plain": [
       "<matplotlib.figure.Figure at 0x7f6b645b7eb8>"
      ]
     },
     "metadata": {},
     "output_type": "display_data"
    }
   ],
   "source": [
    "# Plot new predictions versus new data outcomes\n",
    "plt.scatter(valid_outcomes_list, y_valid_pred_list, c = \"black\", alpha = 0.15)\n",
    "\n",
    "axes = plt.gca()\n",
    "\n",
    "axes.set_xlim([0, 24])\n",
    "\n",
    "axes.set_ylim([0, 24])\n",
    "\n",
    "axes.set_xticks([0, 4, 8, 12, 16, 20, 24])\n",
    "\n",
    "axes.set_yticks([0, 4, 8, 12, 16, 20, 24])\n",
    "\n",
    "plt.plot([0, 24], [0, 24], 'k-', lw = 2)\n",
    "\n",
    "axes.set_xlabel(\"Actual Outcome (Log-Transformed US Dollars)\")\n",
    "\n",
    "axes.set_ylabel(\"Model Prediction (Log-Transformed US Dollars)\")\n",
    "\n",
    "axes.set_title(\"Model Performance\")"
   ]
  },
  {
   "cell_type": "code",
   "execution_count": 78,
   "metadata": {
    "collapsed": false
   },
   "outputs": [
    {
     "data": {
      "text/plain": [
       "Parameter containing:\n",
       "\n",
       "Columns 0 to 9 \n",
       "-0.0534 -0.1713  0.4981 -0.0524  0.2468  0.3651  0.3282 -0.2297  0.0887 -0.4235\n",
       " 0.0751  0.3096 -0.3162 -0.4355 -0.0366 -0.1094  0.1046 -0.3587  0.1514  0.0622\n",
       "-0.1904 -0.0483  0.1324 -0.0807 -0.1765 -0.1889 -0.3711  0.0986 -0.2296  0.3448\n",
       " 0.0048  0.1958  0.1677  0.6791  0.2305 -0.0647  0.0078  0.1857  0.1254  0.3793\n",
       " 0.2731 -0.1028  0.0155  0.0315 -0.0809  0.3222  0.0162  0.1585  0.1808 -0.2634\n",
       "-0.5697 -0.1641  0.2984 -0.2533  0.3117 -0.2596 -0.2685 -0.0615 -0.0672 -0.2200\n",
       "-0.1525 -0.1012 -0.2325 -0.3738  0.3765  0.0737 -0.1976 -0.2454 -0.0222  0.0268\n",
       " 0.1838  0.0537 -0.2182 -0.1962  0.1417 -0.0115  0.4447 -0.1852  0.1574  0.2817\n",
       " 0.4821  0.4476  0.0287 -0.1134 -0.0727  0.0566  0.2252  0.0842  0.1096 -0.3369\n",
       "-0.1146 -0.0390  0.2110 -0.3096 -0.1393  0.1616 -0.1759 -0.0602  0.1753  0.0440\n",
       "-0.0573 -0.2637 -0.0287 -0.2372  0.2394 -0.0087 -0.3065 -0.0671  0.1012  0.2526\n",
       " 0.0407 -0.1397 -0.0604  0.3386  0.0721 -0.2432  0.2846 -0.0917  0.0306 -0.2008\n",
       " 0.3281 -0.0246 -0.1680 -0.4810  0.0708  0.5585 -0.1988 -0.1268  0.1661  0.1717\n",
       "-0.0443 -0.0885 -0.0128 -0.1050 -0.4510  0.1996 -0.1352 -0.1696  0.1572 -0.0970\n",
       "-0.1756 -0.6043  0.4910 -0.4327  0.3507 -0.1254  0.1035 -0.2155 -0.2275 -0.0650\n",
       " 0.2911  0.1337  0.1052 -0.1619 -0.2850  0.2532 -0.1404  0.1359 -0.0451  0.1896\n",
       "\n",
       "Columns 10 to 19 \n",
       "-0.2086  0.0316  0.1930 -0.4201 -0.0428  0.2418 -0.3015  0.1412  0.0619 -0.0859\n",
       " 0.1693  0.1841 -0.6344  0.3177 -0.0776  0.1769  0.1055 -0.1634  0.2301  0.1566\n",
       "-0.2365 -0.0127 -0.4280  0.2584 -0.1154  0.4850 -0.3826  0.0269 -0.1204  0.2717\n",
       "-0.3058  0.3188 -0.1188  0.1074 -0.4263  0.1924  0.1640 -0.5302  0.0870 -0.0814\n",
       " 0.0238 -0.0755  0.2007 -0.1795  0.0366 -0.1360  0.1113  0.1366 -0.0381  0.0825\n",
       " 0.1130  0.0087  0.4514  0.0552  0.1365  0.3225 -0.0331  0.1520 -0.1589  0.1991\n",
       " 0.2645  0.2360 -0.3264  0.1250  0.0719  0.3166 -0.0432 -0.0954  0.2191  0.0620\n",
       " 0.1959  0.3849  0.1285 -0.3498  0.0464 -0.0935  0.2436 -0.2994  0.3336 -0.3425\n",
       " 0.0968 -0.1932 -0.3260  0.1520 -0.2328 -0.0663  0.1763 -0.1904  0.0267 -0.0593\n",
       " 0.1258  0.0043  0.1927 -0.0922 -0.1303  0.3829  0.0517  0.1583  0.0971  0.0829\n",
       " 0.2848  0.2256  0.0409 -0.2002  0.1347  0.2143  0.1662  0.0789 -0.0587  0.0191\n",
       "-0.0863 -0.0126 -0.1019  0.0496  0.1662 -0.1681  0.0486  0.0571 -0.1405 -0.3464\n",
       " 0.1866 -0.0687 -0.0424 -0.0799  0.0378  0.1915  0.0377 -0.0118  0.3463  0.0211\n",
       " 0.0262  0.0090 -0.1343  0.1762  0.0691 -0.2489  0.0884  0.1775 -0.3667  0.0166\n",
       "-0.0705  0.0891  0.0502 -0.3136 -0.2800  0.3107 -0.0910 -0.0909  0.2234 -0.1857\n",
       " 0.0232 -0.1083 -0.2428  0.3693 -0.3926 -0.4446  0.0801 -0.3434  0.1912 -0.0750\n",
       "\n",
       "Columns 20 to 23 \n",
       " 0.0975 -0.3466 -0.1585  0.1911\n",
       "-0.2019 -0.0216  0.0459  0.0102\n",
       "-0.1467  0.2591  0.1783 -0.3280\n",
       "-0.2023 -0.1228  0.2255 -0.2249\n",
       " 0.1904  0.1541 -0.2679  0.1030\n",
       " 0.0841  0.2403 -0.7275  0.3900\n",
       "-0.2153  0.0247  0.2356 -0.2215\n",
       " 0.1050 -0.2088  0.0176  0.1421\n",
       "-0.0048  0.0153  0.0618 -0.0651\n",
       " 0.1984 -0.2534  0.0572  0.5009\n",
       " 0.2904  0.2785  0.2647  0.0406\n",
       "-0.2893 -0.0541 -0.2532 -0.1259\n",
       " 0.1517 -0.0343 -0.0199 -0.2539\n",
       " 0.1485 -0.1797 -0.1093  0.1981\n",
       " 0.5018  0.2378 -0.6914 -0.1453\n",
       " 0.2432  0.0294 -0.0124 -0.0176\n",
       "[torch.FloatTensor of size 16x24]"
      ]
     },
     "execution_count": 78,
     "metadata": {},
     "output_type": "execute_result"
    }
   ],
   "source": [
    "model[(0)].weight"
   ]
  },
  {
   "cell_type": "code",
   "execution_count": 79,
   "metadata": {
    "collapsed": false
   },
   "outputs": [
    {
     "data": {
      "text/plain": [
       "Parameter containing:\n",
       "\n",
       "Columns 0 to 9 \n",
       " 0.0741 -0.0065  0.2484  0.3486  0.1523  0.1070  0.0123  0.3883 -0.1338 -0.3238\n",
       " 0.2909  0.3012  0.3186  0.4808 -0.0652  0.5703  0.4030  0.0880 -0.0440  0.0915\n",
       "-1.9210 -0.1178  0.3787 -0.0079 -1.5407  0.3175  0.2426  0.3259  0.3203  0.1991\n",
       "-0.0886  0.1179  0.2210  0.0534  0.1822  0.4670 -0.4003 -0.1115 -0.1140 -0.3953\n",
       " 0.3193  0.2456  0.0969  0.4931  0.0159 -0.0808  0.3580  0.1322  0.1405 -0.1883\n",
       " 0.2400  0.3001  0.2044  0.1034 -0.3141  0.4878 -0.0310  0.4025 -0.5341  0.1037\n",
       " 0.3370  0.1843  0.0713 -0.3630 -0.0433  0.0504 -0.2173 -0.0672  0.5335 -0.3296\n",
       " 0.0228  0.1245  0.0184  0.1131  0.2306  0.2056  0.1727  0.1985  0.0619 -0.1293\n",
       " 0.1165  0.0556  0.2264  0.4475  0.3000  0.1593  0.2670  0.0602  0.2538  0.1069\n",
       " 0.1900  0.0992  0.3454  0.3494  0.2391 -0.1421  0.1581 -0.2216 -0.0374 -0.0560\n",
       "-0.0318 -0.0196 -0.1221  0.1411  0.1729  0.3637 -0.0522 -0.1516  0.3680 -0.0345\n",
       "\n",
       "Columns 10 to 15 \n",
       " 0.2737 -0.0090  0.3218  0.1810 -0.1289  0.0938\n",
       " 0.1439  0.1814 -0.1439  0.3129  0.2839  0.0400\n",
       "-0.1917 -0.1275 -0.0544  0.3354 -0.5555  0.0805\n",
       " 0.1787  0.2297  0.3664 -0.0789 -0.1818 -0.0710\n",
       " 0.3391  0.2578  0.1755  0.1052 -0.2977  0.1963\n",
       " 0.0122  0.3158  0.1328 -0.3798 -0.5190  0.2100\n",
       " 0.0841  0.1671 -0.1951 -0.0202  0.3572  0.2859\n",
       " 0.3239 -0.2215  0.2247 -0.0032 -0.1613  0.2210\n",
       "-0.1151 -0.1770  0.2721  0.0041 -0.7363  0.3729\n",
       " 0.4555 -0.0294  0.1684 -0.1821  0.0359  0.1941\n",
       " 0.1944 -0.1333 -0.1957  0.2639 -0.0119  0.0386\n",
       "[torch.FloatTensor of size 11x16]"
      ]
     },
     "execution_count": 79,
     "metadata": {},
     "output_type": "execute_result"
    }
   ],
   "source": [
    "model[(2)].weight"
   ]
  },
  {
   "cell_type": "code",
   "execution_count": 80,
   "metadata": {
    "collapsed": false
   },
   "outputs": [
    {
     "data": {
      "text/plain": [
       "Parameter containing:\n",
       "\n",
       "Columns 0 to 9 \n",
       " 0.2173  0.4023  0.5029 -0.5311  0.2704 -0.3054 -0.7876  0.2528  0.1946 -0.1012\n",
       " 0.1675 -0.1173  0.8676 -0.7543 -0.0072 -0.4335  0.1900  0.3586  0.2192 -0.0926\n",
       " 0.2472 -0.1198 -0.7235 -0.1305  0.3004  0.8726  0.1715  0.2063  0.3634  0.1577\n",
       " 0.4198  0.0914 -0.5032  0.0037  0.2160  0.2417  0.1203  0.1340 -0.1900  0.3427\n",
       " 0.2287  0.1560 -0.5071 -0.0716  0.0508  0.4145 -0.1075  0.1024  0.1977  0.2193\n",
       "-0.2913 -0.0356  0.0072  0.0806 -0.2329 -0.2049 -0.1920 -0.0919  0.2283 -0.0330\n",
       " 0.3697  0.1148 -0.4286  0.3043  0.3196  0.4534 -0.2441  0.4152  0.3080  0.2649\n",
       "\n",
       "Columns 10 to 10 \n",
       "-0.0433\n",
       "-0.4688\n",
       "-0.1349\n",
       " 0.5064\n",
       "-0.2824\n",
       "-0.2229\n",
       " 0.2224\n",
       "[torch.FloatTensor of size 7x11]"
      ]
     },
     "execution_count": 80,
     "metadata": {},
     "output_type": "execute_result"
    }
   ],
   "source": [
    "model[(4)].weight"
   ]
  },
  {
   "cell_type": "code",
   "execution_count": 81,
   "metadata": {
    "collapsed": false
   },
   "outputs": [
    {
     "data": {
      "text/plain": [
       "Parameter containing:\n",
       "-0.8946 -1.2004  0.1942  0.0995  0.3583  0.2208  0.2483\n",
       "-0.6016 -0.4840  0.3282  0.0863 -0.0429  0.0041  0.2606\n",
       "-0.3162 -0.1649 -0.2812  0.1460 -0.0848 -0.2305 -0.0803\n",
       " 0.0577 -0.2702  0.2572 -0.3227  0.0576  0.2973 -0.2047\n",
       "-0.3505 -0.7471  0.5177 -0.2410  0.1355 -0.0276 -0.1556\n",
       "[torch.FloatTensor of size 5x7]"
      ]
     },
     "execution_count": 81,
     "metadata": {},
     "output_type": "execute_result"
    }
   ],
   "source": [
    "model[(6)].weight"
   ]
  },
  {
   "cell_type": "code",
   "execution_count": 82,
   "metadata": {
    "collapsed": false
   },
   "outputs": [
    {
     "data": {
      "text/plain": [
       "Parameter containing:\n",
       " 0.2268  0.4489 -0.0750 -0.2461 -2.3282\n",
       " 0.5379  0.1016  0.1098  0.1713 -2.4296\n",
       "-0.2941  0.2348  0.3101  0.0025 -0.4301\n",
       "[torch.FloatTensor of size 3x5]"
      ]
     },
     "execution_count": 82,
     "metadata": {},
     "output_type": "execute_result"
    }
   ],
   "source": [
    "model[(8)].weight"
   ]
  },
  {
   "cell_type": "code",
   "execution_count": 83,
   "metadata": {
    "collapsed": false
   },
   "outputs": [
    {
     "data": {
      "text/plain": [
       "Parameter containing:\n",
       " 0.6583  1.6461  0.3737\n",
       "[torch.FloatTensor of size 1x3]"
      ]
     },
     "execution_count": 83,
     "metadata": {},
     "output_type": "execute_result"
    }
   ],
   "source": [
    "model[(10)].weight"
   ]
  },
  {
   "cell_type": "markdown",
   "metadata": {},
   "source": [
    "## Round 6: Six-Hidden-Layer Neural Network"
   ]
  },
  {
   "cell_type": "code",
   "execution_count": 84,
   "metadata": {
    "collapsed": true
   },
   "outputs": [],
   "source": [
    "# Make the torch Tensor into a PyTorch Variable for dependent variables\n",
    "outcomes_Variable = Variable(outcomes_Tensor)\n",
    "\n",
    "\n",
    "# ...for independent variables\n",
    "features_Variable = Variable(features_Tensor,\n",
    "                             requires_grad = False)"
   ]
  },
  {
   "cell_type": "code",
   "execution_count": 85,
   "metadata": {
    "collapsed": true
   },
   "outputs": [],
   "source": [
    "# Make the neural network\n",
    "model = torch.nn.Sequential(torch.nn.Linear(24, 16),\n",
    "                            torch.nn.ReLU(),\n",
    "                            torch.nn.Linear(16, 11),\n",
    "                            torch.nn.ReLU(),\n",
    "                            torch.nn.Linear(11, 7),\n",
    "                            torch.nn.ReLU(),\n",
    "                            torch.nn.Linear(7, 5),\n",
    "                            torch.nn.ReLU(),\n",
    "                            torch.nn.Linear(5, 3),\n",
    "                            torch.nn.ReLU(),\n",
    "                            torch.nn.Linear(3, 2),\n",
    "                            torch.nn.ReLU(),\n",
    "                            torch.nn.Linear(2, 1))"
   ]
  },
  {
   "cell_type": "code",
   "execution_count": 86,
   "metadata": {
    "collapsed": true
   },
   "outputs": [],
   "source": [
    "# To add errors to\n",
    "errors = []\n",
    "\n",
    "\n",
    "# Set the learning rate\n",
    "learning_rate = 1e-2\n",
    "\n",
    "\n",
    "# Define the model's optimizer\n",
    "optimizer = torch.optim.Adagrad(model.parameters(), lr = learning_rate)\n",
    "\n",
    "\n",
    "# Train the neural network\n",
    "for t in range(15000):\n",
    "    \n",
    "    # Get the current predictions\n",
    "    y_pred = model(features_Variable)\n",
    "    \n",
    "    # Compute and append current summed errors\n",
    "    loss = loss_fn(y_pred, outcomes_Variable)\n",
    "    errors.append(loss.data[0])\n",
    "    \n",
    "    # Zero the gradients before running the backward pass.\n",
    "    optimizer.zero_grad()\n",
    "    \n",
    "    # Backward pass: compute gradient of the loss with respect to all the learnable Variables\n",
    "    loss.backward()\n",
    "    \n",
    "    # Update the weights using Adagrad\n",
    "    optimizer.step()"
   ]
  },
  {
   "cell_type": "code",
   "execution_count": 87,
   "metadata": {
    "collapsed": false
   },
   "outputs": [
    {
     "data": {
      "text/plain": [
       "<matplotlib.collections.PathCollection at 0x7f6b6446b4a8>"
      ]
     },
     "execution_count": 87,
     "metadata": {},
     "output_type": "execute_result"
    },
    {
     "data": {
      "image/png": "[encoded data removed]",
      "text/plain": [
       "<matplotlib.figure.Figure at 0x7f6b646a9eb8>"
      ]
     },
     "metadata": {},
     "output_type": "display_data"
    }
   ],
   "source": [
    "# Plot summed error as a function of iteration\n",
    "plt.scatter(iterations, errors, c = \"black\", alpha = 0.25)"
   ]
  },
  {
   "cell_type": "code",
   "execution_count": 88,
   "metadata": {
    "collapsed": true
   },
   "outputs": [],
   "source": [
    "# Get rid of the 2nd dimension of 1 from the FloatTensor\n",
    "y_pred_resized = y_pred.resize(8308)\n",
    "\n",
    "\n",
    "# Make the FloatTensor into a numpy.array\n",
    "y_pred_array = y_pred_resized.data.numpy()\n",
    "\n",
    "\n",
    "# Make the numpy.array into a list\n",
    "y_pred_list = y_pred_array.tolist()"
   ]
  },
  {
   "cell_type": "code",
   "execution_count": 89,
   "metadata": {
    "collapsed": false
   },
   "outputs": [
    {
     "data": {
      "text/plain": [
       "[<matplotlib.lines.Line2D at 0x7f6b644b0f28>]"
      ]
     },
     "execution_count": 89,
     "metadata": {},
     "output_type": "execute_result"
    },
    {
     "data": {
      "image/png": "[encoded data removed]",
      "text/plain": [
       "<matplotlib.figure.Figure at 0x7f6b644b0e48>"
      ]
     },
     "metadata": {},
     "output_type": "display_data"
    }
   ],
   "source": [
    "# Plot predictions versus training set outcomes\n",
    "plt.scatter(outcomes_list, y_pred_list, c = \"black\", alpha = 0.15)\n",
    "\n",
    "axes = plt.gca()\n",
    "\n",
    "axes.set_xlim([-2, 4])\n",
    "\n",
    "axes.set_ylim([-2, 4])\n",
    "\n",
    "plt.plot([-2, 4], [-2, 4], 'k-', lw=2)"
   ]
  },
  {
   "cell_type": "markdown",
   "metadata": {},
   "source": [
    "### Round 6.1: Validation Set Performance"
   ]
  },
  {
   "cell_type": "code",
   "execution_count": 90,
   "metadata": {
    "collapsed": false
   },
   "outputs": [
    {
     "data": {
      "text/plain": [
       "Variable containing:\n",
       " 482.9814\n",
       "[torch.FloatTensor of size 1]"
      ]
     },
     "execution_count": 90,
     "metadata": {},
     "output_type": "execute_result"
    }
   ],
   "source": [
    "# Get the validation set predictions\n",
    "y_valid_pred = model(valid_predictors_Variable)\n",
    "\n",
    "\n",
    "# Print the loss\n",
    "loss_fn(y_valid_pred,\n",
    "        valid_outcomes_Variable)"
   ]
  },
  {
   "cell_type": "code",
   "execution_count": 91,
   "metadata": {
    "collapsed": false
   },
   "outputs": [
    {
     "data": {
      "text/plain": [
       "Variable containing:\n",
       "1.00000e-02 *\n",
       " -1.5984\n",
       "[torch.FloatTensor of size 1]"
      ]
     },
     "execution_count": 91,
     "metadata": {},
     "output_type": "execute_result"
    }
   ],
   "source": [
    "# Grab the residual sum of squares\n",
    "resid_sum_squares = loss_fn(y_valid_pred, valid_outcomes_Variable)\n",
    "\n",
    "\n",
    "# Compute R squared\n",
    "R_squared = 1 - (resid_sum_squares / tot_sum_squares)\n",
    "\n",
    "R_squared"
   ]
  },
  {
   "cell_type": "code",
   "execution_count": 92,
   "metadata": {
    "collapsed": true
   },
   "outputs": [],
   "source": [
    "# Get rid of the 2nd dimension of 1 from the FloatTensor\n",
    "y_valid_pred_resized = y_valid_pred.resize(2808)\n",
    "\n",
    "\n",
    "# Make the FloatTensor into a numpy.array\n",
    "y_valid_pred_array = y_valid_pred_resized.data.numpy()\n",
    "\n",
    "\n",
    "# Convert back to log scale\n",
    "y_valid_pred_array = y_valid_pred_array*5.407597 + 7.688844\n",
    "\n",
    "\n",
    "# Make the numpy.array into a list\n",
    "y_valid_pred_list = y_valid_pred_array.tolist()"
   ]
  },
  {
   "cell_type": "code",
   "execution_count": 93,
   "metadata": {
    "collapsed": false
   },
   "outputs": [
    {
     "data": {
      "text/plain": [
       "<matplotlib.text.Text at 0x7f6b643607f0>"
      ]
     },
     "execution_count": 93,
     "metadata": {},
     "output_type": "execute_result"
    },
    {
     "data": {
      "image/png": "[encoded data removed]",
      "text/plain": [
       "<matplotlib.figure.Figure at 0x7f6b64491828>"
      ]
     },
     "metadata": {},
     "output_type": "display_data"
    }
   ],
   "source": [
    "# Plot new predictions versus new data outcomes\n",
    "plt.scatter(valid_outcomes_list, y_valid_pred_list, c = \"black\", alpha = 0.15)\n",
    "\n",
    "axes = plt.gca()\n",
    "\n",
    "axes.set_xlim([0, 24])\n",
    "\n",
    "axes.set_ylim([0, 24])\n",
    "\n",
    "axes.set_xticks([0, 4, 8, 12, 16, 20, 24])\n",
    "\n",
    "axes.set_yticks([0, 4, 8, 12, 16, 20, 24])\n",
    "\n",
    "plt.plot([0, 24], [0, 24], 'k-', lw = 2)\n",
    "\n",
    "axes.set_xlabel(\"Actual Outcome (Log-Transformed US Dollars)\")\n",
    "\n",
    "axes.set_ylabel(\"Model Prediction (Log-Transformed US Dollars)\")\n",
    "\n",
    "axes.set_title(\"Model Performance\")"
   ]
  },
  {
   "cell_type": "code",
   "execution_count": 94,
   "metadata": {
    "collapsed": false
   },
   "outputs": [
    {
     "data": {
      "text/plain": [
       "Parameter containing:\n",
       "\n",
       "Columns 0 to 9 \n",
       " 0.0105 -0.3707 -0.2377 -0.2705  0.2697 -0.1239  0.2785 -0.4299 -0.0962 -0.0943\n",
       "-0.3595  0.0269 -0.1596 -0.0615 -0.2839 -0.0552  0.1023  0.0840 -0.2484  0.0775\n",
       " 0.2166  0.1412 -0.1645  0.7073 -0.1004  0.2040 -0.3029 -0.1512 -0.1509  0.2385\n",
       " 0.0189 -0.2703  0.0565  0.5885 -0.0464 -0.5477 -0.0592  0.1157  0.1597 -0.3036\n",
       " 0.1252  0.0514 -0.0558 -0.5428  0.0243  0.0991  0.3068 -0.1711 -0.1261  0.1000\n",
       "-0.1384 -0.1134  0.0014  0.0442  0.1109 -0.0111  0.3387 -0.3723 -0.1200 -0.3760\n",
       " 0.2671  0.3447 -0.2540 -0.1861  0.0925  0.2568 -0.1159 -0.1464  0.4223  0.1895\n",
       "-0.2238  0.2706  0.1739 -0.3225 -0.1737  0.0432 -0.2380 -0.1796 -0.0079  0.2243\n",
       "-0.2102  0.1085  0.1946  0.0717  0.0652 -0.2004 -0.0119  0.2402  0.0046  0.5717\n",
       " 0.1915  0.3015  0.2185  0.4366  0.1518 -0.1141  0.1714  0.1811 -0.0062  0.3306\n",
       "-0.4053 -0.1971  0.3239 -0.0169 -0.1258 -0.2814 -0.3163  0.1911  0.0495  0.5314\n",
       "-0.0697 -0.4738  0.2169 -0.0257  0.0491 -0.2130  0.1090 -0.1763 -0.4386 -0.0916\n",
       "-0.1052 -0.2819  0.5149  0.2593 -0.2818 -0.0443  0.1129 -0.0883 -0.0942 -0.1223\n",
       " 0.2764 -0.4482  0.1661 -0.0024  0.1601 -0.0493 -0.1037 -0.0306 -0.1429 -0.0821\n",
       " 0.0276 -0.0518 -0.1429  0.3099  0.2041  0.0214  0.1546  0.2511  0.1231  0.0581\n",
       " 0.1274 -0.1505 -0.0434  0.2410  0.1064  0.3718  0.1411  0.0029  0.3833  0.1300\n",
       "\n",
       "Columns 10 to 19 \n",
       "-0.2276  0.1369 -0.4471 -0.1492  0.6093 -0.1482 -0.5354 -0.2757 -0.3774  0.2233\n",
       " 0.1900  0.0553  0.0801  0.0767 -0.3160  0.0512  0.1224  0.1795 -0.1096 -0.2537\n",
       "-0.3436 -0.2548 -0.4226  0.1252 -0.0396 -0.3923 -0.3491 -0.1164 -0.1765 -0.0054\n",
       "-0.2954 -0.2686 -0.0495  0.3469  0.3859 -0.0379  0.2105  0.0938 -0.0443 -0.1626\n",
       "-0.0988  0.2469 -0.4323 -0.2866  0.3147 -0.0556  0.3066  0.1399 -0.0790 -0.2694\n",
       " 0.1695 -0.0296  0.3130 -0.1709 -0.2066 -0.3374 -0.3280 -0.0041 -0.0536 -0.3126\n",
       "-0.0228  0.1049 -0.3858 -0.0894  0.0584 -0.2074  0.2275  0.0530  0.1759  0.4029\n",
       " 0.2210 -0.2223 -0.0443  0.1050  0.3091  0.4903  0.2681  0.0102  0.1941 -0.0038\n",
       " 0.0356 -0.2219  0.0914  0.2897 -0.1114 -0.1749  0.1826 -0.1108  0.2245  0.2291\n",
       " 0.3960 -0.3560  0.0090  0.1678 -0.1229 -0.2851  0.1356 -0.1822  0.0532 -0.1525\n",
       " 0.3454 -0.0621  0.4474  0.1562 -0.0961 -0.1611 -0.0116  0.0103  0.1362  0.1412\n",
       "-0.1031  0.1894 -0.4051  0.1153 -0.0301  0.1621  0.1658  0.1925  0.1454 -0.2324\n",
       " 0.0072  0.3289 -0.4789  0.1017  0.0964 -0.1356 -0.2957 -0.0676 -0.0029 -0.2029\n",
       " 0.1786  0.1280  0.0874 -0.1002  0.0302 -0.2846 -0.1201 -0.2378 -0.4432 -0.0579\n",
       "-0.1595  0.1295  0.1508  0.1105 -0.3013  0.2337 -0.4077 -0.0569  0.0155  0.1985\n",
       "-0.0783  0.2335 -0.0594  0.0415  0.0215  0.4311  0.0144 -0.0868  0.1530  0.1125\n",
       "\n",
       "Columns 20 to 23 \n",
       "-0.0038 -0.4101 -0.0469  0.8070\n",
       "-0.1212  0.1208 -0.2198  0.0236\n",
       "-0.2151 -0.0329  0.2228  0.4487\n",
       "-0.1621  0.0077 -0.0925  0.2199\n",
       " 0.0813 -0.0361 -0.0870  0.0418\n",
       " 0.3183 -0.1824 -0.1740  0.4126\n",
       " 0.2465 -0.0427  0.2323 -0.2773\n",
       "-0.2119  0.2325 -0.0652  0.2137\n",
       "-0.1752  0.4643  0.2891 -0.3921\n",
       " 0.2309  0.1102  0.2931  0.2073\n",
       "-0.4738 -0.0404  0.0014 -0.1833\n",
       " 0.2743 -0.2460 -0.0900 -0.0243\n",
       " 0.3079 -0.1514  0.0612  0.2332\n",
       " 0.0557 -0.0364  0.0225 -0.2067\n",
       "-0.2026  0.3198 -0.1881 -0.1054\n",
       " 0.3883  0.2548  0.0866  0.2821\n",
       "[torch.FloatTensor of size 16x24]"
      ]
     },
     "execution_count": 94,
     "metadata": {},
     "output_type": "execute_result"
    }
   ],
   "source": [
    "model[(0)].weight"
   ]
  },
  {
   "cell_type": "code",
   "execution_count": 95,
   "metadata": {
    "collapsed": false
   },
   "outputs": [
    {
     "data": {
      "text/plain": [
       "Parameter containing:\n",
       "\n",
       "Columns 0 to 9 \n",
       " 0.0256  0.2983  0.0663  0.0096 -0.3309 -0.4570  0.3322  0.3225 -0.3144 -0.1115\n",
       " 0.4218 -0.2432  0.1898 -0.6118 -0.0984 -0.1368 -0.5173 -0.2669  0.2785 -0.0037\n",
       "-0.1338 -0.3201 -0.0613  0.0614  0.0032 -0.0642  0.2056  0.2613  0.1585  0.0011\n",
       " 0.0861  0.3408  0.1346  0.1615 -0.0835  0.0168  0.1522  0.1106  0.2611  0.0387\n",
       " 0.3551 -0.0862 -0.2872  0.1674  0.3114  0.4325  0.2882 -0.1135  0.2665  0.1095\n",
       " 0.0600  0.1191  0.5306 -0.1089 -0.4352 -0.0988 -0.6415 -0.6128 -0.0651 -0.7659\n",
       "-0.0257 -0.1159 -0.1054  0.1179  0.2932  0.1138  0.1827  0.2148 -0.0412  0.2498\n",
       " 0.4039  0.1173 -0.0336  0.1347 -0.1844  0.4813 -0.0476 -0.1989 -0.1171  0.3587\n",
       " 0.1933  0.2011  0.3441 -0.0038  0.0238 -0.1717 -0.3930  0.2434  0.0630  0.1222\n",
       " 0.1650 -0.0652  0.2553  0.2331  0.2150  0.0409 -0.1785  0.2837 -0.0457  0.0151\n",
       "-0.3133  0.5152 -0.8301  0.0634 -0.6832  0.4438  0.0334 -0.8961  0.4702 -0.1988\n",
       "\n",
       "Columns 10 to 15 \n",
       " 0.0024  0.2177  0.1195  0.4534 -0.1223  0.0322\n",
       " 0.1445  0.1304 -0.1334  0.2689  0.0444  0.0181\n",
       " 0.3633 -0.0998  0.0483 -0.2189  0.1980  0.0949\n",
       " 0.0516 -0.3818  0.4757 -0.0795  0.0335  0.2571\n",
       " 0.1170 -0.0140  0.4768 -0.0886  0.3466 -0.2192\n",
       " 0.4479 -0.2362  0.1595  0.1527 -0.2823  0.4617\n",
       " 0.0977  0.1740  0.5207  0.1375  0.3130 -0.0597\n",
       "-0.1051  0.1001  0.0986 -0.3792  0.3985  0.3311\n",
       " 0.0876  0.3558 -0.3279  0.1163  0.0580  0.3262\n",
       "-0.0243  0.1391 -0.1197  0.1894  0.2889  0.3840\n",
       "-0.4880  0.7502 -0.1186 -0.1799 -0.1262 -0.3849\n",
       "[torch.FloatTensor of size 11x16]"
      ]
     },
     "execution_count": 95,
     "metadata": {},
     "output_type": "execute_result"
    }
   ],
   "source": [
    "model[(2)].weight"
   ]
  },
  {
   "cell_type": "code",
   "execution_count": 96,
   "metadata": {
    "collapsed": false
   },
   "outputs": [
    {
     "data": {
      "text/plain": [
       "Parameter containing:\n",
       "\n",
       "Columns 0 to 9 \n",
       "-0.1448 -0.6739  0.3250  0.3803  0.2466 -0.5601  0.0972  0.3345  0.1120  0.3331\n",
       " 0.1145 -0.4803  0.2238  0.1050  0.1664 -0.1645  0.3318  0.0848 -0.1114  0.0180\n",
       "-0.0459 -0.4059  0.2328  0.3175  0.4590 -0.9794  0.1301  0.2012 -0.0017  0.3834\n",
       "-0.2135 -0.2435  0.2468  0.1514  0.0495 -0.3843  0.0347  0.3316  0.3771  0.1601\n",
       "-0.0207  0.4310  0.1871 -0.0224 -0.1821  0.9339 -0.2945  0.1013  0.2170  0.1168\n",
       " 0.8126  1.0041 -0.5372 -0.0831 -0.5118  0.7000 -0.1541 -0.4450  0.6714  0.4759\n",
       " 0.3907  0.6025 -0.0098  0.2317 -0.0555  1.0014 -0.1674 -0.1849  0.4203  0.3574\n",
       "\n",
       "Columns 10 to 10 \n",
       "-1.1189\n",
       "-1.0204\n",
       "-1.5425\n",
       "-1.0120\n",
       " 1.3199\n",
       " 0.2605\n",
       " 1.4351\n",
       "[torch.FloatTensor of size 7x11]"
      ]
     },
     "execution_count": 96,
     "metadata": {},
     "output_type": "execute_result"
    }
   ],
   "source": [
    "model[(4)].weight"
   ]
  },
  {
   "cell_type": "code",
   "execution_count": 97,
   "metadata": {
    "collapsed": false
   },
   "outputs": [
    {
     "data": {
      "text/plain": [
       "Parameter containing:\n",
       " 0.1528 -0.6493 -0.4294  0.1556  0.7787  0.3656  0.5628\n",
       "-0.4663  0.0170 -0.3199 -0.1529  0.4061  0.8897  0.8498\n",
       "-0.0320  0.2522  0.2201 -0.2727  0.2965 -0.1181 -0.3729\n",
       "-0.3754 -0.0968 -0.2170  0.0925 -0.0370 -0.0691 -0.2497\n",
       " 0.2952  0.5158  0.3025  0.5296 -0.5884 -0.7744  0.1255\n",
       "[torch.FloatTensor of size 5x7]"
      ]
     },
     "execution_count": 97,
     "metadata": {},
     "output_type": "execute_result"
    }
   ],
   "source": [
    "model[(6)].weight"
   ]
  },
  {
   "cell_type": "code",
   "execution_count": 98,
   "metadata": {
    "collapsed": false
   },
   "outputs": [
    {
     "data": {
      "text/plain": [
       "Parameter containing:\n",
       "-0.0727  0.3150 -0.3907 -0.0985 -0.3966\n",
       "-1.4794 -1.3198  0.1357 -0.1636  0.4774\n",
       "-1.3429 -1.1957 -0.2338 -0.1095  0.3052\n",
       "[torch.FloatTensor of size 3x5]"
      ]
     },
     "execution_count": 98,
     "metadata": {},
     "output_type": "execute_result"
    }
   ],
   "source": [
    "model[(8)].weight"
   ]
  },
  {
   "cell_type": "code",
   "execution_count": 99,
   "metadata": {
    "collapsed": false
   },
   "outputs": [
    {
     "data": {
      "text/plain": [
       "Parameter containing:\n",
       "-0.1748 -0.1523 -0.2904\n",
       "-2.0608 -0.4926 -0.8029\n",
       "[torch.FloatTensor of size 2x3]"
      ]
     },
     "execution_count": 99,
     "metadata": {},
     "output_type": "execute_result"
    }
   ],
   "source": [
    "model[(10)].weight"
   ]
  },
  {
   "cell_type": "code",
   "execution_count": 100,
   "metadata": {
    "collapsed": false
   },
   "outputs": [
    {
     "data": {
      "text/plain": [
       "Parameter containing:\n",
       "-0.4401 -0.6152\n",
       "[torch.FloatTensor of size 1x2]"
      ]
     },
     "execution_count": 100,
     "metadata": {},
     "output_type": "execute_result"
    }
   ],
   "source": [
    "model[(12)].weight"
   ]
  },
  {
   "cell_type": "markdown",
   "metadata": {},
   "source": [
    "## Round 7: Linear Regression"
   ]
  },
  {
   "cell_type": "code",
   "execution_count": 101,
   "metadata": {
    "collapsed": true
   },
   "outputs": [],
   "source": [
    "# Make the torch Tensor into a PyTorch Variable for dependent variables\n",
    "outcomes_Variable = Variable(outcomes_Tensor)\n",
    "\n",
    "\n",
    "# ...for independent variables\n",
    "features_Variable = Variable(features_Tensor,\n",
    "                             requires_grad = False)"
   ]
  },
  {
   "cell_type": "code",
   "execution_count": 102,
   "metadata": {
    "collapsed": true
   },
   "outputs": [],
   "source": [
    "# Make the neural network - really a regression\n",
    "model = torch.nn.Sequential(torch.nn.Linear(24, 1))"
   ]
  },
  {
   "cell_type": "code",
   "execution_count": 103,
   "metadata": {
    "collapsed": false
   },
   "outputs": [],
   "source": [
    "# To add errors to\n",
    "errors = []\n",
    "\n",
    "\n",
    "# Set the learning rate\n",
    "learning_rate = 1e-2\n",
    "\n",
    "\n",
    "# Define the model's optimizer\n",
    "optimizer = torch.optim.Adagrad(model.parameters(), lr = learning_rate)\n",
    "\n",
    "\n",
    "# Train the neural network\n",
    "for t in range(15000):\n",
    "    \n",
    "    # Get the current predictions\n",
    "    y_pred = model(features_Variable)\n",
    "    \n",
    "    # Compute and append current summed errors\n",
    "    loss = loss_fn(y_pred, outcomes_Variable)\n",
    "    errors.append(loss.data[0])\n",
    "    \n",
    "    # Zero the gradients before running the backward pass.\n",
    "    optimizer.zero_grad()\n",
    "    \n",
    "    # Backward pass: compute gradient of the loss with respect to all the learnable Variables\n",
    "    loss.backward()\n",
    "    \n",
    "    # Update the weights using Adagrad\n",
    "    optimizer.step()"
   ]
  },
  {
   "cell_type": "code",
   "execution_count": 104,
   "metadata": {
    "collapsed": false
   },
   "outputs": [
    {
     "data": {
      "text/plain": [
       "<matplotlib.collections.PathCollection at 0x7f6b6430e438>"
      ]
     },
     "execution_count": 104,
     "metadata": {},
     "output_type": "execute_result"
    },
    {
     "data": {
      "image/png": "[encoded data removed]",
      "text/plain": [
       "<matplotlib.figure.Figure at 0x7f6b6436f320>"
      ]
     },
     "metadata": {},
     "output_type": "display_data"
    }
   ],
   "source": [
    "# Plot summed error as a function of iteration\n",
    "plt.scatter(iterations, errors, c = \"black\", alpha = 0.25)"
   ]
  },
  {
   "cell_type": "code",
   "execution_count": 105,
   "metadata": {
    "collapsed": false
   },
   "outputs": [],
   "source": [
    "# Get rid of the 2nd dimension of 1 from the FloatTensor\n",
    "y_pred_resized = y_pred.resize(8308)\n",
    "\n",
    "\n",
    "# Make the FloatTensor into a numpy.array\n",
    "y_pred_array = y_pred_resized.data.numpy()\n",
    "\n",
    "\n",
    "# Make the numpy.array into a list\n",
    "y_pred_list = y_pred_array.tolist()"
   ]
  },
  {
   "cell_type": "code",
   "execution_count": 106,
   "metadata": {
    "collapsed": false
   },
   "outputs": [
    {
     "data": {
      "text/plain": [
       "[<matplotlib.lines.Line2D at 0x7f6b64390b00>]"
      ]
     },
     "execution_count": 106,
     "metadata": {},
     "output_type": "execute_result"
    },
    {
     "data": {
      "image/png": "[encoded data removed]",
      "text/plain": [
       "<matplotlib.figure.Figure at 0x7f6b64390f60>"
      ]
     },
     "metadata": {},
     "output_type": "display_data"
    }
   ],
   "source": [
    "# Plot predictions versus training set outcomes\n",
    "plt.scatter(outcomes_list, y_pred_list, c = \"black\", alpha = 0.15)\n",
    "\n",
    "axes = plt.gca()\n",
    "\n",
    "axes.set_xlim([-2, 4])\n",
    "\n",
    "axes.set_ylim([-2, 4])\n",
    "\n",
    "plt.plot([-2, 4], [-2, 4], 'k-', lw=2)"
   ]
  },
  {
   "cell_type": "markdown",
   "metadata": {
    "collapsed": false
   },
   "source": [
    "### Round 7.1: Validation Set Performance"
   ]
  },
  {
   "cell_type": "code",
   "execution_count": 107,
   "metadata": {
    "collapsed": false
   },
   "outputs": [
    {
     "data": {
      "text/plain": [
       "Variable containing:\n",
       " 464.4861\n",
       "[torch.FloatTensor of size 1]"
      ]
     },
     "execution_count": 107,
     "metadata": {},
     "output_type": "execute_result"
    }
   ],
   "source": [
    "# Get the validation set predictions\n",
    "y_valid_pred = model(valid_predictors_Variable)\n",
    "\n",
    "\n",
    "# Print the loss\n",
    "loss_fn(y_valid_pred,\n",
    "        valid_outcomes_Variable)"
   ]
  },
  {
   "cell_type": "code",
   "execution_count": 108,
   "metadata": {
    "collapsed": false
   },
   "outputs": [
    {
     "data": {
      "text/plain": [
       "Variable containing:\n",
       "1.00000e-02 *\n",
       "  2.2922\n",
       "[torch.FloatTensor of size 1]"
      ]
     },
     "execution_count": 108,
     "metadata": {},
     "output_type": "execute_result"
    }
   ],
   "source": [
    "# Grab the residual sum of squares\n",
    "resid_sum_squares = loss_fn(y_valid_pred, valid_outcomes_Variable)\n",
    "\n",
    "\n",
    "# Compute R squared\n",
    "R_squared = 1 - (resid_sum_squares / tot_sum_squares)\n",
    "\n",
    "R_squared"
   ]
  },
  {
   "cell_type": "code",
   "execution_count": 109,
   "metadata": {
    "collapsed": true
   },
   "outputs": [],
   "source": [
    "# Get rid of the 2nd dimension of 1 from the FloatTensor\n",
    "y_valid_pred_resized = y_valid_pred.resize(2808)\n",
    "\n",
    "\n",
    "# Make the FloatTensor into a numpy.array\n",
    "y_valid_pred_array = y_valid_pred_resized.data.numpy()\n",
    "\n",
    "\n",
    "# Convert back to log scale\n",
    "y_valid_pred_array = y_valid_pred_array*5.407597 + 7.688844\n",
    "\n",
    "\n",
    "# Make the numpy.array into a list\n",
    "y_valid_pred_list = y_valid_pred_array.tolist()"
   ]
  },
  {
   "cell_type": "code",
   "execution_count": 110,
   "metadata": {
    "collapsed": false
   },
   "outputs": [
    {
     "data": {
      "text/plain": [
       "<matplotlib.text.Text at 0x7f6b641c8dd8>"
      ]
     },
     "execution_count": 110,
     "metadata": {},
     "output_type": "execute_result"
    },
    {
     "data": {
      "image/png": "[encoded data removed]",
      "text/plain": [
       "<matplotlib.figure.Figure at 0x7f6b6421a5c0>"
      ]
     },
     "metadata": {},
     "output_type": "display_data"
    }
   ],
   "source": [
    "# Plot new predictions versus new data outcomes\n",
    "plt.scatter(valid_outcomes_list, y_valid_pred_list, c = \"black\", alpha = 0.15)\n",
    "\n",
    "axes = plt.gca()\n",
    "\n",
    "axes.set_xlim([0, 24])\n",
    "\n",
    "axes.set_ylim([0, 24])\n",
    "\n",
    "axes.set_xticks([0, 4, 8, 12, 16, 20, 24])\n",
    "\n",
    "axes.set_yticks([0, 4, 8, 12, 16, 20, 24])\n",
    "\n",
    "plt.plot([0, 24], [0, 24], 'k-', lw = 2)\n",
    "\n",
    "axes.set_xlabel(\"Actual Outcome (Log-Transformed US Dollars)\")\n",
    "\n",
    "axes.set_ylabel(\"Model Prediction (Log-Transformed US Dollars)\")\n",
    "\n",
    "axes.set_title(\"Model Performance\")"
   ]
  },
  {
   "cell_type": "code",
   "execution_count": 111,
   "metadata": {
    "collapsed": false
   },
   "outputs": [
    {
     "data": {
      "text/plain": [
       "Parameter containing:\n",
       "\n",
       "Columns 0 to 9 \n",
       "1.00000e-02 *\n",
       "  3.0725  0.2862 -0.1286 -1.5020  1.4820 -2.7199  0.2057  0.2594  3.9689  1.3409\n",
       "\n",
       "Columns 10 to 19 \n",
       "1.00000e-02 *\n",
       " -0.0607 -1.3752  1.3030 -2.0414  0.6833  0.5890  0.6235 -0.6528  3.2012  0.3652\n",
       "\n",
       "Columns 20 to 23 \n",
       "1.00000e-02 *\n",
       "  5.0232 -4.0452  3.1468 -2.0732\n",
       "[torch.FloatTensor of size 1x24]"
      ]
     },
     "execution_count": 111,
     "metadata": {},
     "output_type": "execute_result"
    }
   ],
   "source": [
    "model[(0)].weight"
   ]
  }
 ],
 "metadata": {
  "kernelspec": {
   "display_name": "Python 3",
   "language": "python",
   "name": "python3"
  },
  "language_info": {
   "codemirror_mode": {
    "name": "ipython",
    "version": 3
   },
   "file_extension": ".py",
   "mimetype": "text/x-python",
   "name": "python",
   "nbconvert_exporter": "python",
   "pygments_lexer": "ipython3",
   "version": "3.6.0"
  }
 },
 "nbformat": 4,
 "nbformat_minor": 2
}
