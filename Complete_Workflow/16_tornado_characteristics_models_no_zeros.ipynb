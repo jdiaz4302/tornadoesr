{
 "cells": [
  {
   "cell_type": "markdown",
   "metadata": {},
   "source": [
    "## Setup"
   ]
  },
  {
   "cell_type": "code",
   "execution_count": 1,
   "metadata": {
    "collapsed": true
   },
   "outputs": [],
   "source": [
    "# Packages\n",
    "import pandas as pd\n",
    "import torch\n",
    "from torch.autograd import Variable\n",
    "import numpy as np\n",
    "import matplotlib.pyplot as plt\n",
    "plt.style.use('seaborn-whitegrid')\n",
    "%matplotlib inline\n",
    "import pylab\n",
    "import math"
   ]
  },
  {
   "cell_type": "markdown",
   "metadata": {},
   "source": [
    "Importing and formatting the training data"
   ]
  },
  {
   "cell_type": "code",
   "execution_count": 2,
   "metadata": {
    "collapsed": false
   },
   "outputs": [],
   "source": [
    "# Import data\n",
    "tor_df = pd.read_csv(\"/home/jeremy/github_tornadoesr/data/raw/tor_train_set_no_zeros.csv\")"
   ]
  },
  {
   "cell_type": "code",
   "execution_count": 3,
   "metadata": {
    "collapsed": false
   },
   "outputs": [
    {
     "data": {
      "text/plain": [
       "['DAMAGE_PROPERTY']"
      ]
     },
     "execution_count": 3,
     "metadata": {},
     "output_type": "execute_result"
    }
   ],
   "source": [
    "# Seperating variables\n",
    "# The outcomes\n",
    "tornado_outcome = tor_df.iloc[:, [0]]\n",
    "\n",
    "\n",
    "# Make sure variable is right\n",
    "list(tornado_outcome)"
   ]
  },
  {
   "cell_type": "code",
   "execution_count": 4,
   "metadata": {
    "collapsed": false
   },
   "outputs": [
    {
     "data": {
      "text/plain": [
       "['DURATION_SECONDS',\n",
       " 'TOR_LENGTH',\n",
       " 'TOR_WIDTH',\n",
       " 'YEAR',\n",
       " 'MULTI_VORT_IND',\n",
       " 'TOR_AREA',\n",
       " 'DAY_OF_YEAR',\n",
       " 'MONTH',\n",
       " 'TIME']"
      ]
     },
     "execution_count": 4,
     "metadata": {},
     "output_type": "execute_result"
    }
   ],
   "source": [
    "# The predictors\n",
    "tornado_predictors = tor_df.loc[:, [\"DURATION_SECONDS\",\n",
    "                                  \"TOR_LENGTH\",\n",
    "                                  \"TOR_WIDTH\",\n",
    "                                  \"YEAR\",\n",
    "                                  \"MULTI_VORT_IND\",\n",
    "                                  \"TOR_AREA\",\n",
    "                                  \"DAY_OF_YEAR\",\n",
    "                                  \"MONTH\",\n",
    "                                  \"TIME\"]]\n",
    "\n",
    "\n",
    "# Make sure the variables are right\n",
    "list(tornado_predictors)"
   ]
  },
  {
   "cell_type": "code",
   "execution_count": 5,
   "metadata": {
    "collapsed": false
   },
   "outputs": [],
   "source": [
    "# Make the outcomes into a numpy array\n",
    "outcome_array = tornado_outcome.values\n",
    "\n",
    "# Makes that numpy array into a torch Tensor\n",
    "outcome_Tensor = torch.from_numpy(outcome_array)\n",
    "\n",
    "\n",
    "# Make the predictors into a numpy array\n",
    "predictors_array = tornado_predictors.values\n",
    "\n",
    "# Make that numpy array into a torch Tensor\n",
    "predictors_Tensor = torch.from_numpy(predictors_array)\n",
    "\n",
    "\n",
    "# Convert those DoubleTensors to FloatTensors\n",
    "# Changing outcomes from a DoubleTensor to a FloatTensor\n",
    "outcome_Tensor = outcome_Tensor.float()\n",
    "\n",
    "# Changing predictors too\n",
    "predictors_Tensor = predictors_Tensor.float()"
   ]
  },
  {
   "cell_type": "markdown",
   "metadata": {},
   "source": [
    "Now the cross-validation data"
   ]
  },
  {
   "cell_type": "code",
   "execution_count": 6,
   "metadata": {
    "collapsed": false
   },
   "outputs": [
    {
     "data": {
      "text/plain": [
       "['DAMAGE_PROPERTY']"
      ]
     },
     "execution_count": 6,
     "metadata": {},
     "output_type": "execute_result"
    }
   ],
   "source": [
    "# Import cross-validation data\n",
    "cv_df = pd.read_csv(\"/home/jeremy/github_tornadoesr/data/raw/tor_cv_set_no_zeros.csv\")\n",
    "\n",
    "\n",
    "# Get the outcomes\n",
    "cv_outcome = cv_df.iloc[:, [0]]\n",
    "\n",
    "# Convert the pandas column to a ndarray and then into a FloatTensor\n",
    "cv_outcome_Tensor = torch.from_numpy(cv_outcome.values).float()\n",
    "\n",
    "\n",
    "# Make sure the variable is right\n",
    "list(cv_outcome)"
   ]
  },
  {
   "cell_type": "code",
   "execution_count": 7,
   "metadata": {
    "collapsed": false
   },
   "outputs": [
    {
     "data": {
      "text/plain": [
       "['DURATION_SECONDS',\n",
       " 'TOR_LENGTH',\n",
       " 'TOR_WIDTH',\n",
       " 'YEAR',\n",
       " 'MULTI_VORT_IND',\n",
       " 'TOR_AREA',\n",
       " 'DAY_OF_YEAR',\n",
       " 'MONTH',\n",
       " 'TIME']"
      ]
     },
     "execution_count": 7,
     "metadata": {},
     "output_type": "execute_result"
    }
   ],
   "source": [
    "# Get the validation set predictors\n",
    "cv_predictors = cv_df.loc[:, [\"DURATION_SECONDS\",\n",
    "                              \"TOR_LENGTH\",\n",
    "                              \"TOR_WIDTH\",\n",
    "                              \"YEAR\",\n",
    "                              \"MULTI_VORT_IND\",\n",
    "                              \"TOR_AREA\",\n",
    "                              \"DAY_OF_YEAR\",\n",
    "                              \"MONTH\",\n",
    "                              \"TIME\"]]\n",
    "\n",
    "# Make the validation set predictors into a numpy array\n",
    "cv_predictors_Tensor = torch.from_numpy(cv_predictors.values).float()\n",
    "\n",
    "\n",
    "# Make sure the variables are right\n",
    "list(cv_predictors)"
   ]
  },
  {
   "cell_type": "markdown",
   "metadata": {},
   "source": [
    "Now the test set data"
   ]
  },
  {
   "cell_type": "code",
   "execution_count": 8,
   "metadata": {
    "collapsed": false
   },
   "outputs": [
    {
     "data": {
      "text/plain": [
       "['DAMAGE_PROPERTY']"
      ]
     },
     "execution_count": 8,
     "metadata": {},
     "output_type": "execute_result"
    }
   ],
   "source": [
    "# Import the test set data\n",
    "test_df = pd.read_csv(\"/home/jeremy/github_tornadoesr/data/raw/tor_test_set_no_zeros.csv\")\n",
    "\n",
    "\n",
    "# Get the outcomes\n",
    "test_outcome = test_df.iloc[:, [0]]\n",
    "\n",
    "# Convert the pandas column to a ndarray and then into a FloatTensor\n",
    "test_outcome_Tensor = torch.from_numpy(test_outcome.values).float()\n",
    "\n",
    "\n",
    "# Make sure the variable is right\n",
    "list(test_outcome)"
   ]
  },
  {
   "cell_type": "code",
   "execution_count": 9,
   "metadata": {
    "collapsed": false
   },
   "outputs": [
    {
     "data": {
      "text/plain": [
       "['DURATION_SECONDS',\n",
       " 'TOR_LENGTH',\n",
       " 'TOR_WIDTH',\n",
       " 'YEAR',\n",
       " 'MULTI_VORT_IND',\n",
       " 'TOR_AREA',\n",
       " 'DAY_OF_YEAR',\n",
       " 'MONTH',\n",
       " 'TIME']"
      ]
     },
     "execution_count": 9,
     "metadata": {},
     "output_type": "execute_result"
    }
   ],
   "source": [
    "# Get the test set predictors\n",
    "test_predictors = test_df.loc[:, [\"DURATION_SECONDS\",\n",
    "                                  \"TOR_LENGTH\",\n",
    "                                  \"TOR_WIDTH\",\n",
    "                                  \"YEAR\",\n",
    "                                  \"MULTI_VORT_IND\",\n",
    "                                  \"TOR_AREA\",\n",
    "                                  \"DAY_OF_YEAR\",\n",
    "                                  \"MONTH\",\n",
    "                                  \"TIME\"]]\n",
    "\n",
    "# Make the test set predictors into a numpy array\n",
    "test_predictors_Tensor = torch.from_numpy(test_predictors.values).float()\n",
    "\n",
    "\n",
    "# Make sure the variables are right\n",
    "list(test_predictors)"
   ]
  },
  {
   "cell_type": "markdown",
   "metadata": {},
   "source": [
    "## 1. One-Hidden-Layer Neural Network"
   ]
  },
  {
   "cell_type": "markdown",
   "metadata": {},
   "source": [
    "Define the model architecture"
   ]
  },
  {
   "cell_type": "code",
   "execution_count": 10,
   "metadata": {
    "collapsed": false
   },
   "outputs": [],
   "source": [
    "# Define the neural network\n",
    "class Net(torch.nn.Module):\n",
    "    \n",
    "    def __init__(self):\n",
    "        super(Net, self).__init__()\n",
    "        self.fc1 = torch.nn.Linear(9, 6)\n",
    "        self.fc2 = torch.nn.Linear(6, 1)\n",
    "        \n",
    "    def forward(self, x):\n",
    "        x = torch.nn.functional.relu(self.fc1(x))\n",
    "        x = self.fc2(x)\n",
    "        return(x)\n",
    "\n",
    "\n",
    "# Make it\n",
    "model = Net()"
   ]
  },
  {
   "cell_type": "markdown",
   "metadata": {},
   "source": [
    "Define the loss function"
   ]
  },
  {
   "cell_type": "code",
   "execution_count": 11,
   "metadata": {
    "collapsed": true
   },
   "outputs": [],
   "source": [
    "loss_fn = torch.nn.MSELoss(size_average = False)"
   ]
  },
  {
   "cell_type": "markdown",
   "metadata": {},
   "source": [
    "Defining a function to setup and train the models. It will also produce a loss versus iteration plot"
   ]
  },
  {
   "cell_type": "code",
   "execution_count": 12,
   "metadata": {
    "collapsed": false
   },
   "outputs": [],
   "source": [
    "def train_neural_net(model, train_outcomes, train_inputs,\n",
    "                     cv_outcomes, cv_inputs):\n",
    "    \n",
    "    # This function will train the neural network and produce a loss versus iteration plot\n",
    "    # model = the model architecture\n",
    "    # train_outcomes = the right answers\n",
    "    # train_inputs = what we're using to get to the right answers\n",
    "    # cv_outcomes = the right answers of the new data\n",
    "    # cv_inputs = what we're using to get the new right answers\n",
    "    \n",
    "    \n",
    "    # Make the outcomes into a Torch Variable\n",
    "    outcome_Variable = Variable(train_outcomes)\n",
    "    \n",
    "    # Make the cv outcomes into a Torch Variable\n",
    "    cv_outcome_Variable = Variable(cv_outcomes,\n",
    "                                   requires_grad = False)\n",
    "    \n",
    "    # Make the predictors into a Torch Variable\n",
    "    predictors_Variable = Variable(train_inputs,\n",
    "                                   requires_grad = False)\n",
    "    \n",
    "    # Make the cv predictors into a Torch Variable\n",
    "    cv_predictors_Variable = Variable(cv_inputs,\n",
    "                                      requires_grad = False)\n",
    "    \n",
    "    \n",
    "    # Make an empty list to add to for each iteration\n",
    "    current_loss_value = []\n",
    "    \n",
    "    # For the cv too\n",
    "    current_cv_loss_value = []\n",
    "    \n",
    "    \n",
    "    # Set the optimizer\n",
    "    optimizer = torch.optim.Adagrad(model.parameters(), lr = 1e-2)\n",
    "    \n",
    "    \n",
    "    # Train the neural network\n",
    "    for t in range(15000):\n",
    "        \n",
    "        # Get the current predictions\n",
    "        current_pred = model(predictors_Variable)\n",
    "        cv_pred = model(cv_predictors_Variable)\n",
    "        \n",
    "        # Compute current loss and and append that to the empty list\n",
    "        current_loss = loss_fn(current_pred, outcome_Variable)\n",
    "        current_loss_value.append(current_loss.data[0])\n",
    "        \n",
    "        current_cv_loss = loss_fn(cv_pred, cv_outcome_Variable)\n",
    "        current_cv_loss_value.append(current_cv_loss.data[0])\n",
    "        \n",
    "        # Zero the gradients before backwards pass\n",
    "        optimizer.zero_grad()\n",
    "        \n",
    "        # Backwards pass\n",
    "        current_loss.backward()\n",
    "        \n",
    "        # Update model parameters\n",
    "        optimizer.step()\n",
    "    \n",
    "    \n",
    "    # Get iterations as a list for x-axis of plot\n",
    "    iterations = list(range(0, 15000))\n",
    "    \n",
    "    \n",
    "    # Convert total square error to mean square error\n",
    "    mse = (np.asarray(current_loss_value) / len(predictors_Variable)).tolist()\n",
    "    \n",
    "    # For cv too\n",
    "    mse_cv = (np.asarray(current_cv_loss_value) / len(cv_predictors_Variable)).tolist()\n",
    "    \n",
    "    \n",
    "    # Plot loss versus iteration\n",
    "    plt.plot(iterations, mse)\n",
    "    plt.plot(iterations, mse_cv, \"r-\")\n",
    "    plt.xlabel(\"Iteration\")\n",
    "    plt.ylabel(\"Loss Value\")\n",
    "    plt.title(\"How'd the Optimizing Go?\")"
   ]
  },
  {
   "cell_type": "markdown",
   "metadata": {},
   "source": [
    "Train the first model.\n",
    "\n",
    "The plot will display how well it optimized. The blue line is the data the model was optimized on, while the red line is new (cross-validation) data."
   ]
  },
  {
   "cell_type": "code",
   "execution_count": 13,
   "metadata": {
    "collapsed": false
   },
   "outputs": [
    {
     "data": {
      "image/png": "[encoded data removed]",
      "text/plain": [
       "<matplotlib.figure.Figure at 0x7f2a3ab89898>"
      ]
     },
     "metadata": {},
     "output_type": "display_data"
    }
   ],
   "source": [
    "train_neural_net(model, outcome_Tensor, predictors_Tensor,\n",
    "                 cv_outcome_Tensor, cv_predictors_Tensor)"
   ]
  },
  {
   "cell_type": "markdown",
   "metadata": {},
   "source": [
    "### 1.1 Performance Metrics"
   ]
  },
  {
   "cell_type": "markdown",
   "metadata": {},
   "source": [
    "We're really interested in how it does on new data, so let's get some metrics of its performance on the new data.\n",
    "\n",
    "First: Mean squared error (MSE)"
   ]
  },
  {
   "cell_type": "code",
   "execution_count": 14,
   "metadata": {
    "collapsed": false
   },
   "outputs": [],
   "source": [
    "def compute_MSE(predictors, observed_outcomes):\n",
    "    \n",
    "    # Computes the mean squared error of the model\n",
    "    # predictors = the variables and values used in prediction\n",
    "    # observed_outcomes = what the prediction would ideally yield\n",
    "\n",
    "    \n",
    "    # Get the validation set predictions\n",
    "    cv_predictions = model(Variable(predictors, requires_grad = False))\n",
    "    \n",
    "    # Get the validation set outcomes\n",
    "    cv_outcomes = Variable(observed_outcomes)\n",
    "    \n",
    "    \n",
    "    # Get the loss - (total) residual sum of squares\n",
    "    total_SE = loss_fn(cv_predictions, cv_outcomes)\n",
    "    \n",
    "    # Average that to get mean square error\n",
    "    mean_SE = total_SE / len(predictors)\n",
    "    return(mean_SE)"
   ]
  },
  {
   "cell_type": "code",
   "execution_count": 15,
   "metadata": {
    "collapsed": false
   },
   "outputs": [
    {
     "data": {
      "text/plain": [
       "Variable containing:\n",
       " 0.1087\n",
       "[torch.FloatTensor of size 1]"
      ]
     },
     "execution_count": 15,
     "metadata": {},
     "output_type": "execute_result"
    }
   ],
   "source": [
    "MSE = compute_MSE(cv_predictors_Tensor, cv_outcome_Tensor)\n",
    "MSE"
   ]
  },
  {
   "cell_type": "code",
   "execution_count": 16,
   "metadata": {
    "collapsed": false
   },
   "outputs": [],
   "source": [
    "def compute_R_squared(predictors, observed_outcomes):\n",
    "    \n",
    "    # Computes R-squared of the model\n",
    "    # predictors = the variables and values used in prediction\n",
    "    # observed_outcomes = what the prediction would ideally yield\n",
    "    \n",
    "    \n",
    "    # Get the mean of the observed outcomes\n",
    "    observed_mean = (sum(observed_outcomes) / len(observed_outcomes)).numpy()[0]\n",
    "    \n",
    "    # Fill an ndarray with that\n",
    "    valid_outcomes_mean = np.repeat(observed_mean, len(observed_outcomes))\n",
    "    \n",
    "    # Convert that to a Variable\n",
    "    valid_outcomes_mean = Variable(torch.from_numpy(valid_outcomes_mean))\n",
    "    \n",
    "    \n",
    "    # Compute total sum of squares\n",
    "    TSS = loss_fn(valid_outcomes_mean, Variable(observed_outcomes))\n",
    "    \n",
    "    \n",
    "    # Compute residual sum of squares\n",
    "    RSS = loss_fn(model(Variable(predictors)), Variable(observed_outcomes))\n",
    "    \n",
    "    \n",
    "    # Compute R-squared\n",
    "    R_squared = 1 - (RSS / TSS)\n",
    "    return(R_squared)"
   ]
  },
  {
   "cell_type": "code",
   "execution_count": 17,
   "metadata": {
    "collapsed": false
   },
   "outputs": [
    {
     "data": {
      "text/plain": [
       "Variable containing:\n",
       " 0.3580\n",
       "[torch.FloatTensor of size 1]"
      ]
     },
     "execution_count": 17,
     "metadata": {},
     "output_type": "execute_result"
    }
   ],
   "source": [
    "R_squared = compute_R_squared(cv_predictors_Tensor, cv_outcome_Tensor)\n",
    "R_squared"
   ]
  },
  {
   "cell_type": "markdown",
   "metadata": {},
   "source": [
    "### 1.2 Performance Visualization"
   ]
  },
  {
   "cell_type": "markdown",
   "metadata": {},
   "source": [
    "In log-transformed space, plot predicted values versus observed values for new data"
   ]
  },
  {
   "cell_type": "code",
   "execution_count": 18,
   "metadata": {
    "collapsed": true
   },
   "outputs": [],
   "source": [
    "def plot_cross_valid_perf(cv_predictors, cv_obs):\n",
    "    \n",
    "    # Plots how well the model performs on new data\n",
    "    # cv_pred = the values that the model predicts from\n",
    "    # cv_obs = what the model would ideally predict\n",
    "    \n",
    "    \n",
    "    # Get the predictions\n",
    "    cv_predictions = model(Variable(cv_predictors, requires_grad = False))\n",
    "    \n",
    "    # Convert that to a numpy array\n",
    "    cv_predictions = cv_predictions.data.numpy()\n",
    "    \n",
    "    # Put it in log-transformed scale and convert it to a list\n",
    "    cv_predictions = (cv_predictions*5.407597 + 7.688844).tolist()\n",
    "    \n",
    "    \n",
    "    # Put the observed outcomes in log-transformed scale\n",
    "    # and convert it to a list\n",
    "    cv_obs = (cv_obs.numpy()*5.407597 + 7.688844).tolist()\n",
    "    \n",
    "    \n",
    "    # Plot it\n",
    "    plt.scatter(cv_obs, cv_predictions, facecolors = \"none\", edgecolors = \"k\")\n",
    "    axes = plt.gca()\n",
    "    axes.set_xlim([-1, 24])\n",
    "    axes.set_ylim([-1, 24])\n",
    "    axes.set_xticks([0, 3, 6, 9, 12, 15, 18, 21, 24])\n",
    "    axes.set_yticks([0, 3, 6, 9, 12, 15, 18, 21, 24])\n",
    "    plt.plot([-1, 24], [-1, 24], 'k-', lw = 2)\n",
    "    axes.set_xlabel(\"Observed (Log-Transformed US Dollars + 1)\")\n",
    "    axes.set_ylabel(\"Predicted (Log-Transformed US Dollars + 1)\")\n",
    "    axes.set_title(\"Model Performance on Cross-Validation Data\")\n",
    "    plt.text(0.5, 21, r\"$R^2$ = %s\"%(R_squared.data.numpy()[0]))\n",
    "    plt.text(0.5, 19, \"MSE = %s\"%(MSE.data.numpy()[0]))"
   ]
  },
  {
   "cell_type": "code",
   "execution_count": 19,
   "metadata": {
    "collapsed": false
   },
   "outputs": [
    {
     "data": {
      "image/png": "[encoded data removed]",
      "text/plain": [
       "<matplotlib.figure.Figure at 0x7f2a8db88a90>"
      ]
     },
     "metadata": {},
     "output_type": "display_data"
    }
   ],
   "source": [
    "plot_cross_valid_perf(cv_predictors_Tensor, cv_outcome_Tensor)"
   ]
  },
  {
   "cell_type": "markdown",
   "metadata": {},
   "source": [
    "Lastly, let's inspect the first hidden layer's weights"
   ]
  },
  {
   "cell_type": "code",
   "execution_count": 20,
   "metadata": {
    "collapsed": false
   },
   "outputs": [
    {
     "data": {
      "text/plain": [
       "Parameter containing:\n",
       " 0.0896 -0.8569 -0.3610 -0.0043 -0.8761  0.0263 -0.0084  0.0395  0.0243\n",
       "-0.0627  0.2694  0.3291  0.0120  0.0922  0.4831  0.0470  0.0305 -0.0017\n",
       " 0.4857 -0.7159 -0.2715  0.1192 -0.6374 -0.0564 -0.0309 -0.1772  0.2286\n",
       "-0.1493  0.2180  0.1756 -0.0439 -0.3677  0.1870 -0.2245 -0.1731 -0.4415\n",
       " 0.3242  0.1790  0.2598 -0.2342 -0.0278  0.1765 -0.0553  0.0737  0.0857\n",
       "-0.3308 -0.1135 -0.1180 -0.1466 -0.7416 -0.1353  0.2778  0.1847 -0.0998\n",
       "[torch.FloatTensor of size 6x9]"
      ]
     },
     "execution_count": 20,
     "metadata": {},
     "output_type": "execute_result"
    }
   ],
   "source": [
    "model.fc1.weight"
   ]
  },
  {
   "cell_type": "markdown",
   "metadata": {},
   "source": [
    "### 1.3 Store Predictions"
   ]
  },
  {
   "cell_type": "code",
   "execution_count": 21,
   "metadata": {
    "collapsed": true
   },
   "outputs": [],
   "source": [
    "def obs_as_col(obs_Tens):\n",
    "    \n",
    "    # Saves observed outcomes as a pandas column\n",
    "    # obs_Tens = a Tensor containing observed outcomes\n",
    "    \n",
    "    \n",
    "    # Convert the Tensor to a list\n",
    "    obs_list = obs_Tens.numpy().tolist()\n",
    "    \n",
    "    \n",
    "    # Make an empty list\n",
    "    obs_flat_list = []\n",
    "    \n",
    "    \n",
    "    # Unnest the Tensor-list into the empty list\n",
    "    for sublist in obs_list:\n",
    "        for val in sublist:\n",
    "            obs_flat_list.append(val)\n",
    "    \n",
    "    \n",
    "    # Turn that list into a pandas DataFrame\n",
    "    obs_pd_column = pd.DataFrame(obs_flat_list)\n",
    "    return(obs_pd_column)"
   ]
  },
  {
   "cell_type": "code",
   "execution_count": 22,
   "metadata": {
    "collapsed": true
   },
   "outputs": [],
   "source": [
    "cv_stored = obs_as_col(cv_outcome_Tensor)\n",
    "\n",
    "cv_stored.columns = [\"observed\"]"
   ]
  },
  {
   "cell_type": "code",
   "execution_count": 23,
   "metadata": {
    "collapsed": true
   },
   "outputs": [],
   "source": [
    "test_stored = obs_as_col(test_outcome_Tensor)\n",
    "\n",
    "test_stored.columns = [\"observed\"]"
   ]
  },
  {
   "cell_type": "code",
   "execution_count": 24,
   "metadata": {
    "collapsed": false
   },
   "outputs": [],
   "source": [
    "def add_to_stored(new_col_name, pred_Tens, already_made):\n",
    "    \n",
    "    model_pred = model(Variable(pred_Tens)).resize(len(pred_Tens))\n",
    "    \n",
    "    model_pred = model_pred.data.numpy()\n",
    "    \n",
    "    already_made[new_col_name] = pd.Series(model_pred, index = already_made.index)"
   ]
  },
  {
   "cell_type": "code",
   "execution_count": 25,
   "metadata": {
    "collapsed": false
   },
   "outputs": [],
   "source": [
    "add_to_stored(\"cv_pred_1\", cv_predictors_Tensor, cv_stored)\n",
    "\n",
    "add_to_stored(\"test_pred_1\", test_predictors_Tensor, test_stored)"
   ]
  },
  {
   "cell_type": "markdown",
   "metadata": {},
   "source": [
    "## 2. Two-Hidden-Layer Neural Network"
   ]
  },
  {
   "cell_type": "code",
   "execution_count": 26,
   "metadata": {
    "collapsed": true
   },
   "outputs": [],
   "source": [
    "# Define the neural network\n",
    "class Net(torch.nn.Module):\n",
    "    \n",
    "    def __init__(self):\n",
    "        super(Net, self).__init__()\n",
    "        self.fc1 = torch.nn.Linear(9, 6)\n",
    "        self.fc2 = torch.nn.Linear(6, 4)\n",
    "        self.fc3 = torch.nn.Linear(4, 1)\n",
    "        \n",
    "    def forward(self, x):\n",
    "        x = torch.nn.functional.relu(self.fc1(x))\n",
    "        x = torch.nn.functional.relu(self.fc2(x))\n",
    "        x = self.fc3(x)\n",
    "        return(x)\n",
    "\n",
    "\n",
    "# Make it\n",
    "model = Net()"
   ]
  },
  {
   "cell_type": "code",
   "execution_count": 27,
   "metadata": {
    "collapsed": false
   },
   "outputs": [
    {
     "data": {
      "image/png": "[encoded data removed]",
      "text/plain": [
       "<matplotlib.figure.Figure at 0x7f2a37771898>"
      ]
     },
     "metadata": {},
     "output_type": "display_data"
    }
   ],
   "source": [
    "train_neural_net(model, outcome_Tensor, predictors_Tensor,\n",
    "                 cv_outcome_Tensor, cv_predictors_Tensor)"
   ]
  },
  {
   "cell_type": "markdown",
   "metadata": {},
   "source": [
    "### 2.1 Performance Metrics"
   ]
  },
  {
   "cell_type": "code",
   "execution_count": 28,
   "metadata": {
    "collapsed": false
   },
   "outputs": [
    {
     "data": {
      "text/plain": [
       "Variable containing:\n",
       " 0.1096\n",
       "[torch.FloatTensor of size 1]"
      ]
     },
     "execution_count": 28,
     "metadata": {},
     "output_type": "execute_result"
    }
   ],
   "source": [
    "MSE = compute_MSE(cv_predictors_Tensor, cv_outcome_Tensor)\n",
    "MSE"
   ]
  },
  {
   "cell_type": "code",
   "execution_count": 29,
   "metadata": {
    "collapsed": false
   },
   "outputs": [
    {
     "data": {
      "text/plain": [
       "Variable containing:\n",
       " 0.3527\n",
       "[torch.FloatTensor of size 1]"
      ]
     },
     "execution_count": 29,
     "metadata": {},
     "output_type": "execute_result"
    }
   ],
   "source": [
    "R_squared = compute_R_squared(cv_predictors_Tensor, cv_outcome_Tensor)\n",
    "R_squared"
   ]
  },
  {
   "cell_type": "markdown",
   "metadata": {},
   "source": [
    "### 2.2 Performance Visualization"
   ]
  },
  {
   "cell_type": "code",
   "execution_count": 30,
   "metadata": {
    "collapsed": false
   },
   "outputs": [
    {
     "data": {
      "image/png": "[encoded data removed]",
      "text/plain": [
       "<matplotlib.figure.Figure at 0x7f2a35e248d0>"
      ]
     },
     "metadata": {},
     "output_type": "display_data"
    }
   ],
   "source": [
    "plot_cross_valid_perf(cv_predictors_Tensor, cv_outcome_Tensor)"
   ]
  },
  {
   "cell_type": "code",
   "execution_count": 31,
   "metadata": {
    "collapsed": false
   },
   "outputs": [
    {
     "data": {
      "text/plain": [
       "Parameter containing:\n",
       "-0.0362  0.2788 -0.0086  0.2438 -0.0814 -0.0941 -0.1656  0.0884  0.1220\n",
       " 0.2083 -0.0129  0.1802  0.3156  0.2579  0.0240 -0.2643  0.0667  0.0486\n",
       " 0.0510 -0.0431  0.2946 -0.3078 -0.0671  0.3139  0.2132  0.2483  0.0466\n",
       "-0.1528  0.2352 -0.1078  0.5316 -0.3176 -0.1630 -0.0488  0.1890  0.1643\n",
       "-0.0733  0.3064  0.3658 -0.3074 -0.1620 -0.1312 -0.4044  0.1211 -0.1700\n",
       " 0.1078  0.0442 -0.0803  0.0657 -0.2499 -0.1452 -0.5956  0.1156 -0.1078\n",
       "[torch.FloatTensor of size 6x9]"
      ]
     },
     "execution_count": 31,
     "metadata": {},
     "output_type": "execute_result"
    }
   ],
   "source": [
    "model.fc1.weight"
   ]
  },
  {
   "cell_type": "markdown",
   "metadata": {},
   "source": [
    "### 2.3 Store Predictions"
   ]
  },
  {
   "cell_type": "code",
   "execution_count": 32,
   "metadata": {
    "collapsed": true
   },
   "outputs": [],
   "source": [
    "add_to_stored(\"cv_pred_2\", cv_predictors_Tensor, cv_stored)\n",
    "\n",
    "add_to_stored(\"test_pred_2\", test_predictors_Tensor, test_stored)"
   ]
  },
  {
   "cell_type": "markdown",
   "metadata": {},
   "source": [
    "## 3. Three-Hidden-Layer Neural Network"
   ]
  },
  {
   "cell_type": "code",
   "execution_count": 33,
   "metadata": {
    "collapsed": true
   },
   "outputs": [],
   "source": [
    "# Define the neural network\n",
    "class Net(torch.nn.Module):\n",
    "    \n",
    "    def __init__(self):\n",
    "        super(Net, self).__init__()\n",
    "        self.fc1 = torch.nn.Linear(9, 6)\n",
    "        self.fc2 = torch.nn.Linear(6, 4)\n",
    "        self.fc3 = torch.nn.Linear(4, 3)\n",
    "        self.fc4 = torch.nn.Linear(3, 1)\n",
    "        \n",
    "    def forward(self, x):\n",
    "        x = torch.nn.functional.relu(self.fc1(x))\n",
    "        x = torch.nn.functional.relu(self.fc2(x))\n",
    "        x = torch.nn.functional.relu(self.fc3(x))\n",
    "        x = self.fc4(x)\n",
    "        return(x)\n",
    "\n",
    "\n",
    "# Make it\n",
    "model = Net()"
   ]
  },
  {
   "cell_type": "code",
   "execution_count": 34,
   "metadata": {
    "collapsed": false
   },
   "outputs": [
    {
     "data": {
      "image/png": "[encoded data removed]",
      "text/plain": [
       "<matplotlib.figure.Figure at 0x7f2a37846e10>"
      ]
     },
     "metadata": {},
     "output_type": "display_data"
    }
   ],
   "source": [
    "train_neural_net(model, outcome_Tensor, predictors_Tensor,\n",
    "                 cv_outcome_Tensor, cv_predictors_Tensor)"
   ]
  },
  {
   "cell_type": "markdown",
   "metadata": {},
   "source": [
    "### 3.1 Performance Metrics"
   ]
  },
  {
   "cell_type": "code",
   "execution_count": 35,
   "metadata": {
    "collapsed": false
   },
   "outputs": [
    {
     "data": {
      "text/plain": [
       "Variable containing:\n",
       " 0.1085\n",
       "[torch.FloatTensor of size 1]"
      ]
     },
     "execution_count": 35,
     "metadata": {},
     "output_type": "execute_result"
    }
   ],
   "source": [
    "MSE = compute_MSE(cv_predictors_Tensor, cv_outcome_Tensor)\n",
    "MSE"
   ]
  },
  {
   "cell_type": "code",
   "execution_count": 36,
   "metadata": {
    "collapsed": false
   },
   "outputs": [
    {
     "data": {
      "text/plain": [
       "Variable containing:\n",
       " 0.3593\n",
       "[torch.FloatTensor of size 1]"
      ]
     },
     "execution_count": 36,
     "metadata": {},
     "output_type": "execute_result"
    }
   ],
   "source": [
    "R_squared = compute_R_squared(cv_predictors_Tensor, cv_outcome_Tensor)\n",
    "R_squared"
   ]
  },
  {
   "cell_type": "markdown",
   "metadata": {},
   "source": [
    "### 3.2 Performance Visualization"
   ]
  },
  {
   "cell_type": "code",
   "execution_count": 37,
   "metadata": {
    "collapsed": false
   },
   "outputs": [
    {
     "data": {
      "image/png": "[encoded data removed]",
      "text/plain": [
       "<matplotlib.figure.Figure at 0x7f2a35ee2b00>"
      ]
     },
     "metadata": {},
     "output_type": "display_data"
    }
   ],
   "source": [
    "plot_cross_valid_perf(cv_predictors_Tensor, cv_outcome_Tensor)"
   ]
  },
  {
   "cell_type": "code",
   "execution_count": 38,
   "metadata": {
    "collapsed": false
   },
   "outputs": [
    {
     "data": {
      "text/plain": [
       "Parameter containing:\n",
       "-0.0278 -0.0453  0.4756 -0.3480  0.2010  0.1534 -0.0736 -0.1356  0.1436\n",
       " 0.4380 -0.2235  0.2890  0.1600 -0.4118  0.3357  0.0685 -0.1274  0.2978\n",
       " 0.0629 -0.2233  0.4160 -0.0089  0.3444  0.2743  0.1994  0.0882 -0.1053\n",
       " 0.1179 -0.5322  0.1711 -0.0267  0.1369  0.3391  0.0286  0.0313  0.1385\n",
       " 0.1559 -0.0984  0.1492  0.1033  0.6299  0.1835  0.0463 -0.3269 -0.2328\n",
       "-0.1845  0.4406 -0.2517 -0.3200  0.6118  0.5754 -0.1030  0.1631  0.0423\n",
       "[torch.FloatTensor of size 6x9]"
      ]
     },
     "execution_count": 38,
     "metadata": {},
     "output_type": "execute_result"
    }
   ],
   "source": [
    "model.fc1.weight"
   ]
  },
  {
   "cell_type": "markdown",
   "metadata": {},
   "source": [
    "### 3.3 Store Predictions"
   ]
  },
  {
   "cell_type": "code",
   "execution_count": 39,
   "metadata": {
    "collapsed": true
   },
   "outputs": [],
   "source": [
    "add_to_stored(\"cv_pred_3\", cv_predictors_Tensor, cv_stored)\n",
    "\n",
    "add_to_stored(\"test_pred_3\", test_predictors_Tensor, test_stored)"
   ]
  },
  {
   "cell_type": "markdown",
   "metadata": {},
   "source": [
    "## 4. Four-Hidden-Layer Neural Network"
   ]
  },
  {
   "cell_type": "code",
   "execution_count": 40,
   "metadata": {
    "collapsed": true
   },
   "outputs": [],
   "source": [
    "# Define the neural network\n",
    "class Net(torch.nn.Module):\n",
    "    \n",
    "    def __init__(self):\n",
    "        super(Net, self).__init__()\n",
    "        self.fc1 = torch.nn.Linear(9, 6)\n",
    "        self.fc2 = torch.nn.Linear(6, 4)\n",
    "        self.fc3 = torch.nn.Linear(4, 3)\n",
    "        self.fc4 = torch.nn.Linear(3, 2)\n",
    "        self.fc5 = torch.nn.Linear(2, 1)\n",
    "        \n",
    "    def forward(self, x):\n",
    "        x = torch.nn.functional.relu(self.fc1(x))\n",
    "        x = torch.nn.functional.relu(self.fc2(x))\n",
    "        x = torch.nn.functional.relu(self.fc3(x))\n",
    "        x = torch.nn.functional.relu(self.fc4(x))\n",
    "        x = self.fc5(x)\n",
    "        return(x)\n",
    "\n",
    "\n",
    "# Make it\n",
    "model = Net()"
   ]
  },
  {
   "cell_type": "code",
   "execution_count": 41,
   "metadata": {
    "collapsed": false
   },
   "outputs": [
    {
     "data": {
      "image/png": "[encoded data removed]",
      "text/plain": [
       "<matplotlib.figure.Figure at 0x7f2a3778bc88>"
      ]
     },
     "metadata": {},
     "output_type": "display_data"
    }
   ],
   "source": [
    "train_neural_net(model, outcome_Tensor, predictors_Tensor,\n",
    "                 cv_outcome_Tensor, cv_predictors_Tensor)"
   ]
  },
  {
   "cell_type": "markdown",
   "metadata": {},
   "source": [
    "### 4.1 Performance Metrics"
   ]
  },
  {
   "cell_type": "code",
   "execution_count": 42,
   "metadata": {
    "collapsed": false
   },
   "outputs": [
    {
     "data": {
      "text/plain": [
       "Variable containing:\n",
       " 0.1078\n",
       "[torch.FloatTensor of size 1]"
      ]
     },
     "execution_count": 42,
     "metadata": {},
     "output_type": "execute_result"
    }
   ],
   "source": [
    "MSE = compute_MSE(cv_predictors_Tensor, cv_outcome_Tensor)\n",
    "MSE"
   ]
  },
  {
   "cell_type": "code",
   "execution_count": 43,
   "metadata": {
    "collapsed": false
   },
   "outputs": [
    {
     "data": {
      "text/plain": [
       "Variable containing:\n",
       " 0.3633\n",
       "[torch.FloatTensor of size 1]"
      ]
     },
     "execution_count": 43,
     "metadata": {},
     "output_type": "execute_result"
    }
   ],
   "source": [
    "R_squared = compute_R_squared(cv_predictors_Tensor, cv_outcome_Tensor)\n",
    "R_squared"
   ]
  },
  {
   "cell_type": "markdown",
   "metadata": {},
   "source": [
    "### 4.2 Performance Visualization"
   ]
  },
  {
   "cell_type": "code",
   "execution_count": 44,
   "metadata": {
    "collapsed": false
   },
   "outputs": [
    {
     "data": {
      "image/png": "[encoded data removed]",
      "text/plain": [
       "<matplotlib.figure.Figure at 0x7f2a5dce9b00>"
      ]
     },
     "metadata": {},
     "output_type": "display_data"
    }
   ],
   "source": [
    "plot_cross_valid_perf(cv_predictors_Tensor, cv_outcome_Tensor)"
   ]
  },
  {
   "cell_type": "code",
   "execution_count": 45,
   "metadata": {
    "collapsed": false
   },
   "outputs": [
    {
     "data": {
      "text/plain": [
       "Parameter containing:\n",
       "-0.3765  0.6484  0.0723 -0.1199  0.1498  0.0459 -0.0334  0.2202 -0.0882\n",
       " 0.2810  0.2660  0.3228  0.0589  0.0210 -0.0771 -0.1497  0.0351 -0.5771\n",
       "-0.0843  0.5106  0.0545 -0.0089 -0.5749 -0.6236 -0.1000  0.1204 -0.0206\n",
       " 0.1728 -0.0409  0.2047 -0.4308  0.3204  0.3171  0.3081  0.4782  0.3072\n",
       " 0.6576  0.0790  0.5017  0.1139 -0.7410  0.1719 -0.1317  0.0237  0.2568\n",
       "-0.1455  0.6143  0.4934 -0.5319 -0.0014  0.3221 -0.3599 -0.4998  0.3426\n",
       "[torch.FloatTensor of size 6x9]"
      ]
     },
     "execution_count": 45,
     "metadata": {},
     "output_type": "execute_result"
    }
   ],
   "source": [
    "model.fc1.weight"
   ]
  },
  {
   "cell_type": "markdown",
   "metadata": {},
   "source": [
    "### 4.3 Store Predictions"
   ]
  },
  {
   "cell_type": "code",
   "execution_count": 46,
   "metadata": {
    "collapsed": true
   },
   "outputs": [],
   "source": [
    "add_to_stored(\"cv_pred_4\", cv_predictors_Tensor, cv_stored)\n",
    "\n",
    "add_to_stored(\"test_pred_4\", test_predictors_Tensor, test_stored)"
   ]
  },
  {
   "cell_type": "markdown",
   "metadata": {},
   "source": [
    "## 5. Linear Regression"
   ]
  },
  {
   "cell_type": "code",
   "execution_count": 47,
   "metadata": {
    "collapsed": true
   },
   "outputs": [],
   "source": [
    "# Define the neural network\n",
    "class Net(torch.nn.Module):\n",
    "    \n",
    "    def __init__(self):\n",
    "        super(Net, self).__init__()\n",
    "        self.fc1 = torch.nn.Linear(9, 1)\n",
    "        \n",
    "    def forward(self, x):\n",
    "        x = self.fc1(x)\n",
    "        return(x)\n",
    "\n",
    "\n",
    "# Make it\n",
    "model = Net()"
   ]
  },
  {
   "cell_type": "code",
   "execution_count": 48,
   "metadata": {
    "collapsed": false
   },
   "outputs": [
    {
     "data": {
      "image/png": "[encoded data removed]",
      "text/plain": [
       "<matplotlib.figure.Figure at 0x7f2a35f1d0b8>"
      ]
     },
     "metadata": {},
     "output_type": "display_data"
    }
   ],
   "source": [
    "train_neural_net(model, outcome_Tensor, predictors_Tensor,\n",
    "                 cv_outcome_Tensor, cv_predictors_Tensor)"
   ]
  },
  {
   "cell_type": "markdown",
   "metadata": {},
   "source": [
    "### 5.1 Performance Metrics"
   ]
  },
  {
   "cell_type": "code",
   "execution_count": 49,
   "metadata": {
    "collapsed": false
   },
   "outputs": [
    {
     "data": {
      "text/plain": [
       "Variable containing:\n",
       " 0.1115\n",
       "[torch.FloatTensor of size 1]"
      ]
     },
     "execution_count": 49,
     "metadata": {},
     "output_type": "execute_result"
    }
   ],
   "source": [
    "MSE = compute_MSE(cv_predictors_Tensor, cv_outcome_Tensor)\n",
    "MSE"
   ]
  },
  {
   "cell_type": "code",
   "execution_count": 50,
   "metadata": {
    "collapsed": false
   },
   "outputs": [
    {
     "data": {
      "text/plain": [
       "Variable containing:\n",
       " 0.3411\n",
       "[torch.FloatTensor of size 1]"
      ]
     },
     "execution_count": 50,
     "metadata": {},
     "output_type": "execute_result"
    }
   ],
   "source": [
    "R_squared = compute_R_squared(cv_predictors_Tensor, cv_outcome_Tensor)\n",
    "R_squared"
   ]
  },
  {
   "cell_type": "markdown",
   "metadata": {},
   "source": [
    "### 5.2 Performance Visualization"
   ]
  },
  {
   "cell_type": "code",
   "execution_count": 51,
   "metadata": {
    "collapsed": false
   },
   "outputs": [
    {
     "data": {
      "image/png": "[encoded data removed]",
      "text/plain": [
       "<matplotlib.figure.Figure at 0x7f2a37876c18>"
      ]
     },
     "metadata": {},
     "output_type": "display_data"
    }
   ],
   "source": [
    "plot_cross_valid_perf(cv_predictors_Tensor, cv_outcome_Tensor)"
   ]
  },
  {
   "cell_type": "code",
   "execution_count": 52,
   "metadata": {
    "collapsed": false
   },
   "outputs": [
    {
     "data": {
      "text/plain": [
       "Parameter containing:\n",
       " 0.0073  0.1482  0.1701 -0.0292  0.0149 -0.0424 -0.0328  0.0300  0.0094\n",
       "[torch.FloatTensor of size 1x9]"
      ]
     },
     "execution_count": 52,
     "metadata": {},
     "output_type": "execute_result"
    }
   ],
   "source": [
    "model.fc1.weight"
   ]
  },
  {
   "cell_type": "markdown",
   "metadata": {},
   "source": [
    "### 5.3 Store Predictions"
   ]
  },
  {
   "cell_type": "code",
   "execution_count": 53,
   "metadata": {
    "collapsed": true
   },
   "outputs": [],
   "source": [
    "add_to_stored(\"cv_pred_5\", cv_predictors_Tensor, cv_stored)\n",
    "\n",
    "add_to_stored(\"test_pred_5\", test_predictors_Tensor, test_stored)"
   ]
  },
  {
   "cell_type": "code",
   "execution_count": 54,
   "metadata": {
    "collapsed": false
   },
   "outputs": [
    {
     "data": {
      "text/html": [
       "<div>\n",
       "<table border=\"1\" class=\"dataframe\">\n",
       "  <thead>\n",
       "    <tr style=\"text-align: right;\">\n",
       "      <th></th>\n",
       "      <th>observed</th>\n",
       "      <th>cv_pred_1</th>\n",
       "      <th>cv_pred_2</th>\n",
       "      <th>cv_pred_3</th>\n",
       "      <th>cv_pred_4</th>\n",
       "      <th>cv_pred_5</th>\n",
       "    </tr>\n",
       "  </thead>\n",
       "  <tbody>\n",
       "    <tr>\n",
       "      <th>0</th>\n",
       "      <td>0.677117</td>\n",
       "      <td>0.546167</td>\n",
       "      <td>0.539835</td>\n",
       "      <td>0.537977</td>\n",
       "      <td>0.577302</td>\n",
       "      <td>0.581964</td>\n",
       "    </tr>\n",
       "    <tr>\n",
       "      <th>1</th>\n",
       "      <td>0.484530</td>\n",
       "      <td>0.902785</td>\n",
       "      <td>0.904281</td>\n",
       "      <td>0.846932</td>\n",
       "      <td>0.879558</td>\n",
       "      <td>0.884215</td>\n",
       "    </tr>\n",
       "    <tr>\n",
       "      <th>2</th>\n",
       "      <td>0.058780</td>\n",
       "      <td>0.323529</td>\n",
       "      <td>0.302751</td>\n",
       "      <td>0.276877</td>\n",
       "      <td>0.327714</td>\n",
       "      <td>0.366377</td>\n",
       "    </tr>\n",
       "    <tr>\n",
       "      <th>3</th>\n",
       "      <td>0.876614</td>\n",
       "      <td>0.850323</td>\n",
       "      <td>0.810235</td>\n",
       "      <td>0.804555</td>\n",
       "      <td>0.829292</td>\n",
       "      <td>0.873070</td>\n",
       "    </tr>\n",
       "    <tr>\n",
       "      <th>4</th>\n",
       "      <td>0.484530</td>\n",
       "      <td>0.822300</td>\n",
       "      <td>0.861916</td>\n",
       "      <td>0.781006</td>\n",
       "      <td>0.843759</td>\n",
       "      <td>0.851354</td>\n",
       "    </tr>\n",
       "  </tbody>\n",
       "</table>\n",
       "</div>"
      ],
      "text/plain": [
       "   observed  cv_pred_1  cv_pred_2  cv_pred_3  cv_pred_4  cv_pred_5\n",
       "0  0.677117   0.546167   0.539835   0.537977   0.577302   0.581964\n",
       "1  0.484530   0.902785   0.904281   0.846932   0.879558   0.884215\n",
       "2  0.058780   0.323529   0.302751   0.276877   0.327714   0.366377\n",
       "3  0.876614   0.850323   0.810235   0.804555   0.829292   0.873070\n",
       "4  0.484530   0.822300   0.861916   0.781006   0.843759   0.851354"
      ]
     },
     "execution_count": 54,
     "metadata": {},
     "output_type": "execute_result"
    }
   ],
   "source": [
    "cv_stored.head()"
   ]
  },
  {
   "cell_type": "code",
   "execution_count": 55,
   "metadata": {
    "collapsed": false
   },
   "outputs": [
    {
     "data": {
      "text/html": [
       "<div>\n",
       "<table border=\"1\" class=\"dataframe\">\n",
       "  <thead>\n",
       "    <tr style=\"text-align: right;\">\n",
       "      <th></th>\n",
       "      <th>observed</th>\n",
       "      <th>test_pred_1</th>\n",
       "      <th>test_pred_2</th>\n",
       "      <th>test_pred_3</th>\n",
       "      <th>test_pred_4</th>\n",
       "      <th>test_pred_5</th>\n",
       "    </tr>\n",
       "  </thead>\n",
       "  <tbody>\n",
       "    <tr>\n",
       "      <th>0</th>\n",
       "      <td>0.356356</td>\n",
       "      <td>0.423280</td>\n",
       "      <td>0.417492</td>\n",
       "      <td>0.480878</td>\n",
       "      <td>0.482703</td>\n",
       "      <td>0.378932</td>\n",
       "    </tr>\n",
       "    <tr>\n",
       "      <th>1</th>\n",
       "      <td>1.132974</td>\n",
       "      <td>1.192074</td>\n",
       "      <td>1.099679</td>\n",
       "      <td>1.217677</td>\n",
       "      <td>1.184178</td>\n",
       "      <td>1.108341</td>\n",
       "    </tr>\n",
       "    <tr>\n",
       "      <th>2</th>\n",
       "      <td>0.578992</td>\n",
       "      <td>0.283040</td>\n",
       "      <td>0.296123</td>\n",
       "      <td>0.309846</td>\n",
       "      <td>0.265117</td>\n",
       "      <td>0.327242</td>\n",
       "    </tr>\n",
       "    <tr>\n",
       "      <th>3</th>\n",
       "      <td>0.578992</td>\n",
       "      <td>0.423373</td>\n",
       "      <td>0.395349</td>\n",
       "      <td>0.378201</td>\n",
       "      <td>0.386383</td>\n",
       "      <td>0.398545</td>\n",
       "    </tr>\n",
       "    <tr>\n",
       "      <th>4</th>\n",
       "      <td>0.578992</td>\n",
       "      <td>0.433218</td>\n",
       "      <td>0.414348</td>\n",
       "      <td>0.415513</td>\n",
       "      <td>0.435193</td>\n",
       "      <td>0.412118</td>\n",
       "    </tr>\n",
       "  </tbody>\n",
       "</table>\n",
       "</div>"
      ],
      "text/plain": [
       "   observed  test_pred_1  test_pred_2  test_pred_3  test_pred_4  test_pred_5\n",
       "0  0.356356     0.423280     0.417492     0.480878     0.482703     0.378932\n",
       "1  1.132974     1.192074     1.099679     1.217677     1.184178     1.108341\n",
       "2  0.578992     0.283040     0.296123     0.309846     0.265117     0.327242\n",
       "3  0.578992     0.423373     0.395349     0.378201     0.386383     0.398545\n",
       "4  0.578992     0.433218     0.414348     0.415513     0.435193     0.412118"
      ]
     },
     "execution_count": 55,
     "metadata": {},
     "output_type": "execute_result"
    }
   ],
   "source": [
    "test_stored.head()"
   ]
  },
  {
   "cell_type": "code",
   "execution_count": 56,
   "metadata": {
    "collapsed": true
   },
   "outputs": [],
   "source": [
    "# Save the stored predictions and outcomes as a .csv\n",
    "cv_stored.to_csv(\"16_cv_perf.csv\")\n",
    "\n",
    "test_stored.to_csv(\"16_test_perf.csv\")"
   ]
  }
 ],
 "metadata": {
  "kernelspec": {
   "display_name": "Python 3",
   "language": "python",
   "name": "python3"
  },
  "language_info": {
   "codemirror_mode": {
    "name": "ipython",
    "version": 3
   },
   "file_extension": ".py",
   "mimetype": "text/x-python",
   "name": "python",
   "nbconvert_exporter": "python",
   "pygments_lexer": "ipython3",
   "version": "3.6.0"
  }
 },
 "nbformat": 4,
 "nbformat_minor": 2
}
