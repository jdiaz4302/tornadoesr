{
 "cells": [
  {
   "cell_type": "markdown",
   "metadata": {},
   "source": [
    "## Setup"
   ]
  },
  {
   "cell_type": "code",
   "execution_count": 1,
   "metadata": {
    "collapsed": true
   },
   "outputs": [],
   "source": [
    "# Packages\n",
    "import pandas as pd\n",
    "import torch\n",
    "from torch.autograd import Variable\n",
    "import numpy as np\n",
    "import matplotlib.pyplot as plt\n",
    "%matplotlib inline\n",
    "import pylab\n",
    "import math"
   ]
  },
  {
   "cell_type": "code",
   "execution_count": 2,
   "metadata": {
    "collapsed": false
   },
   "outputs": [
    {
     "name": "stdout",
     "output_type": "stream",
     "text": [
      "<class 'pandas.core.frame.DataFrame'>\n",
      "RangeIndex: 8308 entries, 0 to 8307\n",
      "Data columns (total 35 columns):\n",
      "DAMAGE_PROPERTY       8308 non-null float64\n",
      "DURATION_SECONDS      8308 non-null float64\n",
      "BEGIN_LAT             8308 non-null float64\n",
      "BEGIN_LON             8308 non-null float64\n",
      "TOR_LENGTH            8308 non-null float64\n",
      "TOR_WIDTH             8308 non-null float64\n",
      "YEAR                  8308 non-null float64\n",
      "MULTI_VORT_IND        8308 non-null int64\n",
      "OPEN_WATER_PROP       8308 non-null float64\n",
      "DEV_OPEN_PROP         8308 non-null float64\n",
      "DEV_LOW_PROP          8308 non-null float64\n",
      "DEV_MED_PROP          8308 non-null float64\n",
      "DEV_HIGH_PROP         8308 non-null float64\n",
      "BARREN_LAND_PROP      8308 non-null float64\n",
      "DECID_FOREST_PROP     8308 non-null float64\n",
      "EVERGR_FOREST_PROP    8308 non-null float64\n",
      "MIXED_FOREST_PROP     8308 non-null float64\n",
      "SHRUB_SCRUB_PROP      8308 non-null float64\n",
      "GRASS_LAND_PROP       8308 non-null float64\n",
      "PASTURE_HAY_PROP      8308 non-null float64\n",
      "CULT_CROPS_PROP       8308 non-null float64\n",
      "WOOD_WETLAND_PROP     8308 non-null float64\n",
      "HERB_WETLAND_PROP     8308 non-null float64\n",
      "INCOME                8308 non-null float64\n",
      "MOB_HOME_DENS         8308 non-null float64\n",
      "POP_DENS              8308 non-null float64\n",
      "TOR_AREA              8308 non-null float64\n",
      "TOT_DEV_INT           8308 non-null float64\n",
      "TOT_WOOD_AREA         8308 non-null float64\n",
      "WOOD_DEV_INT          8308 non-null float64\n",
      "EXP_INC_AREA          8308 non-null float64\n",
      "DAY_OF_YEAR           8308 non-null float64\n",
      "MONTH                 8308 non-null float64\n",
      "STATE_RANK            8308 non-null float64\n",
      "TIME                  8308 non-null float64\n",
      "dtypes: float64(34), int64(1)\n",
      "memory usage: 2.2 MB\n"
     ]
    }
   ],
   "source": [
    "# Import data\n",
    "tor_df = pd.read_csv(\"/home/jeremy/github_tornadoesr/data/raw/tor_train_set_no_zeros.csv\")\n",
    "\n",
    "\n",
    "# Quick inspection\n",
    "tor_df.info()"
   ]
  },
  {
   "cell_type": "code",
   "execution_count": 3,
   "metadata": {
    "collapsed": false
   },
   "outputs": [
    {
     "name": "stdout",
     "output_type": "stream",
     "text": [
      "<class 'pandas.core.frame.DataFrame'>\n",
      "RangeIndex: 8308 entries, 0 to 8307\n",
      "Data columns (total 1 columns):\n",
      "DAMAGE_PROPERTY    8308 non-null float64\n",
      "dtypes: float64(1)\n",
      "memory usage: 65.0 KB\n"
     ]
    }
   ],
   "source": [
    "# Seperating variables\n",
    "# The dependent variables\n",
    "tornado_outcomes = tor_df.iloc[:, [0]]\n",
    "\n",
    "\n",
    "# Quick inspection\n",
    "tornado_outcomes.info()"
   ]
  },
  {
   "cell_type": "code",
   "execution_count": 4,
   "metadata": {
    "collapsed": false
   },
   "outputs": [
    {
     "name": "stdout",
     "output_type": "stream",
     "text": [
      "<class 'pandas.core.frame.DataFrame'>\n",
      "RangeIndex: 8308 entries, 0 to 8307\n",
      "Data columns (total 9 columns):\n",
      "DURATION_SECONDS    8308 non-null float64\n",
      "TOR_LENGTH          8308 non-null float64\n",
      "TOR_WIDTH           8308 non-null float64\n",
      "YEAR                8308 non-null float64\n",
      "MULTI_VORT_IND      8308 non-null int64\n",
      "TOR_AREA            8308 non-null float64\n",
      "DAY_OF_YEAR         8308 non-null float64\n",
      "MONTH               8308 non-null float64\n",
      "TIME                8308 non-null float64\n",
      "dtypes: float64(8), int64(1)\n",
      "memory usage: 584.2 KB\n"
     ]
    }
   ],
   "source": [
    "# The independent variables\n",
    "tornado_features = tor_df.loc[:, [\"DURATION_SECONDS\",\n",
    "                                  \"TOR_LENGTH\",\n",
    "                                  \"TOR_WIDTH\",\n",
    "                                  \"YEAR\",\n",
    "                                  \"MULTI_VORT_IND\",\n",
    "                                  \"TOR_AREA\",\n",
    "                                  \"DAY_OF_YEAR\",\n",
    "                                  \"MONTH\",\n",
    "                                  \"TIME\"]]\n",
    "\n",
    "\n",
    "# Quick inspection\n",
    "tornado_features.info()"
   ]
  },
  {
   "cell_type": "code",
   "execution_count": 5,
   "metadata": {
    "collapsed": false
   },
   "outputs": [
    {
     "data": {
      "text/plain": [
       "\n",
       " 0.1532\n",
       " 0.6540\n",
       " 0.0873\n",
       "   ⋮    \n",
       " 0.5790\n",
       " 0.1532\n",
       " 0.2814\n",
       "[torch.DoubleTensor of size 8308x1]"
      ]
     },
     "execution_count": 5,
     "metadata": {},
     "output_type": "execute_result"
    }
   ],
   "source": [
    "# Make the dependent variables into a numpy array\n",
    "outcomes_array = tornado_outcomes.values\n",
    "\n",
    "\n",
    "# Makes the numpy array into a torch Tensor\n",
    "outcomes_Tensor = torch.from_numpy(outcomes_array)\n",
    "\n",
    "\n",
    "# Quick inspection\n",
    "outcomes_Tensor"
   ]
  },
  {
   "cell_type": "code",
   "execution_count": 6,
   "metadata": {
    "collapsed": false
   },
   "outputs": [
    {
     "data": {
      "text/plain": [
       "\n",
       " 0.0227 -0.4127 -0.7859  ...  -0.0068 -0.2947 -0.4531\n",
       "-0.3046 -1.0358 -0.9368  ...  -0.1143 -0.2947  1.1092\n",
       " 0.3520  0.0818 -0.9368  ...  -0.9653 -1.0297 -0.1038\n",
       "          ...             ⋱             ...          \n",
       " 0.5451  0.6778 -0.3589  ...  -0.7735 -1.0297 -1.5301\n",
       " 0.0227 -0.4127 -0.7859  ...   0.8091  0.8078 -2.1918\n",
       " 0.4583  0.9771 -0.3589  ...  -2.1091 -1.7647  0.5064\n",
       "[torch.DoubleTensor of size 8308x9]"
      ]
     },
     "execution_count": 6,
     "metadata": {},
     "output_type": "execute_result"
    }
   ],
   "source": [
    "# Make the independent variables into a numpy array\n",
    "features_array = tornado_features.values\n",
    "\n",
    "\n",
    "# Make the numpy array into a torch Tensor\n",
    "features_Tensor = torch.from_numpy(features_array)\n",
    "\n",
    "\n",
    "# Quick inspection\n",
    "features_Tensor"
   ]
  },
  {
   "cell_type": "markdown",
   "metadata": {},
   "source": [
    "### Convert DoubleTensor to FloatTensor"
   ]
  },
  {
   "cell_type": "code",
   "execution_count": 7,
   "metadata": {
    "collapsed": false
   },
   "outputs": [
    {
     "data": {
      "text/plain": [
       "\n",
       " 0.0227 -0.4127 -0.7859  ...  -0.0068 -0.2947 -0.4531\n",
       "-0.3046 -1.0358 -0.9368  ...  -0.1143 -0.2947  1.1092\n",
       " 0.3520  0.0818 -0.9368  ...  -0.9653 -1.0297 -0.1038\n",
       "          ...             ⋱             ...          \n",
       " 0.5451  0.6778 -0.3589  ...  -0.7735 -1.0297 -1.5301\n",
       " 0.0227 -0.4127 -0.7859  ...   0.8091  0.8078 -2.1918\n",
       " 0.4583  0.9771 -0.3589  ...  -2.1091 -1.7647  0.5064\n",
       "[torch.FloatTensor of size 8308x9]"
      ]
     },
     "execution_count": 7,
     "metadata": {},
     "output_type": "execute_result"
    }
   ],
   "source": [
    "# Changing dependent variables from a DoubleTensor to a FloatTensor\n",
    "outcomes_Tensor = outcomes_Tensor.float()\n",
    "\n",
    "\n",
    "# ...and for the independent variables\n",
    "features_Tensor = features_Tensor.float()\n",
    "\n",
    "\n",
    "# Quick check\n",
    "features_Tensor"
   ]
  },
  {
   "cell_type": "markdown",
   "metadata": {
    "collapsed": true
   },
   "source": [
    "## Round 1: One-Hidden-Layer Neural Network"
   ]
  },
  {
   "cell_type": "code",
   "execution_count": 8,
   "metadata": {
    "collapsed": false
   },
   "outputs": [],
   "source": [
    "# Make the torch Tensor into a PyTorch Variable for dependent variables\n",
    "outcomes_Variable = Variable(outcomes_Tensor)\n",
    "\n",
    "\n",
    "# ...for independent variables\n",
    "features_Variable = Variable(features_Tensor,\n",
    "                             requires_grad = False)"
   ]
  },
  {
   "cell_type": "code",
   "execution_count": 9,
   "metadata": {
    "collapsed": false
   },
   "outputs": [],
   "source": [
    "# Make the neural network\n",
    "model = torch.nn.Sequential(torch.nn.Linear(9, 6),\n",
    "                            torch.nn.ReLU(),\n",
    "                            torch.nn.Linear(6, 1))"
   ]
  },
  {
   "cell_type": "code",
   "execution_count": 10,
   "metadata": {
    "collapsed": true
   },
   "outputs": [],
   "source": [
    "# Set the loss function\n",
    "loss_fn = torch.nn.MSELoss(size_average=False)"
   ]
  },
  {
   "cell_type": "code",
   "execution_count": 11,
   "metadata": {
    "collapsed": false
   },
   "outputs": [],
   "source": [
    "# To add errors to\n",
    "errors = []\n",
    "\n",
    "\n",
    "# Set the learning rate\n",
    "learning_rate = 1e-2\n",
    "\n",
    "\n",
    "# Define the model's optimizer\n",
    "optimizer = torch.optim.Adagrad(model.parameters(), lr = learning_rate)\n",
    "\n",
    "\n",
    "# Train the neural network\n",
    "for t in range(15000):\n",
    "    \n",
    "    # Get the current predictions\n",
    "    y_pred = model(features_Variable)\n",
    "    \n",
    "    # Compute and append current summed errors\n",
    "    loss = loss_fn(y_pred, outcomes_Variable)\n",
    "    errors.append(loss.data[0])\n",
    "    \n",
    "    # Zero the gradients before running the backward pass.\n",
    "    optimizer.zero_grad()\n",
    "    \n",
    "    # Backward pass: compute gradient of the loss with respect to all the learnable Variables\n",
    "    loss.backward()\n",
    "    \n",
    "    # Update the weights using Adagrad\n",
    "    optimizer.step()"
   ]
  },
  {
   "cell_type": "code",
   "execution_count": 12,
   "metadata": {
    "collapsed": true
   },
   "outputs": [],
   "source": [
    "# Get the iterations\n",
    "iterations = list(range(0, 15000))"
   ]
  },
  {
   "cell_type": "code",
   "execution_count": 13,
   "metadata": {
    "collapsed": false
   },
   "outputs": [
    {
     "data": {
      "text/plain": [
       "<matplotlib.collections.PathCollection at 0x7f107dac8400>"
      ]
     },
     "execution_count": 13,
     "metadata": {},
     "output_type": "execute_result"
    },
    {
     "data": {
      "image/png": "[encoded data removed]",
      "text/plain": [
       "<matplotlib.figure.Figure at 0x7f10261cdc18>"
      ]
     },
     "metadata": {},
     "output_type": "display_data"
    }
   ],
   "source": [
    "# Plot summed error as a function of iteration\n",
    "plt.scatter(iterations, errors, c = \"black\", alpha = 0.25)"
   ]
  },
  {
   "cell_type": "code",
   "execution_count": 14,
   "metadata": {
    "collapsed": false
   },
   "outputs": [],
   "source": [
    "# Get rid of the 2nd dimension of 1 from the FloatTensor\n",
    "y_pred_resized = y_pred.resize(8308)\n",
    "\n",
    "\n",
    "# Make the FloatTensor into a numpy.array\n",
    "y_pred_array = y_pred_resized.data.numpy()\n",
    "\n",
    "\n",
    "# Make the numpy.array into a list\n",
    "y_pred_list = y_pred_array.tolist()"
   ]
  },
  {
   "cell_type": "code",
   "execution_count": 15,
   "metadata": {
    "collapsed": false
   },
   "outputs": [],
   "source": [
    "# Get rid of the 2nd dimension of 1 from the FloatTensor\n",
    "outcomes_Variable_resized = outcomes_Variable.resize(8308)\n",
    "\n",
    "\n",
    "# Make the FloatTensor into a numpy.array\n",
    "outcomes_array = outcomes_Variable_resized.data.numpy()\n",
    "\n",
    "\n",
    "# Make the numpy.array into a list\n",
    "outcomes_list = outcomes_array.tolist()"
   ]
  },
  {
   "cell_type": "code",
   "execution_count": 16,
   "metadata": {
    "collapsed": false
   },
   "outputs": [
    {
     "data": {
      "text/plain": [
       "[<matplotlib.lines.Line2D at 0x7f1021823e48>]"
      ]
     },
     "execution_count": 16,
     "metadata": {},
     "output_type": "execute_result"
    },
    {
     "data": {
      "image/png": "[encoded data removed]",
      "text/plain": [
       "<matplotlib.figure.Figure at 0x7f10261cdba8>"
      ]
     },
     "metadata": {},
     "output_type": "display_data"
    }
   ],
   "source": [
    "# Plot predictions versus training set outcomes\n",
    "plt.scatter(outcomes_list, y_pred_list, c = \"black\", alpha = 0.15)\n",
    "\n",
    "axes = plt.gca()\n",
    "\n",
    "axes.set_xlim([-2, 4])\n",
    "\n",
    "axes.set_ylim([-2, 4])\n",
    "\n",
    "plt.plot([-2, 4], [-2, 4], 'k-', lw=2)"
   ]
  },
  {
   "cell_type": "markdown",
   "metadata": {},
   "source": [
    "### Round 1.1: Validation Set Performance"
   ]
  },
  {
   "cell_type": "code",
   "execution_count": 17,
   "metadata": {
    "collapsed": false
   },
   "outputs": [
    {
     "name": "stdout",
     "output_type": "stream",
     "text": [
      "<class 'pandas.core.frame.DataFrame'>\n",
      "RangeIndex: 2808 entries, 0 to 2807\n",
      "Data columns (total 1 columns):\n",
      "DAMAGE_PROPERTY    2808 non-null float64\n",
      "dtypes: float64(1)\n",
      "memory usage: 22.0 KB\n"
     ]
    }
   ],
   "source": [
    "# Import data\n",
    "valid_df = pd.read_csv(\"/home/jeremy/github_tornadoesr/data/raw/tor_cv_set_no_zeros.csv\")\n",
    "\n",
    "\n",
    "# Validation set outcomes\n",
    "valid_outcomes = valid_df.iloc[:, [0]]\n",
    "\n",
    "\n",
    "# Make the validation outcomes into a numpy array\n",
    "valid_outcomes_array = valid_outcomes.values\n",
    "\n",
    "\n",
    "# Makes the numpy array into a torch Tensor\n",
    "valid_outcomes_Tensor = torch.from_numpy(valid_outcomes_array)\n",
    "\n",
    "\n",
    "# Changing validation outcomes from a DoubleTensor to a FloatTensor\n",
    "valid_outcomes_Tensor = valid_outcomes_Tensor.float()\n",
    "\n",
    "\n",
    "# Make the Tensor into a Pytorch Variable\n",
    "valid_outcomes_Variable = Variable(valid_outcomes_Tensor)\n",
    "\n",
    "\n",
    "# Quick check\n",
    "valid_outcomes.info()"
   ]
  },
  {
   "cell_type": "code",
   "execution_count": 18,
   "metadata": {
    "collapsed": false
   },
   "outputs": [
    {
     "name": "stdout",
     "output_type": "stream",
     "text": [
      "<class 'pandas.core.frame.DataFrame'>\n",
      "RangeIndex: 2808 entries, 0 to 2807\n",
      "Data columns (total 9 columns):\n",
      "DURATION_SECONDS    2808 non-null float64\n",
      "TOR_LENGTH          2808 non-null float64\n",
      "TOR_WIDTH           2808 non-null float64\n",
      "YEAR                2808 non-null float64\n",
      "MULTI_VORT_IND      2808 non-null int64\n",
      "TOR_AREA            2808 non-null float64\n",
      "DAY_OF_YEAR         2808 non-null float64\n",
      "MONTH               2808 non-null float64\n",
      "TIME                2808 non-null float64\n",
      "dtypes: float64(8), int64(1)\n",
      "memory usage: 197.5 KB\n"
     ]
    }
   ],
   "source": [
    "# Validation set predictors\n",
    "valid_predictors = valid_df.loc[:, [\"DURATION_SECONDS\",\n",
    "                                    \"TOR_LENGTH\",\n",
    "                                    \"TOR_WIDTH\",\n",
    "                                    \"YEAR\",\n",
    "                                    \"MULTI_VORT_IND\",\n",
    "                                    \"TOR_AREA\",\n",
    "                                    \"DAY_OF_YEAR\",\n",
    "                                    \"MONTH\",\n",
    "                                   \"TIME\"]]\n",
    "\n",
    "\n",
    "# Make the validation predictors into a numpy array\n",
    "valid_predictors_array = valid_predictors.values\n",
    "\n",
    "\n",
    "# Makes the numpy array into a torch Tensor\n",
    "valid_predictors_Tensor = torch.from_numpy(valid_predictors_array)\n",
    "\n",
    "\n",
    "# Changing validation predictors from a DoubleTensor to a FloatTensor\n",
    "valid_predictors_Tensor = valid_predictors_Tensor.float()\n",
    "\n",
    "\n",
    "# Make the Tensor into a Pytorch Variable\n",
    "valid_predictors_Variable = Variable(valid_predictors_Tensor)\n",
    "\n",
    "\n",
    "# Quick check\n",
    "valid_predictors.info()"
   ]
  },
  {
   "cell_type": "code",
   "execution_count": 19,
   "metadata": {
    "collapsed": false
   },
   "outputs": [
    {
     "data": {
      "text/plain": [
       "Variable containing:\n",
       " 306.4614\n",
       "[torch.FloatTensor of size 1]"
      ]
     },
     "execution_count": 19,
     "metadata": {},
     "output_type": "execute_result"
    }
   ],
   "source": [
    "# Get the validation set predictions\n",
    "y_valid_pred = model(valid_predictors_Variable)\n",
    "\n",
    "\n",
    "# Print the loss\n",
    "loss_fn(y_valid_pred,\n",
    "        valid_outcomes_Variable)"
   ]
  },
  {
   "cell_type": "code",
   "execution_count": 20,
   "metadata": {
    "collapsed": false
   },
   "outputs": [
    {
     "data": {
      "text/plain": [
       "Variable containing:\n",
       " 0.3553\n",
       "[torch.FloatTensor of size 1]"
      ]
     },
     "execution_count": 20,
     "metadata": {},
     "output_type": "execute_result"
    }
   ],
   "source": [
    "# Computing the total sum of squares\n",
    "# Get a torch Variable of the mean outcome\n",
    "# Compute mean value\n",
    "valid_outcomes_mean = (sum(valid_outcomes_Variable) / len(valid_outcomes_Variable))\n",
    "valid_outcomes_mean = valid_outcomes_mean.data.numpy()[0]\n",
    "\n",
    "# Make that into a ndarray\n",
    "valid_outcomes_mean = np.repeat(valid_outcomes_mean, len(valid_outcomes_Variable))\n",
    "\n",
    "# Turn the array into a torch Tensor\n",
    "valid_outcomes_mean = torch.from_numpy(valid_outcomes_mean)\n",
    "\n",
    "# Turn that Tensor into a Variable\n",
    "valid_outcomes_mean_Variable = Variable(valid_outcomes_mean)\n",
    "\n",
    "# Compute the TSS\n",
    "tot_sum_squares = loss_fn(valid_outcomes_mean_Variable, valid_outcomes_Variable)\n",
    "\n",
    "\n",
    "# Grab the residual sum of squares\n",
    "resid_sum_squares = loss_fn(y_valid_pred, valid_outcomes_Variable)\n",
    "\n",
    "\n",
    "# Compute R squared\n",
    "R_squared = 1 - (resid_sum_squares / tot_sum_squares)\n",
    "\n",
    "R_squared"
   ]
  },
  {
   "cell_type": "code",
   "execution_count": 21,
   "metadata": {
    "collapsed": false
   },
   "outputs": [],
   "source": [
    "# Get rid of the 2nd dimension of 1 from the FloatTensor\n",
    "y_valid_pred_resized = y_valid_pred.resize(2808)\n",
    "\n",
    "\n",
    "# Make the FloatTensor into a numpy.array\n",
    "y_valid_pred_array = y_valid_pred_resized.data.numpy()\n",
    "\n",
    "\n",
    "# Convert back to log scale\n",
    "y_valid_pred_array = y_valid_pred_array*5.407597 + 7.688844\n",
    "\n",
    "\n",
    "# Make the numpy.array into a list\n",
    "y_valid_pred_list = y_valid_pred_array.tolist()"
   ]
  },
  {
   "cell_type": "code",
   "execution_count": 22,
   "metadata": {
    "collapsed": false
   },
   "outputs": [],
   "source": [
    "# Get rid of the 2nd dimension of 1 from the FloatTensor\n",
    "valid_outcomes_Variable_resized = valid_outcomes_Variable.resize(2808)\n",
    "\n",
    "\n",
    "# Make the FloatTensor into a numpy.array\n",
    "valid_outcomes_array = valid_outcomes_Variable_resized.data.numpy()\n",
    "\n",
    "\n",
    "# Convert back to log scale\n",
    "valid_outcomes_array = valid_outcomes_array*5.407597 + 7.688844\n",
    "\n",
    "\n",
    "# Make the numpy.array into a list\n",
    "valid_outcomes_list = valid_outcomes_array.tolist()"
   ]
  },
  {
   "cell_type": "code",
   "execution_count": 23,
   "metadata": {
    "collapsed": false
   },
   "outputs": [
    {
     "data": {
      "text/plain": [
       "<matplotlib.text.Text at 0x7f1021584828>"
      ]
     },
     "execution_count": 23,
     "metadata": {},
     "output_type": "execute_result"
    },
    {
     "data": {
      "image/png": "[encoded data removed]",
      "text/plain": [
       "<matplotlib.figure.Figure at 0x7f102185b5c0>"
      ]
     },
     "metadata": {},
     "output_type": "display_data"
    }
   ],
   "source": [
    "# Plot new predictions versus new data outcomes\n",
    "plt.scatter(valid_outcomes_list, y_valid_pred_list, c = \"black\", alpha = 0.15)\n",
    "\n",
    "axes = plt.gca()\n",
    "\n",
    "axes.set_xlim([0, 24])\n",
    "\n",
    "axes.set_ylim([0, 24])\n",
    "\n",
    "axes.set_xticks([0, 4, 8, 12, 16, 20, 24])\n",
    "\n",
    "axes.set_yticks([0, 4, 8, 12, 16, 20, 24])\n",
    "\n",
    "plt.plot([0, 24], [0, 24], 'k-', lw = 2)\n",
    "\n",
    "axes.set_xlabel(\"Actual Outcome (Log-Transformed US Dollars)\")\n",
    "\n",
    "axes.set_ylabel(\"Model Prediction (Log-Transformed US Dollars)\")\n",
    "\n",
    "axes.set_title(\"Model Performance\")"
   ]
  },
  {
   "cell_type": "code",
   "execution_count": 24,
   "metadata": {
    "collapsed": false
   },
   "outputs": [
    {
     "data": {
      "text/plain": [
       "Parameter containing:\n",
       "-0.1775  0.2831  0.3477 -0.2360  0.3940 -0.1415 -0.1025  0.2012 -0.2554\n",
       " 0.1920  0.1216  0.3102 -0.0357 -0.2655 -0.0377 -0.0837  0.0797  0.1610\n",
       " 0.2531  0.5158 -0.0272 -0.1745  0.1305 -0.3651 -0.1094 -0.2943 -0.2044\n",
       " 0.0496  0.0663  0.1262 -0.9215 -0.1426  0.1501 -0.4190  0.1191 -0.6772\n",
       "-0.0614 -0.3018  0.0420  0.0146  1.3208 -0.2642  0.0114 -0.0131 -0.0296\n",
       " 0.3273  0.2930 -0.5129  0.0358 -0.4569  0.0325 -0.0582 -0.1393 -0.0187\n",
       "[torch.FloatTensor of size 6x9]"
      ]
     },
     "execution_count": 24,
     "metadata": {},
     "output_type": "execute_result"
    }
   ],
   "source": [
    "model[(0)].weight"
   ]
  },
  {
   "cell_type": "code",
   "execution_count": 25,
   "metadata": {
    "collapsed": false
   },
   "outputs": [
    {
     "data": {
      "text/plain": [
       "Parameter containing:\n",
       " 0.3824  0.3294  0.2328 -0.1090 -0.2740 -0.2334\n",
       "[torch.FloatTensor of size 1x6]"
      ]
     },
     "execution_count": 25,
     "metadata": {},
     "output_type": "execute_result"
    }
   ],
   "source": [
    "model[(2)].weight"
   ]
  },
  {
   "cell_type": "markdown",
   "metadata": {},
   "source": [
    "## Round 2: Two-Hidden-Layer Neural Network"
   ]
  },
  {
   "cell_type": "code",
   "execution_count": 26,
   "metadata": {
    "collapsed": true
   },
   "outputs": [],
   "source": [
    "# Make the torch Tensor into a PyTorch Variable for dependent variables\n",
    "outcomes_Variable = Variable(outcomes_Tensor)\n",
    "\n",
    "\n",
    "# ...for independent variables\n",
    "features_Variable = Variable(features_Tensor,\n",
    "                             requires_grad = False)"
   ]
  },
  {
   "cell_type": "code",
   "execution_count": 27,
   "metadata": {
    "collapsed": true
   },
   "outputs": [],
   "source": [
    "# Make the neural network\n",
    "model = torch.nn.Sequential(torch.nn.Linear(9, 6),\n",
    "                            torch.nn.ReLU(),\n",
    "                            torch.nn.Linear(6, 4),\n",
    "                            torch.nn.ReLU(),\n",
    "                            torch.nn.Linear(4, 1))"
   ]
  },
  {
   "cell_type": "code",
   "execution_count": 28,
   "metadata": {
    "collapsed": false
   },
   "outputs": [],
   "source": [
    "# To add errors to\n",
    "errors = []\n",
    "\n",
    "\n",
    "# Set the learning rate\n",
    "learning_rate = 1e-2\n",
    "\n",
    "\n",
    "# Define the model's optimizer\n",
    "optimizer = torch.optim.Adagrad(model.parameters(), lr = learning_rate)\n",
    "\n",
    "\n",
    "# Train the neural network\n",
    "for t in range(15000):\n",
    "    \n",
    "    # Get the current predictions\n",
    "    y_pred = model(features_Variable)\n",
    "    \n",
    "    # Compute and append current summed errors\n",
    "    loss = loss_fn(y_pred, outcomes_Variable)\n",
    "    errors.append(loss.data[0])\n",
    "    \n",
    "    # Zero the gradients before running the backward pass.\n",
    "    optimizer.zero_grad()\n",
    "    \n",
    "    # Backward pass: compute gradient of the loss with respect to all the learnable Variables\n",
    "    loss.backward()\n",
    "    \n",
    "    # Update the weights using Adagrad\n",
    "    optimizer.step()"
   ]
  },
  {
   "cell_type": "code",
   "execution_count": 29,
   "metadata": {
    "collapsed": false
   },
   "outputs": [
    {
     "data": {
      "text/plain": [
       "<matplotlib.collections.PathCollection at 0x7f102169bfd0>"
      ]
     },
     "execution_count": 29,
     "metadata": {},
     "output_type": "execute_result"
    },
    {
     "data": {
      "image/png": "[encoded data removed]",
      "text/plain": [
       "<matplotlib.figure.Figure at 0x7f102162ecc0>"
      ]
     },
     "metadata": {},
     "output_type": "display_data"
    }
   ],
   "source": [
    "# Plot summed error as a function of iteration\n",
    "plt.scatter(iterations, errors, c = \"black\", alpha = 0.25)"
   ]
  },
  {
   "cell_type": "code",
   "execution_count": 30,
   "metadata": {
    "collapsed": false
   },
   "outputs": [],
   "source": [
    "# Get rid of the 2nd dimension of 1 from the FloatTensor\n",
    "y_pred_resized = y_pred.resize(8308)\n",
    "\n",
    "\n",
    "# Make the FloatTensor into a numpy.array\n",
    "y_pred_array = y_pred_resized.data.numpy()\n",
    "\n",
    "\n",
    "# Make the numpy.array into a list\n",
    "y_pred_list = y_pred_array.tolist()"
   ]
  },
  {
   "cell_type": "code",
   "execution_count": 31,
   "metadata": {
    "collapsed": false
   },
   "outputs": [
    {
     "data": {
      "text/plain": [
       "[<matplotlib.lines.Line2D at 0x7f10215f7f60>]"
      ]
     },
     "execution_count": 31,
     "metadata": {},
     "output_type": "execute_result"
    },
    {
     "data": {
      "image/png": "[encoded data removed]",
      "text/plain": [
       "<matplotlib.figure.Figure at 0x7f10215d1c50>"
      ]
     },
     "metadata": {},
     "output_type": "display_data"
    }
   ],
   "source": [
    "# Plot predictions versus training set outcomes\n",
    "plt.scatter(outcomes_list, y_pred_list, c = \"black\", alpha = 0.15)\n",
    "\n",
    "axes = plt.gca()\n",
    "\n",
    "axes.set_xlim([-2, 4])\n",
    "\n",
    "axes.set_ylim([-2, 4])\n",
    "\n",
    "plt.plot([-2, 4], [-2, 4], 'k-', lw=2)"
   ]
  },
  {
   "cell_type": "markdown",
   "metadata": {},
   "source": [
    "### Round 2.1: Validation Set Performance"
   ]
  },
  {
   "cell_type": "code",
   "execution_count": 32,
   "metadata": {
    "collapsed": false
   },
   "outputs": [
    {
     "data": {
      "text/plain": [
       "Variable containing:\n",
       " 306.3725\n",
       "[torch.FloatTensor of size 1]"
      ]
     },
     "execution_count": 32,
     "metadata": {},
     "output_type": "execute_result"
    }
   ],
   "source": [
    "# Get the validation set predictions\n",
    "y_valid_pred = model(valid_predictors_Variable)\n",
    "\n",
    "\n",
    "# Print the loss\n",
    "loss_fn(y_valid_pred,\n",
    "        valid_outcomes_Variable)"
   ]
  },
  {
   "cell_type": "code",
   "execution_count": 33,
   "metadata": {
    "collapsed": false
   },
   "outputs": [
    {
     "data": {
      "text/plain": [
       "Variable containing:\n",
       " 0.3555\n",
       "[torch.FloatTensor of size 1]"
      ]
     },
     "execution_count": 33,
     "metadata": {},
     "output_type": "execute_result"
    }
   ],
   "source": [
    "# Grab the residual sum of squares\n",
    "resid_sum_squares = loss_fn(y_valid_pred, valid_outcomes_Variable)\n",
    "\n",
    "\n",
    "# Compute R squared\n",
    "R_squared = 1 - (resid_sum_squares / tot_sum_squares)\n",
    "\n",
    "R_squared"
   ]
  },
  {
   "cell_type": "code",
   "execution_count": 34,
   "metadata": {
    "collapsed": false
   },
   "outputs": [],
   "source": [
    "# Get rid of the 2nd dimension of 1 from the FloatTensor\n",
    "y_valid_pred_resized = y_valid_pred.resize(2808)\n",
    "\n",
    "\n",
    "# Make the FloatTensor into a numpy.array\n",
    "y_valid_pred_array = y_valid_pred_resized.data.numpy()\n",
    "\n",
    "\n",
    "# Convert back to log scale\n",
    "y_valid_pred_array = y_valid_pred_array*5.407597 + 7.688844\n",
    "\n",
    "\n",
    "# Make the numpy.array into a list\n",
    "y_valid_pred_list = y_valid_pred_array.tolist()"
   ]
  },
  {
   "cell_type": "code",
   "execution_count": 35,
   "metadata": {
    "collapsed": false
   },
   "outputs": [
    {
     "data": {
      "text/plain": [
       "<matplotlib.text.Text at 0x7f1023229e48>"
      ]
     },
     "execution_count": 35,
     "metadata": {},
     "output_type": "execute_result"
    },
    {
     "data": {
      "image/png": "[encoded data removed]",
      "text/plain": [
       "<matplotlib.figure.Figure at 0x7f10214f0320>"
      ]
     },
     "metadata": {},
     "output_type": "display_data"
    }
   ],
   "source": [
    "# Plot new predictions versus new data outcomes\n",
    "plt.scatter(valid_outcomes_list, y_valid_pred_list, c = \"black\", alpha = 0.15)\n",
    "\n",
    "axes = plt.gca()\n",
    "\n",
    "axes.set_xlim([0, 24])\n",
    "\n",
    "axes.set_ylim([0, 24])\n",
    "\n",
    "axes.set_xticks([0, 4, 8, 12, 16, 20, 24])\n",
    "\n",
    "axes.set_yticks([0, 4, 8, 12, 16, 20, 24])\n",
    "\n",
    "plt.plot([0, 24], [0, 24], 'k-', lw = 2)\n",
    "\n",
    "axes.set_xlabel(\"Actual Outcome (Log-Transformed US Dollars)\")\n",
    "\n",
    "axes.set_ylabel(\"Model Prediction (Log-Transformed US Dollars)\")\n",
    "\n",
    "axes.set_title(\"Model Performance\")"
   ]
  },
  {
   "cell_type": "code",
   "execution_count": 36,
   "metadata": {
    "collapsed": false
   },
   "outputs": [
    {
     "data": {
      "text/plain": [
       "Parameter containing:\n",
       " 0.1961 -0.5987 -0.3784  0.0462 -0.5431  0.5748  0.0645 -0.1636  0.0927\n",
       " 0.1509  0.0074  0.2477 -0.0128  0.2057  0.4260 -0.1541  0.4091 -0.1733\n",
       "-0.2289 -0.1799 -0.1265  0.0243  0.0047  0.3083  0.1261  0.1408 -0.1042\n",
       "-0.2382  0.3318  0.0059 -0.3464 -0.5359  0.2629  0.3289 -0.0053  0.1428\n",
       "-0.1267  0.2359  0.1605 -0.0794 -0.2700  0.2356 -0.1504 -0.2388 -0.0621\n",
       " 0.3088  0.0568  0.1924  0.0224  0.3632  0.0587  0.1851 -0.1259  0.2202\n",
       "[torch.FloatTensor of size 6x9]"
      ]
     },
     "execution_count": 36,
     "metadata": {},
     "output_type": "execute_result"
    }
   ],
   "source": [
    "model[(0)].weight"
   ]
  },
  {
   "cell_type": "code",
   "execution_count": 37,
   "metadata": {
    "collapsed": false
   },
   "outputs": [
    {
     "data": {
      "text/plain": [
       "Parameter containing:\n",
       " 0.6558  0.4155 -0.0873 -0.4691  0.1612  0.0160\n",
       " 0.6547  0.4177 -0.1089  0.5644  0.2642  0.3222\n",
       " 0.3652  0.2100  0.3512  0.0680  0.4183  0.2003\n",
       " 0.0988 -0.0734 -0.1460 -0.5254  0.1300 -0.3337\n",
       "[torch.FloatTensor of size 4x6]"
      ]
     },
     "execution_count": 37,
     "metadata": {},
     "output_type": "execute_result"
    }
   ],
   "source": [
    "model[(2)].weight"
   ]
  },
  {
   "cell_type": "code",
   "execution_count": 38,
   "metadata": {
    "collapsed": false
   },
   "outputs": [
    {
     "data": {
      "text/plain": [
       "Parameter containing:\n",
       " 0.1050  0.1962  0.4639 -0.2182\n",
       "[torch.FloatTensor of size 1x4]"
      ]
     },
     "execution_count": 38,
     "metadata": {},
     "output_type": "execute_result"
    }
   ],
   "source": [
    "model[(4)].weight"
   ]
  },
  {
   "cell_type": "markdown",
   "metadata": {},
   "source": [
    "## Round 3: Three-Hidden-Layer Neural Network"
   ]
  },
  {
   "cell_type": "code",
   "execution_count": 39,
   "metadata": {
    "collapsed": true
   },
   "outputs": [],
   "source": [
    "# Make the torch Tensor into a PyTorch Variable for dependent variables\n",
    "outcomes_Variable = Variable(outcomes_Tensor)\n",
    "\n",
    "\n",
    "# ...for independent variables\n",
    "features_Variable = Variable(features_Tensor,\n",
    "                             requires_grad = False)"
   ]
  },
  {
   "cell_type": "code",
   "execution_count": 40,
   "metadata": {
    "collapsed": false
   },
   "outputs": [],
   "source": [
    "# Make the neural network\n",
    "model = torch.nn.Sequential(torch.nn.Linear(9, 6),\n",
    "                            torch.nn.ReLU(),\n",
    "                            torch.nn.Linear(6, 4),\n",
    "                            torch.nn.ReLU(),\n",
    "                            torch.nn.Linear(4, 3),\n",
    "                            torch.nn.ReLU(),\n",
    "                            torch.nn.Linear(3, 1))"
   ]
  },
  {
   "cell_type": "code",
   "execution_count": 41,
   "metadata": {
    "collapsed": false
   },
   "outputs": [],
   "source": [
    "# To add errors to\n",
    "errors = []\n",
    "\n",
    "\n",
    "# Set the learning rate\n",
    "learning_rate = 1e-2\n",
    "\n",
    "\n",
    "# Define the model's optimizer\n",
    "optimizer = torch.optim.Adagrad(model.parameters(), lr = learning_rate)\n",
    "\n",
    "\n",
    "# Train the neural network\n",
    "for t in range(15000):\n",
    "    \n",
    "    # Get the current predictions\n",
    "    y_pred = model(features_Variable)\n",
    "    \n",
    "    # Compute and append current summed errors\n",
    "    loss = loss_fn(y_pred, outcomes_Variable)\n",
    "    errors.append(loss.data[0])\n",
    "    \n",
    "    # Zero the gradients before running the backward pass.\n",
    "    optimizer.zero_grad()\n",
    "    \n",
    "    # Backward pass: compute gradient of the loss with respect to all the learnable Variables\n",
    "    loss.backward()\n",
    "    \n",
    "    # Update the weights using Adagrad\n",
    "    optimizer.step()"
   ]
  },
  {
   "cell_type": "code",
   "execution_count": 42,
   "metadata": {
    "collapsed": false
   },
   "outputs": [
    {
     "data": {
      "text/plain": [
       "<matplotlib.collections.PathCollection at 0x7f10214d7828>"
      ]
     },
     "execution_count": 42,
     "metadata": {},
     "output_type": "execute_result"
    },
    {
     "data": {
      "image/png": "[encoded data removed]",
      "text/plain": [
       "<matplotlib.figure.Figure at 0x7f102178ba58>"
      ]
     },
     "metadata": {},
     "output_type": "display_data"
    }
   ],
   "source": [
    "# Plot summed error as a function of iteration\n",
    "plt.scatter(iterations, errors, c = \"black\", alpha = 0.25)"
   ]
  },
  {
   "cell_type": "code",
   "execution_count": 43,
   "metadata": {
    "collapsed": true
   },
   "outputs": [],
   "source": [
    "# Get rid of the 2nd dimension of 1 from the FloatTensor\n",
    "y_pred_resized = y_pred.resize(8308)\n",
    "\n",
    "\n",
    "# Make the FloatTensor into a numpy.array\n",
    "y_pred_array = y_pred_resized.data.numpy()\n",
    "\n",
    "\n",
    "# Make the numpy.array into a list\n",
    "y_pred_list = y_pred_array.tolist()"
   ]
  },
  {
   "cell_type": "code",
   "execution_count": 44,
   "metadata": {
    "collapsed": false
   },
   "outputs": [
    {
     "data": {
      "text/plain": [
       "[<matplotlib.lines.Line2D at 0x7f1023256d68>]"
      ]
     },
     "execution_count": 44,
     "metadata": {},
     "output_type": "execute_result"
    },
    {
     "data": {
      "image/png": "[encoded data removed]",
      "text/plain": [
       "<matplotlib.figure.Figure at 0x7f1023256cc0>"
      ]
     },
     "metadata": {},
     "output_type": "display_data"
    }
   ],
   "source": [
    "# Plot predictions versus training set outcomes\n",
    "plt.scatter(outcomes_list, y_pred_list, c = \"black\", alpha = 0.15)\n",
    "\n",
    "axes = plt.gca()\n",
    "\n",
    "axes.set_xlim([-2, 4])\n",
    "\n",
    "axes.set_ylim([-2, 4])\n",
    "\n",
    "plt.plot([-2, 4], [-2, 4], 'k-', lw=2)"
   ]
  },
  {
   "cell_type": "markdown",
   "metadata": {},
   "source": [
    "### Round 3.1: Validation Set Performance"
   ]
  },
  {
   "cell_type": "code",
   "execution_count": 45,
   "metadata": {
    "collapsed": false
   },
   "outputs": [
    {
     "data": {
      "text/plain": [
       "Variable containing:\n",
       " 303.8239\n",
       "[torch.FloatTensor of size 1]"
      ]
     },
     "execution_count": 45,
     "metadata": {},
     "output_type": "execute_result"
    }
   ],
   "source": [
    "# Get the validation set predictions\n",
    "y_valid_pred = model(valid_predictors_Variable)\n",
    "\n",
    "\n",
    "# Print the loss\n",
    "loss_fn(y_valid_pred,\n",
    "        valid_outcomes_Variable)"
   ]
  },
  {
   "cell_type": "code",
   "execution_count": 46,
   "metadata": {
    "collapsed": false
   },
   "outputs": [
    {
     "data": {
      "text/plain": [
       "Variable containing:\n",
       " 0.3609\n",
       "[torch.FloatTensor of size 1]"
      ]
     },
     "execution_count": 46,
     "metadata": {},
     "output_type": "execute_result"
    }
   ],
   "source": [
    "# Grab the residual sum of squares\n",
    "resid_sum_squares = loss_fn(y_valid_pred, valid_outcomes_Variable)\n",
    "\n",
    "\n",
    "# Compute R squared\n",
    "R_squared = 1 - (resid_sum_squares / tot_sum_squares)\n",
    "\n",
    "R_squared"
   ]
  },
  {
   "cell_type": "code",
   "execution_count": 47,
   "metadata": {
    "collapsed": false
   },
   "outputs": [],
   "source": [
    "# Get rid of the 2nd dimension of 1 from the FloatTensor\n",
    "y_valid_pred_resized = y_valid_pred.resize(2808)\n",
    "\n",
    "\n",
    "# Make the FloatTensor into a numpy.array\n",
    "y_valid_pred_array = y_valid_pred_resized.data.numpy()\n",
    "\n",
    "\n",
    "# Convert back to log scale\n",
    "y_valid_pred_array = y_valid_pred_array*5.407597 + 7.688844\n",
    "\n",
    "\n",
    "# Make the numpy.array into a list\n",
    "y_valid_pred_list = y_valid_pred_array.tolist()"
   ]
  },
  {
   "cell_type": "code",
   "execution_count": 48,
   "metadata": {
    "collapsed": false
   },
   "outputs": [
    {
     "data": {
      "text/plain": [
       "<matplotlib.text.Text at 0x7f1021417470>"
      ]
     },
     "execution_count": 48,
     "metadata": {},
     "output_type": "execute_result"
    },
    {
     "data": {
      "image/png": "[encoded data removed]",
      "text/plain": [
       "<matplotlib.figure.Figure at 0x7f102168a3c8>"
      ]
     },
     "metadata": {},
     "output_type": "display_data"
    }
   ],
   "source": [
    "# Plot new predictions versus new data outcomes\n",
    "plt.scatter(valid_outcomes_list, y_valid_pred_list, c = \"black\", alpha = 0.15)\n",
    "\n",
    "axes = plt.gca()\n",
    "\n",
    "axes.set_xlim([0, 24])\n",
    "\n",
    "axes.set_ylim([0, 24])\n",
    "\n",
    "axes.set_xticks([0, 4, 8, 12, 16, 20, 24])\n",
    "\n",
    "axes.set_yticks([0, 4, 8, 12, 16, 20, 24])\n",
    "\n",
    "plt.plot([0, 24], [0, 24], 'k-', lw = 2)\n",
    "\n",
    "axes.set_xlabel(\"Actual Outcome (Log-Transformed US Dollars)\")\n",
    "\n",
    "axes.set_ylabel(\"Model Prediction (Log-Transformed US Dollars)\")\n",
    "\n",
    "axes.set_title(\"Model Performance\")"
   ]
  },
  {
   "cell_type": "code",
   "execution_count": 49,
   "metadata": {
    "collapsed": false
   },
   "outputs": [
    {
     "data": {
      "text/plain": [
       "Parameter containing:\n",
       " 0.0028  0.6229 -0.1823  0.1109 -0.4437 -0.5834 -0.4082  0.1163 -0.1941\n",
       " 0.2332 -0.0994  0.1258  0.0667 -1.1356  0.1917 -0.1563  0.0885 -0.2081\n",
       " 0.0185  0.5066  0.3269  0.0235  0.2519 -0.5953 -0.0817  0.0391 -0.1594\n",
       "-0.1244  0.0061  0.3118 -0.1970  0.3783  0.0997  0.1679  0.1490  0.1589\n",
       " 0.2514  0.1958 -0.1773  0.0503  0.0361  0.0553 -0.2458 -0.1286  0.2088\n",
       "-0.2195  0.1431 -0.3194 -0.0375  0.1896  0.4173 -0.2817  0.0726 -0.0731\n",
       "[torch.FloatTensor of size 6x9]"
      ]
     },
     "execution_count": 49,
     "metadata": {},
     "output_type": "execute_result"
    }
   ],
   "source": [
    "model[(0)].weight"
   ]
  },
  {
   "cell_type": "code",
   "execution_count": 50,
   "metadata": {
    "collapsed": false
   },
   "outputs": [
    {
     "data": {
      "text/plain": [
       "Parameter containing:\n",
       "-0.3805  0.4418  0.0865  0.3633  0.0698  0.3345\n",
       "-0.5798  0.1783  0.9872  0.3400  0.3894  0.1499\n",
       " 0.2217 -1.0348 -0.0397 -0.1029  0.3246 -0.3161\n",
       " 0.1942 -0.0805 -0.7308  0.0078 -0.3369  0.7643\n",
       "[torch.FloatTensor of size 4x6]"
      ]
     },
     "execution_count": 50,
     "metadata": {},
     "output_type": "execute_result"
    }
   ],
   "source": [
    "model[(2)].weight"
   ]
  },
  {
   "cell_type": "code",
   "execution_count": 51,
   "metadata": {
    "collapsed": false
   },
   "outputs": [
    {
     "data": {
      "text/plain": [
       "Parameter containing:\n",
       " 0.6682 -1.1177  0.0172  0.1858\n",
       " 0.5502 -1.9143  0.1665  0.1770\n",
       " 0.6417  0.7200  0.9872  0.8463\n",
       "[torch.FloatTensor of size 3x4]"
      ]
     },
     "execution_count": 51,
     "metadata": {},
     "output_type": "execute_result"
    }
   ],
   "source": [
    "model[(4)].weight"
   ]
  },
  {
   "cell_type": "code",
   "execution_count": 52,
   "metadata": {
    "collapsed": false
   },
   "outputs": [
    {
     "data": {
      "text/plain": [
       "Parameter containing:\n",
       "-2.5037 -2.1515  0.6724\n",
       "[torch.FloatTensor of size 1x3]"
      ]
     },
     "execution_count": 52,
     "metadata": {},
     "output_type": "execute_result"
    }
   ],
   "source": [
    "model[(6)].weight"
   ]
  },
  {
   "cell_type": "markdown",
   "metadata": {},
   "source": [
    "## Round 4: Four-Hidden-Layer Neural Network"
   ]
  },
  {
   "cell_type": "code",
   "execution_count": 53,
   "metadata": {
    "collapsed": true
   },
   "outputs": [],
   "source": [
    "# Make the torch Tensor into a PyTorch Variable for dependent variables\n",
    "outcomes_Variable = Variable(outcomes_Tensor)\n",
    "\n",
    "\n",
    "# ...for independent variables\n",
    "features_Variable = Variable(features_Tensor,\n",
    "                             requires_grad = False)"
   ]
  },
  {
   "cell_type": "code",
   "execution_count": 54,
   "metadata": {
    "collapsed": true
   },
   "outputs": [],
   "source": [
    "# Make the neural network\n",
    "model = torch.nn.Sequential(torch.nn.Linear(9, 6),\n",
    "                            torch.nn.ReLU(),\n",
    "                            torch.nn.Linear(6, 4),\n",
    "                            torch.nn.ReLU(),\n",
    "                            torch.nn.Linear(4, 3),\n",
    "                            torch.nn.ReLU(),\n",
    "                            torch.nn.Linear(3, 2),\n",
    "                            torch.nn.ReLU(),\n",
    "                            torch.nn.Linear(2, 1))"
   ]
  },
  {
   "cell_type": "code",
   "execution_count": 55,
   "metadata": {
    "collapsed": true
   },
   "outputs": [],
   "source": [
    "# To add errors to\n",
    "errors = []\n",
    "\n",
    "\n",
    "# Set the learning rate\n",
    "learning_rate = 1e-2\n",
    "\n",
    "\n",
    "# Define the model's optimizer\n",
    "optimizer = torch.optim.Adagrad(model.parameters(), lr = learning_rate)\n",
    "\n",
    "\n",
    "# Train the neural network\n",
    "for t in range(15000):\n",
    "    \n",
    "    # Get the current predictions\n",
    "    y_pred = model(features_Variable)\n",
    "    \n",
    "    # Compute and append current summed errors\n",
    "    loss = loss_fn(y_pred, outcomes_Variable)\n",
    "    errors.append(loss.data[0])\n",
    "    \n",
    "    # Zero the gradients before running the backward pass.\n",
    "    optimizer.zero_grad()\n",
    "    \n",
    "    # Backward pass: compute gradient of the loss with respect to all the learnable Variables\n",
    "    loss.backward()\n",
    "    \n",
    "    # Update the weights using Adagrad\n",
    "    optimizer.step()"
   ]
  },
  {
   "cell_type": "code",
   "execution_count": 56,
   "metadata": {
    "collapsed": false
   },
   "outputs": [
    {
     "data": {
      "text/plain": [
       "<matplotlib.collections.PathCollection at 0x7f10212edcc0>"
      ]
     },
     "execution_count": 56,
     "metadata": {},
     "output_type": "execute_result"
    },
    {
     "data": {
      "image/png": "[encoded data removed]",
      "text/plain": [
       "<matplotlib.figure.Figure at 0x7f10216b7390>"
      ]
     },
     "metadata": {},
     "output_type": "display_data"
    }
   ],
   "source": [
    "# Plot summed error as a function of iteration\n",
    "plt.scatter(iterations, errors, c = \"black\", alpha = 0.25)"
   ]
  },
  {
   "cell_type": "code",
   "execution_count": 57,
   "metadata": {
    "collapsed": false
   },
   "outputs": [],
   "source": [
    "# Get rid of the 2nd dimension of 1 from the FloatTensor\n",
    "y_pred_resized = y_pred.resize(8308)\n",
    "\n",
    "\n",
    "# Make the FloatTensor into a numpy.array\n",
    "y_pred_array = y_pred_resized.data.numpy()\n",
    "\n",
    "\n",
    "# Make the numpy.array into a list\n",
    "y_pred_list = y_pred_array.tolist()"
   ]
  },
  {
   "cell_type": "code",
   "execution_count": 58,
   "metadata": {
    "collapsed": false
   },
   "outputs": [
    {
     "data": {
      "text/plain": [
       "[<matplotlib.lines.Line2D at 0x7f1021300358>]"
      ]
     },
     "execution_count": 58,
     "metadata": {},
     "output_type": "execute_result"
    },
    {
     "data": {
      "image/png": "[encoded data removed]",
      "text/plain": [
       "<matplotlib.figure.Figure at 0x7f10213005c0>"
      ]
     },
     "metadata": {},
     "output_type": "display_data"
    }
   ],
   "source": [
    "# Plot predictions versus training set outcomes\n",
    "plt.scatter(outcomes_list, y_pred_list, c = \"black\", alpha = 0.15)\n",
    "\n",
    "axes = plt.gca()\n",
    "\n",
    "axes.set_xlim([-2, 4])\n",
    "\n",
    "axes.set_ylim([-2, 4])\n",
    "\n",
    "plt.plot([-2, 4], [-2, 4], 'k-', lw=2)"
   ]
  },
  {
   "cell_type": "markdown",
   "metadata": {},
   "source": [
    "### Round 4.1: Validation Set Performance"
   ]
  },
  {
   "cell_type": "code",
   "execution_count": 59,
   "metadata": {
    "collapsed": false
   },
   "outputs": [
    {
     "data": {
      "text/plain": [
       "Variable containing:\n",
       " 306.4662\n",
       "[torch.FloatTensor of size 1]"
      ]
     },
     "execution_count": 59,
     "metadata": {},
     "output_type": "execute_result"
    }
   ],
   "source": [
    "# Get the validation set predictions\n",
    "y_valid_pred = model(valid_predictors_Variable)\n",
    "\n",
    "\n",
    "# Print the loss\n",
    "loss_fn(y_valid_pred,\n",
    "        valid_outcomes_Variable)"
   ]
  },
  {
   "cell_type": "code",
   "execution_count": 60,
   "metadata": {
    "collapsed": false
   },
   "outputs": [
    {
     "data": {
      "text/plain": [
       "Variable containing:\n",
       " 0.3553\n",
       "[torch.FloatTensor of size 1]"
      ]
     },
     "execution_count": 60,
     "metadata": {},
     "output_type": "execute_result"
    }
   ],
   "source": [
    "# Grab the residual sum of squares\n",
    "resid_sum_squares = loss_fn(y_valid_pred, valid_outcomes_Variable)\n",
    "\n",
    "\n",
    "# Compute R squared\n",
    "R_squared = 1 - (resid_sum_squares / tot_sum_squares)\n",
    "\n",
    "R_squared"
   ]
  },
  {
   "cell_type": "code",
   "execution_count": 61,
   "metadata": {
    "collapsed": true
   },
   "outputs": [],
   "source": [
    "# Get rid of the 2nd dimension of 1 from the FloatTensor\n",
    "y_valid_pred_resized = y_valid_pred.resize(2808)\n",
    "\n",
    "\n",
    "# Make the FloatTensor into a numpy.array\n",
    "y_valid_pred_array = y_valid_pred_resized.data.numpy()\n",
    "\n",
    "\n",
    "# Convert back to log scale\n",
    "y_valid_pred_array = y_valid_pred_array*5.407597 + 7.688844\n",
    "\n",
    "\n",
    "# Make the numpy.array into a list\n",
    "y_valid_pred_list = y_valid_pred_array.tolist()"
   ]
  },
  {
   "cell_type": "code",
   "execution_count": 62,
   "metadata": {
    "collapsed": false
   },
   "outputs": [
    {
     "data": {
      "text/plain": [
       "<matplotlib.text.Text at 0x7f1021270b38>"
      ]
     },
     "execution_count": 62,
     "metadata": {},
     "output_type": "execute_result"
    },
    {
     "data": {
      "image/png": "[encoded data removed]",
      "text/plain": [
       "<matplotlib.figure.Figure at 0x7f10212c0128>"
      ]
     },
     "metadata": {},
     "output_type": "display_data"
    }
   ],
   "source": [
    "# Plot new predictions versus new data outcomes\n",
    "plt.scatter(valid_outcomes_list, y_valid_pred_list, c = \"black\", alpha = 0.15)\n",
    "\n",
    "axes = plt.gca()\n",
    "\n",
    "axes.set_xlim([0, 24])\n",
    "\n",
    "axes.set_ylim([0, 24])\n",
    "\n",
    "axes.set_xticks([0, 4, 8, 12, 16, 20, 24])\n",
    "\n",
    "axes.set_yticks([0, 4, 8, 12, 16, 20, 24])\n",
    "\n",
    "plt.plot([0, 24], [0, 24], 'k-', lw = 2)\n",
    "\n",
    "axes.set_xlabel(\"Actual Outcome (Log-Transformed US Dollars)\")\n",
    "\n",
    "axes.set_ylabel(\"Model Prediction (Log-Transformed US Dollars)\")\n",
    "\n",
    "axes.set_title(\"Model Performance\")"
   ]
  },
  {
   "cell_type": "code",
   "execution_count": 63,
   "metadata": {
    "collapsed": false
   },
   "outputs": [
    {
     "data": {
      "text/plain": [
       "Parameter containing:\n",
       "-0.1274  0.2958  0.2615 -0.0169  0.0423 -0.2398  0.0958 -0.3053  0.0108\n",
       " 0.0251  0.8189  0.1334 -0.2879 -0.3457 -0.4350  0.0407  0.0550  0.0321\n",
       "-0.2085  0.1996  0.0304 -0.0857  0.1587  0.2148  0.0797  0.0160 -0.2356\n",
       "-0.0731 -0.1534 -0.0105 -0.1421 -0.7054 -0.3851 -0.0059 -0.0254 -0.0255\n",
       " 0.4157 -0.0904  0.4167  0.0254  0.4794 -0.0527 -0.0938  0.1223  0.0265\n",
       "-0.0826  0.1454  0.3094 -0.0589 -0.4854 -0.0239 -0.1346 -0.0001  0.1282\n",
       "[torch.FloatTensor of size 6x9]"
      ]
     },
     "execution_count": 63,
     "metadata": {},
     "output_type": "execute_result"
    }
   ],
   "source": [
    "model[(0)].weight"
   ]
  },
  {
   "cell_type": "code",
   "execution_count": 64,
   "metadata": {
    "collapsed": false
   },
   "outputs": [
    {
     "data": {
      "text/plain": [
       "Parameter containing:\n",
       " 0.3985  0.2355  0.4294 -0.0265  0.0028  0.4208\n",
       " 0.5238  0.3778  0.2895 -0.3193  0.1718  0.0768\n",
       "-0.4331  0.3706  0.0562 -0.7445 -0.3396  0.0066\n",
       "-0.5953 -0.2178  0.2567  0.0133  0.2309  0.4542\n",
       "[torch.FloatTensor of size 4x6]"
      ]
     },
     "execution_count": 64,
     "metadata": {},
     "output_type": "execute_result"
    }
   ],
   "source": [
    "model[(2)].weight"
   ]
  },
  {
   "cell_type": "code",
   "execution_count": 65,
   "metadata": {
    "collapsed": false
   },
   "outputs": [
    {
     "data": {
      "text/plain": [
       "Parameter containing:\n",
       " 0.3041 -0.5630  0.4594  0.1799\n",
       " 0.3888  0.0302 -0.6765 -0.1095\n",
       " 0.5162  0.6671 -0.6498  0.2855\n",
       "[torch.FloatTensor of size 3x4]"
      ]
     },
     "execution_count": 65,
     "metadata": {},
     "output_type": "execute_result"
    }
   ],
   "source": [
    "model[(4)].weight"
   ]
  },
  {
   "cell_type": "code",
   "execution_count": 66,
   "metadata": {
    "collapsed": false
   },
   "outputs": [
    {
     "data": {
      "text/plain": [
       "Parameter containing:\n",
       "-0.6836  0.3359  0.7587\n",
       "-0.0418 -0.4397 -0.4633\n",
       "[torch.FloatTensor of size 2x3]"
      ]
     },
     "execution_count": 66,
     "metadata": {},
     "output_type": "execute_result"
    }
   ],
   "source": [
    "model[(6)].weight"
   ]
  },
  {
   "cell_type": "code",
   "execution_count": 67,
   "metadata": {
    "collapsed": false
   },
   "outputs": [
    {
     "data": {
      "text/plain": [
       "Parameter containing:\n",
       " 0.7403 -0.6409\n",
       "[torch.FloatTensor of size 1x2]"
      ]
     },
     "execution_count": 67,
     "metadata": {},
     "output_type": "execute_result"
    }
   ],
   "source": [
    "model[(8)].weight"
   ]
  },
  {
   "cell_type": "markdown",
   "metadata": {},
   "source": [
    "## Round 5: Linear Regression"
   ]
  },
  {
   "cell_type": "code",
   "execution_count": 68,
   "metadata": {
    "collapsed": true
   },
   "outputs": [],
   "source": [
    "# Make the torch Tensor into a PyTorch Variable for dependent variables\n",
    "outcomes_Variable = Variable(outcomes_Tensor)\n",
    "\n",
    "\n",
    "# ...for independent variables\n",
    "features_Variable = Variable(features_Tensor,\n",
    "                             requires_grad = False)"
   ]
  },
  {
   "cell_type": "code",
   "execution_count": 69,
   "metadata": {
    "collapsed": true
   },
   "outputs": [],
   "source": [
    "# Make the neural network - really a regression\n",
    "model = torch.nn.Sequential(torch.nn.Linear(9, 1))"
   ]
  },
  {
   "cell_type": "code",
   "execution_count": 70,
   "metadata": {
    "collapsed": false
   },
   "outputs": [],
   "source": [
    "# To add errors to\n",
    "errors = []\n",
    "\n",
    "\n",
    "# Set the learning rate\n",
    "learning_rate = 1e-2\n",
    "\n",
    "\n",
    "# Define the model's optimizer\n",
    "optimizer = torch.optim.Adagrad(model.parameters(), lr = learning_rate)\n",
    "\n",
    "\n",
    "# Train the neural network\n",
    "for t in range(15000):\n",
    "    \n",
    "    # Get the current predictions\n",
    "    y_pred = model(features_Variable)\n",
    "    \n",
    "    # Compute and append current summed errors\n",
    "    loss = loss_fn(y_pred, outcomes_Variable)\n",
    "    errors.append(loss.data[0])\n",
    "    \n",
    "    # Zero the gradients before running the backward pass.\n",
    "    optimizer.zero_grad()\n",
    "    \n",
    "    # Backward pass: compute gradient of the loss with respect to all the learnable Variables\n",
    "    loss.backward()\n",
    "    \n",
    "    # Update the weights using Adagrad\n",
    "    optimizer.step()"
   ]
  },
  {
   "cell_type": "code",
   "execution_count": 71,
   "metadata": {
    "collapsed": false
   },
   "outputs": [
    {
     "data": {
      "text/plain": [
       "<matplotlib.collections.PathCollection at 0x7f1021127780>"
      ]
     },
     "execution_count": 71,
     "metadata": {},
     "output_type": "execute_result"
    },
    {
     "data": {
      "image/png": "[encoded data removed]",
      "text/plain": [
       "<matplotlib.figure.Figure at 0x7f1021281668>"
      ]
     },
     "metadata": {},
     "output_type": "display_data"
    }
   ],
   "source": [
    "# Plot summed error as a function of iteration\n",
    "plt.scatter(iterations, errors, c = \"black\", alpha = 0.25)"
   ]
  },
  {
   "cell_type": "code",
   "execution_count": 72,
   "metadata": {
    "collapsed": false
   },
   "outputs": [],
   "source": [
    "# Get rid of the 2nd dimension of 1 from the FloatTensor\n",
    "y_pred_resized = y_pred.resize(8308)\n",
    "\n",
    "\n",
    "# Make the FloatTensor into a numpy.array\n",
    "y_pred_array = y_pred_resized.data.numpy()\n",
    "\n",
    "\n",
    "# Make the numpy.array into a list\n",
    "y_pred_list = y_pred_array.tolist()"
   ]
  },
  {
   "cell_type": "code",
   "execution_count": 73,
   "metadata": {
    "collapsed": false
   },
   "outputs": [
    {
     "data": {
      "text/plain": [
       "[<matplotlib.lines.Line2D at 0x7f102116f5f8>]"
      ]
     },
     "execution_count": 73,
     "metadata": {},
     "output_type": "execute_result"
    },
    {
     "data": {
      "image/png": "[encoded data removed]",
      "text/plain": [
       "<matplotlib.figure.Figure at 0x7f102116f860>"
      ]
     },
     "metadata": {},
     "output_type": "display_data"
    }
   ],
   "source": [
    "# Plot predictions versus training set outcomes\n",
    "plt.scatter(outcomes_list, y_pred_list, c = \"black\", alpha = 0.15)\n",
    "\n",
    "axes = plt.gca()\n",
    "\n",
    "axes.set_xlim([-2, 4])\n",
    "\n",
    "axes.set_ylim([-2, 4])\n",
    "\n",
    "plt.plot([-2, 4], [-2, 4], 'k-', lw=2)"
   ]
  },
  {
   "cell_type": "markdown",
   "metadata": {
    "collapsed": false
   },
   "source": [
    "### Round 5.1: Validation Set Performance"
   ]
  },
  {
   "cell_type": "code",
   "execution_count": 74,
   "metadata": {
    "collapsed": false
   },
   "outputs": [
    {
     "data": {
      "text/plain": [
       "Variable containing:\n",
       " 313.2346\n",
       "[torch.FloatTensor of size 1]"
      ]
     },
     "execution_count": 74,
     "metadata": {},
     "output_type": "execute_result"
    }
   ],
   "source": [
    "# Get the validation set predictions\n",
    "y_valid_pred = model(valid_predictors_Variable)\n",
    "\n",
    "\n",
    "# Print the loss\n",
    "loss_fn(y_valid_pred,\n",
    "        valid_outcomes_Variable)"
   ]
  },
  {
   "cell_type": "code",
   "execution_count": 75,
   "metadata": {
    "collapsed": false
   },
   "outputs": [
    {
     "data": {
      "text/plain": [
       "Variable containing:\n",
       " 0.3411\n",
       "[torch.FloatTensor of size 1]"
      ]
     },
     "execution_count": 75,
     "metadata": {},
     "output_type": "execute_result"
    }
   ],
   "source": [
    "# Grab the residual sum of squares\n",
    "resid_sum_squares = loss_fn(y_valid_pred, valid_outcomes_Variable)\n",
    "\n",
    "\n",
    "# Compute R squared\n",
    "R_squared = 1 - (resid_sum_squares / tot_sum_squares)\n",
    "\n",
    "R_squared"
   ]
  },
  {
   "cell_type": "code",
   "execution_count": 76,
   "metadata": {
    "collapsed": true
   },
   "outputs": [],
   "source": [
    "# Get rid of the 2nd dimension of 1 from the FloatTensor\n",
    "y_valid_pred_resized = y_valid_pred.resize(2808)\n",
    "\n",
    "\n",
    "# Make the FloatTensor into a numpy.array\n",
    "y_valid_pred_array = y_valid_pred_resized.data.numpy()\n",
    "\n",
    "\n",
    "# Convert back to log scale\n",
    "y_valid_pred_array = y_valid_pred_array*5.407597 + 7.688844\n",
    "\n",
    "\n",
    "# Make the numpy.array into a list\n",
    "y_valid_pred_list = y_valid_pred_array.tolist()"
   ]
  },
  {
   "cell_type": "code",
   "execution_count": 77,
   "metadata": {
    "collapsed": false
   },
   "outputs": [
    {
     "data": {
      "text/plain": [
       "<matplotlib.text.Text at 0x7f10210e26a0>"
      ]
     },
     "execution_count": 77,
     "metadata": {},
     "output_type": "execute_result"
    },
    {
     "data": {
      "image/png": "[encoded data removed]",
      "text/plain": [
       "<matplotlib.figure.Figure at 0x7f10210a3978>"
      ]
     },
     "metadata": {},
     "output_type": "display_data"
    }
   ],
   "source": [
    "# Plot new predictions versus new data outcomes\n",
    "plt.scatter(valid_outcomes_list, y_valid_pred_list, c = \"black\", alpha = 0.15)\n",
    "\n",
    "axes = plt.gca()\n",
    "\n",
    "axes.set_xlim([0, 24])\n",
    "\n",
    "axes.set_ylim([0, 24])\n",
    "\n",
    "axes.set_xticks([0, 4, 8, 12, 16, 20, 24])\n",
    "\n",
    "axes.set_yticks([0, 4, 8, 12, 16, 20, 24])\n",
    "\n",
    "plt.plot([0, 24], [0, 24], 'k-', lw = 2)\n",
    "\n",
    "axes.set_xlabel(\"Actual Outcome (Log-Transformed US Dollars)\")\n",
    "\n",
    "axes.set_ylabel(\"Model Prediction (Log-Transformed US Dollars)\")\n",
    "\n",
    "axes.set_title(\"Model Performance\")"
   ]
  },
  {
   "cell_type": "code",
   "execution_count": 78,
   "metadata": {
    "collapsed": false
   },
   "outputs": [
    {
     "data": {
      "text/plain": [
       "Parameter containing:\n",
       " 0.0054  0.1204  0.1414 -0.0292  0.0227  0.0137 -0.0324  0.0293  0.0093\n",
       "[torch.FloatTensor of size 1x9]"
      ]
     },
     "execution_count": 78,
     "metadata": {},
     "output_type": "execute_result"
    }
   ],
   "source": [
    "model[(0)].weight"
   ]
  }
 ],
 "metadata": {
  "kernelspec": {
   "display_name": "Python 3",
   "language": "python",
   "name": "python3"
  },
  "language_info": {
   "codemirror_mode": {
    "name": "ipython",
    "version": 3
   },
   "file_extension": ".py",
   "mimetype": "text/x-python",
   "name": "python",
   "nbconvert_exporter": "python",
   "pygments_lexer": "ipython3",
   "version": "3.6.0"
  }
 },
 "nbformat": 4,
 "nbformat_minor": 2
}
