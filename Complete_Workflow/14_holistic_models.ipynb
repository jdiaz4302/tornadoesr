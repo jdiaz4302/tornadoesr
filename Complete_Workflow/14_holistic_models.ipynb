{
 "cells": [
  {
   "cell_type": "markdown",
   "metadata": {},
   "source": [
    "## Setup"
   ]
  },
  {
   "cell_type": "code",
   "execution_count": 1,
   "metadata": {
    "collapsed": true
   },
   "outputs": [],
   "source": [
    "# Packages\n",
    "import pandas as pd\n",
    "import torch\n",
    "from torch.autograd import Variable\n",
    "import numpy as np\n",
    "import matplotlib.pyplot as plt\n",
    "%matplotlib inline\n",
    "import pylab\n",
    "import math"
   ]
  },
  {
   "cell_type": "code",
   "execution_count": 2,
   "metadata": {
    "collapsed": false
   },
   "outputs": [
    {
     "name": "stdout",
     "output_type": "stream",
     "text": [
      "<class 'pandas.core.frame.DataFrame'>\n",
      "RangeIndex: 11959 entries, 0 to 11958\n",
      "Data columns (total 35 columns):\n",
      "DAMAGE_PROPERTY       11959 non-null float64\n",
      "DURATION_SECONDS      11959 non-null float64\n",
      "BEGIN_LAT             11959 non-null float64\n",
      "BEGIN_LON             11959 non-null float64\n",
      "TOR_LENGTH            11959 non-null float64\n",
      "TOR_WIDTH             11959 non-null float64\n",
      "YEAR                  11959 non-null float64\n",
      "MULTI_VORT_IND        11959 non-null int64\n",
      "OPEN_WATER_PROP       11959 non-null float64\n",
      "DEV_OPEN_PROP         11959 non-null float64\n",
      "DEV_LOW_PROP          11959 non-null float64\n",
      "DEV_MED_PROP          11959 non-null float64\n",
      "DEV_HIGH_PROP         11959 non-null float64\n",
      "BARREN_LAND_PROP      11959 non-null float64\n",
      "DECID_FOREST_PROP     11959 non-null float64\n",
      "EVERGR_FOREST_PROP    11959 non-null float64\n",
      "MIXED_FOREST_PROP     11959 non-null float64\n",
      "SHRUB_SCRUB_PROP      11959 non-null float64\n",
      "GRASS_LAND_PROP       11959 non-null float64\n",
      "PASTURE_HAY_PROP      11959 non-null float64\n",
      "CULT_CROPS_PROP       11959 non-null float64\n",
      "WOOD_WETLAND_PROP     11959 non-null float64\n",
      "HERB_WETLAND_PROP     11959 non-null float64\n",
      "INCOME                11959 non-null float64\n",
      "MOB_HOME_DENS         11959 non-null float64\n",
      "POP_DENS              11959 non-null float64\n",
      "TOR_AREA              11959 non-null float64\n",
      "TOT_DEV_INT           11959 non-null float64\n",
      "TOT_WOOD_AREA         11959 non-null float64\n",
      "WOOD_DEV_INT          11959 non-null float64\n",
      "EXP_INC_AREA          11959 non-null float64\n",
      "DAY_OF_YEAR           11959 non-null float64\n",
      "MONTH                 11959 non-null float64\n",
      "STATE_RANK            11959 non-null float64\n",
      "TIME                  11959 non-null float64\n",
      "dtypes: float64(34), int64(1)\n",
      "memory usage: 3.2 MB\n"
     ]
    }
   ],
   "source": [
    "# Import data\n",
    "tor_df = pd.read_csv(\"/home/jeremy/github_tornadoesr/data/raw/tor_train_set.csv\")\n",
    "\n",
    "\n",
    "# Quick inspection\n",
    "tor_df.info()"
   ]
  },
  {
   "cell_type": "code",
   "execution_count": 3,
   "metadata": {
    "collapsed": false
   },
   "outputs": [
    {
     "name": "stdout",
     "output_type": "stream",
     "text": [
      "<class 'pandas.core.frame.DataFrame'>\n",
      "RangeIndex: 11959 entries, 0 to 11958\n",
      "Data columns (total 1 columns):\n",
      "DAMAGE_PROPERTY    11959 non-null float64\n",
      "dtypes: float64(1)\n",
      "memory usage: 93.5 KB\n"
     ]
    }
   ],
   "source": [
    "# Seperating variables\n",
    "# The dependent variables\n",
    "tornado_outcomes = tor_df.iloc[:, [0]]\n",
    "\n",
    "\n",
    "# Quick inspection\n",
    "tornado_outcomes.info()"
   ]
  },
  {
   "cell_type": "code",
   "execution_count": 4,
   "metadata": {
    "collapsed": false
   },
   "outputs": [
    {
     "name": "stdout",
     "output_type": "stream",
     "text": [
      "<class 'pandas.core.frame.DataFrame'>\n",
      "RangeIndex: 11959 entries, 0 to 11958\n",
      "Data columns (total 34 columns):\n",
      "DURATION_SECONDS      11959 non-null float64\n",
      "BEGIN_LAT             11959 non-null float64\n",
      "BEGIN_LON             11959 non-null float64\n",
      "TOR_LENGTH            11959 non-null float64\n",
      "TOR_WIDTH             11959 non-null float64\n",
      "YEAR                  11959 non-null float64\n",
      "MULTI_VORT_IND        11959 non-null int64\n",
      "OPEN_WATER_PROP       11959 non-null float64\n",
      "DEV_OPEN_PROP         11959 non-null float64\n",
      "DEV_LOW_PROP          11959 non-null float64\n",
      "DEV_MED_PROP          11959 non-null float64\n",
      "DEV_HIGH_PROP         11959 non-null float64\n",
      "BARREN_LAND_PROP      11959 non-null float64\n",
      "DECID_FOREST_PROP     11959 non-null float64\n",
      "EVERGR_FOREST_PROP    11959 non-null float64\n",
      "MIXED_FOREST_PROP     11959 non-null float64\n",
      "SHRUB_SCRUB_PROP      11959 non-null float64\n",
      "GRASS_LAND_PROP       11959 non-null float64\n",
      "PASTURE_HAY_PROP      11959 non-null float64\n",
      "CULT_CROPS_PROP       11959 non-null float64\n",
      "WOOD_WETLAND_PROP     11959 non-null float64\n",
      "HERB_WETLAND_PROP     11959 non-null float64\n",
      "INCOME                11959 non-null float64\n",
      "MOB_HOME_DENS         11959 non-null float64\n",
      "POP_DENS              11959 non-null float64\n",
      "TOR_AREA              11959 non-null float64\n",
      "TOT_DEV_INT           11959 non-null float64\n",
      "TOT_WOOD_AREA         11959 non-null float64\n",
      "WOOD_DEV_INT          11959 non-null float64\n",
      "EXP_INC_AREA          11959 non-null float64\n",
      "DAY_OF_YEAR           11959 non-null float64\n",
      "MONTH                 11959 non-null float64\n",
      "STATE_RANK            11959 non-null float64\n",
      "TIME                  11959 non-null float64\n",
      "dtypes: float64(33), int64(1)\n",
      "memory usage: 3.1 MB\n"
     ]
    }
   ],
   "source": [
    "# The independent variables\n",
    "tornado_features = tor_df.iloc[:, 1:]\n",
    "\n",
    "\n",
    "# Quick inspection\n",
    "tornado_features.info()"
   ]
  },
  {
   "cell_type": "code",
   "execution_count": 5,
   "metadata": {
    "collapsed": false
   },
   "outputs": [
    {
     "data": {
      "text/plain": [
       "\n",
       " 0.1532\n",
       " 0.6540\n",
       " 0.0873\n",
       "   ⋮    \n",
       "-1.4219\n",
       " 0.1532\n",
       " 0.2814\n",
       "[torch.DoubleTensor of size 11959x1]"
      ]
     },
     "execution_count": 5,
     "metadata": {},
     "output_type": "execute_result"
    }
   ],
   "source": [
    "# Make the dependent variables into a numpy array\n",
    "outcomes_array = tornado_outcomes.values\n",
    "\n",
    "\n",
    "# Makes the numpy array into a torch Tensor\n",
    "outcomes_Tensor = torch.from_numpy(outcomes_array)\n",
    "\n",
    "\n",
    "# Quick inspection\n",
    "outcomes_Tensor"
   ]
  },
  {
   "cell_type": "code",
   "execution_count": 6,
   "metadata": {
    "collapsed": false
   },
   "outputs": [
    {
     "data": {
      "text/plain": [
       "\n",
       " 0.0227 -1.6434 -0.4323  ...  -0.2947 -0.8098 -0.4531\n",
       "-0.3046  0.2063  0.5545  ...  -0.2947  0.5157  1.1092\n",
       " 0.3520 -0.3313 -0.8991  ...  -1.0297 -1.1142 -0.1038\n",
       "          ...             ⋱             ...          \n",
       "-2.2692  1.1642 -1.2164  ...   0.0728  0.7816 -0.5450\n",
       " 0.0227 -1.2487  0.6113  ...   0.8078  0.2605 -2.1918\n",
       " 0.4583 -0.4701 -0.0348  ...  -1.7647 -0.3808  0.5064\n",
       "[torch.DoubleTensor of size 11959x34]"
      ]
     },
     "execution_count": 6,
     "metadata": {},
     "output_type": "execute_result"
    }
   ],
   "source": [
    "# Make the independent variables into a numpy array\n",
    "features_array = tornado_features.values\n",
    "\n",
    "\n",
    "# Make the numpy array into a torch Tensor\n",
    "features_Tensor = torch.from_numpy(features_array)\n",
    "\n",
    "\n",
    "# Quick inspection\n",
    "features_Tensor"
   ]
  },
  {
   "cell_type": "markdown",
   "metadata": {},
   "source": [
    "### Convert DoubleTensor to FloatTensor"
   ]
  },
  {
   "cell_type": "code",
   "execution_count": 7,
   "metadata": {
    "collapsed": false
   },
   "outputs": [
    {
     "data": {
      "text/plain": [
       "\n",
       " 0.0227 -1.6434 -0.4323  ...  -0.2947 -0.8098 -0.4531\n",
       "-0.3046  0.2063  0.5545  ...  -0.2947  0.5157  1.1092\n",
       " 0.3520 -0.3313 -0.8991  ...  -1.0297 -1.1142 -0.1038\n",
       "          ...             ⋱             ...          \n",
       "-2.2692  1.1642 -1.2164  ...   0.0728  0.7816 -0.5450\n",
       " 0.0227 -1.2487  0.6113  ...   0.8078  0.2605 -2.1918\n",
       " 0.4583 -0.4701 -0.0348  ...  -1.7647 -0.3808  0.5064\n",
       "[torch.FloatTensor of size 11959x34]"
      ]
     },
     "execution_count": 7,
     "metadata": {},
     "output_type": "execute_result"
    }
   ],
   "source": [
    "# Changing dependent variables from a DoubleTensor to a FloatTensor\n",
    "outcomes_Tensor = outcomes_Tensor.float()\n",
    "\n",
    "\n",
    "# ...and for the independent variables\n",
    "features_Tensor = features_Tensor.float()\n",
    "\n",
    "\n",
    "# Quick check\n",
    "features_Tensor"
   ]
  },
  {
   "cell_type": "markdown",
   "metadata": {
    "collapsed": true
   },
   "source": [
    "## Round 1: One-Hidden-Layer Neural Network"
   ]
  },
  {
   "cell_type": "code",
   "execution_count": 8,
   "metadata": {
    "collapsed": false
   },
   "outputs": [],
   "source": [
    "# Make the torch Tensor into a PyTorch Variable for dependent variables\n",
    "outcomes_Variable = Variable(outcomes_Tensor)\n",
    "\n",
    "\n",
    "# ...for independent variables\n",
    "features_Variable = Variable(features_Tensor,\n",
    "                             requires_grad = False)"
   ]
  },
  {
   "cell_type": "code",
   "execution_count": 9,
   "metadata": {
    "collapsed": false
   },
   "outputs": [],
   "source": [
    "# Make the neural network\n",
    "model = torch.nn.Sequential(torch.nn.Linear(34, 23),\n",
    "                            torch.nn.ReLU(),\n",
    "                            torch.nn.Linear(23, 1))"
   ]
  },
  {
   "cell_type": "code",
   "execution_count": 10,
   "metadata": {
    "collapsed": true
   },
   "outputs": [],
   "source": [
    "# Set the loss function\n",
    "loss_fn = torch.nn.MSELoss(size_average=False)"
   ]
  },
  {
   "cell_type": "code",
   "execution_count": 11,
   "metadata": {
    "collapsed": false
   },
   "outputs": [],
   "source": [
    "# To add errors to\n",
    "errors = []\n",
    "\n",
    "\n",
    "# Set the learning rate\n",
    "learning_rate = 1e-2\n",
    "\n",
    "\n",
    "# Define the model's optimizer\n",
    "optimizer = torch.optim.Adagrad(model.parameters(), lr = learning_rate)\n",
    "\n",
    "\n",
    "# Train the neural network\n",
    "for t in range(10000):\n",
    "    \n",
    "    # Get the current predictions\n",
    "    y_pred = model(features_Variable)\n",
    "    \n",
    "    # Compute and append current summed errors\n",
    "    loss = loss_fn(y_pred, outcomes_Variable)\n",
    "    errors.append(loss.data[0])\n",
    "    \n",
    "    # Zero the gradients before running the backward pass.\n",
    "    optimizer.zero_grad()\n",
    "    \n",
    "    # Backward pass: compute gradient of the loss with respect to all the learnable Variables\n",
    "    loss.backward()\n",
    "    \n",
    "    # Update the weights using Adagrad\n",
    "    optimizer.step()"
   ]
  },
  {
   "cell_type": "code",
   "execution_count": 12,
   "metadata": {
    "collapsed": true
   },
   "outputs": [],
   "source": [
    "# Get the iterations\n",
    "iterations = list(range(0, 10000))"
   ]
  },
  {
   "cell_type": "code",
   "execution_count": 13,
   "metadata": {
    "collapsed": false
   },
   "outputs": [
    {
     "data": {
      "text/plain": [
       "<matplotlib.collections.PathCollection at 0x7f1ac2291390>"
      ]
     },
     "execution_count": 13,
     "metadata": {},
     "output_type": "execute_result"
    },
    {
     "data": {
      "image/png": "[encoded data removed]",
      "text/plain": [
       "<matplotlib.figure.Figure at 0x7f1a6a8922b0>"
      ]
     },
     "metadata": {},
     "output_type": "display_data"
    }
   ],
   "source": [
    "# Plot summed error as a function of iteration\n",
    "plt.scatter(iterations, errors, c = \"black\", alpha = 0.25)"
   ]
  },
  {
   "cell_type": "code",
   "execution_count": 14,
   "metadata": {
    "collapsed": false
   },
   "outputs": [],
   "source": [
    "# Get rid of the 2nd dimension of 1 from the FloatTensor\n",
    "y_pred_resized = y_pred.resize(11959)\n",
    "\n",
    "\n",
    "# Make the FloatTensor into a numpy.array\n",
    "y_pred_array = y_pred_resized.data.numpy()\n",
    "\n",
    "\n",
    "# Make the numpy.array into a list\n",
    "y_pred_list = y_pred_array.tolist()"
   ]
  },
  {
   "cell_type": "code",
   "execution_count": 15,
   "metadata": {
    "collapsed": false
   },
   "outputs": [],
   "source": [
    "# Get rid of the 2nd dimension of 1 from the FloatTensor\n",
    "outcomes_Variable_resized = outcomes_Variable.resize(11959)\n",
    "\n",
    "\n",
    "# Make the FloatTensor into a numpy.array\n",
    "outcomes_array = outcomes_Variable_resized.data.numpy()\n",
    "\n",
    "\n",
    "# Make the numpy.array into a list\n",
    "outcomes_list = outcomes_array.tolist()"
   ]
  },
  {
   "cell_type": "code",
   "execution_count": 16,
   "metadata": {
    "collapsed": false
   },
   "outputs": [
    {
     "data": {
      "text/plain": [
       "[<matplotlib.lines.Line2D at 0x7f1a6b3b3048>]"
      ]
     },
     "execution_count": 16,
     "metadata": {},
     "output_type": "execute_result"
    },
    {
     "data": {
      "image/png": "[encoded data removed]",
      "text/plain": [
       "<matplotlib.figure.Figure at 0x7f1a69315c18>"
      ]
     },
     "metadata": {},
     "output_type": "display_data"
    }
   ],
   "source": [
    "# Plot predictions versus training set outcomes\n",
    "plt.scatter(outcomes_list, y_pred_list, c = \"black\", alpha = 0.15)\n",
    "\n",
    "axes = plt.gca()\n",
    "\n",
    "axes.set_xlim([-2, 4])\n",
    "\n",
    "axes.set_ylim([-2, 4])\n",
    "\n",
    "plt.plot([-2, 4], [-2, 4], 'k-', lw=2)"
   ]
  },
  {
   "cell_type": "markdown",
   "metadata": {},
   "source": [
    "### Round 1.1: Validation Set Performance"
   ]
  },
  {
   "cell_type": "code",
   "execution_count": 17,
   "metadata": {
    "collapsed": false
   },
   "outputs": [
    {
     "name": "stdout",
     "output_type": "stream",
     "text": [
      "<class 'pandas.core.frame.DataFrame'>\n",
      "RangeIndex: 3987 entries, 0 to 3986\n",
      "Data columns (total 1 columns):\n",
      "DAMAGE_PROPERTY    3987 non-null float64\n",
      "dtypes: float64(1)\n",
      "memory usage: 31.2 KB\n"
     ]
    }
   ],
   "source": [
    "# Import data\n",
    "valid_df = pd.read_csv(\"/home/jeremy/github_tornadoesr/data/raw/tor_cv_set.csv\")\n",
    "\n",
    "\n",
    "# Validation set outcomes\n",
    "valid_outcomes = valid_df.iloc[:, [0]]\n",
    "\n",
    "\n",
    "# Make the validation outcomes into a numpy array\n",
    "valid_outcomes_array = valid_outcomes.values\n",
    "\n",
    "\n",
    "# Makes the numpy array into a torch Tensor\n",
    "valid_outcomes_Tensor = torch.from_numpy(valid_outcomes_array)\n",
    "\n",
    "\n",
    "# Changing validation outcomes from a DoubleTensor to a FloatTensor\n",
    "valid_outcomes_Tensor = valid_outcomes_Tensor.float()\n",
    "\n",
    "\n",
    "# Make the Tensor into a Pytorch Variable\n",
    "valid_outcomes_Variable = Variable(valid_outcomes_Tensor)\n",
    "\n",
    "\n",
    "# Quick check\n",
    "valid_outcomes.info()"
   ]
  },
  {
   "cell_type": "code",
   "execution_count": 18,
   "metadata": {
    "collapsed": false
   },
   "outputs": [
    {
     "name": "stdout",
     "output_type": "stream",
     "text": [
      "<class 'pandas.core.frame.DataFrame'>\n",
      "RangeIndex: 3987 entries, 0 to 3986\n",
      "Data columns (total 34 columns):\n",
      "DURATION_SECONDS      3987 non-null float64\n",
      "BEGIN_LAT             3987 non-null float64\n",
      "BEGIN_LON             3987 non-null float64\n",
      "TOR_LENGTH            3987 non-null float64\n",
      "TOR_WIDTH             3987 non-null float64\n",
      "YEAR                  3987 non-null float64\n",
      "MULTI_VORT_IND        3987 non-null int64\n",
      "OPEN_WATER_PROP       3987 non-null float64\n",
      "DEV_OPEN_PROP         3987 non-null float64\n",
      "DEV_LOW_PROP          3987 non-null float64\n",
      "DEV_MED_PROP          3987 non-null float64\n",
      "DEV_HIGH_PROP         3987 non-null float64\n",
      "BARREN_LAND_PROP      3987 non-null float64\n",
      "DECID_FOREST_PROP     3987 non-null float64\n",
      "EVERGR_FOREST_PROP    3987 non-null float64\n",
      "MIXED_FOREST_PROP     3987 non-null float64\n",
      "SHRUB_SCRUB_PROP      3987 non-null float64\n",
      "GRASS_LAND_PROP       3987 non-null float64\n",
      "PASTURE_HAY_PROP      3987 non-null float64\n",
      "CULT_CROPS_PROP       3987 non-null float64\n",
      "WOOD_WETLAND_PROP     3987 non-null float64\n",
      "HERB_WETLAND_PROP     3987 non-null float64\n",
      "INCOME                3987 non-null float64\n",
      "MOB_HOME_DENS         3987 non-null float64\n",
      "POP_DENS              3987 non-null float64\n",
      "TOR_AREA              3987 non-null float64\n",
      "TOT_DEV_INT           3987 non-null float64\n",
      "TOT_WOOD_AREA         3987 non-null float64\n",
      "WOOD_DEV_INT          3987 non-null float64\n",
      "EXP_INC_AREA          3987 non-null float64\n",
      "DAY_OF_YEAR           3987 non-null float64\n",
      "MONTH                 3987 non-null float64\n",
      "STATE_RANK            3987 non-null float64\n",
      "TIME                  3987 non-null float64\n",
      "dtypes: float64(33), int64(1)\n",
      "memory usage: 1.0 MB\n"
     ]
    }
   ],
   "source": [
    "# Validation set predictors\n",
    "valid_predictors = valid_df.iloc[:, 1:]\n",
    "\n",
    "\n",
    "# Make the validation predictors into a numpy array\n",
    "valid_predictors_array = valid_predictors.values\n",
    "\n",
    "\n",
    "# Makes the numpy array into a torch Tensor\n",
    "valid_predictors_Tensor = torch.from_numpy(valid_predictors_array)\n",
    "\n",
    "\n",
    "# Changing validation predictors from a DoubleTensor to a FloatTensor\n",
    "valid_predictors_Tensor = valid_predictors_Tensor.float()\n",
    "\n",
    "\n",
    "# Make the Tensor into a Pytorch Variable\n",
    "valid_predictors_Variable = Variable(valid_predictors_Tensor)\n",
    "\n",
    "\n",
    "# Quick check\n",
    "valid_predictors.info()"
   ]
  },
  {
   "cell_type": "code",
   "execution_count": 19,
   "metadata": {
    "collapsed": false
   },
   "outputs": [
    {
     "data": {
      "text/plain": [
       "Variable containing:\n",
       " 2178.7625\n",
       "[torch.FloatTensor of size 1]"
      ]
     },
     "execution_count": 19,
     "metadata": {},
     "output_type": "execute_result"
    }
   ],
   "source": [
    "# Get the validation set predictions\n",
    "y_valid_pred = model(valid_predictors_Variable)\n",
    "\n",
    "\n",
    "# Print the loss\n",
    "loss_fn(y_valid_pred,\n",
    "        valid_outcomes_Variable)"
   ]
  },
  {
   "cell_type": "code",
   "execution_count": 20,
   "metadata": {
    "collapsed": false
   },
   "outputs": [],
   "source": [
    "# Get rid of the 2nd dimension of 1 from the FloatTensor\n",
    "y_valid_pred_resized = y_valid_pred.resize(3987)\n",
    "\n",
    "\n",
    "# Make the FloatTensor into a numpy.array\n",
    "y_valid_pred_array = y_valid_pred_resized.data.numpy()\n",
    "\n",
    "\n",
    "# Convert back to log scale\n",
    "y_valid_pred_array = y_valid_pred_array*5.407597 + 7.688844\n",
    "\n",
    "\n",
    "# Make the numpy.array into a list\n",
    "y_valid_pred_list = y_valid_pred_array.tolist()"
   ]
  },
  {
   "cell_type": "code",
   "execution_count": 21,
   "metadata": {
    "collapsed": false
   },
   "outputs": [],
   "source": [
    "# Get rid of the 2nd dimension of 1 from the FloatTensor\n",
    "valid_outcomes_Variable_resized = valid_outcomes_Variable.resize(3987)\n",
    "\n",
    "\n",
    "# Make the FloatTensor into a numpy.array\n",
    "valid_outcomes_array = valid_outcomes_Variable_resized.data.numpy()\n",
    "\n",
    "\n",
    "# Convert back to log scale\n",
    "valid_outcomes_array = valid_outcomes_array*5.407597 + 7.688844\n",
    "\n",
    "\n",
    "# Make the numpy.array into a list\n",
    "valid_outcomes_list = valid_outcomes_array.tolist()"
   ]
  },
  {
   "cell_type": "code",
   "execution_count": 22,
   "metadata": {
    "collapsed": false
   },
   "outputs": [
    {
     "data": {
      "text/plain": [
       "<matplotlib.text.Text at 0x7f1a6810fa58>"
      ]
     },
     "execution_count": 22,
     "metadata": {},
     "output_type": "execute_result"
    },
    {
     "data": {
      "image/png": "[encoded data removed]",
      "text/plain": [
       "<matplotlib.figure.Figure at 0x7f1a6813cfd0>"
      ]
     },
     "metadata": {},
     "output_type": "display_data"
    }
   ],
   "source": [
    "# Plot new predictions versus new data outcomes\n",
    "plt.scatter(valid_outcomes_list, y_valid_pred_list, c = \"black\", alpha = 0.15)\n",
    "\n",
    "axes = plt.gca()\n",
    "\n",
    "axes.set_xlim([0, 24])\n",
    "\n",
    "axes.set_ylim([0, 24])\n",
    "\n",
    "axes.set_xticks([0, 4, 8, 12, 16, 20, 24])\n",
    "\n",
    "axes.set_yticks([0, 4, 8, 12, 16, 20, 24])\n",
    "\n",
    "plt.plot([0, 24], [0, 24], 'k-', lw = 2)\n",
    "\n",
    "axes.set_xlabel(\"Actual Outcome (Log-Transformed US Dollars)\")\n",
    "\n",
    "axes.set_ylabel(\"Model Prediction (Log-Transformed US Dollars)\")\n",
    "\n",
    "axes.set_title(\"Model Performance\")"
   ]
  },
  {
   "cell_type": "code",
   "execution_count": 23,
   "metadata": {
    "collapsed": false
   },
   "outputs": [
    {
     "data": {
      "text/plain": [
       "Parameter containing:\n",
       "\n",
       "Columns 0 to 5 \n",
       "-1.1840e-02 -1.6964e-01 -4.8982e-01  1.9910e-01 -3.6053e-01  8.2938e-02\n",
       " 1.9594e-02 -2.3921e-02 -1.6897e-01 -5.4176e-02 -7.1658e-01  2.2675e-01\n",
       "-2.6383e-01  5.5796e-02 -4.8715e-01  5.1467e-01 -2.6445e-01  4.9996e-01\n",
       " 2.2469e-01  4.9214e-04  8.0809e-02 -2.5014e-02  1.4827e-01 -2.0886e-01\n",
       "-2.2382e-01 -5.9969e-01 -1.7103e-01 -1.7916e-01 -4.0904e-01 -1.6028e-01\n",
       " 1.4482e-02  2.1579e-01  4.2890e-01  1.1373e-01  3.3554e-01 -2.0108e-01\n",
       " 1.6478e-01 -4.0692e-01 -2.1737e-01  1.2284e-02 -2.7140e-02 -8.4817e-02\n",
       "-1.0795e-01  3.1710e-01  2.6929e-01  2.6630e-01 -9.2557e-02  9.6463e-02\n",
       " 1.4431e-01 -2.5184e-01 -1.4413e-01 -4.1432e-01  1.1278e-01  2.7974e-01\n",
       " 1.7713e-01 -2.7028e-02  6.1246e-02 -1.9226e-01  1.6803e-01  1.0662e-01\n",
       " 8.8331e-02  8.8537e-01  4.2783e-01 -5.3952e-02  3.6319e-01 -4.3447e-01\n",
       " 3.4895e-01  3.7867e-02 -1.3092e-01 -2.4246e-01  1.5203e-02  2.0876e-01\n",
       " 9.2552e-02 -1.4599e-01 -1.5472e-01 -3.9442e-01 -1.3755e-01  2.8747e-02\n",
       " 1.3669e-01  3.5276e-01 -9.6027e-02 -2.4012e-01  2.8311e-02 -6.7408e-02\n",
       " 2.9743e-01 -1.7161e-01 -2.3750e-01  3.4784e-01 -1.1288e-01  1.4119e-01\n",
       " 4.4501e-02  3.1104e-01 -1.1742e-01 -2.1898e-01 -1.6414e-01  1.5979e-01\n",
       "-5.8829e-02  2.4528e-01 -3.4759e-01 -3.0215e-02 -2.1704e-01  2.9856e-01\n",
       "-6.4133e-02  2.0831e-02  1.4980e-01 -4.3227e-01 -4.3841e-01 -2.3462e-01\n",
       " 1.2000e-01  3.4844e-01 -2.7663e-02  7.4566e-02  6.3798e-02  2.1138e-01\n",
       " 1.4458e-02  6.0836e-01  3.8782e-02 -1.3604e-01  1.3402e-01  3.1209e-01\n",
       "-8.7260e-02  1.4918e-02 -3.2287e-01  3.7447e-01 -4.9327e-01 -1.1578e-01\n",
       "-3.1830e-02  1.8406e-01  1.1818e-01 -1.0063e-01  2.9477e-02 -5.5702e-02\n",
       " 2.0879e-01 -4.3537e-02 -5.6903e-02 -4.2046e-02  7.7593e-02  3.0173e-01\n",
       "\n",
       "Columns 6 to 11 \n",
       " 9.3851e-01 -9.9118e-03 -2.0491e-01  1.7052e-01  1.8948e-01 -9.1411e-02\n",
       "-9.3854e-01 -1.5020e-01 -2.9813e-02 -9.6355e-02 -1.3485e-01  2.5693e-01\n",
       " 3.2244e-01 -3.6056e-01 -7.5919e-02  2.5809e-01  4.6228e-01 -2.1737e-01\n",
       "-3.7354e-02  8.7924e-03  6.0540e-01 -1.1579e-01 -1.2398e-01  1.0800e-02\n",
       "-1.1215e+00  1.2910e-01  3.3239e-01 -2.1258e-01 -1.0918e-01 -1.6146e-01\n",
       "-1.2566e-01 -1.2158e-01  4.0586e-01 -2.2021e-01  1.1234e-01  7.3342e-02\n",
       "-8.7670e-01 -2.9607e-01  2.4745e-02  2.0230e-01 -2.5657e-01  4.0182e-01\n",
       "-7.7855e-01 -8.6110e-02  1.0790e-01  3.2079e-01  2.8325e-01 -3.1274e-01\n",
       "-4.9515e-01 -4.9078e-01 -2.1274e-01 -6.7507e-02 -2.9777e-02  1.4489e-01\n",
       " 4.8199e-01 -1.1488e-01  2.7792e-01 -2.2105e-01  5.8432e-02  1.4702e-01\n",
       " 6.0517e-01  2.5397e-02  3.2481e-01 -3.0282e-01  2.9157e-01 -3.7057e-01\n",
       "-5.1770e-01 -1.4767e-01  3.7405e-01 -7.2482e-02  1.7569e-01 -7.0614e-03\n",
       " 7.9993e-01 -4.0138e-02  1.8021e-01  4.9246e-03 -6.6209e-02  1.3911e-01\n",
       " 5.0600e-01  2.3005e-01 -3.8364e-01  3.0142e-01  4.3493e-02 -1.6280e-02\n",
       " 1.1713e+00 -2.4844e-01  4.0249e-02 -4.3018e-01  7.1739e-02  3.6300e-01\n",
       "-1.6227e-01 -1.3958e-01 -5.0413e-02 -2.7210e-02  3.2520e-01 -3.1940e-01\n",
       "-8.7379e-02  2.1061e-01 -1.1438e-01  2.0249e-02 -2.8451e-02 -6.9772e-02\n",
       "-4.2188e-01  1.4313e-01  1.1069e-01  1.3795e-01 -1.2270e-01 -1.0515e-01\n",
       "-7.4419e-01  1.5989e-01 -5.8934e-02  1.7539e-01 -2.0402e-01  1.5883e-01\n",
       " 9.9749e-02  3.4387e-02  8.7006e-02 -1.0035e-01  1.4515e-01  1.0081e-01\n",
       " 6.4436e-01  7.6590e-03  6.2603e-02 -8.1633e-02  1.1564e-01 -1.8446e-01\n",
       " 8.9298e-01 -5.5037e-02 -4.6594e-02 -4.7279e-02  1.1483e-01 -1.4329e-02\n",
       "-2.7538e-02 -1.7043e-01 -5.5528e-02  2.4008e-01 -1.4927e-02 -1.3657e-01\n",
       "\n",
       "Columns 12 to 17 \n",
       "-1.7183e-02 -1.1588e-01  8.6215e-02  1.0559e-01 -1.7214e-01 -1.3098e-01\n",
       " 7.2635e-02 -1.3155e-01 -1.0592e-02  1.9879e-01  2.2442e-02 -3.4895e-02\n",
       " 5.1205e-02 -1.5019e-01 -1.8526e-02  3.3179e-01 -3.9884e-01 -1.5708e-01\n",
       " 1.2048e-01 -6.6235e-02 -1.3013e-01 -1.0103e-01  4.8660e-02  1.8093e-01\n",
       " 2.2922e-01 -2.6435e-01 -4.7451e-01  1.2584e-01 -2.7557e-01 -2.1037e-01\n",
       " 7.6354e-02  1.9367e-01  1.3849e-01 -2.6533e-01 -5.9118e-02 -8.6249e-02\n",
       " 2.1390e-01  2.0607e-04 -5.5516e-02  2.9204e-01  3.3693e-03 -8.1254e-02\n",
       " 1.0261e-01 -6.9408e-05 -2.4194e-01 -9.3888e-03 -2.6536e-01 -1.6454e-01\n",
       " 3.1894e-01  1.3469e-01 -1.3533e-01 -1.8236e-01  1.6504e-01 -2.3343e-01\n",
       "-1.4942e-01 -1.2224e-02  3.8027e-01 -9.9513e-02  6.8870e-02  1.1620e-01\n",
       "-5.3493e-04  3.0015e-01 -3.0326e-01 -5.5034e-01  4.3296e-01  2.5378e-01\n",
       " 9.7511e-02 -1.5145e-01 -6.5101e-02 -2.0704e-01  1.5233e-01  4.0635e-02\n",
       " 2.2406e-02 -2.4646e-01  2.1852e-02  1.2285e-01 -1.7834e-01  1.1830e-01\n",
       "-1.2918e-02 -3.3502e-01 -7.1962e-02  6.0256e-02  3.7965e-02  2.5155e-02\n",
       "-8.1602e-02  3.2093e-02  3.2520e-01  1.6412e-01 -1.4432e-03  1.0472e-01\n",
       "-2.3345e-02 -2.8976e-01 -1.0272e-01 -3.7736e-02  2.5530e-02  2.4874e-01\n",
       "-1.1440e-01  1.4770e-01 -6.7464e-02  1.4867e-01 -8.9048e-02  3.0802e-01\n",
       "-1.8423e-01 -4.7135e-01  8.5093e-02  1.6177e-01 -4.0654e-03  3.7552e-01\n",
       "-9.9689e-02  2.8596e-02 -2.3670e-02 -1.7050e-01  2.2895e-01 -5.2027e-02\n",
       "-2.0317e-01  1.5049e-01 -1.7293e-01 -2.7223e-01  3.1849e-01  9.7838e-03\n",
       "-1.4259e-01 -6.1744e-02  1.3757e-01  7.0364e-02 -2.2788e-01  3.8399e-01\n",
       "-1.4164e-02 -3.1633e-01  1.2734e-01 -2.7584e-02  1.0169e-01 -1.0683e-01\n",
       "-3.2324e-02  1.9675e-01 -3.8964e-02  1.6487e-01 -3.3136e-01  1.6365e-02\n",
       "\n",
       "Columns 18 to 23 \n",
       "-3.4956e-02 -1.2339e-01  1.2003e-01  1.2498e-02 -5.4246e-02 -5.5468e-03\n",
       "-1.5665e-01  3.7043e-02  3.5329e-02  2.4912e-02 -4.0307e-02  1.0590e-01\n",
       " 1.4135e-01 -4.0932e-02  3.7790e-01 -2.7537e-01 -4.3292e-02 -2.4024e-01\n",
       "-9.1387e-02  2.8381e-01 -2.1493e-02 -5.6504e-02 -1.9579e-01  3.2315e-01\n",
       " 1.2605e-01 -5.8661e-02 -2.2022e-01  1.4766e-01 -1.2705e-01 -1.2365e-01\n",
       "-2.3962e-02 -2.5044e-02  2.5457e-01  1.9407e-02 -1.4863e-01 -5.1179e-02\n",
       "-5.1106e-01  2.2299e-01  2.7172e-01 -3.6070e-02 -2.4274e-01  5.6102e-01\n",
       "-4.3698e-02  1.4135e-02 -2.4848e-01 -1.5601e-01  2.0494e-02 -6.6967e-02\n",
       "-3.8005e-01  3.0063e-01 -3.0533e-01  3.0100e-01 -6.9063e-01  2.4961e-02\n",
       "-1.6499e-01 -1.3917e-02  3.0110e-01  2.0992e-01 -2.9147e-01  1.3099e-01\n",
       " 5.8772e-02  1.1077e-01 -1.5737e-01 -1.5180e-01  3.7815e-03  3.3286e-02\n",
       "-1.0321e-02  1.0926e-01 -1.4067e-01 -5.7274e-03 -3.9443e-01  4.3047e-02\n",
       "-2.0892e-02  5.7610e-02 -1.0484e-01 -9.7267e-02  3.7026e-02  2.8976e-02\n",
       "-7.1475e-02 -1.8675e-01 -1.4690e-01  6.9227e-02  2.6417e-03 -2.0474e-01\n",
       "-2.7017e-01  8.5273e-02  2.8298e-01  2.2786e-01 -2.5018e-01 -8.1391e-02\n",
       " 8.2130e-03 -3.3682e-02 -6.0067e-02 -4.5617e-03 -8.4544e-02 -8.5559e-02\n",
       " 2.0237e-02  2.1234e-01 -9.9789e-02  8.5048e-02 -9.1555e-02 -3.0775e-01\n",
       " 2.7481e-01  2.6432e-01  2.7674e-01  2.1681e-01 -1.3976e-01  3.5790e-01\n",
       " 3.1672e-01  2.3372e-02 -3.9139e-01 -6.9903e-02  2.4937e-02 -1.0726e-02\n",
       " 1.8418e-01 -1.3580e-01 -3.1536e-01  1.0658e-02 -3.4979e-02  2.2885e-02\n",
       "-2.3872e-01  1.1075e-01 -2.0754e-01  4.7138e-02 -1.6781e-02  2.3914e-02\n",
       " 7.1976e-02 -6.6854e-02 -1.4232e-01 -1.8337e-01  1.9162e-01  2.7056e-01\n",
       "-2.1609e-01  9.1694e-02 -8.7524e-02  1.0607e-01 -1.8233e-01  2.3710e-01\n",
       "\n",
       "Columns 24 to 29 \n",
       "-1.0147e-01 -1.2668e-01 -5.9198e-02  5.2482e-02  1.5930e-02 -1.6495e-01\n",
       "-1.3380e-01  4.8005e-01 -1.4081e-01  4.3822e-02  1.6538e-01  4.0394e-01\n",
       "-2.0428e-01 -4.9935e-02 -3.7999e-01  3.5347e-01 -1.4764e-01 -2.2285e-01\n",
       "-1.8148e-01  2.4307e-03  1.1129e-01 -1.6193e-02 -1.4252e-01 -8.0126e-02\n",
       " 1.7787e-01  5.5048e-01  5.1551e-01  1.2460e-03  4.3690e-01  5.4389e-01\n",
       "-9.8230e-03 -1.9013e-02 -1.8261e-01 -2.8796e-02 -4.0566e-01  2.4086e-02\n",
       " 3.5460e-02  2.0338e-01 -7.2371e-02  1.0266e-01 -2.5925e-01 -1.1095e-02\n",
       " 1.8793e-01 -5.8426e-02 -3.9656e-01  1.9201e-01  2.6807e-01  2.4954e-01\n",
       " 4.5762e-01  5.0087e-02  2.6431e-01  5.6103e-01  2.4623e-01 -8.5238e-02\n",
       " 2.3532e-01  3.1425e-02 -1.6715e-01 -1.4656e-01 -3.0526e-01 -1.5565e-02\n",
       " 9.5009e-02  1.3947e-01  3.7860e-01 -1.3713e-01  1.9230e-01  2.0321e-01\n",
       "-3.5973e-02 -1.3901e-01  3.8010e-02  2.1662e-01 -1.7352e-03 -1.9895e-01\n",
       "-1.3888e-01 -1.2983e-01 -8.3017e-02 -1.0212e-01  1.3919e-02  1.7088e-02\n",
       "-2.5910e-01  1.6420e-02  2.3608e-01  2.3873e-01  8.5263e-02  1.4928e-01\n",
       " 2.8456e-01 -3.7348e-03 -2.9361e-01 -2.6436e-01  4.3441e-01 -1.1695e-01\n",
       "-2.7385e-02 -2.8366e-01 -7.1585e-02  1.5331e-01 -1.1753e-01 -2.3389e-01\n",
       " 2.7409e-01  7.2968e-02  3.4174e-02  4.6497e-02  3.0419e-03  2.4759e-02\n",
       "-3.0607e-01  2.8317e-01 -2.8499e-01  2.7615e-02  1.4231e-02  3.0879e-01\n",
       " 1.0978e-01  3.8747e-03 -7.3997e-02  5.5235e-01  4.3683e-02 -1.7020e-01\n",
       "-1.0403e-01 -7.9165e-02  3.9176e-02  2.9264e-01  5.2412e-02  7.9907e-02\n",
       " 1.0200e-02 -2.4124e-01 -6.5944e-02 -2.2512e-01 -1.2341e-01 -2.4933e-01\n",
       "-1.5818e-01  2.8139e-01 -1.8665e-02  2.5949e-01  1.6337e-01 -3.7752e-02\n",
       " 5.2526e-02  2.2404e-02  1.8500e-01  1.1228e-01 -2.4289e-01  1.3241e-01\n",
       "\n",
       "Columns 30 to 33 \n",
       "-7.5248e-02 -5.6096e-02  2.8865e-01 -1.1507e-01\n",
       " 1.1747e-01  1.4583e-02 -3.6654e-01 -2.0986e-01\n",
       "-2.7849e-01  2.3270e-01  1.7792e-01 -5.8920e-01\n",
       "-5.1074e-01  2.4021e-01  1.7392e-01 -3.4355e-02\n",
       " 5.9363e-03  5.9358e-02  3.0853e-01  6.9549e-02\n",
       "-1.7513e-01  3.1076e-01  4.1830e-02  3.1505e-03\n",
       "-7.4976e-02 -5.8348e-01 -2.3672e-01 -3.0410e-01\n",
       " 1.5299e-01 -6.5312e-02  5.0457e-01  1.5090e-01\n",
       " 8.2320e-02 -3.6221e-01 -5.4817e-01 -9.1744e-02\n",
       " 1.2965e-01  1.4810e-01  2.9165e-01  1.0033e-01\n",
       "-2.2834e-01  5.2492e-02  1.4608e-02  7.1053e-02\n",
       "-7.1481e-02 -9.0246e-02 -2.3530e-02  1.2012e-02\n",
       " 2.9811e-01 -2.1833e-01 -5.5366e-02 -8.8165e-03\n",
       "-3.2152e-01  2.8231e-01 -1.5107e-01 -5.7974e-02\n",
       " 1.6935e-01  3.4180e-01 -1.9905e-01 -2.1993e-01\n",
       "-1.6164e-01  1.5250e-01 -1.4782e-01 -1.2539e-01\n",
       " 6.9870e-02 -7.3473e-02 -4.3237e-01 -2.3164e-02\n",
       " 2.9584e-02 -4.9629e-02 -1.8743e-01 -1.7315e-01\n",
       " 2.6898e-01 -3.1268e-01 -1.4931e-01 -2.8936e-02\n",
       " 3.0389e-02 -6.0308e-02 -3.0946e-01  1.2648e-01\n",
       "-2.9549e-01  9.2047e-02  8.4929e-02  1.2828e-01\n",
       " 4.4020e-01 -1.8788e-01  3.2898e-01  5.4757e-01\n",
       "-2.1172e-01  9.3037e-02  4.3938e-01  1.7442e-01\n",
       "[torch.FloatTensor of size 23x34]"
      ]
     },
     "execution_count": 23,
     "metadata": {},
     "output_type": "execute_result"
    }
   ],
   "source": [
    "model[(0)].weight"
   ]
  },
  {
   "cell_type": "code",
   "execution_count": 24,
   "metadata": {
    "collapsed": false
   },
   "outputs": [
    {
     "data": {
      "text/plain": [
       "Parameter containing:\n",
       "\n",
       "Columns 0 to 9 \n",
       "-0.6686 -0.6393  0.2521 -0.6670  0.2962  0.4435  0.3462 -0.5743 -0.3515 -0.5227\n",
       "\n",
       "Columns 10 to 19 \n",
       " 0.4076  0.6468 -0.5125  0.4195  0.4256 -0.3817 -0.5142  0.2805  0.6333 -0.6530\n",
       "\n",
       "Columns 20 to 22 \n",
       " 0.4813  0.2528  0.4368\n",
       "[torch.FloatTensor of size 1x23]"
      ]
     },
     "execution_count": 24,
     "metadata": {},
     "output_type": "execute_result"
    }
   ],
   "source": [
    "model[(2)].weight"
   ]
  },
  {
   "cell_type": "markdown",
   "metadata": {},
   "source": [
    "## Round 2: Two-Hidden-Layer Neural Network"
   ]
  },
  {
   "cell_type": "code",
   "execution_count": 25,
   "metadata": {
    "collapsed": true
   },
   "outputs": [],
   "source": [
    "# Make the torch Tensor into a PyTorch Variable for dependent variables\n",
    "outcomes_Variable = Variable(outcomes_Tensor)\n",
    "\n",
    "\n",
    "# ...for independent variables\n",
    "features_Variable = Variable(features_Tensor,\n",
    "                             requires_grad = False)"
   ]
  },
  {
   "cell_type": "code",
   "execution_count": 26,
   "metadata": {
    "collapsed": true
   },
   "outputs": [],
   "source": [
    "# Make the neural network\n",
    "model = torch.nn.Sequential(torch.nn.Linear(34, 23),\n",
    "                            torch.nn.ReLU(),\n",
    "                            torch.nn.Linear(23, 15),\n",
    "                            torch.nn.ReLU(),\n",
    "                            torch.nn.Linear(15, 1))"
   ]
  },
  {
   "cell_type": "code",
   "execution_count": 27,
   "metadata": {
    "collapsed": false
   },
   "outputs": [],
   "source": [
    "# To add errors to\n",
    "errors = []\n",
    "\n",
    "\n",
    "# Set the learning rate\n",
    "learning_rate = 1e-2\n",
    "\n",
    "\n",
    "# Define the model's optimizer\n",
    "optimizer = torch.optim.Adagrad(model.parameters(), lr = learning_rate)\n",
    "\n",
    "\n",
    "# Train the neural network\n",
    "for t in range(10000):\n",
    "    \n",
    "    # Get the current predictions\n",
    "    y_pred = model(features_Variable)\n",
    "    \n",
    "    # Compute and append current summed errors\n",
    "    loss = loss_fn(y_pred, outcomes_Variable)\n",
    "    errors.append(loss.data[0])\n",
    "    \n",
    "    # Zero the gradients before running the backward pass.\n",
    "    optimizer.zero_grad()\n",
    "    \n",
    "    # Backward pass: compute gradient of the loss with respect to all the learnable Variables\n",
    "    loss.backward()\n",
    "    \n",
    "    # Update the weights using Adagrad\n",
    "    optimizer.step()"
   ]
  },
  {
   "cell_type": "code",
   "execution_count": 28,
   "metadata": {
    "collapsed": false
   },
   "outputs": [
    {
     "data": {
      "text/plain": [
       "<matplotlib.collections.PathCollection at 0x7f1a68053390>"
      ]
     },
     "execution_count": 28,
     "metadata": {},
     "output_type": "execute_result"
    },
    {
     "data": {
      "image/png": "[encoded data removed]",
      "text/plain": [
       "<matplotlib.figure.Figure at 0x7f1a681ac5f8>"
      ]
     },
     "metadata": {},
     "output_type": "display_data"
    }
   ],
   "source": [
    "# Plot summed error as a function of iteration\n",
    "plt.scatter(iterations, errors, c = \"black\", alpha = 0.25)"
   ]
  },
  {
   "cell_type": "code",
   "execution_count": 29,
   "metadata": {
    "collapsed": false
   },
   "outputs": [],
   "source": [
    "# Get rid of the 2nd dimension of 1 from the FloatTensor\n",
    "y_pred_resized = y_pred.resize(11959)\n",
    "\n",
    "\n",
    "# Make the FloatTensor into a numpy.array\n",
    "y_pred_array = y_pred_resized.data.numpy()\n",
    "\n",
    "\n",
    "# Make the numpy.array into a list\n",
    "y_pred_list = y_pred_array.tolist()"
   ]
  },
  {
   "cell_type": "code",
   "execution_count": 30,
   "metadata": {
    "collapsed": false
   },
   "outputs": [
    {
     "data": {
      "text/plain": [
       "[<matplotlib.lines.Line2D at 0x7f1a6a041b70>]"
      ]
     },
     "execution_count": 30,
     "metadata": {},
     "output_type": "execute_result"
    },
    {
     "data": {
      "image/png": "[encoded data removed]",
      "text/plain": [
       "<matplotlib.figure.Figure at 0x7f1a6a041c50>"
      ]
     },
     "metadata": {},
     "output_type": "display_data"
    }
   ],
   "source": [
    "# Plot predictions versus training set outcomes\n",
    "plt.scatter(outcomes_list, y_pred_list, c = \"black\", alpha = 0.15)\n",
    "\n",
    "axes = plt.gca()\n",
    "\n",
    "axes.set_xlim([-2, 4])\n",
    "\n",
    "axes.set_ylim([-2, 4])\n",
    "\n",
    "plt.plot([-2, 4], [-2, 4], 'k-', lw=2)"
   ]
  },
  {
   "cell_type": "markdown",
   "metadata": {},
   "source": [
    "### Round 2.1: Validation Set Performance"
   ]
  },
  {
   "cell_type": "code",
   "execution_count": 31,
   "metadata": {
    "collapsed": false
   },
   "outputs": [
    {
     "data": {
      "text/plain": [
       "Variable containing:\n",
       " 2250.4863\n",
       "[torch.FloatTensor of size 1]"
      ]
     },
     "execution_count": 31,
     "metadata": {},
     "output_type": "execute_result"
    }
   ],
   "source": [
    "# Get the validation set predictions\n",
    "y_valid_pred = model(valid_predictors_Variable)\n",
    "\n",
    "\n",
    "# Print the loss\n",
    "loss_fn(y_valid_pred,\n",
    "        valid_outcomes_Variable)"
   ]
  },
  {
   "cell_type": "code",
   "execution_count": 32,
   "metadata": {
    "collapsed": false
   },
   "outputs": [],
   "source": [
    "# Get rid of the 2nd dimension of 1 from the FloatTensor\n",
    "y_valid_pred_resized = y_valid_pred.resize(3987)\n",
    "\n",
    "\n",
    "# Make the FloatTensor into a numpy.array\n",
    "y_valid_pred_array = y_valid_pred_resized.data.numpy()\n",
    "\n",
    "\n",
    "# Convert back to log scale\n",
    "y_valid_pred_array = y_valid_pred_array*5.407597 + 7.688844\n",
    "\n",
    "\n",
    "# Make the numpy.array into a list\n",
    "y_valid_pred_list = y_valid_pred_array.tolist()"
   ]
  },
  {
   "cell_type": "code",
   "execution_count": 33,
   "metadata": {
    "collapsed": false
   },
   "outputs": [
    {
     "data": {
      "text/plain": [
       "<matplotlib.text.Text at 0x7f1a5710e828>"
      ]
     },
     "execution_count": 33,
     "metadata": {},
     "output_type": "execute_result"
    },
    {
     "data": {
      "image/png": "[encoded data removed]",
      "text/plain": [
       "<matplotlib.figure.Figure at 0x7f1a5716f780>"
      ]
     },
     "metadata": {},
     "output_type": "display_data"
    }
   ],
   "source": [
    "# Plot new predictions versus new data outcomes\n",
    "plt.scatter(valid_outcomes_list, y_valid_pred_list, c = \"black\", alpha = 0.15)\n",
    "\n",
    "axes = plt.gca()\n",
    "\n",
    "axes.set_xlim([0, 24])\n",
    "\n",
    "axes.set_ylim([0, 24])\n",
    "\n",
    "axes.set_xticks([0, 4, 8, 12, 16, 20, 24])\n",
    "\n",
    "axes.set_yticks([0, 4, 8, 12, 16, 20, 24])\n",
    "\n",
    "plt.plot([0, 24], [0, 24], 'k-', lw = 2)\n",
    "\n",
    "axes.set_xlabel(\"Actual Outcome (Log-Transformed US Dollars)\")\n",
    "\n",
    "axes.set_ylabel(\"Model Prediction (Log-Transformed US Dollars)\")\n",
    "\n",
    "axes.set_title(\"Model Performance\")"
   ]
  },
  {
   "cell_type": "code",
   "execution_count": 34,
   "metadata": {
    "collapsed": false
   },
   "outputs": [
    {
     "data": {
      "text/plain": [
       "Parameter containing:\n",
       "\n",
       "Columns 0 to 9 \n",
       "-0.0503 -0.1505 -0.3544 -0.1057 -0.0774  0.0788 -0.8824 -0.0569  0.0845 -0.0046\n",
       " 0.1835 -0.2557  0.1343 -0.4693  0.1633 -0.0891 -1.6365 -0.0164  0.1927  0.0396\n",
       "-0.2648  0.1381 -0.0544  0.4732 -0.3158  0.1532 -1.3578 -0.0142 -0.2895  0.0047\n",
       " 0.1360 -0.1206 -0.1639  0.0367 -0.0558  0.1634  0.6941  0.0269 -0.0490 -0.1332\n",
       " 0.0713 -0.2572  0.1061 -0.0167 -0.1720 -0.3019 -0.5116 -0.2308 -0.0847 -0.0843\n",
       "-0.0144 -0.1600 -0.0395 -0.3774  0.2717 -0.2056 -0.2151 -0.0390 -0.0372 -0.3530\n",
       "-0.0068 -0.2565 -0.1096  0.2928  0.0488 -0.4291  0.5735  0.2344 -0.1300  0.0018\n",
       " 0.0055  0.1969  0.2758  0.1327  0.2076 -0.4218 -0.0691  0.1460  0.0828 -0.0705\n",
       " 0.1421  0.0921  0.2899 -0.2089  0.4291  0.0340 -0.7535 -0.0108  0.2479 -0.2994\n",
       " 0.0965  0.0239 -0.1698 -0.1591  0.0779  0.4953 -0.2393 -0.0047  0.0195  0.0932\n",
       " 0.1975  0.1905  0.3179 -0.0322 -0.0970 -0.3371  0.9710 -0.0408 -0.1122 -0.1606\n",
       " 0.1456 -0.3571 -0.4611 -0.0744  0.1278 -0.1462  0.4907  0.0181  0.1351  0.0816\n",
       " 0.1227 -0.3539 -0.4330  0.0234 -0.0903 -0.0734 -1.0519  0.3234  0.1515 -0.4326\n",
       "-0.0493 -0.1278 -0.3679 -0.1802 -0.0500 -0.0313  0.5009  0.2447 -0.0443 -0.1790\n",
       " 0.1006  0.2474  0.0298 -0.0919 -0.0478 -0.0248  0.5162  0.0245 -0.0802  0.0442\n",
       " 0.1805  0.2296 -0.1354  0.0247 -0.1335  0.1985 -0.6624  0.2602 -0.1987  0.1100\n",
       "-0.1943  0.1120  0.0414 -0.4215 -0.1381 -0.3529  1.4945 -0.0604 -0.0502  0.1152\n",
       " 0.0906 -0.0680 -0.1319 -0.2278 -0.4034  0.0001  0.9631 -0.1666  0.1952  0.2175\n",
       " 0.1788 -0.1463  0.1340 -0.0428 -0.0904 -0.5772  0.6705  0.0231 -0.0246  0.0422\n",
       "-0.2356 -0.2768  0.0302  0.0933 -0.1088 -0.3398 -0.5472 -0.0918  0.1395 -0.2836\n",
       " 0.1453  0.1979 -0.0109  0.1983  0.1568 -0.2727  1.1002  0.0538 -0.3260  0.3490\n",
       "-0.3061 -0.0672 -0.1885  0.0342 -0.3806  0.0371 -0.0372  0.0453  0.2325  0.1485\n",
       " 0.1440  0.0153 -0.1570  0.2634  0.0735  0.0420 -0.1807  0.1981  0.2477 -0.2659\n",
       "\n",
       "Columns 10 to 19 \n",
       "-0.0593 -0.0243  0.0083 -0.4194 -0.0038  0.1909 -0.2315 -0.1040 -0.1286 -0.2433\n",
       "-0.1754  0.2200 -0.0374  0.0433 -0.0824 -0.1130 -0.1351 -0.0286  0.2303  0.1820\n",
       "-0.2116  0.1201  0.1341  0.1844  0.0354  0.0506  0.1655 -0.2094 -0.0368 -0.1998\n",
       " 0.0297  0.0412  0.0248 -0.2422  0.2547  0.1693  0.1691  0.1364 -0.1582 -0.0440\n",
       "-0.3584  0.3158  0.0079  0.2035  0.2692  0.0030  0.1412  0.0661  0.0706  0.2361\n",
       " 0.1341  0.1109 -0.1099  0.0676 -0.0757 -0.0311  0.0874  0.0197 -0.1998  0.0013\n",
       "-0.2675 -0.0693 -0.0350  0.1567  0.2036  0.0048  0.2711 -0.0906  0.1067 -0.0080\n",
       " 0.0751 -0.2873  0.0669  0.1639  0.1739 -0.3251  0.2277  0.0166  0.1250 -0.0481\n",
       "-0.0407  0.1545 -0.0494  0.2368  0.2768 -0.3051  0.1318  0.2201  0.2200  0.2652\n",
       "-0.0194  0.0086  0.0175 -0.3354 -0.1385 -0.0106 -0.1478  0.1180 -0.0709 -0.0719\n",
       " 0.1942  0.0956  0.0087  0.1324  0.0990  0.1640  0.0718  0.1667 -0.1183 -0.1465\n",
       " 0.3358 -0.0929 -0.1197  0.0196 -0.0886 -0.1336 -0.2060 -0.3551 -0.1765 -0.0831\n",
       " 0.2236  0.0860  0.0080 -0.0950  0.0697  0.1514  0.0197 -0.0591 -0.0097 -0.0303\n",
       " 0.0948 -0.0580 -0.2394 -0.0087 -0.0358  0.0432 -0.0583  0.2758  0.2583 -0.1130\n",
       "-0.1704  0.1853 -0.0473 -0.1115  0.0883 -0.2280  0.1713  0.1964  0.2254 -0.1014\n",
       " 0.2116 -0.0693 -0.1251  0.0534 -0.1143  0.0345  0.0073  0.1019 -0.0121  0.0195\n",
       " 0.0444 -0.2343  0.0937  0.0645 -0.2352 -0.1849 -0.2933 -0.0617  0.1486  0.1182\n",
       "-0.0386  0.1292  0.0094  0.0951  0.0147  0.0076 -0.1398 -0.0193 -0.1038 -0.0935\n",
       " 0.0658 -0.1366  0.1226  0.0803  0.1689 -0.0040 -0.1795 -0.0505  0.0832 -0.2256\n",
       " 0.2223 -0.0116  0.1101 -0.1265 -0.1089 -0.0576 -0.3338 -0.2514  0.2357 -0.2050\n",
       " 0.1115 -0.1108  0.0276  0.0325  0.1075  0.0463 -0.2261  0.0383 -0.1908 -0.0479\n",
       " 0.1877 -0.1500  0.0081 -0.2448 -0.4256 -0.0225 -0.2417 -0.1147 -0.0774 -0.1995\n",
       " 0.3072  0.2968  0.1663  0.0288 -0.2469 -0.0608  0.1483 -0.0318 -0.2111 -0.0923\n",
       "\n",
       "Columns 20 to 29 \n",
       " 0.0658  0.2469  0.0082  0.1408  0.0410  0.1574  0.2296  0.2334 -0.1201  0.1660\n",
       " 0.0538 -0.0780 -0.1987  0.1442 -0.1149  0.2124 -0.3132  0.3158  0.0731  0.2862\n",
       "-0.2073  0.0645  0.0218 -0.1609  0.0845 -0.0887  0.0968  0.0420  0.2059 -0.0139\n",
       " 0.1582 -0.1008  0.1928 -0.1983  0.2048 -0.1726  0.0401 -0.0353 -0.1700 -0.2494\n",
       "-0.0131 -0.2970  0.2244 -0.0165  0.2340  0.1835  0.4051 -0.1353 -0.0174  0.1644\n",
       " 0.2430  0.0043 -0.3088 -0.0326  0.1360 -0.0094  0.0698  0.2493  0.1982 -0.0104\n",
       " 0.3981 -0.1493  0.2039 -0.2150  0.1837  0.0983  0.2130 -0.0051  0.2842 -0.0088\n",
       "-0.0735 -0.1281  0.1543 -0.1957  0.0389  0.0757  0.1462 -0.0411 -0.0645 -0.0806\n",
       "-0.2283 -0.1586  0.1763  0.2129  0.0009  0.2828  0.3313  0.0572 -0.0991  0.3422\n",
       "-0.0088  0.1140 -0.0125  0.0144 -0.0487 -0.0787  0.0176  0.1117 -0.1248 -0.2000\n",
       " 0.3017 -0.0849 -0.0878 -0.1128  0.0638  0.0372 -0.0400 -0.1352 -0.1035 -0.0876\n",
       "-0.1372 -0.0531  0.0631  0.1052  0.0142  0.3176 -0.1555  0.2205 -0.0884  0.2806\n",
       "-0.0567  0.0549  0.1116  0.2261 -0.1734  0.0759  0.2129 -0.0198 -0.0837  0.1900\n",
       "-0.0661 -0.1734  0.1142 -0.1149  0.0925 -0.0115  0.1477  0.0409 -0.2376  0.0018\n",
       "-0.3116 -0.0875  0.1221  0.0832  0.1302  0.2296  0.0157  0.0624  0.3880  0.2037\n",
       " 0.2924  0.0467  0.1588 -0.0474 -0.1406 -0.0347 -0.1627 -0.1162  0.1053 -0.1144\n",
       "-0.1861 -0.0817 -0.2170 -0.0840  0.2604  0.3139 -0.1572 -0.0822  0.2907  0.1580\n",
       "-0.0398 -0.0191  0.0979  0.1586 -0.1788 -0.2587 -0.1350 -0.0118 -0.3169 -0.0722\n",
       " 0.4533 -0.0330 -0.0297 -0.2601 -0.0220  0.0645  0.0260 -0.0939 -0.1173  0.1731\n",
       " 0.1625  0.2260 -0.2146 -0.1377 -0.0978  0.2995  0.1361  0.0985 -0.0723  0.3475\n",
       " 0.1659  0.1506 -0.0078 -0.2165 -0.1643  0.0329  0.0847 -0.0680 -0.0601 -0.0333\n",
       "-0.1797 -0.0246  0.0916  0.0006 -0.0716  0.1233 -0.3990  0.3342 -0.1226  0.0888\n",
       "-0.1039  0.1253 -0.1295 -0.1599 -0.0331  0.2531 -0.3674  0.1812 -0.2617  0.2737\n",
       "\n",
       "Columns 30 to 33 \n",
       " 0.1086 -0.0868 -0.0505  0.1265\n",
       "-0.0856 -0.2056  0.1320 -0.1301\n",
       "-0.0825 -0.0337 -0.2948 -0.1478\n",
       " 0.1734 -0.0727  0.3852  0.0103\n",
       "-0.1677 -0.0889  0.0006 -0.0348\n",
       "-0.1762  0.2423  0.2156  0.2196\n",
       "-0.0964  0.3849  0.1958 -0.0554\n",
       " 0.1440 -0.1973 -0.0134  0.0625\n",
       "-0.4829  0.1891 -0.2960  0.1244\n",
       " 0.1002  0.1005 -0.0013 -0.0218\n",
       "-0.0228  0.0569  0.1210 -0.0450\n",
       "-0.1420 -0.2098  0.2043 -0.0378\n",
       "-0.1744 -0.0171  0.1893  0.4454\n",
       " 0.0463  0.0276 -0.1992  0.0805\n",
       "-0.2561  0.2966  0.0934  0.3477\n",
       " 0.2745 -0.0705 -0.0239  0.0964\n",
       "-0.0580  0.1221  0.0892  0.0394\n",
       "-0.0987  0.0296 -0.1012 -0.3369\n",
       " 0.0072  0.0133  0.2174 -0.1234\n",
       " 0.2812 -0.1011  0.0050 -0.3267\n",
       "-0.2479  0.2038 -0.1058  0.0091\n",
       " 0.4554 -0.0249 -0.1591  0.1006\n",
       "-0.0709  0.1643  0.0080  0.1301\n",
       "[torch.FloatTensor of size 23x34]"
      ]
     },
     "execution_count": 34,
     "metadata": {},
     "output_type": "execute_result"
    }
   ],
   "source": [
    "model[(0)].weight"
   ]
  },
  {
   "cell_type": "code",
   "execution_count": 35,
   "metadata": {
    "collapsed": false
   },
   "outputs": [
    {
     "data": {
      "text/plain": [
       "Parameter containing:\n",
       "\n",
       "Columns 0 to 9 \n",
       " 0.1304  0.1410 -0.4719  0.0717  0.2375 -0.2251 -0.0506 -0.0002  0.0452  0.0454\n",
       "-0.7232  0.1357 -0.3212 -0.1720  0.3000 -0.0035  0.0675  0.3458 -0.3370 -1.1003\n",
       " 0.0401 -0.4714  0.1827 -0.0625 -0.5052  0.1637 -0.5552 -0.4965  0.6593  0.0176\n",
       " 0.7211 -0.4769  0.1988 -0.3227 -0.7278  0.1172 -0.3264 -0.4886  0.2472 -0.2251\n",
       " 0.2354  0.2307  0.1844 -0.5422 -0.3688 -0.4275 -0.1827 -0.2385 -0.1542  0.5234\n",
       " 0.1588  0.3783  0.1782 -0.2638 -0.1467 -0.5354  0.0573  0.2442 -0.1344  0.2192\n",
       "-0.1795 -0.2245 -0.2011 -0.8599 -0.1474  0.2942  0.0538  0.5481  0.1486  0.8090\n",
       "-0.2735  0.0333  0.1250  0.0136 -0.3809  0.0208  0.2978 -0.8501  0.0311  0.2312\n",
       " 0.3233  0.6234 -0.7020 -0.0786  0.1966 -0.1785 -0.5322  0.4166 -0.3136  0.1859\n",
       " 0.1372 -0.1535 -0.0327 -0.3800  0.2108 -0.5480  0.4044  0.0042 -0.1996 -0.0816\n",
       " 0.2053  0.0322 -0.1007  0.1218 -0.1045 -0.1855 -0.5886  0.2357  0.2306  0.0616\n",
       "-0.0896  0.2930 -0.2433  0.0591  0.1936 -0.1174  0.3321  0.1130 -0.2295  0.2720\n",
       " 0.3443  0.1476 -0.3341 -0.3162  0.2312 -0.2299 -0.1427  0.2329  0.0326  0.0426\n",
       " 0.0309 -0.0095 -0.4352 -0.2651  0.1972  0.2692 -0.0929  0.1866 -0.0409 -0.0907\n",
       "-0.1032 -0.7604  0.0664  0.1994 -0.0375  0.3125 -0.5587 -0.4088  0.4675 -0.1583\n",
       "\n",
       "Columns 10 to 19 \n",
       " 0.1246  0.4370  0.1407 -0.1803 -0.0578 -0.1417  0.2552 -0.5742 -0.2524  0.2077\n",
       " 0.2928  0.2310  0.3399 -0.3366  0.0555 -0.8219  0.0487 -0.2104 -0.0850 -0.1884\n",
       "-0.4811 -0.6442  0.0336  0.1857 -0.7362 -0.0064  0.4426  0.0932  0.0205 -0.1616\n",
       "-0.6171  0.4838 -0.6816  0.1488 -0.3274  0.2903 -0.0952 -0.2548  0.2697 -0.3355\n",
       " 0.1628 -0.0782 -0.1067 -0.2354  0.2718  0.0503 -0.5958 -0.4136 -0.5960  0.0599\n",
       " 0.2224  0.1893 -0.1639 -0.3846  0.1157 -0.3019 -0.2226  0.4219 -0.5471 -0.0622\n",
       " 0.3590  0.1028 -0.0146 -0.5606 -0.0009 -0.4124 -0.2297  0.1043 -0.2078  0.2282\n",
       " 0.2864  0.4986 -0.1943 -0.0249 -0.2177  0.0623  0.2800 -0.0517 -0.0546 -0.7623\n",
       "-0.8036 -0.3748  0.0301  0.1854  0.1658 -0.7228 -0.5333  0.0938 -0.3241  0.2345\n",
       " 0.4695  0.0759 -0.0238  0.0280 -0.0274 -0.6839  0.1731  0.2632 -0.2726  0.3145\n",
       " 0.0532  0.0628 -1.2596 -0.2088 -0.1933  0.0241 -0.0674  0.0105  0.0401 -0.4093\n",
       " 0.1142 -0.3199  0.0551 -0.3678  0.1951 -0.3928  0.2317 -0.4995 -0.2868 -0.0822\n",
       " 0.3149  0.0710  0.0974 -0.0006 -0.0886 -0.1961  0.1313 -0.2269  0.0597  0.1184\n",
       " 0.1498  0.1404 -0.0176 -0.2226 -0.2186 -0.1765 -0.0090 -1.0026 -0.1646 -0.4485\n",
       "-0.4632 -0.5843 -0.2423 -0.1329 -0.5174  0.1614  0.1144  0.1012  0.6276 -0.0941\n",
       "\n",
       "Columns 20 to 22 \n",
       " 0.0607  0.0390 -0.0135\n",
       " 0.2932  0.2445 -0.1104\n",
       " 0.1631 -0.3167  0.2413\n",
       "-0.1723  0.2156  0.3398\n",
       "-0.1119 -0.1775  0.3157\n",
       " 0.2007 -0.8650  0.0378\n",
       "-0.0414 -0.2689 -0.0035\n",
       "-0.6117 -0.1690  0.0027\n",
       " 0.5860 -0.1821 -0.0073\n",
       "-0.1254  0.2198  0.3139\n",
       " 0.1032  0.1995  0.1214\n",
       " 0.3644  0.0799 -0.0082\n",
       " 0.2251  0.0422 -0.1220\n",
       " 0.4071  0.3527  0.0558\n",
       "-0.4120 -0.0169  0.4414\n",
       "[torch.FloatTensor of size 15x23]"
      ]
     },
     "execution_count": 35,
     "metadata": {},
     "output_type": "execute_result"
    }
   ],
   "source": [
    "model[(2)].weight"
   ]
  },
  {
   "cell_type": "code",
   "execution_count": 36,
   "metadata": {
    "collapsed": false
   },
   "outputs": [
    {
     "data": {
      "text/plain": [
       "Parameter containing:\n",
       "\n",
       "Columns 0 to 9 \n",
       " 0.3018 -0.7875 -0.9859 -0.5213  0.8999  0.9610  0.2848 -0.4059 -1.2621  0.3139\n",
       "\n",
       "Columns 10 to 14 \n",
       "-0.5586  0.4419  0.2851  0.5623 -0.4797\n",
       "[torch.FloatTensor of size 1x15]"
      ]
     },
     "execution_count": 36,
     "metadata": {},
     "output_type": "execute_result"
    }
   ],
   "source": [
    "model[(4)].weight"
   ]
  },
  {
   "cell_type": "markdown",
   "metadata": {},
   "source": [
    "## Round 3: Three-Hidden-Layer Neural Network"
   ]
  },
  {
   "cell_type": "code",
   "execution_count": 37,
   "metadata": {
    "collapsed": true
   },
   "outputs": [],
   "source": [
    "# Make the torch Tensor into a PyTorch Variable for dependent variables\n",
    "outcomes_Variable = Variable(outcomes_Tensor)\n",
    "\n",
    "\n",
    "# ...for independent variables\n",
    "features_Variable = Variable(features_Tensor,\n",
    "                             requires_grad = False)"
   ]
  },
  {
   "cell_type": "code",
   "execution_count": 38,
   "metadata": {
    "collapsed": false
   },
   "outputs": [],
   "source": [
    "# Make the neural network\n",
    "model = torch.nn.Sequential(torch.nn.Linear(34, 23),\n",
    "                            torch.nn.ReLU(),\n",
    "                            torch.nn.Linear(23, 15),\n",
    "                            torch.nn.ReLU(),\n",
    "                            torch.nn.Linear(15, 10),\n",
    "                            torch.nn.ReLU(),\n",
    "                            torch.nn.Linear(10, 1))"
   ]
  },
  {
   "cell_type": "code",
   "execution_count": 39,
   "metadata": {
    "collapsed": false
   },
   "outputs": [],
   "source": [
    "# To add errors to\n",
    "errors = []\n",
    "\n",
    "\n",
    "# Set the learning rate\n",
    "learning_rate = 1e-2\n",
    "\n",
    "\n",
    "# Define the model's optimizer\n",
    "optimizer = torch.optim.Adagrad(model.parameters(), lr = learning_rate)\n",
    "\n",
    "\n",
    "# Train the neural network\n",
    "for t in range(10000):\n",
    "    \n",
    "    # Get the current predictions\n",
    "    y_pred = model(features_Variable)\n",
    "    \n",
    "    # Compute and append current summed errors\n",
    "    loss = loss_fn(y_pred, outcomes_Variable)\n",
    "    errors.append(loss.data[0])\n",
    "    \n",
    "    # Zero the gradients before running the backward pass.\n",
    "    optimizer.zero_grad()\n",
    "    \n",
    "    # Backward pass: compute gradient of the loss with respect to all the learnable Variables\n",
    "    loss.backward()\n",
    "    \n",
    "    # Update the weights using Adagrad\n",
    "    optimizer.step()"
   ]
  },
  {
   "cell_type": "code",
   "execution_count": 40,
   "metadata": {
    "collapsed": false
   },
   "outputs": [
    {
     "data": {
      "text/plain": [
       "<matplotlib.collections.PathCollection at 0x7f1a57002f28>"
      ]
     },
     "execution_count": 40,
     "metadata": {},
     "output_type": "execute_result"
    },
    {
     "data": {
      "image/png": "[encoded data removed]",
      "text/plain": [
       "<matplotlib.figure.Figure at 0x7f1a570af1d0>"
      ]
     },
     "metadata": {},
     "output_type": "display_data"
    }
   ],
   "source": [
    "# Plot summed error as a function of iteration\n",
    "plt.scatter(iterations, errors, c = \"black\", alpha = 0.25)"
   ]
  },
  {
   "cell_type": "code",
   "execution_count": 41,
   "metadata": {
    "collapsed": true
   },
   "outputs": [],
   "source": [
    "# Get rid of the 2nd dimension of 1 from the FloatTensor\n",
    "y_pred_resized = y_pred.resize(11959)\n",
    "\n",
    "\n",
    "# Make the FloatTensor into a numpy.array\n",
    "y_pred_array = y_pred_resized.data.numpy()\n",
    "\n",
    "\n",
    "# Make the numpy.array into a list\n",
    "y_pred_list = y_pred_array.tolist()"
   ]
  },
  {
   "cell_type": "code",
   "execution_count": 42,
   "metadata": {
    "collapsed": false
   },
   "outputs": [
    {
     "data": {
      "text/plain": [
       "[<matplotlib.lines.Line2D at 0x7f1a570235f8>]"
      ]
     },
     "execution_count": 42,
     "metadata": {},
     "output_type": "execute_result"
    },
    {
     "data": {
      "image/png": "[encoded data removed]",
      "text/plain": [
       "<matplotlib.figure.Figure at 0x7f1a57023438>"
      ]
     },
     "metadata": {},
     "output_type": "display_data"
    }
   ],
   "source": [
    "# Plot predictions versus training set outcomes\n",
    "plt.scatter(outcomes_list, y_pred_list, c = \"black\", alpha = 0.15)\n",
    "\n",
    "axes = plt.gca()\n",
    "\n",
    "axes.set_xlim([-2, 4])\n",
    "\n",
    "axes.set_ylim([-2, 4])\n",
    "\n",
    "plt.plot([-2, 4], [-2, 4], 'k-', lw=2)"
   ]
  },
  {
   "cell_type": "markdown",
   "metadata": {},
   "source": [
    "### Round 3.1: Validation Set Performance"
   ]
  },
  {
   "cell_type": "code",
   "execution_count": 43,
   "metadata": {
    "collapsed": false
   },
   "outputs": [
    {
     "data": {
      "text/plain": [
       "Variable containing:\n",
       " 2451.5139\n",
       "[torch.FloatTensor of size 1]"
      ]
     },
     "execution_count": 43,
     "metadata": {},
     "output_type": "execute_result"
    }
   ],
   "source": [
    "# Get the validation set predictions\n",
    "y_valid_pred = model(valid_predictors_Variable)\n",
    "\n",
    "\n",
    "# Print the loss\n",
    "loss_fn(y_valid_pred,\n",
    "        valid_outcomes_Variable)"
   ]
  },
  {
   "cell_type": "code",
   "execution_count": 44,
   "metadata": {
    "collapsed": false
   },
   "outputs": [],
   "source": [
    "# Get rid of the 2nd dimension of 1 from the FloatTensor\n",
    "y_valid_pred_resized = y_valid_pred.resize(3987)\n",
    "\n",
    "\n",
    "# Make the FloatTensor into a numpy.array\n",
    "y_valid_pred_array = y_valid_pred_resized.data.numpy()\n",
    "\n",
    "\n",
    "# Convert back to log scale\n",
    "y_valid_pred_array = y_valid_pred_array*5.407597 + 7.688844\n",
    "\n",
    "\n",
    "# Make the numpy.array into a list\n",
    "y_valid_pred_list = y_valid_pred_array.tolist()"
   ]
  },
  {
   "cell_type": "code",
   "execution_count": 45,
   "metadata": {
    "collapsed": false
   },
   "outputs": [
    {
     "data": {
      "text/plain": [
       "<matplotlib.text.Text at 0x7f1a56f87160>"
      ]
     },
     "execution_count": 45,
     "metadata": {},
     "output_type": "execute_result"
    },
    {
     "data": {
      "image/png": "[encoded data removed]",
      "text/plain": [
       "<matplotlib.figure.Figure at 0x7f1a56fdeeb8>"
      ]
     },
     "metadata": {},
     "output_type": "display_data"
    }
   ],
   "source": [
    "# Plot new predictions versus new data outcomes\n",
    "plt.scatter(valid_outcomes_list, y_valid_pred_list, c = \"black\", alpha = 0.15)\n",
    "\n",
    "axes = plt.gca()\n",
    "\n",
    "axes.set_xlim([0, 24])\n",
    "\n",
    "axes.set_ylim([0, 24])\n",
    "\n",
    "axes.set_xticks([0, 4, 8, 12, 16, 20, 24])\n",
    "\n",
    "axes.set_yticks([0, 4, 8, 12, 16, 20, 24])\n",
    "\n",
    "plt.plot([0, 24], [0, 24], 'k-', lw = 2)\n",
    "\n",
    "axes.set_xlabel(\"Actual Outcome (Log-Transformed US Dollars)\")\n",
    "\n",
    "axes.set_ylabel(\"Model Prediction (Log-Transformed US Dollars)\")\n",
    "\n",
    "axes.set_title(\"Model Performance\")"
   ]
  },
  {
   "cell_type": "code",
   "execution_count": 46,
   "metadata": {
    "collapsed": false
   },
   "outputs": [
    {
     "data": {
      "text/plain": [
       "Parameter containing:\n",
       "\n",
       "Columns 0 to 9 \n",
       " 0.3763  0.1977 -0.2301  0.2466  0.1731  0.0361  0.5481 -0.0575 -0.0548  0.3510\n",
       " 0.0005  0.0134  0.1167  0.0441 -0.2648 -0.0964  0.6339  0.1093  0.1715  0.2767\n",
       " 0.1542  0.3549 -0.0603 -0.2896 -0.0509 -0.1895 -1.1546 -0.0407  0.0569 -0.3723\n",
       "-0.0369  0.3500  0.0703 -0.0248  0.0613  0.2645  0.5958  0.1832  0.1228 -0.1111\n",
       "-0.2783  0.0184  0.0449  0.0485 -0.0609 -0.1991  0.1252 -0.1575 -0.0159  0.0822\n",
       " 0.0515  0.3003  0.0331  0.1088  0.0557 -0.4427 -0.1184  0.2104 -0.2135 -0.0255\n",
       "-0.0468  0.0485  0.3039 -0.0952  0.0938 -0.1889 -1.2484 -0.0630 -0.0091  0.2046\n",
       "-0.0324 -0.3253 -0.0443 -0.3288 -0.2280 -0.1781  0.7649  0.0603  0.3133 -0.1159\n",
       "-0.0932  0.0898  0.1655  0.0424 -0.2920  0.1819 -0.9498 -0.1812 -0.1305 -0.0850\n",
       "-0.1124  0.0647  0.0564 -0.2132  0.0447  0.0869  0.9493 -0.0616 -0.0742 -0.0205\n",
       "-0.1536 -0.2562  0.2929  0.1882 -0.0198 -0.1601  0.4861 -0.0722 -0.0677 -0.1596\n",
       "-0.0857  0.0773 -0.2902 -0.0292  0.0047  0.1623  0.6293 -0.1156 -0.1612 -0.2053\n",
       " 0.1792 -0.2446 -0.1350 -0.0756 -0.0464  0.1403 -0.3808 -0.0498  0.0275  0.1687\n",
       "-0.2118  0.3413 -0.4325  0.1097 -0.2210  0.0930 -0.4243  0.0162 -0.1859  0.1409\n",
       " 0.2069  0.0461  0.0116 -0.1356  0.3097  0.1192 -0.1896  0.0184  0.1493  0.0391\n",
       "-0.1655  0.0188 -0.0616  0.0445  0.1468 -0.0506  0.8614 -0.2412 -0.0673  0.0011\n",
       " 0.2005  0.0887 -0.0325  0.2555  0.2841 -0.0309 -0.0240  0.0581  0.0764 -0.1090\n",
       "-0.1227 -0.2536  0.0107  0.0558 -0.2995 -0.2250 -0.7493  0.1840  0.3519 -0.0519\n",
       "-0.3485  0.0564 -0.1743 -0.0420 -0.2029 -0.2258  0.2723 -0.0162  0.0558 -0.1519\n",
       " 0.1729  0.3571  0.1333 -0.0054 -0.0379  0.2200  0.5972 -0.1632  0.0642 -0.1901\n",
       " 0.0765  0.1672  0.2842 -0.2395 -0.0196  0.0436 -0.7141  0.1894  0.0569  0.0607\n",
       " 0.0406  0.3362 -0.0101  0.0338  0.0855 -0.3650  0.2002 -0.0878  0.0144  0.1589\n",
       "-0.3454 -0.2390  0.4247 -0.0099 -0.0573 -0.1121  0.8461  0.2255 -0.1322  0.0569\n",
       "\n",
       "Columns 10 to 19 \n",
       "-0.1677  0.0945  0.1041  0.1329  0.0334 -0.0978  0.0692  0.2348 -0.0014 -0.2075\n",
       " 0.0681 -0.0709 -0.1302  0.2041  0.0708  0.0627  0.1219  0.0139 -0.1635 -0.0251\n",
       " 0.0155 -0.1643 -0.0379 -0.4600 -0.0379 -0.3177  0.2124  0.0223 -0.1741  0.2207\n",
       "-0.0031  0.0759 -0.1659 -0.0227 -0.1364  0.0544 -0.1732 -0.1122 -0.0646  0.4265\n",
       "-0.0871 -0.1139  0.1951 -0.0896 -0.0668 -0.0734 -0.0940  0.0326 -0.1467  0.1075\n",
       " 0.0095 -0.1539 -0.1848  0.1667  0.1755 -0.1433  0.2087  0.1448 -0.1195  0.1357\n",
       " 0.0743  0.0183  0.1766 -0.1804  0.0487 -0.1415 -0.2951 -0.2534 -0.1832 -0.1024\n",
       "-0.0290  0.0123 -0.0071 -0.2706  0.0334 -0.1757 -0.0601 -0.0412  0.1227  0.1194\n",
       "-0.0370  0.1830 -0.0931 -0.1514  0.0257  0.1718 -0.0004 -0.3449 -0.0091 -0.3130\n",
       "-0.1690  0.0539  0.0854 -0.0440 -0.1771 -0.0384 -0.1094  0.0209 -0.2512 -0.2706\n",
       " 0.0923  0.0727 -0.0687 -0.3073  0.0294  0.1838 -0.3310 -0.1726 -0.1842 -0.0217\n",
       "-0.2608  0.3214  0.0170  0.0827  0.0203 -0.1607  0.2552  0.2330 -0.0123 -0.1328\n",
       " 0.0297  0.0290 -0.0702 -0.0272  0.0148  0.1446  0.0181 -0.3688 -0.1107  0.0903\n",
       " 0.2242 -0.0281 -0.0859  0.1064  0.0399 -0.1552 -0.2925  0.2953 -0.0272  0.0387\n",
       " 0.0141  0.1913  0.0871 -0.1324 -0.1212 -0.1148 -0.1308 -0.2508 -0.2759  0.0137\n",
       "-0.0692 -0.1548  0.2289 -0.1411 -0.2929  0.1071 -0.2272  0.1199 -0.1943 -0.0824\n",
       "-0.0494 -0.0538 -0.0185  0.3085  0.5860 -0.1378  0.3394 -0.0582  0.0436  0.2256\n",
       " 0.0328 -0.0892 -0.1407  0.1012 -0.1967 -0.0875  0.2362 -0.0606  0.2012  0.0267\n",
       " 0.1744 -0.0511 -0.0531 -0.2049 -0.1015 -0.0564 -0.2809  0.1221  0.0778  0.1137\n",
       "-0.1033  0.1789 -0.1068  0.2752  0.2689 -0.1438  0.0026 -0.1589 -0.0859  0.1449\n",
       "-0.0036  0.0323 -0.0944 -0.0759  0.1277  0.0463  0.0595 -0.0157  0.2189 -0.0983\n",
       " 0.0455 -0.0182  0.0919 -0.3984 -0.0101  0.0229  0.0456  0.1332  0.0326 -0.2917\n",
       " 0.1674  0.0128  0.2687  0.0288 -0.3156 -0.0170 -0.4539  0.1904 -0.0276  0.1701\n",
       "\n",
       "Columns 20 to 29 \n",
       "-0.0299 -0.1255 -0.0541 -0.1234  0.0869  0.1715 -0.1264  0.0336 -0.0883  0.0755\n",
       " 0.1328 -0.1334  0.0113  0.0467 -0.1587  0.0324 -0.2014 -0.2147 -0.2478 -0.1619\n",
       " 0.3038 -0.2943  0.2634 -0.0203  0.2234 -0.0768  0.0737 -0.1982 -0.1792  0.0497\n",
       "-0.1593 -0.1046  0.1876 -0.2747  0.0916 -0.0280 -0.0820 -0.1036 -0.0732  0.1967\n",
       " 0.1375 -0.0722  0.2904 -0.0700 -0.0796  0.1406  0.0504  0.2125 -0.1667 -0.1301\n",
       "-0.1328 -0.0677  0.2567 -0.0430  0.2786 -0.0674  0.0181 -0.2075  0.1813  0.1234\n",
       " 0.0963  0.2164  0.2839  0.2803 -0.1379  0.0092 -0.2504  0.0866  0.1630  0.0425\n",
       " 0.0412  0.0728 -0.0534 -0.2024  0.0879 -0.1529  0.0244  0.0232 -0.2029 -0.0804\n",
       "-0.0177  0.0953 -0.0556 -0.1388  0.0675 -0.1112  0.0095  0.1342  0.0727  0.0736\n",
       " 0.2074 -0.0091  0.1229 -0.1358 -0.2033 -0.1341  0.2038 -0.3182 -0.1004 -0.1076\n",
       " 0.2961  0.1477 -0.0166  0.0490 -0.0493 -0.0107 -0.0782 -0.0191  0.0271  0.1016\n",
       " 0.0084  0.0665  0.1428 -0.1572  0.0452 -0.0562 -0.1707 -0.1955  0.1546 -0.0439\n",
       "-0.0670 -0.0643 -0.0055  0.2684 -0.1110 -0.0190  0.0005  0.0966  0.0416  0.0789\n",
       " 0.0559 -0.0337  0.1067 -0.0822 -0.0599  0.0380 -0.3042  0.0610  0.0670 -0.0591\n",
       "-0.1205  0.2952  0.1443 -0.1965  0.2298  0.1216 -0.0315 -0.0013  0.0886 -0.0170\n",
       "-0.0427  0.0325  0.1379  0.2140 -0.2778 -0.2079  0.0587  0.2013  0.2438 -0.1086\n",
       " 0.0106 -0.0729 -0.0904  0.5051 -0.0369  0.1435  0.2960 -0.0313 -0.1669  0.1671\n",
       "-0.0729 -0.0359  0.0626 -0.0907 -0.1597  0.2930 -0.2473 -0.2041  0.1616  0.0098\n",
       " 0.0914  0.0116  0.1809  0.0853 -0.1556  0.4148  0.0733 -0.2109 -0.0246  0.1722\n",
       "-0.0209 -0.0750 -0.1890 -0.0352 -0.0922 -0.0787 -0.1806 -0.0263  0.0525 -0.2732\n",
       " 0.0188 -0.1901  0.2047  0.2272 -0.0970  0.1334 -0.1375  0.0615 -0.0262  0.3088\n",
       "-0.0411  0.2531 -0.2232 -0.0314  0.2444  0.0579  0.0487  0.2849  0.2385 -0.1461\n",
       "-0.1893  0.3763 -0.0200 -0.1168 -0.0741 -0.2659  0.0673  0.1453 -0.2567 -0.1103\n",
       "\n",
       "Columns 30 to 33 \n",
       "-0.0906  0.3530  0.0133 -0.0587\n",
       " 0.0800  0.1396  0.2129 -0.1456\n",
       " 0.8528 -0.2131 -0.1909  0.0115\n",
       " 0.0050  0.0940 -0.4320 -0.0967\n",
       "-0.0108  0.2095 -0.0880  0.1391\n",
       " 0.3376 -0.3456 -0.1177  0.1913\n",
       "-0.0420 -0.1711  0.4695  0.0883\n",
       "-0.0055 -0.2222 -0.1420  0.0064\n",
       "-0.0058 -0.0929 -0.5584 -0.0015\n",
       "-0.2489  0.3380  0.0298 -0.6038\n",
       "-0.1020  0.1791 -0.2975 -0.0343\n",
       " 0.1970  0.2495 -0.0208 -0.1631\n",
       " 0.0856 -0.5705 -0.1301 -0.0122\n",
       " 0.4739 -0.5810 -0.2606  0.2305\n",
       " 0.2572 -0.0914  0.1200  0.3659\n",
       "-0.1092  0.2869 -0.1458 -0.1129\n",
       "-0.0632  0.1187 -0.0335 -0.0503\n",
       " 0.1721  0.1380 -0.0220 -0.1446\n",
       "-0.1479 -0.1921 -0.1276  0.1457\n",
       " 0.4010 -0.1854 -0.2060  0.0007\n",
       "-0.0657  0.0956  0.1665 -0.3570\n",
       "-0.0765  0.1846 -0.1136  0.1009\n",
       "-0.2680  0.1337  0.2764 -0.0690\n",
       "[torch.FloatTensor of size 23x34]"
      ]
     },
     "execution_count": 46,
     "metadata": {},
     "output_type": "execute_result"
    }
   ],
   "source": [
    "model[(0)].weight"
   ]
  },
  {
   "cell_type": "code",
   "execution_count": 47,
   "metadata": {
    "collapsed": false
   },
   "outputs": [
    {
     "data": {
      "text/plain": [
       "Parameter containing:\n",
       "\n",
       "Columns 0 to 9 \n",
       "-0.0574  0.3410  0.3990  0.0859 -0.3844 -1.0159  0.1078 -0.1060  0.2787 -0.2364\n",
       " 0.1168 -0.0375  0.0548 -0.3072 -0.0662  0.0220 -0.2176 -0.1850 -0.5906  0.3801\n",
       " 0.0497  0.0159  0.0890  0.0728 -0.2783 -0.2740  0.2929  0.1793  0.2860  0.0999\n",
       " 0.2921 -0.0441 -0.0481 -0.2002  0.2550 -0.0890  0.1464 -0.0569 -0.3706  0.2477\n",
       " 0.2973  0.4695 -0.1833  0.3521 -0.3721  0.0306 -0.1594  0.1594  0.3446 -0.1609\n",
       " 0.3829  0.1794 -0.1112  0.0074  0.0668 -0.1350  0.2948  0.4985  0.3967 -0.2915\n",
       " 0.1172 -0.2608 -0.1375  0.1986  0.2741  0.1378 -0.3282  0.0065  0.0662  0.0903\n",
       " 0.0789 -0.1112 -0.2204 -0.0149  0.2534  0.3017  0.1922 -0.0772 -0.3428  0.2325\n",
       "-0.0855  0.5274 -0.0900  0.2152 -0.0863 -0.2631  0.2654  0.2448  0.4146 -0.3065\n",
       " 0.0776 -0.2442  0.1146  0.1213 -0.1554 -0.0583 -0.3109 -0.0689  0.3411  0.2277\n",
       " 0.3893 -0.3529 -0.2891 -0.1129  0.2121 -0.1171  0.0176  0.0865 -0.0948  0.3054\n",
       " 0.1869 -0.4776  0.1157 -0.3900  0.3549 -0.0465 -0.5308 -0.3560 -0.3041  0.0123\n",
       " 0.3273 -0.5861 -0.4344 -0.2155  0.3889 -0.0525  0.0653 -0.1269  0.0373 -0.3353\n",
       " 0.1970 -0.2226 -0.0972 -0.2311  0.3513  0.2881  0.0394 -0.0971 -0.2811  0.1578\n",
       " 0.0412 -0.2828  0.4217 -0.0932  0.1433  0.1224 -0.4724 -0.3727  0.2842 -0.1113\n",
       "\n",
       "Columns 10 to 19 \n",
       "-0.4651  0.2070  0.0851  0.0755 -0.0747  0.1882  0.2980 -0.0974 -0.3867  0.0216\n",
       " 0.1506  0.0586  0.3321  0.3137  0.1148 -0.2628  0.3625 -0.1004 -0.0328  0.1396\n",
       "-0.1461  0.2115  0.0222  0.3622 -0.0363  0.2321  0.2664 -0.2952  0.0570 -0.2925\n",
       "-0.0274 -0.3692  0.0286 -0.2262  0.1183 -0.0832  0.2552  0.2549  0.1103  0.3416\n",
       " 0.0851 -0.0408 -0.1147  0.1951  0.1967  0.1268  0.0915 -0.7026 -0.0974 -0.3103\n",
       "-0.0942 -0.0648 -0.5485  0.2054  0.2740  0.3154  0.1700  0.1844 -0.1775 -0.0789\n",
       " 0.2632 -0.0485  0.2948 -0.0700  0.1633 -0.0448  0.0876 -0.0124  0.2129  0.4417\n",
       " 0.0731 -0.2387  0.3370 -0.3056  0.1410 -0.4845 -0.0839  0.6427  0.2256  0.1899\n",
       " 0.2856 -0.0413  0.0866  0.1217  0.0375 -0.3844  0.4345 -0.7838  0.0613 -0.1582\n",
       "-0.0168  0.0447  0.4780  0.0640  0.0714  0.4492  0.1491 -0.2763  0.0480  0.2173\n",
       " 0.1131 -0.0800  0.3171  0.0957  0.1875 -0.5287 -0.2902  0.5207  0.3394  0.2556\n",
       " 0.1559 -0.1640  0.2792 -0.1482  0.4435 -0.1783 -0.0264  0.2537  0.1303  0.4009\n",
       " 0.3059  0.2510  0.0683 -0.4947 -0.0318 -0.0511 -0.1963  0.6711  0.3435  0.3801\n",
       " 0.0603 -0.0920  0.2085 -0.2149  0.2082 -0.5051 -0.0660  0.3223  0.1609  0.1795\n",
       " 0.1442 -0.4296  0.2004 -0.2417 -0.1897 -0.3107 -0.1560  0.2166  0.0204  0.1712\n",
       "\n",
       "Columns 20 to 22 \n",
       "-0.2051 -0.1515  0.2136\n",
       "-0.0845 -0.2935  0.2805\n",
       "-0.0774 -0.1497  0.1733\n",
       " 0.0150  0.0701 -0.0210\n",
       " 0.0022 -0.0247 -0.0366\n",
       "-0.1983 -0.2579 -0.2421\n",
       "-0.3301  0.2321 -0.0596\n",
       "-0.1199  0.2905 -0.0164\n",
       "-0.1530 -0.0376  0.0621\n",
       "-0.3267  0.0686  0.1798\n",
       " 0.4735  0.3188  0.0380\n",
       " 0.5357 -0.0066  0.1685\n",
       " 0.0518  0.3074 -0.2984\n",
       " 0.3066  0.1058  0.1226\n",
       " 0.1434  0.2800  0.3049\n",
       "[torch.FloatTensor of size 15x23]"
      ]
     },
     "execution_count": 47,
     "metadata": {},
     "output_type": "execute_result"
    }
   ],
   "source": [
    "model[(2)].weight"
   ]
  },
  {
   "cell_type": "code",
   "execution_count": 48,
   "metadata": {
    "collapsed": false
   },
   "outputs": [
    {
     "data": {
      "text/plain": [
       "Parameter containing:\n",
       "\n",
       "Columns 0 to 9 \n",
       " 0.5466 -0.1724  0.2651  0.3453 -0.2195  0.4096  0.1679  0.2311 -0.0779  0.3560\n",
       " 0.4378 -0.4015  0.1699 -0.1111 -0.4514 -0.0762  0.2965 -0.0464  0.2356  0.2473\n",
       " 0.8685 -0.5746  0.1401  0.1839  0.0874  0.6296 -0.3255 -0.5617  0.6442  0.3352\n",
       "-1.0749  0.4864 -0.2888  0.3152  0.1379 -0.4664  0.1649  0.3434 -0.2353  0.0083\n",
       "-0.7728  0.3265 -0.0888  0.0480  0.0334 -0.4831  0.1597  0.3975 -0.4366 -0.2133\n",
       "-0.1145  0.4331 -0.0561  0.2996  0.5918 -0.2750 -0.9409 -0.8111 -0.8181 -0.0532\n",
       " 0.3859 -0.3902  0.2464 -0.8907  0.1105  0.1211  0.2374 -0.2720  0.3333  0.0754\n",
       "-1.2059  0.7103 -0.7646  0.0505 -0.2993 -0.6212  0.0844  0.2817 -0.5097  0.0826\n",
       "-0.3574  0.5468  0.0630  0.2797 -0.0307 -0.7854  0.3120  0.5022 -0.4614  0.0878\n",
       " 0.8925 -0.5831  0.3683 -0.2464  0.3105  0.3189 -0.1442 -1.1619  0.5949  0.2156\n",
       "\n",
       "Columns 10 to 14 \n",
       "-0.2704 -0.2495 -1.2114  0.0442 -1.1030\n",
       "-0.3633 -0.1237 -0.2004  0.2230 -0.2453\n",
       "-0.3196 -1.1320 -1.1804 -0.4092 -0.9673\n",
       " 0.3180  0.4227  0.7031  0.1734  0.3687\n",
       " 0.1562  0.6314  0.7732  0.1345  0.5699\n",
       " 0.7007 -2.0186 -1.8099  0.0766  1.3400\n",
       "-0.2051 -1.1892 -0.3309  0.4937 -0.4901\n",
       " 0.7731  0.6286  1.0199  0.2957  0.6217\n",
       " 0.4259  0.3870  0.5777  0.2123  0.3463\n",
       "-0.9117 -0.8455 -0.8561  0.3955 -0.9305\n",
       "[torch.FloatTensor of size 10x15]"
      ]
     },
     "execution_count": 48,
     "metadata": {},
     "output_type": "execute_result"
    }
   ],
   "source": [
    "model[(4)].weight"
   ]
  },
  {
   "cell_type": "code",
   "execution_count": 49,
   "metadata": {
    "collapsed": false
   },
   "outputs": [
    {
     "data": {
      "text/plain": [
       "Parameter containing:\n",
       "-0.3870 -0.3021  1.5911  0.5957  0.9575 -1.5633 -0.6931 -1.3406  0.4886 -0.9864\n",
       "[torch.FloatTensor of size 1x10]"
      ]
     },
     "execution_count": 49,
     "metadata": {},
     "output_type": "execute_result"
    }
   ],
   "source": [
    "model[(6)].weight"
   ]
  },
  {
   "cell_type": "markdown",
   "metadata": {},
   "source": [
    "## Round 4: Four-Hidden-Layer Neural Network"
   ]
  },
  {
   "cell_type": "code",
   "execution_count": 50,
   "metadata": {
    "collapsed": true
   },
   "outputs": [],
   "source": [
    "# Make the torch Tensor into a PyTorch Variable for dependent variables\n",
    "outcomes_Variable = Variable(outcomes_Tensor)\n",
    "\n",
    "\n",
    "# ...for independent variables\n",
    "features_Variable = Variable(features_Tensor,\n",
    "                             requires_grad = False)"
   ]
  },
  {
   "cell_type": "code",
   "execution_count": 51,
   "metadata": {
    "collapsed": true
   },
   "outputs": [],
   "source": [
    "# Make the neural network\n",
    "model = torch.nn.Sequential(torch.nn.Linear(34, 23),\n",
    "                            torch.nn.ReLU(),\n",
    "                            torch.nn.Linear(23, 15),\n",
    "                            torch.nn.ReLU(),\n",
    "                            torch.nn.Linear(15, 10),\n",
    "                            torch.nn.ReLU(),\n",
    "                            torch.nn.Linear(10, 7),\n",
    "                            torch.nn.ReLU(),\n",
    "                            torch.nn.Linear(7, 1))"
   ]
  },
  {
   "cell_type": "code",
   "execution_count": 52,
   "metadata": {
    "collapsed": true
   },
   "outputs": [],
   "source": [
    "# To add errors to\n",
    "errors = []\n",
    "\n",
    "\n",
    "# Set the learning rate\n",
    "learning_rate = 1e-2\n",
    "\n",
    "\n",
    "# Define the model's optimizer\n",
    "optimizer = torch.optim.Adagrad(model.parameters(), lr = learning_rate)\n",
    "\n",
    "\n",
    "# Train the neural network\n",
    "for t in range(10000):\n",
    "    \n",
    "    # Get the current predictions\n",
    "    y_pred = model(features_Variable)\n",
    "    \n",
    "    # Compute and append current summed errors\n",
    "    loss = loss_fn(y_pred, outcomes_Variable)\n",
    "    errors.append(loss.data[0])\n",
    "    \n",
    "    # Zero the gradients before running the backward pass.\n",
    "    optimizer.zero_grad()\n",
    "    \n",
    "    # Backward pass: compute gradient of the loss with respect to all the learnable Variables\n",
    "    loss.backward()\n",
    "    \n",
    "    # Update the weights using Adagrad\n",
    "    optimizer.step()"
   ]
  },
  {
   "cell_type": "code",
   "execution_count": 53,
   "metadata": {
    "collapsed": false
   },
   "outputs": [
    {
     "data": {
      "text/plain": [
       "<matplotlib.collections.PathCollection at 0x7f1a56e3f978>"
      ]
     },
     "execution_count": 53,
     "metadata": {},
     "output_type": "execute_result"
    },
    {
     "data": {
      "image/png": "[encoded data removed]",
      "text/plain": [
       "<matplotlib.figure.Figure at 0x7f1a56ea6278>"
      ]
     },
     "metadata": {},
     "output_type": "display_data"
    }
   ],
   "source": [
    "# Plot summed error as a function of iteration\n",
    "plt.scatter(iterations, errors, c = \"black\", alpha = 0.25)"
   ]
  },
  {
   "cell_type": "code",
   "execution_count": 54,
   "metadata": {
    "collapsed": false
   },
   "outputs": [],
   "source": [
    "# Get rid of the 2nd dimension of 1 from the FloatTensor\n",
    "y_pred_resized = y_pred.resize(11959)\n",
    "\n",
    "\n",
    "# Make the FloatTensor into a numpy.array\n",
    "y_pred_array = y_pred_resized.data.numpy()\n",
    "\n",
    "\n",
    "# Make the numpy.array into a list\n",
    "y_pred_list = y_pred_array.tolist()"
   ]
  },
  {
   "cell_type": "code",
   "execution_count": 55,
   "metadata": {
    "collapsed": false
   },
   "outputs": [
    {
     "data": {
      "text/plain": [
       "[<matplotlib.lines.Line2D at 0x7f1a56eb9898>]"
      ]
     },
     "execution_count": 55,
     "metadata": {},
     "output_type": "execute_result"
    },
    {
     "data": {
      "image/png": "[encoded data removed]",
      "text/plain": [
       "<matplotlib.figure.Figure at 0x7f1a56eb9080>"
      ]
     },
     "metadata": {},
     "output_type": "display_data"
    }
   ],
   "source": [
    "# Plot predictions versus training set outcomes\n",
    "plt.scatter(outcomes_list, y_pred_list, c = \"black\", alpha = 0.15)\n",
    "\n",
    "axes = plt.gca()\n",
    "\n",
    "axes.set_xlim([-2, 4])\n",
    "\n",
    "axes.set_ylim([-2, 4])\n",
    "\n",
    "plt.plot([-2, 4], [-2, 4], 'k-', lw=2)"
   ]
  },
  {
   "cell_type": "markdown",
   "metadata": {},
   "source": [
    "### Round 4.1: Validation Set Performance"
   ]
  },
  {
   "cell_type": "code",
   "execution_count": 56,
   "metadata": {
    "collapsed": false
   },
   "outputs": [
    {
     "data": {
      "text/plain": [
       "Variable containing:\n",
       " 2468.7673\n",
       "[torch.FloatTensor of size 1]"
      ]
     },
     "execution_count": 56,
     "metadata": {},
     "output_type": "execute_result"
    }
   ],
   "source": [
    "# Get the validation set predictions\n",
    "y_valid_pred = model(valid_predictors_Variable)\n",
    "\n",
    "\n",
    "# Print the loss\n",
    "loss_fn(y_valid_pred,\n",
    "        valid_outcomes_Variable)"
   ]
  },
  {
   "cell_type": "code",
   "execution_count": 57,
   "metadata": {
    "collapsed": true
   },
   "outputs": [],
   "source": [
    "# Get rid of the 2nd dimension of 1 from the FloatTensor\n",
    "y_valid_pred_resized = y_valid_pred.resize(3987)\n",
    "\n",
    "\n",
    "# Make the FloatTensor into a numpy.array\n",
    "y_valid_pred_array = y_valid_pred_resized.data.numpy()\n",
    "\n",
    "\n",
    "# Convert back to log scale\n",
    "y_valid_pred_array = y_valid_pred_array*5.407597 + 7.688844\n",
    "\n",
    "\n",
    "# Make the numpy.array into a list\n",
    "y_valid_pred_list = y_valid_pred_array.tolist()"
   ]
  },
  {
   "cell_type": "code",
   "execution_count": 58,
   "metadata": {
    "collapsed": false
   },
   "outputs": [
    {
     "data": {
      "text/plain": [
       "<matplotlib.text.Text at 0x7f1a56d3cb70>"
      ]
     },
     "execution_count": 58,
     "metadata": {},
     "output_type": "execute_result"
    },
    {
     "data": {
      "image/png": "[encoded data removed]",
      "text/plain": [
       "<matplotlib.figure.Figure at 0x7f1a56f5c128>"
      ]
     },
     "metadata": {},
     "output_type": "display_data"
    }
   ],
   "source": [
    "# Plot new predictions versus new data outcomes\n",
    "plt.scatter(valid_outcomes_list, y_valid_pred_list, c = \"black\", alpha = 0.15)\n",
    "\n",
    "axes = plt.gca()\n",
    "\n",
    "axes.set_xlim([0, 24])\n",
    "\n",
    "axes.set_ylim([0, 24])\n",
    "\n",
    "axes.set_xticks([0, 4, 8, 12, 16, 20, 24])\n",
    "\n",
    "axes.set_yticks([0, 4, 8, 12, 16, 20, 24])\n",
    "\n",
    "plt.plot([0, 24], [0, 24], 'k-', lw = 2)\n",
    "\n",
    "axes.set_xlabel(\"Actual Outcome (Log-Transformed US Dollars)\")\n",
    "\n",
    "axes.set_ylabel(\"Model Prediction (Log-Transformed US Dollars)\")\n",
    "\n",
    "axes.set_title(\"Model Performance\")"
   ]
  },
  {
   "cell_type": "code",
   "execution_count": 59,
   "metadata": {
    "collapsed": false
   },
   "outputs": [
    {
     "data": {
      "text/plain": [
       "Parameter containing:\n",
       "\n",
       "Columns 0 to 9 \n",
       "-0.2391 -0.0945 -0.0673  0.1458  0.0009 -0.0224 -0.2764  0.1255 -0.0141 -0.0567\n",
       " 0.2603  0.1828  0.0453 -0.0436  0.1023  0.0924 -0.0683  0.1882 -0.0185 -0.2073\n",
       "-0.0195  0.5509 -0.0235 -0.5240 -0.0481  0.0644 -0.0321  0.0501 -0.1537 -0.1525\n",
       "-0.1007 -0.0965  0.1787 -0.0867  0.0215 -0.0171  0.0696  0.1170  0.2542  0.0911\n",
       " 0.0217  0.2077 -0.0328 -0.0874  0.0577  0.1059  0.2180  0.0509 -0.2510  0.1960\n",
       " 0.0224  0.2336  0.1336  0.1089 -0.1531 -0.1507  0.3745  0.0200 -0.0309 -0.1120\n",
       "-0.1668 -0.0252 -0.0366  0.1081 -0.1057 -0.1329 -0.1303  0.2233  0.3905 -0.2771\n",
       "-0.0399  0.1373 -0.1656 -0.1425  0.0487  0.3268  0.2250 -0.0333 -0.2636  0.3249\n",
       "-0.0907  0.2368 -0.1476  0.0077  0.2646  0.0703  0.2603  0.0285 -0.0596 -0.2000\n",
       " 0.4441 -0.3387  0.2236  0.0574  0.1577 -0.0854  0.2675 -0.0292  0.1266 -0.0788\n",
       " 0.4182  0.2561 -0.0383  0.3934  0.0874 -0.0297  0.5167  0.0636 -0.0747  0.0339\n",
       " 0.2406 -0.0824 -0.1314 -0.3130  0.0867  0.0032 -0.1970  0.1788 -0.1990  0.0021\n",
       "-0.0904 -0.2438 -0.1050  0.0576 -0.0102 -0.4377  0.8846  0.0744  0.2334  0.2023\n",
       "-0.2340  0.1432 -0.2723  0.0620  0.2188  0.0727  0.1481  0.0906 -0.2262  0.2614\n",
       " 0.2695  0.0434 -0.0697 -0.2602 -0.1962  0.1092 -0.1673  0.1157 -0.1958 -0.1155\n",
       " 0.1389  0.1783 -0.0851  0.1070 -0.0017  0.0202  0.1378 -0.0587  0.0313 -0.0009\n",
       "-0.1173 -0.1576 -0.1465  0.2631 -0.6168 -0.0260 -0.6613  0.2102 -0.1989  0.1729\n",
       "-0.2563 -0.1452 -0.1057 -0.1884 -0.4273  0.1555  1.2846 -0.0051  0.1533  0.0181\n",
       " 0.0297  0.2898  0.0949 -0.1790  0.2203 -0.1162 -0.1165 -0.0221 -0.0657  0.0929\n",
       "-0.1729  0.0119  0.1630  0.0508 -0.1794 -0.0663  0.4697  0.2065  0.1936  0.4410\n",
       "-0.0983 -0.0829 -0.1613 -0.2621  0.1673 -0.1306  0.5414 -0.0121 -0.0163  0.0517\n",
       "-0.2583 -0.1679 -0.0002  0.2249 -0.2549 -0.2773  0.4267 -0.0432 -0.0219 -0.1486\n",
       " 0.0370 -0.0178  0.0842 -0.0960  0.0740 -0.3235  0.3944  0.3598 -0.0858  0.1566\n",
       "\n",
       "Columns 10 to 19 \n",
       "-0.0361 -0.0202  0.0786 -0.1855  0.0441  0.0306 -0.3017 -0.0022  0.0886  0.2251\n",
       "-0.0123 -0.1543  0.0446 -0.3621 -0.1794  0.2676 -0.2410  0.1643  0.1473  0.1980\n",
       " 0.0787 -0.0414 -0.0410 -0.0500 -0.0572 -0.4483  0.1444  0.1100 -0.0796 -0.0450\n",
       " 0.1577 -0.0405 -0.2020  0.3356 -0.0883 -0.2024  0.2416 -0.2840  0.2732  0.2147\n",
       " 0.0335 -0.1895  0.0299 -0.2161 -0.1295  0.2325 -0.2546 -0.1040  0.0707 -0.0518\n",
       "-0.0613  0.0370 -0.0469  0.0791  0.0353 -0.2882  0.1397  0.1236  0.0193  0.0079\n",
       "-0.1592 -0.0352  0.2535  0.0565 -0.1828 -0.0564 -0.0720 -0.2193  0.1383 -0.3860\n",
       "-0.1744  0.1297 -0.0914 -0.0253 -0.0217 -0.0385 -0.0265  0.2563 -0.0503  0.0485\n",
       "-0.1976  0.2178 -0.1211 -0.2114  0.0046 -0.1841  0.0642  0.2460  0.0015  0.1437\n",
       "-0.0894  0.1525 -0.0619  0.0529 -0.2063  0.1591 -0.2660  0.1725  0.0567 -0.3422\n",
       "-0.1942  0.1937  0.0044 -0.2986  0.0879  0.0209  0.2616 -0.2230  0.2218 -0.0588\n",
       "-0.1086  0.0348 -0.2225  0.0529  0.0044  0.1285  0.1393  0.2197  0.0616 -0.0512\n",
       " 0.3763  0.1961 -0.2032  0.1232  0.0184  0.3283  0.2203 -0.1543  0.0996  0.1301\n",
       " 0.0731  0.0321 -0.2857  0.2195 -0.0308  0.1177  0.1020  0.0719  0.0670 -0.0524\n",
       "-0.0012 -0.1325  0.0354 -0.1968 -0.0912  0.1772 -0.0248  0.0371 -0.0570  0.1776\n",
       "-0.1620 -0.1571  0.2609  0.1526 -0.2829  0.0318 -0.0820 -0.1265 -0.2760 -0.2563\n",
       " 0.0437  0.1004  0.1658 -0.1001  0.1917  0.0517 -0.0235 -0.1464  0.0711  0.0525\n",
       "-0.0122  0.0218 -0.0407 -0.1903  0.0302 -0.0656  0.0342  0.0462 -0.1685 -0.0440\n",
       "-0.0350 -0.0411 -0.1434  0.0080 -0.0947 -0.1335  0.0795  0.0687 -0.0822 -0.0195\n",
       " 0.0889 -0.0724 -0.2356  0.2667 -0.2306 -0.0102 -0.0227 -0.2795  0.1724 -0.0757\n",
       " 0.1038 -0.1488 -0.1493 -0.1335 -0.1377 -0.0212  0.0020  0.3373  0.0480  0.1359\n",
       " 0.1637  0.0355  0.0486  0.0787  0.0345  0.0245  0.0447  0.0010 -0.0962  0.0361\n",
       "-0.1612 -0.2190 -0.1686 -0.1582  0.0780  0.0765  0.2279  0.0871  0.1730  0.1452\n",
       "\n",
       "Columns 20 to 29 \n",
       " 0.1692 -0.0407  0.1492 -0.0585  0.0358  0.2503 -0.0072  0.0445 -0.1479  0.0763\n",
       "-0.0273  0.0108  0.2195  0.0916  0.1009  0.0079  0.0745  0.0327  0.2115 -0.0476\n",
       "-0.1391 -0.2238 -0.1055 -0.0365  0.1136  0.2874  0.2176 -0.1671 -0.1935  0.2156\n",
       "-0.0993 -0.0305  0.0052  0.0014  0.0872  0.0280 -0.0947  0.5501 -0.3783  0.1101\n",
       "-0.0325  0.0343 -0.3063 -0.0031 -0.1498  0.1106  0.0812  0.1199  0.0777  0.0044\n",
       "-0.1174 -0.1194  0.0649 -0.0191  0.0679 -0.1515 -0.0077  0.1267 -0.1130 -0.0622\n",
       "-0.0948 -0.1199  0.2548  0.0664 -0.1489 -0.0306  0.3330 -0.1294  0.0444  0.1502\n",
       " 0.0099 -0.1418 -0.0037  0.0283  0.1527 -0.0620 -0.1798  0.0099  0.0107 -0.1609\n",
       "-0.0470 -0.1072 -0.0375  0.0531  0.2004 -0.0092 -0.0964  0.1012 -0.1171  0.0641\n",
       " 0.2872  0.1265  0.0078  0.1294  0.0828 -0.0291 -0.1650 -0.3518 -0.1417  0.1659\n",
       "-0.1739 -0.0368  0.1524  0.0985 -0.2328  0.0623  0.1702  0.2857  0.3718  0.0620\n",
       " 0.0791  0.0919 -0.0908 -0.1592  0.1423  0.3047  0.0653 -0.0893 -0.2540  0.0620\n",
       " 0.0864 -0.3326  0.2253 -0.0641  0.0582  0.2782 -0.3654  0.1220 -0.4181  0.0044\n",
       " 0.0140 -0.1484  0.0283  0.0328  0.2417  0.0308  0.2611 -0.0185 -0.2238  0.0272\n",
       "-0.2055  0.0348 -0.0114  0.2120  0.0417  0.2841  0.2638 -0.0152  0.2385  0.0438\n",
       "-0.1555  0.0358 -0.2218  0.1459  0.0007 -0.1147  0.0331  0.2453  0.0426 -0.0836\n",
       "-0.1908  0.0118  0.2311 -0.0358 -0.3061  0.0828 -0.1406  0.0584 -0.0226 -0.0759\n",
       " 0.0036 -0.0092 -0.0923  0.0832  0.0732 -0.2136 -0.3069 -0.2003 -0.0247 -0.1214\n",
       "-0.1505 -0.0151 -0.1725  0.1038  0.3039  0.2239  0.0668  0.0027 -0.0191  0.2291\n",
       "-0.0973 -0.0480 -0.0895  0.0208  0.1397  0.0629 -0.4394  0.0856 -0.0505  0.2072\n",
       "-0.0342 -0.1764  0.1518 -0.1863 -0.0895 -0.1552 -0.0568  0.0415 -0.0205 -0.1243\n",
       "-0.0741  0.1003 -0.0478 -0.1993 -0.0919  0.0423  0.1502 -0.0976 -0.0277  0.0823\n",
       "-0.0491 -0.0054  0.2626  0.0239 -0.0276  0.0003  0.0179  0.2147 -0.0091  0.1315\n",
       "\n",
       "Columns 30 to 33 \n",
       "-0.1876  0.1600  0.0868  0.0517\n",
       "-0.0493 -0.2040 -0.2342  0.0575\n",
       "-0.3679 -0.0017 -0.4630 -0.1017\n",
       " 0.0731  0.0397  0.4151 -0.0278\n",
       "-0.0752  0.1532  0.1281 -0.1889\n",
       " 0.2397 -0.2346 -0.0261  0.0340\n",
       "-0.1640 -0.0306  0.2834  0.0349\n",
       " 0.0609 -0.2561 -0.0933 -0.2268\n",
       " 0.2711  0.0889  0.0610  0.0002\n",
       " 0.1410 -0.2376 -0.2497 -0.4100\n",
       " 0.2452 -0.1039 -0.1650  0.0873\n",
       " 0.0007  0.3055 -0.1457  0.1121\n",
       "-0.1780 -0.3222 -0.0002 -0.1829\n",
       "-0.2870 -0.0141 -0.4487 -0.1021\n",
       " 0.0555 -0.1773 -0.0525  0.4182\n",
       " 0.1122  0.2026  0.0555 -0.1792\n",
       " 0.1098 -0.2092 -0.0844 -0.0297\n",
       " 0.2954 -0.3706  0.1284 -0.1619\n",
       "-0.0428  0.1895  0.1343  0.0434\n",
       " 0.0044  0.0802  0.6454  0.1005\n",
       " 0.1070 -0.0724  0.0655 -0.1613\n",
       " 0.1215  0.0065 -0.0913 -0.0067\n",
       " 0.2823  0.2044 -0.2136  0.0027\n",
       "[torch.FloatTensor of size 23x34]"
      ]
     },
     "execution_count": 59,
     "metadata": {},
     "output_type": "execute_result"
    }
   ],
   "source": [
    "model[(0)].weight"
   ]
  },
  {
   "cell_type": "code",
   "execution_count": 60,
   "metadata": {
    "collapsed": false
   },
   "outputs": [
    {
     "data": {
      "text/plain": [
       "Parameter containing:\n",
       "\n",
       "Columns 0 to 9 \n",
       " 0.1860  0.0426 -0.1924 -0.2949 -0.1044 -0.2351  0.0017 -0.2112  0.0178 -0.0145\n",
       "-0.0681  0.2815  0.1804 -0.3243 -0.1181 -0.2398  0.1223  0.2171  0.2453  0.1763\n",
       " 0.2188 -0.4105 -0.4232  0.1399  0.0015 -0.3304  0.0453  0.2005 -0.2921  0.3231\n",
       "-0.0431 -0.1550  0.0376  0.0344  0.2077  0.0677  0.2769 -0.0979  0.0974  0.0563\n",
       " 0.0643  0.3330  0.0899 -0.1759 -0.0877 -0.1272 -0.2107 -0.1645  0.1384  0.1963\n",
       "-0.0717  0.1915  0.1205  0.2025 -0.1411 -0.2303 -0.4055 -0.3933  0.1657 -0.4723\n",
       "-1.3192 -0.5682 -0.9751 -0.1553 -0.2286  0.8420  0.1321 -0.4834  0.3097 -0.7053\n",
       " 0.3048 -0.4393  0.2052  0.3739  0.3565  0.0910  0.2808  0.0393  0.1517  0.0328\n",
       "-0.0462  0.1848  0.1245 -0.3231  0.0400 -0.2903  0.2792 -0.1439  0.2327 -0.3370\n",
       "-0.0570  0.0976 -0.0233  0.2258  0.1467 -0.3248  0.2887 -0.3389  0.1001  0.0425\n",
       "-0.1823  0.0129  0.0518 -0.1198 -0.3061 -0.2082  0.1916 -0.2625  0.0922  0.0964\n",
       "-0.1096 -0.4594 -0.0801  0.0354  0.5789  0.5081  0.4911  0.2839 -0.1628  0.1841\n",
       " 0.3428 -0.3735  0.0780  0.7534  0.2047 -0.0165  0.1257  0.1886  0.1490  0.4672\n",
       " 0.0923  0.0835  0.2941  0.2319  0.2493  0.0080  0.2819  0.0934 -0.1817  0.1017\n",
       " 0.2955  0.0456  0.2049  0.0345  0.0066  0.1206  0.2284  0.0786 -0.1932  0.2127\n",
       "\n",
       "Columns 10 to 19 \n",
       " 0.4066  0.0800  0.1546  0.2643 -0.0631 -0.0872 -0.1691  0.0457  0.3181  0.0920\n",
       "-0.0842 -0.0970 -0.2777  0.0139 -0.4943  0.1523  0.1804  0.1889  0.0336  0.2486\n",
       "-0.2580 -0.0880  0.0511  0.3624  0.1153  0.1691 -0.0627  0.2126  0.1244  0.0791\n",
       " 0.2929  0.1953 -0.0322 -0.1446 -0.1002 -0.0894 -0.2817  0.3338  0.2354 -0.0524\n",
       " 0.2994  0.1463 -0.5981  0.4541 -0.3198  0.1037  0.1632  0.1227 -0.3119  0.2718\n",
       " 0.0323  0.2925 -0.5316  0.3718  0.1914  0.2399  0.1097  0.2463 -0.0077  0.0367\n",
       "-0.1978  0.1436 -0.4359 -0.6832 -0.3320 -0.0664  0.4175 -0.4318  0.6199 -0.2762\n",
       " 0.1001 -0.1935 -0.0613 -0.0353  0.1156 -0.1941 -0.4224 -0.1987  0.1234 -0.2790\n",
       "-0.6660  0.0277 -0.1449 -0.0104 -0.0561  0.3092 -0.2238  0.1026  0.0543 -0.0752\n",
       "-0.0842  0.0111  0.1250  0.0035 -0.2749  0.0202  0.1373  0.0102 -0.3906  0.1095\n",
       "-0.3365  0.2858  0.1993  0.1048 -0.3308 -0.0026  0.0683  0.1284 -0.3939  0.1997\n",
       " 0.0990 -0.4535  0.4245 -0.7017  0.2935 -0.6212 -0.1404  0.1581 -0.2707 -0.4350\n",
       " 0.0663 -0.0114  0.0423  0.0951  0.2321 -0.0708 -0.1872 -0.2846  0.2489 -0.1666\n",
       " 0.0972 -0.0843 -0.0451  0.0118  0.1834 -0.2835  0.1499 -0.0285  0.2736 -0.2151\n",
       " 0.1822  0.0368 -0.0113  0.0376  0.2317 -0.0863 -0.3217 -0.2438  0.1150 -0.3857\n",
       "\n",
       "Columns 20 to 22 \n",
       "-0.0788  0.0525  0.1035\n",
       " 0.1122 -0.3838 -0.2570\n",
       "-0.2782  0.1742  0.3197\n",
       " 0.2654  0.2992 -0.1223\n",
       " 0.0149 -0.1853 -0.3399\n",
       "-0.0069 -0.2524 -0.0585\n",
       "-0.1942 -0.4670 -0.1452\n",
       "-0.3446  0.3791  0.2165\n",
       " 0.2112  0.3152 -0.8082\n",
       " 0.1346 -0.0771 -0.2031\n",
       " 0.0967  0.0592  0.4070\n",
       " 0.0057  0.1554  0.5616\n",
       "-0.1465  0.0971 -0.0019\n",
       "-0.1417  0.0939 -0.0862\n",
       "-0.0424  0.1492  0.1512\n",
       "[torch.FloatTensor of size 15x23]"
      ]
     },
     "execution_count": 60,
     "metadata": {},
     "output_type": "execute_result"
    }
   ],
   "source": [
    "model[(2)].weight"
   ]
  },
  {
   "cell_type": "code",
   "execution_count": 61,
   "metadata": {
    "collapsed": false
   },
   "outputs": [
    {
     "data": {
      "text/plain": [
       "Parameter containing:\n",
       "\n",
       "Columns 0 to 9 \n",
       " 0.5702  0.2067 -0.3710 -0.3479  0.0062  0.1712 -1.2339 -0.2670  0.2992  0.0868\n",
       "-0.2395  0.0400 -0.0806  0.0855 -0.1777  0.2768  1.3285  0.1540  0.2155 -0.1929\n",
       " 0.3827 -0.2529 -0.3783  0.0363  0.0914  0.2088 -0.7728 -0.5856  0.3114 -0.0960\n",
       "-0.0347 -0.0745  0.4040  0.0505 -0.1526  0.1394 -1.1308  0.0950 -0.0620 -0.0062\n",
       "-0.1091 -0.0511  0.4606  0.2893 -0.4457 -0.4148  2.0407  0.4100 -0.3063 -0.2780\n",
       "-0.2138 -0.2557  0.5926  0.4130 -0.5660 -0.4894  0.9525  0.3988 -0.3121 -0.2736\n",
       "-0.2211  0.0386 -0.1898 -0.1296  0.2184  0.2317 -1.0897 -0.5006  0.2222  0.2100\n",
       "-0.3289  0.1751  0.0403 -0.2448  0.0055  0.1689 -0.1119  0.0809  0.0026 -0.2020\n",
       "-0.3074 -0.3073  0.4928  0.3938 -0.4314 -0.2678  0.5557  0.3193 -0.3147 -0.0640\n",
       " 0.4588  0.1824 -0.6087 -0.2500  0.2184  0.0519 -1.2660 -0.3310  0.2576  0.3145\n",
       "\n",
       "Columns 10 to 14 \n",
       " 0.0237  0.0122 -0.1212  0.2204 -0.2361\n",
       "-0.1056  0.1475  0.1774  0.3658 -0.1632\n",
       "-0.0713  0.0891  0.7097 -0.1161 -0.0860\n",
       " 0.2470  0.3739  0.2255  0.1675 -0.2182\n",
       "-0.2722 -0.0375 -0.1279  0.3826  0.2189\n",
       "-0.4156  0.1159  0.0945  0.3252  0.2810\n",
       "-0.2038  0.3809  0.2499  0.0049  0.0545\n",
       " 0.2581  0.3830  0.2274  0.1970 -0.1434\n",
       "-0.3338  0.3028  0.1761  0.2709  0.4870\n",
       " 0.1803  0.1131 -0.0190 -0.0786  0.0730\n",
       "[torch.FloatTensor of size 10x15]"
      ]
     },
     "execution_count": 61,
     "metadata": {},
     "output_type": "execute_result"
    }
   ],
   "source": [
    "model[(4)].weight"
   ]
  },
  {
   "cell_type": "code",
   "execution_count": 62,
   "metadata": {
    "collapsed": false
   },
   "outputs": [
    {
     "data": {
      "text/plain": [
       "Parameter containing:\n",
       "-0.0332  0.0314 -0.1940 -0.1547  0.3647  0.3920  0.0284 -0.2387  0.3488  0.0970\n",
       " 0.3299 -0.2730  0.1869  0.2998 -1.0116 -1.1395  0.2693 -0.1226 -0.9505 -0.0060\n",
       " 0.2724 -0.3691  0.2492  0.0127 -1.3774 -1.1457  0.1120  0.2802 -0.9859  0.0993\n",
       "-0.5268 -0.1370  0.8014 -0.4514  0.0581  0.2048  0.9598 -0.5525 -0.2692 -0.2885\n",
       " 0.2569 -0.1802  0.3922  0.2808 -1.3127 -1.4197  0.1241  0.2034 -0.9308  0.2224\n",
       " 0.0238 -0.5464  0.3458 -0.0345  0.2251  0.2864  0.1225 -0.5471  0.1332  0.1804\n",
       "-0.0553  0.3453 -0.4189  0.2321  0.0669 -0.0439 -0.0241 -0.2951  0.1406  0.3822\n",
       "[torch.FloatTensor of size 7x10]"
      ]
     },
     "execution_count": 62,
     "metadata": {},
     "output_type": "execute_result"
    }
   ],
   "source": [
    "model[(6)].weight"
   ]
  },
  {
   "cell_type": "code",
   "execution_count": 63,
   "metadata": {
    "collapsed": false
   },
   "outputs": [
    {
     "data": {
      "text/plain": [
       "Parameter containing:\n",
       " 0.1234 -0.5602 -0.8885  1.2770 -0.9371  0.6829  0.7659\n",
       "[torch.FloatTensor of size 1x7]"
      ]
     },
     "execution_count": 63,
     "metadata": {},
     "output_type": "execute_result"
    }
   ],
   "source": [
    "model[(8)].weight"
   ]
  },
  {
   "cell_type": "markdown",
   "metadata": {},
   "source": [
    "## Round 5: Five-Hidden-Layer Neural Network"
   ]
  },
  {
   "cell_type": "code",
   "execution_count": 64,
   "metadata": {
    "collapsed": true
   },
   "outputs": [],
   "source": [
    "# Make the torch Tensor into a PyTorch Variable for dependent variables\n",
    "outcomes_Variable = Variable(outcomes_Tensor)\n",
    "\n",
    "\n",
    "# ...for independent variables\n",
    "features_Variable = Variable(features_Tensor,\n",
    "                             requires_grad = False)"
   ]
  },
  {
   "cell_type": "code",
   "execution_count": 65,
   "metadata": {
    "collapsed": true
   },
   "outputs": [],
   "source": [
    "# Make the neural network\n",
    "model = torch.nn.Sequential(torch.nn.Linear(34, 23),\n",
    "                            torch.nn.ReLU(),\n",
    "                            torch.nn.Linear(23, 15),\n",
    "                            torch.nn.ReLU(),\n",
    "                            torch.nn.Linear(15, 10),\n",
    "                            torch.nn.ReLU(),\n",
    "                            torch.nn.Linear(10, 7),\n",
    "                            torch.nn.ReLU(),\n",
    "                            torch.nn.Linear(7, 5),\n",
    "                            torch.nn.ReLU(),\n",
    "                            torch.nn.Linear(5, 1))"
   ]
  },
  {
   "cell_type": "code",
   "execution_count": 66,
   "metadata": {
    "collapsed": true
   },
   "outputs": [],
   "source": [
    "# To add errors to\n",
    "errors = []\n",
    "\n",
    "\n",
    "# Set the learning rate\n",
    "learning_rate = 1e-2\n",
    "\n",
    "\n",
    "# Define the model's optimizer\n",
    "optimizer = torch.optim.Adagrad(model.parameters(), lr = learning_rate)\n",
    "\n",
    "\n",
    "# Train the neural network\n",
    "for t in range(10000):\n",
    "    \n",
    "    # Get the current predictions\n",
    "    y_pred = model(features_Variable)\n",
    "    \n",
    "    # Compute and append current summed errors\n",
    "    loss = loss_fn(y_pred, outcomes_Variable)\n",
    "    errors.append(loss.data[0])\n",
    "    \n",
    "    # Zero the gradients before running the backward pass.\n",
    "    optimizer.zero_grad()\n",
    "    \n",
    "    # Backward pass: compute gradient of the loss with respect to all the learnable Variables\n",
    "    loss.backward()\n",
    "    \n",
    "    # Update the weights using Adagrad\n",
    "    optimizer.step()"
   ]
  },
  {
   "cell_type": "code",
   "execution_count": 67,
   "metadata": {
    "collapsed": false
   },
   "outputs": [
    {
     "data": {
      "text/plain": [
       "<matplotlib.collections.PathCollection at 0x7f1a56cef780>"
      ]
     },
     "execution_count": 67,
     "metadata": {},
     "output_type": "execute_result"
    },
    {
     "data": {
      "image/png": "[encoded data removed]",
      "text/plain": [
       "<matplotlib.figure.Figure at 0x7f1a56d9a4e0>"
      ]
     },
     "metadata": {},
     "output_type": "display_data"
    }
   ],
   "source": [
    "# Plot summed error as a function of iteration\n",
    "plt.scatter(iterations, errors, c = \"black\", alpha = 0.25)"
   ]
  },
  {
   "cell_type": "code",
   "execution_count": 68,
   "metadata": {
    "collapsed": true
   },
   "outputs": [],
   "source": [
    "# Get rid of the 2nd dimension of 1 from the FloatTensor\n",
    "y_pred_resized = y_pred.resize(11959)\n",
    "\n",
    "\n",
    "# Make the FloatTensor into a numpy.array\n",
    "y_pred_array = y_pred_resized.data.numpy()\n",
    "\n",
    "\n",
    "# Make the numpy.array into a list\n",
    "y_pred_list = y_pred_array.tolist()"
   ]
  },
  {
   "cell_type": "code",
   "execution_count": 69,
   "metadata": {
    "collapsed": false
   },
   "outputs": [
    {
     "data": {
      "text/plain": [
       "[<matplotlib.lines.Line2D at 0x7f1a680a0b38>]"
      ]
     },
     "execution_count": 69,
     "metadata": {},
     "output_type": "execute_result"
    },
    {
     "data": {
      "image/png": "[encoded data removed]",
      "text/plain": [
       "<matplotlib.figure.Figure at 0x7f1a680a0a58>"
      ]
     },
     "metadata": {},
     "output_type": "display_data"
    }
   ],
   "source": [
    "# Plot predictions versus training set outcomes\n",
    "plt.scatter(outcomes_list, y_pred_list, c = \"black\", alpha = 0.15)\n",
    "\n",
    "axes = plt.gca()\n",
    "\n",
    "axes.set_xlim([-2, 4])\n",
    "\n",
    "axes.set_ylim([-2, 4])\n",
    "\n",
    "plt.plot([-2, 4], [-2, 4], 'k-', lw=2)"
   ]
  },
  {
   "cell_type": "markdown",
   "metadata": {},
   "source": [
    "### Round 5.1 Validation Set Performance"
   ]
  },
  {
   "cell_type": "code",
   "execution_count": 70,
   "metadata": {
    "collapsed": false
   },
   "outputs": [
    {
     "data": {
      "text/plain": [
       "Variable containing:\n",
       " 3936.8081\n",
       "[torch.FloatTensor of size 1]"
      ]
     },
     "execution_count": 70,
     "metadata": {},
     "output_type": "execute_result"
    }
   ],
   "source": [
    "# Get the validation set predictions\n",
    "y_valid_pred = model(valid_predictors_Variable)\n",
    "\n",
    "\n",
    "# Print the loss\n",
    "loss_fn(y_valid_pred,\n",
    "        valid_outcomes_Variable)"
   ]
  },
  {
   "cell_type": "code",
   "execution_count": 71,
   "metadata": {
    "collapsed": true
   },
   "outputs": [],
   "source": [
    "# Get rid of the 2nd dimension of 1 from the FloatTensor\n",
    "y_valid_pred_resized = y_valid_pred.resize(3987)\n",
    "\n",
    "\n",
    "# Make the FloatTensor into a numpy.array\n",
    "y_valid_pred_array = y_valid_pred_resized.data.numpy()\n",
    "\n",
    "\n",
    "# Convert back to log scale\n",
    "y_valid_pred_array = y_valid_pred_array*5.407597 + 7.688844\n",
    "\n",
    "\n",
    "# Make the numpy.array into a list\n",
    "y_valid_pred_list = y_valid_pred_array.tolist()"
   ]
  },
  {
   "cell_type": "code",
   "execution_count": 72,
   "metadata": {
    "collapsed": false
   },
   "outputs": [
    {
     "data": {
      "text/plain": [
       "<matplotlib.text.Text at 0x7f1a56bb0320>"
      ]
     },
     "execution_count": 72,
     "metadata": {},
     "output_type": "execute_result"
    },
    {
     "data": {
      "image/png": "[encoded data removed]",
      "text/plain": [
       "<matplotlib.figure.Figure at 0x7f1a56e10f60>"
      ]
     },
     "metadata": {},
     "output_type": "display_data"
    }
   ],
   "source": [
    "# Plot new predictions versus new data outcomes\n",
    "plt.scatter(valid_outcomes_list, y_valid_pred_list, c = \"black\", alpha = 0.15)\n",
    "\n",
    "axes = plt.gca()\n",
    "\n",
    "axes.set_xlim([0, 24])\n",
    "\n",
    "axes.set_ylim([0, 24])\n",
    "\n",
    "axes.set_xticks([0, 4, 8, 12, 16, 20, 24])\n",
    "\n",
    "axes.set_yticks([0, 4, 8, 12, 16, 20, 24])\n",
    "\n",
    "plt.plot([0, 24], [0, 24], 'k-', lw = 2)\n",
    "\n",
    "axes.set_xlabel(\"Actual Outcome (Log-Transformed US Dollars)\")\n",
    "\n",
    "axes.set_ylabel(\"Model Prediction (Log-Transformed US Dollars)\")\n",
    "\n",
    "axes.set_title(\"Model Performance\")"
   ]
  },
  {
   "cell_type": "code",
   "execution_count": 73,
   "metadata": {
    "collapsed": false
   },
   "outputs": [
    {
     "data": {
      "text/plain": [
       "Parameter containing:\n",
       "\n",
       "Columns 0 to 9 \n",
       " 0.0340 -0.1001  0.1048  0.0326  0.0184  0.1659 -0.0387  0.0096 -0.0011  0.1450\n",
       "-0.0686  0.0264  0.1419  0.1429 -0.0259  0.0868  0.0962 -0.0630 -0.0526  0.0328\n",
       "-0.0070 -0.0083  0.0913 -0.1296 -0.0755 -0.1573 -0.0872 -0.0141 -0.0255 -0.0872\n",
       " 0.0600 -0.1578 -0.0760  0.1288 -0.0864 -0.0636  0.1679 -0.1437 -0.0490 -0.1096\n",
       " 0.1530 -0.1365  0.0414 -0.1707 -0.0656 -0.0734 -0.0377 -0.1407 -0.1072 -0.1400\n",
       " 0.0594 -0.1163 -0.0249  0.0806  0.0577  0.0910  0.0905  0.0755  0.1157 -0.0210\n",
       "-0.0850  0.1455  0.0869 -0.0465 -0.1246 -0.0867 -0.1045 -0.0474 -0.0957 -0.0016\n",
       "-0.0061 -0.1654 -0.1618  0.0388 -0.0677 -0.0483  0.1566 -0.1058  0.0719  0.1214\n",
       " 0.0329 -0.1448  0.1683  0.1150  0.0959  0.1215  0.0932 -0.1263  0.0076 -0.1596\n",
       " 0.1627 -0.1462  0.0947 -0.0350 -0.0363  0.1225  0.1299 -0.0421  0.1078  0.1169\n",
       "-0.1016 -0.0688  0.0846 -0.1689  0.1205  0.0270 -0.1250  0.0683 -0.1115  0.1289\n",
       " 0.1303 -0.0743  0.0156 -0.0755  0.0192  0.1279 -0.0462 -0.0083 -0.1667  0.0155\n",
       " 0.0733  0.0817  0.0212 -0.0913 -0.0760 -0.0573  0.1157 -0.1297 -0.1020  0.1119\n",
       "-0.0241  0.0877 -0.0557  0.0293  0.0986 -0.1558  0.1199 -0.1242  0.0513  0.0847\n",
       " 0.0782 -0.0312  0.0154  0.1079 -0.1449  0.0017 -0.0866 -0.1048  0.1410 -0.1709\n",
       "-0.1628 -0.0265 -0.1099 -0.1483  0.0225  0.0628 -0.0419  0.0162 -0.0646  0.0081\n",
       " 0.1578 -0.0247 -0.1128 -0.0278 -0.1477 -0.1011  0.0528  0.1426  0.1002  0.0481\n",
       "-0.0596 -0.0955  0.1198  0.1655 -0.1470 -0.0643 -0.1500 -0.1444 -0.1076 -0.0894\n",
       " 0.0483 -0.0764 -0.1641  0.0261  0.1697 -0.0503  0.0308  0.1020  0.0778  0.1010\n",
       "-0.1700  0.1575 -0.1344 -0.1111  0.0240  0.1307  0.1001  0.0496  0.0325 -0.1290\n",
       "-0.1359  0.1713 -0.1016 -0.0435  0.1550  0.0426  0.0813 -0.1364 -0.0915  0.0681\n",
       "-0.0941 -0.0416  0.0990  0.1381 -0.0647  0.1213  0.1270 -0.0520  0.0898  0.1487\n",
       "-0.0034  0.0266 -0.0618  0.1497  0.1699 -0.1260  0.0695  0.0401  0.1699  0.1268\n",
       "\n",
       "Columns 10 to 19 \n",
       " 0.1694  0.0657 -0.0394  0.0366 -0.1359  0.0878  0.1448  0.0979  0.0143  0.1468\n",
       " 0.1678 -0.0867  0.1329  0.0164 -0.0960 -0.0440 -0.0038  0.0239 -0.0071  0.0110\n",
       "-0.0642  0.0429  0.1196  0.0394  0.0184  0.0044  0.1333  0.1074  0.0711 -0.0547\n",
       "-0.1355 -0.1391  0.0803 -0.1400 -0.1155 -0.1207  0.0255 -0.1341  0.1674  0.0726\n",
       "-0.1447  0.0877 -0.0319 -0.0246  0.0989  0.0502  0.1196 -0.0188  0.1154 -0.0364\n",
       " 0.0033  0.0550  0.1198 -0.0468  0.0758  0.0152 -0.1185 -0.1044 -0.1126 -0.0755\n",
       " 0.1514 -0.1085 -0.0994 -0.0153 -0.0318  0.1518  0.1021 -0.0561 -0.0200  0.0798\n",
       " 0.1575  0.0057 -0.1197 -0.1285 -0.0819 -0.0121 -0.1703 -0.0937 -0.1182 -0.0610\n",
       "-0.1456  0.0695 -0.0701 -0.1384  0.1678 -0.0525  0.0781  0.0298  0.0340  0.0867\n",
       "-0.0275 -0.0458  0.0668  0.1203 -0.1572  0.0704  0.1013  0.1188  0.1713  0.0456\n",
       " 0.1605 -0.0116 -0.1326 -0.1277 -0.0770 -0.0420 -0.1092 -0.1392 -0.0878 -0.0413\n",
       " 0.0204  0.0528  0.0137  0.0618  0.1530  0.0351 -0.0690 -0.1054  0.1669  0.1600\n",
       "-0.1641  0.0523 -0.1239  0.0183 -0.0675 -0.0473  0.1092  0.1473  0.0935 -0.0840\n",
       "-0.1148  0.1440  0.1561 -0.0101 -0.0946 -0.1466  0.0962 -0.1104 -0.1446 -0.0807\n",
       "-0.1309  0.0357 -0.1290 -0.0335 -0.0371 -0.1649  0.0409 -0.1287  0.0024 -0.0421\n",
       "-0.0680  0.0858 -0.0829  0.0531  0.1305  0.1200 -0.1053  0.1556  0.0789  0.0087\n",
       " 0.0094  0.1236 -0.1108 -0.1304  0.1127  0.0739 -0.0781 -0.1191  0.0937  0.1040\n",
       "-0.1263  0.0483  0.0842 -0.1109  0.1548 -0.0625  0.1480 -0.1513 -0.0091  0.0446\n",
       "-0.0325 -0.0174 -0.0920  0.0166 -0.1694 -0.0107 -0.0821  0.0373  0.1207  0.1410\n",
       " 0.0077  0.1485  0.0955  0.1270  0.1245  0.0885 -0.1384 -0.1530  0.1034 -0.1595\n",
       "-0.0591 -0.1491 -0.0274  0.0607  0.1594 -0.1366 -0.1594  0.0104 -0.0892  0.1393\n",
       "-0.0536 -0.1413 -0.0249  0.1360  0.0395  0.1429  0.1196 -0.1472  0.0010 -0.1061\n",
       "-0.0678 -0.0156  0.1683 -0.1018 -0.1601 -0.0755  0.0913 -0.0057  0.0340 -0.1095\n",
       "\n",
       "Columns 20 to 29 \n",
       "-0.0249  0.1632  0.1429 -0.1517  0.1183 -0.0817 -0.0749 -0.1173 -0.1346  0.0074\n",
       " 0.1017 -0.1273  0.1146  0.1650 -0.1186  0.0460  0.0490  0.0142  0.1071 -0.1501\n",
       " 0.0908  0.0949 -0.0510 -0.0305  0.0644 -0.0581  0.1051 -0.0009  0.1648  0.0012\n",
       "-0.0918 -0.0477 -0.0416  0.0572  0.1219 -0.1332 -0.1201 -0.1584 -0.0719 -0.0865\n",
       "-0.1595  0.1362 -0.0326  0.0648  0.1536  0.0313 -0.0995 -0.0321 -0.1491 -0.0510\n",
       " 0.0823 -0.0256 -0.0759 -0.1298  0.0893 -0.0914 -0.1470  0.0299  0.0528  0.0080\n",
       " 0.0208 -0.0639  0.1449  0.1256 -0.0450  0.1177 -0.0390  0.1617 -0.1069  0.0281\n",
       "-0.1632 -0.0690  0.0832 -0.0380  0.1576  0.0208  0.0170 -0.1239  0.1156  0.0928\n",
       " 0.1468  0.0832  0.0775 -0.0225  0.0973  0.0481 -0.0838  0.0710 -0.1302 -0.1301\n",
       "-0.0779  0.0728 -0.0057 -0.0533  0.1394  0.1613  0.0857  0.0082  0.0080  0.0565\n",
       "-0.0108  0.1320  0.0791 -0.1493  0.1124 -0.1216  0.1088  0.1282 -0.0716 -0.0544\n",
       "-0.1120  0.0182  0.0091  0.1674 -0.0244  0.0367 -0.0267  0.1171  0.1656 -0.0950\n",
       "-0.1415 -0.1479 -0.1211 -0.0068 -0.0510  0.1533 -0.1416  0.0052  0.0345  0.0019\n",
       " 0.0796 -0.1370 -0.0163  0.1185 -0.1074  0.0439  0.0835 -0.0212 -0.1570 -0.0166\n",
       " 0.0746 -0.0874 -0.0809 -0.1264  0.0615  0.0010 -0.0627 -0.1062 -0.1174  0.0417\n",
       " 0.0443 -0.0622  0.1115  0.0842 -0.0035  0.0517  0.1390 -0.0750  0.0481 -0.0592\n",
       "-0.1504  0.0331 -0.1153  0.0319  0.0155  0.0326 -0.1522  0.1008  0.1696 -0.0899\n",
       "-0.0535  0.1004  0.1036  0.0500 -0.0180 -0.1425  0.1243 -0.0455 -0.0956  0.1109\n",
       " 0.0358  0.0203 -0.0520  0.0380 -0.1320  0.1477 -0.0026 -0.1327 -0.0674  0.0840\n",
       " 0.1185 -0.0506  0.1330 -0.0428  0.0631  0.1497  0.0630 -0.0288  0.0556 -0.0780\n",
       "-0.1603  0.1522 -0.0358  0.1460 -0.0014  0.0009 -0.0533  0.1456  0.1590 -0.0410\n",
       "-0.1240  0.0742 -0.0746 -0.0261  0.1596  0.1239 -0.0695  0.0806 -0.1277 -0.0686\n",
       "-0.0655 -0.0605 -0.1664  0.1084 -0.1703  0.0871 -0.1323 -0.0023  0.0715 -0.0633\n",
       "\n",
       "Columns 30 to 33 \n",
       "-0.1183  0.1383  0.1463  0.1503\n",
       " 0.1534 -0.0000  0.0119  0.0267\n",
       " 0.1681  0.0599  0.0587  0.0431\n",
       " 0.1029  0.1459  0.0360  0.0227\n",
       " 0.0564 -0.0709  0.0528  0.1488\n",
       "-0.0827 -0.1369 -0.0653  0.1090\n",
       "-0.0879  0.0287  0.0046  0.1124\n",
       "-0.0785 -0.0226 -0.1157 -0.0824\n",
       " 0.1698  0.0861  0.0804 -0.1248\n",
       " 0.0557  0.0146  0.0301  0.1395\n",
       " 0.1405  0.0567 -0.0586 -0.0931\n",
       " 0.0404  0.1658  0.1137  0.1584\n",
       "-0.1711 -0.0143 -0.0470  0.1484\n",
       "-0.1201  0.1368  0.0563  0.1459\n",
       " 0.1635  0.1140  0.0473  0.1583\n",
       "-0.0309 -0.1463  0.1270  0.0005\n",
       " 0.0776  0.0561  0.1599  0.0816\n",
       "-0.1219  0.0229 -0.1473 -0.0224\n",
       " 0.0865 -0.0656 -0.1364  0.1162\n",
       "-0.1272  0.1668 -0.0843 -0.0241\n",
       "-0.0005  0.1006 -0.0106  0.0830\n",
       " 0.1534  0.0819 -0.0915 -0.1290\n",
       "-0.1346  0.0682  0.0757 -0.0041\n",
       "[torch.FloatTensor of size 23x34]"
      ]
     },
     "execution_count": 73,
     "metadata": {},
     "output_type": "execute_result"
    }
   ],
   "source": [
    "model[(0)].weight"
   ]
  },
  {
   "cell_type": "code",
   "execution_count": 74,
   "metadata": {
    "collapsed": false
   },
   "outputs": [
    {
     "data": {
      "text/plain": [
       "Parameter containing:\n",
       "\n",
       "Columns 0 to 9 \n",
       " 0.0043  0.0306  0.1224 -0.1896  0.1598 -0.1811  0.1383  0.0870 -0.1013  0.0925\n",
       " 0.1412 -0.0660  0.2019  0.0295 -0.1324  0.0134 -0.1270  0.0480 -0.1993  0.1494\n",
       " 0.0226  0.1870  0.2079 -0.2016  0.0436  0.0701  0.1817  0.1187  0.1372 -0.0485\n",
       "-0.1869  0.1942 -0.1085 -0.0730  0.0367  0.0068 -0.0237  0.0728 -0.1576  0.1944\n",
       " 0.1699  0.1889 -0.1455 -0.1098  0.0554 -0.1805  0.1138  0.0112  0.1702  0.0372\n",
       " 0.1834  0.1524 -0.0041  0.0085  0.1834 -0.1249  0.0343  0.0563  0.1969 -0.2018\n",
       " 0.0032  0.1725  0.1662 -0.0591 -0.0365 -0.1117 -0.1064 -0.2033  0.1647  0.1577\n",
       " 0.0469 -0.0622  0.2061  0.1153 -0.0463 -0.1886  0.0918  0.1398 -0.0722 -0.0047\n",
       " 0.0613  0.0175 -0.1934  0.2009  0.1216  0.1156 -0.0919 -0.0380  0.2036  0.0782\n",
       " 0.1116  0.1293 -0.0355 -0.0786  0.1744  0.0504 -0.0387 -0.1667 -0.0863 -0.1978\n",
       " 0.0071 -0.0759 -0.1647 -0.1925  0.2002 -0.1341 -0.0243 -0.0078  0.0411 -0.0978\n",
       "-0.0564  0.0707  0.1503  0.0763  0.0142  0.1435 -0.1511 -0.1503 -0.1324 -0.1418\n",
       " 0.1407  0.0381 -0.1823  0.1858  0.1117 -0.2021 -0.1794 -0.0165 -0.1926 -0.1651\n",
       " 0.0672  0.0976 -0.0972 -0.0772 -0.0427  0.0075  0.1153 -0.0934 -0.0002 -0.2018\n",
       "-0.2082 -0.2067 -0.1143 -0.0095  0.2084 -0.0615 -0.0183  0.0662  0.0124  0.0135\n",
       "\n",
       "Columns 10 to 19 \n",
       " 0.1767  0.0785 -0.1374  0.1315  0.0017 -0.1490  0.1171  0.1697 -0.1855  0.1151\n",
       "-0.2013 -0.0072  0.1349  0.1456  0.0895 -0.1426  0.0140 -0.0634  0.0737  0.1724\n",
       " 0.0820 -0.0707 -0.1847 -0.0574  0.1869 -0.0864 -0.2027 -0.0361  0.1341 -0.0323\n",
       " 0.1236 -0.0927 -0.0195 -0.1569 -0.1631  0.1559  0.0013  0.0919 -0.0012  0.0072\n",
       " 0.1771  0.1663  0.1272  0.0736  0.1938  0.1619  0.1096  0.1011  0.0820  0.0012\n",
       "-0.1374 -0.1534 -0.0956  0.0102 -0.1966 -0.1397  0.0307 -0.1039 -0.0483 -0.1244\n",
       " 0.0333 -0.0266 -0.0729 -0.0511 -0.1317  0.1564 -0.1922  0.1684  0.1379  0.0447\n",
       " 0.2034 -0.1551  0.0367  0.1668 -0.0508 -0.1200 -0.0543 -0.1972 -0.0428 -0.0603\n",
       "-0.0606  0.1499 -0.1099 -0.0246  0.0537 -0.1106 -0.0976 -0.1336  0.1259  0.1241\n",
       "-0.1816 -0.0425  0.1154  0.0991 -0.0468  0.0635 -0.0653  0.0194  0.0913 -0.1287\n",
       " 0.0207  0.1566  0.0061  0.1630  0.1427 -0.1990  0.1933 -0.1619  0.1256  0.0542\n",
       "-0.1483  0.0605  0.1653  0.1175 -0.0336 -0.1582 -0.0815 -0.0801 -0.0587 -0.1008\n",
       "-0.1885  0.0622  0.1140  0.0284 -0.1202 -0.0397 -0.0144  0.0405  0.1776  0.0762\n",
       "-0.0376  0.0314  0.0618  0.1933  0.1829 -0.1742 -0.0512  0.0409 -0.0250  0.0235\n",
       "-0.1087 -0.1072  0.1218 -0.0406  0.1011 -0.1898 -0.1744  0.1709 -0.0439 -0.0822\n",
       "\n",
       "Columns 20 to 22 \n",
       " 0.0380 -0.0513 -0.1699\n",
       " 0.0078  0.1525 -0.2055\n",
       "-0.1650 -0.1470  0.0479\n",
       " 0.0200 -0.1740  0.0164\n",
       "-0.1154 -0.1089 -0.0470\n",
       " 0.0338  0.0525 -0.0907\n",
       "-0.0712 -0.1935  0.1357\n",
       " 0.0599  0.0925 -0.1505\n",
       " 0.1866 -0.1522  0.1061\n",
       "-0.0386 -0.1690 -0.1142\n",
       "-0.1365 -0.1319  0.0427\n",
       " 0.0182 -0.1364  0.0897\n",
       " 0.0154  0.1489 -0.2000\n",
       " 0.2030  0.1856 -0.0822\n",
       "-0.1927 -0.0429  0.1903\n",
       "[torch.FloatTensor of size 15x23]"
      ]
     },
     "execution_count": 74,
     "metadata": {},
     "output_type": "execute_result"
    }
   ],
   "source": [
    "model[(2)].weight"
   ]
  },
  {
   "cell_type": "code",
   "execution_count": 75,
   "metadata": {
    "collapsed": false
   },
   "outputs": [
    {
     "data": {
      "text/plain": [
       "Parameter containing:\n",
       "\n",
       "Columns 0 to 9 \n",
       "-0.0832 -0.2464  0.0539 -0.2370 -0.1359 -0.0304 -0.1790 -0.0942 -0.0436  0.1972\n",
       " 0.1527  0.0604  0.1204  0.2233  0.2241  0.2243  0.0051  0.0637 -0.0820 -0.1387\n",
       "-0.0980  0.1500  0.1586 -0.0247 -0.0500 -0.0953  0.1429  0.2380  0.0067  0.2541\n",
       "-0.2148  0.0811 -0.1655  0.1144  0.2480  0.1536 -0.1031 -0.1779 -0.2091 -0.0262\n",
       " 0.0941 -0.1489  0.0901  0.2342 -0.0032  0.2430  0.2389  0.1610 -0.0410  0.1499\n",
       "-0.0264 -0.1217  0.2496 -0.1585  0.1177 -0.0625  0.0245  0.0497  0.0885 -0.0850\n",
       "-0.1315  0.2272  0.0079  0.0863  0.0176  0.2511  0.1301  0.1593 -0.0332 -0.2264\n",
       " 0.2565 -0.1561 -0.0803 -0.1015 -0.0983  0.0145 -0.2288 -0.2421  0.0835 -0.1252\n",
       " 0.0564  0.0373  0.0374  0.0604 -0.2063  0.1168 -0.0966 -0.2552 -0.1312  0.0223\n",
       "-0.2418  0.1609 -0.0604 -0.2327  0.1764 -0.0785 -0.0037 -0.1363 -0.0124  0.0436\n",
       "\n",
       "Columns 10 to 14 \n",
       " 0.1272 -0.0246 -0.0700  0.0187  0.1754\n",
       "-0.0998 -0.0567  0.2448 -0.1797  0.1513\n",
       "-0.1304 -0.0640  0.1826  0.0891 -0.0532\n",
       " 0.2022 -0.1383 -0.0254  0.1716  0.0695\n",
       " 0.1491 -0.0648  0.1185  0.2138 -0.2199\n",
       "-0.1359  0.1719 -0.1094 -0.1322 -0.1490\n",
       "-0.0603  0.0949 -0.1372 -0.2401  0.0534\n",
       "-0.1493 -0.0848 -0.1902 -0.2034 -0.1638\n",
       "-0.2057 -0.2187 -0.2498 -0.2004  0.2431\n",
       "-0.1365 -0.0443 -0.0536  0.2362 -0.0013\n",
       "[torch.FloatTensor of size 10x15]"
      ]
     },
     "execution_count": 75,
     "metadata": {},
     "output_type": "execute_result"
    }
   ],
   "source": [
    "model[(4)].weight"
   ]
  },
  {
   "cell_type": "code",
   "execution_count": 76,
   "metadata": {
    "collapsed": false
   },
   "outputs": [
    {
     "data": {
      "text/plain": [
       "Parameter containing:\n",
       "-0.2762 -0.0074  0.1474 -0.0347  0.1393  0.0544  0.1420 -0.2236  0.1362  0.1924\n",
       " 0.2188 -0.2519  0.0234 -0.1767 -0.1645 -0.0152 -0.2730  0.2043 -0.0568 -0.1256\n",
       " 0.0716  0.0235 -0.2965  0.1280 -0.1325 -0.0767  0.2220 -0.0740 -0.0311  0.2057\n",
       "-0.2022 -0.0649 -0.0494 -0.1471  0.3029  0.0973  0.2952 -0.2649 -0.2040 -0.3050\n",
       "-0.3048 -0.2406 -0.1124 -0.0937  0.1979  0.0040  0.2299 -0.0260  0.1524 -0.0339\n",
       " 0.0268 -0.0960  0.0519 -0.2060  0.1727  0.0750 -0.2665 -0.1816  0.2873  0.0046\n",
       " 0.1623 -0.2529 -0.0412 -0.1854 -0.0479  0.0916 -0.0932 -0.0407 -0.2017 -0.1262\n",
       "[torch.FloatTensor of size 7x10]"
      ]
     },
     "execution_count": 76,
     "metadata": {},
     "output_type": "execute_result"
    }
   ],
   "source": [
    "model[(6)].weight"
   ]
  },
  {
   "cell_type": "code",
   "execution_count": 77,
   "metadata": {
    "collapsed": false
   },
   "outputs": [
    {
     "data": {
      "text/plain": [
       "Parameter containing:\n",
       " 0.2913  0.1039 -0.0625 -0.0283  0.2328 -0.2743 -0.2507\n",
       "-0.1632  0.0147  0.2754 -0.1966  0.3098 -0.1610 -0.3003\n",
       " 0.2775 -0.0436  0.1665 -0.1528 -0.0632 -0.3552  0.2077\n",
       " 0.0351 -0.1594  0.1684  0.2548  0.1747  0.3133 -0.0785\n",
       " 0.1542 -0.1584  0.2785  0.0739 -0.3497 -0.1557 -0.3178\n",
       "[torch.FloatTensor of size 5x7]"
      ]
     },
     "execution_count": 77,
     "metadata": {},
     "output_type": "execute_result"
    }
   ],
   "source": [
    "model[(8)].weight"
   ]
  },
  {
   "cell_type": "code",
   "execution_count": 78,
   "metadata": {
    "collapsed": false
   },
   "outputs": [
    {
     "data": {
      "text/plain": [
       "Parameter containing:\n",
       "-0.2167  0.0302  0.2899  0.3775  0.2443\n",
       "[torch.FloatTensor of size 1x5]"
      ]
     },
     "execution_count": 78,
     "metadata": {},
     "output_type": "execute_result"
    }
   ],
   "source": [
    "model[(10)].weight"
   ]
  },
  {
   "cell_type": "markdown",
   "metadata": {},
   "source": [
    "## Round 6: Six-Hidden-Layer Neural Network"
   ]
  },
  {
   "cell_type": "code",
   "execution_count": 79,
   "metadata": {
    "collapsed": true
   },
   "outputs": [],
   "source": [
    "# Make the torch Tensor into a PyTorch Variable for dependent variables\n",
    "outcomes_Variable = Variable(outcomes_Tensor)\n",
    "\n",
    "\n",
    "# ...for independent variables\n",
    "features_Variable = Variable(features_Tensor,\n",
    "                             requires_grad = False)"
   ]
  },
  {
   "cell_type": "code",
   "execution_count": 80,
   "metadata": {
    "collapsed": true
   },
   "outputs": [],
   "source": [
    "# Make the neural network\n",
    "model = torch.nn.Sequential(torch.nn.Linear(34, 23),\n",
    "                            torch.nn.ReLU(),\n",
    "                            torch.nn.Linear(23, 15),\n",
    "                            torch.nn.ReLU(),\n",
    "                            torch.nn.Linear(15, 10),\n",
    "                            torch.nn.ReLU(),\n",
    "                            torch.nn.Linear(10, 7),\n",
    "                            torch.nn.ReLU(),\n",
    "                            torch.nn.Linear(7, 5),\n",
    "                            torch.nn.ReLU(),\n",
    "                            torch.nn.Linear(5, 3),\n",
    "                            torch.nn.ReLU(),\n",
    "                            torch.nn.Linear(3, 1))"
   ]
  },
  {
   "cell_type": "code",
   "execution_count": 81,
   "metadata": {
    "collapsed": true
   },
   "outputs": [],
   "source": [
    "# To add errors to\n",
    "errors = []\n",
    "\n",
    "\n",
    "# Set the learning rate\n",
    "learning_rate = 1e-2\n",
    "\n",
    "\n",
    "# Define the model's optimizer\n",
    "optimizer = torch.optim.Adagrad(model.parameters(), lr = learning_rate)\n",
    "\n",
    "\n",
    "# Train the neural network\n",
    "for t in range(10000):\n",
    "    \n",
    "    # Get the current predictions\n",
    "    y_pred = model(features_Variable)\n",
    "    \n",
    "    # Compute and append current summed errors\n",
    "    loss = loss_fn(y_pred, outcomes_Variable)\n",
    "    errors.append(loss.data[0])\n",
    "    \n",
    "    # Zero the gradients before running the backward pass.\n",
    "    optimizer.zero_grad()\n",
    "    \n",
    "    # Backward pass: compute gradient of the loss with respect to all the learnable Variables\n",
    "    loss.backward()\n",
    "    \n",
    "    # Update the weights using Adagrad\n",
    "    optimizer.step()"
   ]
  },
  {
   "cell_type": "code",
   "execution_count": 82,
   "metadata": {
    "collapsed": false
   },
   "outputs": [
    {
     "data": {
      "text/plain": [
       "<matplotlib.collections.PathCollection at 0x7f1a56b27e48>"
      ]
     },
     "execution_count": 82,
     "metadata": {},
     "output_type": "execute_result"
    },
    {
     "data": {
      "image/png": "[encoded data removed]",
      "text/plain": [
       "<matplotlib.figure.Figure at 0x7f1a56eabbe0>"
      ]
     },
     "metadata": {},
     "output_type": "display_data"
    }
   ],
   "source": [
    "# Plot summed error as a function of iteration\n",
    "plt.scatter(iterations, errors, c = \"black\", alpha = 0.25)"
   ]
  },
  {
   "cell_type": "code",
   "execution_count": 83,
   "metadata": {
    "collapsed": true
   },
   "outputs": [],
   "source": [
    "# Get rid of the 2nd dimension of 1 from the FloatTensor\n",
    "y_pred_resized = y_pred.resize(11959)\n",
    "\n",
    "\n",
    "# Make the FloatTensor into a numpy.array\n",
    "y_pred_array = y_pred_resized.data.numpy()\n",
    "\n",
    "\n",
    "# Make the numpy.array into a list\n",
    "y_pred_list = y_pred_array.tolist()"
   ]
  },
  {
   "cell_type": "code",
   "execution_count": 84,
   "metadata": {
    "collapsed": false
   },
   "outputs": [
    {
     "data": {
      "text/plain": [
       "[<matplotlib.lines.Line2D at 0x7f1a6808f198>]"
      ]
     },
     "execution_count": 84,
     "metadata": {},
     "output_type": "execute_result"
    },
    {
     "data": {
      "image/png": "[encoded data removed]",
      "text/plain": [
       "<matplotlib.figure.Figure at 0x7f1a6808f080>"
      ]
     },
     "metadata": {},
     "output_type": "display_data"
    }
   ],
   "source": [
    "# Plot predictions versus training set outcomes\n",
    "plt.scatter(outcomes_list, y_pred_list, c = \"black\", alpha = 0.15)\n",
    "\n",
    "axes = plt.gca()\n",
    "\n",
    "axes.set_xlim([-2, 4])\n",
    "\n",
    "axes.set_ylim([-2, 4])\n",
    "\n",
    "plt.plot([-2, 4], [-2, 4], 'k-', lw=2)"
   ]
  },
  {
   "cell_type": "markdown",
   "metadata": {},
   "source": [
    "### Round 6.1: Validation Set Performance"
   ]
  },
  {
   "cell_type": "code",
   "execution_count": 85,
   "metadata": {
    "collapsed": false
   },
   "outputs": [
    {
     "data": {
      "text/plain": [
       "Variable containing:\n",
       " 2572.0342\n",
       "[torch.FloatTensor of size 1]"
      ]
     },
     "execution_count": 85,
     "metadata": {},
     "output_type": "execute_result"
    }
   ],
   "source": [
    "# Get the validation set predictions\n",
    "y_valid_pred = model(valid_predictors_Variable)\n",
    "\n",
    "\n",
    "# Print the loss\n",
    "loss_fn(y_valid_pred,\n",
    "        valid_outcomes_Variable)"
   ]
  },
  {
   "cell_type": "code",
   "execution_count": 86,
   "metadata": {
    "collapsed": true
   },
   "outputs": [],
   "source": [
    "# Get rid of the 2nd dimension of 1 from the FloatTensor\n",
    "y_valid_pred_resized = y_valid_pred.resize(3987)\n",
    "\n",
    "\n",
    "# Make the FloatTensor into a numpy.array\n",
    "y_valid_pred_array = y_valid_pred_resized.data.numpy()\n",
    "\n",
    "\n",
    "# Convert back to log scale\n",
    "y_valid_pred_array = y_valid_pred_array*5.407597 + 7.688844\n",
    "\n",
    "\n",
    "# Make the numpy.array into a list\n",
    "y_valid_pred_list = y_valid_pred_array.tolist()"
   ]
  },
  {
   "cell_type": "code",
   "execution_count": 87,
   "metadata": {
    "collapsed": false
   },
   "outputs": [
    {
     "data": {
      "text/plain": [
       "<matplotlib.text.Text at 0x7f1a56b92780>"
      ]
     },
     "execution_count": 87,
     "metadata": {},
     "output_type": "execute_result"
    },
    {
     "data": {
      "image/png": "[encoded data removed]",
      "text/plain": [
       "<matplotlib.figure.Figure at 0x7f1a56ac3198>"
      ]
     },
     "metadata": {},
     "output_type": "display_data"
    }
   ],
   "source": [
    "# Plot new predictions versus new data outcomes\n",
    "plt.scatter(valid_outcomes_list, y_valid_pred_list, c = \"black\", alpha = 0.15)\n",
    "\n",
    "axes = plt.gca()\n",
    "\n",
    "axes.set_xlim([0, 24])\n",
    "\n",
    "axes.set_ylim([0, 24])\n",
    "\n",
    "axes.set_xticks([0, 4, 8, 12, 16, 20, 24])\n",
    "\n",
    "axes.set_yticks([0, 4, 8, 12, 16, 20, 24])\n",
    "\n",
    "plt.plot([0, 24], [0, 24], 'k-', lw = 2)\n",
    "\n",
    "axes.set_xlabel(\"Actual Outcome (Log-Transformed US Dollars)\")\n",
    "\n",
    "axes.set_ylabel(\"Model Prediction (Log-Transformed US Dollars)\")\n",
    "\n",
    "axes.set_title(\"Model Performance\")"
   ]
  },
  {
   "cell_type": "code",
   "execution_count": 88,
   "metadata": {
    "collapsed": false
   },
   "outputs": [
    {
     "data": {
      "text/plain": [
       "Parameter containing:\n",
       "\n",
       "Columns 0 to 9 \n",
       "-0.0858  0.1918 -0.0254  0.1026  0.0658  0.2820 -0.5499  0.0255 -0.1334 -0.0489\n",
       " 0.0845 -0.2379  0.0713 -0.0442 -0.0865  0.0210  0.1849  0.0899  0.0634  0.0754\n",
       "-0.1332 -0.0545 -0.3076  0.2698 -0.3550 -0.0922  0.1051 -0.0457 -0.2691 -0.0245\n",
       "-0.0975  0.1280  0.1184  0.0737 -0.0153  0.0407 -0.0212  0.1425 -0.0726 -0.2094\n",
       "-0.0884  0.1170 -0.2259 -0.0102  0.0782  0.2136 -0.1446  0.1096  0.1987  0.0494\n",
       " 0.1557 -0.1291  0.1250  0.0283  0.0761  0.1117  0.8060  0.0580 -0.1048  0.0077\n",
       "-0.2536 -0.0721 -0.2481 -0.0260  0.0729  0.1450 -0.0648 -0.1091 -0.1961 -0.1432\n",
       "-0.2054  0.0728 -0.3708  0.1082  0.0494 -0.0036  0.4313  0.0535 -0.1414 -0.0084\n",
       "-0.1264  0.1995 -0.2889  0.2396 -0.0743 -0.4733  0.2779  0.0313 -0.0820 -0.1060\n",
       " 0.0396 -0.0258  0.1514  0.0610  0.0295 -0.0162  0.0865  0.0892  0.1566  0.0253\n",
       "-0.0280  0.0799  0.3375  0.1954  0.0438 -0.1972  0.0914 -0.3442 -0.1343 -0.1043\n",
       " 0.3370  0.3532 -0.0720  0.0198  0.2165  0.1881 -0.2576 -0.0774  0.1645 -0.1248\n",
       " 0.3176  0.1122 -0.1450 -0.0206 -0.0686  0.0462  0.0133 -0.1435 -0.1758 -0.1184\n",
       " 0.4138  0.1106  0.0496  0.1234  0.2181 -0.0755 -0.1359  0.2969 -0.0865  0.1684\n",
       "-0.2583  0.3101 -0.3358 -0.0294  0.2058  0.0679 -0.3812  0.1025  0.3292  0.1216\n",
       "-0.4459 -0.1046 -0.2971  0.0564 -0.0605 -0.0320 -0.3155  0.0158 -0.0738  0.2150\n",
       " 0.1790  0.0745  0.1658  0.1622  0.0382 -0.2958 -0.3945  0.0279  0.0524 -0.0536\n",
       " 0.1807  0.1068  0.1916  0.1061  0.1741  0.1825 -0.6473  0.1310  0.2357 -0.1318\n",
       "-0.2166 -0.1499  0.0822  0.0844  0.2233 -0.0817  0.9250  0.1623 -0.0660  0.2820\n",
       "-0.2015  0.1365  0.1436  0.0874 -0.1322 -0.2916 -0.0709 -0.0267 -0.0862 -0.1270\n",
       "-0.0666 -0.1383 -0.0934  0.0058 -0.0476  0.0064  0.2433 -0.0076 -0.0904  0.0007\n",
       " 0.0771 -0.0565  0.0861 -0.0786 -0.0713 -0.0798 -0.0898  0.1564 -0.2094  0.0909\n",
       " 0.1349 -0.0257  0.3462  0.1814 -0.1316 -0.0066  0.1767  0.2896  0.0084  0.1937\n",
       "\n",
       "Columns 10 to 19 \n",
       "-0.0526 -0.1680 -0.0641 -0.1176 -0.1774  0.0413 -0.0785  0.1503  0.1061 -0.0120\n",
       "-0.2658 -0.0887 -0.1063 -0.0700 -0.1064 -0.2083  0.1193 -0.0509  0.1746  0.0524\n",
       " 0.0505  0.0271 -0.0286 -0.0779 -0.0523 -0.0264  0.0183 -0.1567 -0.0666 -0.2361\n",
       "-0.3353  0.1685 -0.0863  0.1324 -0.0980  0.1169 -0.0482  0.0833  0.2480  0.1244\n",
       " 0.2476 -0.0312 -0.0092 -0.3419 -0.3388 -0.3118 -0.2444  0.2112 -0.1382  0.2483\n",
       " 0.0201  0.4409 -0.1508  0.0334 -0.0431  0.1858  0.0234 -0.0071 -0.1300 -0.1687\n",
       "-0.0272 -0.0063 -0.0038  0.0357 -0.1064  0.1728  0.2069 -0.0405 -0.0290 -0.1023\n",
       " 0.1548  0.0377  0.0922  0.0249 -0.1103 -0.1711  0.0989  0.0935  0.1465  0.1418\n",
       "-0.0055  0.1252  0.1801 -0.0658  0.0392  0.0528  0.2770  0.0128 -0.2094 -0.2383\n",
       " 0.0160 -0.0911 -0.1669 -0.2068  0.1547  0.0213  0.0425  0.2472 -0.1684 -0.1997\n",
       " 0.0905  0.1820  0.0122 -0.0473  0.1690 -0.0062 -0.1696  0.1971  0.3205  0.1851\n",
       "-0.1427 -0.0663 -0.0214  0.1276 -0.0854  0.1187 -0.0014  0.0841 -0.0743  0.1768\n",
       " 0.3643  0.0904 -0.0575 -0.1900 -0.0364  0.0259 -0.3085 -0.0453 -0.0920 -0.1644\n",
       "-0.2538  0.1124 -0.4282  0.0808 -0.1866 -0.3270  0.1510  0.2682  0.2142 -0.0507\n",
       "-0.2678 -0.1449  0.0939  0.0352 -0.0098 -0.3406  0.2208 -0.1734  0.0137  0.1047\n",
       " 0.1646 -0.0720  0.0808 -0.0521 -0.1778 -0.3293 -0.1795  0.1832  0.0847  0.0694\n",
       " 0.3090  0.1012  0.1881 -0.0296  0.1758  0.1721 -0.0087 -0.0667  0.1392 -0.0578\n",
       " 0.1368  0.1758 -0.1025  0.2999  0.0072 -0.2821  0.3255 -0.0860 -0.0037 -0.0067\n",
       " 0.0288 -0.0107  0.2262  0.0799  0.1532 -0.0024  0.1561 -0.0832  0.4545  0.1629\n",
       " 0.2739 -0.1032 -0.0674 -0.1308  0.0164 -0.1213  0.0585  0.0635 -0.0082 -0.0507\n",
       " 0.1025 -0.0166 -0.0495 -0.1747 -0.0959  0.1355 -0.1968  0.0083 -0.1158 -0.0600\n",
       "-0.0495 -0.2436 -0.1148 -0.1962 -0.2135  0.1325  0.4546  0.0256 -0.0813 -0.1182\n",
       " 0.0054  0.1509  0.0403  0.1126  0.1517  0.1178  0.3951 -0.1951  0.0520 -0.0753\n",
       "\n",
       "Columns 20 to 29 \n",
       "-0.0372  0.1530  0.1748 -0.1925  0.0056  0.1310 -0.0489  0.1328 -0.0400 -0.0313\n",
       " 0.1155 -0.0572  0.0247  0.0560  0.0903  0.0413 -0.0525  0.0291  0.1486  0.1459\n",
       "-0.0709  0.1897  0.1368  0.0150 -0.0601 -0.2806 -0.1690  0.2247  0.0412 -0.1213\n",
       "-0.0056 -0.0370 -0.0123 -0.1517 -0.2626 -0.0775 -0.3367 -0.0879 -0.0621 -0.0558\n",
       "-0.0431 -0.1680 -0.1589 -0.0679 -0.0205 -0.0377 -0.0661  0.0901 -0.2185  0.1209\n",
       " 0.2824 -0.2576 -0.1119 -0.0731  0.0908 -0.0107 -0.1163 -0.0212 -0.0691  0.1453\n",
       "-0.1003 -0.0667 -0.0301 -0.2505  0.0452 -0.2041 -0.1324 -0.1848 -0.0626 -0.2052\n",
       "-0.0452 -0.0361  0.0245  0.0658  0.0085 -0.0507 -0.1411 -0.0789  0.0566  0.1183\n",
       "-0.0980  0.1983  0.3193 -0.2331  0.0669  0.1232 -0.1345 -0.1468  0.1689  0.0355\n",
       " 0.2416 -0.0247  0.1270  0.2159  0.0925  0.0046 -0.2715 -0.2142 -0.1394 -0.0040\n",
       "-0.2711 -0.2338  0.0915  0.3392  0.1582  0.2110 -0.0907  0.0703 -0.0056  0.1329\n",
       "-0.0419  0.2554 -0.1474 -0.0289 -0.0096  0.2013 -0.2008 -0.1260 -0.0640  0.1736\n",
       "-0.0754 -0.0366  0.1445 -0.0260 -0.0232  0.1017  0.0088  0.0676  0.1514  0.0525\n",
       " 0.2179 -0.4258  0.3302 -0.0589 -0.1121  0.1061  0.1980  0.2543  0.1993 -0.0942\n",
       "-0.0559 -0.1683 -0.1567  0.0991  0.1343  0.2413  0.0837  0.0205  0.0785  0.1362\n",
       "-0.0658  0.0530 -0.0529 -0.1130 -0.0983  0.1715 -0.1265 -0.2542 -0.1749  0.2300\n",
       "-0.2962  0.2693 -0.2280 -0.1519 -0.0965 -0.0305  0.0848  0.1715 -0.0460 -0.0450\n",
       " 0.1920 -0.3267 -0.0198  0.2815  0.2701 -0.0558  0.0224  0.1124 -0.1214  0.0808\n",
       " 0.0821  0.0410  0.0659 -0.0415  0.1081 -0.0119  0.0917 -0.0823  0.0285  0.0842\n",
       " 0.1736  0.0298  0.0537 -0.0154 -0.0174  0.0259 -0.2430 -0.0302  0.1603  0.1132\n",
       " 0.2143  0.1581  0.0388  0.2277  0.0514  0.1780  0.0462 -0.0944 -0.1169  0.1365\n",
       "-0.0736 -0.0952  0.3354  0.1176  0.0709 -0.1223 -0.0160  0.1579  0.0058 -0.0171\n",
       " 0.1649 -0.0520  0.1316  0.1160  0.1521 -0.0478  0.0074 -0.0989 -0.0956  0.0352\n",
       "\n",
       "Columns 30 to 33 \n",
       " 0.1031 -0.1472 -0.2136  0.1069\n",
       " 0.2422  0.2163 -0.0051 -0.1948\n",
       "-0.0272  0.0580  0.1064 -0.0624\n",
       " 0.3369 -0.3357 -0.0050 -0.0395\n",
       " 0.0536  0.1304  0.1886 -0.0964\n",
       " 0.1484 -0.3659  0.1110 -0.4802\n",
       " 0.0912 -0.0433 -0.2778  0.1482\n",
       "-0.0268  0.0820 -0.4243 -0.0232\n",
       "-0.1523  0.2805 -0.1273 -0.0004\n",
       " 0.1232  0.0959  0.1932  0.0328\n",
       " 0.3643 -0.2278  0.1131 -0.0423\n",
       " 0.1093 -0.3613 -0.1059  0.2097\n",
       " 0.1048 -0.0505  0.0302  0.2866\n",
       "-0.1001  0.0003 -0.2214 -0.0296\n",
       "-0.1023  0.1599  0.2087  0.1198\n",
       "-0.2594 -0.0252 -0.2345 -0.0025\n",
       "-0.0311  0.0919 -0.0365  0.0959\n",
       "-0.1005 -0.1981 -0.2454  0.0755\n",
       " 0.3202 -0.0456  0.1703  0.0860\n",
       " 0.0315  0.1538 -0.3144 -0.0516\n",
       "-0.1883  0.2185  0.0318  0.0281\n",
       " 0.2085 -0.2556 -0.1125  0.3067\n",
       "-0.0077  0.0836  0.0653  0.1368\n",
       "[torch.FloatTensor of size 23x34]"
      ]
     },
     "execution_count": 88,
     "metadata": {},
     "output_type": "execute_result"
    }
   ],
   "source": [
    "model[(0)].weight"
   ]
  },
  {
   "cell_type": "code",
   "execution_count": 89,
   "metadata": {
    "collapsed": false
   },
   "outputs": [
    {
     "data": {
      "text/plain": [
       "Parameter containing:\n",
       "\n",
       "Columns 0 to 9 \n",
       "-0.1616 -0.2080 -0.0845 -0.0025 -0.0408  0.1633 -0.1722 -0.2159  0.1348  0.0357\n",
       "-0.0798  0.2957 -0.2481  0.0336 -0.0732  0.1740 -0.1806 -0.0224  0.2752 -0.0913\n",
       " 0.1630 -0.4201  0.1691  0.0489  0.0447 -0.0215  0.0804  0.3396  0.2319  0.2365\n",
       " 0.1849  0.0637  0.0830  0.0462  0.1323  0.0144  0.3257  0.2812 -0.1306 -0.0535\n",
       " 0.3237  0.0352  0.3742  0.0959 -0.0068 -0.2928  0.3409  0.2035 -0.0001  0.1745\n",
       "-0.2742  0.0439 -0.0897  0.2777  0.0196  0.2597  0.0290  0.1811  0.0824 -0.0192\n",
       " 0.0624 -0.0600  0.3044 -0.1607  0.3522  0.0536  0.0226  0.3359 -0.2580  0.1836\n",
       " 0.0576  0.1123  0.1308  0.1372  0.0650 -0.0121  0.3180  0.3967  0.0876  0.0414\n",
       "-0.1351 -0.0702 -0.4258  0.2773 -0.1123  0.2187 -0.1937 -0.0868  0.1554 -0.0674\n",
       "-0.4956  0.1451 -0.0861  0.2790 -0.3097 -0.1265  0.1013 -0.4416  0.2898 -0.2557\n",
       "-0.3374 -0.3478  0.2564  0.2263 -0.0864  0.0397  0.2111  0.0947 -0.2190 -0.4142\n",
       "-0.1065  0.2272 -0.3636  0.0794 -0.1122  0.0886 -0.3491 -0.1140  0.0383 -0.1348\n",
       "-0.0341  0.2773 -0.3890 -0.1202 -0.1945 -0.0108 -0.1033 -0.1162  0.2606 -0.0787\n",
       " 0.1151  0.2224  0.0513  0.3350 -0.3284  0.2135  0.0429  0.0118  0.3449  0.0953\n",
       "-0.1313  0.0566 -0.3708  0.3824  0.0358  0.3119 -0.3702 -0.0231  0.2854 -0.0974\n",
       "\n",
       "Columns 10 to 19 \n",
       " 0.0932  0.0373  0.1565  0.2463  0.0643  0.2477  0.1152  0.2094  0.1472 -0.0083\n",
       " 0.0592  0.0599  0.2929  0.1183 -0.0470  0.2479  0.2497  0.0308  0.0259  0.1933\n",
       "-0.0917 -0.0441 -0.4003  0.1885 -0.5945 -0.0234 -0.0078 -0.1330  0.1786 -0.3117\n",
       "-0.0544  0.2748  0.0338  0.2685 -0.1310 -0.1072 -0.0949  0.2359 -0.2558 -0.4430\n",
       "-0.1482  0.0636  0.1175  0.0362 -0.1591 -0.1471  0.1098  0.3112 -0.3993 -0.0409\n",
       "-0.0244  0.1884  0.0264  0.2254  0.0531  0.0314  0.1607 -0.1990  0.1468 -0.0059\n",
       " 0.0358  0.1209 -0.1749 -0.0181  0.0428 -0.2825  0.1325  0.1873 -0.0422 -0.1471\n",
       "-0.1860 -0.1315 -0.1483  0.2709 -0.5728  0.0049  0.1883 -0.0622 -0.0251 -0.1225\n",
       " 0.0495 -0.1102  0.0696  0.1641  0.1398  0.1593  0.2621  0.2198 -0.0169  0.2667\n",
       "-0.2392  0.2607 -0.1458  0.1455  0.1338  0.0248  0.2388  0.1661  0.0376  0.1101\n",
       "-0.1046 -0.0721 -0.5533 -0.2968 -0.1067  0.1501  0.0069  0.1902  0.1695  0.0344\n",
       " 0.1818  0.1529  0.0780  0.1185 -0.2058  0.4200  0.1316  0.0246 -0.0489  0.0775\n",
       " 0.2385  0.1654 -0.0933 -0.0161  0.0226 -0.0154  0.1743  0.0452  0.0997  0.1884\n",
       "-0.2015  0.2896  0.1147 -0.0907 -0.0434  0.0757  0.2310 -0.0350  0.0108  0.2123\n",
       " 0.0822  0.0151  0.1882  0.1609 -0.0849  0.1798 -0.0197  0.2716  0.0330  0.1247\n",
       "\n",
       "Columns 20 to 22 \n",
       " 0.1944  0.2128 -0.0524\n",
       " 0.1666  0.0715 -0.2444\n",
       "-0.0666 -0.2707  0.0743\n",
       " 0.0660 -0.3785 -0.0463\n",
       "-0.0465 -0.1631  0.0421\n",
       " 0.2709  0.1740 -0.0940\n",
       " 0.0178 -0.0013  0.2445\n",
       "-0.2858 -0.0575  0.1338\n",
       " 0.1726  0.2325  0.1454\n",
       " 0.1735  0.0026 -0.1134\n",
       "-0.0395  0.1551  0.1393\n",
       " 0.0567  0.3279 -0.3698\n",
       " 0.2185 -0.2369 -0.2216\n",
       " 0.1442 -0.1088 -0.1505\n",
       " 0.0394  0.1870 -0.2389\n",
       "[torch.FloatTensor of size 15x23]"
      ]
     },
     "execution_count": 89,
     "metadata": {},
     "output_type": "execute_result"
    }
   ],
   "source": [
    "model[(2)].weight"
   ]
  },
  {
   "cell_type": "code",
   "execution_count": 90,
   "metadata": {
    "collapsed": false
   },
   "outputs": [
    {
     "data": {
      "text/plain": [
       "Parameter containing:\n",
       "\n",
       "Columns 0 to 9 \n",
       " 0.1909 -0.1432 -0.2674  0.3288 -0.1651  0.0569 -0.0543 -0.3033  0.3634  0.0883\n",
       "-0.0457 -0.4127  0.4387  0.3680  0.3402 -0.1364  0.3922  0.4405 -0.2875 -0.3837\n",
       " 0.2044  0.2779 -0.5882  0.1561 -0.2172  0.0551 -0.2790 -0.2714  0.3073  0.0761\n",
       " 0.0090 -0.2022  0.4601  0.4149  0.4673 -0.0269  0.3040  0.2257 -0.1641 -0.4631\n",
       "-0.3171  0.3091 -0.3243  0.3003 -0.2953  0.2350 -0.2302  0.1326 -0.2983  0.0742\n",
       " 0.2820  0.2816 -0.5209 -0.1497 -0.4672  0.3458  0.0916 -0.0182 -0.0716  0.3031\n",
       " 0.2272 -0.0161 -0.4725  0.0944 -0.3960  0.3050 -0.2393 -0.4666  0.2192  0.1540\n",
       "-0.2579  0.0323 -0.3796  0.1512 -0.4376 -0.1690 -0.4952 -0.2543  0.4136  0.2174\n",
       " 0.1366  0.0153 -0.6594 -0.2565 -0.5395 -0.0099 -0.0016  0.0542  0.0944  0.3871\n",
       "-0.1470 -0.2818  0.6378  0.2018  0.5501  0.0914  0.3596  0.1662 -0.2234 -0.2473\n",
       "\n",
       "Columns 10 to 14 \n",
       " 0.5198 -0.0652  0.3362 -0.0198  0.1931\n",
       "-0.6768 -0.4164  0.0380 -0.3334 -0.1136\n",
       " 0.5131  0.1720  0.2905  0.2259  0.0826\n",
       "-0.4169 -0.2409  0.1670 -0.3482 -0.3650\n",
       "-0.2108  0.0794 -0.1140 -0.1177 -0.3526\n",
       " 0.4667  0.3586 -0.1518  0.0740 -0.0291\n",
       " 0.6917  0.2291  0.0767  0.0810  0.3104\n",
       " 0.7683  0.3077 -0.2584  0.1304  0.2205\n",
       " 0.2535  0.3687  0.1712  0.3490 -0.0561\n",
       "-0.5151 -0.2363  0.1695 -0.4281 -0.1550\n",
       "[torch.FloatTensor of size 10x15]"
      ]
     },
     "execution_count": 90,
     "metadata": {},
     "output_type": "execute_result"
    }
   ],
   "source": [
    "model[(4)].weight"
   ]
  },
  {
   "cell_type": "code",
   "execution_count": 91,
   "metadata": {
    "collapsed": false
   },
   "outputs": [
    {
     "data": {
      "text/plain": [
       "Parameter containing:\n",
       " 0.2487 -0.1656 -0.2895 -0.2998  0.0170 -0.0984  0.1254 -0.2212 -0.3185 -0.1478\n",
       " 0.1417  0.0620 -0.7349 -1.3096  0.4292  0.4015 -0.7007 -1.1387 -0.0955 -0.8395\n",
       " 0.0716 -0.8978  0.1620 -0.7858  0.5961 -0.0599  0.4166 -0.6161  0.2234 -0.7954\n",
       " 0.1960 -1.2263  0.0327 -0.6353  1.4978  0.2064 -0.0278 -0.0509  0.2674 -1.4411\n",
       " 0.1989 -0.4887 -0.1005 -0.4085  0.9064  0.0744 -0.3360 -0.3569 -0.5152 -0.3635\n",
       " 0.1341  0.8754 -0.2287  1.0633 -1.3801 -0.1776 -0.3010 -0.6009 -0.4436  0.9840\n",
       " 0.3373 -0.6835  0.2561 -0.4480  0.4132  0.1066  0.2134 -0.8269  0.2348 -0.7445\n",
       "[torch.FloatTensor of size 7x10]"
      ]
     },
     "execution_count": 91,
     "metadata": {},
     "output_type": "execute_result"
    }
   ],
   "source": [
    "model[(6)].weight"
   ]
  },
  {
   "cell_type": "code",
   "execution_count": 92,
   "metadata": {
    "collapsed": false
   },
   "outputs": [
    {
     "data": {
      "text/plain": [
       "Parameter containing:\n",
       "-0.3028  0.8030  0.1614  0.3005  0.8195 -1.5557  0.3962\n",
       "-0.1857  0.6057  0.2710 -0.0830  0.8886 -1.5797  0.1618\n",
       " 0.1868 -0.1051 -0.3237 -1.1224 -0.0962  0.1997  0.1972\n",
       "-0.2530  1.1351  0.3155  0.1952  0.9847 -1.3146  0.3467\n",
       "-0.2353  2.1299  0.3163  0.3797  2.2551 -0.0576  0.6594\n",
       "[torch.FloatTensor of size 5x7]"
      ]
     },
     "execution_count": 92,
     "metadata": {},
     "output_type": "execute_result"
    }
   ],
   "source": [
    "model[(8)].weight"
   ]
  },
  {
   "cell_type": "code",
   "execution_count": 93,
   "metadata": {
    "collapsed": false
   },
   "outputs": [
    {
     "data": {
      "text/plain": [
       "Parameter containing:\n",
       "-0.7378 -0.9690  0.5328 -0.2703  0.9302\n",
       " 0.4523  0.2576 -0.7435  0.5975  0.2010\n",
       " 0.4999  0.8829 -1.2859  0.7235  0.5504\n",
       "[torch.FloatTensor of size 3x5]"
      ]
     },
     "execution_count": 93,
     "metadata": {},
     "output_type": "execute_result"
    }
   ],
   "source": [
    "model[(10)].weight"
   ]
  },
  {
   "cell_type": "code",
   "execution_count": 94,
   "metadata": {
    "collapsed": false
   },
   "outputs": [
    {
     "data": {
      "text/plain": [
       "Parameter containing:\n",
       "-1.3452 -0.5137  0.9121\n",
       "[torch.FloatTensor of size 1x3]"
      ]
     },
     "execution_count": 94,
     "metadata": {},
     "output_type": "execute_result"
    }
   ],
   "source": [
    "model[(12)].weight"
   ]
  },
  {
   "cell_type": "markdown",
   "metadata": {},
   "source": [
    "## Round 7: Seven-Hidden-Layer Neural Network"
   ]
  },
  {
   "cell_type": "code",
   "execution_count": 95,
   "metadata": {
    "collapsed": true
   },
   "outputs": [],
   "source": [
    "# Make the torch Tensor into a PyTorch Variable for dependent variables\n",
    "outcomes_Variable = Variable(outcomes_Tensor)\n",
    "\n",
    "\n",
    "# ...for independent variables\n",
    "features_Variable = Variable(features_Tensor,\n",
    "                             requires_grad = False)"
   ]
  },
  {
   "cell_type": "code",
   "execution_count": 96,
   "metadata": {
    "collapsed": true
   },
   "outputs": [],
   "source": [
    "# Make the neural network\n",
    "model = torch.nn.Sequential(torch.nn.Linear(34, 23),\n",
    "                            torch.nn.ReLU(),\n",
    "                            torch.nn.Linear(23, 15),\n",
    "                            torch.nn.ReLU(),\n",
    "                            torch.nn.Linear(15, 10),\n",
    "                            torch.nn.ReLU(),\n",
    "                            torch.nn.Linear(10, 7),\n",
    "                            torch.nn.ReLU(),\n",
    "                            torch.nn.Linear(7, 5),\n",
    "                            torch.nn.ReLU(),\n",
    "                            torch.nn.Linear(5, 3),\n",
    "                            torch.nn.ReLU(),\n",
    "                            torch.nn.Linear(3, 2),\n",
    "                            torch.nn.ReLU(),\n",
    "                            torch.nn.Linear(2, 1))"
   ]
  },
  {
   "cell_type": "code",
   "execution_count": 97,
   "metadata": {
    "collapsed": true
   },
   "outputs": [],
   "source": [
    "# To add errors to\n",
    "errors = []\n",
    "\n",
    "\n",
    "# Set the learning rate\n",
    "learning_rate = 1e-2\n",
    "\n",
    "\n",
    "# Define the model's optimizer\n",
    "optimizer = torch.optim.Adagrad(model.parameters(), lr = learning_rate)\n",
    "\n",
    "\n",
    "# Train the neural network\n",
    "for t in range(10000):\n",
    "    \n",
    "    # Get the current predictions\n",
    "    y_pred = model(features_Variable)\n",
    "    \n",
    "    # Compute and append current summed errors\n",
    "    loss = loss_fn(y_pred, outcomes_Variable)\n",
    "    errors.append(loss.data[0])\n",
    "    \n",
    "    # Zero the gradients before running the backward pass.\n",
    "    optimizer.zero_grad()\n",
    "    \n",
    "    # Backward pass: compute gradient of the loss with respect to all the learnable Variables\n",
    "    loss.backward()\n",
    "    \n",
    "    # Update the weights using Adagrad\n",
    "    optimizer.step()"
   ]
  },
  {
   "cell_type": "code",
   "execution_count": 98,
   "metadata": {
    "collapsed": false
   },
   "outputs": [
    {
     "data": {
      "text/plain": [
       "<matplotlib.collections.PathCollection at 0x7f1a569661d0>"
      ]
     },
     "execution_count": 98,
     "metadata": {},
     "output_type": "execute_result"
    },
    {
     "data": {
      "image/png": "[encoded data removed]",
      "text/plain": [
       "<matplotlib.figure.Figure at 0x7f1a56b33898>"
      ]
     },
     "metadata": {},
     "output_type": "display_data"
    }
   ],
   "source": [
    "# Plot summed error as a function of iteration\n",
    "plt.scatter(iterations, errors, c = \"black\", alpha = 0.25)"
   ]
  },
  {
   "cell_type": "code",
   "execution_count": 99,
   "metadata": {
    "collapsed": true
   },
   "outputs": [],
   "source": [
    "# Get rid of the 2nd dimension of 1 from the FloatTensor\n",
    "y_pred_resized = y_pred.resize(11959)\n",
    "\n",
    "\n",
    "# Make the FloatTensor into a numpy.array\n",
    "y_pred_array = y_pred_resized.data.numpy()\n",
    "\n",
    "\n",
    "# Make the numpy.array into a list\n",
    "y_pred_list = y_pred_array.tolist()"
   ]
  },
  {
   "cell_type": "code",
   "execution_count": 100,
   "metadata": {
    "collapsed": false
   },
   "outputs": [
    {
     "data": {
      "text/plain": [
       "[<matplotlib.lines.Line2D at 0x7f1a56987b00>]"
      ]
     },
     "execution_count": 100,
     "metadata": {},
     "output_type": "execute_result"
    },
    {
     "data": {
      "image/png": "[encoded data removed]",
      "text/plain": [
       "<matplotlib.figure.Figure at 0x7f1a56987978>"
      ]
     },
     "metadata": {},
     "output_type": "display_data"
    }
   ],
   "source": [
    "# Plot predictions versus training set outcomes\n",
    "plt.scatter(outcomes_list, y_pred_list, c = \"black\", alpha = 0.15)\n",
    "\n",
    "axes = plt.gca()\n",
    "\n",
    "axes.set_xlim([-2, 4])\n",
    "\n",
    "axes.set_ylim([-2, 4])\n",
    "\n",
    "plt.plot([-2, 4], [-2, 4], 'k-', lw=2)"
   ]
  },
  {
   "cell_type": "markdown",
   "metadata": {},
   "source": [
    "### Round 7.1: Validation Set Performance"
   ]
  },
  {
   "cell_type": "code",
   "execution_count": 101,
   "metadata": {
    "collapsed": false
   },
   "outputs": [
    {
     "data": {
      "text/plain": [
       "Variable containing:\n",
       " 3936.8083\n",
       "[torch.FloatTensor of size 1]"
      ]
     },
     "execution_count": 101,
     "metadata": {},
     "output_type": "execute_result"
    }
   ],
   "source": [
    "# Get the validation set predictions\n",
    "y_valid_pred = model(valid_predictors_Variable)\n",
    "\n",
    "\n",
    "# Print the loss\n",
    "loss_fn(y_valid_pred,\n",
    "        valid_outcomes_Variable)"
   ]
  },
  {
   "cell_type": "code",
   "execution_count": 102,
   "metadata": {
    "collapsed": true
   },
   "outputs": [],
   "source": [
    "# Get rid of the 2nd dimension of 1 from the FloatTensor\n",
    "y_valid_pred_resized = y_valid_pred.resize(3987)\n",
    "\n",
    "\n",
    "# Make the FloatTensor into a numpy.array\n",
    "y_valid_pred_array = y_valid_pred_resized.data.numpy()\n",
    "\n",
    "\n",
    "# Convert back to log scale\n",
    "y_valid_pred_array = y_valid_pred_array*5.407597 + 7.688844\n",
    "\n",
    "\n",
    "# Make the numpy.array into a list\n",
    "y_valid_pred_list = y_valid_pred_array.tolist()"
   ]
  },
  {
   "cell_type": "code",
   "execution_count": 103,
   "metadata": {
    "collapsed": false
   },
   "outputs": [
    {
     "data": {
      "text/plain": [
       "<matplotlib.text.Text at 0x7f1a56850f60>"
      ]
     },
     "execution_count": 103,
     "metadata": {},
     "output_type": "execute_result"
    },
    {
     "data": {
      "image/png": "[encoded data removed]",
      "text/plain": [
       "<matplotlib.figure.Figure at 0x7f1a56a34518>"
      ]
     },
     "metadata": {},
     "output_type": "display_data"
    }
   ],
   "source": [
    "# Plot new predictions versus new data outcomes\n",
    "plt.scatter(valid_outcomes_list, y_valid_pred_list, c = \"black\", alpha = 0.15)\n",
    "\n",
    "axes = plt.gca()\n",
    "\n",
    "axes.set_xlim([0, 24])\n",
    "\n",
    "axes.set_ylim([0, 24])\n",
    "\n",
    "axes.set_xticks([0, 4, 8, 12, 16, 20, 24])\n",
    "\n",
    "axes.set_yticks([0, 4, 8, 12, 16, 20, 24])\n",
    "\n",
    "plt.plot([0, 24], [0, 24], 'k-', lw = 2)\n",
    "\n",
    "axes.set_xlabel(\"Actual Outcome (Log-Transformed US Dollars)\")\n",
    "\n",
    "axes.set_ylabel(\"Model Prediction (Log-Transformed US Dollars)\")\n",
    "\n",
    "axes.set_title(\"Model Performance\")"
   ]
  },
  {
   "cell_type": "code",
   "execution_count": 104,
   "metadata": {
    "collapsed": false
   },
   "outputs": [
    {
     "data": {
      "text/plain": [
       "Parameter containing:\n",
       "\n",
       "Columns 0 to 9 \n",
       "-0.1179  0.0231 -0.0119  0.0474  0.0877 -0.0158  0.0327 -0.1469  0.0138 -0.0708\n",
       " 0.1362 -0.1265  0.0763 -0.0074 -0.1425 -0.0295  0.0067 -0.0282 -0.0188  0.1173\n",
       "-0.0360 -0.0616  0.0333  0.1731  0.0452 -0.1173  0.1519 -0.0507  0.0181 -0.0621\n",
       " 0.1296  0.1397 -0.1382 -0.1242  0.1571 -0.0860 -0.0014 -0.0652  0.0898  0.0692\n",
       " 0.0889 -0.0168  0.1170  0.0687 -0.0696 -0.0281 -0.0527  0.0254  0.1125 -0.0363\n",
       " 0.0225  0.1668  0.0721  0.0565  0.0062 -0.1177 -0.0462  0.1575 -0.1796  0.0873\n",
       " 0.1426 -0.0030 -0.0962 -0.0957 -0.0778 -0.0419 -0.0184  0.0871  0.0648 -0.0777\n",
       " 0.1437 -0.1462  0.1268 -0.1417 -0.0020  0.0470  0.0437 -0.1675 -0.0992  0.0586\n",
       " 0.1900 -0.1121 -0.1554 -0.0169 -0.1418 -0.0839  0.1700  0.1469 -0.1360 -0.1331\n",
       "-0.0940  0.1327 -0.1487  0.0971  0.1210 -0.1319  0.1388 -0.1034 -0.0989 -0.1331\n",
       " 0.1143  0.1130 -0.1539 -0.1450 -0.1056  0.1491  0.0582 -0.1024 -0.0338  0.1556\n",
       "-0.0058 -0.0742  0.0361  0.0569 -0.0901  0.0046 -0.1416  0.1182  0.1588 -0.1629\n",
       "-0.0533 -0.1710 -0.0543 -0.0931 -0.0763 -0.0370 -0.1203  0.1494  0.1084  0.1476\n",
       "-0.0756 -0.1361  0.0234 -0.0361  0.0562 -0.1588  0.1423 -0.0563 -0.1814  0.1029\n",
       "-0.1422 -0.1576  0.0506 -0.1751  0.0502  0.1014  0.0463 -0.0762  0.0626  0.0828\n",
       " 0.0786  0.0263 -0.1690  0.0961 -0.1026 -0.1413 -0.0698 -0.0438  0.1075 -0.0326\n",
       " 0.0280 -0.0928 -0.0943  0.0682  0.0080  0.0693  0.1039 -0.0488  0.1678 -0.1605\n",
       " 0.1567  0.0688 -0.1419  0.1167 -0.1095 -0.1303  0.1529 -0.1152 -0.1562 -0.1442\n",
       " 0.1220 -0.1485 -0.0815 -0.1665 -0.1106 -0.0403  0.1587  0.0493 -0.0013  0.1226\n",
       " 0.1023 -0.1558  0.0445 -0.0272  0.1117 -0.0689  0.1706 -0.0510 -0.1426 -0.0279\n",
       "-0.0586  0.0558 -0.1492  0.0609  0.1420 -0.1301  0.0944  0.0314 -0.1119 -0.0216\n",
       " 0.0764 -0.1705 -0.0217 -0.0690  0.1445 -0.0076  0.0471 -0.0325  0.0089  0.0878\n",
       "-0.0263 -0.1258  0.0841 -0.0853 -0.1246 -0.0031  0.0310  0.0363  0.0890 -0.1259\n",
       "\n",
       "Columns 10 to 19 \n",
       " 0.0290  0.1014  0.1210 -0.1140  0.1120  0.1108  0.1469 -0.0721 -0.1238 -0.1115\n",
       "-0.1103  0.0820 -0.1858 -0.0699  0.1159 -0.0603  0.0819  0.0515  0.0884  0.0396\n",
       "-0.0791  0.0235  0.1108  0.0310 -0.0555  0.1613  0.0877  0.0662  0.0299 -0.0882\n",
       " 0.0471 -0.0776 -0.0127 -0.0060 -0.0900 -0.0295 -0.0161 -0.1238 -0.0889 -0.0756\n",
       " 0.1123 -0.1277  0.1445 -0.1370  0.0879 -0.0358 -0.1505 -0.0977  0.0076  0.0705\n",
       " 0.1639 -0.1065 -0.1247 -0.1261  0.0326  0.0152 -0.1094 -0.0493 -0.1391  0.1676\n",
       "-0.1533  0.1475  0.0950 -0.1525 -0.1232 -0.1559 -0.0081  0.1352  0.1347 -0.1105\n",
       "-0.0635 -0.1337  0.1310 -0.1223  0.0062 -0.0669  0.0664  0.0582 -0.1289 -0.0187\n",
       "-0.0491  0.0466  0.1535 -0.0262  0.1132  0.0430 -0.0034 -0.0780  0.0925  0.1474\n",
       "-0.1286 -0.0768 -0.0686  0.0232 -0.0194  0.1154  0.1177  0.0251  0.0632 -0.0628\n",
       " 0.0325  0.0130  0.1679  0.1045  0.0470 -0.0107 -0.0465  0.1236 -0.0732  0.0479\n",
       "-0.0960  0.1467  0.0078 -0.0501  0.0445  0.0846  0.0153 -0.1044  0.0387 -0.0451\n",
       " 0.1347 -0.1027 -0.1207 -0.0519  0.1345  0.1688 -0.1326 -0.1408 -0.0144  0.0646\n",
       "-0.0569 -0.1348  0.1226 -0.0299 -0.0819 -0.0279 -0.0070 -0.0365 -0.1484 -0.1044\n",
       " 0.1136  0.0588 -0.0176 -0.1118  0.0761  0.0021  0.0187  0.0947 -0.1728 -0.0434\n",
       "-0.1399 -0.1161 -0.1144  0.1311  0.0336  0.0330 -0.0582  0.0934  0.0595  0.1017\n",
       " 0.1346 -0.0504 -0.1041 -0.1144  0.1002 -0.0901 -0.1144 -0.0567  0.1268  0.0222\n",
       " 0.0395 -0.0348  0.0925 -0.0343  0.1285 -0.0955  0.0894  0.0180 -0.0874 -0.1503\n",
       " 0.0129  0.0688  0.0182  0.1030 -0.1571 -0.0664  0.0642 -0.0894  0.1391 -0.1180\n",
       "-0.0344  0.1228  0.1224 -0.0610  0.0150 -0.1279  0.0514 -0.1274  0.1258 -0.0229\n",
       "-0.0069  0.0070  0.1580  0.0572 -0.0952  0.0903  0.0849 -0.1641  0.1526 -0.0276\n",
       " 0.0257  0.0883 -0.0813  0.1385 -0.0613 -0.0863  0.0165  0.1331 -0.0003  0.0209\n",
       "-0.1011 -0.0220  0.0743  0.0475 -0.0565 -0.1608  0.1346  0.1065 -0.1122  0.1022\n",
       "\n",
       "Columns 20 to 29 \n",
       "-0.0914 -0.1075 -0.0667 -0.0140  0.0261 -0.0467  0.1492 -0.1135 -0.1583 -0.0406\n",
       "-0.1132 -0.1329 -0.1718  0.1608 -0.0141  0.0183 -0.0183  0.0197 -0.0168 -0.0862\n",
       " 0.1389 -0.0077 -0.0989  0.0941 -0.0083 -0.0022 -0.1078 -0.0616 -0.0035  0.1747\n",
       " 0.1599  0.0184 -0.0402  0.0529  0.0845 -0.0280 -0.0803  0.0523 -0.1453 -0.1224\n",
       " 0.0945 -0.1387  0.0395 -0.0687 -0.1366  0.0983  0.0130 -0.0506  0.0599  0.1708\n",
       " 0.1590  0.1159  0.0408 -0.1203  0.0677  0.0499  0.1348  0.1114 -0.0246  0.1873\n",
       "-0.0653  0.0791 -0.1301 -0.1371 -0.0318  0.1655 -0.1505 -0.0853 -0.0054 -0.1206\n",
       " 0.1700  0.1390  0.0515  0.1108 -0.0389 -0.0685  0.1044 -0.0288  0.0156 -0.0644\n",
       "-0.1637  0.0800  0.1053 -0.0735  0.0691  0.0408  0.0437  0.1610  0.1168  0.0023\n",
       " 0.1416 -0.1295  0.0444 -0.1539 -0.0568  0.0065  0.0875 -0.0804  0.0829 -0.0725\n",
       "-0.1139 -0.0859 -0.1224 -0.0676 -0.0901 -0.0520  0.0088 -0.1411 -0.1393 -0.0917\n",
       "-0.1523 -0.0095 -0.0663  0.0414 -0.0784 -0.0605  0.1610  0.0693  0.0715  0.1428\n",
       " 0.1718  0.0134 -0.0312 -0.0401  0.0469 -0.0846  0.0512 -0.1117 -0.0374 -0.0813\n",
       "-0.0823  0.0782  0.1093 -0.0942  0.1689  0.1493  0.0539 -0.0767  0.1588  0.1587\n",
       " 0.1424  0.0492  0.0843  0.0303  0.1588 -0.0199  0.1312 -0.0063  0.0447  0.0289\n",
       "-0.0498 -0.1426 -0.1538  0.1308 -0.1637  0.0357  0.0168  0.0083  0.0767  0.0417\n",
       " 0.1712  0.1283 -0.0300  0.1680  0.0457 -0.1340  0.0502 -0.1148 -0.1660 -0.1476\n",
       "-0.1429 -0.0727 -0.0437  0.0677 -0.1323  0.0384  0.0937  0.0473  0.0689  0.0170\n",
       " 0.0258  0.1286 -0.0518 -0.0183 -0.0203  0.1230 -0.0693  0.1108  0.0350  0.1141\n",
       " 0.1466  0.1337 -0.1333  0.1400  0.0421  0.1639  0.1062  0.0695 -0.0831 -0.1040\n",
       "-0.0334 -0.1305  0.0723  0.0735 -0.0417 -0.0345  0.0357 -0.1463  0.1175 -0.0392\n",
       "-0.1248  0.0344 -0.0515  0.1264  0.1025  0.0708 -0.0347  0.0966  0.1663 -0.0467\n",
       " 0.0593 -0.0328 -0.0798 -0.1618  0.1031 -0.1241  0.0549  0.0541 -0.0617 -0.1295\n",
       "\n",
       "Columns 30 to 33 \n",
       " 0.1424 -0.0068 -0.0448 -0.0474\n",
       " 0.1199 -0.0644 -0.1559  0.0439\n",
       "-0.0039  0.0131  0.0727 -0.1538\n",
       "-0.1596  0.0564  0.1068 -0.0672\n",
       "-0.0288  0.0204 -0.0068  0.0719\n",
       "-0.0439 -0.0447 -0.1671  0.0451\n",
       "-0.0347  0.1235  0.0147  0.1011\n",
       "-0.1506 -0.0594 -0.0721 -0.1308\n",
       "-0.0240  0.0250 -0.1056  0.0177\n",
       "-0.0593 -0.0323  0.0395 -0.0290\n",
       " 0.0563  0.1636 -0.0846  0.1171\n",
       " 0.0735  0.0942 -0.1036 -0.0560\n",
       "-0.0875  0.1106 -0.0593 -0.0572\n",
       " 0.1637  0.0210  0.1057 -0.1076\n",
       "-0.0488  0.1390  0.1559 -0.0343\n",
       " 0.0769 -0.0168  0.1374  0.1269\n",
       " 0.0916 -0.0400  0.1747  0.0823\n",
       "-0.0488 -0.1205  0.0410  0.0004\n",
       " 0.1348  0.0773 -0.0420  0.1264\n",
       " 0.1425 -0.0353 -0.1258 -0.0684\n",
       "-0.0469 -0.1380  0.0690 -0.0261\n",
       " 0.0603  0.1253 -0.1016 -0.0721\n",
       "-0.0843 -0.1231  0.0966 -0.1336\n",
       "[torch.FloatTensor of size 23x34]"
      ]
     },
     "execution_count": 104,
     "metadata": {},
     "output_type": "execute_result"
    }
   ],
   "source": [
    "model[(0)].weight"
   ]
  },
  {
   "cell_type": "code",
   "execution_count": 105,
   "metadata": {
    "collapsed": false
   },
   "outputs": [
    {
     "data": {
      "text/plain": [
       "Parameter containing:\n",
       "\n",
       "Columns 0 to 9 \n",
       " 0.0525 -0.0766 -0.0118  0.0918  0.0491  0.0993  0.0977 -0.0617 -0.1871 -0.0429\n",
       " 0.1146 -0.0678  0.0385  0.0958 -0.1876  0.0438  0.1397  0.1129  0.1491  0.0907\n",
       "-0.1147  0.1799  0.0045 -0.1297  0.1112  0.0837 -0.0380  0.1541  0.0293 -0.0032\n",
       " 0.1484  0.0292  0.0657 -0.0648  0.0549  0.0293 -0.1108 -0.0159  0.0748  0.1838\n",
       "-0.1623 -0.0653 -0.1896 -0.1934 -0.0815 -0.0195 -0.0214  0.0630  0.1435  0.1322\n",
       "-0.0066  0.1710 -0.1586  0.0096  0.0621  0.1311 -0.0920  0.1122 -0.0821  0.0945\n",
       "-0.1132  0.1905 -0.0405 -0.1840 -0.1866  0.0542 -0.0994  0.0036 -0.1733  0.1355\n",
       "-0.1213  0.0539 -0.0416 -0.0060  0.1430  0.1117  0.1824  0.1056  0.0049  0.0067\n",
       " 0.0228  0.1007 -0.0581  0.1681  0.1134 -0.0161 -0.0699  0.1045 -0.0496  0.0693\n",
       " 0.1553  0.0863  0.0504  0.1049 -0.0910 -0.0476 -0.1587 -0.1486  0.1389  0.0778\n",
       "-0.1449 -0.0635  0.2081 -0.1783 -0.0127 -0.0295  0.0181  0.1305  0.0627 -0.0243\n",
       "-0.1926 -0.1383 -0.1009 -0.2020  0.1372  0.1665  0.0592  0.0614  0.0424 -0.1836\n",
       "-0.1279 -0.1457  0.0352  0.0645 -0.0899 -0.0613  0.0826  0.1452  0.0425  0.1250\n",
       " 0.1359 -0.0568 -0.0129 -0.0718  0.0638  0.1457  0.1513 -0.0381 -0.1188 -0.1387\n",
       "-0.2045  0.0793  0.0797  0.0552  0.1911 -0.0799 -0.0338 -0.1024  0.1311 -0.0257\n",
       "\n",
       "Columns 10 to 19 \n",
       " 0.0178  0.0156  0.1783 -0.1280 -0.0657 -0.0533  0.0747  0.1139  0.0448  0.0298\n",
       "-0.1351 -0.0735  0.0826  0.1427  0.0857 -0.1290  0.2124 -0.1244  0.1358  0.0891\n",
       " 0.1676 -0.0828  0.0483 -0.1312  0.1735  0.1330  0.0952 -0.1056  0.1212  0.0789\n",
       "-0.0732  0.0579  0.1487 -0.1184 -0.1252 -0.1173  0.1196  0.0051 -0.1984 -0.0096\n",
       " 0.1602  0.0747 -0.2004  0.0990 -0.1664  0.0065  0.0511 -0.1393 -0.0147  0.0992\n",
       "-0.1802  0.0308  0.0336 -0.0870  0.0950  0.0748 -0.0743 -0.1494 -0.0665  0.1401\n",
       "-0.1664  0.0660 -0.1156  0.0437  0.0714 -0.0313  0.0428 -0.1029 -0.0091 -0.1728\n",
       "-0.1937  0.0702  0.0952  0.2096 -0.1764  0.0195 -0.1025 -0.0177  0.1245 -0.1233\n",
       "-0.0434 -0.0916  0.1304 -0.0966  0.1921  0.1611  0.1561  0.1816  0.1328 -0.0711\n",
       "-0.2045  0.1324 -0.1350 -0.2019  0.1520  0.1356 -0.1088  0.0431  0.0691  0.1816\n",
       "-0.0422  0.1916 -0.1350  0.0565  0.2107  0.0561  0.1498  0.0219 -0.1191  0.0158\n",
       " 0.1797 -0.1611  0.1027 -0.0999 -0.1633 -0.1985  0.0322 -0.0627 -0.1233  0.0005\n",
       " 0.2007 -0.0328  0.0506 -0.0696  0.0452  0.1143 -0.0099 -0.1449  0.1539 -0.1506\n",
       "-0.0572 -0.0322  0.1032  0.0500 -0.0710  0.0540 -0.0228 -0.2153 -0.1872  0.1904\n",
       " 0.0033 -0.1675  0.1802  0.1110 -0.1481 -0.0718  0.0649  0.0253  0.1163  0.0294\n",
       "\n",
       "Columns 20 to 22 \n",
       " 0.1828  0.0916 -0.1789\n",
       " 0.1667  0.0112 -0.1214\n",
       " 0.0481  0.0735  0.0159\n",
       "-0.0727  0.1212 -0.0084\n",
       " 0.0557  0.1974  0.0368\n",
       "-0.0090  0.0658  0.0976\n",
       "-0.0265  0.1148  0.1506\n",
       "-0.0237 -0.0698 -0.1862\n",
       "-0.1720 -0.1700 -0.1266\n",
       "-0.1955 -0.1575  0.1895\n",
       "-0.0422  0.0183 -0.1180\n",
       "-0.1822 -0.1725  0.0353\n",
       "-0.1594 -0.0572  0.1261\n",
       "-0.1644  0.0488  0.1502\n",
       "-0.0793 -0.1714 -0.1465\n",
       "[torch.FloatTensor of size 15x23]"
      ]
     },
     "execution_count": 105,
     "metadata": {},
     "output_type": "execute_result"
    }
   ],
   "source": [
    "model[(2)].weight"
   ]
  },
  {
   "cell_type": "code",
   "execution_count": 106,
   "metadata": {
    "collapsed": false
   },
   "outputs": [
    {
     "data": {
      "text/plain": [
       "Parameter containing:\n",
       "\n",
       "Columns 0 to 9 \n",
       " 0.1296 -0.0558  0.1941 -0.1914 -0.2605  0.2422 -0.1408 -0.0760 -0.1286 -0.2341\n",
       " 0.1992 -0.1508 -0.1558  0.2247 -0.0763 -0.1582 -0.2136 -0.2566  0.2008 -0.0657\n",
       "-0.0183 -0.1024  0.1356  0.1597 -0.0341 -0.2438 -0.0074  0.0674  0.0319  0.1178\n",
       " 0.1298 -0.2087  0.1682 -0.0315  0.1679  0.1560  0.1337  0.1622  0.0589 -0.0389\n",
       "-0.1279 -0.0877 -0.0293  0.0932  0.1717  0.2421  0.1721 -0.0217 -0.1185  0.1062\n",
       " 0.2509  0.2304  0.2291  0.1270  0.0425  0.0942 -0.0612 -0.0942 -0.0640 -0.1404\n",
       "-0.0923 -0.1815  0.2267 -0.0849  0.0762 -0.1367  0.2426  0.2104  0.0464  0.1789\n",
       "-0.0412 -0.2112  0.0424  0.0618  0.1050  0.2156  0.0323 -0.1023  0.1552 -0.0248\n",
       "-0.0965  0.1495  0.2189  0.0071  0.1083  0.0610 -0.0733  0.0630  0.2074  0.0106\n",
       " 0.0193  0.1334  0.2578 -0.0099  0.0193  0.0571 -0.0719  0.0193  0.1939 -0.1778\n",
       "\n",
       "Columns 10 to 14 \n",
       "-0.0526 -0.1186 -0.0388  0.2096  0.0398\n",
       "-0.0480  0.0859 -0.0840 -0.0946  0.1249\n",
       " 0.1210  0.1314 -0.1963  0.0659 -0.2042\n",
       "-0.0630  0.0912 -0.0941 -0.1746  0.0213\n",
       "-0.0141 -0.1296  0.1653  0.1885 -0.1147\n",
       "-0.1158  0.1264 -0.0428  0.1094 -0.0053\n",
       "-0.0069 -0.1343 -0.2236 -0.0007 -0.0312\n",
       " 0.0775  0.0678  0.2016 -0.2434 -0.2363\n",
       "-0.0506  0.0831  0.0188  0.1369  0.1166\n",
       " 0.1407 -0.1787  0.0959 -0.0838 -0.1639\n",
       "[torch.FloatTensor of size 10x15]"
      ]
     },
     "execution_count": 106,
     "metadata": {},
     "output_type": "execute_result"
    }
   ],
   "source": [
    "model[(4)].weight"
   ]
  },
  {
   "cell_type": "code",
   "execution_count": 107,
   "metadata": {
    "collapsed": false
   },
   "outputs": [
    {
     "data": {
      "text/plain": [
       "Parameter containing:\n",
       " 0.2836  0.1807 -0.2320  0.1969 -0.0598 -0.1986 -0.0362 -0.0051 -0.0716 -0.2396\n",
       " 0.1411  0.1263  0.2274  0.2117 -0.3235  0.0406 -0.2560  0.1343  0.2100  0.1993\n",
       "-0.0869 -0.0476  0.0646 -0.0613  0.0954 -0.2905 -0.0964 -0.2003 -0.2023  0.2422\n",
       "-0.0873 -0.1047 -0.1784 -0.0624  0.2382 -0.1218  0.0541 -0.1385  0.0563 -0.2348\n",
       " 0.3026 -0.1410  0.1824 -0.1727 -0.2862 -0.0952 -0.0369  0.1250 -0.0470 -0.1315\n",
       " 0.2891  0.2152  0.1301 -0.2687 -0.2522 -0.0737 -0.1362 -0.0483  0.1672 -0.2456\n",
       " 0.2669 -0.0846 -0.2895  0.1775 -0.0555  0.1338  0.3053  0.2583 -0.2324  0.1832\n",
       "[torch.FloatTensor of size 7x10]"
      ]
     },
     "execution_count": 107,
     "metadata": {},
     "output_type": "execute_result"
    }
   ],
   "source": [
    "model[(6)].weight"
   ]
  },
  {
   "cell_type": "code",
   "execution_count": 108,
   "metadata": {
    "collapsed": false
   },
   "outputs": [
    {
     "data": {
      "text/plain": [
       "Parameter containing:\n",
       "-0.3415  0.0575  0.1502 -0.2599 -0.0060  0.2474  0.0177\n",
       "-0.1929  0.2842 -0.2438  0.0906  0.2180 -0.3015 -0.1496\n",
       " 0.0998  0.1235  0.0004 -0.1857 -0.3732 -0.1075  0.1044\n",
       " 0.3218  0.2073  0.0776  0.3093  0.1234 -0.2888 -0.0163\n",
       "-0.3420 -0.1059  0.3503 -0.2614  0.1401  0.1417  0.3085\n",
       "[torch.FloatTensor of size 5x7]"
      ]
     },
     "execution_count": 108,
     "metadata": {},
     "output_type": "execute_result"
    }
   ],
   "source": [
    "model[(8)].weight"
   ]
  },
  {
   "cell_type": "code",
   "execution_count": 109,
   "metadata": {
    "collapsed": false
   },
   "outputs": [
    {
     "data": {
      "text/plain": [
       "Parameter containing:\n",
       "-0.2943  0.4021  0.1165  0.2650  0.0329\n",
       "-0.2900  0.0296 -0.2683 -0.0839 -0.3937\n",
       " 0.3787 -0.0622 -0.3532 -0.0431  0.1142\n",
       "[torch.FloatTensor of size 3x5]"
      ]
     },
     "execution_count": 109,
     "metadata": {},
     "output_type": "execute_result"
    }
   ],
   "source": [
    "model[(10)].weight"
   ]
  },
  {
   "cell_type": "code",
   "execution_count": 110,
   "metadata": {
    "collapsed": false
   },
   "outputs": [
    {
     "data": {
      "text/plain": [
       "Parameter containing:\n",
       " 0.0657  0.4788 -0.2188\n",
       " 0.5407 -0.3857  0.4129\n",
       "[torch.FloatTensor of size 2x3]"
      ]
     },
     "execution_count": 110,
     "metadata": {},
     "output_type": "execute_result"
    }
   ],
   "source": [
    "model[(12)].weight"
   ]
  },
  {
   "cell_type": "code",
   "execution_count": 111,
   "metadata": {
    "collapsed": false
   },
   "outputs": [
    {
     "data": {
      "text/plain": [
       "Parameter containing:\n",
       " 0.4322  0.5892\n",
       "[torch.FloatTensor of size 1x2]"
      ]
     },
     "execution_count": 111,
     "metadata": {},
     "output_type": "execute_result"
    }
   ],
   "source": [
    "model[(14)].weight"
   ]
  },
  {
   "cell_type": "markdown",
   "metadata": {},
   "source": [
    "## Round 8: Linear Regression"
   ]
  },
  {
   "cell_type": "code",
   "execution_count": 112,
   "metadata": {
    "collapsed": true
   },
   "outputs": [],
   "source": [
    "# Make the torch Tensor into a PyTorch Variable for dependent variables\n",
    "outcomes_Variable = Variable(outcomes_Tensor)\n",
    "\n",
    "\n",
    "# ...for independent variables\n",
    "features_Variable = Variable(features_Tensor,\n",
    "                             requires_grad = False)"
   ]
  },
  {
   "cell_type": "code",
   "execution_count": 113,
   "metadata": {
    "collapsed": true
   },
   "outputs": [],
   "source": [
    "# Make the neural network - really a regression\n",
    "model = torch.nn.Sequential(torch.nn.Linear(34, 1))"
   ]
  },
  {
   "cell_type": "code",
   "execution_count": 114,
   "metadata": {
    "collapsed": false
   },
   "outputs": [],
   "source": [
    "# To add errors to\n",
    "errors = []\n",
    "\n",
    "\n",
    "# Set the learning rate\n",
    "learning_rate = 1e-2\n",
    "\n",
    "\n",
    "# Define the model's optimizer\n",
    "optimizer = torch.optim.Adagrad(model.parameters(), lr = learning_rate)\n",
    "\n",
    "\n",
    "# Train the neural network\n",
    "for t in range(10000):\n",
    "    \n",
    "    # Get the current predictions\n",
    "    y_pred = model(features_Variable)\n",
    "    \n",
    "    # Compute and append current summed errors\n",
    "    loss = loss_fn(y_pred, outcomes_Variable)\n",
    "    errors.append(loss.data[0])\n",
    "    \n",
    "    # Zero the gradients before running the backward pass.\n",
    "    optimizer.zero_grad()\n",
    "    \n",
    "    # Backward pass: compute gradient of the loss with respect to all the learnable Variables\n",
    "    loss.backward()\n",
    "    \n",
    "    # Update the weights using Adagrad\n",
    "    optimizer.step()"
   ]
  },
  {
   "cell_type": "code",
   "execution_count": 115,
   "metadata": {
    "collapsed": false
   },
   "outputs": [
    {
     "data": {
      "text/plain": [
       "<matplotlib.collections.PathCollection at 0x7f1a56781b00>"
      ]
     },
     "execution_count": 115,
     "metadata": {},
     "output_type": "execute_result"
    },
    {
     "data": {
      "image/png": "[encoded data removed]",
      "text/plain": [
       "<matplotlib.figure.Figure at 0x7f1a568f0e48>"
      ]
     },
     "metadata": {},
     "output_type": "display_data"
    }
   ],
   "source": [
    "# Plot summed error as a function of iteration\n",
    "plt.scatter(iterations, errors, c = \"black\", alpha = 0.25)"
   ]
  },
  {
   "cell_type": "code",
   "execution_count": 116,
   "metadata": {
    "collapsed": false
   },
   "outputs": [],
   "source": [
    "# Get rid of the 2nd dimension of 1 from the FloatTensor\n",
    "y_pred_resized = y_pred.resize(11959)\n",
    "\n",
    "\n",
    "# Make the FloatTensor into a numpy.array\n",
    "y_pred_array = y_pred_resized.data.numpy()\n",
    "\n",
    "\n",
    "# Make the numpy.array into a list\n",
    "y_pred_list = y_pred_array.tolist()"
   ]
  },
  {
   "cell_type": "code",
   "execution_count": 117,
   "metadata": {
    "collapsed": false
   },
   "outputs": [
    {
     "data": {
      "text/plain": [
       "[<matplotlib.lines.Line2D at 0x7f1a567c2160>]"
      ]
     },
     "execution_count": 117,
     "metadata": {},
     "output_type": "execute_result"
    },
    {
     "data": {
      "image/png": "[encoded data removed]",
      "text/plain": [
       "<matplotlib.figure.Figure at 0x7f1a567c2080>"
      ]
     },
     "metadata": {},
     "output_type": "display_data"
    }
   ],
   "source": [
    "# Plot predictions versus training set outcomes\n",
    "plt.scatter(outcomes_list, y_pred_list, c = \"black\", alpha = 0.15)\n",
    "\n",
    "axes = plt.gca()\n",
    "\n",
    "axes.set_xlim([-2, 4])\n",
    "\n",
    "axes.set_ylim([-2, 4])\n",
    "\n",
    "plt.plot([-2, 4], [-2, 4], 'k-', lw=2)"
   ]
  },
  {
   "cell_type": "markdown",
   "metadata": {
    "collapsed": false
   },
   "source": [
    "### Round 8.1: Validation Set Performance"
   ]
  },
  {
   "cell_type": "code",
   "execution_count": 118,
   "metadata": {
    "collapsed": false
   },
   "outputs": [
    {
     "data": {
      "text/plain": [
       "Variable containing:\n",
       " 2372.3438\n",
       "[torch.FloatTensor of size 1]"
      ]
     },
     "execution_count": 118,
     "metadata": {},
     "output_type": "execute_result"
    }
   ],
   "source": [
    "# Get the validation set predictions\n",
    "y_valid_pred = model(valid_predictors_Variable)\n",
    "\n",
    "\n",
    "# Print the loss\n",
    "loss_fn(y_valid_pred,\n",
    "        valid_outcomes_Variable)"
   ]
  },
  {
   "cell_type": "code",
   "execution_count": 119,
   "metadata": {
    "collapsed": true
   },
   "outputs": [],
   "source": [
    "# Get rid of the 2nd dimension of 1 from the FloatTensor\n",
    "y_valid_pred_resized = y_valid_pred.resize(3987)\n",
    "\n",
    "\n",
    "# Make the FloatTensor into a numpy.array\n",
    "y_valid_pred_array = y_valid_pred_resized.data.numpy()\n",
    "\n",
    "\n",
    "# Convert back to log scale\n",
    "y_valid_pred_array = y_valid_pred_array*5.407597 + 7.688844\n",
    "\n",
    "\n",
    "# Make the numpy.array into a list\n",
    "y_valid_pred_list = y_valid_pred_array.tolist()"
   ]
  },
  {
   "cell_type": "code",
   "execution_count": 120,
   "metadata": {
    "collapsed": false
   },
   "outputs": [
    {
     "data": {
      "text/plain": [
       "<matplotlib.text.Text at 0x7f1a5684ce10>"
      ]
     },
     "execution_count": 120,
     "metadata": {},
     "output_type": "execute_result"
    },
    {
     "data": {
      "image/png": "[encoded data removed]",
      "text/plain": [
       "<matplotlib.figure.Figure at 0x7f1a568a5668>"
      ]
     },
     "metadata": {},
     "output_type": "display_data"
    }
   ],
   "source": [
    "# Plot new predictions versus new data outcomes\n",
    "plt.scatter(valid_outcomes_list, y_valid_pred_list, c = \"black\", alpha = 0.15)\n",
    "\n",
    "axes = plt.gca()\n",
    "\n",
    "axes.set_xlim([0, 24])\n",
    "\n",
    "axes.set_ylim([0, 24])\n",
    "\n",
    "axes.set_xticks([0, 4, 8, 12, 16, 20, 24])\n",
    "\n",
    "axes.set_yticks([0, 4, 8, 12, 16, 20, 24])\n",
    "\n",
    "plt.plot([0, 24], [0, 24], 'k-', lw = 2)\n",
    "\n",
    "axes.set_xlabel(\"Actual Outcome (Log-Transformed US Dollars)\")\n",
    "\n",
    "axes.set_ylabel(\"Model Prediction (Log-Transformed US Dollars)\")\n",
    "\n",
    "axes.set_title(\"Model Performance\")"
   ]
  },
  {
   "cell_type": "code",
   "execution_count": 121,
   "metadata": {
    "collapsed": false
   },
   "outputs": [
    {
     "data": {
      "text/plain": [
       "Parameter containing:\n",
       "\n",
       "Columns 0 to 9 \n",
       " 0.0355 -0.0268  0.0888  0.1498  0.1959 -0.2061  0.0323 -0.0160 -0.0370 -0.0040\n",
       "\n",
       "Columns 10 to 19 \n",
       "-0.0510  0.0570  0.0033 -0.0072  0.0649 -0.0190 -0.0153 -0.0457  0.0512  0.0203\n",
       "\n",
       "Columns 20 to 29 \n",
       " 0.0076  0.0261 -0.0532  0.0217  0.0533  0.0357  0.1723  0.0622  0.0240  0.1200\n",
       "\n",
       "Columns 30 to 33 \n",
       "-0.0311  0.0160  0.0755  0.0239\n",
       "[torch.FloatTensor of size 1x34]"
      ]
     },
     "execution_count": 121,
     "metadata": {},
     "output_type": "execute_result"
    }
   ],
   "source": [
    "model[(0)].weight"
   ]
  }
 ],
 "metadata": {
  "kernelspec": {
   "display_name": "Python 3",
   "language": "python",
   "name": "python3"
  },
  "language_info": {
   "codemirror_mode": {
    "name": "ipython",
    "version": 3
   },
   "file_extension": ".py",
   "mimetype": "text/x-python",
   "name": "python",
   "nbconvert_exporter": "python",
   "pygments_lexer": "ipython3",
   "version": "3.6.0"
  }
 },
 "nbformat": 4,
 "nbformat_minor": 2
}
