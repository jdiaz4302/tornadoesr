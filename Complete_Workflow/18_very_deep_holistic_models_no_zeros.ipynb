{
 "cells": [
  {
   "cell_type": "markdown",
   "metadata": {},
   "source": [
    "## Setup"
   ]
  },
  {
   "cell_type": "code",
   "execution_count": 1,
   "metadata": {
    "collapsed": true
   },
   "outputs": [],
   "source": [
    "# Packages\n",
    "import pandas as pd\n",
    "import torch\n",
    "from torch.autograd import Variable\n",
    "import numpy as np\n",
    "import matplotlib.pyplot as plt\n",
    "%matplotlib inline\n",
    "import pylab\n",
    "import math"
   ]
  },
  {
   "cell_type": "code",
   "execution_count": 2,
   "metadata": {
    "collapsed": false
   },
   "outputs": [
    {
     "name": "stdout",
     "output_type": "stream",
     "text": [
      "<class 'pandas.core.frame.DataFrame'>\n",
      "RangeIndex: 8308 entries, 0 to 8307\n",
      "Data columns (total 35 columns):\n",
      "DAMAGE_PROPERTY       8308 non-null float64\n",
      "DURATION_SECONDS      8308 non-null float64\n",
      "BEGIN_LAT             8308 non-null float64\n",
      "BEGIN_LON             8308 non-null float64\n",
      "TOR_LENGTH            8308 non-null float64\n",
      "TOR_WIDTH             8308 non-null float64\n",
      "YEAR                  8308 non-null float64\n",
      "MULTI_VORT_IND        8308 non-null int64\n",
      "OPEN_WATER_PROP       8308 non-null float64\n",
      "DEV_OPEN_PROP         8308 non-null float64\n",
      "DEV_LOW_PROP          8308 non-null float64\n",
      "DEV_MED_PROP          8308 non-null float64\n",
      "DEV_HIGH_PROP         8308 non-null float64\n",
      "BARREN_LAND_PROP      8308 non-null float64\n",
      "DECID_FOREST_PROP     8308 non-null float64\n",
      "EVERGR_FOREST_PROP    8308 non-null float64\n",
      "MIXED_FOREST_PROP     8308 non-null float64\n",
      "SHRUB_SCRUB_PROP      8308 non-null float64\n",
      "GRASS_LAND_PROP       8308 non-null float64\n",
      "PASTURE_HAY_PROP      8308 non-null float64\n",
      "CULT_CROPS_PROP       8308 non-null float64\n",
      "WOOD_WETLAND_PROP     8308 non-null float64\n",
      "HERB_WETLAND_PROP     8308 non-null float64\n",
      "INCOME                8308 non-null float64\n",
      "MOB_HOME_DENS         8308 non-null float64\n",
      "POP_DENS              8308 non-null float64\n",
      "TOR_AREA              8308 non-null float64\n",
      "TOT_DEV_INT           8308 non-null float64\n",
      "TOT_WOOD_AREA         8308 non-null float64\n",
      "WOOD_DEV_INT          8308 non-null float64\n",
      "EXP_INC_AREA          8308 non-null float64\n",
      "DAY_OF_YEAR           8308 non-null float64\n",
      "MONTH                 8308 non-null float64\n",
      "STATE_RANK            8308 non-null float64\n",
      "TIME                  8308 non-null float64\n",
      "dtypes: float64(34), int64(1)\n",
      "memory usage: 2.2 MB\n"
     ]
    }
   ],
   "source": [
    "# Import data\n",
    "tor_df = pd.read_csv(\"/home/jeremy/github_tornadoesr/data/raw/tor_train_set_no_zeros.csv\")\n",
    "\n",
    "\n",
    "# Quick inspection\n",
    "tor_df.info()"
   ]
  },
  {
   "cell_type": "code",
   "execution_count": 3,
   "metadata": {
    "collapsed": false
   },
   "outputs": [
    {
     "name": "stdout",
     "output_type": "stream",
     "text": [
      "<class 'pandas.core.frame.DataFrame'>\n",
      "RangeIndex: 8308 entries, 0 to 8307\n",
      "Data columns (total 1 columns):\n",
      "DAMAGE_PROPERTY    8308 non-null float64\n",
      "dtypes: float64(1)\n",
      "memory usage: 65.0 KB\n"
     ]
    }
   ],
   "source": [
    "# Seperating variables\n",
    "# The dependent variables\n",
    "tornado_outcomes = tor_df.iloc[:, [0]]\n",
    "\n",
    "\n",
    "# Quick inspection\n",
    "tornado_outcomes.info()"
   ]
  },
  {
   "cell_type": "code",
   "execution_count": 4,
   "metadata": {
    "collapsed": false
   },
   "outputs": [
    {
     "name": "stdout",
     "output_type": "stream",
     "text": [
      "<class 'pandas.core.frame.DataFrame'>\n",
      "RangeIndex: 8308 entries, 0 to 8307\n",
      "Data columns (total 34 columns):\n",
      "DURATION_SECONDS      8308 non-null float64\n",
      "BEGIN_LAT             8308 non-null float64\n",
      "BEGIN_LON             8308 non-null float64\n",
      "TOR_LENGTH            8308 non-null float64\n",
      "TOR_WIDTH             8308 non-null float64\n",
      "YEAR                  8308 non-null float64\n",
      "MULTI_VORT_IND        8308 non-null int64\n",
      "OPEN_WATER_PROP       8308 non-null float64\n",
      "DEV_OPEN_PROP         8308 non-null float64\n",
      "DEV_LOW_PROP          8308 non-null float64\n",
      "DEV_MED_PROP          8308 non-null float64\n",
      "DEV_HIGH_PROP         8308 non-null float64\n",
      "BARREN_LAND_PROP      8308 non-null float64\n",
      "DECID_FOREST_PROP     8308 non-null float64\n",
      "EVERGR_FOREST_PROP    8308 non-null float64\n",
      "MIXED_FOREST_PROP     8308 non-null float64\n",
      "SHRUB_SCRUB_PROP      8308 non-null float64\n",
      "GRASS_LAND_PROP       8308 non-null float64\n",
      "PASTURE_HAY_PROP      8308 non-null float64\n",
      "CULT_CROPS_PROP       8308 non-null float64\n",
      "WOOD_WETLAND_PROP     8308 non-null float64\n",
      "HERB_WETLAND_PROP     8308 non-null float64\n",
      "INCOME                8308 non-null float64\n",
      "MOB_HOME_DENS         8308 non-null float64\n",
      "POP_DENS              8308 non-null float64\n",
      "TOR_AREA              8308 non-null float64\n",
      "TOT_DEV_INT           8308 non-null float64\n",
      "TOT_WOOD_AREA         8308 non-null float64\n",
      "WOOD_DEV_INT          8308 non-null float64\n",
      "EXP_INC_AREA          8308 non-null float64\n",
      "DAY_OF_YEAR           8308 non-null float64\n",
      "MONTH                 8308 non-null float64\n",
      "STATE_RANK            8308 non-null float64\n",
      "TIME                  8308 non-null float64\n",
      "dtypes: float64(33), int64(1)\n",
      "memory usage: 2.2 MB\n"
     ]
    }
   ],
   "source": [
    "# The independent variables\n",
    "tornado_features = tor_df.iloc[:, 1:]\n",
    "\n",
    "\n",
    "# Quick inspection\n",
    "tornado_features.info()"
   ]
  },
  {
   "cell_type": "code",
   "execution_count": 5,
   "metadata": {
    "collapsed": false
   },
   "outputs": [
    {
     "data": {
      "text/plain": [
       "\n",
       " 0.1532\n",
       " 0.6540\n",
       " 0.0873\n",
       "   ⋮    \n",
       " 0.5790\n",
       " 0.1532\n",
       " 0.2814\n",
       "[torch.DoubleTensor of size 8308x1]"
      ]
     },
     "execution_count": 5,
     "metadata": {},
     "output_type": "execute_result"
    }
   ],
   "source": [
    "# Make the dependent variables into a numpy array\n",
    "outcomes_array = tornado_outcomes.values\n",
    "\n",
    "\n",
    "# Makes the numpy array into a torch Tensor\n",
    "outcomes_Tensor = torch.from_numpy(outcomes_array)\n",
    "\n",
    "\n",
    "# Quick inspection\n",
    "outcomes_Tensor"
   ]
  },
  {
   "cell_type": "code",
   "execution_count": 6,
   "metadata": {
    "collapsed": false
   },
   "outputs": [
    {
     "data": {
      "text/plain": [
       "\n",
       " 0.0227 -1.6434 -0.4323  ...  -0.2947 -0.8098 -0.4531\n",
       "-0.3046  0.2063  0.5545  ...  -0.2947  0.5157  1.1092\n",
       " 0.3520 -0.3313 -0.8991  ...  -1.0297 -1.1142 -0.1038\n",
       "          ...             ⋱             ...          \n",
       " 0.5451 -0.2386  0.6373  ...  -1.0297  0.1597 -1.5301\n",
       " 0.0227 -1.2487  0.6113  ...   0.8078  0.2605 -2.1918\n",
       " 0.4583 -0.4701 -0.0348  ...  -1.7647 -0.3808  0.5064\n",
       "[torch.DoubleTensor of size 8308x34]"
      ]
     },
     "execution_count": 6,
     "metadata": {},
     "output_type": "execute_result"
    }
   ],
   "source": [
    "# Make the independent variables into a numpy array\n",
    "features_array = tornado_features.values\n",
    "\n",
    "\n",
    "# Make the numpy array into a torch Tensor\n",
    "features_Tensor = torch.from_numpy(features_array)\n",
    "\n",
    "\n",
    "# Quick inspection\n",
    "features_Tensor"
   ]
  },
  {
   "cell_type": "markdown",
   "metadata": {},
   "source": [
    "### Convert DoubleTensor to FloatTensor"
   ]
  },
  {
   "cell_type": "code",
   "execution_count": 7,
   "metadata": {
    "collapsed": false
   },
   "outputs": [
    {
     "data": {
      "text/plain": [
       "\n",
       " 0.0227 -1.6434 -0.4323  ...  -0.2947 -0.8098 -0.4531\n",
       "-0.3046  0.2063  0.5545  ...  -0.2947  0.5157  1.1092\n",
       " 0.3520 -0.3313 -0.8991  ...  -1.0297 -1.1142 -0.1038\n",
       "          ...             ⋱             ...          \n",
       " 0.5451 -0.2386  0.6373  ...  -1.0297  0.1597 -1.5301\n",
       " 0.0227 -1.2487  0.6113  ...   0.8078  0.2605 -2.1918\n",
       " 0.4583 -0.4701 -0.0348  ...  -1.7647 -0.3808  0.5064\n",
       "[torch.FloatTensor of size 8308x34]"
      ]
     },
     "execution_count": 7,
     "metadata": {},
     "output_type": "execute_result"
    }
   ],
   "source": [
    "# Changing dependent variables from a DoubleTensor to a FloatTensor\n",
    "outcomes_Tensor = outcomes_Tensor.float()\n",
    "\n",
    "\n",
    "# ...and for the independent variables\n",
    "features_Tensor = features_Tensor.float()\n",
    "\n",
    "\n",
    "# Quick check\n",
    "features_Tensor"
   ]
  },
  {
   "cell_type": "markdown",
   "metadata": {
    "collapsed": true
   },
   "source": [
    "## Forty Hidden Layers"
   ]
  },
  {
   "cell_type": "code",
   "execution_count": 8,
   "metadata": {
    "collapsed": false
   },
   "outputs": [],
   "source": [
    "# Make the torch Tensor into a PyTorch Variable for dependent variables\n",
    "outcomes_Variable = Variable(outcomes_Tensor)\n",
    "\n",
    "\n",
    "# ...for independent variables\n",
    "features_Variable = Variable(features_Tensor,\n",
    "                             requires_grad = False)"
   ]
  },
  {
   "cell_type": "code",
   "execution_count": 9,
   "metadata": {
    "collapsed": false
   },
   "outputs": [],
   "source": [
    "# Make the neural network\n",
    "model = torch.nn.Sequential(torch.nn.Linear(34, 34),     # Hidden Layer (HL) 1\n",
    "                            torch.nn.ReLU(),\n",
    "                            torch.nn.Linear(34, 34),    # HL 2\n",
    "                            torch.nn.ReLU(),\n",
    "                            torch.nn.Linear(34, 34),    # HL 3\n",
    "                            torch.nn.ReLU(),\n",
    "                            torch.nn.Linear(34, 34),    # HL 4\n",
    "                            torch.nn.ReLU(),\n",
    "                            torch.nn.Linear(34, 34),    # HL 5\n",
    "                            torch.nn.ReLU(),\n",
    "                            torch.nn.Linear(34, 34),    # HL 6\n",
    "                            torch.nn.ReLU(),\n",
    "                            torch.nn.Linear(34, 34),    # HL 7\n",
    "                            torch.nn.ReLU(),\n",
    "                            torch.nn.Linear(34, 34),    # HL 8\n",
    "                            torch.nn.ReLU(),\n",
    "                            torch.nn.Linear(34, 34),    # HL 9\n",
    "                            torch.nn.ReLU(),\n",
    "                            torch.nn.Linear(34, 34),    # HL 10\n",
    "                            torch.nn.ReLU(),\n",
    "                            torch.nn.Linear(34, 34),    # HL 11\n",
    "                            torch.nn.ReLU(),\n",
    "                            torch.nn.Linear(34, 34),    # HL 12\n",
    "                            torch.nn.ReLU(),\n",
    "                            torch.nn.Linear(34, 34),    # HL 13\n",
    "                            torch.nn.ReLU(),\n",
    "                            torch.nn.Linear(34, 34),    # HL 14\n",
    "                            torch.nn.ReLU(),\n",
    "                            torch.nn.Linear(34, 34),    # HL 15\n",
    "                            torch.nn.ReLU(),\n",
    "                            torch.nn.Linear(34, 34),    # HL 16\n",
    "                            torch.nn.ReLU(),\n",
    "                            torch.nn.Linear(34, 34),    # HL 17\n",
    "                            torch.nn.ReLU(),\n",
    "                            torch.nn.Linear(34, 34),    # HL 18\n",
    "                            torch.nn.ReLU(),\n",
    "                            torch.nn.Linear(34, 34),    # HL 19\n",
    "                            torch.nn.ReLU(),\n",
    "                            torch.nn.Linear(34, 34),    # HL 20\n",
    "                            torch.nn.ReLU(),\n",
    "                            torch.nn.Linear(34, 34),    # HL 21\n",
    "                            torch.nn.ReLU(),\n",
    "                            torch.nn.Linear(34, 34),    # HL 22\n",
    "                            torch.nn.ReLU(),\n",
    "                            torch.nn.Linear(34, 34),    # HL 23\n",
    "                            torch.nn.ReLU(),\n",
    "                            torch.nn.Linear(34, 34),    # HL 24\n",
    "                            torch.nn.ReLU(),\n",
    "                            torch.nn.Linear(34, 34),    # HL 25\n",
    "                            torch.nn.ReLU(),\n",
    "                            torch.nn.Linear(34, 34),    # HL 26\n",
    "                            torch.nn.ReLU(),\n",
    "                            torch.nn.Linear(34, 34),    # HL 27\n",
    "                            torch.nn.ReLU(),\n",
    "                            torch.nn.Linear(34, 34),    # HL 28\n",
    "                            torch.nn.ReLU(),\n",
    "                            torch.nn.Linear(34, 34),    # HL 29\n",
    "                            torch.nn.ReLU(),\n",
    "                            torch.nn.Linear(34, 34),    # HL 30\n",
    "                            torch.nn.ReLU(),\n",
    "                            torch.nn.Linear(34, 34),    # HL 31\n",
    "                            torch.nn.ReLU(),\n",
    "                            torch.nn.Linear(34, 34),    # HL 32\n",
    "                            torch.nn.ReLU(),\n",
    "                            torch.nn.Linear(34, 34),    # HL 33\n",
    "                            torch.nn.ReLU(),\n",
    "                            torch.nn.Linear(34, 34),    # HL 34\n",
    "                            torch.nn.ReLU(),\n",
    "                            torch.nn.Linear(34, 34),    # HL 35\n",
    "                            torch.nn.ReLU(),\n",
    "                            torch.nn.Linear(34, 34),    # HL 36\n",
    "                            torch.nn.ReLU(),\n",
    "                            torch.nn.Linear(34, 34),    # HL 37\n",
    "                            torch.nn.ReLU(),\n",
    "                            torch.nn.Linear(34, 34),    # HL 38\n",
    "                            torch.nn.ReLU(),\n",
    "                            torch.nn.Linear(34, 34),    # HL 39\n",
    "                            torch.nn.ReLU(),\n",
    "                            torch.nn.Linear(34, 34),    # HL 40\n",
    "                            torch.nn.ReLU(),\n",
    "                            torch.nn.Linear(34, 1))"
   ]
  },
  {
   "cell_type": "code",
   "execution_count": 10,
   "metadata": {
    "collapsed": true
   },
   "outputs": [],
   "source": [
    "# Set the loss function\n",
    "loss_fn = torch.nn.MSELoss(size_average=False)"
   ]
  },
  {
   "cell_type": "code",
   "execution_count": 11,
   "metadata": {
    "collapsed": false
   },
   "outputs": [],
   "source": [
    "# To add errors to\n",
    "errors = []\n",
    "\n",
    "\n",
    "# Set the learning rate\n",
    "learning_rate = 1e-3\n",
    "\n",
    "\n",
    "# Define the model's optimizer\n",
    "optimizer = torch.optim.Adagrad(model.parameters(), lr = learning_rate)\n",
    "\n",
    "\n",
    "# Train the neural network\n",
    "for t in range(15000):\n",
    "    \n",
    "    # Get the current predictions\n",
    "    y_pred = model(features_Variable)\n",
    "    \n",
    "    # Compute and append current summed errors\n",
    "    loss = loss_fn(y_pred, outcomes_Variable)\n",
    "    errors.append(loss.data[0])\n",
    "    \n",
    "    # Zero the gradients before running the backward pass.\n",
    "    optimizer.zero_grad()\n",
    "    \n",
    "    # Backward pass: compute gradient of the loss with respect to all the learnable Variables\n",
    "    loss.backward()\n",
    "    \n",
    "    # Update the weights using Adagrad\n",
    "    optimizer.step()"
   ]
  },
  {
   "cell_type": "code",
   "execution_count": 12,
   "metadata": {
    "collapsed": true
   },
   "outputs": [],
   "source": [
    "# Get the iterations\n",
    "iterations = list(range(0, 15000))"
   ]
  },
  {
   "cell_type": "code",
   "execution_count": 13,
   "metadata": {
    "collapsed": false
   },
   "outputs": [
    {
     "data": {
      "text/plain": [
       "<matplotlib.collections.PathCollection at 0x7fcea417c3c8>"
      ]
     },
     "execution_count": 13,
     "metadata": {},
     "output_type": "execute_result"
    },
    {
     "data": {
      "image/png": "[encoded data removed]",
      "text/plain": [
       "<matplotlib.figure.Figure at 0x7fce9c4e8780>"
      ]
     },
     "metadata": {},
     "output_type": "display_data"
    }
   ],
   "source": [
    "# Plot summed error as a function of iteration\n",
    "plt.scatter(iterations, errors, c = \"black\", alpha = 0.25)"
   ]
  },
  {
   "cell_type": "code",
   "execution_count": 14,
   "metadata": {
    "collapsed": false
   },
   "outputs": [],
   "source": [
    "# Get rid of the 2nd dimension of 1 from the FloatTensor\n",
    "y_pred_resized = y_pred.resize(8308)\n",
    "\n",
    "\n",
    "# Make the FloatTensor into a numpy.array\n",
    "y_pred_array = y_pred_resized.data.numpy()\n",
    "\n",
    "\n",
    "# Make the numpy.array into a list\n",
    "y_pred_list = y_pred_array.tolist()"
   ]
  },
  {
   "cell_type": "code",
   "execution_count": 15,
   "metadata": {
    "collapsed": false
   },
   "outputs": [],
   "source": [
    "# Get rid of the 2nd dimension of 1 from the FloatTensor\n",
    "outcomes_Variable_resized = outcomes_Variable.resize(8308)\n",
    "\n",
    "\n",
    "# Make the FloatTensor into a numpy.array\n",
    "outcomes_array = outcomes_Variable_resized.data.numpy()\n",
    "\n",
    "\n",
    "# Make the numpy.array into a list\n",
    "outcomes_list = outcomes_array.tolist()"
   ]
  },
  {
   "cell_type": "code",
   "execution_count": 16,
   "metadata": {
    "collapsed": false
   },
   "outputs": [
    {
     "data": {
      "text/plain": [
       "[<matplotlib.lines.Line2D at 0x7fce483e0fd0>]"
      ]
     },
     "execution_count": 16,
     "metadata": {},
     "output_type": "execute_result"
    },
    {
     "data": {
      "image/png": "[encoded data removed]",
      "text/plain": [
       "<matplotlib.figure.Figure at 0x7fce9c4e8748>"
      ]
     },
     "metadata": {},
     "output_type": "display_data"
    }
   ],
   "source": [
    "# Plot predictions versus training set outcomes\n",
    "plt.scatter(outcomes_list, y_pred_list, c = \"black\", alpha = 0.15)\n",
    "\n",
    "axes = plt.gca()\n",
    "\n",
    "axes.set_xlim([-2, 4])\n",
    "\n",
    "axes.set_ylim([-2, 4])\n",
    "\n",
    "plt.plot([-2, 4], [-2, 4], 'k-', lw=2)"
   ]
  },
  {
   "cell_type": "markdown",
   "metadata": {},
   "source": [
    "### Validation Set Performance"
   ]
  },
  {
   "cell_type": "code",
   "execution_count": 17,
   "metadata": {
    "collapsed": false
   },
   "outputs": [],
   "source": [
    "# Import data\n",
    "valid_df = pd.read_csv(\"/home/jeremy/github_tornadoesr/data/raw/tor_cv_set_no_zeros.csv\")\n",
    "\n",
    "\n",
    "# Validation set outcomes\n",
    "valid_outcomes = valid_df.iloc[:, [0]]\n",
    "\n",
    "\n",
    "# Make the validation outcomes into a numpy array\n",
    "valid_outcomes_array = valid_outcomes.values\n",
    "\n",
    "\n",
    "# Makes the numpy array into a torch Tensor\n",
    "valid_outcomes_Tensor = torch.from_numpy(valid_outcomes_array)\n",
    "\n",
    "\n",
    "# Changing validation outcomes from a DoubleTensor to a FloatTensor\n",
    "valid_outcomes_Tensor = valid_outcomes_Tensor.float()\n",
    "\n",
    "\n",
    "# Make the Tensor into a Pytorch Variable\n",
    "valid_outcomes_Variable = Variable(valid_outcomes_Tensor)"
   ]
  },
  {
   "cell_type": "code",
   "execution_count": 18,
   "metadata": {
    "collapsed": false
   },
   "outputs": [],
   "source": [
    "# Validation set predictors\n",
    "valid_predictors = valid_df.iloc[:, 1:]\n",
    "\n",
    "\n",
    "# Make the validation predictors into a numpy array\n",
    "valid_predictors_array = valid_predictors.values\n",
    "\n",
    "\n",
    "# Makes the numpy array into a torch Tensor\n",
    "valid_predictors_Tensor = torch.from_numpy(valid_predictors_array)\n",
    "\n",
    "\n",
    "# Changing validation predictors from a DoubleTensor to a FloatTensor\n",
    "valid_predictors_Tensor = valid_predictors_Tensor.float()\n",
    "\n",
    "\n",
    "# Make the Tensor into a Pytorch Variable\n",
    "valid_predictors_Variable = Variable(valid_predictors_Tensor)"
   ]
  },
  {
   "cell_type": "code",
   "execution_count": 19,
   "metadata": {
    "collapsed": false
   },
   "outputs": [
    {
     "data": {
      "text/plain": [
       "Variable containing:\n",
       " 301.9249\n",
       "[torch.FloatTensor of size 1]"
      ]
     },
     "execution_count": 19,
     "metadata": {},
     "output_type": "execute_result"
    }
   ],
   "source": [
    "# Get the validation set predictions\n",
    "y_valid_pred = model(valid_predictors_Variable)\n",
    "\n",
    "\n",
    "# Print the loss\n",
    "loss_fn(y_valid_pred,\n",
    "        valid_outcomes_Variable)"
   ]
  },
  {
   "cell_type": "code",
   "execution_count": 20,
   "metadata": {
    "collapsed": false
   },
   "outputs": [
    {
     "data": {
      "text/plain": [
       "Variable containing:\n",
       " 0.3649\n",
       "[torch.FloatTensor of size 1]"
      ]
     },
     "execution_count": 20,
     "metadata": {},
     "output_type": "execute_result"
    }
   ],
   "source": [
    "# Computing the total sum of squares\n",
    "# Get a torch Variable of the mean outcome\n",
    "# Compute mean value\n",
    "valid_outcomes_mean = (sum(valid_outcomes_Variable) / len(valid_outcomes_Variable))\n",
    "valid_outcomes_mean = valid_outcomes_mean.data.numpy()[0]\n",
    "\n",
    "# Make that into a ndarray\n",
    "valid_outcomes_mean = np.repeat(valid_outcomes_mean, len(valid_outcomes_Variable))\n",
    "\n",
    "# Turn the array into a torch Tensor\n",
    "valid_outcomes_mean = torch.from_numpy(valid_outcomes_mean)\n",
    "\n",
    "# Turn that Tensor into a Variable\n",
    "valid_outcomes_mean_Variable = Variable(valid_outcomes_mean)\n",
    "\n",
    "# Compute the TSS\n",
    "tot_sum_squares = loss_fn(valid_outcomes_mean_Variable, valid_outcomes_Variable)\n",
    "\n",
    "\n",
    "# Grab the residual sum of squares\n",
    "resid_sum_squares = loss_fn(y_valid_pred, valid_outcomes_Variable)\n",
    "\n",
    "\n",
    "# Compute R squared\n",
    "R_squared = 1 - (resid_sum_squares / tot_sum_squares)\n",
    "\n",
    "R_squared"
   ]
  },
  {
   "cell_type": "code",
   "execution_count": 21,
   "metadata": {
    "collapsed": true
   },
   "outputs": [],
   "source": [
    "# Get rid of the 2nd dimension of 1 from the FloatTensor\n",
    "y_valid_pred_resized = y_valid_pred.resize(2808)\n",
    "\n",
    "\n",
    "# Make the FloatTensor into a numpy.array\n",
    "y_valid_pred_array = y_valid_pred_resized.data.numpy()\n",
    "\n",
    "\n",
    "# Convert back to log scale\n",
    "y_valid_pred_array = y_valid_pred_array*5.407597 + 7.688844\n",
    "\n",
    "\n",
    "# Make the numpy.array into a list\n",
    "y_valid_pred_list = y_valid_pred_array.tolist()"
   ]
  },
  {
   "cell_type": "code",
   "execution_count": 22,
   "metadata": {
    "collapsed": false
   },
   "outputs": [],
   "source": [
    "# Get rid of the 2nd dimension of 1 from the FloatTensor\n",
    "valid_outcomes_Variable_resized = valid_outcomes_Variable.resize(2808)\n",
    "\n",
    "\n",
    "# Make the FloatTensor into a numpy.array\n",
    "valid_outcomes_array = valid_outcomes_Variable_resized.data.numpy()\n",
    "\n",
    "\n",
    "# Convert back to log scale\n",
    "valid_outcomes_array = valid_outcomes_array*5.407597 + 7.68884\n",
    "\n",
    "\n",
    "# Make the numpy.array into a list\n",
    "valid_outcomes_list = valid_outcomes_array.tolist()"
   ]
  },
  {
   "cell_type": "code",
   "execution_count": 23,
   "metadata": {
    "collapsed": false
   },
   "outputs": [
    {
     "data": {
      "text/plain": [
       "<matplotlib.text.Text at 0x7fce481c60f0>"
      ]
     },
     "execution_count": 23,
     "metadata": {},
     "output_type": "execute_result"
    },
    {
     "data": {
      "image/png": "[encoded data removed]",
      "text/plain": [
       "<matplotlib.figure.Figure at 0x7fce4c2a2fd0>"
      ]
     },
     "metadata": {},
     "output_type": "display_data"
    }
   ],
   "source": [
    "# Plot new predictions versus new data outcomes\n",
    "plt.scatter(valid_outcomes_list, y_valid_pred_list, c = \"black\", alpha = 0.15)\n",
    "\n",
    "axes = plt.gca()\n",
    "\n",
    "axes.set_xlim([0, 24])\n",
    "\n",
    "axes.set_ylim([0, 24])\n",
    "\n",
    "axes.set_xticks([0, 4, 8, 12, 16, 20, 24])\n",
    "\n",
    "axes.set_yticks([0, 4, 8, 12, 16, 20, 24])\n",
    "\n",
    "plt.plot([0, 24], [0, 24], 'k-', lw = 2)\n",
    "\n",
    "axes.set_xlabel(\"Actual Outcome (Log-Transformed US Dollars)\")\n",
    "\n",
    "axes.set_ylabel(\"Model Prediction (Log-Transformed US Dollars)\")\n",
    "\n",
    "axes.set_title(\"Model Performance\")"
   ]
  },
  {
   "cell_type": "markdown",
   "metadata": {},
   "source": [
    "## Seventy Hidden Layers"
   ]
  },
  {
   "cell_type": "code",
   "execution_count": 24,
   "metadata": {
    "collapsed": true
   },
   "outputs": [],
   "source": [
    "# Make the torch Tensor into a PyTorch Variable for dependent variables\n",
    "outcomes_Variable = Variable(outcomes_Tensor)\n",
    "\n",
    "\n",
    "# ...for independent variables\n",
    "features_Variable = Variable(features_Tensor,\n",
    "                             requires_grad = False)"
   ]
  },
  {
   "cell_type": "code",
   "execution_count": 25,
   "metadata": {
    "collapsed": true
   },
   "outputs": [],
   "source": [
    "# Make the neural network\n",
    "model = torch.nn.Sequential(torch.nn.Linear(34, 34),     # Hidden Layer (HL) 1\n",
    "                            torch.nn.ReLU(),\n",
    "                            torch.nn.Linear(34, 34),    # HL 2\n",
    "                            torch.nn.ReLU(),\n",
    "                            torch.nn.Linear(34, 34),    # HL 3\n",
    "                            torch.nn.ReLU(),\n",
    "                            torch.nn.Linear(34, 34),    # HL 4\n",
    "                            torch.nn.ReLU(),\n",
    "                            torch.nn.Linear(34, 34),    # HL 5\n",
    "                            torch.nn.ReLU(),\n",
    "                            torch.nn.Linear(34, 34),    # HL 6\n",
    "                            torch.nn.ReLU(),\n",
    "                            torch.nn.Linear(34, 34),    # HL 7\n",
    "                            torch.nn.ReLU(),\n",
    "                            torch.nn.Linear(34, 34),    # HL 8\n",
    "                            torch.nn.ReLU(),\n",
    "                            torch.nn.Linear(34, 34),    # HL 9\n",
    "                            torch.nn.ReLU(),\n",
    "                            torch.nn.Linear(34, 34),    # HL 10\n",
    "                            torch.nn.ReLU(),\n",
    "                            torch.nn.Linear(34, 34),    # HL 11\n",
    "                            torch.nn.ReLU(),\n",
    "                            torch.nn.Linear(34, 34),    # HL 12\n",
    "                            torch.nn.ReLU(),\n",
    "                            torch.nn.Linear(34, 34),    # HL 13\n",
    "                            torch.nn.ReLU(),\n",
    "                            torch.nn.Linear(34, 34),    # HL 14\n",
    "                            torch.nn.ReLU(),\n",
    "                            torch.nn.Linear(34, 34),    # HL 15\n",
    "                            torch.nn.ReLU(),\n",
    "                            torch.nn.Linear(34, 34),    # HL 16\n",
    "                            torch.nn.ReLU(),\n",
    "                            torch.nn.Linear(34, 34),    # HL 17\n",
    "                            torch.nn.ReLU(),\n",
    "                            torch.nn.Linear(34, 34),    # HL 18\n",
    "                            torch.nn.ReLU(),\n",
    "                            torch.nn.Linear(34, 34),    # HL 19\n",
    "                            torch.nn.ReLU(),\n",
    "                            torch.nn.Linear(34, 34),    # HL 20\n",
    "                            torch.nn.ReLU(),\n",
    "                            torch.nn.Linear(34, 34),    # HL 21\n",
    "                            torch.nn.ReLU(),\n",
    "                            torch.nn.Linear(34, 34),    # HL 22\n",
    "                            torch.nn.ReLU(),\n",
    "                            torch.nn.Linear(34, 34),    # HL 23\n",
    "                            torch.nn.ReLU(),\n",
    "                            torch.nn.Linear(34, 34),    # HL 24\n",
    "                            torch.nn.ReLU(),\n",
    "                            torch.nn.Linear(34, 34),    # HL 25\n",
    "                            torch.nn.ReLU(),\n",
    "                            torch.nn.Linear(34, 34),    # HL 26\n",
    "                            torch.nn.ReLU(),\n",
    "                            torch.nn.Linear(34, 34),    # HL 27\n",
    "                            torch.nn.ReLU(),\n",
    "                            torch.nn.Linear(34, 34),    # HL 28\n",
    "                            torch.nn.ReLU(),\n",
    "                            torch.nn.Linear(34, 34),    # HL 29\n",
    "                            torch.nn.ReLU(),\n",
    "                            torch.nn.Linear(34, 34),    # HL 30\n",
    "                            torch.nn.ReLU(),\n",
    "                            torch.nn.Linear(34, 34),    # HL 31\n",
    "                            torch.nn.ReLU(),\n",
    "                            torch.nn.Linear(34, 34),    # HL 32\n",
    "                            torch.nn.ReLU(),\n",
    "                            torch.nn.Linear(34, 34),    # HL 33\n",
    "                            torch.nn.ReLU(),\n",
    "                            torch.nn.Linear(34, 34),    # HL 34\n",
    "                            torch.nn.ReLU(),\n",
    "                            torch.nn.Linear(34, 34),    # HL 35\n",
    "                            torch.nn.ReLU(),\n",
    "                            torch.nn.Linear(34, 34),    # HL 36\n",
    "                            torch.nn.ReLU(),\n",
    "                            torch.nn.Linear(34, 34),    # HL 37\n",
    "                            torch.nn.ReLU(),\n",
    "                            torch.nn.Linear(34, 34),    # HL 38\n",
    "                            torch.nn.ReLU(),\n",
    "                            torch.nn.Linear(34, 34),    # HL 39\n",
    "                            torch.nn.ReLU(),\n",
    "                            torch.nn.Linear(34, 34),    # HL 40\n",
    "                            torch.nn.ReLU(),\n",
    "                            torch.nn.Linear(34, 34),    # HL 41\n",
    "                            torch.nn.ReLU(),\n",
    "                            torch.nn.Linear(34, 34),    # HL 42\n",
    "                            torch.nn.ReLU(),\n",
    "                            torch.nn.Linear(34, 34),    # HL 43\n",
    "                            torch.nn.ReLU(),\n",
    "                            torch.nn.Linear(34, 34),    # HL 44\n",
    "                            torch.nn.ReLU(),\n",
    "                            torch.nn.Linear(34, 34),    # HL 45\n",
    "                            torch.nn.ReLU(),\n",
    "                            torch.nn.Linear(34, 34),    # HL 46\n",
    "                            torch.nn.ReLU(),\n",
    "                            torch.nn.Linear(34, 34),    # HL 47\n",
    "                            torch.nn.ReLU(),\n",
    "                            torch.nn.Linear(34, 34),    # HL 48\n",
    "                            torch.nn.ReLU(),\n",
    "                            torch.nn.Linear(34, 34),    # HL 49\n",
    "                            torch.nn.ReLU(),\n",
    "                            torch.nn.Linear(34, 34),    # HL 50\n",
    "                            torch.nn.ReLU(),\n",
    "                            torch.nn.Linear(34, 34),    # HL 51\n",
    "                            torch.nn.ReLU(),\n",
    "                            torch.nn.Linear(34, 34),    # HL 52\n",
    "                            torch.nn.ReLU(),\n",
    "                            torch.nn.Linear(34, 34),    # HL 53\n",
    "                            torch.nn.ReLU(),\n",
    "                            torch.nn.Linear(34, 34),    # HL 54\n",
    "                            torch.nn.ReLU(),\n",
    "                            torch.nn.Linear(34, 34),    # HL 55\n",
    "                            torch.nn.ReLU(),\n",
    "                            torch.nn.Linear(34, 34),    # HL 56\n",
    "                            torch.nn.ReLU(),\n",
    "                            torch.nn.Linear(34, 34),    # HL 57\n",
    "                            torch.nn.ReLU(),\n",
    "                            torch.nn.Linear(34, 34),    # HL 58\n",
    "                            torch.nn.ReLU(),\n",
    "                            torch.nn.Linear(34, 34),    # HL 59\n",
    "                            torch.nn.ReLU(),\n",
    "                            torch.nn.Linear(34, 34),    # HL 60\n",
    "                            torch.nn.ReLU(),\n",
    "                            torch.nn.Linear(34, 34),    # HL 61\n",
    "                            torch.nn.ReLU(),\n",
    "                            torch.nn.Linear(34, 34),    # HL 62\n",
    "                            torch.nn.ReLU(),\n",
    "                            torch.nn.Linear(34, 34),    # HL 63\n",
    "                            torch.nn.ReLU(),\n",
    "                            torch.nn.Linear(34, 34),    # HL 64\n",
    "                            torch.nn.ReLU(),\n",
    "                            torch.nn.Linear(34, 34),    # HL 65\n",
    "                            torch.nn.ReLU(),\n",
    "                            torch.nn.Linear(34, 34),    # HL 66\n",
    "                            torch.nn.ReLU(),\n",
    "                            torch.nn.Linear(34, 34),    # HL 67\n",
    "                            torch.nn.ReLU(),\n",
    "                            torch.nn.Linear(34, 34),    # HL 68\n",
    "                            torch.nn.ReLU(),\n",
    "                            torch.nn.Linear(34, 34),    # HL 69\n",
    "                            torch.nn.ReLU(),\n",
    "                            torch.nn.Linear(34, 34),    # HL 70\n",
    "                            torch.nn.ReLU(),\n",
    "                            torch.nn.Linear(34, 1))"
   ]
  },
  {
   "cell_type": "code",
   "execution_count": 26,
   "metadata": {
    "collapsed": true
   },
   "outputs": [],
   "source": [
    "# To add errors to\n",
    "errors = []\n",
    "\n",
    "\n",
    "# Set the learning rate\n",
    "learning_rate = 2e-3\n",
    "\n",
    "\n",
    "# Define the model's optimizer\n",
    "optimizer = torch.optim.Adagrad(model.parameters(), lr = learning_rate)\n",
    "\n",
    "\n",
    "# Train the neural network\n",
    "for t in range(15000):\n",
    "    \n",
    "    # Get the current predictions\n",
    "    y_pred = model(features_Variable)\n",
    "    \n",
    "    # Compute and append current summed errors\n",
    "    loss = loss_fn(y_pred, outcomes_Variable)\n",
    "    errors.append(loss.data[0])\n",
    "    \n",
    "    # Zero the gradients before running the backward pass.\n",
    "    optimizer.zero_grad()\n",
    "    \n",
    "    # Backward pass: compute gradient of the loss with respect to all the learnable Variables\n",
    "    loss.backward()\n",
    "    \n",
    "    # Update the weights using Adagrad\n",
    "    optimizer.step()"
   ]
  },
  {
   "cell_type": "code",
   "execution_count": 27,
   "metadata": {
    "collapsed": false
   },
   "outputs": [
    {
     "data": {
      "text/plain": [
       "<matplotlib.collections.PathCollection at 0x7fce482cc9e8>"
      ]
     },
     "execution_count": 27,
     "metadata": {},
     "output_type": "execute_result"
    },
    {
     "data": {
      "image/png": "[encoded data removed]",
      "text/plain": [
       "<matplotlib.figure.Figure at 0x7fce4818e390>"
      ]
     },
     "metadata": {},
     "output_type": "display_data"
    }
   ],
   "source": [
    "# Plot summed error as a function of iteration\n",
    "plt.scatter(iterations, errors, c = \"black\", alpha = 0.25)"
   ]
  },
  {
   "cell_type": "code",
   "execution_count": 28,
   "metadata": {
    "collapsed": true
   },
   "outputs": [],
   "source": [
    "# Get rid of the 2nd dimension of 1 from the FloatTensor\n",
    "y_pred_resized = y_pred.resize(8308)\n",
    "\n",
    "\n",
    "# Make the FloatTensor into a numpy.array\n",
    "y_pred_array = y_pred_resized.data.numpy()\n",
    "\n",
    "\n",
    "# Make the numpy.array into a list\n",
    "y_pred_list = y_pred_array.tolist()"
   ]
  },
  {
   "cell_type": "code",
   "execution_count": 29,
   "metadata": {
    "collapsed": false
   },
   "outputs": [
    {
     "data": {
      "text/plain": [
       "[<matplotlib.lines.Line2D at 0x7fce482e6b38>]"
      ]
     },
     "execution_count": 29,
     "metadata": {},
     "output_type": "execute_result"
    },
    {
     "data": {
      "image/png": "[encoded data removed]",
      "text/plain": [
       "<matplotlib.figure.Figure at 0x7fce482e6d68>"
      ]
     },
     "metadata": {},
     "output_type": "display_data"
    }
   ],
   "source": [
    "# Plot predictions versus training set outcomes\n",
    "plt.scatter(outcomes_list, y_pred_list, c = \"black\", alpha = 0.15)\n",
    "\n",
    "axes = plt.gca()\n",
    "\n",
    "axes.set_xlim([-2, 4])\n",
    "\n",
    "axes.set_ylim([-2, 4])\n",
    "\n",
    "plt.plot([-2, 4], [-2, 4], 'k-', lw=2)"
   ]
  },
  {
   "cell_type": "markdown",
   "metadata": {},
   "source": [
    "### Validation Set Performance"
   ]
  },
  {
   "cell_type": "code",
   "execution_count": 30,
   "metadata": {
    "collapsed": false
   },
   "outputs": [
    {
     "data": {
      "text/plain": [
       "Variable containing:\n",
       " 285.2755\n",
       "[torch.FloatTensor of size 1]"
      ]
     },
     "execution_count": 30,
     "metadata": {},
     "output_type": "execute_result"
    }
   ],
   "source": [
    "# Get the validation set predictions\n",
    "y_valid_pred = model(valid_predictors_Variable)\n",
    "\n",
    "\n",
    "# Print the loss\n",
    "loss_fn(y_valid_pred,\n",
    "        valid_outcomes_Variable)"
   ]
  },
  {
   "cell_type": "code",
   "execution_count": 31,
   "metadata": {
    "collapsed": false
   },
   "outputs": [
    {
     "data": {
      "text/plain": [
       "Variable containing:\n",
       " 0.3999\n",
       "[torch.FloatTensor of size 1]"
      ]
     },
     "execution_count": 31,
     "metadata": {},
     "output_type": "execute_result"
    }
   ],
   "source": [
    "# Grab the residual sum of squares\n",
    "resid_sum_squares = loss_fn(y_valid_pred, valid_outcomes_Variable)\n",
    "\n",
    "\n",
    "# Compute R squared\n",
    "R_squared = 1 - (resid_sum_squares / tot_sum_squares)\n",
    "\n",
    "R_squared"
   ]
  },
  {
   "cell_type": "code",
   "execution_count": 32,
   "metadata": {
    "collapsed": true
   },
   "outputs": [],
   "source": [
    "# Get rid of the 2nd dimension of 1 from the FloatTensor\n",
    "y_valid_pred_resized = y_valid_pred.resize(2808)\n",
    "\n",
    "\n",
    "# Make the FloatTensor into a numpy.array\n",
    "y_valid_pred_array = y_valid_pred_resized.data.numpy()\n",
    "\n",
    "\n",
    "# Convert back to log scale\n",
    "y_valid_pred_array = y_valid_pred_array*5.407597 + 7.688844\n",
    "\n",
    "\n",
    "# Make the numpy.array into a list\n",
    "y_valid_pred_list = y_valid_pred_array.tolist()"
   ]
  },
  {
   "cell_type": "code",
   "execution_count": 33,
   "metadata": {
    "collapsed": false
   },
   "outputs": [
    {
     "data": {
      "text/plain": [
       "<matplotlib.text.Text at 0x7fce483134e0>"
      ]
     },
     "execution_count": 33,
     "metadata": {},
     "output_type": "execute_result"
    },
    {
     "data": {
      "image/png": "[encoded data removed]",
      "text/plain": [
       "<matplotlib.figure.Figure at 0x7fce48202f60>"
      ]
     },
     "metadata": {},
     "output_type": "display_data"
    }
   ],
   "source": [
    "# Plot new predictions versus new data outcomes\n",
    "plt.scatter(valid_outcomes_list, y_valid_pred_list, c = \"black\", alpha = 0.15)\n",
    "\n",
    "axes = plt.gca()\n",
    "\n",
    "axes.set_xlim([0, 24])\n",
    "\n",
    "axes.set_ylim([0, 24])\n",
    "\n",
    "axes.set_xticks([0, 4, 8, 12, 16, 20, 24])\n",
    "\n",
    "axes.set_yticks([0, 4, 8, 12, 16, 20, 24])\n",
    "\n",
    "plt.plot([0, 24], [0, 24], 'k-', lw = 2)\n",
    "\n",
    "axes.set_xlabel(\"Actual Outcome (Log-Transformed US Dollars)\")\n",
    "\n",
    "axes.set_ylabel(\"Model Prediction (Log-Transformed US Dollars)\")\n",
    "\n",
    "axes.set_title(\"Model Performance\")"
   ]
  },
  {
   "cell_type": "markdown",
   "metadata": {},
   "source": [
    "## One Hundred Hidden Layers?"
   ]
  },
  {
   "cell_type": "code",
   "execution_count": 34,
   "metadata": {
    "collapsed": true
   },
   "outputs": [],
   "source": [
    "# Make the torch Tensor into a PyTorch Variable for dependent variables\n",
    "outcomes_Variable = Variable(outcomes_Tensor)\n",
    "\n",
    "\n",
    "# ...for independent variables\n",
    "features_Variable = Variable(features_Tensor,\n",
    "                             requires_grad = False)"
   ]
  },
  {
   "cell_type": "code",
   "execution_count": 35,
   "metadata": {
    "collapsed": false
   },
   "outputs": [],
   "source": [
    "# Make the neural network\n",
    "model = torch.nn.Sequential(torch.nn.Linear(34, 34),     # Hidden Layer (HL) 1\n",
    "                            torch.nn.ReLU(),\n",
    "                            torch.nn.Linear(34, 34),    # HL 2\n",
    "                            torch.nn.ReLU(),\n",
    "                            torch.nn.Linear(34, 34),    # HL 3\n",
    "                            torch.nn.ReLU(),\n",
    "                            torch.nn.Linear(34, 34),    # HL 4\n",
    "                            torch.nn.ReLU(),\n",
    "                            torch.nn.Linear(34, 34),    # HL 5\n",
    "                            torch.nn.ReLU(),\n",
    "                            torch.nn.Linear(34, 34),    # HL 6\n",
    "                            torch.nn.ReLU(),\n",
    "                            torch.nn.Linear(34, 34),    # HL 7\n",
    "                            torch.nn.ReLU(),\n",
    "                            torch.nn.Linear(34, 34),    # HL 8\n",
    "                            torch.nn.ReLU(),\n",
    "                            torch.nn.Linear(34, 34),    # HL 9\n",
    "                            torch.nn.ReLU(),\n",
    "                            torch.nn.Linear(34, 34),    # HL 10\n",
    "                            torch.nn.ReLU(),\n",
    "                            torch.nn.Linear(34, 34),    # HL 11\n",
    "                            torch.nn.ReLU(),\n",
    "                            torch.nn.Linear(34, 34),    # HL 12\n",
    "                            torch.nn.ReLU(),\n",
    "                            torch.nn.Linear(34, 34),    # HL 13\n",
    "                            torch.nn.ReLU(),\n",
    "                            torch.nn.Linear(34, 34),    # HL 14\n",
    "                            torch.nn.ReLU(),\n",
    "                            torch.nn.Linear(34, 34),    # HL 15\n",
    "                            torch.nn.ReLU(),\n",
    "                            torch.nn.Linear(34, 34),    # HL 16\n",
    "                            torch.nn.ReLU(),\n",
    "                            torch.nn.Linear(34, 34),    # HL 17\n",
    "                            torch.nn.ReLU(),\n",
    "                            torch.nn.Linear(34, 34),    # HL 18\n",
    "                            torch.nn.ReLU(),\n",
    "                            torch.nn.Linear(34, 34),    # HL 19\n",
    "                            torch.nn.ReLU(),\n",
    "                            torch.nn.Linear(34, 34),    # HL 20\n",
    "                            torch.nn.ReLU(),\n",
    "                            torch.nn.Linear(34, 34),    # HL 21\n",
    "                            torch.nn.ReLU(),\n",
    "                            torch.nn.Linear(34, 34),    # HL 22\n",
    "                            torch.nn.ReLU(),\n",
    "                            torch.nn.Linear(34, 34),    # HL 23\n",
    "                            torch.nn.ReLU(),\n",
    "                            torch.nn.Linear(34, 34),    # HL 24\n",
    "                            torch.nn.ReLU(),\n",
    "                            torch.nn.Linear(34, 34),    # HL 25\n",
    "                            torch.nn.ReLU(),\n",
    "                            torch.nn.Linear(34, 34),    # HL 26\n",
    "                            torch.nn.ReLU(),\n",
    "                            torch.nn.Linear(34, 34),    # HL 27\n",
    "                            torch.nn.ReLU(),\n",
    "                            torch.nn.Linear(34, 34),    # HL 28\n",
    "                            torch.nn.ReLU(),\n",
    "                            torch.nn.Linear(34, 34),    # HL 29\n",
    "                            torch.nn.ReLU(),\n",
    "                            torch.nn.Linear(34, 34),    # HL 30\n",
    "                            torch.nn.ReLU(),\n",
    "                            torch.nn.Linear(34, 34),    # HL 31\n",
    "                            torch.nn.ReLU(),\n",
    "                            torch.nn.Linear(34, 34),    # HL 32\n",
    "                            torch.nn.ReLU(),\n",
    "                            torch.nn.Linear(34, 34),    # HL 33\n",
    "                            torch.nn.ReLU(),\n",
    "                            torch.nn.Linear(34, 34),    # HL 34\n",
    "                            torch.nn.ReLU(),\n",
    "                            torch.nn.Linear(34, 34),    # HL 35\n",
    "                            torch.nn.ReLU(),\n",
    "                            torch.nn.Linear(34, 34),    # HL 36\n",
    "                            torch.nn.ReLU(),\n",
    "                            torch.nn.Linear(34, 34),    # HL 37\n",
    "                            torch.nn.ReLU(),\n",
    "                            torch.nn.Linear(34, 34),    # HL 38\n",
    "                            torch.nn.ReLU(),\n",
    "                            torch.nn.Linear(34, 34),    # HL 39\n",
    "                            torch.nn.ReLU(),\n",
    "                            torch.nn.Linear(34, 34),    # HL 40\n",
    "                            torch.nn.ReLU(),\n",
    "                            torch.nn.Linear(34, 34),    # HL 41\n",
    "                            torch.nn.ReLU(),\n",
    "                            torch.nn.Linear(34, 34),    # HL 42\n",
    "                            torch.nn.ReLU(),\n",
    "                            torch.nn.Linear(34, 34),    # HL 43\n",
    "                            torch.nn.ReLU(),\n",
    "                            torch.nn.Linear(34, 34),    # HL 44\n",
    "                            torch.nn.ReLU(),\n",
    "                            torch.nn.Linear(34, 34),    # HL 45\n",
    "                            torch.nn.ReLU(),\n",
    "                            torch.nn.Linear(34, 34),    # HL 46\n",
    "                            torch.nn.ReLU(),\n",
    "                            torch.nn.Linear(34, 34),    # HL 47\n",
    "                            torch.nn.ReLU(),\n",
    "                            torch.nn.Linear(34, 34),    # HL 48\n",
    "                            torch.nn.ReLU(),\n",
    "                            torch.nn.Linear(34, 34),    # HL 49\n",
    "                            torch.nn.ReLU(),\n",
    "                            torch.nn.Linear(34, 34),    # HL 50\n",
    "                            torch.nn.ReLU(),\n",
    "                            torch.nn.Linear(34, 34),    # HL 51\n",
    "                            torch.nn.ReLU(),\n",
    "                            torch.nn.Linear(34, 34),    # HL 52\n",
    "                            torch.nn.ReLU(),\n",
    "                            torch.nn.Linear(34, 34),    # HL 53\n",
    "                            torch.nn.ReLU(),\n",
    "                            torch.nn.Linear(34, 34),    # HL 54\n",
    "                            torch.nn.ReLU(),\n",
    "                            torch.nn.Linear(34, 34),    # HL 55\n",
    "                            torch.nn.ReLU(),\n",
    "                            torch.nn.Linear(34, 34),    # HL 56\n",
    "                            torch.nn.ReLU(),\n",
    "                            torch.nn.Linear(34, 34),    # HL 57\n",
    "                            torch.nn.ReLU(),\n",
    "                            torch.nn.Linear(34, 34),    # HL 58\n",
    "                            torch.nn.ReLU(),\n",
    "                            torch.nn.Linear(34, 34),    # HL 59\n",
    "                            torch.nn.ReLU(),\n",
    "                            torch.nn.Linear(34, 34),    # HL 60\n",
    "                            torch.nn.ReLU(),\n",
    "                            torch.nn.Linear(34, 34),    # HL 61\n",
    "                            torch.nn.ReLU(),\n",
    "                            torch.nn.Linear(34, 34),    # HL 62\n",
    "                            torch.nn.ReLU(),\n",
    "                            torch.nn.Linear(34, 34),    # HL 63\n",
    "                            torch.nn.ReLU(),\n",
    "                            torch.nn.Linear(34, 34),    # HL 64\n",
    "                            torch.nn.ReLU(),\n",
    "                            torch.nn.Linear(34, 34),    # HL 65\n",
    "                            torch.nn.ReLU(),\n",
    "                            torch.nn.Linear(34, 34),    # HL 66\n",
    "                            torch.nn.ReLU(),\n",
    "                            torch.nn.Linear(34, 34),    # HL 67\n",
    "                            torch.nn.ReLU(),\n",
    "                            torch.nn.Linear(34, 34),    # HL 68\n",
    "                            torch.nn.ReLU(),\n",
    "                            torch.nn.Linear(34, 34),    # HL 69\n",
    "                            torch.nn.ReLU(),\n",
    "                            torch.nn.Linear(34, 34),    # HL 70\n",
    "                            torch.nn.ReLU(),\n",
    "                            torch.nn.Linear(34, 34),    # HL 71\n",
    "                            torch.nn.ReLU(),\n",
    "                            torch.nn.Linear(34, 34),    # HL 72\n",
    "                            torch.nn.ReLU(),\n",
    "                            torch.nn.Linear(34, 34),    # HL 73\n",
    "                            torch.nn.ReLU(),\n",
    "                            torch.nn.Linear(34, 34),    # HL 74\n",
    "                            torch.nn.ReLU(),\n",
    "                            torch.nn.Linear(34, 34),    # HL 75\n",
    "                            torch.nn.ReLU(),\n",
    "                            torch.nn.Linear(34, 34),    # HL 76\n",
    "                            torch.nn.ReLU(),\n",
    "                            torch.nn.Linear(34, 34),    # HL 77\n",
    "                            torch.nn.ReLU(),\n",
    "                            torch.nn.Linear(34, 34),    # HL 78\n",
    "                            torch.nn.ReLU(),\n",
    "                            torch.nn.Linear(34, 34),    # HL 79\n",
    "                            torch.nn.ReLU(),\n",
    "                            torch.nn.Linear(34, 34),    # HL 80\n",
    "                            torch.nn.ReLU(),\n",
    "                            torch.nn.Linear(34, 34),    # HL 81\n",
    "                            torch.nn.ReLU(),\n",
    "                            torch.nn.Linear(34, 34),    # HL 82\n",
    "                            torch.nn.ReLU(),\n",
    "                            torch.nn.Linear(34, 34),    # HL 83\n",
    "                            torch.nn.ReLU(),\n",
    "                            torch.nn.Linear(34, 34),    # HL 84\n",
    "                            torch.nn.ReLU(),\n",
    "                            torch.nn.Linear(34, 34),    # HL 85\n",
    "                            torch.nn.ReLU(),\n",
    "                            torch.nn.Linear(34, 34),    # HL 86\n",
    "                            torch.nn.ReLU(),\n",
    "                            torch.nn.Linear(34, 34),    # HL 87\n",
    "                            torch.nn.ReLU(),\n",
    "                            torch.nn.Linear(34, 34),    # HL 88\n",
    "                            torch.nn.ReLU(),\n",
    "                            torch.nn.Linear(34, 34),    # HL 89\n",
    "                            torch.nn.ReLU(),\n",
    "                            torch.nn.Linear(34, 34),    # HL 90\n",
    "                            torch.nn.ReLU(),\n",
    "                            torch.nn.Linear(34, 34),    # HL 91\n",
    "                            torch.nn.ReLU(),\n",
    "                            torch.nn.Linear(34, 34),    # HL 92\n",
    "                            torch.nn.ReLU(),\n",
    "                            torch.nn.Linear(34, 34),    # HL 93\n",
    "                            torch.nn.ReLU(),\n",
    "                            torch.nn.Linear(34, 34),    # HL 94\n",
    "                            torch.nn.ReLU(),\n",
    "                            torch.nn.Linear(34, 34),    # HL 95\n",
    "                            torch.nn.ReLU(),\n",
    "                            torch.nn.Linear(34, 34),    # HL 96\n",
    "                            torch.nn.ReLU(),\n",
    "                            torch.nn.Linear(34, 34),    # HL 97\n",
    "                            torch.nn.ReLU(),\n",
    "                            torch.nn.Linear(34, 34),    # HL 98\n",
    "                            torch.nn.ReLU(),\n",
    "                            torch.nn.Linear(34, 34),    # HL 99\n",
    "                            torch.nn.ReLU(),\n",
    "                            torch.nn.Linear(34, 34),    # HL 100\n",
    "                            torch.nn.ReLU(),\n",
    "                            torch.nn.Linear(34, 1))"
   ]
  },
  {
   "cell_type": "code",
   "execution_count": 36,
   "metadata": {
    "collapsed": true
   },
   "outputs": [],
   "source": [
    "# To add errors to\n",
    "errors = []\n",
    "\n",
    "\n",
    "# Set the learning rate\n",
    "learning_rate = 1e-3\n",
    "\n",
    "\n",
    "# Define the model's optimizer\n",
    "optimizer = torch.optim.Adagrad(model.parameters(), lr = learning_rate)\n",
    "\n",
    "\n",
    "# Train the neural network\n",
    "for t in range(15000):\n",
    "    \n",
    "    # Get the current predictions\n",
    "    y_pred = model(features_Variable)\n",
    "    \n",
    "    # Compute and append current summed errors\n",
    "    loss = loss_fn(y_pred, outcomes_Variable)\n",
    "    errors.append(loss.data[0])\n",
    "    \n",
    "    # Zero the gradients before running the backward pass.\n",
    "    optimizer.zero_grad()\n",
    "    \n",
    "    # Backward pass: compute gradient of the loss with respect to all the learnable Variables\n",
    "    loss.backward()\n",
    "    \n",
    "    # Update the weights using Adagrad\n",
    "    optimizer.step()"
   ]
  },
  {
   "cell_type": "code",
   "execution_count": 37,
   "metadata": {
    "collapsed": false
   },
   "outputs": [
    {
     "data": {
      "text/plain": [
       "<matplotlib.collections.PathCollection at 0x7fce38fce160>"
      ]
     },
     "execution_count": 37,
     "metadata": {},
     "output_type": "execute_result"
    },
    {
     "data": {
      "image/png": "[encoded data removed]",
      "text/plain": [
       "<matplotlib.figure.Figure at 0x7fce48221e10>"
      ]
     },
     "metadata": {},
     "output_type": "display_data"
    }
   ],
   "source": [
    "# Plot summed error as a function of iteration\n",
    "plt.scatter(iterations, errors, c = \"black\", alpha = 0.25)"
   ]
  },
  {
   "cell_type": "code",
   "execution_count": 38,
   "metadata": {
    "collapsed": true
   },
   "outputs": [],
   "source": [
    "# Get rid of the 2nd dimension of 1 from the FloatTensor\n",
    "y_pred_resized = y_pred.resize(8308)\n",
    "\n",
    "\n",
    "# Make the FloatTensor into a numpy.array\n",
    "y_pred_array = y_pred_resized.data.numpy()\n",
    "\n",
    "\n",
    "# Make the numpy.array into a list\n",
    "y_pred_list = y_pred_array.tolist()"
   ]
  },
  {
   "cell_type": "code",
   "execution_count": 39,
   "metadata": {
    "collapsed": false
   },
   "outputs": [
    {
     "data": {
      "text/plain": [
       "[<matplotlib.lines.Line2D at 0x7fce38f43fd0>]"
      ]
     },
     "execution_count": 39,
     "metadata": {},
     "output_type": "execute_result"
    },
    {
     "data": {
      "image/png": "[encoded data removed]",
      "text/plain": [
       "<matplotlib.figure.Figure at 0x7fce48269048>"
      ]
     },
     "metadata": {},
     "output_type": "display_data"
    }
   ],
   "source": [
    "# Plot predictions versus training set outcomes\n",
    "plt.scatter(outcomes_list, y_pred_list, c = \"black\", alpha = 0.15)\n",
    "\n",
    "axes = plt.gca()\n",
    "\n",
    "axes.set_xlim([-2, 4])\n",
    "\n",
    "axes.set_ylim([-2, 4])\n",
    "\n",
    "plt.plot([-2, 4], [-2, 4], 'k-', lw=2)"
   ]
  },
  {
   "cell_type": "markdown",
   "metadata": {},
   "source": [
    "### Validation Set Performance"
   ]
  },
  {
   "cell_type": "code",
   "execution_count": 40,
   "metadata": {
    "collapsed": false
   },
   "outputs": [
    {
     "data": {
      "text/plain": [
       "Variable containing:\n",
       " 475.4075\n",
       "[torch.FloatTensor of size 1]"
      ]
     },
     "execution_count": 40,
     "metadata": {},
     "output_type": "execute_result"
    }
   ],
   "source": [
    "# Get the validation set predictions\n",
    "y_valid_pred = model(valid_predictors_Variable)\n",
    "\n",
    "\n",
    "# Print the loss\n",
    "loss_fn(y_valid_pred,\n",
    "        valid_outcomes_Variable)"
   ]
  },
  {
   "cell_type": "code",
   "execution_count": 41,
   "metadata": {
    "collapsed": false
   },
   "outputs": [
    {
     "data": {
      "text/plain": [
       "Variable containing:\n",
       "1.00000e-05 *\n",
       " -5.1856\n",
       "[torch.FloatTensor of size 1]"
      ]
     },
     "execution_count": 41,
     "metadata": {},
     "output_type": "execute_result"
    }
   ],
   "source": [
    "# Grab the residual sum of squares\n",
    "resid_sum_squares = loss_fn(y_valid_pred, valid_outcomes_Variable)\n",
    "\n",
    "\n",
    "# Compute R squared\n",
    "R_squared = 1 - (resid_sum_squares / tot_sum_squares)\n",
    "\n",
    "R_squared"
   ]
  },
  {
   "cell_type": "code",
   "execution_count": 42,
   "metadata": {
    "collapsed": false
   },
   "outputs": [],
   "source": [
    "# Get rid of the 2nd dimension of 1 from the FloatTensor\n",
    "y_valid_pred_resized = y_valid_pred.resize(2808)\n",
    "\n",
    "\n",
    "# Make the FloatTensor into a numpy.array\n",
    "y_valid_pred_array = y_valid_pred_resized.data.numpy()\n",
    "\n",
    "\n",
    "# Convert back to log scale\n",
    "y_valid_pred_array = y_valid_pred_array*5.407597 + 7.688844\n",
    "\n",
    "\n",
    "# Make the numpy.array into a list\n",
    "y_valid_pred_list = y_valid_pred_array.tolist()"
   ]
  },
  {
   "cell_type": "code",
   "execution_count": 43,
   "metadata": {
    "collapsed": false
   },
   "outputs": [
    {
     "data": {
      "text/plain": [
       "<matplotlib.text.Text at 0x7fce38f36550>"
      ]
     },
     "execution_count": 43,
     "metadata": {},
     "output_type": "execute_result"
    },
    {
     "data": {
      "image/png": "[encoded data removed]",
      "text/plain": [
       "<matplotlib.figure.Figure at 0x7fce38f80748>"
      ]
     },
     "metadata": {},
     "output_type": "display_data"
    }
   ],
   "source": [
    "# Plot new predictions versus new data outcomes\n",
    "plt.scatter(valid_outcomes_list, y_valid_pred_list, c = \"black\", alpha = 0.15)\n",
    "\n",
    "axes = plt.gca()\n",
    "\n",
    "axes.set_xlim([0, 24])\n",
    "\n",
    "axes.set_ylim([0, 24])\n",
    "\n",
    "axes.set_xticks([0, 4, 8, 12, 16, 20, 24])\n",
    "\n",
    "axes.set_yticks([0, 4, 8, 12, 16, 20, 24])\n",
    "\n",
    "plt.plot([0, 24], [0, 24], 'k-', lw = 2)\n",
    "\n",
    "axes.set_xlabel(\"Actual Outcome (Log-Transformed US Dollars)\")\n",
    "\n",
    "axes.set_ylabel(\"Model Prediction (Log-Transformed US Dollars)\")\n",
    "\n",
    "axes.set_title(\"Model Performance\")"
   ]
  }
 ],
 "metadata": {
  "kernelspec": {
   "display_name": "Python 3",
   "language": "python",
   "name": "python3"
  },
  "language_info": {
   "codemirror_mode": {
    "name": "ipython",
    "version": 3
   },
   "file_extension": ".py",
   "mimetype": "text/x-python",
   "name": "python",
   "nbconvert_exporter": "python",
   "pygments_lexer": "ipython3",
   "version": "3.6.0"
  }
 },
 "nbformat": 4,
 "nbformat_minor": 2
}
