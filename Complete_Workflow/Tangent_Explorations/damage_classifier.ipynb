{
 "cells": [
  {
   "cell_type": "markdown",
   "metadata": {},
   "source": [
    "The goal of this notebook is to explore the potential of a model which attempts to classify whether or not a tornado will cause damage"
   ]
  },
  {
   "cell_type": "markdown",
   "metadata": {},
   "source": [
    "## Setup"
   ]
  },
  {
   "cell_type": "code",
   "execution_count": 1,
   "metadata": {},
   "outputs": [],
   "source": [
    "# Packages\n",
    "import pandas as pd\n",
    "import torch\n",
    "from torch.autograd import Variable\n",
    "import numpy as np\n",
    "import matplotlib\n",
    "import matplotlib.pyplot as plt\n",
    "plt.style.use('seaborn-whitegrid')\n",
    "%matplotlib inline\n",
    "import pylab\n",
    "import math\n",
    "pylab.rcParams['figure.figsize'] = (8.25, 6)\n",
    "from sklearn.metrics import roc_curve, auc"
   ]
  },
  {
   "cell_type": "markdown",
   "metadata": {},
   "source": [
    "Importing and formatting the training data"
   ]
  },
  {
   "cell_type": "code",
   "execution_count": 2,
   "metadata": {
    "collapsed": true
   },
   "outputs": [],
   "source": [
    "# Import data\n",
    "tor_df = pd.read_csv(\"/home/jeremy/github_tornadoesr/data/raw/tor_train_set.csv\")"
   ]
  },
  {
   "cell_type": "code",
   "execution_count": 3,
   "metadata": {},
   "outputs": [
    {
     "data": {
      "text/plain": [
       "['DAMAGE_PROPERTY']"
      ]
     },
     "execution_count": 3,
     "metadata": {},
     "output_type": "execute_result"
    }
   ],
   "source": [
    "# Seperating variables\n",
    "# The outcomes\n",
    "tornado_outcome = tor_df.iloc[:, [0]]\n",
    "\n",
    "\n",
    "# Make sure variable is right\n",
    "list(tornado_outcome)"
   ]
  },
  {
   "cell_type": "code",
   "execution_count": 4,
   "metadata": {},
   "outputs": [
    {
     "data": {
      "text/plain": [
       "['DURATION_SECONDS',\n",
       " 'BEGIN_LAT',\n",
       " 'BEGIN_LON',\n",
       " 'TOR_LENGTH',\n",
       " 'TOR_WIDTH',\n",
       " 'YEAR',\n",
       " 'MULTI_VORT_IND',\n",
       " 'OPEN_WATER_PROP',\n",
       " 'DEV_OPEN_PROP',\n",
       " 'DEV_LOW_PROP',\n",
       " 'DEV_MED_PROP',\n",
       " 'DEV_HIGH_PROP',\n",
       " 'BARREN_LAND_PROP',\n",
       " 'DECID_FOREST_PROP',\n",
       " 'EVERGR_FOREST_PROP',\n",
       " 'MIXED_FOREST_PROP',\n",
       " 'SHRUB_SCRUB_PROP',\n",
       " 'GRASS_LAND_PROP',\n",
       " 'PASTURE_HAY_PROP',\n",
       " 'CULT_CROPS_PROP',\n",
       " 'WOOD_WETLAND_PROP',\n",
       " 'HERB_WETLAND_PROP',\n",
       " 'INCOME',\n",
       " 'MOB_HOME_DENS',\n",
       " 'POP_DENS',\n",
       " 'TOR_AREA',\n",
       " 'TOT_DEV_INT',\n",
       " 'TOT_WOOD_AREA',\n",
       " 'WOOD_DEV_INT',\n",
       " 'EXP_INC_AREA',\n",
       " 'DAY_OF_YEAR',\n",
       " 'MONTH',\n",
       " 'STATE_RANK',\n",
       " 'TIME']"
      ]
     },
     "execution_count": 4,
     "metadata": {},
     "output_type": "execute_result"
    }
   ],
   "source": [
    "# The predictors\n",
    "tornado_predictors = tor_df.iloc[:, 1:]\n",
    "\n",
    "\n",
    "# Make sure the variables are right\n",
    "list(tornado_predictors)"
   ]
  },
  {
   "cell_type": "code",
   "execution_count": 5,
   "metadata": {
    "collapsed": true
   },
   "outputs": [],
   "source": [
    "# Make the outcomes into a numpy array\n",
    "outcome_array = tornado_outcome.values\n",
    "\n",
    "# Makes that numpy array into a torch Tensor\n",
    "outcome_Tensor = torch.from_numpy(outcome_array)\n",
    "\n",
    "\n",
    "# Make the predictors into a numpy array\n",
    "predictors_array = tornado_predictors.values\n",
    "\n",
    "# Make that numpy array into a torch Tensor\n",
    "predictors_Tensor = torch.from_numpy(predictors_array)\n",
    "\n",
    "\n",
    "# Convert those DoubleTensors to FloatTensors\n",
    "# Changing outcomes from a DoubleTensor to a FloatTensor\n",
    "outcome_Tensor = outcome_Tensor.float()\n",
    "\n",
    "# Changing predictors too\n",
    "predictors_Tensor = predictors_Tensor.float()"
   ]
  },
  {
   "cell_type": "markdown",
   "metadata": {},
   "source": [
    "Now the cross-validation data"
   ]
  },
  {
   "cell_type": "code",
   "execution_count": 6,
   "metadata": {},
   "outputs": [
    {
     "data": {
      "text/plain": [
       "['DAMAGE_PROPERTY']"
      ]
     },
     "execution_count": 6,
     "metadata": {},
     "output_type": "execute_result"
    }
   ],
   "source": [
    "# Import cross-validation data\n",
    "cv_df = pd.read_csv(\"/home/jeremy/github_tornadoesr/data/raw/tor_cv_set.csv\")\n",
    "\n",
    "\n",
    "# Get the outcomes\n",
    "cv_outcome = cv_df.iloc[:, [0]]\n",
    "\n",
    "# Convert the pandas column to a ndarray and then into a FloatTensor\n",
    "cv_outcome_Tensor = torch.from_numpy(cv_outcome.values).float()\n",
    "\n",
    "\n",
    "# Make sure the variable is right\n",
    "list(cv_outcome)"
   ]
  },
  {
   "cell_type": "code",
   "execution_count": 7,
   "metadata": {},
   "outputs": [
    {
     "data": {
      "text/plain": [
       "['DURATION_SECONDS',\n",
       " 'BEGIN_LAT',\n",
       " 'BEGIN_LON',\n",
       " 'TOR_LENGTH',\n",
       " 'TOR_WIDTH',\n",
       " 'YEAR',\n",
       " 'MULTI_VORT_IND',\n",
       " 'OPEN_WATER_PROP',\n",
       " 'DEV_OPEN_PROP',\n",
       " 'DEV_LOW_PROP',\n",
       " 'DEV_MED_PROP',\n",
       " 'DEV_HIGH_PROP',\n",
       " 'BARREN_LAND_PROP',\n",
       " 'DECID_FOREST_PROP',\n",
       " 'EVERGR_FOREST_PROP',\n",
       " 'MIXED_FOREST_PROP',\n",
       " 'SHRUB_SCRUB_PROP',\n",
       " 'GRASS_LAND_PROP',\n",
       " 'PASTURE_HAY_PROP',\n",
       " 'CULT_CROPS_PROP',\n",
       " 'WOOD_WETLAND_PROP',\n",
       " 'HERB_WETLAND_PROP',\n",
       " 'INCOME',\n",
       " 'MOB_HOME_DENS',\n",
       " 'POP_DENS',\n",
       " 'TOR_AREA',\n",
       " 'TOT_DEV_INT',\n",
       " 'TOT_WOOD_AREA',\n",
       " 'WOOD_DEV_INT',\n",
       " 'EXP_INC_AREA',\n",
       " 'DAY_OF_YEAR',\n",
       " 'MONTH',\n",
       " 'STATE_RANK',\n",
       " 'TIME']"
      ]
     },
     "execution_count": 7,
     "metadata": {},
     "output_type": "execute_result"
    }
   ],
   "source": [
    "# Get the validation set predictors\n",
    "cv_predictors = cv_df.iloc[:, 1:]\n",
    "\n",
    "# Make the validation set predictors into a numpy array\n",
    "cv_predictors_Tensor = torch.from_numpy(cv_predictors.values).float()\n",
    "\n",
    "\n",
    "# Make sure the variables are right\n",
    "list(cv_predictors)"
   ]
  },
  {
   "cell_type": "markdown",
   "metadata": {},
   "source": [
    "Now the test set data"
   ]
  },
  {
   "cell_type": "code",
   "execution_count": 8,
   "metadata": {},
   "outputs": [
    {
     "data": {
      "text/plain": [
       "['DAMAGE_PROPERTY']"
      ]
     },
     "execution_count": 8,
     "metadata": {},
     "output_type": "execute_result"
    }
   ],
   "source": [
    "# Import the test set data\n",
    "test_df = pd.read_csv(\"/home/jeremy/github_tornadoesr/data/raw/tor_test_set.csv\")\n",
    "\n",
    "\n",
    "# Get the outcomes\n",
    "test_outcome = test_df.iloc[:, [0]]\n",
    "\n",
    "# Convert the pandas column to a ndarray and then into a FloatTensor\n",
    "test_outcome_Tensor = torch.from_numpy(test_outcome.values).float()\n",
    "\n",
    "\n",
    "# Make sure the variable is right\n",
    "list(test_outcome)"
   ]
  },
  {
   "cell_type": "code",
   "execution_count": 9,
   "metadata": {},
   "outputs": [
    {
     "data": {
      "text/plain": [
       "['DURATION_SECONDS',\n",
       " 'BEGIN_LAT',\n",
       " 'BEGIN_LON',\n",
       " 'TOR_LENGTH',\n",
       " 'TOR_WIDTH',\n",
       " 'YEAR',\n",
       " 'MULTI_VORT_IND',\n",
       " 'OPEN_WATER_PROP',\n",
       " 'DEV_OPEN_PROP',\n",
       " 'DEV_LOW_PROP',\n",
       " 'DEV_MED_PROP',\n",
       " 'DEV_HIGH_PROP',\n",
       " 'BARREN_LAND_PROP',\n",
       " 'DECID_FOREST_PROP',\n",
       " 'EVERGR_FOREST_PROP',\n",
       " 'MIXED_FOREST_PROP',\n",
       " 'SHRUB_SCRUB_PROP',\n",
       " 'GRASS_LAND_PROP',\n",
       " 'PASTURE_HAY_PROP',\n",
       " 'CULT_CROPS_PROP',\n",
       " 'WOOD_WETLAND_PROP',\n",
       " 'HERB_WETLAND_PROP',\n",
       " 'INCOME',\n",
       " 'MOB_HOME_DENS',\n",
       " 'POP_DENS',\n",
       " 'TOR_AREA',\n",
       " 'TOT_DEV_INT',\n",
       " 'TOT_WOOD_AREA',\n",
       " 'WOOD_DEV_INT',\n",
       " 'EXP_INC_AREA',\n",
       " 'DAY_OF_YEAR',\n",
       " 'MONTH',\n",
       " 'STATE_RANK',\n",
       " 'TIME']"
      ]
     },
     "execution_count": 9,
     "metadata": {},
     "output_type": "execute_result"
    }
   ],
   "source": [
    "# Get the test set predictors\n",
    "test_predictors = test_df.iloc[:, 1:]\n",
    "\n",
    "# Make the test set predictors into a numpy array\n",
    "test_predictors_Tensor = torch.from_numpy(test_predictors.values).float()\n",
    "\n",
    "\n",
    "# Make sure the variables are right\n",
    "list(test_predictors)"
   ]
  },
  {
   "cell_type": "markdown",
   "metadata": {},
   "source": [
    "### Convert property damage to binary variable: no damage or damage"
   ]
  },
  {
   "cell_type": "code",
   "execution_count": 10,
   "metadata": {
    "collapsed": true
   },
   "outputs": [],
   "source": [
    "def convert_prop_dam_to_binary(property_damage_values):\n",
    "    \n",
    "    # This function will convert continuous property damage values to binary values defining whether\n",
    "        # or not a tornado caused any damage\n",
    "    # property_damage_values = a PyTorch Tensor containing property damage values\n",
    "    # Returns as PyTorch Tensor of binary values\n",
    "    \n",
    "    \n",
    "    # Get the Tensor as a ndarray \n",
    "    prop_dam_array = property_damage_values.numpy()\n",
    "    \n",
    "    # For-loop to convert to binary\n",
    "    for i in list(range(len(prop_dam_array))):\n",
    "        \n",
    "        if (prop_dam_array[i] == prop_dam_array.min())[0]:\n",
    "            \n",
    "            prop_dam_array[i] = 0\n",
    "            \n",
    "        else:\n",
    "            \n",
    "            prop_dam_array[i] = 1\n",
    "     \n",
    "    # Convert ndarray to Tensor\n",
    "    prop_dam_Tensor = torch.from_numpy(prop_dam_array)\n",
    "    \n",
    "    # Return Tensor\n",
    "    return(prop_dam_Tensor)"
   ]
  },
  {
   "cell_type": "code",
   "execution_count": 11,
   "metadata": {
    "collapsed": true
   },
   "outputs": [],
   "source": [
    "# Convert the training data\n",
    "outcome_Tensor = convert_prop_dam_to_binary(outcome_Tensor)\n",
    "\n",
    "# And the cv data\n",
    "cv_outcome_Tensor = convert_prop_dam_to_binary(cv_outcome_Tensor)\n",
    "\n",
    "# And the test data\n",
    "test_outcome_Tensor = convert_prop_dam_to_binary(test_outcome_Tensor)"
   ]
  },
  {
   "cell_type": "markdown",
   "metadata": {},
   "source": [
    "## 1. One-hidden-layer, classifier neural network"
   ]
  },
  {
   "cell_type": "markdown",
   "metadata": {},
   "source": [
    "Define the model architecture"
   ]
  },
  {
   "cell_type": "code",
   "execution_count": 12,
   "metadata": {
    "collapsed": true
   },
   "outputs": [],
   "source": [
    "# Define the neural network\n",
    "class Net(torch.nn.Module):\n",
    "    \n",
    "    def __init__(self):\n",
    "        super(Net, self).__init__()\n",
    "        self.fc1 = torch.nn.Linear(34, 17)\n",
    "        self.fc2 = torch.nn.Linear(17, 1)\n",
    "        \n",
    "        \n",
    "    def forward(self, x):\n",
    "        x = torch.nn.functional.relu(self.fc1(x))\n",
    "        x = torch.nn.functional.sigmoid(self.fc2(x))\n",
    "        return(x)\n",
    "\n",
    "\n",
    "# Make it\n",
    "model = Net()"
   ]
  },
  {
   "cell_type": "markdown",
   "metadata": {},
   "source": [
    "Define the loss function"
   ]
  },
  {
   "cell_type": "code",
   "execution_count": 13,
   "metadata": {
    "collapsed": true
   },
   "outputs": [],
   "source": [
    "loss_fn = torch.nn.BCELoss(size_average = False)"
   ]
  },
  {
   "cell_type": "markdown",
   "metadata": {},
   "source": [
    "Defining a function to setup and train the models. It will also produce a loss versus iteration plot"
   ]
  },
  {
   "cell_type": "code",
   "execution_count": 14,
   "metadata": {
    "collapsed": true
   },
   "outputs": [],
   "source": [
    "def train_neural_net(model, train_outcomes, train_inputs,\n",
    "                     cv_outcomes, cv_inputs):\n",
    "    \n",
    "    # This function will train the neural network and produce a loss versus iteration plot\n",
    "    # model = the model architecture, a Net class\n",
    "    # train_outcomes = the right answers, PyTorch Tensor\n",
    "    # train_inputs = what we're using to get to the right answers, PyTorch Tensor\n",
    "    # cv_outcomes = the right answers of the new data, PyTorch Tensor\n",
    "    # cv_inputs = what we're using to get the new right answers, PyTorch Tensor\n",
    "    # Returns a plot and a trained Net\n",
    "    \n",
    "    \n",
    "    # Make the outcomes into a Torch Variable\n",
    "    outcome_Variable = Variable(train_outcomes)\n",
    "    \n",
    "    # Make the cv outcomes into a Torch Variable\n",
    "    cv_outcome_Variable = Variable(cv_outcomes,\n",
    "                                   requires_grad = False)\n",
    "    \n",
    "    # Make the predictors into a Torch Variable\n",
    "    predictors_Variable = Variable(train_inputs,\n",
    "                                   requires_grad = False)\n",
    "    \n",
    "    # Make the cv predictors into a Torch Variable\n",
    "    cv_predictors_Variable = Variable(cv_inputs,\n",
    "                                      requires_grad = False)\n",
    "    \n",
    "    \n",
    "    # Make an empty list to add to for each iteration\n",
    "    current_loss_value_mini = []\n",
    "    \n",
    "    # For the cv too\n",
    "    current_cv_loss_value = []\n",
    "    \n",
    "    \n",
    "    # Set the optimizer\n",
    "    optimizer = torch.optim.Adagrad(model.parameters(), lr = 1e-2)\n",
    "    \n",
    "    \n",
    "    # Train the neural network\n",
    "    for t in range(20000):\n",
    "        \n",
    "        # Get the current mini-batch indices\n",
    "        indices = torch.randperm(len(predictors_Tensor))[0:50]\n",
    "        \n",
    "        # Get the current mini-batches\n",
    "        predictors_mini = predictors_Variable[indices]\n",
    "        outcome_mini = outcome_Variable[indices]\n",
    "        \n",
    "        # Get the current predictions\n",
    "        current_pred_mini = model(predictors_mini)\n",
    "        cv_pred = model(cv_predictors_Variable)\n",
    "        \n",
    "        # Compute current losses and and append that to the empty list\n",
    "        current_loss_mini = loss_fn(current_pred_mini, outcome_mini)\n",
    "        current_loss_value_mini.append(current_loss_mini.data[0])\n",
    "        \n",
    "        current_cv_loss = loss_fn(cv_pred, cv_outcome_Variable)\n",
    "        current_cv_loss_value.append(current_cv_loss.data[0])\n",
    "        \n",
    "        # Zero the gradients before backwards pass\n",
    "        optimizer.zero_grad()\n",
    "        \n",
    "        # Backwards pass\n",
    "        current_loss_mini.backward()\n",
    "        \n",
    "        # Update model parameters\n",
    "        optimizer.step()\n",
    "    \n",
    "    \n",
    "    # Get iterations as a list for x-axis of plot\n",
    "    iterations = list(range(0, 20000))\n",
    "    \n",
    "    \n",
    "    # Convert total square error to mean square error\n",
    "    mse = (np.asarray(current_loss_value_mini) / len(predictors_mini)).tolist()\n",
    "    \n",
    "    # For cv too\n",
    "    mse_cv = (np.asarray(current_cv_loss_value) / len(cv_predictors_Variable)).tolist()\n",
    "    \n",
    "    \n",
    "    # Plot loss versus iteration\n",
    "    plt.plot(iterations, mse)\n",
    "    plt.plot(iterations, mse_cv, \"r-\")\n",
    "    plt.xlabel(\"Iteration\", size = 14)\n",
    "    plt.ylabel(\"Loss Value\", size = 14)\n",
    "    plt.xticks(fontsize = 12)\n",
    "    plt.yticks(fontsize = 12)\n",
    "    plt.title(\"How'd the Optimizing Go?\", size = 16)"
   ]
  },
  {
   "cell_type": "markdown",
   "metadata": {},
   "source": [
    "Train the first model.\n",
    "\n",
    "The plot will display how well it optimized. The blue line is the mini batch values that the model was optimized on, while the red line is new (cross-validation) data."
   ]
  },
  {
   "cell_type": "code",
   "execution_count": 15,
   "metadata": {},
   "outputs": [
    {
     "data": {
      "image/png": "[encoded data removed]",
      "text/plain": [
       "<matplotlib.figure.Figure at 0x7fa2653b7c88>"
      ]
     },
     "metadata": {},
     "output_type": "display_data"
    }
   ],
   "source": [
    "train_neural_net(model, outcome_Tensor, predictors_Tensor,\n",
    "                 cv_outcome_Tensor, cv_predictors_Tensor)"
   ]
  },
  {
   "cell_type": "markdown",
   "metadata": {},
   "source": [
    "How'd the model perform on the data used to make it?"
   ]
  },
  {
   "cell_type": "code",
   "execution_count": 69,
   "metadata": {},
   "outputs": [],
   "source": [
    "def plot_train_perf(train_predictors, train_obs):\n",
    "    \n",
    "    # Plots how well the model performs on training data\n",
    "    # train_predictors = the values that the model predicts from, PyTorch Tensor\n",
    "    # train_obs = what the model would ideally predict, PyTorch Tensor\n",
    "    # Returns a plot\n",
    "    \n",
    "    \n",
    "    # Get the predictions\n",
    "    train_predictions = model(Variable(train_predictors, requires_grad = False))\n",
    "    \n",
    "    # Convert that to a numpy array\n",
    "    train_predictions = train_predictions.data.numpy()\n",
    "    \n",
    "    # Put it in log-transformed scale and convert it to a list\n",
    "    train_predictions = train_predictions.tolist()\n",
    "    \n",
    "    \n",
    "    # Put the observed outcomes in log-transformed scale\n",
    "    # and convert it to a list\n",
    "    train_obs = train_obs.numpy().tolist()\n",
    "    \n",
    "    \n",
    "    # Plot it\n",
    "    plt.scatter(train_obs, train_predictions, alpha = 0.0025, facecolor = 'k')\n",
    "    plt.axhline(y = 0.5, color = 'r')\n",
    "    axes = plt.gca()\n",
    "    plt.xticks(fontsize = 12)\n",
    "    plt.yticks(fontsize = 12)\n",
    "    axes.set_xlabel(\"Observed Label\", size = 14)\n",
    "    axes.set_ylabel(\"Logistic Score\", size = 14)\n",
    "    axes.set_title(\"Model Performance on Training Data\", size = 16);"
   ]
  },
  {
   "cell_type": "code",
   "execution_count": 70,
   "metadata": {},
   "outputs": [
    {
     "data": {
      "image/png": "[encoded data removed]",
      "text/plain": [
       "<matplotlib.figure.Figure at 0x7fa2600fcbe0>"
      ]
     },
     "metadata": {},
     "output_type": "display_data"
    }
   ],
   "source": [
    "plot_train_perf(predictors_Tensor, outcome_Tensor)"
   ]
  },
  {
   "cell_type": "markdown",
   "metadata": {},
   "source": [
    "## 2. Accuracies"
   ]
  },
  {
   "cell_type": "code",
   "execution_count": 18,
   "metadata": {},
   "outputs": [
    {
     "data": {
      "text/plain": [
       "'Training set accuracy is: 0.828246508905'"
      ]
     },
     "execution_count": 18,
     "metadata": {},
     "output_type": "execute_result"
    }
   ],
   "source": [
    "# Get predicted probabilities as binary values\n",
    "model_pred = np.round(model(Variable(predictors_Tensor, requires_grad = False)).data.numpy())\n",
    "\n",
    "# Determine if those predictions are right\n",
    "number_correct_preds = (model_pred == outcome_Tensor.numpy())\n",
    "\n",
    "# Get the accuracy of those predictions\n",
    "train_accuracy = (sum(number_correct_preds) / len(number_correct_preds))[0]\n",
    "\n",
    "\n",
    "# Lets get it in words\n",
    "'Training set accuracy is: ' + str(train_accuracy)"
   ]
  },
  {
   "cell_type": "code",
   "execution_count": 19,
   "metadata": {},
   "outputs": [
    {
     "data": {
      "text/plain": [
       "'Cross-validation set accuracy is: 0.819914722849'"
      ]
     },
     "execution_count": 19,
     "metadata": {},
     "output_type": "execute_result"
    }
   ],
   "source": [
    "model_pred = np.round(model(Variable(cv_predictors_Tensor, requires_grad = False)).data.numpy())\n",
    "\n",
    "number_correct_preds = (model_pred == cv_outcome_Tensor.numpy())\n",
    "\n",
    "cv_accuracy = (sum(number_correct_preds) / len(number_correct_preds))[0]\n",
    "\n",
    "\n",
    "'Cross-validation set accuracy is: ' + str(cv_accuracy)"
   ]
  },
  {
   "cell_type": "code",
   "execution_count": 20,
   "metadata": {},
   "outputs": [
    {
     "data": {
      "text/plain": [
       "'Test set accuracy is: 0.830198143968'"
      ]
     },
     "execution_count": 20,
     "metadata": {},
     "output_type": "execute_result"
    }
   ],
   "source": [
    "model_pred = np.round(model(Variable(test_predictors_Tensor, requires_grad = False)).data.numpy())\n",
    "\n",
    "number_correct_preds = (model_pred == test_outcome_Tensor.numpy())\n",
    "\n",
    "test_accuracy = (sum(number_correct_preds) / len(number_correct_preds))[0]\n",
    "\n",
    "\n",
    "'Test set accuracy is: ' + str(test_accuracy)"
   ]
  },
  {
   "cell_type": "markdown",
   "metadata": {},
   "source": [
    "## 3. Area under ROC curve"
   ]
  },
  {
   "cell_type": "code",
   "execution_count": 56,
   "metadata": {},
   "outputs": [
    {
     "data": {
      "image/png": "[encoded data removed]",
      "text/plain": [
       "<matplotlib.figure.Figure at 0x7fa253d701d0>"
      ]
     },
     "metadata": {},
     "output_type": "display_data"
    }
   ],
   "source": [
    "# Get the false positive and true positive rates using scikit-learn\n",
    "fpr_a, tpr_a, _ = roc_curve(y_true = test_outcome_Tensor.numpy(),\n",
    "                            y_score = model(Variable(test_predictors_Tensor, requires_grad = False)).data.numpy())\n",
    "\n",
    "# Calculate the area under the curve\n",
    "area_under = auc(x = fpr_a,\n",
    "                 y = tpr_a)\n",
    "\n",
    "\n",
    "# Plot it all\n",
    "plt.plot(fpr_a, tpr_a, 'deeppink')\n",
    "plt.plot(fpr_a, fpr_a, 'black')\n",
    "plt.xlabel('False Positive Rate', size = 14)\n",
    "plt.ylabel('True Positive Rate', size = 14)\n",
    "plt.title('ROC/AUC Test Set Performance', size = 16)\n",
    "plt.text(0.26, 0.05, 'Area under Curve = %s'%(area_under), size = 13)\n",
    "axes = plt.gca()\n",
    "axes.set_xlim([0, 1])\n",
    "axes.set_ylim([0, 1]);"
   ]
  }
 ],
 "metadata": {
  "kernelspec": {
   "display_name": "Python 3",
   "language": "python",
   "name": "python3"
  },
  "language_info": {
   "codemirror_mode": {
    "name": "ipython",
    "version": 3
   },
   "file_extension": ".py",
   "mimetype": "text/x-python",
   "name": "python",
   "nbconvert_exporter": "python",
   "pygments_lexer": "ipython3",
   "version": "3.6.2"
  }
 },
 "nbformat": 4,
 "nbformat_minor": 2
}
