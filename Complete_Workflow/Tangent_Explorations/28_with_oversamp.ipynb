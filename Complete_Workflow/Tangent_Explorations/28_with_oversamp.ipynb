{
 "cells": [
  {
   "cell_type": "markdown",
   "metadata": {},
   "source": [
    "## 0. Setup"
   ]
  },
  {
   "cell_type": "code",
   "execution_count": 1,
   "metadata": {
    "collapsed": true
   },
   "outputs": [],
   "source": [
    "# Packages\n",
    "import pandas as pd\n",
    "import torch\n",
    "from torch.autograd import Variable\n",
    "import numpy as np\n",
    "import matplotlib\n",
    "import matplotlib.pyplot as plt\n",
    "plt.style.use('seaborn-whitegrid')\n",
    "%matplotlib inline\n",
    "import pylab\n",
    "import math\n",
    "pylab.rcParams['figure.figsize'] = (8.25, 6)"
   ]
  },
  {
   "cell_type": "markdown",
   "metadata": {},
   "source": [
    "Importing and formatting the training data"
   ]
  },
  {
   "cell_type": "code",
   "execution_count": 2,
   "metadata": {
    "collapsed": true
   },
   "outputs": [],
   "source": [
    "# Import data\n",
    "tor_df = pd.read_csv(\"/home/jeremy/github_tornadoesr/data/raw/tor_train_set_no_zeros.csv\")"
   ]
  },
  {
   "cell_type": "code",
   "execution_count": 3,
   "metadata": {},
   "outputs": [
    {
     "data": {
      "text/plain": [
       "['DAMAGE_PROPERTY']"
      ]
     },
     "execution_count": 3,
     "metadata": {},
     "output_type": "execute_result"
    }
   ],
   "source": [
    "# Seperating variables\n",
    "# The outcomes\n",
    "tornado_outcome = tor_df.iloc[:, [0]]\n",
    "\n",
    "\n",
    "# Make sure variable is right\n",
    "list(tornado_outcome)"
   ]
  },
  {
   "cell_type": "code",
   "execution_count": 4,
   "metadata": {},
   "outputs": [
    {
     "data": {
      "text/plain": [
       "['DURATION_SECONDS',\n",
       " 'BEGIN_LAT',\n",
       " 'BEGIN_LON',\n",
       " 'TOR_LENGTH',\n",
       " 'TOR_WIDTH',\n",
       " 'YEAR',\n",
       " 'MULTI_VORT_IND',\n",
       " 'OPEN_WATER_PROP',\n",
       " 'DEV_OPEN_PROP',\n",
       " 'DEV_LOW_PROP',\n",
       " 'DEV_MED_PROP',\n",
       " 'DEV_HIGH_PROP',\n",
       " 'BARREN_LAND_PROP',\n",
       " 'DECID_FOREST_PROP',\n",
       " 'EVERGR_FOREST_PROP',\n",
       " 'MIXED_FOREST_PROP',\n",
       " 'SHRUB_SCRUB_PROP',\n",
       " 'GRASS_LAND_PROP',\n",
       " 'PASTURE_HAY_PROP',\n",
       " 'CULT_CROPS_PROP',\n",
       " 'WOOD_WETLAND_PROP',\n",
       " 'HERB_WETLAND_PROP',\n",
       " 'INCOME',\n",
       " 'MOB_HOME_DENS',\n",
       " 'POP_DENS',\n",
       " 'TOR_AREA',\n",
       " 'TOT_DEV_INT',\n",
       " 'TOT_WOOD_AREA',\n",
       " 'WOOD_DEV_INT',\n",
       " 'EXP_INC_AREA',\n",
       " 'DAY_OF_YEAR',\n",
       " 'MONTH',\n",
       " 'STATE_RANK',\n",
       " 'TIME']"
      ]
     },
     "execution_count": 4,
     "metadata": {},
     "output_type": "execute_result"
    }
   ],
   "source": [
    "# The predictors\n",
    "tornado_predictors = tor_df.iloc[:, 1:]\n",
    "\n",
    "\n",
    "# Make sure the variables are right\n",
    "list(tornado_predictors)"
   ]
  },
  {
   "cell_type": "code",
   "execution_count": 5,
   "metadata": {
    "collapsed": true
   },
   "outputs": [],
   "source": [
    "# Make the outcomes into a numpy array\n",
    "outcome_array = tornado_outcome.values\n",
    "\n",
    "# Makes that numpy array into a torch Tensor\n",
    "outcome_Tensor = torch.from_numpy(outcome_array)\n",
    "\n",
    "\n",
    "# Make the predictors into a numpy array\n",
    "predictors_array = tornado_predictors.values\n",
    "\n",
    "# Make that numpy array into a torch Tensor\n",
    "predictors_Tensor = torch.from_numpy(predictors_array)\n",
    "\n",
    "\n",
    "# Convert those DoubleTensors to FloatTensors\n",
    "# Changing outcomes from a DoubleTensor to a FloatTensor\n",
    "outcome_Tensor = outcome_Tensor.float()\n",
    "\n",
    "# Changing predictors too\n",
    "predictors_Tensor = predictors_Tensor.float()"
   ]
  },
  {
   "cell_type": "markdown",
   "metadata": {},
   "source": [
    "Now the cross-validation data"
   ]
  },
  {
   "cell_type": "code",
   "execution_count": 6,
   "metadata": {},
   "outputs": [
    {
     "data": {
      "text/plain": [
       "['DAMAGE_PROPERTY']"
      ]
     },
     "execution_count": 6,
     "metadata": {},
     "output_type": "execute_result"
    }
   ],
   "source": [
    "# Import cross-validation data\n",
    "cv_df = pd.read_csv(\"/home/jeremy/github_tornadoesr/data/raw/tor_cv_set_no_zeros.csv\")\n",
    "\n",
    "\n",
    "# Get the outcomes\n",
    "cv_outcome = cv_df.iloc[:, [0]]\n",
    "\n",
    "# Convert the pandas column to a ndarray and then into a FloatTensor\n",
    "cv_outcome_Tensor = torch.from_numpy(cv_outcome.values).float()\n",
    "\n",
    "\n",
    "# Make sure the variable is right\n",
    "list(cv_outcome)"
   ]
  },
  {
   "cell_type": "code",
   "execution_count": 7,
   "metadata": {},
   "outputs": [
    {
     "data": {
      "text/plain": [
       "['DURATION_SECONDS',\n",
       " 'BEGIN_LAT',\n",
       " 'BEGIN_LON',\n",
       " 'TOR_LENGTH',\n",
       " 'TOR_WIDTH',\n",
       " 'YEAR',\n",
       " 'MULTI_VORT_IND',\n",
       " 'OPEN_WATER_PROP',\n",
       " 'DEV_OPEN_PROP',\n",
       " 'DEV_LOW_PROP',\n",
       " 'DEV_MED_PROP',\n",
       " 'DEV_HIGH_PROP',\n",
       " 'BARREN_LAND_PROP',\n",
       " 'DECID_FOREST_PROP',\n",
       " 'EVERGR_FOREST_PROP',\n",
       " 'MIXED_FOREST_PROP',\n",
       " 'SHRUB_SCRUB_PROP',\n",
       " 'GRASS_LAND_PROP',\n",
       " 'PASTURE_HAY_PROP',\n",
       " 'CULT_CROPS_PROP',\n",
       " 'WOOD_WETLAND_PROP',\n",
       " 'HERB_WETLAND_PROP',\n",
       " 'INCOME',\n",
       " 'MOB_HOME_DENS',\n",
       " 'POP_DENS',\n",
       " 'TOR_AREA',\n",
       " 'TOT_DEV_INT',\n",
       " 'TOT_WOOD_AREA',\n",
       " 'WOOD_DEV_INT',\n",
       " 'EXP_INC_AREA',\n",
       " 'DAY_OF_YEAR',\n",
       " 'MONTH',\n",
       " 'STATE_RANK',\n",
       " 'TIME']"
      ]
     },
     "execution_count": 7,
     "metadata": {},
     "output_type": "execute_result"
    }
   ],
   "source": [
    "# Get the validation set predictors\n",
    "cv_predictors = cv_df.iloc[:, 1:]\n",
    "\n",
    "# Make the validation set predictors into a numpy array\n",
    "cv_predictors_Tensor = torch.from_numpy(cv_predictors.values).float()\n",
    "\n",
    "\n",
    "# Make sure the variables are right\n",
    "list(cv_predictors)"
   ]
  },
  {
   "cell_type": "code",
   "execution_count": 8,
   "metadata": {},
   "outputs": [
    {
     "data": {
      "text/plain": [
       "['DAMAGE_PROPERTY']"
      ]
     },
     "execution_count": 8,
     "metadata": {},
     "output_type": "execute_result"
    }
   ],
   "source": [
    "# Import test data\n",
    "test_df = pd.read_csv(\"/home/jeremy/github_tornadoesr/data/raw/tor_test_set_no_zeros.csv\")\n",
    "\n",
    "\n",
    "# Get the outcomes\n",
    "test_outcome = test_df.iloc[:, [0]]\n",
    "\n",
    "# Convert the pandas column to a ndarray and then into a FloatTensor\n",
    "test_outcome_Tensor = torch.from_numpy(test_outcome.values).float()\n",
    "\n",
    "\n",
    "# Make sure the variable is right\n",
    "list(test_outcome)"
   ]
  },
  {
   "cell_type": "code",
   "execution_count": 9,
   "metadata": {},
   "outputs": [
    {
     "data": {
      "text/plain": [
       "['DURATION_SECONDS',\n",
       " 'BEGIN_LAT',\n",
       " 'BEGIN_LON',\n",
       " 'TOR_LENGTH',\n",
       " 'TOR_WIDTH',\n",
       " 'YEAR',\n",
       " 'MULTI_VORT_IND',\n",
       " 'OPEN_WATER_PROP',\n",
       " 'DEV_OPEN_PROP',\n",
       " 'DEV_LOW_PROP',\n",
       " 'DEV_MED_PROP',\n",
       " 'DEV_HIGH_PROP',\n",
       " 'BARREN_LAND_PROP',\n",
       " 'DECID_FOREST_PROP',\n",
       " 'EVERGR_FOREST_PROP',\n",
       " 'MIXED_FOREST_PROP',\n",
       " 'SHRUB_SCRUB_PROP',\n",
       " 'GRASS_LAND_PROP',\n",
       " 'PASTURE_HAY_PROP',\n",
       " 'CULT_CROPS_PROP',\n",
       " 'WOOD_WETLAND_PROP',\n",
       " 'HERB_WETLAND_PROP',\n",
       " 'INCOME',\n",
       " 'MOB_HOME_DENS',\n",
       " 'POP_DENS',\n",
       " 'TOR_AREA',\n",
       " 'TOT_DEV_INT',\n",
       " 'TOT_WOOD_AREA',\n",
       " 'WOOD_DEV_INT',\n",
       " 'EXP_INC_AREA',\n",
       " 'DAY_OF_YEAR',\n",
       " 'MONTH',\n",
       " 'STATE_RANK',\n",
       " 'TIME']"
      ]
     },
     "execution_count": 9,
     "metadata": {},
     "output_type": "execute_result"
    }
   ],
   "source": [
    "# Get the test set predictors\n",
    "test_predictors = test_df.iloc[:, 1:]\n",
    "\n",
    "# Make the test set predictors into a numpy array\n",
    "test_predictors_Tensor = torch.from_numpy(test_predictors.values).float()\n",
    "\n",
    "\n",
    "# Make sure the variables are right\n",
    "list(test_predictors)"
   ]
  },
  {
   "cell_type": "code",
   "execution_count": 10,
   "metadata": {
    "collapsed": true
   },
   "outputs": [],
   "source": [
    "unproc_tor_df = pd.read_csv(\"/home/jeremy/github_tornadoesr/data/raw/tor_data_with_interact_effects.csv\")"
   ]
  },
  {
   "cell_type": "code",
   "execution_count": 11,
   "metadata": {
    "collapsed": true
   },
   "outputs": [],
   "source": [
    "mean_log_dam = np.mean(np.log(unproc_tor_df['DAMAGE_PROPERTY'] + 1))\n",
    "stand_dev_log_dam = np.std(np.log(unproc_tor_df['DAMAGE_PROPERTY'] + 1))"
   ]
  },
  {
   "cell_type": "code",
   "execution_count": 12,
   "metadata": {
    "collapsed": true
   },
   "outputs": [],
   "source": [
    "outcome_Tensor_nat = ((outcome_Tensor * stand_dev_log_dam) + mean_log_dam)\n",
    "outcome_Tensor_nat = np.exp(outcome_Tensor_nat)\n",
    "\n",
    "approximately_one = outcome_Tensor_nat.min()\n",
    "\n",
    "outcome_Tensor_nat = outcome_Tensor_nat - approximately_one"
   ]
  },
  {
   "cell_type": "code",
   "execution_count": 13,
   "metadata": {
    "collapsed": true
   },
   "outputs": [],
   "source": [
    "unique_vals = np.unique(outcome_Tensor_nat.numpy(), return_counts = True)[0]\n",
    "\n",
    "unique_vals_count = np.unique(outcome_Tensor_nat.numpy(), return_counts = True)[1]\n",
    "\n",
    "prob_df = pd.DataFrame({'unique_vals':unique_vals,\n",
    "                        'unique_vals_count':unique_vals_count})"
   ]
  },
  {
   "cell_type": "code",
   "execution_count": 14,
   "metadata": {
    "collapsed": true
   },
   "outputs": [],
   "source": [
    "pd.options.mode.chained_assignment = None"
   ]
  },
  {
   "cell_type": "code",
   "execution_count": 15,
   "metadata": {
    "collapsed": true
   },
   "outputs": [],
   "source": [
    "df1 = prob_df[prob_df['unique_vals'] < 50000]\n",
    "df1['unique_vals_prob'] = np.repeat(0.10, len(df1))\n",
    "df1['fixed_prob'] = list(df1['unique_vals_prob'] / sum(df1['unique_vals_count']))\n",
    "\n",
    "df2 = prob_df[(prob_df['unique_vals'] >= 50000) & (prob_df['unique_vals'] < 1000000)]\n",
    "df2['unique_vals_prob'] = np.repeat(0.20, len(df2))\n",
    "df2['fixed_prob'] = list(df2['unique_vals_prob'] / sum(df2['unique_vals_count']))\n",
    "              \n",
    "df3 = prob_df[(prob_df['unique_vals'] >= 1000000) & (prob_df['unique_vals'] < 50000000)]\n",
    "df3['unique_vals_prob'] = np.repeat(0.30, len(df3))\n",
    "df3['fixed_prob'] = list(df3['unique_vals_prob'] / sum(df3['unique_vals_count']))\n",
    "              \n",
    "df4 = prob_df[prob_df['unique_vals'] >= 50000000]\n",
    "df4['unique_vals_prob'] = np.repeat(0.40, len(df4))\n",
    "df4['fixed_prob'] = list(df4['unique_vals_prob'] / sum(df4['unique_vals_count']))\n",
    "      \n",
    "              \n",
    "fixed_prob_df = pd.concat([df1, df2, df3, df4])"
   ]
  },
  {
   "cell_type": "code",
   "execution_count": 16,
   "metadata": {
    "collapsed": true
   },
   "outputs": [],
   "source": [
    "remade_tor_df = pd.DataFrame(outcome_Tensor_nat.numpy())\n",
    "\n",
    "remade_tor_df = pd.concat([remade_tor_df,\n",
    "                           pd.DataFrame(predictors_Tensor.numpy())],\n",
    "                          axis = 1)\n",
    "\n",
    "remade_tor_df.columns = tor_df.columns"
   ]
  },
  {
   "cell_type": "code",
   "execution_count": 17,
   "metadata": {
    "collapsed": true
   },
   "outputs": [],
   "source": [
    "remade_tor_df['fixed_prob'] = remade_tor_df['DAMAGE_PROPERTY']\n",
    "\n",
    "remade_tor_df['fixed_prob'] = remade_tor_df['fixed_prob'].replace(fixed_prob_df.set_index('unique_vals')['fixed_prob'])\n",
    "\n",
    "\n",
    "remade_tor_df['easy_index'] = list(range(0, len(remade_tor_df)))"
   ]
  },
  {
   "cell_type": "markdown",
   "metadata": {},
   "source": [
    "## 1. Remake the Best Neural Network"
   ]
  },
  {
   "cell_type": "markdown",
   "metadata": {},
   "source": [
    "Define the model architecture"
   ]
  },
  {
   "cell_type": "code",
   "execution_count": 18,
   "metadata": {
    "collapsed": true
   },
   "outputs": [],
   "source": [
    "# Define the neural network\n",
    "class Net(torch.nn.Module):\n",
    "    \n",
    "    def __init__(self):\n",
    "        super(Net, self).__init__()\n",
    "        self.fc1 = torch.nn.Linear(34, 50)\n",
    "        self.fc2 = torch.nn.Linear(50, 50)\n",
    "        self.fc3 = torch.nn.Linear(50, 1)\n",
    "        \n",
    "    def forward(self, x):\n",
    "        x = torch.nn.functional.relu(self.fc1(x))\n",
    "        x = torch.nn.functional.dropout(x, p = 0.10, training = self.training)\n",
    "        x = torch.nn.functional.relu(self.fc2(x))\n",
    "        x = torch.nn.functional.dropout(x, p = 0.10, training = self.training)\n",
    "        x = self.fc3(x)\n",
    "        return(x)\n",
    "\n",
    "\n",
    "# Make it\n",
    "model = Net()"
   ]
  },
  {
   "cell_type": "markdown",
   "metadata": {},
   "source": [
    "Define the loss function"
   ]
  },
  {
   "cell_type": "code",
   "execution_count": 19,
   "metadata": {
    "collapsed": true
   },
   "outputs": [],
   "source": [
    "loss_fn = torch.nn.MSELoss(size_average = False)"
   ]
  },
  {
   "cell_type": "markdown",
   "metadata": {},
   "source": [
    "Defining a function to setup and train the models. It will also produce a loss versus iteration plot"
   ]
  },
  {
   "cell_type": "code",
   "execution_count": 20,
   "metadata": {
    "collapsed": true
   },
   "outputs": [],
   "source": [
    "def train_neural_net(model, train_outcomes, train_inputs,\n",
    "                     cv_outcomes, cv_inputs):\n",
    "    \n",
    "    # This function will train the neural network and produce a loss versus iteration plot\n",
    "    # model = the model architecture, a Net class\n",
    "    # train_outcomes = the right answers, PyTorch Tensor\n",
    "    # train_inputs = what we're using to get to the right answers, PyTorch Tensor\n",
    "    # cv_outcomes = the right answers of the new data, PyTorch Tensor\n",
    "    # cv_inputs = what we're using to get the new right answers, PyTorch Tensor\n",
    "    # Returns a plot and a trained Net\n",
    "    \n",
    "    \n",
    "    # Make the outcomes into a Torch Variable\n",
    "    outcome_Variable = Variable(train_outcomes)\n",
    "    \n",
    "    # Make the cv outcomes into a Torch Variable\n",
    "    cv_outcome_Variable = Variable(cv_outcomes,\n",
    "                                   requires_grad = False)\n",
    "    \n",
    "    # Make the predictors into a Torch Variable\n",
    "    predictors_Variable = Variable(train_inputs,\n",
    "                                   requires_grad = False)\n",
    "    \n",
    "    # Make the cv predictors into a Torch Variable\n",
    "    cv_predictors_Variable = Variable(cv_inputs,\n",
    "                                      requires_grad = False)\n",
    "    \n",
    "    \n",
    "    # Make an empty list to add to for each iteration\n",
    "    current_loss_value_mini = []\n",
    "    \n",
    "    # For the cv too\n",
    "    current_cv_loss_value = []\n",
    "    \n",
    "    \n",
    "    # Set the optimizer\n",
    "    optimizer = torch.optim.Adagrad(model.parameters(), lr = 1e-2)\n",
    "    \n",
    "    \n",
    "    # Train the neural network\n",
    "    for t in range(20000):\n",
    "        \n",
    "        # Get the current mini-batch indices\n",
    "        indices = torch.LongTensor(np.random.choice(remade_tor_df['easy_index'],\n",
    "                                                    p = remade_tor_df['fixed_prob'],\n",
    "                                                    size = 50, replace = False))\n",
    "        \n",
    "        # Get the current mini-batches\n",
    "        predictors_mini = predictors_Variable[indices]\n",
    "        outcome_mini = outcome_Variable[indices]\n",
    "        \n",
    "        # Get the current predictions\n",
    "        model.train()\n",
    "        current_pred_mini = model(predictors_mini)\n",
    "        model.eval()\n",
    "        cv_pred = model(cv_predictors_Variable)\n",
    "        model.train()\n",
    "        \n",
    "        # Compute current losses and and append that to the empty list\n",
    "        current_loss_mini = loss_fn(current_pred_mini, outcome_mini)\n",
    "        current_loss_value_mini.append(current_loss_mini.data[0])\n",
    "        \n",
    "        current_cv_loss = loss_fn(cv_pred, cv_outcome_Variable)\n",
    "        current_cv_loss_value.append(current_cv_loss.data[0])\n",
    "        \n",
    "        # Zero the gradients before backwards pass\n",
    "        optimizer.zero_grad()\n",
    "        \n",
    "        # Backwards pass\n",
    "        current_loss_mini.backward()\n",
    "        \n",
    "        # Update model parameters\n",
    "        optimizer.step()\n",
    "    \n",
    "    \n",
    "    # Get iterations as a list for x-axis of plot\n",
    "    iterations = list(range(0, 20000))\n",
    "    \n",
    "    \n",
    "    # Convert total square error to mean square error\n",
    "    mse = (np.asarray(current_loss_value_mini) / len(predictors_mini)).tolist()\n",
    "    \n",
    "    # For cv too\n",
    "    mse_cv = (np.asarray(current_cv_loss_value) / len(cv_predictors_Variable)).tolist()\n",
    "    \n",
    "    \n",
    "    # Plot loss versus iteration\n",
    "    plt.plot(iterations, mse)\n",
    "    plt.plot(iterations, mse_cv, \"r-\")\n",
    "    plt.xlabel(\"Iteration\", size = 14)\n",
    "    plt.ylabel(\"Loss Value\", size = 14)\n",
    "    plt.xticks(fontsize = 12)\n",
    "    plt.yticks(fontsize = 12)\n",
    "    plt.title(\"How'd the Optimizing Go?\", size = 16)"
   ]
  },
  {
   "cell_type": "markdown",
   "metadata": {},
   "source": [
    "Train the first model.\n",
    "\n",
    "The plot will display how well it optimized. The blue line is the mini batch values that the model was optimized on, while the red line is new (cross-validation) data."
   ]
  },
  {
   "cell_type": "code",
   "execution_count": 21,
   "metadata": {},
   "outputs": [
    {
     "data": {
      "image/png": "[encoded data removed]",
      "text/plain": [
       "<matplotlib.figure.Figure at 0x7fde379cd080>"
      ]
     },
     "metadata": {},
     "output_type": "display_data"
    }
   ],
   "source": [
    "train_neural_net(model, outcome_Tensor, predictors_Tensor,\n",
    "                 cv_outcome_Tensor, cv_predictors_Tensor)"
   ]
  },
  {
   "cell_type": "markdown",
   "metadata": {},
   "source": [
    "How'd the model perform on the data used to make it?"
   ]
  },
  {
   "cell_type": "code",
   "execution_count": 22,
   "metadata": {
    "collapsed": true
   },
   "outputs": [],
   "source": [
    "def plot_train_perf(train_predictors, train_obs):\n",
    "    \n",
    "    # Plots how well the model performs on training data\n",
    "    # train_predictors = the values that the model predicts from, PyTorch Tensor\n",
    "    # train_obs = what the model would ideally predict, PyTorch Tensor\n",
    "    # Returns a plot\n",
    "    \n",
    "    \n",
    "    # Set the model in evaluation mode\n",
    "    model.eval()\n",
    "    \n",
    "    # Get the predictions\n",
    "    train_predictions = model(Variable(train_predictors, requires_grad = False))\n",
    "    \n",
    "    # Convert that to a numpy array\n",
    "    train_predictions = train_predictions.data.numpy()\n",
    "    \n",
    "    # Put it in log-transformed scale and convert it to a list\n",
    "    train_predictions = (train_predictions*5.407597 + 7.688844).tolist()\n",
    "    \n",
    "    \n",
    "    # Put the observed outcomes in log-transformed scale\n",
    "    # and convert it to a list\n",
    "    train_obs = (train_obs.numpy()*5.407597 + 7.688844).tolist()\n",
    "    \n",
    "    \n",
    "    # Plot it\n",
    "    plt.scatter(train_obs, train_predictions, facecolors = \"none\", edgecolors = \"k\")\n",
    "    axes = plt.gca()\n",
    "    axes.set_xlim([-1, 24])\n",
    "    axes.set_ylim([-1, 24])\n",
    "    axes.set_xticks([0, 3, 6, 9, 12, 15, 18, 21, 24])\n",
    "    axes.set_yticks([0, 3, 6, 9, 12, 15, 18, 21, 24])\n",
    "    plt.xticks(fontsize = 12)\n",
    "    plt.yticks(fontsize = 12)\n",
    "    plt.plot([-1, 24], [-1, 24], 'k-', lw = 2)\n",
    "    axes.set_xlabel(\"Observed (Log-Transformed US Dollars + 1)\", size = 14)\n",
    "    axes.set_ylabel(\"Predicted (Log-Transformed US Dollars + 1)\", size = 14)\n",
    "    axes.set_title(\"Model Performance on Training Data\", size = 16)"
   ]
  },
  {
   "cell_type": "code",
   "execution_count": 23,
   "metadata": {},
   "outputs": [
    {
     "data": {
      "image/png": "[encoded data removed]",
      "text/plain": [
       "<matplotlib.figure.Figure at 0x7fde34085630>"
      ]
     },
     "metadata": {},
     "output_type": "display_data"
    }
   ],
   "source": [
    "plot_train_perf(predictors_Tensor, outcome_Tensor)"
   ]
  },
  {
   "cell_type": "markdown",
   "metadata": {},
   "source": [
    "### 1.1 Performance Metrics"
   ]
  },
  {
   "cell_type": "markdown",
   "metadata": {},
   "source": [
    "We're really interested in how it does on new data, so let's get some metrics of its performance on the new data.\n",
    "\n",
    "First: Mean squared error (MSE)"
   ]
  },
  {
   "cell_type": "code",
   "execution_count": 24,
   "metadata": {
    "collapsed": true
   },
   "outputs": [],
   "source": [
    "def compute_MSE(predictors, observed_outcomes):\n",
    "    \n",
    "    # Computes the mean squared error of the model\n",
    "    # predictors = the variables and values used in prediction\n",
    "    # observed_outcomes = what the prediction would ideally yield\n",
    "    # Returns a PyTorch Variable\n",
    "    \n",
    "    \n",
    "    # Set the model in evaluation mode\n",
    "    model.eval()\n",
    "    \n",
    "    # Get the validation set predictions\n",
    "    cv_predictions = model(Variable(predictors, requires_grad = False))\n",
    "    \n",
    "    # Get the validation set outcomes\n",
    "    cv_outcomes = Variable(observed_outcomes)\n",
    "    \n",
    "    \n",
    "    # Get the loss - (total) residual sum of squares\n",
    "    total_SE = loss_fn(cv_predictions, cv_outcomes)\n",
    "    \n",
    "    # Average that to get mean square error\n",
    "    mean_SE = total_SE / len(predictors)\n",
    "    return(mean_SE)"
   ]
  },
  {
   "cell_type": "code",
   "execution_count": 25,
   "metadata": {
    "collapsed": true
   },
   "outputs": [],
   "source": [
    "MSE = compute_MSE(cv_predictors_Tensor, cv_outcome_Tensor)"
   ]
  },
  {
   "cell_type": "markdown",
   "metadata": {},
   "source": [
    "Second: MSE for observed values over 1 million dollars"
   ]
  },
  {
   "cell_type": "code",
   "execution_count": 26,
   "metadata": {
    "collapsed": true
   },
   "outputs": [],
   "source": [
    "def compute_MSE_over_1mil(predictors, observed_outcomes):\n",
    "    \n",
    "    # Computes the mean squared error on observed values of over 1 million dollars\n",
    "    # predictors = the variables and values used in prediction, PyTorch Tensor\n",
    "    # observed_outcomes = what the prediction would ideally yield, PyTorch Tensor\n",
    "    # Returns a PyTorch Variable\n",
    "    \n",
    "    \n",
    "    # Set the model in evaluation mode\n",
    "    model.eval()\n",
    "    \n",
    "    # Getting the model-ready equivalent of 1 million\n",
    "    one_million = (np.log(1e6 + 1) - 7.688844) / 5.407597\n",
    "    \n",
    "    # Combining predictions and observations into a DataFrame\n",
    "    df = pd.DataFrame(model(Variable(predictors)).data.numpy())\n",
    "    df.columns = ['predicted']\n",
    "    df['observed'] = observed_outcomes.numpy()\n",
    "    \n",
    "    # Only keeping rows which contain observed values greater than 1 million dollars\n",
    "    df = df.loc[df['observed'] >= one_million]\n",
    "    \n",
    "    # Making those columns model-ready\n",
    "    predicted = Variable(torch.from_numpy(np.asarray(df['predicted'])))\n",
    "    observed = Variable(torch.from_numpy(np.asarray(df['observed'])))\n",
    "    \n",
    "    # Get the MSE\n",
    "    total_SE = loss_fn(predicted, observed)\n",
    "    mean_SE = total_SE / len(df['observed'])\n",
    "    return(mean_SE)"
   ]
  },
  {
   "cell_type": "code",
   "execution_count": 27,
   "metadata": {
    "collapsed": true
   },
   "outputs": [],
   "source": [
    "MSE_over_1mil = compute_MSE_over_1mil(cv_predictors_Tensor, cv_outcome_Tensor)"
   ]
  },
  {
   "cell_type": "markdown",
   "metadata": {},
   "source": [
    "Third: R<sup>2</sup> (R-squared)"
   ]
  },
  {
   "cell_type": "code",
   "execution_count": 28,
   "metadata": {
    "collapsed": true
   },
   "outputs": [],
   "source": [
    "def compute_R_squared(predictors, observed_outcomes):\n",
    "    \n",
    "    # Computes R-squared of the model\n",
    "    # predictors = the variables and values used in prediction, PyTorch Tensor\n",
    "    # observed_outcomes = what the prediction would ideally yield, PyTorch Tensor\n",
    "    # Returns a PyTorch Variable\n",
    "    \n",
    "    \n",
    "    # Set the model in evaluation mode\n",
    "    model.eval()\n",
    "    \n",
    "    # Get the mean of the observed outcomes\n",
    "    observed_mean = (sum(observed_outcomes) / len(observed_outcomes)).numpy()[0]\n",
    "    \n",
    "    # Fill an ndarray with that\n",
    "    valid_outcomes_mean = np.repeat(observed_mean, len(observed_outcomes))\n",
    "    \n",
    "    # Convert that to a Variable\n",
    "    valid_outcomes_mean = Variable(torch.from_numpy(valid_outcomes_mean))\n",
    "    \n",
    "    \n",
    "    # Compute total sum of squares\n",
    "    TSS = loss_fn(valid_outcomes_mean, Variable(observed_outcomes))\n",
    "    \n",
    "    \n",
    "    # Compute residual sum of squares\n",
    "    RSS = loss_fn(model(Variable(predictors)), Variable(observed_outcomes))\n",
    "    \n",
    "    \n",
    "    # Compute R-squared\n",
    "    R_squared = 1 - (RSS / TSS)\n",
    "    return(R_squared)"
   ]
  },
  {
   "cell_type": "code",
   "execution_count": 29,
   "metadata": {
    "collapsed": true
   },
   "outputs": [],
   "source": [
    "R_squared = compute_R_squared(cv_predictors_Tensor, cv_outcome_Tensor)"
   ]
  },
  {
   "cell_type": "markdown",
   "metadata": {},
   "source": [
    "### 1.2 Performance Visualization"
   ]
  },
  {
   "cell_type": "markdown",
   "metadata": {},
   "source": [
    "In log-transformed space, plot predicted values versus observed values for new data"
   ]
  },
  {
   "cell_type": "code",
   "execution_count": 30,
   "metadata": {
    "collapsed": true
   },
   "outputs": [],
   "source": [
    "def plot_cross_valid_perf(cv_predictors, cv_obs):\n",
    "    \n",
    "    # Plots how well the model performs on new data\n",
    "    # cv_pred = the values that the model predicts from, PyTorch Tensor\n",
    "    # cv_obs = what the model would ideally predict, PyTorch Tensor\n",
    "    # Returns a plot\n",
    "    \n",
    "    \n",
    "    # Set the model in evaluation mode\n",
    "    model.eval()\n",
    "    \n",
    "    # Convert to a PyTorch Variable and get the predictions\n",
    "    cv_predictions = model(Variable(cv_predictors, requires_grad = False))\n",
    "    \n",
    "    # Convert that to a numpy array\n",
    "    cv_predictions = cv_predictions.data.numpy()\n",
    "    \n",
    "    # Put it in log-transformed scale and convert it to a list\n",
    "    cv_predictions = (cv_predictions*5.407597 + 7.688844).tolist()\n",
    "    \n",
    "    \n",
    "    # Put the observed outcomes in log-transformed scale\n",
    "    # and convert it to a list\n",
    "    cv_obs = (cv_obs.numpy()*5.407597 + 7.688844).tolist()\n",
    "    \n",
    "    \n",
    "    # Plot it\n",
    "    plt.scatter(cv_obs, cv_predictions, facecolors = \"none\", edgecolors = \"k\")\n",
    "    axes = plt.gca()\n",
    "    axes.set_xlim([-1, 24])\n",
    "    axes.set_ylim([-1, 24])\n",
    "    axes.set_xticks([0, 3, 6, 9, 12, 15, 18, 21, 24])\n",
    "    axes.set_yticks([0, 3, 6, 9, 12, 15, 18, 21, 24])\n",
    "    plt.xticks(fontsize = 12)\n",
    "    plt.yticks(fontsize = 12)\n",
    "    plt.plot([-1, 24], [-1, 24], 'k-', lw = 2)\n",
    "    axes.set_xlabel(\"Observed (Log-Transformed US Dollars + 1)\", size = 14)\n",
    "    axes.set_ylabel(\"Predicted (Log-Transformed US Dollars + 1)\", size = 14)\n",
    "    axes.set_ylabel(\"Predicted (Log-Transformed US Dollars + 1)\")\n",
    "    axes.set_title(\"Model Performance on Cross-Validation Data\", size = 16)\n",
    "    plt.text(0.5, 22, r\"$R^2$ = %s\"%(R_squared.data.numpy()[0]), size = 12)\n",
    "    plt.text(0.5, 20, \"MSE = %s\"%(MSE.data.numpy()[0]), size = 12)\n",
    "    plt.text(0.5, 18, \"MSE over 1M = %s\"%(MSE_over_1mil.data.numpy()[0]), size = 12)"
   ]
  },
  {
   "cell_type": "code",
   "execution_count": 31,
   "metadata": {},
   "outputs": [
    {
     "data": {
      "image/png": "[encoded data removed]",
      "text/plain": [
       "<matplotlib.figure.Figure at 0x7fde341c2f60>"
      ]
     },
     "metadata": {},
     "output_type": "display_data"
    }
   ],
   "source": [
    "plot_cross_valid_perf(cv_predictors_Tensor, cv_outcome_Tensor)"
   ]
  },
  {
   "cell_type": "code",
   "execution_count": 32,
   "metadata": {
    "collapsed": true
   },
   "outputs": [],
   "source": [
    "def convert_pred_to_df(predictors_to_use, notebook_id, model_id, dataset, true_values_to_use):\n",
    "    \n",
    "    # Saves the model predictions as a DataFrame, pairs these predictions with a\n",
    "    #    notebook identifier, model identifier, the dataset (cv or test), and\n",
    "    #    the corresponding true values (observations)\n",
    "    # The following inputs are numbers: notebook_id, model_id\n",
    "    # dataset = either 'cv' or 'test'\n",
    "    # predictors_to_use, true_values_to_use = PyTorch Tensors\n",
    "    # Returns a DataFrame\n",
    "    \n",
    "    \n",
    "    # Convert the Tensor into a Variable and predict off of it\n",
    "    model_pred = model(Variable(predictors_to_use))\n",
    "    \n",
    "    # Convert that Variable into a list\n",
    "    model_pred = model_pred.data.numpy().tolist()\n",
    "    \n",
    "    # Convert that list into a DataFrame\n",
    "    model_pred = pd.DataFrame(model_pred)\n",
    "    \n",
    "    # Give the column an appropriate name\n",
    "    model_pred.columns = [\"predicted_values\"]\n",
    "    \n",
    "    \n",
    "    # Add notebook identifier as a column\n",
    "    model_pred[\"notebook_number\"] = pd.Series(np.repeat(notebook_id,\n",
    "                                                        len(model_pred[\"predicted_values\"])))\n",
    "    \n",
    "    # Add model identifier as a column\n",
    "    model_pred[\"model_number\"] = pd.Series(np.repeat(model_id,\n",
    "                                                     len(model_pred[\"predicted_values\"])))\n",
    "    \n",
    "    # Add the data set as a column\n",
    "    model_pred[\"data_set\"] = pd.Series(np.repeat(dataset,\n",
    "                                                 len(model_pred[\"predicted_values\"])))\n",
    "    \n",
    "    # Add the observed values as a column\n",
    "    model_pred[\"true_values\"] = pd.DataFrame(true_values_to_use.numpy().tolist())\n",
    "    return(model_pred)"
   ]
  },
  {
   "cell_type": "code",
   "execution_count": 33,
   "metadata": {},
   "outputs": [
    {
     "data": {
      "text/html": [
       "<div>\n",
       "<style>\n",
       "    .dataframe thead tr:only-child th {\n",
       "        text-align: right;\n",
       "    }\n",
       "\n",
       "    .dataframe thead th {\n",
       "        text-align: left;\n",
       "    }\n",
       "\n",
       "    .dataframe tbody tr th {\n",
       "        vertical-align: top;\n",
       "    }\n",
       "</style>\n",
       "<table border=\"1\" class=\"dataframe\">\n",
       "  <thead>\n",
       "    <tr style=\"text-align: right;\">\n",
       "      <th></th>\n",
       "      <th>predicted_values</th>\n",
       "      <th>notebook_number</th>\n",
       "      <th>model_number</th>\n",
       "      <th>data_set</th>\n",
       "      <th>true_values</th>\n",
       "    </tr>\n",
       "  </thead>\n",
       "  <tbody>\n",
       "    <tr>\n",
       "      <th>0</th>\n",
       "      <td>0.616480</td>\n",
       "      <td>26</td>\n",
       "      <td>1</td>\n",
       "      <td>test</td>\n",
       "      <td>0.356356</td>\n",
       "    </tr>\n",
       "    <tr>\n",
       "      <th>1</th>\n",
       "      <td>1.492420</td>\n",
       "      <td>26</td>\n",
       "      <td>1</td>\n",
       "      <td>test</td>\n",
       "      <td>1.132974</td>\n",
       "    </tr>\n",
       "    <tr>\n",
       "      <th>2</th>\n",
       "      <td>0.725122</td>\n",
       "      <td>26</td>\n",
       "      <td>1</td>\n",
       "      <td>test</td>\n",
       "      <td>0.578992</td>\n",
       "    </tr>\n",
       "    <tr>\n",
       "      <th>3</th>\n",
       "      <td>0.669644</td>\n",
       "      <td>26</td>\n",
       "      <td>1</td>\n",
       "      <td>test</td>\n",
       "      <td>0.578992</td>\n",
       "    </tr>\n",
       "    <tr>\n",
       "      <th>4</th>\n",
       "      <td>0.537577</td>\n",
       "      <td>26</td>\n",
       "      <td>1</td>\n",
       "      <td>test</td>\n",
       "      <td>0.578992</td>\n",
       "    </tr>\n",
       "    <tr>\n",
       "      <th>5</th>\n",
       "      <td>0.286430</td>\n",
       "      <td>26</td>\n",
       "      <td>1</td>\n",
       "      <td>test</td>\n",
       "      <td>0.356356</td>\n",
       "    </tr>\n",
       "    <tr>\n",
       "      <th>6</th>\n",
       "      <td>1.345338</td>\n",
       "      <td>26</td>\n",
       "      <td>1</td>\n",
       "      <td>test</td>\n",
       "      <td>0.861195</td>\n",
       "    </tr>\n",
       "    <tr>\n",
       "      <th>7</th>\n",
       "      <td>0.459416</td>\n",
       "      <td>26</td>\n",
       "      <td>1</td>\n",
       "      <td>test</td>\n",
       "      <td>0.153220</td>\n",
       "    </tr>\n",
       "    <tr>\n",
       "      <th>8</th>\n",
       "      <td>0.621210</td>\n",
       "      <td>26</td>\n",
       "      <td>1</td>\n",
       "      <td>test</td>\n",
       "      <td>-0.272254</td>\n",
       "    </tr>\n",
       "    <tr>\n",
       "      <th>9</th>\n",
       "      <td>0.586622</td>\n",
       "      <td>26</td>\n",
       "      <td>1</td>\n",
       "      <td>test</td>\n",
       "      <td>-0.016170</td>\n",
       "    </tr>\n",
       "    <tr>\n",
       "      <th>10</th>\n",
       "      <td>0.926998</td>\n",
       "      <td>26</td>\n",
       "      <td>1</td>\n",
       "      <td>test</td>\n",
       "      <td>0.707170</td>\n",
       "    </tr>\n",
       "    <tr>\n",
       "      <th>11</th>\n",
       "      <td>0.530521</td>\n",
       "      <td>26</td>\n",
       "      <td>1</td>\n",
       "      <td>test</td>\n",
       "      <td>0.559508</td>\n",
       "    </tr>\n",
       "    <tr>\n",
       "      <th>12</th>\n",
       "      <td>0.409623</td>\n",
       "      <td>26</td>\n",
       "      <td>1</td>\n",
       "      <td>test</td>\n",
       "      <td>0.058780</td>\n",
       "    </tr>\n",
       "    <tr>\n",
       "      <th>13</th>\n",
       "      <td>0.383002</td>\n",
       "      <td>26</td>\n",
       "      <td>1</td>\n",
       "      <td>test</td>\n",
       "      <td>0.111964</td>\n",
       "    </tr>\n",
       "    <tr>\n",
       "      <th>14</th>\n",
       "      <td>0.864446</td>\n",
       "      <td>26</td>\n",
       "      <td>1</td>\n",
       "      <td>test</td>\n",
       "      <td>0.578992</td>\n",
       "    </tr>\n",
       "    <tr>\n",
       "      <th>15</th>\n",
       "      <td>1.194467</td>\n",
       "      <td>26</td>\n",
       "      <td>1</td>\n",
       "      <td>test</td>\n",
       "      <td>0.876614</td>\n",
       "    </tr>\n",
       "    <tr>\n",
       "      <th>16</th>\n",
       "      <td>1.118479</td>\n",
       "      <td>26</td>\n",
       "      <td>1</td>\n",
       "      <td>test</td>\n",
       "      <td>0.281381</td>\n",
       "    </tr>\n",
       "    <tr>\n",
       "      <th>17</th>\n",
       "      <td>0.958464</td>\n",
       "      <td>26</td>\n",
       "      <td>1</td>\n",
       "      <td>test</td>\n",
       "      <td>0.910330</td>\n",
       "    </tr>\n",
       "    <tr>\n",
       "      <th>18</th>\n",
       "      <td>0.850656</td>\n",
       "      <td>26</td>\n",
       "      <td>1</td>\n",
       "      <td>test</td>\n",
       "      <td>0.707170</td>\n",
       "    </tr>\n",
       "    <tr>\n",
       "      <th>19</th>\n",
       "      <td>0.823150</td>\n",
       "      <td>26</td>\n",
       "      <td>1</td>\n",
       "      <td>test</td>\n",
       "      <td>0.578992</td>\n",
       "    </tr>\n",
       "    <tr>\n",
       "      <th>20</th>\n",
       "      <td>1.151474</td>\n",
       "      <td>26</td>\n",
       "      <td>1</td>\n",
       "      <td>test</td>\n",
       "      <td>1.261154</td>\n",
       "    </tr>\n",
       "    <tr>\n",
       "      <th>21</th>\n",
       "      <td>1.003425</td>\n",
       "      <td>26</td>\n",
       "      <td>1</td>\n",
       "      <td>test</td>\n",
       "      <td>0.390070</td>\n",
       "    </tr>\n",
       "    <tr>\n",
       "      <th>22</th>\n",
       "      <td>0.585721</td>\n",
       "      <td>26</td>\n",
       "      <td>1</td>\n",
       "      <td>test</td>\n",
       "      <td>0.450815</td>\n",
       "    </tr>\n",
       "    <tr>\n",
       "      <th>23</th>\n",
       "      <td>1.201961</td>\n",
       "      <td>26</td>\n",
       "      <td>1</td>\n",
       "      <td>test</td>\n",
       "      <td>1.217563</td>\n",
       "    </tr>\n",
       "    <tr>\n",
       "      <th>24</th>\n",
       "      <td>1.187351</td>\n",
       "      <td>26</td>\n",
       "      <td>1</td>\n",
       "      <td>test</td>\n",
       "      <td>1.207955</td>\n",
       "    </tr>\n",
       "    <tr>\n",
       "      <th>25</th>\n",
       "      <td>1.589768</td>\n",
       "      <td>26</td>\n",
       "      <td>1</td>\n",
       "      <td>test</td>\n",
       "      <td>1.132974</td>\n",
       "    </tr>\n",
       "    <tr>\n",
       "      <th>26</th>\n",
       "      <td>0.515892</td>\n",
       "      <td>26</td>\n",
       "      <td>1</td>\n",
       "      <td>test</td>\n",
       "      <td>0.707170</td>\n",
       "    </tr>\n",
       "    <tr>\n",
       "      <th>27</th>\n",
       "      <td>0.945094</td>\n",
       "      <td>26</td>\n",
       "      <td>1</td>\n",
       "      <td>test</td>\n",
       "      <td>0.835350</td>\n",
       "    </tr>\n",
       "    <tr>\n",
       "      <th>28</th>\n",
       "      <td>1.085757</td>\n",
       "      <td>26</td>\n",
       "      <td>1</td>\n",
       "      <td>test</td>\n",
       "      <td>0.782150</td>\n",
       "    </tr>\n",
       "    <tr>\n",
       "      <th>29</th>\n",
       "      <td>1.424984</td>\n",
       "      <td>26</td>\n",
       "      <td>1</td>\n",
       "      <td>test</td>\n",
       "      <td>0.672714</td>\n",
       "    </tr>\n",
       "    <tr>\n",
       "      <th>...</th>\n",
       "      <td>...</td>\n",
       "      <td>...</td>\n",
       "      <td>...</td>\n",
       "      <td>...</td>\n",
       "      <td>...</td>\n",
       "    </tr>\n",
       "    <tr>\n",
       "      <th>2747</th>\n",
       "      <td>0.160088</td>\n",
       "      <td>26</td>\n",
       "      <td>1</td>\n",
       "      <td>test</td>\n",
       "      <td>0.111964</td>\n",
       "    </tr>\n",
       "    <tr>\n",
       "      <th>2748</th>\n",
       "      <td>0.508623</td>\n",
       "      <td>26</td>\n",
       "      <td>1</td>\n",
       "      <td>test</td>\n",
       "      <td>0.240121</td>\n",
       "    </tr>\n",
       "    <tr>\n",
       "      <th>2749</th>\n",
       "      <td>0.834535</td>\n",
       "      <td>26</td>\n",
       "      <td>1</td>\n",
       "      <td>test</td>\n",
       "      <td>0.835350</td>\n",
       "    </tr>\n",
       "    <tr>\n",
       "      <th>2750</th>\n",
       "      <td>0.649197</td>\n",
       "      <td>26</td>\n",
       "      <td>1</td>\n",
       "      <td>test</td>\n",
       "      <td>0.450815</td>\n",
       "    </tr>\n",
       "    <tr>\n",
       "      <th>2751</th>\n",
       "      <td>0.756318</td>\n",
       "      <td>26</td>\n",
       "      <td>1</td>\n",
       "      <td>test</td>\n",
       "      <td>0.963529</td>\n",
       "    </tr>\n",
       "    <tr>\n",
       "      <th>2752</th>\n",
       "      <td>0.797278</td>\n",
       "      <td>26</td>\n",
       "      <td>1</td>\n",
       "      <td>test</td>\n",
       "      <td>0.450815</td>\n",
       "    </tr>\n",
       "    <tr>\n",
       "      <th>2753</th>\n",
       "      <td>1.404758</td>\n",
       "      <td>26</td>\n",
       "      <td>1</td>\n",
       "      <td>test</td>\n",
       "      <td>0.707170</td>\n",
       "    </tr>\n",
       "    <tr>\n",
       "      <th>2754</th>\n",
       "      <td>1.836375</td>\n",
       "      <td>26</td>\n",
       "      <td>1</td>\n",
       "      <td>test</td>\n",
       "      <td>1.302419</td>\n",
       "    </tr>\n",
       "    <tr>\n",
       "      <th>2755</th>\n",
       "      <td>0.948879</td>\n",
       "      <td>26</td>\n",
       "      <td>1</td>\n",
       "      <td>test</td>\n",
       "      <td>0.835350</td>\n",
       "    </tr>\n",
       "    <tr>\n",
       "      <th>2756</th>\n",
       "      <td>0.739037</td>\n",
       "      <td>26</td>\n",
       "      <td>1</td>\n",
       "      <td>test</td>\n",
       "      <td>0.513035</td>\n",
       "    </tr>\n",
       "    <tr>\n",
       "      <th>2757</th>\n",
       "      <td>0.849896</td>\n",
       "      <td>26</td>\n",
       "      <td>1</td>\n",
       "      <td>test</td>\n",
       "      <td>0.596617</td>\n",
       "    </tr>\n",
       "    <tr>\n",
       "      <th>2758</th>\n",
       "      <td>0.344469</td>\n",
       "      <td>26</td>\n",
       "      <td>1</td>\n",
       "      <td>test</td>\n",
       "      <td>0.450815</td>\n",
       "    </tr>\n",
       "    <tr>\n",
       "      <th>2759</th>\n",
       "      <td>0.401812</td>\n",
       "      <td>26</td>\n",
       "      <td>1</td>\n",
       "      <td>test</td>\n",
       "      <td>-0.144258</td>\n",
       "    </tr>\n",
       "    <tr>\n",
       "      <th>2760</th>\n",
       "      <td>0.690203</td>\n",
       "      <td>26</td>\n",
       "      <td>1</td>\n",
       "      <td>test</td>\n",
       "      <td>1.079775</td>\n",
       "    </tr>\n",
       "    <tr>\n",
       "      <th>2761</th>\n",
       "      <td>0.784331</td>\n",
       "      <td>26</td>\n",
       "      <td>1</td>\n",
       "      <td>test</td>\n",
       "      <td>0.578992</td>\n",
       "    </tr>\n",
       "    <tr>\n",
       "      <th>2762</th>\n",
       "      <td>0.449629</td>\n",
       "      <td>26</td>\n",
       "      <td>1</td>\n",
       "      <td>test</td>\n",
       "      <td>0.578992</td>\n",
       "    </tr>\n",
       "    <tr>\n",
       "      <th>2763</th>\n",
       "      <td>0.708751</td>\n",
       "      <td>26</td>\n",
       "      <td>1</td>\n",
       "      <td>test</td>\n",
       "      <td>0.356356</td>\n",
       "    </tr>\n",
       "    <tr>\n",
       "      <th>2764</th>\n",
       "      <td>0.563853</td>\n",
       "      <td>26</td>\n",
       "      <td>1</td>\n",
       "      <td>test</td>\n",
       "      <td>0.281381</td>\n",
       "    </tr>\n",
       "    <tr>\n",
       "      <th>2765</th>\n",
       "      <td>0.361634</td>\n",
       "      <td>26</td>\n",
       "      <td>1</td>\n",
       "      <td>test</td>\n",
       "      <td>0.281381</td>\n",
       "    </tr>\n",
       "    <tr>\n",
       "      <th>2766</th>\n",
       "      <td>1.755413</td>\n",
       "      <td>26</td>\n",
       "      <td>1</td>\n",
       "      <td>test</td>\n",
       "      <td>1.931386</td>\n",
       "    </tr>\n",
       "    <tr>\n",
       "      <th>2767</th>\n",
       "      <td>0.494566</td>\n",
       "      <td>26</td>\n",
       "      <td>1</td>\n",
       "      <td>test</td>\n",
       "      <td>0.748435</td>\n",
       "    </tr>\n",
       "    <tr>\n",
       "      <th>2768</th>\n",
       "      <td>0.642578</td>\n",
       "      <td>26</td>\n",
       "      <td>1</td>\n",
       "      <td>test</td>\n",
       "      <td>0.612707</td>\n",
       "    </tr>\n",
       "    <tr>\n",
       "      <th>2769</th>\n",
       "      <td>1.444358</td>\n",
       "      <td>26</td>\n",
       "      <td>1</td>\n",
       "      <td>test</td>\n",
       "      <td>1.261154</td>\n",
       "    </tr>\n",
       "    <tr>\n",
       "      <th>2770</th>\n",
       "      <td>0.589264</td>\n",
       "      <td>26</td>\n",
       "      <td>1</td>\n",
       "      <td>test</td>\n",
       "      <td>0.153220</td>\n",
       "    </tr>\n",
       "    <tr>\n",
       "      <th>2771</th>\n",
       "      <td>0.804569</td>\n",
       "      <td>26</td>\n",
       "      <td>1</td>\n",
       "      <td>test</td>\n",
       "      <td>0.835350</td>\n",
       "    </tr>\n",
       "    <tr>\n",
       "      <th>2772</th>\n",
       "      <td>1.077473</td>\n",
       "      <td>26</td>\n",
       "      <td>1</td>\n",
       "      <td>test</td>\n",
       "      <td>0.484530</td>\n",
       "    </tr>\n",
       "    <tr>\n",
       "      <th>2773</th>\n",
       "      <td>1.128097</td>\n",
       "      <td>26</td>\n",
       "      <td>1</td>\n",
       "      <td>test</td>\n",
       "      <td>0.707170</td>\n",
       "    </tr>\n",
       "    <tr>\n",
       "      <th>2774</th>\n",
       "      <td>1.188492</td>\n",
       "      <td>26</td>\n",
       "      <td>1</td>\n",
       "      <td>test</td>\n",
       "      <td>0.653971</td>\n",
       "    </tr>\n",
       "    <tr>\n",
       "      <th>2775</th>\n",
       "      <td>0.944737</td>\n",
       "      <td>26</td>\n",
       "      <td>1</td>\n",
       "      <td>test</td>\n",
       "      <td>0.707170</td>\n",
       "    </tr>\n",
       "    <tr>\n",
       "      <th>2776</th>\n",
       "      <td>1.749792</td>\n",
       "      <td>26</td>\n",
       "      <td>1</td>\n",
       "      <td>test</td>\n",
       "      <td>2.002210</td>\n",
       "    </tr>\n",
       "  </tbody>\n",
       "</table>\n",
       "<p>2777 rows × 5 columns</p>\n",
       "</div>"
      ],
      "text/plain": [
       "      predicted_values  notebook_number  model_number data_set  true_values\n",
       "0             0.616480               26             1     test     0.356356\n",
       "1             1.492420               26             1     test     1.132974\n",
       "2             0.725122               26             1     test     0.578992\n",
       "3             0.669644               26             1     test     0.578992\n",
       "4             0.537577               26             1     test     0.578992\n",
       "5             0.286430               26             1     test     0.356356\n",
       "6             1.345338               26             1     test     0.861195\n",
       "7             0.459416               26             1     test     0.153220\n",
       "8             0.621210               26             1     test    -0.272254\n",
       "9             0.586622               26             1     test    -0.016170\n",
       "10            0.926998               26             1     test     0.707170\n",
       "11            0.530521               26             1     test     0.559508\n",
       "12            0.409623               26             1     test     0.058780\n",
       "13            0.383002               26             1     test     0.111964\n",
       "14            0.864446               26             1     test     0.578992\n",
       "15            1.194467               26             1     test     0.876614\n",
       "16            1.118479               26             1     test     0.281381\n",
       "17            0.958464               26             1     test     0.910330\n",
       "18            0.850656               26             1     test     0.707170\n",
       "19            0.823150               26             1     test     0.578992\n",
       "20            1.151474               26             1     test     1.261154\n",
       "21            1.003425               26             1     test     0.390070\n",
       "22            0.585721               26             1     test     0.450815\n",
       "23            1.201961               26             1     test     1.217563\n",
       "24            1.187351               26             1     test     1.207955\n",
       "25            1.589768               26             1     test     1.132974\n",
       "26            0.515892               26             1     test     0.707170\n",
       "27            0.945094               26             1     test     0.835350\n",
       "28            1.085757               26             1     test     0.782150\n",
       "29            1.424984               26             1     test     0.672714\n",
       "...                ...              ...           ...      ...          ...\n",
       "2747          0.160088               26             1     test     0.111964\n",
       "2748          0.508623               26             1     test     0.240121\n",
       "2749          0.834535               26             1     test     0.835350\n",
       "2750          0.649197               26             1     test     0.450815\n",
       "2751          0.756318               26             1     test     0.963529\n",
       "2752          0.797278               26             1     test     0.450815\n",
       "2753          1.404758               26             1     test     0.707170\n",
       "2754          1.836375               26             1     test     1.302419\n",
       "2755          0.948879               26             1     test     0.835350\n",
       "2756          0.739037               26             1     test     0.513035\n",
       "2757          0.849896               26             1     test     0.596617\n",
       "2758          0.344469               26             1     test     0.450815\n",
       "2759          0.401812               26             1     test    -0.144258\n",
       "2760          0.690203               26             1     test     1.079775\n",
       "2761          0.784331               26             1     test     0.578992\n",
       "2762          0.449629               26             1     test     0.578992\n",
       "2763          0.708751               26             1     test     0.356356\n",
       "2764          0.563853               26             1     test     0.281381\n",
       "2765          0.361634               26             1     test     0.281381\n",
       "2766          1.755413               26             1     test     1.931386\n",
       "2767          0.494566               26             1     test     0.748435\n",
       "2768          0.642578               26             1     test     0.612707\n",
       "2769          1.444358               26             1     test     1.261154\n",
       "2770          0.589264               26             1     test     0.153220\n",
       "2771          0.804569               26             1     test     0.835350\n",
       "2772          1.077473               26             1     test     0.484530\n",
       "2773          1.128097               26             1     test     0.707170\n",
       "2774          1.188492               26             1     test     0.653971\n",
       "2775          0.944737               26             1     test     0.707170\n",
       "2776          1.749792               26             1     test     2.002210\n",
       "\n",
       "[2777 rows x 5 columns]"
      ]
     },
     "execution_count": 33,
     "metadata": {},
     "output_type": "execute_result"
    }
   ],
   "source": [
    "stored_test_pred_df = convert_pred_to_df(test_predictors_Tensor, 28-2, 1, 'test', test_outcome_Tensor)\n",
    "\n",
    "stored_test_pred_df"
   ]
  },
  {
   "cell_type": "code",
   "execution_count": 34,
   "metadata": {
    "collapsed": true
   },
   "outputs": [],
   "source": [
    "stored_test_pred_df.to_csv(\"28-2_test_perf.csv\")"
   ]
  },
  {
   "cell_type": "markdown",
   "metadata": {},
   "source": [
    "## 2. Plot 2018 Predictions"
   ]
  },
  {
   "cell_type": "markdown",
   "metadata": {},
   "source": [
    "Get the gridded DataFrame of assumed storm characteristics, true geographic values, and potential dates/times"
   ]
  },
  {
   "cell_type": "code",
   "execution_count": 35,
   "metadata": {},
   "outputs": [
    {
     "data": {
      "text/plain": [
       "array([ True,  True,  True,  True,  True,  True,  True,  True,  True,\n",
       "        True,  True,  True,  True,  True,  True,  True,  True,  True,\n",
       "        True,  True,  True,  True,  True,  True,  True,  True,  True,\n",
       "        True,  True,  True,  True,  True,  True,  True], dtype=bool)"
      ]
     },
     "execution_count": 35,
     "metadata": {},
     "output_type": "execute_result"
    }
   ],
   "source": [
    "# Import the data to make predictions off of\n",
    "grid_df = pd.read_csv(\"/home/jeremy/github_tornadoesr/data/raw/final_grid_df.csv\")\n",
    "\n",
    "\n",
    "# Make sure the columns are in the right order\n",
    "# The '[1:]' ignores the DAMAGE_PROPERTY value, which\n",
    "# We are going to predict\n",
    "grid_df.columns == cv_predictors.columns"
   ]
  },
  {
   "cell_type": "markdown",
   "metadata": {},
   "source": [
    "Get, column-bind, and save the predictions with the grid for the visualizations in R"
   ]
  },
  {
   "cell_type": "code",
   "execution_count": 36,
   "metadata": {
    "collapsed": true
   },
   "outputs": [],
   "source": [
    "# Get the predictions for the grid\n",
    "grid_Tensor = torch.from_numpy(grid_df.values).float()\n",
    "grid_predictions = model(Variable(grid_Tensor, requires_grad = False))\n",
    "\n",
    "\n",
    "# Get those predictions into the grid DataFrame and save it\n",
    "predictions_df = pd.DataFrame(grid_predictions.data.numpy())\n",
    "predictions_df.columns = ['DAMAGE_PROPERTY']\n",
    "grid_df = pd.concat([predictions_df, grid_df], axis = 1)\n",
    "grid_df.to_csv('grid_with_predictions_oversamp.csv')"
   ]
  }
 ],
 "metadata": {
  "kernelspec": {
   "display_name": "Python 3",
   "language": "python",
   "name": "python3"
  },
  "language_info": {
   "codemirror_mode": {
    "name": "ipython",
    "version": 3
   },
   "file_extension": ".py",
   "mimetype": "text/x-python",
   "name": "python",
   "nbconvert_exporter": "python",
   "pygments_lexer": "ipython3",
   "version": "3.6.2"
  }
 },
 "nbformat": 4,
 "nbformat_minor": 2
}
