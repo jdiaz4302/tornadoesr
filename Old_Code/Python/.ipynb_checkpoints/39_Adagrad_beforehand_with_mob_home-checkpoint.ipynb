{
 "cells": [
  {
   "cell_type": "markdown",
   "metadata": {},
   "source": [
    "## Setup"
   ]
  },
  {
   "cell_type": "code",
   "execution_count": 1,
   "metadata": {
    "collapsed": true
   },
   "outputs": [],
   "source": [
    "# Packages\n",
    "import pandas as pd\n",
    "import torch\n",
    "from torch.autograd import Variable\n",
    "import numpy as np\n",
    "import matplotlib.pyplot as plt\n",
    "%matplotlib inline\n",
    "import pylab\n",
    "import math"
   ]
  },
  {
   "cell_type": "code",
   "execution_count": 2,
   "metadata": {
    "collapsed": false
   },
   "outputs": [
    {
     "name": "stdout",
     "output_type": "stream",
     "text": [
      "<class 'pandas.core.frame.DataFrame'>\n",
      "RangeIndex: 8230 entries, 0 to 8229\n",
      "Data columns (total 33 columns):\n",
      "DAMAGE_PROPERTY       8230 non-null float64\n",
      "DURATION_SECONDS      8230 non-null float64\n",
      "BEGIN_LAT             8230 non-null float64\n",
      "BEGIN_LON             8230 non-null float64\n",
      "TOR_LENGTH            8230 non-null float64\n",
      "TOR_WIDTH             8230 non-null float64\n",
      "YEAR                  8230 non-null float64\n",
      "OPEN_WATER_PROP       8230 non-null float64\n",
      "DEV_OPEN_PROP         8230 non-null float64\n",
      "DEV_LOW_PROP          8230 non-null float64\n",
      "DEV_MED_PROP          8230 non-null float64\n",
      "DEV_HIGH_PROP         8230 non-null float64\n",
      "DECID_FOREST_PROP     8230 non-null float64\n",
      "EVERGR_FOREST_PROP    8230 non-null float64\n",
      "MIXED_FOREST_PROP     8230 non-null float64\n",
      "SHRUB_SCRUB_PROP      8230 non-null float64\n",
      "GRASS_LAND_PROP       8230 non-null float64\n",
      "PASTURE_HAY_PROP      8230 non-null float64\n",
      "CULT_CROPS_PROP       8230 non-null float64\n",
      "WOOD_WETLAND_PROP     8230 non-null float64\n",
      "HERB_WETLAND_PROP     8230 non-null float64\n",
      "BARREN_LAND_PROP      8230 non-null float64\n",
      "INCOME                8230 non-null float64\n",
      "TOR_AREA              8230 non-null float64\n",
      "TOT_DEV_INT           8230 non-null float64\n",
      "TOT_WOOD_AREA         8230 non-null float64\n",
      "WOOD_DEV_INT          8230 non-null float64\n",
      "EXP_INC_AREA          8230 non-null float64\n",
      "DAY_OF_YEAR           8230 non-null float64\n",
      "STATE_RANK            8230 non-null float64\n",
      "MOB_HOM_DENS          8230 non-null float64\n",
      "TIME                  8230 non-null float64\n",
      "MONTH_MEAN            8230 non-null float64\n",
      "dtypes: float64(33)\n",
      "memory usage: 2.1 MB\n"
     ]
    }
   ],
   "source": [
    "# Import data\n",
    "tor_df = pd.read_csv(\"/home/jeremy/github_tornadoesr/data/raw/tor_train_set_no_zeros_mob_home.csv\")\n",
    "\n",
    "\n",
    "# Quick inspection\n",
    "tor_df.info()"
   ]
  },
  {
   "cell_type": "code",
   "execution_count": 3,
   "metadata": {
    "collapsed": false
   },
   "outputs": [
    {
     "name": "stdout",
     "output_type": "stream",
     "text": [
      "<class 'pandas.core.frame.DataFrame'>\n",
      "RangeIndex: 8230 entries, 0 to 8229\n",
      "Data columns (total 1 columns):\n",
      "DAMAGE_PROPERTY    8230 non-null float64\n",
      "dtypes: float64(1)\n",
      "memory usage: 64.4 KB\n"
     ]
    }
   ],
   "source": [
    "# Seperating variables\n",
    "# The dependent variables\n",
    "tornado_outcomes = tor_df.iloc[:, [0]]\n",
    "\n",
    "\n",
    "# Quick inspection\n",
    "tornado_outcomes.info()"
   ]
  },
  {
   "cell_type": "code",
   "execution_count": 4,
   "metadata": {
    "collapsed": false
   },
   "outputs": [
    {
     "name": "stdout",
     "output_type": "stream",
     "text": [
      "<class 'pandas.core.frame.DataFrame'>\n",
      "RangeIndex: 8230 entries, 0 to 8229\n",
      "Data columns (total 23 columns):\n",
      "BEGIN_LAT             8230 non-null float64\n",
      "BEGIN_LON             8230 non-null float64\n",
      "OPEN_WATER_PROP       8230 non-null float64\n",
      "DEV_OPEN_PROP         8230 non-null float64\n",
      "DEV_LOW_PROP          8230 non-null float64\n",
      "DEV_MED_PROP          8230 non-null float64\n",
      "DEV_HIGH_PROP         8230 non-null float64\n",
      "DECID_FOREST_PROP     8230 non-null float64\n",
      "EVERGR_FOREST_PROP    8230 non-null float64\n",
      "MIXED_FOREST_PROP     8230 non-null float64\n",
      "SHRUB_SCRUB_PROP      8230 non-null float64\n",
      "GRASS_LAND_PROP       8230 non-null float64\n",
      "PASTURE_HAY_PROP      8230 non-null float64\n",
      "CULT_CROPS_PROP       8230 non-null float64\n",
      "WOOD_WETLAND_PROP     8230 non-null float64\n",
      "HERB_WETLAND_PROP     8230 non-null float64\n",
      "BARREN_LAND_PROP      8230 non-null float64\n",
      "INCOME                8230 non-null float64\n",
      "TOT_DEV_INT           8230 non-null float64\n",
      "TOT_WOOD_AREA         8230 non-null float64\n",
      "WOOD_DEV_INT          8230 non-null float64\n",
      "STATE_RANK            8230 non-null float64\n",
      "MOB_HOM_DENS          8230 non-null float64\n",
      "dtypes: float64(23)\n",
      "memory usage: 1.4 MB\n"
     ]
    }
   ],
   "source": [
    "# The independent variables\n",
    "tornado_features = tor_df.iloc[:, 2:]\n",
    "\n",
    "\n",
    "# Get rid of non-location and non-landcover variables\n",
    "tornado_features = tornado_features.drop([\"TOR_LENGTH\",\n",
    "                                          \"TOR_WIDTH\",\n",
    "                                          \"YEAR\",\n",
    "                                          \"TOR_AREA\",\n",
    "                                          \"EXP_INC_AREA\",\n",
    "                                          \"DAY_OF_YEAR\",\n",
    "                                          \"MONTH_MEAN\",\n",
    "                                          \"TIME\"],\n",
    "                                         axis = 1)\n",
    "\n",
    "\n",
    "# Quick inspection\n",
    "tornado_features.info()"
   ]
  },
  {
   "cell_type": "code",
   "execution_count": 5,
   "metadata": {
    "collapsed": false
   },
   "outputs": [
    {
     "data": {
      "text/plain": [
       "\n",
       " 0.7085\n",
       " 0.5805\n",
       " 0.7085\n",
       "   ⋮    \n",
       " 0.9397\n",
       " 0.9644\n",
       " 0.7085\n",
       "[torch.DoubleTensor of size 8230x1]"
      ]
     },
     "execution_count": 5,
     "metadata": {},
     "output_type": "execute_result"
    }
   ],
   "source": [
    "# Make the dependent variables into a numpy array\n",
    "outcomes_array = tornado_outcomes.values\n",
    "\n",
    "\n",
    "# Makes the numpy array into a torch Tensor\n",
    "outcomes_Tensor = torch.from_numpy(outcomes_array)\n",
    "\n",
    "\n",
    "# Quick inspection\n",
    "outcomes_Tensor"
   ]
  },
  {
   "cell_type": "code",
   "execution_count": 6,
   "metadata": {
    "collapsed": false
   },
   "outputs": [
    {
     "data": {
      "text/plain": [
       "\n",
       "-3.7157e-01  6.1740e-01 -1.2135e+00  ...   5.0574e-01 -2.2737e+00  8.5283e-01\n",
       "-9.3529e-01  1.1152e+00 -1.2134e+00  ...  -2.9015e-02  5.2475e-02  8.4258e-01\n",
       " 1.8028e-01  8.2261e-01  1.4336e-01  ...   9.4487e-01  5.2025e-01  2.1240e-01\n",
       "                ...                   ⋱                   ...                \n",
       "-1.9908e+00  1.1802e+00 -1.0379e+00  ...   6.5473e-01  2.6493e-01  1.7873e+00\n",
       " 3.0892e-01  5.3075e-01 -1.8447e-01  ...  -8.6400e-02  6.6162e-01  1.0947e+00\n",
       "-1.4187e+00 -8.0176e-02 -4.4975e-01  ...  -1.3913e-01  9.4951e-01  3.8968e-01\n",
       "[torch.DoubleTensor of size 8230x23]"
      ]
     },
     "execution_count": 6,
     "metadata": {},
     "output_type": "execute_result"
    }
   ],
   "source": [
    "# Make the independent variables into a numpy array\n",
    "features_array = tornado_features.values\n",
    "\n",
    "\n",
    "# Make the numpy array into a torch Tensor\n",
    "features_Tensor = torch.from_numpy(features_array)\n",
    "\n",
    "\n",
    "# Quick inspection\n",
    "features_Tensor"
   ]
  },
  {
   "cell_type": "markdown",
   "metadata": {},
   "source": [
    "### Convert DoubleTensor to FloatTensor"
   ]
  },
  {
   "cell_type": "code",
   "execution_count": 7,
   "metadata": {
    "collapsed": false
   },
   "outputs": [
    {
     "data": {
      "text/plain": [
       "\n",
       "-3.7157e-01  6.1740e-01 -1.2135e+00  ...   5.0574e-01 -2.2737e+00  8.5283e-01\n",
       "-9.3529e-01  1.1152e+00 -1.2134e+00  ...  -2.9015e-02  5.2475e-02  8.4258e-01\n",
       " 1.8028e-01  8.2261e-01  1.4336e-01  ...   9.4487e-01  5.2025e-01  2.1240e-01\n",
       "                ...                   ⋱                   ...                \n",
       "-1.9908e+00  1.1802e+00 -1.0379e+00  ...   6.5473e-01  2.6493e-01  1.7873e+00\n",
       " 3.0892e-01  5.3075e-01 -1.8447e-01  ...  -8.6400e-02  6.6162e-01  1.0947e+00\n",
       "-1.4187e+00 -8.0176e-02 -4.4975e-01  ...  -1.3913e-01  9.4951e-01  3.8968e-01\n",
       "[torch.FloatTensor of size 8230x23]"
      ]
     },
     "execution_count": 7,
     "metadata": {},
     "output_type": "execute_result"
    }
   ],
   "source": [
    "# Changing dependent variables from a DoubleTensor to a FloatTensor\n",
    "outcomes_Tensor = outcomes_Tensor.float()\n",
    "\n",
    "\n",
    "# ...and for the independent variables\n",
    "features_Tensor = features_Tensor.float()\n",
    "\n",
    "\n",
    "# Quick check\n",
    "features_Tensor"
   ]
  },
  {
   "cell_type": "markdown",
   "metadata": {
    "collapsed": true
   },
   "source": [
    "## Round 1: One-Hidden-Layer Neural Network"
   ]
  },
  {
   "cell_type": "code",
   "execution_count": 8,
   "metadata": {
    "collapsed": false
   },
   "outputs": [],
   "source": [
    "# Make the torch Tensor into a PyTorch Variable for dependent variables\n",
    "outcomes_Variable = Variable(outcomes_Tensor)\n",
    "\n",
    "\n",
    "# ...for independent variables\n",
    "features_Variable = Variable(features_Tensor,\n",
    "                             requires_grad = False)"
   ]
  },
  {
   "cell_type": "code",
   "execution_count": 9,
   "metadata": {
    "collapsed": false
   },
   "outputs": [],
   "source": [
    "# Make the neural network\n",
    "model = torch.nn.Sequential(torch.nn.Linear(23, 15),\n",
    "                            torch.nn.ReLU(),\n",
    "                            torch.nn.Linear(15, 1))"
   ]
  },
  {
   "cell_type": "code",
   "execution_count": 10,
   "metadata": {
    "collapsed": true
   },
   "outputs": [],
   "source": [
    "# Set the loss function\n",
    "loss_fn = torch.nn.MSELoss(size_average=False)"
   ]
  },
  {
   "cell_type": "code",
   "execution_count": 11,
   "metadata": {
    "collapsed": false
   },
   "outputs": [],
   "source": [
    "# To add errors to\n",
    "errors = []\n",
    "\n",
    "\n",
    "# Set the learning rate\n",
    "learning_rate = 1e-2\n",
    "\n",
    "\n",
    "# Define the model's optimizer\n",
    "optimizer = torch.optim.Adagrad(model.parameters(), lr = learning_rate)\n",
    "\n",
    "\n",
    "# Train the neural network\n",
    "for t in range(10000):\n",
    "    \n",
    "    # Get the current predictions\n",
    "    y_pred = model(features_Variable)\n",
    "    \n",
    "    # Compute and append current summed errors\n",
    "    loss = loss_fn(y_pred, outcomes_Variable)\n",
    "    errors.append(loss.data[0])\n",
    "    \n",
    "    # Zero the gradients before running the backward pass.\n",
    "    optimizer.zero_grad()\n",
    "    \n",
    "    # Backward pass: compute gradient of the loss with respect to all the learnable Variables\n",
    "    loss.backward()\n",
    "    \n",
    "    # Update the weights using Adagrad\n",
    "    optimizer.step()"
   ]
  },
  {
   "cell_type": "code",
   "execution_count": 12,
   "metadata": {
    "collapsed": true
   },
   "outputs": [],
   "source": [
    "# Get the iterations\n",
    "iterations = list(range(0, 10000))"
   ]
  },
  {
   "cell_type": "code",
   "execution_count": 13,
   "metadata": {
    "collapsed": false
   },
   "outputs": [
    {
     "data": {
      "text/plain": [
       "<matplotlib.collections.PathCollection at 0x7efea4aa03c8>"
      ]
     },
     "execution_count": 13,
     "metadata": {},
     "output_type": "execute_result"
    },
    {
     "data": {
      "image/png": "[encoded data removed]",
      "text/plain": [
       "<matplotlib.figure.Figure at 0x7efe4d1a52b0>"
      ]
     },
     "metadata": {},
     "output_type": "display_data"
    }
   ],
   "source": [
    "# Plot summed error as a function of iteration\n",
    "plt.scatter(iterations, errors)"
   ]
  },
  {
   "cell_type": "code",
   "execution_count": 14,
   "metadata": {
    "collapsed": false
   },
   "outputs": [],
   "source": [
    "# Get rid of the 2nd dimension of 1 from the FloatTensor\n",
    "y_pred_resized = y_pred.resize(8230)\n",
    "\n",
    "\n",
    "# Make the FloatTensor into a numpy.array\n",
    "y_pred_array = y_pred_resized.data.numpy()\n",
    "\n",
    "\n",
    "# Make the numpy.array into a list\n",
    "y_pred_list = y_pred_array.tolist()"
   ]
  },
  {
   "cell_type": "code",
   "execution_count": 15,
   "metadata": {
    "collapsed": false
   },
   "outputs": [],
   "source": [
    "# Get rid of the 2nd dimension of 1 from the FloatTensor\n",
    "outcomes_Variable_resized = outcomes_Variable.resize(8230)\n",
    "\n",
    "\n",
    "# Make the FloatTensor into a numpy.array\n",
    "outcomes_array = outcomes_Variable_resized.data.numpy()\n",
    "\n",
    "\n",
    "# Make the numpy.array into a list\n",
    "outcomes_list = outcomes_array.tolist()"
   ]
  },
  {
   "cell_type": "code",
   "execution_count": 16,
   "metadata": {
    "collapsed": false
   },
   "outputs": [
    {
     "data": {
      "text/plain": [
       "[<matplotlib.lines.Line2D at 0x7efe4ce41320>]"
      ]
     },
     "execution_count": 16,
     "metadata": {},
     "output_type": "execute_result"
    },
    {
     "data": {
      "image/png": "[encoded data removed]",
      "text/plain": [
       "<matplotlib.figure.Figure at 0x7efe4ce47cc0>"
      ]
     },
     "metadata": {},
     "output_type": "display_data"
    }
   ],
   "source": [
    "# Plot predictions versus training set outcomes\n",
    "plt.scatter(outcomes_list, y_pred_list, c = \"black\", alpha = 0.15)\n",
    "\n",
    "axes = plt.gca()\n",
    "\n",
    "axes.set_xlim([-2, 4])\n",
    "\n",
    "axes.set_ylim([-2, 4])\n",
    "\n",
    "plt.plot([-2, 4], [-2, 4], 'k-', lw=2)"
   ]
  },
  {
   "cell_type": "markdown",
   "metadata": {},
   "source": [
    "### Round 1.1: Validation Set Performance"
   ]
  },
  {
   "cell_type": "code",
   "execution_count": 17,
   "metadata": {
    "collapsed": false
   },
   "outputs": [],
   "source": [
    "# Import data\n",
    "valid_df = pd.read_csv(\"/home/jeremy/github_tornadoesr/data/raw/tor_cv_set_no_zeros_mob_home.csv\")\n",
    "\n",
    "\n",
    "# Validation set outcomes\n",
    "valid_outcomes = valid_df.iloc[:, [0]]\n",
    "\n",
    "\n",
    "# Make the validation outcomes into a numpy array\n",
    "valid_outcomes_array = valid_outcomes.values\n",
    "\n",
    "\n",
    "# Makes the numpy array into a torch Tensor\n",
    "valid_outcomes_Tensor = torch.from_numpy(valid_outcomes_array)\n",
    "\n",
    "\n",
    "# Changing validation outcomes from a DoubleTensor to a FloatTensor\n",
    "valid_outcomes_Tensor = valid_outcomes_Tensor.float()\n",
    "\n",
    "\n",
    "# Make the Tensor into a Pytorch Variable\n",
    "valid_outcomes_Variable = Variable(valid_outcomes_Tensor)"
   ]
  },
  {
   "cell_type": "code",
   "execution_count": 18,
   "metadata": {
    "collapsed": false
   },
   "outputs": [
    {
     "name": "stdout",
     "output_type": "stream",
     "text": [
      "<class 'pandas.core.frame.DataFrame'>\n",
      "RangeIndex: 2748 entries, 0 to 2747\n",
      "Data columns (total 33 columns):\n",
      "DAMAGE_PROPERTY       2748 non-null float64\n",
      "DURATION_SECONDS      2748 non-null float64\n",
      "BEGIN_LAT             2748 non-null float64\n",
      "BEGIN_LON             2748 non-null float64\n",
      "TOR_LENGTH            2748 non-null float64\n",
      "TOR_WIDTH             2748 non-null float64\n",
      "YEAR                  2748 non-null float64\n",
      "OPEN_WATER_PROP       2748 non-null float64\n",
      "DEV_OPEN_PROP         2748 non-null float64\n",
      "DEV_LOW_PROP          2748 non-null float64\n",
      "DEV_MED_PROP          2748 non-null float64\n",
      "DEV_HIGH_PROP         2748 non-null float64\n",
      "DECID_FOREST_PROP     2748 non-null float64\n",
      "EVERGR_FOREST_PROP    2748 non-null float64\n",
      "MIXED_FOREST_PROP     2748 non-null float64\n",
      "SHRUB_SCRUB_PROP      2748 non-null float64\n",
      "GRASS_LAND_PROP       2748 non-null float64\n",
      "PASTURE_HAY_PROP      2748 non-null float64\n",
      "CULT_CROPS_PROP       2748 non-null float64\n",
      "WOOD_WETLAND_PROP     2748 non-null float64\n",
      "HERB_WETLAND_PROP     2748 non-null float64\n",
      "BARREN_LAND_PROP      2748 non-null float64\n",
      "INCOME                2748 non-null float64\n",
      "TOR_AREA              2748 non-null float64\n",
      "TOT_DEV_INT           2748 non-null float64\n",
      "TOT_WOOD_AREA         2748 non-null float64\n",
      "WOOD_DEV_INT          2748 non-null float64\n",
      "EXP_INC_AREA          2748 non-null float64\n",
      "DAY_OF_YEAR           2748 non-null float64\n",
      "STATE_RANK            2748 non-null float64\n",
      "MOB_HOM_DENS          2748 non-null float64\n",
      "TIME                  2748 non-null float64\n",
      "MONTH_MEAN            2748 non-null float64\n",
      "dtypes: float64(33)\n",
      "memory usage: 708.5 KB\n"
     ]
    }
   ],
   "source": [
    "valid_df.info()"
   ]
  },
  {
   "cell_type": "code",
   "execution_count": 19,
   "metadata": {
    "collapsed": false
   },
   "outputs": [],
   "source": [
    "# Validation set predictors\n",
    "valid_predictors = valid_df.iloc[:, 2:]\n",
    "\n",
    "\n",
    "# Get rid of non-location and non-landcover variables\n",
    "valid_predictors = valid_predictors.drop([\"TOR_LENGTH\",\n",
    "                                          \"TOR_WIDTH\",\n",
    "                                          \"YEAR\",\n",
    "                                          \"TOR_AREA\",\n",
    "                                          \"EXP_INC_AREA\",\n",
    "                                          \"DAY_OF_YEAR\",\n",
    "                                          \"MONTH_MEAN\",\n",
    "                                          \"TIME\"],\n",
    "                                         axis = 1)\n",
    "\n",
    "\n",
    "# Make the validation predictors into a numpy array\n",
    "valid_predictors_array = valid_predictors.values\n",
    "\n",
    "\n",
    "# Makes the numpy array into a torch Tensor\n",
    "valid_predictors_Tensor = torch.from_numpy(valid_predictors_array)\n",
    "\n",
    "\n",
    "# Changing validation predictors from a DoubleTensor to a FloatTensor\n",
    "valid_predictors_Tensor = valid_predictors_Tensor.float()\n",
    "\n",
    "\n",
    "# Make the Tensor into a Pytorch Variable\n",
    "valid_predictors_Variable = Variable(valid_predictors_Tensor)"
   ]
  },
  {
   "cell_type": "code",
   "execution_count": 20,
   "metadata": {
    "collapsed": false
   },
   "outputs": [
    {
     "data": {
      "text/plain": [
       "Variable containing:\n",
       " 475.3816\n",
       "[torch.FloatTensor of size 1]"
      ]
     },
     "execution_count": 20,
     "metadata": {},
     "output_type": "execute_result"
    }
   ],
   "source": [
    "# Get the validation set predictions\n",
    "y_valid_pred = model(valid_predictors_Variable)\n",
    "\n",
    "\n",
    "# Print the loss\n",
    "loss_fn(y_valid_pred,\n",
    "        valid_outcomes_Variable)"
   ]
  },
  {
   "cell_type": "code",
   "execution_count": 21,
   "metadata": {
    "collapsed": true
   },
   "outputs": [],
   "source": [
    "# Get rid of the 2nd dimension of 1 from the FloatTensor\n",
    "y_valid_pred_resized = y_valid_pred.resize(2748)\n",
    "\n",
    "\n",
    "# Make the FloatTensor into a numpy.array\n",
    "y_valid_pred_array = y_valid_pred_resized.data.numpy()\n",
    "\n",
    "\n",
    "# Make the numpy.array into a list\n",
    "y_valid_pred_list = y_valid_pred_array.tolist()"
   ]
  },
  {
   "cell_type": "code",
   "execution_count": 22,
   "metadata": {
    "collapsed": false
   },
   "outputs": [],
   "source": [
    "# Get rid of the 2nd dimension of 1 from the FloatTensor\n",
    "valid_outcomes_Variable_resized = valid_outcomes_Variable.resize(2748)\n",
    "\n",
    "\n",
    "# Make the FloatTensor into a numpy.array\n",
    "valid_outcomes_array = valid_outcomes_Variable_resized.data.numpy()\n",
    "\n",
    "\n",
    "# Make the numpy.array into a list\n",
    "valid_outcomes_list = valid_outcomes_array.tolist()"
   ]
  },
  {
   "cell_type": "code",
   "execution_count": 23,
   "metadata": {
    "collapsed": false
   },
   "outputs": [
    {
     "data": {
      "text/plain": [
       "[<matplotlib.lines.Line2D at 0x7efe4c05aeb8>]"
      ]
     },
     "execution_count": 23,
     "metadata": {},
     "output_type": "execute_result"
    },
    {
     "data": {
      "image/png": "[encoded data removed]",
      "text/plain": [
       "<matplotlib.figure.Figure at 0x7efe4c16d438>"
      ]
     },
     "metadata": {},
     "output_type": "display_data"
    }
   ],
   "source": [
    "# Plot new predictions versus new data outcomes\n",
    "plt.scatter(valid_outcomes_list, y_valid_pred_list, c = \"black\", alpha = 0.15)\n",
    "\n",
    "axes = plt.gca()\n",
    "\n",
    "axes.set_xlim([-2, 4])\n",
    "\n",
    "axes.set_ylim([-2, 4])\n",
    "\n",
    "plt.plot([-2, 4], [-2, 4], 'k-', lw=2)"
   ]
  },
  {
   "cell_type": "markdown",
   "metadata": {},
   "source": [
    "### Round 1.2: Test Set Performance"
   ]
  },
  {
   "cell_type": "code",
   "execution_count": 24,
   "metadata": {
    "collapsed": false
   },
   "outputs": [],
   "source": [
    "# Import data\n",
    "test_df = pd.read_csv(\"/home/jeremy/github_tornadoesr/data/raw/tor_test_set_no_zeros_mob_home.csv\")\n",
    "\n",
    "\n",
    "# Validation set outcomes\n",
    "test_outcomes = test_df.iloc[:, [0]]\n",
    "\n",
    "\n",
    "# Make the validation outcomes into a numpy array\n",
    "test_outcomes_array = test_outcomes.values\n",
    "\n",
    "\n",
    "# Makes the numpy array into a torch Tensor\n",
    "test_outcomes_Tensor = torch.from_numpy(test_outcomes_array)\n",
    "\n",
    "\n",
    "# Changing validation outcomes from a DoubleTensor to a FloatTensor\n",
    "test_outcomes_Tensor = test_outcomes_Tensor.float()\n",
    "\n",
    "\n",
    "# Make the Tensor into a Pytorch Variable\n",
    "test_outcomes_Variable = Variable(test_outcomes_Tensor)"
   ]
  },
  {
   "cell_type": "code",
   "execution_count": 25,
   "metadata": {
    "collapsed": true
   },
   "outputs": [],
   "source": [
    "# Validation set predictors\n",
    "test_predictors = test_df.iloc[:, 2:]\n",
    "\n",
    "\n",
    "# Get rid of non-location and non-landcover variables\n",
    "test_predictors = test_predictors.drop([\"TOR_LENGTH\",\n",
    "                                        \"TOR_WIDTH\",\n",
    "                                        \"YEAR\",\n",
    "                                        \"TOR_AREA\",\n",
    "                                        \"EXP_INC_AREA\",\n",
    "                                        \"DAY_OF_YEAR\",\n",
    "                                        \"MONTH_MEAN\",\n",
    "                                        \"TIME\"],\n",
    "                                       axis = 1)\n",
    "\n",
    "\n",
    "# Make the validation predictors into a numpy array\n",
    "test_predictors_array = test_predictors.values\n",
    "\n",
    "\n",
    "# Makes the numpy array into a torch Tensor\n",
    "test_predictors_Tensor = torch.from_numpy(test_predictors_array)\n",
    "\n",
    "\n",
    "# Changing validation predictors from a DoubleTensor to a FloatTensor\n",
    "test_predictors_Tensor = test_predictors_Tensor.float()\n",
    "\n",
    "\n",
    "# Make the Tensor into a Pytorch Variable\n",
    "test_predictors_Variable = Variable(test_predictors_Tensor)"
   ]
  },
  {
   "cell_type": "code",
   "execution_count": 26,
   "metadata": {
    "collapsed": false
   },
   "outputs": [
    {
     "data": {
      "text/plain": [
       "Variable containing:\n",
       " 453.5546\n",
       "[torch.FloatTensor of size 1]"
      ]
     },
     "execution_count": 26,
     "metadata": {},
     "output_type": "execute_result"
    }
   ],
   "source": [
    "# Get the validation set predictions\n",
    "y_test_pred = model(test_predictors_Variable)\n",
    "\n",
    "\n",
    "# Print the loss\n",
    "loss_fn(y_test_pred,\n",
    "        test_outcomes_Variable)"
   ]
  },
  {
   "cell_type": "code",
   "execution_count": 27,
   "metadata": {
    "collapsed": false
   },
   "outputs": [],
   "source": [
    "# Get rid of the 2nd dimension of 1 from the FloatTensor\n",
    "y_test_pred_resized = y_test_pred.resize(2699)\n",
    "\n",
    "\n",
    "# Make the FloatTensor into a numpy.array\n",
    "y_test_pred_array = y_test_pred_resized.data.numpy()\n",
    "\n",
    "\n",
    "# Convert back to native units and scale\n",
    "y_test_pred_array = y_test_pred_array*5.41747 + 7.67485\n",
    "\n",
    "\n",
    "# Make the numpy.array into a list\n",
    "y_test_pred_list = y_test_pred_array.tolist()"
   ]
  },
  {
   "cell_type": "code",
   "execution_count": 28,
   "metadata": {
    "collapsed": true
   },
   "outputs": [],
   "source": [
    "# Get rid of the 2nd dimension of 1 from the FloatTensor\n",
    "test_outcomes_Variable_resized = test_outcomes_Variable.resize(2699)\n",
    "\n",
    "\n",
    "# Make the FloatTensor into a numpy.array\n",
    "test_outcomes_array = test_outcomes_Variable_resized.data.numpy()\n",
    "\n",
    "\n",
    "# Convert back to native units and scale\n",
    "test_outcomes_array = test_outcomes_array*5.41747 + 7.67485\n",
    "\n",
    "\n",
    "# Make the numpy.array into a list\n",
    "test_outcomes_list = test_outcomes_array.tolist()"
   ]
  },
  {
   "cell_type": "code",
   "execution_count": 29,
   "metadata": {
    "collapsed": false
   },
   "outputs": [
    {
     "data": {
      "text/plain": [
       "<matplotlib.text.Text at 0x7efe39e4bdd8>"
      ]
     },
     "execution_count": 29,
     "metadata": {},
     "output_type": "execute_result"
    },
    {
     "data": {
      "image/png": "[encoded data removed]",
      "text/plain": [
       "<matplotlib.figure.Figure at 0x7efe4cec8e10>"
      ]
     },
     "metadata": {},
     "output_type": "display_data"
    }
   ],
   "source": [
    "# Plot new predictions versus new data outcomes\n",
    "plt.scatter(test_outcomes_list, y_test_pred_list, c = \"black\", alpha = 0.15)\n",
    "\n",
    "axes = plt.gca()\n",
    "\n",
    "axes.set_xlim([2, 23])\n",
    "\n",
    "axes.set_ylim([2, 23])\n",
    "\n",
    "axes.set_xticks([2, 5, 8, 11, 14, 17, 20, 23])\n",
    "\n",
    "axes.set_yticks([2, 5, 8, 11, 14, 17, 20, 23])\n",
    "\n",
    "plt.plot([2, 23], [2, 23], 'k-', lw=2)\n",
    "\n",
    "axes.set_xlabel(\"Actual Outcome (Log-Transformed US Dollars)\")\n",
    "\n",
    "axes.set_ylabel(\"Model Prediction (Log-Transformed US Dollars)\")\n",
    "\n",
    "axes.set_title(\"Model Performance\")"
   ]
  },
  {
   "cell_type": "code",
   "execution_count": 30,
   "metadata": {
    "collapsed": false
   },
   "outputs": [
    {
     "data": {
      "text/plain": [
       "Parameter containing:\n",
       "\n",
       "Columns 0 to 9 \n",
       "-0.0419  0.7062 -0.1282  0.3222 -0.0718  0.0735 -0.1188 -0.0387  0.1013  0.0027\n",
       " 0.2160  0.1499 -0.1438 -0.1373  0.0437  0.2759 -0.1353  0.2653  0.0560  0.0248\n",
       " 0.1750  0.1361 -0.0114  0.1073 -0.3137  0.1549  0.1444  0.0241  0.1893 -0.1355\n",
       " 0.0620  0.1245 -0.0655 -0.0592 -0.1651  0.2430 -0.0210  0.2809  0.0463  0.2124\n",
       " 0.1977  0.0472  0.2672  0.2276 -0.2473  0.0298  0.1061  0.0017 -0.4351  0.1765\n",
       " 0.1594 -0.1079  0.0543 -0.3180  0.4153 -0.2048  0.3289  0.0836  0.0333 -0.2541\n",
       " 0.0067  0.2268 -0.0214  0.0066 -0.4226 -0.2699  0.1165 -0.3967 -0.3464 -0.0691\n",
       "-0.1322  0.0322 -0.0796 -0.1507  0.3563  0.0939 -0.1293  0.0481 -0.0316  0.2000\n",
       "-0.1119  0.0523  0.0384  0.2169  0.2167 -0.1415 -0.0761  0.0005 -0.0985  0.0041\n",
       "-0.3652 -0.1320  0.0213 -0.1056 -0.1464 -0.1762  0.3864  0.2242  0.0117  0.2122\n",
       "-0.0271  0.1780 -0.0728  0.3605 -0.1181  0.1091 -0.2032  0.0247  0.2610 -0.0574\n",
       " 0.1484 -0.0548  0.0519  0.1991  0.0127  0.0184 -0.0453 -0.1869 -0.1499 -0.0918\n",
       " 0.0917 -0.0332  0.0939  0.0334  0.0759 -0.0215  0.2038  0.1004  0.3342  0.0073\n",
       "-0.1582  0.4496 -0.1154  0.1864 -0.0347 -0.1500  0.2878 -0.0213  0.0065 -0.2749\n",
       "-0.1257 -0.0399 -0.0936 -0.0529  0.0327 -0.0585  0.3339 -0.0741 -0.0112  0.0451\n",
       "\n",
       "Columns 10 to 19 \n",
       "-0.0732  0.0131  0.1128  0.0905 -0.0904 -0.0067  0.0887  0.1372  0.1954 -0.0275\n",
       " 0.2017  0.0834 -0.2199  0.1499  0.1321  0.1286 -0.0263  0.0118  0.0639 -0.0656\n",
       " 0.2023 -0.2606  0.2404 -0.1275  0.1616  0.0976 -0.1169 -0.0028 -0.4774  0.1302\n",
       " 0.2737 -0.0211  0.1116 -0.0995  0.1617  0.4005 -0.0828 -0.0920 -0.0165 -0.1223\n",
       "-0.1642  0.1150 -0.0029 -0.0913 -0.2269  0.0711 -0.0162  0.0102  0.1294  0.0466\n",
       "-0.3666 -0.0596  0.0669  0.3084  0.4263 -0.2207 -0.0419  0.0921  0.2598  0.0813\n",
       " 0.0167  0.0157 -0.2017  0.5143  0.1267  0.0665  0.1415  0.0304  0.5563  0.2544\n",
       "-0.2367 -0.0760  0.0370 -0.1249  0.0678 -0.1153 -0.0339  0.0613 -0.0250 -0.0895\n",
       "-0.0998  0.1827  0.1299  0.2156  0.0707  0.2985  0.0152 -0.1730 -0.6132  0.1163\n",
       "-0.1711 -0.0613  0.1012  0.2870  0.1768 -0.0455  0.0249 -0.0011  0.0873  0.1778\n",
       " 0.0949 -0.2418  0.1685  0.1999 -0.4728  0.5038  0.1875 -0.0855  0.3082 -0.1413\n",
       " 0.0827  0.1449  0.0110  0.1469 -0.2643 -0.3074  0.1262  0.1067 -0.2891  0.1775\n",
       "-0.0145  0.1033  0.1790 -0.4109  0.2115 -0.0074  0.1370 -0.1354 -0.0586 -0.1059\n",
       " 0.0306 -0.1121 -0.1186  0.1488 -0.1425 -0.0086  0.0015  0.0978 -0.2859 -0.1844\n",
       "-0.3509 -0.0741  0.0333  0.3472  0.3330  0.0633  0.3057 -0.1503 -0.1350  0.3448\n",
       "\n",
       "Columns 20 to 22 \n",
       "-0.3739 -0.2753 -0.2935\n",
       " 0.0497 -0.1512  0.0968\n",
       "-0.0789 -0.2240  0.2096\n",
       "-0.0962 -0.2553 -0.0172\n",
       " 0.1981 -0.0444 -0.1431\n",
       "-0.2341 -0.0017 -0.1081\n",
       " 0.2723 -0.0853  0.0727\n",
       "-0.1236  0.0667  0.0400\n",
       " 0.0023  0.1424  0.0043\n",
       "-0.1954  0.0502  0.1282\n",
       " 0.1630 -0.0369 -0.0427\n",
       "-0.0264 -0.0296  0.0327\n",
       " 0.1113 -0.1737 -0.0134\n",
       "-0.2863  0.1298 -0.1336\n",
       " 0.1232  0.1692  0.3896\n",
       "[torch.FloatTensor of size 15x23]"
      ]
     },
     "execution_count": 30,
     "metadata": {},
     "output_type": "execute_result"
    }
   ],
   "source": [
    "model[(0)].weight"
   ]
  },
  {
   "cell_type": "code",
   "execution_count": 31,
   "metadata": {
    "collapsed": false
   },
   "outputs": [
    {
     "data": {
      "text/plain": [
       "Parameter containing:\n",
       "\n",
       "Columns 0 to 9 \n",
       "-0.2759  0.3257  0.1779 -0.3350  0.0939  0.1391  0.1788  0.2527  0.1653  0.2678\n",
       "\n",
       "Columns 10 to 14 \n",
       " 0.1861  0.2320  0.2036  0.1315 -0.2272\n",
       "[torch.FloatTensor of size 1x15]"
      ]
     },
     "execution_count": 31,
     "metadata": {},
     "output_type": "execute_result"
    }
   ],
   "source": [
    "model[(2)].weight"
   ]
  },
  {
   "cell_type": "markdown",
   "metadata": {},
   "source": [
    "## Round 2: Two-Hidden-Layer Neural Network"
   ]
  },
  {
   "cell_type": "code",
   "execution_count": 32,
   "metadata": {
    "collapsed": true
   },
   "outputs": [],
   "source": [
    "# Make the torch Tensor into a PyTorch Variable for dependent variables\n",
    "outcomes_Variable = Variable(outcomes_Tensor)\n",
    "\n",
    "\n",
    "# ...for independent variables\n",
    "features_Variable = Variable(features_Tensor,\n",
    "                             requires_grad = False)"
   ]
  },
  {
   "cell_type": "code",
   "execution_count": 33,
   "metadata": {
    "collapsed": true
   },
   "outputs": [],
   "source": [
    "# Make the neural network\n",
    "model = torch.nn.Sequential(torch.nn.Linear(23, 15),\n",
    "                            torch.nn.ReLU(),\n",
    "                            torch.nn.Linear(15, 10),\n",
    "                            torch.nn.ReLU(),\n",
    "                            torch.nn.Linear(10, 1))"
   ]
  },
  {
   "cell_type": "code",
   "execution_count": 34,
   "metadata": {
    "collapsed": false
   },
   "outputs": [],
   "source": [
    "# To add errors to\n",
    "errors = []\n",
    "\n",
    "\n",
    "# Set the learning rate\n",
    "learning_rate = 1e-2\n",
    "\n",
    "\n",
    "# Define the model's optimizer\n",
    "optimizer = torch.optim.Adagrad(model.parameters(), lr = learning_rate)\n",
    "\n",
    "\n",
    "# Train the neural network\n",
    "for t in range(10000):\n",
    "    \n",
    "    # Get the current predictions\n",
    "    y_pred = model(features_Variable)\n",
    "    \n",
    "    # Compute and append current summed errors\n",
    "    loss = loss_fn(y_pred, outcomes_Variable)\n",
    "    errors.append(loss.data[0])\n",
    "    \n",
    "    # Zero the gradients before running the backward pass.\n",
    "    optimizer.zero_grad()\n",
    "    \n",
    "    # Backward pass: compute gradient of the loss with respect to all the learnable Variables\n",
    "    loss.backward()\n",
    "    \n",
    "    # Update the weights using Adagrad\n",
    "    optimizer.step()"
   ]
  },
  {
   "cell_type": "code",
   "execution_count": 35,
   "metadata": {
    "collapsed": false
   },
   "outputs": [
    {
     "data": {
      "text/plain": [
       "<matplotlib.collections.PathCollection at 0x7efe39d90ba8>"
      ]
     },
     "execution_count": 35,
     "metadata": {},
     "output_type": "execute_result"
    },
    {
     "data": {
      "image/png": "[encoded data removed]",
      "text/plain": [
       "<matplotlib.figure.Figure at 0x7efe39e0b908>"
      ]
     },
     "metadata": {},
     "output_type": "display_data"
    }
   ],
   "source": [
    "# Plot summed error as a function of iteration\n",
    "plt.scatter(iterations, errors)"
   ]
  },
  {
   "cell_type": "code",
   "execution_count": 36,
   "metadata": {
    "collapsed": false
   },
   "outputs": [],
   "source": [
    "# Get rid of the 2nd dimension of 1 from the FloatTensor\n",
    "y_pred_resized = y_pred.resize(8230)\n",
    "\n",
    "\n",
    "# Make the FloatTensor into a numpy.array\n",
    "y_pred_array = y_pred_resized.data.numpy()\n",
    "\n",
    "\n",
    "# Make the numpy.array into a list\n",
    "y_pred_list = y_pred_array.tolist()"
   ]
  },
  {
   "cell_type": "code",
   "execution_count": 37,
   "metadata": {
    "collapsed": false
   },
   "outputs": [
    {
     "data": {
      "text/plain": [
       "[<matplotlib.lines.Line2D at 0x7efe39ef3b38>]"
      ]
     },
     "execution_count": 37,
     "metadata": {},
     "output_type": "execute_result"
    },
    {
     "data": {
      "image/png": "[encoded data removed]",
      "text/plain": [
       "<matplotlib.figure.Figure at 0x7efe39ef3780>"
      ]
     },
     "metadata": {},
     "output_type": "display_data"
    }
   ],
   "source": [
    "# Plot predictions versus training set outcomes\n",
    "plt.scatter(outcomes_list, y_pred_list, c = \"black\", alpha = 0.15)\n",
    "\n",
    "axes = plt.gca()\n",
    "\n",
    "axes.set_xlim([-2, 4])\n",
    "\n",
    "axes.set_ylim([-2, 4])\n",
    "\n",
    "plt.plot([-2, 4], [-2, 4], 'k-', lw=2)"
   ]
  },
  {
   "cell_type": "markdown",
   "metadata": {},
   "source": [
    "### Round 2.1: Validation Set Performance"
   ]
  },
  {
   "cell_type": "code",
   "execution_count": 38,
   "metadata": {
    "collapsed": false
   },
   "outputs": [
    {
     "data": {
      "text/plain": [
       "Variable containing:\n",
       " 496.8574\n",
       "[torch.FloatTensor of size 1]"
      ]
     },
     "execution_count": 38,
     "metadata": {},
     "output_type": "execute_result"
    }
   ],
   "source": [
    "# Get the validation set predictions\n",
    "y_valid_pred = model(valid_predictors_Variable)\n",
    "\n",
    "\n",
    "# Print the loss\n",
    "loss_fn(y_valid_pred,\n",
    "        valid_outcomes_Variable)"
   ]
  },
  {
   "cell_type": "code",
   "execution_count": 39,
   "metadata": {
    "collapsed": false
   },
   "outputs": [],
   "source": [
    "# Get rid of the 2nd dimension of 1 from the FloatTensor\n",
    "y_valid_pred_resized = y_valid_pred.resize(2748)\n",
    "\n",
    "\n",
    "# Make the FloatTensor into a numpy.array\n",
    "y_valid_pred_array = y_valid_pred_resized.data.numpy()\n",
    "\n",
    "\n",
    "# Make the numpy.array into a list\n",
    "y_valid_pred_list = y_valid_pred_array.tolist()"
   ]
  },
  {
   "cell_type": "code",
   "execution_count": 40,
   "metadata": {
    "collapsed": false
   },
   "outputs": [
    {
     "data": {
      "text/plain": [
       "[<matplotlib.lines.Line2D at 0x7efe4c197e80>]"
      ]
     },
     "execution_count": 40,
     "metadata": {},
     "output_type": "execute_result"
    },
    {
     "data": {
      "image/png": "[encoded data removed]",
      "text/plain": [
       "<matplotlib.figure.Figure at 0x7efe4c1a5128>"
      ]
     },
     "metadata": {},
     "output_type": "display_data"
    }
   ],
   "source": [
    "# Plot new predictions versus new data outcomes\n",
    "plt.scatter(valid_outcomes_list, y_valid_pred_list, c = \"black\", alpha = 0.15)\n",
    "\n",
    "axes = plt.gca()\n",
    "\n",
    "axes.set_xlim([-2, 4])\n",
    "\n",
    "axes.set_ylim([-2, 4])\n",
    "\n",
    "plt.plot([-2, 4], [-2, 4], 'k-', lw=2)"
   ]
  },
  {
   "cell_type": "markdown",
   "metadata": {},
   "source": [
    "### Round 2.2: Test Set Performance"
   ]
  },
  {
   "cell_type": "code",
   "execution_count": 41,
   "metadata": {
    "collapsed": false
   },
   "outputs": [
    {
     "data": {
      "text/plain": [
       "Variable containing:\n",
       " 478.6919\n",
       "[torch.FloatTensor of size 1]"
      ]
     },
     "execution_count": 41,
     "metadata": {},
     "output_type": "execute_result"
    }
   ],
   "source": [
    "# Get the validation set predictions\n",
    "y_test_pred = model(test_predictors_Variable)\n",
    "\n",
    "\n",
    "# Print the loss\n",
    "loss_fn(y_test_pred,\n",
    "        test_outcomes_Variable)"
   ]
  },
  {
   "cell_type": "code",
   "execution_count": 42,
   "metadata": {
    "collapsed": true
   },
   "outputs": [],
   "source": [
    "# Get rid of the 2nd dimension of 1 from the FloatTensor\n",
    "y_test_pred_resized = y_test_pred.resize(2699)\n",
    "\n",
    "\n",
    "# Make the FloatTensor into a numpy.array\n",
    "y_test_pred_array = y_test_pred_resized.data.numpy()\n",
    "\n",
    "\n",
    "# Convert back to native units and scale\n",
    "y_test_pred_array = y_test_pred_array*5.41747 + 7.67485\n",
    "\n",
    "\n",
    "# Make the numpy.array into a list\n",
    "y_test_pred_list = y_test_pred_array.tolist()"
   ]
  },
  {
   "cell_type": "code",
   "execution_count": 43,
   "metadata": {
    "collapsed": false
   },
   "outputs": [
    {
     "data": {
      "text/plain": [
       "<matplotlib.text.Text at 0x7efe39c18f28>"
      ]
     },
     "execution_count": 43,
     "metadata": {},
     "output_type": "execute_result"
    },
    {
     "data": {
      "image/png": "[encoded data removed]",
      "text/plain": [
       "<matplotlib.figure.Figure at 0x7efe4c0a8208>"
      ]
     },
     "metadata": {},
     "output_type": "display_data"
    }
   ],
   "source": [
    "# Plot new predictions versus new data outcomes\n",
    "plt.scatter(test_outcomes_list, y_test_pred_list, c = \"black\", alpha = 0.15)\n",
    "\n",
    "axes = plt.gca()\n",
    "\n",
    "axes.set_xlim([2, 23])\n",
    "\n",
    "axes.set_ylim([2, 23])\n",
    "\n",
    "axes.set_xticks([2, 5, 8, 11, 14, 17, 20, 23])\n",
    "\n",
    "axes.set_yticks([2, 5, 8, 11, 14, 17, 20, 23])\n",
    "\n",
    "plt.plot([2, 23], [2, 23], 'k-', lw=2)\n",
    "\n",
    "axes.set_xlabel(\"Actual Outcome (Log-Transformed US Dollars)\")\n",
    "\n",
    "axes.set_ylabel(\"Model Prediction (Log-Transformed US Dollars)\")\n",
    "\n",
    "axes.set_title(\"Model Performance\")"
   ]
  },
  {
   "cell_type": "code",
   "execution_count": 44,
   "metadata": {
    "collapsed": false
   },
   "outputs": [
    {
     "data": {
      "text/plain": [
       "Parameter containing:\n",
       "\n",
       "Columns 0 to 9 \n",
       "-0.1298 -0.6950 -0.1284 -0.2616  0.0361 -0.4362  0.3446 -0.0838 -0.1302  0.5214\n",
       " 0.1148 -0.0393  0.0874 -0.4341  0.1567  0.1289  0.1565  0.0629 -0.0800 -0.0962\n",
       " 0.1381 -0.3016 -0.2013  0.0094 -0.0505 -0.3329  0.1059 -0.3291  0.0303  0.1973\n",
       "-0.0936 -0.1219 -0.0816  0.1717 -0.0757  0.4178 -0.1230 -0.0214  0.0460  0.0379\n",
       " 0.1968 -0.4699 -0.0173 -0.0804 -0.0310  0.0626  0.2391  0.2475  0.1228 -0.0656\n",
       "-0.2273  0.0904 -0.0880  0.2941 -0.2190  0.1114 -0.2398  0.0670  0.0173  0.0610\n",
       "-0.2386  0.1617 -0.1287 -0.0750 -0.0638  0.1142  0.0466  0.2845 -0.1370  0.2888\n",
       " 0.1286 -0.0901  0.1211  0.3823  0.2451 -0.1478  0.0355  0.1386 -0.0988 -0.0464\n",
       "-0.0282  0.2420  0.0123  0.0178 -0.1307  0.2424 -0.1024  0.2147  0.4376  0.1355\n",
       " 0.0087  0.1328 -0.0854  0.3797 -0.2239 -0.1143 -0.2342 -0.3895  0.0009 -0.1615\n",
       " 0.3531 -0.1384 -0.1309  0.0873  0.1691  0.0550 -0.0244  0.3392  0.2835 -0.0866\n",
       "-0.2539  0.0601  0.0790  0.2038  0.3102  0.0294  0.0338  0.0320  0.1184 -0.2056\n",
       "-0.2741  0.1531 -0.1192 -0.0167  0.2175 -0.2233 -0.0127 -0.0664 -0.3678  0.2414\n",
       " 0.0572  0.0210  0.0195  0.0715 -0.0020  0.2237  0.0046  0.0601 -0.0974 -0.0440\n",
       "-0.2341  0.0367  0.0067  0.0930 -0.0970 -0.2699 -0.1157  0.0658  0.3458 -0.1007\n",
       "\n",
       "Columns 10 to 19 \n",
       "-0.0198 -0.2228 -0.1920 -0.3560 -0.2514  0.0486 -0.2628 -0.0058  0.3648 -0.0892\n",
       "-0.1360  0.0255 -0.0071  0.4168  0.1900  0.0585 -0.1663  0.0799  0.1318 -0.1822\n",
       "-0.0215 -0.0802 -0.1747 -0.1975 -0.1065  0.1438 -0.1284  0.1201  0.1273  0.3477\n",
       " 0.1704  0.3879  0.0126 -0.1418 -0.0531 -0.0880 -0.2127 -0.0830  0.0157  0.3526\n",
       " 0.1439 -0.0561  0.0637  0.2350  0.3132  0.1111  0.0108  0.0086  0.0921 -0.6889\n",
       " 0.0956  0.0011  0.0294 -0.1614 -0.0789 -0.0402  0.0420 -0.0057  0.1209  0.1563\n",
       "-0.0946  0.3198  0.1588  0.0711  0.1054  0.0150  0.2525  0.0520  0.3037 -0.1050\n",
       " 0.0361  0.1305  0.0681  0.3801 -0.5354  0.0352  0.3212 -0.1695 -0.3393  0.2540\n",
       "-0.1716 -0.0867 -0.1774 -0.0407  0.1938  0.0907 -0.0662  0.0442  0.1324 -0.2209\n",
       " 0.1049  0.0068 -0.1440 -0.1934 -0.0455  0.1937 -0.0456 -0.0249  0.2098  0.1454\n",
       " 0.2031 -0.3788  0.0914 -0.1593  0.0298 -0.1632  0.0970  0.1852  0.0090 -0.0442\n",
       "-0.1259  0.1431 -0.1052  0.0125 -0.2225  0.0610 -0.1462 -0.3176 -0.1112  0.4168\n",
       " 0.2824 -0.1577 -0.2485 -0.1099 -0.1044 -0.2737  0.3264  0.2058  0.3663  0.1522\n",
       " 0.1580  0.2715 -0.3176  0.1007  0.2981 -0.3294 -0.1747 -0.0130 -0.3029  0.0379\n",
       "-0.3413 -0.2002  0.1483 -0.1125 -0.1299  0.0294 -0.0464 -0.1463 -0.2036  0.0236\n",
       "\n",
       "Columns 20 to 22 \n",
       "-0.1769  0.9462  0.0987\n",
       "-0.0595 -0.2650  0.0193\n",
       " 0.0080 -0.1859  0.4307\n",
       " 0.2545 -0.5909 -0.0343\n",
       " 0.1570  0.0709  0.1079\n",
       " 0.3465 -0.0598 -0.2911\n",
       "-0.0610 -0.3951  0.0926\n",
       " 0.0726  0.0155 -0.0601\n",
       " 0.1164  0.0408 -0.2557\n",
       " 0.3603  0.0016 -0.1431\n",
       "-0.2815 -0.2181  0.3600\n",
       "-0.4910 -0.5416 -0.0030\n",
       " 0.0027  0.0460 -0.0256\n",
       "-0.3126  0.0692  0.2039\n",
       " 0.0464 -0.0605  0.0863\n",
       "[torch.FloatTensor of size 15x23]"
      ]
     },
     "execution_count": 44,
     "metadata": {},
     "output_type": "execute_result"
    }
   ],
   "source": [
    "model[(0)].weight"
   ]
  },
  {
   "cell_type": "code",
   "execution_count": 45,
   "metadata": {
    "collapsed": false
   },
   "outputs": [
    {
     "data": {
      "text/plain": [
       "Parameter containing:\n",
       "\n",
       "Columns 0 to 9 \n",
       " 0.3078  0.0788 -0.3441  0.0176  0.1936  0.5106  0.3511 -0.2856 -0.7098  0.2320\n",
       "-0.0843  0.1964 -0.4717  0.2698  0.1474 -0.2778  0.2348  0.0952  0.0959  0.3945\n",
       " 0.2150  0.1728 -0.6815  0.3507  0.0513 -0.3470 -0.0197  0.1910  0.1118  0.3797\n",
       "-0.2270  0.4178  0.5148 -0.4646 -0.8005 -0.6048  0.3529  0.2774 -0.1517  0.0749\n",
       " 0.2765  0.2132 -0.2638  0.1440  0.2785 -0.2536 -0.0415  0.0533  0.2462  0.2229\n",
       " 0.5524  0.2198 -0.2745  0.0072  0.0082 -0.1257  0.1288  0.1270  0.0444 -0.0621\n",
       "-0.1125 -0.1346 -0.0774  0.0722  0.2776 -0.0943 -0.5508 -0.1232  0.1110 -0.4369\n",
       " 0.2333  0.2890 -0.2090 -0.5140 -1.0116 -0.1489  0.3354  0.1813 -0.0096 -0.4847\n",
       " 0.0533 -0.5814 -0.1198 -0.5554  0.1794  0.1725 -0.2851  0.0206  0.1169  0.0916\n",
       " 0.1428  0.0498  0.4100  0.0453 -0.0087 -0.0459 -0.0447  0.1599 -0.7771  0.1153\n",
       "\n",
       "Columns 10 to 14 \n",
       " 0.2271 -0.1712 -0.4373  0.0919 -0.0851\n",
       " 0.3136 -0.5143  0.0438  0.2019  0.2708\n",
       " 0.3481  0.0699 -0.1076  0.3070  0.1229\n",
       " 0.1399 -0.5127  0.0180  0.3409  0.2324\n",
       " 0.3061 -0.1983 -0.0537 -0.0361  0.2510\n",
       "-0.0393 -0.1835 -0.0234 -0.1519  0.1112\n",
       "-0.4140  0.3613 -0.4164  0.1910 -0.8099\n",
       " 0.3023 -0.0130 -0.0889 -0.8369  0.0826\n",
       "-0.0722 -0.6408  0.0758 -0.0574  0.3194\n",
       "-0.5822 -0.3743  0.2147  0.0151 -0.3091\n",
       "[torch.FloatTensor of size 10x15]"
      ]
     },
     "execution_count": 45,
     "metadata": {},
     "output_type": "execute_result"
    }
   ],
   "source": [
    "model[(2)].weight"
   ]
  },
  {
   "cell_type": "code",
   "execution_count": 46,
   "metadata": {
    "collapsed": false
   },
   "outputs": [
    {
     "data": {
      "text/plain": [
       "Parameter containing:\n",
       "-0.8435  0.3317  0.2770  0.4307  0.2105  0.3769 -0.7021 -1.1929 -0.8757 -0.3875\n",
       "[torch.FloatTensor of size 1x10]"
      ]
     },
     "execution_count": 46,
     "metadata": {},
     "output_type": "execute_result"
    }
   ],
   "source": [
    "model[(4)].weight"
   ]
  },
  {
   "cell_type": "markdown",
   "metadata": {},
   "source": [
    "## Round 3: Three-Hidden-Layer Neural Network"
   ]
  },
  {
   "cell_type": "code",
   "execution_count": 47,
   "metadata": {
    "collapsed": true
   },
   "outputs": [],
   "source": [
    "# Make the torch Tensor into a PyTorch Variable for dependent variables\n",
    "outcomes_Variable = Variable(outcomes_Tensor)\n",
    "\n",
    "\n",
    "# ...for independent variables\n",
    "features_Variable = Variable(features_Tensor,\n",
    "                             requires_grad = False)"
   ]
  },
  {
   "cell_type": "code",
   "execution_count": 48,
   "metadata": {
    "collapsed": false
   },
   "outputs": [],
   "source": [
    "# Make the neural network\n",
    "model = torch.nn.Sequential(torch.nn.Linear(23, 15),\n",
    "                            torch.nn.ReLU(),\n",
    "                            torch.nn.Linear(15, 10),\n",
    "                            torch.nn.ReLU(),\n",
    "                            torch.nn.Linear(10, 7),\n",
    "                            torch.nn.ReLU(),\n",
    "                            torch.nn.Linear(7, 1))"
   ]
  },
  {
   "cell_type": "code",
   "execution_count": 49,
   "metadata": {
    "collapsed": false
   },
   "outputs": [],
   "source": [
    "# To add errors to\n",
    "errors = []\n",
    "\n",
    "\n",
    "# Set the learning rate\n",
    "learning_rate = 1e-2\n",
    "\n",
    "\n",
    "# Define the model's optimizer\n",
    "optimizer = torch.optim.Adagrad(model.parameters(), lr = learning_rate)\n",
    "\n",
    "\n",
    "# Train the neural network\n",
    "for t in range(10000):\n",
    "    \n",
    "    # Get the current predictions\n",
    "    y_pred = model(features_Variable)\n",
    "    \n",
    "    # Compute and append current summed errors\n",
    "    loss = loss_fn(y_pred, outcomes_Variable)\n",
    "    errors.append(loss.data[0])\n",
    "    \n",
    "    # Zero the gradients before running the backward pass.\n",
    "    optimizer.zero_grad()\n",
    "    \n",
    "    # Backward pass: compute gradient of the loss with respect to all the learnable Variables\n",
    "    loss.backward()\n",
    "    \n",
    "    # Update the weights using Adagrad\n",
    "    optimizer.step()"
   ]
  },
  {
   "cell_type": "code",
   "execution_count": 50,
   "metadata": {
    "collapsed": false
   },
   "outputs": [
    {
     "data": {
      "text/plain": [
       "<matplotlib.collections.PathCollection at 0x7efe39b58908>"
      ]
     },
     "execution_count": 50,
     "metadata": {},
     "output_type": "execute_result"
    },
    {
     "data": {
      "image/png": "[encoded data removed]",
      "text/plain": [
       "<matplotlib.figure.Figure at 0x7efe39be93c8>"
      ]
     },
     "metadata": {},
     "output_type": "display_data"
    }
   ],
   "source": [
    "# Plot summed error as a function of iteration\n",
    "plt.scatter(iterations, errors)"
   ]
  },
  {
   "cell_type": "code",
   "execution_count": 51,
   "metadata": {
    "collapsed": true
   },
   "outputs": [],
   "source": [
    "# Get rid of the 2nd dimension of 1 from the FloatTensor\n",
    "y_pred_resized = y_pred.resize(8230)\n",
    "\n",
    "\n",
    "# Make the FloatTensor into a numpy.array\n",
    "y_pred_array = y_pred_resized.data.numpy()\n",
    "\n",
    "\n",
    "# Make the numpy.array into a list\n",
    "y_pred_list = y_pred_array.tolist()"
   ]
  },
  {
   "cell_type": "code",
   "execution_count": 52,
   "metadata": {
    "collapsed": false
   },
   "outputs": [
    {
     "data": {
      "text/plain": [
       "[<matplotlib.lines.Line2D at 0x7efe39cabef0>]"
      ]
     },
     "execution_count": 52,
     "metadata": {},
     "output_type": "execute_result"
    },
    {
     "data": {
      "image/png": "[encoded data removed]",
      "text/plain": [
       "<matplotlib.figure.Figure at 0x7efe39cab6a0>"
      ]
     },
     "metadata": {},
     "output_type": "display_data"
    }
   ],
   "source": [
    "# Plot predictions versus training set outcomes\n",
    "plt.scatter(outcomes_list, y_pred_list, c = \"black\", alpha = 0.15)\n",
    "\n",
    "axes = plt.gca()\n",
    "\n",
    "axes.set_xlim([-2, 4])\n",
    "\n",
    "axes.set_ylim([-2, 4])\n",
    "\n",
    "plt.plot([-2, 4], [-2, 4], 'k-', lw=2)"
   ]
  },
  {
   "cell_type": "markdown",
   "metadata": {},
   "source": [
    "### Round 3.1: Validation Set Performance"
   ]
  },
  {
   "cell_type": "code",
   "execution_count": 53,
   "metadata": {
    "collapsed": false
   },
   "outputs": [
    {
     "data": {
      "text/plain": [
       "Variable containing:\n",
       " 503.7550\n",
       "[torch.FloatTensor of size 1]"
      ]
     },
     "execution_count": 53,
     "metadata": {},
     "output_type": "execute_result"
    }
   ],
   "source": [
    "# Get the validation set predictions\n",
    "y_valid_pred = model(valid_predictors_Variable)\n",
    "\n",
    "\n",
    "# Print the loss\n",
    "loss_fn(y_valid_pred,\n",
    "        valid_outcomes_Variable)"
   ]
  },
  {
   "cell_type": "code",
   "execution_count": 54,
   "metadata": {
    "collapsed": false
   },
   "outputs": [],
   "source": [
    "# Get rid of the 2nd dimension of 1 from the FloatTensor\n",
    "y_valid_pred_resized = y_valid_pred.resize(2748)\n",
    "\n",
    "\n",
    "# Make the FloatTensor into a numpy.array\n",
    "y_valid_pred_array = y_valid_pred_resized.data.numpy()\n",
    "\n",
    "\n",
    "# Make the numpy.array into a list\n",
    "y_valid_pred_list = y_valid_pred_array.tolist()"
   ]
  },
  {
   "cell_type": "code",
   "execution_count": 55,
   "metadata": {
    "collapsed": false
   },
   "outputs": [
    {
     "data": {
      "text/plain": [
       "[<matplotlib.lines.Line2D at 0x7efe39a49710>]"
      ]
     },
     "execution_count": 55,
     "metadata": {},
     "output_type": "execute_result"
    },
    {
     "data": {
      "image/png": "[encoded data removed]",
      "text/plain": [
       "<matplotlib.figure.Figure at 0x7efe39a497b8>"
      ]
     },
     "metadata": {},
     "output_type": "display_data"
    }
   ],
   "source": [
    "# Plot new predictions versus new data outcomes\n",
    "plt.scatter(valid_outcomes_list, y_valid_pred_list, c = \"black\", alpha = 0.15)\n",
    "\n",
    "axes = plt.gca()\n",
    "\n",
    "axes.set_xlim([-2, 4])\n",
    "\n",
    "axes.set_ylim([-2, 4])\n",
    "\n",
    "plt.plot([-2, 4], [-2, 4], 'k-', lw=2)"
   ]
  },
  {
   "cell_type": "markdown",
   "metadata": {},
   "source": [
    "### Round 3.2: Test Set Performance"
   ]
  },
  {
   "cell_type": "code",
   "execution_count": 56,
   "metadata": {
    "collapsed": false
   },
   "outputs": [
    {
     "data": {
      "text/plain": [
       "Variable containing:\n",
       " 487.0051\n",
       "[torch.FloatTensor of size 1]"
      ]
     },
     "execution_count": 56,
     "metadata": {},
     "output_type": "execute_result"
    }
   ],
   "source": [
    "# Get the validation set predictions\n",
    "y_test_pred = model(test_predictors_Variable)\n",
    "\n",
    "\n",
    "# Print the loss\n",
    "loss_fn(y_test_pred,\n",
    "        test_outcomes_Variable)"
   ]
  },
  {
   "cell_type": "code",
   "execution_count": 57,
   "metadata": {
    "collapsed": true
   },
   "outputs": [],
   "source": [
    "# Get rid of the 2nd dimension of 1 from the FloatTensor\n",
    "y_test_pred_resized = y_test_pred.resize(2699)\n",
    "\n",
    "\n",
    "# Make the FloatTensor into a numpy.array\n",
    "y_test_pred_array = y_test_pred_resized.data.numpy()\n",
    "\n",
    "\n",
    "# Convert back to native units and scale\n",
    "y_test_pred_array = y_test_pred_array*5.41747 + 7.67485\n",
    "\n",
    "\n",
    "# Make the numpy.array into a list\n",
    "y_test_pred_list = y_test_pred_array.tolist()"
   ]
  },
  {
   "cell_type": "code",
   "execution_count": 58,
   "metadata": {
    "collapsed": false
   },
   "outputs": [
    {
     "data": {
      "text/plain": [
       "<matplotlib.text.Text at 0x7efe399e3c18>"
      ]
     },
     "execution_count": 58,
     "metadata": {},
     "output_type": "execute_result"
    },
    {
     "data": {
      "image/png": "[encoded data removed]",
      "text/plain": [
       "<matplotlib.figure.Figure at 0x7efe39c7b668>"
      ]
     },
     "metadata": {},
     "output_type": "display_data"
    }
   ],
   "source": [
    "# Plot new predictions versus new data outcomes\n",
    "plt.scatter(test_outcomes_list, y_test_pred_list, c = \"black\", alpha = 0.15)\n",
    "\n",
    "axes = plt.gca()\n",
    "\n",
    "axes.set_xlim([2, 23])\n",
    "\n",
    "axes.set_ylim([2, 23])\n",
    "\n",
    "axes.set_xticks([2, 5, 8, 11, 14, 17, 20, 23])\n",
    "\n",
    "axes.set_yticks([2, 5, 8, 11, 14, 17, 20, 23])\n",
    "\n",
    "plt.plot([2, 23], [2, 23], 'k-', lw=2)\n",
    "\n",
    "axes.set_xlabel(\"Actual Outcome (Log-Transformed US Dollars)\")\n",
    "\n",
    "axes.set_ylabel(\"Model Prediction (Log-Transformed US Dollars)\")\n",
    "\n",
    "axes.set_title(\"Model Performance\")"
   ]
  },
  {
   "cell_type": "code",
   "execution_count": 59,
   "metadata": {
    "collapsed": false
   },
   "outputs": [
    {
     "data": {
      "text/plain": [
       "Parameter containing:\n",
       "\n",
       "Columns 0 to 9 \n",
       " 0.1960 -0.5081 -0.0309  0.0381 -0.2655 -0.1382  0.4212 -0.1041 -0.2427  0.0285\n",
       " 0.0617  0.1926 -0.0743  0.1503 -0.1919  0.1038 -0.4216  0.0226  0.1106 -0.1405\n",
       " 0.4931 -0.1089 -0.2791  0.0993  0.2186  0.2651  0.0014 -0.4955 -0.2358 -0.1601\n",
       " 0.3832 -0.0418 -0.2637  0.0778  0.1625 -0.0845  0.5328 -0.0788 -0.0447 -0.1489\n",
       " 0.1026 -0.1637  0.1929  0.0899  0.0392 -0.4563  0.1903  0.2772  0.0243  0.1252\n",
       " 0.2377  0.0597  0.1397 -0.0744 -0.1147  0.2509 -0.5292  0.0265 -0.2430 -0.1579\n",
       "-0.1332 -0.4073  0.0487  0.3123  0.3405 -0.0659 -0.3444 -0.2395  0.4103 -0.0989\n",
       "-0.6013 -0.2880 -0.2397  0.0058 -0.0518 -0.1209  0.0598  0.5373  0.1947  0.1687\n",
       " 0.0962 -0.0268 -0.0605 -0.2364  0.2636  0.2752  0.2449  0.3045  0.6511  0.0403\n",
       " 0.1658 -0.1941  0.1779 -0.3185 -0.1418 -0.0630  0.3556 -0.1451 -0.0839 -0.0460\n",
       " 0.0608 -0.2716  0.0964  0.0083  0.1443  0.0232 -0.1951  0.2207  0.0274 -0.2134\n",
       "-0.0351  0.1313  0.1641  0.0903 -0.2415 -0.2450 -0.1162 -0.1070 -0.2023 -0.0824\n",
       " 0.0994 -0.2418 -0.2553  0.1947  0.1691  0.0871 -0.1028 -0.3043  0.2012 -0.0426\n",
       " 0.2160 -0.2473 -0.0335  0.2328 -0.0389  0.0325  0.1844  0.2756  0.2246 -0.0686\n",
       " 0.0572 -0.0591 -0.1901  0.1733  0.2432  0.2654 -0.2888 -0.0815 -0.0394 -0.0045\n",
       "\n",
       "Columns 10 to 19 \n",
       " 0.1284  0.0900  0.1317 -0.0987 -0.0019  0.2166 -0.2543 -0.0871 -0.1369  0.0662\n",
       " 0.1336 -0.0585 -0.3529 -0.2534  0.0383  0.6912  0.2751 -0.0960  0.2410  0.0009\n",
       "-0.0281  0.4702 -0.0753  0.2813  0.2336  0.1095  0.3021  0.0794 -0.2487  0.2313\n",
       "-0.3370  0.2108  0.3015  0.2241 -0.2559 -0.0795 -0.1257  0.1813  0.4543 -0.0787\n",
       " 0.0923 -0.3590 -0.0896  0.1686 -0.3360 -0.4889  0.0458  0.3078 -0.1091  0.5327\n",
       "-0.0986  0.1798 -0.1026  0.0980  0.1418 -0.0134 -0.1451 -0.1932  0.2015 -0.0930\n",
       "-0.4060  0.4257 -0.0049  0.0486 -0.0552  0.1224  0.3260 -0.1073 -0.2982  0.1986\n",
       " 0.2144 -0.5535 -0.2153  0.0926  0.1947  0.2674  0.0647  0.0444 -0.3484  0.0251\n",
       "-0.2396  0.1777 -0.1017  0.0421  0.2827  0.0594 -0.0622 -0.0405  0.0322 -0.0640\n",
       "-0.1992 -0.1666  0.1598  0.1502 -0.0162 -0.1471 -0.3214  0.0843  0.4186 -0.3409\n",
       "-0.2266  0.0470  0.3695 -0.0058 -0.3021  0.2518 -0.0437 -0.0921  0.1861  0.3600\n",
       " 0.4776 -0.1343  0.0664  0.1354  0.2518 -0.3927  0.0661 -0.0716 -0.3969  0.1193\n",
       "-0.0482  0.1314  0.1251  0.0075  0.5265 -0.1251  0.2424  0.1130 -0.1268 -0.4054\n",
       " 0.1753  0.3299  0.2101 -0.0563  0.1751  0.0365  0.0825 -0.0168 -0.0943  0.1772\n",
       "-0.0316 -0.3287  0.1354 -0.1292 -0.2984  0.1082 -0.0306 -0.2388  0.3873  0.2686\n",
       "\n",
       "Columns 20 to 22 \n",
       " 0.3902  0.1053  0.1186\n",
       " 0.3679 -0.1034  0.0582\n",
       "-0.1849 -0.1133  0.2505\n",
       "-0.3365 -0.0048 -0.2566\n",
       " 0.2250  0.0125  0.2036\n",
       "-0.1897  0.2868 -0.1535\n",
       "-0.2634  0.2832 -0.1341\n",
       "-0.5182  0.2141  0.1606\n",
       "-0.2966 -0.0674  0.2914\n",
       " 0.1580  0.0176 -0.0937\n",
       " 0.1721  0.0760  0.2499\n",
       " 0.3804  0.0975  0.1724\n",
       "-0.2933 -0.2198 -0.0008\n",
       "-0.3325 -0.1297  0.1511\n",
       " 0.1174 -0.1234  0.0051\n",
       "[torch.FloatTensor of size 15x23]"
      ]
     },
     "execution_count": 59,
     "metadata": {},
     "output_type": "execute_result"
    }
   ],
   "source": [
    "model[(0)].weight"
   ]
  },
  {
   "cell_type": "code",
   "execution_count": 60,
   "metadata": {
    "collapsed": false
   },
   "outputs": [
    {
     "data": {
      "text/plain": [
       "Parameter containing:\n",
       "\n",
       "Columns 0 to 9 \n",
       " 0.7562 -0.3892  0.2720  0.3639  0.4959 -0.0005 -0.0978  0.1746  0.2462  0.1246\n",
       " 0.1200  0.1978  0.2415  0.2675 -0.0046 -0.0717  0.2381 -0.1456 -0.0505  0.0966\n",
       "-0.5550 -0.1403  0.4143 -0.1603  0.2326  0.5938 -0.2486  0.5888  0.2870  0.2362\n",
       " 0.0699  0.2725  0.0797 -0.0555  0.2436 -0.0280  0.1920  0.3985 -0.2325  0.3120\n",
       " 0.1481  0.0189  0.3764  0.5934  0.1659  0.1828  0.9202  0.1005  0.5503  0.3487\n",
       "-0.4141  0.0468 -0.0906  0.3129 -0.1357  0.3461 -0.2069 -0.1829  0.2006  0.1022\n",
       "-0.0448  0.2362  0.0429 -0.2938 -0.1886  0.0780  0.4179  0.1357 -0.1746  0.0771\n",
       " 0.0233 -0.4272 -1.1080 -0.2352  0.2239  0.0521  0.4036  0.1677 -0.5359  0.3198\n",
       " 0.1229  0.1642  0.1867  0.2442 -0.0502 -0.3081  0.3359  0.0788 -0.1375  0.2309\n",
       " 0.1901 -0.4090  0.1138  0.1363  0.4288  0.1027 -0.0584  0.0232  0.2046  0.4430\n",
       "\n",
       "Columns 10 to 14 \n",
       " 0.0306  0.0427  0.0239 -0.0060  0.0031\n",
       " 0.2912  0.0573 -0.2955 -0.1619  0.3056\n",
       " 0.3125 -0.2230 -0.1219  0.0240 -0.0069\n",
       "-0.1358  0.1089 -0.5273  0.4257  0.1485\n",
       "-0.1076 -0.2118 -0.1653 -0.2812  0.0586\n",
       " 0.3135  0.3102 -0.2830  0.2640  0.2175\n",
       " 0.0210 -0.4383  0.0072  0.2067  0.0566\n",
       "-0.2670 -0.1524 -0.2298 -0.5286  0.2275\n",
       "-0.1811  0.1921 -0.0971  0.2729  0.5299\n",
       " 0.2539  0.0006  0.4766 -0.1085 -0.3230\n",
       "[torch.FloatTensor of size 10x15]"
      ]
     },
     "execution_count": 60,
     "metadata": {},
     "output_type": "execute_result"
    }
   ],
   "source": [
    "model[(2)].weight"
   ]
  },
  {
   "cell_type": "code",
   "execution_count": 61,
   "metadata": {
    "collapsed": false
   },
   "outputs": [
    {
     "data": {
      "text/plain": [
       "Parameter containing:\n",
       " 0.6572  0.3844  0.1226  0.1867  0.2682  0.3720 -0.3067 -0.3281  0.2320  0.2219\n",
       "-0.1099  0.1575  0.3038 -0.1870 -0.1881 -0.2631 -0.2796  0.0763 -0.2025  0.2056\n",
       "-0.5651 -0.1785  0.4146 -0.5121  0.4312  0.0521  0.1258  0.4678 -0.1425 -0.2926\n",
       " 0.5791 -0.0441 -0.2923  0.0932 -0.4289 -0.8607  0.5092  0.1768  0.0892 -0.4700\n",
       " 0.5469  0.2571 -0.5578 -0.7988  0.1067  0.0874  0.1093  1.2447 -0.2219  0.1161\n",
       " 0.2535 -0.0440  0.2830  0.2003  0.6181  0.1926 -0.7175 -0.2715  0.0800  0.5680\n",
       " 0.2694 -0.2604  0.3212 -0.4505 -0.0246  0.2419  0.9265  0.1509 -0.3777  0.2387\n",
       "[torch.FloatTensor of size 7x10]"
      ]
     },
     "execution_count": 61,
     "metadata": {},
     "output_type": "execute_result"
    }
   ],
   "source": [
    "model[(4)].weight"
   ]
  },
  {
   "cell_type": "code",
   "execution_count": 62,
   "metadata": {
    "collapsed": false
   },
   "outputs": [
    {
     "data": {
      "text/plain": [
       "Parameter containing:\n",
       " 0.1599  0.3399 -0.2784 -1.5232 -0.9269  0.2396 -1.9524\n",
       "[torch.FloatTensor of size 1x7]"
      ]
     },
     "execution_count": 62,
     "metadata": {},
     "output_type": "execute_result"
    }
   ],
   "source": [
    "model[(6)].weight"
   ]
  },
  {
   "cell_type": "markdown",
   "metadata": {},
   "source": [
    "## Round 4: Four-Hidden-Layer Neural Network"
   ]
  },
  {
   "cell_type": "code",
   "execution_count": 63,
   "metadata": {
    "collapsed": true
   },
   "outputs": [],
   "source": [
    "# Make the torch Tensor into a PyTorch Variable for dependent variables\n",
    "outcomes_Variable = Variable(outcomes_Tensor)\n",
    "\n",
    "\n",
    "# ...for independent variables\n",
    "features_Variable = Variable(features_Tensor,\n",
    "                             requires_grad = False)"
   ]
  },
  {
   "cell_type": "code",
   "execution_count": 64,
   "metadata": {
    "collapsed": true
   },
   "outputs": [],
   "source": [
    "# Make the neural network\n",
    "model = torch.nn.Sequential(torch.nn.Linear(23, 15),\n",
    "                            torch.nn.ReLU(),\n",
    "                            torch.nn.Linear(15, 10),\n",
    "                            torch.nn.ReLU(),\n",
    "                            torch.nn.Linear(10, 7),\n",
    "                            torch.nn.ReLU(),\n",
    "                            torch.nn.Linear(7, 5),\n",
    "                            torch.nn.ReLU(),\n",
    "                            torch.nn.Linear(5, 1))"
   ]
  },
  {
   "cell_type": "code",
   "execution_count": 65,
   "metadata": {
    "collapsed": true
   },
   "outputs": [],
   "source": [
    "# To add errors to\n",
    "errors = []\n",
    "\n",
    "\n",
    "# Set the learning rate\n",
    "learning_rate = 1e-2\n",
    "\n",
    "\n",
    "# Define the model's optimizer\n",
    "optimizer = torch.optim.Adagrad(model.parameters(), lr = learning_rate)\n",
    "\n",
    "\n",
    "# Train the neural network\n",
    "for t in range(10000):\n",
    "    \n",
    "    # Get the current predictions\n",
    "    y_pred = model(features_Variable)\n",
    "    \n",
    "    # Compute and append current summed errors\n",
    "    loss = loss_fn(y_pred, outcomes_Variable)\n",
    "    errors.append(loss.data[0])\n",
    "    \n",
    "    # Zero the gradients before running the backward pass.\n",
    "    optimizer.zero_grad()\n",
    "    \n",
    "    # Backward pass: compute gradient of the loss with respect to all the learnable Variables\n",
    "    loss.backward()\n",
    "    \n",
    "    # Update the weights using Adagrad\n",
    "    optimizer.step()"
   ]
  },
  {
   "cell_type": "code",
   "execution_count": 66,
   "metadata": {
    "collapsed": false
   },
   "outputs": [
    {
     "data": {
      "text/plain": [
       "<matplotlib.collections.PathCollection at 0x7efe3991e668>"
      ]
     },
     "execution_count": 66,
     "metadata": {},
     "output_type": "execute_result"
    },
    {
     "data": {
      "image/png": "[encoded data removed]",
      "text/plain": [
       "<matplotlib.figure.Figure at 0x7efe399b2780>"
      ]
     },
     "metadata": {},
     "output_type": "display_data"
    }
   ],
   "source": [
    "# Plot summed error as a function of iteration\n",
    "plt.scatter(iterations, errors)"
   ]
  },
  {
   "cell_type": "code",
   "execution_count": 67,
   "metadata": {
    "collapsed": false
   },
   "outputs": [],
   "source": [
    "# Get rid of the 2nd dimension of 1 from the FloatTensor\n",
    "y_pred_resized = y_pred.resize(8230)\n",
    "\n",
    "\n",
    "# Make the FloatTensor into a numpy.array\n",
    "y_pred_array = y_pred_resized.data.numpy()\n",
    "\n",
    "\n",
    "# Make the numpy.array into a list\n",
    "y_pred_list = y_pred_array.tolist()"
   ]
  },
  {
   "cell_type": "code",
   "execution_count": 68,
   "metadata": {
    "collapsed": false
   },
   "outputs": [
    {
     "data": {
      "text/plain": [
       "[<matplotlib.lines.Line2D at 0x7efe39cc2ba8>]"
      ]
     },
     "execution_count": 68,
     "metadata": {},
     "output_type": "execute_result"
    },
    {
     "data": {
      "image/png": "[encoded data removed]",
      "text/plain": [
       "<matplotlib.figure.Figure at 0x7efe39cc29e8>"
      ]
     },
     "metadata": {},
     "output_type": "display_data"
    }
   ],
   "source": [
    "# Plot predictions versus training set outcomes\n",
    "plt.scatter(outcomes_list, y_pred_list, c = \"black\", alpha = 0.15)\n",
    "\n",
    "axes = plt.gca()\n",
    "\n",
    "axes.set_xlim([-2, 4])\n",
    "\n",
    "axes.set_ylim([-2, 4])\n",
    "\n",
    "plt.plot([-2, 4], [-2, 4], 'k-', lw=2)"
   ]
  },
  {
   "cell_type": "markdown",
   "metadata": {},
   "source": [
    "### Round 4.1: Validation Set Performance"
   ]
  },
  {
   "cell_type": "code",
   "execution_count": 69,
   "metadata": {
    "collapsed": false
   },
   "outputs": [
    {
     "data": {
      "text/plain": [
       "Variable containing:\n",
       " 476.8360\n",
       "[torch.FloatTensor of size 1]"
      ]
     },
     "execution_count": 69,
     "metadata": {},
     "output_type": "execute_result"
    }
   ],
   "source": [
    "# Get the validation set predictions\n",
    "y_valid_pred = model(valid_predictors_Variable)\n",
    "\n",
    "\n",
    "# Print the loss\n",
    "loss_fn(y_valid_pred,\n",
    "        valid_outcomes_Variable)"
   ]
  },
  {
   "cell_type": "code",
   "execution_count": 70,
   "metadata": {
    "collapsed": true
   },
   "outputs": [],
   "source": [
    "# Get rid of the 2nd dimension of 1 from the FloatTensor\n",
    "y_valid_pred_resized = y_valid_pred.resize(2748)\n",
    "\n",
    "\n",
    "# Make the FloatTensor into a numpy.array\n",
    "y_valid_pred_array = y_valid_pred_resized.data.numpy()\n",
    "\n",
    "\n",
    "# Make the numpy.array into a list\n",
    "y_valid_pred_list = y_valid_pred_array.tolist()"
   ]
  },
  {
   "cell_type": "code",
   "execution_count": 71,
   "metadata": {
    "collapsed": false
   },
   "outputs": [
    {
     "data": {
      "text/plain": [
       "[<matplotlib.lines.Line2D at 0x7efe39aeffd0>]"
      ]
     },
     "execution_count": 71,
     "metadata": {},
     "output_type": "execute_result"
    },
    {
     "data": {
      "image/png": "[encoded data removed]",
      "text/plain": [
       "<matplotlib.figure.Figure at 0x7efe39aeff60>"
      ]
     },
     "metadata": {},
     "output_type": "display_data"
    }
   ],
   "source": [
    "# Plot new predictions versus new data outcomes\n",
    "plt.scatter(valid_outcomes_list, y_valid_pred_list, c = \"black\", alpha = 0.15)\n",
    "\n",
    "axes = plt.gca()\n",
    "\n",
    "axes.set_xlim([-2, 4])\n",
    "\n",
    "axes.set_ylim([-2, 4])\n",
    "\n",
    "plt.plot([-2, 4], [-2, 4], 'k-', lw=2)"
   ]
  },
  {
   "cell_type": "markdown",
   "metadata": {},
   "source": [
    "### Round 4.2: Test Set Performance"
   ]
  },
  {
   "cell_type": "code",
   "execution_count": 72,
   "metadata": {
    "collapsed": false
   },
   "outputs": [
    {
     "data": {
      "text/plain": [
       "Variable containing:\n",
       " 460.7478\n",
       "[torch.FloatTensor of size 1]"
      ]
     },
     "execution_count": 72,
     "metadata": {},
     "output_type": "execute_result"
    }
   ],
   "source": [
    "# Get the validation set predictions\n",
    "y_test_pred = model(test_predictors_Variable)\n",
    "\n",
    "\n",
    "# Print the loss\n",
    "loss_fn(y_test_pred,\n",
    "        test_outcomes_Variable)"
   ]
  },
  {
   "cell_type": "code",
   "execution_count": 73,
   "metadata": {
    "collapsed": true
   },
   "outputs": [],
   "source": [
    "# Get rid of the 2nd dimension of 1 from the FloatTensor\n",
    "y_test_pred_resized = y_test_pred.resize(2699)\n",
    "\n",
    "\n",
    "# Make the FloatTensor into a numpy.array\n",
    "y_test_pred_array = y_test_pred_resized.data.numpy()\n",
    "\n",
    "\n",
    "# Convert back to native units and scale\n",
    "y_test_pred_array = y_test_pred_array*5.41747 + 7.67485\n",
    "\n",
    "\n",
    "# Make the numpy.array into a list\n",
    "y_test_pred_list = y_test_pred_array.tolist()"
   ]
  },
  {
   "cell_type": "code",
   "execution_count": 74,
   "metadata": {
    "collapsed": false
   },
   "outputs": [
    {
     "data": {
      "text/plain": [
       "<matplotlib.text.Text at 0x7efe397a2eb8>"
      ]
     },
     "execution_count": 74,
     "metadata": {},
     "output_type": "execute_result"
    },
    {
     "data": {
      "image/png": "[encoded data removed]",
      "text/plain": [
       "<matplotlib.figure.Figure at 0x7efe3986fcc0>"
      ]
     },
     "metadata": {},
     "output_type": "display_data"
    }
   ],
   "source": [
    "# Plot new predictions versus new data outcomes\n",
    "plt.scatter(test_outcomes_list, y_test_pred_list, c = \"black\", alpha = 0.15)\n",
    "\n",
    "axes = plt.gca()\n",
    "\n",
    "axes.set_xlim([2, 23])\n",
    "\n",
    "axes.set_ylim([2, 23])\n",
    "\n",
    "axes.set_xticks([2, 5, 8, 11, 14, 17, 20, 23])\n",
    "\n",
    "axes.set_yticks([2, 5, 8, 11, 14, 17, 20, 23])\n",
    "\n",
    "plt.plot([2, 23], [2, 23], 'k-', lw=2)\n",
    "\n",
    "axes.set_xlabel(\"Actual Outcome (Log-Transformed US Dollars)\")\n",
    "\n",
    "axes.set_ylabel(\"Model Prediction (Log-Transformed US Dollars)\")\n",
    "\n",
    "axes.set_title(\"Model Performance\")"
   ]
  },
  {
   "cell_type": "code",
   "execution_count": 75,
   "metadata": {
    "collapsed": false
   },
   "outputs": [
    {
     "data": {
      "text/plain": [
       "Parameter containing:\n",
       "\n",
       "Columns 0 to 9 \n",
       " 0.1673  0.1791 -0.0718  0.0618  0.1906  0.3096  0.2002  0.3479  0.1468  0.0230\n",
       " 0.0654 -0.0342  0.1233  0.0924  0.0712 -0.1885  0.1878  0.2942  0.1611  0.0409\n",
       " 0.0774  0.1465 -0.0982 -0.0481  0.2579  0.0259  0.0966 -0.0372 -0.1113 -0.0719\n",
       " 0.2250  0.1552  0.0502  0.2983 -0.2345 -0.3265  0.1303 -0.3391  0.0226 -0.2751\n",
       "-0.0511  0.1060  0.2761 -0.0791  0.0881 -0.0253  0.0415 -0.2943 -0.4062 -0.2151\n",
       " 0.2062 -0.0406  0.0011  0.3561  0.1114 -0.1513 -0.1184  0.2328 -0.0854 -0.1618\n",
       "-0.1070  0.1951 -0.0584  0.1208  0.1828 -0.1312  0.0609  0.2218  0.3525  0.0646\n",
       "-0.0344 -0.4149  0.0752 -0.1416 -0.0353 -0.1020 -0.0992 -0.0843 -0.2514  0.0838\n",
       "-0.0006 -0.1641  0.0293  0.0208  0.0132 -0.0012 -0.0719  0.0372 -0.1018 -0.0965\n",
       "-0.2117  0.2950 -0.0752 -0.2254 -0.3798 -0.1762 -0.2117  0.1132 -0.0633  0.1726\n",
       "-0.0729  0.0945 -0.1359 -0.1314 -0.1313  0.3294 -0.3911  0.1585  0.2594  0.0341\n",
       "-0.1323  0.0458 -0.1257 -0.3499 -0.1912 -0.0301  0.3631  0.0079 -0.1847  0.0459\n",
       "-0.0125  0.1273  0.1340  0.0328  0.0474  0.1365 -0.1299 -0.1619 -0.1150 -0.2428\n",
       "-0.3575  0.0089 -0.0157 -0.3488 -0.0073 -0.2017  0.0954  0.2918  0.1778  0.2050\n",
       "-0.0415 -0.0492  0.0417 -0.1594 -0.1275 -0.3605  0.0158  0.0999 -0.3042  0.2462\n",
       "\n",
       "Columns 10 to 19 \n",
       " 0.0774 -0.1969  0.2265  0.1039 -0.1540 -0.2048  0.2476  0.1164  0.0325 -0.0791\n",
       " 0.1256  0.0635  0.1930 -0.4043  0.2186 -0.0400  0.1839 -0.0718  0.2810  0.1259\n",
       "-0.2687 -0.1075  0.1303  0.3779  0.2617  0.1538 -0.0100  0.2816  0.1011 -0.3072\n",
       " 0.0907 -0.0842  0.2226  0.1984  0.0102  0.2867  0.1665 -0.0713 -0.1213  0.1851\n",
       "-0.1016 -0.4131 -0.1169  0.3983  0.3002  0.0447 -0.0770  0.1017  0.3532 -0.2878\n",
       "-0.0391  0.2243  0.2266 -0.0111 -0.1871 -0.0893 -0.1504 -0.2703 -0.3643  0.1760\n",
       "-0.0821 -0.4397  0.4890 -0.2134  0.3122 -0.2716  0.3224  0.0644  0.2283 -0.0679\n",
       " 0.2099  0.3921 -0.1606 -0.1625  0.1076  0.0614  0.0058  0.0542  0.3399 -0.1478\n",
       " 0.0526  0.2397 -0.2390  0.0751 -0.0184 -0.1054  0.1273  0.0782  0.2688 -0.3061\n",
       "-0.0401 -0.0655  0.3966 -0.2212  0.1831  0.1005 -0.0809 -0.2375  0.4682 -0.1537\n",
       "-0.1687 -0.1692  0.0873 -0.0317  0.0030  0.1746 -0.1045 -0.0693  0.4605 -0.0849\n",
       "-0.2710  0.1411  0.0471  0.1603  0.0210 -0.4715 -0.1097  0.0413 -0.1784 -0.1492\n",
       "-0.2561 -0.3842  0.0048  0.3387  0.2948  0.1224  0.0349  0.1637  0.3374 -0.5684\n",
       "-0.0936 -0.3252  0.3239 -0.0489  0.5393 -0.3493 -0.1084 -0.0647 -0.2299  0.0968\n",
       " 0.1967  0.4583  0.2967 -0.0021 -0.0929 -0.0931 -0.1040 -0.1712 -0.1688  0.1849\n",
       "\n",
       "Columns 20 to 22 \n",
       "-0.0352 -0.0417  0.1000\n",
       " 0.0547 -0.2409  0.0435\n",
       " 0.1421 -0.0055  0.0189\n",
       "-0.2258 -0.0674 -0.1064\n",
       " 0.2904  0.2147  0.0801\n",
       "-0.3038  0.2572  0.2107\n",
       " 0.0139  0.2486  0.0672\n",
       "-0.0763 -0.4767  0.0280\n",
       "-0.0292 -0.1195  0.0326\n",
       " 0.4108  0.1031 -0.3847\n",
       " 0.0769  0.0749 -0.2000\n",
       "-0.2972 -0.3838  0.0839\n",
       " 0.3939  0.2292 -0.0297\n",
       "-0.1721  0.2637  0.2012\n",
       " 0.1696 -0.2265 -0.0435\n",
       "[torch.FloatTensor of size 15x23]"
      ]
     },
     "execution_count": 75,
     "metadata": {},
     "output_type": "execute_result"
    }
   ],
   "source": [
    "model[(0)].weight"
   ]
  },
  {
   "cell_type": "code",
   "execution_count": 76,
   "metadata": {
    "collapsed": false
   },
   "outputs": [
    {
     "data": {
      "text/plain": [
       "Parameter containing:\n",
       "\n",
       "Columns 0 to 9 \n",
       "-0.3090 -0.0205  0.1963 -0.0504  0.4887 -0.2708  0.2697 -0.5637  0.4485 -0.3132\n",
       "-0.0058  0.2053 -0.0120  0.4270 -0.3175  0.0568 -0.0997 -0.2723 -0.0225  0.1421\n",
       " 0.0666  0.3262 -0.0412  0.0576  0.0858 -0.1194  0.1036  0.0305 -0.0747  0.0805\n",
       " 0.2373 -0.0985  0.0166  0.2006  0.3015 -0.0348 -0.2592 -0.1265  0.2486 -0.2339\n",
       " 0.1518  0.0878  0.1472  0.2753  0.0094  0.1683  0.0130  0.1174  0.0883 -0.0525\n",
       " 0.2570  0.3193  0.3245  0.2281  0.2801  0.2259  0.0655 -0.1085  0.0041 -0.1934\n",
       " 0.3198  0.2156 -0.1313 -0.0175  0.0490  0.4215 -0.3181 -0.2936  0.0315 -0.5749\n",
       "-0.4366 -0.4389  0.0818 -0.2593 -0.0598 -0.6091 -0.1021  0.0835 -0.4453 -0.5019\n",
       "-0.0927 -0.0589 -0.2322 -0.1531 -0.1198  0.1187 -0.1096 -0.0074 -0.1732  0.0640\n",
       "-0.0918  0.1319  0.3616 -0.1171 -0.0050 -0.1182 -0.2258  0.3385  0.3083 -0.3986\n",
       "\n",
       "Columns 10 to 14 \n",
       " 0.4296 -0.1761 -0.9489 -0.2832  0.2612\n",
       " 0.4196 -0.5160  0.5822  0.0733  0.1667\n",
       " 0.2040  0.0360 -0.1914  0.3522  0.1407\n",
       "-0.0502 -0.0874 -0.2228  0.2359  0.0632\n",
       "-0.0011  0.1099 -0.1125  0.2259  0.1622\n",
       " 0.0654  0.3268 -0.3092  0.2495  0.1214\n",
       " 0.2502  0.0011  0.1263  0.2208  0.0439\n",
       "-0.4013 -0.1503  0.0225  0.4889  0.0603\n",
       "-0.2086 -0.0401 -0.1605 -0.0056 -0.2083\n",
       " 0.1597  0.0501 -0.0309  0.3015 -0.1414\n",
       "[torch.FloatTensor of size 10x15]"
      ]
     },
     "execution_count": 76,
     "metadata": {},
     "output_type": "execute_result"
    }
   ],
   "source": [
    "model[(2)].weight"
   ]
  },
  {
   "cell_type": "code",
   "execution_count": 77,
   "metadata": {
    "collapsed": false
   },
   "outputs": [
    {
     "data": {
      "text/plain": [
       "Parameter containing:\n",
       " 0.1926  0.1249 -0.0983 -0.2858  0.0217 -0.1842  0.1457  0.1252 -0.0905  0.2334\n",
       " 0.9659  0.5281  0.1580  0.1791 -0.1429  0.3960  0.4672 -0.8705 -0.2282  0.0503\n",
       " 1.3055  0.2601 -0.1606  0.2801  0.0243  0.1923  0.5946 -1.0676 -0.0273  0.3807\n",
       " 1.2200  0.0712  0.4395  0.3708 -0.0671  0.2550  0.3382 -1.0393  0.0820  0.1398\n",
       "-0.1864 -0.1791 -0.0500 -0.1180 -0.1015 -0.2122 -0.0599  0.2640 -0.1337  0.0280\n",
       " 0.9669  0.0151  0.1778 -0.0662  0.3950  0.0748  0.0970 -1.3415 -0.2205  0.4000\n",
       " 1.6411  0.4564  0.2250  0.1798 -0.2144  0.3227  1.3126 -1.3237 -0.1240  0.2287\n",
       "[torch.FloatTensor of size 7x10]"
      ]
     },
     "execution_count": 77,
     "metadata": {},
     "output_type": "execute_result"
    }
   ],
   "source": [
    "model[(4)].weight"
   ]
  },
  {
   "cell_type": "code",
   "execution_count": 78,
   "metadata": {
    "collapsed": false
   },
   "outputs": [
    {
     "data": {
      "text/plain": [
       "Parameter containing:\n",
       "-0.1153  0.0580 -0.0013 -0.1609 -0.1777 -0.3652  0.0877\n",
       " 0.2336  0.3279  0.5923  0.2272 -0.2002  0.3500  0.3040\n",
       " 0.1042 -0.3285 -0.1230  0.0075 -0.2758 -0.3471 -0.1968\n",
       " 0.1256 -0.0911  0.0642 -0.1203  0.1073 -0.1832 -0.0161\n",
       " 0.3627  0.4570  0.3033 -0.1608 -0.2821 -0.3902 -0.1025\n",
       "[torch.FloatTensor of size 5x7]"
      ]
     },
     "execution_count": 78,
     "metadata": {},
     "output_type": "execute_result"
    }
   ],
   "source": [
    "model[(6)].weight"
   ]
  },
  {
   "cell_type": "code",
   "execution_count": 79,
   "metadata": {
    "collapsed": false
   },
   "outputs": [
    {
     "data": {
      "text/plain": [
       "Parameter containing:\n",
       "-0.0936  0.4615  0.4415 -0.1564  1.0017\n",
       "[torch.FloatTensor of size 1x5]"
      ]
     },
     "execution_count": 79,
     "metadata": {},
     "output_type": "execute_result"
    }
   ],
   "source": [
    "model[(8)].weight"
   ]
  },
  {
   "cell_type": "markdown",
   "metadata": {},
   "source": [
    "## Round 5: Five-Hidden-Layer Neural Network"
   ]
  },
  {
   "cell_type": "code",
   "execution_count": 80,
   "metadata": {
    "collapsed": true
   },
   "outputs": [],
   "source": [
    "# Make the torch Tensor into a PyTorch Variable for dependent variables\n",
    "outcomes_Variable = Variable(outcomes_Tensor)\n",
    "\n",
    "\n",
    "# ...for independent variables\n",
    "features_Variable = Variable(features_Tensor,\n",
    "                             requires_grad = False)"
   ]
  },
  {
   "cell_type": "code",
   "execution_count": 81,
   "metadata": {
    "collapsed": true
   },
   "outputs": [],
   "source": [
    "# Make the neural network\n",
    "model = torch.nn.Sequential(torch.nn.Linear(23, 15),\n",
    "                            torch.nn.ReLU(),\n",
    "                            torch.nn.Linear(15, 10),\n",
    "                            torch.nn.ReLU(),\n",
    "                            torch.nn.Linear(10, 7),\n",
    "                            torch.nn.ReLU(),\n",
    "                            torch.nn.Linear(7, 5),\n",
    "                            torch.nn.ReLU(),\n",
    "                            torch.nn.Linear(5, 3),\n",
    "                            torch.nn.ReLU(),\n",
    "                            torch.nn.Linear(3, 1))"
   ]
  },
  {
   "cell_type": "code",
   "execution_count": 82,
   "metadata": {
    "collapsed": true
   },
   "outputs": [],
   "source": [
    "# To add errors to\n",
    "errors = []\n",
    "\n",
    "\n",
    "# Set the learning rate\n",
    "learning_rate = 1e-2\n",
    "\n",
    "\n",
    "# Define the model's optimizer\n",
    "optimizer = torch.optim.Adagrad(model.parameters(), lr = learning_rate)\n",
    "\n",
    "\n",
    "# Train the neural network\n",
    "for t in range(10000):\n",
    "    \n",
    "    # Get the current predictions\n",
    "    y_pred = model(features_Variable)\n",
    "    \n",
    "    # Compute and append current summed errors\n",
    "    loss = loss_fn(y_pred, outcomes_Variable)\n",
    "    errors.append(loss.data[0])\n",
    "    \n",
    "    # Zero the gradients before running the backward pass.\n",
    "    optimizer.zero_grad()\n",
    "    \n",
    "    # Backward pass: compute gradient of the loss with respect to all the learnable Variables\n",
    "    loss.backward()\n",
    "    \n",
    "    # Update the weights using Adagrad\n",
    "    optimizer.step()"
   ]
  },
  {
   "cell_type": "code",
   "execution_count": 83,
   "metadata": {
    "collapsed": false
   },
   "outputs": [
    {
     "data": {
      "text/plain": [
       "<matplotlib.collections.PathCollection at 0x7efe396e97b8>"
      ]
     },
     "execution_count": 83,
     "metadata": {},
     "output_type": "execute_result"
    },
    {
     "data": {
      "image/png": "[encoded data removed]",
      "text/plain": [
       "<matplotlib.figure.Figure at 0x7efe399b8860>"
      ]
     },
     "metadata": {},
     "output_type": "display_data"
    }
   ],
   "source": [
    "# Plot summed error as a function of iteration\n",
    "plt.scatter(iterations, errors)"
   ]
  },
  {
   "cell_type": "code",
   "execution_count": 84,
   "metadata": {
    "collapsed": true
   },
   "outputs": [],
   "source": [
    "# Get rid of the 2nd dimension of 1 from the FloatTensor\n",
    "y_pred_resized = y_pred.resize(8230)\n",
    "\n",
    "\n",
    "# Make the FloatTensor into a numpy.array\n",
    "y_pred_array = y_pred_resized.data.numpy()\n",
    "\n",
    "\n",
    "# Make the numpy.array into a list\n",
    "y_pred_list = y_pred_array.tolist()"
   ]
  },
  {
   "cell_type": "code",
   "execution_count": 85,
   "metadata": {
    "collapsed": false
   },
   "outputs": [
    {
     "data": {
      "text/plain": [
       "[<matplotlib.lines.Line2D at 0x7efe39711ef0>]"
      ]
     },
     "execution_count": 85,
     "metadata": {},
     "output_type": "execute_result"
    },
    {
     "data": {
      "image/png": "[encoded data removed]",
      "text/plain": [
       "<matplotlib.figure.Figure at 0x7efe39711f60>"
      ]
     },
     "metadata": {},
     "output_type": "display_data"
    }
   ],
   "source": [
    "# Plot predictions versus training set outcomes\n",
    "plt.scatter(outcomes_list, y_pred_list, c = \"black\", alpha = 0.15)\n",
    "\n",
    "axes = plt.gca()\n",
    "\n",
    "axes.set_xlim([-2, 4])\n",
    "\n",
    "axes.set_ylim([-2, 4])\n",
    "\n",
    "plt.plot([-2, 4], [-2, 4], 'k-', lw=2)"
   ]
  },
  {
   "cell_type": "markdown",
   "metadata": {},
   "source": [
    "### Round 5.1: Validation Set Performance"
   ]
  },
  {
   "cell_type": "code",
   "execution_count": 86,
   "metadata": {
    "collapsed": false
   },
   "outputs": [
    {
     "data": {
      "text/plain": [
       "Variable containing:\n",
       " 497.0159\n",
       "[torch.FloatTensor of size 1]"
      ]
     },
     "execution_count": 86,
     "metadata": {},
     "output_type": "execute_result"
    }
   ],
   "source": [
    "# Get the validation set predictions\n",
    "y_valid_pred = model(valid_predictors_Variable)\n",
    "\n",
    "\n",
    "# Print the loss\n",
    "loss_fn(y_valid_pred,\n",
    "        valid_outcomes_Variable)"
   ]
  },
  {
   "cell_type": "code",
   "execution_count": 87,
   "metadata": {
    "collapsed": false
   },
   "outputs": [],
   "source": [
    "# Get rid of the 2nd dimension of 1 from the FloatTensor\n",
    "y_valid_pred_resized = y_valid_pred.resize(2748)\n",
    "\n",
    "\n",
    "# Make the FloatTensor into a numpy.array\n",
    "y_valid_pred_array = y_valid_pred_resized.data.numpy()\n",
    "\n",
    "\n",
    "# Make the numpy.array into a list\n",
    "y_valid_pred_list = y_valid_pred_array.tolist()"
   ]
  },
  {
   "cell_type": "code",
   "execution_count": 88,
   "metadata": {
    "collapsed": false
   },
   "outputs": [
    {
     "data": {
      "text/plain": [
       "[<matplotlib.lines.Line2D at 0x7efe3960cb70>]"
      ]
     },
     "execution_count": 88,
     "metadata": {},
     "output_type": "execute_result"
    },
    {
     "data": {
      "image/png": "[encoded data removed]",
      "text/plain": [
       "<matplotlib.figure.Figure at 0x7efe3960cc50>"
      ]
     },
     "metadata": {},
     "output_type": "display_data"
    }
   ],
   "source": [
    "# Plot new predictions versus new data outcomes\n",
    "plt.scatter(valid_outcomes_list, y_valid_pred_list, c = \"black\", alpha = 0.15)\n",
    "\n",
    "axes = plt.gca()\n",
    "\n",
    "axes.set_xlim([-2, 4])\n",
    "\n",
    "axes.set_ylim([-2, 4])\n",
    "\n",
    "plt.plot([-2, 4], [-2, 4], 'k-', lw=2)"
   ]
  },
  {
   "cell_type": "markdown",
   "metadata": {},
   "source": [
    "### Round 5.2: Test Set Performance"
   ]
  },
  {
   "cell_type": "code",
   "execution_count": 89,
   "metadata": {
    "collapsed": false
   },
   "outputs": [
    {
     "data": {
      "text/plain": [
       "Variable containing:\n",
       " 481.2932\n",
       "[torch.FloatTensor of size 1]"
      ]
     },
     "execution_count": 89,
     "metadata": {},
     "output_type": "execute_result"
    }
   ],
   "source": [
    "# Get the validation set predictions\n",
    "y_test_pred = model(test_predictors_Variable)\n",
    "\n",
    "\n",
    "# Print the loss\n",
    "loss_fn(y_test_pred,\n",
    "        test_outcomes_Variable)"
   ]
  },
  {
   "cell_type": "code",
   "execution_count": 90,
   "metadata": {
    "collapsed": true
   },
   "outputs": [],
   "source": [
    "# Get rid of the 2nd dimension of 1 from the FloatTensor\n",
    "y_test_pred_resized = y_test_pred.resize(2699)\n",
    "\n",
    "\n",
    "# Make the FloatTensor into a numpy.array\n",
    "y_test_pred_array = y_test_pred_resized.data.numpy()\n",
    "\n",
    "\n",
    "# Convert back to native units and scale\n",
    "y_test_pred_array = y_test_pred_array*5.41747 + 7.67485\n",
    "\n",
    "\n",
    "# Make the numpy.array into a list\n",
    "y_test_pred_list = y_test_pred_array.tolist()"
   ]
  },
  {
   "cell_type": "code",
   "execution_count": 91,
   "metadata": {
    "collapsed": false
   },
   "outputs": [
    {
     "data": {
      "text/plain": [
       "<matplotlib.text.Text at 0x7efe3956c630>"
      ]
     },
     "execution_count": 91,
     "metadata": {},
     "output_type": "execute_result"
    },
    {
     "data": {
      "image/png": "[encoded data removed]",
      "text/plain": [
       "<matplotlib.figure.Figure at 0x7efe3987b6a0>"
      ]
     },
     "metadata": {},
     "output_type": "display_data"
    }
   ],
   "source": [
    "# Plot new predictions versus new data outcomes\n",
    "plt.scatter(test_outcomes_list, y_test_pred_list, c = \"black\", alpha = 0.15)\n",
    "\n",
    "axes = plt.gca()\n",
    "\n",
    "axes.set_xlim([2, 23])\n",
    "\n",
    "axes.set_ylim([2, 23])\n",
    "\n",
    "axes.set_xticks([2, 5, 8, 11, 14, 17, 20, 23])\n",
    "\n",
    "axes.set_yticks([2, 5, 8, 11, 14, 17, 20, 23])\n",
    "\n",
    "plt.plot([2, 23], [2, 23], 'k-', lw=2)\n",
    "\n",
    "axes.set_xlabel(\"Actual Outcome (Log-Transformed US Dollars)\")\n",
    "\n",
    "axes.set_ylabel(\"Model Prediction (Log-Transformed US Dollars)\")\n",
    "\n",
    "axes.set_title(\"Model Performance\")"
   ]
  },
  {
   "cell_type": "code",
   "execution_count": 92,
   "metadata": {
    "collapsed": false
   },
   "outputs": [
    {
     "data": {
      "text/plain": [
       "Parameter containing:\n",
       "\n",
       "Columns 0 to 9 \n",
       " 0.2482 -0.1433  0.0760 -0.0504  0.1623 -0.3419  0.2868 -0.2262 -0.3167  0.1251\n",
       " 0.0896 -0.0581  0.1000 -0.2748  0.4140 -0.2197  0.0050 -0.0434  0.0897  0.0483\n",
       "-0.1294 -0.0846 -0.0984  0.1066  0.1785  0.0841  0.0138  0.2057 -0.0148  0.0661\n",
       " 0.1649 -0.5769 -0.0936  0.1013  0.1617 -0.0675  0.0597 -0.0960 -0.1021 -0.1000\n",
       " 0.1980 -0.1005  0.1169 -0.2311 -0.1315  0.0984  0.3087 -0.2414  0.0682 -0.0536\n",
       "-0.0535 -0.0884 -0.0328 -0.0189  0.0003  0.1469 -0.0135 -0.1191 -0.1933 -0.1568\n",
       "-0.3012  0.2158  0.1264  0.5300 -0.2943 -0.4492  0.1406  0.1080 -0.0374  0.0225\n",
       " 0.2821  0.1636 -0.1804  0.1541 -0.1071  0.1670 -0.0874  0.2096  0.1004 -0.0648\n",
       " 0.1437 -0.1097  0.0158  0.2770  0.0092 -0.2723 -0.0799  0.1192  0.0054 -0.1652\n",
       "-0.2724  0.3242  0.1035  0.3325 -0.0618 -0.0646  0.1745  0.3913  0.1701  0.1046\n",
       " 0.0461 -0.0348  0.1120 -0.2435  0.3142  0.1906  0.2596  0.3454  0.0428  0.0660\n",
       "-0.0077 -0.1396 -0.2624  0.1884  0.3189  0.0489  0.1575  0.4033 -0.0326 -0.0050\n",
       " 0.1888 -0.0790 -0.2728 -0.0668 -0.0139  0.2731 -0.0934 -0.2313 -0.1242 -0.3909\n",
       " 0.0702 -0.0022  0.0096 -0.0944  0.2318  0.2803 -0.1951  0.2828  0.3482  0.1774\n",
       " 0.1723  0.0052  0.0024  0.0691  0.3141  0.3447 -0.2430  0.0363  0.4874 -0.0899\n",
       "\n",
       "Columns 10 to 19 \n",
       " 0.0083  0.4214 -0.1533  0.3214 -0.1127  0.0018  0.3497 -0.0145  0.3416  0.0458\n",
       "-0.0706 -0.0374  0.4294  0.2333 -0.3356 -0.1034 -0.0927 -0.3568 -0.1443  0.0002\n",
       "-0.1372  0.2469 -0.1028  0.2213  0.2341  0.1436 -0.2730  0.0536 -0.2572  0.1873\n",
       "-0.1156  0.1333 -0.0108 -0.0919 -0.0240  0.1024 -0.1829 -0.2056 -0.0796  0.1234\n",
       "-0.1290 -0.2519  0.1774  0.0320 -0.1630 -0.0821  0.0592 -0.0094  0.0773  0.1123\n",
       "-0.0567 -0.0381 -0.2779  0.3786  0.2382  0.1772 -0.2627  0.1205  0.0281 -0.0285\n",
       " 0.0897 -0.0393  0.2078 -0.0798  0.0971 -0.0180  0.0009 -0.0644 -0.4654 -0.0405\n",
       " 0.1454  0.3497  0.2137 -0.3577  0.0234 -0.2123 -0.1361 -0.1616 -0.2418  0.0785\n",
       " 0.0405  0.0862 -0.0310  0.0754 -0.1243 -0.1964  0.3472  0.1063 -0.5454  0.3230\n",
       "-0.0585 -0.1617  0.0341 -0.2753  0.0651  0.0739  0.1687  0.4896 -0.1365  0.2937\n",
       "-0.0857  0.1463  0.0475 -0.1285  0.0789 -0.2898 -0.1533  0.2374 -0.0069  0.1551\n",
       " 0.1973 -0.0669 -0.1865 -0.2462  0.0896 -0.2786 -0.1246  0.0658 -0.0076  0.1878\n",
       "-0.3105 -0.1869  0.2163  0.0767 -0.2679  0.3178 -0.0136  0.0795  0.1685 -0.0162\n",
       "-0.1438  0.2419  0.0504 -0.0181  0.0564  0.0321  0.0118 -0.1025  0.0441  0.0760\n",
       " 0.0462 -0.2368  0.0327 -0.0928 -0.0223  0.3778 -0.0050  0.0044 -0.0585 -0.1145\n",
       "\n",
       "Columns 20 to 22 \n",
       "-0.1775 -0.0281 -0.1487\n",
       "-0.3514  0.1680  0.3263\n",
       "-0.4233  0.1157  0.0590\n",
       "-0.0837 -0.0792  0.0907\n",
       " 0.1521 -0.2798 -0.0483\n",
       " 0.2767  0.1717  0.1405\n",
       " 0.1245  0.2215  0.2416\n",
       " 0.2039 -0.1665 -0.1943\n",
       "-0.2643 -0.3804  0.1931\n",
       "-0.1101 -0.3525  0.2727\n",
       " 0.2435  0.1215  0.4020\n",
       "-0.1181 -0.1256  0.0301\n",
       "-0.1710 -0.1587 -0.2127\n",
       " 0.0513 -0.2200 -0.0121\n",
       "-0.1795 -0.0142 -0.0366\n",
       "[torch.FloatTensor of size 15x23]"
      ]
     },
     "execution_count": 92,
     "metadata": {},
     "output_type": "execute_result"
    }
   ],
   "source": [
    "model[(0)].weight"
   ]
  },
  {
   "cell_type": "code",
   "execution_count": 93,
   "metadata": {
    "collapsed": false
   },
   "outputs": [
    {
     "data": {
      "text/plain": [
       "Parameter containing:\n",
       "\n",
       "Columns 0 to 9 \n",
       " 0.3284  0.1126 -0.1451 -0.6764  0.2975 -0.3391  0.2314  0.0080  0.1266 -0.2524\n",
       "-0.0045 -0.1531 -0.1087  0.1032 -0.2299 -0.3318  0.5073 -0.1401 -0.4672 -0.2608\n",
       " 0.0918 -0.0234  0.2838 -0.9364 -0.2492 -0.2010  0.1812 -0.1231  0.0232 -0.2459\n",
       "-0.0284  0.2812 -0.1898  0.0239  0.0708  0.1154  0.2194 -0.2808 -0.1561 -0.2736\n",
       " 0.2996 -0.1035  0.2035 -0.1698 -0.2496 -0.0457  0.2405 -0.1762  0.2616 -0.3963\n",
       " 0.0649  0.1783  0.0373 -0.2050  0.0142 -0.5605  0.4474  0.4085  0.2326 -0.1551\n",
       " 0.3501  0.1693  0.0927 -0.1564  0.2926  0.0391  0.0886  0.0770 -0.1736  0.1146\n",
       " 0.0952 -0.1637  0.2781 -0.1235  0.3788 -0.6668 -0.4763 -0.7785  0.2173  0.3892\n",
       " 0.3412 -0.1981  0.3668  0.1523  0.3702  0.0799  0.0694 -0.2444  0.3486 -0.0293\n",
       " 0.0132  0.3233  0.0811 -0.2671  0.1266  0.1808  0.2827  0.3029  0.2967  0.0633\n",
       "\n",
       "Columns 10 to 14 \n",
       " 0.3503  0.0081  0.2489  0.1346  0.2133\n",
       " 0.3209 -0.1508  0.0934  0.1299 -0.4905\n",
       " 0.3449 -1.9759  0.0794 -0.2976  0.3705\n",
       " 0.2029 -0.0567  0.2465  0.0905  0.1836\n",
       " 0.1816  0.1384  0.4050  0.1931  0.5692\n",
       " 0.1934  0.0866  0.0292  0.4194  0.2731\n",
       " 0.3366  0.1326  0.3243  0.1093  0.2999\n",
       "-0.3387 -0.0124  0.0092 -0.6302  0.1089\n",
       " 0.2037 -0.0061  0.3620 -0.0679 -0.1916\n",
       "-0.2112  0.1102 -0.1111  0.1654  0.2772\n",
       "[torch.FloatTensor of size 10x15]"
      ]
     },
     "execution_count": 93,
     "metadata": {},
     "output_type": "execute_result"
    }
   ],
   "source": [
    "model[(2)].weight"
   ]
  },
  {
   "cell_type": "code",
   "execution_count": 94,
   "metadata": {
    "collapsed": false
   },
   "outputs": [
    {
     "data": {
      "text/plain": [
       "Parameter containing:\n",
       " 0.2603 -0.1081 -0.9893  0.0497  0.5236 -0.0282  0.3387 -0.0265  0.3562 -0.0797\n",
       "-0.2156 -0.2025  0.0888  0.0146 -0.0997 -0.1127  0.0285  0.0384 -0.2919 -0.1276\n",
       " 0.1474 -1.7915  1.3499  0.4836  0.2283  0.4632 -0.2785  0.5997  0.3021 -0.5255\n",
       " 0.2563 -0.3342 -0.8423  0.0552  0.3182 -0.2647 -0.1119 -0.2054  0.4183  0.2995\n",
       " 0.5810  0.1549  0.2250 -0.3965  0.2724  0.3524  0.2672  0.0016 -0.1660  0.2934\n",
       " 0.4362 -0.5126  0.0320  0.1901  0.4175  0.2916  0.2938 -0.1301  0.1635  0.2707\n",
       "-0.1619  0.0340 -0.2798 -0.1763  0.0135 -0.2355 -0.2677 -0.0032 -0.2118  0.0490\n",
       "[torch.FloatTensor of size 7x10]"
      ]
     },
     "execution_count": 94,
     "metadata": {},
     "output_type": "execute_result"
    }
   ],
   "source": [
    "model[(4)].weight"
   ]
  },
  {
   "cell_type": "code",
   "execution_count": 95,
   "metadata": {
    "collapsed": false
   },
   "outputs": [
    {
     "data": {
      "text/plain": [
       "Parameter containing:\n",
       "-0.5423  0.1428  0.3893  0.2492 -0.1338  0.2971 -0.0627\n",
       " 0.2763 -0.3590 -0.8397  0.2807  0.0459  0.3094  0.2886\n",
       "-0.0158  0.1161  0.2495 -0.3586 -0.0498  0.0465  0.1513\n",
       " 0.1716  0.1166 -1.3496  0.4141 -0.2028  0.1761 -0.2770\n",
       " 0.5017  0.3300 -1.1829  0.4105  0.4775  0.3407  0.2988\n",
       "[torch.FloatTensor of size 5x7]"
      ]
     },
     "execution_count": 95,
     "metadata": {},
     "output_type": "execute_result"
    }
   ],
   "source": [
    "model[(6)].weight"
   ]
  },
  {
   "cell_type": "code",
   "execution_count": 96,
   "metadata": {
    "collapsed": false
   },
   "outputs": [
    {
     "data": {
      "text/plain": [
       "Parameter containing:\n",
       "-0.4056 -0.1260 -0.3516 -0.0155 -0.2798\n",
       "-0.4261  0.5282  0.3708  0.5889  0.2919\n",
       " 0.4801 -0.0004  0.3911 -0.6251  0.0620\n",
       "[torch.FloatTensor of size 3x5]"
      ]
     },
     "execution_count": 96,
     "metadata": {},
     "output_type": "execute_result"
    }
   ],
   "source": [
    "model[(8)].weight"
   ]
  },
  {
   "cell_type": "code",
   "execution_count": 97,
   "metadata": {
    "collapsed": false
   },
   "outputs": [
    {
     "data": {
      "text/plain": [
       "Parameter containing:\n",
       " 0.4988  0.6728 -0.3604\n",
       "[torch.FloatTensor of size 1x3]"
      ]
     },
     "execution_count": 97,
     "metadata": {},
     "output_type": "execute_result"
    }
   ],
   "source": [
    "model[(10)].weight"
   ]
  },
  {
   "cell_type": "markdown",
   "metadata": {},
   "source": [
    "## Round 6: Six-Hidden-Layer Neural Network"
   ]
  },
  {
   "cell_type": "code",
   "execution_count": 98,
   "metadata": {
    "collapsed": true
   },
   "outputs": [],
   "source": [
    "# Make the torch Tensor into a PyTorch Variable for dependent variables\n",
    "outcomes_Variable = Variable(outcomes_Tensor)\n",
    "\n",
    "\n",
    "# ...for independent variables\n",
    "features_Variable = Variable(features_Tensor,\n",
    "                             requires_grad = False)"
   ]
  },
  {
   "cell_type": "code",
   "execution_count": 99,
   "metadata": {
    "collapsed": true
   },
   "outputs": [],
   "source": [
    "# Make the neural network\n",
    "model = torch.nn.Sequential(torch.nn.Linear(23, 15),\n",
    "                            torch.nn.ReLU(),\n",
    "                            torch.nn.Linear(15, 10),\n",
    "                            torch.nn.ReLU(),\n",
    "                            torch.nn.Linear(10, 7),\n",
    "                            torch.nn.ReLU(),\n",
    "                            torch.nn.Linear(7, 5),\n",
    "                            torch.nn.ReLU(),\n",
    "                            torch.nn.Linear(5, 3),\n",
    "                            torch.nn.ReLU(),\n",
    "                            torch.nn.Linear(3, 2),\n",
    "                            torch.nn.ReLU(),\n",
    "                            torch.nn.Linear(2, 1))"
   ]
  },
  {
   "cell_type": "code",
   "execution_count": 100,
   "metadata": {
    "collapsed": true
   },
   "outputs": [],
   "source": [
    "# To add errors to\n",
    "errors = []\n",
    "\n",
    "\n",
    "# Set the learning rate\n",
    "learning_rate = 1e-2\n",
    "\n",
    "\n",
    "# Define the model's optimizer\n",
    "optimizer = torch.optim.Adagrad(model.parameters(), lr = learning_rate)\n",
    "\n",
    "\n",
    "# Train the neural network\n",
    "for t in range(10000):\n",
    "    \n",
    "    # Get the current predictions\n",
    "    y_pred = model(features_Variable)\n",
    "    \n",
    "    # Compute and append current summed errors\n",
    "    loss = loss_fn(y_pred, outcomes_Variable)\n",
    "    errors.append(loss.data[0])\n",
    "    \n",
    "    # Zero the gradients before running the backward pass.\n",
    "    optimizer.zero_grad()\n",
    "    \n",
    "    # Backward pass: compute gradient of the loss with respect to all the learnable Variables\n",
    "    loss.backward()\n",
    "    \n",
    "    # Update the weights using Adagrad\n",
    "    optimizer.step()"
   ]
  },
  {
   "cell_type": "code",
   "execution_count": 101,
   "metadata": {
    "collapsed": false
   },
   "outputs": [
    {
     "data": {
      "text/plain": [
       "<matplotlib.collections.PathCollection at 0x7efe394b20f0>"
      ]
     },
     "execution_count": 101,
     "metadata": {},
     "output_type": "execute_result"
    },
    {
     "data": {
      "image/png": "[encoded data removed]",
      "text/plain": [
       "<matplotlib.figure.Figure at 0x7efe399d0f28>"
      ]
     },
     "metadata": {},
     "output_type": "display_data"
    }
   ],
   "source": [
    "# Plot summed error as a function of iteration\n",
    "plt.scatter(iterations, errors)"
   ]
  },
  {
   "cell_type": "code",
   "execution_count": 102,
   "metadata": {
    "collapsed": true
   },
   "outputs": [],
   "source": [
    "# Get rid of the 2nd dimension of 1 from the FloatTensor\n",
    "y_pred_resized = y_pred.resize(8230)\n",
    "\n",
    "\n",
    "# Make the FloatTensor into a numpy.array\n",
    "y_pred_array = y_pred_resized.data.numpy()\n",
    "\n",
    "\n",
    "# Make the numpy.array into a list\n",
    "y_pred_list = y_pred_array.tolist()"
   ]
  },
  {
   "cell_type": "code",
   "execution_count": 103,
   "metadata": {
    "collapsed": false
   },
   "outputs": [
    {
     "data": {
      "text/plain": [
       "[<matplotlib.lines.Line2D at 0x7efe395a04e0>]"
      ]
     },
     "execution_count": 103,
     "metadata": {},
     "output_type": "execute_result"
    },
    {
     "data": {
      "image/png": "[encoded data removed]",
      "text/plain": [
       "<matplotlib.figure.Figure at 0x7efe3958f048>"
      ]
     },
     "metadata": {},
     "output_type": "display_data"
    }
   ],
   "source": [
    "# Plot predictions versus training set outcomes\n",
    "plt.scatter(outcomes_list, y_pred_list, c = \"black\", alpha = 0.15)\n",
    "\n",
    "axes = plt.gca()\n",
    "\n",
    "axes.set_xlim([-2, 4])\n",
    "\n",
    "axes.set_ylim([-2, 4])\n",
    "\n",
    "plt.plot([-2, 4], [-2, 4], 'k-', lw=2)"
   ]
  },
  {
   "cell_type": "markdown",
   "metadata": {},
   "source": [
    "### Round 6.1: Validation Set Performance"
   ]
  },
  {
   "cell_type": "code",
   "execution_count": 104,
   "metadata": {
    "collapsed": false
   },
   "outputs": [
    {
     "data": {
      "text/plain": [
       "Variable containing:\n",
       " 504.3564\n",
       "[torch.FloatTensor of size 1]"
      ]
     },
     "execution_count": 104,
     "metadata": {},
     "output_type": "execute_result"
    }
   ],
   "source": [
    "# Get the validation set predictions\n",
    "y_valid_pred = model(valid_predictors_Variable)\n",
    "\n",
    "\n",
    "# Print the loss\n",
    "loss_fn(y_valid_pred,\n",
    "        valid_outcomes_Variable)"
   ]
  },
  {
   "cell_type": "code",
   "execution_count": 105,
   "metadata": {
    "collapsed": true
   },
   "outputs": [],
   "source": [
    "# Get rid of the 2nd dimension of 1 from the FloatTensor\n",
    "y_valid_pred_resized = y_valid_pred.resize(2748)\n",
    "\n",
    "\n",
    "# Make the FloatTensor into a numpy.array\n",
    "y_valid_pred_array = y_valid_pred_resized.data.numpy()\n",
    "\n",
    "\n",
    "# Make the numpy.array into a list\n",
    "y_valid_pred_list = y_valid_pred_array.tolist()"
   ]
  },
  {
   "cell_type": "code",
   "execution_count": 106,
   "metadata": {
    "collapsed": false
   },
   "outputs": [
    {
     "data": {
      "text/plain": [
       "[<matplotlib.lines.Line2D at 0x7efe393e3128>]"
      ]
     },
     "execution_count": 106,
     "metadata": {},
     "output_type": "execute_result"
    },
    {
     "data": {
      "image/png": "[encoded data removed]",
      "text/plain": [
       "<matplotlib.figure.Figure at 0x7efe393e3208>"
      ]
     },
     "metadata": {},
     "output_type": "display_data"
    }
   ],
   "source": [
    "# Plot new predictions versus new data outcomes\n",
    "plt.scatter(valid_outcomes_list, y_valid_pred_list, c = \"black\", alpha = 0.15)\n",
    "\n",
    "axes = plt.gca()\n",
    "\n",
    "axes.set_xlim([-2, 4])\n",
    "\n",
    "axes.set_ylim([-2, 4])\n",
    "\n",
    "plt.plot([-2, 4], [-2, 4], 'k-', lw=2)"
   ]
  },
  {
   "cell_type": "markdown",
   "metadata": {},
   "source": [
    "### Round 6.2: Test Set Performance"
   ]
  },
  {
   "cell_type": "code",
   "execution_count": 107,
   "metadata": {
    "collapsed": false
   },
   "outputs": [
    {
     "data": {
      "text/plain": [
       "Variable containing:\n",
       " 495.3851\n",
       "[torch.FloatTensor of size 1]"
      ]
     },
     "execution_count": 107,
     "metadata": {},
     "output_type": "execute_result"
    }
   ],
   "source": [
    "# Get the validation set predictions\n",
    "y_test_pred = model(test_predictors_Variable)\n",
    "\n",
    "\n",
    "# Print the loss\n",
    "loss_fn(y_test_pred,\n",
    "        test_outcomes_Variable)"
   ]
  },
  {
   "cell_type": "code",
   "execution_count": 108,
   "metadata": {
    "collapsed": true
   },
   "outputs": [],
   "source": [
    "# Get rid of the 2nd dimension of 1 from the FloatTensor\n",
    "y_test_pred_resized = y_test_pred.resize(2699)\n",
    "\n",
    "\n",
    "# Make the FloatTensor into a numpy.array\n",
    "y_test_pred_array = y_test_pred_resized.data.numpy()\n",
    "\n",
    "\n",
    "# Convert back to native units and scale\n",
    "y_test_pred_array = y_test_pred_array*5.409956 + 7.691221\n",
    "\n",
    "\n",
    "# Make the numpy.array into a list\n",
    "y_test_pred_list = y_test_pred_array.tolist()"
   ]
  },
  {
   "cell_type": "code",
   "execution_count": 109,
   "metadata": {
    "collapsed": false
   },
   "outputs": [
    {
     "data": {
      "text/plain": [
       "<matplotlib.text.Text at 0x7efe3933b128>"
      ]
     },
     "execution_count": 109,
     "metadata": {},
     "output_type": "execute_result"
    },
    {
     "data": {
      "image/png": "[encoded data removed]",
      "text/plain": [
       "<matplotlib.figure.Figure at 0x7efe39612438>"
      ]
     },
     "metadata": {},
     "output_type": "display_data"
    }
   ],
   "source": [
    "# Plot new predictions versus new data outcomes\n",
    "plt.scatter(test_outcomes_list, y_test_pred_list, c = \"black\", alpha = 0.15)\n",
    "\n",
    "axes = plt.gca()\n",
    "\n",
    "axes.set_xlim([2, 23])\n",
    "\n",
    "axes.set_ylim([2, 23])\n",
    "\n",
    "axes.set_xticks([2, 5, 8, 11, 14, 17, 20, 23])\n",
    "\n",
    "axes.set_yticks([2, 5, 8, 11, 14, 17, 20, 23])\n",
    "\n",
    "plt.plot([2, 23], [2, 23], 'k-', lw=2)\n",
    "\n",
    "axes.set_xlabel(\"Actual Outcome (Log-Transformed US Dollars)\")\n",
    "\n",
    "axes.set_ylabel(\"Model Prediction (Log-Transformed US Dollars)\")\n",
    "\n",
    "axes.set_title(\"Model Performance\")"
   ]
  },
  {
   "cell_type": "code",
   "execution_count": 110,
   "metadata": {
    "collapsed": false
   },
   "outputs": [
    {
     "data": {
      "text/plain": [
       "Parameter containing:\n",
       "\n",
       "Columns 0 to 9 \n",
       "-0.1279 -0.1316  0.1077 -0.0434  0.0478  0.2077 -0.1906  0.3552  0.0983  0.3972\n",
       "-0.0157 -0.6811 -0.0066  0.2266  0.0719 -0.0476 -0.0573 -0.1472 -0.0716  0.0857\n",
       " 0.2533  0.0981 -0.1515  0.3350  0.1086  0.1904  0.2443  0.1132 -0.0351  0.2120\n",
       "-0.2252 -0.1289  0.2582  0.2440  0.3263 -0.1367  0.3547 -0.0141 -0.0644 -0.1497\n",
       "-0.0597 -0.0204 -0.0887 -0.1554  0.2526  0.1352  0.3646  0.0657 -0.1387  0.1072\n",
       " 0.0927 -0.0375 -0.0946  0.5085 -0.3284 -0.7166  0.3743 -0.0559 -0.1289 -0.0250\n",
       "-0.5336  0.1794 -0.0789 -0.1873  0.0606  0.2503  0.2080  0.5291  0.3173 -0.0717\n",
       " 0.5316 -0.1717 -0.0133  0.1221  0.1303  0.1252  0.0634  0.0901  0.4316 -0.0451\n",
       "-0.1346 -0.0215 -0.2643  0.2143  0.3359 -0.1259 -0.1974  0.0462  0.2730 -0.2160\n",
       " 0.5193  0.2710  0.4537 -0.2726  0.2754 -0.0909 -0.2655 -0.1603 -0.0695 -0.1024\n",
       " 0.2695  0.4287  0.2125 -0.1622  0.0934  0.1885  0.5564  0.2557  0.2208 -0.3091\n",
       "-0.2754  0.0720 -0.1920 -0.1343  0.1862 -0.0598 -0.0275 -0.0323 -0.3297  0.2369\n",
       "-0.1080 -0.2043  0.0053  0.2024  0.0491  0.0707 -0.1255  0.2273  0.0324  0.0714\n",
       " 0.5162 -0.0727  0.1714 -0.3243 -0.3243  0.2161 -0.3133 -0.1677 -0.0466 -0.3831\n",
       "-0.2463 -0.0599 -0.3310  0.0559 -0.3748  0.4547 -0.0052  0.1492  0.0162  0.0520\n",
       "\n",
       "Columns 10 to 19 \n",
       " 0.1053  0.3262  0.1422 -0.1431 -0.0303  0.0040 -0.1046  0.1905 -0.1551 -0.3594\n",
       " 0.1955  0.2205  0.0482 -0.2074 -0.0936  0.3322 -0.2146  0.0379  0.2609  0.2186\n",
       " 0.0784 -0.0342  0.2247 -0.0829  0.0983 -0.1966  0.1581 -0.0205 -0.0146  0.2187\n",
       " 0.0643 -0.2568  0.4420 -0.0447 -0.0972 -0.0809 -0.0249 -0.0968 -0.9362  0.3081\n",
       "-0.2887  0.0786 -0.1705  0.1525 -0.1029  0.1310 -0.0405 -0.0313  0.2821  0.0759\n",
       "-0.0246  0.3613 -0.1942  0.3356 -0.2139  0.1505  0.3174  0.0380 -0.0824 -0.1118\n",
       " 0.0424  0.2337  0.2510 -0.1368 -0.4558 -0.0961  0.1593 -0.2098  0.0842 -0.1713\n",
       "-0.1696 -0.1711  0.1541 -0.0652 -0.3584  0.3788  0.0671 -0.1735  0.0264  0.0561\n",
       "-0.1084 -0.0072 -0.1429  0.0734  0.4620  0.2120 -0.3505  0.1421 -0.5421  0.1513\n",
       " 0.0298  0.1232 -0.2374  0.4557  0.1754  0.1464 -0.3626  0.3599  0.6122 -0.2124\n",
       " 0.2640 -0.2638 -0.3080 -0.1502  0.1724 -0.2995 -0.1221  0.1353 -0.2207 -0.2528\n",
       " 0.0578  0.0293 -0.0011  0.4185 -0.0158 -0.4861  0.1135 -0.0398 -0.6905  0.3624\n",
       " 0.2366  0.3474  0.2539 -0.1910  0.1956 -0.1930  0.2131 -0.1987  0.3913  0.0648\n",
       "-0.2410 -0.1597  0.1132  0.2385 -0.3987 -0.0035  0.1223  0.1903  0.5266  0.1850\n",
       " 0.2974 -0.1041 -0.1046 -0.0653 -0.2651  0.0284 -0.0837  0.1418  0.2141 -0.1743\n",
       "\n",
       "Columns 20 to 22 \n",
       " 0.0357 -0.2435  0.3659\n",
       "-0.3515 -0.5981  0.2496\n",
       " 0.0592 -0.6552  0.4121\n",
       "-0.3799  0.0825  0.1793\n",
       "-0.6477 -0.0474 -0.2422\n",
       "-0.4823  0.2337  0.2025\n",
       " 0.1220  0.2227  0.1411\n",
       " 0.2618 -0.0196  0.2243\n",
       " 0.0547 -0.1200  0.1907\n",
       " 0.1943  0.0516  0.0953\n",
       " 0.1279 -0.5454  0.3163\n",
       " 0.0886  0.3489  0.0104\n",
       "-0.0723 -0.2602  0.0674\n",
       " 0.1439 -0.1762  0.0756\n",
       " 0.3426 -0.4205  0.3565\n",
       "[torch.FloatTensor of size 15x23]"
      ]
     },
     "execution_count": 110,
     "metadata": {},
     "output_type": "execute_result"
    }
   ],
   "source": [
    "model[(0)].weight"
   ]
  },
  {
   "cell_type": "code",
   "execution_count": 111,
   "metadata": {
    "collapsed": false
   },
   "outputs": [
    {
     "data": {
      "text/plain": [
       "Parameter containing:\n",
       "\n",
       "Columns 0 to 9 \n",
       "-0.3214 -0.1105  0.2459  0.3708  0.1784  0.6954 -0.0485  0.2058  0.1402  0.2203\n",
       " 0.4355 -0.4266  0.1657  0.3220 -0.0988  0.6624  0.4358  0.0849 -0.1081  0.3189\n",
       " 0.6566 -0.5610  0.2899  0.4729  0.0290 -0.0890  0.1210  0.1695 -0.1691 -0.0248\n",
       "-0.1379  0.0780  0.0923  0.5501  0.3649  0.3203  0.0761  0.0112 -0.1463  0.2965\n",
       "-0.1520 -0.3624  0.3217  0.3975  0.6069  0.7383  0.0318  0.2852  0.2893 -0.1429\n",
       " 0.7012 -0.7150 -0.5647 -0.0839  0.4043  0.1151  0.0149  0.4943  0.0878 -0.4080\n",
       "-0.1029  0.6043  0.2159 -0.3308  0.0413  0.2677  0.4147 -0.0871 -0.5016 -0.7274\n",
       " 0.0552 -0.5805 -0.1537 -0.3619  0.2569 -0.1636  0.1997  0.2145 -0.1880  0.2055\n",
       " 0.0896 -0.4290 -0.3911  0.6493 -0.5722 -0.8642 -0.8284  0.3805 -0.3368 -0.2914\n",
       "-0.5668  0.3004  0.4556 -0.3450 -0.7011 -0.1979  0.0654 -0.1925 -0.0268 -0.6342\n",
       "\n",
       "Columns 10 to 14 \n",
       "-0.1929 -0.2562  0.2516  0.2934 -0.0203\n",
       " 0.0644 -0.4008 -0.0035 -0.7674  0.0491\n",
       " 0.2753  0.1620  0.3076  0.1582 -0.1167\n",
       " 0.2032  0.2487 -0.0639  0.1334  0.1626\n",
       " 0.1305  0.5372  0.0525  0.4484  0.1461\n",
       " 0.4077  0.0798  0.0910  0.4031  0.2255\n",
       " 0.4633 -0.1828 -0.5321  0.3569 -0.7759\n",
       "-0.0668 -1.5526 -0.3706  0.3381  0.4869\n",
       "-0.1670  0.3748  0.3372 -0.3553  0.7437\n",
       " 0.0316  0.4609  0.0888 -0.9188  0.0750\n",
       "[torch.FloatTensor of size 10x15]"
      ]
     },
     "execution_count": 111,
     "metadata": {},
     "output_type": "execute_result"
    }
   ],
   "source": [
    "model[(2)].weight"
   ]
  },
  {
   "cell_type": "code",
   "execution_count": 112,
   "metadata": {
    "collapsed": false
   },
   "outputs": [
    {
     "data": {
      "text/plain": [
       "Parameter containing:\n",
       "-0.0742 -0.4186  0.3836  0.3354  0.2244  0.5719 -1.6149 -0.5351 -1.4731 -0.6399\n",
       " 0.0005  0.4707  0.3611  0.2961  0.0665  0.1290 -0.8235 -0.0536 -0.6426 -0.3359\n",
       "-0.1129 -0.2667  0.0735  0.4215 -0.1070  0.7817 -2.1299 -0.5733 -0.4248 -0.1594\n",
       " 0.1269 -0.0912  0.4020  0.1942  0.0129  1.1850 -0.9446 -0.5161 -1.1369 -0.2962\n",
       " 0.4115  0.1255  0.4712  0.0441 -0.2257  0.6267 -0.0855 -0.5724 -1.1669 -0.3587\n",
       "-0.4297  0.2456  0.1671 -0.0845 -0.2450 -0.2313  0.0995  0.2143  1.5514  0.5372\n",
       "-0.7526  0.4868  0.2369 -0.1586 -0.6426 -0.1561  0.2053  0.5768 -0.8579 -0.2616\n",
       "[torch.FloatTensor of size 7x10]"
      ]
     },
     "execution_count": 112,
     "metadata": {},
     "output_type": "execute_result"
    }
   ],
   "source": [
    "model[(4)].weight"
   ]
  },
  {
   "cell_type": "code",
   "execution_count": 113,
   "metadata": {
    "collapsed": false
   },
   "outputs": [
    {
     "data": {
      "text/plain": [
       "Parameter containing:\n",
       " 0.9639  0.1010  0.7731  0.5412  0.4552 -0.9052 -1.4483\n",
       " 0.3351  0.3276  0.3144  0.1051 -0.1332 -0.1599 -0.2729\n",
       " 0.6161  0.0630 -0.1952 -0.0963 -0.3798 -0.3142  0.6135\n",
       "-2.3853  0.6930 -0.7265 -0.9095 -1.0483 -1.8218 -1.2772\n",
       " 0.3935  0.2191  0.0052  0.0471  0.1027  0.0703 -0.5272\n",
       "[torch.FloatTensor of size 5x7]"
      ]
     },
     "execution_count": 113,
     "metadata": {},
     "output_type": "execute_result"
    }
   ],
   "source": [
    "model[(6)].weight"
   ]
  },
  {
   "cell_type": "code",
   "execution_count": 114,
   "metadata": {
    "collapsed": false
   },
   "outputs": [
    {
     "data": {
      "text/plain": [
       "Parameter containing:\n",
       " 0.7259  0.5290 -0.8239  3.3201  0.1426\n",
       "-1.2032 -0.1119  0.4990 -2.1696 -0.0872\n",
       " 0.1014 -0.3042  0.2563  3.4865 -0.2179\n",
       "[torch.FloatTensor of size 3x5]"
      ]
     },
     "execution_count": 114,
     "metadata": {},
     "output_type": "execute_result"
    }
   ],
   "source": [
    "model[(8)].weight"
   ]
  },
  {
   "cell_type": "code",
   "execution_count": 115,
   "metadata": {
    "collapsed": false
   },
   "outputs": [
    {
     "data": {
      "text/plain": [
       "Parameter containing:\n",
       " 0.5406 -0.7570  0.3304\n",
       "-0.3065 -0.5818  0.0734\n",
       "[torch.FloatTensor of size 2x3]"
      ]
     },
     "execution_count": 115,
     "metadata": {},
     "output_type": "execute_result"
    }
   ],
   "source": [
    "model[(10)].weight"
   ]
  },
  {
   "cell_type": "code",
   "execution_count": 116,
   "metadata": {
    "collapsed": false
   },
   "outputs": [
    {
     "data": {
      "text/plain": [
       "Parameter containing:\n",
       " 0.4992 -0.6003\n",
       "[torch.FloatTensor of size 1x2]"
      ]
     },
     "execution_count": 116,
     "metadata": {},
     "output_type": "execute_result"
    }
   ],
   "source": [
    "model[(12)].weight"
   ]
  },
  {
   "cell_type": "markdown",
   "metadata": {},
   "source": [
    "## Round 7: Linear Regression"
   ]
  },
  {
   "cell_type": "code",
   "execution_count": 117,
   "metadata": {
    "collapsed": true
   },
   "outputs": [],
   "source": [
    "# Make the torch Tensor into a PyTorch Variable for dependent variables\n",
    "outcomes_Variable = Variable(outcomes_Tensor)\n",
    "\n",
    "\n",
    "# ...for independent variables\n",
    "features_Variable = Variable(features_Tensor,\n",
    "                             requires_grad = False)"
   ]
  },
  {
   "cell_type": "code",
   "execution_count": 118,
   "metadata": {
    "collapsed": true
   },
   "outputs": [],
   "source": [
    "# Make the neural network - really a regression\n",
    "model = torch.nn.Sequential(torch.nn.Linear(23, 1))"
   ]
  },
  {
   "cell_type": "code",
   "execution_count": 119,
   "metadata": {
    "collapsed": false
   },
   "outputs": [],
   "source": [
    "# To add errors to\n",
    "errors = []\n",
    "\n",
    "\n",
    "# Set the learning rate\n",
    "learning_rate = 1e-2\n",
    "\n",
    "\n",
    "# Define the model's optimizer\n",
    "optimizer = torch.optim.Adagrad(model.parameters(), lr = learning_rate)\n",
    "\n",
    "\n",
    "# Train the neural network\n",
    "for t in range(10000):\n",
    "    \n",
    "    # Get the current predictions\n",
    "    y_pred = model(features_Variable)\n",
    "    \n",
    "    # Compute and append current summed errors\n",
    "    loss = loss_fn(y_pred, outcomes_Variable)\n",
    "    errors.append(loss.data[0])\n",
    "    \n",
    "    # Zero the gradients before running the backward pass.\n",
    "    optimizer.zero_grad()\n",
    "    \n",
    "    # Backward pass: compute gradient of the loss with respect to all the learnable Variables\n",
    "    loss.backward()\n",
    "    \n",
    "    # Update the weights using Adagrad\n",
    "    optimizer.step()"
   ]
  },
  {
   "cell_type": "code",
   "execution_count": 120,
   "metadata": {
    "collapsed": false
   },
   "outputs": [
    {
     "data": {
      "text/plain": [
       "<matplotlib.collections.PathCollection at 0x7efe392720f0>"
      ]
     },
     "execution_count": 120,
     "metadata": {},
     "output_type": "execute_result"
    },
    {
     "data": {
      "image/png": "[encoded data removed]",
      "text/plain": [
       "<matplotlib.figure.Figure at 0x7efe392f1e10>"
      ]
     },
     "metadata": {},
     "output_type": "display_data"
    }
   ],
   "source": [
    "# Plot summed error as a function of iteration\n",
    "plt.scatter(iterations, errors)"
   ]
  },
  {
   "cell_type": "code",
   "execution_count": 121,
   "metadata": {
    "collapsed": false
   },
   "outputs": [],
   "source": [
    "# Get rid of the 2nd dimension of 1 from the FloatTensor\n",
    "y_pred_resized = y_pred.resize(8230)\n",
    "\n",
    "\n",
    "# Make the FloatTensor into a numpy.array\n",
    "y_pred_array = y_pred_resized.data.numpy()\n",
    "\n",
    "\n",
    "# Make the numpy.array into a list\n",
    "y_pred_list = y_pred_array.tolist()"
   ]
  },
  {
   "cell_type": "code",
   "execution_count": 122,
   "metadata": {
    "collapsed": false
   },
   "outputs": [
    {
     "data": {
      "text/plain": [
       "[<matplotlib.lines.Line2D at 0x7efe392aefd0>]"
      ]
     },
     "execution_count": 122,
     "metadata": {},
     "output_type": "execute_result"
    },
    {
     "data": {
      "image/png": "[encoded data removed]",
      "text/plain": [
       "<matplotlib.figure.Figure at 0x7efe392aef98>"
      ]
     },
     "metadata": {},
     "output_type": "display_data"
    }
   ],
   "source": [
    "# Plot predictions versus training set outcomes\n",
    "plt.scatter(outcomes_list, y_pred_list, c = \"black\", alpha = 0.15)\n",
    "\n",
    "axes = plt.gca()\n",
    "\n",
    "axes.set_xlim([-2, 4])\n",
    "\n",
    "axes.set_ylim([-2, 4])\n",
    "\n",
    "plt.plot([-2, 4], [-2, 4], 'k-', lw=2)"
   ]
  },
  {
   "cell_type": "markdown",
   "metadata": {
    "collapsed": false
   },
   "source": [
    "### Round 7.1: Validation Set Performance"
   ]
  },
  {
   "cell_type": "code",
   "execution_count": 123,
   "metadata": {
    "collapsed": false
   },
   "outputs": [
    {
     "data": {
      "text/plain": [
       "Variable containing:\n",
       " 470.5267\n",
       "[torch.FloatTensor of size 1]"
      ]
     },
     "execution_count": 123,
     "metadata": {},
     "output_type": "execute_result"
    }
   ],
   "source": [
    "# Get the validation set predictions\n",
    "y_valid_pred = model(valid_predictors_Variable)\n",
    "\n",
    "\n",
    "# Print the loss\n",
    "loss_fn(y_valid_pred,\n",
    "        valid_outcomes_Variable)"
   ]
  },
  {
   "cell_type": "code",
   "execution_count": 124,
   "metadata": {
    "collapsed": true
   },
   "outputs": [],
   "source": [
    "# Get rid of the 2nd dimension of 1 from the FloatTensor\n",
    "y_valid_pred_resized = y_valid_pred.resize(2748)\n",
    "\n",
    "\n",
    "# Make the FloatTensor into a numpy.array\n",
    "y_valid_pred_array = y_valid_pred_resized.data.numpy()\n",
    "\n",
    "\n",
    "# Make the numpy.array into a list\n",
    "y_valid_pred_list = y_valid_pred_array.tolist()"
   ]
  },
  {
   "cell_type": "code",
   "execution_count": 125,
   "metadata": {
    "collapsed": false
   },
   "outputs": [
    {
     "data": {
      "text/plain": [
       "[<matplotlib.lines.Line2D at 0x7efe3910afd0>]"
      ]
     },
     "execution_count": 125,
     "metadata": {},
     "output_type": "execute_result"
    },
    {
     "data": {
      "image/png": "[encoded data removed]",
      "text/plain": [
       "<matplotlib.figure.Figure at 0x7efe391658d0>"
      ]
     },
     "metadata": {},
     "output_type": "display_data"
    }
   ],
   "source": [
    "# Plot new predictions versus new data outcomes\n",
    "plt.scatter(valid_outcomes_list, y_valid_pred_list, c = \"black\", alpha = 0.15)\n",
    "\n",
    "axes = plt.gca()\n",
    "\n",
    "axes.set_xlim([-2, 4])\n",
    "\n",
    "axes.set_ylim([-2, 4])\n",
    "\n",
    "plt.plot([-2, 4], [-2, 4], 'k-', lw=2)"
   ]
  },
  {
   "cell_type": "markdown",
   "metadata": {},
   "source": [
    "### Round 7.2: Test Set Performance"
   ]
  },
  {
   "cell_type": "code",
   "execution_count": 126,
   "metadata": {
    "collapsed": false
   },
   "outputs": [
    {
     "data": {
      "text/plain": [
       "Variable containing:\n",
       " 453.3673\n",
       "[torch.FloatTensor of size 1]"
      ]
     },
     "execution_count": 126,
     "metadata": {},
     "output_type": "execute_result"
    }
   ],
   "source": [
    "# Get the validation set predictions\n",
    "y_test_pred = model(test_predictors_Variable)\n",
    "\n",
    "\n",
    "# Print the loss\n",
    "loss_fn(y_test_pred,\n",
    "        test_outcomes_Variable)"
   ]
  },
  {
   "cell_type": "code",
   "execution_count": 127,
   "metadata": {
    "collapsed": true
   },
   "outputs": [],
   "source": [
    "# Get rid of the 2nd dimension of 1 from the FloatTensor\n",
    "y_test_pred_resized = y_test_pred.resize(2699)\n",
    "\n",
    "\n",
    "# Make the FloatTensor into a numpy.array\n",
    "y_test_pred_array = y_test_pred_resized.data.numpy()\n",
    "\n",
    "\n",
    "# Convert back to native units and scale\n",
    "y_test_pred_array = y_test_pred_array*5.41747 + 7.67485\n",
    "\n",
    "\n",
    "# Make the numpy.array into a list\n",
    "y_test_pred_list = y_test_pred_array.tolist()"
   ]
  },
  {
   "cell_type": "code",
   "execution_count": 128,
   "metadata": {
    "collapsed": false
   },
   "outputs": [
    {
     "data": {
      "text/plain": [
       "<matplotlib.text.Text at 0x7efe390f17b8>"
      ]
     },
     "execution_count": 128,
     "metadata": {},
     "output_type": "execute_result"
    },
    {
     "data": {
      "image/png": "[encoded data removed]",
      "text/plain": [
       "<matplotlib.figure.Figure at 0x7efe39171f28>"
      ]
     },
     "metadata": {},
     "output_type": "display_data"
    }
   ],
   "source": [
    "# Plot new predictions versus new data outcomes\n",
    "plt.scatter(test_outcomes_list, y_test_pred_list, c = \"black\", alpha = 0.15)\n",
    "\n",
    "axes = plt.gca()\n",
    "\n",
    "axes.set_xlim([2, 23])\n",
    "\n",
    "axes.set_ylim([2, 23])\n",
    "\n",
    "axes.set_xticks([2, 5, 8, 11, 14, 17, 20, 23])\n",
    "\n",
    "axes.set_yticks([2, 5, 8, 11, 14, 17, 20, 23])\n",
    "\n",
    "plt.plot([2, 23], [2, 23], 'k-', lw=2)\n",
    "\n",
    "axes.set_xlabel(\"Actual Outcome (Log-Transformed US Dollars)\")\n",
    "\n",
    "axes.set_ylabel(\"Model Prediction (Log-Transformed US Dollars)\")\n",
    "\n",
    "axes.set_title(\"Model Performance\")"
   ]
  },
  {
   "cell_type": "code",
   "execution_count": 129,
   "metadata": {
    "collapsed": false
   },
   "outputs": [
    {
     "data": {
      "text/plain": [
       "Parameter containing:\n",
       "\n",
       "Columns 0 to 9 \n",
       "1.00000e-02 *\n",
       "  2.9148  0.8951  0.2619 -2.4929  1.2511 -2.8276  2.4948  3.7100  2.3891 -0.9014\n",
       "\n",
       "Columns 10 to 19 \n",
       "1.00000e-02 *\n",
       " -1.8553  0.4658 -0.9970  1.4898  0.9616 -0.9239  0.1263  0.0030  4.3835 -3.4272\n",
       "\n",
       "Columns 20 to 22 \n",
       "1.00000e-02 *\n",
       "  2.0882 -1.7937  2.6503\n",
       "[torch.FloatTensor of size 1x23]"
      ]
     },
     "execution_count": 129,
     "metadata": {},
     "output_type": "execute_result"
    }
   ],
   "source": [
    "model[(0)].weight"
   ]
  }
 ],
 "metadata": {
  "kernelspec": {
   "display_name": "Python 3",
   "language": "python",
   "name": "python3"
  },
  "language_info": {
   "codemirror_mode": {
    "name": "ipython",
    "version": 3
   },
   "file_extension": ".py",
   "mimetype": "text/x-python",
   "name": "python",
   "nbconvert_exporter": "python",
   "pygments_lexer": "ipython3",
   "version": "3.6.0"
  }
 },
 "nbformat": 4,
 "nbformat_minor": 2
}
