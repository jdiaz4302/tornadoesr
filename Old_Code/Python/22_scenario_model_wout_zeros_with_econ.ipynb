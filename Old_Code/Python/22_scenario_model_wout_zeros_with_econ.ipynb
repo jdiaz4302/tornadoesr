{
 "cells": [
  {
   "cell_type": "markdown",
   "metadata": {},
   "source": [
    "## Setup"
   ]
  },
  {
   "cell_type": "code",
   "execution_count": 1,
   "metadata": {
    "collapsed": true
   },
   "outputs": [],
   "source": [
    "# Packages\n",
    "import pandas as pd\n",
    "import torch\n",
    "from torch.autograd import Variable\n",
    "import numpy as np\n",
    "import matplotlib.pyplot as plt\n",
    "%matplotlib inline\n",
    "import pylab\n",
    "import math"
   ]
  },
  {
   "cell_type": "code",
   "execution_count": 2,
   "metadata": {
    "collapsed": false
   },
   "outputs": [
    {
     "name": "stdout",
     "output_type": "stream",
     "text": [
      "<class 'pandas.core.frame.DataFrame'>\n",
      "RangeIndex: 8237 entries, 0 to 8236\n",
      "Data columns (total 27 columns):\n",
      "EVENT_ID              8237 non-null int64\n",
      "DAMAGE_PROPERTY       8237 non-null float64\n",
      "DURATION_SECONDS      8237 non-null float64\n",
      "BEGIN_LAT             8237 non-null float64\n",
      "BEGIN_LON             8237 non-null float64\n",
      "TOR_LENGTH            8237 non-null float64\n",
      "TOR_WIDTH             8237 non-null float64\n",
      "BEGIN_DATE_TIME       8237 non-null float64\n",
      "YEAR                  8237 non-null int64\n",
      "CZ_NAME               8237 non-null object\n",
      "STATE                 8237 non-null object\n",
      "OPEN_WATER_PROP       8237 non-null float64\n",
      "DEV_OPEN_PROP         8237 non-null float64\n",
      "DEV_LOW_PROP          8237 non-null float64\n",
      "DEV_MED_PROP          8237 non-null float64\n",
      "DEV_HIGH_PROP         8237 non-null float64\n",
      "DECID_FOREST_PROP     8237 non-null float64\n",
      "EVERGR_FOREST_PROP    8237 non-null float64\n",
      "MIXED_FOREST_PROP     8237 non-null float64\n",
      "SHRUB_SCRUB_PROP      8237 non-null float64\n",
      "GRASS_LAND_PROP       8237 non-null float64\n",
      "PASTURE_HAY_PROP      8237 non-null float64\n",
      "CULT_CROPS_PROP       8237 non-null float64\n",
      "WOOD_WETLAND_PROP     8237 non-null float64\n",
      "HERB_WETLAND_PROP     8237 non-null float64\n",
      "BARREN_LAND_PROP      8237 non-null float64\n",
      "INCOME                8237 non-null float64\n",
      "dtypes: float64(23), int64(2), object(2)\n",
      "memory usage: 1.7+ MB\n"
     ]
    }
   ],
   "source": [
    "# Import data\n",
    "tor_df = pd.read_csv(\"/home/jeremy/github_tornadoesr/data/raw/train_with_econ_wout_zeros.csv\")\n",
    "\n",
    "\n",
    "# Quick inspection\n",
    "tor_df.info()"
   ]
  },
  {
   "cell_type": "code",
   "execution_count": 3,
   "metadata": {
    "collapsed": false
   },
   "outputs": [
    {
     "name": "stdout",
     "output_type": "stream",
     "text": [
      "<class 'pandas.core.frame.DataFrame'>\n",
      "RangeIndex: 8237 entries, 0 to 8236\n",
      "Data columns (total 1 columns):\n",
      "DAMAGE_PROPERTY    8237 non-null float64\n",
      "dtypes: float64(1)\n",
      "memory usage: 64.4 KB\n"
     ]
    }
   ],
   "source": [
    "# Seperating variables\n",
    "# The dependent variables\n",
    "tornado_outcomes = tor_df.iloc[:, [1]]\n",
    "\n",
    "\n",
    "# Quick inspection\n",
    "tornado_outcomes.info()"
   ]
  },
  {
   "cell_type": "code",
   "execution_count": 4,
   "metadata": {
    "collapsed": false
   },
   "outputs": [
    {
     "name": "stdout",
     "output_type": "stream",
     "text": [
      "<class 'pandas.core.frame.DataFrame'>\n",
      "RangeIndex: 8237 entries, 0 to 8236\n",
      "Data columns (total 22 columns):\n",
      "DURATION_SECONDS      8237 non-null float64\n",
      "BEGIN_LAT             8237 non-null float64\n",
      "BEGIN_LON             8237 non-null float64\n",
      "TOR_LENGTH            8237 non-null float64\n",
      "TOR_WIDTH             8237 non-null float64\n",
      "BEGIN_DATE_TIME       8237 non-null float64\n",
      "OPEN_WATER_PROP       8237 non-null float64\n",
      "DEV_OPEN_PROP         8237 non-null float64\n",
      "DEV_LOW_PROP          8237 non-null float64\n",
      "DEV_MED_PROP          8237 non-null float64\n",
      "DEV_HIGH_PROP         8237 non-null float64\n",
      "DECID_FOREST_PROP     8237 non-null float64\n",
      "EVERGR_FOREST_PROP    8237 non-null float64\n",
      "MIXED_FOREST_PROP     8237 non-null float64\n",
      "SHRUB_SCRUB_PROP      8237 non-null float64\n",
      "GRASS_LAND_PROP       8237 non-null float64\n",
      "PASTURE_HAY_PROP      8237 non-null float64\n",
      "CULT_CROPS_PROP       8237 non-null float64\n",
      "WOOD_WETLAND_PROP     8237 non-null float64\n",
      "HERB_WETLAND_PROP     8237 non-null float64\n",
      "BARREN_LAND_PROP      8237 non-null float64\n",
      "INCOME                8237 non-null float64\n",
      "dtypes: float64(22)\n",
      "memory usage: 1.4 MB\n"
     ]
    }
   ],
   "source": [
    "# The independent variables\n",
    "tornado_features = tor_df.iloc[:, 2:]\n",
    "\n",
    "\n",
    "# Get rid of year and county name\n",
    "tornado_features = tornado_features.drop([\"YEAR\",\n",
    "                                          \"CZ_NAME\",\n",
    "                                          \"STATE\"],\n",
    "                                         axis = 1)\n",
    "\n",
    "\n",
    "\n",
    "# Quick inspection\n",
    "tornado_features.info()"
   ]
  },
  {
   "cell_type": "code",
   "execution_count": 5,
   "metadata": {
    "collapsed": false
   },
   "outputs": [
    {
     "data": {
      "text/plain": [
       "\n",
       " 0.8345\n",
       " 1.0039\n",
       " 0.2808\n",
       "   ⋮    \n",
       " 0.8758\n",
       " 0.8436\n",
       " 1.0908\n",
       "[torch.DoubleTensor of size 8237x1]"
      ]
     },
     "execution_count": 5,
     "metadata": {},
     "output_type": "execute_result"
    }
   ],
   "source": [
    "# Make the dependent variables into a numpy array\n",
    "outcomes_array = tornado_outcomes.values\n",
    "\n",
    "\n",
    "# Makes the numpy array into a torch Tensor\n",
    "outcomes_Tensor = torch.from_numpy(outcomes_array)\n",
    "\n",
    "\n",
    "# Quick inspection\n",
    "outcomes_Tensor"
   ]
  },
  {
   "cell_type": "code",
   "execution_count": 6,
   "metadata": {
    "collapsed": false
   },
   "outputs": [
    {
     "data": {
      "text/plain": [
       "\n",
       " 3.5355e-01  1.2369e-02  8.2870e-01  ...  -1.0901e+00 -3.2988e-01 -1.5643e+00\n",
       "-3.0101e-01 -1.7453e-01  1.3078e+00  ...  -1.0901e+00 -1.3014e-01 -9.0186e-01\n",
       " 2.1715e-01  9.1283e-01  2.3688e+00  ...   1.6831e+00  1.2739e+00  2.1723e+00\n",
       "                ...                   ⋱                   ...                \n",
       " 5.4605e-01 -5.0102e-02  6.1062e-01  ...  -1.0901e+00 -8.9784e-01 -1.8858e-01\n",
       " 9.1370e-01  3.5682e-01 -1.1303e+00  ...  -1.0901e+00 -8.9784e-01  1.9785e+00\n",
       " 1.3713e+00 -6.6390e-01  4.7054e-01  ...  -6.9096e-01 -1.3006e-01 -1.1576e+00\n",
       "[torch.DoubleTensor of size 8237x22]"
      ]
     },
     "execution_count": 6,
     "metadata": {},
     "output_type": "execute_result"
    }
   ],
   "source": [
    "# Make the independent variables into a numpy array\n",
    "features_array = tornado_features.values\n",
    "\n",
    "\n",
    "# Make the numpy array into a torch Tensor\n",
    "features_Tensor = torch.from_numpy(features_array)\n",
    "\n",
    "\n",
    "# Quick inspection\n",
    "features_Tensor"
   ]
  },
  {
   "cell_type": "markdown",
   "metadata": {},
   "source": [
    "### Convert DoubleTensor to FloatTensor"
   ]
  },
  {
   "cell_type": "code",
   "execution_count": 7,
   "metadata": {
    "collapsed": false
   },
   "outputs": [
    {
     "data": {
      "text/plain": [
       "\n",
       " 3.5355e-01  1.2369e-02  8.2870e-01  ...  -1.0901e+00 -3.2988e-01 -1.5643e+00\n",
       "-3.0101e-01 -1.7453e-01  1.3078e+00  ...  -1.0901e+00 -1.3014e-01 -9.0186e-01\n",
       " 2.1715e-01  9.1283e-01  2.3688e+00  ...   1.6831e+00  1.2739e+00  2.1723e+00\n",
       "                ...                   ⋱                   ...                \n",
       " 5.4605e-01 -5.0102e-02  6.1062e-01  ...  -1.0901e+00 -8.9784e-01 -1.8858e-01\n",
       " 9.1370e-01  3.5682e-01 -1.1303e+00  ...  -1.0901e+00 -8.9784e-01  1.9785e+00\n",
       " 1.3713e+00 -6.6390e-01  4.7054e-01  ...  -6.9096e-01 -1.3006e-01 -1.1576e+00\n",
       "[torch.FloatTensor of size 8237x22]"
      ]
     },
     "execution_count": 7,
     "metadata": {},
     "output_type": "execute_result"
    }
   ],
   "source": [
    "# Changing dependent variables from a DoubleTensor to a FloatTensor\n",
    "outcomes_Tensor = outcomes_Tensor.float()\n",
    "\n",
    "\n",
    "# ...and for the independent variables\n",
    "features_Tensor = features_Tensor.float()\n",
    "\n",
    "\n",
    "# Quick check\n",
    "features_Tensor"
   ]
  },
  {
   "cell_type": "markdown",
   "metadata": {
    "collapsed": true
   },
   "source": [
    "## Round 1: One-Hidden-Layer Neural Network"
   ]
  },
  {
   "cell_type": "code",
   "execution_count": 8,
   "metadata": {
    "collapsed": false
   },
   "outputs": [],
   "source": [
    "# Make the torch Tensor into a PyTorch Variable for dependent variables\n",
    "outcomes_Variable = Variable(outcomes_Tensor)\n",
    "\n",
    "\n",
    "# ...for independent variables\n",
    "features_Variable = Variable(features_Tensor,\n",
    "                             requires_grad = False)"
   ]
  },
  {
   "cell_type": "code",
   "execution_count": 9,
   "metadata": {
    "collapsed": false
   },
   "outputs": [],
   "source": [
    "# Make the neural network\n",
    "model = torch.nn.Sequential(torch.nn.Linear(22, 15),\n",
    "                            torch.nn.ReLU(),\n",
    "                            torch.nn.Linear(15, 1))"
   ]
  },
  {
   "cell_type": "code",
   "execution_count": 10,
   "metadata": {
    "collapsed": true
   },
   "outputs": [],
   "source": [
    "# Set the loss function\n",
    "loss_fn = torch.nn.MSELoss(size_average=False)"
   ]
  },
  {
   "cell_type": "code",
   "execution_count": 11,
   "metadata": {
    "collapsed": false
   },
   "outputs": [],
   "source": [
    "# To add errors to\n",
    "errors = []\n",
    "\n",
    "\n",
    "# Set the learning rate\n",
    "learning_rate = 4e-6\n",
    "\n",
    "\n",
    "# Train the neural network\n",
    "for t in range(10000):\n",
    "    \n",
    "    # Get the current predictions\n",
    "    y_pred = model(features_Variable)\n",
    "    \n",
    "    # Compute and append current summed errors\n",
    "    loss = loss_fn(y_pred, outcomes_Variable)\n",
    "    errors.append(loss.data[0])\n",
    "    \n",
    "    # Zero the gradients before running the backward pass.\n",
    "    model.zero_grad()\n",
    "    \n",
    "    # Backward pass: compute gradient of the loss with respect to all the learnable Variables\n",
    "    loss.backward()\n",
    "    \n",
    "    # Update the weights using gradient descent\n",
    "    for param in model.parameters():\n",
    "        param.data -= learning_rate * param.grad.data"
   ]
  },
  {
   "cell_type": "code",
   "execution_count": 12,
   "metadata": {
    "collapsed": true
   },
   "outputs": [],
   "source": [
    "# Get the iterations\n",
    "iterations = list(range(0, 10000))"
   ]
  },
  {
   "cell_type": "code",
   "execution_count": 13,
   "metadata": {
    "collapsed": false
   },
   "outputs": [
    {
     "data": {
      "text/plain": [
       "<matplotlib.collections.PathCollection at 0x7f77cd5ff390>"
      ]
     },
     "execution_count": 13,
     "metadata": {},
     "output_type": "execute_result"
    },
    {
     "data": {
      "image/png": "[encoded data removed]",
      "text/plain": [
       "<matplotlib.figure.Figure at 0x7f777286d1d0>"
      ]
     },
     "metadata": {},
     "output_type": "display_data"
    }
   ],
   "source": [
    "# Plot summed error as a function of iteration\n",
    "plt.scatter(iterations, errors)"
   ]
  },
  {
   "cell_type": "code",
   "execution_count": 14,
   "metadata": {
    "collapsed": false
   },
   "outputs": [],
   "source": [
    "# Get rid of the 2nd dimension of 1 from the FloatTensor\n",
    "y_pred_resized = y_pred.resize(8237)\n",
    "\n",
    "\n",
    "# Make the FloatTensor into a numpy.array\n",
    "y_pred_array = y_pred_resized.data.numpy()\n",
    "\n",
    "\n",
    "# Make the numpy.array into a list\n",
    "y_pred_list = y_pred_array.tolist()"
   ]
  },
  {
   "cell_type": "code",
   "execution_count": 15,
   "metadata": {
    "collapsed": false
   },
   "outputs": [],
   "source": [
    "# Get rid of the 2nd dimension of 1 from the FloatTensor\n",
    "outcomes_Variable_resized = outcomes_Variable.resize(8237)\n",
    "\n",
    "\n",
    "# Make the FloatTensor into a numpy.array\n",
    "outcomes_array = outcomes_Variable_resized.data.numpy()\n",
    "\n",
    "\n",
    "# Make the numpy.array into a list\n",
    "outcomes_list = outcomes_array.tolist()"
   ]
  },
  {
   "cell_type": "code",
   "execution_count": 16,
   "metadata": {
    "collapsed": false
   },
   "outputs": [
    {
     "data": {
      "text/plain": [
       "[<matplotlib.lines.Line2D at 0x7f77727ca898>]"
      ]
     },
     "execution_count": 16,
     "metadata": {},
     "output_type": "execute_result"
    },
    {
     "data": {
      "image/png": "[encoded data removed]",
      "text/plain": [
       "<matplotlib.figure.Figure at 0x7f77727caa58>"
      ]
     },
     "metadata": {},
     "output_type": "display_data"
    }
   ],
   "source": [
    "# Plot predictions versus training set outcomes\n",
    "plt.scatter(outcomes_list, y_pred_list)\n",
    "\n",
    "axes = plt.gca()\n",
    "\n",
    "axes.set_xlim([-2, 4])\n",
    "\n",
    "axes.set_ylim([-2, 4])\n",
    "\n",
    "plt.plot([-2, 4], [-2, 4], 'k-', lw=2)"
   ]
  },
  {
   "cell_type": "markdown",
   "metadata": {},
   "source": [
    "### Round 1.1: Validation Set Performance"
   ]
  },
  {
   "cell_type": "code",
   "execution_count": 17,
   "metadata": {
    "collapsed": false
   },
   "outputs": [],
   "source": [
    "# Import data\n",
    "valid_df = pd.read_csv(\"/home/jeremy/github_tornadoesr/data/raw/cv_with_econ_wout_zeros.csv\")\n",
    "\n",
    "\n",
    "# Validation set outcomes\n",
    "valid_outcomes = valid_df.iloc[:, [1]]\n",
    "\n",
    "\n",
    "# Make the validation outcomes into a numpy array\n",
    "valid_outcomes_array = valid_outcomes.values\n",
    "\n",
    "\n",
    "# Makes the numpy array into a torch Tensor\n",
    "valid_outcomes_Tensor = torch.from_numpy(valid_outcomes_array)\n",
    "\n",
    "\n",
    "# Changing validation outcomes from a DoubleTensor to a FloatTensor\n",
    "valid_outcomes_Tensor = valid_outcomes_Tensor.float()\n",
    "\n",
    "\n",
    "# Make the Tensor into a Pytorch Variable\n",
    "valid_outcomes_Variable = Variable(valid_outcomes_Tensor)"
   ]
  },
  {
   "cell_type": "code",
   "execution_count": 18,
   "metadata": {
    "collapsed": false
   },
   "outputs": [],
   "source": [
    "# Validation set predictors\n",
    "valid_predictors = valid_df.iloc[:, 2:]\n",
    "\n",
    "valid_predictors = valid_predictors.drop([\"YEAR\",\n",
    "                                          \"CZ_NAME\",\n",
    "                                          \"STATE\"],\n",
    "                                         axis = 1)\n",
    "\n",
    "\n",
    "# Make the validation predictors into a numpy array\n",
    "valid_predictors_array = valid_predictors.values\n",
    "\n",
    "\n",
    "# Makes the numpy array into a torch Tensor\n",
    "valid_predictors_Tensor = torch.from_numpy(valid_predictors_array)\n",
    "\n",
    "\n",
    "# Changing validation predictors from a DoubleTensor to a FloatTensor\n",
    "valid_predictors_Tensor = valid_predictors_Tensor.float()\n",
    "\n",
    "\n",
    "# Make the Tensor into a Pytorch Variable\n",
    "valid_predictors_Variable = Variable(valid_predictors_Tensor)"
   ]
  },
  {
   "cell_type": "code",
   "execution_count": 19,
   "metadata": {
    "collapsed": false
   },
   "outputs": [],
   "source": [
    "# Have to make a new model and give it the train_model parameters to fix structure problem\n",
    "dim_corrected_model = torch.nn.Sequential(torch.nn.Linear(22, 15),\n",
    "                                          torch.nn.ReLU(),\n",
    "                                          torch.nn.Linear(15, 1))\n",
    "\n",
    "\n",
    "# Give the new model the old model's parameters\n",
    "dim_corrected_model[(0)].weight = model[(0)].weight\n",
    "dim_corrected_model[(2)].weight = model[(2)].weight"
   ]
  },
  {
   "cell_type": "code",
   "execution_count": 20,
   "metadata": {
    "collapsed": false
   },
   "outputs": [
    {
     "data": {
      "text/plain": [
       "Variable containing:\n",
       " 413.0975\n",
       "[torch.FloatTensor of size 1]"
      ]
     },
     "execution_count": 20,
     "metadata": {},
     "output_type": "execute_result"
    }
   ],
   "source": [
    "# Get the validation set predictions\n",
    "y_valid_pred = dim_corrected_model(valid_predictors_Variable)\n",
    "\n",
    "\n",
    "# Print the loss\n",
    "loss_fn(y_valid_pred,\n",
    "        valid_outcomes_Variable)"
   ]
  },
  {
   "cell_type": "code",
   "execution_count": 21,
   "metadata": {
    "collapsed": false
   },
   "outputs": [
    {
     "name": "stdout",
     "output_type": "stream",
     "text": [
      "<class 'pandas.core.frame.DataFrame'>\n",
      "RangeIndex: 2730 entries, 0 to 2729\n",
      "Data columns (total 22 columns):\n",
      "DURATION_SECONDS      2730 non-null float64\n",
      "BEGIN_LAT             2730 non-null float64\n",
      "BEGIN_LON             2730 non-null float64\n",
      "TOR_LENGTH            2730 non-null float64\n",
      "TOR_WIDTH             2730 non-null float64\n",
      "BEGIN_DATE_TIME       2730 non-null float64\n",
      "OPEN_WATER_PROP       2730 non-null float64\n",
      "DEV_OPEN_PROP         2730 non-null float64\n",
      "DEV_LOW_PROP          2730 non-null float64\n",
      "DEV_MED_PROP          2730 non-null float64\n",
      "DEV_HIGH_PROP         2730 non-null float64\n",
      "DECID_FOREST_PROP     2730 non-null float64\n",
      "EVERGR_FOREST_PROP    2730 non-null float64\n",
      "MIXED_FOREST_PROP     2730 non-null float64\n",
      "SHRUB_SCRUB_PROP      2730 non-null float64\n",
      "GRASS_LAND_PROP       2730 non-null float64\n",
      "PASTURE_HAY_PROP      2730 non-null float64\n",
      "CULT_CROPS_PROP       2730 non-null float64\n",
      "WOOD_WETLAND_PROP     2730 non-null float64\n",
      "HERB_WETLAND_PROP     2730 non-null float64\n",
      "BARREN_LAND_PROP      2730 non-null float64\n",
      "INCOME                2730 non-null float64\n",
      "dtypes: float64(22)\n",
      "memory usage: 469.3 KB\n"
     ]
    }
   ],
   "source": [
    "valid_predictors.info()"
   ]
  },
  {
   "cell_type": "code",
   "execution_count": 23,
   "metadata": {
    "collapsed": true
   },
   "outputs": [],
   "source": [
    "# Get rid of the 2nd dimension of 1 from the FloatTensor\n",
    "y_valid_pred_resized = y_valid_pred.resize(2730)\n",
    "\n",
    "\n",
    "# Make the FloatTensor into a numpy.array\n",
    "y_valid_pred_array = y_valid_pred_resized.data.numpy()\n",
    "\n",
    "\n",
    "# Make the numpy.array into a list\n",
    "y_valid_pred_list = y_valid_pred_array.tolist()"
   ]
  },
  {
   "cell_type": "code",
   "execution_count": 24,
   "metadata": {
    "collapsed": false
   },
   "outputs": [],
   "source": [
    "# Get rid of the 2nd dimension of 1 from the FloatTensor\n",
    "valid_outcomes_Variable_resized = valid_outcomes_Variable.resize(2730)\n",
    "\n",
    "\n",
    "# Make the FloatTensor into a numpy.array\n",
    "valid_outcomes_array = valid_outcomes_Variable_resized.data.numpy()\n",
    "\n",
    "\n",
    "# Make the numpy.array into a list\n",
    "valid_outcomes_list = valid_outcomes_array.tolist()"
   ]
  },
  {
   "cell_type": "code",
   "execution_count": 25,
   "metadata": {
    "collapsed": false
   },
   "outputs": [
    {
     "data": {
      "text/plain": [
       "[<matplotlib.lines.Line2D at 0x7f777081a0f0>]"
      ]
     },
     "execution_count": 25,
     "metadata": {},
     "output_type": "execute_result"
    },
    {
     "data": {
      "image/png": "[encoded data removed]",
      "text/plain": [
       "<matplotlib.figure.Figure at 0x7f777081a128>"
      ]
     },
     "metadata": {},
     "output_type": "display_data"
    }
   ],
   "source": [
    "# Plot new predictions versus new data outcomes\n",
    "plt.scatter(valid_outcomes_list, y_valid_pred_list)\n",
    "\n",
    "axes = plt.gca()\n",
    "\n",
    "axes.set_xlim([-2, 4])\n",
    "\n",
    "axes.set_ylim([-2, 4])\n",
    "\n",
    "plt.plot([-2, 4], [-2, 4], 'k-', lw=2)"
   ]
  },
  {
   "cell_type": "markdown",
   "metadata": {},
   "source": [
    "### Round 1.2: Test Set Performance"
   ]
  },
  {
   "cell_type": "code",
   "execution_count": 26,
   "metadata": {
    "collapsed": false
   },
   "outputs": [],
   "source": [
    "# Import data\n",
    "test_df = pd.read_csv(\"/home/jeremy/github_tornadoesr/data/raw/test_with_econ_wout_zeros.csv\")\n",
    "\n",
    "\n",
    "# Validation set outcomes\n",
    "test_outcomes = test_df.iloc[:, [1]]\n",
    "\n",
    "\n",
    "# Make the validation outcomes into a numpy array\n",
    "test_outcomes_array = test_outcomes.values\n",
    "\n",
    "\n",
    "# Makes the numpy array into a torch Tensor\n",
    "test_outcomes_Tensor = torch.from_numpy(test_outcomes_array)\n",
    "\n",
    "\n",
    "# Changing validation outcomes from a DoubleTensor to a FloatTensor\n",
    "test_outcomes_Tensor = test_outcomes_Tensor.float()\n",
    "\n",
    "\n",
    "# Make the Tensor into a Pytorch Variable\n",
    "test_outcomes_Variable = Variable(test_outcomes_Tensor)"
   ]
  },
  {
   "cell_type": "code",
   "execution_count": 27,
   "metadata": {
    "collapsed": true
   },
   "outputs": [],
   "source": [
    "# Validation set predictors\n",
    "test_predictors = test_df.iloc[:, 2:]\n",
    "\n",
    "test_predictors = test_predictors.drop([\"YEAR\",\n",
    "                                        \"CZ_NAME\",\n",
    "                                        \"STATE\"],\n",
    "                                       axis = 1)\n",
    "\n",
    "\n",
    "# Make the validation predictors into a numpy array\n",
    "test_predictors_array = test_predictors.values\n",
    "\n",
    "\n",
    "# Makes the numpy array into a torch Tensor\n",
    "test_predictors_Tensor = torch.from_numpy(test_predictors_array)\n",
    "\n",
    "\n",
    "# Changing validation predictors from a DoubleTensor to a FloatTensor\n",
    "test_predictors_Tensor = test_predictors_Tensor.float()\n",
    "\n",
    "\n",
    "# Make the Tensor into a Pytorch Variable\n",
    "test_predictors_Variable = Variable(test_predictors_Tensor)"
   ]
  },
  {
   "cell_type": "code",
   "execution_count": 28,
   "metadata": {
    "collapsed": false
   },
   "outputs": [],
   "source": [
    "# Have to make a new model and give it the train_model parameters to fix structure problem\n",
    "dim_corrected_model_2 = torch.nn.Sequential(torch.nn.Linear(22, 15),\n",
    "                                            torch.nn.ReLU(),\n",
    "                                            torch.nn.Linear(15, 1))\n",
    "\n",
    "\n",
    "# Give the new model the old model's parameters\n",
    "dim_corrected_model_2[(0)].weight = model[(0)].weight\n",
    "dim_corrected_model_2[(2)].weight = model[(2)].weight"
   ]
  },
  {
   "cell_type": "code",
   "execution_count": 29,
   "metadata": {
    "collapsed": false
   },
   "outputs": [
    {
     "data": {
      "text/plain": [
       "Variable containing:\n",
       " 281.9453\n",
       "[torch.FloatTensor of size 1]"
      ]
     },
     "execution_count": 29,
     "metadata": {},
     "output_type": "execute_result"
    }
   ],
   "source": [
    "# Get the validation set predictions\n",
    "y_test_pred = dim_corrected_model_2(test_predictors_Variable)\n",
    "\n",
    "\n",
    "# Print the loss\n",
    "loss_fn(y_test_pred,\n",
    "        test_outcomes_Variable)"
   ]
  },
  {
   "cell_type": "code",
   "execution_count": 30,
   "metadata": {
    "collapsed": false
   },
   "outputs": [
    {
     "name": "stdout",
     "output_type": "stream",
     "text": [
      "<class 'pandas.core.frame.DataFrame'>\n",
      "RangeIndex: 2724 entries, 0 to 2723\n",
      "Data columns (total 22 columns):\n",
      "DURATION_SECONDS      2724 non-null float64\n",
      "BEGIN_LAT             2724 non-null float64\n",
      "BEGIN_LON             2724 non-null float64\n",
      "TOR_LENGTH            2724 non-null float64\n",
      "TOR_WIDTH             2724 non-null float64\n",
      "BEGIN_DATE_TIME       2724 non-null float64\n",
      "OPEN_WATER_PROP       2724 non-null float64\n",
      "DEV_OPEN_PROP         2724 non-null float64\n",
      "DEV_LOW_PROP          2724 non-null float64\n",
      "DEV_MED_PROP          2724 non-null float64\n",
      "DEV_HIGH_PROP         2724 non-null float64\n",
      "DECID_FOREST_PROP     2724 non-null float64\n",
      "EVERGR_FOREST_PROP    2724 non-null float64\n",
      "MIXED_FOREST_PROP     2724 non-null float64\n",
      "SHRUB_SCRUB_PROP      2724 non-null float64\n",
      "GRASS_LAND_PROP       2724 non-null float64\n",
      "PASTURE_HAY_PROP      2724 non-null float64\n",
      "CULT_CROPS_PROP       2724 non-null float64\n",
      "WOOD_WETLAND_PROP     2724 non-null float64\n",
      "HERB_WETLAND_PROP     2724 non-null float64\n",
      "BARREN_LAND_PROP      2724 non-null float64\n",
      "INCOME                2724 non-null float64\n",
      "dtypes: float64(22)\n",
      "memory usage: 468.3 KB\n"
     ]
    }
   ],
   "source": [
    "test_predictors.info()"
   ]
  },
  {
   "cell_type": "code",
   "execution_count": 31,
   "metadata": {
    "collapsed": false
   },
   "outputs": [],
   "source": [
    "# Get rid of the 2nd dimension of 1 from the FloatTensor\n",
    "y_test_pred_resized = y_test_pred.resize(2724)\n",
    "\n",
    "\n",
    "# Make the FloatTensor into a numpy.array\n",
    "y_test_pred_array = y_test_pred_resized.data.numpy()\n",
    "\n",
    "\n",
    "# Convert back to native units and scale\n",
    "y_test_pred_array = y_test_pred_array*5.735285 + 6.490682\n",
    "\n",
    "\n",
    "# Make the numpy.array into a list\n",
    "y_test_pred_list = y_test_pred_array.tolist()"
   ]
  },
  {
   "cell_type": "code",
   "execution_count": 32,
   "metadata": {
    "collapsed": true
   },
   "outputs": [],
   "source": [
    "# Get rid of the 2nd dimension of 1 from the FloatTensor\n",
    "test_outcomes_Variable_resized = test_outcomes_Variable.resize(2724)\n",
    "\n",
    "\n",
    "# Make the FloatTensor into a numpy.array\n",
    "test_outcomes_array = test_outcomes_Variable_resized.data.numpy()\n",
    "\n",
    "\n",
    "# Convert back to native units and scale\n",
    "test_outcomes_array = test_outcomes_array*5.735285 + 6.490682\n",
    "\n",
    "\n",
    "# Make the numpy.array into a list\n",
    "test_outcomes_list = test_outcomes_array.tolist()"
   ]
  },
  {
   "cell_type": "code",
   "execution_count": 33,
   "metadata": {
    "collapsed": false
   },
   "outputs": [
    {
     "data": {
      "text/plain": [
       "<matplotlib.text.Text at 0x7f777070cda0>"
      ]
     },
     "execution_count": 33,
     "metadata": {},
     "output_type": "execute_result"
    },
    {
     "data": {
      "image/png": "[encoded data removed]",
      "text/plain": [
       "<matplotlib.figure.Figure at 0x7f7770756128>"
      ]
     },
     "metadata": {},
     "output_type": "display_data"
    }
   ],
   "source": [
    "# Plot new predictions versus new data outcomes\n",
    "\n",
    "plt.scatter(test_outcomes_list, y_test_pred_list)\n",
    "\n",
    "axes = plt.gca()\n",
    "\n",
    "axes.set_xlim([2, 23])\n",
    "\n",
    "axes.set_ylim([2, 23])\n",
    "\n",
    "axes.set_xticks([2, 5, 8, 11, 14, 17, 20, 23])\n",
    "\n",
    "axes.set_yticks([2, 5, 8, 11, 14, 17, 20, 23])\n",
    "\n",
    "plt.plot([2, 23], [2, 23], 'k-', lw=2)\n",
    "\n",
    "axes.set_xlabel(\"Actual Outcome (Log-Transformed US Dollars)\")\n",
    "\n",
    "axes.set_ylabel(\"Model Prediction (Log-Transformed US Dollars)\")\n",
    "\n",
    "axes.set_title(\"Model Performance\")"
   ]
  },
  {
   "cell_type": "code",
   "execution_count": 34,
   "metadata": {
    "collapsed": false
   },
   "outputs": [
    {
     "data": {
      "text/plain": [
       "Parameter containing:\n",
       "\n",
       "Columns 0 to 9 \n",
       " 0.0683 -0.1498  0.0573 -0.0454  0.1956 -0.1439 -0.1237  0.1088  0.0788  0.0129\n",
       " 0.0933  0.2404  0.1538 -0.0260  0.0041  0.0347 -0.0511  0.0280 -0.1043 -0.2597\n",
       "-0.1098  0.1184  0.0555 -0.1435  0.1043 -0.0692 -0.0502 -0.0147 -0.0557 -0.0407\n",
       "-0.0851  0.1259  0.0150 -0.2660 -0.0102  0.0990 -0.1730 -0.1488 -0.0616 -0.0388\n",
       "-0.0637  0.1198  0.1180  0.1221  0.3466 -0.1650  0.0691 -0.2043  0.0714  0.0171\n",
       " 0.1687 -0.2668  0.0113 -0.0660  0.1519 -0.0474  0.0644  0.0677  0.0184  0.0846\n",
       "-0.0441  0.0982 -0.0126 -0.0335 -0.1608  0.1323  0.0160 -0.1732 -0.0107 -0.1386\n",
       "-0.1016 -0.0185  0.0387 -0.1203 -0.0085 -0.1181  0.1400  0.0214  0.0136  0.1741\n",
       " 0.1364 -0.0905 -0.0826  0.0267  0.1849  0.0664 -0.0215  0.1024  0.1668 -0.1254\n",
       " 0.1754 -0.3056 -0.0599  0.1554 -0.0175  0.0700 -0.0777  0.0099 -0.0241  0.1561\n",
       " 0.0268  0.0034 -0.0722 -0.1354  0.2303 -0.1312  0.0151  0.1025 -0.1421 -0.1170\n",
       "-0.0319 -0.0689  0.1949  0.0771 -0.1369 -0.0695 -0.0940 -0.1633  0.2216 -0.0595\n",
       "-0.0696 -0.1871  0.1686  0.2770  0.3285 -0.1190  0.0250  0.0550  0.1035  0.2378\n",
       " 0.0682 -0.0463 -0.0327 -0.0574  0.0807  0.1401  0.0238 -0.0139 -0.0398 -0.0720\n",
       "-0.0508  0.2344 -0.1132  0.2082  0.1887 -0.1158  0.0261  0.1888 -0.1788  0.0755\n",
       "\n",
       "Columns 10 to 19 \n",
       "-0.0397 -0.1943  0.0427  0.1512 -0.0687  0.0110  0.0247  0.0210 -0.0724 -0.0078\n",
       "-0.0261  0.0963  0.0303 -0.0196  0.0426  0.1407  0.2121 -0.0345 -0.0969 -0.0596\n",
       "-0.1754 -0.0956 -0.1307 -0.2324  0.1527  0.0344  0.0171  0.1191  0.0500  0.0626\n",
       "-0.0276  0.0485 -0.1220  0.0001  0.0806 -0.0874  0.2850 -0.0532 -0.0155 -0.0072\n",
       " 0.2245 -0.0518 -0.0631 -0.0390  0.0404 -0.1111  0.1078  0.0312 -0.1360  0.0426\n",
       " 0.1657  0.0237 -0.0910 -0.0547  0.0916  0.1435 -0.0461 -0.1062  0.1612  0.1324\n",
       " 0.0744 -0.1689 -0.0410  0.0022  0.0013 -0.1664 -0.1489 -0.1318 -0.1258  0.0645\n",
       " 0.1752 -0.0495 -0.0764  0.2260  0.0510  0.0168 -0.1506  0.1851  0.2287 -0.0268\n",
       " 0.1217  0.1601 -0.1046 -0.0512 -0.0227 -0.0268  0.0099 -0.0583  0.0743 -0.1263\n",
       "-0.1035 -0.1761  0.0490  0.1049 -0.0260 -0.0467  0.1569 -0.1085  0.1466 -0.1228\n",
       " 0.0767 -0.1483 -0.2771  0.0524 -0.0917  0.2673  0.0135 -0.0453 -0.1234  0.0858\n",
       "-0.1222 -0.1745 -0.0152  0.0457  0.1693 -0.0598  0.0591 -0.1481  0.1844 -0.0620\n",
       "-0.0452  0.0516  0.1097 -0.0654  0.0904  0.0676 -0.0471  0.1439  0.0358  0.1068\n",
       " 0.0796 -0.1527 -0.1799  0.2691 -0.0007  0.1446 -0.0475  0.2526  0.0506 -0.0696\n",
       "-0.0028 -0.0896  0.0421  0.0416 -0.2322  0.1861 -0.2042 -0.0836 -0.1067  0.1894\n",
       "\n",
       "Columns 20 to 21 \n",
       "-0.1357 -0.0170\n",
       "-0.0366 -0.0045\n",
       "-0.0526 -0.0007\n",
       "-0.1753  0.0669\n",
       " 0.0298 -0.0297\n",
       " 0.0482  0.0422\n",
       " 0.0546 -0.1839\n",
       "-0.0346 -0.2351\n",
       "-0.1592  0.0285\n",
       " 0.2255  0.0839\n",
       "-0.1722 -0.0757\n",
       "-0.1849 -0.1666\n",
       " 0.0079 -0.0596\n",
       " 0.0523 -0.0004\n",
       " 0.0237 -0.0342\n",
       "[torch.FloatTensor of size 15x22]"
      ]
     },
     "execution_count": 34,
     "metadata": {},
     "output_type": "execute_result"
    }
   ],
   "source": [
    "dim_corrected_model_2[(0)].weight"
   ]
  },
  {
   "cell_type": "code",
   "execution_count": 35,
   "metadata": {
    "collapsed": false
   },
   "outputs": [
    {
     "data": {
      "text/plain": [
       "Parameter containing:\n",
       "\n",
       "Columns 0 to 9 \n",
       " 0.0475  0.2281  0.1537 -0.1903  0.2617  0.0201 -0.0611 -0.1060  0.2565  0.0944\n",
       "\n",
       "Columns 10 to 14 \n",
       "-0.2595  0.0301  0.2184  0.1636  0.2064\n",
       "[torch.FloatTensor of size 1x15]"
      ]
     },
     "execution_count": 35,
     "metadata": {},
     "output_type": "execute_result"
    }
   ],
   "source": [
    "dim_corrected_model_2[(2)].weight"
   ]
  },
  {
   "cell_type": "markdown",
   "metadata": {},
   "source": [
    "## Round 2: Two-Hidden-Layer Neural Network"
   ]
  },
  {
   "cell_type": "code",
   "execution_count": 36,
   "metadata": {
    "collapsed": true
   },
   "outputs": [],
   "source": [
    "# Make the torch Tensor into a PyTorch Variable for dependent variables\n",
    "outcomes_Variable = Variable(outcomes_Tensor)\n",
    "\n",
    "\n",
    "# ...for independent variables\n",
    "features_Variable = Variable(features_Tensor,\n",
    "                             requires_grad = False)"
   ]
  },
  {
   "cell_type": "code",
   "execution_count": 37,
   "metadata": {
    "collapsed": true
   },
   "outputs": [],
   "source": [
    "# Make the neural network\n",
    "model = torch.nn.Sequential(torch.nn.Linear(22, 15),\n",
    "                            torch.nn.ReLU(),\n",
    "                            torch.nn.Linear(15, 10),\n",
    "                            torch.nn.ReLU(),\n",
    "                            torch.nn.Linear(10, 1))"
   ]
  },
  {
   "cell_type": "code",
   "execution_count": 38,
   "metadata": {
    "collapsed": false
   },
   "outputs": [],
   "source": [
    "# To add errors to\n",
    "errors = []\n",
    "\n",
    "\n",
    "# Set the learning rate\n",
    "learning_rate = 6e-6\n",
    "\n",
    "\n",
    "# Train the neural network\n",
    "for t in range(10000):\n",
    "    \n",
    "    # Get the current predictions\n",
    "    y_pred = model(features_Variable)\n",
    "    \n",
    "    # Compute and append current summed errors\n",
    "    loss = loss_fn(y_pred, outcomes_Variable)\n",
    "    errors.append(loss.data[0])\n",
    "    \n",
    "    # Zero the gradients before running the backward pass.\n",
    "    model.zero_grad()\n",
    "    \n",
    "    # Backward pass: compute gradient of the loss with respect to all the learnable Variables\n",
    "    loss.backward()\n",
    "    \n",
    "    # Update the weights using gradient descent\n",
    "    for param in model.parameters():\n",
    "        param.data -= learning_rate * param.grad.data"
   ]
  },
  {
   "cell_type": "code",
   "execution_count": 39,
   "metadata": {
    "collapsed": false
   },
   "outputs": [
    {
     "data": {
      "text/plain": [
       "<matplotlib.collections.PathCollection at 0x7f77705f1390>"
      ]
     },
     "execution_count": 39,
     "metadata": {},
     "output_type": "execute_result"
    },
    {
     "data": {
      "image/png": "[encoded data removed]",
      "text/plain": [
       "<matplotlib.figure.Figure at 0x7f7770673128>"
      ]
     },
     "metadata": {},
     "output_type": "display_data"
    }
   ],
   "source": [
    "# Plot summed error as a function of iteration\n",
    "plt.scatter(iterations, errors)"
   ]
  },
  {
   "cell_type": "code",
   "execution_count": 40,
   "metadata": {
    "collapsed": false
   },
   "outputs": [],
   "source": [
    "# Get rid of the 2nd dimension of 1 from the FloatTensor\n",
    "y_pred_resized = y_pred.resize(8237)\n",
    "\n",
    "\n",
    "# Make the FloatTensor into a numpy.array\n",
    "y_pred_array = y_pred_resized.data.numpy()\n",
    "\n",
    "\n",
    "# Make the numpy.array into a list\n",
    "y_pred_list = y_pred_array.tolist()"
   ]
  },
  {
   "cell_type": "code",
   "execution_count": 41,
   "metadata": {
    "collapsed": false
   },
   "outputs": [
    {
     "data": {
      "text/plain": [
       "[<matplotlib.lines.Line2D at 0x7f777062e4e0>]"
      ]
     },
     "execution_count": 41,
     "metadata": {},
     "output_type": "execute_result"
    },
    {
     "data": {
      "image/png": "[encoded data removed]",
      "text/plain": [
       "<matplotlib.figure.Figure at 0x7f777062e3c8>"
      ]
     },
     "metadata": {},
     "output_type": "display_data"
    }
   ],
   "source": [
    "# Plot predictions versus training set outcomes\n",
    "plt.scatter(outcomes_list, y_pred_list)\n",
    "\n",
    "axes = plt.gca()\n",
    "\n",
    "axes.set_xlim([-2, 4])\n",
    "\n",
    "axes.set_ylim([-2, 4])\n",
    "\n",
    "plt.plot([-2, 4], [-2, 4], 'k-', lw=2)"
   ]
  },
  {
   "cell_type": "markdown",
   "metadata": {},
   "source": [
    "### Round 2.1: Validation Set Performance"
   ]
  },
  {
   "cell_type": "code",
   "execution_count": 42,
   "metadata": {
    "collapsed": false
   },
   "outputs": [],
   "source": [
    "# Have to make a new model and give it the train_model parameters to fix structure problem\n",
    "dim_corrected_model = torch.nn.Sequential(torch.nn.Linear(22, 15),\n",
    "                                          torch.nn.ReLU(),\n",
    "                                          torch.nn.Linear(15, 10),\n",
    "                                          torch.nn.ReLU(),\n",
    "                                          torch.nn.Linear(10, 1))\n",
    "\n",
    "\n",
    "# Give the new model the old model's parameters\n",
    "dim_corrected_model[(0)].weight = model[(0)].weight\n",
    "dim_corrected_model[(2)].weight = model[(2)].weight\n",
    "dim_corrected_model[(4)].weight = model[(4)].weight"
   ]
  },
  {
   "cell_type": "code",
   "execution_count": 43,
   "metadata": {
    "collapsed": false
   },
   "outputs": [
    {
     "data": {
      "text/plain": [
       "Variable containing:\n",
       " 514.0609\n",
       "[torch.FloatTensor of size 1]"
      ]
     },
     "execution_count": 43,
     "metadata": {},
     "output_type": "execute_result"
    }
   ],
   "source": [
    "# Get the validation set predictions\n",
    "y_valid_pred = dim_corrected_model(valid_predictors_Variable)\n",
    "\n",
    "\n",
    "# Print the loss\n",
    "loss_fn(y_valid_pred,\n",
    "        valid_outcomes_Variable)"
   ]
  },
  {
   "cell_type": "code",
   "execution_count": 45,
   "metadata": {
    "collapsed": false
   },
   "outputs": [],
   "source": [
    "# Get rid of the 2nd dimension of 1 from the FloatTensor\n",
    "y_valid_pred_resized = y_valid_pred.resize(2730)\n",
    "\n",
    "\n",
    "# Make the FloatTensor into a numpy.array\n",
    "y_valid_pred_array = y_valid_pred_resized.data.numpy()\n",
    "\n",
    "\n",
    "# Make the numpy.array into a list\n",
    "y_valid_pred_list = y_valid_pred_array.tolist()"
   ]
  },
  {
   "cell_type": "code",
   "execution_count": 46,
   "metadata": {
    "collapsed": false
   },
   "outputs": [
    {
     "data": {
      "text/plain": [
       "[<matplotlib.lines.Line2D at 0x7f7770573470>]"
      ]
     },
     "execution_count": 46,
     "metadata": {},
     "output_type": "execute_result"
    },
    {
     "data": {
      "image/png": "[encoded data removed]",
      "text/plain": [
       "<matplotlib.figure.Figure at 0x7f7770573518>"
      ]
     },
     "metadata": {},
     "output_type": "display_data"
    }
   ],
   "source": [
    "# Plot new predictions versus new data outcomes\n",
    "plt.scatter(valid_outcomes_list, y_valid_pred_list)\n",
    "\n",
    "axes = plt.gca()\n",
    "\n",
    "axes.set_xlim([-2, 4])\n",
    "\n",
    "axes.set_ylim([-2, 4])\n",
    "\n",
    "plt.plot([-2, 4], [-2, 4], 'k-', lw=2)"
   ]
  },
  {
   "cell_type": "markdown",
   "metadata": {},
   "source": [
    "### Round 2.2: Test Set Performance"
   ]
  },
  {
   "cell_type": "code",
   "execution_count": 47,
   "metadata": {
    "collapsed": true
   },
   "outputs": [],
   "source": [
    "# Have to make a new model and give it the train_model parameters to fix structure problem\n",
    "dim_corrected_model_2 = torch.nn.Sequential(torch.nn.Linear(22, 15),\n",
    "                                            torch.nn.ReLU(),\n",
    "                                            torch.nn.Linear(15, 10),\n",
    "                                            torch.nn.ReLU(),\n",
    "                                            torch.nn.Linear(10, 1))\n",
    "\n",
    "\n",
    "# Give the new model the old model's parameters\n",
    "dim_corrected_model_2[(0)].weight = model[(0)].weight\n",
    "dim_corrected_model_2[(2)].weight = model[(2)].weight\n",
    "dim_corrected_model_2[(4)].weight = model[(4)].weight"
   ]
  },
  {
   "cell_type": "code",
   "execution_count": 48,
   "metadata": {
    "collapsed": false
   },
   "outputs": [
    {
     "data": {
      "text/plain": [
       "Variable containing:\n",
       " 513.1083\n",
       "[torch.FloatTensor of size 1]"
      ]
     },
     "execution_count": 48,
     "metadata": {},
     "output_type": "execute_result"
    }
   ],
   "source": [
    "# Get the validation set predictions\n",
    "y_test_pred = dim_corrected_model_2(test_predictors_Variable)\n",
    "\n",
    "\n",
    "# Print the loss\n",
    "loss_fn(y_test_pred,\n",
    "        test_outcomes_Variable)"
   ]
  },
  {
   "cell_type": "code",
   "execution_count": 49,
   "metadata": {
    "collapsed": true
   },
   "outputs": [],
   "source": [
    "# Get rid of the 2nd dimension of 1 from the FloatTensor\n",
    "y_test_pred_resized = y_test_pred.resize(2724)\n",
    "\n",
    "\n",
    "# Make the FloatTensor into a numpy.array\n",
    "y_test_pred_array = y_test_pred_resized.data.numpy()\n",
    "\n",
    "\n",
    "# Convert back to native units and scale\n",
    "y_test_pred_array = y_test_pred_array*5.735285 + 6.490682\n",
    "\n",
    "\n",
    "# Make the numpy.array into a list\n",
    "y_test_pred_list = y_test_pred_array.tolist()"
   ]
  },
  {
   "cell_type": "code",
   "execution_count": 50,
   "metadata": {
    "collapsed": false
   },
   "outputs": [
    {
     "data": {
      "text/plain": [
       "<matplotlib.text.Text at 0x7f777047fef0>"
      ]
     },
     "execution_count": 50,
     "metadata": {},
     "output_type": "execute_result"
    },
    {
     "data": {
      "image/png": "[encoded data removed]",
      "text/plain": [
       "<matplotlib.figure.Figure at 0x7f77707fb940>"
      ]
     },
     "metadata": {},
     "output_type": "display_data"
    }
   ],
   "source": [
    "# Plot new predictions versus new data outcomes\n",
    "\n",
    "plt.scatter(test_outcomes_list, y_test_pred_list)\n",
    "\n",
    "axes = plt.gca()\n",
    "\n",
    "axes.set_xlim([2, 23])\n",
    "\n",
    "axes.set_ylim([2, 23])\n",
    "\n",
    "axes.set_xticks([2, 5, 8, 11, 14, 17, 20, 23])\n",
    "\n",
    "axes.set_yticks([2, 5, 8, 11, 14, 17, 20, 23])\n",
    "\n",
    "plt.plot([2, 23], [2, 23], 'k-', lw=2)\n",
    "\n",
    "axes.set_xlabel(\"Actual Outcome (Log-Transformed US Dollars)\")\n",
    "\n",
    "axes.set_ylabel(\"Model Prediction (Log-Transformed US Dollars)\")\n",
    "\n",
    "axes.set_title(\"Model Performance\")"
   ]
  },
  {
   "cell_type": "code",
   "execution_count": 51,
   "metadata": {
    "collapsed": false
   },
   "outputs": [
    {
     "data": {
      "text/plain": [
       "Parameter containing:\n",
       "\n",
       "Columns 0 to 9 \n",
       " 0.1350 -0.4063 -0.1008  0.1333  0.2403  0.0229  0.0159 -0.0658  0.1615 -0.0760\n",
       "-0.0282  0.1983 -0.1394  0.1582  0.0855  0.1173  0.0751  0.0411  0.1446  0.1488\n",
       " 0.0430 -0.0107 -0.0272 -0.1804  0.0347  0.1969  0.0224 -0.0596  0.0785 -0.0356\n",
       " 0.0375  0.0453  0.2825 -0.0765  0.0738 -0.0561 -0.1651  0.1725 -0.0057  0.1409\n",
       " 0.2322  0.2824 -0.1216 -0.0088 -0.0924 -0.1533 -0.0508 -0.0799 -0.1325  0.0019\n",
       " 0.2093  0.0684 -0.2020  0.0418  0.1525  0.1338 -0.0195  0.0527 -0.1115  0.0297\n",
       " 0.1521 -0.3203  0.0394 -0.2301 -0.1635 -0.1218 -0.0630  0.0643  0.0323  0.2942\n",
       " 0.1335  0.1597  0.1285  0.2193 -0.1652 -0.1269  0.0458  0.2444  0.1617  0.0762\n",
       "-0.1549 -0.0966  0.0442  0.1300  0.3856  0.1502 -0.0421  0.1300  0.1257 -0.1125\n",
       " 0.0544  0.2964  0.3578  0.1405  0.2291 -0.1911  0.0009 -0.1565 -0.1253  0.1498\n",
       "-0.2184  0.0087 -0.0706 -0.3875 -0.2193  0.1495 -0.0041  0.2259 -0.3120  0.1097\n",
       " 0.0388 -0.0769 -0.1335 -0.3078  0.2956 -0.0005  0.0110 -0.1189 -0.0041 -0.0699\n",
       "-0.1319  0.1120 -0.1227 -0.1895  0.1705 -0.0800  0.0181  0.2076  0.1173 -0.1511\n",
       " 0.2477  0.0339 -0.1621 -0.0357  0.2595  0.1653  0.0307  0.1707 -0.0125 -0.1116\n",
       "-0.0329  0.3445 -0.0890  0.1314  0.2226 -0.2002 -0.0047 -0.0630  0.0567  0.0944\n",
       "\n",
       "Columns 10 to 19 \n",
       " 0.1241  0.0410  0.0489  0.1329 -0.0344  0.0363 -0.0401  0.0531  0.0737  0.0996\n",
       " 0.0404  0.0192 -0.1478 -0.1781 -0.1156  0.1195  0.1056  0.2342 -0.1155  0.0972\n",
       " 0.2421  0.2870 -0.0222 -0.0038  0.3136 -0.1795 -0.0588  0.0666  0.1076  0.1566\n",
       "-0.1231 -0.0403  0.1045  0.1785 -0.2064 -0.1865 -0.1602 -0.0625 -0.1090  0.1711\n",
       "-0.0625  0.2018  0.0195  0.0850  0.0093 -0.1432  0.0769 -0.0538  0.0825  0.0750\n",
       "-0.0208 -0.1489 -0.0679 -0.1034 -0.1339  0.1903 -0.2374  0.1679  0.0052  0.0478\n",
       "-0.1531 -0.0537 -0.1634 -0.0846  0.0941 -0.2266 -0.0047  0.0508  0.1361  0.0969\n",
       "-0.1569  0.1117  0.0515 -0.1665  0.1346 -0.0903 -0.1755 -0.1633 -0.0032  0.0876\n",
       " 0.2768 -0.0004 -0.0246 -0.0947  0.1981 -0.0619  0.0708 -0.0124 -0.0797 -0.0378\n",
       " 0.1234 -0.0419 -0.0322 -0.0031  0.1391 -0.0098 -0.0635  0.0263 -0.0911  0.1366\n",
       " 0.1012 -0.0954  0.1073 -0.0898 -0.0390 -0.0725  0.0958 -0.0253  0.0141 -0.1350\n",
       "-0.0661  0.0857 -0.2651  0.0208 -0.0414  0.1285 -0.0780 -0.1519 -0.1657  0.0907\n",
       " 0.0195  0.0563 -0.1132  0.2158  0.1432  0.0075  0.0468 -0.1231 -0.1953 -0.1721\n",
       "-0.0394  0.3493  0.0648 -0.1715 -0.1022 -0.0551  0.1040 -0.0002  0.0067  0.0649\n",
       "-0.0197  0.0325 -0.0852 -0.0834 -0.0804 -0.1158 -0.1214 -0.1257  0.0812 -0.1819\n",
       "\n",
       "Columns 20 to 21 \n",
       " 0.0231 -0.1394\n",
       " 0.0531  0.0972\n",
       " 0.0902 -0.1355\n",
       "-0.0582  0.0600\n",
       "-0.1375 -0.2321\n",
       "-0.0685  0.0571\n",
       " 0.0755 -0.2172\n",
       "-0.1627 -0.1983\n",
       "-0.0503  0.1541\n",
       "-0.0079 -0.0324\n",
       "-0.0634  0.2231\n",
       "-0.1355 -0.2240\n",
       "-0.1470 -0.0543\n",
       " 0.0294 -0.1264\n",
       " 0.0790  0.0843\n",
       "[torch.FloatTensor of size 15x22]"
      ]
     },
     "execution_count": 51,
     "metadata": {},
     "output_type": "execute_result"
    }
   ],
   "source": [
    "dim_corrected_model_2[(0)].weight"
   ]
  },
  {
   "cell_type": "code",
   "execution_count": 52,
   "metadata": {
    "collapsed": false
   },
   "outputs": [
    {
     "data": {
      "text/plain": [
       "Parameter containing:\n",
       "\n",
       "Columns 0 to 9 \n",
       " 0.2917  0.0545 -0.0979  0.0133 -0.1986 -0.1115  0.1102 -0.0601  0.2832 -0.0902\n",
       "-0.0786  0.1889  0.1150  0.2346  0.1767  0.0941  0.1331  0.0908  0.2501  0.1280\n",
       " 0.1887 -0.1284  0.2921 -0.2856  0.0866  0.1880 -0.2371  0.0164 -0.0242  0.0160\n",
       " 0.1334  0.0724 -0.1381 -0.0554 -0.1739  0.2104  0.1895 -0.1186  0.0518  0.3031\n",
       "-0.0408 -0.1086  0.2387  0.0764  0.1060 -0.1604 -0.1423  0.1214  0.1786  0.1861\n",
       " 0.1742 -0.0588  0.1264  0.1425 -0.1920  0.1594  0.2362  0.1778 -0.0281 -0.0406\n",
       "-0.0024  0.0404  0.0125  0.0375 -0.3118 -0.0905 -0.2998 -0.0293  0.0736 -0.3161\n",
       " 0.2314  0.0505 -0.1520  0.0986 -0.0022  0.0111 -0.1674  0.0781  0.3064  0.0644\n",
       "-0.2232 -0.0241 -0.0795 -0.2160  0.0611  0.2115 -0.0102 -0.0021 -0.0130 -0.1074\n",
       "-0.2670 -0.1595  0.0692  0.1734  0.0920  0.0339 -0.2004 -0.2299  0.3534  0.0565\n",
       "\n",
       "Columns 10 to 14 \n",
       " 0.0530 -0.3232 -0.0662 -0.0364  0.0673\n",
       "-0.1625  0.2143 -0.2472  0.0854 -0.0331\n",
       "-0.1794  0.1199  0.1196 -0.1980 -0.0928\n",
       "-0.0463  0.2216 -0.0632  0.4197 -0.1775\n",
       "-0.0153 -0.1739  0.1253  0.2633  0.2404\n",
       "-0.2055 -0.0099 -0.1293 -0.0584 -0.0901\n",
       "-0.2100  0.1970 -0.2980  0.3101 -0.2410\n",
       "-0.3459 -0.1796 -0.1640  0.0564  0.1827\n",
       " 0.0550  0.2868  0.1348  0.0481  0.1034\n",
       " 0.0401  0.1117 -0.1417  0.0982 -0.0386\n",
       "[torch.FloatTensor of size 10x15]"
      ]
     },
     "execution_count": 52,
     "metadata": {},
     "output_type": "execute_result"
    }
   ],
   "source": [
    "dim_corrected_model_2[(2)].weight"
   ]
  },
  {
   "cell_type": "code",
   "execution_count": 53,
   "metadata": {
    "collapsed": false
   },
   "outputs": [
    {
     "data": {
      "text/plain": [
       "Parameter containing:\n",
       " 0.2987 -0.2842 -0.4536  0.4643  0.3487 -0.0920 -0.6277  0.6121  0.2562 -0.3864\n",
       "[torch.FloatTensor of size 1x10]"
      ]
     },
     "execution_count": 53,
     "metadata": {},
     "output_type": "execute_result"
    }
   ],
   "source": [
    "dim_corrected_model_2[(4)].weight"
   ]
  },
  {
   "cell_type": "markdown",
   "metadata": {},
   "source": [
    "## Round 3: Three-Hidden-Layers Neural Network"
   ]
  },
  {
   "cell_type": "code",
   "execution_count": 54,
   "metadata": {
    "collapsed": true
   },
   "outputs": [],
   "source": [
    "# Make the torch Tensor into a PyTorch Variable for dependent variables\n",
    "outcomes_Variable = Variable(outcomes_Tensor)\n",
    "\n",
    "\n",
    "# ...for independent variables\n",
    "features_Variable = Variable(features_Tensor,\n",
    "                             requires_grad = False)"
   ]
  },
  {
   "cell_type": "code",
   "execution_count": 55,
   "metadata": {
    "collapsed": false
   },
   "outputs": [],
   "source": [
    "# Make the neural network\n",
    "model = torch.nn.Sequential(torch.nn.Linear(22, 15),\n",
    "                            torch.nn.ReLU(),\n",
    "                            torch.nn.Linear(15, 10),\n",
    "                            torch.nn.ReLU(),\n",
    "                            torch.nn.Linear(10, 7),\n",
    "                            torch.nn.ReLU(),\n",
    "                            torch.nn.Linear(7, 1))"
   ]
  },
  {
   "cell_type": "code",
   "execution_count": 56,
   "metadata": {
    "collapsed": false
   },
   "outputs": [],
   "source": [
    "# To add errors to\n",
    "errors = []\n",
    "\n",
    "\n",
    "# Set the learning rate\n",
    "learning_rate = 5e-6\n",
    "\n",
    "\n",
    "# Train the neural network\n",
    "for t in range(10000):\n",
    "    \n",
    "    # Get the current predictions\n",
    "    y_pred = model(features_Variable)\n",
    "    \n",
    "    # Compute and append current summed errors\n",
    "    loss = loss_fn(y_pred, outcomes_Variable)\n",
    "    errors.append(loss.data[0])\n",
    "    \n",
    "    # Zero the gradients before running the backward pass.\n",
    "    model.zero_grad()\n",
    "    \n",
    "    # Backward pass: compute gradient of the loss with respect to all the learnable Variables\n",
    "    loss.backward()\n",
    "    \n",
    "    # Update the weights using gradient descent\n",
    "    for param in model.parameters():\n",
    "        param.data -= learning_rate * param.grad.data"
   ]
  },
  {
   "cell_type": "code",
   "execution_count": 57,
   "metadata": {
    "collapsed": false
   },
   "outputs": [
    {
     "data": {
      "text/plain": [
       "<matplotlib.collections.PathCollection at 0x7f77703c5860>"
      ]
     },
     "execution_count": 57,
     "metadata": {},
     "output_type": "execute_result"
    },
    {
     "data": {
      "image/png": "[encoded data removed]",
      "text/plain": [
       "<matplotlib.figure.Figure at 0x7f777043f0f0>"
      ]
     },
     "metadata": {},
     "output_type": "display_data"
    }
   ],
   "source": [
    "# Plot summed error as a function of iteration\n",
    "plt.scatter(iterations, errors)"
   ]
  },
  {
   "cell_type": "code",
   "execution_count": 58,
   "metadata": {
    "collapsed": true
   },
   "outputs": [],
   "source": [
    "# Get rid of the 2nd dimension of 1 from the FloatTensor\n",
    "y_pred_resized = y_pred.resize(8237)\n",
    "\n",
    "\n",
    "# Make the FloatTensor into a numpy.array\n",
    "y_pred_array = y_pred_resized.data.numpy()\n",
    "\n",
    "\n",
    "# Make the numpy.array into a list\n",
    "y_pred_list = y_pred_array.tolist()"
   ]
  },
  {
   "cell_type": "code",
   "execution_count": 59,
   "metadata": {
    "collapsed": false
   },
   "outputs": [
    {
     "data": {
      "text/plain": [
       "[<matplotlib.lines.Line2D at 0x7f77705419b0>]"
      ]
     },
     "execution_count": 59,
     "metadata": {},
     "output_type": "execute_result"
    },
    {
     "data": {
      "image/png": "[encoded data removed]",
      "text/plain": [
       "<matplotlib.figure.Figure at 0x7f7770541a58>"
      ]
     },
     "metadata": {},
     "output_type": "display_data"
    }
   ],
   "source": [
    "# Plot predictions versus training set outcomes\n",
    "plt.scatter(outcomes_list, y_pred_list)\n",
    "\n",
    "axes = plt.gca()\n",
    "\n",
    "axes.set_xlim([-2, 4])\n",
    "\n",
    "axes.set_ylim([-2, 4])\n",
    "\n",
    "plt.plot([-2, 4], [-2, 4], 'k-', lw=2)"
   ]
  },
  {
   "cell_type": "markdown",
   "metadata": {},
   "source": [
    "### Round 3.1: Validation Set Performance"
   ]
  },
  {
   "cell_type": "code",
   "execution_count": 60,
   "metadata": {
    "collapsed": false
   },
   "outputs": [],
   "source": [
    "# Have to make a new model and give it the train_model parameters to fix structure problem\n",
    "dim_corrected_model = torch.nn.Sequential(torch.nn.Linear(22, 15),\n",
    "                                          torch.nn.ReLU(),\n",
    "                                          torch.nn.Linear(15, 10),\n",
    "                                          torch.nn.ReLU(),\n",
    "                                          torch.nn.Linear(10, 7),\n",
    "                                          torch.nn.ReLU(),\n",
    "                                          torch.nn.Linear(7, 1))\n",
    "\n",
    "\n",
    "# Give the new model the old model's parameters\n",
    "dim_corrected_model[(0)].weight = model[(0)].weight\n",
    "dim_corrected_model[(2)].weight = model[(2)].weight\n",
    "dim_corrected_model[(4)].weight = model[(4)].weight\n",
    "dim_corrected_model[(6)].weight = model[(6)].weight"
   ]
  },
  {
   "cell_type": "code",
   "execution_count": 61,
   "metadata": {
    "collapsed": false
   },
   "outputs": [
    {
     "data": {
      "text/plain": [
       "Variable containing:\n",
       " 973.6031\n",
       "[torch.FloatTensor of size 1]"
      ]
     },
     "execution_count": 61,
     "metadata": {},
     "output_type": "execute_result"
    }
   ],
   "source": [
    "# Get the validation set predictions\n",
    "y_valid_pred = dim_corrected_model(valid_predictors_Variable)\n",
    "\n",
    "\n",
    "# Print the loss\n",
    "loss_fn(y_valid_pred,\n",
    "        valid_outcomes_Variable)"
   ]
  },
  {
   "cell_type": "code",
   "execution_count": 62,
   "metadata": {
    "collapsed": false
   },
   "outputs": [],
   "source": [
    "# Get rid of the 2nd dimension of 1 from the FloatTensor\n",
    "y_valid_pred_resized = y_valid_pred.resize(2730)\n",
    "\n",
    "\n",
    "# Make the FloatTensor into a numpy.array\n",
    "y_valid_pred_array = y_valid_pred_resized.data.numpy()\n",
    "\n",
    "\n",
    "# Make the numpy.array into a list\n",
    "y_valid_pred_list = y_valid_pred_array.tolist()"
   ]
  },
  {
   "cell_type": "code",
   "execution_count": 63,
   "metadata": {
    "collapsed": false
   },
   "outputs": [
    {
     "data": {
      "text/plain": [
       "[<matplotlib.lines.Line2D at 0x7f77702c6eb8>]"
      ]
     },
     "execution_count": 63,
     "metadata": {},
     "output_type": "execute_result"
    },
    {
     "data": {
      "image/png": "[encoded data removed]",
      "text/plain": [
       "<matplotlib.figure.Figure at 0x7f77702f7e48>"
      ]
     },
     "metadata": {},
     "output_type": "display_data"
    }
   ],
   "source": [
    "# Plot new predictions versus new data outcomes\n",
    "plt.scatter(valid_outcomes_list, y_valid_pred_list)\n",
    "\n",
    "axes = plt.gca()\n",
    "\n",
    "axes.set_xlim([-2, 4])\n",
    "\n",
    "axes.set_ylim([-2, 4])\n",
    "\n",
    "plt.plot([-2, 4], [-2, 4], 'k-', lw=2)"
   ]
  },
  {
   "cell_type": "markdown",
   "metadata": {},
   "source": [
    "### Round 3.2: Test Set Performance"
   ]
  },
  {
   "cell_type": "code",
   "execution_count": 64,
   "metadata": {
    "collapsed": true
   },
   "outputs": [],
   "source": [
    "# Have to make a new model and give it the train_model parameters to fix structure problem\n",
    "dim_corrected_model_2 = torch.nn.Sequential(torch.nn.Linear(22, 15),\n",
    "                                            torch.nn.ReLU(),\n",
    "                                            torch.nn.Linear(15, 10),\n",
    "                                            torch.nn.ReLU(),\n",
    "                                            torch.nn.Linear(10, 7),\n",
    "                                            torch.nn.ReLU(),\n",
    "                                            torch.nn.Linear(7, 1))\n",
    "\n",
    "\n",
    "# Give the new model the old model's parameters\n",
    "dim_corrected_model_2[(0)].weight = model[(0)].weight\n",
    "dim_corrected_model_2[(2)].weight = model[(2)].weight\n",
    "dim_corrected_model_2[(4)].weight = model[(4)].weight\n",
    "dim_corrected_model_2[(6)].weight = model[(6)].weight"
   ]
  },
  {
   "cell_type": "code",
   "execution_count": 65,
   "metadata": {
    "collapsed": false
   },
   "outputs": [
    {
     "data": {
      "text/plain": [
       "Variable containing:\n",
       " 1187.1211\n",
       "[torch.FloatTensor of size 1]"
      ]
     },
     "execution_count": 65,
     "metadata": {},
     "output_type": "execute_result"
    }
   ],
   "source": [
    "# Get the validation set predictions\n",
    "y_test_pred = dim_corrected_model_2(test_predictors_Variable)\n",
    "\n",
    "\n",
    "# Print the loss\n",
    "loss_fn(y_test_pred,\n",
    "        test_outcomes_Variable)"
   ]
  },
  {
   "cell_type": "code",
   "execution_count": 66,
   "metadata": {
    "collapsed": true
   },
   "outputs": [],
   "source": [
    "# Get rid of the 2nd dimension of 1 from the FloatTensor\n",
    "y_test_pred_resized = y_test_pred.resize(2724)\n",
    "\n",
    "\n",
    "# Make the FloatTensor into a numpy.array\n",
    "y_test_pred_array = y_test_pred_resized.data.numpy()\n",
    "\n",
    "\n",
    "# Convert back to native units and scale\n",
    "y_test_pred_array = y_test_pred_array*5.735285 + 6.490682\n",
    "\n",
    "\n",
    "# Make the numpy.array into a list\n",
    "y_test_pred_list = y_test_pred_array.tolist()"
   ]
  },
  {
   "cell_type": "code",
   "execution_count": 67,
   "metadata": {
    "collapsed": false
   },
   "outputs": [
    {
     "data": {
      "text/plain": [
       "<matplotlib.text.Text at 0x7f777022fc88>"
      ]
     },
     "execution_count": 67,
     "metadata": {},
     "output_type": "execute_result"
    },
    {
     "data": {
      "image/png": "[encoded data removed]",
      "text/plain": [
       "<matplotlib.figure.Figure at 0x7f77703019e8>"
      ]
     },
     "metadata": {},
     "output_type": "display_data"
    }
   ],
   "source": [
    "# Plot new predictions versus new data outcomes\n",
    "\n",
    "plt.scatter(test_outcomes_list, y_test_pred_list)\n",
    "\n",
    "axes = plt.gca()\n",
    "\n",
    "axes.set_xlim([2, 23])\n",
    "\n",
    "axes.set_ylim([2, 23])\n",
    "\n",
    "axes.set_xticks([2, 5, 8, 11, 14, 17, 20, 23])\n",
    "\n",
    "axes.set_yticks([2, 5, 8, 11, 14, 17, 20, 23])\n",
    "\n",
    "plt.plot([2, 23], [2, 23], 'k-', lw=2)\n",
    "\n",
    "axes.set_xlabel(\"Actual Outcome (Log-Transformed US Dollars)\")\n",
    "\n",
    "axes.set_ylabel(\"Model Prediction (Log-Transformed US Dollars)\")\n",
    "\n",
    "axes.set_title(\"Model Performance\")"
   ]
  },
  {
   "cell_type": "code",
   "execution_count": 68,
   "metadata": {
    "collapsed": false
   },
   "outputs": [
    {
     "data": {
      "text/plain": [
       "Parameter containing:\n",
       "\n",
       "Columns 0 to 9 \n",
       " 0.3057  0.1902 -0.0932  0.0799  0.0171  0.1671  0.0748  0.1467 -0.1155 -0.0056\n",
       "-0.0335 -0.0318 -0.0928  0.0334 -0.2891 -0.2967 -0.0591  0.1551 -0.0812  0.0641\n",
       " 0.2126 -0.1221  0.0203 -0.0489  0.0135  0.1160 -0.0278  0.0304 -0.1137 -0.1346\n",
       " 0.2442  0.0775  0.0924  0.0451 -0.2327  0.0681 -0.0644 -0.1491 -0.1100 -0.0689\n",
       " 0.1199 -0.0789 -0.1008  0.1604  0.0330  0.1967 -0.0394 -0.0230  0.0430 -0.0364\n",
       "-0.0649 -0.1769  0.0015  0.0533  0.0854 -0.1427 -0.1248  0.1808 -0.1318  0.0537\n",
       " 0.1028 -0.0369 -0.0794  0.0692  0.1506 -0.2492  0.0684  0.0076  0.0843 -0.1263\n",
       "-0.0511  0.0451  0.1090 -0.0639 -0.2953  0.1477 -0.0932  0.1469 -0.1734 -0.0540\n",
       " 0.0404 -0.0528  0.0794 -0.2267 -0.1555 -0.0188  0.1124 -0.1121  0.0366 -0.1615\n",
       "-0.0972  0.3458  0.1704  0.2162  0.1936 -0.1988 -0.0484 -0.1639  0.2132 -0.1864\n",
       "-0.1656 -0.2358 -0.1175 -0.1964  0.2374  0.0084 -0.0668 -0.1264 -0.0739 -0.1374\n",
       "-0.1587 -0.0470  0.2478  0.2021  0.2298 -0.0683  0.1258 -0.1305 -0.1324 -0.1065\n",
       " 0.0391 -0.0837 -0.0591  0.0871  0.4580 -0.0058 -0.0232  0.1887 -0.0436  0.2816\n",
       " 0.0144 -0.3489  0.0619  0.2468  0.2390 -0.2121 -0.0722  0.0317  0.2295  0.0882\n",
       "-0.1478  0.1364  0.0509  0.2294 -0.1393 -0.1623  0.1077 -0.1812 -0.0570  0.0603\n",
       "\n",
       "Columns 10 to 19 \n",
       " 0.1602  0.1883  0.0203  0.0206 -0.0268 -0.0119 -0.0751 -0.1908 -0.0784 -0.0711\n",
       " 0.0581  0.0543  0.0011  0.1749 -0.0422 -0.0939 -0.0857  0.0356  0.1052 -0.0623\n",
       "-0.0145 -0.0312 -0.1328  0.0573  0.1299  0.1198  0.0933  0.1475  0.0329 -0.2928\n",
       "-0.0451 -0.2164 -0.1372  0.1266 -0.1245  0.0406 -0.1241  0.0951 -0.0868  0.1677\n",
       " 0.1616 -0.1445  0.2490 -0.0897 -0.0727  0.1003  0.0057  0.1498  0.1765  0.1678\n",
       "-0.2036  0.1307  0.2683 -0.1471 -0.0819  0.1429 -0.2225  0.1110  0.0177  0.1338\n",
       "-0.2188  0.1270  0.2316 -0.0474 -0.0590  0.0500 -0.1173 -0.0884 -0.2769  0.1799\n",
       " 0.0904  0.0968  0.1364  0.0181  0.0185 -0.1383 -0.0450 -0.0800 -0.0040  0.0204\n",
       " 0.2140  0.1159 -0.1061 -0.0417  0.1696 -0.1308 -0.0766  0.1805  0.1455  0.1096\n",
       " 0.0685 -0.0832 -0.0175 -0.0116 -0.0222 -0.1823 -0.1180  0.0356 -0.0214  0.0523\n",
       "-0.0163 -0.1024 -0.0871 -0.1115  0.0231  0.1873 -0.0716 -0.1743 -0.2324  0.0427\n",
       " 0.1802  0.0076 -0.1208 -0.1275  0.0014  0.0344  0.0507  0.0125  0.0554  0.0656\n",
       " 0.0130  0.0151  0.0739 -0.0837  0.0970 -0.0540  0.0197 -0.0700 -0.2408  0.0469\n",
       " 0.1020 -0.0531 -0.0626  0.1271 -0.0472  0.0067  0.0654  0.0342  0.1830 -0.0306\n",
       "-0.1774 -0.0673  0.1178 -0.0322  0.0716 -0.2281 -0.0778 -0.1229 -0.1337 -0.0061\n",
       "\n",
       "Columns 20 to 21 \n",
       "-0.0637 -0.0022\n",
       "-0.2230  0.0951\n",
       " 0.0599  0.0647\n",
       "-0.0553 -0.0337\n",
       " 0.0783 -0.0739\n",
       "-0.0852  0.2390\n",
       " 0.0684  0.1238\n",
       " 0.1868  0.2495\n",
       " 0.0124 -0.2461\n",
       " 0.0533  0.0642\n",
       "-0.1329  0.0080\n",
       " 0.0933 -0.0564\n",
       "-0.0305 -0.0115\n",
       "-0.0859  0.0890\n",
       "-0.1670 -0.0764\n",
       "[torch.FloatTensor of size 15x22]"
      ]
     },
     "execution_count": 68,
     "metadata": {},
     "output_type": "execute_result"
    }
   ],
   "source": [
    "dim_corrected_model_2[(0)].weight"
   ]
  },
  {
   "cell_type": "code",
   "execution_count": 69,
   "metadata": {
    "collapsed": false
   },
   "outputs": [
    {
     "data": {
      "text/plain": [
       "Parameter containing:\n",
       "\n",
       "Columns 0 to 9 \n",
       "-0.1396 -0.2053 -0.0977  0.1674 -0.1377 -0.0434  0.0978  0.0347  0.0958  0.2028\n",
       " 0.0856 -0.1480  0.0497 -0.0965 -0.1290 -0.2209 -0.1477 -0.2319  0.2106 -0.2099\n",
       "-0.2533 -0.0534  0.1759  0.2994  0.1153  0.0432 -0.0650 -0.0195  0.0022 -0.1651\n",
       " 0.0743 -0.2513  0.2487 -0.0152  0.0611  0.1940  0.0862 -0.2155  0.0825  0.1505\n",
       "-0.0029  0.0397 -0.2719 -0.0848 -0.1042 -0.1866  0.1874 -0.0936  0.2888 -0.1679\n",
       "-0.0936 -0.0314  0.1113  0.1039 -0.1964  0.1424  0.1685 -0.2561 -0.0866 -0.2999\n",
       " 0.2246 -0.0660  0.0777 -0.0964 -0.0130 -0.0566  0.0913 -0.1817 -0.0674  0.3187\n",
       "-0.0930 -0.0300  0.0471  0.1740 -0.0856 -0.1200 -0.2078 -0.2211  0.1354  0.2724\n",
       "-0.0298 -0.1133 -0.0111 -0.1134  0.0959 -0.2150 -0.1779 -0.0071 -0.2187  0.2347\n",
       " 0.1118 -0.1147  0.1399  0.0402  0.0601  0.0403 -0.0103  0.2037  0.1433 -0.1744\n",
       "\n",
       "Columns 10 to 14 \n",
       " 0.0136 -0.0044 -0.0653  0.2349  0.0413\n",
       " 0.1388  0.0456  0.0398 -0.0645  0.0019\n",
       " 0.2681 -0.0168 -0.2326 -0.0214  0.1744\n",
       "-0.0203  0.2175  0.1901  0.2304  0.0240\n",
       "-0.1540 -0.1062 -0.1002 -0.0483 -0.0596\n",
       " 0.1054 -0.2262  0.1522  0.1882 -0.0202\n",
       "-0.2190  0.0826  0.2473  0.1929 -0.1299\n",
       " 0.1262 -0.1107  0.1787 -0.2192 -0.0032\n",
       " 0.1955 -0.1745  0.0028 -0.2248  0.1458\n",
       "-0.1432  0.0491  0.0340  0.0238  0.1503\n",
       "[torch.FloatTensor of size 10x15]"
      ]
     },
     "execution_count": 69,
     "metadata": {},
     "output_type": "execute_result"
    }
   ],
   "source": [
    "dim_corrected_model_2[(2)].weight"
   ]
  },
  {
   "cell_type": "code",
   "execution_count": 70,
   "metadata": {
    "collapsed": false
   },
   "outputs": [
    {
     "data": {
      "text/plain": [
       "Parameter containing:\n",
       " 0.0074 -0.3002  0.0546  0.3034 -0.1253 -0.3309  0.5056 -0.0716  0.0675  0.2666\n",
       " 0.2446  0.0169  0.0565  0.0664 -0.1971  0.1194  0.0415 -0.3133 -0.2278  0.2210\n",
       " 0.2843  0.1355  0.1426  0.1238  0.2398 -0.1204 -0.0025 -0.0170  0.3094 -0.2994\n",
       " 0.2701  0.0334 -0.2716 -0.2814  0.1155  0.1088  0.1070  0.1234  0.0373  0.0713\n",
       "-0.2287  0.1593  0.1060  0.2640 -0.1902 -0.2774  0.2735 -0.0400 -0.2731 -0.1149\n",
       "-0.0958 -0.2349 -0.1428  0.2695 -0.1174 -0.2018  0.1723 -0.0784  0.1835 -0.0790\n",
       "-0.0599 -0.2337  0.2501 -0.0237  0.1068  0.0211 -0.1555 -0.0187  0.2648 -0.3002\n",
       "[torch.FloatTensor of size 7x10]"
      ]
     },
     "execution_count": 70,
     "metadata": {},
     "output_type": "execute_result"
    }
   ],
   "source": [
    "dim_corrected_model_2[(4)].weight"
   ]
  },
  {
   "cell_type": "code",
   "execution_count": 71,
   "metadata": {
    "collapsed": false
   },
   "outputs": [
    {
     "data": {
      "text/plain": [
       "Parameter containing:\n",
       " 0.6039 -0.1351 -0.1386 -0.4056  0.4254  0.3510  0.0423\n",
       "[torch.FloatTensor of size 1x7]"
      ]
     },
     "execution_count": 71,
     "metadata": {},
     "output_type": "execute_result"
    }
   ],
   "source": [
    "dim_corrected_model_2[(6)].weight"
   ]
  },
  {
   "cell_type": "markdown",
   "metadata": {},
   "source": [
    "## Round 4: Four-Hidden-Layer Neural Network"
   ]
  },
  {
   "cell_type": "code",
   "execution_count": 72,
   "metadata": {
    "collapsed": true
   },
   "outputs": [],
   "source": [
    "# Make the torch Tensor into a PyTorch Variable for dependent variables\n",
    "outcomes_Variable = Variable(outcomes_Tensor)\n",
    "\n",
    "\n",
    "# ...for independent variables\n",
    "features_Variable = Variable(features_Tensor,\n",
    "                             requires_grad = False)"
   ]
  },
  {
   "cell_type": "code",
   "execution_count": 73,
   "metadata": {
    "collapsed": true
   },
   "outputs": [],
   "source": [
    "# Make the neural network\n",
    "model = torch.nn.Sequential(torch.nn.Linear(22, 15),\n",
    "                            torch.nn.ReLU(),\n",
    "                            torch.nn.Linear(15, 10),\n",
    "                            torch.nn.ReLU(),\n",
    "                            torch.nn.Linear(10, 7),\n",
    "                            torch.nn.ReLU(),\n",
    "                            torch.nn.Linear(7, 5),\n",
    "                            torch.nn.ReLU(),\n",
    "                            torch.nn.Linear(5, 1))"
   ]
  },
  {
   "cell_type": "code",
   "execution_count": 74,
   "metadata": {
    "collapsed": true
   },
   "outputs": [],
   "source": [
    "# To add errors to\n",
    "errors = []\n",
    "\n",
    "\n",
    "# Set the learning rate\n",
    "learning_rate = 5e-6\n",
    "\n",
    "\n",
    "# Train the neural network\n",
    "for t in range(10000):\n",
    "    \n",
    "    # Get the current predictions\n",
    "    y_pred = model(features_Variable)\n",
    "    \n",
    "    # Compute and append current summed errors\n",
    "    loss = loss_fn(y_pred, outcomes_Variable)\n",
    "    errors.append(loss.data[0])\n",
    "    \n",
    "    # Zero the gradients before running the backward pass.\n",
    "    model.zero_grad()\n",
    "    \n",
    "    # Backward pass: compute gradient of the loss with respect to all the learnable Variables\n",
    "    loss.backward()\n",
    "    \n",
    "    # Update the weights using gradient descent\n",
    "    for param in model.parameters():\n",
    "        param.data -= learning_rate * param.grad.data"
   ]
  },
  {
   "cell_type": "code",
   "execution_count": 75,
   "metadata": {
    "collapsed": false
   },
   "outputs": [
    {
     "data": {
      "text/plain": [
       "<matplotlib.collections.PathCollection at 0x7f7770176748>"
      ]
     },
     "execution_count": 75,
     "metadata": {},
     "output_type": "execute_result"
    },
    {
     "data": {
      "image/png": "[encoded data removed]",
      "text/plain": [
       "<matplotlib.figure.Figure at 0x7f77701e5ef0>"
      ]
     },
     "metadata": {},
     "output_type": "display_data"
    }
   ],
   "source": [
    "# Plot summed error as a function of iteration\n",
    "plt.scatter(iterations, errors)"
   ]
  },
  {
   "cell_type": "code",
   "execution_count": 78,
   "metadata": {
    "collapsed": false
   },
   "outputs": [],
   "source": [
    "# Get rid of the 2nd dimension of 1 from the FloatTensor\n",
    "y_pred_resized = y_pred.resize(8237)\n",
    "\n",
    "\n",
    "# Make the FloatTensor into a numpy.array\n",
    "y_pred_array = y_pred_resized.data.numpy()\n",
    "\n",
    "\n",
    "# Make the numpy.array into a list\n",
    "y_pred_list = y_pred_array.tolist()"
   ]
  },
  {
   "cell_type": "code",
   "execution_count": 79,
   "metadata": {
    "collapsed": false
   },
   "outputs": [
    {
     "data": {
      "text/plain": [
       "[<matplotlib.lines.Line2D at 0x7f77701a2710>]"
      ]
     },
     "execution_count": 79,
     "metadata": {},
     "output_type": "execute_result"
    },
    {
     "data": {
      "image/png": "[encoded data removed]",
      "text/plain": [
       "<matplotlib.figure.Figure at 0x7f777026a6d8>"
      ]
     },
     "metadata": {},
     "output_type": "display_data"
    }
   ],
   "source": [
    "# Plot predictions versus training set outcomes\n",
    "plt.scatter(outcomes_list, y_pred_list)\n",
    "\n",
    "axes = plt.gca()\n",
    "\n",
    "axes.set_xlim([-2, 4])\n",
    "\n",
    "axes.set_ylim([-2, 4])\n",
    "\n",
    "plt.plot([-2, 4], [-2, 4], 'k-', lw=2)"
   ]
  },
  {
   "cell_type": "markdown",
   "metadata": {},
   "source": [
    "### Round 4.1: Validation Set Performance"
   ]
  },
  {
   "cell_type": "code",
   "execution_count": 80,
   "metadata": {
    "collapsed": true
   },
   "outputs": [],
   "source": [
    "# Have to make a new model and give it the train_model parameters to fix structure problem\n",
    "dim_corrected_model = torch.nn.Sequential(torch.nn.Linear(22, 15),\n",
    "                                          torch.nn.ReLU(),\n",
    "                                          torch.nn.Linear(15, 10),\n",
    "                                          torch.nn.ReLU(),\n",
    "                                          torch.nn.Linear(10, 7),\n",
    "                                          torch.nn.ReLU(),\n",
    "                                          torch.nn.Linear(7, 5),\n",
    "                                          torch.nn.ReLU(),\n",
    "                                          torch.nn.Linear(5, 1))\n",
    "\n",
    "\n",
    "# Give the new model the old model's parameters\n",
    "dim_corrected_model[(0)].weight = model[(0)].weight\n",
    "dim_corrected_model[(2)].weight = model[(2)].weight\n",
    "dim_corrected_model[(4)].weight = model[(4)].weight\n",
    "dim_corrected_model[(6)].weight = model[(6)].weight\n",
    "dim_corrected_model[(8)].weight = model[(8)].weight"
   ]
  },
  {
   "cell_type": "code",
   "execution_count": 81,
   "metadata": {
    "collapsed": false
   },
   "outputs": [
    {
     "data": {
      "text/plain": [
       "Variable containing:\n",
       " 1810.0347\n",
       "[torch.FloatTensor of size 1]"
      ]
     },
     "execution_count": 81,
     "metadata": {},
     "output_type": "execute_result"
    }
   ],
   "source": [
    "# Get the validation set predictions\n",
    "y_valid_pred = dim_corrected_model(valid_predictors_Variable)\n",
    "\n",
    "\n",
    "# Print the loss\n",
    "loss_fn(y_valid_pred,\n",
    "        valid_outcomes_Variable)"
   ]
  },
  {
   "cell_type": "code",
   "execution_count": 82,
   "metadata": {
    "collapsed": true
   },
   "outputs": [],
   "source": [
    "# Get rid of the 2nd dimension of 1 from the FloatTensor\n",
    "y_valid_pred_resized = y_valid_pred.resize(2730)\n",
    "\n",
    "\n",
    "# Make the FloatTensor into a numpy.array\n",
    "y_valid_pred_array = y_valid_pred_resized.data.numpy()\n",
    "\n",
    "\n",
    "# Make the numpy.array into a list\n",
    "y_valid_pred_list = y_valid_pred_array.tolist()"
   ]
  },
  {
   "cell_type": "code",
   "execution_count": 83,
   "metadata": {
    "collapsed": false
   },
   "outputs": [
    {
     "data": {
      "text/plain": [
       "[<matplotlib.lines.Line2D at 0x7f777036c668>]"
      ]
     },
     "execution_count": 83,
     "metadata": {},
     "output_type": "execute_result"
    },
    {
     "data": {
      "image/png": "[encoded data removed]",
      "text/plain": [
       "<matplotlib.figure.Figure at 0x7f777036ca20>"
      ]
     },
     "metadata": {},
     "output_type": "display_data"
    }
   ],
   "source": [
    "# Plot new predictions versus new data outcomes\n",
    "plt.scatter(valid_outcomes_list, y_valid_pred_list)\n",
    "\n",
    "axes = plt.gca()\n",
    "\n",
    "axes.set_xlim([-2, 4])\n",
    "\n",
    "axes.set_ylim([-2, 4])\n",
    "\n",
    "plt.plot([-2, 4], [-2, 4], 'k-', lw=2)"
   ]
  },
  {
   "cell_type": "markdown",
   "metadata": {},
   "source": [
    "### Round 4.2: Test Set Performance"
   ]
  },
  {
   "cell_type": "code",
   "execution_count": 84,
   "metadata": {
    "collapsed": true
   },
   "outputs": [],
   "source": [
    "# Have to make a new model and give it the train_model parameters to fix structure problem\n",
    "dim_corrected_model_2 = torch.nn.Sequential(torch.nn.Linear(22, 15),\n",
    "                                            torch.nn.ReLU(),\n",
    "                                            torch.nn.Linear(15, 10),\n",
    "                                            torch.nn.ReLU(),\n",
    "                                            torch.nn.Linear(10, 7),\n",
    "                                            torch.nn.ReLU(),\n",
    "                                            torch.nn.Linear(7, 5),\n",
    "                                            torch.nn.ReLU(),\n",
    "                                            torch.nn.Linear(5, 1))\n",
    "\n",
    "\n",
    "# Give the new model the old model's parameters\n",
    "dim_corrected_model_2[(0)].weight = model[(0)].weight\n",
    "dim_corrected_model_2[(2)].weight = model[(2)].weight\n",
    "dim_corrected_model_2[(4)].weight = model[(4)].weight\n",
    "dim_corrected_model_2[(6)].weight = model[(6)].weight\n",
    "dim_corrected_model_2[(8)].weight = model[(8)].weight"
   ]
  },
  {
   "cell_type": "code",
   "execution_count": 85,
   "metadata": {
    "collapsed": false
   },
   "outputs": [
    {
     "data": {
      "text/plain": [
       "Variable containing:\n",
       " 578.6070\n",
       "[torch.FloatTensor of size 1]"
      ]
     },
     "execution_count": 85,
     "metadata": {},
     "output_type": "execute_result"
    }
   ],
   "source": [
    "# Get the validation set predictions\n",
    "y_test_pred = dim_corrected_model_2(test_predictors_Variable)\n",
    "\n",
    "\n",
    "# Print the loss\n",
    "loss_fn(y_test_pred,\n",
    "        test_outcomes_Variable)"
   ]
  },
  {
   "cell_type": "code",
   "execution_count": 86,
   "metadata": {
    "collapsed": true
   },
   "outputs": [],
   "source": [
    "# Get rid of the 2nd dimension of 1 from the FloatTensor\n",
    "y_test_pred_resized = y_test_pred.resize(2724)\n",
    "\n",
    "\n",
    "# Make the FloatTensor into a numpy.array\n",
    "y_test_pred_array = y_test_pred_resized.data.numpy()\n",
    "\n",
    "\n",
    "# Convert back to native units and scale\n",
    "y_test_pred_array = y_test_pred_array*5.735285 + 6.490682\n",
    "\n",
    "\n",
    "# Make the numpy.array into a list\n",
    "y_test_pred_list = y_test_pred_array.tolist()"
   ]
  },
  {
   "cell_type": "code",
   "execution_count": 87,
   "metadata": {
    "collapsed": false
   },
   "outputs": [
    {
     "data": {
      "text/plain": [
       "<matplotlib.text.Text at 0x7f7761ffa2e8>"
      ]
     },
     "execution_count": 87,
     "metadata": {},
     "output_type": "execute_result"
    },
    {
     "data": {
      "image/png": "[encoded data removed]",
      "text/plain": [
       "<matplotlib.figure.Figure at 0x7f77703189b0>"
      ]
     },
     "metadata": {},
     "output_type": "display_data"
    }
   ],
   "source": [
    "# Plot new predictions versus new data outcomes\n",
    "\n",
    "plt.scatter(test_outcomes_list, y_test_pred_list)\n",
    "\n",
    "axes = plt.gca()\n",
    "\n",
    "axes.set_xlim([2, 23])\n",
    "\n",
    "axes.set_ylim([2, 23])\n",
    "\n",
    "axes.set_xticks([2, 5, 8, 11, 14, 17, 20, 23])\n",
    "\n",
    "axes.set_yticks([2, 5, 8, 11, 14, 17, 20, 23])\n",
    "\n",
    "plt.plot([2, 23], [2, 23], 'k-', lw=2)\n",
    "\n",
    "axes.set_xlabel(\"Actual Outcome (Log-Transformed US Dollars)\")\n",
    "\n",
    "axes.set_ylabel(\"Model Prediction (Log-Transformed US Dollars)\")\n",
    "\n",
    "axes.set_title(\"Model Performance\")"
   ]
  },
  {
   "cell_type": "code",
   "execution_count": 88,
   "metadata": {
    "collapsed": false
   },
   "outputs": [
    {
     "data": {
      "text/plain": [
       "Parameter containing:\n",
       "\n",
       "Columns 0 to 9 \n",
       "-0.1931  0.0495  0.1514 -0.1821 -0.2352  0.0213  0.0641  0.1345 -0.0184 -0.0592\n",
       " 0.0917  0.0162  0.1583  0.1127 -0.0620  0.0401 -0.1424 -0.2006 -0.1880  0.0194\n",
       " 0.0622  0.4268  0.1038  0.1597  0.1220 -0.2334 -0.0573 -0.0454  0.1115 -0.1835\n",
       " 0.3746 -0.2044 -0.0619 -0.0528  0.2238  0.0737 -0.0062  0.0934 -0.0425  0.0251\n",
       " 0.0024 -0.0946  0.0840 -0.2046  0.0298 -0.0885 -0.1545 -0.1071 -0.2181  0.1261\n",
       " 0.1677  0.0857 -0.2047  0.0221 -0.0526 -0.2985  0.0590 -0.1784 -0.0037  0.0245\n",
       "-0.0710 -0.1338  0.0784  0.3412  0.4313 -0.0888  0.0669  0.0265  0.1579  0.1188\n",
       " 0.0171 -0.1430  0.1004  0.2313 -0.1313  0.1224  0.0076  0.2730  0.1178 -0.1980\n",
       " 0.0034  0.1642 -0.1646 -0.1309 -0.2232  0.0642  0.0591 -0.0636 -0.0316 -0.1815\n",
       "-0.0741 -0.2284  0.1820 -0.0754  0.2662 -0.1820 -0.0899 -0.0397  0.1717  0.1170\n",
       "-0.0350 -0.0243 -0.0730 -0.0868  0.2026  0.3224  0.0160 -0.0979  0.0295 -0.1032\n",
       "-0.3096  0.0162  0.0659 -0.0610 -0.3844 -0.0788 -0.1250  0.0346  0.0821 -0.0169\n",
       " 0.0304 -0.3312  0.1801  0.1261  0.0707 -0.0638 -0.1395  0.0002  0.1051 -0.1363\n",
       " 0.1876  0.2657 -0.1666  0.0992  0.1729 -0.0497 -0.0450 -0.0532  0.0439  0.1468\n",
       "-0.1915  0.0844 -0.0315  0.0853  0.2144 -0.0166  0.2624 -0.1515 -0.0029 -0.1126\n",
       "\n",
       "Columns 10 to 19 \n",
       "-0.0059 -0.0657 -0.1555  0.1574  0.2111  0.0839  0.0802  0.0488  0.0063 -0.0682\n",
       "-0.2736  0.0766 -0.1517  0.0316  0.1616 -0.1118  0.1978  0.1003 -0.1789  0.1156\n",
       " 0.0972  0.2522  0.0010 -0.1594  0.1236  0.1126 -0.0893  0.0736  0.0353 -0.0613\n",
       " 0.0256  0.1313  0.0224  0.0277 -0.2447 -0.0722  0.0001 -0.0152 -0.0156 -0.0073\n",
       "-0.0139 -0.1027  0.0410 -0.2220 -0.1163  0.1645  0.0681 -0.2020 -0.2581 -0.1268\n",
       " 0.1761  0.1014 -0.0611  0.0473  0.0855  0.1592 -0.1056  0.1080  0.0434 -0.0290\n",
       " 0.1972 -0.0410  0.0072 -0.0055  0.1628  0.0167  0.1253 -0.1148 -0.1388  0.1155\n",
       " 0.1024 -0.1524 -0.1058  0.0682 -0.1500 -0.1650 -0.0861 -0.1543  0.1766 -0.0477\n",
       "-0.0250 -0.0511 -0.1723  0.1467  0.0786  0.0138  0.0383 -0.1280 -0.0882 -0.1713\n",
       " 0.1761  0.0225  0.1827  0.1729 -0.1716 -0.1992  0.1637  0.1233 -0.1717  0.1916\n",
       " 0.0907  0.0129 -0.2201 -0.0643  0.0258  0.1236  0.0189 -0.1483  0.0016  0.1944\n",
       "-0.0688  0.2060 -0.0860  0.0812 -0.1187  0.0183  0.0430 -0.0677  0.1872  0.2024\n",
       " 0.0170 -0.0468 -0.1920 -0.0144  0.0590  0.0920  0.0308  0.0859  0.2272 -0.0643\n",
       " 0.1800 -0.1100  0.0990 -0.0063 -0.1398 -0.0055 -0.2263  0.0439  0.0039  0.0141\n",
       " 0.0247 -0.1389 -0.1943  0.0230 -0.0003  0.0965  0.0090  0.0713  0.1450  0.0415\n",
       "\n",
       "Columns 20 to 21 \n",
       "-0.0500  0.1345\n",
       "-0.1750  0.1951\n",
       " 0.0079 -0.1111\n",
       " 0.0152 -0.0243\n",
       "-0.2860 -0.1283\n",
       "-0.1262 -0.2527\n",
       "-0.1177 -0.0711\n",
       "-0.0054 -0.1339\n",
       " 0.0324  0.0288\n",
       " 0.0011 -0.0436\n",
       "-0.0970 -0.1036\n",
       " 0.1303  0.1506\n",
       " 0.0467  0.0210\n",
       "-0.0287 -0.0453\n",
       " 0.1416  0.0187\n",
       "[torch.FloatTensor of size 15x22]"
      ]
     },
     "execution_count": 88,
     "metadata": {},
     "output_type": "execute_result"
    }
   ],
   "source": [
    "dim_corrected_model_2[(0)].weight"
   ]
  },
  {
   "cell_type": "code",
   "execution_count": 89,
   "metadata": {
    "collapsed": false
   },
   "outputs": [
    {
     "data": {
      "text/plain": [
       "Parameter containing:\n",
       "\n",
       "Columns 0 to 9 \n",
       "-0.1397 -0.1422 -0.0928 -0.0772 -0.1375 -0.1916  0.2143 -0.1449  0.2482 -0.2534\n",
       "-0.0931  0.0464  0.1283 -0.0698 -0.1040 -0.0402  0.2378 -0.2348 -0.1023 -0.1411\n",
       " 0.2202 -0.0662 -0.2364  0.1268 -0.2045  0.0037  0.0635 -0.1034  0.0538 -0.2518\n",
       " 0.2012  0.2284 -0.2562  0.0956 -0.0422  0.0501 -0.1514 -0.2118  0.0329 -0.2101\n",
       " 0.2573 -0.0207  0.1336 -0.2580 -0.0990  0.2434  0.0332 -0.0430  0.1826 -0.2842\n",
       "-0.0124  0.0607 -0.1602 -0.1656  0.1488  0.2653  0.2003  0.0568 -0.1380  0.0399\n",
       " 0.0657  0.1935  0.1917  0.0728  0.0233 -0.3351  0.2824 -0.2347 -0.2223 -0.0565\n",
       "-0.1885 -0.2294 -0.1861  0.2607 -0.2717  0.0965  0.3162  0.2307 -0.2216  0.0336\n",
       "-0.1477  0.1354 -0.2024  0.1567 -0.2693 -0.1325  0.2638  0.1132 -0.1024  0.0776\n",
       "-0.0567 -0.0066  0.2242  0.2374  0.0309  0.1696  0.3322 -0.1466  0.2050 -0.1320\n",
       "\n",
       "Columns 10 to 14 \n",
       " 0.0178  0.2026  0.0179 -0.1085  0.1862\n",
       "-0.1320  0.2856  0.2445 -0.0221  0.0107\n",
       " 0.0474 -0.1614  0.2166 -0.1164 -0.1175\n",
       "-0.1283  0.1123 -0.1026 -0.0114 -0.1262\n",
       "-0.0355  0.2033  0.0245  0.0716  0.1335\n",
       " 0.1142  0.0872 -0.2583 -0.0068 -0.3161\n",
       "-0.2727  0.0220 -0.0474  0.2477  0.1739\n",
       "-0.1115 -0.1559  0.1133  0.2616 -0.0950\n",
       "-0.2091  0.1565 -0.0589  0.0727 -0.0411\n",
       "-0.0539 -0.0553  0.1751  0.1123 -0.0652\n",
       "[torch.FloatTensor of size 10x15]"
      ]
     },
     "execution_count": 89,
     "metadata": {},
     "output_type": "execute_result"
    }
   ],
   "source": [
    "dim_corrected_model_2[(2)].weight"
   ]
  },
  {
   "cell_type": "code",
   "execution_count": 90,
   "metadata": {
    "collapsed": false
   },
   "outputs": [
    {
     "data": {
      "text/plain": [
       "Parameter containing:\n",
       " 0.0536  0.2289  0.3004  0.3115  0.1997 -0.1744  0.0346 -0.0682  0.0847 -0.1213\n",
       " 0.2669  0.1598 -0.3080 -0.0767  0.1723  0.4167 -0.3135  0.1635 -0.2014  0.0010\n",
       " 0.2786 -0.0515  0.0342  0.0301 -0.0086 -0.1718 -0.2083 -0.1704  0.0690 -0.0622\n",
       "-0.0578  0.3534 -0.0496 -0.3820 -0.0052 -0.4066  0.3215  0.2907  0.1814  0.4707\n",
       " 0.1280 -0.0521  0.0009  0.1617  0.0311  0.0060  0.2285  0.2784 -0.0854 -0.2370\n",
       " 0.1548 -0.0078 -0.1416  0.1643 -0.2729  0.1246 -0.0561 -0.0145  0.2738  0.1197\n",
       " 0.2181 -0.0397 -0.0631 -0.1529 -0.2349  0.1842  0.2728 -0.2020 -0.1391 -0.1110\n",
       "[torch.FloatTensor of size 7x10]"
      ]
     },
     "execution_count": 90,
     "metadata": {},
     "output_type": "execute_result"
    }
   ],
   "source": [
    "dim_corrected_model_2[(4)].weight"
   ]
  },
  {
   "cell_type": "code",
   "execution_count": 91,
   "metadata": {
    "collapsed": false
   },
   "outputs": [
    {
     "data": {
      "text/plain": [
       "Parameter containing:\n",
       "-0.1774 -0.4416  0.0619  0.5950  0.0045  0.1005  0.1842\n",
       "-0.1368  0.0705 -0.2776 -0.3312 -0.3016  0.0976  0.0128\n",
       " 0.2663  0.1084  0.0379 -0.1117 -0.2158 -0.2320  0.2185\n",
       "-0.0360  0.3693 -0.2174 -0.0674 -0.2770  0.0899 -0.1969\n",
       "-0.0927 -0.2880 -0.3316  0.5725  0.1250  0.0155 -0.0098\n",
       "[torch.FloatTensor of size 5x7]"
      ]
     },
     "execution_count": 91,
     "metadata": {},
     "output_type": "execute_result"
    }
   ],
   "source": [
    "dim_corrected_model_2[(6)].weight"
   ]
  },
  {
   "cell_type": "code",
   "execution_count": 92,
   "metadata": {
    "collapsed": false
   },
   "outputs": [
    {
     "data": {
      "text/plain": [
       "Parameter containing:\n",
       " 0.6532 -0.0643 -0.2016 -0.1726  0.6220\n",
       "[torch.FloatTensor of size 1x5]"
      ]
     },
     "execution_count": 92,
     "metadata": {},
     "output_type": "execute_result"
    }
   ],
   "source": [
    "dim_corrected_model_2[(8)].weight"
   ]
  },
  {
   "cell_type": "markdown",
   "metadata": {},
   "source": [
    "## Round 5: Five-Hidden-Layer Neural Network"
   ]
  },
  {
   "cell_type": "code",
   "execution_count": 93,
   "metadata": {
    "collapsed": true
   },
   "outputs": [],
   "source": [
    "# Make the torch Tensor into a PyTorch Variable for dependent variables\n",
    "outcomes_Variable = Variable(outcomes_Tensor)\n",
    "\n",
    "\n",
    "# ...for independent variables\n",
    "features_Variable = Variable(features_Tensor,\n",
    "                             requires_grad = False)"
   ]
  },
  {
   "cell_type": "code",
   "execution_count": 94,
   "metadata": {
    "collapsed": true
   },
   "outputs": [],
   "source": [
    "# Make the neural network\n",
    "model = torch.nn.Sequential(torch.nn.Linear(22, 15),\n",
    "                            torch.nn.ReLU(),\n",
    "                            torch.nn.Linear(15, 10),\n",
    "                            torch.nn.ReLU(),\n",
    "                            torch.nn.Linear(10, 7),\n",
    "                            torch.nn.ReLU(),\n",
    "                            torch.nn.Linear(7, 5),\n",
    "                            torch.nn.ReLU(),\n",
    "                            torch.nn.Linear(5, 3),\n",
    "                            torch.nn.ReLU(),\n",
    "                            torch.nn.Linear(3, 1))"
   ]
  },
  {
   "cell_type": "code",
   "execution_count": 95,
   "metadata": {
    "collapsed": true
   },
   "outputs": [],
   "source": [
    "# To add errors to\n",
    "errors = []\n",
    "\n",
    "\n",
    "# Set the learning rate\n",
    "learning_rate = 5e-6\n",
    "\n",
    "\n",
    "# Train the neural network\n",
    "for t in range(10000):\n",
    "    \n",
    "    # Get the current predictions\n",
    "    y_pred = model(features_Variable)\n",
    "    \n",
    "    # Compute and append current summed errors\n",
    "    loss = loss_fn(y_pred, outcomes_Variable)\n",
    "    errors.append(loss.data[0])\n",
    "    \n",
    "    # Zero the gradients before running the backward pass.\n",
    "    model.zero_grad()\n",
    "    \n",
    "    # Backward pass: compute gradient of the loss with respect to all the learnable Variables\n",
    "    loss.backward()\n",
    "    \n",
    "    # Update the weights using gradient descent\n",
    "    for param in model.parameters():\n",
    "        param.data -= learning_rate * param.grad.data"
   ]
  },
  {
   "cell_type": "code",
   "execution_count": 96,
   "metadata": {
    "collapsed": false
   },
   "outputs": [
    {
     "data": {
      "text/plain": [
       "<matplotlib.collections.PathCollection at 0x7f7761f36e48>"
      ]
     },
     "execution_count": 96,
     "metadata": {},
     "output_type": "execute_result"
    },
    {
     "data": {
      "image/png": "[encoded data removed]",
      "text/plain": [
       "<matplotlib.figure.Figure at 0x7f77701eb9e8>"
      ]
     },
     "metadata": {},
     "output_type": "display_data"
    }
   ],
   "source": [
    "# Plot summed error as a function of iteration\n",
    "plt.scatter(iterations, errors)"
   ]
  },
  {
   "cell_type": "code",
   "execution_count": 97,
   "metadata": {
    "collapsed": true
   },
   "outputs": [],
   "source": [
    "# Get rid of the 2nd dimension of 1 from the FloatTensor\n",
    "y_pred_resized = y_pred.resize(8237)\n",
    "\n",
    "\n",
    "# Make the FloatTensor into a numpy.array\n",
    "y_pred_array = y_pred_resized.data.numpy()\n",
    "\n",
    "\n",
    "# Make the numpy.array into a list\n",
    "y_pred_list = y_pred_array.tolist()"
   ]
  },
  {
   "cell_type": "code",
   "execution_count": 98,
   "metadata": {
    "collapsed": false
   },
   "outputs": [
    {
     "data": {
      "text/plain": [
       "[<matplotlib.lines.Line2D at 0x7f777003d208>]"
      ]
     },
     "execution_count": 98,
     "metadata": {},
     "output_type": "execute_result"
    },
    {
     "data": {
      "image/png": "[encoded data removed]",
      "text/plain": [
       "<matplotlib.figure.Figure at 0x7f777004a3c8>"
      ]
     },
     "metadata": {},
     "output_type": "display_data"
    }
   ],
   "source": [
    "# Plot predictions versus training set outcomes\n",
    "plt.scatter(outcomes_list, y_pred_list)\n",
    "\n",
    "axes = plt.gca()\n",
    "\n",
    "axes.set_xlim([-2, 4])\n",
    "\n",
    "axes.set_ylim([-2, 4])\n",
    "\n",
    "plt.plot([-2, 4], [-2, 4], 'k-', lw=2)"
   ]
  },
  {
   "cell_type": "markdown",
   "metadata": {},
   "source": [
    "### Round 5.1: Validation Set Performance"
   ]
  },
  {
   "cell_type": "code",
   "execution_count": 99,
   "metadata": {
    "collapsed": true
   },
   "outputs": [],
   "source": [
    "# Have to make a new model and give it the train_model parameters to fix structure problem\n",
    "dim_corrected_model = torch.nn.Sequential(torch.nn.Linear(22, 15),\n",
    "                                          torch.nn.ReLU(),\n",
    "                                          torch.nn.Linear(15, 10),\n",
    "                                          torch.nn.ReLU(),\n",
    "                                          torch.nn.Linear(10, 7),\n",
    "                                          torch.nn.ReLU(),\n",
    "                                          torch.nn.Linear(7, 5),\n",
    "                                          torch.nn.ReLU(),\n",
    "                                          torch.nn.Linear(5, 3),\n",
    "                                          torch.nn.ReLU(),\n",
    "                                          torch.nn.Linear(3, 1))\n",
    "\n",
    "\n",
    "# Give the new model the old model's parameters\n",
    "dim_corrected_model[(0)].weight = model[(0)].weight\n",
    "dim_corrected_model[(2)].weight = model[(2)].weight\n",
    "dim_corrected_model[(4)].weight = model[(4)].weight\n",
    "dim_corrected_model[(6)].weight = model[(6)].weight\n",
    "dim_corrected_model[(8)].weight = model[(8)].weight\n",
    "dim_corrected_model[(10)].weight = model[(10)].weight"
   ]
  },
  {
   "cell_type": "code",
   "execution_count": 100,
   "metadata": {
    "collapsed": false
   },
   "outputs": [
    {
     "data": {
      "text/plain": [
       "Variable containing:\n",
       " 520.4734\n",
       "[torch.FloatTensor of size 1]"
      ]
     },
     "execution_count": 100,
     "metadata": {},
     "output_type": "execute_result"
    }
   ],
   "source": [
    "# Get the validation set predictions\n",
    "y_valid_pred = dim_corrected_model(valid_predictors_Variable)\n",
    "\n",
    "\n",
    "# Print the loss\n",
    "loss_fn(y_valid_pred,\n",
    "        valid_outcomes_Variable)"
   ]
  },
  {
   "cell_type": "code",
   "execution_count": 101,
   "metadata": {
    "collapsed": false
   },
   "outputs": [],
   "source": [
    "# Get rid of the 2nd dimension of 1 from the FloatTensor\n",
    "y_valid_pred_resized = y_valid_pred.resize(2730)\n",
    "\n",
    "\n",
    "# Make the FloatTensor into a numpy.array\n",
    "y_valid_pred_array = y_valid_pred_resized.data.numpy()\n",
    "\n",
    "\n",
    "# Make the numpy.array into a list\n",
    "y_valid_pred_list = y_valid_pred_array.tolist()"
   ]
  },
  {
   "cell_type": "code",
   "execution_count": 102,
   "metadata": {
    "collapsed": false
   },
   "outputs": [
    {
     "data": {
      "text/plain": [
       "[<matplotlib.lines.Line2D at 0x7f7770417550>]"
      ]
     },
     "execution_count": 102,
     "metadata": {},
     "output_type": "execute_result"
    },
    {
     "data": {
      "image/png": "[encoded data removed]",
      "text/plain": [
       "<matplotlib.figure.Figure at 0x7f7770417f28>"
      ]
     },
     "metadata": {},
     "output_type": "display_data"
    }
   ],
   "source": [
    "# Plot new predictions versus new data outcomes\n",
    "plt.scatter(valid_outcomes_list, y_valid_pred_list)\n",
    "\n",
    "axes = plt.gca()\n",
    "\n",
    "axes.set_xlim([-2, 4])\n",
    "\n",
    "axes.set_ylim([-2, 4])\n",
    "\n",
    "plt.plot([-2, 4], [-2, 4], 'k-', lw=2)"
   ]
  },
  {
   "cell_type": "markdown",
   "metadata": {},
   "source": [
    "### Round 5.2: Test Set Performance"
   ]
  },
  {
   "cell_type": "code",
   "execution_count": 103,
   "metadata": {
    "collapsed": true
   },
   "outputs": [],
   "source": [
    "# Have to make a new model and give it the train_model parameters to fix structure problem\n",
    "dim_corrected_model_2 = torch.nn.Sequential(torch.nn.Linear(22, 15),\n",
    "                                            torch.nn.ReLU(),\n",
    "                                            torch.nn.Linear(15, 10),\n",
    "                                            torch.nn.ReLU(),\n",
    "                                            torch.nn.Linear(10, 7),\n",
    "                                            torch.nn.ReLU(),\n",
    "                                            torch.nn.Linear(7, 5),\n",
    "                                            torch.nn.ReLU(),\n",
    "                                            torch.nn.Linear(5, 3),\n",
    "                                            torch.nn.ReLU(),\n",
    "                                            torch.nn.Linear(3, 1))\n",
    "\n",
    "\n",
    "# Give the new model the old model's parameters\n",
    "dim_corrected_model_2[(0)].weight = model[(0)].weight\n",
    "dim_corrected_model_2[(2)].weight = model[(2)].weight\n",
    "dim_corrected_model_2[(4)].weight = model[(4)].weight\n",
    "dim_corrected_model_2[(6)].weight = model[(6)].weight\n",
    "dim_corrected_model_2[(8)].weight = model[(8)].weight\n",
    "dim_corrected_model_2[(10)].weight = model[(10)].weight"
   ]
  },
  {
   "cell_type": "code",
   "execution_count": 104,
   "metadata": {
    "collapsed": false
   },
   "outputs": [
    {
     "data": {
      "text/plain": [
       "Variable containing:\n",
       " 1139.5773\n",
       "[torch.FloatTensor of size 1]"
      ]
     },
     "execution_count": 104,
     "metadata": {},
     "output_type": "execute_result"
    }
   ],
   "source": [
    "# Get the validation set predictions\n",
    "y_test_pred = dim_corrected_model_2(test_predictors_Variable)\n",
    "\n",
    "\n",
    "# Print the loss\n",
    "loss_fn(y_test_pred,\n",
    "        test_outcomes_Variable)"
   ]
  },
  {
   "cell_type": "code",
   "execution_count": 105,
   "metadata": {
    "collapsed": true
   },
   "outputs": [],
   "source": [
    "# Get rid of the 2nd dimension of 1 from the FloatTensor\n",
    "y_test_pred_resized = y_test_pred.resize(2724)\n",
    "\n",
    "\n",
    "# Make the FloatTensor into a numpy.array\n",
    "y_test_pred_array = y_test_pred_resized.data.numpy()\n",
    "\n",
    "\n",
    "# Convert back to native units and scale\n",
    "y_test_pred_array = y_test_pred_array*5.735285 + 6.490682\n",
    "\n",
    "\n",
    "# Make the numpy.array into a list\n",
    "y_test_pred_list = y_test_pred_array.tolist()"
   ]
  },
  {
   "cell_type": "code",
   "execution_count": 106,
   "metadata": {
    "collapsed": false
   },
   "outputs": [
    {
     "data": {
      "text/plain": [
       "<matplotlib.text.Text at 0x7f7761dba8d0>"
      ]
     },
     "execution_count": 106,
     "metadata": {},
     "output_type": "execute_result"
    },
    {
     "data": {
      "image/png": "[encoded data removed]",
      "text/plain": [
       "<matplotlib.figure.Figure at 0x7f777012e390>"
      ]
     },
     "metadata": {},
     "output_type": "display_data"
    }
   ],
   "source": [
    "# Plot new predictions versus new data outcomes\n",
    "\n",
    "plt.scatter(test_outcomes_list, y_test_pred_list)\n",
    "\n",
    "axes = plt.gca()\n",
    "\n",
    "axes.set_xlim([2, 23])\n",
    "\n",
    "axes.set_ylim([2, 23])\n",
    "\n",
    "axes.set_xticks([2, 5, 8, 11, 14, 17, 20, 23])\n",
    "\n",
    "axes.set_yticks([2, 5, 8, 11, 14, 17, 20, 23])\n",
    "\n",
    "plt.plot([2, 23], [2, 23], 'k-', lw=2)\n",
    "\n",
    "axes.set_xlabel(\"Actual Outcome (Log-Transformed US Dollars)\")\n",
    "\n",
    "axes.set_ylabel(\"Model Prediction (Log-Transformed US Dollars)\")\n",
    "\n",
    "axes.set_title(\"Model Performance\")"
   ]
  },
  {
   "cell_type": "code",
   "execution_count": 107,
   "metadata": {
    "collapsed": false
   },
   "outputs": [
    {
     "data": {
      "text/plain": [
       "Parameter containing:\n",
       "\n",
       "Columns 0 to 9 \n",
       "-0.1365  0.1721  0.1073  0.2454 -0.1239  0.0506 -0.1377 -0.0370 -0.0340 -0.0115\n",
       " 0.1840 -0.0609  0.1730  0.1832  0.0878 -0.0131  0.1283 -0.0059 -0.1195 -0.1442\n",
       "-0.2353  0.0058  0.2457  0.0986  0.1895 -0.1010  0.2440 -0.1055  0.0324  0.0486\n",
       "-0.0120 -0.0952  0.1080  0.1294  0.0390  0.1486 -0.0355  0.0186  0.1173 -0.0968\n",
       "-0.0151 -0.1204  0.1391  0.2013  0.3087 -0.1647 -0.0723  0.1394 -0.0220  0.0811\n",
       " 0.1962 -0.1098 -0.1210 -0.1179  0.0007  0.0606  0.0298 -0.1430 -0.1094 -0.0263\n",
       "-0.0054 -0.0273 -0.1277  0.1875  0.0651 -0.0026 -0.0776  0.0585  0.1931 -0.0071\n",
       " 0.1641  0.4426 -0.0220  0.1059  0.1505 -0.0252  0.0725 -0.0052  0.0854 -0.0858\n",
       "-0.1001  0.0243  0.0940 -0.1774 -0.0436  0.1218 -0.0756  0.2211 -0.1537 -0.0184\n",
       "-0.0272 -0.0140 -0.1876 -0.1704 -0.2431 -0.1908  0.1706 -0.1218 -0.0835  0.1454\n",
       " 0.1610 -0.0523  0.2784  0.2198  0.0636  0.0465 -0.2049 -0.0486 -0.0408 -0.0775\n",
       "-0.0039  0.2150  0.0390 -0.0567 -0.0199 -0.0130  0.0092  0.0913 -0.0615  0.1724\n",
       "-0.0769 -0.0202 -0.0346  0.2562 -0.0248 -0.1909 -0.2210  0.0314  0.2129  0.2000\n",
       " 0.2011 -0.2024 -0.0949  0.0126  0.2007  0.1269  0.0025  0.1095  0.1708  0.1493\n",
       " 0.1346  0.1914  0.1289  0.1204 -0.2070 -0.1710 -0.1026  0.1836 -0.0974  0.1694\n",
       "\n",
       "Columns 10 to 19 \n",
       " 0.0000 -0.1056  0.1467 -0.1382 -0.1234 -0.0060  0.1235 -0.1240 -0.0258 -0.0272\n",
       " 0.1725 -0.0668  0.1944  0.0892 -0.1052  0.0149  0.1008 -0.1564 -0.2138 -0.0207\n",
       "-0.1212 -0.0508 -0.0558  0.1339 -0.0712 -0.1489 -0.1119  0.1116 -0.1256  0.1664\n",
       "-0.2003 -0.1220 -0.0728 -0.1812 -0.0221 -0.1873  0.0356 -0.1894  0.0845 -0.0201\n",
       " 0.1049 -0.0813  0.1121 -0.1719  0.0438 -0.1497  0.0797  0.1154  0.1549  0.0283\n",
       " 0.0714 -0.0447 -0.0322  0.0807  0.1790  0.0842  0.2266  0.0974  0.0047 -0.2401\n",
       " 0.0606 -0.2392  0.2804  0.1212  0.1315  0.0184  0.1525 -0.1381  0.1419 -0.1360\n",
       " 0.0384  0.1589 -0.0108 -0.1765 -0.0109  0.0661 -0.0472 -0.0300 -0.0043 -0.0445\n",
       " 0.0699 -0.0167  0.0962  0.0066 -0.1693 -0.1283  0.0506 -0.0050  0.1103  0.0349\n",
       " 0.0588  0.1092  0.0346 -0.0143  0.1749 -0.0166 -0.1318  0.0520 -0.0232 -0.0170\n",
       "-0.2957  0.1337 -0.0467  0.2004 -0.1654 -0.0846 -0.0533  0.0972 -0.0966 -0.0211\n",
       "-0.1261  0.0551 -0.0212 -0.1604  0.1950 -0.0955 -0.0630 -0.1361 -0.0907 -0.0096\n",
       "-0.1326  0.0239  0.0359  0.0887 -0.2721 -0.1216 -0.1561  0.0675  0.0854  0.1702\n",
       " 0.0238  0.0106 -0.1320  0.2463 -0.1316  0.0163 -0.1615  0.0427 -0.0152 -0.0701\n",
       "-0.1463 -0.1395  0.1509  0.1483  0.0734 -0.2161 -0.0030  0.0731  0.1885 -0.0849\n",
       "\n",
       "Columns 20 to 21 \n",
       " 0.0658  0.1348\n",
       " 0.1211  0.0575\n",
       "-0.0047  0.1120\n",
       "-0.0209  0.1220\n",
       " 0.0889  0.0207\n",
       "-0.1642  0.1777\n",
       " 0.1390  0.1669\n",
       " 0.0477 -0.0346\n",
       " 0.1290  0.1185\n",
       "-0.1274 -0.0498\n",
       "-0.1217  0.0298\n",
       " 0.0013  0.0409\n",
       " 0.0018  0.0913\n",
       "-0.0654  0.0292\n",
       " 0.1144  0.0655\n",
       "[torch.FloatTensor of size 15x22]"
      ]
     },
     "execution_count": 107,
     "metadata": {},
     "output_type": "execute_result"
    }
   ],
   "source": [
    "dim_corrected_model_2[(0)].weight"
   ]
  },
  {
   "cell_type": "code",
   "execution_count": 108,
   "metadata": {
    "collapsed": false
   },
   "outputs": [
    {
     "data": {
      "text/plain": [
       "Parameter containing:\n",
       "\n",
       "Columns 0 to 9 \n",
       "-0.0034  0.0668 -0.1165  0.1315  0.1674  0.0521 -0.1783  0.0385 -0.0595  0.0201\n",
       "-0.1064  0.3807  0.0078  0.1398  0.3833  0.1098  0.2443  0.2602  0.1539  0.0384\n",
       " 0.1399 -0.0661  0.0934 -0.0034 -0.0015  0.2395  0.2674  0.0029  0.3316  0.2228\n",
       " 0.2575  0.0037  0.0354  0.0354 -0.1619 -0.2521  0.1982  0.1188 -0.2002  0.1601\n",
       " 0.1002 -0.1244  0.1429 -0.2954  0.2041  0.1649  0.2306  0.1642 -0.1791 -0.1548\n",
       " 0.2146  0.2592  0.2483  0.0346 -0.1572  0.1161 -0.2526 -0.2290 -0.1967 -0.0444\n",
       " 0.0050  0.1856  0.1639 -0.2134 -0.0448  0.1551 -0.1353  0.0043 -0.2295 -0.2411\n",
       "-0.0945  0.2143  0.2530 -0.0699 -0.1548 -0.2716  0.0695  0.1096 -0.2015 -0.0136\n",
       " 0.1132 -0.1821  0.2908 -0.1981  0.0358 -0.0366 -0.1731 -0.1378 -0.0278 -0.1187\n",
       "-0.1649 -0.1115  0.1078 -0.2313 -0.2636 -0.2278  0.1725  0.2235 -0.2300 -0.2234\n",
       "\n",
       "Columns 10 to 14 \n",
       " 0.0305 -0.1098 -0.0071  0.0404 -0.0952\n",
       " 0.3740  0.2008  0.1053 -0.0693 -0.1917\n",
       "-0.0897 -0.2062 -0.1279 -0.0096  0.1326\n",
       " 0.0930  0.0907 -0.0712 -0.2035  0.2667\n",
       "-0.0125  0.2103 -0.0688  0.2930 -0.0175\n",
       " 0.1384 -0.1000 -0.0107 -0.0862  0.2159\n",
       " 0.0030 -0.1443  0.0295 -0.1425  0.1531\n",
       "-0.1407 -0.0588  0.2573  0.0760 -0.2643\n",
       "-0.1771  0.1388 -0.2232 -0.0335  0.1724\n",
       "-0.2157 -0.1545 -0.2563 -0.0944 -0.0704\n",
       "[torch.FloatTensor of size 10x15]"
      ]
     },
     "execution_count": 108,
     "metadata": {},
     "output_type": "execute_result"
    }
   ],
   "source": [
    "dim_corrected_model_2[(2)].weight"
   ]
  },
  {
   "cell_type": "code",
   "execution_count": 109,
   "metadata": {
    "collapsed": false
   },
   "outputs": [
    {
     "data": {
      "text/plain": [
       "Parameter containing:\n",
       " 0.3048  0.0851 -0.2878  0.1524  0.4588  0.1651  0.0127  0.2046  0.1168  0.3376\n",
       " 0.1229 -0.2246  0.1190 -0.1867  0.2194 -0.0738  0.0004  0.2970  0.0300 -0.0656\n",
       "-0.0641  0.4398 -0.2142 -0.3573 -0.1299 -0.0822  0.1283  0.1382  0.2594  0.0513\n",
       "-0.1591 -0.0786 -0.0431 -0.2909  0.1961 -0.0260 -0.0735 -0.1401  0.2608 -0.2755\n",
       "-0.1978 -0.1131  0.1952 -0.0771 -0.0994  0.2731  0.1393 -0.2470  0.1484 -0.0617\n",
       "-0.2525  0.2899 -0.3373 -0.3457  0.3241 -0.3622 -0.2827  0.1412 -0.1112 -0.1158\n",
       "-0.1939  0.3304 -0.0512 -0.1488 -0.1770 -0.0952  0.0128 -0.3284 -0.2003  0.2302\n",
       "[torch.FloatTensor of size 7x10]"
      ]
     },
     "execution_count": 109,
     "metadata": {},
     "output_type": "execute_result"
    }
   ],
   "source": [
    "dim_corrected_model_2[(4)].weight"
   ]
  },
  {
   "cell_type": "code",
   "execution_count": 110,
   "metadata": {
    "collapsed": false
   },
   "outputs": [
    {
     "data": {
      "text/plain": [
       "Parameter containing:\n",
       " 0.4522 -0.1086  0.1229 -0.0584 -0.2079  0.3001  0.3314\n",
       "-0.2747  0.3143  0.0852 -0.2490  0.0577  0.1148  0.0507\n",
       " 0.5179  0.2151  0.0625 -0.3282  0.1852  0.3890  0.1325\n",
       "-0.3354  0.3059 -0.6109  0.0548 -0.3006 -0.2917  0.5164\n",
       " 0.2538  0.0586 -0.3187  0.0253 -0.2005  0.1920 -0.2202\n",
       "[torch.FloatTensor of size 5x7]"
      ]
     },
     "execution_count": 110,
     "metadata": {},
     "output_type": "execute_result"
    }
   ],
   "source": [
    "dim_corrected_model_2[(6)].weight"
   ]
  },
  {
   "cell_type": "code",
   "execution_count": 111,
   "metadata": {
    "collapsed": false
   },
   "outputs": [
    {
     "data": {
      "text/plain": [
       "Parameter containing:\n",
       " 0.3558  0.1803  0.4554 -0.4477  0.1535\n",
       " 0.0542 -0.0718 -0.4130  0.3480  0.1945\n",
       "-0.4652 -0.0590 -0.1459  0.7735 -0.0626\n",
       "[torch.FloatTensor of size 3x5]"
      ]
     },
     "execution_count": 111,
     "metadata": {},
     "output_type": "execute_result"
    }
   ],
   "source": [
    "dim_corrected_model_2[(8)].weight"
   ]
  },
  {
   "cell_type": "code",
   "execution_count": 112,
   "metadata": {
    "collapsed": false
   },
   "outputs": [
    {
     "data": {
      "text/plain": [
       "Parameter containing:\n",
       " 0.7014 -0.4325 -0.8755\n",
       "[torch.FloatTensor of size 1x3]"
      ]
     },
     "execution_count": 112,
     "metadata": {},
     "output_type": "execute_result"
    }
   ],
   "source": [
    "dim_corrected_model_2[(10)].weight"
   ]
  },
  {
   "cell_type": "markdown",
   "metadata": {},
   "source": [
    "## Round 6: Six-Hidden-Layer Neural Network"
   ]
  },
  {
   "cell_type": "code",
   "execution_count": 113,
   "metadata": {
    "collapsed": true
   },
   "outputs": [],
   "source": [
    "# Make the torch Tensor into a PyTorch Variable for dependent variables\n",
    "outcomes_Variable = Variable(outcomes_Tensor)\n",
    "\n",
    "\n",
    "# ...for independent variables\n",
    "features_Variable = Variable(features_Tensor,\n",
    "                             requires_grad = False)"
   ]
  },
  {
   "cell_type": "code",
   "execution_count": 114,
   "metadata": {
    "collapsed": true
   },
   "outputs": [],
   "source": [
    "# Make the neural network\n",
    "model = torch.nn.Sequential(torch.nn.Linear(22, 15),\n",
    "                            torch.nn.ReLU(),\n",
    "                            torch.nn.Linear(15, 10),\n",
    "                            torch.nn.ReLU(),\n",
    "                            torch.nn.Linear(10, 7),\n",
    "                            torch.nn.ReLU(),\n",
    "                            torch.nn.Linear(7, 5),\n",
    "                            torch.nn.ReLU(),\n",
    "                            torch.nn.Linear(5, 3),\n",
    "                            torch.nn.ReLU(),\n",
    "                            torch.nn.Linear(3, 2),\n",
    "                            torch.nn.ReLU(),\n",
    "                            torch.nn.Linear(2, 1))"
   ]
  },
  {
   "cell_type": "code",
   "execution_count": 115,
   "metadata": {
    "collapsed": true
   },
   "outputs": [],
   "source": [
    "# To add errors to\n",
    "errors = []\n",
    "\n",
    "\n",
    "# Set the learning rate\n",
    "learning_rate = 5e-6\n",
    "\n",
    "\n",
    "# Train the neural network\n",
    "for t in range(10000):\n",
    "    \n",
    "    # Get the current predictions\n",
    "    y_pred = model(features_Variable)\n",
    "    \n",
    "    # Compute and append current summed errors\n",
    "    loss = loss_fn(y_pred, outcomes_Variable)\n",
    "    errors.append(loss.data[0])\n",
    "    \n",
    "    # Zero the gradients before running the backward pass.\n",
    "    model.zero_grad()\n",
    "    \n",
    "    # Backward pass: compute gradient of the loss with respect to all the learnable Variables\n",
    "    loss.backward()\n",
    "    \n",
    "    # Update the weights using gradient descent\n",
    "    for param in model.parameters():\n",
    "        param.data -= learning_rate * param.grad.data"
   ]
  },
  {
   "cell_type": "code",
   "execution_count": 116,
   "metadata": {
    "collapsed": false
   },
   "outputs": [
    {
     "data": {
      "text/plain": [
       "<matplotlib.collections.PathCollection at 0x7f7761c813c8>"
      ]
     },
     "execution_count": 116,
     "metadata": {},
     "output_type": "execute_result"
    },
    {
     "data": {
      "image/png": "[encoded data removed]",
      "text/plain": [
       "<matplotlib.figure.Figure at 0x7f77702942e8>"
      ]
     },
     "metadata": {},
     "output_type": "display_data"
    }
   ],
   "source": [
    "# Plot summed error as a function of iteration\n",
    "plt.scatter(iterations, errors)"
   ]
  },
  {
   "cell_type": "code",
   "execution_count": 117,
   "metadata": {
    "collapsed": true
   },
   "outputs": [],
   "source": [
    "# Get rid of the 2nd dimension of 1 from the FloatTensor\n",
    "y_pred_resized = y_pred.resize(8237)\n",
    "\n",
    "\n",
    "# Make the FloatTensor into a numpy.array\n",
    "y_pred_array = y_pred_resized.data.numpy()\n",
    "\n",
    "\n",
    "# Make the numpy.array into a list\n",
    "y_pred_list = y_pred_array.tolist()"
   ]
  },
  {
   "cell_type": "code",
   "execution_count": 118,
   "metadata": {
    "collapsed": false
   },
   "outputs": [
    {
     "data": {
      "text/plain": [
       "[<matplotlib.lines.Line2D at 0x7f7761cc49e8>]"
      ]
     },
     "execution_count": 118,
     "metadata": {},
     "output_type": "execute_result"
    },
    {
     "data": {
      "image/png": "[encoded data removed]",
      "text/plain": [
       "<matplotlib.figure.Figure at 0x7f7761cc4898>"
      ]
     },
     "metadata": {},
     "output_type": "display_data"
    }
   ],
   "source": [
    "# Plot predictions versus training set outcomes\n",
    "plt.scatter(outcomes_list, y_pred_list)\n",
    "\n",
    "axes = plt.gca()\n",
    "\n",
    "axes.set_xlim([-2, 4])\n",
    "\n",
    "axes.set_ylim([-2, 4])\n",
    "\n",
    "plt.plot([-2, 4], [-2, 4], 'k-', lw=2)"
   ]
  },
  {
   "cell_type": "markdown",
   "metadata": {},
   "source": [
    "### Round 6.1: Validation Set Performance"
   ]
  },
  {
   "cell_type": "code",
   "execution_count": 119,
   "metadata": {
    "collapsed": true
   },
   "outputs": [],
   "source": [
    "# Have to make a new model and give it the train_model parameters to fix structure problem\n",
    "dim_corrected_model = torch.nn.Sequential(torch.nn.Linear(22, 15),\n",
    "                                          torch.nn.ReLU(),\n",
    "                                          torch.nn.Linear(15, 10),\n",
    "                                          torch.nn.ReLU(),\n",
    "                                          torch.nn.Linear(10, 7),\n",
    "                                          torch.nn.ReLU(),\n",
    "                                          torch.nn.Linear(7, 5),\n",
    "                                          torch.nn.ReLU(),\n",
    "                                          torch.nn.Linear(5, 3),\n",
    "                                          torch.nn.ReLU(),\n",
    "                                          torch.nn.Linear(3, 2),\n",
    "                                          torch.nn.ReLU(),\n",
    "                                          torch.nn.Linear(2, 1))\n",
    "\n",
    "\n",
    "# Give the new model the old model's parameters\n",
    "dim_corrected_model[(0)].weight = model[(0)].weight\n",
    "dim_corrected_model[(2)].weight = model[(2)].weight\n",
    "dim_corrected_model[(4)].weight = model[(4)].weight\n",
    "dim_corrected_model[(6)].weight = model[(6)].weight\n",
    "dim_corrected_model[(8)].weight = model[(8)].weight\n",
    "dim_corrected_model[(10)].weight = model[(10)].weight\n",
    "dim_corrected_model[(12)].weight = model[(12)].weight"
   ]
  },
  {
   "cell_type": "code",
   "execution_count": 120,
   "metadata": {
    "collapsed": false
   },
   "outputs": [
    {
     "data": {
      "text/plain": [
       "Variable containing:\n",
       " 6674.4258\n",
       "[torch.FloatTensor of size 1]"
      ]
     },
     "execution_count": 120,
     "metadata": {},
     "output_type": "execute_result"
    }
   ],
   "source": [
    "# Get the validation set predictions\n",
    "y_valid_pred = dim_corrected_model(valid_predictors_Variable)\n",
    "\n",
    "\n",
    "# Print the loss\n",
    "loss_fn(y_valid_pred,\n",
    "        valid_outcomes_Variable)"
   ]
  },
  {
   "cell_type": "code",
   "execution_count": 121,
   "metadata": {
    "collapsed": true
   },
   "outputs": [],
   "source": [
    "# Get rid of the 2nd dimension of 1 from the FloatTensor\n",
    "y_valid_pred_resized = y_valid_pred.resize(2730)\n",
    "\n",
    "\n",
    "# Make the FloatTensor into a numpy.array\n",
    "y_valid_pred_array = y_valid_pred_resized.data.numpy()\n",
    "\n",
    "\n",
    "# Make the numpy.array into a list\n",
    "y_valid_pred_list = y_valid_pred_array.tolist()"
   ]
  },
  {
   "cell_type": "code",
   "execution_count": 122,
   "metadata": {
    "collapsed": false
   },
   "outputs": [
    {
     "data": {
      "text/plain": [
       "[<matplotlib.lines.Line2D at 0x7f7761c44a58>]"
      ]
     },
     "execution_count": 122,
     "metadata": {},
     "output_type": "execute_result"
    },
    {
     "data": {
      "image/png": "[encoded data removed]",
      "text/plain": [
       "<matplotlib.figure.Figure at 0x7f7761c44978>"
      ]
     },
     "metadata": {},
     "output_type": "display_data"
    }
   ],
   "source": [
    "# Plot new predictions versus new data outcomes\n",
    "plt.scatter(valid_outcomes_list, y_valid_pred_list)\n",
    "\n",
    "axes = plt.gca()\n",
    "\n",
    "axes.set_xlim([-2, 4])\n",
    "\n",
    "axes.set_ylim([-2, 4])\n",
    "\n",
    "plt.plot([-2, 4], [-2, 4], 'k-', lw=2)"
   ]
  },
  {
   "cell_type": "markdown",
   "metadata": {},
   "source": [
    "### Round 6.2: Test Set Performance"
   ]
  },
  {
   "cell_type": "code",
   "execution_count": 123,
   "metadata": {
    "collapsed": true
   },
   "outputs": [],
   "source": [
    "# Have to make a new model and give it the train_model parameters to fix structure problem\n",
    "dim_corrected_model_2 = torch.nn.Sequential(torch.nn.Linear(22, 15),\n",
    "                                            torch.nn.ReLU(),\n",
    "                                            torch.nn.Linear(15, 10),\n",
    "                                            torch.nn.ReLU(),\n",
    "                                            torch.nn.Linear(10, 7),\n",
    "                                            torch.nn.ReLU(),\n",
    "                                            torch.nn.Linear(7, 5),\n",
    "                                            torch.nn.ReLU(),\n",
    "                                            torch.nn.Linear(5, 3),\n",
    "                                            torch.nn.ReLU(),\n",
    "                                            torch.nn.Linear(3, 2),\n",
    "                                            torch.nn.ReLU(),\n",
    "                                            torch.nn.Linear(2, 1))\n",
    "\n",
    "\n",
    "# Give the new model the old model's parameters\n",
    "dim_corrected_model_2[(0)].weight = model[(0)].weight\n",
    "dim_corrected_model_2[(2)].weight = model[(2)].weight\n",
    "dim_corrected_model_2[(4)].weight = model[(4)].weight\n",
    "dim_corrected_model_2[(6)].weight = model[(6)].weight\n",
    "dim_corrected_model_2[(8)].weight = model[(8)].weight\n",
    "dim_corrected_model_2[(10)].weight = model[(10)].weight\n",
    "dim_corrected_model_2[(12)].weight = model[(12)].weight"
   ]
  },
  {
   "cell_type": "code",
   "execution_count": 124,
   "metadata": {
    "collapsed": false
   },
   "outputs": [
    {
     "data": {
      "text/plain": [
       "Variable containing:\n",
       " 9464.8896\n",
       "[torch.FloatTensor of size 1]"
      ]
     },
     "execution_count": 124,
     "metadata": {},
     "output_type": "execute_result"
    }
   ],
   "source": [
    "# Get the validation set predictions\n",
    "y_test_pred = dim_corrected_model_2(test_predictors_Variable)\n",
    "\n",
    "\n",
    "# Print the loss\n",
    "loss_fn(y_test_pred,\n",
    "        test_outcomes_Variable)"
   ]
  },
  {
   "cell_type": "code",
   "execution_count": 125,
   "metadata": {
    "collapsed": true
   },
   "outputs": [],
   "source": [
    "# Get rid of the 2nd dimension of 1 from the FloatTensor\n",
    "y_test_pred_resized = y_test_pred.resize(2724)\n",
    "\n",
    "\n",
    "# Make the FloatTensor into a numpy.array\n",
    "y_test_pred_array = y_test_pred_resized.data.numpy()\n",
    "\n",
    "\n",
    "# Convert back to native units and scale\n",
    "y_test_pred_array = y_test_pred_array*5.735285 + 6.490682\n",
    "\n",
    "\n",
    "# Make the numpy.array into a list\n",
    "y_test_pred_list = y_test_pred_array.tolist()"
   ]
  },
  {
   "cell_type": "code",
   "execution_count": 126,
   "metadata": {
    "collapsed": false
   },
   "outputs": [
    {
     "data": {
      "text/plain": [
       "<matplotlib.text.Text at 0x7f7761b7a978>"
      ]
     },
     "execution_count": 126,
     "metadata": {},
     "output_type": "execute_result"
    },
    {
     "data": {
      "image/png": "[encoded data removed]",
      "text/plain": [
       "<matplotlib.figure.Figure at 0x7f7761e15da0>"
      ]
     },
     "metadata": {},
     "output_type": "display_data"
    }
   ],
   "source": [
    "# Plot new predictions versus new data outcomes\n",
    "\n",
    "plt.scatter(test_outcomes_list, y_test_pred_list)\n",
    "\n",
    "axes = plt.gca()\n",
    "\n",
    "axes.set_xlim([2, 23])\n",
    "\n",
    "axes.set_ylim([2, 23])\n",
    "\n",
    "axes.set_xticks([2, 5, 8, 11, 14, 17, 20, 23])\n",
    "\n",
    "axes.set_yticks([2, 5, 8, 11, 14, 17, 20, 23])\n",
    "\n",
    "plt.plot([2, 23], [2, 23], 'k-', lw=2)\n",
    "\n",
    "axes.set_xlabel(\"Actual Outcome (Log-Transformed US Dollars)\")\n",
    "\n",
    "axes.set_ylabel(\"Model Prediction (Log-Transformed US Dollars)\")\n",
    "\n",
    "axes.set_title(\"Model Performance\")"
   ]
  },
  {
   "cell_type": "code",
   "execution_count": 127,
   "metadata": {
    "collapsed": false
   },
   "outputs": [
    {
     "data": {
      "text/plain": [
       "Parameter containing:\n",
       "\n",
       "Columns 0 to 9 \n",
       "-0.1395 -0.0020 -0.1187  0.2090  0.2935 -0.1096 -0.0943  0.0782  0.1184  0.1218\n",
       "-0.0564  0.1741  0.1029  0.0360 -0.1471 -0.0748 -0.1352 -0.0481 -0.0424  0.0851\n",
       " 0.1695 -0.0582 -0.0013  0.0049 -0.1993 -0.2402 -0.0196 -0.1257  0.0873  0.1517\n",
       "-0.1457 -0.0008 -0.2944 -0.1739  0.0491 -0.0648  0.0421  0.1171  0.0073 -0.1603\n",
       " 0.1511 -0.0549 -0.0668  0.0818  0.0436  0.0747 -0.0111  0.0391 -0.0705  0.1020\n",
       " 0.0773  0.0533  0.1384  0.2499  0.3437 -0.0425  0.0782  0.0225 -0.0018 -0.0433\n",
       "-0.1606  0.0382 -0.1085  0.0423 -0.2160  0.1138  0.0793  0.1501  0.1054  0.1610\n",
       "-0.0869 -0.1824 -0.1074  0.2605 -0.1393  0.0022  0.0400  0.0133 -0.0949 -0.1451\n",
       "-0.1650 -0.1384  0.2317 -0.2925  0.1024  0.1751  0.1030  0.1531  0.0250  0.0866\n",
       " 0.0979 -0.0519  0.0354 -0.1536 -0.0501  0.1955 -0.1662  0.0086  0.1531  0.1471\n",
       " 0.1553 -0.0698  0.0049  0.0222 -0.0765  0.0968  0.2098 -0.1588  0.1036  0.0238\n",
       "-0.1310 -0.0711  0.0583 -0.1412 -0.2494  0.0195 -0.1759 -0.1180 -0.1984  0.0978\n",
       "-0.1881 -0.0674 -0.1799 -0.1972 -0.1911  0.1442  0.0479 -0.2024  0.0798 -0.0569\n",
       " 0.0247  0.0662  0.0051 -0.1734 -0.2777  0.0736  0.0099  0.0154 -0.0539 -0.1162\n",
       "-0.2130 -0.0557  0.0736  0.1367  0.1183  0.1784 -0.0196 -0.1962  0.1897 -0.0259\n",
       "\n",
       "Columns 10 to 19 \n",
       " 0.0125 -0.0176 -0.0850 -0.0815  0.0512 -0.2414 -0.0869 -0.0387  0.0378 -0.0801\n",
       " 0.0596 -0.2028 -0.1178 -0.0816 -0.2151  0.1587  0.1535  0.0547 -0.2265 -0.1506\n",
       "-0.1334  0.0924  0.0684 -0.1109  0.1817 -0.2054 -0.2353 -0.1893 -0.0692 -0.0378\n",
       " 0.0666 -0.1145  0.1508 -0.1038  0.1270  0.2505 -0.1172  0.0443 -0.1809 -0.0695\n",
       "-0.0705 -0.0893  0.1304  0.1321 -0.1076 -0.0293 -0.0792  0.1003 -0.2029 -0.1969\n",
       " 0.2685 -0.0129  0.0930 -0.0669  0.0114  0.1298 -0.0112 -0.0492 -0.0805  0.0813\n",
       " 0.0952  0.0902 -0.0503  0.1233  0.0080 -0.1819  0.0744 -0.1124  0.2093 -0.1779\n",
       "-0.1308  0.0583 -0.0382 -0.1928 -0.2249  0.1542 -0.1696  0.0269  0.1461 -0.1994\n",
       "-0.1134 -0.0713 -0.0731 -0.0553 -0.0218  0.2239  0.1329 -0.0426 -0.1853  0.0205\n",
       "-0.1323 -0.0912 -0.0174 -0.1056  0.0732  0.0990  0.0606 -0.1152 -0.0260  0.0656\n",
       " 0.0472  0.1351  0.1124  0.0159 -0.1179  0.0226  0.0434  0.1130  0.1303 -0.1906\n",
       "-0.0332 -0.1471 -0.1284  0.1235  0.0309 -0.1377 -0.0287  0.1572  0.0299  0.0123\n",
       "-0.0442  0.0941 -0.0102  0.0309 -0.2320 -0.0742  0.1453 -0.1651 -0.0997 -0.0980\n",
       " 0.0390  0.2019 -0.0210  0.0392  0.0697 -0.0550 -0.0961  0.0085  0.0771  0.1055\n",
       " 0.0185 -0.1687 -0.0050  0.0721  0.1761  0.1989 -0.1473  0.0787  0.0240  0.1983\n",
       "\n",
       "Columns 20 to 21 \n",
       " 0.0913  0.0242\n",
       " 0.0729  0.0499\n",
       " 0.0726 -0.2152\n",
       "-0.0612 -0.1795\n",
       "-0.0361  0.1763\n",
       " 0.0145 -0.0517\n",
       " 0.0184  0.0175\n",
       " 0.1765 -0.0963\n",
       " 0.0977  0.1399\n",
       "-0.1920  0.1064\n",
       "-0.0064 -0.0191\n",
       "-0.2517  0.0271\n",
       "-0.1453 -0.2109\n",
       " 0.1405  0.0299\n",
       "-0.1240  0.0652\n",
       "[torch.FloatTensor of size 15x22]"
      ]
     },
     "execution_count": 127,
     "metadata": {},
     "output_type": "execute_result"
    }
   ],
   "source": [
    "dim_corrected_model_2[(0)].weight"
   ]
  },
  {
   "cell_type": "code",
   "execution_count": 128,
   "metadata": {
    "collapsed": false
   },
   "outputs": [
    {
     "data": {
      "text/plain": [
       "Parameter containing:\n",
       "\n",
       "Columns 0 to 9 \n",
       " 0.0321 -0.1495  0.0095 -0.1313 -0.1380  0.2743  0.0406  0.1791 -0.0774 -0.1842\n",
       " 0.1847 -0.2494 -0.1053 -0.0297 -0.0869 -0.1056 -0.1000 -0.1208 -0.2379 -0.2557\n",
       "-0.0286  0.0830  0.2635  0.1790 -0.1414 -0.0584 -0.2484 -0.1661  0.2216 -0.0741\n",
       "-0.0326  0.2456  0.2455  0.1837 -0.0861  0.0335 -0.0804  0.2362 -0.0788 -0.1997\n",
       "-0.1088 -0.1627  0.0916 -0.1828  0.0076  0.0332 -0.0783  0.0023  0.2042 -0.1652\n",
       "-0.2426  0.0450 -0.0518  0.2313  0.0210 -0.0317  0.1486 -0.0745  0.0892  0.0527\n",
       " 0.1444 -0.0178 -0.0393  0.0449  0.1567 -0.2350 -0.0099  0.2148 -0.2274 -0.0513\n",
       "-0.1366  0.1553  0.1922 -0.0963  0.0922  0.1494 -0.1049  0.0535  0.1628  0.1117\n",
       " 0.0049 -0.0711 -0.1847 -0.1224 -0.1524 -0.1329  0.1008 -0.0249  0.0441 -0.0916\n",
       "-0.2063  0.0825  0.3084  0.1171 -0.0727 -0.2489  0.0015  0.0970  0.0540 -0.0636\n",
       "\n",
       "Columns 10 to 14 \n",
       " 0.1151 -0.0457 -0.1616 -0.1140 -0.0946\n",
       "-0.0607 -0.1406 -0.2038 -0.1070  0.0052\n",
       " 0.0921 -0.1780 -0.1208 -0.1617  0.0756\n",
       " 0.0960 -0.1247  0.0264 -0.0128  0.2106\n",
       " 0.0989 -0.0044  0.1124 -0.1097  0.0907\n",
       " 0.0381  0.2328 -0.0077  0.3656 -0.1308\n",
       " 0.1048  0.2425 -0.0567 -0.2285  0.1694\n",
       "-0.0262  0.0901 -0.1019  0.1179  0.0927\n",
       " 0.0824 -0.2402 -0.0937  0.2006 -0.0213\n",
       " 0.0064  0.2798  0.2425  0.0513  0.0115\n",
       "[torch.FloatTensor of size 10x15]"
      ]
     },
     "execution_count": 128,
     "metadata": {},
     "output_type": "execute_result"
    }
   ],
   "source": [
    "dim_corrected_model_2[(2)].weight"
   ]
  },
  {
   "cell_type": "code",
   "execution_count": 129,
   "metadata": {
    "collapsed": false
   },
   "outputs": [
    {
     "data": {
      "text/plain": [
       "Parameter containing:\n",
       "-0.3297 -0.1762  0.1290 -0.1373 -0.2814  0.3068 -0.2969  0.0452 -0.0236 -0.0304\n",
       "-0.0900  0.1876 -0.3197  0.2607  0.1147  0.2544 -0.1375 -0.0191  0.2277  0.5574\n",
       " 0.2614 -0.0774 -0.3098 -0.1484 -0.3104  0.0760  0.1203  0.1771  0.1287  0.1737\n",
       "-0.0111 -0.2020 -0.0860  0.0691 -0.1779 -0.0168  0.1194 -0.2474 -0.2469 -0.1365\n",
       "-0.2336 -0.0797 -0.1748  0.1263  0.1861  0.2100  0.2240 -0.2183  0.2819  0.3749\n",
       "-0.1658  0.3047  0.3049 -0.2253 -0.1408  0.2892 -0.0356 -0.1327  0.0820 -0.2180\n",
       "-0.1469  0.0359 -0.2334  0.3219 -0.2161  0.0308  0.1931 -0.0987 -0.0099  0.0985\n",
       "[torch.FloatTensor of size 7x10]"
      ]
     },
     "execution_count": 129,
     "metadata": {},
     "output_type": "execute_result"
    }
   ],
   "source": [
    "dim_corrected_model_2[(4)].weight"
   ]
  },
  {
   "cell_type": "code",
   "execution_count": 130,
   "metadata": {
    "collapsed": false
   },
   "outputs": [
    {
     "data": {
      "text/plain": [
       "Parameter containing:\n",
       "-0.2278  0.0800  0.1781 -0.0802  0.1803  0.3084  0.1305\n",
       " 0.2363  0.4052  0.1906 -0.1611  0.2843 -0.1268 -0.2087\n",
       " 0.1407  0.2067  0.3209 -0.1414  0.0369  0.0007  0.0532\n",
       " 0.0903 -0.3356  0.2496  0.2120 -0.5625 -0.0213 -0.1812\n",
       " 0.3148 -0.2378  0.2244 -0.2025  0.1814 -0.0249 -0.3759\n",
       "[torch.FloatTensor of size 5x7]"
      ]
     },
     "execution_count": 130,
     "metadata": {},
     "output_type": "execute_result"
    }
   ],
   "source": [
    "dim_corrected_model_2[(6)].weight"
   ]
  },
  {
   "cell_type": "code",
   "execution_count": 131,
   "metadata": {
    "collapsed": false
   },
   "outputs": [
    {
     "data": {
      "text/plain": [
       "Parameter containing:\n",
       "-0.3957  0.1906  0.2285 -0.2690  0.3153\n",
       " 0.2123 -0.3920 -0.2229  0.5709  0.2346\n",
       " 0.1031 -0.2941 -0.1713  0.1863  0.3238\n",
       "[torch.FloatTensor of size 3x5]"
      ]
     },
     "execution_count": 131,
     "metadata": {},
     "output_type": "execute_result"
    }
   ],
   "source": [
    "dim_corrected_model_2[(8)].weight"
   ]
  },
  {
   "cell_type": "code",
   "execution_count": 132,
   "metadata": {
    "collapsed": false
   },
   "outputs": [
    {
     "data": {
      "text/plain": [
       "Parameter containing:\n",
       " 0.3172 -0.7216 -0.6440\n",
       " 0.5278 -0.5257 -0.1290\n",
       "[torch.FloatTensor of size 2x3]"
      ]
     },
     "execution_count": 132,
     "metadata": {},
     "output_type": "execute_result"
    }
   ],
   "source": [
    "dim_corrected_model_2[(10)].weight"
   ]
  },
  {
   "cell_type": "code",
   "execution_count": 133,
   "metadata": {
    "collapsed": false
   },
   "outputs": [
    {
     "data": {
      "text/plain": [
       "Parameter containing:\n",
       "-1.1327 -0.6576\n",
       "[torch.FloatTensor of size 1x2]"
      ]
     },
     "execution_count": 133,
     "metadata": {},
     "output_type": "execute_result"
    }
   ],
   "source": [
    "dim_corrected_model_2[(12)].weight"
   ]
  },
  {
   "cell_type": "markdown",
   "metadata": {},
   "source": [
    "## Round 7: Linear Regression"
   ]
  },
  {
   "cell_type": "code",
   "execution_count": 134,
   "metadata": {
    "collapsed": true
   },
   "outputs": [],
   "source": [
    "# Make the torch Tensor into a PyTorch Variable for dependent variables\n",
    "outcomes_Variable = Variable(outcomes_Tensor)\n",
    "\n",
    "\n",
    "# ...for independent variables\n",
    "features_Variable = Variable(features_Tensor,\n",
    "                             requires_grad = False)"
   ]
  },
  {
   "cell_type": "code",
   "execution_count": 135,
   "metadata": {
    "collapsed": true
   },
   "outputs": [],
   "source": [
    "# Make the neural network - really a regression\n",
    "model = torch.nn.Sequential(torch.nn.Linear(22, 1))"
   ]
  },
  {
   "cell_type": "code",
   "execution_count": 136,
   "metadata": {
    "collapsed": false
   },
   "outputs": [],
   "source": [
    "# To add errors to\n",
    "errors = []\n",
    "\n",
    "\n",
    "# Set the learning rate\n",
    "learning_rate = 4e-6\n",
    "\n",
    "\n",
    "# Train the neural network\n",
    "for t in range(10000):\n",
    "    \n",
    "    # Get the current predictions\n",
    "    y_pred = model(features_Variable)\n",
    "    \n",
    "    # Compute and append current summed errors\n",
    "    loss = loss_fn(y_pred, outcomes_Variable)\n",
    "    errors.append(loss.data[0])\n",
    "    \n",
    "    # Zero the gradients before running the backward pass.\n",
    "    model.zero_grad()\n",
    "    \n",
    "    # Backward pass: compute gradient of the loss with respect to all the learnable Variables\n",
    "    loss.backward()\n",
    "    \n",
    "    # Update the weights using gradient descent\n",
    "    for param in model.parameters():\n",
    "        param.data -= learning_rate * param.grad.data"
   ]
  },
  {
   "cell_type": "code",
   "execution_count": 137,
   "metadata": {
    "collapsed": false
   },
   "outputs": [
    {
     "data": {
      "text/plain": [
       "<matplotlib.collections.PathCollection at 0x7f7761ab45f8>"
      ]
     },
     "execution_count": 137,
     "metadata": {},
     "output_type": "execute_result"
    },
    {
     "data": {
      "image/png": "[encoded data removed]",
      "text/plain": [
       "<matplotlib.figure.Figure at 0x7f7761ace5f8>"
      ]
     },
     "metadata": {},
     "output_type": "display_data"
    }
   ],
   "source": [
    "# Plot summed error as a function of iteration\n",
    "plt.scatter(iterations, errors)"
   ]
  },
  {
   "cell_type": "code",
   "execution_count": 138,
   "metadata": {
    "collapsed": false
   },
   "outputs": [],
   "source": [
    "# Get rid of the 2nd dimension of 1 from the FloatTensor\n",
    "y_pred_resized = y_pred.resize(8237)\n",
    "\n",
    "\n",
    "# Make the FloatTensor into a numpy.array\n",
    "y_pred_array = y_pred_resized.data.numpy()\n",
    "\n",
    "\n",
    "# Make the numpy.array into a list\n",
    "y_pred_list = y_pred_array.tolist()"
   ]
  },
  {
   "cell_type": "code",
   "execution_count": 139,
   "metadata": {
    "collapsed": false
   },
   "outputs": [
    {
     "data": {
      "text/plain": [
       "[<matplotlib.lines.Line2D at 0x7f7761a04780>]"
      ]
     },
     "execution_count": 139,
     "metadata": {},
     "output_type": "execute_result"
    },
    {
     "data": {
      "image/png": "[encoded data removed]",
      "text/plain": [
       "<matplotlib.figure.Figure at 0x7f7761a04470>"
      ]
     },
     "metadata": {},
     "output_type": "display_data"
    }
   ],
   "source": [
    "# Plot predictions versus training set outcomes\n",
    "plt.scatter(outcomes_list, y_pred_list)\n",
    "\n",
    "axes = plt.gca()\n",
    "\n",
    "axes.set_xlim([-2, 4])\n",
    "\n",
    "axes.set_ylim([-2, 4])\n",
    "\n",
    "plt.plot([-2, 4], [-2, 4], 'k-', lw=2)"
   ]
  },
  {
   "cell_type": "markdown",
   "metadata": {
    "collapsed": false
   },
   "source": [
    "### Round 7.1: Validation Set Performance"
   ]
  },
  {
   "cell_type": "code",
   "execution_count": 140,
   "metadata": {
    "collapsed": false
   },
   "outputs": [],
   "source": [
    "# Have to make a new model and give it the train_model parameters to fix structure problem\n",
    "dim_corrected_model = torch.nn.Sequential(torch.nn.Linear(22, 1))\n",
    "\n",
    "\n",
    "# Give the new model the old model's parameters\n",
    "dim_corrected_model[(0)].weight = model[(0)].weight"
   ]
  },
  {
   "cell_type": "code",
   "execution_count": 141,
   "metadata": {
    "collapsed": false
   },
   "outputs": [
    {
     "data": {
      "text/plain": [
       "Variable containing:\n",
       " 687.2926\n",
       "[torch.FloatTensor of size 1]"
      ]
     },
     "execution_count": 141,
     "metadata": {},
     "output_type": "execute_result"
    }
   ],
   "source": [
    "# Get the validation set predictions\n",
    "y_valid_pred = dim_corrected_model(valid_predictors_Variable)\n",
    "\n",
    "\n",
    "# Print the loss\n",
    "loss_fn(y_valid_pred,\n",
    "        valid_outcomes_Variable)"
   ]
  },
  {
   "cell_type": "code",
   "execution_count": 142,
   "metadata": {
    "collapsed": true
   },
   "outputs": [],
   "source": [
    "# Get rid of the 2nd dimension of 1 from the FloatTensor\n",
    "y_valid_pred_resized = y_valid_pred.resize(2730)\n",
    "\n",
    "\n",
    "# Make the FloatTensor into a numpy.array\n",
    "y_valid_pred_array = y_valid_pred_resized.data.numpy()\n",
    "\n",
    "\n",
    "# Make the numpy.array into a list\n",
    "y_valid_pred_list = y_valid_pred_array.tolist()"
   ]
  },
  {
   "cell_type": "code",
   "execution_count": 143,
   "metadata": {
    "collapsed": false
   },
   "outputs": [
    {
     "data": {
      "text/plain": [
       "[<matplotlib.lines.Line2D at 0x7f776194ef60>]"
      ]
     },
     "execution_count": 143,
     "metadata": {},
     "output_type": "execute_result"
    },
    {
     "data": {
      "image/png": "[encoded data removed]",
      "text/plain": [
       "<matplotlib.figure.Figure at 0x7f77619f4e10>"
      ]
     },
     "metadata": {},
     "output_type": "display_data"
    }
   ],
   "source": [
    "# Plot new predictions versus new data outcomes\n",
    "plt.scatter(valid_outcomes_list, y_valid_pred_list)\n",
    "\n",
    "axes = plt.gca()\n",
    "\n",
    "axes.set_xlim([-2, 4])\n",
    "\n",
    "axes.set_ylim([-2, 4])\n",
    "\n",
    "plt.plot([-2, 4], [-2, 4], 'k-', lw=2)"
   ]
  },
  {
   "cell_type": "markdown",
   "metadata": {},
   "source": [
    "### Round 7.2: Test Set Performance"
   ]
  },
  {
   "cell_type": "code",
   "execution_count": 144,
   "metadata": {
    "collapsed": true
   },
   "outputs": [],
   "source": [
    "# Have to make a new model and give it the train_model parameters to fix structure problem\n",
    "dim_corrected_model_2 = torch.nn.Sequential(torch.nn.Linear(22, 1))\n",
    "\n",
    "\n",
    "# Give the new model the old model's parameters\n",
    "dim_corrected_model_2[(0)].weight = model[(0)].weight"
   ]
  },
  {
   "cell_type": "code",
   "execution_count": 145,
   "metadata": {
    "collapsed": false
   },
   "outputs": [
    {
     "data": {
      "text/plain": [
       "Variable containing:\n",
       " 1402.5018\n",
       "[torch.FloatTensor of size 1]"
      ]
     },
     "execution_count": 145,
     "metadata": {},
     "output_type": "execute_result"
    }
   ],
   "source": [
    "# Get the validation set predictions\n",
    "y_test_pred = dim_corrected_model_2(test_predictors_Variable)\n",
    "\n",
    "\n",
    "# Print the loss\n",
    "loss_fn(y_test_pred,\n",
    "        test_outcomes_Variable)"
   ]
  },
  {
   "cell_type": "code",
   "execution_count": 146,
   "metadata": {
    "collapsed": true
   },
   "outputs": [],
   "source": [
    "# Get rid of the 2nd dimension of 1 from the FloatTensor\n",
    "y_test_pred_resized = y_test_pred.resize(2724)\n",
    "\n",
    "\n",
    "# Make the FloatTensor into a numpy.array\n",
    "y_test_pred_array = y_test_pred_resized.data.numpy()\n",
    "\n",
    "\n",
    "# Convert back to native units and scale\n",
    "y_test_pred_array = y_test_pred_array*5.735285 + 6.490682\n",
    "\n",
    "\n",
    "# Make the numpy.array into a list\n",
    "y_test_pred_list = y_test_pred_array.tolist()"
   ]
  },
  {
   "cell_type": "code",
   "execution_count": 147,
   "metadata": {
    "collapsed": false
   },
   "outputs": [
    {
     "data": {
      "text/plain": [
       "<matplotlib.text.Text at 0x7f77619312b0>"
      ]
     },
     "execution_count": 147,
     "metadata": {},
     "output_type": "execute_result"
    },
    {
     "data": {
      "image/png": "[encoded data removed]",
      "text/plain": [
       "<matplotlib.figure.Figure at 0x7f7761965a90>"
      ]
     },
     "metadata": {},
     "output_type": "display_data"
    }
   ],
   "source": [
    "# Plot new predictions versus new data outcomes\n",
    "\n",
    "plt.scatter(test_outcomes_list, y_test_pred_list)\n",
    "\n",
    "axes = plt.gca()\n",
    "\n",
    "axes.set_xlim([2, 23])\n",
    "\n",
    "axes.set_ylim([2, 23])\n",
    "\n",
    "axes.set_xticks([2, 5, 8, 11, 14, 17, 20, 23])\n",
    "\n",
    "axes.set_yticks([2, 5, 8, 11, 14, 17, 20, 23])\n",
    "\n",
    "plt.plot([2, 23], [2, 23], 'k-', lw=2)\n",
    "\n",
    "axes.set_xlabel(\"Actual Outcome (Log-Transformed US Dollars)\")\n",
    "\n",
    "axes.set_ylabel(\"Model Prediction (Log-Transformed US Dollars)\")\n",
    "\n",
    "axes.set_title(\"Model Performance\")"
   ]
  },
  {
   "cell_type": "code",
   "execution_count": 148,
   "metadata": {
    "collapsed": false
   },
   "outputs": [
    {
     "data": {
      "text/plain": [
       "Parameter containing:\n",
       "\n",
       "Columns 0 to 9 \n",
       " 0.0114  0.0031  0.0116  0.1374  0.1667 -0.0259 -0.0018  0.0032  0.0595 -0.0157\n",
       "\n",
       "Columns 10 to 19 \n",
       " 0.0523 -0.0143  0.0241 -0.0237  0.0013 -0.0051  0.0031  0.0079 -0.0088  0.0093\n",
       "\n",
       "Columns 20 to 21 \n",
       " 0.0090  0.0092\n",
       "[torch.FloatTensor of size 1x22]"
      ]
     },
     "execution_count": 148,
     "metadata": {},
     "output_type": "execute_result"
    }
   ],
   "source": [
    "dim_corrected_model_2[(0)].weight"
   ]
  }
 ],
 "metadata": {
  "kernelspec": {
   "display_name": "Python 3",
   "language": "python",
   "name": "python3"
  },
  "language_info": {
   "codemirror_mode": {
    "name": "ipython",
    "version": 3
   },
   "file_extension": ".py",
   "mimetype": "text/x-python",
   "name": "python",
   "nbconvert_exporter": "python",
   "pygments_lexer": "ipython3",
   "version": "3.6.0"
  }
 },
 "nbformat": 4,
 "nbformat_minor": 2
}
