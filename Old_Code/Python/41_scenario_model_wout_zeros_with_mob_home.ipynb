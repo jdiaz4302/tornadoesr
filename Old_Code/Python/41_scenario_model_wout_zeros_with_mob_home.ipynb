{
 "cells": [
  {
   "cell_type": "markdown",
   "metadata": {},
   "source": [
    "## Setup"
   ]
  },
  {
   "cell_type": "code",
   "execution_count": 1,
   "metadata": {
    "collapsed": true
   },
   "outputs": [],
   "source": [
    "# Packages\n",
    "import pandas as pd\n",
    "import torch\n",
    "from torch.autograd import Variable\n",
    "import numpy as np\n",
    "import matplotlib.pyplot as plt\n",
    "%matplotlib inline\n",
    "import pylab\n",
    "import math"
   ]
  },
  {
   "cell_type": "code",
   "execution_count": 2,
   "metadata": {
    "collapsed": false
   },
   "outputs": [
    {
     "name": "stdout",
     "output_type": "stream",
     "text": [
      "<class 'pandas.core.frame.DataFrame'>\n",
      "RangeIndex: 8230 entries, 0 to 8229\n",
      "Data columns (total 33 columns):\n",
      "DAMAGE_PROPERTY       8230 non-null float64\n",
      "DURATION_SECONDS      8230 non-null float64\n",
      "BEGIN_LAT             8230 non-null float64\n",
      "BEGIN_LON             8230 non-null float64\n",
      "TOR_LENGTH            8230 non-null float64\n",
      "TOR_WIDTH             8230 non-null float64\n",
      "YEAR                  8230 non-null float64\n",
      "OPEN_WATER_PROP       8230 non-null float64\n",
      "DEV_OPEN_PROP         8230 non-null float64\n",
      "DEV_LOW_PROP          8230 non-null float64\n",
      "DEV_MED_PROP          8230 non-null float64\n",
      "DEV_HIGH_PROP         8230 non-null float64\n",
      "DECID_FOREST_PROP     8230 non-null float64\n",
      "EVERGR_FOREST_PROP    8230 non-null float64\n",
      "MIXED_FOREST_PROP     8230 non-null float64\n",
      "SHRUB_SCRUB_PROP      8230 non-null float64\n",
      "GRASS_LAND_PROP       8230 non-null float64\n",
      "PASTURE_HAY_PROP      8230 non-null float64\n",
      "CULT_CROPS_PROP       8230 non-null float64\n",
      "WOOD_WETLAND_PROP     8230 non-null float64\n",
      "HERB_WETLAND_PROP     8230 non-null float64\n",
      "BARREN_LAND_PROP      8230 non-null float64\n",
      "INCOME                8230 non-null float64\n",
      "TOR_AREA              8230 non-null float64\n",
      "TOT_DEV_INT           8230 non-null float64\n",
      "TOT_WOOD_AREA         8230 non-null float64\n",
      "WOOD_DEV_INT          8230 non-null float64\n",
      "EXP_INC_AREA          8230 non-null float64\n",
      "DAY_OF_YEAR           8230 non-null float64\n",
      "STATE_RANK            8230 non-null float64\n",
      "MOB_HOM_DENS          8230 non-null float64\n",
      "TIME                  8230 non-null float64\n",
      "MONTH_MEAN            8230 non-null float64\n",
      "dtypes: float64(33)\n",
      "memory usage: 2.1 MB\n"
     ]
    }
   ],
   "source": [
    "# Import data\n",
    "tor_df = pd.read_csv(\"/home/jeremy/github_tornadoesr/data/raw/tor_train_set_no_zeros_mob_home.csv\")\n",
    "\n",
    "\n",
    "# Quick inspection\n",
    "tor_df.info()"
   ]
  },
  {
   "cell_type": "code",
   "execution_count": 3,
   "metadata": {
    "collapsed": false
   },
   "outputs": [
    {
     "name": "stdout",
     "output_type": "stream",
     "text": [
      "<class 'pandas.core.frame.DataFrame'>\n",
      "RangeIndex: 8230 entries, 0 to 8229\n",
      "Data columns (total 1 columns):\n",
      "DAMAGE_PROPERTY    8230 non-null float64\n",
      "dtypes: float64(1)\n",
      "memory usage: 64.4 KB\n"
     ]
    }
   ],
   "source": [
    "# Seperating variables\n",
    "# The dependent variables\n",
    "tornado_outcomes = tor_df.iloc[:, [0]]\n",
    "\n",
    "\n",
    "# Quick inspection\n",
    "tornado_outcomes.info()"
   ]
  },
  {
   "cell_type": "code",
   "execution_count": 4,
   "metadata": {
    "collapsed": false
   },
   "outputs": [
    {
     "name": "stdout",
     "output_type": "stream",
     "text": [
      "<class 'pandas.core.frame.DataFrame'>\n",
      "RangeIndex: 8230 entries, 0 to 8229\n",
      "Data columns (total 32 columns):\n",
      "DURATION_SECONDS      8230 non-null float64\n",
      "BEGIN_LAT             8230 non-null float64\n",
      "BEGIN_LON             8230 non-null float64\n",
      "TOR_LENGTH            8230 non-null float64\n",
      "TOR_WIDTH             8230 non-null float64\n",
      "YEAR                  8230 non-null float64\n",
      "OPEN_WATER_PROP       8230 non-null float64\n",
      "DEV_OPEN_PROP         8230 non-null float64\n",
      "DEV_LOW_PROP          8230 non-null float64\n",
      "DEV_MED_PROP          8230 non-null float64\n",
      "DEV_HIGH_PROP         8230 non-null float64\n",
      "DECID_FOREST_PROP     8230 non-null float64\n",
      "EVERGR_FOREST_PROP    8230 non-null float64\n",
      "MIXED_FOREST_PROP     8230 non-null float64\n",
      "SHRUB_SCRUB_PROP      8230 non-null float64\n",
      "GRASS_LAND_PROP       8230 non-null float64\n",
      "PASTURE_HAY_PROP      8230 non-null float64\n",
      "CULT_CROPS_PROP       8230 non-null float64\n",
      "WOOD_WETLAND_PROP     8230 non-null float64\n",
      "HERB_WETLAND_PROP     8230 non-null float64\n",
      "BARREN_LAND_PROP      8230 non-null float64\n",
      "INCOME                8230 non-null float64\n",
      "TOR_AREA              8230 non-null float64\n",
      "TOT_DEV_INT           8230 non-null float64\n",
      "TOT_WOOD_AREA         8230 non-null float64\n",
      "WOOD_DEV_INT          8230 non-null float64\n",
      "EXP_INC_AREA          8230 non-null float64\n",
      "DAY_OF_YEAR           8230 non-null float64\n",
      "STATE_RANK            8230 non-null float64\n",
      "MOB_HOM_DENS          8230 non-null float64\n",
      "TIME                  8230 non-null float64\n",
      "MONTH_MEAN            8230 non-null float64\n",
      "dtypes: float64(32)\n",
      "memory usage: 2.0 MB\n"
     ]
    }
   ],
   "source": [
    "# The independent variables\n",
    "tornado_features = tor_df.iloc[:, 1:]\n",
    "\n",
    "\n",
    "# Quick inspection\n",
    "tornado_features.info()"
   ]
  },
  {
   "cell_type": "code",
   "execution_count": 5,
   "metadata": {
    "collapsed": false
   },
   "outputs": [
    {
     "data": {
      "text/plain": [
       "\n",
       " 0.7085\n",
       " 0.5805\n",
       " 0.7085\n",
       "   ⋮    \n",
       " 0.9397\n",
       " 0.9644\n",
       " 0.7085\n",
       "[torch.DoubleTensor of size 8230x1]"
      ]
     },
     "execution_count": 5,
     "metadata": {},
     "output_type": "execute_result"
    }
   ],
   "source": [
    "# Make the dependent variables into a numpy array\n",
    "outcomes_array = tornado_outcomes.values\n",
    "\n",
    "\n",
    "# Makes the numpy array into a torch Tensor\n",
    "outcomes_Tensor = torch.from_numpy(outcomes_array)\n",
    "\n",
    "\n",
    "# Quick inspection\n",
    "outcomes_Tensor"
   ]
  },
  {
   "cell_type": "code",
   "execution_count": 6,
   "metadata": {
    "collapsed": false
   },
   "outputs": [
    {
     "data": {
      "text/plain": [
       "\n",
       "-3.0188e-01 -3.7157e-01  6.1740e-01  ...   8.5283e-01 -8.7299e-01  3.0227e-01\n",
       " 6.8209e-01 -9.3529e-01  1.1152e+00  ...   8.4258e-01  1.5787e+00 -5.1904e-02\n",
       "-2.2607e+00  1.8028e-01  8.2261e-01  ...   2.1240e-01 -6.2229e-01 -1.8228e+00\n",
       "                ...                   ⋱                   ...                \n",
       " 4.5872e-01 -1.9908e+00  1.1802e+00  ...   1.7873e+00  1.2653e+00  6.5645e-01\n",
       " 6.8209e-01  3.0892e-01  5.3075e-01  ...   1.0947e+00 -9.6516e-01 -5.1904e-02\n",
       "-2.2607e+00 -1.4187e+00 -8.0176e-02  ...   3.8968e-01 -1.3154e+00 -4.0608e-01\n",
       "[torch.DoubleTensor of size 8230x32]"
      ]
     },
     "execution_count": 6,
     "metadata": {},
     "output_type": "execute_result"
    }
   ],
   "source": [
    "# Make the independent variables into a numpy array\n",
    "features_array = tornado_features.values\n",
    "\n",
    "\n",
    "# Make the numpy array into a torch Tensor\n",
    "features_Tensor = torch.from_numpy(features_array)\n",
    "\n",
    "\n",
    "# Quick inspection\n",
    "features_Tensor"
   ]
  },
  {
   "cell_type": "markdown",
   "metadata": {},
   "source": [
    "### Convert DoubleTensor to FloatTensor"
   ]
  },
  {
   "cell_type": "code",
   "execution_count": 7,
   "metadata": {
    "collapsed": false
   },
   "outputs": [
    {
     "data": {
      "text/plain": [
       "\n",
       "-3.0188e-01 -3.7157e-01  6.1740e-01  ...   8.5283e-01 -8.7299e-01  3.0227e-01\n",
       " 6.8209e-01 -9.3529e-01  1.1152e+00  ...   8.4258e-01  1.5787e+00 -5.1904e-02\n",
       "-2.2607e+00  1.8028e-01  8.2261e-01  ...   2.1240e-01 -6.2229e-01 -1.8228e+00\n",
       "                ...                   ⋱                   ...                \n",
       " 4.5872e-01 -1.9908e+00  1.1802e+00  ...   1.7873e+00  1.2653e+00  6.5645e-01\n",
       " 6.8209e-01  3.0892e-01  5.3075e-01  ...   1.0947e+00 -9.6516e-01 -5.1904e-02\n",
       "-2.2607e+00 -1.4187e+00 -8.0176e-02  ...   3.8968e-01 -1.3154e+00 -4.0608e-01\n",
       "[torch.FloatTensor of size 8230x32]"
      ]
     },
     "execution_count": 7,
     "metadata": {},
     "output_type": "execute_result"
    }
   ],
   "source": [
    "# Changing dependent variables from a DoubleTensor to a FloatTensor\n",
    "outcomes_Tensor = outcomes_Tensor.float()\n",
    "\n",
    "\n",
    "# ...and for the independent variables\n",
    "features_Tensor = features_Tensor.float()\n",
    "\n",
    "\n",
    "# Quick check\n",
    "features_Tensor"
   ]
  },
  {
   "cell_type": "markdown",
   "metadata": {
    "collapsed": true
   },
   "source": [
    "## Round 1: One-Hidden-Layer Neural Network"
   ]
  },
  {
   "cell_type": "code",
   "execution_count": 8,
   "metadata": {
    "collapsed": false
   },
   "outputs": [],
   "source": [
    "# Make the torch Tensor into a PyTorch Variable for dependent variables\n",
    "outcomes_Variable = Variable(outcomes_Tensor)\n",
    "\n",
    "\n",
    "# ...for independent variables\n",
    "features_Variable = Variable(features_Tensor,\n",
    "                             requires_grad = False)"
   ]
  },
  {
   "cell_type": "code",
   "execution_count": 9,
   "metadata": {
    "collapsed": false
   },
   "outputs": [],
   "source": [
    "# Make the neural network\n",
    "model = torch.nn.Sequential(torch.nn.Linear(32, 21),\n",
    "                            torch.nn.ReLU(),\n",
    "                            torch.nn.Linear(21, 1))"
   ]
  },
  {
   "cell_type": "code",
   "execution_count": 10,
   "metadata": {
    "collapsed": true
   },
   "outputs": [],
   "source": [
    "# Set the loss function\n",
    "loss_fn = torch.nn.MSELoss(size_average=False)"
   ]
  },
  {
   "cell_type": "code",
   "execution_count": 11,
   "metadata": {
    "collapsed": false
   },
   "outputs": [],
   "source": [
    "# To add errors to\n",
    "errors = []\n",
    "\n",
    "\n",
    "# Set the learning rate\n",
    "learning_rate = 4e-6\n",
    "\n",
    "\n",
    "# Train the neural network\n",
    "for t in range(10000):\n",
    "    \n",
    "    # Get the current predictions\n",
    "    y_pred = model(features_Variable)\n",
    "    \n",
    "    # Compute and append current summed errors\n",
    "    loss = loss_fn(y_pred, outcomes_Variable)\n",
    "    errors.append(loss.data[0])\n",
    "    \n",
    "    # Zero the gradients before running the backward pass.\n",
    "    model.zero_grad()\n",
    "    \n",
    "    # Backward pass: compute gradient of the loss with respect to all the learnable Variables\n",
    "    loss.backward()\n",
    "    \n",
    "    # Update the weights using gradient descent\n",
    "    for param in model.parameters():\n",
    "        param.data -= learning_rate * param.grad.data"
   ]
  },
  {
   "cell_type": "code",
   "execution_count": 12,
   "metadata": {
    "collapsed": true
   },
   "outputs": [],
   "source": [
    "# Get the iterations\n",
    "iterations = list(range(0, 10000))"
   ]
  },
  {
   "cell_type": "code",
   "execution_count": 13,
   "metadata": {
    "collapsed": false
   },
   "outputs": [
    {
     "data": {
      "text/plain": [
       "<matplotlib.collections.PathCollection at 0x7fb92cc5e390>"
      ]
     },
     "execution_count": 13,
     "metadata": {},
     "output_type": "execute_result"
    },
    {
     "data": {
      "image/png": "[encoded data removed]",
      "text/plain": [
       "<matplotlib.figure.Figure at 0x7fb90ff93860>"
      ]
     },
     "metadata": {},
     "output_type": "display_data"
    }
   ],
   "source": [
    "# Plot summed error as a function of iteration\n",
    "plt.scatter(iterations, errors)"
   ]
  },
  {
   "cell_type": "code",
   "execution_count": 14,
   "metadata": {
    "collapsed": false
   },
   "outputs": [],
   "source": [
    "# Get rid of the 2nd dimension of 1 from the FloatTensor\n",
    "y_pred_resized = y_pred.resize(8230)\n",
    "\n",
    "\n",
    "# Make the FloatTensor into a numpy.array\n",
    "y_pred_array = y_pred_resized.data.numpy()\n",
    "\n",
    "\n",
    "# Make the numpy.array into a list\n",
    "y_pred_list = y_pred_array.tolist()"
   ]
  },
  {
   "cell_type": "code",
   "execution_count": 15,
   "metadata": {
    "collapsed": false
   },
   "outputs": [],
   "source": [
    "# Get rid of the 2nd dimension of 1 from the FloatTensor\n",
    "outcomes_Variable_resized = outcomes_Variable.resize(8230)\n",
    "\n",
    "\n",
    "# Make the FloatTensor into a numpy.array\n",
    "outcomes_array = outcomes_Variable_resized.data.numpy()\n",
    "\n",
    "\n",
    "# Make the numpy.array into a list\n",
    "outcomes_list = outcomes_array.tolist()"
   ]
  },
  {
   "cell_type": "code",
   "execution_count": 16,
   "metadata": {
    "collapsed": false
   },
   "outputs": [
    {
     "data": {
      "text/plain": [
       "[<matplotlib.lines.Line2D at 0x7fb8d40906d8>]"
      ]
     },
     "execution_count": 16,
     "metadata": {},
     "output_type": "execute_result"
    },
    {
     "data": {
      "image/png": "[encoded data removed]",
      "text/plain": [
       "<matplotlib.figure.Figure at 0x7fb8d4090320>"
      ]
     },
     "metadata": {},
     "output_type": "display_data"
    }
   ],
   "source": [
    "# Plot predictions versus training set outcomes\n",
    "plt.scatter(outcomes_list, y_pred_list, c = \"black\", alpha = 0.15)\n",
    "\n",
    "axes = plt.gca()\n",
    "\n",
    "axes.set_xlim([-2, 4])\n",
    "\n",
    "axes.set_ylim([-2, 4])\n",
    "\n",
    "plt.plot([-2, 4], [-2, 4], 'k-', lw=2)"
   ]
  },
  {
   "cell_type": "markdown",
   "metadata": {},
   "source": [
    "### Round 1.1: Validation Set Performance"
   ]
  },
  {
   "cell_type": "code",
   "execution_count": 17,
   "metadata": {
    "collapsed": false
   },
   "outputs": [],
   "source": [
    "# Import data\n",
    "valid_df = pd.read_csv(\"/home/jeremy/github_tornadoesr/data/raw/tor_cv_set_no_zeros_mob_home.csv\")\n",
    "\n",
    "\n",
    "# Validation set outcomes\n",
    "valid_outcomes = valid_df.iloc[:, [0]]\n",
    "\n",
    "\n",
    "# Make the validation outcomes into a numpy array\n",
    "valid_outcomes_array = valid_outcomes.values\n",
    "\n",
    "\n",
    "# Makes the numpy array into a torch Tensor\n",
    "valid_outcomes_Tensor = torch.from_numpy(valid_outcomes_array)\n",
    "\n",
    "\n",
    "# Changing validation outcomes from a DoubleTensor to a FloatTensor\n",
    "valid_outcomes_Tensor = valid_outcomes_Tensor.float()\n",
    "\n",
    "\n",
    "# Make the Tensor into a Pytorch Variable\n",
    "valid_outcomes_Variable = Variable(valid_outcomes_Tensor)"
   ]
  },
  {
   "cell_type": "code",
   "execution_count": 18,
   "metadata": {
    "collapsed": false
   },
   "outputs": [],
   "source": [
    "# Validation set predictors\n",
    "valid_predictors = valid_df.iloc[:, 1:]\n",
    "\n",
    "\n",
    "# Make the validation predictors into a numpy array\n",
    "valid_predictors_array = valid_predictors.values\n",
    "\n",
    "\n",
    "# Makes the numpy array into a torch Tensor\n",
    "valid_predictors_Tensor = torch.from_numpy(valid_predictors_array)\n",
    "\n",
    "\n",
    "# Changing validation predictors from a DoubleTensor to a FloatTensor\n",
    "valid_predictors_Tensor = valid_predictors_Tensor.float()\n",
    "\n",
    "\n",
    "# Make the Tensor into a Pytorch Variable\n",
    "valid_predictors_Variable = Variable(valid_predictors_Tensor)"
   ]
  },
  {
   "cell_type": "code",
   "execution_count": 19,
   "metadata": {
    "collapsed": false
   },
   "outputs": [
    {
     "data": {
      "text/plain": [
       "Variable containing:\n",
       " 271.8410\n",
       "[torch.FloatTensor of size 1]"
      ]
     },
     "execution_count": 19,
     "metadata": {},
     "output_type": "execute_result"
    }
   ],
   "source": [
    "# Get the validation set predictions\n",
    "y_valid_pred = model(valid_predictors_Variable)\n",
    "\n",
    "\n",
    "# Print the loss\n",
    "loss_fn(y_valid_pred,\n",
    "        valid_outcomes_Variable)"
   ]
  },
  {
   "cell_type": "code",
   "execution_count": 20,
   "metadata": {
    "collapsed": true
   },
   "outputs": [],
   "source": [
    "# Get rid of the 2nd dimension of 1 from the FloatTensor\n",
    "y_valid_pred_resized = y_valid_pred.resize(2748)\n",
    "\n",
    "\n",
    "# Make the FloatTensor into a numpy.array\n",
    "y_valid_pred_array = y_valid_pred_resized.data.numpy()\n",
    "\n",
    "\n",
    "# Make the numpy.array into a list\n",
    "y_valid_pred_list = y_valid_pred_array.tolist()"
   ]
  },
  {
   "cell_type": "code",
   "execution_count": 21,
   "metadata": {
    "collapsed": false
   },
   "outputs": [],
   "source": [
    "# Get rid of the 2nd dimension of 1 from the FloatTensor\n",
    "valid_outcomes_Variable_resized = valid_outcomes_Variable.resize(2748)\n",
    "\n",
    "\n",
    "# Make the FloatTensor into a numpy.array\n",
    "valid_outcomes_array = valid_outcomes_Variable_resized.data.numpy()\n",
    "\n",
    "\n",
    "# Make the numpy.array into a list\n",
    "valid_outcomes_list = valid_outcomes_array.tolist()"
   ]
  },
  {
   "cell_type": "code",
   "execution_count": 22,
   "metadata": {
    "collapsed": false
   },
   "outputs": [
    {
     "data": {
      "text/plain": [
       "[<matplotlib.lines.Line2D at 0x7fb8d404b2e8>]"
      ]
     },
     "execution_count": 22,
     "metadata": {},
     "output_type": "execute_result"
    },
    {
     "data": {
      "image/png": "[encoded data removed]",
      "text/plain": [
       "<matplotlib.figure.Figure at 0x7fb8d404b390>"
      ]
     },
     "metadata": {},
     "output_type": "display_data"
    }
   ],
   "source": [
    "# Plot new predictions versus new data outcomes\n",
    "plt.scatter(valid_outcomes_list, y_valid_pred_list, c = \"black\", alpha = 0.15)\n",
    "\n",
    "axes = plt.gca()\n",
    "\n",
    "axes.set_xlim([-2, 4])\n",
    "\n",
    "axes.set_ylim([-2, 4])\n",
    "\n",
    "plt.plot([-2, 4], [-2, 4], 'k-', lw=2)"
   ]
  },
  {
   "cell_type": "markdown",
   "metadata": {},
   "source": [
    "### Round 1.2: Test Set Performance"
   ]
  },
  {
   "cell_type": "code",
   "execution_count": 23,
   "metadata": {
    "collapsed": false
   },
   "outputs": [],
   "source": [
    "# Import data\n",
    "test_df = pd.read_csv(\"/home/jeremy/github_tornadoesr/data/raw/tor_test_set_no_zeros_mob_home.csv\")\n",
    "\n",
    "\n",
    "# Validation set outcomes\n",
    "test_outcomes = test_df.iloc[:, [0]]\n",
    "\n",
    "\n",
    "# Make the validation outcomes into a numpy array\n",
    "test_outcomes_array = test_outcomes.values\n",
    "\n",
    "\n",
    "# Makes the numpy array into a torch Tensor\n",
    "test_outcomes_Tensor = torch.from_numpy(test_outcomes_array)\n",
    "\n",
    "\n",
    "# Changing validation outcomes from a DoubleTensor to a FloatTensor\n",
    "test_outcomes_Tensor = test_outcomes_Tensor.float()\n",
    "\n",
    "\n",
    "# Make the Tensor into a Pytorch Variable\n",
    "test_outcomes_Variable = Variable(test_outcomes_Tensor)"
   ]
  },
  {
   "cell_type": "code",
   "execution_count": 24,
   "metadata": {
    "collapsed": true
   },
   "outputs": [],
   "source": [
    "# Validation set predictors\n",
    "test_predictors = test_df.iloc[:, 1:]\n",
    "\n",
    "\n",
    "# Make the validation predictors into a numpy array\n",
    "test_predictors_array = test_predictors.values\n",
    "\n",
    "\n",
    "# Makes the numpy array into a torch Tensor\n",
    "test_predictors_Tensor = torch.from_numpy(test_predictors_array)\n",
    "\n",
    "\n",
    "# Changing validation predictors from a DoubleTensor to a FloatTensor\n",
    "test_predictors_Tensor = test_predictors_Tensor.float()\n",
    "\n",
    "\n",
    "# Make the Tensor into a Pytorch Variable\n",
    "test_predictors_Variable = Variable(test_predictors_Tensor)"
   ]
  },
  {
   "cell_type": "code",
   "execution_count": 25,
   "metadata": {
    "collapsed": false
   },
   "outputs": [
    {
     "data": {
      "text/plain": [
       "Variable containing:\n",
       " 261.1981\n",
       "[torch.FloatTensor of size 1]"
      ]
     },
     "execution_count": 25,
     "metadata": {},
     "output_type": "execute_result"
    }
   ],
   "source": [
    "# Get the validation set predictions\n",
    "y_test_pred = model(test_predictors_Variable)\n",
    "\n",
    "\n",
    "# Print the loss\n",
    "loss_fn(y_test_pred,\n",
    "        test_outcomes_Variable)"
   ]
  },
  {
   "cell_type": "code",
   "execution_count": 26,
   "metadata": {
    "collapsed": false
   },
   "outputs": [],
   "source": [
    "# Get rid of the 2nd dimension of 1 from the FloatTensor\n",
    "y_test_pred_resized = y_test_pred.resize(2699)\n",
    "\n",
    "\n",
    "# Make the FloatTensor into a numpy.array\n",
    "y_test_pred_array = y_test_pred_resized.data.numpy()\n",
    "\n",
    "\n",
    "# Convert back to native units and scale\n",
    "y_test_pred_array = y_test_pred_array*5.41747 + 7.67485\n",
    "\n",
    "\n",
    "# Make the numpy.array into a list\n",
    "y_test_pred_list = y_test_pred_array.tolist()"
   ]
  },
  {
   "cell_type": "code",
   "execution_count": 27,
   "metadata": {
    "collapsed": true
   },
   "outputs": [],
   "source": [
    "# Get rid of the 2nd dimension of 1 from the FloatTensor\n",
    "test_outcomes_Variable_resized = test_outcomes_Variable.resize(2699)\n",
    "\n",
    "\n",
    "# Make the FloatTensor into a numpy.array\n",
    "test_outcomes_array = test_outcomes_Variable_resized.data.numpy()\n",
    "\n",
    "\n",
    "# Convert back to native units and scale\n",
    "test_outcomes_array = test_outcomes_array*5.41747 + 7.67485\n",
    "\n",
    "\n",
    "# Make the numpy.array into a list\n",
    "test_outcomes_list = test_outcomes_array.tolist()"
   ]
  },
  {
   "cell_type": "code",
   "execution_count": 28,
   "metadata": {
    "collapsed": false
   },
   "outputs": [
    {
     "data": {
      "text/plain": [
       "<matplotlib.text.Text at 0x7fb8c1ff0748>"
      ]
     },
     "execution_count": 28,
     "metadata": {},
     "output_type": "execute_result"
    },
    {
     "data": {
      "image/png": "[encoded data removed]",
      "text/plain": [
       "<matplotlib.figure.Figure at 0x7fb8c211a4a8>"
      ]
     },
     "metadata": {},
     "output_type": "display_data"
    }
   ],
   "source": [
    "# Plot new predictions versus new data outcomes\n",
    "plt.scatter(test_outcomes_list, y_test_pred_list, c = \"black\", alpha = 0.15)\n",
    "\n",
    "axes = plt.gca()\n",
    "\n",
    "axes.set_xlim([2, 23])\n",
    "\n",
    "axes.set_ylim([2, 23])\n",
    "\n",
    "axes.set_xticks([2, 5, 8, 11, 14, 17, 20, 23])\n",
    "\n",
    "axes.set_yticks([2, 5, 8, 11, 14, 17, 20, 23])\n",
    "\n",
    "plt.plot([2, 23], [2, 23], 'k-', lw=2)\n",
    "\n",
    "axes.set_xlabel(\"Actual Outcome (Log-Transformed US Dollars)\")\n",
    "\n",
    "axes.set_ylabel(\"Model Prediction (Log-Transformed US Dollars)\")\n",
    "\n",
    "axes.set_title(\"Model Performance\")"
   ]
  },
  {
   "cell_type": "code",
   "execution_count": 29,
   "metadata": {
    "collapsed": false
   },
   "outputs": [
    {
     "data": {
      "text/plain": [
       "Parameter containing:\n",
       "\n",
       "Columns 0 to 9 \n",
       " 0.0477 -0.0403 -0.0670  0.0079 -0.0799  0.1510  0.0672  0.1136  0.0335  0.1282\n",
       " 0.0754  0.0648  0.0368 -0.1022 -0.0924 -0.0167 -0.0590 -0.0463 -0.0221  0.0284\n",
       " 0.0376  0.1008 -0.1763  0.0041  0.0044 -0.2294  0.1014 -0.0395 -0.0527  0.0621\n",
       "-0.0207  0.1484  0.0212  0.1760 -0.0578  0.1269  0.1057  0.1278 -0.0155 -0.0792\n",
       " 0.1591 -0.0431  0.1528  0.0544 -0.0144 -0.0608  0.1269 -0.0372  0.1246  0.0350\n",
       " 0.0175  0.0153 -0.1384  0.1323  0.1431  0.0995  0.0461  0.0307 -0.0674 -0.0789\n",
       "-0.0983  0.0549  0.2145 -0.0869 -0.0642  0.0639 -0.1176 -0.1124 -0.0882 -0.0392\n",
       " 0.1029 -0.0491  0.1245  0.0866  0.1615  0.0855  0.0929 -0.0949 -0.0226 -0.0506\n",
       " 0.1358  0.1266  0.0110  0.0321  0.0508  0.0628 -0.1532 -0.0855 -0.0931  0.1476\n",
       "-0.1611 -0.0408  0.1884  0.1519 -0.0894  0.0043  0.0765 -0.1659 -0.2164 -0.0027\n",
       " 0.1034 -0.0632  0.0330 -0.0333  0.0698 -0.0684  0.0892 -0.0794 -0.0810  0.1189\n",
       " 0.0365  0.2694  0.0480  0.1521 -0.0098 -0.0571  0.0048 -0.0629  0.0418  0.1263\n",
       "-0.0046  0.2174  0.1964 -0.0317  0.2201 -0.1165  0.0431 -0.0133  0.1163 -0.1019\n",
       " 0.0496  0.0509  0.0338  0.0503  0.0687 -0.0715  0.0330 -0.0469 -0.0793 -0.0469\n",
       "-0.0756  0.0430  0.2055 -0.0437 -0.0018 -0.1338 -0.0716  0.1435  0.0587  0.1288\n",
       " 0.0998 -0.2056 -0.0262  0.0914  0.2108  0.0434  0.0997 -0.1387 -0.0295  0.2099\n",
       "-0.0116 -0.1887  0.0516 -0.0200  0.2699 -0.1552 -0.0265 -0.0127  0.1388 -0.0301\n",
       " 0.0549 -0.1687  0.0268 -0.0711  0.1682  0.0173 -0.0341 -0.1494  0.0901  0.0942\n",
       " 0.1774 -0.0674  0.0183  0.0237 -0.1680 -0.1763 -0.1065 -0.1087 -0.0706  0.0869\n",
       "-0.0598 -0.1105 -0.0163  0.0157  0.1348  0.2197 -0.0338  0.0056  0.2286  0.0172\n",
       "-0.0218  0.0157  0.1612 -0.2020 -0.1022  0.1672 -0.0437 -0.1360 -0.1721  0.1216\n",
       "\n",
       "Columns 10 to 19 \n",
       "-0.0123 -0.1677  0.1849 -0.0539 -0.0775  0.1349  0.0778 -0.0178 -0.0326  0.1302\n",
       "-0.0632 -0.0842 -0.1129  0.1254 -0.0269  0.0411 -0.1645  0.2147 -0.0784 -0.0244\n",
       "-0.0252 -0.0907  0.1208  0.0800  0.0146  0.0184 -0.0449  0.0159  0.0133 -0.0375\n",
       "-0.0421 -0.0908  0.0340 -0.0439 -0.1016  0.1632  0.1126 -0.1903 -0.1504  0.0830\n",
       "-0.0856  0.0796  0.1813  0.0238 -0.0461 -0.1054  0.0380 -0.0519  0.0700  0.0068\n",
       " 0.2815 -0.0489  0.0433 -0.1733  0.0322 -0.1256 -0.0145  0.0494 -0.0896 -0.1557\n",
       " 0.1720 -0.1074 -0.1260  0.0597  0.1588  0.0433  0.1650  0.0826 -0.1000  0.0702\n",
       "-0.1373 -0.0003  0.0961  0.0444  0.0311 -0.0003 -0.1375  0.0436 -0.1293 -0.0330\n",
       "-0.0817  0.1527  0.0924 -0.0596  0.1124  0.0290 -0.0225  0.0459  0.1721 -0.1723\n",
       " 0.0272 -0.0946  0.1150 -0.0520  0.1376  0.0575  0.0080  0.1285 -0.1213  0.1266\n",
       " 0.0480  0.0945  0.1564  0.0609  0.0164 -0.1424  0.0103  0.2288  0.0895 -0.1261\n",
       "-0.0812  0.0939 -0.1101  0.0276 -0.0376  0.1659 -0.2549 -0.0373 -0.0447  0.0877\n",
       "-0.0607  0.1033  0.0505 -0.0799  0.1683 -0.0322 -0.1062  0.1720 -0.0092  0.0977\n",
       "-0.0232  0.0159  0.2012  0.0950 -0.1713 -0.0959  0.0097  0.0973 -0.0440 -0.0660\n",
       "-0.1033 -0.0337  0.1465 -0.0056 -0.1120  0.1318 -0.1006  0.1156  0.0844  0.0595\n",
       "-0.0505  0.0420  0.0443 -0.0018  0.0743  0.0205 -0.0467 -0.1098  0.0528 -0.0768\n",
       " 0.0528 -0.0392 -0.1273  0.1143 -0.0955 -0.0369  0.0652  0.0608  0.0397  0.0571\n",
       "-0.1040  0.0297 -0.1015  0.0763  0.1492 -0.0534  0.0967 -0.1027  0.0090 -0.1021\n",
       " 0.0054 -0.1839 -0.1548  0.0274  0.1424 -0.1598 -0.1663 -0.0142 -0.1357 -0.0458\n",
       "-0.0119  0.0961 -0.0803 -0.1798 -0.1011  0.1369  0.0184 -0.1777  0.0149  0.0741\n",
       "-0.1177  0.1275  0.0175  0.1339  0.0764  0.0136  0.0303 -0.0313  0.0228  0.1429\n",
       "\n",
       "Columns 20 to 29 \n",
       "-0.0303  0.0657  0.0588 -0.1104  0.1089  0.1824  0.0066 -0.1530 -0.0213  0.0607\n",
       "-0.1137  0.0050  0.0114 -0.1248  0.0303 -0.1494  0.1619 -0.0560  0.0963  0.1157\n",
       "-0.0562 -0.0896 -0.1207 -0.0037  0.0185 -0.0104 -0.1146 -0.0745 -0.2361  0.1263\n",
       "-0.0006  0.1419  0.1243  0.0919  0.0944 -0.1281  0.1418 -0.1059 -0.1000  0.1012\n",
       " 0.0268  0.0122  0.1648 -0.0793  0.1681  0.0905 -0.1226 -0.1684  0.0252 -0.1072\n",
       " 0.0546  0.0440  0.0923  0.1230  0.1656 -0.0713  0.1995 -0.0295  0.0002 -0.0714\n",
       "-0.0704  0.1334  0.0435  0.1168  0.1407 -0.1344 -0.0773 -0.0629  0.0730 -0.0380\n",
       " 0.0755  0.0181  0.0680  0.0950  0.1801 -0.1170  0.1523  0.1799 -0.1033 -0.0796\n",
       " 0.0622  0.0951 -0.1624  0.1729  0.1006 -0.0563 -0.0500 -0.0022 -0.1699 -0.0505\n",
       "-0.0421 -0.0733  0.1027  0.0319 -0.0009 -0.0156  0.0488  0.0546 -0.0558  0.0575\n",
       " 0.0652  0.0395 -0.0521 -0.0794  0.1163  0.1130  0.0547  0.0220  0.2653  0.0177\n",
       " 0.0915  0.0010  0.1003  0.1484 -0.0479  0.0090  0.0057 -0.1026  0.0833  0.0200\n",
       "-0.0140 -0.0201  0.1243  0.1957  0.0244  0.1530  0.1232  0.1141  0.1116 -0.0165\n",
       " 0.1024 -0.0325  0.0905 -0.2141  0.0689  0.0878 -0.1050  0.0767  0.0654  0.2000\n",
       "-0.1166 -0.1488 -0.0041 -0.0623 -0.1152  0.1032 -0.1343  0.1368  0.1143 -0.0616\n",
       " 0.1898  0.0194  0.0266  0.0664 -0.0568  0.1119  0.1230  0.0957 -0.1320 -0.0012\n",
       "-0.0193  0.0130  0.0589  0.1112  0.1279 -0.1262  0.0772  0.0568 -0.0049  0.0615\n",
       " 0.0477 -0.0572 -0.0816  0.0667 -0.0678  0.0061  0.0760 -0.0542  0.0729  0.1359\n",
       "-0.0642  0.1297  0.1382 -0.0835  0.0765  0.0837 -0.0470  0.1094  0.0068 -0.0438\n",
       " 0.1482  0.1767  0.1397  0.0338  0.1040  0.1169 -0.1324 -0.0215 -0.1265  0.0082\n",
       " 0.1346 -0.0273  0.0211  0.0518 -0.0079  0.0119  0.1440  0.0566  0.0087 -0.0681\n",
       "\n",
       "Columns 30 to 31 \n",
       " 0.0960 -0.1435\n",
       " 0.0567 -0.0027\n",
       "-0.0622 -0.1444\n",
       "-0.1005 -0.0189\n",
       "-0.1091  0.1195\n",
       " 0.0966 -0.0555\n",
       "-0.2120  0.0976\n",
       " 0.0851 -0.0968\n",
       "-0.0894  0.1387\n",
       "-0.0647  0.1505\n",
       "-0.0292 -0.1556\n",
       " 0.0057 -0.0297\n",
       "-0.0460  0.1087\n",
       "-0.0102 -0.1226\n",
       "-0.0660  0.1724\n",
       "-0.0223 -0.1194\n",
       " 0.0196 -0.0431\n",
       "-0.0144 -0.1750\n",
       "-0.0866  0.1193\n",
       " 0.0880 -0.0497\n",
       "-0.0940  0.1380\n",
       "[torch.FloatTensor of size 21x32]"
      ]
     },
     "execution_count": 29,
     "metadata": {},
     "output_type": "execute_result"
    }
   ],
   "source": [
    "model[(0)].weight"
   ]
  },
  {
   "cell_type": "code",
   "execution_count": 30,
   "metadata": {
    "collapsed": false
   },
   "outputs": [
    {
     "data": {
      "text/plain": [
       "Parameter containing:\n",
       "\n",
       "Columns 0 to 9 \n",
       " 0.1798  0.1017 -0.2474  0.0881  0.0484  0.2184 -0.0801 -0.1309  0.1973  0.1758\n",
       "\n",
       "Columns 10 to 19 \n",
       "-0.2242  0.1685  0.1938  0.2435 -0.0381  0.1276  0.2837  0.1125 -0.0890 -0.2007\n",
       "\n",
       "Columns 20 to 20 \n",
       "-0.2009\n",
       "[torch.FloatTensor of size 1x21]"
      ]
     },
     "execution_count": 30,
     "metadata": {},
     "output_type": "execute_result"
    }
   ],
   "source": [
    "model[(2)].weight"
   ]
  },
  {
   "cell_type": "markdown",
   "metadata": {},
   "source": [
    "## Round 2: Two-Hidden-Layer Neural Network"
   ]
  },
  {
   "cell_type": "code",
   "execution_count": 31,
   "metadata": {
    "collapsed": true
   },
   "outputs": [],
   "source": [
    "# Make the torch Tensor into a PyTorch Variable for dependent variables\n",
    "outcomes_Variable = Variable(outcomes_Tensor)\n",
    "\n",
    "\n",
    "# ...for independent variables\n",
    "features_Variable = Variable(features_Tensor,\n",
    "                             requires_grad = False)"
   ]
  },
  {
   "cell_type": "code",
   "execution_count": 32,
   "metadata": {
    "collapsed": true
   },
   "outputs": [],
   "source": [
    "# Make the neural network\n",
    "model = torch.nn.Sequential(torch.nn.Linear(32, 21),\n",
    "                            torch.nn.ReLU(),\n",
    "                            torch.nn.Linear(21, 14),\n",
    "                            torch.nn.ReLU(),\n",
    "                            torch.nn.Linear(14, 1))"
   ]
  },
  {
   "cell_type": "code",
   "execution_count": 33,
   "metadata": {
    "collapsed": false
   },
   "outputs": [],
   "source": [
    "# To add errors to\n",
    "errors = []\n",
    "\n",
    "\n",
    "# Set the learning rate\n",
    "learning_rate = 6e-6\n",
    "\n",
    "\n",
    "# Train the neural network\n",
    "for t in range(10000):\n",
    "    \n",
    "    # Get the current predictions\n",
    "    y_pred = model(features_Variable)\n",
    "    \n",
    "    # Compute and append current summed errors\n",
    "    loss = loss_fn(y_pred, outcomes_Variable)\n",
    "    errors.append(loss.data[0])\n",
    "    \n",
    "    # Zero the gradients before running the backward pass.\n",
    "    model.zero_grad()\n",
    "    \n",
    "    # Backward pass: compute gradient of the loss with respect to all the learnable Variables\n",
    "    loss.backward()\n",
    "    \n",
    "    # Update the weights using gradient descent\n",
    "    for param in model.parameters():\n",
    "        param.data -= learning_rate * param.grad.data"
   ]
  },
  {
   "cell_type": "code",
   "execution_count": 34,
   "metadata": {
    "collapsed": false
   },
   "outputs": [
    {
     "data": {
      "text/plain": [
       "<matplotlib.collections.PathCollection at 0x7fb8c1f38fd0>"
      ]
     },
     "execution_count": 34,
     "metadata": {},
     "output_type": "execute_result"
    },
    {
     "data": {
      "image/png": "[encoded data removed]",
      "text/plain": [
       "<matplotlib.figure.Figure at 0x7fb8c2027da0>"
      ]
     },
     "metadata": {},
     "output_type": "display_data"
    }
   ],
   "source": [
    "# Plot summed error as a function of iteration\n",
    "plt.scatter(iterations, errors)"
   ]
  },
  {
   "cell_type": "code",
   "execution_count": 35,
   "metadata": {
    "collapsed": false
   },
   "outputs": [],
   "source": [
    "# Get rid of the 2nd dimension of 1 from the FloatTensor\n",
    "y_pred_resized = y_pred.resize(8230)\n",
    "\n",
    "\n",
    "# Make the FloatTensor into a numpy.array\n",
    "y_pred_array = y_pred_resized.data.numpy()\n",
    "\n",
    "\n",
    "# Make the numpy.array into a list\n",
    "y_pred_list = y_pred_array.tolist()"
   ]
  },
  {
   "cell_type": "code",
   "execution_count": 36,
   "metadata": {
    "collapsed": false
   },
   "outputs": [
    {
     "data": {
      "text/plain": [
       "[<matplotlib.lines.Line2D at 0x7fb8c208a470>]"
      ]
     },
     "execution_count": 36,
     "metadata": {},
     "output_type": "execute_result"
    },
    {
     "data": {
      "image/png": "[encoded data removed]",
      "text/plain": [
       "<matplotlib.figure.Figure at 0x7fb8c208a7b8>"
      ]
     },
     "metadata": {},
     "output_type": "display_data"
    }
   ],
   "source": [
    "# Plot predictions versus training set outcomes\n",
    "plt.scatter(outcomes_list, y_pred_list, c = \"black\", alpha = 0.15)\n",
    "\n",
    "axes = plt.gca()\n",
    "\n",
    "axes.set_xlim([-2, 4])\n",
    "\n",
    "axes.set_ylim([-2, 4])\n",
    "\n",
    "plt.plot([-2, 4], [-2, 4], 'k-', lw=2)"
   ]
  },
  {
   "cell_type": "markdown",
   "metadata": {},
   "source": [
    "### Round 2.1: Validation Set Performance"
   ]
  },
  {
   "cell_type": "code",
   "execution_count": 37,
   "metadata": {
    "collapsed": false
   },
   "outputs": [
    {
     "data": {
      "text/plain": [
       "Variable containing:\n",
       " 276.0473\n",
       "[torch.FloatTensor of size 1]"
      ]
     },
     "execution_count": 37,
     "metadata": {},
     "output_type": "execute_result"
    }
   ],
   "source": [
    "# Get the validation set predictions\n",
    "y_valid_pred = model(valid_predictors_Variable)\n",
    "\n",
    "\n",
    "# Print the loss\n",
    "loss_fn(y_valid_pred,\n",
    "        valid_outcomes_Variable)"
   ]
  },
  {
   "cell_type": "code",
   "execution_count": 38,
   "metadata": {
    "collapsed": false
   },
   "outputs": [],
   "source": [
    "# Get rid of the 2nd dimension of 1 from the FloatTensor\n",
    "y_valid_pred_resized = y_valid_pred.resize(2748)\n",
    "\n",
    "\n",
    "# Make the FloatTensor into a numpy.array\n",
    "y_valid_pred_array = y_valid_pred_resized.data.numpy()\n",
    "\n",
    "\n",
    "# Make the numpy.array into a list\n",
    "y_valid_pred_list = y_valid_pred_array.tolist()"
   ]
  },
  {
   "cell_type": "code",
   "execution_count": 39,
   "metadata": {
    "collapsed": false
   },
   "outputs": [
    {
     "data": {
      "text/plain": [
       "[<matplotlib.lines.Line2D at 0x7fb8c1e57e80>]"
      ]
     },
     "execution_count": 39,
     "metadata": {},
     "output_type": "execute_result"
    },
    {
     "data": {
      "image/png": "[encoded data removed]",
      "text/plain": [
       "<matplotlib.figure.Figure at 0x7fb8c1ee1e10>"
      ]
     },
     "metadata": {},
     "output_type": "display_data"
    }
   ],
   "source": [
    "# Plot new predictions versus new data outcomes\n",
    "plt.scatter(valid_outcomes_list, y_valid_pred_list, c = \"black\", alpha = 0.15)\n",
    "\n",
    "axes = plt.gca()\n",
    "\n",
    "axes.set_xlim([-2, 4])\n",
    "\n",
    "axes.set_ylim([-2, 4])\n",
    "\n",
    "plt.plot([-2, 4], [-2, 4], 'k-', lw=2)"
   ]
  },
  {
   "cell_type": "markdown",
   "metadata": {},
   "source": [
    "### Round 2.2: Test Set Performance"
   ]
  },
  {
   "cell_type": "code",
   "execution_count": 40,
   "metadata": {
    "collapsed": false
   },
   "outputs": [
    {
     "data": {
      "text/plain": [
       "Variable containing:\n",
       " 260.1563\n",
       "[torch.FloatTensor of size 1]"
      ]
     },
     "execution_count": 40,
     "metadata": {},
     "output_type": "execute_result"
    }
   ],
   "source": [
    "# Get the validation set predictions\n",
    "y_test_pred = model(test_predictors_Variable)\n",
    "\n",
    "\n",
    "# Print the loss\n",
    "loss_fn(y_test_pred,\n",
    "        test_outcomes_Variable)"
   ]
  },
  {
   "cell_type": "code",
   "execution_count": 41,
   "metadata": {
    "collapsed": true
   },
   "outputs": [],
   "source": [
    "# Get rid of the 2nd dimension of 1 from the FloatTensor\n",
    "y_test_pred_resized = y_test_pred.resize(2699)\n",
    "\n",
    "\n",
    "# Make the FloatTensor into a numpy.array\n",
    "y_test_pred_array = y_test_pred_resized.data.numpy()\n",
    "\n",
    "\n",
    "# Convert back to native units and scale\n",
    "y_test_pred_array = y_test_pred_array*5.41747 + 7.67485\n",
    "\n",
    "\n",
    "# Make the numpy.array into a list\n",
    "y_test_pred_list = y_test_pred_array.tolist()"
   ]
  },
  {
   "cell_type": "code",
   "execution_count": 42,
   "metadata": {
    "collapsed": false
   },
   "outputs": [
    {
     "data": {
      "text/plain": [
       "<matplotlib.text.Text at 0x7fb8c1dbe748>"
      ]
     },
     "execution_count": 42,
     "metadata": {},
     "output_type": "execute_result"
    },
    {
     "data": {
      "image/png": "[encoded data removed]",
      "text/plain": [
       "<matplotlib.figure.Figure at 0x7fb8c1ea2390>"
      ]
     },
     "metadata": {},
     "output_type": "display_data"
    }
   ],
   "source": [
    "# Plot new predictions versus new data outcomes\n",
    "plt.scatter(test_outcomes_list, y_test_pred_list, c = \"black\", alpha = 0.15)\n",
    "\n",
    "axes = plt.gca()\n",
    "\n",
    "axes.set_xlim([2, 23])\n",
    "\n",
    "axes.set_ylim([2, 23])\n",
    "\n",
    "axes.set_xticks([2, 5, 8, 11, 14, 17, 20, 23])\n",
    "\n",
    "axes.set_yticks([2, 5, 8, 11, 14, 17, 20, 23])\n",
    "\n",
    "plt.plot([2, 23], [2, 23], 'k-', lw=2)\n",
    "\n",
    "axes.set_xlabel(\"Actual Outcome (Log-Transformed US Dollars)\")\n",
    "\n",
    "axes.set_ylabel(\"Model Prediction (Log-Transformed US Dollars)\")\n",
    "\n",
    "axes.set_title(\"Model Performance\")"
   ]
  },
  {
   "cell_type": "code",
   "execution_count": 43,
   "metadata": {
    "collapsed": false
   },
   "outputs": [
    {
     "data": {
      "text/plain": [
       "Parameter containing:\n",
       "\n",
       "Columns 0 to 9 \n",
       " 0.1667  0.2029  0.0652 -0.1042 -0.0666  0.0017 -0.0084  0.0981  0.0361  0.0577\n",
       "-0.0326  0.1247  0.0628  0.0414  0.0633  0.1582 -0.0326 -0.1683  0.0487 -0.0979\n",
       " 0.0629 -0.1037  0.0529  0.0874  0.2984  0.0365  0.2627  0.0197  0.0031  0.0013\n",
       " 0.0200 -0.1013 -0.1373 -0.0177 -0.1304 -0.0209 -0.0528  0.0752 -0.0630  0.1081\n",
       " 0.0355  0.1913  0.1036  0.1685  0.0909 -0.0415 -0.0137  0.0591 -0.0470 -0.0339\n",
       "-0.0156 -0.2142  0.1597  0.0214  0.1942 -0.2351  0.0848 -0.0084  0.0537 -0.0802\n",
       " 0.0693  0.1853 -0.0741  0.0226  0.1806 -0.0967 -0.0058  0.0043  0.0606 -0.1481\n",
       "-0.0078 -0.2085  0.0558 -0.0057 -0.2214  0.0147  0.0397  0.1362 -0.2394 -0.1288\n",
       "-0.0443  0.0522 -0.0042 -0.0412 -0.1620 -0.1810 -0.0294 -0.0771  0.1316 -0.0522\n",
       " 0.1534 -0.0341 -0.0323  0.1855 -0.1303  0.1169  0.0626 -0.0645 -0.0221 -0.0677\n",
       " 0.1736  0.0204 -0.1703  0.0413 -0.1839  0.0826  0.0643 -0.1569  0.1349  0.1456\n",
       "-0.0346 -0.0555 -0.1430  0.1542 -0.0488  0.0208 -0.1682  0.0065  0.1679  0.0915\n",
       " 0.0421  0.0678 -0.2564 -0.0123 -0.1574 -0.2671  0.0604  0.0515 -0.1789  0.1542\n",
       "-0.0565  0.0784 -0.0401  0.2736  0.1077 -0.1894 -0.1837 -0.1698 -0.0439  0.2007\n",
       " 0.2107  0.0043  0.0230  0.2395 -0.0158 -0.1059 -0.1342 -0.0111 -0.0681  0.0057\n",
       " 0.1227 -0.0991  0.0402  0.1757 -0.0469  0.0113  0.0083 -0.1959  0.0005 -0.2011\n",
       "-0.1076 -0.0429  0.0622  0.0166 -0.0234 -0.2294  0.0771  0.0127 -0.1285 -0.1136\n",
       "-0.0290  0.0287 -0.1129  0.0867  0.1565  0.1277 -0.0517 -0.0519  0.0923  0.0959\n",
       " 0.0467 -0.1559  0.0335 -0.0050  0.0188  0.1251 -0.1988  0.0403  0.1199  0.0746\n",
       " 0.2147 -0.0229  0.1427  0.1538  0.0381 -0.1767 -0.0142  0.0167  0.0687  0.1324\n",
       "-0.1400  0.0937  0.2283  0.0635  0.0067  0.0929 -0.1006 -0.0886  0.0397  0.1649\n",
       "\n",
       "Columns 10 to 19 \n",
       " 0.1114 -0.1849  0.1909 -0.1524  0.0853 -0.0377  0.1963 -0.1762 -0.1086  0.0230\n",
       " 0.0839 -0.1033  0.1468 -0.1109  0.1435 -0.0933 -0.1696  0.2813 -0.0750  0.2298\n",
       " 0.0412  0.1156  0.0304  0.1082 -0.0801 -0.1180 -0.0322 -0.0862 -0.1008  0.1535\n",
       "-0.0152  0.0715 -0.1482  0.0902  0.0351  0.1702 -0.2159  0.0112  0.0728 -0.1561\n",
       " 0.0754 -0.1631 -0.0246  0.0400 -0.0220  0.1514 -0.2826 -0.0663  0.0412 -0.0146\n",
       " 0.0393 -0.0034 -0.1258  0.0253  0.0251 -0.1418  0.1207 -0.0856  0.0909 -0.0221\n",
       "-0.0963  0.0920 -0.0025  0.0478  0.0814  0.1157  0.0470  0.2667 -0.0210 -0.2327\n",
       " 0.0676  0.0950 -0.0692 -0.0332 -0.0650  0.0498 -0.1147 -0.1622  0.0082 -0.0655\n",
       " 0.0473 -0.0477 -0.1958 -0.0535 -0.1441 -0.0455  0.0068  0.0400 -0.0186  0.1219\n",
       "-0.1508  0.0671  0.1991  0.0971 -0.1926 -0.1718  0.1216 -0.0580  0.0148  0.0042\n",
       "-0.1173 -0.0491  0.0895  0.0808 -0.1642 -0.1378 -0.0201  0.0739  0.1954  0.1447\n",
       "-0.0024  0.0538 -0.1190 -0.0042  0.1910  0.1605 -0.0441  0.0853 -0.0445  0.1377\n",
       " 0.1382 -0.0456  0.0093  0.0318  0.0766 -0.1087  0.0140  0.0331 -0.0601  0.0180\n",
       "-0.0058  0.0493  0.1758 -0.1270  0.0582 -0.0897  0.1082  0.1374  0.0599  0.0695\n",
       "-0.0797 -0.0571  0.1273  0.1632  0.1092  0.0556 -0.1646 -0.1802 -0.1495 -0.0987\n",
       " 0.0059 -0.0852  0.0717 -0.0361 -0.0861 -0.1079 -0.0757  0.0267 -0.0336 -0.0253\n",
       "-0.0561 -0.0062 -0.0298  0.2044 -0.1610 -0.0815 -0.1988  0.1343  0.1049 -0.1488\n",
       " 0.1643 -0.0359 -0.0657  0.1414  0.0154  0.0628  0.0250  0.0781  0.0111  0.0619\n",
       " 0.0019 -0.0197  0.0771  0.0777 -0.0420 -0.0450 -0.0046  0.0262  0.0899 -0.1187\n",
       "-0.1261  0.0726  0.1374 -0.1918 -0.0669  0.0764  0.1182  0.0641  0.1562  0.0087\n",
       " 0.1599 -0.0501  0.0269  0.1607  0.0339 -0.0846  0.1394 -0.1078  0.1467  0.0230\n",
       "\n",
       "Columns 20 to 29 \n",
       " 0.0710 -0.0679  0.1720 -0.1014  0.0694  0.0236  0.1281  0.0348 -0.0158  0.0563\n",
       "-0.0161  0.1221  0.0863  0.1276 -0.0781  0.0653 -0.1470 -0.2278  0.0213  0.0606\n",
       "-0.0041  0.1172 -0.0090  0.1056 -0.1632 -0.0312 -0.0328  0.1471 -0.0197  0.0246\n",
       " 0.0929  0.0785  0.0973  0.0158  0.1613 -0.2039 -0.0464  0.0095  0.0359  0.0131\n",
       " 0.0650  0.0843  0.1321 -0.0224  0.0855 -0.0676  0.1227  0.0082  0.0054  0.1448\n",
       "-0.0697  0.0023 -0.0699  0.1188 -0.1234 -0.0352  0.1392  0.2047  0.1695  0.1547\n",
       " 0.0162 -0.1187 -0.0843 -0.0587 -0.0169 -0.0246  0.1377 -0.0367  0.0770  0.0010\n",
       " 0.0220  0.1055 -0.2072  0.1742  0.0242 -0.0178 -0.0902  0.2312  0.0616 -0.1195\n",
       " 0.0133  0.0657  0.1090  0.0682  0.0904 -0.0402  0.1868  0.0178  0.0974 -0.2123\n",
       " 0.0513 -0.0954  0.0826  0.0217  0.1026  0.0877  0.0680 -0.0821  0.1521  0.1058\n",
       "-0.1149  0.1385  0.0781 -0.0625  0.0261 -0.0558  0.1240 -0.1464  0.1970 -0.1583\n",
       " 0.0526 -0.0596  0.1029 -0.0265  0.0206  0.1364 -0.0479  0.1465 -0.0839 -0.2442\n",
       "-0.1773  0.0024 -0.1545 -0.0460  0.0598 -0.0663 -0.1331  0.0211  0.0406  0.0154\n",
       "-0.0873  0.1431  0.0731  0.0284  0.1967  0.0057  0.0286 -0.0705 -0.0633 -0.0235\n",
       "-0.0774 -0.1148  0.0299  0.0345 -0.0331 -0.1109  0.0078  0.0660  0.0031 -0.0903\n",
       "-0.0958 -0.1145  0.0858 -0.0116  0.0980  0.1549  0.0030  0.0920  0.0596 -0.1150\n",
       " 0.0562 -0.1159 -0.0409  0.0935  0.1689 -0.0625  0.0369 -0.2236 -0.1796  0.1359\n",
       "-0.0059 -0.0302  0.1603  0.2943 -0.0385  0.0936  0.0251 -0.1037  0.0431 -0.0353\n",
       " 0.0037 -0.0270  0.1314 -0.0042 -0.0564  0.0424  0.1933 -0.0224  0.0182  0.1326\n",
       " 0.1540  0.1738  0.0690  0.1386 -0.0019  0.1132  0.0288  0.0271 -0.1403  0.1615\n",
       " 0.1280  0.1602  0.0414 -0.0780  0.1594 -0.1631 -0.0797  0.1054  0.1661 -0.0061\n",
       "\n",
       "Columns 30 to 31 \n",
       " 0.1088 -0.0486\n",
       " 0.1192 -0.1531\n",
       "-0.1801  0.0482\n",
       " 0.0488  0.0417\n",
       "-0.0579 -0.1217\n",
       " 0.1530 -0.0850\n",
       " 0.0764 -0.0529\n",
       " 0.1757  0.0580\n",
       " 0.1254 -0.0490\n",
       " 0.1984 -0.1655\n",
       " 0.0215 -0.1328\n",
       " 0.2455 -0.2399\n",
       "-0.0892 -0.1113\n",
       "-0.0584  0.1159\n",
       " 0.0668  0.0234\n",
       "-0.0366  0.2304\n",
       " 0.2207  0.0044\n",
       "-0.1823  0.0590\n",
       " 0.0988  0.1086\n",
       " 0.0192 -0.0363\n",
       "-0.1074  0.0563\n",
       "[torch.FloatTensor of size 21x32]"
      ]
     },
     "execution_count": 43,
     "metadata": {},
     "output_type": "execute_result"
    }
   ],
   "source": [
    "model[(0)].weight"
   ]
  },
  {
   "cell_type": "code",
   "execution_count": 44,
   "metadata": {
    "collapsed": false
   },
   "outputs": [
    {
     "data": {
      "text/plain": [
       "Parameter containing:\n",
       "\n",
       "Columns 0 to 9 \n",
       " 0.1750 -0.1116  0.1716  0.0591  0.2193  0.1427  0.1249 -0.4166  0.1356 -0.1554\n",
       "-0.1528  0.0196 -0.2094  0.0871 -0.1170 -0.0173  0.1334  0.1949  0.0811 -0.0593\n",
       " 0.1572 -0.2039  0.0184 -0.0961 -0.0777  0.1352  0.0156 -0.1994 -0.1817 -0.0871\n",
       "-0.0320  0.1976 -0.1585  0.0150 -0.1761 -0.1321 -0.2388 -0.2296 -0.1134  0.1529\n",
       " 0.0595 -0.0543  0.1441  0.1588 -0.0611 -0.2076 -0.0874 -0.1163 -0.1029 -0.2070\n",
       "-0.0121 -0.2529  0.3177 -0.0412  0.2266  0.0423 -0.1040 -0.1263 -0.1690 -0.0341\n",
       " 0.0435 -0.3944 -0.2055 -0.2189  0.2388 -0.1460  0.0695 -0.1007  0.1028 -0.2361\n",
       "-0.2419 -0.0453 -0.2020 -0.2296 -0.1611  0.1716  0.1614  0.0688 -0.0264  0.1583\n",
       " 0.1957 -0.0361 -0.0289  0.2145  0.0669  0.0673  0.1707 -0.1450  0.1597 -0.0978\n",
       " 0.0472  0.1503 -0.0420 -0.1439  0.0107  0.1692 -0.0326 -0.0489  0.0187  0.0355\n",
       "-0.1388  0.0506  0.1205 -0.0093  0.0741 -0.1998 -0.0444 -0.0196 -0.1098  0.2668\n",
       " 0.2445  0.0415  0.1565  0.0895  0.2179  0.0500  0.1178  0.0168  0.0291  0.0813\n",
       "-0.1528  0.1517  0.1880 -0.0247 -0.1277 -0.1572 -0.2018 -0.0004 -0.0811  0.2049\n",
       " 0.0359 -0.0518 -0.1182  0.0288  0.0642  0.1281 -0.1991  0.0538  0.1672 -0.1613\n",
       "\n",
       "Columns 10 to 19 \n",
       "-0.2267 -0.1503 -0.2286  0.2266 -0.2271 -0.0019  0.1833  0.1591 -0.0439  0.0417\n",
       "-0.0525  0.1777  0.1099 -0.1961  0.1267  0.1647  0.1759  0.1224 -0.1415  0.1259\n",
       " 0.1605 -0.2024 -0.1400  0.1500 -0.1320  0.0026  0.0236  0.1229  0.1189  0.1566\n",
       "-0.0712  0.0640  0.2004  0.1894  0.0201  0.1681  0.1500  0.0534 -0.0850  0.1966\n",
       "-0.1050 -0.0294  0.1733 -0.0904 -0.2466 -0.1545  0.1950  0.1650  0.0457 -0.2407\n",
       " 0.1561 -0.1061 -0.0879 -0.0760 -0.1487 -0.0660  0.0444 -0.0265  0.0005 -0.1403\n",
       " 0.1654  0.1533  0.0252 -0.1742  0.1395 -0.1158  0.3480 -0.2300 -0.0424 -0.0067\n",
       "-0.1162  0.1066 -0.2014 -0.2266  0.0177 -0.1558  0.0274 -0.1130 -0.2041 -0.1934\n",
       " 0.1053  0.0462  0.0285 -0.1430  0.1271  0.0256 -0.0368  0.1832 -0.1783  0.1861\n",
       "-0.0330  0.0880  0.0833  0.2221  0.1510  0.1860 -0.0482  0.0696  0.1756  0.0806\n",
       "-0.0325 -0.3917  0.2041  0.2163  0.0239 -0.0743 -0.0845  0.0427  0.2135  0.2137\n",
       " 0.2073  0.2403 -0.3080 -0.0784 -0.0230  0.0427  0.0185 -0.0353  0.1797 -0.2687\n",
       " 0.0333  0.0469  0.0125  0.2275 -0.0449  0.0305 -0.2121 -0.0859 -0.0176 -0.1611\n",
       "-0.0471 -0.0924  0.0677 -0.2138 -0.1966  0.1625 -0.0475  0.2620 -0.0202 -0.0431\n",
       "\n",
       "Columns 20 to 20 \n",
       " 0.0338\n",
       " 0.0884\n",
       " 0.0180\n",
       " 0.1370\n",
       " 0.1485\n",
       " 0.0530\n",
       "-0.1214\n",
       " 0.0044\n",
       "-0.0957\n",
       "-0.0703\n",
       "-0.2250\n",
       "-0.3166\n",
       "-0.1925\n",
       " 0.1882\n",
       "[torch.FloatTensor of size 14x21]"
      ]
     },
     "execution_count": 44,
     "metadata": {},
     "output_type": "execute_result"
    }
   ],
   "source": [
    "model[(2)].weight"
   ]
  },
  {
   "cell_type": "code",
   "execution_count": 45,
   "metadata": {
    "collapsed": false
   },
   "outputs": [
    {
     "data": {
      "text/plain": [
       "Parameter containing:\n",
       "\n",
       "Columns 0 to 9 \n",
       " 0.6433  0.1901 -0.1577 -0.4201 -0.3107 -0.3938 -0.5881 -0.4312  0.1572  0.1332\n",
       "\n",
       "Columns 10 to 13 \n",
       " 0.5784  0.4660  0.0554  0.1384\n",
       "[torch.FloatTensor of size 1x14]"
      ]
     },
     "execution_count": 45,
     "metadata": {},
     "output_type": "execute_result"
    }
   ],
   "source": [
    "model[(4)].weight"
   ]
  },
  {
   "cell_type": "markdown",
   "metadata": {},
   "source": [
    "## Round 3: Three-Hidden-Layer Neural Network"
   ]
  },
  {
   "cell_type": "code",
   "execution_count": 46,
   "metadata": {
    "collapsed": true
   },
   "outputs": [],
   "source": [
    "# Make the torch Tensor into a PyTorch Variable for dependent variables\n",
    "outcomes_Variable = Variable(outcomes_Tensor)\n",
    "\n",
    "\n",
    "# ...for independent variables\n",
    "features_Variable = Variable(features_Tensor,\n",
    "                             requires_grad = False)"
   ]
  },
  {
   "cell_type": "code",
   "execution_count": 47,
   "metadata": {
    "collapsed": false
   },
   "outputs": [],
   "source": [
    "# Make the neural network\n",
    "model = torch.nn.Sequential(torch.nn.Linear(32, 21),\n",
    "                            torch.nn.ReLU(),\n",
    "                            torch.nn.Linear(21, 14),\n",
    "                            torch.nn.ReLU(),\n",
    "                            torch.nn.Linear(14, 9),\n",
    "                            torch.nn.ReLU(),\n",
    "                            torch.nn.Linear(9, 1))"
   ]
  },
  {
   "cell_type": "code",
   "execution_count": 48,
   "metadata": {
    "collapsed": false
   },
   "outputs": [],
   "source": [
    "# To add errors to\n",
    "errors = []\n",
    "\n",
    "\n",
    "# Set the learning rate\n",
    "learning_rate = 5e-6\n",
    "\n",
    "\n",
    "# Train the neural network\n",
    "for t in range(10000):\n",
    "    \n",
    "    # Get the current predictions\n",
    "    y_pred = model(features_Variable)\n",
    "    \n",
    "    # Compute and append current summed errors\n",
    "    loss = loss_fn(y_pred, outcomes_Variable)\n",
    "    errors.append(loss.data[0])\n",
    "    \n",
    "    # Zero the gradients before running the backward pass.\n",
    "    model.zero_grad()\n",
    "    \n",
    "    # Backward pass: compute gradient of the loss with respect to all the learnable Variables\n",
    "    loss.backward()\n",
    "    \n",
    "    # Update the weights using gradient descent\n",
    "    for param in model.parameters():\n",
    "        param.data -= learning_rate * param.grad.data"
   ]
  },
  {
   "cell_type": "code",
   "execution_count": 49,
   "metadata": {
    "collapsed": false
   },
   "outputs": [
    {
     "data": {
      "text/plain": [
       "<matplotlib.collections.PathCollection at 0x7fb8c1cfed30>"
      ]
     },
     "execution_count": 49,
     "metadata": {},
     "output_type": "execute_result"
    },
    {
     "data": {
      "image/png": "[encoded data removed]",
      "text/plain": [
       "<matplotlib.figure.Figure at 0x7fb8c1d8c908>"
      ]
     },
     "metadata": {},
     "output_type": "display_data"
    }
   ],
   "source": [
    "# Plot summed error as a function of iteration\n",
    "plt.scatter(iterations, errors)"
   ]
  },
  {
   "cell_type": "code",
   "execution_count": 50,
   "metadata": {
    "collapsed": true
   },
   "outputs": [],
   "source": [
    "# Get rid of the 2nd dimension of 1 from the FloatTensor\n",
    "y_pred_resized = y_pred.resize(8230)\n",
    "\n",
    "\n",
    "# Make the FloatTensor into a numpy.array\n",
    "y_pred_array = y_pred_resized.data.numpy()\n",
    "\n",
    "\n",
    "# Make the numpy.array into a list\n",
    "y_pred_list = y_pred_array.tolist()"
   ]
  },
  {
   "cell_type": "code",
   "execution_count": 51,
   "metadata": {
    "collapsed": false
   },
   "outputs": [
    {
     "data": {
      "text/plain": [
       "[<matplotlib.lines.Line2D at 0x7fb8c1f7c588>]"
      ]
     },
     "execution_count": 51,
     "metadata": {},
     "output_type": "execute_result"
    },
    {
     "data": {
      "image/png": "[encoded data removed]",
      "text/plain": [
       "<matplotlib.figure.Figure at 0x7fb8c1f7cb00>"
      ]
     },
     "metadata": {},
     "output_type": "display_data"
    }
   ],
   "source": [
    "# Plot predictions versus training set outcomes\n",
    "plt.scatter(outcomes_list, y_pred_list, c = \"black\", alpha = 0.15)\n",
    "\n",
    "axes = plt.gca()\n",
    "\n",
    "axes.set_xlim([-2, 4])\n",
    "\n",
    "axes.set_ylim([-2, 4])\n",
    "\n",
    "plt.plot([-2, 4], [-2, 4], 'k-', lw=2)"
   ]
  },
  {
   "cell_type": "markdown",
   "metadata": {},
   "source": [
    "### Round 3.1: Validation Set Performance"
   ]
  },
  {
   "cell_type": "code",
   "execution_count": 52,
   "metadata": {
    "collapsed": false
   },
   "outputs": [
    {
     "data": {
      "text/plain": [
       "Variable containing:\n",
       " 272.7820\n",
       "[torch.FloatTensor of size 1]"
      ]
     },
     "execution_count": 52,
     "metadata": {},
     "output_type": "execute_result"
    }
   ],
   "source": [
    "# Get the validation set predictions\n",
    "y_valid_pred = model(valid_predictors_Variable)\n",
    "\n",
    "\n",
    "# Print the loss\n",
    "loss_fn(y_valid_pred,\n",
    "        valid_outcomes_Variable)"
   ]
  },
  {
   "cell_type": "code",
   "execution_count": 53,
   "metadata": {
    "collapsed": false
   },
   "outputs": [],
   "source": [
    "# Get rid of the 2nd dimension of 1 from the FloatTensor\n",
    "y_valid_pred_resized = y_valid_pred.resize(2748)\n",
    "\n",
    "\n",
    "# Make the FloatTensor into a numpy.array\n",
    "y_valid_pred_array = y_valid_pred_resized.data.numpy()\n",
    "\n",
    "\n",
    "# Make the numpy.array into a list\n",
    "y_valid_pred_list = y_valid_pred_array.tolist()"
   ]
  },
  {
   "cell_type": "code",
   "execution_count": 54,
   "metadata": {
    "collapsed": false
   },
   "outputs": [
    {
     "data": {
      "text/plain": [
       "[<matplotlib.lines.Line2D at 0x7fb8c1caf748>]"
      ]
     },
     "execution_count": 54,
     "metadata": {},
     "output_type": "execute_result"
    },
    {
     "data": {
      "image/png": "[encoded data removed]",
      "text/plain": [
       "<matplotlib.figure.Figure at 0x7fb8c1caf160>"
      ]
     },
     "metadata": {},
     "output_type": "display_data"
    }
   ],
   "source": [
    "# Plot new predictions versus new data outcomes\n",
    "plt.scatter(valid_outcomes_list, y_valid_pred_list, c = \"black\", alpha = 0.15)\n",
    "\n",
    "axes = plt.gca()\n",
    "\n",
    "axes.set_xlim([-2, 4])\n",
    "\n",
    "axes.set_ylim([-2, 4])\n",
    "\n",
    "plt.plot([-2, 4], [-2, 4], 'k-', lw=2)"
   ]
  },
  {
   "cell_type": "markdown",
   "metadata": {},
   "source": [
    "### Round 3.2: Test Set Performance"
   ]
  },
  {
   "cell_type": "code",
   "execution_count": 55,
   "metadata": {
    "collapsed": false
   },
   "outputs": [
    {
     "data": {
      "text/plain": [
       "Variable containing:\n",
       " 264.7704\n",
       "[torch.FloatTensor of size 1]"
      ]
     },
     "execution_count": 55,
     "metadata": {},
     "output_type": "execute_result"
    }
   ],
   "source": [
    "# Get the validation set predictions\n",
    "y_test_pred = model(test_predictors_Variable)\n",
    "\n",
    "\n",
    "# Print the loss\n",
    "loss_fn(y_test_pred,\n",
    "        test_outcomes_Variable)"
   ]
  },
  {
   "cell_type": "code",
   "execution_count": 56,
   "metadata": {
    "collapsed": true
   },
   "outputs": [],
   "source": [
    "# Get rid of the 2nd dimension of 1 from the FloatTensor\n",
    "y_test_pred_resized = y_test_pred.resize(2699)\n",
    "\n",
    "\n",
    "# Make the FloatTensor into a numpy.array\n",
    "y_test_pred_array = y_test_pred_resized.data.numpy()\n",
    "\n",
    "\n",
    "# Convert back to native units and scale\n",
    "y_test_pred_array = y_test_pred_array*5.41747 + 7.67485\n",
    "\n",
    "\n",
    "# Make the numpy.array into a list\n",
    "y_test_pred_list = y_test_pred_array.tolist()"
   ]
  },
  {
   "cell_type": "code",
   "execution_count": 57,
   "metadata": {
    "collapsed": false
   },
   "outputs": [
    {
     "data": {
      "text/plain": [
       "<matplotlib.text.Text at 0x7fb8c1b86470>"
      ]
     },
     "execution_count": 57,
     "metadata": {},
     "output_type": "execute_result"
    },
    {
     "data": {
      "image/png": "[encoded data removed]",
      "text/plain": [
       "<matplotlib.figure.Figure at 0x7fb8c1bb2400>"
      ]
     },
     "metadata": {},
     "output_type": "display_data"
    }
   ],
   "source": [
    "# Plot new predictions versus new data outcomes\n",
    "plt.scatter(test_outcomes_list, y_test_pred_list, c = \"black\", alpha = 0.15)\n",
    "\n",
    "axes = plt.gca()\n",
    "\n",
    "axes.set_xlim([2, 23])\n",
    "\n",
    "axes.set_ylim([2, 23])\n",
    "\n",
    "axes.set_xticks([2, 5, 8, 11, 14, 17, 20, 23])\n",
    "\n",
    "axes.set_yticks([2, 5, 8, 11, 14, 17, 20, 23])\n",
    "\n",
    "plt.plot([2, 23], [2, 23], 'k-', lw=2)\n",
    "\n",
    "axes.set_xlabel(\"Actual Outcome (Log-Transformed US Dollars)\")\n",
    "\n",
    "axes.set_ylabel(\"Model Prediction (Log-Transformed US Dollars)\")\n",
    "\n",
    "axes.set_title(\"Model Performance\")"
   ]
  },
  {
   "cell_type": "code",
   "execution_count": 58,
   "metadata": {
    "collapsed": false
   },
   "outputs": [
    {
     "data": {
      "text/plain": [
       "Parameter containing:\n",
       "\n",
       "Columns 0 to 9 \n",
       " 0.0563  0.0831 -0.1808  0.2467 -0.0727 -0.2191  0.1507  0.0370 -0.0115 -0.0341\n",
       " 0.0800  0.1319  0.0650  0.1807  0.0540 -0.0885  0.0037 -0.0566 -0.0304 -0.0474\n",
       " 0.0282  0.0832 -0.0596 -0.1787 -0.1423  0.0970 -0.0441 -0.0724 -0.1093 -0.0381\n",
       " 0.0111  0.0572 -0.0076  0.0009  0.0239 -0.1101 -0.1104  0.1418 -0.0406  0.0935\n",
       "-0.0562  0.1131 -0.0905  0.0291 -0.2043  0.0432 -0.0520 -0.1154 -0.0859  0.0600\n",
       "-0.0817 -0.1248 -0.0218  0.1056 -0.1874 -0.0543 -0.0563 -0.0158  0.0348 -0.1023\n",
       "-0.0480 -0.0552  0.0158 -0.1239  0.0320  0.0693 -0.1348 -0.1018 -0.0779 -0.1425\n",
       "-0.1124  0.0041 -0.0822 -0.1744 -0.1802 -0.0529  0.2207  0.0200  0.0030 -0.0950\n",
       " 0.0361  0.0331  0.2346 -0.0141  0.2110 -0.2205 -0.0493 -0.1025  0.0446  0.0645\n",
       " 0.0054  0.1351 -0.0095 -0.0047  0.1122  0.3429 -0.1119 -0.0563  0.0293  0.1004\n",
       "-0.0590  0.0637  0.0965 -0.1501  0.0235  0.0305 -0.1948 -0.1691 -0.0362  0.1992\n",
       " 0.0946 -0.1373 -0.0948 -0.0779 -0.1207  0.0468 -0.0952 -0.1498 -0.0486 -0.1714\n",
       " 0.2244  0.0681 -0.0763  0.2315  0.0822  0.1684  0.0460  0.1426 -0.2364 -0.0330\n",
       "-0.1517  0.0230  0.2489 -0.0669  0.1437  0.0919  0.0259  0.1542 -0.0742  0.0465\n",
       "-0.0779 -0.0210  0.0085  0.1893 -0.1943  0.2026  0.1187  0.0982  0.1051 -0.0232\n",
       " 0.0568  0.1197  0.0866 -0.1026 -0.0775  0.2819 -0.0624  0.0618 -0.0429  0.1301\n",
       "-0.1655  0.1298 -0.0182 -0.0994 -0.0642  0.0291  0.0102  0.0307  0.0828 -0.1319\n",
       "-0.0181 -0.2184  0.0721 -0.0367  0.1622  0.1402  0.0593  0.0496  0.1129  0.0787\n",
       " 0.1189 -0.0056  0.0840 -0.1064 -0.2167  0.0369  0.2192 -0.0449 -0.1518 -0.0933\n",
       "-0.0597 -0.0278 -0.0529  0.1071 -0.0285  0.0105 -0.0395  0.0605 -0.0418 -0.0641\n",
       "-0.1601  0.0479 -0.0507 -0.0122  0.1589 -0.0438 -0.1141  0.1232 -0.1023  0.1574\n",
       "\n",
       "Columns 10 to 19 \n",
       " 0.1265 -0.0668  0.0555 -0.0314  0.0399  0.0107 -0.1187 -0.1558 -0.0437 -0.1201\n",
       "-0.0446  0.0284 -0.2631 -0.0036  0.0962  0.0147 -0.0767  0.0586  0.0042 -0.0832\n",
       " 0.1853 -0.1343  0.0720  0.1335  0.0452  0.0920 -0.0793  0.0920 -0.1014 -0.0935\n",
       " 0.0704 -0.0501  0.0686 -0.1287 -0.1578  0.0368  0.1427  0.1125 -0.0793  0.0804\n",
       " 0.0084 -0.1709  0.1002  0.0935 -0.1387  0.1202  0.1175 -0.0438 -0.0229 -0.2366\n",
       " 0.0997 -0.0423  0.0251  0.0133  0.1583  0.0080  0.1338 -0.0766 -0.0307 -0.0876\n",
       "-0.0629 -0.0499  0.0816 -0.0262  0.1081 -0.1703  0.0822  0.0011  0.0902  0.0101\n",
       " 0.1261  0.1611 -0.0297  0.0958  0.0551  0.0788 -0.0270  0.0045  0.0121  0.0580\n",
       "-0.0180 -0.0813  0.2115 -0.0700  0.0171 -0.1035 -0.0552  0.0136 -0.0920  0.0131\n",
       "-0.0848 -0.2057  0.0232 -0.0205  0.2349  0.0494 -0.0144  0.0611 -0.0427  0.0189\n",
       "-0.0776  0.0866  0.0398  0.0858  0.1900 -0.0227  0.0020 -0.0006  0.0030  0.1917\n",
       "-0.0805 -0.2113  0.0749 -0.1512 -0.1115  0.0338  0.1662 -0.1482 -0.0143  0.0744\n",
       " 0.0130  0.0295  0.1595 -0.0376 -0.1316 -0.0162 -0.0330 -0.1599 -0.0972  0.0558\n",
       " 0.1215 -0.0305  0.0247 -0.0594 -0.1263 -0.2307 -0.1010 -0.0009  0.0322 -0.1245\n",
       "-0.0422  0.0456 -0.0545 -0.0199  0.0297 -0.1162  0.1286  0.0559  0.1325 -0.0726\n",
       "-0.1766  0.1626 -0.2018  0.0014  0.0366  0.0890  0.0245 -0.1442 -0.0352  0.0560\n",
       "-0.0894  0.1366  0.0599 -0.0741 -0.0848 -0.0777 -0.0663  0.0837  0.0348  0.1178\n",
       " 0.0938  0.0148 -0.0282 -0.0072  0.0415 -0.1049  0.0094  0.0222  0.0449 -0.1612\n",
       "-0.0193  0.0876  0.1032  0.1543 -0.0260 -0.0246 -0.1362  0.0694  0.0815  0.0077\n",
       "-0.3010 -0.1287 -0.1201 -0.0105 -0.0407 -0.0412 -0.0822 -0.0839 -0.1683  0.0698\n",
       " 0.0920 -0.2295  0.1468  0.0560 -0.1513  0.0025  0.0520 -0.1754 -0.0792  0.2075\n",
       "\n",
       "Columns 20 to 29 \n",
       "-0.1246 -0.0022  0.0251 -0.0315  0.0992 -0.0216 -0.1867  0.0255 -0.1757  0.0778\n",
       "-0.0092  0.0074  0.0813  0.2792 -0.0897  0.0566  0.1056 -0.0841  0.0520  0.1761\n",
       " 0.0991 -0.1471 -0.1239 -0.0977 -0.0013 -0.0069 -0.1522  0.1244 -0.0864  0.0523\n",
       "-0.1945  0.0086 -0.1570 -0.0757  0.1175 -0.1245 -0.2208 -0.1603 -0.0195  0.0221\n",
       " 0.1829  0.0976 -0.1266  0.0953  0.0599  0.1293  0.0305  0.1399 -0.1293 -0.0985\n",
       " 0.1649  0.0405 -0.2056 -0.0092  0.1837  0.0882  0.0187  0.0054  0.0526 -0.0150\n",
       "-0.1118  0.1112 -0.0500  0.0102 -0.1629  0.0938  0.0662  0.1149  0.1170 -0.1240\n",
       "-0.0212 -0.0535 -0.2213  0.0988 -0.1131  0.0137 -0.0760  0.1742  0.1392 -0.1746\n",
       " 0.1768 -0.0522  0.1391 -0.1396  0.0657 -0.0919  0.0414 -0.0405 -0.1093  0.2208\n",
       "-0.1632 -0.0306  0.0003  0.0006  0.0631 -0.0028  0.0405 -0.1802 -0.0467 -0.1622\n",
       " 0.0870 -0.0515  0.1115  0.0308  0.1423 -0.0689 -0.0536 -0.1043 -0.0828 -0.1109\n",
       "-0.1364 -0.1016  0.0918 -0.0362 -0.0812 -0.0210  0.0215 -0.0968  0.0521  0.1138\n",
       "-0.0352  0.1535  0.1147 -0.0719 -0.1105  0.1851  0.1329  0.0317 -0.1216  0.0636\n",
       " 0.0949  0.0822 -0.1383 -0.1538  0.1024  0.0349  0.1241 -0.0729  0.1142  0.1096\n",
       "-0.0050  0.0887 -0.1303  0.0333  0.1161 -0.0952 -0.0903  0.0897  0.1400 -0.1080\n",
       "-0.1178  0.0044  0.1582  0.0315 -0.0340 -0.0778  0.0855  0.0462  0.0100  0.0244\n",
       "-0.0582 -0.0134  0.1700  0.1517 -0.0949  0.0047  0.0319  0.2635  0.0298 -0.1921\n",
       "-0.0979  0.0181  0.1162  0.0819  0.0008  0.0807 -0.1281  0.0754  0.0871 -0.1923\n",
       " 0.0106  0.0976 -0.0742 -0.0573  0.2005  0.0687  0.0221 -0.0771 -0.0077 -0.0358\n",
       " 0.0460 -0.0503 -0.1857  0.0275 -0.0507  0.0074  0.0010 -0.0471 -0.1808 -0.1035\n",
       "-0.0293  0.0693  0.0309 -0.0083 -0.1225  0.1904  0.0992 -0.0558 -0.0448  0.0184\n",
       "\n",
       "Columns 30 to 31 \n",
       " 0.0719 -0.0798\n",
       " 0.1017 -0.0839\n",
       "-0.1498  0.1366\n",
       "-0.1107 -0.0060\n",
       "-0.0565  0.0332\n",
       "-0.0844 -0.0424\n",
       "-0.0106 -0.0425\n",
       " 0.0704  0.0171\n",
       " 0.0042 -0.1424\n",
       "-0.0695  0.1803\n",
       " 0.0544 -0.0153\n",
       " 0.1236  0.1654\n",
       "-0.1839  0.1678\n",
       " 0.1039  0.1311\n",
       "-0.0477  0.1067\n",
       " 0.0333  0.1487\n",
       "-0.0489  0.1942\n",
       " 0.0532  0.0616\n",
       "-0.0909 -0.0900\n",
       "-0.0551  0.0523\n",
       " 0.0712  0.0767\n",
       "[torch.FloatTensor of size 21x32]"
      ]
     },
     "execution_count": 58,
     "metadata": {},
     "output_type": "execute_result"
    }
   ],
   "source": [
    "model[(0)].weight"
   ]
  },
  {
   "cell_type": "code",
   "execution_count": 59,
   "metadata": {
    "collapsed": false
   },
   "outputs": [
    {
     "data": {
      "text/plain": [
       "Parameter containing:\n",
       "\n",
       "Columns 0 to 9 \n",
       "-0.1579  0.2273  0.1988  0.0145 -0.0794  0.0316 -0.1500  0.0504 -0.1329 -0.0937\n",
       " 0.1049 -0.1006 -0.1317 -0.1037  0.2916 -0.2166 -0.0883  0.0235  0.2702  0.2258\n",
       "-0.0679 -0.1602 -0.1215 -0.1169 -0.1358  0.1144  0.2038 -0.1508 -0.2220  0.1066\n",
       " 0.0429  0.0888  0.1096 -0.0815  0.0585 -0.0314 -0.0586 -0.0358 -0.1244  0.2223\n",
       " 0.2678  0.0065  0.1753  0.1183  0.1563 -0.1672  0.1579  0.1983  0.0360 -0.1715\n",
       " 0.1857 -0.1429  0.0947 -0.1244 -0.1794  0.1542  0.1870 -0.0503 -0.1922 -0.1580\n",
       "-0.0130 -0.0396  0.2313  0.1197  0.0539 -0.0754  0.2044  0.1356 -0.0424  0.1756\n",
       "-0.0826 -0.1659  0.1123 -0.1285 -0.0015 -0.0970  0.1753  0.0902 -0.0983  0.0233\n",
       " 0.0549 -0.1521  0.0618  0.1216 -0.1561  0.0146 -0.1664  0.1508 -0.2284 -0.1390\n",
       "-0.0535 -0.0080 -0.1619  0.0043  0.1178 -0.1670 -0.1769 -0.1702 -0.2110 -0.0052\n",
       " 0.0103  0.0979  0.1785 -0.1816 -0.2243  0.0160  0.0185  0.0139 -0.0323  0.2248\n",
       " 0.1216  0.1530  0.1106 -0.0387 -0.0654 -0.1702  0.1186  0.2329  0.2301 -0.1925\n",
       "-0.0883  0.1236 -0.1132  0.1914  0.2134 -0.1841 -0.0589 -0.1308  0.0821 -0.1698\n",
       " 0.2044 -0.2757  0.0529  0.1036  0.0382  0.0621 -0.0308  0.0517 -0.0542 -0.0616\n",
       "\n",
       "Columns 10 to 19 \n",
       "-0.0513 -0.0695  0.2727  0.1648  0.0631 -0.1925 -0.0649  0.1161  0.0925 -0.0809\n",
       "-0.1327  0.1696  0.2175 -0.1983 -0.2299 -0.0236  0.0040  0.0685  0.1362 -0.1185\n",
       "-0.1642  0.2155  0.1343 -0.1089 -0.0913  0.2251 -0.0291  0.0191  0.2016  0.0978\n",
       "-0.2097  0.1612  0.1336 -0.0045 -0.1668  0.1799  0.1440  0.0855  0.0585  0.0228\n",
       " 0.1040 -0.0779 -0.0121 -0.1966  0.1392  0.0701 -0.0414 -0.2744  0.1161  0.1289\n",
       " 0.1313  0.0373 -0.0484 -0.1968 -0.0067 -0.2126 -0.0830  0.0560 -0.0426  0.2061\n",
       "-0.1863 -0.1489 -0.1367 -0.0828 -0.1593  0.1195 -0.0084 -0.0110  0.2514 -0.0763\n",
       " 0.0152  0.0952 -0.0207  0.1960  0.0850  0.0831 -0.0500  0.0546  0.2096  0.2148\n",
       " 0.0097 -0.1005 -0.0241  0.1210  0.0270  0.0941 -0.1666 -0.0263 -0.1718 -0.1420\n",
       "-0.1224  0.0214 -0.2106 -0.0506  0.1635  0.1362 -0.0626 -0.1677  0.1850 -0.0979\n",
       "-0.1115  0.1510 -0.1380 -0.1481 -0.1224 -0.0255  0.0170 -0.1657 -0.0485 -0.2014\n",
       "-0.0682 -0.0245  0.2752  0.0792 -0.1271 -0.1288  0.1710  0.0017  0.0189 -0.2206\n",
       "-0.2015 -0.1108 -0.1158 -0.0487 -0.0045 -0.0409  0.0052 -0.1982  0.0988 -0.0882\n",
       " 0.1824 -0.0344  0.0847  0.3454  0.1231  0.1812 -0.2253  0.0256  0.1192  0.2213\n",
       "\n",
       "Columns 20 to 20 \n",
       " 0.2229\n",
       " 0.1126\n",
       " 0.0849\n",
       "-0.2575\n",
       "-0.0333\n",
       "-0.0747\n",
       " 0.1987\n",
       "-0.0404\n",
       " 0.1895\n",
       " 0.1731\n",
       " 0.1946\n",
       " 0.1742\n",
       "-0.1136\n",
       "-0.0878\n",
       "[torch.FloatTensor of size 14x21]"
      ]
     },
     "execution_count": 59,
     "metadata": {},
     "output_type": "execute_result"
    }
   ],
   "source": [
    "model[(2)].weight"
   ]
  },
  {
   "cell_type": "code",
   "execution_count": 60,
   "metadata": {
    "collapsed": false
   },
   "outputs": [
    {
     "data": {
      "text/plain": [
       "Parameter containing:\n",
       "\n",
       "Columns 0 to 9 \n",
       "-0.2170 -0.1204  0.1821  0.2058 -0.2460 -0.2223  0.0056  0.0103 -0.1410 -0.0234\n",
       " 0.0692 -0.1669  0.1705  0.0310  0.1480 -0.1700 -0.2178 -0.2114 -0.0912  0.0319\n",
       "-0.0354 -0.0563 -0.0772 -0.1489  0.2065  0.1693 -0.0451 -0.2486 -0.1470  0.1353\n",
       " 0.3215 -0.0498 -0.1613 -0.0436 -0.2568  0.0176  0.1261 -0.3778 -0.2506 -0.1223\n",
       "-0.2645  0.1804  0.1729 -0.1679 -0.0976 -0.1934 -0.0653 -0.0502  0.1431 -0.2031\n",
       "-0.1074 -0.1294 -0.0463 -0.2610 -0.1974 -0.1250  0.2212 -0.2215  0.2244  0.2546\n",
       "-0.1204  0.0771  0.1631  0.2516 -0.1776  0.0031  0.0896  0.0842 -0.1618  0.0698\n",
       " 0.2707  0.2653 -0.1207  0.1299 -0.0447 -0.0856 -0.2094 -0.2173 -0.1433  0.1561\n",
       " 0.0035  0.4048 -0.4059  0.3270 -0.3867 -0.0907 -0.1284  0.1528 -0.3760  0.1116\n",
       "\n",
       "Columns 10 to 13 \n",
       " 0.2485 -0.0593 -0.0790 -0.0885\n",
       "-0.1058 -0.1418 -0.2372  0.1509\n",
       " 0.2007  0.0755 -0.1688 -0.1784\n",
       " 0.1014  0.3788  0.2402 -0.3523\n",
       " 0.2462 -0.1299 -0.1695  0.0269\n",
       " 0.0515 -0.1374  0.0032 -0.0917\n",
       " 0.0225  0.0537  0.0212 -0.0348\n",
       " 0.0932  0.2682  0.1190 -0.3066\n",
       "-0.3860  0.0650  0.1274 -0.3548\n",
       "[torch.FloatTensor of size 9x14]"
      ]
     },
     "execution_count": 60,
     "metadata": {},
     "output_type": "execute_result"
    }
   ],
   "source": [
    "model[(4)].weight"
   ]
  },
  {
   "cell_type": "code",
   "execution_count": 61,
   "metadata": {
    "collapsed": false
   },
   "outputs": [
    {
     "data": {
      "text/plain": [
       "Parameter containing:\n",
       " 0.2974  0.2661 -0.3011  0.7160 -0.2500 -0.0347 -0.2402  0.5084  0.9351\n",
       "[torch.FloatTensor of size 1x9]"
      ]
     },
     "execution_count": 61,
     "metadata": {},
     "output_type": "execute_result"
    }
   ],
   "source": [
    "model[(6)].weight"
   ]
  },
  {
   "cell_type": "markdown",
   "metadata": {},
   "source": [
    "## Round 4: Four-Hidden-Layer Neural Network"
   ]
  },
  {
   "cell_type": "code",
   "execution_count": 62,
   "metadata": {
    "collapsed": true
   },
   "outputs": [],
   "source": [
    "# Make the torch Tensor into a PyTorch Variable for dependent variables\n",
    "outcomes_Variable = Variable(outcomes_Tensor)\n",
    "\n",
    "\n",
    "# ...for independent variables\n",
    "features_Variable = Variable(features_Tensor,\n",
    "                             requires_grad = False)"
   ]
  },
  {
   "cell_type": "code",
   "execution_count": 63,
   "metadata": {
    "collapsed": true
   },
   "outputs": [],
   "source": [
    "# Make the neural network\n",
    "model = torch.nn.Sequential(torch.nn.Linear(32, 21),\n",
    "                            torch.nn.ReLU(),\n",
    "                            torch.nn.Linear(21, 14),\n",
    "                            torch.nn.ReLU(),\n",
    "                            torch.nn.Linear(14, 9),\n",
    "                            torch.nn.ReLU(),\n",
    "                            torch.nn.Linear(9, 6),\n",
    "                            torch.nn.ReLU(),\n",
    "                            torch.nn.Linear(6, 1))"
   ]
  },
  {
   "cell_type": "code",
   "execution_count": 64,
   "metadata": {
    "collapsed": true
   },
   "outputs": [],
   "source": [
    "# To add errors to\n",
    "errors = []\n",
    "\n",
    "\n",
    "# Set the learning rate\n",
    "learning_rate = 5e-6\n",
    "\n",
    "\n",
    "# Train the neural network\n",
    "for t in range(10000):\n",
    "    \n",
    "    # Get the current predictions\n",
    "    y_pred = model(features_Variable)\n",
    "    \n",
    "    # Compute and append current summed errors\n",
    "    loss = loss_fn(y_pred, outcomes_Variable)\n",
    "    errors.append(loss.data[0])\n",
    "    \n",
    "    # Zero the gradients before running the backward pass.\n",
    "    model.zero_grad()\n",
    "    \n",
    "    # Backward pass: compute gradient of the loss with respect to all the learnable Variables\n",
    "    loss.backward()\n",
    "    \n",
    "    # Update the weights using gradient descent\n",
    "    for param in model.parameters():\n",
    "        param.data -= learning_rate * param.grad.data"
   ]
  },
  {
   "cell_type": "code",
   "execution_count": 65,
   "metadata": {
    "collapsed": false
   },
   "outputs": [
    {
     "data": {
      "text/plain": [
       "<matplotlib.collections.PathCollection at 0x7fb8c1ab9e48>"
      ]
     },
     "execution_count": 65,
     "metadata": {},
     "output_type": "execute_result"
    },
    {
     "data": {
      "image/png": "[encoded data removed]",
      "text/plain": [
       "<matplotlib.figure.Figure at 0x7fb8c1b42f60>"
      ]
     },
     "metadata": {},
     "output_type": "display_data"
    }
   ],
   "source": [
    "# Plot summed error as a function of iteration\n",
    "plt.scatter(iterations, errors)"
   ]
  },
  {
   "cell_type": "code",
   "execution_count": 66,
   "metadata": {
    "collapsed": false
   },
   "outputs": [],
   "source": [
    "# Get rid of the 2nd dimension of 1 from the FloatTensor\n",
    "y_pred_resized = y_pred.resize(8230)\n",
    "\n",
    "\n",
    "# Make the FloatTensor into a numpy.array\n",
    "y_pred_array = y_pred_resized.data.numpy()\n",
    "\n",
    "\n",
    "# Make the numpy.array into a list\n",
    "y_pred_list = y_pred_array.tolist()"
   ]
  },
  {
   "cell_type": "code",
   "execution_count": 67,
   "metadata": {
    "collapsed": false
   },
   "outputs": [
    {
     "data": {
      "text/plain": [
       "[<matplotlib.lines.Line2D at 0x7fb8c1bc7978>]"
      ]
     },
     "execution_count": 67,
     "metadata": {},
     "output_type": "execute_result"
    },
    {
     "data": {
      "image/png": "[encoded data removed]",
      "text/plain": [
       "<matplotlib.figure.Figure at 0x7fb8c1bc7b00>"
      ]
     },
     "metadata": {},
     "output_type": "display_data"
    }
   ],
   "source": [
    "# Plot predictions versus training set outcomes\n",
    "plt.scatter(outcomes_list, y_pred_list, c = \"black\", alpha = 0.15)\n",
    "\n",
    "axes = plt.gca()\n",
    "\n",
    "axes.set_xlim([-2, 4])\n",
    "\n",
    "axes.set_ylim([-2, 4])\n",
    "\n",
    "plt.plot([-2, 4], [-2, 4], 'k-', lw=2)"
   ]
  },
  {
   "cell_type": "markdown",
   "metadata": {},
   "source": [
    "### Round 4.1: Validation Set Performance"
   ]
  },
  {
   "cell_type": "code",
   "execution_count": 68,
   "metadata": {
    "collapsed": false
   },
   "outputs": [
    {
     "data": {
      "text/plain": [
       "Variable containing:\n",
       " 274.4393\n",
       "[torch.FloatTensor of size 1]"
      ]
     },
     "execution_count": 68,
     "metadata": {},
     "output_type": "execute_result"
    }
   ],
   "source": [
    "# Get the validation set predictions\n",
    "y_valid_pred = model(valid_predictors_Variable)\n",
    "\n",
    "\n",
    "# Print the loss\n",
    "loss_fn(y_valid_pred,\n",
    "        valid_outcomes_Variable)"
   ]
  },
  {
   "cell_type": "code",
   "execution_count": 69,
   "metadata": {
    "collapsed": true
   },
   "outputs": [],
   "source": [
    "# Get rid of the 2nd dimension of 1 from the FloatTensor\n",
    "y_valid_pred_resized = y_valid_pred.resize(2748)\n",
    "\n",
    "\n",
    "# Make the FloatTensor into a numpy.array\n",
    "y_valid_pred_array = y_valid_pred_resized.data.numpy()\n",
    "\n",
    "\n",
    "# Make the numpy.array into a list\n",
    "y_valid_pred_list = y_valid_pred_array.tolist()"
   ]
  },
  {
   "cell_type": "code",
   "execution_count": 70,
   "metadata": {
    "collapsed": false
   },
   "outputs": [
    {
     "data": {
      "text/plain": [
       "[<matplotlib.lines.Line2D at 0x7fb8c1ccb4e0>]"
      ]
     },
     "execution_count": 70,
     "metadata": {},
     "output_type": "execute_result"
    },
    {
     "data": {
      "image/png": "[encoded data removed]",
      "text/plain": [
       "<matplotlib.figure.Figure at 0x7fb8c1ccb3c8>"
      ]
     },
     "metadata": {},
     "output_type": "display_data"
    }
   ],
   "source": [
    "# Plot new predictions versus new data outcomes\n",
    "plt.scatter(valid_outcomes_list, y_valid_pred_list, c = \"black\", alpha = 0.15)\n",
    "\n",
    "axes = plt.gca()\n",
    "\n",
    "axes.set_xlim([-2, 4])\n",
    "\n",
    "axes.set_ylim([-2, 4])\n",
    "\n",
    "plt.plot([-2, 4], [-2, 4], 'k-', lw=2)"
   ]
  },
  {
   "cell_type": "markdown",
   "metadata": {},
   "source": [
    "### Round 4.2: Test Set Performance"
   ]
  },
  {
   "cell_type": "code",
   "execution_count": 71,
   "metadata": {
    "collapsed": false
   },
   "outputs": [
    {
     "data": {
      "text/plain": [
       "Variable containing:\n",
       " 262.3223\n",
       "[torch.FloatTensor of size 1]"
      ]
     },
     "execution_count": 71,
     "metadata": {},
     "output_type": "execute_result"
    }
   ],
   "source": [
    "# Get the validation set predictions\n",
    "y_test_pred = model(test_predictors_Variable)\n",
    "\n",
    "\n",
    "# Print the loss\n",
    "loss_fn(y_test_pred,\n",
    "        test_outcomes_Variable)"
   ]
  },
  {
   "cell_type": "code",
   "execution_count": 72,
   "metadata": {
    "collapsed": true
   },
   "outputs": [],
   "source": [
    "# Get rid of the 2nd dimension of 1 from the FloatTensor\n",
    "y_test_pred_resized = y_test_pred.resize(2699)\n",
    "\n",
    "\n",
    "# Make the FloatTensor into a numpy.array\n",
    "y_test_pred_array = y_test_pred_resized.data.numpy()\n",
    "\n",
    "\n",
    "# Convert back to native units and scale\n",
    "y_test_pred_array = y_test_pred_array*5.41747 + 7.67485\n",
    "\n",
    "\n",
    "# Make the numpy.array into a list\n",
    "y_test_pred_list = y_test_pred_array.tolist()"
   ]
  },
  {
   "cell_type": "code",
   "execution_count": 73,
   "metadata": {
    "collapsed": false
   },
   "outputs": [
    {
     "data": {
      "text/plain": [
       "<matplotlib.text.Text at 0x7fb8c194cac8>"
      ]
     },
     "execution_count": 73,
     "metadata": {},
     "output_type": "execute_result"
    },
    {
     "data": {
      "image/png": "[encoded data removed]",
      "text/plain": [
       "<matplotlib.figure.Figure at 0x7fb8c1bc7ba8>"
      ]
     },
     "metadata": {},
     "output_type": "display_data"
    }
   ],
   "source": [
    "# Plot new predictions versus new data outcomes\n",
    "plt.scatter(test_outcomes_list, y_test_pred_list, c = \"black\", alpha = 0.15)\n",
    "\n",
    "axes = plt.gca()\n",
    "\n",
    "axes.set_xlim([2, 23])\n",
    "\n",
    "axes.set_ylim([2, 23])\n",
    "\n",
    "axes.set_xticks([2, 5, 8, 11, 14, 17, 20, 23])\n",
    "\n",
    "axes.set_yticks([2, 5, 8, 11, 14, 17, 20, 23])\n",
    "\n",
    "plt.plot([2, 23], [2, 23], 'k-', lw=2)\n",
    "\n",
    "axes.set_xlabel(\"Actual Outcome (Log-Transformed US Dollars)\")\n",
    "\n",
    "axes.set_ylabel(\"Model Prediction (Log-Transformed US Dollars)\")\n",
    "\n",
    "axes.set_title(\"Model Performance\")"
   ]
  },
  {
   "cell_type": "code",
   "execution_count": 74,
   "metadata": {
    "collapsed": false
   },
   "outputs": [
    {
     "data": {
      "text/plain": [
       "Parameter containing:\n",
       "\n",
       "Columns 0 to 9 \n",
       "-0.0395 -0.0498 -0.0890  0.0496 -0.1560 -0.1121  0.0139 -0.0548 -0.0617  0.0615\n",
       " 0.2394  0.1180 -0.1295  0.0257  0.0823  0.0336  0.0207  0.1095  0.1122  0.0519\n",
       "-0.0783  0.0012 -0.0364  0.2818 -0.1016  0.0586  0.1771  0.0383  0.1777  0.1893\n",
       " 0.1689  0.0115 -0.1009 -0.0811 -0.2045  0.0656  0.1772 -0.0977 -0.1926  0.1370\n",
       " 0.1098  0.0480  0.0699 -0.0476  0.1297 -0.0810  0.1269  0.0220 -0.0417 -0.0058\n",
       " 0.0250  0.0511  0.0063 -0.0330  0.0403 -0.0454  0.1195 -0.0775 -0.1516  0.1215\n",
       "-0.0498  0.1899  0.0858  0.2230  0.1082 -0.0619  0.0302 -0.1515  0.0935  0.1217\n",
       "-0.0187  0.1197 -0.0308 -0.1619 -0.2127 -0.2033  0.1170  0.1326 -0.1419  0.1107\n",
       "-0.0786  0.1434 -0.0083  0.0202 -0.0549  0.2897 -0.1438  0.0548 -0.1281  0.0126\n",
       " 0.0112  0.1355 -0.0683 -0.0361 -0.1434 -0.1840  0.0257  0.0107  0.1041 -0.0717\n",
       " 0.0268  0.0402 -0.0144  0.0164  0.1066  0.0233 -0.0857  0.1503 -0.1139  0.0679\n",
       " 0.1115 -0.1104 -0.0556  0.0199  0.1306 -0.1455 -0.1990 -0.1319  0.0562 -0.2083\n",
       "-0.1859 -0.0053  0.0323  0.1961  0.1329  0.0334  0.1975 -0.0385 -0.0342  0.0474\n",
       "-0.0078 -0.0022  0.0059 -0.0570 -0.0067 -0.2043 -0.1580 -0.0645  0.0597  0.0243\n",
       "-0.1538  0.1296 -0.1397 -0.0298  0.1141 -0.0932  0.2264 -0.1492 -0.1369  0.0392\n",
       "-0.1906 -0.1065 -0.0906  0.0339 -0.0654 -0.0593 -0.2353  0.0415  0.0049 -0.0451\n",
       " 0.1453  0.0047  0.0212  0.2273  0.1728 -0.0227 -0.0845 -0.0315  0.0114 -0.0393\n",
       "-0.0275 -0.0375  0.0334 -0.0623 -0.0940 -0.0722  0.0473 -0.0497 -0.0877 -0.1667\n",
       "-0.0841  0.0124 -0.2169 -0.0444  0.1714  0.0227  0.0975 -0.1643  0.0308  0.0800\n",
       "-0.1341  0.0029  0.1877 -0.0822  0.0749  0.2141  0.0603  0.0829 -0.1197  0.0981\n",
       " 0.1207 -0.0976 -0.0069 -0.1147  0.0198 -0.2223 -0.0796  0.1144  0.0167  0.0111\n",
       "\n",
       "Columns 10 to 19 \n",
       " 0.0342 -0.0929 -0.0616 -0.0050  0.0407 -0.0650 -0.0548  0.0374 -0.0287 -0.0337\n",
       "-0.0295  0.1581 -0.0288 -0.0824 -0.0335 -0.0125  0.0266 -0.0267  0.1286 -0.1186\n",
       "-0.0729  0.1295  0.0107 -0.0360 -0.1500  0.0287  0.0278 -0.1002 -0.0189 -0.0090\n",
       "-0.0210 -0.1186 -0.0723  0.0751  0.0440 -0.1894 -0.0399  0.0939  0.1660 -0.0096\n",
       " 0.0541 -0.1967 -0.0534  0.0309 -0.0798  0.0287  0.0984  0.0674 -0.0641  0.0131\n",
       "-0.0189 -0.0833 -0.0714 -0.0693  0.1400 -0.1406  0.0563 -0.0926 -0.0466  0.0207\n",
       " 0.0522  0.0947  0.0722 -0.0573 -0.0689 -0.0718 -0.1980  0.1213 -0.0564  0.0429\n",
       " 0.1463 -0.0156 -0.0394  0.1172  0.1453  0.0345 -0.1165  0.0078 -0.0883  0.0077\n",
       "-0.0555 -0.0342 -0.0046 -0.0431 -0.0299  0.1425  0.2214 -0.0866  0.1033  0.0236\n",
       " 0.0403  0.0936  0.0119 -0.1587 -0.0459 -0.1479  0.1098  0.1733  0.0498  0.0523\n",
       " 0.0548 -0.1272  0.2080  0.1655 -0.0643 -0.0167 -0.0791 -0.1554 -0.0486 -0.1895\n",
       "-0.1832 -0.0189 -0.1149 -0.0241 -0.1609  0.1018  0.0778  0.1205 -0.1225  0.0862\n",
       "-0.0515  0.0180  0.0871  0.0590  0.0110 -0.0467 -0.0391 -0.0074 -0.1574  0.1443\n",
       " 0.0957 -0.0873 -0.0577 -0.1061 -0.1350 -0.1595 -0.0642 -0.0892  0.1546 -0.0758\n",
       "-0.0379 -0.1034 -0.0563 -0.0984 -0.0949  0.1622 -0.0318  0.1265 -0.1942  0.0202\n",
       "-0.1204  0.0233  0.0303 -0.0992  0.1042  0.1040 -0.1514  0.2646 -0.1618  0.0304\n",
       " 0.1287 -0.1705  0.0229 -0.1243  0.0896 -0.0415  0.1088  0.0831  0.0575 -0.0582\n",
       "-0.0227  0.0223  0.0058  0.1143 -0.0788 -0.1079 -0.1160 -0.1239  0.0343  0.0297\n",
       " 0.0561  0.0052  0.0201 -0.0489 -0.0583  0.1664 -0.0153 -0.2536 -0.0753  0.1035\n",
       " 0.0853 -0.0144  0.1329  0.1037  0.0580 -0.0588  0.0432  0.1011 -0.0726 -0.0144\n",
       "-0.1175 -0.0752  0.1218  0.1594 -0.0095 -0.0774 -0.2304  0.1107 -0.1293 -0.0327\n",
       "\n",
       "Columns 20 to 29 \n",
       " 0.0952 -0.0591 -0.0974 -0.1257  0.1366  0.1645 -0.1906 -0.1703 -0.1578  0.1169\n",
       "-0.0356  0.0134 -0.0369  0.0129 -0.0668  0.1179  0.1679 -0.1400  0.0625  0.0736\n",
       " 0.1235 -0.0647 -0.0069 -0.1901  0.0076 -0.1572 -0.1398 -0.0392  0.0350 -0.0521\n",
       "-0.2014  0.0994  0.0750 -0.1472 -0.1393 -0.1038 -0.1265  0.0948  0.0174  0.1375\n",
       " 0.1437  0.0436  0.1009 -0.0444  0.0397  0.1399  0.1423 -0.1493 -0.0500  0.1338\n",
       " 0.0325  0.0523  0.0005 -0.1115  0.1391  0.1596 -0.1329  0.1632  0.0042 -0.0550\n",
       " 0.0453  0.2041  0.2253 -0.0586  0.0019  0.0519  0.0846 -0.1218  0.1338  0.0023\n",
       "-0.1552 -0.0152  0.0135 -0.0845  0.1170  0.0207  0.0523  0.0476 -0.1647 -0.1216\n",
       "-0.0701  0.0002 -0.0291 -0.0850  0.1306  0.1156 -0.1101  0.1584 -0.0093 -0.0058\n",
       "-0.0088 -0.0923  0.0581  0.1582 -0.1906 -0.1712 -0.1730  0.0806 -0.0833  0.0835\n",
       " 0.1419 -0.0884  0.0781 -0.0656  0.1744 -0.1145 -0.0391 -0.2364  0.1008  0.1743\n",
       " 0.0508  0.2012  0.0304 -0.2138  0.1095 -0.0787  0.0436 -0.0444 -0.1561 -0.1764\n",
       "-0.0918 -0.0299  0.0153  0.2641 -0.1356 -0.0394  0.0648  0.0428  0.0154  0.0975\n",
       "-0.0174 -0.1083 -0.0234  0.0893  0.1468  0.0183  0.0446  0.1220 -0.1051  0.1828\n",
       " 0.1776 -0.1849 -0.0989  0.1643 -0.0069 -0.0838  0.1340  0.0005  0.1173 -0.1289\n",
       " 0.1762 -0.1111 -0.2838  0.0722 -0.1493  0.0918 -0.1042 -0.0786  0.1194  0.1476\n",
       " 0.0057  0.0606  0.0329  0.0694  0.1633 -0.1274  0.0859  0.1670 -0.1206  0.1014\n",
       "-0.0635  0.0510 -0.2134  0.1013 -0.1691 -0.0961  0.0480  0.0985 -0.1190 -0.0795\n",
       "-0.2545 -0.1378 -0.1143  0.0218 -0.0401 -0.1197 -0.1649  0.1175 -0.0254  0.1247\n",
       " 0.0303  0.1901  0.0779 -0.1064 -0.1631  0.0773 -0.0621 -0.0679  0.2908 -0.0676\n",
       " 0.1377 -0.0443  0.1261 -0.1700 -0.0777  0.1532 -0.0821 -0.0353  0.0152 -0.0112\n",
       "\n",
       "Columns 30 to 31 \n",
       "-0.1560 -0.1380\n",
       " 0.0269 -0.0399\n",
       " 0.0177  0.0461\n",
       "-0.0904 -0.0606\n",
       "-0.0036 -0.2859\n",
       " 0.0337  0.0586\n",
       "-0.1574  0.1232\n",
       "-0.0773 -0.1206\n",
       " 0.1124 -0.0896\n",
       "-0.0790  0.0626\n",
       "-0.0146  0.1514\n",
       " 0.0130 -0.1157\n",
       "-0.0995  0.0605\n",
       " 0.0531 -0.0404\n",
       " 0.1502  0.2069\n",
       "-0.0903 -0.1384\n",
       " 0.0882  0.0331\n",
       " 0.1522  0.1022\n",
       " 0.0260  0.1300\n",
       "-0.0791  0.0890\n",
       " 0.0227  0.0767\n",
       "[torch.FloatTensor of size 21x32]"
      ]
     },
     "execution_count": 74,
     "metadata": {},
     "output_type": "execute_result"
    }
   ],
   "source": [
    "model[(0)].weight"
   ]
  },
  {
   "cell_type": "code",
   "execution_count": 75,
   "metadata": {
    "collapsed": false
   },
   "outputs": [
    {
     "data": {
      "text/plain": [
       "Parameter containing:\n",
       "\n",
       "Columns 0 to 9 \n",
       "-0.1375  0.1742  0.1625  0.1621 -0.0825  0.0199 -0.2358 -0.1420 -0.2041 -0.0472\n",
       " 0.1075  0.1036  0.0729  0.0930  0.0967 -0.2087 -0.1576 -0.1018  0.0279 -0.1415\n",
       "-0.2179  0.1484  0.1343  0.1616  0.2008  0.1080  0.0479  0.1019 -0.0499  0.0461\n",
       " 0.1821  0.0819  0.1338 -0.2017 -0.2521  0.1478 -0.1315 -0.0653  0.1109 -0.0266\n",
       " 0.1245  0.0981  0.2492  0.1553 -0.0578 -0.0198  0.1441  0.2270  0.1511 -0.0595\n",
       " 0.2027 -0.1731 -0.1669 -0.0322 -0.1195 -0.2001  0.1098  0.0714  0.1315 -0.1932\n",
       "-0.2427  0.2087 -0.2207 -0.0413  0.0311 -0.1269  0.2524 -0.0272 -0.0752 -0.0443\n",
       "-0.0173 -0.1455  0.1596  0.1398  0.1776  0.1081  0.1076 -0.0755  0.1079 -0.1482\n",
       "-0.2086 -0.0272  0.1256 -0.1468  0.1173 -0.1290 -0.2000  0.2457 -0.1750  0.0165\n",
       "-0.1115  0.1618 -0.0383 -0.2352  0.1973  0.0321  0.0079  0.1182 -0.1231 -0.0209\n",
       " 0.0361 -0.0158 -0.1954 -0.1096 -0.2117 -0.0455 -0.1912  0.1079  0.1089  0.1468\n",
       " 0.2294  0.2235  0.0474 -0.1733  0.1550 -0.1750  0.0935 -0.0036  0.1001  0.2095\n",
       " 0.0374 -0.1624 -0.2445 -0.2081 -0.1025  0.1282  0.2429  0.2471  0.1623  0.1126\n",
       " 0.0312 -0.1316  0.0688  0.0576 -0.1583  0.1231  0.1443  0.1160  0.0657  0.1846\n",
       "\n",
       "Columns 10 to 19 \n",
       " 0.0180 -0.0363  0.1125  0.1821 -0.0591 -0.1909 -0.1400  0.1019 -0.0808  0.0735\n",
       "-0.0256 -0.0452  0.0404 -0.2461  0.1013  0.2008 -0.0229  0.1698  0.1044 -0.1532\n",
       "-0.1044 -0.1790 -0.0408 -0.0743 -0.0266 -0.1915 -0.2351  0.0597  0.1946 -0.1595\n",
       " 0.1835 -0.0284 -0.0074  0.1132  0.0509  0.1387  0.0817  0.0861  0.1994 -0.0627\n",
       " 0.0749 -0.2291 -0.0742  0.1117 -0.2208 -0.0830 -0.0509  0.0872  0.1875  0.1665\n",
       "-0.1914 -0.0085 -0.2148  0.2045  0.0565 -0.1983  0.1489 -0.1432  0.0442 -0.0835\n",
       " 0.1923  0.1626  0.1867  0.0986 -0.1830  0.2978  0.1383  0.1593 -0.1658 -0.0933\n",
       " 0.2555  0.0901  0.1686  0.0312 -0.0213  0.1227 -0.0085  0.1386 -0.1437 -0.2263\n",
       " 0.0483  0.2727 -0.0319 -0.1702  0.0754  0.2214 -0.1742  0.0233  0.0752  0.1981\n",
       " 0.2192 -0.1333  0.1994  0.0327  0.0480  0.2952  0.1464 -0.0814 -0.0146 -0.0340\n",
       "-0.0413  0.0712 -0.0556  0.0341  0.0258  0.1669 -0.0796  0.1360  0.0543 -0.0841\n",
       " 0.0216 -0.0261  0.0838  0.1039 -0.0031  0.1360  0.0365  0.0302  0.0088 -0.0927\n",
       " 0.2055  0.0330 -0.0110 -0.0007  0.1739 -0.2053  0.1443 -0.0991 -0.2064 -0.0089\n",
       " 0.2262  0.1618 -0.2102 -0.1134 -0.2963  0.0957  0.0312  0.0302 -0.0599  0.2157\n",
       "\n",
       "Columns 20 to 20 \n",
       " 0.0884\n",
       "-0.1156\n",
       "-0.1726\n",
       " 0.0500\n",
       "-0.2150\n",
       " 0.0692\n",
       " 0.0323\n",
       " 0.1231\n",
       "-0.1200\n",
       "-0.2687\n",
       " 0.0691\n",
       "-0.1296\n",
       "-0.2102\n",
       " 0.2180\n",
       "[torch.FloatTensor of size 14x21]"
      ]
     },
     "execution_count": 75,
     "metadata": {},
     "output_type": "execute_result"
    }
   ],
   "source": [
    "model[(2)].weight"
   ]
  },
  {
   "cell_type": "code",
   "execution_count": 76,
   "metadata": {
    "collapsed": false
   },
   "outputs": [
    {
     "data": {
      "text/plain": [
       "Parameter containing:\n",
       "\n",
       "Columns 0 to 9 \n",
       "-0.1418 -0.2228  0.0862  0.1797 -0.0520 -0.2281 -0.1886  0.2141  0.0267 -0.2171\n",
       " 0.0778 -0.2017  0.1766 -0.2442 -0.0030  0.1615 -0.0318  0.0725 -0.0907 -0.1205\n",
       "-0.0810 -0.1893  0.1895 -0.1389 -0.0833 -0.1676  0.1133  0.2023  0.1263  0.2998\n",
       "-0.0307 -0.2874  0.2035 -0.2773  0.2054 -0.0684 -0.3047  0.0523 -0.0286 -0.2447\n",
       " 0.0492 -0.0714 -0.0497 -0.0807 -0.1831  0.1060  0.4452  0.3361 -0.2692  0.3719\n",
       " 0.1378 -0.0129 -0.0960  0.0871  0.2156 -0.0418 -0.2100  0.0366  0.2644 -0.1023\n",
       " 0.2411  0.0813 -0.0501 -0.1769 -0.1323  0.1660 -0.2249  0.1969  0.1343  0.0696\n",
       "-0.1680  0.2346  0.0180  0.0370  0.1373 -0.2120  0.1971 -0.2101 -0.2228 -0.2259\n",
       " 0.2479  0.1950  0.0108 -0.0914  0.0777  0.2034 -0.0632  0.0903 -0.1524  0.0128\n",
       "\n",
       "Columns 10 to 13 \n",
       "-0.1642 -0.2571  0.0129  0.2565\n",
       "-0.1942 -0.2398  0.1086 -0.1626\n",
       " 0.0801 -0.0257 -0.0183  0.0206\n",
       " 0.0855  0.0788  0.1050  0.1105\n",
       "-0.0805  0.0321  0.2592 -0.3109\n",
       " 0.1580  0.2931 -0.2691  0.4021\n",
       " 0.2041  0.0222 -0.2256 -0.1259\n",
       " 0.2238  0.2104 -0.0247 -0.2412\n",
       "-0.1793 -0.0662 -0.1810  0.0633\n",
       "[torch.FloatTensor of size 9x14]"
      ]
     },
     "execution_count": 76,
     "metadata": {},
     "output_type": "execute_result"
    }
   ],
   "source": [
    "model[(4)].weight"
   ]
  },
  {
   "cell_type": "code",
   "execution_count": 77,
   "metadata": {
    "collapsed": false
   },
   "outputs": [
    {
     "data": {
      "text/plain": [
       "Parameter containing:\n",
       "-0.1442 -0.2063  0.3752  0.4380  0.5824 -0.3815 -0.0393 -0.0971 -0.0324\n",
       "-0.2297  0.1636 -0.0368 -0.0484 -0.1069  0.4493 -0.1106  0.0451 -0.2962\n",
       "-0.1543  0.2170 -0.2476  0.0946  0.1027 -0.2746  0.2510  0.2660 -0.0911\n",
       "-0.0355 -0.1660 -0.1584 -0.1712  0.2986 -0.2927  0.1214 -0.0714 -0.2265\n",
       " 0.0250 -0.0747  0.0172 -0.1844  0.5145 -0.0316 -0.2448  0.3339  0.0589\n",
       "-0.2350  0.1475 -0.2882  0.2598  0.2214 -0.1320  0.0251 -0.0132  0.2384\n",
       "[torch.FloatTensor of size 6x9]"
      ]
     },
     "execution_count": 77,
     "metadata": {},
     "output_type": "execute_result"
    }
   ],
   "source": [
    "model[(6)].weight"
   ]
  },
  {
   "cell_type": "code",
   "execution_count": 78,
   "metadata": {
    "collapsed": false
   },
   "outputs": [
    {
     "data": {
      "text/plain": [
       "Parameter containing:\n",
       " 0.8880 -0.4999 -0.3150  0.2218  0.4823 -0.3844\n",
       "[torch.FloatTensor of size 1x6]"
      ]
     },
     "execution_count": 78,
     "metadata": {},
     "output_type": "execute_result"
    }
   ],
   "source": [
    "model[(8)].weight"
   ]
  },
  {
   "cell_type": "markdown",
   "metadata": {},
   "source": [
    "## Round 5: Five-Hidden-Layer Neural Network"
   ]
  },
  {
   "cell_type": "code",
   "execution_count": 79,
   "metadata": {
    "collapsed": true
   },
   "outputs": [],
   "source": [
    "# Make the torch Tensor into a PyTorch Variable for dependent variables\n",
    "outcomes_Variable = Variable(outcomes_Tensor)\n",
    "\n",
    "\n",
    "# ...for independent variables\n",
    "features_Variable = Variable(features_Tensor,\n",
    "                             requires_grad = False)"
   ]
  },
  {
   "cell_type": "code",
   "execution_count": 80,
   "metadata": {
    "collapsed": true
   },
   "outputs": [],
   "source": [
    "# Make the neural network\n",
    "model = torch.nn.Sequential(torch.nn.Linear(32, 21),\n",
    "                            torch.nn.ReLU(),\n",
    "                            torch.nn.Linear(21, 14),\n",
    "                            torch.nn.ReLU(),\n",
    "                            torch.nn.Linear(14, 9),\n",
    "                            torch.nn.ReLU(),\n",
    "                            torch.nn.Linear(9, 6),\n",
    "                            torch.nn.ReLU(),\n",
    "                            torch.nn.Linear(6, 4),\n",
    "                            torch.nn.ReLU(),\n",
    "                            torch.nn.Linear(4, 1))"
   ]
  },
  {
   "cell_type": "code",
   "execution_count": 81,
   "metadata": {
    "collapsed": true
   },
   "outputs": [],
   "source": [
    "# To add errors to\n",
    "errors = []\n",
    "\n",
    "\n",
    "# Set the learning rate\n",
    "learning_rate = 5e-6\n",
    "\n",
    "\n",
    "# Train the neural network\n",
    "for t in range(10000):\n",
    "    \n",
    "    # Get the current predictions\n",
    "    y_pred = model(features_Variable)\n",
    "    \n",
    "    # Compute and append current summed errors\n",
    "    loss = loss_fn(y_pred, outcomes_Variable)\n",
    "    errors.append(loss.data[0])\n",
    "    \n",
    "    # Zero the gradients before running the backward pass.\n",
    "    model.zero_grad()\n",
    "    \n",
    "    # Backward pass: compute gradient of the loss with respect to all the learnable Variables\n",
    "    loss.backward()\n",
    "    \n",
    "    # Update the weights using gradient descent\n",
    "    for param in model.parameters():\n",
    "        param.data -= learning_rate * param.grad.data"
   ]
  },
  {
   "cell_type": "code",
   "execution_count": 82,
   "metadata": {
    "collapsed": false
   },
   "outputs": [
    {
     "data": {
      "text/plain": [
       "<matplotlib.collections.PathCollection at 0x7fb8c18934a8>"
      ]
     },
     "execution_count": 82,
     "metadata": {},
     "output_type": "execute_result"
    },
    {
     "data": {
      "image/png": "[encoded data removed]",
      "text/plain": [
       "<matplotlib.figure.Figure at 0x7fb8c1b50668>"
      ]
     },
     "metadata": {},
     "output_type": "display_data"
    }
   ],
   "source": [
    "# Plot summed error as a function of iteration\n",
    "plt.scatter(iterations, errors)"
   ]
  },
  {
   "cell_type": "code",
   "execution_count": 83,
   "metadata": {
    "collapsed": true
   },
   "outputs": [],
   "source": [
    "# Get rid of the 2nd dimension of 1 from the FloatTensor\n",
    "y_pred_resized = y_pred.resize(8230)\n",
    "\n",
    "\n",
    "# Make the FloatTensor into a numpy.array\n",
    "y_pred_array = y_pred_resized.data.numpy()\n",
    "\n",
    "\n",
    "# Make the numpy.array into a list\n",
    "y_pred_list = y_pred_array.tolist()"
   ]
  },
  {
   "cell_type": "code",
   "execution_count": 84,
   "metadata": {
    "collapsed": false
   },
   "outputs": [
    {
     "data": {
      "text/plain": [
       "[<matplotlib.lines.Line2D at 0x7fb8c1a07e10>]"
      ]
     },
     "execution_count": 84,
     "metadata": {},
     "output_type": "execute_result"
    },
    {
     "data": {
      "image/png": "[encoded data removed]",
      "text/plain": [
       "<matplotlib.figure.Figure at 0x7fb8c1985e10>"
      ]
     },
     "metadata": {},
     "output_type": "display_data"
    }
   ],
   "source": [
    "# Plot predictions versus training set outcomes\n",
    "plt.scatter(outcomes_list, y_pred_list, c = \"black\", alpha = 0.15)\n",
    "\n",
    "axes = plt.gca()\n",
    "\n",
    "axes.set_xlim([-2, 4])\n",
    "\n",
    "axes.set_ylim([-2, 4])\n",
    "\n",
    "plt.plot([-2, 4], [-2, 4], 'k-', lw=2)"
   ]
  },
  {
   "cell_type": "markdown",
   "metadata": {},
   "source": [
    "### Round 5.1: Validation Set Performance"
   ]
  },
  {
   "cell_type": "code",
   "execution_count": 85,
   "metadata": {
    "collapsed": false
   },
   "outputs": [
    {
     "data": {
      "text/plain": [
       "Variable containing:\n",
       " 275.5223\n",
       "[torch.FloatTensor of size 1]"
      ]
     },
     "execution_count": 85,
     "metadata": {},
     "output_type": "execute_result"
    }
   ],
   "source": [
    "# Get the validation set predictions\n",
    "y_valid_pred = model(valid_predictors_Variable)\n",
    "\n",
    "\n",
    "# Print the loss\n",
    "loss_fn(y_valid_pred,\n",
    "        valid_outcomes_Variable)"
   ]
  },
  {
   "cell_type": "code",
   "execution_count": 86,
   "metadata": {
    "collapsed": false
   },
   "outputs": [],
   "source": [
    "# Get rid of the 2nd dimension of 1 from the FloatTensor\n",
    "y_valid_pred_resized = y_valid_pred.resize(2748)\n",
    "\n",
    "\n",
    "# Make the FloatTensor into a numpy.array\n",
    "y_valid_pred_array = y_valid_pred_resized.data.numpy()\n",
    "\n",
    "\n",
    "# Make the numpy.array into a list\n",
    "y_valid_pred_list = y_valid_pred_array.tolist()"
   ]
  },
  {
   "cell_type": "code",
   "execution_count": 87,
   "metadata": {
    "collapsed": false
   },
   "outputs": [
    {
     "data": {
      "text/plain": [
       "[<matplotlib.lines.Line2D at 0x7fb8c1787c50>]"
      ]
     },
     "execution_count": 87,
     "metadata": {},
     "output_type": "execute_result"
    },
    {
     "data": {
      "image/png": "[encoded data removed]",
      "text/plain": [
       "<matplotlib.figure.Figure at 0x7fb8c1787908>"
      ]
     },
     "metadata": {},
     "output_type": "display_data"
    }
   ],
   "source": [
    "# Plot new predictions versus new data outcomes\n",
    "plt.scatter(valid_outcomes_list, y_valid_pred_list, c = \"black\", alpha = 0.15)\n",
    "\n",
    "axes = plt.gca()\n",
    "\n",
    "axes.set_xlim([-2, 4])\n",
    "\n",
    "axes.set_ylim([-2, 4])\n",
    "\n",
    "plt.plot([-2, 4], [-2, 4], 'k-', lw=2)"
   ]
  },
  {
   "cell_type": "markdown",
   "metadata": {},
   "source": [
    "### Round 5.2: Test Set Performance"
   ]
  },
  {
   "cell_type": "code",
   "execution_count": 88,
   "metadata": {
    "collapsed": false
   },
   "outputs": [
    {
     "data": {
      "text/plain": [
       "Variable containing:\n",
       " 266.2724\n",
       "[torch.FloatTensor of size 1]"
      ]
     },
     "execution_count": 88,
     "metadata": {},
     "output_type": "execute_result"
    }
   ],
   "source": [
    "# Get the validation set predictions\n",
    "y_test_pred = model(test_predictors_Variable)\n",
    "\n",
    "\n",
    "# Print the loss\n",
    "loss_fn(y_test_pred,\n",
    "        test_outcomes_Variable)"
   ]
  },
  {
   "cell_type": "code",
   "execution_count": 89,
   "metadata": {
    "collapsed": true
   },
   "outputs": [],
   "source": [
    "# Get rid of the 2nd dimension of 1 from the FloatTensor\n",
    "y_test_pred_resized = y_test_pred.resize(2699)\n",
    "\n",
    "\n",
    "# Make the FloatTensor into a numpy.array\n",
    "y_test_pred_array = y_test_pred_resized.data.numpy()\n",
    "\n",
    "\n",
    "# Convert back to native units and scale\n",
    "y_test_pred_array = y_test_pred_array*5.41747 + 7.67485\n",
    "\n",
    "\n",
    "# Make the numpy.array into a list\n",
    "y_test_pred_list = y_test_pred_array.tolist()"
   ]
  },
  {
   "cell_type": "code",
   "execution_count": 90,
   "metadata": {
    "collapsed": false
   },
   "outputs": [
    {
     "data": {
      "text/plain": [
       "<matplotlib.text.Text at 0x7fb8c1714320>"
      ]
     },
     "execution_count": 90,
     "metadata": {},
     "output_type": "execute_result"
    },
    {
     "data": {
      "image/png": "[encoded data removed]",
      "text/plain": [
       "<matplotlib.figure.Figure at 0x7fb8c1744588>"
      ]
     },
     "metadata": {},
     "output_type": "display_data"
    }
   ],
   "source": [
    "# Plot new predictions versus new data outcomes\n",
    "plt.scatter(test_outcomes_list, y_test_pred_list, c = \"black\", alpha = 0.15)\n",
    "\n",
    "axes = plt.gca()\n",
    "\n",
    "axes.set_xlim([2, 23])\n",
    "\n",
    "axes.set_ylim([2, 23])\n",
    "\n",
    "axes.set_xticks([2, 5, 8, 11, 14, 17, 20, 23])\n",
    "\n",
    "axes.set_yticks([2, 5, 8, 11, 14, 17, 20, 23])\n",
    "\n",
    "plt.plot([2, 23], [2, 23], 'k-', lw=2)\n",
    "\n",
    "axes.set_xlabel(\"Actual Outcome (Log-Transformed US Dollars)\")\n",
    "\n",
    "axes.set_ylabel(\"Model Prediction (Log-Transformed US Dollars)\")\n",
    "\n",
    "axes.set_title(\"Model Performance\")"
   ]
  },
  {
   "cell_type": "code",
   "execution_count": 91,
   "metadata": {
    "collapsed": false
   },
   "outputs": [
    {
     "data": {
      "text/plain": [
       "Parameter containing:\n",
       "\n",
       "Columns 0 to 9 \n",
       " 0.0234 -0.0431  0.0651 -0.0451 -0.2062  0.0642 -0.0207 -0.1387 -0.1466 -0.1031\n",
       "-0.0653  0.0247  0.1219  0.0731  0.0924  0.1400 -0.1378 -0.0991 -0.1160  0.1090\n",
       "-0.0433  0.0349  0.1701 -0.0592 -0.0024 -0.1477 -0.0643 -0.1790 -0.0447 -0.1134\n",
       " 0.2023 -0.0675  0.0238 -0.1175 -0.0581  0.2272 -0.1295 -0.1367  0.2282  0.1836\n",
       "-0.0378  0.0592 -0.1136 -0.1685  0.1514 -0.0441  0.0054  0.0405 -0.0111 -0.0462\n",
       " 0.2981  0.0505 -0.1284  0.2178  0.0579  0.1405 -0.0051 -0.0134  0.0026 -0.0581\n",
       " 0.0344 -0.0309 -0.0462 -0.1428 -0.2082 -0.0722  0.1039  0.0407  0.0398  0.0264\n",
       "-0.0997  0.0315 -0.1159 -0.0292  0.0252 -0.0244 -0.0183 -0.0283 -0.1079  0.1887\n",
       " 0.1240  0.1482  0.1261 -0.1875 -0.0493  0.0016  0.1158 -0.1284 -0.0901  0.1736\n",
       "-0.1072  0.1000  0.0059 -0.0713 -0.1296  0.1362 -0.0889  0.0520 -0.0003 -0.1798\n",
       "-0.2136  0.1800  0.1564  0.1994  0.2659 -0.0170 -0.0003  0.0782  0.0699  0.0898\n",
       " 0.0278 -0.0938  0.1531  0.0940  0.3273 -0.0439  0.0408  0.0010 -0.0146  0.0326\n",
       "-0.0596  0.0417 -0.1774 -0.1854 -0.1433 -0.0952  0.0021  0.0977 -0.0721 -0.0344\n",
       "-0.1426  0.0646  0.1556 -0.1889  0.0507  0.1787 -0.1008  0.0203 -0.2015  0.1423\n",
       " 0.1446 -0.1172  0.0989 -0.1594  0.1417  0.2735 -0.0940 -0.0930  0.1522 -0.0874\n",
       "-0.1272  0.1450 -0.0709 -0.0119 -0.0788  0.2207  0.1721  0.0364  0.1035 -0.1344\n",
       " 0.2424  0.1786 -0.2188 -0.0058  0.1006  0.1251 -0.0264  0.1567  0.1780 -0.1032\n",
       "-0.0278 -0.0723 -0.1131 -0.2412  0.0429 -0.1086 -0.0125  0.0500  0.0922  0.1377\n",
       "-0.0071 -0.0631 -0.0897 -0.0354  0.0585 -0.2079 -0.0208  0.0520 -0.1771 -0.1848\n",
       " 0.0581  0.1887 -0.0182 -0.0537  0.1060  0.0625 -0.1049  0.0162  0.0217 -0.0005\n",
       " 0.0558  0.0293  0.0445  0.1367 -0.1642 -0.2189 -0.0283  0.2019 -0.1057 -0.0615\n",
       "\n",
       "Columns 10 to 19 \n",
       " 0.0738  0.1608  0.0735  0.1639 -0.0395  0.0460  0.1502 -0.0641 -0.0766 -0.0073\n",
       " 0.0054 -0.1714  0.0556 -0.0853  0.1690 -0.0709 -0.0495 -0.1813  0.0289 -0.1454\n",
       " 0.0661 -0.0512 -0.0201  0.0164  0.0869  0.0091  0.0649 -0.1033 -0.0056 -0.1052\n",
       " 0.1522 -0.1671 -0.0531 -0.0032  0.0447  0.0134 -0.1380 -0.0198  0.1526 -0.1010\n",
       "-0.0426 -0.1248 -0.1736  0.1209 -0.0730  0.1171 -0.1682  0.0186  0.1872  0.0530\n",
       " 0.1674  0.0559  0.0440 -0.1146  0.0408 -0.0596 -0.2064 -0.0545 -0.1375 -0.1143\n",
       " 0.0064 -0.0484 -0.0377 -0.0154  0.1214 -0.0633 -0.1072 -0.0789  0.0648 -0.0745\n",
       "-0.0384 -0.0890 -0.0210  0.0788 -0.0535  0.0693 -0.0854 -0.1016 -0.1911 -0.0580\n",
       " 0.0162  0.0188 -0.1543 -0.1613 -0.0743  0.1357 -0.0869 -0.0848  0.1838 -0.0309\n",
       "-0.1083  0.0621  0.1290 -0.1096 -0.0429 -0.0005 -0.0558  0.1454  0.0575 -0.0915\n",
       "-0.0008 -0.0556  0.1171 -0.0243  0.0349  0.0053 -0.0358  0.0670  0.0713  0.0882\n",
       "-0.0199 -0.0368  0.0149 -0.0674 -0.0884 -0.0443 -0.0096  0.0813  0.0288 -0.0822\n",
       " 0.1597 -0.0637  0.1551 -0.1675 -0.1576 -0.1144 -0.0449 -0.0570  0.1256 -0.0981\n",
       " 0.1235  0.0156  0.0374  0.0859  0.0364 -0.0076  0.1030  0.1370  0.0289  0.0575\n",
       "-0.1776  0.1496 -0.1492 -0.0685 -0.2137  0.0727 -0.0821 -0.1444  0.0218 -0.0223\n",
       " 0.0426  0.0565  0.1713  0.0111 -0.0308 -0.0863 -0.1307 -0.0738  0.1059 -0.0609\n",
       " 0.0910 -0.1341 -0.0645  0.1934 -0.0344  0.0395  0.0642 -0.0260 -0.1425  0.1348\n",
       " 0.1161 -0.1028  0.0356 -0.1240 -0.0469 -0.1346  0.1167 -0.1455  0.0423  0.0909\n",
       "-0.1464 -0.0019  0.0467  0.0647  0.1251 -0.0435 -0.0416  0.1431 -0.1254  0.0952\n",
       "-0.2335  0.1059  0.0685  0.0951 -0.1266  0.1604 -0.0890  0.0807 -0.0168 -0.1685\n",
       " 0.1343 -0.1030  0.0811 -0.1161  0.0699 -0.0732 -0.1100  0.1604  0.1202 -0.1113\n",
       "\n",
       "Columns 20 to 29 \n",
       " 0.1313 -0.1977  0.0482  0.0547 -0.0298 -0.0592 -0.2100 -0.0084  0.1415 -0.1056\n",
       " 0.0699  0.0537  0.0077  0.0623 -0.2053  0.0600 -0.1035  0.1441  0.1976  0.1166\n",
       " 0.0716  0.0905  0.0892 -0.0976 -0.0014  0.0173  0.0500 -0.2454  0.0047  0.2877\n",
       " 0.0357  0.0119 -0.1604 -0.0690  0.1101  0.0102 -0.1371  0.0722  0.0553 -0.0064\n",
       "-0.0640 -0.0921  0.0346  0.1410 -0.0829 -0.1510 -0.1654  0.0858  0.1596 -0.0541\n",
       "-0.0629  0.0570  0.1653 -0.0945  0.0926 -0.2046  0.0648 -0.0168 -0.1096 -0.0595\n",
       " 0.0378  0.0116 -0.2367 -0.0874  0.1545  0.0431 -0.1626 -0.0378  0.0759  0.0571\n",
       "-0.0569 -0.0928 -0.2220 -0.0853  0.0954 -0.1129 -0.0638 -0.0498 -0.2867  0.0096\n",
       " 0.1764  0.0541 -0.1296 -0.1094 -0.1141 -0.1306 -0.0451 -0.0485  0.1863  0.0207\n",
       " 0.0290 -0.0114 -0.1885 -0.0445 -0.0186 -0.0081  0.0176 -0.1742  0.0958 -0.0931\n",
       " 0.0147  0.1393 -0.0325  0.1271  0.1490 -0.0525  0.1998  0.1321  0.0620  0.0723\n",
       "-0.0302 -0.1037  0.0446  0.1881 -0.1439 -0.0452  0.1193  0.0444  0.1037  0.1018\n",
       "-0.1566 -0.0077  0.0246 -0.0150  0.1242  0.1417 -0.1460  0.0768 -0.0304  0.0372\n",
       " 0.0916  0.1380 -0.0348 -0.0996  0.0330  0.0601  0.0303 -0.0336  0.1445 -0.0015\n",
       "-0.0200 -0.1039  0.0755  0.1022 -0.1176 -0.1327 -0.0172 -0.0472  0.0748 -0.1698\n",
       "-0.1448  0.1425  0.0913 -0.0080  0.0405 -0.1270  0.0499  0.1182  0.1944  0.0934\n",
       " 0.0632 -0.0878 -0.0756 -0.1253  0.0792  0.0834  0.0040 -0.1454  0.0481  0.1606\n",
       " 0.0192 -0.1081 -0.1560  0.1067 -0.0185  0.0510  0.0718 -0.1432 -0.1204 -0.1936\n",
       "-0.1214  0.2490  0.0676  0.0912  0.1328 -0.0970  0.0534  0.0307 -0.0267 -0.1428\n",
       " 0.1279 -0.0867  0.0459  0.0410 -0.0005  0.1152 -0.0899 -0.0239  0.0496 -0.0872\n",
       "-0.0736 -0.0843  0.1379 -0.1090 -0.0299 -0.0675 -0.0253 -0.1061  0.0737 -0.1512\n",
       "\n",
       "Columns 30 to 31 \n",
       "-0.1480  0.0110\n",
       "-0.0608  0.1831\n",
       "-0.0223 -0.0444\n",
       " 0.0616 -0.1381\n",
       " 0.0380  0.1028\n",
       "-0.0248  0.1561\n",
       " 0.0068  0.0128\n",
       " 0.0471 -0.0540\n",
       "-0.0367 -0.0969\n",
       "-0.0915  0.0784\n",
       "-0.1362  0.0200\n",
       " 0.1611 -0.0536\n",
       "-0.0311 -0.1436\n",
       "-0.0996  0.0470\n",
       "-0.0037  0.1147\n",
       " 0.0169  0.0076\n",
       "-0.1596  0.0918\n",
       " 0.0766  0.0945\n",
       " 0.0074 -0.0474\n",
       "-0.0853 -0.0229\n",
       "-0.0547 -0.1004\n",
       "[torch.FloatTensor of size 21x32]"
      ]
     },
     "execution_count": 91,
     "metadata": {},
     "output_type": "execute_result"
    }
   ],
   "source": [
    "model[(0)].weight"
   ]
  },
  {
   "cell_type": "code",
   "execution_count": 92,
   "metadata": {
    "collapsed": false
   },
   "outputs": [
    {
     "data": {
      "text/plain": [
       "Parameter containing:\n",
       "\n",
       "Columns 0 to 9 \n",
       " 0.0445  0.0230 -0.0498  0.0945 -0.0624 -0.0046  0.1244 -0.1386  0.1513  0.1186\n",
       " 0.0168  0.0086  0.1653 -0.1509  0.0652  0.1640 -0.1239 -0.0709  0.1901  0.2109\n",
       "-0.0495 -0.1209 -0.1580 -0.1768  0.0683  0.1609  0.0722  0.1572  0.1796  0.0224\n",
       "-0.0185  0.0603 -0.0554  0.0011  0.0606  0.1698  0.1523 -0.1514 -0.1583 -0.1487\n",
       " 0.1502 -0.1683  0.1530 -0.1421 -0.1762 -0.0772  0.1479  0.0467 -0.1324  0.0120\n",
       "-0.0012 -0.2133  0.0932  0.2639  0.1042  0.2717 -0.1844 -0.0839  0.1345  0.1025\n",
       " 0.0803 -0.1749 -0.1889 -0.0930 -0.1211 -0.1344 -0.1067  0.1529  0.0679 -0.2091\n",
       "-0.1750 -0.1191 -0.1608  0.1967 -0.1342 -0.2479  0.0794 -0.0421  0.0997 -0.1145\n",
       " 0.2330 -0.1768  0.0949  0.0705 -0.0623 -0.0389  0.0938  0.1457 -0.1424  0.0309\n",
       " 0.1325  0.1940 -0.1347 -0.1694 -0.0336  0.2287 -0.0990 -0.1306 -0.1551 -0.1779\n",
       "-0.0735  0.0573  0.1749  0.0661 -0.2090 -0.0987 -0.0504 -0.2029  0.1199 -0.1029\n",
       " 0.1516  0.2238 -0.0960  0.1009 -0.0327 -0.2108  0.0323 -0.1370  0.0819  0.0944\n",
       " 0.0109  0.0881  0.1499  0.1177  0.0213 -0.0801 -0.1288  0.1374  0.1416 -0.0234\n",
       "-0.0916  0.2179  0.2042 -0.1952 -0.0420  0.1322 -0.0549  0.1766 -0.1382  0.0492\n",
       "\n",
       "Columns 10 to 19 \n",
       " 0.0898  0.1173 -0.0611  0.1992 -0.1089  0.0565 -0.0041 -0.0520 -0.1613 -0.1911\n",
       " 0.2051  0.0165  0.0663  0.1344 -0.1912 -0.1293 -0.0412 -0.0639 -0.0895  0.2455\n",
       "-0.2439 -0.0751  0.2155  0.1589 -0.0780 -0.2229  0.1979  0.1211 -0.0480 -0.1681\n",
       "-0.0295  0.1704 -0.1746  0.1592 -0.0988  0.1540  0.0680 -0.0253  0.0752  0.1971\n",
       " 0.0533 -0.0913 -0.0468 -0.1809 -0.1679 -0.1888 -0.0313 -0.1815  0.1035  0.0228\n",
       " 0.1873  0.2121  0.0078 -0.1970 -0.2014 -0.3094  0.1278  0.1994  0.0746  0.0393\n",
       " 0.0600  0.1245 -0.2121 -0.1144  0.0588 -0.0796  0.2137 -0.1810  0.0373 -0.2117\n",
       " 0.0198  0.1710  0.1346  0.1815  0.0705 -0.1988  0.0651  0.0768 -0.1670  0.0397\n",
       "-0.0864 -0.0473 -0.0830  0.1900 -0.0037  0.2034 -0.0552 -0.1756  0.2030 -0.2334\n",
       "-0.0122 -0.1028 -0.1529  0.0245  0.1984 -0.1588  0.0967 -0.0422  0.2212 -0.0191\n",
       " 0.2164  0.2251  0.0539 -0.1517 -0.0635 -0.0956  0.1747  0.0622  0.1025 -0.0183\n",
       "-0.2336  0.1143  0.0049 -0.1422 -0.1510  0.0412  0.1722  0.1811  0.0084 -0.1936\n",
       "-0.1638  0.0741 -0.1051  0.1538 -0.0810 -0.1521  0.0932  0.0435  0.2824 -0.1414\n",
       " 0.1706  0.1275 -0.1243 -0.1434 -0.0878  0.1855  0.1680  0.0108 -0.1116 -0.0800\n",
       "\n",
       "Columns 20 to 20 \n",
       "-0.0550\n",
       " 0.1954\n",
       " 0.1278\n",
       " 0.1697\n",
       " 0.1598\n",
       "-0.1183\n",
       " 0.0479\n",
       " 0.1750\n",
       "-0.1804\n",
       "-0.1487\n",
       "-0.2843\n",
       "-0.1413\n",
       "-0.1227\n",
       "-0.1415\n",
       "[torch.FloatTensor of size 14x21]"
      ]
     },
     "execution_count": 92,
     "metadata": {},
     "output_type": "execute_result"
    }
   ],
   "source": [
    "model[(2)].weight"
   ]
  },
  {
   "cell_type": "code",
   "execution_count": 93,
   "metadata": {
    "collapsed": false
   },
   "outputs": [
    {
     "data": {
      "text/plain": [
       "Parameter containing:\n",
       "\n",
       "Columns 0 to 9 \n",
       "-0.0589 -0.0150 -0.1360 -0.0185 -0.1678  0.4929  0.2710 -0.1409 -0.1523 -0.0615\n",
       "-0.2772  0.1608 -0.1472  0.1280 -0.2365 -0.0113 -0.1722  0.0777  0.1538  0.1108\n",
       "-0.0860  0.2227 -0.2857 -0.2215 -0.0375 -0.1208 -0.1390  0.2478 -0.1008 -0.2572\n",
       "-0.0554  0.1414  0.1421  0.2762  0.1389 -0.1574  0.2282 -0.2641  0.0770  0.0337\n",
       "-0.0453  0.2964 -0.3976  0.0289 -0.0887  0.3322 -0.2188 -0.2146 -0.2162  0.0236\n",
       " 0.2268  0.2153  0.3109 -0.1292 -0.0285 -0.2136 -0.1966 -0.0237  0.0642 -0.0721\n",
       " 0.1407 -0.1719 -0.1480 -0.0760  0.1061 -0.1594  0.0741  0.1583  0.0162  0.2324\n",
       "-0.1493 -0.1446 -0.2541 -0.2157 -0.2286 -0.0165 -0.1276 -0.0675 -0.0785  0.0451\n",
       "-0.1015 -0.0175  0.2477  0.1856  0.2375 -0.2126  0.1249  0.1936 -0.0307  0.2865\n",
       "\n",
       "Columns 10 to 13 \n",
       " 0.2725 -0.1784 -0.1991  0.1296\n",
       " 0.1026 -0.2487 -0.1746 -0.1842\n",
       "-0.1961 -0.1478 -0.1767 -0.1008\n",
       "-0.2327  0.1631 -0.2477  0.0769\n",
       " 0.1696 -0.0545 -0.2721  0.2065\n",
       "-0.0597  0.0788 -0.0930  0.2906\n",
       "-0.1363 -0.2011  0.0736 -0.0690\n",
       " 0.0614  0.1133 -0.0207  0.1084\n",
       " 0.2434 -0.2343  0.0437  0.1270\n",
       "[torch.FloatTensor of size 9x14]"
      ]
     },
     "execution_count": 93,
     "metadata": {},
     "output_type": "execute_result"
    }
   ],
   "source": [
    "model[(4)].weight"
   ]
  },
  {
   "cell_type": "code",
   "execution_count": 94,
   "metadata": {
    "collapsed": false
   },
   "outputs": [
    {
     "data": {
      "text/plain": [
       "Parameter containing:\n",
       " 0.0042 -0.1319 -0.1943 -0.2017  0.4298 -0.0062  0.1181 -0.2159  0.2127\n",
       "-0.2876  0.1349 -0.0178 -0.2747 -0.1475  0.2351 -0.1367 -0.1098 -0.2252\n",
       " 0.4996  0.1381 -0.2096  0.0439  0.3094 -0.1840 -0.2833 -0.0951 -0.0070\n",
       "-0.2020 -0.1342 -0.1028  0.2229 -0.3504  0.4283 -0.2642 -0.0239  0.2438\n",
       " 0.0229 -0.2003 -0.0777 -0.2260 -0.3125  0.0117  0.0633  0.1469  0.3277\n",
       " 0.4693 -0.0022  0.2156  0.1674  0.4036  0.1290  0.2603 -0.1590 -0.1793\n",
       "[torch.FloatTensor of size 6x9]"
      ]
     },
     "execution_count": 94,
     "metadata": {},
     "output_type": "execute_result"
    }
   ],
   "source": [
    "model[(6)].weight"
   ]
  },
  {
   "cell_type": "code",
   "execution_count": 95,
   "metadata": {
    "collapsed": false
   },
   "outputs": [
    {
     "data": {
      "text/plain": [
       "Parameter containing:\n",
       "-0.1934 -0.1112 -0.3411  0.1067 -0.3749 -0.0559\n",
       "-0.2707  0.1899  0.2781  0.1398  0.2009 -0.3097\n",
       "-0.2413 -0.1989 -0.5347  0.6510 -0.1074 -0.0306\n",
       " 0.1504 -0.2343  0.2758 -0.5230 -0.0028  0.6233\n",
       "[torch.FloatTensor of size 4x6]"
      ]
     },
     "execution_count": 95,
     "metadata": {},
     "output_type": "execute_result"
    }
   ],
   "source": [
    "model[(8)].weight"
   ]
  },
  {
   "cell_type": "code",
   "execution_count": 96,
   "metadata": {
    "collapsed": false
   },
   "outputs": [
    {
     "data": {
      "text/plain": [
       "Parameter containing:\n",
       " 0.1027 -0.1003 -0.8764  0.7739\n",
       "[torch.FloatTensor of size 1x4]"
      ]
     },
     "execution_count": 96,
     "metadata": {},
     "output_type": "execute_result"
    }
   ],
   "source": [
    "model[(10)].weight"
   ]
  },
  {
   "cell_type": "markdown",
   "metadata": {},
   "source": [
    "## Round 6: Six-Hidden-Layer Neural Network"
   ]
  },
  {
   "cell_type": "code",
   "execution_count": 97,
   "metadata": {
    "collapsed": true
   },
   "outputs": [],
   "source": [
    "# Make the torch Tensor into a PyTorch Variable for dependent variables\n",
    "outcomes_Variable = Variable(outcomes_Tensor)\n",
    "\n",
    "\n",
    "# ...for independent variables\n",
    "features_Variable = Variable(features_Tensor,\n",
    "                             requires_grad = False)"
   ]
  },
  {
   "cell_type": "code",
   "execution_count": 98,
   "metadata": {
    "collapsed": true
   },
   "outputs": [],
   "source": [
    "# Make the neural network\n",
    "model = torch.nn.Sequential(torch.nn.Linear(32, 21),\n",
    "                            torch.nn.ReLU(),\n",
    "                            torch.nn.Linear(21, 14),\n",
    "                            torch.nn.ReLU(),\n",
    "                            torch.nn.Linear(14, 9),\n",
    "                            torch.nn.ReLU(),\n",
    "                            torch.nn.Linear(9, 6),\n",
    "                            torch.nn.ReLU(),\n",
    "                            torch.nn.Linear(6, 4),\n",
    "                            torch.nn.ReLU(),\n",
    "                            torch.nn.Linear(4, 3),\n",
    "                            torch.nn.ReLU(),\n",
    "                            torch.nn.Linear(3, 1))"
   ]
  },
  {
   "cell_type": "code",
   "execution_count": 99,
   "metadata": {
    "collapsed": true
   },
   "outputs": [],
   "source": [
    "# To add errors to\n",
    "errors = []\n",
    "\n",
    "\n",
    "# Set the learning rate\n",
    "learning_rate = 5e-6\n",
    "\n",
    "\n",
    "# Train the neural network\n",
    "for t in range(10000):\n",
    "    \n",
    "    # Get the current predictions\n",
    "    y_pred = model(features_Variable)\n",
    "    \n",
    "    # Compute and append current summed errors\n",
    "    loss = loss_fn(y_pred, outcomes_Variable)\n",
    "    errors.append(loss.data[0])\n",
    "    \n",
    "    # Zero the gradients before running the backward pass.\n",
    "    model.zero_grad()\n",
    "    \n",
    "    # Backward pass: compute gradient of the loss with respect to all the learnable Variables\n",
    "    loss.backward()\n",
    "    \n",
    "    # Update the weights using gradient descent\n",
    "    for param in model.parameters():\n",
    "        param.data -= learning_rate * param.grad.data"
   ]
  },
  {
   "cell_type": "code",
   "execution_count": 100,
   "metadata": {
    "collapsed": false
   },
   "outputs": [
    {
     "data": {
      "text/plain": [
       "<matplotlib.collections.PathCollection at 0x7fb8c1657da0>"
      ]
     },
     "execution_count": 100,
     "metadata": {},
     "output_type": "execute_result"
    },
    {
     "data": {
      "image/png": "[encoded data removed]",
      "text/plain": [
       "<matplotlib.figure.Figure at 0x7fb8c1915780>"
      ]
     },
     "metadata": {},
     "output_type": "display_data"
    }
   ],
   "source": [
    "# Plot summed error as a function of iteration\n",
    "plt.scatter(iterations, errors)"
   ]
  },
  {
   "cell_type": "code",
   "execution_count": 101,
   "metadata": {
    "collapsed": true
   },
   "outputs": [],
   "source": [
    "# Get rid of the 2nd dimension of 1 from the FloatTensor\n",
    "y_pred_resized = y_pred.resize(8230)\n",
    "\n",
    "\n",
    "# Make the FloatTensor into a numpy.array\n",
    "y_pred_array = y_pred_resized.data.numpy()\n",
    "\n",
    "\n",
    "# Make the numpy.array into a list\n",
    "y_pred_list = y_pred_array.tolist()"
   ]
  },
  {
   "cell_type": "code",
   "execution_count": 102,
   "metadata": {
    "collapsed": false
   },
   "outputs": [
    {
     "data": {
      "text/plain": [
       "[<matplotlib.lines.Line2D at 0x7fb8c18d9978>]"
      ]
     },
     "execution_count": 102,
     "metadata": {},
     "output_type": "execute_result"
    },
    {
     "data": {
      "image/png": "[encoded data removed]",
      "text/plain": [
       "<matplotlib.figure.Figure at 0x7fb8c18d9828>"
      ]
     },
     "metadata": {},
     "output_type": "display_data"
    }
   ],
   "source": [
    "# Plot predictions versus training set outcomes\n",
    "plt.scatter(outcomes_list, y_pred_list, c = \"black\", alpha = 0.15)\n",
    "\n",
    "axes = plt.gca()\n",
    "\n",
    "axes.set_xlim([-2, 4])\n",
    "\n",
    "axes.set_ylim([-2, 4])\n",
    "\n",
    "plt.plot([-2, 4], [-2, 4], 'k-', lw=2)"
   ]
  },
  {
   "cell_type": "markdown",
   "metadata": {},
   "source": [
    "### Round 6.1: Validation Set Performance"
   ]
  },
  {
   "cell_type": "code",
   "execution_count": 103,
   "metadata": {
    "collapsed": false
   },
   "outputs": [
    {
     "data": {
      "text/plain": [
       "Variable containing:\n",
       " 274.0562\n",
       "[torch.FloatTensor of size 1]"
      ]
     },
     "execution_count": 103,
     "metadata": {},
     "output_type": "execute_result"
    }
   ],
   "source": [
    "# Get the validation set predictions\n",
    "y_valid_pred = model(valid_predictors_Variable)\n",
    "\n",
    "\n",
    "# Print the loss\n",
    "loss_fn(y_valid_pred,\n",
    "        valid_outcomes_Variable)"
   ]
  },
  {
   "cell_type": "code",
   "execution_count": 104,
   "metadata": {
    "collapsed": true
   },
   "outputs": [],
   "source": [
    "# Get rid of the 2nd dimension of 1 from the FloatTensor\n",
    "y_valid_pred_resized = y_valid_pred.resize(2748)\n",
    "\n",
    "\n",
    "# Make the FloatTensor into a numpy.array\n",
    "y_valid_pred_array = y_valid_pred_resized.data.numpy()\n",
    "\n",
    "\n",
    "# Make the numpy.array into a list\n",
    "y_valid_pred_list = y_valid_pred_array.tolist()"
   ]
  },
  {
   "cell_type": "code",
   "execution_count": 105,
   "metadata": {
    "collapsed": false
   },
   "outputs": [
    {
     "data": {
      "text/plain": [
       "[<matplotlib.lines.Line2D at 0x7fb8c15194a8>]"
      ]
     },
     "execution_count": 105,
     "metadata": {},
     "output_type": "execute_result"
    },
    {
     "data": {
      "image/png": "[encoded data removed]",
      "text/plain": [
       "<matplotlib.figure.Figure at 0x7fb8c1519160>"
      ]
     },
     "metadata": {},
     "output_type": "display_data"
    }
   ],
   "source": [
    "# Plot new predictions versus new data outcomes\n",
    "plt.scatter(valid_outcomes_list, y_valid_pred_list, c = \"black\", alpha = 0.15)\n",
    "\n",
    "axes = plt.gca()\n",
    "\n",
    "axes.set_xlim([-2, 4])\n",
    "\n",
    "axes.set_ylim([-2, 4])\n",
    "\n",
    "plt.plot([-2, 4], [-2, 4], 'k-', lw=2)"
   ]
  },
  {
   "cell_type": "markdown",
   "metadata": {},
   "source": [
    "### Round 6.2: Test Set Performance"
   ]
  },
  {
   "cell_type": "code",
   "execution_count": 106,
   "metadata": {
    "collapsed": false
   },
   "outputs": [
    {
     "data": {
      "text/plain": [
       "Variable containing:\n",
       " 263.7682\n",
       "[torch.FloatTensor of size 1]"
      ]
     },
     "execution_count": 106,
     "metadata": {},
     "output_type": "execute_result"
    }
   ],
   "source": [
    "# Get the validation set predictions\n",
    "y_test_pred = model(test_predictors_Variable)\n",
    "\n",
    "\n",
    "# Print the loss\n",
    "loss_fn(y_test_pred,\n",
    "        test_outcomes_Variable)"
   ]
  },
  {
   "cell_type": "code",
   "execution_count": 107,
   "metadata": {
    "collapsed": true
   },
   "outputs": [],
   "source": [
    "# Get rid of the 2nd dimension of 1 from the FloatTensor\n",
    "y_test_pred_resized = y_test_pred.resize(2699)\n",
    "\n",
    "\n",
    "# Make the FloatTensor into a numpy.array\n",
    "y_test_pred_array = y_test_pred_resized.data.numpy()\n",
    "\n",
    "\n",
    "# Convert back to native units and scale\n",
    "y_test_pred_array = y_test_pred_array*5.409956 + 7.691221\n",
    "\n",
    "\n",
    "# Make the numpy.array into a list\n",
    "y_test_pred_list = y_test_pred_array.tolist()"
   ]
  },
  {
   "cell_type": "code",
   "execution_count": 108,
   "metadata": {
    "collapsed": false
   },
   "outputs": [
    {
     "data": {
      "text/plain": [
       "<matplotlib.text.Text at 0x7fb8c14da7f0>"
      ]
     },
     "execution_count": 108,
     "metadata": {},
     "output_type": "execute_result"
    },
    {
     "data": {
      "image/png": "[encoded data removed]",
      "text/plain": [
       "<matplotlib.figure.Figure at 0x7fb8c151e8d0>"
      ]
     },
     "metadata": {},
     "output_type": "display_data"
    }
   ],
   "source": [
    "# Plot new predictions versus new data outcomes\n",
    "plt.scatter(test_outcomes_list, y_test_pred_list, c = \"black\", alpha = 0.15)\n",
    "\n",
    "axes = plt.gca()\n",
    "\n",
    "axes.set_xlim([2, 23])\n",
    "\n",
    "axes.set_ylim([2, 23])\n",
    "\n",
    "axes.set_xticks([2, 5, 8, 11, 14, 17, 20, 23])\n",
    "\n",
    "axes.set_yticks([2, 5, 8, 11, 14, 17, 20, 23])\n",
    "\n",
    "plt.plot([2, 23], [2, 23], 'k-', lw=2)\n",
    "\n",
    "axes.set_xlabel(\"Actual Outcome (Log-Transformed US Dollars)\")\n",
    "\n",
    "axes.set_ylabel(\"Model Prediction (Log-Transformed US Dollars)\")\n",
    "\n",
    "axes.set_title(\"Model Performance\")"
   ]
  },
  {
   "cell_type": "code",
   "execution_count": 109,
   "metadata": {
    "collapsed": false
   },
   "outputs": [
    {
     "data": {
      "text/plain": [
       "Parameter containing:\n",
       "\n",
       "Columns 0 to 9 \n",
       "-0.0462  0.0053 -0.0163 -0.1811 -0.0705 -0.0269 -0.0958  0.1063  0.1686  0.0989\n",
       "-0.0156 -0.0091  0.1699 -0.0266 -0.0723  0.0937  0.1639  0.2273  0.1222 -0.1026\n",
       " 0.1172  0.0768  0.1761 -0.0445 -0.0668 -0.0956 -0.0351 -0.1200 -0.0609 -0.0230\n",
       " 0.0204  0.0627  0.1508  0.0467  0.0696 -0.0466  0.1064  0.0128 -0.1628 -0.0737\n",
       " 0.0176  0.0120  0.0023 -0.0076  0.0757 -0.0428 -0.0423 -0.0207  0.0631  0.1339\n",
       " 0.0530  0.1439  0.0308 -0.0009  0.0711 -0.1243 -0.0835 -0.0055 -0.0028  0.0956\n",
       "-0.0669 -0.1238  0.0532  0.0672 -0.0345 -0.0724 -0.0513  0.0881  0.1242 -0.1429\n",
       " 0.0845  0.0605 -0.0358  0.0485  0.2327 -0.0500  0.0655 -0.0255  0.1627 -0.1214\n",
       "-0.1680  0.0281 -0.0420 -0.1683 -0.0545 -0.0087 -0.0699 -0.0410 -0.0026 -0.0244\n",
       "-0.0317 -0.0596  0.0570  0.1857 -0.0161  0.0081 -0.1112  0.0989  0.0101 -0.0609\n",
       " 0.0798  0.0400 -0.0692 -0.1722 -0.0843  0.1712 -0.0895  0.0111 -0.1262 -0.0656\n",
       " 0.1015  0.1338  0.1579 -0.0962 -0.0552 -0.1507 -0.1464 -0.1676  0.0546  0.0945\n",
       " 0.0786 -0.0807 -0.0054  0.0059 -0.0975 -0.3010  0.0115  0.0996 -0.0760  0.0529\n",
       " 0.0083  0.1488  0.1102 -0.1031  0.0113 -0.0669  0.1881 -0.1502 -0.0069 -0.1004\n",
       "-0.0472 -0.1349 -0.0330 -0.1034 -0.0597  0.0758 -0.0443 -0.0754  0.1331 -0.1215\n",
       "-0.1601  0.0498  0.1507  0.1089  0.1737 -0.0072 -0.0833  0.0137  0.1295  0.1581\n",
       "-0.0571  0.0611 -0.0220 -0.1012 -0.0631  0.1289 -0.0098  0.1747 -0.1426  0.0381\n",
       " 0.1386 -0.0775 -0.0046  0.1125  0.0332  0.0012  0.1379  0.0206 -0.1675 -0.1585\n",
       " 0.0656 -0.0606  0.1362 -0.1328 -0.0191 -0.1558  0.1718  0.0254  0.0932  0.0901\n",
       " 0.1481  0.0053  0.0878 -0.1144  0.1074 -0.1184 -0.0423 -0.1347 -0.0047  0.0326\n",
       " 0.1440 -0.0970 -0.1213 -0.1073  0.0791 -0.1231 -0.0164  0.1733  0.1934 -0.0889\n",
       "\n",
       "Columns 10 to 19 \n",
       "-0.0374 -0.0162 -0.1845 -0.0297 -0.0726 -0.0346 -0.1092 -0.0746  0.0542 -0.0784\n",
       "-0.1421 -0.0632 -0.1375  0.1822 -0.1504 -0.1515 -0.1209 -0.0414  0.0270 -0.1079\n",
       "-0.1368 -0.0001 -0.1221  0.1800  0.1616  0.1542  0.0365 -0.0199  0.1982  0.0391\n",
       "-0.0978  0.0674 -0.0266 -0.1534  0.0647 -0.0790 -0.0870 -0.0629  0.1008 -0.1186\n",
       " 0.0233  0.1226  0.0836 -0.0907  0.0744 -0.1020  0.0138 -0.0944  0.1085 -0.0078\n",
       "-0.0644 -0.0706  0.2613 -0.0469  0.1336 -0.0426  0.0663 -0.0863 -0.1723  0.1878\n",
       "-0.1643  0.1460  0.1060 -0.0543  0.0291 -0.0030  0.0380 -0.0606 -0.1133  0.1126\n",
       " 0.1355  0.0097  0.0417  0.0246 -0.0161 -0.0611  0.0428  0.1811 -0.0138 -0.1070\n",
       "-0.0058  0.0952  0.1695  0.0318  0.0619 -0.0949 -0.0308 -0.0582  0.1337 -0.0801\n",
       "-0.1316 -0.0533  0.0407  0.1826 -0.1688 -0.0303  0.0754 -0.0203  0.0516  0.1443\n",
       "-0.0427 -0.0003  0.0730  0.1948  0.0945 -0.1930  0.0458  0.1079  0.1885  0.1506\n",
       "-0.0646 -0.0026 -0.0213 -0.0477 -0.1206 -0.1521  0.1415 -0.0189 -0.0028  0.0895\n",
       " 0.0412 -0.0151  0.0012 -0.0553  0.1282 -0.0779 -0.1186 -0.1377 -0.1701 -0.0033\n",
       "-0.1596  0.1725  0.1699  0.0908  0.1448 -0.1323 -0.0148 -0.1469 -0.1206  0.1236\n",
       "-0.0160  0.1545  0.0123  0.0521 -0.1249  0.1612 -0.1450  0.0158 -0.1601  0.0587\n",
       "-0.0662 -0.1115 -0.1433  0.0269  0.0330  0.0804 -0.2459  0.0680  0.1372  0.0908\n",
       "-0.1281  0.1788  0.0441 -0.0151 -0.0734  0.0572  0.0541 -0.0626  0.0761  0.1139\n",
       " 0.0972 -0.1455 -0.0977  0.0702 -0.1087  0.1094 -0.0748  0.1073 -0.1142 -0.0140\n",
       " 0.1685 -0.0640 -0.0008  0.0285 -0.0647 -0.0192  0.0314 -0.0955 -0.0518  0.0127\n",
       " 0.1212  0.0772 -0.0486  0.1804  0.1336  0.1549 -0.0951  0.0305 -0.0790  0.0448\n",
       "-0.0852  0.1360  0.0332  0.0166 -0.0285 -0.0853  0.0703 -0.1479  0.1241  0.0229\n",
       "\n",
       "Columns 20 to 29 \n",
       " 0.1107  0.1661  0.0923  0.0706  0.1554  0.0686 -0.0928 -0.0143 -0.0296 -0.1648\n",
       " 0.0553  0.0803 -0.1865  0.0562 -0.0682  0.1631  0.0639 -0.0621  0.1491 -0.0746\n",
       " 0.0391  0.0355 -0.2023  0.0274  0.1535  0.1662  0.0376  0.1547 -0.1128 -0.1254\n",
       " 0.1396 -0.0501  0.2072  0.0120  0.1134  0.1622  0.2417  0.0661 -0.0278 -0.0773\n",
       "-0.0266  0.1298  0.2211  0.1723 -0.0402 -0.1836  0.1301 -0.0223 -0.0970  0.2176\n",
       " 0.0234 -0.1276  0.1018  0.1544 -0.0245 -0.1081  0.2718  0.0622 -0.1502  0.1736\n",
       "-0.0937 -0.1010 -0.0503 -0.0047  0.0203  0.1323 -0.0726 -0.0388  0.0753 -0.1852\n",
       "-0.1138 -0.0192  0.2784  0.1526  0.1840 -0.0772 -0.0139 -0.1154  0.1345  0.0965\n",
       "-0.1378  0.2228 -0.0670  0.1923 -0.0676  0.0524 -0.0366  0.1100  0.1445  0.0317\n",
       "-0.0468  0.1733  0.0936  0.1440  0.0779  0.1504  0.1583  0.1186 -0.0916 -0.1063\n",
       "-0.0526  0.0312  0.1268  0.0804  0.0269  0.1537  0.0355 -0.0934  0.1237  0.0536\n",
       "-0.0801 -0.0505  0.1737 -0.0951 -0.1176  0.0869 -0.0741  0.1300 -0.0902  0.0702\n",
       "-0.0752 -0.1035  0.0678 -0.1487  0.0205  0.0345 -0.2323 -0.0244 -0.1390 -0.1919\n",
       "-0.0177 -0.0767 -0.1621  0.0454 -0.0819  0.0473  0.0055 -0.0892 -0.0105 -0.0774\n",
       " 0.0929  0.0352 -0.0979  0.0053 -0.0143  0.1194 -0.1534 -0.0709  0.1428  0.1416\n",
       " 0.0469  0.0138  0.1020  0.1220 -0.0796  0.0704  0.1824  0.0759  0.1118 -0.1124\n",
       "-0.0384 -0.1423  0.0765  0.1354 -0.1305 -0.0721 -0.1445  0.0228 -0.2228 -0.0977\n",
       " 0.1292  0.1413  0.1582 -0.1614  0.0520  0.0818  0.1793 -0.1173 -0.0236  0.1232\n",
       "-0.0163 -0.1131 -0.0115  0.1258 -0.0920  0.1029 -0.0990 -0.0631  0.1195  0.0201\n",
       " 0.1221 -0.0273 -0.1866  0.0934  0.0395  0.0690 -0.0879 -0.0507  0.1721  0.0385\n",
       "-0.0416  0.0069 -0.1322 -0.1477  0.0384  0.0321  0.1384 -0.1426  0.1704  0.1138\n",
       "\n",
       "Columns 30 to 31 \n",
       " 0.1197 -0.1467\n",
       "-0.0951  0.1692\n",
       " 0.0688  0.0329\n",
       "-0.1243 -0.0958\n",
       " 0.0385 -0.1243\n",
       " 0.0243 -0.0165\n",
       " 0.1878 -0.0576\n",
       " 0.1084  0.1154\n",
       " 0.0377  0.1368\n",
       "-0.0934 -0.0833\n",
       " 0.1483  0.1982\n",
       "-0.1457 -0.0236\n",
       "-0.0518 -0.1246\n",
       " 0.0840 -0.1448\n",
       "-0.0140  0.0399\n",
       "-0.0011  0.0496\n",
       " 0.1074 -0.1432\n",
       "-0.0830  0.0218\n",
       "-0.0723  0.0458\n",
       "-0.1248  0.1795\n",
       " 0.0512  0.0582\n",
       "[torch.FloatTensor of size 21x32]"
      ]
     },
     "execution_count": 109,
     "metadata": {},
     "output_type": "execute_result"
    }
   ],
   "source": [
    "model[(0)].weight"
   ]
  },
  {
   "cell_type": "code",
   "execution_count": 110,
   "metadata": {
    "collapsed": false
   },
   "outputs": [
    {
     "data": {
      "text/plain": [
       "Parameter containing:\n",
       "\n",
       "Columns 0 to 9 \n",
       "-0.0646  0.1729  0.2309  0.1478  0.0631 -0.2032 -0.0290  0.1738 -0.1642  0.1116\n",
       "-0.0058  0.0845  0.1322  0.0561  0.0582  0.1734  0.0601  0.2696 -0.1296 -0.0252\n",
       " 0.0417  0.1463  0.1236  0.0117  0.0849 -0.0774  0.0677  0.0935 -0.1600  0.1588\n",
       " 0.1784  0.1771  0.1116  0.0883 -0.0026 -0.1787 -0.0113 -0.1099  0.1792  0.0224\n",
       "-0.1247  0.0527 -0.2115  0.2139  0.1617  0.1240  0.1052  0.1624  0.0925  0.2262\n",
       "-0.1735 -0.1886  0.0214 -0.1839  0.0866 -0.0082 -0.0023 -0.0802 -0.0962  0.2140\n",
       " 0.0148  0.0542 -0.1480  0.0318 -0.1004  0.1649  0.1015  0.2262 -0.2163  0.1265\n",
       "-0.1951 -0.0990 -0.1261  0.1811 -0.1098 -0.1180 -0.0465 -0.1277 -0.2125  0.1739\n",
       " 0.0829 -0.1073  0.1508 -0.1149 -0.0442 -0.1063 -0.1172  0.1508 -0.0279  0.1433\n",
       "-0.0029  0.0323 -0.0279  0.0436  0.0941 -0.0080  0.0503 -0.1730 -0.1622  0.1363\n",
       " 0.2164 -0.2225  0.1367  0.0761  0.2241  0.0786  0.0268  0.2005 -0.1078  0.1716\n",
       " 0.1674 -0.0951 -0.0220 -0.1775 -0.2253 -0.1022  0.0588 -0.0351  0.1410  0.1153\n",
       "-0.1588 -0.0274  0.1834 -0.0234  0.0121 -0.0391  0.0696 -0.1243  0.0253 -0.0329\n",
       " 0.1605 -0.1243 -0.1804  0.2079  0.1709  0.1716 -0.1254  0.1915 -0.1851 -0.0113\n",
       "\n",
       "Columns 10 to 19 \n",
       "-0.1720 -0.0531  0.1643  0.0110 -0.1821 -0.1935 -0.0058 -0.2145  0.1660 -0.1527\n",
       "-0.1599  0.0347 -0.1794  0.1328  0.0045  0.1768 -0.1471  0.1554  0.0005 -0.0369\n",
       "-0.1780  0.0692  0.0672  0.0589  0.0377  0.1821 -0.0351  0.1535  0.1956 -0.1532\n",
       "-0.1701 -0.1969  0.2046  0.1386 -0.0500 -0.1991  0.0947  0.0657  0.1193  0.0682\n",
       "-0.1205  0.1479 -0.2055 -0.0711  0.1494 -0.0669  0.0716  0.0940  0.1403 -0.1844\n",
       "-0.1436  0.1452 -0.2165 -0.1932 -0.0206 -0.0393 -0.1028 -0.1697 -0.0073  0.0671\n",
       " 0.1368 -0.1562 -0.1480 -0.0283 -0.2185  0.1013  0.0141 -0.1442  0.0784 -0.0602\n",
       " 0.1932  0.2187  0.1810  0.1938  0.1604  0.2038  0.0635 -0.0961 -0.0401  0.1477\n",
       "-0.1362  0.0681  0.1318  0.0645 -0.2099  0.1300 -0.1722 -0.1387 -0.1489 -0.2086\n",
       " 0.0454  0.1153 -0.0223 -0.1014 -0.0985  0.0759 -0.1326 -0.2121  0.1236  0.0831\n",
       "-0.1951 -0.1726 -0.1165 -0.0851 -0.1727  0.2330 -0.0156 -0.0644  0.1759  0.0040\n",
       " 0.1342 -0.0499  0.1252 -0.2139 -0.0831 -0.2029  0.1674  0.0294 -0.2024  0.1608\n",
       "-0.1927 -0.0925  0.2073 -0.1080 -0.1390 -0.0788  0.0757  0.0528 -0.0188 -0.1373\n",
       "-0.2138  0.2011 -0.0369  0.0475 -0.0094  0.0530 -0.1295  0.3216  0.0420 -0.0794\n",
       "\n",
       "Columns 20 to 20 \n",
       "-0.1487\n",
       " 0.2094\n",
       "-0.0514\n",
       "-0.0224\n",
       " 0.2360\n",
       "-0.0739\n",
       "-0.0335\n",
       " 0.0923\n",
       "-0.2047\n",
       "-0.0739\n",
       " 0.0049\n",
       "-0.0724\n",
       " 0.2108\n",
       "-0.1670\n",
       "[torch.FloatTensor of size 14x21]"
      ]
     },
     "execution_count": 110,
     "metadata": {},
     "output_type": "execute_result"
    }
   ],
   "source": [
    "model[(2)].weight"
   ]
  },
  {
   "cell_type": "code",
   "execution_count": 111,
   "metadata": {
    "collapsed": false
   },
   "outputs": [
    {
     "data": {
      "text/plain": [
       "Parameter containing:\n",
       "\n",
       "Columns 0 to 9 \n",
       "-0.2244  0.0727  0.2468 -0.0279 -0.2065  0.2135  0.1704  0.0675  0.2264  0.1207\n",
       "-0.1059 -0.1520  0.1984  0.0727 -0.0986  0.1732 -0.2176 -0.2286  0.2553 -0.2358\n",
       "-0.0236 -0.0750 -0.1113 -0.1209 -0.2141  0.0926 -0.0844 -0.1859  0.1790 -0.1022\n",
       " 0.0559 -0.0578 -0.0737 -0.0458 -0.1610  0.1886  0.1195 -0.2092 -0.1243  0.0458\n",
       "-0.1794 -0.1965  0.1716 -0.1641 -0.2267 -0.0469 -0.2637 -0.1079  0.1484  0.2301\n",
       "-0.0506  0.0520  0.1529 -0.2663  0.0526 -0.1572  0.2389 -0.1541  0.2719 -0.0684\n",
       "-0.2081  0.3683 -0.0323 -0.1555  0.0879 -0.1863  0.1513 -0.0239 -0.2003  0.0014\n",
       "-0.1587 -0.1661  0.2500  0.2291 -0.1827 -0.2161 -0.1046  0.0083  0.1017  0.2571\n",
       "-0.1500  0.0081  0.1673  0.1632 -0.1089 -0.0518 -0.2062 -0.1874 -0.0806 -0.2659\n",
       "\n",
       "Columns 10 to 13 \n",
       "-0.0672 -0.1680  0.0520 -0.0791\n",
       " 0.1037 -0.0900  0.1388  0.1753\n",
       "-0.0718  0.0596  0.2096 -0.2161\n",
       "-0.0701  0.0650 -0.2415  0.1092\n",
       "-0.2303 -0.2601 -0.0509  0.2465\n",
       " 0.2090 -0.1456  0.0993  0.3399\n",
       " 0.2763  0.0652 -0.0571  0.4177\n",
       "-0.0689 -0.0188  0.0425  0.2558\n",
       "-0.2354 -0.0935 -0.0280  0.2226\n",
       "[torch.FloatTensor of size 9x14]"
      ]
     },
     "execution_count": 111,
     "metadata": {},
     "output_type": "execute_result"
    }
   ],
   "source": [
    "model[(4)].weight"
   ]
  },
  {
   "cell_type": "code",
   "execution_count": 112,
   "metadata": {
    "collapsed": false
   },
   "outputs": [
    {
     "data": {
      "text/plain": [
       "Parameter containing:\n",
       "-0.2578  0.0076 -0.0846  0.0302 -0.0525  0.4015  0.5376  0.0399  0.1110\n",
       " 0.2985  0.0772  0.1250  0.2900 -0.0131  0.0024 -0.1398  0.0588 -0.1512\n",
       "-0.1636  0.2425 -0.1091 -0.0443  0.2070 -0.2063 -0.3139 -0.2008  0.2934\n",
       " 0.0052 -0.2089 -0.2364 -0.0599 -0.1383 -0.0265  0.3017 -0.2114 -0.2281\n",
       " 0.2444 -0.0574  0.1958  0.0868  0.2313 -0.2415 -0.1189 -0.1831  0.3257\n",
       " 0.1735 -0.2406  0.1970 -0.0460  0.0778 -0.1041 -0.1506 -0.1196  0.1250\n",
       "[torch.FloatTensor of size 6x9]"
      ]
     },
     "execution_count": 112,
     "metadata": {},
     "output_type": "execute_result"
    }
   ],
   "source": [
    "model[(6)].weight"
   ]
  },
  {
   "cell_type": "code",
   "execution_count": 113,
   "metadata": {
    "collapsed": false
   },
   "outputs": [
    {
     "data": {
      "text/plain": [
       "Parameter containing:\n",
       " 0.7398 -0.2061 -0.3510 -0.0110 -0.1109  0.3295\n",
       "-0.0393 -0.1288  0.1840  0.0341 -0.2074  0.1410\n",
       "-0.1284 -0.3427  0.2610 -0.1145  0.7015  0.2745\n",
       " 0.2017 -0.2442  0.1987  0.3346 -0.0421  0.3730\n",
       "[torch.FloatTensor of size 4x6]"
      ]
     },
     "execution_count": 113,
     "metadata": {},
     "output_type": "execute_result"
    }
   ],
   "source": [
    "model[(8)].weight"
   ]
  },
  {
   "cell_type": "code",
   "execution_count": 114,
   "metadata": {
    "collapsed": false
   },
   "outputs": [
    {
     "data": {
      "text/plain": [
       "Parameter containing:\n",
       " 0.7423 -0.3350 -0.8175  0.2896\n",
       "-0.0257  0.3574 -0.2083 -0.1653\n",
       "-0.3172  0.3506 -0.1952  0.0404\n",
       "[torch.FloatTensor of size 3x4]"
      ]
     },
     "execution_count": 114,
     "metadata": {},
     "output_type": "execute_result"
    }
   ],
   "source": [
    "model[(10)].weight"
   ]
  },
  {
   "cell_type": "code",
   "execution_count": 115,
   "metadata": {
    "collapsed": false
   },
   "outputs": [
    {
     "data": {
      "text/plain": [
       "Parameter containing:\n",
       " 0.8890 -0.2958  0.2578\n",
       "[torch.FloatTensor of size 1x3]"
      ]
     },
     "execution_count": 115,
     "metadata": {},
     "output_type": "execute_result"
    }
   ],
   "source": [
    "model[(12)].weight"
   ]
  },
  {
   "cell_type": "markdown",
   "metadata": {},
   "source": [
    "## Round 7: Seven-Hidden-Layer Neural Network"
   ]
  },
  {
   "cell_type": "code",
   "execution_count": 116,
   "metadata": {
    "collapsed": true
   },
   "outputs": [],
   "source": [
    "# Make the torch Tensor into a PyTorch Variable for dependent variables\n",
    "outcomes_Variable = Variable(outcomes_Tensor)\n",
    "\n",
    "\n",
    "# ...for independent variables\n",
    "features_Variable = Variable(features_Tensor,\n",
    "                             requires_grad = False)"
   ]
  },
  {
   "cell_type": "code",
   "execution_count": 117,
   "metadata": {
    "collapsed": true
   },
   "outputs": [],
   "source": [
    "# Make the neural network\n",
    "model = torch.nn.Sequential(torch.nn.Linear(32, 21),\n",
    "                            torch.nn.ReLU(),\n",
    "                            torch.nn.Linear(21, 14),\n",
    "                            torch.nn.ReLU(),\n",
    "                            torch.nn.Linear(14, 9),\n",
    "                            torch.nn.ReLU(),\n",
    "                            torch.nn.Linear(9, 6),\n",
    "                            torch.nn.ReLU(),\n",
    "                            torch.nn.Linear(6, 4),\n",
    "                            torch.nn.ReLU(),\n",
    "                            torch.nn.Linear(4, 3),\n",
    "                            torch.nn.ReLU(),\n",
    "                            torch.nn.Linear(3, 2),\n",
    "                            torch.nn.ReLU(),\n",
    "                            torch.nn.Linear(2, 1))"
   ]
  },
  {
   "cell_type": "code",
   "execution_count": 118,
   "metadata": {
    "collapsed": true
   },
   "outputs": [],
   "source": [
    "# To add errors to\n",
    "errors = []\n",
    "\n",
    "\n",
    "# Set the learning rate\n",
    "learning_rate = 5e-6\n",
    "\n",
    "\n",
    "# Train the neural network\n",
    "for t in range(10000):\n",
    "    \n",
    "    # Get the current predictions\n",
    "    y_pred = model(features_Variable)\n",
    "    \n",
    "    # Compute and append current summed errors\n",
    "    loss = loss_fn(y_pred, outcomes_Variable)\n",
    "    errors.append(loss.data[0])\n",
    "    \n",
    "    # Zero the gradients before running the backward pass.\n",
    "    model.zero_grad()\n",
    "    \n",
    "    # Backward pass: compute gradient of the loss with respect to all the learnable Variables\n",
    "    loss.backward()\n",
    "    \n",
    "    # Update the weights using gradient descent\n",
    "    for param in model.parameters():\n",
    "        param.data -= learning_rate * param.grad.data"
   ]
  },
  {
   "cell_type": "code",
   "execution_count": 119,
   "metadata": {
    "collapsed": false
   },
   "outputs": [
    {
     "data": {
      "text/plain": [
       "<matplotlib.collections.PathCollection at 0x7fb8c1424550>"
      ]
     },
     "execution_count": 119,
     "metadata": {},
     "output_type": "execute_result"
    },
    {
     "data": {
      "image/png": "[encoded data removed]",
      "text/plain": [
       "<matplotlib.figure.Figure at 0x7fb8c16ccf28>"
      ]
     },
     "metadata": {},
     "output_type": "display_data"
    }
   ],
   "source": [
    "# Plot summed error as a function of iteration\n",
    "plt.scatter(iterations, errors)"
   ]
  },
  {
   "cell_type": "code",
   "execution_count": 120,
   "metadata": {
    "collapsed": true
   },
   "outputs": [],
   "source": [
    "# Get rid of the 2nd dimension of 1 from the FloatTensor\n",
    "y_pred_resized = y_pred.resize(8230)\n",
    "\n",
    "\n",
    "# Make the FloatTensor into a numpy.array\n",
    "y_pred_array = y_pred_resized.data.numpy()\n",
    "\n",
    "\n",
    "# Make the numpy.array into a list\n",
    "y_pred_list = y_pred_array.tolist()"
   ]
  },
  {
   "cell_type": "code",
   "execution_count": 121,
   "metadata": {
    "collapsed": false
   },
   "outputs": [
    {
     "data": {
      "text/plain": [
       "[<matplotlib.lines.Line2D at 0x7fb8c16a75c0>]"
      ]
     },
     "execution_count": 121,
     "metadata": {},
     "output_type": "execute_result"
    },
    {
     "data": {
      "image/png": "[encoded data removed]",
      "text/plain": [
       "<matplotlib.figure.Figure at 0x7fb8c154e5f8>"
      ]
     },
     "metadata": {},
     "output_type": "display_data"
    }
   ],
   "source": [
    "# Plot predictions versus training set outcomes\n",
    "plt.scatter(outcomes_list, y_pred_list, c = \"black\", alpha = 0.15)\n",
    "\n",
    "axes = plt.gca()\n",
    "\n",
    "axes.set_xlim([-2, 4])\n",
    "\n",
    "axes.set_ylim([-2, 4])\n",
    "\n",
    "plt.plot([-2, 4], [-2, 4], 'k-', lw=2)"
   ]
  },
  {
   "cell_type": "markdown",
   "metadata": {},
   "source": [
    "### Round 7.1: Validation Set Performance"
   ]
  },
  {
   "cell_type": "code",
   "execution_count": 122,
   "metadata": {
    "collapsed": false
   },
   "outputs": [
    {
     "data": {
      "text/plain": [
       "Variable containing:\n",
       " 474.4272\n",
       "[torch.FloatTensor of size 1]"
      ]
     },
     "execution_count": 122,
     "metadata": {},
     "output_type": "execute_result"
    }
   ],
   "source": [
    "# Get the validation set predictions\n",
    "y_valid_pred = model(valid_predictors_Variable)\n",
    "\n",
    "\n",
    "# Print the loss\n",
    "loss_fn(y_valid_pred,\n",
    "        valid_outcomes_Variable)"
   ]
  },
  {
   "cell_type": "code",
   "execution_count": 123,
   "metadata": {
    "collapsed": true
   },
   "outputs": [],
   "source": [
    "# Get rid of the 2nd dimension of 1 from the FloatTensor\n",
    "y_valid_pred_resized = y_valid_pred.resize(2748)\n",
    "\n",
    "\n",
    "# Make the FloatTensor into a numpy.array\n",
    "y_valid_pred_array = y_valid_pred_resized.data.numpy()\n",
    "\n",
    "\n",
    "# Make the numpy.array into a list\n",
    "y_valid_pred_list = y_valid_pred_array.tolist()"
   ]
  },
  {
   "cell_type": "code",
   "execution_count": 124,
   "metadata": {
    "collapsed": false
   },
   "outputs": [
    {
     "data": {
      "text/plain": [
       "[<matplotlib.lines.Line2D at 0x7fb8c134e978>]"
      ]
     },
     "execution_count": 124,
     "metadata": {},
     "output_type": "execute_result"
    },
    {
     "data": {
      "image/png": "[encoded data removed]",
      "text/plain": [
       "<matplotlib.figure.Figure at 0x7fb8c134ea58>"
      ]
     },
     "metadata": {},
     "output_type": "display_data"
    }
   ],
   "source": [
    "# Plot new predictions versus new data outcomes\n",
    "plt.scatter(valid_outcomes_list, y_valid_pred_list, c = \"black\", alpha = 0.15)\n",
    "\n",
    "axes = plt.gca()\n",
    "\n",
    "axes.set_xlim([-2, 4])\n",
    "\n",
    "axes.set_ylim([-2, 4])\n",
    "\n",
    "plt.plot([-2, 4], [-2, 4], 'k-', lw=2)"
   ]
  },
  {
   "cell_type": "markdown",
   "metadata": {},
   "source": [
    "### Round 7.2: Test Set Performance"
   ]
  },
  {
   "cell_type": "code",
   "execution_count": 125,
   "metadata": {
    "collapsed": false
   },
   "outputs": [
    {
     "data": {
      "text/plain": [
       "Variable containing:\n",
       " 463.4874\n",
       "[torch.FloatTensor of size 1]"
      ]
     },
     "execution_count": 125,
     "metadata": {},
     "output_type": "execute_result"
    }
   ],
   "source": [
    "# Get the validation set predictions\n",
    "y_test_pred = model(test_predictors_Variable)\n",
    "\n",
    "\n",
    "# Print the loss\n",
    "loss_fn(y_test_pred,\n",
    "        test_outcomes_Variable)"
   ]
  },
  {
   "cell_type": "code",
   "execution_count": 126,
   "metadata": {
    "collapsed": true
   },
   "outputs": [],
   "source": [
    "# Get rid of the 2nd dimension of 1 from the FloatTensor\n",
    "y_test_pred_resized = y_test_pred.resize(2699)\n",
    "\n",
    "\n",
    "# Make the FloatTensor into a numpy.array\n",
    "y_test_pred_array = y_test_pred_resized.data.numpy()\n",
    "\n",
    "\n",
    "# Convert back to native units and scale\n",
    "y_test_pred_array = y_test_pred_array*5.41747 + 7.67485\n",
    "\n",
    "\n",
    "# Make the numpy.array into a list\n",
    "y_test_pred_list = y_test_pred_array.tolist()"
   ]
  },
  {
   "cell_type": "code",
   "execution_count": 127,
   "metadata": {
    "collapsed": false
   },
   "outputs": [
    {
     "data": {
      "text/plain": [
       "<matplotlib.text.Text at 0x7fb8c12ae438>"
      ]
     },
     "execution_count": 127,
     "metadata": {},
     "output_type": "execute_result"
    },
    {
     "data": {
      "image/png": "[encoded data removed]",
      "text/plain": [
       "<matplotlib.figure.Figure at 0x7fb8c131c2b0>"
      ]
     },
     "metadata": {},
     "output_type": "display_data"
    }
   ],
   "source": [
    "# Plot new predictions versus new data outcomes\n",
    "plt.scatter(test_outcomes_list, y_test_pred_list, c = \"black\", alpha = 0.15)\n",
    "\n",
    "axes = plt.gca()\n",
    "\n",
    "axes.set_xlim([2, 23])\n",
    "\n",
    "axes.set_ylim([2, 23])\n",
    "\n",
    "axes.set_xticks([2, 5, 8, 11, 14, 17, 20, 23])\n",
    "\n",
    "axes.set_yticks([2, 5, 8, 11, 14, 17, 20, 23])\n",
    "\n",
    "plt.plot([2, 23], [2, 23], 'k-', lw=2)\n",
    "\n",
    "axes.set_xlabel(\"Actual Outcome (Log-Transformed US Dollars)\")\n",
    "\n",
    "axes.set_ylabel(\"Model Prediction (Log-Transformed US Dollars)\")\n",
    "\n",
    "axes.set_title(\"Model Performance\")"
   ]
  },
  {
   "cell_type": "code",
   "execution_count": 128,
   "metadata": {
    "collapsed": false
   },
   "outputs": [
    {
     "data": {
      "text/plain": [
       "Parameter containing:\n",
       "\n",
       "Columns 0 to 9 \n",
       "-0.1318  0.0740 -0.1067 -0.0350  0.1403  0.0839 -0.0732  0.1681  0.1397  0.0127\n",
       "-0.1693 -0.0837  0.0919  0.0489  0.0547  0.0012  0.0575  0.1612  0.0367  0.0589\n",
       " 0.0220  0.1051  0.1496 -0.1253  0.0182 -0.0406  0.0162  0.0703  0.1215 -0.0364\n",
       " 0.0432  0.0875  0.1251 -0.0321  0.0334  0.1140 -0.0499 -0.0334 -0.1423 -0.0269\n",
       "-0.1350  0.0871 -0.0085  0.0581  0.0097 -0.0447  0.0763 -0.0615  0.0751 -0.1750\n",
       "-0.1052  0.0029 -0.1697  0.0817 -0.0616  0.1450 -0.0347 -0.0527  0.0091 -0.1727\n",
       "-0.1613  0.1496  0.0938 -0.0985  0.1704 -0.1321 -0.0876 -0.0220  0.1667  0.1754\n",
       " 0.0366  0.0618 -0.1718 -0.0990 -0.1506  0.0330 -0.1237 -0.0863  0.0476 -0.0208\n",
       " 0.1224  0.0110 -0.0401  0.1645  0.1327 -0.1091 -0.1516 -0.0450  0.0954  0.1417\n",
       "-0.0572 -0.0247 -0.1363 -0.1601 -0.0199  0.0999  0.1125 -0.0917  0.0146  0.0754\n",
       " 0.0222  0.0385  0.0742 -0.0229 -0.0523 -0.0010 -0.0261  0.1321  0.1032  0.0084\n",
       " 0.0338 -0.0530  0.1692 -0.0567  0.0116 -0.1466 -0.1130  0.1510 -0.0343  0.0360\n",
       "-0.1540  0.1382 -0.0439 -0.0300  0.1142  0.0847  0.1113  0.0091 -0.1217  0.1336\n",
       " 0.1566  0.0951 -0.0031  0.0324  0.1046 -0.0491 -0.1044  0.1037  0.1073  0.0056\n",
       "-0.0979  0.1678 -0.1130 -0.0720 -0.0392 -0.0936  0.1576 -0.0564 -0.0231 -0.0744\n",
       " 0.0739 -0.0797 -0.0784  0.0663 -0.1032  0.0180  0.0579 -0.1537  0.0047 -0.0333\n",
       " 0.0675 -0.0770 -0.0776 -0.1081 -0.1231  0.1445 -0.1344 -0.0902 -0.1112  0.1483\n",
       " 0.1379  0.0998 -0.0856  0.0416  0.1404 -0.1305 -0.1437 -0.0900  0.0242  0.0631\n",
       "-0.0919 -0.0188 -0.1217 -0.1256 -0.1802 -0.0104  0.1491 -0.0018  0.0632  0.1737\n",
       " 0.0419  0.1032  0.0665 -0.1670 -0.0793 -0.1556 -0.0763 -0.1607 -0.1618 -0.0079\n",
       "-0.0461 -0.0017  0.0712  0.1610  0.0926 -0.0493 -0.1112 -0.0004 -0.1435 -0.1314\n",
       "\n",
       "Columns 10 to 19 \n",
       "-0.0886 -0.1604  0.1242  0.0232  0.1483 -0.0182 -0.0492 -0.1326  0.0467  0.0536\n",
       " 0.1766  0.0450 -0.1231  0.1071  0.0345 -0.1210  0.0125  0.1368  0.0228  0.0218\n",
       " 0.1137  0.0652 -0.1614  0.1332  0.0902  0.0902  0.0652 -0.0188 -0.1185  0.0953\n",
       " 0.0496  0.1736  0.1401  0.1617  0.1139  0.0660 -0.1702 -0.1012 -0.0826  0.1091\n",
       "-0.1407 -0.1176 -0.0948 -0.0020  0.1748 -0.0544  0.1648 -0.0608 -0.1088  0.0041\n",
       " 0.0264  0.1591 -0.1734  0.1227  0.0966  0.0608 -0.1466  0.0498  0.1159  0.0059\n",
       "-0.0534 -0.1381  0.0005 -0.1290 -0.1191 -0.0773  0.0696 -0.0036  0.0482 -0.0104\n",
       " 0.0556 -0.1200  0.1545  0.0412  0.0764 -0.1088  0.0584  0.1393 -0.1562  0.0649\n",
       "-0.0241  0.0941  0.1025 -0.1500 -0.0804  0.1478 -0.1430  0.1031 -0.1324  0.1032\n",
       " 0.0381 -0.1344  0.1363  0.0888 -0.0274 -0.0207 -0.0417 -0.1071 -0.0896  0.0283\n",
       " 0.1217 -0.0988  0.1087 -0.1709 -0.1614  0.1367 -0.0635 -0.0469 -0.0525  0.1293\n",
       " 0.0598  0.0371  0.1296 -0.0402 -0.0220 -0.0850  0.1501  0.0567  0.0646  0.0055\n",
       " 0.0824 -0.0407 -0.0323  0.0352 -0.1049  0.0341  0.1177  0.0815  0.1243 -0.0072\n",
       "-0.0949 -0.0058 -0.1535 -0.0114  0.0025  0.1317 -0.0430  0.0547 -0.1481 -0.0583\n",
       " 0.1447 -0.0055  0.1326 -0.1511 -0.0876  0.0707  0.1139 -0.1559 -0.0873 -0.1415\n",
       "-0.1115  0.1469  0.1152 -0.0137 -0.0635 -0.0625 -0.0727  0.0814  0.0856  0.0534\n",
       "-0.0296  0.0903 -0.0980  0.1358  0.1219 -0.0573  0.1095 -0.0157  0.0259  0.0986\n",
       "-0.1574  0.0558  0.0985 -0.0228  0.0756  0.1393 -0.0379  0.1675 -0.0144 -0.1000\n",
       " 0.0286 -0.0151 -0.0422 -0.0195  0.0891  0.0260  0.1666  0.1702  0.1738  0.1344\n",
       " 0.0638  0.0536 -0.0408  0.0360  0.0790 -0.1197 -0.1426  0.1540  0.1041 -0.0650\n",
       " 0.1443  0.0171  0.0909 -0.1497 -0.0494  0.1438  0.1758  0.1698  0.0417 -0.1086\n",
       "\n",
       "Columns 20 to 29 \n",
       "-0.1201  0.0509  0.0574  0.1199  0.0302 -0.0338 -0.0567  0.1600  0.0045 -0.0654\n",
       " 0.0668 -0.0445 -0.0600  0.0849  0.0948  0.1007 -0.1507 -0.1257  0.0816  0.0425\n",
       "-0.0650  0.1725  0.0518 -0.0402 -0.0218  0.0252 -0.1767  0.1429  0.1062  0.0333\n",
       "-0.1074 -0.0872 -0.0803  0.0791 -0.0542  0.1674 -0.0576 -0.1371  0.1100  0.1752\n",
       "-0.0010 -0.0575  0.0192 -0.0088  0.1316 -0.0885 -0.1154  0.0902 -0.1688 -0.1521\n",
       "-0.1448 -0.0260 -0.0856 -0.0232  0.0945  0.0989 -0.0513  0.1113  0.0403  0.0939\n",
       "-0.0147  0.0594  0.0597 -0.0869 -0.1552 -0.1411  0.1215 -0.0273  0.0200  0.0255\n",
       "-0.1649 -0.1360 -0.1152 -0.0310  0.0964 -0.0052 -0.1852 -0.0162  0.0220 -0.1355\n",
       "-0.1736 -0.0082 -0.1273 -0.0448  0.0208  0.0351 -0.1528 -0.0596  0.0090 -0.0952\n",
       "-0.1405  0.1418 -0.1361 -0.0198 -0.1589 -0.0346 -0.0926  0.1519 -0.1596 -0.1282\n",
       "-0.1347  0.0770  0.1501  0.0474 -0.0641 -0.1282  0.0842 -0.0018  0.0986 -0.0176\n",
       "-0.1324  0.1274 -0.1382  0.0354 -0.0507  0.0101  0.0587 -0.1499 -0.0283 -0.0226\n",
       "-0.0474 -0.0985  0.0908 -0.0303  0.0324 -0.1757 -0.0510 -0.0436  0.0477  0.1658\n",
       "-0.0016 -0.1461 -0.0631 -0.1188  0.0780 -0.0322 -0.1245  0.0510 -0.0762 -0.1220\n",
       " 0.1557 -0.0921 -0.0331  0.0750  0.0649 -0.0582  0.0444  0.0097 -0.1549  0.0078\n",
       " 0.0835  0.0528  0.1150  0.1014 -0.1086  0.1336  0.0641  0.0552  0.1115  0.0067\n",
       "-0.1728  0.0972  0.0746 -0.1364 -0.1468  0.1218 -0.1264 -0.1473  0.0988 -0.1231\n",
       " 0.0661 -0.0498 -0.1833 -0.1059  0.0425  0.0178 -0.0095 -0.1452  0.0143 -0.1591\n",
       "-0.1031 -0.1517 -0.0647 -0.1255 -0.0947 -0.1381 -0.1800  0.0512  0.1008  0.0152\n",
       "-0.0029 -0.0395 -0.1568 -0.1043  0.1452 -0.1109 -0.0307  0.1105 -0.0741  0.1377\n",
       " 0.0880  0.1648  0.1301 -0.1270 -0.1161  0.1403  0.0426  0.0628  0.0709 -0.0100\n",
       "\n",
       "Columns 30 to 31 \n",
       "-0.0193  0.0185\n",
       "-0.0086 -0.1409\n",
       "-0.1258 -0.0158\n",
       "-0.0156  0.0253\n",
       " 0.1571  0.0454\n",
       " 0.0307 -0.0137\n",
       "-0.1563 -0.0580\n",
       " 0.1472 -0.1216\n",
       "-0.0405 -0.1662\n",
       "-0.1356 -0.0905\n",
       "-0.1067 -0.0835\n",
       " 0.1010 -0.0482\n",
       "-0.0531  0.0133\n",
       " 0.0055  0.1043\n",
       "-0.0596  0.0121\n",
       "-0.0105 -0.0716\n",
       "-0.1783 -0.0657\n",
       " 0.1555 -0.0305\n",
       " 0.0876  0.1245\n",
       "-0.1228 -0.0519\n",
       "-0.0761 -0.1104\n",
       "[torch.FloatTensor of size 21x32]"
      ]
     },
     "execution_count": 128,
     "metadata": {},
     "output_type": "execute_result"
    }
   ],
   "source": [
    "model[(0)].weight"
   ]
  },
  {
   "cell_type": "code",
   "execution_count": 129,
   "metadata": {
    "collapsed": false
   },
   "outputs": [
    {
     "data": {
      "text/plain": [
       "Parameter containing:\n",
       "\n",
       "Columns 0 to 9 \n",
       "-0.1070  0.0014 -0.2064  0.1145  0.0690 -0.1283 -0.2037 -0.0088  0.0915 -0.1874\n",
       "-0.0280  0.0065 -0.2116 -0.0716  0.2172  0.0734  0.0439  0.0085  0.0106  0.1902\n",
       "-0.0253  0.0007  0.1300  0.0873 -0.1109 -0.0125 -0.1259 -0.2093  0.1419 -0.0683\n",
       "-0.0980  0.0545 -0.0236  0.2141  0.0706 -0.1565 -0.0599  0.0999  0.0912  0.0353\n",
       "-0.0857 -0.0895  0.1608  0.0189  0.0885  0.0417 -0.1007 -0.0021  0.0855 -0.1026\n",
       " 0.1816  0.0561  0.0051  0.1310  0.1580 -0.1403 -0.0313 -0.0278 -0.1713  0.0594\n",
       "-0.1231  0.1724 -0.1353  0.0083  0.1679 -0.0398 -0.0178  0.0168 -0.1218 -0.0495\n",
       "-0.0088  0.1242  0.0941  0.1588  0.1772 -0.1966 -0.0827  0.2356 -0.1608 -0.0896\n",
       " 0.1274  0.0606 -0.0354  0.1048 -0.1296 -0.1776  0.1430  0.0576  0.1836 -0.1358\n",
       "-0.0029  0.1170  0.1372 -0.2114 -0.2096  0.0542 -0.0540  0.0190  0.1679  0.1937\n",
       "-0.0967 -0.1117 -0.0322 -0.1513  0.1679 -0.1494  0.0995 -0.0686  0.1967  0.1881\n",
       " 0.0057 -0.1013 -0.1002 -0.0124  0.0948  0.0000  0.0341 -0.1073  0.0919 -0.1975\n",
       " 0.0977 -0.0372  0.1260  0.1659  0.0112  0.0656 -0.0355  0.1262 -0.1947  0.1900\n",
       " 0.0805 -0.1027 -0.1685 -0.1414 -0.1046 -0.1578  0.1777  0.1043 -0.1223 -0.2018\n",
       "\n",
       "Columns 10 to 19 \n",
       "-0.1943 -0.1792  0.1860  0.0089  0.1891 -0.0092 -0.0520  0.0352 -0.0223  0.1387\n",
       " 0.2062 -0.1084 -0.0332 -0.1422  0.0395  0.0743 -0.0755  0.1158 -0.0397  0.1528\n",
       " 0.0004  0.1883  0.0372 -0.0079  0.1837 -0.1914  0.1804 -0.1152  0.1347 -0.0045\n",
       "-0.1250 -0.0800  0.0873  0.0247 -0.1681  0.1601  0.1243  0.2074  0.0542  0.0039\n",
       "-0.0159  0.0231  0.1213 -0.1556 -0.1049  0.1593  0.1790  0.0109 -0.1825 -0.0889\n",
       " 0.0591  0.0863  0.1488  0.1903 -0.2139  0.1198 -0.1946 -0.0273  0.0175  0.0058\n",
       "-0.1009  0.2179  0.0437 -0.1966  0.1130 -0.0207 -0.1368  0.0844 -0.1243  0.1377\n",
       " 0.1833  0.0044  0.1886  0.1081 -0.0077 -0.1455  0.2255  0.1200 -0.1508  0.0644\n",
       "-0.0537 -0.1014 -0.1937  0.0056 -0.1385  0.1222 -0.2119  0.0921 -0.2133 -0.1780\n",
       " 0.2067  0.1457  0.0790  0.1369 -0.1174  0.0581 -0.1393 -0.1039 -0.1833  0.1684\n",
       "-0.2103 -0.2058  0.1016 -0.1145 -0.2088 -0.0136  0.1047 -0.0739  0.1956  0.0572\n",
       " 0.0210  0.1563  0.0718 -0.1918  0.0275 -0.0015  0.0799  0.1330  0.2304  0.1897\n",
       " 0.0632 -0.2024 -0.1606 -0.0885  0.0533 -0.1854  0.1033 -0.0283  0.1649  0.1450\n",
       "-0.0038  0.0993 -0.1843 -0.1445 -0.2098  0.1305  0.2122 -0.0850 -0.0129  0.1577\n",
       "\n",
       "Columns 20 to 20 \n",
       " 0.1386\n",
       " 0.1781\n",
       "-0.1097\n",
       " 0.0260\n",
       "-0.1695\n",
       "-0.1886\n",
       " 0.1929\n",
       "-0.0737\n",
       " 0.1700\n",
       "-0.0759\n",
       " 0.1878\n",
       " 0.0578\n",
       " 0.0288\n",
       " 0.0089\n",
       "[torch.FloatTensor of size 14x21]"
      ]
     },
     "execution_count": 129,
     "metadata": {},
     "output_type": "execute_result"
    }
   ],
   "source": [
    "model[(2)].weight"
   ]
  },
  {
   "cell_type": "code",
   "execution_count": 130,
   "metadata": {
    "collapsed": false
   },
   "outputs": [
    {
     "data": {
      "text/plain": [
       "Parameter containing:\n",
       "\n",
       "Columns 0 to 9 \n",
       "-0.2589 -0.0209 -0.2146  0.0983 -0.2538  0.0082 -0.2034 -0.1352  0.1754 -0.2278\n",
       "-0.2070 -0.1376 -0.1420 -0.0416  0.0625  0.0801  0.0484 -0.1560 -0.0761  0.1142\n",
       "-0.1439  0.0770 -0.2205 -0.1621  0.0111  0.0735  0.1822 -0.1895  0.2111  0.1663\n",
       " 0.2073  0.1536 -0.0171  0.0007  0.1462 -0.1959  0.0306  0.2272 -0.1901 -0.1933\n",
       " 0.2366  0.0725 -0.0488  0.0294  0.0161  0.2105  0.1266 -0.1524 -0.2674  0.2046\n",
       " 0.2259 -0.1412  0.2639  0.2148  0.0775 -0.1702  0.2238  0.1573 -0.0437 -0.0238\n",
       " 0.1841  0.2360  0.1616  0.1916 -0.1850  0.0680  0.0595  0.1077  0.0898  0.1982\n",
       "-0.2434 -0.2204 -0.0725  0.0466 -0.0563 -0.1058  0.1536  0.2753 -0.0177 -0.1903\n",
       " 0.2375 -0.0256  0.2332 -0.1581 -0.1505  0.1959  0.2653 -0.2114 -0.2215  0.0202\n",
       "\n",
       "Columns 10 to 13 \n",
       "-0.0418  0.2312 -0.0960 -0.1762\n",
       " 0.0059 -0.0571 -0.1091 -0.1419\n",
       "-0.0865  0.2265  0.0912 -0.0147\n",
       " 0.1183  0.0282  0.2538 -0.1561\n",
       "-0.1586 -0.0186  0.1459 -0.2102\n",
       "-0.0227 -0.1870 -0.1861  0.0318\n",
       " 0.1961 -0.1661 -0.1838 -0.0861\n",
       " 0.0645  0.2311  0.2971  0.2149\n",
       "-0.2379 -0.1983 -0.1869 -0.2004\n",
       "[torch.FloatTensor of size 9x14]"
      ]
     },
     "execution_count": 130,
     "metadata": {},
     "output_type": "execute_result"
    }
   ],
   "source": [
    "model[(4)].weight"
   ]
  },
  {
   "cell_type": "code",
   "execution_count": 131,
   "metadata": {
    "collapsed": false
   },
   "outputs": [
    {
     "data": {
      "text/plain": [
       "Parameter containing:\n",
       " 0.2351 -0.0257 -0.0050  0.3427  0.1286  0.2375 -0.1519  0.2845 -0.0830\n",
       " 0.0768 -0.2483 -0.3301 -0.2234  0.0202 -0.2776  0.3252 -0.0708 -0.1604\n",
       "-0.2216 -0.1218 -0.2052 -0.1190  0.3315  0.2531 -0.0210 -0.0136 -0.1278\n",
       " 0.2989  0.0487  0.0808 -0.2328  0.1512  0.3274 -0.1528  0.2162  0.1295\n",
       "-0.1101  0.0472  0.0840 -0.0844  0.2870 -0.1831 -0.1859 -0.2578  0.3114\n",
       "-0.1161 -0.1332 -0.0707 -0.3289 -0.0336 -0.1789 -0.1408  0.0104  0.2758\n",
       "[torch.FloatTensor of size 6x9]"
      ]
     },
     "execution_count": 131,
     "metadata": {},
     "output_type": "execute_result"
    }
   ],
   "source": [
    "model[(6)].weight"
   ]
  },
  {
   "cell_type": "code",
   "execution_count": 132,
   "metadata": {
    "collapsed": false
   },
   "outputs": [
    {
     "data": {
      "text/plain": [
       "Parameter containing:\n",
       " 0.0716 -0.1003  0.3905 -0.0170  0.2004 -0.0932\n",
       "-0.2608 -0.0612  0.0401 -0.0665 -0.2342 -0.3890\n",
       "-0.0452 -0.3588 -0.3162 -0.1918  0.3729  0.2684\n",
       " 0.3959 -0.0293  0.2146  0.2665 -0.1666  0.3941\n",
       "[torch.FloatTensor of size 4x6]"
      ]
     },
     "execution_count": 132,
     "metadata": {},
     "output_type": "execute_result"
    }
   ],
   "source": [
    "model[(8)].weight"
   ]
  },
  {
   "cell_type": "code",
   "execution_count": 133,
   "metadata": {
    "collapsed": false
   },
   "outputs": [
    {
     "data": {
      "text/plain": [
       "Parameter containing:\n",
       " 0.1799  0.0095 -0.2510 -0.0272\n",
       "-0.0119  0.4875 -0.0523 -0.3643\n",
       "-0.3831  0.4906 -0.3999 -0.3185\n",
       "[torch.FloatTensor of size 3x4]"
      ]
     },
     "execution_count": 133,
     "metadata": {},
     "output_type": "execute_result"
    }
   ],
   "source": [
    "model[(10)].weight"
   ]
  },
  {
   "cell_type": "code",
   "execution_count": 134,
   "metadata": {
    "collapsed": false
   },
   "outputs": [
    {
     "data": {
      "text/plain": [
       "Parameter containing:\n",
       " 0.5403  0.2611 -0.5264\n",
       "-0.2476 -0.2923 -0.4936\n",
       "[torch.FloatTensor of size 2x3]"
      ]
     },
     "execution_count": 134,
     "metadata": {},
     "output_type": "execute_result"
    }
   ],
   "source": [
    "model[(12)].weight"
   ]
  },
  {
   "cell_type": "code",
   "execution_count": 135,
   "metadata": {
    "collapsed": false
   },
   "outputs": [
    {
     "data": {
      "text/plain": [
       "Parameter containing:\n",
       " 0.6254 -0.4062\n",
       "[torch.FloatTensor of size 1x2]"
      ]
     },
     "execution_count": 135,
     "metadata": {},
     "output_type": "execute_result"
    }
   ],
   "source": [
    "model[(14)].weight"
   ]
  },
  {
   "cell_type": "markdown",
   "metadata": {},
   "source": [
    "## Round 8: Linear Regression"
   ]
  },
  {
   "cell_type": "code",
   "execution_count": 136,
   "metadata": {
    "collapsed": true
   },
   "outputs": [],
   "source": [
    "# Make the torch Tensor into a PyTorch Variable for dependent variables\n",
    "outcomes_Variable = Variable(outcomes_Tensor)\n",
    "\n",
    "\n",
    "# ...for independent variables\n",
    "features_Variable = Variable(features_Tensor,\n",
    "                             requires_grad = False)"
   ]
  },
  {
   "cell_type": "code",
   "execution_count": 137,
   "metadata": {
    "collapsed": true
   },
   "outputs": [],
   "source": [
    "# Make the neural network - really a regression\n",
    "model = torch.nn.Sequential(torch.nn.Linear(32, 1))"
   ]
  },
  {
   "cell_type": "code",
   "execution_count": 138,
   "metadata": {
    "collapsed": false
   },
   "outputs": [],
   "source": [
    "# To add errors to\n",
    "errors = []\n",
    "\n",
    "\n",
    "# Set the learning rate\n",
    "learning_rate = 4e-6\n",
    "\n",
    "\n",
    "# Train the neural network\n",
    "for t in range(10000):\n",
    "    \n",
    "    # Get the current predictions\n",
    "    y_pred = model(features_Variable)\n",
    "    \n",
    "    # Compute and append current summed errors\n",
    "    loss = loss_fn(y_pred, outcomes_Variable)\n",
    "    errors.append(loss.data[0])\n",
    "    \n",
    "    # Zero the gradients before running the backward pass.\n",
    "    model.zero_grad()\n",
    "    \n",
    "    # Backward pass: compute gradient of the loss with respect to all the learnable Variables\n",
    "    loss.backward()\n",
    "    \n",
    "    # Update the weights using gradient descent\n",
    "    for param in model.parameters():\n",
    "        param.data -= learning_rate * param.grad.data"
   ]
  },
  {
   "cell_type": "code",
   "execution_count": 139,
   "metadata": {
    "collapsed": false
   },
   "outputs": [
    {
     "data": {
      "text/plain": [
       "<matplotlib.collections.PathCollection at 0x7fb8c11e0cc0>"
      ]
     },
     "execution_count": 139,
     "metadata": {},
     "output_type": "execute_result"
    },
    {
     "data": {
      "image/png": "[encoded data removed]",
      "text/plain": [
       "<matplotlib.figure.Figure at 0x7fb8c126d160>"
      ]
     },
     "metadata": {},
     "output_type": "display_data"
    }
   ],
   "source": [
    "# Plot summed error as a function of iteration\n",
    "plt.scatter(iterations, errors)"
   ]
  },
  {
   "cell_type": "code",
   "execution_count": 140,
   "metadata": {
    "collapsed": false
   },
   "outputs": [],
   "source": [
    "# Get rid of the 2nd dimension of 1 from the FloatTensor\n",
    "y_pred_resized = y_pred.resize(8230)\n",
    "\n",
    "\n",
    "# Make the FloatTensor into a numpy.array\n",
    "y_pred_array = y_pred_resized.data.numpy()\n",
    "\n",
    "\n",
    "# Make the numpy.array into a list\n",
    "y_pred_list = y_pred_array.tolist()"
   ]
  },
  {
   "cell_type": "code",
   "execution_count": 141,
   "metadata": {
    "collapsed": false
   },
   "outputs": [
    {
     "data": {
      "text/plain": [
       "[<matplotlib.lines.Line2D at 0x7fb8c1212550>]"
      ]
     },
     "execution_count": 141,
     "metadata": {},
     "output_type": "execute_result"
    },
    {
     "data": {
      "image/png": "[encoded data removed]",
      "text/plain": [
       "<matplotlib.figure.Figure at 0x7fb8c1212390>"
      ]
     },
     "metadata": {},
     "output_type": "display_data"
    }
   ],
   "source": [
    "# Plot predictions versus training set outcomes\n",
    "plt.scatter(outcomes_list, y_pred_list, c = \"black\", alpha = 0.15)\n",
    "\n",
    "axes = plt.gca()\n",
    "\n",
    "axes.set_xlim([-2, 4])\n",
    "\n",
    "axes.set_ylim([-2, 4])\n",
    "\n",
    "plt.plot([-2, 4], [-2, 4], 'k-', lw=2)"
   ]
  },
  {
   "cell_type": "markdown",
   "metadata": {
    "collapsed": false
   },
   "source": [
    "### Round 8.1: Validation Set Performance"
   ]
  },
  {
   "cell_type": "code",
   "execution_count": 142,
   "metadata": {
    "collapsed": false
   },
   "outputs": [
    {
     "data": {
      "text/plain": [
       "Variable containing:\n",
       " 282.1913\n",
       "[torch.FloatTensor of size 1]"
      ]
     },
     "execution_count": 142,
     "metadata": {},
     "output_type": "execute_result"
    }
   ],
   "source": [
    "# Get the validation set predictions\n",
    "y_valid_pred = model(valid_predictors_Variable)\n",
    "\n",
    "\n",
    "# Print the loss\n",
    "loss_fn(y_valid_pred,\n",
    "        valid_outcomes_Variable)"
   ]
  },
  {
   "cell_type": "code",
   "execution_count": 143,
   "metadata": {
    "collapsed": true
   },
   "outputs": [],
   "source": [
    "# Get rid of the 2nd dimension of 1 from the FloatTensor\n",
    "y_valid_pred_resized = y_valid_pred.resize(2748)\n",
    "\n",
    "\n",
    "# Make the FloatTensor into a numpy.array\n",
    "y_valid_pred_array = y_valid_pred_resized.data.numpy()\n",
    "\n",
    "\n",
    "# Make the numpy.array into a list\n",
    "y_valid_pred_list = y_valid_pred_array.tolist()"
   ]
  },
  {
   "cell_type": "code",
   "execution_count": 144,
   "metadata": {
    "collapsed": false
   },
   "outputs": [
    {
     "data": {
      "text/plain": [
       "[<matplotlib.lines.Line2D at 0x7fb8c1148780>]"
      ]
     },
     "execution_count": 144,
     "metadata": {},
     "output_type": "execute_result"
    },
    {
     "data": {
      "image/png": "[encoded data removed]",
      "text/plain": [
       "<matplotlib.figure.Figure at 0x7fb8c1148048>"
      ]
     },
     "metadata": {},
     "output_type": "display_data"
    }
   ],
   "source": [
    "# Plot new predictions versus new data outcomes\n",
    "plt.scatter(valid_outcomes_list, y_valid_pred_list, c = \"black\", alpha = 0.15)\n",
    "\n",
    "axes = plt.gca()\n",
    "\n",
    "axes.set_xlim([-2, 4])\n",
    "\n",
    "axes.set_ylim([-2, 4])\n",
    "\n",
    "plt.plot([-2, 4], [-2, 4], 'k-', lw=2)"
   ]
  },
  {
   "cell_type": "markdown",
   "metadata": {},
   "source": [
    "### Round 8.2: Test Set Performance"
   ]
  },
  {
   "cell_type": "code",
   "execution_count": 145,
   "metadata": {
    "collapsed": false
   },
   "outputs": [
    {
     "data": {
      "text/plain": [
       "Variable containing:\n",
       " 274.8005\n",
       "[torch.FloatTensor of size 1]"
      ]
     },
     "execution_count": 145,
     "metadata": {},
     "output_type": "execute_result"
    }
   ],
   "source": [
    "# Get the validation set predictions\n",
    "y_test_pred = model(test_predictors_Variable)\n",
    "\n",
    "\n",
    "# Print the loss\n",
    "loss_fn(y_test_pred,\n",
    "        test_outcomes_Variable)"
   ]
  },
  {
   "cell_type": "code",
   "execution_count": 146,
   "metadata": {
    "collapsed": true
   },
   "outputs": [],
   "source": [
    "# Get rid of the 2nd dimension of 1 from the FloatTensor\n",
    "y_test_pred_resized = y_test_pred.resize(2699)\n",
    "\n",
    "\n",
    "# Make the FloatTensor into a numpy.array\n",
    "y_test_pred_array = y_test_pred_resized.data.numpy()\n",
    "\n",
    "\n",
    "# Convert back to native units and scale\n",
    "y_test_pred_array = y_test_pred_array*5.41747 + 7.67485\n",
    "\n",
    "\n",
    "# Make the numpy.array into a list\n",
    "y_test_pred_list = y_test_pred_array.tolist()"
   ]
  },
  {
   "cell_type": "code",
   "execution_count": 147,
   "metadata": {
    "collapsed": false
   },
   "outputs": [
    {
     "data": {
      "text/plain": [
       "<matplotlib.text.Text at 0x7fb8c1062cf8>"
      ]
     },
     "execution_count": 147,
     "metadata": {},
     "output_type": "execute_result"
    },
    {
     "data": {
      "image/png": "[encoded data removed]",
      "text/plain": [
       "<matplotlib.figure.Figure at 0x7fb8c12c12b0>"
      ]
     },
     "metadata": {},
     "output_type": "display_data"
    }
   ],
   "source": [
    "# Plot new predictions versus new data outcomes\n",
    "plt.scatter(test_outcomes_list, y_test_pred_list, c = \"black\", alpha = 0.15)\n",
    "\n",
    "axes = plt.gca()\n",
    "\n",
    "axes.set_xlim([2, 23])\n",
    "\n",
    "axes.set_ylim([2, 23])\n",
    "\n",
    "axes.set_xticks([2, 5, 8, 11, 14, 17, 20, 23])\n",
    "\n",
    "axes.set_yticks([2, 5, 8, 11, 14, 17, 20, 23])\n",
    "\n",
    "plt.plot([2, 23], [2, 23], 'k-', lw=2)\n",
    "\n",
    "axes.set_xlabel(\"Actual Outcome (Log-Transformed US Dollars)\")\n",
    "\n",
    "axes.set_ylabel(\"Model Prediction (Log-Transformed US Dollars)\")\n",
    "\n",
    "axes.set_title(\"Model Performance\")"
   ]
  },
  {
   "cell_type": "code",
   "execution_count": 148,
   "metadata": {
    "collapsed": false
   },
   "outputs": [
    {
     "data": {
      "text/plain": [
       "Parameter containing:\n",
       "\n",
       "Columns 0 to 9 \n",
       " 0.0040  0.0156  0.0068  0.1541  0.1770 -0.0256 -0.0019 -0.0290  0.0351 -0.0208\n",
       "\n",
       "Columns 10 to 19 \n",
       " 0.0282 -0.0223  0.0184 -0.0214 -0.0034  0.0019 -0.0012  0.0164 -0.0054  0.0033\n",
       "\n",
       "Columns 20 to 29 \n",
       " 0.0082  0.0152  0.0527  0.0742  0.0139 -0.0025 -0.0755 -0.0076  0.0077  0.0370\n",
       "\n",
       "Columns 30 to 31 \n",
       " 0.0130 -0.0028\n",
       "[torch.FloatTensor of size 1x32]"
      ]
     },
     "execution_count": 148,
     "metadata": {},
     "output_type": "execute_result"
    }
   ],
   "source": [
    "model[(0)].weight"
   ]
  }
 ],
 "metadata": {
  "kernelspec": {
   "display_name": "Python 3",
   "language": "python",
   "name": "python3"
  },
  "language_info": {
   "codemirror_mode": {
    "name": "ipython",
    "version": 3
   },
   "file_extension": ".py",
   "mimetype": "text/x-python",
   "name": "python",
   "nbconvert_exporter": "python",
   "pygments_lexer": "ipython3",
   "version": "3.6.0"
  }
 },
 "nbformat": 4,
 "nbformat_minor": 2
}
